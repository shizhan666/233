{
 "cells": [
  {
   "cell_type": "code",
   "execution_count": 1,
   "id": "e6855a62",
   "metadata": {
    "_cell_guid": "943588d1-5a68-423d-8467-cf160a3d8ebe",
    "_uuid": "87c89b79-df99-4e99-bf2e-f62a5d325cc4",
    "collapsed": false,
    "execution": {
     "iopub.execute_input": "2022-03-27T17:52:14.958985Z",
     "iopub.status.busy": "2022-03-27T17:52:14.957943Z",
     "iopub.status.idle": "2022-03-27T17:52:28.449871Z",
     "shell.execute_reply": "2022-03-27T17:52:28.449097Z",
     "shell.execute_reply.started": "2022-03-27T17:46:51.458952Z"
    },
    "jupyter": {
     "outputs_hidden": false
    },
    "papermill": {
     "duration": 13.646533,
     "end_time": "2022-03-27T17:52:28.450088",
     "exception": false,
     "start_time": "2022-03-27T17:52:14.803555",
     "status": "completed"
    },
    "tags": []
   },
   "outputs": [
    {
     "name": "stdout",
     "output_type": "stream",
     "text": [
      "Requirement already satisfied: cudf in /opt/conda/lib/python3.7/site-packages (21.10.1)\r\n",
      "Requirement already satisfied: numba>=0.53.1 in /opt/conda/lib/python3.7/site-packages (from cudf) (0.54.1)\r\n",
      "Requirement already satisfied: Cython<0.30,>=0.29 in /opt/conda/lib/python3.7/site-packages (from cudf) (0.29.28)\r\n",
      "Requirement already satisfied: fastavro>=0.22.9 in /opt/conda/lib/python3.7/site-packages (from cudf) (1.4.9)\r\n",
      "Requirement already satisfied: fsspec>=0.6.0 in /opt/conda/lib/python3.7/site-packages (from cudf) (2022.2.0)\r\n",
      "Requirement already satisfied: numpy in /opt/conda/lib/python3.7/site-packages (from cudf) (1.20.3)\r\n",
      "Requirement already satisfied: pandas<1.4.0dev0,>=1.0 in /opt/conda/lib/python3.7/site-packages (from cudf) (1.3.5)\r\n",
      "Requirement already satisfied: typing_extensions in /opt/conda/lib/python3.7/site-packages (from cudf) (4.1.1)\r\n",
      "Requirement already satisfied: protobuf in /opt/conda/lib/python3.7/site-packages (from cudf) (3.19.1)\r\n",
      "Requirement already satisfied: nvtx>=0.2.1 in /opt/conda/lib/python3.7/site-packages (from cudf) (0.2.3)\r\n",
      "Requirement already satisfied: cachetools in /opt/conda/lib/python3.7/site-packages (from cudf) (4.2.4)\r\n",
      "Requirement already satisfied: packaging in /opt/conda/lib/python3.7/site-packages (from cudf) (21.3)\r\n",
      "Requirement already satisfied: cupy-cuda110 in /opt/conda/lib/python3.7/site-packages (from cudf) (10.2.0)\r\n",
      "Requirement already satisfied: llvmlite<0.38,>=0.37.0rc1 in /opt/conda/lib/python3.7/site-packages (from numba>=0.53.1->cudf) (0.37.0)\r\n",
      "Requirement already satisfied: setuptools in /opt/conda/lib/python3.7/site-packages (from numba>=0.53.1->cudf) (59.5.0)\r\n",
      "Requirement already satisfied: python-dateutil>=2.7.3 in /opt/conda/lib/python3.7/site-packages (from pandas<1.4.0dev0,>=1.0->cudf) (2.8.2)\r\n",
      "Requirement already satisfied: pytz>=2017.3 in /opt/conda/lib/python3.7/site-packages (from pandas<1.4.0dev0,>=1.0->cudf) (2021.3)\r\n",
      "Requirement already satisfied: fastrlock>=0.5 in /opt/conda/lib/python3.7/site-packages (from cupy-cuda110->cudf) (0.8)\r\n",
      "Requirement already satisfied: pyparsing!=3.0.5,>=2.0.2 in /opt/conda/lib/python3.7/site-packages (from packaging->cudf) (3.0.6)\r\n",
      "Requirement already satisfied: six>=1.5 in /opt/conda/lib/python3.7/site-packages (from python-dateutil>=2.7.3->pandas<1.4.0dev0,>=1.0->cudf) (1.16.0)\r\n",
      "\u001b[33mWARNING: Running pip as the 'root' user can result in broken permissions and conflicting behaviour with the system package manager. It is recommended to use a virtual environment instead: https://pip.pypa.io/warnings/venv\u001b[0m\r\n"
     ]
    }
   ],
   "source": [
    "!pip install cudf\n",
    "import numpy as np\n",
    "import pandas as pd \n",
    "from datetime import datetime, timedelta\n",
    "import gc\n",
    "import cudf\n",
    "import cv2, matplotlib.pyplot as plt\n",
    "from os.path import exists"
   ]
  },
  {
   "cell_type": "markdown",
   "id": "8abbc05b",
   "metadata": {
    "_cell_guid": "8f45c56c-8de5-4a93-896b-80dc8c3005fa",
    "_uuid": "3e5aa678-d15b-457d-8a0f-c4a59a8f4c8a",
    "editable": false,
    "papermill": {
     "duration": 0.140065,
     "end_time": "2022-03-27T17:52:28.738591",
     "exception": false,
     "start_time": "2022-03-27T17:52:28.598526",
     "status": "completed"
    },
    "tags": []
   },
   "source": [
    "### Read the transactions data"
   ]
  },
  {
   "cell_type": "markdown",
   "id": "25791061",
   "metadata": {
    "_cell_guid": "c433f7ee-68f4-4806-b8ce-d609433f6a23",
    "_uuid": "45bae2da-e4c8-4a29-b601-9d2e6e5f3dff",
    "editable": false,
    "papermill": {
     "duration": 0.141999,
     "end_time": "2022-03-27T17:52:29.021153",
     "exception": false,
     "start_time": "2022-03-27T17:52:28.879154",
     "status": "completed"
    },
    "tags": []
   },
   "source": [
    "Changes: \n",
    "* read_csv using cudf\n",
    "* article_id types from string to int32 \n",
    "* reduce memory on customer_id"
   ]
  },
  {
   "cell_type": "code",
   "execution_count": 2,
   "id": "fe3c2c55",
   "metadata": {
    "_cell_guid": "8b3aee1b-7f84-47d3-82cb-a5bdbbf77e31",
    "_uuid": "c6c96268-5baf-4620-a4e7-1032a366906d",
    "collapsed": false,
    "execution": {
     "iopub.execute_input": "2022-03-27T17:52:29.313962Z",
     "iopub.status.busy": "2022-03-27T17:52:29.312318Z",
     "iopub.status.idle": "2022-03-27T17:52:29.314550Z",
     "shell.execute_reply": "2022-03-27T17:52:29.314981Z",
     "shell.execute_reply.started": "2022-03-27T17:47:04.738389Z"
    },
    "jupyter": {
     "outputs_hidden": false
    },
    "papermill": {
     "duration": 0.153404,
     "end_time": "2022-03-27T17:52:29.315133",
     "exception": false,
     "start_time": "2022-03-27T17:52:29.161729",
     "status": "completed"
    },
    "tags": []
   },
   "outputs": [],
   "source": [
    "Date_week1 = pd.to_datetime(\"2020-09-16\")\n",
    "Date_week2 = pd.to_datetime(\"2020-09-09\")\n",
    "Date_week3 = pd.to_datetime(\"2020-09-02\")\n",
    "Last_day = pd.to_datetime(\"2020-09-22\")"
   ]
  },
  {
   "cell_type": "code",
   "execution_count": 3,
   "id": "d8ac6b6e",
   "metadata": {
    "_cell_guid": "42f55d04-09d5-4696-8c51-e25287bf8445",
    "_uuid": "f016e503-1e3c-45de-85b1-b8cd495d8f50",
    "collapsed": false,
    "execution": {
     "iopub.execute_input": "2022-03-27T17:52:29.603251Z",
     "iopub.status.busy": "2022-03-27T17:52:29.601620Z",
     "iopub.status.idle": "2022-03-27T17:52:29.603833Z",
     "shell.execute_reply": "2022-03-27T17:52:29.604271Z",
     "shell.execute_reply.started": "2022-03-27T17:47:04.748036Z"
    },
    "jupyter": {
     "outputs_hidden": false
    },
    "papermill": {
     "duration": 0.148062,
     "end_time": "2022-03-27T17:52:29.604428",
     "exception": false,
     "start_time": "2022-03-27T17:52:29.456366",
     "status": "completed"
    },
    "tags": []
   },
   "outputs": [],
   "source": [
    "N = 12"
   ]
  },
  {
   "cell_type": "code",
   "execution_count": 4,
   "id": "82b2c955",
   "metadata": {
    "_cell_guid": "f5173183-3b25-48a8-a23c-dc86064cdc05",
    "_uuid": "457cc772-8110-417f-88fd-bc20a5628c85",
    "collapsed": false,
    "execution": {
     "iopub.execute_input": "2022-03-27T17:52:29.891901Z",
     "iopub.status.busy": "2022-03-27T17:52:29.891328Z",
     "iopub.status.idle": "2022-03-27T17:53:08.590605Z",
     "shell.execute_reply": "2022-03-27T17:53:08.590138Z",
     "shell.execute_reply.started": "2022-03-27T17:47:04.758776Z"
    },
    "jupyter": {
     "outputs_hidden": false
    },
    "papermill": {
     "duration": 38.845292,
     "end_time": "2022-03-27T17:53:08.590737",
     "exception": false,
     "start_time": "2022-03-27T17:52:29.745445",
     "status": "completed"
    },
    "tags": []
   },
   "outputs": [],
   "source": [
    "df  = cudf.read_csv('../input/h-and-m-personalized-fashion-recommendations/transactions_train.csv')\n",
    "                            #usecols= ['t_dat', 'customer_id', 'article_id'], \n",
    "                            #dtype={'article_id': 'int32', 't_dat': 'string', 'customer_id': 'string', \"sales_channel_id\": 'int32', \"price\": \"float\"})\n",
    "df ['customer_id'] = df ['customer_id'].str[-16:].str.hex_to_int().astype('int64')\n",
    "df.article_id = df.article_id.astype('int32')\n",
    "df['t_dat'] = cudf.to_datetime(df['t_dat'])\n",
    "Last_date = df['t_dat'].max()"
   ]
  },
  {
   "cell_type": "code",
   "execution_count": 5,
   "id": "48df1eb0",
   "metadata": {
    "_cell_guid": "bac53a65-cb48-4e0e-86aa-0d5fbcb9ea43",
    "_uuid": "ee0ba74a-ccf5-4e41-992a-3e5586de5ef9",
    "collapsed": false,
    "execution": {
     "iopub.execute_input": "2022-03-27T17:53:08.903464Z",
     "iopub.status.busy": "2022-03-27T17:53:08.902749Z",
     "iopub.status.idle": "2022-03-27T17:53:08.974710Z",
     "shell.execute_reply": "2022-03-27T17:53:08.975149Z",
     "shell.execute_reply.started": "2022-03-27T17:47:45.091654Z"
    },
    "jupyter": {
     "outputs_hidden": false
    },
    "papermill": {
     "duration": 0.23566,
     "end_time": "2022-03-27T17:53:08.975298",
     "exception": false,
     "start_time": "2022-03-27T17:53:08.739638",
     "status": "completed"
    },
    "tags": []
   },
   "outputs": [
    {
     "data": {
      "text/html": [
       "<div>\n",
       "<style scoped>\n",
       "    .dataframe tbody tr th:only-of-type {\n",
       "        vertical-align: middle;\n",
       "    }\n",
       "\n",
       "    .dataframe tbody tr th {\n",
       "        vertical-align: top;\n",
       "    }\n",
       "\n",
       "    .dataframe thead th {\n",
       "        text-align: right;\n",
       "    }\n",
       "</style>\n",
       "<table border=\"1\" class=\"dataframe\">\n",
       "  <thead>\n",
       "    <tr style=\"text-align: right;\">\n",
       "      <th></th>\n",
       "      <th>t_dat</th>\n",
       "      <th>customer_id</th>\n",
       "      <th>article_id</th>\n",
       "      <th>price</th>\n",
       "      <th>sales_channel_id</th>\n",
       "    </tr>\n",
       "  </thead>\n",
       "  <tbody>\n",
       "    <tr>\n",
       "      <th>0</th>\n",
       "      <td>2018-09-20</td>\n",
       "      <td>-6846340800584936</td>\n",
       "      <td>663713001</td>\n",
       "      <td>0.050831</td>\n",
       "      <td>2</td>\n",
       "    </tr>\n",
       "    <tr>\n",
       "      <th>1</th>\n",
       "      <td>2018-09-20</td>\n",
       "      <td>-6846340800584936</td>\n",
       "      <td>541518023</td>\n",
       "      <td>0.030492</td>\n",
       "      <td>2</td>\n",
       "    </tr>\n",
       "    <tr>\n",
       "      <th>2</th>\n",
       "      <td>2018-09-20</td>\n",
       "      <td>-8334631767138808638</td>\n",
       "      <td>505221004</td>\n",
       "      <td>0.015237</td>\n",
       "      <td>2</td>\n",
       "    </tr>\n",
       "    <tr>\n",
       "      <th>3</th>\n",
       "      <td>2018-09-20</td>\n",
       "      <td>-8334631767138808638</td>\n",
       "      <td>685687003</td>\n",
       "      <td>0.016932</td>\n",
       "      <td>2</td>\n",
       "    </tr>\n",
       "    <tr>\n",
       "      <th>4</th>\n",
       "      <td>2018-09-20</td>\n",
       "      <td>-8334631767138808638</td>\n",
       "      <td>685687004</td>\n",
       "      <td>0.016932</td>\n",
       "      <td>2</td>\n",
       "    </tr>\n",
       "    <tr>\n",
       "      <th>...</th>\n",
       "      <td>...</td>\n",
       "      <td>...</td>\n",
       "      <td>...</td>\n",
       "      <td>...</td>\n",
       "      <td>...</td>\n",
       "    </tr>\n",
       "    <tr>\n",
       "      <th>31788319</th>\n",
       "      <td>2020-09-22</td>\n",
       "      <td>4685485978980270934</td>\n",
       "      <td>929511001</td>\n",
       "      <td>0.059305</td>\n",
       "      <td>2</td>\n",
       "    </tr>\n",
       "    <tr>\n",
       "      <th>31788320</th>\n",
       "      <td>2020-09-22</td>\n",
       "      <td>4685485978980270934</td>\n",
       "      <td>891322004</td>\n",
       "      <td>0.042356</td>\n",
       "      <td>2</td>\n",
       "    </tr>\n",
       "    <tr>\n",
       "      <th>31788321</th>\n",
       "      <td>2020-09-22</td>\n",
       "      <td>3959348689921271969</td>\n",
       "      <td>918325001</td>\n",
       "      <td>0.043203</td>\n",
       "      <td>1</td>\n",
       "    </tr>\n",
       "    <tr>\n",
       "      <th>31788322</th>\n",
       "      <td>2020-09-22</td>\n",
       "      <td>-8639340045377511665</td>\n",
       "      <td>833459002</td>\n",
       "      <td>0.006763</td>\n",
       "      <td>1</td>\n",
       "    </tr>\n",
       "    <tr>\n",
       "      <th>31788323</th>\n",
       "      <td>2020-09-22</td>\n",
       "      <td>3235222691137941515</td>\n",
       "      <td>898573003</td>\n",
       "      <td>0.033881</td>\n",
       "      <td>2</td>\n",
       "    </tr>\n",
       "  </tbody>\n",
       "</table>\n",
       "<p>31788324 rows × 5 columns</p>\n",
       "</div>"
      ],
      "text/plain": [
       "              t_dat          customer_id  article_id     price  \\\n",
       "0        2018-09-20    -6846340800584936   663713001  0.050831   \n",
       "1        2018-09-20    -6846340800584936   541518023  0.030492   \n",
       "2        2018-09-20 -8334631767138808638   505221004  0.015237   \n",
       "3        2018-09-20 -8334631767138808638   685687003  0.016932   \n",
       "4        2018-09-20 -8334631767138808638   685687004  0.016932   \n",
       "...             ...                  ...         ...       ...   \n",
       "31788319 2020-09-22  4685485978980270934   929511001  0.059305   \n",
       "31788320 2020-09-22  4685485978980270934   891322004  0.042356   \n",
       "31788321 2020-09-22  3959348689921271969   918325001  0.043203   \n",
       "31788322 2020-09-22 -8639340045377511665   833459002  0.006763   \n",
       "31788323 2020-09-22  3235222691137941515   898573003  0.033881   \n",
       "\n",
       "          sales_channel_id  \n",
       "0                        2  \n",
       "1                        2  \n",
       "2                        2  \n",
       "3                        2  \n",
       "4                        2  \n",
       "...                    ...  \n",
       "31788319                 2  \n",
       "31788320                 2  \n",
       "31788321                 1  \n",
       "31788322                 1  \n",
       "31788323                 2  \n",
       "\n",
       "[31788324 rows x 5 columns]"
      ]
     },
     "execution_count": 5,
     "metadata": {},
     "output_type": "execute_result"
    }
   ],
   "source": [
    "df"
   ]
  },
  {
   "cell_type": "markdown",
   "id": "ca7630de",
   "metadata": {
    "_cell_guid": "a2bb9afc-941f-4d6d-8626-08a24cc75596",
    "_uuid": "bc214126-6a44-4324-b210-7d7128d4135c",
    "editable": false,
    "papermill": {
     "duration": 0.140483,
     "end_time": "2022-03-27T17:53:09.258823",
     "exception": false,
     "start_time": "2022-03-27T17:53:09.118340",
     "status": "completed"
    },
    "tags": []
   },
   "source": [
    "## 划分训练集和验证集"
   ]
  },
  {
   "cell_type": "code",
   "execution_count": 6,
   "id": "497cc392",
   "metadata": {
    "_cell_guid": "355420f0-15d4-4897-8c8b-51774593e37a",
    "_uuid": "6be7cca0-d9d3-4073-bf36-b2ebd1ff67f3",
    "collapsed": false,
    "execution": {
     "iopub.execute_input": "2022-03-27T17:53:09.545296Z",
     "iopub.status.busy": "2022-03-27T17:53:09.544205Z",
     "iopub.status.idle": "2022-03-27T17:53:09.602647Z",
     "shell.execute_reply": "2022-03-27T17:53:09.602133Z",
     "shell.execute_reply.started": "2022-03-27T17:47:45.174976Z"
    },
    "jupyter": {
     "outputs_hidden": false
    },
    "papermill": {
     "duration": 0.20357,
     "end_time": "2022-03-27T17:53:09.602777",
     "exception": false,
     "start_time": "2022-03-27T17:53:09.399207",
     "status": "completed"
    },
    "tags": []
   },
   "outputs": [],
   "source": [
    "val = df[df['t_dat']>= Date_week1].copy()\n",
    "train = df[df['t_dat']< Date_week1].copy()\n",
    "Last_date = pd.to_datetime(\"2020-09-15\")"
   ]
  },
  {
   "cell_type": "code",
   "execution_count": 7,
   "id": "25e3e7e6",
   "metadata": {
    "_cell_guid": "f98c8d63-1464-4590-a382-4b0939a69dbe",
    "_uuid": "1bd9a659-6b38-40fe-8e40-298c338b50b8",
    "collapsed": false,
    "execution": {
     "iopub.execute_input": "2022-03-27T17:53:09.900858Z",
     "iopub.status.busy": "2022-03-27T17:53:09.900093Z",
     "iopub.status.idle": "2022-03-27T17:53:09.950735Z",
     "shell.execute_reply": "2022-03-27T17:53:09.951188Z",
     "shell.execute_reply.started": "2022-03-27T17:47:45.232906Z"
    },
    "jupyter": {
     "outputs_hidden": false
    },
    "papermill": {
     "duration": 0.205654,
     "end_time": "2022-03-27T17:53:09.951342",
     "exception": false,
     "start_time": "2022-03-27T17:53:09.745688",
     "status": "completed"
    },
    "tags": []
   },
   "outputs": [
    {
     "data": {
      "text/html": [
       "<div>\n",
       "<style scoped>\n",
       "    .dataframe tbody tr th:only-of-type {\n",
       "        vertical-align: middle;\n",
       "    }\n",
       "\n",
       "    .dataframe tbody tr th {\n",
       "        vertical-align: top;\n",
       "    }\n",
       "\n",
       "    .dataframe thead th {\n",
       "        text-align: right;\n",
       "    }\n",
       "</style>\n",
       "<table border=\"1\" class=\"dataframe\">\n",
       "  <thead>\n",
       "    <tr style=\"text-align: right;\">\n",
       "      <th></th>\n",
       "      <th>t_dat</th>\n",
       "      <th>customer_id</th>\n",
       "      <th>article_id</th>\n",
       "      <th>price</th>\n",
       "      <th>sales_channel_id</th>\n",
       "    </tr>\n",
       "  </thead>\n",
       "  <tbody>\n",
       "    <tr>\n",
       "      <th>31548013</th>\n",
       "      <td>2020-09-16</td>\n",
       "      <td>8055340703569116761</td>\n",
       "      <td>786022008</td>\n",
       "      <td>0.048441</td>\n",
       "      <td>2</td>\n",
       "    </tr>\n",
       "    <tr>\n",
       "      <th>31548014</th>\n",
       "      <td>2020-09-16</td>\n",
       "      <td>8055340703569116761</td>\n",
       "      <td>913272003</td>\n",
       "      <td>0.032288</td>\n",
       "      <td>2</td>\n",
       "    </tr>\n",
       "    <tr>\n",
       "      <th>31548015</th>\n",
       "      <td>2020-09-16</td>\n",
       "      <td>8055340703569116761</td>\n",
       "      <td>889669006</td>\n",
       "      <td>0.056508</td>\n",
       "      <td>2</td>\n",
       "    </tr>\n",
       "    <tr>\n",
       "      <th>31548016</th>\n",
       "      <td>2020-09-16</td>\n",
       "      <td>2563761487478961358</td>\n",
       "      <td>237347060</td>\n",
       "      <td>0.033881</td>\n",
       "      <td>1</td>\n",
       "    </tr>\n",
       "    <tr>\n",
       "      <th>31548017</th>\n",
       "      <td>2020-09-16</td>\n",
       "      <td>2563761487478961358</td>\n",
       "      <td>562245001</td>\n",
       "      <td>0.013542</td>\n",
       "      <td>1</td>\n",
       "    </tr>\n",
       "    <tr>\n",
       "      <th>...</th>\n",
       "      <td>...</td>\n",
       "      <td>...</td>\n",
       "      <td>...</td>\n",
       "      <td>...</td>\n",
       "      <td>...</td>\n",
       "    </tr>\n",
       "    <tr>\n",
       "      <th>31788319</th>\n",
       "      <td>2020-09-22</td>\n",
       "      <td>4685485978980270934</td>\n",
       "      <td>929511001</td>\n",
       "      <td>0.059305</td>\n",
       "      <td>2</td>\n",
       "    </tr>\n",
       "    <tr>\n",
       "      <th>31788320</th>\n",
       "      <td>2020-09-22</td>\n",
       "      <td>4685485978980270934</td>\n",
       "      <td>891322004</td>\n",
       "      <td>0.042356</td>\n",
       "      <td>2</td>\n",
       "    </tr>\n",
       "    <tr>\n",
       "      <th>31788321</th>\n",
       "      <td>2020-09-22</td>\n",
       "      <td>3959348689921271969</td>\n",
       "      <td>918325001</td>\n",
       "      <td>0.043203</td>\n",
       "      <td>1</td>\n",
       "    </tr>\n",
       "    <tr>\n",
       "      <th>31788322</th>\n",
       "      <td>2020-09-22</td>\n",
       "      <td>-8639340045377511665</td>\n",
       "      <td>833459002</td>\n",
       "      <td>0.006763</td>\n",
       "      <td>1</td>\n",
       "    </tr>\n",
       "    <tr>\n",
       "      <th>31788323</th>\n",
       "      <td>2020-09-22</td>\n",
       "      <td>3235222691137941515</td>\n",
       "      <td>898573003</td>\n",
       "      <td>0.033881</td>\n",
       "      <td>2</td>\n",
       "    </tr>\n",
       "  </tbody>\n",
       "</table>\n",
       "<p>240311 rows × 5 columns</p>\n",
       "</div>"
      ],
      "text/plain": [
       "              t_dat          customer_id  article_id     price  \\\n",
       "31548013 2020-09-16  8055340703569116761   786022008  0.048441   \n",
       "31548014 2020-09-16  8055340703569116761   913272003  0.032288   \n",
       "31548015 2020-09-16  8055340703569116761   889669006  0.056508   \n",
       "31548016 2020-09-16  2563761487478961358   237347060  0.033881   \n",
       "31548017 2020-09-16  2563761487478961358   562245001  0.013542   \n",
       "...             ...                  ...         ...       ...   \n",
       "31788319 2020-09-22  4685485978980270934   929511001  0.059305   \n",
       "31788320 2020-09-22  4685485978980270934   891322004  0.042356   \n",
       "31788321 2020-09-22  3959348689921271969   918325001  0.043203   \n",
       "31788322 2020-09-22 -8639340045377511665   833459002  0.006763   \n",
       "31788323 2020-09-22  3235222691137941515   898573003  0.033881   \n",
       "\n",
       "          sales_channel_id  \n",
       "31548013                 2  \n",
       "31548014                 2  \n",
       "31548015                 2  \n",
       "31548016                 1  \n",
       "31548017                 1  \n",
       "...                    ...  \n",
       "31788319                 2  \n",
       "31788320                 2  \n",
       "31788321                 1  \n",
       "31788322                 1  \n",
       "31788323                 2  \n",
       "\n",
       "[240311 rows x 5 columns]"
      ]
     },
     "execution_count": 7,
     "metadata": {},
     "output_type": "execute_result"
    }
   ],
   "source": [
    "val"
   ]
  },
  {
   "cell_type": "markdown",
   "id": "8436b441",
   "metadata": {
    "_cell_guid": "3f86be67-1cac-42a0-9920-fdcf6e792e5c",
    "_uuid": "802843bc-ad1f-4882-a78e-8cc20fbe3bb0",
    "editable": false,
    "papermill": {
     "duration": 0.252373,
     "end_time": "2022-03-27T17:53:10.347955",
     "exception": false,
     "start_time": "2022-03-27T17:53:10.095582",
     "status": "completed"
    },
    "tags": []
   },
   "source": [
    "### Add the last day of billing week"
   ]
  },
  {
   "cell_type": "markdown",
   "id": "c54a0f64",
   "metadata": {
    "_cell_guid": "999e62e2-bc69-4e57-8257-a697a4624746",
    "_uuid": "1ee572b2-3480-4409-bc02-907628099774",
    "editable": false,
    "papermill": {
     "duration": 0.191974,
     "end_time": "2022-03-27T17:53:10.772632",
     "exception": false,
     "start_time": "2022-03-27T17:53:10.580658",
     "status": "completed"
    },
    "tags": []
   },
   "source": [
    "## 第一路：复购预测"
   ]
  },
  {
   "cell_type": "code",
   "execution_count": 8,
   "id": "bd62e078",
   "metadata": {
    "_cell_guid": "bff88d78-99b3-4e25-ac4b-b7cc4157ceee",
    "_uuid": "1dabaf8d-b904-4d4c-a584-cdfaf4199a39",
    "collapsed": false,
    "execution": {
     "iopub.execute_input": "2022-03-27T17:53:11.059620Z",
     "iopub.status.busy": "2022-03-27T17:53:11.058715Z",
     "iopub.status.idle": "2022-03-27T17:53:11.065700Z",
     "shell.execute_reply": "2022-03-27T17:53:11.065272Z",
     "shell.execute_reply.started": "2022-03-27T17:47:45.302427Z"
    },
    "jupyter": {
     "outputs_hidden": false
    },
    "papermill": {
     "duration": 0.152117,
     "end_time": "2022-03-27T17:53:11.065824",
     "exception": false,
     "start_time": "2022-03-27T17:53:10.913707",
     "status": "completed"
    },
    "tags": []
   },
   "outputs": [],
   "source": [
    "df = train.copy()"
   ]
  },
  {
   "cell_type": "code",
   "execution_count": 9,
   "id": "75bb5aa0",
   "metadata": {
    "_cell_guid": "032f0009-7b2d-434f-892c-22d7362be933",
    "_uuid": "c445f3e2-77ca-4e38-ae10-9d0150b0ef87",
    "collapsed": false,
    "execution": {
     "iopub.execute_input": "2022-03-27T17:53:11.356059Z",
     "iopub.status.busy": "2022-03-27T17:53:11.355195Z",
     "iopub.status.idle": "2022-03-27T17:53:19.130797Z",
     "shell.execute_reply": "2022-03-27T17:53:19.130363Z",
     "shell.execute_reply.started": "2022-03-27T17:47:45.314343Z"
    },
    "jupyter": {
     "outputs_hidden": false
    },
    "papermill": {
     "duration": 7.92352,
     "end_time": "2022-03-27T17:53:19.130949",
     "exception": false,
     "start_time": "2022-03-27T17:53:11.207429",
     "status": "completed"
    },
    "tags": []
   },
   "outputs": [
    {
     "name": "stdout",
     "output_type": "stream",
     "text": [
      "CPU times: user 6.3 s, sys: 1.62 s, total: 7.92 s\n",
      "Wall time: 7.77 s\n"
     ]
    }
   ],
   "source": [
    "%%time\n",
    "tmp = df[['t_dat']].copy().to_pandas()\n",
    "tmp['dow'] = tmp['t_dat'].dt.dayofweek\n",
    "tmp['ldbw'] = tmp['t_dat'] - pd.TimedeltaIndex(tmp['dow'] - 1, unit='D')\n",
    "tmp.loc[tmp['dow'] >=2 , 'ldbw'] = tmp.loc[tmp['dow'] >=2 , 'ldbw'] + pd.TimedeltaIndex(np.ones(len(tmp.loc[tmp['dow'] >=2])) * 7, unit='D')\n",
    "df['ldbw'] = tmp['ldbw'].values"
   ]
  },
  {
   "cell_type": "code",
   "execution_count": 10,
   "id": "761b132f",
   "metadata": {
    "_cell_guid": "98650a14-be49-4ea6-932d-46db33e46a52",
    "_uuid": "e2d8bb01-263f-443e-91e0-c13ac5a6cb78",
    "collapsed": false,
    "execution": {
     "iopub.execute_input": "2022-03-27T17:53:19.429119Z",
     "iopub.status.busy": "2022-03-27T17:53:19.423776Z",
     "iopub.status.idle": "2022-03-27T17:53:19.558953Z",
     "shell.execute_reply": "2022-03-27T17:53:19.558473Z",
     "shell.execute_reply.started": "2022-03-27T17:47:53.149676Z"
    },
    "jupyter": {
     "outputs_hidden": false
    },
    "papermill": {
     "duration": 0.281672,
     "end_time": "2022-03-27T17:53:19.559092",
     "exception": false,
     "start_time": "2022-03-27T17:53:19.277420",
     "status": "completed"
    },
    "tags": []
   },
   "outputs": [],
   "source": [
    "weekly_sales = df.drop('customer_id', axis=1).groupby(['ldbw', 'article_id']).count().reset_index()\n",
    "weekly_sales = weekly_sales.rename(columns={'t_dat': 'count'})"
   ]
  },
  {
   "cell_type": "code",
   "execution_count": 11,
   "id": "006fbdac",
   "metadata": {
    "_cell_guid": "1a1d9928-b6b1-4ef1-9bc4-b1d90278521d",
    "_uuid": "55308baf-b51a-4f25-9b36-6948ac902f90",
    "collapsed": false,
    "execution": {
     "iopub.execute_input": "2022-03-27T17:53:19.898622Z",
     "iopub.status.busy": "2022-03-27T17:53:19.898035Z",
     "iopub.status.idle": "2022-03-27T17:53:19.984358Z",
     "shell.execute_reply": "2022-03-27T17:53:19.983808Z",
     "shell.execute_reply.started": "2022-03-27T17:47:53.284045Z"
    },
    "jupyter": {
     "outputs_hidden": false
    },
    "papermill": {
     "duration": 0.281548,
     "end_time": "2022-03-27T17:53:19.984494",
     "exception": false,
     "start_time": "2022-03-27T17:53:19.702946",
     "status": "completed"
    },
    "tags": []
   },
   "outputs": [],
   "source": [
    "df = df.merge(weekly_sales, on=['ldbw', 'article_id'], how = 'left')"
   ]
  },
  {
   "cell_type": "markdown",
   "id": "74cd18e2",
   "metadata": {
    "_cell_guid": "ae404e56-067c-4b09-b999-1a2f98a5537a",
    "_uuid": "6274d245-d8c6-4c72-825d-2bb4be0da696",
    "editable": false,
    "papermill": {
     "duration": 0.145966,
     "end_time": "2022-03-27T17:53:20.278464",
     "exception": false,
     "start_time": "2022-03-27T17:53:20.132498",
     "status": "completed"
    },
    "tags": []
   },
   "source": [
    "### Let's assume that in the target week sales will be similar to the last week of the training data"
   ]
  },
  {
   "cell_type": "code",
   "execution_count": 12,
   "id": "676db7ed",
   "metadata": {
    "_cell_guid": "ce554581-cb66-4f98-8e33-2ccf2bd34d28",
    "_uuid": "6e1f0c8e-e73e-486a-bb83-cd8737cee56c",
    "collapsed": false,
    "execution": {
     "iopub.execute_input": "2022-03-27T17:53:20.569697Z",
     "iopub.status.busy": "2022-03-27T17:53:20.568853Z",
     "iopub.status.idle": "2022-03-27T17:53:20.666663Z",
     "shell.execute_reply": "2022-03-27T17:53:20.666171Z",
     "shell.execute_reply.started": "2022-03-27T17:47:53.418449Z"
    },
    "jupyter": {
     "outputs_hidden": false
    },
    "papermill": {
     "duration": 0.245273,
     "end_time": "2022-03-27T17:53:20.666840",
     "exception": false,
     "start_time": "2022-03-27T17:53:20.421567",
     "status": "completed"
    },
    "tags": []
   },
   "outputs": [],
   "source": [
    "weekly_sales = weekly_sales.reset_index().set_index('article_id')\n",
    "\n",
    "df = df.merge(\n",
    "    weekly_sales.loc[weekly_sales['ldbw']==Last_date, ['count']],\n",
    "    on='article_id', suffixes=(\"\", \"_targ\"))\n",
    "\n",
    "df['count_targ'].fillna(0, inplace=True)"
   ]
  },
  {
   "cell_type": "markdown",
   "id": "7bd3230b",
   "metadata": {
    "_cell_guid": "abb99ddb-6823-4abe-977c-589188ac046f",
    "_uuid": "ceee0be8-8e3b-48d2-bb45-23dcfaeaa991",
    "editable": false,
    "papermill": {
     "duration": 0.165144,
     "end_time": "2022-03-27T17:53:20.976484",
     "exception": false,
     "start_time": "2022-03-27T17:53:20.811340",
     "status": "completed"
    },
    "tags": []
   },
   "source": [
    "### Calculate sales rate adjusted for changes in product popularity"
   ]
  },
  {
   "cell_type": "code",
   "execution_count": 13,
   "id": "2886a4d5",
   "metadata": {
    "_cell_guid": "d2d93f8a-81c9-455e-95ed-d6889fdb5b5e",
    "_uuid": "f95bc088-2d68-4c09-a13e-75a803dd994a",
    "collapsed": false,
    "execution": {
     "iopub.execute_input": "2022-03-27T17:53:21.436621Z",
     "iopub.status.busy": "2022-03-27T17:53:21.435690Z",
     "iopub.status.idle": "2022-03-27T17:53:21.442081Z",
     "shell.execute_reply": "2022-03-27T17:53:21.442784Z",
     "shell.execute_reply.started": "2022-03-27T17:47:53.538155Z"
    },
    "jupyter": {
     "outputs_hidden": false
    },
    "papermill": {
     "duration": 0.277248,
     "end_time": "2022-03-27T17:53:21.442982",
     "exception": false,
     "start_time": "2022-03-27T17:53:21.165734",
     "status": "completed"
    },
    "tags": []
   },
   "outputs": [],
   "source": [
    "df['quotient'] = df['count_targ'] / df['count']"
   ]
  },
  {
   "cell_type": "markdown",
   "id": "c5c8ef72",
   "metadata": {
    "_cell_guid": "a6429b7c-f1cd-4587-965b-bf5f90d70337",
    "_uuid": "3d2d2d38-0011-46ba-b048-7eec7c0b1837",
    "editable": false,
    "papermill": {
     "duration": 0.162792,
     "end_time": "2022-03-27T17:53:21.839965",
     "exception": false,
     "start_time": "2022-03-27T17:53:21.677173",
     "status": "completed"
    },
    "tags": []
   },
   "source": [
    "### Take supposedly popular products"
   ]
  },
  {
   "cell_type": "code",
   "execution_count": 14,
   "id": "2f9ad269",
   "metadata": {
    "_cell_guid": "0a483863-fd58-495d-bd36-2573b79ebb4d",
    "_uuid": "bfb82339-c575-478e-a364-93c10b22ae06",
    "collapsed": false,
    "execution": {
     "iopub.execute_input": "2022-03-27T17:53:22.132173Z",
     "iopub.status.busy": "2022-03-27T17:53:22.131251Z",
     "iopub.status.idle": "2022-03-27T17:53:22.133717Z",
     "shell.execute_reply": "2022-03-27T17:53:22.133111Z",
     "shell.execute_reply.started": "2022-03-27T17:47:53.552686Z"
    },
    "jupyter": {
     "outputs_hidden": false
    },
    "papermill": {
     "duration": 0.149882,
     "end_time": "2022-03-27T17:53:22.133851",
     "exception": false,
     "start_time": "2022-03-27T17:53:21.983969",
     "status": "completed"
    },
    "tags": []
   },
   "outputs": [],
   "source": [
    "# target_sales = df.drop('customer_id', axis=1).groupby('article_id')['quotient'].sum()\n",
    "# general_pred = target_sales.nlargest(N).index.to_pandas().tolist()\n",
    "# general_pred = ['0' + str(article_id) for article_id in general_pred]\n",
    "# general_pred_str =  ' '.join(general_pred)\n",
    "# del target_sales"
   ]
  },
  {
   "cell_type": "code",
   "execution_count": 15,
   "id": "56d4b1c4",
   "metadata": {
    "_cell_guid": "33e56ebf-4eaf-4cb3-a315-f59a0846a4a2",
    "_uuid": "db8e3029-e2b0-44f0-81b0-07fd51736491",
    "collapsed": false,
    "execution": {
     "iopub.execute_input": "2022-03-27T17:53:22.427123Z",
     "iopub.status.busy": "2022-03-27T17:53:22.426203Z",
     "iopub.status.idle": "2022-03-27T17:53:22.427983Z",
     "shell.execute_reply": "2022-03-27T17:53:22.428398Z",
     "shell.execute_reply.started": "2022-03-27T17:47:53.558959Z"
    },
    "jupyter": {
     "outputs_hidden": false
    },
    "papermill": {
     "duration": 0.149972,
     "end_time": "2022-03-27T17:53:22.428541",
     "exception": false,
     "start_time": "2022-03-27T17:53:22.278569",
     "status": "completed"
    },
    "tags": []
   },
   "outputs": [],
   "source": [
    "# general_pred # Exactly same with the original notebook!"
   ]
  },
  {
   "cell_type": "code",
   "execution_count": 16,
   "id": "10d6b553",
   "metadata": {
    "_cell_guid": "39bda420-023a-4550-a35f-9f39f45fae0a",
    "_uuid": "a9d65615-d07f-4e2b-a09f-f5c352d9d3a6",
    "collapsed": false,
    "execution": {
     "iopub.execute_input": "2022-03-27T17:53:22.720417Z",
     "iopub.status.busy": "2022-03-27T17:53:22.719517Z",
     "iopub.status.idle": "2022-03-27T17:53:22.721841Z",
     "shell.execute_reply": "2022-03-27T17:53:22.721276Z",
     "shell.execute_reply.started": "2022-03-27T17:47:53.568062Z"
    },
    "jupyter": {
     "outputs_hidden": false
    },
    "papermill": {
     "duration": 0.150465,
     "end_time": "2022-03-27T17:53:22.722010",
     "exception": false,
     "start_time": "2022-03-27T17:53:22.571545",
     "status": "completed"
    },
    "tags": []
   },
   "outputs": [],
   "source": [
    "# general_pred_str"
   ]
  },
  {
   "cell_type": "markdown",
   "id": "417cc19b",
   "metadata": {
    "_cell_guid": "778698f4-153b-4ef0-8671-28e35f6b16a2",
    "_uuid": "e3b40a3b-e584-47ea-a48d-b06caef50eb3",
    "editable": false,
    "papermill": {
     "duration": 0.142399,
     "end_time": "2022-03-27T17:53:23.008042",
     "exception": false,
     "start_time": "2022-03-27T17:53:22.865643",
     "status": "completed"
    },
    "tags": []
   },
   "source": [
    "### Fill in purchase dictionary"
   ]
  },
  {
   "cell_type": "code",
   "execution_count": 17,
   "id": "4c876455",
   "metadata": {
    "_cell_guid": "d5240757-0318-4ebc-9ccd-c9c362c86c76",
    "_uuid": "0f878843-4016-4d61-a04d-2ed6f30dcdf8",
    "collapsed": false,
    "execution": {
     "iopub.execute_input": "2022-03-27T17:53:23.322023Z",
     "iopub.status.busy": "2022-03-27T17:53:23.321126Z",
     "iopub.status.idle": "2022-03-27T17:53:43.569074Z",
     "shell.execute_reply": "2022-03-27T17:53:43.570128Z",
     "shell.execute_reply.started": "2022-03-27T17:47:53.576904Z"
    },
    "jupyter": {
     "outputs_hidden": false
    },
    "papermill": {
     "duration": 20.405171,
     "end_time": "2022-03-27T17:53:43.570367",
     "exception": false,
     "start_time": "2022-03-27T17:53:23.165196",
     "status": "completed"
    },
    "tags": []
   },
   "outputs": [
    {
     "name": "stdout",
     "output_type": "stream",
     "text": [
      "CPU times: user 17 s, sys: 5.16 s, total: 22.1 s\n",
      "Wall time: 20.2 s\n"
     ]
    }
   ],
   "source": [
    "%%time\n",
    "purchase_dict = {}\n",
    "\n",
    "tmp = df.copy().to_pandas()\n",
    "tmp['x'] = ((Last_date - tmp['t_dat']) / np.timedelta64(1, 'D')).astype(int)\n",
    "tmp['dummy_1'] = 1 \n",
    "tmp['x'] = tmp[[\"x\", \"dummy_1\"]].max(axis=1)\n",
    "\n",
    "a, b, c, d = 2.5e4, 1.5e5, 2e-1, 1e3\n",
    "total = 1715530\n",
    "tmp['y'] = ((a / np.sqrt(tmp['x']) + b * np.exp(-c*tmp['x']) - d) / total +\\\n",
    "(a / np.sqrt(tmp['x']+1) + b * np.exp(-c*(tmp['x']+1)) - d) / total +\\\n",
    "(a / np.sqrt(tmp['x']+2) + b * np.exp(-c*(tmp['x']+2)) - d) / total +\\\n",
    "(a / np.sqrt(tmp['x']+3) + b * np.exp(-c*(tmp['x']+3)) - d) / total +\\\n",
    "(a / np.sqrt(tmp['x']+4) + b * np.exp(-c*(tmp['x']+4)) - d) / total +\\\n",
    "(a / np.sqrt(tmp['x']+5) + b * np.exp(-c*(tmp['x']+5)) - d) / total +\\\n",
    "(a / np.sqrt(tmp['x']+6) + b * np.exp(-c*(tmp['x']+6)) - d) / total)\n",
    "\n",
    "tmp['dummy_0'] = 0 \n",
    "tmp['y'] = tmp[[\"y\", \"dummy_0\"]].max(axis=1)\n",
    "tmp['score'] = tmp['quotient'] * tmp['y'] \n",
    "\n",
    "tmp = tmp.groupby(['customer_id', 'article_id']).agg({'score': 'sum'})\n",
    "tmp = tmp.reset_index()\n",
    "\n",
    "tmp = tmp.loc[tmp['score'] > 0]\n",
    "tmp['rank'] = tmp.groupby(\"customer_id\")[\"score\"].rank(\"dense\", ascending=False)\n",
    "tmp = tmp.loc[tmp['rank'] <= 12]\n",
    "tmp[\"source\"] = 1\n",
    "\n",
    "result1 = tmp[[\"customer_id\", \"article_id\", \"source\", \"score\", \"rank\"]]"
   ]
  },
  {
   "cell_type": "code",
   "execution_count": 18,
   "id": "f024e0c4",
   "metadata": {
    "_cell_guid": "b01bc6f5-2794-4716-b664-a2ee01a25c06",
    "_uuid": "f187454d-2a81-4f76-9447-4eb568edac91",
    "collapsed": false,
    "execution": {
     "iopub.execute_input": "2022-03-27T17:53:44.126099Z",
     "iopub.status.busy": "2022-03-27T17:53:44.125151Z",
     "iopub.status.idle": "2022-03-27T17:53:44.128282Z",
     "shell.execute_reply": "2022-03-27T17:53:44.128671Z",
     "shell.execute_reply.started": "2022-03-27T17:48:12.459922Z"
    },
    "jupyter": {
     "outputs_hidden": false
    },
    "papermill": {
     "duration": 0.323831,
     "end_time": "2022-03-27T17:53:44.128814",
     "exception": false,
     "start_time": "2022-03-27T17:53:43.804983",
     "status": "completed"
    },
    "tags": []
   },
   "outputs": [
    {
     "data": {
      "text/plain": [
       "208"
      ]
     },
     "execution_count": 18,
     "metadata": {},
     "output_type": "execute_result"
    }
   ],
   "source": [
    "del weekly_sales\n",
    "del df\n",
    "del tmp\n",
    "gc.collect()"
   ]
  },
  {
   "cell_type": "code",
   "execution_count": 19,
   "id": "123d3f07",
   "metadata": {
    "_cell_guid": "798e93e0-008b-49cc-a841-60ed2ba8db5f",
    "_uuid": "23bd5ddb-43db-40c9-9296-b750777c95e3",
    "collapsed": false,
    "execution": {
     "iopub.execute_input": "2022-03-27T17:53:44.424949Z",
     "iopub.status.busy": "2022-03-27T17:53:44.424377Z",
     "iopub.status.idle": "2022-03-27T17:53:44.430008Z",
     "shell.execute_reply": "2022-03-27T17:53:44.429567Z",
     "shell.execute_reply.started": "2022-03-27T17:48:12.637369Z"
    },
    "jupyter": {
     "outputs_hidden": false
    },
    "papermill": {
     "duration": 0.159563,
     "end_time": "2022-03-27T17:53:44.430136",
     "exception": false,
     "start_time": "2022-03-27T17:53:44.270573",
     "status": "completed"
    },
    "tags": []
   },
   "outputs": [
    {
     "data": {
      "text/html": [
       "<div>\n",
       "<style scoped>\n",
       "    .dataframe tbody tr th:only-of-type {\n",
       "        vertical-align: middle;\n",
       "    }\n",
       "\n",
       "    .dataframe tbody tr th {\n",
       "        vertical-align: top;\n",
       "    }\n",
       "\n",
       "    .dataframe thead th {\n",
       "        text-align: right;\n",
       "    }\n",
       "</style>\n",
       "<table border=\"1\" class=\"dataframe\">\n",
       "  <thead>\n",
       "    <tr style=\"text-align: right;\">\n",
       "      <th></th>\n",
       "      <th>customer_id</th>\n",
       "      <th>article_id</th>\n",
       "      <th>source</th>\n",
       "      <th>score</th>\n",
       "      <th>rank</th>\n",
       "    </tr>\n",
       "  </thead>\n",
       "  <tbody>\n",
       "    <tr>\n",
       "      <th>0</th>\n",
       "      <td>-9223352921020755230</td>\n",
       "      <td>568597006</td>\n",
       "      <td>1</td>\n",
       "      <td>0.000559</td>\n",
       "      <td>5.0</td>\n",
       "    </tr>\n",
       "    <tr>\n",
       "      <th>1</th>\n",
       "      <td>-9223352921020755230</td>\n",
       "      <td>673396002</td>\n",
       "      <td>1</td>\n",
       "      <td>0.044511</td>\n",
       "      <td>1.0</td>\n",
       "    </tr>\n",
       "    <tr>\n",
       "      <th>2</th>\n",
       "      <td>-9223352921020755230</td>\n",
       "      <td>706016001</td>\n",
       "      <td>1</td>\n",
       "      <td>0.003289</td>\n",
       "      <td>4.0</td>\n",
       "    </tr>\n",
       "    <tr>\n",
       "      <th>3</th>\n",
       "      <td>-9223352921020755230</td>\n",
       "      <td>812167004</td>\n",
       "      <td>1</td>\n",
       "      <td>0.019179</td>\n",
       "      <td>2.0</td>\n",
       "    </tr>\n",
       "    <tr>\n",
       "      <th>4</th>\n",
       "      <td>-9223352921020755230</td>\n",
       "      <td>849493006</td>\n",
       "      <td>1</td>\n",
       "      <td>0.006174</td>\n",
       "      <td>3.0</td>\n",
       "    </tr>\n",
       "    <tr>\n",
       "      <th>...</th>\n",
       "      <td>...</td>\n",
       "      <td>...</td>\n",
       "      <td>...</td>\n",
       "      <td>...</td>\n",
       "      <td>...</td>\n",
       "    </tr>\n",
       "    <tr>\n",
       "      <th>10844244</th>\n",
       "      <td>9223301031927667525</td>\n",
       "      <td>719957006</td>\n",
       "      <td>1</td>\n",
       "      <td>0.000026</td>\n",
       "      <td>1.0</td>\n",
       "    </tr>\n",
       "    <tr>\n",
       "      <th>10844245</th>\n",
       "      <td>9223333063893176977</td>\n",
       "      <td>658030020</td>\n",
       "      <td>1</td>\n",
       "      <td>0.000038</td>\n",
       "      <td>1.0</td>\n",
       "    </tr>\n",
       "    <tr>\n",
       "      <th>10844246</th>\n",
       "      <td>9223357421094039679</td>\n",
       "      <td>747984001</td>\n",
       "      <td>1</td>\n",
       "      <td>0.000010</td>\n",
       "      <td>2.0</td>\n",
       "    </tr>\n",
       "    <tr>\n",
       "      <th>10844247</th>\n",
       "      <td>9223357421094039679</td>\n",
       "      <td>747984002</td>\n",
       "      <td>1</td>\n",
       "      <td>0.000053</td>\n",
       "      <td>1.0</td>\n",
       "    </tr>\n",
       "    <tr>\n",
       "      <th>10844248</th>\n",
       "      <td>9223370729206611574</td>\n",
       "      <td>781758003</td>\n",
       "      <td>1</td>\n",
       "      <td>0.001461</td>\n",
       "      <td>1.0</td>\n",
       "    </tr>\n",
       "  </tbody>\n",
       "</table>\n",
       "<p>6693016 rows × 5 columns</p>\n",
       "</div>"
      ],
      "text/plain": [
       "                  customer_id  article_id  source     score  rank\n",
       "0        -9223352921020755230   568597006       1  0.000559   5.0\n",
       "1        -9223352921020755230   673396002       1  0.044511   1.0\n",
       "2        -9223352921020755230   706016001       1  0.003289   4.0\n",
       "3        -9223352921020755230   812167004       1  0.019179   2.0\n",
       "4        -9223352921020755230   849493006       1  0.006174   3.0\n",
       "...                       ...         ...     ...       ...   ...\n",
       "10844244  9223301031927667525   719957006       1  0.000026   1.0\n",
       "10844245  9223333063893176977   658030020       1  0.000038   1.0\n",
       "10844246  9223357421094039679   747984001       1  0.000010   2.0\n",
       "10844247  9223357421094039679   747984002       1  0.000053   1.0\n",
       "10844248  9223370729206611574   781758003       1  0.001461   1.0\n",
       "\n",
       "[6693016 rows x 5 columns]"
      ]
     },
     "execution_count": 19,
     "metadata": {},
     "output_type": "execute_result"
    }
   ],
   "source": [
    "result1"
   ]
  },
  {
   "cell_type": "code",
   "execution_count": 20,
   "id": "66bed386",
   "metadata": {
    "_cell_guid": "69744f5f-6800-4656-ab87-032868f3159b",
    "_uuid": "abb5c1f0-cf31-4307-9b3a-abe63a3d8ac6",
    "collapsed": false,
    "execution": {
     "iopub.execute_input": "2022-03-27T17:53:44.722125Z",
     "iopub.status.busy": "2022-03-27T17:53:44.721221Z",
     "iopub.status.idle": "2022-03-27T17:53:44.723643Z",
     "shell.execute_reply": "2022-03-27T17:53:44.723140Z",
     "shell.execute_reply.started": "2022-03-27T17:48:12.654551Z"
    },
    "jupyter": {
     "outputs_hidden": false
    },
    "papermill": {
     "duration": 0.1499,
     "end_time": "2022-03-27T17:53:44.723757",
     "exception": false,
     "start_time": "2022-03-27T17:53:44.573857",
     "status": "completed"
    },
    "tags": []
   },
   "outputs": [],
   "source": [
    "#result1.to_csv(\"/kaggle/working/result1.csv\", index = False)"
   ]
  },
  {
   "cell_type": "markdown",
   "id": "6fac4c26",
   "metadata": {
    "_cell_guid": "fed50a0c-3f74-4c68-b4b9-40ca198ca0ce",
    "_uuid": "2d887bc0-dff0-4160-a2bf-e867e2984119",
    "editable": false,
    "execution": {
     "iopub.execute_input": "2022-03-19T09:13:27.534287Z",
     "iopub.status.busy": "2022-03-19T09:13:27.534029Z",
     "iopub.status.idle": "2022-03-19T09:13:27.537763Z",
     "shell.execute_reply": "2022-03-19T09:13:27.536825Z",
     "shell.execute_reply.started": "2022-03-19T09:13:27.534257Z"
    },
    "papermill": {
     "duration": 0.144108,
     "end_time": "2022-03-27T17:53:45.013818",
     "exception": false,
     "start_time": "2022-03-27T17:53:44.869710",
     "status": "completed"
    },
    "tags": []
   },
   "source": [
    "## 第二路：相似复购"
   ]
  },
  {
   "cell_type": "code",
   "execution_count": 21,
   "id": "1cdd20a1",
   "metadata": {
    "_cell_guid": "54567f40-5feb-4c26-99bd-c09a96a91605",
    "_uuid": "699bb5a0-a19f-4ced-909c-fdaac18f5dd1",
    "collapsed": false,
    "execution": {
     "iopub.execute_input": "2022-03-27T17:53:45.305537Z",
     "iopub.status.busy": "2022-03-27T17:53:45.304649Z",
     "iopub.status.idle": "2022-03-27T17:53:52.796494Z",
     "shell.execute_reply": "2022-03-27T17:53:52.795978Z",
     "shell.execute_reply.started": "2022-03-27T17:48:12.663955Z"
    },
    "jupyter": {
     "outputs_hidden": false
    },
    "papermill": {
     "duration": 7.639536,
     "end_time": "2022-03-27T17:53:52.796631",
     "exception": false,
     "start_time": "2022-03-27T17:53:45.157095",
     "status": "completed"
    },
    "tags": []
   },
   "outputs": [
    {
     "name": "stdout",
     "output_type": "stream",
     "text": [
      "Requirement already satisfied: cudf in /opt/conda/lib/python3.7/site-packages (21.10.1)\r\n",
      "Requirement already satisfied: numba>=0.53.1 in /opt/conda/lib/python3.7/site-packages (from cudf) (0.54.1)\r\n",
      "Requirement already satisfied: Cython<0.30,>=0.29 in /opt/conda/lib/python3.7/site-packages (from cudf) (0.29.28)\r\n",
      "Requirement already satisfied: fastavro>=0.22.9 in /opt/conda/lib/python3.7/site-packages (from cudf) (1.4.9)\r\n",
      "Requirement already satisfied: fsspec>=0.6.0 in /opt/conda/lib/python3.7/site-packages (from cudf) (2022.2.0)\r\n",
      "Requirement already satisfied: numpy in /opt/conda/lib/python3.7/site-packages (from cudf) (1.20.3)\r\n",
      "Requirement already satisfied: pandas<1.4.0dev0,>=1.0 in /opt/conda/lib/python3.7/site-packages (from cudf) (1.3.5)\r\n",
      "Requirement already satisfied: typing_extensions in /opt/conda/lib/python3.7/site-packages (from cudf) (4.1.1)\r\n",
      "Requirement already satisfied: protobuf in /opt/conda/lib/python3.7/site-packages (from cudf) (3.19.1)\r\n",
      "Requirement already satisfied: nvtx>=0.2.1 in /opt/conda/lib/python3.7/site-packages (from cudf) (0.2.3)\r\n",
      "Requirement already satisfied: cachetools in /opt/conda/lib/python3.7/site-packages (from cudf) (4.2.4)\r\n",
      "Requirement already satisfied: packaging in /opt/conda/lib/python3.7/site-packages (from cudf) (21.3)\r\n",
      "Requirement already satisfied: cupy-cuda110 in /opt/conda/lib/python3.7/site-packages (from cudf) (10.2.0)\r\n",
      "Requirement already satisfied: llvmlite<0.38,>=0.37.0rc1 in /opt/conda/lib/python3.7/site-packages (from numba>=0.53.1->cudf) (0.37.0)\r\n",
      "Requirement already satisfied: setuptools in /opt/conda/lib/python3.7/site-packages (from numba>=0.53.1->cudf) (59.5.0)\r\n",
      "Requirement already satisfied: python-dateutil>=2.7.3 in /opt/conda/lib/python3.7/site-packages (from pandas<1.4.0dev0,>=1.0->cudf) (2.8.2)\r\n",
      "Requirement already satisfied: pytz>=2017.3 in /opt/conda/lib/python3.7/site-packages (from pandas<1.4.0dev0,>=1.0->cudf) (2021.3)\r\n",
      "Requirement already satisfied: fastrlock>=0.5 in /opt/conda/lib/python3.7/site-packages (from cupy-cuda110->cudf) (0.8)\r\n",
      "Requirement already satisfied: pyparsing!=3.0.5,>=2.0.2 in /opt/conda/lib/python3.7/site-packages (from packaging->cudf) (3.0.6)\r\n",
      "Requirement already satisfied: six>=1.5 in /opt/conda/lib/python3.7/site-packages (from python-dateutil>=2.7.3->pandas<1.4.0dev0,>=1.0->cudf) (1.16.0)\r\n",
      "\u001b[33mWARNING: Running pip as the 'root' user can result in broken permissions and conflicting behaviour with the system package manager. It is recommended to use a virtual environment instead: https://pip.pypa.io/warnings/venv\u001b[0m\r\n"
     ]
    }
   ],
   "source": [
    "!pip install cudf\n",
    "import numpy as np\n",
    "import pandas as pd \n",
    "from datetime import datetime, timedelta\n",
    "import gc\n",
    "import cudf\n",
    "import cv2, matplotlib.pyplot as plt\n",
    "from os.path import exists"
   ]
  },
  {
   "cell_type": "code",
   "execution_count": 22,
   "id": "b6dc7cbb",
   "metadata": {
    "_cell_guid": "44b311fd-4b39-4405-a0bc-8e92dc33a61c",
    "_uuid": "915c9fdb-7fe6-4725-960e-e41a3577b19d",
    "collapsed": false,
    "execution": {
     "iopub.execute_input": "2022-03-27T17:53:53.094032Z",
     "iopub.status.busy": "2022-03-27T17:53:53.092948Z",
     "iopub.status.idle": "2022-03-27T17:53:53.095612Z",
     "shell.execute_reply": "2022-03-27T17:53:53.094841Z",
     "shell.execute_reply.started": "2022-03-27T17:48:20.032816Z"
    },
    "jupyter": {
     "outputs_hidden": false
    },
    "papermill": {
     "duration": 0.154156,
     "end_time": "2022-03-27T17:53:53.095810",
     "exception": false,
     "start_time": "2022-03-27T17:53:52.941654",
     "status": "completed"
    },
    "tags": []
   },
   "outputs": [],
   "source": [
    "# # LOAD TRANSACTIONS DATAFRAME\n",
    "# df = cudf.read_csv('../input/h-and-m-personalized-fashion-recommendations/transactions_train.csv')\n",
    "# print('Transactions shape',df.shape)\n",
    "# display( df.head() )\n",
    "\n",
    "# # REDUCE MEMORY OF DATAFRAME\n",
    "# df = df[['customer_id','article_id']]\n",
    "# df.customer_id = df.customer_id.str[-16:].str.hex_to_int().astype('int64')\n",
    "# df.article_id = df.article_id.astype('int32')\n",
    "# _ = gc.collect()"
   ]
  },
  {
   "cell_type": "code",
   "execution_count": 23,
   "id": "4557bcca",
   "metadata": {
    "_cell_guid": "4c724f89-612f-4608-94a5-2013aa86ce82",
    "_uuid": "980cf91d-96ad-4c7c-aba7-6bbc8e7f9075",
    "collapsed": false,
    "execution": {
     "iopub.execute_input": "2022-03-27T17:53:53.400084Z",
     "iopub.status.busy": "2022-03-27T17:53:53.399179Z",
     "iopub.status.idle": "2022-03-27T17:53:53.400833Z",
     "shell.execute_reply": "2022-03-27T17:53:53.401364Z",
     "shell.execute_reply.started": "2022-03-27T17:48:20.038463Z"
    },
    "jupyter": {
     "outputs_hidden": false
    },
    "papermill": {
     "duration": 0.149872,
     "end_time": "2022-03-27T17:53:53.401502",
     "exception": false,
     "start_time": "2022-03-27T17:53:53.251630",
     "status": "completed"
    },
    "tags": []
   },
   "outputs": [],
   "source": [
    "# # FIND ITEMS PURCHASED TOGETHER\n",
    "# vc = df.article_id.value_counts()\n",
    "# pairs = {}\n",
    "# # for j,i in enumerate(vc.index.values[1000:1032]):\n",
    "# #     #if j%10==0: print(j,', ',end='')\n",
    "# #     USERS = df.loc[df.article_id==i.item(),'customer_id'].unique()\n",
    "# #     vc2 = df.loc[(df.customer_id.isin(USERS))&(df.article_id!=i.item()),'article_id'].value_counts()\n",
    "# #     pairs[i.item()] = [vc2.index[0], vc2.index[1], vc2.index[2]]"
   ]
  },
  {
   "cell_type": "code",
   "execution_count": 24,
   "id": "3d479cda",
   "metadata": {
    "_cell_guid": "7df33241-8730-41e6-ba96-684dab72ebf6",
    "_uuid": "68190067-1266-43b1-8a90-16fde37bc22d",
    "collapsed": false,
    "execution": {
     "iopub.execute_input": "2022-03-27T17:53:53.697173Z",
     "iopub.status.busy": "2022-03-27T17:53:53.696187Z",
     "iopub.status.idle": "2022-03-27T17:53:53.698584Z",
     "shell.execute_reply": "2022-03-27T17:53:53.698074Z",
     "shell.execute_reply.started": "2022-03-27T17:48:20.056562Z"
    },
    "jupyter": {
     "outputs_hidden": false
    },
    "papermill": {
     "duration": 0.153087,
     "end_time": "2022-03-27T17:53:53.698698",
     "exception": false,
     "start_time": "2022-03-27T17:53:53.545611",
     "status": "completed"
    },
    "tags": []
   },
   "outputs": [],
   "source": [
    "# vc = vc.reset_index().rename(columns = {\"article_id\":\"count\", \"index\":\"article_id\"})"
   ]
  },
  {
   "cell_type": "code",
   "execution_count": 25,
   "id": "6f653a3e",
   "metadata": {
    "_cell_guid": "b8e80724-9f54-4727-9a5b-96aed6e85dbc",
    "_uuid": "f79463f6-d3c9-43ea-8882-9729bd77ddff",
    "collapsed": false,
    "execution": {
     "iopub.execute_input": "2022-03-27T17:53:53.992695Z",
     "iopub.status.busy": "2022-03-27T17:53:53.991753Z",
     "iopub.status.idle": "2022-03-27T17:53:53.994143Z",
     "shell.execute_reply": "2022-03-27T17:53:53.993610Z",
     "shell.execute_reply.started": "2022-03-27T17:48:20.067018Z"
    },
    "jupyter": {
     "outputs_hidden": false
    },
    "papermill": {
     "duration": 0.149621,
     "end_time": "2022-03-27T17:53:53.994265",
     "exception": false,
     "start_time": "2022-03-27T17:53:53.844644",
     "status": "completed"
    },
    "tags": []
   },
   "outputs": [],
   "source": [
    "# vc = vc[vc[\"count\"]>=50]"
   ]
  },
  {
   "cell_type": "code",
   "execution_count": 26,
   "id": "0695f90b",
   "metadata": {
    "_cell_guid": "0da22333-f4a8-4e71-8833-2f345a60517b",
    "_uuid": "d7776129-da4e-49db-80a4-9afd0420bd9e",
    "collapsed": false,
    "execution": {
     "iopub.execute_input": "2022-03-27T17:53:54.457028Z",
     "iopub.status.busy": "2022-03-27T17:53:54.456043Z",
     "iopub.status.idle": "2022-03-27T17:53:54.458359Z",
     "shell.execute_reply": "2022-03-27T17:53:54.458952Z",
     "shell.execute_reply.started": "2022-03-27T17:48:20.075746Z"
    },
    "jupyter": {
     "outputs_hidden": false
    },
    "papermill": {
     "duration": 0.282278,
     "end_time": "2022-03-27T17:53:54.459155",
     "exception": false,
     "start_time": "2022-03-27T17:53:54.176877",
     "status": "completed"
    },
    "tags": []
   },
   "outputs": [],
   "source": [
    "# def cal_together_score(x):\n",
    "#     USERS = df.loc[df.article_id==x[\"article_id\"],'customer_id'].unique()\n",
    "#     vc2 = df.loc[(df.customer_id.isin(USERS))&(df.article_id!=x[\"article_id\"]),'article_id'].value_counts()\n",
    "#     #pairs[i.item()] = [vc2.index[0], vc2.index[1], vc2.index[2]]\n",
    "#     return [[x.article_id, vc2.index[i], vc2.iloc[i]/x[\"count\"]] for i in range(min(10, len(vc2)))]"
   ]
  },
  {
   "cell_type": "code",
   "execution_count": 27,
   "id": "4f64d5f4",
   "metadata": {
    "_cell_guid": "baadd098-5635-49e3-8326-f799e2a5b9d2",
    "_uuid": "1d30acf1-be00-4393-b7f2-f60f5c6627dd",
    "collapsed": false,
    "execution": {
     "iopub.execute_input": "2022-03-27T17:53:54.844481Z",
     "iopub.status.busy": "2022-03-27T17:53:54.843572Z",
     "iopub.status.idle": "2022-03-27T17:53:54.845839Z",
     "shell.execute_reply": "2022-03-27T17:53:54.845312Z",
     "shell.execute_reply.started": "2022-03-27T17:48:20.086562Z"
    },
    "jupyter": {
     "outputs_hidden": false
    },
    "papermill": {
     "duration": 0.151378,
     "end_time": "2022-03-27T17:53:54.845986",
     "exception": false,
     "start_time": "2022-03-27T17:53:54.694608",
     "status": "completed"
    },
    "tags": []
   },
   "outputs": [],
   "source": [
    "#relation = vc.to_pandas().apply(lambda x: cal_together_score(x), axis = 1).sum()"
   ]
  },
  {
   "cell_type": "code",
   "execution_count": 28,
   "id": "e4c2c028",
   "metadata": {
    "_cell_guid": "61e9feb0-8ccd-4ab6-9b81-3c9249eba7bd",
    "_uuid": "51767f5c-104b-4a76-919f-caeabf3d6fee",
    "collapsed": false,
    "execution": {
     "iopub.execute_input": "2022-03-27T17:53:55.141331Z",
     "iopub.status.busy": "2022-03-27T17:53:55.140529Z",
     "iopub.status.idle": "2022-03-27T17:53:55.143236Z",
     "shell.execute_reply": "2022-03-27T17:53:55.142784Z",
     "shell.execute_reply.started": "2022-03-27T17:48:20.100808Z"
    },
    "jupyter": {
     "outputs_hidden": false
    },
    "papermill": {
     "duration": 0.153143,
     "end_time": "2022-03-27T17:53:55.143360",
     "exception": false,
     "start_time": "2022-03-27T17:53:54.990217",
     "status": "completed"
    },
    "tags": []
   },
   "outputs": [],
   "source": [
    "#%%time\n",
    "# df  = cudf.read_csv('../input/h-and-m-personalized-fashion-recommendations/transactions_train.csv',\n",
    "#                             usecols= ['t_dat', 'customer_id', 'article_id'], \n",
    "#                             dtype={'article_id': 'int32', 't_dat': 'string', 'customer_id': 'string'})\n",
    "# df ['customer_id'] = df ['customer_id'].str[-16:].str.hex_to_int().astype('int64')\n",
    "\n",
    "# df['t_dat'] = cudf.to_datetime(df['t_dat'])\n",
    "# last_ts = df['t_dat'].max()"
   ]
  },
  {
   "cell_type": "code",
   "execution_count": 29,
   "id": "4377f5d8",
   "metadata": {
    "_cell_guid": "8efede7c-b406-4bb9-9679-6b2ddf57be2d",
    "_uuid": "37018992-e497-409a-aa29-9f98db036096",
    "collapsed": false,
    "execution": {
     "iopub.execute_input": "2022-03-27T17:53:55.436523Z",
     "iopub.status.busy": "2022-03-27T17:53:55.435675Z",
     "iopub.status.idle": "2022-03-27T17:53:55.442604Z",
     "shell.execute_reply": "2022-03-27T17:53:55.442142Z",
     "shell.execute_reply.started": "2022-03-27T17:48:20.106458Z"
    },
    "jupyter": {
     "outputs_hidden": false
    },
    "papermill": {
     "duration": 0.154621,
     "end_time": "2022-03-27T17:53:55.442726",
     "exception": false,
     "start_time": "2022-03-27T17:53:55.288105",
     "status": "completed"
    },
    "tags": []
   },
   "outputs": [],
   "source": [
    "df = train.copy()"
   ]
  },
  {
   "cell_type": "code",
   "execution_count": 30,
   "id": "cc55dc73",
   "metadata": {
    "_cell_guid": "4f70828a-7ed6-4ea9-a327-7ac47a3274d0",
    "_uuid": "d30e7289-5fad-4efd-bc05-902658ec1834",
    "collapsed": false,
    "execution": {
     "iopub.execute_input": "2022-03-27T17:53:55.742094Z",
     "iopub.status.busy": "2022-03-27T17:53:55.741231Z",
     "iopub.status.idle": "2022-03-27T17:54:03.467772Z",
     "shell.execute_reply": "2022-03-27T17:54:03.468396Z",
     "shell.execute_reply.started": "2022-03-27T17:48:20.122761Z"
    },
    "jupyter": {
     "outputs_hidden": false
    },
    "papermill": {
     "duration": 7.881544,
     "end_time": "2022-03-27T17:54:03.468602",
     "exception": false,
     "start_time": "2022-03-27T17:53:55.587058",
     "status": "completed"
    },
    "tags": []
   },
   "outputs": [
    {
     "name": "stdout",
     "output_type": "stream",
     "text": [
      "CPU times: user 6.27 s, sys: 1.6 s, total: 7.87 s\n",
      "Wall time: 7.72 s\n"
     ]
    }
   ],
   "source": [
    "%%time\n",
    "tmp = df[['t_dat']].copy().to_pandas()\n",
    "tmp['dow'] = tmp['t_dat'].dt.dayofweek\n",
    "tmp['ldbw'] = tmp['t_dat'] - pd.TimedeltaIndex(tmp['dow'] - 1, unit='D')\n",
    "tmp.loc[tmp['dow'] >=2 , 'ldbw'] = tmp.loc[tmp['dow'] >=2 , 'ldbw'] + pd.TimedeltaIndex(np.ones(len(tmp.loc[tmp['dow'] >=2])) * 7, unit='D')\n",
    "\n",
    "df['ldbw'] = tmp['ldbw'].values"
   ]
  },
  {
   "cell_type": "code",
   "execution_count": 31,
   "id": "d787823c",
   "metadata": {
    "_cell_guid": "062c9e13-0249-4cd1-9833-9d1fb9a4d95a",
    "_uuid": "d7cc8aad-d344-4ae6-9e5e-e0e9160b73db",
    "collapsed": false,
    "execution": {
     "iopub.execute_input": "2022-03-27T17:54:03.762958Z",
     "iopub.status.busy": "2022-03-27T17:54:03.762082Z",
     "iopub.status.idle": "2022-03-27T17:54:03.764302Z",
     "shell.execute_reply": "2022-03-27T17:54:03.763821Z",
     "shell.execute_reply.started": "2022-03-27T17:48:28.067956Z"
    },
    "jupyter": {
     "outputs_hidden": false
    },
    "papermill": {
     "duration": 0.150854,
     "end_time": "2022-03-27T17:54:03.764418",
     "exception": false,
     "start_time": "2022-03-27T17:54:03.613564",
     "status": "completed"
    },
    "tags": []
   },
   "outputs": [],
   "source": [
    "#relation_data = cudf.DataFrame(relation, columns = [\"from_id\", \"to_id\", \"ratio\"])"
   ]
  },
  {
   "cell_type": "code",
   "execution_count": 32,
   "id": "3a8905cf",
   "metadata": {
    "_cell_guid": "d2a497e0-7e56-478f-b4fb-834de252f2ab",
    "_uuid": "a6128a89-50eb-4d88-946b-d20b5948ae56",
    "collapsed": false,
    "execution": {
     "iopub.execute_input": "2022-03-27T17:54:04.056001Z",
     "iopub.status.busy": "2022-03-27T17:54:04.055327Z",
     "iopub.status.idle": "2022-03-27T17:54:04.255701Z",
     "shell.execute_reply": "2022-03-27T17:54:04.254509Z",
     "shell.execute_reply.started": "2022-03-27T17:48:28.073361Z"
    },
    "jupyter": {
     "outputs_hidden": false
    },
    "papermill": {
     "duration": 0.348103,
     "end_time": "2022-03-27T17:54:04.255850",
     "exception": false,
     "start_time": "2022-03-27T17:54:03.907747",
     "status": "completed"
    },
    "tags": []
   },
   "outputs": [],
   "source": [
    "relation_data = cudf.read_csv(\"../input/relation/relation_data.csv\")"
   ]
  },
  {
   "cell_type": "code",
   "execution_count": 33,
   "id": "59d90a73",
   "metadata": {
    "_cell_guid": "5a133069-579f-4e05-9228-6c7403d2a35b",
    "_uuid": "d4e00377-c5df-473f-abcb-e281eda5889a",
    "collapsed": false,
    "execution": {
     "iopub.execute_input": "2022-03-27T17:54:04.565550Z",
     "iopub.status.busy": "2022-03-27T17:54:04.564642Z",
     "iopub.status.idle": "2022-03-27T17:54:04.604371Z",
     "shell.execute_reply": "2022-03-27T17:54:04.604800Z",
     "shell.execute_reply.started": "2022-03-27T17:48:28.313898Z"
    },
    "jupyter": {
     "outputs_hidden": false
    },
    "papermill": {
     "duration": 0.196401,
     "end_time": "2022-03-27T17:54:04.604970",
     "exception": false,
     "start_time": "2022-03-27T17:54:04.408569",
     "status": "completed"
    },
    "tags": []
   },
   "outputs": [
    {
     "data": {
      "text/html": [
       "<div>\n",
       "<style scoped>\n",
       "    .dataframe tbody tr th:only-of-type {\n",
       "        vertical-align: middle;\n",
       "    }\n",
       "\n",
       "    .dataframe tbody tr th {\n",
       "        vertical-align: top;\n",
       "    }\n",
       "\n",
       "    .dataframe thead th {\n",
       "        text-align: right;\n",
       "    }\n",
       "</style>\n",
       "<table border=\"1\" class=\"dataframe\">\n",
       "  <thead>\n",
       "    <tr style=\"text-align: right;\">\n",
       "      <th></th>\n",
       "      <th>from_id</th>\n",
       "      <th>to_id</th>\n",
       "      <th>ratio</th>\n",
       "    </tr>\n",
       "  </thead>\n",
       "  <tbody>\n",
       "    <tr>\n",
       "      <th>0</th>\n",
       "      <td>706016001</td>\n",
       "      <td>706016002</td>\n",
       "      <td>0.250144</td>\n",
       "    </tr>\n",
       "    <tr>\n",
       "      <th>1</th>\n",
       "      <td>706016001</td>\n",
       "      <td>706016003</td>\n",
       "      <td>0.155706</td>\n",
       "    </tr>\n",
       "    <tr>\n",
       "      <th>2</th>\n",
       "      <td>706016001</td>\n",
       "      <td>706016015</td>\n",
       "      <td>0.117943</td>\n",
       "    </tr>\n",
       "    <tr>\n",
       "      <th>3</th>\n",
       "      <td>706016001</td>\n",
       "      <td>706016006</td>\n",
       "      <td>0.097799</td>\n",
       "    </tr>\n",
       "    <tr>\n",
       "      <th>4</th>\n",
       "      <td>706016001</td>\n",
       "      <td>399223001</td>\n",
       "      <td>0.087299</td>\n",
       "    </tr>\n",
       "    <tr>\n",
       "      <th>...</th>\n",
       "      <td>...</td>\n",
       "      <td>...</td>\n",
       "      <td>...</td>\n",
       "    </tr>\n",
       "    <tr>\n",
       "      <th>570535</th>\n",
       "      <td>657165029</td>\n",
       "      <td>763270003</td>\n",
       "      <td>0.120000</td>\n",
       "    </tr>\n",
       "    <tr>\n",
       "      <th>570536</th>\n",
       "      <td>657165029</td>\n",
       "      <td>628327005</td>\n",
       "      <td>0.120000</td>\n",
       "    </tr>\n",
       "    <tr>\n",
       "      <th>570537</th>\n",
       "      <td>657165029</td>\n",
       "      <td>664319001</td>\n",
       "      <td>0.120000</td>\n",
       "    </tr>\n",
       "    <tr>\n",
       "      <th>570538</th>\n",
       "      <td>657165029</td>\n",
       "      <td>608776002</td>\n",
       "      <td>0.100000</td>\n",
       "    </tr>\n",
       "    <tr>\n",
       "      <th>570539</th>\n",
       "      <td>657165029</td>\n",
       "      <td>745806001</td>\n",
       "      <td>0.100000</td>\n",
       "    </tr>\n",
       "  </tbody>\n",
       "</table>\n",
       "<p>570540 rows × 3 columns</p>\n",
       "</div>"
      ],
      "text/plain": [
       "          from_id      to_id     ratio\n",
       "0       706016001  706016002  0.250144\n",
       "1       706016001  706016003  0.155706\n",
       "2       706016001  706016015  0.117943\n",
       "3       706016001  706016006  0.097799\n",
       "4       706016001  399223001  0.087299\n",
       "...           ...        ...       ...\n",
       "570535  657165029  763270003  0.120000\n",
       "570536  657165029  628327005  0.120000\n",
       "570537  657165029  664319001  0.120000\n",
       "570538  657165029  608776002  0.100000\n",
       "570539  657165029  745806001  0.100000\n",
       "\n",
       "[570540 rows x 3 columns]"
      ]
     },
     "execution_count": 33,
     "metadata": {},
     "output_type": "execute_result"
    }
   ],
   "source": [
    "relation_data"
   ]
  },
  {
   "cell_type": "code",
   "execution_count": 34,
   "id": "762a9216",
   "metadata": {
    "_cell_guid": "165d88d1-d353-42a0-ab91-773932b60211",
    "_uuid": "1c0296df-94e9-4103-a2c6-49dc297ee389",
    "collapsed": false,
    "execution": {
     "iopub.execute_input": "2022-03-27T17:54:05.068692Z",
     "iopub.status.busy": "2022-03-27T17:54:05.067980Z",
     "iopub.status.idle": "2022-03-27T17:54:05.070799Z",
     "shell.execute_reply": "2022-03-27T17:54:05.071244Z",
     "shell.execute_reply.started": "2022-03-27T17:48:28.371927Z"
    },
    "jupyter": {
     "outputs_hidden": false
    },
    "papermill": {
     "duration": 0.321288,
     "end_time": "2022-03-27T17:54:05.071406",
     "exception": false,
     "start_time": "2022-03-27T17:54:04.750118",
     "status": "completed"
    },
    "tags": []
   },
   "outputs": [
    {
     "data": {
      "text/plain": [
       "106"
      ]
     },
     "execution_count": 34,
     "metadata": {},
     "output_type": "execute_result"
    }
   ],
   "source": [
    "del tmp\n",
    "gc.collect()"
   ]
  },
  {
   "cell_type": "code",
   "execution_count": 35,
   "id": "4a42cbc3",
   "metadata": {
    "_cell_guid": "d562a5a3-35d8-4c45-b82d-c57eedf8d7a1",
    "_uuid": "cd39be0c-8c1d-4e79-a35b-5e9fc1dcbae7",
    "collapsed": false,
    "execution": {
     "iopub.execute_input": "2022-03-27T17:54:05.532572Z",
     "iopub.status.busy": "2022-03-27T17:54:05.531739Z",
     "iopub.status.idle": "2022-03-27T17:54:05.665561Z",
     "shell.execute_reply": "2022-03-27T17:54:05.666290Z",
     "shell.execute_reply.started": "2022-03-27T17:48:28.538201Z"
    },
    "jupyter": {
     "outputs_hidden": false
    },
    "papermill": {
     "duration": 0.382374,
     "end_time": "2022-03-27T17:54:05.666507",
     "exception": false,
     "start_time": "2022-03-27T17:54:05.284133",
     "status": "completed"
    },
    "tags": []
   },
   "outputs": [],
   "source": [
    "weekly_sales = df.drop('customer_id', axis=1).groupby(['ldbw', 'article_id']).count().reset_index()\n",
    "weekly_sales = weekly_sales.rename(columns={'t_dat': 'count'})"
   ]
  },
  {
   "cell_type": "code",
   "execution_count": 36,
   "id": "69221721",
   "metadata": {
    "_cell_guid": "baba24f2-3166-40d2-ae52-f4bdf7188970",
    "_uuid": "5db5f580-4c19-4dd8-b448-d05ac17d189e",
    "collapsed": false,
    "execution": {
     "iopub.execute_input": "2022-03-27T17:54:06.021024Z",
     "iopub.status.busy": "2022-03-27T17:54:06.020114Z",
     "iopub.status.idle": "2022-03-27T17:54:06.064512Z",
     "shell.execute_reply": "2022-03-27T17:54:06.064941Z",
     "shell.execute_reply.started": "2022-03-27T17:48:28.666892Z"
    },
    "jupyter": {
     "outputs_hidden": false
    },
    "papermill": {
     "duration": 0.208965,
     "end_time": "2022-03-27T17:54:06.065090",
     "exception": false,
     "start_time": "2022-03-27T17:54:05.856125",
     "status": "completed"
    },
    "tags": []
   },
   "outputs": [
    {
     "data": {
      "text/html": [
       "<div>\n",
       "<style scoped>\n",
       "    .dataframe tbody tr th:only-of-type {\n",
       "        vertical-align: middle;\n",
       "    }\n",
       "\n",
       "    .dataframe tbody tr th {\n",
       "        vertical-align: top;\n",
       "    }\n",
       "\n",
       "    .dataframe thead th {\n",
       "        text-align: right;\n",
       "    }\n",
       "</style>\n",
       "<table border=\"1\" class=\"dataframe\">\n",
       "  <thead>\n",
       "    <tr style=\"text-align: right;\">\n",
       "      <th></th>\n",
       "      <th>ldbw</th>\n",
       "      <th>article_id</th>\n",
       "      <th>count</th>\n",
       "      <th>price</th>\n",
       "      <th>sales_channel_id</th>\n",
       "    </tr>\n",
       "  </thead>\n",
       "  <tbody>\n",
       "    <tr>\n",
       "      <th>0</th>\n",
       "      <td>2019-03-12</td>\n",
       "      <td>719447002</td>\n",
       "      <td>4</td>\n",
       "      <td>4</td>\n",
       "      <td>4</td>\n",
       "    </tr>\n",
       "    <tr>\n",
       "      <th>1</th>\n",
       "      <td>2019-04-16</td>\n",
       "      <td>590203002</td>\n",
       "      <td>1</td>\n",
       "      <td>1</td>\n",
       "      <td>1</td>\n",
       "    </tr>\n",
       "    <tr>\n",
       "      <th>2</th>\n",
       "      <td>2020-05-05</td>\n",
       "      <td>831684001</td>\n",
       "      <td>12</td>\n",
       "      <td>12</td>\n",
       "      <td>12</td>\n",
       "    </tr>\n",
       "    <tr>\n",
       "      <th>3</th>\n",
       "      <td>2019-05-28</td>\n",
       "      <td>693508002</td>\n",
       "      <td>1</td>\n",
       "      <td>1</td>\n",
       "      <td>1</td>\n",
       "    </tr>\n",
       "    <tr>\n",
       "      <th>4</th>\n",
       "      <td>2019-07-02</td>\n",
       "      <td>777038001</td>\n",
       "      <td>5</td>\n",
       "      <td>5</td>\n",
       "      <td>5</td>\n",
       "    </tr>\n",
       "    <tr>\n",
       "      <th>...</th>\n",
       "      <td>...</td>\n",
       "      <td>...</td>\n",
       "      <td>...</td>\n",
       "      <td>...</td>\n",
       "      <td>...</td>\n",
       "    </tr>\n",
       "    <tr>\n",
       "      <th>2183240</th>\n",
       "      <td>2019-02-12</td>\n",
       "      <td>664871001</td>\n",
       "      <td>34</td>\n",
       "      <td>34</td>\n",
       "      <td>34</td>\n",
       "    </tr>\n",
       "    <tr>\n",
       "      <th>2183241</th>\n",
       "      <td>2019-11-19</td>\n",
       "      <td>640735001</td>\n",
       "      <td>2</td>\n",
       "      <td>2</td>\n",
       "      <td>2</td>\n",
       "    </tr>\n",
       "    <tr>\n",
       "      <th>2183242</th>\n",
       "      <td>2018-10-02</td>\n",
       "      <td>569355002</td>\n",
       "      <td>6</td>\n",
       "      <td>6</td>\n",
       "      <td>6</td>\n",
       "    </tr>\n",
       "    <tr>\n",
       "      <th>2183243</th>\n",
       "      <td>2019-06-04</td>\n",
       "      <td>684021006</td>\n",
       "      <td>8</td>\n",
       "      <td>8</td>\n",
       "      <td>8</td>\n",
       "    </tr>\n",
       "    <tr>\n",
       "      <th>2183244</th>\n",
       "      <td>2019-04-16</td>\n",
       "      <td>767918005</td>\n",
       "      <td>5</td>\n",
       "      <td>5</td>\n",
       "      <td>5</td>\n",
       "    </tr>\n",
       "  </tbody>\n",
       "</table>\n",
       "<p>2183245 rows × 5 columns</p>\n",
       "</div>"
      ],
      "text/plain": [
       "              ldbw  article_id  count  price  sales_channel_id\n",
       "0       2019-03-12   719447002      4      4                 4\n",
       "1       2019-04-16   590203002      1      1                 1\n",
       "2       2020-05-05   831684001     12     12                12\n",
       "3       2019-05-28   693508002      1      1                 1\n",
       "4       2019-07-02   777038001      5      5                 5\n",
       "...            ...         ...    ...    ...               ...\n",
       "2183240 2019-02-12   664871001     34     34                34\n",
       "2183241 2019-11-19   640735001      2      2                 2\n",
       "2183242 2018-10-02   569355002      6      6                 6\n",
       "2183243 2019-06-04   684021006      8      8                 8\n",
       "2183244 2019-04-16   767918005      5      5                 5\n",
       "\n",
       "[2183245 rows x 5 columns]"
      ]
     },
     "execution_count": 36,
     "metadata": {},
     "output_type": "execute_result"
    }
   ],
   "source": [
    "weekly_sales"
   ]
  },
  {
   "cell_type": "code",
   "execution_count": 37,
   "id": "dc9de361",
   "metadata": {
    "_cell_guid": "50496380-7d4d-4c1d-9419-cb77df7c3eca",
    "_uuid": "1476dd6d-0ab4-442a-8484-5c689c79d890",
    "collapsed": false,
    "execution": {
     "iopub.execute_input": "2022-03-27T17:54:06.366218Z",
     "iopub.status.busy": "2022-03-27T17:54:06.363865Z",
     "iopub.status.idle": "2022-03-27T17:54:06.407134Z",
     "shell.execute_reply": "2022-03-27T17:54:06.406607Z",
     "shell.execute_reply.started": "2022-03-27T17:48:28.727271Z"
    },
    "jupyter": {
     "outputs_hidden": false
    },
    "papermill": {
     "duration": 0.196272,
     "end_time": "2022-03-27T17:54:06.407272",
     "exception": false,
     "start_time": "2022-03-27T17:54:06.211000",
     "status": "completed"
    },
    "tags": []
   },
   "outputs": [],
   "source": [
    "df = df[df[\"ldbw\"] >= pd.to_datetime('2020-08-01')]"
   ]
  },
  {
   "cell_type": "code",
   "execution_count": 38,
   "id": "117a731b",
   "metadata": {
    "_cell_guid": "e12fa790-d43d-4990-bfe9-17e5b4c549a7",
    "_uuid": "e9a1997a-1b9b-436d-9fc6-652aaca59756",
    "collapsed": false,
    "execution": {
     "iopub.execute_input": "2022-03-27T17:54:06.761553Z",
     "iopub.status.busy": "2022-03-27T17:54:06.760675Z",
     "iopub.status.idle": "2022-03-27T17:54:06.801522Z",
     "shell.execute_reply": "2022-03-27T17:54:06.800895Z",
     "shell.execute_reply.started": "2022-03-27T17:48:28.768494Z"
    },
    "jupyter": {
     "outputs_hidden": false
    },
    "papermill": {
     "duration": 0.248765,
     "end_time": "2022-03-27T17:54:06.801661",
     "exception": false,
     "start_time": "2022-03-27T17:54:06.552896",
     "status": "completed"
    },
    "tags": []
   },
   "outputs": [],
   "source": [
    "full_result = df.merge(relation_data, left_on = \"article_id\", right_on = \"from_id\")"
   ]
  },
  {
   "cell_type": "code",
   "execution_count": 39,
   "id": "4934c50e",
   "metadata": {
    "_cell_guid": "10b315ec-7ea4-4172-ad55-a70246ce96a1",
    "_uuid": "b7bc8b84-f390-4b24-946b-fa2669f6b0e2",
    "collapsed": false,
    "execution": {
     "iopub.execute_input": "2022-03-27T17:54:07.107241Z",
     "iopub.status.busy": "2022-03-27T17:54:07.099944Z",
     "iopub.status.idle": "2022-03-27T17:54:07.109600Z",
     "shell.execute_reply": "2022-03-27T17:54:07.109152Z",
     "shell.execute_reply.started": "2022-03-27T17:48:28.825780Z"
    },
    "jupyter": {
     "outputs_hidden": false
    },
    "papermill": {
     "duration": 0.160367,
     "end_time": "2022-03-27T17:54:07.109716",
     "exception": false,
     "start_time": "2022-03-27T17:54:06.949349",
     "status": "completed"
    },
    "tags": []
   },
   "outputs": [],
   "source": [
    "full_result.drop([\"article_id\", \"from_id\"], axis = 1, inplace = True)"
   ]
  },
  {
   "cell_type": "code",
   "execution_count": 40,
   "id": "89c7e658",
   "metadata": {
    "_cell_guid": "59103666-3b8d-4570-8cf7-4566d533d022",
    "_uuid": "03524976-e707-44e8-90c9-774bbb8381a2",
    "collapsed": false,
    "execution": {
     "iopub.execute_input": "2022-03-27T17:54:07.409776Z",
     "iopub.status.busy": "2022-03-27T17:54:07.408985Z",
     "iopub.status.idle": "2022-03-27T17:54:07.439929Z",
     "shell.execute_reply": "2022-03-27T17:54:07.439444Z",
     "shell.execute_reply.started": "2022-03-27T17:48:28.835670Z"
    },
    "jupyter": {
     "outputs_hidden": false
    },
    "papermill": {
     "duration": 0.184491,
     "end_time": "2022-03-27T17:54:07.440067",
     "exception": false,
     "start_time": "2022-03-27T17:54:07.255576",
     "status": "completed"
    },
    "tags": []
   },
   "outputs": [],
   "source": [
    "full_result = full_result.rename(columns = {\"to_id\": \"article_id\"})"
   ]
  },
  {
   "cell_type": "code",
   "execution_count": 41,
   "id": "6c2abc7c",
   "metadata": {
    "_cell_guid": "ee0a4aa7-6249-4122-81ad-284ca6126585",
    "_uuid": "66148fa0-a308-495b-9af7-ffedc9739c4f",
    "collapsed": false,
    "execution": {
     "iopub.execute_input": "2022-03-27T17:54:07.747884Z",
     "iopub.status.busy": "2022-03-27T17:54:07.746946Z",
     "iopub.status.idle": "2022-03-27T17:54:07.805250Z",
     "shell.execute_reply": "2022-03-27T17:54:07.805634Z",
     "shell.execute_reply.started": "2022-03-27T17:48:28.878402Z"
    },
    "jupyter": {
     "outputs_hidden": false
    },
    "papermill": {
     "duration": 0.220171,
     "end_time": "2022-03-27T17:54:07.805786",
     "exception": false,
     "start_time": "2022-03-27T17:54:07.585615",
     "status": "completed"
    },
    "tags": []
   },
   "outputs": [
    {
     "data": {
      "text/html": [
       "<div>\n",
       "<style scoped>\n",
       "    .dataframe tbody tr th:only-of-type {\n",
       "        vertical-align: middle;\n",
       "    }\n",
       "\n",
       "    .dataframe tbody tr th {\n",
       "        vertical-align: top;\n",
       "    }\n",
       "\n",
       "    .dataframe thead th {\n",
       "        text-align: right;\n",
       "    }\n",
       "</style>\n",
       "<table border=\"1\" class=\"dataframe\">\n",
       "  <thead>\n",
       "    <tr style=\"text-align: right;\">\n",
       "      <th></th>\n",
       "      <th>t_dat</th>\n",
       "      <th>customer_id</th>\n",
       "      <th>price</th>\n",
       "      <th>sales_channel_id</th>\n",
       "      <th>ldbw</th>\n",
       "      <th>article_id</th>\n",
       "      <th>ratio</th>\n",
       "    </tr>\n",
       "  </thead>\n",
       "  <tbody>\n",
       "    <tr>\n",
       "      <th>0</th>\n",
       "      <td>2020-07-29</td>\n",
       "      <td>-1641462433035272469</td>\n",
       "      <td>0.053305</td>\n",
       "      <td>2</td>\n",
       "      <td>2020-08-04</td>\n",
       "      <td>857277001</td>\n",
       "      <td>0.088398</td>\n",
       "    </tr>\n",
       "    <tr>\n",
       "      <th>1</th>\n",
       "      <td>2020-07-29</td>\n",
       "      <td>-8557685387333774327</td>\n",
       "      <td>0.025407</td>\n",
       "      <td>2</td>\n",
       "      <td>2020-08-04</td>\n",
       "      <td>562245046</td>\n",
       "      <td>0.069401</td>\n",
       "    </tr>\n",
       "    <tr>\n",
       "      <th>2</th>\n",
       "      <td>2020-07-29</td>\n",
       "      <td>-2035395705068495128</td>\n",
       "      <td>0.016932</td>\n",
       "      <td>1</td>\n",
       "      <td>2020-08-04</td>\n",
       "      <td>372860001</td>\n",
       "      <td>0.100000</td>\n",
       "    </tr>\n",
       "    <tr>\n",
       "      <th>3</th>\n",
       "      <td>2020-07-29</td>\n",
       "      <td>882143883989844769</td>\n",
       "      <td>0.005068</td>\n",
       "      <td>1</td>\n",
       "      <td>2020-08-04</td>\n",
       "      <td>718982001</td>\n",
       "      <td>0.105854</td>\n",
       "    </tr>\n",
       "    <tr>\n",
       "      <th>4</th>\n",
       "      <td>2020-07-29</td>\n",
       "      <td>-1641462433035272469</td>\n",
       "      <td>0.023983</td>\n",
       "      <td>2</td>\n",
       "      <td>2020-08-04</td>\n",
       "      <td>857812004</td>\n",
       "      <td>0.097245</td>\n",
       "    </tr>\n",
       "    <tr>\n",
       "      <th>...</th>\n",
       "      <td>...</td>\n",
       "      <td>...</td>\n",
       "      <td>...</td>\n",
       "      <td>...</td>\n",
       "      <td>...</td>\n",
       "      <td>...</td>\n",
       "      <td>...</td>\n",
       "    </tr>\n",
       "    <tr>\n",
       "      <th>18750425</th>\n",
       "      <td>2020-09-15</td>\n",
       "      <td>415631830572439483</td>\n",
       "      <td>0.023712</td>\n",
       "      <td>2</td>\n",
       "      <td>2020-09-15</td>\n",
       "      <td>605690001</td>\n",
       "      <td>0.066964</td>\n",
       "    </tr>\n",
       "    <tr>\n",
       "      <th>18750426</th>\n",
       "      <td>2020-09-15</td>\n",
       "      <td>8911304856847716614</td>\n",
       "      <td>0.020322</td>\n",
       "      <td>1</td>\n",
       "      <td>2020-09-15</td>\n",
       "      <td>706016001</td>\n",
       "      <td>0.061111</td>\n",
       "    </tr>\n",
       "    <tr>\n",
       "      <th>18750427</th>\n",
       "      <td>2020-09-15</td>\n",
       "      <td>1234786200035240555</td>\n",
       "      <td>0.031627</td>\n",
       "      <td>2</td>\n",
       "      <td>2020-09-15</td>\n",
       "      <td>562245018</td>\n",
       "      <td>0.100418</td>\n",
       "    </tr>\n",
       "    <tr>\n",
       "      <th>18750428</th>\n",
       "      <td>2020-09-15</td>\n",
       "      <td>-6967407713969559698</td>\n",
       "      <td>0.033881</td>\n",
       "      <td>1</td>\n",
       "      <td>2020-09-15</td>\n",
       "      <td>711053003</td>\n",
       "      <td>0.064935</td>\n",
       "    </tr>\n",
       "    <tr>\n",
       "      <th>18750429</th>\n",
       "      <td>2020-09-15</td>\n",
       "      <td>415631830572439483</td>\n",
       "      <td>0.023712</td>\n",
       "      <td>2</td>\n",
       "      <td>2020-09-15</td>\n",
       "      <td>568573001</td>\n",
       "      <td>0.064732</td>\n",
       "    </tr>\n",
       "  </tbody>\n",
       "</table>\n",
       "<p>18750430 rows × 7 columns</p>\n",
       "</div>"
      ],
      "text/plain": [
       "              t_dat          customer_id     price  sales_channel_id  \\\n",
       "0        2020-07-29 -1641462433035272469  0.053305                 2   \n",
       "1        2020-07-29 -8557685387333774327  0.025407                 2   \n",
       "2        2020-07-29 -2035395705068495128  0.016932                 1   \n",
       "3        2020-07-29   882143883989844769  0.005068                 1   \n",
       "4        2020-07-29 -1641462433035272469  0.023983                 2   \n",
       "...             ...                  ...       ...               ...   \n",
       "18750425 2020-09-15   415631830572439483  0.023712                 2   \n",
       "18750426 2020-09-15  8911304856847716614  0.020322                 1   \n",
       "18750427 2020-09-15  1234786200035240555  0.031627                 2   \n",
       "18750428 2020-09-15 -6967407713969559698  0.033881                 1   \n",
       "18750429 2020-09-15   415631830572439483  0.023712                 2   \n",
       "\n",
       "               ldbw  article_id     ratio  \n",
       "0        2020-08-04   857277001  0.088398  \n",
       "1        2020-08-04   562245046  0.069401  \n",
       "2        2020-08-04   372860001  0.100000  \n",
       "3        2020-08-04   718982001  0.105854  \n",
       "4        2020-08-04   857812004  0.097245  \n",
       "...             ...         ...       ...  \n",
       "18750425 2020-09-15   605690001  0.066964  \n",
       "18750426 2020-09-15   706016001  0.061111  \n",
       "18750427 2020-09-15   562245018  0.100418  \n",
       "18750428 2020-09-15   711053003  0.064935  \n",
       "18750429 2020-09-15   568573001  0.064732  \n",
       "\n",
       "[18750430 rows x 7 columns]"
      ]
     },
     "execution_count": 41,
     "metadata": {},
     "output_type": "execute_result"
    }
   ],
   "source": [
    "full_result"
   ]
  },
  {
   "cell_type": "code",
   "execution_count": 42,
   "id": "0fd45a5f",
   "metadata": {
    "_cell_guid": "ef7e2cbb-fe1a-44d7-9a3e-69283f5eb08b",
    "_uuid": "bd61ab8e-d639-4c55-9481-ec966895a670",
    "collapsed": false,
    "execution": {
     "iopub.execute_input": "2022-03-27T17:54:08.234798Z",
     "iopub.status.busy": "2022-03-27T17:54:08.233957Z",
     "iopub.status.idle": "2022-03-27T17:54:08.281860Z",
     "shell.execute_reply": "2022-03-27T17:54:08.283042Z",
     "shell.execute_reply.started": "2022-03-27T17:48:28.948541Z"
    },
    "jupyter": {
     "outputs_hidden": false
    },
    "papermill": {
     "duration": 0.317062,
     "end_time": "2022-03-27T17:54:08.283271",
     "exception": false,
     "start_time": "2022-03-27T17:54:07.966209",
     "status": "completed"
    },
    "tags": []
   },
   "outputs": [],
   "source": [
    "full_result = full_result.merge(weekly_sales, on=['ldbw', 'article_id'], how = 'left')"
   ]
  },
  {
   "cell_type": "code",
   "execution_count": 43,
   "id": "a7877d0a",
   "metadata": {
    "_cell_guid": "17292033-c633-439e-afc9-f95d9b383a05",
    "_uuid": "d4872528-d5e3-4078-80d2-7cc02775988a",
    "collapsed": false,
    "execution": {
     "iopub.execute_input": "2022-03-27T17:54:08.769191Z",
     "iopub.status.busy": "2022-03-27T17:54:08.767747Z",
     "iopub.status.idle": "2022-03-27T17:54:08.770963Z",
     "shell.execute_reply": "2022-03-27T17:54:08.770094Z",
     "shell.execute_reply.started": "2022-03-27T17:48:29.013247Z"
    },
    "jupyter": {
     "outputs_hidden": false
    },
    "papermill": {
     "duration": 0.255669,
     "end_time": "2022-03-27T17:54:08.771256",
     "exception": false,
     "start_time": "2022-03-27T17:54:08.515587",
     "status": "completed"
    },
    "tags": []
   },
   "outputs": [],
   "source": [
    "#full_result.drop([\"article_id\", \"from_id\", \"count\"], axis = 1, inplace = True)"
   ]
  },
  {
   "cell_type": "code",
   "execution_count": 44,
   "id": "ad30e4c1",
   "metadata": {
    "_cell_guid": "9b94f109-f533-4008-8e4a-7d09d5a830e2",
    "_uuid": "8c5c1f5b-448f-4c1f-aacf-bdadd372b414",
    "collapsed": false,
    "execution": {
     "iopub.execute_input": "2022-03-27T17:54:09.238453Z",
     "iopub.status.busy": "2022-03-27T17:54:09.236722Z",
     "iopub.status.idle": "2022-03-27T17:54:09.239083Z",
     "shell.execute_reply": "2022-03-27T17:54:09.239500Z",
     "shell.execute_reply.started": "2022-03-27T17:48:29.018339Z"
    },
    "jupyter": {
     "outputs_hidden": false
    },
    "papermill": {
     "duration": 0.225601,
     "end_time": "2022-03-27T17:54:09.239642",
     "exception": false,
     "start_time": "2022-03-27T17:54:09.014041",
     "status": "completed"
    },
    "tags": []
   },
   "outputs": [],
   "source": [
    "#full_result.dropna(inplace)"
   ]
  },
  {
   "cell_type": "code",
   "execution_count": 45,
   "id": "86d3ff7d",
   "metadata": {
    "_cell_guid": "a41a07f7-899b-4233-b4e9-d5ec5acbd30a",
    "_uuid": "faa160ae-7200-4fe2-9959-eb5855b90c3c",
    "collapsed": false,
    "execution": {
     "iopub.execute_input": "2022-03-27T17:54:09.540479Z",
     "iopub.status.busy": "2022-03-27T17:54:09.539613Z",
     "iopub.status.idle": "2022-03-27T17:54:09.626671Z",
     "shell.execute_reply": "2022-03-27T17:54:09.626210Z",
     "shell.execute_reply.started": "2022-03-27T17:48:29.027180Z"
    },
    "jupyter": {
     "outputs_hidden": false
    },
    "papermill": {
     "duration": 0.238034,
     "end_time": "2022-03-27T17:54:09.626800",
     "exception": false,
     "start_time": "2022-03-27T17:54:09.388766",
     "status": "completed"
    },
    "tags": []
   },
   "outputs": [],
   "source": [
    "weekly_sales = weekly_sales.reset_index().set_index('article_id')\n",
    "\n",
    "full_result = full_result.merge(\n",
    "    weekly_sales.loc[weekly_sales['ldbw']==Last_date, ['count']],\n",
    "    on='article_id', suffixes=(\"\", \"_targ\"))\n",
    "\n",
    "full_result['count_targ'].fillna(0, inplace=True)"
   ]
  },
  {
   "cell_type": "code",
   "execution_count": 46,
   "id": "77e08d0c",
   "metadata": {
    "_cell_guid": "a8fd499d-6b8b-44ef-b355-464934a2cea1",
    "_uuid": "32269869-dcd4-4efb-b262-24eea971d25b",
    "collapsed": false,
    "execution": {
     "iopub.execute_input": "2022-03-27T17:54:09.933555Z",
     "iopub.status.busy": "2022-03-27T17:54:09.932648Z",
     "iopub.status.idle": "2022-03-27T17:54:10.015090Z",
     "shell.execute_reply": "2022-03-27T17:54:10.015524Z",
     "shell.execute_reply.started": "2022-03-27T17:48:29.120515Z"
    },
    "jupyter": {
     "outputs_hidden": false
    },
    "papermill": {
     "duration": 0.239244,
     "end_time": "2022-03-27T17:54:10.015669",
     "exception": false,
     "start_time": "2022-03-27T17:54:09.776425",
     "status": "completed"
    },
    "tags": []
   },
   "outputs": [
    {
     "data": {
      "text/html": [
       "<div>\n",
       "<style scoped>\n",
       "    .dataframe tbody tr th:only-of-type {\n",
       "        vertical-align: middle;\n",
       "    }\n",
       "\n",
       "    .dataframe tbody tr th {\n",
       "        vertical-align: top;\n",
       "    }\n",
       "\n",
       "    .dataframe thead th {\n",
       "        text-align: right;\n",
       "    }\n",
       "</style>\n",
       "<table border=\"1\" class=\"dataframe\">\n",
       "  <thead>\n",
       "    <tr style=\"text-align: right;\">\n",
       "      <th></th>\n",
       "      <th>t_dat</th>\n",
       "      <th>customer_id</th>\n",
       "      <th>price_x</th>\n",
       "      <th>sales_channel_id_x</th>\n",
       "      <th>ldbw</th>\n",
       "      <th>article_id</th>\n",
       "      <th>ratio</th>\n",
       "      <th>count</th>\n",
       "      <th>price_y</th>\n",
       "      <th>sales_channel_id_y</th>\n",
       "      <th>count_targ</th>\n",
       "    </tr>\n",
       "  </thead>\n",
       "  <tbody>\n",
       "    <tr>\n",
       "      <th>0</th>\n",
       "      <td>2020-07-29</td>\n",
       "      <td>-2039222674783329315</td>\n",
       "      <td>0.016932</td>\n",
       "      <td>2</td>\n",
       "      <td>2020-08-04</td>\n",
       "      <td>706016002</td>\n",
       "      <td>0.081232</td>\n",
       "      <td>413</td>\n",
       "      <td>413</td>\n",
       "      <td>413</td>\n",
       "      <td>373</td>\n",
       "    </tr>\n",
       "    <tr>\n",
       "      <th>1</th>\n",
       "      <td>2020-07-29</td>\n",
       "      <td>-7058265117048502603</td>\n",
       "      <td>0.014898</td>\n",
       "      <td>1</td>\n",
       "      <td>2020-08-04</td>\n",
       "      <td>610776002</td>\n",
       "      <td>0.069242</td>\n",
       "      <td>208</td>\n",
       "      <td>208</td>\n",
       "      <td>208</td>\n",
       "      <td>206</td>\n",
       "    </tr>\n",
       "    <tr>\n",
       "      <th>2</th>\n",
       "      <td>2020-07-29</td>\n",
       "      <td>7324321488669440432</td>\n",
       "      <td>0.020322</td>\n",
       "      <td>2</td>\n",
       "      <td>2020-08-04</td>\n",
       "      <td>863456002</td>\n",
       "      <td>0.119863</td>\n",
       "      <td>45</td>\n",
       "      <td>45</td>\n",
       "      <td>45</td>\n",
       "      <td>8</td>\n",
       "    </tr>\n",
       "    <tr>\n",
       "      <th>3</th>\n",
       "      <td>2020-07-29</td>\n",
       "      <td>-7265984382623738767</td>\n",
       "      <td>0.031763</td>\n",
       "      <td>1</td>\n",
       "      <td>2020-08-04</td>\n",
       "      <td>372860001</td>\n",
       "      <td>0.064644</td>\n",
       "      <td>311</td>\n",
       "      <td>311</td>\n",
       "      <td>311</td>\n",
       "      <td>264</td>\n",
       "    </tr>\n",
       "    <tr>\n",
       "      <th>4</th>\n",
       "      <td>2020-07-29</td>\n",
       "      <td>-7058265117048502603</td>\n",
       "      <td>0.013542</td>\n",
       "      <td>1</td>\n",
       "      <td>2020-08-04</td>\n",
       "      <td>818031001</td>\n",
       "      <td>0.061606</td>\n",
       "      <td>122</td>\n",
       "      <td>122</td>\n",
       "      <td>122</td>\n",
       "      <td>15</td>\n",
       "    </tr>\n",
       "    <tr>\n",
       "      <th>...</th>\n",
       "      <td>...</td>\n",
       "      <td>...</td>\n",
       "      <td>...</td>\n",
       "      <td>...</td>\n",
       "      <td>...</td>\n",
       "      <td>...</td>\n",
       "      <td>...</td>\n",
       "      <td>...</td>\n",
       "      <td>...</td>\n",
       "      <td>...</td>\n",
       "      <td>...</td>\n",
       "    </tr>\n",
       "    <tr>\n",
       "      <th>17558330</th>\n",
       "      <td>2020-09-15</td>\n",
       "      <td>8388123468887522289</td>\n",
       "      <td>0.042356</td>\n",
       "      <td>2</td>\n",
       "      <td>2020-09-15</td>\n",
       "      <td>866731001</td>\n",
       "      <td>0.158798</td>\n",
       "      <td>225</td>\n",
       "      <td>225</td>\n",
       "      <td>225</td>\n",
       "      <td>225</td>\n",
       "    </tr>\n",
       "    <tr>\n",
       "      <th>17558331</th>\n",
       "      <td>2020-09-15</td>\n",
       "      <td>-9001402719758913542</td>\n",
       "      <td>0.067780</td>\n",
       "      <td>1</td>\n",
       "      <td>2020-09-15</td>\n",
       "      <td>570002002</td>\n",
       "      <td>0.073770</td>\n",
       "      <td>31</td>\n",
       "      <td>31</td>\n",
       "      <td>31</td>\n",
       "      <td>31</td>\n",
       "    </tr>\n",
       "    <tr>\n",
       "      <th>17558332</th>\n",
       "      <td>2020-09-15</td>\n",
       "      <td>8388123468887522289</td>\n",
       "      <td>0.016932</td>\n",
       "      <td>2</td>\n",
       "      <td>2020-09-15</td>\n",
       "      <td>783346001</td>\n",
       "      <td>0.068581</td>\n",
       "      <td>266</td>\n",
       "      <td>266</td>\n",
       "      <td>266</td>\n",
       "      <td>266</td>\n",
       "    </tr>\n",
       "    <tr>\n",
       "      <th>17558333</th>\n",
       "      <td>2020-09-15</td>\n",
       "      <td>-9001402719758913542</td>\n",
       "      <td>0.067780</td>\n",
       "      <td>1</td>\n",
       "      <td>2020-09-15</td>\n",
       "      <td>905757002</td>\n",
       "      <td>0.073770</td>\n",
       "      <td>21</td>\n",
       "      <td>21</td>\n",
       "      <td>21</td>\n",
       "      <td>21</td>\n",
       "    </tr>\n",
       "    <tr>\n",
       "      <th>17558334</th>\n",
       "      <td>2020-09-15</td>\n",
       "      <td>8388123468887522289</td>\n",
       "      <td>0.016932</td>\n",
       "      <td>2</td>\n",
       "      <td>2020-09-15</td>\n",
       "      <td>562245046</td>\n",
       "      <td>0.066986</td>\n",
       "      <td>206</td>\n",
       "      <td>206</td>\n",
       "      <td>206</td>\n",
       "      <td>206</td>\n",
       "    </tr>\n",
       "  </tbody>\n",
       "</table>\n",
       "<p>17558335 rows × 11 columns</p>\n",
       "</div>"
      ],
      "text/plain": [
       "              t_dat          customer_id   price_x  sales_channel_id_x  \\\n",
       "0        2020-07-29 -2039222674783329315  0.016932                   2   \n",
       "1        2020-07-29 -7058265117048502603  0.014898                   1   \n",
       "2        2020-07-29  7324321488669440432  0.020322                   2   \n",
       "3        2020-07-29 -7265984382623738767  0.031763                   1   \n",
       "4        2020-07-29 -7058265117048502603  0.013542                   1   \n",
       "...             ...                  ...       ...                 ...   \n",
       "17558330 2020-09-15  8388123468887522289  0.042356                   2   \n",
       "17558331 2020-09-15 -9001402719758913542  0.067780                   1   \n",
       "17558332 2020-09-15  8388123468887522289  0.016932                   2   \n",
       "17558333 2020-09-15 -9001402719758913542  0.067780                   1   \n",
       "17558334 2020-09-15  8388123468887522289  0.016932                   2   \n",
       "\n",
       "               ldbw  article_id     ratio  count  price_y  sales_channel_id_y  \\\n",
       "0        2020-08-04   706016002  0.081232    413      413                 413   \n",
       "1        2020-08-04   610776002  0.069242    208      208                 208   \n",
       "2        2020-08-04   863456002  0.119863     45       45                  45   \n",
       "3        2020-08-04   372860001  0.064644    311      311                 311   \n",
       "4        2020-08-04   818031001  0.061606    122      122                 122   \n",
       "...             ...         ...       ...    ...      ...                 ...   \n",
       "17558330 2020-09-15   866731001  0.158798    225      225                 225   \n",
       "17558331 2020-09-15   570002002  0.073770     31       31                  31   \n",
       "17558332 2020-09-15   783346001  0.068581    266      266                 266   \n",
       "17558333 2020-09-15   905757002  0.073770     21       21                  21   \n",
       "17558334 2020-09-15   562245046  0.066986    206      206                 206   \n",
       "\n",
       "          count_targ  \n",
       "0                373  \n",
       "1                206  \n",
       "2                  8  \n",
       "3                264  \n",
       "4                 15  \n",
       "...              ...  \n",
       "17558330         225  \n",
       "17558331          31  \n",
       "17558332         266  \n",
       "17558333          21  \n",
       "17558334         206  \n",
       "\n",
       "[17558335 rows x 11 columns]"
      ]
     },
     "execution_count": 46,
     "metadata": {},
     "output_type": "execute_result"
    }
   ],
   "source": [
    "full_result"
   ]
  },
  {
   "cell_type": "code",
   "execution_count": 47,
   "id": "ed67821a",
   "metadata": {
    "_cell_guid": "e4f03f0e-d1a2-4efc-a167-d32019ddf872",
    "_uuid": "6a5cd0bb-03ca-4534-bbf7-5f1cd32c7e49",
    "collapsed": false,
    "execution": {
     "iopub.execute_input": "2022-03-27T17:54:10.321825Z",
     "iopub.status.busy": "2022-03-27T17:54:10.321057Z",
     "iopub.status.idle": "2022-03-27T17:54:10.324376Z",
     "shell.execute_reply": "2022-03-27T17:54:10.323890Z",
     "shell.execute_reply.started": "2022-03-27T17:48:29.208117Z"
    },
    "jupyter": {
     "outputs_hidden": false
    },
    "papermill": {
     "duration": 0.160945,
     "end_time": "2022-03-27T17:54:10.324495",
     "exception": false,
     "start_time": "2022-03-27T17:54:10.163550",
     "status": "completed"
    },
    "tags": []
   },
   "outputs": [],
   "source": [
    "full_result['quotient'] = full_result['count_targ'] / full_result['count']"
   ]
  },
  {
   "cell_type": "code",
   "execution_count": 48,
   "id": "9f18ea52",
   "metadata": {
    "_cell_guid": "260ed538-7ea0-4f0f-9169-4fc9fb90ceb3",
    "_uuid": "e9b3e235-f63f-4e64-9300-bb4080403bff",
    "collapsed": false,
    "execution": {
     "iopub.execute_input": "2022-03-27T17:54:10.630398Z",
     "iopub.status.busy": "2022-03-27T17:54:10.629505Z",
     "iopub.status.idle": "2022-03-27T17:54:34.337164Z",
     "shell.execute_reply": "2022-03-27T17:54:34.337874Z",
     "shell.execute_reply.started": "2022-03-27T17:48:29.217631Z"
    },
    "jupyter": {
     "outputs_hidden": false
    },
    "papermill": {
     "duration": 23.866076,
     "end_time": "2022-03-27T17:54:34.338114",
     "exception": false,
     "start_time": "2022-03-27T17:54:10.472038",
     "status": "completed"
    },
    "tags": []
   },
   "outputs": [
    {
     "name": "stdout",
     "output_type": "stream",
     "text": [
      "CPU times: user 19 s, sys: 6.96 s, total: 26 s\n",
      "Wall time: 23.7 s\n"
     ]
    }
   ],
   "source": [
    "%%time\n",
    "purchase_dict = {}\n",
    "\n",
    "tmp = full_result.copy().to_pandas()\n",
    "tmp['x'] = ((Last_date - tmp['t_dat']) / np.timedelta64(1, 'D')).astype(int)\n",
    "tmp['dummy_1'] = 1 \n",
    "tmp['x'] = tmp[[\"x\", \"dummy_1\"]].max(axis=1)\n",
    "\n",
    "a, b, c, d = 2.5e4, 1.5e5, 2e-1, 1e3\n",
    "total = 1715530\n",
    "tmp['y'] = ((a / np.sqrt(tmp['x']) + b * np.exp(-c*tmp['x']) - d) / total +\\\n",
    "(a / np.sqrt(tmp['x']+1) + b * np.exp(-c*(tmp['x']+1)) - d) / total +\\\n",
    "(a / np.sqrt(tmp['x']+2) + b * np.exp(-c*(tmp['x']+2)) - d) / total +\\\n",
    "(a / np.sqrt(tmp['x']+3) + b * np.exp(-c*(tmp['x']+3)) - d) / total +\\\n",
    "(a / np.sqrt(tmp['x']+4) + b * np.exp(-c*(tmp['x']+4)) - d) / total +\\\n",
    "(a / np.sqrt(tmp['x']+5) + b * np.exp(-c*(tmp['x']+5)) - d) / total +\\\n",
    "(a / np.sqrt(tmp['x']+6) + b * np.exp(-c*(tmp['x']+6)) - d) / total)\n",
    "\n",
    "tmp['dummy_0'] = 0 \n",
    "tmp['y'] = tmp[[\"y\", \"dummy_0\"]].max(axis=1)\n",
    "tmp['score'] = tmp['quotient'] * tmp['y'] * tmp[\"ratio\"]\n",
    "\n",
    "tmp = tmp.groupby(['customer_id', 'article_id']).agg({'score': 'sum'})\n",
    "tmp = tmp.reset_index()\n",
    "\n",
    "tmp = tmp.loc[tmp['score'] > 0]\n",
    "tmp['rank'] = tmp.groupby(\"customer_id\")[\"score\"].rank(\"dense\", ascending=False)\n",
    "tmp = tmp.loc[tmp['rank'] <= 12]\n",
    "tmp[\"source\"] = 2\n",
    "\n",
    "result2 = tmp[[\"customer_id\", \"article_id\", \"source\", \"score\", \"rank\"]]"
   ]
  },
  {
   "cell_type": "code",
   "execution_count": 49,
   "id": "a04f29b8",
   "metadata": {
    "_cell_guid": "a1c88f16-7ee7-4f8f-914a-95a25add22b6",
    "_uuid": "16adb038-8a6d-4e50-a466-b0011a6787e3",
    "collapsed": false,
    "execution": {
     "iopub.execute_input": "2022-03-27T17:54:34.662057Z",
     "iopub.status.busy": "2022-03-27T17:54:34.661115Z",
     "iopub.status.idle": "2022-03-27T17:54:34.662899Z",
     "shell.execute_reply": "2022-03-27T17:54:34.663317Z",
     "shell.execute_reply.started": "2022-03-27T17:48:51.824327Z"
    },
    "jupyter": {
     "outputs_hidden": false
    },
    "papermill": {
     "duration": 0.158764,
     "end_time": "2022-03-27T17:54:34.663467",
     "exception": false,
     "start_time": "2022-03-27T17:54:34.504703",
     "status": "completed"
    },
    "tags": []
   },
   "outputs": [],
   "source": [
    "#result2.to_csv(\"result2.csv\", index = False)"
   ]
  },
  {
   "cell_type": "code",
   "execution_count": 50,
   "id": "733ac670",
   "metadata": {
    "_cell_guid": "d83f7cfd-a6d0-403c-9f3f-c7fe1dba58b6",
    "_uuid": "73527a50-5428-40cc-b834-1fb7eca3bf56",
    "collapsed": false,
    "execution": {
     "iopub.execute_input": "2022-03-27T17:54:35.114016Z",
     "iopub.status.busy": "2022-03-27T17:54:35.112554Z",
     "iopub.status.idle": "2022-03-27T17:54:35.116772Z",
     "shell.execute_reply": "2022-03-27T17:54:35.117232Z",
     "shell.execute_reply.started": "2022-03-27T17:48:51.830064Z"
    },
    "jupyter": {
     "outputs_hidden": false
    },
    "papermill": {
     "duration": 0.305836,
     "end_time": "2022-03-27T17:54:35.117390",
     "exception": false,
     "start_time": "2022-03-27T17:54:34.811554",
     "status": "completed"
    },
    "tags": []
   },
   "outputs": [
    {
     "data": {
      "text/plain": [
       "42"
      ]
     },
     "execution_count": 50,
     "metadata": {},
     "output_type": "execute_result"
    }
   ],
   "source": [
    "del tmp\n",
    "del df\n",
    "del full_result\n",
    "gc.collect()"
   ]
  },
  {
   "cell_type": "code",
   "execution_count": 51,
   "id": "6c3cff90",
   "metadata": {
    "_cell_guid": "87296a64-ae39-488a-a517-fd61510c2aab",
    "_uuid": "43722243-4987-498c-a903-1cbc41421af2",
    "collapsed": false,
    "execution": {
     "iopub.execute_input": "2022-03-27T17:54:35.419675Z",
     "iopub.status.busy": "2022-03-27T17:54:35.418632Z",
     "iopub.status.idle": "2022-03-27T17:54:35.420487Z",
     "shell.execute_reply": "2022-03-27T17:54:35.420906Z",
     "shell.execute_reply.started": "2022-03-27T17:48:51.972919Z"
    },
    "jupyter": {
     "outputs_hidden": false
    },
    "papermill": {
     "duration": 0.154655,
     "end_time": "2022-03-27T17:54:35.421063",
     "exception": false,
     "start_time": "2022-03-27T17:54:35.266408",
     "status": "completed"
    },
    "tags": []
   },
   "outputs": [],
   "source": [
    "#relation_data.to_csv(\"/kaggle/working/relation_data.csv\", index = False)"
   ]
  },
  {
   "cell_type": "code",
   "execution_count": 52,
   "id": "6ae60d9c",
   "metadata": {
    "_cell_guid": "db9c575d-7371-49ab-b29e-90c07795d63e",
    "_uuid": "87951b6a-89c6-4c93-8801-6a6067e0a2d2",
    "collapsed": false,
    "execution": {
     "iopub.execute_input": "2022-03-27T17:54:35.725083Z",
     "iopub.status.busy": "2022-03-27T17:54:35.724161Z",
     "iopub.status.idle": "2022-03-27T17:54:35.726056Z",
     "shell.execute_reply": "2022-03-27T17:54:35.726478Z",
     "shell.execute_reply.started": "2022-03-27T17:48:51.979507Z"
    },
    "jupyter": {
     "outputs_hidden": false
    },
    "papermill": {
     "duration": 0.156797,
     "end_time": "2022-03-27T17:54:35.726619",
     "exception": false,
     "start_time": "2022-03-27T17:54:35.569822",
     "status": "completed"
    },
    "tags": []
   },
   "outputs": [],
   "source": [
    "# items = cudf.read_csv('../input/h-and-m-personalized-fashion-recommendations/articles.csv')\n",
    "# BASE = '../input/h-and-m-personalized-fashion-recommendations/images/'\n",
    "\n",
    "# for i,(k,v) in enumerate( pairs.items() ):\n",
    "#     name1 = BASE+'0'+str(k)[:2]+'/0'+str(k)+'.jpg'\n",
    "#     name2 = BASE+'0'+str(v[0])[:2]+'/0'+str(v[0])+'.jpg'\n",
    "#     name3 = BASE+'0'+str(v[1])[:2]+'/0'+str(v[1])+'.jpg'\n",
    "#     name4 = BASE+'0'+str(v[2])[:2]+'/0'+str(v[2])+'.jpg'\n",
    "#     if exists(name1) & exists(name2) & exists(name3) & exists(name4):\n",
    "#         plt.figure(figsize=(20,5))\n",
    "#         img1 = cv2.imread(name1)[:,:,::-1]\n",
    "#         img2 = cv2.imread(name2)[:,:,::-1]\n",
    "#         img3 = cv2.imread(name3)[:,:,::-1]\n",
    "#         img4 = cv2.imread(name4)[:,:,::-1]\n",
    "#         plt.subplot(1,4,1)\n",
    "#         plt.title('When customers buy this',size=18)\n",
    "#         plt.imshow(img1)\n",
    "#         plt.subplot(1,4,2)\n",
    "#         plt.title('They buy this',size=18)\n",
    "#         plt.imshow(img2)\n",
    "#         plt.subplot(1,4,3)\n",
    "#         plt.title('They buy this',size=18)\n",
    "#         plt.imshow(img3)\n",
    "#         plt.subplot(1,4,4)\n",
    "#         plt.title('They buy this',size=18)\n",
    "#         plt.imshow(img4)\n",
    "#         plt.show()\n",
    "#     #if i==63: break"
   ]
  },
  {
   "cell_type": "code",
   "execution_count": 53,
   "id": "ae01912c",
   "metadata": {
    "_cell_guid": "c5e4e9e8-3a40-4d28-9797-89cd87e7b962",
    "_uuid": "aa27b491-dec0-486b-8a6b-4d4af46707c6",
    "collapsed": false,
    "execution": {
     "iopub.execute_input": "2022-03-27T17:54:36.039723Z",
     "iopub.status.busy": "2022-03-27T17:54:36.039028Z",
     "iopub.status.idle": "2022-03-27T17:54:36.042203Z",
     "shell.execute_reply": "2022-03-27T17:54:36.042606Z",
     "shell.execute_reply.started": "2022-03-27T17:48:51.988787Z"
    },
    "jupyter": {
     "outputs_hidden": false
    },
    "papermill": {
     "duration": 0.166563,
     "end_time": "2022-03-27T17:54:36.042746",
     "exception": false,
     "start_time": "2022-03-27T17:54:35.876183",
     "status": "completed"
    },
    "tags": []
   },
   "outputs": [
    {
     "data": {
      "text/html": [
       "<div>\n",
       "<style scoped>\n",
       "    .dataframe tbody tr th:only-of-type {\n",
       "        vertical-align: middle;\n",
       "    }\n",
       "\n",
       "    .dataframe tbody tr th {\n",
       "        vertical-align: top;\n",
       "    }\n",
       "\n",
       "    .dataframe thead th {\n",
       "        text-align: right;\n",
       "    }\n",
       "</style>\n",
       "<table border=\"1\" class=\"dataframe\">\n",
       "  <thead>\n",
       "    <tr style=\"text-align: right;\">\n",
       "      <th></th>\n",
       "      <th>customer_id</th>\n",
       "      <th>article_id</th>\n",
       "      <th>source</th>\n",
       "      <th>score</th>\n",
       "      <th>rank</th>\n",
       "    </tr>\n",
       "  </thead>\n",
       "  <tbody>\n",
       "    <tr>\n",
       "      <th>0</th>\n",
       "      <td>-9223352921020755230</td>\n",
       "      <td>156231001</td>\n",
       "      <td>2</td>\n",
       "      <td>0.002209</td>\n",
       "      <td>12.0</td>\n",
       "    </tr>\n",
       "    <tr>\n",
       "      <th>1</th>\n",
       "      <td>-9223352921020755230</td>\n",
       "      <td>372860001</td>\n",
       "      <td>2</td>\n",
       "      <td>0.003020</td>\n",
       "      <td>8.0</td>\n",
       "    </tr>\n",
       "    <tr>\n",
       "      <th>2</th>\n",
       "      <td>-9223352921020755230</td>\n",
       "      <td>372860002</td>\n",
       "      <td>2</td>\n",
       "      <td>0.002471</td>\n",
       "      <td>11.0</td>\n",
       "    </tr>\n",
       "    <tr>\n",
       "      <th>3</th>\n",
       "      <td>-9223352921020755230</td>\n",
       "      <td>448509014</td>\n",
       "      <td>2</td>\n",
       "      <td>0.003171</td>\n",
       "      <td>7.0</td>\n",
       "    </tr>\n",
       "    <tr>\n",
       "      <th>5</th>\n",
       "      <td>-9223352921020755230</td>\n",
       "      <td>562245046</td>\n",
       "      <td>2</td>\n",
       "      <td>0.002872</td>\n",
       "      <td>9.0</td>\n",
       "    </tr>\n",
       "    <tr>\n",
       "      <th>...</th>\n",
       "      <td>...</td>\n",
       "      <td>...</td>\n",
       "      <td>...</td>\n",
       "      <td>...</td>\n",
       "      <td>...</td>\n",
       "    </tr>\n",
       "    <tr>\n",
       "      <th>10385327</th>\n",
       "      <td>9223144259947635662</td>\n",
       "      <td>719957006</td>\n",
       "      <td>2</td>\n",
       "      <td>0.008230</td>\n",
       "      <td>12.0</td>\n",
       "    </tr>\n",
       "    <tr>\n",
       "      <th>10385329</th>\n",
       "      <td>9223144259947635662</td>\n",
       "      <td>720504004</td>\n",
       "      <td>2</td>\n",
       "      <td>0.021830</td>\n",
       "      <td>2.0</td>\n",
       "    </tr>\n",
       "    <tr>\n",
       "      <th>10385330</th>\n",
       "      <td>9223144259947635662</td>\n",
       "      <td>720504007</td>\n",
       "      <td>2</td>\n",
       "      <td>0.016236</td>\n",
       "      <td>5.0</td>\n",
       "    </tr>\n",
       "    <tr>\n",
       "      <th>10385333</th>\n",
       "      <td>9223144259947635662</td>\n",
       "      <td>730863005</td>\n",
       "      <td>2</td>\n",
       "      <td>0.014194</td>\n",
       "      <td>6.0</td>\n",
       "    </tr>\n",
       "    <tr>\n",
       "      <th>10385339</th>\n",
       "      <td>9223144259947635662</td>\n",
       "      <td>749699001</td>\n",
       "      <td>2</td>\n",
       "      <td>0.009977</td>\n",
       "      <td>8.0</td>\n",
       "    </tr>\n",
       "  </tbody>\n",
       "</table>\n",
       "<p>4005628 rows × 5 columns</p>\n",
       "</div>"
      ],
      "text/plain": [
       "                  customer_id  article_id  source     score  rank\n",
       "0        -9223352921020755230   156231001       2  0.002209  12.0\n",
       "1        -9223352921020755230   372860001       2  0.003020   8.0\n",
       "2        -9223352921020755230   372860002       2  0.002471  11.0\n",
       "3        -9223352921020755230   448509014       2  0.003171   7.0\n",
       "5        -9223352921020755230   562245046       2  0.002872   9.0\n",
       "...                       ...         ...     ...       ...   ...\n",
       "10385327  9223144259947635662   719957006       2  0.008230  12.0\n",
       "10385329  9223144259947635662   720504004       2  0.021830   2.0\n",
       "10385330  9223144259947635662   720504007       2  0.016236   5.0\n",
       "10385333  9223144259947635662   730863005       2  0.014194   6.0\n",
       "10385339  9223144259947635662   749699001       2  0.009977   8.0\n",
       "\n",
       "[4005628 rows x 5 columns]"
      ]
     },
     "execution_count": 53,
     "metadata": {},
     "output_type": "execute_result"
    }
   ],
   "source": [
    "result2"
   ]
  },
  {
   "cell_type": "markdown",
   "id": "89c60a99",
   "metadata": {
    "_cell_guid": "317b622d-d667-4412-a89c-d9ca0ca05dff",
    "_uuid": "584c8ab9-2095-4992-bd33-2882f36da59c",
    "editable": false,
    "papermill": {
     "duration": 0.147606,
     "end_time": "2022-03-27T17:54:36.338813",
     "exception": false,
     "start_time": "2022-03-27T17:54:36.191207",
     "status": "completed"
    },
    "tags": []
   },
   "source": [
    "## 第三路：分层上周热门（+趋势）"
   ]
  },
  {
   "cell_type": "code",
   "execution_count": 54,
   "id": "3360479c",
   "metadata": {
    "_cell_guid": "315eedef-347c-4be3-a7cb-2dc48bd982a5",
    "_uuid": "6d5dbd7a-4aab-42ab-8260-ab9d09dcaf8a",
    "collapsed": false,
    "execution": {
     "iopub.execute_input": "2022-03-27T17:54:36.644135Z",
     "iopub.status.busy": "2022-03-27T17:54:36.643228Z",
     "iopub.status.idle": "2022-03-27T17:54:45.296614Z",
     "shell.execute_reply": "2022-03-27T17:54:45.296137Z",
     "shell.execute_reply.started": "2022-03-27T17:48:52.009721Z"
    },
    "jupyter": {
     "outputs_hidden": false
    },
    "papermill": {
     "duration": 8.807108,
     "end_time": "2022-03-27T17:54:45.296746",
     "exception": false,
     "start_time": "2022-03-27T17:54:36.489638",
     "status": "completed"
    },
    "tags": []
   },
   "outputs": [
    {
     "name": "stdout",
     "output_type": "stream",
     "text": [
      "Requirement already satisfied: cudf in /opt/conda/lib/python3.7/site-packages (21.10.1)\r\n",
      "Requirement already satisfied: numba>=0.53.1 in /opt/conda/lib/python3.7/site-packages (from cudf) (0.54.1)\r\n",
      "Requirement already satisfied: Cython<0.30,>=0.29 in /opt/conda/lib/python3.7/site-packages (from cudf) (0.29.28)\r\n",
      "Requirement already satisfied: fastavro>=0.22.9 in /opt/conda/lib/python3.7/site-packages (from cudf) (1.4.9)\r\n",
      "Requirement already satisfied: fsspec>=0.6.0 in /opt/conda/lib/python3.7/site-packages (from cudf) (2022.2.0)\r\n",
      "Requirement already satisfied: numpy in /opt/conda/lib/python3.7/site-packages (from cudf) (1.20.3)\r\n",
      "Requirement already satisfied: pandas<1.4.0dev0,>=1.0 in /opt/conda/lib/python3.7/site-packages (from cudf) (1.3.5)\r\n",
      "Requirement already satisfied: typing_extensions in /opt/conda/lib/python3.7/site-packages (from cudf) (4.1.1)\r\n",
      "Requirement already satisfied: protobuf in /opt/conda/lib/python3.7/site-packages (from cudf) (3.19.1)\r\n",
      "Requirement already satisfied: nvtx>=0.2.1 in /opt/conda/lib/python3.7/site-packages (from cudf) (0.2.3)\r\n",
      "Requirement already satisfied: cachetools in /opt/conda/lib/python3.7/site-packages (from cudf) (4.2.4)\r\n",
      "Requirement already satisfied: packaging in /opt/conda/lib/python3.7/site-packages (from cudf) (21.3)\r\n",
      "Requirement already satisfied: cupy-cuda110 in /opt/conda/lib/python3.7/site-packages (from cudf) (10.2.0)\r\n",
      "Requirement already satisfied: llvmlite<0.38,>=0.37.0rc1 in /opt/conda/lib/python3.7/site-packages (from numba>=0.53.1->cudf) (0.37.0)\r\n",
      "Requirement already satisfied: setuptools in /opt/conda/lib/python3.7/site-packages (from numba>=0.53.1->cudf) (59.5.0)\r\n",
      "Requirement already satisfied: python-dateutil>=2.7.3 in /opt/conda/lib/python3.7/site-packages (from pandas<1.4.0dev0,>=1.0->cudf) (2.8.2)\r\n",
      "Requirement already satisfied: pytz>=2017.3 in /opt/conda/lib/python3.7/site-packages (from pandas<1.4.0dev0,>=1.0->cudf) (2021.3)\r\n",
      "Requirement already satisfied: fastrlock>=0.5 in /opt/conda/lib/python3.7/site-packages (from cupy-cuda110->cudf) (0.8)\r\n",
      "Requirement already satisfied: pyparsing!=3.0.5,>=2.0.2 in /opt/conda/lib/python3.7/site-packages (from packaging->cudf) (3.0.6)\r\n",
      "Requirement already satisfied: six>=1.5 in /opt/conda/lib/python3.7/site-packages (from python-dateutil>=2.7.3->pandas<1.4.0dev0,>=1.0->cudf) (1.16.0)\r\n",
      "\u001b[33mWARNING: Running pip as the 'root' user can result in broken permissions and conflicting behaviour with the system package manager. It is recommended to use a virtual environment instead: https://pip.pypa.io/warnings/venv\u001b[0m\r\n"
     ]
    }
   ],
   "source": [
    "!pip install cudf\n",
    "import numpy as np\n",
    "import pandas as pd \n",
    "from datetime import datetime, timedelta\n",
    "import gc\n",
    "import cudf\n",
    "import cv2, matplotlib.pyplot as plt\n",
    "from os.path import exists"
   ]
  },
  {
   "cell_type": "code",
   "execution_count": 55,
   "id": "7cc27b3b",
   "metadata": {
    "_cell_guid": "22f0bbec-032a-49ba-98a7-7f0d667a1b7d",
    "_uuid": "ce3d97b4-5a90-4603-a491-974a446b3711",
    "collapsed": false,
    "execution": {
     "iopub.execute_input": "2022-03-27T17:54:45.606618Z",
     "iopub.status.busy": "2022-03-27T17:54:45.605692Z",
     "iopub.status.idle": "2022-03-27T17:54:45.607538Z",
     "shell.execute_reply": "2022-03-27T17:54:45.607969Z",
     "shell.execute_reply.started": "2022-03-27T17:48:59.646525Z"
    },
    "jupyter": {
     "outputs_hidden": false
    },
    "papermill": {
     "duration": 0.159021,
     "end_time": "2022-03-27T17:54:45.608121",
     "exception": false,
     "start_time": "2022-03-27T17:54:45.449100",
     "status": "completed"
    },
    "tags": []
   },
   "outputs": [],
   "source": [
    "# # LOAD TRANSACTIONS DATAFRAME\n",
    "# df = cudf.read_csv('../input/h-and-m-personalized-fashion-recommendations/transactions_train.csv')\n",
    "# print('Transactions shape',df.shape)\n",
    "# display( df.head() )\n",
    "\n",
    "# # REDUCE MEMORY OF DATAFRAME\n",
    "# df = df[['t_dat','customer_id','article_id']]\n",
    "# df.customer_id = df.customer_id.str[-16:].str.hex_to_int().astype('int64')\n",
    "# df.article_id = df.article_id.astype('int32')\n",
    "# df.t_dat = cudf.to_datetime(df.t_dat)\n",
    "# _ = gc.collect()"
   ]
  },
  {
   "cell_type": "code",
   "execution_count": 56,
   "id": "0c3c5886",
   "metadata": {
    "_cell_guid": "cb454618-33c2-47b3-af3b-cdf3257fff1f",
    "_uuid": "bc87cf18-1345-474d-a9c2-d392f881fb60",
    "collapsed": false,
    "execution": {
     "iopub.execute_input": "2022-03-27T17:54:45.919455Z",
     "iopub.status.busy": "2022-03-27T17:54:45.918585Z",
     "iopub.status.idle": "2022-03-27T17:54:45.924723Z",
     "shell.execute_reply": "2022-03-27T17:54:45.925154Z",
     "shell.execute_reply.started": "2022-03-27T17:48:59.653091Z"
    },
    "jupyter": {
     "outputs_hidden": false
    },
    "papermill": {
     "duration": 0.165324,
     "end_time": "2022-03-27T17:54:45.925314",
     "exception": false,
     "start_time": "2022-03-27T17:54:45.759990",
     "status": "completed"
    },
    "tags": []
   },
   "outputs": [],
   "source": [
    "df = train.copy()"
   ]
  },
  {
   "cell_type": "code",
   "execution_count": 57,
   "id": "3daee552",
   "metadata": {
    "_cell_guid": "5b9b99fc-c415-4ca7-9bc9-4358689c36a3",
    "_uuid": "838b9b11-b1d3-416e-acd4-2b934dfffae2",
    "collapsed": false,
    "execution": {
     "iopub.execute_input": "2022-03-27T17:54:46.234773Z",
     "iopub.status.busy": "2022-03-27T17:54:46.233851Z",
     "iopub.status.idle": "2022-03-27T17:54:48.738320Z",
     "shell.execute_reply": "2022-03-27T17:54:48.737442Z",
     "shell.execute_reply.started": "2022-03-27T17:48:59.670156Z"
    },
    "jupyter": {
     "outputs_hidden": false
    },
    "papermill": {
     "duration": 2.660226,
     "end_time": "2022-03-27T17:54:48.738472",
     "exception": false,
     "start_time": "2022-03-27T17:54:46.078246",
     "status": "completed"
    },
    "tags": []
   },
   "outputs": [],
   "source": [
    "customer = cudf.read_csv('../input/h-and-m-personalized-fashion-recommendations/customers.csv')\n",
    "customer.customer_id = customer.customer_id.str[-16:].str.hex_to_int().astype('int64')"
   ]
  },
  {
   "cell_type": "code",
   "execution_count": 58,
   "id": "10c3ad2c",
   "metadata": {
    "_cell_guid": "b17079b9-205e-486f-87e6-b08e9da48999",
    "_uuid": "4fdd1c70-b5cb-4a2f-84ab-c88fc14584ae",
    "collapsed": false,
    "execution": {
     "iopub.execute_input": "2022-03-27T17:54:49.079742Z",
     "iopub.status.busy": "2022-03-27T17:54:49.078960Z",
     "iopub.status.idle": "2022-03-27T17:54:49.337860Z",
     "shell.execute_reply": "2022-03-27T17:54:49.339069Z",
     "shell.execute_reply.started": "2022-03-27T17:49:02.487512Z"
    },
    "jupyter": {
     "outputs_hidden": false
    },
    "papermill": {
     "duration": 0.444064,
     "end_time": "2022-03-27T17:54:49.339286",
     "exception": false,
     "start_time": "2022-03-27T17:54:48.895222",
     "status": "completed"
    },
    "tags": []
   },
   "outputs": [],
   "source": [
    "sales = cudf.merge(df, customer, on = \"customer_id\", how = 'left')\n",
    "sales = sales[sales.t_dat >= Date_week2]"
   ]
  },
  {
   "cell_type": "code",
   "execution_count": 59,
   "id": "b6453c60",
   "metadata": {
    "_cell_guid": "2e0582e2-7688-47db-a665-911dce825218",
    "_uuid": "a46cf55c-be1b-4397-ba31-e8ff758cc600",
    "collapsed": false,
    "execution": {
     "iopub.execute_input": "2022-03-27T17:54:49.779716Z",
     "iopub.status.busy": "2022-03-27T17:54:49.778985Z",
     "iopub.status.idle": "2022-03-27T17:54:49.798211Z",
     "shell.execute_reply": "2022-03-27T17:54:49.797704Z",
     "shell.execute_reply.started": "2022-03-27T17:49:02.769171Z"
    },
    "jupyter": {
     "outputs_hidden": false
    },
    "papermill": {
     "duration": 0.210798,
     "end_time": "2022-03-27T17:54:49.798342",
     "exception": false,
     "start_time": "2022-03-27T17:54:49.587544",
     "status": "completed"
    },
    "tags": []
   },
   "outputs": [],
   "source": [
    "sales = sales.fillna(0)"
   ]
  },
  {
   "cell_type": "code",
   "execution_count": 60,
   "id": "2caca914",
   "metadata": {
    "_cell_guid": "8965aabd-1ea7-412a-a6d6-3adc5ddd775d",
    "_uuid": "f1ee2984-f158-4ed9-b78f-cfe49c692208",
    "collapsed": false,
    "execution": {
     "iopub.execute_input": "2022-03-27T17:54:50.118853Z",
     "iopub.status.busy": "2022-03-27T17:54:50.118033Z",
     "iopub.status.idle": "2022-03-27T17:54:50.455613Z",
     "shell.execute_reply": "2022-03-27T17:54:50.456081Z",
     "shell.execute_reply.started": "2022-03-27T17:49:02.858967Z"
    },
    "jupyter": {
     "outputs_hidden": false
    },
    "papermill": {
     "duration": 0.495657,
     "end_time": "2022-03-27T17:54:50.456237",
     "exception": false,
     "start_time": "2022-03-27T17:54:49.960580",
     "status": "completed"
    },
    "tags": []
   },
   "outputs": [
    {
     "data": {
      "text/plain": [
       "<AxesSubplot:>"
      ]
     },
     "execution_count": 60,
     "metadata": {},
     "output_type": "execute_result"
    },
    {
     "data": {
      "image/png": "[encoded data removed]",
      "text/plain": [
       "<Figure size 432x288 with 1 Axes>"
      ]
     },
     "metadata": {
      "needs_background": "light"
     },
     "output_type": "display_data"
    }
   ],
   "source": [
    "sales.to_pandas()[\"age\"].hist()"
   ]
  },
  {
   "cell_type": "code",
   "execution_count": 61,
   "id": "86d719d0",
   "metadata": {
    "_cell_guid": "923c1cf2-30fb-453b-a208-c8727e68271e",
    "_uuid": "0dd7d8cd-e867-4aee-a201-60db3ea62fea",
    "collapsed": false,
    "execution": {
     "iopub.execute_input": "2022-03-27T17:54:50.784438Z",
     "iopub.status.busy": "2022-03-27T17:54:50.783167Z",
     "iopub.status.idle": "2022-03-27T17:54:50.860871Z",
     "shell.execute_reply": "2022-03-27T17:54:50.860421Z",
     "shell.execute_reply.started": "2022-03-27T17:49:03.184489Z"
    },
    "jupyter": {
     "outputs_hidden": false
    },
    "papermill": {
     "duration": 0.252847,
     "end_time": "2022-03-27T17:54:50.861025",
     "exception": false,
     "start_time": "2022-03-27T17:54:50.608178",
     "status": "completed"
    },
    "tags": []
   },
   "outputs": [
    {
     "data": {
      "text/html": [
       "<div>\n",
       "<style scoped>\n",
       "    .dataframe tbody tr th:only-of-type {\n",
       "        vertical-align: middle;\n",
       "    }\n",
       "\n",
       "    .dataframe tbody tr th {\n",
       "        vertical-align: top;\n",
       "    }\n",
       "\n",
       "    .dataframe thead th {\n",
       "        text-align: right;\n",
       "    }\n",
       "</style>\n",
       "<table border=\"1\" class=\"dataframe\">\n",
       "  <thead>\n",
       "    <tr style=\"text-align: right;\">\n",
       "      <th></th>\n",
       "      <th>t_dat</th>\n",
       "      <th>customer_id</th>\n",
       "      <th>article_id</th>\n",
       "      <th>price</th>\n",
       "      <th>sales_channel_id</th>\n",
       "      <th>FN</th>\n",
       "      <th>Active</th>\n",
       "      <th>club_member_status</th>\n",
       "      <th>fashion_news_frequency</th>\n",
       "      <th>age</th>\n",
       "      <th>postal_code</th>\n",
       "    </tr>\n",
       "  </thead>\n",
       "  <tbody>\n",
       "    <tr>\n",
       "      <th>31266528</th>\n",
       "      <td>2020-09-09</td>\n",
       "      <td>-5274452280971349952</td>\n",
       "      <td>237347059</td>\n",
       "      <td>0.033881</td>\n",
       "      <td>2</td>\n",
       "      <td>0.0</td>\n",
       "      <td>0.0</td>\n",
       "      <td>ACTIVE</td>\n",
       "      <td>NONE</td>\n",
       "      <td>25.0</td>\n",
       "      <td>7ea43ac1614c12129a53700fc85900ff7fcded5afbfe58...</td>\n",
       "    </tr>\n",
       "    <tr>\n",
       "      <th>31266529</th>\n",
       "      <td>2020-09-09</td>\n",
       "      <td>-6768069327316571405</td>\n",
       "      <td>898596007</td>\n",
       "      <td>0.016932</td>\n",
       "      <td>1</td>\n",
       "      <td>0.0</td>\n",
       "      <td>0.0</td>\n",
       "      <td>ACTIVE</td>\n",
       "      <td>NONE</td>\n",
       "      <td>68.0</td>\n",
       "      <td>a22bd7ee1057ddd420eaa572f783043b7fa97ce8808c58...</td>\n",
       "    </tr>\n",
       "    <tr>\n",
       "      <th>31266530</th>\n",
       "      <td>2020-09-09</td>\n",
       "      <td>897820301201394760</td>\n",
       "      <td>752814003</td>\n",
       "      <td>0.033881</td>\n",
       "      <td>2</td>\n",
       "      <td>1.0</td>\n",
       "      <td>1.0</td>\n",
       "      <td>ACTIVE</td>\n",
       "      <td>Regularly</td>\n",
       "      <td>22.0</td>\n",
       "      <td>9501f9d3320e943ea57924b8dfdde46515934580a7c17d...</td>\n",
       "    </tr>\n",
       "    <tr>\n",
       "      <th>31266531</th>\n",
       "      <td>2020-09-09</td>\n",
       "      <td>935822568927514223</td>\n",
       "      <td>673677024</td>\n",
       "      <td>0.025407</td>\n",
       "      <td>1</td>\n",
       "      <td>0.0</td>\n",
       "      <td>0.0</td>\n",
       "      <td>ACTIVE</td>\n",
       "      <td>NONE</td>\n",
       "      <td>51.0</td>\n",
       "      <td>6f1debdbcf810153c4ff51cee21109f2b7ee61d285b33e...</td>\n",
       "    </tr>\n",
       "    <tr>\n",
       "      <th>31266532</th>\n",
       "      <td>2020-09-09</td>\n",
       "      <td>-5274452280971349952</td>\n",
       "      <td>237347063</td>\n",
       "      <td>0.033881</td>\n",
       "      <td>2</td>\n",
       "      <td>0.0</td>\n",
       "      <td>0.0</td>\n",
       "      <td>ACTIVE</td>\n",
       "      <td>NONE</td>\n",
       "      <td>25.0</td>\n",
       "      <td>7ea43ac1614c12129a53700fc85900ff7fcded5afbfe58...</td>\n",
       "    </tr>\n",
       "    <tr>\n",
       "      <th>...</th>\n",
       "      <td>...</td>\n",
       "      <td>...</td>\n",
       "      <td>...</td>\n",
       "      <td>...</td>\n",
       "      <td>...</td>\n",
       "      <td>...</td>\n",
       "      <td>...</td>\n",
       "      <td>...</td>\n",
       "      <td>...</td>\n",
       "      <td>...</td>\n",
       "      <td>...</td>\n",
       "    </tr>\n",
       "    <tr>\n",
       "      <th>31548008</th>\n",
       "      <td>2020-09-15</td>\n",
       "      <td>-6427941934161059261</td>\n",
       "      <td>536139067</td>\n",
       "      <td>0.016932</td>\n",
       "      <td>1</td>\n",
       "      <td>0.0</td>\n",
       "      <td>0.0</td>\n",
       "      <td>ACTIVE</td>\n",
       "      <td>NONE</td>\n",
       "      <td>25.0</td>\n",
       "      <td>509fa1aa3f780986d00e233935059f5ca07b658f47912b...</td>\n",
       "    </tr>\n",
       "    <tr>\n",
       "      <th>31548009</th>\n",
       "      <td>2020-09-15</td>\n",
       "      <td>-2906181681434937533</td>\n",
       "      <td>889574009</td>\n",
       "      <td>0.010153</td>\n",
       "      <td>1</td>\n",
       "      <td>1.0</td>\n",
       "      <td>1.0</td>\n",
       "      <td>ACTIVE</td>\n",
       "      <td>Regularly</td>\n",
       "      <td>53.0</td>\n",
       "      <td>cbec264feccfd2b2f4fc2952613ce30a8336a6b1eca43c...</td>\n",
       "    </tr>\n",
       "    <tr>\n",
       "      <th>31548010</th>\n",
       "      <td>2020-09-15</td>\n",
       "      <td>6055964384479180517</td>\n",
       "      <td>936610001</td>\n",
       "      <td>0.042356</td>\n",
       "      <td>1</td>\n",
       "      <td>1.0</td>\n",
       "      <td>1.0</td>\n",
       "      <td>ACTIVE</td>\n",
       "      <td>Regularly</td>\n",
       "      <td>25.0</td>\n",
       "      <td>f4144c30359640930be01f55cd47be44ad6e799e80bf1a...</td>\n",
       "    </tr>\n",
       "    <tr>\n",
       "      <th>31548011</th>\n",
       "      <td>2020-09-15</td>\n",
       "      <td>4656377451867638708</td>\n",
       "      <td>903926002</td>\n",
       "      <td>0.050831</td>\n",
       "      <td>2</td>\n",
       "      <td>1.0</td>\n",
       "      <td>1.0</td>\n",
       "      <td>ACTIVE</td>\n",
       "      <td>Regularly</td>\n",
       "      <td>45.0</td>\n",
       "      <td>1e4dc84725cfc12ae6b64da787a1d918b960772ffcbc1f...</td>\n",
       "    </tr>\n",
       "    <tr>\n",
       "      <th>31548012</th>\n",
       "      <td>2020-09-15</td>\n",
       "      <td>8959927073256559032</td>\n",
       "      <td>909370001</td>\n",
       "      <td>0.033881</td>\n",
       "      <td>1</td>\n",
       "      <td>0.0</td>\n",
       "      <td>0.0</td>\n",
       "      <td>ACTIVE</td>\n",
       "      <td>NONE</td>\n",
       "      <td>24.0</td>\n",
       "      <td>c5728d79840d44cc00b4386113bf6c4ff9426f9c147c68...</td>\n",
       "    </tr>\n",
       "  </tbody>\n",
       "</table>\n",
       "<p>255241 rows × 11 columns</p>\n",
       "</div>"
      ],
      "text/plain": [
       "              t_dat          customer_id  article_id     price  \\\n",
       "31266528 2020-09-09 -5274452280971349952   237347059  0.033881   \n",
       "31266529 2020-09-09 -6768069327316571405   898596007  0.016932   \n",
       "31266530 2020-09-09   897820301201394760   752814003  0.033881   \n",
       "31266531 2020-09-09   935822568927514223   673677024  0.025407   \n",
       "31266532 2020-09-09 -5274452280971349952   237347063  0.033881   \n",
       "...             ...                  ...         ...       ...   \n",
       "31548008 2020-09-15 -6427941934161059261   536139067  0.016932   \n",
       "31548009 2020-09-15 -2906181681434937533   889574009  0.010153   \n",
       "31548010 2020-09-15  6055964384479180517   936610001  0.042356   \n",
       "31548011 2020-09-15  4656377451867638708   903926002  0.050831   \n",
       "31548012 2020-09-15  8959927073256559032   909370001  0.033881   \n",
       "\n",
       "          sales_channel_id   FN  Active club_member_status  \\\n",
       "31266528                 2  0.0     0.0             ACTIVE   \n",
       "31266529                 1  0.0     0.0             ACTIVE   \n",
       "31266530                 2  1.0     1.0             ACTIVE   \n",
       "31266531                 1  0.0     0.0             ACTIVE   \n",
       "31266532                 2  0.0     0.0             ACTIVE   \n",
       "...                    ...  ...     ...                ...   \n",
       "31548008                 1  0.0     0.0             ACTIVE   \n",
       "31548009                 1  1.0     1.0             ACTIVE   \n",
       "31548010                 1  1.0     1.0             ACTIVE   \n",
       "31548011                 2  1.0     1.0             ACTIVE   \n",
       "31548012                 1  0.0     0.0             ACTIVE   \n",
       "\n",
       "         fashion_news_frequency   age  \\\n",
       "31266528                   NONE  25.0   \n",
       "31266529                   NONE  68.0   \n",
       "31266530              Regularly  22.0   \n",
       "31266531                   NONE  51.0   \n",
       "31266532                   NONE  25.0   \n",
       "...                         ...   ...   \n",
       "31548008                   NONE  25.0   \n",
       "31548009              Regularly  53.0   \n",
       "31548010              Regularly  25.0   \n",
       "31548011              Regularly  45.0   \n",
       "31548012                   NONE  24.0   \n",
       "\n",
       "                                                postal_code  \n",
       "31266528  7ea43ac1614c12129a53700fc85900ff7fcded5afbfe58...  \n",
       "31266529  a22bd7ee1057ddd420eaa572f783043b7fa97ce8808c58...  \n",
       "31266530  9501f9d3320e943ea57924b8dfdde46515934580a7c17d...  \n",
       "31266531  6f1debdbcf810153c4ff51cee21109f2b7ee61d285b33e...  \n",
       "31266532  7ea43ac1614c12129a53700fc85900ff7fcded5afbfe58...  \n",
       "...                                                     ...  \n",
       "31548008  509fa1aa3f780986d00e233935059f5ca07b658f47912b...  \n",
       "31548009  cbec264feccfd2b2f4fc2952613ce30a8336a6b1eca43c...  \n",
       "31548010  f4144c30359640930be01f55cd47be44ad6e799e80bf1a...  \n",
       "31548011  1e4dc84725cfc12ae6b64da787a1d918b960772ffcbc1f...  \n",
       "31548012  c5728d79840d44cc00b4386113bf6c4ff9426f9c147c68...  \n",
       "\n",
       "[255241 rows x 11 columns]"
      ]
     },
     "execution_count": 61,
     "metadata": {},
     "output_type": "execute_result"
    }
   ],
   "source": [
    "sales"
   ]
  },
  {
   "cell_type": "code",
   "execution_count": 62,
   "id": "ef23b666",
   "metadata": {
    "_cell_guid": "490a2367-b14f-40de-8fe6-d99887ece0b0",
    "_uuid": "334b8f05-46f7-4264-aaff-ab91dbcf28da",
    "collapsed": false,
    "execution": {
     "iopub.execute_input": "2022-03-27T17:54:51.174572Z",
     "iopub.status.busy": "2022-03-27T17:54:51.173708Z",
     "iopub.status.idle": "2022-03-27T17:54:51.194503Z",
     "shell.execute_reply": "2022-03-27T17:54:51.194039Z",
     "shell.execute_reply.started": "2022-03-27T17:49:03.280529Z"
    },
    "jupyter": {
     "outputs_hidden": false
    },
    "papermill": {
     "duration": 0.179732,
     "end_time": "2022-03-27T17:54:51.194632",
     "exception": false,
     "start_time": "2022-03-27T17:54:51.014900",
     "status": "completed"
    },
    "tags": []
   },
   "outputs": [],
   "source": [
    "target_sales = sales[[\"article_id\", \"customer_id\"]].groupby('article_id')[\"customer_id\"].count()\n",
    "general_pred = target_sales.nlargest(N, keep = \"first\").index.to_pandas().tolist()\n",
    "general_pred = ['0' + str(article_id) for article_id in general_pred]\n",
    "general_pred_str =  ' '.join(general_pred)\n",
    "del target_sales"
   ]
  },
  {
   "cell_type": "code",
   "execution_count": 63,
   "id": "134eedcf",
   "metadata": {
    "_cell_guid": "1ca8a8b7-f271-4796-82e3-7d2c8c9a4301",
    "_uuid": "a8c87106-cccc-4ce3-be8f-27cc5484956d",
    "collapsed": false,
    "execution": {
     "iopub.execute_input": "2022-03-27T17:54:51.506706Z",
     "iopub.status.busy": "2022-03-27T17:54:51.505965Z",
     "iopub.status.idle": "2022-03-27T17:54:51.508684Z",
     "shell.execute_reply": "2022-03-27T17:54:51.509098Z",
     "shell.execute_reply.started": "2022-03-27T17:49:03.307457Z"
    },
    "jupyter": {
     "outputs_hidden": false
    },
    "papermill": {
     "duration": 0.161548,
     "end_time": "2022-03-27T17:54:51.509242",
     "exception": false,
     "start_time": "2022-03-27T17:54:51.347694",
     "status": "completed"
    },
    "tags": []
   },
   "outputs": [
    {
     "data": {
      "text/plain": [
       "'0909370001 0865799006 0918522001 0924243001 0448509014 0751471001 0809238001 0918292001 0762846027 0809238005 0673677002 0923758001'"
      ]
     },
     "execution_count": 63,
     "metadata": {},
     "output_type": "execute_result"
    }
   ],
   "source": [
    "general_pred_str"
   ]
  },
  {
   "cell_type": "code",
   "execution_count": 64,
   "id": "731c375b",
   "metadata": {
    "_cell_guid": "1a5a8ba1-a890-471b-8bc8-46ed3f884a39",
    "_uuid": "ef1404b1-5e74-4b74-a43d-c74718f7e966",
    "collapsed": false,
    "execution": {
     "iopub.execute_input": "2022-03-27T17:54:51.820622Z",
     "iopub.status.busy": "2022-03-27T17:54:51.818925Z",
     "iopub.status.idle": "2022-03-27T17:54:51.821285Z",
     "shell.execute_reply": "2022-03-27T17:54:51.821704Z",
     "shell.execute_reply.started": "2022-03-27T17:49:03.315345Z"
    },
    "jupyter": {
     "outputs_hidden": false
    },
    "papermill": {
     "duration": 0.160179,
     "end_time": "2022-03-27T17:54:51.821857",
     "exception": false,
     "start_time": "2022-03-27T17:54:51.661678",
     "status": "completed"
    },
    "tags": []
   },
   "outputs": [],
   "source": [
    "#sales.age = sales.age.astype(\"float32\")"
   ]
  },
  {
   "cell_type": "code",
   "execution_count": 65,
   "id": "da68ef64",
   "metadata": {
    "_cell_guid": "55adea43-97ea-4c24-9d30-2ce2a7e07443",
    "_uuid": "005a6cc8-cd43-4d2a-9391-b02d9a261d08",
    "collapsed": false,
    "execution": {
     "iopub.execute_input": "2022-03-27T17:54:52.135423Z",
     "iopub.status.busy": "2022-03-27T17:54:52.134563Z",
     "iopub.status.idle": "2022-03-27T17:54:52.236703Z",
     "shell.execute_reply": "2022-03-27T17:54:52.236226Z",
     "shell.execute_reply.started": "2022-03-27T17:49:03.323790Z"
    },
    "jupyter": {
     "outputs_hidden": false
    },
    "papermill": {
     "duration": 0.260936,
     "end_time": "2022-03-27T17:54:52.236834",
     "exception": false,
     "start_time": "2022-03-27T17:54:51.975898",
     "status": "completed"
    },
    "tags": []
   },
   "outputs": [],
   "source": [
    "age_type = pd.cut(sales.to_pandas()[\"age\"], bins = np.array([0, 21, 24, 27, 30, 35, 40, 45, 50, 60, 100], dtype = \"int32\"), right = True)"
   ]
  },
  {
   "cell_type": "code",
   "execution_count": 66,
   "id": "2eb562ab",
   "metadata": {
    "_cell_guid": "04e8ec85-58b1-4b98-afd2-6faacc6fc775",
    "_uuid": "f4a6aac7-9f67-4f0f-8b74-b2a0b619d2ca",
    "collapsed": false,
    "execution": {
     "iopub.execute_input": "2022-03-27T17:54:52.548174Z",
     "iopub.status.busy": "2022-03-27T17:54:52.547242Z",
     "iopub.status.idle": "2022-03-27T17:54:53.692050Z",
     "shell.execute_reply": "2022-03-27T17:54:53.692540Z",
     "shell.execute_reply.started": "2022-03-27T17:49:03.415301Z"
    },
    "jupyter": {
     "outputs_hidden": false
    },
    "papermill": {
     "duration": 1.303361,
     "end_time": "2022-03-27T17:54:53.692706",
     "exception": false,
     "start_time": "2022-03-27T17:54:52.389345",
     "status": "completed"
    },
    "tags": []
   },
   "outputs": [],
   "source": [
    "sales[\"age_type\"] = age_type.astype(\"string\")"
   ]
  },
  {
   "cell_type": "code",
   "execution_count": 67,
   "id": "579931f8",
   "metadata": {
    "_cell_guid": "822dc73e-9015-44e2-9d5d-6fbd7f56f333",
    "_uuid": "e8047d6b-4ab5-44cb-95e5-5b80831680a9",
    "collapsed": false,
    "execution": {
     "iopub.execute_input": "2022-03-27T17:54:54.007990Z",
     "iopub.status.busy": "2022-03-27T17:54:54.007015Z",
     "iopub.status.idle": "2022-03-27T17:54:54.022988Z",
     "shell.execute_reply": "2022-03-27T17:54:54.022513Z",
     "shell.execute_reply.started": "2022-03-27T17:49:04.554996Z"
    },
    "jupyter": {
     "outputs_hidden": false
    },
    "papermill": {
     "duration": 0.176001,
     "end_time": "2022-03-27T17:54:54.023129",
     "exception": false,
     "start_time": "2022-03-27T17:54:53.847128",
     "status": "completed"
    },
    "tags": []
   },
   "outputs": [],
   "source": [
    "summary = sales.groupby([\"fashion_news_frequency\", \"age_type\", \"article_id\"])[\"postal_code\"].count().\\\n",
    "reset_index().rename({\"postal_code\":\"count\"}, axis = 1)"
   ]
  },
  {
   "cell_type": "code",
   "execution_count": 68,
   "id": "eb6f62dc",
   "metadata": {
    "_cell_guid": "db904ec6-6cee-4c82-81ae-5de2c7a37dbc",
    "_uuid": "984be7ba-2077-4d19-a0f7-edd0d9b292c9",
    "collapsed": false,
    "execution": {
     "iopub.execute_input": "2022-03-27T17:54:54.334574Z",
     "iopub.status.busy": "2022-03-27T17:54:54.333670Z",
     "iopub.status.idle": "2022-03-27T17:54:54.394527Z",
     "shell.execute_reply": "2022-03-27T17:54:54.395004Z",
     "shell.execute_reply.started": "2022-03-27T17:49:04.576881Z"
    },
    "jupyter": {
     "outputs_hidden": false
    },
    "papermill": {
     "duration": 0.218886,
     "end_time": "2022-03-27T17:54:54.395162",
     "exception": false,
     "start_time": "2022-03-27T17:54:54.176276",
     "status": "completed"
    },
    "tags": []
   },
   "outputs": [
    {
     "data": {
      "text/html": [
       "<div>\n",
       "<style scoped>\n",
       "    .dataframe tbody tr th:only-of-type {\n",
       "        vertical-align: middle;\n",
       "    }\n",
       "\n",
       "    .dataframe tbody tr th {\n",
       "        vertical-align: top;\n",
       "    }\n",
       "\n",
       "    .dataframe thead th {\n",
       "        text-align: right;\n",
       "    }\n",
       "</style>\n",
       "<table border=\"1\" class=\"dataframe\">\n",
       "  <thead>\n",
       "    <tr style=\"text-align: right;\">\n",
       "      <th></th>\n",
       "      <th>fashion_news_frequency</th>\n",
       "      <th>age_type</th>\n",
       "      <th>article_id</th>\n",
       "      <th>count</th>\n",
       "    </tr>\n",
       "  </thead>\n",
       "  <tbody>\n",
       "    <tr>\n",
       "      <th>2</th>\n",
       "      <td>NONE</td>\n",
       "      <td>(24.0, 27.0]</td>\n",
       "      <td>781135004</td>\n",
       "      <td>1</td>\n",
       "    </tr>\n",
       "    <tr>\n",
       "      <th>3</th>\n",
       "      <td>NONE</td>\n",
       "      <td>(24.0, 27.0]</td>\n",
       "      <td>675070013</td>\n",
       "      <td>1</td>\n",
       "    </tr>\n",
       "    <tr>\n",
       "      <th>4</th>\n",
       "      <td>Regularly</td>\n",
       "      <td>(40.0, 45.0]</td>\n",
       "      <td>919160001</td>\n",
       "      <td>1</td>\n",
       "    </tr>\n",
       "    <tr>\n",
       "      <th>6</th>\n",
       "      <td>Regularly</td>\n",
       "      <td>(0.0, 21.0]</td>\n",
       "      <td>862325004</td>\n",
       "      <td>1</td>\n",
       "    </tr>\n",
       "    <tr>\n",
       "      <th>7</th>\n",
       "      <td>NONE</td>\n",
       "      <td>(45.0, 50.0]</td>\n",
       "      <td>874547004</td>\n",
       "      <td>1</td>\n",
       "    </tr>\n",
       "    <tr>\n",
       "      <th>...</th>\n",
       "      <td>...</td>\n",
       "      <td>...</td>\n",
       "      <td>...</td>\n",
       "      <td>...</td>\n",
       "    </tr>\n",
       "    <tr>\n",
       "      <th>2635</th>\n",
       "      <td>Regularly</td>\n",
       "      <td>(21.0, 24.0]</td>\n",
       "      <td>909370001</td>\n",
       "      <td>112</td>\n",
       "    </tr>\n",
       "    <tr>\n",
       "      <th>67196</th>\n",
       "      <td>NONE</td>\n",
       "      <td>(21.0, 24.0]</td>\n",
       "      <td>909370001</td>\n",
       "      <td>114</td>\n",
       "    </tr>\n",
       "    <tr>\n",
       "      <th>76967</th>\n",
       "      <td>NONE</td>\n",
       "      <td>(27.0, 30.0]</td>\n",
       "      <td>909370001</td>\n",
       "      <td>114</td>\n",
       "    </tr>\n",
       "    <tr>\n",
       "      <th>86330</th>\n",
       "      <td>Regularly</td>\n",
       "      <td>(24.0, 27.0]</td>\n",
       "      <td>909370001</td>\n",
       "      <td>117</td>\n",
       "    </tr>\n",
       "    <tr>\n",
       "      <th>1906</th>\n",
       "      <td>NONE</td>\n",
       "      <td>(24.0, 27.0]</td>\n",
       "      <td>909370001</td>\n",
       "      <td>139</td>\n",
       "    </tr>\n",
       "  </tbody>\n",
       "</table>\n",
       "<p>94093 rows × 4 columns</p>\n",
       "</div>"
      ],
      "text/plain": [
       "      fashion_news_frequency      age_type  article_id  count\n",
       "2                       NONE  (24.0, 27.0]   781135004      1\n",
       "3                       NONE  (24.0, 27.0]   675070013      1\n",
       "4                  Regularly  (40.0, 45.0]   919160001      1\n",
       "6                  Regularly   (0.0, 21.0]   862325004      1\n",
       "7                       NONE  (45.0, 50.0]   874547004      1\n",
       "...                      ...           ...         ...    ...\n",
       "2635               Regularly  (21.0, 24.0]   909370001    112\n",
       "67196                   NONE  (21.0, 24.0]   909370001    114\n",
       "76967                   NONE  (27.0, 30.0]   909370001    114\n",
       "86330              Regularly  (24.0, 27.0]   909370001    117\n",
       "1906                    NONE  (24.0, 27.0]   909370001    139\n",
       "\n",
       "[94093 rows x 4 columns]"
      ]
     },
     "execution_count": 68,
     "metadata": {},
     "output_type": "execute_result"
    }
   ],
   "source": [
    "summary.sort_values(by = [\"count\"])"
   ]
  },
  {
   "cell_type": "code",
   "execution_count": 69,
   "id": "9306aa2e",
   "metadata": {
    "_cell_guid": "fb248905-fd2f-439a-8eb1-66f9dff2af90",
    "_uuid": "1033eeb1-9548-4a06-b361-e50a578f731c",
    "collapsed": false,
    "execution": {
     "iopub.execute_input": "2022-03-27T17:54:54.708534Z",
     "iopub.status.busy": "2022-03-27T17:54:54.707708Z",
     "iopub.status.idle": "2022-03-27T17:54:54.741955Z",
     "shell.execute_reply": "2022-03-27T17:54:54.742505Z",
     "shell.execute_reply.started": "2022-03-27T17:49:04.640520Z"
    },
    "jupyter": {
     "outputs_hidden": false
    },
    "papermill": {
     "duration": 0.192905,
     "end_time": "2022-03-27T17:54:54.742674",
     "exception": false,
     "start_time": "2022-03-27T17:54:54.549769",
     "status": "completed"
    },
    "tags": []
   },
   "outputs": [],
   "source": [
    "summary[\"total_count\"] = summary.to_pandas().groupby([\"fashion_news_frequency\", \"age_type\"])[\"count\"].transform(sum)"
   ]
  },
  {
   "cell_type": "code",
   "execution_count": 70,
   "id": "ba55b09c",
   "metadata": {
    "_cell_guid": "0bdc80cc-9424-4e7e-932f-31f5f9107d89",
    "_uuid": "4e82ec64-7dc8-4188-b312-6b314cf31dab",
    "collapsed": false,
    "execution": {
     "iopub.execute_input": "2022-03-27T17:54:55.055690Z",
     "iopub.status.busy": "2022-03-27T17:54:55.054987Z",
     "iopub.status.idle": "2022-03-27T17:54:55.057937Z",
     "shell.execute_reply": "2022-03-27T17:54:55.057424Z",
     "shell.execute_reply.started": "2022-03-27T17:49:04.675992Z"
    },
    "jupyter": {
     "outputs_hidden": false
    },
    "papermill": {
     "duration": 0.162371,
     "end_time": "2022-03-27T17:54:55.058083",
     "exception": false,
     "start_time": "2022-03-27T17:54:54.895712",
     "status": "completed"
    },
    "tags": []
   },
   "outputs": [],
   "source": [
    "summary[\"score\"] = summary[\"count\"]/summary[\"total_count\"]"
   ]
  },
  {
   "cell_type": "code",
   "execution_count": 71,
   "id": "2f4a57e0",
   "metadata": {
    "_cell_guid": "f45641db-c4c0-48f6-9040-c7e5d685b4a7",
    "_uuid": "c63a3287-689d-4965-b951-c848392e5479",
    "collapsed": false,
    "execution": {
     "iopub.execute_input": "2022-03-27T17:54:55.368715Z",
     "iopub.status.busy": "2022-03-27T17:54:55.367817Z",
     "iopub.status.idle": "2022-03-27T17:54:55.369547Z",
     "shell.execute_reply": "2022-03-27T17:54:55.370110Z",
     "shell.execute_reply.started": "2022-03-27T17:49:04.683019Z"
    },
    "jupyter": {
     "outputs_hidden": false
    },
    "papermill": {
     "duration": 0.158992,
     "end_time": "2022-03-27T17:54:55.370256",
     "exception": false,
     "start_time": "2022-03-27T17:54:55.211264",
     "status": "completed"
    },
    "tags": []
   },
   "outputs": [],
   "source": [
    "summary = cudf.DataFrame(summary)"
   ]
  },
  {
   "cell_type": "code",
   "execution_count": 72,
   "id": "e5f769c4",
   "metadata": {
    "_cell_guid": "36974057-5728-442c-a2b7-d9bf01e2c571",
    "_uuid": "882cbb73-746e-4a66-8b4f-9e391609bf0d",
    "collapsed": false,
    "execution": {
     "iopub.execute_input": "2022-03-27T17:54:55.684406Z",
     "iopub.status.busy": "2022-03-27T17:54:55.683243Z",
     "iopub.status.idle": "2022-03-27T17:54:55.752534Z",
     "shell.execute_reply": "2022-03-27T17:54:55.752969Z",
     "shell.execute_reply.started": "2022-03-27T17:49:04.691491Z"
    },
    "jupyter": {
     "outputs_hidden": false
    },
    "papermill": {
     "duration": 0.228933,
     "end_time": "2022-03-27T17:54:55.753119",
     "exception": false,
     "start_time": "2022-03-27T17:54:55.524186",
     "status": "completed"
    },
    "tags": []
   },
   "outputs": [
    {
     "data": {
      "text/html": [
       "<div>\n",
       "<style scoped>\n",
       "    .dataframe tbody tr th:only-of-type {\n",
       "        vertical-align: middle;\n",
       "    }\n",
       "\n",
       "    .dataframe tbody tr th {\n",
       "        vertical-align: top;\n",
       "    }\n",
       "\n",
       "    .dataframe thead th {\n",
       "        text-align: right;\n",
       "    }\n",
       "</style>\n",
       "<table border=\"1\" class=\"dataframe\">\n",
       "  <thead>\n",
       "    <tr style=\"text-align: right;\">\n",
       "      <th></th>\n",
       "      <th>fashion_news_frequency</th>\n",
       "      <th>age_type</th>\n",
       "      <th>article_id</th>\n",
       "      <th>count</th>\n",
       "      <th>total_count</th>\n",
       "      <th>score</th>\n",
       "    </tr>\n",
       "  </thead>\n",
       "  <tbody>\n",
       "    <tr>\n",
       "      <th>70560</th>\n",
       "      <td>NONE</td>\n",
       "      <td>(30.0, 35.0]</td>\n",
       "      <td>108775044</td>\n",
       "      <td>1</td>\n",
       "      <td>16446</td>\n",
       "      <td>0.000061</td>\n",
       "    </tr>\n",
       "    <tr>\n",
       "      <th>92656</th>\n",
       "      <td>NONE</td>\n",
       "      <td>(50.0, 60.0]</td>\n",
       "      <td>108775044</td>\n",
       "      <td>2</td>\n",
       "      <td>17777</td>\n",
       "      <td>0.000113</td>\n",
       "    </tr>\n",
       "    <tr>\n",
       "      <th>18045</th>\n",
       "      <td>NONE</td>\n",
       "      <td>(45.0, 50.0]</td>\n",
       "      <td>111565001</td>\n",
       "      <td>1</td>\n",
       "      <td>12402</td>\n",
       "      <td>0.000081</td>\n",
       "    </tr>\n",
       "    <tr>\n",
       "      <th>28623</th>\n",
       "      <td>Regularly</td>\n",
       "      <td>(24.0, 27.0]</td>\n",
       "      <td>111565001</td>\n",
       "      <td>1</td>\n",
       "      <td>14442</td>\n",
       "      <td>0.000069</td>\n",
       "    </tr>\n",
       "    <tr>\n",
       "      <th>66580</th>\n",
       "      <td>NONE</td>\n",
       "      <td>(40.0, 45.0]</td>\n",
       "      <td>111565001</td>\n",
       "      <td>1</td>\n",
       "      <td>8065</td>\n",
       "      <td>0.000124</td>\n",
       "    </tr>\n",
       "    <tr>\n",
       "      <th>...</th>\n",
       "      <td>...</td>\n",
       "      <td>...</td>\n",
       "      <td>...</td>\n",
       "      <td>...</td>\n",
       "      <td>...</td>\n",
       "      <td>...</td>\n",
       "    </tr>\n",
       "    <tr>\n",
       "      <th>82246</th>\n",
       "      <td>Regularly</td>\n",
       "      <td>(50.0, 60.0]</td>\n",
       "      <td>956217002</td>\n",
       "      <td>1</td>\n",
       "      <td>17613</td>\n",
       "      <td>0.000057</td>\n",
       "    </tr>\n",
       "    <tr>\n",
       "      <th>84577</th>\n",
       "      <td>Regularly</td>\n",
       "      <td>(60.0, 100.0]</td>\n",
       "      <td>956217002</td>\n",
       "      <td>1</td>\n",
       "      <td>6074</td>\n",
       "      <td>0.000165</td>\n",
       "    </tr>\n",
       "    <tr>\n",
       "      <th>88549</th>\n",
       "      <td>Regularly</td>\n",
       "      <td>(21.0, 24.0]</td>\n",
       "      <td>956217002</td>\n",
       "      <td>2</td>\n",
       "      <td>15838</td>\n",
       "      <td>0.000126</td>\n",
       "    </tr>\n",
       "    <tr>\n",
       "      <th>554</th>\n",
       "      <td>NONE</td>\n",
       "      <td>(50.0, 60.0]</td>\n",
       "      <td>956217002</td>\n",
       "      <td>3</td>\n",
       "      <td>17777</td>\n",
       "      <td>0.000169</td>\n",
       "    </tr>\n",
       "    <tr>\n",
       "      <th>46392</th>\n",
       "      <td>NONE</td>\n",
       "      <td>(45.0, 50.0]</td>\n",
       "      <td>956217002</td>\n",
       "      <td>3</td>\n",
       "      <td>12402</td>\n",
       "      <td>0.000242</td>\n",
       "    </tr>\n",
       "  </tbody>\n",
       "</table>\n",
       "<p>94093 rows × 6 columns</p>\n",
       "</div>"
      ],
      "text/plain": [
       "      fashion_news_frequency       age_type  article_id  count  total_count  \\\n",
       "70560                   NONE   (30.0, 35.0]   108775044      1        16446   \n",
       "92656                   NONE   (50.0, 60.0]   108775044      2        17777   \n",
       "18045                   NONE   (45.0, 50.0]   111565001      1        12402   \n",
       "28623              Regularly   (24.0, 27.0]   111565001      1        14442   \n",
       "66580                   NONE   (40.0, 45.0]   111565001      1         8065   \n",
       "...                      ...            ...         ...    ...          ...   \n",
       "82246              Regularly   (50.0, 60.0]   956217002      1        17613   \n",
       "84577              Regularly  (60.0, 100.0]   956217002      1         6074   \n",
       "88549              Regularly   (21.0, 24.0]   956217002      2        15838   \n",
       "554                     NONE   (50.0, 60.0]   956217002      3        17777   \n",
       "46392                   NONE   (45.0, 50.0]   956217002      3        12402   \n",
       "\n",
       "          score  \n",
       "70560  0.000061  \n",
       "92656  0.000113  \n",
       "18045  0.000081  \n",
       "28623  0.000069  \n",
       "66580  0.000124  \n",
       "...         ...  \n",
       "82246  0.000057  \n",
       "84577  0.000165  \n",
       "88549  0.000126  \n",
       "554    0.000169  \n",
       "46392  0.000242  \n",
       "\n",
       "[94093 rows x 6 columns]"
      ]
     },
     "execution_count": 72,
     "metadata": {},
     "output_type": "execute_result"
    }
   ],
   "source": [
    "summary.sort_values(by = [\"article_id\", \"count\"])"
   ]
  },
  {
   "cell_type": "code",
   "execution_count": 73,
   "id": "5f8480dd",
   "metadata": {
    "_cell_guid": "a761a4c6-7966-4443-bb1e-6ed9caf2c96e",
    "_uuid": "efa83622-d490-4db3-8122-27d4bcd783d7",
    "collapsed": false,
    "execution": {
     "iopub.execute_input": "2022-03-27T17:54:56.071930Z",
     "iopub.status.busy": "2022-03-27T17:54:56.071105Z",
     "iopub.status.idle": "2022-03-27T17:54:56.115593Z",
     "shell.execute_reply": "2022-03-27T17:54:56.115130Z",
     "shell.execute_reply.started": "2022-03-27T17:49:04.763223Z"
    },
    "jupyter": {
     "outputs_hidden": false
    },
    "papermill": {
     "duration": 0.205479,
     "end_time": "2022-03-27T17:54:56.115724",
     "exception": false,
     "start_time": "2022-03-27T17:54:55.910245",
     "status": "completed"
    },
    "tags": []
   },
   "outputs": [],
   "source": [
    "summary['rank'] = summary.to_pandas().groupby([\"fashion_news_frequency\", \"age_type\"])[\"score\"].rank(\"dense\", ascending=False)\n",
    "summary = summary.loc[summary['rank'] <= 12]"
   ]
  },
  {
   "cell_type": "code",
   "execution_count": 74,
   "id": "8cf8c1b3",
   "metadata": {
    "_cell_guid": "3eee64f1-9551-465f-96a2-5b8469c9f90e",
    "_uuid": "05522ddd-085f-4ec1-935b-8557be758cba",
    "collapsed": false,
    "execution": {
     "iopub.execute_input": "2022-03-27T17:54:56.427685Z",
     "iopub.status.busy": "2022-03-27T17:54:56.426966Z",
     "iopub.status.idle": "2022-03-27T17:54:59.230761Z",
     "shell.execute_reply": "2022-03-27T17:54:59.230315Z",
     "shell.execute_reply.started": "2022-03-27T17:49:04.810222Z"
    },
    "jupyter": {
     "outputs_hidden": false
    },
    "papermill": {
     "duration": 2.962674,
     "end_time": "2022-03-27T17:54:59.230886",
     "exception": false,
     "start_time": "2022-03-27T17:54:56.268212",
     "status": "completed"
    },
    "tags": []
   },
   "outputs": [
    {
     "name": "stdout",
     "output_type": "stream",
     "text": [
      "CPU times: user 138 ms, sys: 104 ms, total: 242 ms\n",
      "Wall time: 2.8 s\n"
     ]
    }
   ],
   "source": [
    "%%time\n",
    "sub  = cudf.read_csv('../input/h-and-m-personalized-fashion-recommendations/sample_submission.csv',\n",
    "                            usecols= ['customer_id'], \n",
    "                            dtype={'customer_id': 'string'})\n",
    "\n",
    "sub['customer_id2'] = sub['customer_id'].str[-16:].str.hex_to_int().astype('int64')\n",
    "sub = sub.rename(columns = {'customer_id2':'customer_id', 'customer_id':'customer_id2'})"
   ]
  },
  {
   "cell_type": "code",
   "execution_count": 75,
   "id": "75a13d54",
   "metadata": {
    "_cell_guid": "3cb432a9-df0a-4593-8095-a2e2bc645279",
    "_uuid": "91148f88-e46b-4d17-969a-591cdab78b9b",
    "collapsed": false,
    "execution": {
     "iopub.execute_input": "2022-03-27T17:54:59.553013Z",
     "iopub.status.busy": "2022-03-27T17:54:59.548985Z",
     "iopub.status.idle": "2022-03-27T17:54:59.592880Z",
     "shell.execute_reply": "2022-03-27T17:54:59.593382Z",
     "shell.execute_reply.started": "2022-03-27T17:49:07.701692Z"
    },
    "jupyter": {
     "outputs_hidden": false
    },
    "papermill": {
     "duration": 0.208153,
     "end_time": "2022-03-27T17:54:59.593530",
     "exception": false,
     "start_time": "2022-03-27T17:54:59.385377",
     "status": "completed"
    },
    "tags": []
   },
   "outputs": [
    {
     "data": {
      "text/html": [
       "<div>\n",
       "<style scoped>\n",
       "    .dataframe tbody tr th:only-of-type {\n",
       "        vertical-align: middle;\n",
       "    }\n",
       "\n",
       "    .dataframe tbody tr th {\n",
       "        vertical-align: top;\n",
       "    }\n",
       "\n",
       "    .dataframe thead th {\n",
       "        text-align: right;\n",
       "    }\n",
       "</style>\n",
       "<table border=\"1\" class=\"dataframe\">\n",
       "  <thead>\n",
       "    <tr style=\"text-align: right;\">\n",
       "      <th></th>\n",
       "      <th>customer_id2</th>\n",
       "      <th>customer_id</th>\n",
       "    </tr>\n",
       "  </thead>\n",
       "  <tbody>\n",
       "    <tr>\n",
       "      <th>0</th>\n",
       "      <td>00000dbacae5abe5e23885899a1fa44253a17956c6d1c3...</td>\n",
       "      <td>6883939031699146327</td>\n",
       "    </tr>\n",
       "    <tr>\n",
       "      <th>1</th>\n",
       "      <td>0000423b00ade91418cceaf3b26c6af3dd342b51fd051e...</td>\n",
       "      <td>-7200416642310594310</td>\n",
       "    </tr>\n",
       "    <tr>\n",
       "      <th>2</th>\n",
       "      <td>000058a12d5b43e67d225668fa1f8d618c13dc232df0ca...</td>\n",
       "      <td>-6846340800584936</td>\n",
       "    </tr>\n",
       "    <tr>\n",
       "      <th>3</th>\n",
       "      <td>00005ca1c9ed5f5146b52ac8639a40ca9d57aeff4d1bd2...</td>\n",
       "      <td>-94071612138601410</td>\n",
       "    </tr>\n",
       "    <tr>\n",
       "      <th>4</th>\n",
       "      <td>00006413d8573cd20ed7128e53b7b13819fe5cfc2d801f...</td>\n",
       "      <td>-283965518499174310</td>\n",
       "    </tr>\n",
       "    <tr>\n",
       "      <th>...</th>\n",
       "      <td>...</td>\n",
       "      <td>...</td>\n",
       "    </tr>\n",
       "    <tr>\n",
       "      <th>1371975</th>\n",
       "      <td>ffffbbf78b6eaac697a8a5dfbfd2bfa8113ee5b403e474...</td>\n",
       "      <td>7551062398649767985</td>\n",
       "    </tr>\n",
       "    <tr>\n",
       "      <th>1371976</th>\n",
       "      <td>ffffcd5046a6143d29a04fb8c424ce494a76e5cdf4fab5...</td>\n",
       "      <td>-9141402131989464905</td>\n",
       "    </tr>\n",
       "    <tr>\n",
       "      <th>1371977</th>\n",
       "      <td>ffffcf35913a0bee60e8741cb2b4e78b8a98ee5ff2e6a1...</td>\n",
       "      <td>-8286316756823862684</td>\n",
       "    </tr>\n",
       "    <tr>\n",
       "      <th>1371978</th>\n",
       "      <td>ffffd7744cebcf3aca44ae7049d2a94b87074c3d4ffe38...</td>\n",
       "      <td>2551401172826382186</td>\n",
       "    </tr>\n",
       "    <tr>\n",
       "      <th>1371979</th>\n",
       "      <td>ffffd9ac14e89946416d80e791d064701994755c3ab686...</td>\n",
       "      <td>-1516792180973952447</td>\n",
       "    </tr>\n",
       "  </tbody>\n",
       "</table>\n",
       "<p>1371980 rows × 2 columns</p>\n",
       "</div>"
      ],
      "text/plain": [
       "                                              customer_id2  \\\n",
       "0        00000dbacae5abe5e23885899a1fa44253a17956c6d1c3...   \n",
       "1        0000423b00ade91418cceaf3b26c6af3dd342b51fd051e...   \n",
       "2        000058a12d5b43e67d225668fa1f8d618c13dc232df0ca...   \n",
       "3        00005ca1c9ed5f5146b52ac8639a40ca9d57aeff4d1bd2...   \n",
       "4        00006413d8573cd20ed7128e53b7b13819fe5cfc2d801f...   \n",
       "...                                                    ...   \n",
       "1371975  ffffbbf78b6eaac697a8a5dfbfd2bfa8113ee5b403e474...   \n",
       "1371976  ffffcd5046a6143d29a04fb8c424ce494a76e5cdf4fab5...   \n",
       "1371977  ffffcf35913a0bee60e8741cb2b4e78b8a98ee5ff2e6a1...   \n",
       "1371978  ffffd7744cebcf3aca44ae7049d2a94b87074c3d4ffe38...   \n",
       "1371979  ffffd9ac14e89946416d80e791d064701994755c3ab686...   \n",
       "\n",
       "                 customer_id  \n",
       "0        6883939031699146327  \n",
       "1       -7200416642310594310  \n",
       "2          -6846340800584936  \n",
       "3         -94071612138601410  \n",
       "4        -283965518499174310  \n",
       "...                      ...  \n",
       "1371975  7551062398649767985  \n",
       "1371976 -9141402131989464905  \n",
       "1371977 -8286316756823862684  \n",
       "1371978  2551401172826382186  \n",
       "1371979 -1516792180973952447  \n",
       "\n",
       "[1371980 rows x 2 columns]"
      ]
     },
     "execution_count": 75,
     "metadata": {},
     "output_type": "execute_result"
    }
   ],
   "source": [
    "sub"
   ]
  },
  {
   "cell_type": "code",
   "execution_count": 76,
   "id": "45da0134",
   "metadata": {
    "_cell_guid": "66a45798-7283-4a51-b3be-aa40412171bb",
    "_uuid": "bd125400-8975-435a-b304-7e06ffeac2d4",
    "collapsed": false,
    "execution": {
     "iopub.execute_input": "2022-03-27T17:54:59.909743Z",
     "iopub.status.busy": "2022-03-27T17:54:59.908837Z",
     "iopub.status.idle": "2022-03-27T17:54:59.998954Z",
     "shell.execute_reply": "2022-03-27T17:54:59.999411Z",
     "shell.execute_reply.started": "2022-03-27T17:49:07.754230Z"
    },
    "jupyter": {
     "outputs_hidden": false
    },
    "papermill": {
     "duration": 0.251413,
     "end_time": "2022-03-27T17:54:59.999561",
     "exception": false,
     "start_time": "2022-03-27T17:54:59.748148",
     "status": "completed"
    },
    "tags": []
   },
   "outputs": [
    {
     "data": {
      "text/html": [
       "<div>\n",
       "<style scoped>\n",
       "    .dataframe tbody tr th:only-of-type {\n",
       "        vertical-align: middle;\n",
       "    }\n",
       "\n",
       "    .dataframe tbody tr th {\n",
       "        vertical-align: top;\n",
       "    }\n",
       "\n",
       "    .dataframe thead th {\n",
       "        text-align: right;\n",
       "    }\n",
       "</style>\n",
       "<table border=\"1\" class=\"dataframe\">\n",
       "  <thead>\n",
       "    <tr style=\"text-align: right;\">\n",
       "      <th></th>\n",
       "      <th>customer_id</th>\n",
       "      <th>FN</th>\n",
       "      <th>Active</th>\n",
       "      <th>club_member_status</th>\n",
       "      <th>fashion_news_frequency</th>\n",
       "      <th>age</th>\n",
       "      <th>postal_code</th>\n",
       "    </tr>\n",
       "  </thead>\n",
       "  <tbody>\n",
       "    <tr>\n",
       "      <th>0</th>\n",
       "      <td>6883939031699146327</td>\n",
       "      <td>&lt;NA&gt;</td>\n",
       "      <td>&lt;NA&gt;</td>\n",
       "      <td>ACTIVE</td>\n",
       "      <td>NONE</td>\n",
       "      <td>49.0</td>\n",
       "      <td>52043ee2162cf5aa7ee79974281641c6f11a68d276429a...</td>\n",
       "    </tr>\n",
       "    <tr>\n",
       "      <th>1</th>\n",
       "      <td>-7200416642310594310</td>\n",
       "      <td>&lt;NA&gt;</td>\n",
       "      <td>&lt;NA&gt;</td>\n",
       "      <td>ACTIVE</td>\n",
       "      <td>NONE</td>\n",
       "      <td>25.0</td>\n",
       "      <td>2973abc54daa8a5f8ccfe9362140c63247c5eee03f1d93...</td>\n",
       "    </tr>\n",
       "    <tr>\n",
       "      <th>2</th>\n",
       "      <td>-6846340800584936</td>\n",
       "      <td>&lt;NA&gt;</td>\n",
       "      <td>&lt;NA&gt;</td>\n",
       "      <td>ACTIVE</td>\n",
       "      <td>NONE</td>\n",
       "      <td>24.0</td>\n",
       "      <td>64f17e6a330a85798e4998f62d0930d14db8db1c054af6...</td>\n",
       "    </tr>\n",
       "    <tr>\n",
       "      <th>3</th>\n",
       "      <td>-94071612138601410</td>\n",
       "      <td>&lt;NA&gt;</td>\n",
       "      <td>&lt;NA&gt;</td>\n",
       "      <td>ACTIVE</td>\n",
       "      <td>NONE</td>\n",
       "      <td>54.0</td>\n",
       "      <td>5d36574f52495e81f019b680c843c443bd343d5ca5b1c2...</td>\n",
       "    </tr>\n",
       "    <tr>\n",
       "      <th>4</th>\n",
       "      <td>-283965518499174310</td>\n",
       "      <td>1.0</td>\n",
       "      <td>1.0</td>\n",
       "      <td>ACTIVE</td>\n",
       "      <td>Regularly</td>\n",
       "      <td>52.0</td>\n",
       "      <td>25fa5ddee9aac01b35208d01736e57942317d756b32ddd...</td>\n",
       "    </tr>\n",
       "    <tr>\n",
       "      <th>...</th>\n",
       "      <td>...</td>\n",
       "      <td>...</td>\n",
       "      <td>...</td>\n",
       "      <td>...</td>\n",
       "      <td>...</td>\n",
       "      <td>...</td>\n",
       "      <td>...</td>\n",
       "    </tr>\n",
       "    <tr>\n",
       "      <th>1371975</th>\n",
       "      <td>7551062398649767985</td>\n",
       "      <td>&lt;NA&gt;</td>\n",
       "      <td>&lt;NA&gt;</td>\n",
       "      <td>ACTIVE</td>\n",
       "      <td>NONE</td>\n",
       "      <td>24.0</td>\n",
       "      <td>7aa399f7e669990daba2d92c577b52237380662f36480b...</td>\n",
       "    </tr>\n",
       "    <tr>\n",
       "      <th>1371976</th>\n",
       "      <td>-9141402131989464905</td>\n",
       "      <td>&lt;NA&gt;</td>\n",
       "      <td>&lt;NA&gt;</td>\n",
       "      <td>ACTIVE</td>\n",
       "      <td>NONE</td>\n",
       "      <td>21.0</td>\n",
       "      <td>3f47f1279beb72215f4de557d950e0bfa73789d24acb5e...</td>\n",
       "    </tr>\n",
       "    <tr>\n",
       "      <th>1371977</th>\n",
       "      <td>-8286316756823862684</td>\n",
       "      <td>1.0</td>\n",
       "      <td>1.0</td>\n",
       "      <td>ACTIVE</td>\n",
       "      <td>Regularly</td>\n",
       "      <td>21.0</td>\n",
       "      <td>4563fc79215672cd6a863f2b4bf56b8f898f2d96ed590e...</td>\n",
       "    </tr>\n",
       "    <tr>\n",
       "      <th>1371978</th>\n",
       "      <td>2551401172826382186</td>\n",
       "      <td>1.0</td>\n",
       "      <td>1.0</td>\n",
       "      <td>ACTIVE</td>\n",
       "      <td>Regularly</td>\n",
       "      <td>18.0</td>\n",
       "      <td>8892c18e9bc3dca6aa4000cb8094fc4b51ee8db2ed14d7...</td>\n",
       "    </tr>\n",
       "    <tr>\n",
       "      <th>1371979</th>\n",
       "      <td>-1516792180973952447</td>\n",
       "      <td>&lt;NA&gt;</td>\n",
       "      <td>&lt;NA&gt;</td>\n",
       "      <td>PRE-CREATE</td>\n",
       "      <td>NONE</td>\n",
       "      <td>65.0</td>\n",
       "      <td>0a1a03306fb2f62164c2a439b38c0caa64b40deaae8687...</td>\n",
       "    </tr>\n",
       "  </tbody>\n",
       "</table>\n",
       "<p>1371980 rows × 7 columns</p>\n",
       "</div>"
      ],
      "text/plain": [
       "                 customer_id    FN Active club_member_status  \\\n",
       "0        6883939031699146327  <NA>   <NA>             ACTIVE   \n",
       "1       -7200416642310594310  <NA>   <NA>             ACTIVE   \n",
       "2          -6846340800584936  <NA>   <NA>             ACTIVE   \n",
       "3         -94071612138601410  <NA>   <NA>             ACTIVE   \n",
       "4        -283965518499174310   1.0    1.0             ACTIVE   \n",
       "...                      ...   ...    ...                ...   \n",
       "1371975  7551062398649767985  <NA>   <NA>             ACTIVE   \n",
       "1371976 -9141402131989464905  <NA>   <NA>             ACTIVE   \n",
       "1371977 -8286316756823862684   1.0    1.0             ACTIVE   \n",
       "1371978  2551401172826382186   1.0    1.0             ACTIVE   \n",
       "1371979 -1516792180973952447  <NA>   <NA>         PRE-CREATE   \n",
       "\n",
       "        fashion_news_frequency   age  \\\n",
       "0                         NONE  49.0   \n",
       "1                         NONE  25.0   \n",
       "2                         NONE  24.0   \n",
       "3                         NONE  54.0   \n",
       "4                    Regularly  52.0   \n",
       "...                        ...   ...   \n",
       "1371975                   NONE  24.0   \n",
       "1371976                   NONE  21.0   \n",
       "1371977              Regularly  21.0   \n",
       "1371978              Regularly  18.0   \n",
       "1371979                   NONE  65.0   \n",
       "\n",
       "                                               postal_code  \n",
       "0        52043ee2162cf5aa7ee79974281641c6f11a68d276429a...  \n",
       "1        2973abc54daa8a5f8ccfe9362140c63247c5eee03f1d93...  \n",
       "2        64f17e6a330a85798e4998f62d0930d14db8db1c054af6...  \n",
       "3        5d36574f52495e81f019b680c843c443bd343d5ca5b1c2...  \n",
       "4        25fa5ddee9aac01b35208d01736e57942317d756b32ddd...  \n",
       "...                                                    ...  \n",
       "1371975  7aa399f7e669990daba2d92c577b52237380662f36480b...  \n",
       "1371976  3f47f1279beb72215f4de557d950e0bfa73789d24acb5e...  \n",
       "1371977  4563fc79215672cd6a863f2b4bf56b8f898f2d96ed590e...  \n",
       "1371978  8892c18e9bc3dca6aa4000cb8094fc4b51ee8db2ed14d7...  \n",
       "1371979  0a1a03306fb2f62164c2a439b38c0caa64b40deaae8687...  \n",
       "\n",
       "[1371980 rows x 7 columns]"
      ]
     },
     "execution_count": 76,
     "metadata": {},
     "output_type": "execute_result"
    }
   ],
   "source": [
    "customer"
   ]
  },
  {
   "cell_type": "code",
   "execution_count": 77,
   "id": "c1874da2",
   "metadata": {
    "_cell_guid": "a1255e94-b76d-4e04-93e6-6f5d4adb7ecd",
    "_uuid": "6a23b3da-a0b3-4eed-8f23-683f40edd909",
    "collapsed": false,
    "execution": {
     "iopub.execute_input": "2022-03-27T17:55:00.502305Z",
     "iopub.status.busy": "2022-03-27T17:55:00.501282Z",
     "iopub.status.idle": "2022-03-27T17:55:07.415101Z",
     "shell.execute_reply": "2022-03-27T17:55:07.415532Z",
     "shell.execute_reply.started": "2022-03-27T17:49:07.848460Z"
    },
    "jupyter": {
     "outputs_hidden": false
    },
    "papermill": {
     "duration": 7.210679,
     "end_time": "2022-03-27T17:55:07.415693",
     "exception": false,
     "start_time": "2022-03-27T17:55:00.205014",
     "status": "completed"
    },
    "tags": []
   },
   "outputs": [],
   "source": [
    "sub_customer = sub.merge(customer.fillna(0), on = \"customer_id\")\n",
    "sub_customer[\"age_type\"] = pd.cut(sub_customer.to_pandas()[\"age\"], bins = np.array([0, 21, 24, 27, 30, 35, 40, 45, 50, 60, 100], dtype = \"int32\"), right = True).astype(\"string\")"
   ]
  },
  {
   "cell_type": "code",
   "execution_count": 78,
   "id": "b917bd2f",
   "metadata": {
    "_cell_guid": "d80b9400-6ea7-493e-9872-5f80d80f88c5",
    "_uuid": "d2d15ef2-8c10-45c0-b433-37d423d7dbdc",
    "collapsed": false,
    "execution": {
     "iopub.execute_input": "2022-03-27T17:55:07.734669Z",
     "iopub.status.busy": "2022-03-27T17:55:07.733671Z",
     "iopub.status.idle": "2022-03-27T17:55:19.779157Z",
     "shell.execute_reply": "2022-03-27T17:55:19.778162Z",
     "shell.execute_reply.started": "2022-03-27T17:49:14.681522Z"
    },
    "jupyter": {
     "outputs_hidden": false
    },
    "papermill": {
     "duration": 12.207603,
     "end_time": "2022-03-27T17:55:19.779331",
     "exception": false,
     "start_time": "2022-03-27T17:55:07.571728",
     "status": "completed"
    },
    "tags": []
   },
   "outputs": [],
   "source": [
    "result3 = sub_customer.to_pandas().merge(summary.to_pandas(), on = [\"fashion_news_frequency\", \"age_type\"], how = \"left\")"
   ]
  },
  {
   "cell_type": "code",
   "execution_count": 79,
   "id": "723333d6",
   "metadata": {
    "_cell_guid": "1f3198a2-6ff4-4130-bbec-fa33e4f469ce",
    "_uuid": "06a2c12e-a2a5-45c3-9419-6ee336a84396",
    "collapsed": false,
    "execution": {
     "iopub.execute_input": "2022-03-27T17:55:20.097364Z",
     "iopub.status.busy": "2022-03-27T17:55:20.096052Z",
     "iopub.status.idle": "2022-03-27T17:55:30.443563Z",
     "shell.execute_reply": "2022-03-27T17:55:30.443085Z",
     "shell.execute_reply.started": "2022-03-27T17:49:26.055262Z"
    },
    "jupyter": {
     "outputs_hidden": false
    },
    "papermill": {
     "duration": 10.509421,
     "end_time": "2022-03-27T17:55:30.443718",
     "exception": false,
     "start_time": "2022-03-27T17:55:19.934297",
     "status": "completed"
    },
    "tags": []
   },
   "outputs": [],
   "source": [
    "result3[\"source\"] = 3\n",
    "result3 = result3.loc[:,[\"customer_id\", \"article_id\", \"source\", \"score\", \"rank\"]]"
   ]
  },
  {
   "cell_type": "code",
   "execution_count": 80,
   "id": "03f56c50",
   "metadata": {
    "_cell_guid": "b648a5e5-9a2b-4bbe-b9f8-45ce929662ce",
    "_uuid": "f295878b-9b83-42e6-9dc8-8849de4fe481",
    "collapsed": false,
    "execution": {
     "iopub.execute_input": "2022-03-27T17:55:30.763586Z",
     "iopub.status.busy": "2022-03-27T17:55:30.762720Z",
     "iopub.status.idle": "2022-03-27T17:55:30.774829Z",
     "shell.execute_reply": "2022-03-27T17:55:30.775313Z",
     "shell.execute_reply.started": "2022-03-27T17:49:36.737348Z"
    },
    "jupyter": {
     "outputs_hidden": false
    },
    "papermill": {
     "duration": 0.175591,
     "end_time": "2022-03-27T17:55:30.775473",
     "exception": false,
     "start_time": "2022-03-27T17:55:30.599882",
     "status": "completed"
    },
    "tags": []
   },
   "outputs": [
    {
     "data": {
      "text/html": [
       "<div>\n",
       "<style scoped>\n",
       "    .dataframe tbody tr th:only-of-type {\n",
       "        vertical-align: middle;\n",
       "    }\n",
       "\n",
       "    .dataframe tbody tr th {\n",
       "        vertical-align: top;\n",
       "    }\n",
       "\n",
       "    .dataframe thead th {\n",
       "        text-align: right;\n",
       "    }\n",
       "</style>\n",
       "<table border=\"1\" class=\"dataframe\">\n",
       "  <thead>\n",
       "    <tr style=\"text-align: right;\">\n",
       "      <th></th>\n",
       "      <th>customer_id</th>\n",
       "      <th>article_id</th>\n",
       "      <th>source</th>\n",
       "      <th>score</th>\n",
       "      <th>rank</th>\n",
       "    </tr>\n",
       "  </thead>\n",
       "  <tbody>\n",
       "    <tr>\n",
       "      <th>0</th>\n",
       "      <td>-6187570448173345937</td>\n",
       "      <td>905957001.0</td>\n",
       "      <td>3</td>\n",
       "      <td>0.001513</td>\n",
       "      <td>11.0</td>\n",
       "    </tr>\n",
       "    <tr>\n",
       "      <th>1</th>\n",
       "      <td>-6187570448173345937</td>\n",
       "      <td>809238005.0</td>\n",
       "      <td>3</td>\n",
       "      <td>0.002046</td>\n",
       "      <td>7.0</td>\n",
       "    </tr>\n",
       "    <tr>\n",
       "      <th>2</th>\n",
       "      <td>-6187570448173345937</td>\n",
       "      <td>865624003.0</td>\n",
       "      <td>3</td>\n",
       "      <td>0.002224</td>\n",
       "      <td>5.0</td>\n",
       "    </tr>\n",
       "    <tr>\n",
       "      <th>3</th>\n",
       "      <td>-6187570448173345937</td>\n",
       "      <td>809238001.0</td>\n",
       "      <td>3</td>\n",
       "      <td>0.001424</td>\n",
       "      <td>12.0</td>\n",
       "    </tr>\n",
       "    <tr>\n",
       "      <th>4</th>\n",
       "      <td>-6187570448173345937</td>\n",
       "      <td>863595006.0</td>\n",
       "      <td>3</td>\n",
       "      <td>0.001513</td>\n",
       "      <td>11.0</td>\n",
       "    </tr>\n",
       "    <tr>\n",
       "      <th>...</th>\n",
       "      <td>...</td>\n",
       "      <td>...</td>\n",
       "      <td>...</td>\n",
       "      <td>...</td>\n",
       "      <td>...</td>\n",
       "    </tr>\n",
       "    <tr>\n",
       "      <th>32880969</th>\n",
       "      <td>-2405428844803553396</td>\n",
       "      <td>809238001.0</td>\n",
       "      <td>3</td>\n",
       "      <td>0.003118</td>\n",
       "      <td>3.0</td>\n",
       "    </tr>\n",
       "    <tr>\n",
       "      <th>32880970</th>\n",
       "      <td>-2405428844803553396</td>\n",
       "      <td>918292001.0</td>\n",
       "      <td>3</td>\n",
       "      <td>0.002511</td>\n",
       "      <td>8.0</td>\n",
       "    </tr>\n",
       "    <tr>\n",
       "      <th>32880971</th>\n",
       "      <td>-2405428844803553396</td>\n",
       "      <td>685814001.0</td>\n",
       "      <td>3</td>\n",
       "      <td>0.002425</td>\n",
       "      <td>9.0</td>\n",
       "    </tr>\n",
       "    <tr>\n",
       "      <th>32880972</th>\n",
       "      <td>-2405428844803553396</td>\n",
       "      <td>898713001.0</td>\n",
       "      <td>3</td>\n",
       "      <td>0.002338</td>\n",
       "      <td>10.0</td>\n",
       "    </tr>\n",
       "    <tr>\n",
       "      <th>32880973</th>\n",
       "      <td>-2405428844803553396</td>\n",
       "      <td>863583001.0</td>\n",
       "      <td>3</td>\n",
       "      <td>0.002814</td>\n",
       "      <td>6.0</td>\n",
       "    </tr>\n",
       "  </tbody>\n",
       "</table>\n",
       "<p>32880974 rows × 5 columns</p>\n",
       "</div>"
      ],
      "text/plain": [
       "                  customer_id   article_id  source     score  rank\n",
       "0        -6187570448173345937  905957001.0       3  0.001513  11.0\n",
       "1        -6187570448173345937  809238005.0       3  0.002046   7.0\n",
       "2        -6187570448173345937  865624003.0       3  0.002224   5.0\n",
       "3        -6187570448173345937  809238001.0       3  0.001424  12.0\n",
       "4        -6187570448173345937  863595006.0       3  0.001513  11.0\n",
       "...                       ...          ...     ...       ...   ...\n",
       "32880969 -2405428844803553396  809238001.0       3  0.003118   3.0\n",
       "32880970 -2405428844803553396  918292001.0       3  0.002511   8.0\n",
       "32880971 -2405428844803553396  685814001.0       3  0.002425   9.0\n",
       "32880972 -2405428844803553396  898713001.0       3  0.002338  10.0\n",
       "32880973 -2405428844803553396  863583001.0       3  0.002814   6.0\n",
       "\n",
       "[32880974 rows x 5 columns]"
      ]
     },
     "execution_count": 80,
     "metadata": {},
     "output_type": "execute_result"
    }
   ],
   "source": [
    "result3"
   ]
  },
  {
   "cell_type": "code",
   "execution_count": 81,
   "id": "1332763a",
   "metadata": {
    "_cell_guid": "7933f17a-6a44-46dc-bf03-b055391f030e",
    "_uuid": "f96683c8-e520-4b91-801b-a932beb94fd0",
    "collapsed": false,
    "execution": {
     "iopub.execute_input": "2022-03-27T17:55:31.097514Z",
     "iopub.status.busy": "2022-03-27T17:55:31.095848Z",
     "iopub.status.idle": "2022-03-27T17:55:31.098151Z",
     "shell.execute_reply": "2022-03-27T17:55:31.098568Z",
     "shell.execute_reply.started": "2022-03-27T17:49:36.755357Z"
    },
    "jupyter": {
     "outputs_hidden": false
    },
    "papermill": {
     "duration": 0.166219,
     "end_time": "2022-03-27T17:55:31.098710",
     "exception": false,
     "start_time": "2022-03-27T17:55:30.932491",
     "status": "completed"
    },
    "tags": []
   },
   "outputs": [],
   "source": [
    "#result3.to_csv(\"/kaggle/working/result3.csv\", index = False)"
   ]
  },
  {
   "cell_type": "markdown",
   "id": "1e07e463",
   "metadata": {
    "_cell_guid": "5fb743f7-61e7-4d26-a4ea-90df2b723126",
    "_uuid": "64eb97e5-3a1d-43c8-a305-be576ff253da",
    "editable": false,
    "papermill": {
     "duration": 0.158976,
     "end_time": "2022-03-27T17:55:31.415301",
     "exception": false,
     "start_time": "2022-03-27T17:55:31.256325",
     "status": "completed"
    },
    "tags": []
   },
   "source": [
    "## 混合排序"
   ]
  },
  {
   "cell_type": "code",
   "execution_count": 82,
   "id": "4cfe3866",
   "metadata": {
    "_cell_guid": "e89a9ca8-b0cc-4b6a-9892-76c67c062f05",
    "_uuid": "5da11cbd-cf75-4054-b8a0-f126238444dd",
    "collapsed": false,
    "execution": {
     "iopub.execute_input": "2022-03-27T17:55:31.754718Z",
     "iopub.status.busy": "2022-03-27T17:55:31.753694Z",
     "iopub.status.idle": "2022-03-27T17:55:31.756166Z",
     "shell.execute_reply": "2022-03-27T17:55:31.755694Z",
     "shell.execute_reply.started": "2022-03-27T17:49:36.772861Z"
    },
    "jupyter": {
     "outputs_hidden": false
    },
    "papermill": {
     "duration": 0.177188,
     "end_time": "2022-03-27T17:55:31.756290",
     "exception": false,
     "start_time": "2022-03-27T17:55:31.579102",
     "status": "completed"
    },
    "tags": []
   },
   "outputs": [],
   "source": [
    "#result2 = pd.read_csv(\"../input/relation/result2.csv\")\n",
    "#result1 = pd.read_csv(\"../input/relation/result1.csv\")\n",
    "#result3 = pd.read_csv(\"/kaggle/working/result3.csv\")"
   ]
  },
  {
   "cell_type": "code",
   "execution_count": 83,
   "id": "9785a5cb",
   "metadata": {
    "_cell_guid": "770ce7a8-a20d-4958-a790-55cf438f5c8b",
    "_uuid": "4f7af5f2-25db-4933-a718-09a179f9d5cb",
    "collapsed": false,
    "execution": {
     "iopub.execute_input": "2022-03-27T17:55:32.079900Z",
     "iopub.status.busy": "2022-03-27T17:55:32.078902Z",
     "iopub.status.idle": "2022-03-27T17:55:32.081240Z",
     "shell.execute_reply": "2022-03-27T17:55:32.080702Z",
     "shell.execute_reply.started": "2022-03-27T17:49:36.779251Z"
    },
    "jupyter": {
     "outputs_hidden": false
    },
    "papermill": {
     "duration": 0.163527,
     "end_time": "2022-03-27T17:55:32.081367",
     "exception": false,
     "start_time": "2022-03-27T17:55:31.917840",
     "status": "completed"
    },
    "tags": []
   },
   "outputs": [],
   "source": [
    "#result1 = pd.read_csv(\"/kaggle/working/result1.csv\")\n",
    "#result2 = pd.read_csv(\"/kaggle/working/result2.csv\")"
   ]
  },
  {
   "cell_type": "code",
   "execution_count": 84,
   "id": "2e68686f",
   "metadata": {
    "_cell_guid": "d7302397-e4c3-4992-8302-caa0f17cc43d",
    "_uuid": "9a6f71ce-3e3d-4b7f-bef1-bf2e83f2e6c3",
    "collapsed": false,
    "execution": {
     "iopub.execute_input": "2022-03-27T17:55:32.408131Z",
     "iopub.status.busy": "2022-03-27T17:55:32.407215Z",
     "iopub.status.idle": "2022-03-27T17:55:32.414682Z",
     "shell.execute_reply": "2022-03-27T17:55:32.415159Z",
     "shell.execute_reply.started": "2022-03-27T17:49:36.786361Z"
    },
    "jupyter": {
     "outputs_hidden": false
    },
    "papermill": {
     "duration": 0.175786,
     "end_time": "2022-03-27T17:55:32.415312",
     "exception": false,
     "start_time": "2022-03-27T17:55:32.239526",
     "status": "completed"
    },
    "tags": []
   },
   "outputs": [
    {
     "data": {
      "text/html": [
       "<div>\n",
       "<style scoped>\n",
       "    .dataframe tbody tr th:only-of-type {\n",
       "        vertical-align: middle;\n",
       "    }\n",
       "\n",
       "    .dataframe tbody tr th {\n",
       "        vertical-align: top;\n",
       "    }\n",
       "\n",
       "    .dataframe thead th {\n",
       "        text-align: right;\n",
       "    }\n",
       "</style>\n",
       "<table border=\"1\" class=\"dataframe\">\n",
       "  <thead>\n",
       "    <tr style=\"text-align: right;\">\n",
       "      <th></th>\n",
       "      <th>customer_id</th>\n",
       "      <th>article_id</th>\n",
       "      <th>source</th>\n",
       "      <th>score</th>\n",
       "      <th>rank</th>\n",
       "    </tr>\n",
       "  </thead>\n",
       "  <tbody>\n",
       "    <tr>\n",
       "      <th>0</th>\n",
       "      <td>-6187570448173345937</td>\n",
       "      <td>905957001.0</td>\n",
       "      <td>3</td>\n",
       "      <td>0.001513</td>\n",
       "      <td>11.0</td>\n",
       "    </tr>\n",
       "    <tr>\n",
       "      <th>1</th>\n",
       "      <td>-6187570448173345937</td>\n",
       "      <td>809238005.0</td>\n",
       "      <td>3</td>\n",
       "      <td>0.002046</td>\n",
       "      <td>7.0</td>\n",
       "    </tr>\n",
       "    <tr>\n",
       "      <th>2</th>\n",
       "      <td>-6187570448173345937</td>\n",
       "      <td>865624003.0</td>\n",
       "      <td>3</td>\n",
       "      <td>0.002224</td>\n",
       "      <td>5.0</td>\n",
       "    </tr>\n",
       "    <tr>\n",
       "      <th>3</th>\n",
       "      <td>-6187570448173345937</td>\n",
       "      <td>809238001.0</td>\n",
       "      <td>3</td>\n",
       "      <td>0.001424</td>\n",
       "      <td>12.0</td>\n",
       "    </tr>\n",
       "    <tr>\n",
       "      <th>4</th>\n",
       "      <td>-6187570448173345937</td>\n",
       "      <td>863595006.0</td>\n",
       "      <td>3</td>\n",
       "      <td>0.001513</td>\n",
       "      <td>11.0</td>\n",
       "    </tr>\n",
       "    <tr>\n",
       "      <th>...</th>\n",
       "      <td>...</td>\n",
       "      <td>...</td>\n",
       "      <td>...</td>\n",
       "      <td>...</td>\n",
       "      <td>...</td>\n",
       "    </tr>\n",
       "    <tr>\n",
       "      <th>32880969</th>\n",
       "      <td>-2405428844803553396</td>\n",
       "      <td>809238001.0</td>\n",
       "      <td>3</td>\n",
       "      <td>0.003118</td>\n",
       "      <td>3.0</td>\n",
       "    </tr>\n",
       "    <tr>\n",
       "      <th>32880970</th>\n",
       "      <td>-2405428844803553396</td>\n",
       "      <td>918292001.0</td>\n",
       "      <td>3</td>\n",
       "      <td>0.002511</td>\n",
       "      <td>8.0</td>\n",
       "    </tr>\n",
       "    <tr>\n",
       "      <th>32880971</th>\n",
       "      <td>-2405428844803553396</td>\n",
       "      <td>685814001.0</td>\n",
       "      <td>3</td>\n",
       "      <td>0.002425</td>\n",
       "      <td>9.0</td>\n",
       "    </tr>\n",
       "    <tr>\n",
       "      <th>32880972</th>\n",
       "      <td>-2405428844803553396</td>\n",
       "      <td>898713001.0</td>\n",
       "      <td>3</td>\n",
       "      <td>0.002338</td>\n",
       "      <td>10.0</td>\n",
       "    </tr>\n",
       "    <tr>\n",
       "      <th>32880973</th>\n",
       "      <td>-2405428844803553396</td>\n",
       "      <td>863583001.0</td>\n",
       "      <td>3</td>\n",
       "      <td>0.002814</td>\n",
       "      <td>6.0</td>\n",
       "    </tr>\n",
       "  </tbody>\n",
       "</table>\n",
       "<p>32880974 rows × 5 columns</p>\n",
       "</div>"
      ],
      "text/plain": [
       "                  customer_id   article_id  source     score  rank\n",
       "0        -6187570448173345937  905957001.0       3  0.001513  11.0\n",
       "1        -6187570448173345937  809238005.0       3  0.002046   7.0\n",
       "2        -6187570448173345937  865624003.0       3  0.002224   5.0\n",
       "3        -6187570448173345937  809238001.0       3  0.001424  12.0\n",
       "4        -6187570448173345937  863595006.0       3  0.001513  11.0\n",
       "...                       ...          ...     ...       ...   ...\n",
       "32880969 -2405428844803553396  809238001.0       3  0.003118   3.0\n",
       "32880970 -2405428844803553396  918292001.0       3  0.002511   8.0\n",
       "32880971 -2405428844803553396  685814001.0       3  0.002425   9.0\n",
       "32880972 -2405428844803553396  898713001.0       3  0.002338  10.0\n",
       "32880973 -2405428844803553396  863583001.0       3  0.002814   6.0\n",
       "\n",
       "[32880974 rows x 5 columns]"
      ]
     },
     "execution_count": 84,
     "metadata": {},
     "output_type": "execute_result"
    }
   ],
   "source": [
    "result3"
   ]
  },
  {
   "cell_type": "code",
   "execution_count": 85,
   "id": "00dcc0b7",
   "metadata": {
    "_cell_guid": "5e566c70-b1cf-42e4-807d-e58ca1479fb9",
    "_uuid": "71c4556b-4f76-4996-bcf5-e429af32021a",
    "collapsed": false,
    "execution": {
     "iopub.execute_input": "2022-03-27T17:55:32.734072Z",
     "iopub.status.busy": "2022-03-27T17:55:32.733445Z",
     "iopub.status.idle": "2022-03-27T17:55:32.737390Z",
     "shell.execute_reply": "2022-03-27T17:55:32.736974Z",
     "shell.execute_reply.started": "2022-03-27T17:49:36.807642Z"
    },
    "jupyter": {
     "outputs_hidden": false
    },
    "papermill": {
     "duration": 0.16726,
     "end_time": "2022-03-27T17:55:32.737519",
     "exception": false,
     "start_time": "2022-03-27T17:55:32.570259",
     "status": "completed"
    },
    "tags": []
   },
   "outputs": [],
   "source": [
    "#assert False"
   ]
  },
  {
   "cell_type": "code",
   "execution_count": 86,
   "id": "79a6e5c5",
   "metadata": {
    "_cell_guid": "c18574be-011d-4b6f-925d-a184cdfa595a",
    "_uuid": "3ed3a145-d26d-4ef2-997c-99a0026efefc",
    "collapsed": false,
    "execution": {
     "iopub.execute_input": "2022-03-27T17:55:33.056319Z",
     "iopub.status.busy": "2022-03-27T17:55:33.055384Z",
     "iopub.status.idle": "2022-03-27T17:55:33.057765Z",
     "shell.execute_reply": "2022-03-27T17:55:33.057232Z",
     "shell.execute_reply.started": "2022-03-27T17:49:36.814958Z"
    },
    "jupyter": {
     "outputs_hidden": false
    },
    "papermill": {
     "duration": 0.164451,
     "end_time": "2022-03-27T17:55:33.057884",
     "exception": false,
     "start_time": "2022-03-27T17:55:32.893433",
     "status": "completed"
    },
    "tags": []
   },
   "outputs": [],
   "source": [
    "# del result1\n",
    "# del result2\n",
    "# del result3"
   ]
  },
  {
   "cell_type": "code",
   "execution_count": 87,
   "id": "9e7010fc",
   "metadata": {
    "_cell_guid": "a853cd5c-2f6d-4cb8-9ad1-7b1eadf5f19d",
    "_uuid": "bd54eef8-75c5-47db-99f5-9fa77206a3d4",
    "collapsed": false,
    "execution": {
     "iopub.execute_input": "2022-03-27T17:55:33.595174Z",
     "iopub.status.busy": "2022-03-27T17:55:33.594282Z",
     "iopub.status.idle": "2022-03-27T17:55:34.763440Z",
     "shell.execute_reply": "2022-03-27T17:55:34.762749Z",
     "shell.execute_reply.started": "2022-03-27T17:49:36.823884Z"
    },
    "jupyter": {
     "outputs_hidden": false
    },
    "papermill": {
     "duration": 1.440057,
     "end_time": "2022-03-27T17:55:34.763586",
     "exception": false,
     "start_time": "2022-03-27T17:55:33.323529",
     "status": "completed"
    },
    "tags": []
   },
   "outputs": [],
   "source": [
    "result = pd.concat([result1, result2, result3], axis = 0)"
   ]
  },
  {
   "cell_type": "code",
   "execution_count": 88,
   "id": "4f01fc00",
   "metadata": {
    "_cell_guid": "34084f83-7278-4b41-b521-a07cc55cd27c",
    "_uuid": "cc144bc7-3c43-4c3a-9140-b98a4177845f",
    "collapsed": false,
    "execution": {
     "iopub.execute_input": "2022-03-27T17:55:35.083745Z",
     "iopub.status.busy": "2022-03-27T17:55:35.082830Z",
     "iopub.status.idle": "2022-03-27T17:55:35.084502Z",
     "shell.execute_reply": "2022-03-27T17:55:35.085035Z",
     "shell.execute_reply.started": "2022-03-27T17:49:37.984225Z"
    },
    "jupyter": {
     "outputs_hidden": false
    },
    "papermill": {
     "duration": 0.164074,
     "end_time": "2022-03-27T17:55:35.085183",
     "exception": false,
     "start_time": "2022-03-27T17:55:34.921109",
     "status": "completed"
    },
    "tags": []
   },
   "outputs": [],
   "source": [
    "# 调整融合结果"
   ]
  },
  {
   "cell_type": "code",
   "execution_count": 89,
   "id": "158fc819",
   "metadata": {
    "_cell_guid": "18a553ef-5214-44f2-b873-2501532733a4",
    "_uuid": "227fc09d-b34c-4391-b8e5-dbe14bc69404",
    "collapsed": false,
    "execution": {
     "iopub.execute_input": "2022-03-27T17:55:35.403070Z",
     "iopub.status.busy": "2022-03-27T17:55:35.402215Z",
     "iopub.status.idle": "2022-03-27T17:55:35.404793Z",
     "shell.execute_reply": "2022-03-27T17:55:35.404355Z",
     "shell.execute_reply.started": "2022-03-27T17:49:37.990366Z"
    },
    "jupyter": {
     "outputs_hidden": false
    },
    "papermill": {
     "duration": 0.16284,
     "end_time": "2022-03-27T17:55:35.404951",
     "exception": false,
     "start_time": "2022-03-27T17:55:35.242111",
     "status": "completed"
    },
    "tags": []
   },
   "outputs": [],
   "source": [
    "#result = result3.copy()"
   ]
  },
  {
   "cell_type": "code",
   "execution_count": 90,
   "id": "be5b6487",
   "metadata": {
    "_cell_guid": "9aafb751-e431-4f4b-a25d-5058a372ed2e",
    "_uuid": "54b0b0b2-6237-42ab-bfe6-bdb423343fb5",
    "collapsed": false,
    "execution": {
     "iopub.execute_input": "2022-03-27T17:55:35.868699Z",
     "iopub.status.busy": "2022-03-27T17:55:35.868011Z",
     "iopub.status.idle": "2022-03-27T17:55:35.870827Z",
     "shell.execute_reply": "2022-03-27T17:55:35.871292Z",
     "shell.execute_reply.started": "2022-03-27T17:49:37.998881Z"
    },
    "jupyter": {
     "outputs_hidden": false
    },
    "papermill": {
     "duration": 0.311658,
     "end_time": "2022-03-27T17:55:35.871446",
     "exception": false,
     "start_time": "2022-03-27T17:55:35.559788",
     "status": "completed"
    },
    "tags": []
   },
   "outputs": [
    {
     "data": {
      "text/plain": [
       "126"
      ]
     },
     "execution_count": 90,
     "metadata": {},
     "output_type": "execute_result"
    }
   ],
   "source": [
    "gc.collect()"
   ]
  },
  {
   "cell_type": "code",
   "execution_count": 91,
   "id": "c8e509e8",
   "metadata": {
    "_cell_guid": "bb4fb7e5-199a-43aa-87d6-9e18b6a121af",
    "_uuid": "9ace348d-b4f6-4055-824e-649f1d1e89b7",
    "collapsed": false,
    "execution": {
     "iopub.execute_input": "2022-03-27T17:55:36.193149Z",
     "iopub.status.busy": "2022-03-27T17:55:36.192182Z",
     "iopub.status.idle": "2022-03-27T17:55:36.193926Z",
     "shell.execute_reply": "2022-03-27T17:55:36.194354Z",
     "shell.execute_reply.started": "2022-03-27T17:49:38.148554Z"
    },
    "jupyter": {
     "outputs_hidden": false
    },
    "papermill": {
     "duration": 0.165547,
     "end_time": "2022-03-27T17:55:36.194503",
     "exception": false,
     "start_time": "2022-03-27T17:55:36.028956",
     "status": "completed"
    },
    "tags": []
   },
   "outputs": [],
   "source": [
    "result.index = range(len(result))"
   ]
  },
  {
   "cell_type": "markdown",
   "id": "8f4418c9",
   "metadata": {
    "papermill": {
     "duration": 0.156137,
     "end_time": "2022-03-27T17:55:36.506090",
     "exception": false,
     "start_time": "2022-03-27T17:55:36.349953",
     "status": "completed"
    },
    "tags": []
   },
   "source": [
    "\n",
    "\n",
    "\n",
    "\n",
    "\n",
    "\n",
    "\n",
    "\n",
    "\n",
    "\n",
    "\n",
    "\n",
    "\n",
    "\n",
    "\n",
    "\n",
    "\n",
    "\n",
    "\n",
    "\n",
    "\n",
    "\n",
    "\n"
   ]
  },
  {
   "cell_type": "code",
   "execution_count": 92,
   "id": "d12760b9",
   "metadata": {
    "_cell_guid": "f54a836d-b7b9-4048-8ed3-6416a6eba9e4",
    "_uuid": "bb47e468-4aa6-4d1b-8373-71d7a4310d2f",
    "collapsed": false,
    "execution": {
     "iopub.execute_input": "2022-03-27T17:55:36.825629Z",
     "iopub.status.busy": "2022-03-27T17:55:36.824659Z",
     "iopub.status.idle": "2022-03-27T17:55:38.961810Z",
     "shell.execute_reply": "2022-03-27T17:55:38.962283Z",
     "shell.execute_reply.started": "2022-03-27T17:49:38.157383Z"
    },
    "jupyter": {
     "outputs_hidden": false
    },
    "papermill": {
     "duration": 2.300217,
     "end_time": "2022-03-27T17:55:38.962460",
     "exception": false,
     "start_time": "2022-03-27T17:55:36.662243",
     "status": "completed"
    },
    "tags": []
   },
   "outputs": [],
   "source": [
    "result.loc[result[\"source\"] == 3, \"score\"] *= 0.8\n",
    "result.loc[result[\"source\"] == 2, \"score\"] *= 0.7"
   ]
  },
  {
   "cell_type": "code",
   "execution_count": 93,
   "id": "daaa04b1",
   "metadata": {
    "_cell_guid": "889a61fc-c4fa-4503-81a9-a09ffbad09c2",
    "_uuid": "fb97febd-786c-42ec-94db-d50dc2849090",
    "collapsed": false,
    "execution": {
     "iopub.execute_input": "2022-03-27T17:55:39.283527Z",
     "iopub.status.busy": "2022-03-27T17:55:39.282614Z",
     "iopub.status.idle": "2022-03-27T17:55:39.284994Z",
     "shell.execute_reply": "2022-03-27T17:55:39.284420Z",
     "shell.execute_reply.started": "2022-03-27T17:49:40.278517Z"
    },
    "jupyter": {
     "outputs_hidden": false
    },
    "papermill": {
     "duration": 0.164222,
     "end_time": "2022-03-27T17:55:39.285124",
     "exception": false,
     "start_time": "2022-03-27T17:55:39.120902",
     "status": "completed"
    },
    "tags": []
   },
   "outputs": [],
   "source": [
    "#del result1\n",
    "#del result2\n",
    "#del sub_customer"
   ]
  },
  {
   "cell_type": "code",
   "execution_count": 94,
   "id": "6570c06f",
   "metadata": {
    "_cell_guid": "588b511e-2aef-4cb7-8199-c6a44dc20d53",
    "_uuid": "01bf0763-33f8-46d4-bf92-9efb3827e953",
    "collapsed": false,
    "execution": {
     "iopub.execute_input": "2022-03-27T17:55:39.606811Z",
     "iopub.status.busy": "2022-03-27T17:55:39.605633Z",
     "iopub.status.idle": "2022-03-27T17:55:40.613879Z",
     "shell.execute_reply": "2022-03-27T17:55:40.613419Z",
     "shell.execute_reply.started": "2022-03-27T17:49:40.282916Z"
    },
    "jupyter": {
     "outputs_hidden": false
    },
    "papermill": {
     "duration": 1.172725,
     "end_time": "2022-03-27T17:55:40.614038",
     "exception": false,
     "start_time": "2022-03-27T17:55:39.441313",
     "status": "completed"
    },
    "tags": []
   },
   "outputs": [],
   "source": [
    "result = cudf.DataFrame(result, dtype={'article_id': 'int32', 'customer_id':'int64'})"
   ]
  },
  {
   "cell_type": "code",
   "execution_count": 95,
   "id": "4b1f68b0",
   "metadata": {
    "_cell_guid": "49bb2118-e773-4a70-90e9-a92b968ea77c",
    "_uuid": "6461d0e9-6fa1-4f4c-97f5-0d9b55391d8e",
    "collapsed": false,
    "execution": {
     "iopub.execute_input": "2022-03-27T17:55:40.943507Z",
     "iopub.status.busy": "2022-03-27T17:55:40.942582Z",
     "iopub.status.idle": "2022-03-27T17:55:41.004722Z",
     "shell.execute_reply": "2022-03-27T17:55:41.005209Z",
     "shell.execute_reply.started": "2022-03-27T17:49:41.479333Z"
    },
    "jupyter": {
     "outputs_hidden": false
    },
    "papermill": {
     "duration": 0.230696,
     "end_time": "2022-03-27T17:55:41.005370",
     "exception": false,
     "start_time": "2022-03-27T17:55:40.774674",
     "status": "completed"
    },
    "tags": []
   },
   "outputs": [
    {
     "data": {
      "text/html": [
       "<div>\n",
       "<style scoped>\n",
       "    .dataframe tbody tr th:only-of-type {\n",
       "        vertical-align: middle;\n",
       "    }\n",
       "\n",
       "    .dataframe tbody tr th {\n",
       "        vertical-align: top;\n",
       "    }\n",
       "\n",
       "    .dataframe thead th {\n",
       "        text-align: right;\n",
       "    }\n",
       "</style>\n",
       "<table border=\"1\" class=\"dataframe\">\n",
       "  <thead>\n",
       "    <tr style=\"text-align: right;\">\n",
       "      <th></th>\n",
       "      <th>customer_id</th>\n",
       "      <th>article_id</th>\n",
       "      <th>source</th>\n",
       "      <th>score</th>\n",
       "      <th>rank</th>\n",
       "    </tr>\n",
       "  </thead>\n",
       "  <tbody>\n",
       "    <tr>\n",
       "      <th>0</th>\n",
       "      <td>-9223352921020755230</td>\n",
       "      <td>568597006</td>\n",
       "      <td>1</td>\n",
       "      <td>0.000559</td>\n",
       "      <td>5.0</td>\n",
       "    </tr>\n",
       "    <tr>\n",
       "      <th>1</th>\n",
       "      <td>-9223352921020755230</td>\n",
       "      <td>673396002</td>\n",
       "      <td>1</td>\n",
       "      <td>0.044511</td>\n",
       "      <td>1.0</td>\n",
       "    </tr>\n",
       "    <tr>\n",
       "      <th>2</th>\n",
       "      <td>-9223352921020755230</td>\n",
       "      <td>706016001</td>\n",
       "      <td>1</td>\n",
       "      <td>0.003289</td>\n",
       "      <td>4.0</td>\n",
       "    </tr>\n",
       "    <tr>\n",
       "      <th>3</th>\n",
       "      <td>-9223352921020755230</td>\n",
       "      <td>812167004</td>\n",
       "      <td>1</td>\n",
       "      <td>0.019179</td>\n",
       "      <td>2.0</td>\n",
       "    </tr>\n",
       "    <tr>\n",
       "      <th>4</th>\n",
       "      <td>-9223352921020755230</td>\n",
       "      <td>849493006</td>\n",
       "      <td>1</td>\n",
       "      <td>0.006174</td>\n",
       "      <td>3.0</td>\n",
       "    </tr>\n",
       "    <tr>\n",
       "      <th>...</th>\n",
       "      <td>...</td>\n",
       "      <td>...</td>\n",
       "      <td>...</td>\n",
       "      <td>...</td>\n",
       "      <td>...</td>\n",
       "    </tr>\n",
       "    <tr>\n",
       "      <th>43579613</th>\n",
       "      <td>-2405428844803553396</td>\n",
       "      <td>809238001</td>\n",
       "      <td>3</td>\n",
       "      <td>0.002494</td>\n",
       "      <td>3.0</td>\n",
       "    </tr>\n",
       "    <tr>\n",
       "      <th>43579614</th>\n",
       "      <td>-2405428844803553396</td>\n",
       "      <td>918292001</td>\n",
       "      <td>3</td>\n",
       "      <td>0.002009</td>\n",
       "      <td>8.0</td>\n",
       "    </tr>\n",
       "    <tr>\n",
       "      <th>43579615</th>\n",
       "      <td>-2405428844803553396</td>\n",
       "      <td>685814001</td>\n",
       "      <td>3</td>\n",
       "      <td>0.001940</td>\n",
       "      <td>9.0</td>\n",
       "    </tr>\n",
       "    <tr>\n",
       "      <th>43579616</th>\n",
       "      <td>-2405428844803553396</td>\n",
       "      <td>898713001</td>\n",
       "      <td>3</td>\n",
       "      <td>0.001871</td>\n",
       "      <td>10.0</td>\n",
       "    </tr>\n",
       "    <tr>\n",
       "      <th>43579617</th>\n",
       "      <td>-2405428844803553396</td>\n",
       "      <td>863583001</td>\n",
       "      <td>3</td>\n",
       "      <td>0.002252</td>\n",
       "      <td>6.0</td>\n",
       "    </tr>\n",
       "  </tbody>\n",
       "</table>\n",
       "<p>43579618 rows × 5 columns</p>\n",
       "</div>"
      ],
      "text/plain": [
       "                  customer_id  article_id  source     score  rank\n",
       "0        -9223352921020755230   568597006       1  0.000559   5.0\n",
       "1        -9223352921020755230   673396002       1  0.044511   1.0\n",
       "2        -9223352921020755230   706016001       1  0.003289   4.0\n",
       "3        -9223352921020755230   812167004       1  0.019179   2.0\n",
       "4        -9223352921020755230   849493006       1  0.006174   3.0\n",
       "...                       ...         ...     ...       ...   ...\n",
       "43579613 -2405428844803553396   809238001       3  0.002494   3.0\n",
       "43579614 -2405428844803553396   918292001       3  0.002009   8.0\n",
       "43579615 -2405428844803553396   685814001       3  0.001940   9.0\n",
       "43579616 -2405428844803553396   898713001       3  0.001871  10.0\n",
       "43579617 -2405428844803553396   863583001       3  0.002252   6.0\n",
       "\n",
       "[43579618 rows x 5 columns]"
      ]
     },
     "execution_count": 95,
     "metadata": {},
     "output_type": "execute_result"
    }
   ],
   "source": [
    "result"
   ]
  },
  {
   "cell_type": "code",
   "execution_count": 96,
   "id": "e77f8a4b",
   "metadata": {
    "_cell_guid": "045655d5-f31c-434e-b66a-8c905f401acc",
    "_uuid": "1c966656-aef7-44cb-81c6-69aae78eab2c",
    "collapsed": false,
    "execution": {
     "iopub.execute_input": "2022-03-27T17:55:41.328338Z",
     "iopub.status.busy": "2022-03-27T17:55:41.327480Z",
     "iopub.status.idle": "2022-03-27T17:55:41.330038Z",
     "shell.execute_reply": "2022-03-27T17:55:41.329510Z",
     "shell.execute_reply.started": "2022-03-27T17:49:41.580925Z"
    },
    "jupyter": {
     "outputs_hidden": false
    },
    "papermill": {
     "duration": 0.166344,
     "end_time": "2022-03-27T17:55:41.330161",
     "exception": false,
     "start_time": "2022-03-27T17:55:41.163817",
     "status": "completed"
    },
    "tags": []
   },
   "outputs": [],
   "source": [
    "#merge_result = result.groupby([\"customer_id\", \"article_id\"]).apply(lambda x:x.nlargest(1, \"score\"))"
   ]
  },
  {
   "cell_type": "code",
   "execution_count": 97,
   "id": "5ceeee79",
   "metadata": {
    "_cell_guid": "a3814516-dcce-468f-9242-018d344a166b",
    "_uuid": "7401a468-1d3f-4e23-97e9-7665c340891a",
    "collapsed": false,
    "execution": {
     "iopub.execute_input": "2022-03-27T17:55:41.656930Z",
     "iopub.status.busy": "2022-03-27T17:55:41.656199Z",
     "iopub.status.idle": "2022-03-27T17:55:41.805631Z",
     "shell.execute_reply": "2022-03-27T17:55:41.805117Z",
     "shell.execute_reply.started": "2022-03-27T17:49:41.588305Z"
    },
    "jupyter": {
     "outputs_hidden": false
    },
    "papermill": {
     "duration": 0.314043,
     "end_time": "2022-03-27T17:55:41.805759",
     "exception": false,
     "start_time": "2022-03-27T17:55:41.491716",
     "status": "completed"
    },
    "tags": []
   },
   "outputs": [],
   "source": [
    "merge_result = result.groupby([\"customer_id\", \"article_id\"])['score'].max().reset_index()"
   ]
  },
  {
   "cell_type": "code",
   "execution_count": 98,
   "id": "021cb0b2",
   "metadata": {
    "_cell_guid": "2f5564e8-f69c-473e-a1b4-2e824dd3c991",
    "_uuid": "dd38d6a2-b28f-462c-85fc-1ffbe235d60d",
    "collapsed": false,
    "execution": {
     "iopub.execute_input": "2022-03-27T17:55:42.125558Z",
     "iopub.status.busy": "2022-03-27T17:55:42.124605Z",
     "iopub.status.idle": "2022-03-27T17:55:42.127094Z",
     "shell.execute_reply": "2022-03-27T17:55:42.126556Z",
     "shell.execute_reply.started": "2022-03-27T17:49:41.748071Z"
    },
    "jupyter": {
     "outputs_hidden": false
    },
    "papermill": {
     "duration": 0.16426,
     "end_time": "2022-03-27T17:55:42.127217",
     "exception": false,
     "start_time": "2022-03-27T17:55:41.962957",
     "status": "completed"
    },
    "tags": []
   },
   "outputs": [],
   "source": [
    "# del result"
   ]
  },
  {
   "cell_type": "code",
   "execution_count": 99,
   "id": "b7e3ef5b",
   "metadata": {
    "_cell_guid": "4bc3c148-1740-4a26-b04b-26e39c57e311",
    "_uuid": "e0495319-e95b-4426-8cdd-303816ffdfb4",
    "collapsed": false,
    "execution": {
     "iopub.execute_input": "2022-03-27T17:55:42.465598Z",
     "iopub.status.busy": "2022-03-27T17:55:42.464661Z",
     "iopub.status.idle": "2022-03-27T17:55:42.466868Z",
     "shell.execute_reply": "2022-03-27T17:55:42.467302Z",
     "shell.execute_reply.started": "2022-03-27T17:49:41.753547Z"
    },
    "jupyter": {
     "outputs_hidden": false
    },
    "papermill": {
     "duration": 0.18266,
     "end_time": "2022-03-27T17:55:42.467456",
     "exception": false,
     "start_time": "2022-03-27T17:55:42.284796",
     "status": "completed"
    },
    "tags": []
   },
   "outputs": [],
   "source": [
    "# purchase_df = tmp.sort_values(['customer_id', 'value'], ascending = False).reset_index(drop = True)\n",
    "# purchase_df['prediction'] = '0' + purchase_df['article_id'].astype(str) + ' '\n",
    "# purchase_df = purchase_df.groupby('customer_id').agg({'prediction': sum}).reset_index()\n",
    "# purchase_df['prediction'] = purchase_df['prediction'].str.strip()\n",
    "# purchase_df = cudf.DataFrame(purchase_df)"
   ]
  },
  {
   "cell_type": "code",
   "execution_count": 100,
   "id": "88123740",
   "metadata": {
    "_cell_guid": "14ef8feb-6697-4a2c-a596-2634819dd881",
    "_uuid": "a62caeca-d206-4edf-a818-a8e494b19692",
    "collapsed": false,
    "execution": {
     "iopub.execute_input": "2022-03-27T17:55:42.788208Z",
     "iopub.status.busy": "2022-03-27T17:55:42.787260Z",
     "iopub.status.idle": "2022-03-27T17:55:42.789238Z",
     "shell.execute_reply": "2022-03-27T17:55:42.789679Z",
     "shell.execute_reply.started": "2022-03-27T17:49:41.762530Z"
    },
    "jupyter": {
     "outputs_hidden": false
    },
    "papermill": {
     "duration": 0.164493,
     "end_time": "2022-03-27T17:55:42.789823",
     "exception": false,
     "start_time": "2022-03-27T17:55:42.625330",
     "status": "completed"
    },
    "tags": []
   },
   "outputs": [],
   "source": [
    "# %%time\n",
    "# purchase_dict = {}\n",
    "\n",
    "# tmp = df.copy().to_pandas()\n",
    "# tmp['x'] = ((last_ts - tmp['t_dat']) / np.timedelta64(1, 'D')).astype(int)\n",
    "# tmp['dummy_1'] = 1 \n",
    "# tmp['x'] = tmp[[\"x\", \"dummy_1\"]].max(axis=1)\n",
    "\n",
    "# a, b, c, d = 2.5e4, 1.5e5, 2e-1, 1e3\n",
    "# total = 1715530\n",
    "# tmp['y'] = (a / np.sqrt(tmp['x']) + b * np.exp(-c*tmp['x']) - d) / total\n",
    "\n",
    "# tmp['dummy_0'] = 0 \n",
    "# tmp['y'] = tmp[[\"y\", \"dummy_0\"]].max(axis=1)\n",
    "# tmp['value'] = tmp['quotient'] * tmp['y'] \n",
    "\n",
    "# tmp = tmp.groupby(['customer_id', 'article_id']).agg({'value': 'sum'})\n",
    "# tmp = tmp.reset_index()\n",
    "\n",
    "# tmp = tmp.loc[tmp['value'] > 0]\n",
    "# tmp['rank'] = tmp.groupby(\"customer_id\")[\"value\"].rank(\"dense\", ascending=False)\n",
    "# tmp = tmp.loc[tmp['rank'] <= 12]\n",
    "\n",
    "# # for customer_id in tmp['customer_id'].unique():\n",
    "# #     purchase_dict[customer_id] = {} \n",
    "\n",
    "# # for customer_id, article_id, value in zip(tmp['customer_id'], tmp['article_id'], tmp['value']):\n",
    "# #     purchase_dict[customer_id][article_id] = value\n",
    "\n",
    "# purchase_df = tmp.sort_values(['customer_id', 'value'], ascending = False).reset_index(drop = True)\n",
    "# purchase_df['prediction'] = '0' + purchase_df['article_id'].astype(str) + ' '\n",
    "# purchase_df = purchase_df.groupby('customer_id').agg({'prediction': sum}).reset_index()\n",
    "# purchase_df['prediction'] = purchase_df['prediction'].str.strip()\n",
    "# purchase_df = cudf.DataFrame(purchase_df)"
   ]
  },
  {
   "cell_type": "markdown",
   "id": "e440c780",
   "metadata": {
    "_cell_guid": "d8a96755-ade6-49e7-9944-7ab45cb6aeb7",
    "_uuid": "cd1f7cb3-5429-4cf6-a08d-65cd32930812",
    "editable": false,
    "papermill": {
     "duration": 0.174839,
     "end_time": "2022-03-27T17:55:43.122137",
     "exception": false,
     "start_time": "2022-03-27T17:55:42.947298",
     "status": "completed"
    },
    "tags": []
   },
   "source": [
    "### Make a submission"
   ]
  },
  {
   "cell_type": "code",
   "execution_count": 101,
   "id": "d05dde04",
   "metadata": {
    "_cell_guid": "57a6e73d-1c2a-41e2-bfb9-61ce1ee91389",
    "_uuid": "eeb176a3-953c-46d3-87f7-fb565ea3d935",
    "collapsed": false,
    "execution": {
     "iopub.execute_input": "2022-03-27T17:55:43.484093Z",
     "iopub.status.busy": "2022-03-27T17:55:43.483282Z",
     "iopub.status.idle": "2022-03-27T17:55:43.551388Z",
     "shell.execute_reply": "2022-03-27T17:55:43.550755Z",
     "shell.execute_reply.started": "2022-03-27T17:49:41.772785Z"
    },
    "jupyter": {
     "outputs_hidden": false
    },
    "papermill": {
     "duration": 0.246708,
     "end_time": "2022-03-27T17:55:43.551568",
     "exception": false,
     "start_time": "2022-03-27T17:55:43.304860",
     "status": "completed"
    },
    "tags": []
   },
   "outputs": [],
   "source": [
    "merge_result[\"article_id\"] = \"0\"+merge_result[\"article_id\"].astype(\"str\")"
   ]
  },
  {
   "cell_type": "code",
   "execution_count": 102,
   "id": "a98b154d",
   "metadata": {
    "_cell_guid": "6dad8baa-a1ab-463b-a3cc-03eac43b79fc",
    "_uuid": "dd3f6fbc-14ad-48ab-ac44-6fae3440d5f0",
    "collapsed": false,
    "execution": {
     "iopub.execute_input": "2022-03-27T17:55:43.915187Z",
     "iopub.status.busy": "2022-03-27T17:55:43.914282Z",
     "iopub.status.idle": "2022-03-27T17:55:43.999964Z",
     "shell.execute_reply": "2022-03-27T17:55:44.000822Z",
     "shell.execute_reply.started": "2022-03-27T17:49:41.845822Z"
    },
    "jupyter": {
     "outputs_hidden": false
    },
    "papermill": {
     "duration": 0.271967,
     "end_time": "2022-03-27T17:55:44.001060",
     "exception": false,
     "start_time": "2022-03-27T17:55:43.729093",
     "status": "completed"
    },
    "tags": []
   },
   "outputs": [
    {
     "data": {
      "text/html": [
       "<div>\n",
       "<style scoped>\n",
       "    .dataframe tbody tr th:only-of-type {\n",
       "        vertical-align: middle;\n",
       "    }\n",
       "\n",
       "    .dataframe tbody tr th {\n",
       "        vertical-align: top;\n",
       "    }\n",
       "\n",
       "    .dataframe thead th {\n",
       "        text-align: right;\n",
       "    }\n",
       "</style>\n",
       "<table border=\"1\" class=\"dataframe\">\n",
       "  <thead>\n",
       "    <tr style=\"text-align: right;\">\n",
       "      <th></th>\n",
       "      <th>customer_id</th>\n",
       "      <th>article_id</th>\n",
       "      <th>score</th>\n",
       "    </tr>\n",
       "  </thead>\n",
       "  <tbody>\n",
       "    <tr>\n",
       "      <th>0</th>\n",
       "      <td>-5135781259237087037</td>\n",
       "      <td>0517729091</td>\n",
       "      <td>0.000228</td>\n",
       "    </tr>\n",
       "    <tr>\n",
       "      <th>1</th>\n",
       "      <td>-5624871500914218579</td>\n",
       "      <td>0751471001</td>\n",
       "      <td>0.002880</td>\n",
       "    </tr>\n",
       "    <tr>\n",
       "      <th>2</th>\n",
       "      <td>-7970946427098838191</td>\n",
       "      <td>0763988001</td>\n",
       "      <td>0.005507</td>\n",
       "    </tr>\n",
       "    <tr>\n",
       "      <th>3</th>\n",
       "      <td>9104575062053714894</td>\n",
       "      <td>0706016001</td>\n",
       "      <td>0.006537</td>\n",
       "    </tr>\n",
       "    <tr>\n",
       "      <th>4</th>\n",
       "      <td>7460620878329655984</td>\n",
       "      <td>0762846027</td>\n",
       "      <td>0.002295</td>\n",
       "    </tr>\n",
       "    <tr>\n",
       "      <th>...</th>\n",
       "      <td>...</td>\n",
       "      <td>...</td>\n",
       "      <td>...</td>\n",
       "    </tr>\n",
       "    <tr>\n",
       "      <th>42789925</th>\n",
       "      <td>1656649288221461275</td>\n",
       "      <td>0542533019</td>\n",
       "      <td>0.000484</td>\n",
       "    </tr>\n",
       "    <tr>\n",
       "      <th>42789926</th>\n",
       "      <td>-2592629029746870892</td>\n",
       "      <td>0797835008</td>\n",
       "      <td>0.005228</td>\n",
       "    </tr>\n",
       "    <tr>\n",
       "      <th>42789927</th>\n",
       "      <td>2024975388967780640</td>\n",
       "      <td>0918522001</td>\n",
       "      <td>0.003060</td>\n",
       "    </tr>\n",
       "    <tr>\n",
       "      <th>42789928</th>\n",
       "      <td>1670701978794802176</td>\n",
       "      <td>0713199006</td>\n",
       "      <td>0.000132</td>\n",
       "    </tr>\n",
       "    <tr>\n",
       "      <th>42789929</th>\n",
       "      <td>193248874012082528</td>\n",
       "      <td>0909371001</td>\n",
       "      <td>0.001495</td>\n",
       "    </tr>\n",
       "  </tbody>\n",
       "</table>\n",
       "<p>42789930 rows × 3 columns</p>\n",
       "</div>"
      ],
      "text/plain": [
       "                  customer_id  article_id     score\n",
       "0        -5135781259237087037  0517729091  0.000228\n",
       "1        -5624871500914218579  0751471001  0.002880\n",
       "2        -7970946427098838191  0763988001  0.005507\n",
       "3         9104575062053714894  0706016001  0.006537\n",
       "4         7460620878329655984  0762846027  0.002295\n",
       "...                       ...         ...       ...\n",
       "42789925  1656649288221461275  0542533019  0.000484\n",
       "42789926 -2592629029746870892  0797835008  0.005228\n",
       "42789927  2024975388967780640  0918522001  0.003060\n",
       "42789928  1670701978794802176  0713199006  0.000132\n",
       "42789929   193248874012082528  0909371001  0.001495\n",
       "\n",
       "[42789930 rows x 3 columns]"
      ]
     },
     "execution_count": 102,
     "metadata": {},
     "output_type": "execute_result"
    }
   ],
   "source": [
    "merge_result"
   ]
  },
  {
   "cell_type": "code",
   "execution_count": 103,
   "id": "3ea1fd3c",
   "metadata": {
    "_cell_guid": "8185f84e-cedc-48c4-86a1-d1bb371c28dd",
    "_uuid": "23818e7f-b7a3-432f-83bf-6136af149dfc",
    "collapsed": false,
    "execution": {
     "iopub.execute_input": "2022-03-27T17:55:44.762046Z",
     "iopub.status.busy": "2022-03-27T17:55:44.761223Z",
     "iopub.status.idle": "2022-03-27T17:55:45.354097Z",
     "shell.execute_reply": "2022-03-27T17:55:45.355291Z",
     "shell.execute_reply.started": "2022-03-27T17:49:41.902592Z"
    },
    "jupyter": {
     "outputs_hidden": false
    },
    "papermill": {
     "duration": 1.036765,
     "end_time": "2022-03-27T17:55:45.355515",
     "exception": false,
     "start_time": "2022-03-27T17:55:44.318750",
     "status": "completed"
    },
    "tags": []
   },
   "outputs": [],
   "source": [
    "merge_result = merge_result.sort_values(by = [\"customer_id\", \"score\"], ascending = False)"
   ]
  },
  {
   "cell_type": "code",
   "execution_count": 104,
   "id": "65d45824",
   "metadata": {
    "_cell_guid": "10c16fac-7e05-433f-b9db-246c57a1de7c",
    "_uuid": "9b04ffe9-0216-4196-a496-de23397301fa",
    "collapsed": false,
    "execution": {
     "iopub.execute_input": "2022-03-27T17:55:45.705272Z",
     "iopub.status.busy": "2022-03-27T17:55:45.704353Z",
     "iopub.status.idle": "2022-03-27T17:55:45.706830Z",
     "shell.execute_reply": "2022-03-27T17:55:45.706362Z",
     "shell.execute_reply.started": "2022-03-27T17:49:42.502503Z"
    },
    "jupyter": {
     "outputs_hidden": false
    },
    "papermill": {
     "duration": 0.163664,
     "end_time": "2022-03-27T17:55:45.706973",
     "exception": false,
     "start_time": "2022-03-27T17:55:45.543309",
     "status": "completed"
    },
    "tags": []
   },
   "outputs": [],
   "source": [
    "#merge_result.to_pandas()[:10000].groupby([\"customer_id\"])[\"article_id\"].agg(lambda x: print(x.to_list()))"
   ]
  },
  {
   "cell_type": "code",
   "execution_count": 105,
   "id": "b89359cd",
   "metadata": {
    "_cell_guid": "61b2ea68-7528-4ec9-8d54-2a5dc5f757bb",
    "_uuid": "42b77504-3d51-48a9-83bc-2a24b68b23f9",
    "collapsed": false,
    "execution": {
     "iopub.execute_input": "2022-03-27T17:55:46.040528Z",
     "iopub.status.busy": "2022-03-27T17:55:46.039895Z",
     "iopub.status.idle": "2022-03-27T17:55:46.085254Z",
     "shell.execute_reply": "2022-03-27T17:55:46.084739Z",
     "shell.execute_reply.started": "2022-03-27T17:49:42.508071Z"
    },
    "jupyter": {
     "outputs_hidden": false
    },
    "papermill": {
     "duration": 0.219652,
     "end_time": "2022-03-27T17:55:46.085392",
     "exception": false,
     "start_time": "2022-03-27T17:55:45.865740",
     "status": "completed"
    },
    "tags": []
   },
   "outputs": [
    {
     "data": {
      "text/html": [
       "<div>\n",
       "<style scoped>\n",
       "    .dataframe tbody tr th:only-of-type {\n",
       "        vertical-align: middle;\n",
       "    }\n",
       "\n",
       "    .dataframe tbody tr th {\n",
       "        vertical-align: top;\n",
       "    }\n",
       "\n",
       "    .dataframe thead th {\n",
       "        text-align: right;\n",
       "    }\n",
       "</style>\n",
       "<table border=\"1\" class=\"dataframe\">\n",
       "  <thead>\n",
       "    <tr style=\"text-align: right;\">\n",
       "      <th></th>\n",
       "      <th>customer_id</th>\n",
       "      <th>article_id</th>\n",
       "      <th>score</th>\n",
       "    </tr>\n",
       "  </thead>\n",
       "  <tbody>\n",
       "    <tr>\n",
       "      <th>41094896</th>\n",
       "      <td>9223370729206611574</td>\n",
       "      <td>0909370001</td>\n",
       "      <td>0.006153</td>\n",
       "    </tr>\n",
       "    <tr>\n",
       "      <th>8535733</th>\n",
       "      <td>9223370729206611574</td>\n",
       "      <td>0909371001</td>\n",
       "      <td>0.004058</td>\n",
       "    </tr>\n",
       "    <tr>\n",
       "      <th>989138</th>\n",
       "      <td>9223370729206611574</td>\n",
       "      <td>0805947001</td>\n",
       "      <td>0.002095</td>\n",
       "    </tr>\n",
       "    <tr>\n",
       "      <th>1309826</th>\n",
       "      <td>9223370729206611574</td>\n",
       "      <td>0908799002</td>\n",
       "      <td>0.001833</td>\n",
       "    </tr>\n",
       "    <tr>\n",
       "      <th>2527303</th>\n",
       "      <td>9223370729206611574</td>\n",
       "      <td>0935892001</td>\n",
       "      <td>0.001833</td>\n",
       "    </tr>\n",
       "    <tr>\n",
       "      <th>...</th>\n",
       "      <td>...</td>\n",
       "      <td>...</td>\n",
       "      <td>...</td>\n",
       "    </tr>\n",
       "    <tr>\n",
       "      <th>42431249</th>\n",
       "      <td>-9223352921020755230</td>\n",
       "      <td>0562245046</td>\n",
       "      <td>0.002011</td>\n",
       "    </tr>\n",
       "    <tr>\n",
       "      <th>20839021</th>\n",
       "      <td>-9223352921020755230</td>\n",
       "      <td>0751471001</td>\n",
       "      <td>0.001790</td>\n",
       "    </tr>\n",
       "    <tr>\n",
       "      <th>32816846</th>\n",
       "      <td>-9223352921020755230</td>\n",
       "      <td>0372860002</td>\n",
       "      <td>0.001730</td>\n",
       "    </tr>\n",
       "    <tr>\n",
       "      <th>37625351</th>\n",
       "      <td>-9223352921020755230</td>\n",
       "      <td>0156231001</td>\n",
       "      <td>0.001546</td>\n",
       "    </tr>\n",
       "    <tr>\n",
       "      <th>1229566</th>\n",
       "      <td>-9223352921020755230</td>\n",
       "      <td>0568597006</td>\n",
       "      <td>0.000559</td>\n",
       "    </tr>\n",
       "  </tbody>\n",
       "</table>\n",
       "<p>42789930 rows × 3 columns</p>\n",
       "</div>"
      ],
      "text/plain": [
       "                  customer_id  article_id     score\n",
       "41094896  9223370729206611574  0909370001  0.006153\n",
       "8535733   9223370729206611574  0909371001  0.004058\n",
       "989138    9223370729206611574  0805947001  0.002095\n",
       "1309826   9223370729206611574  0908799002  0.001833\n",
       "2527303   9223370729206611574  0935892001  0.001833\n",
       "...                       ...         ...       ...\n",
       "42431249 -9223352921020755230  0562245046  0.002011\n",
       "20839021 -9223352921020755230  0751471001  0.001790\n",
       "32816846 -9223352921020755230  0372860002  0.001730\n",
       "37625351 -9223352921020755230  0156231001  0.001546\n",
       "1229566  -9223352921020755230  0568597006  0.000559\n",
       "\n",
       "[42789930 rows x 3 columns]"
      ]
     },
     "execution_count": 105,
     "metadata": {},
     "output_type": "execute_result"
    }
   ],
   "source": [
    "merge_result"
   ]
  },
  {
   "cell_type": "code",
   "execution_count": 106,
   "id": "a70da4a8",
   "metadata": {
    "_cell_guid": "7a7bc801-4d06-48ae-9ee2-e08ec8de6982",
    "_uuid": "4d5db8ab-fdb2-4af3-ae9e-d9e74d258c4f",
    "collapsed": false,
    "execution": {
     "iopub.execute_input": "2022-03-27T17:55:46.413446Z",
     "iopub.status.busy": "2022-03-27T17:55:46.412267Z",
     "iopub.status.idle": "2022-03-27T17:56:07.586810Z",
     "shell.execute_reply": "2022-03-27T17:56:07.586234Z",
     "shell.execute_reply.started": "2022-03-27T17:49:42.567797Z"
    },
    "jupyter": {
     "outputs_hidden": false
    },
    "papermill": {
     "duration": 21.34232,
     "end_time": "2022-03-27T17:56:07.586988",
     "exception": false,
     "start_time": "2022-03-27T17:55:46.244668",
     "status": "completed"
    },
    "tags": []
   },
   "outputs": [],
   "source": [
    "final = merge_result.to_pandas().groupby([\"customer_id\"])[\"article_id\"].agg(lambda x: \" \".join(x)[:131])"
   ]
  },
  {
   "cell_type": "code",
   "execution_count": 107,
   "id": "1c1a6bb1",
   "metadata": {
    "_cell_guid": "26a10bf6-0a3e-4fab-afb9-2f20086cbb2e",
    "_uuid": "1155094c-6aee-4ce9-be3a-fc8de6cd12f2",
    "collapsed": false,
    "execution": {
     "iopub.execute_input": "2022-03-27T17:56:07.966974Z",
     "iopub.status.busy": "2022-03-27T17:56:07.966038Z",
     "iopub.status.idle": "2022-03-27T17:56:07.968446Z",
     "shell.execute_reply": "2022-03-27T17:56:07.967906Z",
     "shell.execute_reply.started": "2022-03-27T17:50:02.853232Z"
    },
    "jupyter": {
     "outputs_hidden": false
    },
    "papermill": {
     "duration": 0.218493,
     "end_time": "2022-03-27T17:56:07.968562",
     "exception": false,
     "start_time": "2022-03-27T17:56:07.750069",
     "status": "completed"
    },
    "tags": []
   },
   "outputs": [],
   "source": [
    "# source = merge_result.to_pandas().groupby([\"customer_id\"])[\"article_id\"].agg(lambda x: \" \".join(x)[:131])"
   ]
  },
  {
   "cell_type": "code",
   "execution_count": 108,
   "id": "88e71787",
   "metadata": {
    "_cell_guid": "2fe781a8-b967-4005-9f49-90508849e7ca",
    "_uuid": "8e7b0224-dab1-4e41-a466-9733984fd664",
    "collapsed": false,
    "execution": {
     "iopub.execute_input": "2022-03-27T17:56:08.294769Z",
     "iopub.status.busy": "2022-03-27T17:56:08.293499Z",
     "iopub.status.idle": "2022-03-27T17:56:08.371441Z",
     "shell.execute_reply": "2022-03-27T17:56:08.370954Z",
     "shell.execute_reply.started": "2022-03-27T17:50:02.859575Z"
    },
    "jupyter": {
     "outputs_hidden": false
    },
    "papermill": {
     "duration": 0.243285,
     "end_time": "2022-03-27T17:56:08.371576",
     "exception": false,
     "start_time": "2022-03-27T17:56:08.128291",
     "status": "completed"
    },
    "tags": []
   },
   "outputs": [],
   "source": [
    "final = final.reset_index()"
   ]
  },
  {
   "cell_type": "code",
   "execution_count": 109,
   "id": "654f1a81",
   "metadata": {
    "_cell_guid": "d60cb210-4763-4ae6-a6ad-c730a26435f5",
    "_uuid": "80e15014-18ef-4d43-bb8b-31a9be2c41ca",
    "collapsed": false,
    "execution": {
     "iopub.execute_input": "2022-03-27T17:56:08.698750Z",
     "iopub.status.busy": "2022-03-27T17:56:08.697642Z",
     "iopub.status.idle": "2022-03-27T17:56:08.738071Z",
     "shell.execute_reply": "2022-03-27T17:56:08.737584Z",
     "shell.execute_reply.started": "2022-03-27T17:50:02.951169Z"
    },
    "jupyter": {
     "outputs_hidden": false
    },
    "papermill": {
     "duration": 0.206445,
     "end_time": "2022-03-27T17:56:08.738209",
     "exception": false,
     "start_time": "2022-03-27T17:56:08.531764",
     "status": "completed"
    },
    "tags": []
   },
   "outputs": [],
   "source": [
    "final = final.rename(columns = {\"article_id\": \"prediction\"})"
   ]
  },
  {
   "cell_type": "code",
   "execution_count": 110,
   "id": "a7c57a2b",
   "metadata": {
    "_cell_guid": "efd90b2c-5aef-4990-a946-6adaf50033b1",
    "_uuid": "02d56c2d-8009-4bd6-8553-6ec0eb292669",
    "collapsed": false,
    "execution": {
     "iopub.execute_input": "2022-03-27T17:56:09.069647Z",
     "iopub.status.busy": "2022-03-27T17:56:09.061658Z",
     "iopub.status.idle": "2022-03-27T17:56:09.073820Z",
     "shell.execute_reply": "2022-03-27T17:56:09.074295Z",
     "shell.execute_reply.started": "2022-03-27T17:50:03.023935Z"
    },
    "jupyter": {
     "outputs_hidden": false
    },
    "papermill": {
     "duration": 0.176448,
     "end_time": "2022-03-27T17:56:09.074472",
     "exception": false,
     "start_time": "2022-03-27T17:56:08.898024",
     "status": "completed"
    },
    "tags": []
   },
   "outputs": [
    {
     "data": {
      "text/html": [
       "<div>\n",
       "<style scoped>\n",
       "    .dataframe tbody tr th:only-of-type {\n",
       "        vertical-align: middle;\n",
       "    }\n",
       "\n",
       "    .dataframe tbody tr th {\n",
       "        vertical-align: top;\n",
       "    }\n",
       "\n",
       "    .dataframe thead th {\n",
       "        text-align: right;\n",
       "    }\n",
       "</style>\n",
       "<table border=\"1\" class=\"dataframe\">\n",
       "  <thead>\n",
       "    <tr style=\"text-align: right;\">\n",
       "      <th></th>\n",
       "      <th>customer_id</th>\n",
       "      <th>prediction</th>\n",
       "    </tr>\n",
       "  </thead>\n",
       "  <tbody>\n",
       "    <tr>\n",
       "      <th>0</th>\n",
       "      <td>-9223352921020755230</td>\n",
       "      <td>0673396002 0860949002 0739590032 0812167004 07...</td>\n",
       "    </tr>\n",
       "    <tr>\n",
       "      <th>1</th>\n",
       "      <td>-9223343869995384291</td>\n",
       "      <td>0908292002 0910601003 0865929007 0903926002 07...</td>\n",
       "    </tr>\n",
       "    <tr>\n",
       "      <th>2</th>\n",
       "      <td>-9223321797620987725</td>\n",
       "      <td>0751471043 0865799006 0918522001 0910601003 09...</td>\n",
       "    </tr>\n",
       "    <tr>\n",
       "      <th>3</th>\n",
       "      <td>-9223319430705797669</td>\n",
       "      <td>0685814003 0448509014 0715624001 0918522001 07...</td>\n",
       "    </tr>\n",
       "    <tr>\n",
       "      <th>4</th>\n",
       "      <td>-9223308614576639426</td>\n",
       "      <td>0872537004 0899282001 0865929003 0749097003 05...</td>\n",
       "    </tr>\n",
       "    <tr>\n",
       "      <th>...</th>\n",
       "      <td>...</td>\n",
       "      <td>...</td>\n",
       "    </tr>\n",
       "    <tr>\n",
       "      <th>1364779</th>\n",
       "      <td>9223319300843860958</td>\n",
       "      <td>0751471001 0751471038 0751471043 0673677002 09...</td>\n",
       "    </tr>\n",
       "    <tr>\n",
       "      <th>1364780</th>\n",
       "      <td>9223333063893176977</td>\n",
       "      <td>0909370001 0865799006 0924243001 0809238001 09...</td>\n",
       "    </tr>\n",
       "    <tr>\n",
       "      <th>1364781</th>\n",
       "      <td>9223345314868180224</td>\n",
       "      <td>0909370001 0717464001 0841383002 0809238001 08...</td>\n",
       "    </tr>\n",
       "    <tr>\n",
       "      <th>1364782</th>\n",
       "      <td>9223357421094039679</td>\n",
       "      <td>0918522001 0751471043 0751471001 0924243001 07...</td>\n",
       "    </tr>\n",
       "    <tr>\n",
       "      <th>1364783</th>\n",
       "      <td>9223370729206611574</td>\n",
       "      <td>0909370001 0909371001 0805947001 0908799002 09...</td>\n",
       "    </tr>\n",
       "  </tbody>\n",
       "</table>\n",
       "<p>1364784 rows × 2 columns</p>\n",
       "</div>"
      ],
      "text/plain": [
       "                 customer_id  \\\n",
       "0       -9223352921020755230   \n",
       "1       -9223343869995384291   \n",
       "2       -9223321797620987725   \n",
       "3       -9223319430705797669   \n",
       "4       -9223308614576639426   \n",
       "...                      ...   \n",
       "1364779  9223319300843860958   \n",
       "1364780  9223333063893176977   \n",
       "1364781  9223345314868180224   \n",
       "1364782  9223357421094039679   \n",
       "1364783  9223370729206611574   \n",
       "\n",
       "                                                prediction  \n",
       "0        0673396002 0860949002 0739590032 0812167004 07...  \n",
       "1        0908292002 0910601003 0865929007 0903926002 07...  \n",
       "2        0751471043 0865799006 0918522001 0910601003 09...  \n",
       "3        0685814003 0448509014 0715624001 0918522001 07...  \n",
       "4        0872537004 0899282001 0865929003 0749097003 05...  \n",
       "...                                                    ...  \n",
       "1364779  0751471001 0751471038 0751471043 0673677002 09...  \n",
       "1364780  0909370001 0865799006 0924243001 0809238001 09...  \n",
       "1364781  0909370001 0717464001 0841383002 0809238001 08...  \n",
       "1364782  0918522001 0751471043 0751471001 0924243001 07...  \n",
       "1364783  0909370001 0909371001 0805947001 0908799002 09...  \n",
       "\n",
       "[1364784 rows x 2 columns]"
      ]
     },
     "execution_count": 110,
     "metadata": {},
     "output_type": "execute_result"
    }
   ],
   "source": [
    "final"
   ]
  },
  {
   "cell_type": "code",
   "execution_count": 111,
   "id": "af1924a1",
   "metadata": {
    "_cell_guid": "a53b064c-7c02-4b55-8f59-0899eb5e287f",
    "_uuid": "ea47c8bc-9264-4ad5-a14b-e75d396098e3",
    "collapsed": false,
    "execution": {
     "iopub.execute_input": "2022-03-27T17:56:09.544945Z",
     "iopub.status.busy": "2022-03-27T17:56:09.543072Z",
     "iopub.status.idle": "2022-03-27T17:56:09.550075Z",
     "shell.execute_reply": "2022-03-27T17:56:09.549602Z",
     "shell.execute_reply.started": "2022-03-27T17:50:03.039284Z"
    },
    "jupyter": {
     "outputs_hidden": false
    },
    "papermill": {
     "duration": 0.31454,
     "end_time": "2022-03-27T17:56:09.550202",
     "exception": false,
     "start_time": "2022-03-27T17:56:09.235662",
     "status": "completed"
    },
    "tags": []
   },
   "outputs": [
    {
     "data": {
      "text/plain": [
       "126"
      ]
     },
     "execution_count": 111,
     "metadata": {},
     "output_type": "execute_result"
    }
   ],
   "source": [
    "gc.collect()"
   ]
  },
  {
   "cell_type": "code",
   "execution_count": 112,
   "id": "27990d2a",
   "metadata": {
    "_cell_guid": "9c88db0b-4b6c-49cd-b577-4cb46b089d42",
    "_uuid": "62d5d0f5-410c-4053-a735-fdfcc6ea15d6",
    "collapsed": false,
    "execution": {
     "iopub.execute_input": "2022-03-27T17:56:09.882447Z",
     "iopub.status.busy": "2022-03-27T17:56:09.881846Z",
     "iopub.status.idle": "2022-03-27T17:56:11.025616Z",
     "shell.execute_reply": "2022-03-27T17:56:11.024687Z",
     "shell.execute_reply.started": "2022-03-27T17:50:03.231745Z"
    },
    "jupyter": {
     "outputs_hidden": false
    },
    "papermill": {
     "duration": 1.313342,
     "end_time": "2022-03-27T17:56:11.025761",
     "exception": false,
     "start_time": "2022-03-27T17:56:09.712419",
     "status": "completed"
    },
    "tags": []
   },
   "outputs": [],
   "source": [
    "if Last_date == \"2020-09-22\":\n",
    "    sub  = cudf.read_csv('../input/h-and-m-personalized-fashion-recommendations/sample_submission.csv',\n",
    "                                usecols= ['customer_id'], \n",
    "                                dtype={'customer_id': 'string'})\n",
    "\n",
    "    sub['customer_id2'] = sub['customer_id'].str[-16:].str.hex_to_int().astype('int64')\n",
    "\n",
    "    sub = sub.to_pandas().merge(final, left_on = 'customer_id2', right_on = 'customer_id', how = 'left',\n",
    "                   suffixes = ('', '_ignored'))\n",
    "else:\n",
    "    sub  = cudf.read_csv('../input/h-and-m-personalized-fashion-recommendations/sample_submission.csv',\n",
    "                                usecols= ['customer_id'], \n",
    "                                dtype={'customer_id': 'string'})\n",
    "\n",
    "    sub['customer_id'] = sub['customer_id'].str[-16:].str.hex_to_int().astype('int64')\n",
    "\n",
    "    sub = sub.to_pandas().merge(final, left_on = 'customer_id', right_on = 'customer_id', how = 'left',\n",
    "                   suffixes = ('', '_ignored'))\n",
    "    \n",
    "\n",
    "#sub = sub.to_pandas()\n",
    "\n",
    "\n",
    "#final = sub.groupby([\"customer_id\"])[\"article_id\"].agg(lambda x: \" \".join(x + [general_pred_str]).strip()[:131])\n",
    "\n",
    "# sub['prediction'] = sub['prediction'].fillna(general_pred_str)\n",
    "# sub['prediction'] = sub['prediction'] + ' ' +  general_pred_str\n",
    "# sub['prediction'] = sub['prediction'].str.strip()\n",
    "# sub['prediction'] = sub['prediction'].str[:131]\n",
    "# sub = sub[['customer_id', 'prediction']]\n",
    "# sub.to_csv(f'submission.csv',index=False)"
   ]
  },
  {
   "cell_type": "code",
   "execution_count": 113,
   "id": "e5f7f46e",
   "metadata": {
    "_cell_guid": "943fd4cf-ad93-45d4-a4e4-28048bb18039",
    "_uuid": "a646478c-26d3-4fe1-8120-f789b7351602",
    "collapsed": false,
    "execution": {
     "iopub.execute_input": "2022-03-27T17:56:11.606486Z",
     "iopub.status.busy": "2022-03-27T17:56:11.605634Z",
     "iopub.status.idle": "2022-03-27T17:56:11.613455Z",
     "shell.execute_reply": "2022-03-27T17:56:11.612943Z",
     "shell.execute_reply.started": "2022-03-27T17:50:04.288763Z"
    },
    "jupyter": {
     "outputs_hidden": false
    },
    "papermill": {
     "duration": 0.427366,
     "end_time": "2022-03-27T17:56:11.613584",
     "exception": false,
     "start_time": "2022-03-27T17:56:11.186218",
     "status": "completed"
    },
    "tags": []
   },
   "outputs": [
    {
     "data": {
      "text/plain": [
       "7196"
      ]
     },
     "execution_count": 113,
     "metadata": {},
     "output_type": "execute_result"
    }
   ],
   "source": [
    "sub[\"prediction\"].isna().sum()"
   ]
  },
  {
   "cell_type": "code",
   "execution_count": 114,
   "id": "bf768d9e",
   "metadata": {
    "_cell_guid": "a59cf2a4-3448-4fd3-8ef4-ccb6842ae93c",
    "_uuid": "5395499e-8e2d-4ff9-b299-2f3751c32ac5",
    "collapsed": false,
    "execution": {
     "iopub.execute_input": "2022-03-27T17:56:11.940186Z",
     "iopub.status.busy": "2022-03-27T17:56:11.939362Z",
     "iopub.status.idle": "2022-03-27T17:56:11.942166Z",
     "shell.execute_reply": "2022-03-27T17:56:11.942571Z",
     "shell.execute_reply.started": "2022-03-27T17:50:04.546397Z"
    },
    "jupyter": {
     "outputs_hidden": false
    },
    "papermill": {
     "duration": 0.167864,
     "end_time": "2022-03-27T17:56:11.942711",
     "exception": false,
     "start_time": "2022-03-27T17:56:11.774847",
     "status": "completed"
    },
    "tags": []
   },
   "outputs": [
    {
     "data": {
      "text/plain": [
       "'0909370001 0865799006 0918522001 0924243001 0448509014 0751471001 0809238001 0918292001 0762846027 0809238005 0673677002 0923758001'"
      ]
     },
     "execution_count": 114,
     "metadata": {},
     "output_type": "execute_result"
    }
   ],
   "source": [
    "general_pred_str"
   ]
  },
  {
   "cell_type": "code",
   "execution_count": 115,
   "id": "68576b49",
   "metadata": {
    "_cell_guid": "54209751-6670-4a1b-a268-4a00d4049bc8",
    "_uuid": "cb276dff-05a8-410e-bd5a-c83199c62437",
    "collapsed": false,
    "execution": {
     "iopub.execute_input": "2022-03-27T17:56:12.271425Z",
     "iopub.status.busy": "2022-03-27T17:56:12.270477Z",
     "iopub.status.idle": "2022-03-27T17:56:12.430024Z",
     "shell.execute_reply": "2022-03-27T17:56:12.429532Z",
     "shell.execute_reply.started": "2022-03-27T17:50:04.555481Z"
    },
    "jupyter": {
     "outputs_hidden": false
    },
    "papermill": {
     "duration": 0.325589,
     "end_time": "2022-03-27T17:56:12.430164",
     "exception": false,
     "start_time": "2022-03-27T17:56:12.104575",
     "status": "completed"
    },
    "tags": []
   },
   "outputs": [],
   "source": [
    "sub_id  = cudf.read_csv('../input/h-and-m-personalized-fashion-recommendations/sample_submission.csv',\n",
    "                                usecols= ['customer_id'], \n",
    "                                dtype={'customer_id': 'string'})\n",
    "cid = cudf.DataFrame(sub_id['customer_id'].str[-16:].str.hex_to_int().astype('int64'))"
   ]
  },
  {
   "cell_type": "code",
   "execution_count": 116,
   "id": "fff568b6",
   "metadata": {
    "_cell_guid": "68573437-c071-4e84-a954-65cc36959a1a",
    "_uuid": "45d4681e-0636-4caa-b3d8-a513efce1075",
    "collapsed": false,
    "execution": {
     "iopub.execute_input": "2022-03-27T17:56:12.758402Z",
     "iopub.status.busy": "2022-03-27T17:56:12.757391Z",
     "iopub.status.idle": "2022-03-27T17:56:12.759511Z",
     "shell.execute_reply": "2022-03-27T17:56:12.760025Z",
     "shell.execute_reply.started": "2022-03-27T17:50:04.720072Z"
    },
    "jupyter": {
     "outputs_hidden": false
    },
    "papermill": {
     "duration": 0.169538,
     "end_time": "2022-03-27T17:56:12.760228",
     "exception": false,
     "start_time": "2022-03-27T17:56:12.590690",
     "status": "completed"
    },
    "tags": []
   },
   "outputs": [],
   "source": [
    "cid[\"customer_id\"] = cid[\"customer_id\"].astype(\"int64\")"
   ]
  },
  {
   "cell_type": "code",
   "execution_count": 117,
   "id": "e8387921",
   "metadata": {
    "_cell_guid": "12cce383-b9ad-4d5f-9fe6-eff6d2483a16",
    "_uuid": "307594aa-e0b5-4b31-a1e9-3b4bf84487a3",
    "collapsed": false,
    "execution": {
     "iopub.execute_input": "2022-03-27T17:56:13.091415Z",
     "iopub.status.busy": "2022-03-27T17:56:13.090487Z",
     "iopub.status.idle": "2022-03-27T17:56:14.394953Z",
     "shell.execute_reply": "2022-03-27T17:56:14.394058Z",
     "shell.execute_reply.started": "2022-03-27T17:50:04.726881Z"
    },
    "jupyter": {
     "outputs_hidden": false
    },
    "papermill": {
     "duration": 1.472332,
     "end_time": "2022-03-27T17:56:14.395102",
     "exception": false,
     "start_time": "2022-03-27T17:56:12.922770",
     "status": "completed"
    },
    "tags": []
   },
   "outputs": [],
   "source": [
    "def iter_to_str(iterable):\n",
    "    return \" \".join(map(lambda x: str(0) + str(x), iterable))\n",
    "real = val.to_pandas().groupby('customer_id')[\"article_id\"].apply(iter_to_str).reset_index()"
   ]
  },
  {
   "cell_type": "code",
   "execution_count": 118,
   "id": "42063ddd",
   "metadata": {
    "_cell_guid": "51e901bb-eb02-424d-8804-884e43d71243",
    "_uuid": "942d9d6a-2d85-45c4-aa5f-0c1f9c433f7d",
    "collapsed": false,
    "execution": {
     "iopub.execute_input": "2022-03-27T17:56:14.723189Z",
     "iopub.status.busy": "2022-03-27T17:56:14.722209Z",
     "iopub.status.idle": "2022-03-27T17:56:15.050652Z",
     "shell.execute_reply": "2022-03-27T17:56:15.051286Z",
     "shell.execute_reply.started": "2022-03-27T17:50:06.097759Z"
    },
    "jupyter": {
     "outputs_hidden": false
    },
    "papermill": {
     "duration": 0.495742,
     "end_time": "2022-03-27T17:56:15.051488",
     "exception": false,
     "start_time": "2022-03-27T17:56:14.555746",
     "status": "completed"
    },
    "tags": []
   },
   "outputs": [],
   "source": [
    "real = real.merge(cid.to_pandas(), on='customer_id', how='inner')\n",
    "real.article_id = real.article_id.apply(lambda s: [] if pd.isna(s) else s.split())"
   ]
  },
  {
   "cell_type": "code",
   "execution_count": 119,
   "id": "95f97f99",
   "metadata": {
    "_cell_guid": "430b15e3-b123-4904-bad8-9b2936dff76c",
    "_uuid": "0560afd8-6fff-44ec-8354-8ba870a0d190",
    "collapsed": false,
    "execution": {
     "iopub.execute_input": "2022-03-27T17:56:15.392572Z",
     "iopub.status.busy": "2022-03-27T17:56:15.391948Z",
     "iopub.status.idle": "2022-03-27T17:56:15.394807Z",
     "shell.execute_reply": "2022-03-27T17:56:15.395225Z",
     "shell.execute_reply.started": "2022-03-27T17:50:06.455828Z"
    },
    "jupyter": {
     "outputs_hidden": false
    },
    "papermill": {
     "duration": 0.177362,
     "end_time": "2022-03-27T17:56:15.395373",
     "exception": false,
     "start_time": "2022-03-27T17:56:15.218011",
     "status": "completed"
    },
    "tags": []
   },
   "outputs": [
    {
     "data": {
      "text/html": [
       "<div>\n",
       "<style scoped>\n",
       "    .dataframe tbody tr th:only-of-type {\n",
       "        vertical-align: middle;\n",
       "    }\n",
       "\n",
       "    .dataframe tbody tr th {\n",
       "        vertical-align: top;\n",
       "    }\n",
       "\n",
       "    .dataframe thead th {\n",
       "        text-align: right;\n",
       "    }\n",
       "</style>\n",
       "<table border=\"1\" class=\"dataframe\">\n",
       "  <thead>\n",
       "    <tr style=\"text-align: right;\">\n",
       "      <th></th>\n",
       "      <th>customer_id</th>\n",
       "      <th>article_id</th>\n",
       "    </tr>\n",
       "  </thead>\n",
       "  <tbody>\n",
       "    <tr>\n",
       "      <th>0</th>\n",
       "      <td>-9223100958908512198</td>\n",
       "      <td>[0785034009, 0673677027, 0673677024]</td>\n",
       "    </tr>\n",
       "    <tr>\n",
       "      <th>1</th>\n",
       "      <td>-9223002534477110135</td>\n",
       "      <td>[0793699001]</td>\n",
       "    </tr>\n",
       "    <tr>\n",
       "      <th>2</th>\n",
       "      <td>-9222810895170663723</td>\n",
       "      <td>[0892309001, 0903306004]</td>\n",
       "    </tr>\n",
       "    <tr>\n",
       "      <th>3</th>\n",
       "      <td>-9221924794303263774</td>\n",
       "      <td>[0888343003, 0892857002, 0708138013]</td>\n",
       "    </tr>\n",
       "    <tr>\n",
       "      <th>4</th>\n",
       "      <td>-9221811157628158522</td>\n",
       "      <td>[0891663002]</td>\n",
       "    </tr>\n",
       "    <tr>\n",
       "      <th>...</th>\n",
       "      <td>...</td>\n",
       "      <td>...</td>\n",
       "    </tr>\n",
       "    <tr>\n",
       "      <th>68979</th>\n",
       "      <td>9221607025486275188</td>\n",
       "      <td>[0751994003, 0699755081, 0699755071]</td>\n",
       "    </tr>\n",
       "    <tr>\n",
       "      <th>68980</th>\n",
       "      <td>9221813808370389952</td>\n",
       "      <td>[0869331006, 0562245099, 0865929002]</td>\n",
       "    </tr>\n",
       "    <tr>\n",
       "      <th>68981</th>\n",
       "      <td>9222310594107555341</td>\n",
       "      <td>[0884319001, 0884319003]</td>\n",
       "    </tr>\n",
       "    <tr>\n",
       "      <th>68982</th>\n",
       "      <td>9223099843213569889</td>\n",
       "      <td>[0903924002]</td>\n",
       "    </tr>\n",
       "    <tr>\n",
       "      <th>68983</th>\n",
       "      <td>9223141695752178477</td>\n",
       "      <td>[0914441003]</td>\n",
       "    </tr>\n",
       "  </tbody>\n",
       "</table>\n",
       "<p>68984 rows × 2 columns</p>\n",
       "</div>"
      ],
      "text/plain": [
       "               customer_id                            article_id\n",
       "0     -9223100958908512198  [0785034009, 0673677027, 0673677024]\n",
       "1     -9223002534477110135                          [0793699001]\n",
       "2     -9222810895170663723              [0892309001, 0903306004]\n",
       "3     -9221924794303263774  [0888343003, 0892857002, 0708138013]\n",
       "4     -9221811157628158522                          [0891663002]\n",
       "...                    ...                                   ...\n",
       "68979  9221607025486275188  [0751994003, 0699755081, 0699755071]\n",
       "68980  9221813808370389952  [0869331006, 0562245099, 0865929002]\n",
       "68981  9222310594107555341              [0884319001, 0884319003]\n",
       "68982  9223099843213569889                          [0903924002]\n",
       "68983  9223141695752178477                          [0914441003]\n",
       "\n",
       "[68984 rows x 2 columns]"
      ]
     },
     "execution_count": 119,
     "metadata": {},
     "output_type": "execute_result"
    }
   ],
   "source": [
    "real"
   ]
  },
  {
   "cell_type": "code",
   "execution_count": 120,
   "id": "519be8b2",
   "metadata": {
    "_cell_guid": "106a5cab-ccb9-4424-b21b-9b171577ceb1",
    "_uuid": "ea2ac64e-6e14-40a4-8d0a-1595416c3f7f",
    "collapsed": false,
    "execution": {
     "iopub.execute_input": "2022-03-27T17:56:15.976984Z",
     "iopub.status.busy": "2022-03-27T17:56:15.975816Z",
     "iopub.status.idle": "2022-03-27T17:56:18.533867Z",
     "shell.execute_reply": "2022-03-27T17:56:18.532989Z",
     "shell.execute_reply.started": "2022-03-27T17:50:06.475356Z"
    },
    "jupyter": {
     "outputs_hidden": false
    },
    "papermill": {
     "duration": 2.978588,
     "end_time": "2022-03-27T17:56:18.534041",
     "exception": false,
     "start_time": "2022-03-27T17:56:15.555453",
     "status": "completed"
    },
    "tags": []
   },
   "outputs": [],
   "source": [
    "sub[\"prediction\"] = sub[\"prediction\"].fillna(general_pred_str)\n",
    "sub['prediction'] = sub['prediction'] + ' ' +  general_pred_str\n",
    "sub['prediction'] = sub['prediction'].str[:131]"
   ]
  },
  {
   "cell_type": "code",
   "execution_count": 121,
   "id": "10c8bc9f",
   "metadata": {
    "_cell_guid": "6ceaad3b-344d-4770-aeb3-26e1460a77ff",
    "_uuid": "0ed35824-a896-444e-ac74-f9c36c41cd0b",
    "collapsed": false,
    "execution": {
     "iopub.execute_input": "2022-03-27T17:56:18.869407Z",
     "iopub.status.busy": "2022-03-27T17:56:18.868173Z",
     "iopub.status.idle": "2022-03-27T17:56:18.872032Z",
     "shell.execute_reply": "2022-03-27T17:56:18.871560Z",
     "shell.execute_reply.started": "2022-03-27T17:50:08.974974Z"
    },
    "jupyter": {
     "outputs_hidden": false
    },
    "papermill": {
     "duration": 0.177499,
     "end_time": "2022-03-27T17:56:18.872157",
     "exception": false,
     "start_time": "2022-03-27T17:56:18.694658",
     "status": "completed"
    },
    "tags": []
   },
   "outputs": [
    {
     "data": {
      "text/html": [
       "<div>\n",
       "<style scoped>\n",
       "    .dataframe tbody tr th:only-of-type {\n",
       "        vertical-align: middle;\n",
       "    }\n",
       "\n",
       "    .dataframe tbody tr th {\n",
       "        vertical-align: top;\n",
       "    }\n",
       "\n",
       "    .dataframe thead th {\n",
       "        text-align: right;\n",
       "    }\n",
       "</style>\n",
       "<table border=\"1\" class=\"dataframe\">\n",
       "  <thead>\n",
       "    <tr style=\"text-align: right;\">\n",
       "      <th></th>\n",
       "      <th>customer_id</th>\n",
       "      <th>article_id</th>\n",
       "    </tr>\n",
       "  </thead>\n",
       "  <tbody>\n",
       "    <tr>\n",
       "      <th>0</th>\n",
       "      <td>-9223100958908512198</td>\n",
       "      <td>[0785034009, 0673677027, 0673677024]</td>\n",
       "    </tr>\n",
       "    <tr>\n",
       "      <th>1</th>\n",
       "      <td>-9223002534477110135</td>\n",
       "      <td>[0793699001]</td>\n",
       "    </tr>\n",
       "    <tr>\n",
       "      <th>2</th>\n",
       "      <td>-9222810895170663723</td>\n",
       "      <td>[0892309001, 0903306004]</td>\n",
       "    </tr>\n",
       "    <tr>\n",
       "      <th>3</th>\n",
       "      <td>-9221924794303263774</td>\n",
       "      <td>[0888343003, 0892857002, 0708138013]</td>\n",
       "    </tr>\n",
       "    <tr>\n",
       "      <th>4</th>\n",
       "      <td>-9221811157628158522</td>\n",
       "      <td>[0891663002]</td>\n",
       "    </tr>\n",
       "    <tr>\n",
       "      <th>...</th>\n",
       "      <td>...</td>\n",
       "      <td>...</td>\n",
       "    </tr>\n",
       "    <tr>\n",
       "      <th>68979</th>\n",
       "      <td>9221607025486275188</td>\n",
       "      <td>[0751994003, 0699755081, 0699755071]</td>\n",
       "    </tr>\n",
       "    <tr>\n",
       "      <th>68980</th>\n",
       "      <td>9221813808370389952</td>\n",
       "      <td>[0869331006, 0562245099, 0865929002]</td>\n",
       "    </tr>\n",
       "    <tr>\n",
       "      <th>68981</th>\n",
       "      <td>9222310594107555341</td>\n",
       "      <td>[0884319001, 0884319003]</td>\n",
       "    </tr>\n",
       "    <tr>\n",
       "      <th>68982</th>\n",
       "      <td>9223099843213569889</td>\n",
       "      <td>[0903924002]</td>\n",
       "    </tr>\n",
       "    <tr>\n",
       "      <th>68983</th>\n",
       "      <td>9223141695752178477</td>\n",
       "      <td>[0914441003]</td>\n",
       "    </tr>\n",
       "  </tbody>\n",
       "</table>\n",
       "<p>68984 rows × 2 columns</p>\n",
       "</div>"
      ],
      "text/plain": [
       "               customer_id                            article_id\n",
       "0     -9223100958908512198  [0785034009, 0673677027, 0673677024]\n",
       "1     -9223002534477110135                          [0793699001]\n",
       "2     -9222810895170663723              [0892309001, 0903306004]\n",
       "3     -9221924794303263774  [0888343003, 0892857002, 0708138013]\n",
       "4     -9221811157628158522                          [0891663002]\n",
       "...                    ...                                   ...\n",
       "68979  9221607025486275188  [0751994003, 0699755081, 0699755071]\n",
       "68980  9221813808370389952  [0869331006, 0562245099, 0865929002]\n",
       "68981  9222310594107555341              [0884319001, 0884319003]\n",
       "68982  9223099843213569889                          [0903924002]\n",
       "68983  9223141695752178477                          [0914441003]\n",
       "\n",
       "[68984 rows x 2 columns]"
      ]
     },
     "execution_count": 121,
     "metadata": {},
     "output_type": "execute_result"
    }
   ],
   "source": [
    "real"
   ]
  },
  {
   "cell_type": "code",
   "execution_count": 122,
   "id": "2c912311",
   "metadata": {
    "_cell_guid": "1eccf81d-77a1-42bd-815e-cb2fd026140f",
    "_uuid": "145942b6-16c3-4af1-881b-1c00eaa5a65f",
    "collapsed": false,
    "execution": {
     "iopub.execute_input": "2022-03-27T17:56:19.201779Z",
     "iopub.status.busy": "2022-03-27T17:56:19.200176Z",
     "iopub.status.idle": "2022-03-27T17:56:19.202402Z",
     "shell.execute_reply": "2022-03-27T17:56:19.202792Z",
     "shell.execute_reply.started": "2022-03-27T17:50:08.995748Z"
    },
    "jupyter": {
     "outputs_hidden": false
    },
    "papermill": {
     "duration": 0.16886,
     "end_time": "2022-03-27T17:56:19.202964",
     "exception": false,
     "start_time": "2022-03-27T17:56:19.034104",
     "status": "completed"
    },
    "tags": []
   },
   "outputs": [],
   "source": [
    "#sub[:10000].groupby([\"customer_id\"])[\"article_id\"].agg(lambda x: \" \".join(x).strip()[:131])"
   ]
  },
  {
   "cell_type": "code",
   "execution_count": 123,
   "id": "e9d15e5a",
   "metadata": {
    "_cell_guid": "db7125aa-eb4e-47ae-b02f-b8b19790d064",
    "_uuid": "f7fed420-1020-41e8-99c8-9d59df2a4e6b",
    "collapsed": false,
    "execution": {
     "iopub.execute_input": "2022-03-27T17:56:19.532618Z",
     "iopub.status.busy": "2022-03-27T17:56:19.531714Z",
     "iopub.status.idle": "2022-03-27T17:56:19.534157Z",
     "shell.execute_reply": "2022-03-27T17:56:19.533601Z",
     "shell.execute_reply.started": "2022-03-27T17:50:09.002582Z"
    },
    "jupyter": {
     "outputs_hidden": false
    },
    "papermill": {
     "duration": 0.169693,
     "end_time": "2022-03-27T17:56:19.534283",
     "exception": false,
     "start_time": "2022-03-27T17:56:19.364590",
     "status": "completed"
    },
    "tags": []
   },
   "outputs": [],
   "source": [
    "#final"
   ]
  },
  {
   "cell_type": "markdown",
   "id": "cf46ef24",
   "metadata": {
    "_cell_guid": "07bbf10d-d477-4e90-829b-149b44d9d9e9",
    "_uuid": "336b94f7-1eef-4fc6-b9a4-49fee8b48ddc",
    "editable": false,
    "papermill": {
     "duration": 0.160063,
     "end_time": "2022-03-27T17:56:19.854425",
     "exception": false,
     "start_time": "2022-03-27T17:56:19.694362",
     "status": "completed"
    },
    "tags": []
   },
   "source": [
    "## 验证集评估"
   ]
  },
  {
   "cell_type": "code",
   "execution_count": 124,
   "id": "565e7721",
   "metadata": {
    "_cell_guid": "b52875eb-ab95-4c6f-b3a0-c3e639b28dc0",
    "_uuid": "2bce14f8-317e-411f-9dba-f4d21a92b68f",
    "collapsed": false,
    "execution": {
     "iopub.execute_input": "2022-03-27T17:56:20.334804Z",
     "iopub.status.busy": "2022-03-27T17:56:20.333775Z",
     "iopub.status.idle": "2022-03-27T17:56:20.337700Z",
     "shell.execute_reply": "2022-03-27T17:56:20.338136Z",
     "shell.execute_reply.started": "2022-03-27T17:50:09.009940Z"
    },
    "jupyter": {
     "outputs_hidden": false
    },
    "papermill": {
     "duration": 0.321631,
     "end_time": "2022-03-27T17:56:20.338293",
     "exception": false,
     "start_time": "2022-03-27T17:56:20.016662",
     "status": "completed"
    },
    "tags": []
   },
   "outputs": [
    {
     "data": {
      "text/plain": [
       "142"
      ]
     },
     "execution_count": 124,
     "metadata": {},
     "output_type": "execute_result"
    }
   ],
   "source": [
    "gc.collect()"
   ]
  },
  {
   "cell_type": "code",
   "execution_count": 125,
   "id": "a76cc0ce",
   "metadata": {
    "_cell_guid": "94880db5-953b-4202-8a1b-f488afa3858e",
    "_uuid": "77c9edac-445e-4afa-b540-60c5e88fb0a2",
    "collapsed": false,
    "execution": {
     "iopub.execute_input": "2022-03-27T17:56:20.684667Z",
     "iopub.status.busy": "2022-03-27T17:56:20.683847Z",
     "iopub.status.idle": "2022-03-27T17:56:20.756343Z",
     "shell.execute_reply": "2022-03-27T17:56:20.756771Z",
     "shell.execute_reply.started": "2022-03-27T17:50:09.157990Z"
    },
    "jupyter": {
     "outputs_hidden": false
    },
    "papermill": {
     "duration": 0.25796,
     "end_time": "2022-03-27T17:56:20.756956",
     "exception": false,
     "start_time": "2022-03-27T17:56:20.498996",
     "status": "completed"
    },
    "tags": []
   },
   "outputs": [],
   "source": [
    "import numpy as np, pandas as pd, datetime as dt\n",
    "import matplotlib.pyplot as plt; plt.style.use('ggplot')\n",
    "import seaborn as sns\n",
    "from collections import defaultdict\n",
    "\n",
    "def iter_to_str(iterable):\n",
    "    return \" \".join(map(lambda x: str(0) + str(x), iterable))\n",
    "\n",
    "def apk(actual, predicted, k=12):\n",
    "    if len(predicted) > k:\n",
    "        predicted = predicted[:k]\n",
    "    score, nhits = 0.0, 0.0\n",
    "    for i, p in enumerate(predicted):\n",
    "        if p in actual and p not in predicted[:i]:\n",
    "            nhits += 1.0\n",
    "            score += nhits / (i + 1.0)\n",
    "    if not actual:\n",
    "        return 0.0\n",
    "    return score / min(len(actual), k)\n",
    "\n",
    "def mapk(actual, predicted, k=12, return_apks=False):\n",
    "    assert len(actual) == len(predicted)\n",
    "    apks = [apk(ac, pr, k) for ac, pr in zip(actual, predicted) if 0 < len(ac)]\n",
    "    if return_apks:\n",
    "        return apks\n",
    "    return np.mean(apks)\n",
    "\n",
    "def blend(dt, w=[], k=12):\n",
    "    if len(w) == 0:\n",
    "        w = [1] * (len(dt))\n",
    "    preds = []\n",
    "    for i in range(len(w)):\n",
    "        preds.append(dt[i].split())\n",
    "    res = {}\n",
    "    for i in range(len(preds)):\n",
    "        if w[i] < 0:\n",
    "            continue\n",
    "        for n, v in enumerate(preds[i]):\n",
    "            if v in res:\n",
    "                res[v] += (w[i] / (n + 1))\n",
    "            else:\n",
    "                res[v] = (w[i] / (n + 1))    \n",
    "    res = list(dict(sorted(res.items(), key=lambda item: -item[1])).keys())\n",
    "    return ' '.join(res[:k])\n",
    "\n",
    "def prune(pred, ok_set, k=12):\n",
    "    pred = pred.split()\n",
    "    post = []\n",
    "    for item in pred:\n",
    "        if int(item) in ok_set and not item in post:\n",
    "            post.append(item)\n",
    "    return \" \".join(post[:k])\n",
    "\n",
    "def validation(actual, predicted, groups, score=0, index=-1, ignore=False, figsize=(22, 6), name = \"\"):\n",
    "    # actual, predicted : list of lists\n",
    "    # group : pandas Series\n",
    "    # score : pandas DataFrame\n",
    "    if ignore: return\n",
    "    ap12 = mapk(actual, predicted, return_apks=True)\n",
    "    smap12 = round(np.mean(ap12), 6)\n",
    "    group_num = len(groups)\n",
    "    plt.figure(figsize=figsize)\n",
    "    plt.subplot(1, 1+group_num, 1); sns.histplot(data=ap12, log_scale=(0, 10), bins=20); plt.title(f\"MAP@12 : {smap12}\")\n",
    "    count = 2\n",
    "    for name, group in groups.items():\n",
    "        score = pd.DataFrame({g:[] for g in sorted(group.unique().tolist())})\n",
    "        if index == -1 : index = score.shape[0]\n",
    "        score.loc[index, \"All\"] = smap12\n",
    "        for g in group.unique():\n",
    "            map12 = round(mapk(actual[group == g], predicted[group == g]), 6)\n",
    "            score.loc[index, g] = map12\n",
    "        plt.subplot(1, 1+group_num, count)\n",
    "        score[[g for g in sorted(group.unique(), key = lambda x: x if type(x) is np.float64 else float(x.replace(\"(\", \"1\").split(\",\")[0]))[::-1]] + ['All']].loc[index].plot.barh()\n",
    "        plt.title(\"{} MAP@12\".format(name))\n",
    "        count += 1\n",
    "        vc = pd.Series(predicted).apply(len).value_counts()\n",
    "        score.loc[index, \"Fill\"] = round(1 - sum(vc[k] * (12 - k) / 12 for k in (set(range(12)) & set(vc.index))) / len(actual), 3) * 100\n",
    "        display(score)\n",
    "    return score"
   ]
  },
  {
   "cell_type": "code",
   "execution_count": 126,
   "id": "0cb65d9b",
   "metadata": {
    "_cell_guid": "c5857db9-2cb4-4454-88f0-798fa0b3f65e",
    "_uuid": "1793bb3a-128e-447f-9352-eb2775399e11",
    "collapsed": false,
    "execution": {
     "iopub.execute_input": "2022-03-27T17:56:21.086390Z",
     "iopub.status.busy": "2022-03-27T17:56:21.085724Z",
     "iopub.status.idle": "2022-03-27T17:56:21.110151Z",
     "shell.execute_reply": "2022-03-27T17:56:21.110606Z",
     "shell.execute_reply.started": "2022-03-27T17:50:09.248546Z"
    },
    "jupyter": {
     "outputs_hidden": false
    },
    "papermill": {
     "duration": 0.192637,
     "end_time": "2022-03-27T17:56:21.110766",
     "exception": false,
     "start_time": "2022-03-27T17:56:20.918129",
     "status": "completed"
    },
    "tags": []
   },
   "outputs": [],
   "source": [
    "group = val.groupby('customer_id').sales_channel_id.mean().round().reset_index()\\\n",
    "    .merge(cid, on='customer_id', how='inner').rename(columns={'sales_channel_id':'group'})\n",
    "group = group.set_index('customer_id').loc[real.customer_id].reset_index()\n",
    "channal_group = group.group.fillna(3)"
   ]
  },
  {
   "cell_type": "code",
   "execution_count": 127,
   "id": "8c0a8da4",
   "metadata": {
    "_cell_guid": "dcdf2838-545d-4040-94e8-3e649dad87be",
    "_uuid": "2277e667-fa4f-4f5d-8bb0-0fd7ca26c044",
    "collapsed": false,
    "execution": {
     "iopub.execute_input": "2022-03-27T17:56:21.461361Z",
     "iopub.status.busy": "2022-03-27T17:56:21.460428Z",
     "iopub.status.idle": "2022-03-27T17:56:27.784109Z",
     "shell.execute_reply": "2022-03-27T17:56:27.783581Z",
     "shell.execute_reply.started": "2022-03-27T17:50:09.277124Z"
    },
    "jupyter": {
     "outputs_hidden": false
    },
    "papermill": {
     "duration": 6.491862,
     "end_time": "2022-03-27T17:56:27.784254",
     "exception": false,
     "start_time": "2022-03-27T17:56:21.292392",
     "status": "completed"
    },
    "tags": []
   },
   "outputs": [],
   "source": [
    "customer[\"age_type\"] = pd.cut(customer.to_pandas()[\"age\"], bins = np.array([0, 21, 24, 27, 30, 35, 40, 45, 50, 60, 9999], dtype = \"int32\"), right = True).astype(\"string\")\n",
    "group = customer.rename(columns={'age_type':'group'}).set_index('customer_id').loc[real.customer_id].reset_index()\n",
    "age_group = group.group.fillna(\"-1\")"
   ]
  },
  {
   "cell_type": "code",
   "execution_count": 128,
   "id": "c6e1f7a5",
   "metadata": {
    "_cell_guid": "f33c62d5-3d1a-4927-9eaa-f967e7f78698",
    "_uuid": "f699ab78-a7f7-440a-a611-9f16e4ca316a",
    "collapsed": false,
    "execution": {
     "iopub.execute_input": "2022-03-27T17:56:28.134394Z",
     "iopub.status.busy": "2022-03-27T17:56:28.133514Z",
     "iopub.status.idle": "2022-03-27T17:56:28.467998Z",
     "shell.execute_reply": "2022-03-27T17:56:28.469376Z",
     "shell.execute_reply.started": "2022-03-27T17:50:15.770653Z"
    },
    "jupyter": {
     "outputs_hidden": false
    },
    "papermill": {
     "duration": 0.522752,
     "end_time": "2022-03-27T17:56:28.469626",
     "exception": false,
     "start_time": "2022-03-27T17:56:27.946874",
     "status": "completed"
    },
    "tags": []
   },
   "outputs": [],
   "source": [
    "group = val.groupby('customer_id').sales_channel_id.count().round().reset_index()\\\n",
    "    .merge(cid, on='customer_id', how='inner').rename(columns={'sales_channel_id':'group'})\n",
    "group[\"group\"] = pd.cut(group[\"group\"].to_pandas(), bins = np.array([0, 1, 2, 3, 5, 10, 20, 9999], dtype = \"int32\"), right = True).astype(\"string\")\n",
    "group = group.set_index('customer_id').loc[real.customer_id].reset_index()\n",
    "count_group = group.group.fillna(0)"
   ]
  },
  {
   "cell_type": "code",
   "execution_count": 129,
   "id": "45b1c65d",
   "metadata": {
    "_cell_guid": "49138940-6071-4015-8dc0-0d08685fb3db",
    "_uuid": "0be5e21c-c7e5-43c3-a2f7-3c8d861ae73e",
    "collapsed": false,
    "execution": {
     "iopub.execute_input": "2022-03-27T17:56:28.900120Z",
     "iopub.status.busy": "2022-03-27T17:56:28.899240Z",
     "iopub.status.idle": "2022-03-27T17:56:28.941101Z",
     "shell.execute_reply": "2022-03-27T17:56:28.941539Z",
     "shell.execute_reply.started": "2022-03-27T17:50:15.975636Z"
    },
    "jupyter": {
     "outputs_hidden": false
    },
    "papermill": {
     "duration": 0.209294,
     "end_time": "2022-03-27T17:56:28.941686",
     "exception": false,
     "start_time": "2022-03-27T17:56:28.732392",
     "status": "completed"
    },
    "tags": []
   },
   "outputs": [
    {
     "data": {
      "text/html": [
       "<div>\n",
       "<style scoped>\n",
       "    .dataframe tbody tr th:only-of-type {\n",
       "        vertical-align: middle;\n",
       "    }\n",
       "\n",
       "    .dataframe tbody tr th {\n",
       "        vertical-align: top;\n",
       "    }\n",
       "\n",
       "    .dataframe thead th {\n",
       "        text-align: right;\n",
       "    }\n",
       "</style>\n",
       "<table border=\"1\" class=\"dataframe\">\n",
       "  <thead>\n",
       "    <tr style=\"text-align: right;\">\n",
       "      <th></th>\n",
       "      <th>customer_id</th>\n",
       "    </tr>\n",
       "  </thead>\n",
       "  <tbody>\n",
       "    <tr>\n",
       "      <th>31718581</th>\n",
       "      <td>-9223100958908512198</td>\n",
       "    </tr>\n",
       "    <tr>\n",
       "      <th>31723712</th>\n",
       "      <td>-9223002534477110135</td>\n",
       "    </tr>\n",
       "    <tr>\n",
       "      <th>31668649</th>\n",
       "      <td>-9222810895170663723</td>\n",
       "    </tr>\n",
       "    <tr>\n",
       "      <th>31664044</th>\n",
       "      <td>-9221924794303263774</td>\n",
       "    </tr>\n",
       "    <tr>\n",
       "      <th>31782993</th>\n",
       "      <td>-9221811157628158522</td>\n",
       "    </tr>\n",
       "    <tr>\n",
       "      <th>...</th>\n",
       "      <td>...</td>\n",
       "    </tr>\n",
       "    <tr>\n",
       "      <th>31575924</th>\n",
       "      <td>9221607025486275188</td>\n",
       "    </tr>\n",
       "    <tr>\n",
       "      <th>31692865</th>\n",
       "      <td>9221813808370389952</td>\n",
       "    </tr>\n",
       "    <tr>\n",
       "      <th>31681512</th>\n",
       "      <td>9222310594107555341</td>\n",
       "    </tr>\n",
       "    <tr>\n",
       "      <th>31712352</th>\n",
       "      <td>9223099843213569889</td>\n",
       "    </tr>\n",
       "    <tr>\n",
       "      <th>31622943</th>\n",
       "      <td>9223141695752178477</td>\n",
       "    </tr>\n",
       "  </tbody>\n",
       "</table>\n",
       "<p>68984 rows × 1 columns</p>\n",
       "</div>"
      ],
      "text/plain": [
       "                  customer_id\n",
       "31718581 -9223100958908512198\n",
       "31723712 -9223002534477110135\n",
       "31668649 -9222810895170663723\n",
       "31664044 -9221924794303263774\n",
       "31782993 -9221811157628158522\n",
       "...                       ...\n",
       "31575924  9221607025486275188\n",
       "31692865  9221813808370389952\n",
       "31681512  9222310594107555341\n",
       "31712352  9223099843213569889\n",
       "31622943  9223141695752178477\n",
       "\n",
       "[68984 rows x 1 columns]"
      ]
     },
     "execution_count": 129,
     "metadata": {},
     "output_type": "execute_result"
    }
   ],
   "source": [
    "val[['customer_id']].drop_duplicates()"
   ]
  },
  {
   "cell_type": "code",
   "execution_count": 130,
   "id": "801ab0e8",
   "metadata": {
    "_cell_guid": "768e17cd-99ea-4846-a565-dc9f7305e81d",
    "_uuid": "8e2f1665-8ac8-4ac4-82e3-2168e624cb41",
    "collapsed": false,
    "execution": {
     "iopub.execute_input": "2022-03-27T17:56:29.281765Z",
     "iopub.status.busy": "2022-03-27T17:56:29.280837Z",
     "iopub.status.idle": "2022-03-27T17:56:29.524429Z",
     "shell.execute_reply": "2022-03-27T17:56:29.523873Z",
     "shell.execute_reply.started": "2022-03-27T17:50:16.026449Z"
    },
    "jupyter": {
     "outputs_hidden": false
    },
    "papermill": {
     "duration": 0.42026,
     "end_time": "2022-03-27T17:56:29.524555",
     "exception": false,
     "start_time": "2022-03-27T17:56:29.104295",
     "status": "completed"
    },
    "tags": []
   },
   "outputs": [],
   "source": [
    "group = train.groupby('customer_id').sales_channel_id.count().round().reset_index()\\\n",
    "    .merge(val[['customer_id']].drop_duplicates(), on = \"customer_id\", how = \"right\")\\\n",
    "    .merge(cid, on='customer_id', how='inner').rename(columns={'sales_channel_id':'group'})\n",
    "group[\"group\"] = pd.cut(group[\"group\"].to_pandas(), bins = np.array([0, 5, 10, 20, 35, 50, 100], dtype = \"int32\"), right = True).astype(\"string\")\n",
    "group = group.set_index('customer_id').loc[real.customer_id].reset_index()\n",
    "his_count_group = group.group.fillna(0)"
   ]
  },
  {
   "cell_type": "code",
   "execution_count": 131,
   "id": "3a038d6f",
   "metadata": {
    "_cell_guid": "62c87e1b-9fc7-4002-9984-c8ffa900de38",
    "_uuid": "3b720eee-a973-45db-aad0-468a062508a7",
    "collapsed": false,
    "execution": {
     "iopub.execute_input": "2022-03-27T17:56:29.856117Z",
     "iopub.status.busy": "2022-03-27T17:56:29.855271Z",
     "iopub.status.idle": "2022-03-27T17:56:29.862532Z",
     "shell.execute_reply": "2022-03-27T17:56:29.862964Z",
     "shell.execute_reply.started": "2022-03-27T17:50:16.288660Z"
    },
    "jupyter": {
     "outputs_hidden": false
    },
    "papermill": {
     "duration": 0.178442,
     "end_time": "2022-03-27T17:56:29.863117",
     "exception": false,
     "start_time": "2022-03-27T17:56:29.684675",
     "status": "completed"
    },
    "tags": []
   },
   "outputs": [
    {
     "data": {
      "text/plain": [
       "0        (30.0, 35.0]\n",
       "1        (27.0, 30.0]\n",
       "2         (0.0, 21.0]\n",
       "3        (50.0, 60.0]\n",
       "4        (21.0, 24.0]\n",
       "             ...     \n",
       "68979    (40.0, 45.0]\n",
       "68980    (27.0, 30.0]\n",
       "68981    (30.0, 35.0]\n",
       "68982    (27.0, 30.0]\n",
       "68983     (0.0, 21.0]\n",
       "Name: group, Length: 68984, dtype: object"
      ]
     },
     "execution_count": 131,
     "metadata": {},
     "output_type": "execute_result"
    }
   ],
   "source": [
    "age_group"
   ]
  },
  {
   "cell_type": "code",
   "execution_count": 132,
   "id": "830e0979",
   "metadata": {
    "_cell_guid": "e1809e19-905d-43a1-af09-3aceb2af08db",
    "_uuid": "f6e05524-2963-4c35-94ec-ae83d3a07d04",
    "collapsed": false,
    "execution": {
     "iopub.execute_input": "2022-03-27T17:56:30.190743Z",
     "iopub.status.busy": "2022-03-27T17:56:30.189883Z",
     "iopub.status.idle": "2022-03-27T17:56:30.204604Z",
     "shell.execute_reply": "2022-03-27T17:56:30.205067Z",
     "shell.execute_reply.started": "2022-03-27T17:50:16.302612Z"
    },
    "jupyter": {
     "outputs_hidden": false
    },
    "papermill": {
     "duration": 0.180487,
     "end_time": "2022-03-27T17:56:30.205226",
     "exception": false,
     "start_time": "2022-03-27T17:56:30.024739",
     "status": "completed"
    },
    "tags": []
   },
   "outputs": [
    {
     "data": {
      "text/plain": [
       "2.0    40829\n",
       "1.0    28155\n",
       "Name: group, dtype: int32"
      ]
     },
     "execution_count": 132,
     "metadata": {},
     "output_type": "execute_result"
    }
   ],
   "source": [
    "channal_group.value_counts()"
   ]
  },
  {
   "cell_type": "code",
   "execution_count": 133,
   "id": "5f674913",
   "metadata": {
    "_cell_guid": "dda23053-1403-4e5d-bff8-9a1d5b71d783",
    "_uuid": "7ae048c4-0875-4e5b-9609-9d027ced58b7",
    "collapsed": false,
    "execution": {
     "iopub.execute_input": "2022-03-27T17:56:30.539083Z",
     "iopub.status.busy": "2022-03-27T17:56:30.537255Z",
     "iopub.status.idle": "2022-03-27T17:56:30.717529Z",
     "shell.execute_reply": "2022-03-27T17:56:30.717966Z",
     "shell.execute_reply.started": "2022-03-27T17:50:16.323296Z"
    },
    "jupyter": {
     "outputs_hidden": false
    },
    "papermill": {
     "duration": 0.350133,
     "end_time": "2022-03-27T17:56:30.718140",
     "exception": false,
     "start_time": "2022-03-27T17:56:30.368007",
     "status": "completed"
    },
    "tags": []
   },
   "outputs": [],
   "source": [
    "sub = sub.set_index('customer_id').loc[real.customer_id].reset_index()"
   ]
  },
  {
   "cell_type": "code",
   "execution_count": 134,
   "id": "1cb81227",
   "metadata": {
    "_cell_guid": "522dea03-39fb-4dfb-beb9-fd762ae39676",
    "_uuid": "bcef721f-5fe4-4e60-8ccf-da443ac5e5f2",
    "collapsed": false,
    "execution": {
     "iopub.execute_input": "2022-03-27T17:56:31.052516Z",
     "iopub.status.busy": "2022-03-27T17:56:31.051741Z",
     "iopub.status.idle": "2022-03-27T17:56:31.054995Z",
     "shell.execute_reply": "2022-03-27T17:56:31.055406Z",
     "shell.execute_reply.started": "2022-03-27T17:50:16.486159Z"
    },
    "jupyter": {
     "outputs_hidden": false
    },
    "papermill": {
     "duration": 0.176357,
     "end_time": "2022-03-27T17:56:31.055574",
     "exception": false,
     "start_time": "2022-03-27T17:56:30.879217",
     "status": "completed"
    },
    "tags": []
   },
   "outputs": [
    {
     "data": {
      "text/html": [
       "<div>\n",
       "<style scoped>\n",
       "    .dataframe tbody tr th:only-of-type {\n",
       "        vertical-align: middle;\n",
       "    }\n",
       "\n",
       "    .dataframe tbody tr th {\n",
       "        vertical-align: top;\n",
       "    }\n",
       "\n",
       "    .dataframe thead th {\n",
       "        text-align: right;\n",
       "    }\n",
       "</style>\n",
       "<table border=\"1\" class=\"dataframe\">\n",
       "  <thead>\n",
       "    <tr style=\"text-align: right;\">\n",
       "      <th></th>\n",
       "      <th>customer_id</th>\n",
       "      <th>prediction</th>\n",
       "    </tr>\n",
       "  </thead>\n",
       "  <tbody>\n",
       "    <tr>\n",
       "      <th>0</th>\n",
       "      <td>-9223100958908512198</td>\n",
       "      <td>0909911001 0909912001 0899976004 0924645001 09...</td>\n",
       "    </tr>\n",
       "    <tr>\n",
       "      <th>1</th>\n",
       "      <td>-9223002534477110135</td>\n",
       "      <td>0909370001 0706016002 0158340001 0809238001 09...</td>\n",
       "    </tr>\n",
       "    <tr>\n",
       "      <th>2</th>\n",
       "      <td>-9222810895170663723</td>\n",
       "      <td>0568601006 0759814022 0918522001 0685814003 06...</td>\n",
       "    </tr>\n",
       "    <tr>\n",
       "      <th>3</th>\n",
       "      <td>-9221924794303263774</td>\n",
       "      <td>0158340001 0707269003 0707269004 0111593001 03...</td>\n",
       "    </tr>\n",
       "    <tr>\n",
       "      <th>4</th>\n",
       "      <td>-9221811157628158522</td>\n",
       "      <td>0909370001 0448509014 0918522001 0918292001 08...</td>\n",
       "    </tr>\n",
       "    <tr>\n",
       "      <th>...</th>\n",
       "      <td>...</td>\n",
       "      <td>...</td>\n",
       "    </tr>\n",
       "    <tr>\n",
       "      <th>68979</th>\n",
       "      <td>9221607025486275188</td>\n",
       "      <td>0673677002 0816586002 0706016002 0156231001 07...</td>\n",
       "    </tr>\n",
       "    <tr>\n",
       "      <th>68980</th>\n",
       "      <td>9221813808370389952</td>\n",
       "      <td>0654590001 0714790020 0448509014 0749699002 06...</td>\n",
       "    </tr>\n",
       "    <tr>\n",
       "      <th>68981</th>\n",
       "      <td>9222310594107555341</td>\n",
       "      <td>0904416002 0904416001 0863595002 0863595005 08...</td>\n",
       "    </tr>\n",
       "    <tr>\n",
       "      <th>68982</th>\n",
       "      <td>9223099843213569889</td>\n",
       "      <td>0903773002 0776850001 0757909004 0827968004 07...</td>\n",
       "    </tr>\n",
       "    <tr>\n",
       "      <th>68983</th>\n",
       "      <td>9223141695752178477</td>\n",
       "      <td>0918522001 0685814003 0448509014 0918292001 07...</td>\n",
       "    </tr>\n",
       "  </tbody>\n",
       "</table>\n",
       "<p>68984 rows × 2 columns</p>\n",
       "</div>"
      ],
      "text/plain": [
       "               customer_id                                         prediction\n",
       "0     -9223100958908512198  0909911001 0909912001 0899976004 0924645001 09...\n",
       "1     -9223002534477110135  0909370001 0706016002 0158340001 0809238001 09...\n",
       "2     -9222810895170663723  0568601006 0759814022 0918522001 0685814003 06...\n",
       "3     -9221924794303263774  0158340001 0707269003 0707269004 0111593001 03...\n",
       "4     -9221811157628158522  0909370001 0448509014 0918522001 0918292001 08...\n",
       "...                    ...                                                ...\n",
       "68979  9221607025486275188  0673677002 0816586002 0706016002 0156231001 07...\n",
       "68980  9221813808370389952  0654590001 0714790020 0448509014 0749699002 06...\n",
       "68981  9222310594107555341  0904416002 0904416001 0863595002 0863595005 08...\n",
       "68982  9223099843213569889  0903773002 0776850001 0757909004 0827968004 07...\n",
       "68983  9223141695752178477  0918522001 0685814003 0448509014 0918292001 07...\n",
       "\n",
       "[68984 rows x 2 columns]"
      ]
     },
     "execution_count": 134,
     "metadata": {},
     "output_type": "execute_result"
    }
   ],
   "source": [
    "sub"
   ]
  },
  {
   "cell_type": "code",
   "execution_count": 135,
   "id": "3a3f148e",
   "metadata": {
    "_cell_guid": "5ec7e047-8de4-4ef5-b1e3-4a4c73371fdf",
    "_uuid": "b6abaaa0-9e18-4b49-b300-79d6e86ac243",
    "collapsed": false,
    "execution": {
     "iopub.execute_input": "2022-03-27T17:56:31.387097Z",
     "iopub.status.busy": "2022-03-27T17:56:31.386263Z",
     "iopub.status.idle": "2022-03-27T17:56:31.401648Z",
     "shell.execute_reply": "2022-03-27T17:56:31.402106Z",
     "shell.execute_reply.started": "2022-03-27T17:50:16.497907Z"
    },
    "jupyter": {
     "outputs_hidden": false
    },
    "papermill": {
     "duration": 0.183764,
     "end_time": "2022-03-27T17:56:31.402257",
     "exception": false,
     "start_time": "2022-03-27T17:56:31.218493",
     "status": "completed"
    },
    "tags": []
   },
   "outputs": [
    {
     "data": {
      "text/plain": [
       "0                17646\n",
       "(50.0, 100.0]    14603\n",
       "(20.0, 35.0]     10527\n",
       "(10.0, 20.0]      8439\n",
       "(35.0, 50.0]      7675\n",
       "(0.0, 5.0]        5210\n",
       "(5.0, 10.0]       4884\n",
       "Name: group, dtype: int32"
      ]
     },
     "execution_count": 135,
     "metadata": {},
     "output_type": "execute_result"
    }
   ],
   "source": [
    "his_count_group.value_counts()"
   ]
  },
  {
   "cell_type": "code",
   "execution_count": 136,
   "id": "ef4c74a5",
   "metadata": {
    "_cell_guid": "b94887b4-a06c-4ad5-bbc9-c0d9fc2cde24",
    "_uuid": "a4f66ce5-62f5-4e40-b0ab-2562620a6803",
    "collapsed": false,
    "execution": {
     "iopub.execute_input": "2022-03-27T17:56:31.767324Z",
     "iopub.status.busy": "2022-03-27T17:56:31.732152Z",
     "iopub.status.idle": "2022-03-27T17:56:31.876125Z",
     "shell.execute_reply": "2022-03-27T17:56:31.876616Z",
     "shell.execute_reply.started": "2022-03-27T17:50:16.521453Z"
    },
    "jupyter": {
     "outputs_hidden": false
    },
    "papermill": {
     "duration": 0.312694,
     "end_time": "2022-03-27T17:56:31.876774",
     "exception": false,
     "start_time": "2022-03-27T17:56:31.564080",
     "status": "completed"
    },
    "tags": []
   },
   "outputs": [],
   "source": [
    "prediction =  sub[\"prediction\"].apply(lambda s: [] if pd.isna(s) else s.split())"
   ]
  },
  {
   "cell_type": "code",
   "execution_count": 137,
   "id": "ce704715",
   "metadata": {
    "_cell_guid": "f4865157-18b1-4407-9d14-787f27fc03c9",
    "_uuid": "32124ecb-23d8-46ea-84bf-697b8aa0e90c",
    "collapsed": false,
    "execution": {
     "iopub.execute_input": "2022-03-27T17:56:32.209183Z",
     "iopub.status.busy": "2022-03-27T17:56:32.208197Z",
     "iopub.status.idle": "2022-03-27T17:56:32.220160Z",
     "shell.execute_reply": "2022-03-27T17:56:32.219648Z",
     "shell.execute_reply.started": "2022-03-27T17:50:16.662173Z"
    },
    "jupyter": {
     "outputs_hidden": false
    },
    "papermill": {
     "duration": 0.180994,
     "end_time": "2022-03-27T17:56:32.220295",
     "exception": false,
     "start_time": "2022-03-27T17:56:32.039301",
     "status": "completed"
    },
    "tags": []
   },
   "outputs": [],
   "source": [
    "groups = {\"channal\":channal_group.to_pandas(),\n",
    "         \"age\":age_group.to_pandas(),\n",
    "         \"val_count\":count_group.to_pandas(),\n",
    "         \"train_count\": his_count_group.to_pandas()}"
   ]
  },
  {
   "cell_type": "code",
   "execution_count": 138,
   "id": "1b2453c0",
   "metadata": {
    "_cell_guid": "4e13a4ca-b571-4c03-af40-3c326888a68a",
    "_uuid": "bf283679-7c7b-4a5c-953a-02fb07b47c31",
    "collapsed": false,
    "execution": {
     "iopub.execute_input": "2022-03-27T17:56:32.552465Z",
     "iopub.status.busy": "2022-03-27T17:56:32.551494Z",
     "iopub.status.idle": "2022-03-27T17:56:32.566806Z",
     "shell.execute_reply": "2022-03-27T17:56:32.567271Z",
     "shell.execute_reply.started": "2022-03-27T17:50:16.677522Z"
    },
    "jupyter": {
     "outputs_hidden": false
    },
    "papermill": {
     "duration": 0.182627,
     "end_time": "2022-03-27T17:56:32.567423",
     "exception": false,
     "start_time": "2022-03-27T17:56:32.384796",
     "status": "completed"
    },
    "tags": []
   },
   "outputs": [
    {
     "data": {
      "text/plain": [
       "(0, 1]        19994\n",
       "(1, 2]        16386\n",
       "(3, 5]        10928\n",
       "(2, 3]        10075\n",
       "(5, 10]        8668\n",
       "(10, 20]       2571\n",
       "(20, 9999]      362\n",
       "Name: group, dtype: int32"
      ]
     },
     "execution_count": 138,
     "metadata": {},
     "output_type": "execute_result"
    }
   ],
   "source": [
    "count_group.value_counts()"
   ]
  },
  {
   "cell_type": "code",
   "execution_count": 139,
   "id": "8252e27a",
   "metadata": {
    "_cell_guid": "fc0012d2-919a-4125-a613-0d3e7fefc4ab",
    "_uuid": "e275557c-6ae7-49bb-afb9-b86e174642da",
    "collapsed": false,
    "execution": {
     "iopub.execute_input": "2022-03-27T17:56:32.901941Z",
     "iopub.status.busy": "2022-03-27T17:56:32.901003Z",
     "iopub.status.idle": "2022-03-27T17:56:32.903393Z",
     "shell.execute_reply": "2022-03-27T17:56:32.902827Z",
     "shell.execute_reply.started": "2022-03-27T17:50:16.696662Z"
    },
    "jupyter": {
     "outputs_hidden": false
    },
    "papermill": {
     "duration": 0.170633,
     "end_time": "2022-03-27T17:56:32.903515",
     "exception": false,
     "start_time": "2022-03-27T17:56:32.732882",
     "status": "completed"
    },
    "tags": []
   },
   "outputs": [],
   "source": [
    "#sorted(count_group.to_pandas().unique(), key = lambda x: float(x.replace(\"(\", \"1\").split(\",\")[0]))"
   ]
  },
  {
   "cell_type": "code",
   "execution_count": 140,
   "id": "dad3d00e",
   "metadata": {
    "_cell_guid": "b0d5540d-5979-416d-a2d1-0ca1397dd9a4",
    "_uuid": "1dbb2fe2-5714-4fb9-9b0f-667ef769a794",
    "collapsed": false,
    "execution": {
     "iopub.execute_input": "2022-03-27T17:56:33.335172Z",
     "iopub.status.busy": "2022-03-27T17:56:33.319528Z",
     "iopub.status.idle": "2022-03-27T17:56:36.585610Z",
     "shell.execute_reply": "2022-03-27T17:56:36.586049Z",
     "shell.execute_reply.started": "2022-03-27T17:50:16.703265Z"
    },
    "jupyter": {
     "outputs_hidden": false
    },
    "papermill": {
     "duration": 3.516985,
     "end_time": "2022-03-27T17:56:36.586200",
     "exception": false,
     "start_time": "2022-03-27T17:56:33.069215",
     "status": "completed"
    },
    "tags": []
   },
   "outputs": [
    {
     "data": {
      "text/html": [
       "<div>\n",
       "<style scoped>\n",
       "    .dataframe tbody tr th:only-of-type {\n",
       "        vertical-align: middle;\n",
       "    }\n",
       "\n",
       "    .dataframe tbody tr th {\n",
       "        vertical-align: top;\n",
       "    }\n",
       "\n",
       "    .dataframe thead th {\n",
       "        text-align: right;\n",
       "    }\n",
       "</style>\n",
       "<table border=\"1\" class=\"dataframe\">\n",
       "  <thead>\n",
       "    <tr style=\"text-align: right;\">\n",
       "      <th></th>\n",
       "      <th>1.0</th>\n",
       "      <th>2.0</th>\n",
       "      <th>All</th>\n",
       "      <th>Fill</th>\n",
       "    </tr>\n",
       "  </thead>\n",
       "  <tbody>\n",
       "    <tr>\n",
       "      <th>Last Purchase</th>\n",
       "      <td>0.016832</td>\n",
       "      <td>0.032717</td>\n",
       "      <td>0.026234</td>\n",
       "      <td>100.0</td>\n",
       "    </tr>\n",
       "  </tbody>\n",
       "</table>\n",
       "</div>"
      ],
      "text/plain": [
       "                    1.0       2.0       All   Fill\n",
       "Last Purchase  0.016832  0.032717  0.026234  100.0"
      ]
     },
     "metadata": {},
     "output_type": "display_data"
    },
    {
     "data": {
      "text/html": [
       "<div>\n",
       "<style scoped>\n",
       "    .dataframe tbody tr th:only-of-type {\n",
       "        vertical-align: middle;\n",
       "    }\n",
       "\n",
       "    .dataframe tbody tr th {\n",
       "        vertical-align: top;\n",
       "    }\n",
       "\n",
       "    .dataframe thead th {\n",
       "        text-align: right;\n",
       "    }\n",
       "</style>\n",
       "<table border=\"1\" class=\"dataframe\">\n",
       "  <thead>\n",
       "    <tr style=\"text-align: right;\">\n",
       "      <th></th>\n",
       "      <th>(0.0, 21.0]</th>\n",
       "      <th>(21.0, 24.0]</th>\n",
       "      <th>(24.0, 27.0]</th>\n",
       "      <th>(27.0, 30.0]</th>\n",
       "      <th>(30.0, 35.0]</th>\n",
       "      <th>(35.0, 40.0]</th>\n",
       "      <th>(40.0, 45.0]</th>\n",
       "      <th>(45.0, 50.0]</th>\n",
       "      <th>(50.0, 60.0]</th>\n",
       "      <th>(60.0, 9999.0]</th>\n",
       "      <th>-1</th>\n",
       "      <th>All</th>\n",
       "      <th>Fill</th>\n",
       "    </tr>\n",
       "  </thead>\n",
       "  <tbody>\n",
       "    <tr>\n",
       "      <th>Last Purchase</th>\n",
       "      <td>0.023597</td>\n",
       "      <td>0.024749</td>\n",
       "      <td>0.02663</td>\n",
       "      <td>0.025636</td>\n",
       "      <td>0.025826</td>\n",
       "      <td>0.025438</td>\n",
       "      <td>0.02809</td>\n",
       "      <td>0.026125</td>\n",
       "      <td>0.027353</td>\n",
       "      <td>0.032802</td>\n",
       "      <td>0.033106</td>\n",
       "      <td>0.026234</td>\n",
       "      <td>100.0</td>\n",
       "    </tr>\n",
       "  </tbody>\n",
       "</table>\n",
       "</div>"
      ],
      "text/plain": [
       "               (0.0, 21.0]  (21.0, 24.0]  (24.0, 27.0]  (27.0, 30.0]  \\\n",
       "Last Purchase     0.023597      0.024749       0.02663      0.025636   \n",
       "\n",
       "               (30.0, 35.0]  (35.0, 40.0]  (40.0, 45.0]  (45.0, 50.0]  \\\n",
       "Last Purchase      0.025826      0.025438       0.02809      0.026125   \n",
       "\n",
       "               (50.0, 60.0]  (60.0, 9999.0]        -1       All   Fill  \n",
       "Last Purchase      0.027353        0.032802  0.033106  0.026234  100.0  "
      ]
     },
     "metadata": {},
     "output_type": "display_data"
    },
    {
     "data": {
      "text/html": [
       "<div>\n",
       "<style scoped>\n",
       "    .dataframe tbody tr th:only-of-type {\n",
       "        vertical-align: middle;\n",
       "    }\n",
       "\n",
       "    .dataframe tbody tr th {\n",
       "        vertical-align: top;\n",
       "    }\n",
       "\n",
       "    .dataframe thead th {\n",
       "        text-align: right;\n",
       "    }\n",
       "</style>\n",
       "<table border=\"1\" class=\"dataframe\">\n",
       "  <thead>\n",
       "    <tr style=\"text-align: right;\">\n",
       "      <th></th>\n",
       "      <th>(0, 1]</th>\n",
       "      <th>(1, 2]</th>\n",
       "      <th>(10, 20]</th>\n",
       "      <th>(2, 3]</th>\n",
       "      <th>(20, 9999]</th>\n",
       "      <th>(3, 5]</th>\n",
       "      <th>(5, 10]</th>\n",
       "      <th>All</th>\n",
       "      <th>Fill</th>\n",
       "    </tr>\n",
       "  </thead>\n",
       "  <tbody>\n",
       "    <tr>\n",
       "      <th>Last Purchase</th>\n",
       "      <td>0.043247</td>\n",
       "      <td>0.025897</td>\n",
       "      <td>0.01244</td>\n",
       "      <td>0.02042</td>\n",
       "      <td>0.021621</td>\n",
       "      <td>0.015032</td>\n",
       "      <td>0.012791</td>\n",
       "      <td>0.026234</td>\n",
       "      <td>100.0</td>\n",
       "    </tr>\n",
       "  </tbody>\n",
       "</table>\n",
       "</div>"
      ],
      "text/plain": [
       "                 (0, 1]    (1, 2]  (10, 20]   (2, 3]  (20, 9999]    (3, 5]  \\\n",
       "Last Purchase  0.043247  0.025897   0.01244  0.02042    0.021621  0.015032   \n",
       "\n",
       "                (5, 10]       All   Fill  \n",
       "Last Purchase  0.012791  0.026234  100.0  "
      ]
     },
     "metadata": {},
     "output_type": "display_data"
    },
    {
     "data": {
      "text/html": [
       "<div>\n",
       "<style scoped>\n",
       "    .dataframe tbody tr th:only-of-type {\n",
       "        vertical-align: middle;\n",
       "    }\n",
       "\n",
       "    .dataframe tbody tr th {\n",
       "        vertical-align: top;\n",
       "    }\n",
       "\n",
       "    .dataframe thead th {\n",
       "        text-align: right;\n",
       "    }\n",
       "</style>\n",
       "<table border=\"1\" class=\"dataframe\">\n",
       "  <thead>\n",
       "    <tr style=\"text-align: right;\">\n",
       "      <th></th>\n",
       "      <th>(0.0, 5.0]</th>\n",
       "      <th>(10.0, 20.0]</th>\n",
       "      <th>(20.0, 35.0]</th>\n",
       "      <th>(35.0, 50.0]</th>\n",
       "      <th>(5.0, 10.0]</th>\n",
       "      <th>(50.0, 100.0]</th>\n",
       "      <th>0</th>\n",
       "      <th>All</th>\n",
       "      <th>Fill</th>\n",
       "    </tr>\n",
       "  </thead>\n",
       "  <tbody>\n",
       "    <tr>\n",
       "      <th>Last Purchase</th>\n",
       "      <td>0.033542</td>\n",
       "      <td>0.02849</td>\n",
       "      <td>0.026384</td>\n",
       "      <td>0.025531</td>\n",
       "      <td>0.029479</td>\n",
       "      <td>0.027148</td>\n",
       "      <td>0.021558</td>\n",
       "      <td>0.026234</td>\n",
       "      <td>100.0</td>\n",
       "    </tr>\n",
       "  </tbody>\n",
       "</table>\n",
       "</div>"
      ],
      "text/plain": [
       "               (0.0, 5.0]  (10.0, 20.0]  (20.0, 35.0]  (35.0, 50.0]  \\\n",
       "Last Purchase    0.033542       0.02849      0.026384      0.025531   \n",
       "\n",
       "               (5.0, 10.0]  (50.0, 100.0]         0       All   Fill  \n",
       "Last Purchase     0.029479       0.027148  0.021558  0.026234  100.0  "
      ]
     },
     "metadata": {},
     "output_type": "display_data"
    },
    {
     "data": {
      "image/png": "[encoded data removed]",
      "text/plain": [
       "<Figure size 1584x432 with 5 Axes>"
      ]
     },
     "metadata": {},
     "output_type": "display_data"
    }
   ],
   "source": [
    "score = validation(real.article_id, prediction, groups, index='Last Purchase', ignore=0)"
   ]
  },
  {
   "cell_type": "markdown",
   "id": "0b364041",
   "metadata": {
    "_cell_guid": "7e7c421d-6f2f-4975-90ab-1c5bd18ed6c5",
    "_uuid": "9276f0eb-20ee-4562-820b-8a9b81ed0efc",
    "editable": false,
    "papermill": {
     "duration": 0.168143,
     "end_time": "2022-03-27T17:56:36.920996",
     "exception": false,
     "start_time": "2022-03-27T17:56:36.752853",
     "status": "completed"
    },
    "tags": []
   },
   "source": [
    "# 生成测试集"
   ]
  },
  {
   "cell_type": "code",
   "execution_count": 141,
   "id": "c0926809",
   "metadata": {
    "_cell_guid": "36c7eb1e-3e39-41f7-8133-4ad45cab40ed",
    "_uuid": "b14f31a4-88ba-4ea8-a342-72bec7e75ace",
    "collapsed": false,
    "execution": {
     "iopub.execute_input": "2022-03-27T17:56:37.261622Z",
     "iopub.status.busy": "2022-03-27T17:56:37.260697Z",
     "iopub.status.idle": "2022-03-27T17:56:37.262638Z",
     "shell.execute_reply": "2022-03-27T17:56:37.263067Z",
     "shell.execute_reply.started": "2022-03-27T17:50:19.883993Z"
    },
    "jupyter": {
     "outputs_hidden": false
    },
    "papermill": {
     "duration": 0.175172,
     "end_time": "2022-03-27T17:56:37.263210",
     "exception": false,
     "start_time": "2022-03-27T17:56:37.088038",
     "status": "completed"
    },
    "tags": []
   },
   "outputs": [],
   "source": [
    "import datetime"
   ]
  },
  {
   "cell_type": "code",
   "execution_count": 142,
   "id": "6916d2f6",
   "metadata": {
    "_cell_guid": "320d21e0-5c4a-4ef4-a841-c50adf781804",
    "_uuid": "fc0619d6-669b-4244-8691-3005c8641610",
    "collapsed": false,
    "execution": {
     "iopub.execute_input": "2022-03-27T17:56:37.604367Z",
     "iopub.status.busy": "2022-03-27T17:56:37.603750Z",
     "iopub.status.idle": "2022-03-27T17:56:37.607342Z",
     "shell.execute_reply": "2022-03-27T17:56:37.606867Z",
     "shell.execute_reply.started": "2022-03-27T17:50:19.889726Z"
    },
    "jupyter": {
     "outputs_hidden": false
    },
    "papermill": {
     "duration": 0.175468,
     "end_time": "2022-03-27T17:56:37.607468",
     "exception": false,
     "start_time": "2022-03-27T17:56:37.432000",
     "status": "completed"
    },
    "tags": []
   },
   "outputs": [],
   "source": [
    "if Last_date == \"2020-09-22\":\n",
    "    sub[[\"customer_id\", \"prediction\"]].to_csv(\"sub_sz_{}.csv\".format(datetime.datetime.now().strftime('%Y-%m-%d %H:%M:%S')), index = False)"
   ]
  },
  {
   "cell_type": "code",
   "execution_count": 143,
   "id": "aa2131f6",
   "metadata": {
    "_cell_guid": "7602c044-6578-4bc8-b96d-f548f09dcb09",
    "_uuid": "ce515283-4b55-4474-ad5b-1994fbf9fe9b",
    "collapsed": false,
    "execution": {
     "iopub.execute_input": "2022-03-27T17:56:38.141335Z",
     "iopub.status.busy": "2022-03-27T17:56:38.140419Z",
     "iopub.status.idle": "2022-03-27T17:56:38.143618Z",
     "shell.execute_reply": "2022-03-27T17:56:38.144165Z",
     "shell.execute_reply.started": "2022-03-27T17:50:19.902677Z"
    },
    "jupyter": {
     "outputs_hidden": false
    },
    "papermill": {
     "duration": 0.36613,
     "end_time": "2022-03-27T17:56:38.144322",
     "exception": false,
     "start_time": "2022-03-27T17:56:37.778192",
     "status": "completed"
    },
    "tags": []
   },
   "outputs": [
    {
     "data": {
      "text/plain": [
       "26458"
      ]
     },
     "execution_count": 143,
     "metadata": {},
     "output_type": "execute_result"
    }
   ],
   "source": [
    "del merge_result\n",
    "del sub\n",
    "del real\n",
    "del prediction\n",
    "del groups\n",
    "del cid\n",
    "del sub_id\n",
    "gc.collect()"
   ]
  }
 ],
 "metadata": {
  "kernelspec": {
   "display_name": "Python 3",
   "language": "python",
   "name": "python3"
  },
  "language_info": {
   "codemirror_mode": {
    "name": "ipython",
    "version": 3
   },
   "file_extension": ".py",
   "mimetype": "text/x-python",
   "name": "python",
   "nbconvert_exporter": "python",
   "pygments_lexer": "ipython3",
   "version": "3.7.12"
  },
  "papermill": {
   "default_parameters": {},
   "duration": 275.373646,
   "end_time": "2022-03-27T17:56:41.334027",
   "environment_variables": {},
   "exception": null,
   "input_path": "__notebook__.ipynb",
   "output_path": "__notebook__.ipynb",
   "parameters": {},
   "start_time": "2022-03-27T17:52:05.960381",
   "version": "2.3.3"
  }
 },
 "nbformat": 4,
 "nbformat_minor": 5
}
