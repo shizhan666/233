{
 "cells": [
  {
   "cell_type": "code",
   "execution_count": 1,
   "id": "419f4494",
   "metadata": {
    "_cell_guid": "943588d1-5a68-423d-8467-cf160a3d8ebe",
    "_uuid": "87c89b79-df99-4e99-bf2e-f62a5d325cc4",
    "collapsed": false,
    "execution": {
     "iopub.execute_input": "2022-03-28T07:10:13.396532Z",
     "iopub.status.busy": "2022-03-28T07:10:13.395698Z",
     "iopub.status.idle": "2022-03-28T07:10:25.701290Z",
     "shell.execute_reply": "2022-03-28T07:10:25.701921Z",
     "shell.execute_reply.started": "2022-03-28T07:02:41.003983Z"
    },
    "jupyter": {
     "outputs_hidden": false
    },
    "papermill": {
     "duration": 12.475407,
     "end_time": "2022-03-28T07:10:25.702190",
     "exception": false,
     "start_time": "2022-03-28T07:10:13.226783",
     "status": "completed"
    },
    "tags": []
   },
   "outputs": [
    {
     "name": "stdout",
     "output_type": "stream",
     "text": [
      "Requirement already satisfied: cudf in /opt/conda/lib/python3.7/site-packages (21.10.1)\r\n",
      "Requirement already satisfied: numba>=0.53.1 in /opt/conda/lib/python3.7/site-packages (from cudf) (0.54.1)\r\n",
      "Requirement already satisfied: Cython<0.30,>=0.29 in /opt/conda/lib/python3.7/site-packages (from cudf) (0.29.28)\r\n",
      "Requirement already satisfied: fastavro>=0.22.9 in /opt/conda/lib/python3.7/site-packages (from cudf) (1.4.9)\r\n",
      "Requirement already satisfied: fsspec>=0.6.0 in /opt/conda/lib/python3.7/site-packages (from cudf) (2022.2.0)\r\n",
      "Requirement already satisfied: numpy in /opt/conda/lib/python3.7/site-packages (from cudf) (1.20.3)\r\n",
      "Requirement already satisfied: pandas<1.4.0dev0,>=1.0 in /opt/conda/lib/python3.7/site-packages (from cudf) (1.3.5)\r\n",
      "Requirement already satisfied: typing_extensions in /opt/conda/lib/python3.7/site-packages (from cudf) (4.1.1)\r\n",
      "Requirement already satisfied: protobuf in /opt/conda/lib/python3.7/site-packages (from cudf) (3.19.1)\r\n",
      "Requirement already satisfied: nvtx>=0.2.1 in /opt/conda/lib/python3.7/site-packages (from cudf) (0.2.3)\r\n",
      "Requirement already satisfied: cachetools in /opt/conda/lib/python3.7/site-packages (from cudf) (4.2.4)\r\n",
      "Requirement already satisfied: packaging in /opt/conda/lib/python3.7/site-packages (from cudf) (21.3)\r\n",
      "Requirement already satisfied: cupy-cuda110 in /opt/conda/lib/python3.7/site-packages (from cudf) (10.2.0)\r\n",
      "Requirement already satisfied: setuptools in /opt/conda/lib/python3.7/site-packages (from numba>=0.53.1->cudf) (59.5.0)\r\n",
      "Requirement already satisfied: llvmlite<0.38,>=0.37.0rc1 in /opt/conda/lib/python3.7/site-packages (from numba>=0.53.1->cudf) (0.37.0)\r\n",
      "Requirement already satisfied: python-dateutil>=2.7.3 in /opt/conda/lib/python3.7/site-packages (from pandas<1.4.0dev0,>=1.0->cudf) (2.8.2)\r\n",
      "Requirement already satisfied: pytz>=2017.3 in /opt/conda/lib/python3.7/site-packages (from pandas<1.4.0dev0,>=1.0->cudf) (2021.3)\r\n",
      "Requirement already satisfied: fastrlock>=0.5 in /opt/conda/lib/python3.7/site-packages (from cupy-cuda110->cudf) (0.8)\r\n",
      "Requirement already satisfied: pyparsing!=3.0.5,>=2.0.2 in /opt/conda/lib/python3.7/site-packages (from packaging->cudf) (3.0.6)\r\n",
      "Requirement already satisfied: six>=1.5 in /opt/conda/lib/python3.7/site-packages (from python-dateutil>=2.7.3->pandas<1.4.0dev0,>=1.0->cudf) (1.16.0)\r\n",
      "\u001b[33mWARNING: Running pip as the 'root' user can result in broken permissions and conflicting behaviour with the system package manager. It is recommended to use a virtual environment instead: https://pip.pypa.io/warnings/venv\u001b[0m\r\n"
     ]
    }
   ],
   "source": [
    "!pip install cudf\n",
    "import numpy as np\n",
    "import pandas as pd \n",
    "from datetime import datetime, timedelta\n",
    "import gc\n",
    "import cudf\n",
    "import cv2, matplotlib.pyplot as plt\n",
    "from os.path import exists"
   ]
  },
  {
   "cell_type": "code",
   "execution_count": 2,
   "id": "8092536f",
   "metadata": {
    "execution": {
     "iopub.execute_input": "2022-03-28T07:10:25.983910Z",
     "iopub.status.busy": "2022-03-28T07:10:25.983117Z",
     "iopub.status.idle": "2022-03-28T07:10:25.985571Z",
     "shell.execute_reply": "2022-03-28T07:10:25.985140Z",
     "shell.execute_reply.started": "2022-03-28T07:02:53.821632Z"
    },
    "papermill": {
     "duration": 0.143361,
     "end_time": "2022-03-28T07:10:25.985688",
     "exception": false,
     "start_time": "2022-03-28T07:10:25.842327",
     "status": "completed"
    },
    "tags": []
   },
   "outputs": [],
   "source": [
    "Online = False"
   ]
  },
  {
   "cell_type": "markdown",
   "id": "e94f6c6c",
   "metadata": {
    "_cell_guid": "8f45c56c-8de5-4a93-896b-80dc8c3005fa",
    "_uuid": "3e5aa678-d15b-457d-8a0f-c4a59a8f4c8a",
    "editable": false,
    "papermill": {
     "duration": 0.140074,
     "end_time": "2022-03-28T07:10:26.270217",
     "exception": false,
     "start_time": "2022-03-28T07:10:26.130143",
     "status": "completed"
    },
    "tags": []
   },
   "source": [
    "### Read the transactions data"
   ]
  },
  {
   "cell_type": "code",
   "execution_count": 3,
   "id": "069666dd",
   "metadata": {
    "_cell_guid": "8b3aee1b-7f84-47d3-82cb-a5bdbbf77e31",
    "_uuid": "c6c96268-5baf-4620-a4e7-1032a366906d",
    "collapsed": false,
    "execution": {
     "iopub.execute_input": "2022-03-28T07:10:26.554777Z",
     "iopub.status.busy": "2022-03-28T07:10:26.553942Z",
     "iopub.status.idle": "2022-03-28T07:10:26.556473Z",
     "shell.execute_reply": "2022-03-28T07:10:26.556048Z",
     "shell.execute_reply.started": "2022-03-28T07:02:53.827803Z"
    },
    "jupyter": {
     "outputs_hidden": false
    },
    "papermill": {
     "duration": 0.146831,
     "end_time": "2022-03-28T07:10:26.556614",
     "exception": false,
     "start_time": "2022-03-28T07:10:26.409783",
     "status": "completed"
    },
    "tags": []
   },
   "outputs": [],
   "source": [
    "Date_week1 = pd.to_datetime(\"2020-09-16\")\n",
    "Date_week2 = pd.to_datetime(\"2020-09-09\")\n",
    "Date_week3 = pd.to_datetime(\"2020-09-02\")\n",
    "Last_date = pd.to_datetime(\"2020-09-22\")"
   ]
  },
  {
   "cell_type": "code",
   "execution_count": 4,
   "id": "28f6307b",
   "metadata": {
    "_cell_guid": "42f55d04-09d5-4696-8c51-e25287bf8445",
    "_uuid": "f016e503-1e3c-45de-85b1-b8cd495d8f50",
    "collapsed": false,
    "execution": {
     "iopub.execute_input": "2022-03-28T07:10:26.841807Z",
     "iopub.status.busy": "2022-03-28T07:10:26.840000Z",
     "iopub.status.idle": "2022-03-28T07:10:26.842459Z",
     "shell.execute_reply": "2022-03-28T07:10:26.842943Z",
     "shell.execute_reply.started": "2022-03-28T07:02:53.843102Z"
    },
    "jupyter": {
     "outputs_hidden": false
    },
    "papermill": {
     "duration": 0.147723,
     "end_time": "2022-03-28T07:10:26.843085",
     "exception": false,
     "start_time": "2022-03-28T07:10:26.695362",
     "status": "completed"
    },
    "tags": []
   },
   "outputs": [],
   "source": [
    "N = 12"
   ]
  },
  {
   "cell_type": "code",
   "execution_count": 5,
   "id": "859ca69f",
   "metadata": {
    "_cell_guid": "f5173183-3b25-48a8-a23c-dc86064cdc05",
    "_uuid": "457cc772-8110-417f-88fd-bc20a5628c85",
    "collapsed": false,
    "execution": {
     "iopub.execute_input": "2022-03-28T07:10:27.141794Z",
     "iopub.status.busy": "2022-03-28T07:10:27.141159Z",
     "iopub.status.idle": "2022-03-28T07:11:03.182126Z",
     "shell.execute_reply": "2022-03-28T07:11:03.182574Z",
     "shell.execute_reply.started": "2022-03-28T07:02:53.852851Z"
    },
    "jupyter": {
     "outputs_hidden": false
    },
    "papermill": {
     "duration": 36.192411,
     "end_time": "2022-03-28T07:11:03.182757",
     "exception": false,
     "start_time": "2022-03-28T07:10:26.990346",
     "status": "completed"
    },
    "tags": []
   },
   "outputs": [],
   "source": [
    "df  = cudf.read_csv('../input/h-and-m-personalized-fashion-recommendations/transactions_train.csv')\n",
    "                            #usecols= ['t_dat', 'customer_id', 'article_id'], \n",
    "                            #dtype={'article_id': 'int32', 't_dat': 'string', 'customer_id': 'string', \"sales_channel_id\": 'int32', \"price\": \"float\"})\n",
    "df ['customer_id'] = df ['customer_id'].str[-16:].str.hex_to_int().astype('int64')\n",
    "df.article_id = df.article_id.astype('int32')\n",
    "df['t_dat'] = cudf.to_datetime(df['t_dat'])\n",
    "#Last_date = df['t_dat'].max()"
   ]
  },
  {
   "cell_type": "code",
   "execution_count": 6,
   "id": "fef6af07",
   "metadata": {
    "_cell_guid": "bac53a65-cb48-4e0e-86aa-0d5fbcb9ea43",
    "_uuid": "ee0ba74a-ccf5-4e41-992a-3e5586de5ef9",
    "collapsed": false,
    "execution": {
     "iopub.execute_input": "2022-03-28T07:11:03.471130Z",
     "iopub.status.busy": "2022-03-28T07:11:03.470405Z",
     "iopub.status.idle": "2022-03-28T07:11:03.584973Z",
     "shell.execute_reply": "2022-03-28T07:11:03.586819Z",
     "shell.execute_reply.started": "2022-03-28T07:03:32.505221Z"
    },
    "jupyter": {
     "outputs_hidden": false
    },
    "papermill": {
     "duration": 0.267183,
     "end_time": "2022-03-28T07:11:03.587104",
     "exception": false,
     "start_time": "2022-03-28T07:11:03.319921",
     "status": "completed"
    },
    "tags": []
   },
   "outputs": [
    {
     "data": {
      "text/html": [
       "<div>\n",
       "<style scoped>\n",
       "    .dataframe tbody tr th:only-of-type {\n",
       "        vertical-align: middle;\n",
       "    }\n",
       "\n",
       "    .dataframe tbody tr th {\n",
       "        vertical-align: top;\n",
       "    }\n",
       "\n",
       "    .dataframe thead th {\n",
       "        text-align: right;\n",
       "    }\n",
       "</style>\n",
       "<table border=\"1\" class=\"dataframe\">\n",
       "  <thead>\n",
       "    <tr style=\"text-align: right;\">\n",
       "      <th></th>\n",
       "      <th>t_dat</th>\n",
       "      <th>customer_id</th>\n",
       "      <th>article_id</th>\n",
       "      <th>price</th>\n",
       "      <th>sales_channel_id</th>\n",
       "    </tr>\n",
       "  </thead>\n",
       "  <tbody>\n",
       "    <tr>\n",
       "      <th>0</th>\n",
       "      <td>2018-09-20</td>\n",
       "      <td>-6846340800584936</td>\n",
       "      <td>663713001</td>\n",
       "      <td>0.050831</td>\n",
       "      <td>2</td>\n",
       "    </tr>\n",
       "    <tr>\n",
       "      <th>1</th>\n",
       "      <td>2018-09-20</td>\n",
       "      <td>-6846340800584936</td>\n",
       "      <td>541518023</td>\n",
       "      <td>0.030492</td>\n",
       "      <td>2</td>\n",
       "    </tr>\n",
       "    <tr>\n",
       "      <th>2</th>\n",
       "      <td>2018-09-20</td>\n",
       "      <td>-8334631767138808638</td>\n",
       "      <td>505221004</td>\n",
       "      <td>0.015237</td>\n",
       "      <td>2</td>\n",
       "    </tr>\n",
       "    <tr>\n",
       "      <th>3</th>\n",
       "      <td>2018-09-20</td>\n",
       "      <td>-8334631767138808638</td>\n",
       "      <td>685687003</td>\n",
       "      <td>0.016932</td>\n",
       "      <td>2</td>\n",
       "    </tr>\n",
       "    <tr>\n",
       "      <th>4</th>\n",
       "      <td>2018-09-20</td>\n",
       "      <td>-8334631767138808638</td>\n",
       "      <td>685687004</td>\n",
       "      <td>0.016932</td>\n",
       "      <td>2</td>\n",
       "    </tr>\n",
       "    <tr>\n",
       "      <th>...</th>\n",
       "      <td>...</td>\n",
       "      <td>...</td>\n",
       "      <td>...</td>\n",
       "      <td>...</td>\n",
       "      <td>...</td>\n",
       "    </tr>\n",
       "    <tr>\n",
       "      <th>31788319</th>\n",
       "      <td>2020-09-22</td>\n",
       "      <td>4685485978980270934</td>\n",
       "      <td>929511001</td>\n",
       "      <td>0.059305</td>\n",
       "      <td>2</td>\n",
       "    </tr>\n",
       "    <tr>\n",
       "      <th>31788320</th>\n",
       "      <td>2020-09-22</td>\n",
       "      <td>4685485978980270934</td>\n",
       "      <td>891322004</td>\n",
       "      <td>0.042356</td>\n",
       "      <td>2</td>\n",
       "    </tr>\n",
       "    <tr>\n",
       "      <th>31788321</th>\n",
       "      <td>2020-09-22</td>\n",
       "      <td>3959348689921271969</td>\n",
       "      <td>918325001</td>\n",
       "      <td>0.043203</td>\n",
       "      <td>1</td>\n",
       "    </tr>\n",
       "    <tr>\n",
       "      <th>31788322</th>\n",
       "      <td>2020-09-22</td>\n",
       "      <td>-8639340045377511665</td>\n",
       "      <td>833459002</td>\n",
       "      <td>0.006763</td>\n",
       "      <td>1</td>\n",
       "    </tr>\n",
       "    <tr>\n",
       "      <th>31788323</th>\n",
       "      <td>2020-09-22</td>\n",
       "      <td>3235222691137941515</td>\n",
       "      <td>898573003</td>\n",
       "      <td>0.033881</td>\n",
       "      <td>2</td>\n",
       "    </tr>\n",
       "  </tbody>\n",
       "</table>\n",
       "<p>31788324 rows × 5 columns</p>\n",
       "</div>"
      ],
      "text/plain": [
       "              t_dat          customer_id  article_id     price  \\\n",
       "0        2018-09-20    -6846340800584936   663713001  0.050831   \n",
       "1        2018-09-20    -6846340800584936   541518023  0.030492   \n",
       "2        2018-09-20 -8334631767138808638   505221004  0.015237   \n",
       "3        2018-09-20 -8334631767138808638   685687003  0.016932   \n",
       "4        2018-09-20 -8334631767138808638   685687004  0.016932   \n",
       "...             ...                  ...         ...       ...   \n",
       "31788319 2020-09-22  4685485978980270934   929511001  0.059305   \n",
       "31788320 2020-09-22  4685485978980270934   891322004  0.042356   \n",
       "31788321 2020-09-22  3959348689921271969   918325001  0.043203   \n",
       "31788322 2020-09-22 -8639340045377511665   833459002  0.006763   \n",
       "31788323 2020-09-22  3235222691137941515   898573003  0.033881   \n",
       "\n",
       "          sales_channel_id  \n",
       "0                        2  \n",
       "1                        2  \n",
       "2                        2  \n",
       "3                        2  \n",
       "4                        2  \n",
       "...                    ...  \n",
       "31788319                 2  \n",
       "31788320                 2  \n",
       "31788321                 1  \n",
       "31788322                 1  \n",
       "31788323                 2  \n",
       "\n",
       "[31788324 rows x 5 columns]"
      ]
     },
     "execution_count": 6,
     "metadata": {},
     "output_type": "execute_result"
    }
   ],
   "source": [
    "df"
   ]
  },
  {
   "cell_type": "markdown",
   "id": "18d8c21a",
   "metadata": {
    "_cell_guid": "a2bb9afc-941f-4d6d-8626-08a24cc75596",
    "_uuid": "bc214126-6a44-4324-b210-7d7128d4135c",
    "editable": false,
    "papermill": {
     "duration": 0.213843,
     "end_time": "2022-03-28T07:11:04.018538",
     "exception": false,
     "start_time": "2022-03-28T07:11:03.804695",
     "status": "completed"
    },
    "tags": []
   },
   "source": [
    "## 划分训练集和验证集"
   ]
  },
  {
   "cell_type": "code",
   "execution_count": 7,
   "id": "2cd81f7e",
   "metadata": {
    "_cell_guid": "355420f0-15d4-4897-8c8b-51774593e37a",
    "_uuid": "6be7cca0-d9d3-4073-bf36-b2ebd1ff67f3",
    "collapsed": false,
    "execution": {
     "iopub.execute_input": "2022-03-28T07:11:04.474605Z",
     "iopub.status.busy": "2022-03-28T07:11:04.473787Z",
     "iopub.status.idle": "2022-03-28T07:11:04.530206Z",
     "shell.execute_reply": "2022-03-28T07:11:04.531438Z",
     "shell.execute_reply.started": "2022-03-28T07:03:32.590352Z"
    },
    "jupyter": {
     "outputs_hidden": false
    },
    "papermill": {
     "duration": 0.290447,
     "end_time": "2022-03-28T07:11:04.531750",
     "exception": false,
     "start_time": "2022-03-28T07:11:04.241303",
     "status": "completed"
    },
    "tags": []
   },
   "outputs": [],
   "source": [
    "if not Online:\n",
    "    val = df[df['t_dat']>= Date_week1].copy()\n",
    "    train = df[df['t_dat']< Date_week1].copy()\n",
    "    Last_date = pd.to_datetime(\"2020-09-15\")\n",
    "    Date_week1 = pd.to_datetime(\"2020-09-09\")\n",
    "    Date_week2 = pd.to_datetime(\"2020-09-02\")\n",
    "    Date_week3 = pd.to_datetime(\"2020-08-26\")\n",
    "if Online:\n",
    "    train = df"
   ]
  },
  {
   "cell_type": "markdown",
   "id": "ce3666a2",
   "metadata": {
    "_cell_guid": "999e62e2-bc69-4e57-8257-a697a4624746",
    "_uuid": "1ee572b2-3480-4409-bc02-907628099774",
    "editable": false,
    "papermill": {
     "duration": 0.134801,
     "end_time": "2022-03-28T07:11:04.866889",
     "exception": false,
     "start_time": "2022-03-28T07:11:04.732088",
     "status": "completed"
    },
    "tags": []
   },
   "source": [
    "## 第一路：复购预测"
   ]
  },
  {
   "cell_type": "code",
   "execution_count": 8,
   "id": "a42b3030",
   "metadata": {
    "_cell_guid": "bff88d78-99b3-4e25-ac4b-b7cc4157ceee",
    "_uuid": "1dabaf8d-b904-4d4c-a584-cdfaf4199a39",
    "collapsed": false,
    "execution": {
     "iopub.execute_input": "2022-03-28T07:11:05.172367Z",
     "iopub.status.busy": "2022-03-28T07:11:05.171576Z",
     "iopub.status.idle": "2022-03-28T07:11:05.178310Z",
     "shell.execute_reply": "2022-03-28T07:11:05.177850Z",
     "shell.execute_reply.started": "2022-03-28T07:03:32.649128Z"
    },
    "jupyter": {
     "outputs_hidden": false
    },
    "papermill": {
     "duration": 0.145423,
     "end_time": "2022-03-28T07:11:05.178417",
     "exception": false,
     "start_time": "2022-03-28T07:11:05.032994",
     "status": "completed"
    },
    "tags": []
   },
   "outputs": [],
   "source": [
    "df = train.copy()"
   ]
  },
  {
   "cell_type": "code",
   "execution_count": 9,
   "id": "0109b359",
   "metadata": {
    "_cell_guid": "032f0009-7b2d-434f-892c-22d7362be933",
    "_uuid": "c445f3e2-77ca-4e38-ae10-9d0150b0ef87",
    "collapsed": false,
    "execution": {
     "iopub.execute_input": "2022-03-28T07:11:05.464440Z",
     "iopub.status.busy": "2022-03-28T07:11:05.463677Z",
     "iopub.status.idle": "2022-03-28T07:11:13.289651Z",
     "shell.execute_reply": "2022-03-28T07:11:13.290041Z",
     "shell.execute_reply.started": "2022-03-28T07:03:32.674612Z"
    },
    "jupyter": {
     "outputs_hidden": false
    },
    "papermill": {
     "duration": 7.975234,
     "end_time": "2022-03-28T07:11:13.290189",
     "exception": false,
     "start_time": "2022-03-28T07:11:05.314955",
     "status": "completed"
    },
    "tags": []
   },
   "outputs": [
    {
     "name": "stdout",
     "output_type": "stream",
     "text": [
      "CPU times: user 6.28 s, sys: 1.67 s, total: 7.94 s\n",
      "Wall time: 7.82 s\n"
     ]
    }
   ],
   "source": [
    "%%time\n",
    "tmp = df[['t_dat']].copy().to_pandas()\n",
    "tmp['dow'] = tmp['t_dat'].dt.dayofweek\n",
    "tmp['ldbw'] = tmp['t_dat'] - pd.TimedeltaIndex(tmp['dow'] - 1, unit='D')\n",
    "tmp.loc[tmp['dow'] >=2 , 'ldbw'] = tmp.loc[tmp['dow'] >=2 , 'ldbw'] + pd.TimedeltaIndex(np.ones(len(tmp.loc[tmp['dow'] >=2])) * 7, unit='D')\n",
    "df['ldbw'] = tmp['ldbw'].values"
   ]
  },
  {
   "cell_type": "code",
   "execution_count": 10,
   "id": "822180e5",
   "metadata": {
    "_cell_guid": "98650a14-be49-4ea6-932d-46db33e46a52",
    "_uuid": "e2d8bb01-263f-443e-91e0-c13ac5a6cb78",
    "collapsed": false,
    "execution": {
     "iopub.execute_input": "2022-03-28T07:11:13.570612Z",
     "iopub.status.busy": "2022-03-28T07:11:13.569828Z",
     "iopub.status.idle": "2022-03-28T07:11:13.707119Z",
     "shell.execute_reply": "2022-03-28T07:11:13.706646Z",
     "shell.execute_reply.started": "2022-03-28T07:03:40.323129Z"
    },
    "jupyter": {
     "outputs_hidden": false
    },
    "papermill": {
     "duration": 0.279091,
     "end_time": "2022-03-28T07:11:13.707236",
     "exception": false,
     "start_time": "2022-03-28T07:11:13.428145",
     "status": "completed"
    },
    "tags": []
   },
   "outputs": [],
   "source": [
    "weekly_sales = df.drop('customer_id', axis=1).groupby(['ldbw', 'article_id']).count().reset_index()\n",
    "weekly_sales = weekly_sales.rename(columns={'t_dat': 'count'})"
   ]
  },
  {
   "cell_type": "code",
   "execution_count": 11,
   "id": "9fe055fb",
   "metadata": {
    "_cell_guid": "1a1d9928-b6b1-4ef1-9bc4-b1d90278521d",
    "_uuid": "55308baf-b51a-4f25-9b36-6948ac902f90",
    "collapsed": false,
    "execution": {
     "iopub.execute_input": "2022-03-28T07:11:14.033472Z",
     "iopub.status.busy": "2022-03-28T07:11:14.032856Z",
     "iopub.status.idle": "2022-03-28T07:11:14.111698Z",
     "shell.execute_reply": "2022-03-28T07:11:14.111143Z",
     "shell.execute_reply.started": "2022-03-28T07:03:40.456708Z"
    },
    "jupyter": {
     "outputs_hidden": false
    },
    "papermill": {
     "duration": 0.268025,
     "end_time": "2022-03-28T07:11:14.111848",
     "exception": false,
     "start_time": "2022-03-28T07:11:13.843823",
     "status": "completed"
    },
    "tags": []
   },
   "outputs": [],
   "source": [
    "df = df.merge(weekly_sales, on=['ldbw', 'article_id'], how = 'left')"
   ]
  },
  {
   "cell_type": "markdown",
   "id": "1a5d8206",
   "metadata": {
    "_cell_guid": "ae404e56-067c-4b09-b999-1a2f98a5537a",
    "_uuid": "6274d245-d8c6-4c72-825d-2bb4be0da696",
    "editable": false,
    "papermill": {
     "duration": 0.138803,
     "end_time": "2022-03-28T07:11:14.395735",
     "exception": false,
     "start_time": "2022-03-28T07:11:14.256932",
     "status": "completed"
    },
    "tags": []
   },
   "source": [
    "### Let's assume that in the target week sales will be similar to the last week of the training data"
   ]
  },
  {
   "cell_type": "code",
   "execution_count": 12,
   "id": "066255c5",
   "metadata": {
    "_cell_guid": "ce554581-cb66-4f98-8e33-2ccf2bd34d28",
    "_uuid": "6e1f0c8e-e73e-486a-bb83-cd8737cee56c",
    "collapsed": false,
    "execution": {
     "iopub.execute_input": "2022-03-28T07:11:14.677121Z",
     "iopub.status.busy": "2022-03-28T07:11:14.675378Z",
     "iopub.status.idle": "2022-03-28T07:11:14.773366Z",
     "shell.execute_reply": "2022-03-28T07:11:14.772887Z",
     "shell.execute_reply.started": "2022-03-28T07:03:40.580773Z"
    },
    "jupyter": {
     "outputs_hidden": false
    },
    "papermill": {
     "duration": 0.238442,
     "end_time": "2022-03-28T07:11:14.773482",
     "exception": false,
     "start_time": "2022-03-28T07:11:14.535040",
     "status": "completed"
    },
    "tags": []
   },
   "outputs": [],
   "source": [
    "weekly_sales = weekly_sales.reset_index().set_index('article_id')\n",
    "\n",
    "df = df.merge(\n",
    "    weekly_sales.loc[weekly_sales['ldbw']==Last_date, ['count']],\n",
    "    on='article_id', suffixes=(\"\", \"_targ\"))\n",
    "\n",
    "df['count_targ'].fillna(0, inplace=True)"
   ]
  },
  {
   "cell_type": "markdown",
   "id": "6c99a41f",
   "metadata": {
    "_cell_guid": "abb99ddb-6823-4abe-977c-589188ac046f",
    "_uuid": "ceee0be8-8e3b-48d2-bb45-23dcfaeaa991",
    "editable": false,
    "papermill": {
     "duration": 0.154963,
     "end_time": "2022-03-28T07:11:15.067239",
     "exception": false,
     "start_time": "2022-03-28T07:11:14.912276",
     "status": "completed"
    },
    "tags": []
   },
   "source": [
    "### Calculate sales rate adjusted for changes in product popularity"
   ]
  },
  {
   "cell_type": "code",
   "execution_count": 13,
   "id": "97c3ae07",
   "metadata": {
    "_cell_guid": "d2d93f8a-81c9-455e-95ed-d6889fdb5b5e",
    "_uuid": "f95bc088-2d68-4c09-a13e-75a803dd994a",
    "collapsed": false,
    "execution": {
     "iopub.execute_input": "2022-03-28T07:11:15.348213Z",
     "iopub.status.busy": "2022-03-28T07:11:15.347384Z",
     "iopub.status.idle": "2022-03-28T07:11:15.352677Z",
     "shell.execute_reply": "2022-03-28T07:11:15.352211Z",
     "shell.execute_reply.started": "2022-03-28T07:03:40.708489Z"
    },
    "jupyter": {
     "outputs_hidden": false
    },
    "papermill": {
     "duration": 0.146731,
     "end_time": "2022-03-28T07:11:15.352788",
     "exception": false,
     "start_time": "2022-03-28T07:11:15.206057",
     "status": "completed"
    },
    "tags": []
   },
   "outputs": [],
   "source": [
    "df['quotient'] = df['count_targ'] / df['count']"
   ]
  },
  {
   "cell_type": "markdown",
   "id": "11cece42",
   "metadata": {
    "_cell_guid": "a6429b7c-f1cd-4587-965b-bf5f90d70337",
    "_uuid": "3d2d2d38-0011-46ba-b048-7eec7c0b1837",
    "editable": false,
    "papermill": {
     "duration": 0.137517,
     "end_time": "2022-03-28T07:11:15.628131",
     "exception": false,
     "start_time": "2022-03-28T07:11:15.490614",
     "status": "completed"
    },
    "tags": []
   },
   "source": [
    "### Take supposedly popular products"
   ]
  },
  {
   "cell_type": "code",
   "execution_count": 14,
   "id": "03010a2e",
   "metadata": {
    "_cell_guid": "0a483863-fd58-495d-bd36-2573b79ebb4d",
    "_uuid": "bfb82339-c575-478e-a364-93c10b22ae06",
    "collapsed": false,
    "execution": {
     "iopub.execute_input": "2022-03-28T07:11:15.907954Z",
     "iopub.status.busy": "2022-03-28T07:11:15.906299Z",
     "iopub.status.idle": "2022-03-28T07:11:15.908629Z",
     "shell.execute_reply": "2022-03-28T07:11:15.909067Z",
     "shell.execute_reply.started": "2022-03-28T07:03:40.722835Z"
    },
    "jupyter": {
     "outputs_hidden": false
    },
    "papermill": {
     "duration": 0.144336,
     "end_time": "2022-03-28T07:11:15.909220",
     "exception": false,
     "start_time": "2022-03-28T07:11:15.764884",
     "status": "completed"
    },
    "tags": []
   },
   "outputs": [],
   "source": [
    "# target_sales = df.drop('customer_id', axis=1).groupby('article_id')['quotient'].sum()\n",
    "# general_pred = target_sales.nlargest(N).index.to_pandas().tolist()\n",
    "# general_pred = ['0' + str(article_id) for article_id in general_pred]\n",
    "# general_pred_str =  ' '.join(general_pred)\n",
    "# del target_sales"
   ]
  },
  {
   "cell_type": "code",
   "execution_count": 15,
   "id": "f5692a58",
   "metadata": {
    "_cell_guid": "33e56ebf-4eaf-4cb3-a315-f59a0846a4a2",
    "_uuid": "db8e3029-e2b0-44f0-81b0-07fd51736491",
    "collapsed": false,
    "execution": {
     "iopub.execute_input": "2022-03-28T07:11:16.194410Z",
     "iopub.status.busy": "2022-03-28T07:11:16.192715Z",
     "iopub.status.idle": "2022-03-28T07:11:16.195031Z",
     "shell.execute_reply": "2022-03-28T07:11:16.195418Z",
     "shell.execute_reply.started": "2022-03-28T07:03:40.728072Z"
    },
    "jupyter": {
     "outputs_hidden": false
    },
    "papermill": {
     "duration": 0.14584,
     "end_time": "2022-03-28T07:11:16.195572",
     "exception": false,
     "start_time": "2022-03-28T07:11:16.049732",
     "status": "completed"
    },
    "tags": []
   },
   "outputs": [],
   "source": [
    "# general_pred # Exactly same with the original notebook!"
   ]
  },
  {
   "cell_type": "code",
   "execution_count": 16,
   "id": "4609170f",
   "metadata": {
    "_cell_guid": "39bda420-023a-4550-a35f-9f39f45fae0a",
    "_uuid": "a9d65615-d07f-4e2b-a09f-f5c352d9d3a6",
    "collapsed": false,
    "execution": {
     "iopub.execute_input": "2022-03-28T07:11:16.476451Z",
     "iopub.status.busy": "2022-03-28T07:11:16.475948Z",
     "iopub.status.idle": "2022-03-28T07:11:16.479417Z",
     "shell.execute_reply": "2022-03-28T07:11:16.479873Z",
     "shell.execute_reply.started": "2022-03-28T07:03:40.737074Z"
    },
    "jupyter": {
     "outputs_hidden": false
    },
    "papermill": {
     "duration": 0.144896,
     "end_time": "2022-03-28T07:11:16.480048",
     "exception": false,
     "start_time": "2022-03-28T07:11:16.335152",
     "status": "completed"
    },
    "tags": []
   },
   "outputs": [],
   "source": [
    "# general_pred_str"
   ]
  },
  {
   "cell_type": "markdown",
   "id": "3872edf1",
   "metadata": {
    "_cell_guid": "778698f4-153b-4ef0-8671-28e35f6b16a2",
    "_uuid": "e3b40a3b-e584-47ea-a48d-b06caef50eb3",
    "editable": false,
    "papermill": {
     "duration": 0.136039,
     "end_time": "2022-03-28T07:11:16.755085",
     "exception": false,
     "start_time": "2022-03-28T07:11:16.619046",
     "status": "completed"
    },
    "tags": []
   },
   "source": [
    "### Fill in purchase dictionary"
   ]
  },
  {
   "cell_type": "code",
   "execution_count": 17,
   "id": "fcc52d10",
   "metadata": {
    "_cell_guid": "d5240757-0318-4ebc-9ccd-c9c362c86c76",
    "_uuid": "0f878843-4016-4d61-a04d-2ed6f30dcdf8",
    "collapsed": false,
    "execution": {
     "iopub.execute_input": "2022-03-28T07:11:17.035550Z",
     "iopub.status.busy": "2022-03-28T07:11:17.034722Z",
     "iopub.status.idle": "2022-03-28T07:11:35.808098Z",
     "shell.execute_reply": "2022-03-28T07:11:35.808558Z",
     "shell.execute_reply.started": "2022-03-28T07:03:40.746664Z"
    },
    "jupyter": {
     "outputs_hidden": false
    },
    "papermill": {
     "duration": 18.918351,
     "end_time": "2022-03-28T07:11:35.808777",
     "exception": false,
     "start_time": "2022-03-28T07:11:16.890426",
     "status": "completed"
    },
    "tags": []
   },
   "outputs": [
    {
     "name": "stdout",
     "output_type": "stream",
     "text": [
      "CPU times: user 15.4 s, sys: 5.17 s, total: 20.6 s\n",
      "Wall time: 18.8 s\n"
     ]
    }
   ],
   "source": [
    "%%time\n",
    "purchase_dict = {}\n",
    "\n",
    "tmp = df.copy().to_pandas()\n",
    "tmp['x'] = ((Last_date - tmp['t_dat']) / np.timedelta64(1, 'D')).astype(int)\n",
    "tmp['dummy_1'] = 1 \n",
    "tmp['x'] = tmp[[\"x\", \"dummy_1\"]].max(axis=1)\n",
    "\n",
    "a, b, c, d = 2.5e4, 1.5e5, 2e-1, 1e3\n",
    "total = 1715530\n",
    "tmp['y'] = ((a / np.sqrt(tmp['x']) + b * np.exp(-c*tmp['x']) - d) / total +\\\n",
    "(a / np.sqrt(tmp['x']+1) + b * np.exp(-c*(tmp['x']+1)) - d) / total +\\\n",
    "(a / np.sqrt(tmp['x']+2) + b * np.exp(-c*(tmp['x']+2)) - d) / total +\\\n",
    "(a / np.sqrt(tmp['x']+3) + b * np.exp(-c*(tmp['x']+3)) - d) / total +\\\n",
    "(a / np.sqrt(tmp['x']+4) + b * np.exp(-c*(tmp['x']+4)) - d) / total +\\\n",
    "(a / np.sqrt(tmp['x']+5) + b * np.exp(-c*(tmp['x']+5)) - d) / total +\\\n",
    "(a / np.sqrt(tmp['x']+6) + b * np.exp(-c*(tmp['x']+6)) - d) / total)\n",
    "\n",
    "tmp['dummy_0'] = 0 \n",
    "tmp['y'] = tmp[[\"y\", \"dummy_0\"]].max(axis=1)\n",
    "tmp['score'] = tmp['quotient'] * tmp['y'] \n",
    "\n",
    "tmp = tmp.groupby(['customer_id', 'article_id']).agg({'score': 'sum'})\n",
    "tmp = tmp.reset_index()\n",
    "\n",
    "tmp = tmp.loc[tmp['score'] > 0]\n",
    "tmp['rank'] = tmp.groupby(\"customer_id\")[\"score\"].rank(\"dense\", ascending=False)\n",
    "tmp = tmp.loc[tmp['rank'] <= 12]\n",
    "tmp[\"source\"] = 1\n",
    "\n",
    "result1 = tmp[[\"customer_id\", \"article_id\", \"source\", \"score\", \"rank\"]]"
   ]
  },
  {
   "cell_type": "code",
   "execution_count": 18,
   "id": "e3768a89",
   "metadata": {
    "_cell_guid": "b01bc6f5-2794-4716-b664-a2ee01a25c06",
    "_uuid": "f187454d-2a81-4f76-9447-4eb568edac91",
    "collapsed": false,
    "execution": {
     "iopub.execute_input": "2022-03-28T07:11:36.285111Z",
     "iopub.status.busy": "2022-03-28T07:11:36.143149Z",
     "iopub.status.idle": "2022-03-28T07:11:36.288051Z",
     "shell.execute_reply": "2022-03-28T07:11:36.288452Z",
     "shell.execute_reply.started": "2022-03-28T07:03:59.667037Z"
    },
    "jupyter": {
     "outputs_hidden": false
    },
    "papermill": {
     "duration": 0.33028,
     "end_time": "2022-03-28T07:11:36.288631",
     "exception": false,
     "start_time": "2022-03-28T07:11:35.958351",
     "status": "completed"
    },
    "tags": []
   },
   "outputs": [
    {
     "data": {
      "text/plain": [
       "208"
      ]
     },
     "execution_count": 18,
     "metadata": {},
     "output_type": "execute_result"
    }
   ],
   "source": [
    "del weekly_sales\n",
    "del df\n",
    "del tmp\n",
    "gc.collect()"
   ]
  },
  {
   "cell_type": "code",
   "execution_count": 19,
   "id": "9d339c44",
   "metadata": {
    "_cell_guid": "798e93e0-008b-49cc-a841-60ed2ba8db5f",
    "_uuid": "23bd5ddb-43db-40c9-9296-b750777c95e3",
    "collapsed": false,
    "execution": {
     "iopub.execute_input": "2022-03-28T07:11:36.626722Z",
     "iopub.status.busy": "2022-03-28T07:11:36.625104Z",
     "iopub.status.idle": "2022-03-28T07:11:36.658118Z",
     "shell.execute_reply": "2022-03-28T07:11:36.658800Z",
     "shell.execute_reply.started": "2022-03-28T07:03:59.840023Z"
    },
    "jupyter": {
     "outputs_hidden": false
    },
    "papermill": {
     "duration": 0.216258,
     "end_time": "2022-03-28T07:11:36.659011",
     "exception": false,
     "start_time": "2022-03-28T07:11:36.442753",
     "status": "completed"
    },
    "tags": []
   },
   "outputs": [
    {
     "data": {
      "text/html": [
       "<div>\n",
       "<style scoped>\n",
       "    .dataframe tbody tr th:only-of-type {\n",
       "        vertical-align: middle;\n",
       "    }\n",
       "\n",
       "    .dataframe tbody tr th {\n",
       "        vertical-align: top;\n",
       "    }\n",
       "\n",
       "    .dataframe thead th {\n",
       "        text-align: right;\n",
       "    }\n",
       "</style>\n",
       "<table border=\"1\" class=\"dataframe\">\n",
       "  <thead>\n",
       "    <tr style=\"text-align: right;\">\n",
       "      <th></th>\n",
       "      <th>customer_id</th>\n",
       "      <th>article_id</th>\n",
       "      <th>source</th>\n",
       "      <th>score</th>\n",
       "      <th>rank</th>\n",
       "    </tr>\n",
       "  </thead>\n",
       "  <tbody>\n",
       "    <tr>\n",
       "      <th>0</th>\n",
       "      <td>-9223352921020755230</td>\n",
       "      <td>568597006</td>\n",
       "      <td>1</td>\n",
       "      <td>0.000559</td>\n",
       "      <td>5.0</td>\n",
       "    </tr>\n",
       "    <tr>\n",
       "      <th>1</th>\n",
       "      <td>-9223352921020755230</td>\n",
       "      <td>673396002</td>\n",
       "      <td>1</td>\n",
       "      <td>0.044511</td>\n",
       "      <td>1.0</td>\n",
       "    </tr>\n",
       "    <tr>\n",
       "      <th>2</th>\n",
       "      <td>-9223352921020755230</td>\n",
       "      <td>706016001</td>\n",
       "      <td>1</td>\n",
       "      <td>0.003289</td>\n",
       "      <td>4.0</td>\n",
       "    </tr>\n",
       "    <tr>\n",
       "      <th>3</th>\n",
       "      <td>-9223352921020755230</td>\n",
       "      <td>812167004</td>\n",
       "      <td>1</td>\n",
       "      <td>0.019179</td>\n",
       "      <td>2.0</td>\n",
       "    </tr>\n",
       "    <tr>\n",
       "      <th>4</th>\n",
       "      <td>-9223352921020755230</td>\n",
       "      <td>849493006</td>\n",
       "      <td>1</td>\n",
       "      <td>0.006174</td>\n",
       "      <td>3.0</td>\n",
       "    </tr>\n",
       "    <tr>\n",
       "      <th>...</th>\n",
       "      <td>...</td>\n",
       "      <td>...</td>\n",
       "      <td>...</td>\n",
       "      <td>...</td>\n",
       "      <td>...</td>\n",
       "    </tr>\n",
       "    <tr>\n",
       "      <th>10844244</th>\n",
       "      <td>9223301031927667525</td>\n",
       "      <td>719957006</td>\n",
       "      <td>1</td>\n",
       "      <td>0.000026</td>\n",
       "      <td>1.0</td>\n",
       "    </tr>\n",
       "    <tr>\n",
       "      <th>10844245</th>\n",
       "      <td>9223333063893176977</td>\n",
       "      <td>658030020</td>\n",
       "      <td>1</td>\n",
       "      <td>0.000038</td>\n",
       "      <td>1.0</td>\n",
       "    </tr>\n",
       "    <tr>\n",
       "      <th>10844246</th>\n",
       "      <td>9223357421094039679</td>\n",
       "      <td>747984001</td>\n",
       "      <td>1</td>\n",
       "      <td>0.000010</td>\n",
       "      <td>2.0</td>\n",
       "    </tr>\n",
       "    <tr>\n",
       "      <th>10844247</th>\n",
       "      <td>9223357421094039679</td>\n",
       "      <td>747984002</td>\n",
       "      <td>1</td>\n",
       "      <td>0.000053</td>\n",
       "      <td>1.0</td>\n",
       "    </tr>\n",
       "    <tr>\n",
       "      <th>10844248</th>\n",
       "      <td>9223370729206611574</td>\n",
       "      <td>781758003</td>\n",
       "      <td>1</td>\n",
       "      <td>0.001461</td>\n",
       "      <td>1.0</td>\n",
       "    </tr>\n",
       "  </tbody>\n",
       "</table>\n",
       "<p>6693016 rows × 5 columns</p>\n",
       "</div>"
      ],
      "text/plain": [
       "                  customer_id  article_id  source     score  rank\n",
       "0        -9223352921020755230   568597006       1  0.000559   5.0\n",
       "1        -9223352921020755230   673396002       1  0.044511   1.0\n",
       "2        -9223352921020755230   706016001       1  0.003289   4.0\n",
       "3        -9223352921020755230   812167004       1  0.019179   2.0\n",
       "4        -9223352921020755230   849493006       1  0.006174   3.0\n",
       "...                       ...         ...     ...       ...   ...\n",
       "10844244  9223301031927667525   719957006       1  0.000026   1.0\n",
       "10844245  9223333063893176977   658030020       1  0.000038   1.0\n",
       "10844246  9223357421094039679   747984001       1  0.000010   2.0\n",
       "10844247  9223357421094039679   747984002       1  0.000053   1.0\n",
       "10844248  9223370729206611574   781758003       1  0.001461   1.0\n",
       "\n",
       "[6693016 rows x 5 columns]"
      ]
     },
     "execution_count": 19,
     "metadata": {},
     "output_type": "execute_result"
    }
   ],
   "source": [
    "result1"
   ]
  },
  {
   "cell_type": "code",
   "execution_count": 20,
   "id": "edc4f538",
   "metadata": {
    "_cell_guid": "69744f5f-6800-4656-ab87-032868f3159b",
    "_uuid": "abb5c1f0-cf31-4307-9b3a-abe63a3d8ac6",
    "collapsed": false,
    "execution": {
     "iopub.execute_input": "2022-03-28T07:11:37.137211Z",
     "iopub.status.busy": "2022-03-28T07:11:37.136314Z",
     "iopub.status.idle": "2022-03-28T07:11:37.138572Z",
     "shell.execute_reply": "2022-03-28T07:11:37.137922Z",
     "shell.execute_reply.started": "2022-03-28T07:03:59.860745Z"
    },
    "jupyter": {
     "outputs_hidden": false
    },
    "papermill": {
     "duration": 0.244562,
     "end_time": "2022-03-28T07:11:37.138725",
     "exception": false,
     "start_time": "2022-03-28T07:11:36.894163",
     "status": "completed"
    },
    "tags": []
   },
   "outputs": [],
   "source": [
    "#result1.to_csv(\"/kaggle/working/result1.csv\", index = False)"
   ]
  },
  {
   "cell_type": "markdown",
   "id": "4f7f9ef9",
   "metadata": {
    "_cell_guid": "fed50a0c-3f74-4c68-b4b9-40ca198ca0ce",
    "_uuid": "2d887bc0-dff0-4160-a2bf-e867e2984119",
    "editable": false,
    "execution": {
     "iopub.execute_input": "2022-03-19T09:13:27.534287Z",
     "iopub.status.busy": "2022-03-19T09:13:27.534029Z",
     "iopub.status.idle": "2022-03-19T09:13:27.537763Z",
     "shell.execute_reply": "2022-03-19T09:13:27.536825Z",
     "shell.execute_reply.started": "2022-03-19T09:13:27.534257Z"
    },
    "papermill": {
     "duration": 0.224338,
     "end_time": "2022-03-28T07:11:37.588254",
     "exception": false,
     "start_time": "2022-03-28T07:11:37.363916",
     "status": "completed"
    },
    "tags": []
   },
   "source": [
    "## 第二路：相似复购"
   ]
  },
  {
   "cell_type": "code",
   "execution_count": 21,
   "id": "a9bc2af8",
   "metadata": {
    "_cell_guid": "54567f40-5feb-4c26-99bd-c09a96a91605",
    "_uuid": "699bb5a0-a19f-4ced-909c-fdaac18f5dd1",
    "collapsed": false,
    "execution": {
     "iopub.execute_input": "2022-03-28T07:11:37.934041Z",
     "iopub.status.busy": "2022-03-28T07:11:37.933236Z",
     "iopub.status.idle": "2022-03-28T07:11:45.221626Z",
     "shell.execute_reply": "2022-03-28T07:11:45.220329Z",
     "shell.execute_reply.started": "2022-03-28T07:03:59.867871Z"
    },
    "jupyter": {
     "outputs_hidden": false
    },
    "papermill": {
     "duration": 7.429821,
     "end_time": "2022-03-28T07:11:45.221803",
     "exception": false,
     "start_time": "2022-03-28T07:11:37.791982",
     "status": "completed"
    },
    "tags": []
   },
   "outputs": [
    {
     "name": "stdout",
     "output_type": "stream",
     "text": [
      "Requirement already satisfied: cudf in /opt/conda/lib/python3.7/site-packages (21.10.1)\r\n",
      "Requirement already satisfied: numba>=0.53.1 in /opt/conda/lib/python3.7/site-packages (from cudf) (0.54.1)\r\n",
      "Requirement already satisfied: Cython<0.30,>=0.29 in /opt/conda/lib/python3.7/site-packages (from cudf) (0.29.28)\r\n",
      "Requirement already satisfied: fastavro>=0.22.9 in /opt/conda/lib/python3.7/site-packages (from cudf) (1.4.9)\r\n",
      "Requirement already satisfied: fsspec>=0.6.0 in /opt/conda/lib/python3.7/site-packages (from cudf) (2022.2.0)\r\n",
      "Requirement already satisfied: numpy in /opt/conda/lib/python3.7/site-packages (from cudf) (1.20.3)\r\n",
      "Requirement already satisfied: pandas<1.4.0dev0,>=1.0 in /opt/conda/lib/python3.7/site-packages (from cudf) (1.3.5)\r\n",
      "Requirement already satisfied: typing_extensions in /opt/conda/lib/python3.7/site-packages (from cudf) (4.1.1)\r\n",
      "Requirement already satisfied: protobuf in /opt/conda/lib/python3.7/site-packages (from cudf) (3.19.1)\r\n",
      "Requirement already satisfied: nvtx>=0.2.1 in /opt/conda/lib/python3.7/site-packages (from cudf) (0.2.3)\r\n",
      "Requirement already satisfied: cachetools in /opt/conda/lib/python3.7/site-packages (from cudf) (4.2.4)\r\n",
      "Requirement already satisfied: packaging in /opt/conda/lib/python3.7/site-packages (from cudf) (21.3)\r\n",
      "Requirement already satisfied: cupy-cuda110 in /opt/conda/lib/python3.7/site-packages (from cudf) (10.2.0)\r\n",
      "Requirement already satisfied: setuptools in /opt/conda/lib/python3.7/site-packages (from numba>=0.53.1->cudf) (59.5.0)\r\n",
      "Requirement already satisfied: llvmlite<0.38,>=0.37.0rc1 in /opt/conda/lib/python3.7/site-packages (from numba>=0.53.1->cudf) (0.37.0)\r\n",
      "Requirement already satisfied: python-dateutil>=2.7.3 in /opt/conda/lib/python3.7/site-packages (from pandas<1.4.0dev0,>=1.0->cudf) (2.8.2)\r\n",
      "Requirement already satisfied: pytz>=2017.3 in /opt/conda/lib/python3.7/site-packages (from pandas<1.4.0dev0,>=1.0->cudf) (2021.3)\r\n",
      "Requirement already satisfied: fastrlock>=0.5 in /opt/conda/lib/python3.7/site-packages (from cupy-cuda110->cudf) (0.8)\r\n",
      "Requirement already satisfied: pyparsing!=3.0.5,>=2.0.2 in /opt/conda/lib/python3.7/site-packages (from packaging->cudf) (3.0.6)\r\n",
      "Requirement already satisfied: six>=1.5 in /opt/conda/lib/python3.7/site-packages (from python-dateutil>=2.7.3->pandas<1.4.0dev0,>=1.0->cudf) (1.16.0)\r\n",
      "\u001b[33mWARNING: Running pip as the 'root' user can result in broken permissions and conflicting behaviour with the system package manager. It is recommended to use a virtual environment instead: https://pip.pypa.io/warnings/venv\u001b[0m\r\n"
     ]
    }
   ],
   "source": [
    "!pip install cudf\n",
    "import numpy as np\n",
    "import pandas as pd \n",
    "from datetime import datetime, timedelta\n",
    "import gc\n",
    "import cudf\n",
    "import cv2, matplotlib.pyplot as plt\n",
    "from os.path import exists"
   ]
  },
  {
   "cell_type": "code",
   "execution_count": 22,
   "id": "bb701869",
   "metadata": {
    "_cell_guid": "44b311fd-4b39-4405-a0bc-8e92dc33a61c",
    "_uuid": "915c9fdb-7fe6-4725-960e-e41a3577b19d",
    "collapsed": false,
    "execution": {
     "iopub.execute_input": "2022-03-28T07:11:45.655992Z",
     "iopub.status.busy": "2022-03-28T07:11:45.655235Z",
     "iopub.status.idle": "2022-03-28T07:11:45.657283Z",
     "shell.execute_reply": "2022-03-28T07:11:45.657733Z",
     "shell.execute_reply.started": "2022-03-28T07:04:07.480006Z"
    },
    "jupyter": {
     "outputs_hidden": false
    },
    "papermill": {
     "duration": 0.184513,
     "end_time": "2022-03-28T07:11:45.657866",
     "exception": false,
     "start_time": "2022-03-28T07:11:45.473353",
     "status": "completed"
    },
    "tags": []
   },
   "outputs": [],
   "source": [
    "# # LOAD TRANSACTIONS DATAFRAME\n",
    "# df = cudf.read_csv('../input/h-and-m-personalized-fashion-recommendations/transactions_train.csv')\n",
    "# print('Transactions shape',df.shape)\n",
    "# display( df.head() )\n",
    "\n",
    "# # REDUCE MEMORY OF DATAFRAME\n",
    "# df = df[['customer_id','article_id']]\n",
    "# df.customer_id = df.customer_id.str[-16:].str.hex_to_int().astype('int64')\n",
    "# df.article_id = df.article_id.astype('int32')\n",
    "# _ = gc.collect()"
   ]
  },
  {
   "cell_type": "code",
   "execution_count": 23,
   "id": "2fe8e032",
   "metadata": {
    "_cell_guid": "4c724f89-612f-4608-94a5-2013aa86ce82",
    "_uuid": "980cf91d-96ad-4c7c-aba7-6bbc8e7f9075",
    "collapsed": false,
    "execution": {
     "iopub.execute_input": "2022-03-28T07:11:45.942078Z",
     "iopub.status.busy": "2022-03-28T07:11:45.941135Z",
     "iopub.status.idle": "2022-03-28T07:11:45.943039Z",
     "shell.execute_reply": "2022-03-28T07:11:45.943442Z",
     "shell.execute_reply.started": "2022-03-28T07:04:07.485493Z"
    },
    "jupyter": {
     "outputs_hidden": false
    },
    "papermill": {
     "duration": 0.145242,
     "end_time": "2022-03-28T07:11:45.943599",
     "exception": false,
     "start_time": "2022-03-28T07:11:45.798357",
     "status": "completed"
    },
    "tags": []
   },
   "outputs": [],
   "source": [
    "# # FIND ITEMS PURCHASED TOGETHER\n",
    "# vc = df.article_id.value_counts()\n",
    "# pairs = {}\n",
    "# # for j,i in enumerate(vc.index.values[1000:1032]):\n",
    "# #     #if j%10==0: print(j,', ',end='')\n",
    "# #     USERS = df.loc[df.article_id==i.item(),'customer_id'].unique()\n",
    "# #     vc2 = df.loc[(df.customer_id.isin(USERS))&(df.article_id!=i.item()),'article_id'].value_counts()\n",
    "# #     pairs[i.item()] = [vc2.index[0], vc2.index[1], vc2.index[2]]"
   ]
  },
  {
   "cell_type": "code",
   "execution_count": 24,
   "id": "211fe149",
   "metadata": {
    "_cell_guid": "7df33241-8730-41e6-ba96-684dab72ebf6",
    "_uuid": "68190067-1266-43b1-8a90-16fde37bc22d",
    "collapsed": false,
    "execution": {
     "iopub.execute_input": "2022-03-28T07:11:46.225286Z",
     "iopub.status.busy": "2022-03-28T07:11:46.224495Z",
     "iopub.status.idle": "2022-03-28T07:11:46.227021Z",
     "shell.execute_reply": "2022-03-28T07:11:46.226482Z",
     "shell.execute_reply.started": "2022-03-28T07:04:07.496350Z"
    },
    "jupyter": {
     "outputs_hidden": false
    },
    "papermill": {
     "duration": 0.144871,
     "end_time": "2022-03-28T07:11:46.227126",
     "exception": false,
     "start_time": "2022-03-28T07:11:46.082255",
     "status": "completed"
    },
    "tags": []
   },
   "outputs": [],
   "source": [
    "# vc = vc.reset_index().rename(columns = {\"article_id\":\"count\", \"index\":\"article_id\"})"
   ]
  },
  {
   "cell_type": "code",
   "execution_count": 25,
   "id": "f54c9ef7",
   "metadata": {
    "_cell_guid": "b8e80724-9f54-4727-9a5b-96aed6e85dbc",
    "_uuid": "f79463f6-d3c9-43ea-8882-9729bd77ddff",
    "collapsed": false,
    "execution": {
     "iopub.execute_input": "2022-03-28T07:11:46.505269Z",
     "iopub.status.busy": "2022-03-28T07:11:46.504433Z",
     "iopub.status.idle": "2022-03-28T07:11:46.507020Z",
     "shell.execute_reply": "2022-03-28T07:11:46.506520Z",
     "shell.execute_reply.started": "2022-03-28T07:04:07.506619Z"
    },
    "jupyter": {
     "outputs_hidden": false
    },
    "papermill": {
     "duration": 0.142426,
     "end_time": "2022-03-28T07:11:46.507126",
     "exception": false,
     "start_time": "2022-03-28T07:11:46.364700",
     "status": "completed"
    },
    "tags": []
   },
   "outputs": [],
   "source": [
    "# vc = vc[vc[\"count\"]>=50]"
   ]
  },
  {
   "cell_type": "code",
   "execution_count": 26,
   "id": "db89efb4",
   "metadata": {
    "_cell_guid": "0da22333-f4a8-4e71-8833-2f345a60517b",
    "_uuid": "d7776129-da4e-49db-80a4-9afd0420bd9e",
    "collapsed": false,
    "execution": {
     "iopub.execute_input": "2022-03-28T07:11:46.792313Z",
     "iopub.status.busy": "2022-03-28T07:11:46.791450Z",
     "iopub.status.idle": "2022-03-28T07:11:46.793618Z",
     "shell.execute_reply": "2022-03-28T07:11:46.793992Z",
     "shell.execute_reply.started": "2022-03-28T07:04:07.516458Z"
    },
    "jupyter": {
     "outputs_hidden": false
    },
    "papermill": {
     "duration": 0.149264,
     "end_time": "2022-03-28T07:11:46.794122",
     "exception": false,
     "start_time": "2022-03-28T07:11:46.644858",
     "status": "completed"
    },
    "tags": []
   },
   "outputs": [],
   "source": [
    "# def cal_together_score(x):\n",
    "#     USERS = df.loc[df.article_id==x[\"article_id\"],'customer_id'].unique()\n",
    "#     vc2 = df.loc[(df.customer_id.isin(USERS))&(df.article_id!=x[\"article_id\"]),'article_id'].value_counts()\n",
    "#     #pairs[i.item()] = [vc2.index[0], vc2.index[1], vc2.index[2]]\n",
    "#     return [[x.article_id, vc2.index[i], vc2.iloc[i]/x[\"count\"]] for i in range(min(10, len(vc2)))]"
   ]
  },
  {
   "cell_type": "code",
   "execution_count": 27,
   "id": "9aa36e93",
   "metadata": {
    "_cell_guid": "baadd098-5635-49e3-8326-f799e2a5b9d2",
    "_uuid": "1d30acf1-be00-4393-b7f2-f60f5c6627dd",
    "collapsed": false,
    "execution": {
     "iopub.execute_input": "2022-03-28T07:11:47.074330Z",
     "iopub.status.busy": "2022-03-28T07:11:47.073583Z",
     "iopub.status.idle": "2022-03-28T07:11:47.077331Z",
     "shell.execute_reply": "2022-03-28T07:11:47.076924Z",
     "shell.execute_reply.started": "2022-03-28T07:04:07.524054Z"
    },
    "jupyter": {
     "outputs_hidden": false
    },
    "papermill": {
     "duration": 0.145512,
     "end_time": "2022-03-28T07:11:47.077433",
     "exception": false,
     "start_time": "2022-03-28T07:11:46.931921",
     "status": "completed"
    },
    "tags": []
   },
   "outputs": [],
   "source": [
    "#relation = vc.to_pandas().apply(lambda x: cal_together_score(x), axis = 1).sum()"
   ]
  },
  {
   "cell_type": "code",
   "execution_count": 28,
   "id": "48fbb9d4",
   "metadata": {
    "_cell_guid": "61e9feb0-8ccd-4ab6-9b81-3c9249eba7bd",
    "_uuid": "51767f5c-104b-4a76-919f-caeabf3d6fee",
    "collapsed": false,
    "execution": {
     "iopub.execute_input": "2022-03-28T07:11:47.358108Z",
     "iopub.status.busy": "2022-03-28T07:11:47.357402Z",
     "iopub.status.idle": "2022-03-28T07:11:47.360025Z",
     "shell.execute_reply": "2022-03-28T07:11:47.359506Z",
     "shell.execute_reply.started": "2022-03-28T07:04:07.538577Z"
    },
    "jupyter": {
     "outputs_hidden": false
    },
    "papermill": {
     "duration": 0.14412,
     "end_time": "2022-03-28T07:11:47.360145",
     "exception": false,
     "start_time": "2022-03-28T07:11:47.216025",
     "status": "completed"
    },
    "tags": []
   },
   "outputs": [],
   "source": [
    "#%%time\n",
    "# df  = cudf.read_csv('../input/h-and-m-personalized-fashion-recommendations/transactions_train.csv',\n",
    "#                             usecols= ['t_dat', 'customer_id', 'article_id'], \n",
    "#                             dtype={'article_id': 'int32', 't_dat': 'string', 'customer_id': 'string'})\n",
    "# df ['customer_id'] = df ['customer_id'].str[-16:].str.hex_to_int().astype('int64')\n",
    "\n",
    "# df['t_dat'] = cudf.to_datetime(df['t_dat'])\n",
    "# last_ts = df['t_dat'].max()"
   ]
  },
  {
   "cell_type": "code",
   "execution_count": 29,
   "id": "9406aa52",
   "metadata": {
    "_cell_guid": "8efede7c-b406-4bb9-9679-6b2ddf57be2d",
    "_uuid": "37018992-e497-409a-aa29-9f98db036096",
    "collapsed": false,
    "execution": {
     "iopub.execute_input": "2022-03-28T07:11:47.643217Z",
     "iopub.status.busy": "2022-03-28T07:11:47.642393Z",
     "iopub.status.idle": "2022-03-28T07:11:47.648098Z",
     "shell.execute_reply": "2022-03-28T07:11:47.648460Z",
     "shell.execute_reply.started": "2022-03-28T07:04:07.544073Z"
    },
    "jupyter": {
     "outputs_hidden": false
    },
    "papermill": {
     "duration": 0.148426,
     "end_time": "2022-03-28T07:11:47.648622",
     "exception": false,
     "start_time": "2022-03-28T07:11:47.500196",
     "status": "completed"
    },
    "tags": []
   },
   "outputs": [],
   "source": [
    "df = train.copy()"
   ]
  },
  {
   "cell_type": "code",
   "execution_count": 30,
   "id": "80fb2a1e",
   "metadata": {
    "_cell_guid": "4f70828a-7ed6-4ea9-a327-7ac47a3274d0",
    "_uuid": "d30e7289-5fad-4efd-bc05-902658ec1834",
    "collapsed": false,
    "execution": {
     "iopub.execute_input": "2022-03-28T07:11:47.927870Z",
     "iopub.status.busy": "2022-03-28T07:11:47.927088Z",
     "iopub.status.idle": "2022-03-28T07:11:55.630533Z",
     "shell.execute_reply": "2022-03-28T07:11:55.630027Z",
     "shell.execute_reply.started": "2022-03-28T07:04:07.559668Z"
    },
    "jupyter": {
     "outputs_hidden": false
    },
    "papermill": {
     "duration": 7.842636,
     "end_time": "2022-03-28T07:11:55.630691",
     "exception": false,
     "start_time": "2022-03-28T07:11:47.788055",
     "status": "completed"
    },
    "tags": []
   },
   "outputs": [
    {
     "name": "stdout",
     "output_type": "stream",
     "text": [
      "CPU times: user 6.27 s, sys: 1.57 s, total: 7.84 s\n",
      "Wall time: 7.69 s\n"
     ]
    }
   ],
   "source": [
    "%%time\n",
    "tmp = df[['t_dat']].copy().to_pandas()\n",
    "tmp['dow'] = tmp['t_dat'].dt.dayofweek\n",
    "tmp['ldbw'] = tmp['t_dat'] - pd.TimedeltaIndex(tmp['dow'] - 1, unit='D')\n",
    "tmp.loc[tmp['dow'] >=2 , 'ldbw'] = tmp.loc[tmp['dow'] >=2 , 'ldbw'] + pd.TimedeltaIndex(np.ones(len(tmp.loc[tmp['dow'] >=2])) * 7, unit='D')\n",
    "\n",
    "df['ldbw'] = tmp['ldbw'].values"
   ]
  },
  {
   "cell_type": "code",
   "execution_count": 31,
   "id": "2f9c9954",
   "metadata": {
    "_cell_guid": "062c9e13-0249-4cd1-9833-9d1fb9a4d95a",
    "_uuid": "d7cc8aad-d344-4ae6-9e5e-e0e9160b73db",
    "collapsed": false,
    "execution": {
     "iopub.execute_input": "2022-03-28T07:11:55.916251Z",
     "iopub.status.busy": "2022-03-28T07:11:55.915417Z",
     "iopub.status.idle": "2022-03-28T07:11:55.917430Z",
     "shell.execute_reply": "2022-03-28T07:11:55.917925Z",
     "shell.execute_reply.started": "2022-03-28T07:04:15.380689Z"
    },
    "jupyter": {
     "outputs_hidden": false
    },
    "papermill": {
     "duration": 0.146475,
     "end_time": "2022-03-28T07:11:55.918059",
     "exception": false,
     "start_time": "2022-03-28T07:11:55.771584",
     "status": "completed"
    },
    "tags": []
   },
   "outputs": [],
   "source": [
    "#relation_data = cudf.DataFrame(relation, columns = [\"from_id\", \"to_id\", \"ratio\"])"
   ]
  },
  {
   "cell_type": "code",
   "execution_count": 32,
   "id": "3033bae4",
   "metadata": {
    "_cell_guid": "d2a497e0-7e56-478f-b4fb-834de252f2ab",
    "_uuid": "a6128a89-50eb-4d88-946b-d20b5948ae56",
    "collapsed": false,
    "execution": {
     "iopub.execute_input": "2022-03-28T07:11:56.427391Z",
     "iopub.status.busy": "2022-03-28T07:11:56.426514Z",
     "iopub.status.idle": "2022-03-28T07:11:56.617885Z",
     "shell.execute_reply": "2022-03-28T07:11:56.618329Z",
     "shell.execute_reply.started": "2022-03-28T07:04:15.387770Z"
    },
    "jupyter": {
     "outputs_hidden": false
    },
    "papermill": {
     "duration": 0.448699,
     "end_time": "2022-03-28T07:11:56.618477",
     "exception": false,
     "start_time": "2022-03-28T07:11:56.169778",
     "status": "completed"
    },
    "tags": []
   },
   "outputs": [],
   "source": [
    "relation_data = cudf.read_csv(\"../input/relation/relation_data.csv\")"
   ]
  },
  {
   "cell_type": "code",
   "execution_count": 33,
   "id": "06a0018e",
   "metadata": {
    "_cell_guid": "5a133069-579f-4e05-9228-6c7403d2a35b",
    "_uuid": "d4e00377-c5df-473f-abcb-e281eda5889a",
    "collapsed": false,
    "execution": {
     "iopub.execute_input": "2022-03-28T07:11:56.902423Z",
     "iopub.status.busy": "2022-03-28T07:11:56.901654Z",
     "iopub.status.idle": "2022-03-28T07:11:56.948131Z",
     "shell.execute_reply": "2022-03-28T07:11:56.948520Z",
     "shell.execute_reply.started": "2022-03-28T07:04:15.609588Z"
    },
    "jupyter": {
     "outputs_hidden": false
    },
    "papermill": {
     "duration": 0.188863,
     "end_time": "2022-03-28T07:11:56.948678",
     "exception": false,
     "start_time": "2022-03-28T07:11:56.759815",
     "status": "completed"
    },
    "tags": []
   },
   "outputs": [
    {
     "data": {
      "text/html": [
       "<div>\n",
       "<style scoped>\n",
       "    .dataframe tbody tr th:only-of-type {\n",
       "        vertical-align: middle;\n",
       "    }\n",
       "\n",
       "    .dataframe tbody tr th {\n",
       "        vertical-align: top;\n",
       "    }\n",
       "\n",
       "    .dataframe thead th {\n",
       "        text-align: right;\n",
       "    }\n",
       "</style>\n",
       "<table border=\"1\" class=\"dataframe\">\n",
       "  <thead>\n",
       "    <tr style=\"text-align: right;\">\n",
       "      <th></th>\n",
       "      <th>from_id</th>\n",
       "      <th>to_id</th>\n",
       "      <th>ratio</th>\n",
       "    </tr>\n",
       "  </thead>\n",
       "  <tbody>\n",
       "    <tr>\n",
       "      <th>0</th>\n",
       "      <td>706016001</td>\n",
       "      <td>706016002</td>\n",
       "      <td>0.250144</td>\n",
       "    </tr>\n",
       "    <tr>\n",
       "      <th>1</th>\n",
       "      <td>706016001</td>\n",
       "      <td>706016003</td>\n",
       "      <td>0.155706</td>\n",
       "    </tr>\n",
       "    <tr>\n",
       "      <th>2</th>\n",
       "      <td>706016001</td>\n",
       "      <td>706016015</td>\n",
       "      <td>0.117943</td>\n",
       "    </tr>\n",
       "    <tr>\n",
       "      <th>3</th>\n",
       "      <td>706016001</td>\n",
       "      <td>706016006</td>\n",
       "      <td>0.097799</td>\n",
       "    </tr>\n",
       "    <tr>\n",
       "      <th>4</th>\n",
       "      <td>706016001</td>\n",
       "      <td>399223001</td>\n",
       "      <td>0.087299</td>\n",
       "    </tr>\n",
       "    <tr>\n",
       "      <th>...</th>\n",
       "      <td>...</td>\n",
       "      <td>...</td>\n",
       "      <td>...</td>\n",
       "    </tr>\n",
       "    <tr>\n",
       "      <th>570535</th>\n",
       "      <td>657165029</td>\n",
       "      <td>763270003</td>\n",
       "      <td>0.120000</td>\n",
       "    </tr>\n",
       "    <tr>\n",
       "      <th>570536</th>\n",
       "      <td>657165029</td>\n",
       "      <td>628327005</td>\n",
       "      <td>0.120000</td>\n",
       "    </tr>\n",
       "    <tr>\n",
       "      <th>570537</th>\n",
       "      <td>657165029</td>\n",
       "      <td>664319001</td>\n",
       "      <td>0.120000</td>\n",
       "    </tr>\n",
       "    <tr>\n",
       "      <th>570538</th>\n",
       "      <td>657165029</td>\n",
       "      <td>608776002</td>\n",
       "      <td>0.100000</td>\n",
       "    </tr>\n",
       "    <tr>\n",
       "      <th>570539</th>\n",
       "      <td>657165029</td>\n",
       "      <td>745806001</td>\n",
       "      <td>0.100000</td>\n",
       "    </tr>\n",
       "  </tbody>\n",
       "</table>\n",
       "<p>570540 rows × 3 columns</p>\n",
       "</div>"
      ],
      "text/plain": [
       "          from_id      to_id     ratio\n",
       "0       706016001  706016002  0.250144\n",
       "1       706016001  706016003  0.155706\n",
       "2       706016001  706016015  0.117943\n",
       "3       706016001  706016006  0.097799\n",
       "4       706016001  399223001  0.087299\n",
       "...           ...        ...       ...\n",
       "570535  657165029  763270003  0.120000\n",
       "570536  657165029  628327005  0.120000\n",
       "570537  657165029  664319001  0.120000\n",
       "570538  657165029  608776002  0.100000\n",
       "570539  657165029  745806001  0.100000\n",
       "\n",
       "[570540 rows x 3 columns]"
      ]
     },
     "execution_count": 33,
     "metadata": {},
     "output_type": "execute_result"
    }
   ],
   "source": [
    "relation_data"
   ]
  },
  {
   "cell_type": "code",
   "execution_count": 34,
   "id": "df67a23d",
   "metadata": {
    "_cell_guid": "165d88d1-d353-42a0-ab91-773932b60211",
    "_uuid": "1c0296df-94e9-4103-a2c6-49dc297ee389",
    "collapsed": false,
    "execution": {
     "iopub.execute_input": "2022-03-28T07:11:57.388092Z",
     "iopub.status.busy": "2022-03-28T07:11:57.387400Z",
     "iopub.status.idle": "2022-03-28T07:11:57.390203Z",
     "shell.execute_reply": "2022-03-28T07:11:57.390613Z",
     "shell.execute_reply.started": "2022-03-28T07:04:15.661039Z"
    },
    "jupyter": {
     "outputs_hidden": false
    },
    "papermill": {
     "duration": 0.300785,
     "end_time": "2022-03-28T07:11:57.390760",
     "exception": false,
     "start_time": "2022-03-28T07:11:57.089975",
     "status": "completed"
    },
    "tags": []
   },
   "outputs": [
    {
     "data": {
      "text/plain": [
       "106"
      ]
     },
     "execution_count": 34,
     "metadata": {},
     "output_type": "execute_result"
    }
   ],
   "source": [
    "del tmp\n",
    "gc.collect()"
   ]
  },
  {
   "cell_type": "code",
   "execution_count": 35,
   "id": "ceff939c",
   "metadata": {
    "_cell_guid": "d562a5a3-35d8-4c45-b82d-c57eedf8d7a1",
    "_uuid": "cd39be0c-8c1d-4e79-a35b-5e9fc1dcbae7",
    "collapsed": false,
    "execution": {
     "iopub.execute_input": "2022-03-28T07:11:57.678064Z",
     "iopub.status.busy": "2022-03-28T07:11:57.677278Z",
     "iopub.status.idle": "2022-03-28T07:11:57.805850Z",
     "shell.execute_reply": "2022-03-28T07:11:57.805352Z",
     "shell.execute_reply.started": "2022-03-28T07:04:15.822982Z"
    },
    "jupyter": {
     "outputs_hidden": false
    },
    "papermill": {
     "duration": 0.274499,
     "end_time": "2022-03-28T07:11:57.805964",
     "exception": false,
     "start_time": "2022-03-28T07:11:57.531465",
     "status": "completed"
    },
    "tags": []
   },
   "outputs": [],
   "source": [
    "weekly_sales = df.drop('customer_id', axis=1).groupby(['ldbw', 'article_id']).count().reset_index()\n",
    "weekly_sales = weekly_sales.rename(columns={'t_dat': 'count'})"
   ]
  },
  {
   "cell_type": "code",
   "execution_count": 36,
   "id": "59fd416f",
   "metadata": {
    "_cell_guid": "baba24f2-3166-40d2-ae52-f4bdf7188970",
    "_uuid": "5db5f580-4c19-4dd8-b448-d05ac17d189e",
    "collapsed": false,
    "execution": {
     "iopub.execute_input": "2022-03-28T07:11:58.103775Z",
     "iopub.status.busy": "2022-03-28T07:11:58.102958Z",
     "iopub.status.idle": "2022-03-28T07:11:58.146842Z",
     "shell.execute_reply": "2022-03-28T07:11:58.147243Z",
     "shell.execute_reply.started": "2022-03-28T07:04:15.952816Z"
    },
    "jupyter": {
     "outputs_hidden": false
    },
    "papermill": {
     "duration": 0.198517,
     "end_time": "2022-03-28T07:11:58.147370",
     "exception": false,
     "start_time": "2022-03-28T07:11:57.948853",
     "status": "completed"
    },
    "tags": []
   },
   "outputs": [
    {
     "data": {
      "text/html": [
       "<div>\n",
       "<style scoped>\n",
       "    .dataframe tbody tr th:only-of-type {\n",
       "        vertical-align: middle;\n",
       "    }\n",
       "\n",
       "    .dataframe tbody tr th {\n",
       "        vertical-align: top;\n",
       "    }\n",
       "\n",
       "    .dataframe thead th {\n",
       "        text-align: right;\n",
       "    }\n",
       "</style>\n",
       "<table border=\"1\" class=\"dataframe\">\n",
       "  <thead>\n",
       "    <tr style=\"text-align: right;\">\n",
       "      <th></th>\n",
       "      <th>ldbw</th>\n",
       "      <th>article_id</th>\n",
       "      <th>count</th>\n",
       "      <th>price</th>\n",
       "      <th>sales_channel_id</th>\n",
       "    </tr>\n",
       "  </thead>\n",
       "  <tbody>\n",
       "    <tr>\n",
       "      <th>0</th>\n",
       "      <td>2019-03-12</td>\n",
       "      <td>719447002</td>\n",
       "      <td>4</td>\n",
       "      <td>4</td>\n",
       "      <td>4</td>\n",
       "    </tr>\n",
       "    <tr>\n",
       "      <th>1</th>\n",
       "      <td>2019-04-16</td>\n",
       "      <td>590203002</td>\n",
       "      <td>1</td>\n",
       "      <td>1</td>\n",
       "      <td>1</td>\n",
       "    </tr>\n",
       "    <tr>\n",
       "      <th>2</th>\n",
       "      <td>2020-05-05</td>\n",
       "      <td>831684001</td>\n",
       "      <td>12</td>\n",
       "      <td>12</td>\n",
       "      <td>12</td>\n",
       "    </tr>\n",
       "    <tr>\n",
       "      <th>3</th>\n",
       "      <td>2019-05-28</td>\n",
       "      <td>693508002</td>\n",
       "      <td>1</td>\n",
       "      <td>1</td>\n",
       "      <td>1</td>\n",
       "    </tr>\n",
       "    <tr>\n",
       "      <th>4</th>\n",
       "      <td>2019-07-02</td>\n",
       "      <td>777038001</td>\n",
       "      <td>5</td>\n",
       "      <td>5</td>\n",
       "      <td>5</td>\n",
       "    </tr>\n",
       "    <tr>\n",
       "      <th>...</th>\n",
       "      <td>...</td>\n",
       "      <td>...</td>\n",
       "      <td>...</td>\n",
       "      <td>...</td>\n",
       "      <td>...</td>\n",
       "    </tr>\n",
       "    <tr>\n",
       "      <th>2183240</th>\n",
       "      <td>2019-02-12</td>\n",
       "      <td>664871001</td>\n",
       "      <td>34</td>\n",
       "      <td>34</td>\n",
       "      <td>34</td>\n",
       "    </tr>\n",
       "    <tr>\n",
       "      <th>2183241</th>\n",
       "      <td>2019-11-19</td>\n",
       "      <td>640735001</td>\n",
       "      <td>2</td>\n",
       "      <td>2</td>\n",
       "      <td>2</td>\n",
       "    </tr>\n",
       "    <tr>\n",
       "      <th>2183242</th>\n",
       "      <td>2018-10-02</td>\n",
       "      <td>569355002</td>\n",
       "      <td>6</td>\n",
       "      <td>6</td>\n",
       "      <td>6</td>\n",
       "    </tr>\n",
       "    <tr>\n",
       "      <th>2183243</th>\n",
       "      <td>2019-06-04</td>\n",
       "      <td>684021006</td>\n",
       "      <td>8</td>\n",
       "      <td>8</td>\n",
       "      <td>8</td>\n",
       "    </tr>\n",
       "    <tr>\n",
       "      <th>2183244</th>\n",
       "      <td>2019-04-16</td>\n",
       "      <td>767918005</td>\n",
       "      <td>5</td>\n",
       "      <td>5</td>\n",
       "      <td>5</td>\n",
       "    </tr>\n",
       "  </tbody>\n",
       "</table>\n",
       "<p>2183245 rows × 5 columns</p>\n",
       "</div>"
      ],
      "text/plain": [
       "              ldbw  article_id  count  price  sales_channel_id\n",
       "0       2019-03-12   719447002      4      4                 4\n",
       "1       2019-04-16   590203002      1      1                 1\n",
       "2       2020-05-05   831684001     12     12                12\n",
       "3       2019-05-28   693508002      1      1                 1\n",
       "4       2019-07-02   777038001      5      5                 5\n",
       "...            ...         ...    ...    ...               ...\n",
       "2183240 2019-02-12   664871001     34     34                34\n",
       "2183241 2019-11-19   640735001      2      2                 2\n",
       "2183242 2018-10-02   569355002      6      6                 6\n",
       "2183243 2019-06-04   684021006      8      8                 8\n",
       "2183244 2019-04-16   767918005      5      5                 5\n",
       "\n",
       "[2183245 rows x 5 columns]"
      ]
     },
     "execution_count": 36,
     "metadata": {},
     "output_type": "execute_result"
    }
   ],
   "source": [
    "weekly_sales"
   ]
  },
  {
   "cell_type": "code",
   "execution_count": 37,
   "id": "836f681d",
   "metadata": {
    "_cell_guid": "50496380-7d4d-4c1d-9419-cb77df7c3eca",
    "_uuid": "1476dd6d-0ab4-442a-8484-5c689c79d890",
    "collapsed": false,
    "execution": {
     "iopub.execute_input": "2022-03-28T07:11:58.433806Z",
     "iopub.status.busy": "2022-03-28T07:11:58.432999Z",
     "iopub.status.idle": "2022-03-28T07:11:58.469373Z",
     "shell.execute_reply": "2022-03-28T07:11:58.469776Z",
     "shell.execute_reply.started": "2022-03-28T07:04:16.010172Z"
    },
    "jupyter": {
     "outputs_hidden": false
    },
    "papermill": {
     "duration": 0.181723,
     "end_time": "2022-03-28T07:11:58.469914",
     "exception": false,
     "start_time": "2022-03-28T07:11:58.288191",
     "status": "completed"
    },
    "tags": []
   },
   "outputs": [],
   "source": [
    "df = df[df[\"ldbw\"] >= pd.to_datetime('2020-08-01')]"
   ]
  },
  {
   "cell_type": "code",
   "execution_count": 38,
   "id": "fd537ffa",
   "metadata": {
    "_cell_guid": "e12fa790-d43d-4990-bfe9-17e5b4c549a7",
    "_uuid": "e9a1997a-1b9b-436d-9fc6-652aaca59756",
    "collapsed": false,
    "execution": {
     "iopub.execute_input": "2022-03-28T07:11:58.757412Z",
     "iopub.status.busy": "2022-03-28T07:11:58.756640Z",
     "iopub.status.idle": "2022-03-28T07:11:58.795795Z",
     "shell.execute_reply": "2022-03-28T07:11:58.796447Z",
     "shell.execute_reply.started": "2022-03-28T07:04:16.051226Z"
    },
    "jupyter": {
     "outputs_hidden": false
    },
    "papermill": {
     "duration": 0.185419,
     "end_time": "2022-03-28T07:11:58.796593",
     "exception": false,
     "start_time": "2022-03-28T07:11:58.611174",
     "status": "completed"
    },
    "tags": []
   },
   "outputs": [],
   "source": [
    "full_result = df.merge(relation_data, left_on = \"article_id\", right_on = \"from_id\")"
   ]
  },
  {
   "cell_type": "code",
   "execution_count": 39,
   "id": "73b5cb16",
   "metadata": {
    "_cell_guid": "10b315ec-7ea4-4172-ad55-a70246ce96a1",
    "_uuid": "b7bc8b84-f390-4b24-946b-fa2669f6b0e2",
    "collapsed": false,
    "execution": {
     "iopub.execute_input": "2022-03-28T07:11:59.093727Z",
     "iopub.status.busy": "2022-03-28T07:11:59.092863Z",
     "iopub.status.idle": "2022-03-28T07:11:59.094977Z",
     "shell.execute_reply": "2022-03-28T07:11:59.095359Z",
     "shell.execute_reply.started": "2022-03-28T07:04:16.108025Z"
    },
    "jupyter": {
     "outputs_hidden": false
    },
    "papermill": {
     "duration": 0.15687,
     "end_time": "2022-03-28T07:11:59.095495",
     "exception": false,
     "start_time": "2022-03-28T07:11:58.938625",
     "status": "completed"
    },
    "tags": []
   },
   "outputs": [],
   "source": [
    "full_result.drop([\"article_id\", \"from_id\"], axis = 1, inplace = True)"
   ]
  },
  {
   "cell_type": "code",
   "execution_count": 40,
   "id": "b8c0baf9",
   "metadata": {
    "_cell_guid": "59103666-3b8d-4570-8cf7-4566d533d022",
    "_uuid": "03524976-e707-44e8-90c9-774bbb8381a2",
    "collapsed": false,
    "execution": {
     "iopub.execute_input": "2022-03-28T07:11:59.384057Z",
     "iopub.status.busy": "2022-03-28T07:11:59.383319Z",
     "iopub.status.idle": "2022-03-28T07:11:59.411561Z",
     "shell.execute_reply": "2022-03-28T07:11:59.411934Z",
     "shell.execute_reply.started": "2022-03-28T07:04:16.119231Z"
    },
    "jupyter": {
     "outputs_hidden": false
    },
    "papermill": {
     "duration": 0.174312,
     "end_time": "2022-03-28T07:11:59.412065",
     "exception": false,
     "start_time": "2022-03-28T07:11:59.237753",
     "status": "completed"
    },
    "tags": []
   },
   "outputs": [],
   "source": [
    "full_result = full_result.rename(columns = {\"to_id\": \"article_id\"})"
   ]
  },
  {
   "cell_type": "code",
   "execution_count": 41,
   "id": "ef91e034",
   "metadata": {
    "_cell_guid": "ee0a4aa7-6249-4122-81ad-284ca6126585",
    "_uuid": "66148fa0-a308-495b-9af7-ffedc9739c4f",
    "collapsed": false,
    "execution": {
     "iopub.execute_input": "2022-03-28T07:11:59.708264Z",
     "iopub.status.busy": "2022-03-28T07:11:59.707436Z",
     "iopub.status.idle": "2022-03-28T07:11:59.763833Z",
     "shell.execute_reply": "2022-03-28T07:11:59.764236Z",
     "shell.execute_reply.started": "2022-03-28T07:04:16.160568Z"
    },
    "jupyter": {
     "outputs_hidden": false
    },
    "papermill": {
     "duration": 0.211341,
     "end_time": "2022-03-28T07:11:59.764361",
     "exception": false,
     "start_time": "2022-03-28T07:11:59.553020",
     "status": "completed"
    },
    "tags": []
   },
   "outputs": [
    {
     "data": {
      "text/html": [
       "<div>\n",
       "<style scoped>\n",
       "    .dataframe tbody tr th:only-of-type {\n",
       "        vertical-align: middle;\n",
       "    }\n",
       "\n",
       "    .dataframe tbody tr th {\n",
       "        vertical-align: top;\n",
       "    }\n",
       "\n",
       "    .dataframe thead th {\n",
       "        text-align: right;\n",
       "    }\n",
       "</style>\n",
       "<table border=\"1\" class=\"dataframe\">\n",
       "  <thead>\n",
       "    <tr style=\"text-align: right;\">\n",
       "      <th></th>\n",
       "      <th>t_dat</th>\n",
       "      <th>customer_id</th>\n",
       "      <th>price</th>\n",
       "      <th>sales_channel_id</th>\n",
       "      <th>ldbw</th>\n",
       "      <th>article_id</th>\n",
       "      <th>ratio</th>\n",
       "    </tr>\n",
       "  </thead>\n",
       "  <tbody>\n",
       "    <tr>\n",
       "      <th>0</th>\n",
       "      <td>2020-07-29</td>\n",
       "      <td>1196910504934980550</td>\n",
       "      <td>0.022017</td>\n",
       "      <td>1</td>\n",
       "      <td>2020-08-04</td>\n",
       "      <td>372860001</td>\n",
       "      <td>0.119403</td>\n",
       "    </tr>\n",
       "    <tr>\n",
       "      <th>1</th>\n",
       "      <td>2020-07-29</td>\n",
       "      <td>-4343660520890854853</td>\n",
       "      <td>0.016932</td>\n",
       "      <td>1</td>\n",
       "      <td>2020-08-04</td>\n",
       "      <td>554598003</td>\n",
       "      <td>0.225172</td>\n",
       "    </tr>\n",
       "    <tr>\n",
       "      <th>2</th>\n",
       "      <td>2020-07-29</td>\n",
       "      <td>-5929919907550700552</td>\n",
       "      <td>0.010153</td>\n",
       "      <td>2</td>\n",
       "      <td>2020-08-04</td>\n",
       "      <td>727880001</td>\n",
       "      <td>0.049654</td>\n",
       "    </tr>\n",
       "    <tr>\n",
       "      <th>3</th>\n",
       "      <td>2020-07-29</td>\n",
       "      <td>8156652498607771828</td>\n",
       "      <td>0.030492</td>\n",
       "      <td>2</td>\n",
       "      <td>2020-08-04</td>\n",
       "      <td>698276009</td>\n",
       "      <td>0.082096</td>\n",
       "    </tr>\n",
       "    <tr>\n",
       "      <th>4</th>\n",
       "      <td>2020-07-29</td>\n",
       "      <td>7633511196588847286</td>\n",
       "      <td>0.012186</td>\n",
       "      <td>2</td>\n",
       "      <td>2020-08-04</td>\n",
       "      <td>778534004</td>\n",
       "      <td>0.105263</td>\n",
       "    </tr>\n",
       "    <tr>\n",
       "      <th>...</th>\n",
       "      <td>...</td>\n",
       "      <td>...</td>\n",
       "      <td>...</td>\n",
       "      <td>...</td>\n",
       "      <td>...</td>\n",
       "      <td>...</td>\n",
       "      <td>...</td>\n",
       "    </tr>\n",
       "    <tr>\n",
       "      <th>18750425</th>\n",
       "      <td>2020-09-15</td>\n",
       "      <td>1222534653512818531</td>\n",
       "      <td>0.059305</td>\n",
       "      <td>1</td>\n",
       "      <td>2020-09-15</td>\n",
       "      <td>751471001</td>\n",
       "      <td>0.063091</td>\n",
       "    </tr>\n",
       "    <tr>\n",
       "      <th>18750426</th>\n",
       "      <td>2020-09-15</td>\n",
       "      <td>1222534653512818531</td>\n",
       "      <td>0.059305</td>\n",
       "      <td>1</td>\n",
       "      <td>2020-09-15</td>\n",
       "      <td>806388001</td>\n",
       "      <td>0.056782</td>\n",
       "    </tr>\n",
       "    <tr>\n",
       "      <th>18750427</th>\n",
       "      <td>2020-09-15</td>\n",
       "      <td>1222534653512818531</td>\n",
       "      <td>0.059305</td>\n",
       "      <td>1</td>\n",
       "      <td>2020-09-15</td>\n",
       "      <td>673396002</td>\n",
       "      <td>0.056782</td>\n",
       "    </tr>\n",
       "    <tr>\n",
       "      <th>18750428</th>\n",
       "      <td>2020-09-15</td>\n",
       "      <td>1222534653512818531</td>\n",
       "      <td>0.059305</td>\n",
       "      <td>1</td>\n",
       "      <td>2020-09-15</td>\n",
       "      <td>762846008</td>\n",
       "      <td>0.053628</td>\n",
       "    </tr>\n",
       "    <tr>\n",
       "      <th>18750429</th>\n",
       "      <td>2020-09-15</td>\n",
       "      <td>1222534653512818531</td>\n",
       "      <td>0.059305</td>\n",
       "      <td>1</td>\n",
       "      <td>2020-09-15</td>\n",
       "      <td>706016003</td>\n",
       "      <td>0.053628</td>\n",
       "    </tr>\n",
       "  </tbody>\n",
       "</table>\n",
       "<p>18750430 rows × 7 columns</p>\n",
       "</div>"
      ],
      "text/plain": [
       "              t_dat          customer_id     price  sales_channel_id  \\\n",
       "0        2020-07-29  1196910504934980550  0.022017                 1   \n",
       "1        2020-07-29 -4343660520890854853  0.016932                 1   \n",
       "2        2020-07-29 -5929919907550700552  0.010153                 2   \n",
       "3        2020-07-29  8156652498607771828  0.030492                 2   \n",
       "4        2020-07-29  7633511196588847286  0.012186                 2   \n",
       "...             ...                  ...       ...               ...   \n",
       "18750425 2020-09-15  1222534653512818531  0.059305                 1   \n",
       "18750426 2020-09-15  1222534653512818531  0.059305                 1   \n",
       "18750427 2020-09-15  1222534653512818531  0.059305                 1   \n",
       "18750428 2020-09-15  1222534653512818531  0.059305                 1   \n",
       "18750429 2020-09-15  1222534653512818531  0.059305                 1   \n",
       "\n",
       "               ldbw  article_id     ratio  \n",
       "0        2020-08-04   372860001  0.119403  \n",
       "1        2020-08-04   554598003  0.225172  \n",
       "2        2020-08-04   727880001  0.049654  \n",
       "3        2020-08-04   698276009  0.082096  \n",
       "4        2020-08-04   778534004  0.105263  \n",
       "...             ...         ...       ...  \n",
       "18750425 2020-09-15   751471001  0.063091  \n",
       "18750426 2020-09-15   806388001  0.056782  \n",
       "18750427 2020-09-15   673396002  0.056782  \n",
       "18750428 2020-09-15   762846008  0.053628  \n",
       "18750429 2020-09-15   706016003  0.053628  \n",
       "\n",
       "[18750430 rows x 7 columns]"
      ]
     },
     "execution_count": 41,
     "metadata": {},
     "output_type": "execute_result"
    }
   ],
   "source": [
    "full_result"
   ]
  },
  {
   "cell_type": "code",
   "execution_count": 42,
   "id": "86a41892",
   "metadata": {
    "_cell_guid": "ef7e2cbb-fe1a-44d7-9a3e-69283f5eb08b",
    "_uuid": "bd61ab8e-d639-4c55-9481-ec966895a670",
    "collapsed": false,
    "execution": {
     "iopub.execute_input": "2022-03-28T07:12:00.051408Z",
     "iopub.status.busy": "2022-03-28T07:12:00.050646Z",
     "iopub.status.idle": "2022-03-28T07:12:00.112215Z",
     "shell.execute_reply": "2022-03-28T07:12:00.111775Z",
     "shell.execute_reply.started": "2022-03-28T07:04:16.229790Z"
    },
    "jupyter": {
     "outputs_hidden": false
    },
    "papermill": {
     "duration": 0.206774,
     "end_time": "2022-03-28T07:12:00.112332",
     "exception": false,
     "start_time": "2022-03-28T07:11:59.905558",
     "status": "completed"
    },
    "tags": []
   },
   "outputs": [],
   "source": [
    "full_result = full_result.merge(weekly_sales, on=['ldbw', 'article_id'], how = 'left')"
   ]
  },
  {
   "cell_type": "code",
   "execution_count": 43,
   "id": "1a4eabc4",
   "metadata": {
    "_cell_guid": "17292033-c633-439e-afc9-f95d9b383a05",
    "_uuid": "d4872528-d5e3-4078-80d2-7cc02775988a",
    "collapsed": false,
    "execution": {
     "iopub.execute_input": "2022-03-28T07:12:00.403708Z",
     "iopub.status.busy": "2022-03-28T07:12:00.402950Z",
     "iopub.status.idle": "2022-03-28T07:12:00.405380Z",
     "shell.execute_reply": "2022-03-28T07:12:00.404977Z",
     "shell.execute_reply.started": "2022-03-28T07:04:16.294426Z"
    },
    "jupyter": {
     "outputs_hidden": false
    },
    "papermill": {
     "duration": 0.151217,
     "end_time": "2022-03-28T07:12:00.405511",
     "exception": false,
     "start_time": "2022-03-28T07:12:00.254294",
     "status": "completed"
    },
    "tags": []
   },
   "outputs": [],
   "source": [
    "#full_result.drop([\"article_id\", \"from_id\", \"count\"], axis = 1, inplace = True)"
   ]
  },
  {
   "cell_type": "code",
   "execution_count": 44,
   "id": "74017d9b",
   "metadata": {
    "_cell_guid": "9b94f109-f533-4008-8e4a-7d09d5a830e2",
    "_uuid": "8c5c1f5b-448f-4c1f-aacf-bdadd372b414",
    "collapsed": false,
    "execution": {
     "iopub.execute_input": "2022-03-28T07:12:00.702988Z",
     "iopub.status.busy": "2022-03-28T07:12:00.702057Z",
     "iopub.status.idle": "2022-03-28T07:12:00.704034Z",
     "shell.execute_reply": "2022-03-28T07:12:00.704410Z",
     "shell.execute_reply.started": "2022-03-28T07:04:16.299347Z"
    },
    "jupyter": {
     "outputs_hidden": false
    },
    "papermill": {
     "duration": 0.154918,
     "end_time": "2022-03-28T07:12:00.704566",
     "exception": false,
     "start_time": "2022-03-28T07:12:00.549648",
     "status": "completed"
    },
    "tags": []
   },
   "outputs": [],
   "source": [
    "#full_result.dropna(inplace)"
   ]
  },
  {
   "cell_type": "code",
   "execution_count": 45,
   "id": "022415b3",
   "metadata": {
    "_cell_guid": "a41a07f7-899b-4233-b4e9-d5ec5acbd30a",
    "_uuid": "faa160ae-7200-4fe2-9959-eb5855b90c3c",
    "collapsed": false,
    "execution": {
     "iopub.execute_input": "2022-03-28T07:12:00.997362Z",
     "iopub.status.busy": "2022-03-28T07:12:00.996478Z",
     "iopub.status.idle": "2022-03-28T07:12:01.084072Z",
     "shell.execute_reply": "2022-03-28T07:12:01.083604Z",
     "shell.execute_reply.started": "2022-03-28T07:04:16.307395Z"
    },
    "jupyter": {
     "outputs_hidden": false
    },
    "papermill": {
     "duration": 0.235947,
     "end_time": "2022-03-28T07:12:01.084180",
     "exception": false,
     "start_time": "2022-03-28T07:12:00.848233",
     "status": "completed"
    },
    "tags": []
   },
   "outputs": [],
   "source": [
    "weekly_sales = weekly_sales.reset_index().set_index('article_id')\n",
    "\n",
    "full_result = full_result.merge(\n",
    "    weekly_sales.loc[weekly_sales['ldbw']==Last_date, ['count']],\n",
    "    on='article_id', suffixes=(\"\", \"_targ\"))\n",
    "\n",
    "full_result['count_targ'].fillna(0, inplace=True)"
   ]
  },
  {
   "cell_type": "code",
   "execution_count": 46,
   "id": "cca453bf",
   "metadata": {
    "_cell_guid": "a8fd499d-6b8b-44ef-b355-464934a2cea1",
    "_uuid": "32269869-dcd4-4efb-b262-24eea971d25b",
    "collapsed": false,
    "execution": {
     "iopub.execute_input": "2022-03-28T07:12:01.379897Z",
     "iopub.status.busy": "2022-03-28T07:12:01.379018Z",
     "iopub.status.idle": "2022-03-28T07:12:01.461613Z",
     "shell.execute_reply": "2022-03-28T07:12:01.462048Z",
     "shell.execute_reply.started": "2022-03-28T07:04:16.401100Z"
    },
    "jupyter": {
     "outputs_hidden": false
    },
    "papermill": {
     "duration": 0.231125,
     "end_time": "2022-03-28T07:12:01.462189",
     "exception": false,
     "start_time": "2022-03-28T07:12:01.231064",
     "status": "completed"
    },
    "tags": []
   },
   "outputs": [
    {
     "data": {
      "text/html": [
       "<div>\n",
       "<style scoped>\n",
       "    .dataframe tbody tr th:only-of-type {\n",
       "        vertical-align: middle;\n",
       "    }\n",
       "\n",
       "    .dataframe tbody tr th {\n",
       "        vertical-align: top;\n",
       "    }\n",
       "\n",
       "    .dataframe thead th {\n",
       "        text-align: right;\n",
       "    }\n",
       "</style>\n",
       "<table border=\"1\" class=\"dataframe\">\n",
       "  <thead>\n",
       "    <tr style=\"text-align: right;\">\n",
       "      <th></th>\n",
       "      <th>t_dat</th>\n",
       "      <th>customer_id</th>\n",
       "      <th>price_x</th>\n",
       "      <th>sales_channel_id_x</th>\n",
       "      <th>ldbw</th>\n",
       "      <th>article_id</th>\n",
       "      <th>ratio</th>\n",
       "      <th>count</th>\n",
       "      <th>price_y</th>\n",
       "      <th>sales_channel_id_y</th>\n",
       "      <th>count_targ</th>\n",
       "    </tr>\n",
       "  </thead>\n",
       "  <tbody>\n",
       "    <tr>\n",
       "      <th>0</th>\n",
       "      <td>2020-07-29</td>\n",
       "      <td>9036020549169584605</td>\n",
       "      <td>0.010153</td>\n",
       "      <td>1</td>\n",
       "      <td>2020-08-04</td>\n",
       "      <td>706016001</td>\n",
       "      <td>0.166667</td>\n",
       "      <td>386</td>\n",
       "      <td>386</td>\n",
       "      <td>386</td>\n",
       "      <td>453</td>\n",
       "    </tr>\n",
       "    <tr>\n",
       "      <th>1</th>\n",
       "      <td>2020-07-29</td>\n",
       "      <td>299826943718006741</td>\n",
       "      <td>0.030492</td>\n",
       "      <td>2</td>\n",
       "      <td>2020-08-04</td>\n",
       "      <td>888727010</td>\n",
       "      <td>0.153310</td>\n",
       "      <td>33</td>\n",
       "      <td>33</td>\n",
       "      <td>33</td>\n",
       "      <td>2</td>\n",
       "    </tr>\n",
       "    <tr>\n",
       "      <th>2</th>\n",
       "      <td>2020-07-29</td>\n",
       "      <td>8121479626439857397</td>\n",
       "      <td>0.006763</td>\n",
       "      <td>2</td>\n",
       "      <td>2020-08-04</td>\n",
       "      <td>610776002</td>\n",
       "      <td>0.100304</td>\n",
       "      <td>208</td>\n",
       "      <td>208</td>\n",
       "      <td>208</td>\n",
       "      <td>206</td>\n",
       "    </tr>\n",
       "    <tr>\n",
       "      <th>3</th>\n",
       "      <td>2020-07-29</td>\n",
       "      <td>-7421237547804269347</td>\n",
       "      <td>0.050831</td>\n",
       "      <td>2</td>\n",
       "      <td>2020-08-04</td>\n",
       "      <td>781613006</td>\n",
       "      <td>0.100412</td>\n",
       "      <td>117</td>\n",
       "      <td>117</td>\n",
       "      <td>117</td>\n",
       "      <td>239</td>\n",
       "    </tr>\n",
       "    <tr>\n",
       "      <th>4</th>\n",
       "      <td>2020-07-29</td>\n",
       "      <td>299826943718006741</td>\n",
       "      <td>0.042356</td>\n",
       "      <td>2</td>\n",
       "      <td>2020-08-04</td>\n",
       "      <td>741356002</td>\n",
       "      <td>0.107527</td>\n",
       "      <td>115</td>\n",
       "      <td>115</td>\n",
       "      <td>115</td>\n",
       "      <td>26</td>\n",
       "    </tr>\n",
       "    <tr>\n",
       "      <th>...</th>\n",
       "      <td>...</td>\n",
       "      <td>...</td>\n",
       "      <td>...</td>\n",
       "      <td>...</td>\n",
       "      <td>...</td>\n",
       "      <td>...</td>\n",
       "      <td>...</td>\n",
       "      <td>...</td>\n",
       "      <td>...</td>\n",
       "      <td>...</td>\n",
       "      <td>...</td>\n",
       "    </tr>\n",
       "    <tr>\n",
       "      <th>17558330</th>\n",
       "      <td>2020-09-15</td>\n",
       "      <td>5805583007194309794</td>\n",
       "      <td>0.021644</td>\n",
       "      <td>2</td>\n",
       "      <td>2020-09-15</td>\n",
       "      <td>572797002</td>\n",
       "      <td>0.044088</td>\n",
       "      <td>71</td>\n",
       "      <td>71</td>\n",
       "      <td>71</td>\n",
       "      <td>71</td>\n",
       "    </tr>\n",
       "    <tr>\n",
       "      <th>17558331</th>\n",
       "      <td>2020-09-15</td>\n",
       "      <td>-2366584440109364854</td>\n",
       "      <td>0.033881</td>\n",
       "      <td>2</td>\n",
       "      <td>2020-09-15</td>\n",
       "      <td>915526002</td>\n",
       "      <td>0.044762</td>\n",
       "      <td>219</td>\n",
       "      <td>219</td>\n",
       "      <td>219</td>\n",
       "      <td>219</td>\n",
       "    </tr>\n",
       "    <tr>\n",
       "      <th>17558332</th>\n",
       "      <td>2020-09-15</td>\n",
       "      <td>5593124014392184035</td>\n",
       "      <td>0.021593</td>\n",
       "      <td>1</td>\n",
       "      <td>2020-09-15</td>\n",
       "      <td>751471001</td>\n",
       "      <td>0.058824</td>\n",
       "      <td>607</td>\n",
       "      <td>607</td>\n",
       "      <td>607</td>\n",
       "      <td>607</td>\n",
       "    </tr>\n",
       "    <tr>\n",
       "      <th>17558333</th>\n",
       "      <td>2020-09-15</td>\n",
       "      <td>1088762013624463117</td>\n",
       "      <td>0.050831</td>\n",
       "      <td>2</td>\n",
       "      <td>2020-09-15</td>\n",
       "      <td>484398001</td>\n",
       "      <td>0.064039</td>\n",
       "      <td>10</td>\n",
       "      <td>10</td>\n",
       "      <td>10</td>\n",
       "      <td>10</td>\n",
       "    </tr>\n",
       "    <tr>\n",
       "      <th>17558334</th>\n",
       "      <td>2020-09-15</td>\n",
       "      <td>8207608848057591259</td>\n",
       "      <td>0.030492</td>\n",
       "      <td>1</td>\n",
       "      <td>2020-09-15</td>\n",
       "      <td>706016001</td>\n",
       "      <td>0.066927</td>\n",
       "      <td>453</td>\n",
       "      <td>453</td>\n",
       "      <td>453</td>\n",
       "      <td>453</td>\n",
       "    </tr>\n",
       "  </tbody>\n",
       "</table>\n",
       "<p>17558335 rows × 11 columns</p>\n",
       "</div>"
      ],
      "text/plain": [
       "              t_dat          customer_id   price_x  sales_channel_id_x  \\\n",
       "0        2020-07-29  9036020549169584605  0.010153                   1   \n",
       "1        2020-07-29   299826943718006741  0.030492                   2   \n",
       "2        2020-07-29  8121479626439857397  0.006763                   2   \n",
       "3        2020-07-29 -7421237547804269347  0.050831                   2   \n",
       "4        2020-07-29   299826943718006741  0.042356                   2   \n",
       "...             ...                  ...       ...                 ...   \n",
       "17558330 2020-09-15  5805583007194309794  0.021644                   2   \n",
       "17558331 2020-09-15 -2366584440109364854  0.033881                   2   \n",
       "17558332 2020-09-15  5593124014392184035  0.021593                   1   \n",
       "17558333 2020-09-15  1088762013624463117  0.050831                   2   \n",
       "17558334 2020-09-15  8207608848057591259  0.030492                   1   \n",
       "\n",
       "               ldbw  article_id     ratio  count  price_y  sales_channel_id_y  \\\n",
       "0        2020-08-04   706016001  0.166667    386      386                 386   \n",
       "1        2020-08-04   888727010  0.153310     33       33                  33   \n",
       "2        2020-08-04   610776002  0.100304    208      208                 208   \n",
       "3        2020-08-04   781613006  0.100412    117      117                 117   \n",
       "4        2020-08-04   741356002  0.107527    115      115                 115   \n",
       "...             ...         ...       ...    ...      ...                 ...   \n",
       "17558330 2020-09-15   572797002  0.044088     71       71                  71   \n",
       "17558331 2020-09-15   915526002  0.044762    219      219                 219   \n",
       "17558332 2020-09-15   751471001  0.058824    607      607                 607   \n",
       "17558333 2020-09-15   484398001  0.064039     10       10                  10   \n",
       "17558334 2020-09-15   706016001  0.066927    453      453                 453   \n",
       "\n",
       "          count_targ  \n",
       "0                453  \n",
       "1                  2  \n",
       "2                206  \n",
       "3                239  \n",
       "4                 26  \n",
       "...              ...  \n",
       "17558330          71  \n",
       "17558331         219  \n",
       "17558332         607  \n",
       "17558333          10  \n",
       "17558334         453  \n",
       "\n",
       "[17558335 rows x 11 columns]"
      ]
     },
     "execution_count": 46,
     "metadata": {},
     "output_type": "execute_result"
    }
   ],
   "source": [
    "full_result"
   ]
  },
  {
   "cell_type": "code",
   "execution_count": 47,
   "id": "8c9e6438",
   "metadata": {
    "_cell_guid": "e4f03f0e-d1a2-4efc-a167-d32019ddf872",
    "_uuid": "6a5cd0bb-03ca-4534-bbf7-5f1cd32c7e49",
    "collapsed": false,
    "execution": {
     "iopub.execute_input": "2022-03-28T07:12:01.753433Z",
     "iopub.status.busy": "2022-03-28T07:12:01.752663Z",
     "iopub.status.idle": "2022-03-28T07:12:01.758184Z",
     "shell.execute_reply": "2022-03-28T07:12:01.757761Z",
     "shell.execute_reply.started": "2022-03-28T07:04:16.491072Z"
    },
    "jupyter": {
     "outputs_hidden": false
    },
    "papermill": {
     "duration": 0.15319,
     "end_time": "2022-03-28T07:12:01.758291",
     "exception": false,
     "start_time": "2022-03-28T07:12:01.605101",
     "status": "completed"
    },
    "tags": []
   },
   "outputs": [],
   "source": [
    "full_result['quotient'] = full_result['count_targ'] / full_result['count']"
   ]
  },
  {
   "cell_type": "code",
   "execution_count": 48,
   "id": "e34fe5cf",
   "metadata": {
    "_cell_guid": "260ed538-7ea0-4f0f-9169-4fc9fb90ceb3",
    "_uuid": "e9b3e235-f63f-4e64-9300-bb4080403bff",
    "collapsed": false,
    "execution": {
     "iopub.execute_input": "2022-03-28T07:12:02.054567Z",
     "iopub.status.busy": "2022-03-28T07:12:02.053749Z",
     "iopub.status.idle": "2022-03-28T07:12:24.496676Z",
     "shell.execute_reply": "2022-03-28T07:12:24.497230Z",
     "shell.execute_reply.started": "2022-03-28T07:04:16.499591Z"
    },
    "jupyter": {
     "outputs_hidden": false
    },
    "papermill": {
     "duration": 22.594653,
     "end_time": "2022-03-28T07:12:24.497424",
     "exception": false,
     "start_time": "2022-03-28T07:12:01.902771",
     "status": "completed"
    },
    "tags": []
   },
   "outputs": [
    {
     "name": "stdout",
     "output_type": "stream",
     "text": [
      "CPU times: user 17.6 s, sys: 7.04 s, total: 24.7 s\n",
      "Wall time: 22.4 s\n"
     ]
    }
   ],
   "source": [
    "%%time\n",
    "purchase_dict = {}\n",
    "\n",
    "tmp = full_result.copy().to_pandas()\n",
    "tmp['x'] = ((Last_date - tmp['t_dat']) / np.timedelta64(1, 'D')).astype(int)\n",
    "tmp['dummy_1'] = 1 \n",
    "tmp['x'] = tmp[[\"x\", \"dummy_1\"]].max(axis=1)\n",
    "\n",
    "a, b, c, d = 2.5e4, 1.5e5, 2e-1, 1e3\n",
    "total = 1715530\n",
    "tmp['y'] = ((a / np.sqrt(tmp['x']) + b * np.exp(-c*tmp['x']) - d) / total +\\\n",
    "(a / np.sqrt(tmp['x']+1) + b * np.exp(-c*(tmp['x']+1)) - d) / total +\\\n",
    "(a / np.sqrt(tmp['x']+2) + b * np.exp(-c*(tmp['x']+2)) - d) / total +\\\n",
    "(a / np.sqrt(tmp['x']+3) + b * np.exp(-c*(tmp['x']+3)) - d) / total +\\\n",
    "(a / np.sqrt(tmp['x']+4) + b * np.exp(-c*(tmp['x']+4)) - d) / total +\\\n",
    "(a / np.sqrt(tmp['x']+5) + b * np.exp(-c*(tmp['x']+5)) - d) / total +\\\n",
    "(a / np.sqrt(tmp['x']+6) + b * np.exp(-c*(tmp['x']+6)) - d) / total)\n",
    "\n",
    "tmp['dummy_0'] = 0 \n",
    "tmp['y'] = tmp[[\"y\", \"dummy_0\"]].max(axis=1)\n",
    "tmp['score'] = tmp['quotient'] * tmp['y'] * tmp[\"ratio\"]\n",
    "\n",
    "tmp = tmp.groupby(['customer_id', 'article_id']).agg({'score': 'sum'})\n",
    "tmp = tmp.reset_index()\n",
    "\n",
    "tmp = tmp.loc[tmp['score'] > 0]\n",
    "tmp['rank'] = tmp.groupby(\"customer_id\")[\"score\"].rank(\"dense\", ascending=False)\n",
    "tmp = tmp.loc[tmp['rank'] <= 12]\n",
    "tmp[\"source\"] = 2\n",
    "\n",
    "result2 = tmp[[\"customer_id\", \"article_id\", \"source\", \"score\", \"rank\"]]"
   ]
  },
  {
   "cell_type": "code",
   "execution_count": 49,
   "id": "80a1e296",
   "metadata": {
    "_cell_guid": "a1c88f16-7ee7-4f8f-914a-95a25add22b6",
    "_uuid": "16adb038-8a6d-4e50-a466-b0011a6787e3",
    "collapsed": false,
    "execution": {
     "iopub.execute_input": "2022-03-28T07:12:24.784109Z",
     "iopub.status.busy": "2022-03-28T07:12:24.783429Z",
     "iopub.status.idle": "2022-03-28T07:12:24.786108Z",
     "shell.execute_reply": "2022-03-28T07:12:24.785687Z",
     "shell.execute_reply.started": "2022-03-28T07:04:38.911585Z"
    },
    "jupyter": {
     "outputs_hidden": false
    },
    "papermill": {
     "duration": 0.146533,
     "end_time": "2022-03-28T07:12:24.786211",
     "exception": false,
     "start_time": "2022-03-28T07:12:24.639678",
     "status": "completed"
    },
    "tags": []
   },
   "outputs": [],
   "source": [
    "#result2.to_csv(\"result2.csv\", index = False)"
   ]
  },
  {
   "cell_type": "code",
   "execution_count": 50,
   "id": "49aa9191",
   "metadata": {
    "_cell_guid": "d83f7cfd-a6d0-403c-9f3f-c7fe1dba58b6",
    "_uuid": "73527a50-5428-40cc-b834-1fb7eca3bf56",
    "collapsed": false,
    "execution": {
     "iopub.execute_input": "2022-03-28T07:12:25.210395Z",
     "iopub.status.busy": "2022-03-28T07:12:25.209752Z",
     "iopub.status.idle": "2022-03-28T07:12:25.215516Z",
     "shell.execute_reply": "2022-03-28T07:12:25.215064Z",
     "shell.execute_reply.started": "2022-03-28T07:04:38.919686Z"
    },
    "jupyter": {
     "outputs_hidden": false
    },
    "papermill": {
     "duration": 0.288112,
     "end_time": "2022-03-28T07:12:25.215652",
     "exception": false,
     "start_time": "2022-03-28T07:12:24.927540",
     "status": "completed"
    },
    "tags": []
   },
   "outputs": [
    {
     "data": {
      "text/plain": [
       "42"
      ]
     },
     "execution_count": 50,
     "metadata": {},
     "output_type": "execute_result"
    }
   ],
   "source": [
    "del tmp\n",
    "del df\n",
    "del full_result\n",
    "gc.collect()"
   ]
  },
  {
   "cell_type": "code",
   "execution_count": 51,
   "id": "560da365",
   "metadata": {
    "_cell_guid": "87296a64-ae39-488a-a517-fd61510c2aab",
    "_uuid": "43722243-4987-498c-a903-1cbc41421af2",
    "collapsed": false,
    "execution": {
     "iopub.execute_input": "2022-03-28T07:12:25.503311Z",
     "iopub.status.busy": "2022-03-28T07:12:25.502530Z",
     "iopub.status.idle": "2022-03-28T07:12:25.504535Z",
     "shell.execute_reply": "2022-03-28T07:12:25.504911Z",
     "shell.execute_reply.started": "2022-03-28T07:04:39.063863Z"
    },
    "jupyter": {
     "outputs_hidden": false
    },
    "papermill": {
     "duration": 0.146442,
     "end_time": "2022-03-28T07:12:25.505040",
     "exception": false,
     "start_time": "2022-03-28T07:12:25.358598",
     "status": "completed"
    },
    "tags": []
   },
   "outputs": [],
   "source": [
    "#relation_data.to_csv(\"/kaggle/working/relation_data.csv\", index = False)"
   ]
  },
  {
   "cell_type": "code",
   "execution_count": 52,
   "id": "be3f9ead",
   "metadata": {
    "_cell_guid": "db9c575d-7371-49ab-b29e-90c07795d63e",
    "_uuid": "87951b6a-89c6-4c93-8801-6a6067e0a2d2",
    "collapsed": false,
    "execution": {
     "iopub.execute_input": "2022-03-28T07:12:25.791445Z",
     "iopub.status.busy": "2022-03-28T07:12:25.790635Z",
     "iopub.status.idle": "2022-03-28T07:12:25.792976Z",
     "shell.execute_reply": "2022-03-28T07:12:25.792550Z",
     "shell.execute_reply.started": "2022-03-28T07:04:39.070187Z"
    },
    "jupyter": {
     "outputs_hidden": false
    },
    "papermill": {
     "duration": 0.147372,
     "end_time": "2022-03-28T07:12:25.793080",
     "exception": false,
     "start_time": "2022-03-28T07:12:25.645708",
     "status": "completed"
    },
    "tags": []
   },
   "outputs": [],
   "source": [
    "# items = cudf.read_csv('../input/h-and-m-personalized-fashion-recommendations/articles.csv')\n",
    "# BASE = '../input/h-and-m-personalized-fashion-recommendations/images/'\n",
    "\n",
    "# for i,(k,v) in enumerate( pairs.items() ):\n",
    "#     name1 = BASE+'0'+str(k)[:2]+'/0'+str(k)+'.jpg'\n",
    "#     name2 = BASE+'0'+str(v[0])[:2]+'/0'+str(v[0])+'.jpg'\n",
    "#     name3 = BASE+'0'+str(v[1])[:2]+'/0'+str(v[1])+'.jpg'\n",
    "#     name4 = BASE+'0'+str(v[2])[:2]+'/0'+str(v[2])+'.jpg'\n",
    "#     if exists(name1) & exists(name2) & exists(name3) & exists(name4):\n",
    "#         plt.figure(figsize=(20,5))\n",
    "#         img1 = cv2.imread(name1)[:,:,::-1]\n",
    "#         img2 = cv2.imread(name2)[:,:,::-1]\n",
    "#         img3 = cv2.imread(name3)[:,:,::-1]\n",
    "#         img4 = cv2.imread(name4)[:,:,::-1]\n",
    "#         plt.subplot(1,4,1)\n",
    "#         plt.title('When customers buy this',size=18)\n",
    "#         plt.imshow(img1)\n",
    "#         plt.subplot(1,4,2)\n",
    "#         plt.title('They buy this',size=18)\n",
    "#         plt.imshow(img2)\n",
    "#         plt.subplot(1,4,3)\n",
    "#         plt.title('They buy this',size=18)\n",
    "#         plt.imshow(img3)\n",
    "#         plt.subplot(1,4,4)\n",
    "#         plt.title('They buy this',size=18)\n",
    "#         plt.imshow(img4)\n",
    "#         plt.show()\n",
    "#     #if i==63: break"
   ]
  },
  {
   "cell_type": "code",
   "execution_count": 53,
   "id": "525a7c0d",
   "metadata": {
    "_cell_guid": "c5e4e9e8-3a40-4d28-9797-89cd87e7b962",
    "_uuid": "aa27b491-dec0-486b-8a6b-4d4af46707c6",
    "collapsed": false,
    "execution": {
     "iopub.execute_input": "2022-03-28T07:12:26.083948Z",
     "iopub.status.busy": "2022-03-28T07:12:26.083101Z",
     "iopub.status.idle": "2022-03-28T07:12:26.093650Z",
     "shell.execute_reply": "2022-03-28T07:12:26.093196Z",
     "shell.execute_reply.started": "2022-03-28T07:04:39.078912Z"
    },
    "jupyter": {
     "outputs_hidden": false
    },
    "papermill": {
     "duration": 0.159177,
     "end_time": "2022-03-28T07:12:26.093762",
     "exception": false,
     "start_time": "2022-03-28T07:12:25.934585",
     "status": "completed"
    },
    "tags": []
   },
   "outputs": [
    {
     "data": {
      "text/html": [
       "<div>\n",
       "<style scoped>\n",
       "    .dataframe tbody tr th:only-of-type {\n",
       "        vertical-align: middle;\n",
       "    }\n",
       "\n",
       "    .dataframe tbody tr th {\n",
       "        vertical-align: top;\n",
       "    }\n",
       "\n",
       "    .dataframe thead th {\n",
       "        text-align: right;\n",
       "    }\n",
       "</style>\n",
       "<table border=\"1\" class=\"dataframe\">\n",
       "  <thead>\n",
       "    <tr style=\"text-align: right;\">\n",
       "      <th></th>\n",
       "      <th>customer_id</th>\n",
       "      <th>article_id</th>\n",
       "      <th>source</th>\n",
       "      <th>score</th>\n",
       "      <th>rank</th>\n",
       "    </tr>\n",
       "  </thead>\n",
       "  <tbody>\n",
       "    <tr>\n",
       "      <th>0</th>\n",
       "      <td>-9223352921020755230</td>\n",
       "      <td>156231001</td>\n",
       "      <td>2</td>\n",
       "      <td>0.002209</td>\n",
       "      <td>12.0</td>\n",
       "    </tr>\n",
       "    <tr>\n",
       "      <th>1</th>\n",
       "      <td>-9223352921020755230</td>\n",
       "      <td>372860001</td>\n",
       "      <td>2</td>\n",
       "      <td>0.003020</td>\n",
       "      <td>8.0</td>\n",
       "    </tr>\n",
       "    <tr>\n",
       "      <th>2</th>\n",
       "      <td>-9223352921020755230</td>\n",
       "      <td>372860002</td>\n",
       "      <td>2</td>\n",
       "      <td>0.002471</td>\n",
       "      <td>11.0</td>\n",
       "    </tr>\n",
       "    <tr>\n",
       "      <th>3</th>\n",
       "      <td>-9223352921020755230</td>\n",
       "      <td>448509014</td>\n",
       "      <td>2</td>\n",
       "      <td>0.003171</td>\n",
       "      <td>7.0</td>\n",
       "    </tr>\n",
       "    <tr>\n",
       "      <th>5</th>\n",
       "      <td>-9223352921020755230</td>\n",
       "      <td>562245046</td>\n",
       "      <td>2</td>\n",
       "      <td>0.002872</td>\n",
       "      <td>9.0</td>\n",
       "    </tr>\n",
       "    <tr>\n",
       "      <th>...</th>\n",
       "      <td>...</td>\n",
       "      <td>...</td>\n",
       "      <td>...</td>\n",
       "      <td>...</td>\n",
       "      <td>...</td>\n",
       "    </tr>\n",
       "    <tr>\n",
       "      <th>10385327</th>\n",
       "      <td>9223144259947635662</td>\n",
       "      <td>719957006</td>\n",
       "      <td>2</td>\n",
       "      <td>0.008230</td>\n",
       "      <td>12.0</td>\n",
       "    </tr>\n",
       "    <tr>\n",
       "      <th>10385329</th>\n",
       "      <td>9223144259947635662</td>\n",
       "      <td>720504004</td>\n",
       "      <td>2</td>\n",
       "      <td>0.021830</td>\n",
       "      <td>2.0</td>\n",
       "    </tr>\n",
       "    <tr>\n",
       "      <th>10385330</th>\n",
       "      <td>9223144259947635662</td>\n",
       "      <td>720504007</td>\n",
       "      <td>2</td>\n",
       "      <td>0.016236</td>\n",
       "      <td>5.0</td>\n",
       "    </tr>\n",
       "    <tr>\n",
       "      <th>10385333</th>\n",
       "      <td>9223144259947635662</td>\n",
       "      <td>730863005</td>\n",
       "      <td>2</td>\n",
       "      <td>0.014194</td>\n",
       "      <td>6.0</td>\n",
       "    </tr>\n",
       "    <tr>\n",
       "      <th>10385339</th>\n",
       "      <td>9223144259947635662</td>\n",
       "      <td>749699001</td>\n",
       "      <td>2</td>\n",
       "      <td>0.009977</td>\n",
       "      <td>8.0</td>\n",
       "    </tr>\n",
       "  </tbody>\n",
       "</table>\n",
       "<p>4005628 rows × 5 columns</p>\n",
       "</div>"
      ],
      "text/plain": [
       "                  customer_id  article_id  source     score  rank\n",
       "0        -9223352921020755230   156231001       2  0.002209  12.0\n",
       "1        -9223352921020755230   372860001       2  0.003020   8.0\n",
       "2        -9223352921020755230   372860002       2  0.002471  11.0\n",
       "3        -9223352921020755230   448509014       2  0.003171   7.0\n",
       "5        -9223352921020755230   562245046       2  0.002872   9.0\n",
       "...                       ...         ...     ...       ...   ...\n",
       "10385327  9223144259947635662   719957006       2  0.008230  12.0\n",
       "10385329  9223144259947635662   720504004       2  0.021830   2.0\n",
       "10385330  9223144259947635662   720504007       2  0.016236   5.0\n",
       "10385333  9223144259947635662   730863005       2  0.014194   6.0\n",
       "10385339  9223144259947635662   749699001       2  0.009977   8.0\n",
       "\n",
       "[4005628 rows x 5 columns]"
      ]
     },
     "execution_count": 53,
     "metadata": {},
     "output_type": "execute_result"
    }
   ],
   "source": [
    "result2"
   ]
  },
  {
   "cell_type": "markdown",
   "id": "0ca7443c",
   "metadata": {
    "_cell_guid": "317b622d-d667-4412-a89c-d9ca0ca05dff",
    "_uuid": "584c8ab9-2095-4992-bd33-2882f36da59c",
    "editable": false,
    "papermill": {
     "duration": 0.142313,
     "end_time": "2022-03-28T07:12:26.383257",
     "exception": false,
     "start_time": "2022-03-28T07:12:26.240944",
     "status": "completed"
    },
    "tags": []
   },
   "source": [
    "## 第三路：分层上周热门（+趋势）"
   ]
  },
  {
   "cell_type": "code",
   "execution_count": 54,
   "id": "07f4f7a7",
   "metadata": {
    "_cell_guid": "315eedef-347c-4be3-a7cb-2dc48bd982a5",
    "_uuid": "6d5dbd7a-4aab-42ab-8260-ab9d09dcaf8a",
    "collapsed": false,
    "execution": {
     "iopub.execute_input": "2022-03-28T07:12:26.675374Z",
     "iopub.status.busy": "2022-03-28T07:12:26.674613Z",
     "iopub.status.idle": "2022-03-28T07:12:34.054881Z",
     "shell.execute_reply": "2022-03-28T07:12:34.054077Z",
     "shell.execute_reply.started": "2022-03-28T07:04:39.099396Z"
    },
    "jupyter": {
     "outputs_hidden": false
    },
    "papermill": {
     "duration": 7.52975,
     "end_time": "2022-03-28T07:12:34.055037",
     "exception": false,
     "start_time": "2022-03-28T07:12:26.525287",
     "status": "completed"
    },
    "tags": []
   },
   "outputs": [
    {
     "name": "stdout",
     "output_type": "stream",
     "text": [
      "Requirement already satisfied: cudf in /opt/conda/lib/python3.7/site-packages (21.10.1)\r\n",
      "Requirement already satisfied: numba>=0.53.1 in /opt/conda/lib/python3.7/site-packages (from cudf) (0.54.1)\r\n",
      "Requirement already satisfied: Cython<0.30,>=0.29 in /opt/conda/lib/python3.7/site-packages (from cudf) (0.29.28)\r\n",
      "Requirement already satisfied: fastavro>=0.22.9 in /opt/conda/lib/python3.7/site-packages (from cudf) (1.4.9)\r\n",
      "Requirement already satisfied: fsspec>=0.6.0 in /opt/conda/lib/python3.7/site-packages (from cudf) (2022.2.0)\r\n",
      "Requirement already satisfied: numpy in /opt/conda/lib/python3.7/site-packages (from cudf) (1.20.3)\r\n",
      "Requirement already satisfied: pandas<1.4.0dev0,>=1.0 in /opt/conda/lib/python3.7/site-packages (from cudf) (1.3.5)\r\n",
      "Requirement already satisfied: typing_extensions in /opt/conda/lib/python3.7/site-packages (from cudf) (4.1.1)\r\n",
      "Requirement already satisfied: protobuf in /opt/conda/lib/python3.7/site-packages (from cudf) (3.19.1)\r\n",
      "Requirement already satisfied: nvtx>=0.2.1 in /opt/conda/lib/python3.7/site-packages (from cudf) (0.2.3)\r\n",
      "Requirement already satisfied: cachetools in /opt/conda/lib/python3.7/site-packages (from cudf) (4.2.4)\r\n",
      "Requirement already satisfied: packaging in /opt/conda/lib/python3.7/site-packages (from cudf) (21.3)\r\n",
      "Requirement already satisfied: cupy-cuda110 in /opt/conda/lib/python3.7/site-packages (from cudf) (10.2.0)\r\n",
      "Requirement already satisfied: setuptools in /opt/conda/lib/python3.7/site-packages (from numba>=0.53.1->cudf) (59.5.0)\r\n",
      "Requirement already satisfied: llvmlite<0.38,>=0.37.0rc1 in /opt/conda/lib/python3.7/site-packages (from numba>=0.53.1->cudf) (0.37.0)\r\n",
      "Requirement already satisfied: python-dateutil>=2.7.3 in /opt/conda/lib/python3.7/site-packages (from pandas<1.4.0dev0,>=1.0->cudf) (2.8.2)\r\n",
      "Requirement already satisfied: pytz>=2017.3 in /opt/conda/lib/python3.7/site-packages (from pandas<1.4.0dev0,>=1.0->cudf) (2021.3)\r\n",
      "Requirement already satisfied: fastrlock>=0.5 in /opt/conda/lib/python3.7/site-packages (from cupy-cuda110->cudf) (0.8)\r\n",
      "Requirement already satisfied: pyparsing!=3.0.5,>=2.0.2 in /opt/conda/lib/python3.7/site-packages (from packaging->cudf) (3.0.6)\r\n",
      "Requirement already satisfied: six>=1.5 in /opt/conda/lib/python3.7/site-packages (from python-dateutil>=2.7.3->pandas<1.4.0dev0,>=1.0->cudf) (1.16.0)\r\n",
      "\u001b[33mWARNING: Running pip as the 'root' user can result in broken permissions and conflicting behaviour with the system package manager. It is recommended to use a virtual environment instead: https://pip.pypa.io/warnings/venv\u001b[0m\r\n"
     ]
    }
   ],
   "source": [
    "!pip install cudf\n",
    "import numpy as np\n",
    "import pandas as pd \n",
    "from datetime import datetime, timedelta\n",
    "import gc\n",
    "import cudf\n",
    "import cv2, matplotlib.pyplot as plt\n",
    "from os.path import exists"
   ]
  },
  {
   "cell_type": "code",
   "execution_count": 55,
   "id": "3510690e",
   "metadata": {
    "_cell_guid": "22f0bbec-032a-49ba-98a7-7f0d667a1b7d",
    "_uuid": "ce3d97b4-5a90-4603-a491-974a446b3711",
    "collapsed": false,
    "execution": {
     "iopub.execute_input": "2022-03-28T07:12:34.346531Z",
     "iopub.status.busy": "2022-03-28T07:12:34.345530Z",
     "iopub.status.idle": "2022-03-28T07:12:34.347799Z",
     "shell.execute_reply": "2022-03-28T07:12:34.347288Z",
     "shell.execute_reply.started": "2022-03-28T07:04:46.282251Z"
    },
    "jupyter": {
     "outputs_hidden": false
    },
    "papermill": {
     "duration": 0.149456,
     "end_time": "2022-03-28T07:12:34.347906",
     "exception": false,
     "start_time": "2022-03-28T07:12:34.198450",
     "status": "completed"
    },
    "tags": []
   },
   "outputs": [],
   "source": [
    "# # LOAD TRANSACTIONS DATAFRAME\n",
    "# df = cudf.read_csv('../input/h-and-m-personalized-fashion-recommendations/transactions_train.csv')\n",
    "# print('Transactions shape',df.shape)\n",
    "# display( df.head() )\n",
    "\n",
    "# # REDUCE MEMORY OF DATAFRAME\n",
    "# df = df[['t_dat','customer_id','article_id']]\n",
    "# df.customer_id = df.customer_id.str[-16:].str.hex_to_int().astype('int64')\n",
    "# df.article_id = df.article_id.astype('int32')\n",
    "# df.t_dat = cudf.to_datetime(df.t_dat)\n",
    "# _ = gc.collect()"
   ]
  },
  {
   "cell_type": "code",
   "execution_count": 56,
   "id": "1956e553",
   "metadata": {
    "_cell_guid": "cb454618-33c2-47b3-af3b-cdf3257fff1f",
    "_uuid": "bc87cf18-1345-474d-a9c2-d392f881fb60",
    "collapsed": false,
    "execution": {
     "iopub.execute_input": "2022-03-28T07:12:34.642529Z",
     "iopub.status.busy": "2022-03-28T07:12:34.641720Z",
     "iopub.status.idle": "2022-03-28T07:12:34.646670Z",
     "shell.execute_reply": "2022-03-28T07:12:34.646244Z",
     "shell.execute_reply.started": "2022-03-28T07:04:46.289233Z"
    },
    "jupyter": {
     "outputs_hidden": false
    },
    "papermill": {
     "duration": 0.15377,
     "end_time": "2022-03-28T07:12:34.646783",
     "exception": false,
     "start_time": "2022-03-28T07:12:34.493013",
     "status": "completed"
    },
    "tags": []
   },
   "outputs": [],
   "source": [
    "df = train.copy()"
   ]
  },
  {
   "cell_type": "code",
   "execution_count": 57,
   "id": "89ce7a8a",
   "metadata": {
    "_cell_guid": "5b9b99fc-c415-4ca7-9bc9-4358689c36a3",
    "_uuid": "838b9b11-b1d3-416e-acd4-2b934dfffae2",
    "collapsed": false,
    "execution": {
     "iopub.execute_input": "2022-03-28T07:12:34.947468Z",
     "iopub.status.busy": "2022-03-28T07:12:34.946198Z",
     "iopub.status.idle": "2022-03-28T07:12:37.387353Z",
     "shell.execute_reply": "2022-03-28T07:12:37.386881Z",
     "shell.execute_reply.started": "2022-03-28T07:04:46.303078Z"
    },
    "jupyter": {
     "outputs_hidden": false
    },
    "papermill": {
     "duration": 2.596328,
     "end_time": "2022-03-28T07:12:37.387483",
     "exception": false,
     "start_time": "2022-03-28T07:12:34.791155",
     "status": "completed"
    },
    "tags": []
   },
   "outputs": [],
   "source": [
    "customer = cudf.read_csv('../input/h-and-m-personalized-fashion-recommendations/customers.csv')\n",
    "customer.customer_id = customer.customer_id.str[-16:].str.hex_to_int().astype('int64')"
   ]
  },
  {
   "cell_type": "code",
   "execution_count": 58,
   "id": "69b2ac6c",
   "metadata": {
    "_cell_guid": "b17079b9-205e-486f-87e6-b08e9da48999",
    "_uuid": "4fdd1c70-b5cb-4a2f-84ab-c88fc14584ae",
    "collapsed": false,
    "execution": {
     "iopub.execute_input": "2022-03-28T07:12:37.700761Z",
     "iopub.status.busy": "2022-03-28T07:12:37.699973Z",
     "iopub.status.idle": "2022-03-28T07:12:37.939731Z",
     "shell.execute_reply": "2022-03-28T07:12:37.939221Z",
     "shell.execute_reply.started": "2022-03-28T07:04:48.958588Z"
    },
    "jupyter": {
     "outputs_hidden": false
    },
    "papermill": {
     "duration": 0.409328,
     "end_time": "2022-03-28T07:12:37.939852",
     "exception": false,
     "start_time": "2022-03-28T07:12:37.530524",
     "status": "completed"
    },
    "tags": []
   },
   "outputs": [],
   "source": [
    "sales = cudf.merge(df, customer, on = \"customer_id\", how = 'left')\n",
    "sales = sales[sales.t_dat >= Date_week1]"
   ]
  },
  {
   "cell_type": "code",
   "execution_count": 59,
   "id": "9e65d7cb",
   "metadata": {
    "_cell_guid": "2e0582e2-7688-47db-a665-911dce825218",
    "_uuid": "a46cf55c-be1b-4397-ba31-e8ff758cc600",
    "collapsed": false,
    "execution": {
     "iopub.execute_input": "2022-03-28T07:12:38.231268Z",
     "iopub.status.busy": "2022-03-28T07:12:38.230546Z",
     "iopub.status.idle": "2022-03-28T07:12:38.249015Z",
     "shell.execute_reply": "2022-03-28T07:12:38.248531Z",
     "shell.execute_reply.started": "2022-03-28T07:04:49.221838Z"
    },
    "jupyter": {
     "outputs_hidden": false
    },
    "papermill": {
     "duration": 0.165342,
     "end_time": "2022-03-28T07:12:38.249129",
     "exception": false,
     "start_time": "2022-03-28T07:12:38.083787",
     "status": "completed"
    },
    "tags": []
   },
   "outputs": [],
   "source": [
    "sales = sales.fillna(0)"
   ]
  },
  {
   "cell_type": "code",
   "execution_count": 60,
   "id": "2ffb2f74",
   "metadata": {
    "_cell_guid": "8965aabd-1ea7-412a-a6d6-3adc5ddd775d",
    "_uuid": "f1ee2984-f158-4ed9-b78f-cfe49c692208",
    "collapsed": false,
    "execution": {
     "iopub.execute_input": "2022-03-28T07:12:38.539947Z",
     "iopub.status.busy": "2022-03-28T07:12:38.539154Z",
     "iopub.status.idle": "2022-03-28T07:12:38.857206Z",
     "shell.execute_reply": "2022-03-28T07:12:38.856231Z",
     "shell.execute_reply.started": "2022-03-28T07:04:49.312560Z"
    },
    "jupyter": {
     "outputs_hidden": false
    },
    "papermill": {
     "duration": 0.464136,
     "end_time": "2022-03-28T07:12:38.857358",
     "exception": false,
     "start_time": "2022-03-28T07:12:38.393222",
     "status": "completed"
    },
    "tags": []
   },
   "outputs": [
    {
     "data": {
      "text/plain": [
       "<AxesSubplot:>"
      ]
     },
     "execution_count": 60,
     "metadata": {},
     "output_type": "execute_result"
    },
    {
     "data": {
      "image/png": "[encoded data removed]",
      "text/plain": [
       "<Figure size 432x288 with 1 Axes>"
      ]
     },
     "metadata": {
      "needs_background": "light"
     },
     "output_type": "display_data"
    }
   ],
   "source": [
    "sales.to_pandas()[\"age\"].hist()"
   ]
  },
  {
   "cell_type": "code",
   "execution_count": 61,
   "id": "0a61e9dd",
   "metadata": {
    "_cell_guid": "923c1cf2-30fb-453b-a208-c8727e68271e",
    "_uuid": "0dd7d8cd-e867-4aee-a201-60db3ea62fea",
    "collapsed": false,
    "execution": {
     "iopub.execute_input": "2022-03-28T07:12:39.165502Z",
     "iopub.status.busy": "2022-03-28T07:12:39.164966Z",
     "iopub.status.idle": "2022-03-28T07:12:39.239315Z",
     "shell.execute_reply": "2022-03-28T07:12:39.239749Z",
     "shell.execute_reply.started": "2022-03-28T07:04:49.637510Z"
    },
    "jupyter": {
     "outputs_hidden": false
    },
    "papermill": {
     "duration": 0.235254,
     "end_time": "2022-03-28T07:12:39.239887",
     "exception": false,
     "start_time": "2022-03-28T07:12:39.004633",
     "status": "completed"
    },
    "tags": []
   },
   "outputs": [
    {
     "data": {
      "text/html": [
       "<div>\n",
       "<style scoped>\n",
       "    .dataframe tbody tr th:only-of-type {\n",
       "        vertical-align: middle;\n",
       "    }\n",
       "\n",
       "    .dataframe tbody tr th {\n",
       "        vertical-align: top;\n",
       "    }\n",
       "\n",
       "    .dataframe thead th {\n",
       "        text-align: right;\n",
       "    }\n",
       "</style>\n",
       "<table border=\"1\" class=\"dataframe\">\n",
       "  <thead>\n",
       "    <tr style=\"text-align: right;\">\n",
       "      <th></th>\n",
       "      <th>t_dat</th>\n",
       "      <th>customer_id</th>\n",
       "      <th>article_id</th>\n",
       "      <th>price</th>\n",
       "      <th>sales_channel_id</th>\n",
       "      <th>FN</th>\n",
       "      <th>Active</th>\n",
       "      <th>club_member_status</th>\n",
       "      <th>fashion_news_frequency</th>\n",
       "      <th>age</th>\n",
       "      <th>postal_code</th>\n",
       "    </tr>\n",
       "  </thead>\n",
       "  <tbody>\n",
       "    <tr>\n",
       "      <th>31269184</th>\n",
       "      <td>2020-09-09</td>\n",
       "      <td>-2156777441294618063</td>\n",
       "      <td>685814005</td>\n",
       "      <td>0.033881</td>\n",
       "      <td>2</td>\n",
       "      <td>1.0</td>\n",
       "      <td>1.0</td>\n",
       "      <td>ACTIVE</td>\n",
       "      <td>Regularly</td>\n",
       "      <td>29.0</td>\n",
       "      <td>17d0433ebad432976929d99192315d2479bfb7696af1d2...</td>\n",
       "    </tr>\n",
       "    <tr>\n",
       "      <th>31269185</th>\n",
       "      <td>2020-09-09</td>\n",
       "      <td>-6489422566283592999</td>\n",
       "      <td>865240002</td>\n",
       "      <td>0.008458</td>\n",
       "      <td>1</td>\n",
       "      <td>0.0</td>\n",
       "      <td>0.0</td>\n",
       "      <td>ACTIVE</td>\n",
       "      <td>NONE</td>\n",
       "      <td>27.0</td>\n",
       "      <td>09b4c331056fc94bc83a021f44470ea9e859209123e09f...</td>\n",
       "    </tr>\n",
       "    <tr>\n",
       "      <th>31269186</th>\n",
       "      <td>2020-09-09</td>\n",
       "      <td>-7761469595989510297</td>\n",
       "      <td>868641002</td>\n",
       "      <td>0.033881</td>\n",
       "      <td>2</td>\n",
       "      <td>1.0</td>\n",
       "      <td>1.0</td>\n",
       "      <td>ACTIVE</td>\n",
       "      <td>Regularly</td>\n",
       "      <td>22.0</td>\n",
       "      <td>64c420881b31267fd17d03e2aafac8e9ef0bae5a115446...</td>\n",
       "    </tr>\n",
       "    <tr>\n",
       "      <th>31269187</th>\n",
       "      <td>2020-09-09</td>\n",
       "      <td>-2912203858579140439</td>\n",
       "      <td>867966010</td>\n",
       "      <td>0.033881</td>\n",
       "      <td>2</td>\n",
       "      <td>1.0</td>\n",
       "      <td>1.0</td>\n",
       "      <td>ACTIVE</td>\n",
       "      <td>Regularly</td>\n",
       "      <td>24.0</td>\n",
       "      <td>e42c4f19dc1b95b82eae4d77106924e07fef6c5c1dd4c3...</td>\n",
       "    </tr>\n",
       "    <tr>\n",
       "      <th>31269188</th>\n",
       "      <td>2020-09-09</td>\n",
       "      <td>-2156777441294618063</td>\n",
       "      <td>896343002</td>\n",
       "      <td>0.033881</td>\n",
       "      <td>2</td>\n",
       "      <td>1.0</td>\n",
       "      <td>1.0</td>\n",
       "      <td>ACTIVE</td>\n",
       "      <td>Regularly</td>\n",
       "      <td>29.0</td>\n",
       "      <td>17d0433ebad432976929d99192315d2479bfb7696af1d2...</td>\n",
       "    </tr>\n",
       "    <tr>\n",
       "      <th>...</th>\n",
       "      <td>...</td>\n",
       "      <td>...</td>\n",
       "      <td>...</td>\n",
       "      <td>...</td>\n",
       "      <td>...</td>\n",
       "      <td>...</td>\n",
       "      <td>...</td>\n",
       "      <td>...</td>\n",
       "      <td>...</td>\n",
       "      <td>...</td>\n",
       "      <td>...</td>\n",
       "    </tr>\n",
       "    <tr>\n",
       "      <th>31548008</th>\n",
       "      <td>2020-09-15</td>\n",
       "      <td>-6548724319026074057</td>\n",
       "      <td>780314001</td>\n",
       "      <td>0.067780</td>\n",
       "      <td>2</td>\n",
       "      <td>0.0</td>\n",
       "      <td>0.0</td>\n",
       "      <td>ACTIVE</td>\n",
       "      <td>NONE</td>\n",
       "      <td>26.0</td>\n",
       "      <td>39d90bfe73e5f0bc0a58bca8fc789182955d059fb79009...</td>\n",
       "    </tr>\n",
       "    <tr>\n",
       "      <th>31548009</th>\n",
       "      <td>2020-09-15</td>\n",
       "      <td>-7010773389724270175</td>\n",
       "      <td>706016002</td>\n",
       "      <td>0.033881</td>\n",
       "      <td>1</td>\n",
       "      <td>1.0</td>\n",
       "      <td>1.0</td>\n",
       "      <td>ACTIVE</td>\n",
       "      <td>Regularly</td>\n",
       "      <td>21.0</td>\n",
       "      <td>2020d6a589f9878e20886e17483107cac447bdbb31b19c...</td>\n",
       "    </tr>\n",
       "    <tr>\n",
       "      <th>31548010</th>\n",
       "      <td>2020-09-15</td>\n",
       "      <td>-6548724319026074057</td>\n",
       "      <td>875272003</td>\n",
       "      <td>0.050831</td>\n",
       "      <td>2</td>\n",
       "      <td>0.0</td>\n",
       "      <td>0.0</td>\n",
       "      <td>ACTIVE</td>\n",
       "      <td>NONE</td>\n",
       "      <td>26.0</td>\n",
       "      <td>39d90bfe73e5f0bc0a58bca8fc789182955d059fb79009...</td>\n",
       "    </tr>\n",
       "    <tr>\n",
       "      <th>31548011</th>\n",
       "      <td>2020-09-15</td>\n",
       "      <td>5919649889604164626</td>\n",
       "      <td>898692003</td>\n",
       "      <td>0.067780</td>\n",
       "      <td>2</td>\n",
       "      <td>1.0</td>\n",
       "      <td>1.0</td>\n",
       "      <td>ACTIVE</td>\n",
       "      <td>Regularly</td>\n",
       "      <td>23.0</td>\n",
       "      <td>caefb055d2000ea61aaef5e6d472874d72b88c370514ef...</td>\n",
       "    </tr>\n",
       "    <tr>\n",
       "      <th>31548012</th>\n",
       "      <td>2020-09-15</td>\n",
       "      <td>-6548724319026074057</td>\n",
       "      <td>875272011</td>\n",
       "      <td>0.050831</td>\n",
       "      <td>2</td>\n",
       "      <td>0.0</td>\n",
       "      <td>0.0</td>\n",
       "      <td>ACTIVE</td>\n",
       "      <td>NONE</td>\n",
       "      <td>26.0</td>\n",
       "      <td>39d90bfe73e5f0bc0a58bca8fc789182955d059fb79009...</td>\n",
       "    </tr>\n",
       "  </tbody>\n",
       "</table>\n",
       "<p>255241 rows × 11 columns</p>\n",
       "</div>"
      ],
      "text/plain": [
       "              t_dat          customer_id  article_id     price  \\\n",
       "31269184 2020-09-09 -2156777441294618063   685814005  0.033881   \n",
       "31269185 2020-09-09 -6489422566283592999   865240002  0.008458   \n",
       "31269186 2020-09-09 -7761469595989510297   868641002  0.033881   \n",
       "31269187 2020-09-09 -2912203858579140439   867966010  0.033881   \n",
       "31269188 2020-09-09 -2156777441294618063   896343002  0.033881   \n",
       "...             ...                  ...         ...       ...   \n",
       "31548008 2020-09-15 -6548724319026074057   780314001  0.067780   \n",
       "31548009 2020-09-15 -7010773389724270175   706016002  0.033881   \n",
       "31548010 2020-09-15 -6548724319026074057   875272003  0.050831   \n",
       "31548011 2020-09-15  5919649889604164626   898692003  0.067780   \n",
       "31548012 2020-09-15 -6548724319026074057   875272011  0.050831   \n",
       "\n",
       "          sales_channel_id   FN  Active club_member_status  \\\n",
       "31269184                 2  1.0     1.0             ACTIVE   \n",
       "31269185                 1  0.0     0.0             ACTIVE   \n",
       "31269186                 2  1.0     1.0             ACTIVE   \n",
       "31269187                 2  1.0     1.0             ACTIVE   \n",
       "31269188                 2  1.0     1.0             ACTIVE   \n",
       "...                    ...  ...     ...                ...   \n",
       "31548008                 2  0.0     0.0             ACTIVE   \n",
       "31548009                 1  1.0     1.0             ACTIVE   \n",
       "31548010                 2  0.0     0.0             ACTIVE   \n",
       "31548011                 2  1.0     1.0             ACTIVE   \n",
       "31548012                 2  0.0     0.0             ACTIVE   \n",
       "\n",
       "         fashion_news_frequency   age  \\\n",
       "31269184              Regularly  29.0   \n",
       "31269185                   NONE  27.0   \n",
       "31269186              Regularly  22.0   \n",
       "31269187              Regularly  24.0   \n",
       "31269188              Regularly  29.0   \n",
       "...                         ...   ...   \n",
       "31548008                   NONE  26.0   \n",
       "31548009              Regularly  21.0   \n",
       "31548010                   NONE  26.0   \n",
       "31548011              Regularly  23.0   \n",
       "31548012                   NONE  26.0   \n",
       "\n",
       "                                                postal_code  \n",
       "31269184  17d0433ebad432976929d99192315d2479bfb7696af1d2...  \n",
       "31269185  09b4c331056fc94bc83a021f44470ea9e859209123e09f...  \n",
       "31269186  64c420881b31267fd17d03e2aafac8e9ef0bae5a115446...  \n",
       "31269187  e42c4f19dc1b95b82eae4d77106924e07fef6c5c1dd4c3...  \n",
       "31269188  17d0433ebad432976929d99192315d2479bfb7696af1d2...  \n",
       "...                                                     ...  \n",
       "31548008  39d90bfe73e5f0bc0a58bca8fc789182955d059fb79009...  \n",
       "31548009  2020d6a589f9878e20886e17483107cac447bdbb31b19c...  \n",
       "31548010  39d90bfe73e5f0bc0a58bca8fc789182955d059fb79009...  \n",
       "31548011  caefb055d2000ea61aaef5e6d472874d72b88c370514ef...  \n",
       "31548012  39d90bfe73e5f0bc0a58bca8fc789182955d059fb79009...  \n",
       "\n",
       "[255241 rows x 11 columns]"
      ]
     },
     "execution_count": 61,
     "metadata": {},
     "output_type": "execute_result"
    }
   ],
   "source": [
    "sales"
   ]
  },
  {
   "cell_type": "code",
   "execution_count": 62,
   "id": "2da48912",
   "metadata": {
    "_cell_guid": "490a2367-b14f-40de-8fe6-d99887ece0b0",
    "_uuid": "334b8f05-46f7-4264-aaff-ab91dbcf28da",
    "collapsed": false,
    "execution": {
     "iopub.execute_input": "2022-03-28T07:12:39.561337Z",
     "iopub.status.busy": "2022-03-28T07:12:39.560385Z",
     "iopub.status.idle": "2022-03-28T07:12:39.580806Z",
     "shell.execute_reply": "2022-03-28T07:12:39.580316Z",
     "shell.execute_reply.started": "2022-03-28T07:04:49.729487Z"
    },
    "jupyter": {
     "outputs_hidden": false
    },
    "papermill": {
     "duration": 0.194522,
     "end_time": "2022-03-28T07:12:39.580932",
     "exception": false,
     "start_time": "2022-03-28T07:12:39.386410",
     "status": "completed"
    },
    "tags": []
   },
   "outputs": [],
   "source": [
    "target_sales = sales[[\"article_id\", \"customer_id\"]].groupby('article_id')[\"customer_id\"].count()\n",
    "general_pred = target_sales.nlargest(N, keep = \"first\").index.to_pandas().tolist()\n",
    "general_pred = ['0' + str(article_id) for article_id in general_pred]\n",
    "general_pred_str =  ' '.join(general_pred)\n",
    "del target_sales"
   ]
  },
  {
   "cell_type": "code",
   "execution_count": 63,
   "id": "9d015d1d",
   "metadata": {
    "_cell_guid": "1ca8a8b7-f271-4796-82e3-7d2c8c9a4301",
    "_uuid": "a8c87106-cccc-4ce3-be8f-27cc5484956d",
    "collapsed": false,
    "execution": {
     "iopub.execute_input": "2022-03-28T07:12:39.878394Z",
     "iopub.status.busy": "2022-03-28T07:12:39.877479Z",
     "iopub.status.idle": "2022-03-28T07:12:39.880644Z",
     "shell.execute_reply": "2022-03-28T07:12:39.881044Z",
     "shell.execute_reply.started": "2022-03-28T07:04:49.754003Z"
    },
    "jupyter": {
     "outputs_hidden": false
    },
    "papermill": {
     "duration": 0.152605,
     "end_time": "2022-03-28T07:12:39.881174",
     "exception": false,
     "start_time": "2022-03-28T07:12:39.728569",
     "status": "completed"
    },
    "tags": []
   },
   "outputs": [
    {
     "data": {
      "text/plain": [
       "'0909370001 0865799006 0918522001 0924243001 0448509014 0751471001 0809238001 0918292001 0762846027 0809238005 0673677002 0923758001'"
      ]
     },
     "execution_count": 63,
     "metadata": {},
     "output_type": "execute_result"
    }
   ],
   "source": [
    "general_pred_str"
   ]
  },
  {
   "cell_type": "code",
   "execution_count": 64,
   "id": "944e64b0",
   "metadata": {
    "_cell_guid": "1a5a8ba1-a890-471b-8bc8-46ed3f884a39",
    "_uuid": "ef1404b1-5e74-4b74-a43d-c74718f7e966",
    "collapsed": false,
    "execution": {
     "iopub.execute_input": "2022-03-28T07:12:40.357595Z",
     "iopub.status.busy": "2022-03-28T07:12:40.355275Z",
     "iopub.status.idle": "2022-03-28T07:12:40.358425Z",
     "shell.execute_reply": "2022-03-28T07:12:40.359164Z",
     "shell.execute_reply.started": "2022-03-28T07:04:49.762946Z"
    },
    "jupyter": {
     "outputs_hidden": false
    },
    "papermill": {
     "duration": 0.246549,
     "end_time": "2022-03-28T07:12:40.359362",
     "exception": false,
     "start_time": "2022-03-28T07:12:40.112813",
     "status": "completed"
    },
    "tags": []
   },
   "outputs": [],
   "source": [
    "#sales.age = sales.age.astype(\"float32\")"
   ]
  },
  {
   "cell_type": "code",
   "execution_count": 65,
   "id": "c429ac1c",
   "metadata": {
    "_cell_guid": "55adea43-97ea-4c24-9d30-2ce2a7e07443",
    "_uuid": "005a6cc8-cd43-4d2a-9391-b02d9a261d08",
    "collapsed": false,
    "execution": {
     "iopub.execute_input": "2022-03-28T07:12:40.719420Z",
     "iopub.status.busy": "2022-03-28T07:12:40.718662Z",
     "iopub.status.idle": "2022-03-28T07:12:40.811394Z",
     "shell.execute_reply": "2022-03-28T07:12:40.810933Z",
     "shell.execute_reply.started": "2022-03-28T07:04:49.768846Z"
    },
    "jupyter": {
     "outputs_hidden": false
    },
    "papermill": {
     "duration": 0.242685,
     "end_time": "2022-03-28T07:12:40.811547",
     "exception": false,
     "start_time": "2022-03-28T07:12:40.568862",
     "status": "completed"
    },
    "tags": []
   },
   "outputs": [],
   "source": [
    "age_type = pd.cut(sales.to_pandas()[\"age\"], bins = np.array([0, 21, 24, 27, 30, 35, 40, 45, 50, 60, 100], dtype = \"int32\"), right = True)"
   ]
  },
  {
   "cell_type": "code",
   "execution_count": 66,
   "id": "eebb8313",
   "metadata": {
    "_cell_guid": "04e8ec85-58b1-4b98-afd2-6faacc6fc775",
    "_uuid": "f4a6aac7-9f67-4f0f-8b74-b2a0b619d2ca",
    "collapsed": false,
    "execution": {
     "iopub.execute_input": "2022-03-28T07:12:41.111384Z",
     "iopub.status.busy": "2022-03-28T07:12:41.110592Z",
     "iopub.status.idle": "2022-03-28T07:12:42.213567Z",
     "shell.execute_reply": "2022-03-28T07:12:42.212608Z",
     "shell.execute_reply.started": "2022-03-28T07:04:49.856014Z"
    },
    "jupyter": {
     "outputs_hidden": false
    },
    "papermill": {
     "duration": 1.254825,
     "end_time": "2022-03-28T07:12:42.213733",
     "exception": false,
     "start_time": "2022-03-28T07:12:40.958908",
     "status": "completed"
    },
    "tags": []
   },
   "outputs": [],
   "source": [
    "sales[\"age_type\"] = age_type.astype(\"string\")"
   ]
  },
  {
   "cell_type": "code",
   "execution_count": 67,
   "id": "bc18da00",
   "metadata": {
    "_cell_guid": "822dc73e-9015-44e2-9d5d-6fbd7f56f333",
    "_uuid": "e8047d6b-4ab5-44cb-95e5-5b80831680a9",
    "collapsed": false,
    "execution": {
     "iopub.execute_input": "2022-03-28T07:12:42.509607Z",
     "iopub.status.busy": "2022-03-28T07:12:42.508758Z",
     "iopub.status.idle": "2022-03-28T07:12:42.523871Z",
     "shell.execute_reply": "2022-03-28T07:12:42.523428Z",
     "shell.execute_reply.started": "2022-03-28T07:04:50.961640Z"
    },
    "jupyter": {
     "outputs_hidden": false
    },
    "papermill": {
     "duration": 0.165614,
     "end_time": "2022-03-28T07:12:42.523990",
     "exception": false,
     "start_time": "2022-03-28T07:12:42.358376",
     "status": "completed"
    },
    "tags": []
   },
   "outputs": [],
   "source": [
    "summary = sales.groupby([\"fashion_news_frequency\", \"age_type\", \"article_id\"])[\"postal_code\"].count().\\\n",
    "reset_index().rename({\"postal_code\":\"count\"}, axis = 1)"
   ]
  },
  {
   "cell_type": "code",
   "execution_count": 68,
   "id": "f5cd485b",
   "metadata": {
    "_cell_guid": "db904ec6-6cee-4c82-81ae-5de2c7a37dbc",
    "_uuid": "984be7ba-2077-4d19-a0f7-edd0d9b292c9",
    "collapsed": false,
    "execution": {
     "iopub.execute_input": "2022-03-28T07:12:42.838516Z",
     "iopub.status.busy": "2022-03-28T07:12:42.832714Z",
     "iopub.status.idle": "2022-03-28T07:12:42.947498Z",
     "shell.execute_reply": "2022-03-28T07:12:42.948201Z",
     "shell.execute_reply.started": "2022-03-28T07:04:50.982558Z"
    },
    "jupyter": {
     "outputs_hidden": false
    },
    "papermill": {
     "duration": 0.280257,
     "end_time": "2022-03-28T07:12:42.948414",
     "exception": false,
     "start_time": "2022-03-28T07:12:42.668157",
     "status": "completed"
    },
    "tags": []
   },
   "outputs": [
    {
     "data": {
      "text/html": [
       "<div>\n",
       "<style scoped>\n",
       "    .dataframe tbody tr th:only-of-type {\n",
       "        vertical-align: middle;\n",
       "    }\n",
       "\n",
       "    .dataframe tbody tr th {\n",
       "        vertical-align: top;\n",
       "    }\n",
       "\n",
       "    .dataframe thead th {\n",
       "        text-align: right;\n",
       "    }\n",
       "</style>\n",
       "<table border=\"1\" class=\"dataframe\">\n",
       "  <thead>\n",
       "    <tr style=\"text-align: right;\">\n",
       "      <th></th>\n",
       "      <th>fashion_news_frequency</th>\n",
       "      <th>age_type</th>\n",
       "      <th>article_id</th>\n",
       "      <th>count</th>\n",
       "    </tr>\n",
       "  </thead>\n",
       "  <tbody>\n",
       "    <tr>\n",
       "      <th>2</th>\n",
       "      <td>NONE</td>\n",
       "      <td>(24.0, 27.0]</td>\n",
       "      <td>675070013</td>\n",
       "      <td>1</td>\n",
       "    </tr>\n",
       "    <tr>\n",
       "      <th>3</th>\n",
       "      <td>NONE</td>\n",
       "      <td>(24.0, 27.0]</td>\n",
       "      <td>781135004</td>\n",
       "      <td>1</td>\n",
       "    </tr>\n",
       "    <tr>\n",
       "      <th>4</th>\n",
       "      <td>Regularly</td>\n",
       "      <td>(40.0, 45.0]</td>\n",
       "      <td>919160001</td>\n",
       "      <td>1</td>\n",
       "    </tr>\n",
       "    <tr>\n",
       "      <th>6</th>\n",
       "      <td>Regularly</td>\n",
       "      <td>(0.0, 21.0]</td>\n",
       "      <td>862325004</td>\n",
       "      <td>1</td>\n",
       "    </tr>\n",
       "    <tr>\n",
       "      <th>8</th>\n",
       "      <td>NONE</td>\n",
       "      <td>(50.0, 60.0]</td>\n",
       "      <td>865076004</td>\n",
       "      <td>1</td>\n",
       "    </tr>\n",
       "    <tr>\n",
       "      <th>...</th>\n",
       "      <td>...</td>\n",
       "      <td>...</td>\n",
       "      <td>...</td>\n",
       "      <td>...</td>\n",
       "    </tr>\n",
       "    <tr>\n",
       "      <th>2635</th>\n",
       "      <td>Regularly</td>\n",
       "      <td>(21.0, 24.0]</td>\n",
       "      <td>909370001</td>\n",
       "      <td>112</td>\n",
       "    </tr>\n",
       "    <tr>\n",
       "      <th>67196</th>\n",
       "      <td>NONE</td>\n",
       "      <td>(21.0, 24.0]</td>\n",
       "      <td>909370001</td>\n",
       "      <td>114</td>\n",
       "    </tr>\n",
       "    <tr>\n",
       "      <th>76967</th>\n",
       "      <td>NONE</td>\n",
       "      <td>(27.0, 30.0]</td>\n",
       "      <td>909370001</td>\n",
       "      <td>114</td>\n",
       "    </tr>\n",
       "    <tr>\n",
       "      <th>86330</th>\n",
       "      <td>Regularly</td>\n",
       "      <td>(24.0, 27.0]</td>\n",
       "      <td>909370001</td>\n",
       "      <td>117</td>\n",
       "    </tr>\n",
       "    <tr>\n",
       "      <th>1906</th>\n",
       "      <td>NONE</td>\n",
       "      <td>(24.0, 27.0]</td>\n",
       "      <td>909370001</td>\n",
       "      <td>139</td>\n",
       "    </tr>\n",
       "  </tbody>\n",
       "</table>\n",
       "<p>94093 rows × 4 columns</p>\n",
       "</div>"
      ],
      "text/plain": [
       "      fashion_news_frequency      age_type  article_id  count\n",
       "2                       NONE  (24.0, 27.0]   675070013      1\n",
       "3                       NONE  (24.0, 27.0]   781135004      1\n",
       "4                  Regularly  (40.0, 45.0]   919160001      1\n",
       "6                  Regularly   (0.0, 21.0]   862325004      1\n",
       "8                       NONE  (50.0, 60.0]   865076004      1\n",
       "...                      ...           ...         ...    ...\n",
       "2635               Regularly  (21.0, 24.0]   909370001    112\n",
       "67196                   NONE  (21.0, 24.0]   909370001    114\n",
       "76967                   NONE  (27.0, 30.0]   909370001    114\n",
       "86330              Regularly  (24.0, 27.0]   909370001    117\n",
       "1906                    NONE  (24.0, 27.0]   909370001    139\n",
       "\n",
       "[94093 rows x 4 columns]"
      ]
     },
     "execution_count": 68,
     "metadata": {},
     "output_type": "execute_result"
    }
   ],
   "source": [
    "summary.sort_values(by = [\"count\"])"
   ]
  },
  {
   "cell_type": "code",
   "execution_count": 69,
   "id": "2ed6ed3b",
   "metadata": {
    "_cell_guid": "fb248905-fd2f-439a-8eb1-66f9dff2af90",
    "_uuid": "1033eeb1-9548-4a06-b361-e50a578f731c",
    "collapsed": false,
    "execution": {
     "iopub.execute_input": "2022-03-28T07:12:43.439449Z",
     "iopub.status.busy": "2022-03-28T07:12:43.438662Z",
     "iopub.status.idle": "2022-03-28T07:12:43.477379Z",
     "shell.execute_reply": "2022-03-28T07:12:43.478422Z",
     "shell.execute_reply.started": "2022-03-28T07:04:51.045822Z"
    },
    "jupyter": {
     "outputs_hidden": false
    },
    "papermill": {
     "duration": 0.292774,
     "end_time": "2022-03-28T07:12:43.478636",
     "exception": false,
     "start_time": "2022-03-28T07:12:43.185862",
     "status": "completed"
    },
    "tags": []
   },
   "outputs": [],
   "source": [
    "summary[\"total_count\"] = summary.to_pandas().groupby([\"fashion_news_frequency\", \"age_type\"])[\"count\"].transform(sum)"
   ]
  },
  {
   "cell_type": "code",
   "execution_count": 70,
   "id": "f8b4347a",
   "metadata": {
    "_cell_guid": "0bdc80cc-9424-4e7e-932f-31f5f9107d89",
    "_uuid": "4e82ec64-7dc8-4188-b312-6b314cf31dab",
    "collapsed": false,
    "execution": {
     "iopub.execute_input": "2022-03-28T07:12:43.966250Z",
     "iopub.status.busy": "2022-03-28T07:12:43.965483Z",
     "iopub.status.idle": "2022-03-28T07:12:43.968525Z",
     "shell.execute_reply": "2022-03-28T07:12:43.969098Z",
     "shell.execute_reply.started": "2022-03-28T07:04:51.081790Z"
    },
    "jupyter": {
     "outputs_hidden": false
    },
    "papermill": {
     "duration": 0.251656,
     "end_time": "2022-03-28T07:12:43.969277",
     "exception": false,
     "start_time": "2022-03-28T07:12:43.717621",
     "status": "completed"
    },
    "tags": []
   },
   "outputs": [],
   "source": [
    "summary[\"score\"] = summary[\"count\"]/summary[\"total_count\"]"
   ]
  },
  {
   "cell_type": "code",
   "execution_count": 71,
   "id": "6326324a",
   "metadata": {
    "_cell_guid": "f45641db-c4c0-48f6-9040-c7e5d685b4a7",
    "_uuid": "c63a3287-689d-4965-b951-c848392e5479",
    "collapsed": false,
    "execution": {
     "iopub.execute_input": "2022-03-28T07:12:44.280764Z",
     "iopub.status.busy": "2022-03-28T07:12:44.279971Z",
     "iopub.status.idle": "2022-03-28T07:12:44.282364Z",
     "shell.execute_reply": "2022-03-28T07:12:44.281970Z",
     "shell.execute_reply.started": "2022-03-28T07:04:51.088880Z"
    },
    "jupyter": {
     "outputs_hidden": false
    },
    "papermill": {
     "duration": 0.152288,
     "end_time": "2022-03-28T07:12:44.282473",
     "exception": false,
     "start_time": "2022-03-28T07:12:44.130185",
     "status": "completed"
    },
    "tags": []
   },
   "outputs": [],
   "source": [
    "summary = cudf.DataFrame(summary)"
   ]
  },
  {
   "cell_type": "code",
   "execution_count": 72,
   "id": "8f746815",
   "metadata": {
    "_cell_guid": "36974057-5728-442c-a2b7-d9bf01e2c571",
    "_uuid": "882cbb73-746e-4a66-8b4f-9e391609bf0d",
    "collapsed": false,
    "execution": {
     "iopub.execute_input": "2022-03-28T07:12:44.580305Z",
     "iopub.status.busy": "2022-03-28T07:12:44.579514Z",
     "iopub.status.idle": "2022-03-28T07:12:44.642715Z",
     "shell.execute_reply": "2022-03-28T07:12:44.643122Z",
     "shell.execute_reply.started": "2022-03-28T07:04:51.098127Z"
    },
    "jupyter": {
     "outputs_hidden": false
    },
    "papermill": {
     "duration": 0.215574,
     "end_time": "2022-03-28T07:12:44.643254",
     "exception": false,
     "start_time": "2022-03-28T07:12:44.427680",
     "status": "completed"
    },
    "tags": []
   },
   "outputs": [
    {
     "data": {
      "text/html": [
       "<div>\n",
       "<style scoped>\n",
       "    .dataframe tbody tr th:only-of-type {\n",
       "        vertical-align: middle;\n",
       "    }\n",
       "\n",
       "    .dataframe tbody tr th {\n",
       "        vertical-align: top;\n",
       "    }\n",
       "\n",
       "    .dataframe thead th {\n",
       "        text-align: right;\n",
       "    }\n",
       "</style>\n",
       "<table border=\"1\" class=\"dataframe\">\n",
       "  <thead>\n",
       "    <tr style=\"text-align: right;\">\n",
       "      <th></th>\n",
       "      <th>fashion_news_frequency</th>\n",
       "      <th>age_type</th>\n",
       "      <th>article_id</th>\n",
       "      <th>count</th>\n",
       "      <th>total_count</th>\n",
       "      <th>score</th>\n",
       "    </tr>\n",
       "  </thead>\n",
       "  <tbody>\n",
       "    <tr>\n",
       "      <th>70560</th>\n",
       "      <td>NONE</td>\n",
       "      <td>(30.0, 35.0]</td>\n",
       "      <td>108775044</td>\n",
       "      <td>1</td>\n",
       "      <td>16446</td>\n",
       "      <td>0.000061</td>\n",
       "    </tr>\n",
       "    <tr>\n",
       "      <th>92656</th>\n",
       "      <td>NONE</td>\n",
       "      <td>(50.0, 60.0]</td>\n",
       "      <td>108775044</td>\n",
       "      <td>2</td>\n",
       "      <td>17777</td>\n",
       "      <td>0.000113</td>\n",
       "    </tr>\n",
       "    <tr>\n",
       "      <th>18045</th>\n",
       "      <td>NONE</td>\n",
       "      <td>(45.0, 50.0]</td>\n",
       "      <td>111565001</td>\n",
       "      <td>1</td>\n",
       "      <td>12402</td>\n",
       "      <td>0.000081</td>\n",
       "    </tr>\n",
       "    <tr>\n",
       "      <th>28623</th>\n",
       "      <td>Regularly</td>\n",
       "      <td>(24.0, 27.0]</td>\n",
       "      <td>111565001</td>\n",
       "      <td>1</td>\n",
       "      <td>14442</td>\n",
       "      <td>0.000069</td>\n",
       "    </tr>\n",
       "    <tr>\n",
       "      <th>66580</th>\n",
       "      <td>NONE</td>\n",
       "      <td>(40.0, 45.0]</td>\n",
       "      <td>111565001</td>\n",
       "      <td>1</td>\n",
       "      <td>8065</td>\n",
       "      <td>0.000124</td>\n",
       "    </tr>\n",
       "    <tr>\n",
       "      <th>...</th>\n",
       "      <td>...</td>\n",
       "      <td>...</td>\n",
       "      <td>...</td>\n",
       "      <td>...</td>\n",
       "      <td>...</td>\n",
       "      <td>...</td>\n",
       "    </tr>\n",
       "    <tr>\n",
       "      <th>82246</th>\n",
       "      <td>Regularly</td>\n",
       "      <td>(50.0, 60.0]</td>\n",
       "      <td>956217002</td>\n",
       "      <td>1</td>\n",
       "      <td>17613</td>\n",
       "      <td>0.000057</td>\n",
       "    </tr>\n",
       "    <tr>\n",
       "      <th>84577</th>\n",
       "      <td>Regularly</td>\n",
       "      <td>(60.0, 100.0]</td>\n",
       "      <td>956217002</td>\n",
       "      <td>1</td>\n",
       "      <td>6074</td>\n",
       "      <td>0.000165</td>\n",
       "    </tr>\n",
       "    <tr>\n",
       "      <th>88549</th>\n",
       "      <td>Regularly</td>\n",
       "      <td>(21.0, 24.0]</td>\n",
       "      <td>956217002</td>\n",
       "      <td>2</td>\n",
       "      <td>15838</td>\n",
       "      <td>0.000126</td>\n",
       "    </tr>\n",
       "    <tr>\n",
       "      <th>554</th>\n",
       "      <td>NONE</td>\n",
       "      <td>(50.0, 60.0]</td>\n",
       "      <td>956217002</td>\n",
       "      <td>3</td>\n",
       "      <td>17777</td>\n",
       "      <td>0.000169</td>\n",
       "    </tr>\n",
       "    <tr>\n",
       "      <th>46392</th>\n",
       "      <td>NONE</td>\n",
       "      <td>(45.0, 50.0]</td>\n",
       "      <td>956217002</td>\n",
       "      <td>3</td>\n",
       "      <td>12402</td>\n",
       "      <td>0.000242</td>\n",
       "    </tr>\n",
       "  </tbody>\n",
       "</table>\n",
       "<p>94093 rows × 6 columns</p>\n",
       "</div>"
      ],
      "text/plain": [
       "      fashion_news_frequency       age_type  article_id  count  total_count  \\\n",
       "70560                   NONE   (30.0, 35.0]   108775044      1        16446   \n",
       "92656                   NONE   (50.0, 60.0]   108775044      2        17777   \n",
       "18045                   NONE   (45.0, 50.0]   111565001      1        12402   \n",
       "28623              Regularly   (24.0, 27.0]   111565001      1        14442   \n",
       "66580                   NONE   (40.0, 45.0]   111565001      1         8065   \n",
       "...                      ...            ...         ...    ...          ...   \n",
       "82246              Regularly   (50.0, 60.0]   956217002      1        17613   \n",
       "84577              Regularly  (60.0, 100.0]   956217002      1         6074   \n",
       "88549              Regularly   (21.0, 24.0]   956217002      2        15838   \n",
       "554                     NONE   (50.0, 60.0]   956217002      3        17777   \n",
       "46392                   NONE   (45.0, 50.0]   956217002      3        12402   \n",
       "\n",
       "          score  \n",
       "70560  0.000061  \n",
       "92656  0.000113  \n",
       "18045  0.000081  \n",
       "28623  0.000069  \n",
       "66580  0.000124  \n",
       "...         ...  \n",
       "82246  0.000057  \n",
       "84577  0.000165  \n",
       "88549  0.000126  \n",
       "554    0.000169  \n",
       "46392  0.000242  \n",
       "\n",
       "[94093 rows x 6 columns]"
      ]
     },
     "execution_count": 72,
     "metadata": {},
     "output_type": "execute_result"
    }
   ],
   "source": [
    "summary.sort_values(by = [\"article_id\", \"count\"])"
   ]
  },
  {
   "cell_type": "code",
   "execution_count": 73,
   "id": "ce9e5ca0",
   "metadata": {
    "_cell_guid": "a761a4c6-7966-4443-bb1e-6ed9caf2c96e",
    "_uuid": "efa83622-d490-4db3-8122-27d4bcd783d7",
    "collapsed": false,
    "execution": {
     "iopub.execute_input": "2022-03-28T07:12:44.951031Z",
     "iopub.status.busy": "2022-03-28T07:12:44.950271Z",
     "iopub.status.idle": "2022-03-28T07:12:44.992718Z",
     "shell.execute_reply": "2022-03-28T07:12:44.992263Z",
     "shell.execute_reply.started": "2022-03-28T07:04:51.172106Z"
    },
    "jupyter": {
     "outputs_hidden": false
    },
    "papermill": {
     "duration": 0.203039,
     "end_time": "2022-03-28T07:12:44.992842",
     "exception": false,
     "start_time": "2022-03-28T07:12:44.789803",
     "status": "completed"
    },
    "tags": []
   },
   "outputs": [],
   "source": [
    "summary['rank'] = summary.to_pandas().groupby([\"fashion_news_frequency\", \"age_type\"])[\"score\"].rank(\"dense\", ascending=False)\n",
    "summary = summary.loc[summary['rank'] <= 12]"
   ]
  },
  {
   "cell_type": "code",
   "execution_count": 74,
   "id": "74989cc9",
   "metadata": {
    "_cell_guid": "3eee64f1-9551-465f-96a2-5b8469c9f90e",
    "_uuid": "05522ddd-085f-4ec1-935b-8557be758cba",
    "collapsed": false,
    "execution": {
     "iopub.execute_input": "2022-03-28T07:12:45.292375Z",
     "iopub.status.busy": "2022-03-28T07:12:45.291774Z",
     "iopub.status.idle": "2022-03-28T07:12:47.952001Z",
     "shell.execute_reply": "2022-03-28T07:12:47.951251Z",
     "shell.execute_reply.started": "2022-03-28T07:04:51.219848Z"
    },
    "jupyter": {
     "outputs_hidden": false
    },
    "papermill": {
     "duration": 2.810992,
     "end_time": "2022-03-28T07:12:47.952133",
     "exception": false,
     "start_time": "2022-03-28T07:12:45.141141",
     "status": "completed"
    },
    "tags": []
   },
   "outputs": [
    {
     "name": "stdout",
     "output_type": "stream",
     "text": [
      "CPU times: user 131 ms, sys: 109 ms, total: 240 ms\n",
      "Wall time: 2.66 s\n"
     ]
    }
   ],
   "source": [
    "%%time\n",
    "sub  = cudf.read_csv('../input/h-and-m-personalized-fashion-recommendations/sample_submission.csv',\n",
    "                            usecols= ['customer_id'], \n",
    "                            dtype={'customer_id': 'string'})\n",
    "\n",
    "sub['customer_id2'] = sub['customer_id'].str[-16:].str.hex_to_int().astype('int64')\n",
    "sub = sub.rename(columns = {'customer_id2':'customer_id', 'customer_id':'customer_id2'})"
   ]
  },
  {
   "cell_type": "code",
   "execution_count": 75,
   "id": "d3986744",
   "metadata": {
    "_cell_guid": "3cb432a9-df0a-4593-8095-a2e2bc645279",
    "_uuid": "91148f88-e46b-4d17-969a-591cdab78b9b",
    "collapsed": false,
    "execution": {
     "iopub.execute_input": "2022-03-28T07:12:48.261324Z",
     "iopub.status.busy": "2022-03-28T07:12:48.257366Z",
     "iopub.status.idle": "2022-03-28T07:12:48.302084Z",
     "shell.execute_reply": "2022-03-28T07:12:48.302472Z",
     "shell.execute_reply.started": "2022-03-28T07:04:54.040816Z"
    },
    "jupyter": {
     "outputs_hidden": false
    },
    "papermill": {
     "duration": 0.196423,
     "end_time": "2022-03-28T07:12:48.302629",
     "exception": false,
     "start_time": "2022-03-28T07:12:48.106206",
     "status": "completed"
    },
    "tags": []
   },
   "outputs": [
    {
     "data": {
      "text/html": [
       "<div>\n",
       "<style scoped>\n",
       "    .dataframe tbody tr th:only-of-type {\n",
       "        vertical-align: middle;\n",
       "    }\n",
       "\n",
       "    .dataframe tbody tr th {\n",
       "        vertical-align: top;\n",
       "    }\n",
       "\n",
       "    .dataframe thead th {\n",
       "        text-align: right;\n",
       "    }\n",
       "</style>\n",
       "<table border=\"1\" class=\"dataframe\">\n",
       "  <thead>\n",
       "    <tr style=\"text-align: right;\">\n",
       "      <th></th>\n",
       "      <th>customer_id2</th>\n",
       "      <th>customer_id</th>\n",
       "    </tr>\n",
       "  </thead>\n",
       "  <tbody>\n",
       "    <tr>\n",
       "      <th>0</th>\n",
       "      <td>00000dbacae5abe5e23885899a1fa44253a17956c6d1c3...</td>\n",
       "      <td>6883939031699146327</td>\n",
       "    </tr>\n",
       "    <tr>\n",
       "      <th>1</th>\n",
       "      <td>0000423b00ade91418cceaf3b26c6af3dd342b51fd051e...</td>\n",
       "      <td>-7200416642310594310</td>\n",
       "    </tr>\n",
       "    <tr>\n",
       "      <th>2</th>\n",
       "      <td>000058a12d5b43e67d225668fa1f8d618c13dc232df0ca...</td>\n",
       "      <td>-6846340800584936</td>\n",
       "    </tr>\n",
       "    <tr>\n",
       "      <th>3</th>\n",
       "      <td>00005ca1c9ed5f5146b52ac8639a40ca9d57aeff4d1bd2...</td>\n",
       "      <td>-94071612138601410</td>\n",
       "    </tr>\n",
       "    <tr>\n",
       "      <th>4</th>\n",
       "      <td>00006413d8573cd20ed7128e53b7b13819fe5cfc2d801f...</td>\n",
       "      <td>-283965518499174310</td>\n",
       "    </tr>\n",
       "    <tr>\n",
       "      <th>...</th>\n",
       "      <td>...</td>\n",
       "      <td>...</td>\n",
       "    </tr>\n",
       "    <tr>\n",
       "      <th>1371975</th>\n",
       "      <td>ffffbbf78b6eaac697a8a5dfbfd2bfa8113ee5b403e474...</td>\n",
       "      <td>7551062398649767985</td>\n",
       "    </tr>\n",
       "    <tr>\n",
       "      <th>1371976</th>\n",
       "      <td>ffffcd5046a6143d29a04fb8c424ce494a76e5cdf4fab5...</td>\n",
       "      <td>-9141402131989464905</td>\n",
       "    </tr>\n",
       "    <tr>\n",
       "      <th>1371977</th>\n",
       "      <td>ffffcf35913a0bee60e8741cb2b4e78b8a98ee5ff2e6a1...</td>\n",
       "      <td>-8286316756823862684</td>\n",
       "    </tr>\n",
       "    <tr>\n",
       "      <th>1371978</th>\n",
       "      <td>ffffd7744cebcf3aca44ae7049d2a94b87074c3d4ffe38...</td>\n",
       "      <td>2551401172826382186</td>\n",
       "    </tr>\n",
       "    <tr>\n",
       "      <th>1371979</th>\n",
       "      <td>ffffd9ac14e89946416d80e791d064701994755c3ab686...</td>\n",
       "      <td>-1516792180973952447</td>\n",
       "    </tr>\n",
       "  </tbody>\n",
       "</table>\n",
       "<p>1371980 rows × 2 columns</p>\n",
       "</div>"
      ],
      "text/plain": [
       "                                              customer_id2  \\\n",
       "0        00000dbacae5abe5e23885899a1fa44253a17956c6d1c3...   \n",
       "1        0000423b00ade91418cceaf3b26c6af3dd342b51fd051e...   \n",
       "2        000058a12d5b43e67d225668fa1f8d618c13dc232df0ca...   \n",
       "3        00005ca1c9ed5f5146b52ac8639a40ca9d57aeff4d1bd2...   \n",
       "4        00006413d8573cd20ed7128e53b7b13819fe5cfc2d801f...   \n",
       "...                                                    ...   \n",
       "1371975  ffffbbf78b6eaac697a8a5dfbfd2bfa8113ee5b403e474...   \n",
       "1371976  ffffcd5046a6143d29a04fb8c424ce494a76e5cdf4fab5...   \n",
       "1371977  ffffcf35913a0bee60e8741cb2b4e78b8a98ee5ff2e6a1...   \n",
       "1371978  ffffd7744cebcf3aca44ae7049d2a94b87074c3d4ffe38...   \n",
       "1371979  ffffd9ac14e89946416d80e791d064701994755c3ab686...   \n",
       "\n",
       "                 customer_id  \n",
       "0        6883939031699146327  \n",
       "1       -7200416642310594310  \n",
       "2          -6846340800584936  \n",
       "3         -94071612138601410  \n",
       "4        -283965518499174310  \n",
       "...                      ...  \n",
       "1371975  7551062398649767985  \n",
       "1371976 -9141402131989464905  \n",
       "1371977 -8286316756823862684  \n",
       "1371978  2551401172826382186  \n",
       "1371979 -1516792180973952447  \n",
       "\n",
       "[1371980 rows x 2 columns]"
      ]
     },
     "execution_count": 75,
     "metadata": {},
     "output_type": "execute_result"
    }
   ],
   "source": [
    "sub"
   ]
  },
  {
   "cell_type": "code",
   "execution_count": 76,
   "id": "964f4ff3",
   "metadata": {
    "_cell_guid": "66a45798-7283-4a51-b3be-aa40412171bb",
    "_uuid": "bd125400-8975-435a-b304-7e06ffeac2d4",
    "collapsed": false,
    "execution": {
     "iopub.execute_input": "2022-03-28T07:12:48.599703Z",
     "iopub.status.busy": "2022-03-28T07:12:48.598909Z",
     "iopub.status.idle": "2022-03-28T07:12:48.684197Z",
     "shell.execute_reply": "2022-03-28T07:12:48.683801Z",
     "shell.execute_reply.started": "2022-03-28T07:04:54.091240Z"
    },
    "jupyter": {
     "outputs_hidden": false
    },
    "papermill": {
     "duration": 0.235869,
     "end_time": "2022-03-28T07:12:48.684306",
     "exception": false,
     "start_time": "2022-03-28T07:12:48.448437",
     "status": "completed"
    },
    "tags": []
   },
   "outputs": [
    {
     "data": {
      "text/html": [
       "<div>\n",
       "<style scoped>\n",
       "    .dataframe tbody tr th:only-of-type {\n",
       "        vertical-align: middle;\n",
       "    }\n",
       "\n",
       "    .dataframe tbody tr th {\n",
       "        vertical-align: top;\n",
       "    }\n",
       "\n",
       "    .dataframe thead th {\n",
       "        text-align: right;\n",
       "    }\n",
       "</style>\n",
       "<table border=\"1\" class=\"dataframe\">\n",
       "  <thead>\n",
       "    <tr style=\"text-align: right;\">\n",
       "      <th></th>\n",
       "      <th>customer_id</th>\n",
       "      <th>FN</th>\n",
       "      <th>Active</th>\n",
       "      <th>club_member_status</th>\n",
       "      <th>fashion_news_frequency</th>\n",
       "      <th>age</th>\n",
       "      <th>postal_code</th>\n",
       "    </tr>\n",
       "  </thead>\n",
       "  <tbody>\n",
       "    <tr>\n",
       "      <th>0</th>\n",
       "      <td>6883939031699146327</td>\n",
       "      <td>&lt;NA&gt;</td>\n",
       "      <td>&lt;NA&gt;</td>\n",
       "      <td>ACTIVE</td>\n",
       "      <td>NONE</td>\n",
       "      <td>49.0</td>\n",
       "      <td>52043ee2162cf5aa7ee79974281641c6f11a68d276429a...</td>\n",
       "    </tr>\n",
       "    <tr>\n",
       "      <th>1</th>\n",
       "      <td>-7200416642310594310</td>\n",
       "      <td>&lt;NA&gt;</td>\n",
       "      <td>&lt;NA&gt;</td>\n",
       "      <td>ACTIVE</td>\n",
       "      <td>NONE</td>\n",
       "      <td>25.0</td>\n",
       "      <td>2973abc54daa8a5f8ccfe9362140c63247c5eee03f1d93...</td>\n",
       "    </tr>\n",
       "    <tr>\n",
       "      <th>2</th>\n",
       "      <td>-6846340800584936</td>\n",
       "      <td>&lt;NA&gt;</td>\n",
       "      <td>&lt;NA&gt;</td>\n",
       "      <td>ACTIVE</td>\n",
       "      <td>NONE</td>\n",
       "      <td>24.0</td>\n",
       "      <td>64f17e6a330a85798e4998f62d0930d14db8db1c054af6...</td>\n",
       "    </tr>\n",
       "    <tr>\n",
       "      <th>3</th>\n",
       "      <td>-94071612138601410</td>\n",
       "      <td>&lt;NA&gt;</td>\n",
       "      <td>&lt;NA&gt;</td>\n",
       "      <td>ACTIVE</td>\n",
       "      <td>NONE</td>\n",
       "      <td>54.0</td>\n",
       "      <td>5d36574f52495e81f019b680c843c443bd343d5ca5b1c2...</td>\n",
       "    </tr>\n",
       "    <tr>\n",
       "      <th>4</th>\n",
       "      <td>-283965518499174310</td>\n",
       "      <td>1.0</td>\n",
       "      <td>1.0</td>\n",
       "      <td>ACTIVE</td>\n",
       "      <td>Regularly</td>\n",
       "      <td>52.0</td>\n",
       "      <td>25fa5ddee9aac01b35208d01736e57942317d756b32ddd...</td>\n",
       "    </tr>\n",
       "    <tr>\n",
       "      <th>...</th>\n",
       "      <td>...</td>\n",
       "      <td>...</td>\n",
       "      <td>...</td>\n",
       "      <td>...</td>\n",
       "      <td>...</td>\n",
       "      <td>...</td>\n",
       "      <td>...</td>\n",
       "    </tr>\n",
       "    <tr>\n",
       "      <th>1371975</th>\n",
       "      <td>7551062398649767985</td>\n",
       "      <td>&lt;NA&gt;</td>\n",
       "      <td>&lt;NA&gt;</td>\n",
       "      <td>ACTIVE</td>\n",
       "      <td>NONE</td>\n",
       "      <td>24.0</td>\n",
       "      <td>7aa399f7e669990daba2d92c577b52237380662f36480b...</td>\n",
       "    </tr>\n",
       "    <tr>\n",
       "      <th>1371976</th>\n",
       "      <td>-9141402131989464905</td>\n",
       "      <td>&lt;NA&gt;</td>\n",
       "      <td>&lt;NA&gt;</td>\n",
       "      <td>ACTIVE</td>\n",
       "      <td>NONE</td>\n",
       "      <td>21.0</td>\n",
       "      <td>3f47f1279beb72215f4de557d950e0bfa73789d24acb5e...</td>\n",
       "    </tr>\n",
       "    <tr>\n",
       "      <th>1371977</th>\n",
       "      <td>-8286316756823862684</td>\n",
       "      <td>1.0</td>\n",
       "      <td>1.0</td>\n",
       "      <td>ACTIVE</td>\n",
       "      <td>Regularly</td>\n",
       "      <td>21.0</td>\n",
       "      <td>4563fc79215672cd6a863f2b4bf56b8f898f2d96ed590e...</td>\n",
       "    </tr>\n",
       "    <tr>\n",
       "      <th>1371978</th>\n",
       "      <td>2551401172826382186</td>\n",
       "      <td>1.0</td>\n",
       "      <td>1.0</td>\n",
       "      <td>ACTIVE</td>\n",
       "      <td>Regularly</td>\n",
       "      <td>18.0</td>\n",
       "      <td>8892c18e9bc3dca6aa4000cb8094fc4b51ee8db2ed14d7...</td>\n",
       "    </tr>\n",
       "    <tr>\n",
       "      <th>1371979</th>\n",
       "      <td>-1516792180973952447</td>\n",
       "      <td>&lt;NA&gt;</td>\n",
       "      <td>&lt;NA&gt;</td>\n",
       "      <td>PRE-CREATE</td>\n",
       "      <td>NONE</td>\n",
       "      <td>65.0</td>\n",
       "      <td>0a1a03306fb2f62164c2a439b38c0caa64b40deaae8687...</td>\n",
       "    </tr>\n",
       "  </tbody>\n",
       "</table>\n",
       "<p>1371980 rows × 7 columns</p>\n",
       "</div>"
      ],
      "text/plain": [
       "                 customer_id    FN Active club_member_status  \\\n",
       "0        6883939031699146327  <NA>   <NA>             ACTIVE   \n",
       "1       -7200416642310594310  <NA>   <NA>             ACTIVE   \n",
       "2          -6846340800584936  <NA>   <NA>             ACTIVE   \n",
       "3         -94071612138601410  <NA>   <NA>             ACTIVE   \n",
       "4        -283965518499174310   1.0    1.0             ACTIVE   \n",
       "...                      ...   ...    ...                ...   \n",
       "1371975  7551062398649767985  <NA>   <NA>             ACTIVE   \n",
       "1371976 -9141402131989464905  <NA>   <NA>             ACTIVE   \n",
       "1371977 -8286316756823862684   1.0    1.0             ACTIVE   \n",
       "1371978  2551401172826382186   1.0    1.0             ACTIVE   \n",
       "1371979 -1516792180973952447  <NA>   <NA>         PRE-CREATE   \n",
       "\n",
       "        fashion_news_frequency   age  \\\n",
       "0                         NONE  49.0   \n",
       "1                         NONE  25.0   \n",
       "2                         NONE  24.0   \n",
       "3                         NONE  54.0   \n",
       "4                    Regularly  52.0   \n",
       "...                        ...   ...   \n",
       "1371975                   NONE  24.0   \n",
       "1371976                   NONE  21.0   \n",
       "1371977              Regularly  21.0   \n",
       "1371978              Regularly  18.0   \n",
       "1371979                   NONE  65.0   \n",
       "\n",
       "                                               postal_code  \n",
       "0        52043ee2162cf5aa7ee79974281641c6f11a68d276429a...  \n",
       "1        2973abc54daa8a5f8ccfe9362140c63247c5eee03f1d93...  \n",
       "2        64f17e6a330a85798e4998f62d0930d14db8db1c054af6...  \n",
       "3        5d36574f52495e81f019b680c843c443bd343d5ca5b1c2...  \n",
       "4        25fa5ddee9aac01b35208d01736e57942317d756b32ddd...  \n",
       "...                                                    ...  \n",
       "1371975  7aa399f7e669990daba2d92c577b52237380662f36480b...  \n",
       "1371976  3f47f1279beb72215f4de557d950e0bfa73789d24acb5e...  \n",
       "1371977  4563fc79215672cd6a863f2b4bf56b8f898f2d96ed590e...  \n",
       "1371978  8892c18e9bc3dca6aa4000cb8094fc4b51ee8db2ed14d7...  \n",
       "1371979  0a1a03306fb2f62164c2a439b38c0caa64b40deaae8687...  \n",
       "\n",
       "[1371980 rows x 7 columns]"
      ]
     },
     "execution_count": 76,
     "metadata": {},
     "output_type": "execute_result"
    }
   ],
   "source": [
    "customer"
   ]
  },
  {
   "cell_type": "code",
   "execution_count": 77,
   "id": "08785ce8",
   "metadata": {
    "_cell_guid": "a1255e94-b76d-4e04-93e6-6f5d4adb7ecd",
    "_uuid": "6a23b3da-a0b3-4eed-8f23-683f40edd909",
    "collapsed": false,
    "execution": {
     "iopub.execute_input": "2022-03-28T07:12:48.983466Z",
     "iopub.status.busy": "2022-03-28T07:12:48.982697Z",
     "iopub.status.idle": "2022-03-28T07:12:55.719076Z",
     "shell.execute_reply": "2022-03-28T07:12:55.718593Z",
     "shell.execute_reply.started": "2022-03-28T07:04:54.181152Z"
    },
    "jupyter": {
     "outputs_hidden": false
    },
    "papermill": {
     "duration": 6.888234,
     "end_time": "2022-03-28T07:12:55.719208",
     "exception": false,
     "start_time": "2022-03-28T07:12:48.830974",
     "status": "completed"
    },
    "tags": []
   },
   "outputs": [],
   "source": [
    "sub_customer = sub.merge(customer.fillna(0), on = \"customer_id\")\n",
    "sub_customer[\"age_type\"] = pd.cut(sub_customer.to_pandas()[\"age\"], bins = np.array([0, 21, 24, 27, 30, 35, 40, 45, 50, 60, 100], dtype = \"int32\"), right = True).astype(\"string\")"
   ]
  },
  {
   "cell_type": "code",
   "execution_count": 78,
   "id": "51e9e390",
   "metadata": {
    "_cell_guid": "d80b9400-6ea7-493e-9872-5f80d80f88c5",
    "_uuid": "d2d15ef2-8c10-45c0-b433-37d423d7dbdc",
    "collapsed": false,
    "execution": {
     "iopub.execute_input": "2022-03-28T07:12:56.020339Z",
     "iopub.status.busy": "2022-03-28T07:12:56.019382Z",
     "iopub.status.idle": "2022-03-28T07:13:07.342456Z",
     "shell.execute_reply": "2022-03-28T07:13:07.341984Z",
     "shell.execute_reply.started": "2022-03-28T07:05:00.974497Z"
    },
    "jupyter": {
     "outputs_hidden": false
    },
    "papermill": {
     "duration": 11.475632,
     "end_time": "2022-03-28T07:13:07.342615",
     "exception": false,
     "start_time": "2022-03-28T07:12:55.866983",
     "status": "completed"
    },
    "tags": []
   },
   "outputs": [],
   "source": [
    "result3 = sub_customer.to_pandas().merge(summary.to_pandas(), on = [\"fashion_news_frequency\", \"age_type\"], how = \"left\")"
   ]
  },
  {
   "cell_type": "code",
   "execution_count": 79,
   "id": "f8f8913e",
   "metadata": {
    "_cell_guid": "1f3198a2-6ff4-4130-bbec-fa33e4f469ce",
    "_uuid": "06a2c12e-a2a5-45c3-9419-6ee336a84396",
    "collapsed": false,
    "execution": {
     "iopub.execute_input": "2022-03-28T07:13:07.643240Z",
     "iopub.status.busy": "2022-03-28T07:13:07.642080Z",
     "iopub.status.idle": "2022-03-28T07:13:17.749670Z",
     "shell.execute_reply": "2022-03-28T07:13:17.748737Z",
     "shell.execute_reply.started": "2022-03-28T07:05:12.248915Z"
    },
    "jupyter": {
     "outputs_hidden": false
    },
    "papermill": {
     "duration": 10.259178,
     "end_time": "2022-03-28T07:13:17.749827",
     "exception": false,
     "start_time": "2022-03-28T07:13:07.490649",
     "status": "completed"
    },
    "tags": []
   },
   "outputs": [],
   "source": [
    "result3[\"source\"] = 3\n",
    "result3 = result3.loc[:,[\"customer_id\", \"article_id\", \"source\", \"score\", \"rank\"]]"
   ]
  },
  {
   "cell_type": "code",
   "execution_count": 80,
   "id": "b7e48c3e",
   "metadata": {
    "_cell_guid": "b648a5e5-9a2b-4bbe-b9f8-45ce929662ce",
    "_uuid": "f295878b-9b83-42e6-9dc8-8849de4fe481",
    "collapsed": false,
    "execution": {
     "iopub.execute_input": "2022-03-28T07:13:18.065803Z",
     "iopub.status.busy": "2022-03-28T07:13:18.064679Z",
     "iopub.status.idle": "2022-03-28T07:13:18.067938Z",
     "shell.execute_reply": "2022-03-28T07:13:18.068330Z",
     "shell.execute_reply.started": "2022-03-28T07:05:22.199917Z"
    },
    "jupyter": {
     "outputs_hidden": false
    },
    "papermill": {
     "duration": 0.166837,
     "end_time": "2022-03-28T07:13:18.068457",
     "exception": false,
     "start_time": "2022-03-28T07:13:17.901620",
     "status": "completed"
    },
    "tags": []
   },
   "outputs": [
    {
     "data": {
      "text/html": [
       "<div>\n",
       "<style scoped>\n",
       "    .dataframe tbody tr th:only-of-type {\n",
       "        vertical-align: middle;\n",
       "    }\n",
       "\n",
       "    .dataframe tbody tr th {\n",
       "        vertical-align: top;\n",
       "    }\n",
       "\n",
       "    .dataframe thead th {\n",
       "        text-align: right;\n",
       "    }\n",
       "</style>\n",
       "<table border=\"1\" class=\"dataframe\">\n",
       "  <thead>\n",
       "    <tr style=\"text-align: right;\">\n",
       "      <th></th>\n",
       "      <th>customer_id</th>\n",
       "      <th>article_id</th>\n",
       "      <th>source</th>\n",
       "      <th>score</th>\n",
       "      <th>rank</th>\n",
       "    </tr>\n",
       "  </thead>\n",
       "  <tbody>\n",
       "    <tr>\n",
       "      <th>0</th>\n",
       "      <td>6273068272832019592</td>\n",
       "      <td>751471001.0</td>\n",
       "      <td>3</td>\n",
       "      <td>0.002863</td>\n",
       "      <td>10.0</td>\n",
       "    </tr>\n",
       "    <tr>\n",
       "      <th>1</th>\n",
       "      <td>6273068272832019592</td>\n",
       "      <td>918292001.0</td>\n",
       "      <td>3</td>\n",
       "      <td>0.004184</td>\n",
       "      <td>4.0</td>\n",
       "    </tr>\n",
       "    <tr>\n",
       "      <th>2</th>\n",
       "      <td>6273068272832019592</td>\n",
       "      <td>706016001.0</td>\n",
       "      <td>3</td>\n",
       "      <td>0.002716</td>\n",
       "      <td>11.0</td>\n",
       "    </tr>\n",
       "    <tr>\n",
       "      <th>3</th>\n",
       "      <td>6273068272832019592</td>\n",
       "      <td>809238005.0</td>\n",
       "      <td>3</td>\n",
       "      <td>0.002569</td>\n",
       "      <td>12.0</td>\n",
       "    </tr>\n",
       "    <tr>\n",
       "      <th>4</th>\n",
       "      <td>6273068272832019592</td>\n",
       "      <td>865799006.0</td>\n",
       "      <td>3</td>\n",
       "      <td>0.004111</td>\n",
       "      <td>5.0</td>\n",
       "    </tr>\n",
       "    <tr>\n",
       "      <th>...</th>\n",
       "      <td>...</td>\n",
       "      <td>...</td>\n",
       "      <td>...</td>\n",
       "      <td>...</td>\n",
       "      <td>...</td>\n",
       "    </tr>\n",
       "    <tr>\n",
       "      <th>32880969</th>\n",
       "      <td>5282364877236265871</td>\n",
       "      <td>706016002.0</td>\n",
       "      <td>3</td>\n",
       "      <td>0.003405</td>\n",
       "      <td>5.0</td>\n",
       "    </tr>\n",
       "    <tr>\n",
       "      <th>32880970</th>\n",
       "      <td>5282364877236265871</td>\n",
       "      <td>809238001.0</td>\n",
       "      <td>3</td>\n",
       "      <td>0.003178</td>\n",
       "      <td>7.0</td>\n",
       "    </tr>\n",
       "    <tr>\n",
       "      <th>32880971</th>\n",
       "      <td>5282364877236265871</td>\n",
       "      <td>685814003.0</td>\n",
       "      <td>3</td>\n",
       "      <td>0.006281</td>\n",
       "      <td>1.0</td>\n",
       "    </tr>\n",
       "    <tr>\n",
       "      <th>32880972</th>\n",
       "      <td>5282364877236265871</td>\n",
       "      <td>706016001.0</td>\n",
       "      <td>3</td>\n",
       "      <td>0.003330</td>\n",
       "      <td>6.0</td>\n",
       "    </tr>\n",
       "    <tr>\n",
       "      <th>32880973</th>\n",
       "      <td>5282364877236265871</td>\n",
       "      <td>850917001.0</td>\n",
       "      <td>3</td>\n",
       "      <td>0.003027</td>\n",
       "      <td>8.0</td>\n",
       "    </tr>\n",
       "  </tbody>\n",
       "</table>\n",
       "<p>32880974 rows × 5 columns</p>\n",
       "</div>"
      ],
      "text/plain": [
       "                  customer_id   article_id  source     score  rank\n",
       "0         6273068272832019592  751471001.0       3  0.002863  10.0\n",
       "1         6273068272832019592  918292001.0       3  0.004184   4.0\n",
       "2         6273068272832019592  706016001.0       3  0.002716  11.0\n",
       "3         6273068272832019592  809238005.0       3  0.002569  12.0\n",
       "4         6273068272832019592  865799006.0       3  0.004111   5.0\n",
       "...                       ...          ...     ...       ...   ...\n",
       "32880969  5282364877236265871  706016002.0       3  0.003405   5.0\n",
       "32880970  5282364877236265871  809238001.0       3  0.003178   7.0\n",
       "32880971  5282364877236265871  685814003.0       3  0.006281   1.0\n",
       "32880972  5282364877236265871  706016001.0       3  0.003330   6.0\n",
       "32880973  5282364877236265871  850917001.0       3  0.003027   8.0\n",
       "\n",
       "[32880974 rows x 5 columns]"
      ]
     },
     "execution_count": 80,
     "metadata": {},
     "output_type": "execute_result"
    }
   ],
   "source": [
    "result3"
   ]
  },
  {
   "cell_type": "code",
   "execution_count": 81,
   "id": "a2582b44",
   "metadata": {
    "_cell_guid": "7933f17a-6a44-46dc-bf03-b055391f030e",
    "_uuid": "f96683c8-e520-4b91-801b-a932beb94fd0",
    "collapsed": false,
    "execution": {
     "iopub.execute_input": "2022-03-28T07:13:18.372767Z",
     "iopub.status.busy": "2022-03-28T07:13:18.371163Z",
     "iopub.status.idle": "2022-03-28T07:13:18.373359Z",
     "shell.execute_reply": "2022-03-28T07:13:18.373794Z",
     "shell.execute_reply.started": "2022-03-28T07:05:22.217777Z"
    },
    "jupyter": {
     "outputs_hidden": false
    },
    "papermill": {
     "duration": 0.156887,
     "end_time": "2022-03-28T07:13:18.373933",
     "exception": false,
     "start_time": "2022-03-28T07:13:18.217046",
     "status": "completed"
    },
    "tags": []
   },
   "outputs": [],
   "source": [
    "#result3.to_csv(\"/kaggle/working/result3.csv\", index = False)"
   ]
  },
  {
   "cell_type": "markdown",
   "id": "288bce00",
   "metadata": {
    "_cell_guid": "5fb743f7-61e7-4d26-a4ea-90df2b723126",
    "_uuid": "64eb97e5-3a1d-43c8-a305-be576ff253da",
    "editable": false,
    "papermill": {
     "duration": 0.14934,
     "end_time": "2022-03-28T07:13:18.674240",
     "exception": false,
     "start_time": "2022-03-28T07:13:18.524900",
     "status": "completed"
    },
    "tags": []
   },
   "source": [
    "## 混合排序"
   ]
  },
  {
   "cell_type": "code",
   "execution_count": 82,
   "id": "4bf12ca6",
   "metadata": {
    "_cell_guid": "e89a9ca8-b0cc-4b6a-9892-76c67c062f05",
    "_uuid": "5da11cbd-cf75-4054-b8a0-f126238444dd",
    "collapsed": false,
    "execution": {
     "iopub.execute_input": "2022-03-28T07:13:18.979847Z",
     "iopub.status.busy": "2022-03-28T07:13:18.978005Z",
     "iopub.status.idle": "2022-03-28T07:13:18.980534Z",
     "shell.execute_reply": "2022-03-28T07:13:18.981023Z",
     "shell.execute_reply.started": "2022-03-28T07:05:22.234450Z"
    },
    "jupyter": {
     "outputs_hidden": false
    },
    "papermill": {
     "duration": 0.15579,
     "end_time": "2022-03-28T07:13:18.981173",
     "exception": false,
     "start_time": "2022-03-28T07:13:18.825383",
     "status": "completed"
    },
    "tags": []
   },
   "outputs": [],
   "source": [
    "#result2 = pd.read_csv(\"../input/relation/result2.csv\")\n",
    "#result1 = pd.read_csv(\"../input/relation/result1.csv\")\n",
    "#result3 = pd.read_csv(\"/kaggle/working/result3.csv\")"
   ]
  },
  {
   "cell_type": "code",
   "execution_count": 83,
   "id": "372a7d14",
   "metadata": {
    "_cell_guid": "770ce7a8-a20d-4958-a790-55cf438f5c8b",
    "_uuid": "4f7af5f2-25db-4933-a718-09a179f9d5cb",
    "collapsed": false,
    "execution": {
     "iopub.execute_input": "2022-03-28T07:13:19.283998Z",
     "iopub.status.busy": "2022-03-28T07:13:19.283218Z",
     "iopub.status.idle": "2022-03-28T07:13:19.285209Z",
     "shell.execute_reply": "2022-03-28T07:13:19.285616Z",
     "shell.execute_reply.started": "2022-03-28T07:05:22.239862Z"
    },
    "jupyter": {
     "outputs_hidden": false
    },
    "papermill": {
     "duration": 0.155343,
     "end_time": "2022-03-28T07:13:19.285752",
     "exception": false,
     "start_time": "2022-03-28T07:13:19.130409",
     "status": "completed"
    },
    "tags": []
   },
   "outputs": [],
   "source": [
    "#result1 = pd.read_csv(\"/kaggle/working/result1.csv\")\n",
    "#result2 = pd.read_csv(\"/kaggle/working/result2.csv\")"
   ]
  },
  {
   "cell_type": "code",
   "execution_count": 84,
   "id": "98987fc4",
   "metadata": {
    "_cell_guid": "d7302397-e4c3-4992-8302-caa0f17cc43d",
    "_uuid": "9a6f71ce-3e3d-4b7f-bef1-bf2e83f2e6c3",
    "collapsed": false,
    "execution": {
     "iopub.execute_input": "2022-03-28T07:13:19.604616Z",
     "iopub.status.busy": "2022-03-28T07:13:19.603873Z",
     "iopub.status.idle": "2022-03-28T07:13:19.606866Z",
     "shell.execute_reply": "2022-03-28T07:13:19.607258Z",
     "shell.execute_reply.started": "2022-03-28T07:05:22.248117Z"
    },
    "jupyter": {
     "outputs_hidden": false
    },
    "papermill": {
     "duration": 0.170003,
     "end_time": "2022-03-28T07:13:19.607390",
     "exception": false,
     "start_time": "2022-03-28T07:13:19.437387",
     "status": "completed"
    },
    "tags": []
   },
   "outputs": [
    {
     "data": {
      "text/html": [
       "<div>\n",
       "<style scoped>\n",
       "    .dataframe tbody tr th:only-of-type {\n",
       "        vertical-align: middle;\n",
       "    }\n",
       "\n",
       "    .dataframe tbody tr th {\n",
       "        vertical-align: top;\n",
       "    }\n",
       "\n",
       "    .dataframe thead th {\n",
       "        text-align: right;\n",
       "    }\n",
       "</style>\n",
       "<table border=\"1\" class=\"dataframe\">\n",
       "  <thead>\n",
       "    <tr style=\"text-align: right;\">\n",
       "      <th></th>\n",
       "      <th>customer_id</th>\n",
       "      <th>article_id</th>\n",
       "      <th>source</th>\n",
       "      <th>score</th>\n",
       "      <th>rank</th>\n",
       "    </tr>\n",
       "  </thead>\n",
       "  <tbody>\n",
       "    <tr>\n",
       "      <th>0</th>\n",
       "      <td>6273068272832019592</td>\n",
       "      <td>751471001.0</td>\n",
       "      <td>3</td>\n",
       "      <td>0.002863</td>\n",
       "      <td>10.0</td>\n",
       "    </tr>\n",
       "    <tr>\n",
       "      <th>1</th>\n",
       "      <td>6273068272832019592</td>\n",
       "      <td>918292001.0</td>\n",
       "      <td>3</td>\n",
       "      <td>0.004184</td>\n",
       "      <td>4.0</td>\n",
       "    </tr>\n",
       "    <tr>\n",
       "      <th>2</th>\n",
       "      <td>6273068272832019592</td>\n",
       "      <td>706016001.0</td>\n",
       "      <td>3</td>\n",
       "      <td>0.002716</td>\n",
       "      <td>11.0</td>\n",
       "    </tr>\n",
       "    <tr>\n",
       "      <th>3</th>\n",
       "      <td>6273068272832019592</td>\n",
       "      <td>809238005.0</td>\n",
       "      <td>3</td>\n",
       "      <td>0.002569</td>\n",
       "      <td>12.0</td>\n",
       "    </tr>\n",
       "    <tr>\n",
       "      <th>4</th>\n",
       "      <td>6273068272832019592</td>\n",
       "      <td>865799006.0</td>\n",
       "      <td>3</td>\n",
       "      <td>0.004111</td>\n",
       "      <td>5.0</td>\n",
       "    </tr>\n",
       "    <tr>\n",
       "      <th>...</th>\n",
       "      <td>...</td>\n",
       "      <td>...</td>\n",
       "      <td>...</td>\n",
       "      <td>...</td>\n",
       "      <td>...</td>\n",
       "    </tr>\n",
       "    <tr>\n",
       "      <th>32880969</th>\n",
       "      <td>5282364877236265871</td>\n",
       "      <td>706016002.0</td>\n",
       "      <td>3</td>\n",
       "      <td>0.003405</td>\n",
       "      <td>5.0</td>\n",
       "    </tr>\n",
       "    <tr>\n",
       "      <th>32880970</th>\n",
       "      <td>5282364877236265871</td>\n",
       "      <td>809238001.0</td>\n",
       "      <td>3</td>\n",
       "      <td>0.003178</td>\n",
       "      <td>7.0</td>\n",
       "    </tr>\n",
       "    <tr>\n",
       "      <th>32880971</th>\n",
       "      <td>5282364877236265871</td>\n",
       "      <td>685814003.0</td>\n",
       "      <td>3</td>\n",
       "      <td>0.006281</td>\n",
       "      <td>1.0</td>\n",
       "    </tr>\n",
       "    <tr>\n",
       "      <th>32880972</th>\n",
       "      <td>5282364877236265871</td>\n",
       "      <td>706016001.0</td>\n",
       "      <td>3</td>\n",
       "      <td>0.003330</td>\n",
       "      <td>6.0</td>\n",
       "    </tr>\n",
       "    <tr>\n",
       "      <th>32880973</th>\n",
       "      <td>5282364877236265871</td>\n",
       "      <td>850917001.0</td>\n",
       "      <td>3</td>\n",
       "      <td>0.003027</td>\n",
       "      <td>8.0</td>\n",
       "    </tr>\n",
       "  </tbody>\n",
       "</table>\n",
       "<p>32880974 rows × 5 columns</p>\n",
       "</div>"
      ],
      "text/plain": [
       "                  customer_id   article_id  source     score  rank\n",
       "0         6273068272832019592  751471001.0       3  0.002863  10.0\n",
       "1         6273068272832019592  918292001.0       3  0.004184   4.0\n",
       "2         6273068272832019592  706016001.0       3  0.002716  11.0\n",
       "3         6273068272832019592  809238005.0       3  0.002569  12.0\n",
       "4         6273068272832019592  865799006.0       3  0.004111   5.0\n",
       "...                       ...          ...     ...       ...   ...\n",
       "32880969  5282364877236265871  706016002.0       3  0.003405   5.0\n",
       "32880970  5282364877236265871  809238001.0       3  0.003178   7.0\n",
       "32880971  5282364877236265871  685814003.0       3  0.006281   1.0\n",
       "32880972  5282364877236265871  706016001.0       3  0.003330   6.0\n",
       "32880973  5282364877236265871  850917001.0       3  0.003027   8.0\n",
       "\n",
       "[32880974 rows x 5 columns]"
      ]
     },
     "execution_count": 84,
     "metadata": {},
     "output_type": "execute_result"
    }
   ],
   "source": [
    "result3"
   ]
  },
  {
   "cell_type": "code",
   "execution_count": 85,
   "id": "85e615e6",
   "metadata": {
    "_cell_guid": "5e566c70-b1cf-42e4-807d-e58ca1479fb9",
    "_uuid": "71c4556b-4f76-4996-bcf5-e429af32021a",
    "collapsed": false,
    "execution": {
     "iopub.execute_input": "2022-03-28T07:13:19.915098Z",
     "iopub.status.busy": "2022-03-28T07:13:19.914260Z",
     "iopub.status.idle": "2022-03-28T07:13:19.916112Z",
     "shell.execute_reply": "2022-03-28T07:13:19.916545Z",
     "shell.execute_reply.started": "2022-03-28T07:05:22.269417Z"
    },
    "jupyter": {
     "outputs_hidden": false
    },
    "papermill": {
     "duration": 0.158438,
     "end_time": "2022-03-28T07:13:19.916681",
     "exception": false,
     "start_time": "2022-03-28T07:13:19.758243",
     "status": "completed"
    },
    "tags": []
   },
   "outputs": [],
   "source": [
    "#assert False"
   ]
  },
  {
   "cell_type": "code",
   "execution_count": 86,
   "id": "03a17935",
   "metadata": {
    "_cell_guid": "c18574be-011d-4b6f-925d-a184cdfa595a",
    "_uuid": "3ed3a145-d26d-4ef2-997c-99a0026efefc",
    "collapsed": false,
    "execution": {
     "iopub.execute_input": "2022-03-28T07:13:20.220604Z",
     "iopub.status.busy": "2022-03-28T07:13:20.219729Z",
     "iopub.status.idle": "2022-03-28T07:13:20.222435Z",
     "shell.execute_reply": "2022-03-28T07:13:20.222018Z",
     "shell.execute_reply.started": "2022-03-28T07:05:22.283881Z"
    },
    "jupyter": {
     "outputs_hidden": false
    },
    "papermill": {
     "duration": 0.155725,
     "end_time": "2022-03-28T07:13:20.222554",
     "exception": false,
     "start_time": "2022-03-28T07:13:20.066829",
     "status": "completed"
    },
    "tags": []
   },
   "outputs": [],
   "source": [
    "# del result1\n",
    "# del result2\n",
    "# del result3"
   ]
  },
  {
   "cell_type": "code",
   "execution_count": 87,
   "id": "8d6fa5ad",
   "metadata": {
    "_cell_guid": "a853cd5c-2f6d-4cb8-9ad1-7b1eadf5f19d",
    "_uuid": "bd54eef8-75c5-47db-99f5-9fa77206a3d4",
    "collapsed": false,
    "execution": {
     "iopub.execute_input": "2022-03-28T07:13:20.528672Z",
     "iopub.status.busy": "2022-03-28T07:13:20.527579Z",
     "iopub.status.idle": "2022-03-28T07:13:21.679312Z",
     "shell.execute_reply": "2022-03-28T07:13:21.678826Z",
     "shell.execute_reply.started": "2022-03-28T07:05:22.293402Z"
    },
    "jupyter": {
     "outputs_hidden": false
    },
    "papermill": {
     "duration": 1.306792,
     "end_time": "2022-03-28T07:13:21.679444",
     "exception": false,
     "start_time": "2022-03-28T07:13:20.372652",
     "status": "completed"
    },
    "tags": []
   },
   "outputs": [],
   "source": [
    "result = pd.concat([result1, result2, result3], axis = 0)"
   ]
  },
  {
   "cell_type": "code",
   "execution_count": 88,
   "id": "6970fdc0",
   "metadata": {
    "_cell_guid": "34084f83-7278-4b41-b521-a07cc55cd27c",
    "_uuid": "cc144bc7-3c43-4c3a-9140-b98a4177845f",
    "collapsed": false,
    "execution": {
     "iopub.execute_input": "2022-03-28T07:13:21.986550Z",
     "iopub.status.busy": "2022-03-28T07:13:21.985808Z",
     "iopub.status.idle": "2022-03-28T07:13:21.988250Z",
     "shell.execute_reply": "2022-03-28T07:13:21.987854Z",
     "shell.execute_reply.started": "2022-03-28T07:05:23.457997Z"
    },
    "jupyter": {
     "outputs_hidden": false
    },
    "papermill": {
     "duration": 0.157752,
     "end_time": "2022-03-28T07:13:21.988358",
     "exception": false,
     "start_time": "2022-03-28T07:13:21.830606",
     "status": "completed"
    },
    "tags": []
   },
   "outputs": [],
   "source": [
    "# 调整融合结果"
   ]
  },
  {
   "cell_type": "code",
   "execution_count": 89,
   "id": "cade7af9",
   "metadata": {
    "_cell_guid": "18a553ef-5214-44f2-b873-2501532733a4",
    "_uuid": "227fc09d-b34c-4391-b8e5-dbe14bc69404",
    "collapsed": false,
    "execution": {
     "iopub.execute_input": "2022-03-28T07:13:22.293972Z",
     "iopub.status.busy": "2022-03-28T07:13:22.293134Z",
     "iopub.status.idle": "2022-03-28T07:13:22.295137Z",
     "shell.execute_reply": "2022-03-28T07:13:22.295532Z",
     "shell.execute_reply.started": "2022-03-28T07:05:23.464034Z"
    },
    "jupyter": {
     "outputs_hidden": false
    },
    "papermill": {
     "duration": 0.157373,
     "end_time": "2022-03-28T07:13:22.295673",
     "exception": false,
     "start_time": "2022-03-28T07:13:22.138300",
     "status": "completed"
    },
    "tags": []
   },
   "outputs": [],
   "source": [
    "#result = result3.copy()"
   ]
  },
  {
   "cell_type": "code",
   "execution_count": 90,
   "id": "829e7a24",
   "metadata": {
    "_cell_guid": "9aafb751-e431-4f4b-a25d-5058a372ed2e",
    "_uuid": "54b0b0b2-6237-42ab-bfe6-bdb423343fb5",
    "collapsed": false,
    "execution": {
     "iopub.execute_input": "2022-03-28T07:13:22.732425Z",
     "iopub.status.busy": "2022-03-28T07:13:22.730834Z",
     "iopub.status.idle": "2022-03-28T07:13:22.734521Z",
     "shell.execute_reply": "2022-03-28T07:13:22.734075Z",
     "shell.execute_reply.started": "2022-03-28T07:05:23.473445Z"
    },
    "jupyter": {
     "outputs_hidden": false
    },
    "papermill": {
     "duration": 0.287699,
     "end_time": "2022-03-28T07:13:22.734646",
     "exception": false,
     "start_time": "2022-03-28T07:13:22.446947",
     "status": "completed"
    },
    "tags": []
   },
   "outputs": [
    {
     "data": {
      "text/plain": [
       "126"
      ]
     },
     "execution_count": 90,
     "metadata": {},
     "output_type": "execute_result"
    }
   ],
   "source": [
    "gc.collect()"
   ]
  },
  {
   "cell_type": "code",
   "execution_count": 91,
   "id": "e8e44769",
   "metadata": {
    "_cell_guid": "bb4fb7e5-199a-43aa-87d6-9e18b6a121af",
    "_uuid": "9ace348d-b4f6-4055-824e-649f1d1e89b7",
    "collapsed": false,
    "execution": {
     "iopub.execute_input": "2022-03-28T07:13:23.049136Z",
     "iopub.status.busy": "2022-03-28T07:13:23.047558Z",
     "iopub.status.idle": "2022-03-28T07:13:23.049807Z",
     "shell.execute_reply": "2022-03-28T07:13:23.050416Z",
     "shell.execute_reply.started": "2022-03-28T07:05:23.611029Z"
    },
    "jupyter": {
     "outputs_hidden": false
    },
    "papermill": {
     "duration": 0.162746,
     "end_time": "2022-03-28T07:13:23.050593",
     "exception": false,
     "start_time": "2022-03-28T07:13:22.887847",
     "status": "completed"
    },
    "tags": []
   },
   "outputs": [],
   "source": [
    "result.index = range(len(result))"
   ]
  },
  {
   "cell_type": "markdown",
   "id": "a372f40b",
   "metadata": {
    "papermill": {
     "duration": 0.149786,
     "end_time": "2022-03-28T07:13:23.352229",
     "exception": false,
     "start_time": "2022-03-28T07:13:23.202443",
     "status": "completed"
    },
    "tags": []
   },
   "source": [
    "\n",
    "1\n",
    "\n",
    "1\n",
    "\n",
    "1\n",
    "\n",
    "1\n",
    "\n",
    "1\n",
    "\n",
    "1\n",
    "\n",
    "1\n",
    "\n",
    "1\n",
    "\n",
    "1\n",
    "\n",
    "1\n",
    "\n",
    "1\n",
    "\n",
    "1\n",
    "\n",
    "\n",
    "\n",
    "\n",
    "\n",
    "\n",
    "\n",
    "\n",
    "\n",
    "\n",
    "\n",
    "\n",
    "\n",
    "\n",
    "\n",
    "\n",
    "\n",
    "\n",
    "\n",
    "\n",
    "\n"
   ]
  },
  {
   "cell_type": "code",
   "execution_count": 92,
   "id": "6e36b3da",
   "metadata": {
    "_cell_guid": "f54a836d-b7b9-4048-8ed3-6416a6eba9e4",
    "_uuid": "bb47e468-4aa6-4d1b-8373-71d7a4310d2f",
    "collapsed": false,
    "execution": {
     "iopub.execute_input": "2022-03-28T07:13:23.665305Z",
     "iopub.status.busy": "2022-03-28T07:13:23.664470Z",
     "iopub.status.idle": "2022-03-28T07:13:26.050755Z",
     "shell.execute_reply": "2022-03-28T07:13:26.050226Z",
     "shell.execute_reply.started": "2022-03-28T07:05:23.619493Z"
    },
    "jupyter": {
     "outputs_hidden": false
    },
    "papermill": {
     "duration": 2.54753,
     "end_time": "2022-03-28T07:13:26.050899",
     "exception": false,
     "start_time": "2022-03-28T07:13:23.503369",
     "status": "completed"
    },
    "tags": []
   },
   "outputs": [],
   "source": [
    "result.loc[result[\"source\"] == 3, \"score\"] *= 0.8\n",
    "result.loc[result[\"source\"] == 2, \"score\"] *= 0.25"
   ]
  },
  {
   "cell_type": "code",
   "execution_count": 93,
   "id": "e5a12b1e",
   "metadata": {
    "_cell_guid": "889a61fc-c4fa-4503-81a9-a09ffbad09c2",
    "_uuid": "fb97febd-786c-42ec-94db-d50dc2849090",
    "collapsed": false,
    "execution": {
     "iopub.execute_input": "2022-03-28T07:13:26.352561Z",
     "iopub.status.busy": "2022-03-28T07:13:26.351697Z",
     "iopub.status.idle": "2022-03-28T07:13:26.354011Z",
     "shell.execute_reply": "2022-03-28T07:13:26.353482Z",
     "shell.execute_reply.started": "2022-03-28T07:05:26.111789Z"
    },
    "jupyter": {
     "outputs_hidden": false
    },
    "papermill": {
     "duration": 0.153819,
     "end_time": "2022-03-28T07:13:26.354119",
     "exception": false,
     "start_time": "2022-03-28T07:13:26.200300",
     "status": "completed"
    },
    "tags": []
   },
   "outputs": [],
   "source": [
    "#del result1\n",
    "#del result2\n",
    "#del sub_customer"
   ]
  },
  {
   "cell_type": "code",
   "execution_count": 94,
   "id": "aa457cac",
   "metadata": {
    "_cell_guid": "588b511e-2aef-4cb7-8199-c6a44dc20d53",
    "_uuid": "01bf0763-33f8-46d4-bf92-9efb3827e953",
    "collapsed": false,
    "execution": {
     "iopub.execute_input": "2022-03-28T07:13:26.657721Z",
     "iopub.status.busy": "2022-03-28T07:13:26.656695Z",
     "iopub.status.idle": "2022-03-28T07:13:27.664695Z",
     "shell.execute_reply": "2022-03-28T07:13:27.664136Z",
     "shell.execute_reply.started": "2022-03-28T07:05:26.116649Z"
    },
    "jupyter": {
     "outputs_hidden": false
    },
    "papermill": {
     "duration": 1.162096,
     "end_time": "2022-03-28T07:13:27.664834",
     "exception": false,
     "start_time": "2022-03-28T07:13:26.502738",
     "status": "completed"
    },
    "tags": []
   },
   "outputs": [],
   "source": [
    "result = cudf.DataFrame(result, dtype={'article_id': 'int32', 'customer_id':'int64'})"
   ]
  },
  {
   "cell_type": "code",
   "execution_count": 95,
   "id": "49f88d74",
   "metadata": {
    "_cell_guid": "49bb2118-e773-4a70-90e9-a92b968ea77c",
    "_uuid": "6461d0e9-6fa1-4f4c-97f5-0d9b55391d8e",
    "collapsed": false,
    "execution": {
     "iopub.execute_input": "2022-03-28T07:13:27.977168Z",
     "iopub.status.busy": "2022-03-28T07:13:27.975094Z",
     "iopub.status.idle": "2022-03-28T07:13:28.034081Z",
     "shell.execute_reply": "2022-03-28T07:13:28.034446Z",
     "shell.execute_reply.started": "2022-03-28T07:05:27.127440Z"
    },
    "jupyter": {
     "outputs_hidden": false
    },
    "papermill": {
     "duration": 0.217269,
     "end_time": "2022-03-28T07:13:28.034595",
     "exception": false,
     "start_time": "2022-03-28T07:13:27.817326",
     "status": "completed"
    },
    "tags": []
   },
   "outputs": [
    {
     "data": {
      "text/html": [
       "<div>\n",
       "<style scoped>\n",
       "    .dataframe tbody tr th:only-of-type {\n",
       "        vertical-align: middle;\n",
       "    }\n",
       "\n",
       "    .dataframe tbody tr th {\n",
       "        vertical-align: top;\n",
       "    }\n",
       "\n",
       "    .dataframe thead th {\n",
       "        text-align: right;\n",
       "    }\n",
       "</style>\n",
       "<table border=\"1\" class=\"dataframe\">\n",
       "  <thead>\n",
       "    <tr style=\"text-align: right;\">\n",
       "      <th></th>\n",
       "      <th>customer_id</th>\n",
       "      <th>article_id</th>\n",
       "      <th>source</th>\n",
       "      <th>score</th>\n",
       "      <th>rank</th>\n",
       "    </tr>\n",
       "  </thead>\n",
       "  <tbody>\n",
       "    <tr>\n",
       "      <th>0</th>\n",
       "      <td>-9223352921020755230</td>\n",
       "      <td>568597006</td>\n",
       "      <td>1</td>\n",
       "      <td>0.000559</td>\n",
       "      <td>5.0</td>\n",
       "    </tr>\n",
       "    <tr>\n",
       "      <th>1</th>\n",
       "      <td>-9223352921020755230</td>\n",
       "      <td>673396002</td>\n",
       "      <td>1</td>\n",
       "      <td>0.044511</td>\n",
       "      <td>1.0</td>\n",
       "    </tr>\n",
       "    <tr>\n",
       "      <th>2</th>\n",
       "      <td>-9223352921020755230</td>\n",
       "      <td>706016001</td>\n",
       "      <td>1</td>\n",
       "      <td>0.003289</td>\n",
       "      <td>4.0</td>\n",
       "    </tr>\n",
       "    <tr>\n",
       "      <th>3</th>\n",
       "      <td>-9223352921020755230</td>\n",
       "      <td>812167004</td>\n",
       "      <td>1</td>\n",
       "      <td>0.019179</td>\n",
       "      <td>2.0</td>\n",
       "    </tr>\n",
       "    <tr>\n",
       "      <th>4</th>\n",
       "      <td>-9223352921020755230</td>\n",
       "      <td>849493006</td>\n",
       "      <td>1</td>\n",
       "      <td>0.006174</td>\n",
       "      <td>3.0</td>\n",
       "    </tr>\n",
       "    <tr>\n",
       "      <th>...</th>\n",
       "      <td>...</td>\n",
       "      <td>...</td>\n",
       "      <td>...</td>\n",
       "      <td>...</td>\n",
       "      <td>...</td>\n",
       "    </tr>\n",
       "    <tr>\n",
       "      <th>43579613</th>\n",
       "      <td>5282364877236265871</td>\n",
       "      <td>706016002</td>\n",
       "      <td>3</td>\n",
       "      <td>0.002724</td>\n",
       "      <td>5.0</td>\n",
       "    </tr>\n",
       "    <tr>\n",
       "      <th>43579614</th>\n",
       "      <td>5282364877236265871</td>\n",
       "      <td>809238001</td>\n",
       "      <td>3</td>\n",
       "      <td>0.002543</td>\n",
       "      <td>7.0</td>\n",
       "    </tr>\n",
       "    <tr>\n",
       "      <th>43579615</th>\n",
       "      <td>5282364877236265871</td>\n",
       "      <td>685814003</td>\n",
       "      <td>3</td>\n",
       "      <td>0.005025</td>\n",
       "      <td>1.0</td>\n",
       "    </tr>\n",
       "    <tr>\n",
       "      <th>43579616</th>\n",
       "      <td>5282364877236265871</td>\n",
       "      <td>706016001</td>\n",
       "      <td>3</td>\n",
       "      <td>0.002664</td>\n",
       "      <td>6.0</td>\n",
       "    </tr>\n",
       "    <tr>\n",
       "      <th>43579617</th>\n",
       "      <td>5282364877236265871</td>\n",
       "      <td>850917001</td>\n",
       "      <td>3</td>\n",
       "      <td>0.002421</td>\n",
       "      <td>8.0</td>\n",
       "    </tr>\n",
       "  </tbody>\n",
       "</table>\n",
       "<p>43579618 rows × 5 columns</p>\n",
       "</div>"
      ],
      "text/plain": [
       "                  customer_id  article_id  source     score  rank\n",
       "0        -9223352921020755230   568597006       1  0.000559   5.0\n",
       "1        -9223352921020755230   673396002       1  0.044511   1.0\n",
       "2        -9223352921020755230   706016001       1  0.003289   4.0\n",
       "3        -9223352921020755230   812167004       1  0.019179   2.0\n",
       "4        -9223352921020755230   849493006       1  0.006174   3.0\n",
       "...                       ...         ...     ...       ...   ...\n",
       "43579613  5282364877236265871   706016002       3  0.002724   5.0\n",
       "43579614  5282364877236265871   809238001       3  0.002543   7.0\n",
       "43579615  5282364877236265871   685814003       3  0.005025   1.0\n",
       "43579616  5282364877236265871   706016001       3  0.002664   6.0\n",
       "43579617  5282364877236265871   850917001       3  0.002421   8.0\n",
       "\n",
       "[43579618 rows x 5 columns]"
      ]
     },
     "execution_count": 95,
     "metadata": {},
     "output_type": "execute_result"
    }
   ],
   "source": [
    "result"
   ]
  },
  {
   "cell_type": "code",
   "execution_count": 96,
   "id": "efa3ce85",
   "metadata": {
    "_cell_guid": "045655d5-f31c-434e-b66a-8c905f401acc",
    "_uuid": "1c966656-aef7-44cb-81c6-69aae78eab2c",
    "collapsed": false,
    "execution": {
     "iopub.execute_input": "2022-03-28T07:13:28.392017Z",
     "iopub.status.busy": "2022-03-28T07:13:28.391186Z",
     "iopub.status.idle": "2022-03-28T07:13:28.393667Z",
     "shell.execute_reply": "2022-03-28T07:13:28.393241Z",
     "shell.execute_reply.started": "2022-03-28T07:05:27.206540Z"
    },
    "jupyter": {
     "outputs_hidden": false
    },
    "papermill": {
     "duration": 0.159484,
     "end_time": "2022-03-28T07:13:28.393791",
     "exception": false,
     "start_time": "2022-03-28T07:13:28.234307",
     "status": "completed"
    },
    "tags": []
   },
   "outputs": [],
   "source": [
    "#merge_result = result.groupby([\"customer_id\", \"article_id\"]).apply(lambda x:x.nlargest(1, \"score\"))"
   ]
  },
  {
   "cell_type": "code",
   "execution_count": 97,
   "id": "0ade44a1",
   "metadata": {
    "_cell_guid": "a3814516-dcce-468f-9242-018d344a166b",
    "_uuid": "7401a468-1d3f-4e23-97e9-7665c340891a",
    "collapsed": false,
    "execution": {
     "iopub.execute_input": "2022-03-28T07:13:28.696036Z",
     "iopub.status.busy": "2022-03-28T07:13:28.695337Z",
     "iopub.status.idle": "2022-03-28T07:13:28.843809Z",
     "shell.execute_reply": "2022-03-28T07:13:28.843245Z",
     "shell.execute_reply.started": "2022-03-28T07:05:27.213892Z"
    },
    "jupyter": {
     "outputs_hidden": false
    },
    "papermill": {
     "duration": 0.301788,
     "end_time": "2022-03-28T07:13:28.843929",
     "exception": false,
     "start_time": "2022-03-28T07:13:28.542141",
     "status": "completed"
    },
    "tags": []
   },
   "outputs": [],
   "source": [
    "merge_result = result.groupby([\"customer_id\", \"article_id\"])['score'].max().reset_index()"
   ]
  },
  {
   "cell_type": "code",
   "execution_count": 98,
   "id": "9a301099",
   "metadata": {
    "_cell_guid": "2f5564e8-f69c-473e-a1b4-2e824dd3c991",
    "_uuid": "dd38d6a2-b28f-462c-85fc-1ffbe235d60d",
    "collapsed": false,
    "execution": {
     "iopub.execute_input": "2022-03-28T07:13:29.154800Z",
     "iopub.status.busy": "2022-03-28T07:13:29.154237Z",
     "iopub.status.idle": "2022-03-28T07:13:29.157514Z",
     "shell.execute_reply": "2022-03-28T07:13:29.157073Z",
     "shell.execute_reply.started": "2022-03-28T07:05:27.372027Z"
    },
    "jupyter": {
     "outputs_hidden": false
    },
    "papermill": {
     "duration": 0.158718,
     "end_time": "2022-03-28T07:13:29.157631",
     "exception": false,
     "start_time": "2022-03-28T07:13:28.998913",
     "status": "completed"
    },
    "tags": []
   },
   "outputs": [],
   "source": [
    "# del result"
   ]
  },
  {
   "cell_type": "code",
   "execution_count": 99,
   "id": "8b21ab56",
   "metadata": {
    "_cell_guid": "4bc3c148-1740-4a26-b04b-26e39c57e311",
    "_uuid": "e0495319-e95b-4426-8cdd-303816ffdfb4",
    "collapsed": false,
    "execution": {
     "iopub.execute_input": "2022-03-28T07:13:29.463855Z",
     "iopub.status.busy": "2022-03-28T07:13:29.463163Z",
     "iopub.status.idle": "2022-03-28T07:13:29.465943Z",
     "shell.execute_reply": "2022-03-28T07:13:29.465441Z",
     "shell.execute_reply.started": "2022-03-28T07:05:27.377551Z"
    },
    "jupyter": {
     "outputs_hidden": false
    },
    "papermill": {
     "duration": 0.15711,
     "end_time": "2022-03-28T07:13:29.466056",
     "exception": false,
     "start_time": "2022-03-28T07:13:29.308946",
     "status": "completed"
    },
    "tags": []
   },
   "outputs": [],
   "source": [
    "# purchase_df = tmp.sort_values(['customer_id', 'value'], ascending = False).reset_index(drop = True)\n",
    "# purchase_df['prediction'] = '0' + purchase_df['article_id'].astype(str) + ' '\n",
    "# purchase_df = purchase_df.groupby('customer_id').agg({'prediction': sum}).reset_index()\n",
    "# purchase_df['prediction'] = purchase_df['prediction'].str.strip()\n",
    "# purchase_df = cudf.DataFrame(purchase_df)"
   ]
  },
  {
   "cell_type": "code",
   "execution_count": 100,
   "id": "98acb0b3",
   "metadata": {
    "_cell_guid": "14ef8feb-6697-4a2c-a596-2634819dd881",
    "_uuid": "a62caeca-d206-4edf-a818-a8e494b19692",
    "collapsed": false,
    "execution": {
     "iopub.execute_input": "2022-03-28T07:13:29.775279Z",
     "iopub.status.busy": "2022-03-28T07:13:29.774478Z",
     "iopub.status.idle": "2022-03-28T07:13:29.776984Z",
     "shell.execute_reply": "2022-03-28T07:13:29.776575Z",
     "shell.execute_reply.started": "2022-03-28T07:05:27.387933Z"
    },
    "jupyter": {
     "outputs_hidden": false
    },
    "papermill": {
     "duration": 0.15796,
     "end_time": "2022-03-28T07:13:29.777093",
     "exception": false,
     "start_time": "2022-03-28T07:13:29.619133",
     "status": "completed"
    },
    "tags": []
   },
   "outputs": [],
   "source": [
    "# %%time\n",
    "# purchase_dict = {}\n",
    "\n",
    "# tmp = df.copy().to_pandas()\n",
    "# tmp['x'] = ((last_ts - tmp['t_dat']) / np.timedelta64(1, 'D')).astype(int)\n",
    "# tmp['dummy_1'] = 1 \n",
    "# tmp['x'] = tmp[[\"x\", \"dummy_1\"]].max(axis=1)\n",
    "\n",
    "# a, b, c, d = 2.5e4, 1.5e5, 2e-1, 1e3\n",
    "# total = 1715530\n",
    "# tmp['y'] = (a / np.sqrt(tmp['x']) + b * np.exp(-c*tmp['x']) - d) / total\n",
    "\n",
    "# tmp['dummy_0'] = 0 \n",
    "# tmp['y'] = tmp[[\"y\", \"dummy_0\"]].max(axis=1)\n",
    "# tmp['value'] = tmp['quotient'] * tmp['y'] \n",
    "\n",
    "# tmp = tmp.groupby(['customer_id', 'article_id']).agg({'value': 'sum'})\n",
    "# tmp = tmp.reset_index()\n",
    "\n",
    "# tmp = tmp.loc[tmp['value'] > 0]\n",
    "# tmp['rank'] = tmp.groupby(\"customer_id\")[\"value\"].rank(\"dense\", ascending=False)\n",
    "# tmp = tmp.loc[tmp['rank'] <= 12]\n",
    "\n",
    "# # for customer_id in tmp['customer_id'].unique():\n",
    "# #     purchase_dict[customer_id] = {} \n",
    "\n",
    "# # for customer_id, article_id, value in zip(tmp['customer_id'], tmp['article_id'], tmp['value']):\n",
    "# #     purchase_dict[customer_id][article_id] = value\n",
    "\n",
    "# purchase_df = tmp.sort_values(['customer_id', 'value'], ascending = False).reset_index(drop = True)\n",
    "# purchase_df['prediction'] = '0' + purchase_df['article_id'].astype(str) + ' '\n",
    "# purchase_df = purchase_df.groupby('customer_id').agg({'prediction': sum}).reset_index()\n",
    "# purchase_df['prediction'] = purchase_df['prediction'].str.strip()\n",
    "# purchase_df = cudf.DataFrame(purchase_df)"
   ]
  },
  {
   "cell_type": "markdown",
   "id": "ab8bd3ee",
   "metadata": {
    "_cell_guid": "d8a96755-ade6-49e7-9944-7ab45cb6aeb7",
    "_uuid": "cd1f7cb3-5429-4cf6-a08d-65cd32930812",
    "editable": false,
    "papermill": {
     "duration": 0.150437,
     "end_time": "2022-03-28T07:13:30.079757",
     "exception": false,
     "start_time": "2022-03-28T07:13:29.929320",
     "status": "completed"
    },
    "tags": []
   },
   "source": [
    "### Make a submission"
   ]
  },
  {
   "cell_type": "code",
   "execution_count": 101,
   "id": "ec3bf13d",
   "metadata": {
    "_cell_guid": "57a6e73d-1c2a-41e2-bfb9-61ce1ee91389",
    "_uuid": "eeb176a3-953c-46d3-87f7-fb565ea3d935",
    "collapsed": false,
    "execution": {
     "iopub.execute_input": "2022-03-28T07:13:30.385714Z",
     "iopub.status.busy": "2022-03-28T07:13:30.384975Z",
     "iopub.status.idle": "2022-03-28T07:13:30.449228Z",
     "shell.execute_reply": "2022-03-28T07:13:30.448796Z",
     "shell.execute_reply.started": "2022-03-28T07:05:27.395693Z"
    },
    "jupyter": {
     "outputs_hidden": false
    },
    "papermill": {
     "duration": 0.218507,
     "end_time": "2022-03-28T07:13:30.449345",
     "exception": false,
     "start_time": "2022-03-28T07:13:30.230838",
     "status": "completed"
    },
    "tags": []
   },
   "outputs": [],
   "source": [
    "merge_result[\"article_id\"] = \"0\"+merge_result[\"article_id\"].astype(\"str\")"
   ]
  },
  {
   "cell_type": "code",
   "execution_count": 102,
   "id": "6a01f542",
   "metadata": {
    "_cell_guid": "6dad8baa-a1ab-463b-a3cc-03eac43b79fc",
    "_uuid": "dd3f6fbc-14ad-48ab-ac44-6fae3440d5f0",
    "collapsed": false,
    "execution": {
     "iopub.execute_input": "2022-03-28T07:13:30.764152Z",
     "iopub.status.busy": "2022-03-28T07:13:30.763356Z",
     "iopub.status.idle": "2022-03-28T07:13:30.801204Z",
     "shell.execute_reply": "2022-03-28T07:13:30.801641Z",
     "shell.execute_reply.started": "2022-03-28T07:05:27.464229Z"
    },
    "jupyter": {
     "outputs_hidden": false
    },
    "papermill": {
     "duration": 0.202419,
     "end_time": "2022-03-28T07:13:30.801777",
     "exception": false,
     "start_time": "2022-03-28T07:13:30.599358",
     "status": "completed"
    },
    "tags": []
   },
   "outputs": [
    {
     "data": {
      "text/html": [
       "<div>\n",
       "<style scoped>\n",
       "    .dataframe tbody tr th:only-of-type {\n",
       "        vertical-align: middle;\n",
       "    }\n",
       "\n",
       "    .dataframe tbody tr th {\n",
       "        vertical-align: top;\n",
       "    }\n",
       "\n",
       "    .dataframe thead th {\n",
       "        text-align: right;\n",
       "    }\n",
       "</style>\n",
       "<table border=\"1\" class=\"dataframe\">\n",
       "  <thead>\n",
       "    <tr style=\"text-align: right;\">\n",
       "      <th></th>\n",
       "      <th>customer_id</th>\n",
       "      <th>article_id</th>\n",
       "      <th>score</th>\n",
       "    </tr>\n",
       "  </thead>\n",
       "  <tbody>\n",
       "    <tr>\n",
       "      <th>0</th>\n",
       "      <td>-5135781259237087037</td>\n",
       "      <td>0517729091</td>\n",
       "      <td>0.000081</td>\n",
       "    </tr>\n",
       "    <tr>\n",
       "      <th>1</th>\n",
       "      <td>-5624871500914218579</td>\n",
       "      <td>0751471001</td>\n",
       "      <td>0.002880</td>\n",
       "    </tr>\n",
       "    <tr>\n",
       "      <th>2</th>\n",
       "      <td>-7970946427098838191</td>\n",
       "      <td>0763988001</td>\n",
       "      <td>0.005507</td>\n",
       "    </tr>\n",
       "    <tr>\n",
       "      <th>3</th>\n",
       "      <td>9104575062053714894</td>\n",
       "      <td>0706016001</td>\n",
       "      <td>0.002335</td>\n",
       "    </tr>\n",
       "    <tr>\n",
       "      <th>4</th>\n",
       "      <td>7460620878329655984</td>\n",
       "      <td>0762846027</td>\n",
       "      <td>0.002295</td>\n",
       "    </tr>\n",
       "    <tr>\n",
       "      <th>...</th>\n",
       "      <td>...</td>\n",
       "      <td>...</td>\n",
       "      <td>...</td>\n",
       "    </tr>\n",
       "    <tr>\n",
       "      <th>42789925</th>\n",
       "      <td>1656649288221461275</td>\n",
       "      <td>0542533019</td>\n",
       "      <td>0.000484</td>\n",
       "    </tr>\n",
       "    <tr>\n",
       "      <th>42789926</th>\n",
       "      <td>-2592629029746870892</td>\n",
       "      <td>0797835008</td>\n",
       "      <td>0.005228</td>\n",
       "    </tr>\n",
       "    <tr>\n",
       "      <th>42789927</th>\n",
       "      <td>2024975388967780640</td>\n",
       "      <td>0918522001</td>\n",
       "      <td>0.003060</td>\n",
       "    </tr>\n",
       "    <tr>\n",
       "      <th>42789928</th>\n",
       "      <td>1670701978794802176</td>\n",
       "      <td>0713199006</td>\n",
       "      <td>0.000132</td>\n",
       "    </tr>\n",
       "    <tr>\n",
       "      <th>42789929</th>\n",
       "      <td>193248874012082528</td>\n",
       "      <td>0909371001</td>\n",
       "      <td>0.001495</td>\n",
       "    </tr>\n",
       "  </tbody>\n",
       "</table>\n",
       "<p>42789930 rows × 3 columns</p>\n",
       "</div>"
      ],
      "text/plain": [
       "                  customer_id  article_id     score\n",
       "0        -5135781259237087037  0517729091  0.000081\n",
       "1        -5624871500914218579  0751471001  0.002880\n",
       "2        -7970946427098838191  0763988001  0.005507\n",
       "3         9104575062053714894  0706016001  0.002335\n",
       "4         7460620878329655984  0762846027  0.002295\n",
       "...                       ...         ...       ...\n",
       "42789925  1656649288221461275  0542533019  0.000484\n",
       "42789926 -2592629029746870892  0797835008  0.005228\n",
       "42789927  2024975388967780640  0918522001  0.003060\n",
       "42789928  1670701978794802176  0713199006  0.000132\n",
       "42789929   193248874012082528  0909371001  0.001495\n",
       "\n",
       "[42789930 rows x 3 columns]"
      ]
     },
     "execution_count": 102,
     "metadata": {},
     "output_type": "execute_result"
    }
   ],
   "source": [
    "merge_result"
   ]
  },
  {
   "cell_type": "code",
   "execution_count": 103,
   "id": "a87a5a46",
   "metadata": {
    "_cell_guid": "8185f84e-cedc-48c4-86a1-d1bb371c28dd",
    "_uuid": "23818e7f-b7a3-432f-83bf-6136af149dfc",
    "collapsed": false,
    "execution": {
     "iopub.execute_input": "2022-03-28T07:13:31.108094Z",
     "iopub.status.busy": "2022-03-28T07:13:31.107311Z",
     "iopub.status.idle": "2022-03-28T07:13:31.704412Z",
     "shell.execute_reply": "2022-03-28T07:13:31.703538Z",
     "shell.execute_reply.started": "2022-03-28T07:05:27.521719Z"
    },
    "jupyter": {
     "outputs_hidden": false
    },
    "papermill": {
     "duration": 0.751882,
     "end_time": "2022-03-28T07:13:31.704577",
     "exception": false,
     "start_time": "2022-03-28T07:13:30.952695",
     "status": "completed"
    },
    "tags": []
   },
   "outputs": [],
   "source": [
    "merge_result = merge_result.sort_values(by = [\"customer_id\", \"score\"], ascending = False)"
   ]
  },
  {
   "cell_type": "code",
   "execution_count": 104,
   "id": "eee6e749",
   "metadata": {
    "_cell_guid": "10c16fac-7e05-433f-b9db-246c57a1de7c",
    "_uuid": "9b04ffe9-0216-4196-a496-de23397301fa",
    "collapsed": false,
    "execution": {
     "iopub.execute_input": "2022-03-28T07:13:32.014258Z",
     "iopub.status.busy": "2022-03-28T07:13:32.012679Z",
     "iopub.status.idle": "2022-03-28T07:13:32.014876Z",
     "shell.execute_reply": "2022-03-28T07:13:32.015337Z",
     "shell.execute_reply.started": "2022-03-28T07:05:28.121729Z"
    },
    "jupyter": {
     "outputs_hidden": false
    },
    "papermill": {
     "duration": 0.15923,
     "end_time": "2022-03-28T07:13:32.015471",
     "exception": false,
     "start_time": "2022-03-28T07:13:31.856241",
     "status": "completed"
    },
    "tags": []
   },
   "outputs": [],
   "source": [
    "#merge_result.to_pandas()[:10000].groupby([\"customer_id\"])[\"article_id\"].agg(lambda x: print(x.to_list()))"
   ]
  },
  {
   "cell_type": "code",
   "execution_count": 105,
   "id": "f5548f06",
   "metadata": {
    "_cell_guid": "61b2ea68-7528-4ec9-8d54-2a5dc5f757bb",
    "_uuid": "42b77504-3d51-48a9-83bc-2a24b68b23f9",
    "collapsed": false,
    "execution": {
     "iopub.execute_input": "2022-03-28T07:13:32.330634Z",
     "iopub.status.busy": "2022-03-28T07:13:32.330060Z",
     "iopub.status.idle": "2022-03-28T07:13:32.372180Z",
     "shell.execute_reply": "2022-03-28T07:13:32.372580Z",
     "shell.execute_reply.started": "2022-03-28T07:05:28.128494Z"
    },
    "jupyter": {
     "outputs_hidden": false
    },
    "papermill": {
     "duration": 0.206367,
     "end_time": "2022-03-28T07:13:32.372719",
     "exception": false,
     "start_time": "2022-03-28T07:13:32.166352",
     "status": "completed"
    },
    "tags": []
   },
   "outputs": [
    {
     "data": {
      "text/html": [
       "<div>\n",
       "<style scoped>\n",
       "    .dataframe tbody tr th:only-of-type {\n",
       "        vertical-align: middle;\n",
       "    }\n",
       "\n",
       "    .dataframe tbody tr th {\n",
       "        vertical-align: top;\n",
       "    }\n",
       "\n",
       "    .dataframe thead th {\n",
       "        text-align: right;\n",
       "    }\n",
       "</style>\n",
       "<table border=\"1\" class=\"dataframe\">\n",
       "  <thead>\n",
       "    <tr style=\"text-align: right;\">\n",
       "      <th></th>\n",
       "      <th>customer_id</th>\n",
       "      <th>article_id</th>\n",
       "      <th>score</th>\n",
       "    </tr>\n",
       "  </thead>\n",
       "  <tbody>\n",
       "    <tr>\n",
       "      <th>41094896</th>\n",
       "      <td>9223370729206611574</td>\n",
       "      <td>0909370001</td>\n",
       "      <td>0.006153</td>\n",
       "    </tr>\n",
       "    <tr>\n",
       "      <th>8535733</th>\n",
       "      <td>9223370729206611574</td>\n",
       "      <td>0909371001</td>\n",
       "      <td>0.004058</td>\n",
       "    </tr>\n",
       "    <tr>\n",
       "      <th>989138</th>\n",
       "      <td>9223370729206611574</td>\n",
       "      <td>0805947001</td>\n",
       "      <td>0.002095</td>\n",
       "    </tr>\n",
       "    <tr>\n",
       "      <th>1309826</th>\n",
       "      <td>9223370729206611574</td>\n",
       "      <td>0908799002</td>\n",
       "      <td>0.001833</td>\n",
       "    </tr>\n",
       "    <tr>\n",
       "      <th>2527303</th>\n",
       "      <td>9223370729206611574</td>\n",
       "      <td>0935892001</td>\n",
       "      <td>0.001833</td>\n",
       "    </tr>\n",
       "    <tr>\n",
       "      <th>...</th>\n",
       "      <td>...</td>\n",
       "      <td>...</td>\n",
       "      <td>...</td>\n",
       "    </tr>\n",
       "    <tr>\n",
       "      <th>42431249</th>\n",
       "      <td>-9223352921020755230</td>\n",
       "      <td>0562245046</td>\n",
       "      <td>0.000718</td>\n",
       "    </tr>\n",
       "    <tr>\n",
       "      <th>20839021</th>\n",
       "      <td>-9223352921020755230</td>\n",
       "      <td>0751471001</td>\n",
       "      <td>0.000639</td>\n",
       "    </tr>\n",
       "    <tr>\n",
       "      <th>32816846</th>\n",
       "      <td>-9223352921020755230</td>\n",
       "      <td>0372860002</td>\n",
       "      <td>0.000618</td>\n",
       "    </tr>\n",
       "    <tr>\n",
       "      <th>1229566</th>\n",
       "      <td>-9223352921020755230</td>\n",
       "      <td>0568597006</td>\n",
       "      <td>0.000559</td>\n",
       "    </tr>\n",
       "    <tr>\n",
       "      <th>37625351</th>\n",
       "      <td>-9223352921020755230</td>\n",
       "      <td>0156231001</td>\n",
       "      <td>0.000552</td>\n",
       "    </tr>\n",
       "  </tbody>\n",
       "</table>\n",
       "<p>42789930 rows × 3 columns</p>\n",
       "</div>"
      ],
      "text/plain": [
       "                  customer_id  article_id     score\n",
       "41094896  9223370729206611574  0909370001  0.006153\n",
       "8535733   9223370729206611574  0909371001  0.004058\n",
       "989138    9223370729206611574  0805947001  0.002095\n",
       "1309826   9223370729206611574  0908799002  0.001833\n",
       "2527303   9223370729206611574  0935892001  0.001833\n",
       "...                       ...         ...       ...\n",
       "42431249 -9223352921020755230  0562245046  0.000718\n",
       "20839021 -9223352921020755230  0751471001  0.000639\n",
       "32816846 -9223352921020755230  0372860002  0.000618\n",
       "1229566  -9223352921020755230  0568597006  0.000559\n",
       "37625351 -9223352921020755230  0156231001  0.000552\n",
       "\n",
       "[42789930 rows x 3 columns]"
      ]
     },
     "execution_count": 105,
     "metadata": {},
     "output_type": "execute_result"
    }
   ],
   "source": [
    "merge_result"
   ]
  },
  {
   "cell_type": "code",
   "execution_count": 106,
   "id": "1814fe05",
   "metadata": {
    "_cell_guid": "7a7bc801-4d06-48ae-9ee2-e08ec8de6982",
    "_uuid": "4d5db8ab-fdb2-4af3-ae9e-d9e74d258c4f",
    "collapsed": false,
    "execution": {
     "iopub.execute_input": "2022-03-28T07:13:32.679841Z",
     "iopub.status.busy": "2022-03-28T07:13:32.678724Z",
     "iopub.status.idle": "2022-03-28T07:13:53.557359Z",
     "shell.execute_reply": "2022-03-28T07:13:53.556568Z",
     "shell.execute_reply.started": "2022-03-28T07:05:28.187200Z"
    },
    "jupyter": {
     "outputs_hidden": false
    },
    "papermill": {
     "duration": 21.034115,
     "end_time": "2022-03-28T07:13:53.557509",
     "exception": false,
     "start_time": "2022-03-28T07:13:32.523394",
     "status": "completed"
    },
    "tags": []
   },
   "outputs": [],
   "source": [
    "final = merge_result.to_pandas().groupby([\"customer_id\"])[\"article_id\"].agg(lambda x: \" \".join(x)[:131])"
   ]
  },
  {
   "cell_type": "code",
   "execution_count": 107,
   "id": "d38927cc",
   "metadata": {
    "_cell_guid": "26a10bf6-0a3e-4fab-afb9-2f20086cbb2e",
    "_uuid": "1155094c-6aee-4ce9-be3a-fc8de6cd12f2",
    "collapsed": false,
    "execution": {
     "iopub.execute_input": "2022-03-28T07:13:53.864365Z",
     "iopub.status.busy": "2022-03-28T07:13:53.862786Z",
     "iopub.status.idle": "2022-03-28T07:13:53.865002Z",
     "shell.execute_reply": "2022-03-28T07:13:53.865392Z",
     "shell.execute_reply.started": "2022-03-28T07:05:48.705379Z"
    },
    "jupyter": {
     "outputs_hidden": false
    },
    "papermill": {
     "duration": 0.156014,
     "end_time": "2022-03-28T07:13:53.865550",
     "exception": false,
     "start_time": "2022-03-28T07:13:53.709536",
     "status": "completed"
    },
    "tags": []
   },
   "outputs": [],
   "source": [
    "# source = merge_result.to_pandas().groupby([\"customer_id\"])[\"article_id\"].agg(lambda x: \" \".join(x)[:131])"
   ]
  },
  {
   "cell_type": "code",
   "execution_count": 108,
   "id": "1249d4c8",
   "metadata": {
    "_cell_guid": "2fe781a8-b967-4005-9f49-90508849e7ca",
    "_uuid": "8e7b0224-dab1-4e41-a466-9733984fd664",
    "collapsed": false,
    "execution": {
     "iopub.execute_input": "2022-03-28T07:13:54.174374Z",
     "iopub.status.busy": "2022-03-28T07:13:54.173706Z",
     "iopub.status.idle": "2022-03-28T07:13:54.250592Z",
     "shell.execute_reply": "2022-03-28T07:13:54.249551Z",
     "shell.execute_reply.started": "2022-03-28T07:05:48.712741Z"
    },
    "jupyter": {
     "outputs_hidden": false
    },
    "papermill": {
     "duration": 0.232986,
     "end_time": "2022-03-28T07:13:54.250728",
     "exception": false,
     "start_time": "2022-03-28T07:13:54.017742",
     "status": "completed"
    },
    "tags": []
   },
   "outputs": [],
   "source": [
    "final = final.reset_index()"
   ]
  },
  {
   "cell_type": "code",
   "execution_count": 109,
   "id": "9b1edd6d",
   "metadata": {
    "_cell_guid": "d60cb210-4763-4ae6-a6ad-c730a26435f5",
    "_uuid": "80e15014-18ef-4d43-bb8b-31a9be2c41ca",
    "collapsed": false,
    "execution": {
     "iopub.execute_input": "2022-03-28T07:13:54.557744Z",
     "iopub.status.busy": "2022-03-28T07:13:54.556834Z",
     "iopub.status.idle": "2022-03-28T07:13:54.596065Z",
     "shell.execute_reply": "2022-03-28T07:13:54.595634Z",
     "shell.execute_reply.started": "2022-03-28T07:05:48.795196Z"
    },
    "jupyter": {
     "outputs_hidden": false
    },
    "papermill": {
     "duration": 0.194127,
     "end_time": "2022-03-28T07:13:54.596183",
     "exception": false,
     "start_time": "2022-03-28T07:13:54.402056",
     "status": "completed"
    },
    "tags": []
   },
   "outputs": [],
   "source": [
    "final = final.rename(columns = {\"article_id\": \"prediction\"})"
   ]
  },
  {
   "cell_type": "code",
   "execution_count": 110,
   "id": "abdfe6f9",
   "metadata": {
    "_cell_guid": "efd90b2c-5aef-4990-a946-6adaf50033b1",
    "_uuid": "02d56c2d-8009-4bd6-8553-6ec0eb292669",
    "collapsed": false,
    "execution": {
     "iopub.execute_input": "2022-03-28T07:13:54.909156Z",
     "iopub.status.busy": "2022-03-28T07:13:54.908516Z",
     "iopub.status.idle": "2022-03-28T07:13:54.911747Z",
     "shell.execute_reply": "2022-03-28T07:13:54.912145Z",
     "shell.execute_reply.started": "2022-03-28T07:05:48.839468Z"
    },
    "jupyter": {
     "outputs_hidden": false
    },
    "papermill": {
     "duration": 0.164326,
     "end_time": "2022-03-28T07:13:54.912267",
     "exception": false,
     "start_time": "2022-03-28T07:13:54.747941",
     "status": "completed"
    },
    "tags": []
   },
   "outputs": [
    {
     "data": {
      "text/html": [
       "<div>\n",
       "<style scoped>\n",
       "    .dataframe tbody tr th:only-of-type {\n",
       "        vertical-align: middle;\n",
       "    }\n",
       "\n",
       "    .dataframe tbody tr th {\n",
       "        vertical-align: top;\n",
       "    }\n",
       "\n",
       "    .dataframe thead th {\n",
       "        text-align: right;\n",
       "    }\n",
       "</style>\n",
       "<table border=\"1\" class=\"dataframe\">\n",
       "  <thead>\n",
       "    <tr style=\"text-align: right;\">\n",
       "      <th></th>\n",
       "      <th>customer_id</th>\n",
       "      <th>prediction</th>\n",
       "    </tr>\n",
       "  </thead>\n",
       "  <tbody>\n",
       "    <tr>\n",
       "      <th>0</th>\n",
       "      <td>-9223352921020755230</td>\n",
       "      <td>0673396002 0860949002 0739590032 0812167004 07...</td>\n",
       "    </tr>\n",
       "    <tr>\n",
       "      <th>1</th>\n",
       "      <td>-9223343869995384291</td>\n",
       "      <td>0908292002 0910601003 0865929007 0903926002 08...</td>\n",
       "    </tr>\n",
       "    <tr>\n",
       "      <th>2</th>\n",
       "      <td>-9223321797620987725</td>\n",
       "      <td>0751471043 0865799006 0918522001 0910601003 09...</td>\n",
       "    </tr>\n",
       "    <tr>\n",
       "      <th>3</th>\n",
       "      <td>-9223319430705797669</td>\n",
       "      <td>0685814003 0448509014 0715624001 0918522001 07...</td>\n",
       "    </tr>\n",
       "    <tr>\n",
       "      <th>4</th>\n",
       "      <td>-9223308614576639426</td>\n",
       "      <td>0872537004 0899282001 0865929003 0749097003 05...</td>\n",
       "    </tr>\n",
       "    <tr>\n",
       "      <th>...</th>\n",
       "      <td>...</td>\n",
       "      <td>...</td>\n",
       "    </tr>\n",
       "    <tr>\n",
       "      <th>1364779</th>\n",
       "      <td>9223319300843860958</td>\n",
       "      <td>0751471001 0751471038 0751471043 0673677002 09...</td>\n",
       "    </tr>\n",
       "    <tr>\n",
       "      <th>1364780</th>\n",
       "      <td>9223333063893176977</td>\n",
       "      <td>0909370001 0865799006 0924243001 0809238001 09...</td>\n",
       "    </tr>\n",
       "    <tr>\n",
       "      <th>1364781</th>\n",
       "      <td>9223345314868180224</td>\n",
       "      <td>0909370001 0717464001 0841383002 0809238001 08...</td>\n",
       "    </tr>\n",
       "    <tr>\n",
       "      <th>1364782</th>\n",
       "      <td>9223357421094039679</td>\n",
       "      <td>0918522001 0751471043 0751471001 0924243001 07...</td>\n",
       "    </tr>\n",
       "    <tr>\n",
       "      <th>1364783</th>\n",
       "      <td>9223370729206611574</td>\n",
       "      <td>0909370001 0909371001 0805947001 0908799002 09...</td>\n",
       "    </tr>\n",
       "  </tbody>\n",
       "</table>\n",
       "<p>1364784 rows × 2 columns</p>\n",
       "</div>"
      ],
      "text/plain": [
       "                 customer_id  \\\n",
       "0       -9223352921020755230   \n",
       "1       -9223343869995384291   \n",
       "2       -9223321797620987725   \n",
       "3       -9223319430705797669   \n",
       "4       -9223308614576639426   \n",
       "...                      ...   \n",
       "1364779  9223319300843860958   \n",
       "1364780  9223333063893176977   \n",
       "1364781  9223345314868180224   \n",
       "1364782  9223357421094039679   \n",
       "1364783  9223370729206611574   \n",
       "\n",
       "                                                prediction  \n",
       "0        0673396002 0860949002 0739590032 0812167004 07...  \n",
       "1        0908292002 0910601003 0865929007 0903926002 08...  \n",
       "2        0751471043 0865799006 0918522001 0910601003 09...  \n",
       "3        0685814003 0448509014 0715624001 0918522001 07...  \n",
       "4        0872537004 0899282001 0865929003 0749097003 05...  \n",
       "...                                                    ...  \n",
       "1364779  0751471001 0751471038 0751471043 0673677002 09...  \n",
       "1364780  0909370001 0865799006 0924243001 0809238001 09...  \n",
       "1364781  0909370001 0717464001 0841383002 0809238001 08...  \n",
       "1364782  0918522001 0751471043 0751471001 0924243001 07...  \n",
       "1364783  0909370001 0909371001 0805947001 0908799002 09...  \n",
       "\n",
       "[1364784 rows x 2 columns]"
      ]
     },
     "execution_count": 110,
     "metadata": {},
     "output_type": "execute_result"
    }
   ],
   "source": [
    "final"
   ]
  },
  {
   "cell_type": "code",
   "execution_count": 111,
   "id": "601bc5c2",
   "metadata": {
    "_cell_guid": "a53b064c-7c02-4b55-8f59-0899eb5e287f",
    "_uuid": "ea47c8bc-9264-4ad5-a14b-e75d396098e3",
    "collapsed": false,
    "execution": {
     "iopub.execute_input": "2022-03-28T07:13:55.358170Z",
     "iopub.status.busy": "2022-03-28T07:13:55.357226Z",
     "iopub.status.idle": "2022-03-28T07:13:55.362898Z",
     "shell.execute_reply": "2022-03-28T07:13:55.362118Z",
     "shell.execute_reply.started": "2022-03-28T07:05:48.852568Z"
    },
    "jupyter": {
     "outputs_hidden": false
    },
    "papermill": {
     "duration": 0.289488,
     "end_time": "2022-03-28T07:13:55.363028",
     "exception": false,
     "start_time": "2022-03-28T07:13:55.073540",
     "status": "completed"
    },
    "tags": []
   },
   "outputs": [
    {
     "data": {
      "text/plain": [
       "126"
      ]
     },
     "execution_count": 111,
     "metadata": {},
     "output_type": "execute_result"
    }
   ],
   "source": [
    "gc.collect()"
   ]
  },
  {
   "cell_type": "code",
   "execution_count": 112,
   "id": "b2cce756",
   "metadata": {
    "_cell_guid": "9c88db0b-4b6c-49cd-b577-4cb46b089d42",
    "_uuid": "62d5d0f5-410c-4053-a735-fdfcc6ea15d6",
    "collapsed": false,
    "execution": {
     "iopub.execute_input": "2022-03-28T07:13:55.674689Z",
     "iopub.status.busy": "2022-03-28T07:13:55.674139Z",
     "iopub.status.idle": "2022-03-28T07:13:56.539389Z",
     "shell.execute_reply": "2022-03-28T07:13:56.538847Z",
     "shell.execute_reply.started": "2022-03-28T07:05:48.995916Z"
    },
    "jupyter": {
     "outputs_hidden": false
    },
    "papermill": {
     "duration": 1.024557,
     "end_time": "2022-03-28T07:13:56.539532",
     "exception": false,
     "start_time": "2022-03-28T07:13:55.514975",
     "status": "completed"
    },
    "tags": []
   },
   "outputs": [],
   "source": [
    "if Online:\n",
    "    sub  = cudf.read_csv('../input/h-and-m-personalized-fashion-recommendations/sample_submission.csv',\n",
    "                                usecols= ['customer_id'], \n",
    "                                dtype={'customer_id': 'string'})\n",
    "\n",
    "    sub['customer_id2'] = sub['customer_id'].str[-16:].str.hex_to_int().astype('int64')\n",
    "\n",
    "    sub = sub.to_pandas().merge(final, left_on = 'customer_id2', right_on = 'customer_id', how = 'left',\n",
    "                   suffixes = ('', '_ignored'))\n",
    "else:\n",
    "    sub  = cudf.read_csv('../input/h-and-m-personalized-fashion-recommendations/sample_submission.csv',\n",
    "                                usecols= ['customer_id'], \n",
    "                                dtype={'customer_id': 'string'})\n",
    "\n",
    "    sub['customer_id'] = sub['customer_id'].str[-16:].str.hex_to_int().astype('int64')\n",
    "\n",
    "    sub = sub.to_pandas().merge(final, left_on = 'customer_id', right_on = 'customer_id', how = 'left',\n",
    "                   suffixes = ('', '_ignored'))\n",
    "    \n",
    "\n",
    "#sub = sub.to_pandas()\n",
    "\n",
    "\n",
    "#final = sub.groupby([\"customer_id\"])[\"article_id\"].agg(lambda x: \" \".join(x + [general_pred_str]).strip()[:131])\n",
    "\n",
    "# sub['prediction'] = sub['prediction'].fillna(general_pred_str)\n",
    "# sub['prediction'] = sub['prediction'] + ' ' +  general_pred_str\n",
    "# sub['prediction'] = sub['prediction'].str.strip()\n",
    "# sub['prediction'] = sub['prediction'].str[:131]\n",
    "# sub = sub[['customer_id', 'prediction']]\n",
    "# sub.to_csv(f'submission.csv',index=False)"
   ]
  },
  {
   "cell_type": "code",
   "execution_count": 113,
   "id": "f324a3d4",
   "metadata": {
    "_cell_guid": "943fd4cf-ad93-45d4-a4e4-28048bb18039",
    "_uuid": "a646478c-26d3-4fe1-8120-f789b7351602",
    "collapsed": false,
    "execution": {
     "iopub.execute_input": "2022-03-28T07:13:57.174914Z",
     "iopub.status.busy": "2022-03-28T07:13:57.174091Z",
     "iopub.status.idle": "2022-03-28T07:13:57.185153Z",
     "shell.execute_reply": "2022-03-28T07:13:57.184522Z",
     "shell.execute_reply.started": "2022-03-28T07:05:49.870364Z"
    },
    "jupyter": {
     "outputs_hidden": false
    },
    "papermill": {
     "duration": 0.493352,
     "end_time": "2022-03-28T07:13:57.185323",
     "exception": false,
     "start_time": "2022-03-28T07:13:56.691971",
     "status": "completed"
    },
    "tags": []
   },
   "outputs": [
    {
     "data": {
      "text/plain": [
       "7196"
      ]
     },
     "execution_count": 113,
     "metadata": {},
     "output_type": "execute_result"
    }
   ],
   "source": [
    "sub[\"prediction\"].isna().sum()"
   ]
  },
  {
   "cell_type": "code",
   "execution_count": 114,
   "id": "23f4d39d",
   "metadata": {
    "_cell_guid": "a59cf2a4-3448-4fd3-8ef4-ccb6842ae93c",
    "_uuid": "5395499e-8e2d-4ff9-b299-2f3751c32ac5",
    "collapsed": false,
    "execution": {
     "iopub.execute_input": "2022-03-28T07:13:57.637556Z",
     "iopub.status.busy": "2022-03-28T07:13:57.635764Z",
     "iopub.status.idle": "2022-03-28T07:13:57.639441Z",
     "shell.execute_reply": "2022-03-28T07:13:57.639013Z",
     "shell.execute_reply.started": "2022-03-28T07:05:50.120549Z"
    },
    "jupyter": {
     "outputs_hidden": false
    },
    "papermill": {
     "duration": 0.192679,
     "end_time": "2022-03-28T07:13:57.639565",
     "exception": false,
     "start_time": "2022-03-28T07:13:57.446886",
     "status": "completed"
    },
    "tags": []
   },
   "outputs": [
    {
     "data": {
      "text/plain": [
       "'0909370001 0865799006 0918522001 0924243001 0448509014 0751471001 0809238001 0918292001 0762846027 0809238005 0673677002 0923758001'"
      ]
     },
     "execution_count": 114,
     "metadata": {},
     "output_type": "execute_result"
    }
   ],
   "source": [
    "general_pred_str"
   ]
  },
  {
   "cell_type": "code",
   "execution_count": 115,
   "id": "be9b3bad",
   "metadata": {
    "_cell_guid": "106a5cab-ccb9-4424-b21b-9b171577ceb1",
    "_uuid": "ea2ac64e-6e14-40a4-8d0a-1595416c3f7f",
    "collapsed": false,
    "execution": {
     "iopub.execute_input": "2022-03-28T07:13:58.193620Z",
     "iopub.status.busy": "2022-03-28T07:13:58.192452Z",
     "iopub.status.idle": "2022-03-28T07:14:00.200240Z",
     "shell.execute_reply": "2022-03-28T07:14:00.199702Z",
     "shell.execute_reply.started": "2022-03-28T07:05:50.130301Z"
    },
    "jupyter": {
     "outputs_hidden": false
    },
    "papermill": {
     "duration": 2.407443,
     "end_time": "2022-03-28T07:14:00.200411",
     "exception": false,
     "start_time": "2022-03-28T07:13:57.792968",
     "status": "completed"
    },
    "tags": []
   },
   "outputs": [],
   "source": [
    "sub[\"prediction\"] = sub[\"prediction\"].fillna(general_pred_str)\n",
    "sub['prediction'] = sub['prediction'] + ' ' +  general_pred_str\n",
    "sub['prediction'] = sub['prediction'].str[:131]"
   ]
  },
  {
   "cell_type": "markdown",
   "id": "725e33d4",
   "metadata": {
    "papermill": {
     "duration": 0.151008,
     "end_time": "2022-03-28T07:14:00.504066",
     "exception": false,
     "start_time": "2022-03-28T07:14:00.353058",
     "status": "completed"
    },
    "tags": []
   },
   "source": [
    "## 生成测试集"
   ]
  },
  {
   "cell_type": "code",
   "execution_count": 116,
   "id": "59d434e8",
   "metadata": {
    "_cell_guid": "320d21e0-5c4a-4ef4-a841-c50adf781804",
    "_uuid": "fc0619d6-669b-4244-8691-3005c8641610",
    "collapsed": false,
    "execution": {
     "iopub.execute_input": "2022-03-28T07:14:00.812242Z",
     "iopub.status.busy": "2022-03-28T07:14:00.810690Z",
     "iopub.status.idle": "2022-03-28T07:14:00.812851Z",
     "shell.execute_reply": "2022-03-28T07:14:00.813242Z",
     "shell.execute_reply.started": "2022-03-28T07:05:52.498365Z"
    },
    "jupyter": {
     "outputs_hidden": false
    },
    "papermill": {
     "duration": 0.158644,
     "end_time": "2022-03-28T07:14:00.813379",
     "exception": false,
     "start_time": "2022-03-28T07:14:00.654735",
     "status": "completed"
    },
    "tags": []
   },
   "outputs": [],
   "source": [
    "import datetime\n",
    "if Online:\n",
    "    sub[[\"customer_id\", \"prediction\"]].to_csv(\"sub_sz_{}.csv\".format(datetime.datetime.now().strftime('%Y-%m-%d %H:%M:%S')), index = False)\n",
    "    assert False"
   ]
  },
  {
   "cell_type": "code",
   "execution_count": 117,
   "id": "d9412589",
   "metadata": {
    "execution": {
     "iopub.execute_input": "2022-03-28T07:14:01.127796Z",
     "iopub.status.busy": "2022-03-28T07:14:01.127165Z",
     "iopub.status.idle": "2022-03-28T07:14:01.132815Z",
     "shell.execute_reply": "2022-03-28T07:14:01.132370Z",
     "shell.execute_reply.started": "2022-03-28T07:05:52.506260Z"
    },
    "papermill": {
     "duration": 0.168123,
     "end_time": "2022-03-28T07:14:01.132931",
     "exception": false,
     "start_time": "2022-03-28T07:14:00.964808",
     "status": "completed"
    },
    "tags": []
   },
   "outputs": [
    {
     "data": {
      "text/html": [
       "<div>\n",
       "<style scoped>\n",
       "    .dataframe tbody tr th:only-of-type {\n",
       "        vertical-align: middle;\n",
       "    }\n",
       "\n",
       "    .dataframe tbody tr th {\n",
       "        vertical-align: top;\n",
       "    }\n",
       "\n",
       "    .dataframe thead th {\n",
       "        text-align: right;\n",
       "    }\n",
       "</style>\n",
       "<table border=\"1\" class=\"dataframe\">\n",
       "  <thead>\n",
       "    <tr style=\"text-align: right;\">\n",
       "      <th></th>\n",
       "      <th>customer_id</th>\n",
       "      <th>prediction</th>\n",
       "    </tr>\n",
       "  </thead>\n",
       "  <tbody>\n",
       "    <tr>\n",
       "      <th>0</th>\n",
       "      <td>6883939031699146327</td>\n",
       "      <td>0568601043 0858856005 0751471001 0751471038 05...</td>\n",
       "    </tr>\n",
       "    <tr>\n",
       "      <th>1</th>\n",
       "      <td>-7200416642310594310</td>\n",
       "      <td>0909370001 0865799006 0826211002 0809238001 09...</td>\n",
       "    </tr>\n",
       "    <tr>\n",
       "      <th>2</th>\n",
       "      <td>-6846340800584936</td>\n",
       "      <td>0794321007 0805000001 0794321011 0791587001 07...</td>\n",
       "    </tr>\n",
       "    <tr>\n",
       "      <th>3</th>\n",
       "      <td>-94071612138601410</td>\n",
       "      <td>0918522001 0751471043 0751471001 0924243001 07...</td>\n",
       "    </tr>\n",
       "    <tr>\n",
       "      <th>4</th>\n",
       "      <td>-283965518499174310</td>\n",
       "      <td>0673677002 0896152002 0791587015 0730683050 09...</td>\n",
       "    </tr>\n",
       "    <tr>\n",
       "      <th>...</th>\n",
       "      <td>...</td>\n",
       "      <td>...</td>\n",
       "    </tr>\n",
       "    <tr>\n",
       "      <th>95</th>\n",
       "      <td>1889187610526549305</td>\n",
       "      <td>0918522001 0751471043 0751471001 0924243001 07...</td>\n",
       "    </tr>\n",
       "    <tr>\n",
       "      <th>96</th>\n",
       "      <td>980241662753680497</td>\n",
       "      <td>0879088001 0685814003 0448509014 0715624001 09...</td>\n",
       "    </tr>\n",
       "    <tr>\n",
       "      <th>97</th>\n",
       "      <td>1444190829146371337</td>\n",
       "      <td>0685814003 0448509014 0715624001 0918522001 07...</td>\n",
       "    </tr>\n",
       "    <tr>\n",
       "      <th>98</th>\n",
       "      <td>1889400186892419753</td>\n",
       "      <td>0897423001 0685814003 0448509014 0715624001 09...</td>\n",
       "    </tr>\n",
       "    <tr>\n",
       "      <th>99</th>\n",
       "      <td>-327473559171145925</td>\n",
       "      <td>0909370001 0865799006 0918522001 0924243001 04...</td>\n",
       "    </tr>\n",
       "  </tbody>\n",
       "</table>\n",
       "<p>100 rows × 2 columns</p>\n",
       "</div>"
      ],
      "text/plain": [
       "            customer_id                                         prediction\n",
       "0   6883939031699146327  0568601043 0858856005 0751471001 0751471038 05...\n",
       "1  -7200416642310594310  0909370001 0865799006 0826211002 0809238001 09...\n",
       "2     -6846340800584936  0794321007 0805000001 0794321011 0791587001 07...\n",
       "3    -94071612138601410  0918522001 0751471043 0751471001 0924243001 07...\n",
       "4   -283965518499174310  0673677002 0896152002 0791587015 0730683050 09...\n",
       "..                  ...                                                ...\n",
       "95  1889187610526549305  0918522001 0751471043 0751471001 0924243001 07...\n",
       "96   980241662753680497  0879088001 0685814003 0448509014 0715624001 09...\n",
       "97  1444190829146371337  0685814003 0448509014 0715624001 0918522001 07...\n",
       "98  1889400186892419753  0897423001 0685814003 0448509014 0715624001 09...\n",
       "99  -327473559171145925  0909370001 0865799006 0918522001 0924243001 04...\n",
       "\n",
       "[100 rows x 2 columns]"
      ]
     },
     "execution_count": 117,
     "metadata": {},
     "output_type": "execute_result"
    }
   ],
   "source": [
    "sub[:100]"
   ]
  },
  {
   "cell_type": "code",
   "execution_count": 118,
   "id": "d5f86348",
   "metadata": {
    "_cell_guid": "54209751-6670-4a1b-a268-4a00d4049bc8",
    "_uuid": "cb276dff-05a8-410e-bd5a-c83199c62437",
    "collapsed": false,
    "execution": {
     "iopub.execute_input": "2022-03-28T07:14:01.446238Z",
     "iopub.status.busy": "2022-03-28T07:14:01.445706Z",
     "iopub.status.idle": "2022-03-28T07:14:01.605631Z",
     "shell.execute_reply": "2022-03-28T07:14:01.605149Z",
     "shell.execute_reply.started": "2022-03-28T07:05:52.523374Z"
    },
    "jupyter": {
     "outputs_hidden": false
    },
    "papermill": {
     "duration": 0.319797,
     "end_time": "2022-03-28T07:14:01.605769",
     "exception": false,
     "start_time": "2022-03-28T07:14:01.285972",
     "status": "completed"
    },
    "tags": []
   },
   "outputs": [],
   "source": [
    "sub_id  = cudf.read_csv('../input/h-and-m-personalized-fashion-recommendations/sample_submission.csv',\n",
    "                                usecols= ['customer_id'], \n",
    "                                dtype={'customer_id': 'string'})\n",
    "cid = cudf.DataFrame(sub_id['customer_id'].str[-16:].str.hex_to_int().astype('int64'))"
   ]
  },
  {
   "cell_type": "code",
   "execution_count": 119,
   "id": "3c1480dd",
   "metadata": {
    "_cell_guid": "68573437-c071-4e84-a954-65cc36959a1a",
    "_uuid": "45d4681e-0636-4caa-b3d8-a513efce1075",
    "collapsed": false,
    "execution": {
     "iopub.execute_input": "2022-03-28T07:14:01.913299Z",
     "iopub.status.busy": "2022-03-28T07:14:01.912574Z",
     "iopub.status.idle": "2022-03-28T07:14:01.917079Z",
     "shell.execute_reply": "2022-03-28T07:14:01.916669Z",
     "shell.execute_reply.started": "2022-03-28T07:05:52.694109Z"
    },
    "jupyter": {
     "outputs_hidden": false
    },
    "papermill": {
     "duration": 0.158433,
     "end_time": "2022-03-28T07:14:01.917186",
     "exception": false,
     "start_time": "2022-03-28T07:14:01.758753",
     "status": "completed"
    },
    "tags": []
   },
   "outputs": [],
   "source": [
    "cid[\"customer_id\"] = cid[\"customer_id\"].astype(\"int64\")"
   ]
  },
  {
   "cell_type": "code",
   "execution_count": 120,
   "id": "56f7a155",
   "metadata": {
    "_cell_guid": "12cce383-b9ad-4d5f-9fe6-eff6d2483a16",
    "_uuid": "307594aa-e0b5-4b31-a1e9-3b4bf84487a3",
    "collapsed": false,
    "execution": {
     "iopub.execute_input": "2022-03-28T07:14:02.229425Z",
     "iopub.status.busy": "2022-03-28T07:14:02.228626Z",
     "iopub.status.idle": "2022-03-28T07:14:03.526645Z",
     "shell.execute_reply": "2022-03-28T07:14:03.525763Z",
     "shell.execute_reply.started": "2022-03-28T07:05:52.702171Z"
    },
    "jupyter": {
     "outputs_hidden": false
    },
    "papermill": {
     "duration": 1.45525,
     "end_time": "2022-03-28T07:14:03.526792",
     "exception": false,
     "start_time": "2022-03-28T07:14:02.071542",
     "status": "completed"
    },
    "tags": []
   },
   "outputs": [],
   "source": [
    "def iter_to_str(iterable):\n",
    "    return \" \".join(map(lambda x: str(0) + str(x), iterable))\n",
    "real = val.to_pandas().groupby('customer_id')[\"article_id\"].apply(iter_to_str).reset_index()"
   ]
  },
  {
   "cell_type": "code",
   "execution_count": 121,
   "id": "9336f277",
   "metadata": {
    "_cell_guid": "51e901bb-eb02-424d-8804-884e43d71243",
    "_uuid": "942d9d6a-2d85-45c4-aa5f-0c1f9c433f7d",
    "collapsed": false,
    "execution": {
     "iopub.execute_input": "2022-03-28T07:14:03.837530Z",
     "iopub.status.busy": "2022-03-28T07:14:03.836462Z",
     "iopub.status.idle": "2022-03-28T07:14:04.104204Z",
     "shell.execute_reply": "2022-03-28T07:14:04.104690Z",
     "shell.execute_reply.started": "2022-03-28T07:05:54.301893Z"
    },
    "jupyter": {
     "outputs_hidden": false
    },
    "papermill": {
     "duration": 0.425582,
     "end_time": "2022-03-28T07:14:04.104859",
     "exception": false,
     "start_time": "2022-03-28T07:14:03.679277",
     "status": "completed"
    },
    "tags": []
   },
   "outputs": [],
   "source": [
    "real = real.merge(cid.to_pandas(), on='customer_id', how='inner')\n",
    "real.article_id = real.article_id.apply(lambda s: [] if pd.isna(s) else s.split())"
   ]
  },
  {
   "cell_type": "code",
   "execution_count": 122,
   "id": "8d1d8ecf",
   "metadata": {
    "_cell_guid": "1eccf81d-77a1-42bd-815e-cb2fd026140f",
    "_uuid": "145942b6-16c3-4af1-881b-1c00eaa5a65f",
    "collapsed": false,
    "execution": {
     "iopub.execute_input": "2022-03-28T07:14:04.414683Z",
     "iopub.status.busy": "2022-03-28T07:14:04.413851Z",
     "iopub.status.idle": "2022-03-28T07:14:04.416204Z",
     "shell.execute_reply": "2022-03-28T07:14:04.415693Z",
     "shell.execute_reply.started": "2022-03-28T07:05:54.603255Z"
    },
    "jupyter": {
     "outputs_hidden": false
    },
    "papermill": {
     "duration": 0.158198,
     "end_time": "2022-03-28T07:14:04.416311",
     "exception": false,
     "start_time": "2022-03-28T07:14:04.258113",
     "status": "completed"
    },
    "tags": []
   },
   "outputs": [],
   "source": [
    "#sub[:10000].groupby([\"customer_id\"])[\"article_id\"].agg(lambda x: \" \".join(x).strip()[:131])"
   ]
  },
  {
   "cell_type": "code",
   "execution_count": 123,
   "id": "2fdeb6b7",
   "metadata": {
    "_cell_guid": "db7125aa-eb4e-47ae-b02f-b8b19790d064",
    "_uuid": "f7fed420-1020-41e8-99c8-9d59df2a4e6b",
    "collapsed": false,
    "execution": {
     "iopub.execute_input": "2022-03-28T07:14:04.721179Z",
     "iopub.status.busy": "2022-03-28T07:14:04.720401Z",
     "iopub.status.idle": "2022-03-28T07:14:04.724118Z",
     "shell.execute_reply": "2022-03-28T07:14:04.723684Z",
     "shell.execute_reply.started": "2022-03-28T07:05:54.608508Z"
    },
    "jupyter": {
     "outputs_hidden": false
    },
    "papermill": {
     "duration": 0.157052,
     "end_time": "2022-03-28T07:14:04.724222",
     "exception": false,
     "start_time": "2022-03-28T07:14:04.567170",
     "status": "completed"
    },
    "tags": []
   },
   "outputs": [],
   "source": [
    "#final"
   ]
  },
  {
   "cell_type": "markdown",
   "id": "5a19260a",
   "metadata": {
    "_cell_guid": "07bbf10d-d477-4e90-829b-149b44d9d9e9",
    "_uuid": "336b94f7-1eef-4fc6-b9a4-49fee8b48ddc",
    "editable": false,
    "papermill": {
     "duration": 0.182911,
     "end_time": "2022-03-28T07:14:05.060925",
     "exception": false,
     "start_time": "2022-03-28T07:14:04.878014",
     "status": "completed"
    },
    "tags": []
   },
   "source": [
    "## 验证集评估"
   ]
  },
  {
   "cell_type": "code",
   "execution_count": 124,
   "id": "288030b1",
   "metadata": {
    "_cell_guid": "b52875eb-ab95-4c6f-b3a0-c3e639b28dc0",
    "_uuid": "2bce14f8-317e-411f-9dba-f4d21a92b68f",
    "collapsed": false,
    "execution": {
     "iopub.execute_input": "2022-03-28T07:14:05.524224Z",
     "iopub.status.busy": "2022-03-28T07:14:05.523595Z",
     "iopub.status.idle": "2022-03-28T07:14:05.526351Z",
     "shell.execute_reply": "2022-03-28T07:14:05.526787Z",
     "shell.execute_reply.started": "2022-03-28T07:05:54.619341Z"
    },
    "jupyter": {
     "outputs_hidden": false
    },
    "papermill": {
     "duration": 0.312081,
     "end_time": "2022-03-28T07:14:05.526948",
     "exception": false,
     "start_time": "2022-03-28T07:14:05.214867",
     "status": "completed"
    },
    "tags": []
   },
   "outputs": [
    {
     "data": {
      "text/plain": [
       "63"
      ]
     },
     "execution_count": 124,
     "metadata": {},
     "output_type": "execute_result"
    }
   ],
   "source": [
    "gc.collect()"
   ]
  },
  {
   "cell_type": "code",
   "execution_count": 125,
   "id": "cef75cd8",
   "metadata": {
    "_cell_guid": "94880db5-953b-4202-8a1b-f488afa3858e",
    "_uuid": "77c9edac-445e-4afa-b540-60c5e88fb0a2",
    "collapsed": false,
    "execution": {
     "iopub.execute_input": "2022-03-28T07:14:05.855917Z",
     "iopub.status.busy": "2022-03-28T07:14:05.855163Z",
     "iopub.status.idle": "2022-03-28T07:14:05.913817Z",
     "shell.execute_reply": "2022-03-28T07:14:05.913374Z",
     "shell.execute_reply.started": "2022-03-28T07:05:54.774547Z"
    },
    "jupyter": {
     "outputs_hidden": false
    },
    "papermill": {
     "duration": 0.23411,
     "end_time": "2022-03-28T07:14:05.913944",
     "exception": false,
     "start_time": "2022-03-28T07:14:05.679834",
     "status": "completed"
    },
    "tags": []
   },
   "outputs": [],
   "source": [
    "import numpy as np, pandas as pd, datetime as dt\n",
    "import matplotlib.pyplot as plt; plt.style.use('ggplot')\n",
    "import seaborn as sns\n",
    "from collections import defaultdict\n",
    "\n",
    "def iter_to_str(iterable):\n",
    "    return \" \".join(map(lambda x: str(0) + str(x), iterable))\n",
    "\n",
    "def apk(actual, predicted, k=12):\n",
    "    if len(predicted) > k:\n",
    "        predicted = predicted[:k]\n",
    "    score, nhits = 0.0, 0.0\n",
    "    for i, p in enumerate(predicted):\n",
    "        if p in actual and p not in predicted[:i]:\n",
    "            nhits += 1.0\n",
    "            score += nhits / (i + 1.0)\n",
    "    if not actual:\n",
    "        return 0.0\n",
    "    return score / min(len(actual), k)\n",
    "\n",
    "def mapk(actual, predicted, k=12, return_apks=False):\n",
    "    assert len(actual) == len(predicted)\n",
    "    apks = [apk(ac, pr, k) for ac, pr in zip(actual, predicted) if 0 < len(ac)]\n",
    "    if return_apks:\n",
    "        return apks\n",
    "    return np.mean(apks)\n",
    "\n",
    "def blend(dt, w=[], k=12):\n",
    "    if len(w) == 0:\n",
    "        w = [1] * (len(dt))\n",
    "    preds = []\n",
    "    for i in range(len(w)):\n",
    "        preds.append(dt[i].split())\n",
    "    res = {}\n",
    "    for i in range(len(preds)):\n",
    "        if w[i] < 0:\n",
    "            continue\n",
    "        for n, v in enumerate(preds[i]):\n",
    "            if v in res:\n",
    "                res[v] += (w[i] / (n + 1))\n",
    "            else:\n",
    "                res[v] = (w[i] / (n + 1))    \n",
    "    res = list(dict(sorted(res.items(), key=lambda item: -item[1])).keys())\n",
    "    return ' '.join(res[:k])\n",
    "\n",
    "def prune(pred, ok_set, k=12):\n",
    "    pred = pred.split()\n",
    "    post = []\n",
    "    for item in pred:\n",
    "        if int(item) in ok_set and not item in post:\n",
    "            post.append(item)\n",
    "    return \" \".join(post[:k])\n",
    "\n",
    "def validation(actual, predicted, groups, score=0, index=-1, ignore=False, figsize=(22, 6), name = \"\"):\n",
    "    # actual, predicted : list of lists\n",
    "    # group : pandas Series\n",
    "    # score : pandas DataFrame\n",
    "    if ignore: return\n",
    "    ap12 = mapk(actual, predicted, return_apks=True)\n",
    "    smap12 = round(np.mean(ap12), 6)\n",
    "    group_num = len(groups)\n",
    "    plt.figure(figsize=figsize)\n",
    "    plt.subplot(1, 1+group_num, 1); sns.histplot(data=ap12, log_scale=(0, 10), bins=20); plt.title(f\"MAP@12 : {smap12}\")\n",
    "    count = 2\n",
    "    for name, group in groups.items():\n",
    "        score = pd.DataFrame({g:[] for g in sorted(group.unique().tolist())})\n",
    "        if index == -1 : index = score.shape[0]\n",
    "        score.loc[index, \"All\"] = smap12\n",
    "        for g in group.unique():\n",
    "            map12 = round(mapk(actual[group == g], predicted[group == g]), 6)\n",
    "            score.loc[index, g] = map12\n",
    "        plt.subplot(1, 1+group_num, count)\n",
    "        score[[g for g in sorted(group.unique(), key = lambda x: x if type(x) is np.float64 else float(x.replace(\"(\", \"1\").split(\",\")[0]))[::-1]] + ['All']].loc[index].plot.barh()\n",
    "        plt.title(\"{} MAP@12\".format(name))\n",
    "        count += 1\n",
    "        vc = pd.Series(predicted).apply(len).value_counts()\n",
    "        score.loc[index, \"Fill\"] = round(1 - sum(vc[k] * (12 - k) / 12 for k in (set(range(12)) & set(vc.index))) / len(actual), 3) * 100\n",
    "        display(score)\n",
    "    return score"
   ]
  },
  {
   "cell_type": "code",
   "execution_count": 126,
   "id": "20e9de62",
   "metadata": {
    "_cell_guid": "c5857db9-2cb4-4454-88f0-798fa0b3f65e",
    "_uuid": "1793bb3a-128e-447f-9352-eb2775399e11",
    "collapsed": false,
    "execution": {
     "iopub.execute_input": "2022-03-28T07:14:06.227850Z",
     "iopub.status.busy": "2022-03-28T07:14:06.227169Z",
     "iopub.status.idle": "2022-03-28T07:14:06.250220Z",
     "shell.execute_reply": "2022-03-28T07:14:06.249769Z",
     "shell.execute_reply.started": "2022-03-28T07:05:54.868525Z"
    },
    "jupyter": {
     "outputs_hidden": false
    },
    "papermill": {
     "duration": 0.182246,
     "end_time": "2022-03-28T07:14:06.250332",
     "exception": false,
     "start_time": "2022-03-28T07:14:06.068086",
     "status": "completed"
    },
    "tags": []
   },
   "outputs": [],
   "source": [
    "group = val.groupby('customer_id').sales_channel_id.mean().round().reset_index()\\\n",
    "    .merge(cid, on='customer_id', how='inner').rename(columns={'sales_channel_id':'group'})\n",
    "group = group.set_index('customer_id').loc[real.customer_id].reset_index()\n",
    "channal_group = group.group.fillna(3)"
   ]
  },
  {
   "cell_type": "code",
   "execution_count": 127,
   "id": "4d3a3736",
   "metadata": {
    "_cell_guid": "dcdf2838-545d-4040-94e8-3e649dad87be",
    "_uuid": "2277e667-fa4f-4f5d-8bb0-0fd7ca26c044",
    "collapsed": false,
    "execution": {
     "iopub.execute_input": "2022-03-28T07:14:06.565170Z",
     "iopub.status.busy": "2022-03-28T07:14:06.564097Z",
     "iopub.status.idle": "2022-03-28T07:14:12.810121Z",
     "shell.execute_reply": "2022-03-28T07:14:12.809632Z",
     "shell.execute_reply.started": "2022-03-28T07:05:54.898112Z"
    },
    "jupyter": {
     "outputs_hidden": false
    },
    "papermill": {
     "duration": 6.406952,
     "end_time": "2022-03-28T07:14:12.810257",
     "exception": false,
     "start_time": "2022-03-28T07:14:06.403305",
     "status": "completed"
    },
    "tags": []
   },
   "outputs": [],
   "source": [
    "customer[\"age_type\"] = pd.cut(customer.to_pandas()[\"age\"], bins = np.array([0, 21, 24, 27, 30, 35, 40, 45, 50, 60, 9999], dtype = \"int32\"), right = True).astype(\"string\")\n",
    "group = customer.rename(columns={'age_type':'group'}).set_index('customer_id').loc[real.customer_id].reset_index()\n",
    "age_group = group.group.fillna(\"-1\")"
   ]
  },
  {
   "cell_type": "code",
   "execution_count": 128,
   "id": "9813dc77",
   "metadata": {
    "_cell_guid": "f33c62d5-3d1a-4927-9eaa-f967e7f78698",
    "_uuid": "f699ab78-a7f7-440a-a611-9f16e4ca316a",
    "collapsed": false,
    "execution": {
     "iopub.execute_input": "2022-03-28T07:14:13.124514Z",
     "iopub.status.busy": "2022-03-28T07:14:13.123726Z",
     "iopub.status.idle": "2022-03-28T07:14:13.318135Z",
     "shell.execute_reply": "2022-03-28T07:14:13.317688Z",
     "shell.execute_reply.started": "2022-03-28T07:06:01.417306Z"
    },
    "jupyter": {
     "outputs_hidden": false
    },
    "papermill": {
     "duration": 0.353321,
     "end_time": "2022-03-28T07:14:13.318260",
     "exception": false,
     "start_time": "2022-03-28T07:14:12.964939",
     "status": "completed"
    },
    "tags": []
   },
   "outputs": [],
   "source": [
    "group = val.groupby('customer_id').sales_channel_id.count().round().reset_index()\\\n",
    "    .merge(cid, on='customer_id', how='inner').rename(columns={'sales_channel_id':'group'})\n",
    "group[\"group\"] = pd.cut(group[\"group\"].to_pandas(), bins = np.array([0, 1, 2, 3, 5, 10, 20, 9999], dtype = \"int32\"), right = True).astype(\"string\")\n",
    "group = group.set_index('customer_id').loc[real.customer_id].reset_index()\n",
    "count_group = group.group.fillna(0)"
   ]
  },
  {
   "cell_type": "code",
   "execution_count": 129,
   "id": "fb07664a",
   "metadata": {
    "_cell_guid": "49138940-6071-4015-8dc0-0d08685fb3db",
    "_uuid": "0be5e21c-c7e5-43c3-a2f7-3c8d861ae73e",
    "collapsed": false,
    "execution": {
     "iopub.execute_input": "2022-03-28T07:14:13.630017Z",
     "iopub.status.busy": "2022-03-28T07:14:13.629202Z",
     "iopub.status.idle": "2022-03-28T07:14:13.668755Z",
     "shell.execute_reply": "2022-03-28T07:14:13.669160Z",
     "shell.execute_reply.started": "2022-03-28T07:06:01.621044Z"
    },
    "jupyter": {
     "outputs_hidden": false
    },
    "papermill": {
     "duration": 0.19719,
     "end_time": "2022-03-28T07:14:13.669290",
     "exception": false,
     "start_time": "2022-03-28T07:14:13.472100",
     "status": "completed"
    },
    "tags": []
   },
   "outputs": [
    {
     "data": {
      "text/html": [
       "<div>\n",
       "<style scoped>\n",
       "    .dataframe tbody tr th:only-of-type {\n",
       "        vertical-align: middle;\n",
       "    }\n",
       "\n",
       "    .dataframe tbody tr th {\n",
       "        vertical-align: top;\n",
       "    }\n",
       "\n",
       "    .dataframe thead th {\n",
       "        text-align: right;\n",
       "    }\n",
       "</style>\n",
       "<table border=\"1\" class=\"dataframe\">\n",
       "  <thead>\n",
       "    <tr style=\"text-align: right;\">\n",
       "      <th></th>\n",
       "      <th>customer_id</th>\n",
       "    </tr>\n",
       "  </thead>\n",
       "  <tbody>\n",
       "    <tr>\n",
       "      <th>31718581</th>\n",
       "      <td>-9223100958908512198</td>\n",
       "    </tr>\n",
       "    <tr>\n",
       "      <th>31723712</th>\n",
       "      <td>-9223002534477110135</td>\n",
       "    </tr>\n",
       "    <tr>\n",
       "      <th>31668649</th>\n",
       "      <td>-9222810895170663723</td>\n",
       "    </tr>\n",
       "    <tr>\n",
       "      <th>31664044</th>\n",
       "      <td>-9221924794303263774</td>\n",
       "    </tr>\n",
       "    <tr>\n",
       "      <th>31782993</th>\n",
       "      <td>-9221811157628158522</td>\n",
       "    </tr>\n",
       "    <tr>\n",
       "      <th>...</th>\n",
       "      <td>...</td>\n",
       "    </tr>\n",
       "    <tr>\n",
       "      <th>31575924</th>\n",
       "      <td>9221607025486275188</td>\n",
       "    </tr>\n",
       "    <tr>\n",
       "      <th>31692865</th>\n",
       "      <td>9221813808370389952</td>\n",
       "    </tr>\n",
       "    <tr>\n",
       "      <th>31681512</th>\n",
       "      <td>9222310594107555341</td>\n",
       "    </tr>\n",
       "    <tr>\n",
       "      <th>31712352</th>\n",
       "      <td>9223099843213569889</td>\n",
       "    </tr>\n",
       "    <tr>\n",
       "      <th>31622943</th>\n",
       "      <td>9223141695752178477</td>\n",
       "    </tr>\n",
       "  </tbody>\n",
       "</table>\n",
       "<p>68984 rows × 1 columns</p>\n",
       "</div>"
      ],
      "text/plain": [
       "                  customer_id\n",
       "31718581 -9223100958908512198\n",
       "31723712 -9223002534477110135\n",
       "31668649 -9222810895170663723\n",
       "31664044 -9221924794303263774\n",
       "31782993 -9221811157628158522\n",
       "...                       ...\n",
       "31575924  9221607025486275188\n",
       "31692865  9221813808370389952\n",
       "31681512  9222310594107555341\n",
       "31712352  9223099843213569889\n",
       "31622943  9223141695752178477\n",
       "\n",
       "[68984 rows x 1 columns]"
      ]
     },
     "execution_count": 129,
     "metadata": {},
     "output_type": "execute_result"
    }
   ],
   "source": [
    "val[['customer_id']].drop_duplicates()"
   ]
  },
  {
   "cell_type": "code",
   "execution_count": 130,
   "id": "ab1864cb",
   "metadata": {
    "_cell_guid": "768e17cd-99ea-4846-a565-dc9f7305e81d",
    "_uuid": "8e2f1665-8ac8-4ac4-82e3-2168e624cb41",
    "collapsed": false,
    "execution": {
     "iopub.execute_input": "2022-03-28T07:14:13.982899Z",
     "iopub.status.busy": "2022-03-28T07:14:13.982114Z",
     "iopub.status.idle": "2022-03-28T07:14:14.220967Z",
     "shell.execute_reply": "2022-03-28T07:14:14.220136Z",
     "shell.execute_reply.started": "2022-03-28T07:06:01.667088Z"
    },
    "jupyter": {
     "outputs_hidden": false
    },
    "papermill": {
     "duration": 0.399325,
     "end_time": "2022-03-28T07:14:14.221102",
     "exception": false,
     "start_time": "2022-03-28T07:14:13.821777",
     "status": "completed"
    },
    "tags": []
   },
   "outputs": [],
   "source": [
    "group = train.groupby('customer_id').sales_channel_id.count().round().reset_index()\\\n",
    "    .merge(val[['customer_id']].drop_duplicates(), on = \"customer_id\", how = \"right\")\\\n",
    "    .merge(cid, on='customer_id', how='inner').rename(columns={'sales_channel_id':'group'})\n",
    "group[\"group\"] = pd.cut(group[\"group\"].to_pandas(), bins = np.array([0, 5, 10, 20, 35, 50, 100], dtype = \"int32\"), right = True).astype(\"string\")\n",
    "group = group.set_index('customer_id').loc[real.customer_id].reset_index()\n",
    "his_count_group = group.group.fillna(0)"
   ]
  },
  {
   "cell_type": "code",
   "execution_count": 131,
   "id": "1fc67b7f",
   "metadata": {
    "_cell_guid": "62c87e1b-9fc7-4002-9984-c8ffa900de38",
    "_uuid": "3b720eee-a973-45db-aad0-468a062508a7",
    "collapsed": false,
    "execution": {
     "iopub.execute_input": "2022-03-28T07:14:14.533438Z",
     "iopub.status.busy": "2022-03-28T07:14:14.532633Z",
     "iopub.status.idle": "2022-03-28T07:14:14.539798Z",
     "shell.execute_reply": "2022-03-28T07:14:14.540241Z",
     "shell.execute_reply.started": "2022-03-28T07:06:01.917522Z"
    },
    "jupyter": {
     "outputs_hidden": false
    },
    "papermill": {
     "duration": 0.165024,
     "end_time": "2022-03-28T07:14:14.540383",
     "exception": false,
     "start_time": "2022-03-28T07:14:14.375359",
     "status": "completed"
    },
    "tags": []
   },
   "outputs": [
    {
     "data": {
      "text/plain": [
       "0        (30.0, 35.0]\n",
       "1        (27.0, 30.0]\n",
       "2         (0.0, 21.0]\n",
       "3        (50.0, 60.0]\n",
       "4        (21.0, 24.0]\n",
       "             ...     \n",
       "68979    (40.0, 45.0]\n",
       "68980    (27.0, 30.0]\n",
       "68981    (30.0, 35.0]\n",
       "68982    (27.0, 30.0]\n",
       "68983     (0.0, 21.0]\n",
       "Name: group, Length: 68984, dtype: object"
      ]
     },
     "execution_count": 131,
     "metadata": {},
     "output_type": "execute_result"
    }
   ],
   "source": [
    "age_group"
   ]
  },
  {
   "cell_type": "code",
   "execution_count": 132,
   "id": "28da4948",
   "metadata": {
    "_cell_guid": "e1809e19-905d-43a1-af09-3aceb2af08db",
    "_uuid": "f6e05524-2963-4c35-94ec-ae83d3a07d04",
    "collapsed": false,
    "execution": {
     "iopub.execute_input": "2022-03-28T07:14:14.850621Z",
     "iopub.status.busy": "2022-03-28T07:14:14.849857Z",
     "iopub.status.idle": "2022-03-28T07:14:14.863305Z",
     "shell.execute_reply": "2022-03-28T07:14:14.863770Z",
     "shell.execute_reply.started": "2022-03-28T07:06:01.931150Z"
    },
    "jupyter": {
     "outputs_hidden": false
    },
    "papermill": {
     "duration": 0.171332,
     "end_time": "2022-03-28T07:14:14.863913",
     "exception": false,
     "start_time": "2022-03-28T07:14:14.692581",
     "status": "completed"
    },
    "tags": []
   },
   "outputs": [
    {
     "data": {
      "text/plain": [
       "2.0    40829\n",
       "1.0    28155\n",
       "Name: group, dtype: int32"
      ]
     },
     "execution_count": 132,
     "metadata": {},
     "output_type": "execute_result"
    }
   ],
   "source": [
    "channal_group.value_counts()"
   ]
  },
  {
   "cell_type": "code",
   "execution_count": 133,
   "id": "894ca66c",
   "metadata": {
    "_cell_guid": "dda23053-1403-4e5d-bff8-9a1d5b71d783",
    "_uuid": "7ae048c4-0875-4e5b-9609-9d027ced58b7",
    "collapsed": false,
    "execution": {
     "iopub.execute_input": "2022-03-28T07:14:15.189260Z",
     "iopub.status.busy": "2022-03-28T07:14:15.187792Z",
     "iopub.status.idle": "2022-03-28T07:14:15.304972Z",
     "shell.execute_reply": "2022-03-28T07:14:15.304340Z",
     "shell.execute_reply.started": "2022-03-28T07:06:01.950772Z"
    },
    "jupyter": {
     "outputs_hidden": false
    },
    "papermill": {
     "duration": 0.277502,
     "end_time": "2022-03-28T07:14:15.305110",
     "exception": false,
     "start_time": "2022-03-28T07:14:15.027608",
     "status": "completed"
    },
    "tags": []
   },
   "outputs": [],
   "source": [
    "sub = sub.set_index('customer_id').loc[real.customer_id].reset_index()"
   ]
  },
  {
   "cell_type": "code",
   "execution_count": 134,
   "id": "6411ab04",
   "metadata": {
    "_cell_guid": "522dea03-39fb-4dfb-beb9-fd762ae39676",
    "_uuid": "bcef721f-5fe4-4e60-8ccf-da443ac5e5f2",
    "collapsed": false,
    "execution": {
     "iopub.execute_input": "2022-03-28T07:14:15.624557Z",
     "iopub.status.busy": "2022-03-28T07:14:15.623423Z",
     "iopub.status.idle": "2022-03-28T07:14:15.626700Z",
     "shell.execute_reply": "2022-03-28T07:14:15.627102Z",
     "shell.execute_reply.started": "2022-03-28T07:06:02.071237Z"
    },
    "jupyter": {
     "outputs_hidden": false
    },
    "papermill": {
     "duration": 0.167928,
     "end_time": "2022-03-28T07:14:15.627231",
     "exception": false,
     "start_time": "2022-03-28T07:14:15.459303",
     "status": "completed"
    },
    "tags": []
   },
   "outputs": [
    {
     "data": {
      "text/html": [
       "<div>\n",
       "<style scoped>\n",
       "    .dataframe tbody tr th:only-of-type {\n",
       "        vertical-align: middle;\n",
       "    }\n",
       "\n",
       "    .dataframe tbody tr th {\n",
       "        vertical-align: top;\n",
       "    }\n",
       "\n",
       "    .dataframe thead th {\n",
       "        text-align: right;\n",
       "    }\n",
       "</style>\n",
       "<table border=\"1\" class=\"dataframe\">\n",
       "  <thead>\n",
       "    <tr style=\"text-align: right;\">\n",
       "      <th></th>\n",
       "      <th>customer_id</th>\n",
       "      <th>prediction</th>\n",
       "    </tr>\n",
       "  </thead>\n",
       "  <tbody>\n",
       "    <tr>\n",
       "      <th>0</th>\n",
       "      <td>-9223100958908512198</td>\n",
       "      <td>0909911001 0909912001 0899976004 0924645001 09...</td>\n",
       "    </tr>\n",
       "    <tr>\n",
       "      <th>1</th>\n",
       "      <td>-9223002534477110135</td>\n",
       "      <td>0909370001 0158340001 0809238001 0924243001 09...</td>\n",
       "    </tr>\n",
       "    <tr>\n",
       "      <th>2</th>\n",
       "      <td>-9222810895170663723</td>\n",
       "      <td>0568601006 0759814022 0918522001 0685814003 06...</td>\n",
       "    </tr>\n",
       "    <tr>\n",
       "      <th>3</th>\n",
       "      <td>-9221924794303263774</td>\n",
       "      <td>0707269004 0707269003 0892412002 0909370001 09...</td>\n",
       "    </tr>\n",
       "    <tr>\n",
       "      <th>4</th>\n",
       "      <td>-9221811157628158522</td>\n",
       "      <td>0909370001 0448509014 0918522001 0918292001 08...</td>\n",
       "    </tr>\n",
       "    <tr>\n",
       "      <th>...</th>\n",
       "      <td>...</td>\n",
       "      <td>...</td>\n",
       "    </tr>\n",
       "    <tr>\n",
       "      <th>68979</th>\n",
       "      <td>9221607025486275188</td>\n",
       "      <td>0816586002 0673677002 0706016002 0909370001 01...</td>\n",
       "    </tr>\n",
       "    <tr>\n",
       "      <th>68980</th>\n",
       "      <td>9221813808370389952</td>\n",
       "      <td>0654590001 0714790020 0448509014 0749699002 06...</td>\n",
       "    </tr>\n",
       "    <tr>\n",
       "      <th>68981</th>\n",
       "      <td>9222310594107555341</td>\n",
       "      <td>0904416002 0863595002 0863595005 0863646003 09...</td>\n",
       "    </tr>\n",
       "    <tr>\n",
       "      <th>68982</th>\n",
       "      <td>9223099843213569889</td>\n",
       "      <td>0903773002 0776850001 0757909004 0827968004 08...</td>\n",
       "    </tr>\n",
       "    <tr>\n",
       "      <th>68983</th>\n",
       "      <td>9223141695752178477</td>\n",
       "      <td>0918522001 0685814003 0448509014 0918292001 07...</td>\n",
       "    </tr>\n",
       "  </tbody>\n",
       "</table>\n",
       "<p>68984 rows × 2 columns</p>\n",
       "</div>"
      ],
      "text/plain": [
       "               customer_id                                         prediction\n",
       "0     -9223100958908512198  0909911001 0909912001 0899976004 0924645001 09...\n",
       "1     -9223002534477110135  0909370001 0158340001 0809238001 0924243001 09...\n",
       "2     -9222810895170663723  0568601006 0759814022 0918522001 0685814003 06...\n",
       "3     -9221924794303263774  0707269004 0707269003 0892412002 0909370001 09...\n",
       "4     -9221811157628158522  0909370001 0448509014 0918522001 0918292001 08...\n",
       "...                    ...                                                ...\n",
       "68979  9221607025486275188  0816586002 0673677002 0706016002 0909370001 01...\n",
       "68980  9221813808370389952  0654590001 0714790020 0448509014 0749699002 06...\n",
       "68981  9222310594107555341  0904416002 0863595002 0863595005 0863646003 09...\n",
       "68982  9223099843213569889  0903773002 0776850001 0757909004 0827968004 08...\n",
       "68983  9223141695752178477  0918522001 0685814003 0448509014 0918292001 07...\n",
       "\n",
       "[68984 rows x 2 columns]"
      ]
     },
     "execution_count": 134,
     "metadata": {},
     "output_type": "execute_result"
    }
   ],
   "source": [
    "sub"
   ]
  },
  {
   "cell_type": "code",
   "execution_count": 135,
   "id": "a04d7026",
   "metadata": {
    "_cell_guid": "5ec7e047-8de4-4ef5-b1e3-4a4c73371fdf",
    "_uuid": "b6abaaa0-9e18-4b49-b300-79d6e86ac243",
    "collapsed": false,
    "execution": {
     "iopub.execute_input": "2022-03-28T07:14:15.938202Z",
     "iopub.status.busy": "2022-03-28T07:14:15.937442Z",
     "iopub.status.idle": "2022-03-28T07:14:15.952092Z",
     "shell.execute_reply": "2022-03-28T07:14:15.951688Z",
     "shell.execute_reply.started": "2022-03-28T07:06:02.085838Z"
    },
    "jupyter": {
     "outputs_hidden": false
    },
    "papermill": {
     "duration": 0.172085,
     "end_time": "2022-03-28T07:14:15.952198",
     "exception": false,
     "start_time": "2022-03-28T07:14:15.780113",
     "status": "completed"
    },
    "tags": []
   },
   "outputs": [
    {
     "data": {
      "text/plain": [
       "0                17646\n",
       "(50.0, 100.0]    14603\n",
       "(20.0, 35.0]     10527\n",
       "(10.0, 20.0]      8439\n",
       "(35.0, 50.0]      7675\n",
       "(0.0, 5.0]        5210\n",
       "(5.0, 10.0]       4884\n",
       "Name: group, dtype: int32"
      ]
     },
     "execution_count": 135,
     "metadata": {},
     "output_type": "execute_result"
    }
   ],
   "source": [
    "his_count_group.value_counts()"
   ]
  },
  {
   "cell_type": "code",
   "execution_count": 136,
   "id": "9b6b2209",
   "metadata": {
    "_cell_guid": "b94887b4-a06c-4ad5-bbc9-c0d9fc2cde24",
    "_uuid": "a4f66ce5-62f5-4e40-b0ab-2562620a6803",
    "collapsed": false,
    "execution": {
     "iopub.execute_input": "2022-03-28T07:14:16.266759Z",
     "iopub.status.busy": "2022-03-28T07:14:16.265890Z",
     "iopub.status.idle": "2022-03-28T07:14:16.424507Z",
     "shell.execute_reply": "2022-03-28T07:14:16.424002Z",
     "shell.execute_reply.started": "2022-03-28T07:06:02.106515Z"
    },
    "jupyter": {
     "outputs_hidden": false
    },
    "papermill": {
     "duration": 0.317504,
     "end_time": "2022-03-28T07:14:16.424642",
     "exception": false,
     "start_time": "2022-03-28T07:14:16.107138",
     "status": "completed"
    },
    "tags": []
   },
   "outputs": [],
   "source": [
    "prediction =  sub[\"prediction\"].apply(lambda s: [] if pd.isna(s) else s.split())"
   ]
  },
  {
   "cell_type": "code",
   "execution_count": 137,
   "id": "93bb998b",
   "metadata": {
    "_cell_guid": "f4865157-18b1-4407-9d14-787f27fc03c9",
    "_uuid": "32124ecb-23d8-46ea-84bf-697b8aa0e90c",
    "collapsed": false,
    "execution": {
     "iopub.execute_input": "2022-03-28T07:14:16.741120Z",
     "iopub.status.busy": "2022-03-28T07:14:16.740224Z",
     "iopub.status.idle": "2022-03-28T07:14:16.750524Z",
     "shell.execute_reply": "2022-03-28T07:14:16.750991Z",
     "shell.execute_reply.started": "2022-03-28T07:06:02.269242Z"
    },
    "jupyter": {
     "outputs_hidden": false
    },
    "papermill": {
     "duration": 0.171326,
     "end_time": "2022-03-28T07:14:16.751123",
     "exception": false,
     "start_time": "2022-03-28T07:14:16.579797",
     "status": "completed"
    },
    "tags": []
   },
   "outputs": [],
   "source": [
    "groups = {\"channal\":channal_group.to_pandas(),\n",
    "         \"age\":age_group.to_pandas(),\n",
    "         \"val_count\":count_group.to_pandas(),\n",
    "         \"train_count\": his_count_group.to_pandas()}"
   ]
  },
  {
   "cell_type": "code",
   "execution_count": 138,
   "id": "5f266e3a",
   "metadata": {
    "_cell_guid": "4e13a4ca-b571-4c03-af40-3c326888a68a",
    "_uuid": "bf283679-7c7b-4a5c-953a-02fb07b47c31",
    "collapsed": false,
    "execution": {
     "iopub.execute_input": "2022-03-28T07:14:17.064072Z",
     "iopub.status.busy": "2022-03-28T07:14:17.063311Z",
     "iopub.status.idle": "2022-03-28T07:14:17.077652Z",
     "shell.execute_reply": "2022-03-28T07:14:17.078027Z",
     "shell.execute_reply.started": "2022-03-28T07:06:02.285998Z"
    },
    "jupyter": {
     "outputs_hidden": false
    },
    "papermill": {
     "duration": 0.172224,
     "end_time": "2022-03-28T07:14:17.078159",
     "exception": false,
     "start_time": "2022-03-28T07:14:16.905935",
     "status": "completed"
    },
    "tags": []
   },
   "outputs": [
    {
     "data": {
      "text/plain": [
       "(0, 1]        19994\n",
       "(1, 2]        16386\n",
       "(3, 5]        10928\n",
       "(2, 3]        10075\n",
       "(5, 10]        8668\n",
       "(10, 20]       2571\n",
       "(20, 9999]      362\n",
       "Name: group, dtype: int32"
      ]
     },
     "execution_count": 138,
     "metadata": {},
     "output_type": "execute_result"
    }
   ],
   "source": [
    "count_group.value_counts()"
   ]
  },
  {
   "cell_type": "code",
   "execution_count": 139,
   "id": "f4782795",
   "metadata": {
    "_cell_guid": "fc0012d2-919a-4125-a613-0d3e7fefc4ab",
    "_uuid": "e275557c-6ae7-49bb-afb9-b86e174642da",
    "collapsed": false,
    "execution": {
     "iopub.execute_input": "2022-03-28T07:14:17.395031Z",
     "iopub.status.busy": "2022-03-28T07:14:17.394263Z",
     "iopub.status.idle": "2022-03-28T07:14:17.396797Z",
     "shell.execute_reply": "2022-03-28T07:14:17.396349Z",
     "shell.execute_reply.started": "2022-03-28T07:06:02.305682Z"
    },
    "jupyter": {
     "outputs_hidden": false
    },
    "papermill": {
     "duration": 0.160908,
     "end_time": "2022-03-28T07:14:17.396919",
     "exception": false,
     "start_time": "2022-03-28T07:14:17.236011",
     "status": "completed"
    },
    "tags": []
   },
   "outputs": [],
   "source": [
    "#sorted(count_group.to_pandas().unique(), key = lambda x: float(x.replace(\"(\", \"1\").split(\",\")[0]))"
   ]
  },
  {
   "cell_type": "code",
   "execution_count": 140,
   "id": "99151673",
   "metadata": {
    "_cell_guid": "b0d5540d-5979-416d-a2d1-0ca1397dd9a4",
    "_uuid": "1dbb2fe2-5714-4fb9-9b0f-667ef769a794",
    "collapsed": false,
    "execution": {
     "iopub.execute_input": "2022-03-28T07:14:17.763916Z",
     "iopub.status.busy": "2022-03-28T07:14:17.754302Z",
     "iopub.status.idle": "2022-03-28T07:14:21.231337Z",
     "shell.execute_reply": "2022-03-28T07:14:21.230721Z",
     "shell.execute_reply.started": "2022-03-28T07:06:02.310847Z"
    },
    "jupyter": {
     "outputs_hidden": false
    },
    "papermill": {
     "duration": 3.682478,
     "end_time": "2022-03-28T07:14:21.233580",
     "exception": false,
     "start_time": "2022-03-28T07:14:17.551102",
     "status": "completed"
    },
    "tags": []
   },
   "outputs": [
    {
     "data": {
      "text/html": [
       "<div>\n",
       "<style scoped>\n",
       "    .dataframe tbody tr th:only-of-type {\n",
       "        vertical-align: middle;\n",
       "    }\n",
       "\n",
       "    .dataframe tbody tr th {\n",
       "        vertical-align: top;\n",
       "    }\n",
       "\n",
       "    .dataframe thead th {\n",
       "        text-align: right;\n",
       "    }\n",
       "</style>\n",
       "<table border=\"1\" class=\"dataframe\">\n",
       "  <thead>\n",
       "    <tr style=\"text-align: right;\">\n",
       "      <th></th>\n",
       "      <th>1.0</th>\n",
       "      <th>2.0</th>\n",
       "      <th>All</th>\n",
       "      <th>Fill</th>\n",
       "    </tr>\n",
       "  </thead>\n",
       "  <tbody>\n",
       "    <tr>\n",
       "      <th>Last Purchase</th>\n",
       "      <td>0.017124</td>\n",
       "      <td>0.033097</td>\n",
       "      <td>0.026578</td>\n",
       "      <td>100.0</td>\n",
       "    </tr>\n",
       "  </tbody>\n",
       "</table>\n",
       "</div>"
      ],
      "text/plain": [
       "                    1.0       2.0       All   Fill\n",
       "Last Purchase  0.017124  0.033097  0.026578  100.0"
      ]
     },
     "metadata": {},
     "output_type": "display_data"
    },
    {
     "data": {
      "text/html": [
       "<div>\n",
       "<style scoped>\n",
       "    .dataframe tbody tr th:only-of-type {\n",
       "        vertical-align: middle;\n",
       "    }\n",
       "\n",
       "    .dataframe tbody tr th {\n",
       "        vertical-align: top;\n",
       "    }\n",
       "\n",
       "    .dataframe thead th {\n",
       "        text-align: right;\n",
       "    }\n",
       "</style>\n",
       "<table border=\"1\" class=\"dataframe\">\n",
       "  <thead>\n",
       "    <tr style=\"text-align: right;\">\n",
       "      <th></th>\n",
       "      <th>(0.0, 21.0]</th>\n",
       "      <th>(21.0, 24.0]</th>\n",
       "      <th>(24.0, 27.0]</th>\n",
       "      <th>(27.0, 30.0]</th>\n",
       "      <th>(30.0, 35.0]</th>\n",
       "      <th>(35.0, 40.0]</th>\n",
       "      <th>(40.0, 45.0]</th>\n",
       "      <th>(45.0, 50.0]</th>\n",
       "      <th>(50.0, 60.0]</th>\n",
       "      <th>(60.0, 9999.0]</th>\n",
       "      <th>-1</th>\n",
       "      <th>All</th>\n",
       "      <th>Fill</th>\n",
       "    </tr>\n",
       "  </thead>\n",
       "  <tbody>\n",
       "    <tr>\n",
       "      <th>Last Purchase</th>\n",
       "      <td>0.023924</td>\n",
       "      <td>0.025303</td>\n",
       "      <td>0.026756</td>\n",
       "      <td>0.026282</td>\n",
       "      <td>0.02601</td>\n",
       "      <td>0.026093</td>\n",
       "      <td>0.028192</td>\n",
       "      <td>0.026262</td>\n",
       "      <td>0.027687</td>\n",
       "      <td>0.033293</td>\n",
       "      <td>0.033332</td>\n",
       "      <td>0.026578</td>\n",
       "      <td>100.0</td>\n",
       "    </tr>\n",
       "  </tbody>\n",
       "</table>\n",
       "</div>"
      ],
      "text/plain": [
       "               (0.0, 21.0]  (21.0, 24.0]  (24.0, 27.0]  (27.0, 30.0]  \\\n",
       "Last Purchase     0.023924      0.025303      0.026756      0.026282   \n",
       "\n",
       "               (30.0, 35.0]  (35.0, 40.0]  (40.0, 45.0]  (45.0, 50.0]  \\\n",
       "Last Purchase       0.02601      0.026093      0.028192      0.026262   \n",
       "\n",
       "               (50.0, 60.0]  (60.0, 9999.0]        -1       All   Fill  \n",
       "Last Purchase      0.027687        0.033293  0.033332  0.026578  100.0  "
      ]
     },
     "metadata": {},
     "output_type": "display_data"
    },
    {
     "data": {
      "text/html": [
       "<div>\n",
       "<style scoped>\n",
       "    .dataframe tbody tr th:only-of-type {\n",
       "        vertical-align: middle;\n",
       "    }\n",
       "\n",
       "    .dataframe tbody tr th {\n",
       "        vertical-align: top;\n",
       "    }\n",
       "\n",
       "    .dataframe thead th {\n",
       "        text-align: right;\n",
       "    }\n",
       "</style>\n",
       "<table border=\"1\" class=\"dataframe\">\n",
       "  <thead>\n",
       "    <tr style=\"text-align: right;\">\n",
       "      <th></th>\n",
       "      <th>(0, 1]</th>\n",
       "      <th>(1, 2]</th>\n",
       "      <th>(10, 20]</th>\n",
       "      <th>(2, 3]</th>\n",
       "      <th>(20, 9999]</th>\n",
       "      <th>(3, 5]</th>\n",
       "      <th>(5, 10]</th>\n",
       "      <th>All</th>\n",
       "      <th>Fill</th>\n",
       "    </tr>\n",
       "  </thead>\n",
       "  <tbody>\n",
       "    <tr>\n",
       "      <th>Last Purchase</th>\n",
       "      <td>0.044</td>\n",
       "      <td>0.026126</td>\n",
       "      <td>0.01266</td>\n",
       "      <td>0.020573</td>\n",
       "      <td>0.021897</td>\n",
       "      <td>0.015203</td>\n",
       "      <td>0.01289</td>\n",
       "      <td>0.026578</td>\n",
       "      <td>100.0</td>\n",
       "    </tr>\n",
       "  </tbody>\n",
       "</table>\n",
       "</div>"
      ],
      "text/plain": [
       "               (0, 1]    (1, 2]  (10, 20]    (2, 3]  (20, 9999]    (3, 5]  \\\n",
       "Last Purchase   0.044  0.026126   0.01266  0.020573    0.021897  0.015203   \n",
       "\n",
       "               (5, 10]       All   Fill  \n",
       "Last Purchase  0.01289  0.026578  100.0  "
      ]
     },
     "metadata": {},
     "output_type": "display_data"
    },
    {
     "data": {
      "text/html": [
       "<div>\n",
       "<style scoped>\n",
       "    .dataframe tbody tr th:only-of-type {\n",
       "        vertical-align: middle;\n",
       "    }\n",
       "\n",
       "    .dataframe tbody tr th {\n",
       "        vertical-align: top;\n",
       "    }\n",
       "\n",
       "    .dataframe thead th {\n",
       "        text-align: right;\n",
       "    }\n",
       "</style>\n",
       "<table border=\"1\" class=\"dataframe\">\n",
       "  <thead>\n",
       "    <tr style=\"text-align: right;\">\n",
       "      <th></th>\n",
       "      <th>(0.0, 5.0]</th>\n",
       "      <th>(10.0, 20.0]</th>\n",
       "      <th>(20.0, 35.0]</th>\n",
       "      <th>(35.0, 50.0]</th>\n",
       "      <th>(5.0, 10.0]</th>\n",
       "      <th>(50.0, 100.0]</th>\n",
       "      <th>0</th>\n",
       "      <th>All</th>\n",
       "      <th>Fill</th>\n",
       "    </tr>\n",
       "  </thead>\n",
       "  <tbody>\n",
       "    <tr>\n",
       "      <th>Last Purchase</th>\n",
       "      <td>0.03329</td>\n",
       "      <td>0.028482</td>\n",
       "      <td>0.026655</td>\n",
       "      <td>0.025883</td>\n",
       "      <td>0.029665</td>\n",
       "      <td>0.027889</td>\n",
       "      <td>0.022002</td>\n",
       "      <td>0.026578</td>\n",
       "      <td>100.0</td>\n",
       "    </tr>\n",
       "  </tbody>\n",
       "</table>\n",
       "</div>"
      ],
      "text/plain": [
       "               (0.0, 5.0]  (10.0, 20.0]  (20.0, 35.0]  (35.0, 50.0]  \\\n",
       "Last Purchase     0.03329      0.028482      0.026655      0.025883   \n",
       "\n",
       "               (5.0, 10.0]  (50.0, 100.0]         0       All   Fill  \n",
       "Last Purchase     0.029665       0.027889  0.022002  0.026578  100.0  "
      ]
     },
     "metadata": {},
     "output_type": "display_data"
    },
    {
     "data": {
      "image/png": "[encoded data removed]",
      "text/plain": [
       "<Figure size 1584x432 with 5 Axes>"
      ]
     },
     "metadata": {},
     "output_type": "display_data"
    }
   ],
   "source": [
    "score = validation(real.article_id, prediction, groups, index='Last Purchase', ignore=0)"
   ]
  },
  {
   "cell_type": "code",
   "execution_count": 141,
   "id": "d668bff7",
   "metadata": {
    "_cell_guid": "7602c044-6578-4bc8-b96d-f548f09dcb09",
    "_uuid": "ce515283-4b55-4474-ad5b-1994fbf9fe9b",
    "collapsed": false,
    "execution": {
     "iopub.execute_input": "2022-03-28T07:14:21.797355Z",
     "iopub.status.busy": "2022-03-28T07:14:21.796517Z",
     "iopub.status.idle": "2022-03-28T07:14:22.047359Z",
     "shell.execute_reply": "2022-03-28T07:14:22.047862Z",
     "shell.execute_reply.started": "2022-03-28T07:06:05.685436Z"
    },
    "jupyter": {
     "outputs_hidden": false
    },
    "papermill": {
     "duration": 0.536381,
     "end_time": "2022-03-28T07:14:22.048019",
     "exception": false,
     "start_time": "2022-03-28T07:14:21.511638",
     "status": "completed"
    },
    "tags": []
   },
   "outputs": [
    {
     "data": {
      "text/plain": [
       "27409"
      ]
     },
     "execution_count": 141,
     "metadata": {},
     "output_type": "execute_result"
    }
   ],
   "source": [
    "del merge_result\n",
    "del sub\n",
    "del real\n",
    "del prediction\n",
    "del groups\n",
    "del cid\n",
    "del sub_id\n",
    "gc.collect()"
   ]
  }
 ],
 "metadata": {
  "kernelspec": {
   "display_name": "Python 3",
   "language": "python",
   "name": "python3"
  },
  "language_info": {
   "codemirror_mode": {
    "name": "ipython",
    "version": 3
   },
   "file_extension": ".py",
   "mimetype": "text/x-python",
   "name": "python",
   "nbconvert_exporter": "python",
   "pygments_lexer": "ipython3",
   "version": "3.7.12"
  },
  "papermill": {
   "default_parameters": {},
   "duration": 259.244249,
   "end_time": "2022-03-28T07:14:24.043869",
   "environment_variables": {},
   "exception": null,
   "input_path": "__notebook__.ipynb",
   "output_path": "__notebook__.ipynb",
   "parameters": {},
   "start_time": "2022-03-28T07:10:04.799620",
   "version": "2.3.3"
  }
 },
 "nbformat": 4,
 "nbformat_minor": 5
}
