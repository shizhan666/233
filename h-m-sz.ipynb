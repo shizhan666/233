{
 "cells": [
  {
   "cell_type": "code",
   "execution_count": 1,
   "id": "a0de9076",
   "metadata": {
    "_cell_guid": "b1076dfc-b9ad-4769-8c92-a6c4dae69d19",
    "_uuid": "8f2839f25d086af736a60e9eeb907d3b93b6e0e5",
    "execution": {
     "iopub.execute_input": "2022-03-27T15:15:59.152079Z",
     "iopub.status.busy": "2022-03-27T15:15:59.149040Z",
     "iopub.status.idle": "2022-03-27T15:16:11.711166Z",
     "shell.execute_reply": "2022-03-27T15:16:11.711678Z",
     "shell.execute_reply.started": "2022-03-27T14:16:10.650979Z"
    },
    "papermill": {
     "duration": 12.700043,
     "end_time": "2022-03-27T15:16:11.712000",
     "exception": false,
     "start_time": "2022-03-27T15:15:59.011957",
     "status": "completed"
    },
    "tags": []
   },
   "outputs": [
    {
     "name": "stdout",
     "output_type": "stream",
     "text": [
      "Requirement already satisfied: cudf in /opt/conda/lib/python3.7/site-packages (21.10.1)\r\n",
      "Requirement already satisfied: numba>=0.53.1 in /opt/conda/lib/python3.7/site-packages (from cudf) (0.54.1)\r\n",
      "Requirement already satisfied: Cython<0.30,>=0.29 in /opt/conda/lib/python3.7/site-packages (from cudf) (0.29.28)\r\n",
      "Requirement already satisfied: fastavro>=0.22.9 in /opt/conda/lib/python3.7/site-packages (from cudf) (1.4.9)\r\n",
      "Requirement already satisfied: fsspec>=0.6.0 in /opt/conda/lib/python3.7/site-packages (from cudf) (2022.2.0)\r\n",
      "Requirement already satisfied: numpy in /opt/conda/lib/python3.7/site-packages (from cudf) (1.20.3)\r\n",
      "Requirement already satisfied: pandas<1.4.0dev0,>=1.0 in /opt/conda/lib/python3.7/site-packages (from cudf) (1.3.5)\r\n",
      "Requirement already satisfied: typing_extensions in /opt/conda/lib/python3.7/site-packages (from cudf) (4.1.1)\r\n",
      "Requirement already satisfied: protobuf in /opt/conda/lib/python3.7/site-packages (from cudf) (3.19.1)\r\n",
      "Requirement already satisfied: nvtx>=0.2.1 in /opt/conda/lib/python3.7/site-packages (from cudf) (0.2.3)\r\n",
      "Requirement already satisfied: cachetools in /opt/conda/lib/python3.7/site-packages (from cudf) (4.2.4)\r\n",
      "Requirement already satisfied: packaging in /opt/conda/lib/python3.7/site-packages (from cudf) (21.3)\r\n",
      "Requirement already satisfied: cupy-cuda110 in /opt/conda/lib/python3.7/site-packages (from cudf) (10.2.0)\r\n",
      "Requirement already satisfied: setuptools in /opt/conda/lib/python3.7/site-packages (from numba>=0.53.1->cudf) (59.5.0)\r\n",
      "Requirement already satisfied: llvmlite<0.38,>=0.37.0rc1 in /opt/conda/lib/python3.7/site-packages (from numba>=0.53.1->cudf) (0.37.0)\r\n",
      "Requirement already satisfied: python-dateutil>=2.7.3 in /opt/conda/lib/python3.7/site-packages (from pandas<1.4.0dev0,>=1.0->cudf) (2.8.2)\r\n",
      "Requirement already satisfied: pytz>=2017.3 in /opt/conda/lib/python3.7/site-packages (from pandas<1.4.0dev0,>=1.0->cudf) (2021.3)\r\n",
      "Requirement already satisfied: fastrlock>=0.5 in /opt/conda/lib/python3.7/site-packages (from cupy-cuda110->cudf) (0.8)\r\n",
      "Requirement already satisfied: pyparsing!=3.0.5,>=2.0.2 in /opt/conda/lib/python3.7/site-packages (from packaging->cudf) (3.0.6)\r\n",
      "Requirement already satisfied: six>=1.5 in /opt/conda/lib/python3.7/site-packages (from python-dateutil>=2.7.3->pandas<1.4.0dev0,>=1.0->cudf) (1.16.0)\r\n",
      "\u001b[33mWARNING: Running pip as the 'root' user can result in broken permissions and conflicting behaviour with the system package manager. It is recommended to use a virtual environment instead: https://pip.pypa.io/warnings/venv\u001b[0m\r\n"
     ]
    }
   ],
   "source": [
    "!pip install cudf\n",
    "import numpy as np\n",
    "import pandas as pd \n",
    "from datetime import datetime, timedelta\n",
    "import gc\n",
    "import cudf\n",
    "import cv2, matplotlib.pyplot as plt\n",
    "from os.path import exists"
   ]
  },
  {
   "cell_type": "markdown",
   "id": "abfd06df",
   "metadata": {
    "papermill": {
     "duration": 0.139054,
     "end_time": "2022-03-27T15:16:12.003637",
     "exception": false,
     "start_time": "2022-03-27T15:16:11.864583",
     "status": "completed"
    },
    "tags": []
   },
   "source": [
    "### Read the transactions data"
   ]
  },
  {
   "cell_type": "markdown",
   "id": "319739a3",
   "metadata": {
    "papermill": {
     "duration": 0.135915,
     "end_time": "2022-03-27T15:16:12.277639",
     "exception": false,
     "start_time": "2022-03-27T15:16:12.141724",
     "status": "completed"
    },
    "tags": []
   },
   "source": [
    "Changes: \n",
    "* read_csv using cudf\n",
    "* article_id types from string to int32 \n",
    "* reduce memory on customer_id "
   ]
  },
  {
   "cell_type": "code",
   "execution_count": 2,
   "id": "a16852a4",
   "metadata": {
    "execution": {
     "iopub.execute_input": "2022-03-27T15:16:12.559738Z",
     "iopub.status.busy": "2022-03-27T15:16:12.558758Z",
     "iopub.status.idle": "2022-03-27T15:16:12.562327Z",
     "shell.execute_reply": "2022-03-27T15:16:12.561856Z",
     "shell.execute_reply.started": "2022-03-27T14:16:23.040594Z"
    },
    "papermill": {
     "duration": 0.149669,
     "end_time": "2022-03-27T15:16:12.562445",
     "exception": false,
     "start_time": "2022-03-27T15:16:12.412776",
     "status": "completed"
    },
    "tags": []
   },
   "outputs": [],
   "source": [
    "Date_week1 = pd.to_datetime(\"2020-09-16\")\n",
    "Date_week2 = pd.to_datetime(\"2020-09-09\")\n",
    "Date_week3 = pd.to_datetime(\"2020-09-02\")\n",
    "Last_day = pd.to_datetime(\"2020-09-22\")"
   ]
  },
  {
   "cell_type": "code",
   "execution_count": 3,
   "id": "c8d30f28",
   "metadata": {
    "execution": {
     "iopub.execute_input": "2022-03-27T15:16:12.840669Z",
     "iopub.status.busy": "2022-03-27T15:16:12.839742Z",
     "iopub.status.idle": "2022-03-27T15:16:12.842619Z",
     "shell.execute_reply": "2022-03-27T15:16:12.842071Z",
     "shell.execute_reply.started": "2022-03-27T14:16:23.052176Z"
    },
    "papermill": {
     "duration": 0.142888,
     "end_time": "2022-03-27T15:16:12.842735",
     "exception": false,
     "start_time": "2022-03-27T15:16:12.699847",
     "status": "completed"
    },
    "tags": []
   },
   "outputs": [],
   "source": [
    "N = 12"
   ]
  },
  {
   "cell_type": "code",
   "execution_count": 4,
   "id": "237cb920",
   "metadata": {
    "execution": {
     "iopub.execute_input": "2022-03-27T15:16:13.124773Z",
     "iopub.status.busy": "2022-03-27T15:16:13.124113Z",
     "iopub.status.idle": "2022-03-27T15:16:50.910974Z",
     "shell.execute_reply": "2022-03-27T15:16:50.910443Z",
     "shell.execute_reply.started": "2022-03-27T14:16:23.060503Z"
    },
    "papermill": {
     "duration": 37.930142,
     "end_time": "2022-03-27T15:16:50.911134",
     "exception": false,
     "start_time": "2022-03-27T15:16:12.980992",
     "status": "completed"
    },
    "tags": []
   },
   "outputs": [],
   "source": [
    "df  = cudf.read_csv('../input/h-and-m-personalized-fashion-recommendations/transactions_train.csv')\n",
    "                            #usecols= ['t_dat', 'customer_id', 'article_id'], \n",
    "                            #dtype={'article_id': 'int32', 't_dat': 'string', 'customer_id': 'string', \"sales_channel_id\": 'int32', \"price\": \"float\"})\n",
    "df ['customer_id'] = df ['customer_id'].str[-16:].str.hex_to_int().astype('int64')\n",
    "df.article_id = df.article_id.astype('int32')\n",
    "df['t_dat'] = cudf.to_datetime(df['t_dat'])\n",
    "Last_date = df['t_dat'].max()"
   ]
  },
  {
   "cell_type": "code",
   "execution_count": 5,
   "id": "b5f07965",
   "metadata": {
    "execution": {
     "iopub.execute_input": "2022-03-27T15:16:51.190876Z",
     "iopub.status.busy": "2022-03-27T15:16:51.190114Z",
     "iopub.status.idle": "2022-03-27T15:16:51.255948Z",
     "shell.execute_reply": "2022-03-27T15:16:51.256388Z",
     "shell.execute_reply.started": "2022-03-27T14:17:01.055301Z"
    },
    "papermill": {
     "duration": 0.209461,
     "end_time": "2022-03-27T15:16:51.256535",
     "exception": false,
     "start_time": "2022-03-27T15:16:51.047074",
     "status": "completed"
    },
    "tags": []
   },
   "outputs": [
    {
     "data": {
      "text/html": [
       "<div>\n",
       "<style scoped>\n",
       "    .dataframe tbody tr th:only-of-type {\n",
       "        vertical-align: middle;\n",
       "    }\n",
       "\n",
       "    .dataframe tbody tr th {\n",
       "        vertical-align: top;\n",
       "    }\n",
       "\n",
       "    .dataframe thead th {\n",
       "        text-align: right;\n",
       "    }\n",
       "</style>\n",
       "<table border=\"1\" class=\"dataframe\">\n",
       "  <thead>\n",
       "    <tr style=\"text-align: right;\">\n",
       "      <th></th>\n",
       "      <th>t_dat</th>\n",
       "      <th>customer_id</th>\n",
       "      <th>article_id</th>\n",
       "      <th>price</th>\n",
       "      <th>sales_channel_id</th>\n",
       "    </tr>\n",
       "  </thead>\n",
       "  <tbody>\n",
       "    <tr>\n",
       "      <th>0</th>\n",
       "      <td>2018-09-20</td>\n",
       "      <td>-6846340800584936</td>\n",
       "      <td>663713001</td>\n",
       "      <td>0.050831</td>\n",
       "      <td>2</td>\n",
       "    </tr>\n",
       "    <tr>\n",
       "      <th>1</th>\n",
       "      <td>2018-09-20</td>\n",
       "      <td>-6846340800584936</td>\n",
       "      <td>541518023</td>\n",
       "      <td>0.030492</td>\n",
       "      <td>2</td>\n",
       "    </tr>\n",
       "    <tr>\n",
       "      <th>2</th>\n",
       "      <td>2018-09-20</td>\n",
       "      <td>-8334631767138808638</td>\n",
       "      <td>505221004</td>\n",
       "      <td>0.015237</td>\n",
       "      <td>2</td>\n",
       "    </tr>\n",
       "    <tr>\n",
       "      <th>3</th>\n",
       "      <td>2018-09-20</td>\n",
       "      <td>-8334631767138808638</td>\n",
       "      <td>685687003</td>\n",
       "      <td>0.016932</td>\n",
       "      <td>2</td>\n",
       "    </tr>\n",
       "    <tr>\n",
       "      <th>4</th>\n",
       "      <td>2018-09-20</td>\n",
       "      <td>-8334631767138808638</td>\n",
       "      <td>685687004</td>\n",
       "      <td>0.016932</td>\n",
       "      <td>2</td>\n",
       "    </tr>\n",
       "    <tr>\n",
       "      <th>...</th>\n",
       "      <td>...</td>\n",
       "      <td>...</td>\n",
       "      <td>...</td>\n",
       "      <td>...</td>\n",
       "      <td>...</td>\n",
       "    </tr>\n",
       "    <tr>\n",
       "      <th>31788319</th>\n",
       "      <td>2020-09-22</td>\n",
       "      <td>4685485978980270934</td>\n",
       "      <td>929511001</td>\n",
       "      <td>0.059305</td>\n",
       "      <td>2</td>\n",
       "    </tr>\n",
       "    <tr>\n",
       "      <th>31788320</th>\n",
       "      <td>2020-09-22</td>\n",
       "      <td>4685485978980270934</td>\n",
       "      <td>891322004</td>\n",
       "      <td>0.042356</td>\n",
       "      <td>2</td>\n",
       "    </tr>\n",
       "    <tr>\n",
       "      <th>31788321</th>\n",
       "      <td>2020-09-22</td>\n",
       "      <td>3959348689921271969</td>\n",
       "      <td>918325001</td>\n",
       "      <td>0.043203</td>\n",
       "      <td>1</td>\n",
       "    </tr>\n",
       "    <tr>\n",
       "      <th>31788322</th>\n",
       "      <td>2020-09-22</td>\n",
       "      <td>-8639340045377511665</td>\n",
       "      <td>833459002</td>\n",
       "      <td>0.006763</td>\n",
       "      <td>1</td>\n",
       "    </tr>\n",
       "    <tr>\n",
       "      <th>31788323</th>\n",
       "      <td>2020-09-22</td>\n",
       "      <td>3235222691137941515</td>\n",
       "      <td>898573003</td>\n",
       "      <td>0.033881</td>\n",
       "      <td>2</td>\n",
       "    </tr>\n",
       "  </tbody>\n",
       "</table>\n",
       "<p>31788324 rows × 5 columns</p>\n",
       "</div>"
      ],
      "text/plain": [
       "              t_dat          customer_id  article_id     price  \\\n",
       "0        2018-09-20    -6846340800584936   663713001  0.050831   \n",
       "1        2018-09-20    -6846340800584936   541518023  0.030492   \n",
       "2        2018-09-20 -8334631767138808638   505221004  0.015237   \n",
       "3        2018-09-20 -8334631767138808638   685687003  0.016932   \n",
       "4        2018-09-20 -8334631767138808638   685687004  0.016932   \n",
       "...             ...                  ...         ...       ...   \n",
       "31788319 2020-09-22  4685485978980270934   929511001  0.059305   \n",
       "31788320 2020-09-22  4685485978980270934   891322004  0.042356   \n",
       "31788321 2020-09-22  3959348689921271969   918325001  0.043203   \n",
       "31788322 2020-09-22 -8639340045377511665   833459002  0.006763   \n",
       "31788323 2020-09-22  3235222691137941515   898573003  0.033881   \n",
       "\n",
       "          sales_channel_id  \n",
       "0                        2  \n",
       "1                        2  \n",
       "2                        2  \n",
       "3                        2  \n",
       "4                        2  \n",
       "...                    ...  \n",
       "31788319                 2  \n",
       "31788320                 2  \n",
       "31788321                 1  \n",
       "31788322                 1  \n",
       "31788323                 2  \n",
       "\n",
       "[31788324 rows x 5 columns]"
      ]
     },
     "execution_count": 5,
     "metadata": {},
     "output_type": "execute_result"
    }
   ],
   "source": [
    "df"
   ]
  },
  {
   "cell_type": "markdown",
   "id": "3e182018",
   "metadata": {
    "papermill": {
     "duration": 0.131078,
     "end_time": "2022-03-27T15:16:51.512735",
     "exception": false,
     "start_time": "2022-03-27T15:16:51.381657",
     "status": "completed"
    },
    "tags": []
   },
   "source": [
    "## 划分训练集和验证集"
   ]
  },
  {
   "cell_type": "code",
   "execution_count": 6,
   "id": "57da32e0",
   "metadata": {
    "execution": {
     "iopub.execute_input": "2022-03-27T15:16:51.776395Z",
     "iopub.status.busy": "2022-03-27T15:16:51.775476Z",
     "iopub.status.idle": "2022-03-27T15:16:51.833476Z",
     "shell.execute_reply": "2022-03-27T15:16:51.832961Z",
     "shell.execute_reply.started": "2022-03-27T14:17:01.136443Z"
    },
    "papermill": {
     "duration": 0.193747,
     "end_time": "2022-03-27T15:16:51.833601",
     "exception": false,
     "start_time": "2022-03-27T15:16:51.639854",
     "status": "completed"
    },
    "tags": []
   },
   "outputs": [],
   "source": [
    "val = df[df['t_dat']>= Date_week1].copy()\n",
    "train = df[df['t_dat']< Date_week1].copy()\n",
    "Last_date = pd.to_datetime(\"2020-09-15\")"
   ]
  },
  {
   "cell_type": "code",
   "execution_count": 7,
   "id": "b44733bb",
   "metadata": {
    "execution": {
     "iopub.execute_input": "2022-03-27T15:16:52.113561Z",
     "iopub.status.busy": "2022-03-27T15:16:52.113023Z",
     "iopub.status.idle": "2022-03-27T15:16:52.161619Z",
     "shell.execute_reply": "2022-03-27T15:16:52.162165Z",
     "shell.execute_reply.started": "2022-03-27T14:17:01.197138Z"
    },
    "papermill": {
     "duration": 0.194033,
     "end_time": "2022-03-27T15:16:52.162315",
     "exception": false,
     "start_time": "2022-03-27T15:16:51.968282",
     "status": "completed"
    },
    "tags": []
   },
   "outputs": [
    {
     "data": {
      "text/html": [
       "<div>\n",
       "<style scoped>\n",
       "    .dataframe tbody tr th:only-of-type {\n",
       "        vertical-align: middle;\n",
       "    }\n",
       "\n",
       "    .dataframe tbody tr th {\n",
       "        vertical-align: top;\n",
       "    }\n",
       "\n",
       "    .dataframe thead th {\n",
       "        text-align: right;\n",
       "    }\n",
       "</style>\n",
       "<table border=\"1\" class=\"dataframe\">\n",
       "  <thead>\n",
       "    <tr style=\"text-align: right;\">\n",
       "      <th></th>\n",
       "      <th>t_dat</th>\n",
       "      <th>customer_id</th>\n",
       "      <th>article_id</th>\n",
       "      <th>price</th>\n",
       "      <th>sales_channel_id</th>\n",
       "    </tr>\n",
       "  </thead>\n",
       "  <tbody>\n",
       "    <tr>\n",
       "      <th>31548013</th>\n",
       "      <td>2020-09-16</td>\n",
       "      <td>8055340703569116761</td>\n",
       "      <td>786022008</td>\n",
       "      <td>0.048441</td>\n",
       "      <td>2</td>\n",
       "    </tr>\n",
       "    <tr>\n",
       "      <th>31548014</th>\n",
       "      <td>2020-09-16</td>\n",
       "      <td>8055340703569116761</td>\n",
       "      <td>913272003</td>\n",
       "      <td>0.032288</td>\n",
       "      <td>2</td>\n",
       "    </tr>\n",
       "    <tr>\n",
       "      <th>31548015</th>\n",
       "      <td>2020-09-16</td>\n",
       "      <td>8055340703569116761</td>\n",
       "      <td>889669006</td>\n",
       "      <td>0.056508</td>\n",
       "      <td>2</td>\n",
       "    </tr>\n",
       "    <tr>\n",
       "      <th>31548016</th>\n",
       "      <td>2020-09-16</td>\n",
       "      <td>2563761487478961358</td>\n",
       "      <td>237347060</td>\n",
       "      <td>0.033881</td>\n",
       "      <td>1</td>\n",
       "    </tr>\n",
       "    <tr>\n",
       "      <th>31548017</th>\n",
       "      <td>2020-09-16</td>\n",
       "      <td>2563761487478961358</td>\n",
       "      <td>562245001</td>\n",
       "      <td>0.013542</td>\n",
       "      <td>1</td>\n",
       "    </tr>\n",
       "    <tr>\n",
       "      <th>...</th>\n",
       "      <td>...</td>\n",
       "      <td>...</td>\n",
       "      <td>...</td>\n",
       "      <td>...</td>\n",
       "      <td>...</td>\n",
       "    </tr>\n",
       "    <tr>\n",
       "      <th>31788319</th>\n",
       "      <td>2020-09-22</td>\n",
       "      <td>4685485978980270934</td>\n",
       "      <td>929511001</td>\n",
       "      <td>0.059305</td>\n",
       "      <td>2</td>\n",
       "    </tr>\n",
       "    <tr>\n",
       "      <th>31788320</th>\n",
       "      <td>2020-09-22</td>\n",
       "      <td>4685485978980270934</td>\n",
       "      <td>891322004</td>\n",
       "      <td>0.042356</td>\n",
       "      <td>2</td>\n",
       "    </tr>\n",
       "    <tr>\n",
       "      <th>31788321</th>\n",
       "      <td>2020-09-22</td>\n",
       "      <td>3959348689921271969</td>\n",
       "      <td>918325001</td>\n",
       "      <td>0.043203</td>\n",
       "      <td>1</td>\n",
       "    </tr>\n",
       "    <tr>\n",
       "      <th>31788322</th>\n",
       "      <td>2020-09-22</td>\n",
       "      <td>-8639340045377511665</td>\n",
       "      <td>833459002</td>\n",
       "      <td>0.006763</td>\n",
       "      <td>1</td>\n",
       "    </tr>\n",
       "    <tr>\n",
       "      <th>31788323</th>\n",
       "      <td>2020-09-22</td>\n",
       "      <td>3235222691137941515</td>\n",
       "      <td>898573003</td>\n",
       "      <td>0.033881</td>\n",
       "      <td>2</td>\n",
       "    </tr>\n",
       "  </tbody>\n",
       "</table>\n",
       "<p>240311 rows × 5 columns</p>\n",
       "</div>"
      ],
      "text/plain": [
       "              t_dat          customer_id  article_id     price  \\\n",
       "31548013 2020-09-16  8055340703569116761   786022008  0.048441   \n",
       "31548014 2020-09-16  8055340703569116761   913272003  0.032288   \n",
       "31548015 2020-09-16  8055340703569116761   889669006  0.056508   \n",
       "31548016 2020-09-16  2563761487478961358   237347060  0.033881   \n",
       "31548017 2020-09-16  2563761487478961358   562245001  0.013542   \n",
       "...             ...                  ...         ...       ...   \n",
       "31788319 2020-09-22  4685485978980270934   929511001  0.059305   \n",
       "31788320 2020-09-22  4685485978980270934   891322004  0.042356   \n",
       "31788321 2020-09-22  3959348689921271969   918325001  0.043203   \n",
       "31788322 2020-09-22 -8639340045377511665   833459002  0.006763   \n",
       "31788323 2020-09-22  3235222691137941515   898573003  0.033881   \n",
       "\n",
       "          sales_channel_id  \n",
       "31548013                 2  \n",
       "31548014                 2  \n",
       "31548015                 2  \n",
       "31548016                 1  \n",
       "31548017                 1  \n",
       "...                    ...  \n",
       "31788319                 2  \n",
       "31788320                 2  \n",
       "31788321                 1  \n",
       "31788322                 1  \n",
       "31788323                 2  \n",
       "\n",
       "[240311 rows x 5 columns]"
      ]
     },
     "execution_count": 7,
     "metadata": {},
     "output_type": "execute_result"
    }
   ],
   "source": [
    "val"
   ]
  },
  {
   "cell_type": "markdown",
   "id": "4240621b",
   "metadata": {
    "papermill": {
     "duration": 0.127575,
     "end_time": "2022-03-27T15:16:52.417234",
     "exception": false,
     "start_time": "2022-03-27T15:16:52.289659",
     "status": "completed"
    },
    "tags": []
   },
   "source": [
    "### Add the last day of billing week"
   ]
  },
  {
   "cell_type": "markdown",
   "id": "837782c0",
   "metadata": {
    "papermill": {
     "duration": 0.124514,
     "end_time": "2022-03-27T15:16:52.668557",
     "exception": false,
     "start_time": "2022-03-27T15:16:52.544043",
     "status": "completed"
    },
    "tags": []
   },
   "source": [
    "## 第一路：复购预测"
   ]
  },
  {
   "cell_type": "code",
   "execution_count": 8,
   "id": "f66db0a4",
   "metadata": {
    "execution": {
     "iopub.execute_input": "2022-03-27T15:16:52.928583Z",
     "iopub.status.busy": "2022-03-27T15:16:52.927683Z",
     "iopub.status.idle": "2022-03-27T15:16:52.934864Z",
     "shell.execute_reply": "2022-03-27T15:16:52.934430Z",
     "shell.execute_reply.started": "2022-03-27T14:17:01.264346Z"
    },
    "papermill": {
     "duration": 0.139906,
     "end_time": "2022-03-27T15:16:52.935014",
     "exception": false,
     "start_time": "2022-03-27T15:16:52.795108",
     "status": "completed"
    },
    "tags": []
   },
   "outputs": [],
   "source": [
    "df = train.copy()"
   ]
  },
  {
   "cell_type": "code",
   "execution_count": 9,
   "id": "ad8a851c",
   "metadata": {
    "execution": {
     "iopub.execute_input": "2022-03-27T15:16:53.206135Z",
     "iopub.status.busy": "2022-03-27T15:16:53.205337Z",
     "iopub.status.idle": "2022-03-27T15:17:01.122277Z",
     "shell.execute_reply": "2022-03-27T15:17:01.122680Z",
     "shell.execute_reply.started": "2022-03-27T14:17:01.274838Z"
    },
    "papermill": {
     "duration": 8.050101,
     "end_time": "2022-03-27T15:17:01.122838",
     "exception": false,
     "start_time": "2022-03-27T15:16:53.072737",
     "status": "completed"
    },
    "tags": []
   },
   "outputs": [
    {
     "name": "stdout",
     "output_type": "stream",
     "text": [
      "CPU times: user 6.42 s, sys: 1.62 s, total: 8.04 s\n",
      "Wall time: 7.91 s\n"
     ]
    }
   ],
   "source": [
    "%%time\n",
    "tmp = df[['t_dat']].copy().to_pandas()\n",
    "tmp['dow'] = tmp['t_dat'].dt.dayofweek\n",
    "tmp['ldbw'] = tmp['t_dat'] - pd.TimedeltaIndex(tmp['dow'] - 1, unit='D')\n",
    "tmp.loc[tmp['dow'] >=2 , 'ldbw'] = tmp.loc[tmp['dow'] >=2 , 'ldbw'] + pd.TimedeltaIndex(np.ones(len(tmp.loc[tmp['dow'] >=2])) * 7, unit='D')\n",
    "df['ldbw'] = tmp['ldbw'].values"
   ]
  },
  {
   "cell_type": "code",
   "execution_count": 10,
   "id": "bfcc7bac",
   "metadata": {
    "execution": {
     "iopub.execute_input": "2022-03-27T15:17:01.379557Z",
     "iopub.status.busy": "2022-03-27T15:17:01.378756Z",
     "iopub.status.idle": "2022-03-27T15:17:01.516667Z",
     "shell.execute_reply": "2022-03-27T15:17:01.515725Z",
     "shell.execute_reply.started": "2022-03-27T14:17:09.413351Z"
    },
    "papermill": {
     "duration": 0.268072,
     "end_time": "2022-03-27T15:17:01.516819",
     "exception": false,
     "start_time": "2022-03-27T15:17:01.248747",
     "status": "completed"
    },
    "tags": []
   },
   "outputs": [],
   "source": [
    "weekly_sales = df.drop('customer_id', axis=1).groupby(['ldbw', 'article_id']).count().reset_index()\n",
    "weekly_sales = weekly_sales.rename(columns={'t_dat': 'count'})"
   ]
  },
  {
   "cell_type": "code",
   "execution_count": 11,
   "id": "7dafb955",
   "metadata": {
    "execution": {
     "iopub.execute_input": "2022-03-27T15:17:01.822351Z",
     "iopub.status.busy": "2022-03-27T15:17:01.821658Z",
     "iopub.status.idle": "2022-03-27T15:17:01.905869Z",
     "shell.execute_reply": "2022-03-27T15:17:01.906347Z",
     "shell.execute_reply.started": "2022-03-27T14:17:09.549707Z"
    },
    "papermill": {
     "duration": 0.260992,
     "end_time": "2022-03-27T15:17:01.906515",
     "exception": false,
     "start_time": "2022-03-27T15:17:01.645523",
     "status": "completed"
    },
    "tags": []
   },
   "outputs": [],
   "source": [
    "df = df.merge(weekly_sales, on=['ldbw', 'article_id'], how = 'left')"
   ]
  },
  {
   "cell_type": "markdown",
   "id": "53de83c6",
   "metadata": {
    "papermill": {
     "duration": 0.126418,
     "end_time": "2022-03-27T15:17:02.159459",
     "exception": false,
     "start_time": "2022-03-27T15:17:02.033041",
     "status": "completed"
    },
    "tags": []
   },
   "source": [
    "### Let's assume that in the target week sales will be similar to the last week of the training data"
   ]
  },
  {
   "cell_type": "code",
   "execution_count": 12,
   "id": "ddd83f04",
   "metadata": {
    "execution": {
     "iopub.execute_input": "2022-03-27T15:17:02.415973Z",
     "iopub.status.busy": "2022-03-27T15:17:02.415107Z",
     "iopub.status.idle": "2022-03-27T15:17:02.511687Z",
     "shell.execute_reply": "2022-03-27T15:17:02.512164Z",
     "shell.execute_reply.started": "2022-03-27T14:17:09.688741Z"
    },
    "papermill": {
     "duration": 0.227805,
     "end_time": "2022-03-27T15:17:02.512341",
     "exception": false,
     "start_time": "2022-03-27T15:17:02.284536",
     "status": "completed"
    },
    "tags": []
   },
   "outputs": [],
   "source": [
    "weekly_sales = weekly_sales.reset_index().set_index('article_id')\n",
    "\n",
    "df = df.merge(\n",
    "    weekly_sales.loc[weekly_sales['ldbw']==Last_date, ['count']],\n",
    "    on='article_id', suffixes=(\"\", \"_targ\"))\n",
    "\n",
    "df['count_targ'].fillna(0, inplace=True)\n"
   ]
  },
  {
   "cell_type": "markdown",
   "id": "64d47856",
   "metadata": {
    "papermill": {
     "duration": 0.124539,
     "end_time": "2022-03-27T15:17:02.762392",
     "exception": false,
     "start_time": "2022-03-27T15:17:02.637853",
     "status": "completed"
    },
    "tags": []
   },
   "source": [
    "### Calculate sales rate adjusted for changes in product popularity "
   ]
  },
  {
   "cell_type": "code",
   "execution_count": 13,
   "id": "f91ea73d",
   "metadata": {
    "execution": {
     "iopub.execute_input": "2022-03-27T15:17:03.020590Z",
     "iopub.status.busy": "2022-03-27T15:17:03.019438Z",
     "iopub.status.idle": "2022-03-27T15:17:03.025012Z",
     "shell.execute_reply": "2022-03-27T15:17:03.024502Z",
     "shell.execute_reply.started": "2022-03-27T14:17:09.807467Z"
    },
    "papermill": {
     "duration": 0.135656,
     "end_time": "2022-03-27T15:17:03.025153",
     "exception": false,
     "start_time": "2022-03-27T15:17:02.889497",
     "status": "completed"
    },
    "tags": []
   },
   "outputs": [],
   "source": [
    "df['quotient'] = df['count_targ'] / df['count']"
   ]
  },
  {
   "cell_type": "markdown",
   "id": "68f2be84",
   "metadata": {
    "papermill": {
     "duration": 0.133188,
     "end_time": "2022-03-27T15:17:03.305707",
     "exception": false,
     "start_time": "2022-03-27T15:17:03.172519",
     "status": "completed"
    },
    "tags": []
   },
   "source": [
    "### Take supposedly popular products"
   ]
  },
  {
   "cell_type": "code",
   "execution_count": 14,
   "id": "d6702c29",
   "metadata": {
    "execution": {
     "iopub.execute_input": "2022-03-27T15:17:03.561343Z",
     "iopub.status.busy": "2022-03-27T15:17:03.560504Z",
     "iopub.status.idle": "2022-03-27T15:17:03.562482Z",
     "shell.execute_reply": "2022-03-27T15:17:03.562839Z",
     "shell.execute_reply.started": "2022-03-27T14:17:09.822723Z"
    },
    "papermill": {
     "duration": 0.131045,
     "end_time": "2022-03-27T15:17:03.562998",
     "exception": false,
     "start_time": "2022-03-27T15:17:03.431953",
     "status": "completed"
    },
    "tags": []
   },
   "outputs": [],
   "source": [
    "# target_sales = df.drop('customer_id', axis=1).groupby('article_id')['quotient'].sum()\n",
    "# general_pred = target_sales.nlargest(N).index.to_pandas().tolist()\n",
    "# general_pred = ['0' + str(article_id) for article_id in general_pred]\n",
    "# general_pred_str =  ' '.join(general_pred)\n",
    "# del target_sales"
   ]
  },
  {
   "cell_type": "code",
   "execution_count": 15,
   "id": "c629fae7",
   "metadata": {
    "execution": {
     "iopub.execute_input": "2022-03-27T15:17:03.814991Z",
     "iopub.status.busy": "2022-03-27T15:17:03.814210Z",
     "iopub.status.idle": "2022-03-27T15:17:03.816602Z",
     "shell.execute_reply": "2022-03-27T15:17:03.816201Z",
     "shell.execute_reply.started": "2022-03-27T14:17:09.828527Z"
    },
    "papermill": {
     "duration": 0.129672,
     "end_time": "2022-03-27T15:17:03.816711",
     "exception": false,
     "start_time": "2022-03-27T15:17:03.687039",
     "status": "completed"
    },
    "tags": []
   },
   "outputs": [],
   "source": [
    "# general_pred # Exactly same with the original notebook! "
   ]
  },
  {
   "cell_type": "code",
   "execution_count": 16,
   "id": "432cbba1",
   "metadata": {
    "execution": {
     "iopub.execute_input": "2022-03-27T15:17:04.071650Z",
     "iopub.status.busy": "2022-03-27T15:17:04.070818Z",
     "iopub.status.idle": "2022-03-27T15:17:04.072799Z",
     "shell.execute_reply": "2022-03-27T15:17:04.073216Z",
     "shell.execute_reply.started": "2022-03-27T14:17:09.838129Z"
    },
    "papermill": {
     "duration": 0.13209,
     "end_time": "2022-03-27T15:17:04.073347",
     "exception": false,
     "start_time": "2022-03-27T15:17:03.941257",
     "status": "completed"
    },
    "tags": []
   },
   "outputs": [],
   "source": [
    "# general_pred_str"
   ]
  },
  {
   "cell_type": "markdown",
   "id": "7efcf281",
   "metadata": {
    "papermill": {
     "duration": 0.123918,
     "end_time": "2022-03-27T15:17:04.322378",
     "exception": false,
     "start_time": "2022-03-27T15:17:04.198460",
     "status": "completed"
    },
    "tags": []
   },
   "source": [
    "### Fill in purchase dictionary"
   ]
  },
  {
   "cell_type": "code",
   "execution_count": 17,
   "id": "f356d437",
   "metadata": {
    "execution": {
     "iopub.execute_input": "2022-03-27T15:17:04.583349Z",
     "iopub.status.busy": "2022-03-27T15:17:04.582444Z",
     "iopub.status.idle": "2022-03-27T15:17:24.180220Z",
     "shell.execute_reply": "2022-03-27T15:17:24.180819Z",
     "shell.execute_reply.started": "2022-03-27T14:17:09.847352Z"
    },
    "papermill": {
     "duration": 19.733037,
     "end_time": "2022-03-27T15:17:24.181035",
     "exception": false,
     "start_time": "2022-03-27T15:17:04.447998",
     "status": "completed"
    },
    "tags": []
   },
   "outputs": [
    {
     "name": "stdout",
     "output_type": "stream",
     "text": [
      "CPU times: user 15.9 s, sys: 5.19 s, total: 21.1 s\n",
      "Wall time: 19.6 s\n"
     ]
    }
   ],
   "source": [
    "%%time\n",
    "purchase_dict = {}\n",
    "\n",
    "tmp = df.copy().to_pandas()\n",
    "tmp['x'] = ((Last_date - tmp['t_dat']) / np.timedelta64(1, 'D')).astype(int)\n",
    "tmp['dummy_1'] = 1 \n",
    "tmp['x'] = tmp[[\"x\", \"dummy_1\"]].max(axis=1)\n",
    "\n",
    "a, b, c, d = 2.5e4, 1.5e5, 2e-1, 1e3\n",
    "total = 1715530\n",
    "tmp['y'] = ((a / np.sqrt(tmp['x']) + b * np.exp(-c*tmp['x']) - d) / total +\\\n",
    "(a / np.sqrt(tmp['x']+1) + b * np.exp(-c*(tmp['x']+1)) - d) / total +\\\n",
    "(a / np.sqrt(tmp['x']+2) + b * np.exp(-c*(tmp['x']+2)) - d) / total +\\\n",
    "(a / np.sqrt(tmp['x']+3) + b * np.exp(-c*(tmp['x']+3)) - d) / total +\\\n",
    "(a / np.sqrt(tmp['x']+4) + b * np.exp(-c*(tmp['x']+4)) - d) / total +\\\n",
    "(a / np.sqrt(tmp['x']+5) + b * np.exp(-c*(tmp['x']+5)) - d) / total +\\\n",
    "(a / np.sqrt(tmp['x']+6) + b * np.exp(-c*(tmp['x']+6)) - d) / total)\n",
    "\n",
    "tmp['dummy_0'] = 0 \n",
    "tmp['y'] = tmp[[\"y\", \"dummy_0\"]].max(axis=1)\n",
    "tmp['score'] = tmp['quotient'] * tmp['y'] \n",
    "\n",
    "tmp = tmp.groupby(['customer_id', 'article_id']).agg({'score': 'sum'})\n",
    "tmp = tmp.reset_index()\n",
    "\n",
    "tmp = tmp.loc[tmp['score'] > 0]\n",
    "tmp['rank'] = tmp.groupby(\"customer_id\")[\"score\"].rank(\"dense\", ascending=False)\n",
    "tmp = tmp.loc[tmp['rank'] <= 12]\n",
    "tmp[\"source\"] = 1\n",
    "\n",
    "result1 = tmp[[\"customer_id\", \"article_id\", \"source\", \"score\", \"rank\"]]"
   ]
  },
  {
   "cell_type": "code",
   "execution_count": 18,
   "id": "d7ef78c4",
   "metadata": {
    "execution": {
     "iopub.execute_input": "2022-03-27T15:17:24.598604Z",
     "iopub.status.busy": "2022-03-27T15:17:24.466770Z",
     "iopub.status.idle": "2022-03-27T15:17:24.600827Z",
     "shell.execute_reply": "2022-03-27T15:17:24.601265Z",
     "shell.execute_reply.started": "2022-03-27T14:17:28.899513Z"
    },
    "papermill": {
     "duration": 0.293604,
     "end_time": "2022-03-27T15:17:24.601410",
     "exception": false,
     "start_time": "2022-03-27T15:17:24.307806",
     "status": "completed"
    },
    "tags": []
   },
   "outputs": [
    {
     "data": {
      "text/plain": [
       "230"
      ]
     },
     "execution_count": 18,
     "metadata": {},
     "output_type": "execute_result"
    }
   ],
   "source": [
    "del weekly_sales\n",
    "del df\n",
    "del tmp\n",
    "gc.collect()"
   ]
  },
  {
   "cell_type": "code",
   "execution_count": 19,
   "id": "d8bf2f9f",
   "metadata": {
    "execution": {
     "iopub.execute_input": "2022-03-27T15:17:24.865370Z",
     "iopub.status.busy": "2022-03-27T15:17:24.864634Z",
     "iopub.status.idle": "2022-03-27T15:17:24.869401Z",
     "shell.execute_reply": "2022-03-27T15:17:24.868668Z",
     "shell.execute_reply.started": "2022-03-27T14:17:29.077333Z"
    },
    "papermill": {
     "duration": 0.142236,
     "end_time": "2022-03-27T15:17:24.869518",
     "exception": false,
     "start_time": "2022-03-27T15:17:24.727282",
     "status": "completed"
    },
    "tags": []
   },
   "outputs": [
    {
     "data": {
      "text/html": [
       "<div>\n",
       "<style scoped>\n",
       "    .dataframe tbody tr th:only-of-type {\n",
       "        vertical-align: middle;\n",
       "    }\n",
       "\n",
       "    .dataframe tbody tr th {\n",
       "        vertical-align: top;\n",
       "    }\n",
       "\n",
       "    .dataframe thead th {\n",
       "        text-align: right;\n",
       "    }\n",
       "</style>\n",
       "<table border=\"1\" class=\"dataframe\">\n",
       "  <thead>\n",
       "    <tr style=\"text-align: right;\">\n",
       "      <th></th>\n",
       "      <th>customer_id</th>\n",
       "      <th>article_id</th>\n",
       "      <th>source</th>\n",
       "      <th>score</th>\n",
       "      <th>rank</th>\n",
       "    </tr>\n",
       "  </thead>\n",
       "  <tbody>\n",
       "    <tr>\n",
       "      <th>0</th>\n",
       "      <td>-9223352921020755230</td>\n",
       "      <td>568597006</td>\n",
       "      <td>1</td>\n",
       "      <td>0.000559</td>\n",
       "      <td>5.0</td>\n",
       "    </tr>\n",
       "    <tr>\n",
       "      <th>1</th>\n",
       "      <td>-9223352921020755230</td>\n",
       "      <td>673396002</td>\n",
       "      <td>1</td>\n",
       "      <td>0.044511</td>\n",
       "      <td>1.0</td>\n",
       "    </tr>\n",
       "    <tr>\n",
       "      <th>2</th>\n",
       "      <td>-9223352921020755230</td>\n",
       "      <td>706016001</td>\n",
       "      <td>1</td>\n",
       "      <td>0.003289</td>\n",
       "      <td>4.0</td>\n",
       "    </tr>\n",
       "    <tr>\n",
       "      <th>3</th>\n",
       "      <td>-9223352921020755230</td>\n",
       "      <td>812167004</td>\n",
       "      <td>1</td>\n",
       "      <td>0.019179</td>\n",
       "      <td>2.0</td>\n",
       "    </tr>\n",
       "    <tr>\n",
       "      <th>4</th>\n",
       "      <td>-9223352921020755230</td>\n",
       "      <td>849493006</td>\n",
       "      <td>1</td>\n",
       "      <td>0.006174</td>\n",
       "      <td>3.0</td>\n",
       "    </tr>\n",
       "    <tr>\n",
       "      <th>...</th>\n",
       "      <td>...</td>\n",
       "      <td>...</td>\n",
       "      <td>...</td>\n",
       "      <td>...</td>\n",
       "      <td>...</td>\n",
       "    </tr>\n",
       "    <tr>\n",
       "      <th>10844244</th>\n",
       "      <td>9223301031927667525</td>\n",
       "      <td>719957006</td>\n",
       "      <td>1</td>\n",
       "      <td>0.000026</td>\n",
       "      <td>1.0</td>\n",
       "    </tr>\n",
       "    <tr>\n",
       "      <th>10844245</th>\n",
       "      <td>9223333063893176977</td>\n",
       "      <td>658030020</td>\n",
       "      <td>1</td>\n",
       "      <td>0.000038</td>\n",
       "      <td>1.0</td>\n",
       "    </tr>\n",
       "    <tr>\n",
       "      <th>10844246</th>\n",
       "      <td>9223357421094039679</td>\n",
       "      <td>747984001</td>\n",
       "      <td>1</td>\n",
       "      <td>0.000010</td>\n",
       "      <td>2.0</td>\n",
       "    </tr>\n",
       "    <tr>\n",
       "      <th>10844247</th>\n",
       "      <td>9223357421094039679</td>\n",
       "      <td>747984002</td>\n",
       "      <td>1</td>\n",
       "      <td>0.000053</td>\n",
       "      <td>1.0</td>\n",
       "    </tr>\n",
       "    <tr>\n",
       "      <th>10844248</th>\n",
       "      <td>9223370729206611574</td>\n",
       "      <td>781758003</td>\n",
       "      <td>1</td>\n",
       "      <td>0.001461</td>\n",
       "      <td>1.0</td>\n",
       "    </tr>\n",
       "  </tbody>\n",
       "</table>\n",
       "<p>6693016 rows × 5 columns</p>\n",
       "</div>"
      ],
      "text/plain": [
       "                  customer_id  article_id  source     score  rank\n",
       "0        -9223352921020755230   568597006       1  0.000559   5.0\n",
       "1        -9223352921020755230   673396002       1  0.044511   1.0\n",
       "2        -9223352921020755230   706016001       1  0.003289   4.0\n",
       "3        -9223352921020755230   812167004       1  0.019179   2.0\n",
       "4        -9223352921020755230   849493006       1  0.006174   3.0\n",
       "...                       ...         ...     ...       ...   ...\n",
       "10844244  9223301031927667525   719957006       1  0.000026   1.0\n",
       "10844245  9223333063893176977   658030020       1  0.000038   1.0\n",
       "10844246  9223357421094039679   747984001       1  0.000010   2.0\n",
       "10844247  9223357421094039679   747984002       1  0.000053   1.0\n",
       "10844248  9223370729206611574   781758003       1  0.001461   1.0\n",
       "\n",
       "[6693016 rows x 5 columns]"
      ]
     },
     "execution_count": 19,
     "metadata": {},
     "output_type": "execute_result"
    }
   ],
   "source": [
    "result1"
   ]
  },
  {
   "cell_type": "code",
   "execution_count": 20,
   "id": "98fb03a5",
   "metadata": {
    "execution": {
     "iopub.execute_input": "2022-03-27T15:17:25.127003Z",
     "iopub.status.busy": "2022-03-27T15:17:25.125457Z",
     "iopub.status.idle": "2022-03-27T15:17:25.127580Z",
     "shell.execute_reply": "2022-03-27T15:17:25.127999Z",
     "shell.execute_reply.started": "2022-03-27T14:17:29.095835Z"
    },
    "papermill": {
     "duration": 0.132458,
     "end_time": "2022-03-27T15:17:25.128130",
     "exception": false,
     "start_time": "2022-03-27T15:17:24.995672",
     "status": "completed"
    },
    "tags": []
   },
   "outputs": [],
   "source": [
    "#result1.to_csv(\"/kaggle/working/result1.csv\", index = False)"
   ]
  },
  {
   "cell_type": "markdown",
   "id": "3a9fed7e",
   "metadata": {
    "execution": {
     "iopub.execute_input": "2022-03-19T09:13:27.534287Z",
     "iopub.status.busy": "2022-03-19T09:13:27.534029Z",
     "iopub.status.idle": "2022-03-19T09:13:27.537763Z",
     "shell.execute_reply": "2022-03-19T09:13:27.536825Z",
     "shell.execute_reply.started": "2022-03-19T09:13:27.534257Z"
    },
    "papermill": {
     "duration": 0.125368,
     "end_time": "2022-03-27T15:17:25.378370",
     "exception": false,
     "start_time": "2022-03-27T15:17:25.253002",
     "status": "completed"
    },
    "tags": []
   },
   "source": [
    "## 第二路：相似复购"
   ]
  },
  {
   "cell_type": "code",
   "execution_count": 21,
   "id": "1df31728",
   "metadata": {
    "execution": {
     "iopub.execute_input": "2022-03-27T15:17:25.634662Z",
     "iopub.status.busy": "2022-03-27T15:17:25.633843Z",
     "iopub.status.idle": "2022-03-27T15:17:32.962075Z",
     "shell.execute_reply": "2022-03-27T15:17:32.961527Z",
     "shell.execute_reply.started": "2022-03-27T14:17:29.101267Z"
    },
    "papermill": {
     "duration": 7.458045,
     "end_time": "2022-03-27T15:17:32.962208",
     "exception": false,
     "start_time": "2022-03-27T15:17:25.504163",
     "status": "completed"
    },
    "tags": []
   },
   "outputs": [
    {
     "name": "stdout",
     "output_type": "stream",
     "text": [
      "Requirement already satisfied: cudf in /opt/conda/lib/python3.7/site-packages (21.10.1)\r\n",
      "Requirement already satisfied: numba>=0.53.1 in /opt/conda/lib/python3.7/site-packages (from cudf) (0.54.1)\r\n",
      "Requirement already satisfied: Cython<0.30,>=0.29 in /opt/conda/lib/python3.7/site-packages (from cudf) (0.29.28)\r\n",
      "Requirement already satisfied: fastavro>=0.22.9 in /opt/conda/lib/python3.7/site-packages (from cudf) (1.4.9)\r\n",
      "Requirement already satisfied: fsspec>=0.6.0 in /opt/conda/lib/python3.7/site-packages (from cudf) (2022.2.0)\r\n",
      "Requirement already satisfied: numpy in /opt/conda/lib/python3.7/site-packages (from cudf) (1.20.3)\r\n",
      "Requirement already satisfied: pandas<1.4.0dev0,>=1.0 in /opt/conda/lib/python3.7/site-packages (from cudf) (1.3.5)\r\n",
      "Requirement already satisfied: typing_extensions in /opt/conda/lib/python3.7/site-packages (from cudf) (4.1.1)\r\n",
      "Requirement already satisfied: protobuf in /opt/conda/lib/python3.7/site-packages (from cudf) (3.19.1)\r\n",
      "Requirement already satisfied: nvtx>=0.2.1 in /opt/conda/lib/python3.7/site-packages (from cudf) (0.2.3)\r\n",
      "Requirement already satisfied: cachetools in /opt/conda/lib/python3.7/site-packages (from cudf) (4.2.4)\r\n",
      "Requirement already satisfied: packaging in /opt/conda/lib/python3.7/site-packages (from cudf) (21.3)\r\n",
      "Requirement already satisfied: cupy-cuda110 in /opt/conda/lib/python3.7/site-packages (from cudf) (10.2.0)\r\n",
      "Requirement already satisfied: llvmlite<0.38,>=0.37.0rc1 in /opt/conda/lib/python3.7/site-packages (from numba>=0.53.1->cudf) (0.37.0)\r\n",
      "Requirement already satisfied: setuptools in /opt/conda/lib/python3.7/site-packages (from numba>=0.53.1->cudf) (59.5.0)\r\n",
      "Requirement already satisfied: python-dateutil>=2.7.3 in /opt/conda/lib/python3.7/site-packages (from pandas<1.4.0dev0,>=1.0->cudf) (2.8.2)\r\n",
      "Requirement already satisfied: pytz>=2017.3 in /opt/conda/lib/python3.7/site-packages (from pandas<1.4.0dev0,>=1.0->cudf) (2021.3)\r\n",
      "Requirement already satisfied: fastrlock>=0.5 in /opt/conda/lib/python3.7/site-packages (from cupy-cuda110->cudf) (0.8)\r\n",
      "Requirement already satisfied: pyparsing!=3.0.5,>=2.0.2 in /opt/conda/lib/python3.7/site-packages (from packaging->cudf) (3.0.6)\r\n",
      "Requirement already satisfied: six>=1.5 in /opt/conda/lib/python3.7/site-packages (from python-dateutil>=2.7.3->pandas<1.4.0dev0,>=1.0->cudf) (1.16.0)\r\n",
      "\u001b[33mWARNING: Running pip as the 'root' user can result in broken permissions and conflicting behaviour with the system package manager. It is recommended to use a virtual environment instead: https://pip.pypa.io/warnings/venv\u001b[0m\r\n"
     ]
    }
   ],
   "source": [
    "!pip install cudf\n",
    "import numpy as np\n",
    "import pandas as pd \n",
    "from datetime import datetime, timedelta\n",
    "import gc\n",
    "import cudf\n",
    "import cv2, matplotlib.pyplot as plt\n",
    "from os.path import exists"
   ]
  },
  {
   "cell_type": "code",
   "execution_count": 22,
   "id": "5044e692",
   "metadata": {
    "execution": {
     "iopub.execute_input": "2022-03-27T15:17:33.222864Z",
     "iopub.status.busy": "2022-03-27T15:17:33.222065Z",
     "iopub.status.idle": "2022-03-27T15:17:33.223887Z",
     "shell.execute_reply": "2022-03-27T15:17:33.224330Z",
     "shell.execute_reply.started": "2022-03-27T14:17:36.161151Z"
    },
    "papermill": {
     "duration": 0.133525,
     "end_time": "2022-03-27T15:17:33.224461",
     "exception": false,
     "start_time": "2022-03-27T15:17:33.090936",
     "status": "completed"
    },
    "tags": []
   },
   "outputs": [],
   "source": [
    "# # LOAD TRANSACTIONS DATAFRAME\n",
    "# df = cudf.read_csv('../input/h-and-m-personalized-fashion-recommendations/transactions_train.csv')\n",
    "# print('Transactions shape',df.shape)\n",
    "# display( df.head() )\n",
    "\n",
    "# # REDUCE MEMORY OF DATAFRAME\n",
    "# df = df[['customer_id','article_id']]\n",
    "# df.customer_id = df.customer_id.str[-16:].str.hex_to_int().astype('int64')\n",
    "# df.article_id = df.article_id.astype('int32')\n",
    "# _ = gc.collect()"
   ]
  },
  {
   "cell_type": "code",
   "execution_count": 23,
   "id": "3ade361e",
   "metadata": {
    "execution": {
     "iopub.execute_input": "2022-03-27T15:17:33.485081Z",
     "iopub.status.busy": "2022-03-27T15:17:33.484261Z",
     "iopub.status.idle": "2022-03-27T15:17:33.486250Z",
     "shell.execute_reply": "2022-03-27T15:17:33.486655Z",
     "shell.execute_reply.started": "2022-03-27T14:17:36.166465Z"
    },
    "papermill": {
     "duration": 0.135108,
     "end_time": "2022-03-27T15:17:33.486781",
     "exception": false,
     "start_time": "2022-03-27T15:17:33.351673",
     "status": "completed"
    },
    "tags": []
   },
   "outputs": [],
   "source": [
    "# # FIND ITEMS PURCHASED TOGETHER\n",
    "# vc = df.article_id.value_counts()\n",
    "# pairs = {}\n",
    "# # for j,i in enumerate(vc.index.values[1000:1032]):\n",
    "# #     #if j%10==0: print(j,', ',end='')\n",
    "# #     USERS = df.loc[df.article_id==i.item(),'customer_id'].unique()\n",
    "# #     vc2 = df.loc[(df.customer_id.isin(USERS))&(df.article_id!=i.item()),'article_id'].value_counts()\n",
    "# #     pairs[i.item()] = [vc2.index[0], vc2.index[1], vc2.index[2]]"
   ]
  },
  {
   "cell_type": "code",
   "execution_count": 24,
   "id": "c457dd54",
   "metadata": {
    "execution": {
     "iopub.execute_input": "2022-03-27T15:17:33.743666Z",
     "iopub.status.busy": "2022-03-27T15:17:33.742881Z",
     "iopub.status.idle": "2022-03-27T15:17:33.746538Z",
     "shell.execute_reply": "2022-03-27T15:17:33.747003Z",
     "shell.execute_reply.started": "2022-03-27T14:17:36.180148Z"
    },
    "papermill": {
     "duration": 0.133345,
     "end_time": "2022-03-27T15:17:33.747132",
     "exception": false,
     "start_time": "2022-03-27T15:17:33.613787",
     "status": "completed"
    },
    "tags": []
   },
   "outputs": [],
   "source": [
    "# vc = vc.reset_index().rename(columns = {\"article_id\":\"count\", \"index\":\"article_id\"})"
   ]
  },
  {
   "cell_type": "code",
   "execution_count": 25,
   "id": "6b3626fa",
   "metadata": {
    "execution": {
     "iopub.execute_input": "2022-03-27T15:17:34.016707Z",
     "iopub.status.busy": "2022-03-27T15:17:34.016023Z",
     "iopub.status.idle": "2022-03-27T15:17:34.018687Z",
     "shell.execute_reply": "2022-03-27T15:17:34.018223Z",
     "shell.execute_reply.started": "2022-03-27T14:17:36.188945Z"
    },
    "papermill": {
     "duration": 0.143522,
     "end_time": "2022-03-27T15:17:34.018803",
     "exception": false,
     "start_time": "2022-03-27T15:17:33.875281",
     "status": "completed"
    },
    "tags": []
   },
   "outputs": [],
   "source": [
    "# vc = vc[vc[\"count\"]>=50]"
   ]
  },
  {
   "cell_type": "code",
   "execution_count": 26,
   "id": "2b8f965d",
   "metadata": {
    "execution": {
     "iopub.execute_input": "2022-03-27T15:17:34.279590Z",
     "iopub.status.busy": "2022-03-27T15:17:34.278785Z",
     "iopub.status.idle": "2022-03-27T15:17:34.280751Z",
     "shell.execute_reply": "2022-03-27T15:17:34.281159Z",
     "shell.execute_reply.started": "2022-03-27T14:17:36.196471Z"
    },
    "papermill": {
     "duration": 0.132969,
     "end_time": "2022-03-27T15:17:34.281294",
     "exception": false,
     "start_time": "2022-03-27T15:17:34.148325",
     "status": "completed"
    },
    "tags": []
   },
   "outputs": [],
   "source": [
    "# def cal_together_score(x):\n",
    "#     USERS = df.loc[df.article_id==x[\"article_id\"],'customer_id'].unique()\n",
    "#     vc2 = df.loc[(df.customer_id.isin(USERS))&(df.article_id!=x[\"article_id\"]),'article_id'].value_counts()\n",
    "#     #pairs[i.item()] = [vc2.index[0], vc2.index[1], vc2.index[2]]\n",
    "#     return [[x.article_id, vc2.index[i], vc2.iloc[i]/x[\"count\"]] for i in range(min(10, len(vc2)))]"
   ]
  },
  {
   "cell_type": "code",
   "execution_count": 27,
   "id": "fb69700c",
   "metadata": {
    "execution": {
     "iopub.execute_input": "2022-03-27T15:17:34.541362Z",
     "iopub.status.busy": "2022-03-27T15:17:34.540539Z",
     "iopub.status.idle": "2022-03-27T15:17:34.542457Z",
     "shell.execute_reply": "2022-03-27T15:17:34.542898Z",
     "shell.execute_reply.started": "2022-03-27T14:17:36.205047Z"
    },
    "papermill": {
     "duration": 0.134186,
     "end_time": "2022-03-27T15:17:34.543045",
     "exception": false,
     "start_time": "2022-03-27T15:17:34.408859",
     "status": "completed"
    },
    "tags": []
   },
   "outputs": [],
   "source": [
    "#relation = vc.to_pandas().apply(lambda x: cal_together_score(x), axis = 1).sum()"
   ]
  },
  {
   "cell_type": "code",
   "execution_count": 28,
   "id": "90ee2b34",
   "metadata": {
    "execution": {
     "iopub.execute_input": "2022-03-27T15:17:34.802130Z",
     "iopub.status.busy": "2022-03-27T15:17:34.801265Z",
     "iopub.status.idle": "2022-03-27T15:17:34.803094Z",
     "shell.execute_reply": "2022-03-27T15:17:34.803527Z",
     "shell.execute_reply.started": "2022-03-27T14:17:36.219065Z"
    },
    "papermill": {
     "duration": 0.13288,
     "end_time": "2022-03-27T15:17:34.803656",
     "exception": false,
     "start_time": "2022-03-27T15:17:34.670776",
     "status": "completed"
    },
    "tags": []
   },
   "outputs": [],
   "source": [
    "#%%time\n",
    "# df  = cudf.read_csv('../input/h-and-m-personalized-fashion-recommendations/transactions_train.csv',\n",
    "#                             usecols= ['t_dat', 'customer_id', 'article_id'], \n",
    "#                             dtype={'article_id': 'int32', 't_dat': 'string', 'customer_id': 'string'})\n",
    "# df ['customer_id'] = df ['customer_id'].str[-16:].str.hex_to_int().astype('int64')\n",
    "\n",
    "# df['t_dat'] = cudf.to_datetime(df['t_dat'])\n",
    "# last_ts = df['t_dat'].max()"
   ]
  },
  {
   "cell_type": "code",
   "execution_count": 29,
   "id": "04334c80",
   "metadata": {
    "execution": {
     "iopub.execute_input": "2022-03-27T15:17:35.066718Z",
     "iopub.status.busy": "2022-03-27T15:17:35.065855Z",
     "iopub.status.idle": "2022-03-27T15:17:35.069153Z",
     "shell.execute_reply": "2022-03-27T15:17:35.069533Z",
     "shell.execute_reply.started": "2022-03-27T14:17:36.224869Z"
    },
    "papermill": {
     "duration": 0.138139,
     "end_time": "2022-03-27T15:17:35.069665",
     "exception": false,
     "start_time": "2022-03-27T15:17:34.931526",
     "status": "completed"
    },
    "tags": []
   },
   "outputs": [],
   "source": [
    "df = train.copy()"
   ]
  },
  {
   "cell_type": "code",
   "execution_count": 30,
   "id": "1e91a4bb",
   "metadata": {
    "execution": {
     "iopub.execute_input": "2022-03-27T15:17:35.331731Z",
     "iopub.status.busy": "2022-03-27T15:17:35.330987Z",
     "iopub.status.idle": "2022-03-27T15:17:43.169284Z",
     "shell.execute_reply": "2022-03-27T15:17:43.169988Z",
     "shell.execute_reply.started": "2022-03-27T14:17:36.236776Z"
    },
    "papermill": {
     "duration": 7.972372,
     "end_time": "2022-03-27T15:17:43.170149",
     "exception": false,
     "start_time": "2022-03-27T15:17:35.197777",
     "status": "completed"
    },
    "tags": []
   },
   "outputs": [
    {
     "name": "stdout",
     "output_type": "stream",
     "text": [
      "CPU times: user 6.34 s, sys: 1.62 s, total: 7.97 s\n",
      "Wall time: 7.84 s\n"
     ]
    }
   ],
   "source": [
    "%%time\n",
    "tmp = df[['t_dat']].copy().to_pandas()\n",
    "tmp['dow'] = tmp['t_dat'].dt.dayofweek\n",
    "tmp['ldbw'] = tmp['t_dat'] - pd.TimedeltaIndex(tmp['dow'] - 1, unit='D')\n",
    "tmp.loc[tmp['dow'] >=2 , 'ldbw'] = tmp.loc[tmp['dow'] >=2 , 'ldbw'] + pd.TimedeltaIndex(np.ones(len(tmp.loc[tmp['dow'] >=2])) * 7, unit='D')\n",
    "\n",
    "df['ldbw'] = tmp['ldbw'].values"
   ]
  },
  {
   "cell_type": "code",
   "execution_count": 31,
   "id": "28c2fa6d",
   "metadata": {
    "execution": {
     "iopub.execute_input": "2022-03-27T15:17:43.430361Z",
     "iopub.status.busy": "2022-03-27T15:17:43.429551Z",
     "iopub.status.idle": "2022-03-27T15:17:43.432073Z",
     "shell.execute_reply": "2022-03-27T15:17:43.431537Z",
     "shell.execute_reply.started": "2022-03-27T14:17:44.520046Z"
    },
    "papermill": {
     "duration": 0.133693,
     "end_time": "2022-03-27T15:17:43.432189",
     "exception": false,
     "start_time": "2022-03-27T15:17:43.298496",
     "status": "completed"
    },
    "tags": []
   },
   "outputs": [],
   "source": [
    "#relation_data = cudf.DataFrame(relation, columns = [\"from_id\", \"to_id\", \"ratio\"])"
   ]
  },
  {
   "cell_type": "code",
   "execution_count": 32,
   "id": "9fb47775",
   "metadata": {
    "execution": {
     "iopub.execute_input": "2022-03-27T15:17:43.691812Z",
     "iopub.status.busy": "2022-03-27T15:17:43.691228Z",
     "iopub.status.idle": "2022-03-27T15:17:43.948289Z",
     "shell.execute_reply": "2022-03-27T15:17:43.947811Z",
     "shell.execute_reply.started": "2022-03-27T14:17:44.525960Z"
    },
    "papermill": {
     "duration": 0.387544,
     "end_time": "2022-03-27T15:17:43.948429",
     "exception": false,
     "start_time": "2022-03-27T15:17:43.560885",
     "status": "completed"
    },
    "tags": []
   },
   "outputs": [],
   "source": [
    "relation_data = cudf.read_csv(\"../input/relation/relation_data.csv\")"
   ]
  },
  {
   "cell_type": "code",
   "execution_count": 33,
   "id": "805afedc",
   "metadata": {
    "execution": {
     "iopub.execute_input": "2022-03-27T15:17:44.214958Z",
     "iopub.status.busy": "2022-03-27T15:17:44.214092Z",
     "iopub.status.idle": "2022-03-27T15:17:44.256264Z",
     "shell.execute_reply": "2022-03-27T15:17:44.255813Z",
     "shell.execute_reply.started": "2022-03-27T14:17:44.762899Z"
    },
    "papermill": {
     "duration": 0.178381,
     "end_time": "2022-03-27T15:17:44.256393",
     "exception": false,
     "start_time": "2022-03-27T15:17:44.078012",
     "status": "completed"
    },
    "tags": []
   },
   "outputs": [
    {
     "data": {
      "text/html": [
       "<div>\n",
       "<style scoped>\n",
       "    .dataframe tbody tr th:only-of-type {\n",
       "        vertical-align: middle;\n",
       "    }\n",
       "\n",
       "    .dataframe tbody tr th {\n",
       "        vertical-align: top;\n",
       "    }\n",
       "\n",
       "    .dataframe thead th {\n",
       "        text-align: right;\n",
       "    }\n",
       "</style>\n",
       "<table border=\"1\" class=\"dataframe\">\n",
       "  <thead>\n",
       "    <tr style=\"text-align: right;\">\n",
       "      <th></th>\n",
       "      <th>from_id</th>\n",
       "      <th>to_id</th>\n",
       "      <th>ratio</th>\n",
       "    </tr>\n",
       "  </thead>\n",
       "  <tbody>\n",
       "    <tr>\n",
       "      <th>0</th>\n",
       "      <td>706016001</td>\n",
       "      <td>706016002</td>\n",
       "      <td>0.250144</td>\n",
       "    </tr>\n",
       "    <tr>\n",
       "      <th>1</th>\n",
       "      <td>706016001</td>\n",
       "      <td>706016003</td>\n",
       "      <td>0.155706</td>\n",
       "    </tr>\n",
       "    <tr>\n",
       "      <th>2</th>\n",
       "      <td>706016001</td>\n",
       "      <td>706016015</td>\n",
       "      <td>0.117943</td>\n",
       "    </tr>\n",
       "    <tr>\n",
       "      <th>3</th>\n",
       "      <td>706016001</td>\n",
       "      <td>706016006</td>\n",
       "      <td>0.097799</td>\n",
       "    </tr>\n",
       "    <tr>\n",
       "      <th>4</th>\n",
       "      <td>706016001</td>\n",
       "      <td>399223001</td>\n",
       "      <td>0.087299</td>\n",
       "    </tr>\n",
       "    <tr>\n",
       "      <th>...</th>\n",
       "      <td>...</td>\n",
       "      <td>...</td>\n",
       "      <td>...</td>\n",
       "    </tr>\n",
       "    <tr>\n",
       "      <th>570535</th>\n",
       "      <td>657165029</td>\n",
       "      <td>763270003</td>\n",
       "      <td>0.120000</td>\n",
       "    </tr>\n",
       "    <tr>\n",
       "      <th>570536</th>\n",
       "      <td>657165029</td>\n",
       "      <td>628327005</td>\n",
       "      <td>0.120000</td>\n",
       "    </tr>\n",
       "    <tr>\n",
       "      <th>570537</th>\n",
       "      <td>657165029</td>\n",
       "      <td>664319001</td>\n",
       "      <td>0.120000</td>\n",
       "    </tr>\n",
       "    <tr>\n",
       "      <th>570538</th>\n",
       "      <td>657165029</td>\n",
       "      <td>608776002</td>\n",
       "      <td>0.100000</td>\n",
       "    </tr>\n",
       "    <tr>\n",
       "      <th>570539</th>\n",
       "      <td>657165029</td>\n",
       "      <td>745806001</td>\n",
       "      <td>0.100000</td>\n",
       "    </tr>\n",
       "  </tbody>\n",
       "</table>\n",
       "<p>570540 rows × 3 columns</p>\n",
       "</div>"
      ],
      "text/plain": [
       "          from_id      to_id     ratio\n",
       "0       706016001  706016002  0.250144\n",
       "1       706016001  706016003  0.155706\n",
       "2       706016001  706016015  0.117943\n",
       "3       706016001  706016006  0.097799\n",
       "4       706016001  399223001  0.087299\n",
       "...           ...        ...       ...\n",
       "570535  657165029  763270003  0.120000\n",
       "570536  657165029  628327005  0.120000\n",
       "570537  657165029  664319001  0.120000\n",
       "570538  657165029  608776002  0.100000\n",
       "570539  657165029  745806001  0.100000\n",
       "\n",
       "[570540 rows x 3 columns]"
      ]
     },
     "execution_count": 33,
     "metadata": {},
     "output_type": "execute_result"
    }
   ],
   "source": [
    "relation_data"
   ]
  },
  {
   "cell_type": "code",
   "execution_count": 34,
   "id": "4a498bd7",
   "metadata": {
    "execution": {
     "iopub.execute_input": "2022-03-27T15:17:44.691386Z",
     "iopub.status.busy": "2022-03-27T15:17:44.690403Z",
     "iopub.status.idle": "2022-03-27T15:17:44.693495Z",
     "shell.execute_reply": "2022-03-27T15:17:44.693901Z",
     "shell.execute_reply.started": "2022-03-27T14:17:44.814015Z"
    },
    "papermill": {
     "duration": 0.309474,
     "end_time": "2022-03-27T15:17:44.694062",
     "exception": false,
     "start_time": "2022-03-27T15:17:44.384588",
     "status": "completed"
    },
    "tags": []
   },
   "outputs": [
    {
     "data": {
      "text/plain": [
       "106"
      ]
     },
     "execution_count": 34,
     "metadata": {},
     "output_type": "execute_result"
    }
   ],
   "source": [
    "del tmp\n",
    "gc.collect()"
   ]
  },
  {
   "cell_type": "code",
   "execution_count": 35,
   "id": "000a4546",
   "metadata": {
    "execution": {
     "iopub.execute_input": "2022-03-27T15:17:44.956345Z",
     "iopub.status.busy": "2022-03-27T15:17:44.955510Z",
     "iopub.status.idle": "2022-03-27T15:17:45.089519Z",
     "shell.execute_reply": "2022-03-27T15:17:45.089097Z",
     "shell.execute_reply.started": "2022-03-27T14:17:44.974663Z"
    },
    "papermill": {
     "duration": 0.26637,
     "end_time": "2022-03-27T15:17:45.089636",
     "exception": false,
     "start_time": "2022-03-27T15:17:44.823266",
     "status": "completed"
    },
    "tags": []
   },
   "outputs": [],
   "source": [
    "weekly_sales = df.drop('customer_id', axis=1).groupby(['ldbw', 'article_id']).count().reset_index()\n",
    "weekly_sales = weekly_sales.rename(columns={'t_dat': 'count'})"
   ]
  },
  {
   "cell_type": "code",
   "execution_count": 36,
   "id": "016e3a59",
   "metadata": {
    "execution": {
     "iopub.execute_input": "2022-03-27T15:17:45.362881Z",
     "iopub.status.busy": "2022-03-27T15:17:45.362090Z",
     "iopub.status.idle": "2022-03-27T15:17:45.403591Z",
     "shell.execute_reply": "2022-03-27T15:17:45.404024Z",
     "shell.execute_reply.started": "2022-03-27T14:17:45.103519Z"
    },
    "papermill": {
     "duration": 0.184026,
     "end_time": "2022-03-27T15:17:45.404161",
     "exception": false,
     "start_time": "2022-03-27T15:17:45.220135",
     "status": "completed"
    },
    "tags": []
   },
   "outputs": [
    {
     "data": {
      "text/html": [
       "<div>\n",
       "<style scoped>\n",
       "    .dataframe tbody tr th:only-of-type {\n",
       "        vertical-align: middle;\n",
       "    }\n",
       "\n",
       "    .dataframe tbody tr th {\n",
       "        vertical-align: top;\n",
       "    }\n",
       "\n",
       "    .dataframe thead th {\n",
       "        text-align: right;\n",
       "    }\n",
       "</style>\n",
       "<table border=\"1\" class=\"dataframe\">\n",
       "  <thead>\n",
       "    <tr style=\"text-align: right;\">\n",
       "      <th></th>\n",
       "      <th>ldbw</th>\n",
       "      <th>article_id</th>\n",
       "      <th>count</th>\n",
       "      <th>price</th>\n",
       "      <th>sales_channel_id</th>\n",
       "    </tr>\n",
       "  </thead>\n",
       "  <tbody>\n",
       "    <tr>\n",
       "      <th>0</th>\n",
       "      <td>2019-03-12</td>\n",
       "      <td>719447002</td>\n",
       "      <td>4</td>\n",
       "      <td>4</td>\n",
       "      <td>4</td>\n",
       "    </tr>\n",
       "    <tr>\n",
       "      <th>1</th>\n",
       "      <td>2019-04-16</td>\n",
       "      <td>590203002</td>\n",
       "      <td>1</td>\n",
       "      <td>1</td>\n",
       "      <td>1</td>\n",
       "    </tr>\n",
       "    <tr>\n",
       "      <th>2</th>\n",
       "      <td>2020-05-05</td>\n",
       "      <td>831684001</td>\n",
       "      <td>12</td>\n",
       "      <td>12</td>\n",
       "      <td>12</td>\n",
       "    </tr>\n",
       "    <tr>\n",
       "      <th>3</th>\n",
       "      <td>2019-05-28</td>\n",
       "      <td>693508002</td>\n",
       "      <td>1</td>\n",
       "      <td>1</td>\n",
       "      <td>1</td>\n",
       "    </tr>\n",
       "    <tr>\n",
       "      <th>4</th>\n",
       "      <td>2019-07-02</td>\n",
       "      <td>777038001</td>\n",
       "      <td>5</td>\n",
       "      <td>5</td>\n",
       "      <td>5</td>\n",
       "    </tr>\n",
       "    <tr>\n",
       "      <th>...</th>\n",
       "      <td>...</td>\n",
       "      <td>...</td>\n",
       "      <td>...</td>\n",
       "      <td>...</td>\n",
       "      <td>...</td>\n",
       "    </tr>\n",
       "    <tr>\n",
       "      <th>2183240</th>\n",
       "      <td>2019-02-12</td>\n",
       "      <td>664871001</td>\n",
       "      <td>34</td>\n",
       "      <td>34</td>\n",
       "      <td>34</td>\n",
       "    </tr>\n",
       "    <tr>\n",
       "      <th>2183241</th>\n",
       "      <td>2019-11-19</td>\n",
       "      <td>640735001</td>\n",
       "      <td>2</td>\n",
       "      <td>2</td>\n",
       "      <td>2</td>\n",
       "    </tr>\n",
       "    <tr>\n",
       "      <th>2183242</th>\n",
       "      <td>2018-10-02</td>\n",
       "      <td>569355002</td>\n",
       "      <td>6</td>\n",
       "      <td>6</td>\n",
       "      <td>6</td>\n",
       "    </tr>\n",
       "    <tr>\n",
       "      <th>2183243</th>\n",
       "      <td>2019-06-04</td>\n",
       "      <td>684021006</td>\n",
       "      <td>8</td>\n",
       "      <td>8</td>\n",
       "      <td>8</td>\n",
       "    </tr>\n",
       "    <tr>\n",
       "      <th>2183244</th>\n",
       "      <td>2019-04-16</td>\n",
       "      <td>767918005</td>\n",
       "      <td>5</td>\n",
       "      <td>5</td>\n",
       "      <td>5</td>\n",
       "    </tr>\n",
       "  </tbody>\n",
       "</table>\n",
       "<p>2183245 rows × 5 columns</p>\n",
       "</div>"
      ],
      "text/plain": [
       "              ldbw  article_id  count  price  sales_channel_id\n",
       "0       2019-03-12   719447002      4      4                 4\n",
       "1       2019-04-16   590203002      1      1                 1\n",
       "2       2020-05-05   831684001     12     12                12\n",
       "3       2019-05-28   693508002      1      1                 1\n",
       "4       2019-07-02   777038001      5      5                 5\n",
       "...            ...         ...    ...    ...               ...\n",
       "2183240 2019-02-12   664871001     34     34                34\n",
       "2183241 2019-11-19   640735001      2      2                 2\n",
       "2183242 2018-10-02   569355002      6      6                 6\n",
       "2183243 2019-06-04   684021006      8      8                 8\n",
       "2183244 2019-04-16   767918005      5      5                 5\n",
       "\n",
       "[2183245 rows x 5 columns]"
      ]
     },
     "execution_count": 36,
     "metadata": {},
     "output_type": "execute_result"
    }
   ],
   "source": [
    "weekly_sales"
   ]
  },
  {
   "cell_type": "code",
   "execution_count": 37,
   "id": "79238817",
   "metadata": {
    "execution": {
     "iopub.execute_input": "2022-03-27T15:17:45.668464Z",
     "iopub.status.busy": "2022-03-27T15:17:45.667632Z",
     "iopub.status.idle": "2022-03-27T15:17:45.704544Z",
     "shell.execute_reply": "2022-03-27T15:17:45.704139Z",
     "shell.execute_reply.started": "2022-03-27T14:17:45.160910Z"
    },
    "papermill": {
     "duration": 0.169933,
     "end_time": "2022-03-27T15:17:45.704656",
     "exception": false,
     "start_time": "2022-03-27T15:17:45.534723",
     "status": "completed"
    },
    "tags": []
   },
   "outputs": [],
   "source": [
    "df = df[df[\"ldbw\"] >= pd.to_datetime('2020-08-01')]"
   ]
  },
  {
   "cell_type": "code",
   "execution_count": 38,
   "id": "f4e44094",
   "metadata": {
    "execution": {
     "iopub.execute_input": "2022-03-27T15:17:45.966170Z",
     "iopub.status.busy": "2022-03-27T15:17:45.965341Z",
     "iopub.status.idle": "2022-03-27T15:17:46.005469Z",
     "shell.execute_reply": "2022-03-27T15:17:46.004935Z",
     "shell.execute_reply.started": "2022-03-27T14:17:45.201453Z"
    },
    "papermill": {
     "duration": 0.172202,
     "end_time": "2022-03-27T15:17:46.005590",
     "exception": false,
     "start_time": "2022-03-27T15:17:45.833388",
     "status": "completed"
    },
    "tags": []
   },
   "outputs": [],
   "source": [
    "full_result = df.merge(relation_data, left_on = \"article_id\", right_on = \"from_id\")"
   ]
  },
  {
   "cell_type": "code",
   "execution_count": 39,
   "id": "a5ae6a7a",
   "metadata": {
    "execution": {
     "iopub.execute_input": "2022-03-27T15:17:46.285335Z",
     "iopub.status.busy": "2022-03-27T15:17:46.284528Z",
     "iopub.status.idle": "2022-03-27T15:17:46.286275Z",
     "shell.execute_reply": "2022-03-27T15:17:46.286692Z",
     "shell.execute_reply.started": "2022-03-27T14:17:45.258499Z"
    },
    "papermill": {
     "duration": 0.13904,
     "end_time": "2022-03-27T15:17:46.286817",
     "exception": false,
     "start_time": "2022-03-27T15:17:46.147777",
     "status": "completed"
    },
    "tags": []
   },
   "outputs": [],
   "source": [
    "full_result.drop([\"article_id\", \"from_id\"], axis = 1, inplace = True)"
   ]
  },
  {
   "cell_type": "code",
   "execution_count": 40,
   "id": "c2f6683c",
   "metadata": {
    "execution": {
     "iopub.execute_input": "2022-03-27T15:17:46.548245Z",
     "iopub.status.busy": "2022-03-27T15:17:46.547505Z",
     "iopub.status.idle": "2022-03-27T15:17:46.580633Z",
     "shell.execute_reply": "2022-03-27T15:17:46.580233Z",
     "shell.execute_reply.started": "2022-03-27T14:17:45.268208Z"
    },
    "papermill": {
     "duration": 0.165726,
     "end_time": "2022-03-27T15:17:46.580742",
     "exception": false,
     "start_time": "2022-03-27T15:17:46.415016",
     "status": "completed"
    },
    "tags": []
   },
   "outputs": [],
   "source": [
    "full_result = full_result.rename(columns = {\"to_id\": \"article_id\"})"
   ]
  },
  {
   "cell_type": "code",
   "execution_count": 41,
   "id": "df51d446",
   "metadata": {
    "execution": {
     "iopub.execute_input": "2022-03-27T15:17:46.853863Z",
     "iopub.status.busy": "2022-03-27T15:17:46.852950Z",
     "iopub.status.idle": "2022-03-27T15:17:46.908682Z",
     "shell.execute_reply": "2022-03-27T15:17:46.909088Z",
     "shell.execute_reply.started": "2022-03-27T14:17:45.306680Z"
    },
    "papermill": {
     "duration": 0.20033,
     "end_time": "2022-03-27T15:17:46.909231",
     "exception": false,
     "start_time": "2022-03-27T15:17:46.708901",
     "status": "completed"
    },
    "tags": []
   },
   "outputs": [
    {
     "data": {
      "text/html": [
       "<div>\n",
       "<style scoped>\n",
       "    .dataframe tbody tr th:only-of-type {\n",
       "        vertical-align: middle;\n",
       "    }\n",
       "\n",
       "    .dataframe tbody tr th {\n",
       "        vertical-align: top;\n",
       "    }\n",
       "\n",
       "    .dataframe thead th {\n",
       "        text-align: right;\n",
       "    }\n",
       "</style>\n",
       "<table border=\"1\" class=\"dataframe\">\n",
       "  <thead>\n",
       "    <tr style=\"text-align: right;\">\n",
       "      <th></th>\n",
       "      <th>t_dat</th>\n",
       "      <th>customer_id</th>\n",
       "      <th>price</th>\n",
       "      <th>sales_channel_id</th>\n",
       "      <th>ldbw</th>\n",
       "      <th>article_id</th>\n",
       "      <th>ratio</th>\n",
       "    </tr>\n",
       "  </thead>\n",
       "  <tbody>\n",
       "    <tr>\n",
       "      <th>0</th>\n",
       "      <td>2020-07-29</td>\n",
       "      <td>-1641462433035272469</td>\n",
       "      <td>0.053305</td>\n",
       "      <td>2</td>\n",
       "      <td>2020-08-04</td>\n",
       "      <td>857277001</td>\n",
       "      <td>0.088398</td>\n",
       "    </tr>\n",
       "    <tr>\n",
       "      <th>1</th>\n",
       "      <td>2020-07-29</td>\n",
       "      <td>-8557685387333774327</td>\n",
       "      <td>0.025407</td>\n",
       "      <td>2</td>\n",
       "      <td>2020-08-04</td>\n",
       "      <td>562245046</td>\n",
       "      <td>0.069401</td>\n",
       "    </tr>\n",
       "    <tr>\n",
       "      <th>2</th>\n",
       "      <td>2020-07-29</td>\n",
       "      <td>-2035395705068495128</td>\n",
       "      <td>0.016932</td>\n",
       "      <td>1</td>\n",
       "      <td>2020-08-04</td>\n",
       "      <td>372860001</td>\n",
       "      <td>0.100000</td>\n",
       "    </tr>\n",
       "    <tr>\n",
       "      <th>3</th>\n",
       "      <td>2020-07-29</td>\n",
       "      <td>882143883989844769</td>\n",
       "      <td>0.005068</td>\n",
       "      <td>1</td>\n",
       "      <td>2020-08-04</td>\n",
       "      <td>718982001</td>\n",
       "      <td>0.105854</td>\n",
       "    </tr>\n",
       "    <tr>\n",
       "      <th>4</th>\n",
       "      <td>2020-07-29</td>\n",
       "      <td>-1641462433035272469</td>\n",
       "      <td>0.023983</td>\n",
       "      <td>2</td>\n",
       "      <td>2020-08-04</td>\n",
       "      <td>857812004</td>\n",
       "      <td>0.097245</td>\n",
       "    </tr>\n",
       "    <tr>\n",
       "      <th>...</th>\n",
       "      <td>...</td>\n",
       "      <td>...</td>\n",
       "      <td>...</td>\n",
       "      <td>...</td>\n",
       "      <td>...</td>\n",
       "      <td>...</td>\n",
       "      <td>...</td>\n",
       "    </tr>\n",
       "    <tr>\n",
       "      <th>18750425</th>\n",
       "      <td>2020-09-15</td>\n",
       "      <td>5071616147837568152</td>\n",
       "      <td>0.050831</td>\n",
       "      <td>1</td>\n",
       "      <td>2020-09-15</td>\n",
       "      <td>779333004</td>\n",
       "      <td>0.064356</td>\n",
       "    </tr>\n",
       "    <tr>\n",
       "      <th>18750426</th>\n",
       "      <td>2020-09-15</td>\n",
       "      <td>4908528897358301336</td>\n",
       "      <td>0.042356</td>\n",
       "      <td>2</td>\n",
       "      <td>2020-09-15</td>\n",
       "      <td>922381001</td>\n",
       "      <td>0.140351</td>\n",
       "    </tr>\n",
       "    <tr>\n",
       "      <th>18750427</th>\n",
       "      <td>2020-09-15</td>\n",
       "      <td>4908528897358301336</td>\n",
       "      <td>0.042356</td>\n",
       "      <td>2</td>\n",
       "      <td>2020-09-15</td>\n",
       "      <td>706016015</td>\n",
       "      <td>0.099415</td>\n",
       "    </tr>\n",
       "    <tr>\n",
       "      <th>18750428</th>\n",
       "      <td>2020-09-15</td>\n",
       "      <td>4908528897358301336</td>\n",
       "      <td>0.042356</td>\n",
       "      <td>2</td>\n",
       "      <td>2020-09-15</td>\n",
       "      <td>572998001</td>\n",
       "      <td>0.093567</td>\n",
       "    </tr>\n",
       "    <tr>\n",
       "      <th>18750429</th>\n",
       "      <td>2020-09-15</td>\n",
       "      <td>4908528897358301336</td>\n",
       "      <td>0.042356</td>\n",
       "      <td>2</td>\n",
       "      <td>2020-09-15</td>\n",
       "      <td>864668004</td>\n",
       "      <td>0.093567</td>\n",
       "    </tr>\n",
       "  </tbody>\n",
       "</table>\n",
       "<p>18750430 rows × 7 columns</p>\n",
       "</div>"
      ],
      "text/plain": [
       "              t_dat          customer_id     price  sales_channel_id  \\\n",
       "0        2020-07-29 -1641462433035272469  0.053305                 2   \n",
       "1        2020-07-29 -8557685387333774327  0.025407                 2   \n",
       "2        2020-07-29 -2035395705068495128  0.016932                 1   \n",
       "3        2020-07-29   882143883989844769  0.005068                 1   \n",
       "4        2020-07-29 -1641462433035272469  0.023983                 2   \n",
       "...             ...                  ...       ...               ...   \n",
       "18750425 2020-09-15  5071616147837568152  0.050831                 1   \n",
       "18750426 2020-09-15  4908528897358301336  0.042356                 2   \n",
       "18750427 2020-09-15  4908528897358301336  0.042356                 2   \n",
       "18750428 2020-09-15  4908528897358301336  0.042356                 2   \n",
       "18750429 2020-09-15  4908528897358301336  0.042356                 2   \n",
       "\n",
       "               ldbw  article_id     ratio  \n",
       "0        2020-08-04   857277001  0.088398  \n",
       "1        2020-08-04   562245046  0.069401  \n",
       "2        2020-08-04   372860001  0.100000  \n",
       "3        2020-08-04   718982001  0.105854  \n",
       "4        2020-08-04   857812004  0.097245  \n",
       "...             ...         ...       ...  \n",
       "18750425 2020-09-15   779333004  0.064356  \n",
       "18750426 2020-09-15   922381001  0.140351  \n",
       "18750427 2020-09-15   706016015  0.099415  \n",
       "18750428 2020-09-15   572998001  0.093567  \n",
       "18750429 2020-09-15   864668004  0.093567  \n",
       "\n",
       "[18750430 rows x 7 columns]"
      ]
     },
     "execution_count": 41,
     "metadata": {},
     "output_type": "execute_result"
    }
   ],
   "source": [
    "full_result"
   ]
  },
  {
   "cell_type": "code",
   "execution_count": 42,
   "id": "902486e6",
   "metadata": {
    "execution": {
     "iopub.execute_input": "2022-03-27T15:17:47.173170Z",
     "iopub.status.busy": "2022-03-27T15:17:47.172363Z",
     "iopub.status.idle": "2022-03-27T15:17:47.232975Z",
     "shell.execute_reply": "2022-03-27T15:17:47.232549Z",
     "shell.execute_reply.started": "2022-03-27T14:17:45.373462Z"
    },
    "papermill": {
     "duration": 0.193726,
     "end_time": "2022-03-27T15:17:47.233091",
     "exception": false,
     "start_time": "2022-03-27T15:17:47.039365",
     "status": "completed"
    },
    "tags": []
   },
   "outputs": [],
   "source": [
    "full_result = full_result.merge(weekly_sales, on=['ldbw', 'article_id'], how = 'left')"
   ]
  },
  {
   "cell_type": "code",
   "execution_count": 43,
   "id": "b2b4946b",
   "metadata": {
    "execution": {
     "iopub.execute_input": "2022-03-27T15:17:47.496282Z",
     "iopub.status.busy": "2022-03-27T15:17:47.495569Z",
     "iopub.status.idle": "2022-03-27T15:17:47.498093Z",
     "shell.execute_reply": "2022-03-27T15:17:47.497677Z",
     "shell.execute_reply.started": "2022-03-27T14:17:45.436880Z"
    },
    "papermill": {
     "duration": 0.135851,
     "end_time": "2022-03-27T15:17:47.498206",
     "exception": false,
     "start_time": "2022-03-27T15:17:47.362355",
     "status": "completed"
    },
    "tags": []
   },
   "outputs": [],
   "source": [
    "#full_result.drop([\"article_id\", \"from_id\", \"count\"], axis = 1, inplace = True)"
   ]
  },
  {
   "cell_type": "code",
   "execution_count": 44,
   "id": "42578fcf",
   "metadata": {
    "execution": {
     "iopub.execute_input": "2022-03-27T15:17:47.766616Z",
     "iopub.status.busy": "2022-03-27T15:17:47.765752Z",
     "iopub.status.idle": "2022-03-27T15:17:47.767777Z",
     "shell.execute_reply": "2022-03-27T15:17:47.768156Z",
     "shell.execute_reply.started": "2022-03-27T14:17:45.441787Z"
    },
    "papermill": {
     "duration": 0.13424,
     "end_time": "2022-03-27T15:17:47.768287",
     "exception": false,
     "start_time": "2022-03-27T15:17:47.634047",
     "status": "completed"
    },
    "tags": []
   },
   "outputs": [],
   "source": [
    "#full_result.dropna(inplace)"
   ]
  },
  {
   "cell_type": "code",
   "execution_count": 45,
   "id": "d52f0cb7",
   "metadata": {
    "execution": {
     "iopub.execute_input": "2022-03-27T15:17:48.033331Z",
     "iopub.status.busy": "2022-03-27T15:17:48.032519Z",
     "iopub.status.idle": "2022-03-27T15:17:48.121016Z",
     "shell.execute_reply": "2022-03-27T15:17:48.120581Z",
     "shell.execute_reply.started": "2022-03-27T14:17:45.449874Z"
    },
    "papermill": {
     "duration": 0.222775,
     "end_time": "2022-03-27T15:17:48.121133",
     "exception": false,
     "start_time": "2022-03-27T15:17:47.898358",
     "status": "completed"
    },
    "tags": []
   },
   "outputs": [],
   "source": [
    "weekly_sales = weekly_sales.reset_index().set_index('article_id')\n",
    "\n",
    "full_result = full_result.merge(\n",
    "    weekly_sales.loc[weekly_sales['ldbw']==Last_date, ['count']],\n",
    "    on='article_id', suffixes=(\"\", \"_targ\"))\n",
    "\n",
    "full_result['count_targ'].fillna(0, inplace=True)"
   ]
  },
  {
   "cell_type": "code",
   "execution_count": 46,
   "id": "88f52f70",
   "metadata": {
    "execution": {
     "iopub.execute_input": "2022-03-27T15:17:48.423580Z",
     "iopub.status.busy": "2022-03-27T15:17:48.422730Z",
     "iopub.status.idle": "2022-03-27T15:17:48.504674Z",
     "shell.execute_reply": "2022-03-27T15:17:48.503886Z",
     "shell.execute_reply.started": "2022-03-27T14:17:45.543415Z"
    },
    "papermill": {
     "duration": 0.232409,
     "end_time": "2022-03-27T15:17:48.504802",
     "exception": false,
     "start_time": "2022-03-27T15:17:48.272393",
     "status": "completed"
    },
    "tags": []
   },
   "outputs": [
    {
     "data": {
      "text/html": [
       "<div>\n",
       "<style scoped>\n",
       "    .dataframe tbody tr th:only-of-type {\n",
       "        vertical-align: middle;\n",
       "    }\n",
       "\n",
       "    .dataframe tbody tr th {\n",
       "        vertical-align: top;\n",
       "    }\n",
       "\n",
       "    .dataframe thead th {\n",
       "        text-align: right;\n",
       "    }\n",
       "</style>\n",
       "<table border=\"1\" class=\"dataframe\">\n",
       "  <thead>\n",
       "    <tr style=\"text-align: right;\">\n",
       "      <th></th>\n",
       "      <th>t_dat</th>\n",
       "      <th>customer_id</th>\n",
       "      <th>price_x</th>\n",
       "      <th>sales_channel_id_x</th>\n",
       "      <th>ldbw</th>\n",
       "      <th>article_id</th>\n",
       "      <th>ratio</th>\n",
       "      <th>count</th>\n",
       "      <th>price_y</th>\n",
       "      <th>sales_channel_id_y</th>\n",
       "      <th>count_targ</th>\n",
       "    </tr>\n",
       "  </thead>\n",
       "  <tbody>\n",
       "    <tr>\n",
       "      <th>0</th>\n",
       "      <td>2020-07-29</td>\n",
       "      <td>-5701657069289454745</td>\n",
       "      <td>0.011847</td>\n",
       "      <td>2</td>\n",
       "      <td>2020-08-04</td>\n",
       "      <td>470985003</td>\n",
       "      <td>0.094164</td>\n",
       "      <td>46</td>\n",
       "      <td>46</td>\n",
       "      <td>46</td>\n",
       "      <td>4</td>\n",
       "    </tr>\n",
       "    <tr>\n",
       "      <th>1</th>\n",
       "      <td>2020-07-29</td>\n",
       "      <td>-8754838094047981152</td>\n",
       "      <td>0.025407</td>\n",
       "      <td>2</td>\n",
       "      <td>2020-08-04</td>\n",
       "      <td>810838011</td>\n",
       "      <td>0.084371</td>\n",
       "      <td>74</td>\n",
       "      <td>74</td>\n",
       "      <td>74</td>\n",
       "      <td>21</td>\n",
       "    </tr>\n",
       "    <tr>\n",
       "      <th>2</th>\n",
       "      <td>2020-07-29</td>\n",
       "      <td>3037517429706459763</td>\n",
       "      <td>0.025407</td>\n",
       "      <td>1</td>\n",
       "      <td>2020-08-04</td>\n",
       "      <td>706016001</td>\n",
       "      <td>0.143274</td>\n",
       "      <td>386</td>\n",
       "      <td>386</td>\n",
       "      <td>386</td>\n",
       "      <td>453</td>\n",
       "    </tr>\n",
       "    <tr>\n",
       "      <th>3</th>\n",
       "      <td>2020-07-29</td>\n",
       "      <td>-2352815098968528087</td>\n",
       "      <td>0.030492</td>\n",
       "      <td>1</td>\n",
       "      <td>2020-08-04</td>\n",
       "      <td>829302003</td>\n",
       "      <td>0.096774</td>\n",
       "      <td>38</td>\n",
       "      <td>38</td>\n",
       "      <td>38</td>\n",
       "      <td>15</td>\n",
       "    </tr>\n",
       "    <tr>\n",
       "      <th>4</th>\n",
       "      <td>2020-07-29</td>\n",
       "      <td>-2352815098968528087</td>\n",
       "      <td>0.042356</td>\n",
       "      <td>1</td>\n",
       "      <td>2020-08-04</td>\n",
       "      <td>525500034</td>\n",
       "      <td>0.113821</td>\n",
       "      <td>1</td>\n",
       "      <td>1</td>\n",
       "      <td>1</td>\n",
       "      <td>4</td>\n",
       "    </tr>\n",
       "    <tr>\n",
       "      <th>...</th>\n",
       "      <td>...</td>\n",
       "      <td>...</td>\n",
       "      <td>...</td>\n",
       "      <td>...</td>\n",
       "      <td>...</td>\n",
       "      <td>...</td>\n",
       "      <td>...</td>\n",
       "      <td>...</td>\n",
       "      <td>...</td>\n",
       "      <td>...</td>\n",
       "      <td>...</td>\n",
       "    </tr>\n",
       "    <tr>\n",
       "      <th>17558330</th>\n",
       "      <td>2020-09-15</td>\n",
       "      <td>5805583007194309794</td>\n",
       "      <td>0.049983</td>\n",
       "      <td>2</td>\n",
       "      <td>2020-09-15</td>\n",
       "      <td>294008002</td>\n",
       "      <td>0.145631</td>\n",
       "      <td>4</td>\n",
       "      <td>4</td>\n",
       "      <td>4</td>\n",
       "      <td>4</td>\n",
       "    </tr>\n",
       "    <tr>\n",
       "      <th>17558331</th>\n",
       "      <td>2020-09-15</td>\n",
       "      <td>5805583007194309794</td>\n",
       "      <td>0.033305</td>\n",
       "      <td>2</td>\n",
       "      <td>2020-09-15</td>\n",
       "      <td>795790001</td>\n",
       "      <td>0.060790</td>\n",
       "      <td>2</td>\n",
       "      <td>2</td>\n",
       "      <td>2</td>\n",
       "      <td>2</td>\n",
       "    </tr>\n",
       "    <tr>\n",
       "      <th>17558332</th>\n",
       "      <td>2020-09-15</td>\n",
       "      <td>5805583007194309794</td>\n",
       "      <td>0.049983</td>\n",
       "      <td>2</td>\n",
       "      <td>2020-09-15</td>\n",
       "      <td>857812003</td>\n",
       "      <td>0.052347</td>\n",
       "      <td>18</td>\n",
       "      <td>18</td>\n",
       "      <td>18</td>\n",
       "      <td>18</td>\n",
       "    </tr>\n",
       "    <tr>\n",
       "      <th>17558333</th>\n",
       "      <td>2020-09-15</td>\n",
       "      <td>-5873491721356339494</td>\n",
       "      <td>0.043203</td>\n",
       "      <td>1</td>\n",
       "      <td>2020-09-15</td>\n",
       "      <td>803685001</td>\n",
       "      <td>0.060385</td>\n",
       "      <td>123</td>\n",
       "      <td>123</td>\n",
       "      <td>123</td>\n",
       "      <td>123</td>\n",
       "    </tr>\n",
       "    <tr>\n",
       "      <th>17558334</th>\n",
       "      <td>2020-09-15</td>\n",
       "      <td>-2366584440109364854</td>\n",
       "      <td>0.033881</td>\n",
       "      <td>2</td>\n",
       "      <td>2020-09-15</td>\n",
       "      <td>915526002</td>\n",
       "      <td>0.044762</td>\n",
       "      <td>219</td>\n",
       "      <td>219</td>\n",
       "      <td>219</td>\n",
       "      <td>219</td>\n",
       "    </tr>\n",
       "  </tbody>\n",
       "</table>\n",
       "<p>17558335 rows × 11 columns</p>\n",
       "</div>"
      ],
      "text/plain": [
       "              t_dat          customer_id   price_x  sales_channel_id_x  \\\n",
       "0        2020-07-29 -5701657069289454745  0.011847                   2   \n",
       "1        2020-07-29 -8754838094047981152  0.025407                   2   \n",
       "2        2020-07-29  3037517429706459763  0.025407                   1   \n",
       "3        2020-07-29 -2352815098968528087  0.030492                   1   \n",
       "4        2020-07-29 -2352815098968528087  0.042356                   1   \n",
       "...             ...                  ...       ...                 ...   \n",
       "17558330 2020-09-15  5805583007194309794  0.049983                   2   \n",
       "17558331 2020-09-15  5805583007194309794  0.033305                   2   \n",
       "17558332 2020-09-15  5805583007194309794  0.049983                   2   \n",
       "17558333 2020-09-15 -5873491721356339494  0.043203                   1   \n",
       "17558334 2020-09-15 -2366584440109364854  0.033881                   2   \n",
       "\n",
       "               ldbw  article_id     ratio  count  price_y  sales_channel_id_y  \\\n",
       "0        2020-08-04   470985003  0.094164     46       46                  46   \n",
       "1        2020-08-04   810838011  0.084371     74       74                  74   \n",
       "2        2020-08-04   706016001  0.143274    386      386                 386   \n",
       "3        2020-08-04   829302003  0.096774     38       38                  38   \n",
       "4        2020-08-04   525500034  0.113821      1        1                   1   \n",
       "...             ...         ...       ...    ...      ...                 ...   \n",
       "17558330 2020-09-15   294008002  0.145631      4        4                   4   \n",
       "17558331 2020-09-15   795790001  0.060790      2        2                   2   \n",
       "17558332 2020-09-15   857812003  0.052347     18       18                  18   \n",
       "17558333 2020-09-15   803685001  0.060385    123      123                 123   \n",
       "17558334 2020-09-15   915526002  0.044762    219      219                 219   \n",
       "\n",
       "          count_targ  \n",
       "0                  4  \n",
       "1                 21  \n",
       "2                453  \n",
       "3                 15  \n",
       "4                  4  \n",
       "...              ...  \n",
       "17558330           4  \n",
       "17558331           2  \n",
       "17558332          18  \n",
       "17558333         123  \n",
       "17558334         219  \n",
       "\n",
       "[17558335 rows x 11 columns]"
      ]
     },
     "execution_count": 46,
     "metadata": {},
     "output_type": "execute_result"
    }
   ],
   "source": [
    "full_result"
   ]
  },
  {
   "cell_type": "code",
   "execution_count": 47,
   "id": "1c9f3050",
   "metadata": {
    "execution": {
     "iopub.execute_input": "2022-03-27T15:17:48.769753Z",
     "iopub.status.busy": "2022-03-27T15:17:48.768965Z",
     "iopub.status.idle": "2022-03-27T15:17:48.774417Z",
     "shell.execute_reply": "2022-03-27T15:17:48.773948Z",
     "shell.execute_reply.started": "2022-03-27T14:17:45.629926Z"
    },
    "papermill": {
     "duration": 0.139573,
     "end_time": "2022-03-27T15:17:48.774527",
     "exception": false,
     "start_time": "2022-03-27T15:17:48.634954",
     "status": "completed"
    },
    "tags": []
   },
   "outputs": [],
   "source": [
    "full_result['quotient'] = full_result['count_targ'] / full_result['count']"
   ]
  },
  {
   "cell_type": "code",
   "execution_count": 48,
   "id": "759da112",
   "metadata": {
    "execution": {
     "iopub.execute_input": "2022-03-27T15:17:49.057731Z",
     "iopub.status.busy": "2022-03-27T15:17:49.056853Z",
     "iopub.status.idle": "2022-03-27T15:18:11.409766Z",
     "shell.execute_reply": "2022-03-27T15:18:11.409352Z",
     "shell.execute_reply.started": "2022-03-27T14:17:45.638503Z"
    },
    "papermill": {
     "duration": 22.505004,
     "end_time": "2022-03-27T15:18:11.409895",
     "exception": false,
     "start_time": "2022-03-27T15:17:48.904891",
     "status": "completed"
    },
    "tags": []
   },
   "outputs": [
    {
     "name": "stdout",
     "output_type": "stream",
     "text": [
      "CPU times: user 17.6 s, sys: 6.97 s, total: 24.6 s\n",
      "Wall time: 22.4 s\n"
     ]
    }
   ],
   "source": [
    "%%time\n",
    "purchase_dict = {}\n",
    "\n",
    "tmp = full_result.copy().to_pandas()\n",
    "tmp['x'] = ((Last_date - tmp['t_dat']) / np.timedelta64(1, 'D')).astype(int)\n",
    "tmp['dummy_1'] = 1 \n",
    "tmp['x'] = tmp[[\"x\", \"dummy_1\"]].max(axis=1)\n",
    "\n",
    "a, b, c, d = 2.5e4, 1.5e5, 2e-1, 1e3\n",
    "total = 1715530\n",
    "tmp['y'] = ((a / np.sqrt(tmp['x']) + b * np.exp(-c*tmp['x']) - d) / total +\\\n",
    "(a / np.sqrt(tmp['x']+1) + b * np.exp(-c*(tmp['x']+1)) - d) / total +\\\n",
    "(a / np.sqrt(tmp['x']+2) + b * np.exp(-c*(tmp['x']+2)) - d) / total +\\\n",
    "(a / np.sqrt(tmp['x']+3) + b * np.exp(-c*(tmp['x']+3)) - d) / total +\\\n",
    "(a / np.sqrt(tmp['x']+4) + b * np.exp(-c*(tmp['x']+4)) - d) / total +\\\n",
    "(a / np.sqrt(tmp['x']+5) + b * np.exp(-c*(tmp['x']+5)) - d) / total +\\\n",
    "(a / np.sqrt(tmp['x']+6) + b * np.exp(-c*(tmp['x']+6)) - d) / total)\n",
    "\n",
    "tmp['dummy_0'] = 0 \n",
    "tmp['y'] = tmp[[\"y\", \"dummy_0\"]].max(axis=1)\n",
    "tmp['score'] = tmp['quotient'] * tmp['y'] * tmp[\"ratio\"]\n",
    "\n",
    "tmp = tmp.groupby(['customer_id', 'article_id']).agg({'score': 'sum'})\n",
    "tmp = tmp.reset_index()\n",
    "\n",
    "tmp = tmp.loc[tmp['score'] > 0]\n",
    "tmp['rank'] = tmp.groupby(\"customer_id\")[\"score\"].rank(\"dense\", ascending=False)\n",
    "tmp = tmp.loc[tmp['rank'] <= 12]\n",
    "tmp[\"source\"] = 2\n",
    "\n",
    "result2 = tmp[[\"customer_id\", \"article_id\", \"source\", \"score\", \"rank\"]]"
   ]
  },
  {
   "cell_type": "code",
   "execution_count": 49,
   "id": "879180c1",
   "metadata": {
    "execution": {
     "iopub.execute_input": "2022-03-27T15:18:11.724235Z",
     "iopub.status.busy": "2022-03-27T15:18:11.723431Z",
     "iopub.status.idle": "2022-03-27T15:18:11.725813Z",
     "shell.execute_reply": "2022-03-27T15:18:11.725420Z",
     "shell.execute_reply.started": "2022-03-27T14:18:08.358899Z"
    },
    "papermill": {
     "duration": 0.183879,
     "end_time": "2022-03-27T15:18:11.725955",
     "exception": false,
     "start_time": "2022-03-27T15:18:11.542076",
     "status": "completed"
    },
    "tags": []
   },
   "outputs": [],
   "source": [
    "#result2.to_csv(\"result2.csv\", index = False)"
   ]
  },
  {
   "cell_type": "code",
   "execution_count": 50,
   "id": "19b58cd5",
   "metadata": {
    "execution": {
     "iopub.execute_input": "2022-03-27T15:18:12.121049Z",
     "iopub.status.busy": "2022-03-27T15:18:12.120285Z",
     "iopub.status.idle": "2022-03-27T15:18:12.123135Z",
     "shell.execute_reply": "2022-03-27T15:18:12.123537Z",
     "shell.execute_reply.started": "2022-03-27T14:18:08.365124Z"
    },
    "papermill": {
     "duration": 0.267167,
     "end_time": "2022-03-27T15:18:12.123681",
     "exception": false,
     "start_time": "2022-03-27T15:18:11.856514",
     "status": "completed"
    },
    "tags": []
   },
   "outputs": [
    {
     "data": {
      "text/plain": [
       "42"
      ]
     },
     "execution_count": 50,
     "metadata": {},
     "output_type": "execute_result"
    }
   ],
   "source": [
    "del tmp\n",
    "del df\n",
    "del full_result\n",
    "gc.collect()"
   ]
  },
  {
   "cell_type": "code",
   "execution_count": 51,
   "id": "12f92ad8",
   "metadata": {
    "execution": {
     "iopub.execute_input": "2022-03-27T15:18:12.503560Z",
     "iopub.status.busy": "2022-03-27T15:18:12.502660Z",
     "iopub.status.idle": "2022-03-27T15:18:12.504941Z",
     "shell.execute_reply": "2022-03-27T15:18:12.504266Z",
     "shell.execute_reply.started": "2022-03-27T14:18:08.518347Z"
    },
    "papermill": {
     "duration": 0.23707,
     "end_time": "2022-03-27T15:18:12.505094",
     "exception": false,
     "start_time": "2022-03-27T15:18:12.268024",
     "status": "completed"
    },
    "tags": []
   },
   "outputs": [],
   "source": [
    "#relation_data.to_csv(\"/kaggle/working/relation_data.csv\", index = False)"
   ]
  },
  {
   "cell_type": "code",
   "execution_count": 52,
   "id": "597b039a",
   "metadata": {
    "execution": {
     "iopub.execute_input": "2022-03-27T15:18:12.892595Z",
     "iopub.status.busy": "2022-03-27T15:18:12.891712Z",
     "iopub.status.idle": "2022-03-27T15:18:12.893546Z",
     "shell.execute_reply": "2022-03-27T15:18:12.894019Z",
     "shell.execute_reply.started": "2022-03-27T14:18:08.524907Z"
    },
    "papermill": {
     "duration": 0.174731,
     "end_time": "2022-03-27T15:18:12.894159",
     "exception": false,
     "start_time": "2022-03-27T15:18:12.719428",
     "status": "completed"
    },
    "tags": []
   },
   "outputs": [],
   "source": [
    "# items = cudf.read_csv('../input/h-and-m-personalized-fashion-recommendations/articles.csv')\n",
    "# BASE = '../input/h-and-m-personalized-fashion-recommendations/images/'\n",
    "\n",
    "# for i,(k,v) in enumerate( pairs.items() ):\n",
    "#     name1 = BASE+'0'+str(k)[:2]+'/0'+str(k)+'.jpg'\n",
    "#     name2 = BASE+'0'+str(v[0])[:2]+'/0'+str(v[0])+'.jpg'\n",
    "#     name3 = BASE+'0'+str(v[1])[:2]+'/0'+str(v[1])+'.jpg'\n",
    "#     name4 = BASE+'0'+str(v[2])[:2]+'/0'+str(v[2])+'.jpg'\n",
    "#     if exists(name1) & exists(name2) & exists(name3) & exists(name4):\n",
    "#         plt.figure(figsize=(20,5))\n",
    "#         img1 = cv2.imread(name1)[:,:,::-1]\n",
    "#         img2 = cv2.imread(name2)[:,:,::-1]\n",
    "#         img3 = cv2.imread(name3)[:,:,::-1]\n",
    "#         img4 = cv2.imread(name4)[:,:,::-1]\n",
    "#         plt.subplot(1,4,1)\n",
    "#         plt.title('When customers buy this',size=18)\n",
    "#         plt.imshow(img1)\n",
    "#         plt.subplot(1,4,2)\n",
    "#         plt.title('They buy this',size=18)\n",
    "#         plt.imshow(img2)\n",
    "#         plt.subplot(1,4,3)\n",
    "#         plt.title('They buy this',size=18)\n",
    "#         plt.imshow(img3)\n",
    "#         plt.subplot(1,4,4)\n",
    "#         plt.title('They buy this',size=18)\n",
    "#         plt.imshow(img4)\n",
    "#         plt.show()\n",
    "#     #if i==63: break"
   ]
  },
  {
   "cell_type": "code",
   "execution_count": 53,
   "id": "fd097c0f",
   "metadata": {
    "execution": {
     "iopub.execute_input": "2022-03-27T15:18:13.168299Z",
     "iopub.status.busy": "2022-03-27T15:18:13.167594Z",
     "iopub.status.idle": "2022-03-27T15:18:13.170387Z",
     "shell.execute_reply": "2022-03-27T15:18:13.170784Z",
     "shell.execute_reply.started": "2022-03-27T14:18:08.532868Z"
    },
    "papermill": {
     "duration": 0.145923,
     "end_time": "2022-03-27T15:18:13.170928",
     "exception": false,
     "start_time": "2022-03-27T15:18:13.025005",
     "status": "completed"
    },
    "tags": []
   },
   "outputs": [
    {
     "data": {
      "text/html": [
       "<div>\n",
       "<style scoped>\n",
       "    .dataframe tbody tr th:only-of-type {\n",
       "        vertical-align: middle;\n",
       "    }\n",
       "\n",
       "    .dataframe tbody tr th {\n",
       "        vertical-align: top;\n",
       "    }\n",
       "\n",
       "    .dataframe thead th {\n",
       "        text-align: right;\n",
       "    }\n",
       "</style>\n",
       "<table border=\"1\" class=\"dataframe\">\n",
       "  <thead>\n",
       "    <tr style=\"text-align: right;\">\n",
       "      <th></th>\n",
       "      <th>customer_id</th>\n",
       "      <th>article_id</th>\n",
       "      <th>source</th>\n",
       "      <th>score</th>\n",
       "      <th>rank</th>\n",
       "    </tr>\n",
       "  </thead>\n",
       "  <tbody>\n",
       "    <tr>\n",
       "      <th>0</th>\n",
       "      <td>-9223352921020755230</td>\n",
       "      <td>156231001</td>\n",
       "      <td>2</td>\n",
       "      <td>0.002209</td>\n",
       "      <td>12.0</td>\n",
       "    </tr>\n",
       "    <tr>\n",
       "      <th>1</th>\n",
       "      <td>-9223352921020755230</td>\n",
       "      <td>372860001</td>\n",
       "      <td>2</td>\n",
       "      <td>0.003020</td>\n",
       "      <td>8.0</td>\n",
       "    </tr>\n",
       "    <tr>\n",
       "      <th>2</th>\n",
       "      <td>-9223352921020755230</td>\n",
       "      <td>372860002</td>\n",
       "      <td>2</td>\n",
       "      <td>0.002471</td>\n",
       "      <td>11.0</td>\n",
       "    </tr>\n",
       "    <tr>\n",
       "      <th>3</th>\n",
       "      <td>-9223352921020755230</td>\n",
       "      <td>448509014</td>\n",
       "      <td>2</td>\n",
       "      <td>0.003171</td>\n",
       "      <td>7.0</td>\n",
       "    </tr>\n",
       "    <tr>\n",
       "      <th>5</th>\n",
       "      <td>-9223352921020755230</td>\n",
       "      <td>562245046</td>\n",
       "      <td>2</td>\n",
       "      <td>0.002872</td>\n",
       "      <td>9.0</td>\n",
       "    </tr>\n",
       "    <tr>\n",
       "      <th>...</th>\n",
       "      <td>...</td>\n",
       "      <td>...</td>\n",
       "      <td>...</td>\n",
       "      <td>...</td>\n",
       "      <td>...</td>\n",
       "    </tr>\n",
       "    <tr>\n",
       "      <th>10385327</th>\n",
       "      <td>9223144259947635662</td>\n",
       "      <td>719957006</td>\n",
       "      <td>2</td>\n",
       "      <td>0.008230</td>\n",
       "      <td>12.0</td>\n",
       "    </tr>\n",
       "    <tr>\n",
       "      <th>10385329</th>\n",
       "      <td>9223144259947635662</td>\n",
       "      <td>720504004</td>\n",
       "      <td>2</td>\n",
       "      <td>0.021830</td>\n",
       "      <td>2.0</td>\n",
       "    </tr>\n",
       "    <tr>\n",
       "      <th>10385330</th>\n",
       "      <td>9223144259947635662</td>\n",
       "      <td>720504007</td>\n",
       "      <td>2</td>\n",
       "      <td>0.016236</td>\n",
       "      <td>5.0</td>\n",
       "    </tr>\n",
       "    <tr>\n",
       "      <th>10385333</th>\n",
       "      <td>9223144259947635662</td>\n",
       "      <td>730863005</td>\n",
       "      <td>2</td>\n",
       "      <td>0.014194</td>\n",
       "      <td>6.0</td>\n",
       "    </tr>\n",
       "    <tr>\n",
       "      <th>10385339</th>\n",
       "      <td>9223144259947635662</td>\n",
       "      <td>749699001</td>\n",
       "      <td>2</td>\n",
       "      <td>0.009977</td>\n",
       "      <td>8.0</td>\n",
       "    </tr>\n",
       "  </tbody>\n",
       "</table>\n",
       "<p>4005628 rows × 5 columns</p>\n",
       "</div>"
      ],
      "text/plain": [
       "                  customer_id  article_id  source     score  rank\n",
       "0        -9223352921020755230   156231001       2  0.002209  12.0\n",
       "1        -9223352921020755230   372860001       2  0.003020   8.0\n",
       "2        -9223352921020755230   372860002       2  0.002471  11.0\n",
       "3        -9223352921020755230   448509014       2  0.003171   7.0\n",
       "5        -9223352921020755230   562245046       2  0.002872   9.0\n",
       "...                       ...         ...     ...       ...   ...\n",
       "10385327  9223144259947635662   719957006       2  0.008230  12.0\n",
       "10385329  9223144259947635662   720504004       2  0.021830   2.0\n",
       "10385330  9223144259947635662   720504007       2  0.016236   5.0\n",
       "10385333  9223144259947635662   730863005       2  0.014194   6.0\n",
       "10385339  9223144259947635662   749699001       2  0.009977   8.0\n",
       "\n",
       "[4005628 rows x 5 columns]"
      ]
     },
     "execution_count": 53,
     "metadata": {},
     "output_type": "execute_result"
    }
   ],
   "source": [
    "result2"
   ]
  },
  {
   "cell_type": "markdown",
   "id": "b34bd0bf",
   "metadata": {
    "papermill": {
     "duration": 0.13113,
     "end_time": "2022-03-27T15:18:13.433361",
     "exception": false,
     "start_time": "2022-03-27T15:18:13.302231",
     "status": "completed"
    },
    "tags": []
   },
   "source": [
    "## 第三路：分层上周热门（+趋势）"
   ]
  },
  {
   "cell_type": "code",
   "execution_count": 54,
   "id": "6b356821",
   "metadata": {
    "execution": {
     "iopub.execute_input": "2022-03-27T15:18:13.709506Z",
     "iopub.status.busy": "2022-03-27T15:18:13.708627Z",
     "iopub.status.idle": "2022-03-27T15:18:21.130718Z",
     "shell.execute_reply": "2022-03-27T15:18:21.130149Z",
     "shell.execute_reply.started": "2022-03-27T14:18:08.553326Z"
    },
    "papermill": {
     "duration": 7.56564,
     "end_time": "2022-03-27T15:18:21.130862",
     "exception": false,
     "start_time": "2022-03-27T15:18:13.565222",
     "status": "completed"
    },
    "tags": []
   },
   "outputs": [
    {
     "name": "stdout",
     "output_type": "stream",
     "text": [
      "Requirement already satisfied: cudf in /opt/conda/lib/python3.7/site-packages (21.10.1)\r\n",
      "Requirement already satisfied: numba>=0.53.1 in /opt/conda/lib/python3.7/site-packages (from cudf) (0.54.1)\r\n",
      "Requirement already satisfied: Cython<0.30,>=0.29 in /opt/conda/lib/python3.7/site-packages (from cudf) (0.29.28)\r\n",
      "Requirement already satisfied: fastavro>=0.22.9 in /opt/conda/lib/python3.7/site-packages (from cudf) (1.4.9)\r\n",
      "Requirement already satisfied: fsspec>=0.6.0 in /opt/conda/lib/python3.7/site-packages (from cudf) (2022.2.0)\r\n",
      "Requirement already satisfied: numpy in /opt/conda/lib/python3.7/site-packages (from cudf) (1.20.3)\r\n",
      "Requirement already satisfied: pandas<1.4.0dev0,>=1.0 in /opt/conda/lib/python3.7/site-packages (from cudf) (1.3.5)\r\n",
      "Requirement already satisfied: typing_extensions in /opt/conda/lib/python3.7/site-packages (from cudf) (4.1.1)\r\n",
      "Requirement already satisfied: protobuf in /opt/conda/lib/python3.7/site-packages (from cudf) (3.19.1)\r\n",
      "Requirement already satisfied: nvtx>=0.2.1 in /opt/conda/lib/python3.7/site-packages (from cudf) (0.2.3)\r\n",
      "Requirement already satisfied: cachetools in /opt/conda/lib/python3.7/site-packages (from cudf) (4.2.4)\r\n",
      "Requirement already satisfied: packaging in /opt/conda/lib/python3.7/site-packages (from cudf) (21.3)\r\n",
      "Requirement already satisfied: cupy-cuda110 in /opt/conda/lib/python3.7/site-packages (from cudf) (10.2.0)\r\n",
      "Requirement already satisfied: llvmlite<0.38,>=0.37.0rc1 in /opt/conda/lib/python3.7/site-packages (from numba>=0.53.1->cudf) (0.37.0)\r\n",
      "Requirement already satisfied: setuptools in /opt/conda/lib/python3.7/site-packages (from numba>=0.53.1->cudf) (59.5.0)\r\n",
      "Requirement already satisfied: python-dateutil>=2.7.3 in /opt/conda/lib/python3.7/site-packages (from pandas<1.4.0dev0,>=1.0->cudf) (2.8.2)\r\n",
      "Requirement already satisfied: pytz>=2017.3 in /opt/conda/lib/python3.7/site-packages (from pandas<1.4.0dev0,>=1.0->cudf) (2021.3)\r\n",
      "Requirement already satisfied: fastrlock>=0.5 in /opt/conda/lib/python3.7/site-packages (from cupy-cuda110->cudf) (0.8)\r\n",
      "Requirement already satisfied: pyparsing!=3.0.5,>=2.0.2 in /opt/conda/lib/python3.7/site-packages (from packaging->cudf) (3.0.6)\r\n",
      "Requirement already satisfied: six>=1.5 in /opt/conda/lib/python3.7/site-packages (from python-dateutil>=2.7.3->pandas<1.4.0dev0,>=1.0->cudf) (1.16.0)\r\n",
      "\u001b[33mWARNING: Running pip as the 'root' user can result in broken permissions and conflicting behaviour with the system package manager. It is recommended to use a virtual environment instead: https://pip.pypa.io/warnings/venv\u001b[0m\r\n"
     ]
    }
   ],
   "source": [
    "!pip install cudf\n",
    "import numpy as np\n",
    "import pandas as pd \n",
    "from datetime import datetime, timedelta\n",
    "import gc\n",
    "import cudf\n",
    "import cv2, matplotlib.pyplot as plt\n",
    "from os.path import exists"
   ]
  },
  {
   "cell_type": "code",
   "execution_count": 55,
   "id": "7c3b82c1",
   "metadata": {
    "execution": {
     "iopub.execute_input": "2022-03-27T15:18:21.420142Z",
     "iopub.status.busy": "2022-03-27T15:18:21.419298Z",
     "iopub.status.idle": "2022-03-27T15:18:21.421816Z",
     "shell.execute_reply": "2022-03-27T15:18:21.421402Z",
     "shell.execute_reply.started": "2022-03-27T14:18:16.484184Z"
    },
    "papermill": {
     "duration": 0.150384,
     "end_time": "2022-03-27T15:18:21.421950",
     "exception": false,
     "start_time": "2022-03-27T15:18:21.271566",
     "status": "completed"
    },
    "tags": []
   },
   "outputs": [],
   "source": [
    "# # LOAD TRANSACTIONS DATAFRAME\n",
    "# df = cudf.read_csv('../input/h-and-m-personalized-fashion-recommendations/transactions_train.csv')\n",
    "# print('Transactions shape',df.shape)\n",
    "# display( df.head() )\n",
    "\n",
    "# # REDUCE MEMORY OF DATAFRAME\n",
    "# df = df[['t_dat','customer_id','article_id']]\n",
    "# df.customer_id = df.customer_id.str[-16:].str.hex_to_int().astype('int64')\n",
    "# df.article_id = df.article_id.astype('int32')\n",
    "# df.t_dat = cudf.to_datetime(df.t_dat)\n",
    "# _ = gc.collect()"
   ]
  },
  {
   "cell_type": "code",
   "execution_count": 56,
   "id": "9a54a37d",
   "metadata": {
    "execution": {
     "iopub.execute_input": "2022-03-27T15:18:21.694630Z",
     "iopub.status.busy": "2022-03-27T15:18:21.693828Z",
     "iopub.status.idle": "2022-03-27T15:18:21.700277Z",
     "shell.execute_reply": "2022-03-27T15:18:21.699799Z",
     "shell.execute_reply.started": "2022-03-27T14:18:16.489484Z"
    },
    "papermill": {
     "duration": 0.143769,
     "end_time": "2022-03-27T15:18:21.700392",
     "exception": false,
     "start_time": "2022-03-27T15:18:21.556623",
     "status": "completed"
    },
    "tags": []
   },
   "outputs": [],
   "source": [
    "df = train.copy()"
   ]
  },
  {
   "cell_type": "code",
   "execution_count": 57,
   "id": "78c899f5",
   "metadata": {
    "execution": {
     "iopub.execute_input": "2022-03-27T15:18:21.972143Z",
     "iopub.status.busy": "2022-03-27T15:18:21.971599Z",
     "iopub.status.idle": "2022-03-27T15:18:24.497433Z",
     "shell.execute_reply": "2022-03-27T15:18:24.497898Z",
     "shell.execute_reply.started": "2022-03-27T14:18:16.506800Z"
    },
    "papermill": {
     "duration": 2.665254,
     "end_time": "2022-03-27T15:18:24.498112",
     "exception": false,
     "start_time": "2022-03-27T15:18:21.832858",
     "status": "completed"
    },
    "tags": []
   },
   "outputs": [],
   "source": [
    "customer = cudf.read_csv('../input/h-and-m-personalized-fashion-recommendations/customers.csv')\n",
    "customer.customer_id = customer.customer_id.str[-16:].str.hex_to_int().astype('int64')"
   ]
  },
  {
   "cell_type": "code",
   "execution_count": 58,
   "id": "b90fa25f",
   "metadata": {
    "execution": {
     "iopub.execute_input": "2022-03-27T15:18:24.797316Z",
     "iopub.status.busy": "2022-03-27T15:18:24.796518Z",
     "iopub.status.idle": "2022-03-27T15:18:25.062297Z",
     "shell.execute_reply": "2022-03-27T15:18:25.062768Z",
     "shell.execute_reply.started": "2022-03-27T14:18:19.176171Z"
    },
    "papermill": {
     "duration": 0.416071,
     "end_time": "2022-03-27T15:18:25.062935",
     "exception": false,
     "start_time": "2022-03-27T15:18:24.646864",
     "status": "completed"
    },
    "tags": []
   },
   "outputs": [],
   "source": [
    "sales = cudf.merge(df, customer, on = \"customer_id\", how = 'left')\n",
    "sales = sales[sales.t_dat >= Date_week2]"
   ]
  },
  {
   "cell_type": "code",
   "execution_count": 59,
   "id": "6111374f",
   "metadata": {
    "execution": {
     "iopub.execute_input": "2022-03-27T15:18:25.334569Z",
     "iopub.status.busy": "2022-03-27T15:18:25.333868Z",
     "iopub.status.idle": "2022-03-27T15:18:25.351852Z",
     "shell.execute_reply": "2022-03-27T15:18:25.351455Z",
     "shell.execute_reply.started": "2022-03-27T14:18:19.448573Z"
    },
    "papermill": {
     "duration": 0.154355,
     "end_time": "2022-03-27T15:18:25.352010",
     "exception": false,
     "start_time": "2022-03-27T15:18:25.197655",
     "status": "completed"
    },
    "tags": []
   },
   "outputs": [],
   "source": [
    "sales = sales.fillna(0)"
   ]
  },
  {
   "cell_type": "code",
   "execution_count": 60,
   "id": "aa7d1c7a",
   "metadata": {
    "execution": {
     "iopub.execute_input": "2022-03-27T15:18:25.623571Z",
     "iopub.status.busy": "2022-03-27T15:18:25.622792Z",
     "iopub.status.idle": "2022-03-27T15:18:25.936836Z",
     "shell.execute_reply": "2022-03-27T15:18:25.937317Z",
     "shell.execute_reply.started": "2022-03-27T14:18:19.537308Z"
    },
    "papermill": {
     "duration": 0.452391,
     "end_time": "2022-03-27T15:18:25.937513",
     "exception": false,
     "start_time": "2022-03-27T15:18:25.485122",
     "status": "completed"
    },
    "tags": []
   },
   "outputs": [
    {
     "data": {
      "text/plain": [
       "<AxesSubplot:>"
      ]
     },
     "execution_count": 60,
     "metadata": {},
     "output_type": "execute_result"
    },
    {
     "data": {
      "image/png": "[encoded data removed]",
      "text/plain": [
       "<Figure size 432x288 with 1 Axes>"
      ]
     },
     "metadata": {
      "needs_background": "light"
     },
     "output_type": "display_data"
    }
   ],
   "source": [
    "sales.to_pandas()[\"age\"].hist()"
   ]
  },
  {
   "cell_type": "code",
   "execution_count": 61,
   "id": "a7b0562a",
   "metadata": {
    "execution": {
     "iopub.execute_input": "2022-03-27T15:18:26.223903Z",
     "iopub.status.busy": "2022-03-27T15:18:26.223101Z",
     "iopub.status.idle": "2022-03-27T15:18:26.296779Z",
     "shell.execute_reply": "2022-03-27T15:18:26.297209Z",
     "shell.execute_reply.started": "2022-03-27T14:18:19.873202Z"
    },
    "papermill": {
     "duration": 0.225263,
     "end_time": "2022-03-27T15:18:26.297366",
     "exception": false,
     "start_time": "2022-03-27T15:18:26.072103",
     "status": "completed"
    },
    "tags": []
   },
   "outputs": [
    {
     "data": {
      "text/html": [
       "<div>\n",
       "<style scoped>\n",
       "    .dataframe tbody tr th:only-of-type {\n",
       "        vertical-align: middle;\n",
       "    }\n",
       "\n",
       "    .dataframe tbody tr th {\n",
       "        vertical-align: top;\n",
       "    }\n",
       "\n",
       "    .dataframe thead th {\n",
       "        text-align: right;\n",
       "    }\n",
       "</style>\n",
       "<table border=\"1\" class=\"dataframe\">\n",
       "  <thead>\n",
       "    <tr style=\"text-align: right;\">\n",
       "      <th></th>\n",
       "      <th>t_dat</th>\n",
       "      <th>customer_id</th>\n",
       "      <th>article_id</th>\n",
       "      <th>price</th>\n",
       "      <th>sales_channel_id</th>\n",
       "      <th>FN</th>\n",
       "      <th>Active</th>\n",
       "      <th>club_member_status</th>\n",
       "      <th>fashion_news_frequency</th>\n",
       "      <th>age</th>\n",
       "      <th>postal_code</th>\n",
       "    </tr>\n",
       "  </thead>\n",
       "  <tbody>\n",
       "    <tr>\n",
       "      <th>31269184</th>\n",
       "      <td>2020-09-09</td>\n",
       "      <td>-2156777441294618063</td>\n",
       "      <td>685814005</td>\n",
       "      <td>0.033881</td>\n",
       "      <td>2</td>\n",
       "      <td>1.0</td>\n",
       "      <td>1.0</td>\n",
       "      <td>ACTIVE</td>\n",
       "      <td>Regularly</td>\n",
       "      <td>29.0</td>\n",
       "      <td>17d0433ebad432976929d99192315d2479bfb7696af1d2...</td>\n",
       "    </tr>\n",
       "    <tr>\n",
       "      <th>31269185</th>\n",
       "      <td>2020-09-09</td>\n",
       "      <td>-6489422566283592999</td>\n",
       "      <td>865240002</td>\n",
       "      <td>0.008458</td>\n",
       "      <td>1</td>\n",
       "      <td>0.0</td>\n",
       "      <td>0.0</td>\n",
       "      <td>ACTIVE</td>\n",
       "      <td>NONE</td>\n",
       "      <td>27.0</td>\n",
       "      <td>09b4c331056fc94bc83a021f44470ea9e859209123e09f...</td>\n",
       "    </tr>\n",
       "    <tr>\n",
       "      <th>31269186</th>\n",
       "      <td>2020-09-09</td>\n",
       "      <td>-7761469595989510297</td>\n",
       "      <td>868641002</td>\n",
       "      <td>0.033881</td>\n",
       "      <td>2</td>\n",
       "      <td>1.0</td>\n",
       "      <td>1.0</td>\n",
       "      <td>ACTIVE</td>\n",
       "      <td>Regularly</td>\n",
       "      <td>22.0</td>\n",
       "      <td>64c420881b31267fd17d03e2aafac8e9ef0bae5a115446...</td>\n",
       "    </tr>\n",
       "    <tr>\n",
       "      <th>31269187</th>\n",
       "      <td>2020-09-09</td>\n",
       "      <td>-2912203858579140439</td>\n",
       "      <td>867966010</td>\n",
       "      <td>0.033881</td>\n",
       "      <td>2</td>\n",
       "      <td>1.0</td>\n",
       "      <td>1.0</td>\n",
       "      <td>ACTIVE</td>\n",
       "      <td>Regularly</td>\n",
       "      <td>24.0</td>\n",
       "      <td>e42c4f19dc1b95b82eae4d77106924e07fef6c5c1dd4c3...</td>\n",
       "    </tr>\n",
       "    <tr>\n",
       "      <th>31269188</th>\n",
       "      <td>2020-09-09</td>\n",
       "      <td>-2156777441294618063</td>\n",
       "      <td>896343002</td>\n",
       "      <td>0.033881</td>\n",
       "      <td>2</td>\n",
       "      <td>1.0</td>\n",
       "      <td>1.0</td>\n",
       "      <td>ACTIVE</td>\n",
       "      <td>Regularly</td>\n",
       "      <td>29.0</td>\n",
       "      <td>17d0433ebad432976929d99192315d2479bfb7696af1d2...</td>\n",
       "    </tr>\n",
       "    <tr>\n",
       "      <th>...</th>\n",
       "      <td>...</td>\n",
       "      <td>...</td>\n",
       "      <td>...</td>\n",
       "      <td>...</td>\n",
       "      <td>...</td>\n",
       "      <td>...</td>\n",
       "      <td>...</td>\n",
       "      <td>...</td>\n",
       "      <td>...</td>\n",
       "      <td>...</td>\n",
       "      <td>...</td>\n",
       "    </tr>\n",
       "    <tr>\n",
       "      <th>31548008</th>\n",
       "      <td>2020-09-15</td>\n",
       "      <td>-6521564533676018307</td>\n",
       "      <td>759465001</td>\n",
       "      <td>0.011847</td>\n",
       "      <td>2</td>\n",
       "      <td>0.0</td>\n",
       "      <td>0.0</td>\n",
       "      <td>ACTIVE</td>\n",
       "      <td>NONE</td>\n",
       "      <td>24.0</td>\n",
       "      <td>d778c905dceea9151a221ca412bfdc1f112b7de1993d18...</td>\n",
       "    </tr>\n",
       "    <tr>\n",
       "      <th>31548009</th>\n",
       "      <td>2020-09-15</td>\n",
       "      <td>6169355572308241019</td>\n",
       "      <td>829145007</td>\n",
       "      <td>0.013542</td>\n",
       "      <td>2</td>\n",
       "      <td>0.0</td>\n",
       "      <td>0.0</td>\n",
       "      <td>ACTIVE</td>\n",
       "      <td>NONE</td>\n",
       "      <td>23.0</td>\n",
       "      <td>2019eb8b1d58ccbf6e90138a3ecac7304cbb956175a652...</td>\n",
       "    </tr>\n",
       "    <tr>\n",
       "      <th>31548010</th>\n",
       "      <td>2020-09-15</td>\n",
       "      <td>-8713035817930686927</td>\n",
       "      <td>791587018</td>\n",
       "      <td>0.021593</td>\n",
       "      <td>1</td>\n",
       "      <td>0.0</td>\n",
       "      <td>0.0</td>\n",
       "      <td>ACTIVE</td>\n",
       "      <td>NONE</td>\n",
       "      <td>54.0</td>\n",
       "      <td>581576197823db759eee6a32c1ebafb26be7f4532ea866...</td>\n",
       "    </tr>\n",
       "    <tr>\n",
       "      <th>31548011</th>\n",
       "      <td>2020-09-15</td>\n",
       "      <td>7080672107828332890</td>\n",
       "      <td>923758001</td>\n",
       "      <td>0.033881</td>\n",
       "      <td>2</td>\n",
       "      <td>0.0</td>\n",
       "      <td>0.0</td>\n",
       "      <td>ACTIVE</td>\n",
       "      <td>NONE</td>\n",
       "      <td>27.0</td>\n",
       "      <td>b742e4e62b33623a7679c6af309890d4bfca17330d3f72...</td>\n",
       "    </tr>\n",
       "    <tr>\n",
       "      <th>31548012</th>\n",
       "      <td>2020-09-15</td>\n",
       "      <td>-6521564533676018307</td>\n",
       "      <td>762846008</td>\n",
       "      <td>0.025407</td>\n",
       "      <td>2</td>\n",
       "      <td>0.0</td>\n",
       "      <td>0.0</td>\n",
       "      <td>ACTIVE</td>\n",
       "      <td>NONE</td>\n",
       "      <td>24.0</td>\n",
       "      <td>d778c905dceea9151a221ca412bfdc1f112b7de1993d18...</td>\n",
       "    </tr>\n",
       "  </tbody>\n",
       "</table>\n",
       "<p>255241 rows × 11 columns</p>\n",
       "</div>"
      ],
      "text/plain": [
       "              t_dat          customer_id  article_id     price  \\\n",
       "31269184 2020-09-09 -2156777441294618063   685814005  0.033881   \n",
       "31269185 2020-09-09 -6489422566283592999   865240002  0.008458   \n",
       "31269186 2020-09-09 -7761469595989510297   868641002  0.033881   \n",
       "31269187 2020-09-09 -2912203858579140439   867966010  0.033881   \n",
       "31269188 2020-09-09 -2156777441294618063   896343002  0.033881   \n",
       "...             ...                  ...         ...       ...   \n",
       "31548008 2020-09-15 -6521564533676018307   759465001  0.011847   \n",
       "31548009 2020-09-15  6169355572308241019   829145007  0.013542   \n",
       "31548010 2020-09-15 -8713035817930686927   791587018  0.021593   \n",
       "31548011 2020-09-15  7080672107828332890   923758001  0.033881   \n",
       "31548012 2020-09-15 -6521564533676018307   762846008  0.025407   \n",
       "\n",
       "          sales_channel_id   FN  Active club_member_status  \\\n",
       "31269184                 2  1.0     1.0             ACTIVE   \n",
       "31269185                 1  0.0     0.0             ACTIVE   \n",
       "31269186                 2  1.0     1.0             ACTIVE   \n",
       "31269187                 2  1.0     1.0             ACTIVE   \n",
       "31269188                 2  1.0     1.0             ACTIVE   \n",
       "...                    ...  ...     ...                ...   \n",
       "31548008                 2  0.0     0.0             ACTIVE   \n",
       "31548009                 2  0.0     0.0             ACTIVE   \n",
       "31548010                 1  0.0     0.0             ACTIVE   \n",
       "31548011                 2  0.0     0.0             ACTIVE   \n",
       "31548012                 2  0.0     0.0             ACTIVE   \n",
       "\n",
       "         fashion_news_frequency   age  \\\n",
       "31269184              Regularly  29.0   \n",
       "31269185                   NONE  27.0   \n",
       "31269186              Regularly  22.0   \n",
       "31269187              Regularly  24.0   \n",
       "31269188              Regularly  29.0   \n",
       "...                         ...   ...   \n",
       "31548008                   NONE  24.0   \n",
       "31548009                   NONE  23.0   \n",
       "31548010                   NONE  54.0   \n",
       "31548011                   NONE  27.0   \n",
       "31548012                   NONE  24.0   \n",
       "\n",
       "                                                postal_code  \n",
       "31269184  17d0433ebad432976929d99192315d2479bfb7696af1d2...  \n",
       "31269185  09b4c331056fc94bc83a021f44470ea9e859209123e09f...  \n",
       "31269186  64c420881b31267fd17d03e2aafac8e9ef0bae5a115446...  \n",
       "31269187  e42c4f19dc1b95b82eae4d77106924e07fef6c5c1dd4c3...  \n",
       "31269188  17d0433ebad432976929d99192315d2479bfb7696af1d2...  \n",
       "...                                                     ...  \n",
       "31548008  d778c905dceea9151a221ca412bfdc1f112b7de1993d18...  \n",
       "31548009  2019eb8b1d58ccbf6e90138a3ecac7304cbb956175a652...  \n",
       "31548010  581576197823db759eee6a32c1ebafb26be7f4532ea866...  \n",
       "31548011  b742e4e62b33623a7679c6af309890d4bfca17330d3f72...  \n",
       "31548012  d778c905dceea9151a221ca412bfdc1f112b7de1993d18...  \n",
       "\n",
       "[255241 rows x 11 columns]"
      ]
     },
     "execution_count": 61,
     "metadata": {},
     "output_type": "execute_result"
    }
   ],
   "source": [
    "sales"
   ]
  },
  {
   "cell_type": "code",
   "execution_count": 62,
   "id": "96556d79",
   "metadata": {
    "execution": {
     "iopub.execute_input": "2022-03-27T15:18:26.572633Z",
     "iopub.status.busy": "2022-03-27T15:18:26.571822Z",
     "iopub.status.idle": "2022-03-27T15:18:26.591789Z",
     "shell.execute_reply": "2022-03-27T15:18:26.591358Z",
     "shell.execute_reply.started": "2022-03-27T14:18:19.966548Z"
    },
    "papermill": {
     "duration": 0.16036,
     "end_time": "2022-03-27T15:18:26.591903",
     "exception": false,
     "start_time": "2022-03-27T15:18:26.431543",
     "status": "completed"
    },
    "tags": []
   },
   "outputs": [],
   "source": [
    "target_sales = sales[[\"article_id\", \"customer_id\"]].groupby('article_id')[\"customer_id\"].count()\n",
    "general_pred = target_sales.nlargest(N, keep = \"first\").index.to_pandas().tolist()\n",
    "general_pred = ['0' + str(article_id) for article_id in general_pred]\n",
    "general_pred_str =  ' '.join(general_pred)\n",
    "del target_sales"
   ]
  },
  {
   "cell_type": "code",
   "execution_count": 63,
   "id": "aae9d131",
   "metadata": {
    "execution": {
     "iopub.execute_input": "2022-03-27T15:18:26.865027Z",
     "iopub.status.busy": "2022-03-27T15:18:26.864346Z",
     "iopub.status.idle": "2022-03-27T15:18:26.867110Z",
     "shell.execute_reply": "2022-03-27T15:18:26.867533Z",
     "shell.execute_reply.started": "2022-03-27T14:18:19.992691Z"
    },
    "papermill": {
     "duration": 0.141027,
     "end_time": "2022-03-27T15:18:26.867659",
     "exception": false,
     "start_time": "2022-03-27T15:18:26.726632",
     "status": "completed"
    },
    "tags": []
   },
   "outputs": [
    {
     "data": {
      "text/plain": [
       "'0909370001 0865799006 0918522001 0924243001 0448509014 0751471001 0809238001 0918292001 0762846027 0809238005 0673677002 0923758001'"
      ]
     },
     "execution_count": 63,
     "metadata": {},
     "output_type": "execute_result"
    }
   ],
   "source": [
    "general_pred_str"
   ]
  },
  {
   "cell_type": "code",
   "execution_count": 64,
   "id": "3eb12fa6",
   "metadata": {
    "execution": {
     "iopub.execute_input": "2022-03-27T15:18:27.144571Z",
     "iopub.status.busy": "2022-03-27T15:18:27.143003Z",
     "iopub.status.idle": "2022-03-27T15:18:27.145165Z",
     "shell.execute_reply": "2022-03-27T15:18:27.145572Z",
     "shell.execute_reply.started": "2022-03-27T14:18:20.002006Z"
    },
    "papermill": {
     "duration": 0.141542,
     "end_time": "2022-03-27T15:18:27.145698",
     "exception": false,
     "start_time": "2022-03-27T15:18:27.004156",
     "status": "completed"
    },
    "tags": []
   },
   "outputs": [],
   "source": [
    "#sales.age = sales.age.astype(\"float32\")"
   ]
  },
  {
   "cell_type": "code",
   "execution_count": 65,
   "id": "a0ca6465",
   "metadata": {
    "execution": {
     "iopub.execute_input": "2022-03-27T15:18:27.419610Z",
     "iopub.status.busy": "2022-03-27T15:18:27.418855Z",
     "iopub.status.idle": "2022-03-27T15:18:27.512248Z",
     "shell.execute_reply": "2022-03-27T15:18:27.511707Z",
     "shell.execute_reply.started": "2022-03-27T14:18:20.007606Z"
    },
    "papermill": {
     "duration": 0.232774,
     "end_time": "2022-03-27T15:18:27.512395",
     "exception": false,
     "start_time": "2022-03-27T15:18:27.279621",
     "status": "completed"
    },
    "tags": []
   },
   "outputs": [],
   "source": [
    "age_type = pd.cut(sales.to_pandas()[\"age\"], bins = np.array([0, 21, 24, 27, 30, 35, 40, 45, 50, 60, 100], dtype = \"int32\"), right = True)"
   ]
  },
  {
   "cell_type": "code",
   "execution_count": 66,
   "id": "c3ca54f3",
   "metadata": {
    "execution": {
     "iopub.execute_input": "2022-03-27T15:18:27.787901Z",
     "iopub.status.busy": "2022-03-27T15:18:27.787088Z",
     "iopub.status.idle": "2022-03-27T15:18:28.885127Z",
     "shell.execute_reply": "2022-03-27T15:18:28.884245Z",
     "shell.execute_reply.started": "2022-03-27T14:18:20.098214Z"
    },
    "papermill": {
     "duration": 1.236584,
     "end_time": "2022-03-27T15:18:28.885262",
     "exception": false,
     "start_time": "2022-03-27T15:18:27.648678",
     "status": "completed"
    },
    "tags": []
   },
   "outputs": [],
   "source": [
    "sales[\"age_type\"] = age_type.astype(\"string\")"
   ]
  },
  {
   "cell_type": "code",
   "execution_count": 67,
   "id": "417dd8dd",
   "metadata": {
    "execution": {
     "iopub.execute_input": "2022-03-27T15:18:29.164710Z",
     "iopub.status.busy": "2022-03-27T15:18:29.163830Z",
     "iopub.status.idle": "2022-03-27T15:18:29.178382Z",
     "shell.execute_reply": "2022-03-27T15:18:29.177942Z",
     "shell.execute_reply.started": "2022-03-27T14:18:21.217856Z"
    },
    "papermill": {
     "duration": 0.15568,
     "end_time": "2022-03-27T15:18:29.178501",
     "exception": false,
     "start_time": "2022-03-27T15:18:29.022821",
     "status": "completed"
    },
    "tags": []
   },
   "outputs": [],
   "source": [
    "summary = sales.groupby([\"fashion_news_frequency\", \"age_type\", \"article_id\"])[\"postal_code\"].count().\\\n",
    "reset_index().rename({\"postal_code\":\"count\"}, axis = 1)"
   ]
  },
  {
   "cell_type": "code",
   "execution_count": 68,
   "id": "8657411e",
   "metadata": {
    "execution": {
     "iopub.execute_input": "2022-03-27T15:18:29.453709Z",
     "iopub.status.busy": "2022-03-27T15:18:29.452887Z",
     "iopub.status.idle": "2022-03-27T15:18:29.511700Z",
     "shell.execute_reply": "2022-03-27T15:18:29.512144Z",
     "shell.execute_reply.started": "2022-03-27T14:18:21.238997Z"
    },
    "papermill": {
     "duration": 0.198144,
     "end_time": "2022-03-27T15:18:29.512300",
     "exception": false,
     "start_time": "2022-03-27T15:18:29.314156",
     "status": "completed"
    },
    "tags": []
   },
   "outputs": [
    {
     "data": {
      "text/html": [
       "<div>\n",
       "<style scoped>\n",
       "    .dataframe tbody tr th:only-of-type {\n",
       "        vertical-align: middle;\n",
       "    }\n",
       "\n",
       "    .dataframe tbody tr th {\n",
       "        vertical-align: top;\n",
       "    }\n",
       "\n",
       "    .dataframe thead th {\n",
       "        text-align: right;\n",
       "    }\n",
       "</style>\n",
       "<table border=\"1\" class=\"dataframe\">\n",
       "  <thead>\n",
       "    <tr style=\"text-align: right;\">\n",
       "      <th></th>\n",
       "      <th>fashion_news_frequency</th>\n",
       "      <th>age_type</th>\n",
       "      <th>article_id</th>\n",
       "      <th>count</th>\n",
       "    </tr>\n",
       "  </thead>\n",
       "  <tbody>\n",
       "    <tr>\n",
       "      <th>2</th>\n",
       "      <td>NONE</td>\n",
       "      <td>(24.0, 27.0]</td>\n",
       "      <td>675070013</td>\n",
       "      <td>1</td>\n",
       "    </tr>\n",
       "    <tr>\n",
       "      <th>3</th>\n",
       "      <td>NONE</td>\n",
       "      <td>(24.0, 27.0]</td>\n",
       "      <td>781135004</td>\n",
       "      <td>1</td>\n",
       "    </tr>\n",
       "    <tr>\n",
       "      <th>4</th>\n",
       "      <td>Regularly</td>\n",
       "      <td>(40.0, 45.0]</td>\n",
       "      <td>919160001</td>\n",
       "      <td>1</td>\n",
       "    </tr>\n",
       "    <tr>\n",
       "      <th>6</th>\n",
       "      <td>Regularly</td>\n",
       "      <td>(0.0, 21.0]</td>\n",
       "      <td>862325004</td>\n",
       "      <td>1</td>\n",
       "    </tr>\n",
       "    <tr>\n",
       "      <th>7</th>\n",
       "      <td>NONE</td>\n",
       "      <td>(45.0, 50.0]</td>\n",
       "      <td>874547004</td>\n",
       "      <td>1</td>\n",
       "    </tr>\n",
       "    <tr>\n",
       "      <th>...</th>\n",
       "      <td>...</td>\n",
       "      <td>...</td>\n",
       "      <td>...</td>\n",
       "      <td>...</td>\n",
       "    </tr>\n",
       "    <tr>\n",
       "      <th>2635</th>\n",
       "      <td>Regularly</td>\n",
       "      <td>(21.0, 24.0]</td>\n",
       "      <td>909370001</td>\n",
       "      <td>112</td>\n",
       "    </tr>\n",
       "    <tr>\n",
       "      <th>67196</th>\n",
       "      <td>NONE</td>\n",
       "      <td>(21.0, 24.0]</td>\n",
       "      <td>909370001</td>\n",
       "      <td>114</td>\n",
       "    </tr>\n",
       "    <tr>\n",
       "      <th>76967</th>\n",
       "      <td>NONE</td>\n",
       "      <td>(27.0, 30.0]</td>\n",
       "      <td>909370001</td>\n",
       "      <td>114</td>\n",
       "    </tr>\n",
       "    <tr>\n",
       "      <th>86330</th>\n",
       "      <td>Regularly</td>\n",
       "      <td>(24.0, 27.0]</td>\n",
       "      <td>909370001</td>\n",
       "      <td>117</td>\n",
       "    </tr>\n",
       "    <tr>\n",
       "      <th>1906</th>\n",
       "      <td>NONE</td>\n",
       "      <td>(24.0, 27.0]</td>\n",
       "      <td>909370001</td>\n",
       "      <td>139</td>\n",
       "    </tr>\n",
       "  </tbody>\n",
       "</table>\n",
       "<p>94093 rows × 4 columns</p>\n",
       "</div>"
      ],
      "text/plain": [
       "      fashion_news_frequency      age_type  article_id  count\n",
       "2                       NONE  (24.0, 27.0]   675070013      1\n",
       "3                       NONE  (24.0, 27.0]   781135004      1\n",
       "4                  Regularly  (40.0, 45.0]   919160001      1\n",
       "6                  Regularly   (0.0, 21.0]   862325004      1\n",
       "7                       NONE  (45.0, 50.0]   874547004      1\n",
       "...                      ...           ...         ...    ...\n",
       "2635               Regularly  (21.0, 24.0]   909370001    112\n",
       "67196                   NONE  (21.0, 24.0]   909370001    114\n",
       "76967                   NONE  (27.0, 30.0]   909370001    114\n",
       "86330              Regularly  (24.0, 27.0]   909370001    117\n",
       "1906                    NONE  (24.0, 27.0]   909370001    139\n",
       "\n",
       "[94093 rows x 4 columns]"
      ]
     },
     "execution_count": 68,
     "metadata": {},
     "output_type": "execute_result"
    }
   ],
   "source": [
    "summary.sort_values(by = [\"count\"])"
   ]
  },
  {
   "cell_type": "code",
   "execution_count": 69,
   "id": "e2918354",
   "metadata": {
    "execution": {
     "iopub.execute_input": "2022-03-27T15:18:29.789096Z",
     "iopub.status.busy": "2022-03-27T15:18:29.788340Z",
     "iopub.status.idle": "2022-03-27T15:18:29.820381Z",
     "shell.execute_reply": "2022-03-27T15:18:29.819939Z",
     "shell.execute_reply.started": "2022-03-27T14:18:21.300582Z"
    },
    "papermill": {
     "duration": 0.171772,
     "end_time": "2022-03-27T15:18:29.820498",
     "exception": false,
     "start_time": "2022-03-27T15:18:29.648726",
     "status": "completed"
    },
    "tags": []
   },
   "outputs": [],
   "source": [
    "summary[\"total_count\"] = summary.to_pandas().groupby([\"fashion_news_frequency\", \"age_type\"])[\"count\"].transform(sum)"
   ]
  },
  {
   "cell_type": "code",
   "execution_count": 70,
   "id": "b4951a28",
   "metadata": {
    "execution": {
     "iopub.execute_input": "2022-03-27T15:18:30.100524Z",
     "iopub.status.busy": "2022-03-27T15:18:30.099293Z",
     "iopub.status.idle": "2022-03-27T15:18:30.102043Z",
     "shell.execute_reply": "2022-03-27T15:18:30.101616Z",
     "shell.execute_reply.started": "2022-03-27T14:18:21.335938Z"
    },
    "papermill": {
     "duration": 0.146058,
     "end_time": "2022-03-27T15:18:30.102159",
     "exception": false,
     "start_time": "2022-03-27T15:18:29.956101",
     "status": "completed"
    },
    "tags": []
   },
   "outputs": [],
   "source": [
    "summary[\"score\"] = summary[\"count\"]/summary[\"total_count\"]"
   ]
  },
  {
   "cell_type": "code",
   "execution_count": 71,
   "id": "f82632a0",
   "metadata": {
    "execution": {
     "iopub.execute_input": "2022-03-27T15:18:30.377060Z",
     "iopub.status.busy": "2022-03-27T15:18:30.375475Z",
     "iopub.status.idle": "2022-03-27T15:18:30.377700Z",
     "shell.execute_reply": "2022-03-27T15:18:30.378126Z",
     "shell.execute_reply.started": "2022-03-27T14:18:21.345125Z"
    },
    "papermill": {
     "duration": 0.141251,
     "end_time": "2022-03-27T15:18:30.378258",
     "exception": false,
     "start_time": "2022-03-27T15:18:30.237007",
     "status": "completed"
    },
    "tags": []
   },
   "outputs": [],
   "source": [
    "summary = cudf.DataFrame(summary)"
   ]
  },
  {
   "cell_type": "code",
   "execution_count": 72,
   "id": "3e525a2e",
   "metadata": {
    "execution": {
     "iopub.execute_input": "2022-03-27T15:18:30.667774Z",
     "iopub.status.busy": "2022-03-27T15:18:30.667007Z",
     "iopub.status.idle": "2022-03-27T15:18:30.730036Z",
     "shell.execute_reply": "2022-03-27T15:18:30.730450Z",
     "shell.execute_reply.started": "2022-03-27T14:18:21.351367Z"
    },
    "papermill": {
     "duration": 0.216301,
     "end_time": "2022-03-27T15:18:30.730580",
     "exception": false,
     "start_time": "2022-03-27T15:18:30.514279",
     "status": "completed"
    },
    "tags": []
   },
   "outputs": [
    {
     "data": {
      "text/html": [
       "<div>\n",
       "<style scoped>\n",
       "    .dataframe tbody tr th:only-of-type {\n",
       "        vertical-align: middle;\n",
       "    }\n",
       "\n",
       "    .dataframe tbody tr th {\n",
       "        vertical-align: top;\n",
       "    }\n",
       "\n",
       "    .dataframe thead th {\n",
       "        text-align: right;\n",
       "    }\n",
       "</style>\n",
       "<table border=\"1\" class=\"dataframe\">\n",
       "  <thead>\n",
       "    <tr style=\"text-align: right;\">\n",
       "      <th></th>\n",
       "      <th>fashion_news_frequency</th>\n",
       "      <th>age_type</th>\n",
       "      <th>article_id</th>\n",
       "      <th>count</th>\n",
       "      <th>total_count</th>\n",
       "      <th>score</th>\n",
       "    </tr>\n",
       "  </thead>\n",
       "  <tbody>\n",
       "    <tr>\n",
       "      <th>70560</th>\n",
       "      <td>NONE</td>\n",
       "      <td>(30.0, 35.0]</td>\n",
       "      <td>108775044</td>\n",
       "      <td>1</td>\n",
       "      <td>16446</td>\n",
       "      <td>0.000061</td>\n",
       "    </tr>\n",
       "    <tr>\n",
       "      <th>92656</th>\n",
       "      <td>NONE</td>\n",
       "      <td>(50.0, 60.0]</td>\n",
       "      <td>108775044</td>\n",
       "      <td>2</td>\n",
       "      <td>17777</td>\n",
       "      <td>0.000113</td>\n",
       "    </tr>\n",
       "    <tr>\n",
       "      <th>18045</th>\n",
       "      <td>NONE</td>\n",
       "      <td>(45.0, 50.0]</td>\n",
       "      <td>111565001</td>\n",
       "      <td>1</td>\n",
       "      <td>12402</td>\n",
       "      <td>0.000081</td>\n",
       "    </tr>\n",
       "    <tr>\n",
       "      <th>28623</th>\n",
       "      <td>Regularly</td>\n",
       "      <td>(24.0, 27.0]</td>\n",
       "      <td>111565001</td>\n",
       "      <td>1</td>\n",
       "      <td>14442</td>\n",
       "      <td>0.000069</td>\n",
       "    </tr>\n",
       "    <tr>\n",
       "      <th>66580</th>\n",
       "      <td>NONE</td>\n",
       "      <td>(40.0, 45.0]</td>\n",
       "      <td>111565001</td>\n",
       "      <td>1</td>\n",
       "      <td>8065</td>\n",
       "      <td>0.000124</td>\n",
       "    </tr>\n",
       "    <tr>\n",
       "      <th>...</th>\n",
       "      <td>...</td>\n",
       "      <td>...</td>\n",
       "      <td>...</td>\n",
       "      <td>...</td>\n",
       "      <td>...</td>\n",
       "      <td>...</td>\n",
       "    </tr>\n",
       "    <tr>\n",
       "      <th>82246</th>\n",
       "      <td>Regularly</td>\n",
       "      <td>(50.0, 60.0]</td>\n",
       "      <td>956217002</td>\n",
       "      <td>1</td>\n",
       "      <td>17613</td>\n",
       "      <td>0.000057</td>\n",
       "    </tr>\n",
       "    <tr>\n",
       "      <th>84577</th>\n",
       "      <td>Regularly</td>\n",
       "      <td>(60.0, 100.0]</td>\n",
       "      <td>956217002</td>\n",
       "      <td>1</td>\n",
       "      <td>6074</td>\n",
       "      <td>0.000165</td>\n",
       "    </tr>\n",
       "    <tr>\n",
       "      <th>88549</th>\n",
       "      <td>Regularly</td>\n",
       "      <td>(21.0, 24.0]</td>\n",
       "      <td>956217002</td>\n",
       "      <td>2</td>\n",
       "      <td>15838</td>\n",
       "      <td>0.000126</td>\n",
       "    </tr>\n",
       "    <tr>\n",
       "      <th>554</th>\n",
       "      <td>NONE</td>\n",
       "      <td>(50.0, 60.0]</td>\n",
       "      <td>956217002</td>\n",
       "      <td>3</td>\n",
       "      <td>17777</td>\n",
       "      <td>0.000169</td>\n",
       "    </tr>\n",
       "    <tr>\n",
       "      <th>46392</th>\n",
       "      <td>NONE</td>\n",
       "      <td>(45.0, 50.0]</td>\n",
       "      <td>956217002</td>\n",
       "      <td>3</td>\n",
       "      <td>12402</td>\n",
       "      <td>0.000242</td>\n",
       "    </tr>\n",
       "  </tbody>\n",
       "</table>\n",
       "<p>94093 rows × 6 columns</p>\n",
       "</div>"
      ],
      "text/plain": [
       "      fashion_news_frequency       age_type  article_id  count  total_count  \\\n",
       "70560                   NONE   (30.0, 35.0]   108775044      1        16446   \n",
       "92656                   NONE   (50.0, 60.0]   108775044      2        17777   \n",
       "18045                   NONE   (45.0, 50.0]   111565001      1        12402   \n",
       "28623              Regularly   (24.0, 27.0]   111565001      1        14442   \n",
       "66580                   NONE   (40.0, 45.0]   111565001      1         8065   \n",
       "...                      ...            ...         ...    ...          ...   \n",
       "82246              Regularly   (50.0, 60.0]   956217002      1        17613   \n",
       "84577              Regularly  (60.0, 100.0]   956217002      1         6074   \n",
       "88549              Regularly   (21.0, 24.0]   956217002      2        15838   \n",
       "554                     NONE   (50.0, 60.0]   956217002      3        17777   \n",
       "46392                   NONE   (45.0, 50.0]   956217002      3        12402   \n",
       "\n",
       "          score  \n",
       "70560  0.000061  \n",
       "92656  0.000113  \n",
       "18045  0.000081  \n",
       "28623  0.000069  \n",
       "66580  0.000124  \n",
       "...         ...  \n",
       "82246  0.000057  \n",
       "84577  0.000165  \n",
       "88549  0.000126  \n",
       "554    0.000169  \n",
       "46392  0.000242  \n",
       "\n",
       "[94093 rows x 6 columns]"
      ]
     },
     "execution_count": 72,
     "metadata": {},
     "output_type": "execute_result"
    }
   ],
   "source": [
    "summary.sort_values(by = [\"article_id\", \"count\"])"
   ]
  },
  {
   "cell_type": "code",
   "execution_count": 73,
   "id": "a034069b",
   "metadata": {
    "execution": {
     "iopub.execute_input": "2022-03-27T15:18:31.007610Z",
     "iopub.status.busy": "2022-03-27T15:18:31.006820Z",
     "iopub.status.idle": "2022-03-27T15:18:31.050473Z",
     "shell.execute_reply": "2022-03-27T15:18:31.049979Z",
     "shell.execute_reply.started": "2022-03-27T14:18:21.424282Z"
    },
    "papermill": {
     "duration": 0.184549,
     "end_time": "2022-03-27T15:18:31.050604",
     "exception": false,
     "start_time": "2022-03-27T15:18:30.866055",
     "status": "completed"
    },
    "tags": []
   },
   "outputs": [],
   "source": [
    "summary['rank'] = summary.to_pandas().groupby([\"fashion_news_frequency\", \"age_type\"])[\"score\"].rank(\"dense\", ascending=False)\n",
    "summary = summary.loc[summary['rank'] <= 12]"
   ]
  },
  {
   "cell_type": "code",
   "execution_count": 74,
   "id": "0790f9d5",
   "metadata": {
    "execution": {
     "iopub.execute_input": "2022-03-27T15:18:31.329360Z",
     "iopub.status.busy": "2022-03-27T15:18:31.328757Z",
     "iopub.status.idle": "2022-03-27T15:18:34.095554Z",
     "shell.execute_reply": "2022-03-27T15:18:34.096248Z",
     "shell.execute_reply.started": "2022-03-27T14:18:21.476072Z"
    },
    "papermill": {
     "duration": 2.906807,
     "end_time": "2022-03-27T15:18:34.096409",
     "exception": false,
     "start_time": "2022-03-27T15:18:31.189602",
     "status": "completed"
    },
    "tags": []
   },
   "outputs": [
    {
     "name": "stdout",
     "output_type": "stream",
     "text": [
      "CPU times: user 127 ms, sys: 113 ms, total: 240 ms\n",
      "Wall time: 2.76 s\n"
     ]
    }
   ],
   "source": [
    "%%time\n",
    "sub  = cudf.read_csv('../input/h-and-m-personalized-fashion-recommendations/sample_submission.csv',\n",
    "                            usecols= ['customer_id'], \n",
    "                            dtype={'customer_id': 'string'})\n",
    "\n",
    "sub['customer_id2'] = sub['customer_id'].str[-16:].str.hex_to_int().astype('int64')\n",
    "sub = sub.rename(columns = {'customer_id2':'customer_id', 'customer_id':'customer_id2'})"
   ]
  },
  {
   "cell_type": "code",
   "execution_count": 75,
   "id": "c23ab933",
   "metadata": {
    "execution": {
     "iopub.execute_input": "2022-03-27T15:18:34.488963Z",
     "iopub.status.busy": "2022-03-27T15:18:34.488122Z",
     "iopub.status.idle": "2022-03-27T15:18:34.561580Z",
     "shell.execute_reply": "2022-03-27T15:18:34.562443Z",
     "shell.execute_reply.started": "2022-03-27T14:18:24.287036Z"
    },
    "papermill": {
     "duration": 0.322334,
     "end_time": "2022-03-27T15:18:34.562642",
     "exception": false,
     "start_time": "2022-03-27T15:18:34.240308",
     "status": "completed"
    },
    "tags": []
   },
   "outputs": [
    {
     "data": {
      "text/html": [
       "<div>\n",
       "<style scoped>\n",
       "    .dataframe tbody tr th:only-of-type {\n",
       "        vertical-align: middle;\n",
       "    }\n",
       "\n",
       "    .dataframe tbody tr th {\n",
       "        vertical-align: top;\n",
       "    }\n",
       "\n",
       "    .dataframe thead th {\n",
       "        text-align: right;\n",
       "    }\n",
       "</style>\n",
       "<table border=\"1\" class=\"dataframe\">\n",
       "  <thead>\n",
       "    <tr style=\"text-align: right;\">\n",
       "      <th></th>\n",
       "      <th>customer_id2</th>\n",
       "      <th>customer_id</th>\n",
       "    </tr>\n",
       "  </thead>\n",
       "  <tbody>\n",
       "    <tr>\n",
       "      <th>0</th>\n",
       "      <td>00000dbacae5abe5e23885899a1fa44253a17956c6d1c3...</td>\n",
       "      <td>6883939031699146327</td>\n",
       "    </tr>\n",
       "    <tr>\n",
       "      <th>1</th>\n",
       "      <td>0000423b00ade91418cceaf3b26c6af3dd342b51fd051e...</td>\n",
       "      <td>-7200416642310594310</td>\n",
       "    </tr>\n",
       "    <tr>\n",
       "      <th>2</th>\n",
       "      <td>000058a12d5b43e67d225668fa1f8d618c13dc232df0ca...</td>\n",
       "      <td>-6846340800584936</td>\n",
       "    </tr>\n",
       "    <tr>\n",
       "      <th>3</th>\n",
       "      <td>00005ca1c9ed5f5146b52ac8639a40ca9d57aeff4d1bd2...</td>\n",
       "      <td>-94071612138601410</td>\n",
       "    </tr>\n",
       "    <tr>\n",
       "      <th>4</th>\n",
       "      <td>00006413d8573cd20ed7128e53b7b13819fe5cfc2d801f...</td>\n",
       "      <td>-283965518499174310</td>\n",
       "    </tr>\n",
       "    <tr>\n",
       "      <th>...</th>\n",
       "      <td>...</td>\n",
       "      <td>...</td>\n",
       "    </tr>\n",
       "    <tr>\n",
       "      <th>1371975</th>\n",
       "      <td>ffffbbf78b6eaac697a8a5dfbfd2bfa8113ee5b403e474...</td>\n",
       "      <td>7551062398649767985</td>\n",
       "    </tr>\n",
       "    <tr>\n",
       "      <th>1371976</th>\n",
       "      <td>ffffcd5046a6143d29a04fb8c424ce494a76e5cdf4fab5...</td>\n",
       "      <td>-9141402131989464905</td>\n",
       "    </tr>\n",
       "    <tr>\n",
       "      <th>1371977</th>\n",
       "      <td>ffffcf35913a0bee60e8741cb2b4e78b8a98ee5ff2e6a1...</td>\n",
       "      <td>-8286316756823862684</td>\n",
       "    </tr>\n",
       "    <tr>\n",
       "      <th>1371978</th>\n",
       "      <td>ffffd7744cebcf3aca44ae7049d2a94b87074c3d4ffe38...</td>\n",
       "      <td>2551401172826382186</td>\n",
       "    </tr>\n",
       "    <tr>\n",
       "      <th>1371979</th>\n",
       "      <td>ffffd9ac14e89946416d80e791d064701994755c3ab686...</td>\n",
       "      <td>-1516792180973952447</td>\n",
       "    </tr>\n",
       "  </tbody>\n",
       "</table>\n",
       "<p>1371980 rows × 2 columns</p>\n",
       "</div>"
      ],
      "text/plain": [
       "                                              customer_id2  \\\n",
       "0        00000dbacae5abe5e23885899a1fa44253a17956c6d1c3...   \n",
       "1        0000423b00ade91418cceaf3b26c6af3dd342b51fd051e...   \n",
       "2        000058a12d5b43e67d225668fa1f8d618c13dc232df0ca...   \n",
       "3        00005ca1c9ed5f5146b52ac8639a40ca9d57aeff4d1bd2...   \n",
       "4        00006413d8573cd20ed7128e53b7b13819fe5cfc2d801f...   \n",
       "...                                                    ...   \n",
       "1371975  ffffbbf78b6eaac697a8a5dfbfd2bfa8113ee5b403e474...   \n",
       "1371976  ffffcd5046a6143d29a04fb8c424ce494a76e5cdf4fab5...   \n",
       "1371977  ffffcf35913a0bee60e8741cb2b4e78b8a98ee5ff2e6a1...   \n",
       "1371978  ffffd7744cebcf3aca44ae7049d2a94b87074c3d4ffe38...   \n",
       "1371979  ffffd9ac14e89946416d80e791d064701994755c3ab686...   \n",
       "\n",
       "                 customer_id  \n",
       "0        6883939031699146327  \n",
       "1       -7200416642310594310  \n",
       "2          -6846340800584936  \n",
       "3         -94071612138601410  \n",
       "4        -283965518499174310  \n",
       "...                      ...  \n",
       "1371975  7551062398649767985  \n",
       "1371976 -9141402131989464905  \n",
       "1371977 -8286316756823862684  \n",
       "1371978  2551401172826382186  \n",
       "1371979 -1516792180973952447  \n",
       "\n",
       "[1371980 rows x 2 columns]"
      ]
     },
     "execution_count": 75,
     "metadata": {},
     "output_type": "execute_result"
    }
   ],
   "source": [
    "sub"
   ]
  },
  {
   "cell_type": "code",
   "execution_count": 76,
   "id": "5e635e54",
   "metadata": {
    "execution": {
     "iopub.execute_input": "2022-03-27T15:18:34.953045Z",
     "iopub.status.busy": "2022-03-27T15:18:34.952178Z",
     "iopub.status.idle": "2022-03-27T15:18:35.040188Z",
     "shell.execute_reply": "2022-03-27T15:18:35.040604Z",
     "shell.execute_reply.started": "2022-03-27T14:18:24.340666Z"
    },
    "papermill": {
     "duration": 0.250318,
     "end_time": "2022-03-27T15:18:35.040746",
     "exception": false,
     "start_time": "2022-03-27T15:18:34.790428",
     "status": "completed"
    },
    "tags": []
   },
   "outputs": [
    {
     "data": {
      "text/html": [
       "<div>\n",
       "<style scoped>\n",
       "    .dataframe tbody tr th:only-of-type {\n",
       "        vertical-align: middle;\n",
       "    }\n",
       "\n",
       "    .dataframe tbody tr th {\n",
       "        vertical-align: top;\n",
       "    }\n",
       "\n",
       "    .dataframe thead th {\n",
       "        text-align: right;\n",
       "    }\n",
       "</style>\n",
       "<table border=\"1\" class=\"dataframe\">\n",
       "  <thead>\n",
       "    <tr style=\"text-align: right;\">\n",
       "      <th></th>\n",
       "      <th>customer_id</th>\n",
       "      <th>FN</th>\n",
       "      <th>Active</th>\n",
       "      <th>club_member_status</th>\n",
       "      <th>fashion_news_frequency</th>\n",
       "      <th>age</th>\n",
       "      <th>postal_code</th>\n",
       "    </tr>\n",
       "  </thead>\n",
       "  <tbody>\n",
       "    <tr>\n",
       "      <th>0</th>\n",
       "      <td>6883939031699146327</td>\n",
       "      <td>&lt;NA&gt;</td>\n",
       "      <td>&lt;NA&gt;</td>\n",
       "      <td>ACTIVE</td>\n",
       "      <td>NONE</td>\n",
       "      <td>49.0</td>\n",
       "      <td>52043ee2162cf5aa7ee79974281641c6f11a68d276429a...</td>\n",
       "    </tr>\n",
       "    <tr>\n",
       "      <th>1</th>\n",
       "      <td>-7200416642310594310</td>\n",
       "      <td>&lt;NA&gt;</td>\n",
       "      <td>&lt;NA&gt;</td>\n",
       "      <td>ACTIVE</td>\n",
       "      <td>NONE</td>\n",
       "      <td>25.0</td>\n",
       "      <td>2973abc54daa8a5f8ccfe9362140c63247c5eee03f1d93...</td>\n",
       "    </tr>\n",
       "    <tr>\n",
       "      <th>2</th>\n",
       "      <td>-6846340800584936</td>\n",
       "      <td>&lt;NA&gt;</td>\n",
       "      <td>&lt;NA&gt;</td>\n",
       "      <td>ACTIVE</td>\n",
       "      <td>NONE</td>\n",
       "      <td>24.0</td>\n",
       "      <td>64f17e6a330a85798e4998f62d0930d14db8db1c054af6...</td>\n",
       "    </tr>\n",
       "    <tr>\n",
       "      <th>3</th>\n",
       "      <td>-94071612138601410</td>\n",
       "      <td>&lt;NA&gt;</td>\n",
       "      <td>&lt;NA&gt;</td>\n",
       "      <td>ACTIVE</td>\n",
       "      <td>NONE</td>\n",
       "      <td>54.0</td>\n",
       "      <td>5d36574f52495e81f019b680c843c443bd343d5ca5b1c2...</td>\n",
       "    </tr>\n",
       "    <tr>\n",
       "      <th>4</th>\n",
       "      <td>-283965518499174310</td>\n",
       "      <td>1.0</td>\n",
       "      <td>1.0</td>\n",
       "      <td>ACTIVE</td>\n",
       "      <td>Regularly</td>\n",
       "      <td>52.0</td>\n",
       "      <td>25fa5ddee9aac01b35208d01736e57942317d756b32ddd...</td>\n",
       "    </tr>\n",
       "    <tr>\n",
       "      <th>...</th>\n",
       "      <td>...</td>\n",
       "      <td>...</td>\n",
       "      <td>...</td>\n",
       "      <td>...</td>\n",
       "      <td>...</td>\n",
       "      <td>...</td>\n",
       "      <td>...</td>\n",
       "    </tr>\n",
       "    <tr>\n",
       "      <th>1371975</th>\n",
       "      <td>7551062398649767985</td>\n",
       "      <td>&lt;NA&gt;</td>\n",
       "      <td>&lt;NA&gt;</td>\n",
       "      <td>ACTIVE</td>\n",
       "      <td>NONE</td>\n",
       "      <td>24.0</td>\n",
       "      <td>7aa399f7e669990daba2d92c577b52237380662f36480b...</td>\n",
       "    </tr>\n",
       "    <tr>\n",
       "      <th>1371976</th>\n",
       "      <td>-9141402131989464905</td>\n",
       "      <td>&lt;NA&gt;</td>\n",
       "      <td>&lt;NA&gt;</td>\n",
       "      <td>ACTIVE</td>\n",
       "      <td>NONE</td>\n",
       "      <td>21.0</td>\n",
       "      <td>3f47f1279beb72215f4de557d950e0bfa73789d24acb5e...</td>\n",
       "    </tr>\n",
       "    <tr>\n",
       "      <th>1371977</th>\n",
       "      <td>-8286316756823862684</td>\n",
       "      <td>1.0</td>\n",
       "      <td>1.0</td>\n",
       "      <td>ACTIVE</td>\n",
       "      <td>Regularly</td>\n",
       "      <td>21.0</td>\n",
       "      <td>4563fc79215672cd6a863f2b4bf56b8f898f2d96ed590e...</td>\n",
       "    </tr>\n",
       "    <tr>\n",
       "      <th>1371978</th>\n",
       "      <td>2551401172826382186</td>\n",
       "      <td>1.0</td>\n",
       "      <td>1.0</td>\n",
       "      <td>ACTIVE</td>\n",
       "      <td>Regularly</td>\n",
       "      <td>18.0</td>\n",
       "      <td>8892c18e9bc3dca6aa4000cb8094fc4b51ee8db2ed14d7...</td>\n",
       "    </tr>\n",
       "    <tr>\n",
       "      <th>1371979</th>\n",
       "      <td>-1516792180973952447</td>\n",
       "      <td>&lt;NA&gt;</td>\n",
       "      <td>&lt;NA&gt;</td>\n",
       "      <td>PRE-CREATE</td>\n",
       "      <td>NONE</td>\n",
       "      <td>65.0</td>\n",
       "      <td>0a1a03306fb2f62164c2a439b38c0caa64b40deaae8687...</td>\n",
       "    </tr>\n",
       "  </tbody>\n",
       "</table>\n",
       "<p>1371980 rows × 7 columns</p>\n",
       "</div>"
      ],
      "text/plain": [
       "                 customer_id    FN Active club_member_status  \\\n",
       "0        6883939031699146327  <NA>   <NA>             ACTIVE   \n",
       "1       -7200416642310594310  <NA>   <NA>             ACTIVE   \n",
       "2          -6846340800584936  <NA>   <NA>             ACTIVE   \n",
       "3         -94071612138601410  <NA>   <NA>             ACTIVE   \n",
       "4        -283965518499174310   1.0    1.0             ACTIVE   \n",
       "...                      ...   ...    ...                ...   \n",
       "1371975  7551062398649767985  <NA>   <NA>             ACTIVE   \n",
       "1371976 -9141402131989464905  <NA>   <NA>             ACTIVE   \n",
       "1371977 -8286316756823862684   1.0    1.0             ACTIVE   \n",
       "1371978  2551401172826382186   1.0    1.0             ACTIVE   \n",
       "1371979 -1516792180973952447  <NA>   <NA>         PRE-CREATE   \n",
       "\n",
       "        fashion_news_frequency   age  \\\n",
       "0                         NONE  49.0   \n",
       "1                         NONE  25.0   \n",
       "2                         NONE  24.0   \n",
       "3                         NONE  54.0   \n",
       "4                    Regularly  52.0   \n",
       "...                        ...   ...   \n",
       "1371975                   NONE  24.0   \n",
       "1371976                   NONE  21.0   \n",
       "1371977              Regularly  21.0   \n",
       "1371978              Regularly  18.0   \n",
       "1371979                   NONE  65.0   \n",
       "\n",
       "                                               postal_code  \n",
       "0        52043ee2162cf5aa7ee79974281641c6f11a68d276429a...  \n",
       "1        2973abc54daa8a5f8ccfe9362140c63247c5eee03f1d93...  \n",
       "2        64f17e6a330a85798e4998f62d0930d14db8db1c054af6...  \n",
       "3        5d36574f52495e81f019b680c843c443bd343d5ca5b1c2...  \n",
       "4        25fa5ddee9aac01b35208d01736e57942317d756b32ddd...  \n",
       "...                                                    ...  \n",
       "1371975  7aa399f7e669990daba2d92c577b52237380662f36480b...  \n",
       "1371976  3f47f1279beb72215f4de557d950e0bfa73789d24acb5e...  \n",
       "1371977  4563fc79215672cd6a863f2b4bf56b8f898f2d96ed590e...  \n",
       "1371978  8892c18e9bc3dca6aa4000cb8094fc4b51ee8db2ed14d7...  \n",
       "1371979  0a1a03306fb2f62164c2a439b38c0caa64b40deaae8687...  \n",
       "\n",
       "[1371980 rows x 7 columns]"
      ]
     },
     "execution_count": 76,
     "metadata": {},
     "output_type": "execute_result"
    }
   ],
   "source": [
    "customer"
   ]
  },
  {
   "cell_type": "code",
   "execution_count": 77,
   "id": "da8318a9",
   "metadata": {
    "execution": {
     "iopub.execute_input": "2022-03-27T15:18:35.325898Z",
     "iopub.status.busy": "2022-03-27T15:18:35.325064Z",
     "iopub.status.idle": "2022-03-27T15:18:41.974549Z",
     "shell.execute_reply": "2022-03-27T15:18:41.974066Z",
     "shell.execute_reply.started": "2022-03-27T14:18:24.434196Z"
    },
    "papermill": {
     "duration": 6.793741,
     "end_time": "2022-03-27T15:18:41.974681",
     "exception": false,
     "start_time": "2022-03-27T15:18:35.180940",
     "status": "completed"
    },
    "tags": []
   },
   "outputs": [],
   "source": [
    "sub_customer = sub.merge(customer.fillna(0), on = \"customer_id\")\n",
    "sub_customer[\"age_type\"] = pd.cut(sub_customer.to_pandas()[\"age\"], bins = np.array([0, 21, 24, 27, 30, 35, 40, 45, 50, 60, 100], dtype = \"int32\"), right = True).astype(\"string\")"
   ]
  },
  {
   "cell_type": "code",
   "execution_count": 78,
   "id": "37425a04",
   "metadata": {
    "execution": {
     "iopub.execute_input": "2022-03-27T15:18:42.258393Z",
     "iopub.status.busy": "2022-03-27T15:18:42.257441Z",
     "iopub.status.idle": "2022-03-27T15:18:53.609185Z",
     "shell.execute_reply": "2022-03-27T15:18:53.608660Z",
     "shell.execute_reply.started": "2022-03-27T14:18:31.195934Z"
    },
    "papermill": {
     "duration": 11.49487,
     "end_time": "2022-03-27T15:18:53.609329",
     "exception": false,
     "start_time": "2022-03-27T15:18:42.114459",
     "status": "completed"
    },
    "tags": []
   },
   "outputs": [],
   "source": [
    "result3 = sub_customer.to_pandas().merge(summary.to_pandas(), on = [\"fashion_news_frequency\", \"age_type\"], how = \"left\")"
   ]
  },
  {
   "cell_type": "code",
   "execution_count": 79,
   "id": "7f628d1f",
   "metadata": {
    "execution": {
     "iopub.execute_input": "2022-03-27T15:18:53.891076Z",
     "iopub.status.busy": "2022-03-27T15:18:53.889930Z",
     "iopub.status.idle": "2022-03-27T15:19:04.099119Z",
     "shell.execute_reply": "2022-03-27T15:19:04.098597Z",
     "shell.execute_reply.started": "2022-03-27T14:18:42.997326Z"
    },
    "papermill": {
     "duration": 10.350938,
     "end_time": "2022-03-27T15:19:04.099269",
     "exception": false,
     "start_time": "2022-03-27T15:18:53.748331",
     "status": "completed"
    },
    "tags": []
   },
   "outputs": [],
   "source": [
    "result3[\"source\"] = 3\n",
    "result3 = result3.loc[:,[\"customer_id\", \"article_id\", \"source\", \"score\", \"rank\"]]"
   ]
  },
  {
   "cell_type": "code",
   "execution_count": 80,
   "id": "1a989322",
   "metadata": {
    "execution": {
     "iopub.execute_input": "2022-03-27T15:19:04.389712Z",
     "iopub.status.busy": "2022-03-27T15:19:04.380935Z",
     "iopub.status.idle": "2022-03-27T15:19:04.392429Z",
     "shell.execute_reply": "2022-03-27T15:19:04.392824Z",
     "shell.execute_reply.started": "2022-03-27T14:18:53.069656Z"
    },
    "papermill": {
     "duration": 0.155421,
     "end_time": "2022-03-27T15:19:04.392979",
     "exception": false,
     "start_time": "2022-03-27T15:19:04.237558",
     "status": "completed"
    },
    "tags": []
   },
   "outputs": [
    {
     "data": {
      "text/html": [
       "<div>\n",
       "<style scoped>\n",
       "    .dataframe tbody tr th:only-of-type {\n",
       "        vertical-align: middle;\n",
       "    }\n",
       "\n",
       "    .dataframe tbody tr th {\n",
       "        vertical-align: top;\n",
       "    }\n",
       "\n",
       "    .dataframe thead th {\n",
       "        text-align: right;\n",
       "    }\n",
       "</style>\n",
       "<table border=\"1\" class=\"dataframe\">\n",
       "  <thead>\n",
       "    <tr style=\"text-align: right;\">\n",
       "      <th></th>\n",
       "      <th>customer_id</th>\n",
       "      <th>article_id</th>\n",
       "      <th>source</th>\n",
       "      <th>score</th>\n",
       "      <th>rank</th>\n",
       "    </tr>\n",
       "  </thead>\n",
       "  <tbody>\n",
       "    <tr>\n",
       "      <th>0</th>\n",
       "      <td>5594570845736552900</td>\n",
       "      <td>909370001.0</td>\n",
       "      <td>3</td>\n",
       "      <td>0.006019</td>\n",
       "      <td>1.0</td>\n",
       "    </tr>\n",
       "    <tr>\n",
       "      <th>1</th>\n",
       "      <td>5594570845736552900</td>\n",
       "      <td>896169005.0</td>\n",
       "      <td>3</td>\n",
       "      <td>0.002252</td>\n",
       "      <td>11.0</td>\n",
       "    </tr>\n",
       "    <tr>\n",
       "      <th>2</th>\n",
       "      <td>5594570845736552900</td>\n",
       "      <td>865799006.0</td>\n",
       "      <td>3</td>\n",
       "      <td>0.003984</td>\n",
       "      <td>2.0</td>\n",
       "    </tr>\n",
       "    <tr>\n",
       "      <th>3</th>\n",
       "      <td>5594570845736552900</td>\n",
       "      <td>448509014.0</td>\n",
       "      <td>3</td>\n",
       "      <td>0.002944</td>\n",
       "      <td>5.0</td>\n",
       "    </tr>\n",
       "    <tr>\n",
       "      <th>4</th>\n",
       "      <td>5594570845736552900</td>\n",
       "      <td>809238005.0</td>\n",
       "      <td>3</td>\n",
       "      <td>0.002771</td>\n",
       "      <td>7.0</td>\n",
       "    </tr>\n",
       "    <tr>\n",
       "      <th>...</th>\n",
       "      <td>...</td>\n",
       "      <td>...</td>\n",
       "      <td>...</td>\n",
       "      <td>...</td>\n",
       "      <td>...</td>\n",
       "    </tr>\n",
       "    <tr>\n",
       "      <th>32880969</th>\n",
       "      <td>-2405428844803553396</td>\n",
       "      <td>809238001.0</td>\n",
       "      <td>3</td>\n",
       "      <td>0.003118</td>\n",
       "      <td>3.0</td>\n",
       "    </tr>\n",
       "    <tr>\n",
       "      <th>32880970</th>\n",
       "      <td>-2405428844803553396</td>\n",
       "      <td>918292001.0</td>\n",
       "      <td>3</td>\n",
       "      <td>0.002511</td>\n",
       "      <td>8.0</td>\n",
       "    </tr>\n",
       "    <tr>\n",
       "      <th>32880971</th>\n",
       "      <td>-2405428844803553396</td>\n",
       "      <td>685814001.0</td>\n",
       "      <td>3</td>\n",
       "      <td>0.002425</td>\n",
       "      <td>9.0</td>\n",
       "    </tr>\n",
       "    <tr>\n",
       "      <th>32880972</th>\n",
       "      <td>-2405428844803553396</td>\n",
       "      <td>898713001.0</td>\n",
       "      <td>3</td>\n",
       "      <td>0.002338</td>\n",
       "      <td>10.0</td>\n",
       "    </tr>\n",
       "    <tr>\n",
       "      <th>32880973</th>\n",
       "      <td>-2405428844803553396</td>\n",
       "      <td>863583001.0</td>\n",
       "      <td>3</td>\n",
       "      <td>0.002814</td>\n",
       "      <td>6.0</td>\n",
       "    </tr>\n",
       "  </tbody>\n",
       "</table>\n",
       "<p>32880974 rows × 5 columns</p>\n",
       "</div>"
      ],
      "text/plain": [
       "                  customer_id   article_id  source     score  rank\n",
       "0         5594570845736552900  909370001.0       3  0.006019   1.0\n",
       "1         5594570845736552900  896169005.0       3  0.002252  11.0\n",
       "2         5594570845736552900  865799006.0       3  0.003984   2.0\n",
       "3         5594570845736552900  448509014.0       3  0.002944   5.0\n",
       "4         5594570845736552900  809238005.0       3  0.002771   7.0\n",
       "...                       ...          ...     ...       ...   ...\n",
       "32880969 -2405428844803553396  809238001.0       3  0.003118   3.0\n",
       "32880970 -2405428844803553396  918292001.0       3  0.002511   8.0\n",
       "32880971 -2405428844803553396  685814001.0       3  0.002425   9.0\n",
       "32880972 -2405428844803553396  898713001.0       3  0.002338  10.0\n",
       "32880973 -2405428844803553396  863583001.0       3  0.002814   6.0\n",
       "\n",
       "[32880974 rows x 5 columns]"
      ]
     },
     "execution_count": 80,
     "metadata": {},
     "output_type": "execute_result"
    }
   ],
   "source": [
    "result3"
   ]
  },
  {
   "cell_type": "code",
   "execution_count": 81,
   "id": "628912dd",
   "metadata": {
    "execution": {
     "iopub.execute_input": "2022-03-27T15:19:04.672019Z",
     "iopub.status.busy": "2022-03-27T15:19:04.671243Z",
     "iopub.status.idle": "2022-03-27T15:19:04.674057Z",
     "shell.execute_reply": "2022-03-27T15:19:04.673602Z",
     "shell.execute_reply.started": "2022-03-27T14:18:53.089008Z"
    },
    "papermill": {
     "duration": 0.14346,
     "end_time": "2022-03-27T15:19:04.674168",
     "exception": false,
     "start_time": "2022-03-27T15:19:04.530708",
     "status": "completed"
    },
    "tags": []
   },
   "outputs": [],
   "source": [
    "#result3.to_csv(\"/kaggle/working/result3.csv\", index = False)"
   ]
  },
  {
   "cell_type": "markdown",
   "id": "3e5e55bb",
   "metadata": {
    "papermill": {
     "duration": 0.14175,
     "end_time": "2022-03-27T15:19:04.953544",
     "exception": false,
     "start_time": "2022-03-27T15:19:04.811794",
     "status": "completed"
    },
    "tags": []
   },
   "source": [
    "## 混合排序"
   ]
  },
  {
   "cell_type": "code",
   "execution_count": 82,
   "id": "1110b8f1",
   "metadata": {
    "execution": {
     "iopub.execute_input": "2022-03-27T15:19:05.235229Z",
     "iopub.status.busy": "2022-03-27T15:19:05.234392Z",
     "iopub.status.idle": "2022-03-27T15:19:05.236929Z",
     "shell.execute_reply": "2022-03-27T15:19:05.236508Z",
     "shell.execute_reply.started": "2022-03-27T14:18:53.105599Z"
    },
    "papermill": {
     "duration": 0.142986,
     "end_time": "2022-03-27T15:19:05.237078",
     "exception": false,
     "start_time": "2022-03-27T15:19:05.094092",
     "status": "completed"
    },
    "tags": []
   },
   "outputs": [],
   "source": [
    "#result2 = pd.read_csv(\"../input/relation/result2.csv\")\n",
    "#result1 = pd.read_csv(\"../input/relation/result1.csv\")\n",
    "#result3 = pd.read_csv(\"/kaggle/working/result3.csv\")"
   ]
  },
  {
   "cell_type": "code",
   "execution_count": 83,
   "id": "6b95cceb",
   "metadata": {
    "execution": {
     "iopub.execute_input": "2022-03-27T15:19:05.517973Z",
     "iopub.status.busy": "2022-03-27T15:19:05.517165Z",
     "iopub.status.idle": "2022-03-27T15:19:05.519150Z",
     "shell.execute_reply": "2022-03-27T15:19:05.519521Z",
     "shell.execute_reply.started": "2022-03-27T14:18:53.111544Z"
    },
    "papermill": {
     "duration": 0.14562,
     "end_time": "2022-03-27T15:19:05.519647",
     "exception": false,
     "start_time": "2022-03-27T15:19:05.374027",
     "status": "completed"
    },
    "tags": []
   },
   "outputs": [],
   "source": [
    "#result1 = pd.read_csv(\"/kaggle/working/result1.csv\")\n",
    "#result2 = pd.read_csv(\"/kaggle/working/result2.csv\")"
   ]
  },
  {
   "cell_type": "code",
   "execution_count": 84,
   "id": "2af63994",
   "metadata": {
    "execution": {
     "iopub.execute_input": "2022-03-27T15:19:05.811418Z",
     "iopub.status.busy": "2022-03-27T15:19:05.810714Z",
     "iopub.status.idle": "2022-03-27T15:19:05.813629Z",
     "shell.execute_reply": "2022-03-27T15:19:05.814095Z",
     "shell.execute_reply.started": "2022-03-27T14:18:53.118541Z"
    },
    "papermill": {
     "duration": 0.156301,
     "end_time": "2022-03-27T15:19:05.814226",
     "exception": false,
     "start_time": "2022-03-27T15:19:05.657925",
     "status": "completed"
    },
    "tags": []
   },
   "outputs": [
    {
     "data": {
      "text/html": [
       "<div>\n",
       "<style scoped>\n",
       "    .dataframe tbody tr th:only-of-type {\n",
       "        vertical-align: middle;\n",
       "    }\n",
       "\n",
       "    .dataframe tbody tr th {\n",
       "        vertical-align: top;\n",
       "    }\n",
       "\n",
       "    .dataframe thead th {\n",
       "        text-align: right;\n",
       "    }\n",
       "</style>\n",
       "<table border=\"1\" class=\"dataframe\">\n",
       "  <thead>\n",
       "    <tr style=\"text-align: right;\">\n",
       "      <th></th>\n",
       "      <th>customer_id</th>\n",
       "      <th>article_id</th>\n",
       "      <th>source</th>\n",
       "      <th>score</th>\n",
       "      <th>rank</th>\n",
       "    </tr>\n",
       "  </thead>\n",
       "  <tbody>\n",
       "    <tr>\n",
       "      <th>0</th>\n",
       "      <td>5594570845736552900</td>\n",
       "      <td>909370001.0</td>\n",
       "      <td>3</td>\n",
       "      <td>0.006019</td>\n",
       "      <td>1.0</td>\n",
       "    </tr>\n",
       "    <tr>\n",
       "      <th>1</th>\n",
       "      <td>5594570845736552900</td>\n",
       "      <td>896169005.0</td>\n",
       "      <td>3</td>\n",
       "      <td>0.002252</td>\n",
       "      <td>11.0</td>\n",
       "    </tr>\n",
       "    <tr>\n",
       "      <th>2</th>\n",
       "      <td>5594570845736552900</td>\n",
       "      <td>865799006.0</td>\n",
       "      <td>3</td>\n",
       "      <td>0.003984</td>\n",
       "      <td>2.0</td>\n",
       "    </tr>\n",
       "    <tr>\n",
       "      <th>3</th>\n",
       "      <td>5594570845736552900</td>\n",
       "      <td>448509014.0</td>\n",
       "      <td>3</td>\n",
       "      <td>0.002944</td>\n",
       "      <td>5.0</td>\n",
       "    </tr>\n",
       "    <tr>\n",
       "      <th>4</th>\n",
       "      <td>5594570845736552900</td>\n",
       "      <td>809238005.0</td>\n",
       "      <td>3</td>\n",
       "      <td>0.002771</td>\n",
       "      <td>7.0</td>\n",
       "    </tr>\n",
       "    <tr>\n",
       "      <th>...</th>\n",
       "      <td>...</td>\n",
       "      <td>...</td>\n",
       "      <td>...</td>\n",
       "      <td>...</td>\n",
       "      <td>...</td>\n",
       "    </tr>\n",
       "    <tr>\n",
       "      <th>32880969</th>\n",
       "      <td>-2405428844803553396</td>\n",
       "      <td>809238001.0</td>\n",
       "      <td>3</td>\n",
       "      <td>0.003118</td>\n",
       "      <td>3.0</td>\n",
       "    </tr>\n",
       "    <tr>\n",
       "      <th>32880970</th>\n",
       "      <td>-2405428844803553396</td>\n",
       "      <td>918292001.0</td>\n",
       "      <td>3</td>\n",
       "      <td>0.002511</td>\n",
       "      <td>8.0</td>\n",
       "    </tr>\n",
       "    <tr>\n",
       "      <th>32880971</th>\n",
       "      <td>-2405428844803553396</td>\n",
       "      <td>685814001.0</td>\n",
       "      <td>3</td>\n",
       "      <td>0.002425</td>\n",
       "      <td>9.0</td>\n",
       "    </tr>\n",
       "    <tr>\n",
       "      <th>32880972</th>\n",
       "      <td>-2405428844803553396</td>\n",
       "      <td>898713001.0</td>\n",
       "      <td>3</td>\n",
       "      <td>0.002338</td>\n",
       "      <td>10.0</td>\n",
       "    </tr>\n",
       "    <tr>\n",
       "      <th>32880973</th>\n",
       "      <td>-2405428844803553396</td>\n",
       "      <td>863583001.0</td>\n",
       "      <td>3</td>\n",
       "      <td>0.002814</td>\n",
       "      <td>6.0</td>\n",
       "    </tr>\n",
       "  </tbody>\n",
       "</table>\n",
       "<p>32880974 rows × 5 columns</p>\n",
       "</div>"
      ],
      "text/plain": [
       "                  customer_id   article_id  source     score  rank\n",
       "0         5594570845736552900  909370001.0       3  0.006019   1.0\n",
       "1         5594570845736552900  896169005.0       3  0.002252  11.0\n",
       "2         5594570845736552900  865799006.0       3  0.003984   2.0\n",
       "3         5594570845736552900  448509014.0       3  0.002944   5.0\n",
       "4         5594570845736552900  809238005.0       3  0.002771   7.0\n",
       "...                       ...          ...     ...       ...   ...\n",
       "32880969 -2405428844803553396  809238001.0       3  0.003118   3.0\n",
       "32880970 -2405428844803553396  918292001.0       3  0.002511   8.0\n",
       "32880971 -2405428844803553396  685814001.0       3  0.002425   9.0\n",
       "32880972 -2405428844803553396  898713001.0       3  0.002338  10.0\n",
       "32880973 -2405428844803553396  863583001.0       3  0.002814   6.0\n",
       "\n",
       "[32880974 rows x 5 columns]"
      ]
     },
     "execution_count": 84,
     "metadata": {},
     "output_type": "execute_result"
    }
   ],
   "source": [
    "result3"
   ]
  },
  {
   "cell_type": "code",
   "execution_count": 85,
   "id": "92da6d44",
   "metadata": {
    "execution": {
     "iopub.execute_input": "2022-03-27T15:19:06.096126Z",
     "iopub.status.busy": "2022-03-27T15:19:06.095268Z",
     "iopub.status.idle": "2022-03-27T15:19:06.097086Z",
     "shell.execute_reply": "2022-03-27T15:19:06.097508Z",
     "shell.execute_reply.started": "2022-03-27T14:18:53.136395Z"
    },
    "papermill": {
     "duration": 0.144077,
     "end_time": "2022-03-27T15:19:06.097638",
     "exception": false,
     "start_time": "2022-03-27T15:19:05.953561",
     "status": "completed"
    },
    "tags": []
   },
   "outputs": [],
   "source": [
    "#assert False"
   ]
  },
  {
   "cell_type": "code",
   "execution_count": 86,
   "id": "1fbffa8d",
   "metadata": {
    "execution": {
     "iopub.execute_input": "2022-03-27T15:19:06.380670Z",
     "iopub.status.busy": "2022-03-27T15:19:06.379858Z",
     "iopub.status.idle": "2022-03-27T15:19:06.381919Z",
     "shell.execute_reply": "2022-03-27T15:19:06.382324Z",
     "shell.execute_reply.started": "2022-03-27T14:18:53.143564Z"
    },
    "papermill": {
     "duration": 0.143928,
     "end_time": "2022-03-27T15:19:06.382465",
     "exception": false,
     "start_time": "2022-03-27T15:19:06.238537",
     "status": "completed"
    },
    "tags": []
   },
   "outputs": [],
   "source": [
    "# del result1\n",
    "# del result2\n",
    "# del result3"
   ]
  },
  {
   "cell_type": "code",
   "execution_count": 87,
   "id": "28cbc639",
   "metadata": {
    "execution": {
     "iopub.execute_input": "2022-03-27T15:19:06.664472Z",
     "iopub.status.busy": "2022-03-27T15:19:06.663345Z",
     "iopub.status.idle": "2022-03-27T15:19:07.914272Z",
     "shell.execute_reply": "2022-03-27T15:19:07.915535Z",
     "shell.execute_reply.started": "2022-03-27T14:18:53.151768Z"
    },
    "papermill": {
     "duration": 1.393916,
     "end_time": "2022-03-27T15:19:07.915742",
     "exception": false,
     "start_time": "2022-03-27T15:19:06.521826",
     "status": "completed"
    },
    "tags": []
   },
   "outputs": [],
   "source": [
    "result = pd.concat([result1, result2, result3], axis = 0)"
   ]
  },
  {
   "cell_type": "code",
   "execution_count": 88,
   "id": "96c3c98e",
   "metadata": {
    "execution": {
     "iopub.execute_input": "2022-03-27T15:19:08.244235Z",
     "iopub.status.busy": "2022-03-27T15:19:08.243394Z",
     "iopub.status.idle": "2022-03-27T15:19:08.246535Z",
     "shell.execute_reply": "2022-03-27T15:19:08.247638Z",
     "shell.execute_reply.started": "2022-03-27T14:18:54.314454Z"
    },
    "papermill": {
     "duration": 0.151094,
     "end_time": "2022-03-27T15:19:08.247978",
     "exception": false,
     "start_time": "2022-03-27T15:19:08.096884",
     "status": "completed"
    },
    "tags": []
   },
   "outputs": [],
   "source": [
    "# 调整融合结果"
   ]
  },
  {
   "cell_type": "code",
   "execution_count": 89,
   "id": "722ec7a1",
   "metadata": {
    "execution": {
     "iopub.execute_input": "2022-03-27T15:19:08.529929Z",
     "iopub.status.busy": "2022-03-27T15:19:08.529108Z",
     "iopub.status.idle": "2022-03-27T15:19:08.531607Z",
     "shell.execute_reply": "2022-03-27T15:19:08.531181Z",
     "shell.execute_reply.started": "2022-03-27T14:18:54.320205Z"
    },
    "papermill": {
     "duration": 0.144551,
     "end_time": "2022-03-27T15:19:08.531712",
     "exception": false,
     "start_time": "2022-03-27T15:19:08.387161",
     "status": "completed"
    },
    "tags": []
   },
   "outputs": [],
   "source": [
    "#result = result3.copy()"
   ]
  },
  {
   "cell_type": "code",
   "execution_count": 90,
   "id": "6784c1c8",
   "metadata": {
    "execution": {
     "iopub.execute_input": "2022-03-27T15:19:08.942363Z",
     "iopub.status.busy": "2022-03-27T15:19:08.941467Z",
     "iopub.status.idle": "2022-03-27T15:19:08.948344Z",
     "shell.execute_reply": "2022-03-27T15:19:08.947576Z",
     "shell.execute_reply.started": "2022-03-27T14:18:54.330122Z"
    },
    "papermill": {
     "duration": 0.278045,
     "end_time": "2022-03-27T15:19:08.948478",
     "exception": false,
     "start_time": "2022-03-27T15:19:08.670433",
     "status": "completed"
    },
    "tags": []
   },
   "outputs": [
    {
     "data": {
      "text/plain": [
       "126"
      ]
     },
     "execution_count": 90,
     "metadata": {},
     "output_type": "execute_result"
    }
   ],
   "source": [
    "gc.collect()"
   ]
  },
  {
   "cell_type": "code",
   "execution_count": 91,
   "id": "99eaee21",
   "metadata": {
    "execution": {
     "iopub.execute_input": "2022-03-27T15:19:09.240575Z",
     "iopub.status.busy": "2022-03-27T15:19:09.239260Z",
     "iopub.status.idle": "2022-03-27T15:19:09.241278Z",
     "shell.execute_reply": "2022-03-27T15:19:09.241681Z",
     "shell.execute_reply.started": "2022-03-27T14:18:54.480190Z"
    },
    "papermill": {
     "duration": 0.148285,
     "end_time": "2022-03-27T15:19:09.241813",
     "exception": false,
     "start_time": "2022-03-27T15:19:09.093528",
     "status": "completed"
    },
    "tags": []
   },
   "outputs": [],
   "source": [
    "result.index = range(len(result))"
   ]
  },
  {
   "cell_type": "code",
   "execution_count": 92,
   "id": "280df156",
   "metadata": {
    "execution": {
     "iopub.execute_input": "2022-03-27T15:19:09.536656Z",
     "iopub.status.busy": "2022-03-27T15:19:09.535774Z",
     "iopub.status.idle": "2022-03-27T15:19:11.120118Z",
     "shell.execute_reply": "2022-03-27T15:19:11.119600Z",
     "shell.execute_reply.started": "2022-03-27T14:23:13.027120Z"
    },
    "papermill": {
     "duration": 1.738641,
     "end_time": "2022-03-27T15:19:11.120262",
     "exception": false,
     "start_time": "2022-03-27T15:19:09.381621",
     "status": "completed"
    },
    "tags": []
   },
   "outputs": [],
   "source": [
    "result.loc[result[\"source\"] == 3, \"score\"] *= 0.8"
   ]
  },
  {
   "cell_type": "code",
   "execution_count": 93,
   "id": "c3f833ac",
   "metadata": {
    "execution": {
     "iopub.execute_input": "2022-03-27T15:19:11.401695Z",
     "iopub.status.busy": "2022-03-27T15:19:11.400950Z",
     "iopub.status.idle": "2022-03-27T15:19:11.403445Z",
     "shell.execute_reply": "2022-03-27T15:19:11.402936Z",
     "shell.execute_reply.started": "2022-03-27T14:23:13.821774Z"
    },
    "papermill": {
     "duration": 0.143741,
     "end_time": "2022-03-27T15:19:11.403550",
     "exception": false,
     "start_time": "2022-03-27T15:19:11.259809",
     "status": "completed"
    },
    "tags": []
   },
   "outputs": [],
   "source": [
    "#del result1\n",
    "#del result2\n",
    "#del sub_customer"
   ]
  },
  {
   "cell_type": "code",
   "execution_count": 94,
   "id": "f67b2925",
   "metadata": {
    "execution": {
     "iopub.execute_input": "2022-03-27T15:19:11.685650Z",
     "iopub.status.busy": "2022-03-27T15:19:11.684857Z",
     "iopub.status.idle": "2022-03-27T15:19:12.682810Z",
     "shell.execute_reply": "2022-03-27T15:19:12.682332Z",
     "shell.execute_reply.started": "2022-03-27T14:23:14.485846Z"
    },
    "papermill": {
     "duration": 1.140634,
     "end_time": "2022-03-27T15:19:12.682963",
     "exception": false,
     "start_time": "2022-03-27T15:19:11.542329",
     "status": "completed"
    },
    "tags": []
   },
   "outputs": [],
   "source": [
    "result = cudf.DataFrame(result, dtype={'article_id': 'int32', 'customer_id':'int64'})"
   ]
  },
  {
   "cell_type": "code",
   "execution_count": 95,
   "id": "9ed9b388",
   "metadata": {
    "execution": {
     "iopub.execute_input": "2022-03-27T15:19:12.966725Z",
     "iopub.status.busy": "2022-03-27T15:19:12.965876Z",
     "iopub.status.idle": "2022-03-27T15:19:13.025071Z",
     "shell.execute_reply": "2022-03-27T15:19:13.025492Z",
     "shell.execute_reply.started": "2022-03-27T14:23:14.974429Z"
    },
    "papermill": {
     "duration": 0.202592,
     "end_time": "2022-03-27T15:19:13.025626",
     "exception": false,
     "start_time": "2022-03-27T15:19:12.823034",
     "status": "completed"
    },
    "tags": []
   },
   "outputs": [
    {
     "data": {
      "text/html": [
       "<div>\n",
       "<style scoped>\n",
       "    .dataframe tbody tr th:only-of-type {\n",
       "        vertical-align: middle;\n",
       "    }\n",
       "\n",
       "    .dataframe tbody tr th {\n",
       "        vertical-align: top;\n",
       "    }\n",
       "\n",
       "    .dataframe thead th {\n",
       "        text-align: right;\n",
       "    }\n",
       "</style>\n",
       "<table border=\"1\" class=\"dataframe\">\n",
       "  <thead>\n",
       "    <tr style=\"text-align: right;\">\n",
       "      <th></th>\n",
       "      <th>customer_id</th>\n",
       "      <th>article_id</th>\n",
       "      <th>source</th>\n",
       "      <th>score</th>\n",
       "      <th>rank</th>\n",
       "    </tr>\n",
       "  </thead>\n",
       "  <tbody>\n",
       "    <tr>\n",
       "      <th>0</th>\n",
       "      <td>-9223352921020755230</td>\n",
       "      <td>568597006</td>\n",
       "      <td>1</td>\n",
       "      <td>0.000559</td>\n",
       "      <td>5.0</td>\n",
       "    </tr>\n",
       "    <tr>\n",
       "      <th>1</th>\n",
       "      <td>-9223352921020755230</td>\n",
       "      <td>673396002</td>\n",
       "      <td>1</td>\n",
       "      <td>0.044511</td>\n",
       "      <td>1.0</td>\n",
       "    </tr>\n",
       "    <tr>\n",
       "      <th>2</th>\n",
       "      <td>-9223352921020755230</td>\n",
       "      <td>706016001</td>\n",
       "      <td>1</td>\n",
       "      <td>0.003289</td>\n",
       "      <td>4.0</td>\n",
       "    </tr>\n",
       "    <tr>\n",
       "      <th>3</th>\n",
       "      <td>-9223352921020755230</td>\n",
       "      <td>812167004</td>\n",
       "      <td>1</td>\n",
       "      <td>0.019179</td>\n",
       "      <td>2.0</td>\n",
       "    </tr>\n",
       "    <tr>\n",
       "      <th>4</th>\n",
       "      <td>-9223352921020755230</td>\n",
       "      <td>849493006</td>\n",
       "      <td>1</td>\n",
       "      <td>0.006174</td>\n",
       "      <td>3.0</td>\n",
       "    </tr>\n",
       "    <tr>\n",
       "      <th>...</th>\n",
       "      <td>...</td>\n",
       "      <td>...</td>\n",
       "      <td>...</td>\n",
       "      <td>...</td>\n",
       "      <td>...</td>\n",
       "    </tr>\n",
       "    <tr>\n",
       "      <th>43579613</th>\n",
       "      <td>-2405428844803553396</td>\n",
       "      <td>809238001</td>\n",
       "      <td>3</td>\n",
       "      <td>0.002494</td>\n",
       "      <td>3.0</td>\n",
       "    </tr>\n",
       "    <tr>\n",
       "      <th>43579614</th>\n",
       "      <td>-2405428844803553396</td>\n",
       "      <td>918292001</td>\n",
       "      <td>3</td>\n",
       "      <td>0.002009</td>\n",
       "      <td>8.0</td>\n",
       "    </tr>\n",
       "    <tr>\n",
       "      <th>43579615</th>\n",
       "      <td>-2405428844803553396</td>\n",
       "      <td>685814001</td>\n",
       "      <td>3</td>\n",
       "      <td>0.001940</td>\n",
       "      <td>9.0</td>\n",
       "    </tr>\n",
       "    <tr>\n",
       "      <th>43579616</th>\n",
       "      <td>-2405428844803553396</td>\n",
       "      <td>898713001</td>\n",
       "      <td>3</td>\n",
       "      <td>0.001871</td>\n",
       "      <td>10.0</td>\n",
       "    </tr>\n",
       "    <tr>\n",
       "      <th>43579617</th>\n",
       "      <td>-2405428844803553396</td>\n",
       "      <td>863583001</td>\n",
       "      <td>3</td>\n",
       "      <td>0.002252</td>\n",
       "      <td>6.0</td>\n",
       "    </tr>\n",
       "  </tbody>\n",
       "</table>\n",
       "<p>43579618 rows × 5 columns</p>\n",
       "</div>"
      ],
      "text/plain": [
       "                  customer_id  article_id  source     score  rank\n",
       "0        -9223352921020755230   568597006       1  0.000559   5.0\n",
       "1        -9223352921020755230   673396002       1  0.044511   1.0\n",
       "2        -9223352921020755230   706016001       1  0.003289   4.0\n",
       "3        -9223352921020755230   812167004       1  0.019179   2.0\n",
       "4        -9223352921020755230   849493006       1  0.006174   3.0\n",
       "...                       ...         ...     ...       ...   ...\n",
       "43579613 -2405428844803553396   809238001       3  0.002494   3.0\n",
       "43579614 -2405428844803553396   918292001       3  0.002009   8.0\n",
       "43579615 -2405428844803553396   685814001       3  0.001940   9.0\n",
       "43579616 -2405428844803553396   898713001       3  0.001871  10.0\n",
       "43579617 -2405428844803553396   863583001       3  0.002252   6.0\n",
       "\n",
       "[43579618 rows x 5 columns]"
      ]
     },
     "execution_count": 95,
     "metadata": {},
     "output_type": "execute_result"
    }
   ],
   "source": [
    "result"
   ]
  },
  {
   "cell_type": "code",
   "execution_count": 96,
   "id": "0a8e4867",
   "metadata": {
    "execution": {
     "iopub.execute_input": "2022-03-27T15:19:13.308255Z",
     "iopub.status.busy": "2022-03-27T15:19:13.307363Z",
     "iopub.status.idle": "2022-03-27T15:19:13.309775Z",
     "shell.execute_reply": "2022-03-27T15:19:13.309275Z",
     "shell.execute_reply.started": "2022-03-27T14:23:15.445310Z"
    },
    "papermill": {
     "duration": 0.145409,
     "end_time": "2022-03-27T15:19:13.309894",
     "exception": false,
     "start_time": "2022-03-27T15:19:13.164485",
     "status": "completed"
    },
    "tags": []
   },
   "outputs": [],
   "source": [
    "#merge_result = result.groupby([\"customer_id\", \"article_id\"]).apply(lambda x:x.nlargest(1, \"score\"))"
   ]
  },
  {
   "cell_type": "code",
   "execution_count": 97,
   "id": "759e7ee5",
   "metadata": {
    "execution": {
     "iopub.execute_input": "2022-03-27T15:19:13.595368Z",
     "iopub.status.busy": "2022-03-27T15:19:13.594633Z",
     "iopub.status.idle": "2022-03-27T15:19:13.742943Z",
     "shell.execute_reply": "2022-03-27T15:19:13.742477Z",
     "shell.execute_reply.started": "2022-03-27T14:23:15.922217Z"
    },
    "papermill": {
     "duration": 0.293759,
     "end_time": "2022-03-27T15:19:13.743073",
     "exception": false,
     "start_time": "2022-03-27T15:19:13.449314",
     "status": "completed"
    },
    "tags": []
   },
   "outputs": [],
   "source": [
    "merge_result = result.groupby([\"customer_id\", \"article_id\"])['score'].max().reset_index()"
   ]
  },
  {
   "cell_type": "code",
   "execution_count": 98,
   "id": "57aef97f",
   "metadata": {
    "execution": {
     "iopub.execute_input": "2022-03-27T15:19:14.029582Z",
     "iopub.status.busy": "2022-03-27T15:19:14.028687Z",
     "iopub.status.idle": "2022-03-27T15:19:14.031370Z",
     "shell.execute_reply": "2022-03-27T15:19:14.030868Z",
     "shell.execute_reply.started": "2022-03-27T14:23:16.389494Z"
    },
    "papermill": {
     "duration": 0.148494,
     "end_time": "2022-03-27T15:19:14.031488",
     "exception": false,
     "start_time": "2022-03-27T15:19:13.882994",
     "status": "completed"
    },
    "tags": []
   },
   "outputs": [],
   "source": [
    "# del result"
   ]
  },
  {
   "cell_type": "code",
   "execution_count": 99,
   "id": "f00b087f",
   "metadata": {
    "execution": {
     "iopub.execute_input": "2022-03-27T15:19:14.317846Z",
     "iopub.status.busy": "2022-03-27T15:19:14.317021Z",
     "iopub.status.idle": "2022-03-27T15:19:14.318829Z",
     "shell.execute_reply": "2022-03-27T15:19:14.319296Z",
     "shell.execute_reply.started": "2022-03-27T14:23:16.910471Z"
    },
    "papermill": {
     "duration": 0.144786,
     "end_time": "2022-03-27T15:19:14.319425",
     "exception": false,
     "start_time": "2022-03-27T15:19:14.174639",
     "status": "completed"
    },
    "tags": []
   },
   "outputs": [],
   "source": [
    "# purchase_df = tmp.sort_values(['customer_id', 'value'], ascending = False).reset_index(drop = True)\n",
    "# purchase_df['prediction'] = '0' + purchase_df['article_id'].astype(str) + ' '\n",
    "# purchase_df = purchase_df.groupby('customer_id').agg({'prediction': sum}).reset_index()\n",
    "# purchase_df['prediction'] = purchase_df['prediction'].str.strip()\n",
    "# purchase_df = cudf.DataFrame(purchase_df)"
   ]
  },
  {
   "cell_type": "code",
   "execution_count": 100,
   "id": "71e61c7c",
   "metadata": {
    "execution": {
     "iopub.execute_input": "2022-03-27T15:19:14.604688Z",
     "iopub.status.busy": "2022-03-27T15:19:14.603835Z",
     "iopub.status.idle": "2022-03-27T15:19:14.605778Z",
     "shell.execute_reply": "2022-03-27T15:19:14.606251Z",
     "shell.execute_reply.started": "2022-03-27T14:23:17.384606Z"
    },
    "papermill": {
     "duration": 0.147876,
     "end_time": "2022-03-27T15:19:14.606392",
     "exception": false,
     "start_time": "2022-03-27T15:19:14.458516",
     "status": "completed"
    },
    "tags": []
   },
   "outputs": [],
   "source": [
    "# %%time\n",
    "# purchase_dict = {}\n",
    "\n",
    "# tmp = df.copy().to_pandas()\n",
    "# tmp['x'] = ((last_ts - tmp['t_dat']) / np.timedelta64(1, 'D')).astype(int)\n",
    "# tmp['dummy_1'] = 1 \n",
    "# tmp['x'] = tmp[[\"x\", \"dummy_1\"]].max(axis=1)\n",
    "\n",
    "# a, b, c, d = 2.5e4, 1.5e5, 2e-1, 1e3\n",
    "# total = 1715530\n",
    "# tmp['y'] = (a / np.sqrt(tmp['x']) + b * np.exp(-c*tmp['x']) - d) / total\n",
    "\n",
    "# tmp['dummy_0'] = 0 \n",
    "# tmp['y'] = tmp[[\"y\", \"dummy_0\"]].max(axis=1)\n",
    "# tmp['value'] = tmp['quotient'] * tmp['y'] \n",
    "\n",
    "# tmp = tmp.groupby(['customer_id', 'article_id']).agg({'value': 'sum'})\n",
    "# tmp = tmp.reset_index()\n",
    "\n",
    "# tmp = tmp.loc[tmp['value'] > 0]\n",
    "# tmp['rank'] = tmp.groupby(\"customer_id\")[\"value\"].rank(\"dense\", ascending=False)\n",
    "# tmp = tmp.loc[tmp['rank'] <= 12]\n",
    "\n",
    "# # for customer_id in tmp['customer_id'].unique():\n",
    "# #     purchase_dict[customer_id] = {} \n",
    "\n",
    "# # for customer_id, article_id, value in zip(tmp['customer_id'], tmp['article_id'], tmp['value']):\n",
    "# #     purchase_dict[customer_id][article_id] = value\n",
    "\n",
    "# purchase_df = tmp.sort_values(['customer_id', 'value'], ascending = False).reset_index(drop = True)\n",
    "# purchase_df['prediction'] = '0' + purchase_df['article_id'].astype(str) + ' '\n",
    "# purchase_df = purchase_df.groupby('customer_id').agg({'prediction': sum}).reset_index()\n",
    "# purchase_df['prediction'] = purchase_df['prediction'].str.strip()\n",
    "# purchase_df = cudf.DataFrame(purchase_df)"
   ]
  },
  {
   "cell_type": "markdown",
   "id": "cf00fc99",
   "metadata": {
    "papermill": {
     "duration": 0.139186,
     "end_time": "2022-03-27T15:19:14.885121",
     "exception": false,
     "start_time": "2022-03-27T15:19:14.745935",
     "status": "completed"
    },
    "tags": []
   },
   "source": [
    "### Make a submission"
   ]
  },
  {
   "cell_type": "code",
   "execution_count": 101,
   "id": "7f2398c7",
   "metadata": {
    "execution": {
     "iopub.execute_input": "2022-03-27T15:19:15.171884Z",
     "iopub.status.busy": "2022-03-27T15:19:15.171207Z",
     "iopub.status.idle": "2022-03-27T15:19:15.236023Z",
     "shell.execute_reply": "2022-03-27T15:19:15.235585Z",
     "shell.execute_reply.started": "2022-03-27T14:23:17.907785Z"
    },
    "papermill": {
     "duration": 0.209633,
     "end_time": "2022-03-27T15:19:15.236139",
     "exception": false,
     "start_time": "2022-03-27T15:19:15.026506",
     "status": "completed"
    },
    "tags": []
   },
   "outputs": [],
   "source": [
    "merge_result[\"article_id\"] = \"0\"+merge_result[\"article_id\"].astype(\"str\")"
   ]
  },
  {
   "cell_type": "code",
   "execution_count": 102,
   "id": "0192cc83",
   "metadata": {
    "execution": {
     "iopub.execute_input": "2022-03-27T15:19:15.522229Z",
     "iopub.status.busy": "2022-03-27T15:19:15.521423Z",
     "iopub.status.idle": "2022-03-27T15:19:15.564956Z",
     "shell.execute_reply": "2022-03-27T15:19:15.565363Z",
     "shell.execute_reply.started": "2022-03-27T14:23:18.467448Z"
    },
    "papermill": {
     "duration": 0.191056,
     "end_time": "2022-03-27T15:19:15.565498",
     "exception": false,
     "start_time": "2022-03-27T15:19:15.374442",
     "status": "completed"
    },
    "tags": []
   },
   "outputs": [
    {
     "data": {
      "text/html": [
       "<div>\n",
       "<style scoped>\n",
       "    .dataframe tbody tr th:only-of-type {\n",
       "        vertical-align: middle;\n",
       "    }\n",
       "\n",
       "    .dataframe tbody tr th {\n",
       "        vertical-align: top;\n",
       "    }\n",
       "\n",
       "    .dataframe thead th {\n",
       "        text-align: right;\n",
       "    }\n",
       "</style>\n",
       "<table border=\"1\" class=\"dataframe\">\n",
       "  <thead>\n",
       "    <tr style=\"text-align: right;\">\n",
       "      <th></th>\n",
       "      <th>customer_id</th>\n",
       "      <th>article_id</th>\n",
       "      <th>score</th>\n",
       "    </tr>\n",
       "  </thead>\n",
       "  <tbody>\n",
       "    <tr>\n",
       "      <th>0</th>\n",
       "      <td>-5135781259237087037</td>\n",
       "      <td>0517729091</td>\n",
       "      <td>0.000325</td>\n",
       "    </tr>\n",
       "    <tr>\n",
       "      <th>1</th>\n",
       "      <td>-5624871500914218579</td>\n",
       "      <td>0751471001</td>\n",
       "      <td>0.002880</td>\n",
       "    </tr>\n",
       "    <tr>\n",
       "      <th>2</th>\n",
       "      <td>-7970946427098838191</td>\n",
       "      <td>0763988001</td>\n",
       "      <td>0.005507</td>\n",
       "    </tr>\n",
       "    <tr>\n",
       "      <th>3</th>\n",
       "      <td>9104575062053714894</td>\n",
       "      <td>0706016001</td>\n",
       "      <td>0.009338</td>\n",
       "    </tr>\n",
       "    <tr>\n",
       "      <th>4</th>\n",
       "      <td>7460620878329655984</td>\n",
       "      <td>0762846027</td>\n",
       "      <td>0.002295</td>\n",
       "    </tr>\n",
       "    <tr>\n",
       "      <th>...</th>\n",
       "      <td>...</td>\n",
       "      <td>...</td>\n",
       "      <td>...</td>\n",
       "    </tr>\n",
       "    <tr>\n",
       "      <th>42789925</th>\n",
       "      <td>1656649288221461275</td>\n",
       "      <td>0542533019</td>\n",
       "      <td>0.000484</td>\n",
       "    </tr>\n",
       "    <tr>\n",
       "      <th>42789926</th>\n",
       "      <td>-2592629029746870892</td>\n",
       "      <td>0797835008</td>\n",
       "      <td>0.005228</td>\n",
       "    </tr>\n",
       "    <tr>\n",
       "      <th>42789927</th>\n",
       "      <td>2024975388967780640</td>\n",
       "      <td>0918522001</td>\n",
       "      <td>0.003060</td>\n",
       "    </tr>\n",
       "    <tr>\n",
       "      <th>42789928</th>\n",
       "      <td>1670701978794802176</td>\n",
       "      <td>0713199006</td>\n",
       "      <td>0.000132</td>\n",
       "    </tr>\n",
       "    <tr>\n",
       "      <th>42789929</th>\n",
       "      <td>193248874012082528</td>\n",
       "      <td>0909371001</td>\n",
       "      <td>0.001495</td>\n",
       "    </tr>\n",
       "  </tbody>\n",
       "</table>\n",
       "<p>42789930 rows × 3 columns</p>\n",
       "</div>"
      ],
      "text/plain": [
       "                  customer_id  article_id     score\n",
       "0        -5135781259237087037  0517729091  0.000325\n",
       "1        -5624871500914218579  0751471001  0.002880\n",
       "2        -7970946427098838191  0763988001  0.005507\n",
       "3         9104575062053714894  0706016001  0.009338\n",
       "4         7460620878329655984  0762846027  0.002295\n",
       "...                       ...         ...       ...\n",
       "42789925  1656649288221461275  0542533019  0.000484\n",
       "42789926 -2592629029746870892  0797835008  0.005228\n",
       "42789927  2024975388967780640  0918522001  0.003060\n",
       "42789928  1670701978794802176  0713199006  0.000132\n",
       "42789929   193248874012082528  0909371001  0.001495\n",
       "\n",
       "[42789930 rows x 3 columns]"
      ]
     },
     "execution_count": 102,
     "metadata": {},
     "output_type": "execute_result"
    }
   ],
   "source": [
    "merge_result"
   ]
  },
  {
   "cell_type": "code",
   "execution_count": 103,
   "id": "0d9a718e",
   "metadata": {
    "execution": {
     "iopub.execute_input": "2022-03-27T15:19:15.850115Z",
     "iopub.status.busy": "2022-03-27T15:19:15.849300Z",
     "iopub.status.idle": "2022-03-27T15:19:16.448293Z",
     "shell.execute_reply": "2022-03-27T15:19:16.447784Z",
     "shell.execute_reply.started": "2022-03-27T14:23:18.977596Z"
    },
    "papermill": {
     "duration": 0.743671,
     "end_time": "2022-03-27T15:19:16.448430",
     "exception": false,
     "start_time": "2022-03-27T15:19:15.704759",
     "status": "completed"
    },
    "tags": []
   },
   "outputs": [],
   "source": [
    "merge_result = merge_result.sort_values(by = [\"customer_id\", \"score\"], ascending = False)"
   ]
  },
  {
   "cell_type": "code",
   "execution_count": 104,
   "id": "cdaacd33",
   "metadata": {
    "execution": {
     "iopub.execute_input": "2022-03-27T15:19:16.773527Z",
     "iopub.status.busy": "2022-03-27T15:19:16.772691Z",
     "iopub.status.idle": "2022-03-27T15:19:16.775113Z",
     "shell.execute_reply": "2022-03-27T15:19:16.774571Z",
     "shell.execute_reply.started": "2022-03-27T14:23:19.763722Z"
    },
    "papermill": {
     "duration": 0.168505,
     "end_time": "2022-03-27T15:19:16.775228",
     "exception": false,
     "start_time": "2022-03-27T15:19:16.606723",
     "status": "completed"
    },
    "tags": []
   },
   "outputs": [],
   "source": [
    "#merge_result.to_pandas()[:10000].groupby([\"customer_id\"])[\"article_id\"].agg(lambda x: print(x.to_list()))"
   ]
  },
  {
   "cell_type": "code",
   "execution_count": 105,
   "id": "3d789830",
   "metadata": {
    "execution": {
     "iopub.execute_input": "2022-03-27T15:19:17.071322Z",
     "iopub.status.busy": "2022-03-27T15:19:17.070523Z",
     "iopub.status.idle": "2022-03-27T15:19:17.111425Z",
     "shell.execute_reply": "2022-03-27T15:19:17.111848Z",
     "shell.execute_reply.started": "2022-03-27T14:23:20.159284Z"
    },
    "papermill": {
     "duration": 0.194834,
     "end_time": "2022-03-27T15:19:17.112004",
     "exception": false,
     "start_time": "2022-03-27T15:19:16.917170",
     "status": "completed"
    },
    "tags": []
   },
   "outputs": [
    {
     "data": {
      "text/html": [
       "<div>\n",
       "<style scoped>\n",
       "    .dataframe tbody tr th:only-of-type {\n",
       "        vertical-align: middle;\n",
       "    }\n",
       "\n",
       "    .dataframe tbody tr th {\n",
       "        vertical-align: top;\n",
       "    }\n",
       "\n",
       "    .dataframe thead th {\n",
       "        text-align: right;\n",
       "    }\n",
       "</style>\n",
       "<table border=\"1\" class=\"dataframe\">\n",
       "  <thead>\n",
       "    <tr style=\"text-align: right;\">\n",
       "      <th></th>\n",
       "      <th>customer_id</th>\n",
       "      <th>article_id</th>\n",
       "      <th>score</th>\n",
       "    </tr>\n",
       "  </thead>\n",
       "  <tbody>\n",
       "    <tr>\n",
       "      <th>41094896</th>\n",
       "      <td>9223370729206611574</td>\n",
       "      <td>0909370001</td>\n",
       "      <td>0.006153</td>\n",
       "    </tr>\n",
       "    <tr>\n",
       "      <th>8535733</th>\n",
       "      <td>9223370729206611574</td>\n",
       "      <td>0909371001</td>\n",
       "      <td>0.004058</td>\n",
       "    </tr>\n",
       "    <tr>\n",
       "      <th>989138</th>\n",
       "      <td>9223370729206611574</td>\n",
       "      <td>0805947001</td>\n",
       "      <td>0.002095</td>\n",
       "    </tr>\n",
       "    <tr>\n",
       "      <th>1309826</th>\n",
       "      <td>9223370729206611574</td>\n",
       "      <td>0908799002</td>\n",
       "      <td>0.001833</td>\n",
       "    </tr>\n",
       "    <tr>\n",
       "      <th>2527303</th>\n",
       "      <td>9223370729206611574</td>\n",
       "      <td>0935892001</td>\n",
       "      <td>0.001833</td>\n",
       "    </tr>\n",
       "    <tr>\n",
       "      <th>...</th>\n",
       "      <td>...</td>\n",
       "      <td>...</td>\n",
       "      <td>...</td>\n",
       "    </tr>\n",
       "    <tr>\n",
       "      <th>42431249</th>\n",
       "      <td>-9223352921020755230</td>\n",
       "      <td>0562245046</td>\n",
       "      <td>0.002872</td>\n",
       "    </tr>\n",
       "    <tr>\n",
       "      <th>20839021</th>\n",
       "      <td>-9223352921020755230</td>\n",
       "      <td>0751471001</td>\n",
       "      <td>0.002558</td>\n",
       "    </tr>\n",
       "    <tr>\n",
       "      <th>32816846</th>\n",
       "      <td>-9223352921020755230</td>\n",
       "      <td>0372860002</td>\n",
       "      <td>0.002471</td>\n",
       "    </tr>\n",
       "    <tr>\n",
       "      <th>37625351</th>\n",
       "      <td>-9223352921020755230</td>\n",
       "      <td>0156231001</td>\n",
       "      <td>0.002209</td>\n",
       "    </tr>\n",
       "    <tr>\n",
       "      <th>1229566</th>\n",
       "      <td>-9223352921020755230</td>\n",
       "      <td>0568597006</td>\n",
       "      <td>0.000559</td>\n",
       "    </tr>\n",
       "  </tbody>\n",
       "</table>\n",
       "<p>42789930 rows × 3 columns</p>\n",
       "</div>"
      ],
      "text/plain": [
       "                  customer_id  article_id     score\n",
       "41094896  9223370729206611574  0909370001  0.006153\n",
       "8535733   9223370729206611574  0909371001  0.004058\n",
       "989138    9223370729206611574  0805947001  0.002095\n",
       "1309826   9223370729206611574  0908799002  0.001833\n",
       "2527303   9223370729206611574  0935892001  0.001833\n",
       "...                       ...         ...       ...\n",
       "42431249 -9223352921020755230  0562245046  0.002872\n",
       "20839021 -9223352921020755230  0751471001  0.002558\n",
       "32816846 -9223352921020755230  0372860002  0.002471\n",
       "37625351 -9223352921020755230  0156231001  0.002209\n",
       "1229566  -9223352921020755230  0568597006  0.000559\n",
       "\n",
       "[42789930 rows x 3 columns]"
      ]
     },
     "execution_count": 105,
     "metadata": {},
     "output_type": "execute_result"
    }
   ],
   "source": [
    "merge_result"
   ]
  },
  {
   "cell_type": "code",
   "execution_count": 106,
   "id": "6dabc660",
   "metadata": {
    "execution": {
     "iopub.execute_input": "2022-03-27T15:19:17.397840Z",
     "iopub.status.busy": "2022-03-27T15:19:17.396781Z",
     "iopub.status.idle": "2022-03-27T15:19:38.117090Z",
     "shell.execute_reply": "2022-03-27T15:19:38.116215Z",
     "shell.execute_reply.started": "2022-03-27T14:23:20.539918Z"
    },
    "papermill": {
     "duration": 20.864389,
     "end_time": "2022-03-27T15:19:38.117235",
     "exception": false,
     "start_time": "2022-03-27T15:19:17.252846",
     "status": "completed"
    },
    "tags": []
   },
   "outputs": [],
   "source": [
    "final = merge_result.to_pandas().groupby([\"customer_id\"])[\"article_id\"].agg(lambda x: \" \".join(x)[:131])"
   ]
  },
  {
   "cell_type": "code",
   "execution_count": 107,
   "id": "e0e8a645",
   "metadata": {
    "execution": {
     "iopub.execute_input": "2022-03-27T15:19:38.414124Z",
     "iopub.status.busy": "2022-03-27T15:19:38.413475Z",
     "iopub.status.idle": "2022-03-27T15:19:38.416265Z",
     "shell.execute_reply": "2022-03-27T15:19:38.415789Z",
     "shell.execute_reply.started": "2022-03-27T14:23:41.183517Z"
    },
    "papermill": {
     "duration": 0.149396,
     "end_time": "2022-03-27T15:19:38.416379",
     "exception": false,
     "start_time": "2022-03-27T15:19:38.266983",
     "status": "completed"
    },
    "tags": []
   },
   "outputs": [],
   "source": [
    "# source = merge_result.to_pandas().groupby([\"customer_id\"])[\"article_id\"].agg(lambda x: \" \".join(x)[:131])"
   ]
  },
  {
   "cell_type": "code",
   "execution_count": 108,
   "id": "ccc9b581",
   "metadata": {
    "execution": {
     "iopub.execute_input": "2022-03-27T15:19:38.740993Z",
     "iopub.status.busy": "2022-03-27T15:19:38.740305Z",
     "iopub.status.idle": "2022-03-27T15:19:38.818768Z",
     "shell.execute_reply": "2022-03-27T15:19:38.817738Z",
     "shell.execute_reply.started": "2022-03-27T14:23:41.191125Z"
    },
    "papermill": {
     "duration": 0.262505,
     "end_time": "2022-03-27T15:19:38.818900",
     "exception": false,
     "start_time": "2022-03-27T15:19:38.556395",
     "status": "completed"
    },
    "tags": []
   },
   "outputs": [],
   "source": [
    "final = final.reset_index()"
   ]
  },
  {
   "cell_type": "code",
   "execution_count": 109,
   "id": "805290c0",
   "metadata": {
    "execution": {
     "iopub.execute_input": "2022-03-27T15:19:39.118396Z",
     "iopub.status.busy": "2022-03-27T15:19:39.117322Z",
     "iopub.status.idle": "2022-03-27T15:19:39.158167Z",
     "shell.execute_reply": "2022-03-27T15:19:39.157597Z",
     "shell.execute_reply.started": "2022-03-27T14:23:41.304062Z"
    },
    "papermill": {
     "duration": 0.19487,
     "end_time": "2022-03-27T15:19:39.158307",
     "exception": false,
     "start_time": "2022-03-27T15:19:38.963437",
     "status": "completed"
    },
    "tags": []
   },
   "outputs": [],
   "source": [
    "final = final.rename(columns = {\"article_id\": \"prediction\"})"
   ]
  },
  {
   "cell_type": "code",
   "execution_count": 110,
   "id": "6c412e54",
   "metadata": {
    "execution": {
     "iopub.execute_input": "2022-03-27T15:19:39.458901Z",
     "iopub.status.busy": "2022-03-27T15:19:39.458185Z",
     "iopub.status.idle": "2022-03-27T15:19:39.461008Z",
     "shell.execute_reply": "2022-03-27T15:19:39.461407Z",
     "shell.execute_reply.started": "2022-03-27T14:23:41.351202Z"
    },
    "papermill": {
     "duration": 0.152669,
     "end_time": "2022-03-27T15:19:39.461535",
     "exception": false,
     "start_time": "2022-03-27T15:19:39.308866",
     "status": "completed"
    },
    "tags": []
   },
   "outputs": [
    {
     "data": {
      "text/html": [
       "<div>\n",
       "<style scoped>\n",
       "    .dataframe tbody tr th:only-of-type {\n",
       "        vertical-align: middle;\n",
       "    }\n",
       "\n",
       "    .dataframe tbody tr th {\n",
       "        vertical-align: top;\n",
       "    }\n",
       "\n",
       "    .dataframe thead th {\n",
       "        text-align: right;\n",
       "    }\n",
       "</style>\n",
       "<table border=\"1\" class=\"dataframe\">\n",
       "  <thead>\n",
       "    <tr style=\"text-align: right;\">\n",
       "      <th></th>\n",
       "      <th>customer_id</th>\n",
       "      <th>prediction</th>\n",
       "    </tr>\n",
       "  </thead>\n",
       "  <tbody>\n",
       "    <tr>\n",
       "      <th>0</th>\n",
       "      <td>-9223352921020755230</td>\n",
       "      <td>0673396002 0860949002 0739590032 0812167004 07...</td>\n",
       "    </tr>\n",
       "    <tr>\n",
       "      <th>1</th>\n",
       "      <td>-9223343869995384291</td>\n",
       "      <td>0908292002 0910601003 0706016001 0865929007 09...</td>\n",
       "    </tr>\n",
       "    <tr>\n",
       "      <th>2</th>\n",
       "      <td>-9223321797620987725</td>\n",
       "      <td>0751471043 0865799006 0918522001 0910601003 09...</td>\n",
       "    </tr>\n",
       "    <tr>\n",
       "      <th>3</th>\n",
       "      <td>-9223319430705797669</td>\n",
       "      <td>0685814003 0448509014 0715624001 0918522001 07...</td>\n",
       "    </tr>\n",
       "    <tr>\n",
       "      <th>4</th>\n",
       "      <td>-9223308614576639426</td>\n",
       "      <td>0872537004 0899282001 0865929003 0749097003 05...</td>\n",
       "    </tr>\n",
       "    <tr>\n",
       "      <th>...</th>\n",
       "      <td>...</td>\n",
       "      <td>...</td>\n",
       "    </tr>\n",
       "    <tr>\n",
       "      <th>1364779</th>\n",
       "      <td>9223319300843860958</td>\n",
       "      <td>0751471001 0751471038 0751471043 0673677002 09...</td>\n",
       "    </tr>\n",
       "    <tr>\n",
       "      <th>1364780</th>\n",
       "      <td>9223333063893176977</td>\n",
       "      <td>0909370001 0865799006 0924243001 0809238001 09...</td>\n",
       "    </tr>\n",
       "    <tr>\n",
       "      <th>1364781</th>\n",
       "      <td>9223345314868180224</td>\n",
       "      <td>0909370001 0717464001 0841383002 0809238001 08...</td>\n",
       "    </tr>\n",
       "    <tr>\n",
       "      <th>1364782</th>\n",
       "      <td>9223357421094039679</td>\n",
       "      <td>0918522001 0751471043 0751471001 0924243001 07...</td>\n",
       "    </tr>\n",
       "    <tr>\n",
       "      <th>1364783</th>\n",
       "      <td>9223370729206611574</td>\n",
       "      <td>0909370001 0909371001 0805947001 0908799002 09...</td>\n",
       "    </tr>\n",
       "  </tbody>\n",
       "</table>\n",
       "<p>1364784 rows × 2 columns</p>\n",
       "</div>"
      ],
      "text/plain": [
       "                 customer_id  \\\n",
       "0       -9223352921020755230   \n",
       "1       -9223343869995384291   \n",
       "2       -9223321797620987725   \n",
       "3       -9223319430705797669   \n",
       "4       -9223308614576639426   \n",
       "...                      ...   \n",
       "1364779  9223319300843860958   \n",
       "1364780  9223333063893176977   \n",
       "1364781  9223345314868180224   \n",
       "1364782  9223357421094039679   \n",
       "1364783  9223370729206611574   \n",
       "\n",
       "                                                prediction  \n",
       "0        0673396002 0860949002 0739590032 0812167004 07...  \n",
       "1        0908292002 0910601003 0706016001 0865929007 09...  \n",
       "2        0751471043 0865799006 0918522001 0910601003 09...  \n",
       "3        0685814003 0448509014 0715624001 0918522001 07...  \n",
       "4        0872537004 0899282001 0865929003 0749097003 05...  \n",
       "...                                                    ...  \n",
       "1364779  0751471001 0751471038 0751471043 0673677002 09...  \n",
       "1364780  0909370001 0865799006 0924243001 0809238001 09...  \n",
       "1364781  0909370001 0717464001 0841383002 0809238001 08...  \n",
       "1364782  0918522001 0751471043 0751471001 0924243001 07...  \n",
       "1364783  0909370001 0909371001 0805947001 0908799002 09...  \n",
       "\n",
       "[1364784 rows x 2 columns]"
      ]
     },
     "execution_count": 110,
     "metadata": {},
     "output_type": "execute_result"
    }
   ],
   "source": [
    "final"
   ]
  },
  {
   "cell_type": "code",
   "execution_count": 111,
   "id": "d929dfb8",
   "metadata": {
    "execution": {
     "iopub.execute_input": "2022-03-27T15:19:39.881243Z",
     "iopub.status.busy": "2022-03-27T15:19:39.880480Z",
     "iopub.status.idle": "2022-03-27T15:19:39.883552Z",
     "shell.execute_reply": "2022-03-27T15:19:39.884039Z",
     "shell.execute_reply.started": "2022-03-27T14:23:41.365106Z"
    },
    "papermill": {
     "duration": 0.282502,
     "end_time": "2022-03-27T15:19:39.884196",
     "exception": false,
     "start_time": "2022-03-27T15:19:39.601694",
     "status": "completed"
    },
    "tags": []
   },
   "outputs": [
    {
     "data": {
      "text/plain": [
       "126"
      ]
     },
     "execution_count": 111,
     "metadata": {},
     "output_type": "execute_result"
    }
   ],
   "source": [
    "gc.collect()"
   ]
  },
  {
   "cell_type": "code",
   "execution_count": 112,
   "id": "959e2d70",
   "metadata": {
    "execution": {
     "iopub.execute_input": "2022-03-27T15:19:40.179257Z",
     "iopub.status.busy": "2022-03-27T15:19:40.178676Z",
     "iopub.status.idle": "2022-03-27T15:19:41.276849Z",
     "shell.execute_reply": "2022-03-27T15:19:41.276256Z",
     "shell.execute_reply.started": "2022-03-27T14:23:41.625284Z"
    },
    "papermill": {
     "duration": 1.247199,
     "end_time": "2022-03-27T15:19:41.277055",
     "exception": false,
     "start_time": "2022-03-27T15:19:40.029856",
     "status": "completed"
    },
    "tags": []
   },
   "outputs": [],
   "source": [
    "if Last_date == \"2020-09-22\":\n",
    "    sub  = cudf.read_csv('../input/h-and-m-personalized-fashion-recommendations/sample_submission.csv',\n",
    "                                usecols= ['customer_id'], \n",
    "                                dtype={'customer_id': 'string'})\n",
    "\n",
    "    sub['customer_id2'] = sub['customer_id'].str[-16:].str.hex_to_int().astype('int64')\n",
    "\n",
    "    sub = sub.to_pandas().merge(final, left_on = 'customer_id2', right_on = 'customer_id', how = 'left',\n",
    "                   suffixes = ('', '_ignored'))\n",
    "else:\n",
    "    sub  = cudf.read_csv('../input/h-and-m-personalized-fashion-recommendations/sample_submission.csv',\n",
    "                                usecols= ['customer_id'], \n",
    "                                dtype={'customer_id': 'string'})\n",
    "\n",
    "    sub['customer_id'] = sub['customer_id'].str[-16:].str.hex_to_int().astype('int64')\n",
    "\n",
    "    sub = sub.to_pandas().merge(final, left_on = 'customer_id', right_on = 'customer_id', how = 'left',\n",
    "                   suffixes = ('', '_ignored'))\n",
    "    \n",
    "\n",
    "#sub = sub.to_pandas()\n",
    "\n",
    "\n",
    "#final = sub.groupby([\"customer_id\"])[\"article_id\"].agg(lambda x: \" \".join(x + [general_pred_str]).strip()[:131])\n",
    "\n",
    "# sub['prediction'] = sub['prediction'].fillna(general_pred_str)\n",
    "# sub['prediction'] = sub['prediction'] + ' ' +  general_pred_str\n",
    "# sub['prediction'] = sub['prediction'].str.strip()\n",
    "# sub['prediction'] = sub['prediction'].str[:131]\n",
    "# sub = sub[['customer_id', 'prediction']]\n",
    "# sub.to_csv(f'submission.csv',index=False)\n"
   ]
  },
  {
   "cell_type": "code",
   "execution_count": 113,
   "id": "ea54a812",
   "metadata": {
    "execution": {
     "iopub.execute_input": "2022-03-27T15:19:41.870390Z",
     "iopub.status.busy": "2022-03-27T15:19:41.869406Z",
     "iopub.status.idle": "2022-03-27T15:19:41.873213Z",
     "shell.execute_reply": "2022-03-27T15:19:41.873729Z",
     "shell.execute_reply.started": "2022-03-27T14:23:42.774510Z"
    },
    "papermill": {
     "duration": 0.435881,
     "end_time": "2022-03-27T15:19:41.873888",
     "exception": false,
     "start_time": "2022-03-27T15:19:41.438007",
     "status": "completed"
    },
    "tags": []
   },
   "outputs": [
    {
     "data": {
      "text/plain": [
       "7196"
      ]
     },
     "execution_count": 113,
     "metadata": {},
     "output_type": "execute_result"
    }
   ],
   "source": [
    "sub[\"prediction\"].isna().sum()"
   ]
  },
  {
   "cell_type": "code",
   "execution_count": 114,
   "id": "56db3ffa",
   "metadata": {
    "execution": {
     "iopub.execute_input": "2022-03-27T15:19:42.223118Z",
     "iopub.status.busy": "2022-03-27T15:19:42.222492Z",
     "iopub.status.idle": "2022-03-27T15:19:42.226602Z",
     "shell.execute_reply": "2022-03-27T15:19:42.226092Z",
     "shell.execute_reply.started": "2022-03-27T14:23:43.044549Z"
    },
    "papermill": {
     "duration": 0.174074,
     "end_time": "2022-03-27T15:19:42.226729",
     "exception": false,
     "start_time": "2022-03-27T15:19:42.052655",
     "status": "completed"
    },
    "tags": []
   },
   "outputs": [
    {
     "data": {
      "text/plain": [
       "'0909370001 0865799006 0918522001 0924243001 0448509014 0751471001 0809238001 0918292001 0762846027 0809238005 0673677002 0923758001'"
      ]
     },
     "execution_count": 114,
     "metadata": {},
     "output_type": "execute_result"
    }
   ],
   "source": [
    "general_pred_str"
   ]
  },
  {
   "cell_type": "code",
   "execution_count": 115,
   "id": "64058f14",
   "metadata": {
    "execution": {
     "iopub.execute_input": "2022-03-27T15:19:42.547760Z",
     "iopub.status.busy": "2022-03-27T15:19:42.547001Z",
     "iopub.status.idle": "2022-03-27T15:19:42.711728Z",
     "shell.execute_reply": "2022-03-27T15:19:42.710732Z",
     "shell.execute_reply.started": "2022-03-27T14:23:43.055107Z"
    },
    "papermill": {
     "duration": 0.327294,
     "end_time": "2022-03-27T15:19:42.711860",
     "exception": false,
     "start_time": "2022-03-27T15:19:42.384566",
     "status": "completed"
    },
    "tags": []
   },
   "outputs": [],
   "source": [
    "sub_id  = cudf.read_csv('../input/h-and-m-personalized-fashion-recommendations/sample_submission.csv',\n",
    "                                usecols= ['customer_id'], \n",
    "                                dtype={'customer_id': 'string'})\n",
    "cid = cudf.DataFrame(sub_id['customer_id'].str[-16:].str.hex_to_int().astype('int64'))"
   ]
  },
  {
   "cell_type": "code",
   "execution_count": 116,
   "id": "e3e9f219",
   "metadata": {
    "execution": {
     "iopub.execute_input": "2022-03-27T15:19:43.002771Z",
     "iopub.status.busy": "2022-03-27T15:19:43.002047Z",
     "iopub.status.idle": "2022-03-27T15:19:43.004612Z",
     "shell.execute_reply": "2022-03-27T15:19:43.004180Z",
     "shell.execute_reply.started": "2022-03-27T14:23:43.222148Z"
    },
    "papermill": {
     "duration": 0.149405,
     "end_time": "2022-03-27T15:19:43.004722",
     "exception": false,
     "start_time": "2022-03-27T15:19:42.855317",
     "status": "completed"
    },
    "tags": []
   },
   "outputs": [],
   "source": [
    "cid[\"customer_id\"] = cid[\"customer_id\"].astype(\"int64\")"
   ]
  },
  {
   "cell_type": "code",
   "execution_count": 117,
   "id": "8eb77001",
   "metadata": {
    "execution": {
     "iopub.execute_input": "2022-03-27T15:19:43.295232Z",
     "iopub.status.busy": "2022-03-27T15:19:43.294437Z",
     "iopub.status.idle": "2022-03-27T15:19:44.572138Z",
     "shell.execute_reply": "2022-03-27T15:19:44.571576Z",
     "shell.execute_reply.started": "2022-03-27T14:23:43.228475Z"
    },
    "papermill": {
     "duration": 1.424782,
     "end_time": "2022-03-27T15:19:44.572276",
     "exception": false,
     "start_time": "2022-03-27T15:19:43.147494",
     "status": "completed"
    },
    "tags": []
   },
   "outputs": [],
   "source": [
    "def iter_to_str(iterable):\n",
    "    return \" \".join(map(lambda x: str(0) + str(x), iterable))\n",
    "real = val.to_pandas().groupby('customer_id')[\"article_id\"].apply(iter_to_str).reset_index()"
   ]
  },
  {
   "cell_type": "code",
   "execution_count": 118,
   "id": "95c661cc",
   "metadata": {
    "execution": {
     "iopub.execute_input": "2022-03-27T15:19:44.880067Z",
     "iopub.status.busy": "2022-03-27T15:19:44.878990Z",
     "iopub.status.idle": "2022-03-27T15:19:45.185342Z",
     "shell.execute_reply": "2022-03-27T15:19:45.184715Z",
     "shell.execute_reply.started": "2022-03-27T14:23:44.547903Z"
    },
    "papermill": {
     "duration": 0.461401,
     "end_time": "2022-03-27T15:19:45.185488",
     "exception": false,
     "start_time": "2022-03-27T15:19:44.724087",
     "status": "completed"
    },
    "tags": []
   },
   "outputs": [],
   "source": [
    "real = real.merge(cid.to_pandas(), on='customer_id', how='inner')\n",
    "real.article_id = real.article_id.apply(lambda s: [] if pd.isna(s) else s.split())"
   ]
  },
  {
   "cell_type": "code",
   "execution_count": 119,
   "id": "ddc17ba6",
   "metadata": {
    "execution": {
     "iopub.execute_input": "2022-03-27T15:19:45.483453Z",
     "iopub.status.busy": "2022-03-27T15:19:45.482707Z",
     "iopub.status.idle": "2022-03-27T15:19:45.487202Z",
     "shell.execute_reply": "2022-03-27T15:19:45.486744Z",
     "shell.execute_reply.started": "2022-03-27T14:23:44.881552Z"
    },
    "papermill": {
     "duration": 0.159151,
     "end_time": "2022-03-27T15:19:45.487316",
     "exception": false,
     "start_time": "2022-03-27T15:19:45.328165",
     "status": "completed"
    },
    "tags": []
   },
   "outputs": [
    {
     "data": {
      "text/html": [
       "<div>\n",
       "<style scoped>\n",
       "    .dataframe tbody tr th:only-of-type {\n",
       "        vertical-align: middle;\n",
       "    }\n",
       "\n",
       "    .dataframe tbody tr th {\n",
       "        vertical-align: top;\n",
       "    }\n",
       "\n",
       "    .dataframe thead th {\n",
       "        text-align: right;\n",
       "    }\n",
       "</style>\n",
       "<table border=\"1\" class=\"dataframe\">\n",
       "  <thead>\n",
       "    <tr style=\"text-align: right;\">\n",
       "      <th></th>\n",
       "      <th>customer_id</th>\n",
       "      <th>article_id</th>\n",
       "    </tr>\n",
       "  </thead>\n",
       "  <tbody>\n",
       "    <tr>\n",
       "      <th>0</th>\n",
       "      <td>-9223100958908512198</td>\n",
       "      <td>[0785034009, 0673677027, 0673677024]</td>\n",
       "    </tr>\n",
       "    <tr>\n",
       "      <th>1</th>\n",
       "      <td>-9223002534477110135</td>\n",
       "      <td>[0793699001]</td>\n",
       "    </tr>\n",
       "    <tr>\n",
       "      <th>2</th>\n",
       "      <td>-9222810895170663723</td>\n",
       "      <td>[0892309001, 0903306004]</td>\n",
       "    </tr>\n",
       "    <tr>\n",
       "      <th>3</th>\n",
       "      <td>-9221924794303263774</td>\n",
       "      <td>[0888343003, 0892857002, 0708138013]</td>\n",
       "    </tr>\n",
       "    <tr>\n",
       "      <th>4</th>\n",
       "      <td>-9221811157628158522</td>\n",
       "      <td>[0891663002]</td>\n",
       "    </tr>\n",
       "    <tr>\n",
       "      <th>...</th>\n",
       "      <td>...</td>\n",
       "      <td>...</td>\n",
       "    </tr>\n",
       "    <tr>\n",
       "      <th>68979</th>\n",
       "      <td>9221607025486275188</td>\n",
       "      <td>[0751994003, 0699755081, 0699755071]</td>\n",
       "    </tr>\n",
       "    <tr>\n",
       "      <th>68980</th>\n",
       "      <td>9221813808370389952</td>\n",
       "      <td>[0869331006, 0562245099, 0865929002]</td>\n",
       "    </tr>\n",
       "    <tr>\n",
       "      <th>68981</th>\n",
       "      <td>9222310594107555341</td>\n",
       "      <td>[0884319001, 0884319003]</td>\n",
       "    </tr>\n",
       "    <tr>\n",
       "      <th>68982</th>\n",
       "      <td>9223099843213569889</td>\n",
       "      <td>[0903924002]</td>\n",
       "    </tr>\n",
       "    <tr>\n",
       "      <th>68983</th>\n",
       "      <td>9223141695752178477</td>\n",
       "      <td>[0914441003]</td>\n",
       "    </tr>\n",
       "  </tbody>\n",
       "</table>\n",
       "<p>68984 rows × 2 columns</p>\n",
       "</div>"
      ],
      "text/plain": [
       "               customer_id                            article_id\n",
       "0     -9223100958908512198  [0785034009, 0673677027, 0673677024]\n",
       "1     -9223002534477110135                          [0793699001]\n",
       "2     -9222810895170663723              [0892309001, 0903306004]\n",
       "3     -9221924794303263774  [0888343003, 0892857002, 0708138013]\n",
       "4     -9221811157628158522                          [0891663002]\n",
       "...                    ...                                   ...\n",
       "68979  9221607025486275188  [0751994003, 0699755081, 0699755071]\n",
       "68980  9221813808370389952  [0869331006, 0562245099, 0865929002]\n",
       "68981  9222310594107555341              [0884319001, 0884319003]\n",
       "68982  9223099843213569889                          [0903924002]\n",
       "68983  9223141695752178477                          [0914441003]\n",
       "\n",
       "[68984 rows x 2 columns]"
      ]
     },
     "execution_count": 119,
     "metadata": {},
     "output_type": "execute_result"
    }
   ],
   "source": [
    "real"
   ]
  },
  {
   "cell_type": "code",
   "execution_count": 120,
   "id": "ae8cdf02",
   "metadata": {
    "execution": {
     "iopub.execute_input": "2022-03-27T15:19:46.028801Z",
     "iopub.status.busy": "2022-03-27T15:19:46.027247Z",
     "iopub.status.idle": "2022-03-27T15:19:48.058650Z",
     "shell.execute_reply": "2022-03-27T15:19:48.058178Z",
     "shell.execute_reply.started": "2022-03-27T14:23:44.895643Z"
    },
    "papermill": {
     "duration": 2.429035,
     "end_time": "2022-03-27T15:19:48.058781",
     "exception": false,
     "start_time": "2022-03-27T15:19:45.629746",
     "status": "completed"
    },
    "tags": []
   },
   "outputs": [],
   "source": [
    "sub[\"prediction\"] = sub[\"prediction\"].fillna(general_pred_str)\n",
    "sub['prediction'] = sub['prediction'] + ' ' +  general_pred_str\n",
    "sub['prediction'] = sub['prediction'].str[:131]"
   ]
  },
  {
   "cell_type": "code",
   "execution_count": 121,
   "id": "a5b07a0a",
   "metadata": {
    "execution": {
     "iopub.execute_input": "2022-03-27T15:19:48.389263Z",
     "iopub.status.busy": "2022-03-27T15:19:48.388497Z",
     "iopub.status.idle": "2022-03-27T15:19:48.391679Z",
     "shell.execute_reply": "2022-03-27T15:19:48.392113Z",
     "shell.execute_reply.started": "2022-03-27T14:23:47.293008Z"
    },
    "papermill": {
     "duration": 0.190324,
     "end_time": "2022-03-27T15:19:48.392249",
     "exception": false,
     "start_time": "2022-03-27T15:19:48.201925",
     "status": "completed"
    },
    "tags": []
   },
   "outputs": [
    {
     "data": {
      "text/html": [
       "<div>\n",
       "<style scoped>\n",
       "    .dataframe tbody tr th:only-of-type {\n",
       "        vertical-align: middle;\n",
       "    }\n",
       "\n",
       "    .dataframe tbody tr th {\n",
       "        vertical-align: top;\n",
       "    }\n",
       "\n",
       "    .dataframe thead th {\n",
       "        text-align: right;\n",
       "    }\n",
       "</style>\n",
       "<table border=\"1\" class=\"dataframe\">\n",
       "  <thead>\n",
       "    <tr style=\"text-align: right;\">\n",
       "      <th></th>\n",
       "      <th>customer_id</th>\n",
       "      <th>article_id</th>\n",
       "    </tr>\n",
       "  </thead>\n",
       "  <tbody>\n",
       "    <tr>\n",
       "      <th>0</th>\n",
       "      <td>-9223100958908512198</td>\n",
       "      <td>[0785034009, 0673677027, 0673677024]</td>\n",
       "    </tr>\n",
       "    <tr>\n",
       "      <th>1</th>\n",
       "      <td>-9223002534477110135</td>\n",
       "      <td>[0793699001]</td>\n",
       "    </tr>\n",
       "    <tr>\n",
       "      <th>2</th>\n",
       "      <td>-9222810895170663723</td>\n",
       "      <td>[0892309001, 0903306004]</td>\n",
       "    </tr>\n",
       "    <tr>\n",
       "      <th>3</th>\n",
       "      <td>-9221924794303263774</td>\n",
       "      <td>[0888343003, 0892857002, 0708138013]</td>\n",
       "    </tr>\n",
       "    <tr>\n",
       "      <th>4</th>\n",
       "      <td>-9221811157628158522</td>\n",
       "      <td>[0891663002]</td>\n",
       "    </tr>\n",
       "    <tr>\n",
       "      <th>...</th>\n",
       "      <td>...</td>\n",
       "      <td>...</td>\n",
       "    </tr>\n",
       "    <tr>\n",
       "      <th>68979</th>\n",
       "      <td>9221607025486275188</td>\n",
       "      <td>[0751994003, 0699755081, 0699755071]</td>\n",
       "    </tr>\n",
       "    <tr>\n",
       "      <th>68980</th>\n",
       "      <td>9221813808370389952</td>\n",
       "      <td>[0869331006, 0562245099, 0865929002]</td>\n",
       "    </tr>\n",
       "    <tr>\n",
       "      <th>68981</th>\n",
       "      <td>9222310594107555341</td>\n",
       "      <td>[0884319001, 0884319003]</td>\n",
       "    </tr>\n",
       "    <tr>\n",
       "      <th>68982</th>\n",
       "      <td>9223099843213569889</td>\n",
       "      <td>[0903924002]</td>\n",
       "    </tr>\n",
       "    <tr>\n",
       "      <th>68983</th>\n",
       "      <td>9223141695752178477</td>\n",
       "      <td>[0914441003]</td>\n",
       "    </tr>\n",
       "  </tbody>\n",
       "</table>\n",
       "<p>68984 rows × 2 columns</p>\n",
       "</div>"
      ],
      "text/plain": [
       "               customer_id                            article_id\n",
       "0     -9223100958908512198  [0785034009, 0673677027, 0673677024]\n",
       "1     -9223002534477110135                          [0793699001]\n",
       "2     -9222810895170663723              [0892309001, 0903306004]\n",
       "3     -9221924794303263774  [0888343003, 0892857002, 0708138013]\n",
       "4     -9221811157628158522                          [0891663002]\n",
       "...                    ...                                   ...\n",
       "68979  9221607025486275188  [0751994003, 0699755081, 0699755071]\n",
       "68980  9221813808370389952  [0869331006, 0562245099, 0865929002]\n",
       "68981  9222310594107555341              [0884319001, 0884319003]\n",
       "68982  9223099843213569889                          [0903924002]\n",
       "68983  9223141695752178477                          [0914441003]\n",
       "\n",
       "[68984 rows x 2 columns]"
      ]
     },
     "execution_count": 121,
     "metadata": {},
     "output_type": "execute_result"
    }
   ],
   "source": [
    "real"
   ]
  },
  {
   "cell_type": "code",
   "execution_count": 122,
   "id": "84e9e88e",
   "metadata": {
    "execution": {
     "iopub.execute_input": "2022-03-27T15:19:48.680647Z",
     "iopub.status.busy": "2022-03-27T15:19:48.679117Z",
     "iopub.status.idle": "2022-03-27T15:19:48.681277Z",
     "shell.execute_reply": "2022-03-27T15:19:48.681684Z",
     "shell.execute_reply.started": "2022-03-27T14:23:47.309267Z"
    },
    "papermill": {
     "duration": 0.147117,
     "end_time": "2022-03-27T15:19:48.681804",
     "exception": false,
     "start_time": "2022-03-27T15:19:48.534687",
     "status": "completed"
    },
    "tags": []
   },
   "outputs": [],
   "source": [
    "#sub[:10000].groupby([\"customer_id\"])[\"article_id\"].agg(lambda x: \" \".join(x).strip()[:131])"
   ]
  },
  {
   "cell_type": "code",
   "execution_count": 123,
   "id": "77dd3f27",
   "metadata": {
    "execution": {
     "iopub.execute_input": "2022-03-27T15:19:48.975406Z",
     "iopub.status.busy": "2022-03-27T15:19:48.973852Z",
     "iopub.status.idle": "2022-03-27T15:19:48.976040Z",
     "shell.execute_reply": "2022-03-27T15:19:48.976451Z",
     "shell.execute_reply.started": "2022-03-27T14:23:47.317206Z"
    },
    "papermill": {
     "duration": 0.1521,
     "end_time": "2022-03-27T15:19:48.976574",
     "exception": false,
     "start_time": "2022-03-27T15:19:48.824474",
     "status": "completed"
    },
    "tags": []
   },
   "outputs": [],
   "source": [
    "#final"
   ]
  },
  {
   "cell_type": "markdown",
   "id": "51839591",
   "metadata": {
    "papermill": {
     "duration": 0.142094,
     "end_time": "2022-03-27T15:19:49.266486",
     "exception": false,
     "start_time": "2022-03-27T15:19:49.124392",
     "status": "completed"
    },
    "tags": []
   },
   "source": [
    "## 验证集评估"
   ]
  },
  {
   "cell_type": "code",
   "execution_count": 124,
   "id": "19cfd7db",
   "metadata": {
    "execution": {
     "iopub.execute_input": "2022-03-27T15:19:49.690360Z",
     "iopub.status.busy": "2022-03-27T15:19:49.689688Z",
     "iopub.status.idle": "2022-03-27T15:19:49.692676Z",
     "shell.execute_reply": "2022-03-27T15:19:49.693092Z",
     "shell.execute_reply.started": "2022-03-27T14:23:47.325435Z"
    },
    "papermill": {
     "duration": 0.284507,
     "end_time": "2022-03-27T15:19:49.693236",
     "exception": false,
     "start_time": "2022-03-27T15:19:49.408729",
     "status": "completed"
    },
    "tags": []
   },
   "outputs": [
    {
     "data": {
      "text/plain": [
       "142"
      ]
     },
     "execution_count": 124,
     "metadata": {},
     "output_type": "execute_result"
    }
   ],
   "source": [
    "gc.collect()"
   ]
  },
  {
   "cell_type": "code",
   "execution_count": 125,
   "id": "4e38cf2f",
   "metadata": {
    "execution": {
     "iopub.execute_input": "2022-03-27T15:19:50.008501Z",
     "iopub.status.busy": "2022-03-27T15:19:49.998288Z",
     "iopub.status.idle": "2022-03-27T15:19:50.074641Z",
     "shell.execute_reply": "2022-03-27T15:19:50.074209Z",
     "shell.execute_reply.started": "2022-03-27T14:23:47.520310Z"
    },
    "papermill": {
     "duration": 0.235843,
     "end_time": "2022-03-27T15:19:50.074762",
     "exception": false,
     "start_time": "2022-03-27T15:19:49.838919",
     "status": "completed"
    },
    "tags": []
   },
   "outputs": [],
   "source": [
    "import numpy as np, pandas as pd, datetime as dt\n",
    "import matplotlib.pyplot as plt; plt.style.use('ggplot')\n",
    "import seaborn as sns\n",
    "from collections import defaultdict\n",
    "\n",
    "def iter_to_str(iterable):\n",
    "    return \" \".join(map(lambda x: str(0) + str(x), iterable))\n",
    "\n",
    "def apk(actual, predicted, k=12):\n",
    "    if len(predicted) > k:\n",
    "        predicted = predicted[:k]\n",
    "    score, nhits = 0.0, 0.0\n",
    "    for i, p in enumerate(predicted):\n",
    "        if p in actual and p not in predicted[:i]:\n",
    "            nhits += 1.0\n",
    "            score += nhits / (i + 1.0)\n",
    "    if not actual:\n",
    "        return 0.0\n",
    "    return score / min(len(actual), k)\n",
    "\n",
    "def mapk(actual, predicted, k=12, return_apks=False):\n",
    "    assert len(actual) == len(predicted)\n",
    "    apks = [apk(ac, pr, k) for ac, pr in zip(actual, predicted) if 0 < len(ac)]\n",
    "    if return_apks:\n",
    "        return apks\n",
    "    return np.mean(apks)\n",
    "\n",
    "def blend(dt, w=[], k=12):\n",
    "    if len(w) == 0:\n",
    "        w = [1] * (len(dt))\n",
    "    preds = []\n",
    "    for i in range(len(w)):\n",
    "        preds.append(dt[i].split())\n",
    "    res = {}\n",
    "    for i in range(len(preds)):\n",
    "        if w[i] < 0:\n",
    "            continue\n",
    "        for n, v in enumerate(preds[i]):\n",
    "            if v in res:\n",
    "                res[v] += (w[i] / (n + 1))\n",
    "            else:\n",
    "                res[v] = (w[i] / (n + 1))    \n",
    "    res = list(dict(sorted(res.items(), key=lambda item: -item[1])).keys())\n",
    "    return ' '.join(res[:k])\n",
    "\n",
    "def prune(pred, ok_set, k=12):\n",
    "    pred = pred.split()\n",
    "    post = []\n",
    "    for item in pred:\n",
    "        if int(item) in ok_set and not item in post:\n",
    "            post.append(item)\n",
    "    return \" \".join(post[:k])\n",
    "\n",
    "def validation(actual, predicted, groups, score=0, index=-1, ignore=False, figsize=(22, 6), name = \"\"):\n",
    "    # actual, predicted : list of lists\n",
    "    # group : pandas Series\n",
    "    # score : pandas DataFrame\n",
    "    if ignore: return\n",
    "    ap12 = mapk(actual, predicted, return_apks=True)\n",
    "    smap12 = round(np.mean(ap12), 6)\n",
    "    group_num = len(groups)\n",
    "    plt.figure(figsize=figsize)\n",
    "    plt.subplot(1, 1+group_num, 1); sns.histplot(data=ap12, log_scale=(0, 10), bins=20); plt.title(f\"MAP@12 : {smap12}\")\n",
    "    count = 2\n",
    "    for name, group in groups.items():\n",
    "        score = pd.DataFrame({g:[] for g in sorted(group.unique().tolist())})\n",
    "        if index == -1 : index = score.shape[0]\n",
    "        score.loc[index, \"All\"] = smap12\n",
    "        for g in group.unique():\n",
    "            map12 = round(mapk(actual[group == g], predicted[group == g]), 6)\n",
    "            score.loc[index, g] = map12\n",
    "        plt.subplot(1, 1+group_num, count)\n",
    "        score[[g for g in sorted(group.unique(), key = lambda x: x if type(x) is np.float64 else float(x.replace(\"(\", \"1\").split(\",\")[0]))[::-1]] + ['All']].loc[index].plot.barh()\n",
    "        plt.title(\"{} MAP@12\".format(name))\n",
    "        count += 1\n",
    "        vc = pd.Series(predicted).apply(len).value_counts()\n",
    "        score.loc[index, \"Fill\"] = round(1 - sum(vc[k] * (12 - k) / 12 for k in (set(range(12)) & set(vc.index))) / len(actual), 3) * 100\n",
    "        display(score)\n",
    "    return score"
   ]
  },
  {
   "cell_type": "code",
   "execution_count": 126,
   "id": "8d32ffd7",
   "metadata": {
    "execution": {
     "iopub.execute_input": "2022-03-27T15:19:50.368807Z",
     "iopub.status.busy": "2022-03-27T15:19:50.368203Z",
     "iopub.status.idle": "2022-03-27T15:19:50.390293Z",
     "shell.execute_reply": "2022-03-27T15:19:50.389828Z",
     "shell.execute_reply.started": "2022-03-27T14:23:47.546664Z"
    },
    "papermill": {
     "duration": 0.171587,
     "end_time": "2022-03-27T15:19:50.390416",
     "exception": false,
     "start_time": "2022-03-27T15:19:50.218829",
     "status": "completed"
    },
    "tags": []
   },
   "outputs": [],
   "source": [
    "group = val.groupby('customer_id').sales_channel_id.mean().round().reset_index()\\\n",
    "    .merge(cid, on='customer_id', how='inner').rename(columns={'sales_channel_id':'group'})\n",
    "group = group.set_index('customer_id').loc[real.customer_id].reset_index()\n",
    "channal_group = group.group.fillna(3)"
   ]
  },
  {
   "cell_type": "code",
   "execution_count": 127,
   "id": "ab1ea60a",
   "metadata": {
    "execution": {
     "iopub.execute_input": "2022-03-27T15:19:50.684013Z",
     "iopub.status.busy": "2022-03-27T15:19:50.682967Z",
     "iopub.status.idle": "2022-03-27T15:19:57.008420Z",
     "shell.execute_reply": "2022-03-27T15:19:57.007492Z",
     "shell.execute_reply.started": "2022-03-27T14:23:47.577408Z"
    },
    "papermill": {
     "duration": 6.474172,
     "end_time": "2022-03-27T15:19:57.008568",
     "exception": false,
     "start_time": "2022-03-27T15:19:50.534396",
     "status": "completed"
    },
    "tags": []
   },
   "outputs": [],
   "source": [
    "customer[\"age_type\"] = pd.cut(customer.to_pandas()[\"age\"], bins = np.array([0, 21, 24, 27, 30, 35, 40, 45, 50, 60, 9999], dtype = \"int32\"), right = True).astype(\"string\")\n",
    "group = customer.rename(columns={'age_type':'group'}).set_index('customer_id').loc[real.customer_id].reset_index()\n",
    "age_group = group.group.fillna(\"-1\")"
   ]
  },
  {
   "cell_type": "code",
   "execution_count": 128,
   "id": "9b228cb8",
   "metadata": {
    "execution": {
     "iopub.execute_input": "2022-03-27T15:19:57.317514Z",
     "iopub.status.busy": "2022-03-27T15:19:57.316657Z",
     "iopub.status.idle": "2022-03-27T15:19:57.515769Z",
     "shell.execute_reply": "2022-03-27T15:19:57.515287Z",
     "shell.execute_reply.started": "2022-03-27T14:23:54.072941Z"
    },
    "papermill": {
     "duration": 0.357046,
     "end_time": "2022-03-27T15:19:57.515900",
     "exception": false,
     "start_time": "2022-03-27T15:19:57.158854",
     "status": "completed"
    },
    "tags": []
   },
   "outputs": [],
   "source": [
    "group = val.groupby('customer_id').sales_channel_id.count().round().reset_index()\\\n",
    "    .merge(cid, on='customer_id', how='inner').rename(columns={'sales_channel_id':'group'})\n",
    "group[\"group\"] = pd.cut(group[\"group\"].to_pandas(), bins = np.array([0, 1, 2, 3, 5, 10, 20, 9999], dtype = \"int32\"), right = True).astype(\"string\")\n",
    "group = group.set_index('customer_id').loc[real.customer_id].reset_index()\n",
    "count_group = group.group.fillna(0)"
   ]
  },
  {
   "cell_type": "code",
   "execution_count": 129,
   "id": "7bd2633c",
   "metadata": {
    "execution": {
     "iopub.execute_input": "2022-03-27T15:19:57.811152Z",
     "iopub.status.busy": "2022-03-27T15:19:57.810311Z",
     "iopub.status.idle": "2022-03-27T15:19:57.850575Z",
     "shell.execute_reply": "2022-03-27T15:19:57.850984Z",
     "shell.execute_reply.started": "2022-03-27T14:23:54.283488Z"
    },
    "papermill": {
     "duration": 0.189837,
     "end_time": "2022-03-27T15:19:57.851130",
     "exception": false,
     "start_time": "2022-03-27T15:19:57.661293",
     "status": "completed"
    },
    "tags": []
   },
   "outputs": [
    {
     "data": {
      "text/html": [
       "<div>\n",
       "<style scoped>\n",
       "    .dataframe tbody tr th:only-of-type {\n",
       "        vertical-align: middle;\n",
       "    }\n",
       "\n",
       "    .dataframe tbody tr th {\n",
       "        vertical-align: top;\n",
       "    }\n",
       "\n",
       "    .dataframe thead th {\n",
       "        text-align: right;\n",
       "    }\n",
       "</style>\n",
       "<table border=\"1\" class=\"dataframe\">\n",
       "  <thead>\n",
       "    <tr style=\"text-align: right;\">\n",
       "      <th></th>\n",
       "      <th>customer_id</th>\n",
       "    </tr>\n",
       "  </thead>\n",
       "  <tbody>\n",
       "    <tr>\n",
       "      <th>31718581</th>\n",
       "      <td>-9223100958908512198</td>\n",
       "    </tr>\n",
       "    <tr>\n",
       "      <th>31723712</th>\n",
       "      <td>-9223002534477110135</td>\n",
       "    </tr>\n",
       "    <tr>\n",
       "      <th>31668649</th>\n",
       "      <td>-9222810895170663723</td>\n",
       "    </tr>\n",
       "    <tr>\n",
       "      <th>31664044</th>\n",
       "      <td>-9221924794303263774</td>\n",
       "    </tr>\n",
       "    <tr>\n",
       "      <th>31782993</th>\n",
       "      <td>-9221811157628158522</td>\n",
       "    </tr>\n",
       "    <tr>\n",
       "      <th>...</th>\n",
       "      <td>...</td>\n",
       "    </tr>\n",
       "    <tr>\n",
       "      <th>31575924</th>\n",
       "      <td>9221607025486275188</td>\n",
       "    </tr>\n",
       "    <tr>\n",
       "      <th>31692865</th>\n",
       "      <td>9221813808370389952</td>\n",
       "    </tr>\n",
       "    <tr>\n",
       "      <th>31681512</th>\n",
       "      <td>9222310594107555341</td>\n",
       "    </tr>\n",
       "    <tr>\n",
       "      <th>31712352</th>\n",
       "      <td>9223099843213569889</td>\n",
       "    </tr>\n",
       "    <tr>\n",
       "      <th>31622943</th>\n",
       "      <td>9223141695752178477</td>\n",
       "    </tr>\n",
       "  </tbody>\n",
       "</table>\n",
       "<p>68984 rows × 1 columns</p>\n",
       "</div>"
      ],
      "text/plain": [
       "                  customer_id\n",
       "31718581 -9223100958908512198\n",
       "31723712 -9223002534477110135\n",
       "31668649 -9222810895170663723\n",
       "31664044 -9221924794303263774\n",
       "31782993 -9221811157628158522\n",
       "...                       ...\n",
       "31575924  9221607025486275188\n",
       "31692865  9221813808370389952\n",
       "31681512  9222310594107555341\n",
       "31712352  9223099843213569889\n",
       "31622943  9223141695752178477\n",
       "\n",
       "[68984 rows x 1 columns]"
      ]
     },
     "execution_count": 129,
     "metadata": {},
     "output_type": "execute_result"
    }
   ],
   "source": [
    "val[['customer_id']].drop_duplicates()"
   ]
  },
  {
   "cell_type": "code",
   "execution_count": 130,
   "id": "fab358af",
   "metadata": {
    "execution": {
     "iopub.execute_input": "2022-03-27T15:19:58.151453Z",
     "iopub.status.busy": "2022-03-27T15:19:58.150714Z",
     "iopub.status.idle": "2022-03-27T15:19:58.396190Z",
     "shell.execute_reply": "2022-03-27T15:19:58.395659Z",
     "shell.execute_reply.started": "2022-03-27T14:23:54.329991Z"
    },
    "papermill": {
     "duration": 0.398829,
     "end_time": "2022-03-27T15:19:58.396334",
     "exception": false,
     "start_time": "2022-03-27T15:19:57.997505",
     "status": "completed"
    },
    "tags": []
   },
   "outputs": [],
   "source": [
    "group = train.groupby('customer_id').sales_channel_id.count().round().reset_index()\\\n",
    "    .merge(val[['customer_id']].drop_duplicates(), on = \"customer_id\", how = \"right\")\\\n",
    "    .merge(cid, on='customer_id', how='inner').rename(columns={'sales_channel_id':'group'})\n",
    "group[\"group\"] = pd.cut(group[\"group\"].to_pandas(), bins = np.array([0, 5, 10, 20, 35, 50, 100], dtype = \"int32\"), right = True).astype(\"string\")\n",
    "group = group.set_index('customer_id').loc[real.customer_id].reset_index()\n",
    "his_count_group = group.group.fillna(0)"
   ]
  },
  {
   "cell_type": "code",
   "execution_count": 131,
   "id": "ff0e1921",
   "metadata": {
    "execution": {
     "iopub.execute_input": "2022-03-27T15:19:58.694622Z",
     "iopub.status.busy": "2022-03-27T15:19:58.693808Z",
     "iopub.status.idle": "2022-03-27T15:19:58.699809Z",
     "shell.execute_reply": "2022-03-27T15:19:58.699310Z",
     "shell.execute_reply.started": "2022-03-27T14:23:54.573801Z"
    },
    "papermill": {
     "duration": 0.157366,
     "end_time": "2022-03-27T15:19:58.699949",
     "exception": false,
     "start_time": "2022-03-27T15:19:58.542583",
     "status": "completed"
    },
    "tags": []
   },
   "outputs": [
    {
     "data": {
      "text/plain": [
       "0        (30.0, 35.0]\n",
       "1        (27.0, 30.0]\n",
       "2         (0.0, 21.0]\n",
       "3        (50.0, 60.0]\n",
       "4        (21.0, 24.0]\n",
       "             ...     \n",
       "68979    (40.0, 45.0]\n",
       "68980    (27.0, 30.0]\n",
       "68981    (30.0, 35.0]\n",
       "68982    (27.0, 30.0]\n",
       "68983     (0.0, 21.0]\n",
       "Name: group, Length: 68984, dtype: object"
      ]
     },
     "execution_count": 131,
     "metadata": {},
     "output_type": "execute_result"
    }
   ],
   "source": [
    "age_group"
   ]
  },
  {
   "cell_type": "code",
   "execution_count": 132,
   "id": "204dfaa6",
   "metadata": {
    "execution": {
     "iopub.execute_input": "2022-03-27T15:19:58.997270Z",
     "iopub.status.busy": "2022-03-27T15:19:58.996500Z",
     "iopub.status.idle": "2022-03-27T15:19:59.010166Z",
     "shell.execute_reply": "2022-03-27T15:19:59.010563Z",
     "shell.execute_reply.started": "2022-03-27T14:23:54.586564Z"
    },
    "papermill": {
     "duration": 0.163719,
     "end_time": "2022-03-27T15:19:59.010696",
     "exception": false,
     "start_time": "2022-03-27T15:19:58.846977",
     "status": "completed"
    },
    "tags": []
   },
   "outputs": [
    {
     "data": {
      "text/plain": [
       "2.0    40829\n",
       "1.0    28155\n",
       "Name: group, dtype: int32"
      ]
     },
     "execution_count": 132,
     "metadata": {},
     "output_type": "execute_result"
    }
   ],
   "source": [
    "channal_group.value_counts()"
   ]
  },
  {
   "cell_type": "code",
   "execution_count": 133,
   "id": "e3732233",
   "metadata": {
    "execution": {
     "iopub.execute_input": "2022-03-27T15:19:59.310324Z",
     "iopub.status.busy": "2022-03-27T15:19:59.308945Z",
     "iopub.status.idle": "2022-03-27T15:19:59.468446Z",
     "shell.execute_reply": "2022-03-27T15:19:59.467879Z",
     "shell.execute_reply.started": "2022-03-27T14:23:54.609239Z"
    },
    "papermill": {
     "duration": 0.311449,
     "end_time": "2022-03-27T15:19:59.468572",
     "exception": false,
     "start_time": "2022-03-27T15:19:59.157123",
     "status": "completed"
    },
    "tags": []
   },
   "outputs": [],
   "source": [
    "sub = sub.set_index('customer_id').loc[real.customer_id].reset_index()"
   ]
  },
  {
   "cell_type": "code",
   "execution_count": 134,
   "id": "d373f08a",
   "metadata": {
    "execution": {
     "iopub.execute_input": "2022-03-27T15:19:59.892954Z",
     "iopub.status.busy": "2022-03-27T15:19:59.891871Z",
     "iopub.status.idle": "2022-03-27T15:19:59.900748Z",
     "shell.execute_reply": "2022-03-27T15:19:59.901343Z",
     "shell.execute_reply.started": "2022-03-27T14:23:54.789494Z"
    },
    "papermill": {
     "duration": 0.251465,
     "end_time": "2022-03-27T15:19:59.901540",
     "exception": false,
     "start_time": "2022-03-27T15:19:59.650075",
     "status": "completed"
    },
    "tags": []
   },
   "outputs": [
    {
     "data": {
      "text/html": [
       "<div>\n",
       "<style scoped>\n",
       "    .dataframe tbody tr th:only-of-type {\n",
       "        vertical-align: middle;\n",
       "    }\n",
       "\n",
       "    .dataframe tbody tr th {\n",
       "        vertical-align: top;\n",
       "    }\n",
       "\n",
       "    .dataframe thead th {\n",
       "        text-align: right;\n",
       "    }\n",
       "</style>\n",
       "<table border=\"1\" class=\"dataframe\">\n",
       "  <thead>\n",
       "    <tr style=\"text-align: right;\">\n",
       "      <th></th>\n",
       "      <th>customer_id</th>\n",
       "      <th>prediction</th>\n",
       "    </tr>\n",
       "  </thead>\n",
       "  <tbody>\n",
       "    <tr>\n",
       "      <th>0</th>\n",
       "      <td>-9223100958908512198</td>\n",
       "      <td>0909911001 0909912001 0899976004 0706016002 09...</td>\n",
       "    </tr>\n",
       "    <tr>\n",
       "      <th>1</th>\n",
       "      <td>-9223002534477110135</td>\n",
       "      <td>0909370001 0706016002 0158340001 0809238001 08...</td>\n",
       "    </tr>\n",
       "    <tr>\n",
       "      <th>2</th>\n",
       "      <td>-9222810895170663723</td>\n",
       "      <td>0568601006 0759814022 0918522001 0685814003 06...</td>\n",
       "    </tr>\n",
       "    <tr>\n",
       "      <th>3</th>\n",
       "      <td>-9221924794303263774</td>\n",
       "      <td>0158340001 0707269003 0111593001 0372860001 07...</td>\n",
       "    </tr>\n",
       "    <tr>\n",
       "      <th>4</th>\n",
       "      <td>-9221811157628158522</td>\n",
       "      <td>0909370001 0448509014 0918522001 0918292001 08...</td>\n",
       "    </tr>\n",
       "    <tr>\n",
       "      <th>...</th>\n",
       "      <td>...</td>\n",
       "      <td>...</td>\n",
       "    </tr>\n",
       "    <tr>\n",
       "      <th>68979</th>\n",
       "      <td>9221607025486275188</td>\n",
       "      <td>0673677002 0816586002 0706016002 0156231001 07...</td>\n",
       "    </tr>\n",
       "    <tr>\n",
       "      <th>68980</th>\n",
       "      <td>9221813808370389952</td>\n",
       "      <td>0654590001 0714790020 0448509014 0749699002 06...</td>\n",
       "    </tr>\n",
       "    <tr>\n",
       "      <th>68981</th>\n",
       "      <td>9222310594107555341</td>\n",
       "      <td>0904416002 0904416001 0863646001 0863595002 08...</td>\n",
       "    </tr>\n",
       "    <tr>\n",
       "      <th>68982</th>\n",
       "      <td>9223099843213569889</td>\n",
       "      <td>0903773002 0776850001 0757909004 0706016002 07...</td>\n",
       "    </tr>\n",
       "    <tr>\n",
       "      <th>68983</th>\n",
       "      <td>9223141695752178477</td>\n",
       "      <td>0918522001 0685814003 0448509014 0918292001 07...</td>\n",
       "    </tr>\n",
       "  </tbody>\n",
       "</table>\n",
       "<p>68984 rows × 2 columns</p>\n",
       "</div>"
      ],
      "text/plain": [
       "               customer_id                                         prediction\n",
       "0     -9223100958908512198  0909911001 0909912001 0899976004 0706016002 09...\n",
       "1     -9223002534477110135  0909370001 0706016002 0158340001 0809238001 08...\n",
       "2     -9222810895170663723  0568601006 0759814022 0918522001 0685814003 06...\n",
       "3     -9221924794303263774  0158340001 0707269003 0111593001 0372860001 07...\n",
       "4     -9221811157628158522  0909370001 0448509014 0918522001 0918292001 08...\n",
       "...                    ...                                                ...\n",
       "68979  9221607025486275188  0673677002 0816586002 0706016002 0156231001 07...\n",
       "68980  9221813808370389952  0654590001 0714790020 0448509014 0749699002 06...\n",
       "68981  9222310594107555341  0904416002 0904416001 0863646001 0863595002 08...\n",
       "68982  9223099843213569889  0903773002 0776850001 0757909004 0706016002 07...\n",
       "68983  9223141695752178477  0918522001 0685814003 0448509014 0918292001 07...\n",
       "\n",
       "[68984 rows x 2 columns]"
      ]
     },
     "execution_count": 134,
     "metadata": {},
     "output_type": "execute_result"
    }
   ],
   "source": [
    "sub"
   ]
  },
  {
   "cell_type": "code",
   "execution_count": 135,
   "id": "747ec14d",
   "metadata": {
    "execution": {
     "iopub.execute_input": "2022-03-27T15:20:00.385829Z",
     "iopub.status.busy": "2022-03-27T15:20:00.385067Z",
     "iopub.status.idle": "2022-03-27T15:20:00.402793Z",
     "shell.execute_reply": "2022-03-27T15:20:00.402100Z",
     "shell.execute_reply.started": "2022-03-27T14:23:54.803108Z"
    },
    "papermill": {
     "duration": 0.269928,
     "end_time": "2022-03-27T15:20:00.402959",
     "exception": false,
     "start_time": "2022-03-27T15:20:00.133031",
     "status": "completed"
    },
    "tags": []
   },
   "outputs": [
    {
     "data": {
      "text/plain": [
       "0                17646\n",
       "(50.0, 100.0]    14603\n",
       "(20.0, 35.0]     10527\n",
       "(10.0, 20.0]      8439\n",
       "(35.0, 50.0]      7675\n",
       "(0.0, 5.0]        5210\n",
       "(5.0, 10.0]       4884\n",
       "Name: group, dtype: int32"
      ]
     },
     "execution_count": 135,
     "metadata": {},
     "output_type": "execute_result"
    }
   ],
   "source": [
    "his_count_group.value_counts()"
   ]
  },
  {
   "cell_type": "code",
   "execution_count": 136,
   "id": "7655aa22",
   "metadata": {
    "execution": {
     "iopub.execute_input": "2022-03-27T15:20:00.859516Z",
     "iopub.status.busy": "2022-03-27T15:20:00.858703Z",
     "iopub.status.idle": "2022-03-27T15:20:00.987825Z",
     "shell.execute_reply": "2022-03-27T15:20:00.987295Z",
     "shell.execute_reply.started": "2022-03-27T14:23:54.824299Z"
    },
    "papermill": {
     "duration": 0.344154,
     "end_time": "2022-03-27T15:20:00.987982",
     "exception": false,
     "start_time": "2022-03-27T15:20:00.643828",
     "status": "completed"
    },
    "tags": []
   },
   "outputs": [],
   "source": [
    "prediction =  sub[\"prediction\"].apply(lambda s: [] if pd.isna(s) else s.split())"
   ]
  },
  {
   "cell_type": "code",
   "execution_count": 137,
   "id": "ddac2d7c",
   "metadata": {
    "execution": {
     "iopub.execute_input": "2022-03-27T15:20:01.292731Z",
     "iopub.status.busy": "2022-03-27T15:20:01.291475Z",
     "iopub.status.idle": "2022-03-27T15:20:01.304388Z",
     "shell.execute_reply": "2022-03-27T15:20:01.303501Z",
     "shell.execute_reply.started": "2022-03-27T14:23:54.993956Z"
    },
    "papermill": {
     "duration": 0.166638,
     "end_time": "2022-03-27T15:20:01.304503",
     "exception": false,
     "start_time": "2022-03-27T15:20:01.137865",
     "status": "completed"
    },
    "tags": []
   },
   "outputs": [],
   "source": [
    "groups = {\"channal\":channal_group.to_pandas(),\n",
    "         \"age\":age_group.to_pandas(),\n",
    "         \"val_count\":count_group.to_pandas(),\n",
    "         \"train_count\": his_count_group.to_pandas()}"
   ]
  },
  {
   "cell_type": "code",
   "execution_count": 138,
   "id": "d09b8823",
   "metadata": {
    "execution": {
     "iopub.execute_input": "2022-03-27T15:20:01.605515Z",
     "iopub.status.busy": "2022-03-27T15:20:01.604665Z",
     "iopub.status.idle": "2022-03-27T15:20:01.620119Z",
     "shell.execute_reply": "2022-03-27T15:20:01.619640Z",
     "shell.execute_reply.started": "2022-03-27T14:23:55.010784Z"
    },
    "papermill": {
     "duration": 0.167368,
     "end_time": "2022-03-27T15:20:01.620235",
     "exception": false,
     "start_time": "2022-03-27T15:20:01.452867",
     "status": "completed"
    },
    "tags": []
   },
   "outputs": [
    {
     "data": {
      "text/plain": [
       "(0, 1]        19994\n",
       "(1, 2]        16386\n",
       "(3, 5]        10928\n",
       "(2, 3]        10075\n",
       "(5, 10]        8668\n",
       "(10, 20]       2571\n",
       "(20, 9999]      362\n",
       "Name: group, dtype: int32"
      ]
     },
     "execution_count": 138,
     "metadata": {},
     "output_type": "execute_result"
    }
   ],
   "source": [
    "count_group.value_counts()"
   ]
  },
  {
   "cell_type": "code",
   "execution_count": 139,
   "id": "b61a3671",
   "metadata": {
    "execution": {
     "iopub.execute_input": "2022-03-27T15:20:01.919225Z",
     "iopub.status.busy": "2022-03-27T15:20:01.918344Z",
     "iopub.status.idle": "2022-03-27T15:20:01.920738Z",
     "shell.execute_reply": "2022-03-27T15:20:01.920348Z",
     "shell.execute_reply.started": "2022-03-27T14:23:55.033604Z"
    },
    "papermill": {
     "duration": 0.153652,
     "end_time": "2022-03-27T15:20:01.920856",
     "exception": false,
     "start_time": "2022-03-27T15:20:01.767204",
     "status": "completed"
    },
    "tags": []
   },
   "outputs": [],
   "source": [
    "#sorted(count_group.to_pandas().unique(), key = lambda x: float(x.replace(\"(\", \"1\").split(\",\")[0]))"
   ]
  },
  {
   "cell_type": "code",
   "execution_count": 140,
   "id": "c8b079de",
   "metadata": {
    "execution": {
     "iopub.execute_input": "2022-03-27T15:20:02.239281Z",
     "iopub.status.busy": "2022-03-27T15:20:02.237995Z",
     "iopub.status.idle": "2022-03-27T15:20:05.645415Z",
     "shell.execute_reply": "2022-03-27T15:20:05.645815Z",
     "shell.execute_reply.started": "2022-03-27T14:23:55.040597Z"
    },
    "papermill": {
     "duration": 3.577442,
     "end_time": "2022-03-27T15:20:05.645980",
     "exception": false,
     "start_time": "2022-03-27T15:20:02.068538",
     "status": "completed"
    },
    "tags": []
   },
   "outputs": [
    {
     "data": {
      "text/html": [
       "<div>\n",
       "<style scoped>\n",
       "    .dataframe tbody tr th:only-of-type {\n",
       "        vertical-align: middle;\n",
       "    }\n",
       "\n",
       "    .dataframe tbody tr th {\n",
       "        vertical-align: top;\n",
       "    }\n",
       "\n",
       "    .dataframe thead th {\n",
       "        text-align: right;\n",
       "    }\n",
       "</style>\n",
       "<table border=\"1\" class=\"dataframe\">\n",
       "  <thead>\n",
       "    <tr style=\"text-align: right;\">\n",
       "      <th></th>\n",
       "      <th>1.0</th>\n",
       "      <th>2.0</th>\n",
       "      <th>All</th>\n",
       "      <th>Fill</th>\n",
       "    </tr>\n",
       "  </thead>\n",
       "  <tbody>\n",
       "    <tr>\n",
       "      <th>Last Purchase</th>\n",
       "      <td>0.01668</td>\n",
       "      <td>0.032121</td>\n",
       "      <td>0.025819</td>\n",
       "      <td>100.0</td>\n",
       "    </tr>\n",
       "  </tbody>\n",
       "</table>\n",
       "</div>"
      ],
      "text/plain": [
       "                   1.0       2.0       All   Fill\n",
       "Last Purchase  0.01668  0.032121  0.025819  100.0"
      ]
     },
     "metadata": {},
     "output_type": "display_data"
    },
    {
     "data": {
      "text/html": [
       "<div>\n",
       "<style scoped>\n",
       "    .dataframe tbody tr th:only-of-type {\n",
       "        vertical-align: middle;\n",
       "    }\n",
       "\n",
       "    .dataframe tbody tr th {\n",
       "        vertical-align: top;\n",
       "    }\n",
       "\n",
       "    .dataframe thead th {\n",
       "        text-align: right;\n",
       "    }\n",
       "</style>\n",
       "<table border=\"1\" class=\"dataframe\">\n",
       "  <thead>\n",
       "    <tr style=\"text-align: right;\">\n",
       "      <th></th>\n",
       "      <th>(0.0, 21.0]</th>\n",
       "      <th>(21.0, 24.0]</th>\n",
       "      <th>(24.0, 27.0]</th>\n",
       "      <th>(27.0, 30.0]</th>\n",
       "      <th>(30.0, 35.0]</th>\n",
       "      <th>(35.0, 40.0]</th>\n",
       "      <th>(40.0, 45.0]</th>\n",
       "      <th>(45.0, 50.0]</th>\n",
       "      <th>(50.0, 60.0]</th>\n",
       "      <th>(60.0, 9999.0]</th>\n",
       "      <th>-1</th>\n",
       "      <th>All</th>\n",
       "      <th>Fill</th>\n",
       "    </tr>\n",
       "  </thead>\n",
       "  <tbody>\n",
       "    <tr>\n",
       "      <th>Last Purchase</th>\n",
       "      <td>0.023196</td>\n",
       "      <td>0.02444</td>\n",
       "      <td>0.026239</td>\n",
       "      <td>0.025124</td>\n",
       "      <td>0.025349</td>\n",
       "      <td>0.025278</td>\n",
       "      <td>0.027472</td>\n",
       "      <td>0.025766</td>\n",
       "      <td>0.026848</td>\n",
       "      <td>0.03261</td>\n",
       "      <td>0.030783</td>\n",
       "      <td>0.025819</td>\n",
       "      <td>100.0</td>\n",
       "    </tr>\n",
       "  </tbody>\n",
       "</table>\n",
       "</div>"
      ],
      "text/plain": [
       "               (0.0, 21.0]  (21.0, 24.0]  (24.0, 27.0]  (27.0, 30.0]  \\\n",
       "Last Purchase     0.023196       0.02444      0.026239      0.025124   \n",
       "\n",
       "               (30.0, 35.0]  (35.0, 40.0]  (40.0, 45.0]  (45.0, 50.0]  \\\n",
       "Last Purchase      0.025349      0.025278      0.027472      0.025766   \n",
       "\n",
       "               (50.0, 60.0]  (60.0, 9999.0]        -1       All   Fill  \n",
       "Last Purchase      0.026848         0.03261  0.030783  0.025819  100.0  "
      ]
     },
     "metadata": {},
     "output_type": "display_data"
    },
    {
     "data": {
      "text/html": [
       "<div>\n",
       "<style scoped>\n",
       "    .dataframe tbody tr th:only-of-type {\n",
       "        vertical-align: middle;\n",
       "    }\n",
       "\n",
       "    .dataframe tbody tr th {\n",
       "        vertical-align: top;\n",
       "    }\n",
       "\n",
       "    .dataframe thead th {\n",
       "        text-align: right;\n",
       "    }\n",
       "</style>\n",
       "<table border=\"1\" class=\"dataframe\">\n",
       "  <thead>\n",
       "    <tr style=\"text-align: right;\">\n",
       "      <th></th>\n",
       "      <th>(0, 1]</th>\n",
       "      <th>(1, 2]</th>\n",
       "      <th>(10, 20]</th>\n",
       "      <th>(2, 3]</th>\n",
       "      <th>(20, 9999]</th>\n",
       "      <th>(3, 5]</th>\n",
       "      <th>(5, 10]</th>\n",
       "      <th>All</th>\n",
       "      <th>Fill</th>\n",
       "    </tr>\n",
       "  </thead>\n",
       "  <tbody>\n",
       "    <tr>\n",
       "      <th>Last Purchase</th>\n",
       "      <td>0.042522</td>\n",
       "      <td>0.025508</td>\n",
       "      <td>0.01208</td>\n",
       "      <td>0.020171</td>\n",
       "      <td>0.020593</td>\n",
       "      <td>0.014846</td>\n",
       "      <td>0.01257</td>\n",
       "      <td>0.025819</td>\n",
       "      <td>100.0</td>\n",
       "    </tr>\n",
       "  </tbody>\n",
       "</table>\n",
       "</div>"
      ],
      "text/plain": [
       "                 (0, 1]    (1, 2]  (10, 20]    (2, 3]  (20, 9999]    (3, 5]  \\\n",
       "Last Purchase  0.042522  0.025508   0.01208  0.020171    0.020593  0.014846   \n",
       "\n",
       "               (5, 10]       All   Fill  \n",
       "Last Purchase  0.01257  0.025819  100.0  "
      ]
     },
     "metadata": {},
     "output_type": "display_data"
    },
    {
     "data": {
      "text/html": [
       "<div>\n",
       "<style scoped>\n",
       "    .dataframe tbody tr th:only-of-type {\n",
       "        vertical-align: middle;\n",
       "    }\n",
       "\n",
       "    .dataframe tbody tr th {\n",
       "        vertical-align: top;\n",
       "    }\n",
       "\n",
       "    .dataframe thead th {\n",
       "        text-align: right;\n",
       "    }\n",
       "</style>\n",
       "<table border=\"1\" class=\"dataframe\">\n",
       "  <thead>\n",
       "    <tr style=\"text-align: right;\">\n",
       "      <th></th>\n",
       "      <th>(0.0, 5.0]</th>\n",
       "      <th>(10.0, 20.0]</th>\n",
       "      <th>(20.0, 35.0]</th>\n",
       "      <th>(35.0, 50.0]</th>\n",
       "      <th>(5.0, 10.0]</th>\n",
       "      <th>(50.0, 100.0]</th>\n",
       "      <th>0</th>\n",
       "      <th>All</th>\n",
       "      <th>Fill</th>\n",
       "    </tr>\n",
       "  </thead>\n",
       "  <tbody>\n",
       "    <tr>\n",
       "      <th>Last Purchase</th>\n",
       "      <td>0.033321</td>\n",
       "      <td>0.028077</td>\n",
       "      <td>0.026239</td>\n",
       "      <td>0.025087</td>\n",
       "      <td>0.029007</td>\n",
       "      <td>0.026612</td>\n",
       "      <td>0.021053</td>\n",
       "      <td>0.025819</td>\n",
       "      <td>100.0</td>\n",
       "    </tr>\n",
       "  </tbody>\n",
       "</table>\n",
       "</div>"
      ],
      "text/plain": [
       "               (0.0, 5.0]  (10.0, 20.0]  (20.0, 35.0]  (35.0, 50.0]  \\\n",
       "Last Purchase    0.033321      0.028077      0.026239      0.025087   \n",
       "\n",
       "               (5.0, 10.0]  (50.0, 100.0]         0       All   Fill  \n",
       "Last Purchase     0.029007       0.026612  0.021053  0.025819  100.0  "
      ]
     },
     "metadata": {},
     "output_type": "display_data"
    },
    {
     "data": {
      "image/png": "[encoded data removed]",
      "text/plain": [
       "<Figure size 1584x432 with 5 Axes>"
      ]
     },
     "metadata": {},
     "output_type": "display_data"
    }
   ],
   "source": [
    "score = validation(real.article_id, prediction, groups, index='Last Purchase', ignore=0)"
   ]
  },
  {
   "cell_type": "markdown",
   "id": "59c243db",
   "metadata": {
    "papermill": {
     "duration": 0.152102,
     "end_time": "2022-03-27T15:20:05.955642",
     "exception": false,
     "start_time": "2022-03-27T15:20:05.803540",
     "status": "completed"
    },
    "tags": []
   },
   "source": [
    "# 生成测试集"
   ]
  },
  {
   "cell_type": "code",
   "execution_count": 141,
   "id": "b10f0105",
   "metadata": {
    "execution": {
     "iopub.execute_input": "2022-03-27T15:20:06.266643Z",
     "iopub.status.busy": "2022-03-27T15:20:06.265667Z",
     "iopub.status.idle": "2022-03-27T15:20:06.267863Z",
     "shell.execute_reply": "2022-03-27T15:20:06.267421Z",
     "shell.execute_reply.started": "2022-03-27T14:23:58.138880Z"
    },
    "papermill": {
     "duration": 0.160176,
     "end_time": "2022-03-27T15:20:06.267985",
     "exception": false,
     "start_time": "2022-03-27T15:20:06.107809",
     "status": "completed"
    },
    "tags": []
   },
   "outputs": [],
   "source": [
    "import datetime"
   ]
  },
  {
   "cell_type": "code",
   "execution_count": 142,
   "id": "1aeff346",
   "metadata": {
    "execution": {
     "iopub.execute_input": "2022-03-27T15:20:06.572758Z",
     "iopub.status.busy": "2022-03-27T15:20:06.571955Z",
     "iopub.status.idle": "2022-03-27T15:20:06.574092Z",
     "shell.execute_reply": "2022-03-27T15:20:06.574477Z",
     "shell.execute_reply.started": "2022-03-27T14:23:58.144266Z"
    },
    "papermill": {
     "duration": 0.157017,
     "end_time": "2022-03-27T15:20:06.574610",
     "exception": false,
     "start_time": "2022-03-27T15:20:06.417593",
     "status": "completed"
    },
    "tags": []
   },
   "outputs": [],
   "source": [
    "if Last_date == \"2020-09-22\":\n",
    "    sub[[\"customer_id\", \"prediction\"]].to_csv(\"sub_sz_{}.csv\".format(datetime.datetime.now().strftime('%Y-%m-%d %H:%M:%S')), index = False)"
   ]
  },
  {
   "cell_type": "code",
   "execution_count": 143,
   "id": "4e3a827d",
   "metadata": {
    "execution": {
     "iopub.execute_input": "2022-03-27T15:20:06.877254Z",
     "iopub.status.busy": "2022-03-27T15:20:06.876567Z",
     "iopub.status.idle": "2022-03-27T15:20:06.880161Z",
     "shell.execute_reply": "2022-03-27T15:20:06.879693Z"
    },
    "papermill": {
     "duration": 0.156569,
     "end_time": "2022-03-27T15:20:06.880275",
     "exception": false,
     "start_time": "2022-03-27T15:20:06.723706",
     "status": "completed"
    },
    "tags": []
   },
   "outputs": [],
   "source": [
    "del merge_result\n",
    "del sub\n",
    "del real"
   ]
  }
 ],
 "metadata": {
  "kernelspec": {
   "display_name": "Python 3",
   "language": "python",
   "name": "python3"
  },
  "language_info": {
   "codemirror_mode": {
    "name": "ipython",
    "version": 3
   },
   "file_extension": ".py",
   "mimetype": "text/x-python",
   "name": "python",
   "nbconvert_exporter": "python",
   "pygments_lexer": "ipython3",
   "version": "3.7.12"
  },
  "papermill": {
   "default_parameters": {},
   "duration": 259.119803,
   "end_time": "2022-03-27T15:20:09.873521",
   "environment_variables": {},
   "exception": null,
   "input_path": "__notebook__.ipynb",
   "output_path": "__notebook__.ipynb",
   "parameters": {},
   "start_time": "2022-03-27T15:15:50.753718",
   "version": "2.3.3"
  }
 },
 "nbformat": 4,
 "nbformat_minor": 5
}
