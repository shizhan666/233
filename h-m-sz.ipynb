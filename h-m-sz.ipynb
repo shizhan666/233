{
 "cells": [
  {
   "cell_type": "code",
   "execution_count": 1,
   "id": "67ab7b79",
   "metadata": {
    "_cell_guid": "b1076dfc-b9ad-4769-8c92-a6c4dae69d19",
    "_uuid": "8f2839f25d086af736a60e9eeb907d3b93b6e0e5",
    "execution": {
     "iopub.execute_input": "2022-03-27T14:42:25.017611Z",
     "iopub.status.busy": "2022-03-27T14:42:25.016833Z",
     "iopub.status.idle": "2022-03-27T14:42:38.259182Z",
     "shell.execute_reply": "2022-03-27T14:42:38.258515Z",
     "shell.execute_reply.started": "2022-03-27T14:16:10.650979Z"
    },
    "papermill": {
     "duration": 13.431007,
     "end_time": "2022-03-27T14:42:38.259342",
     "exception": false,
     "start_time": "2022-03-27T14:42:24.828335",
     "status": "completed"
    },
    "tags": []
   },
   "outputs": [
    {
     "name": "stdout",
     "output_type": "stream",
     "text": [
      "Requirement already satisfied: cudf in /opt/conda/lib/python3.7/site-packages (21.10.1)\r\n",
      "Requirement already satisfied: numba>=0.53.1 in /opt/conda/lib/python3.7/site-packages (from cudf) (0.54.1)\r\n",
      "Requirement already satisfied: Cython<0.30,>=0.29 in /opt/conda/lib/python3.7/site-packages (from cudf) (0.29.28)\r\n",
      "Requirement already satisfied: fastavro>=0.22.9 in /opt/conda/lib/python3.7/site-packages (from cudf) (1.4.9)\r\n",
      "Requirement already satisfied: fsspec>=0.6.0 in /opt/conda/lib/python3.7/site-packages (from cudf) (2022.2.0)\r\n",
      "Requirement already satisfied: numpy in /opt/conda/lib/python3.7/site-packages (from cudf) (1.20.3)\r\n",
      "Requirement already satisfied: pandas<1.4.0dev0,>=1.0 in /opt/conda/lib/python3.7/site-packages (from cudf) (1.3.5)\r\n",
      "Requirement already satisfied: typing_extensions in /opt/conda/lib/python3.7/site-packages (from cudf) (4.1.1)\r\n",
      "Requirement already satisfied: protobuf in /opt/conda/lib/python3.7/site-packages (from cudf) (3.19.1)\r\n",
      "Requirement already satisfied: nvtx>=0.2.1 in /opt/conda/lib/python3.7/site-packages (from cudf) (0.2.3)\r\n",
      "Requirement already satisfied: cachetools in /opt/conda/lib/python3.7/site-packages (from cudf) (4.2.4)\r\n",
      "Requirement already satisfied: packaging in /opt/conda/lib/python3.7/site-packages (from cudf) (21.3)\r\n",
      "Requirement already satisfied: cupy-cuda110 in /opt/conda/lib/python3.7/site-packages (from cudf) (10.2.0)\r\n",
      "Requirement already satisfied: llvmlite<0.38,>=0.37.0rc1 in /opt/conda/lib/python3.7/site-packages (from numba>=0.53.1->cudf) (0.37.0)\r\n",
      "Requirement already satisfied: setuptools in /opt/conda/lib/python3.7/site-packages (from numba>=0.53.1->cudf) (59.5.0)\r\n",
      "Requirement already satisfied: python-dateutil>=2.7.3 in /opt/conda/lib/python3.7/site-packages (from pandas<1.4.0dev0,>=1.0->cudf) (2.8.2)\r\n",
      "Requirement already satisfied: pytz>=2017.3 in /opt/conda/lib/python3.7/site-packages (from pandas<1.4.0dev0,>=1.0->cudf) (2021.3)\r\n",
      "Requirement already satisfied: fastrlock>=0.5 in /opt/conda/lib/python3.7/site-packages (from cupy-cuda110->cudf) (0.8)\r\n",
      "Requirement already satisfied: pyparsing!=3.0.5,>=2.0.2 in /opt/conda/lib/python3.7/site-packages (from packaging->cudf) (3.0.6)\r\n",
      "Requirement already satisfied: six>=1.5 in /opt/conda/lib/python3.7/site-packages (from python-dateutil>=2.7.3->pandas<1.4.0dev0,>=1.0->cudf) (1.16.0)\r\n",
      "\u001b[33mWARNING: Running pip as the 'root' user can result in broken permissions and conflicting behaviour with the system package manager. It is recommended to use a virtual environment instead: https://pip.pypa.io/warnings/venv\u001b[0m\r\n"
     ]
    }
   ],
   "source": [
    "!pip install cudf\n",
    "import numpy as np\n",
    "import pandas as pd \n",
    "from datetime import datetime, timedelta\n",
    "import gc\n",
    "import cudf\n",
    "import cv2, matplotlib.pyplot as plt\n",
    "from os.path import exists"
   ]
  },
  {
   "cell_type": "markdown",
   "id": "37a50087",
   "metadata": {
    "papermill": {
     "duration": 0.124793,
     "end_time": "2022-03-27T14:42:38.521691",
     "exception": false,
     "start_time": "2022-03-27T14:42:38.396898",
     "status": "completed"
    },
    "tags": []
   },
   "source": [
    "### Read the transactions data"
   ]
  },
  {
   "cell_type": "markdown",
   "id": "e0615ebb",
   "metadata": {
    "papermill": {
     "duration": 0.124095,
     "end_time": "2022-03-27T14:42:38.769345",
     "exception": false,
     "start_time": "2022-03-27T14:42:38.645250",
     "status": "completed"
    },
    "tags": []
   },
   "source": [
    "Changes: \n",
    "* read_csv using cudf\n",
    "* article_id types from string to int32 \n",
    "* reduce memory on customer_id "
   ]
  },
  {
   "cell_type": "code",
   "execution_count": 2,
   "id": "1747bff8",
   "metadata": {
    "execution": {
     "iopub.execute_input": "2022-03-27T14:42:39.030178Z",
     "iopub.status.busy": "2022-03-27T14:42:39.029452Z",
     "iopub.status.idle": "2022-03-27T14:42:39.033019Z",
     "shell.execute_reply": "2022-03-27T14:42:39.032553Z",
     "shell.execute_reply.started": "2022-03-27T14:16:23.040594Z"
    },
    "papermill": {
     "duration": 0.138819,
     "end_time": "2022-03-27T14:42:39.033152",
     "exception": false,
     "start_time": "2022-03-27T14:42:38.894333",
     "status": "completed"
    },
    "tags": []
   },
   "outputs": [],
   "source": [
    "Date_week1 = pd.to_datetime(\"2020-09-16\")\n",
    "Date_week2 = pd.to_datetime(\"2020-09-09\")\n",
    "Date_week3 = pd.to_datetime(\"2020-09-02\")\n",
    "Last_day = pd.to_datetime(\"2020-09-22\")"
   ]
  },
  {
   "cell_type": "code",
   "execution_count": 3,
   "id": "c459342c",
   "metadata": {
    "execution": {
     "iopub.execute_input": "2022-03-27T14:42:39.285987Z",
     "iopub.status.busy": "2022-03-27T14:42:39.285124Z",
     "iopub.status.idle": "2022-03-27T14:42:39.287046Z",
     "shell.execute_reply": "2022-03-27T14:42:39.287451Z",
     "shell.execute_reply.started": "2022-03-27T14:16:23.052176Z"
    },
    "papermill": {
     "duration": 0.129791,
     "end_time": "2022-03-27T14:42:39.287590",
     "exception": false,
     "start_time": "2022-03-27T14:42:39.157799",
     "status": "completed"
    },
    "tags": []
   },
   "outputs": [],
   "source": [
    "N = 12"
   ]
  },
  {
   "cell_type": "code",
   "execution_count": 4,
   "id": "d7a5875a",
   "metadata": {
    "execution": {
     "iopub.execute_input": "2022-03-27T14:42:39.551324Z",
     "iopub.status.busy": "2022-03-27T14:42:39.550576Z",
     "iopub.status.idle": "2022-03-27T14:43:17.466888Z",
     "shell.execute_reply": "2022-03-27T14:43:17.466393Z",
     "shell.execute_reply.started": "2022-03-27T14:16:23.060503Z"
    },
    "papermill": {
     "duration": 38.054581,
     "end_time": "2022-03-27T14:43:17.467034",
     "exception": false,
     "start_time": "2022-03-27T14:42:39.412453",
     "status": "completed"
    },
    "tags": []
   },
   "outputs": [],
   "source": [
    "df  = cudf.read_csv('../input/h-and-m-personalized-fashion-recommendations/transactions_train.csv')\n",
    "                            #usecols= ['t_dat', 'customer_id', 'article_id'], \n",
    "                            #dtype={'article_id': 'int32', 't_dat': 'string', 'customer_id': 'string', \"sales_channel_id\": 'int32', \"price\": \"float\"})\n",
    "df ['customer_id'] = df ['customer_id'].str[-16:].str.hex_to_int().astype('int64')\n",
    "df.article_id = df.article_id.astype('int32')\n",
    "df['t_dat'] = cudf.to_datetime(df['t_dat'])\n",
    "Last_date = df['t_dat'].max()"
   ]
  },
  {
   "cell_type": "code",
   "execution_count": 5,
   "id": "27ccf697",
   "metadata": {
    "execution": {
     "iopub.execute_input": "2022-03-27T14:43:17.732221Z",
     "iopub.status.busy": "2022-03-27T14:43:17.731464Z",
     "iopub.status.idle": "2022-03-27T14:43:17.802440Z",
     "shell.execute_reply": "2022-03-27T14:43:17.802907Z",
     "shell.execute_reply.started": "2022-03-27T14:17:01.055301Z"
    },
    "papermill": {
     "duration": 0.21123,
     "end_time": "2022-03-27T14:43:17.803067",
     "exception": false,
     "start_time": "2022-03-27T14:43:17.591837",
     "status": "completed"
    },
    "tags": []
   },
   "outputs": [
    {
     "data": {
      "text/html": [
       "<div>\n",
       "<style scoped>\n",
       "    .dataframe tbody tr th:only-of-type {\n",
       "        vertical-align: middle;\n",
       "    }\n",
       "\n",
       "    .dataframe tbody tr th {\n",
       "        vertical-align: top;\n",
       "    }\n",
       "\n",
       "    .dataframe thead th {\n",
       "        text-align: right;\n",
       "    }\n",
       "</style>\n",
       "<table border=\"1\" class=\"dataframe\">\n",
       "  <thead>\n",
       "    <tr style=\"text-align: right;\">\n",
       "      <th></th>\n",
       "      <th>t_dat</th>\n",
       "      <th>customer_id</th>\n",
       "      <th>article_id</th>\n",
       "      <th>price</th>\n",
       "      <th>sales_channel_id</th>\n",
       "    </tr>\n",
       "  </thead>\n",
       "  <tbody>\n",
       "    <tr>\n",
       "      <th>0</th>\n",
       "      <td>2018-09-20</td>\n",
       "      <td>-6846340800584936</td>\n",
       "      <td>663713001</td>\n",
       "      <td>0.050831</td>\n",
       "      <td>2</td>\n",
       "    </tr>\n",
       "    <tr>\n",
       "      <th>1</th>\n",
       "      <td>2018-09-20</td>\n",
       "      <td>-6846340800584936</td>\n",
       "      <td>541518023</td>\n",
       "      <td>0.030492</td>\n",
       "      <td>2</td>\n",
       "    </tr>\n",
       "    <tr>\n",
       "      <th>2</th>\n",
       "      <td>2018-09-20</td>\n",
       "      <td>-8334631767138808638</td>\n",
       "      <td>505221004</td>\n",
       "      <td>0.015237</td>\n",
       "      <td>2</td>\n",
       "    </tr>\n",
       "    <tr>\n",
       "      <th>3</th>\n",
       "      <td>2018-09-20</td>\n",
       "      <td>-8334631767138808638</td>\n",
       "      <td>685687003</td>\n",
       "      <td>0.016932</td>\n",
       "      <td>2</td>\n",
       "    </tr>\n",
       "    <tr>\n",
       "      <th>4</th>\n",
       "      <td>2018-09-20</td>\n",
       "      <td>-8334631767138808638</td>\n",
       "      <td>685687004</td>\n",
       "      <td>0.016932</td>\n",
       "      <td>2</td>\n",
       "    </tr>\n",
       "    <tr>\n",
       "      <th>...</th>\n",
       "      <td>...</td>\n",
       "      <td>...</td>\n",
       "      <td>...</td>\n",
       "      <td>...</td>\n",
       "      <td>...</td>\n",
       "    </tr>\n",
       "    <tr>\n",
       "      <th>31788319</th>\n",
       "      <td>2020-09-22</td>\n",
       "      <td>4685485978980270934</td>\n",
       "      <td>929511001</td>\n",
       "      <td>0.059305</td>\n",
       "      <td>2</td>\n",
       "    </tr>\n",
       "    <tr>\n",
       "      <th>31788320</th>\n",
       "      <td>2020-09-22</td>\n",
       "      <td>4685485978980270934</td>\n",
       "      <td>891322004</td>\n",
       "      <td>0.042356</td>\n",
       "      <td>2</td>\n",
       "    </tr>\n",
       "    <tr>\n",
       "      <th>31788321</th>\n",
       "      <td>2020-09-22</td>\n",
       "      <td>3959348689921271969</td>\n",
       "      <td>918325001</td>\n",
       "      <td>0.043203</td>\n",
       "      <td>1</td>\n",
       "    </tr>\n",
       "    <tr>\n",
       "      <th>31788322</th>\n",
       "      <td>2020-09-22</td>\n",
       "      <td>-8639340045377511665</td>\n",
       "      <td>833459002</td>\n",
       "      <td>0.006763</td>\n",
       "      <td>1</td>\n",
       "    </tr>\n",
       "    <tr>\n",
       "      <th>31788323</th>\n",
       "      <td>2020-09-22</td>\n",
       "      <td>3235222691137941515</td>\n",
       "      <td>898573003</td>\n",
       "      <td>0.033881</td>\n",
       "      <td>2</td>\n",
       "    </tr>\n",
       "  </tbody>\n",
       "</table>\n",
       "<p>31788324 rows × 5 columns</p>\n",
       "</div>"
      ],
      "text/plain": [
       "              t_dat          customer_id  article_id     price  \\\n",
       "0        2018-09-20    -6846340800584936   663713001  0.050831   \n",
       "1        2018-09-20    -6846340800584936   541518023  0.030492   \n",
       "2        2018-09-20 -8334631767138808638   505221004  0.015237   \n",
       "3        2018-09-20 -8334631767138808638   685687003  0.016932   \n",
       "4        2018-09-20 -8334631767138808638   685687004  0.016932   \n",
       "...             ...                  ...         ...       ...   \n",
       "31788319 2020-09-22  4685485978980270934   929511001  0.059305   \n",
       "31788320 2020-09-22  4685485978980270934   891322004  0.042356   \n",
       "31788321 2020-09-22  3959348689921271969   918325001  0.043203   \n",
       "31788322 2020-09-22 -8639340045377511665   833459002  0.006763   \n",
       "31788323 2020-09-22  3235222691137941515   898573003  0.033881   \n",
       "\n",
       "          sales_channel_id  \n",
       "0                        2  \n",
       "1                        2  \n",
       "2                        2  \n",
       "3                        2  \n",
       "4                        2  \n",
       "...                    ...  \n",
       "31788319                 2  \n",
       "31788320                 2  \n",
       "31788321                 1  \n",
       "31788322                 1  \n",
       "31788323                 2  \n",
       "\n",
       "[31788324 rows x 5 columns]"
      ]
     },
     "execution_count": 5,
     "metadata": {},
     "output_type": "execute_result"
    }
   ],
   "source": [
    "df"
   ]
  },
  {
   "cell_type": "markdown",
   "id": "eea5cb1d",
   "metadata": {
    "papermill": {
     "duration": 0.126971,
     "end_time": "2022-03-27T14:43:18.055218",
     "exception": false,
     "start_time": "2022-03-27T14:43:17.928247",
     "status": "completed"
    },
    "tags": []
   },
   "source": [
    "## 划分训练集和验证集"
   ]
  },
  {
   "cell_type": "code",
   "execution_count": 6,
   "id": "156c6cb6",
   "metadata": {
    "execution": {
     "iopub.execute_input": "2022-03-27T14:43:18.311083Z",
     "iopub.status.busy": "2022-03-27T14:43:18.309340Z",
     "iopub.status.idle": "2022-03-27T14:43:18.367402Z",
     "shell.execute_reply": "2022-03-27T14:43:18.366906Z",
     "shell.execute_reply.started": "2022-03-27T14:17:01.136443Z"
    },
    "papermill": {
     "duration": 0.188036,
     "end_time": "2022-03-27T14:43:18.367528",
     "exception": false,
     "start_time": "2022-03-27T14:43:18.179492",
     "status": "completed"
    },
    "tags": []
   },
   "outputs": [],
   "source": [
    "val = df[df['t_dat']>= Date_week1].copy()\n",
    "train = df[df['t_dat']< Date_week1].copy()\n",
    "Last_date = pd.to_datetime(\"2020-09-15\")"
   ]
  },
  {
   "cell_type": "code",
   "execution_count": 7,
   "id": "e38cc62b",
   "metadata": {
    "execution": {
     "iopub.execute_input": "2022-03-27T14:43:18.674158Z",
     "iopub.status.busy": "2022-03-27T14:43:18.673217Z",
     "iopub.status.idle": "2022-03-27T14:43:18.726016Z",
     "shell.execute_reply": "2022-03-27T14:43:18.726461Z",
     "shell.execute_reply.started": "2022-03-27T14:17:01.197138Z"
    },
    "papermill": {
     "duration": 0.223923,
     "end_time": "2022-03-27T14:43:18.726636",
     "exception": false,
     "start_time": "2022-03-27T14:43:18.502713",
     "status": "completed"
    },
    "tags": []
   },
   "outputs": [
    {
     "data": {
      "text/html": [
       "<div>\n",
       "<style scoped>\n",
       "    .dataframe tbody tr th:only-of-type {\n",
       "        vertical-align: middle;\n",
       "    }\n",
       "\n",
       "    .dataframe tbody tr th {\n",
       "        vertical-align: top;\n",
       "    }\n",
       "\n",
       "    .dataframe thead th {\n",
       "        text-align: right;\n",
       "    }\n",
       "</style>\n",
       "<table border=\"1\" class=\"dataframe\">\n",
       "  <thead>\n",
       "    <tr style=\"text-align: right;\">\n",
       "      <th></th>\n",
       "      <th>t_dat</th>\n",
       "      <th>customer_id</th>\n",
       "      <th>article_id</th>\n",
       "      <th>price</th>\n",
       "      <th>sales_channel_id</th>\n",
       "    </tr>\n",
       "  </thead>\n",
       "  <tbody>\n",
       "    <tr>\n",
       "      <th>31548013</th>\n",
       "      <td>2020-09-16</td>\n",
       "      <td>8055340703569116761</td>\n",
       "      <td>786022008</td>\n",
       "      <td>0.048441</td>\n",
       "      <td>2</td>\n",
       "    </tr>\n",
       "    <tr>\n",
       "      <th>31548014</th>\n",
       "      <td>2020-09-16</td>\n",
       "      <td>8055340703569116761</td>\n",
       "      <td>913272003</td>\n",
       "      <td>0.032288</td>\n",
       "      <td>2</td>\n",
       "    </tr>\n",
       "    <tr>\n",
       "      <th>31548015</th>\n",
       "      <td>2020-09-16</td>\n",
       "      <td>8055340703569116761</td>\n",
       "      <td>889669006</td>\n",
       "      <td>0.056508</td>\n",
       "      <td>2</td>\n",
       "    </tr>\n",
       "    <tr>\n",
       "      <th>31548016</th>\n",
       "      <td>2020-09-16</td>\n",
       "      <td>2563761487478961358</td>\n",
       "      <td>237347060</td>\n",
       "      <td>0.033881</td>\n",
       "      <td>1</td>\n",
       "    </tr>\n",
       "    <tr>\n",
       "      <th>31548017</th>\n",
       "      <td>2020-09-16</td>\n",
       "      <td>2563761487478961358</td>\n",
       "      <td>562245001</td>\n",
       "      <td>0.013542</td>\n",
       "      <td>1</td>\n",
       "    </tr>\n",
       "    <tr>\n",
       "      <th>...</th>\n",
       "      <td>...</td>\n",
       "      <td>...</td>\n",
       "      <td>...</td>\n",
       "      <td>...</td>\n",
       "      <td>...</td>\n",
       "    </tr>\n",
       "    <tr>\n",
       "      <th>31788319</th>\n",
       "      <td>2020-09-22</td>\n",
       "      <td>4685485978980270934</td>\n",
       "      <td>929511001</td>\n",
       "      <td>0.059305</td>\n",
       "      <td>2</td>\n",
       "    </tr>\n",
       "    <tr>\n",
       "      <th>31788320</th>\n",
       "      <td>2020-09-22</td>\n",
       "      <td>4685485978980270934</td>\n",
       "      <td>891322004</td>\n",
       "      <td>0.042356</td>\n",
       "      <td>2</td>\n",
       "    </tr>\n",
       "    <tr>\n",
       "      <th>31788321</th>\n",
       "      <td>2020-09-22</td>\n",
       "      <td>3959348689921271969</td>\n",
       "      <td>918325001</td>\n",
       "      <td>0.043203</td>\n",
       "      <td>1</td>\n",
       "    </tr>\n",
       "    <tr>\n",
       "      <th>31788322</th>\n",
       "      <td>2020-09-22</td>\n",
       "      <td>-8639340045377511665</td>\n",
       "      <td>833459002</td>\n",
       "      <td>0.006763</td>\n",
       "      <td>1</td>\n",
       "    </tr>\n",
       "    <tr>\n",
       "      <th>31788323</th>\n",
       "      <td>2020-09-22</td>\n",
       "      <td>3235222691137941515</td>\n",
       "      <td>898573003</td>\n",
       "      <td>0.033881</td>\n",
       "      <td>2</td>\n",
       "    </tr>\n",
       "  </tbody>\n",
       "</table>\n",
       "<p>240311 rows × 5 columns</p>\n",
       "</div>"
      ],
      "text/plain": [
       "              t_dat          customer_id  article_id     price  \\\n",
       "31548013 2020-09-16  8055340703569116761   786022008  0.048441   \n",
       "31548014 2020-09-16  8055340703569116761   913272003  0.032288   \n",
       "31548015 2020-09-16  8055340703569116761   889669006  0.056508   \n",
       "31548016 2020-09-16  2563761487478961358   237347060  0.033881   \n",
       "31548017 2020-09-16  2563761487478961358   562245001  0.013542   \n",
       "...             ...                  ...         ...       ...   \n",
       "31788319 2020-09-22  4685485978980270934   929511001  0.059305   \n",
       "31788320 2020-09-22  4685485978980270934   891322004  0.042356   \n",
       "31788321 2020-09-22  3959348689921271969   918325001  0.043203   \n",
       "31788322 2020-09-22 -8639340045377511665   833459002  0.006763   \n",
       "31788323 2020-09-22  3235222691137941515   898573003  0.033881   \n",
       "\n",
       "          sales_channel_id  \n",
       "31548013                 2  \n",
       "31548014                 2  \n",
       "31548015                 2  \n",
       "31548016                 1  \n",
       "31548017                 1  \n",
       "...                    ...  \n",
       "31788319                 2  \n",
       "31788320                 2  \n",
       "31788321                 1  \n",
       "31788322                 1  \n",
       "31788323                 2  \n",
       "\n",
       "[240311 rows x 5 columns]"
      ]
     },
     "execution_count": 7,
     "metadata": {},
     "output_type": "execute_result"
    }
   ],
   "source": [
    "val"
   ]
  },
  {
   "cell_type": "markdown",
   "id": "dfc4702a",
   "metadata": {
    "papermill": {
     "duration": 0.133875,
     "end_time": "2022-03-27T14:43:18.988189",
     "exception": false,
     "start_time": "2022-03-27T14:43:18.854314",
     "status": "completed"
    },
    "tags": []
   },
   "source": [
    "### Add the last day of billing week"
   ]
  },
  {
   "cell_type": "markdown",
   "id": "eb97eb10",
   "metadata": {
    "papermill": {
     "duration": 0.124,
     "end_time": "2022-03-27T14:43:19.237186",
     "exception": false,
     "start_time": "2022-03-27T14:43:19.113186",
     "status": "completed"
    },
    "tags": []
   },
   "source": [
    "## 第一路：复购预测"
   ]
  },
  {
   "cell_type": "code",
   "execution_count": 8,
   "id": "b3af291f",
   "metadata": {
    "execution": {
     "iopub.execute_input": "2022-03-27T14:43:19.492554Z",
     "iopub.status.busy": "2022-03-27T14:43:19.491715Z",
     "iopub.status.idle": "2022-03-27T14:43:19.498201Z",
     "shell.execute_reply": "2022-03-27T14:43:19.497717Z",
     "shell.execute_reply.started": "2022-03-27T14:17:01.264346Z"
    },
    "papermill": {
     "duration": 0.136936,
     "end_time": "2022-03-27T14:43:19.498329",
     "exception": false,
     "start_time": "2022-03-27T14:43:19.361393",
     "status": "completed"
    },
    "tags": []
   },
   "outputs": [],
   "source": [
    "df = train.copy()"
   ]
  },
  {
   "cell_type": "code",
   "execution_count": 9,
   "id": "89018b7c",
   "metadata": {
    "execution": {
     "iopub.execute_input": "2022-03-27T14:43:19.756298Z",
     "iopub.status.busy": "2022-03-27T14:43:19.755412Z",
     "iopub.status.idle": "2022-03-27T14:43:28.240737Z",
     "shell.execute_reply": "2022-03-27T14:43:28.239908Z",
     "shell.execute_reply.started": "2022-03-27T14:17:01.274838Z"
    },
    "papermill": {
     "duration": 8.616455,
     "end_time": "2022-03-27T14:43:28.240899",
     "exception": false,
     "start_time": "2022-03-27T14:43:19.624444",
     "status": "completed"
    },
    "tags": []
   },
   "outputs": [
    {
     "name": "stdout",
     "output_type": "stream",
     "text": [
      "CPU times: user 6.6 s, sys: 1.69 s, total: 8.29 s\n",
      "Wall time: 8.48 s\n"
     ]
    }
   ],
   "source": [
    "%%time\n",
    "tmp = df[['t_dat']].copy().to_pandas()\n",
    "tmp['dow'] = tmp['t_dat'].dt.dayofweek\n",
    "tmp['ldbw'] = tmp['t_dat'] - pd.TimedeltaIndex(tmp['dow'] - 1, unit='D')\n",
    "tmp.loc[tmp['dow'] >=2 , 'ldbw'] = tmp.loc[tmp['dow'] >=2 , 'ldbw'] + pd.TimedeltaIndex(np.ones(len(tmp.loc[tmp['dow'] >=2])) * 7, unit='D')\n",
    "df['ldbw'] = tmp['ldbw'].values"
   ]
  },
  {
   "cell_type": "code",
   "execution_count": 10,
   "id": "66f36cde",
   "metadata": {
    "execution": {
     "iopub.execute_input": "2022-03-27T14:43:28.512486Z",
     "iopub.status.busy": "2022-03-27T14:43:28.511653Z",
     "iopub.status.idle": "2022-03-27T14:43:28.647655Z",
     "shell.execute_reply": "2022-03-27T14:43:28.648591Z",
     "shell.execute_reply.started": "2022-03-27T14:17:09.413351Z"
    },
    "papermill": {
     "duration": 0.271048,
     "end_time": "2022-03-27T14:43:28.648848",
     "exception": false,
     "start_time": "2022-03-27T14:43:28.377800",
     "status": "completed"
    },
    "tags": []
   },
   "outputs": [],
   "source": [
    "weekly_sales = df.drop('customer_id', axis=1).groupby(['ldbw', 'article_id']).count().reset_index()\n",
    "weekly_sales = weekly_sales.rename(columns={'t_dat': 'count'})"
   ]
  },
  {
   "cell_type": "code",
   "execution_count": 11,
   "id": "7bb98f1d",
   "metadata": {
    "execution": {
     "iopub.execute_input": "2022-03-27T14:43:28.975688Z",
     "iopub.status.busy": "2022-03-27T14:43:28.975019Z",
     "iopub.status.idle": "2022-03-27T14:43:29.057430Z",
     "shell.execute_reply": "2022-03-27T14:43:29.057962Z",
     "shell.execute_reply.started": "2022-03-27T14:17:09.549707Z"
    },
    "papermill": {
     "duration": 0.269045,
     "end_time": "2022-03-27T14:43:29.058122",
     "exception": false,
     "start_time": "2022-03-27T14:43:28.789077",
     "status": "completed"
    },
    "tags": []
   },
   "outputs": [],
   "source": [
    "df = df.merge(weekly_sales, on=['ldbw', 'article_id'], how = 'left')"
   ]
  },
  {
   "cell_type": "markdown",
   "id": "5fb81a87",
   "metadata": {
    "papermill": {
     "duration": 0.126304,
     "end_time": "2022-03-27T14:43:29.313332",
     "exception": false,
     "start_time": "2022-03-27T14:43:29.187028",
     "status": "completed"
    },
    "tags": []
   },
   "source": [
    "### Let's assume that in the target week sales will be similar to the last week of the training data"
   ]
  },
  {
   "cell_type": "code",
   "execution_count": 12,
   "id": "ac929611",
   "metadata": {
    "execution": {
     "iopub.execute_input": "2022-03-27T14:43:29.573921Z",
     "iopub.status.busy": "2022-03-27T14:43:29.573096Z",
     "iopub.status.idle": "2022-03-27T14:43:29.671283Z",
     "shell.execute_reply": "2022-03-27T14:43:29.670797Z",
     "shell.execute_reply.started": "2022-03-27T14:17:09.688741Z"
    },
    "papermill": {
     "duration": 0.230674,
     "end_time": "2022-03-27T14:43:29.671417",
     "exception": false,
     "start_time": "2022-03-27T14:43:29.440743",
     "status": "completed"
    },
    "tags": []
   },
   "outputs": [],
   "source": [
    "weekly_sales = weekly_sales.reset_index().set_index('article_id')\n",
    "\n",
    "df = df.merge(\n",
    "    weekly_sales.loc[weekly_sales['ldbw']==Last_date, ['count']],\n",
    "    on='article_id', suffixes=(\"\", \"_targ\"))\n",
    "\n",
    "df['count_targ'].fillna(0, inplace=True)\n"
   ]
  },
  {
   "cell_type": "markdown",
   "id": "a199394d",
   "metadata": {
    "papermill": {
     "duration": 0.128978,
     "end_time": "2022-03-27T14:43:29.926822",
     "exception": false,
     "start_time": "2022-03-27T14:43:29.797844",
     "status": "completed"
    },
    "tags": []
   },
   "source": [
    "### Calculate sales rate adjusted for changes in product popularity "
   ]
  },
  {
   "cell_type": "code",
   "execution_count": 13,
   "id": "e788554d",
   "metadata": {
    "execution": {
     "iopub.execute_input": "2022-03-27T14:43:30.187603Z",
     "iopub.status.busy": "2022-03-27T14:43:30.186786Z",
     "iopub.status.idle": "2022-03-27T14:43:30.191527Z",
     "shell.execute_reply": "2022-03-27T14:43:30.191079Z",
     "shell.execute_reply.started": "2022-03-27T14:17:09.807467Z"
    },
    "papermill": {
     "duration": 0.135798,
     "end_time": "2022-03-27T14:43:30.191649",
     "exception": false,
     "start_time": "2022-03-27T14:43:30.055851",
     "status": "completed"
    },
    "tags": []
   },
   "outputs": [],
   "source": [
    "df['quotient'] = df['count_targ'] / df['count']"
   ]
  },
  {
   "cell_type": "markdown",
   "id": "b0633112",
   "metadata": {
    "papermill": {
     "duration": 0.126462,
     "end_time": "2022-03-27T14:43:30.444714",
     "exception": false,
     "start_time": "2022-03-27T14:43:30.318252",
     "status": "completed"
    },
    "tags": []
   },
   "source": [
    "### Take supposedly popular products"
   ]
  },
  {
   "cell_type": "code",
   "execution_count": 14,
   "id": "1c3f9e1c",
   "metadata": {
    "execution": {
     "iopub.execute_input": "2022-03-27T14:43:30.703354Z",
     "iopub.status.busy": "2022-03-27T14:43:30.702360Z",
     "iopub.status.idle": "2022-03-27T14:43:30.704627Z",
     "shell.execute_reply": "2022-03-27T14:43:30.704118Z",
     "shell.execute_reply.started": "2022-03-27T14:17:09.822723Z"
    },
    "papermill": {
     "duration": 0.132909,
     "end_time": "2022-03-27T14:43:30.704759",
     "exception": false,
     "start_time": "2022-03-27T14:43:30.571850",
     "status": "completed"
    },
    "tags": []
   },
   "outputs": [],
   "source": [
    "# target_sales = df.drop('customer_id', axis=1).groupby('article_id')['quotient'].sum()\n",
    "# general_pred = target_sales.nlargest(N).index.to_pandas().tolist()\n",
    "# general_pred = ['0' + str(article_id) for article_id in general_pred]\n",
    "# general_pred_str =  ' '.join(general_pred)\n",
    "# del target_sales"
   ]
  },
  {
   "cell_type": "code",
   "execution_count": 15,
   "id": "11e6e1a1",
   "metadata": {
    "execution": {
     "iopub.execute_input": "2022-03-27T14:43:31.015441Z",
     "iopub.status.busy": "2022-03-27T14:43:31.014325Z",
     "iopub.status.idle": "2022-03-27T14:43:31.020075Z",
     "shell.execute_reply": "2022-03-27T14:43:31.021123Z",
     "shell.execute_reply.started": "2022-03-27T14:17:09.828527Z"
    },
    "papermill": {
     "duration": 0.190111,
     "end_time": "2022-03-27T14:43:31.021492",
     "exception": false,
     "start_time": "2022-03-27T14:43:30.831381",
     "status": "completed"
    },
    "tags": []
   },
   "outputs": [],
   "source": [
    "# general_pred # Exactly same with the original notebook! "
   ]
  },
  {
   "cell_type": "code",
   "execution_count": 16,
   "id": "89ac22b0",
   "metadata": {
    "execution": {
     "iopub.execute_input": "2022-03-27T14:43:31.448071Z",
     "iopub.status.busy": "2022-03-27T14:43:31.447018Z",
     "iopub.status.idle": "2022-03-27T14:43:31.448935Z",
     "shell.execute_reply": "2022-03-27T14:43:31.449547Z",
     "shell.execute_reply.started": "2022-03-27T14:17:09.838129Z"
    },
    "papermill": {
     "duration": 0.215962,
     "end_time": "2022-03-27T14:43:31.449755",
     "exception": false,
     "start_time": "2022-03-27T14:43:31.233793",
     "status": "completed"
    },
    "tags": []
   },
   "outputs": [],
   "source": [
    "# general_pred_str"
   ]
  },
  {
   "cell_type": "markdown",
   "id": "0ad98730",
   "metadata": {
    "papermill": {
     "duration": 0.126402,
     "end_time": "2022-03-27T14:43:31.742100",
     "exception": false,
     "start_time": "2022-03-27T14:43:31.615698",
     "status": "completed"
    },
    "tags": []
   },
   "source": [
    "### Fill in purchase dictionary"
   ]
  },
  {
   "cell_type": "code",
   "execution_count": 17,
   "id": "b5685538",
   "metadata": {
    "execution": {
     "iopub.execute_input": "2022-03-27T14:43:32.005712Z",
     "iopub.status.busy": "2022-03-27T14:43:32.004836Z",
     "iopub.status.idle": "2022-03-27T14:43:51.766921Z",
     "shell.execute_reply": "2022-03-27T14:43:51.766089Z",
     "shell.execute_reply.started": "2022-03-27T14:17:09.847352Z"
    },
    "papermill": {
     "duration": 19.899134,
     "end_time": "2022-03-27T14:43:51.767056",
     "exception": false,
     "start_time": "2022-03-27T14:43:31.867922",
     "status": "completed"
    },
    "tags": []
   },
   "outputs": [
    {
     "name": "stdout",
     "output_type": "stream",
     "text": [
      "CPU times: user 16.4 s, sys: 5.23 s, total: 21.7 s\n",
      "Wall time: 19.8 s\n"
     ]
    }
   ],
   "source": [
    "%%time\n",
    "purchase_dict = {}\n",
    "\n",
    "tmp = df.copy().to_pandas()\n",
    "tmp['x'] = ((Last_date - tmp['t_dat']) / np.timedelta64(1, 'D')).astype(int)\n",
    "tmp['dummy_1'] = 1 \n",
    "tmp['x'] = tmp[[\"x\", \"dummy_1\"]].max(axis=1)\n",
    "\n",
    "a, b, c, d = 2.5e4, 1.5e5, 2e-1, 1e3\n",
    "total = 1715530\n",
    "tmp['y'] = ((a / np.sqrt(tmp['x']) + b * np.exp(-c*tmp['x']) - d) / total +\\\n",
    "(a / np.sqrt(tmp['x']+1) + b * np.exp(-c*(tmp['x']+1)) - d) / total +\\\n",
    "(a / np.sqrt(tmp['x']+2) + b * np.exp(-c*(tmp['x']+2)) - d) / total +\\\n",
    "(a / np.sqrt(tmp['x']+3) + b * np.exp(-c*(tmp['x']+3)) - d) / total +\\\n",
    "(a / np.sqrt(tmp['x']+4) + b * np.exp(-c*(tmp['x']+4)) - d) / total +\\\n",
    "(a / np.sqrt(tmp['x']+5) + b * np.exp(-c*(tmp['x']+5)) - d) / total +\\\n",
    "(a / np.sqrt(tmp['x']+6) + b * np.exp(-c*(tmp['x']+6)) - d) / total)\n",
    "\n",
    "tmp['dummy_0'] = 0 \n",
    "tmp['y'] = tmp[[\"y\", \"dummy_0\"]].max(axis=1)\n",
    "tmp['score'] = tmp['quotient'] * tmp['y'] \n",
    "\n",
    "tmp = tmp.groupby(['customer_id', 'article_id']).agg({'score': 'sum'})\n",
    "tmp = tmp.reset_index()\n",
    "\n",
    "tmp = tmp.loc[tmp['score'] > 0]\n",
    "tmp['rank'] = tmp.groupby(\"customer_id\")[\"score\"].rank(\"dense\", ascending=False)\n",
    "tmp = tmp.loc[tmp['rank'] <= 12]\n",
    "tmp[\"source\"] = 1\n",
    "\n",
    "result1 = tmp[[\"customer_id\", \"article_id\", \"source\", \"score\", \"rank\"]]"
   ]
  },
  {
   "cell_type": "code",
   "execution_count": 18,
   "id": "5bde56b3",
   "metadata": {
    "execution": {
     "iopub.execute_input": "2022-03-27T14:43:52.204210Z",
     "iopub.status.busy": "2022-03-27T14:43:52.203122Z",
     "iopub.status.idle": "2022-03-27T14:43:52.207300Z",
     "shell.execute_reply": "2022-03-27T14:43:52.207675Z",
     "shell.execute_reply.started": "2022-03-27T14:17:28.899513Z"
    },
    "papermill": {
     "duration": 0.310481,
     "end_time": "2022-03-27T14:43:52.207851",
     "exception": false,
     "start_time": "2022-03-27T14:43:51.897370",
     "status": "completed"
    },
    "tags": []
   },
   "outputs": [
    {
     "data": {
      "text/plain": [
       "208"
      ]
     },
     "execution_count": 18,
     "metadata": {},
     "output_type": "execute_result"
    }
   ],
   "source": [
    "del weekly_sales\n",
    "del df\n",
    "del tmp\n",
    "gc.collect()"
   ]
  },
  {
   "cell_type": "code",
   "execution_count": 19,
   "id": "78c536df",
   "metadata": {
    "execution": {
     "iopub.execute_input": "2022-03-27T14:43:52.616017Z",
     "iopub.status.busy": "2022-03-27T14:43:52.615142Z",
     "iopub.status.idle": "2022-03-27T14:43:52.643546Z",
     "shell.execute_reply": "2022-03-27T14:43:52.644659Z",
     "shell.execute_reply.started": "2022-03-27T14:17:29.077333Z"
    },
    "papermill": {
     "duration": 0.240872,
     "end_time": "2022-03-27T14:43:52.644892",
     "exception": false,
     "start_time": "2022-03-27T14:43:52.404020",
     "status": "completed"
    },
    "tags": []
   },
   "outputs": [
    {
     "data": {
      "text/html": [
       "<div>\n",
       "<style scoped>\n",
       "    .dataframe tbody tr th:only-of-type {\n",
       "        vertical-align: middle;\n",
       "    }\n",
       "\n",
       "    .dataframe tbody tr th {\n",
       "        vertical-align: top;\n",
       "    }\n",
       "\n",
       "    .dataframe thead th {\n",
       "        text-align: right;\n",
       "    }\n",
       "</style>\n",
       "<table border=\"1\" class=\"dataframe\">\n",
       "  <thead>\n",
       "    <tr style=\"text-align: right;\">\n",
       "      <th></th>\n",
       "      <th>customer_id</th>\n",
       "      <th>article_id</th>\n",
       "      <th>source</th>\n",
       "      <th>score</th>\n",
       "      <th>rank</th>\n",
       "    </tr>\n",
       "  </thead>\n",
       "  <tbody>\n",
       "    <tr>\n",
       "      <th>0</th>\n",
       "      <td>-9223352921020755230</td>\n",
       "      <td>568597006</td>\n",
       "      <td>1</td>\n",
       "      <td>0.000559</td>\n",
       "      <td>5.0</td>\n",
       "    </tr>\n",
       "    <tr>\n",
       "      <th>1</th>\n",
       "      <td>-9223352921020755230</td>\n",
       "      <td>673396002</td>\n",
       "      <td>1</td>\n",
       "      <td>0.044511</td>\n",
       "      <td>1.0</td>\n",
       "    </tr>\n",
       "    <tr>\n",
       "      <th>2</th>\n",
       "      <td>-9223352921020755230</td>\n",
       "      <td>706016001</td>\n",
       "      <td>1</td>\n",
       "      <td>0.003289</td>\n",
       "      <td>4.0</td>\n",
       "    </tr>\n",
       "    <tr>\n",
       "      <th>3</th>\n",
       "      <td>-9223352921020755230</td>\n",
       "      <td>812167004</td>\n",
       "      <td>1</td>\n",
       "      <td>0.019179</td>\n",
       "      <td>2.0</td>\n",
       "    </tr>\n",
       "    <tr>\n",
       "      <th>4</th>\n",
       "      <td>-9223352921020755230</td>\n",
       "      <td>849493006</td>\n",
       "      <td>1</td>\n",
       "      <td>0.006174</td>\n",
       "      <td>3.0</td>\n",
       "    </tr>\n",
       "    <tr>\n",
       "      <th>...</th>\n",
       "      <td>...</td>\n",
       "      <td>...</td>\n",
       "      <td>...</td>\n",
       "      <td>...</td>\n",
       "      <td>...</td>\n",
       "    </tr>\n",
       "    <tr>\n",
       "      <th>10844244</th>\n",
       "      <td>9223301031927667525</td>\n",
       "      <td>719957006</td>\n",
       "      <td>1</td>\n",
       "      <td>0.000026</td>\n",
       "      <td>1.0</td>\n",
       "    </tr>\n",
       "    <tr>\n",
       "      <th>10844245</th>\n",
       "      <td>9223333063893176977</td>\n",
       "      <td>658030020</td>\n",
       "      <td>1</td>\n",
       "      <td>0.000038</td>\n",
       "      <td>1.0</td>\n",
       "    </tr>\n",
       "    <tr>\n",
       "      <th>10844246</th>\n",
       "      <td>9223357421094039679</td>\n",
       "      <td>747984001</td>\n",
       "      <td>1</td>\n",
       "      <td>0.000010</td>\n",
       "      <td>2.0</td>\n",
       "    </tr>\n",
       "    <tr>\n",
       "      <th>10844247</th>\n",
       "      <td>9223357421094039679</td>\n",
       "      <td>747984002</td>\n",
       "      <td>1</td>\n",
       "      <td>0.000053</td>\n",
       "      <td>1.0</td>\n",
       "    </tr>\n",
       "    <tr>\n",
       "      <th>10844248</th>\n",
       "      <td>9223370729206611574</td>\n",
       "      <td>781758003</td>\n",
       "      <td>1</td>\n",
       "      <td>0.001461</td>\n",
       "      <td>1.0</td>\n",
       "    </tr>\n",
       "  </tbody>\n",
       "</table>\n",
       "<p>6693016 rows × 5 columns</p>\n",
       "</div>"
      ],
      "text/plain": [
       "                  customer_id  article_id  source     score  rank\n",
       "0        -9223352921020755230   568597006       1  0.000559   5.0\n",
       "1        -9223352921020755230   673396002       1  0.044511   1.0\n",
       "2        -9223352921020755230   706016001       1  0.003289   4.0\n",
       "3        -9223352921020755230   812167004       1  0.019179   2.0\n",
       "4        -9223352921020755230   849493006       1  0.006174   3.0\n",
       "...                       ...         ...     ...       ...   ...\n",
       "10844244  9223301031927667525   719957006       1  0.000026   1.0\n",
       "10844245  9223333063893176977   658030020       1  0.000038   1.0\n",
       "10844246  9223357421094039679   747984001       1  0.000010   2.0\n",
       "10844247  9223357421094039679   747984002       1  0.000053   1.0\n",
       "10844248  9223370729206611574   781758003       1  0.001461   1.0\n",
       "\n",
       "[6693016 rows x 5 columns]"
      ]
     },
     "execution_count": 19,
     "metadata": {},
     "output_type": "execute_result"
    }
   ],
   "source": [
    "result1"
   ]
  },
  {
   "cell_type": "code",
   "execution_count": 20,
   "id": "af839bda",
   "metadata": {
    "execution": {
     "iopub.execute_input": "2022-03-27T14:43:53.206639Z",
     "iopub.status.busy": "2022-03-27T14:43:53.205557Z",
     "iopub.status.idle": "2022-03-27T14:43:53.210632Z",
     "shell.execute_reply": "2022-03-27T14:43:53.208643Z",
     "shell.execute_reply.started": "2022-03-27T14:17:29.095835Z"
    },
    "papermill": {
     "duration": 0.360719,
     "end_time": "2022-03-27T14:43:53.210831",
     "exception": false,
     "start_time": "2022-03-27T14:43:52.850112",
     "status": "completed"
    },
    "tags": []
   },
   "outputs": [],
   "source": [
    "#result1.to_csv(\"/kaggle/working/result1.csv\", index = False)"
   ]
  },
  {
   "cell_type": "markdown",
   "id": "85e125a3",
   "metadata": {
    "execution": {
     "iopub.execute_input": "2022-03-19T09:13:27.534287Z",
     "iopub.status.busy": "2022-03-19T09:13:27.534029Z",
     "iopub.status.idle": "2022-03-19T09:13:27.537763Z",
     "shell.execute_reply": "2022-03-19T09:13:27.536825Z",
     "shell.execute_reply.started": "2022-03-19T09:13:27.534257Z"
    },
    "papermill": {
     "duration": 0.226177,
     "end_time": "2022-03-27T14:43:53.911557",
     "exception": false,
     "start_time": "2022-03-27T14:43:53.685380",
     "status": "completed"
    },
    "tags": []
   },
   "source": [
    "## 第二路：相似复购"
   ]
  },
  {
   "cell_type": "code",
   "execution_count": 21,
   "id": "f7728103",
   "metadata": {
    "execution": {
     "iopub.execute_input": "2022-03-27T14:43:54.232645Z",
     "iopub.status.busy": "2022-03-27T14:43:54.231638Z",
     "iopub.status.idle": "2022-03-27T14:44:01.763975Z",
     "shell.execute_reply": "2022-03-27T14:44:01.763458Z",
     "shell.execute_reply.started": "2022-03-27T14:17:29.101267Z"
    },
    "papermill": {
     "duration": 7.692856,
     "end_time": "2022-03-27T14:44:01.764107",
     "exception": false,
     "start_time": "2022-03-27T14:43:54.071251",
     "status": "completed"
    },
    "tags": []
   },
   "outputs": [
    {
     "name": "stdout",
     "output_type": "stream",
     "text": [
      "Requirement already satisfied: cudf in /opt/conda/lib/python3.7/site-packages (21.10.1)\r\n",
      "Requirement already satisfied: numba>=0.53.1 in /opt/conda/lib/python3.7/site-packages (from cudf) (0.54.1)\r\n",
      "Requirement already satisfied: Cython<0.30,>=0.29 in /opt/conda/lib/python3.7/site-packages (from cudf) (0.29.28)\r\n",
      "Requirement already satisfied: fastavro>=0.22.9 in /opt/conda/lib/python3.7/site-packages (from cudf) (1.4.9)\r\n",
      "Requirement already satisfied: fsspec>=0.6.0 in /opt/conda/lib/python3.7/site-packages (from cudf) (2022.2.0)\r\n",
      "Requirement already satisfied: numpy in /opt/conda/lib/python3.7/site-packages (from cudf) (1.20.3)\r\n",
      "Requirement already satisfied: pandas<1.4.0dev0,>=1.0 in /opt/conda/lib/python3.7/site-packages (from cudf) (1.3.5)\r\n",
      "Requirement already satisfied: typing_extensions in /opt/conda/lib/python3.7/site-packages (from cudf) (4.1.1)\r\n",
      "Requirement already satisfied: protobuf in /opt/conda/lib/python3.7/site-packages (from cudf) (3.19.1)\r\n",
      "Requirement already satisfied: nvtx>=0.2.1 in /opt/conda/lib/python3.7/site-packages (from cudf) (0.2.3)\r\n",
      "Requirement already satisfied: cachetools in /opt/conda/lib/python3.7/site-packages (from cudf) (4.2.4)\r\n",
      "Requirement already satisfied: packaging in /opt/conda/lib/python3.7/site-packages (from cudf) (21.3)\r\n",
      "Requirement already satisfied: cupy-cuda110 in /opt/conda/lib/python3.7/site-packages (from cudf) (10.2.0)\r\n",
      "Requirement already satisfied: llvmlite<0.38,>=0.37.0rc1 in /opt/conda/lib/python3.7/site-packages (from numba>=0.53.1->cudf) (0.37.0)\r\n",
      "Requirement already satisfied: setuptools in /opt/conda/lib/python3.7/site-packages (from numba>=0.53.1->cudf) (59.5.0)\r\n",
      "Requirement already satisfied: python-dateutil>=2.7.3 in /opt/conda/lib/python3.7/site-packages (from pandas<1.4.0dev0,>=1.0->cudf) (2.8.2)\r\n",
      "Requirement already satisfied: pytz>=2017.3 in /opt/conda/lib/python3.7/site-packages (from pandas<1.4.0dev0,>=1.0->cudf) (2021.3)\r\n",
      "Requirement already satisfied: fastrlock>=0.5 in /opt/conda/lib/python3.7/site-packages (from cupy-cuda110->cudf) (0.8)\r\n",
      "Requirement already satisfied: pyparsing!=3.0.5,>=2.0.2 in /opt/conda/lib/python3.7/site-packages (from packaging->cudf) (3.0.6)\r\n",
      "Requirement already satisfied: six>=1.5 in /opt/conda/lib/python3.7/site-packages (from python-dateutil>=2.7.3->pandas<1.4.0dev0,>=1.0->cudf) (1.16.0)\r\n",
      "\u001b[33mWARNING: Running pip as the 'root' user can result in broken permissions and conflicting behaviour with the system package manager. It is recommended to use a virtual environment instead: https://pip.pypa.io/warnings/venv\u001b[0m\r\n"
     ]
    }
   ],
   "source": [
    "!pip install cudf\n",
    "import numpy as np\n",
    "import pandas as pd \n",
    "from datetime import datetime, timedelta\n",
    "import gc\n",
    "import cudf\n",
    "import cv2, matplotlib.pyplot as plt\n",
    "from os.path import exists"
   ]
  },
  {
   "cell_type": "code",
   "execution_count": 22,
   "id": "ae28cfc1",
   "metadata": {
    "execution": {
     "iopub.execute_input": "2022-03-27T14:44:02.027072Z",
     "iopub.status.busy": "2022-03-27T14:44:02.026059Z",
     "iopub.status.idle": "2022-03-27T14:44:02.028047Z",
     "shell.execute_reply": "2022-03-27T14:44:02.028469Z",
     "shell.execute_reply.started": "2022-03-27T14:17:36.161151Z"
    },
    "papermill": {
     "duration": 0.134897,
     "end_time": "2022-03-27T14:44:02.028610",
     "exception": false,
     "start_time": "2022-03-27T14:44:01.893713",
     "status": "completed"
    },
    "tags": []
   },
   "outputs": [],
   "source": [
    "# # LOAD TRANSACTIONS DATAFRAME\n",
    "# df = cudf.read_csv('../input/h-and-m-personalized-fashion-recommendations/transactions_train.csv')\n",
    "# print('Transactions shape',df.shape)\n",
    "# display( df.head() )\n",
    "\n",
    "# # REDUCE MEMORY OF DATAFRAME\n",
    "# df = df[['customer_id','article_id']]\n",
    "# df.customer_id = df.customer_id.str[-16:].str.hex_to_int().astype('int64')\n",
    "# df.article_id = df.article_id.astype('int32')\n",
    "# _ = gc.collect()"
   ]
  },
  {
   "cell_type": "code",
   "execution_count": 23,
   "id": "32b686bd",
   "metadata": {
    "execution": {
     "iopub.execute_input": "2022-03-27T14:44:02.292456Z",
     "iopub.status.busy": "2022-03-27T14:44:02.291538Z",
     "iopub.status.idle": "2022-03-27T14:44:02.293408Z",
     "shell.execute_reply": "2022-03-27T14:44:02.293846Z",
     "shell.execute_reply.started": "2022-03-27T14:17:36.166465Z"
    },
    "papermill": {
     "duration": 0.135247,
     "end_time": "2022-03-27T14:44:02.293997",
     "exception": false,
     "start_time": "2022-03-27T14:44:02.158750",
     "status": "completed"
    },
    "tags": []
   },
   "outputs": [],
   "source": [
    "# # FIND ITEMS PURCHASED TOGETHER\n",
    "# vc = df.article_id.value_counts()\n",
    "# pairs = {}\n",
    "# # for j,i in enumerate(vc.index.values[1000:1032]):\n",
    "# #     #if j%10==0: print(j,', ',end='')\n",
    "# #     USERS = df.loc[df.article_id==i.item(),'customer_id'].unique()\n",
    "# #     vc2 = df.loc[(df.customer_id.isin(USERS))&(df.article_id!=i.item()),'article_id'].value_counts()\n",
    "# #     pairs[i.item()] = [vc2.index[0], vc2.index[1], vc2.index[2]]"
   ]
  },
  {
   "cell_type": "code",
   "execution_count": 24,
   "id": "7a411a3d",
   "metadata": {
    "execution": {
     "iopub.execute_input": "2022-03-27T14:44:02.556251Z",
     "iopub.status.busy": "2022-03-27T14:44:02.555402Z",
     "iopub.status.idle": "2022-03-27T14:44:02.557973Z",
     "shell.execute_reply": "2022-03-27T14:44:02.557434Z",
     "shell.execute_reply.started": "2022-03-27T14:17:36.180148Z"
    },
    "papermill": {
     "duration": 0.13557,
     "end_time": "2022-03-27T14:44:02.558094",
     "exception": false,
     "start_time": "2022-03-27T14:44:02.422524",
     "status": "completed"
    },
    "tags": []
   },
   "outputs": [],
   "source": [
    "# vc = vc.reset_index().rename(columns = {\"article_id\":\"count\", \"index\":\"article_id\"})"
   ]
  },
  {
   "cell_type": "code",
   "execution_count": 25,
   "id": "e0365a61",
   "metadata": {
    "execution": {
     "iopub.execute_input": "2022-03-27T14:44:02.818440Z",
     "iopub.status.busy": "2022-03-27T14:44:02.817582Z",
     "iopub.status.idle": "2022-03-27T14:44:02.819664Z",
     "shell.execute_reply": "2022-03-27T14:44:02.820088Z",
     "shell.execute_reply.started": "2022-03-27T14:17:36.188945Z"
    },
    "papermill": {
     "duration": 0.13367,
     "end_time": "2022-03-27T14:44:02.820245",
     "exception": false,
     "start_time": "2022-03-27T14:44:02.686575",
     "status": "completed"
    },
    "tags": []
   },
   "outputs": [],
   "source": [
    "# vc = vc[vc[\"count\"]>=50]"
   ]
  },
  {
   "cell_type": "code",
   "execution_count": 26,
   "id": "84e948fa",
   "metadata": {
    "execution": {
     "iopub.execute_input": "2022-03-27T14:44:03.105084Z",
     "iopub.status.busy": "2022-03-27T14:44:03.104047Z",
     "iopub.status.idle": "2022-03-27T14:44:03.105848Z",
     "shell.execute_reply": "2022-03-27T14:44:03.106272Z",
     "shell.execute_reply.started": "2022-03-27T14:17:36.196471Z"
    },
    "papermill": {
     "duration": 0.135032,
     "end_time": "2022-03-27T14:44:03.106420",
     "exception": false,
     "start_time": "2022-03-27T14:44:02.971388",
     "status": "completed"
    },
    "tags": []
   },
   "outputs": [],
   "source": [
    "# def cal_together_score(x):\n",
    "#     USERS = df.loc[df.article_id==x[\"article_id\"],'customer_id'].unique()\n",
    "#     vc2 = df.loc[(df.customer_id.isin(USERS))&(df.article_id!=x[\"article_id\"]),'article_id'].value_counts()\n",
    "#     #pairs[i.item()] = [vc2.index[0], vc2.index[1], vc2.index[2]]\n",
    "#     return [[x.article_id, vc2.index[i], vc2.iloc[i]/x[\"count\"]] for i in range(min(10, len(vc2)))]"
   ]
  },
  {
   "cell_type": "code",
   "execution_count": 27,
   "id": "f6b155b9",
   "metadata": {
    "execution": {
     "iopub.execute_input": "2022-03-27T14:44:03.368366Z",
     "iopub.status.busy": "2022-03-27T14:44:03.367492Z",
     "iopub.status.idle": "2022-03-27T14:44:03.369318Z",
     "shell.execute_reply": "2022-03-27T14:44:03.369718Z",
     "shell.execute_reply.started": "2022-03-27T14:17:36.205047Z"
    },
    "papermill": {
     "duration": 0.13507,
     "end_time": "2022-03-27T14:44:03.369877",
     "exception": false,
     "start_time": "2022-03-27T14:44:03.234807",
     "status": "completed"
    },
    "tags": []
   },
   "outputs": [],
   "source": [
    "#relation = vc.to_pandas().apply(lambda x: cal_together_score(x), axis = 1).sum()"
   ]
  },
  {
   "cell_type": "code",
   "execution_count": 28,
   "id": "8fe4a033",
   "metadata": {
    "execution": {
     "iopub.execute_input": "2022-03-27T14:44:03.631494Z",
     "iopub.status.busy": "2022-03-27T14:44:03.630628Z",
     "iopub.status.idle": "2022-03-27T14:44:03.632370Z",
     "shell.execute_reply": "2022-03-27T14:44:03.632864Z",
     "shell.execute_reply.started": "2022-03-27T14:17:36.219065Z"
    },
    "papermill": {
     "duration": 0.134228,
     "end_time": "2022-03-27T14:44:03.633008",
     "exception": false,
     "start_time": "2022-03-27T14:44:03.498780",
     "status": "completed"
    },
    "tags": []
   },
   "outputs": [],
   "source": [
    "#%%time\n",
    "# df  = cudf.read_csv('../input/h-and-m-personalized-fashion-recommendations/transactions_train.csv',\n",
    "#                             usecols= ['t_dat', 'customer_id', 'article_id'], \n",
    "#                             dtype={'article_id': 'int32', 't_dat': 'string', 'customer_id': 'string'})\n",
    "# df ['customer_id'] = df ['customer_id'].str[-16:].str.hex_to_int().astype('int64')\n",
    "\n",
    "# df['t_dat'] = cudf.to_datetime(df['t_dat'])\n",
    "# last_ts = df['t_dat'].max()"
   ]
  },
  {
   "cell_type": "code",
   "execution_count": 29,
   "id": "6b0109d0",
   "metadata": {
    "execution": {
     "iopub.execute_input": "2022-03-27T14:44:03.900094Z",
     "iopub.status.busy": "2022-03-27T14:44:03.899132Z",
     "iopub.status.idle": "2022-03-27T14:44:03.908870Z",
     "shell.execute_reply": "2022-03-27T14:44:03.908025Z",
     "shell.execute_reply.started": "2022-03-27T14:17:36.224869Z"
    },
    "papermill": {
     "duration": 0.148232,
     "end_time": "2022-03-27T14:44:03.909091",
     "exception": false,
     "start_time": "2022-03-27T14:44:03.760859",
     "status": "completed"
    },
    "tags": []
   },
   "outputs": [],
   "source": [
    "df = train.copy()"
   ]
  },
  {
   "cell_type": "code",
   "execution_count": 30,
   "id": "63030866",
   "metadata": {
    "execution": {
     "iopub.execute_input": "2022-03-27T14:44:04.388072Z",
     "iopub.status.busy": "2022-03-27T14:44:04.387256Z",
     "iopub.status.idle": "2022-03-27T14:44:12.186486Z",
     "shell.execute_reply": "2022-03-27T14:44:12.186056Z",
     "shell.execute_reply.started": "2022-03-27T14:17:36.236776Z"
    },
    "papermill": {
     "duration": 8.027696,
     "end_time": "2022-03-27T14:44:12.186611",
     "exception": false,
     "start_time": "2022-03-27T14:44:04.158915",
     "status": "completed"
    },
    "tags": []
   },
   "outputs": [
    {
     "name": "stdout",
     "output_type": "stream",
     "text": [
      "CPU times: user 6.29 s, sys: 1.66 s, total: 7.95 s\n",
      "Wall time: 7.8 s\n"
     ]
    }
   ],
   "source": [
    "%%time\n",
    "tmp = df[['t_dat']].copy().to_pandas()\n",
    "tmp['dow'] = tmp['t_dat'].dt.dayofweek\n",
    "tmp['ldbw'] = tmp['t_dat'] - pd.TimedeltaIndex(tmp['dow'] - 1, unit='D')\n",
    "tmp.loc[tmp['dow'] >=2 , 'ldbw'] = tmp.loc[tmp['dow'] >=2 , 'ldbw'] + pd.TimedeltaIndex(np.ones(len(tmp.loc[tmp['dow'] >=2])) * 7, unit='D')\n",
    "\n",
    "df['ldbw'] = tmp['ldbw'].values"
   ]
  },
  {
   "cell_type": "code",
   "execution_count": 31,
   "id": "3c0f9fbd",
   "metadata": {
    "execution": {
     "iopub.execute_input": "2022-03-27T14:44:12.472278Z",
     "iopub.status.busy": "2022-03-27T14:44:12.471342Z",
     "iopub.status.idle": "2022-03-27T14:44:12.473225Z",
     "shell.execute_reply": "2022-03-27T14:44:12.473630Z",
     "shell.execute_reply.started": "2022-03-27T14:17:44.520046Z"
    },
    "papermill": {
     "duration": 0.152725,
     "end_time": "2022-03-27T14:44:12.473788",
     "exception": false,
     "start_time": "2022-03-27T14:44:12.321063",
     "status": "completed"
    },
    "tags": []
   },
   "outputs": [],
   "source": [
    "#relation_data = cudf.DataFrame(relation, columns = [\"from_id\", \"to_id\", \"ratio\"])"
   ]
  },
  {
   "cell_type": "code",
   "execution_count": 32,
   "id": "179e2c38",
   "metadata": {
    "execution": {
     "iopub.execute_input": "2022-03-27T14:44:12.737106Z",
     "iopub.status.busy": "2022-03-27T14:44:12.736490Z",
     "iopub.status.idle": "2022-03-27T14:44:12.966587Z",
     "shell.execute_reply": "2022-03-27T14:44:12.965696Z",
     "shell.execute_reply.started": "2022-03-27T14:17:44.525960Z"
    },
    "papermill": {
     "duration": 0.362554,
     "end_time": "2022-03-27T14:44:12.966779",
     "exception": false,
     "start_time": "2022-03-27T14:44:12.604225",
     "status": "completed"
    },
    "tags": []
   },
   "outputs": [],
   "source": [
    "relation_data = cudf.read_csv(\"../input/relation/relation_data.csv\")"
   ]
  },
  {
   "cell_type": "code",
   "execution_count": 33,
   "id": "1c076b36",
   "metadata": {
    "execution": {
     "iopub.execute_input": "2022-03-27T14:44:13.270556Z",
     "iopub.status.busy": "2022-03-27T14:44:13.269535Z",
     "iopub.status.idle": "2022-03-27T14:44:13.317183Z",
     "shell.execute_reply": "2022-03-27T14:44:13.317638Z",
     "shell.execute_reply.started": "2022-03-27T14:17:44.762899Z"
    },
    "papermill": {
     "duration": 0.202365,
     "end_time": "2022-03-27T14:44:13.317833",
     "exception": false,
     "start_time": "2022-03-27T14:44:13.115468",
     "status": "completed"
    },
    "tags": []
   },
   "outputs": [
    {
     "data": {
      "text/html": [
       "<div>\n",
       "<style scoped>\n",
       "    .dataframe tbody tr th:only-of-type {\n",
       "        vertical-align: middle;\n",
       "    }\n",
       "\n",
       "    .dataframe tbody tr th {\n",
       "        vertical-align: top;\n",
       "    }\n",
       "\n",
       "    .dataframe thead th {\n",
       "        text-align: right;\n",
       "    }\n",
       "</style>\n",
       "<table border=\"1\" class=\"dataframe\">\n",
       "  <thead>\n",
       "    <tr style=\"text-align: right;\">\n",
       "      <th></th>\n",
       "      <th>from_id</th>\n",
       "      <th>to_id</th>\n",
       "      <th>ratio</th>\n",
       "    </tr>\n",
       "  </thead>\n",
       "  <tbody>\n",
       "    <tr>\n",
       "      <th>0</th>\n",
       "      <td>706016001</td>\n",
       "      <td>706016002</td>\n",
       "      <td>0.250144</td>\n",
       "    </tr>\n",
       "    <tr>\n",
       "      <th>1</th>\n",
       "      <td>706016001</td>\n",
       "      <td>706016003</td>\n",
       "      <td>0.155706</td>\n",
       "    </tr>\n",
       "    <tr>\n",
       "      <th>2</th>\n",
       "      <td>706016001</td>\n",
       "      <td>706016015</td>\n",
       "      <td>0.117943</td>\n",
       "    </tr>\n",
       "    <tr>\n",
       "      <th>3</th>\n",
       "      <td>706016001</td>\n",
       "      <td>706016006</td>\n",
       "      <td>0.097799</td>\n",
       "    </tr>\n",
       "    <tr>\n",
       "      <th>4</th>\n",
       "      <td>706016001</td>\n",
       "      <td>399223001</td>\n",
       "      <td>0.087299</td>\n",
       "    </tr>\n",
       "    <tr>\n",
       "      <th>...</th>\n",
       "      <td>...</td>\n",
       "      <td>...</td>\n",
       "      <td>...</td>\n",
       "    </tr>\n",
       "    <tr>\n",
       "      <th>570535</th>\n",
       "      <td>657165029</td>\n",
       "      <td>763270003</td>\n",
       "      <td>0.120000</td>\n",
       "    </tr>\n",
       "    <tr>\n",
       "      <th>570536</th>\n",
       "      <td>657165029</td>\n",
       "      <td>628327005</td>\n",
       "      <td>0.120000</td>\n",
       "    </tr>\n",
       "    <tr>\n",
       "      <th>570537</th>\n",
       "      <td>657165029</td>\n",
       "      <td>664319001</td>\n",
       "      <td>0.120000</td>\n",
       "    </tr>\n",
       "    <tr>\n",
       "      <th>570538</th>\n",
       "      <td>657165029</td>\n",
       "      <td>608776002</td>\n",
       "      <td>0.100000</td>\n",
       "    </tr>\n",
       "    <tr>\n",
       "      <th>570539</th>\n",
       "      <td>657165029</td>\n",
       "      <td>745806001</td>\n",
       "      <td>0.100000</td>\n",
       "    </tr>\n",
       "  </tbody>\n",
       "</table>\n",
       "<p>570540 rows × 3 columns</p>\n",
       "</div>"
      ],
      "text/plain": [
       "          from_id      to_id     ratio\n",
       "0       706016001  706016002  0.250144\n",
       "1       706016001  706016003  0.155706\n",
       "2       706016001  706016015  0.117943\n",
       "3       706016001  706016006  0.097799\n",
       "4       706016001  399223001  0.087299\n",
       "...           ...        ...       ...\n",
       "570535  657165029  763270003  0.120000\n",
       "570536  657165029  628327005  0.120000\n",
       "570537  657165029  664319001  0.120000\n",
       "570538  657165029  608776002  0.100000\n",
       "570539  657165029  745806001  0.100000\n",
       "\n",
       "[570540 rows x 3 columns]"
      ]
     },
     "execution_count": 33,
     "metadata": {},
     "output_type": "execute_result"
    }
   ],
   "source": [
    "relation_data"
   ]
  },
  {
   "cell_type": "code",
   "execution_count": 34,
   "id": "f48850ce",
   "metadata": {
    "execution": {
     "iopub.execute_input": "2022-03-27T14:44:13.771677Z",
     "iopub.status.busy": "2022-03-27T14:44:13.770650Z",
     "iopub.status.idle": "2022-03-27T14:44:13.775219Z",
     "shell.execute_reply": "2022-03-27T14:44:13.774752Z",
     "shell.execute_reply.started": "2022-03-27T14:17:44.814015Z"
    },
    "papermill": {
     "duration": 0.314731,
     "end_time": "2022-03-27T14:44:13.775338",
     "exception": false,
     "start_time": "2022-03-27T14:44:13.460607",
     "status": "completed"
    },
    "tags": []
   },
   "outputs": [
    {
     "data": {
      "text/plain": [
       "106"
      ]
     },
     "execution_count": 34,
     "metadata": {},
     "output_type": "execute_result"
    }
   ],
   "source": [
    "del tmp\n",
    "gc.collect()"
   ]
  },
  {
   "cell_type": "code",
   "execution_count": 35,
   "id": "dedd8762",
   "metadata": {
    "execution": {
     "iopub.execute_input": "2022-03-27T14:44:14.043508Z",
     "iopub.status.busy": "2022-03-27T14:44:14.042647Z",
     "iopub.status.idle": "2022-03-27T14:44:14.174851Z",
     "shell.execute_reply": "2022-03-27T14:44:14.175389Z",
     "shell.execute_reply.started": "2022-03-27T14:17:44.974663Z"
    },
    "papermill": {
     "duration": 0.268041,
     "end_time": "2022-03-27T14:44:14.175552",
     "exception": false,
     "start_time": "2022-03-27T14:44:13.907511",
     "status": "completed"
    },
    "tags": []
   },
   "outputs": [],
   "source": [
    "weekly_sales = df.drop('customer_id', axis=1).groupby(['ldbw', 'article_id']).count().reset_index()\n",
    "weekly_sales = weekly_sales.rename(columns={'t_dat': 'count'})"
   ]
  },
  {
   "cell_type": "code",
   "execution_count": 36,
   "id": "e5fd2049",
   "metadata": {
    "execution": {
     "iopub.execute_input": "2022-03-27T14:44:14.443132Z",
     "iopub.status.busy": "2022-03-27T14:44:14.442234Z",
     "iopub.status.idle": "2022-03-27T14:44:14.492909Z",
     "shell.execute_reply": "2022-03-27T14:44:14.493353Z",
     "shell.execute_reply.started": "2022-03-27T14:17:45.103519Z"
    },
    "papermill": {
     "duration": 0.189189,
     "end_time": "2022-03-27T14:44:14.493499",
     "exception": false,
     "start_time": "2022-03-27T14:44:14.304310",
     "status": "completed"
    },
    "tags": []
   },
   "outputs": [
    {
     "data": {
      "text/html": [
       "<div>\n",
       "<style scoped>\n",
       "    .dataframe tbody tr th:only-of-type {\n",
       "        vertical-align: middle;\n",
       "    }\n",
       "\n",
       "    .dataframe tbody tr th {\n",
       "        vertical-align: top;\n",
       "    }\n",
       "\n",
       "    .dataframe thead th {\n",
       "        text-align: right;\n",
       "    }\n",
       "</style>\n",
       "<table border=\"1\" class=\"dataframe\">\n",
       "  <thead>\n",
       "    <tr style=\"text-align: right;\">\n",
       "      <th></th>\n",
       "      <th>ldbw</th>\n",
       "      <th>article_id</th>\n",
       "      <th>count</th>\n",
       "      <th>price</th>\n",
       "      <th>sales_channel_id</th>\n",
       "    </tr>\n",
       "  </thead>\n",
       "  <tbody>\n",
       "    <tr>\n",
       "      <th>0</th>\n",
       "      <td>2019-03-12</td>\n",
       "      <td>719447002</td>\n",
       "      <td>4</td>\n",
       "      <td>4</td>\n",
       "      <td>4</td>\n",
       "    </tr>\n",
       "    <tr>\n",
       "      <th>1</th>\n",
       "      <td>2019-04-16</td>\n",
       "      <td>590203002</td>\n",
       "      <td>1</td>\n",
       "      <td>1</td>\n",
       "      <td>1</td>\n",
       "    </tr>\n",
       "    <tr>\n",
       "      <th>2</th>\n",
       "      <td>2020-05-05</td>\n",
       "      <td>831684001</td>\n",
       "      <td>12</td>\n",
       "      <td>12</td>\n",
       "      <td>12</td>\n",
       "    </tr>\n",
       "    <tr>\n",
       "      <th>3</th>\n",
       "      <td>2019-05-28</td>\n",
       "      <td>693508002</td>\n",
       "      <td>1</td>\n",
       "      <td>1</td>\n",
       "      <td>1</td>\n",
       "    </tr>\n",
       "    <tr>\n",
       "      <th>4</th>\n",
       "      <td>2019-07-02</td>\n",
       "      <td>777038001</td>\n",
       "      <td>5</td>\n",
       "      <td>5</td>\n",
       "      <td>5</td>\n",
       "    </tr>\n",
       "    <tr>\n",
       "      <th>...</th>\n",
       "      <td>...</td>\n",
       "      <td>...</td>\n",
       "      <td>...</td>\n",
       "      <td>...</td>\n",
       "      <td>...</td>\n",
       "    </tr>\n",
       "    <tr>\n",
       "      <th>2183240</th>\n",
       "      <td>2019-02-12</td>\n",
       "      <td>664871001</td>\n",
       "      <td>34</td>\n",
       "      <td>34</td>\n",
       "      <td>34</td>\n",
       "    </tr>\n",
       "    <tr>\n",
       "      <th>2183241</th>\n",
       "      <td>2019-11-19</td>\n",
       "      <td>640735001</td>\n",
       "      <td>2</td>\n",
       "      <td>2</td>\n",
       "      <td>2</td>\n",
       "    </tr>\n",
       "    <tr>\n",
       "      <th>2183242</th>\n",
       "      <td>2018-10-02</td>\n",
       "      <td>569355002</td>\n",
       "      <td>6</td>\n",
       "      <td>6</td>\n",
       "      <td>6</td>\n",
       "    </tr>\n",
       "    <tr>\n",
       "      <th>2183243</th>\n",
       "      <td>2019-06-04</td>\n",
       "      <td>684021006</td>\n",
       "      <td>8</td>\n",
       "      <td>8</td>\n",
       "      <td>8</td>\n",
       "    </tr>\n",
       "    <tr>\n",
       "      <th>2183244</th>\n",
       "      <td>2019-04-16</td>\n",
       "      <td>767918005</td>\n",
       "      <td>5</td>\n",
       "      <td>5</td>\n",
       "      <td>5</td>\n",
       "    </tr>\n",
       "  </tbody>\n",
       "</table>\n",
       "<p>2183245 rows × 5 columns</p>\n",
       "</div>"
      ],
      "text/plain": [
       "              ldbw  article_id  count  price  sales_channel_id\n",
       "0       2019-03-12   719447002      4      4                 4\n",
       "1       2019-04-16   590203002      1      1                 1\n",
       "2       2020-05-05   831684001     12     12                12\n",
       "3       2019-05-28   693508002      1      1                 1\n",
       "4       2019-07-02   777038001      5      5                 5\n",
       "...            ...         ...    ...    ...               ...\n",
       "2183240 2019-02-12   664871001     34     34                34\n",
       "2183241 2019-11-19   640735001      2      2                 2\n",
       "2183242 2018-10-02   569355002      6      6                 6\n",
       "2183243 2019-06-04   684021006      8      8                 8\n",
       "2183244 2019-04-16   767918005      5      5                 5\n",
       "\n",
       "[2183245 rows x 5 columns]"
      ]
     },
     "execution_count": 36,
     "metadata": {},
     "output_type": "execute_result"
    }
   ],
   "source": [
    "weekly_sales"
   ]
  },
  {
   "cell_type": "code",
   "execution_count": 37,
   "id": "051fe74b",
   "metadata": {
    "execution": {
     "iopub.execute_input": "2022-03-27T14:44:14.790034Z",
     "iopub.status.busy": "2022-03-27T14:44:14.789064Z",
     "iopub.status.idle": "2022-03-27T14:44:14.834761Z",
     "shell.execute_reply": "2022-03-27T14:44:14.833885Z",
     "shell.execute_reply.started": "2022-03-27T14:17:45.160910Z"
    },
    "papermill": {
     "duration": 0.195804,
     "end_time": "2022-03-27T14:44:14.834901",
     "exception": false,
     "start_time": "2022-03-27T14:44:14.639097",
     "status": "completed"
    },
    "tags": []
   },
   "outputs": [],
   "source": [
    "df = df[df[\"ldbw\"] >= pd.to_datetime('2020-08-01')]"
   ]
  },
  {
   "cell_type": "code",
   "execution_count": 38,
   "id": "b1266ea6",
   "metadata": {
    "execution": {
     "iopub.execute_input": "2022-03-27T14:44:15.265411Z",
     "iopub.status.busy": "2022-03-27T14:44:15.264575Z",
     "iopub.status.idle": "2022-03-27T14:44:15.312164Z",
     "shell.execute_reply": "2022-03-27T14:44:15.313270Z",
     "shell.execute_reply.started": "2022-03-27T14:17:45.201453Z"
    },
    "papermill": {
     "duration": 0.269204,
     "end_time": "2022-03-27T14:44:15.313482",
     "exception": false,
     "start_time": "2022-03-27T14:44:15.044278",
     "status": "completed"
    },
    "tags": []
   },
   "outputs": [],
   "source": [
    "full_result = df.merge(relation_data, left_on = \"article_id\", right_on = \"from_id\")"
   ]
  },
  {
   "cell_type": "code",
   "execution_count": 39,
   "id": "b271c30b",
   "metadata": {
    "execution": {
     "iopub.execute_input": "2022-03-27T14:44:15.657619Z",
     "iopub.status.busy": "2022-03-27T14:44:15.656106Z",
     "iopub.status.idle": "2022-03-27T14:44:15.658547Z",
     "shell.execute_reply": "2022-03-27T14:44:15.658999Z",
     "shell.execute_reply.started": "2022-03-27T14:17:45.258499Z"
    },
    "papermill": {
     "duration": 0.146698,
     "end_time": "2022-03-27T14:44:15.659154",
     "exception": false,
     "start_time": "2022-03-27T14:44:15.512456",
     "status": "completed"
    },
    "tags": []
   },
   "outputs": [],
   "source": [
    "full_result.drop([\"article_id\", \"from_id\"], axis = 1, inplace = True)"
   ]
  },
  {
   "cell_type": "code",
   "execution_count": 40,
   "id": "6632121b",
   "metadata": {
    "execution": {
     "iopub.execute_input": "2022-03-27T14:44:15.925837Z",
     "iopub.status.busy": "2022-03-27T14:44:15.924972Z",
     "iopub.status.idle": "2022-03-27T14:44:15.958847Z",
     "shell.execute_reply": "2022-03-27T14:44:15.958263Z",
     "shell.execute_reply.started": "2022-03-27T14:17:45.268208Z"
    },
    "papermill": {
     "duration": 0.168391,
     "end_time": "2022-03-27T14:44:15.958994",
     "exception": false,
     "start_time": "2022-03-27T14:44:15.790603",
     "status": "completed"
    },
    "tags": []
   },
   "outputs": [],
   "source": [
    "full_result = full_result.rename(columns = {\"to_id\": \"article_id\"})"
   ]
  },
  {
   "cell_type": "code",
   "execution_count": 41,
   "id": "a71129bc",
   "metadata": {
    "execution": {
     "iopub.execute_input": "2022-03-27T14:44:16.237568Z",
     "iopub.status.busy": "2022-03-27T14:44:16.236649Z",
     "iopub.status.idle": "2022-03-27T14:44:16.292012Z",
     "shell.execute_reply": "2022-03-27T14:44:16.292441Z",
     "shell.execute_reply.started": "2022-03-27T14:17:45.306680Z"
    },
    "papermill": {
     "duration": 0.202021,
     "end_time": "2022-03-27T14:44:16.292586",
     "exception": false,
     "start_time": "2022-03-27T14:44:16.090565",
     "status": "completed"
    },
    "tags": []
   },
   "outputs": [
    {
     "data": {
      "text/html": [
       "<div>\n",
       "<style scoped>\n",
       "    .dataframe tbody tr th:only-of-type {\n",
       "        vertical-align: middle;\n",
       "    }\n",
       "\n",
       "    .dataframe tbody tr th {\n",
       "        vertical-align: top;\n",
       "    }\n",
       "\n",
       "    .dataframe thead th {\n",
       "        text-align: right;\n",
       "    }\n",
       "</style>\n",
       "<table border=\"1\" class=\"dataframe\">\n",
       "  <thead>\n",
       "    <tr style=\"text-align: right;\">\n",
       "      <th></th>\n",
       "      <th>t_dat</th>\n",
       "      <th>customer_id</th>\n",
       "      <th>price</th>\n",
       "      <th>sales_channel_id</th>\n",
       "      <th>ldbw</th>\n",
       "      <th>article_id</th>\n",
       "      <th>ratio</th>\n",
       "    </tr>\n",
       "  </thead>\n",
       "  <tbody>\n",
       "    <tr>\n",
       "      <th>0</th>\n",
       "      <td>2020-07-29</td>\n",
       "      <td>-6007016008589505382</td>\n",
       "      <td>0.030492</td>\n",
       "      <td>2</td>\n",
       "      <td>2020-08-04</td>\n",
       "      <td>811927007</td>\n",
       "      <td>0.298737</td>\n",
       "    </tr>\n",
       "    <tr>\n",
       "      <th>1</th>\n",
       "      <td>2020-07-29</td>\n",
       "      <td>-6007016008589505382</td>\n",
       "      <td>0.022017</td>\n",
       "      <td>2</td>\n",
       "      <td>2020-08-04</td>\n",
       "      <td>806225002</td>\n",
       "      <td>0.099779</td>\n",
       "    </tr>\n",
       "    <tr>\n",
       "      <th>2</th>\n",
       "      <td>2020-07-29</td>\n",
       "      <td>-6007016008589505382</td>\n",
       "      <td>0.025407</td>\n",
       "      <td>2</td>\n",
       "      <td>2020-08-04</td>\n",
       "      <td>913030001</td>\n",
       "      <td>0.209235</td>\n",
       "    </tr>\n",
       "    <tr>\n",
       "      <th>3</th>\n",
       "      <td>2020-07-29</td>\n",
       "      <td>-56930136629560914</td>\n",
       "      <td>0.030492</td>\n",
       "      <td>2</td>\n",
       "      <td>2020-08-04</td>\n",
       "      <td>706016002</td>\n",
       "      <td>0.069138</td>\n",
       "    </tr>\n",
       "    <tr>\n",
       "      <th>4</th>\n",
       "      <td>2020-07-29</td>\n",
       "      <td>-6007016008589505382</td>\n",
       "      <td>0.030492</td>\n",
       "      <td>2</td>\n",
       "      <td>2020-08-04</td>\n",
       "      <td>811927007</td>\n",
       "      <td>0.298737</td>\n",
       "    </tr>\n",
       "    <tr>\n",
       "      <th>...</th>\n",
       "      <td>...</td>\n",
       "      <td>...</td>\n",
       "      <td>...</td>\n",
       "      <td>...</td>\n",
       "      <td>...</td>\n",
       "      <td>...</td>\n",
       "      <td>...</td>\n",
       "    </tr>\n",
       "    <tr>\n",
       "      <th>18750425</th>\n",
       "      <td>2020-09-15</td>\n",
       "      <td>5071616147837568152</td>\n",
       "      <td>0.050831</td>\n",
       "      <td>1</td>\n",
       "      <td>2020-09-15</td>\n",
       "      <td>779333004</td>\n",
       "      <td>0.064356</td>\n",
       "    </tr>\n",
       "    <tr>\n",
       "      <th>18750426</th>\n",
       "      <td>2020-09-15</td>\n",
       "      <td>4908528897358301336</td>\n",
       "      <td>0.042356</td>\n",
       "      <td>2</td>\n",
       "      <td>2020-09-15</td>\n",
       "      <td>922381001</td>\n",
       "      <td>0.140351</td>\n",
       "    </tr>\n",
       "    <tr>\n",
       "      <th>18750427</th>\n",
       "      <td>2020-09-15</td>\n",
       "      <td>4908528897358301336</td>\n",
       "      <td>0.042356</td>\n",
       "      <td>2</td>\n",
       "      <td>2020-09-15</td>\n",
       "      <td>706016015</td>\n",
       "      <td>0.099415</td>\n",
       "    </tr>\n",
       "    <tr>\n",
       "      <th>18750428</th>\n",
       "      <td>2020-09-15</td>\n",
       "      <td>4908528897358301336</td>\n",
       "      <td>0.042356</td>\n",
       "      <td>2</td>\n",
       "      <td>2020-09-15</td>\n",
       "      <td>572998001</td>\n",
       "      <td>0.093567</td>\n",
       "    </tr>\n",
       "    <tr>\n",
       "      <th>18750429</th>\n",
       "      <td>2020-09-15</td>\n",
       "      <td>4908528897358301336</td>\n",
       "      <td>0.042356</td>\n",
       "      <td>2</td>\n",
       "      <td>2020-09-15</td>\n",
       "      <td>864668004</td>\n",
       "      <td>0.093567</td>\n",
       "    </tr>\n",
       "  </tbody>\n",
       "</table>\n",
       "<p>18750430 rows × 7 columns</p>\n",
       "</div>"
      ],
      "text/plain": [
       "              t_dat          customer_id     price  sales_channel_id  \\\n",
       "0        2020-07-29 -6007016008589505382  0.030492                 2   \n",
       "1        2020-07-29 -6007016008589505382  0.022017                 2   \n",
       "2        2020-07-29 -6007016008589505382  0.025407                 2   \n",
       "3        2020-07-29   -56930136629560914  0.030492                 2   \n",
       "4        2020-07-29 -6007016008589505382  0.030492                 2   \n",
       "...             ...                  ...       ...               ...   \n",
       "18750425 2020-09-15  5071616147837568152  0.050831                 1   \n",
       "18750426 2020-09-15  4908528897358301336  0.042356                 2   \n",
       "18750427 2020-09-15  4908528897358301336  0.042356                 2   \n",
       "18750428 2020-09-15  4908528897358301336  0.042356                 2   \n",
       "18750429 2020-09-15  4908528897358301336  0.042356                 2   \n",
       "\n",
       "               ldbw  article_id     ratio  \n",
       "0        2020-08-04   811927007  0.298737  \n",
       "1        2020-08-04   806225002  0.099779  \n",
       "2        2020-08-04   913030001  0.209235  \n",
       "3        2020-08-04   706016002  0.069138  \n",
       "4        2020-08-04   811927007  0.298737  \n",
       "...             ...         ...       ...  \n",
       "18750425 2020-09-15   779333004  0.064356  \n",
       "18750426 2020-09-15   922381001  0.140351  \n",
       "18750427 2020-09-15   706016015  0.099415  \n",
       "18750428 2020-09-15   572998001  0.093567  \n",
       "18750429 2020-09-15   864668004  0.093567  \n",
       "\n",
       "[18750430 rows x 7 columns]"
      ]
     },
     "execution_count": 41,
     "metadata": {},
     "output_type": "execute_result"
    }
   ],
   "source": [
    "full_result"
   ]
  },
  {
   "cell_type": "code",
   "execution_count": 42,
   "id": "c0aabbee",
   "metadata": {
    "execution": {
     "iopub.execute_input": "2022-03-27T14:44:16.563470Z",
     "iopub.status.busy": "2022-03-27T14:44:16.562530Z",
     "iopub.status.idle": "2022-03-27T14:44:16.629028Z",
     "shell.execute_reply": "2022-03-27T14:44:16.629480Z",
     "shell.execute_reply.started": "2022-03-27T14:17:45.373462Z"
    },
    "papermill": {
     "duration": 0.207426,
     "end_time": "2022-03-27T14:44:16.629647",
     "exception": false,
     "start_time": "2022-03-27T14:44:16.422221",
     "status": "completed"
    },
    "tags": []
   },
   "outputs": [],
   "source": [
    "full_result = full_result.merge(weekly_sales, on=['ldbw', 'article_id'], how = 'left')"
   ]
  },
  {
   "cell_type": "code",
   "execution_count": 43,
   "id": "bf40644e",
   "metadata": {
    "execution": {
     "iopub.execute_input": "2022-03-27T14:44:16.928915Z",
     "iopub.status.busy": "2022-03-27T14:44:16.927897Z",
     "iopub.status.idle": "2022-03-27T14:44:16.930624Z",
     "shell.execute_reply": "2022-03-27T14:44:16.929996Z",
     "shell.execute_reply.started": "2022-03-27T14:17:45.436880Z"
    },
    "papermill": {
     "duration": 0.159759,
     "end_time": "2022-03-27T14:44:16.930772",
     "exception": false,
     "start_time": "2022-03-27T14:44:16.771013",
     "status": "completed"
    },
    "tags": []
   },
   "outputs": [],
   "source": [
    "#full_result.drop([\"article_id\", \"from_id\", \"count\"], axis = 1, inplace = True)"
   ]
  },
  {
   "cell_type": "code",
   "execution_count": 44,
   "id": "65c92911",
   "metadata": {
    "execution": {
     "iopub.execute_input": "2022-03-27T14:44:17.208968Z",
     "iopub.status.busy": "2022-03-27T14:44:17.208082Z",
     "iopub.status.idle": "2022-03-27T14:44:17.210489Z",
     "shell.execute_reply": "2022-03-27T14:44:17.209981Z",
     "shell.execute_reply.started": "2022-03-27T14:17:45.441787Z"
    },
    "papermill": {
     "duration": 0.136468,
     "end_time": "2022-03-27T14:44:17.210604",
     "exception": false,
     "start_time": "2022-03-27T14:44:17.074136",
     "status": "completed"
    },
    "tags": []
   },
   "outputs": [],
   "source": [
    "#full_result.dropna(inplace)"
   ]
  },
  {
   "cell_type": "code",
   "execution_count": 45,
   "id": "af1214f1",
   "metadata": {
    "execution": {
     "iopub.execute_input": "2022-03-27T14:44:17.478853Z",
     "iopub.status.busy": "2022-03-27T14:44:17.477979Z",
     "iopub.status.idle": "2022-03-27T14:44:17.573164Z",
     "shell.execute_reply": "2022-03-27T14:44:17.572569Z",
     "shell.execute_reply.started": "2022-03-27T14:17:45.449874Z"
    },
    "papermill": {
     "duration": 0.232147,
     "end_time": "2022-03-27T14:44:17.573310",
     "exception": false,
     "start_time": "2022-03-27T14:44:17.341163",
     "status": "completed"
    },
    "tags": []
   },
   "outputs": [],
   "source": [
    "weekly_sales = weekly_sales.reset_index().set_index('article_id')\n",
    "\n",
    "full_result = full_result.merge(\n",
    "    weekly_sales.loc[weekly_sales['ldbw']==Last_date, ['count']],\n",
    "    on='article_id', suffixes=(\"\", \"_targ\"))\n",
    "\n",
    "full_result['count_targ'].fillna(0, inplace=True)"
   ]
  },
  {
   "cell_type": "code",
   "execution_count": 46,
   "id": "9c1a8562",
   "metadata": {
    "execution": {
     "iopub.execute_input": "2022-03-27T14:44:17.881663Z",
     "iopub.status.busy": "2022-03-27T14:44:17.878094Z",
     "iopub.status.idle": "2022-03-27T14:44:17.973358Z",
     "shell.execute_reply": "2022-03-27T14:44:17.973814Z",
     "shell.execute_reply.started": "2022-03-27T14:17:45.543415Z"
    },
    "papermill": {
     "duration": 0.247527,
     "end_time": "2022-03-27T14:44:17.973974",
     "exception": false,
     "start_time": "2022-03-27T14:44:17.726447",
     "status": "completed"
    },
    "tags": []
   },
   "outputs": [
    {
     "data": {
      "text/html": [
       "<div>\n",
       "<style scoped>\n",
       "    .dataframe tbody tr th:only-of-type {\n",
       "        vertical-align: middle;\n",
       "    }\n",
       "\n",
       "    .dataframe tbody tr th {\n",
       "        vertical-align: top;\n",
       "    }\n",
       "\n",
       "    .dataframe thead th {\n",
       "        text-align: right;\n",
       "    }\n",
       "</style>\n",
       "<table border=\"1\" class=\"dataframe\">\n",
       "  <thead>\n",
       "    <tr style=\"text-align: right;\">\n",
       "      <th></th>\n",
       "      <th>t_dat</th>\n",
       "      <th>customer_id</th>\n",
       "      <th>price_x</th>\n",
       "      <th>sales_channel_id_x</th>\n",
       "      <th>ldbw</th>\n",
       "      <th>article_id</th>\n",
       "      <th>ratio</th>\n",
       "      <th>count</th>\n",
       "      <th>price_y</th>\n",
       "      <th>sales_channel_id_y</th>\n",
       "      <th>count_targ</th>\n",
       "    </tr>\n",
       "  </thead>\n",
       "  <tbody>\n",
       "    <tr>\n",
       "      <th>0</th>\n",
       "      <td>2020-07-30</td>\n",
       "      <td>6896914372120773055</td>\n",
       "      <td>0.033881</td>\n",
       "      <td>2</td>\n",
       "      <td>2020-08-04</td>\n",
       "      <td>578630002</td>\n",
       "      <td>0.260073</td>\n",
       "      <td>18</td>\n",
       "      <td>18</td>\n",
       "      <td>18</td>\n",
       "      <td>1</td>\n",
       "    </tr>\n",
       "    <tr>\n",
       "      <th>1</th>\n",
       "      <td>2020-07-30</td>\n",
       "      <td>6896914372120773055</td>\n",
       "      <td>0.033881</td>\n",
       "      <td>2</td>\n",
       "      <td>2020-08-04</td>\n",
       "      <td>578630002</td>\n",
       "      <td>0.260073</td>\n",
       "      <td>18</td>\n",
       "      <td>18</td>\n",
       "      <td>18</td>\n",
       "      <td>1</td>\n",
       "    </tr>\n",
       "    <tr>\n",
       "      <th>2</th>\n",
       "      <td>2020-07-30</td>\n",
       "      <td>6896914372120773055</td>\n",
       "      <td>0.008458</td>\n",
       "      <td>2</td>\n",
       "      <td>2020-08-04</td>\n",
       "      <td>610776002</td>\n",
       "      <td>0.291486</td>\n",
       "      <td>208</td>\n",
       "      <td>208</td>\n",
       "      <td>208</td>\n",
       "      <td>206</td>\n",
       "    </tr>\n",
       "    <tr>\n",
       "      <th>3</th>\n",
       "      <td>2020-07-30</td>\n",
       "      <td>6896914372120773055</td>\n",
       "      <td>0.008458</td>\n",
       "      <td>2</td>\n",
       "      <td>2020-08-04</td>\n",
       "      <td>610776002</td>\n",
       "      <td>0.291486</td>\n",
       "      <td>208</td>\n",
       "      <td>208</td>\n",
       "      <td>208</td>\n",
       "      <td>206</td>\n",
       "    </tr>\n",
       "    <tr>\n",
       "      <th>4</th>\n",
       "      <td>2020-07-30</td>\n",
       "      <td>6896914372120773055</td>\n",
       "      <td>0.008458</td>\n",
       "      <td>2</td>\n",
       "      <td>2020-08-04</td>\n",
       "      <td>610776002</td>\n",
       "      <td>0.291486</td>\n",
       "      <td>208</td>\n",
       "      <td>208</td>\n",
       "      <td>208</td>\n",
       "      <td>206</td>\n",
       "    </tr>\n",
       "    <tr>\n",
       "      <th>...</th>\n",
       "      <td>...</td>\n",
       "      <td>...</td>\n",
       "      <td>...</td>\n",
       "      <td>...</td>\n",
       "      <td>...</td>\n",
       "      <td>...</td>\n",
       "      <td>...</td>\n",
       "      <td>...</td>\n",
       "      <td>...</td>\n",
       "      <td>...</td>\n",
       "      <td>...</td>\n",
       "    </tr>\n",
       "    <tr>\n",
       "      <th>17558330</th>\n",
       "      <td>2020-09-15</td>\n",
       "      <td>8098672764558120846</td>\n",
       "      <td>0.025407</td>\n",
       "      <td>2</td>\n",
       "      <td>2020-09-15</td>\n",
       "      <td>917294005</td>\n",
       "      <td>0.140625</td>\n",
       "      <td>18</td>\n",
       "      <td>18</td>\n",
       "      <td>18</td>\n",
       "      <td>18</td>\n",
       "    </tr>\n",
       "    <tr>\n",
       "      <th>17558331</th>\n",
       "      <td>2020-09-15</td>\n",
       "      <td>5732692979443787658</td>\n",
       "      <td>0.025407</td>\n",
       "      <td>2</td>\n",
       "      <td>2020-09-15</td>\n",
       "      <td>783346001</td>\n",
       "      <td>0.082673</td>\n",
       "      <td>266</td>\n",
       "      <td>266</td>\n",
       "      <td>266</td>\n",
       "      <td>266</td>\n",
       "    </tr>\n",
       "    <tr>\n",
       "      <th>17558332</th>\n",
       "      <td>2020-09-15</td>\n",
       "      <td>268261632091956402</td>\n",
       "      <td>0.016085</td>\n",
       "      <td>1</td>\n",
       "      <td>2020-09-15</td>\n",
       "      <td>372860002</td>\n",
       "      <td>0.037121</td>\n",
       "      <td>245</td>\n",
       "      <td>245</td>\n",
       "      <td>245</td>\n",
       "      <td>245</td>\n",
       "    </tr>\n",
       "    <tr>\n",
       "      <th>17558333</th>\n",
       "      <td>2020-09-15</td>\n",
       "      <td>8689558803136921193</td>\n",
       "      <td>0.021339</td>\n",
       "      <td>2</td>\n",
       "      <td>2020-09-15</td>\n",
       "      <td>736530007</td>\n",
       "      <td>0.080758</td>\n",
       "      <td>5</td>\n",
       "      <td>5</td>\n",
       "      <td>5</td>\n",
       "      <td>5</td>\n",
       "    </tr>\n",
       "    <tr>\n",
       "      <th>17558334</th>\n",
       "      <td>2020-09-15</td>\n",
       "      <td>5732692979443787658</td>\n",
       "      <td>0.033881</td>\n",
       "      <td>2</td>\n",
       "      <td>2020-09-15</td>\n",
       "      <td>863595005</td>\n",
       "      <td>0.057823</td>\n",
       "      <td>130</td>\n",
       "      <td>130</td>\n",
       "      <td>130</td>\n",
       "      <td>130</td>\n",
       "    </tr>\n",
       "  </tbody>\n",
       "</table>\n",
       "<p>17558335 rows × 11 columns</p>\n",
       "</div>"
      ],
      "text/plain": [
       "              t_dat          customer_id   price_x  sales_channel_id_x  \\\n",
       "0        2020-07-30  6896914372120773055  0.033881                   2   \n",
       "1        2020-07-30  6896914372120773055  0.033881                   2   \n",
       "2        2020-07-30  6896914372120773055  0.008458                   2   \n",
       "3        2020-07-30  6896914372120773055  0.008458                   2   \n",
       "4        2020-07-30  6896914372120773055  0.008458                   2   \n",
       "...             ...                  ...       ...                 ...   \n",
       "17558330 2020-09-15  8098672764558120846  0.025407                   2   \n",
       "17558331 2020-09-15  5732692979443787658  0.025407                   2   \n",
       "17558332 2020-09-15   268261632091956402  0.016085                   1   \n",
       "17558333 2020-09-15  8689558803136921193  0.021339                   2   \n",
       "17558334 2020-09-15  5732692979443787658  0.033881                   2   \n",
       "\n",
       "               ldbw  article_id     ratio  count  price_y  sales_channel_id_y  \\\n",
       "0        2020-08-04   578630002  0.260073     18       18                  18   \n",
       "1        2020-08-04   578630002  0.260073     18       18                  18   \n",
       "2        2020-08-04   610776002  0.291486    208      208                 208   \n",
       "3        2020-08-04   610776002  0.291486    208      208                 208   \n",
       "4        2020-08-04   610776002  0.291486    208      208                 208   \n",
       "...             ...         ...       ...    ...      ...                 ...   \n",
       "17558330 2020-09-15   917294005  0.140625     18       18                  18   \n",
       "17558331 2020-09-15   783346001  0.082673    266      266                 266   \n",
       "17558332 2020-09-15   372860002  0.037121    245      245                 245   \n",
       "17558333 2020-09-15   736530007  0.080758      5        5                   5   \n",
       "17558334 2020-09-15   863595005  0.057823    130      130                 130   \n",
       "\n",
       "          count_targ  \n",
       "0                  1  \n",
       "1                  1  \n",
       "2                206  \n",
       "3                206  \n",
       "4                206  \n",
       "...              ...  \n",
       "17558330          18  \n",
       "17558331         266  \n",
       "17558332         245  \n",
       "17558333           5  \n",
       "17558334         130  \n",
       "\n",
       "[17558335 rows x 11 columns]"
      ]
     },
     "execution_count": 46,
     "metadata": {},
     "output_type": "execute_result"
    }
   ],
   "source": [
    "full_result"
   ]
  },
  {
   "cell_type": "code",
   "execution_count": 47,
   "id": "1b8b0b2a",
   "metadata": {
    "execution": {
     "iopub.execute_input": "2022-03-27T14:44:18.251882Z",
     "iopub.status.busy": "2022-03-27T14:44:18.251044Z",
     "iopub.status.idle": "2022-03-27T14:44:18.256667Z",
     "shell.execute_reply": "2022-03-27T14:44:18.256252Z",
     "shell.execute_reply.started": "2022-03-27T14:17:45.629926Z"
    },
    "papermill": {
     "duration": 0.143567,
     "end_time": "2022-03-27T14:44:18.256815",
     "exception": false,
     "start_time": "2022-03-27T14:44:18.113248",
     "status": "completed"
    },
    "tags": []
   },
   "outputs": [],
   "source": [
    "full_result['quotient'] = full_result['count_targ'] / full_result['count']"
   ]
  },
  {
   "cell_type": "code",
   "execution_count": 48,
   "id": "ef95bf13",
   "metadata": {
    "execution": {
     "iopub.execute_input": "2022-03-27T14:44:18.528678Z",
     "iopub.status.busy": "2022-03-27T14:44:18.527826Z",
     "iopub.status.idle": "2022-03-27T14:44:42.468642Z",
     "shell.execute_reply": "2022-03-27T14:44:42.469074Z",
     "shell.execute_reply.started": "2022-03-27T14:17:45.638503Z"
    },
    "papermill": {
     "duration": 24.081758,
     "end_time": "2022-03-27T14:44:42.469250",
     "exception": false,
     "start_time": "2022-03-27T14:44:18.387492",
     "status": "completed"
    },
    "tags": []
   },
   "outputs": [
    {
     "name": "stdout",
     "output_type": "stream",
     "text": [
      "CPU times: user 18.8 s, sys: 6.97 s, total: 25.8 s\n",
      "Wall time: 23.9 s\n"
     ]
    }
   ],
   "source": [
    "%%time\n",
    "purchase_dict = {}\n",
    "\n",
    "tmp = full_result.copy().to_pandas()\n",
    "tmp['x'] = ((Last_date - tmp['t_dat']) / np.timedelta64(1, 'D')).astype(int)\n",
    "tmp['dummy_1'] = 1 \n",
    "tmp['x'] = tmp[[\"x\", \"dummy_1\"]].max(axis=1)\n",
    "\n",
    "a, b, c, d = 2.5e4, 1.5e5, 2e-1, 1e3\n",
    "total = 1715530\n",
    "tmp['y'] = ((a / np.sqrt(tmp['x']) + b * np.exp(-c*tmp['x']) - d) / total +\\\n",
    "(a / np.sqrt(tmp['x']+1) + b * np.exp(-c*(tmp['x']+1)) - d) / total +\\\n",
    "(a / np.sqrt(tmp['x']+2) + b * np.exp(-c*(tmp['x']+2)) - d) / total +\\\n",
    "(a / np.sqrt(tmp['x']+3) + b * np.exp(-c*(tmp['x']+3)) - d) / total +\\\n",
    "(a / np.sqrt(tmp['x']+4) + b * np.exp(-c*(tmp['x']+4)) - d) / total +\\\n",
    "(a / np.sqrt(tmp['x']+5) + b * np.exp(-c*(tmp['x']+5)) - d) / total +\\\n",
    "(a / np.sqrt(tmp['x']+6) + b * np.exp(-c*(tmp['x']+6)) - d) / total)\n",
    "\n",
    "tmp['dummy_0'] = 0 \n",
    "tmp['y'] = tmp[[\"y\", \"dummy_0\"]].max(axis=1)\n",
    "tmp['score'] = tmp['quotient'] * tmp['y'] * tmp[\"ratio\"]\n",
    "\n",
    "tmp = tmp.groupby(['customer_id', 'article_id']).agg({'score': 'sum'})\n",
    "tmp = tmp.reset_index()\n",
    "\n",
    "tmp = tmp.loc[tmp['score'] > 0]\n",
    "tmp['rank'] = tmp.groupby(\"customer_id\")[\"score\"].rank(\"dense\", ascending=False)\n",
    "tmp = tmp.loc[tmp['rank'] <= 12]\n",
    "tmp[\"source\"] = 2\n",
    "\n",
    "result2 = tmp[[\"customer_id\", \"article_id\", \"source\", \"score\", \"rank\"]]"
   ]
  },
  {
   "cell_type": "code",
   "execution_count": 49,
   "id": "4fce0610",
   "metadata": {
    "execution": {
     "iopub.execute_input": "2022-03-27T14:44:42.738224Z",
     "iopub.status.busy": "2022-03-27T14:44:42.737258Z",
     "iopub.status.idle": "2022-03-27T14:44:42.739556Z",
     "shell.execute_reply": "2022-03-27T14:44:42.739132Z",
     "shell.execute_reply.started": "2022-03-27T14:18:08.358899Z"
    },
    "papermill": {
     "duration": 0.138475,
     "end_time": "2022-03-27T14:44:42.739680",
     "exception": false,
     "start_time": "2022-03-27T14:44:42.601205",
     "status": "completed"
    },
    "tags": []
   },
   "outputs": [],
   "source": [
    "#result2.to_csv(\"result2.csv\", index = False)"
   ]
  },
  {
   "cell_type": "code",
   "execution_count": 50,
   "id": "d4fd5941",
   "metadata": {
    "execution": {
     "iopub.execute_input": "2022-03-27T14:44:43.175477Z",
     "iopub.status.busy": "2022-03-27T14:44:43.174375Z",
     "iopub.status.idle": "2022-03-27T14:44:43.178949Z",
     "shell.execute_reply": "2022-03-27T14:44:43.178510Z",
     "shell.execute_reply.started": "2022-03-27T14:18:08.365124Z"
    },
    "papermill": {
     "duration": 0.308065,
     "end_time": "2022-03-27T14:44:43.179078",
     "exception": false,
     "start_time": "2022-03-27T14:44:42.871013",
     "status": "completed"
    },
    "tags": []
   },
   "outputs": [
    {
     "data": {
      "text/plain": [
       "42"
      ]
     },
     "execution_count": 50,
     "metadata": {},
     "output_type": "execute_result"
    }
   ],
   "source": [
    "del tmp\n",
    "del df\n",
    "del full_result\n",
    "gc.collect()"
   ]
  },
  {
   "cell_type": "code",
   "execution_count": 51,
   "id": "4e54fae0",
   "metadata": {
    "execution": {
     "iopub.execute_input": "2022-03-27T14:44:43.447131Z",
     "iopub.status.busy": "2022-03-27T14:44:43.446308Z",
     "iopub.status.idle": "2022-03-27T14:44:43.448091Z",
     "shell.execute_reply": "2022-03-27T14:44:43.448530Z",
     "shell.execute_reply.started": "2022-03-27T14:18:08.518347Z"
    },
    "papermill": {
     "duration": 0.13834,
     "end_time": "2022-03-27T14:44:43.448666",
     "exception": false,
     "start_time": "2022-03-27T14:44:43.310326",
     "status": "completed"
    },
    "tags": []
   },
   "outputs": [],
   "source": [
    "#relation_data.to_csv(\"/kaggle/working/relation_data.csv\", index = False)"
   ]
  },
  {
   "cell_type": "code",
   "execution_count": 52,
   "id": "8665c32d",
   "metadata": {
    "execution": {
     "iopub.execute_input": "2022-03-27T14:44:43.723342Z",
     "iopub.status.busy": "2022-03-27T14:44:43.720441Z",
     "iopub.status.idle": "2022-03-27T14:44:43.726073Z",
     "shell.execute_reply": "2022-03-27T14:44:43.725564Z",
     "shell.execute_reply.started": "2022-03-27T14:18:08.524907Z"
    },
    "papermill": {
     "duration": 0.144991,
     "end_time": "2022-03-27T14:44:43.726205",
     "exception": false,
     "start_time": "2022-03-27T14:44:43.581214",
     "status": "completed"
    },
    "tags": []
   },
   "outputs": [],
   "source": [
    "# items = cudf.read_csv('../input/h-and-m-personalized-fashion-recommendations/articles.csv')\n",
    "# BASE = '../input/h-and-m-personalized-fashion-recommendations/images/'\n",
    "\n",
    "# for i,(k,v) in enumerate( pairs.items() ):\n",
    "#     name1 = BASE+'0'+str(k)[:2]+'/0'+str(k)+'.jpg'\n",
    "#     name2 = BASE+'0'+str(v[0])[:2]+'/0'+str(v[0])+'.jpg'\n",
    "#     name3 = BASE+'0'+str(v[1])[:2]+'/0'+str(v[1])+'.jpg'\n",
    "#     name4 = BASE+'0'+str(v[2])[:2]+'/0'+str(v[2])+'.jpg'\n",
    "#     if exists(name1) & exists(name2) & exists(name3) & exists(name4):\n",
    "#         plt.figure(figsize=(20,5))\n",
    "#         img1 = cv2.imread(name1)[:,:,::-1]\n",
    "#         img2 = cv2.imread(name2)[:,:,::-1]\n",
    "#         img3 = cv2.imread(name3)[:,:,::-1]\n",
    "#         img4 = cv2.imread(name4)[:,:,::-1]\n",
    "#         plt.subplot(1,4,1)\n",
    "#         plt.title('When customers buy this',size=18)\n",
    "#         plt.imshow(img1)\n",
    "#         plt.subplot(1,4,2)\n",
    "#         plt.title('They buy this',size=18)\n",
    "#         plt.imshow(img2)\n",
    "#         plt.subplot(1,4,3)\n",
    "#         plt.title('They buy this',size=18)\n",
    "#         plt.imshow(img3)\n",
    "#         plt.subplot(1,4,4)\n",
    "#         plt.title('They buy this',size=18)\n",
    "#         plt.imshow(img4)\n",
    "#         plt.show()\n",
    "#     #if i==63: break"
   ]
  },
  {
   "cell_type": "code",
   "execution_count": 53,
   "id": "61ed7965",
   "metadata": {
    "execution": {
     "iopub.execute_input": "2022-03-27T14:44:44.004452Z",
     "iopub.status.busy": "2022-03-27T14:44:44.003572Z",
     "iopub.status.idle": "2022-03-27T14:44:44.006944Z",
     "shell.execute_reply": "2022-03-27T14:44:44.007393Z",
     "shell.execute_reply.started": "2022-03-27T14:18:08.532868Z"
    },
    "papermill": {
     "duration": 0.148266,
     "end_time": "2022-03-27T14:44:44.007552",
     "exception": false,
     "start_time": "2022-03-27T14:44:43.859286",
     "status": "completed"
    },
    "tags": []
   },
   "outputs": [
    {
     "data": {
      "text/html": [
       "<div>\n",
       "<style scoped>\n",
       "    .dataframe tbody tr th:only-of-type {\n",
       "        vertical-align: middle;\n",
       "    }\n",
       "\n",
       "    .dataframe tbody tr th {\n",
       "        vertical-align: top;\n",
       "    }\n",
       "\n",
       "    .dataframe thead th {\n",
       "        text-align: right;\n",
       "    }\n",
       "</style>\n",
       "<table border=\"1\" class=\"dataframe\">\n",
       "  <thead>\n",
       "    <tr style=\"text-align: right;\">\n",
       "      <th></th>\n",
       "      <th>customer_id</th>\n",
       "      <th>article_id</th>\n",
       "      <th>source</th>\n",
       "      <th>score</th>\n",
       "      <th>rank</th>\n",
       "    </tr>\n",
       "  </thead>\n",
       "  <tbody>\n",
       "    <tr>\n",
       "      <th>0</th>\n",
       "      <td>-9223352921020755230</td>\n",
       "      <td>156231001</td>\n",
       "      <td>2</td>\n",
       "      <td>0.002209</td>\n",
       "      <td>12.0</td>\n",
       "    </tr>\n",
       "    <tr>\n",
       "      <th>1</th>\n",
       "      <td>-9223352921020755230</td>\n",
       "      <td>372860001</td>\n",
       "      <td>2</td>\n",
       "      <td>0.003020</td>\n",
       "      <td>8.0</td>\n",
       "    </tr>\n",
       "    <tr>\n",
       "      <th>2</th>\n",
       "      <td>-9223352921020755230</td>\n",
       "      <td>372860002</td>\n",
       "      <td>2</td>\n",
       "      <td>0.002471</td>\n",
       "      <td>11.0</td>\n",
       "    </tr>\n",
       "    <tr>\n",
       "      <th>3</th>\n",
       "      <td>-9223352921020755230</td>\n",
       "      <td>448509014</td>\n",
       "      <td>2</td>\n",
       "      <td>0.003171</td>\n",
       "      <td>7.0</td>\n",
       "    </tr>\n",
       "    <tr>\n",
       "      <th>5</th>\n",
       "      <td>-9223352921020755230</td>\n",
       "      <td>562245046</td>\n",
       "      <td>2</td>\n",
       "      <td>0.002872</td>\n",
       "      <td>9.0</td>\n",
       "    </tr>\n",
       "    <tr>\n",
       "      <th>...</th>\n",
       "      <td>...</td>\n",
       "      <td>...</td>\n",
       "      <td>...</td>\n",
       "      <td>...</td>\n",
       "      <td>...</td>\n",
       "    </tr>\n",
       "    <tr>\n",
       "      <th>10385327</th>\n",
       "      <td>9223144259947635662</td>\n",
       "      <td>719957006</td>\n",
       "      <td>2</td>\n",
       "      <td>0.008230</td>\n",
       "      <td>12.0</td>\n",
       "    </tr>\n",
       "    <tr>\n",
       "      <th>10385329</th>\n",
       "      <td>9223144259947635662</td>\n",
       "      <td>720504004</td>\n",
       "      <td>2</td>\n",
       "      <td>0.021830</td>\n",
       "      <td>2.0</td>\n",
       "    </tr>\n",
       "    <tr>\n",
       "      <th>10385330</th>\n",
       "      <td>9223144259947635662</td>\n",
       "      <td>720504007</td>\n",
       "      <td>2</td>\n",
       "      <td>0.016236</td>\n",
       "      <td>5.0</td>\n",
       "    </tr>\n",
       "    <tr>\n",
       "      <th>10385333</th>\n",
       "      <td>9223144259947635662</td>\n",
       "      <td>730863005</td>\n",
       "      <td>2</td>\n",
       "      <td>0.014194</td>\n",
       "      <td>6.0</td>\n",
       "    </tr>\n",
       "    <tr>\n",
       "      <th>10385339</th>\n",
       "      <td>9223144259947635662</td>\n",
       "      <td>749699001</td>\n",
       "      <td>2</td>\n",
       "      <td>0.009977</td>\n",
       "      <td>8.0</td>\n",
       "    </tr>\n",
       "  </tbody>\n",
       "</table>\n",
       "<p>4005629 rows × 5 columns</p>\n",
       "</div>"
      ],
      "text/plain": [
       "                  customer_id  article_id  source     score  rank\n",
       "0        -9223352921020755230   156231001       2  0.002209  12.0\n",
       "1        -9223352921020755230   372860001       2  0.003020   8.0\n",
       "2        -9223352921020755230   372860002       2  0.002471  11.0\n",
       "3        -9223352921020755230   448509014       2  0.003171   7.0\n",
       "5        -9223352921020755230   562245046       2  0.002872   9.0\n",
       "...                       ...         ...     ...       ...   ...\n",
       "10385327  9223144259947635662   719957006       2  0.008230  12.0\n",
       "10385329  9223144259947635662   720504004       2  0.021830   2.0\n",
       "10385330  9223144259947635662   720504007       2  0.016236   5.0\n",
       "10385333  9223144259947635662   730863005       2  0.014194   6.0\n",
       "10385339  9223144259947635662   749699001       2  0.009977   8.0\n",
       "\n",
       "[4005629 rows x 5 columns]"
      ]
     },
     "execution_count": 53,
     "metadata": {},
     "output_type": "execute_result"
    }
   ],
   "source": [
    "result2"
   ]
  },
  {
   "cell_type": "markdown",
   "id": "6b5263ba",
   "metadata": {
    "papermill": {
     "duration": 0.131999,
     "end_time": "2022-03-27T14:44:44.272502",
     "exception": false,
     "start_time": "2022-03-27T14:44:44.140503",
     "status": "completed"
    },
    "tags": []
   },
   "source": [
    "## 第三路：分层上周热门（+趋势）"
   ]
  },
  {
   "cell_type": "code",
   "execution_count": 54,
   "id": "9212fbc4",
   "metadata": {
    "execution": {
     "iopub.execute_input": "2022-03-27T14:44:44.544381Z",
     "iopub.status.busy": "2022-03-27T14:44:44.543577Z",
     "iopub.status.idle": "2022-03-27T14:44:52.327080Z",
     "shell.execute_reply": "2022-03-27T14:44:52.326179Z",
     "shell.execute_reply.started": "2022-03-27T14:18:08.553326Z"
    },
    "papermill": {
     "duration": 7.921481,
     "end_time": "2022-03-27T14:44:52.327230",
     "exception": false,
     "start_time": "2022-03-27T14:44:44.405749",
     "status": "completed"
    },
    "tags": []
   },
   "outputs": [
    {
     "name": "stdout",
     "output_type": "stream",
     "text": [
      "Requirement already satisfied: cudf in /opt/conda/lib/python3.7/site-packages (21.10.1)\r\n",
      "Requirement already satisfied: numba>=0.53.1 in /opt/conda/lib/python3.7/site-packages (from cudf) (0.54.1)\r\n",
      "Requirement already satisfied: Cython<0.30,>=0.29 in /opt/conda/lib/python3.7/site-packages (from cudf) (0.29.28)\r\n",
      "Requirement already satisfied: fastavro>=0.22.9 in /opt/conda/lib/python3.7/site-packages (from cudf) (1.4.9)\r\n",
      "Requirement already satisfied: fsspec>=0.6.0 in /opt/conda/lib/python3.7/site-packages (from cudf) (2022.2.0)\r\n",
      "Requirement already satisfied: numpy in /opt/conda/lib/python3.7/site-packages (from cudf) (1.20.3)\r\n",
      "Requirement already satisfied: pandas<1.4.0dev0,>=1.0 in /opt/conda/lib/python3.7/site-packages (from cudf) (1.3.5)\r\n",
      "Requirement already satisfied: typing_extensions in /opt/conda/lib/python3.7/site-packages (from cudf) (4.1.1)\r\n",
      "Requirement already satisfied: protobuf in /opt/conda/lib/python3.7/site-packages (from cudf) (3.19.1)\r\n",
      "Requirement already satisfied: nvtx>=0.2.1 in /opt/conda/lib/python3.7/site-packages (from cudf) (0.2.3)\r\n",
      "Requirement already satisfied: cachetools in /opt/conda/lib/python3.7/site-packages (from cudf) (4.2.4)\r\n",
      "Requirement already satisfied: packaging in /opt/conda/lib/python3.7/site-packages (from cudf) (21.3)\r\n",
      "Requirement already satisfied: cupy-cuda110 in /opt/conda/lib/python3.7/site-packages (from cudf) (10.2.0)\r\n",
      "Requirement already satisfied: setuptools in /opt/conda/lib/python3.7/site-packages (from numba>=0.53.1->cudf) (59.5.0)\r\n",
      "Requirement already satisfied: llvmlite<0.38,>=0.37.0rc1 in /opt/conda/lib/python3.7/site-packages (from numba>=0.53.1->cudf) (0.37.0)\r\n",
      "Requirement already satisfied: python-dateutil>=2.7.3 in /opt/conda/lib/python3.7/site-packages (from pandas<1.4.0dev0,>=1.0->cudf) (2.8.2)\r\n",
      "Requirement already satisfied: pytz>=2017.3 in /opt/conda/lib/python3.7/site-packages (from pandas<1.4.0dev0,>=1.0->cudf) (2021.3)\r\n",
      "Requirement already satisfied: fastrlock>=0.5 in /opt/conda/lib/python3.7/site-packages (from cupy-cuda110->cudf) (0.8)\r\n",
      "Requirement already satisfied: pyparsing!=3.0.5,>=2.0.2 in /opt/conda/lib/python3.7/site-packages (from packaging->cudf) (3.0.6)\r\n",
      "Requirement already satisfied: six>=1.5 in /opt/conda/lib/python3.7/site-packages (from python-dateutil>=2.7.3->pandas<1.4.0dev0,>=1.0->cudf) (1.16.0)\r\n",
      "\u001b[33mWARNING: Running pip as the 'root' user can result in broken permissions and conflicting behaviour with the system package manager. It is recommended to use a virtual environment instead: https://pip.pypa.io/warnings/venv\u001b[0m\r\n"
     ]
    }
   ],
   "source": [
    "!pip install cudf\n",
    "import numpy as np\n",
    "import pandas as pd \n",
    "from datetime import datetime, timedelta\n",
    "import gc\n",
    "import cudf\n",
    "import cv2, matplotlib.pyplot as plt\n",
    "from os.path import exists"
   ]
  },
  {
   "cell_type": "code",
   "execution_count": 55,
   "id": "bcc8a478",
   "metadata": {
    "execution": {
     "iopub.execute_input": "2022-03-27T14:44:52.608561Z",
     "iopub.status.busy": "2022-03-27T14:44:52.607451Z",
     "iopub.status.idle": "2022-03-27T14:44:52.609242Z",
     "shell.execute_reply": "2022-03-27T14:44:52.609644Z",
     "shell.execute_reply.started": "2022-03-27T14:18:16.484184Z"
    },
    "papermill": {
     "duration": 0.143191,
     "end_time": "2022-03-27T14:44:52.609816",
     "exception": false,
     "start_time": "2022-03-27T14:44:52.466625",
     "status": "completed"
    },
    "tags": []
   },
   "outputs": [],
   "source": [
    "# # LOAD TRANSACTIONS DATAFRAME\n",
    "# df = cudf.read_csv('../input/h-and-m-personalized-fashion-recommendations/transactions_train.csv')\n",
    "# print('Transactions shape',df.shape)\n",
    "# display( df.head() )\n",
    "\n",
    "# # REDUCE MEMORY OF DATAFRAME\n",
    "# df = df[['t_dat','customer_id','article_id']]\n",
    "# df.customer_id = df.customer_id.str[-16:].str.hex_to_int().astype('int64')\n",
    "# df.article_id = df.article_id.astype('int32')\n",
    "# df.t_dat = cudf.to_datetime(df.t_dat)\n",
    "# _ = gc.collect()"
   ]
  },
  {
   "cell_type": "code",
   "execution_count": 56,
   "id": "48c65ed1",
   "metadata": {
    "execution": {
     "iopub.execute_input": "2022-03-27T14:44:52.894955Z",
     "iopub.status.busy": "2022-03-27T14:44:52.888410Z",
     "iopub.status.idle": "2022-03-27T14:44:52.903647Z",
     "shell.execute_reply": "2022-03-27T14:44:52.904384Z",
     "shell.execute_reply.started": "2022-03-27T14:18:16.489484Z"
    },
    "papermill": {
     "duration": 0.158637,
     "end_time": "2022-03-27T14:44:52.904602",
     "exception": false,
     "start_time": "2022-03-27T14:44:52.745965",
     "status": "completed"
    },
    "tags": []
   },
   "outputs": [],
   "source": [
    "df = train.copy()"
   ]
  },
  {
   "cell_type": "code",
   "execution_count": 57,
   "id": "53851f79",
   "metadata": {
    "execution": {
     "iopub.execute_input": "2022-03-27T14:44:53.180974Z",
     "iopub.status.busy": "2022-03-27T14:44:53.180414Z",
     "iopub.status.idle": "2022-03-27T14:44:55.682516Z",
     "shell.execute_reply": "2022-03-27T14:44:55.682986Z",
     "shell.execute_reply.started": "2022-03-27T14:18:16.506800Z"
    },
    "papermill": {
     "duration": 2.642066,
     "end_time": "2022-03-27T14:44:55.683139",
     "exception": false,
     "start_time": "2022-03-27T14:44:53.041073",
     "status": "completed"
    },
    "tags": []
   },
   "outputs": [],
   "source": [
    "customer = cudf.read_csv('../input/h-and-m-personalized-fashion-recommendations/customers.csv')\n",
    "customer.customer_id = customer.customer_id.str[-16:].str.hex_to_int().astype('int64')"
   ]
  },
  {
   "cell_type": "code",
   "execution_count": 58,
   "id": "c6a41c6c",
   "metadata": {
    "execution": {
     "iopub.execute_input": "2022-03-27T14:44:55.987450Z",
     "iopub.status.busy": "2022-03-27T14:44:55.986646Z",
     "iopub.status.idle": "2022-03-27T14:44:56.221791Z",
     "shell.execute_reply": "2022-03-27T14:44:56.221148Z",
     "shell.execute_reply.started": "2022-03-27T14:18:19.176171Z"
    },
    "papermill": {
     "duration": 0.40026,
     "end_time": "2022-03-27T14:44:56.221927",
     "exception": false,
     "start_time": "2022-03-27T14:44:55.821667",
     "status": "completed"
    },
    "tags": []
   },
   "outputs": [],
   "source": [
    "sales = cudf.merge(df, customer, on = \"customer_id\", how = 'left')\n",
    "sales = sales[sales.t_dat >= Date_week2]"
   ]
  },
  {
   "cell_type": "code",
   "execution_count": 59,
   "id": "6d594d99",
   "metadata": {
    "execution": {
     "iopub.execute_input": "2022-03-27T14:44:56.498821Z",
     "iopub.status.busy": "2022-03-27T14:44:56.497913Z",
     "iopub.status.idle": "2022-03-27T14:44:56.514667Z",
     "shell.execute_reply": "2022-03-27T14:44:56.514158Z",
     "shell.execute_reply.started": "2022-03-27T14:18:19.448573Z"
    },
    "papermill": {
     "duration": 0.158229,
     "end_time": "2022-03-27T14:44:56.514818",
     "exception": false,
     "start_time": "2022-03-27T14:44:56.356589",
     "status": "completed"
    },
    "tags": []
   },
   "outputs": [],
   "source": [
    "sales = sales.fillna(0)"
   ]
  },
  {
   "cell_type": "code",
   "execution_count": 60,
   "id": "f5bae0e7",
   "metadata": {
    "execution": {
     "iopub.execute_input": "2022-03-27T14:44:56.791873Z",
     "iopub.status.busy": "2022-03-27T14:44:56.791034Z",
     "iopub.status.idle": "2022-03-27T14:44:57.125944Z",
     "shell.execute_reply": "2022-03-27T14:44:57.126426Z",
     "shell.execute_reply.started": "2022-03-27T14:18:19.537308Z"
    },
    "papermill": {
     "duration": 0.475712,
     "end_time": "2022-03-27T14:44:57.126607",
     "exception": false,
     "start_time": "2022-03-27T14:44:56.650895",
     "status": "completed"
    },
    "tags": []
   },
   "outputs": [
    {
     "data": {
      "text/plain": [
       "<AxesSubplot:>"
      ]
     },
     "execution_count": 60,
     "metadata": {},
     "output_type": "execute_result"
    },
    {
     "data": {
      "image/png": "[encoded data removed]",
      "text/plain": [
       "<Figure size 432x288 with 1 Axes>"
      ]
     },
     "metadata": {
      "needs_background": "light"
     },
     "output_type": "display_data"
    }
   ],
   "source": [
    "sales.to_pandas()[\"age\"].hist()"
   ]
  },
  {
   "cell_type": "code",
   "execution_count": 61,
   "id": "f2cc286a",
   "metadata": {
    "execution": {
     "iopub.execute_input": "2022-03-27T14:44:57.535832Z",
     "iopub.status.busy": "2022-03-27T14:44:57.534984Z",
     "iopub.status.idle": "2022-03-27T14:44:57.675637Z",
     "shell.execute_reply": "2022-03-27T14:44:57.676805Z",
     "shell.execute_reply.started": "2022-03-27T14:18:19.873202Z"
    },
    "papermill": {
     "duration": 0.370869,
     "end_time": "2022-03-27T14:44:57.677051",
     "exception": false,
     "start_time": "2022-03-27T14:44:57.306182",
     "status": "completed"
    },
    "tags": []
   },
   "outputs": [
    {
     "data": {
      "text/html": [
       "<div>\n",
       "<style scoped>\n",
       "    .dataframe tbody tr th:only-of-type {\n",
       "        vertical-align: middle;\n",
       "    }\n",
       "\n",
       "    .dataframe tbody tr th {\n",
       "        vertical-align: top;\n",
       "    }\n",
       "\n",
       "    .dataframe thead th {\n",
       "        text-align: right;\n",
       "    }\n",
       "</style>\n",
       "<table border=\"1\" class=\"dataframe\">\n",
       "  <thead>\n",
       "    <tr style=\"text-align: right;\">\n",
       "      <th></th>\n",
       "      <th>t_dat</th>\n",
       "      <th>customer_id</th>\n",
       "      <th>article_id</th>\n",
       "      <th>price</th>\n",
       "      <th>sales_channel_id</th>\n",
       "      <th>FN</th>\n",
       "      <th>Active</th>\n",
       "      <th>club_member_status</th>\n",
       "      <th>fashion_news_frequency</th>\n",
       "      <th>age</th>\n",
       "      <th>postal_code</th>\n",
       "    </tr>\n",
       "  </thead>\n",
       "  <tbody>\n",
       "    <tr>\n",
       "      <th>31269312</th>\n",
       "      <td>2020-09-09</td>\n",
       "      <td>-5274452280971349952</td>\n",
       "      <td>237347059</td>\n",
       "      <td>0.033881</td>\n",
       "      <td>2</td>\n",
       "      <td>0.0</td>\n",
       "      <td>0.0</td>\n",
       "      <td>ACTIVE</td>\n",
       "      <td>NONE</td>\n",
       "      <td>25.0</td>\n",
       "      <td>7ea43ac1614c12129a53700fc85900ff7fcded5afbfe58...</td>\n",
       "    </tr>\n",
       "    <tr>\n",
       "      <th>31269313</th>\n",
       "      <td>2020-09-09</td>\n",
       "      <td>-6768069327316571405</td>\n",
       "      <td>898596007</td>\n",
       "      <td>0.016932</td>\n",
       "      <td>1</td>\n",
       "      <td>0.0</td>\n",
       "      <td>0.0</td>\n",
       "      <td>ACTIVE</td>\n",
       "      <td>NONE</td>\n",
       "      <td>68.0</td>\n",
       "      <td>a22bd7ee1057ddd420eaa572f783043b7fa97ce8808c58...</td>\n",
       "    </tr>\n",
       "    <tr>\n",
       "      <th>31269314</th>\n",
       "      <td>2020-09-09</td>\n",
       "      <td>897820301201394760</td>\n",
       "      <td>752814003</td>\n",
       "      <td>0.033881</td>\n",
       "      <td>2</td>\n",
       "      <td>1.0</td>\n",
       "      <td>1.0</td>\n",
       "      <td>ACTIVE</td>\n",
       "      <td>Regularly</td>\n",
       "      <td>22.0</td>\n",
       "      <td>9501f9d3320e943ea57924b8dfdde46515934580a7c17d...</td>\n",
       "    </tr>\n",
       "    <tr>\n",
       "      <th>31269315</th>\n",
       "      <td>2020-09-09</td>\n",
       "      <td>935822568927514223</td>\n",
       "      <td>673677024</td>\n",
       "      <td>0.025407</td>\n",
       "      <td>1</td>\n",
       "      <td>0.0</td>\n",
       "      <td>0.0</td>\n",
       "      <td>ACTIVE</td>\n",
       "      <td>NONE</td>\n",
       "      <td>51.0</td>\n",
       "      <td>6f1debdbcf810153c4ff51cee21109f2b7ee61d285b33e...</td>\n",
       "    </tr>\n",
       "    <tr>\n",
       "      <th>31269316</th>\n",
       "      <td>2020-09-09</td>\n",
       "      <td>-5274452280971349952</td>\n",
       "      <td>237347063</td>\n",
       "      <td>0.033881</td>\n",
       "      <td>2</td>\n",
       "      <td>0.0</td>\n",
       "      <td>0.0</td>\n",
       "      <td>ACTIVE</td>\n",
       "      <td>NONE</td>\n",
       "      <td>25.0</td>\n",
       "      <td>7ea43ac1614c12129a53700fc85900ff7fcded5afbfe58...</td>\n",
       "    </tr>\n",
       "    <tr>\n",
       "      <th>...</th>\n",
       "      <td>...</td>\n",
       "      <td>...</td>\n",
       "      <td>...</td>\n",
       "      <td>...</td>\n",
       "      <td>...</td>\n",
       "      <td>...</td>\n",
       "      <td>...</td>\n",
       "      <td>...</td>\n",
       "      <td>...</td>\n",
       "      <td>...</td>\n",
       "      <td>...</td>\n",
       "    </tr>\n",
       "    <tr>\n",
       "      <th>31548008</th>\n",
       "      <td>2020-09-15</td>\n",
       "      <td>-6427941934161059261</td>\n",
       "      <td>536139067</td>\n",
       "      <td>0.016932</td>\n",
       "      <td>1</td>\n",
       "      <td>0.0</td>\n",
       "      <td>0.0</td>\n",
       "      <td>ACTIVE</td>\n",
       "      <td>NONE</td>\n",
       "      <td>25.0</td>\n",
       "      <td>509fa1aa3f780986d00e233935059f5ca07b658f47912b...</td>\n",
       "    </tr>\n",
       "    <tr>\n",
       "      <th>31548009</th>\n",
       "      <td>2020-09-15</td>\n",
       "      <td>-2906181681434937533</td>\n",
       "      <td>889574009</td>\n",
       "      <td>0.010153</td>\n",
       "      <td>1</td>\n",
       "      <td>1.0</td>\n",
       "      <td>1.0</td>\n",
       "      <td>ACTIVE</td>\n",
       "      <td>Regularly</td>\n",
       "      <td>53.0</td>\n",
       "      <td>cbec264feccfd2b2f4fc2952613ce30a8336a6b1eca43c...</td>\n",
       "    </tr>\n",
       "    <tr>\n",
       "      <th>31548010</th>\n",
       "      <td>2020-09-15</td>\n",
       "      <td>6055964384479180517</td>\n",
       "      <td>936610001</td>\n",
       "      <td>0.042356</td>\n",
       "      <td>1</td>\n",
       "      <td>1.0</td>\n",
       "      <td>1.0</td>\n",
       "      <td>ACTIVE</td>\n",
       "      <td>Regularly</td>\n",
       "      <td>25.0</td>\n",
       "      <td>f4144c30359640930be01f55cd47be44ad6e799e80bf1a...</td>\n",
       "    </tr>\n",
       "    <tr>\n",
       "      <th>31548011</th>\n",
       "      <td>2020-09-15</td>\n",
       "      <td>4656377451867638708</td>\n",
       "      <td>903926002</td>\n",
       "      <td>0.050831</td>\n",
       "      <td>2</td>\n",
       "      <td>1.0</td>\n",
       "      <td>1.0</td>\n",
       "      <td>ACTIVE</td>\n",
       "      <td>Regularly</td>\n",
       "      <td>45.0</td>\n",
       "      <td>1e4dc84725cfc12ae6b64da787a1d918b960772ffcbc1f...</td>\n",
       "    </tr>\n",
       "    <tr>\n",
       "      <th>31548012</th>\n",
       "      <td>2020-09-15</td>\n",
       "      <td>8959927073256559032</td>\n",
       "      <td>909370001</td>\n",
       "      <td>0.033881</td>\n",
       "      <td>1</td>\n",
       "      <td>0.0</td>\n",
       "      <td>0.0</td>\n",
       "      <td>ACTIVE</td>\n",
       "      <td>NONE</td>\n",
       "      <td>24.0</td>\n",
       "      <td>c5728d79840d44cc00b4386113bf6c4ff9426f9c147c68...</td>\n",
       "    </tr>\n",
       "  </tbody>\n",
       "</table>\n",
       "<p>255241 rows × 11 columns</p>\n",
       "</div>"
      ],
      "text/plain": [
       "              t_dat          customer_id  article_id     price  \\\n",
       "31269312 2020-09-09 -5274452280971349952   237347059  0.033881   \n",
       "31269313 2020-09-09 -6768069327316571405   898596007  0.016932   \n",
       "31269314 2020-09-09   897820301201394760   752814003  0.033881   \n",
       "31269315 2020-09-09   935822568927514223   673677024  0.025407   \n",
       "31269316 2020-09-09 -5274452280971349952   237347063  0.033881   \n",
       "...             ...                  ...         ...       ...   \n",
       "31548008 2020-09-15 -6427941934161059261   536139067  0.016932   \n",
       "31548009 2020-09-15 -2906181681434937533   889574009  0.010153   \n",
       "31548010 2020-09-15  6055964384479180517   936610001  0.042356   \n",
       "31548011 2020-09-15  4656377451867638708   903926002  0.050831   \n",
       "31548012 2020-09-15  8959927073256559032   909370001  0.033881   \n",
       "\n",
       "          sales_channel_id   FN  Active club_member_status  \\\n",
       "31269312                 2  0.0     0.0             ACTIVE   \n",
       "31269313                 1  0.0     0.0             ACTIVE   \n",
       "31269314                 2  1.0     1.0             ACTIVE   \n",
       "31269315                 1  0.0     0.0             ACTIVE   \n",
       "31269316                 2  0.0     0.0             ACTIVE   \n",
       "...                    ...  ...     ...                ...   \n",
       "31548008                 1  0.0     0.0             ACTIVE   \n",
       "31548009                 1  1.0     1.0             ACTIVE   \n",
       "31548010                 1  1.0     1.0             ACTIVE   \n",
       "31548011                 2  1.0     1.0             ACTIVE   \n",
       "31548012                 1  0.0     0.0             ACTIVE   \n",
       "\n",
       "         fashion_news_frequency   age  \\\n",
       "31269312                   NONE  25.0   \n",
       "31269313                   NONE  68.0   \n",
       "31269314              Regularly  22.0   \n",
       "31269315                   NONE  51.0   \n",
       "31269316                   NONE  25.0   \n",
       "...                         ...   ...   \n",
       "31548008                   NONE  25.0   \n",
       "31548009              Regularly  53.0   \n",
       "31548010              Regularly  25.0   \n",
       "31548011              Regularly  45.0   \n",
       "31548012                   NONE  24.0   \n",
       "\n",
       "                                                postal_code  \n",
       "31269312  7ea43ac1614c12129a53700fc85900ff7fcded5afbfe58...  \n",
       "31269313  a22bd7ee1057ddd420eaa572f783043b7fa97ce8808c58...  \n",
       "31269314  9501f9d3320e943ea57924b8dfdde46515934580a7c17d...  \n",
       "31269315  6f1debdbcf810153c4ff51cee21109f2b7ee61d285b33e...  \n",
       "31269316  7ea43ac1614c12129a53700fc85900ff7fcded5afbfe58...  \n",
       "...                                                     ...  \n",
       "31548008  509fa1aa3f780986d00e233935059f5ca07b658f47912b...  \n",
       "31548009  cbec264feccfd2b2f4fc2952613ce30a8336a6b1eca43c...  \n",
       "31548010  f4144c30359640930be01f55cd47be44ad6e799e80bf1a...  \n",
       "31548011  1e4dc84725cfc12ae6b64da787a1d918b960772ffcbc1f...  \n",
       "31548012  c5728d79840d44cc00b4386113bf6c4ff9426f9c147c68...  \n",
       "\n",
       "[255241 rows x 11 columns]"
      ]
     },
     "execution_count": 61,
     "metadata": {},
     "output_type": "execute_result"
    }
   ],
   "source": [
    "sales"
   ]
  },
  {
   "cell_type": "code",
   "execution_count": 62,
   "id": "6c305be1",
   "metadata": {
    "execution": {
     "iopub.execute_input": "2022-03-27T14:44:58.146145Z",
     "iopub.status.busy": "2022-03-27T14:44:58.145055Z",
     "iopub.status.idle": "2022-03-27T14:44:58.165434Z",
     "shell.execute_reply": "2022-03-27T14:44:58.166077Z",
     "shell.execute_reply.started": "2022-03-27T14:18:19.966548Z"
    },
    "papermill": {
     "duration": 0.262608,
     "end_time": "2022-03-27T14:44:58.166296",
     "exception": false,
     "start_time": "2022-03-27T14:44:57.903688",
     "status": "completed"
    },
    "tags": []
   },
   "outputs": [],
   "source": [
    "target_sales = sales[[\"article_id\", \"customer_id\"]].groupby('article_id')[\"customer_id\"].count()\n",
    "general_pred = target_sales.nlargest(N, keep = \"first\").index.to_pandas().tolist()\n",
    "general_pred = ['0' + str(article_id) for article_id in general_pred]\n",
    "general_pred_str =  ' '.join(general_pred)\n",
    "del target_sales"
   ]
  },
  {
   "cell_type": "code",
   "execution_count": 63,
   "id": "f99d4a81",
   "metadata": {
    "execution": {
     "iopub.execute_input": "2022-03-27T14:44:58.580841Z",
     "iopub.status.busy": "2022-03-27T14:44:58.580204Z",
     "iopub.status.idle": "2022-03-27T14:44:58.583012Z",
     "shell.execute_reply": "2022-03-27T14:44:58.583420Z",
     "shell.execute_reply.started": "2022-03-27T14:18:19.992691Z"
    },
    "papermill": {
     "duration": 0.192285,
     "end_time": "2022-03-27T14:44:58.583561",
     "exception": false,
     "start_time": "2022-03-27T14:44:58.391276",
     "status": "completed"
    },
    "tags": []
   },
   "outputs": [
    {
     "data": {
      "text/plain": [
       "'0909370001 0865799006 0918522001 0924243001 0448509014 0751471001 0809238001 0918292001 0762846027 0809238005 0673677002 0923758001'"
      ]
     },
     "execution_count": 63,
     "metadata": {},
     "output_type": "execute_result"
    }
   ],
   "source": [
    "general_pred_str"
   ]
  },
  {
   "cell_type": "code",
   "execution_count": 64,
   "id": "8d3aa084",
   "metadata": {
    "execution": {
     "iopub.execute_input": "2022-03-27T14:44:58.865241Z",
     "iopub.status.busy": "2022-03-27T14:44:58.863619Z",
     "iopub.status.idle": "2022-03-27T14:44:58.865836Z",
     "shell.execute_reply": "2022-03-27T14:44:58.866248Z",
     "shell.execute_reply.started": "2022-03-27T14:18:20.002006Z"
    },
    "papermill": {
     "duration": 0.145261,
     "end_time": "2022-03-27T14:44:58.866390",
     "exception": false,
     "start_time": "2022-03-27T14:44:58.721129",
     "status": "completed"
    },
    "tags": []
   },
   "outputs": [],
   "source": [
    "#sales.age = sales.age.astype(\"float32\")"
   ]
  },
  {
   "cell_type": "code",
   "execution_count": 65,
   "id": "1a4cec9b",
   "metadata": {
    "execution": {
     "iopub.execute_input": "2022-03-27T14:44:59.336608Z",
     "iopub.status.busy": "2022-03-27T14:44:59.335671Z",
     "iopub.status.idle": "2022-03-27T14:44:59.469800Z",
     "shell.execute_reply": "2022-03-27T14:44:59.470312Z",
     "shell.execute_reply.started": "2022-03-27T14:18:20.007606Z"
    },
    "papermill": {
     "duration": 0.375453,
     "end_time": "2022-03-27T14:44:59.470465",
     "exception": false,
     "start_time": "2022-03-27T14:44:59.095012",
     "status": "completed"
    },
    "tags": []
   },
   "outputs": [],
   "source": [
    "age_type = pd.cut(sales.to_pandas()[\"age\"], bins = np.array([0, 21, 24, 27, 30, 35, 40, 45, 50, 60, 100], dtype = \"int32\"), right = True)"
   ]
  },
  {
   "cell_type": "code",
   "execution_count": 66,
   "id": "093f0ff3",
   "metadata": {
    "execution": {
     "iopub.execute_input": "2022-03-27T14:44:59.772968Z",
     "iopub.status.busy": "2022-03-27T14:44:59.771936Z",
     "iopub.status.idle": "2022-03-27T14:45:00.935916Z",
     "shell.execute_reply": "2022-03-27T14:45:00.934931Z",
     "shell.execute_reply.started": "2022-03-27T14:18:20.098214Z"
    },
    "papermill": {
     "duration": 1.310331,
     "end_time": "2022-03-27T14:45:00.936075",
     "exception": false,
     "start_time": "2022-03-27T14:44:59.625744",
     "status": "completed"
    },
    "tags": []
   },
   "outputs": [],
   "source": [
    "sales[\"age_type\"] = age_type.astype(\"string\")"
   ]
  },
  {
   "cell_type": "code",
   "execution_count": 67,
   "id": "d7237f3a",
   "metadata": {
    "execution": {
     "iopub.execute_input": "2022-03-27T14:45:01.215321Z",
     "iopub.status.busy": "2022-03-27T14:45:01.214450Z",
     "iopub.status.idle": "2022-03-27T14:45:01.229063Z",
     "shell.execute_reply": "2022-03-27T14:45:01.229472Z",
     "shell.execute_reply.started": "2022-03-27T14:18:21.217856Z"
    },
    "papermill": {
     "duration": 0.156251,
     "end_time": "2022-03-27T14:45:01.229635",
     "exception": false,
     "start_time": "2022-03-27T14:45:01.073384",
     "status": "completed"
    },
    "tags": []
   },
   "outputs": [],
   "source": [
    "summary = sales.groupby([\"fashion_news_frequency\", \"age_type\", \"article_id\"])[\"postal_code\"].count().\\\n",
    "reset_index().rename({\"postal_code\":\"count\"}, axis = 1)"
   ]
  },
  {
   "cell_type": "code",
   "execution_count": 68,
   "id": "e82cf848",
   "metadata": {
    "execution": {
     "iopub.execute_input": "2022-03-27T14:45:01.506998Z",
     "iopub.status.busy": "2022-03-27T14:45:01.506145Z",
     "iopub.status.idle": "2022-03-27T14:45:01.565473Z",
     "shell.execute_reply": "2022-03-27T14:45:01.565898Z",
     "shell.execute_reply.started": "2022-03-27T14:18:21.238997Z"
    },
    "papermill": {
     "duration": 0.200806,
     "end_time": "2022-03-27T14:45:01.566045",
     "exception": false,
     "start_time": "2022-03-27T14:45:01.365239",
     "status": "completed"
    },
    "tags": []
   },
   "outputs": [
    {
     "data": {
      "text/html": [
       "<div>\n",
       "<style scoped>\n",
       "    .dataframe tbody tr th:only-of-type {\n",
       "        vertical-align: middle;\n",
       "    }\n",
       "\n",
       "    .dataframe tbody tr th {\n",
       "        vertical-align: top;\n",
       "    }\n",
       "\n",
       "    .dataframe thead th {\n",
       "        text-align: right;\n",
       "    }\n",
       "</style>\n",
       "<table border=\"1\" class=\"dataframe\">\n",
       "  <thead>\n",
       "    <tr style=\"text-align: right;\">\n",
       "      <th></th>\n",
       "      <th>fashion_news_frequency</th>\n",
       "      <th>age_type</th>\n",
       "      <th>article_id</th>\n",
       "      <th>count</th>\n",
       "    </tr>\n",
       "  </thead>\n",
       "  <tbody>\n",
       "    <tr>\n",
       "      <th>2</th>\n",
       "      <td>NONE</td>\n",
       "      <td>(24.0, 27.0]</td>\n",
       "      <td>781135004</td>\n",
       "      <td>1</td>\n",
       "    </tr>\n",
       "    <tr>\n",
       "      <th>3</th>\n",
       "      <td>NONE</td>\n",
       "      <td>(24.0, 27.0]</td>\n",
       "      <td>675070013</td>\n",
       "      <td>1</td>\n",
       "    </tr>\n",
       "    <tr>\n",
       "      <th>4</th>\n",
       "      <td>Regularly</td>\n",
       "      <td>(40.0, 45.0]</td>\n",
       "      <td>919160001</td>\n",
       "      <td>1</td>\n",
       "    </tr>\n",
       "    <tr>\n",
       "      <th>6</th>\n",
       "      <td>Regularly</td>\n",
       "      <td>(0.0, 21.0]</td>\n",
       "      <td>862325004</td>\n",
       "      <td>1</td>\n",
       "    </tr>\n",
       "    <tr>\n",
       "      <th>8</th>\n",
       "      <td>NONE</td>\n",
       "      <td>(45.0, 50.0]</td>\n",
       "      <td>874547004</td>\n",
       "      <td>1</td>\n",
       "    </tr>\n",
       "    <tr>\n",
       "      <th>...</th>\n",
       "      <td>...</td>\n",
       "      <td>...</td>\n",
       "      <td>...</td>\n",
       "      <td>...</td>\n",
       "    </tr>\n",
       "    <tr>\n",
       "      <th>2635</th>\n",
       "      <td>Regularly</td>\n",
       "      <td>(21.0, 24.0]</td>\n",
       "      <td>909370001</td>\n",
       "      <td>112</td>\n",
       "    </tr>\n",
       "    <tr>\n",
       "      <th>67196</th>\n",
       "      <td>NONE</td>\n",
       "      <td>(21.0, 24.0]</td>\n",
       "      <td>909370001</td>\n",
       "      <td>114</td>\n",
       "    </tr>\n",
       "    <tr>\n",
       "      <th>76967</th>\n",
       "      <td>NONE</td>\n",
       "      <td>(27.0, 30.0]</td>\n",
       "      <td>909370001</td>\n",
       "      <td>114</td>\n",
       "    </tr>\n",
       "    <tr>\n",
       "      <th>86330</th>\n",
       "      <td>Regularly</td>\n",
       "      <td>(24.0, 27.0]</td>\n",
       "      <td>909370001</td>\n",
       "      <td>117</td>\n",
       "    </tr>\n",
       "    <tr>\n",
       "      <th>1906</th>\n",
       "      <td>NONE</td>\n",
       "      <td>(24.0, 27.0]</td>\n",
       "      <td>909370001</td>\n",
       "      <td>139</td>\n",
       "    </tr>\n",
       "  </tbody>\n",
       "</table>\n",
       "<p>94093 rows × 4 columns</p>\n",
       "</div>"
      ],
      "text/plain": [
       "      fashion_news_frequency      age_type  article_id  count\n",
       "2                       NONE  (24.0, 27.0]   781135004      1\n",
       "3                       NONE  (24.0, 27.0]   675070013      1\n",
       "4                  Regularly  (40.0, 45.0]   919160001      1\n",
       "6                  Regularly   (0.0, 21.0]   862325004      1\n",
       "8                       NONE  (45.0, 50.0]   874547004      1\n",
       "...                      ...           ...         ...    ...\n",
       "2635               Regularly  (21.0, 24.0]   909370001    112\n",
       "67196                   NONE  (21.0, 24.0]   909370001    114\n",
       "76967                   NONE  (27.0, 30.0]   909370001    114\n",
       "86330              Regularly  (24.0, 27.0]   909370001    117\n",
       "1906                    NONE  (24.0, 27.0]   909370001    139\n",
       "\n",
       "[94093 rows x 4 columns]"
      ]
     },
     "execution_count": 68,
     "metadata": {},
     "output_type": "execute_result"
    }
   ],
   "source": [
    "summary.sort_values(by = [\"count\"])"
   ]
  },
  {
   "cell_type": "code",
   "execution_count": 69,
   "id": "22f50faa",
   "metadata": {
    "execution": {
     "iopub.execute_input": "2022-03-27T14:45:01.844360Z",
     "iopub.status.busy": "2022-03-27T14:45:01.843543Z",
     "iopub.status.idle": "2022-03-27T14:45:01.875774Z",
     "shell.execute_reply": "2022-03-27T14:45:01.875294Z",
     "shell.execute_reply.started": "2022-03-27T14:18:21.300582Z"
    },
    "papermill": {
     "duration": 0.172547,
     "end_time": "2022-03-27T14:45:01.875919",
     "exception": false,
     "start_time": "2022-03-27T14:45:01.703372",
     "status": "completed"
    },
    "tags": []
   },
   "outputs": [],
   "source": [
    "summary[\"total_count\"] = summary.to_pandas().groupby([\"fashion_news_frequency\", \"age_type\"])[\"count\"].transform(sum)"
   ]
  },
  {
   "cell_type": "code",
   "execution_count": 70,
   "id": "71a42d62",
   "metadata": {
    "execution": {
     "iopub.execute_input": "2022-03-27T14:45:02.155341Z",
     "iopub.status.busy": "2022-03-27T14:45:02.154444Z",
     "iopub.status.idle": "2022-03-27T14:45:02.156985Z",
     "shell.execute_reply": "2022-03-27T14:45:02.156521Z",
     "shell.execute_reply.started": "2022-03-27T14:18:21.335938Z"
    },
    "papermill": {
     "duration": 0.144168,
     "end_time": "2022-03-27T14:45:02.157114",
     "exception": false,
     "start_time": "2022-03-27T14:45:02.012946",
     "status": "completed"
    },
    "tags": []
   },
   "outputs": [],
   "source": [
    "summary[\"score\"] = summary[\"count\"]/summary[\"total_count\"]"
   ]
  },
  {
   "cell_type": "code",
   "execution_count": 71,
   "id": "9b1924f4",
   "metadata": {
    "execution": {
     "iopub.execute_input": "2022-03-27T14:45:02.434111Z",
     "iopub.status.busy": "2022-03-27T14:45:02.433269Z",
     "iopub.status.idle": "2022-03-27T14:45:02.435328Z",
     "shell.execute_reply": "2022-03-27T14:45:02.435693Z",
     "shell.execute_reply.started": "2022-03-27T14:18:21.345125Z"
    },
    "papermill": {
     "duration": 0.142337,
     "end_time": "2022-03-27T14:45:02.435868",
     "exception": false,
     "start_time": "2022-03-27T14:45:02.293531",
     "status": "completed"
    },
    "tags": []
   },
   "outputs": [],
   "source": [
    "summary = cudf.DataFrame(summary)"
   ]
  },
  {
   "cell_type": "code",
   "execution_count": 72,
   "id": "1df498b9",
   "metadata": {
    "execution": {
     "iopub.execute_input": "2022-03-27T14:45:02.715757Z",
     "iopub.status.busy": "2022-03-27T14:45:02.713274Z",
     "iopub.status.idle": "2022-03-27T14:45:02.783087Z",
     "shell.execute_reply": "2022-03-27T14:45:02.783543Z",
     "shell.execute_reply.started": "2022-03-27T14:18:21.351367Z"
    },
    "papermill": {
     "duration": 0.211446,
     "end_time": "2022-03-27T14:45:02.783692",
     "exception": false,
     "start_time": "2022-03-27T14:45:02.572246",
     "status": "completed"
    },
    "tags": []
   },
   "outputs": [
    {
     "data": {
      "text/html": [
       "<div>\n",
       "<style scoped>\n",
       "    .dataframe tbody tr th:only-of-type {\n",
       "        vertical-align: middle;\n",
       "    }\n",
       "\n",
       "    .dataframe tbody tr th {\n",
       "        vertical-align: top;\n",
       "    }\n",
       "\n",
       "    .dataframe thead th {\n",
       "        text-align: right;\n",
       "    }\n",
       "</style>\n",
       "<table border=\"1\" class=\"dataframe\">\n",
       "  <thead>\n",
       "    <tr style=\"text-align: right;\">\n",
       "      <th></th>\n",
       "      <th>fashion_news_frequency</th>\n",
       "      <th>age_type</th>\n",
       "      <th>article_id</th>\n",
       "      <th>count</th>\n",
       "      <th>total_count</th>\n",
       "      <th>score</th>\n",
       "    </tr>\n",
       "  </thead>\n",
       "  <tbody>\n",
       "    <tr>\n",
       "      <th>70560</th>\n",
       "      <td>NONE</td>\n",
       "      <td>(30.0, 35.0]</td>\n",
       "      <td>108775044</td>\n",
       "      <td>1</td>\n",
       "      <td>16446</td>\n",
       "      <td>0.000061</td>\n",
       "    </tr>\n",
       "    <tr>\n",
       "      <th>92656</th>\n",
       "      <td>NONE</td>\n",
       "      <td>(50.0, 60.0]</td>\n",
       "      <td>108775044</td>\n",
       "      <td>2</td>\n",
       "      <td>17777</td>\n",
       "      <td>0.000113</td>\n",
       "    </tr>\n",
       "    <tr>\n",
       "      <th>18045</th>\n",
       "      <td>NONE</td>\n",
       "      <td>(45.0, 50.0]</td>\n",
       "      <td>111565001</td>\n",
       "      <td>1</td>\n",
       "      <td>12402</td>\n",
       "      <td>0.000081</td>\n",
       "    </tr>\n",
       "    <tr>\n",
       "      <th>28623</th>\n",
       "      <td>Regularly</td>\n",
       "      <td>(24.0, 27.0]</td>\n",
       "      <td>111565001</td>\n",
       "      <td>1</td>\n",
       "      <td>14442</td>\n",
       "      <td>0.000069</td>\n",
       "    </tr>\n",
       "    <tr>\n",
       "      <th>66580</th>\n",
       "      <td>NONE</td>\n",
       "      <td>(40.0, 45.0]</td>\n",
       "      <td>111565001</td>\n",
       "      <td>1</td>\n",
       "      <td>8065</td>\n",
       "      <td>0.000124</td>\n",
       "    </tr>\n",
       "    <tr>\n",
       "      <th>...</th>\n",
       "      <td>...</td>\n",
       "      <td>...</td>\n",
       "      <td>...</td>\n",
       "      <td>...</td>\n",
       "      <td>...</td>\n",
       "      <td>...</td>\n",
       "    </tr>\n",
       "    <tr>\n",
       "      <th>82246</th>\n",
       "      <td>Regularly</td>\n",
       "      <td>(50.0, 60.0]</td>\n",
       "      <td>956217002</td>\n",
       "      <td>1</td>\n",
       "      <td>17613</td>\n",
       "      <td>0.000057</td>\n",
       "    </tr>\n",
       "    <tr>\n",
       "      <th>84577</th>\n",
       "      <td>Regularly</td>\n",
       "      <td>(60.0, 100.0]</td>\n",
       "      <td>956217002</td>\n",
       "      <td>1</td>\n",
       "      <td>6074</td>\n",
       "      <td>0.000165</td>\n",
       "    </tr>\n",
       "    <tr>\n",
       "      <th>88549</th>\n",
       "      <td>Regularly</td>\n",
       "      <td>(21.0, 24.0]</td>\n",
       "      <td>956217002</td>\n",
       "      <td>2</td>\n",
       "      <td>15838</td>\n",
       "      <td>0.000126</td>\n",
       "    </tr>\n",
       "    <tr>\n",
       "      <th>554</th>\n",
       "      <td>NONE</td>\n",
       "      <td>(50.0, 60.0]</td>\n",
       "      <td>956217002</td>\n",
       "      <td>3</td>\n",
       "      <td>17777</td>\n",
       "      <td>0.000169</td>\n",
       "    </tr>\n",
       "    <tr>\n",
       "      <th>46392</th>\n",
       "      <td>NONE</td>\n",
       "      <td>(45.0, 50.0]</td>\n",
       "      <td>956217002</td>\n",
       "      <td>3</td>\n",
       "      <td>12402</td>\n",
       "      <td>0.000242</td>\n",
       "    </tr>\n",
       "  </tbody>\n",
       "</table>\n",
       "<p>94093 rows × 6 columns</p>\n",
       "</div>"
      ],
      "text/plain": [
       "      fashion_news_frequency       age_type  article_id  count  total_count  \\\n",
       "70560                   NONE   (30.0, 35.0]   108775044      1        16446   \n",
       "92656                   NONE   (50.0, 60.0]   108775044      2        17777   \n",
       "18045                   NONE   (45.0, 50.0]   111565001      1        12402   \n",
       "28623              Regularly   (24.0, 27.0]   111565001      1        14442   \n",
       "66580                   NONE   (40.0, 45.0]   111565001      1         8065   \n",
       "...                      ...            ...         ...    ...          ...   \n",
       "82246              Regularly   (50.0, 60.0]   956217002      1        17613   \n",
       "84577              Regularly  (60.0, 100.0]   956217002      1         6074   \n",
       "88549              Regularly   (21.0, 24.0]   956217002      2        15838   \n",
       "554                     NONE   (50.0, 60.0]   956217002      3        17777   \n",
       "46392                   NONE   (45.0, 50.0]   956217002      3        12402   \n",
       "\n",
       "          score  \n",
       "70560  0.000061  \n",
       "92656  0.000113  \n",
       "18045  0.000081  \n",
       "28623  0.000069  \n",
       "66580  0.000124  \n",
       "...         ...  \n",
       "82246  0.000057  \n",
       "84577  0.000165  \n",
       "88549  0.000126  \n",
       "554    0.000169  \n",
       "46392  0.000242  \n",
       "\n",
       "[94093 rows x 6 columns]"
      ]
     },
     "execution_count": 72,
     "metadata": {},
     "output_type": "execute_result"
    }
   ],
   "source": [
    "summary.sort_values(by = [\"article_id\", \"count\"])"
   ]
  },
  {
   "cell_type": "code",
   "execution_count": 73,
   "id": "16892218",
   "metadata": {
    "execution": {
     "iopub.execute_input": "2022-03-27T14:45:03.084544Z",
     "iopub.status.busy": "2022-03-27T14:45:03.083724Z",
     "iopub.status.idle": "2022-03-27T14:45:03.130939Z",
     "shell.execute_reply": "2022-03-27T14:45:03.130397Z",
     "shell.execute_reply.started": "2022-03-27T14:18:21.424282Z"
    },
    "papermill": {
     "duration": 0.202533,
     "end_time": "2022-03-27T14:45:03.131092",
     "exception": false,
     "start_time": "2022-03-27T14:45:02.928559",
     "status": "completed"
    },
    "tags": []
   },
   "outputs": [],
   "source": [
    "summary['rank'] = summary.to_pandas().groupby([\"fashion_news_frequency\", \"age_type\"])[\"score\"].rank(\"dense\", ascending=False)\n",
    "summary = summary.loc[summary['rank'] <= 12]"
   ]
  },
  {
   "cell_type": "code",
   "execution_count": 74,
   "id": "e3c84ffd",
   "metadata": {
    "execution": {
     "iopub.execute_input": "2022-03-27T14:45:03.412226Z",
     "iopub.status.busy": "2022-03-27T14:45:03.411586Z",
     "iopub.status.idle": "2022-03-27T14:45:06.165574Z",
     "shell.execute_reply": "2022-03-27T14:45:06.166003Z",
     "shell.execute_reply.started": "2022-03-27T14:18:21.476072Z"
    },
    "papermill": {
     "duration": 2.896294,
     "end_time": "2022-03-27T14:45:06.166166",
     "exception": false,
     "start_time": "2022-03-27T14:45:03.269872",
     "status": "completed"
    },
    "tags": []
   },
   "outputs": [
    {
     "name": "stdout",
     "output_type": "stream",
     "text": [
      "CPU times: user 140 ms, sys: 99.5 ms, total: 239 ms\n",
      "Wall time: 2.75 s\n"
     ]
    }
   ],
   "source": [
    "%%time\n",
    "sub  = cudf.read_csv('../input/h-and-m-personalized-fashion-recommendations/sample_submission.csv',\n",
    "                            usecols= ['customer_id'], \n",
    "                            dtype={'customer_id': 'string'})\n",
    "\n",
    "sub['customer_id2'] = sub['customer_id'].str[-16:].str.hex_to_int().astype('int64')\n",
    "sub = sub.rename(columns = {'customer_id2':'customer_id', 'customer_id':'customer_id2'})"
   ]
  },
  {
   "cell_type": "code",
   "execution_count": 75,
   "id": "075e2dcc",
   "metadata": {
    "execution": {
     "iopub.execute_input": "2022-03-27T14:45:06.446201Z",
     "iopub.status.busy": "2022-03-27T14:45:06.444117Z",
     "iopub.status.idle": "2022-03-27T14:45:06.491695Z",
     "shell.execute_reply": "2022-03-27T14:45:06.492158Z",
     "shell.execute_reply.started": "2022-03-27T14:18:24.287036Z"
    },
    "papermill": {
     "duration": 0.189339,
     "end_time": "2022-03-27T14:45:06.492306",
     "exception": false,
     "start_time": "2022-03-27T14:45:06.302967",
     "status": "completed"
    },
    "tags": []
   },
   "outputs": [
    {
     "data": {
      "text/html": [
       "<div>\n",
       "<style scoped>\n",
       "    .dataframe tbody tr th:only-of-type {\n",
       "        vertical-align: middle;\n",
       "    }\n",
       "\n",
       "    .dataframe tbody tr th {\n",
       "        vertical-align: top;\n",
       "    }\n",
       "\n",
       "    .dataframe thead th {\n",
       "        text-align: right;\n",
       "    }\n",
       "</style>\n",
       "<table border=\"1\" class=\"dataframe\">\n",
       "  <thead>\n",
       "    <tr style=\"text-align: right;\">\n",
       "      <th></th>\n",
       "      <th>customer_id2</th>\n",
       "      <th>customer_id</th>\n",
       "    </tr>\n",
       "  </thead>\n",
       "  <tbody>\n",
       "    <tr>\n",
       "      <th>0</th>\n",
       "      <td>00000dbacae5abe5e23885899a1fa44253a17956c6d1c3...</td>\n",
       "      <td>6883939031699146327</td>\n",
       "    </tr>\n",
       "    <tr>\n",
       "      <th>1</th>\n",
       "      <td>0000423b00ade91418cceaf3b26c6af3dd342b51fd051e...</td>\n",
       "      <td>-7200416642310594310</td>\n",
       "    </tr>\n",
       "    <tr>\n",
       "      <th>2</th>\n",
       "      <td>000058a12d5b43e67d225668fa1f8d618c13dc232df0ca...</td>\n",
       "      <td>-6846340800584936</td>\n",
       "    </tr>\n",
       "    <tr>\n",
       "      <th>3</th>\n",
       "      <td>00005ca1c9ed5f5146b52ac8639a40ca9d57aeff4d1bd2...</td>\n",
       "      <td>-94071612138601410</td>\n",
       "    </tr>\n",
       "    <tr>\n",
       "      <th>4</th>\n",
       "      <td>00006413d8573cd20ed7128e53b7b13819fe5cfc2d801f...</td>\n",
       "      <td>-283965518499174310</td>\n",
       "    </tr>\n",
       "    <tr>\n",
       "      <th>...</th>\n",
       "      <td>...</td>\n",
       "      <td>...</td>\n",
       "    </tr>\n",
       "    <tr>\n",
       "      <th>1371975</th>\n",
       "      <td>ffffbbf78b6eaac697a8a5dfbfd2bfa8113ee5b403e474...</td>\n",
       "      <td>7551062398649767985</td>\n",
       "    </tr>\n",
       "    <tr>\n",
       "      <th>1371976</th>\n",
       "      <td>ffffcd5046a6143d29a04fb8c424ce494a76e5cdf4fab5...</td>\n",
       "      <td>-9141402131989464905</td>\n",
       "    </tr>\n",
       "    <tr>\n",
       "      <th>1371977</th>\n",
       "      <td>ffffcf35913a0bee60e8741cb2b4e78b8a98ee5ff2e6a1...</td>\n",
       "      <td>-8286316756823862684</td>\n",
       "    </tr>\n",
       "    <tr>\n",
       "      <th>1371978</th>\n",
       "      <td>ffffd7744cebcf3aca44ae7049d2a94b87074c3d4ffe38...</td>\n",
       "      <td>2551401172826382186</td>\n",
       "    </tr>\n",
       "    <tr>\n",
       "      <th>1371979</th>\n",
       "      <td>ffffd9ac14e89946416d80e791d064701994755c3ab686...</td>\n",
       "      <td>-1516792180973952447</td>\n",
       "    </tr>\n",
       "  </tbody>\n",
       "</table>\n",
       "<p>1371980 rows × 2 columns</p>\n",
       "</div>"
      ],
      "text/plain": [
       "                                              customer_id2  \\\n",
       "0        00000dbacae5abe5e23885899a1fa44253a17956c6d1c3...   \n",
       "1        0000423b00ade91418cceaf3b26c6af3dd342b51fd051e...   \n",
       "2        000058a12d5b43e67d225668fa1f8d618c13dc232df0ca...   \n",
       "3        00005ca1c9ed5f5146b52ac8639a40ca9d57aeff4d1bd2...   \n",
       "4        00006413d8573cd20ed7128e53b7b13819fe5cfc2d801f...   \n",
       "...                                                    ...   \n",
       "1371975  ffffbbf78b6eaac697a8a5dfbfd2bfa8113ee5b403e474...   \n",
       "1371976  ffffcd5046a6143d29a04fb8c424ce494a76e5cdf4fab5...   \n",
       "1371977  ffffcf35913a0bee60e8741cb2b4e78b8a98ee5ff2e6a1...   \n",
       "1371978  ffffd7744cebcf3aca44ae7049d2a94b87074c3d4ffe38...   \n",
       "1371979  ffffd9ac14e89946416d80e791d064701994755c3ab686...   \n",
       "\n",
       "                 customer_id  \n",
       "0        6883939031699146327  \n",
       "1       -7200416642310594310  \n",
       "2          -6846340800584936  \n",
       "3         -94071612138601410  \n",
       "4        -283965518499174310  \n",
       "...                      ...  \n",
       "1371975  7551062398649767985  \n",
       "1371976 -9141402131989464905  \n",
       "1371977 -8286316756823862684  \n",
       "1371978  2551401172826382186  \n",
       "1371979 -1516792180973952447  \n",
       "\n",
       "[1371980 rows x 2 columns]"
      ]
     },
     "execution_count": 75,
     "metadata": {},
     "output_type": "execute_result"
    }
   ],
   "source": [
    "sub"
   ]
  },
  {
   "cell_type": "code",
   "execution_count": 76,
   "id": "f5136c6e",
   "metadata": {
    "execution": {
     "iopub.execute_input": "2022-03-27T14:45:06.774009Z",
     "iopub.status.busy": "2022-03-27T14:45:06.773114Z",
     "iopub.status.idle": "2022-03-27T14:45:06.862793Z",
     "shell.execute_reply": "2022-03-27T14:45:06.863242Z",
     "shell.execute_reply.started": "2022-03-27T14:18:24.340666Z"
    },
    "papermill": {
     "duration": 0.23379,
     "end_time": "2022-03-27T14:45:06.863387",
     "exception": false,
     "start_time": "2022-03-27T14:45:06.629597",
     "status": "completed"
    },
    "tags": []
   },
   "outputs": [
    {
     "data": {
      "text/html": [
       "<div>\n",
       "<style scoped>\n",
       "    .dataframe tbody tr th:only-of-type {\n",
       "        vertical-align: middle;\n",
       "    }\n",
       "\n",
       "    .dataframe tbody tr th {\n",
       "        vertical-align: top;\n",
       "    }\n",
       "\n",
       "    .dataframe thead th {\n",
       "        text-align: right;\n",
       "    }\n",
       "</style>\n",
       "<table border=\"1\" class=\"dataframe\">\n",
       "  <thead>\n",
       "    <tr style=\"text-align: right;\">\n",
       "      <th></th>\n",
       "      <th>customer_id</th>\n",
       "      <th>FN</th>\n",
       "      <th>Active</th>\n",
       "      <th>club_member_status</th>\n",
       "      <th>fashion_news_frequency</th>\n",
       "      <th>age</th>\n",
       "      <th>postal_code</th>\n",
       "    </tr>\n",
       "  </thead>\n",
       "  <tbody>\n",
       "    <tr>\n",
       "      <th>0</th>\n",
       "      <td>6883939031699146327</td>\n",
       "      <td>&lt;NA&gt;</td>\n",
       "      <td>&lt;NA&gt;</td>\n",
       "      <td>ACTIVE</td>\n",
       "      <td>NONE</td>\n",
       "      <td>49.0</td>\n",
       "      <td>52043ee2162cf5aa7ee79974281641c6f11a68d276429a...</td>\n",
       "    </tr>\n",
       "    <tr>\n",
       "      <th>1</th>\n",
       "      <td>-7200416642310594310</td>\n",
       "      <td>&lt;NA&gt;</td>\n",
       "      <td>&lt;NA&gt;</td>\n",
       "      <td>ACTIVE</td>\n",
       "      <td>NONE</td>\n",
       "      <td>25.0</td>\n",
       "      <td>2973abc54daa8a5f8ccfe9362140c63247c5eee03f1d93...</td>\n",
       "    </tr>\n",
       "    <tr>\n",
       "      <th>2</th>\n",
       "      <td>-6846340800584936</td>\n",
       "      <td>&lt;NA&gt;</td>\n",
       "      <td>&lt;NA&gt;</td>\n",
       "      <td>ACTIVE</td>\n",
       "      <td>NONE</td>\n",
       "      <td>24.0</td>\n",
       "      <td>64f17e6a330a85798e4998f62d0930d14db8db1c054af6...</td>\n",
       "    </tr>\n",
       "    <tr>\n",
       "      <th>3</th>\n",
       "      <td>-94071612138601410</td>\n",
       "      <td>&lt;NA&gt;</td>\n",
       "      <td>&lt;NA&gt;</td>\n",
       "      <td>ACTIVE</td>\n",
       "      <td>NONE</td>\n",
       "      <td>54.0</td>\n",
       "      <td>5d36574f52495e81f019b680c843c443bd343d5ca5b1c2...</td>\n",
       "    </tr>\n",
       "    <tr>\n",
       "      <th>4</th>\n",
       "      <td>-283965518499174310</td>\n",
       "      <td>1.0</td>\n",
       "      <td>1.0</td>\n",
       "      <td>ACTIVE</td>\n",
       "      <td>Regularly</td>\n",
       "      <td>52.0</td>\n",
       "      <td>25fa5ddee9aac01b35208d01736e57942317d756b32ddd...</td>\n",
       "    </tr>\n",
       "    <tr>\n",
       "      <th>...</th>\n",
       "      <td>...</td>\n",
       "      <td>...</td>\n",
       "      <td>...</td>\n",
       "      <td>...</td>\n",
       "      <td>...</td>\n",
       "      <td>...</td>\n",
       "      <td>...</td>\n",
       "    </tr>\n",
       "    <tr>\n",
       "      <th>1371975</th>\n",
       "      <td>7551062398649767985</td>\n",
       "      <td>&lt;NA&gt;</td>\n",
       "      <td>&lt;NA&gt;</td>\n",
       "      <td>ACTIVE</td>\n",
       "      <td>NONE</td>\n",
       "      <td>24.0</td>\n",
       "      <td>7aa399f7e669990daba2d92c577b52237380662f36480b...</td>\n",
       "    </tr>\n",
       "    <tr>\n",
       "      <th>1371976</th>\n",
       "      <td>-9141402131989464905</td>\n",
       "      <td>&lt;NA&gt;</td>\n",
       "      <td>&lt;NA&gt;</td>\n",
       "      <td>ACTIVE</td>\n",
       "      <td>NONE</td>\n",
       "      <td>21.0</td>\n",
       "      <td>3f47f1279beb72215f4de557d950e0bfa73789d24acb5e...</td>\n",
       "    </tr>\n",
       "    <tr>\n",
       "      <th>1371977</th>\n",
       "      <td>-8286316756823862684</td>\n",
       "      <td>1.0</td>\n",
       "      <td>1.0</td>\n",
       "      <td>ACTIVE</td>\n",
       "      <td>Regularly</td>\n",
       "      <td>21.0</td>\n",
       "      <td>4563fc79215672cd6a863f2b4bf56b8f898f2d96ed590e...</td>\n",
       "    </tr>\n",
       "    <tr>\n",
       "      <th>1371978</th>\n",
       "      <td>2551401172826382186</td>\n",
       "      <td>1.0</td>\n",
       "      <td>1.0</td>\n",
       "      <td>ACTIVE</td>\n",
       "      <td>Regularly</td>\n",
       "      <td>18.0</td>\n",
       "      <td>8892c18e9bc3dca6aa4000cb8094fc4b51ee8db2ed14d7...</td>\n",
       "    </tr>\n",
       "    <tr>\n",
       "      <th>1371979</th>\n",
       "      <td>-1516792180973952447</td>\n",
       "      <td>&lt;NA&gt;</td>\n",
       "      <td>&lt;NA&gt;</td>\n",
       "      <td>PRE-CREATE</td>\n",
       "      <td>NONE</td>\n",
       "      <td>65.0</td>\n",
       "      <td>0a1a03306fb2f62164c2a439b38c0caa64b40deaae8687...</td>\n",
       "    </tr>\n",
       "  </tbody>\n",
       "</table>\n",
       "<p>1371980 rows × 7 columns</p>\n",
       "</div>"
      ],
      "text/plain": [
       "                 customer_id    FN Active club_member_status  \\\n",
       "0        6883939031699146327  <NA>   <NA>             ACTIVE   \n",
       "1       -7200416642310594310  <NA>   <NA>             ACTIVE   \n",
       "2          -6846340800584936  <NA>   <NA>             ACTIVE   \n",
       "3         -94071612138601410  <NA>   <NA>             ACTIVE   \n",
       "4        -283965518499174310   1.0    1.0             ACTIVE   \n",
       "...                      ...   ...    ...                ...   \n",
       "1371975  7551062398649767985  <NA>   <NA>             ACTIVE   \n",
       "1371976 -9141402131989464905  <NA>   <NA>             ACTIVE   \n",
       "1371977 -8286316756823862684   1.0    1.0             ACTIVE   \n",
       "1371978  2551401172826382186   1.0    1.0             ACTIVE   \n",
       "1371979 -1516792180973952447  <NA>   <NA>         PRE-CREATE   \n",
       "\n",
       "        fashion_news_frequency   age  \\\n",
       "0                         NONE  49.0   \n",
       "1                         NONE  25.0   \n",
       "2                         NONE  24.0   \n",
       "3                         NONE  54.0   \n",
       "4                    Regularly  52.0   \n",
       "...                        ...   ...   \n",
       "1371975                   NONE  24.0   \n",
       "1371976                   NONE  21.0   \n",
       "1371977              Regularly  21.0   \n",
       "1371978              Regularly  18.0   \n",
       "1371979                   NONE  65.0   \n",
       "\n",
       "                                               postal_code  \n",
       "0        52043ee2162cf5aa7ee79974281641c6f11a68d276429a...  \n",
       "1        2973abc54daa8a5f8ccfe9362140c63247c5eee03f1d93...  \n",
       "2        64f17e6a330a85798e4998f62d0930d14db8db1c054af6...  \n",
       "3        5d36574f52495e81f019b680c843c443bd343d5ca5b1c2...  \n",
       "4        25fa5ddee9aac01b35208d01736e57942317d756b32ddd...  \n",
       "...                                                    ...  \n",
       "1371975  7aa399f7e669990daba2d92c577b52237380662f36480b...  \n",
       "1371976  3f47f1279beb72215f4de557d950e0bfa73789d24acb5e...  \n",
       "1371977  4563fc79215672cd6a863f2b4bf56b8f898f2d96ed590e...  \n",
       "1371978  8892c18e9bc3dca6aa4000cb8094fc4b51ee8db2ed14d7...  \n",
       "1371979  0a1a03306fb2f62164c2a439b38c0caa64b40deaae8687...  \n",
       "\n",
       "[1371980 rows x 7 columns]"
      ]
     },
     "execution_count": 76,
     "metadata": {},
     "output_type": "execute_result"
    }
   ],
   "source": [
    "customer"
   ]
  },
  {
   "cell_type": "code",
   "execution_count": 77,
   "id": "cbaf8063",
   "metadata": {
    "execution": {
     "iopub.execute_input": "2022-03-27T14:45:07.145973Z",
     "iopub.status.busy": "2022-03-27T14:45:07.145091Z",
     "iopub.status.idle": "2022-03-27T14:45:14.495907Z",
     "shell.execute_reply": "2022-03-27T14:45:14.494910Z",
     "shell.execute_reply.started": "2022-03-27T14:18:24.434196Z"
    },
    "papermill": {
     "duration": 7.49445,
     "end_time": "2022-03-27T14:45:14.496061",
     "exception": false,
     "start_time": "2022-03-27T14:45:07.001611",
     "status": "completed"
    },
    "tags": []
   },
   "outputs": [],
   "source": [
    "sub_customer = sub.merge(customer.fillna(0), on = \"customer_id\")\n",
    "sub_customer[\"age_type\"] = pd.cut(sub_customer.to_pandas()[\"age\"], bins = np.array([0, 21, 24, 27, 30, 35, 40, 45, 50, 60, 100], dtype = \"int32\"), right = True).astype(\"string\")"
   ]
  },
  {
   "cell_type": "code",
   "execution_count": 78,
   "id": "56da6ce6",
   "metadata": {
    "execution": {
     "iopub.execute_input": "2022-03-27T14:45:14.780096Z",
     "iopub.status.busy": "2022-03-27T14:45:14.779114Z",
     "iopub.status.idle": "2022-03-27T14:45:26.735126Z",
     "shell.execute_reply": "2022-03-27T14:45:26.734542Z",
     "shell.execute_reply.started": "2022-03-27T14:18:31.195934Z"
    },
    "papermill": {
     "duration": 12.099829,
     "end_time": "2022-03-27T14:45:26.735278",
     "exception": false,
     "start_time": "2022-03-27T14:45:14.635449",
     "status": "completed"
    },
    "tags": []
   },
   "outputs": [],
   "source": [
    "result3 = sub_customer.to_pandas().merge(summary.to_pandas(), on = [\"fashion_news_frequency\", \"age_type\"], how = \"left\")"
   ]
  },
  {
   "cell_type": "code",
   "execution_count": 79,
   "id": "6e35eaf8",
   "metadata": {
    "execution": {
     "iopub.execute_input": "2022-03-27T14:45:27.050198Z",
     "iopub.status.busy": "2022-03-27T14:45:27.048997Z",
     "iopub.status.idle": "2022-03-27T14:45:37.591420Z",
     "shell.execute_reply": "2022-03-27T14:45:37.590464Z",
     "shell.execute_reply.started": "2022-03-27T14:18:42.997326Z"
    },
    "papermill": {
     "duration": 10.696156,
     "end_time": "2022-03-27T14:45:37.591565",
     "exception": false,
     "start_time": "2022-03-27T14:45:26.895409",
     "status": "completed"
    },
    "tags": []
   },
   "outputs": [],
   "source": [
    "result3[\"source\"] = 3\n",
    "result3 = result3.loc[:,[\"customer_id\", \"article_id\", \"source\", \"score\", \"rank\"]]"
   ]
  },
  {
   "cell_type": "code",
   "execution_count": 80,
   "id": "ef6afa9f",
   "metadata": {
    "execution": {
     "iopub.execute_input": "2022-03-27T14:45:37.957656Z",
     "iopub.status.busy": "2022-03-27T14:45:37.956431Z",
     "iopub.status.idle": "2022-03-27T14:45:37.960563Z",
     "shell.execute_reply": "2022-03-27T14:45:37.960121Z",
     "shell.execute_reply.started": "2022-03-27T14:18:53.069656Z"
    },
    "papermill": {
     "duration": 0.161104,
     "end_time": "2022-03-27T14:45:37.960689",
     "exception": false,
     "start_time": "2022-03-27T14:45:37.799585",
     "status": "completed"
    },
    "tags": []
   },
   "outputs": [
    {
     "data": {
      "text/html": [
       "<div>\n",
       "<style scoped>\n",
       "    .dataframe tbody tr th:only-of-type {\n",
       "        vertical-align: middle;\n",
       "    }\n",
       "\n",
       "    .dataframe tbody tr th {\n",
       "        vertical-align: top;\n",
       "    }\n",
       "\n",
       "    .dataframe thead th {\n",
       "        text-align: right;\n",
       "    }\n",
       "</style>\n",
       "<table border=\"1\" class=\"dataframe\">\n",
       "  <thead>\n",
       "    <tr style=\"text-align: right;\">\n",
       "      <th></th>\n",
       "      <th>customer_id</th>\n",
       "      <th>article_id</th>\n",
       "      <th>source</th>\n",
       "      <th>score</th>\n",
       "      <th>rank</th>\n",
       "    </tr>\n",
       "  </thead>\n",
       "  <tbody>\n",
       "    <tr>\n",
       "      <th>0</th>\n",
       "      <td>-8246602507010685489</td>\n",
       "      <td>809238001.0</td>\n",
       "      <td>3</td>\n",
       "      <td>0.003047</td>\n",
       "      <td>4.0</td>\n",
       "    </tr>\n",
       "    <tr>\n",
       "      <th>1</th>\n",
       "      <td>-8246602507010685489</td>\n",
       "      <td>673677002.0</td>\n",
       "      <td>3</td>\n",
       "      <td>0.002147</td>\n",
       "      <td>11.0</td>\n",
       "    </tr>\n",
       "    <tr>\n",
       "      <th>2</th>\n",
       "      <td>-8246602507010685489</td>\n",
       "      <td>761406001.0</td>\n",
       "      <td>3</td>\n",
       "      <td>0.002285</td>\n",
       "      <td>9.0</td>\n",
       "    </tr>\n",
       "    <tr>\n",
       "      <th>3</th>\n",
       "      <td>-8246602507010685489</td>\n",
       "      <td>158340001.0</td>\n",
       "      <td>3</td>\n",
       "      <td>0.002008</td>\n",
       "      <td>12.0</td>\n",
       "    </tr>\n",
       "    <tr>\n",
       "      <th>4</th>\n",
       "      <td>-8246602507010685489</td>\n",
       "      <td>896169005.0</td>\n",
       "      <td>3</td>\n",
       "      <td>0.002493</td>\n",
       "      <td>8.0</td>\n",
       "    </tr>\n",
       "    <tr>\n",
       "      <th>...</th>\n",
       "      <td>...</td>\n",
       "      <td>...</td>\n",
       "      <td>...</td>\n",
       "      <td>...</td>\n",
       "      <td>...</td>\n",
       "    </tr>\n",
       "    <tr>\n",
       "      <th>32880969</th>\n",
       "      <td>1341966912860556603</td>\n",
       "      <td>915529005.0</td>\n",
       "      <td>3</td>\n",
       "      <td>0.002008</td>\n",
       "      <td>12.0</td>\n",
       "    </tr>\n",
       "    <tr>\n",
       "      <th>32880970</th>\n",
       "      <td>1341966912860556603</td>\n",
       "      <td>909370001.0</td>\n",
       "      <td>3</td>\n",
       "      <td>0.008101</td>\n",
       "      <td>1.0</td>\n",
       "    </tr>\n",
       "    <tr>\n",
       "      <th>32880971</th>\n",
       "      <td>1341966912860556603</td>\n",
       "      <td>918292001.0</td>\n",
       "      <td>3</td>\n",
       "      <td>0.002631</td>\n",
       "      <td>6.0</td>\n",
       "    </tr>\n",
       "    <tr>\n",
       "      <th>32880972</th>\n",
       "      <td>1341966912860556603</td>\n",
       "      <td>898694001.0</td>\n",
       "      <td>3</td>\n",
       "      <td>0.002562</td>\n",
       "      <td>7.0</td>\n",
       "    </tr>\n",
       "    <tr>\n",
       "      <th>32880973</th>\n",
       "      <td>1341966912860556603</td>\n",
       "      <td>924243001.0</td>\n",
       "      <td>3</td>\n",
       "      <td>0.004362</td>\n",
       "      <td>3.0</td>\n",
       "    </tr>\n",
       "  </tbody>\n",
       "</table>\n",
       "<p>32880974 rows × 5 columns</p>\n",
       "</div>"
      ],
      "text/plain": [
       "                  customer_id   article_id  source     score  rank\n",
       "0        -8246602507010685489  809238001.0       3  0.003047   4.0\n",
       "1        -8246602507010685489  673677002.0       3  0.002147  11.0\n",
       "2        -8246602507010685489  761406001.0       3  0.002285   9.0\n",
       "3        -8246602507010685489  158340001.0       3  0.002008  12.0\n",
       "4        -8246602507010685489  896169005.0       3  0.002493   8.0\n",
       "...                       ...          ...     ...       ...   ...\n",
       "32880969  1341966912860556603  915529005.0       3  0.002008  12.0\n",
       "32880970  1341966912860556603  909370001.0       3  0.008101   1.0\n",
       "32880971  1341966912860556603  918292001.0       3  0.002631   6.0\n",
       "32880972  1341966912860556603  898694001.0       3  0.002562   7.0\n",
       "32880973  1341966912860556603  924243001.0       3  0.004362   3.0\n",
       "\n",
       "[32880974 rows x 5 columns]"
      ]
     },
     "execution_count": 80,
     "metadata": {},
     "output_type": "execute_result"
    }
   ],
   "source": [
    "result3"
   ]
  },
  {
   "cell_type": "code",
   "execution_count": 81,
   "id": "f79be9d6",
   "metadata": {
    "execution": {
     "iopub.execute_input": "2022-03-27T14:45:38.247208Z",
     "iopub.status.busy": "2022-03-27T14:45:38.245636Z",
     "iopub.status.idle": "2022-03-27T14:45:38.247813Z",
     "shell.execute_reply": "2022-03-27T14:45:38.248239Z",
     "shell.execute_reply.started": "2022-03-27T14:18:53.089008Z"
    },
    "papermill": {
     "duration": 0.146153,
     "end_time": "2022-03-27T14:45:38.248384",
     "exception": false,
     "start_time": "2022-03-27T14:45:38.102231",
     "status": "completed"
    },
    "tags": []
   },
   "outputs": [],
   "source": [
    "#result3.to_csv(\"/kaggle/working/result3.csv\", index = False)"
   ]
  },
  {
   "cell_type": "markdown",
   "id": "90b4a92e",
   "metadata": {
    "papermill": {
     "duration": 0.138353,
     "end_time": "2022-03-27T14:45:38.527637",
     "exception": false,
     "start_time": "2022-03-27T14:45:38.389284",
     "status": "completed"
    },
    "tags": []
   },
   "source": [
    "## 混合排序"
   ]
  },
  {
   "cell_type": "code",
   "execution_count": 82,
   "id": "fcfa5738",
   "metadata": {
    "execution": {
     "iopub.execute_input": "2022-03-27T14:45:38.812482Z",
     "iopub.status.busy": "2022-03-27T14:45:38.811574Z",
     "iopub.status.idle": "2022-03-27T14:45:38.813850Z",
     "shell.execute_reply": "2022-03-27T14:45:38.813397Z",
     "shell.execute_reply.started": "2022-03-27T14:18:53.105599Z"
    },
    "papermill": {
     "duration": 0.145857,
     "end_time": "2022-03-27T14:45:38.813972",
     "exception": false,
     "start_time": "2022-03-27T14:45:38.668115",
     "status": "completed"
    },
    "tags": []
   },
   "outputs": [],
   "source": [
    "#result2 = pd.read_csv(\"../input/relation/result2.csv\")\n",
    "#result1 = pd.read_csv(\"../input/relation/result1.csv\")\n",
    "#result3 = pd.read_csv(\"/kaggle/working/result3.csv\")"
   ]
  },
  {
   "cell_type": "code",
   "execution_count": 83,
   "id": "129d214f",
   "metadata": {
    "execution": {
     "iopub.execute_input": "2022-03-27T14:45:39.100340Z",
     "iopub.status.busy": "2022-03-27T14:45:39.099471Z",
     "iopub.status.idle": "2022-03-27T14:45:39.101581Z",
     "shell.execute_reply": "2022-03-27T14:45:39.102000Z",
     "shell.execute_reply.started": "2022-03-27T14:18:53.111544Z"
    },
    "papermill": {
     "duration": 0.148805,
     "end_time": "2022-03-27T14:45:39.102164",
     "exception": false,
     "start_time": "2022-03-27T14:45:38.953359",
     "status": "completed"
    },
    "tags": []
   },
   "outputs": [],
   "source": [
    "#result1 = pd.read_csv(\"/kaggle/working/result1.csv\")\n",
    "#result2 = pd.read_csv(\"/kaggle/working/result2.csv\")"
   ]
  },
  {
   "cell_type": "code",
   "execution_count": 84,
   "id": "2e0e68eb",
   "metadata": {
    "execution": {
     "iopub.execute_input": "2022-03-27T14:45:39.396787Z",
     "iopub.status.busy": "2022-03-27T14:45:39.396056Z",
     "iopub.status.idle": "2022-03-27T14:45:39.399184Z",
     "shell.execute_reply": "2022-03-27T14:45:39.399586Z",
     "shell.execute_reply.started": "2022-03-27T14:18:53.118541Z"
    },
    "papermill": {
     "duration": 0.158057,
     "end_time": "2022-03-27T14:45:39.399748",
     "exception": false,
     "start_time": "2022-03-27T14:45:39.241691",
     "status": "completed"
    },
    "tags": []
   },
   "outputs": [
    {
     "data": {
      "text/html": [
       "<div>\n",
       "<style scoped>\n",
       "    .dataframe tbody tr th:only-of-type {\n",
       "        vertical-align: middle;\n",
       "    }\n",
       "\n",
       "    .dataframe tbody tr th {\n",
       "        vertical-align: top;\n",
       "    }\n",
       "\n",
       "    .dataframe thead th {\n",
       "        text-align: right;\n",
       "    }\n",
       "</style>\n",
       "<table border=\"1\" class=\"dataframe\">\n",
       "  <thead>\n",
       "    <tr style=\"text-align: right;\">\n",
       "      <th></th>\n",
       "      <th>customer_id</th>\n",
       "      <th>article_id</th>\n",
       "      <th>source</th>\n",
       "      <th>score</th>\n",
       "      <th>rank</th>\n",
       "    </tr>\n",
       "  </thead>\n",
       "  <tbody>\n",
       "    <tr>\n",
       "      <th>0</th>\n",
       "      <td>-8246602507010685489</td>\n",
       "      <td>809238001.0</td>\n",
       "      <td>3</td>\n",
       "      <td>0.003047</td>\n",
       "      <td>4.0</td>\n",
       "    </tr>\n",
       "    <tr>\n",
       "      <th>1</th>\n",
       "      <td>-8246602507010685489</td>\n",
       "      <td>673677002.0</td>\n",
       "      <td>3</td>\n",
       "      <td>0.002147</td>\n",
       "      <td>11.0</td>\n",
       "    </tr>\n",
       "    <tr>\n",
       "      <th>2</th>\n",
       "      <td>-8246602507010685489</td>\n",
       "      <td>761406001.0</td>\n",
       "      <td>3</td>\n",
       "      <td>0.002285</td>\n",
       "      <td>9.0</td>\n",
       "    </tr>\n",
       "    <tr>\n",
       "      <th>3</th>\n",
       "      <td>-8246602507010685489</td>\n",
       "      <td>158340001.0</td>\n",
       "      <td>3</td>\n",
       "      <td>0.002008</td>\n",
       "      <td>12.0</td>\n",
       "    </tr>\n",
       "    <tr>\n",
       "      <th>4</th>\n",
       "      <td>-8246602507010685489</td>\n",
       "      <td>896169005.0</td>\n",
       "      <td>3</td>\n",
       "      <td>0.002493</td>\n",
       "      <td>8.0</td>\n",
       "    </tr>\n",
       "    <tr>\n",
       "      <th>...</th>\n",
       "      <td>...</td>\n",
       "      <td>...</td>\n",
       "      <td>...</td>\n",
       "      <td>...</td>\n",
       "      <td>...</td>\n",
       "    </tr>\n",
       "    <tr>\n",
       "      <th>32880969</th>\n",
       "      <td>1341966912860556603</td>\n",
       "      <td>915529005.0</td>\n",
       "      <td>3</td>\n",
       "      <td>0.002008</td>\n",
       "      <td>12.0</td>\n",
       "    </tr>\n",
       "    <tr>\n",
       "      <th>32880970</th>\n",
       "      <td>1341966912860556603</td>\n",
       "      <td>909370001.0</td>\n",
       "      <td>3</td>\n",
       "      <td>0.008101</td>\n",
       "      <td>1.0</td>\n",
       "    </tr>\n",
       "    <tr>\n",
       "      <th>32880971</th>\n",
       "      <td>1341966912860556603</td>\n",
       "      <td>918292001.0</td>\n",
       "      <td>3</td>\n",
       "      <td>0.002631</td>\n",
       "      <td>6.0</td>\n",
       "    </tr>\n",
       "    <tr>\n",
       "      <th>32880972</th>\n",
       "      <td>1341966912860556603</td>\n",
       "      <td>898694001.0</td>\n",
       "      <td>3</td>\n",
       "      <td>0.002562</td>\n",
       "      <td>7.0</td>\n",
       "    </tr>\n",
       "    <tr>\n",
       "      <th>32880973</th>\n",
       "      <td>1341966912860556603</td>\n",
       "      <td>924243001.0</td>\n",
       "      <td>3</td>\n",
       "      <td>0.004362</td>\n",
       "      <td>3.0</td>\n",
       "    </tr>\n",
       "  </tbody>\n",
       "</table>\n",
       "<p>32880974 rows × 5 columns</p>\n",
       "</div>"
      ],
      "text/plain": [
       "                  customer_id   article_id  source     score  rank\n",
       "0        -8246602507010685489  809238001.0       3  0.003047   4.0\n",
       "1        -8246602507010685489  673677002.0       3  0.002147  11.0\n",
       "2        -8246602507010685489  761406001.0       3  0.002285   9.0\n",
       "3        -8246602507010685489  158340001.0       3  0.002008  12.0\n",
       "4        -8246602507010685489  896169005.0       3  0.002493   8.0\n",
       "...                       ...          ...     ...       ...   ...\n",
       "32880969  1341966912860556603  915529005.0       3  0.002008  12.0\n",
       "32880970  1341966912860556603  909370001.0       3  0.008101   1.0\n",
       "32880971  1341966912860556603  918292001.0       3  0.002631   6.0\n",
       "32880972  1341966912860556603  898694001.0       3  0.002562   7.0\n",
       "32880973  1341966912860556603  924243001.0       3  0.004362   3.0\n",
       "\n",
       "[32880974 rows x 5 columns]"
      ]
     },
     "execution_count": 84,
     "metadata": {},
     "output_type": "execute_result"
    }
   ],
   "source": [
    "result3"
   ]
  },
  {
   "cell_type": "code",
   "execution_count": 85,
   "id": "5f90cbde",
   "metadata": {
    "execution": {
     "iopub.execute_input": "2022-03-27T14:45:39.683417Z",
     "iopub.status.busy": "2022-03-27T14:45:39.682542Z",
     "iopub.status.idle": "2022-03-27T14:45:39.684914Z",
     "shell.execute_reply": "2022-03-27T14:45:39.684374Z",
     "shell.execute_reply.started": "2022-03-27T14:18:53.136395Z"
    },
    "papermill": {
     "duration": 0.145618,
     "end_time": "2022-03-27T14:45:39.685033",
     "exception": false,
     "start_time": "2022-03-27T14:45:39.539415",
     "status": "completed"
    },
    "tags": []
   },
   "outputs": [],
   "source": [
    "#assert False"
   ]
  },
  {
   "cell_type": "code",
   "execution_count": 86,
   "id": "f279ac93",
   "metadata": {
    "execution": {
     "iopub.execute_input": "2022-03-27T14:45:39.970844Z",
     "iopub.status.busy": "2022-03-27T14:45:39.969116Z",
     "iopub.status.idle": "2022-03-27T14:45:39.971545Z",
     "shell.execute_reply": "2022-03-27T14:45:39.972028Z",
     "shell.execute_reply.started": "2022-03-27T14:18:53.143564Z"
    },
    "papermill": {
     "duration": 0.147309,
     "end_time": "2022-03-27T14:45:39.972183",
     "exception": false,
     "start_time": "2022-03-27T14:45:39.824874",
     "status": "completed"
    },
    "tags": []
   },
   "outputs": [],
   "source": [
    "# del result1\n",
    "# del result2\n",
    "# del result3"
   ]
  },
  {
   "cell_type": "code",
   "execution_count": 87,
   "id": "01ddd7bd",
   "metadata": {
    "execution": {
     "iopub.execute_input": "2022-03-27T14:45:40.257962Z",
     "iopub.status.busy": "2022-03-27T14:45:40.255791Z",
     "iopub.status.idle": "2022-03-27T14:45:41.423468Z",
     "shell.execute_reply": "2022-03-27T14:45:41.422978Z",
     "shell.execute_reply.started": "2022-03-27T14:18:53.151768Z"
    },
    "papermill": {
     "duration": 1.310453,
     "end_time": "2022-03-27T14:45:41.423602",
     "exception": false,
     "start_time": "2022-03-27T14:45:40.113149",
     "status": "completed"
    },
    "tags": []
   },
   "outputs": [],
   "source": [
    "result = pd.concat([result1, result2, result3], axis = 0)"
   ]
  },
  {
   "cell_type": "code",
   "execution_count": 88,
   "id": "cbc0739c",
   "metadata": {
    "execution": {
     "iopub.execute_input": "2022-03-27T14:45:41.709855Z",
     "iopub.status.busy": "2022-03-27T14:45:41.708923Z",
     "iopub.status.idle": "2022-03-27T14:45:41.711262Z",
     "shell.execute_reply": "2022-03-27T14:45:41.710703Z",
     "shell.execute_reply.started": "2022-03-27T14:18:54.314454Z"
    },
    "papermill": {
     "duration": 0.146099,
     "end_time": "2022-03-27T14:45:41.711383",
     "exception": false,
     "start_time": "2022-03-27T14:45:41.565284",
     "status": "completed"
    },
    "tags": []
   },
   "outputs": [],
   "source": [
    "# 调整融合结果"
   ]
  },
  {
   "cell_type": "code",
   "execution_count": 89,
   "id": "27d9bdbd",
   "metadata": {
    "execution": {
     "iopub.execute_input": "2022-03-27T14:45:41.999203Z",
     "iopub.status.busy": "2022-03-27T14:45:41.998333Z",
     "iopub.status.idle": "2022-03-27T14:45:42.000375Z",
     "shell.execute_reply": "2022-03-27T14:45:42.000782Z",
     "shell.execute_reply.started": "2022-03-27T14:18:54.320205Z"
    },
    "papermill": {
     "duration": 0.149882,
     "end_time": "2022-03-27T14:45:42.000939",
     "exception": false,
     "start_time": "2022-03-27T14:45:41.851057",
     "status": "completed"
    },
    "tags": []
   },
   "outputs": [],
   "source": [
    "#result = result3.copy()"
   ]
  },
  {
   "cell_type": "code",
   "execution_count": 90,
   "id": "2ee024c2",
   "metadata": {
    "execution": {
     "iopub.execute_input": "2022-03-27T14:45:42.428105Z",
     "iopub.status.busy": "2022-03-27T14:45:42.427345Z",
     "iopub.status.idle": "2022-03-27T14:45:42.430277Z",
     "shell.execute_reply": "2022-03-27T14:45:42.430684Z",
     "shell.execute_reply.started": "2022-03-27T14:18:54.330122Z"
    },
    "papermill": {
     "duration": 0.289812,
     "end_time": "2022-03-27T14:45:42.430846",
     "exception": false,
     "start_time": "2022-03-27T14:45:42.141034",
     "status": "completed"
    },
    "tags": []
   },
   "outputs": [
    {
     "data": {
      "text/plain": [
       "126"
      ]
     },
     "execution_count": 90,
     "metadata": {},
     "output_type": "execute_result"
    }
   ],
   "source": [
    "gc.collect()"
   ]
  },
  {
   "cell_type": "code",
   "execution_count": 91,
   "id": "1c87f27a",
   "metadata": {
    "execution": {
     "iopub.execute_input": "2022-03-27T14:45:42.717409Z",
     "iopub.status.busy": "2022-03-27T14:45:42.716488Z",
     "iopub.status.idle": "2022-03-27T14:45:42.718280Z",
     "shell.execute_reply": "2022-03-27T14:45:42.718680Z",
     "shell.execute_reply.started": "2022-03-27T14:18:54.480190Z"
    },
    "papermill": {
     "duration": 0.14814,
     "end_time": "2022-03-27T14:45:42.718860",
     "exception": false,
     "start_time": "2022-03-27T14:45:42.570720",
     "status": "completed"
    },
    "tags": []
   },
   "outputs": [],
   "source": [
    "result.index = range(len(result))"
   ]
  },
  {
   "cell_type": "code",
   "execution_count": 92,
   "id": "40accffe",
   "metadata": {
    "execution": {
     "iopub.execute_input": "2022-03-27T14:45:43.106137Z",
     "iopub.status.busy": "2022-03-27T14:45:43.105209Z",
     "iopub.status.idle": "2022-03-27T14:45:44.872150Z",
     "shell.execute_reply": "2022-03-27T14:45:44.871258Z",
     "shell.execute_reply.started": "2022-03-27T14:23:13.027120Z"
    },
    "papermill": {
     "duration": 2.012111,
     "end_time": "2022-03-27T14:45:44.872293",
     "exception": false,
     "start_time": "2022-03-27T14:45:42.860182",
     "status": "completed"
    },
    "tags": []
   },
   "outputs": [],
   "source": [
    "result.loc[result[\"source\"] == 3, \"score\"] *= 0.8"
   ]
  },
  {
   "cell_type": "code",
   "execution_count": 93,
   "id": "91dff11f",
   "metadata": {
    "execution": {
     "iopub.execute_input": "2022-03-27T14:45:45.157481Z",
     "iopub.status.busy": "2022-03-27T14:45:45.156634Z",
     "iopub.status.idle": "2022-03-27T14:45:45.159048Z",
     "shell.execute_reply": "2022-03-27T14:45:45.158522Z",
     "shell.execute_reply.started": "2022-03-27T14:23:13.821774Z"
    },
    "papermill": {
     "duration": 0.146626,
     "end_time": "2022-03-27T14:45:45.159167",
     "exception": false,
     "start_time": "2022-03-27T14:45:45.012541",
     "status": "completed"
    },
    "tags": []
   },
   "outputs": [],
   "source": [
    "#del result1\n",
    "#del result2\n",
    "#del sub_customer"
   ]
  },
  {
   "cell_type": "code",
   "execution_count": 94,
   "id": "e6a2ebb1",
   "metadata": {
    "execution": {
     "iopub.execute_input": "2022-03-27T14:45:45.449052Z",
     "iopub.status.busy": "2022-03-27T14:45:45.447920Z",
     "iopub.status.idle": "2022-03-27T14:45:46.450222Z",
     "shell.execute_reply": "2022-03-27T14:45:46.449706Z",
     "shell.execute_reply.started": "2022-03-27T14:23:14.485846Z"
    },
    "papermill": {
     "duration": 1.151579,
     "end_time": "2022-03-27T14:45:46.450357",
     "exception": false,
     "start_time": "2022-03-27T14:45:45.298778",
     "status": "completed"
    },
    "tags": []
   },
   "outputs": [],
   "source": [
    "result = cudf.DataFrame(result, dtype={'article_id': 'int32', 'customer_id':'int64'})"
   ]
  },
  {
   "cell_type": "code",
   "execution_count": 95,
   "id": "4a91944d",
   "metadata": {
    "execution": {
     "iopub.execute_input": "2022-03-27T14:45:46.738952Z",
     "iopub.status.busy": "2022-03-27T14:45:46.738075Z",
     "iopub.status.idle": "2022-03-27T14:45:46.798755Z",
     "shell.execute_reply": "2022-03-27T14:45:46.799203Z",
     "shell.execute_reply.started": "2022-03-27T14:23:14.974429Z"
    },
    "papermill": {
     "duration": 0.207027,
     "end_time": "2022-03-27T14:45:46.799352",
     "exception": false,
     "start_time": "2022-03-27T14:45:46.592325",
     "status": "completed"
    },
    "tags": []
   },
   "outputs": [
    {
     "data": {
      "text/html": [
       "<div>\n",
       "<style scoped>\n",
       "    .dataframe tbody tr th:only-of-type {\n",
       "        vertical-align: middle;\n",
       "    }\n",
       "\n",
       "    .dataframe tbody tr th {\n",
       "        vertical-align: top;\n",
       "    }\n",
       "\n",
       "    .dataframe thead th {\n",
       "        text-align: right;\n",
       "    }\n",
       "</style>\n",
       "<table border=\"1\" class=\"dataframe\">\n",
       "  <thead>\n",
       "    <tr style=\"text-align: right;\">\n",
       "      <th></th>\n",
       "      <th>customer_id</th>\n",
       "      <th>article_id</th>\n",
       "      <th>source</th>\n",
       "      <th>score</th>\n",
       "      <th>rank</th>\n",
       "    </tr>\n",
       "  </thead>\n",
       "  <tbody>\n",
       "    <tr>\n",
       "      <th>0</th>\n",
       "      <td>-9223352921020755230</td>\n",
       "      <td>568597006</td>\n",
       "      <td>1</td>\n",
       "      <td>0.000559</td>\n",
       "      <td>5.0</td>\n",
       "    </tr>\n",
       "    <tr>\n",
       "      <th>1</th>\n",
       "      <td>-9223352921020755230</td>\n",
       "      <td>673396002</td>\n",
       "      <td>1</td>\n",
       "      <td>0.044511</td>\n",
       "      <td>1.0</td>\n",
       "    </tr>\n",
       "    <tr>\n",
       "      <th>2</th>\n",
       "      <td>-9223352921020755230</td>\n",
       "      <td>706016001</td>\n",
       "      <td>1</td>\n",
       "      <td>0.003289</td>\n",
       "      <td>4.0</td>\n",
       "    </tr>\n",
       "    <tr>\n",
       "      <th>3</th>\n",
       "      <td>-9223352921020755230</td>\n",
       "      <td>812167004</td>\n",
       "      <td>1</td>\n",
       "      <td>0.019179</td>\n",
       "      <td>2.0</td>\n",
       "    </tr>\n",
       "    <tr>\n",
       "      <th>4</th>\n",
       "      <td>-9223352921020755230</td>\n",
       "      <td>849493006</td>\n",
       "      <td>1</td>\n",
       "      <td>0.006174</td>\n",
       "      <td>3.0</td>\n",
       "    </tr>\n",
       "    <tr>\n",
       "      <th>...</th>\n",
       "      <td>...</td>\n",
       "      <td>...</td>\n",
       "      <td>...</td>\n",
       "      <td>...</td>\n",
       "      <td>...</td>\n",
       "    </tr>\n",
       "    <tr>\n",
       "      <th>43579614</th>\n",
       "      <td>1341966912860556603</td>\n",
       "      <td>915529005</td>\n",
       "      <td>3</td>\n",
       "      <td>0.001606</td>\n",
       "      <td>12.0</td>\n",
       "    </tr>\n",
       "    <tr>\n",
       "      <th>43579615</th>\n",
       "      <td>1341966912860556603</td>\n",
       "      <td>909370001</td>\n",
       "      <td>3</td>\n",
       "      <td>0.006481</td>\n",
       "      <td>1.0</td>\n",
       "    </tr>\n",
       "    <tr>\n",
       "      <th>43579616</th>\n",
       "      <td>1341966912860556603</td>\n",
       "      <td>918292001</td>\n",
       "      <td>3</td>\n",
       "      <td>0.002105</td>\n",
       "      <td>6.0</td>\n",
       "    </tr>\n",
       "    <tr>\n",
       "      <th>43579617</th>\n",
       "      <td>1341966912860556603</td>\n",
       "      <td>898694001</td>\n",
       "      <td>3</td>\n",
       "      <td>0.002050</td>\n",
       "      <td>7.0</td>\n",
       "    </tr>\n",
       "    <tr>\n",
       "      <th>43579618</th>\n",
       "      <td>1341966912860556603</td>\n",
       "      <td>924243001</td>\n",
       "      <td>3</td>\n",
       "      <td>0.003490</td>\n",
       "      <td>3.0</td>\n",
       "    </tr>\n",
       "  </tbody>\n",
       "</table>\n",
       "<p>43579619 rows × 5 columns</p>\n",
       "</div>"
      ],
      "text/plain": [
       "                  customer_id  article_id  source     score  rank\n",
       "0        -9223352921020755230   568597006       1  0.000559   5.0\n",
       "1        -9223352921020755230   673396002       1  0.044511   1.0\n",
       "2        -9223352921020755230   706016001       1  0.003289   4.0\n",
       "3        -9223352921020755230   812167004       1  0.019179   2.0\n",
       "4        -9223352921020755230   849493006       1  0.006174   3.0\n",
       "...                       ...         ...     ...       ...   ...\n",
       "43579614  1341966912860556603   915529005       3  0.001606  12.0\n",
       "43579615  1341966912860556603   909370001       3  0.006481   1.0\n",
       "43579616  1341966912860556603   918292001       3  0.002105   6.0\n",
       "43579617  1341966912860556603   898694001       3  0.002050   7.0\n",
       "43579618  1341966912860556603   924243001       3  0.003490   3.0\n",
       "\n",
       "[43579619 rows x 5 columns]"
      ]
     },
     "execution_count": 95,
     "metadata": {},
     "output_type": "execute_result"
    }
   ],
   "source": [
    "result"
   ]
  },
  {
   "cell_type": "code",
   "execution_count": 96,
   "id": "509da405",
   "metadata": {
    "execution": {
     "iopub.execute_input": "2022-03-27T14:45:47.090483Z",
     "iopub.status.busy": "2022-03-27T14:45:47.089559Z",
     "iopub.status.idle": "2022-03-27T14:45:47.091455Z",
     "shell.execute_reply": "2022-03-27T14:45:47.091916Z",
     "shell.execute_reply.started": "2022-03-27T14:23:15.445310Z"
    },
    "papermill": {
     "duration": 0.151651,
     "end_time": "2022-03-27T14:45:47.092065",
     "exception": false,
     "start_time": "2022-03-27T14:45:46.940414",
     "status": "completed"
    },
    "tags": []
   },
   "outputs": [],
   "source": [
    "#merge_result = result.groupby([\"customer_id\", \"article_id\"]).apply(lambda x:x.nlargest(1, \"score\"))"
   ]
  },
  {
   "cell_type": "code",
   "execution_count": 97,
   "id": "2aeaa90a",
   "metadata": {
    "execution": {
     "iopub.execute_input": "2022-03-27T14:45:47.378856Z",
     "iopub.status.busy": "2022-03-27T14:45:47.378110Z",
     "iopub.status.idle": "2022-03-27T14:45:47.528671Z",
     "shell.execute_reply": "2022-03-27T14:45:47.528001Z",
     "shell.execute_reply.started": "2022-03-27T14:23:15.922217Z"
    },
    "papermill": {
     "duration": 0.296488,
     "end_time": "2022-03-27T14:45:47.528844",
     "exception": false,
     "start_time": "2022-03-27T14:45:47.232356",
     "status": "completed"
    },
    "tags": []
   },
   "outputs": [],
   "source": [
    "merge_result = result.groupby([\"customer_id\", \"article_id\"])['score'].max().reset_index()"
   ]
  },
  {
   "cell_type": "code",
   "execution_count": 98,
   "id": "f0dc387d",
   "metadata": {
    "execution": {
     "iopub.execute_input": "2022-03-27T14:45:47.817807Z",
     "iopub.status.busy": "2022-03-27T14:45:47.816874Z",
     "iopub.status.idle": "2022-03-27T14:45:47.819181Z",
     "shell.execute_reply": "2022-03-27T14:45:47.818643Z",
     "shell.execute_reply.started": "2022-03-27T14:23:16.389494Z"
    },
    "papermill": {
     "duration": 0.147194,
     "end_time": "2022-03-27T14:45:47.819303",
     "exception": false,
     "start_time": "2022-03-27T14:45:47.672109",
     "status": "completed"
    },
    "tags": []
   },
   "outputs": [],
   "source": [
    "# del result"
   ]
  },
  {
   "cell_type": "code",
   "execution_count": 99,
   "id": "ef14f9e5",
   "metadata": {
    "execution": {
     "iopub.execute_input": "2022-03-27T14:45:48.110293Z",
     "iopub.status.busy": "2022-03-27T14:45:48.108654Z",
     "iopub.status.idle": "2022-03-27T14:45:48.110898Z",
     "shell.execute_reply": "2022-03-27T14:45:48.111309Z",
     "shell.execute_reply.started": "2022-03-27T14:23:16.910471Z"
    },
    "papermill": {
     "duration": 0.14943,
     "end_time": "2022-03-27T14:45:48.111453",
     "exception": false,
     "start_time": "2022-03-27T14:45:47.962023",
     "status": "completed"
    },
    "tags": []
   },
   "outputs": [],
   "source": [
    "# purchase_df = tmp.sort_values(['customer_id', 'value'], ascending = False).reset_index(drop = True)\n",
    "# purchase_df['prediction'] = '0' + purchase_df['article_id'].astype(str) + ' '\n",
    "# purchase_df = purchase_df.groupby('customer_id').agg({'prediction': sum}).reset_index()\n",
    "# purchase_df['prediction'] = purchase_df['prediction'].str.strip()\n",
    "# purchase_df = cudf.DataFrame(purchase_df)"
   ]
  },
  {
   "cell_type": "code",
   "execution_count": 100,
   "id": "88c8b857",
   "metadata": {
    "execution": {
     "iopub.execute_input": "2022-03-27T14:45:48.398658Z",
     "iopub.status.busy": "2022-03-27T14:45:48.397746Z",
     "iopub.status.idle": "2022-03-27T14:45:48.399475Z",
     "shell.execute_reply": "2022-03-27T14:45:48.399998Z",
     "shell.execute_reply.started": "2022-03-27T14:23:17.384606Z"
    },
    "papermill": {
     "duration": 0.147742,
     "end_time": "2022-03-27T14:45:48.400150",
     "exception": false,
     "start_time": "2022-03-27T14:45:48.252408",
     "status": "completed"
    },
    "tags": []
   },
   "outputs": [],
   "source": [
    "# %%time\n",
    "# purchase_dict = {}\n",
    "\n",
    "# tmp = df.copy().to_pandas()\n",
    "# tmp['x'] = ((last_ts - tmp['t_dat']) / np.timedelta64(1, 'D')).astype(int)\n",
    "# tmp['dummy_1'] = 1 \n",
    "# tmp['x'] = tmp[[\"x\", \"dummy_1\"]].max(axis=1)\n",
    "\n",
    "# a, b, c, d = 2.5e4, 1.5e5, 2e-1, 1e3\n",
    "# total = 1715530\n",
    "# tmp['y'] = (a / np.sqrt(tmp['x']) + b * np.exp(-c*tmp['x']) - d) / total\n",
    "\n",
    "# tmp['dummy_0'] = 0 \n",
    "# tmp['y'] = tmp[[\"y\", \"dummy_0\"]].max(axis=1)\n",
    "# tmp['value'] = tmp['quotient'] * tmp['y'] \n",
    "\n",
    "# tmp = tmp.groupby(['customer_id', 'article_id']).agg({'value': 'sum'})\n",
    "# tmp = tmp.reset_index()\n",
    "\n",
    "# tmp = tmp.loc[tmp['value'] > 0]\n",
    "# tmp['rank'] = tmp.groupby(\"customer_id\")[\"value\"].rank(\"dense\", ascending=False)\n",
    "# tmp = tmp.loc[tmp['rank'] <= 12]\n",
    "\n",
    "# # for customer_id in tmp['customer_id'].unique():\n",
    "# #     purchase_dict[customer_id] = {} \n",
    "\n",
    "# # for customer_id, article_id, value in zip(tmp['customer_id'], tmp['article_id'], tmp['value']):\n",
    "# #     purchase_dict[customer_id][article_id] = value\n",
    "\n",
    "# purchase_df = tmp.sort_values(['customer_id', 'value'], ascending = False).reset_index(drop = True)\n",
    "# purchase_df['prediction'] = '0' + purchase_df['article_id'].astype(str) + ' '\n",
    "# purchase_df = purchase_df.groupby('customer_id').agg({'prediction': sum}).reset_index()\n",
    "# purchase_df['prediction'] = purchase_df['prediction'].str.strip()\n",
    "# purchase_df = cudf.DataFrame(purchase_df)"
   ]
  },
  {
   "cell_type": "markdown",
   "id": "eb0a7768",
   "metadata": {
    "papermill": {
     "duration": 0.14016,
     "end_time": "2022-03-27T14:45:48.681260",
     "exception": false,
     "start_time": "2022-03-27T14:45:48.541100",
     "status": "completed"
    },
    "tags": []
   },
   "source": [
    "### Make a submission"
   ]
  },
  {
   "cell_type": "code",
   "execution_count": 101,
   "id": "a2226061",
   "metadata": {
    "execution": {
     "iopub.execute_input": "2022-03-27T14:45:48.970508Z",
     "iopub.status.busy": "2022-03-27T14:45:48.969619Z",
     "iopub.status.idle": "2022-03-27T14:45:49.036341Z",
     "shell.execute_reply": "2022-03-27T14:45:49.035765Z",
     "shell.execute_reply.started": "2022-03-27T14:23:17.907785Z"
    },
    "papermill": {
     "duration": 0.215177,
     "end_time": "2022-03-27T14:45:49.036490",
     "exception": false,
     "start_time": "2022-03-27T14:45:48.821313",
     "status": "completed"
    },
    "tags": []
   },
   "outputs": [],
   "source": [
    "merge_result[\"article_id\"] = \"0\"+merge_result[\"article_id\"].astype(\"str\")"
   ]
  },
  {
   "cell_type": "code",
   "execution_count": 102,
   "id": "5ce7ad50",
   "metadata": {
    "execution": {
     "iopub.execute_input": "2022-03-27T14:45:49.362074Z",
     "iopub.status.busy": "2022-03-27T14:45:49.361118Z",
     "iopub.status.idle": "2022-03-27T14:45:49.405591Z",
     "shell.execute_reply": "2022-03-27T14:45:49.406080Z",
     "shell.execute_reply.started": "2022-03-27T14:23:18.467448Z"
    },
    "papermill": {
     "duration": 0.211493,
     "end_time": "2022-03-27T14:45:49.406238",
     "exception": false,
     "start_time": "2022-03-27T14:45:49.194745",
     "status": "completed"
    },
    "tags": []
   },
   "outputs": [
    {
     "data": {
      "text/html": [
       "<div>\n",
       "<style scoped>\n",
       "    .dataframe tbody tr th:only-of-type {\n",
       "        vertical-align: middle;\n",
       "    }\n",
       "\n",
       "    .dataframe tbody tr th {\n",
       "        vertical-align: top;\n",
       "    }\n",
       "\n",
       "    .dataframe thead th {\n",
       "        text-align: right;\n",
       "    }\n",
       "</style>\n",
       "<table border=\"1\" class=\"dataframe\">\n",
       "  <thead>\n",
       "    <tr style=\"text-align: right;\">\n",
       "      <th></th>\n",
       "      <th>customer_id</th>\n",
       "      <th>article_id</th>\n",
       "      <th>score</th>\n",
       "    </tr>\n",
       "  </thead>\n",
       "  <tbody>\n",
       "    <tr>\n",
       "      <th>0</th>\n",
       "      <td>-48190353533515953</td>\n",
       "      <td>0918292001</td>\n",
       "      <td>0.001997</td>\n",
       "    </tr>\n",
       "    <tr>\n",
       "      <th>1</th>\n",
       "      <td>-43862614118240478</td>\n",
       "      <td>0562245046</td>\n",
       "      <td>0.006437</td>\n",
       "    </tr>\n",
       "    <tr>\n",
       "      <th>2</th>\n",
       "      <td>-5695071458144859329</td>\n",
       "      <td>0610776002</td>\n",
       "      <td>0.001992</td>\n",
       "    </tr>\n",
       "    <tr>\n",
       "      <th>3</th>\n",
       "      <td>3497777415899358186</td>\n",
       "      <td>0863583001</td>\n",
       "      <td>0.002252</td>\n",
       "    </tr>\n",
       "    <tr>\n",
       "      <th>4</th>\n",
       "      <td>3491582582452764282</td>\n",
       "      <td>0893059004</td>\n",
       "      <td>0.014286</td>\n",
       "    </tr>\n",
       "    <tr>\n",
       "      <th>...</th>\n",
       "      <td>...</td>\n",
       "      <td>...</td>\n",
       "      <td>...</td>\n",
       "    </tr>\n",
       "    <tr>\n",
       "      <th>42789926</th>\n",
       "      <td>-6732515857905006154</td>\n",
       "      <td>0856440002</td>\n",
       "      <td>0.001309</td>\n",
       "    </tr>\n",
       "    <tr>\n",
       "      <th>42789927</th>\n",
       "      <td>6108594697697043857</td>\n",
       "      <td>0915529005</td>\n",
       "      <td>0.002002</td>\n",
       "    </tr>\n",
       "    <tr>\n",
       "      <th>42789928</th>\n",
       "      <td>-1078202265338439284</td>\n",
       "      <td>0918292001</td>\n",
       "      <td>0.001363</td>\n",
       "    </tr>\n",
       "    <tr>\n",
       "      <th>42789929</th>\n",
       "      <td>-365664616471901484</td>\n",
       "      <td>0884319005</td>\n",
       "      <td>0.001488</td>\n",
       "    </tr>\n",
       "    <tr>\n",
       "      <th>42789930</th>\n",
       "      <td>-3154756311120164062</td>\n",
       "      <td>0898713001</td>\n",
       "      <td>0.001871</td>\n",
       "    </tr>\n",
       "  </tbody>\n",
       "</table>\n",
       "<p>42789931 rows × 3 columns</p>\n",
       "</div>"
      ],
      "text/plain": [
       "                  customer_id  article_id     score\n",
       "0          -48190353533515953  0918292001  0.001997\n",
       "1          -43862614118240478  0562245046  0.006437\n",
       "2        -5695071458144859329  0610776002  0.001992\n",
       "3         3497777415899358186  0863583001  0.002252\n",
       "4         3491582582452764282  0893059004  0.014286\n",
       "...                       ...         ...       ...\n",
       "42789926 -6732515857905006154  0856440002  0.001309\n",
       "42789927  6108594697697043857  0915529005  0.002002\n",
       "42789928 -1078202265338439284  0918292001  0.001363\n",
       "42789929  -365664616471901484  0884319005  0.001488\n",
       "42789930 -3154756311120164062  0898713001  0.001871\n",
       "\n",
       "[42789931 rows x 3 columns]"
      ]
     },
     "execution_count": 102,
     "metadata": {},
     "output_type": "execute_result"
    }
   ],
   "source": [
    "merge_result"
   ]
  },
  {
   "cell_type": "code",
   "execution_count": 103,
   "id": "e9c4862f",
   "metadata": {
    "execution": {
     "iopub.execute_input": "2022-03-27T14:45:49.699335Z",
     "iopub.status.busy": "2022-03-27T14:45:49.698486Z",
     "iopub.status.idle": "2022-03-27T14:45:50.296292Z",
     "shell.execute_reply": "2022-03-27T14:45:50.295776Z",
     "shell.execute_reply.started": "2022-03-27T14:23:18.977596Z"
    },
    "papermill": {
     "duration": 0.743448,
     "end_time": "2022-03-27T14:45:50.296421",
     "exception": false,
     "start_time": "2022-03-27T14:45:49.552973",
     "status": "completed"
    },
    "tags": []
   },
   "outputs": [],
   "source": [
    "merge_result = merge_result.sort_values(by = [\"customer_id\", \"score\"], ascending = False)"
   ]
  },
  {
   "cell_type": "code",
   "execution_count": 104,
   "id": "c552ba6a",
   "metadata": {
    "execution": {
     "iopub.execute_input": "2022-03-27T14:45:50.582485Z",
     "iopub.status.busy": "2022-03-27T14:45:50.581598Z",
     "iopub.status.idle": "2022-03-27T14:45:50.583649Z",
     "shell.execute_reply": "2022-03-27T14:45:50.584038Z",
     "shell.execute_reply.started": "2022-03-27T14:23:19.763722Z"
    },
    "papermill": {
     "duration": 0.147321,
     "end_time": "2022-03-27T14:45:50.584186",
     "exception": false,
     "start_time": "2022-03-27T14:45:50.436865",
     "status": "completed"
    },
    "tags": []
   },
   "outputs": [],
   "source": [
    "#merge_result.to_pandas()[:10000].groupby([\"customer_id\"])[\"article_id\"].agg(lambda x: print(x.to_list()))"
   ]
  },
  {
   "cell_type": "code",
   "execution_count": 105,
   "id": "ae5f6bbb",
   "metadata": {
    "execution": {
     "iopub.execute_input": "2022-03-27T14:45:50.874656Z",
     "iopub.status.busy": "2022-03-27T14:45:50.873847Z",
     "iopub.status.idle": "2022-03-27T14:45:50.927334Z",
     "shell.execute_reply": "2022-03-27T14:45:50.927708Z",
     "shell.execute_reply.started": "2022-03-27T14:23:20.159284Z"
    },
    "papermill": {
     "duration": 0.201676,
     "end_time": "2022-03-27T14:45:50.927877",
     "exception": false,
     "start_time": "2022-03-27T14:45:50.726201",
     "status": "completed"
    },
    "tags": []
   },
   "outputs": [
    {
     "data": {
      "text/html": [
       "<div>\n",
       "<style scoped>\n",
       "    .dataframe tbody tr th:only-of-type {\n",
       "        vertical-align: middle;\n",
       "    }\n",
       "\n",
       "    .dataframe tbody tr th {\n",
       "        vertical-align: top;\n",
       "    }\n",
       "\n",
       "    .dataframe thead th {\n",
       "        text-align: right;\n",
       "    }\n",
       "</style>\n",
       "<table border=\"1\" class=\"dataframe\">\n",
       "  <thead>\n",
       "    <tr style=\"text-align: right;\">\n",
       "      <th></th>\n",
       "      <th>customer_id</th>\n",
       "      <th>article_id</th>\n",
       "      <th>score</th>\n",
       "    </tr>\n",
       "  </thead>\n",
       "  <tbody>\n",
       "    <tr>\n",
       "      <th>41094892</th>\n",
       "      <td>9223370729206611574</td>\n",
       "      <td>0909370001</td>\n",
       "      <td>0.006153</td>\n",
       "    </tr>\n",
       "    <tr>\n",
       "      <th>8535689</th>\n",
       "      <td>9223370729206611574</td>\n",
       "      <td>0909371001</td>\n",
       "      <td>0.004058</td>\n",
       "    </tr>\n",
       "    <tr>\n",
       "      <th>989124</th>\n",
       "      <td>9223370729206611574</td>\n",
       "      <td>0805947001</td>\n",
       "      <td>0.002095</td>\n",
       "    </tr>\n",
       "    <tr>\n",
       "      <th>1309787</th>\n",
       "      <td>9223370729206611574</td>\n",
       "      <td>0908799002</td>\n",
       "      <td>0.001833</td>\n",
       "    </tr>\n",
       "    <tr>\n",
       "      <th>2527301</th>\n",
       "      <td>9223370729206611574</td>\n",
       "      <td>0935892001</td>\n",
       "      <td>0.001833</td>\n",
       "    </tr>\n",
       "    <tr>\n",
       "      <th>...</th>\n",
       "      <td>...</td>\n",
       "      <td>...</td>\n",
       "      <td>...</td>\n",
       "    </tr>\n",
       "    <tr>\n",
       "      <th>42431243</th>\n",
       "      <td>-9223352921020755230</td>\n",
       "      <td>0562245046</td>\n",
       "      <td>0.002872</td>\n",
       "    </tr>\n",
       "    <tr>\n",
       "      <th>20839022</th>\n",
       "      <td>-9223352921020755230</td>\n",
       "      <td>0751471001</td>\n",
       "      <td>0.002558</td>\n",
       "    </tr>\n",
       "    <tr>\n",
       "      <th>32816836</th>\n",
       "      <td>-9223352921020755230</td>\n",
       "      <td>0372860002</td>\n",
       "      <td>0.002471</td>\n",
       "    </tr>\n",
       "    <tr>\n",
       "      <th>37625331</th>\n",
       "      <td>-9223352921020755230</td>\n",
       "      <td>0156231001</td>\n",
       "      <td>0.002209</td>\n",
       "    </tr>\n",
       "    <tr>\n",
       "      <th>1229565</th>\n",
       "      <td>-9223352921020755230</td>\n",
       "      <td>0568597006</td>\n",
       "      <td>0.000559</td>\n",
       "    </tr>\n",
       "  </tbody>\n",
       "</table>\n",
       "<p>42789931 rows × 3 columns</p>\n",
       "</div>"
      ],
      "text/plain": [
       "                  customer_id  article_id     score\n",
       "41094892  9223370729206611574  0909370001  0.006153\n",
       "8535689   9223370729206611574  0909371001  0.004058\n",
       "989124    9223370729206611574  0805947001  0.002095\n",
       "1309787   9223370729206611574  0908799002  0.001833\n",
       "2527301   9223370729206611574  0935892001  0.001833\n",
       "...                       ...         ...       ...\n",
       "42431243 -9223352921020755230  0562245046  0.002872\n",
       "20839022 -9223352921020755230  0751471001  0.002558\n",
       "32816836 -9223352921020755230  0372860002  0.002471\n",
       "37625331 -9223352921020755230  0156231001  0.002209\n",
       "1229565  -9223352921020755230  0568597006  0.000559\n",
       "\n",
       "[42789931 rows x 3 columns]"
      ]
     },
     "execution_count": 105,
     "metadata": {},
     "output_type": "execute_result"
    }
   ],
   "source": [
    "merge_result"
   ]
  },
  {
   "cell_type": "code",
   "execution_count": 106,
   "id": "a8ea9a50",
   "metadata": {
    "execution": {
     "iopub.execute_input": "2022-03-27T14:45:51.219376Z",
     "iopub.status.busy": "2022-03-27T14:45:51.218246Z",
     "iopub.status.idle": "2022-03-27T14:46:13.563275Z",
     "shell.execute_reply": "2022-03-27T14:46:13.563689Z",
     "shell.execute_reply.started": "2022-03-27T14:23:20.539918Z"
    },
    "papermill": {
     "duration": 22.493288,
     "end_time": "2022-03-27T14:46:13.563883",
     "exception": false,
     "start_time": "2022-03-27T14:45:51.070595",
     "status": "completed"
    },
    "tags": []
   },
   "outputs": [],
   "source": [
    "final = merge_result.to_pandas().groupby([\"customer_id\"])[\"article_id\"].agg(lambda x: \" \".join(x)[:131])"
   ]
  },
  {
   "cell_type": "code",
   "execution_count": 107,
   "id": "f674e5de",
   "metadata": {
    "execution": {
     "iopub.execute_input": "2022-03-27T14:46:13.863288Z",
     "iopub.status.busy": "2022-03-27T14:46:13.861270Z",
     "iopub.status.idle": "2022-03-27T14:46:13.863912Z",
     "shell.execute_reply": "2022-03-27T14:46:13.864320Z",
     "shell.execute_reply.started": "2022-03-27T14:23:41.183517Z"
    },
    "papermill": {
     "duration": 0.156437,
     "end_time": "2022-03-27T14:46:13.864462",
     "exception": false,
     "start_time": "2022-03-27T14:46:13.708025",
     "status": "completed"
    },
    "tags": []
   },
   "outputs": [],
   "source": [
    "# source = merge_result.to_pandas().groupby([\"customer_id\"])[\"article_id\"].agg(lambda x: \" \".join(x)[:131])"
   ]
  },
  {
   "cell_type": "code",
   "execution_count": 108,
   "id": "3ca5e803",
   "metadata": {
    "execution": {
     "iopub.execute_input": "2022-03-27T14:46:14.158167Z",
     "iopub.status.busy": "2022-03-27T14:46:14.156953Z",
     "iopub.status.idle": "2022-03-27T14:46:14.238475Z",
     "shell.execute_reply": "2022-03-27T14:46:14.238012Z",
     "shell.execute_reply.started": "2022-03-27T14:23:41.191125Z"
    },
    "papermill": {
     "duration": 0.230158,
     "end_time": "2022-03-27T14:46:14.238608",
     "exception": false,
     "start_time": "2022-03-27T14:46:14.008450",
     "status": "completed"
    },
    "tags": []
   },
   "outputs": [],
   "source": [
    "final = final.reset_index()"
   ]
  },
  {
   "cell_type": "code",
   "execution_count": 109,
   "id": "a120325e",
   "metadata": {
    "execution": {
     "iopub.execute_input": "2022-03-27T14:46:14.531137Z",
     "iopub.status.busy": "2022-03-27T14:46:14.530096Z",
     "iopub.status.idle": "2022-03-27T14:46:14.572084Z",
     "shell.execute_reply": "2022-03-27T14:46:14.571544Z",
     "shell.execute_reply.started": "2022-03-27T14:23:41.304062Z"
    },
    "papermill": {
     "duration": 0.190585,
     "end_time": "2022-03-27T14:46:14.572214",
     "exception": false,
     "start_time": "2022-03-27T14:46:14.381629",
     "status": "completed"
    },
    "tags": []
   },
   "outputs": [],
   "source": [
    "final = final.rename(columns = {\"article_id\": \"prediction\"})"
   ]
  },
  {
   "cell_type": "code",
   "execution_count": 110,
   "id": "556b3aa2",
   "metadata": {
    "execution": {
     "iopub.execute_input": "2022-03-27T14:46:14.870484Z",
     "iopub.status.busy": "2022-03-27T14:46:14.869523Z",
     "iopub.status.idle": "2022-03-27T14:46:14.873352Z",
     "shell.execute_reply": "2022-03-27T14:46:14.873740Z",
     "shell.execute_reply.started": "2022-03-27T14:23:41.351202Z"
    },
    "papermill": {
     "duration": 0.15724,
     "end_time": "2022-03-27T14:46:14.873898",
     "exception": false,
     "start_time": "2022-03-27T14:46:14.716658",
     "status": "completed"
    },
    "tags": []
   },
   "outputs": [
    {
     "data": {
      "text/html": [
       "<div>\n",
       "<style scoped>\n",
       "    .dataframe tbody tr th:only-of-type {\n",
       "        vertical-align: middle;\n",
       "    }\n",
       "\n",
       "    .dataframe tbody tr th {\n",
       "        vertical-align: top;\n",
       "    }\n",
       "\n",
       "    .dataframe thead th {\n",
       "        text-align: right;\n",
       "    }\n",
       "</style>\n",
       "<table border=\"1\" class=\"dataframe\">\n",
       "  <thead>\n",
       "    <tr style=\"text-align: right;\">\n",
       "      <th></th>\n",
       "      <th>customer_id</th>\n",
       "      <th>prediction</th>\n",
       "    </tr>\n",
       "  </thead>\n",
       "  <tbody>\n",
       "    <tr>\n",
       "      <th>0</th>\n",
       "      <td>-9223352921020755230</td>\n",
       "      <td>0673396002 0860949002 0739590032 0812167004 07...</td>\n",
       "    </tr>\n",
       "    <tr>\n",
       "      <th>1</th>\n",
       "      <td>-9223343869995384291</td>\n",
       "      <td>0908292002 0910601003 0706016001 0865929007 09...</td>\n",
       "    </tr>\n",
       "    <tr>\n",
       "      <th>2</th>\n",
       "      <td>-9223321797620987725</td>\n",
       "      <td>0751471043 0865799006 0918522001 0910601003 09...</td>\n",
       "    </tr>\n",
       "    <tr>\n",
       "      <th>3</th>\n",
       "      <td>-9223319430705797669</td>\n",
       "      <td>0685814003 0448509014 0715624001 0918522001 07...</td>\n",
       "    </tr>\n",
       "    <tr>\n",
       "      <th>4</th>\n",
       "      <td>-9223308614576639426</td>\n",
       "      <td>0872537004 0899282001 0865929003 0749097003 05...</td>\n",
       "    </tr>\n",
       "    <tr>\n",
       "      <th>...</th>\n",
       "      <td>...</td>\n",
       "      <td>...</td>\n",
       "    </tr>\n",
       "    <tr>\n",
       "      <th>1364779</th>\n",
       "      <td>9223319300843860958</td>\n",
       "      <td>0751471001 0751471038 0751471043 0673677002 09...</td>\n",
       "    </tr>\n",
       "    <tr>\n",
       "      <th>1364780</th>\n",
       "      <td>9223333063893176977</td>\n",
       "      <td>0909370001 0865799006 0924243001 0809238001 09...</td>\n",
       "    </tr>\n",
       "    <tr>\n",
       "      <th>1364781</th>\n",
       "      <td>9223345314868180224</td>\n",
       "      <td>0909370001 0717464001 0841383002 0809238001 08...</td>\n",
       "    </tr>\n",
       "    <tr>\n",
       "      <th>1364782</th>\n",
       "      <td>9223357421094039679</td>\n",
       "      <td>0918522001 0751471043 0751471001 0924243001 07...</td>\n",
       "    </tr>\n",
       "    <tr>\n",
       "      <th>1364783</th>\n",
       "      <td>9223370729206611574</td>\n",
       "      <td>0909370001 0909371001 0805947001 0908799002 09...</td>\n",
       "    </tr>\n",
       "  </tbody>\n",
       "</table>\n",
       "<p>1364784 rows × 2 columns</p>\n",
       "</div>"
      ],
      "text/plain": [
       "                 customer_id  \\\n",
       "0       -9223352921020755230   \n",
       "1       -9223343869995384291   \n",
       "2       -9223321797620987725   \n",
       "3       -9223319430705797669   \n",
       "4       -9223308614576639426   \n",
       "...                      ...   \n",
       "1364779  9223319300843860958   \n",
       "1364780  9223333063893176977   \n",
       "1364781  9223345314868180224   \n",
       "1364782  9223357421094039679   \n",
       "1364783  9223370729206611574   \n",
       "\n",
       "                                                prediction  \n",
       "0        0673396002 0860949002 0739590032 0812167004 07...  \n",
       "1        0908292002 0910601003 0706016001 0865929007 09...  \n",
       "2        0751471043 0865799006 0918522001 0910601003 09...  \n",
       "3        0685814003 0448509014 0715624001 0918522001 07...  \n",
       "4        0872537004 0899282001 0865929003 0749097003 05...  \n",
       "...                                                    ...  \n",
       "1364779  0751471001 0751471038 0751471043 0673677002 09...  \n",
       "1364780  0909370001 0865799006 0924243001 0809238001 09...  \n",
       "1364781  0909370001 0717464001 0841383002 0809238001 08...  \n",
       "1364782  0918522001 0751471043 0751471001 0924243001 07...  \n",
       "1364783  0909370001 0909371001 0805947001 0908799002 09...  \n",
       "\n",
       "[1364784 rows x 2 columns]"
      ]
     },
     "execution_count": 110,
     "metadata": {},
     "output_type": "execute_result"
    }
   ],
   "source": [
    "final"
   ]
  },
  {
   "cell_type": "code",
   "execution_count": 111,
   "id": "cc36c9ce",
   "metadata": {
    "execution": {
     "iopub.execute_input": "2022-03-27T14:46:15.313751Z",
     "iopub.status.busy": "2022-03-27T14:46:15.312647Z",
     "iopub.status.idle": "2022-03-27T14:46:15.317347Z",
     "shell.execute_reply": "2022-03-27T14:46:15.316870Z",
     "shell.execute_reply.started": "2022-03-27T14:23:41.365106Z"
    },
    "papermill": {
     "duration": 0.296647,
     "end_time": "2022-03-27T14:46:15.317495",
     "exception": false,
     "start_time": "2022-03-27T14:46:15.020848",
     "status": "completed"
    },
    "tags": []
   },
   "outputs": [
    {
     "data": {
      "text/plain": [
       "126"
      ]
     },
     "execution_count": 111,
     "metadata": {},
     "output_type": "execute_result"
    }
   ],
   "source": [
    "gc.collect()"
   ]
  },
  {
   "cell_type": "code",
   "execution_count": 112,
   "id": "cbe917f9",
   "metadata": {
    "execution": {
     "iopub.execute_input": "2022-03-27T14:46:15.614823Z",
     "iopub.status.busy": "2022-03-27T14:46:15.614123Z",
     "iopub.status.idle": "2022-03-27T14:46:16.973757Z",
     "shell.execute_reply": "2022-03-27T14:46:16.973192Z",
     "shell.execute_reply.started": "2022-03-27T14:23:41.625284Z"
    },
    "papermill": {
     "duration": 1.512273,
     "end_time": "2022-03-27T14:46:16.973916",
     "exception": false,
     "start_time": "2022-03-27T14:46:15.461643",
     "status": "completed"
    },
    "tags": []
   },
   "outputs": [],
   "source": [
    "if Last_date == \"2020-09-22\":\n",
    "    sub  = cudf.read_csv('../input/h-and-m-personalized-fashion-recommendations/sample_submission.csv',\n",
    "                                usecols= ['customer_id'], \n",
    "                                dtype={'customer_id': 'string'})\n",
    "\n",
    "    sub['customer_id2'] = sub['customer_id'].str[-16:].str.hex_to_int().astype('int64')\n",
    "\n",
    "    sub = sub.to_pandas().merge(final, left_on = 'customer_id2', right_on = 'customer_id', how = 'left',\n",
    "                   suffixes = ('', '_ignored'))\n",
    "else:\n",
    "    sub  = cudf.read_csv('../input/h-and-m-personalized-fashion-recommendations/sample_submission.csv',\n",
    "                                usecols= ['customer_id'], \n",
    "                                dtype={'customer_id': 'string'})\n",
    "\n",
    "    sub['customer_id'] = sub['customer_id'].str[-16:].str.hex_to_int().astype('int64')\n",
    "\n",
    "    sub = sub.to_pandas().merge(final, left_on = 'customer_id', right_on = 'customer_id', how = 'left',\n",
    "                   suffixes = ('', '_ignored'))\n",
    "    \n",
    "\n",
    "#sub = sub.to_pandas()\n",
    "\n",
    "\n",
    "#final = sub.groupby([\"customer_id\"])[\"article_id\"].agg(lambda x: \" \".join(x + [general_pred_str]).strip()[:131])\n",
    "\n",
    "# sub['prediction'] = sub['prediction'].fillna(general_pred_str)\n",
    "# sub['prediction'] = sub['prediction'] + ' ' +  general_pred_str\n",
    "# sub['prediction'] = sub['prediction'].str.strip()\n",
    "# sub['prediction'] = sub['prediction'].str[:131]\n",
    "# sub = sub[['customer_id', 'prediction']]\n",
    "# sub.to_csv(f'submission.csv',index=False)\n"
   ]
  },
  {
   "cell_type": "code",
   "execution_count": 113,
   "id": "a2a4be73",
   "metadata": {
    "execution": {
     "iopub.execute_input": "2022-03-27T14:46:17.521636Z",
     "iopub.status.busy": "2022-03-27T14:46:17.520640Z",
     "iopub.status.idle": "2022-03-27T14:46:17.528040Z",
     "shell.execute_reply": "2022-03-27T14:46:17.528452Z",
     "shell.execute_reply.started": "2022-03-27T14:23:42.774510Z"
    },
    "papermill": {
     "duration": 0.40942,
     "end_time": "2022-03-27T14:46:17.528598",
     "exception": false,
     "start_time": "2022-03-27T14:46:17.119178",
     "status": "completed"
    },
    "tags": []
   },
   "outputs": [
    {
     "data": {
      "text/plain": [
       "7196"
      ]
     },
     "execution_count": 113,
     "metadata": {},
     "output_type": "execute_result"
    }
   ],
   "source": [
    "sub[\"prediction\"].isna().sum()"
   ]
  },
  {
   "cell_type": "code",
   "execution_count": 114,
   "id": "3f598345",
   "metadata": {
    "execution": {
     "iopub.execute_input": "2022-03-27T14:46:17.825471Z",
     "iopub.status.busy": "2022-03-27T14:46:17.824565Z",
     "iopub.status.idle": "2022-03-27T14:46:17.827476Z",
     "shell.execute_reply": "2022-03-27T14:46:17.827914Z",
     "shell.execute_reply.started": "2022-03-27T14:23:43.044549Z"
    },
    "papermill": {
     "duration": 0.154748,
     "end_time": "2022-03-27T14:46:17.828066",
     "exception": false,
     "start_time": "2022-03-27T14:46:17.673318",
     "status": "completed"
    },
    "tags": []
   },
   "outputs": [
    {
     "data": {
      "text/plain": [
       "'0909370001 0865799006 0918522001 0924243001 0448509014 0751471001 0809238001 0918292001 0762846027 0809238005 0673677002 0923758001'"
      ]
     },
     "execution_count": 114,
     "metadata": {},
     "output_type": "execute_result"
    }
   ],
   "source": [
    "general_pred_str"
   ]
  },
  {
   "cell_type": "code",
   "execution_count": 115,
   "id": "817863e4",
   "metadata": {
    "execution": {
     "iopub.execute_input": "2022-03-27T14:46:18.126050Z",
     "iopub.status.busy": "2022-03-27T14:46:18.125096Z",
     "iopub.status.idle": "2022-03-27T14:46:18.287070Z",
     "shell.execute_reply": "2022-03-27T14:46:18.286572Z",
     "shell.execute_reply.started": "2022-03-27T14:23:43.055107Z"
    },
    "papermill": {
     "duration": 0.312637,
     "end_time": "2022-03-27T14:46:18.287218",
     "exception": false,
     "start_time": "2022-03-27T14:46:17.974581",
     "status": "completed"
    },
    "tags": []
   },
   "outputs": [],
   "source": [
    "sub_id  = cudf.read_csv('../input/h-and-m-personalized-fashion-recommendations/sample_submission.csv',\n",
    "                                usecols= ['customer_id'], \n",
    "                                dtype={'customer_id': 'string'})\n",
    "cid = cudf.DataFrame(sub_id['customer_id'].str[-16:].str.hex_to_int().astype('int64'))"
   ]
  },
  {
   "cell_type": "code",
   "execution_count": 116,
   "id": "441303a8",
   "metadata": {
    "execution": {
     "iopub.execute_input": "2022-03-27T14:46:18.582297Z",
     "iopub.status.busy": "2022-03-27T14:46:18.581395Z",
     "iopub.status.idle": "2022-03-27T14:46:18.583257Z",
     "shell.execute_reply": "2022-03-27T14:46:18.583659Z",
     "shell.execute_reply.started": "2022-03-27T14:23:43.222148Z"
    },
    "papermill": {
     "duration": 0.151602,
     "end_time": "2022-03-27T14:46:18.583822",
     "exception": false,
     "start_time": "2022-03-27T14:46:18.432220",
     "status": "completed"
    },
    "tags": []
   },
   "outputs": [],
   "source": [
    "cid[\"customer_id\"] = cid[\"customer_id\"].astype(\"int64\")"
   ]
  },
  {
   "cell_type": "code",
   "execution_count": 117,
   "id": "0a2bfa4a",
   "metadata": {
    "execution": {
     "iopub.execute_input": "2022-03-27T14:46:18.886146Z",
     "iopub.status.busy": "2022-03-27T14:46:18.885319Z",
     "iopub.status.idle": "2022-03-27T14:46:20.210321Z",
     "shell.execute_reply": "2022-03-27T14:46:20.209392Z",
     "shell.execute_reply.started": "2022-03-27T14:23:43.228475Z"
    },
    "papermill": {
     "duration": 1.4778,
     "end_time": "2022-03-27T14:46:20.210471",
     "exception": false,
     "start_time": "2022-03-27T14:46:18.732671",
     "status": "completed"
    },
    "tags": []
   },
   "outputs": [],
   "source": [
    "def iter_to_str(iterable):\n",
    "    return \" \".join(map(lambda x: str(0) + str(x), iterable))\n",
    "real = val.to_pandas().groupby('customer_id')[\"article_id\"].apply(iter_to_str).reset_index()"
   ]
  },
  {
   "cell_type": "code",
   "execution_count": 118,
   "id": "785c43c1",
   "metadata": {
    "execution": {
     "iopub.execute_input": "2022-03-27T14:46:20.507219Z",
     "iopub.status.busy": "2022-03-27T14:46:20.506187Z",
     "iopub.status.idle": "2022-03-27T14:46:20.837119Z",
     "shell.execute_reply": "2022-03-27T14:46:20.836572Z",
     "shell.execute_reply.started": "2022-03-27T14:23:44.547903Z"
    },
    "papermill": {
     "duration": 0.481666,
     "end_time": "2022-03-27T14:46:20.837256",
     "exception": false,
     "start_time": "2022-03-27T14:46:20.355590",
     "status": "completed"
    },
    "tags": []
   },
   "outputs": [],
   "source": [
    "real = real.merge(cid.to_pandas(), on='customer_id', how='inner')\n",
    "real.article_id = real.article_id.apply(lambda s: [] if pd.isna(s) else s.split())"
   ]
  },
  {
   "cell_type": "code",
   "execution_count": 119,
   "id": "1cc977c4",
   "metadata": {
    "execution": {
     "iopub.execute_input": "2022-03-27T14:46:21.140212Z",
     "iopub.status.busy": "2022-03-27T14:46:21.138940Z",
     "iopub.status.idle": "2022-03-27T14:46:21.142799Z",
     "shell.execute_reply": "2022-03-27T14:46:21.142341Z",
     "shell.execute_reply.started": "2022-03-27T14:23:44.881552Z"
    },
    "papermill": {
     "duration": 0.161459,
     "end_time": "2022-03-27T14:46:21.142925",
     "exception": false,
     "start_time": "2022-03-27T14:46:20.981466",
     "status": "completed"
    },
    "tags": []
   },
   "outputs": [
    {
     "data": {
      "text/html": [
       "<div>\n",
       "<style scoped>\n",
       "    .dataframe tbody tr th:only-of-type {\n",
       "        vertical-align: middle;\n",
       "    }\n",
       "\n",
       "    .dataframe tbody tr th {\n",
       "        vertical-align: top;\n",
       "    }\n",
       "\n",
       "    .dataframe thead th {\n",
       "        text-align: right;\n",
       "    }\n",
       "</style>\n",
       "<table border=\"1\" class=\"dataframe\">\n",
       "  <thead>\n",
       "    <tr style=\"text-align: right;\">\n",
       "      <th></th>\n",
       "      <th>customer_id</th>\n",
       "      <th>article_id</th>\n",
       "    </tr>\n",
       "  </thead>\n",
       "  <tbody>\n",
       "    <tr>\n",
       "      <th>0</th>\n",
       "      <td>-9223100958908512198</td>\n",
       "      <td>[0785034009, 0673677027, 0673677024]</td>\n",
       "    </tr>\n",
       "    <tr>\n",
       "      <th>1</th>\n",
       "      <td>-9223002534477110135</td>\n",
       "      <td>[0793699001]</td>\n",
       "    </tr>\n",
       "    <tr>\n",
       "      <th>2</th>\n",
       "      <td>-9222810895170663723</td>\n",
       "      <td>[0892309001, 0903306004]</td>\n",
       "    </tr>\n",
       "    <tr>\n",
       "      <th>3</th>\n",
       "      <td>-9221924794303263774</td>\n",
       "      <td>[0888343003, 0892857002, 0708138013]</td>\n",
       "    </tr>\n",
       "    <tr>\n",
       "      <th>4</th>\n",
       "      <td>-9221811157628158522</td>\n",
       "      <td>[0891663002]</td>\n",
       "    </tr>\n",
       "    <tr>\n",
       "      <th>...</th>\n",
       "      <td>...</td>\n",
       "      <td>...</td>\n",
       "    </tr>\n",
       "    <tr>\n",
       "      <th>68979</th>\n",
       "      <td>9221607025486275188</td>\n",
       "      <td>[0751994003, 0699755081, 0699755071]</td>\n",
       "    </tr>\n",
       "    <tr>\n",
       "      <th>68980</th>\n",
       "      <td>9221813808370389952</td>\n",
       "      <td>[0869331006, 0562245099, 0865929002]</td>\n",
       "    </tr>\n",
       "    <tr>\n",
       "      <th>68981</th>\n",
       "      <td>9222310594107555341</td>\n",
       "      <td>[0884319001, 0884319003]</td>\n",
       "    </tr>\n",
       "    <tr>\n",
       "      <th>68982</th>\n",
       "      <td>9223099843213569889</td>\n",
       "      <td>[0903924002]</td>\n",
       "    </tr>\n",
       "    <tr>\n",
       "      <th>68983</th>\n",
       "      <td>9223141695752178477</td>\n",
       "      <td>[0914441003]</td>\n",
       "    </tr>\n",
       "  </tbody>\n",
       "</table>\n",
       "<p>68984 rows × 2 columns</p>\n",
       "</div>"
      ],
      "text/plain": [
       "               customer_id                            article_id\n",
       "0     -9223100958908512198  [0785034009, 0673677027, 0673677024]\n",
       "1     -9223002534477110135                          [0793699001]\n",
       "2     -9222810895170663723              [0892309001, 0903306004]\n",
       "3     -9221924794303263774  [0888343003, 0892857002, 0708138013]\n",
       "4     -9221811157628158522                          [0891663002]\n",
       "...                    ...                                   ...\n",
       "68979  9221607025486275188  [0751994003, 0699755081, 0699755071]\n",
       "68980  9221813808370389952  [0869331006, 0562245099, 0865929002]\n",
       "68981  9222310594107555341              [0884319001, 0884319003]\n",
       "68982  9223099843213569889                          [0903924002]\n",
       "68983  9223141695752178477                          [0914441003]\n",
       "\n",
       "[68984 rows x 2 columns]"
      ]
     },
     "execution_count": 119,
     "metadata": {},
     "output_type": "execute_result"
    }
   ],
   "source": [
    "real"
   ]
  },
  {
   "cell_type": "code",
   "execution_count": 120,
   "id": "705f118f",
   "metadata": {
    "execution": {
     "iopub.execute_input": "2022-03-27T14:46:21.698257Z",
     "iopub.status.busy": "2022-03-27T14:46:21.696747Z",
     "iopub.status.idle": "2022-03-27T14:46:23.911134Z",
     "shell.execute_reply": "2022-03-27T14:46:23.910427Z",
     "shell.execute_reply.started": "2022-03-27T14:23:44.895643Z"
    },
    "papermill": {
     "duration": 2.62381,
     "end_time": "2022-03-27T14:46:23.911344",
     "exception": false,
     "start_time": "2022-03-27T14:46:21.287534",
     "status": "completed"
    },
    "tags": []
   },
   "outputs": [],
   "source": [
    "sub[\"prediction\"] = sub[\"prediction\"].fillna(general_pred_str)\n",
    "sub['prediction'] = sub['prediction'] + ' ' +  general_pred_str\n",
    "sub['prediction'] = sub['prediction'].str[:131]"
   ]
  },
  {
   "cell_type": "code",
   "execution_count": 121,
   "id": "cb1fb449",
   "metadata": {
    "execution": {
     "iopub.execute_input": "2022-03-27T14:46:24.255419Z",
     "iopub.status.busy": "2022-03-27T14:46:24.254757Z",
     "iopub.status.idle": "2022-03-27T14:46:24.258015Z",
     "shell.execute_reply": "2022-03-27T14:46:24.258472Z",
     "shell.execute_reply.started": "2022-03-27T14:23:47.293008Z"
    },
    "papermill": {
     "duration": 0.177453,
     "end_time": "2022-03-27T14:46:24.258624",
     "exception": false,
     "start_time": "2022-03-27T14:46:24.081171",
     "status": "completed"
    },
    "tags": []
   },
   "outputs": [
    {
     "data": {
      "text/html": [
       "<div>\n",
       "<style scoped>\n",
       "    .dataframe tbody tr th:only-of-type {\n",
       "        vertical-align: middle;\n",
       "    }\n",
       "\n",
       "    .dataframe tbody tr th {\n",
       "        vertical-align: top;\n",
       "    }\n",
       "\n",
       "    .dataframe thead th {\n",
       "        text-align: right;\n",
       "    }\n",
       "</style>\n",
       "<table border=\"1\" class=\"dataframe\">\n",
       "  <thead>\n",
       "    <tr style=\"text-align: right;\">\n",
       "      <th></th>\n",
       "      <th>customer_id</th>\n",
       "      <th>article_id</th>\n",
       "    </tr>\n",
       "  </thead>\n",
       "  <tbody>\n",
       "    <tr>\n",
       "      <th>0</th>\n",
       "      <td>-9223100958908512198</td>\n",
       "      <td>[0785034009, 0673677027, 0673677024]</td>\n",
       "    </tr>\n",
       "    <tr>\n",
       "      <th>1</th>\n",
       "      <td>-9223002534477110135</td>\n",
       "      <td>[0793699001]</td>\n",
       "    </tr>\n",
       "    <tr>\n",
       "      <th>2</th>\n",
       "      <td>-9222810895170663723</td>\n",
       "      <td>[0892309001, 0903306004]</td>\n",
       "    </tr>\n",
       "    <tr>\n",
       "      <th>3</th>\n",
       "      <td>-9221924794303263774</td>\n",
       "      <td>[0888343003, 0892857002, 0708138013]</td>\n",
       "    </tr>\n",
       "    <tr>\n",
       "      <th>4</th>\n",
       "      <td>-9221811157628158522</td>\n",
       "      <td>[0891663002]</td>\n",
       "    </tr>\n",
       "    <tr>\n",
       "      <th>...</th>\n",
       "      <td>...</td>\n",
       "      <td>...</td>\n",
       "    </tr>\n",
       "    <tr>\n",
       "      <th>68979</th>\n",
       "      <td>9221607025486275188</td>\n",
       "      <td>[0751994003, 0699755081, 0699755071]</td>\n",
       "    </tr>\n",
       "    <tr>\n",
       "      <th>68980</th>\n",
       "      <td>9221813808370389952</td>\n",
       "      <td>[0869331006, 0562245099, 0865929002]</td>\n",
       "    </tr>\n",
       "    <tr>\n",
       "      <th>68981</th>\n",
       "      <td>9222310594107555341</td>\n",
       "      <td>[0884319001, 0884319003]</td>\n",
       "    </tr>\n",
       "    <tr>\n",
       "      <th>68982</th>\n",
       "      <td>9223099843213569889</td>\n",
       "      <td>[0903924002]</td>\n",
       "    </tr>\n",
       "    <tr>\n",
       "      <th>68983</th>\n",
       "      <td>9223141695752178477</td>\n",
       "      <td>[0914441003]</td>\n",
       "    </tr>\n",
       "  </tbody>\n",
       "</table>\n",
       "<p>68984 rows × 2 columns</p>\n",
       "</div>"
      ],
      "text/plain": [
       "               customer_id                            article_id\n",
       "0     -9223100958908512198  [0785034009, 0673677027, 0673677024]\n",
       "1     -9223002534477110135                          [0793699001]\n",
       "2     -9222810895170663723              [0892309001, 0903306004]\n",
       "3     -9221924794303263774  [0888343003, 0892857002, 0708138013]\n",
       "4     -9221811157628158522                          [0891663002]\n",
       "...                    ...                                   ...\n",
       "68979  9221607025486275188  [0751994003, 0699755081, 0699755071]\n",
       "68980  9221813808370389952  [0869331006, 0562245099, 0865929002]\n",
       "68981  9222310594107555341              [0884319001, 0884319003]\n",
       "68982  9223099843213569889                          [0903924002]\n",
       "68983  9223141695752178477                          [0914441003]\n",
       "\n",
       "[68984 rows x 2 columns]"
      ]
     },
     "execution_count": 121,
     "metadata": {},
     "output_type": "execute_result"
    }
   ],
   "source": [
    "real"
   ]
  },
  {
   "cell_type": "code",
   "execution_count": 122,
   "id": "aec47c91",
   "metadata": {
    "execution": {
     "iopub.execute_input": "2022-03-27T14:46:24.586659Z",
     "iopub.status.busy": "2022-03-27T14:46:24.585677Z",
     "iopub.status.idle": "2022-03-27T14:46:24.589388Z",
     "shell.execute_reply": "2022-03-27T14:46:24.589919Z",
     "shell.execute_reply.started": "2022-03-27T14:23:47.309267Z"
    },
    "papermill": {
     "duration": 0.168328,
     "end_time": "2022-03-27T14:46:24.590074",
     "exception": false,
     "start_time": "2022-03-27T14:46:24.421746",
     "status": "completed"
    },
    "tags": []
   },
   "outputs": [],
   "source": [
    "#sub[:10000].groupby([\"customer_id\"])[\"article_id\"].agg(lambda x: \" \".join(x).strip()[:131])"
   ]
  },
  {
   "cell_type": "code",
   "execution_count": 123,
   "id": "6d88ad93",
   "metadata": {
    "execution": {
     "iopub.execute_input": "2022-03-27T14:46:24.916245Z",
     "iopub.status.busy": "2022-03-27T14:46:24.915313Z",
     "iopub.status.idle": "2022-03-27T14:46:24.917586Z",
     "shell.execute_reply": "2022-03-27T14:46:24.918049Z",
     "shell.execute_reply.started": "2022-03-27T14:23:47.317206Z"
    },
    "papermill": {
     "duration": 0.167449,
     "end_time": "2022-03-27T14:46:24.918213",
     "exception": false,
     "start_time": "2022-03-27T14:46:24.750764",
     "status": "completed"
    },
    "tags": []
   },
   "outputs": [],
   "source": [
    "#final"
   ]
  },
  {
   "cell_type": "markdown",
   "id": "3ccf5c09",
   "metadata": {
    "papermill": {
     "duration": 0.144031,
     "end_time": "2022-03-27T14:46:25.223790",
     "exception": false,
     "start_time": "2022-03-27T14:46:25.079759",
     "status": "completed"
    },
    "tags": []
   },
   "source": [
    "## 验证集评估"
   ]
  },
  {
   "cell_type": "code",
   "execution_count": 124,
   "id": "b6990cd4",
   "metadata": {
    "execution": {
     "iopub.execute_input": "2022-03-27T14:46:25.678779Z",
     "iopub.status.busy": "2022-03-27T14:46:25.676836Z",
     "iopub.status.idle": "2022-03-27T14:46:25.683811Z",
     "shell.execute_reply": "2022-03-27T14:46:25.683362Z",
     "shell.execute_reply.started": "2022-03-27T14:23:47.325435Z"
    },
    "papermill": {
     "duration": 0.310756,
     "end_time": "2022-03-27T14:46:25.683947",
     "exception": false,
     "start_time": "2022-03-27T14:46:25.373191",
     "status": "completed"
    },
    "tags": []
   },
   "outputs": [
    {
     "data": {
      "text/plain": [
       "142"
      ]
     },
     "execution_count": 124,
     "metadata": {},
     "output_type": "execute_result"
    }
   ],
   "source": [
    "gc.collect()"
   ]
  },
  {
   "cell_type": "code",
   "execution_count": 125,
   "id": "c80db054",
   "metadata": {
    "execution": {
     "iopub.execute_input": "2022-03-27T14:46:26.020858Z",
     "iopub.status.busy": "2022-03-27T14:46:26.002256Z",
     "iopub.status.idle": "2022-03-27T14:46:26.092088Z",
     "shell.execute_reply": "2022-03-27T14:46:26.091562Z",
     "shell.execute_reply.started": "2022-03-27T14:23:47.520310Z"
    },
    "papermill": {
     "duration": 0.259019,
     "end_time": "2022-03-27T14:46:26.092231",
     "exception": false,
     "start_time": "2022-03-27T14:46:25.833212",
     "status": "completed"
    },
    "tags": []
   },
   "outputs": [],
   "source": [
    "import numpy as np, pandas as pd, datetime as dt\n",
    "import matplotlib.pyplot as plt; plt.style.use('ggplot')\n",
    "import seaborn as sns\n",
    "from collections import defaultdict\n",
    "\n",
    "def iter_to_str(iterable):\n",
    "    return \" \".join(map(lambda x: str(0) + str(x), iterable))\n",
    "\n",
    "def apk(actual, predicted, k=12):\n",
    "    if len(predicted) > k:\n",
    "        predicted = predicted[:k]\n",
    "    score, nhits = 0.0, 0.0\n",
    "    for i, p in enumerate(predicted):\n",
    "        if p in actual and p not in predicted[:i]:\n",
    "            nhits += 1.0\n",
    "            score += nhits / (i + 1.0)\n",
    "    if not actual:\n",
    "        return 0.0\n",
    "    return score / min(len(actual), k)\n",
    "\n",
    "def mapk(actual, predicted, k=12, return_apks=False):\n",
    "    assert len(actual) == len(predicted)\n",
    "    apks = [apk(ac, pr, k) for ac, pr in zip(actual, predicted) if 0 < len(ac)]\n",
    "    if return_apks:\n",
    "        return apks\n",
    "    return np.mean(apks)\n",
    "\n",
    "def blend(dt, w=[], k=12):\n",
    "    if len(w) == 0:\n",
    "        w = [1] * (len(dt))\n",
    "    preds = []\n",
    "    for i in range(len(w)):\n",
    "        preds.append(dt[i].split())\n",
    "    res = {}\n",
    "    for i in range(len(preds)):\n",
    "        if w[i] < 0:\n",
    "            continue\n",
    "        for n, v in enumerate(preds[i]):\n",
    "            if v in res:\n",
    "                res[v] += (w[i] / (n + 1))\n",
    "            else:\n",
    "                res[v] = (w[i] / (n + 1))    \n",
    "    res = list(dict(sorted(res.items(), key=lambda item: -item[1])).keys())\n",
    "    return ' '.join(res[:k])\n",
    "\n",
    "def prune(pred, ok_set, k=12):\n",
    "    pred = pred.split()\n",
    "    post = []\n",
    "    for item in pred:\n",
    "        if int(item) in ok_set and not item in post:\n",
    "            post.append(item)\n",
    "    return \" \".join(post[:k])\n",
    "\n",
    "def validation(actual, predicted, groups, score=0, index=-1, ignore=False, figsize=(22, 6), name = \"\"):\n",
    "    # actual, predicted : list of lists\n",
    "    # group : pandas Series\n",
    "    # score : pandas DataFrame\n",
    "    if ignore: return\n",
    "    ap12 = mapk(actual, predicted, return_apks=True)\n",
    "    smap12 = round(np.mean(ap12), 6)\n",
    "    group_num = len(groups)\n",
    "    plt.figure(figsize=figsize)\n",
    "    plt.subplot(1, 1+group_num, 1); sns.histplot(data=ap12, log_scale=(0, 10), bins=20); plt.title(f\"MAP@12 : {smap12}\")\n",
    "    count = 2\n",
    "    for name, group in groups.items():\n",
    "        score = pd.DataFrame({g:[] for g in sorted(group.unique().tolist())})\n",
    "        if index == -1 : index = score.shape[0]\n",
    "        score.loc[index, \"All\"] = smap12\n",
    "        for g in group.unique():\n",
    "            map12 = round(mapk(actual[group == g], predicted[group == g]), 6)\n",
    "            score.loc[index, g] = map12\n",
    "        plt.subplot(1, 1+group_num, count)\n",
    "        score[[g for g in sorted(group.unique(), key = lambda x: x if type(x) is np.float64 else float(x.replace(\"(\", \"1\").split(\",\")[0]))[::-1]] + ['All']].loc[index].plot.barh()\n",
    "        plt.title(\"{} MAP@12\".format(name))\n",
    "        count += 1\n",
    "        vc = pd.Series(predicted).apply(len).value_counts()\n",
    "        score.loc[index, \"Fill\"] = round(1 - sum(vc[k] * (12 - k) / 12 for k in (set(range(12)) & set(vc.index))) / len(actual), 3) * 100\n",
    "        display(score)\n",
    "    return score"
   ]
  },
  {
   "cell_type": "code",
   "execution_count": 126,
   "id": "01124b1d",
   "metadata": {
    "execution": {
     "iopub.execute_input": "2022-03-27T14:46:26.384548Z",
     "iopub.status.busy": "2022-03-27T14:46:26.383753Z",
     "iopub.status.idle": "2022-03-27T14:46:26.410893Z",
     "shell.execute_reply": "2022-03-27T14:46:26.410406Z",
     "shell.execute_reply.started": "2022-03-27T14:23:47.546664Z"
    },
    "papermill": {
     "duration": 0.174286,
     "end_time": "2022-03-27T14:46:26.411031",
     "exception": false,
     "start_time": "2022-03-27T14:46:26.236745",
     "status": "completed"
    },
    "tags": []
   },
   "outputs": [],
   "source": [
    "group = val.groupby('customer_id').sales_channel_id.mean().round().reset_index()\\\n",
    "    .merge(cid, on='customer_id', how='inner').rename(columns={'sales_channel_id':'group'})\n",
    "group = group.set_index('customer_id').loc[real.customer_id].reset_index()\n",
    "channal_group = group.group.fillna(3)"
   ]
  },
  {
   "cell_type": "code",
   "execution_count": 127,
   "id": "9ea88ca5",
   "metadata": {
    "execution": {
     "iopub.execute_input": "2022-03-27T14:46:26.706554Z",
     "iopub.status.busy": "2022-03-27T14:46:26.705414Z",
     "iopub.status.idle": "2022-03-27T14:46:33.323044Z",
     "shell.execute_reply": "2022-03-27T14:46:33.323721Z",
     "shell.execute_reply.started": "2022-03-27T14:23:47.577408Z"
    },
    "papermill": {
     "duration": 6.768877,
     "end_time": "2022-03-27T14:46:33.323965",
     "exception": false,
     "start_time": "2022-03-27T14:46:26.555088",
     "status": "completed"
    },
    "tags": []
   },
   "outputs": [],
   "source": [
    "customer[\"age_type\"] = pd.cut(customer.to_pandas()[\"age\"], bins = np.array([0, 21, 24, 27, 30, 35, 40, 45, 50, 60, 9999], dtype = \"int32\"), right = True).astype(\"string\")\n",
    "group = customer.rename(columns={'age_type':'group'}).set_index('customer_id').loc[real.customer_id].reset_index()\n",
    "age_group = group.group.fillna(\"-1\")"
   ]
  },
  {
   "cell_type": "code",
   "execution_count": 128,
   "id": "fb652e16",
   "metadata": {
    "execution": {
     "iopub.execute_input": "2022-03-27T14:46:33.800666Z",
     "iopub.status.busy": "2022-03-27T14:46:33.799839Z",
     "iopub.status.idle": "2022-03-27T14:46:34.122088Z",
     "shell.execute_reply": "2022-03-27T14:46:34.122833Z",
     "shell.execute_reply.started": "2022-03-27T14:23:54.072941Z"
    },
    "papermill": {
     "duration": 0.564135,
     "end_time": "2022-03-27T14:46:34.123041",
     "exception": false,
     "start_time": "2022-03-27T14:46:33.558906",
     "status": "completed"
    },
    "tags": []
   },
   "outputs": [],
   "source": [
    "group = val.groupby('customer_id').sales_channel_id.count().round().reset_index()\\\n",
    "    .merge(cid, on='customer_id', how='inner').rename(columns={'sales_channel_id':'group'})\n",
    "group[\"group\"] = pd.cut(group[\"group\"].to_pandas(), bins = np.array([0, 1, 2, 3, 5, 10, 20, 9999], dtype = \"int32\"), right = True).astype(\"string\")\n",
    "group = group.set_index('customer_id').loc[real.customer_id].reset_index()\n",
    "count_group = group.group.fillna(0)"
   ]
  },
  {
   "cell_type": "code",
   "execution_count": 129,
   "id": "fb06b870",
   "metadata": {
    "execution": {
     "iopub.execute_input": "2022-03-27T14:46:34.514543Z",
     "iopub.status.busy": "2022-03-27T14:46:34.513665Z",
     "iopub.status.idle": "2022-03-27T14:46:34.555622Z",
     "shell.execute_reply": "2022-03-27T14:46:34.556112Z",
     "shell.execute_reply.started": "2022-03-27T14:23:54.283488Z"
    },
    "papermill": {
     "duration": 0.197141,
     "end_time": "2022-03-27T14:46:34.556267",
     "exception": false,
     "start_time": "2022-03-27T14:46:34.359126",
     "status": "completed"
    },
    "tags": []
   },
   "outputs": [
    {
     "data": {
      "text/html": [
       "<div>\n",
       "<style scoped>\n",
       "    .dataframe tbody tr th:only-of-type {\n",
       "        vertical-align: middle;\n",
       "    }\n",
       "\n",
       "    .dataframe tbody tr th {\n",
       "        vertical-align: top;\n",
       "    }\n",
       "\n",
       "    .dataframe thead th {\n",
       "        text-align: right;\n",
       "    }\n",
       "</style>\n",
       "<table border=\"1\" class=\"dataframe\">\n",
       "  <thead>\n",
       "    <tr style=\"text-align: right;\">\n",
       "      <th></th>\n",
       "      <th>customer_id</th>\n",
       "    </tr>\n",
       "  </thead>\n",
       "  <tbody>\n",
       "    <tr>\n",
       "      <th>31718581</th>\n",
       "      <td>-9223100958908512198</td>\n",
       "    </tr>\n",
       "    <tr>\n",
       "      <th>31723712</th>\n",
       "      <td>-9223002534477110135</td>\n",
       "    </tr>\n",
       "    <tr>\n",
       "      <th>31668649</th>\n",
       "      <td>-9222810895170663723</td>\n",
       "    </tr>\n",
       "    <tr>\n",
       "      <th>31664044</th>\n",
       "      <td>-9221924794303263774</td>\n",
       "    </tr>\n",
       "    <tr>\n",
       "      <th>31782993</th>\n",
       "      <td>-9221811157628158522</td>\n",
       "    </tr>\n",
       "    <tr>\n",
       "      <th>...</th>\n",
       "      <td>...</td>\n",
       "    </tr>\n",
       "    <tr>\n",
       "      <th>31575924</th>\n",
       "      <td>9221607025486275188</td>\n",
       "    </tr>\n",
       "    <tr>\n",
       "      <th>31692865</th>\n",
       "      <td>9221813808370389952</td>\n",
       "    </tr>\n",
       "    <tr>\n",
       "      <th>31681512</th>\n",
       "      <td>9222310594107555341</td>\n",
       "    </tr>\n",
       "    <tr>\n",
       "      <th>31712352</th>\n",
       "      <td>9223099843213569889</td>\n",
       "    </tr>\n",
       "    <tr>\n",
       "      <th>31622943</th>\n",
       "      <td>9223141695752178477</td>\n",
       "    </tr>\n",
       "  </tbody>\n",
       "</table>\n",
       "<p>68984 rows × 1 columns</p>\n",
       "</div>"
      ],
      "text/plain": [
       "                  customer_id\n",
       "31718581 -9223100958908512198\n",
       "31723712 -9223002534477110135\n",
       "31668649 -9222810895170663723\n",
       "31664044 -9221924794303263774\n",
       "31782993 -9221811157628158522\n",
       "...                       ...\n",
       "31575924  9221607025486275188\n",
       "31692865  9221813808370389952\n",
       "31681512  9222310594107555341\n",
       "31712352  9223099843213569889\n",
       "31622943  9223141695752178477\n",
       "\n",
       "[68984 rows x 1 columns]"
      ]
     },
     "execution_count": 129,
     "metadata": {},
     "output_type": "execute_result"
    }
   ],
   "source": [
    "val[['customer_id']].drop_duplicates()"
   ]
  },
  {
   "cell_type": "code",
   "execution_count": 130,
   "id": "23a04f4e",
   "metadata": {
    "execution": {
     "iopub.execute_input": "2022-03-27T14:46:34.854520Z",
     "iopub.status.busy": "2022-03-27T14:46:34.853665Z",
     "iopub.status.idle": "2022-03-27T14:46:35.118902Z",
     "shell.execute_reply": "2022-03-27T14:46:35.118263Z",
     "shell.execute_reply.started": "2022-03-27T14:23:54.329991Z"
    },
    "papermill": {
     "duration": 0.417473,
     "end_time": "2022-03-27T14:46:35.119035",
     "exception": false,
     "start_time": "2022-03-27T14:46:34.701562",
     "status": "completed"
    },
    "tags": []
   },
   "outputs": [],
   "source": [
    "group = train.groupby('customer_id').sales_channel_id.count().round().reset_index()\\\n",
    "    .merge(val[['customer_id']].drop_duplicates(), on = \"customer_id\", how = \"right\")\\\n",
    "    .merge(cid, on='customer_id', how='inner').rename(columns={'sales_channel_id':'group'})\n",
    "group[\"group\"] = pd.cut(group[\"group\"].to_pandas(), bins = np.array([0, 5, 10, 20, 35, 50, 100], dtype = \"int32\"), right = True).astype(\"string\")\n",
    "group = group.set_index('customer_id').loc[real.customer_id].reset_index()\n",
    "his_count_group = group.group.fillna(0)"
   ]
  },
  {
   "cell_type": "code",
   "execution_count": 131,
   "id": "cc58381c",
   "metadata": {
    "execution": {
     "iopub.execute_input": "2022-03-27T14:46:35.435641Z",
     "iopub.status.busy": "2022-03-27T14:46:35.434798Z",
     "iopub.status.idle": "2022-03-27T14:46:35.442105Z",
     "shell.execute_reply": "2022-03-27T14:46:35.442523Z",
     "shell.execute_reply.started": "2022-03-27T14:23:54.573801Z"
    },
    "papermill": {
     "duration": 0.169704,
     "end_time": "2022-03-27T14:46:35.442665",
     "exception": false,
     "start_time": "2022-03-27T14:46:35.272961",
     "status": "completed"
    },
    "tags": []
   },
   "outputs": [
    {
     "data": {
      "text/plain": [
       "0        (30.0, 35.0]\n",
       "1        (27.0, 30.0]\n",
       "2         (0.0, 21.0]\n",
       "3        (50.0, 60.0]\n",
       "4        (21.0, 24.0]\n",
       "             ...     \n",
       "68979    (40.0, 45.0]\n",
       "68980    (27.0, 30.0]\n",
       "68981    (30.0, 35.0]\n",
       "68982    (27.0, 30.0]\n",
       "68983     (0.0, 21.0]\n",
       "Name: group, Length: 68984, dtype: object"
      ]
     },
     "execution_count": 131,
     "metadata": {},
     "output_type": "execute_result"
    }
   ],
   "source": [
    "age_group"
   ]
  },
  {
   "cell_type": "code",
   "execution_count": 132,
   "id": "31b194ec",
   "metadata": {
    "execution": {
     "iopub.execute_input": "2022-03-27T14:46:35.738341Z",
     "iopub.status.busy": "2022-03-27T14:46:35.737476Z",
     "iopub.status.idle": "2022-03-27T14:46:35.751883Z",
     "shell.execute_reply": "2022-03-27T14:46:35.752320Z",
     "shell.execute_reply.started": "2022-03-27T14:23:54.586564Z"
    },
    "papermill": {
     "duration": 0.163948,
     "end_time": "2022-03-27T14:46:35.752465",
     "exception": false,
     "start_time": "2022-03-27T14:46:35.588517",
     "status": "completed"
    },
    "tags": []
   },
   "outputs": [
    {
     "data": {
      "text/plain": [
       "2.0    40829\n",
       "1.0    28155\n",
       "Name: group, dtype: int32"
      ]
     },
     "execution_count": 132,
     "metadata": {},
     "output_type": "execute_result"
    }
   ],
   "source": [
    "channal_group.value_counts()"
   ]
  },
  {
   "cell_type": "code",
   "execution_count": 133,
   "id": "4aafdf50",
   "metadata": {
    "execution": {
     "iopub.execute_input": "2022-03-27T14:46:36.055915Z",
     "iopub.status.busy": "2022-03-27T14:46:36.054468Z",
     "iopub.status.idle": "2022-03-27T14:46:36.240348Z",
     "shell.execute_reply": "2022-03-27T14:46:36.239876Z",
     "shell.execute_reply.started": "2022-03-27T14:23:54.609239Z"
    },
    "papermill": {
     "duration": 0.342858,
     "end_time": "2022-03-27T14:46:36.240480",
     "exception": false,
     "start_time": "2022-03-27T14:46:35.897622",
     "status": "completed"
    },
    "tags": []
   },
   "outputs": [],
   "source": [
    "sub = sub.set_index('customer_id').loc[real.customer_id].reset_index()"
   ]
  },
  {
   "cell_type": "code",
   "execution_count": 134,
   "id": "751ef14e",
   "metadata": {
    "execution": {
     "iopub.execute_input": "2022-03-27T14:46:36.542569Z",
     "iopub.status.busy": "2022-03-27T14:46:36.541584Z",
     "iopub.status.idle": "2022-03-27T14:46:36.545747Z",
     "shell.execute_reply": "2022-03-27T14:46:36.545324Z",
     "shell.execute_reply.started": "2022-03-27T14:23:54.789494Z"
    },
    "papermill": {
     "duration": 0.159824,
     "end_time": "2022-03-27T14:46:36.545883",
     "exception": false,
     "start_time": "2022-03-27T14:46:36.386059",
     "status": "completed"
    },
    "tags": []
   },
   "outputs": [
    {
     "data": {
      "text/html": [
       "<div>\n",
       "<style scoped>\n",
       "    .dataframe tbody tr th:only-of-type {\n",
       "        vertical-align: middle;\n",
       "    }\n",
       "\n",
       "    .dataframe tbody tr th {\n",
       "        vertical-align: top;\n",
       "    }\n",
       "\n",
       "    .dataframe thead th {\n",
       "        text-align: right;\n",
       "    }\n",
       "</style>\n",
       "<table border=\"1\" class=\"dataframe\">\n",
       "  <thead>\n",
       "    <tr style=\"text-align: right;\">\n",
       "      <th></th>\n",
       "      <th>customer_id</th>\n",
       "      <th>prediction</th>\n",
       "    </tr>\n",
       "  </thead>\n",
       "  <tbody>\n",
       "    <tr>\n",
       "      <th>0</th>\n",
       "      <td>-9223100958908512198</td>\n",
       "      <td>0909911001 0909912001 0899976004 0706016002 09...</td>\n",
       "    </tr>\n",
       "    <tr>\n",
       "      <th>1</th>\n",
       "      <td>-9223002534477110135</td>\n",
       "      <td>0909370001 0706016002 0158340001 0809238001 08...</td>\n",
       "    </tr>\n",
       "    <tr>\n",
       "      <th>2</th>\n",
       "      <td>-9222810895170663723</td>\n",
       "      <td>0568601006 0759814022 0918522001 0685814003 06...</td>\n",
       "    </tr>\n",
       "    <tr>\n",
       "      <th>3</th>\n",
       "      <td>-9221924794303263774</td>\n",
       "      <td>0158340001 0707269003 0111593001 0372860001 07...</td>\n",
       "    </tr>\n",
       "    <tr>\n",
       "      <th>4</th>\n",
       "      <td>-9221811157628158522</td>\n",
       "      <td>0909370001 0448509014 0918522001 0918292001 08...</td>\n",
       "    </tr>\n",
       "    <tr>\n",
       "      <th>...</th>\n",
       "      <td>...</td>\n",
       "      <td>...</td>\n",
       "    </tr>\n",
       "    <tr>\n",
       "      <th>68979</th>\n",
       "      <td>9221607025486275188</td>\n",
       "      <td>0673677002 0816586002 0706016002 0156231001 07...</td>\n",
       "    </tr>\n",
       "    <tr>\n",
       "      <th>68980</th>\n",
       "      <td>9221813808370389952</td>\n",
       "      <td>0654590001 0714790020 0448509014 0749699002 06...</td>\n",
       "    </tr>\n",
       "    <tr>\n",
       "      <th>68981</th>\n",
       "      <td>9222310594107555341</td>\n",
       "      <td>0904416002 0904416001 0863646001 0863595002 08...</td>\n",
       "    </tr>\n",
       "    <tr>\n",
       "      <th>68982</th>\n",
       "      <td>9223099843213569889</td>\n",
       "      <td>0903773002 0776850001 0757909004 0706016002 07...</td>\n",
       "    </tr>\n",
       "    <tr>\n",
       "      <th>68983</th>\n",
       "      <td>9223141695752178477</td>\n",
       "      <td>0918522001 0685814003 0448509014 0918292001 07...</td>\n",
       "    </tr>\n",
       "  </tbody>\n",
       "</table>\n",
       "<p>68984 rows × 2 columns</p>\n",
       "</div>"
      ],
      "text/plain": [
       "               customer_id                                         prediction\n",
       "0     -9223100958908512198  0909911001 0909912001 0899976004 0706016002 09...\n",
       "1     -9223002534477110135  0909370001 0706016002 0158340001 0809238001 08...\n",
       "2     -9222810895170663723  0568601006 0759814022 0918522001 0685814003 06...\n",
       "3     -9221924794303263774  0158340001 0707269003 0111593001 0372860001 07...\n",
       "4     -9221811157628158522  0909370001 0448509014 0918522001 0918292001 08...\n",
       "...                    ...                                                ...\n",
       "68979  9221607025486275188  0673677002 0816586002 0706016002 0156231001 07...\n",
       "68980  9221813808370389952  0654590001 0714790020 0448509014 0749699002 06...\n",
       "68981  9222310594107555341  0904416002 0904416001 0863646001 0863595002 08...\n",
       "68982  9223099843213569889  0903773002 0776850001 0757909004 0706016002 07...\n",
       "68983  9223141695752178477  0918522001 0685814003 0448509014 0918292001 07...\n",
       "\n",
       "[68984 rows x 2 columns]"
      ]
     },
     "execution_count": 134,
     "metadata": {},
     "output_type": "execute_result"
    }
   ],
   "source": [
    "sub"
   ]
  },
  {
   "cell_type": "code",
   "execution_count": 135,
   "id": "6a819f6c",
   "metadata": {
    "execution": {
     "iopub.execute_input": "2022-03-27T14:46:36.843508Z",
     "iopub.status.busy": "2022-03-27T14:46:36.842645Z",
     "iopub.status.idle": "2022-03-27T14:46:36.858393Z",
     "shell.execute_reply": "2022-03-27T14:46:36.858914Z",
     "shell.execute_reply.started": "2022-03-27T14:23:54.803108Z"
    },
    "papermill": {
     "duration": 0.166544,
     "end_time": "2022-03-27T14:46:36.859081",
     "exception": false,
     "start_time": "2022-03-27T14:46:36.692537",
     "status": "completed"
    },
    "tags": []
   },
   "outputs": [
    {
     "data": {
      "text/plain": [
       "0                17646\n",
       "(50.0, 100.0]    14603\n",
       "(20.0, 35.0]     10527\n",
       "(10.0, 20.0]      8439\n",
       "(35.0, 50.0]      7675\n",
       "(0.0, 5.0]        5210\n",
       "(5.0, 10.0]       4884\n",
       "Name: group, dtype: int32"
      ]
     },
     "execution_count": 135,
     "metadata": {},
     "output_type": "execute_result"
    }
   ],
   "source": [
    "his_count_group.value_counts()"
   ]
  },
  {
   "cell_type": "code",
   "execution_count": 136,
   "id": "99927c62",
   "metadata": {
    "execution": {
     "iopub.execute_input": "2022-03-27T14:46:37.204247Z",
     "iopub.status.busy": "2022-03-27T14:46:37.183236Z",
     "iopub.status.idle": "2022-03-27T14:46:37.325689Z",
     "shell.execute_reply": "2022-03-27T14:46:37.326284Z",
     "shell.execute_reply.started": "2022-03-27T14:23:54.824299Z"
    },
    "papermill": {
     "duration": 0.30621,
     "end_time": "2022-03-27T14:46:37.326454",
     "exception": false,
     "start_time": "2022-03-27T14:46:37.020244",
     "status": "completed"
    },
    "tags": []
   },
   "outputs": [],
   "source": [
    "prediction =  sub[\"prediction\"].apply(lambda s: [] if pd.isna(s) else s.split())"
   ]
  },
  {
   "cell_type": "code",
   "execution_count": 137,
   "id": "09a56308",
   "metadata": {
    "execution": {
     "iopub.execute_input": "2022-03-27T14:46:37.651931Z",
     "iopub.status.busy": "2022-03-27T14:46:37.651007Z",
     "iopub.status.idle": "2022-03-27T14:46:37.662671Z",
     "shell.execute_reply": "2022-03-27T14:46:37.662202Z",
     "shell.execute_reply.started": "2022-03-27T14:23:54.993956Z"
    },
    "papermill": {
     "duration": 0.180497,
     "end_time": "2022-03-27T14:46:37.662831",
     "exception": false,
     "start_time": "2022-03-27T14:46:37.482334",
     "status": "completed"
    },
    "tags": []
   },
   "outputs": [],
   "source": [
    "groups = {\"channal\":channal_group.to_pandas(),\n",
    "         \"age\":age_group.to_pandas(),\n",
    "         \"val_count\":count_group.to_pandas(),\n",
    "         \"train_count\": his_count_group.to_pandas()}"
   ]
  },
  {
   "cell_type": "code",
   "execution_count": 138,
   "id": "49b51b80",
   "metadata": {
    "execution": {
     "iopub.execute_input": "2022-03-27T14:46:38.059317Z",
     "iopub.status.busy": "2022-03-27T14:46:38.058316Z",
     "iopub.status.idle": "2022-03-27T14:46:38.075360Z",
     "shell.execute_reply": "2022-03-27T14:46:38.074586Z",
     "shell.execute_reply.started": "2022-03-27T14:23:55.010784Z"
    },
    "papermill": {
     "duration": 0.25434,
     "end_time": "2022-03-27T14:46:38.075530",
     "exception": false,
     "start_time": "2022-03-27T14:46:37.821190",
     "status": "completed"
    },
    "tags": []
   },
   "outputs": [
    {
     "data": {
      "text/plain": [
       "(0, 1]        19994\n",
       "(1, 2]        16386\n",
       "(3, 5]        10928\n",
       "(2, 3]        10075\n",
       "(5, 10]        8668\n",
       "(10, 20]       2571\n",
       "(20, 9999]      362\n",
       "Name: group, dtype: int32"
      ]
     },
     "execution_count": 138,
     "metadata": {},
     "output_type": "execute_result"
    }
   ],
   "source": [
    "count_group.value_counts()"
   ]
  },
  {
   "cell_type": "code",
   "execution_count": 139,
   "id": "44c1d782",
   "metadata": {
    "execution": {
     "iopub.execute_input": "2022-03-27T14:46:38.543305Z",
     "iopub.status.busy": "2022-03-27T14:46:38.542407Z",
     "iopub.status.idle": "2022-03-27T14:46:38.544695Z",
     "shell.execute_reply": "2022-03-27T14:46:38.544173Z",
     "shell.execute_reply.started": "2022-03-27T14:23:55.033604Z"
    },
    "papermill": {
     "duration": 0.231866,
     "end_time": "2022-03-27T14:46:38.544838",
     "exception": false,
     "start_time": "2022-03-27T14:46:38.312972",
     "status": "completed"
    },
    "tags": []
   },
   "outputs": [],
   "source": [
    "#sorted(count_group.to_pandas().unique(), key = lambda x: float(x.replace(\"(\", \"1\").split(\",\")[0]))"
   ]
  },
  {
   "cell_type": "code",
   "execution_count": 140,
   "id": "61f43c21",
   "metadata": {
    "execution": {
     "iopub.execute_input": "2022-03-27T14:46:38.880995Z",
     "iopub.status.busy": "2022-03-27T14:46:38.860359Z",
     "iopub.status.idle": "2022-03-27T14:46:42.178232Z",
     "shell.execute_reply": "2022-03-27T14:46:42.178645Z",
     "shell.execute_reply.started": "2022-03-27T14:23:55.040597Z"
    },
    "papermill": {
     "duration": 3.485998,
     "end_time": "2022-03-27T14:46:42.178810",
     "exception": false,
     "start_time": "2022-03-27T14:46:38.692812",
     "status": "completed"
    },
    "tags": []
   },
   "outputs": [
    {
     "data": {
      "text/html": [
       "<div>\n",
       "<style scoped>\n",
       "    .dataframe tbody tr th:only-of-type {\n",
       "        vertical-align: middle;\n",
       "    }\n",
       "\n",
       "    .dataframe tbody tr th {\n",
       "        vertical-align: top;\n",
       "    }\n",
       "\n",
       "    .dataframe thead th {\n",
       "        text-align: right;\n",
       "    }\n",
       "</style>\n",
       "<table border=\"1\" class=\"dataframe\">\n",
       "  <thead>\n",
       "    <tr style=\"text-align: right;\">\n",
       "      <th></th>\n",
       "      <th>1.0</th>\n",
       "      <th>2.0</th>\n",
       "      <th>All</th>\n",
       "      <th>Fill</th>\n",
       "    </tr>\n",
       "  </thead>\n",
       "  <tbody>\n",
       "    <tr>\n",
       "      <th>Last Purchase</th>\n",
       "      <td>0.01668</td>\n",
       "      <td>0.032121</td>\n",
       "      <td>0.025819</td>\n",
       "      <td>100.0</td>\n",
       "    </tr>\n",
       "  </tbody>\n",
       "</table>\n",
       "</div>"
      ],
      "text/plain": [
       "                   1.0       2.0       All   Fill\n",
       "Last Purchase  0.01668  0.032121  0.025819  100.0"
      ]
     },
     "metadata": {},
     "output_type": "display_data"
    },
    {
     "data": {
      "text/html": [
       "<div>\n",
       "<style scoped>\n",
       "    .dataframe tbody tr th:only-of-type {\n",
       "        vertical-align: middle;\n",
       "    }\n",
       "\n",
       "    .dataframe tbody tr th {\n",
       "        vertical-align: top;\n",
       "    }\n",
       "\n",
       "    .dataframe thead th {\n",
       "        text-align: right;\n",
       "    }\n",
       "</style>\n",
       "<table border=\"1\" class=\"dataframe\">\n",
       "  <thead>\n",
       "    <tr style=\"text-align: right;\">\n",
       "      <th></th>\n",
       "      <th>(0.0, 21.0]</th>\n",
       "      <th>(21.0, 24.0]</th>\n",
       "      <th>(24.0, 27.0]</th>\n",
       "      <th>(27.0, 30.0]</th>\n",
       "      <th>(30.0, 35.0]</th>\n",
       "      <th>(35.0, 40.0]</th>\n",
       "      <th>(40.0, 45.0]</th>\n",
       "      <th>(45.0, 50.0]</th>\n",
       "      <th>(50.0, 60.0]</th>\n",
       "      <th>(60.0, 9999.0]</th>\n",
       "      <th>-1</th>\n",
       "      <th>All</th>\n",
       "      <th>Fill</th>\n",
       "    </tr>\n",
       "  </thead>\n",
       "  <tbody>\n",
       "    <tr>\n",
       "      <th>Last Purchase</th>\n",
       "      <td>0.023196</td>\n",
       "      <td>0.02444</td>\n",
       "      <td>0.026239</td>\n",
       "      <td>0.025124</td>\n",
       "      <td>0.025349</td>\n",
       "      <td>0.025278</td>\n",
       "      <td>0.027472</td>\n",
       "      <td>0.025766</td>\n",
       "      <td>0.026848</td>\n",
       "      <td>0.03261</td>\n",
       "      <td>0.030783</td>\n",
       "      <td>0.025819</td>\n",
       "      <td>100.0</td>\n",
       "    </tr>\n",
       "  </tbody>\n",
       "</table>\n",
       "</div>"
      ],
      "text/plain": [
       "               (0.0, 21.0]  (21.0, 24.0]  (24.0, 27.0]  (27.0, 30.0]  \\\n",
       "Last Purchase     0.023196       0.02444      0.026239      0.025124   \n",
       "\n",
       "               (30.0, 35.0]  (35.0, 40.0]  (40.0, 45.0]  (45.0, 50.0]  \\\n",
       "Last Purchase      0.025349      0.025278      0.027472      0.025766   \n",
       "\n",
       "               (50.0, 60.0]  (60.0, 9999.0]        -1       All   Fill  \n",
       "Last Purchase      0.026848         0.03261  0.030783  0.025819  100.0  "
      ]
     },
     "metadata": {},
     "output_type": "display_data"
    },
    {
     "data": {
      "text/html": [
       "<div>\n",
       "<style scoped>\n",
       "    .dataframe tbody tr th:only-of-type {\n",
       "        vertical-align: middle;\n",
       "    }\n",
       "\n",
       "    .dataframe tbody tr th {\n",
       "        vertical-align: top;\n",
       "    }\n",
       "\n",
       "    .dataframe thead th {\n",
       "        text-align: right;\n",
       "    }\n",
       "</style>\n",
       "<table border=\"1\" class=\"dataframe\">\n",
       "  <thead>\n",
       "    <tr style=\"text-align: right;\">\n",
       "      <th></th>\n",
       "      <th>(0, 1]</th>\n",
       "      <th>(1, 2]</th>\n",
       "      <th>(10, 20]</th>\n",
       "      <th>(2, 3]</th>\n",
       "      <th>(20, 9999]</th>\n",
       "      <th>(3, 5]</th>\n",
       "      <th>(5, 10]</th>\n",
       "      <th>All</th>\n",
       "      <th>Fill</th>\n",
       "    </tr>\n",
       "  </thead>\n",
       "  <tbody>\n",
       "    <tr>\n",
       "      <th>Last Purchase</th>\n",
       "      <td>0.042522</td>\n",
       "      <td>0.025508</td>\n",
       "      <td>0.01208</td>\n",
       "      <td>0.020171</td>\n",
       "      <td>0.020593</td>\n",
       "      <td>0.014846</td>\n",
       "      <td>0.01257</td>\n",
       "      <td>0.025819</td>\n",
       "      <td>100.0</td>\n",
       "    </tr>\n",
       "  </tbody>\n",
       "</table>\n",
       "</div>"
      ],
      "text/plain": [
       "                 (0, 1]    (1, 2]  (10, 20]    (2, 3]  (20, 9999]    (3, 5]  \\\n",
       "Last Purchase  0.042522  0.025508   0.01208  0.020171    0.020593  0.014846   \n",
       "\n",
       "               (5, 10]       All   Fill  \n",
       "Last Purchase  0.01257  0.025819  100.0  "
      ]
     },
     "metadata": {},
     "output_type": "display_data"
    },
    {
     "data": {
      "text/html": [
       "<div>\n",
       "<style scoped>\n",
       "    .dataframe tbody tr th:only-of-type {\n",
       "        vertical-align: middle;\n",
       "    }\n",
       "\n",
       "    .dataframe tbody tr th {\n",
       "        vertical-align: top;\n",
       "    }\n",
       "\n",
       "    .dataframe thead th {\n",
       "        text-align: right;\n",
       "    }\n",
       "</style>\n",
       "<table border=\"1\" class=\"dataframe\">\n",
       "  <thead>\n",
       "    <tr style=\"text-align: right;\">\n",
       "      <th></th>\n",
       "      <th>(0.0, 5.0]</th>\n",
       "      <th>(10.0, 20.0]</th>\n",
       "      <th>(20.0, 35.0]</th>\n",
       "      <th>(35.0, 50.0]</th>\n",
       "      <th>(5.0, 10.0]</th>\n",
       "      <th>(50.0, 100.0]</th>\n",
       "      <th>0</th>\n",
       "      <th>All</th>\n",
       "      <th>Fill</th>\n",
       "    </tr>\n",
       "  </thead>\n",
       "  <tbody>\n",
       "    <tr>\n",
       "      <th>Last Purchase</th>\n",
       "      <td>0.033321</td>\n",
       "      <td>0.028077</td>\n",
       "      <td>0.026239</td>\n",
       "      <td>0.025087</td>\n",
       "      <td>0.029007</td>\n",
       "      <td>0.026612</td>\n",
       "      <td>0.021053</td>\n",
       "      <td>0.025819</td>\n",
       "      <td>100.0</td>\n",
       "    </tr>\n",
       "  </tbody>\n",
       "</table>\n",
       "</div>"
      ],
      "text/plain": [
       "               (0.0, 5.0]  (10.0, 20.0]  (20.0, 35.0]  (35.0, 50.0]  \\\n",
       "Last Purchase    0.033321      0.028077      0.026239      0.025087   \n",
       "\n",
       "               (5.0, 10.0]  (50.0, 100.0]         0       All   Fill  \n",
       "Last Purchase     0.029007       0.026612  0.021053  0.025819  100.0  "
      ]
     },
     "metadata": {},
     "output_type": "display_data"
    },
    {
     "data": {
      "image/png": "[encoded data removed]",
      "text/plain": [
       "<Figure size 1584x432 with 5 Axes>"
      ]
     },
     "metadata": {},
     "output_type": "display_data"
    }
   ],
   "source": [
    "score = validation(real.article_id, prediction, groups, index='Last Purchase', ignore=0)"
   ]
  },
  {
   "cell_type": "markdown",
   "id": "31f42e76",
   "metadata": {
    "papermill": {
     "duration": 0.151145,
     "end_time": "2022-03-27T14:46:42.531956",
     "exception": false,
     "start_time": "2022-03-27T14:46:42.380811",
     "status": "completed"
    },
    "tags": []
   },
   "source": [
    "# 生成测试集"
   ]
  },
  {
   "cell_type": "code",
   "execution_count": 141,
   "id": "a64de634",
   "metadata": {
    "execution": {
     "iopub.execute_input": "2022-03-27T14:46:42.840234Z",
     "iopub.status.busy": "2022-03-27T14:46:42.839285Z",
     "iopub.status.idle": "2022-03-27T14:46:42.841120Z",
     "shell.execute_reply": "2022-03-27T14:46:42.841610Z",
     "shell.execute_reply.started": "2022-03-27T14:23:58.138880Z"
    },
    "papermill": {
     "duration": 0.157414,
     "end_time": "2022-03-27T14:46:42.841765",
     "exception": false,
     "start_time": "2022-03-27T14:46:42.684351",
     "status": "completed"
    },
    "tags": []
   },
   "outputs": [],
   "source": [
    "import datetime"
   ]
  },
  {
   "cell_type": "code",
   "execution_count": 142,
   "id": "16449e8e",
   "metadata": {
    "execution": {
     "iopub.execute_input": "2022-03-27T14:46:43.165586Z",
     "iopub.status.busy": "2022-03-27T14:46:43.164743Z",
     "iopub.status.idle": "2022-03-27T14:46:43.166858Z",
     "shell.execute_reply": "2022-03-27T14:46:43.167244Z",
     "shell.execute_reply.started": "2022-03-27T14:23:58.144266Z"
    },
    "papermill": {
     "duration": 0.161541,
     "end_time": "2022-03-27T14:46:43.167393",
     "exception": false,
     "start_time": "2022-03-27T14:46:43.005852",
     "status": "completed"
    },
    "tags": []
   },
   "outputs": [],
   "source": [
    "if Last_date == \"2020-09-22\":\n",
    "    sub[[\"customer_id\", \"prediction\"]].to_csv(\"sub_sz_{}.csv\".format(datetime.datetime.now().strftime('%Y-%m-%d %H:%M:%S')), index = False)"
   ]
  },
  {
   "cell_type": "code",
   "execution_count": 143,
   "id": "d72fdd82",
   "metadata": {
    "execution": {
     "iopub.execute_input": "2022-03-27T14:46:43.474105Z",
     "iopub.status.busy": "2022-03-27T14:46:43.473167Z",
     "iopub.status.idle": "2022-03-27T14:46:43.475255Z",
     "shell.execute_reply": "2022-03-27T14:46:43.475667Z"
    },
    "papermill": {
     "duration": 0.157441,
     "end_time": "2022-03-27T14:46:43.475826",
     "exception": false,
     "start_time": "2022-03-27T14:46:43.318385",
     "status": "completed"
    },
    "tags": []
   },
   "outputs": [],
   "source": [
    "del merge_result\n",
    "del sub\n",
    "del real"
   ]
  }
 ],
 "metadata": {
  "kernelspec": {
   "display_name": "Python 3",
   "language": "python",
   "name": "python3"
  },
  "language_info": {
   "codemirror_mode": {
    "name": "ipython",
    "version": 3
   },
   "file_extension": ".py",
   "mimetype": "text/x-python",
   "name": "python",
   "nbconvert_exporter": "python",
   "pygments_lexer": "ipython3",
   "version": "3.7.12"
  },
  "papermill": {
   "default_parameters": {},
   "duration": 270.19433,
   "end_time": "2022-03-27T14:46:45.862020",
   "environment_variables": {},
   "exception": null,
   "input_path": "__notebook__.ipynb",
   "output_path": "__notebook__.ipynb",
   "parameters": {},
   "start_time": "2022-03-27T14:42:15.667690",
   "version": "2.3.3"
  }
 },
 "nbformat": 4,
 "nbformat_minor": 5
}
