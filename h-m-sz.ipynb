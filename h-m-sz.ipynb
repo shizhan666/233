{
 "cells": [
  {
   "cell_type": "code",
   "execution_count": 1,
   "id": "f5feba93",
   "metadata": {
    "_cell_guid": "943588d1-5a68-423d-8467-cf160a3d8ebe",
    "_uuid": "87c89b79-df99-4e99-bf2e-f62a5d325cc4",
    "collapsed": false,
    "execution": {
     "iopub.execute_input": "2022-04-04T11:16:04.722630Z",
     "iopub.status.busy": "2022-04-04T11:16:04.721858Z",
     "iopub.status.idle": "2022-04-04T11:16:17.926566Z",
     "shell.execute_reply": "2022-04-04T11:16:17.925556Z",
     "shell.execute_reply.started": "2022-04-04T11:06:33.748706Z"
    },
    "jupyter": {
     "outputs_hidden": false
    },
    "papermill": {
     "duration": 13.472148,
     "end_time": "2022-04-04T11:16:17.926742",
     "exception": false,
     "start_time": "2022-04-04T11:16:04.454594",
     "status": "completed"
    },
    "tags": []
   },
   "outputs": [
    {
     "name": "stdout",
     "output_type": "stream",
     "text": [
      "Requirement already satisfied: cudf in /opt/conda/lib/python3.7/site-packages (21.10.1)\r\n",
      "Requirement already satisfied: numba>=0.53.1 in /opt/conda/lib/python3.7/site-packages (from cudf) (0.54.1)\r\n",
      "Requirement already satisfied: Cython<0.30,>=0.29 in /opt/conda/lib/python3.7/site-packages (from cudf) (0.29.28)\r\n",
      "Requirement already satisfied: fastavro>=0.22.9 in /opt/conda/lib/python3.7/site-packages (from cudf) (1.4.9)\r\n",
      "Requirement already satisfied: fsspec>=0.6.0 in /opt/conda/lib/python3.7/site-packages (from cudf) (2022.2.0)\r\n",
      "Requirement already satisfied: numpy in /opt/conda/lib/python3.7/site-packages (from cudf) (1.20.3)\r\n",
      "Requirement already satisfied: pandas<1.4.0dev0,>=1.0 in /opt/conda/lib/python3.7/site-packages (from cudf) (1.3.5)\r\n",
      "Requirement already satisfied: typing_extensions in /opt/conda/lib/python3.7/site-packages (from cudf) (4.1.1)\r\n",
      "Requirement already satisfied: protobuf in /opt/conda/lib/python3.7/site-packages (from cudf) (3.19.1)\r\n",
      "Requirement already satisfied: nvtx>=0.2.1 in /opt/conda/lib/python3.7/site-packages (from cudf) (0.2.3)\r\n",
      "Requirement already satisfied: cachetools in /opt/conda/lib/python3.7/site-packages (from cudf) (4.2.4)\r\n",
      "Requirement already satisfied: packaging in /opt/conda/lib/python3.7/site-packages (from cudf) (21.3)\r\n",
      "Requirement already satisfied: cupy-cuda110 in /opt/conda/lib/python3.7/site-packages (from cudf) (10.2.0)\r\n",
      "Requirement already satisfied: llvmlite<0.38,>=0.37.0rc1 in /opt/conda/lib/python3.7/site-packages (from numba>=0.53.1->cudf) (0.37.0)\r\n",
      "Requirement already satisfied: setuptools in /opt/conda/lib/python3.7/site-packages (from numba>=0.53.1->cudf) (59.5.0)\r\n",
      "Requirement already satisfied: python-dateutil>=2.7.3 in /opt/conda/lib/python3.7/site-packages (from pandas<1.4.0dev0,>=1.0->cudf) (2.8.2)\r\n",
      "Requirement already satisfied: pytz>=2017.3 in /opt/conda/lib/python3.7/site-packages (from pandas<1.4.0dev0,>=1.0->cudf) (2021.3)\r\n",
      "Requirement already satisfied: fastrlock>=0.5 in /opt/conda/lib/python3.7/site-packages (from cupy-cuda110->cudf) (0.8)\r\n",
      "Requirement already satisfied: pyparsing!=3.0.5,>=2.0.2 in /opt/conda/lib/python3.7/site-packages (from packaging->cudf) (3.0.6)\r\n",
      "Requirement already satisfied: six>=1.5 in /opt/conda/lib/python3.7/site-packages (from python-dateutil>=2.7.3->pandas<1.4.0dev0,>=1.0->cudf) (1.16.0)\r\n",
      "\u001b[33mWARNING: Running pip as the 'root' user can result in broken permissions and conflicting behaviour with the system package manager. It is recommended to use a virtual environment instead: https://pip.pypa.io/warnings/venv\u001b[0m\r\n"
     ]
    }
   ],
   "source": [
    "!pip install cudf\n",
    "import numpy as np\n",
    "import pandas as pd \n",
    "from datetime import datetime, timedelta\n",
    "import gc\n",
    "import cudf\n",
    "import cv2, matplotlib.pyplot as plt\n",
    "from os.path import exists"
   ]
  },
  {
   "cell_type": "code",
   "execution_count": 2,
   "id": "1e0de1e0",
   "metadata": {
    "execution": {
     "iopub.execute_input": "2022-04-04T11:16:18.232775Z",
     "iopub.status.busy": "2022-04-04T11:16:18.231875Z",
     "iopub.status.idle": "2022-04-04T11:16:18.234285Z",
     "shell.execute_reply": "2022-04-04T11:16:18.233722Z",
     "shell.execute_reply.started": "2022-04-04T11:06:46.588554Z"
    },
    "papermill": {
     "duration": 0.153481,
     "end_time": "2022-04-04T11:16:18.234400",
     "exception": false,
     "start_time": "2022-04-04T11:16:18.080919",
     "status": "completed"
    },
    "tags": []
   },
   "outputs": [],
   "source": [
    "Online = False"
   ]
  },
  {
   "cell_type": "markdown",
   "id": "f084297a",
   "metadata": {
    "_cell_guid": "8f45c56c-8de5-4a93-896b-80dc8c3005fa",
    "_uuid": "3e5aa678-d15b-457d-8a0f-c4a59a8f4c8a",
    "editable": false,
    "papermill": {
     "duration": 0.150863,
     "end_time": "2022-04-04T11:16:18.534113",
     "exception": false,
     "start_time": "2022-04-04T11:16:18.383250",
     "status": "completed"
    },
    "tags": []
   },
   "source": [
    "### Read the transactions data"
   ]
  },
  {
   "cell_type": "code",
   "execution_count": 3,
   "id": "b65aa551",
   "metadata": {
    "_cell_guid": "8b3aee1b-7f84-47d3-82cb-a5bdbbf77e31",
    "_uuid": "c6c96268-5baf-4620-a4e7-1032a366906d",
    "collapsed": false,
    "execution": {
     "iopub.execute_input": "2022-04-04T11:16:18.842772Z",
     "iopub.status.busy": "2022-04-04T11:16:18.842053Z",
     "iopub.status.idle": "2022-04-04T11:16:18.844852Z",
     "shell.execute_reply": "2022-04-04T11:16:18.844392Z",
     "shell.execute_reply.started": "2022-04-04T11:06:46.594907Z"
    },
    "jupyter": {
     "outputs_hidden": false
    },
    "papermill": {
     "duration": 0.161767,
     "end_time": "2022-04-04T11:16:18.844966",
     "exception": false,
     "start_time": "2022-04-04T11:16:18.683199",
     "status": "completed"
    },
    "tags": []
   },
   "outputs": [],
   "source": [
    "Date_week1 = pd.to_datetime(\"2020-09-16\")\n",
    "Date_week2 = pd.to_datetime(\"2020-09-09\")\n",
    "Date_week3 = pd.to_datetime(\"2020-09-02\")\n",
    "Last_date = pd.to_datetime(\"2020-09-22\")"
   ]
  },
  {
   "cell_type": "code",
   "execution_count": 4,
   "id": "1a178331",
   "metadata": {
    "_cell_guid": "42f55d04-09d5-4696-8c51-e25287bf8445",
    "_uuid": "f016e503-1e3c-45de-85b1-b8cd495d8f50",
    "collapsed": false,
    "execution": {
     "iopub.execute_input": "2022-04-04T11:16:19.149289Z",
     "iopub.status.busy": "2022-04-04T11:16:19.148482Z",
     "iopub.status.idle": "2022-04-04T11:16:19.150514Z",
     "shell.execute_reply": "2022-04-04T11:16:19.150885Z",
     "shell.execute_reply.started": "2022-04-04T11:06:46.611309Z"
    },
    "jupyter": {
     "outputs_hidden": false
    },
    "papermill": {
     "duration": 0.157147,
     "end_time": "2022-04-04T11:16:19.151028",
     "exception": false,
     "start_time": "2022-04-04T11:16:18.993881",
     "status": "completed"
    },
    "tags": []
   },
   "outputs": [],
   "source": [
    "N = 12"
   ]
  },
  {
   "cell_type": "code",
   "execution_count": 5,
   "id": "20b7c3c6",
   "metadata": {
    "_cell_guid": "f5173183-3b25-48a8-a23c-dc86064cdc05",
    "_uuid": "457cc772-8110-417f-88fd-bc20a5628c85",
    "collapsed": false,
    "execution": {
     "iopub.execute_input": "2022-04-04T11:16:19.450897Z",
     "iopub.status.busy": "2022-04-04T11:16:19.450397Z",
     "iopub.status.idle": "2022-04-04T11:16:58.009855Z",
     "shell.execute_reply": "2022-04-04T11:16:58.008952Z",
     "shell.execute_reply.started": "2022-04-04T11:06:46.619532Z"
    },
    "jupyter": {
     "outputs_hidden": false
    },
    "papermill": {
     "duration": 38.711249,
     "end_time": "2022-04-04T11:16:58.010020",
     "exception": false,
     "start_time": "2022-04-04T11:16:19.298771",
     "status": "completed"
    },
    "tags": []
   },
   "outputs": [],
   "source": [
    "df  = cudf.read_csv('../input/h-and-m-personalized-fashion-recommendations/transactions_train.csv')\n",
    "                            #usecols= ['t_dat', 'customer_id', 'article_id'], \n",
    "                            #dtype={'article_id': 'int32', 't_dat': 'string', 'customer_id': 'string', \"sales_channel_id\": 'int32', \"price\": \"float\"})\n",
    "df ['customer_id'] = df ['customer_id'].str[-16:].str.hex_to_int().astype('int64')\n",
    "df.article_id = df.article_id.astype('int32')\n",
    "df['t_dat'] = cudf.to_datetime(df['t_dat'])\n",
    "#Last_date = df['t_dat'].max()"
   ]
  },
  {
   "cell_type": "code",
   "execution_count": 6,
   "id": "6ada6563",
   "metadata": {
    "execution": {
     "iopub.execute_input": "2022-04-04T11:16:58.311483Z",
     "iopub.status.busy": "2022-04-04T11:16:58.310809Z",
     "iopub.status.idle": "2022-04-04T11:17:00.772678Z",
     "shell.execute_reply": "2022-04-04T11:17:00.772140Z",
     "shell.execute_reply.started": "2022-04-04T11:07:24.254200Z"
    },
    "papermill": {
     "duration": 2.613144,
     "end_time": "2022-04-04T11:17:00.772807",
     "exception": false,
     "start_time": "2022-04-04T11:16:58.159663",
     "status": "completed"
    },
    "tags": []
   },
   "outputs": [],
   "source": [
    "customer = cudf.read_csv('../input/h-and-m-personalized-fashion-recommendations/customers.csv')\n",
    "customer.customer_id = customer.customer_id.str[-16:].str.hex_to_int().astype('int64')"
   ]
  },
  {
   "cell_type": "code",
   "execution_count": 7,
   "id": "a9c217eb",
   "metadata": {
    "_cell_guid": "bac53a65-cb48-4e0e-86aa-0d5fbcb9ea43",
    "_uuid": "ee0ba74a-ccf5-4e41-992a-3e5586de5ef9",
    "collapsed": false,
    "execution": {
     "iopub.execute_input": "2022-04-04T11:17:01.085216Z",
     "iopub.status.busy": "2022-04-04T11:17:01.084389Z",
     "iopub.status.idle": "2022-04-04T11:17:01.146379Z",
     "shell.execute_reply": "2022-04-04T11:17:01.146826Z",
     "shell.execute_reply.started": "2022-04-04T11:07:26.643501Z"
    },
    "jupyter": {
     "outputs_hidden": false
    },
    "papermill": {
     "duration": 0.225611,
     "end_time": "2022-04-04T11:17:01.146967",
     "exception": false,
     "start_time": "2022-04-04T11:17:00.921356",
     "status": "completed"
    },
    "tags": []
   },
   "outputs": [
    {
     "data": {
      "text/html": [
       "<div>\n",
       "<style scoped>\n",
       "    .dataframe tbody tr th:only-of-type {\n",
       "        vertical-align: middle;\n",
       "    }\n",
       "\n",
       "    .dataframe tbody tr th {\n",
       "        vertical-align: top;\n",
       "    }\n",
       "\n",
       "    .dataframe thead th {\n",
       "        text-align: right;\n",
       "    }\n",
       "</style>\n",
       "<table border=\"1\" class=\"dataframe\">\n",
       "  <thead>\n",
       "    <tr style=\"text-align: right;\">\n",
       "      <th></th>\n",
       "      <th>t_dat</th>\n",
       "      <th>customer_id</th>\n",
       "      <th>article_id</th>\n",
       "      <th>price</th>\n",
       "      <th>sales_channel_id</th>\n",
       "    </tr>\n",
       "  </thead>\n",
       "  <tbody>\n",
       "    <tr>\n",
       "      <th>0</th>\n",
       "      <td>2018-09-20</td>\n",
       "      <td>-6846340800584936</td>\n",
       "      <td>663713001</td>\n",
       "      <td>0.050831</td>\n",
       "      <td>2</td>\n",
       "    </tr>\n",
       "    <tr>\n",
       "      <th>1</th>\n",
       "      <td>2018-09-20</td>\n",
       "      <td>-6846340800584936</td>\n",
       "      <td>541518023</td>\n",
       "      <td>0.030492</td>\n",
       "      <td>2</td>\n",
       "    </tr>\n",
       "    <tr>\n",
       "      <th>2</th>\n",
       "      <td>2018-09-20</td>\n",
       "      <td>-8334631767138808638</td>\n",
       "      <td>505221004</td>\n",
       "      <td>0.015237</td>\n",
       "      <td>2</td>\n",
       "    </tr>\n",
       "    <tr>\n",
       "      <th>3</th>\n",
       "      <td>2018-09-20</td>\n",
       "      <td>-8334631767138808638</td>\n",
       "      <td>685687003</td>\n",
       "      <td>0.016932</td>\n",
       "      <td>2</td>\n",
       "    </tr>\n",
       "    <tr>\n",
       "      <th>4</th>\n",
       "      <td>2018-09-20</td>\n",
       "      <td>-8334631767138808638</td>\n",
       "      <td>685687004</td>\n",
       "      <td>0.016932</td>\n",
       "      <td>2</td>\n",
       "    </tr>\n",
       "    <tr>\n",
       "      <th>...</th>\n",
       "      <td>...</td>\n",
       "      <td>...</td>\n",
       "      <td>...</td>\n",
       "      <td>...</td>\n",
       "      <td>...</td>\n",
       "    </tr>\n",
       "    <tr>\n",
       "      <th>31788319</th>\n",
       "      <td>2020-09-22</td>\n",
       "      <td>4685485978980270934</td>\n",
       "      <td>929511001</td>\n",
       "      <td>0.059305</td>\n",
       "      <td>2</td>\n",
       "    </tr>\n",
       "    <tr>\n",
       "      <th>31788320</th>\n",
       "      <td>2020-09-22</td>\n",
       "      <td>4685485978980270934</td>\n",
       "      <td>891322004</td>\n",
       "      <td>0.042356</td>\n",
       "      <td>2</td>\n",
       "    </tr>\n",
       "    <tr>\n",
       "      <th>31788321</th>\n",
       "      <td>2020-09-22</td>\n",
       "      <td>3959348689921271969</td>\n",
       "      <td>918325001</td>\n",
       "      <td>0.043203</td>\n",
       "      <td>1</td>\n",
       "    </tr>\n",
       "    <tr>\n",
       "      <th>31788322</th>\n",
       "      <td>2020-09-22</td>\n",
       "      <td>-8639340045377511665</td>\n",
       "      <td>833459002</td>\n",
       "      <td>0.006763</td>\n",
       "      <td>1</td>\n",
       "    </tr>\n",
       "    <tr>\n",
       "      <th>31788323</th>\n",
       "      <td>2020-09-22</td>\n",
       "      <td>3235222691137941515</td>\n",
       "      <td>898573003</td>\n",
       "      <td>0.033881</td>\n",
       "      <td>2</td>\n",
       "    </tr>\n",
       "  </tbody>\n",
       "</table>\n",
       "<p>31788324 rows × 5 columns</p>\n",
       "</div>"
      ],
      "text/plain": [
       "              t_dat          customer_id  article_id     price  \\\n",
       "0        2018-09-20    -6846340800584936   663713001  0.050831   \n",
       "1        2018-09-20    -6846340800584936   541518023  0.030492   \n",
       "2        2018-09-20 -8334631767138808638   505221004  0.015237   \n",
       "3        2018-09-20 -8334631767138808638   685687003  0.016932   \n",
       "4        2018-09-20 -8334631767138808638   685687004  0.016932   \n",
       "...             ...                  ...         ...       ...   \n",
       "31788319 2020-09-22  4685485978980270934   929511001  0.059305   \n",
       "31788320 2020-09-22  4685485978980270934   891322004  0.042356   \n",
       "31788321 2020-09-22  3959348689921271969   918325001  0.043203   \n",
       "31788322 2020-09-22 -8639340045377511665   833459002  0.006763   \n",
       "31788323 2020-09-22  3235222691137941515   898573003  0.033881   \n",
       "\n",
       "          sales_channel_id  \n",
       "0                        2  \n",
       "1                        2  \n",
       "2                        2  \n",
       "3                        2  \n",
       "4                        2  \n",
       "...                    ...  \n",
       "31788319                 2  \n",
       "31788320                 2  \n",
       "31788321                 1  \n",
       "31788322                 1  \n",
       "31788323                 2  \n",
       "\n",
       "[31788324 rows x 5 columns]"
      ]
     },
     "execution_count": 7,
     "metadata": {},
     "output_type": "execute_result"
    }
   ],
   "source": [
    "df"
   ]
  },
  {
   "cell_type": "markdown",
   "id": "e1f55b38",
   "metadata": {
    "_cell_guid": "a2bb9afc-941f-4d6d-8626-08a24cc75596",
    "_uuid": "bc214126-6a44-4324-b210-7d7128d4135c",
    "editable": false,
    "papermill": {
     "duration": 0.146247,
     "end_time": "2022-04-04T11:17:01.439152",
     "exception": false,
     "start_time": "2022-04-04T11:17:01.292905",
     "status": "completed"
    },
    "tags": []
   },
   "source": [
    "## 划分训练集和验证集"
   ]
  },
  {
   "cell_type": "code",
   "execution_count": 8,
   "id": "cdad2529",
   "metadata": {
    "_cell_guid": "355420f0-15d4-4897-8c8b-51774593e37a",
    "_uuid": "6be7cca0-d9d3-4073-bf36-b2ebd1ff67f3",
    "collapsed": false,
    "execution": {
     "iopub.execute_input": "2022-04-04T11:17:01.748358Z",
     "iopub.status.busy": "2022-04-04T11:17:01.744982Z",
     "iopub.status.idle": "2022-04-04T11:17:01.800609Z",
     "shell.execute_reply": "2022-04-04T11:17:01.800163Z",
     "shell.execute_reply.started": "2022-04-04T11:07:26.721605Z"
    },
    "jupyter": {
     "outputs_hidden": false
    },
    "papermill": {
     "duration": 0.21625,
     "end_time": "2022-04-04T11:17:01.800725",
     "exception": false,
     "start_time": "2022-04-04T11:17:01.584475",
     "status": "completed"
    },
    "tags": []
   },
   "outputs": [],
   "source": [
    "if not Online:\n",
    "    val = df[df['t_dat']>= Date_week1].copy()\n",
    "    train = df[df['t_dat']< Date_week1].copy()\n",
    "    Last_date = pd.to_datetime(\"2020-09-15\")\n",
    "    Date_week1 = pd.to_datetime(\"2020-09-09\")\n",
    "    Date_week2 = pd.to_datetime(\"2020-09-02\")\n",
    "    Date_week3 = pd.to_datetime(\"2020-08-26\")\n",
    "if Online:\n",
    "    train = df"
   ]
  },
  {
   "cell_type": "markdown",
   "id": "88ea4108",
   "metadata": {
    "_cell_guid": "999e62e2-bc69-4e57-8257-a697a4624746",
    "_uuid": "1ee572b2-3480-4409-bc02-907628099774",
    "editable": false,
    "papermill": {
     "duration": 0.146418,
     "end_time": "2022-04-04T11:17:02.093328",
     "exception": false,
     "start_time": "2022-04-04T11:17:01.946910",
     "status": "completed"
    },
    "tags": []
   },
   "source": [
    "## 第一路：复购预测"
   ]
  },
  {
   "cell_type": "code",
   "execution_count": 9,
   "id": "67b5d436",
   "metadata": {
    "_cell_guid": "bff88d78-99b3-4e25-ac4b-b7cc4157ceee",
    "_uuid": "1dabaf8d-b904-4d4c-a584-cdfaf4199a39",
    "collapsed": false,
    "execution": {
     "iopub.execute_input": "2022-04-04T11:17:02.391935Z",
     "iopub.status.busy": "2022-04-04T11:17:02.391137Z",
     "iopub.status.idle": "2022-04-04T11:17:02.397844Z",
     "shell.execute_reply": "2022-04-04T11:17:02.397379Z",
     "shell.execute_reply.started": "2022-04-04T11:07:26.781898Z"
    },
    "jupyter": {
     "outputs_hidden": false
    },
    "papermill": {
     "duration": 0.156608,
     "end_time": "2022-04-04T11:17:02.397952",
     "exception": false,
     "start_time": "2022-04-04T11:17:02.241344",
     "status": "completed"
    },
    "tags": []
   },
   "outputs": [],
   "source": [
    "df = train.copy()"
   ]
  },
  {
   "cell_type": "code",
   "execution_count": 10,
   "id": "434f2cde",
   "metadata": {
    "_cell_guid": "032f0009-7b2d-434f-892c-22d7362be933",
    "_uuid": "c445f3e2-77ca-4e38-ae10-9d0150b0ef87",
    "collapsed": false,
    "execution": {
     "iopub.execute_input": "2022-04-04T11:17:02.704770Z",
     "iopub.status.busy": "2022-04-04T11:17:02.703865Z",
     "iopub.status.idle": "2022-04-04T11:17:10.311548Z",
     "shell.execute_reply": "2022-04-04T11:17:10.310830Z",
     "shell.execute_reply.started": "2022-04-04T11:07:26.807849Z"
    },
    "jupyter": {
     "outputs_hidden": false
    },
    "papermill": {
     "duration": 7.759731,
     "end_time": "2022-04-04T11:17:10.311715",
     "exception": false,
     "start_time": "2022-04-04T11:17:02.551984",
     "status": "completed"
    },
    "tags": []
   },
   "outputs": [
    {
     "name": "stdout",
     "output_type": "stream",
     "text": [
      "CPU times: user 6.18 s, sys: 1.57 s, total: 7.74 s\n",
      "Wall time: 7.6 s\n"
     ]
    }
   ],
   "source": [
    "%%time\n",
    "tmp = df[['t_dat']].copy().to_pandas()\n",
    "tmp['dow'] = tmp['t_dat'].dt.dayofweek\n",
    "tmp['ldbw'] = tmp['t_dat'] - pd.TimedeltaIndex(tmp['dow'] - 1, unit='D')\n",
    "tmp.loc[tmp['dow'] >=2 , 'ldbw'] = tmp.loc[tmp['dow'] >=2 , 'ldbw'] + pd.TimedeltaIndex(np.ones(len(tmp.loc[tmp['dow'] >=2])) * 7, unit='D')\n",
    "df['ldbw'] = tmp['ldbw'].values"
   ]
  },
  {
   "cell_type": "code",
   "execution_count": 11,
   "id": "0f2b8177",
   "metadata": {
    "_cell_guid": "98650a14-be49-4ea6-932d-46db33e46a52",
    "_uuid": "e2d8bb01-263f-443e-91e0-c13ac5a6cb78",
    "collapsed": false,
    "execution": {
     "iopub.execute_input": "2022-04-04T11:17:10.752690Z",
     "iopub.status.busy": "2022-04-04T11:17:10.751667Z",
     "iopub.status.idle": "2022-04-04T11:17:10.887538Z",
     "shell.execute_reply": "2022-04-04T11:17:10.886888Z",
     "shell.execute_reply.started": "2022-04-04T11:07:34.586766Z"
    },
    "jupyter": {
     "outputs_hidden": false
    },
    "papermill": {
     "duration": 0.425147,
     "end_time": "2022-04-04T11:17:10.887704",
     "exception": false,
     "start_time": "2022-04-04T11:17:10.462557",
     "status": "completed"
    },
    "tags": []
   },
   "outputs": [],
   "source": [
    "weekly_sales = df.drop('customer_id', axis=1).groupby(['ldbw', 'article_id']).count().reset_index()\n",
    "weekly_sales = weekly_sales.rename(columns={'t_dat': 'count'})"
   ]
  },
  {
   "cell_type": "code",
   "execution_count": 12,
   "id": "c0188903",
   "metadata": {
    "_cell_guid": "1a1d9928-b6b1-4ef1-9bc4-b1d90278521d",
    "_uuid": "55308baf-b51a-4f25-9b36-6948ac902f90",
    "collapsed": false,
    "execution": {
     "iopub.execute_input": "2022-04-04T11:17:11.304137Z",
     "iopub.status.busy": "2022-04-04T11:17:11.303572Z",
     "iopub.status.idle": "2022-04-04T11:17:11.380710Z",
     "shell.execute_reply": "2022-04-04T11:17:11.380203Z",
     "shell.execute_reply.started": "2022-04-04T11:07:34.725937Z"
    },
    "jupyter": {
     "outputs_hidden": false
    },
    "papermill": {
     "duration": 0.275278,
     "end_time": "2022-04-04T11:17:11.380825",
     "exception": false,
     "start_time": "2022-04-04T11:17:11.105547",
     "status": "completed"
    },
    "tags": []
   },
   "outputs": [],
   "source": [
    "df = df.merge(weekly_sales, on=['ldbw', 'article_id'], how = 'left')"
   ]
  },
  {
   "cell_type": "markdown",
   "id": "3899cf0e",
   "metadata": {
    "_cell_guid": "ae404e56-067c-4b09-b999-1a2f98a5537a",
    "_uuid": "6274d245-d8c6-4c72-825d-2bb4be0da696",
    "editable": false,
    "papermill": {
     "duration": 0.146252,
     "end_time": "2022-04-04T11:17:11.677068",
     "exception": false,
     "start_time": "2022-04-04T11:17:11.530816",
     "status": "completed"
    },
    "tags": []
   },
   "source": [
    "### Let's assume that in the target week sales will be similar to the last week of the training data"
   ]
  },
  {
   "cell_type": "code",
   "execution_count": 13,
   "id": "54aaf8a3",
   "metadata": {
    "_cell_guid": "ce554581-cb66-4f98-8e33-2ccf2bd34d28",
    "_uuid": "6e1f0c8e-e73e-486a-bb83-cd8737cee56c",
    "collapsed": false,
    "execution": {
     "iopub.execute_input": "2022-04-04T11:17:11.978753Z",
     "iopub.status.busy": "2022-04-04T11:17:11.978024Z",
     "iopub.status.idle": "2022-04-04T11:17:12.080894Z",
     "shell.execute_reply": "2022-04-04T11:17:12.080358Z",
     "shell.execute_reply.started": "2022-04-04T11:07:34.856884Z"
    },
    "jupyter": {
     "outputs_hidden": false
    },
    "papermill": {
     "duration": 0.256237,
     "end_time": "2022-04-04T11:17:12.081030",
     "exception": false,
     "start_time": "2022-04-04T11:17:11.824793",
     "status": "completed"
    },
    "tags": []
   },
   "outputs": [],
   "source": [
    "weekly_sales = weekly_sales.reset_index().set_index('article_id')\n",
    "\n",
    "df = df.merge(\n",
    "    weekly_sales.loc[weekly_sales['ldbw']==Last_date, ['count']],\n",
    "    on='article_id', suffixes=(\"\", \"_targ\"))\n",
    "\n",
    "df['count_targ'].fillna(0, inplace=True)"
   ]
  },
  {
   "cell_type": "markdown",
   "id": "b0a382fe",
   "metadata": {
    "_cell_guid": "abb99ddb-6823-4abe-977c-589188ac046f",
    "_uuid": "ceee0be8-8e3b-48d2-bb45-23dcfaeaa991",
    "editable": false,
    "papermill": {
     "duration": 0.145987,
     "end_time": "2022-04-04T11:17:12.377002",
     "exception": false,
     "start_time": "2022-04-04T11:17:12.231015",
     "status": "completed"
    },
    "tags": []
   },
   "source": [
    "### Calculate sales rate adjusted for changes in product popularity"
   ]
  },
  {
   "cell_type": "code",
   "execution_count": 14,
   "id": "eab4b696",
   "metadata": {
    "_cell_guid": "d2d93f8a-81c9-455e-95ed-d6889fdb5b5e",
    "_uuid": "f95bc088-2d68-4c09-a13e-75a803dd994a",
    "collapsed": false,
    "execution": {
     "iopub.execute_input": "2022-04-04T11:17:12.680561Z",
     "iopub.status.busy": "2022-04-04T11:17:12.679759Z",
     "iopub.status.idle": "2022-04-04T11:17:12.684741Z",
     "shell.execute_reply": "2022-04-04T11:17:12.684237Z",
     "shell.execute_reply.started": "2022-04-04T11:07:34.988697Z"
    },
    "jupyter": {
     "outputs_hidden": false
    },
    "papermill": {
     "duration": 0.153751,
     "end_time": "2022-04-04T11:17:12.684850",
     "exception": false,
     "start_time": "2022-04-04T11:17:12.531099",
     "status": "completed"
    },
    "tags": []
   },
   "outputs": [],
   "source": [
    "df['quotient'] = df['count_targ'] / df['count']"
   ]
  },
  {
   "cell_type": "markdown",
   "id": "481911bb",
   "metadata": {
    "_cell_guid": "a6429b7c-f1cd-4587-965b-bf5f90d70337",
    "_uuid": "3d2d2d38-0011-46ba-b048-7eec7c0b1837",
    "editable": false,
    "papermill": {
     "duration": 0.147836,
     "end_time": "2022-04-04T11:17:12.978614",
     "exception": false,
     "start_time": "2022-04-04T11:17:12.830778",
     "status": "completed"
    },
    "tags": []
   },
   "source": [
    "### Take supposedly popular products"
   ]
  },
  {
   "cell_type": "code",
   "execution_count": 15,
   "id": "fe640ca0",
   "metadata": {
    "_cell_guid": "0a483863-fd58-495d-bd36-2573b79ebb4d",
    "_uuid": "bfb82339-c575-478e-a364-93c10b22ae06",
    "collapsed": false,
    "execution": {
     "iopub.execute_input": "2022-04-04T11:17:13.275839Z",
     "iopub.status.busy": "2022-04-04T11:17:13.275093Z",
     "iopub.status.idle": "2022-04-04T11:17:13.277040Z",
     "shell.execute_reply": "2022-04-04T11:17:13.277473Z",
     "shell.execute_reply.started": "2022-04-04T11:07:35.002080Z"
    },
    "jupyter": {
     "outputs_hidden": false
    },
    "papermill": {
     "duration": 0.152111,
     "end_time": "2022-04-04T11:17:13.277604",
     "exception": false,
     "start_time": "2022-04-04T11:17:13.125493",
     "status": "completed"
    },
    "tags": []
   },
   "outputs": [],
   "source": [
    "# target_sales = df.drop('customer_id', axis=1).groupby('article_id')['quotient'].sum()\n",
    "# general_pred = target_sales.nlargest(N).index.to_pandas().tolist()\n",
    "# general_pred = ['0' + str(article_id) for article_id in general_pred]\n",
    "# general_pred_str =  ' '.join(general_pred)\n",
    "# del target_sales"
   ]
  },
  {
   "cell_type": "code",
   "execution_count": 16,
   "id": "b95bebcd",
   "metadata": {
    "_cell_guid": "33e56ebf-4eaf-4cb3-a315-f59a0846a4a2",
    "_uuid": "db8e3029-e2b0-44f0-81b0-07fd51736491",
    "collapsed": false,
    "execution": {
     "iopub.execute_input": "2022-04-04T11:17:13.572709Z",
     "iopub.status.busy": "2022-04-04T11:17:13.571984Z",
     "iopub.status.idle": "2022-04-04T11:17:13.574538Z",
     "shell.execute_reply": "2022-04-04T11:17:13.574095Z",
     "shell.execute_reply.started": "2022-04-04T11:07:35.007809Z"
    },
    "jupyter": {
     "outputs_hidden": false
    },
    "papermill": {
     "duration": 0.151717,
     "end_time": "2022-04-04T11:17:13.574652",
     "exception": false,
     "start_time": "2022-04-04T11:17:13.422935",
     "status": "completed"
    },
    "tags": []
   },
   "outputs": [],
   "source": [
    "# general_pred # Exactly same with the original notebook!"
   ]
  },
  {
   "cell_type": "code",
   "execution_count": 17,
   "id": "a857245a",
   "metadata": {
    "_cell_guid": "39bda420-023a-4550-a35f-9f39f45fae0a",
    "_uuid": "a9d65615-d07f-4e2b-a09f-f5c352d9d3a6",
    "collapsed": false,
    "execution": {
     "iopub.execute_input": "2022-04-04T11:17:14.045854Z",
     "iopub.status.busy": "2022-04-04T11:17:14.044068Z",
     "iopub.status.idle": "2022-04-04T11:17:14.046739Z",
     "shell.execute_reply": "2022-04-04T11:17:14.047435Z",
     "shell.execute_reply.started": "2022-04-04T11:07:35.018753Z"
    },
    "jupyter": {
     "outputs_hidden": false
    },
    "papermill": {
     "duration": 0.256116,
     "end_time": "2022-04-04T11:17:14.047632",
     "exception": false,
     "start_time": "2022-04-04T11:17:13.791516",
     "status": "completed"
    },
    "tags": []
   },
   "outputs": [],
   "source": [
    "# general_pred_str"
   ]
  },
  {
   "cell_type": "markdown",
   "id": "15fd3512",
   "metadata": {
    "_cell_guid": "778698f4-153b-4ef0-8671-28e35f6b16a2",
    "_uuid": "e3b40a3b-e584-47ea-a48d-b06caef50eb3",
    "editable": false,
    "papermill": {
     "duration": 0.26025,
     "end_time": "2022-04-04T11:17:14.561650",
     "exception": false,
     "start_time": "2022-04-04T11:17:14.301400",
     "status": "completed"
    },
    "tags": []
   },
   "source": [
    "### Fill in purchase dictionary"
   ]
  },
  {
   "cell_type": "code",
   "execution_count": 18,
   "id": "942f9276",
   "metadata": {
    "_cell_guid": "d5240757-0318-4ebc-9ccd-c9c362c86c76",
    "_uuid": "0f878843-4016-4d61-a04d-2ed6f30dcdf8",
    "collapsed": false,
    "execution": {
     "iopub.execute_input": "2022-04-04T11:17:15.034987Z",
     "iopub.status.busy": "2022-04-04T11:17:15.034127Z",
     "iopub.status.idle": "2022-04-04T11:17:33.952198Z",
     "shell.execute_reply": "2022-04-04T11:17:33.952744Z",
     "shell.execute_reply.started": "2022-04-04T11:07:35.025796Z"
    },
    "jupyter": {
     "outputs_hidden": false
    },
    "papermill": {
     "duration": 19.109727,
     "end_time": "2022-04-04T11:17:33.952893",
     "exception": false,
     "start_time": "2022-04-04T11:17:14.843166",
     "status": "completed"
    },
    "tags": []
   },
   "outputs": [
    {
     "name": "stdout",
     "output_type": "stream",
     "text": [
      "CPU times: user 15.6 s, sys: 5.16 s, total: 20.7 s\n",
      "Wall time: 18.9 s\n"
     ]
    }
   ],
   "source": [
    "%%time\n",
    "purchase_dict = {}\n",
    "\n",
    "tmp = df.copy().to_pandas()\n",
    "tmp['x'] = ((Last_date - tmp['t_dat']) / np.timedelta64(1, 'D')).astype(int)\n",
    "tmp['dummy_1'] = 1 \n",
    "tmp['x'] = tmp[[\"x\", \"dummy_1\"]].max(axis=1)\n",
    "\n",
    "a, b, c, d = 2.5e4, 1.5e5, 2e-1, 1e3\n",
    "total = 1715530\n",
    "tmp['y'] = ((a / np.sqrt(tmp['x']) + b * np.exp(-c*tmp['x']) - d) / total +\\\n",
    "(a / np.sqrt(tmp['x']+1) + b * np.exp(-c*(tmp['x']+1)) - d) / total +\\\n",
    "(a / np.sqrt(tmp['x']+2) + b * np.exp(-c*(tmp['x']+2)) - d) / total +\\\n",
    "(a / np.sqrt(tmp['x']+3) + b * np.exp(-c*(tmp['x']+3)) - d) / total +\\\n",
    "(a / np.sqrt(tmp['x']+4) + b * np.exp(-c*(tmp['x']+4)) - d) / total +\\\n",
    "(a / np.sqrt(tmp['x']+5) + b * np.exp(-c*(tmp['x']+5)) - d) / total +\\\n",
    "(a / np.sqrt(tmp['x']+6) + b * np.exp(-c*(tmp['x']+6)) - d) / total)\n",
    "\n",
    "tmp['dummy_0'] = 0 \n",
    "tmp['y'] = tmp[[\"y\", \"dummy_0\"]].max(axis=1)\n",
    "tmp['score'] = tmp['quotient'] * tmp['y'] \n",
    "\n",
    "tmp = tmp.groupby(['customer_id', 'article_id']).agg({'score': 'sum'})\n",
    "tmp = tmp.reset_index()\n",
    "\n",
    "tmp = tmp.loc[tmp['score'] > 0]\n",
    "tmp['rank'] = tmp.groupby(\"customer_id\")[\"score\"].rank(\"dense\", ascending=False)\n",
    "tmp = tmp.loc[tmp['rank'] <= 30]\n",
    "tmp[\"source\"] = 1\n",
    "\n",
    "result1 = tmp[[\"customer_id\", \"article_id\", \"source\", \"score\", \"rank\"]]"
   ]
  },
  {
   "cell_type": "code",
   "execution_count": 19,
   "id": "5abce5c3",
   "metadata": {
    "_cell_guid": "b01bc6f5-2794-4716-b664-a2ee01a25c06",
    "_uuid": "f187454d-2a81-4f76-9447-4eb568edac91",
    "collapsed": false,
    "execution": {
     "iopub.execute_input": "2022-04-04T11:17:34.416735Z",
     "iopub.status.busy": "2022-04-04T11:17:34.414993Z",
     "iopub.status.idle": "2022-04-04T11:17:34.418945Z",
     "shell.execute_reply": "2022-04-04T11:17:34.418477Z",
     "shell.execute_reply.started": "2022-04-04T11:07:53.691015Z"
    },
    "jupyter": {
     "outputs_hidden": false
    },
    "papermill": {
     "duration": 0.315441,
     "end_time": "2022-04-04T11:17:34.419081",
     "exception": false,
     "start_time": "2022-04-04T11:17:34.103640",
     "status": "completed"
    },
    "tags": []
   },
   "outputs": [
    {
     "data": {
      "text/plain": [
       "216"
      ]
     },
     "execution_count": 19,
     "metadata": {},
     "output_type": "execute_result"
    }
   ],
   "source": [
    "del weekly_sales\n",
    "del df\n",
    "del tmp\n",
    "gc.collect()"
   ]
  },
  {
   "cell_type": "code",
   "execution_count": 20,
   "id": "f71330c9",
   "metadata": {
    "_cell_guid": "798e93e0-008b-49cc-a841-60ed2ba8db5f",
    "_uuid": "23bd5ddb-43db-40c9-9296-b750777c95e3",
    "collapsed": false,
    "execution": {
     "iopub.execute_input": "2022-04-04T11:17:34.724104Z",
     "iopub.status.busy": "2022-04-04T11:17:34.723310Z",
     "iopub.status.idle": "2022-04-04T11:17:34.734348Z",
     "shell.execute_reply": "2022-04-04T11:17:34.733757Z",
     "shell.execute_reply.started": "2022-04-04T11:07:53.903821Z"
    },
    "jupyter": {
     "outputs_hidden": false
    },
    "papermill": {
     "duration": 0.164398,
     "end_time": "2022-04-04T11:17:34.734490",
     "exception": false,
     "start_time": "2022-04-04T11:17:34.570092",
     "status": "completed"
    },
    "tags": []
   },
   "outputs": [
    {
     "data": {
      "text/html": [
       "<div>\n",
       "<style scoped>\n",
       "    .dataframe tbody tr th:only-of-type {\n",
       "        vertical-align: middle;\n",
       "    }\n",
       "\n",
       "    .dataframe tbody tr th {\n",
       "        vertical-align: top;\n",
       "    }\n",
       "\n",
       "    .dataframe thead th {\n",
       "        text-align: right;\n",
       "    }\n",
       "</style>\n",
       "<table border=\"1\" class=\"dataframe\">\n",
       "  <thead>\n",
       "    <tr style=\"text-align: right;\">\n",
       "      <th></th>\n",
       "      <th>customer_id</th>\n",
       "      <th>article_id</th>\n",
       "      <th>source</th>\n",
       "      <th>score</th>\n",
       "      <th>rank</th>\n",
       "    </tr>\n",
       "  </thead>\n",
       "  <tbody>\n",
       "    <tr>\n",
       "      <th>0</th>\n",
       "      <td>-9223352921020755230</td>\n",
       "      <td>568597006</td>\n",
       "      <td>1</td>\n",
       "      <td>0.000559</td>\n",
       "      <td>5.0</td>\n",
       "    </tr>\n",
       "    <tr>\n",
       "      <th>1</th>\n",
       "      <td>-9223352921020755230</td>\n",
       "      <td>673396002</td>\n",
       "      <td>1</td>\n",
       "      <td>0.044511</td>\n",
       "      <td>1.0</td>\n",
       "    </tr>\n",
       "    <tr>\n",
       "      <th>2</th>\n",
       "      <td>-9223352921020755230</td>\n",
       "      <td>706016001</td>\n",
       "      <td>1</td>\n",
       "      <td>0.003289</td>\n",
       "      <td>4.0</td>\n",
       "    </tr>\n",
       "    <tr>\n",
       "      <th>3</th>\n",
       "      <td>-9223352921020755230</td>\n",
       "      <td>812167004</td>\n",
       "      <td>1</td>\n",
       "      <td>0.019179</td>\n",
       "      <td>2.0</td>\n",
       "    </tr>\n",
       "    <tr>\n",
       "      <th>4</th>\n",
       "      <td>-9223352921020755230</td>\n",
       "      <td>849493006</td>\n",
       "      <td>1</td>\n",
       "      <td>0.006174</td>\n",
       "      <td>3.0</td>\n",
       "    </tr>\n",
       "    <tr>\n",
       "      <th>...</th>\n",
       "      <td>...</td>\n",
       "      <td>...</td>\n",
       "      <td>...</td>\n",
       "      <td>...</td>\n",
       "      <td>...</td>\n",
       "    </tr>\n",
       "    <tr>\n",
       "      <th>10844244</th>\n",
       "      <td>9223301031927667525</td>\n",
       "      <td>719957006</td>\n",
       "      <td>1</td>\n",
       "      <td>0.000026</td>\n",
       "      <td>1.0</td>\n",
       "    </tr>\n",
       "    <tr>\n",
       "      <th>10844245</th>\n",
       "      <td>9223333063893176977</td>\n",
       "      <td>658030020</td>\n",
       "      <td>1</td>\n",
       "      <td>0.000038</td>\n",
       "      <td>1.0</td>\n",
       "    </tr>\n",
       "    <tr>\n",
       "      <th>10844246</th>\n",
       "      <td>9223357421094039679</td>\n",
       "      <td>747984001</td>\n",
       "      <td>1</td>\n",
       "      <td>0.000010</td>\n",
       "      <td>2.0</td>\n",
       "    </tr>\n",
       "    <tr>\n",
       "      <th>10844247</th>\n",
       "      <td>9223357421094039679</td>\n",
       "      <td>747984002</td>\n",
       "      <td>1</td>\n",
       "      <td>0.000053</td>\n",
       "      <td>1.0</td>\n",
       "    </tr>\n",
       "    <tr>\n",
       "      <th>10844248</th>\n",
       "      <td>9223370729206611574</td>\n",
       "      <td>781758003</td>\n",
       "      <td>1</td>\n",
       "      <td>0.001461</td>\n",
       "      <td>1.0</td>\n",
       "    </tr>\n",
       "  </tbody>\n",
       "</table>\n",
       "<p>9243111 rows × 5 columns</p>\n",
       "</div>"
      ],
      "text/plain": [
       "                  customer_id  article_id  source     score  rank\n",
       "0        -9223352921020755230   568597006       1  0.000559   5.0\n",
       "1        -9223352921020755230   673396002       1  0.044511   1.0\n",
       "2        -9223352921020755230   706016001       1  0.003289   4.0\n",
       "3        -9223352921020755230   812167004       1  0.019179   2.0\n",
       "4        -9223352921020755230   849493006       1  0.006174   3.0\n",
       "...                       ...         ...     ...       ...   ...\n",
       "10844244  9223301031927667525   719957006       1  0.000026   1.0\n",
       "10844245  9223333063893176977   658030020       1  0.000038   1.0\n",
       "10844246  9223357421094039679   747984001       1  0.000010   2.0\n",
       "10844247  9223357421094039679   747984002       1  0.000053   1.0\n",
       "10844248  9223370729206611574   781758003       1  0.001461   1.0\n",
       "\n",
       "[9243111 rows x 5 columns]"
      ]
     },
     "execution_count": 20,
     "metadata": {},
     "output_type": "execute_result"
    }
   ],
   "source": [
    "result1"
   ]
  },
  {
   "cell_type": "code",
   "execution_count": 21,
   "id": "71e030b5",
   "metadata": {
    "_cell_guid": "69744f5f-6800-4656-ab87-032868f3159b",
    "_uuid": "abb5c1f0-cf31-4307-9b3a-abe63a3d8ac6",
    "collapsed": false,
    "execution": {
     "iopub.execute_input": "2022-04-04T11:17:35.042712Z",
     "iopub.status.busy": "2022-04-04T11:17:35.041854Z",
     "iopub.status.idle": "2022-04-04T11:17:35.044305Z",
     "shell.execute_reply": "2022-04-04T11:17:35.043868Z",
     "shell.execute_reply.started": "2022-04-04T11:07:53.920587Z"
    },
    "jupyter": {
     "outputs_hidden": false
    },
    "papermill": {
     "duration": 0.160838,
     "end_time": "2022-04-04T11:17:35.044422",
     "exception": false,
     "start_time": "2022-04-04T11:17:34.883584",
     "status": "completed"
    },
    "tags": []
   },
   "outputs": [],
   "source": [
    "#result1.to_csv(\"/kaggle/working/result1.csv\", index = False)"
   ]
  },
  {
   "cell_type": "markdown",
   "id": "c3379f15",
   "metadata": {
    "_cell_guid": "fed50a0c-3f74-4c68-b4b9-40ca198ca0ce",
    "_uuid": "2d887bc0-dff0-4160-a2bf-e867e2984119",
    "editable": false,
    "execution": {
     "iopub.execute_input": "2022-03-19T09:13:27.534287Z",
     "iopub.status.busy": "2022-03-19T09:13:27.534029Z",
     "iopub.status.idle": "2022-03-19T09:13:27.537763Z",
     "shell.execute_reply": "2022-03-19T09:13:27.536825Z",
     "shell.execute_reply.started": "2022-03-19T09:13:27.534257Z"
    },
    "papermill": {
     "duration": 0.147348,
     "end_time": "2022-04-04T11:17:35.341332",
     "exception": false,
     "start_time": "2022-04-04T11:17:35.193984",
     "status": "completed"
    },
    "tags": []
   },
   "source": [
    "## 第二路：相似复购"
   ]
  },
  {
   "cell_type": "code",
   "execution_count": 22,
   "id": "becad341",
   "metadata": {
    "_cell_guid": "54567f40-5feb-4c26-99bd-c09a96a91605",
    "_uuid": "699bb5a0-a19f-4ced-909c-fdaac18f5dd1",
    "collapsed": false,
    "execution": {
     "iopub.execute_input": "2022-04-04T11:17:35.651438Z",
     "iopub.status.busy": "2022-04-04T11:17:35.650621Z",
     "iopub.status.idle": "2022-04-04T11:17:42.831600Z",
     "shell.execute_reply": "2022-04-04T11:17:42.831075Z",
     "shell.execute_reply.started": "2022-04-04T11:07:53.927149Z"
    },
    "jupyter": {
     "outputs_hidden": false
    },
    "papermill": {
     "duration": 7.342656,
     "end_time": "2022-04-04T11:17:42.831762",
     "exception": false,
     "start_time": "2022-04-04T11:17:35.489106",
     "status": "completed"
    },
    "tags": []
   },
   "outputs": [
    {
     "name": "stdout",
     "output_type": "stream",
     "text": [
      "Requirement already satisfied: cudf in /opt/conda/lib/python3.7/site-packages (21.10.1)\r\n",
      "Requirement already satisfied: numba>=0.53.1 in /opt/conda/lib/python3.7/site-packages (from cudf) (0.54.1)\r\n",
      "Requirement already satisfied: Cython<0.30,>=0.29 in /opt/conda/lib/python3.7/site-packages (from cudf) (0.29.28)\r\n",
      "Requirement already satisfied: fastavro>=0.22.9 in /opt/conda/lib/python3.7/site-packages (from cudf) (1.4.9)\r\n",
      "Requirement already satisfied: fsspec>=0.6.0 in /opt/conda/lib/python3.7/site-packages (from cudf) (2022.2.0)\r\n",
      "Requirement already satisfied: numpy in /opt/conda/lib/python3.7/site-packages (from cudf) (1.20.3)\r\n",
      "Requirement already satisfied: pandas<1.4.0dev0,>=1.0 in /opt/conda/lib/python3.7/site-packages (from cudf) (1.3.5)\r\n",
      "Requirement already satisfied: typing_extensions in /opt/conda/lib/python3.7/site-packages (from cudf) (4.1.1)\r\n",
      "Requirement already satisfied: protobuf in /opt/conda/lib/python3.7/site-packages (from cudf) (3.19.1)\r\n",
      "Requirement already satisfied: nvtx>=0.2.1 in /opt/conda/lib/python3.7/site-packages (from cudf) (0.2.3)\r\n",
      "Requirement already satisfied: cachetools in /opt/conda/lib/python3.7/site-packages (from cudf) (4.2.4)\r\n",
      "Requirement already satisfied: packaging in /opt/conda/lib/python3.7/site-packages (from cudf) (21.3)\r\n",
      "Requirement already satisfied: cupy-cuda110 in /opt/conda/lib/python3.7/site-packages (from cudf) (10.2.0)\r\n",
      "Requirement already satisfied: llvmlite<0.38,>=0.37.0rc1 in /opt/conda/lib/python3.7/site-packages (from numba>=0.53.1->cudf) (0.37.0)\r\n",
      "Requirement already satisfied: setuptools in /opt/conda/lib/python3.7/site-packages (from numba>=0.53.1->cudf) (59.5.0)\r\n",
      "Requirement already satisfied: python-dateutil>=2.7.3 in /opt/conda/lib/python3.7/site-packages (from pandas<1.4.0dev0,>=1.0->cudf) (2.8.2)\r\n",
      "Requirement already satisfied: pytz>=2017.3 in /opt/conda/lib/python3.7/site-packages (from pandas<1.4.0dev0,>=1.0->cudf) (2021.3)\r\n",
      "Requirement already satisfied: fastrlock>=0.5 in /opt/conda/lib/python3.7/site-packages (from cupy-cuda110->cudf) (0.8)\r\n",
      "Requirement already satisfied: pyparsing!=3.0.5,>=2.0.2 in /opt/conda/lib/python3.7/site-packages (from packaging->cudf) (3.0.6)\r\n",
      "Requirement already satisfied: six>=1.5 in /opt/conda/lib/python3.7/site-packages (from python-dateutil>=2.7.3->pandas<1.4.0dev0,>=1.0->cudf) (1.16.0)\r\n",
      "\u001b[33mWARNING: Running pip as the 'root' user can result in broken permissions and conflicting behaviour with the system package manager. It is recommended to use a virtual environment instead: https://pip.pypa.io/warnings/venv\u001b[0m\r\n"
     ]
    }
   ],
   "source": [
    "!pip install cudf\n",
    "import numpy as np\n",
    "import pandas as pd \n",
    "from datetime import datetime, timedelta\n",
    "import gc\n",
    "import cudf\n",
    "import cv2, matplotlib.pyplot as plt\n",
    "from os.path import exists"
   ]
  },
  {
   "cell_type": "code",
   "execution_count": 23,
   "id": "a3438dab",
   "metadata": {
    "_cell_guid": "44b311fd-4b39-4405-a0bc-8e92dc33a61c",
    "_uuid": "915c9fdb-7fe6-4725-960e-e41a3577b19d",
    "collapsed": false,
    "execution": {
     "iopub.execute_input": "2022-04-04T11:17:43.140036Z",
     "iopub.status.busy": "2022-04-04T11:17:43.139122Z",
     "iopub.status.idle": "2022-04-04T11:17:43.141016Z",
     "shell.execute_reply": "2022-04-04T11:17:43.141513Z",
     "shell.execute_reply.started": "2022-04-04T11:08:01.791608Z"
    },
    "jupyter": {
     "outputs_hidden": false
    },
    "papermill": {
     "duration": 0.158911,
     "end_time": "2022-04-04T11:17:43.141645",
     "exception": false,
     "start_time": "2022-04-04T11:17:42.982734",
     "status": "completed"
    },
    "tags": []
   },
   "outputs": [],
   "source": [
    "# # LOAD TRANSACTIONS DATAFRAME\n",
    "# df = cudf.read_csv('../input/h-and-m-personalized-fashion-recommendations/transactions_train.csv')\n",
    "# print('Transactions shape',df.shape)\n",
    "# display( df.head() )\n",
    "\n",
    "# # REDUCE MEMORY OF DATAFRAME\n",
    "# df = df[['customer_id','article_id']]\n",
    "# df.customer_id = df.customer_id.str[-16:].str.hex_to_int().astype('int64')\n",
    "# df.article_id = df.article_id.astype('int32')\n",
    "# _ = gc.collect()"
   ]
  },
  {
   "cell_type": "code",
   "execution_count": 24,
   "id": "870e1a0f",
   "metadata": {
    "_cell_guid": "4c724f89-612f-4608-94a5-2013aa86ce82",
    "_uuid": "980cf91d-96ad-4c7c-aba7-6bbc8e7f9075",
    "collapsed": false,
    "execution": {
     "iopub.execute_input": "2022-04-04T11:17:43.465440Z",
     "iopub.status.busy": "2022-04-04T11:17:43.464544Z",
     "iopub.status.idle": "2022-04-04T11:17:43.466297Z",
     "shell.execute_reply": "2022-04-04T11:17:43.466812Z",
     "shell.execute_reply.started": "2022-04-04T11:08:01.800352Z"
    },
    "jupyter": {
     "outputs_hidden": false
    },
    "papermill": {
     "duration": 0.165702,
     "end_time": "2022-04-04T11:17:43.466946",
     "exception": false,
     "start_time": "2022-04-04T11:17:43.301244",
     "status": "completed"
    },
    "tags": []
   },
   "outputs": [],
   "source": [
    "# # FIND ITEMS PURCHASED TOGETHER\n",
    "# vc = df.article_id.value_counts()\n",
    "# pairs = {}\n",
    "# # for j,i in enumerate(vc.index.values[1000:1032]):\n",
    "# #     #if j%10==0: print(j,', ',end='')\n",
    "# #     USERS = df.loc[df.article_id==i.item(),'customer_id'].unique()\n",
    "# #     vc2 = df.loc[(df.customer_id.isin(USERS))&(df.article_id!=i.item()),'article_id'].value_counts()\n",
    "# #     pairs[i.item()] = [vc2.index[0], vc2.index[1], vc2.index[2]]"
   ]
  },
  {
   "cell_type": "code",
   "execution_count": 25,
   "id": "b8483509",
   "metadata": {
    "_cell_guid": "7df33241-8730-41e6-ba96-684dab72ebf6",
    "_uuid": "68190067-1266-43b1-8a90-16fde37bc22d",
    "collapsed": false,
    "execution": {
     "iopub.execute_input": "2022-04-04T11:17:43.987001Z",
     "iopub.status.busy": "2022-04-04T11:17:43.986243Z",
     "iopub.status.idle": "2022-04-04T11:17:43.989114Z",
     "shell.execute_reply": "2022-04-04T11:17:43.989703Z",
     "shell.execute_reply.started": "2022-04-04T11:08:01.807883Z"
    },
    "jupyter": {
     "outputs_hidden": false
    },
    "papermill": {
     "duration": 0.255253,
     "end_time": "2022-04-04T11:17:43.989934",
     "exception": false,
     "start_time": "2022-04-04T11:17:43.734681",
     "status": "completed"
    },
    "tags": []
   },
   "outputs": [],
   "source": [
    "# vc = vc.reset_index().rename(columns = {\"article_id\":\"count\", \"index\":\"article_id\"})"
   ]
  },
  {
   "cell_type": "code",
   "execution_count": 26,
   "id": "a5a35915",
   "metadata": {
    "_cell_guid": "b8e80724-9f54-4727-9a5b-96aed6e85dbc",
    "_uuid": "f79463f6-d3c9-43ea-8882-9729bd77ddff",
    "collapsed": false,
    "execution": {
     "iopub.execute_input": "2022-04-04T11:17:44.339201Z",
     "iopub.status.busy": "2022-04-04T11:17:44.338379Z",
     "iopub.status.idle": "2022-04-04T11:17:44.340801Z",
     "shell.execute_reply": "2022-04-04T11:17:44.340379Z",
     "shell.execute_reply.started": "2022-04-04T11:08:01.816402Z"
    },
    "jupyter": {
     "outputs_hidden": false
    },
    "papermill": {
     "duration": 0.15862,
     "end_time": "2022-04-04T11:17:44.340915",
     "exception": false,
     "start_time": "2022-04-04T11:17:44.182295",
     "status": "completed"
    },
    "tags": []
   },
   "outputs": [],
   "source": [
    "# vc = vc[vc[\"count\"]>=50]"
   ]
  },
  {
   "cell_type": "code",
   "execution_count": 27,
   "id": "037e039b",
   "metadata": {
    "_cell_guid": "0da22333-f4a8-4e71-8833-2f345a60517b",
    "_uuid": "d7776129-da4e-49db-80a4-9afd0420bd9e",
    "collapsed": false,
    "execution": {
     "iopub.execute_input": "2022-04-04T11:17:44.650411Z",
     "iopub.status.busy": "2022-04-04T11:17:44.649511Z",
     "iopub.status.idle": "2022-04-04T11:17:44.651833Z",
     "shell.execute_reply": "2022-04-04T11:17:44.651323Z",
     "shell.execute_reply.started": "2022-04-04T11:08:01.824274Z"
    },
    "jupyter": {
     "outputs_hidden": false
    },
    "papermill": {
     "duration": 0.158395,
     "end_time": "2022-04-04T11:17:44.651942",
     "exception": false,
     "start_time": "2022-04-04T11:17:44.493547",
     "status": "completed"
    },
    "tags": []
   },
   "outputs": [],
   "source": [
    "# def cal_together_score(x):\n",
    "#     USERS = df.loc[df.article_id==x[\"article_id\"],'customer_id'].unique()\n",
    "#     vc2 = df.loc[(df.customer_id.isin(USERS))&(df.article_id!=x[\"article_id\"]),'article_id'].value_counts()\n",
    "#     #pairs[i.item()] = [vc2.index[0], vc2.index[1], vc2.index[2]]\n",
    "#     return [[x.article_id, vc2.index[i], vc2.iloc[i]/x[\"count\"]] for i in range(min(10, len(vc2)))]"
   ]
  },
  {
   "cell_type": "code",
   "execution_count": 28,
   "id": "868c5f37",
   "metadata": {
    "_cell_guid": "baadd098-5635-49e3-8326-f799e2a5b9d2",
    "_uuid": "1d30acf1-be00-4393-b7f2-f60f5c6627dd",
    "collapsed": false,
    "execution": {
     "iopub.execute_input": "2022-04-04T11:17:44.960276Z",
     "iopub.status.busy": "2022-04-04T11:17:44.959450Z",
     "iopub.status.idle": "2022-04-04T11:17:44.961842Z",
     "shell.execute_reply": "2022-04-04T11:17:44.961442Z",
     "shell.execute_reply.started": "2022-04-04T11:08:01.839293Z"
    },
    "jupyter": {
     "outputs_hidden": false
    },
    "papermill": {
     "duration": 0.157655,
     "end_time": "2022-04-04T11:17:44.961950",
     "exception": false,
     "start_time": "2022-04-04T11:17:44.804295",
     "status": "completed"
    },
    "tags": []
   },
   "outputs": [],
   "source": [
    "#relation = vc.to_pandas().apply(lambda x: cal_together_score(x), axis = 1).sum()"
   ]
  },
  {
   "cell_type": "code",
   "execution_count": 29,
   "id": "0126f070",
   "metadata": {
    "_cell_guid": "61e9feb0-8ccd-4ab6-9b81-3c9249eba7bd",
    "_uuid": "51767f5c-104b-4a76-919f-caeabf3d6fee",
    "collapsed": false,
    "execution": {
     "iopub.execute_input": "2022-04-04T11:17:45.270509Z",
     "iopub.status.busy": "2022-04-04T11:17:45.269751Z",
     "iopub.status.idle": "2022-04-04T11:17:45.272131Z",
     "shell.execute_reply": "2022-04-04T11:17:45.271708Z",
     "shell.execute_reply.started": "2022-04-04T11:08:01.844448Z"
    },
    "jupyter": {
     "outputs_hidden": false
    },
    "papermill": {
     "duration": 0.157337,
     "end_time": "2022-04-04T11:17:45.272237",
     "exception": false,
     "start_time": "2022-04-04T11:17:45.114900",
     "status": "completed"
    },
    "tags": []
   },
   "outputs": [],
   "source": [
    "#%%time\n",
    "# df  = cudf.read_csv('../input/h-and-m-personalized-fashion-recommendations/transactions_train.csv',\n",
    "#                             usecols= ['t_dat', 'customer_id', 'article_id'], \n",
    "#                             dtype={'article_id': 'int32', 't_dat': 'string', 'customer_id': 'string'})\n",
    "# df ['customer_id'] = df ['customer_id'].str[-16:].str.hex_to_int().astype('int64')\n",
    "\n",
    "# df['t_dat'] = cudf.to_datetime(df['t_dat'])\n",
    "# last_ts = df['t_dat'].max()"
   ]
  },
  {
   "cell_type": "code",
   "execution_count": 30,
   "id": "53a5c805",
   "metadata": {
    "_cell_guid": "8efede7c-b406-4bb9-9679-6b2ddf57be2d",
    "_uuid": "37018992-e497-409a-aa29-9f98db036096",
    "collapsed": false,
    "execution": {
     "iopub.execute_input": "2022-04-04T11:17:45.585877Z",
     "iopub.status.busy": "2022-04-04T11:17:45.585088Z",
     "iopub.status.idle": "2022-04-04T11:17:45.591165Z",
     "shell.execute_reply": "2022-04-04T11:17:45.590715Z",
     "shell.execute_reply.started": "2022-04-04T11:08:01.852996Z"
    },
    "jupyter": {
     "outputs_hidden": false
    },
    "papermill": {
     "duration": 0.165652,
     "end_time": "2022-04-04T11:17:45.591280",
     "exception": false,
     "start_time": "2022-04-04T11:17:45.425628",
     "status": "completed"
    },
    "tags": []
   },
   "outputs": [],
   "source": [
    "df = train.copy()"
   ]
  },
  {
   "cell_type": "code",
   "execution_count": 31,
   "id": "aefe421d",
   "metadata": {
    "_cell_guid": "4f70828a-7ed6-4ea9-a327-7ac47a3274d0",
    "_uuid": "d30e7289-5fad-4efd-bc05-902658ec1834",
    "collapsed": false,
    "execution": {
     "iopub.execute_input": "2022-04-04T11:17:45.902042Z",
     "iopub.status.busy": "2022-04-04T11:17:45.901165Z",
     "iopub.status.idle": "2022-04-04T11:17:53.995803Z",
     "shell.execute_reply": "2022-04-04T11:17:53.996275Z",
     "shell.execute_reply.started": "2022-04-04T11:08:01.868300Z"
    },
    "jupyter": {
     "outputs_hidden": false
    },
    "papermill": {
     "duration": 8.253624,
     "end_time": "2022-04-04T11:17:53.996431",
     "exception": false,
     "start_time": "2022-04-04T11:17:45.742807",
     "status": "completed"
    },
    "tags": []
   },
   "outputs": [
    {
     "name": "stdout",
     "output_type": "stream",
     "text": [
      "CPU times: user 6.66 s, sys: 1.56 s, total: 8.23 s\n",
      "Wall time: 8.09 s\n"
     ]
    }
   ],
   "source": [
    "%%time\n",
    "tmp = df[['t_dat']].copy().to_pandas()\n",
    "tmp['dow'] = tmp['t_dat'].dt.dayofweek\n",
    "tmp['ldbw'] = tmp['t_dat'] - pd.TimedeltaIndex(tmp['dow'] - 1, unit='D')\n",
    "tmp.loc[tmp['dow'] >=2 , 'ldbw'] = tmp.loc[tmp['dow'] >=2 , 'ldbw'] + pd.TimedeltaIndex(np.ones(len(tmp.loc[tmp['dow'] >=2])) * 7, unit='D')\n",
    "\n",
    "df['ldbw'] = tmp['ldbw'].values"
   ]
  },
  {
   "cell_type": "code",
   "execution_count": 32,
   "id": "8037f71c",
   "metadata": {
    "_cell_guid": "062c9e13-0249-4cd1-9833-9d1fb9a4d95a",
    "_uuid": "d7cc8aad-d344-4ae6-9e5e-e0e9160b73db",
    "collapsed": false,
    "execution": {
     "iopub.execute_input": "2022-04-04T11:17:54.299374Z",
     "iopub.status.busy": "2022-04-04T11:17:54.298840Z",
     "iopub.status.idle": "2022-04-04T11:17:54.302345Z",
     "shell.execute_reply": "2022-04-04T11:17:54.301863Z",
     "shell.execute_reply.started": "2022-04-04T11:08:09.725184Z"
    },
    "jupyter": {
     "outputs_hidden": false
    },
    "papermill": {
     "duration": 0.155907,
     "end_time": "2022-04-04T11:17:54.302480",
     "exception": false,
     "start_time": "2022-04-04T11:17:54.146573",
     "status": "completed"
    },
    "tags": []
   },
   "outputs": [],
   "source": [
    "#relation_data = cudf.DataFrame(relation, columns = [\"from_id\", \"to_id\", \"ratio\"])"
   ]
  },
  {
   "cell_type": "code",
   "execution_count": 33,
   "id": "3a42a8f3",
   "metadata": {
    "_cell_guid": "d2a497e0-7e56-478f-b4fb-834de252f2ab",
    "_uuid": "a6128a89-50eb-4d88-946b-d20b5948ae56",
    "collapsed": false,
    "execution": {
     "iopub.execute_input": "2022-04-04T11:17:54.718611Z",
     "iopub.status.busy": "2022-04-04T11:17:54.714303Z",
     "iopub.status.idle": "2022-04-04T11:17:54.895057Z",
     "shell.execute_reply": "2022-04-04T11:17:54.896226Z",
     "shell.execute_reply.started": "2022-04-04T11:08:09.730704Z"
    },
    "jupyter": {
     "outputs_hidden": false
    },
    "papermill": {
     "duration": 0.444555,
     "end_time": "2022-04-04T11:17:54.896446",
     "exception": false,
     "start_time": "2022-04-04T11:17:54.451891",
     "status": "completed"
    },
    "tags": []
   },
   "outputs": [],
   "source": [
    "relation_data = cudf.read_csv(\"../input/relation/relation_data.csv\")"
   ]
  },
  {
   "cell_type": "code",
   "execution_count": 34,
   "id": "dea2918f",
   "metadata": {
    "_cell_guid": "5a133069-579f-4e05-9228-6c7403d2a35b",
    "_uuid": "d4e00377-c5df-473f-abcb-e281eda5889a",
    "collapsed": false,
    "execution": {
     "iopub.execute_input": "2022-04-04T11:17:55.274650Z",
     "iopub.status.busy": "2022-04-04T11:17:55.271911Z",
     "iopub.status.idle": "2022-04-04T11:17:55.314874Z",
     "shell.execute_reply": "2022-04-04T11:17:55.315322Z",
     "shell.execute_reply.started": "2022-04-04T11:08:09.933849Z"
    },
    "jupyter": {
     "outputs_hidden": false
    },
    "papermill": {
     "duration": 0.206474,
     "end_time": "2022-04-04T11:17:55.315466",
     "exception": false,
     "start_time": "2022-04-04T11:17:55.108992",
     "status": "completed"
    },
    "tags": []
   },
   "outputs": [
    {
     "data": {
      "text/html": [
       "<div>\n",
       "<style scoped>\n",
       "    .dataframe tbody tr th:only-of-type {\n",
       "        vertical-align: middle;\n",
       "    }\n",
       "\n",
       "    .dataframe tbody tr th {\n",
       "        vertical-align: top;\n",
       "    }\n",
       "\n",
       "    .dataframe thead th {\n",
       "        text-align: right;\n",
       "    }\n",
       "</style>\n",
       "<table border=\"1\" class=\"dataframe\">\n",
       "  <thead>\n",
       "    <tr style=\"text-align: right;\">\n",
       "      <th></th>\n",
       "      <th>from_id</th>\n",
       "      <th>to_id</th>\n",
       "      <th>ratio</th>\n",
       "    </tr>\n",
       "  </thead>\n",
       "  <tbody>\n",
       "    <tr>\n",
       "      <th>0</th>\n",
       "      <td>706016001</td>\n",
       "      <td>706016002</td>\n",
       "      <td>0.250144</td>\n",
       "    </tr>\n",
       "    <tr>\n",
       "      <th>1</th>\n",
       "      <td>706016001</td>\n",
       "      <td>706016003</td>\n",
       "      <td>0.155706</td>\n",
       "    </tr>\n",
       "    <tr>\n",
       "      <th>2</th>\n",
       "      <td>706016001</td>\n",
       "      <td>706016015</td>\n",
       "      <td>0.117943</td>\n",
       "    </tr>\n",
       "    <tr>\n",
       "      <th>3</th>\n",
       "      <td>706016001</td>\n",
       "      <td>706016006</td>\n",
       "      <td>0.097799</td>\n",
       "    </tr>\n",
       "    <tr>\n",
       "      <th>4</th>\n",
       "      <td>706016001</td>\n",
       "      <td>399223001</td>\n",
       "      <td>0.087299</td>\n",
       "    </tr>\n",
       "    <tr>\n",
       "      <th>...</th>\n",
       "      <td>...</td>\n",
       "      <td>...</td>\n",
       "      <td>...</td>\n",
       "    </tr>\n",
       "    <tr>\n",
       "      <th>570535</th>\n",
       "      <td>657165029</td>\n",
       "      <td>763270003</td>\n",
       "      <td>0.120000</td>\n",
       "    </tr>\n",
       "    <tr>\n",
       "      <th>570536</th>\n",
       "      <td>657165029</td>\n",
       "      <td>628327005</td>\n",
       "      <td>0.120000</td>\n",
       "    </tr>\n",
       "    <tr>\n",
       "      <th>570537</th>\n",
       "      <td>657165029</td>\n",
       "      <td>664319001</td>\n",
       "      <td>0.120000</td>\n",
       "    </tr>\n",
       "    <tr>\n",
       "      <th>570538</th>\n",
       "      <td>657165029</td>\n",
       "      <td>608776002</td>\n",
       "      <td>0.100000</td>\n",
       "    </tr>\n",
       "    <tr>\n",
       "      <th>570539</th>\n",
       "      <td>657165029</td>\n",
       "      <td>745806001</td>\n",
       "      <td>0.100000</td>\n",
       "    </tr>\n",
       "  </tbody>\n",
       "</table>\n",
       "<p>570540 rows × 3 columns</p>\n",
       "</div>"
      ],
      "text/plain": [
       "          from_id      to_id     ratio\n",
       "0       706016001  706016002  0.250144\n",
       "1       706016001  706016003  0.155706\n",
       "2       706016001  706016015  0.117943\n",
       "3       706016001  706016006  0.097799\n",
       "4       706016001  399223001  0.087299\n",
       "...           ...        ...       ...\n",
       "570535  657165029  763270003  0.120000\n",
       "570536  657165029  628327005  0.120000\n",
       "570537  657165029  664319001  0.120000\n",
       "570538  657165029  608776002  0.100000\n",
       "570539  657165029  745806001  0.100000\n",
       "\n",
       "[570540 rows x 3 columns]"
      ]
     },
     "execution_count": 34,
     "metadata": {},
     "output_type": "execute_result"
    }
   ],
   "source": [
    "relation_data"
   ]
  },
  {
   "cell_type": "code",
   "execution_count": 35,
   "id": "d8457ed8",
   "metadata": {
    "_cell_guid": "165d88d1-d353-42a0-ab91-773932b60211",
    "_uuid": "1c0296df-94e9-4103-a2c6-49dc297ee389",
    "collapsed": false,
    "execution": {
     "iopub.execute_input": "2022-04-04T11:17:55.823859Z",
     "iopub.status.busy": "2022-04-04T11:17:55.823075Z",
     "iopub.status.idle": "2022-04-04T11:17:55.829623Z",
     "shell.execute_reply": "2022-04-04T11:17:55.829124Z",
     "shell.execute_reply.started": "2022-04-04T11:08:09.985603Z"
    },
    "jupyter": {
     "outputs_hidden": false
    },
    "papermill": {
     "duration": 0.339141,
     "end_time": "2022-04-04T11:17:55.829756",
     "exception": false,
     "start_time": "2022-04-04T11:17:55.490615",
     "status": "completed"
    },
    "tags": []
   },
   "outputs": [
    {
     "data": {
      "text/plain": [
       "106"
      ]
     },
     "execution_count": 35,
     "metadata": {},
     "output_type": "execute_result"
    }
   ],
   "source": [
    "del tmp\n",
    "gc.collect()"
   ]
  },
  {
   "cell_type": "code",
   "execution_count": 36,
   "id": "fdc4b484",
   "metadata": {
    "_cell_guid": "d562a5a3-35d8-4c45-b82d-c57eedf8d7a1",
    "_uuid": "cd39be0c-8c1d-4e79-a35b-5e9fc1dcbae7",
    "collapsed": false,
    "execution": {
     "iopub.execute_input": "2022-04-04T11:17:56.171444Z",
     "iopub.status.busy": "2022-04-04T11:17:56.170698Z",
     "iopub.status.idle": "2022-04-04T11:17:56.302401Z",
     "shell.execute_reply": "2022-04-04T11:17:56.302938Z",
     "shell.execute_reply.started": "2022-04-04T11:08:10.157170Z"
    },
    "jupyter": {
     "outputs_hidden": false
    },
    "papermill": {
     "duration": 0.304959,
     "end_time": "2022-04-04T11:17:56.303123",
     "exception": false,
     "start_time": "2022-04-04T11:17:55.998164",
     "status": "completed"
    },
    "tags": []
   },
   "outputs": [],
   "source": [
    "weekly_sales = df.drop('customer_id', axis=1).groupby(['ldbw', 'article_id']).count().reset_index()\n",
    "weekly_sales = weekly_sales.rename(columns={'t_dat': 'count'})"
   ]
  },
  {
   "cell_type": "code",
   "execution_count": 37,
   "id": "91536251",
   "metadata": {
    "_cell_guid": "baba24f2-3166-40d2-ae52-f4bdf7188970",
    "_uuid": "5db5f580-4c19-4dd8-b448-d05ac17d189e",
    "collapsed": false,
    "execution": {
     "iopub.execute_input": "2022-04-04T11:17:56.662984Z",
     "iopub.status.busy": "2022-04-04T11:17:56.662144Z",
     "iopub.status.idle": "2022-04-04T11:17:56.704208Z",
     "shell.execute_reply": "2022-04-04T11:17:56.703817Z",
     "shell.execute_reply.started": "2022-04-04T11:08:10.287658Z"
    },
    "jupyter": {
     "outputs_hidden": false
    },
    "papermill": {
     "duration": 0.226387,
     "end_time": "2022-04-04T11:17:56.704346",
     "exception": false,
     "start_time": "2022-04-04T11:17:56.477959",
     "status": "completed"
    },
    "tags": []
   },
   "outputs": [
    {
     "data": {
      "text/html": [
       "<div>\n",
       "<style scoped>\n",
       "    .dataframe tbody tr th:only-of-type {\n",
       "        vertical-align: middle;\n",
       "    }\n",
       "\n",
       "    .dataframe tbody tr th {\n",
       "        vertical-align: top;\n",
       "    }\n",
       "\n",
       "    .dataframe thead th {\n",
       "        text-align: right;\n",
       "    }\n",
       "</style>\n",
       "<table border=\"1\" class=\"dataframe\">\n",
       "  <thead>\n",
       "    <tr style=\"text-align: right;\">\n",
       "      <th></th>\n",
       "      <th>ldbw</th>\n",
       "      <th>article_id</th>\n",
       "      <th>count</th>\n",
       "      <th>price</th>\n",
       "      <th>sales_channel_id</th>\n",
       "    </tr>\n",
       "  </thead>\n",
       "  <tbody>\n",
       "    <tr>\n",
       "      <th>0</th>\n",
       "      <td>2019-03-12</td>\n",
       "      <td>719447002</td>\n",
       "      <td>4</td>\n",
       "      <td>4</td>\n",
       "      <td>4</td>\n",
       "    </tr>\n",
       "    <tr>\n",
       "      <th>1</th>\n",
       "      <td>2019-04-16</td>\n",
       "      <td>590203002</td>\n",
       "      <td>1</td>\n",
       "      <td>1</td>\n",
       "      <td>1</td>\n",
       "    </tr>\n",
       "    <tr>\n",
       "      <th>2</th>\n",
       "      <td>2020-05-05</td>\n",
       "      <td>831684001</td>\n",
       "      <td>12</td>\n",
       "      <td>12</td>\n",
       "      <td>12</td>\n",
       "    </tr>\n",
       "    <tr>\n",
       "      <th>3</th>\n",
       "      <td>2019-05-28</td>\n",
       "      <td>693508002</td>\n",
       "      <td>1</td>\n",
       "      <td>1</td>\n",
       "      <td>1</td>\n",
       "    </tr>\n",
       "    <tr>\n",
       "      <th>4</th>\n",
       "      <td>2019-07-02</td>\n",
       "      <td>777038001</td>\n",
       "      <td>5</td>\n",
       "      <td>5</td>\n",
       "      <td>5</td>\n",
       "    </tr>\n",
       "    <tr>\n",
       "      <th>...</th>\n",
       "      <td>...</td>\n",
       "      <td>...</td>\n",
       "      <td>...</td>\n",
       "      <td>...</td>\n",
       "      <td>...</td>\n",
       "    </tr>\n",
       "    <tr>\n",
       "      <th>2183240</th>\n",
       "      <td>2019-02-12</td>\n",
       "      <td>664871001</td>\n",
       "      <td>34</td>\n",
       "      <td>34</td>\n",
       "      <td>34</td>\n",
       "    </tr>\n",
       "    <tr>\n",
       "      <th>2183241</th>\n",
       "      <td>2019-11-19</td>\n",
       "      <td>640735001</td>\n",
       "      <td>2</td>\n",
       "      <td>2</td>\n",
       "      <td>2</td>\n",
       "    </tr>\n",
       "    <tr>\n",
       "      <th>2183242</th>\n",
       "      <td>2018-10-02</td>\n",
       "      <td>569355002</td>\n",
       "      <td>6</td>\n",
       "      <td>6</td>\n",
       "      <td>6</td>\n",
       "    </tr>\n",
       "    <tr>\n",
       "      <th>2183243</th>\n",
       "      <td>2019-06-04</td>\n",
       "      <td>684021006</td>\n",
       "      <td>8</td>\n",
       "      <td>8</td>\n",
       "      <td>8</td>\n",
       "    </tr>\n",
       "    <tr>\n",
       "      <th>2183244</th>\n",
       "      <td>2019-04-16</td>\n",
       "      <td>767918005</td>\n",
       "      <td>5</td>\n",
       "      <td>5</td>\n",
       "      <td>5</td>\n",
       "    </tr>\n",
       "  </tbody>\n",
       "</table>\n",
       "<p>2183245 rows × 5 columns</p>\n",
       "</div>"
      ],
      "text/plain": [
       "              ldbw  article_id  count  price  sales_channel_id\n",
       "0       2019-03-12   719447002      4      4                 4\n",
       "1       2019-04-16   590203002      1      1                 1\n",
       "2       2020-05-05   831684001     12     12                12\n",
       "3       2019-05-28   693508002      1      1                 1\n",
       "4       2019-07-02   777038001      5      5                 5\n",
       "...            ...         ...    ...    ...               ...\n",
       "2183240 2019-02-12   664871001     34     34                34\n",
       "2183241 2019-11-19   640735001      2      2                 2\n",
       "2183242 2018-10-02   569355002      6      6                 6\n",
       "2183243 2019-06-04   684021006      8      8                 8\n",
       "2183244 2019-04-16   767918005      5      5                 5\n",
       "\n",
       "[2183245 rows x 5 columns]"
      ]
     },
     "execution_count": 37,
     "metadata": {},
     "output_type": "execute_result"
    }
   ],
   "source": [
    "weekly_sales"
   ]
  },
  {
   "cell_type": "code",
   "execution_count": 38,
   "id": "d89eccca",
   "metadata": {
    "_cell_guid": "50496380-7d4d-4c1d-9419-cb77df7c3eca",
    "_uuid": "1476dd6d-0ab4-442a-8484-5c689c79d890",
    "collapsed": false,
    "execution": {
     "iopub.execute_input": "2022-04-04T11:17:57.048151Z",
     "iopub.status.busy": "2022-04-04T11:17:57.047230Z",
     "iopub.status.idle": "2022-04-04T11:17:57.076622Z",
     "shell.execute_reply": "2022-04-04T11:17:57.077205Z",
     "shell.execute_reply.started": "2022-04-04T11:08:10.344192Z"
    },
    "jupyter": {
     "outputs_hidden": false
    },
    "papermill": {
     "duration": 0.204595,
     "end_time": "2022-04-04T11:17:57.077360",
     "exception": false,
     "start_time": "2022-04-04T11:17:56.872765",
     "status": "completed"
    },
    "tags": []
   },
   "outputs": [],
   "source": [
    "df = df[df[\"ldbw\"] >= pd.to_datetime('2020-08-01')]"
   ]
  },
  {
   "cell_type": "code",
   "execution_count": 39,
   "id": "23c8d697",
   "metadata": {
    "_cell_guid": "e12fa790-d43d-4990-bfe9-17e5b4c549a7",
    "_uuid": "e9a1997a-1b9b-436d-9fc6-652aaca59756",
    "collapsed": false,
    "execution": {
     "iopub.execute_input": "2022-04-04T11:17:57.388012Z",
     "iopub.status.busy": "2022-04-04T11:17:57.387188Z",
     "iopub.status.idle": "2022-04-04T11:17:57.425736Z",
     "shell.execute_reply": "2022-04-04T11:17:57.424843Z",
     "shell.execute_reply.started": "2022-04-04T11:08:10.381456Z"
    },
    "jupyter": {
     "outputs_hidden": false
    },
    "papermill": {
     "duration": 0.194071,
     "end_time": "2022-04-04T11:17:57.425856",
     "exception": false,
     "start_time": "2022-04-04T11:17:57.231785",
     "status": "completed"
    },
    "tags": []
   },
   "outputs": [],
   "source": [
    "full_result = df.merge(relation_data, left_on = \"article_id\", right_on = \"from_id\")"
   ]
  },
  {
   "cell_type": "code",
   "execution_count": 40,
   "id": "cb5c049e",
   "metadata": {
    "_cell_guid": "10b315ec-7ea4-4172-ad55-a70246ce96a1",
    "_uuid": "b7bc8b84-f390-4b24-946b-fa2669f6b0e2",
    "collapsed": false,
    "execution": {
     "iopub.execute_input": "2022-04-04T11:17:57.737869Z",
     "iopub.status.busy": "2022-04-04T11:17:57.737155Z",
     "iopub.status.idle": "2022-04-04T11:17:57.739718Z",
     "shell.execute_reply": "2022-04-04T11:17:57.739228Z",
     "shell.execute_reply.started": "2022-04-04T11:08:10.440594Z"
    },
    "jupyter": {
     "outputs_hidden": false
    },
    "papermill": {
     "duration": 0.162218,
     "end_time": "2022-04-04T11:17:57.739843",
     "exception": false,
     "start_time": "2022-04-04T11:17:57.577625",
     "status": "completed"
    },
    "tags": []
   },
   "outputs": [],
   "source": [
    "full_result.drop([\"article_id\", \"from_id\"], axis = 1, inplace = True)"
   ]
  },
  {
   "cell_type": "code",
   "execution_count": 41,
   "id": "2c9e97f0",
   "metadata": {
    "_cell_guid": "59103666-3b8d-4570-8cf7-4566d533d022",
    "_uuid": "03524976-e707-44e8-90c9-774bbb8381a2",
    "collapsed": false,
    "execution": {
     "iopub.execute_input": "2022-04-04T11:17:58.048883Z",
     "iopub.status.busy": "2022-04-04T11:17:58.048108Z",
     "iopub.status.idle": "2022-04-04T11:17:58.077553Z",
     "shell.execute_reply": "2022-04-04T11:17:58.077110Z",
     "shell.execute_reply.started": "2022-04-04T11:08:10.451181Z"
    },
    "jupyter": {
     "outputs_hidden": false
    },
    "papermill": {
     "duration": 0.184738,
     "end_time": "2022-04-04T11:17:58.077668",
     "exception": false,
     "start_time": "2022-04-04T11:17:57.892930",
     "status": "completed"
    },
    "tags": []
   },
   "outputs": [],
   "source": [
    "full_result = full_result.rename(columns = {\"to_id\": \"article_id\"})"
   ]
  },
  {
   "cell_type": "code",
   "execution_count": 42,
   "id": "7a1dc9e3",
   "metadata": {
    "_cell_guid": "ee0a4aa7-6249-4122-81ad-284ca6126585",
    "_uuid": "66148fa0-a308-495b-9af7-ffedc9739c4f",
    "collapsed": false,
    "execution": {
     "iopub.execute_input": "2022-04-04T11:17:58.389434Z",
     "iopub.status.busy": "2022-04-04T11:17:58.388621Z",
     "iopub.status.idle": "2022-04-04T11:17:58.448935Z",
     "shell.execute_reply": "2022-04-04T11:17:58.449368Z",
     "shell.execute_reply.started": "2022-04-04T11:08:10.487879Z"
    },
    "jupyter": {
     "outputs_hidden": false
    },
    "papermill": {
     "duration": 0.220074,
     "end_time": "2022-04-04T11:17:58.449506",
     "exception": false,
     "start_time": "2022-04-04T11:17:58.229432",
     "status": "completed"
    },
    "tags": []
   },
   "outputs": [
    {
     "data": {
      "text/html": [
       "<div>\n",
       "<style scoped>\n",
       "    .dataframe tbody tr th:only-of-type {\n",
       "        vertical-align: middle;\n",
       "    }\n",
       "\n",
       "    .dataframe tbody tr th {\n",
       "        vertical-align: top;\n",
       "    }\n",
       "\n",
       "    .dataframe thead th {\n",
       "        text-align: right;\n",
       "    }\n",
       "</style>\n",
       "<table border=\"1\" class=\"dataframe\">\n",
       "  <thead>\n",
       "    <tr style=\"text-align: right;\">\n",
       "      <th></th>\n",
       "      <th>t_dat</th>\n",
       "      <th>customer_id</th>\n",
       "      <th>price</th>\n",
       "      <th>sales_channel_id</th>\n",
       "      <th>ldbw</th>\n",
       "      <th>article_id</th>\n",
       "      <th>ratio</th>\n",
       "    </tr>\n",
       "  </thead>\n",
       "  <tbody>\n",
       "    <tr>\n",
       "      <th>0</th>\n",
       "      <td>2020-07-29</td>\n",
       "      <td>-1641462433035272469</td>\n",
       "      <td>0.053305</td>\n",
       "      <td>2</td>\n",
       "      <td>2020-08-04</td>\n",
       "      <td>857277001</td>\n",
       "      <td>0.088398</td>\n",
       "    </tr>\n",
       "    <tr>\n",
       "      <th>1</th>\n",
       "      <td>2020-07-29</td>\n",
       "      <td>-8557685387333774327</td>\n",
       "      <td>0.025407</td>\n",
       "      <td>2</td>\n",
       "      <td>2020-08-04</td>\n",
       "      <td>751471001</td>\n",
       "      <td>0.184726</td>\n",
       "    </tr>\n",
       "    <tr>\n",
       "      <th>2</th>\n",
       "      <td>2020-07-29</td>\n",
       "      <td>-2035395705068495128</td>\n",
       "      <td>0.016932</td>\n",
       "      <td>1</td>\n",
       "      <td>2020-08-04</td>\n",
       "      <td>572797001</td>\n",
       "      <td>0.068182</td>\n",
       "    </tr>\n",
       "    <tr>\n",
       "      <th>3</th>\n",
       "      <td>2020-07-29</td>\n",
       "      <td>882143883989844769</td>\n",
       "      <td>0.005068</td>\n",
       "      <td>1</td>\n",
       "      <td>2020-08-04</td>\n",
       "      <td>718982001</td>\n",
       "      <td>0.105854</td>\n",
       "    </tr>\n",
       "    <tr>\n",
       "      <th>4</th>\n",
       "      <td>2020-07-29</td>\n",
       "      <td>-1641462433035272469</td>\n",
       "      <td>0.023983</td>\n",
       "      <td>2</td>\n",
       "      <td>2020-08-04</td>\n",
       "      <td>857812004</td>\n",
       "      <td>0.097245</td>\n",
       "    </tr>\n",
       "    <tr>\n",
       "      <th>...</th>\n",
       "      <td>...</td>\n",
       "      <td>...</td>\n",
       "      <td>...</td>\n",
       "      <td>...</td>\n",
       "      <td>...</td>\n",
       "      <td>...</td>\n",
       "      <td>...</td>\n",
       "    </tr>\n",
       "    <tr>\n",
       "      <th>18750425</th>\n",
       "      <td>2020-09-15</td>\n",
       "      <td>5071616147837568152</td>\n",
       "      <td>0.050831</td>\n",
       "      <td>1</td>\n",
       "      <td>2020-09-15</td>\n",
       "      <td>759871002</td>\n",
       "      <td>0.064356</td>\n",
       "    </tr>\n",
       "    <tr>\n",
       "      <th>18750426</th>\n",
       "      <td>2020-09-15</td>\n",
       "      <td>4908528897358301336</td>\n",
       "      <td>0.042356</td>\n",
       "      <td>2</td>\n",
       "      <td>2020-09-15</td>\n",
       "      <td>572998001</td>\n",
       "      <td>0.093567</td>\n",
       "    </tr>\n",
       "    <tr>\n",
       "      <th>18750427</th>\n",
       "      <td>2020-09-15</td>\n",
       "      <td>5071616147837568152</td>\n",
       "      <td>0.050831</td>\n",
       "      <td>1</td>\n",
       "      <td>2020-09-15</td>\n",
       "      <td>673677002</td>\n",
       "      <td>0.064356</td>\n",
       "    </tr>\n",
       "    <tr>\n",
       "      <th>18750428</th>\n",
       "      <td>2020-09-15</td>\n",
       "      <td>4908528897358301336</td>\n",
       "      <td>0.042356</td>\n",
       "      <td>2</td>\n",
       "      <td>2020-09-15</td>\n",
       "      <td>864668004</td>\n",
       "      <td>0.093567</td>\n",
       "    </tr>\n",
       "    <tr>\n",
       "      <th>18750429</th>\n",
       "      <td>2020-09-15</td>\n",
       "      <td>5071616147837568152</td>\n",
       "      <td>0.050831</td>\n",
       "      <td>1</td>\n",
       "      <td>2020-09-15</td>\n",
       "      <td>779333004</td>\n",
       "      <td>0.064356</td>\n",
       "    </tr>\n",
       "  </tbody>\n",
       "</table>\n",
       "<p>18750430 rows × 7 columns</p>\n",
       "</div>"
      ],
      "text/plain": [
       "              t_dat          customer_id     price  sales_channel_id  \\\n",
       "0        2020-07-29 -1641462433035272469  0.053305                 2   \n",
       "1        2020-07-29 -8557685387333774327  0.025407                 2   \n",
       "2        2020-07-29 -2035395705068495128  0.016932                 1   \n",
       "3        2020-07-29   882143883989844769  0.005068                 1   \n",
       "4        2020-07-29 -1641462433035272469  0.023983                 2   \n",
       "...             ...                  ...       ...               ...   \n",
       "18750425 2020-09-15  5071616147837568152  0.050831                 1   \n",
       "18750426 2020-09-15  4908528897358301336  0.042356                 2   \n",
       "18750427 2020-09-15  5071616147837568152  0.050831                 1   \n",
       "18750428 2020-09-15  4908528897358301336  0.042356                 2   \n",
       "18750429 2020-09-15  5071616147837568152  0.050831                 1   \n",
       "\n",
       "               ldbw  article_id     ratio  \n",
       "0        2020-08-04   857277001  0.088398  \n",
       "1        2020-08-04   751471001  0.184726  \n",
       "2        2020-08-04   572797001  0.068182  \n",
       "3        2020-08-04   718982001  0.105854  \n",
       "4        2020-08-04   857812004  0.097245  \n",
       "...             ...         ...       ...  \n",
       "18750425 2020-09-15   759871002  0.064356  \n",
       "18750426 2020-09-15   572998001  0.093567  \n",
       "18750427 2020-09-15   673677002  0.064356  \n",
       "18750428 2020-09-15   864668004  0.093567  \n",
       "18750429 2020-09-15   779333004  0.064356  \n",
       "\n",
       "[18750430 rows x 7 columns]"
      ]
     },
     "execution_count": 42,
     "metadata": {},
     "output_type": "execute_result"
    }
   ],
   "source": [
    "full_result"
   ]
  },
  {
   "cell_type": "code",
   "execution_count": 43,
   "id": "8ea3cd3e",
   "metadata": {
    "_cell_guid": "ef7e2cbb-fe1a-44d7-9a3e-69283f5eb08b",
    "_uuid": "bd61ab8e-d639-4c55-9481-ec966895a670",
    "collapsed": false,
    "execution": {
     "iopub.execute_input": "2022-04-04T11:17:58.764060Z",
     "iopub.status.busy": "2022-04-04T11:17:58.763295Z",
     "iopub.status.idle": "2022-04-04T11:17:58.823468Z",
     "shell.execute_reply": "2022-04-04T11:17:58.823022Z",
     "shell.execute_reply.started": "2022-04-04T11:08:10.556767Z"
    },
    "jupyter": {
     "outputs_hidden": false
    },
    "papermill": {
     "duration": 0.218164,
     "end_time": "2022-04-04T11:17:58.823588",
     "exception": false,
     "start_time": "2022-04-04T11:17:58.605424",
     "status": "completed"
    },
    "tags": []
   },
   "outputs": [],
   "source": [
    "full_result = full_result.merge(weekly_sales, on=['ldbw', 'article_id'], how = 'left')"
   ]
  },
  {
   "cell_type": "code",
   "execution_count": 44,
   "id": "780530b9",
   "metadata": {
    "_cell_guid": "17292033-c633-439e-afc9-f95d9b383a05",
    "_uuid": "d4872528-d5e3-4078-80d2-7cc02775988a",
    "collapsed": false,
    "execution": {
     "iopub.execute_input": "2022-04-04T11:17:59.138459Z",
     "iopub.status.busy": "2022-04-04T11:17:59.137579Z",
     "iopub.status.idle": "2022-04-04T11:17:59.139455Z",
     "shell.execute_reply": "2022-04-04T11:17:59.139905Z",
     "shell.execute_reply.started": "2022-04-04T11:08:10.621838Z"
    },
    "jupyter": {
     "outputs_hidden": false
    },
    "papermill": {
     "duration": 0.158453,
     "end_time": "2022-04-04T11:17:59.140044",
     "exception": false,
     "start_time": "2022-04-04T11:17:58.981591",
     "status": "completed"
    },
    "tags": []
   },
   "outputs": [],
   "source": [
    "#full_result.drop([\"article_id\", \"from_id\", \"count\"], axis = 1, inplace = True)"
   ]
  },
  {
   "cell_type": "code",
   "execution_count": 45,
   "id": "bd3f1f42",
   "metadata": {
    "_cell_guid": "9b94f109-f533-4008-8e4a-7d09d5a830e2",
    "_uuid": "8c5c1f5b-448f-4c1f-aacf-bdadd372b414",
    "collapsed": false,
    "execution": {
     "iopub.execute_input": "2022-04-04T11:17:59.453022Z",
     "iopub.status.busy": "2022-04-04T11:17:59.450897Z",
     "iopub.status.idle": "2022-04-04T11:17:59.453714Z",
     "shell.execute_reply": "2022-04-04T11:17:59.454132Z",
     "shell.execute_reply.started": "2022-04-04T11:08:10.627607Z"
    },
    "jupyter": {
     "outputs_hidden": false
    },
    "papermill": {
     "duration": 0.161401,
     "end_time": "2022-04-04T11:17:59.454264",
     "exception": false,
     "start_time": "2022-04-04T11:17:59.292863",
     "status": "completed"
    },
    "tags": []
   },
   "outputs": [],
   "source": [
    "#full_result.dropna(inplace)"
   ]
  },
  {
   "cell_type": "code",
   "execution_count": 46,
   "id": "fa39ac75",
   "metadata": {
    "_cell_guid": "a41a07f7-899b-4233-b4e9-d5ec5acbd30a",
    "_uuid": "faa160ae-7200-4fe2-9959-eb5855b90c3c",
    "collapsed": false,
    "execution": {
     "iopub.execute_input": "2022-04-04T11:17:59.766912Z",
     "iopub.status.busy": "2022-04-04T11:17:59.766102Z",
     "iopub.status.idle": "2022-04-04T11:17:59.849902Z",
     "shell.execute_reply": "2022-04-04T11:17:59.849439Z",
     "shell.execute_reply.started": "2022-04-04T11:08:10.636470Z"
    },
    "jupyter": {
     "outputs_hidden": false
    },
    "papermill": {
     "duration": 0.239211,
     "end_time": "2022-04-04T11:17:59.850011",
     "exception": false,
     "start_time": "2022-04-04T11:17:59.610800",
     "status": "completed"
    },
    "tags": []
   },
   "outputs": [],
   "source": [
    "weekly_sales = weekly_sales.reset_index().set_index('article_id')\n",
    "\n",
    "full_result = full_result.merge(\n",
    "    weekly_sales.loc[weekly_sales['ldbw']==Last_date, ['count']],\n",
    "    on='article_id', suffixes=(\"\", \"_targ\"))\n",
    "\n",
    "full_result['count_targ'].fillna(0, inplace=True)"
   ]
  },
  {
   "cell_type": "code",
   "execution_count": 47,
   "id": "27864471",
   "metadata": {
    "_cell_guid": "a8fd499d-6b8b-44ef-b355-464934a2cea1",
    "_uuid": "32269869-dcd4-4efb-b262-24eea971d25b",
    "collapsed": false,
    "execution": {
     "iopub.execute_input": "2022-04-04T11:18:00.161125Z",
     "iopub.status.busy": "2022-04-04T11:18:00.160338Z",
     "iopub.status.idle": "2022-04-04T11:18:00.237984Z",
     "shell.execute_reply": "2022-04-04T11:18:00.238408Z",
     "shell.execute_reply.started": "2022-04-04T11:08:10.725929Z"
    },
    "jupyter": {
     "outputs_hidden": false
    },
    "papermill": {
     "duration": 0.234158,
     "end_time": "2022-04-04T11:18:00.238549",
     "exception": false,
     "start_time": "2022-04-04T11:18:00.004391",
     "status": "completed"
    },
    "tags": []
   },
   "outputs": [
    {
     "data": {
      "text/html": [
       "<div>\n",
       "<style scoped>\n",
       "    .dataframe tbody tr th:only-of-type {\n",
       "        vertical-align: middle;\n",
       "    }\n",
       "\n",
       "    .dataframe tbody tr th {\n",
       "        vertical-align: top;\n",
       "    }\n",
       "\n",
       "    .dataframe thead th {\n",
       "        text-align: right;\n",
       "    }\n",
       "</style>\n",
       "<table border=\"1\" class=\"dataframe\">\n",
       "  <thead>\n",
       "    <tr style=\"text-align: right;\">\n",
       "      <th></th>\n",
       "      <th>t_dat</th>\n",
       "      <th>customer_id</th>\n",
       "      <th>price_x</th>\n",
       "      <th>sales_channel_id_x</th>\n",
       "      <th>ldbw</th>\n",
       "      <th>article_id</th>\n",
       "      <th>ratio</th>\n",
       "      <th>count</th>\n",
       "      <th>price_y</th>\n",
       "      <th>sales_channel_id_y</th>\n",
       "      <th>count_targ</th>\n",
       "    </tr>\n",
       "  </thead>\n",
       "  <tbody>\n",
       "    <tr>\n",
       "      <th>0</th>\n",
       "      <td>2020-07-30</td>\n",
       "      <td>-1377598267094178595</td>\n",
       "      <td>0.023373</td>\n",
       "      <td>1</td>\n",
       "      <td>2020-08-04</td>\n",
       "      <td>706016001</td>\n",
       "      <td>0.085921</td>\n",
       "      <td>386</td>\n",
       "      <td>386</td>\n",
       "      <td>386</td>\n",
       "      <td>453</td>\n",
       "    </tr>\n",
       "    <tr>\n",
       "      <th>1</th>\n",
       "      <td>2020-07-30</td>\n",
       "      <td>7930930399103642456</td>\n",
       "      <td>0.022508</td>\n",
       "      <td>1</td>\n",
       "      <td>2020-08-04</td>\n",
       "      <td>673677002</td>\n",
       "      <td>0.061306</td>\n",
       "      <td>6</td>\n",
       "      <td>6</td>\n",
       "      <td>6</td>\n",
       "      <td>463</td>\n",
       "    </tr>\n",
       "    <tr>\n",
       "      <th>2</th>\n",
       "      <td>2020-07-30</td>\n",
       "      <td>4529733752247104878</td>\n",
       "      <td>0.022017</td>\n",
       "      <td>1</td>\n",
       "      <td>2020-08-04</td>\n",
       "      <td>611415035</td>\n",
       "      <td>0.231656</td>\n",
       "      <td>101</td>\n",
       "      <td>101</td>\n",
       "      <td>101</td>\n",
       "      <td>69</td>\n",
       "    </tr>\n",
       "    <tr>\n",
       "      <th>3</th>\n",
       "      <td>2020-07-30</td>\n",
       "      <td>-5762753708921914052</td>\n",
       "      <td>0.025407</td>\n",
       "      <td>2</td>\n",
       "      <td>2020-08-04</td>\n",
       "      <td>706016001</td>\n",
       "      <td>0.128905</td>\n",
       "      <td>386</td>\n",
       "      <td>386</td>\n",
       "      <td>386</td>\n",
       "      <td>453</td>\n",
       "    </tr>\n",
       "    <tr>\n",
       "      <th>4</th>\n",
       "      <td>2020-07-30</td>\n",
       "      <td>-5762753708921914052</td>\n",
       "      <td>0.033881</td>\n",
       "      <td>2</td>\n",
       "      <td>2020-08-04</td>\n",
       "      <td>706016001</td>\n",
       "      <td>0.161810</td>\n",
       "      <td>386</td>\n",
       "      <td>386</td>\n",
       "      <td>386</td>\n",
       "      <td>453</td>\n",
       "    </tr>\n",
       "    <tr>\n",
       "      <th>...</th>\n",
       "      <td>...</td>\n",
       "      <td>...</td>\n",
       "      <td>...</td>\n",
       "      <td>...</td>\n",
       "      <td>...</td>\n",
       "      <td>...</td>\n",
       "      <td>...</td>\n",
       "      <td>...</td>\n",
       "      <td>...</td>\n",
       "      <td>...</td>\n",
       "      <td>...</td>\n",
       "    </tr>\n",
       "    <tr>\n",
       "      <th>17558330</th>\n",
       "      <td>2020-09-15</td>\n",
       "      <td>-9162216366828926110</td>\n",
       "      <td>0.016932</td>\n",
       "      <td>1</td>\n",
       "      <td>2020-09-15</td>\n",
       "      <td>685816002</td>\n",
       "      <td>0.091850</td>\n",
       "      <td>153</td>\n",
       "      <td>153</td>\n",
       "      <td>153</td>\n",
       "      <td>153</td>\n",
       "    </tr>\n",
       "    <tr>\n",
       "      <th>17558331</th>\n",
       "      <td>2020-09-15</td>\n",
       "      <td>3252737394376828255</td>\n",
       "      <td>0.025407</td>\n",
       "      <td>1</td>\n",
       "      <td>2020-09-15</td>\n",
       "      <td>783346020</td>\n",
       "      <td>0.067010</td>\n",
       "      <td>57</td>\n",
       "      <td>57</td>\n",
       "      <td>57</td>\n",
       "      <td>57</td>\n",
       "    </tr>\n",
       "    <tr>\n",
       "      <th>17558332</th>\n",
       "      <td>2020-09-15</td>\n",
       "      <td>-2375595777770118626</td>\n",
       "      <td>0.016932</td>\n",
       "      <td>2</td>\n",
       "      <td>2020-09-15</td>\n",
       "      <td>448509014</td>\n",
       "      <td>0.077987</td>\n",
       "      <td>609</td>\n",
       "      <td>609</td>\n",
       "      <td>609</td>\n",
       "      <td>609</td>\n",
       "    </tr>\n",
       "    <tr>\n",
       "      <th>17558333</th>\n",
       "      <td>2020-09-15</td>\n",
       "      <td>3252737394376828255</td>\n",
       "      <td>0.013542</td>\n",
       "      <td>1</td>\n",
       "      <td>2020-09-15</td>\n",
       "      <td>610776001</td>\n",
       "      <td>0.059048</td>\n",
       "      <td>126</td>\n",
       "      <td>126</td>\n",
       "      <td>126</td>\n",
       "      <td>126</td>\n",
       "    </tr>\n",
       "    <tr>\n",
       "      <th>17558334</th>\n",
       "      <td>2020-09-15</td>\n",
       "      <td>-9162216366828926110</td>\n",
       "      <td>0.016932</td>\n",
       "      <td>1</td>\n",
       "      <td>2020-09-15</td>\n",
       "      <td>759871002</td>\n",
       "      <td>0.080207</td>\n",
       "      <td>21</td>\n",
       "      <td>21</td>\n",
       "      <td>21</td>\n",
       "      <td>21</td>\n",
       "    </tr>\n",
       "  </tbody>\n",
       "</table>\n",
       "<p>17558335 rows × 11 columns</p>\n",
       "</div>"
      ],
      "text/plain": [
       "              t_dat          customer_id   price_x  sales_channel_id_x  \\\n",
       "0        2020-07-30 -1377598267094178595  0.023373                   1   \n",
       "1        2020-07-30  7930930399103642456  0.022508                   1   \n",
       "2        2020-07-30  4529733752247104878  0.022017                   1   \n",
       "3        2020-07-30 -5762753708921914052  0.025407                   2   \n",
       "4        2020-07-30 -5762753708921914052  0.033881                   2   \n",
       "...             ...                  ...       ...                 ...   \n",
       "17558330 2020-09-15 -9162216366828926110  0.016932                   1   \n",
       "17558331 2020-09-15  3252737394376828255  0.025407                   1   \n",
       "17558332 2020-09-15 -2375595777770118626  0.016932                   2   \n",
       "17558333 2020-09-15  3252737394376828255  0.013542                   1   \n",
       "17558334 2020-09-15 -9162216366828926110  0.016932                   1   \n",
       "\n",
       "               ldbw  article_id     ratio  count  price_y  sales_channel_id_y  \\\n",
       "0        2020-08-04   706016001  0.085921    386      386                 386   \n",
       "1        2020-08-04   673677002  0.061306      6        6                   6   \n",
       "2        2020-08-04   611415035  0.231656    101      101                 101   \n",
       "3        2020-08-04   706016001  0.128905    386      386                 386   \n",
       "4        2020-08-04   706016001  0.161810    386      386                 386   \n",
       "...             ...         ...       ...    ...      ...                 ...   \n",
       "17558330 2020-09-15   685816002  0.091850    153      153                 153   \n",
       "17558331 2020-09-15   783346020  0.067010     57       57                  57   \n",
       "17558332 2020-09-15   448509014  0.077987    609      609                 609   \n",
       "17558333 2020-09-15   610776001  0.059048    126      126                 126   \n",
       "17558334 2020-09-15   759871002  0.080207     21       21                  21   \n",
       "\n",
       "          count_targ  \n",
       "0                453  \n",
       "1                463  \n",
       "2                 69  \n",
       "3                453  \n",
       "4                453  \n",
       "...              ...  \n",
       "17558330         153  \n",
       "17558331          57  \n",
       "17558332         609  \n",
       "17558333         126  \n",
       "17558334          21  \n",
       "\n",
       "[17558335 rows x 11 columns]"
      ]
     },
     "execution_count": 47,
     "metadata": {},
     "output_type": "execute_result"
    }
   ],
   "source": [
    "full_result"
   ]
  },
  {
   "cell_type": "code",
   "execution_count": 48,
   "id": "704d700e",
   "metadata": {
    "_cell_guid": "e4f03f0e-d1a2-4efc-a167-d32019ddf872",
    "_uuid": "6a5cd0bb-03ca-4534-bbf7-5f1cd32c7e49",
    "collapsed": false,
    "execution": {
     "iopub.execute_input": "2022-04-04T11:18:00.551201Z",
     "iopub.status.busy": "2022-04-04T11:18:00.550454Z",
     "iopub.status.idle": "2022-04-04T11:18:00.555896Z",
     "shell.execute_reply": "2022-04-04T11:18:00.555433Z",
     "shell.execute_reply.started": "2022-04-04T11:08:10.817437Z"
    },
    "jupyter": {
     "outputs_hidden": false
    },
    "papermill": {
     "duration": 0.165417,
     "end_time": "2022-04-04T11:18:00.556018",
     "exception": false,
     "start_time": "2022-04-04T11:18:00.390601",
     "status": "completed"
    },
    "tags": []
   },
   "outputs": [],
   "source": [
    "full_result['quotient'] = full_result['count_targ'] / full_result['count']"
   ]
  },
  {
   "cell_type": "code",
   "execution_count": 49,
   "id": "3a34c8dd",
   "metadata": {
    "_cell_guid": "260ed538-7ea0-4f0f-9169-4fc9fb90ceb3",
    "_uuid": "e9b3e235-f63f-4e64-9300-bb4080403bff",
    "collapsed": false,
    "execution": {
     "iopub.execute_input": "2022-04-04T11:18:00.880552Z",
     "iopub.status.busy": "2022-04-04T11:18:00.879710Z",
     "iopub.status.idle": "2022-04-04T11:18:23.481644Z",
     "shell.execute_reply": "2022-04-04T11:18:23.480965Z",
     "shell.execute_reply.started": "2022-04-04T11:08:10.826308Z"
    },
    "jupyter": {
     "outputs_hidden": false
    },
    "papermill": {
     "duration": 22.770405,
     "end_time": "2022-04-04T11:18:23.481822",
     "exception": false,
     "start_time": "2022-04-04T11:18:00.711417",
     "status": "completed"
    },
    "tags": []
   },
   "outputs": [
    {
     "name": "stdout",
     "output_type": "stream",
     "text": [
      "CPU times: user 17.8 s, sys: 7.02 s, total: 24.9 s\n",
      "Wall time: 22.6 s\n"
     ]
    }
   ],
   "source": [
    "%%time\n",
    "purchase_dict = {}\n",
    "\n",
    "tmp = full_result.copy().to_pandas()\n",
    "tmp['x'] = ((Last_date - tmp['t_dat']) / np.timedelta64(1, 'D')).astype(int)\n",
    "tmp['dummy_1'] = 1 \n",
    "tmp['x'] = tmp[[\"x\", \"dummy_1\"]].max(axis=1)\n",
    "\n",
    "a, b, c, d = 2.5e4, 1.5e5, 2e-1, 1e3\n",
    "total = 1715530\n",
    "tmp['y'] = ((a / np.sqrt(tmp['x']) + b * np.exp(-c*tmp['x']) - d) / total +\\\n",
    "(a / np.sqrt(tmp['x']+1) + b * np.exp(-c*(tmp['x']+1)) - d) / total +\\\n",
    "(a / np.sqrt(tmp['x']+2) + b * np.exp(-c*(tmp['x']+2)) - d) / total +\\\n",
    "(a / np.sqrt(tmp['x']+3) + b * np.exp(-c*(tmp['x']+3)) - d) / total +\\\n",
    "(a / np.sqrt(tmp['x']+4) + b * np.exp(-c*(tmp['x']+4)) - d) / total +\\\n",
    "(a / np.sqrt(tmp['x']+5) + b * np.exp(-c*(tmp['x']+5)) - d) / total +\\\n",
    "(a / np.sqrt(tmp['x']+6) + b * np.exp(-c*(tmp['x']+6)) - d) / total)\n",
    "\n",
    "tmp['dummy_0'] = 0 \n",
    "tmp['y'] = tmp[[\"y\", \"dummy_0\"]].max(axis=1)\n",
    "tmp['score'] = tmp['quotient'] * tmp['y'] * tmp[\"ratio\"]\n",
    "\n",
    "tmp = tmp.groupby(['customer_id', 'article_id']).agg({'score': 'sum'})\n",
    "tmp = tmp.reset_index()\n",
    "\n",
    "tmp = tmp.loc[tmp['score'] > 0]\n",
    "tmp['rank'] = tmp.groupby(\"customer_id\")[\"score\"].rank(\"dense\", ascending=False)\n",
    "tmp = tmp.loc[tmp['rank'] <= 30]\n",
    "tmp[\"source\"] = 2\n",
    "\n",
    "result2 = tmp[[\"customer_id\", \"article_id\", \"source\", \"score\", \"rank\"]]"
   ]
  },
  {
   "cell_type": "code",
   "execution_count": 50,
   "id": "c544e4fb",
   "metadata": {
    "_cell_guid": "a1c88f16-7ee7-4f8f-914a-95a25add22b6",
    "_uuid": "16adb038-8a6d-4e50-a466-b0011a6787e3",
    "collapsed": false,
    "execution": {
     "iopub.execute_input": "2022-04-04T11:18:23.799475Z",
     "iopub.status.busy": "2022-04-04T11:18:23.798808Z",
     "iopub.status.idle": "2022-04-04T11:18:23.801815Z",
     "shell.execute_reply": "2022-04-04T11:18:23.801399Z",
     "shell.execute_reply.started": "2022-04-04T11:08:33.411434Z"
    },
    "jupyter": {
     "outputs_hidden": false
    },
    "papermill": {
     "duration": 0.162259,
     "end_time": "2022-04-04T11:18:23.801946",
     "exception": false,
     "start_time": "2022-04-04T11:18:23.639687",
     "status": "completed"
    },
    "tags": []
   },
   "outputs": [],
   "source": [
    "#result2.to_csv(\"result2.csv\", index = False)"
   ]
  },
  {
   "cell_type": "code",
   "execution_count": 51,
   "id": "e406d0ba",
   "metadata": {
    "_cell_guid": "d83f7cfd-a6d0-403c-9f3f-c7fe1dba58b6",
    "_uuid": "73527a50-5428-40cc-b834-1fb7eca3bf56",
    "collapsed": false,
    "execution": {
     "iopub.execute_input": "2022-04-04T11:18:24.248632Z",
     "iopub.status.busy": "2022-04-04T11:18:24.248006Z",
     "iopub.status.idle": "2022-04-04T11:18:24.253998Z",
     "shell.execute_reply": "2022-04-04T11:18:24.253575Z",
     "shell.execute_reply.started": "2022-04-04T11:08:33.417040Z"
    },
    "jupyter": {
     "outputs_hidden": false
    },
    "papermill": {
     "duration": 0.298066,
     "end_time": "2022-04-04T11:18:24.254123",
     "exception": false,
     "start_time": "2022-04-04T11:18:23.956057",
     "status": "completed"
    },
    "tags": []
   },
   "outputs": [
    {
     "data": {
      "text/plain": [
       "42"
      ]
     },
     "execution_count": 51,
     "metadata": {},
     "output_type": "execute_result"
    }
   ],
   "source": [
    "del tmp\n",
    "del df\n",
    "del full_result\n",
    "gc.collect()"
   ]
  },
  {
   "cell_type": "code",
   "execution_count": 52,
   "id": "053da5bf",
   "metadata": {
    "_cell_guid": "87296a64-ae39-488a-a517-fd61510c2aab",
    "_uuid": "43722243-4987-498c-a903-1cbc41421af2",
    "collapsed": false,
    "execution": {
     "iopub.execute_input": "2022-04-04T11:18:24.566937Z",
     "iopub.status.busy": "2022-04-04T11:18:24.566095Z",
     "iopub.status.idle": "2022-04-04T11:18:24.568160Z",
     "shell.execute_reply": "2022-04-04T11:18:24.568594Z",
     "shell.execute_reply.started": "2022-04-04T11:08:33.560674Z"
    },
    "jupyter": {
     "outputs_hidden": false
    },
    "papermill": {
     "duration": 0.162188,
     "end_time": "2022-04-04T11:18:24.568750",
     "exception": false,
     "start_time": "2022-04-04T11:18:24.406562",
     "status": "completed"
    },
    "tags": []
   },
   "outputs": [],
   "source": [
    "#relation_data.to_csv(\"/kaggle/working/relation_data.csv\", index = False)"
   ]
  },
  {
   "cell_type": "code",
   "execution_count": 53,
   "id": "f2ea1b4f",
   "metadata": {
    "_cell_guid": "db9c575d-7371-49ab-b29e-90c07795d63e",
    "_uuid": "87951b6a-89c6-4c93-8801-6a6067e0a2d2",
    "collapsed": false,
    "execution": {
     "iopub.execute_input": "2022-04-04T11:18:24.881774Z",
     "iopub.status.busy": "2022-04-04T11:18:24.880644Z",
     "iopub.status.idle": "2022-04-04T11:18:24.882866Z",
     "shell.execute_reply": "2022-04-04T11:18:24.883303Z",
     "shell.execute_reply.started": "2022-04-04T11:08:33.568737Z"
    },
    "jupyter": {
     "outputs_hidden": false
    },
    "papermill": {
     "duration": 0.160033,
     "end_time": "2022-04-04T11:18:24.883445",
     "exception": false,
     "start_time": "2022-04-04T11:18:24.723412",
     "status": "completed"
    },
    "tags": []
   },
   "outputs": [],
   "source": [
    "# items = cudf.read_csv('../input/h-and-m-personalized-fashion-recommendations/articles.csv')\n",
    "# BASE = '../input/h-and-m-personalized-fashion-recommendations/images/'\n",
    "\n",
    "# for i,(k,v) in enumerate( pairs.items() ):\n",
    "#     name1 = BASE+'0'+str(k)[:2]+'/0'+str(k)+'.jpg'\n",
    "#     name2 = BASE+'0'+str(v[0])[:2]+'/0'+str(v[0])+'.jpg'\n",
    "#     name3 = BASE+'0'+str(v[1])[:2]+'/0'+str(v[1])+'.jpg'\n",
    "#     name4 = BASE+'0'+str(v[2])[:2]+'/0'+str(v[2])+'.jpg'\n",
    "#     if exists(name1) & exists(name2) & exists(name3) & exists(name4):\n",
    "#         plt.figure(figsize=(20,5))\n",
    "#         img1 = cv2.imread(name1)[:,:,::-1]\n",
    "#         img2 = cv2.imread(name2)[:,:,::-1]\n",
    "#         img3 = cv2.imread(name3)[:,:,::-1]\n",
    "#         img4 = cv2.imread(name4)[:,:,::-1]\n",
    "#         plt.subplot(1,4,1)\n",
    "#         plt.title('When customers buy this',size=18)\n",
    "#         plt.imshow(img1)\n",
    "#         plt.subplot(1,4,2)\n",
    "#         plt.title('They buy this',size=18)\n",
    "#         plt.imshow(img2)\n",
    "#         plt.subplot(1,4,3)\n",
    "#         plt.title('They buy this',size=18)\n",
    "#         plt.imshow(img3)\n",
    "#         plt.subplot(1,4,4)\n",
    "#         plt.title('They buy this',size=18)\n",
    "#         plt.imshow(img4)\n",
    "#         plt.show()\n",
    "#     #if i==63: break"
   ]
  },
  {
   "cell_type": "code",
   "execution_count": 54,
   "id": "3a5623f0",
   "metadata": {
    "_cell_guid": "c5e4e9e8-3a40-4d28-9797-89cd87e7b962",
    "_uuid": "aa27b491-dec0-486b-8a6b-4d4af46707c6",
    "collapsed": false,
    "execution": {
     "iopub.execute_input": "2022-04-04T11:18:25.252581Z",
     "iopub.status.busy": "2022-04-04T11:18:25.251867Z",
     "iopub.status.idle": "2022-04-04T11:18:25.254744Z",
     "shell.execute_reply": "2022-04-04T11:18:25.255144Z",
     "shell.execute_reply.started": "2022-04-04T11:08:33.577892Z"
    },
    "jupyter": {
     "outputs_hidden": false
    },
    "papermill": {
     "duration": 0.167887,
     "end_time": "2022-04-04T11:18:25.255286",
     "exception": false,
     "start_time": "2022-04-04T11:18:25.087399",
     "status": "completed"
    },
    "tags": []
   },
   "outputs": [
    {
     "data": {
      "text/html": [
       "<div>\n",
       "<style scoped>\n",
       "    .dataframe tbody tr th:only-of-type {\n",
       "        vertical-align: middle;\n",
       "    }\n",
       "\n",
       "    .dataframe tbody tr th {\n",
       "        vertical-align: top;\n",
       "    }\n",
       "\n",
       "    .dataframe thead th {\n",
       "        text-align: right;\n",
       "    }\n",
       "</style>\n",
       "<table border=\"1\" class=\"dataframe\">\n",
       "  <thead>\n",
       "    <tr style=\"text-align: right;\">\n",
       "      <th></th>\n",
       "      <th>customer_id</th>\n",
       "      <th>article_id</th>\n",
       "      <th>source</th>\n",
       "      <th>score</th>\n",
       "      <th>rank</th>\n",
       "    </tr>\n",
       "  </thead>\n",
       "  <tbody>\n",
       "    <tr>\n",
       "      <th>0</th>\n",
       "      <td>-9223352921020755230</td>\n",
       "      <td>156231001</td>\n",
       "      <td>2</td>\n",
       "      <td>0.002209</td>\n",
       "      <td>12.0</td>\n",
       "    </tr>\n",
       "    <tr>\n",
       "      <th>1</th>\n",
       "      <td>-9223352921020755230</td>\n",
       "      <td>372860001</td>\n",
       "      <td>2</td>\n",
       "      <td>0.003020</td>\n",
       "      <td>8.0</td>\n",
       "    </tr>\n",
       "    <tr>\n",
       "      <th>2</th>\n",
       "      <td>-9223352921020755230</td>\n",
       "      <td>372860002</td>\n",
       "      <td>2</td>\n",
       "      <td>0.002471</td>\n",
       "      <td>11.0</td>\n",
       "    </tr>\n",
       "    <tr>\n",
       "      <th>3</th>\n",
       "      <td>-9223352921020755230</td>\n",
       "      <td>448509014</td>\n",
       "      <td>2</td>\n",
       "      <td>0.003171</td>\n",
       "      <td>7.0</td>\n",
       "    </tr>\n",
       "    <tr>\n",
       "      <th>4</th>\n",
       "      <td>-9223352921020755230</td>\n",
       "      <td>464297007</td>\n",
       "      <td>2</td>\n",
       "      <td>0.000944</td>\n",
       "      <td>16.0</td>\n",
       "    </tr>\n",
       "    <tr>\n",
       "      <th>...</th>\n",
       "      <td>...</td>\n",
       "      <td>...</td>\n",
       "      <td>...</td>\n",
       "      <td>...</td>\n",
       "      <td>...</td>\n",
       "    </tr>\n",
       "    <tr>\n",
       "      <th>10385334</th>\n",
       "      <td>9223144259947635662</td>\n",
       "      <td>730863012</td>\n",
       "      <td>2</td>\n",
       "      <td>0.004874</td>\n",
       "      <td>18.0</td>\n",
       "    </tr>\n",
       "    <tr>\n",
       "      <th>10385338</th>\n",
       "      <td>9223144259947635662</td>\n",
       "      <td>742400033</td>\n",
       "      <td>2</td>\n",
       "      <td>0.002430</td>\n",
       "      <td>30.0</td>\n",
       "    </tr>\n",
       "    <tr>\n",
       "      <th>10385339</th>\n",
       "      <td>9223144259947635662</td>\n",
       "      <td>749699001</td>\n",
       "      <td>2</td>\n",
       "      <td>0.009977</td>\n",
       "      <td>8.0</td>\n",
       "    </tr>\n",
       "    <tr>\n",
       "      <th>10385340</th>\n",
       "      <td>9223144259947635662</td>\n",
       "      <td>783707109</td>\n",
       "      <td>2</td>\n",
       "      <td>0.003199</td>\n",
       "      <td>23.0</td>\n",
       "    </tr>\n",
       "    <tr>\n",
       "      <th>10385341</th>\n",
       "      <td>9223144259947635662</td>\n",
       "      <td>889703001</td>\n",
       "      <td>2</td>\n",
       "      <td>0.002573</td>\n",
       "      <td>27.0</td>\n",
       "    </tr>\n",
       "  </tbody>\n",
       "</table>\n",
       "<p>7530026 rows × 5 columns</p>\n",
       "</div>"
      ],
      "text/plain": [
       "                  customer_id  article_id  source     score  rank\n",
       "0        -9223352921020755230   156231001       2  0.002209  12.0\n",
       "1        -9223352921020755230   372860001       2  0.003020   8.0\n",
       "2        -9223352921020755230   372860002       2  0.002471  11.0\n",
       "3        -9223352921020755230   448509014       2  0.003171   7.0\n",
       "4        -9223352921020755230   464297007       2  0.000944  16.0\n",
       "...                       ...         ...     ...       ...   ...\n",
       "10385334  9223144259947635662   730863012       2  0.004874  18.0\n",
       "10385338  9223144259947635662   742400033       2  0.002430  30.0\n",
       "10385339  9223144259947635662   749699001       2  0.009977   8.0\n",
       "10385340  9223144259947635662   783707109       2  0.003199  23.0\n",
       "10385341  9223144259947635662   889703001       2  0.002573  27.0\n",
       "\n",
       "[7530026 rows x 5 columns]"
      ]
     },
     "execution_count": 54,
     "metadata": {},
     "output_type": "execute_result"
    }
   ],
   "source": [
    "result2"
   ]
  },
  {
   "cell_type": "markdown",
   "id": "a76ca28d",
   "metadata": {
    "_cell_guid": "317b622d-d667-4412-a89c-d9ca0ca05dff",
    "_uuid": "584c8ab9-2095-4992-bd33-2882f36da59c",
    "editable": false,
    "papermill": {
     "duration": 0.152977,
     "end_time": "2022-04-04T11:18:25.561382",
     "exception": false,
     "start_time": "2022-04-04T11:18:25.408405",
     "status": "completed"
    },
    "tags": []
   },
   "source": [
    "## 第三路：分层上周热门（+趋势）"
   ]
  },
  {
   "cell_type": "code",
   "execution_count": 55,
   "id": "4a6008a1",
   "metadata": {
    "_cell_guid": "315eedef-347c-4be3-a7cb-2dc48bd982a5",
    "_uuid": "6d5dbd7a-4aab-42ab-8260-ab9d09dcaf8a",
    "collapsed": false,
    "execution": {
     "iopub.execute_input": "2022-04-04T11:18:25.901893Z",
     "iopub.status.busy": "2022-04-04T11:18:25.887090Z",
     "iopub.status.idle": "2022-04-04T11:18:33.324586Z",
     "shell.execute_reply": "2022-04-04T11:18:33.324050Z",
     "shell.execute_reply.started": "2022-04-04T11:08:33.597481Z"
    },
    "jupyter": {
     "outputs_hidden": false
    },
    "papermill": {
     "duration": 7.607386,
     "end_time": "2022-04-04T11:18:33.324710",
     "exception": false,
     "start_time": "2022-04-04T11:18:25.717324",
     "status": "completed"
    },
    "tags": []
   },
   "outputs": [
    {
     "name": "stdout",
     "output_type": "stream",
     "text": [
      "Requirement already satisfied: cudf in /opt/conda/lib/python3.7/site-packages (21.10.1)\r\n",
      "Requirement already satisfied: numba>=0.53.1 in /opt/conda/lib/python3.7/site-packages (from cudf) (0.54.1)\r\n",
      "Requirement already satisfied: Cython<0.30,>=0.29 in /opt/conda/lib/python3.7/site-packages (from cudf) (0.29.28)\r\n",
      "Requirement already satisfied: fastavro>=0.22.9 in /opt/conda/lib/python3.7/site-packages (from cudf) (1.4.9)\r\n",
      "Requirement already satisfied: fsspec>=0.6.0 in /opt/conda/lib/python3.7/site-packages (from cudf) (2022.2.0)\r\n",
      "Requirement already satisfied: numpy in /opt/conda/lib/python3.7/site-packages (from cudf) (1.20.3)\r\n",
      "Requirement already satisfied: pandas<1.4.0dev0,>=1.0 in /opt/conda/lib/python3.7/site-packages (from cudf) (1.3.5)\r\n",
      "Requirement already satisfied: typing_extensions in /opt/conda/lib/python3.7/site-packages (from cudf) (4.1.1)\r\n",
      "Requirement already satisfied: protobuf in /opt/conda/lib/python3.7/site-packages (from cudf) (3.19.1)\r\n",
      "Requirement already satisfied: nvtx>=0.2.1 in /opt/conda/lib/python3.7/site-packages (from cudf) (0.2.3)\r\n",
      "Requirement already satisfied: cachetools in /opt/conda/lib/python3.7/site-packages (from cudf) (4.2.4)\r\n",
      "Requirement already satisfied: packaging in /opt/conda/lib/python3.7/site-packages (from cudf) (21.3)\r\n",
      "Requirement already satisfied: cupy-cuda110 in /opt/conda/lib/python3.7/site-packages (from cudf) (10.2.0)\r\n",
      "Requirement already satisfied: setuptools in /opt/conda/lib/python3.7/site-packages (from numba>=0.53.1->cudf) (59.5.0)\r\n",
      "Requirement already satisfied: llvmlite<0.38,>=0.37.0rc1 in /opt/conda/lib/python3.7/site-packages (from numba>=0.53.1->cudf) (0.37.0)\r\n",
      "Requirement already satisfied: python-dateutil>=2.7.3 in /opt/conda/lib/python3.7/site-packages (from pandas<1.4.0dev0,>=1.0->cudf) (2.8.2)\r\n",
      "Requirement already satisfied: pytz>=2017.3 in /opt/conda/lib/python3.7/site-packages (from pandas<1.4.0dev0,>=1.0->cudf) (2021.3)\r\n",
      "Requirement already satisfied: fastrlock>=0.5 in /opt/conda/lib/python3.7/site-packages (from cupy-cuda110->cudf) (0.8)\r\n",
      "Requirement already satisfied: pyparsing!=3.0.5,>=2.0.2 in /opt/conda/lib/python3.7/site-packages (from packaging->cudf) (3.0.6)\r\n",
      "Requirement already satisfied: six>=1.5 in /opt/conda/lib/python3.7/site-packages (from python-dateutil>=2.7.3->pandas<1.4.0dev0,>=1.0->cudf) (1.16.0)\r\n",
      "\u001b[33mWARNING: Running pip as the 'root' user can result in broken permissions and conflicting behaviour with the system package manager. It is recommended to use a virtual environment instead: https://pip.pypa.io/warnings/venv\u001b[0m\r\n"
     ]
    }
   ],
   "source": [
    "!pip install cudf\n",
    "import numpy as np\n",
    "import pandas as pd \n",
    "from datetime import datetime, timedelta\n",
    "import gc\n",
    "import cudf\n",
    "import cv2, matplotlib.pyplot as plt\n",
    "from os.path import exists"
   ]
  },
  {
   "cell_type": "code",
   "execution_count": 56,
   "id": "92348ee9",
   "metadata": {
    "_cell_guid": "22f0bbec-032a-49ba-98a7-7f0d667a1b7d",
    "_uuid": "ce3d97b4-5a90-4603-a491-974a446b3711",
    "collapsed": false,
    "execution": {
     "iopub.execute_input": "2022-04-04T11:18:33.645451Z",
     "iopub.status.busy": "2022-04-04T11:18:33.644706Z",
     "iopub.status.idle": "2022-04-04T11:18:33.647347Z",
     "shell.execute_reply": "2022-04-04T11:18:33.646894Z",
     "shell.execute_reply.started": "2022-04-04T11:08:40.919958Z"
    },
    "jupyter": {
     "outputs_hidden": false
    },
    "papermill": {
     "duration": 0.164613,
     "end_time": "2022-04-04T11:18:33.647464",
     "exception": false,
     "start_time": "2022-04-04T11:18:33.482851",
     "status": "completed"
    },
    "tags": []
   },
   "outputs": [],
   "source": [
    "# # LOAD TRANSACTIONS DATAFRAME\n",
    "# df = cudf.read_csv('../input/h-and-m-personalized-fashion-recommendations/transactions_train.csv')\n",
    "# print('Transactions shape',df.shape)\n",
    "# display( df.head() )\n",
    "\n",
    "# # REDUCE MEMORY OF DATAFRAME\n",
    "# df = df[['t_dat','customer_id','article_id']]\n",
    "# df.customer_id = df.customer_id.str[-16:].str.hex_to_int().astype('int64')\n",
    "# df.article_id = df.article_id.astype('int32')\n",
    "# df.t_dat = cudf.to_datetime(df.t_dat)\n",
    "# _ = gc.collect()"
   ]
  },
  {
   "cell_type": "code",
   "execution_count": 57,
   "id": "23364a66",
   "metadata": {
    "_cell_guid": "cb454618-33c2-47b3-af3b-cdf3257fff1f",
    "_uuid": "bc87cf18-1345-474d-a9c2-d392f881fb60",
    "collapsed": false,
    "execution": {
     "iopub.execute_input": "2022-04-04T11:18:33.989045Z",
     "iopub.status.busy": "2022-04-04T11:18:33.988141Z",
     "iopub.status.idle": "2022-04-04T11:18:33.992750Z",
     "shell.execute_reply": "2022-04-04T11:18:33.992328Z",
     "shell.execute_reply.started": "2022-04-04T11:08:40.926361Z"
    },
    "jupyter": {
     "outputs_hidden": false
    },
    "papermill": {
     "duration": 0.182013,
     "end_time": "2022-04-04T11:18:33.992867",
     "exception": false,
     "start_time": "2022-04-04T11:18:33.810854",
     "status": "completed"
    },
    "tags": []
   },
   "outputs": [],
   "source": [
    "df = train.copy()"
   ]
  },
  {
   "cell_type": "code",
   "execution_count": null,
   "id": "4f863f7c",
   "metadata": {
    "_cell_guid": "5b9b99fc-c415-4ca7-9bc9-4358689c36a3",
    "_uuid": "838b9b11-b1d3-416e-acd4-2b934dfffae2",
    "collapsed": false,
    "jupyter": {
     "outputs_hidden": false
    },
    "papermill": {
     "duration": 0.156653,
     "end_time": "2022-04-04T11:18:34.306875",
     "exception": false,
     "start_time": "2022-04-04T11:18:34.150222",
     "status": "completed"
    },
    "tags": []
   },
   "outputs": [],
   "source": []
  },
  {
   "cell_type": "code",
   "execution_count": 58,
   "id": "d91a5c47",
   "metadata": {
    "_cell_guid": "b17079b9-205e-486f-87e6-b08e9da48999",
    "_uuid": "4fdd1c70-b5cb-4a2f-84ab-c88fc14584ae",
    "collapsed": false,
    "execution": {
     "iopub.execute_input": "2022-04-04T11:18:34.667928Z",
     "iopub.status.busy": "2022-04-04T11:18:34.667057Z",
     "iopub.status.idle": "2022-04-04T11:18:34.915769Z",
     "shell.execute_reply": "2022-04-04T11:18:34.914798Z",
     "shell.execute_reply.started": "2022-04-04T11:08:40.939887Z"
    },
    "jupyter": {
     "outputs_hidden": false
    },
    "papermill": {
     "duration": 0.448196,
     "end_time": "2022-04-04T11:18:34.915900",
     "exception": false,
     "start_time": "2022-04-04T11:18:34.467704",
     "status": "completed"
    },
    "tags": []
   },
   "outputs": [],
   "source": [
    "sales = cudf.merge(df, customer, on = \"customer_id\", how = 'left')\n",
    "sales = sales[sales.t_dat >= Date_week1]"
   ]
  },
  {
   "cell_type": "code",
   "execution_count": null,
   "id": "91b285a8",
   "metadata": {
    "papermill": {
     "duration": 0.155911,
     "end_time": "2022-04-04T11:18:35.230394",
     "exception": false,
     "start_time": "2022-04-04T11:18:35.074483",
     "status": "completed"
    },
    "tags": []
   },
   "outputs": [],
   "source": []
  },
  {
   "cell_type": "code",
   "execution_count": 59,
   "id": "76b116f7",
   "metadata": {
    "_cell_guid": "2e0582e2-7688-47db-a665-911dce825218",
    "_uuid": "a46cf55c-be1b-4397-ba31-e8ff758cc600",
    "collapsed": false,
    "execution": {
     "iopub.execute_input": "2022-04-04T11:18:35.547598Z",
     "iopub.status.busy": "2022-04-04T11:18:35.546903Z",
     "iopub.status.idle": "2022-04-04T11:18:35.564163Z",
     "shell.execute_reply": "2022-04-04T11:18:35.563705Z",
     "shell.execute_reply.started": "2022-04-04T11:08:41.217530Z"
    },
    "jupyter": {
     "outputs_hidden": false
    },
    "papermill": {
     "duration": 0.177506,
     "end_time": "2022-04-04T11:18:35.564300",
     "exception": false,
     "start_time": "2022-04-04T11:18:35.386794",
     "status": "completed"
    },
    "tags": []
   },
   "outputs": [],
   "source": [
    "sales = sales.fillna(0)"
   ]
  },
  {
   "cell_type": "code",
   "execution_count": 60,
   "id": "13765be4",
   "metadata": {
    "execution": {
     "iopub.execute_input": "2022-04-04T11:18:35.882871Z",
     "iopub.status.busy": "2022-04-04T11:18:35.882307Z",
     "iopub.status.idle": "2022-04-04T11:18:35.889410Z",
     "shell.execute_reply": "2022-04-04T11:18:35.888932Z",
     "shell.execute_reply.started": "2022-04-04T11:08:41.305913Z"
    },
    "papermill": {
     "duration": 0.169712,
     "end_time": "2022-04-04T11:18:35.889530",
     "exception": false,
     "start_time": "2022-04-04T11:18:35.719818",
     "status": "completed"
    },
    "tags": []
   },
   "outputs": [],
   "source": [
    "use_aid = sales[\"article_id\"].drop_duplicates()"
   ]
  },
  {
   "cell_type": "code",
   "execution_count": 61,
   "id": "992f2b92",
   "metadata": {
    "execution": {
     "iopub.execute_input": "2022-04-04T11:18:36.205852Z",
     "iopub.status.busy": "2022-04-04T11:18:36.205063Z",
     "iopub.status.idle": "2022-04-04T11:18:36.211944Z",
     "shell.execute_reply": "2022-04-04T11:18:36.211450Z",
     "shell.execute_reply.started": "2022-04-04T11:08:41.315876Z"
    },
    "papermill": {
     "duration": 0.167509,
     "end_time": "2022-04-04T11:18:36.212056",
     "exception": false,
     "start_time": "2022-04-04T11:18:36.044547",
     "status": "completed"
    },
    "tags": []
   },
   "outputs": [
    {
     "data": {
      "text/plain": [
       "31462635    108775044\n",
       "31375560    111565001\n",
       "31280070    111586001\n",
       "31285120    111593001\n",
       "31287448    111609001\n",
       "              ...    \n",
       "31302098    952267001\n",
       "31511108    952938001\n",
       "31403829    953450001\n",
       "31385270    953763001\n",
       "31309708    956217002\n",
       "Name: article_id, Length: 18611, dtype: int32"
      ]
     },
     "execution_count": 61,
     "metadata": {},
     "output_type": "execute_result"
    }
   ],
   "source": [
    "use_aid"
   ]
  },
  {
   "cell_type": "code",
   "execution_count": 62,
   "id": "1a1292a9",
   "metadata": {
    "_cell_guid": "8965aabd-1ea7-412a-a6d6-3adc5ddd775d",
    "_uuid": "f1ee2984-f158-4ed9-b78f-cfe49c692208",
    "collapsed": false,
    "execution": {
     "iopub.execute_input": "2022-04-04T11:18:36.528374Z",
     "iopub.status.busy": "2022-04-04T11:18:36.527574Z",
     "iopub.status.idle": "2022-04-04T11:18:36.846140Z",
     "shell.execute_reply": "2022-04-04T11:18:36.846677Z",
     "shell.execute_reply.started": "2022-04-04T11:08:41.330332Z"
    },
    "jupyter": {
     "outputs_hidden": false
    },
    "papermill": {
     "duration": 0.478931,
     "end_time": "2022-04-04T11:18:36.846847",
     "exception": false,
     "start_time": "2022-04-04T11:18:36.367916",
     "status": "completed"
    },
    "tags": []
   },
   "outputs": [
    {
     "data": {
      "text/plain": [
       "<AxesSubplot:>"
      ]
     },
     "execution_count": 62,
     "metadata": {},
     "output_type": "execute_result"
    },
    {
     "data": {
      "image/png": "[encoded data removed]",
      "text/plain": [
       "<Figure size 432x288 with 1 Axes>"
      ]
     },
     "metadata": {
      "needs_background": "light"
     },
     "output_type": "display_data"
    }
   ],
   "source": [
    "sales.to_pandas()[\"age\"].hist()"
   ]
  },
  {
   "cell_type": "code",
   "execution_count": 63,
   "id": "8f405648",
   "metadata": {
    "_cell_guid": "923c1cf2-30fb-453b-a208-c8727e68271e",
    "_uuid": "0dd7d8cd-e867-4aee-a201-60db3ea62fea",
    "collapsed": false,
    "execution": {
     "iopub.execute_input": "2022-04-04T11:18:37.191703Z",
     "iopub.status.busy": "2022-04-04T11:18:37.191045Z",
     "iopub.status.idle": "2022-04-04T11:18:37.265691Z",
     "shell.execute_reply": "2022-04-04T11:18:37.266100Z",
     "shell.execute_reply.started": "2022-04-04T11:08:41.660603Z"
    },
    "jupyter": {
     "outputs_hidden": false
    },
    "papermill": {
     "duration": 0.262543,
     "end_time": "2022-04-04T11:18:37.266236",
     "exception": false,
     "start_time": "2022-04-04T11:18:37.003693",
     "status": "completed"
    },
    "tags": []
   },
   "outputs": [
    {
     "data": {
      "text/html": [
       "<div>\n",
       "<style scoped>\n",
       "    .dataframe tbody tr th:only-of-type {\n",
       "        vertical-align: middle;\n",
       "    }\n",
       "\n",
       "    .dataframe tbody tr th {\n",
       "        vertical-align: top;\n",
       "    }\n",
       "\n",
       "    .dataframe thead th {\n",
       "        text-align: right;\n",
       "    }\n",
       "</style>\n",
       "<table border=\"1\" class=\"dataframe\">\n",
       "  <thead>\n",
       "    <tr style=\"text-align: right;\">\n",
       "      <th></th>\n",
       "      <th>t_dat</th>\n",
       "      <th>customer_id</th>\n",
       "      <th>article_id</th>\n",
       "      <th>price</th>\n",
       "      <th>sales_channel_id</th>\n",
       "      <th>FN</th>\n",
       "      <th>Active</th>\n",
       "      <th>club_member_status</th>\n",
       "      <th>fashion_news_frequency</th>\n",
       "      <th>age</th>\n",
       "      <th>postal_code</th>\n",
       "    </tr>\n",
       "  </thead>\n",
       "  <tbody>\n",
       "    <tr>\n",
       "      <th>31268096</th>\n",
       "      <td>2020-09-09</td>\n",
       "      <td>-2156777441294618063</td>\n",
       "      <td>685814005</td>\n",
       "      <td>0.033881</td>\n",
       "      <td>2</td>\n",
       "      <td>1.0</td>\n",
       "      <td>1.0</td>\n",
       "      <td>ACTIVE</td>\n",
       "      <td>Regularly</td>\n",
       "      <td>29.0</td>\n",
       "      <td>17d0433ebad432976929d99192315d2479bfb7696af1d2...</td>\n",
       "    </tr>\n",
       "    <tr>\n",
       "      <th>31268097</th>\n",
       "      <td>2020-09-09</td>\n",
       "      <td>-6489422566283592999</td>\n",
       "      <td>865240002</td>\n",
       "      <td>0.008458</td>\n",
       "      <td>1</td>\n",
       "      <td>0.0</td>\n",
       "      <td>0.0</td>\n",
       "      <td>ACTIVE</td>\n",
       "      <td>NONE</td>\n",
       "      <td>27.0</td>\n",
       "      <td>09b4c331056fc94bc83a021f44470ea9e859209123e09f...</td>\n",
       "    </tr>\n",
       "    <tr>\n",
       "      <th>31268098</th>\n",
       "      <td>2020-09-09</td>\n",
       "      <td>-7761469595989510297</td>\n",
       "      <td>868641002</td>\n",
       "      <td>0.033881</td>\n",
       "      <td>2</td>\n",
       "      <td>1.0</td>\n",
       "      <td>1.0</td>\n",
       "      <td>ACTIVE</td>\n",
       "      <td>Regularly</td>\n",
       "      <td>22.0</td>\n",
       "      <td>64c420881b31267fd17d03e2aafac8e9ef0bae5a115446...</td>\n",
       "    </tr>\n",
       "    <tr>\n",
       "      <th>31268099</th>\n",
       "      <td>2020-09-09</td>\n",
       "      <td>-2912203858579140439</td>\n",
       "      <td>867966010</td>\n",
       "      <td>0.033881</td>\n",
       "      <td>2</td>\n",
       "      <td>1.0</td>\n",
       "      <td>1.0</td>\n",
       "      <td>ACTIVE</td>\n",
       "      <td>Regularly</td>\n",
       "      <td>24.0</td>\n",
       "      <td>e42c4f19dc1b95b82eae4d77106924e07fef6c5c1dd4c3...</td>\n",
       "    </tr>\n",
       "    <tr>\n",
       "      <th>31268100</th>\n",
       "      <td>2020-09-09</td>\n",
       "      <td>-2156777441294618063</td>\n",
       "      <td>896343002</td>\n",
       "      <td>0.033881</td>\n",
       "      <td>2</td>\n",
       "      <td>1.0</td>\n",
       "      <td>1.0</td>\n",
       "      <td>ACTIVE</td>\n",
       "      <td>Regularly</td>\n",
       "      <td>29.0</td>\n",
       "      <td>17d0433ebad432976929d99192315d2479bfb7696af1d2...</td>\n",
       "    </tr>\n",
       "    <tr>\n",
       "      <th>...</th>\n",
       "      <td>...</td>\n",
       "      <td>...</td>\n",
       "      <td>...</td>\n",
       "      <td>...</td>\n",
       "      <td>...</td>\n",
       "      <td>...</td>\n",
       "      <td>...</td>\n",
       "      <td>...</td>\n",
       "      <td>...</td>\n",
       "      <td>...</td>\n",
       "      <td>...</td>\n",
       "    </tr>\n",
       "    <tr>\n",
       "      <th>31548008</th>\n",
       "      <td>2020-09-15</td>\n",
       "      <td>-6548724319026074057</td>\n",
       "      <td>780314001</td>\n",
       "      <td>0.067780</td>\n",
       "      <td>2</td>\n",
       "      <td>0.0</td>\n",
       "      <td>0.0</td>\n",
       "      <td>ACTIVE</td>\n",
       "      <td>NONE</td>\n",
       "      <td>26.0</td>\n",
       "      <td>39d90bfe73e5f0bc0a58bca8fc789182955d059fb79009...</td>\n",
       "    </tr>\n",
       "    <tr>\n",
       "      <th>31548009</th>\n",
       "      <td>2020-09-15</td>\n",
       "      <td>-7010773389724270175</td>\n",
       "      <td>706016002</td>\n",
       "      <td>0.033881</td>\n",
       "      <td>1</td>\n",
       "      <td>1.0</td>\n",
       "      <td>1.0</td>\n",
       "      <td>ACTIVE</td>\n",
       "      <td>Regularly</td>\n",
       "      <td>21.0</td>\n",
       "      <td>2020d6a589f9878e20886e17483107cac447bdbb31b19c...</td>\n",
       "    </tr>\n",
       "    <tr>\n",
       "      <th>31548010</th>\n",
       "      <td>2020-09-15</td>\n",
       "      <td>-6548724319026074057</td>\n",
       "      <td>875272003</td>\n",
       "      <td>0.050831</td>\n",
       "      <td>2</td>\n",
       "      <td>0.0</td>\n",
       "      <td>0.0</td>\n",
       "      <td>ACTIVE</td>\n",
       "      <td>NONE</td>\n",
       "      <td>26.0</td>\n",
       "      <td>39d90bfe73e5f0bc0a58bca8fc789182955d059fb79009...</td>\n",
       "    </tr>\n",
       "    <tr>\n",
       "      <th>31548011</th>\n",
       "      <td>2020-09-15</td>\n",
       "      <td>5919649889604164626</td>\n",
       "      <td>898692003</td>\n",
       "      <td>0.067780</td>\n",
       "      <td>2</td>\n",
       "      <td>1.0</td>\n",
       "      <td>1.0</td>\n",
       "      <td>ACTIVE</td>\n",
       "      <td>Regularly</td>\n",
       "      <td>23.0</td>\n",
       "      <td>caefb055d2000ea61aaef5e6d472874d72b88c370514ef...</td>\n",
       "    </tr>\n",
       "    <tr>\n",
       "      <th>31548012</th>\n",
       "      <td>2020-09-15</td>\n",
       "      <td>-6548724319026074057</td>\n",
       "      <td>875272011</td>\n",
       "      <td>0.050831</td>\n",
       "      <td>2</td>\n",
       "      <td>0.0</td>\n",
       "      <td>0.0</td>\n",
       "      <td>ACTIVE</td>\n",
       "      <td>NONE</td>\n",
       "      <td>26.0</td>\n",
       "      <td>39d90bfe73e5f0bc0a58bca8fc789182955d059fb79009...</td>\n",
       "    </tr>\n",
       "  </tbody>\n",
       "</table>\n",
       "<p>255241 rows × 11 columns</p>\n",
       "</div>"
      ],
      "text/plain": [
       "              t_dat          customer_id  article_id     price  \\\n",
       "31268096 2020-09-09 -2156777441294618063   685814005  0.033881   \n",
       "31268097 2020-09-09 -6489422566283592999   865240002  0.008458   \n",
       "31268098 2020-09-09 -7761469595989510297   868641002  0.033881   \n",
       "31268099 2020-09-09 -2912203858579140439   867966010  0.033881   \n",
       "31268100 2020-09-09 -2156777441294618063   896343002  0.033881   \n",
       "...             ...                  ...         ...       ...   \n",
       "31548008 2020-09-15 -6548724319026074057   780314001  0.067780   \n",
       "31548009 2020-09-15 -7010773389724270175   706016002  0.033881   \n",
       "31548010 2020-09-15 -6548724319026074057   875272003  0.050831   \n",
       "31548011 2020-09-15  5919649889604164626   898692003  0.067780   \n",
       "31548012 2020-09-15 -6548724319026074057   875272011  0.050831   \n",
       "\n",
       "          sales_channel_id   FN  Active club_member_status  \\\n",
       "31268096                 2  1.0     1.0             ACTIVE   \n",
       "31268097                 1  0.0     0.0             ACTIVE   \n",
       "31268098                 2  1.0     1.0             ACTIVE   \n",
       "31268099                 2  1.0     1.0             ACTIVE   \n",
       "31268100                 2  1.0     1.0             ACTIVE   \n",
       "...                    ...  ...     ...                ...   \n",
       "31548008                 2  0.0     0.0             ACTIVE   \n",
       "31548009                 1  1.0     1.0             ACTIVE   \n",
       "31548010                 2  0.0     0.0             ACTIVE   \n",
       "31548011                 2  1.0     1.0             ACTIVE   \n",
       "31548012                 2  0.0     0.0             ACTIVE   \n",
       "\n",
       "         fashion_news_frequency   age  \\\n",
       "31268096              Regularly  29.0   \n",
       "31268097                   NONE  27.0   \n",
       "31268098              Regularly  22.0   \n",
       "31268099              Regularly  24.0   \n",
       "31268100              Regularly  29.0   \n",
       "...                         ...   ...   \n",
       "31548008                   NONE  26.0   \n",
       "31548009              Regularly  21.0   \n",
       "31548010                   NONE  26.0   \n",
       "31548011              Regularly  23.0   \n",
       "31548012                   NONE  26.0   \n",
       "\n",
       "                                                postal_code  \n",
       "31268096  17d0433ebad432976929d99192315d2479bfb7696af1d2...  \n",
       "31268097  09b4c331056fc94bc83a021f44470ea9e859209123e09f...  \n",
       "31268098  64c420881b31267fd17d03e2aafac8e9ef0bae5a115446...  \n",
       "31268099  e42c4f19dc1b95b82eae4d77106924e07fef6c5c1dd4c3...  \n",
       "31268100  17d0433ebad432976929d99192315d2479bfb7696af1d2...  \n",
       "...                                                     ...  \n",
       "31548008  39d90bfe73e5f0bc0a58bca8fc789182955d059fb79009...  \n",
       "31548009  2020d6a589f9878e20886e17483107cac447bdbb31b19c...  \n",
       "31548010  39d90bfe73e5f0bc0a58bca8fc789182955d059fb79009...  \n",
       "31548011  caefb055d2000ea61aaef5e6d472874d72b88c370514ef...  \n",
       "31548012  39d90bfe73e5f0bc0a58bca8fc789182955d059fb79009...  \n",
       "\n",
       "[255241 rows x 11 columns]"
      ]
     },
     "execution_count": 63,
     "metadata": {},
     "output_type": "execute_result"
    }
   ],
   "source": [
    "sales"
   ]
  },
  {
   "cell_type": "code",
   "execution_count": 64,
   "id": "bcb099ae",
   "metadata": {
    "_cell_guid": "490a2367-b14f-40de-8fe6-d99887ece0b0",
    "_uuid": "334b8f05-46f7-4264-aaff-ab91dbcf28da",
    "collapsed": false,
    "execution": {
     "iopub.execute_input": "2022-04-04T11:18:37.597833Z",
     "iopub.status.busy": "2022-04-04T11:18:37.597022Z",
     "iopub.status.idle": "2022-04-04T11:18:37.613807Z",
     "shell.execute_reply": "2022-04-04T11:18:37.613382Z",
     "shell.execute_reply.started": "2022-04-04T11:08:41.752825Z"
    },
    "jupyter": {
     "outputs_hidden": false
    },
    "papermill": {
     "duration": 0.189106,
     "end_time": "2022-04-04T11:18:37.613922",
     "exception": false,
     "start_time": "2022-04-04T11:18:37.424816",
     "status": "completed"
    },
    "tags": []
   },
   "outputs": [],
   "source": [
    "target_sales = sales[[\"article_id\", \"customer_id\"]].groupby('article_id')[\"customer_id\"].count()\n",
    "general_pred = target_sales.nlargest(N, keep = \"first\").index.to_pandas().tolist()\n",
    "general_pred = ['0' + str(article_id) for article_id in general_pred]\n",
    "general_pred_str =  ' '.join(general_pred)\n",
    "del target_sales"
   ]
  },
  {
   "cell_type": "code",
   "execution_count": 65,
   "id": "115ee0dc",
   "metadata": {
    "_cell_guid": "1ca8a8b7-f271-4796-82e3-7d2c8c9a4301",
    "_uuid": "a8c87106-cccc-4ce3-be8f-27cc5484956d",
    "collapsed": false,
    "execution": {
     "iopub.execute_input": "2022-04-04T11:18:37.934555Z",
     "iopub.status.busy": "2022-04-04T11:18:37.933879Z",
     "iopub.status.idle": "2022-04-04T11:18:37.936806Z",
     "shell.execute_reply": "2022-04-04T11:18:37.937326Z",
     "shell.execute_reply.started": "2022-04-04T11:08:41.775286Z"
    },
    "jupyter": {
     "outputs_hidden": false
    },
    "papermill": {
     "duration": 0.166794,
     "end_time": "2022-04-04T11:18:37.937458",
     "exception": false,
     "start_time": "2022-04-04T11:18:37.770664",
     "status": "completed"
    },
    "tags": []
   },
   "outputs": [
    {
     "data": {
      "text/plain": [
       "'0909370001 0865799006 0918522001 0924243001 0448509014 0751471001 0809238001 0918292001 0762846027 0809238005 0673677002 0923758001'"
      ]
     },
     "execution_count": 65,
     "metadata": {},
     "output_type": "execute_result"
    }
   ],
   "source": [
    "general_pred_str"
   ]
  },
  {
   "cell_type": "code",
   "execution_count": 66,
   "id": "6673cd12",
   "metadata": {
    "_cell_guid": "1a5a8ba1-a890-471b-8bc8-46ed3f884a39",
    "_uuid": "ef1404b1-5e74-4b74-a43d-c74718f7e966",
    "collapsed": false,
    "execution": {
     "iopub.execute_input": "2022-04-04T11:18:38.256833Z",
     "iopub.status.busy": "2022-04-04T11:18:38.255992Z",
     "iopub.status.idle": "2022-04-04T11:18:38.258310Z",
     "shell.execute_reply": "2022-04-04T11:18:38.257867Z",
     "shell.execute_reply.started": "2022-04-04T11:08:41.782655Z"
    },
    "jupyter": {
     "outputs_hidden": false
    },
    "papermill": {
     "duration": 0.163255,
     "end_time": "2022-04-04T11:18:38.258420",
     "exception": false,
     "start_time": "2022-04-04T11:18:38.095165",
     "status": "completed"
    },
    "tags": []
   },
   "outputs": [],
   "source": [
    "#sales.age = sales.age.astype(\"float32\")"
   ]
  },
  {
   "cell_type": "code",
   "execution_count": 67,
   "id": "b2511182",
   "metadata": {
    "_cell_guid": "55adea43-97ea-4c24-9d30-2ce2a7e07443",
    "_uuid": "005a6cc8-cd43-4d2a-9391-b02d9a261d08",
    "collapsed": false,
    "execution": {
     "iopub.execute_input": "2022-04-04T11:18:38.667736Z",
     "iopub.status.busy": "2022-04-04T11:18:38.666842Z",
     "iopub.status.idle": "2022-04-04T11:18:38.820245Z",
     "shell.execute_reply": "2022-04-04T11:18:38.820962Z",
     "shell.execute_reply.started": "2022-04-04T11:08:41.791633Z"
    },
    "jupyter": {
     "outputs_hidden": false
    },
    "papermill": {
     "duration": 0.405352,
     "end_time": "2022-04-04T11:18:38.821190",
     "exception": false,
     "start_time": "2022-04-04T11:18:38.415838",
     "status": "completed"
    },
    "tags": []
   },
   "outputs": [],
   "source": [
    "age_type = pd.cut(sales.to_pandas()[\"age\"], bins = np.array([0, 21, 24, 27, 30, 35, 40, 45, 50, 60, 100], dtype = \"int32\"), right = True)"
   ]
  },
  {
   "cell_type": "code",
   "execution_count": 68,
   "id": "50dc27c0",
   "metadata": {
    "_cell_guid": "04e8ec85-58b1-4b98-afd2-6faacc6fc775",
    "_uuid": "f4a6aac7-9f67-4f0f-8b74-b2a0b619d2ca",
    "collapsed": false,
    "execution": {
     "iopub.execute_input": "2022-04-04T11:18:39.239100Z",
     "iopub.status.busy": "2022-04-04T11:18:39.238202Z",
     "iopub.status.idle": "2022-04-04T11:18:40.339777Z",
     "shell.execute_reply": "2022-04-04T11:18:40.339248Z",
     "shell.execute_reply.started": "2022-04-04T11:08:41.903840Z"
    },
    "jupyter": {
     "outputs_hidden": false
    },
    "papermill": {
     "duration": 1.262853,
     "end_time": "2022-04-04T11:18:40.339910",
     "exception": false,
     "start_time": "2022-04-04T11:18:39.077057",
     "status": "completed"
    },
    "tags": []
   },
   "outputs": [],
   "source": [
    "sales[\"age_type\"] = age_type.astype(\"string\")"
   ]
  },
  {
   "cell_type": "code",
   "execution_count": 69,
   "id": "89d09b13",
   "metadata": {
    "_cell_guid": "822dc73e-9015-44e2-9d5d-6fbd7f56f333",
    "_uuid": "e8047d6b-4ab5-44cb-95e5-5b80831680a9",
    "collapsed": false,
    "execution": {
     "iopub.execute_input": "2022-04-04T11:18:40.664417Z",
     "iopub.status.busy": "2022-04-04T11:18:40.663542Z",
     "iopub.status.idle": "2022-04-04T11:18:40.677132Z",
     "shell.execute_reply": "2022-04-04T11:18:40.677538Z",
     "shell.execute_reply.started": "2022-04-04T11:08:43.027169Z"
    },
    "jupyter": {
     "outputs_hidden": false
    },
    "papermill": {
     "duration": 0.176961,
     "end_time": "2022-04-04T11:18:40.677676",
     "exception": false,
     "start_time": "2022-04-04T11:18:40.500715",
     "status": "completed"
    },
    "tags": []
   },
   "outputs": [],
   "source": [
    "summary = sales.groupby([\"fashion_news_frequency\", \"age_type\", \"article_id\"])[\"postal_code\"].count().\\\n",
    "reset_index().rename({\"postal_code\":\"count\"}, axis = 1)"
   ]
  },
  {
   "cell_type": "code",
   "execution_count": 70,
   "id": "c7a9751d",
   "metadata": {
    "_cell_guid": "db904ec6-6cee-4c82-81ae-5de2c7a37dbc",
    "_uuid": "984be7ba-2077-4d19-a0f7-edd0d9b292c9",
    "collapsed": false,
    "execution": {
     "iopub.execute_input": "2022-04-04T11:18:40.996390Z",
     "iopub.status.busy": "2022-04-04T11:18:40.995568Z",
     "iopub.status.idle": "2022-04-04T11:18:41.051737Z",
     "shell.execute_reply": "2022-04-04T11:18:41.052146Z",
     "shell.execute_reply.started": "2022-04-04T11:08:43.049333Z"
    },
    "jupyter": {
     "outputs_hidden": false
    },
    "papermill": {
     "duration": 0.217985,
     "end_time": "2022-04-04T11:18:41.052299",
     "exception": false,
     "start_time": "2022-04-04T11:18:40.834314",
     "status": "completed"
    },
    "tags": []
   },
   "outputs": [
    {
     "data": {
      "text/html": [
       "<div>\n",
       "<style scoped>\n",
       "    .dataframe tbody tr th:only-of-type {\n",
       "        vertical-align: middle;\n",
       "    }\n",
       "\n",
       "    .dataframe tbody tr th {\n",
       "        vertical-align: top;\n",
       "    }\n",
       "\n",
       "    .dataframe thead th {\n",
       "        text-align: right;\n",
       "    }\n",
       "</style>\n",
       "<table border=\"1\" class=\"dataframe\">\n",
       "  <thead>\n",
       "    <tr style=\"text-align: right;\">\n",
       "      <th></th>\n",
       "      <th>fashion_news_frequency</th>\n",
       "      <th>age_type</th>\n",
       "      <th>article_id</th>\n",
       "      <th>count</th>\n",
       "    </tr>\n",
       "  </thead>\n",
       "  <tbody>\n",
       "    <tr>\n",
       "      <th>2</th>\n",
       "      <td>NONE</td>\n",
       "      <td>(24.0, 27.0]</td>\n",
       "      <td>781135004</td>\n",
       "      <td>1</td>\n",
       "    </tr>\n",
       "    <tr>\n",
       "      <th>3</th>\n",
       "      <td>NONE</td>\n",
       "      <td>(24.0, 27.0]</td>\n",
       "      <td>675070013</td>\n",
       "      <td>1</td>\n",
       "    </tr>\n",
       "    <tr>\n",
       "      <th>4</th>\n",
       "      <td>Regularly</td>\n",
       "      <td>(40.0, 45.0]</td>\n",
       "      <td>919160001</td>\n",
       "      <td>1</td>\n",
       "    </tr>\n",
       "    <tr>\n",
       "      <th>6</th>\n",
       "      <td>Regularly</td>\n",
       "      <td>(0.0, 21.0]</td>\n",
       "      <td>862325004</td>\n",
       "      <td>1</td>\n",
       "    </tr>\n",
       "    <tr>\n",
       "      <th>8</th>\n",
       "      <td>NONE</td>\n",
       "      <td>(50.0, 60.0]</td>\n",
       "      <td>865076004</td>\n",
       "      <td>1</td>\n",
       "    </tr>\n",
       "    <tr>\n",
       "      <th>...</th>\n",
       "      <td>...</td>\n",
       "      <td>...</td>\n",
       "      <td>...</td>\n",
       "      <td>...</td>\n",
       "    </tr>\n",
       "    <tr>\n",
       "      <th>2635</th>\n",
       "      <td>Regularly</td>\n",
       "      <td>(21.0, 24.0]</td>\n",
       "      <td>909370001</td>\n",
       "      <td>112</td>\n",
       "    </tr>\n",
       "    <tr>\n",
       "      <th>67196</th>\n",
       "      <td>NONE</td>\n",
       "      <td>(21.0, 24.0]</td>\n",
       "      <td>909370001</td>\n",
       "      <td>114</td>\n",
       "    </tr>\n",
       "    <tr>\n",
       "      <th>76967</th>\n",
       "      <td>NONE</td>\n",
       "      <td>(27.0, 30.0]</td>\n",
       "      <td>909370001</td>\n",
       "      <td>114</td>\n",
       "    </tr>\n",
       "    <tr>\n",
       "      <th>86330</th>\n",
       "      <td>Regularly</td>\n",
       "      <td>(24.0, 27.0]</td>\n",
       "      <td>909370001</td>\n",
       "      <td>117</td>\n",
       "    </tr>\n",
       "    <tr>\n",
       "      <th>1906</th>\n",
       "      <td>NONE</td>\n",
       "      <td>(24.0, 27.0]</td>\n",
       "      <td>909370001</td>\n",
       "      <td>139</td>\n",
       "    </tr>\n",
       "  </tbody>\n",
       "</table>\n",
       "<p>94093 rows × 4 columns</p>\n",
       "</div>"
      ],
      "text/plain": [
       "      fashion_news_frequency      age_type  article_id  count\n",
       "2                       NONE  (24.0, 27.0]   781135004      1\n",
       "3                       NONE  (24.0, 27.0]   675070013      1\n",
       "4                  Regularly  (40.0, 45.0]   919160001      1\n",
       "6                  Regularly   (0.0, 21.0]   862325004      1\n",
       "8                       NONE  (50.0, 60.0]   865076004      1\n",
       "...                      ...           ...         ...    ...\n",
       "2635               Regularly  (21.0, 24.0]   909370001    112\n",
       "67196                   NONE  (21.0, 24.0]   909370001    114\n",
       "76967                   NONE  (27.0, 30.0]   909370001    114\n",
       "86330              Regularly  (24.0, 27.0]   909370001    117\n",
       "1906                    NONE  (24.0, 27.0]   909370001    139\n",
       "\n",
       "[94093 rows x 4 columns]"
      ]
     },
     "execution_count": 70,
     "metadata": {},
     "output_type": "execute_result"
    }
   ],
   "source": [
    "summary.sort_values(by = [\"count\"])"
   ]
  },
  {
   "cell_type": "code",
   "execution_count": 71,
   "id": "869e23c7",
   "metadata": {
    "_cell_guid": "fb248905-fd2f-439a-8eb1-66f9dff2af90",
    "_uuid": "1033eeb1-9548-4a06-b361-e50a578f731c",
    "collapsed": false,
    "execution": {
     "iopub.execute_input": "2022-04-04T11:18:41.372068Z",
     "iopub.status.busy": "2022-04-04T11:18:41.371304Z",
     "iopub.status.idle": "2022-04-04T11:18:41.401693Z",
     "shell.execute_reply": "2022-04-04T11:18:41.402080Z",
     "shell.execute_reply.started": "2022-04-04T11:08:43.111365Z"
    },
    "jupyter": {
     "outputs_hidden": false
    },
    "papermill": {
     "duration": 0.192354,
     "end_time": "2022-04-04T11:18:41.402219",
     "exception": false,
     "start_time": "2022-04-04T11:18:41.209865",
     "status": "completed"
    },
    "tags": []
   },
   "outputs": [],
   "source": [
    "summary[\"total_count\"] = summary.to_pandas().groupby([\"fashion_news_frequency\", \"age_type\"])[\"count\"].transform(sum)"
   ]
  },
  {
   "cell_type": "code",
   "execution_count": 72,
   "id": "8bb2a98c",
   "metadata": {
    "_cell_guid": "0bdc80cc-9424-4e7e-932f-31f5f9107d89",
    "_uuid": "4e82ec64-7dc8-4188-b312-6b314cf31dab",
    "collapsed": false,
    "execution": {
     "iopub.execute_input": "2022-04-04T11:18:41.724773Z",
     "iopub.status.busy": "2022-04-04T11:18:41.724066Z",
     "iopub.status.idle": "2022-04-04T11:18:41.727211Z",
     "shell.execute_reply": "2022-04-04T11:18:41.726816Z",
     "shell.execute_reply.started": "2022-04-04T11:08:43.147863Z"
    },
    "jupyter": {
     "outputs_hidden": false
    },
    "papermill": {
     "duration": 0.165123,
     "end_time": "2022-04-04T11:18:41.727353",
     "exception": false,
     "start_time": "2022-04-04T11:18:41.562230",
     "status": "completed"
    },
    "tags": []
   },
   "outputs": [],
   "source": [
    "summary[\"score\"] = summary[\"count\"]/summary[\"total_count\"]"
   ]
  },
  {
   "cell_type": "code",
   "execution_count": 73,
   "id": "447fea46",
   "metadata": {
    "_cell_guid": "f45641db-c4c0-48f6-9040-c7e5d685b4a7",
    "_uuid": "c63a3287-689d-4965-b951-c848392e5479",
    "collapsed": false,
    "execution": {
     "iopub.execute_input": "2022-04-04T11:18:42.049886Z",
     "iopub.status.busy": "2022-04-04T11:18:42.049150Z",
     "iopub.status.idle": "2022-04-04T11:18:42.051715Z",
     "shell.execute_reply": "2022-04-04T11:18:42.051275Z",
     "shell.execute_reply.started": "2022-04-04T11:08:43.154581Z"
    },
    "jupyter": {
     "outputs_hidden": false
    },
    "papermill": {
     "duration": 0.166518,
     "end_time": "2022-04-04T11:18:42.051824",
     "exception": false,
     "start_time": "2022-04-04T11:18:41.885306",
     "status": "completed"
    },
    "tags": []
   },
   "outputs": [],
   "source": [
    "summary = cudf.DataFrame(summary)"
   ]
  },
  {
   "cell_type": "code",
   "execution_count": 74,
   "id": "9b75330b",
   "metadata": {
    "_cell_guid": "36974057-5728-442c-a2b7-d9bf01e2c571",
    "_uuid": "882cbb73-746e-4a66-8b4f-9e391609bf0d",
    "collapsed": false,
    "execution": {
     "iopub.execute_input": "2022-04-04T11:18:42.374066Z",
     "iopub.status.busy": "2022-04-04T11:18:42.373547Z",
     "iopub.status.idle": "2022-04-04T11:18:42.438407Z",
     "shell.execute_reply": "2022-04-04T11:18:42.438775Z",
     "shell.execute_reply.started": "2022-04-04T11:08:43.164403Z"
    },
    "jupyter": {
     "outputs_hidden": false
    },
    "papermill": {
     "duration": 0.227537,
     "end_time": "2022-04-04T11:18:42.438906",
     "exception": false,
     "start_time": "2022-04-04T11:18:42.211369",
     "status": "completed"
    },
    "tags": []
   },
   "outputs": [
    {
     "data": {
      "text/html": [
       "<div>\n",
       "<style scoped>\n",
       "    .dataframe tbody tr th:only-of-type {\n",
       "        vertical-align: middle;\n",
       "    }\n",
       "\n",
       "    .dataframe tbody tr th {\n",
       "        vertical-align: top;\n",
       "    }\n",
       "\n",
       "    .dataframe thead th {\n",
       "        text-align: right;\n",
       "    }\n",
       "</style>\n",
       "<table border=\"1\" class=\"dataframe\">\n",
       "  <thead>\n",
       "    <tr style=\"text-align: right;\">\n",
       "      <th></th>\n",
       "      <th>fashion_news_frequency</th>\n",
       "      <th>age_type</th>\n",
       "      <th>article_id</th>\n",
       "      <th>count</th>\n",
       "      <th>total_count</th>\n",
       "      <th>score</th>\n",
       "    </tr>\n",
       "  </thead>\n",
       "  <tbody>\n",
       "    <tr>\n",
       "      <th>70560</th>\n",
       "      <td>NONE</td>\n",
       "      <td>(30.0, 35.0]</td>\n",
       "      <td>108775044</td>\n",
       "      <td>1</td>\n",
       "      <td>16446</td>\n",
       "      <td>0.000061</td>\n",
       "    </tr>\n",
       "    <tr>\n",
       "      <th>92656</th>\n",
       "      <td>NONE</td>\n",
       "      <td>(50.0, 60.0]</td>\n",
       "      <td>108775044</td>\n",
       "      <td>2</td>\n",
       "      <td>17777</td>\n",
       "      <td>0.000113</td>\n",
       "    </tr>\n",
       "    <tr>\n",
       "      <th>18045</th>\n",
       "      <td>NONE</td>\n",
       "      <td>(45.0, 50.0]</td>\n",
       "      <td>111565001</td>\n",
       "      <td>1</td>\n",
       "      <td>12402</td>\n",
       "      <td>0.000081</td>\n",
       "    </tr>\n",
       "    <tr>\n",
       "      <th>28623</th>\n",
       "      <td>Regularly</td>\n",
       "      <td>(24.0, 27.0]</td>\n",
       "      <td>111565001</td>\n",
       "      <td>1</td>\n",
       "      <td>14442</td>\n",
       "      <td>0.000069</td>\n",
       "    </tr>\n",
       "    <tr>\n",
       "      <th>66580</th>\n",
       "      <td>NONE</td>\n",
       "      <td>(40.0, 45.0]</td>\n",
       "      <td>111565001</td>\n",
       "      <td>1</td>\n",
       "      <td>8065</td>\n",
       "      <td>0.000124</td>\n",
       "    </tr>\n",
       "    <tr>\n",
       "      <th>...</th>\n",
       "      <td>...</td>\n",
       "      <td>...</td>\n",
       "      <td>...</td>\n",
       "      <td>...</td>\n",
       "      <td>...</td>\n",
       "      <td>...</td>\n",
       "    </tr>\n",
       "    <tr>\n",
       "      <th>82246</th>\n",
       "      <td>Regularly</td>\n",
       "      <td>(50.0, 60.0]</td>\n",
       "      <td>956217002</td>\n",
       "      <td>1</td>\n",
       "      <td>17613</td>\n",
       "      <td>0.000057</td>\n",
       "    </tr>\n",
       "    <tr>\n",
       "      <th>84577</th>\n",
       "      <td>Regularly</td>\n",
       "      <td>(60.0, 100.0]</td>\n",
       "      <td>956217002</td>\n",
       "      <td>1</td>\n",
       "      <td>6074</td>\n",
       "      <td>0.000165</td>\n",
       "    </tr>\n",
       "    <tr>\n",
       "      <th>88549</th>\n",
       "      <td>Regularly</td>\n",
       "      <td>(21.0, 24.0]</td>\n",
       "      <td>956217002</td>\n",
       "      <td>2</td>\n",
       "      <td>15838</td>\n",
       "      <td>0.000126</td>\n",
       "    </tr>\n",
       "    <tr>\n",
       "      <th>554</th>\n",
       "      <td>NONE</td>\n",
       "      <td>(50.0, 60.0]</td>\n",
       "      <td>956217002</td>\n",
       "      <td>3</td>\n",
       "      <td>17777</td>\n",
       "      <td>0.000169</td>\n",
       "    </tr>\n",
       "    <tr>\n",
       "      <th>46392</th>\n",
       "      <td>NONE</td>\n",
       "      <td>(45.0, 50.0]</td>\n",
       "      <td>956217002</td>\n",
       "      <td>3</td>\n",
       "      <td>12402</td>\n",
       "      <td>0.000242</td>\n",
       "    </tr>\n",
       "  </tbody>\n",
       "</table>\n",
       "<p>94093 rows × 6 columns</p>\n",
       "</div>"
      ],
      "text/plain": [
       "      fashion_news_frequency       age_type  article_id  count  total_count  \\\n",
       "70560                   NONE   (30.0, 35.0]   108775044      1        16446   \n",
       "92656                   NONE   (50.0, 60.0]   108775044      2        17777   \n",
       "18045                   NONE   (45.0, 50.0]   111565001      1        12402   \n",
       "28623              Regularly   (24.0, 27.0]   111565001      1        14442   \n",
       "66580                   NONE   (40.0, 45.0]   111565001      1         8065   \n",
       "...                      ...            ...         ...    ...          ...   \n",
       "82246              Regularly   (50.0, 60.0]   956217002      1        17613   \n",
       "84577              Regularly  (60.0, 100.0]   956217002      1         6074   \n",
       "88549              Regularly   (21.0, 24.0]   956217002      2        15838   \n",
       "554                     NONE   (50.0, 60.0]   956217002      3        17777   \n",
       "46392                   NONE   (45.0, 50.0]   956217002      3        12402   \n",
       "\n",
       "          score  \n",
       "70560  0.000061  \n",
       "92656  0.000113  \n",
       "18045  0.000081  \n",
       "28623  0.000069  \n",
       "66580  0.000124  \n",
       "...         ...  \n",
       "82246  0.000057  \n",
       "84577  0.000165  \n",
       "88549  0.000126  \n",
       "554    0.000169  \n",
       "46392  0.000242  \n",
       "\n",
       "[94093 rows x 6 columns]"
      ]
     },
     "execution_count": 74,
     "metadata": {},
     "output_type": "execute_result"
    }
   ],
   "source": [
    "summary.sort_values(by = [\"article_id\", \"count\"])"
   ]
  },
  {
   "cell_type": "code",
   "execution_count": 75,
   "id": "c116f5ce",
   "metadata": {
    "_cell_guid": "a761a4c6-7966-4443-bb1e-6ed9caf2c96e",
    "_uuid": "efa83622-d490-4db3-8122-27d4bcd783d7",
    "collapsed": false,
    "execution": {
     "iopub.execute_input": "2022-04-04T11:18:42.771396Z",
     "iopub.status.busy": "2022-04-04T11:18:42.770637Z",
     "iopub.status.idle": "2022-04-04T11:18:42.803425Z",
     "shell.execute_reply": "2022-04-04T11:18:42.802983Z",
     "shell.execute_reply.started": "2022-04-04T11:08:43.236407Z"
    },
    "jupyter": {
     "outputs_hidden": false
    },
    "papermill": {
     "duration": 0.196315,
     "end_time": "2022-04-04T11:18:42.803547",
     "exception": false,
     "start_time": "2022-04-04T11:18:42.607232",
     "status": "completed"
    },
    "tags": []
   },
   "outputs": [],
   "source": [
    "summary['rank'] = summary.to_pandas().groupby([\"age_type\"])[\"score\"].rank(\"dense\", ascending=False)\n",
    "summary = summary.loc[summary['rank'] <= 12]"
   ]
  },
  {
   "cell_type": "code",
   "execution_count": 76,
   "id": "611f9a46",
   "metadata": {
    "_cell_guid": "3eee64f1-9551-465f-96a2-5b8469c9f90e",
    "_uuid": "05522ddd-085f-4ec1-935b-8557be758cba",
    "collapsed": false,
    "execution": {
     "iopub.execute_input": "2022-04-04T11:18:43.129955Z",
     "iopub.status.busy": "2022-04-04T11:18:43.129181Z",
     "iopub.status.idle": "2022-04-04T11:18:46.056203Z",
     "shell.execute_reply": "2022-04-04T11:18:46.055328Z",
     "shell.execute_reply.started": "2022-04-04T11:08:43.273570Z"
    },
    "jupyter": {
     "outputs_hidden": false
    },
    "papermill": {
     "duration": 3.092614,
     "end_time": "2022-04-04T11:18:46.056400",
     "exception": false,
     "start_time": "2022-04-04T11:18:42.963786",
     "status": "completed"
    },
    "tags": []
   },
   "outputs": [
    {
     "name": "stdout",
     "output_type": "stream",
     "text": [
      "CPU times: user 129 ms, sys: 105 ms, total: 234 ms\n",
      "Wall time: 2.92 s\n"
     ]
    }
   ],
   "source": [
    "%%time\n",
    "sub  = cudf.read_csv('../input/h-and-m-personalized-fashion-recommendations/sample_submission.csv',\n",
    "                            usecols= ['customer_id'], \n",
    "                            dtype={'customer_id': 'string'})\n",
    "\n",
    "sub['customer_id2'] = sub['customer_id'].str[-16:].str.hex_to_int().astype('int64')\n",
    "sub = sub.rename(columns = {'customer_id2':'customer_id', 'customer_id':'customer_id2'})"
   ]
  },
  {
   "cell_type": "code",
   "execution_count": 77,
   "id": "ccaaa017",
   "metadata": {
    "_cell_guid": "3cb432a9-df0a-4593-8095-a2e2bc645279",
    "_uuid": "91148f88-e46b-4d17-969a-591cdab78b9b",
    "collapsed": false,
    "execution": {
     "iopub.execute_input": "2022-04-04T11:18:46.391166Z",
     "iopub.status.busy": "2022-04-04T11:18:46.390646Z",
     "iopub.status.idle": "2022-04-04T11:18:46.433218Z",
     "shell.execute_reply": "2022-04-04T11:18:46.432808Z",
     "shell.execute_reply.started": "2022-04-04T11:08:45.928752Z"
    },
    "jupyter": {
     "outputs_hidden": false
    },
    "papermill": {
     "duration": 0.209649,
     "end_time": "2022-04-04T11:18:46.433361",
     "exception": false,
     "start_time": "2022-04-04T11:18:46.223712",
     "status": "completed"
    },
    "tags": []
   },
   "outputs": [
    {
     "data": {
      "text/html": [
       "<div>\n",
       "<style scoped>\n",
       "    .dataframe tbody tr th:only-of-type {\n",
       "        vertical-align: middle;\n",
       "    }\n",
       "\n",
       "    .dataframe tbody tr th {\n",
       "        vertical-align: top;\n",
       "    }\n",
       "\n",
       "    .dataframe thead th {\n",
       "        text-align: right;\n",
       "    }\n",
       "</style>\n",
       "<table border=\"1\" class=\"dataframe\">\n",
       "  <thead>\n",
       "    <tr style=\"text-align: right;\">\n",
       "      <th></th>\n",
       "      <th>customer_id2</th>\n",
       "      <th>customer_id</th>\n",
       "    </tr>\n",
       "  </thead>\n",
       "  <tbody>\n",
       "    <tr>\n",
       "      <th>0</th>\n",
       "      <td>00000dbacae5abe5e23885899a1fa44253a17956c6d1c3...</td>\n",
       "      <td>6883939031699146327</td>\n",
       "    </tr>\n",
       "    <tr>\n",
       "      <th>1</th>\n",
       "      <td>0000423b00ade91418cceaf3b26c6af3dd342b51fd051e...</td>\n",
       "      <td>-7200416642310594310</td>\n",
       "    </tr>\n",
       "    <tr>\n",
       "      <th>2</th>\n",
       "      <td>000058a12d5b43e67d225668fa1f8d618c13dc232df0ca...</td>\n",
       "      <td>-6846340800584936</td>\n",
       "    </tr>\n",
       "    <tr>\n",
       "      <th>3</th>\n",
       "      <td>00005ca1c9ed5f5146b52ac8639a40ca9d57aeff4d1bd2...</td>\n",
       "      <td>-94071612138601410</td>\n",
       "    </tr>\n",
       "    <tr>\n",
       "      <th>4</th>\n",
       "      <td>00006413d8573cd20ed7128e53b7b13819fe5cfc2d801f...</td>\n",
       "      <td>-283965518499174310</td>\n",
       "    </tr>\n",
       "    <tr>\n",
       "      <th>...</th>\n",
       "      <td>...</td>\n",
       "      <td>...</td>\n",
       "    </tr>\n",
       "    <tr>\n",
       "      <th>1371975</th>\n",
       "      <td>ffffbbf78b6eaac697a8a5dfbfd2bfa8113ee5b403e474...</td>\n",
       "      <td>7551062398649767985</td>\n",
       "    </tr>\n",
       "    <tr>\n",
       "      <th>1371976</th>\n",
       "      <td>ffffcd5046a6143d29a04fb8c424ce494a76e5cdf4fab5...</td>\n",
       "      <td>-9141402131989464905</td>\n",
       "    </tr>\n",
       "    <tr>\n",
       "      <th>1371977</th>\n",
       "      <td>ffffcf35913a0bee60e8741cb2b4e78b8a98ee5ff2e6a1...</td>\n",
       "      <td>-8286316756823862684</td>\n",
       "    </tr>\n",
       "    <tr>\n",
       "      <th>1371978</th>\n",
       "      <td>ffffd7744cebcf3aca44ae7049d2a94b87074c3d4ffe38...</td>\n",
       "      <td>2551401172826382186</td>\n",
       "    </tr>\n",
       "    <tr>\n",
       "      <th>1371979</th>\n",
       "      <td>ffffd9ac14e89946416d80e791d064701994755c3ab686...</td>\n",
       "      <td>-1516792180973952447</td>\n",
       "    </tr>\n",
       "  </tbody>\n",
       "</table>\n",
       "<p>1371980 rows × 2 columns</p>\n",
       "</div>"
      ],
      "text/plain": [
       "                                              customer_id2  \\\n",
       "0        00000dbacae5abe5e23885899a1fa44253a17956c6d1c3...   \n",
       "1        0000423b00ade91418cceaf3b26c6af3dd342b51fd051e...   \n",
       "2        000058a12d5b43e67d225668fa1f8d618c13dc232df0ca...   \n",
       "3        00005ca1c9ed5f5146b52ac8639a40ca9d57aeff4d1bd2...   \n",
       "4        00006413d8573cd20ed7128e53b7b13819fe5cfc2d801f...   \n",
       "...                                                    ...   \n",
       "1371975  ffffbbf78b6eaac697a8a5dfbfd2bfa8113ee5b403e474...   \n",
       "1371976  ffffcd5046a6143d29a04fb8c424ce494a76e5cdf4fab5...   \n",
       "1371977  ffffcf35913a0bee60e8741cb2b4e78b8a98ee5ff2e6a1...   \n",
       "1371978  ffffd7744cebcf3aca44ae7049d2a94b87074c3d4ffe38...   \n",
       "1371979  ffffd9ac14e89946416d80e791d064701994755c3ab686...   \n",
       "\n",
       "                 customer_id  \n",
       "0        6883939031699146327  \n",
       "1       -7200416642310594310  \n",
       "2          -6846340800584936  \n",
       "3         -94071612138601410  \n",
       "4        -283965518499174310  \n",
       "...                      ...  \n",
       "1371975  7551062398649767985  \n",
       "1371976 -9141402131989464905  \n",
       "1371977 -8286316756823862684  \n",
       "1371978  2551401172826382186  \n",
       "1371979 -1516792180973952447  \n",
       "\n",
       "[1371980 rows x 2 columns]"
      ]
     },
     "execution_count": 77,
     "metadata": {},
     "output_type": "execute_result"
    }
   ],
   "source": [
    "sub"
   ]
  },
  {
   "cell_type": "code",
   "execution_count": 78,
   "id": "5958ef84",
   "metadata": {
    "_cell_guid": "66a45798-7283-4a51-b3be-aa40412171bb",
    "_uuid": "bd125400-8975-435a-b304-7e06ffeac2d4",
    "collapsed": false,
    "execution": {
     "iopub.execute_input": "2022-04-04T11:18:46.758511Z",
     "iopub.status.busy": "2022-04-04T11:18:46.757693Z",
     "iopub.status.idle": "2022-04-04T11:18:46.841353Z",
     "shell.execute_reply": "2022-04-04T11:18:46.840908Z",
     "shell.execute_reply.started": "2022-04-04T11:08:45.981446Z"
    },
    "jupyter": {
     "outputs_hidden": false
    },
    "papermill": {
     "duration": 0.248044,
     "end_time": "2022-04-04T11:18:46.841480",
     "exception": false,
     "start_time": "2022-04-04T11:18:46.593436",
     "status": "completed"
    },
    "tags": []
   },
   "outputs": [
    {
     "data": {
      "text/html": [
       "<div>\n",
       "<style scoped>\n",
       "    .dataframe tbody tr th:only-of-type {\n",
       "        vertical-align: middle;\n",
       "    }\n",
       "\n",
       "    .dataframe tbody tr th {\n",
       "        vertical-align: top;\n",
       "    }\n",
       "\n",
       "    .dataframe thead th {\n",
       "        text-align: right;\n",
       "    }\n",
       "</style>\n",
       "<table border=\"1\" class=\"dataframe\">\n",
       "  <thead>\n",
       "    <tr style=\"text-align: right;\">\n",
       "      <th></th>\n",
       "      <th>customer_id</th>\n",
       "      <th>FN</th>\n",
       "      <th>Active</th>\n",
       "      <th>club_member_status</th>\n",
       "      <th>fashion_news_frequency</th>\n",
       "      <th>age</th>\n",
       "      <th>postal_code</th>\n",
       "    </tr>\n",
       "  </thead>\n",
       "  <tbody>\n",
       "    <tr>\n",
       "      <th>0</th>\n",
       "      <td>6883939031699146327</td>\n",
       "      <td>&lt;NA&gt;</td>\n",
       "      <td>&lt;NA&gt;</td>\n",
       "      <td>ACTIVE</td>\n",
       "      <td>NONE</td>\n",
       "      <td>49.0</td>\n",
       "      <td>52043ee2162cf5aa7ee79974281641c6f11a68d276429a...</td>\n",
       "    </tr>\n",
       "    <tr>\n",
       "      <th>1</th>\n",
       "      <td>-7200416642310594310</td>\n",
       "      <td>&lt;NA&gt;</td>\n",
       "      <td>&lt;NA&gt;</td>\n",
       "      <td>ACTIVE</td>\n",
       "      <td>NONE</td>\n",
       "      <td>25.0</td>\n",
       "      <td>2973abc54daa8a5f8ccfe9362140c63247c5eee03f1d93...</td>\n",
       "    </tr>\n",
       "    <tr>\n",
       "      <th>2</th>\n",
       "      <td>-6846340800584936</td>\n",
       "      <td>&lt;NA&gt;</td>\n",
       "      <td>&lt;NA&gt;</td>\n",
       "      <td>ACTIVE</td>\n",
       "      <td>NONE</td>\n",
       "      <td>24.0</td>\n",
       "      <td>64f17e6a330a85798e4998f62d0930d14db8db1c054af6...</td>\n",
       "    </tr>\n",
       "    <tr>\n",
       "      <th>3</th>\n",
       "      <td>-94071612138601410</td>\n",
       "      <td>&lt;NA&gt;</td>\n",
       "      <td>&lt;NA&gt;</td>\n",
       "      <td>ACTIVE</td>\n",
       "      <td>NONE</td>\n",
       "      <td>54.0</td>\n",
       "      <td>5d36574f52495e81f019b680c843c443bd343d5ca5b1c2...</td>\n",
       "    </tr>\n",
       "    <tr>\n",
       "      <th>4</th>\n",
       "      <td>-283965518499174310</td>\n",
       "      <td>1.0</td>\n",
       "      <td>1.0</td>\n",
       "      <td>ACTIVE</td>\n",
       "      <td>Regularly</td>\n",
       "      <td>52.0</td>\n",
       "      <td>25fa5ddee9aac01b35208d01736e57942317d756b32ddd...</td>\n",
       "    </tr>\n",
       "    <tr>\n",
       "      <th>...</th>\n",
       "      <td>...</td>\n",
       "      <td>...</td>\n",
       "      <td>...</td>\n",
       "      <td>...</td>\n",
       "      <td>...</td>\n",
       "      <td>...</td>\n",
       "      <td>...</td>\n",
       "    </tr>\n",
       "    <tr>\n",
       "      <th>1371975</th>\n",
       "      <td>7551062398649767985</td>\n",
       "      <td>&lt;NA&gt;</td>\n",
       "      <td>&lt;NA&gt;</td>\n",
       "      <td>ACTIVE</td>\n",
       "      <td>NONE</td>\n",
       "      <td>24.0</td>\n",
       "      <td>7aa399f7e669990daba2d92c577b52237380662f36480b...</td>\n",
       "    </tr>\n",
       "    <tr>\n",
       "      <th>1371976</th>\n",
       "      <td>-9141402131989464905</td>\n",
       "      <td>&lt;NA&gt;</td>\n",
       "      <td>&lt;NA&gt;</td>\n",
       "      <td>ACTIVE</td>\n",
       "      <td>NONE</td>\n",
       "      <td>21.0</td>\n",
       "      <td>3f47f1279beb72215f4de557d950e0bfa73789d24acb5e...</td>\n",
       "    </tr>\n",
       "    <tr>\n",
       "      <th>1371977</th>\n",
       "      <td>-8286316756823862684</td>\n",
       "      <td>1.0</td>\n",
       "      <td>1.0</td>\n",
       "      <td>ACTIVE</td>\n",
       "      <td>Regularly</td>\n",
       "      <td>21.0</td>\n",
       "      <td>4563fc79215672cd6a863f2b4bf56b8f898f2d96ed590e...</td>\n",
       "    </tr>\n",
       "    <tr>\n",
       "      <th>1371978</th>\n",
       "      <td>2551401172826382186</td>\n",
       "      <td>1.0</td>\n",
       "      <td>1.0</td>\n",
       "      <td>ACTIVE</td>\n",
       "      <td>Regularly</td>\n",
       "      <td>18.0</td>\n",
       "      <td>8892c18e9bc3dca6aa4000cb8094fc4b51ee8db2ed14d7...</td>\n",
       "    </tr>\n",
       "    <tr>\n",
       "      <th>1371979</th>\n",
       "      <td>-1516792180973952447</td>\n",
       "      <td>&lt;NA&gt;</td>\n",
       "      <td>&lt;NA&gt;</td>\n",
       "      <td>PRE-CREATE</td>\n",
       "      <td>NONE</td>\n",
       "      <td>65.0</td>\n",
       "      <td>0a1a03306fb2f62164c2a439b38c0caa64b40deaae8687...</td>\n",
       "    </tr>\n",
       "  </tbody>\n",
       "</table>\n",
       "<p>1371980 rows × 7 columns</p>\n",
       "</div>"
      ],
      "text/plain": [
       "                 customer_id    FN Active club_member_status  \\\n",
       "0        6883939031699146327  <NA>   <NA>             ACTIVE   \n",
       "1       -7200416642310594310  <NA>   <NA>             ACTIVE   \n",
       "2          -6846340800584936  <NA>   <NA>             ACTIVE   \n",
       "3         -94071612138601410  <NA>   <NA>             ACTIVE   \n",
       "4        -283965518499174310   1.0    1.0             ACTIVE   \n",
       "...                      ...   ...    ...                ...   \n",
       "1371975  7551062398649767985  <NA>   <NA>             ACTIVE   \n",
       "1371976 -9141402131989464905  <NA>   <NA>             ACTIVE   \n",
       "1371977 -8286316756823862684   1.0    1.0             ACTIVE   \n",
       "1371978  2551401172826382186   1.0    1.0             ACTIVE   \n",
       "1371979 -1516792180973952447  <NA>   <NA>         PRE-CREATE   \n",
       "\n",
       "        fashion_news_frequency   age  \\\n",
       "0                         NONE  49.0   \n",
       "1                         NONE  25.0   \n",
       "2                         NONE  24.0   \n",
       "3                         NONE  54.0   \n",
       "4                    Regularly  52.0   \n",
       "...                        ...   ...   \n",
       "1371975                   NONE  24.0   \n",
       "1371976                   NONE  21.0   \n",
       "1371977              Regularly  21.0   \n",
       "1371978              Regularly  18.0   \n",
       "1371979                   NONE  65.0   \n",
       "\n",
       "                                               postal_code  \n",
       "0        52043ee2162cf5aa7ee79974281641c6f11a68d276429a...  \n",
       "1        2973abc54daa8a5f8ccfe9362140c63247c5eee03f1d93...  \n",
       "2        64f17e6a330a85798e4998f62d0930d14db8db1c054af6...  \n",
       "3        5d36574f52495e81f019b680c843c443bd343d5ca5b1c2...  \n",
       "4        25fa5ddee9aac01b35208d01736e57942317d756b32ddd...  \n",
       "...                                                    ...  \n",
       "1371975  7aa399f7e669990daba2d92c577b52237380662f36480b...  \n",
       "1371976  3f47f1279beb72215f4de557d950e0bfa73789d24acb5e...  \n",
       "1371977  4563fc79215672cd6a863f2b4bf56b8f898f2d96ed590e...  \n",
       "1371978  8892c18e9bc3dca6aa4000cb8094fc4b51ee8db2ed14d7...  \n",
       "1371979  0a1a03306fb2f62164c2a439b38c0caa64b40deaae8687...  \n",
       "\n",
       "[1371980 rows x 7 columns]"
      ]
     },
     "execution_count": 78,
     "metadata": {},
     "output_type": "execute_result"
    }
   ],
   "source": [
    "customer"
   ]
  },
  {
   "cell_type": "code",
   "execution_count": 79,
   "id": "a52fb130",
   "metadata": {
    "_cell_guid": "a1255e94-b76d-4e04-93e6-6f5d4adb7ecd",
    "_uuid": "6a23b3da-a0b3-4eed-8f23-683f40edd909",
    "collapsed": false,
    "execution": {
     "iopub.execute_input": "2022-04-04T11:18:47.169534Z",
     "iopub.status.busy": "2022-04-04T11:18:47.168692Z",
     "iopub.status.idle": "2022-04-04T11:18:54.426389Z",
     "shell.execute_reply": "2022-04-04T11:18:54.427537Z",
     "shell.execute_reply.started": "2022-04-04T11:08:46.068358Z"
    },
    "jupyter": {
     "outputs_hidden": false
    },
    "papermill": {
     "duration": 7.425838,
     "end_time": "2022-04-04T11:18:54.427749",
     "exception": false,
     "start_time": "2022-04-04T11:18:47.001911",
     "status": "completed"
    },
    "tags": []
   },
   "outputs": [],
   "source": [
    "sub_customer = sub.merge(customer.fillna(0), on = \"customer_id\")\n",
    "sub_customer[\"age_type\"] = pd.cut(sub_customer.to_pandas()[\"age\"], bins = np.array([0, 21, 24, 27, 30, 35, 40, 45, 50, 60, 100], dtype = \"int32\"), right = True).astype(\"string\")"
   ]
  },
  {
   "cell_type": "code",
   "execution_count": 80,
   "id": "8b24bfc7",
   "metadata": {
    "_cell_guid": "d80b9400-6ea7-493e-9872-5f80d80f88c5",
    "_uuid": "d2d15ef2-8c10-45c0-b433-37d423d7dbdc",
    "collapsed": false,
    "execution": {
     "iopub.execute_input": "2022-04-04T11:18:54.767276Z",
     "iopub.status.busy": "2022-04-04T11:18:54.765878Z",
     "iopub.status.idle": "2022-04-04T11:18:58.565334Z",
     "shell.execute_reply": "2022-04-04T11:18:58.564407Z",
     "shell.execute_reply.started": "2022-04-04T11:08:52.937154Z"
    },
    "jupyter": {
     "outputs_hidden": false
    },
    "papermill": {
     "duration": 3.965344,
     "end_time": "2022-04-04T11:18:58.565480",
     "exception": false,
     "start_time": "2022-04-04T11:18:54.600136",
     "status": "completed"
    },
    "tags": []
   },
   "outputs": [],
   "source": [
    "result3 = sub_customer.to_pandas().merge(summary.to_pandas(), on = [\"fashion_news_frequency\", \"age_type\"], how = \"left\")"
   ]
  },
  {
   "cell_type": "code",
   "execution_count": 81,
   "id": "856ad1c5",
   "metadata": {
    "_cell_guid": "1f3198a2-6ff4-4130-bbec-fa33e4f469ce",
    "_uuid": "06a2c12e-a2a5-45c3-9419-6ee336a84396",
    "collapsed": false,
    "execution": {
     "iopub.execute_input": "2022-04-04T11:18:58.893107Z",
     "iopub.status.busy": "2022-04-04T11:18:58.891801Z",
     "iopub.status.idle": "2022-04-04T11:19:00.625075Z",
     "shell.execute_reply": "2022-04-04T11:19:00.625765Z",
     "shell.execute_reply.started": "2022-04-04T11:08:56.773688Z"
    },
    "jupyter": {
     "outputs_hidden": false
    },
    "papermill": {
     "duration": 1.899094,
     "end_time": "2022-04-04T11:19:00.625985",
     "exception": false,
     "start_time": "2022-04-04T11:18:58.726891",
     "status": "completed"
    },
    "tags": []
   },
   "outputs": [],
   "source": [
    "result3[\"source\"] = 3\n",
    "result3 = result3.loc[:,[\"customer_id\", \"article_id\", \"source\", \"score\", \"rank\"]]"
   ]
  },
  {
   "cell_type": "code",
   "execution_count": 82,
   "id": "0986cfd6",
   "metadata": {
    "_cell_guid": "b648a5e5-9a2b-4bbe-b9f8-45ce929662ce",
    "_uuid": "f295878b-9b83-42e6-9dc8-8849de4fe481",
    "collapsed": false,
    "execution": {
     "iopub.execute_input": "2022-04-04T11:19:01.148815Z",
     "iopub.status.busy": "2022-04-04T11:19:01.148034Z",
     "iopub.status.idle": "2022-04-04T11:19:01.152232Z",
     "shell.execute_reply": "2022-04-04T11:19:01.152643Z",
     "shell.execute_reply.started": "2022-04-04T11:08:58.488977Z"
    },
    "jupyter": {
     "outputs_hidden": false
    },
    "papermill": {
     "duration": 0.252889,
     "end_time": "2022-04-04T11:19:01.152783",
     "exception": false,
     "start_time": "2022-04-04T11:19:00.899894",
     "status": "completed"
    },
    "tags": []
   },
   "outputs": [
    {
     "data": {
      "text/html": [
       "<div>\n",
       "<style scoped>\n",
       "    .dataframe tbody tr th:only-of-type {\n",
       "        vertical-align: middle;\n",
       "    }\n",
       "\n",
       "    .dataframe tbody tr th {\n",
       "        vertical-align: top;\n",
       "    }\n",
       "\n",
       "    .dataframe thead th {\n",
       "        text-align: right;\n",
       "    }\n",
       "</style>\n",
       "<table border=\"1\" class=\"dataframe\">\n",
       "  <thead>\n",
       "    <tr style=\"text-align: right;\">\n",
       "      <th></th>\n",
       "      <th>customer_id</th>\n",
       "      <th>article_id</th>\n",
       "      <th>source</th>\n",
       "      <th>score</th>\n",
       "      <th>rank</th>\n",
       "    </tr>\n",
       "  </thead>\n",
       "  <tbody>\n",
       "    <tr>\n",
       "      <th>0</th>\n",
       "      <td>3441287777015642391</td>\n",
       "      <td>448509014.0</td>\n",
       "      <td>3</td>\n",
       "      <td>0.006129</td>\n",
       "      <td>5.0</td>\n",
       "    </tr>\n",
       "    <tr>\n",
       "      <th>1</th>\n",
       "      <td>3441287777015642391</td>\n",
       "      <td>918522001.0</td>\n",
       "      <td>3</td>\n",
       "      <td>0.004767</td>\n",
       "      <td>9.0</td>\n",
       "    </tr>\n",
       "    <tr>\n",
       "      <th>2</th>\n",
       "      <td>3441287777015642391</td>\n",
       "      <td>715624001.0</td>\n",
       "      <td>3</td>\n",
       "      <td>0.005524</td>\n",
       "      <td>7.0</td>\n",
       "    </tr>\n",
       "    <tr>\n",
       "      <th>3</th>\n",
       "      <td>3441287777015642391</td>\n",
       "      <td>685814003.0</td>\n",
       "      <td>3</td>\n",
       "      <td>0.006281</td>\n",
       "      <td>4.0</td>\n",
       "    </tr>\n",
       "    <tr>\n",
       "      <th>4</th>\n",
       "      <td>-4723521822140368103</td>\n",
       "      <td>909370001.0</td>\n",
       "      <td>3</td>\n",
       "      <td>0.006762</td>\n",
       "      <td>4.0</td>\n",
       "    </tr>\n",
       "    <tr>\n",
       "      <th>...</th>\n",
       "      <td>...</td>\n",
       "      <td>...</td>\n",
       "      <td>...</td>\n",
       "      <td>...</td>\n",
       "      <td>...</td>\n",
       "    </tr>\n",
       "    <tr>\n",
       "      <th>7321437</th>\n",
       "      <td>-7430959013662680730</td>\n",
       "      <td>910601003.0</td>\n",
       "      <td>3</td>\n",
       "      <td>0.004201</td>\n",
       "      <td>6.0</td>\n",
       "    </tr>\n",
       "    <tr>\n",
       "      <th>7321438</th>\n",
       "      <td>-7430959013662680730</td>\n",
       "      <td>896152002.0</td>\n",
       "      <td>3</td>\n",
       "      <td>0.003974</td>\n",
       "      <td>8.0</td>\n",
       "    </tr>\n",
       "    <tr>\n",
       "      <th>7321439</th>\n",
       "      <td>-7430959013662680730</td>\n",
       "      <td>909370001.0</td>\n",
       "      <td>3</td>\n",
       "      <td>0.004258</td>\n",
       "      <td>5.0</td>\n",
       "    </tr>\n",
       "    <tr>\n",
       "      <th>7321440</th>\n",
       "      <td>-7430959013662680730</td>\n",
       "      <td>918522001.0</td>\n",
       "      <td>3</td>\n",
       "      <td>0.003918</td>\n",
       "      <td>9.0</td>\n",
       "    </tr>\n",
       "    <tr>\n",
       "      <th>7321441</th>\n",
       "      <td>-7430959013662680730</td>\n",
       "      <td>751471001.0</td>\n",
       "      <td>3</td>\n",
       "      <td>0.004031</td>\n",
       "      <td>7.0</td>\n",
       "    </tr>\n",
       "  </tbody>\n",
       "</table>\n",
       "<p>7321442 rows × 5 columns</p>\n",
       "</div>"
      ],
      "text/plain": [
       "                 customer_id   article_id  source     score  rank\n",
       "0        3441287777015642391  448509014.0       3  0.006129   5.0\n",
       "1        3441287777015642391  918522001.0       3  0.004767   9.0\n",
       "2        3441287777015642391  715624001.0       3  0.005524   7.0\n",
       "3        3441287777015642391  685814003.0       3  0.006281   4.0\n",
       "4       -4723521822140368103  909370001.0       3  0.006762   4.0\n",
       "...                      ...          ...     ...       ...   ...\n",
       "7321437 -7430959013662680730  910601003.0       3  0.004201   6.0\n",
       "7321438 -7430959013662680730  896152002.0       3  0.003974   8.0\n",
       "7321439 -7430959013662680730  909370001.0       3  0.004258   5.0\n",
       "7321440 -7430959013662680730  918522001.0       3  0.003918   9.0\n",
       "7321441 -7430959013662680730  751471001.0       3  0.004031   7.0\n",
       "\n",
       "[7321442 rows x 5 columns]"
      ]
     },
     "execution_count": 82,
     "metadata": {},
     "output_type": "execute_result"
    }
   ],
   "source": [
    "result3"
   ]
  },
  {
   "cell_type": "code",
   "execution_count": 83,
   "id": "8e2faf98",
   "metadata": {
    "_cell_guid": "7933f17a-6a44-46dc-bf03-b055391f030e",
    "_uuid": "f96683c8-e520-4b91-801b-a932beb94fd0",
    "collapsed": false,
    "execution": {
     "iopub.execute_input": "2022-04-04T11:19:01.477545Z",
     "iopub.status.busy": "2022-04-04T11:19:01.476775Z",
     "iopub.status.idle": "2022-04-04T11:19:01.478824Z",
     "shell.execute_reply": "2022-04-04T11:19:01.479198Z",
     "shell.execute_reply.started": "2022-04-04T11:08:58.505922Z"
    },
    "jupyter": {
     "outputs_hidden": false
    },
    "papermill": {
     "duration": 0.166329,
     "end_time": "2022-04-04T11:19:01.479356",
     "exception": false,
     "start_time": "2022-04-04T11:19:01.313027",
     "status": "completed"
    },
    "tags": []
   },
   "outputs": [],
   "source": [
    "#result3.to_csv(\"/kaggle/working/result3.csv\", index = False)"
   ]
  },
  {
   "cell_type": "markdown",
   "id": "12eb8dc4",
   "metadata": {
    "_cell_guid": "5fb743f7-61e7-4d26-a4ea-90df2b723126",
    "_uuid": "64eb97e5-3a1d-43c8-a305-be576ff253da",
    "editable": false,
    "papermill": {
     "duration": 0.160044,
     "end_time": "2022-04-04T11:19:01.799030",
     "exception": false,
     "start_time": "2022-04-04T11:19:01.638986",
     "status": "completed"
    },
    "tags": []
   },
   "source": [
    "## 混合排序"
   ]
  },
  {
   "cell_type": "code",
   "execution_count": 84,
   "id": "79210497",
   "metadata": {
    "_cell_guid": "e89a9ca8-b0cc-4b6a-9892-76c67c062f05",
    "_uuid": "5da11cbd-cf75-4054-b8a0-f126238444dd",
    "collapsed": false,
    "execution": {
     "iopub.execute_input": "2022-04-04T11:19:02.123763Z",
     "iopub.status.busy": "2022-04-04T11:19:02.123189Z",
     "iopub.status.idle": "2022-04-04T11:19:02.126900Z",
     "shell.execute_reply": "2022-04-04T11:19:02.126435Z",
     "shell.execute_reply.started": "2022-04-04T11:08:58.514356Z"
    },
    "jupyter": {
     "outputs_hidden": false
    },
    "papermill": {
     "duration": 0.168337,
     "end_time": "2022-04-04T11:19:02.127009",
     "exception": false,
     "start_time": "2022-04-04T11:19:01.958672",
     "status": "completed"
    },
    "tags": []
   },
   "outputs": [],
   "source": [
    "#result2 = pd.read_csv(\"../input/relation/result2.csv\")\n",
    "#result1 = pd.read_csv(\"../input/relation/result1.csv\")\n",
    "#result3 = pd.read_csv(\"/kaggle/working/result3.csv\")"
   ]
  },
  {
   "cell_type": "code",
   "execution_count": 85,
   "id": "01bc2731",
   "metadata": {
    "_cell_guid": "770ce7a8-a20d-4958-a790-55cf438f5c8b",
    "_uuid": "4f7af5f2-25db-4933-a718-09a179f9d5cb",
    "collapsed": false,
    "execution": {
     "iopub.execute_input": "2022-04-04T11:19:02.457614Z",
     "iopub.status.busy": "2022-04-04T11:19:02.456681Z",
     "iopub.status.idle": "2022-04-04T11:19:02.458697Z",
     "shell.execute_reply": "2022-04-04T11:19:02.459170Z",
     "shell.execute_reply.started": "2022-04-04T11:08:58.523216Z"
    },
    "jupyter": {
     "outputs_hidden": false
    },
    "papermill": {
     "duration": 0.168917,
     "end_time": "2022-04-04T11:19:02.459317",
     "exception": false,
     "start_time": "2022-04-04T11:19:02.290400",
     "status": "completed"
    },
    "tags": []
   },
   "outputs": [],
   "source": [
    "#result1 = pd.read_csv(\"/kaggle/working/result1.csv\")\n",
    "#result2 = pd.read_csv(\"/kaggle/working/result2.csv\")"
   ]
  },
  {
   "cell_type": "code",
   "execution_count": 86,
   "id": "e722ec74",
   "metadata": {
    "_cell_guid": "d7302397-e4c3-4992-8302-caa0f17cc43d",
    "_uuid": "9a6f71ce-3e3d-4b7f-bef1-bf2e83f2e6c3",
    "collapsed": false,
    "execution": {
     "iopub.execute_input": "2022-04-04T11:19:02.794034Z",
     "iopub.status.busy": "2022-04-04T11:19:02.793248Z",
     "iopub.status.idle": "2022-04-04T11:19:02.807198Z",
     "shell.execute_reply": "2022-04-04T11:19:02.807677Z",
     "shell.execute_reply.started": "2022-04-04T11:08:58.533033Z"
    },
    "jupyter": {
     "outputs_hidden": false
    },
    "papermill": {
     "duration": 0.179297,
     "end_time": "2022-04-04T11:19:02.807815",
     "exception": false,
     "start_time": "2022-04-04T11:19:02.628518",
     "status": "completed"
    },
    "tags": []
   },
   "outputs": [
    {
     "data": {
      "text/html": [
       "<div>\n",
       "<style scoped>\n",
       "    .dataframe tbody tr th:only-of-type {\n",
       "        vertical-align: middle;\n",
       "    }\n",
       "\n",
       "    .dataframe tbody tr th {\n",
       "        vertical-align: top;\n",
       "    }\n",
       "\n",
       "    .dataframe thead th {\n",
       "        text-align: right;\n",
       "    }\n",
       "</style>\n",
       "<table border=\"1\" class=\"dataframe\">\n",
       "  <thead>\n",
       "    <tr style=\"text-align: right;\">\n",
       "      <th></th>\n",
       "      <th>customer_id</th>\n",
       "      <th>article_id</th>\n",
       "      <th>source</th>\n",
       "      <th>score</th>\n",
       "      <th>rank</th>\n",
       "    </tr>\n",
       "  </thead>\n",
       "  <tbody>\n",
       "    <tr>\n",
       "      <th>0</th>\n",
       "      <td>3441287777015642391</td>\n",
       "      <td>448509014.0</td>\n",
       "      <td>3</td>\n",
       "      <td>0.006129</td>\n",
       "      <td>5.0</td>\n",
       "    </tr>\n",
       "    <tr>\n",
       "      <th>1</th>\n",
       "      <td>3441287777015642391</td>\n",
       "      <td>918522001.0</td>\n",
       "      <td>3</td>\n",
       "      <td>0.004767</td>\n",
       "      <td>9.0</td>\n",
       "    </tr>\n",
       "    <tr>\n",
       "      <th>2</th>\n",
       "      <td>3441287777015642391</td>\n",
       "      <td>715624001.0</td>\n",
       "      <td>3</td>\n",
       "      <td>0.005524</td>\n",
       "      <td>7.0</td>\n",
       "    </tr>\n",
       "    <tr>\n",
       "      <th>3</th>\n",
       "      <td>3441287777015642391</td>\n",
       "      <td>685814003.0</td>\n",
       "      <td>3</td>\n",
       "      <td>0.006281</td>\n",
       "      <td>4.0</td>\n",
       "    </tr>\n",
       "    <tr>\n",
       "      <th>4</th>\n",
       "      <td>-4723521822140368103</td>\n",
       "      <td>909370001.0</td>\n",
       "      <td>3</td>\n",
       "      <td>0.006762</td>\n",
       "      <td>4.0</td>\n",
       "    </tr>\n",
       "    <tr>\n",
       "      <th>...</th>\n",
       "      <td>...</td>\n",
       "      <td>...</td>\n",
       "      <td>...</td>\n",
       "      <td>...</td>\n",
       "      <td>...</td>\n",
       "    </tr>\n",
       "    <tr>\n",
       "      <th>7321437</th>\n",
       "      <td>-7430959013662680730</td>\n",
       "      <td>910601003.0</td>\n",
       "      <td>3</td>\n",
       "      <td>0.004201</td>\n",
       "      <td>6.0</td>\n",
       "    </tr>\n",
       "    <tr>\n",
       "      <th>7321438</th>\n",
       "      <td>-7430959013662680730</td>\n",
       "      <td>896152002.0</td>\n",
       "      <td>3</td>\n",
       "      <td>0.003974</td>\n",
       "      <td>8.0</td>\n",
       "    </tr>\n",
       "    <tr>\n",
       "      <th>7321439</th>\n",
       "      <td>-7430959013662680730</td>\n",
       "      <td>909370001.0</td>\n",
       "      <td>3</td>\n",
       "      <td>0.004258</td>\n",
       "      <td>5.0</td>\n",
       "    </tr>\n",
       "    <tr>\n",
       "      <th>7321440</th>\n",
       "      <td>-7430959013662680730</td>\n",
       "      <td>918522001.0</td>\n",
       "      <td>3</td>\n",
       "      <td>0.003918</td>\n",
       "      <td>9.0</td>\n",
       "    </tr>\n",
       "    <tr>\n",
       "      <th>7321441</th>\n",
       "      <td>-7430959013662680730</td>\n",
       "      <td>751471001.0</td>\n",
       "      <td>3</td>\n",
       "      <td>0.004031</td>\n",
       "      <td>7.0</td>\n",
       "    </tr>\n",
       "  </tbody>\n",
       "</table>\n",
       "<p>7321442 rows × 5 columns</p>\n",
       "</div>"
      ],
      "text/plain": [
       "                 customer_id   article_id  source     score  rank\n",
       "0        3441287777015642391  448509014.0       3  0.006129   5.0\n",
       "1        3441287777015642391  918522001.0       3  0.004767   9.0\n",
       "2        3441287777015642391  715624001.0       3  0.005524   7.0\n",
       "3        3441287777015642391  685814003.0       3  0.006281   4.0\n",
       "4       -4723521822140368103  909370001.0       3  0.006762   4.0\n",
       "...                      ...          ...     ...       ...   ...\n",
       "7321437 -7430959013662680730  910601003.0       3  0.004201   6.0\n",
       "7321438 -7430959013662680730  896152002.0       3  0.003974   8.0\n",
       "7321439 -7430959013662680730  909370001.0       3  0.004258   5.0\n",
       "7321440 -7430959013662680730  918522001.0       3  0.003918   9.0\n",
       "7321441 -7430959013662680730  751471001.0       3  0.004031   7.0\n",
       "\n",
       "[7321442 rows x 5 columns]"
      ]
     },
     "execution_count": 86,
     "metadata": {},
     "output_type": "execute_result"
    }
   ],
   "source": [
    "result3"
   ]
  },
  {
   "cell_type": "code",
   "execution_count": 87,
   "id": "9402ee85",
   "metadata": {
    "_cell_guid": "5e566c70-b1cf-42e4-807d-e58ca1479fb9",
    "_uuid": "71c4556b-4f76-4996-bcf5-e429af32021a",
    "collapsed": false,
    "execution": {
     "iopub.execute_input": "2022-04-04T11:19:03.137322Z",
     "iopub.status.busy": "2022-04-04T11:19:03.136514Z",
     "iopub.status.idle": "2022-04-04T11:19:03.138570Z",
     "shell.execute_reply": "2022-04-04T11:19:03.138940Z",
     "shell.execute_reply.started": "2022-04-04T11:08:58.551471Z"
    },
    "jupyter": {
     "outputs_hidden": false
    },
    "papermill": {
     "duration": 0.168007,
     "end_time": "2022-04-04T11:19:03.139078",
     "exception": false,
     "start_time": "2022-04-04T11:19:02.971071",
     "status": "completed"
    },
    "tags": []
   },
   "outputs": [],
   "source": [
    "#assert False"
   ]
  },
  {
   "cell_type": "code",
   "execution_count": 88,
   "id": "aa656c7a",
   "metadata": {
    "_cell_guid": "c18574be-011d-4b6f-925d-a184cdfa595a",
    "_uuid": "3ed3a145-d26d-4ef2-997c-99a0026efefc",
    "collapsed": false,
    "execution": {
     "iopub.execute_input": "2022-04-04T11:19:03.469723Z",
     "iopub.status.busy": "2022-04-04T11:19:03.468174Z",
     "iopub.status.idle": "2022-04-04T11:19:03.470373Z",
     "shell.execute_reply": "2022-04-04T11:19:03.470779Z",
     "shell.execute_reply.started": "2022-04-04T11:08:58.561754Z"
    },
    "jupyter": {
     "outputs_hidden": false
    },
    "papermill": {
     "duration": 0.170531,
     "end_time": "2022-04-04T11:19:03.470905",
     "exception": false,
     "start_time": "2022-04-04T11:19:03.300374",
     "status": "completed"
    },
    "tags": []
   },
   "outputs": [],
   "source": [
    "# del result1\n",
    "# del result2\n",
    "# del result3"
   ]
  },
  {
   "cell_type": "code",
   "execution_count": 89,
   "id": "bfa1af19",
   "metadata": {
    "execution": {
     "iopub.execute_input": "2022-04-04T11:19:03.798326Z",
     "iopub.status.busy": "2022-04-04T11:19:03.797464Z",
     "iopub.status.idle": "2022-04-04T11:19:03.799615Z",
     "shell.execute_reply": "2022-04-04T11:19:03.800055Z",
     "shell.execute_reply.started": "2022-04-04T11:08:58.568976Z"
    },
    "papermill": {
     "duration": 0.168421,
     "end_time": "2022-04-04T11:19:03.800280",
     "exception": false,
     "start_time": "2022-04-04T11:19:03.631859",
     "status": "completed"
    },
    "tags": []
   },
   "outputs": [],
   "source": [
    "Only = False"
   ]
  },
  {
   "cell_type": "code",
   "execution_count": 90,
   "id": "9d855aee",
   "metadata": {
    "execution": {
     "iopub.execute_input": "2022-04-04T11:19:04.145670Z",
     "iopub.status.busy": "2022-04-04T11:19:04.144777Z",
     "iopub.status.idle": "2022-04-04T11:19:04.146593Z",
     "shell.execute_reply": "2022-04-04T11:19:04.147090Z",
     "shell.execute_reply.started": "2022-04-04T11:08:58.577026Z"
    },
    "papermill": {
     "duration": 0.183571,
     "end_time": "2022-04-04T11:19:04.147223",
     "exception": false,
     "start_time": "2022-04-04T11:19:03.963652",
     "status": "completed"
    },
    "tags": []
   },
   "outputs": [],
   "source": [
    "if Only:    \n",
    "    !pip install cudf\n",
    "    import numpy as np\n",
    "    import pandas as pd \n",
    "    from datetime import datetime, timedelta\n",
    "    import gc\n",
    "    import cudf\n",
    "    import cv2, matplotlib.pyplot as plt\n",
    "    from os.path import exists\n",
    "    Online = False\n",
    "\n",
    "    df  = cudf.read_csv('../input/h-and-m-personalized-fashion-recommendations/transactions_train.csv')\n",
    "                                #usecols= ['t_dat', 'customer_id', 'article_id'], \n",
    "                                #dtype={'article_id': 'int32', 't_dat': 'string', 'customer_id': 'string', \"sales_channel_id\": 'int32', \"price\": \"float\"})\n",
    "    df ['customer_id'] = df ['customer_id'].str[-16:].str.hex_to_int().astype('int64')\n",
    "    df.article_id = df.article_id.astype('int32')\n",
    "    df['t_dat'] = cudf.to_datetime(df['t_dat'])\n",
    "    #Last_date = df['t_dat'].max()\n",
    "\n",
    "    customer = cudf.read_csv('../input/h-and-m-personalized-fashion-recommendations/customers.csv')\n",
    "    customer.customer_id = customer.customer_id.str[-16:].str.hex_to_int().astype('int64')\n",
    "\n",
    "    if not Online:\n",
    "        Date_week1 = pd.to_datetime(\"2020-09-16\")\n",
    "        Date_week2 = pd.to_datetime(\"2020-09-09\")\n",
    "        Date_week3 = pd.to_datetime(\"2020-09-02\")\n",
    "        Last_date = pd.to_datetime(\"2020-09-22\")\n",
    "        val = df[df['t_dat']>= Date_week1].copy()\n",
    "        train = df[df['t_dat']< Date_week1].copy()\n",
    "        Last_date = pd.to_datetime(\"2020-09-15\")\n",
    "        Date_week1 = pd.to_datetime(\"2020-09-09\")\n",
    "        Date_week2 = pd.to_datetime(\"2020-09-02\")\n",
    "        Date_week3 = pd.to_datetime(\"2020-08-26\")\n",
    "    if Online:\n",
    "        train = df"
   ]
  },
  {
   "cell_type": "code",
   "execution_count": 91,
   "id": "8cbad5a0",
   "metadata": {
    "execution": {
     "iopub.execute_input": "2022-04-04T11:19:04.478192Z",
     "iopub.status.busy": "2022-04-04T11:19:04.477395Z",
     "iopub.status.idle": "2022-04-04T11:19:04.479102Z",
     "shell.execute_reply": "2022-04-04T11:19:04.479555Z",
     "shell.execute_reply.started": "2022-04-04T11:08:58.594278Z"
    },
    "papermill": {
     "duration": 0.168276,
     "end_time": "2022-04-04T11:19:04.479682",
     "exception": false,
     "start_time": "2022-04-04T11:19:04.311406",
     "status": "completed"
    },
    "tags": []
   },
   "outputs": [],
   "source": [
    "#result = pd.read_csv(\"../input/relation/GRU4Rec_result.csv\")"
   ]
  },
  {
   "cell_type": "code",
   "execution_count": 92,
   "id": "c53c4612",
   "metadata": {
    "execution": {
     "iopub.execute_input": "2022-04-04T11:19:04.822762Z",
     "iopub.status.busy": "2022-04-04T11:19:04.821914Z",
     "iopub.status.idle": "2022-04-04T11:19:04.823820Z",
     "shell.execute_reply": "2022-04-04T11:19:04.824259Z",
     "shell.execute_reply.started": "2022-04-04T11:08:58.606363Z"
    },
    "papermill": {
     "duration": 0.180727,
     "end_time": "2022-04-04T11:19:04.824416",
     "exception": false,
     "start_time": "2022-04-04T11:19:04.643689",
     "status": "completed"
    },
    "tags": []
   },
   "outputs": [],
   "source": [
    "#result = pd.read_csv(\"../input/relation/lightSANs_result.csv\")"
   ]
  },
  {
   "cell_type": "code",
   "execution_count": 93,
   "id": "b28ff687",
   "metadata": {
    "execution": {
     "iopub.execute_input": "2022-04-04T11:19:05.211845Z",
     "iopub.status.busy": "2022-04-04T11:19:05.210196Z",
     "iopub.status.idle": "2022-04-04T11:19:05.212451Z",
     "shell.execute_reply": "2022-04-04T11:19:05.212908Z",
     "shell.execute_reply.started": "2022-04-04T11:08:58.615055Z"
    },
    "papermill": {
     "duration": 0.173476,
     "end_time": "2022-04-04T11:19:05.213051",
     "exception": false,
     "start_time": "2022-04-04T11:19:05.039575",
     "status": "completed"
    },
    "tags": []
   },
   "outputs": [],
   "source": [
    "#result = pd.read_csv(\"../input/relation/NPE_result.csv\")"
   ]
  },
  {
   "cell_type": "code",
   "execution_count": 94,
   "id": "4e936af4",
   "metadata": {
    "_cell_guid": "a853cd5c-2f6d-4cb8-9ad1-7b1eadf5f19d",
    "_uuid": "bd54eef8-75c5-47db-99f5-9fa77206a3d4",
    "collapsed": false,
    "execution": {
     "iopub.execute_input": "2022-04-04T11:19:05.551560Z",
     "iopub.status.busy": "2022-04-04T11:19:05.550726Z",
     "iopub.status.idle": "2022-04-04T11:19:06.053246Z",
     "shell.execute_reply": "2022-04-04T11:19:06.053750Z",
     "shell.execute_reply.started": "2022-04-04T11:08:58.625562Z"
    },
    "jupyter": {
     "outputs_hidden": false
    },
    "papermill": {
     "duration": 0.667971,
     "end_time": "2022-04-04T11:19:06.053935",
     "exception": false,
     "start_time": "2022-04-04T11:19:05.385964",
     "status": "completed"
    },
    "tags": []
   },
   "outputs": [],
   "source": [
    "result = pd.concat([result1, result2, result3], axis = 0)"
   ]
  },
  {
   "cell_type": "code",
   "execution_count": 95,
   "id": "077ff71e",
   "metadata": {
    "execution": {
     "iopub.execute_input": "2022-04-04T11:19:06.396169Z",
     "iopub.status.busy": "2022-04-04T11:19:06.390763Z",
     "iopub.status.idle": "2022-04-04T11:19:06.402987Z",
     "shell.execute_reply": "2022-04-04T11:19:06.403423Z",
     "shell.execute_reply.started": "2022-04-04T11:08:59.137791Z"
    },
    "papermill": {
     "duration": 0.184101,
     "end_time": "2022-04-04T11:19:06.403559",
     "exception": false,
     "start_time": "2022-04-04T11:19:06.219458",
     "status": "completed"
    },
    "tags": []
   },
   "outputs": [
    {
     "data": {
      "text/html": [
       "<div>\n",
       "<style scoped>\n",
       "    .dataframe tbody tr th:only-of-type {\n",
       "        vertical-align: middle;\n",
       "    }\n",
       "\n",
       "    .dataframe tbody tr th {\n",
       "        vertical-align: top;\n",
       "    }\n",
       "\n",
       "    .dataframe thead th {\n",
       "        text-align: right;\n",
       "    }\n",
       "</style>\n",
       "<table border=\"1\" class=\"dataframe\">\n",
       "  <thead>\n",
       "    <tr style=\"text-align: right;\">\n",
       "      <th></th>\n",
       "      <th>customer_id</th>\n",
       "      <th>article_id</th>\n",
       "      <th>source</th>\n",
       "      <th>score</th>\n",
       "      <th>rank</th>\n",
       "    </tr>\n",
       "  </thead>\n",
       "  <tbody>\n",
       "    <tr>\n",
       "      <th>0</th>\n",
       "      <td>-9223352921020755230</td>\n",
       "      <td>568597006.0</td>\n",
       "      <td>1</td>\n",
       "      <td>0.000559</td>\n",
       "      <td>5.0</td>\n",
       "    </tr>\n",
       "    <tr>\n",
       "      <th>1</th>\n",
       "      <td>-9223352921020755230</td>\n",
       "      <td>673396002.0</td>\n",
       "      <td>1</td>\n",
       "      <td>0.044511</td>\n",
       "      <td>1.0</td>\n",
       "    </tr>\n",
       "    <tr>\n",
       "      <th>2</th>\n",
       "      <td>-9223352921020755230</td>\n",
       "      <td>706016001.0</td>\n",
       "      <td>1</td>\n",
       "      <td>0.003289</td>\n",
       "      <td>4.0</td>\n",
       "    </tr>\n",
       "    <tr>\n",
       "      <th>3</th>\n",
       "      <td>-9223352921020755230</td>\n",
       "      <td>812167004.0</td>\n",
       "      <td>1</td>\n",
       "      <td>0.019179</td>\n",
       "      <td>2.0</td>\n",
       "    </tr>\n",
       "    <tr>\n",
       "      <th>4</th>\n",
       "      <td>-9223352921020755230</td>\n",
       "      <td>849493006.0</td>\n",
       "      <td>1</td>\n",
       "      <td>0.006174</td>\n",
       "      <td>3.0</td>\n",
       "    </tr>\n",
       "    <tr>\n",
       "      <th>...</th>\n",
       "      <td>...</td>\n",
       "      <td>...</td>\n",
       "      <td>...</td>\n",
       "      <td>...</td>\n",
       "      <td>...</td>\n",
       "    </tr>\n",
       "    <tr>\n",
       "      <th>7321437</th>\n",
       "      <td>-7430959013662680730</td>\n",
       "      <td>910601003.0</td>\n",
       "      <td>3</td>\n",
       "      <td>0.004201</td>\n",
       "      <td>6.0</td>\n",
       "    </tr>\n",
       "    <tr>\n",
       "      <th>7321438</th>\n",
       "      <td>-7430959013662680730</td>\n",
       "      <td>896152002.0</td>\n",
       "      <td>3</td>\n",
       "      <td>0.003974</td>\n",
       "      <td>8.0</td>\n",
       "    </tr>\n",
       "    <tr>\n",
       "      <th>7321439</th>\n",
       "      <td>-7430959013662680730</td>\n",
       "      <td>909370001.0</td>\n",
       "      <td>3</td>\n",
       "      <td>0.004258</td>\n",
       "      <td>5.0</td>\n",
       "    </tr>\n",
       "    <tr>\n",
       "      <th>7321440</th>\n",
       "      <td>-7430959013662680730</td>\n",
       "      <td>918522001.0</td>\n",
       "      <td>3</td>\n",
       "      <td>0.003918</td>\n",
       "      <td>9.0</td>\n",
       "    </tr>\n",
       "    <tr>\n",
       "      <th>7321441</th>\n",
       "      <td>-7430959013662680730</td>\n",
       "      <td>751471001.0</td>\n",
       "      <td>3</td>\n",
       "      <td>0.004031</td>\n",
       "      <td>7.0</td>\n",
       "    </tr>\n",
       "  </tbody>\n",
       "</table>\n",
       "<p>24094579 rows × 5 columns</p>\n",
       "</div>"
      ],
      "text/plain": [
       "                 customer_id   article_id  source     score  rank\n",
       "0       -9223352921020755230  568597006.0       1  0.000559   5.0\n",
       "1       -9223352921020755230  673396002.0       1  0.044511   1.0\n",
       "2       -9223352921020755230  706016001.0       1  0.003289   4.0\n",
       "3       -9223352921020755230  812167004.0       1  0.019179   2.0\n",
       "4       -9223352921020755230  849493006.0       1  0.006174   3.0\n",
       "...                      ...          ...     ...       ...   ...\n",
       "7321437 -7430959013662680730  910601003.0       3  0.004201   6.0\n",
       "7321438 -7430959013662680730  896152002.0       3  0.003974   8.0\n",
       "7321439 -7430959013662680730  909370001.0       3  0.004258   5.0\n",
       "7321440 -7430959013662680730  918522001.0       3  0.003918   9.0\n",
       "7321441 -7430959013662680730  751471001.0       3  0.004031   7.0\n",
       "\n",
       "[24094579 rows x 5 columns]"
      ]
     },
     "execution_count": 95,
     "metadata": {},
     "output_type": "execute_result"
    }
   ],
   "source": [
    "result"
   ]
  },
  {
   "cell_type": "code",
   "execution_count": 96,
   "id": "cac4ab8f",
   "metadata": {
    "execution": {
     "iopub.execute_input": "2022-04-04T11:19:06.734435Z",
     "iopub.status.busy": "2022-04-04T11:19:06.732711Z",
     "iopub.status.idle": "2022-04-04T11:19:06.734990Z",
     "shell.execute_reply": "2022-04-04T11:19:06.735522Z",
     "shell.execute_reply.started": "2022-04-04T11:08:59.157716Z"
    },
    "papermill": {
     "duration": 0.169311,
     "end_time": "2022-04-04T11:19:06.735670",
     "exception": false,
     "start_time": "2022-04-04T11:19:06.566359",
     "status": "completed"
    },
    "tags": []
   },
   "outputs": [],
   "source": [
    "#result = result[result[\"article_id\"].isin(use_aid.to_pandas().tolist())]"
   ]
  },
  {
   "cell_type": "code",
   "execution_count": 97,
   "id": "a438b2f8",
   "metadata": {
    "_cell_guid": "34084f83-7278-4b41-b521-a07cc55cd27c",
    "_uuid": "cc144bc7-3c43-4c3a-9140-b98a4177845f",
    "collapsed": false,
    "execution": {
     "iopub.execute_input": "2022-04-04T11:19:07.069507Z",
     "iopub.status.busy": "2022-04-04T11:19:07.068783Z",
     "iopub.status.idle": "2022-04-04T11:19:07.071276Z",
     "shell.execute_reply": "2022-04-04T11:19:07.070849Z",
     "shell.execute_reply.started": "2022-04-04T11:08:59.162895Z"
    },
    "jupyter": {
     "outputs_hidden": false
    },
    "papermill": {
     "duration": 0.170605,
     "end_time": "2022-04-04T11:19:07.071397",
     "exception": false,
     "start_time": "2022-04-04T11:19:06.900792",
     "status": "completed"
    },
    "tags": []
   },
   "outputs": [],
   "source": [
    "# 调整融合结果"
   ]
  },
  {
   "cell_type": "code",
   "execution_count": 98,
   "id": "986fdc48",
   "metadata": {
    "_cell_guid": "18a553ef-5214-44f2-b873-2501532733a4",
    "_uuid": "227fc09d-b34c-4391-b8e5-dbe14bc69404",
    "collapsed": false,
    "execution": {
     "iopub.execute_input": "2022-04-04T11:19:07.403922Z",
     "iopub.status.busy": "2022-04-04T11:19:07.402385Z",
     "iopub.status.idle": "2022-04-04T11:19:07.404532Z",
     "shell.execute_reply": "2022-04-04T11:19:07.404930Z",
     "shell.execute_reply.started": "2022-04-04T11:08:59.173116Z"
    },
    "jupyter": {
     "outputs_hidden": false
    },
    "papermill": {
     "duration": 0.169568,
     "end_time": "2022-04-04T11:19:07.405072",
     "exception": false,
     "start_time": "2022-04-04T11:19:07.235504",
     "status": "completed"
    },
    "tags": []
   },
   "outputs": [],
   "source": [
    "#result = result3.copy()"
   ]
  },
  {
   "cell_type": "code",
   "execution_count": 99,
   "id": "faa3fd94",
   "metadata": {
    "_cell_guid": "9aafb751-e431-4f4b-a25d-5058a372ed2e",
    "_uuid": "54b0b0b2-6237-42ab-bfe6-bdb423343fb5",
    "collapsed": false,
    "execution": {
     "iopub.execute_input": "2022-04-04T11:19:07.860696Z",
     "iopub.status.busy": "2022-04-04T11:19:07.859891Z",
     "iopub.status.idle": "2022-04-04T11:19:07.863204Z",
     "shell.execute_reply": "2022-04-04T11:19:07.863673Z",
     "shell.execute_reply.started": "2022-04-04T11:08:59.180561Z"
    },
    "jupyter": {
     "outputs_hidden": false
    },
    "papermill": {
     "duration": 0.296416,
     "end_time": "2022-04-04T11:19:07.863824",
     "exception": false,
     "start_time": "2022-04-04T11:19:07.567408",
     "status": "completed"
    },
    "tags": []
   },
   "outputs": [
    {
     "data": {
      "text/plain": [
       "189"
      ]
     },
     "execution_count": 99,
     "metadata": {},
     "output_type": "execute_result"
    }
   ],
   "source": [
    "gc.collect()"
   ]
  },
  {
   "cell_type": "code",
   "execution_count": 100,
   "id": "58df87f3",
   "metadata": {
    "_cell_guid": "bb4fb7e5-199a-43aa-87d6-9e18b6a121af",
    "_uuid": "9ace348d-b4f6-4055-824e-649f1d1e89b7",
    "collapsed": false,
    "execution": {
     "iopub.execute_input": "2022-04-04T11:19:08.199656Z",
     "iopub.status.busy": "2022-04-04T11:19:08.198862Z",
     "iopub.status.idle": "2022-04-04T11:19:08.201253Z",
     "shell.execute_reply": "2022-04-04T11:19:08.200848Z",
     "shell.execute_reply.started": "2022-04-04T11:08:59.377091Z"
    },
    "jupyter": {
     "outputs_hidden": false
    },
    "papermill": {
     "duration": 0.17269,
     "end_time": "2022-04-04T11:19:08.201381",
     "exception": false,
     "start_time": "2022-04-04T11:19:08.028691",
     "status": "completed"
    },
    "tags": []
   },
   "outputs": [],
   "source": [
    "result.index = range(len(result))"
   ]
  },
  {
   "cell_type": "markdown",
   "id": "afb75ef9",
   "metadata": {
    "papermill": {
     "duration": 0.162234,
     "end_time": "2022-04-04T11:19:08.526571",
     "exception": false,
     "start_time": "2022-04-04T11:19:08.364337",
     "status": "completed"
    },
    "tags": []
   },
   "source": [
    "\n",
    "1\n",
    "\n",
    "1\n",
    "\n",
    "1\n",
    "\n",
    "1\n",
    "\n",
    "1\n",
    "\n",
    "1\n",
    "\n",
    "1\n",
    "\n",
    "1\n",
    "\n",
    "1\n",
    "\n",
    "1\n",
    "\n",
    "1\n",
    "\n",
    "1\n",
    "\n",
    "\n",
    "\n",
    "\n",
    "\n",
    "\n",
    "\n",
    "\n",
    "\n",
    "\n",
    "\n",
    "\n",
    "\n",
    "\n",
    "\n",
    "\n",
    "\n",
    "\n",
    "\n",
    "\n",
    "\n"
   ]
  },
  {
   "cell_type": "code",
   "execution_count": 101,
   "id": "4a6c06a1",
   "metadata": {
    "_cell_guid": "f54a836d-b7b9-4048-8ed3-6416a6eba9e4",
    "_uuid": "bb47e468-4aa6-4d1b-8373-71d7a4310d2f",
    "collapsed": false,
    "execution": {
     "iopub.execute_input": "2022-04-04T11:19:08.874045Z",
     "iopub.status.busy": "2022-04-04T11:19:08.873215Z",
     "iopub.status.idle": "2022-04-04T11:19:09.915223Z",
     "shell.execute_reply": "2022-04-04T11:19:09.914466Z",
     "shell.execute_reply.started": "2022-04-04T11:08:59.383352Z"
    },
    "jupyter": {
     "outputs_hidden": false
    },
    "papermill": {
     "duration": 1.220987,
     "end_time": "2022-04-04T11:19:09.915382",
     "exception": false,
     "start_time": "2022-04-04T11:19:08.694395",
     "status": "completed"
    },
    "tags": []
   },
   "outputs": [],
   "source": [
    "result.loc[result[\"source\"] == 3, \"score\"] *= 0.8\n",
    "result.loc[result[\"source\"] == 2, \"score\"] *= 0.25"
   ]
  },
  {
   "cell_type": "code",
   "execution_count": 102,
   "id": "c07a09d5",
   "metadata": {
    "execution": {
     "iopub.execute_input": "2022-04-04T11:19:10.263650Z",
     "iopub.status.busy": "2022-04-04T11:19:10.250160Z",
     "iopub.status.idle": "2022-04-04T11:19:11.537311Z",
     "shell.execute_reply": "2022-04-04T11:19:11.538050Z",
     "shell.execute_reply.started": "2022-04-04T11:09:00.560136Z"
    },
    "papermill": {
     "duration": 1.45704,
     "end_time": "2022-04-04T11:19:11.538359",
     "exception": false,
     "start_time": "2022-04-04T11:19:10.081319",
     "status": "completed"
    },
    "tags": []
   },
   "outputs": [],
   "source": [
    "result = result.loc[result[\"rank\"] <= 12]"
   ]
  },
  {
   "cell_type": "code",
   "execution_count": 103,
   "id": "459954e7",
   "metadata": {
    "_cell_guid": "889a61fc-c4fa-4503-81a9-a09ffbad09c2",
    "_uuid": "fb97febd-786c-42ec-94db-d50dc2849090",
    "collapsed": false,
    "execution": {
     "iopub.execute_input": "2022-04-04T11:19:12.094351Z",
     "iopub.status.busy": "2022-04-04T11:19:12.093023Z",
     "iopub.status.idle": "2022-04-04T11:19:12.096003Z",
     "shell.execute_reply": "2022-04-04T11:19:12.095493Z",
     "shell.execute_reply.started": "2022-04-04T11:09:01.839445Z"
    },
    "jupyter": {
     "outputs_hidden": false
    },
    "papermill": {
     "duration": 0.272952,
     "end_time": "2022-04-04T11:19:12.096156",
     "exception": false,
     "start_time": "2022-04-04T11:19:11.823204",
     "status": "completed"
    },
    "tags": []
   },
   "outputs": [],
   "source": [
    "#del result1\n",
    "#del result2\n",
    "#del sub_customer"
   ]
  },
  {
   "cell_type": "code",
   "execution_count": 104,
   "id": "cc49ae7a",
   "metadata": {
    "_cell_guid": "588b511e-2aef-4cb7-8199-c6a44dc20d53",
    "_uuid": "01bf0763-33f8-46d4-bf92-9efb3827e953",
    "collapsed": false,
    "execution": {
     "iopub.execute_input": "2022-04-04T11:19:12.436664Z",
     "iopub.status.busy": "2022-04-04T11:19:12.435466Z",
     "iopub.status.idle": "2022-04-04T11:19:12.897492Z",
     "shell.execute_reply": "2022-04-04T11:19:12.896815Z",
     "shell.execute_reply.started": "2022-04-04T11:09:01.844801Z"
    },
    "jupyter": {
     "outputs_hidden": false
    },
    "papermill": {
     "duration": 0.630785,
     "end_time": "2022-04-04T11:19:12.897648",
     "exception": false,
     "start_time": "2022-04-04T11:19:12.266863",
     "status": "completed"
    },
    "tags": []
   },
   "outputs": [],
   "source": [
    "result = cudf.DataFrame(result, dtype={'article_id': 'int32', 'customer_id':'int64'})"
   ]
  },
  {
   "cell_type": "code",
   "execution_count": 105,
   "id": "2243c6a3",
   "metadata": {
    "_cell_guid": "49bb2118-e773-4a70-90e9-a92b968ea77c",
    "_uuid": "6461d0e9-6fa1-4f4c-97f5-0d9b55391d8e",
    "collapsed": false,
    "execution": {
     "iopub.execute_input": "2022-04-04T11:19:13.246835Z",
     "iopub.status.busy": "2022-04-04T11:19:13.245989Z",
     "iopub.status.idle": "2022-04-04T11:19:13.292830Z",
     "shell.execute_reply": "2022-04-04T11:19:13.293231Z",
     "shell.execute_reply.started": "2022-04-04T11:09:02.303047Z"
    },
    "jupyter": {
     "outputs_hidden": false
    },
    "papermill": {
     "duration": 0.228216,
     "end_time": "2022-04-04T11:19:13.293393",
     "exception": false,
     "start_time": "2022-04-04T11:19:13.065177",
     "status": "completed"
    },
    "tags": []
   },
   "outputs": [
    {
     "data": {
      "text/html": [
       "<div>\n",
       "<style scoped>\n",
       "    .dataframe tbody tr th:only-of-type {\n",
       "        vertical-align: middle;\n",
       "    }\n",
       "\n",
       "    .dataframe tbody tr th {\n",
       "        vertical-align: top;\n",
       "    }\n",
       "\n",
       "    .dataframe thead th {\n",
       "        text-align: right;\n",
       "    }\n",
       "</style>\n",
       "<table border=\"1\" class=\"dataframe\">\n",
       "  <thead>\n",
       "    <tr style=\"text-align: right;\">\n",
       "      <th></th>\n",
       "      <th>customer_id</th>\n",
       "      <th>article_id</th>\n",
       "      <th>source</th>\n",
       "      <th>score</th>\n",
       "      <th>rank</th>\n",
       "    </tr>\n",
       "  </thead>\n",
       "  <tbody>\n",
       "    <tr>\n",
       "      <th>0</th>\n",
       "      <td>-9223352921020755230</td>\n",
       "      <td>568597006</td>\n",
       "      <td>1</td>\n",
       "      <td>0.000559</td>\n",
       "      <td>5.0</td>\n",
       "    </tr>\n",
       "    <tr>\n",
       "      <th>1</th>\n",
       "      <td>-9223352921020755230</td>\n",
       "      <td>673396002</td>\n",
       "      <td>1</td>\n",
       "      <td>0.044511</td>\n",
       "      <td>1.0</td>\n",
       "    </tr>\n",
       "    <tr>\n",
       "      <th>2</th>\n",
       "      <td>-9223352921020755230</td>\n",
       "      <td>706016001</td>\n",
       "      <td>1</td>\n",
       "      <td>0.003289</td>\n",
       "      <td>4.0</td>\n",
       "    </tr>\n",
       "    <tr>\n",
       "      <th>3</th>\n",
       "      <td>-9223352921020755230</td>\n",
       "      <td>812167004</td>\n",
       "      <td>1</td>\n",
       "      <td>0.019179</td>\n",
       "      <td>2.0</td>\n",
       "    </tr>\n",
       "    <tr>\n",
       "      <th>4</th>\n",
       "      <td>-9223352921020755230</td>\n",
       "      <td>849493006</td>\n",
       "      <td>1</td>\n",
       "      <td>0.006174</td>\n",
       "      <td>3.0</td>\n",
       "    </tr>\n",
       "    <tr>\n",
       "      <th>...</th>\n",
       "      <td>...</td>\n",
       "      <td>...</td>\n",
       "      <td>...</td>\n",
       "      <td>...</td>\n",
       "      <td>...</td>\n",
       "    </tr>\n",
       "    <tr>\n",
       "      <th>24094574</th>\n",
       "      <td>-7430959013662680730</td>\n",
       "      <td>910601003</td>\n",
       "      <td>3</td>\n",
       "      <td>0.003361</td>\n",
       "      <td>6.0</td>\n",
       "    </tr>\n",
       "    <tr>\n",
       "      <th>24094575</th>\n",
       "      <td>-7430959013662680730</td>\n",
       "      <td>896152002</td>\n",
       "      <td>3</td>\n",
       "      <td>0.003179</td>\n",
       "      <td>8.0</td>\n",
       "    </tr>\n",
       "    <tr>\n",
       "      <th>24094576</th>\n",
       "      <td>-7430959013662680730</td>\n",
       "      <td>909370001</td>\n",
       "      <td>3</td>\n",
       "      <td>0.003407</td>\n",
       "      <td>5.0</td>\n",
       "    </tr>\n",
       "    <tr>\n",
       "      <th>24094577</th>\n",
       "      <td>-7430959013662680730</td>\n",
       "      <td>918522001</td>\n",
       "      <td>3</td>\n",
       "      <td>0.003134</td>\n",
       "      <td>9.0</td>\n",
       "    </tr>\n",
       "    <tr>\n",
       "      <th>24094578</th>\n",
       "      <td>-7430959013662680730</td>\n",
       "      <td>751471001</td>\n",
       "      <td>3</td>\n",
       "      <td>0.003225</td>\n",
       "      <td>7.0</td>\n",
       "    </tr>\n",
       "  </tbody>\n",
       "</table>\n",
       "<p>18004066 rows × 5 columns</p>\n",
       "</div>"
      ],
      "text/plain": [
       "                  customer_id  article_id  source     score  rank\n",
       "0        -9223352921020755230   568597006       1  0.000559   5.0\n",
       "1        -9223352921020755230   673396002       1  0.044511   1.0\n",
       "2        -9223352921020755230   706016001       1  0.003289   4.0\n",
       "3        -9223352921020755230   812167004       1  0.019179   2.0\n",
       "4        -9223352921020755230   849493006       1  0.006174   3.0\n",
       "...                       ...         ...     ...       ...   ...\n",
       "24094574 -7430959013662680730   910601003       3  0.003361   6.0\n",
       "24094575 -7430959013662680730   896152002       3  0.003179   8.0\n",
       "24094576 -7430959013662680730   909370001       3  0.003407   5.0\n",
       "24094577 -7430959013662680730   918522001       3  0.003134   9.0\n",
       "24094578 -7430959013662680730   751471001       3  0.003225   7.0\n",
       "\n",
       "[18004066 rows x 5 columns]"
      ]
     },
     "execution_count": 105,
     "metadata": {},
     "output_type": "execute_result"
    }
   ],
   "source": [
    "result"
   ]
  },
  {
   "cell_type": "code",
   "execution_count": 106,
   "id": "37622581",
   "metadata": {
    "_cell_guid": "045655d5-f31c-434e-b66a-8c905f401acc",
    "_uuid": "1c966656-aef7-44cb-81c6-69aae78eab2c",
    "collapsed": false,
    "execution": {
     "iopub.execute_input": "2022-04-04T11:19:13.627980Z",
     "iopub.status.busy": "2022-04-04T11:19:13.627007Z",
     "iopub.status.idle": "2022-04-04T11:19:13.629533Z",
     "shell.execute_reply": "2022-04-04T11:19:13.629096Z",
     "shell.execute_reply.started": "2022-04-04T11:09:02.362997Z"
    },
    "jupyter": {
     "outputs_hidden": false
    },
    "papermill": {
     "duration": 0.170845,
     "end_time": "2022-04-04T11:19:13.629651",
     "exception": false,
     "start_time": "2022-04-04T11:19:13.458806",
     "status": "completed"
    },
    "tags": []
   },
   "outputs": [],
   "source": [
    "#merge_result = result.groupby([\"customer_id\", \"article_id\"]).apply(lambda x:x.nlargest(1, \"score\"))"
   ]
  },
  {
   "cell_type": "code",
   "execution_count": 107,
   "id": "61205fa0",
   "metadata": {
    "_cell_guid": "a3814516-dcce-468f-9242-018d344a166b",
    "_uuid": "7401a468-1d3f-4e23-97e9-7665c340891a",
    "collapsed": false,
    "execution": {
     "iopub.execute_input": "2022-04-04T11:19:13.963205Z",
     "iopub.status.busy": "2022-04-04T11:19:13.962462Z",
     "iopub.status.idle": "2022-04-04T11:19:14.024296Z",
     "shell.execute_reply": "2022-04-04T11:19:14.023822Z",
     "shell.execute_reply.started": "2022-04-04T11:09:02.368031Z"
    },
    "jupyter": {
     "outputs_hidden": false
    },
    "papermill": {
     "duration": 0.231689,
     "end_time": "2022-04-04T11:19:14.024413",
     "exception": false,
     "start_time": "2022-04-04T11:19:13.792724",
     "status": "completed"
    },
    "tags": []
   },
   "outputs": [],
   "source": [
    "merge_result = result.groupby([\"customer_id\", \"article_id\"])['score'].max().reset_index()"
   ]
  },
  {
   "cell_type": "code",
   "execution_count": 108,
   "id": "3fccf24d",
   "metadata": {
    "_cell_guid": "2f5564e8-f69c-473e-a1b4-2e824dd3c991",
    "_uuid": "dd38d6a2-b28f-462c-85fc-1ffbe235d60d",
    "collapsed": false,
    "execution": {
     "iopub.execute_input": "2022-04-04T11:19:14.364764Z",
     "iopub.status.busy": "2022-04-04T11:19:14.363950Z",
     "iopub.status.idle": "2022-04-04T11:19:14.365976Z",
     "shell.execute_reply": "2022-04-04T11:19:14.366399Z",
     "shell.execute_reply.started": "2022-04-04T11:09:02.439888Z"
    },
    "jupyter": {
     "outputs_hidden": false
    },
    "papermill": {
     "duration": 0.170611,
     "end_time": "2022-04-04T11:19:14.366551",
     "exception": false,
     "start_time": "2022-04-04T11:19:14.195940",
     "status": "completed"
    },
    "tags": []
   },
   "outputs": [],
   "source": [
    "# del result"
   ]
  },
  {
   "cell_type": "code",
   "execution_count": 109,
   "id": "476f7233",
   "metadata": {
    "_cell_guid": "4bc3c148-1740-4a26-b04b-26e39c57e311",
    "_uuid": "e0495319-e95b-4426-8cdd-303816ffdfb4",
    "collapsed": false,
    "execution": {
     "iopub.execute_input": "2022-04-04T11:19:14.698604Z",
     "iopub.status.busy": "2022-04-04T11:19:14.697729Z",
     "iopub.status.idle": "2022-04-04T11:19:14.700153Z",
     "shell.execute_reply": "2022-04-04T11:19:14.699748Z",
     "shell.execute_reply.started": "2022-04-04T11:09:02.447044Z"
    },
    "jupyter": {
     "outputs_hidden": false
    },
    "papermill": {
     "duration": 0.169629,
     "end_time": "2022-04-04T11:19:14.700282",
     "exception": false,
     "start_time": "2022-04-04T11:19:14.530653",
     "status": "completed"
    },
    "tags": []
   },
   "outputs": [],
   "source": [
    "# purchase_df = tmp.sort_values(['customer_id', 'value'], ascending = False).reset_index(drop = True)\n",
    "# purchase_df['prediction'] = '0' + purchase_df['article_id'].astype(str) + ' '\n",
    "# purchase_df = purchase_df.groupby('customer_id').agg({'prediction': sum}).reset_index()\n",
    "# purchase_df['prediction'] = purchase_df['prediction'].str.strip()\n",
    "# purchase_df = cudf.DataFrame(purchase_df)"
   ]
  },
  {
   "cell_type": "code",
   "execution_count": 110,
   "id": "edfe4d2d",
   "metadata": {
    "_cell_guid": "14ef8feb-6697-4a2c-a596-2634819dd881",
    "_uuid": "a62caeca-d206-4edf-a818-a8e494b19692",
    "collapsed": false,
    "execution": {
     "iopub.execute_input": "2022-04-04T11:19:15.035772Z",
     "iopub.status.busy": "2022-04-04T11:19:15.034047Z",
     "iopub.status.idle": "2022-04-04T11:19:15.038406Z",
     "shell.execute_reply": "2022-04-04T11:19:15.037918Z",
     "shell.execute_reply.started": "2022-04-04T11:09:02.457274Z"
    },
    "jupyter": {
     "outputs_hidden": false
    },
    "papermill": {
     "duration": 0.173419,
     "end_time": "2022-04-04T11:19:15.038523",
     "exception": false,
     "start_time": "2022-04-04T11:19:14.865104",
     "status": "completed"
    },
    "tags": []
   },
   "outputs": [],
   "source": [
    "# %%time\n",
    "# purchase_dict = {}\n",
    "\n",
    "# tmp = df.copy().to_pandas()\n",
    "# tmp['x'] = ((last_ts - tmp['t_dat']) / np.timedelta64(1, 'D')).astype(int)\n",
    "# tmp['dummy_1'] = 1 \n",
    "# tmp['x'] = tmp[[\"x\", \"dummy_1\"]].max(axis=1)\n",
    "\n",
    "# a, b, c, d = 2.5e4, 1.5e5, 2e-1, 1e3\n",
    "# total = 1715530\n",
    "# tmp['y'] = (a / np.sqrt(tmp['x']) + b * np.exp(-c*tmp['x']) - d) / total\n",
    "\n",
    "# tmp['dummy_0'] = 0 \n",
    "# tmp['y'] = tmp[[\"y\", \"dummy_0\"]].max(axis=1)\n",
    "# tmp['value'] = tmp['quotient'] * tmp['y'] \n",
    "\n",
    "# tmp = tmp.groupby(['customer_id', 'article_id']).agg({'value': 'sum'})\n",
    "# tmp = tmp.reset_index()\n",
    "\n",
    "# tmp = tmp.loc[tmp['value'] > 0]\n",
    "# tmp['rank'] = tmp.groupby(\"customer_id\")[\"value\"].rank(\"dense\", ascending=False)\n",
    "# tmp = tmp.loc[tmp['rank'] <= 12]\n",
    "\n",
    "# # for customer_id in tmp['customer_id'].unique():\n",
    "# #     purchase_dict[customer_id] = {} \n",
    "\n",
    "# # for customer_id, article_id, value in zip(tmp['customer_id'], tmp['article_id'], tmp['value']):\n",
    "# #     purchase_dict[customer_id][article_id] = value\n",
    "\n",
    "# purchase_df = tmp.sort_values(['customer_id', 'value'], ascending = False).reset_index(drop = True)\n",
    "# purchase_df['prediction'] = '0' + purchase_df['article_id'].astype(str) + ' '\n",
    "# purchase_df = purchase_df.groupby('customer_id').agg({'prediction': sum}).reset_index()\n",
    "# purchase_df['prediction'] = purchase_df['prediction'].str.strip()\n",
    "# purchase_df = cudf.DataFrame(purchase_df)"
   ]
  },
  {
   "cell_type": "markdown",
   "id": "5e5879ab",
   "metadata": {
    "_cell_guid": "d8a96755-ade6-49e7-9944-7ab45cb6aeb7",
    "_uuid": "cd1f7cb3-5429-4cf6-a08d-65cd32930812",
    "editable": false,
    "papermill": {
     "duration": 0.163425,
     "end_time": "2022-04-04T11:19:15.369828",
     "exception": false,
     "start_time": "2022-04-04T11:19:15.206403",
     "status": "completed"
    },
    "tags": []
   },
   "source": [
    "### Make a submission"
   ]
  },
  {
   "cell_type": "code",
   "execution_count": 111,
   "id": "65d29fcc",
   "metadata": {
    "_cell_guid": "57a6e73d-1c2a-41e2-bfb9-61ce1ee91389",
    "_uuid": "eeb176a3-953c-46d3-87f7-fb565ea3d935",
    "collapsed": false,
    "execution": {
     "iopub.execute_input": "2022-04-04T11:19:15.701838Z",
     "iopub.status.busy": "2022-04-04T11:19:15.701057Z",
     "iopub.status.idle": "2022-04-04T11:19:15.737179Z",
     "shell.execute_reply": "2022-04-04T11:19:15.736730Z",
     "shell.execute_reply.started": "2022-04-04T11:09:02.465906Z"
    },
    "jupyter": {
     "outputs_hidden": false
    },
    "papermill": {
     "duration": 0.20492,
     "end_time": "2022-04-04T11:19:15.737323",
     "exception": false,
     "start_time": "2022-04-04T11:19:15.532403",
     "status": "completed"
    },
    "tags": []
   },
   "outputs": [],
   "source": [
    "merge_result[\"article_id\"] = \"0\"+merge_result[\"article_id\"].astype(\"str\")"
   ]
  },
  {
   "cell_type": "code",
   "execution_count": 112,
   "id": "767f9997",
   "metadata": {
    "_cell_guid": "6dad8baa-a1ab-463b-a3cc-03eac43b79fc",
    "_uuid": "dd3f6fbc-14ad-48ab-ac44-6fae3440d5f0",
    "collapsed": false,
    "execution": {
     "iopub.execute_input": "2022-04-04T11:19:16.077536Z",
     "iopub.status.busy": "2022-04-04T11:19:16.068969Z",
     "iopub.status.idle": "2022-04-04T11:19:16.117836Z",
     "shell.execute_reply": "2022-04-04T11:19:16.118208Z",
     "shell.execute_reply.started": "2022-04-04T11:09:02.513850Z"
    },
    "jupyter": {
     "outputs_hidden": false
    },
    "papermill": {
     "duration": 0.217265,
     "end_time": "2022-04-04T11:19:16.118392",
     "exception": false,
     "start_time": "2022-04-04T11:19:15.901127",
     "status": "completed"
    },
    "tags": []
   },
   "outputs": [
    {
     "data": {
      "text/html": [
       "<div>\n",
       "<style scoped>\n",
       "    .dataframe tbody tr th:only-of-type {\n",
       "        vertical-align: middle;\n",
       "    }\n",
       "\n",
       "    .dataframe tbody tr th {\n",
       "        vertical-align: top;\n",
       "    }\n",
       "\n",
       "    .dataframe thead th {\n",
       "        text-align: right;\n",
       "    }\n",
       "</style>\n",
       "<table border=\"1\" class=\"dataframe\">\n",
       "  <thead>\n",
       "    <tr style=\"text-align: right;\">\n",
       "      <th></th>\n",
       "      <th>customer_id</th>\n",
       "      <th>article_id</th>\n",
       "      <th>score</th>\n",
       "    </tr>\n",
       "  </thead>\n",
       "  <tbody>\n",
       "    <tr>\n",
       "      <th>0</th>\n",
       "      <td>-5999203964398635807</td>\n",
       "      <td>0372860001</td>\n",
       "      <td>0.000348</td>\n",
       "    </tr>\n",
       "    <tr>\n",
       "      <th>1</th>\n",
       "      <td>471630412255967366</td>\n",
       "      <td>0909370001</td>\n",
       "      <td>0.006180</td>\n",
       "    </tr>\n",
       "    <tr>\n",
       "      <th>2</th>\n",
       "      <td>2656175073765020454</td>\n",
       "      <td>0685814003</td>\n",
       "      <td>0.003994</td>\n",
       "    </tr>\n",
       "    <tr>\n",
       "      <th>3</th>\n",
       "      <td>-7012262553570367283</td>\n",
       "      <td>0599580038</td>\n",
       "      <td>0.000834</td>\n",
       "    </tr>\n",
       "    <tr>\n",
       "      <th>4</th>\n",
       "      <td>6325131989438020026</td>\n",
       "      <td>0715624001</td>\n",
       "      <td>0.004419</td>\n",
       "    </tr>\n",
       "    <tr>\n",
       "      <th>...</th>\n",
       "      <td>...</td>\n",
       "      <td>...</td>\n",
       "      <td>...</td>\n",
       "    </tr>\n",
       "    <tr>\n",
       "      <th>17659132</th>\n",
       "      <td>1038315922583354869</td>\n",
       "      <td>0599580038</td>\n",
       "      <td>0.001437</td>\n",
       "    </tr>\n",
       "    <tr>\n",
       "      <th>17659133</th>\n",
       "      <td>6932262640144467459</td>\n",
       "      <td>0658298007</td>\n",
       "      <td>0.000567</td>\n",
       "    </tr>\n",
       "    <tr>\n",
       "      <th>17659134</th>\n",
       "      <td>6880658719709323296</td>\n",
       "      <td>0715624001</td>\n",
       "      <td>0.003348</td>\n",
       "    </tr>\n",
       "    <tr>\n",
       "      <th>17659135</th>\n",
       "      <td>-5319435422203726596</td>\n",
       "      <td>0685814003</td>\n",
       "      <td>0.003994</td>\n",
       "    </tr>\n",
       "    <tr>\n",
       "      <th>17659136</th>\n",
       "      <td>-5295356071783540875</td>\n",
       "      <td>0865799006</td>\n",
       "      <td>0.001946</td>\n",
       "    </tr>\n",
       "  </tbody>\n",
       "</table>\n",
       "<p>17659137 rows × 3 columns</p>\n",
       "</div>"
      ],
      "text/plain": [
       "                  customer_id  article_id     score\n",
       "0        -5999203964398635807  0372860001  0.000348\n",
       "1          471630412255967366  0909370001  0.006180\n",
       "2         2656175073765020454  0685814003  0.003994\n",
       "3        -7012262553570367283  0599580038  0.000834\n",
       "4         6325131989438020026  0715624001  0.004419\n",
       "...                       ...         ...       ...\n",
       "17659132  1038315922583354869  0599580038  0.001437\n",
       "17659133  6932262640144467459  0658298007  0.000567\n",
       "17659134  6880658719709323296  0715624001  0.003348\n",
       "17659135 -5319435422203726596  0685814003  0.003994\n",
       "17659136 -5295356071783540875  0865799006  0.001946\n",
       "\n",
       "[17659137 rows x 3 columns]"
      ]
     },
     "execution_count": 112,
     "metadata": {},
     "output_type": "execute_result"
    }
   ],
   "source": [
    "merge_result"
   ]
  },
  {
   "cell_type": "code",
   "execution_count": 113,
   "id": "20d8998f",
   "metadata": {
    "_cell_guid": "8185f84e-cedc-48c4-86a1-d1bb371c28dd",
    "_uuid": "23818e7f-b7a3-432f-83bf-6136af149dfc",
    "collapsed": false,
    "execution": {
     "iopub.execute_input": "2022-04-04T11:19:16.452845Z",
     "iopub.status.busy": "2022-04-04T11:19:16.452075Z",
     "iopub.status.idle": "2022-04-04T11:19:16.666251Z",
     "shell.execute_reply": "2022-04-04T11:19:16.665820Z",
     "shell.execute_reply.started": "2022-04-04T11:09:02.567301Z"
    },
    "jupyter": {
     "outputs_hidden": false
    },
    "papermill": {
     "duration": 0.381961,
     "end_time": "2022-04-04T11:19:16.666394",
     "exception": false,
     "start_time": "2022-04-04T11:19:16.284433",
     "status": "completed"
    },
    "tags": []
   },
   "outputs": [],
   "source": [
    "merge_result = merge_result.sort_values(by = [\"customer_id\", \"score\"], ascending = False)"
   ]
  },
  {
   "cell_type": "code",
   "execution_count": 114,
   "id": "8fe7bd7b",
   "metadata": {
    "_cell_guid": "10c16fac-7e05-433f-b9db-246c57a1de7c",
    "_uuid": "9b04ffe9-0216-4196-a496-de23397301fa",
    "collapsed": false,
    "execution": {
     "iopub.execute_input": "2022-04-04T11:19:17.006139Z",
     "iopub.status.busy": "2022-04-04T11:19:17.005388Z",
     "iopub.status.idle": "2022-04-04T11:19:17.007867Z",
     "shell.execute_reply": "2022-04-04T11:19:17.007429Z",
     "shell.execute_reply.started": "2022-04-04T11:09:02.785276Z"
    },
    "jupyter": {
     "outputs_hidden": false
    },
    "papermill": {
     "duration": 0.178574,
     "end_time": "2022-04-04T11:19:17.007977",
     "exception": false,
     "start_time": "2022-04-04T11:19:16.829403",
     "status": "completed"
    },
    "tags": []
   },
   "outputs": [],
   "source": [
    "#merge_result.to_pandas()[:10000].groupby([\"customer_id\"])[\"article_id\"].agg(lambda x: print(x.to_list()))"
   ]
  },
  {
   "cell_type": "code",
   "execution_count": 115,
   "id": "c4b7dea7",
   "metadata": {
    "_cell_guid": "61b2ea68-7528-4ec9-8d54-2a5dc5f757bb",
    "_uuid": "42b77504-3d51-48a9-83bc-2a24b68b23f9",
    "collapsed": false,
    "execution": {
     "iopub.execute_input": "2022-04-04T11:19:17.354230Z",
     "iopub.status.busy": "2022-04-04T11:19:17.353421Z",
     "iopub.status.idle": "2022-04-04T11:19:17.395823Z",
     "shell.execute_reply": "2022-04-04T11:19:17.396236Z",
     "shell.execute_reply.started": "2022-04-04T11:09:02.791578Z"
    },
    "jupyter": {
     "outputs_hidden": false
    },
    "papermill": {
     "duration": 0.223194,
     "end_time": "2022-04-04T11:19:17.396446",
     "exception": false,
     "start_time": "2022-04-04T11:19:17.173252",
     "status": "completed"
    },
    "tags": []
   },
   "outputs": [
    {
     "data": {
      "text/html": [
       "<div>\n",
       "<style scoped>\n",
       "    .dataframe tbody tr th:only-of-type {\n",
       "        vertical-align: middle;\n",
       "    }\n",
       "\n",
       "    .dataframe tbody tr th {\n",
       "        vertical-align: top;\n",
       "    }\n",
       "\n",
       "    .dataframe thead th {\n",
       "        text-align: right;\n",
       "    }\n",
       "</style>\n",
       "<table border=\"1\" class=\"dataframe\">\n",
       "  <thead>\n",
       "    <tr style=\"text-align: right;\">\n",
       "      <th></th>\n",
       "      <th>customer_id</th>\n",
       "      <th>article_id</th>\n",
       "      <th>score</th>\n",
       "    </tr>\n",
       "  </thead>\n",
       "  <tbody>\n",
       "    <tr>\n",
       "      <th>9372443</th>\n",
       "      <td>9223370729206611574</td>\n",
       "      <td>0909370001</td>\n",
       "      <td>0.006153</td>\n",
       "    </tr>\n",
       "    <tr>\n",
       "      <th>7094821</th>\n",
       "      <td>9223370729206611574</td>\n",
       "      <td>0909371001</td>\n",
       "      <td>0.004058</td>\n",
       "    </tr>\n",
       "    <tr>\n",
       "      <th>10064102</th>\n",
       "      <td>9223370729206611574</td>\n",
       "      <td>0805947001</td>\n",
       "      <td>0.002095</td>\n",
       "    </tr>\n",
       "    <tr>\n",
       "      <th>3455700</th>\n",
       "      <td>9223370729206611574</td>\n",
       "      <td>0781758003</td>\n",
       "      <td>0.001461</td>\n",
       "    </tr>\n",
       "    <tr>\n",
       "      <th>8388335</th>\n",
       "      <td>9223357421094039679</td>\n",
       "      <td>0918522001</td>\n",
       "      <td>0.003060</td>\n",
       "    </tr>\n",
       "    <tr>\n",
       "      <th>...</th>\n",
       "      <td>...</td>\n",
       "      <td>...</td>\n",
       "      <td>...</td>\n",
       "    </tr>\n",
       "    <tr>\n",
       "      <th>3288260</th>\n",
       "      <td>-9223352921020755230</td>\n",
       "      <td>0562245046</td>\n",
       "      <td>0.000718</td>\n",
       "    </tr>\n",
       "    <tr>\n",
       "      <th>9491304</th>\n",
       "      <td>-9223352921020755230</td>\n",
       "      <td>0751471001</td>\n",
       "      <td>0.000639</td>\n",
       "    </tr>\n",
       "    <tr>\n",
       "      <th>7493452</th>\n",
       "      <td>-9223352921020755230</td>\n",
       "      <td>0372860002</td>\n",
       "      <td>0.000618</td>\n",
       "    </tr>\n",
       "    <tr>\n",
       "      <th>13267828</th>\n",
       "      <td>-9223352921020755230</td>\n",
       "      <td>0568597006</td>\n",
       "      <td>0.000559</td>\n",
       "    </tr>\n",
       "    <tr>\n",
       "      <th>1082115</th>\n",
       "      <td>-9223352921020755230</td>\n",
       "      <td>0156231001</td>\n",
       "      <td>0.000552</td>\n",
       "    </tr>\n",
       "  </tbody>\n",
       "</table>\n",
       "<p>17659137 rows × 3 columns</p>\n",
       "</div>"
      ],
      "text/plain": [
       "                  customer_id  article_id     score\n",
       "9372443   9223370729206611574  0909370001  0.006153\n",
       "7094821   9223370729206611574  0909371001  0.004058\n",
       "10064102  9223370729206611574  0805947001  0.002095\n",
       "3455700   9223370729206611574  0781758003  0.001461\n",
       "8388335   9223357421094039679  0918522001  0.003060\n",
       "...                       ...         ...       ...\n",
       "3288260  -9223352921020755230  0562245046  0.000718\n",
       "9491304  -9223352921020755230  0751471001  0.000639\n",
       "7493452  -9223352921020755230  0372860002  0.000618\n",
       "13267828 -9223352921020755230  0568597006  0.000559\n",
       "1082115  -9223352921020755230  0156231001  0.000552\n",
       "\n",
       "[17659137 rows x 3 columns]"
      ]
     },
     "execution_count": 115,
     "metadata": {},
     "output_type": "execute_result"
    }
   ],
   "source": [
    "merge_result"
   ]
  },
  {
   "cell_type": "code",
   "execution_count": 116,
   "id": "fc2fb8fb",
   "metadata": {
    "_cell_guid": "7a7bc801-4d06-48ae-9ee2-e08ec8de6982",
    "_uuid": "4d5db8ab-fdb2-4af3-ae9e-d9e74d258c4f",
    "collapsed": false,
    "execution": {
     "iopub.execute_input": "2022-04-04T11:19:17.730098Z",
     "iopub.status.busy": "2022-04-04T11:19:17.729050Z",
     "iopub.status.idle": "2022-04-04T11:19:32.195194Z",
     "shell.execute_reply": "2022-04-04T11:19:32.194386Z",
     "shell.execute_reply.started": "2022-04-04T11:09:02.848218Z"
    },
    "jupyter": {
     "outputs_hidden": false
    },
    "papermill": {
     "duration": 14.634227,
     "end_time": "2022-04-04T11:19:32.195373",
     "exception": false,
     "start_time": "2022-04-04T11:19:17.561146",
     "status": "completed"
    },
    "tags": []
   },
   "outputs": [],
   "source": [
    "final = merge_result.to_pandas().groupby([\"customer_id\"])[\"article_id\"].agg(lambda x: \" \".join(x)[:131])"
   ]
  },
  {
   "cell_type": "code",
   "execution_count": 117,
   "id": "f76e45a6",
   "metadata": {
    "_cell_guid": "26a10bf6-0a3e-4fab-afb9-2f20086cbb2e",
    "_uuid": "1155094c-6aee-4ce9-be3a-fc8de6cd12f2",
    "collapsed": false,
    "execution": {
     "iopub.execute_input": "2022-04-04T11:19:32.537005Z",
     "iopub.status.busy": "2022-04-04T11:19:32.536162Z",
     "iopub.status.idle": "2022-04-04T11:19:32.538509Z",
     "shell.execute_reply": "2022-04-04T11:19:32.537956Z",
     "shell.execute_reply.started": "2022-04-04T11:09:17.194691Z"
    },
    "jupyter": {
     "outputs_hidden": false
    },
    "papermill": {
     "duration": 0.179088,
     "end_time": "2022-04-04T11:19:32.538624",
     "exception": false,
     "start_time": "2022-04-04T11:19:32.359536",
     "status": "completed"
    },
    "tags": []
   },
   "outputs": [],
   "source": [
    "# source = merge_result.to_pandas().groupby([\"customer_id\"])[\"article_id\"].agg(lambda x: \" \".join(x)[:131])"
   ]
  },
  {
   "cell_type": "code",
   "execution_count": 118,
   "id": "dfc6dc66",
   "metadata": {
    "_cell_guid": "2fe781a8-b967-4005-9f49-90508849e7ca",
    "_uuid": "8e7b0224-dab1-4e41-a466-9733984fd664",
    "collapsed": false,
    "execution": {
     "iopub.execute_input": "2022-04-04T11:19:32.870114Z",
     "iopub.status.busy": "2022-04-04T11:19:32.869392Z",
     "iopub.status.idle": "2022-04-04T11:19:32.939048Z",
     "shell.execute_reply": "2022-04-04T11:19:32.938576Z",
     "shell.execute_reply.started": "2022-04-04T11:09:17.201765Z"
    },
    "jupyter": {
     "outputs_hidden": false
    },
    "papermill": {
     "duration": 0.238001,
     "end_time": "2022-04-04T11:19:32.939168",
     "exception": false,
     "start_time": "2022-04-04T11:19:32.701167",
     "status": "completed"
    },
    "tags": []
   },
   "outputs": [],
   "source": [
    "final = final.reset_index()"
   ]
  },
  {
   "cell_type": "code",
   "execution_count": 119,
   "id": "099fb5cb",
   "metadata": {
    "_cell_guid": "d60cb210-4763-4ae6-a6ad-c730a26435f5",
    "_uuid": "80e15014-18ef-4d43-bb8b-31a9be2c41ca",
    "collapsed": false,
    "execution": {
     "iopub.execute_input": "2022-04-04T11:19:33.276499Z",
     "iopub.status.busy": "2022-04-04T11:19:33.275561Z",
     "iopub.status.idle": "2022-04-04T11:19:33.310522Z",
     "shell.execute_reply": "2022-04-04T11:19:33.310049Z",
     "shell.execute_reply.started": "2022-04-04T11:09:17.280349Z"
    },
    "jupyter": {
     "outputs_hidden": false
    },
    "papermill": {
     "duration": 0.204722,
     "end_time": "2022-04-04T11:19:33.310644",
     "exception": false,
     "start_time": "2022-04-04T11:19:33.105922",
     "status": "completed"
    },
    "tags": []
   },
   "outputs": [],
   "source": [
    "final = final.rename(columns = {\"article_id\": \"prediction\"})"
   ]
  },
  {
   "cell_type": "code",
   "execution_count": 120,
   "id": "b6124dc3",
   "metadata": {
    "_cell_guid": "efd90b2c-5aef-4990-a946-6adaf50033b1",
    "_uuid": "02d56c2d-8009-4bd6-8553-6ec0eb292669",
    "collapsed": false,
    "execution": {
     "iopub.execute_input": "2022-04-04T11:19:33.777029Z",
     "iopub.status.busy": "2022-04-04T11:19:33.776188Z",
     "iopub.status.idle": "2022-04-04T11:19:33.784193Z",
     "shell.execute_reply": "2022-04-04T11:19:33.785177Z",
     "shell.execute_reply.started": "2022-04-04T11:09:17.321739Z"
    },
    "jupyter": {
     "outputs_hidden": false
    },
    "papermill": {
     "duration": 0.311132,
     "end_time": "2022-04-04T11:19:33.785379",
     "exception": false,
     "start_time": "2022-04-04T11:19:33.474247",
     "status": "completed"
    },
    "tags": []
   },
   "outputs": [
    {
     "data": {
      "text/html": [
       "<div>\n",
       "<style scoped>\n",
       "    .dataframe tbody tr th:only-of-type {\n",
       "        vertical-align: middle;\n",
       "    }\n",
       "\n",
       "    .dataframe tbody tr th {\n",
       "        vertical-align: top;\n",
       "    }\n",
       "\n",
       "    .dataframe thead th {\n",
       "        text-align: right;\n",
       "    }\n",
       "</style>\n",
       "<table border=\"1\" class=\"dataframe\">\n",
       "  <thead>\n",
       "    <tr style=\"text-align: right;\">\n",
       "      <th></th>\n",
       "      <th>customer_id</th>\n",
       "      <th>prediction</th>\n",
       "    </tr>\n",
       "  </thead>\n",
       "  <tbody>\n",
       "    <tr>\n",
       "      <th>0</th>\n",
       "      <td>-9223352921020755230</td>\n",
       "      <td>0673396002 0860949002 0739590032 0812167004 07...</td>\n",
       "    </tr>\n",
       "    <tr>\n",
       "      <th>1</th>\n",
       "      <td>-9223343869995384291</td>\n",
       "      <td>0908292002 0910601003 0865929007 0903926002 08...</td>\n",
       "    </tr>\n",
       "    <tr>\n",
       "      <th>2</th>\n",
       "      <td>-9223321797620987725</td>\n",
       "      <td>0751471043 0865799006 0918522001</td>\n",
       "    </tr>\n",
       "    <tr>\n",
       "      <th>3</th>\n",
       "      <td>-9223319430705797669</td>\n",
       "      <td>0685814003 0448509014 0715624001 0918522001</td>\n",
       "    </tr>\n",
       "    <tr>\n",
       "      <th>4</th>\n",
       "      <td>-9223308614576639426</td>\n",
       "      <td>0872537004 0899282001 0865929003 0751471038 09...</td>\n",
       "    </tr>\n",
       "    <tr>\n",
       "      <th>...</th>\n",
       "      <td>...</td>\n",
       "      <td>...</td>\n",
       "    </tr>\n",
       "    <tr>\n",
       "      <th>1364779</th>\n",
       "      <td>9223319300843860958</td>\n",
       "      <td>0751471001 0751471038 0751471043</td>\n",
       "    </tr>\n",
       "    <tr>\n",
       "      <th>1364780</th>\n",
       "      <td>9223333063893176977</td>\n",
       "      <td>0909370001 0865799006 0924243001 0809238001 09...</td>\n",
       "    </tr>\n",
       "    <tr>\n",
       "      <th>1364781</th>\n",
       "      <td>9223345314868180224</td>\n",
       "      <td>0909370001 0717464001 0841383002 0865799006 08...</td>\n",
       "    </tr>\n",
       "    <tr>\n",
       "      <th>1364782</th>\n",
       "      <td>9223357421094039679</td>\n",
       "      <td>0918522001 0751471043 0751471001 0747984002 07...</td>\n",
       "    </tr>\n",
       "    <tr>\n",
       "      <th>1364783</th>\n",
       "      <td>9223370729206611574</td>\n",
       "      <td>0909370001 0909371001 0805947001 0781758003</td>\n",
       "    </tr>\n",
       "  </tbody>\n",
       "</table>\n",
       "<p>1364784 rows × 2 columns</p>\n",
       "</div>"
      ],
      "text/plain": [
       "                 customer_id  \\\n",
       "0       -9223352921020755230   \n",
       "1       -9223343869995384291   \n",
       "2       -9223321797620987725   \n",
       "3       -9223319430705797669   \n",
       "4       -9223308614576639426   \n",
       "...                      ...   \n",
       "1364779  9223319300843860958   \n",
       "1364780  9223333063893176977   \n",
       "1364781  9223345314868180224   \n",
       "1364782  9223357421094039679   \n",
       "1364783  9223370729206611574   \n",
       "\n",
       "                                                prediction  \n",
       "0        0673396002 0860949002 0739590032 0812167004 07...  \n",
       "1        0908292002 0910601003 0865929007 0903926002 08...  \n",
       "2                         0751471043 0865799006 0918522001  \n",
       "3              0685814003 0448509014 0715624001 0918522001  \n",
       "4        0872537004 0899282001 0865929003 0751471038 09...  \n",
       "...                                                    ...  \n",
       "1364779                   0751471001 0751471038 0751471043  \n",
       "1364780  0909370001 0865799006 0924243001 0809238001 09...  \n",
       "1364781  0909370001 0717464001 0841383002 0865799006 08...  \n",
       "1364782  0918522001 0751471043 0751471001 0747984002 07...  \n",
       "1364783        0909370001 0909371001 0805947001 0781758003  \n",
       "\n",
       "[1364784 rows x 2 columns]"
      ]
     },
     "execution_count": 120,
     "metadata": {},
     "output_type": "execute_result"
    }
   ],
   "source": [
    "final"
   ]
  },
  {
   "cell_type": "code",
   "execution_count": 121,
   "id": "e23057ce",
   "metadata": {
    "_cell_guid": "a53b064c-7c02-4b55-8f59-0899eb5e287f",
    "_uuid": "ea47c8bc-9264-4ad5-a14b-e75d396098e3",
    "collapsed": false,
    "execution": {
     "iopub.execute_input": "2022-04-04T11:19:34.354671Z",
     "iopub.status.busy": "2022-04-04T11:19:34.353928Z",
     "iopub.status.idle": "2022-04-04T11:19:34.358641Z",
     "shell.execute_reply": "2022-04-04T11:19:34.357868Z",
     "shell.execute_reply.started": "2022-04-04T11:09:17.335616Z"
    },
    "jupyter": {
     "outputs_hidden": false
    },
    "papermill": {
     "duration": 0.302095,
     "end_time": "2022-04-04T11:19:34.358771",
     "exception": false,
     "start_time": "2022-04-04T11:19:34.056676",
     "status": "completed"
    },
    "tags": []
   },
   "outputs": [
    {
     "data": {
      "text/plain": [
       "126"
      ]
     },
     "execution_count": 121,
     "metadata": {},
     "output_type": "execute_result"
    }
   ],
   "source": [
    "gc.collect()"
   ]
  },
  {
   "cell_type": "code",
   "execution_count": 122,
   "id": "fd9a5b2f",
   "metadata": {
    "_cell_guid": "9c88db0b-4b6c-49cd-b577-4cb46b089d42",
    "_uuid": "62d5d0f5-410c-4053-a735-fdfcc6ea15d6",
    "collapsed": false,
    "execution": {
     "iopub.execute_input": "2022-04-04T11:19:34.704528Z",
     "iopub.status.busy": "2022-04-04T11:19:34.700165Z",
     "iopub.status.idle": "2022-04-04T11:19:35.564904Z",
     "shell.execute_reply": "2022-04-04T11:19:35.565396Z",
     "shell.execute_reply.started": "2022-04-04T11:09:17.474504Z"
    },
    "jupyter": {
     "outputs_hidden": false
    },
    "papermill": {
     "duration": 1.040746,
     "end_time": "2022-04-04T11:19:35.565548",
     "exception": false,
     "start_time": "2022-04-04T11:19:34.524802",
     "status": "completed"
    },
    "tags": []
   },
   "outputs": [],
   "source": [
    "if Online:\n",
    "    sub  = cudf.read_csv('../input/h-and-m-personalized-fashion-recommendations/sample_submission.csv',\n",
    "                                usecols= ['customer_id'], \n",
    "                                dtype={'customer_id': 'string'})\n",
    "\n",
    "    sub['customer_id2'] = sub['customer_id'].str[-16:].str.hex_to_int().astype('int64')\n",
    "\n",
    "    sub = sub.to_pandas().merge(final, left_on = 'customer_id2', right_on = 'customer_id', how = 'left',\n",
    "                   suffixes = ('', '_ignored'))\n",
    "else:\n",
    "    sub  = cudf.read_csv('../input/h-and-m-personalized-fashion-recommendations/sample_submission.csv',\n",
    "                                usecols= ['customer_id'], \n",
    "                                dtype={'customer_id': 'string'})\n",
    "\n",
    "    sub['customer_id'] = sub['customer_id'].str[-16:].str.hex_to_int().astype('int64')\n",
    "\n",
    "    sub = sub.to_pandas().merge(final, left_on = 'customer_id', right_on = 'customer_id', how = 'left',\n",
    "                   suffixes = ('', '_ignored'))\n",
    "    \n",
    "\n",
    "#sub = sub.to_pandas()\n",
    "\n",
    "\n",
    "#final = sub.groupby([\"customer_id\"])[\"article_id\"].agg(lambda x: \" \".join(x + [general_pred_str]).strip()[:131])\n",
    "\n",
    "# sub['prediction'] = sub['prediction'].fillna(general_pred_str)\n",
    "# sub['prediction'] = sub['prediction'] + ' ' +  general_pred_str\n",
    "# sub['prediction'] = sub['prediction'].str.strip()\n",
    "# sub['prediction'] = sub['prediction'].str[:131]\n",
    "# sub = sub[['customer_id', 'prediction']]\n",
    "# sub.to_csv(f'submission.csv',index=False)"
   ]
  },
  {
   "cell_type": "code",
   "execution_count": 123,
   "id": "189206f7",
   "metadata": {
    "_cell_guid": "943fd4cf-ad93-45d4-a4e4-28048bb18039",
    "_uuid": "a646478c-26d3-4fe1-8120-f789b7351602",
    "collapsed": false,
    "execution": {
     "iopub.execute_input": "2022-04-04T11:19:36.179700Z",
     "iopub.status.busy": "2022-04-04T11:19:35.934042Z",
     "iopub.status.idle": "2022-04-04T11:19:36.186449Z",
     "shell.execute_reply": "2022-04-04T11:19:36.185977Z",
     "shell.execute_reply.started": "2022-04-04T11:09:18.367245Z"
    },
    "jupyter": {
     "outputs_hidden": false
    },
    "papermill": {
     "duration": 0.439926,
     "end_time": "2022-04-04T11:19:36.186584",
     "exception": false,
     "start_time": "2022-04-04T11:19:35.746658",
     "status": "completed"
    },
    "tags": []
   },
   "outputs": [
    {
     "data": {
      "text/plain": [
       "7196"
      ]
     },
     "execution_count": 123,
     "metadata": {},
     "output_type": "execute_result"
    }
   ],
   "source": [
    "sub[\"prediction\"].isna().sum()"
   ]
  },
  {
   "cell_type": "code",
   "execution_count": 124,
   "id": "93ff8914",
   "metadata": {
    "_cell_guid": "a59cf2a4-3448-4fd3-8ef4-ccb6842ae93c",
    "_uuid": "5395499e-8e2d-4ff9-b299-2f3751c32ac5",
    "collapsed": false,
    "execution": {
     "iopub.execute_input": "2022-04-04T11:19:36.528970Z",
     "iopub.status.busy": "2022-04-04T11:19:36.528315Z",
     "iopub.status.idle": "2022-04-04T11:19:36.531529Z",
     "shell.execute_reply": "2022-04-04T11:19:36.532095Z",
     "shell.execute_reply.started": "2022-04-04T11:09:18.608715Z"
    },
    "jupyter": {
     "outputs_hidden": false
    },
    "papermill": {
     "duration": 0.176127,
     "end_time": "2022-04-04T11:19:36.532286",
     "exception": false,
     "start_time": "2022-04-04T11:19:36.356159",
     "status": "completed"
    },
    "tags": []
   },
   "outputs": [
    {
     "name": "stdout",
     "output_type": "stream",
     "text": [
      "0909370001 0865799006 0918522001 0924243001 0448509014 0751471001 0809238001 0918292001 0762846027 0809238005 0673677002 0923758001\n"
     ]
    }
   ],
   "source": [
    "if not Only:\n",
    "    print(general_pred_str)"
   ]
  },
  {
   "cell_type": "code",
   "execution_count": 125,
   "id": "247d0f8a",
   "metadata": {
    "_cell_guid": "106a5cab-ccb9-4424-b21b-9b171577ceb1",
    "_uuid": "ea2ac64e-6e14-40a4-8d0a-1595416c3f7f",
    "collapsed": false,
    "execution": {
     "iopub.execute_input": "2022-04-04T11:19:37.132882Z",
     "iopub.status.busy": "2022-04-04T11:19:37.127781Z",
     "iopub.status.idle": "2022-04-04T11:19:39.073449Z",
     "shell.execute_reply": "2022-04-04T11:19:39.073878Z",
     "shell.execute_reply.started": "2022-04-04T11:09:18.615476Z"
    },
    "jupyter": {
     "outputs_hidden": false
    },
    "papermill": {
     "duration": 2.356709,
     "end_time": "2022-04-04T11:19:39.074049",
     "exception": false,
     "start_time": "2022-04-04T11:19:36.717340",
     "status": "completed"
    },
    "tags": []
   },
   "outputs": [],
   "source": [
    "if not Only:\n",
    "    sub[\"prediction\"] = sub[\"prediction\"].fillna(general_pred_str)\n",
    "    sub['prediction'] = sub['prediction'] + ' ' +  general_pred_str\n",
    "sub['prediction'] = sub['prediction'].str[:131]"
   ]
  },
  {
   "cell_type": "markdown",
   "id": "e1b0dbda",
   "metadata": {
    "papermill": {
     "duration": 0.166058,
     "end_time": "2022-04-04T11:19:39.406469",
     "exception": false,
     "start_time": "2022-04-04T11:19:39.240411",
     "status": "completed"
    },
    "tags": []
   },
   "source": [
    "## 生成测试集"
   ]
  },
  {
   "cell_type": "code",
   "execution_count": 126,
   "id": "2cf18457",
   "metadata": {
    "_cell_guid": "320d21e0-5c4a-4ef4-a841-c50adf781804",
    "_uuid": "fc0619d6-669b-4244-8691-3005c8641610",
    "collapsed": false,
    "execution": {
     "iopub.execute_input": "2022-04-04T11:19:39.747184Z",
     "iopub.status.busy": "2022-04-04T11:19:39.746256Z",
     "iopub.status.idle": "2022-04-04T11:19:39.748185Z",
     "shell.execute_reply": "2022-04-04T11:19:39.748628Z",
     "shell.execute_reply.started": "2022-04-04T11:09:20.816373Z"
    },
    "jupyter": {
     "outputs_hidden": false
    },
    "papermill": {
     "duration": 0.176299,
     "end_time": "2022-04-04T11:19:39.748764",
     "exception": false,
     "start_time": "2022-04-04T11:19:39.572465",
     "status": "completed"
    },
    "tags": []
   },
   "outputs": [],
   "source": [
    "import datetime\n",
    "if Online:\n",
    "    sub[[\"customer_id\", \"prediction\"]].to_csv(\"sub_sz_{}.csv\".format(datetime.datetime.now().strftime('%Y-%m-%d %H:%M:%S')), index = False)\n",
    "    assert False"
   ]
  },
  {
   "cell_type": "code",
   "execution_count": 127,
   "id": "39729a32",
   "metadata": {
    "execution": {
     "iopub.execute_input": "2022-04-04T11:19:40.130691Z",
     "iopub.status.busy": "2022-04-04T11:19:40.130004Z",
     "iopub.status.idle": "2022-04-04T11:19:40.132911Z",
     "shell.execute_reply": "2022-04-04T11:19:40.133349Z",
     "shell.execute_reply.started": "2022-04-04T11:09:20.822649Z"
    },
    "papermill": {
     "duration": 0.215638,
     "end_time": "2022-04-04T11:19:40.133480",
     "exception": false,
     "start_time": "2022-04-04T11:19:39.917842",
     "status": "completed"
    },
    "tags": []
   },
   "outputs": [
    {
     "data": {
      "text/html": [
       "<div>\n",
       "<style scoped>\n",
       "    .dataframe tbody tr th:only-of-type {\n",
       "        vertical-align: middle;\n",
       "    }\n",
       "\n",
       "    .dataframe tbody tr th {\n",
       "        vertical-align: top;\n",
       "    }\n",
       "\n",
       "    .dataframe thead th {\n",
       "        text-align: right;\n",
       "    }\n",
       "</style>\n",
       "<table border=\"1\" class=\"dataframe\">\n",
       "  <thead>\n",
       "    <tr style=\"text-align: right;\">\n",
       "      <th></th>\n",
       "      <th>customer_id</th>\n",
       "      <th>prediction</th>\n",
       "    </tr>\n",
       "  </thead>\n",
       "  <tbody>\n",
       "    <tr>\n",
       "      <th>0</th>\n",
       "      <td>6883939031699146327</td>\n",
       "      <td>0568601043 0858856005 0751471001 0751471038 05...</td>\n",
       "    </tr>\n",
       "    <tr>\n",
       "      <th>1</th>\n",
       "      <td>-7200416642310594310</td>\n",
       "      <td>0909370001 0865799006 0826211002 0809238001 09...</td>\n",
       "    </tr>\n",
       "    <tr>\n",
       "      <th>2</th>\n",
       "      <td>-6846340800584936</td>\n",
       "      <td>0794321007 0805000001 0794321011 0791587001 07...</td>\n",
       "    </tr>\n",
       "    <tr>\n",
       "      <th>3</th>\n",
       "      <td>-94071612138601410</td>\n",
       "      <td>0918522001 0751471043 0751471001 0909370001 08...</td>\n",
       "    </tr>\n",
       "    <tr>\n",
       "      <th>4</th>\n",
       "      <td>-283965518499174310</td>\n",
       "      <td>0673677002 0896152002 0791587015 0730683050 09...</td>\n",
       "    </tr>\n",
       "    <tr>\n",
       "      <th>...</th>\n",
       "      <td>...</td>\n",
       "      <td>...</td>\n",
       "    </tr>\n",
       "    <tr>\n",
       "      <th>95</th>\n",
       "      <td>1889187610526549305</td>\n",
       "      <td>0918522001 0751471043 0751471001 0909370001 08...</td>\n",
       "    </tr>\n",
       "    <tr>\n",
       "      <th>96</th>\n",
       "      <td>980241662753680497</td>\n",
       "      <td>0879088001 0685814003 0448509014 0715624001 09...</td>\n",
       "    </tr>\n",
       "    <tr>\n",
       "      <th>97</th>\n",
       "      <td>1444190829146371337</td>\n",
       "      <td>0685814003 0448509014 0715624001 0918522001 09...</td>\n",
       "    </tr>\n",
       "    <tr>\n",
       "      <th>98</th>\n",
       "      <td>1889400186892419753</td>\n",
       "      <td>0897423001 0685814003 0448509014 0715624001 09...</td>\n",
       "    </tr>\n",
       "    <tr>\n",
       "      <th>99</th>\n",
       "      <td>-327473559171145925</td>\n",
       "      <td>0909370001 0865799006 0918522001 0924243001 04...</td>\n",
       "    </tr>\n",
       "  </tbody>\n",
       "</table>\n",
       "<p>100 rows × 2 columns</p>\n",
       "</div>"
      ],
      "text/plain": [
       "            customer_id                                         prediction\n",
       "0   6883939031699146327  0568601043 0858856005 0751471001 0751471038 05...\n",
       "1  -7200416642310594310  0909370001 0865799006 0826211002 0809238001 09...\n",
       "2     -6846340800584936  0794321007 0805000001 0794321011 0791587001 07...\n",
       "3    -94071612138601410  0918522001 0751471043 0751471001 0909370001 08...\n",
       "4   -283965518499174310  0673677002 0896152002 0791587015 0730683050 09...\n",
       "..                  ...                                                ...\n",
       "95  1889187610526549305  0918522001 0751471043 0751471001 0909370001 08...\n",
       "96   980241662753680497  0879088001 0685814003 0448509014 0715624001 09...\n",
       "97  1444190829146371337  0685814003 0448509014 0715624001 0918522001 09...\n",
       "98  1889400186892419753  0897423001 0685814003 0448509014 0715624001 09...\n",
       "99  -327473559171145925  0909370001 0865799006 0918522001 0924243001 04...\n",
       "\n",
       "[100 rows x 2 columns]"
      ]
     },
     "execution_count": 127,
     "metadata": {},
     "output_type": "execute_result"
    }
   ],
   "source": [
    "sub[:100]"
   ]
  },
  {
   "cell_type": "code",
   "execution_count": 128,
   "id": "545b642e",
   "metadata": {
    "_cell_guid": "54209751-6670-4a1b-a268-4a00d4049bc8",
    "_uuid": "cb276dff-05a8-410e-bd5a-c83199c62437",
    "collapsed": false,
    "execution": {
     "iopub.execute_input": "2022-04-04T11:19:40.468171Z",
     "iopub.status.busy": "2022-04-04T11:19:40.467660Z",
     "iopub.status.idle": "2022-04-04T11:19:40.623731Z",
     "shell.execute_reply": "2022-04-04T11:19:40.622782Z",
     "shell.execute_reply.started": "2022-04-04T11:09:20.840661Z"
    },
    "jupyter": {
     "outputs_hidden": false
    },
    "papermill": {
     "duration": 0.325341,
     "end_time": "2022-04-04T11:19:40.623860",
     "exception": false,
     "start_time": "2022-04-04T11:19:40.298519",
     "status": "completed"
    },
    "tags": []
   },
   "outputs": [],
   "source": [
    "sub_id  = cudf.read_csv('../input/h-and-m-personalized-fashion-recommendations/sample_submission.csv',\n",
    "                                usecols= ['customer_id'], \n",
    "                                dtype={'customer_id': 'string'})\n",
    "cid = cudf.DataFrame(sub_id['customer_id'].str[-16:].str.hex_to_int().astype('int64'))"
   ]
  },
  {
   "cell_type": "code",
   "execution_count": 129,
   "id": "dcce9c7f",
   "metadata": {
    "_cell_guid": "68573437-c071-4e84-a954-65cc36959a1a",
    "_uuid": "45d4681e-0636-4caa-b3d8-a513efce1075",
    "collapsed": false,
    "execution": {
     "iopub.execute_input": "2022-04-04T11:19:40.968808Z",
     "iopub.status.busy": "2022-04-04T11:19:40.968026Z",
     "iopub.status.idle": "2022-04-04T11:19:40.970545Z",
     "shell.execute_reply": "2022-04-04T11:19:40.970105Z",
     "shell.execute_reply.started": "2022-04-04T11:09:21.003856Z"
    },
    "jupyter": {
     "outputs_hidden": false
    },
    "papermill": {
     "duration": 0.177923,
     "end_time": "2022-04-04T11:19:40.970662",
     "exception": false,
     "start_time": "2022-04-04T11:19:40.792739",
     "status": "completed"
    },
    "tags": []
   },
   "outputs": [],
   "source": [
    "cid[\"customer_id\"] = cid[\"customer_id\"].astype(\"int64\")"
   ]
  },
  {
   "cell_type": "code",
   "execution_count": 130,
   "id": "75b1645a",
   "metadata": {
    "_cell_guid": "12cce383-b9ad-4d5f-9fe6-eff6d2483a16",
    "_uuid": "307594aa-e0b5-4b31-a1e9-3b4bf84487a3",
    "collapsed": false,
    "execution": {
     "iopub.execute_input": "2022-04-04T11:19:41.307780Z",
     "iopub.status.busy": "2022-04-04T11:19:41.307022Z",
     "iopub.status.idle": "2022-04-04T11:19:42.631512Z",
     "shell.execute_reply": "2022-04-04T11:19:42.631018Z",
     "shell.execute_reply.started": "2022-04-04T11:09:21.009622Z"
    },
    "jupyter": {
     "outputs_hidden": false
    },
    "papermill": {
     "duration": 1.495055,
     "end_time": "2022-04-04T11:19:42.631650",
     "exception": false,
     "start_time": "2022-04-04T11:19:41.136595",
     "status": "completed"
    },
    "tags": []
   },
   "outputs": [],
   "source": [
    "def iter_to_str(iterable):\n",
    "    return \" \".join(map(lambda x: str(0) + str(x), iterable))\n",
    "real = val.to_pandas().groupby('customer_id')[\"article_id\"].apply(iter_to_str).reset_index()"
   ]
  },
  {
   "cell_type": "code",
   "execution_count": 131,
   "id": "85071031",
   "metadata": {
    "_cell_guid": "51e901bb-eb02-424d-8804-884e43d71243",
    "_uuid": "942d9d6a-2d85-45c4-aa5f-0c1f9c433f7d",
    "collapsed": false,
    "execution": {
     "iopub.execute_input": "2022-04-04T11:19:42.971715Z",
     "iopub.status.busy": "2022-04-04T11:19:42.970660Z",
     "iopub.status.idle": "2022-04-04T11:19:43.244536Z",
     "shell.execute_reply": "2022-04-04T11:19:43.244020Z",
     "shell.execute_reply.started": "2022-04-04T11:09:22.562146Z"
    },
    "jupyter": {
     "outputs_hidden": false
    },
    "papermill": {
     "duration": 0.4459,
     "end_time": "2022-04-04T11:19:43.244678",
     "exception": false,
     "start_time": "2022-04-04T11:19:42.798778",
     "status": "completed"
    },
    "tags": []
   },
   "outputs": [],
   "source": [
    "real = real.merge(cid.to_pandas(), on='customer_id', how='inner')\n",
    "real.article_id = real.article_id.apply(lambda s: [] if pd.isna(s) else s.split())"
   ]
  },
  {
   "cell_type": "code",
   "execution_count": 132,
   "id": "0503b705",
   "metadata": {
    "_cell_guid": "1eccf81d-77a1-42bd-815e-cb2fd026140f",
    "_uuid": "145942b6-16c3-4af1-881b-1c00eaa5a65f",
    "collapsed": false,
    "execution": {
     "iopub.execute_input": "2022-04-04T11:19:43.588283Z",
     "iopub.status.busy": "2022-04-04T11:19:43.586643Z",
     "iopub.status.idle": "2022-04-04T11:19:43.588868Z",
     "shell.execute_reply": "2022-04-04T11:19:43.589254Z",
     "shell.execute_reply.started": "2022-04-04T11:09:22.843485Z"
    },
    "jupyter": {
     "outputs_hidden": false
    },
    "papermill": {
     "duration": 0.176697,
     "end_time": "2022-04-04T11:19:43.589415",
     "exception": false,
     "start_time": "2022-04-04T11:19:43.412718",
     "status": "completed"
    },
    "tags": []
   },
   "outputs": [],
   "source": [
    "#sub[:10000].groupby([\"customer_id\"])[\"article_id\"].agg(lambda x: \" \".join(x).strip()[:131])"
   ]
  },
  {
   "cell_type": "code",
   "execution_count": 133,
   "id": "bb4eabae",
   "metadata": {
    "_cell_guid": "db7125aa-eb4e-47ae-b02f-b8b19790d064",
    "_uuid": "f7fed420-1020-41e8-99c8-9d59df2a4e6b",
    "collapsed": false,
    "execution": {
     "iopub.execute_input": "2022-04-04T11:19:43.927995Z",
     "iopub.status.busy": "2022-04-04T11:19:43.927143Z",
     "iopub.status.idle": "2022-04-04T11:19:43.929501Z",
     "shell.execute_reply": "2022-04-04T11:19:43.928967Z",
     "shell.execute_reply.started": "2022-04-04T11:09:22.849017Z"
    },
    "jupyter": {
     "outputs_hidden": false
    },
    "papermill": {
     "duration": 0.172929,
     "end_time": "2022-04-04T11:19:43.929611",
     "exception": false,
     "start_time": "2022-04-04T11:19:43.756682",
     "status": "completed"
    },
    "tags": []
   },
   "outputs": [],
   "source": [
    "#final"
   ]
  },
  {
   "cell_type": "markdown",
   "id": "9aaa7293",
   "metadata": {
    "_cell_guid": "07bbf10d-d477-4e90-829b-149b44d9d9e9",
    "_uuid": "336b94f7-1eef-4fc6-b9a4-49fee8b48ddc",
    "editable": false,
    "papermill": {
     "duration": 0.166977,
     "end_time": "2022-04-04T11:19:44.263635",
     "exception": false,
     "start_time": "2022-04-04T11:19:44.096658",
     "status": "completed"
    },
    "tags": []
   },
   "source": [
    "## 验证集评估"
   ]
  },
  {
   "cell_type": "code",
   "execution_count": 134,
   "id": "bf6c7ffb",
   "metadata": {
    "_cell_guid": "b52875eb-ab95-4c6f-b3a0-c3e639b28dc0",
    "_uuid": "2bce14f8-317e-411f-9dba-f4d21a92b68f",
    "collapsed": false,
    "execution": {
     "iopub.execute_input": "2022-04-04T11:19:44.894073Z",
     "iopub.status.busy": "2022-04-04T11:19:44.893186Z",
     "iopub.status.idle": "2022-04-04T11:19:44.901926Z",
     "shell.execute_reply": "2022-04-04T11:19:44.901250Z",
     "shell.execute_reply.started": "2022-04-04T11:09:22.860689Z"
    },
    "jupyter": {
     "outputs_hidden": false
    },
    "papermill": {
     "duration": 0.472313,
     "end_time": "2022-04-04T11:19:44.902100",
     "exception": false,
     "start_time": "2022-04-04T11:19:44.429787",
     "status": "completed"
    },
    "tags": []
   },
   "outputs": [
    {
     "data": {
      "text/plain": [
       "63"
      ]
     },
     "execution_count": 134,
     "metadata": {},
     "output_type": "execute_result"
    }
   ],
   "source": [
    "gc.collect()"
   ]
  },
  {
   "cell_type": "code",
   "execution_count": 135,
   "id": "e32879e2",
   "metadata": {
    "_cell_guid": "94880db5-953b-4202-8a1b-f488afa3858e",
    "_uuid": "77c9edac-445e-4afa-b540-60c5e88fb0a2",
    "collapsed": false,
    "execution": {
     "iopub.execute_input": "2022-04-04T11:19:45.371600Z",
     "iopub.status.busy": "2022-04-04T11:19:45.370688Z",
     "iopub.status.idle": "2022-04-04T11:19:45.441279Z",
     "shell.execute_reply": "2022-04-04T11:19:45.441901Z",
     "shell.execute_reply.started": "2022-04-04T11:09:23.008756Z"
    },
    "jupyter": {
     "outputs_hidden": false
    },
    "papermill": {
     "duration": 0.286294,
     "end_time": "2022-04-04T11:19:45.442062",
     "exception": false,
     "start_time": "2022-04-04T11:19:45.155768",
     "status": "completed"
    },
    "tags": []
   },
   "outputs": [],
   "source": [
    "import numpy as np, pandas as pd, datetime as dt\n",
    "import matplotlib.pyplot as plt; plt.style.use('ggplot')\n",
    "import seaborn as sns\n",
    "from collections import defaultdict\n",
    "\n",
    "def iter_to_str(iterable):\n",
    "    return \" \".join(map(lambda x: str(0) + str(x), iterable))\n",
    "\n",
    "def apk(actual, predicted, k=12):\n",
    "    if len(predicted) > k:\n",
    "        predicted = predicted[:k]\n",
    "    score, nhits = 0.0, 0.0\n",
    "    for i, p in enumerate(predicted):\n",
    "        if p in actual and p not in predicted[:i]:\n",
    "            nhits += 1.0\n",
    "            score += nhits / (i + 1.0)\n",
    "    if not actual:\n",
    "        return 0.0\n",
    "    return score / min(len(actual), k)\n",
    "\n",
    "def mapk(actual, predicted, k=12, return_apks=False):\n",
    "    assert len(actual) == len(predicted)\n",
    "    apks = [apk(ac, pr, k) for ac, pr in zip(actual, predicted) if 0 < len(ac)]\n",
    "    if return_apks:\n",
    "        return apks\n",
    "    return np.mean(apks)\n",
    "\n",
    "def blend(dt, w=[], k=12):\n",
    "    if len(w) == 0:\n",
    "        w = [1] * (len(dt))\n",
    "    preds = []\n",
    "    for i in range(len(w)):\n",
    "        preds.append(dt[i].split())\n",
    "    res = {}\n",
    "    for i in range(len(preds)):\n",
    "        if w[i] < 0:\n",
    "            continue\n",
    "        for n, v in enumerate(preds[i]):\n",
    "            if v in res:\n",
    "                res[v] += (w[i] / (n + 1))\n",
    "            else:\n",
    "                res[v] = (w[i] / (n + 1))    \n",
    "    res = list(dict(sorted(res.items(), key=lambda item: -item[1])).keys())\n",
    "    return ' '.join(res[:k])\n",
    "\n",
    "def prune(pred, ok_set, k=12):\n",
    "    pred = pred.split()\n",
    "    post = []\n",
    "    for item in pred:\n",
    "        if int(item) in ok_set and not item in post:\n",
    "            post.append(item)\n",
    "    return \" \".join(post[:k])\n",
    "\n",
    "def validation(actual, predicted, groups, score=0, index=-1, ignore=False, figsize=(22, 6), name = \"\"):\n",
    "    # actual, predicted : list of lists\n",
    "    # group : pandas Series\n",
    "    # score : pandas DataFrame\n",
    "    if ignore: return\n",
    "    ap12 = mapk(actual, predicted, return_apks=True)\n",
    "    smap12 = round(np.mean(ap12), 6)\n",
    "    group_num = len(groups)\n",
    "    plt.figure(figsize=figsize)\n",
    "    plt.subplot(1, 1+group_num, 1); sns.histplot(data=ap12, log_scale=(0, 10), bins=20); plt.title(f\"MAP@12 : {smap12}\")\n",
    "    count = 2\n",
    "    for name, group in groups.items():\n",
    "        score = pd.DataFrame({g:[] for g in sorted(group.unique().tolist())})\n",
    "        if index == -1 : index = score.shape[0]\n",
    "        score.loc[index, \"All\"] = smap12\n",
    "        for g in group.unique():\n",
    "            map12 = round(mapk(actual[group == g], predicted[group == g]), 6)\n",
    "            score.loc[index, g] = map12\n",
    "        plt.subplot(1, 1+group_num, count)\n",
    "        score[[g for g in sorted(group.unique(), key = lambda x: x if type(x) is np.float64 else float(x.replace(\"(\", \"1\").split(\",\")[0]))[::-1]] + ['All']].loc[index].plot.barh()\n",
    "        plt.title(\"{} MAP@12\".format(name))\n",
    "        count += 1\n",
    "        vc = pd.Series(predicted).apply(len).value_counts()\n",
    "        score.loc[index, \"Fill\"] = round(1 - sum(vc[k] * (12 - k) / 12 for k in (set(range(12)) & set(vc.index))) / len(actual), 3) * 100\n",
    "        display(score)\n",
    "    return score"
   ]
  },
  {
   "cell_type": "code",
   "execution_count": 136,
   "id": "ce8b4747",
   "metadata": {
    "_cell_guid": "c5857db9-2cb4-4454-88f0-798fa0b3f65e",
    "_uuid": "1793bb3a-128e-447f-9352-eb2775399e11",
    "collapsed": false,
    "execution": {
     "iopub.execute_input": "2022-04-04T11:19:45.817967Z",
     "iopub.status.busy": "2022-04-04T11:19:45.817179Z",
     "iopub.status.idle": "2022-04-04T11:19:45.842397Z",
     "shell.execute_reply": "2022-04-04T11:19:45.841840Z",
     "shell.execute_reply.started": "2022-04-04T11:09:23.093541Z"
    },
    "jupyter": {
     "outputs_hidden": false
    },
    "papermill": {
     "duration": 0.214989,
     "end_time": "2022-04-04T11:19:45.842520",
     "exception": false,
     "start_time": "2022-04-04T11:19:45.627531",
     "status": "completed"
    },
    "tags": []
   },
   "outputs": [],
   "source": [
    "group = val.groupby('customer_id').sales_channel_id.mean().round().reset_index()\\\n",
    "    .merge(cid, on='customer_id', how='inner').rename(columns={'sales_channel_id':'group'})\n",
    "group = group.set_index('customer_id').loc[real.customer_id].reset_index()\n",
    "channal_group = group.group.fillna(3)"
   ]
  },
  {
   "cell_type": "code",
   "execution_count": 137,
   "id": "6815b351",
   "metadata": {
    "_cell_guid": "dcdf2838-545d-4040-94e8-3e649dad87be",
    "_uuid": "2277e667-fa4f-4f5d-8bb0-0fd7ca26c044",
    "collapsed": false,
    "execution": {
     "iopub.execute_input": "2022-04-04T11:19:46.228400Z",
     "iopub.status.busy": "2022-04-04T11:19:46.227570Z",
     "iopub.status.idle": "2022-04-04T11:19:52.335106Z",
     "shell.execute_reply": "2022-04-04T11:19:52.335592Z",
     "shell.execute_reply.started": "2022-04-04T11:09:23.121748Z"
    },
    "jupyter": {
     "outputs_hidden": false
    },
    "papermill": {
     "duration": 6.30279,
     "end_time": "2022-04-04T11:19:52.335767",
     "exception": false,
     "start_time": "2022-04-04T11:19:46.032977",
     "status": "completed"
    },
    "tags": []
   },
   "outputs": [],
   "source": [
    "customer[\"age_type\"] = pd.cut(customer.to_pandas()[\"age\"], bins = np.array([0, 21, 24, 27, 30, 35, 40, 45, 50, 60, 9999], dtype = \"int32\"), right = True).astype(\"string\")\n",
    "group = customer.rename(columns={'age_type':'group'}).set_index('customer_id').loc[real.customer_id].reset_index()\n",
    "age_group = group.group.fillna(\"-1\")"
   ]
  },
  {
   "cell_type": "code",
   "execution_count": 138,
   "id": "7c7f2c6b",
   "metadata": {
    "_cell_guid": "f33c62d5-3d1a-4927-9eaa-f967e7f78698",
    "_uuid": "f699ab78-a7f7-440a-a611-9f16e4ca316a",
    "collapsed": false,
    "execution": {
     "iopub.execute_input": "2022-04-04T11:19:52.711683Z",
     "iopub.status.busy": "2022-04-04T11:19:52.710886Z",
     "iopub.status.idle": "2022-04-04T11:19:52.906774Z",
     "shell.execute_reply": "2022-04-04T11:19:52.907239Z",
     "shell.execute_reply.started": "2022-04-04T11:09:29.234697Z"
    },
    "jupyter": {
     "outputs_hidden": false
    },
    "papermill": {
     "duration": 0.381568,
     "end_time": "2022-04-04T11:19:52.907523",
     "exception": false,
     "start_time": "2022-04-04T11:19:52.525955",
     "status": "completed"
    },
    "tags": []
   },
   "outputs": [],
   "source": [
    "group = val.groupby('customer_id').sales_channel_id.count().round().reset_index()\\\n",
    "    .merge(cid, on='customer_id', how='inner').rename(columns={'sales_channel_id':'group'})\n",
    "group[\"group\"] = pd.cut(group[\"group\"].to_pandas(), bins = np.array([0, 1, 2, 3, 5, 10, 20, 9999], dtype = \"int32\"), right = True).astype(\"string\")\n",
    "group = group.set_index('customer_id').loc[real.customer_id].reset_index()\n",
    "count_group = group.group.fillna(0)"
   ]
  },
  {
   "cell_type": "code",
   "execution_count": 139,
   "id": "6fccbd03",
   "metadata": {
    "_cell_guid": "49138940-6071-4015-8dc0-0d08685fb3db",
    "_uuid": "0be5e21c-c7e5-43c3-a2f7-3c8d861ae73e",
    "collapsed": false,
    "execution": {
     "iopub.execute_input": "2022-04-04T11:19:53.246902Z",
     "iopub.status.busy": "2022-04-04T11:19:53.246089Z",
     "iopub.status.idle": "2022-04-04T11:19:53.285113Z",
     "shell.execute_reply": "2022-04-04T11:19:53.285550Z",
     "shell.execute_reply.started": "2022-04-04T11:09:29.440212Z"
    },
    "jupyter": {
     "outputs_hidden": false
    },
    "papermill": {
     "duration": 0.209414,
     "end_time": "2022-04-04T11:19:53.285686",
     "exception": false,
     "start_time": "2022-04-04T11:19:53.076272",
     "status": "completed"
    },
    "tags": []
   },
   "outputs": [
    {
     "data": {
      "text/html": [
       "<div>\n",
       "<style scoped>\n",
       "    .dataframe tbody tr th:only-of-type {\n",
       "        vertical-align: middle;\n",
       "    }\n",
       "\n",
       "    .dataframe tbody tr th {\n",
       "        vertical-align: top;\n",
       "    }\n",
       "\n",
       "    .dataframe thead th {\n",
       "        text-align: right;\n",
       "    }\n",
       "</style>\n",
       "<table border=\"1\" class=\"dataframe\">\n",
       "  <thead>\n",
       "    <tr style=\"text-align: right;\">\n",
       "      <th></th>\n",
       "      <th>customer_id</th>\n",
       "    </tr>\n",
       "  </thead>\n",
       "  <tbody>\n",
       "    <tr>\n",
       "      <th>31718581</th>\n",
       "      <td>-9223100958908512198</td>\n",
       "    </tr>\n",
       "    <tr>\n",
       "      <th>31723712</th>\n",
       "      <td>-9223002534477110135</td>\n",
       "    </tr>\n",
       "    <tr>\n",
       "      <th>31668649</th>\n",
       "      <td>-9222810895170663723</td>\n",
       "    </tr>\n",
       "    <tr>\n",
       "      <th>31664044</th>\n",
       "      <td>-9221924794303263774</td>\n",
       "    </tr>\n",
       "    <tr>\n",
       "      <th>31782993</th>\n",
       "      <td>-9221811157628158522</td>\n",
       "    </tr>\n",
       "    <tr>\n",
       "      <th>...</th>\n",
       "      <td>...</td>\n",
       "    </tr>\n",
       "    <tr>\n",
       "      <th>31575924</th>\n",
       "      <td>9221607025486275188</td>\n",
       "    </tr>\n",
       "    <tr>\n",
       "      <th>31692865</th>\n",
       "      <td>9221813808370389952</td>\n",
       "    </tr>\n",
       "    <tr>\n",
       "      <th>31681512</th>\n",
       "      <td>9222310594107555341</td>\n",
       "    </tr>\n",
       "    <tr>\n",
       "      <th>31712352</th>\n",
       "      <td>9223099843213569889</td>\n",
       "    </tr>\n",
       "    <tr>\n",
       "      <th>31622943</th>\n",
       "      <td>9223141695752178477</td>\n",
       "    </tr>\n",
       "  </tbody>\n",
       "</table>\n",
       "<p>68984 rows × 1 columns</p>\n",
       "</div>"
      ],
      "text/plain": [
       "                  customer_id\n",
       "31718581 -9223100958908512198\n",
       "31723712 -9223002534477110135\n",
       "31668649 -9222810895170663723\n",
       "31664044 -9221924794303263774\n",
       "31782993 -9221811157628158522\n",
       "...                       ...\n",
       "31575924  9221607025486275188\n",
       "31692865  9221813808370389952\n",
       "31681512  9222310594107555341\n",
       "31712352  9223099843213569889\n",
       "31622943  9223141695752178477\n",
       "\n",
       "[68984 rows x 1 columns]"
      ]
     },
     "execution_count": 139,
     "metadata": {},
     "output_type": "execute_result"
    }
   ],
   "source": [
    "val[['customer_id']].drop_duplicates()"
   ]
  },
  {
   "cell_type": "code",
   "execution_count": 140,
   "id": "dd40608d",
   "metadata": {
    "_cell_guid": "768e17cd-99ea-4846-a565-dc9f7305e81d",
    "_uuid": "8e2f1665-8ac8-4ac4-82e3-2168e624cb41",
    "collapsed": false,
    "execution": {
     "iopub.execute_input": "2022-04-04T11:19:53.627289Z",
     "iopub.status.busy": "2022-04-04T11:19:53.626478Z",
     "iopub.status.idle": "2022-04-04T11:19:53.861516Z",
     "shell.execute_reply": "2022-04-04T11:19:53.861034Z",
     "shell.execute_reply.started": "2022-04-04T11:09:29.488497Z"
    },
    "jupyter": {
     "outputs_hidden": false
    },
    "papermill": {
     "duration": 0.406724,
     "end_time": "2022-04-04T11:19:53.861649",
     "exception": false,
     "start_time": "2022-04-04T11:19:53.454925",
     "status": "completed"
    },
    "tags": []
   },
   "outputs": [],
   "source": [
    "group = train.groupby('customer_id').sales_channel_id.count().round().reset_index()\\\n",
    "    .merge(val[['customer_id']].drop_duplicates(), on = \"customer_id\", how = \"right\")\\\n",
    "    .merge(cid, on='customer_id', how='inner').rename(columns={'sales_channel_id':'group'})\n",
    "group[\"group\"] = pd.cut(group[\"group\"].to_pandas(), bins = np.array([0, 5, 10, 20, 35, 50, 100], dtype = \"int32\"), right = True).astype(\"string\")\n",
    "group = group.set_index('customer_id').loc[real.customer_id].reset_index()\n",
    "his_count_group = group.group.fillna(0)"
   ]
  },
  {
   "cell_type": "code",
   "execution_count": 141,
   "id": "168f6bbf",
   "metadata": {
    "_cell_guid": "62c87e1b-9fc7-4002-9984-c8ffa900de38",
    "_uuid": "3b720eee-a973-45db-aad0-468a062508a7",
    "collapsed": false,
    "execution": {
     "iopub.execute_input": "2022-04-04T11:19:54.227378Z",
     "iopub.status.busy": "2022-04-04T11:19:54.226519Z",
     "iopub.status.idle": "2022-04-04T11:19:54.233049Z",
     "shell.execute_reply": "2022-04-04T11:19:54.233534Z",
     "shell.execute_reply.started": "2022-04-04T11:09:29.732430Z"
    },
    "jupyter": {
     "outputs_hidden": false
    },
    "papermill": {
     "duration": 0.18366,
     "end_time": "2022-04-04T11:19:54.233670",
     "exception": false,
     "start_time": "2022-04-04T11:19:54.050010",
     "status": "completed"
    },
    "tags": []
   },
   "outputs": [
    {
     "data": {
      "text/plain": [
       "0        (30.0, 35.0]\n",
       "1        (27.0, 30.0]\n",
       "2         (0.0, 21.0]\n",
       "3        (50.0, 60.0]\n",
       "4        (21.0, 24.0]\n",
       "             ...     \n",
       "68979    (40.0, 45.0]\n",
       "68980    (27.0, 30.0]\n",
       "68981    (30.0, 35.0]\n",
       "68982    (27.0, 30.0]\n",
       "68983     (0.0, 21.0]\n",
       "Name: group, Length: 68984, dtype: object"
      ]
     },
     "execution_count": 141,
     "metadata": {},
     "output_type": "execute_result"
    }
   ],
   "source": [
    "age_group"
   ]
  },
  {
   "cell_type": "code",
   "execution_count": 142,
   "id": "9d6182b7",
   "metadata": {
    "_cell_guid": "e1809e19-905d-43a1-af09-3aceb2af08db",
    "_uuid": "f6e05524-2963-4c35-94ec-ae83d3a07d04",
    "collapsed": false,
    "execution": {
     "iopub.execute_input": "2022-04-04T11:19:54.575843Z",
     "iopub.status.busy": "2022-04-04T11:19:54.575039Z",
     "iopub.status.idle": "2022-04-04T11:19:54.588811Z",
     "shell.execute_reply": "2022-04-04T11:19:54.588340Z",
     "shell.execute_reply.started": "2022-04-04T11:09:29.746015Z"
    },
    "jupyter": {
     "outputs_hidden": false
    },
    "papermill": {
     "duration": 0.186395,
     "end_time": "2022-04-04T11:19:54.588927",
     "exception": false,
     "start_time": "2022-04-04T11:19:54.402532",
     "status": "completed"
    },
    "tags": []
   },
   "outputs": [
    {
     "data": {
      "text/plain": [
       "2.0    40829\n",
       "1.0    28155\n",
       "Name: group, dtype: int32"
      ]
     },
     "execution_count": 142,
     "metadata": {},
     "output_type": "execute_result"
    }
   ],
   "source": [
    "channal_group.value_counts()"
   ]
  },
  {
   "cell_type": "code",
   "execution_count": 143,
   "id": "49238896",
   "metadata": {
    "_cell_guid": "dda23053-1403-4e5d-bff8-9a1d5b71d783",
    "_uuid": "7ae048c4-0875-4e5b-9609-9d027ced58b7",
    "collapsed": false,
    "execution": {
     "iopub.execute_input": "2022-04-04T11:19:54.931672Z",
     "iopub.status.busy": "2022-04-04T11:19:54.930340Z",
     "iopub.status.idle": "2022-04-04T11:19:55.037338Z",
     "shell.execute_reply": "2022-04-04T11:19:55.036808Z",
     "shell.execute_reply.started": "2022-04-04T11:09:29.764083Z"
    },
    "jupyter": {
     "outputs_hidden": false
    },
    "papermill": {
     "duration": 0.280155,
     "end_time": "2022-04-04T11:19:55.037474",
     "exception": false,
     "start_time": "2022-04-04T11:19:54.757319",
     "status": "completed"
    },
    "tags": []
   },
   "outputs": [],
   "source": [
    "sub = sub.set_index('customer_id').loc[real.customer_id].reset_index()"
   ]
  },
  {
   "cell_type": "code",
   "execution_count": 144,
   "id": "c32e0d80",
   "metadata": {
    "_cell_guid": "522dea03-39fb-4dfb-beb9-fd762ae39676",
    "_uuid": "bcef721f-5fe4-4e60-8ccf-da443ac5e5f2",
    "collapsed": false,
    "execution": {
     "iopub.execute_input": "2022-04-04T11:19:55.381837Z",
     "iopub.status.busy": "2022-04-04T11:19:55.375152Z",
     "iopub.status.idle": "2022-04-04T11:19:55.385161Z",
     "shell.execute_reply": "2022-04-04T11:19:55.384734Z",
     "shell.execute_reply.started": "2022-04-04T11:09:29.880565Z"
    },
    "jupyter": {
     "outputs_hidden": false
    },
    "papermill": {
     "duration": 0.179482,
     "end_time": "2022-04-04T11:19:55.385281",
     "exception": false,
     "start_time": "2022-04-04T11:19:55.205799",
     "status": "completed"
    },
    "tags": []
   },
   "outputs": [
    {
     "data": {
      "text/html": [
       "<div>\n",
       "<style scoped>\n",
       "    .dataframe tbody tr th:only-of-type {\n",
       "        vertical-align: middle;\n",
       "    }\n",
       "\n",
       "    .dataframe tbody tr th {\n",
       "        vertical-align: top;\n",
       "    }\n",
       "\n",
       "    .dataframe thead th {\n",
       "        text-align: right;\n",
       "    }\n",
       "</style>\n",
       "<table border=\"1\" class=\"dataframe\">\n",
       "  <thead>\n",
       "    <tr style=\"text-align: right;\">\n",
       "      <th></th>\n",
       "      <th>customer_id</th>\n",
       "      <th>prediction</th>\n",
       "    </tr>\n",
       "  </thead>\n",
       "  <tbody>\n",
       "    <tr>\n",
       "      <th>0</th>\n",
       "      <td>-9223100958908512198</td>\n",
       "      <td>0909911001 0909912001 0899976004 0924645001 09...</td>\n",
       "    </tr>\n",
       "    <tr>\n",
       "      <th>1</th>\n",
       "      <td>-9223002534477110135</td>\n",
       "      <td>0909370001 0158340001 0811907003 0706016002 08...</td>\n",
       "    </tr>\n",
       "    <tr>\n",
       "      <th>2</th>\n",
       "      <td>-9222810895170663723</td>\n",
       "      <td>0568601006 0759814022 0918522001 0685814003 06...</td>\n",
       "    </tr>\n",
       "    <tr>\n",
       "      <th>3</th>\n",
       "      <td>-9221924794303263774</td>\n",
       "      <td>0707269004 0707269003 0892412002 0909370001 09...</td>\n",
       "    </tr>\n",
       "    <tr>\n",
       "      <th>4</th>\n",
       "      <td>-9221811157628158522</td>\n",
       "      <td>0909370001 0448509014 0918522001 0918292001 08...</td>\n",
       "    </tr>\n",
       "    <tr>\n",
       "      <th>...</th>\n",
       "      <td>...</td>\n",
       "      <td>...</td>\n",
       "    </tr>\n",
       "    <tr>\n",
       "      <th>68979</th>\n",
       "      <td>9221607025486275188</td>\n",
       "      <td>0816586002 0673677002 0706016002 0909370001 01...</td>\n",
       "    </tr>\n",
       "    <tr>\n",
       "      <th>68980</th>\n",
       "      <td>9221813808370389952</td>\n",
       "      <td>0654590001 0714790020 0448509014 0749699002 06...</td>\n",
       "    </tr>\n",
       "    <tr>\n",
       "      <th>68981</th>\n",
       "      <td>9222310594107555341</td>\n",
       "      <td>0904416002 0863595002 0863595005 0863646003 09...</td>\n",
       "    </tr>\n",
       "    <tr>\n",
       "      <th>68982</th>\n",
       "      <td>9223099843213569889</td>\n",
       "      <td>0903773002 0776850001 0757909004 0827968004 08...</td>\n",
       "    </tr>\n",
       "    <tr>\n",
       "      <th>68983</th>\n",
       "      <td>9223141695752178477</td>\n",
       "      <td>0918522001 0685814003 0448509014 0918292001 07...</td>\n",
       "    </tr>\n",
       "  </tbody>\n",
       "</table>\n",
       "<p>68984 rows × 2 columns</p>\n",
       "</div>"
      ],
      "text/plain": [
       "               customer_id                                         prediction\n",
       "0     -9223100958908512198  0909911001 0909912001 0899976004 0924645001 09...\n",
       "1     -9223002534477110135  0909370001 0158340001 0811907003 0706016002 08...\n",
       "2     -9222810895170663723  0568601006 0759814022 0918522001 0685814003 06...\n",
       "3     -9221924794303263774  0707269004 0707269003 0892412002 0909370001 09...\n",
       "4     -9221811157628158522  0909370001 0448509014 0918522001 0918292001 08...\n",
       "...                    ...                                                ...\n",
       "68979  9221607025486275188  0816586002 0673677002 0706016002 0909370001 01...\n",
       "68980  9221813808370389952  0654590001 0714790020 0448509014 0749699002 06...\n",
       "68981  9222310594107555341  0904416002 0863595002 0863595005 0863646003 09...\n",
       "68982  9223099843213569889  0903773002 0776850001 0757909004 0827968004 08...\n",
       "68983  9223141695752178477  0918522001 0685814003 0448509014 0918292001 07...\n",
       "\n",
       "[68984 rows x 2 columns]"
      ]
     },
     "execution_count": 144,
     "metadata": {},
     "output_type": "execute_result"
    }
   ],
   "source": [
    "sub"
   ]
  },
  {
   "cell_type": "code",
   "execution_count": 145,
   "id": "2d18fa51",
   "metadata": {
    "_cell_guid": "5ec7e047-8de4-4ef5-b1e3-4a4c73371fdf",
    "_uuid": "b6abaaa0-9e18-4b49-b300-79d6e86ac243",
    "collapsed": false,
    "execution": {
     "iopub.execute_input": "2022-04-04T11:19:55.910674Z",
     "iopub.status.busy": "2022-04-04T11:19:55.909854Z",
     "iopub.status.idle": "2022-04-04T11:19:55.929159Z",
     "shell.execute_reply": "2022-04-04T11:19:55.930017Z",
     "shell.execute_reply.started": "2022-04-04T11:09:29.895417Z"
    },
    "jupyter": {
     "outputs_hidden": false
    },
    "papermill": {
     "duration": 0.310058,
     "end_time": "2022-04-04T11:19:55.930199",
     "exception": false,
     "start_time": "2022-04-04T11:19:55.620141",
     "status": "completed"
    },
    "tags": []
   },
   "outputs": [
    {
     "data": {
      "text/plain": [
       "0                17646\n",
       "(50.0, 100.0]    14603\n",
       "(20.0, 35.0]     10527\n",
       "(10.0, 20.0]      8439\n",
       "(35.0, 50.0]      7675\n",
       "(0.0, 5.0]        5210\n",
       "(5.0, 10.0]       4884\n",
       "Name: group, dtype: int32"
      ]
     },
     "execution_count": 145,
     "metadata": {},
     "output_type": "execute_result"
    }
   ],
   "source": [
    "his_count_group.value_counts()"
   ]
  },
  {
   "cell_type": "code",
   "execution_count": 146,
   "id": "dcd0eef6",
   "metadata": {
    "_cell_guid": "b94887b4-a06c-4ad5-bbc9-c0d9fc2cde24",
    "_uuid": "a4f66ce5-62f5-4e40-b0ab-2562620a6803",
    "collapsed": false,
    "execution": {
     "iopub.execute_input": "2022-04-04T11:19:56.326173Z",
     "iopub.status.busy": "2022-04-04T11:19:56.325407Z",
     "iopub.status.idle": "2022-04-04T11:19:56.479443Z",
     "shell.execute_reply": "2022-04-04T11:19:56.479868Z",
     "shell.execute_reply.started": "2022-04-04T11:09:29.917342Z"
    },
    "jupyter": {
     "outputs_hidden": false
    },
    "papermill": {
     "duration": 0.331166,
     "end_time": "2022-04-04T11:19:56.480034",
     "exception": false,
     "start_time": "2022-04-04T11:19:56.148868",
     "status": "completed"
    },
    "tags": []
   },
   "outputs": [],
   "source": [
    "prediction =  sub[\"prediction\"].apply(lambda s: [] if pd.isna(s) else s.split())"
   ]
  },
  {
   "cell_type": "code",
   "execution_count": 147,
   "id": "991688ca",
   "metadata": {
    "_cell_guid": "f4865157-18b1-4407-9d14-787f27fc03c9",
    "_uuid": "32124ecb-23d8-46ea-84bf-697b8aa0e90c",
    "collapsed": false,
    "execution": {
     "iopub.execute_input": "2022-04-04T11:19:56.824603Z",
     "iopub.status.busy": "2022-04-04T11:19:56.823506Z",
     "iopub.status.idle": "2022-04-04T11:19:56.835505Z",
     "shell.execute_reply": "2022-04-04T11:19:56.835053Z",
     "shell.execute_reply.started": "2022-04-04T11:09:30.081749Z"
    },
    "jupyter": {
     "outputs_hidden": false
    },
    "papermill": {
     "duration": 0.185772,
     "end_time": "2022-04-04T11:19:56.835626",
     "exception": false,
     "start_time": "2022-04-04T11:19:56.649854",
     "status": "completed"
    },
    "tags": []
   },
   "outputs": [],
   "source": [
    "groups = {\"channal\":channal_group.to_pandas(),\n",
    "         \"age\":age_group.to_pandas(),\n",
    "         \"val_count\":count_group.to_pandas(),\n",
    "         \"train_count\": his_count_group.to_pandas()}"
   ]
  },
  {
   "cell_type": "code",
   "execution_count": 148,
   "id": "0bfdc98b",
   "metadata": {
    "_cell_guid": "4e13a4ca-b571-4c03-af40-3c326888a68a",
    "_uuid": "bf283679-7c7b-4a5c-953a-02fb07b47c31",
    "collapsed": false,
    "execution": {
     "iopub.execute_input": "2022-04-04T11:19:57.190394Z",
     "iopub.status.busy": "2022-04-04T11:19:57.189568Z",
     "iopub.status.idle": "2022-04-04T11:19:57.203959Z",
     "shell.execute_reply": "2022-04-04T11:19:57.204372Z",
     "shell.execute_reply.started": "2022-04-04T11:09:30.097413Z"
    },
    "jupyter": {
     "outputs_hidden": false
    },
    "papermill": {
     "duration": 0.19228,
     "end_time": "2022-04-04T11:19:57.204513",
     "exception": false,
     "start_time": "2022-04-04T11:19:57.012233",
     "status": "completed"
    },
    "tags": []
   },
   "outputs": [
    {
     "data": {
      "text/plain": [
       "(0, 1]        19994\n",
       "(1, 2]        16386\n",
       "(3, 5]        10928\n",
       "(2, 3]        10075\n",
       "(5, 10]        8668\n",
       "(10, 20]       2571\n",
       "(20, 9999]      362\n",
       "Name: group, dtype: int32"
      ]
     },
     "execution_count": 148,
     "metadata": {},
     "output_type": "execute_result"
    }
   ],
   "source": [
    "count_group.value_counts()"
   ]
  },
  {
   "cell_type": "code",
   "execution_count": 149,
   "id": "555dd743",
   "metadata": {
    "_cell_guid": "fc0012d2-919a-4125-a613-0d3e7fefc4ab",
    "_uuid": "e275557c-6ae7-49bb-afb9-b86e174642da",
    "collapsed": false,
    "execution": {
     "iopub.execute_input": "2022-04-04T11:19:57.548326Z",
     "iopub.status.busy": "2022-04-04T11:19:57.547788Z",
     "iopub.status.idle": "2022-04-04T11:19:57.551760Z",
     "shell.execute_reply": "2022-04-04T11:19:57.551309Z",
     "shell.execute_reply.started": "2022-04-04T11:09:30.117940Z"
    },
    "jupyter": {
     "outputs_hidden": false
    },
    "papermill": {
     "duration": 0.177545,
     "end_time": "2022-04-04T11:19:57.551897",
     "exception": false,
     "start_time": "2022-04-04T11:19:57.374352",
     "status": "completed"
    },
    "tags": []
   },
   "outputs": [],
   "source": [
    "#sorted(count_group.to_pandas().unique(), key = lambda x: float(x.replace(\"(\", \"1\").split(\",\")[0]))"
   ]
  },
  {
   "cell_type": "code",
   "execution_count": 150,
   "id": "4ac0c1b5",
   "metadata": {
    "_cell_guid": "b0d5540d-5979-416d-a2d1-0ca1397dd9a4",
    "_uuid": "1dbb2fe2-5714-4fb9-9b0f-667ef769a794",
    "collapsed": false,
    "execution": {
     "iopub.execute_input": "2022-04-04T11:19:57.939045Z",
     "iopub.status.busy": "2022-04-04T11:19:57.928717Z",
     "iopub.status.idle": "2022-04-04T11:20:01.505826Z",
     "shell.execute_reply": "2022-04-04T11:20:01.506232Z",
     "shell.execute_reply.started": "2022-04-04T11:09:30.123228Z"
    },
    "jupyter": {
     "outputs_hidden": false
    },
    "papermill": {
     "duration": 3.783676,
     "end_time": "2022-04-04T11:20:01.506418",
     "exception": false,
     "start_time": "2022-04-04T11:19:57.722742",
     "status": "completed"
    },
    "tags": []
   },
   "outputs": [
    {
     "data": {
      "text/html": [
       "<div>\n",
       "<style scoped>\n",
       "    .dataframe tbody tr th:only-of-type {\n",
       "        vertical-align: middle;\n",
       "    }\n",
       "\n",
       "    .dataframe tbody tr th {\n",
       "        vertical-align: top;\n",
       "    }\n",
       "\n",
       "    .dataframe thead th {\n",
       "        text-align: right;\n",
       "    }\n",
       "</style>\n",
       "<table border=\"1\" class=\"dataframe\">\n",
       "  <thead>\n",
       "    <tr style=\"text-align: right;\">\n",
       "      <th></th>\n",
       "      <th>1.0</th>\n",
       "      <th>2.0</th>\n",
       "      <th>All</th>\n",
       "      <th>Fill</th>\n",
       "    </tr>\n",
       "  </thead>\n",
       "  <tbody>\n",
       "    <tr>\n",
       "      <th>Last Purchase</th>\n",
       "      <td>0.017015</td>\n",
       "      <td>0.032568</td>\n",
       "      <td>0.02622</td>\n",
       "      <td>100.0</td>\n",
       "    </tr>\n",
       "  </tbody>\n",
       "</table>\n",
       "</div>"
      ],
      "text/plain": [
       "                    1.0       2.0      All   Fill\n",
       "Last Purchase  0.017015  0.032568  0.02622  100.0"
      ]
     },
     "metadata": {},
     "output_type": "display_data"
    },
    {
     "data": {
      "text/html": [
       "<div>\n",
       "<style scoped>\n",
       "    .dataframe tbody tr th:only-of-type {\n",
       "        vertical-align: middle;\n",
       "    }\n",
       "\n",
       "    .dataframe tbody tr th {\n",
       "        vertical-align: top;\n",
       "    }\n",
       "\n",
       "    .dataframe thead th {\n",
       "        text-align: right;\n",
       "    }\n",
       "</style>\n",
       "<table border=\"1\" class=\"dataframe\">\n",
       "  <thead>\n",
       "    <tr style=\"text-align: right;\">\n",
       "      <th></th>\n",
       "      <th>(0.0, 21.0]</th>\n",
       "      <th>(21.0, 24.0]</th>\n",
       "      <th>(24.0, 27.0]</th>\n",
       "      <th>(27.0, 30.0]</th>\n",
       "      <th>(30.0, 35.0]</th>\n",
       "      <th>(35.0, 40.0]</th>\n",
       "      <th>(40.0, 45.0]</th>\n",
       "      <th>(45.0, 50.0]</th>\n",
       "      <th>(50.0, 60.0]</th>\n",
       "      <th>(60.0, 9999.0]</th>\n",
       "      <th>-1</th>\n",
       "      <th>All</th>\n",
       "      <th>Fill</th>\n",
       "    </tr>\n",
       "  </thead>\n",
       "  <tbody>\n",
       "    <tr>\n",
       "      <th>Last Purchase</th>\n",
       "      <td>0.023576</td>\n",
       "      <td>0.024759</td>\n",
       "      <td>0.026266</td>\n",
       "      <td>0.025964</td>\n",
       "      <td>0.026015</td>\n",
       "      <td>0.027035</td>\n",
       "      <td>0.027865</td>\n",
       "      <td>0.025753</td>\n",
       "      <td>0.027074</td>\n",
       "      <td>0.032697</td>\n",
       "      <td>0.034352</td>\n",
       "      <td>0.02622</td>\n",
       "      <td>100.0</td>\n",
       "    </tr>\n",
       "  </tbody>\n",
       "</table>\n",
       "</div>"
      ],
      "text/plain": [
       "               (0.0, 21.0]  (21.0, 24.0]  (24.0, 27.0]  (27.0, 30.0]  \\\n",
       "Last Purchase     0.023576      0.024759      0.026266      0.025964   \n",
       "\n",
       "               (30.0, 35.0]  (35.0, 40.0]  (40.0, 45.0]  (45.0, 50.0]  \\\n",
       "Last Purchase      0.026015      0.027035      0.027865      0.025753   \n",
       "\n",
       "               (50.0, 60.0]  (60.0, 9999.0]        -1      All   Fill  \n",
       "Last Purchase      0.027074        0.032697  0.034352  0.02622  100.0  "
      ]
     },
     "metadata": {},
     "output_type": "display_data"
    },
    {
     "data": {
      "text/html": [
       "<div>\n",
       "<style scoped>\n",
       "    .dataframe tbody tr th:only-of-type {\n",
       "        vertical-align: middle;\n",
       "    }\n",
       "\n",
       "    .dataframe tbody tr th {\n",
       "        vertical-align: top;\n",
       "    }\n",
       "\n",
       "    .dataframe thead th {\n",
       "        text-align: right;\n",
       "    }\n",
       "</style>\n",
       "<table border=\"1\" class=\"dataframe\">\n",
       "  <thead>\n",
       "    <tr style=\"text-align: right;\">\n",
       "      <th></th>\n",
       "      <th>(0, 1]</th>\n",
       "      <th>(1, 2]</th>\n",
       "      <th>(10, 20]</th>\n",
       "      <th>(2, 3]</th>\n",
       "      <th>(20, 9999]</th>\n",
       "      <th>(3, 5]</th>\n",
       "      <th>(5, 10]</th>\n",
       "      <th>All</th>\n",
       "      <th>Fill</th>\n",
       "    </tr>\n",
       "  </thead>\n",
       "  <tbody>\n",
       "    <tr>\n",
       "      <th>Last Purchase</th>\n",
       "      <td>0.04326</td>\n",
       "      <td>0.026005</td>\n",
       "      <td>0.012295</td>\n",
       "      <td>0.020226</td>\n",
       "      <td>0.02139</td>\n",
       "      <td>0.014813</td>\n",
       "      <td>0.013002</td>\n",
       "      <td>0.02622</td>\n",
       "      <td>100.0</td>\n",
       "    </tr>\n",
       "  </tbody>\n",
       "</table>\n",
       "</div>"
      ],
      "text/plain": [
       "                (0, 1]    (1, 2]  (10, 20]    (2, 3]  (20, 9999]    (3, 5]  \\\n",
       "Last Purchase  0.04326  0.026005  0.012295  0.020226     0.02139  0.014813   \n",
       "\n",
       "                (5, 10]      All   Fill  \n",
       "Last Purchase  0.013002  0.02622  100.0  "
      ]
     },
     "metadata": {},
     "output_type": "display_data"
    },
    {
     "data": {
      "text/html": [
       "<div>\n",
       "<style scoped>\n",
       "    .dataframe tbody tr th:only-of-type {\n",
       "        vertical-align: middle;\n",
       "    }\n",
       "\n",
       "    .dataframe tbody tr th {\n",
       "        vertical-align: top;\n",
       "    }\n",
       "\n",
       "    .dataframe thead th {\n",
       "        text-align: right;\n",
       "    }\n",
       "</style>\n",
       "<table border=\"1\" class=\"dataframe\">\n",
       "  <thead>\n",
       "    <tr style=\"text-align: right;\">\n",
       "      <th></th>\n",
       "      <th>(0.0, 5.0]</th>\n",
       "      <th>(10.0, 20.0]</th>\n",
       "      <th>(20.0, 35.0]</th>\n",
       "      <th>(35.0, 50.0]</th>\n",
       "      <th>(5.0, 10.0]</th>\n",
       "      <th>(50.0, 100.0]</th>\n",
       "      <th>0</th>\n",
       "      <th>All</th>\n",
       "      <th>Fill</th>\n",
       "    </tr>\n",
       "  </thead>\n",
       "  <tbody>\n",
       "    <tr>\n",
       "      <th>Last Purchase</th>\n",
       "      <td>0.032958</td>\n",
       "      <td>0.028158</td>\n",
       "      <td>0.025835</td>\n",
       "      <td>0.025776</td>\n",
       "      <td>0.028685</td>\n",
       "      <td>0.02761</td>\n",
       "      <td>0.021894</td>\n",
       "      <td>0.02622</td>\n",
       "      <td>100.0</td>\n",
       "    </tr>\n",
       "  </tbody>\n",
       "</table>\n",
       "</div>"
      ],
      "text/plain": [
       "               (0.0, 5.0]  (10.0, 20.0]  (20.0, 35.0]  (35.0, 50.0]  \\\n",
       "Last Purchase    0.032958      0.028158      0.025835      0.025776   \n",
       "\n",
       "               (5.0, 10.0]  (50.0, 100.0]         0      All   Fill  \n",
       "Last Purchase     0.028685        0.02761  0.021894  0.02622  100.0  "
      ]
     },
     "metadata": {},
     "output_type": "display_data"
    },
    {
     "data": {
      "image/png": "[encoded data removed]",
      "text/plain": [
       "<Figure size 1584x432 with 5 Axes>"
      ]
     },
     "metadata": {},
     "output_type": "display_data"
    }
   ],
   "source": [
    "score = validation(real.article_id, prediction, groups, index='Last Purchase', ignore=0)"
   ]
  },
  {
   "cell_type": "raw",
   "id": "86d17e3d",
   "metadata": {
    "_cell_guid": "7602c044-6578-4bc8-b96d-f548f09dcb09",
    "_uuid": "ce515283-4b55-4474-ad5b-1994fbf9fe9b",
    "jupyter": {
     "outputs_hidden": false
    },
    "papermill": {
     "duration": 0.172048,
     "end_time": "2022-04-04T11:20:01.853156",
     "exception": false,
     "start_time": "2022-04-04T11:20:01.681108",
     "status": "completed"
    },
    "tags": []
   },
   "source": [
    "##### del merge_result\n",
    "del sub\n",
    "del real\n",
    "del prediction\n",
    "del groups\n",
    "del cid\n",
    "del sub_id\n",
    "gc.collect()"
   ]
  }
 ],
 "metadata": {
  "kernelspec": {
   "display_name": "Python 3",
   "language": "python",
   "name": "python3"
  },
  "language_info": {
   "codemirror_mode": {
    "name": "ipython",
    "version": 3
   },
   "file_extension": ".py",
   "mimetype": "text/x-python",
   "name": "python",
   "nbconvert_exporter": "python",
   "pygments_lexer": "ipython3",
   "version": "3.7.12"
  },
  "papermill": {
   "default_parameters": {},
   "duration": 248.121547,
   "end_time": "2022-04-04T11:20:03.738847",
   "environment_variables": {},
   "exception": null,
   "input_path": "__notebook__.ipynb",
   "output_path": "__notebook__.ipynb",
   "parameters": {},
   "start_time": "2022-04-04T11:15:55.617300",
   "version": "2.3.3"
  }
 },
 "nbformat": 4,
 "nbformat_minor": 5
}
