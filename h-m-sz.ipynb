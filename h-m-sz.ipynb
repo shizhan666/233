{
 "cells": [
  {
   "cell_type": "code",
   "execution_count": 1,
   "id": "e6c50a92",
   "metadata": {
    "_cell_guid": "b1076dfc-b9ad-4769-8c92-a6c4dae69d19",
    "_uuid": "8f2839f25d086af736a60e9eeb907d3b93b6e0e5",
    "execution": {
     "iopub.execute_input": "2022-03-27T15:24:30.759608Z",
     "iopub.status.busy": "2022-03-27T15:24:30.758801Z",
     "iopub.status.idle": "2022-03-27T15:24:43.727491Z",
     "shell.execute_reply": "2022-03-27T15:24:43.726843Z",
     "shell.execute_reply.started": "2022-03-27T15:17:00.132701Z"
    },
    "papermill": {
     "duration": 13.106089,
     "end_time": "2022-03-27T15:24:43.727650",
     "exception": false,
     "start_time": "2022-03-27T15:24:30.621561",
     "status": "completed"
    },
    "tags": []
   },
   "outputs": [
    {
     "name": "stdout",
     "output_type": "stream",
     "text": [
      "Requirement already satisfied: cudf in /opt/conda/lib/python3.7/site-packages (21.10.1)\r\n",
      "Requirement already satisfied: numba>=0.53.1 in /opt/conda/lib/python3.7/site-packages (from cudf) (0.54.1)\r\n",
      "Requirement already satisfied: Cython<0.30,>=0.29 in /opt/conda/lib/python3.7/site-packages (from cudf) (0.29.28)\r\n",
      "Requirement already satisfied: fastavro>=0.22.9 in /opt/conda/lib/python3.7/site-packages (from cudf) (1.4.9)\r\n",
      "Requirement already satisfied: fsspec>=0.6.0 in /opt/conda/lib/python3.7/site-packages (from cudf) (2022.2.0)\r\n",
      "Requirement already satisfied: numpy in /opt/conda/lib/python3.7/site-packages (from cudf) (1.20.3)\r\n",
      "Requirement already satisfied: pandas<1.4.0dev0,>=1.0 in /opt/conda/lib/python3.7/site-packages (from cudf) (1.3.5)\r\n",
      "Requirement already satisfied: typing_extensions in /opt/conda/lib/python3.7/site-packages (from cudf) (4.1.1)\r\n",
      "Requirement already satisfied: protobuf in /opt/conda/lib/python3.7/site-packages (from cudf) (3.19.1)\r\n",
      "Requirement already satisfied: nvtx>=0.2.1 in /opt/conda/lib/python3.7/site-packages (from cudf) (0.2.3)\r\n",
      "Requirement already satisfied: cachetools in /opt/conda/lib/python3.7/site-packages (from cudf) (4.2.4)\r\n",
      "Requirement already satisfied: packaging in /opt/conda/lib/python3.7/site-packages (from cudf) (21.3)\r\n",
      "Requirement already satisfied: cupy-cuda110 in /opt/conda/lib/python3.7/site-packages (from cudf) (10.2.0)\r\n",
      "Requirement already satisfied: setuptools in /opt/conda/lib/python3.7/site-packages (from numba>=0.53.1->cudf) (59.5.0)\r\n",
      "Requirement already satisfied: llvmlite<0.38,>=0.37.0rc1 in /opt/conda/lib/python3.7/site-packages (from numba>=0.53.1->cudf) (0.37.0)\r\n",
      "Requirement already satisfied: python-dateutil>=2.7.3 in /opt/conda/lib/python3.7/site-packages (from pandas<1.4.0dev0,>=1.0->cudf) (2.8.2)\r\n",
      "Requirement already satisfied: pytz>=2017.3 in /opt/conda/lib/python3.7/site-packages (from pandas<1.4.0dev0,>=1.0->cudf) (2021.3)\r\n",
      "Requirement already satisfied: fastrlock>=0.5 in /opt/conda/lib/python3.7/site-packages (from cupy-cuda110->cudf) (0.8)\r\n",
      "Requirement already satisfied: pyparsing!=3.0.5,>=2.0.2 in /opt/conda/lib/python3.7/site-packages (from packaging->cudf) (3.0.6)\r\n",
      "Requirement already satisfied: six>=1.5 in /opt/conda/lib/python3.7/site-packages (from python-dateutil>=2.7.3->pandas<1.4.0dev0,>=1.0->cudf) (1.16.0)\r\n",
      "\u001b[33mWARNING: Running pip as the 'root' user can result in broken permissions and conflicting behaviour with the system package manager. It is recommended to use a virtual environment instead: https://pip.pypa.io/warnings/venv\u001b[0m\r\n"
     ]
    }
   ],
   "source": [
    "!pip install cudf\n",
    "import numpy as np\n",
    "import pandas as pd \n",
    "from datetime import datetime, timedelta\n",
    "import gc\n",
    "import cudf\n",
    "import cv2, matplotlib.pyplot as plt\n",
    "from os.path import exists"
   ]
  },
  {
   "cell_type": "markdown",
   "id": "4435f818",
   "metadata": {
    "papermill": {
     "duration": 0.123983,
     "end_time": "2022-03-27T15:24:43.992518",
     "exception": false,
     "start_time": "2022-03-27T15:24:43.868535",
     "status": "completed"
    },
    "tags": []
   },
   "source": [
    "### Read the transactions data"
   ]
  },
  {
   "cell_type": "markdown",
   "id": "57a5c799",
   "metadata": {
    "papermill": {
     "duration": 0.123645,
     "end_time": "2022-03-27T15:24:44.240957",
     "exception": false,
     "start_time": "2022-03-27T15:24:44.117312",
     "status": "completed"
    },
    "tags": []
   },
   "source": [
    "Changes: \n",
    "* read_csv using cudf\n",
    "* article_id types from string to int32 \n",
    "* reduce memory on customer_id "
   ]
  },
  {
   "cell_type": "code",
   "execution_count": 2,
   "id": "d2001817",
   "metadata": {
    "execution": {
     "iopub.execute_input": "2022-03-27T15:24:44.553898Z",
     "iopub.status.busy": "2022-03-27T15:24:44.553038Z",
     "iopub.status.idle": "2022-03-27T15:24:44.555981Z",
     "shell.execute_reply": "2022-03-27T15:24:44.557291Z",
     "shell.execute_reply.started": "2022-03-27T15:17:12.210417Z"
    },
    "papermill": {
     "duration": 0.193128,
     "end_time": "2022-03-27T15:24:44.557511",
     "exception": false,
     "start_time": "2022-03-27T15:24:44.364383",
     "status": "completed"
    },
    "tags": []
   },
   "outputs": [],
   "source": [
    "Date_week1 = pd.to_datetime(\"2020-09-16\")\n",
    "Date_week2 = pd.to_datetime(\"2020-09-09\")\n",
    "Date_week3 = pd.to_datetime(\"2020-09-02\")\n",
    "Last_day = pd.to_datetime(\"2020-09-22\")"
   ]
  },
  {
   "cell_type": "code",
   "execution_count": 3,
   "id": "34b39c80",
   "metadata": {
    "execution": {
     "iopub.execute_input": "2022-03-27T15:24:45.005136Z",
     "iopub.status.busy": "2022-03-27T15:24:45.002921Z",
     "iopub.status.idle": "2022-03-27T15:24:45.008205Z",
     "shell.execute_reply": "2022-03-27T15:24:45.007770Z",
     "shell.execute_reply.started": "2022-03-27T15:17:12.220359Z"
    },
    "papermill": {
     "duration": 0.215279,
     "end_time": "2022-03-27T15:24:45.008327",
     "exception": false,
     "start_time": "2022-03-27T15:24:44.793048",
     "status": "completed"
    },
    "tags": []
   },
   "outputs": [],
   "source": [
    "N = 12"
   ]
  },
  {
   "cell_type": "code",
   "execution_count": 4,
   "id": "a3381ec7",
   "metadata": {
    "execution": {
     "iopub.execute_input": "2022-03-27T15:24:45.264542Z",
     "iopub.status.busy": "2022-03-27T15:24:45.263974Z",
     "iopub.status.idle": "2022-03-27T15:25:24.893821Z",
     "shell.execute_reply": "2022-03-27T15:25:24.893327Z",
     "shell.execute_reply.started": "2022-03-27T15:17:12.230085Z"
    },
    "papermill": {
     "duration": 39.75935,
     "end_time": "2022-03-27T15:25:24.893961",
     "exception": false,
     "start_time": "2022-03-27T15:24:45.134611",
     "status": "completed"
    },
    "tags": []
   },
   "outputs": [],
   "source": [
    "df  = cudf.read_csv('../input/h-and-m-personalized-fashion-recommendations/transactions_train.csv')\n",
    "                            #usecols= ['t_dat', 'customer_id', 'article_id'], \n",
    "                            #dtype={'article_id': 'int32', 't_dat': 'string', 'customer_id': 'string', \"sales_channel_id\": 'int32', \"price\": \"float\"})\n",
    "df ['customer_id'] = df ['customer_id'].str[-16:].str.hex_to_int().astype('int64')\n",
    "df.article_id = df.article_id.astype('int32')\n",
    "df['t_dat'] = cudf.to_datetime(df['t_dat'])\n",
    "Last_date = df['t_dat'].max()"
   ]
  },
  {
   "cell_type": "code",
   "execution_count": 5,
   "id": "d784dfbc",
   "metadata": {
    "execution": {
     "iopub.execute_input": "2022-03-27T15:25:25.166347Z",
     "iopub.status.busy": "2022-03-27T15:25:25.165593Z",
     "iopub.status.idle": "2022-03-27T15:25:25.231066Z",
     "shell.execute_reply": "2022-03-27T15:25:25.231480Z",
     "shell.execute_reply.started": "2022-03-27T15:17:50.522788Z"
    },
    "papermill": {
     "duration": 0.211682,
     "end_time": "2022-03-27T15:25:25.231620",
     "exception": false,
     "start_time": "2022-03-27T15:25:25.019938",
     "status": "completed"
    },
    "tags": []
   },
   "outputs": [
    {
     "data": {
      "text/html": [
       "<div>\n",
       "<style scoped>\n",
       "    .dataframe tbody tr th:only-of-type {\n",
       "        vertical-align: middle;\n",
       "    }\n",
       "\n",
       "    .dataframe tbody tr th {\n",
       "        vertical-align: top;\n",
       "    }\n",
       "\n",
       "    .dataframe thead th {\n",
       "        text-align: right;\n",
       "    }\n",
       "</style>\n",
       "<table border=\"1\" class=\"dataframe\">\n",
       "  <thead>\n",
       "    <tr style=\"text-align: right;\">\n",
       "      <th></th>\n",
       "      <th>t_dat</th>\n",
       "      <th>customer_id</th>\n",
       "      <th>article_id</th>\n",
       "      <th>price</th>\n",
       "      <th>sales_channel_id</th>\n",
       "    </tr>\n",
       "  </thead>\n",
       "  <tbody>\n",
       "    <tr>\n",
       "      <th>0</th>\n",
       "      <td>2018-09-20</td>\n",
       "      <td>-6846340800584936</td>\n",
       "      <td>663713001</td>\n",
       "      <td>0.050831</td>\n",
       "      <td>2</td>\n",
       "    </tr>\n",
       "    <tr>\n",
       "      <th>1</th>\n",
       "      <td>2018-09-20</td>\n",
       "      <td>-6846340800584936</td>\n",
       "      <td>541518023</td>\n",
       "      <td>0.030492</td>\n",
       "      <td>2</td>\n",
       "    </tr>\n",
       "    <tr>\n",
       "      <th>2</th>\n",
       "      <td>2018-09-20</td>\n",
       "      <td>-8334631767138808638</td>\n",
       "      <td>505221004</td>\n",
       "      <td>0.015237</td>\n",
       "      <td>2</td>\n",
       "    </tr>\n",
       "    <tr>\n",
       "      <th>3</th>\n",
       "      <td>2018-09-20</td>\n",
       "      <td>-8334631767138808638</td>\n",
       "      <td>685687003</td>\n",
       "      <td>0.016932</td>\n",
       "      <td>2</td>\n",
       "    </tr>\n",
       "    <tr>\n",
       "      <th>4</th>\n",
       "      <td>2018-09-20</td>\n",
       "      <td>-8334631767138808638</td>\n",
       "      <td>685687004</td>\n",
       "      <td>0.016932</td>\n",
       "      <td>2</td>\n",
       "    </tr>\n",
       "    <tr>\n",
       "      <th>...</th>\n",
       "      <td>...</td>\n",
       "      <td>...</td>\n",
       "      <td>...</td>\n",
       "      <td>...</td>\n",
       "      <td>...</td>\n",
       "    </tr>\n",
       "    <tr>\n",
       "      <th>31788319</th>\n",
       "      <td>2020-09-22</td>\n",
       "      <td>4685485978980270934</td>\n",
       "      <td>929511001</td>\n",
       "      <td>0.059305</td>\n",
       "      <td>2</td>\n",
       "    </tr>\n",
       "    <tr>\n",
       "      <th>31788320</th>\n",
       "      <td>2020-09-22</td>\n",
       "      <td>4685485978980270934</td>\n",
       "      <td>891322004</td>\n",
       "      <td>0.042356</td>\n",
       "      <td>2</td>\n",
       "    </tr>\n",
       "    <tr>\n",
       "      <th>31788321</th>\n",
       "      <td>2020-09-22</td>\n",
       "      <td>3959348689921271969</td>\n",
       "      <td>918325001</td>\n",
       "      <td>0.043203</td>\n",
       "      <td>1</td>\n",
       "    </tr>\n",
       "    <tr>\n",
       "      <th>31788322</th>\n",
       "      <td>2020-09-22</td>\n",
       "      <td>-8639340045377511665</td>\n",
       "      <td>833459002</td>\n",
       "      <td>0.006763</td>\n",
       "      <td>1</td>\n",
       "    </tr>\n",
       "    <tr>\n",
       "      <th>31788323</th>\n",
       "      <td>2020-09-22</td>\n",
       "      <td>3235222691137941515</td>\n",
       "      <td>898573003</td>\n",
       "      <td>0.033881</td>\n",
       "      <td>2</td>\n",
       "    </tr>\n",
       "  </tbody>\n",
       "</table>\n",
       "<p>31788324 rows × 5 columns</p>\n",
       "</div>"
      ],
      "text/plain": [
       "              t_dat          customer_id  article_id     price  \\\n",
       "0        2018-09-20    -6846340800584936   663713001  0.050831   \n",
       "1        2018-09-20    -6846340800584936   541518023  0.030492   \n",
       "2        2018-09-20 -8334631767138808638   505221004  0.015237   \n",
       "3        2018-09-20 -8334631767138808638   685687003  0.016932   \n",
       "4        2018-09-20 -8334631767138808638   685687004  0.016932   \n",
       "...             ...                  ...         ...       ...   \n",
       "31788319 2020-09-22  4685485978980270934   929511001  0.059305   \n",
       "31788320 2020-09-22  4685485978980270934   891322004  0.042356   \n",
       "31788321 2020-09-22  3959348689921271969   918325001  0.043203   \n",
       "31788322 2020-09-22 -8639340045377511665   833459002  0.006763   \n",
       "31788323 2020-09-22  3235222691137941515   898573003  0.033881   \n",
       "\n",
       "          sales_channel_id  \n",
       "0                        2  \n",
       "1                        2  \n",
       "2                        2  \n",
       "3                        2  \n",
       "4                        2  \n",
       "...                    ...  \n",
       "31788319                 2  \n",
       "31788320                 2  \n",
       "31788321                 1  \n",
       "31788322                 1  \n",
       "31788323                 2  \n",
       "\n",
       "[31788324 rows x 5 columns]"
      ]
     },
     "execution_count": 5,
     "metadata": {},
     "output_type": "execute_result"
    }
   ],
   "source": [
    "df"
   ]
  },
  {
   "cell_type": "markdown",
   "id": "db32fbae",
   "metadata": {
    "papermill": {
     "duration": 0.125424,
     "end_time": "2022-03-27T15:25:25.483332",
     "exception": false,
     "start_time": "2022-03-27T15:25:25.357908",
     "status": "completed"
    },
    "tags": []
   },
   "source": [
    "## 划分训练集和验证集"
   ]
  },
  {
   "cell_type": "code",
   "execution_count": 6,
   "id": "e56b9739",
   "metadata": {
    "execution": {
     "iopub.execute_input": "2022-03-27T15:25:25.740871Z",
     "iopub.status.busy": "2022-03-27T15:25:25.740073Z",
     "iopub.status.idle": "2022-03-27T15:25:25.792826Z",
     "shell.execute_reply": "2022-03-27T15:25:25.792422Z",
     "shell.execute_reply.started": "2022-03-27T15:17:50.603471Z"
    },
    "papermill": {
     "duration": 0.183093,
     "end_time": "2022-03-27T15:25:25.792950",
     "exception": false,
     "start_time": "2022-03-27T15:25:25.609857",
     "status": "completed"
    },
    "tags": []
   },
   "outputs": [],
   "source": [
    "val = df[df['t_dat']>= Date_week1].copy()\n",
    "train = df[df['t_dat']< Date_week1].copy()\n",
    "Last_date = pd.to_datetime(\"2020-09-15\")"
   ]
  },
  {
   "cell_type": "code",
   "execution_count": 7,
   "id": "cb2a6536",
   "metadata": {
    "execution": {
     "iopub.execute_input": "2022-03-27T15:25:26.058616Z",
     "iopub.status.busy": "2022-03-27T15:25:26.057874Z",
     "iopub.status.idle": "2022-03-27T15:25:26.107217Z",
     "shell.execute_reply": "2022-03-27T15:25:26.107611Z",
     "shell.execute_reply.started": "2022-03-27T15:17:50.663491Z"
    },
    "papermill": {
     "duration": 0.188212,
     "end_time": "2022-03-27T15:25:26.107744",
     "exception": false,
     "start_time": "2022-03-27T15:25:25.919532",
     "status": "completed"
    },
    "tags": []
   },
   "outputs": [
    {
     "data": {
      "text/html": [
       "<div>\n",
       "<style scoped>\n",
       "    .dataframe tbody tr th:only-of-type {\n",
       "        vertical-align: middle;\n",
       "    }\n",
       "\n",
       "    .dataframe tbody tr th {\n",
       "        vertical-align: top;\n",
       "    }\n",
       "\n",
       "    .dataframe thead th {\n",
       "        text-align: right;\n",
       "    }\n",
       "</style>\n",
       "<table border=\"1\" class=\"dataframe\">\n",
       "  <thead>\n",
       "    <tr style=\"text-align: right;\">\n",
       "      <th></th>\n",
       "      <th>t_dat</th>\n",
       "      <th>customer_id</th>\n",
       "      <th>article_id</th>\n",
       "      <th>price</th>\n",
       "      <th>sales_channel_id</th>\n",
       "    </tr>\n",
       "  </thead>\n",
       "  <tbody>\n",
       "    <tr>\n",
       "      <th>31548013</th>\n",
       "      <td>2020-09-16</td>\n",
       "      <td>8055340703569116761</td>\n",
       "      <td>786022008</td>\n",
       "      <td>0.048441</td>\n",
       "      <td>2</td>\n",
       "    </tr>\n",
       "    <tr>\n",
       "      <th>31548014</th>\n",
       "      <td>2020-09-16</td>\n",
       "      <td>8055340703569116761</td>\n",
       "      <td>913272003</td>\n",
       "      <td>0.032288</td>\n",
       "      <td>2</td>\n",
       "    </tr>\n",
       "    <tr>\n",
       "      <th>31548015</th>\n",
       "      <td>2020-09-16</td>\n",
       "      <td>8055340703569116761</td>\n",
       "      <td>889669006</td>\n",
       "      <td>0.056508</td>\n",
       "      <td>2</td>\n",
       "    </tr>\n",
       "    <tr>\n",
       "      <th>31548016</th>\n",
       "      <td>2020-09-16</td>\n",
       "      <td>2563761487478961358</td>\n",
       "      <td>237347060</td>\n",
       "      <td>0.033881</td>\n",
       "      <td>1</td>\n",
       "    </tr>\n",
       "    <tr>\n",
       "      <th>31548017</th>\n",
       "      <td>2020-09-16</td>\n",
       "      <td>2563761487478961358</td>\n",
       "      <td>562245001</td>\n",
       "      <td>0.013542</td>\n",
       "      <td>1</td>\n",
       "    </tr>\n",
       "    <tr>\n",
       "      <th>...</th>\n",
       "      <td>...</td>\n",
       "      <td>...</td>\n",
       "      <td>...</td>\n",
       "      <td>...</td>\n",
       "      <td>...</td>\n",
       "    </tr>\n",
       "    <tr>\n",
       "      <th>31788319</th>\n",
       "      <td>2020-09-22</td>\n",
       "      <td>4685485978980270934</td>\n",
       "      <td>929511001</td>\n",
       "      <td>0.059305</td>\n",
       "      <td>2</td>\n",
       "    </tr>\n",
       "    <tr>\n",
       "      <th>31788320</th>\n",
       "      <td>2020-09-22</td>\n",
       "      <td>4685485978980270934</td>\n",
       "      <td>891322004</td>\n",
       "      <td>0.042356</td>\n",
       "      <td>2</td>\n",
       "    </tr>\n",
       "    <tr>\n",
       "      <th>31788321</th>\n",
       "      <td>2020-09-22</td>\n",
       "      <td>3959348689921271969</td>\n",
       "      <td>918325001</td>\n",
       "      <td>0.043203</td>\n",
       "      <td>1</td>\n",
       "    </tr>\n",
       "    <tr>\n",
       "      <th>31788322</th>\n",
       "      <td>2020-09-22</td>\n",
       "      <td>-8639340045377511665</td>\n",
       "      <td>833459002</td>\n",
       "      <td>0.006763</td>\n",
       "      <td>1</td>\n",
       "    </tr>\n",
       "    <tr>\n",
       "      <th>31788323</th>\n",
       "      <td>2020-09-22</td>\n",
       "      <td>3235222691137941515</td>\n",
       "      <td>898573003</td>\n",
       "      <td>0.033881</td>\n",
       "      <td>2</td>\n",
       "    </tr>\n",
       "  </tbody>\n",
       "</table>\n",
       "<p>240311 rows × 5 columns</p>\n",
       "</div>"
      ],
      "text/plain": [
       "              t_dat          customer_id  article_id     price  \\\n",
       "31548013 2020-09-16  8055340703569116761   786022008  0.048441   \n",
       "31548014 2020-09-16  8055340703569116761   913272003  0.032288   \n",
       "31548015 2020-09-16  8055340703569116761   889669006  0.056508   \n",
       "31548016 2020-09-16  2563761487478961358   237347060  0.033881   \n",
       "31548017 2020-09-16  2563761487478961358   562245001  0.013542   \n",
       "...             ...                  ...         ...       ...   \n",
       "31788319 2020-09-22  4685485978980270934   929511001  0.059305   \n",
       "31788320 2020-09-22  4685485978980270934   891322004  0.042356   \n",
       "31788321 2020-09-22  3959348689921271969   918325001  0.043203   \n",
       "31788322 2020-09-22 -8639340045377511665   833459002  0.006763   \n",
       "31788323 2020-09-22  3235222691137941515   898573003  0.033881   \n",
       "\n",
       "          sales_channel_id  \n",
       "31548013                 2  \n",
       "31548014                 2  \n",
       "31548015                 2  \n",
       "31548016                 1  \n",
       "31548017                 1  \n",
       "...                    ...  \n",
       "31788319                 2  \n",
       "31788320                 2  \n",
       "31788321                 1  \n",
       "31788322                 1  \n",
       "31788323                 2  \n",
       "\n",
       "[240311 rows x 5 columns]"
      ]
     },
     "execution_count": 7,
     "metadata": {},
     "output_type": "execute_result"
    }
   ],
   "source": [
    "val"
   ]
  },
  {
   "cell_type": "markdown",
   "id": "5c92aebb",
   "metadata": {
    "papermill": {
     "duration": 0.127067,
     "end_time": "2022-03-27T15:25:26.362518",
     "exception": false,
     "start_time": "2022-03-27T15:25:26.235451",
     "status": "completed"
    },
    "tags": []
   },
   "source": [
    "### Add the last day of billing week"
   ]
  },
  {
   "cell_type": "markdown",
   "id": "e53e86b4",
   "metadata": {
    "papermill": {
     "duration": 0.126676,
     "end_time": "2022-03-27T15:25:26.615326",
     "exception": false,
     "start_time": "2022-03-27T15:25:26.488650",
     "status": "completed"
    },
    "tags": []
   },
   "source": [
    "## 第一路：复购预测"
   ]
  },
  {
   "cell_type": "code",
   "execution_count": 8,
   "id": "bd624b06",
   "metadata": {
    "execution": {
     "iopub.execute_input": "2022-03-27T15:25:26.872885Z",
     "iopub.status.busy": "2022-03-27T15:25:26.872121Z",
     "iopub.status.idle": "2022-03-27T15:25:26.878820Z",
     "shell.execute_reply": "2022-03-27T15:25:26.878421Z",
     "shell.execute_reply.started": "2022-03-27T15:17:50.729435Z"
    },
    "papermill": {
     "duration": 0.137569,
     "end_time": "2022-03-27T15:25:26.878947",
     "exception": false,
     "start_time": "2022-03-27T15:25:26.741378",
     "status": "completed"
    },
    "tags": []
   },
   "outputs": [],
   "source": [
    "df = train.copy()"
   ]
  },
  {
   "cell_type": "code",
   "execution_count": 9,
   "id": "6156602c",
   "metadata": {
    "execution": {
     "iopub.execute_input": "2022-03-27T15:25:27.139302Z",
     "iopub.status.busy": "2022-03-27T15:25:27.138529Z",
     "iopub.status.idle": "2022-03-27T15:25:35.087154Z",
     "shell.execute_reply": "2022-03-27T15:25:35.087744Z",
     "shell.execute_reply.started": "2022-03-27T15:17:50.739147Z"
    },
    "papermill": {
     "duration": 8.082603,
     "end_time": "2022-03-27T15:25:35.087937",
     "exception": false,
     "start_time": "2022-03-27T15:25:27.005334",
     "status": "completed"
    },
    "tags": []
   },
   "outputs": [
    {
     "name": "stdout",
     "output_type": "stream",
     "text": [
      "CPU times: user 6.48 s, sys: 1.59 s, total: 8.07 s\n",
      "Wall time: 7.95 s\n"
     ]
    }
   ],
   "source": [
    "%%time\n",
    "tmp = df[['t_dat']].copy().to_pandas()\n",
    "tmp['dow'] = tmp['t_dat'].dt.dayofweek\n",
    "tmp['ldbw'] = tmp['t_dat'] - pd.TimedeltaIndex(tmp['dow'] - 1, unit='D')\n",
    "tmp.loc[tmp['dow'] >=2 , 'ldbw'] = tmp.loc[tmp['dow'] >=2 , 'ldbw'] + pd.TimedeltaIndex(np.ones(len(tmp.loc[tmp['dow'] >=2])) * 7, unit='D')\n",
    "df['ldbw'] = tmp['ldbw'].values"
   ]
  },
  {
   "cell_type": "code",
   "execution_count": 10,
   "id": "fc071340",
   "metadata": {
    "execution": {
     "iopub.execute_input": "2022-03-27T15:25:35.345602Z",
     "iopub.status.busy": "2022-03-27T15:25:35.345061Z",
     "iopub.status.idle": "2022-03-27T15:25:35.480784Z",
     "shell.execute_reply": "2022-03-27T15:25:35.480298Z",
     "shell.execute_reply.started": "2022-03-27T15:17:59.080126Z"
    },
    "papermill": {
     "duration": 0.264967,
     "end_time": "2022-03-27T15:25:35.480913",
     "exception": false,
     "start_time": "2022-03-27T15:25:35.215946",
     "status": "completed"
    },
    "tags": []
   },
   "outputs": [],
   "source": [
    "weekly_sales = df.drop('customer_id', axis=1).groupby(['ldbw', 'article_id']).count().reset_index()\n",
    "weekly_sales = weekly_sales.rename(columns={'t_dat': 'count'})"
   ]
  },
  {
   "cell_type": "code",
   "execution_count": 11,
   "id": "3aedcfc6",
   "metadata": {
    "execution": {
     "iopub.execute_input": "2022-03-27T15:25:35.793722Z",
     "iopub.status.busy": "2022-03-27T15:25:35.793043Z",
     "iopub.status.idle": "2022-03-27T15:25:35.876134Z",
     "shell.execute_reply": "2022-03-27T15:25:35.875326Z",
     "shell.execute_reply.started": "2022-03-27T15:17:59.220118Z"
    },
    "papermill": {
     "duration": 0.266504,
     "end_time": "2022-03-27T15:25:35.876278",
     "exception": false,
     "start_time": "2022-03-27T15:25:35.609774",
     "status": "completed"
    },
    "tags": []
   },
   "outputs": [],
   "source": [
    "df = df.merge(weekly_sales, on=['ldbw', 'article_id'], how = 'left')"
   ]
  },
  {
   "cell_type": "markdown",
   "id": "703ae439",
   "metadata": {
    "papermill": {
     "duration": 0.134338,
     "end_time": "2022-03-27T15:25:36.145252",
     "exception": false,
     "start_time": "2022-03-27T15:25:36.010914",
     "status": "completed"
    },
    "tags": []
   },
   "source": [
    "### Let's assume that in the target week sales will be similar to the last week of the training data"
   ]
  },
  {
   "cell_type": "code",
   "execution_count": 12,
   "id": "e1f4952d",
   "metadata": {
    "execution": {
     "iopub.execute_input": "2022-03-27T15:25:36.400846Z",
     "iopub.status.busy": "2022-03-27T15:25:36.400097Z",
     "iopub.status.idle": "2022-03-27T15:25:36.493333Z",
     "shell.execute_reply": "2022-03-27T15:25:36.492824Z",
     "shell.execute_reply.started": "2022-03-27T15:17:59.358306Z"
    },
    "papermill": {
     "duration": 0.222402,
     "end_time": "2022-03-27T15:25:36.493456",
     "exception": false,
     "start_time": "2022-03-27T15:25:36.271054",
     "status": "completed"
    },
    "tags": []
   },
   "outputs": [],
   "source": [
    "weekly_sales = weekly_sales.reset_index().set_index('article_id')\n",
    "\n",
    "df = df.merge(\n",
    "    weekly_sales.loc[weekly_sales['ldbw']==Last_date, ['count']],\n",
    "    on='article_id', suffixes=(\"\", \"_targ\"))\n",
    "\n",
    "df['count_targ'].fillna(0, inplace=True)\n"
   ]
  },
  {
   "cell_type": "markdown",
   "id": "2fe88d7f",
   "metadata": {
    "papermill": {
     "duration": 0.125499,
     "end_time": "2022-03-27T15:25:36.745704",
     "exception": false,
     "start_time": "2022-03-27T15:25:36.620205",
     "status": "completed"
    },
    "tags": []
   },
   "source": [
    "### Calculate sales rate adjusted for changes in product popularity "
   ]
  },
  {
   "cell_type": "code",
   "execution_count": 13,
   "id": "5f2746b8",
   "metadata": {
    "execution": {
     "iopub.execute_input": "2022-03-27T15:25:37.001344Z",
     "iopub.status.busy": "2022-03-27T15:25:36.999403Z",
     "iopub.status.idle": "2022-03-27T15:25:37.006626Z",
     "shell.execute_reply": "2022-03-27T15:25:37.006196Z",
     "shell.execute_reply.started": "2022-03-27T15:17:59.484466Z"
    },
    "papermill": {
     "duration": 0.135265,
     "end_time": "2022-03-27T15:25:37.006732",
     "exception": false,
     "start_time": "2022-03-27T15:25:36.871467",
     "status": "completed"
    },
    "tags": []
   },
   "outputs": [],
   "source": [
    "df['quotient'] = df['count_targ'] / df['count']"
   ]
  },
  {
   "cell_type": "markdown",
   "id": "e07262b2",
   "metadata": {
    "papermill": {
     "duration": 0.126377,
     "end_time": "2022-03-27T15:25:37.259140",
     "exception": false,
     "start_time": "2022-03-27T15:25:37.132763",
     "status": "completed"
    },
    "tags": []
   },
   "source": [
    "### Take supposedly popular products"
   ]
  },
  {
   "cell_type": "code",
   "execution_count": 14,
   "id": "2ec38bbe",
   "metadata": {
    "execution": {
     "iopub.execute_input": "2022-03-27T15:25:37.514166Z",
     "iopub.status.busy": "2022-03-27T15:25:37.513309Z",
     "iopub.status.idle": "2022-03-27T15:25:37.515727Z",
     "shell.execute_reply": "2022-03-27T15:25:37.515330Z",
     "shell.execute_reply.started": "2022-03-27T15:17:59.497582Z"
    },
    "papermill": {
     "duration": 0.131169,
     "end_time": "2022-03-27T15:25:37.515837",
     "exception": false,
     "start_time": "2022-03-27T15:25:37.384668",
     "status": "completed"
    },
    "tags": []
   },
   "outputs": [],
   "source": [
    "# target_sales = df.drop('customer_id', axis=1).groupby('article_id')['quotient'].sum()\n",
    "# general_pred = target_sales.nlargest(N).index.to_pandas().tolist()\n",
    "# general_pred = ['0' + str(article_id) for article_id in general_pred]\n",
    "# general_pred_str =  ' '.join(general_pred)\n",
    "# del target_sales"
   ]
  },
  {
   "cell_type": "code",
   "execution_count": 15,
   "id": "7bbd5a9f",
   "metadata": {
    "execution": {
     "iopub.execute_input": "2022-03-27T15:25:37.774572Z",
     "iopub.status.busy": "2022-03-27T15:25:37.773794Z",
     "iopub.status.idle": "2022-03-27T15:25:37.775853Z",
     "shell.execute_reply": "2022-03-27T15:25:37.776285Z",
     "shell.execute_reply.started": "2022-03-27T15:17:59.502631Z"
    },
    "papermill": {
     "duration": 0.135096,
     "end_time": "2022-03-27T15:25:37.776425",
     "exception": false,
     "start_time": "2022-03-27T15:25:37.641329",
     "status": "completed"
    },
    "tags": []
   },
   "outputs": [],
   "source": [
    "# general_pred # Exactly same with the original notebook! "
   ]
  },
  {
   "cell_type": "code",
   "execution_count": 16,
   "id": "6da80ee8",
   "metadata": {
    "execution": {
     "iopub.execute_input": "2022-03-27T15:25:38.042719Z",
     "iopub.status.busy": "2022-03-27T15:25:38.041944Z",
     "iopub.status.idle": "2022-03-27T15:25:38.044436Z",
     "shell.execute_reply": "2022-03-27T15:25:38.043865Z",
     "shell.execute_reply.started": "2022-03-27T15:17:59.515358Z"
    },
    "papermill": {
     "duration": 0.136906,
     "end_time": "2022-03-27T15:25:38.044552",
     "exception": false,
     "start_time": "2022-03-27T15:25:37.907646",
     "status": "completed"
    },
    "tags": []
   },
   "outputs": [],
   "source": [
    "# general_pred_str"
   ]
  },
  {
   "cell_type": "markdown",
   "id": "aacbdf23",
   "metadata": {
    "papermill": {
     "duration": 0.139378,
     "end_time": "2022-03-27T15:25:38.310934",
     "exception": false,
     "start_time": "2022-03-27T15:25:38.171556",
     "status": "completed"
    },
    "tags": []
   },
   "source": [
    "### Fill in purchase dictionary"
   ]
  },
  {
   "cell_type": "code",
   "execution_count": 17,
   "id": "9c4d0b32",
   "metadata": {
    "execution": {
     "iopub.execute_input": "2022-03-27T15:25:38.582856Z",
     "iopub.status.busy": "2022-03-27T15:25:38.581981Z",
     "iopub.status.idle": "2022-03-27T15:25:57.835184Z",
     "shell.execute_reply": "2022-03-27T15:25:57.835638Z",
     "shell.execute_reply.started": "2022-03-27T15:17:59.525264Z"
    },
    "papermill": {
     "duration": 19.388855,
     "end_time": "2022-03-27T15:25:57.835817",
     "exception": false,
     "start_time": "2022-03-27T15:25:38.446962",
     "status": "completed"
    },
    "tags": []
   },
   "outputs": [
    {
     "name": "stdout",
     "output_type": "stream",
     "text": [
      "CPU times: user 15.6 s, sys: 5.26 s, total: 20.8 s\n",
      "Wall time: 19.2 s\n"
     ]
    }
   ],
   "source": [
    "%%time\n",
    "purchase_dict = {}\n",
    "\n",
    "tmp = df.copy().to_pandas()\n",
    "tmp['x'] = ((Last_date - tmp['t_dat']) / np.timedelta64(1, 'D')).astype(int)\n",
    "tmp['dummy_1'] = 1 \n",
    "tmp['x'] = tmp[[\"x\", \"dummy_1\"]].max(axis=1)\n",
    "\n",
    "a, b, c, d = 2.5e4, 1.5e5, 2e-1, 1e3\n",
    "total = 1715530\n",
    "tmp['y'] = ((a / np.sqrt(tmp['x']) + b * np.exp(-c*tmp['x']) - d) / total +\\\n",
    "(a / np.sqrt(tmp['x']+1) + b * np.exp(-c*(tmp['x']+1)) - d) / total +\\\n",
    "(a / np.sqrt(tmp['x']+2) + b * np.exp(-c*(tmp['x']+2)) - d) / total +\\\n",
    "(a / np.sqrt(tmp['x']+3) + b * np.exp(-c*(tmp['x']+3)) - d) / total +\\\n",
    "(a / np.sqrt(tmp['x']+4) + b * np.exp(-c*(tmp['x']+4)) - d) / total +\\\n",
    "(a / np.sqrt(tmp['x']+5) + b * np.exp(-c*(tmp['x']+5)) - d) / total +\\\n",
    "(a / np.sqrt(tmp['x']+6) + b * np.exp(-c*(tmp['x']+6)) - d) / total)\n",
    "\n",
    "tmp['dummy_0'] = 0 \n",
    "tmp['y'] = tmp[[\"y\", \"dummy_0\"]].max(axis=1)\n",
    "tmp['score'] = tmp['quotient'] * tmp['y'] \n",
    "\n",
    "tmp = tmp.groupby(['customer_id', 'article_id']).agg({'score': 'sum'})\n",
    "tmp = tmp.reset_index()\n",
    "\n",
    "tmp = tmp.loc[tmp['score'] > 0]\n",
    "tmp['rank'] = tmp.groupby(\"customer_id\")[\"score\"].rank(\"dense\", ascending=False)\n",
    "tmp = tmp.loc[tmp['rank'] <= 12]\n",
    "tmp[\"source\"] = 1\n",
    "\n",
    "result1 = tmp[[\"customer_id\", \"article_id\", \"source\", \"score\", \"rank\"]]"
   ]
  },
  {
   "cell_type": "code",
   "execution_count": 18,
   "id": "77388b32",
   "metadata": {
    "execution": {
     "iopub.execute_input": "2022-03-27T15:25:58.290640Z",
     "iopub.status.busy": "2022-03-27T15:25:58.289864Z",
     "iopub.status.idle": "2022-03-27T15:25:58.292830Z",
     "shell.execute_reply": "2022-03-27T15:25:58.293290Z",
     "shell.execute_reply.started": "2022-03-27T15:18:18.108122Z"
    },
    "papermill": {
     "duration": 0.317244,
     "end_time": "2022-03-27T15:25:58.293444",
     "exception": false,
     "start_time": "2022-03-27T15:25:57.976200",
     "status": "completed"
    },
    "tags": []
   },
   "outputs": [
    {
     "data": {
      "text/plain": [
       "208"
      ]
     },
     "execution_count": 18,
     "metadata": {},
     "output_type": "execute_result"
    }
   ],
   "source": [
    "del weekly_sales\n",
    "del df\n",
    "del tmp\n",
    "gc.collect()"
   ]
  },
  {
   "cell_type": "code",
   "execution_count": 19,
   "id": "6b9f109d",
   "metadata": {
    "execution": {
     "iopub.execute_input": "2022-03-27T15:25:58.563798Z",
     "iopub.status.busy": "2022-03-27T15:25:58.563308Z",
     "iopub.status.idle": "2022-03-27T15:25:58.567711Z",
     "shell.execute_reply": "2022-03-27T15:25:58.568115Z",
     "shell.execute_reply.started": "2022-03-27T15:18:18.274580Z"
    },
    "papermill": {
     "duration": 0.142068,
     "end_time": "2022-03-27T15:25:58.568258",
     "exception": false,
     "start_time": "2022-03-27T15:25:58.426190",
     "status": "completed"
    },
    "tags": []
   },
   "outputs": [
    {
     "data": {
      "text/html": [
       "<div>\n",
       "<style scoped>\n",
       "    .dataframe tbody tr th:only-of-type {\n",
       "        vertical-align: middle;\n",
       "    }\n",
       "\n",
       "    .dataframe tbody tr th {\n",
       "        vertical-align: top;\n",
       "    }\n",
       "\n",
       "    .dataframe thead th {\n",
       "        text-align: right;\n",
       "    }\n",
       "</style>\n",
       "<table border=\"1\" class=\"dataframe\">\n",
       "  <thead>\n",
       "    <tr style=\"text-align: right;\">\n",
       "      <th></th>\n",
       "      <th>customer_id</th>\n",
       "      <th>article_id</th>\n",
       "      <th>source</th>\n",
       "      <th>score</th>\n",
       "      <th>rank</th>\n",
       "    </tr>\n",
       "  </thead>\n",
       "  <tbody>\n",
       "    <tr>\n",
       "      <th>0</th>\n",
       "      <td>-9223352921020755230</td>\n",
       "      <td>568597006</td>\n",
       "      <td>1</td>\n",
       "      <td>0.000559</td>\n",
       "      <td>5.0</td>\n",
       "    </tr>\n",
       "    <tr>\n",
       "      <th>1</th>\n",
       "      <td>-9223352921020755230</td>\n",
       "      <td>673396002</td>\n",
       "      <td>1</td>\n",
       "      <td>0.044511</td>\n",
       "      <td>1.0</td>\n",
       "    </tr>\n",
       "    <tr>\n",
       "      <th>2</th>\n",
       "      <td>-9223352921020755230</td>\n",
       "      <td>706016001</td>\n",
       "      <td>1</td>\n",
       "      <td>0.003289</td>\n",
       "      <td>4.0</td>\n",
       "    </tr>\n",
       "    <tr>\n",
       "      <th>3</th>\n",
       "      <td>-9223352921020755230</td>\n",
       "      <td>812167004</td>\n",
       "      <td>1</td>\n",
       "      <td>0.019179</td>\n",
       "      <td>2.0</td>\n",
       "    </tr>\n",
       "    <tr>\n",
       "      <th>4</th>\n",
       "      <td>-9223352921020755230</td>\n",
       "      <td>849493006</td>\n",
       "      <td>1</td>\n",
       "      <td>0.006174</td>\n",
       "      <td>3.0</td>\n",
       "    </tr>\n",
       "    <tr>\n",
       "      <th>...</th>\n",
       "      <td>...</td>\n",
       "      <td>...</td>\n",
       "      <td>...</td>\n",
       "      <td>...</td>\n",
       "      <td>...</td>\n",
       "    </tr>\n",
       "    <tr>\n",
       "      <th>10844244</th>\n",
       "      <td>9223301031927667525</td>\n",
       "      <td>719957006</td>\n",
       "      <td>1</td>\n",
       "      <td>0.000026</td>\n",
       "      <td>1.0</td>\n",
       "    </tr>\n",
       "    <tr>\n",
       "      <th>10844245</th>\n",
       "      <td>9223333063893176977</td>\n",
       "      <td>658030020</td>\n",
       "      <td>1</td>\n",
       "      <td>0.000038</td>\n",
       "      <td>1.0</td>\n",
       "    </tr>\n",
       "    <tr>\n",
       "      <th>10844246</th>\n",
       "      <td>9223357421094039679</td>\n",
       "      <td>747984001</td>\n",
       "      <td>1</td>\n",
       "      <td>0.000010</td>\n",
       "      <td>2.0</td>\n",
       "    </tr>\n",
       "    <tr>\n",
       "      <th>10844247</th>\n",
       "      <td>9223357421094039679</td>\n",
       "      <td>747984002</td>\n",
       "      <td>1</td>\n",
       "      <td>0.000053</td>\n",
       "      <td>1.0</td>\n",
       "    </tr>\n",
       "    <tr>\n",
       "      <th>10844248</th>\n",
       "      <td>9223370729206611574</td>\n",
       "      <td>781758003</td>\n",
       "      <td>1</td>\n",
       "      <td>0.001461</td>\n",
       "      <td>1.0</td>\n",
       "    </tr>\n",
       "  </tbody>\n",
       "</table>\n",
       "<p>6693016 rows × 5 columns</p>\n",
       "</div>"
      ],
      "text/plain": [
       "                  customer_id  article_id  source     score  rank\n",
       "0        -9223352921020755230   568597006       1  0.000559   5.0\n",
       "1        -9223352921020755230   673396002       1  0.044511   1.0\n",
       "2        -9223352921020755230   706016001       1  0.003289   4.0\n",
       "3        -9223352921020755230   812167004       1  0.019179   2.0\n",
       "4        -9223352921020755230   849493006       1  0.006174   3.0\n",
       "...                       ...         ...     ...       ...   ...\n",
       "10844244  9223301031927667525   719957006       1  0.000026   1.0\n",
       "10844245  9223333063893176977   658030020       1  0.000038   1.0\n",
       "10844246  9223357421094039679   747984001       1  0.000010   2.0\n",
       "10844247  9223357421094039679   747984002       1  0.000053   1.0\n",
       "10844248  9223370729206611574   781758003       1  0.001461   1.0\n",
       "\n",
       "[6693016 rows x 5 columns]"
      ]
     },
     "execution_count": 19,
     "metadata": {},
     "output_type": "execute_result"
    }
   ],
   "source": [
    "result1"
   ]
  },
  {
   "cell_type": "code",
   "execution_count": 20,
   "id": "38109225",
   "metadata": {
    "execution": {
     "iopub.execute_input": "2022-03-27T15:25:58.826676Z",
     "iopub.status.busy": "2022-03-27T15:25:58.825096Z",
     "iopub.status.idle": "2022-03-27T15:25:58.827281Z",
     "shell.execute_reply": "2022-03-27T15:25:58.827673Z",
     "shell.execute_reply.started": "2022-03-27T15:18:18.293735Z"
    },
    "papermill": {
     "duration": 0.132631,
     "end_time": "2022-03-27T15:25:58.827801",
     "exception": false,
     "start_time": "2022-03-27T15:25:58.695170",
     "status": "completed"
    },
    "tags": []
   },
   "outputs": [],
   "source": [
    "#result1.to_csv(\"/kaggle/working/result1.csv\", index = False)"
   ]
  },
  {
   "cell_type": "markdown",
   "id": "d51185b1",
   "metadata": {
    "execution": {
     "iopub.execute_input": "2022-03-19T09:13:27.534287Z",
     "iopub.status.busy": "2022-03-19T09:13:27.534029Z",
     "iopub.status.idle": "2022-03-19T09:13:27.537763Z",
     "shell.execute_reply": "2022-03-19T09:13:27.536825Z",
     "shell.execute_reply.started": "2022-03-19T09:13:27.534257Z"
    },
    "papermill": {
     "duration": 0.126923,
     "end_time": "2022-03-27T15:25:59.081853",
     "exception": false,
     "start_time": "2022-03-27T15:25:58.954930",
     "status": "completed"
    },
    "tags": []
   },
   "source": [
    "## 第二路：相似复购"
   ]
  },
  {
   "cell_type": "code",
   "execution_count": 21,
   "id": "5cc9ee45",
   "metadata": {
    "execution": {
     "iopub.execute_input": "2022-03-27T15:25:59.353907Z",
     "iopub.status.busy": "2022-03-27T15:25:59.339667Z",
     "iopub.status.idle": "2022-03-27T15:26:06.788240Z",
     "shell.execute_reply": "2022-03-27T15:26:06.787620Z",
     "shell.execute_reply.started": "2022-03-27T15:18:18.300734Z"
    },
    "papermill": {
     "duration": 7.579653,
     "end_time": "2022-03-27T15:26:06.788396",
     "exception": false,
     "start_time": "2022-03-27T15:25:59.208743",
     "status": "completed"
    },
    "tags": []
   },
   "outputs": [
    {
     "name": "stdout",
     "output_type": "stream",
     "text": [
      "Requirement already satisfied: cudf in /opt/conda/lib/python3.7/site-packages (21.10.1)\r\n",
      "Requirement already satisfied: numba>=0.53.1 in /opt/conda/lib/python3.7/site-packages (from cudf) (0.54.1)\r\n",
      "Requirement already satisfied: Cython<0.30,>=0.29 in /opt/conda/lib/python3.7/site-packages (from cudf) (0.29.28)\r\n",
      "Requirement already satisfied: fastavro>=0.22.9 in /opt/conda/lib/python3.7/site-packages (from cudf) (1.4.9)\r\n",
      "Requirement already satisfied: fsspec>=0.6.0 in /opt/conda/lib/python3.7/site-packages (from cudf) (2022.2.0)\r\n",
      "Requirement already satisfied: numpy in /opt/conda/lib/python3.7/site-packages (from cudf) (1.20.3)\r\n",
      "Requirement already satisfied: pandas<1.4.0dev0,>=1.0 in /opt/conda/lib/python3.7/site-packages (from cudf) (1.3.5)\r\n",
      "Requirement already satisfied: typing_extensions in /opt/conda/lib/python3.7/site-packages (from cudf) (4.1.1)\r\n",
      "Requirement already satisfied: protobuf in /opt/conda/lib/python3.7/site-packages (from cudf) (3.19.1)\r\n",
      "Requirement already satisfied: nvtx>=0.2.1 in /opt/conda/lib/python3.7/site-packages (from cudf) (0.2.3)\r\n",
      "Requirement already satisfied: cachetools in /opt/conda/lib/python3.7/site-packages (from cudf) (4.2.4)\r\n",
      "Requirement already satisfied: packaging in /opt/conda/lib/python3.7/site-packages (from cudf) (21.3)\r\n",
      "Requirement already satisfied: cupy-cuda110 in /opt/conda/lib/python3.7/site-packages (from cudf) (10.2.0)\r\n",
      "Requirement already satisfied: llvmlite<0.38,>=0.37.0rc1 in /opt/conda/lib/python3.7/site-packages (from numba>=0.53.1->cudf) (0.37.0)\r\n",
      "Requirement already satisfied: setuptools in /opt/conda/lib/python3.7/site-packages (from numba>=0.53.1->cudf) (59.5.0)\r\n",
      "Requirement already satisfied: python-dateutil>=2.7.3 in /opt/conda/lib/python3.7/site-packages (from pandas<1.4.0dev0,>=1.0->cudf) (2.8.2)\r\n",
      "Requirement already satisfied: pytz>=2017.3 in /opt/conda/lib/python3.7/site-packages (from pandas<1.4.0dev0,>=1.0->cudf) (2021.3)\r\n",
      "Requirement already satisfied: fastrlock>=0.5 in /opt/conda/lib/python3.7/site-packages (from cupy-cuda110->cudf) (0.8)\r\n",
      "Requirement already satisfied: pyparsing!=3.0.5,>=2.0.2 in /opt/conda/lib/python3.7/site-packages (from packaging->cudf) (3.0.6)\r\n",
      "Requirement already satisfied: six>=1.5 in /opt/conda/lib/python3.7/site-packages (from python-dateutil>=2.7.3->pandas<1.4.0dev0,>=1.0->cudf) (1.16.0)\r\n",
      "\u001b[33mWARNING: Running pip as the 'root' user can result in broken permissions and conflicting behaviour with the system package manager. It is recommended to use a virtual environment instead: https://pip.pypa.io/warnings/venv\u001b[0m\r\n"
     ]
    }
   ],
   "source": [
    "!pip install cudf\n",
    "import numpy as np\n",
    "import pandas as pd \n",
    "from datetime import datetime, timedelta\n",
    "import gc\n",
    "import cudf\n",
    "import cv2, matplotlib.pyplot as plt\n",
    "from os.path import exists"
   ]
  },
  {
   "cell_type": "code",
   "execution_count": 22,
   "id": "8236236f",
   "metadata": {
    "execution": {
     "iopub.execute_input": "2022-03-27T15:26:07.051946Z",
     "iopub.status.busy": "2022-03-27T15:26:07.051079Z",
     "iopub.status.idle": "2022-03-27T15:26:07.053167Z",
     "shell.execute_reply": "2022-03-27T15:26:07.053556Z",
     "shell.execute_reply.started": "2022-03-27T15:18:25.709728Z"
    },
    "papermill": {
     "duration": 0.135286,
     "end_time": "2022-03-27T15:26:07.053691",
     "exception": false,
     "start_time": "2022-03-27T15:26:06.918405",
     "status": "completed"
    },
    "tags": []
   },
   "outputs": [],
   "source": [
    "# # LOAD TRANSACTIONS DATAFRAME\n",
    "# df = cudf.read_csv('../input/h-and-m-personalized-fashion-recommendations/transactions_train.csv')\n",
    "# print('Transactions shape',df.shape)\n",
    "# display( df.head() )\n",
    "\n",
    "# # REDUCE MEMORY OF DATAFRAME\n",
    "# df = df[['customer_id','article_id']]\n",
    "# df.customer_id = df.customer_id.str[-16:].str.hex_to_int().astype('int64')\n",
    "# df.article_id = df.article_id.astype('int32')\n",
    "# _ = gc.collect()"
   ]
  },
  {
   "cell_type": "code",
   "execution_count": 23,
   "id": "d2de0fc1",
   "metadata": {
    "execution": {
     "iopub.execute_input": "2022-03-27T15:26:07.315059Z",
     "iopub.status.busy": "2022-03-27T15:26:07.314266Z",
     "iopub.status.idle": "2022-03-27T15:26:07.316251Z",
     "shell.execute_reply": "2022-03-27T15:26:07.316646Z",
     "shell.execute_reply.started": "2022-03-27T15:18:25.716528Z"
    },
    "papermill": {
     "duration": 0.134377,
     "end_time": "2022-03-27T15:26:07.316770",
     "exception": false,
     "start_time": "2022-03-27T15:26:07.182393",
     "status": "completed"
    },
    "tags": []
   },
   "outputs": [],
   "source": [
    "# # FIND ITEMS PURCHASED TOGETHER\n",
    "# vc = df.article_id.value_counts()\n",
    "# pairs = {}\n",
    "# # for j,i in enumerate(vc.index.values[1000:1032]):\n",
    "# #     #if j%10==0: print(j,', ',end='')\n",
    "# #     USERS = df.loc[df.article_id==i.item(),'customer_id'].unique()\n",
    "# #     vc2 = df.loc[(df.customer_id.isin(USERS))&(df.article_id!=i.item()),'article_id'].value_counts()\n",
    "# #     pairs[i.item()] = [vc2.index[0], vc2.index[1], vc2.index[2]]"
   ]
  },
  {
   "cell_type": "code",
   "execution_count": 24,
   "id": "8443be27",
   "metadata": {
    "execution": {
     "iopub.execute_input": "2022-03-27T15:26:07.583986Z",
     "iopub.status.busy": "2022-03-27T15:26:07.583231Z",
     "iopub.status.idle": "2022-03-27T15:26:07.585158Z",
     "shell.execute_reply": "2022-03-27T15:26:07.585524Z",
     "shell.execute_reply.started": "2022-03-27T15:18:25.730334Z"
    },
    "papermill": {
     "duration": 0.139232,
     "end_time": "2022-03-27T15:26:07.585648",
     "exception": false,
     "start_time": "2022-03-27T15:26:07.446416",
     "status": "completed"
    },
    "tags": []
   },
   "outputs": [],
   "source": [
    "# vc = vc.reset_index().rename(columns = {\"article_id\":\"count\", \"index\":\"article_id\"})"
   ]
  },
  {
   "cell_type": "code",
   "execution_count": 25,
   "id": "9e1ae86b",
   "metadata": {
    "execution": {
     "iopub.execute_input": "2022-03-27T15:26:07.845847Z",
     "iopub.status.busy": "2022-03-27T15:26:07.845064Z",
     "iopub.status.idle": "2022-03-27T15:26:07.848889Z",
     "shell.execute_reply": "2022-03-27T15:26:07.848466Z",
     "shell.execute_reply.started": "2022-03-27T15:18:25.736851Z"
    },
    "papermill": {
     "duration": 0.13502,
     "end_time": "2022-03-27T15:26:07.848995",
     "exception": false,
     "start_time": "2022-03-27T15:26:07.713975",
     "status": "completed"
    },
    "tags": []
   },
   "outputs": [],
   "source": [
    "# vc = vc[vc[\"count\"]>=50]"
   ]
  },
  {
   "cell_type": "code",
   "execution_count": 26,
   "id": "f101f97b",
   "metadata": {
    "execution": {
     "iopub.execute_input": "2022-03-27T15:26:08.110633Z",
     "iopub.status.busy": "2022-03-27T15:26:08.109833Z",
     "iopub.status.idle": "2022-03-27T15:26:08.112388Z",
     "shell.execute_reply": "2022-03-27T15:26:08.111853Z",
     "shell.execute_reply.started": "2022-03-27T15:18:25.745229Z"
    },
    "papermill": {
     "duration": 0.133966,
     "end_time": "2022-03-27T15:26:08.112499",
     "exception": false,
     "start_time": "2022-03-27T15:26:07.978533",
     "status": "completed"
    },
    "tags": []
   },
   "outputs": [],
   "source": [
    "# def cal_together_score(x):\n",
    "#     USERS = df.loc[df.article_id==x[\"article_id\"],'customer_id'].unique()\n",
    "#     vc2 = df.loc[(df.customer_id.isin(USERS))&(df.article_id!=x[\"article_id\"]),'article_id'].value_counts()\n",
    "#     #pairs[i.item()] = [vc2.index[0], vc2.index[1], vc2.index[2]]\n",
    "#     return [[x.article_id, vc2.index[i], vc2.iloc[i]/x[\"count\"]] for i in range(min(10, len(vc2)))]"
   ]
  },
  {
   "cell_type": "code",
   "execution_count": 27,
   "id": "417a5491",
   "metadata": {
    "execution": {
     "iopub.execute_input": "2022-03-27T15:26:08.372266Z",
     "iopub.status.busy": "2022-03-27T15:26:08.371532Z",
     "iopub.status.idle": "2022-03-27T15:26:08.374081Z",
     "shell.execute_reply": "2022-03-27T15:26:08.373658Z",
     "shell.execute_reply.started": "2022-03-27T15:18:25.753018Z"
    },
    "papermill": {
     "duration": 0.133337,
     "end_time": "2022-03-27T15:26:08.374197",
     "exception": false,
     "start_time": "2022-03-27T15:26:08.240860",
     "status": "completed"
    },
    "tags": []
   },
   "outputs": [],
   "source": [
    "#relation = vc.to_pandas().apply(lambda x: cal_together_score(x), axis = 1).sum()"
   ]
  },
  {
   "cell_type": "code",
   "execution_count": 28,
   "id": "d8947c69",
   "metadata": {
    "execution": {
     "iopub.execute_input": "2022-03-27T15:26:08.637649Z",
     "iopub.status.busy": "2022-03-27T15:26:08.636963Z",
     "iopub.status.idle": "2022-03-27T15:26:08.639563Z",
     "shell.execute_reply": "2022-03-27T15:26:08.639135Z",
     "shell.execute_reply.started": "2022-03-27T15:18:25.766425Z"
    },
    "papermill": {
     "duration": 0.133509,
     "end_time": "2022-03-27T15:26:08.639668",
     "exception": false,
     "start_time": "2022-03-27T15:26:08.506159",
     "status": "completed"
    },
    "tags": []
   },
   "outputs": [],
   "source": [
    "#%%time\n",
    "# df  = cudf.read_csv('../input/h-and-m-personalized-fashion-recommendations/transactions_train.csv',\n",
    "#                             usecols= ['t_dat', 'customer_id', 'article_id'], \n",
    "#                             dtype={'article_id': 'int32', 't_dat': 'string', 'customer_id': 'string'})\n",
    "# df ['customer_id'] = df ['customer_id'].str[-16:].str.hex_to_int().astype('int64')\n",
    "\n",
    "# df['t_dat'] = cudf.to_datetime(df['t_dat'])\n",
    "# last_ts = df['t_dat'].max()"
   ]
  },
  {
   "cell_type": "code",
   "execution_count": 29,
   "id": "228e5cc5",
   "metadata": {
    "execution": {
     "iopub.execute_input": "2022-03-27T15:26:08.900530Z",
     "iopub.status.busy": "2022-03-27T15:26:08.899742Z",
     "iopub.status.idle": "2022-03-27T15:26:08.906233Z",
     "shell.execute_reply": "2022-03-27T15:26:08.905774Z",
     "shell.execute_reply.started": "2022-03-27T15:18:25.771763Z"
    },
    "papermill": {
     "duration": 0.139599,
     "end_time": "2022-03-27T15:26:08.906346",
     "exception": false,
     "start_time": "2022-03-27T15:26:08.766747",
     "status": "completed"
    },
    "tags": []
   },
   "outputs": [],
   "source": [
    "df = train.copy()"
   ]
  },
  {
   "cell_type": "code",
   "execution_count": 30,
   "id": "aa3683d3",
   "metadata": {
    "execution": {
     "iopub.execute_input": "2022-03-27T15:26:09.170431Z",
     "iopub.status.busy": "2022-03-27T15:26:09.169634Z",
     "iopub.status.idle": "2022-03-27T15:26:17.295789Z",
     "shell.execute_reply": "2022-03-27T15:26:17.296928Z",
     "shell.execute_reply.started": "2022-03-27T15:18:25.784498Z"
    },
    "papermill": {
     "duration": 8.262341,
     "end_time": "2022-03-27T15:26:17.297149",
     "exception": false,
     "start_time": "2022-03-27T15:26:09.034808",
     "status": "completed"
    },
    "tags": []
   },
   "outputs": [
    {
     "name": "stdout",
     "output_type": "stream",
     "text": [
      "CPU times: user 6.57 s, sys: 1.66 s, total: 8.23 s\n",
      "Wall time: 8.12 s\n"
     ]
    }
   ],
   "source": [
    "%%time\n",
    "tmp = df[['t_dat']].copy().to_pandas()\n",
    "tmp['dow'] = tmp['t_dat'].dt.dayofweek\n",
    "tmp['ldbw'] = tmp['t_dat'] - pd.TimedeltaIndex(tmp['dow'] - 1, unit='D')\n",
    "tmp.loc[tmp['dow'] >=2 , 'ldbw'] = tmp.loc[tmp['dow'] >=2 , 'ldbw'] + pd.TimedeltaIndex(np.ones(len(tmp.loc[tmp['dow'] >=2])) * 7, unit='D')\n",
    "\n",
    "df['ldbw'] = tmp['ldbw'].values"
   ]
  },
  {
   "cell_type": "code",
   "execution_count": 31,
   "id": "36d1454d",
   "metadata": {
    "execution": {
     "iopub.execute_input": "2022-03-27T15:26:17.718131Z",
     "iopub.status.busy": "2022-03-27T15:26:17.716387Z",
     "iopub.status.idle": "2022-03-27T15:26:17.718687Z",
     "shell.execute_reply": "2022-03-27T15:26:17.719108Z",
     "shell.execute_reply.started": "2022-03-27T15:18:34.024913Z"
    },
    "papermill": {
     "duration": 0.210935,
     "end_time": "2022-03-27T15:26:17.719241",
     "exception": false,
     "start_time": "2022-03-27T15:26:17.508306",
     "status": "completed"
    },
    "tags": []
   },
   "outputs": [],
   "source": [
    "#relation_data = cudf.DataFrame(relation, columns = [\"from_id\", \"to_id\", \"ratio\"])"
   ]
  },
  {
   "cell_type": "code",
   "execution_count": 32,
   "id": "7bd6fa27",
   "metadata": {
    "execution": {
     "iopub.execute_input": "2022-03-27T15:26:17.981945Z",
     "iopub.status.busy": "2022-03-27T15:26:17.981338Z",
     "iopub.status.idle": "2022-03-27T15:26:18.199925Z",
     "shell.execute_reply": "2022-03-27T15:26:18.198834Z",
     "shell.execute_reply.started": "2022-03-27T15:18:34.030606Z"
    },
    "papermill": {
     "duration": 0.351289,
     "end_time": "2022-03-27T15:26:18.200090",
     "exception": false,
     "start_time": "2022-03-27T15:26:17.848801",
     "status": "completed"
    },
    "tags": []
   },
   "outputs": [],
   "source": [
    "relation_data = cudf.read_csv(\"../input/relation/relation_data.csv\")"
   ]
  },
  {
   "cell_type": "code",
   "execution_count": 33,
   "id": "860ee17e",
   "metadata": {
    "execution": {
     "iopub.execute_input": "2022-03-27T15:26:18.472283Z",
     "iopub.status.busy": "2022-03-27T15:26:18.470933Z",
     "iopub.status.idle": "2022-03-27T15:26:18.507145Z",
     "shell.execute_reply": "2022-03-27T15:26:18.507545Z",
     "shell.execute_reply.started": "2022-03-27T15:18:34.238945Z"
    },
    "papermill": {
     "duration": 0.17774,
     "end_time": "2022-03-27T15:26:18.507677",
     "exception": false,
     "start_time": "2022-03-27T15:26:18.329937",
     "status": "completed"
    },
    "tags": []
   },
   "outputs": [
    {
     "data": {
      "text/html": [
       "<div>\n",
       "<style scoped>\n",
       "    .dataframe tbody tr th:only-of-type {\n",
       "        vertical-align: middle;\n",
       "    }\n",
       "\n",
       "    .dataframe tbody tr th {\n",
       "        vertical-align: top;\n",
       "    }\n",
       "\n",
       "    .dataframe thead th {\n",
       "        text-align: right;\n",
       "    }\n",
       "</style>\n",
       "<table border=\"1\" class=\"dataframe\">\n",
       "  <thead>\n",
       "    <tr style=\"text-align: right;\">\n",
       "      <th></th>\n",
       "      <th>from_id</th>\n",
       "      <th>to_id</th>\n",
       "      <th>ratio</th>\n",
       "    </tr>\n",
       "  </thead>\n",
       "  <tbody>\n",
       "    <tr>\n",
       "      <th>0</th>\n",
       "      <td>706016001</td>\n",
       "      <td>706016002</td>\n",
       "      <td>0.250144</td>\n",
       "    </tr>\n",
       "    <tr>\n",
       "      <th>1</th>\n",
       "      <td>706016001</td>\n",
       "      <td>706016003</td>\n",
       "      <td>0.155706</td>\n",
       "    </tr>\n",
       "    <tr>\n",
       "      <th>2</th>\n",
       "      <td>706016001</td>\n",
       "      <td>706016015</td>\n",
       "      <td>0.117943</td>\n",
       "    </tr>\n",
       "    <tr>\n",
       "      <th>3</th>\n",
       "      <td>706016001</td>\n",
       "      <td>706016006</td>\n",
       "      <td>0.097799</td>\n",
       "    </tr>\n",
       "    <tr>\n",
       "      <th>4</th>\n",
       "      <td>706016001</td>\n",
       "      <td>399223001</td>\n",
       "      <td>0.087299</td>\n",
       "    </tr>\n",
       "    <tr>\n",
       "      <th>...</th>\n",
       "      <td>...</td>\n",
       "      <td>...</td>\n",
       "      <td>...</td>\n",
       "    </tr>\n",
       "    <tr>\n",
       "      <th>570535</th>\n",
       "      <td>657165029</td>\n",
       "      <td>763270003</td>\n",
       "      <td>0.120000</td>\n",
       "    </tr>\n",
       "    <tr>\n",
       "      <th>570536</th>\n",
       "      <td>657165029</td>\n",
       "      <td>628327005</td>\n",
       "      <td>0.120000</td>\n",
       "    </tr>\n",
       "    <tr>\n",
       "      <th>570537</th>\n",
       "      <td>657165029</td>\n",
       "      <td>664319001</td>\n",
       "      <td>0.120000</td>\n",
       "    </tr>\n",
       "    <tr>\n",
       "      <th>570538</th>\n",
       "      <td>657165029</td>\n",
       "      <td>608776002</td>\n",
       "      <td>0.100000</td>\n",
       "    </tr>\n",
       "    <tr>\n",
       "      <th>570539</th>\n",
       "      <td>657165029</td>\n",
       "      <td>745806001</td>\n",
       "      <td>0.100000</td>\n",
       "    </tr>\n",
       "  </tbody>\n",
       "</table>\n",
       "<p>570540 rows × 3 columns</p>\n",
       "</div>"
      ],
      "text/plain": [
       "          from_id      to_id     ratio\n",
       "0       706016001  706016002  0.250144\n",
       "1       706016001  706016003  0.155706\n",
       "2       706016001  706016015  0.117943\n",
       "3       706016001  706016006  0.097799\n",
       "4       706016001  399223001  0.087299\n",
       "...           ...        ...       ...\n",
       "570535  657165029  763270003  0.120000\n",
       "570536  657165029  628327005  0.120000\n",
       "570537  657165029  664319001  0.120000\n",
       "570538  657165029  608776002  0.100000\n",
       "570539  657165029  745806001  0.100000\n",
       "\n",
       "[570540 rows x 3 columns]"
      ]
     },
     "execution_count": 33,
     "metadata": {},
     "output_type": "execute_result"
    }
   ],
   "source": [
    "relation_data"
   ]
  },
  {
   "cell_type": "code",
   "execution_count": 34,
   "id": "5321e47a",
   "metadata": {
    "execution": {
     "iopub.execute_input": "2022-03-27T15:26:18.925839Z",
     "iopub.status.busy": "2022-03-27T15:26:18.925111Z",
     "iopub.status.idle": "2022-03-27T15:26:18.927951Z",
     "shell.execute_reply": "2022-03-27T15:26:18.928375Z",
     "shell.execute_reply.started": "2022-03-27T15:18:34.289053Z"
    },
    "papermill": {
     "duration": 0.291044,
     "end_time": "2022-03-27T15:26:18.928525",
     "exception": false,
     "start_time": "2022-03-27T15:26:18.637481",
     "status": "completed"
    },
    "tags": []
   },
   "outputs": [
    {
     "data": {
      "text/plain": [
       "106"
      ]
     },
     "execution_count": 34,
     "metadata": {},
     "output_type": "execute_result"
    }
   ],
   "source": [
    "del tmp\n",
    "gc.collect()"
   ]
  },
  {
   "cell_type": "code",
   "execution_count": 35,
   "id": "2e242a75",
   "metadata": {
    "execution": {
     "iopub.execute_input": "2022-03-27T15:26:19.195331Z",
     "iopub.status.busy": "2022-03-27T15:26:19.194547Z",
     "iopub.status.idle": "2022-03-27T15:26:19.324476Z",
     "shell.execute_reply": "2022-03-27T15:26:19.323998Z",
     "shell.execute_reply.started": "2022-03-27T15:18:34.450408Z"
    },
    "papermill": {
     "duration": 0.264164,
     "end_time": "2022-03-27T15:26:19.324598",
     "exception": false,
     "start_time": "2022-03-27T15:26:19.060434",
     "status": "completed"
    },
    "tags": []
   },
   "outputs": [],
   "source": [
    "weekly_sales = df.drop('customer_id', axis=1).groupby(['ldbw', 'article_id']).count().reset_index()\n",
    "weekly_sales = weekly_sales.rename(columns={'t_dat': 'count'})"
   ]
  },
  {
   "cell_type": "code",
   "execution_count": 36,
   "id": "47ed3505",
   "metadata": {
    "execution": {
     "iopub.execute_input": "2022-03-27T15:26:19.606655Z",
     "iopub.status.busy": "2022-03-27T15:26:19.606072Z",
     "iopub.status.idle": "2022-03-27T15:26:19.652747Z",
     "shell.execute_reply": "2022-03-27T15:26:19.653211Z",
     "shell.execute_reply.started": "2022-03-27T15:18:34.580611Z"
    },
    "papermill": {
     "duration": 0.199202,
     "end_time": "2022-03-27T15:26:19.653376",
     "exception": false,
     "start_time": "2022-03-27T15:26:19.454174",
     "status": "completed"
    },
    "tags": []
   },
   "outputs": [
    {
     "data": {
      "text/html": [
       "<div>\n",
       "<style scoped>\n",
       "    .dataframe tbody tr th:only-of-type {\n",
       "        vertical-align: middle;\n",
       "    }\n",
       "\n",
       "    .dataframe tbody tr th {\n",
       "        vertical-align: top;\n",
       "    }\n",
       "\n",
       "    .dataframe thead th {\n",
       "        text-align: right;\n",
       "    }\n",
       "</style>\n",
       "<table border=\"1\" class=\"dataframe\">\n",
       "  <thead>\n",
       "    <tr style=\"text-align: right;\">\n",
       "      <th></th>\n",
       "      <th>ldbw</th>\n",
       "      <th>article_id</th>\n",
       "      <th>count</th>\n",
       "      <th>price</th>\n",
       "      <th>sales_channel_id</th>\n",
       "    </tr>\n",
       "  </thead>\n",
       "  <tbody>\n",
       "    <tr>\n",
       "      <th>0</th>\n",
       "      <td>2019-03-12</td>\n",
       "      <td>719447002</td>\n",
       "      <td>4</td>\n",
       "      <td>4</td>\n",
       "      <td>4</td>\n",
       "    </tr>\n",
       "    <tr>\n",
       "      <th>1</th>\n",
       "      <td>2019-04-16</td>\n",
       "      <td>590203002</td>\n",
       "      <td>1</td>\n",
       "      <td>1</td>\n",
       "      <td>1</td>\n",
       "    </tr>\n",
       "    <tr>\n",
       "      <th>2</th>\n",
       "      <td>2020-05-05</td>\n",
       "      <td>831684001</td>\n",
       "      <td>12</td>\n",
       "      <td>12</td>\n",
       "      <td>12</td>\n",
       "    </tr>\n",
       "    <tr>\n",
       "      <th>3</th>\n",
       "      <td>2019-05-28</td>\n",
       "      <td>693508002</td>\n",
       "      <td>1</td>\n",
       "      <td>1</td>\n",
       "      <td>1</td>\n",
       "    </tr>\n",
       "    <tr>\n",
       "      <th>4</th>\n",
       "      <td>2019-07-02</td>\n",
       "      <td>777038001</td>\n",
       "      <td>5</td>\n",
       "      <td>5</td>\n",
       "      <td>5</td>\n",
       "    </tr>\n",
       "    <tr>\n",
       "      <th>...</th>\n",
       "      <td>...</td>\n",
       "      <td>...</td>\n",
       "      <td>...</td>\n",
       "      <td>...</td>\n",
       "      <td>...</td>\n",
       "    </tr>\n",
       "    <tr>\n",
       "      <th>2183240</th>\n",
       "      <td>2019-02-12</td>\n",
       "      <td>664871001</td>\n",
       "      <td>34</td>\n",
       "      <td>34</td>\n",
       "      <td>34</td>\n",
       "    </tr>\n",
       "    <tr>\n",
       "      <th>2183241</th>\n",
       "      <td>2019-11-19</td>\n",
       "      <td>640735001</td>\n",
       "      <td>2</td>\n",
       "      <td>2</td>\n",
       "      <td>2</td>\n",
       "    </tr>\n",
       "    <tr>\n",
       "      <th>2183242</th>\n",
       "      <td>2018-10-02</td>\n",
       "      <td>569355002</td>\n",
       "      <td>6</td>\n",
       "      <td>6</td>\n",
       "      <td>6</td>\n",
       "    </tr>\n",
       "    <tr>\n",
       "      <th>2183243</th>\n",
       "      <td>2019-06-04</td>\n",
       "      <td>684021006</td>\n",
       "      <td>8</td>\n",
       "      <td>8</td>\n",
       "      <td>8</td>\n",
       "    </tr>\n",
       "    <tr>\n",
       "      <th>2183244</th>\n",
       "      <td>2019-04-16</td>\n",
       "      <td>767918005</td>\n",
       "      <td>5</td>\n",
       "      <td>5</td>\n",
       "      <td>5</td>\n",
       "    </tr>\n",
       "  </tbody>\n",
       "</table>\n",
       "<p>2183245 rows × 5 columns</p>\n",
       "</div>"
      ],
      "text/plain": [
       "              ldbw  article_id  count  price  sales_channel_id\n",
       "0       2019-03-12   719447002      4      4                 4\n",
       "1       2019-04-16   590203002      1      1                 1\n",
       "2       2020-05-05   831684001     12     12                12\n",
       "3       2019-05-28   693508002      1      1                 1\n",
       "4       2019-07-02   777038001      5      5                 5\n",
       "...            ...         ...    ...    ...               ...\n",
       "2183240 2019-02-12   664871001     34     34                34\n",
       "2183241 2019-11-19   640735001      2      2                 2\n",
       "2183242 2018-10-02   569355002      6      6                 6\n",
       "2183243 2019-06-04   684021006      8      8                 8\n",
       "2183244 2019-04-16   767918005      5      5                 5\n",
       "\n",
       "[2183245 rows x 5 columns]"
      ]
     },
     "execution_count": 36,
     "metadata": {},
     "output_type": "execute_result"
    }
   ],
   "source": [
    "weekly_sales"
   ]
  },
  {
   "cell_type": "code",
   "execution_count": 37,
   "id": "e85056f8",
   "metadata": {
    "execution": {
     "iopub.execute_input": "2022-03-27T15:26:19.950621Z",
     "iopub.status.busy": "2022-03-27T15:26:19.949754Z",
     "iopub.status.idle": "2022-03-27T15:26:19.987333Z",
     "shell.execute_reply": "2022-03-27T15:26:19.986737Z",
     "shell.execute_reply.started": "2022-03-27T15:18:34.636728Z"
    },
    "papermill": {
     "duration": 0.186984,
     "end_time": "2022-03-27T15:26:19.987467",
     "exception": false,
     "start_time": "2022-03-27T15:26:19.800483",
     "status": "completed"
    },
    "tags": []
   },
   "outputs": [],
   "source": [
    "df = df[df[\"ldbw\"] >= pd.to_datetime('2020-08-01')]"
   ]
  },
  {
   "cell_type": "code",
   "execution_count": 38,
   "id": "50fd24d7",
   "metadata": {
    "execution": {
     "iopub.execute_input": "2022-03-27T15:26:20.261168Z",
     "iopub.status.busy": "2022-03-27T15:26:20.260332Z",
     "iopub.status.idle": "2022-03-27T15:26:20.300000Z",
     "shell.execute_reply": "2022-03-27T15:26:20.299592Z",
     "shell.execute_reply.started": "2022-03-27T15:18:34.680353Z"
    },
    "papermill": {
     "duration": 0.174832,
     "end_time": "2022-03-27T15:26:20.300140",
     "exception": false,
     "start_time": "2022-03-27T15:26:20.125308",
     "status": "completed"
    },
    "tags": []
   },
   "outputs": [],
   "source": [
    "full_result = df.merge(relation_data, left_on = \"article_id\", right_on = \"from_id\")"
   ]
  },
  {
   "cell_type": "code",
   "execution_count": 39,
   "id": "6bcd68e4",
   "metadata": {
    "execution": {
     "iopub.execute_input": "2022-03-27T15:26:20.569146Z",
     "iopub.status.busy": "2022-03-27T15:26:20.567545Z",
     "iopub.status.idle": "2022-03-27T15:26:20.569718Z",
     "shell.execute_reply": "2022-03-27T15:26:20.570142Z",
     "shell.execute_reply.started": "2022-03-27T15:18:34.734345Z"
    },
    "papermill": {
     "duration": 0.140458,
     "end_time": "2022-03-27T15:26:20.570276",
     "exception": false,
     "start_time": "2022-03-27T15:26:20.429818",
     "status": "completed"
    },
    "tags": []
   },
   "outputs": [],
   "source": [
    "full_result.drop([\"article_id\", \"from_id\"], axis = 1, inplace = True)"
   ]
  },
  {
   "cell_type": "code",
   "execution_count": 40,
   "id": "88c5417f",
   "metadata": {
    "execution": {
     "iopub.execute_input": "2022-03-27T15:26:20.834685Z",
     "iopub.status.busy": "2022-03-27T15:26:20.833909Z",
     "iopub.status.idle": "2022-03-27T15:26:20.863474Z",
     "shell.execute_reply": "2022-03-27T15:26:20.863050Z",
     "shell.execute_reply.started": "2022-03-27T15:18:34.750485Z"
    },
    "papermill": {
     "duration": 0.163207,
     "end_time": "2022-03-27T15:26:20.863588",
     "exception": false,
     "start_time": "2022-03-27T15:26:20.700381",
     "status": "completed"
    },
    "tags": []
   },
   "outputs": [],
   "source": [
    "full_result = full_result.rename(columns = {\"to_id\": \"article_id\"})"
   ]
  },
  {
   "cell_type": "code",
   "execution_count": 41,
   "id": "3b73946c",
   "metadata": {
    "execution": {
     "iopub.execute_input": "2022-03-27T15:26:21.137126Z",
     "iopub.status.busy": "2022-03-27T15:26:21.136229Z",
     "iopub.status.idle": "2022-03-27T15:26:21.198677Z",
     "shell.execute_reply": "2022-03-27T15:26:21.198221Z",
     "shell.execute_reply.started": "2022-03-27T15:18:34.788292Z"
    },
    "papermill": {
     "duration": 0.205655,
     "end_time": "2022-03-27T15:26:21.198794",
     "exception": false,
     "start_time": "2022-03-27T15:26:20.993139",
     "status": "completed"
    },
    "tags": []
   },
   "outputs": [
    {
     "data": {
      "text/html": [
       "<div>\n",
       "<style scoped>\n",
       "    .dataframe tbody tr th:only-of-type {\n",
       "        vertical-align: middle;\n",
       "    }\n",
       "\n",
       "    .dataframe tbody tr th {\n",
       "        vertical-align: top;\n",
       "    }\n",
       "\n",
       "    .dataframe thead th {\n",
       "        text-align: right;\n",
       "    }\n",
       "</style>\n",
       "<table border=\"1\" class=\"dataframe\">\n",
       "  <thead>\n",
       "    <tr style=\"text-align: right;\">\n",
       "      <th></th>\n",
       "      <th>t_dat</th>\n",
       "      <th>customer_id</th>\n",
       "      <th>price</th>\n",
       "      <th>sales_channel_id</th>\n",
       "      <th>ldbw</th>\n",
       "      <th>article_id</th>\n",
       "      <th>ratio</th>\n",
       "    </tr>\n",
       "  </thead>\n",
       "  <tbody>\n",
       "    <tr>\n",
       "      <th>0</th>\n",
       "      <td>2020-07-29</td>\n",
       "      <td>-1641462433035272469</td>\n",
       "      <td>0.053305</td>\n",
       "      <td>2</td>\n",
       "      <td>2020-08-04</td>\n",
       "      <td>857277001</td>\n",
       "      <td>0.088398</td>\n",
       "    </tr>\n",
       "    <tr>\n",
       "      <th>1</th>\n",
       "      <td>2020-07-29</td>\n",
       "      <td>-8557685387333774327</td>\n",
       "      <td>0.025407</td>\n",
       "      <td>2</td>\n",
       "      <td>2020-08-04</td>\n",
       "      <td>751471001</td>\n",
       "      <td>0.184726</td>\n",
       "    </tr>\n",
       "    <tr>\n",
       "      <th>2</th>\n",
       "      <td>2020-07-29</td>\n",
       "      <td>-2035395705068495128</td>\n",
       "      <td>0.016932</td>\n",
       "      <td>1</td>\n",
       "      <td>2020-08-04</td>\n",
       "      <td>572797001</td>\n",
       "      <td>0.068182</td>\n",
       "    </tr>\n",
       "    <tr>\n",
       "      <th>3</th>\n",
       "      <td>2020-07-29</td>\n",
       "      <td>882143883989844769</td>\n",
       "      <td>0.005068</td>\n",
       "      <td>1</td>\n",
       "      <td>2020-08-04</td>\n",
       "      <td>718982001</td>\n",
       "      <td>0.105854</td>\n",
       "    </tr>\n",
       "    <tr>\n",
       "      <th>4</th>\n",
       "      <td>2020-07-29</td>\n",
       "      <td>-1641462433035272469</td>\n",
       "      <td>0.023983</td>\n",
       "      <td>2</td>\n",
       "      <td>2020-08-04</td>\n",
       "      <td>857812004</td>\n",
       "      <td>0.097245</td>\n",
       "    </tr>\n",
       "    <tr>\n",
       "      <th>...</th>\n",
       "      <td>...</td>\n",
       "      <td>...</td>\n",
       "      <td>...</td>\n",
       "      <td>...</td>\n",
       "      <td>...</td>\n",
       "      <td>...</td>\n",
       "      <td>...</td>\n",
       "    </tr>\n",
       "    <tr>\n",
       "      <th>18750425</th>\n",
       "      <td>2020-09-15</td>\n",
       "      <td>-3833883986046844672</td>\n",
       "      <td>0.059305</td>\n",
       "      <td>1</td>\n",
       "      <td>2020-09-15</td>\n",
       "      <td>673396002</td>\n",
       "      <td>0.056782</td>\n",
       "    </tr>\n",
       "    <tr>\n",
       "      <th>18750426</th>\n",
       "      <td>2020-09-15</td>\n",
       "      <td>-3833883986046844672</td>\n",
       "      <td>0.059305</td>\n",
       "      <td>1</td>\n",
       "      <td>2020-09-15</td>\n",
       "      <td>762846008</td>\n",
       "      <td>0.053628</td>\n",
       "    </tr>\n",
       "    <tr>\n",
       "      <th>18750427</th>\n",
       "      <td>2020-09-15</td>\n",
       "      <td>-3833883986046844672</td>\n",
       "      <td>0.059305</td>\n",
       "      <td>1</td>\n",
       "      <td>2020-09-15</td>\n",
       "      <td>762846008</td>\n",
       "      <td>0.053628</td>\n",
       "    </tr>\n",
       "    <tr>\n",
       "      <th>18750428</th>\n",
       "      <td>2020-09-15</td>\n",
       "      <td>-3833883986046844672</td>\n",
       "      <td>0.059305</td>\n",
       "      <td>1</td>\n",
       "      <td>2020-09-15</td>\n",
       "      <td>706016003</td>\n",
       "      <td>0.053628</td>\n",
       "    </tr>\n",
       "    <tr>\n",
       "      <th>18750429</th>\n",
       "      <td>2020-09-15</td>\n",
       "      <td>-3833883986046844672</td>\n",
       "      <td>0.059305</td>\n",
       "      <td>1</td>\n",
       "      <td>2020-09-15</td>\n",
       "      <td>706016003</td>\n",
       "      <td>0.053628</td>\n",
       "    </tr>\n",
       "  </tbody>\n",
       "</table>\n",
       "<p>18750430 rows × 7 columns</p>\n",
       "</div>"
      ],
      "text/plain": [
       "              t_dat          customer_id     price  sales_channel_id  \\\n",
       "0        2020-07-29 -1641462433035272469  0.053305                 2   \n",
       "1        2020-07-29 -8557685387333774327  0.025407                 2   \n",
       "2        2020-07-29 -2035395705068495128  0.016932                 1   \n",
       "3        2020-07-29   882143883989844769  0.005068                 1   \n",
       "4        2020-07-29 -1641462433035272469  0.023983                 2   \n",
       "...             ...                  ...       ...               ...   \n",
       "18750425 2020-09-15 -3833883986046844672  0.059305                 1   \n",
       "18750426 2020-09-15 -3833883986046844672  0.059305                 1   \n",
       "18750427 2020-09-15 -3833883986046844672  0.059305                 1   \n",
       "18750428 2020-09-15 -3833883986046844672  0.059305                 1   \n",
       "18750429 2020-09-15 -3833883986046844672  0.059305                 1   \n",
       "\n",
       "               ldbw  article_id     ratio  \n",
       "0        2020-08-04   857277001  0.088398  \n",
       "1        2020-08-04   751471001  0.184726  \n",
       "2        2020-08-04   572797001  0.068182  \n",
       "3        2020-08-04   718982001  0.105854  \n",
       "4        2020-08-04   857812004  0.097245  \n",
       "...             ...         ...       ...  \n",
       "18750425 2020-09-15   673396002  0.056782  \n",
       "18750426 2020-09-15   762846008  0.053628  \n",
       "18750427 2020-09-15   762846008  0.053628  \n",
       "18750428 2020-09-15   706016003  0.053628  \n",
       "18750429 2020-09-15   706016003  0.053628  \n",
       "\n",
       "[18750430 rows x 7 columns]"
      ]
     },
     "execution_count": 41,
     "metadata": {},
     "output_type": "execute_result"
    }
   ],
   "source": [
    "full_result"
   ]
  },
  {
   "cell_type": "code",
   "execution_count": 42,
   "id": "c6e376c0",
   "metadata": {
    "execution": {
     "iopub.execute_input": "2022-03-27T15:26:21.503876Z",
     "iopub.status.busy": "2022-03-27T15:26:21.503069Z",
     "iopub.status.idle": "2022-03-27T15:26:21.563914Z",
     "shell.execute_reply": "2022-03-27T15:26:21.563451Z",
     "shell.execute_reply.started": "2022-03-27T15:18:34.854647Z"
    },
    "papermill": {
     "duration": 0.227664,
     "end_time": "2022-03-27T15:26:21.564055",
     "exception": false,
     "start_time": "2022-03-27T15:26:21.336391",
     "status": "completed"
    },
    "tags": []
   },
   "outputs": [],
   "source": [
    "full_result = full_result.merge(weekly_sales, on=['ldbw', 'article_id'], how = 'left')"
   ]
  },
  {
   "cell_type": "code",
   "execution_count": 43,
   "id": "7476296b",
   "metadata": {
    "execution": {
     "iopub.execute_input": "2022-03-27T15:26:21.858610Z",
     "iopub.status.busy": "2022-03-27T15:26:21.857993Z",
     "iopub.status.idle": "2022-03-27T15:26:21.861659Z",
     "shell.execute_reply": "2022-03-27T15:26:21.861235Z",
     "shell.execute_reply.started": "2022-03-27T15:18:34.918488Z"
    },
    "papermill": {
     "duration": 0.15267,
     "end_time": "2022-03-27T15:26:21.861774",
     "exception": false,
     "start_time": "2022-03-27T15:26:21.709104",
     "status": "completed"
    },
    "tags": []
   },
   "outputs": [],
   "source": [
    "#full_result.drop([\"article_id\", \"from_id\", \"count\"], axis = 1, inplace = True)"
   ]
  },
  {
   "cell_type": "code",
   "execution_count": 44,
   "id": "17dc3e88",
   "metadata": {
    "execution": {
     "iopub.execute_input": "2022-03-27T15:26:22.149628Z",
     "iopub.status.busy": "2022-03-27T15:26:22.148828Z",
     "iopub.status.idle": "2022-03-27T15:26:22.151398Z",
     "shell.execute_reply": "2022-03-27T15:26:22.150875Z",
     "shell.execute_reply.started": "2022-03-27T15:18:34.923659Z"
    },
    "papermill": {
     "duration": 0.14455,
     "end_time": "2022-03-27T15:26:22.151521",
     "exception": false,
     "start_time": "2022-03-27T15:26:22.006971",
     "status": "completed"
    },
    "tags": []
   },
   "outputs": [],
   "source": [
    "#full_result.dropna(inplace)"
   ]
  },
  {
   "cell_type": "code",
   "execution_count": 45,
   "id": "b9b40f9f",
   "metadata": {
    "execution": {
     "iopub.execute_input": "2022-03-27T15:26:22.418170Z",
     "iopub.status.busy": "2022-03-27T15:26:22.417377Z",
     "iopub.status.idle": "2022-03-27T15:26:22.500861Z",
     "shell.execute_reply": "2022-03-27T15:26:22.500419Z",
     "shell.execute_reply.started": "2022-03-27T15:18:34.934166Z"
    },
    "papermill": {
     "duration": 0.219296,
     "end_time": "2022-03-27T15:26:22.500972",
     "exception": false,
     "start_time": "2022-03-27T15:26:22.281676",
     "status": "completed"
    },
    "tags": []
   },
   "outputs": [],
   "source": [
    "weekly_sales = weekly_sales.reset_index().set_index('article_id')\n",
    "\n",
    "full_result = full_result.merge(\n",
    "    weekly_sales.loc[weekly_sales['ldbw']==Last_date, ['count']],\n",
    "    on='article_id', suffixes=(\"\", \"_targ\"))\n",
    "\n",
    "full_result['count_targ'].fillna(0, inplace=True)"
   ]
  },
  {
   "cell_type": "code",
   "execution_count": 46,
   "id": "8105bd84",
   "metadata": {
    "execution": {
     "iopub.execute_input": "2022-03-27T15:26:22.770831Z",
     "iopub.status.busy": "2022-03-27T15:26:22.770049Z",
     "iopub.status.idle": "2022-03-27T15:26:22.860376Z",
     "shell.execute_reply": "2022-03-27T15:26:22.860771Z",
     "shell.execute_reply.started": "2022-03-27T15:18:35.026377Z"
    },
    "papermill": {
     "duration": 0.227569,
     "end_time": "2022-03-27T15:26:22.860914",
     "exception": false,
     "start_time": "2022-03-27T15:26:22.633345",
     "status": "completed"
    },
    "tags": []
   },
   "outputs": [
    {
     "data": {
      "text/html": [
       "<div>\n",
       "<style scoped>\n",
       "    .dataframe tbody tr th:only-of-type {\n",
       "        vertical-align: middle;\n",
       "    }\n",
       "\n",
       "    .dataframe tbody tr th {\n",
       "        vertical-align: top;\n",
       "    }\n",
       "\n",
       "    .dataframe thead th {\n",
       "        text-align: right;\n",
       "    }\n",
       "</style>\n",
       "<table border=\"1\" class=\"dataframe\">\n",
       "  <thead>\n",
       "    <tr style=\"text-align: right;\">\n",
       "      <th></th>\n",
       "      <th>t_dat</th>\n",
       "      <th>customer_id</th>\n",
       "      <th>price_x</th>\n",
       "      <th>sales_channel_id_x</th>\n",
       "      <th>ldbw</th>\n",
       "      <th>article_id</th>\n",
       "      <th>ratio</th>\n",
       "      <th>count</th>\n",
       "      <th>price_y</th>\n",
       "      <th>sales_channel_id_y</th>\n",
       "      <th>count_targ</th>\n",
       "    </tr>\n",
       "  </thead>\n",
       "  <tbody>\n",
       "    <tr>\n",
       "      <th>0</th>\n",
       "      <td>2020-07-29</td>\n",
       "      <td>7035316144039460962</td>\n",
       "      <td>0.033881</td>\n",
       "      <td>2</td>\n",
       "      <td>2020-08-04</td>\n",
       "      <td>841383002</td>\n",
       "      <td>0.076246</td>\n",
       "      <td>285</td>\n",
       "      <td>285</td>\n",
       "      <td>285</td>\n",
       "      <td>222</td>\n",
       "    </tr>\n",
       "    <tr>\n",
       "      <th>1</th>\n",
       "      <td>2020-07-29</td>\n",
       "      <td>-3495385487929809459</td>\n",
       "      <td>0.000814</td>\n",
       "      <td>1</td>\n",
       "      <td>2020-08-04</td>\n",
       "      <td>673677002</td>\n",
       "      <td>0.071739</td>\n",
       "      <td>6</td>\n",
       "      <td>6</td>\n",
       "      <td>6</td>\n",
       "      <td>463</td>\n",
       "    </tr>\n",
       "    <tr>\n",
       "      <th>2</th>\n",
       "      <td>2020-07-29</td>\n",
       "      <td>-3495385487929809459</td>\n",
       "      <td>0.027593</td>\n",
       "      <td>1</td>\n",
       "      <td>2020-08-04</td>\n",
       "      <td>751471001</td>\n",
       "      <td>0.314734</td>\n",
       "      <td>314</td>\n",
       "      <td>314</td>\n",
       "      <td>314</td>\n",
       "      <td>607</td>\n",
       "    </tr>\n",
       "    <tr>\n",
       "      <th>3</th>\n",
       "      <td>2020-07-29</td>\n",
       "      <td>-5765563724118376179</td>\n",
       "      <td>0.042356</td>\n",
       "      <td>2</td>\n",
       "      <td>2020-08-04</td>\n",
       "      <td>751471001</td>\n",
       "      <td>0.106329</td>\n",
       "      <td>314</td>\n",
       "      <td>314</td>\n",
       "      <td>314</td>\n",
       "      <td>607</td>\n",
       "    </tr>\n",
       "    <tr>\n",
       "      <th>4</th>\n",
       "      <td>2020-07-29</td>\n",
       "      <td>-5765563724118376179</td>\n",
       "      <td>0.042356</td>\n",
       "      <td>2</td>\n",
       "      <td>2020-08-04</td>\n",
       "      <td>751471001</td>\n",
       "      <td>0.106329</td>\n",
       "      <td>314</td>\n",
       "      <td>314</td>\n",
       "      <td>314</td>\n",
       "      <td>607</td>\n",
       "    </tr>\n",
       "    <tr>\n",
       "      <th>...</th>\n",
       "      <td>...</td>\n",
       "      <td>...</td>\n",
       "      <td>...</td>\n",
       "      <td>...</td>\n",
       "      <td>...</td>\n",
       "      <td>...</td>\n",
       "      <td>...</td>\n",
       "      <td>...</td>\n",
       "      <td>...</td>\n",
       "      <td>...</td>\n",
       "      <td>...</td>\n",
       "    </tr>\n",
       "    <tr>\n",
       "      <th>17558330</th>\n",
       "      <td>2020-09-14</td>\n",
       "      <td>-8614071142728162586</td>\n",
       "      <td>0.067780</td>\n",
       "      <td>2</td>\n",
       "      <td>2020-09-15</td>\n",
       "      <td>677999001</td>\n",
       "      <td>0.071738</td>\n",
       "      <td>2</td>\n",
       "      <td>2</td>\n",
       "      <td>2</td>\n",
       "      <td>2</td>\n",
       "    </tr>\n",
       "    <tr>\n",
       "      <th>17558331</th>\n",
       "      <td>2020-09-14</td>\n",
       "      <td>4159582333778041863</td>\n",
       "      <td>0.042356</td>\n",
       "      <td>2</td>\n",
       "      <td>2020-09-15</td>\n",
       "      <td>685816002</td>\n",
       "      <td>0.046416</td>\n",
       "      <td>153</td>\n",
       "      <td>153</td>\n",
       "      <td>153</td>\n",
       "      <td>153</td>\n",
       "    </tr>\n",
       "    <tr>\n",
       "      <th>17558332</th>\n",
       "      <td>2020-09-14</td>\n",
       "      <td>-8614071142728162586</td>\n",
       "      <td>0.050831</td>\n",
       "      <td>2</td>\n",
       "      <td>2020-09-15</td>\n",
       "      <td>746069006</td>\n",
       "      <td>0.090909</td>\n",
       "      <td>47</td>\n",
       "      <td>47</td>\n",
       "      <td>47</td>\n",
       "      <td>47</td>\n",
       "    </tr>\n",
       "    <tr>\n",
       "      <th>17558333</th>\n",
       "      <td>2020-09-14</td>\n",
       "      <td>-8614071142728162586</td>\n",
       "      <td>0.050831</td>\n",
       "      <td>2</td>\n",
       "      <td>2020-09-15</td>\n",
       "      <td>746069006</td>\n",
       "      <td>0.090909</td>\n",
       "      <td>47</td>\n",
       "      <td>47</td>\n",
       "      <td>47</td>\n",
       "      <td>47</td>\n",
       "    </tr>\n",
       "    <tr>\n",
       "      <th>17558334</th>\n",
       "      <td>2020-09-14</td>\n",
       "      <td>331662239131427172</td>\n",
       "      <td>0.025407</td>\n",
       "      <td>2</td>\n",
       "      <td>2020-09-15</td>\n",
       "      <td>448509014</td>\n",
       "      <td>0.055540</td>\n",
       "      <td>609</td>\n",
       "      <td>609</td>\n",
       "      <td>609</td>\n",
       "      <td>609</td>\n",
       "    </tr>\n",
       "  </tbody>\n",
       "</table>\n",
       "<p>17558335 rows × 11 columns</p>\n",
       "</div>"
      ],
      "text/plain": [
       "              t_dat          customer_id   price_x  sales_channel_id_x  \\\n",
       "0        2020-07-29  7035316144039460962  0.033881                   2   \n",
       "1        2020-07-29 -3495385487929809459  0.000814                   1   \n",
       "2        2020-07-29 -3495385487929809459  0.027593                   1   \n",
       "3        2020-07-29 -5765563724118376179  0.042356                   2   \n",
       "4        2020-07-29 -5765563724118376179  0.042356                   2   \n",
       "...             ...                  ...       ...                 ...   \n",
       "17558330 2020-09-14 -8614071142728162586  0.067780                   2   \n",
       "17558331 2020-09-14  4159582333778041863  0.042356                   2   \n",
       "17558332 2020-09-14 -8614071142728162586  0.050831                   2   \n",
       "17558333 2020-09-14 -8614071142728162586  0.050831                   2   \n",
       "17558334 2020-09-14   331662239131427172  0.025407                   2   \n",
       "\n",
       "               ldbw  article_id     ratio count price_y sales_channel_id_y  \\\n",
       "0        2020-08-04   841383002  0.076246   285     285                285   \n",
       "1        2020-08-04   673677002  0.071739     6       6                  6   \n",
       "2        2020-08-04   751471001  0.314734   314     314                314   \n",
       "3        2020-08-04   751471001  0.106329   314     314                314   \n",
       "4        2020-08-04   751471001  0.106329   314     314                314   \n",
       "...             ...         ...       ...   ...     ...                ...   \n",
       "17558330 2020-09-15   677999001  0.071738     2       2                  2   \n",
       "17558331 2020-09-15   685816002  0.046416   153     153                153   \n",
       "17558332 2020-09-15   746069006  0.090909    47      47                 47   \n",
       "17558333 2020-09-15   746069006  0.090909    47      47                 47   \n",
       "17558334 2020-09-15   448509014  0.055540   609     609                609   \n",
       "\n",
       "          count_targ  \n",
       "0                222  \n",
       "1                463  \n",
       "2                607  \n",
       "3                607  \n",
       "4                607  \n",
       "...              ...  \n",
       "17558330           2  \n",
       "17558331         153  \n",
       "17558332          47  \n",
       "17558333          47  \n",
       "17558334         609  \n",
       "\n",
       "[17558335 rows x 11 columns]"
      ]
     },
     "execution_count": 46,
     "metadata": {},
     "output_type": "execute_result"
    }
   ],
   "source": [
    "full_result"
   ]
  },
  {
   "cell_type": "code",
   "execution_count": 47,
   "id": "73d6fe92",
   "metadata": {
    "execution": {
     "iopub.execute_input": "2022-03-27T15:26:23.134597Z",
     "iopub.status.busy": "2022-03-27T15:26:23.133667Z",
     "iopub.status.idle": "2022-03-27T15:26:23.140006Z",
     "shell.execute_reply": "2022-03-27T15:26:23.139495Z",
     "shell.execute_reply.started": "2022-03-27T15:18:35.113133Z"
    },
    "papermill": {
     "duration": 0.148272,
     "end_time": "2022-03-27T15:26:23.140156",
     "exception": false,
     "start_time": "2022-03-27T15:26:22.991884",
     "status": "completed"
    },
    "tags": []
   },
   "outputs": [],
   "source": [
    "full_result['quotient'] = full_result['count_targ'] / full_result['count']"
   ]
  },
  {
   "cell_type": "code",
   "execution_count": 48,
   "id": "c61c60dd",
   "metadata": {
    "execution": {
     "iopub.execute_input": "2022-03-27T15:26:23.448965Z",
     "iopub.status.busy": "2022-03-27T15:26:23.447980Z",
     "iopub.status.idle": "2022-03-27T15:26:46.007339Z",
     "shell.execute_reply": "2022-03-27T15:26:46.008288Z",
     "shell.execute_reply.started": "2022-03-27T15:18:35.121724Z"
    },
    "papermill": {
     "duration": 22.717039,
     "end_time": "2022-03-27T15:26:46.008502",
     "exception": false,
     "start_time": "2022-03-27T15:26:23.291463",
     "status": "completed"
    },
    "tags": []
   },
   "outputs": [
    {
     "name": "stdout",
     "output_type": "stream",
     "text": [
      "CPU times: user 18.1 s, sys: 7.02 s, total: 25.1 s\n",
      "Wall time: 22.5 s\n"
     ]
    }
   ],
   "source": [
    "%%time\n",
    "purchase_dict = {}\n",
    "\n",
    "tmp = full_result.copy().to_pandas()\n",
    "tmp['x'] = ((Last_date - tmp['t_dat']) / np.timedelta64(1, 'D')).astype(int)\n",
    "tmp['dummy_1'] = 1 \n",
    "tmp['x'] = tmp[[\"x\", \"dummy_1\"]].max(axis=1)\n",
    "\n",
    "a, b, c, d = 2.5e4, 1.5e5, 2e-1, 1e3\n",
    "total = 1715530\n",
    "tmp['y'] = ((a / np.sqrt(tmp['x']) + b * np.exp(-c*tmp['x']) - d) / total +\\\n",
    "(a / np.sqrt(tmp['x']+1) + b * np.exp(-c*(tmp['x']+1)) - d) / total +\\\n",
    "(a / np.sqrt(tmp['x']+2) + b * np.exp(-c*(tmp['x']+2)) - d) / total +\\\n",
    "(a / np.sqrt(tmp['x']+3) + b * np.exp(-c*(tmp['x']+3)) - d) / total +\\\n",
    "(a / np.sqrt(tmp['x']+4) + b * np.exp(-c*(tmp['x']+4)) - d) / total +\\\n",
    "(a / np.sqrt(tmp['x']+5) + b * np.exp(-c*(tmp['x']+5)) - d) / total +\\\n",
    "(a / np.sqrt(tmp['x']+6) + b * np.exp(-c*(tmp['x']+6)) - d) / total)\n",
    "\n",
    "tmp['dummy_0'] = 0 \n",
    "tmp['y'] = tmp[[\"y\", \"dummy_0\"]].max(axis=1)\n",
    "tmp['score'] = tmp['quotient'] * tmp['y'] * tmp[\"ratio\"]\n",
    "\n",
    "tmp = tmp.groupby(['customer_id', 'article_id']).agg({'score': 'sum'})\n",
    "tmp = tmp.reset_index()\n",
    "\n",
    "tmp = tmp.loc[tmp['score'] > 0]\n",
    "tmp['rank'] = tmp.groupby(\"customer_id\")[\"score\"].rank(\"dense\", ascending=False)\n",
    "tmp = tmp.loc[tmp['rank'] <= 12]\n",
    "tmp[\"source\"] = 2\n",
    "\n",
    "result2 = tmp[[\"customer_id\", \"article_id\", \"source\", \"score\", \"rank\"]]"
   ]
  },
  {
   "cell_type": "code",
   "execution_count": 49,
   "id": "7fca2633",
   "metadata": {
    "execution": {
     "iopub.execute_input": "2022-03-27T15:26:46.369231Z",
     "iopub.status.busy": "2022-03-27T15:26:46.367627Z",
     "iopub.status.idle": "2022-03-27T15:26:46.369775Z",
     "shell.execute_reply": "2022-03-27T15:26:46.370204Z",
     "shell.execute_reply.started": "2022-03-27T15:18:57.244207Z"
    },
    "papermill": {
     "duration": 0.140245,
     "end_time": "2022-03-27T15:26:46.370340",
     "exception": false,
     "start_time": "2022-03-27T15:26:46.230095",
     "status": "completed"
    },
    "tags": []
   },
   "outputs": [],
   "source": [
    "#result2.to_csv(\"result2.csv\", index = False)"
   ]
  },
  {
   "cell_type": "code",
   "execution_count": 50,
   "id": "27fd7c5a",
   "metadata": {
    "execution": {
     "iopub.execute_input": "2022-03-27T15:26:46.784298Z",
     "iopub.status.busy": "2022-03-27T15:26:46.783676Z",
     "iopub.status.idle": "2022-03-27T15:26:46.790710Z",
     "shell.execute_reply": "2022-03-27T15:26:46.790246Z",
     "shell.execute_reply.started": "2022-03-27T15:18:57.250099Z"
    },
    "papermill": {
     "duration": 0.287243,
     "end_time": "2022-03-27T15:26:46.790831",
     "exception": false,
     "start_time": "2022-03-27T15:26:46.503588",
     "status": "completed"
    },
    "tags": []
   },
   "outputs": [
    {
     "data": {
      "text/plain": [
       "42"
      ]
     },
     "execution_count": 50,
     "metadata": {},
     "output_type": "execute_result"
    }
   ],
   "source": [
    "del tmp\n",
    "del df\n",
    "del full_result\n",
    "gc.collect()"
   ]
  },
  {
   "cell_type": "code",
   "execution_count": 51,
   "id": "b7895aa8",
   "metadata": {
    "execution": {
     "iopub.execute_input": "2022-03-27T15:26:47.063614Z",
     "iopub.status.busy": "2022-03-27T15:26:47.062864Z",
     "iopub.status.idle": "2022-03-27T15:26:47.065554Z",
     "shell.execute_reply": "2022-03-27T15:26:47.065087Z",
     "shell.execute_reply.started": "2022-03-27T15:18:57.388799Z"
    },
    "papermill": {
     "duration": 0.140605,
     "end_time": "2022-03-27T15:26:47.065685",
     "exception": false,
     "start_time": "2022-03-27T15:26:46.925080",
     "status": "completed"
    },
    "tags": []
   },
   "outputs": [],
   "source": [
    "#relation_data.to_csv(\"/kaggle/working/relation_data.csv\", index = False)"
   ]
  },
  {
   "cell_type": "code",
   "execution_count": 52,
   "id": "4e5befaa",
   "metadata": {
    "execution": {
     "iopub.execute_input": "2022-03-27T15:26:47.338395Z",
     "iopub.status.busy": "2022-03-27T15:26:47.336841Z",
     "iopub.status.idle": "2022-03-27T15:26:47.339085Z",
     "shell.execute_reply": "2022-03-27T15:26:47.339494Z",
     "shell.execute_reply.started": "2022-03-27T15:18:57.396693Z"
    },
    "papermill": {
     "duration": 0.140933,
     "end_time": "2022-03-27T15:26:47.339623",
     "exception": false,
     "start_time": "2022-03-27T15:26:47.198690",
     "status": "completed"
    },
    "tags": []
   },
   "outputs": [],
   "source": [
    "# items = cudf.read_csv('../input/h-and-m-personalized-fashion-recommendations/articles.csv')\n",
    "# BASE = '../input/h-and-m-personalized-fashion-recommendations/images/'\n",
    "\n",
    "# for i,(k,v) in enumerate( pairs.items() ):\n",
    "#     name1 = BASE+'0'+str(k)[:2]+'/0'+str(k)+'.jpg'\n",
    "#     name2 = BASE+'0'+str(v[0])[:2]+'/0'+str(v[0])+'.jpg'\n",
    "#     name3 = BASE+'0'+str(v[1])[:2]+'/0'+str(v[1])+'.jpg'\n",
    "#     name4 = BASE+'0'+str(v[2])[:2]+'/0'+str(v[2])+'.jpg'\n",
    "#     if exists(name1) & exists(name2) & exists(name3) & exists(name4):\n",
    "#         plt.figure(figsize=(20,5))\n",
    "#         img1 = cv2.imread(name1)[:,:,::-1]\n",
    "#         img2 = cv2.imread(name2)[:,:,::-1]\n",
    "#         img3 = cv2.imread(name3)[:,:,::-1]\n",
    "#         img4 = cv2.imread(name4)[:,:,::-1]\n",
    "#         plt.subplot(1,4,1)\n",
    "#         plt.title('When customers buy this',size=18)\n",
    "#         plt.imshow(img1)\n",
    "#         plt.subplot(1,4,2)\n",
    "#         plt.title('They buy this',size=18)\n",
    "#         plt.imshow(img2)\n",
    "#         plt.subplot(1,4,3)\n",
    "#         plt.title('They buy this',size=18)\n",
    "#         plt.imshow(img3)\n",
    "#         plt.subplot(1,4,4)\n",
    "#         plt.title('They buy this',size=18)\n",
    "#         plt.imshow(img4)\n",
    "#         plt.show()\n",
    "#     #if i==63: break"
   ]
  },
  {
   "cell_type": "code",
   "execution_count": 53,
   "id": "469ca85e",
   "metadata": {
    "execution": {
     "iopub.execute_input": "2022-03-27T15:26:47.618548Z",
     "iopub.status.busy": "2022-03-27T15:26:47.617984Z",
     "iopub.status.idle": "2022-03-27T15:26:47.623714Z",
     "shell.execute_reply": "2022-03-27T15:26:47.623310Z",
     "shell.execute_reply.started": "2022-03-27T15:18:57.404673Z"
    },
    "papermill": {
     "duration": 0.151113,
     "end_time": "2022-03-27T15:26:47.623826",
     "exception": false,
     "start_time": "2022-03-27T15:26:47.472713",
     "status": "completed"
    },
    "tags": []
   },
   "outputs": [
    {
     "data": {
      "text/html": [
       "<div>\n",
       "<style scoped>\n",
       "    .dataframe tbody tr th:only-of-type {\n",
       "        vertical-align: middle;\n",
       "    }\n",
       "\n",
       "    .dataframe tbody tr th {\n",
       "        vertical-align: top;\n",
       "    }\n",
       "\n",
       "    .dataframe thead th {\n",
       "        text-align: right;\n",
       "    }\n",
       "</style>\n",
       "<table border=\"1\" class=\"dataframe\">\n",
       "  <thead>\n",
       "    <tr style=\"text-align: right;\">\n",
       "      <th></th>\n",
       "      <th>customer_id</th>\n",
       "      <th>article_id</th>\n",
       "      <th>source</th>\n",
       "      <th>score</th>\n",
       "      <th>rank</th>\n",
       "    </tr>\n",
       "  </thead>\n",
       "  <tbody>\n",
       "    <tr>\n",
       "      <th>0</th>\n",
       "      <td>-9223352921020755230</td>\n",
       "      <td>156231001</td>\n",
       "      <td>2</td>\n",
       "      <td>0.002209</td>\n",
       "      <td>12.0</td>\n",
       "    </tr>\n",
       "    <tr>\n",
       "      <th>1</th>\n",
       "      <td>-9223352921020755230</td>\n",
       "      <td>372860001</td>\n",
       "      <td>2</td>\n",
       "      <td>0.003020</td>\n",
       "      <td>8.0</td>\n",
       "    </tr>\n",
       "    <tr>\n",
       "      <th>2</th>\n",
       "      <td>-9223352921020755230</td>\n",
       "      <td>372860002</td>\n",
       "      <td>2</td>\n",
       "      <td>0.002471</td>\n",
       "      <td>11.0</td>\n",
       "    </tr>\n",
       "    <tr>\n",
       "      <th>3</th>\n",
       "      <td>-9223352921020755230</td>\n",
       "      <td>448509014</td>\n",
       "      <td>2</td>\n",
       "      <td>0.003171</td>\n",
       "      <td>7.0</td>\n",
       "    </tr>\n",
       "    <tr>\n",
       "      <th>5</th>\n",
       "      <td>-9223352921020755230</td>\n",
       "      <td>562245046</td>\n",
       "      <td>2</td>\n",
       "      <td>0.002872</td>\n",
       "      <td>9.0</td>\n",
       "    </tr>\n",
       "    <tr>\n",
       "      <th>...</th>\n",
       "      <td>...</td>\n",
       "      <td>...</td>\n",
       "      <td>...</td>\n",
       "      <td>...</td>\n",
       "      <td>...</td>\n",
       "    </tr>\n",
       "    <tr>\n",
       "      <th>10385327</th>\n",
       "      <td>9223144259947635662</td>\n",
       "      <td>719957006</td>\n",
       "      <td>2</td>\n",
       "      <td>0.008230</td>\n",
       "      <td>12.0</td>\n",
       "    </tr>\n",
       "    <tr>\n",
       "      <th>10385329</th>\n",
       "      <td>9223144259947635662</td>\n",
       "      <td>720504004</td>\n",
       "      <td>2</td>\n",
       "      <td>0.021830</td>\n",
       "      <td>2.0</td>\n",
       "    </tr>\n",
       "    <tr>\n",
       "      <th>10385330</th>\n",
       "      <td>9223144259947635662</td>\n",
       "      <td>720504007</td>\n",
       "      <td>2</td>\n",
       "      <td>0.016236</td>\n",
       "      <td>5.0</td>\n",
       "    </tr>\n",
       "    <tr>\n",
       "      <th>10385333</th>\n",
       "      <td>9223144259947635662</td>\n",
       "      <td>730863005</td>\n",
       "      <td>2</td>\n",
       "      <td>0.014194</td>\n",
       "      <td>6.0</td>\n",
       "    </tr>\n",
       "    <tr>\n",
       "      <th>10385339</th>\n",
       "      <td>9223144259947635662</td>\n",
       "      <td>749699001</td>\n",
       "      <td>2</td>\n",
       "      <td>0.009977</td>\n",
       "      <td>8.0</td>\n",
       "    </tr>\n",
       "  </tbody>\n",
       "</table>\n",
       "<p>4005628 rows × 5 columns</p>\n",
       "</div>"
      ],
      "text/plain": [
       "                  customer_id  article_id  source     score  rank\n",
       "0        -9223352921020755230   156231001       2  0.002209  12.0\n",
       "1        -9223352921020755230   372860001       2  0.003020   8.0\n",
       "2        -9223352921020755230   372860002       2  0.002471  11.0\n",
       "3        -9223352921020755230   448509014       2  0.003171   7.0\n",
       "5        -9223352921020755230   562245046       2  0.002872   9.0\n",
       "...                       ...         ...     ...       ...   ...\n",
       "10385327  9223144259947635662   719957006       2  0.008230  12.0\n",
       "10385329  9223144259947635662   720504004       2  0.021830   2.0\n",
       "10385330  9223144259947635662   720504007       2  0.016236   5.0\n",
       "10385333  9223144259947635662   730863005       2  0.014194   6.0\n",
       "10385339  9223144259947635662   749699001       2  0.009977   8.0\n",
       "\n",
       "[4005628 rows x 5 columns]"
      ]
     },
     "execution_count": 53,
     "metadata": {},
     "output_type": "execute_result"
    }
   ],
   "source": [
    "result2"
   ]
  },
  {
   "cell_type": "markdown",
   "id": "ece4785b",
   "metadata": {
    "papermill": {
     "duration": 0.133695,
     "end_time": "2022-03-27T15:26:47.891549",
     "exception": false,
     "start_time": "2022-03-27T15:26:47.757854",
     "status": "completed"
    },
    "tags": []
   },
   "source": [
    "## 第三路：分层上周热门（+趋势）"
   ]
  },
  {
   "cell_type": "code",
   "execution_count": 54,
   "id": "b71c15a3",
   "metadata": {
    "execution": {
     "iopub.execute_input": "2022-03-27T15:26:48.166642Z",
     "iopub.status.busy": "2022-03-27T15:26:48.165876Z",
     "iopub.status.idle": "2022-03-27T15:26:55.774248Z",
     "shell.execute_reply": "2022-03-27T15:26:55.774722Z",
     "shell.execute_reply.started": "2022-03-27T15:18:57.422928Z"
    },
    "papermill": {
     "duration": 7.750067,
     "end_time": "2022-03-27T15:26:55.774885",
     "exception": false,
     "start_time": "2022-03-27T15:26:48.024818",
     "status": "completed"
    },
    "tags": []
   },
   "outputs": [
    {
     "name": "stdout",
     "output_type": "stream",
     "text": [
      "Requirement already satisfied: cudf in /opt/conda/lib/python3.7/site-packages (21.10.1)\r\n",
      "Requirement already satisfied: numba>=0.53.1 in /opt/conda/lib/python3.7/site-packages (from cudf) (0.54.1)\r\n",
      "Requirement already satisfied: Cython<0.30,>=0.29 in /opt/conda/lib/python3.7/site-packages (from cudf) (0.29.28)\r\n",
      "Requirement already satisfied: fastavro>=0.22.9 in /opt/conda/lib/python3.7/site-packages (from cudf) (1.4.9)\r\n",
      "Requirement already satisfied: fsspec>=0.6.0 in /opt/conda/lib/python3.7/site-packages (from cudf) (2022.2.0)\r\n",
      "Requirement already satisfied: numpy in /opt/conda/lib/python3.7/site-packages (from cudf) (1.20.3)\r\n",
      "Requirement already satisfied: pandas<1.4.0dev0,>=1.0 in /opt/conda/lib/python3.7/site-packages (from cudf) (1.3.5)\r\n",
      "Requirement already satisfied: typing_extensions in /opt/conda/lib/python3.7/site-packages (from cudf) (4.1.1)\r\n",
      "Requirement already satisfied: protobuf in /opt/conda/lib/python3.7/site-packages (from cudf) (3.19.1)\r\n",
      "Requirement already satisfied: nvtx>=0.2.1 in /opt/conda/lib/python3.7/site-packages (from cudf) (0.2.3)\r\n",
      "Requirement already satisfied: cachetools in /opt/conda/lib/python3.7/site-packages (from cudf) (4.2.4)\r\n",
      "Requirement already satisfied: packaging in /opt/conda/lib/python3.7/site-packages (from cudf) (21.3)\r\n",
      "Requirement already satisfied: cupy-cuda110 in /opt/conda/lib/python3.7/site-packages (from cudf) (10.2.0)\r\n",
      "Requirement already satisfied: llvmlite<0.38,>=0.37.0rc1 in /opt/conda/lib/python3.7/site-packages (from numba>=0.53.1->cudf) (0.37.0)\r\n",
      "Requirement already satisfied: setuptools in /opt/conda/lib/python3.7/site-packages (from numba>=0.53.1->cudf) (59.5.0)\r\n",
      "Requirement already satisfied: python-dateutil>=2.7.3 in /opt/conda/lib/python3.7/site-packages (from pandas<1.4.0dev0,>=1.0->cudf) (2.8.2)\r\n",
      "Requirement already satisfied: pytz>=2017.3 in /opt/conda/lib/python3.7/site-packages (from pandas<1.4.0dev0,>=1.0->cudf) (2021.3)\r\n",
      "Requirement already satisfied: fastrlock>=0.5 in /opt/conda/lib/python3.7/site-packages (from cupy-cuda110->cudf) (0.8)\r\n",
      "Requirement already satisfied: pyparsing!=3.0.5,>=2.0.2 in /opt/conda/lib/python3.7/site-packages (from packaging->cudf) (3.0.6)\r\n",
      "Requirement already satisfied: six>=1.5 in /opt/conda/lib/python3.7/site-packages (from python-dateutil>=2.7.3->pandas<1.4.0dev0,>=1.0->cudf) (1.16.0)\r\n",
      "\u001b[33mWARNING: Running pip as the 'root' user can result in broken permissions and conflicting behaviour with the system package manager. It is recommended to use a virtual environment instead: https://pip.pypa.io/warnings/venv\u001b[0m\r\n"
     ]
    }
   ],
   "source": [
    "!pip install cudf\n",
    "import numpy as np\n",
    "import pandas as pd \n",
    "from datetime import datetime, timedelta\n",
    "import gc\n",
    "import cudf\n",
    "import cv2, matplotlib.pyplot as plt\n",
    "from os.path import exists"
   ]
  },
  {
   "cell_type": "code",
   "execution_count": 55,
   "id": "6e42a51e",
   "metadata": {
    "execution": {
     "iopub.execute_input": "2022-03-27T15:26:56.047324Z",
     "iopub.status.busy": "2022-03-27T15:26:56.046449Z",
     "iopub.status.idle": "2022-03-27T15:26:56.048202Z",
     "shell.execute_reply": "2022-03-27T15:26:56.048689Z",
     "shell.execute_reply.started": "2022-03-27T15:19:05.374342Z"
    },
    "papermill": {
     "duration": 0.140104,
     "end_time": "2022-03-27T15:26:56.048816",
     "exception": false,
     "start_time": "2022-03-27T15:26:55.908712",
     "status": "completed"
    },
    "tags": []
   },
   "outputs": [],
   "source": [
    "# # LOAD TRANSACTIONS DATAFRAME\n",
    "# df = cudf.read_csv('../input/h-and-m-personalized-fashion-recommendations/transactions_train.csv')\n",
    "# print('Transactions shape',df.shape)\n",
    "# display( df.head() )\n",
    "\n",
    "# # REDUCE MEMORY OF DATAFRAME\n",
    "# df = df[['t_dat','customer_id','article_id']]\n",
    "# df.customer_id = df.customer_id.str[-16:].str.hex_to_int().astype('int64')\n",
    "# df.article_id = df.article_id.astype('int32')\n",
    "# df.t_dat = cudf.to_datetime(df.t_dat)\n",
    "# _ = gc.collect()"
   ]
  },
  {
   "cell_type": "code",
   "execution_count": 56,
   "id": "b9cf72f9",
   "metadata": {
    "execution": {
     "iopub.execute_input": "2022-03-27T15:26:56.320272Z",
     "iopub.status.busy": "2022-03-27T15:26:56.319533Z",
     "iopub.status.idle": "2022-03-27T15:26:56.325819Z",
     "shell.execute_reply": "2022-03-27T15:26:56.325424Z",
     "shell.execute_reply.started": "2022-03-27T15:19:05.380670Z"
    },
    "papermill": {
     "duration": 0.143736,
     "end_time": "2022-03-27T15:26:56.325938",
     "exception": false,
     "start_time": "2022-03-27T15:26:56.182202",
     "status": "completed"
    },
    "tags": []
   },
   "outputs": [],
   "source": [
    "df = train.copy()"
   ]
  },
  {
   "cell_type": "code",
   "execution_count": 57,
   "id": "9af6bb1b",
   "metadata": {
    "execution": {
     "iopub.execute_input": "2022-03-27T15:26:56.736113Z",
     "iopub.status.busy": "2022-03-27T15:26:56.735538Z",
     "iopub.status.idle": "2022-03-27T15:26:59.255709Z",
     "shell.execute_reply": "2022-03-27T15:26:59.255225Z",
     "shell.execute_reply.started": "2022-03-27T15:19:05.396598Z"
    },
    "papermill": {
     "duration": 2.757338,
     "end_time": "2022-03-27T15:26:59.255852",
     "exception": false,
     "start_time": "2022-03-27T15:26:56.498514",
     "status": "completed"
    },
    "tags": []
   },
   "outputs": [],
   "source": [
    "customer = cudf.read_csv('../input/h-and-m-personalized-fashion-recommendations/customers.csv')\n",
    "customer.customer_id = customer.customer_id.str[-16:].str.hex_to_int().astype('int64')"
   ]
  },
  {
   "cell_type": "code",
   "execution_count": 58,
   "id": "e4bbbdde",
   "metadata": {
    "execution": {
     "iopub.execute_input": "2022-03-27T15:26:59.563828Z",
     "iopub.status.busy": "2022-03-27T15:26:59.562907Z",
     "iopub.status.idle": "2022-03-27T15:26:59.798681Z",
     "shell.execute_reply": "2022-03-27T15:26:59.797987Z",
     "shell.execute_reply.started": "2022-03-27T15:19:07.885021Z"
    },
    "papermill": {
     "duration": 0.408408,
     "end_time": "2022-03-27T15:26:59.798824",
     "exception": false,
     "start_time": "2022-03-27T15:26:59.390416",
     "status": "completed"
    },
    "tags": []
   },
   "outputs": [],
   "source": [
    "sales = cudf.merge(df, customer, on = \"customer_id\", how = 'left')\n",
    "sales = sales[sales.t_dat >= Date_week2]"
   ]
  },
  {
   "cell_type": "code",
   "execution_count": 59,
   "id": "ddd5f345",
   "metadata": {
    "execution": {
     "iopub.execute_input": "2022-03-27T15:27:00.094833Z",
     "iopub.status.busy": "2022-03-27T15:27:00.093955Z",
     "iopub.status.idle": "2022-03-27T15:27:00.110975Z",
     "shell.execute_reply": "2022-03-27T15:27:00.110086Z",
     "shell.execute_reply.started": "2022-03-27T15:19:08.148606Z"
    },
    "papermill": {
     "duration": 0.158948,
     "end_time": "2022-03-27T15:27:00.111123",
     "exception": false,
     "start_time": "2022-03-27T15:26:59.952175",
     "status": "completed"
    },
    "tags": []
   },
   "outputs": [],
   "source": [
    "sales = sales.fillna(0)"
   ]
  },
  {
   "cell_type": "code",
   "execution_count": 60,
   "id": "3bb584ae",
   "metadata": {
    "execution": {
     "iopub.execute_input": "2022-03-27T15:27:00.384207Z",
     "iopub.status.busy": "2022-03-27T15:27:00.383407Z",
     "iopub.status.idle": "2022-03-27T15:27:00.697600Z",
     "shell.execute_reply": "2022-03-27T15:27:00.698513Z",
     "shell.execute_reply.started": "2022-03-27T15:19:08.239193Z"
    },
    "papermill": {
     "duration": 0.453596,
     "end_time": "2022-03-27T15:27:00.698674",
     "exception": false,
     "start_time": "2022-03-27T15:27:00.245078",
     "status": "completed"
    },
    "tags": []
   },
   "outputs": [
    {
     "data": {
      "text/plain": [
       "<AxesSubplot:>"
      ]
     },
     "execution_count": 60,
     "metadata": {},
     "output_type": "execute_result"
    },
    {
     "data": {
      "image/png": "[encoded data removed]",
      "text/plain": [
       "<Figure size 432x288 with 1 Axes>"
      ]
     },
     "metadata": {
      "needs_background": "light"
     },
     "output_type": "display_data"
    }
   ],
   "source": [
    "sales.to_pandas()[\"age\"].hist()"
   ]
  },
  {
   "cell_type": "code",
   "execution_count": 61,
   "id": "bd50ed5d",
   "metadata": {
    "execution": {
     "iopub.execute_input": "2022-03-27T15:27:00.988859Z",
     "iopub.status.busy": "2022-03-27T15:27:00.988277Z",
     "iopub.status.idle": "2022-03-27T15:27:01.066311Z",
     "shell.execute_reply": "2022-03-27T15:27:01.066720Z",
     "shell.execute_reply.started": "2022-03-27T15:19:08.565186Z"
    },
    "papermill": {
     "duration": 0.232828,
     "end_time": "2022-03-27T15:27:01.066868",
     "exception": false,
     "start_time": "2022-03-27T15:27:00.834040",
     "status": "completed"
    },
    "tags": []
   },
   "outputs": [
    {
     "data": {
      "text/html": [
       "<div>\n",
       "<style scoped>\n",
       "    .dataframe tbody tr th:only-of-type {\n",
       "        vertical-align: middle;\n",
       "    }\n",
       "\n",
       "    .dataframe tbody tr th {\n",
       "        vertical-align: top;\n",
       "    }\n",
       "\n",
       "    .dataframe thead th {\n",
       "        text-align: right;\n",
       "    }\n",
       "</style>\n",
       "<table border=\"1\" class=\"dataframe\">\n",
       "  <thead>\n",
       "    <tr style=\"text-align: right;\">\n",
       "      <th></th>\n",
       "      <th>t_dat</th>\n",
       "      <th>customer_id</th>\n",
       "      <th>article_id</th>\n",
       "      <th>price</th>\n",
       "      <th>sales_channel_id</th>\n",
       "      <th>FN</th>\n",
       "      <th>Active</th>\n",
       "      <th>club_member_status</th>\n",
       "      <th>fashion_news_frequency</th>\n",
       "      <th>age</th>\n",
       "      <th>postal_code</th>\n",
       "    </tr>\n",
       "  </thead>\n",
       "  <tbody>\n",
       "    <tr>\n",
       "      <th>31265120</th>\n",
       "      <td>2020-09-09</td>\n",
       "      <td>-2156777441294618063</td>\n",
       "      <td>685814005</td>\n",
       "      <td>0.033881</td>\n",
       "      <td>2</td>\n",
       "      <td>1.0</td>\n",
       "      <td>1.0</td>\n",
       "      <td>ACTIVE</td>\n",
       "      <td>Regularly</td>\n",
       "      <td>29.0</td>\n",
       "      <td>17d0433ebad432976929d99192315d2479bfb7696af1d2...</td>\n",
       "    </tr>\n",
       "    <tr>\n",
       "      <th>31265121</th>\n",
       "      <td>2020-09-09</td>\n",
       "      <td>-6489422566283592999</td>\n",
       "      <td>865240002</td>\n",
       "      <td>0.008458</td>\n",
       "      <td>1</td>\n",
       "      <td>0.0</td>\n",
       "      <td>0.0</td>\n",
       "      <td>ACTIVE</td>\n",
       "      <td>NONE</td>\n",
       "      <td>27.0</td>\n",
       "      <td>09b4c331056fc94bc83a021f44470ea9e859209123e09f...</td>\n",
       "    </tr>\n",
       "    <tr>\n",
       "      <th>31265122</th>\n",
       "      <td>2020-09-09</td>\n",
       "      <td>-7761469595989510297</td>\n",
       "      <td>868641002</td>\n",
       "      <td>0.033881</td>\n",
       "      <td>2</td>\n",
       "      <td>1.0</td>\n",
       "      <td>1.0</td>\n",
       "      <td>ACTIVE</td>\n",
       "      <td>Regularly</td>\n",
       "      <td>22.0</td>\n",
       "      <td>64c420881b31267fd17d03e2aafac8e9ef0bae5a115446...</td>\n",
       "    </tr>\n",
       "    <tr>\n",
       "      <th>31265123</th>\n",
       "      <td>2020-09-09</td>\n",
       "      <td>-2912203858579140439</td>\n",
       "      <td>867966010</td>\n",
       "      <td>0.033881</td>\n",
       "      <td>2</td>\n",
       "      <td>1.0</td>\n",
       "      <td>1.0</td>\n",
       "      <td>ACTIVE</td>\n",
       "      <td>Regularly</td>\n",
       "      <td>24.0</td>\n",
       "      <td>e42c4f19dc1b95b82eae4d77106924e07fef6c5c1dd4c3...</td>\n",
       "    </tr>\n",
       "    <tr>\n",
       "      <th>31265124</th>\n",
       "      <td>2020-09-09</td>\n",
       "      <td>-2156777441294618063</td>\n",
       "      <td>896343002</td>\n",
       "      <td>0.033881</td>\n",
       "      <td>2</td>\n",
       "      <td>1.0</td>\n",
       "      <td>1.0</td>\n",
       "      <td>ACTIVE</td>\n",
       "      <td>Regularly</td>\n",
       "      <td>29.0</td>\n",
       "      <td>17d0433ebad432976929d99192315d2479bfb7696af1d2...</td>\n",
       "    </tr>\n",
       "    <tr>\n",
       "      <th>...</th>\n",
       "      <td>...</td>\n",
       "      <td>...</td>\n",
       "      <td>...</td>\n",
       "      <td>...</td>\n",
       "      <td>...</td>\n",
       "      <td>...</td>\n",
       "      <td>...</td>\n",
       "      <td>...</td>\n",
       "      <td>...</td>\n",
       "      <td>...</td>\n",
       "      <td>...</td>\n",
       "    </tr>\n",
       "    <tr>\n",
       "      <th>31548008</th>\n",
       "      <td>2020-09-15</td>\n",
       "      <td>3856180078300623833</td>\n",
       "      <td>717464001</td>\n",
       "      <td>0.008458</td>\n",
       "      <td>2</td>\n",
       "      <td>1.0</td>\n",
       "      <td>1.0</td>\n",
       "      <td>ACTIVE</td>\n",
       "      <td>Regularly</td>\n",
       "      <td>35.0</td>\n",
       "      <td>9a16b567f919ac527791448821f5486c83c87bcd02815b...</td>\n",
       "    </tr>\n",
       "    <tr>\n",
       "      <th>31548009</th>\n",
       "      <td>2020-09-15</td>\n",
       "      <td>1634635851243038965</td>\n",
       "      <td>861583009</td>\n",
       "      <td>0.045746</td>\n",
       "      <td>1</td>\n",
       "      <td>0.0</td>\n",
       "      <td>0.0</td>\n",
       "      <td>ACTIVE</td>\n",
       "      <td>NONE</td>\n",
       "      <td>49.0</td>\n",
       "      <td>446ba817d7b0c4b5062f4ea4654ae10e440da285ff3b5a...</td>\n",
       "    </tr>\n",
       "    <tr>\n",
       "      <th>31548010</th>\n",
       "      <td>2020-09-15</td>\n",
       "      <td>8749803625616213838</td>\n",
       "      <td>893059004</td>\n",
       "      <td>0.042356</td>\n",
       "      <td>1</td>\n",
       "      <td>0.0</td>\n",
       "      <td>0.0</td>\n",
       "      <td>ACTIVE</td>\n",
       "      <td>NONE</td>\n",
       "      <td>62.0</td>\n",
       "      <td>adb26b97c6ef96391e77a6a7f08c7c5c0976c002d4025a...</td>\n",
       "    </tr>\n",
       "    <tr>\n",
       "      <th>31548011</th>\n",
       "      <td>2020-09-15</td>\n",
       "      <td>1634635851243038965</td>\n",
       "      <td>904260002</td>\n",
       "      <td>0.084729</td>\n",
       "      <td>1</td>\n",
       "      <td>0.0</td>\n",
       "      <td>0.0</td>\n",
       "      <td>ACTIVE</td>\n",
       "      <td>NONE</td>\n",
       "      <td>49.0</td>\n",
       "      <td>446ba817d7b0c4b5062f4ea4654ae10e440da285ff3b5a...</td>\n",
       "    </tr>\n",
       "    <tr>\n",
       "      <th>31548012</th>\n",
       "      <td>2020-09-15</td>\n",
       "      <td>3856180078300623833</td>\n",
       "      <td>682267021</td>\n",
       "      <td>0.050831</td>\n",
       "      <td>2</td>\n",
       "      <td>1.0</td>\n",
       "      <td>1.0</td>\n",
       "      <td>ACTIVE</td>\n",
       "      <td>Regularly</td>\n",
       "      <td>35.0</td>\n",
       "      <td>9a16b567f919ac527791448821f5486c83c87bcd02815b...</td>\n",
       "    </tr>\n",
       "  </tbody>\n",
       "</table>\n",
       "<p>255241 rows × 11 columns</p>\n",
       "</div>"
      ],
      "text/plain": [
       "              t_dat          customer_id  article_id     price  \\\n",
       "31265120 2020-09-09 -2156777441294618063   685814005  0.033881   \n",
       "31265121 2020-09-09 -6489422566283592999   865240002  0.008458   \n",
       "31265122 2020-09-09 -7761469595989510297   868641002  0.033881   \n",
       "31265123 2020-09-09 -2912203858579140439   867966010  0.033881   \n",
       "31265124 2020-09-09 -2156777441294618063   896343002  0.033881   \n",
       "...             ...                  ...         ...       ...   \n",
       "31548008 2020-09-15  3856180078300623833   717464001  0.008458   \n",
       "31548009 2020-09-15  1634635851243038965   861583009  0.045746   \n",
       "31548010 2020-09-15  8749803625616213838   893059004  0.042356   \n",
       "31548011 2020-09-15  1634635851243038965   904260002  0.084729   \n",
       "31548012 2020-09-15  3856180078300623833   682267021  0.050831   \n",
       "\n",
       "          sales_channel_id   FN  Active club_member_status  \\\n",
       "31265120                 2  1.0     1.0             ACTIVE   \n",
       "31265121                 1  0.0     0.0             ACTIVE   \n",
       "31265122                 2  1.0     1.0             ACTIVE   \n",
       "31265123                 2  1.0     1.0             ACTIVE   \n",
       "31265124                 2  1.0     1.0             ACTIVE   \n",
       "...                    ...  ...     ...                ...   \n",
       "31548008                 2  1.0     1.0             ACTIVE   \n",
       "31548009                 1  0.0     0.0             ACTIVE   \n",
       "31548010                 1  0.0     0.0             ACTIVE   \n",
       "31548011                 1  0.0     0.0             ACTIVE   \n",
       "31548012                 2  1.0     1.0             ACTIVE   \n",
       "\n",
       "         fashion_news_frequency   age  \\\n",
       "31265120              Regularly  29.0   \n",
       "31265121                   NONE  27.0   \n",
       "31265122              Regularly  22.0   \n",
       "31265123              Regularly  24.0   \n",
       "31265124              Regularly  29.0   \n",
       "...                         ...   ...   \n",
       "31548008              Regularly  35.0   \n",
       "31548009                   NONE  49.0   \n",
       "31548010                   NONE  62.0   \n",
       "31548011                   NONE  49.0   \n",
       "31548012              Regularly  35.0   \n",
       "\n",
       "                                                postal_code  \n",
       "31265120  17d0433ebad432976929d99192315d2479bfb7696af1d2...  \n",
       "31265121  09b4c331056fc94bc83a021f44470ea9e859209123e09f...  \n",
       "31265122  64c420881b31267fd17d03e2aafac8e9ef0bae5a115446...  \n",
       "31265123  e42c4f19dc1b95b82eae4d77106924e07fef6c5c1dd4c3...  \n",
       "31265124  17d0433ebad432976929d99192315d2479bfb7696af1d2...  \n",
       "...                                                     ...  \n",
       "31548008  9a16b567f919ac527791448821f5486c83c87bcd02815b...  \n",
       "31548009  446ba817d7b0c4b5062f4ea4654ae10e440da285ff3b5a...  \n",
       "31548010  adb26b97c6ef96391e77a6a7f08c7c5c0976c002d4025a...  \n",
       "31548011  446ba817d7b0c4b5062f4ea4654ae10e440da285ff3b5a...  \n",
       "31548012  9a16b567f919ac527791448821f5486c83c87bcd02815b...  \n",
       "\n",
       "[255241 rows x 11 columns]"
      ]
     },
     "execution_count": 61,
     "metadata": {},
     "output_type": "execute_result"
    }
   ],
   "source": [
    "sales"
   ]
  },
  {
   "cell_type": "code",
   "execution_count": 62,
   "id": "0e8d6299",
   "metadata": {
    "execution": {
     "iopub.execute_input": "2022-03-27T15:27:01.347145Z",
     "iopub.status.busy": "2022-03-27T15:27:01.346334Z",
     "iopub.status.idle": "2022-03-27T15:27:01.365803Z",
     "shell.execute_reply": "2022-03-27T15:27:01.365403Z",
     "shell.execute_reply.started": "2022-03-27T15:19:08.656340Z"
    },
    "papermill": {
     "duration": 0.161298,
     "end_time": "2022-03-27T15:27:01.365925",
     "exception": false,
     "start_time": "2022-03-27T15:27:01.204627",
     "status": "completed"
    },
    "tags": []
   },
   "outputs": [],
   "source": [
    "target_sales = sales[[\"article_id\", \"customer_id\"]].groupby('article_id')[\"customer_id\"].count()\n",
    "general_pred = target_sales.nlargest(N, keep = \"first\").index.to_pandas().tolist()\n",
    "general_pred = ['0' + str(article_id) for article_id in general_pred]\n",
    "general_pred_str =  ' '.join(general_pred)\n",
    "del target_sales"
   ]
  },
  {
   "cell_type": "code",
   "execution_count": 63,
   "id": "1527e12e",
   "metadata": {
    "execution": {
     "iopub.execute_input": "2022-03-27T15:27:01.653745Z",
     "iopub.status.busy": "2022-03-27T15:27:01.653122Z",
     "iopub.status.idle": "2022-03-27T15:27:01.655748Z",
     "shell.execute_reply": "2022-03-27T15:27:01.656169Z",
     "shell.execute_reply.started": "2022-03-27T15:19:08.680311Z"
    },
    "papermill": {
     "duration": 0.142807,
     "end_time": "2022-03-27T15:27:01.656301",
     "exception": false,
     "start_time": "2022-03-27T15:27:01.513494",
     "status": "completed"
    },
    "tags": []
   },
   "outputs": [
    {
     "data": {
      "text/plain": [
       "'0909370001 0865799006 0918522001 0924243001 0448509014 0751471001 0809238001 0918292001 0762846027 0809238005 0673677002 0923758001'"
      ]
     },
     "execution_count": 63,
     "metadata": {},
     "output_type": "execute_result"
    }
   ],
   "source": [
    "general_pred_str"
   ]
  },
  {
   "cell_type": "code",
   "execution_count": 64,
   "id": "6980b9c2",
   "metadata": {
    "execution": {
     "iopub.execute_input": "2022-03-27T15:27:01.934468Z",
     "iopub.status.busy": "2022-03-27T15:27:01.932838Z",
     "iopub.status.idle": "2022-03-27T15:27:01.935059Z",
     "shell.execute_reply": "2022-03-27T15:27:01.935466Z",
     "shell.execute_reply.started": "2022-03-27T15:19:08.688537Z"
    },
    "papermill": {
     "duration": 0.142336,
     "end_time": "2022-03-27T15:27:01.935599",
     "exception": false,
     "start_time": "2022-03-27T15:27:01.793263",
     "status": "completed"
    },
    "tags": []
   },
   "outputs": [],
   "source": [
    "#sales.age = sales.age.astype(\"float32\")"
   ]
  },
  {
   "cell_type": "code",
   "execution_count": 65,
   "id": "3897a8cc",
   "metadata": {
    "execution": {
     "iopub.execute_input": "2022-03-27T15:27:02.218206Z",
     "iopub.status.busy": "2022-03-27T15:27:02.217415Z",
     "iopub.status.idle": "2022-03-27T15:27:02.310093Z",
     "shell.execute_reply": "2022-03-27T15:27:02.310516Z",
     "shell.execute_reply.started": "2022-03-27T15:19:08.694521Z"
    },
    "papermill": {
     "duration": 0.234331,
     "end_time": "2022-03-27T15:27:02.310677",
     "exception": false,
     "start_time": "2022-03-27T15:27:02.076346",
     "status": "completed"
    },
    "tags": []
   },
   "outputs": [],
   "source": [
    "age_type = pd.cut(sales.to_pandas()[\"age\"], bins = np.array([0, 21, 24, 27, 30, 35, 40, 45, 50, 60, 100], dtype = \"int32\"), right = True)"
   ]
  },
  {
   "cell_type": "code",
   "execution_count": 66,
   "id": "eaea4a36",
   "metadata": {
    "execution": {
     "iopub.execute_input": "2022-03-27T15:27:02.618552Z",
     "iopub.status.busy": "2022-03-27T15:27:02.617604Z",
     "iopub.status.idle": "2022-03-27T15:27:03.720976Z",
     "shell.execute_reply": "2022-03-27T15:27:03.720500Z",
     "shell.execute_reply.started": "2022-03-27T15:19:08.781666Z"
    },
    "papermill": {
     "duration": 1.27222,
     "end_time": "2022-03-27T15:27:03.721136",
     "exception": false,
     "start_time": "2022-03-27T15:27:02.448916",
     "status": "completed"
    },
    "tags": []
   },
   "outputs": [],
   "source": [
    "sales[\"age_type\"] = age_type.astype(\"string\")"
   ]
  },
  {
   "cell_type": "code",
   "execution_count": 67,
   "id": "652bd769",
   "metadata": {
    "execution": {
     "iopub.execute_input": "2022-03-27T15:27:03.998463Z",
     "iopub.status.busy": "2022-03-27T15:27:03.997605Z",
     "iopub.status.idle": "2022-03-27T15:27:04.012624Z",
     "shell.execute_reply": "2022-03-27T15:27:04.012179Z",
     "shell.execute_reply.started": "2022-03-27T15:19:09.883725Z"
    },
    "papermill": {
     "duration": 0.155293,
     "end_time": "2022-03-27T15:27:04.012737",
     "exception": false,
     "start_time": "2022-03-27T15:27:03.857444",
     "status": "completed"
    },
    "tags": []
   },
   "outputs": [],
   "source": [
    "summary = sales.groupby([\"fashion_news_frequency\", \"age_type\", \"article_id\"])[\"postal_code\"].count().\\\n",
    "reset_index().rename({\"postal_code\":\"count\"}, axis = 1)"
   ]
  },
  {
   "cell_type": "code",
   "execution_count": 68,
   "id": "04b1a4c7",
   "metadata": {
    "execution": {
     "iopub.execute_input": "2022-03-27T15:27:04.303008Z",
     "iopub.status.busy": "2022-03-27T15:27:04.302156Z",
     "iopub.status.idle": "2022-03-27T15:27:04.360857Z",
     "shell.execute_reply": "2022-03-27T15:27:04.361328Z",
     "shell.execute_reply.started": "2022-03-27T15:19:09.904876Z"
    },
    "papermill": {
     "duration": 0.205181,
     "end_time": "2022-03-27T15:27:04.361484",
     "exception": false,
     "start_time": "2022-03-27T15:27:04.156303",
     "status": "completed"
    },
    "tags": []
   },
   "outputs": [
    {
     "data": {
      "text/html": [
       "<div>\n",
       "<style scoped>\n",
       "    .dataframe tbody tr th:only-of-type {\n",
       "        vertical-align: middle;\n",
       "    }\n",
       "\n",
       "    .dataframe tbody tr th {\n",
       "        vertical-align: top;\n",
       "    }\n",
       "\n",
       "    .dataframe thead th {\n",
       "        text-align: right;\n",
       "    }\n",
       "</style>\n",
       "<table border=\"1\" class=\"dataframe\">\n",
       "  <thead>\n",
       "    <tr style=\"text-align: right;\">\n",
       "      <th></th>\n",
       "      <th>fashion_news_frequency</th>\n",
       "      <th>age_type</th>\n",
       "      <th>article_id</th>\n",
       "      <th>count</th>\n",
       "    </tr>\n",
       "  </thead>\n",
       "  <tbody>\n",
       "    <tr>\n",
       "      <th>2</th>\n",
       "      <td>NONE</td>\n",
       "      <td>(24.0, 27.0]</td>\n",
       "      <td>781135004</td>\n",
       "      <td>1</td>\n",
       "    </tr>\n",
       "    <tr>\n",
       "      <th>3</th>\n",
       "      <td>NONE</td>\n",
       "      <td>(24.0, 27.0]</td>\n",
       "      <td>675070013</td>\n",
       "      <td>1</td>\n",
       "    </tr>\n",
       "    <tr>\n",
       "      <th>4</th>\n",
       "      <td>Regularly</td>\n",
       "      <td>(40.0, 45.0]</td>\n",
       "      <td>919160001</td>\n",
       "      <td>1</td>\n",
       "    </tr>\n",
       "    <tr>\n",
       "      <th>6</th>\n",
       "      <td>Regularly</td>\n",
       "      <td>(0.0, 21.0]</td>\n",
       "      <td>862325004</td>\n",
       "      <td>1</td>\n",
       "    </tr>\n",
       "    <tr>\n",
       "      <th>8</th>\n",
       "      <td>NONE</td>\n",
       "      <td>(50.0, 60.0]</td>\n",
       "      <td>865076004</td>\n",
       "      <td>1</td>\n",
       "    </tr>\n",
       "    <tr>\n",
       "      <th>...</th>\n",
       "      <td>...</td>\n",
       "      <td>...</td>\n",
       "      <td>...</td>\n",
       "      <td>...</td>\n",
       "    </tr>\n",
       "    <tr>\n",
       "      <th>2635</th>\n",
       "      <td>Regularly</td>\n",
       "      <td>(21.0, 24.0]</td>\n",
       "      <td>909370001</td>\n",
       "      <td>112</td>\n",
       "    </tr>\n",
       "    <tr>\n",
       "      <th>67196</th>\n",
       "      <td>NONE</td>\n",
       "      <td>(21.0, 24.0]</td>\n",
       "      <td>909370001</td>\n",
       "      <td>114</td>\n",
       "    </tr>\n",
       "    <tr>\n",
       "      <th>76967</th>\n",
       "      <td>NONE</td>\n",
       "      <td>(27.0, 30.0]</td>\n",
       "      <td>909370001</td>\n",
       "      <td>114</td>\n",
       "    </tr>\n",
       "    <tr>\n",
       "      <th>86330</th>\n",
       "      <td>Regularly</td>\n",
       "      <td>(24.0, 27.0]</td>\n",
       "      <td>909370001</td>\n",
       "      <td>117</td>\n",
       "    </tr>\n",
       "    <tr>\n",
       "      <th>1906</th>\n",
       "      <td>NONE</td>\n",
       "      <td>(24.0, 27.0]</td>\n",
       "      <td>909370001</td>\n",
       "      <td>139</td>\n",
       "    </tr>\n",
       "  </tbody>\n",
       "</table>\n",
       "<p>94093 rows × 4 columns</p>\n",
       "</div>"
      ],
      "text/plain": [
       "      fashion_news_frequency      age_type  article_id  count\n",
       "2                       NONE  (24.0, 27.0]   781135004      1\n",
       "3                       NONE  (24.0, 27.0]   675070013      1\n",
       "4                  Regularly  (40.0, 45.0]   919160001      1\n",
       "6                  Regularly   (0.0, 21.0]   862325004      1\n",
       "8                       NONE  (50.0, 60.0]   865076004      1\n",
       "...                      ...           ...         ...    ...\n",
       "2635               Regularly  (21.0, 24.0]   909370001    112\n",
       "67196                   NONE  (21.0, 24.0]   909370001    114\n",
       "76967                   NONE  (27.0, 30.0]   909370001    114\n",
       "86330              Regularly  (24.0, 27.0]   909370001    117\n",
       "1906                    NONE  (24.0, 27.0]   909370001    139\n",
       "\n",
       "[94093 rows x 4 columns]"
      ]
     },
     "execution_count": 68,
     "metadata": {},
     "output_type": "execute_result"
    }
   ],
   "source": [
    "summary.sort_values(by = [\"count\"])"
   ]
  },
  {
   "cell_type": "code",
   "execution_count": 69,
   "id": "f1dad4a3",
   "metadata": {
    "execution": {
     "iopub.execute_input": "2022-03-27T15:27:04.641936Z",
     "iopub.status.busy": "2022-03-27T15:27:04.641194Z",
     "iopub.status.idle": "2022-03-27T15:27:04.671908Z",
     "shell.execute_reply": "2022-03-27T15:27:04.671476Z",
     "shell.execute_reply.started": "2022-03-27T15:19:09.967553Z"
    },
    "papermill": {
     "duration": 0.171444,
     "end_time": "2022-03-27T15:27:04.672043",
     "exception": false,
     "start_time": "2022-03-27T15:27:04.500599",
     "status": "completed"
    },
    "tags": []
   },
   "outputs": [],
   "source": [
    "summary[\"total_count\"] = summary.to_pandas().groupby([\"fashion_news_frequency\", \"age_type\"])[\"count\"].transform(sum)"
   ]
  },
  {
   "cell_type": "code",
   "execution_count": 70,
   "id": "8fd4fc5c",
   "metadata": {
    "execution": {
     "iopub.execute_input": "2022-03-27T15:27:04.949309Z",
     "iopub.status.busy": "2022-03-27T15:27:04.948685Z",
     "iopub.status.idle": "2022-03-27T15:27:04.953326Z",
     "shell.execute_reply": "2022-03-27T15:27:04.952895Z",
     "shell.execute_reply.started": "2022-03-27T15:19:10.001349Z"
    },
    "papermill": {
     "duration": 0.144944,
     "end_time": "2022-03-27T15:27:04.953451",
     "exception": false,
     "start_time": "2022-03-27T15:27:04.808507",
     "status": "completed"
    },
    "tags": []
   },
   "outputs": [],
   "source": [
    "summary[\"score\"] = summary[\"count\"]/summary[\"total_count\"]"
   ]
  },
  {
   "cell_type": "code",
   "execution_count": 71,
   "id": "46ac6480",
   "metadata": {
    "execution": {
     "iopub.execute_input": "2022-03-27T15:27:05.232402Z",
     "iopub.status.busy": "2022-03-27T15:27:05.231581Z",
     "iopub.status.idle": "2022-03-27T15:27:05.234074Z",
     "shell.execute_reply": "2022-03-27T15:27:05.233628Z",
     "shell.execute_reply.started": "2022-03-27T15:19:10.007953Z"
    },
    "papermill": {
     "duration": 0.143948,
     "end_time": "2022-03-27T15:27:05.234188",
     "exception": false,
     "start_time": "2022-03-27T15:27:05.090240",
     "status": "completed"
    },
    "tags": []
   },
   "outputs": [],
   "source": [
    "summary = cudf.DataFrame(summary)"
   ]
  },
  {
   "cell_type": "code",
   "execution_count": 72,
   "id": "a01f22cf",
   "metadata": {
    "execution": {
     "iopub.execute_input": "2022-03-27T15:27:05.511875Z",
     "iopub.status.busy": "2022-03-27T15:27:05.511139Z",
     "iopub.status.idle": "2022-03-27T15:27:05.574571Z",
     "shell.execute_reply": "2022-03-27T15:27:05.574975Z",
     "shell.execute_reply.started": "2022-03-27T15:19:10.016929Z"
    },
    "papermill": {
     "duration": 0.205322,
     "end_time": "2022-03-27T15:27:05.575140",
     "exception": false,
     "start_time": "2022-03-27T15:27:05.369818",
     "status": "completed"
    },
    "tags": []
   },
   "outputs": [
    {
     "data": {
      "text/html": [
       "<div>\n",
       "<style scoped>\n",
       "    .dataframe tbody tr th:only-of-type {\n",
       "        vertical-align: middle;\n",
       "    }\n",
       "\n",
       "    .dataframe tbody tr th {\n",
       "        vertical-align: top;\n",
       "    }\n",
       "\n",
       "    .dataframe thead th {\n",
       "        text-align: right;\n",
       "    }\n",
       "</style>\n",
       "<table border=\"1\" class=\"dataframe\">\n",
       "  <thead>\n",
       "    <tr style=\"text-align: right;\">\n",
       "      <th></th>\n",
       "      <th>fashion_news_frequency</th>\n",
       "      <th>age_type</th>\n",
       "      <th>article_id</th>\n",
       "      <th>count</th>\n",
       "      <th>total_count</th>\n",
       "      <th>score</th>\n",
       "    </tr>\n",
       "  </thead>\n",
       "  <tbody>\n",
       "    <tr>\n",
       "      <th>70560</th>\n",
       "      <td>NONE</td>\n",
       "      <td>(30.0, 35.0]</td>\n",
       "      <td>108775044</td>\n",
       "      <td>1</td>\n",
       "      <td>16446</td>\n",
       "      <td>0.000061</td>\n",
       "    </tr>\n",
       "    <tr>\n",
       "      <th>92656</th>\n",
       "      <td>NONE</td>\n",
       "      <td>(50.0, 60.0]</td>\n",
       "      <td>108775044</td>\n",
       "      <td>2</td>\n",
       "      <td>17777</td>\n",
       "      <td>0.000113</td>\n",
       "    </tr>\n",
       "    <tr>\n",
       "      <th>18045</th>\n",
       "      <td>NONE</td>\n",
       "      <td>(45.0, 50.0]</td>\n",
       "      <td>111565001</td>\n",
       "      <td>1</td>\n",
       "      <td>12402</td>\n",
       "      <td>0.000081</td>\n",
       "    </tr>\n",
       "    <tr>\n",
       "      <th>28623</th>\n",
       "      <td>Regularly</td>\n",
       "      <td>(24.0, 27.0]</td>\n",
       "      <td>111565001</td>\n",
       "      <td>1</td>\n",
       "      <td>14442</td>\n",
       "      <td>0.000069</td>\n",
       "    </tr>\n",
       "    <tr>\n",
       "      <th>66580</th>\n",
       "      <td>NONE</td>\n",
       "      <td>(40.0, 45.0]</td>\n",
       "      <td>111565001</td>\n",
       "      <td>1</td>\n",
       "      <td>8065</td>\n",
       "      <td>0.000124</td>\n",
       "    </tr>\n",
       "    <tr>\n",
       "      <th>...</th>\n",
       "      <td>...</td>\n",
       "      <td>...</td>\n",
       "      <td>...</td>\n",
       "      <td>...</td>\n",
       "      <td>...</td>\n",
       "      <td>...</td>\n",
       "    </tr>\n",
       "    <tr>\n",
       "      <th>82246</th>\n",
       "      <td>Regularly</td>\n",
       "      <td>(50.0, 60.0]</td>\n",
       "      <td>956217002</td>\n",
       "      <td>1</td>\n",
       "      <td>17613</td>\n",
       "      <td>0.000057</td>\n",
       "    </tr>\n",
       "    <tr>\n",
       "      <th>84577</th>\n",
       "      <td>Regularly</td>\n",
       "      <td>(60.0, 100.0]</td>\n",
       "      <td>956217002</td>\n",
       "      <td>1</td>\n",
       "      <td>6074</td>\n",
       "      <td>0.000165</td>\n",
       "    </tr>\n",
       "    <tr>\n",
       "      <th>88549</th>\n",
       "      <td>Regularly</td>\n",
       "      <td>(21.0, 24.0]</td>\n",
       "      <td>956217002</td>\n",
       "      <td>2</td>\n",
       "      <td>15838</td>\n",
       "      <td>0.000126</td>\n",
       "    </tr>\n",
       "    <tr>\n",
       "      <th>554</th>\n",
       "      <td>NONE</td>\n",
       "      <td>(50.0, 60.0]</td>\n",
       "      <td>956217002</td>\n",
       "      <td>3</td>\n",
       "      <td>17777</td>\n",
       "      <td>0.000169</td>\n",
       "    </tr>\n",
       "    <tr>\n",
       "      <th>46392</th>\n",
       "      <td>NONE</td>\n",
       "      <td>(45.0, 50.0]</td>\n",
       "      <td>956217002</td>\n",
       "      <td>3</td>\n",
       "      <td>12402</td>\n",
       "      <td>0.000242</td>\n",
       "    </tr>\n",
       "  </tbody>\n",
       "</table>\n",
       "<p>94093 rows × 6 columns</p>\n",
       "</div>"
      ],
      "text/plain": [
       "      fashion_news_frequency       age_type  article_id  count  total_count  \\\n",
       "70560                   NONE   (30.0, 35.0]   108775044      1        16446   \n",
       "92656                   NONE   (50.0, 60.0]   108775044      2        17777   \n",
       "18045                   NONE   (45.0, 50.0]   111565001      1        12402   \n",
       "28623              Regularly   (24.0, 27.0]   111565001      1        14442   \n",
       "66580                   NONE   (40.0, 45.0]   111565001      1         8065   \n",
       "...                      ...            ...         ...    ...          ...   \n",
       "82246              Regularly   (50.0, 60.0]   956217002      1        17613   \n",
       "84577              Regularly  (60.0, 100.0]   956217002      1         6074   \n",
       "88549              Regularly   (21.0, 24.0]   956217002      2        15838   \n",
       "554                     NONE   (50.0, 60.0]   956217002      3        17777   \n",
       "46392                   NONE   (45.0, 50.0]   956217002      3        12402   \n",
       "\n",
       "          score  \n",
       "70560  0.000061  \n",
       "92656  0.000113  \n",
       "18045  0.000081  \n",
       "28623  0.000069  \n",
       "66580  0.000124  \n",
       "...         ...  \n",
       "82246  0.000057  \n",
       "84577  0.000165  \n",
       "88549  0.000126  \n",
       "554    0.000169  \n",
       "46392  0.000242  \n",
       "\n",
       "[94093 rows x 6 columns]"
      ]
     },
     "execution_count": 72,
     "metadata": {},
     "output_type": "execute_result"
    }
   ],
   "source": [
    "summary.sort_values(by = [\"article_id\", \"count\"])"
   ]
  },
  {
   "cell_type": "code",
   "execution_count": 73,
   "id": "11a6cbc9",
   "metadata": {
    "execution": {
     "iopub.execute_input": "2022-03-27T15:27:05.854373Z",
     "iopub.status.busy": "2022-03-27T15:27:05.853617Z",
     "iopub.status.idle": "2022-03-27T15:27:05.894932Z",
     "shell.execute_reply": "2022-03-27T15:27:05.894487Z",
     "shell.execute_reply.started": "2022-03-27T15:19:10.095974Z"
    },
    "papermill": {
     "duration": 0.182789,
     "end_time": "2022-03-27T15:27:05.895084",
     "exception": false,
     "start_time": "2022-03-27T15:27:05.712295",
     "status": "completed"
    },
    "tags": []
   },
   "outputs": [],
   "source": [
    "summary['rank'] = summary.to_pandas().groupby([\"fashion_news_frequency\", \"age_type\"])[\"score\"].rank(\"dense\", ascending=False)\n",
    "summary = summary.loc[summary['rank'] <= 12]"
   ]
  },
  {
   "cell_type": "code",
   "execution_count": 74,
   "id": "7c25f49f",
   "metadata": {
    "execution": {
     "iopub.execute_input": "2022-03-27T15:27:06.201576Z",
     "iopub.status.busy": "2022-03-27T15:27:06.200929Z",
     "iopub.status.idle": "2022-03-27T15:27:09.137517Z",
     "shell.execute_reply": "2022-03-27T15:27:09.136993Z",
     "shell.execute_reply.started": "2022-03-27T15:19:10.143200Z"
    },
    "papermill": {
     "duration": 3.104043,
     "end_time": "2022-03-27T15:27:09.137654",
     "exception": false,
     "start_time": "2022-03-27T15:27:06.033611",
     "status": "completed"
    },
    "tags": []
   },
   "outputs": [
    {
     "name": "stdout",
     "output_type": "stream",
     "text": [
      "CPU times: user 138 ms, sys: 107 ms, total: 245 ms\n",
      "Wall time: 2.93 s\n"
     ]
    }
   ],
   "source": [
    "%%time\n",
    "sub  = cudf.read_csv('../input/h-and-m-personalized-fashion-recommendations/sample_submission.csv',\n",
    "                            usecols= ['customer_id'], \n",
    "                            dtype={'customer_id': 'string'})\n",
    "\n",
    "sub['customer_id2'] = sub['customer_id'].str[-16:].str.hex_to_int().astype('int64')\n",
    "sub = sub.rename(columns = {'customer_id2':'customer_id', 'customer_id':'customer_id2'})"
   ]
  },
  {
   "cell_type": "code",
   "execution_count": 75,
   "id": "6151d1f7",
   "metadata": {
    "execution": {
     "iopub.execute_input": "2022-03-27T15:27:09.440773Z",
     "iopub.status.busy": "2022-03-27T15:27:09.437939Z",
     "iopub.status.idle": "2022-03-27T15:27:09.485288Z",
     "shell.execute_reply": "2022-03-27T15:27:09.484760Z",
     "shell.execute_reply.started": "2022-03-27T15:19:12.887534Z"
    },
    "papermill": {
     "duration": 0.19897,
     "end_time": "2022-03-27T15:27:09.485435",
     "exception": false,
     "start_time": "2022-03-27T15:27:09.286465",
     "status": "completed"
    },
    "tags": []
   },
   "outputs": [
    {
     "data": {
      "text/html": [
       "<div>\n",
       "<style scoped>\n",
       "    .dataframe tbody tr th:only-of-type {\n",
       "        vertical-align: middle;\n",
       "    }\n",
       "\n",
       "    .dataframe tbody tr th {\n",
       "        vertical-align: top;\n",
       "    }\n",
       "\n",
       "    .dataframe thead th {\n",
       "        text-align: right;\n",
       "    }\n",
       "</style>\n",
       "<table border=\"1\" class=\"dataframe\">\n",
       "  <thead>\n",
       "    <tr style=\"text-align: right;\">\n",
       "      <th></th>\n",
       "      <th>customer_id2</th>\n",
       "      <th>customer_id</th>\n",
       "    </tr>\n",
       "  </thead>\n",
       "  <tbody>\n",
       "    <tr>\n",
       "      <th>0</th>\n",
       "      <td>00000dbacae5abe5e23885899a1fa44253a17956c6d1c3...</td>\n",
       "      <td>6883939031699146327</td>\n",
       "    </tr>\n",
       "    <tr>\n",
       "      <th>1</th>\n",
       "      <td>0000423b00ade91418cceaf3b26c6af3dd342b51fd051e...</td>\n",
       "      <td>-7200416642310594310</td>\n",
       "    </tr>\n",
       "    <tr>\n",
       "      <th>2</th>\n",
       "      <td>000058a12d5b43e67d225668fa1f8d618c13dc232df0ca...</td>\n",
       "      <td>-6846340800584936</td>\n",
       "    </tr>\n",
       "    <tr>\n",
       "      <th>3</th>\n",
       "      <td>00005ca1c9ed5f5146b52ac8639a40ca9d57aeff4d1bd2...</td>\n",
       "      <td>-94071612138601410</td>\n",
       "    </tr>\n",
       "    <tr>\n",
       "      <th>4</th>\n",
       "      <td>00006413d8573cd20ed7128e53b7b13819fe5cfc2d801f...</td>\n",
       "      <td>-283965518499174310</td>\n",
       "    </tr>\n",
       "    <tr>\n",
       "      <th>...</th>\n",
       "      <td>...</td>\n",
       "      <td>...</td>\n",
       "    </tr>\n",
       "    <tr>\n",
       "      <th>1371975</th>\n",
       "      <td>ffffbbf78b6eaac697a8a5dfbfd2bfa8113ee5b403e474...</td>\n",
       "      <td>7551062398649767985</td>\n",
       "    </tr>\n",
       "    <tr>\n",
       "      <th>1371976</th>\n",
       "      <td>ffffcd5046a6143d29a04fb8c424ce494a76e5cdf4fab5...</td>\n",
       "      <td>-9141402131989464905</td>\n",
       "    </tr>\n",
       "    <tr>\n",
       "      <th>1371977</th>\n",
       "      <td>ffffcf35913a0bee60e8741cb2b4e78b8a98ee5ff2e6a1...</td>\n",
       "      <td>-8286316756823862684</td>\n",
       "    </tr>\n",
       "    <tr>\n",
       "      <th>1371978</th>\n",
       "      <td>ffffd7744cebcf3aca44ae7049d2a94b87074c3d4ffe38...</td>\n",
       "      <td>2551401172826382186</td>\n",
       "    </tr>\n",
       "    <tr>\n",
       "      <th>1371979</th>\n",
       "      <td>ffffd9ac14e89946416d80e791d064701994755c3ab686...</td>\n",
       "      <td>-1516792180973952447</td>\n",
       "    </tr>\n",
       "  </tbody>\n",
       "</table>\n",
       "<p>1371980 rows × 2 columns</p>\n",
       "</div>"
      ],
      "text/plain": [
       "                                              customer_id2  \\\n",
       "0        00000dbacae5abe5e23885899a1fa44253a17956c6d1c3...   \n",
       "1        0000423b00ade91418cceaf3b26c6af3dd342b51fd051e...   \n",
       "2        000058a12d5b43e67d225668fa1f8d618c13dc232df0ca...   \n",
       "3        00005ca1c9ed5f5146b52ac8639a40ca9d57aeff4d1bd2...   \n",
       "4        00006413d8573cd20ed7128e53b7b13819fe5cfc2d801f...   \n",
       "...                                                    ...   \n",
       "1371975  ffffbbf78b6eaac697a8a5dfbfd2bfa8113ee5b403e474...   \n",
       "1371976  ffffcd5046a6143d29a04fb8c424ce494a76e5cdf4fab5...   \n",
       "1371977  ffffcf35913a0bee60e8741cb2b4e78b8a98ee5ff2e6a1...   \n",
       "1371978  ffffd7744cebcf3aca44ae7049d2a94b87074c3d4ffe38...   \n",
       "1371979  ffffd9ac14e89946416d80e791d064701994755c3ab686...   \n",
       "\n",
       "                 customer_id  \n",
       "0        6883939031699146327  \n",
       "1       -7200416642310594310  \n",
       "2          -6846340800584936  \n",
       "3         -94071612138601410  \n",
       "4        -283965518499174310  \n",
       "...                      ...  \n",
       "1371975  7551062398649767985  \n",
       "1371976 -9141402131989464905  \n",
       "1371977 -8286316756823862684  \n",
       "1371978  2551401172826382186  \n",
       "1371979 -1516792180973952447  \n",
       "\n",
       "[1371980 rows x 2 columns]"
      ]
     },
     "execution_count": 75,
     "metadata": {},
     "output_type": "execute_result"
    }
   ],
   "source": [
    "sub"
   ]
  },
  {
   "cell_type": "code",
   "execution_count": 76,
   "id": "3b009615",
   "metadata": {
    "execution": {
     "iopub.execute_input": "2022-03-27T15:27:09.783046Z",
     "iopub.status.busy": "2022-03-27T15:27:09.782198Z",
     "iopub.status.idle": "2022-03-27T15:27:09.872290Z",
     "shell.execute_reply": "2022-03-27T15:27:09.872723Z",
     "shell.execute_reply.started": "2022-03-27T15:19:12.939684Z"
    },
    "papermill": {
     "duration": 0.242668,
     "end_time": "2022-03-27T15:27:09.872877",
     "exception": false,
     "start_time": "2022-03-27T15:27:09.630209",
     "status": "completed"
    },
    "tags": []
   },
   "outputs": [
    {
     "data": {
      "text/html": [
       "<div>\n",
       "<style scoped>\n",
       "    .dataframe tbody tr th:only-of-type {\n",
       "        vertical-align: middle;\n",
       "    }\n",
       "\n",
       "    .dataframe tbody tr th {\n",
       "        vertical-align: top;\n",
       "    }\n",
       "\n",
       "    .dataframe thead th {\n",
       "        text-align: right;\n",
       "    }\n",
       "</style>\n",
       "<table border=\"1\" class=\"dataframe\">\n",
       "  <thead>\n",
       "    <tr style=\"text-align: right;\">\n",
       "      <th></th>\n",
       "      <th>customer_id</th>\n",
       "      <th>FN</th>\n",
       "      <th>Active</th>\n",
       "      <th>club_member_status</th>\n",
       "      <th>fashion_news_frequency</th>\n",
       "      <th>age</th>\n",
       "      <th>postal_code</th>\n",
       "    </tr>\n",
       "  </thead>\n",
       "  <tbody>\n",
       "    <tr>\n",
       "      <th>0</th>\n",
       "      <td>6883939031699146327</td>\n",
       "      <td>&lt;NA&gt;</td>\n",
       "      <td>&lt;NA&gt;</td>\n",
       "      <td>ACTIVE</td>\n",
       "      <td>NONE</td>\n",
       "      <td>49.0</td>\n",
       "      <td>52043ee2162cf5aa7ee79974281641c6f11a68d276429a...</td>\n",
       "    </tr>\n",
       "    <tr>\n",
       "      <th>1</th>\n",
       "      <td>-7200416642310594310</td>\n",
       "      <td>&lt;NA&gt;</td>\n",
       "      <td>&lt;NA&gt;</td>\n",
       "      <td>ACTIVE</td>\n",
       "      <td>NONE</td>\n",
       "      <td>25.0</td>\n",
       "      <td>2973abc54daa8a5f8ccfe9362140c63247c5eee03f1d93...</td>\n",
       "    </tr>\n",
       "    <tr>\n",
       "      <th>2</th>\n",
       "      <td>-6846340800584936</td>\n",
       "      <td>&lt;NA&gt;</td>\n",
       "      <td>&lt;NA&gt;</td>\n",
       "      <td>ACTIVE</td>\n",
       "      <td>NONE</td>\n",
       "      <td>24.0</td>\n",
       "      <td>64f17e6a330a85798e4998f62d0930d14db8db1c054af6...</td>\n",
       "    </tr>\n",
       "    <tr>\n",
       "      <th>3</th>\n",
       "      <td>-94071612138601410</td>\n",
       "      <td>&lt;NA&gt;</td>\n",
       "      <td>&lt;NA&gt;</td>\n",
       "      <td>ACTIVE</td>\n",
       "      <td>NONE</td>\n",
       "      <td>54.0</td>\n",
       "      <td>5d36574f52495e81f019b680c843c443bd343d5ca5b1c2...</td>\n",
       "    </tr>\n",
       "    <tr>\n",
       "      <th>4</th>\n",
       "      <td>-283965518499174310</td>\n",
       "      <td>1.0</td>\n",
       "      <td>1.0</td>\n",
       "      <td>ACTIVE</td>\n",
       "      <td>Regularly</td>\n",
       "      <td>52.0</td>\n",
       "      <td>25fa5ddee9aac01b35208d01736e57942317d756b32ddd...</td>\n",
       "    </tr>\n",
       "    <tr>\n",
       "      <th>...</th>\n",
       "      <td>...</td>\n",
       "      <td>...</td>\n",
       "      <td>...</td>\n",
       "      <td>...</td>\n",
       "      <td>...</td>\n",
       "      <td>...</td>\n",
       "      <td>...</td>\n",
       "    </tr>\n",
       "    <tr>\n",
       "      <th>1371975</th>\n",
       "      <td>7551062398649767985</td>\n",
       "      <td>&lt;NA&gt;</td>\n",
       "      <td>&lt;NA&gt;</td>\n",
       "      <td>ACTIVE</td>\n",
       "      <td>NONE</td>\n",
       "      <td>24.0</td>\n",
       "      <td>7aa399f7e669990daba2d92c577b52237380662f36480b...</td>\n",
       "    </tr>\n",
       "    <tr>\n",
       "      <th>1371976</th>\n",
       "      <td>-9141402131989464905</td>\n",
       "      <td>&lt;NA&gt;</td>\n",
       "      <td>&lt;NA&gt;</td>\n",
       "      <td>ACTIVE</td>\n",
       "      <td>NONE</td>\n",
       "      <td>21.0</td>\n",
       "      <td>3f47f1279beb72215f4de557d950e0bfa73789d24acb5e...</td>\n",
       "    </tr>\n",
       "    <tr>\n",
       "      <th>1371977</th>\n",
       "      <td>-8286316756823862684</td>\n",
       "      <td>1.0</td>\n",
       "      <td>1.0</td>\n",
       "      <td>ACTIVE</td>\n",
       "      <td>Regularly</td>\n",
       "      <td>21.0</td>\n",
       "      <td>4563fc79215672cd6a863f2b4bf56b8f898f2d96ed590e...</td>\n",
       "    </tr>\n",
       "    <tr>\n",
       "      <th>1371978</th>\n",
       "      <td>2551401172826382186</td>\n",
       "      <td>1.0</td>\n",
       "      <td>1.0</td>\n",
       "      <td>ACTIVE</td>\n",
       "      <td>Regularly</td>\n",
       "      <td>18.0</td>\n",
       "      <td>8892c18e9bc3dca6aa4000cb8094fc4b51ee8db2ed14d7...</td>\n",
       "    </tr>\n",
       "    <tr>\n",
       "      <th>1371979</th>\n",
       "      <td>-1516792180973952447</td>\n",
       "      <td>&lt;NA&gt;</td>\n",
       "      <td>&lt;NA&gt;</td>\n",
       "      <td>PRE-CREATE</td>\n",
       "      <td>NONE</td>\n",
       "      <td>65.0</td>\n",
       "      <td>0a1a03306fb2f62164c2a439b38c0caa64b40deaae8687...</td>\n",
       "    </tr>\n",
       "  </tbody>\n",
       "</table>\n",
       "<p>1371980 rows × 7 columns</p>\n",
       "</div>"
      ],
      "text/plain": [
       "                 customer_id    FN Active club_member_status  \\\n",
       "0        6883939031699146327  <NA>   <NA>             ACTIVE   \n",
       "1       -7200416642310594310  <NA>   <NA>             ACTIVE   \n",
       "2          -6846340800584936  <NA>   <NA>             ACTIVE   \n",
       "3         -94071612138601410  <NA>   <NA>             ACTIVE   \n",
       "4        -283965518499174310   1.0    1.0             ACTIVE   \n",
       "...                      ...   ...    ...                ...   \n",
       "1371975  7551062398649767985  <NA>   <NA>             ACTIVE   \n",
       "1371976 -9141402131989464905  <NA>   <NA>             ACTIVE   \n",
       "1371977 -8286316756823862684   1.0    1.0             ACTIVE   \n",
       "1371978  2551401172826382186   1.0    1.0             ACTIVE   \n",
       "1371979 -1516792180973952447  <NA>   <NA>         PRE-CREATE   \n",
       "\n",
       "        fashion_news_frequency   age  \\\n",
       "0                         NONE  49.0   \n",
       "1                         NONE  25.0   \n",
       "2                         NONE  24.0   \n",
       "3                         NONE  54.0   \n",
       "4                    Regularly  52.0   \n",
       "...                        ...   ...   \n",
       "1371975                   NONE  24.0   \n",
       "1371976                   NONE  21.0   \n",
       "1371977              Regularly  21.0   \n",
       "1371978              Regularly  18.0   \n",
       "1371979                   NONE  65.0   \n",
       "\n",
       "                                               postal_code  \n",
       "0        52043ee2162cf5aa7ee79974281641c6f11a68d276429a...  \n",
       "1        2973abc54daa8a5f8ccfe9362140c63247c5eee03f1d93...  \n",
       "2        64f17e6a330a85798e4998f62d0930d14db8db1c054af6...  \n",
       "3        5d36574f52495e81f019b680c843c443bd343d5ca5b1c2...  \n",
       "4        25fa5ddee9aac01b35208d01736e57942317d756b32ddd...  \n",
       "...                                                    ...  \n",
       "1371975  7aa399f7e669990daba2d92c577b52237380662f36480b...  \n",
       "1371976  3f47f1279beb72215f4de557d950e0bfa73789d24acb5e...  \n",
       "1371977  4563fc79215672cd6a863f2b4bf56b8f898f2d96ed590e...  \n",
       "1371978  8892c18e9bc3dca6aa4000cb8094fc4b51ee8db2ed14d7...  \n",
       "1371979  0a1a03306fb2f62164c2a439b38c0caa64b40deaae8687...  \n",
       "\n",
       "[1371980 rows x 7 columns]"
      ]
     },
     "execution_count": 76,
     "metadata": {},
     "output_type": "execute_result"
    }
   ],
   "source": [
    "customer"
   ]
  },
  {
   "cell_type": "code",
   "execution_count": 77,
   "id": "d67d7b96",
   "metadata": {
    "execution": {
     "iopub.execute_input": "2022-03-27T15:27:10.184600Z",
     "iopub.status.busy": "2022-03-27T15:27:10.183671Z",
     "iopub.status.idle": "2022-03-27T15:27:16.910286Z",
     "shell.execute_reply": "2022-03-27T15:27:16.909772Z",
     "shell.execute_reply.started": "2022-03-27T15:19:13.030745Z"
    },
    "papermill": {
     "duration": 6.888094,
     "end_time": "2022-03-27T15:27:16.910433",
     "exception": false,
     "start_time": "2022-03-27T15:27:10.022339",
     "status": "completed"
    },
    "tags": []
   },
   "outputs": [],
   "source": [
    "sub_customer = sub.merge(customer.fillna(0), on = \"customer_id\")\n",
    "sub_customer[\"age_type\"] = pd.cut(sub_customer.to_pandas()[\"age\"], bins = np.array([0, 21, 24, 27, 30, 35, 40, 45, 50, 60, 100], dtype = \"int32\"), right = True).astype(\"string\")"
   ]
  },
  {
   "cell_type": "code",
   "execution_count": 78,
   "id": "14580f25",
   "metadata": {
    "execution": {
     "iopub.execute_input": "2022-03-27T15:27:17.193579Z",
     "iopub.status.busy": "2022-03-27T15:27:17.192667Z",
     "iopub.status.idle": "2022-03-27T15:27:28.950545Z",
     "shell.execute_reply": "2022-03-27T15:27:28.949620Z",
     "shell.execute_reply.started": "2022-03-27T15:19:19.771122Z"
    },
    "papermill": {
     "duration": 11.90179,
     "end_time": "2022-03-27T15:27:28.950692",
     "exception": false,
     "start_time": "2022-03-27T15:27:17.048902",
     "status": "completed"
    },
    "tags": []
   },
   "outputs": [],
   "source": [
    "result3 = sub_customer.to_pandas().merge(summary.to_pandas(), on = [\"fashion_news_frequency\", \"age_type\"], how = \"left\")"
   ]
  },
  {
   "cell_type": "code",
   "execution_count": 79,
   "id": "53e2ac1e",
   "metadata": {
    "execution": {
     "iopub.execute_input": "2022-03-27T15:27:29.233214Z",
     "iopub.status.busy": "2022-03-27T15:27:29.231982Z",
     "iopub.status.idle": "2022-03-27T15:27:39.267493Z",
     "shell.execute_reply": "2022-03-27T15:27:39.267907Z",
     "shell.execute_reply.started": "2022-03-27T15:19:31.113392Z"
    },
    "papermill": {
     "duration": 10.179159,
     "end_time": "2022-03-27T15:27:39.268098",
     "exception": false,
     "start_time": "2022-03-27T15:27:29.088939",
     "status": "completed"
    },
    "tags": []
   },
   "outputs": [],
   "source": [
    "result3[\"source\"] = 3\n",
    "result3 = result3.loc[:,[\"customer_id\", \"article_id\", \"source\", \"score\", \"rank\"]]"
   ]
  },
  {
   "cell_type": "code",
   "execution_count": 80,
   "id": "f6cb6f5c",
   "metadata": {
    "execution": {
     "iopub.execute_input": "2022-03-27T15:27:39.568238Z",
     "iopub.status.busy": "2022-03-27T15:27:39.567519Z",
     "iopub.status.idle": "2022-03-27T15:27:39.570455Z",
     "shell.execute_reply": "2022-03-27T15:27:39.570838Z",
     "shell.execute_reply.started": "2022-03-27T15:19:41.553372Z"
    },
    "papermill": {
     "duration": 0.163185,
     "end_time": "2022-03-27T15:27:39.570980",
     "exception": false,
     "start_time": "2022-03-27T15:27:39.407795",
     "status": "completed"
    },
    "tags": []
   },
   "outputs": [
    {
     "data": {
      "text/html": [
       "<div>\n",
       "<style scoped>\n",
       "    .dataframe tbody tr th:only-of-type {\n",
       "        vertical-align: middle;\n",
       "    }\n",
       "\n",
       "    .dataframe tbody tr th {\n",
       "        vertical-align: top;\n",
       "    }\n",
       "\n",
       "    .dataframe thead th {\n",
       "        text-align: right;\n",
       "    }\n",
       "</style>\n",
       "<table border=\"1\" class=\"dataframe\">\n",
       "  <thead>\n",
       "    <tr style=\"text-align: right;\">\n",
       "      <th></th>\n",
       "      <th>customer_id</th>\n",
       "      <th>article_id</th>\n",
       "      <th>source</th>\n",
       "      <th>score</th>\n",
       "      <th>rank</th>\n",
       "    </tr>\n",
       "  </thead>\n",
       "  <tbody>\n",
       "    <tr>\n",
       "      <th>0</th>\n",
       "      <td>-7425346363469395018</td>\n",
       "      <td>910601002.0</td>\n",
       "      <td>3</td>\n",
       "      <td>0.004003</td>\n",
       "      <td>5.0</td>\n",
       "    </tr>\n",
       "    <tr>\n",
       "      <th>1</th>\n",
       "      <td>-7425346363469395018</td>\n",
       "      <td>873274002.0</td>\n",
       "      <td>3</td>\n",
       "      <td>0.002502</td>\n",
       "      <td>11.0</td>\n",
       "    </tr>\n",
       "    <tr>\n",
       "      <th>2</th>\n",
       "      <td>-7425346363469395018</td>\n",
       "      <td>915529005.0</td>\n",
       "      <td>3</td>\n",
       "      <td>0.002502</td>\n",
       "      <td>11.0</td>\n",
       "    </tr>\n",
       "    <tr>\n",
       "      <th>3</th>\n",
       "      <td>-7425346363469395018</td>\n",
       "      <td>896169002.0</td>\n",
       "      <td>3</td>\n",
       "      <td>0.003002</td>\n",
       "      <td>9.0</td>\n",
       "    </tr>\n",
       "    <tr>\n",
       "      <th>4</th>\n",
       "      <td>-7425346363469395018</td>\n",
       "      <td>736870001.0</td>\n",
       "      <td>3</td>\n",
       "      <td>0.003753</td>\n",
       "      <td>6.0</td>\n",
       "    </tr>\n",
       "    <tr>\n",
       "      <th>...</th>\n",
       "      <td>...</td>\n",
       "      <td>...</td>\n",
       "      <td>...</td>\n",
       "      <td>...</td>\n",
       "      <td>...</td>\n",
       "    </tr>\n",
       "    <tr>\n",
       "      <th>32880969</th>\n",
       "      <td>-2405428844803553396</td>\n",
       "      <td>809238001.0</td>\n",
       "      <td>3</td>\n",
       "      <td>0.003118</td>\n",
       "      <td>3.0</td>\n",
       "    </tr>\n",
       "    <tr>\n",
       "      <th>32880970</th>\n",
       "      <td>-2405428844803553396</td>\n",
       "      <td>918292001.0</td>\n",
       "      <td>3</td>\n",
       "      <td>0.002511</td>\n",
       "      <td>8.0</td>\n",
       "    </tr>\n",
       "    <tr>\n",
       "      <th>32880971</th>\n",
       "      <td>-2405428844803553396</td>\n",
       "      <td>685814001.0</td>\n",
       "      <td>3</td>\n",
       "      <td>0.002425</td>\n",
       "      <td>9.0</td>\n",
       "    </tr>\n",
       "    <tr>\n",
       "      <th>32880972</th>\n",
       "      <td>-2405428844803553396</td>\n",
       "      <td>898713001.0</td>\n",
       "      <td>3</td>\n",
       "      <td>0.002338</td>\n",
       "      <td>10.0</td>\n",
       "    </tr>\n",
       "    <tr>\n",
       "      <th>32880973</th>\n",
       "      <td>-2405428844803553396</td>\n",
       "      <td>863583001.0</td>\n",
       "      <td>3</td>\n",
       "      <td>0.002814</td>\n",
       "      <td>6.0</td>\n",
       "    </tr>\n",
       "  </tbody>\n",
       "</table>\n",
       "<p>32880974 rows × 5 columns</p>\n",
       "</div>"
      ],
      "text/plain": [
       "                  customer_id   article_id  source     score  rank\n",
       "0        -7425346363469395018  910601002.0       3  0.004003   5.0\n",
       "1        -7425346363469395018  873274002.0       3  0.002502  11.0\n",
       "2        -7425346363469395018  915529005.0       3  0.002502  11.0\n",
       "3        -7425346363469395018  896169002.0       3  0.003002   9.0\n",
       "4        -7425346363469395018  736870001.0       3  0.003753   6.0\n",
       "...                       ...          ...     ...       ...   ...\n",
       "32880969 -2405428844803553396  809238001.0       3  0.003118   3.0\n",
       "32880970 -2405428844803553396  918292001.0       3  0.002511   8.0\n",
       "32880971 -2405428844803553396  685814001.0       3  0.002425   9.0\n",
       "32880972 -2405428844803553396  898713001.0       3  0.002338  10.0\n",
       "32880973 -2405428844803553396  863583001.0       3  0.002814   6.0\n",
       "\n",
       "[32880974 rows x 5 columns]"
      ]
     },
     "execution_count": 80,
     "metadata": {},
     "output_type": "execute_result"
    }
   ],
   "source": [
    "result3"
   ]
  },
  {
   "cell_type": "code",
   "execution_count": 81,
   "id": "c8a2ab63",
   "metadata": {
    "execution": {
     "iopub.execute_input": "2022-03-27T15:27:39.857699Z",
     "iopub.status.busy": "2022-03-27T15:27:39.856866Z",
     "iopub.status.idle": "2022-03-27T15:27:39.859468Z",
     "shell.execute_reply": "2022-03-27T15:27:39.858989Z",
     "shell.execute_reply.started": "2022-03-27T15:19:41.571317Z"
    },
    "papermill": {
     "duration": 0.14449,
     "end_time": "2022-03-27T15:27:39.859578",
     "exception": false,
     "start_time": "2022-03-27T15:27:39.715088",
     "status": "completed"
    },
    "tags": []
   },
   "outputs": [],
   "source": [
    "#result3.to_csv(\"/kaggle/working/result3.csv\", index = False)"
   ]
  },
  {
   "cell_type": "markdown",
   "id": "c054f133",
   "metadata": {
    "papermill": {
     "duration": 0.13853,
     "end_time": "2022-03-27T15:27:40.136957",
     "exception": false,
     "start_time": "2022-03-27T15:27:39.998427",
     "status": "completed"
    },
    "tags": []
   },
   "source": [
    "## 混合排序"
   ]
  },
  {
   "cell_type": "code",
   "execution_count": 82,
   "id": "beedbc13",
   "metadata": {
    "execution": {
     "iopub.execute_input": "2022-03-27T15:27:40.421218Z",
     "iopub.status.busy": "2022-03-27T15:27:40.419611Z",
     "iopub.status.idle": "2022-03-27T15:27:40.421799Z",
     "shell.execute_reply": "2022-03-27T15:27:40.422227Z",
     "shell.execute_reply.started": "2022-03-27T15:19:41.590407Z"
    },
    "papermill": {
     "duration": 0.146876,
     "end_time": "2022-03-27T15:27:40.422372",
     "exception": false,
     "start_time": "2022-03-27T15:27:40.275496",
     "status": "completed"
    },
    "tags": []
   },
   "outputs": [],
   "source": [
    "#result2 = pd.read_csv(\"../input/relation/result2.csv\")\n",
    "#result1 = pd.read_csv(\"../input/relation/result1.csv\")\n",
    "#result3 = pd.read_csv(\"/kaggle/working/result3.csv\")"
   ]
  },
  {
   "cell_type": "code",
   "execution_count": 83,
   "id": "223e6ef4",
   "metadata": {
    "execution": {
     "iopub.execute_input": "2022-03-27T15:27:40.875272Z",
     "iopub.status.busy": "2022-03-27T15:27:40.874405Z",
     "iopub.status.idle": "2022-03-27T15:27:40.876600Z",
     "shell.execute_reply": "2022-03-27T15:27:40.877268Z",
     "shell.execute_reply.started": "2022-03-27T15:19:41.595266Z"
    },
    "papermill": {
     "duration": 0.237041,
     "end_time": "2022-03-27T15:27:40.877463",
     "exception": false,
     "start_time": "2022-03-27T15:27:40.640422",
     "status": "completed"
    },
    "tags": []
   },
   "outputs": [],
   "source": [
    "#result1 = pd.read_csv(\"/kaggle/working/result1.csv\")\n",
    "#result2 = pd.read_csv(\"/kaggle/working/result2.csv\")"
   ]
  },
  {
   "cell_type": "code",
   "execution_count": 84,
   "id": "8adaf6ad",
   "metadata": {
    "execution": {
     "iopub.execute_input": "2022-03-27T15:27:41.255497Z",
     "iopub.status.busy": "2022-03-27T15:27:41.254764Z",
     "iopub.status.idle": "2022-03-27T15:27:41.259134Z",
     "shell.execute_reply": "2022-03-27T15:27:41.258705Z",
     "shell.execute_reply.started": "2022-03-27T15:19:41.604681Z"
    },
    "papermill": {
     "duration": 0.158451,
     "end_time": "2022-03-27T15:27:41.259256",
     "exception": false,
     "start_time": "2022-03-27T15:27:41.100805",
     "status": "completed"
    },
    "tags": []
   },
   "outputs": [
    {
     "data": {
      "text/html": [
       "<div>\n",
       "<style scoped>\n",
       "    .dataframe tbody tr th:only-of-type {\n",
       "        vertical-align: middle;\n",
       "    }\n",
       "\n",
       "    .dataframe tbody tr th {\n",
       "        vertical-align: top;\n",
       "    }\n",
       "\n",
       "    .dataframe thead th {\n",
       "        text-align: right;\n",
       "    }\n",
       "</style>\n",
       "<table border=\"1\" class=\"dataframe\">\n",
       "  <thead>\n",
       "    <tr style=\"text-align: right;\">\n",
       "      <th></th>\n",
       "      <th>customer_id</th>\n",
       "      <th>article_id</th>\n",
       "      <th>source</th>\n",
       "      <th>score</th>\n",
       "      <th>rank</th>\n",
       "    </tr>\n",
       "  </thead>\n",
       "  <tbody>\n",
       "    <tr>\n",
       "      <th>0</th>\n",
       "      <td>-7425346363469395018</td>\n",
       "      <td>910601002.0</td>\n",
       "      <td>3</td>\n",
       "      <td>0.004003</td>\n",
       "      <td>5.0</td>\n",
       "    </tr>\n",
       "    <tr>\n",
       "      <th>1</th>\n",
       "      <td>-7425346363469395018</td>\n",
       "      <td>873274002.0</td>\n",
       "      <td>3</td>\n",
       "      <td>0.002502</td>\n",
       "      <td>11.0</td>\n",
       "    </tr>\n",
       "    <tr>\n",
       "      <th>2</th>\n",
       "      <td>-7425346363469395018</td>\n",
       "      <td>915529005.0</td>\n",
       "      <td>3</td>\n",
       "      <td>0.002502</td>\n",
       "      <td>11.0</td>\n",
       "    </tr>\n",
       "    <tr>\n",
       "      <th>3</th>\n",
       "      <td>-7425346363469395018</td>\n",
       "      <td>896169002.0</td>\n",
       "      <td>3</td>\n",
       "      <td>0.003002</td>\n",
       "      <td>9.0</td>\n",
       "    </tr>\n",
       "    <tr>\n",
       "      <th>4</th>\n",
       "      <td>-7425346363469395018</td>\n",
       "      <td>736870001.0</td>\n",
       "      <td>3</td>\n",
       "      <td>0.003753</td>\n",
       "      <td>6.0</td>\n",
       "    </tr>\n",
       "    <tr>\n",
       "      <th>...</th>\n",
       "      <td>...</td>\n",
       "      <td>...</td>\n",
       "      <td>...</td>\n",
       "      <td>...</td>\n",
       "      <td>...</td>\n",
       "    </tr>\n",
       "    <tr>\n",
       "      <th>32880969</th>\n",
       "      <td>-2405428844803553396</td>\n",
       "      <td>809238001.0</td>\n",
       "      <td>3</td>\n",
       "      <td>0.003118</td>\n",
       "      <td>3.0</td>\n",
       "    </tr>\n",
       "    <tr>\n",
       "      <th>32880970</th>\n",
       "      <td>-2405428844803553396</td>\n",
       "      <td>918292001.0</td>\n",
       "      <td>3</td>\n",
       "      <td>0.002511</td>\n",
       "      <td>8.0</td>\n",
       "    </tr>\n",
       "    <tr>\n",
       "      <th>32880971</th>\n",
       "      <td>-2405428844803553396</td>\n",
       "      <td>685814001.0</td>\n",
       "      <td>3</td>\n",
       "      <td>0.002425</td>\n",
       "      <td>9.0</td>\n",
       "    </tr>\n",
       "    <tr>\n",
       "      <th>32880972</th>\n",
       "      <td>-2405428844803553396</td>\n",
       "      <td>898713001.0</td>\n",
       "      <td>3</td>\n",
       "      <td>0.002338</td>\n",
       "      <td>10.0</td>\n",
       "    </tr>\n",
       "    <tr>\n",
       "      <th>32880973</th>\n",
       "      <td>-2405428844803553396</td>\n",
       "      <td>863583001.0</td>\n",
       "      <td>3</td>\n",
       "      <td>0.002814</td>\n",
       "      <td>6.0</td>\n",
       "    </tr>\n",
       "  </tbody>\n",
       "</table>\n",
       "<p>32880974 rows × 5 columns</p>\n",
       "</div>"
      ],
      "text/plain": [
       "                  customer_id   article_id  source     score  rank\n",
       "0        -7425346363469395018  910601002.0       3  0.004003   5.0\n",
       "1        -7425346363469395018  873274002.0       3  0.002502  11.0\n",
       "2        -7425346363469395018  915529005.0       3  0.002502  11.0\n",
       "3        -7425346363469395018  896169002.0       3  0.003002   9.0\n",
       "4        -7425346363469395018  736870001.0       3  0.003753   6.0\n",
       "...                       ...          ...     ...       ...   ...\n",
       "32880969 -2405428844803553396  809238001.0       3  0.003118   3.0\n",
       "32880970 -2405428844803553396  918292001.0       3  0.002511   8.0\n",
       "32880971 -2405428844803553396  685814001.0       3  0.002425   9.0\n",
       "32880972 -2405428844803553396  898713001.0       3  0.002338  10.0\n",
       "32880973 -2405428844803553396  863583001.0       3  0.002814   6.0\n",
       "\n",
       "[32880974 rows x 5 columns]"
      ]
     },
     "execution_count": 84,
     "metadata": {},
     "output_type": "execute_result"
    }
   ],
   "source": [
    "result3"
   ]
  },
  {
   "cell_type": "code",
   "execution_count": 85,
   "id": "04557f06",
   "metadata": {
    "execution": {
     "iopub.execute_input": "2022-03-27T15:27:41.554495Z",
     "iopub.status.busy": "2022-03-27T15:27:41.553630Z",
     "iopub.status.idle": "2022-03-27T15:27:41.555892Z",
     "shell.execute_reply": "2022-03-27T15:27:41.555389Z",
     "shell.execute_reply.started": "2022-03-27T15:19:41.622974Z"
    },
    "papermill": {
     "duration": 0.157352,
     "end_time": "2022-03-27T15:27:41.556002",
     "exception": false,
     "start_time": "2022-03-27T15:27:41.398650",
     "status": "completed"
    },
    "tags": []
   },
   "outputs": [],
   "source": [
    "#assert False"
   ]
  },
  {
   "cell_type": "code",
   "execution_count": 86,
   "id": "1f4ac1b0",
   "metadata": {
    "execution": {
     "iopub.execute_input": "2022-03-27T15:27:41.839319Z",
     "iopub.status.busy": "2022-03-27T15:27:41.837773Z",
     "iopub.status.idle": "2022-03-27T15:27:41.839913Z",
     "shell.execute_reply": "2022-03-27T15:27:41.840349Z",
     "shell.execute_reply.started": "2022-03-27T15:19:41.630913Z"
    },
    "papermill": {
     "duration": 0.145063,
     "end_time": "2022-03-27T15:27:41.840492",
     "exception": false,
     "start_time": "2022-03-27T15:27:41.695429",
     "status": "completed"
    },
    "tags": []
   },
   "outputs": [],
   "source": [
    "# del result1\n",
    "# del result2\n",
    "# del result3"
   ]
  },
  {
   "cell_type": "code",
   "execution_count": 87,
   "id": "88505767",
   "metadata": {
    "execution": {
     "iopub.execute_input": "2022-03-27T15:27:42.138410Z",
     "iopub.status.busy": "2022-03-27T15:27:42.137305Z",
     "iopub.status.idle": "2022-03-27T15:27:43.290492Z",
     "shell.execute_reply": "2022-03-27T15:27:43.289966Z",
     "shell.execute_reply.started": "2022-03-27T15:19:41.639401Z"
    },
    "papermill": {
     "duration": 1.303491,
     "end_time": "2022-03-27T15:27:43.290628",
     "exception": false,
     "start_time": "2022-03-27T15:27:41.987137",
     "status": "completed"
    },
    "tags": []
   },
   "outputs": [],
   "source": [
    "result = pd.concat([result1, result2, result3], axis = 0)"
   ]
  },
  {
   "cell_type": "code",
   "execution_count": 88,
   "id": "56a308ea",
   "metadata": {
    "execution": {
     "iopub.execute_input": "2022-03-27T15:27:43.579313Z",
     "iopub.status.busy": "2022-03-27T15:27:43.578287Z",
     "iopub.status.idle": "2022-03-27T15:27:43.580772Z",
     "shell.execute_reply": "2022-03-27T15:27:43.580258Z",
     "shell.execute_reply.started": "2022-03-27T15:19:42.799722Z"
    },
    "papermill": {
     "duration": 0.147045,
     "end_time": "2022-03-27T15:27:43.580882",
     "exception": false,
     "start_time": "2022-03-27T15:27:43.433837",
     "status": "completed"
    },
    "tags": []
   },
   "outputs": [],
   "source": [
    "# 调整融合结果"
   ]
  },
  {
   "cell_type": "code",
   "execution_count": 89,
   "id": "5791c28a",
   "metadata": {
    "execution": {
     "iopub.execute_input": "2022-03-27T15:27:43.864624Z",
     "iopub.status.busy": "2022-03-27T15:27:43.863802Z",
     "iopub.status.idle": "2022-03-27T15:27:43.865851Z",
     "shell.execute_reply": "2022-03-27T15:27:43.866251Z",
     "shell.execute_reply.started": "2022-03-27T15:19:42.808092Z"
    },
    "papermill": {
     "duration": 0.14579,
     "end_time": "2022-03-27T15:27:43.866398",
     "exception": false,
     "start_time": "2022-03-27T15:27:43.720608",
     "status": "completed"
    },
    "tags": []
   },
   "outputs": [],
   "source": [
    "#result = result3.copy()"
   ]
  },
  {
   "cell_type": "code",
   "execution_count": 90,
   "id": "03f1c255",
   "metadata": {
    "execution": {
     "iopub.execute_input": "2022-03-27T15:27:44.278910Z",
     "iopub.status.busy": "2022-03-27T15:27:44.278201Z",
     "iopub.status.idle": "2022-03-27T15:27:44.281099Z",
     "shell.execute_reply": "2022-03-27T15:27:44.281638Z",
     "shell.execute_reply.started": "2022-03-27T15:19:42.816175Z"
    },
    "papermill": {
     "duration": 0.27662,
     "end_time": "2022-03-27T15:27:44.281798",
     "exception": false,
     "start_time": "2022-03-27T15:27:44.005178",
     "status": "completed"
    },
    "tags": []
   },
   "outputs": [
    {
     "data": {
      "text/plain": [
       "126"
      ]
     },
     "execution_count": 90,
     "metadata": {},
     "output_type": "execute_result"
    }
   ],
   "source": [
    "gc.collect()"
   ]
  },
  {
   "cell_type": "code",
   "execution_count": 91,
   "id": "1958e008",
   "metadata": {
    "execution": {
     "iopub.execute_input": "2022-03-27T15:27:44.569810Z",
     "iopub.status.busy": "2022-03-27T15:27:44.568975Z",
     "iopub.status.idle": "2022-03-27T15:27:44.571032Z",
     "shell.execute_reply": "2022-03-27T15:27:44.571406Z",
     "shell.execute_reply.started": "2022-03-27T15:19:42.954317Z"
    },
    "papermill": {
     "duration": 0.149803,
     "end_time": "2022-03-27T15:27:44.571539",
     "exception": false,
     "start_time": "2022-03-27T15:27:44.421736",
     "status": "completed"
    },
    "tags": []
   },
   "outputs": [],
   "source": [
    "result.index = range(len(result))"
   ]
  },
  {
   "cell_type": "code",
   "execution_count": 92,
   "id": "8eca6105",
   "metadata": {
    "execution": {
     "iopub.execute_input": "2022-03-27T15:27:44.860936Z",
     "iopub.status.busy": "2022-03-27T15:27:44.860033Z",
     "iopub.status.idle": "2022-03-27T15:27:46.445958Z",
     "shell.execute_reply": "2022-03-27T15:27:46.445122Z",
     "shell.execute_reply.started": "2022-03-27T15:19:42.962753Z"
    },
    "papermill": {
     "duration": 1.735386,
     "end_time": "2022-03-27T15:27:46.446107",
     "exception": false,
     "start_time": "2022-03-27T15:27:44.710721",
     "status": "completed"
    },
    "tags": []
   },
   "outputs": [],
   "source": [
    "result.loc[result[\"source\"] == 3, \"score\"] *= 0.8"
   ]
  },
  {
   "cell_type": "code",
   "execution_count": 93,
   "id": "34edfe7d",
   "metadata": {
    "execution": {
     "iopub.execute_input": "2022-03-27T15:27:46.731134Z",
     "iopub.status.busy": "2022-03-27T15:27:46.730354Z",
     "iopub.status.idle": "2022-03-27T15:27:46.732986Z",
     "shell.execute_reply": "2022-03-27T15:27:46.732572Z",
     "shell.execute_reply.started": "2022-03-27T15:19:44.549337Z"
    },
    "papermill": {
     "duration": 0.145713,
     "end_time": "2022-03-27T15:27:46.733111",
     "exception": false,
     "start_time": "2022-03-27T15:27:46.587398",
     "status": "completed"
    },
    "tags": []
   },
   "outputs": [],
   "source": [
    "#del result1\n",
    "#del result2\n",
    "#del sub_customer"
   ]
  },
  {
   "cell_type": "code",
   "execution_count": 94,
   "id": "4810a9bc",
   "metadata": {
    "execution": {
     "iopub.execute_input": "2022-03-27T15:27:47.017429Z",
     "iopub.status.busy": "2022-03-27T15:27:47.016431Z",
     "iopub.status.idle": "2022-03-27T15:27:48.048092Z",
     "shell.execute_reply": "2022-03-27T15:27:48.047614Z",
     "shell.execute_reply.started": "2022-03-27T15:19:44.555039Z"
    },
    "papermill": {
     "duration": 1.175879,
     "end_time": "2022-03-27T15:27:48.048228",
     "exception": false,
     "start_time": "2022-03-27T15:27:46.872349",
     "status": "completed"
    },
    "tags": []
   },
   "outputs": [],
   "source": [
    "result = cudf.DataFrame(result, dtype={'article_id': 'int32', 'customer_id':'int64'})"
   ]
  },
  {
   "cell_type": "code",
   "execution_count": 95,
   "id": "a6935f85",
   "metadata": {
    "execution": {
     "iopub.execute_input": "2022-03-27T15:27:48.335457Z",
     "iopub.status.busy": "2022-03-27T15:27:48.334595Z",
     "iopub.status.idle": "2022-03-27T15:27:48.392478Z",
     "shell.execute_reply": "2022-03-27T15:27:48.392865Z",
     "shell.execute_reply.started": "2022-03-27T15:19:45.561469Z"
    },
    "papermill": {
     "duration": 0.202526,
     "end_time": "2022-03-27T15:27:48.393011",
     "exception": false,
     "start_time": "2022-03-27T15:27:48.190485",
     "status": "completed"
    },
    "tags": []
   },
   "outputs": [
    {
     "data": {
      "text/html": [
       "<div>\n",
       "<style scoped>\n",
       "    .dataframe tbody tr th:only-of-type {\n",
       "        vertical-align: middle;\n",
       "    }\n",
       "\n",
       "    .dataframe tbody tr th {\n",
       "        vertical-align: top;\n",
       "    }\n",
       "\n",
       "    .dataframe thead th {\n",
       "        text-align: right;\n",
       "    }\n",
       "</style>\n",
       "<table border=\"1\" class=\"dataframe\">\n",
       "  <thead>\n",
       "    <tr style=\"text-align: right;\">\n",
       "      <th></th>\n",
       "      <th>customer_id</th>\n",
       "      <th>article_id</th>\n",
       "      <th>source</th>\n",
       "      <th>score</th>\n",
       "      <th>rank</th>\n",
       "    </tr>\n",
       "  </thead>\n",
       "  <tbody>\n",
       "    <tr>\n",
       "      <th>0</th>\n",
       "      <td>-9223352921020755230</td>\n",
       "      <td>568597006</td>\n",
       "      <td>1</td>\n",
       "      <td>0.000559</td>\n",
       "      <td>5.0</td>\n",
       "    </tr>\n",
       "    <tr>\n",
       "      <th>1</th>\n",
       "      <td>-9223352921020755230</td>\n",
       "      <td>673396002</td>\n",
       "      <td>1</td>\n",
       "      <td>0.044511</td>\n",
       "      <td>1.0</td>\n",
       "    </tr>\n",
       "    <tr>\n",
       "      <th>2</th>\n",
       "      <td>-9223352921020755230</td>\n",
       "      <td>706016001</td>\n",
       "      <td>1</td>\n",
       "      <td>0.003289</td>\n",
       "      <td>4.0</td>\n",
       "    </tr>\n",
       "    <tr>\n",
       "      <th>3</th>\n",
       "      <td>-9223352921020755230</td>\n",
       "      <td>812167004</td>\n",
       "      <td>1</td>\n",
       "      <td>0.019179</td>\n",
       "      <td>2.0</td>\n",
       "    </tr>\n",
       "    <tr>\n",
       "      <th>4</th>\n",
       "      <td>-9223352921020755230</td>\n",
       "      <td>849493006</td>\n",
       "      <td>1</td>\n",
       "      <td>0.006174</td>\n",
       "      <td>3.0</td>\n",
       "    </tr>\n",
       "    <tr>\n",
       "      <th>...</th>\n",
       "      <td>...</td>\n",
       "      <td>...</td>\n",
       "      <td>...</td>\n",
       "      <td>...</td>\n",
       "      <td>...</td>\n",
       "    </tr>\n",
       "    <tr>\n",
       "      <th>43579613</th>\n",
       "      <td>-2405428844803553396</td>\n",
       "      <td>809238001</td>\n",
       "      <td>3</td>\n",
       "      <td>0.002494</td>\n",
       "      <td>3.0</td>\n",
       "    </tr>\n",
       "    <tr>\n",
       "      <th>43579614</th>\n",
       "      <td>-2405428844803553396</td>\n",
       "      <td>918292001</td>\n",
       "      <td>3</td>\n",
       "      <td>0.002009</td>\n",
       "      <td>8.0</td>\n",
       "    </tr>\n",
       "    <tr>\n",
       "      <th>43579615</th>\n",
       "      <td>-2405428844803553396</td>\n",
       "      <td>685814001</td>\n",
       "      <td>3</td>\n",
       "      <td>0.001940</td>\n",
       "      <td>9.0</td>\n",
       "    </tr>\n",
       "    <tr>\n",
       "      <th>43579616</th>\n",
       "      <td>-2405428844803553396</td>\n",
       "      <td>898713001</td>\n",
       "      <td>3</td>\n",
       "      <td>0.001871</td>\n",
       "      <td>10.0</td>\n",
       "    </tr>\n",
       "    <tr>\n",
       "      <th>43579617</th>\n",
       "      <td>-2405428844803553396</td>\n",
       "      <td>863583001</td>\n",
       "      <td>3</td>\n",
       "      <td>0.002252</td>\n",
       "      <td>6.0</td>\n",
       "    </tr>\n",
       "  </tbody>\n",
       "</table>\n",
       "<p>43579618 rows × 5 columns</p>\n",
       "</div>"
      ],
      "text/plain": [
       "                  customer_id  article_id  source     score  rank\n",
       "0        -9223352921020755230   568597006       1  0.000559   5.0\n",
       "1        -9223352921020755230   673396002       1  0.044511   1.0\n",
       "2        -9223352921020755230   706016001       1  0.003289   4.0\n",
       "3        -9223352921020755230   812167004       1  0.019179   2.0\n",
       "4        -9223352921020755230   849493006       1  0.006174   3.0\n",
       "...                       ...         ...     ...       ...   ...\n",
       "43579613 -2405428844803553396   809238001       3  0.002494   3.0\n",
       "43579614 -2405428844803553396   918292001       3  0.002009   8.0\n",
       "43579615 -2405428844803553396   685814001       3  0.001940   9.0\n",
       "43579616 -2405428844803553396   898713001       3  0.001871  10.0\n",
       "43579617 -2405428844803553396   863583001       3  0.002252   6.0\n",
       "\n",
       "[43579618 rows x 5 columns]"
      ]
     },
     "execution_count": 95,
     "metadata": {},
     "output_type": "execute_result"
    }
   ],
   "source": [
    "result"
   ]
  },
  {
   "cell_type": "code",
   "execution_count": 96,
   "id": "648437be",
   "metadata": {
    "execution": {
     "iopub.execute_input": "2022-03-27T15:27:48.678006Z",
     "iopub.status.busy": "2022-03-27T15:27:48.677231Z",
     "iopub.status.idle": "2022-03-27T15:27:48.679648Z",
     "shell.execute_reply": "2022-03-27T15:27:48.679246Z",
     "shell.execute_reply.started": "2022-03-27T15:19:45.645126Z"
    },
    "papermill": {
     "duration": 0.146324,
     "end_time": "2022-03-27T15:27:48.679757",
     "exception": false,
     "start_time": "2022-03-27T15:27:48.533433",
     "status": "completed"
    },
    "tags": []
   },
   "outputs": [],
   "source": [
    "#merge_result = result.groupby([\"customer_id\", \"article_id\"]).apply(lambda x:x.nlargest(1, \"score\"))"
   ]
  },
  {
   "cell_type": "code",
   "execution_count": 97,
   "id": "e2778a12",
   "metadata": {
    "execution": {
     "iopub.execute_input": "2022-03-27T15:27:48.967986Z",
     "iopub.status.busy": "2022-03-27T15:27:48.967295Z",
     "iopub.status.idle": "2022-03-27T15:27:49.118223Z",
     "shell.execute_reply": "2022-03-27T15:27:49.117774Z",
     "shell.execute_reply.started": "2022-03-27T15:19:45.650479Z"
    },
    "papermill": {
     "duration": 0.298904,
     "end_time": "2022-03-27T15:27:49.118347",
     "exception": false,
     "start_time": "2022-03-27T15:27:48.819443",
     "status": "completed"
    },
    "tags": []
   },
   "outputs": [],
   "source": [
    "merge_result = result.groupby([\"customer_id\", \"article_id\"])['score'].max().reset_index()"
   ]
  },
  {
   "cell_type": "code",
   "execution_count": 98,
   "id": "5a6cc402",
   "metadata": {
    "execution": {
     "iopub.execute_input": "2022-03-27T15:27:49.417218Z",
     "iopub.status.busy": "2022-03-27T15:27:49.416378Z",
     "iopub.status.idle": "2022-03-27T15:27:49.418860Z",
     "shell.execute_reply": "2022-03-27T15:27:49.418444Z",
     "shell.execute_reply.started": "2022-03-27T15:19:45.806884Z"
    },
    "papermill": {
     "duration": 0.153441,
     "end_time": "2022-03-27T15:27:49.418976",
     "exception": false,
     "start_time": "2022-03-27T15:27:49.265535",
     "status": "completed"
    },
    "tags": []
   },
   "outputs": [],
   "source": [
    "# del result"
   ]
  },
  {
   "cell_type": "code",
   "execution_count": 99,
   "id": "2b3973be",
   "metadata": {
    "execution": {
     "iopub.execute_input": "2022-03-27T15:27:49.711246Z",
     "iopub.status.busy": "2022-03-27T15:27:49.710500Z",
     "iopub.status.idle": "2022-03-27T15:27:49.712971Z",
     "shell.execute_reply": "2022-03-27T15:27:49.712477Z",
     "shell.execute_reply.started": "2022-03-27T15:19:45.812672Z"
    },
    "papermill": {
     "duration": 0.148107,
     "end_time": "2022-03-27T15:27:49.713108",
     "exception": false,
     "start_time": "2022-03-27T15:27:49.565001",
     "status": "completed"
    },
    "tags": []
   },
   "outputs": [],
   "source": [
    "# purchase_df = tmp.sort_values(['customer_id', 'value'], ascending = False).reset_index(drop = True)\n",
    "# purchase_df['prediction'] = '0' + purchase_df['article_id'].astype(str) + ' '\n",
    "# purchase_df = purchase_df.groupby('customer_id').agg({'prediction': sum}).reset_index()\n",
    "# purchase_df['prediction'] = purchase_df['prediction'].str.strip()\n",
    "# purchase_df = cudf.DataFrame(purchase_df)"
   ]
  },
  {
   "cell_type": "code",
   "execution_count": 100,
   "id": "eee465c1",
   "metadata": {
    "execution": {
     "iopub.execute_input": "2022-03-27T15:27:49.997387Z",
     "iopub.status.busy": "2022-03-27T15:27:49.995050Z",
     "iopub.status.idle": "2022-03-27T15:27:49.999710Z",
     "shell.execute_reply": "2022-03-27T15:27:49.999277Z",
     "shell.execute_reply.started": "2022-03-27T15:19:45.821250Z"
    },
    "papermill": {
     "duration": 0.146863,
     "end_time": "2022-03-27T15:27:49.999817",
     "exception": false,
     "start_time": "2022-03-27T15:27:49.852954",
     "status": "completed"
    },
    "tags": []
   },
   "outputs": [],
   "source": [
    "# %%time\n",
    "# purchase_dict = {}\n",
    "\n",
    "# tmp = df.copy().to_pandas()\n",
    "# tmp['x'] = ((last_ts - tmp['t_dat']) / np.timedelta64(1, 'D')).astype(int)\n",
    "# tmp['dummy_1'] = 1 \n",
    "# tmp['x'] = tmp[[\"x\", \"dummy_1\"]].max(axis=1)\n",
    "\n",
    "# a, b, c, d = 2.5e4, 1.5e5, 2e-1, 1e3\n",
    "# total = 1715530\n",
    "# tmp['y'] = (a / np.sqrt(tmp['x']) + b * np.exp(-c*tmp['x']) - d) / total\n",
    "\n",
    "# tmp['dummy_0'] = 0 \n",
    "# tmp['y'] = tmp[[\"y\", \"dummy_0\"]].max(axis=1)\n",
    "# tmp['value'] = tmp['quotient'] * tmp['y'] \n",
    "\n",
    "# tmp = tmp.groupby(['customer_id', 'article_id']).agg({'value': 'sum'})\n",
    "# tmp = tmp.reset_index()\n",
    "\n",
    "# tmp = tmp.loc[tmp['value'] > 0]\n",
    "# tmp['rank'] = tmp.groupby(\"customer_id\")[\"value\"].rank(\"dense\", ascending=False)\n",
    "# tmp = tmp.loc[tmp['rank'] <= 12]\n",
    "\n",
    "# # for customer_id in tmp['customer_id'].unique():\n",
    "# #     purchase_dict[customer_id] = {} \n",
    "\n",
    "# # for customer_id, article_id, value in zip(tmp['customer_id'], tmp['article_id'], tmp['value']):\n",
    "# #     purchase_dict[customer_id][article_id] = value\n",
    "\n",
    "# purchase_df = tmp.sort_values(['customer_id', 'value'], ascending = False).reset_index(drop = True)\n",
    "# purchase_df['prediction'] = '0' + purchase_df['article_id'].astype(str) + ' '\n",
    "# purchase_df = purchase_df.groupby('customer_id').agg({'prediction': sum}).reset_index()\n",
    "# purchase_df['prediction'] = purchase_df['prediction'].str.strip()\n",
    "# purchase_df = cudf.DataFrame(purchase_df)"
   ]
  },
  {
   "cell_type": "markdown",
   "id": "1d0e0c5f",
   "metadata": {
    "papermill": {
     "duration": 0.140163,
     "end_time": "2022-03-27T15:27:50.280760",
     "exception": false,
     "start_time": "2022-03-27T15:27:50.140597",
     "status": "completed"
    },
    "tags": []
   },
   "source": [
    "### Make a submission"
   ]
  },
  {
   "cell_type": "code",
   "execution_count": 101,
   "id": "239dbf33",
   "metadata": {
    "execution": {
     "iopub.execute_input": "2022-03-27T15:27:50.569087Z",
     "iopub.status.busy": "2022-03-27T15:27:50.568312Z",
     "iopub.status.idle": "2022-03-27T15:27:50.631714Z",
     "shell.execute_reply": "2022-03-27T15:27:50.631265Z",
     "shell.execute_reply.started": "2022-03-27T15:19:45.829906Z"
    },
    "papermill": {
     "duration": 0.208931,
     "end_time": "2022-03-27T15:27:50.631827",
     "exception": false,
     "start_time": "2022-03-27T15:27:50.422896",
     "status": "completed"
    },
    "tags": []
   },
   "outputs": [],
   "source": [
    "merge_result[\"article_id\"] = \"0\"+merge_result[\"article_id\"].astype(\"str\")"
   ]
  },
  {
   "cell_type": "code",
   "execution_count": 102,
   "id": "66b103b5",
   "metadata": {
    "execution": {
     "iopub.execute_input": "2022-03-27T15:27:50.926672Z",
     "iopub.status.busy": "2022-03-27T15:27:50.925826Z",
     "iopub.status.idle": "2022-03-27T15:27:50.963794Z",
     "shell.execute_reply": "2022-03-27T15:27:50.964225Z",
     "shell.execute_reply.started": "2022-03-27T15:19:45.907217Z"
    },
    "papermill": {
     "duration": 0.19219,
     "end_time": "2022-03-27T15:27:50.964389",
     "exception": false,
     "start_time": "2022-03-27T15:27:50.772199",
     "status": "completed"
    },
    "tags": []
   },
   "outputs": [
    {
     "data": {
      "text/html": [
       "<div>\n",
       "<style scoped>\n",
       "    .dataframe tbody tr th:only-of-type {\n",
       "        vertical-align: middle;\n",
       "    }\n",
       "\n",
       "    .dataframe tbody tr th {\n",
       "        vertical-align: top;\n",
       "    }\n",
       "\n",
       "    .dataframe thead th {\n",
       "        text-align: right;\n",
       "    }\n",
       "</style>\n",
       "<table border=\"1\" class=\"dataframe\">\n",
       "  <thead>\n",
       "    <tr style=\"text-align: right;\">\n",
       "      <th></th>\n",
       "      <th>customer_id</th>\n",
       "      <th>article_id</th>\n",
       "      <th>score</th>\n",
       "    </tr>\n",
       "  </thead>\n",
       "  <tbody>\n",
       "    <tr>\n",
       "      <th>0</th>\n",
       "      <td>-5135781259237087037</td>\n",
       "      <td>0517729091</td>\n",
       "      <td>0.000325</td>\n",
       "    </tr>\n",
       "    <tr>\n",
       "      <th>1</th>\n",
       "      <td>-5624871500914218579</td>\n",
       "      <td>0751471001</td>\n",
       "      <td>0.002880</td>\n",
       "    </tr>\n",
       "    <tr>\n",
       "      <th>2</th>\n",
       "      <td>-7970946427098838191</td>\n",
       "      <td>0763988001</td>\n",
       "      <td>0.005507</td>\n",
       "    </tr>\n",
       "    <tr>\n",
       "      <th>3</th>\n",
       "      <td>9104575062053714894</td>\n",
       "      <td>0706016001</td>\n",
       "      <td>0.009338</td>\n",
       "    </tr>\n",
       "    <tr>\n",
       "      <th>4</th>\n",
       "      <td>7460620878329655984</td>\n",
       "      <td>0762846027</td>\n",
       "      <td>0.002295</td>\n",
       "    </tr>\n",
       "    <tr>\n",
       "      <th>...</th>\n",
       "      <td>...</td>\n",
       "      <td>...</td>\n",
       "      <td>...</td>\n",
       "    </tr>\n",
       "    <tr>\n",
       "      <th>42789925</th>\n",
       "      <td>1656649288221461275</td>\n",
       "      <td>0542533019</td>\n",
       "      <td>0.000484</td>\n",
       "    </tr>\n",
       "    <tr>\n",
       "      <th>42789926</th>\n",
       "      <td>-2592629029746870892</td>\n",
       "      <td>0797835008</td>\n",
       "      <td>0.005228</td>\n",
       "    </tr>\n",
       "    <tr>\n",
       "      <th>42789927</th>\n",
       "      <td>2024975388967780640</td>\n",
       "      <td>0918522001</td>\n",
       "      <td>0.003060</td>\n",
       "    </tr>\n",
       "    <tr>\n",
       "      <th>42789928</th>\n",
       "      <td>1670701978794802176</td>\n",
       "      <td>0713199006</td>\n",
       "      <td>0.000132</td>\n",
       "    </tr>\n",
       "    <tr>\n",
       "      <th>42789929</th>\n",
       "      <td>193248874012082528</td>\n",
       "      <td>0909371001</td>\n",
       "      <td>0.001495</td>\n",
       "    </tr>\n",
       "  </tbody>\n",
       "</table>\n",
       "<p>42789930 rows × 3 columns</p>\n",
       "</div>"
      ],
      "text/plain": [
       "                  customer_id  article_id     score\n",
       "0        -5135781259237087037  0517729091  0.000325\n",
       "1        -5624871500914218579  0751471001  0.002880\n",
       "2        -7970946427098838191  0763988001  0.005507\n",
       "3         9104575062053714894  0706016001  0.009338\n",
       "4         7460620878329655984  0762846027  0.002295\n",
       "...                       ...         ...       ...\n",
       "42789925  1656649288221461275  0542533019  0.000484\n",
       "42789926 -2592629029746870892  0797835008  0.005228\n",
       "42789927  2024975388967780640  0918522001  0.003060\n",
       "42789928  1670701978794802176  0713199006  0.000132\n",
       "42789929   193248874012082528  0909371001  0.001495\n",
       "\n",
       "[42789930 rows x 3 columns]"
      ]
     },
     "execution_count": 102,
     "metadata": {},
     "output_type": "execute_result"
    }
   ],
   "source": [
    "merge_result"
   ]
  },
  {
   "cell_type": "code",
   "execution_count": 103,
   "id": "557b009c",
   "metadata": {
    "execution": {
     "iopub.execute_input": "2022-03-27T15:27:51.279815Z",
     "iopub.status.busy": "2022-03-27T15:27:51.278931Z",
     "iopub.status.idle": "2022-03-27T15:27:51.877546Z",
     "shell.execute_reply": "2022-03-27T15:27:51.878620Z",
     "shell.execute_reply.started": "2022-03-27T15:19:45.962391Z"
    },
    "papermill": {
     "duration": 0.758123,
     "end_time": "2022-03-27T15:27:51.878825",
     "exception": false,
     "start_time": "2022-03-27T15:27:51.120702",
     "status": "completed"
    },
    "tags": []
   },
   "outputs": [],
   "source": [
    "merge_result = merge_result.sort_values(by = [\"customer_id\", \"score\"], ascending = False)"
   ]
  },
  {
   "cell_type": "code",
   "execution_count": 104,
   "id": "925531be",
   "metadata": {
    "execution": {
     "iopub.execute_input": "2022-03-27T15:27:52.244709Z",
     "iopub.status.busy": "2022-03-27T15:27:52.243795Z",
     "iopub.status.idle": "2022-03-27T15:27:52.246072Z",
     "shell.execute_reply": "2022-03-27T15:27:52.246513Z",
     "shell.execute_reply.started": "2022-03-27T15:19:46.564908Z"
    },
    "papermill": {
     "duration": 0.166292,
     "end_time": "2022-03-27T15:27:52.246666",
     "exception": false,
     "start_time": "2022-03-27T15:27:52.080374",
     "status": "completed"
    },
    "tags": []
   },
   "outputs": [],
   "source": [
    "#merge_result.to_pandas()[:10000].groupby([\"customer_id\"])[\"article_id\"].agg(lambda x: print(x.to_list()))"
   ]
  },
  {
   "cell_type": "code",
   "execution_count": 105,
   "id": "065eb917",
   "metadata": {
    "execution": {
     "iopub.execute_input": "2022-03-27T15:27:52.555809Z",
     "iopub.status.busy": "2022-03-27T15:27:52.554968Z",
     "iopub.status.idle": "2022-03-27T15:27:52.595682Z",
     "shell.execute_reply": "2022-03-27T15:27:52.596101Z",
     "shell.execute_reply.started": "2022-03-27T15:19:46.571302Z"
    },
    "papermill": {
     "duration": 0.19651,
     "end_time": "2022-03-27T15:27:52.596252",
     "exception": false,
     "start_time": "2022-03-27T15:27:52.399742",
     "status": "completed"
    },
    "tags": []
   },
   "outputs": [
    {
     "data": {
      "text/html": [
       "<div>\n",
       "<style scoped>\n",
       "    .dataframe tbody tr th:only-of-type {\n",
       "        vertical-align: middle;\n",
       "    }\n",
       "\n",
       "    .dataframe tbody tr th {\n",
       "        vertical-align: top;\n",
       "    }\n",
       "\n",
       "    .dataframe thead th {\n",
       "        text-align: right;\n",
       "    }\n",
       "</style>\n",
       "<table border=\"1\" class=\"dataframe\">\n",
       "  <thead>\n",
       "    <tr style=\"text-align: right;\">\n",
       "      <th></th>\n",
       "      <th>customer_id</th>\n",
       "      <th>article_id</th>\n",
       "      <th>score</th>\n",
       "    </tr>\n",
       "  </thead>\n",
       "  <tbody>\n",
       "    <tr>\n",
       "      <th>41094896</th>\n",
       "      <td>9223370729206611574</td>\n",
       "      <td>0909370001</td>\n",
       "      <td>0.006153</td>\n",
       "    </tr>\n",
       "    <tr>\n",
       "      <th>8535733</th>\n",
       "      <td>9223370729206611574</td>\n",
       "      <td>0909371001</td>\n",
       "      <td>0.004058</td>\n",
       "    </tr>\n",
       "    <tr>\n",
       "      <th>989138</th>\n",
       "      <td>9223370729206611574</td>\n",
       "      <td>0805947001</td>\n",
       "      <td>0.002095</td>\n",
       "    </tr>\n",
       "    <tr>\n",
       "      <th>1309826</th>\n",
       "      <td>9223370729206611574</td>\n",
       "      <td>0908799002</td>\n",
       "      <td>0.001833</td>\n",
       "    </tr>\n",
       "    <tr>\n",
       "      <th>2527303</th>\n",
       "      <td>9223370729206611574</td>\n",
       "      <td>0935892001</td>\n",
       "      <td>0.001833</td>\n",
       "    </tr>\n",
       "    <tr>\n",
       "      <th>...</th>\n",
       "      <td>...</td>\n",
       "      <td>...</td>\n",
       "      <td>...</td>\n",
       "    </tr>\n",
       "    <tr>\n",
       "      <th>42431249</th>\n",
       "      <td>-9223352921020755230</td>\n",
       "      <td>0562245046</td>\n",
       "      <td>0.002872</td>\n",
       "    </tr>\n",
       "    <tr>\n",
       "      <th>20839021</th>\n",
       "      <td>-9223352921020755230</td>\n",
       "      <td>0751471001</td>\n",
       "      <td>0.002558</td>\n",
       "    </tr>\n",
       "    <tr>\n",
       "      <th>32816846</th>\n",
       "      <td>-9223352921020755230</td>\n",
       "      <td>0372860002</td>\n",
       "      <td>0.002471</td>\n",
       "    </tr>\n",
       "    <tr>\n",
       "      <th>37625351</th>\n",
       "      <td>-9223352921020755230</td>\n",
       "      <td>0156231001</td>\n",
       "      <td>0.002209</td>\n",
       "    </tr>\n",
       "    <tr>\n",
       "      <th>1229566</th>\n",
       "      <td>-9223352921020755230</td>\n",
       "      <td>0568597006</td>\n",
       "      <td>0.000559</td>\n",
       "    </tr>\n",
       "  </tbody>\n",
       "</table>\n",
       "<p>42789930 rows × 3 columns</p>\n",
       "</div>"
      ],
      "text/plain": [
       "                  customer_id  article_id     score\n",
       "41094896  9223370729206611574  0909370001  0.006153\n",
       "8535733   9223370729206611574  0909371001  0.004058\n",
       "989138    9223370729206611574  0805947001  0.002095\n",
       "1309826   9223370729206611574  0908799002  0.001833\n",
       "2527303   9223370729206611574  0935892001  0.001833\n",
       "...                       ...         ...       ...\n",
       "42431249 -9223352921020755230  0562245046  0.002872\n",
       "20839021 -9223352921020755230  0751471001  0.002558\n",
       "32816846 -9223352921020755230  0372860002  0.002471\n",
       "37625351 -9223352921020755230  0156231001  0.002209\n",
       "1229566  -9223352921020755230  0568597006  0.000559\n",
       "\n",
       "[42789930 rows x 3 columns]"
      ]
     },
     "execution_count": 105,
     "metadata": {},
     "output_type": "execute_result"
    }
   ],
   "source": [
    "merge_result"
   ]
  },
  {
   "cell_type": "code",
   "execution_count": 106,
   "id": "0be4bed1",
   "metadata": {
    "execution": {
     "iopub.execute_input": "2022-03-27T15:27:52.901724Z",
     "iopub.status.busy": "2022-03-27T15:27:52.900677Z",
     "iopub.status.idle": "2022-03-27T15:28:13.609572Z",
     "shell.execute_reply": "2022-03-27T15:28:13.608688Z",
     "shell.execute_reply.started": "2022-03-27T15:19:46.630985Z"
    },
    "papermill": {
     "duration": 20.862726,
     "end_time": "2022-03-27T15:28:13.609707",
     "exception": false,
     "start_time": "2022-03-27T15:27:52.746981",
     "status": "completed"
    },
    "tags": []
   },
   "outputs": [],
   "source": [
    "final = merge_result.to_pandas().groupby([\"customer_id\"])[\"article_id\"].agg(lambda x: \" \".join(x)[:131])"
   ]
  },
  {
   "cell_type": "code",
   "execution_count": 107,
   "id": "3b2ce6c9",
   "metadata": {
    "execution": {
     "iopub.execute_input": "2022-03-27T15:28:14.073736Z",
     "iopub.status.busy": "2022-03-27T15:28:14.072894Z",
     "iopub.status.idle": "2022-03-27T15:28:14.075477Z",
     "shell.execute_reply": "2022-03-27T15:28:14.074976Z",
     "shell.execute_reply.started": "2022-03-27T15:20:06.918732Z"
    },
    "papermill": {
     "duration": 0.212513,
     "end_time": "2022-03-27T15:28:14.075587",
     "exception": false,
     "start_time": "2022-03-27T15:28:13.863074",
     "status": "completed"
    },
    "tags": []
   },
   "outputs": [],
   "source": [
    "# source = merge_result.to_pandas().groupby([\"customer_id\"])[\"article_id\"].agg(lambda x: \" \".join(x)[:131])"
   ]
  },
  {
   "cell_type": "code",
   "execution_count": 108,
   "id": "456522a5",
   "metadata": {
    "execution": {
     "iopub.execute_input": "2022-03-27T15:28:14.396156Z",
     "iopub.status.busy": "2022-03-27T15:28:14.395280Z",
     "iopub.status.idle": "2022-03-27T15:28:14.475580Z",
     "shell.execute_reply": "2022-03-27T15:28:14.475079Z",
     "shell.execute_reply.started": "2022-03-27T15:20:06.924374Z"
    },
    "papermill": {
     "duration": 0.250875,
     "end_time": "2022-03-27T15:28:14.475715",
     "exception": false,
     "start_time": "2022-03-27T15:28:14.224840",
     "status": "completed"
    },
    "tags": []
   },
   "outputs": [],
   "source": [
    "final = final.reset_index()"
   ]
  },
  {
   "cell_type": "code",
   "execution_count": 109,
   "id": "3279b9ac",
   "metadata": {
    "execution": {
     "iopub.execute_input": "2022-03-27T15:28:14.767982Z",
     "iopub.status.busy": "2022-03-27T15:28:14.767004Z",
     "iopub.status.idle": "2022-03-27T15:28:14.806730Z",
     "shell.execute_reply": "2022-03-27T15:28:14.806295Z",
     "shell.execute_reply.started": "2022-03-27T15:20:07.009484Z"
    },
    "papermill": {
     "duration": 0.186041,
     "end_time": "2022-03-27T15:28:14.806864",
     "exception": false,
     "start_time": "2022-03-27T15:28:14.620823",
     "status": "completed"
    },
    "tags": []
   },
   "outputs": [],
   "source": [
    "final = final.rename(columns = {\"article_id\": \"prediction\"})"
   ]
  },
  {
   "cell_type": "code",
   "execution_count": 110,
   "id": "14e5a36d",
   "metadata": {
    "execution": {
     "iopub.execute_input": "2022-03-27T15:28:15.100737Z",
     "iopub.status.busy": "2022-03-27T15:28:15.100102Z",
     "iopub.status.idle": "2022-03-27T15:28:15.102928Z",
     "shell.execute_reply": "2022-03-27T15:28:15.103367Z",
     "shell.execute_reply.started": "2022-03-27T15:20:07.052660Z"
    },
    "papermill": {
     "duration": 0.155046,
     "end_time": "2022-03-27T15:28:15.103503",
     "exception": false,
     "start_time": "2022-03-27T15:28:14.948457",
     "status": "completed"
    },
    "tags": []
   },
   "outputs": [
    {
     "data": {
      "text/html": [
       "<div>\n",
       "<style scoped>\n",
       "    .dataframe tbody tr th:only-of-type {\n",
       "        vertical-align: middle;\n",
       "    }\n",
       "\n",
       "    .dataframe tbody tr th {\n",
       "        vertical-align: top;\n",
       "    }\n",
       "\n",
       "    .dataframe thead th {\n",
       "        text-align: right;\n",
       "    }\n",
       "</style>\n",
       "<table border=\"1\" class=\"dataframe\">\n",
       "  <thead>\n",
       "    <tr style=\"text-align: right;\">\n",
       "      <th></th>\n",
       "      <th>customer_id</th>\n",
       "      <th>prediction</th>\n",
       "    </tr>\n",
       "  </thead>\n",
       "  <tbody>\n",
       "    <tr>\n",
       "      <th>0</th>\n",
       "      <td>-9223352921020755230</td>\n",
       "      <td>0673396002 0860949002 0739590032 0812167004 07...</td>\n",
       "    </tr>\n",
       "    <tr>\n",
       "      <th>1</th>\n",
       "      <td>-9223343869995384291</td>\n",
       "      <td>0908292002 0910601003 0706016001 0865929007 09...</td>\n",
       "    </tr>\n",
       "    <tr>\n",
       "      <th>2</th>\n",
       "      <td>-9223321797620987725</td>\n",
       "      <td>0751471043 0865799006 0918522001 0910601003 09...</td>\n",
       "    </tr>\n",
       "    <tr>\n",
       "      <th>3</th>\n",
       "      <td>-9223319430705797669</td>\n",
       "      <td>0685814003 0448509014 0715624001 0918522001 07...</td>\n",
       "    </tr>\n",
       "    <tr>\n",
       "      <th>4</th>\n",
       "      <td>-9223308614576639426</td>\n",
       "      <td>0872537004 0899282001 0865929003 0749097003 05...</td>\n",
       "    </tr>\n",
       "    <tr>\n",
       "      <th>...</th>\n",
       "      <td>...</td>\n",
       "      <td>...</td>\n",
       "    </tr>\n",
       "    <tr>\n",
       "      <th>1364779</th>\n",
       "      <td>9223319300843860958</td>\n",
       "      <td>0751471001 0751471038 0751471043 0673677002 09...</td>\n",
       "    </tr>\n",
       "    <tr>\n",
       "      <th>1364780</th>\n",
       "      <td>9223333063893176977</td>\n",
       "      <td>0909370001 0865799006 0924243001 0809238001 09...</td>\n",
       "    </tr>\n",
       "    <tr>\n",
       "      <th>1364781</th>\n",
       "      <td>9223345314868180224</td>\n",
       "      <td>0909370001 0717464001 0841383002 0809238001 08...</td>\n",
       "    </tr>\n",
       "    <tr>\n",
       "      <th>1364782</th>\n",
       "      <td>9223357421094039679</td>\n",
       "      <td>0918522001 0751471043 0751471001 0924243001 07...</td>\n",
       "    </tr>\n",
       "    <tr>\n",
       "      <th>1364783</th>\n",
       "      <td>9223370729206611574</td>\n",
       "      <td>0909370001 0909371001 0805947001 0908799002 09...</td>\n",
       "    </tr>\n",
       "  </tbody>\n",
       "</table>\n",
       "<p>1364784 rows × 2 columns</p>\n",
       "</div>"
      ],
      "text/plain": [
       "                 customer_id  \\\n",
       "0       -9223352921020755230   \n",
       "1       -9223343869995384291   \n",
       "2       -9223321797620987725   \n",
       "3       -9223319430705797669   \n",
       "4       -9223308614576639426   \n",
       "...                      ...   \n",
       "1364779  9223319300843860958   \n",
       "1364780  9223333063893176977   \n",
       "1364781  9223345314868180224   \n",
       "1364782  9223357421094039679   \n",
       "1364783  9223370729206611574   \n",
       "\n",
       "                                                prediction  \n",
       "0        0673396002 0860949002 0739590032 0812167004 07...  \n",
       "1        0908292002 0910601003 0706016001 0865929007 09...  \n",
       "2        0751471043 0865799006 0918522001 0910601003 09...  \n",
       "3        0685814003 0448509014 0715624001 0918522001 07...  \n",
       "4        0872537004 0899282001 0865929003 0749097003 05...  \n",
       "...                                                    ...  \n",
       "1364779  0751471001 0751471038 0751471043 0673677002 09...  \n",
       "1364780  0909370001 0865799006 0924243001 0809238001 09...  \n",
       "1364781  0909370001 0717464001 0841383002 0809238001 08...  \n",
       "1364782  0918522001 0751471043 0751471001 0924243001 07...  \n",
       "1364783  0909370001 0909371001 0805947001 0908799002 09...  \n",
       "\n",
       "[1364784 rows x 2 columns]"
      ]
     },
     "execution_count": 110,
     "metadata": {},
     "output_type": "execute_result"
    }
   ],
   "source": [
    "final"
   ]
  },
  {
   "cell_type": "code",
   "execution_count": 111,
   "id": "4a71c9db",
   "metadata": {
    "execution": {
     "iopub.execute_input": "2022-03-27T15:28:15.520741Z",
     "iopub.status.busy": "2022-03-27T15:28:15.519419Z",
     "iopub.status.idle": "2022-03-27T15:28:15.523919Z",
     "shell.execute_reply": "2022-03-27T15:28:15.523487Z",
     "shell.execute_reply.started": "2022-03-27T15:20:07.064801Z"
    },
    "papermill": {
     "duration": 0.277912,
     "end_time": "2022-03-27T15:28:15.524060",
     "exception": false,
     "start_time": "2022-03-27T15:28:15.246148",
     "status": "completed"
    },
    "tags": []
   },
   "outputs": [
    {
     "data": {
      "text/plain": [
       "126"
      ]
     },
     "execution_count": 111,
     "metadata": {},
     "output_type": "execute_result"
    }
   ],
   "source": [
    "gc.collect()"
   ]
  },
  {
   "cell_type": "code",
   "execution_count": 112,
   "id": "5f1cbe30",
   "metadata": {
    "execution": {
     "iopub.execute_input": "2022-03-27T15:28:15.819979Z",
     "iopub.status.busy": "2022-03-27T15:28:15.819278Z",
     "iopub.status.idle": "2022-03-27T15:28:16.752563Z",
     "shell.execute_reply": "2022-03-27T15:28:16.751930Z",
     "shell.execute_reply.started": "2022-03-27T15:20:07.201878Z"
    },
    "papermill": {
     "duration": 1.084703,
     "end_time": "2022-03-27T15:28:16.752705",
     "exception": false,
     "start_time": "2022-03-27T15:28:15.668002",
     "status": "completed"
    },
    "tags": []
   },
   "outputs": [],
   "source": [
    "if Last_date == \"2020-09-22\":\n",
    "    sub  = cudf.read_csv('../input/h-and-m-personalized-fashion-recommendations/sample_submission.csv',\n",
    "                                usecols= ['customer_id'], \n",
    "                                dtype={'customer_id': 'string'})\n",
    "\n",
    "    sub['customer_id2'] = sub['customer_id'].str[-16:].str.hex_to_int().astype('int64')\n",
    "\n",
    "    sub = sub.to_pandas().merge(final, left_on = 'customer_id2', right_on = 'customer_id', how = 'left',\n",
    "                   suffixes = ('', '_ignored'))\n",
    "else:\n",
    "    sub  = cudf.read_csv('../input/h-and-m-personalized-fashion-recommendations/sample_submission.csv',\n",
    "                                usecols= ['customer_id'], \n",
    "                                dtype={'customer_id': 'string'})\n",
    "\n",
    "    sub['customer_id'] = sub['customer_id'].str[-16:].str.hex_to_int().astype('int64')\n",
    "\n",
    "    sub = sub.to_pandas().merge(final, left_on = 'customer_id', right_on = 'customer_id', how = 'left',\n",
    "                   suffixes = ('', '_ignored'))\n",
    "    \n",
    "\n",
    "#sub = sub.to_pandas()\n",
    "\n",
    "\n",
    "#final = sub.groupby([\"customer_id\"])[\"article_id\"].agg(lambda x: \" \".join(x + [general_pred_str]).strip()[:131])\n",
    "\n",
    "# sub['prediction'] = sub['prediction'].fillna(general_pred_str)\n",
    "# sub['prediction'] = sub['prediction'] + ' ' +  general_pred_str\n",
    "# sub['prediction'] = sub['prediction'].str.strip()\n",
    "# sub['prediction'] = sub['prediction'].str[:131]\n",
    "# sub = sub[['customer_id', 'prediction']]\n",
    "# sub.to_csv(f'submission.csv',index=False)\n"
   ]
  },
  {
   "cell_type": "code",
   "execution_count": 113,
   "id": "f3a7e3c1",
   "metadata": {
    "execution": {
     "iopub.execute_input": "2022-03-27T15:28:17.289443Z",
     "iopub.status.busy": "2022-03-27T15:28:17.288809Z",
     "iopub.status.idle": "2022-03-27T15:28:17.297184Z",
     "shell.execute_reply": "2022-03-27T15:28:17.296730Z",
     "shell.execute_reply.started": "2022-03-27T15:20:08.101402Z"
    },
    "papermill": {
     "duration": 0.399426,
     "end_time": "2022-03-27T15:28:17.297312",
     "exception": false,
     "start_time": "2022-03-27T15:28:16.897886",
     "status": "completed"
    },
    "tags": []
   },
   "outputs": [
    {
     "data": {
      "text/plain": [
       "7196"
      ]
     },
     "execution_count": 113,
     "metadata": {},
     "output_type": "execute_result"
    }
   ],
   "source": [
    "sub[\"prediction\"].isna().sum()"
   ]
  },
  {
   "cell_type": "code",
   "execution_count": 114,
   "id": "67ec443c",
   "metadata": {
    "execution": {
     "iopub.execute_input": "2022-03-27T15:28:17.587411Z",
     "iopub.status.busy": "2022-03-27T15:28:17.586763Z",
     "iopub.status.idle": "2022-03-27T15:28:17.589470Z",
     "shell.execute_reply": "2022-03-27T15:28:17.589856Z",
     "shell.execute_reply.started": "2022-03-27T15:20:08.348044Z"
    },
    "papermill": {
     "duration": 0.150264,
     "end_time": "2022-03-27T15:28:17.589995",
     "exception": false,
     "start_time": "2022-03-27T15:28:17.439731",
     "status": "completed"
    },
    "tags": []
   },
   "outputs": [
    {
     "data": {
      "text/plain": [
       "'0909370001 0865799006 0918522001 0924243001 0448509014 0751471001 0809238001 0918292001 0762846027 0809238005 0673677002 0923758001'"
      ]
     },
     "execution_count": 114,
     "metadata": {},
     "output_type": "execute_result"
    }
   ],
   "source": [
    "general_pred_str"
   ]
  },
  {
   "cell_type": "code",
   "execution_count": 115,
   "id": "6b53ab38",
   "metadata": {
    "execution": {
     "iopub.execute_input": "2022-03-27T15:28:17.895712Z",
     "iopub.status.busy": "2022-03-27T15:28:17.894774Z",
     "iopub.status.idle": "2022-03-27T15:28:18.055307Z",
     "shell.execute_reply": "2022-03-27T15:28:18.054808Z",
     "shell.execute_reply.started": "2022-03-27T15:20:08.356869Z"
    },
    "papermill": {
     "duration": 0.321412,
     "end_time": "2022-03-27T15:28:18.055450",
     "exception": false,
     "start_time": "2022-03-27T15:28:17.734038",
     "status": "completed"
    },
    "tags": []
   },
   "outputs": [],
   "source": [
    "sub_id  = cudf.read_csv('../input/h-and-m-personalized-fashion-recommendations/sample_submission.csv',\n",
    "                                usecols= ['customer_id'], \n",
    "                                dtype={'customer_id': 'string'})\n",
    "cid = cudf.DataFrame(sub_id['customer_id'].str[-16:].str.hex_to_int().astype('int64'))"
   ]
  },
  {
   "cell_type": "code",
   "execution_count": 116,
   "id": "0a664082",
   "metadata": {
    "execution": {
     "iopub.execute_input": "2022-03-27T15:28:18.366372Z",
     "iopub.status.busy": "2022-03-27T15:28:18.365825Z",
     "iopub.status.idle": "2022-03-27T15:28:18.369244Z",
     "shell.execute_reply": "2022-03-27T15:28:18.368710Z",
     "shell.execute_reply.started": "2022-03-27T15:20:08.520934Z"
    },
    "papermill": {
     "duration": 0.155333,
     "end_time": "2022-03-27T15:28:18.369394",
     "exception": false,
     "start_time": "2022-03-27T15:28:18.214061",
     "status": "completed"
    },
    "tags": []
   },
   "outputs": [],
   "source": [
    "cid[\"customer_id\"] = cid[\"customer_id\"].astype(\"int64\")"
   ]
  },
  {
   "cell_type": "code",
   "execution_count": 117,
   "id": "c4ccf13f",
   "metadata": {
    "execution": {
     "iopub.execute_input": "2022-03-27T15:28:18.659693Z",
     "iopub.status.busy": "2022-03-27T15:28:18.658922Z",
     "iopub.status.idle": "2022-03-27T15:28:19.992005Z",
     "shell.execute_reply": "2022-03-27T15:28:19.991123Z",
     "shell.execute_reply.started": "2022-03-27T15:20:08.527270Z"
    },
    "papermill": {
     "duration": 1.480714,
     "end_time": "2022-03-27T15:28:19.992170",
     "exception": false,
     "start_time": "2022-03-27T15:28:18.511456",
     "status": "completed"
    },
    "tags": []
   },
   "outputs": [],
   "source": [
    "def iter_to_str(iterable):\n",
    "    return \" \".join(map(lambda x: str(0) + str(x), iterable))\n",
    "real = val.to_pandas().groupby('customer_id')[\"article_id\"].apply(iter_to_str).reset_index()"
   ]
  },
  {
   "cell_type": "code",
   "execution_count": 118,
   "id": "0fa9cb7a",
   "metadata": {
    "execution": {
     "iopub.execute_input": "2022-03-27T15:28:20.293482Z",
     "iopub.status.busy": "2022-03-27T15:28:20.292518Z",
     "iopub.status.idle": "2022-03-27T15:28:20.577055Z",
     "shell.execute_reply": "2022-03-27T15:28:20.576569Z",
     "shell.execute_reply.started": "2022-03-27T15:20:10.651395Z"
    },
    "papermill": {
     "duration": 0.437029,
     "end_time": "2022-03-27T15:28:20.577196",
     "exception": false,
     "start_time": "2022-03-27T15:28:20.140167",
     "status": "completed"
    },
    "tags": []
   },
   "outputs": [],
   "source": [
    "real = real.merge(cid.to_pandas(), on='customer_id', how='inner')\n",
    "real.article_id = real.article_id.apply(lambda s: [] if pd.isna(s) else s.split())"
   ]
  },
  {
   "cell_type": "code",
   "execution_count": 119,
   "id": "3e462a5b",
   "metadata": {
    "execution": {
     "iopub.execute_input": "2022-03-27T15:28:20.878545Z",
     "iopub.status.busy": "2022-03-27T15:28:20.877281Z",
     "iopub.status.idle": "2022-03-27T15:28:20.881008Z",
     "shell.execute_reply": "2022-03-27T15:28:20.880600Z",
     "shell.execute_reply.started": "2022-03-27T15:20:10.977228Z"
    },
    "papermill": {
     "duration": 0.159874,
     "end_time": "2022-03-27T15:28:20.881148",
     "exception": false,
     "start_time": "2022-03-27T15:28:20.721274",
     "status": "completed"
    },
    "tags": []
   },
   "outputs": [
    {
     "data": {
      "text/html": [
       "<div>\n",
       "<style scoped>\n",
       "    .dataframe tbody tr th:only-of-type {\n",
       "        vertical-align: middle;\n",
       "    }\n",
       "\n",
       "    .dataframe tbody tr th {\n",
       "        vertical-align: top;\n",
       "    }\n",
       "\n",
       "    .dataframe thead th {\n",
       "        text-align: right;\n",
       "    }\n",
       "</style>\n",
       "<table border=\"1\" class=\"dataframe\">\n",
       "  <thead>\n",
       "    <tr style=\"text-align: right;\">\n",
       "      <th></th>\n",
       "      <th>customer_id</th>\n",
       "      <th>article_id</th>\n",
       "    </tr>\n",
       "  </thead>\n",
       "  <tbody>\n",
       "    <tr>\n",
       "      <th>0</th>\n",
       "      <td>-9223100958908512198</td>\n",
       "      <td>[0785034009, 0673677027, 0673677024]</td>\n",
       "    </tr>\n",
       "    <tr>\n",
       "      <th>1</th>\n",
       "      <td>-9223002534477110135</td>\n",
       "      <td>[0793699001]</td>\n",
       "    </tr>\n",
       "    <tr>\n",
       "      <th>2</th>\n",
       "      <td>-9222810895170663723</td>\n",
       "      <td>[0892309001, 0903306004]</td>\n",
       "    </tr>\n",
       "    <tr>\n",
       "      <th>3</th>\n",
       "      <td>-9221924794303263774</td>\n",
       "      <td>[0888343003, 0892857002, 0708138013]</td>\n",
       "    </tr>\n",
       "    <tr>\n",
       "      <th>4</th>\n",
       "      <td>-9221811157628158522</td>\n",
       "      <td>[0891663002]</td>\n",
       "    </tr>\n",
       "    <tr>\n",
       "      <th>...</th>\n",
       "      <td>...</td>\n",
       "      <td>...</td>\n",
       "    </tr>\n",
       "    <tr>\n",
       "      <th>68979</th>\n",
       "      <td>9221607025486275188</td>\n",
       "      <td>[0751994003, 0699755081, 0699755071]</td>\n",
       "    </tr>\n",
       "    <tr>\n",
       "      <th>68980</th>\n",
       "      <td>9221813808370389952</td>\n",
       "      <td>[0869331006, 0562245099, 0865929002]</td>\n",
       "    </tr>\n",
       "    <tr>\n",
       "      <th>68981</th>\n",
       "      <td>9222310594107555341</td>\n",
       "      <td>[0884319001, 0884319003]</td>\n",
       "    </tr>\n",
       "    <tr>\n",
       "      <th>68982</th>\n",
       "      <td>9223099843213569889</td>\n",
       "      <td>[0903924002]</td>\n",
       "    </tr>\n",
       "    <tr>\n",
       "      <th>68983</th>\n",
       "      <td>9223141695752178477</td>\n",
       "      <td>[0914441003]</td>\n",
       "    </tr>\n",
       "  </tbody>\n",
       "</table>\n",
       "<p>68984 rows × 2 columns</p>\n",
       "</div>"
      ],
      "text/plain": [
       "               customer_id                            article_id\n",
       "0     -9223100958908512198  [0785034009, 0673677027, 0673677024]\n",
       "1     -9223002534477110135                          [0793699001]\n",
       "2     -9222810895170663723              [0892309001, 0903306004]\n",
       "3     -9221924794303263774  [0888343003, 0892857002, 0708138013]\n",
       "4     -9221811157628158522                          [0891663002]\n",
       "...                    ...                                   ...\n",
       "68979  9221607025486275188  [0751994003, 0699755081, 0699755071]\n",
       "68980  9221813808370389952  [0869331006, 0562245099, 0865929002]\n",
       "68981  9222310594107555341              [0884319001, 0884319003]\n",
       "68982  9223099843213569889                          [0903924002]\n",
       "68983  9223141695752178477                          [0914441003]\n",
       "\n",
       "[68984 rows x 2 columns]"
      ]
     },
     "execution_count": 119,
     "metadata": {},
     "output_type": "execute_result"
    }
   ],
   "source": [
    "real"
   ]
  },
  {
   "cell_type": "code",
   "execution_count": 120,
   "id": "0235a015",
   "metadata": {
    "execution": {
     "iopub.execute_input": "2022-03-27T15:28:21.419805Z",
     "iopub.status.busy": "2022-03-27T15:28:21.418884Z",
     "iopub.status.idle": "2022-03-27T15:28:23.487226Z",
     "shell.execute_reply": "2022-03-27T15:28:23.486680Z",
     "shell.execute_reply.started": "2022-03-27T15:20:10.993091Z"
    },
    "papermill": {
     "duration": 2.463136,
     "end_time": "2022-03-27T15:28:23.487383",
     "exception": false,
     "start_time": "2022-03-27T15:28:21.024247",
     "status": "completed"
    },
    "tags": []
   },
   "outputs": [],
   "source": [
    "sub[\"prediction\"] = sub[\"prediction\"].fillna(general_pred_str)\n",
    "sub['prediction'] = sub['prediction'] + ' ' +  general_pred_str\n",
    "sub['prediction'] = sub['prediction'].str[:131]"
   ]
  },
  {
   "cell_type": "code",
   "execution_count": 121,
   "id": "5a7caa6d",
   "metadata": {
    "execution": {
     "iopub.execute_input": "2022-03-27T15:28:23.789289Z",
     "iopub.status.busy": "2022-03-27T15:28:23.788656Z",
     "iopub.status.idle": "2022-03-27T15:28:23.791496Z",
     "shell.execute_reply": "2022-03-27T15:28:23.791884Z",
     "shell.execute_reply.started": "2022-03-27T15:20:13.245213Z"
    },
    "papermill": {
     "duration": 0.159259,
     "end_time": "2022-03-27T15:28:23.792027",
     "exception": false,
     "start_time": "2022-03-27T15:28:23.632768",
     "status": "completed"
    },
    "tags": []
   },
   "outputs": [
    {
     "data": {
      "text/html": [
       "<div>\n",
       "<style scoped>\n",
       "    .dataframe tbody tr th:only-of-type {\n",
       "        vertical-align: middle;\n",
       "    }\n",
       "\n",
       "    .dataframe tbody tr th {\n",
       "        vertical-align: top;\n",
       "    }\n",
       "\n",
       "    .dataframe thead th {\n",
       "        text-align: right;\n",
       "    }\n",
       "</style>\n",
       "<table border=\"1\" class=\"dataframe\">\n",
       "  <thead>\n",
       "    <tr style=\"text-align: right;\">\n",
       "      <th></th>\n",
       "      <th>customer_id</th>\n",
       "      <th>article_id</th>\n",
       "    </tr>\n",
       "  </thead>\n",
       "  <tbody>\n",
       "    <tr>\n",
       "      <th>0</th>\n",
       "      <td>-9223100958908512198</td>\n",
       "      <td>[0785034009, 0673677027, 0673677024]</td>\n",
       "    </tr>\n",
       "    <tr>\n",
       "      <th>1</th>\n",
       "      <td>-9223002534477110135</td>\n",
       "      <td>[0793699001]</td>\n",
       "    </tr>\n",
       "    <tr>\n",
       "      <th>2</th>\n",
       "      <td>-9222810895170663723</td>\n",
       "      <td>[0892309001, 0903306004]</td>\n",
       "    </tr>\n",
       "    <tr>\n",
       "      <th>3</th>\n",
       "      <td>-9221924794303263774</td>\n",
       "      <td>[0888343003, 0892857002, 0708138013]</td>\n",
       "    </tr>\n",
       "    <tr>\n",
       "      <th>4</th>\n",
       "      <td>-9221811157628158522</td>\n",
       "      <td>[0891663002]</td>\n",
       "    </tr>\n",
       "    <tr>\n",
       "      <th>...</th>\n",
       "      <td>...</td>\n",
       "      <td>...</td>\n",
       "    </tr>\n",
       "    <tr>\n",
       "      <th>68979</th>\n",
       "      <td>9221607025486275188</td>\n",
       "      <td>[0751994003, 0699755081, 0699755071]</td>\n",
       "    </tr>\n",
       "    <tr>\n",
       "      <th>68980</th>\n",
       "      <td>9221813808370389952</td>\n",
       "      <td>[0869331006, 0562245099, 0865929002]</td>\n",
       "    </tr>\n",
       "    <tr>\n",
       "      <th>68981</th>\n",
       "      <td>9222310594107555341</td>\n",
       "      <td>[0884319001, 0884319003]</td>\n",
       "    </tr>\n",
       "    <tr>\n",
       "      <th>68982</th>\n",
       "      <td>9223099843213569889</td>\n",
       "      <td>[0903924002]</td>\n",
       "    </tr>\n",
       "    <tr>\n",
       "      <th>68983</th>\n",
       "      <td>9223141695752178477</td>\n",
       "      <td>[0914441003]</td>\n",
       "    </tr>\n",
       "  </tbody>\n",
       "</table>\n",
       "<p>68984 rows × 2 columns</p>\n",
       "</div>"
      ],
      "text/plain": [
       "               customer_id                            article_id\n",
       "0     -9223100958908512198  [0785034009, 0673677027, 0673677024]\n",
       "1     -9223002534477110135                          [0793699001]\n",
       "2     -9222810895170663723              [0892309001, 0903306004]\n",
       "3     -9221924794303263774  [0888343003, 0892857002, 0708138013]\n",
       "4     -9221811157628158522                          [0891663002]\n",
       "...                    ...                                   ...\n",
       "68979  9221607025486275188  [0751994003, 0699755081, 0699755071]\n",
       "68980  9221813808370389952  [0869331006, 0562245099, 0865929002]\n",
       "68981  9222310594107555341              [0884319001, 0884319003]\n",
       "68982  9223099843213569889                          [0903924002]\n",
       "68983  9223141695752178477                          [0914441003]\n",
       "\n",
       "[68984 rows x 2 columns]"
      ]
     },
     "execution_count": 121,
     "metadata": {},
     "output_type": "execute_result"
    }
   ],
   "source": [
    "real"
   ]
  },
  {
   "cell_type": "code",
   "execution_count": 122,
   "id": "63bc94f4",
   "metadata": {
    "execution": {
     "iopub.execute_input": "2022-03-27T15:28:24.083624Z",
     "iopub.status.busy": "2022-03-27T15:28:24.082048Z",
     "iopub.status.idle": "2022-03-27T15:28:24.084218Z",
     "shell.execute_reply": "2022-03-27T15:28:24.084639Z",
     "shell.execute_reply.started": "2022-03-27T15:20:13.260146Z"
    },
    "papermill": {
     "duration": 0.14957,
     "end_time": "2022-03-27T15:28:24.084770",
     "exception": false,
     "start_time": "2022-03-27T15:28:23.935200",
     "status": "completed"
    },
    "tags": []
   },
   "outputs": [],
   "source": [
    "#sub[:10000].groupby([\"customer_id\"])[\"article_id\"].agg(lambda x: \" \".join(x).strip()[:131])"
   ]
  },
  {
   "cell_type": "code",
   "execution_count": 123,
   "id": "7507d84d",
   "metadata": {
    "execution": {
     "iopub.execute_input": "2022-03-27T15:28:24.376564Z",
     "iopub.status.busy": "2022-03-27T15:28:24.374875Z",
     "iopub.status.idle": "2022-03-27T15:28:24.377160Z",
     "shell.execute_reply": "2022-03-27T15:28:24.377560Z",
     "shell.execute_reply.started": "2022-03-27T15:20:13.269081Z"
    },
    "papermill": {
     "duration": 0.149812,
     "end_time": "2022-03-27T15:28:24.377692",
     "exception": false,
     "start_time": "2022-03-27T15:28:24.227880",
     "status": "completed"
    },
    "tags": []
   },
   "outputs": [],
   "source": [
    "#final"
   ]
  },
  {
   "cell_type": "markdown",
   "id": "49a98b2d",
   "metadata": {
    "papermill": {
     "duration": 0.246105,
     "end_time": "2022-03-27T15:28:24.855106",
     "exception": false,
     "start_time": "2022-03-27T15:28:24.609001",
     "status": "completed"
    },
    "tags": []
   },
   "source": [
    "## 验证集评估"
   ]
  },
  {
   "cell_type": "code",
   "execution_count": 124,
   "id": "04c0b865",
   "metadata": {
    "execution": {
     "iopub.execute_input": "2022-03-27T15:28:25.343599Z",
     "iopub.status.busy": "2022-03-27T15:28:25.342813Z",
     "iopub.status.idle": "2022-03-27T15:28:25.345800Z",
     "shell.execute_reply": "2022-03-27T15:28:25.346245Z",
     "shell.execute_reply.started": "2022-03-27T15:20:13.278183Z"
    },
    "papermill": {
     "duration": 0.290392,
     "end_time": "2022-03-27T15:28:25.346399",
     "exception": false,
     "start_time": "2022-03-27T15:28:25.056007",
     "status": "completed"
    },
    "tags": []
   },
   "outputs": [
    {
     "data": {
      "text/plain": [
       "142"
      ]
     },
     "execution_count": 124,
     "metadata": {},
     "output_type": "execute_result"
    }
   ],
   "source": [
    "gc.collect()"
   ]
  },
  {
   "cell_type": "code",
   "execution_count": 125,
   "id": "ccaa47e0",
   "metadata": {
    "execution": {
     "iopub.execute_input": "2022-03-27T15:28:25.653983Z",
     "iopub.status.busy": "2022-03-27T15:28:25.653169Z",
     "iopub.status.idle": "2022-03-27T15:28:25.734101Z",
     "shell.execute_reply": "2022-03-27T15:28:25.733619Z",
     "shell.execute_reply.started": "2022-03-27T15:20:13.422484Z"
    },
    "papermill": {
     "duration": 0.233694,
     "end_time": "2022-03-27T15:28:25.734224",
     "exception": false,
     "start_time": "2022-03-27T15:28:25.500530",
     "status": "completed"
    },
    "tags": []
   },
   "outputs": [],
   "source": [
    "import numpy as np, pandas as pd, datetime as dt\n",
    "import matplotlib.pyplot as plt; plt.style.use('ggplot')\n",
    "import seaborn as sns\n",
    "from collections import defaultdict\n",
    "\n",
    "def iter_to_str(iterable):\n",
    "    return \" \".join(map(lambda x: str(0) + str(x), iterable))\n",
    "\n",
    "def apk(actual, predicted, k=12):\n",
    "    if len(predicted) > k:\n",
    "        predicted = predicted[:k]\n",
    "    score, nhits = 0.0, 0.0\n",
    "    for i, p in enumerate(predicted):\n",
    "        if p in actual and p not in predicted[:i]:\n",
    "            nhits += 1.0\n",
    "            score += nhits / (i + 1.0)\n",
    "    if not actual:\n",
    "        return 0.0\n",
    "    return score / min(len(actual), k)\n",
    "\n",
    "def mapk(actual, predicted, k=12, return_apks=False):\n",
    "    assert len(actual) == len(predicted)\n",
    "    apks = [apk(ac, pr, k) for ac, pr in zip(actual, predicted) if 0 < len(ac)]\n",
    "    if return_apks:\n",
    "        return apks\n",
    "    return np.mean(apks)\n",
    "\n",
    "def blend(dt, w=[], k=12):\n",
    "    if len(w) == 0:\n",
    "        w = [1] * (len(dt))\n",
    "    preds = []\n",
    "    for i in range(len(w)):\n",
    "        preds.append(dt[i].split())\n",
    "    res = {}\n",
    "    for i in range(len(preds)):\n",
    "        if w[i] < 0:\n",
    "            continue\n",
    "        for n, v in enumerate(preds[i]):\n",
    "            if v in res:\n",
    "                res[v] += (w[i] / (n + 1))\n",
    "            else:\n",
    "                res[v] = (w[i] / (n + 1))    \n",
    "    res = list(dict(sorted(res.items(), key=lambda item: -item[1])).keys())\n",
    "    return ' '.join(res[:k])\n",
    "\n",
    "def prune(pred, ok_set, k=12):\n",
    "    pred = pred.split()\n",
    "    post = []\n",
    "    for item in pred:\n",
    "        if int(item) in ok_set and not item in post:\n",
    "            post.append(item)\n",
    "    return \" \".join(post[:k])\n",
    "\n",
    "def validation(actual, predicted, groups, score=0, index=-1, ignore=False, figsize=(22, 6), name = \"\"):\n",
    "    # actual, predicted : list of lists\n",
    "    # group : pandas Series\n",
    "    # score : pandas DataFrame\n",
    "    if ignore: return\n",
    "    ap12 = mapk(actual, predicted, return_apks=True)\n",
    "    smap12 = round(np.mean(ap12), 6)\n",
    "    group_num = len(groups)\n",
    "    plt.figure(figsize=figsize)\n",
    "    plt.subplot(1, 1+group_num, 1); sns.histplot(data=ap12, log_scale=(0, 10), bins=20); plt.title(f\"MAP@12 : {smap12}\")\n",
    "    count = 2\n",
    "    for name, group in groups.items():\n",
    "        score = pd.DataFrame({g:[] for g in sorted(group.unique().tolist())})\n",
    "        if index == -1 : index = score.shape[0]\n",
    "        score.loc[index, \"All\"] = smap12\n",
    "        for g in group.unique():\n",
    "            map12 = round(mapk(actual[group == g], predicted[group == g]), 6)\n",
    "            score.loc[index, g] = map12\n",
    "        plt.subplot(1, 1+group_num, count)\n",
    "        score[[g for g in sorted(group.unique(), key = lambda x: x if type(x) is np.float64 else float(x.replace(\"(\", \"1\").split(\",\")[0]))[::-1]] + ['All']].loc[index].plot.barh()\n",
    "        plt.title(\"{} MAP@12\".format(name))\n",
    "        count += 1\n",
    "        vc = pd.Series(predicted).apply(len).value_counts()\n",
    "        score.loc[index, \"Fill\"] = round(1 - sum(vc[k] * (12 - k) / 12 for k in (set(range(12)) & set(vc.index))) / len(actual), 3) * 100\n",
    "        display(score)\n",
    "    return score"
   ]
  },
  {
   "cell_type": "code",
   "execution_count": 126,
   "id": "faebd5bc",
   "metadata": {
    "execution": {
     "iopub.execute_input": "2022-03-27T15:28:26.046345Z",
     "iopub.status.busy": "2022-03-27T15:28:26.045700Z",
     "iopub.status.idle": "2022-03-27T15:28:26.069467Z",
     "shell.execute_reply": "2022-03-27T15:28:26.068932Z",
     "shell.execute_reply.started": "2022-03-27T15:20:13.506260Z"
    },
    "papermill": {
     "duration": 0.186776,
     "end_time": "2022-03-27T15:28:26.069601",
     "exception": false,
     "start_time": "2022-03-27T15:28:25.882825",
     "status": "completed"
    },
    "tags": []
   },
   "outputs": [],
   "source": [
    "group = val.groupby('customer_id').sales_channel_id.mean().round().reset_index()\\\n",
    "    .merge(cid, on='customer_id', how='inner').rename(columns={'sales_channel_id':'group'})\n",
    "group = group.set_index('customer_id').loc[real.customer_id].reset_index()\n",
    "channal_group = group.group.fillna(3)"
   ]
  },
  {
   "cell_type": "code",
   "execution_count": 127,
   "id": "1e5c6f84",
   "metadata": {
    "execution": {
     "iopub.execute_input": "2022-03-27T15:28:26.378252Z",
     "iopub.status.busy": "2022-03-27T15:28:26.377332Z",
     "iopub.status.idle": "2022-03-27T15:28:33.018307Z",
     "shell.execute_reply": "2022-03-27T15:28:33.017326Z",
     "shell.execute_reply.started": "2022-03-27T15:20:13.534926Z"
    },
    "papermill": {
     "duration": 6.799305,
     "end_time": "2022-03-27T15:28:33.018466",
     "exception": false,
     "start_time": "2022-03-27T15:28:26.219161",
     "status": "completed"
    },
    "tags": []
   },
   "outputs": [],
   "source": [
    "customer[\"age_type\"] = pd.cut(customer.to_pandas()[\"age\"], bins = np.array([0, 21, 24, 27, 30, 35, 40, 45, 50, 60, 9999], dtype = \"int32\"), right = True).astype(\"string\")\n",
    "group = customer.rename(columns={'age_type':'group'}).set_index('customer_id').loc[real.customer_id].reset_index()\n",
    "age_group = group.group.fillna(\"-1\")"
   ]
  },
  {
   "cell_type": "code",
   "execution_count": 128,
   "id": "8479824e",
   "metadata": {
    "execution": {
     "iopub.execute_input": "2022-03-27T15:28:33.330487Z",
     "iopub.status.busy": "2022-03-27T15:28:33.329682Z",
     "iopub.status.idle": "2022-03-27T15:28:33.531592Z",
     "shell.execute_reply": "2022-03-27T15:28:33.531112Z",
     "shell.execute_reply.started": "2022-03-27T15:20:19.565237Z"
    },
    "papermill": {
     "duration": 0.357064,
     "end_time": "2022-03-27T15:28:33.531723",
     "exception": false,
     "start_time": "2022-03-27T15:28:33.174659",
     "status": "completed"
    },
    "tags": []
   },
   "outputs": [],
   "source": [
    "group = val.groupby('customer_id').sales_channel_id.count().round().reset_index()\\\n",
    "    .merge(cid, on='customer_id', how='inner').rename(columns={'sales_channel_id':'group'})\n",
    "group[\"group\"] = pd.cut(group[\"group\"].to_pandas(), bins = np.array([0, 1, 2, 3, 5, 10, 20, 9999], dtype = \"int32\"), right = True).astype(\"string\")\n",
    "group = group.set_index('customer_id').loc[real.customer_id].reset_index()\n",
    "count_group = group.group.fillna(0)"
   ]
  },
  {
   "cell_type": "code",
   "execution_count": 129,
   "id": "aa6ae7f7",
   "metadata": {
    "execution": {
     "iopub.execute_input": "2022-03-27T15:28:33.825554Z",
     "iopub.status.busy": "2022-03-27T15:28:33.824743Z",
     "iopub.status.idle": "2022-03-27T15:28:33.863512Z",
     "shell.execute_reply": "2022-03-27T15:28:33.863912Z",
     "shell.execute_reply.started": "2022-03-27T15:20:19.767678Z"
    },
    "papermill": {
     "duration": 0.188204,
     "end_time": "2022-03-27T15:28:33.864063",
     "exception": false,
     "start_time": "2022-03-27T15:28:33.675859",
     "status": "completed"
    },
    "tags": []
   },
   "outputs": [
    {
     "data": {
      "text/html": [
       "<div>\n",
       "<style scoped>\n",
       "    .dataframe tbody tr th:only-of-type {\n",
       "        vertical-align: middle;\n",
       "    }\n",
       "\n",
       "    .dataframe tbody tr th {\n",
       "        vertical-align: top;\n",
       "    }\n",
       "\n",
       "    .dataframe thead th {\n",
       "        text-align: right;\n",
       "    }\n",
       "</style>\n",
       "<table border=\"1\" class=\"dataframe\">\n",
       "  <thead>\n",
       "    <tr style=\"text-align: right;\">\n",
       "      <th></th>\n",
       "      <th>customer_id</th>\n",
       "    </tr>\n",
       "  </thead>\n",
       "  <tbody>\n",
       "    <tr>\n",
       "      <th>31718581</th>\n",
       "      <td>-9223100958908512198</td>\n",
       "    </tr>\n",
       "    <tr>\n",
       "      <th>31723712</th>\n",
       "      <td>-9223002534477110135</td>\n",
       "    </tr>\n",
       "    <tr>\n",
       "      <th>31668649</th>\n",
       "      <td>-9222810895170663723</td>\n",
       "    </tr>\n",
       "    <tr>\n",
       "      <th>31664044</th>\n",
       "      <td>-9221924794303263774</td>\n",
       "    </tr>\n",
       "    <tr>\n",
       "      <th>31782993</th>\n",
       "      <td>-9221811157628158522</td>\n",
       "    </tr>\n",
       "    <tr>\n",
       "      <th>...</th>\n",
       "      <td>...</td>\n",
       "    </tr>\n",
       "    <tr>\n",
       "      <th>31575924</th>\n",
       "      <td>9221607025486275188</td>\n",
       "    </tr>\n",
       "    <tr>\n",
       "      <th>31692865</th>\n",
       "      <td>9221813808370389952</td>\n",
       "    </tr>\n",
       "    <tr>\n",
       "      <th>31681512</th>\n",
       "      <td>9222310594107555341</td>\n",
       "    </tr>\n",
       "    <tr>\n",
       "      <th>31712352</th>\n",
       "      <td>9223099843213569889</td>\n",
       "    </tr>\n",
       "    <tr>\n",
       "      <th>31622943</th>\n",
       "      <td>9223141695752178477</td>\n",
       "    </tr>\n",
       "  </tbody>\n",
       "</table>\n",
       "<p>68984 rows × 1 columns</p>\n",
       "</div>"
      ],
      "text/plain": [
       "                  customer_id\n",
       "31718581 -9223100958908512198\n",
       "31723712 -9223002534477110135\n",
       "31668649 -9222810895170663723\n",
       "31664044 -9221924794303263774\n",
       "31782993 -9221811157628158522\n",
       "...                       ...\n",
       "31575924  9221607025486275188\n",
       "31692865  9221813808370389952\n",
       "31681512  9222310594107555341\n",
       "31712352  9223099843213569889\n",
       "31622943  9223141695752178477\n",
       "\n",
       "[68984 rows x 1 columns]"
      ]
     },
     "execution_count": 129,
     "metadata": {},
     "output_type": "execute_result"
    }
   ],
   "source": [
    "val[['customer_id']].drop_duplicates()"
   ]
  },
  {
   "cell_type": "code",
   "execution_count": 130,
   "id": "a2cc7d99",
   "metadata": {
    "execution": {
     "iopub.execute_input": "2022-03-27T15:28:34.161418Z",
     "iopub.status.busy": "2022-03-27T15:28:34.160607Z",
     "iopub.status.idle": "2022-03-27T15:28:34.395943Z",
     "shell.execute_reply": "2022-03-27T15:28:34.395453Z",
     "shell.execute_reply.started": "2022-03-27T15:20:19.813023Z"
    },
    "papermill": {
     "duration": 0.386771,
     "end_time": "2022-03-27T15:28:34.396092",
     "exception": false,
     "start_time": "2022-03-27T15:28:34.009321",
     "status": "completed"
    },
    "tags": []
   },
   "outputs": [],
   "source": [
    "group = train.groupby('customer_id').sales_channel_id.count().round().reset_index()\\\n",
    "    .merge(val[['customer_id']].drop_duplicates(), on = \"customer_id\", how = \"right\")\\\n",
    "    .merge(cid, on='customer_id', how='inner').rename(columns={'sales_channel_id':'group'})\n",
    "group[\"group\"] = pd.cut(group[\"group\"].to_pandas(), bins = np.array([0, 5, 10, 20, 35, 50, 100], dtype = \"int32\"), right = True).astype(\"string\")\n",
    "group = group.set_index('customer_id').loc[real.customer_id].reset_index()\n",
    "his_count_group = group.group.fillna(0)"
   ]
  },
  {
   "cell_type": "code",
   "execution_count": 131,
   "id": "a5f2165b",
   "metadata": {
    "execution": {
     "iopub.execute_input": "2022-03-27T15:28:34.694238Z",
     "iopub.status.busy": "2022-03-27T15:28:34.693408Z",
     "iopub.status.idle": "2022-03-27T15:28:34.701301Z",
     "shell.execute_reply": "2022-03-27T15:28:34.700823Z",
     "shell.execute_reply.started": "2022-03-27T15:20:20.053738Z"
    },
    "papermill": {
     "duration": 0.157229,
     "end_time": "2022-03-27T15:28:34.701418",
     "exception": false,
     "start_time": "2022-03-27T15:28:34.544189",
     "status": "completed"
    },
    "tags": []
   },
   "outputs": [
    {
     "data": {
      "text/plain": [
       "0        (30.0, 35.0]\n",
       "1        (27.0, 30.0]\n",
       "2         (0.0, 21.0]\n",
       "3        (50.0, 60.0]\n",
       "4        (21.0, 24.0]\n",
       "             ...     \n",
       "68979    (40.0, 45.0]\n",
       "68980    (27.0, 30.0]\n",
       "68981    (30.0, 35.0]\n",
       "68982    (27.0, 30.0]\n",
       "68983     (0.0, 21.0]\n",
       "Name: group, Length: 68984, dtype: object"
      ]
     },
     "execution_count": 131,
     "metadata": {},
     "output_type": "execute_result"
    }
   ],
   "source": [
    "age_group"
   ]
  },
  {
   "cell_type": "code",
   "execution_count": 132,
   "id": "5cea5399",
   "metadata": {
    "execution": {
     "iopub.execute_input": "2022-03-27T15:28:34.996108Z",
     "iopub.status.busy": "2022-03-27T15:28:34.995340Z",
     "iopub.status.idle": "2022-03-27T15:28:35.009301Z",
     "shell.execute_reply": "2022-03-27T15:28:35.008847Z",
     "shell.execute_reply.started": "2022-03-27T15:20:20.067143Z"
    },
    "papermill": {
     "duration": 0.163129,
     "end_time": "2022-03-27T15:28:35.009419",
     "exception": false,
     "start_time": "2022-03-27T15:28:34.846290",
     "status": "completed"
    },
    "tags": []
   },
   "outputs": [
    {
     "data": {
      "text/plain": [
       "2.0    40829\n",
       "1.0    28155\n",
       "Name: group, dtype: int32"
      ]
     },
     "execution_count": 132,
     "metadata": {},
     "output_type": "execute_result"
    }
   ],
   "source": [
    "channal_group.value_counts()"
   ]
  },
  {
   "cell_type": "code",
   "execution_count": 133,
   "id": "71b8d734",
   "metadata": {
    "execution": {
     "iopub.execute_input": "2022-03-27T15:28:35.307529Z",
     "iopub.status.busy": "2022-03-27T15:28:35.305913Z",
     "iopub.status.idle": "2022-03-27T15:28:35.483070Z",
     "shell.execute_reply": "2022-03-27T15:28:35.483514Z",
     "shell.execute_reply.started": "2022-03-27T15:20:20.108329Z"
    },
    "papermill": {
     "duration": 0.328084,
     "end_time": "2022-03-27T15:28:35.483679",
     "exception": false,
     "start_time": "2022-03-27T15:28:35.155595",
     "status": "completed"
    },
    "tags": []
   },
   "outputs": [],
   "source": [
    "sub = sub.set_index('customer_id').loc[real.customer_id].reset_index()"
   ]
  },
  {
   "cell_type": "code",
   "execution_count": 134,
   "id": "ac5a6242",
   "metadata": {
    "execution": {
     "iopub.execute_input": "2022-03-27T15:28:35.995955Z",
     "iopub.status.busy": "2022-03-27T15:28:35.995067Z",
     "iopub.status.idle": "2022-03-27T15:28:36.005529Z",
     "shell.execute_reply": "2022-03-27T15:28:36.006414Z",
     "shell.execute_reply.started": "2022-03-27T15:20:20.362027Z"
    },
    "papermill": {
     "duration": 0.25683,
     "end_time": "2022-03-27T15:28:36.006618",
     "exception": false,
     "start_time": "2022-03-27T15:28:35.749788",
     "status": "completed"
    },
    "tags": []
   },
   "outputs": [
    {
     "data": {
      "text/html": [
       "<div>\n",
       "<style scoped>\n",
       "    .dataframe tbody tr th:only-of-type {\n",
       "        vertical-align: middle;\n",
       "    }\n",
       "\n",
       "    .dataframe tbody tr th {\n",
       "        vertical-align: top;\n",
       "    }\n",
       "\n",
       "    .dataframe thead th {\n",
       "        text-align: right;\n",
       "    }\n",
       "</style>\n",
       "<table border=\"1\" class=\"dataframe\">\n",
       "  <thead>\n",
       "    <tr style=\"text-align: right;\">\n",
       "      <th></th>\n",
       "      <th>customer_id</th>\n",
       "      <th>prediction</th>\n",
       "    </tr>\n",
       "  </thead>\n",
       "  <tbody>\n",
       "    <tr>\n",
       "      <th>0</th>\n",
       "      <td>-9223100958908512198</td>\n",
       "      <td>0909911001 0909912001 0899976004 0706016002 09...</td>\n",
       "    </tr>\n",
       "    <tr>\n",
       "      <th>1</th>\n",
       "      <td>-9223002534477110135</td>\n",
       "      <td>0909370001 0706016002 0158340001 0809238001 08...</td>\n",
       "    </tr>\n",
       "    <tr>\n",
       "      <th>2</th>\n",
       "      <td>-9222810895170663723</td>\n",
       "      <td>0568601006 0759814022 0918522001 0685814003 06...</td>\n",
       "    </tr>\n",
       "    <tr>\n",
       "      <th>3</th>\n",
       "      <td>-9221924794303263774</td>\n",
       "      <td>0158340001 0707269003 0111593001 0372860001 07...</td>\n",
       "    </tr>\n",
       "    <tr>\n",
       "      <th>4</th>\n",
       "      <td>-9221811157628158522</td>\n",
       "      <td>0909370001 0448509014 0918522001 0918292001 08...</td>\n",
       "    </tr>\n",
       "    <tr>\n",
       "      <th>...</th>\n",
       "      <td>...</td>\n",
       "      <td>...</td>\n",
       "    </tr>\n",
       "    <tr>\n",
       "      <th>68979</th>\n",
       "      <td>9221607025486275188</td>\n",
       "      <td>0673677002 0816586002 0706016002 0156231001 07...</td>\n",
       "    </tr>\n",
       "    <tr>\n",
       "      <th>68980</th>\n",
       "      <td>9221813808370389952</td>\n",
       "      <td>0654590001 0714790020 0448509014 0749699002 06...</td>\n",
       "    </tr>\n",
       "    <tr>\n",
       "      <th>68981</th>\n",
       "      <td>9222310594107555341</td>\n",
       "      <td>0904416002 0904416001 0863646001 0863595002 08...</td>\n",
       "    </tr>\n",
       "    <tr>\n",
       "      <th>68982</th>\n",
       "      <td>9223099843213569889</td>\n",
       "      <td>0903773002 0776850001 0757909004 0706016002 07...</td>\n",
       "    </tr>\n",
       "    <tr>\n",
       "      <th>68983</th>\n",
       "      <td>9223141695752178477</td>\n",
       "      <td>0918522001 0685814003 0448509014 0918292001 07...</td>\n",
       "    </tr>\n",
       "  </tbody>\n",
       "</table>\n",
       "<p>68984 rows × 2 columns</p>\n",
       "</div>"
      ],
      "text/plain": [
       "               customer_id                                         prediction\n",
       "0     -9223100958908512198  0909911001 0909912001 0899976004 0706016002 09...\n",
       "1     -9223002534477110135  0909370001 0706016002 0158340001 0809238001 08...\n",
       "2     -9222810895170663723  0568601006 0759814022 0918522001 0685814003 06...\n",
       "3     -9221924794303263774  0158340001 0707269003 0111593001 0372860001 07...\n",
       "4     -9221811157628158522  0909370001 0448509014 0918522001 0918292001 08...\n",
       "...                    ...                                                ...\n",
       "68979  9221607025486275188  0673677002 0816586002 0706016002 0156231001 07...\n",
       "68980  9221813808370389952  0654590001 0714790020 0448509014 0749699002 06...\n",
       "68981  9222310594107555341  0904416002 0904416001 0863646001 0863595002 08...\n",
       "68982  9223099843213569889  0903773002 0776850001 0757909004 0706016002 07...\n",
       "68983  9223141695752178477  0918522001 0685814003 0448509014 0918292001 07...\n",
       "\n",
       "[68984 rows x 2 columns]"
      ]
     },
     "execution_count": 134,
     "metadata": {},
     "output_type": "execute_result"
    }
   ],
   "source": [
    "sub"
   ]
  },
  {
   "cell_type": "code",
   "execution_count": 135,
   "id": "63d0b523",
   "metadata": {
    "execution": {
     "iopub.execute_input": "2022-03-27T15:28:36.312748Z",
     "iopub.status.busy": "2022-03-27T15:28:36.311874Z",
     "iopub.status.idle": "2022-03-27T15:28:36.326460Z",
     "shell.execute_reply": "2022-03-27T15:28:36.325905Z",
     "shell.execute_reply.started": "2022-03-27T15:20:20.385589Z"
    },
    "papermill": {
     "duration": 0.166138,
     "end_time": "2022-03-27T15:28:36.326581",
     "exception": false,
     "start_time": "2022-03-27T15:28:36.160443",
     "status": "completed"
    },
    "tags": []
   },
   "outputs": [
    {
     "data": {
      "text/plain": [
       "0                17646\n",
       "(50.0, 100.0]    14603\n",
       "(20.0, 35.0]     10527\n",
       "(10.0, 20.0]      8439\n",
       "(35.0, 50.0]      7675\n",
       "(0.0, 5.0]        5210\n",
       "(5.0, 10.0]       4884\n",
       "Name: group, dtype: int32"
      ]
     },
     "execution_count": 135,
     "metadata": {},
     "output_type": "execute_result"
    }
   ],
   "source": [
    "his_count_group.value_counts()"
   ]
  },
  {
   "cell_type": "code",
   "execution_count": 136,
   "id": "91f0abef",
   "metadata": {
    "execution": {
     "iopub.execute_input": "2022-03-27T15:28:36.647253Z",
     "iopub.status.busy": "2022-03-27T15:28:36.637077Z",
     "iopub.status.idle": "2022-03-27T15:28:36.758507Z",
     "shell.execute_reply": "2022-03-27T15:28:36.758002Z",
     "shell.execute_reply.started": "2022-03-27T15:20:20.414927Z"
    },
    "papermill": {
     "duration": 0.285568,
     "end_time": "2022-03-27T15:28:36.758639",
     "exception": false,
     "start_time": "2022-03-27T15:28:36.473071",
     "status": "completed"
    },
    "tags": []
   },
   "outputs": [],
   "source": [
    "prediction =  sub[\"prediction\"].apply(lambda s: [] if pd.isna(s) else s.split())"
   ]
  },
  {
   "cell_type": "code",
   "execution_count": 137,
   "id": "aba1409d",
   "metadata": {
    "execution": {
     "iopub.execute_input": "2022-03-27T15:28:37.061899Z",
     "iopub.status.busy": "2022-03-27T15:28:37.060995Z",
     "iopub.status.idle": "2022-03-27T15:28:37.071809Z",
     "shell.execute_reply": "2022-03-27T15:28:37.071402Z",
     "shell.execute_reply.started": "2022-03-27T15:20:20.615137Z"
    },
    "papermill": {
     "duration": 0.164739,
     "end_time": "2022-03-27T15:28:37.071922",
     "exception": false,
     "start_time": "2022-03-27T15:28:36.907183",
     "status": "completed"
    },
    "tags": []
   },
   "outputs": [],
   "source": [
    "groups = {\"channal\":channal_group.to_pandas(),\n",
    "         \"age\":age_group.to_pandas(),\n",
    "         \"val_count\":count_group.to_pandas(),\n",
    "         \"train_count\": his_count_group.to_pandas()}"
   ]
  },
  {
   "cell_type": "code",
   "execution_count": 138,
   "id": "39600a96",
   "metadata": {
    "execution": {
     "iopub.execute_input": "2022-03-27T15:28:37.370518Z",
     "iopub.status.busy": "2022-03-27T15:28:37.369727Z",
     "iopub.status.idle": "2022-03-27T15:28:37.384504Z",
     "shell.execute_reply": "2022-03-27T15:28:37.383999Z",
     "shell.execute_reply.started": "2022-03-27T15:20:20.637575Z"
    },
    "papermill": {
     "duration": 0.165411,
     "end_time": "2022-03-27T15:28:37.384616",
     "exception": false,
     "start_time": "2022-03-27T15:28:37.219205",
     "status": "completed"
    },
    "tags": []
   },
   "outputs": [
    {
     "data": {
      "text/plain": [
       "(0, 1]        19994\n",
       "(1, 2]        16386\n",
       "(3, 5]        10928\n",
       "(2, 3]        10075\n",
       "(5, 10]        8668\n",
       "(10, 20]       2571\n",
       "(20, 9999]      362\n",
       "Name: group, dtype: int32"
      ]
     },
     "execution_count": 138,
     "metadata": {},
     "output_type": "execute_result"
    }
   ],
   "source": [
    "count_group.value_counts()"
   ]
  },
  {
   "cell_type": "code",
   "execution_count": 139,
   "id": "6f32f8e1",
   "metadata": {
    "execution": {
     "iopub.execute_input": "2022-03-27T15:28:37.683083Z",
     "iopub.status.busy": "2022-03-27T15:28:37.682422Z",
     "iopub.status.idle": "2022-03-27T15:28:37.684635Z",
     "shell.execute_reply": "2022-03-27T15:28:37.685056Z",
     "shell.execute_reply.started": "2022-03-27T15:20:20.667501Z"
    },
    "papermill": {
     "duration": 0.15294,
     "end_time": "2022-03-27T15:28:37.685192",
     "exception": false,
     "start_time": "2022-03-27T15:28:37.532252",
     "status": "completed"
    },
    "tags": []
   },
   "outputs": [],
   "source": [
    "#sorted(count_group.to_pandas().unique(), key = lambda x: float(x.replace(\"(\", \"1\").split(\",\")[0]))"
   ]
  },
  {
   "cell_type": "code",
   "execution_count": 140,
   "id": "5d46ba31",
   "metadata": {
    "execution": {
     "iopub.execute_input": "2022-03-27T15:28:38.047759Z",
     "iopub.status.busy": "2022-03-27T15:28:38.027079Z",
     "iopub.status.idle": "2022-03-27T15:28:41.245313Z",
     "shell.execute_reply": "2022-03-27T15:28:41.244828Z",
     "shell.execute_reply.started": "2022-03-27T15:20:20.677332Z"
    },
    "papermill": {
     "duration": 3.412879,
     "end_time": "2022-03-27T15:28:41.245445",
     "exception": false,
     "start_time": "2022-03-27T15:28:37.832566",
     "status": "completed"
    },
    "tags": []
   },
   "outputs": [
    {
     "data": {
      "text/html": [
       "<div>\n",
       "<style scoped>\n",
       "    .dataframe tbody tr th:only-of-type {\n",
       "        vertical-align: middle;\n",
       "    }\n",
       "\n",
       "    .dataframe tbody tr th {\n",
       "        vertical-align: top;\n",
       "    }\n",
       "\n",
       "    .dataframe thead th {\n",
       "        text-align: right;\n",
       "    }\n",
       "</style>\n",
       "<table border=\"1\" class=\"dataframe\">\n",
       "  <thead>\n",
       "    <tr style=\"text-align: right;\">\n",
       "      <th></th>\n",
       "      <th>1.0</th>\n",
       "      <th>2.0</th>\n",
       "      <th>All</th>\n",
       "      <th>Fill</th>\n",
       "    </tr>\n",
       "  </thead>\n",
       "  <tbody>\n",
       "    <tr>\n",
       "      <th>Last Purchase</th>\n",
       "      <td>0.01668</td>\n",
       "      <td>0.032121</td>\n",
       "      <td>0.025819</td>\n",
       "      <td>100.0</td>\n",
       "    </tr>\n",
       "  </tbody>\n",
       "</table>\n",
       "</div>"
      ],
      "text/plain": [
       "                   1.0       2.0       All   Fill\n",
       "Last Purchase  0.01668  0.032121  0.025819  100.0"
      ]
     },
     "metadata": {},
     "output_type": "display_data"
    },
    {
     "data": {
      "text/html": [
       "<div>\n",
       "<style scoped>\n",
       "    .dataframe tbody tr th:only-of-type {\n",
       "        vertical-align: middle;\n",
       "    }\n",
       "\n",
       "    .dataframe tbody tr th {\n",
       "        vertical-align: top;\n",
       "    }\n",
       "\n",
       "    .dataframe thead th {\n",
       "        text-align: right;\n",
       "    }\n",
       "</style>\n",
       "<table border=\"1\" class=\"dataframe\">\n",
       "  <thead>\n",
       "    <tr style=\"text-align: right;\">\n",
       "      <th></th>\n",
       "      <th>(0.0, 21.0]</th>\n",
       "      <th>(21.0, 24.0]</th>\n",
       "      <th>(24.0, 27.0]</th>\n",
       "      <th>(27.0, 30.0]</th>\n",
       "      <th>(30.0, 35.0]</th>\n",
       "      <th>(35.0, 40.0]</th>\n",
       "      <th>(40.0, 45.0]</th>\n",
       "      <th>(45.0, 50.0]</th>\n",
       "      <th>(50.0, 60.0]</th>\n",
       "      <th>(60.0, 9999.0]</th>\n",
       "      <th>-1</th>\n",
       "      <th>All</th>\n",
       "      <th>Fill</th>\n",
       "    </tr>\n",
       "  </thead>\n",
       "  <tbody>\n",
       "    <tr>\n",
       "      <th>Last Purchase</th>\n",
       "      <td>0.023196</td>\n",
       "      <td>0.02444</td>\n",
       "      <td>0.026239</td>\n",
       "      <td>0.025124</td>\n",
       "      <td>0.025349</td>\n",
       "      <td>0.025278</td>\n",
       "      <td>0.027472</td>\n",
       "      <td>0.025766</td>\n",
       "      <td>0.026848</td>\n",
       "      <td>0.03261</td>\n",
       "      <td>0.030783</td>\n",
       "      <td>0.025819</td>\n",
       "      <td>100.0</td>\n",
       "    </tr>\n",
       "  </tbody>\n",
       "</table>\n",
       "</div>"
      ],
      "text/plain": [
       "               (0.0, 21.0]  (21.0, 24.0]  (24.0, 27.0]  (27.0, 30.0]  \\\n",
       "Last Purchase     0.023196       0.02444      0.026239      0.025124   \n",
       "\n",
       "               (30.0, 35.0]  (35.0, 40.0]  (40.0, 45.0]  (45.0, 50.0]  \\\n",
       "Last Purchase      0.025349      0.025278      0.027472      0.025766   \n",
       "\n",
       "               (50.0, 60.0]  (60.0, 9999.0]        -1       All   Fill  \n",
       "Last Purchase      0.026848         0.03261  0.030783  0.025819  100.0  "
      ]
     },
     "metadata": {},
     "output_type": "display_data"
    },
    {
     "data": {
      "text/html": [
       "<div>\n",
       "<style scoped>\n",
       "    .dataframe tbody tr th:only-of-type {\n",
       "        vertical-align: middle;\n",
       "    }\n",
       "\n",
       "    .dataframe tbody tr th {\n",
       "        vertical-align: top;\n",
       "    }\n",
       "\n",
       "    .dataframe thead th {\n",
       "        text-align: right;\n",
       "    }\n",
       "</style>\n",
       "<table border=\"1\" class=\"dataframe\">\n",
       "  <thead>\n",
       "    <tr style=\"text-align: right;\">\n",
       "      <th></th>\n",
       "      <th>(0, 1]</th>\n",
       "      <th>(1, 2]</th>\n",
       "      <th>(10, 20]</th>\n",
       "      <th>(2, 3]</th>\n",
       "      <th>(20, 9999]</th>\n",
       "      <th>(3, 5]</th>\n",
       "      <th>(5, 10]</th>\n",
       "      <th>All</th>\n",
       "      <th>Fill</th>\n",
       "    </tr>\n",
       "  </thead>\n",
       "  <tbody>\n",
       "    <tr>\n",
       "      <th>Last Purchase</th>\n",
       "      <td>0.042522</td>\n",
       "      <td>0.025508</td>\n",
       "      <td>0.01208</td>\n",
       "      <td>0.020171</td>\n",
       "      <td>0.020593</td>\n",
       "      <td>0.014846</td>\n",
       "      <td>0.01257</td>\n",
       "      <td>0.025819</td>\n",
       "      <td>100.0</td>\n",
       "    </tr>\n",
       "  </tbody>\n",
       "</table>\n",
       "</div>"
      ],
      "text/plain": [
       "                 (0, 1]    (1, 2]  (10, 20]    (2, 3]  (20, 9999]    (3, 5]  \\\n",
       "Last Purchase  0.042522  0.025508   0.01208  0.020171    0.020593  0.014846   \n",
       "\n",
       "               (5, 10]       All   Fill  \n",
       "Last Purchase  0.01257  0.025819  100.0  "
      ]
     },
     "metadata": {},
     "output_type": "display_data"
    },
    {
     "data": {
      "text/html": [
       "<div>\n",
       "<style scoped>\n",
       "    .dataframe tbody tr th:only-of-type {\n",
       "        vertical-align: middle;\n",
       "    }\n",
       "\n",
       "    .dataframe tbody tr th {\n",
       "        vertical-align: top;\n",
       "    }\n",
       "\n",
       "    .dataframe thead th {\n",
       "        text-align: right;\n",
       "    }\n",
       "</style>\n",
       "<table border=\"1\" class=\"dataframe\">\n",
       "  <thead>\n",
       "    <tr style=\"text-align: right;\">\n",
       "      <th></th>\n",
       "      <th>(0.0, 5.0]</th>\n",
       "      <th>(10.0, 20.0]</th>\n",
       "      <th>(20.0, 35.0]</th>\n",
       "      <th>(35.0, 50.0]</th>\n",
       "      <th>(5.0, 10.0]</th>\n",
       "      <th>(50.0, 100.0]</th>\n",
       "      <th>0</th>\n",
       "      <th>All</th>\n",
       "      <th>Fill</th>\n",
       "    </tr>\n",
       "  </thead>\n",
       "  <tbody>\n",
       "    <tr>\n",
       "      <th>Last Purchase</th>\n",
       "      <td>0.033321</td>\n",
       "      <td>0.028077</td>\n",
       "      <td>0.026239</td>\n",
       "      <td>0.025087</td>\n",
       "      <td>0.029007</td>\n",
       "      <td>0.026612</td>\n",
       "      <td>0.021053</td>\n",
       "      <td>0.025819</td>\n",
       "      <td>100.0</td>\n",
       "    </tr>\n",
       "  </tbody>\n",
       "</table>\n",
       "</div>"
      ],
      "text/plain": [
       "               (0.0, 5.0]  (10.0, 20.0]  (20.0, 35.0]  (35.0, 50.0]  \\\n",
       "Last Purchase    0.033321      0.028077      0.026239      0.025087   \n",
       "\n",
       "               (5.0, 10.0]  (50.0, 100.0]         0       All   Fill  \n",
       "Last Purchase     0.029007       0.026612  0.021053  0.025819  100.0  "
      ]
     },
     "metadata": {},
     "output_type": "display_data"
    },
    {
     "data": {
      "image/png": "[encoded data removed]",
      "text/plain": [
       "<Figure size 1584x432 with 5 Axes>"
      ]
     },
     "metadata": {},
     "output_type": "display_data"
    }
   ],
   "source": [
    "score = validation(real.article_id, prediction, groups, index='Last Purchase', ignore=0)"
   ]
  },
  {
   "cell_type": "markdown",
   "id": "83c543e4",
   "metadata": {
    "papermill": {
     "duration": 0.167116,
     "end_time": "2022-03-27T15:28:41.565412",
     "exception": false,
     "start_time": "2022-03-27T15:28:41.398296",
     "status": "completed"
    },
    "tags": []
   },
   "source": [
    "# 生成测试集"
   ]
  },
  {
   "cell_type": "code",
   "execution_count": 141,
   "id": "8298a87b",
   "metadata": {
    "execution": {
     "iopub.execute_input": "2022-03-27T15:28:41.911083Z",
     "iopub.status.busy": "2022-03-27T15:28:41.910213Z",
     "iopub.status.idle": "2022-03-27T15:28:41.912825Z",
     "shell.execute_reply": "2022-03-27T15:28:41.912400Z",
     "shell.execute_reply.started": "2022-03-27T15:20:23.839440Z"
    },
    "papermill": {
     "duration": 0.175609,
     "end_time": "2022-03-27T15:28:41.912939",
     "exception": false,
     "start_time": "2022-03-27T15:28:41.737330",
     "status": "completed"
    },
    "tags": []
   },
   "outputs": [],
   "source": [
    "import datetime"
   ]
  },
  {
   "cell_type": "code",
   "execution_count": 142,
   "id": "8d3e28b8",
   "metadata": {
    "execution": {
     "iopub.execute_input": "2022-03-27T15:28:42.241168Z",
     "iopub.status.busy": "2022-03-27T15:28:42.240170Z",
     "iopub.status.idle": "2022-03-27T15:28:42.242077Z",
     "shell.execute_reply": "2022-03-27T15:28:42.242555Z",
     "shell.execute_reply.started": "2022-03-27T15:20:23.845552Z"
    },
    "papermill": {
     "duration": 0.167644,
     "end_time": "2022-03-27T15:28:42.242691",
     "exception": false,
     "start_time": "2022-03-27T15:28:42.075047",
     "status": "completed"
    },
    "tags": []
   },
   "outputs": [],
   "source": [
    "if Last_date == \"2020-09-22\":\n",
    "    sub[[\"customer_id\", \"prediction\"]].to_csv(\"sub_sz_{}.csv\".format(datetime.datetime.now().strftime('%Y-%m-%d %H:%M:%S')), index = False)"
   ]
  },
  {
   "cell_type": "code",
   "execution_count": 143,
   "id": "1828b8ce",
   "metadata": {
    "execution": {
     "iopub.execute_input": "2022-03-27T15:28:42.556986Z",
     "iopub.status.busy": "2022-03-27T15:28:42.556132Z",
     "iopub.status.idle": "2022-03-27T15:28:42.557858Z",
     "shell.execute_reply": "2022-03-27T15:28:42.558321Z",
     "shell.execute_reply.started": "2022-03-27T15:20:23.859095Z"
    },
    "papermill": {
     "duration": 0.156977,
     "end_time": "2022-03-27T15:28:42.558466",
     "exception": false,
     "start_time": "2022-03-27T15:28:42.401489",
     "status": "completed"
    },
    "tags": []
   },
   "outputs": [],
   "source": [
    "del merge_result\n",
    "del sub\n",
    "del real"
   ]
  }
 ],
 "metadata": {
  "kernelspec": {
   "display_name": "Python 3",
   "language": "python",
   "name": "python3"
  },
  "language_info": {
   "codemirror_mode": {
    "name": "ipython",
    "version": 3
   },
   "file_extension": ".py",
   "mimetype": "text/x-python",
   "name": "python",
   "nbconvert_exporter": "python",
   "pygments_lexer": "ipython3",
   "version": "3.7.12"
  },
  "papermill": {
   "default_parameters": {},
   "duration": 262.200158,
   "end_time": "2022-03-27T15:28:44.621820",
   "environment_variables": {},
   "exception": null,
   "input_path": "__notebook__.ipynb",
   "output_path": "__notebook__.ipynb",
   "parameters": {},
   "start_time": "2022-03-27T15:24:22.421662",
   "version": "2.3.3"
  }
 },
 "nbformat": 4,
 "nbformat_minor": 5
}
