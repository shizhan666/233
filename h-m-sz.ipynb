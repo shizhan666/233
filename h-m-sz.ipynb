{
 "cells": [
  {
   "cell_type": "code",
   "execution_count": 1,
   "id": "3333c1e9",
   "metadata": {
    "_cell_guid": "943588d1-5a68-423d-8467-cf160a3d8ebe",
    "_uuid": "87c89b79-df99-4e99-bf2e-f62a5d325cc4",
    "collapsed": false,
    "execution": {
     "iopub.execute_input": "2022-04-04T11:32:31.065651Z",
     "iopub.status.busy": "2022-04-04T11:32:31.064870Z",
     "iopub.status.idle": "2022-04-04T11:32:43.501451Z",
     "shell.execute_reply": "2022-04-04T11:32:43.501976Z",
     "shell.execute_reply.started": "2022-04-04T11:21:36.848058Z"
    },
    "jupyter": {
     "outputs_hidden": false
    },
    "papermill": {
     "duration": 12.593745,
     "end_time": "2022-04-04T11:32:43.502285",
     "exception": false,
     "start_time": "2022-04-04T11:32:30.908540",
     "status": "completed"
    },
    "tags": []
   },
   "outputs": [
    {
     "name": "stdout",
     "output_type": "stream",
     "text": [
      "Requirement already satisfied: cudf in /opt/conda/lib/python3.7/site-packages (21.10.1)\r\n",
      "Requirement already satisfied: numba>=0.53.1 in /opt/conda/lib/python3.7/site-packages (from cudf) (0.54.1)\r\n",
      "Requirement already satisfied: Cython<0.30,>=0.29 in /opt/conda/lib/python3.7/site-packages (from cudf) (0.29.28)\r\n",
      "Requirement already satisfied: fastavro>=0.22.9 in /opt/conda/lib/python3.7/site-packages (from cudf) (1.4.9)\r\n",
      "Requirement already satisfied: fsspec>=0.6.0 in /opt/conda/lib/python3.7/site-packages (from cudf) (2022.2.0)\r\n",
      "Requirement already satisfied: numpy in /opt/conda/lib/python3.7/site-packages (from cudf) (1.20.3)\r\n",
      "Requirement already satisfied: pandas<1.4.0dev0,>=1.0 in /opt/conda/lib/python3.7/site-packages (from cudf) (1.3.5)\r\n",
      "Requirement already satisfied: typing_extensions in /opt/conda/lib/python3.7/site-packages (from cudf) (4.1.1)\r\n",
      "Requirement already satisfied: protobuf in /opt/conda/lib/python3.7/site-packages (from cudf) (3.19.1)\r\n",
      "Requirement already satisfied: nvtx>=0.2.1 in /opt/conda/lib/python3.7/site-packages (from cudf) (0.2.3)\r\n",
      "Requirement already satisfied: cachetools in /opt/conda/lib/python3.7/site-packages (from cudf) (4.2.4)\r\n",
      "Requirement already satisfied: packaging in /opt/conda/lib/python3.7/site-packages (from cudf) (21.3)\r\n",
      "Requirement already satisfied: cupy-cuda110 in /opt/conda/lib/python3.7/site-packages (from cudf) (10.2.0)\r\n",
      "Requirement already satisfied: setuptools in /opt/conda/lib/python3.7/site-packages (from numba>=0.53.1->cudf) (59.5.0)\r\n",
      "Requirement already satisfied: llvmlite<0.38,>=0.37.0rc1 in /opt/conda/lib/python3.7/site-packages (from numba>=0.53.1->cudf) (0.37.0)\r\n",
      "Requirement already satisfied: python-dateutil>=2.7.3 in /opt/conda/lib/python3.7/site-packages (from pandas<1.4.0dev0,>=1.0->cudf) (2.8.2)\r\n",
      "Requirement already satisfied: pytz>=2017.3 in /opt/conda/lib/python3.7/site-packages (from pandas<1.4.0dev0,>=1.0->cudf) (2021.3)\r\n",
      "Requirement already satisfied: fastrlock>=0.5 in /opt/conda/lib/python3.7/site-packages (from cupy-cuda110->cudf) (0.8)\r\n",
      "Requirement already satisfied: pyparsing!=3.0.5,>=2.0.2 in /opt/conda/lib/python3.7/site-packages (from packaging->cudf) (3.0.6)\r\n",
      "Requirement already satisfied: six>=1.5 in /opt/conda/lib/python3.7/site-packages (from python-dateutil>=2.7.3->pandas<1.4.0dev0,>=1.0->cudf) (1.16.0)\r\n",
      "\u001b[33mWARNING: Running pip as the 'root' user can result in broken permissions and conflicting behaviour with the system package manager. It is recommended to use a virtual environment instead: https://pip.pypa.io/warnings/venv\u001b[0m\r\n"
     ]
    }
   ],
   "source": [
    "!pip install cudf\n",
    "import numpy as np\n",
    "import pandas as pd \n",
    "from datetime import datetime, timedelta\n",
    "import gc\n",
    "import cudf\n",
    "import cv2, matplotlib.pyplot as plt\n",
    "from os.path import exists"
   ]
  },
  {
   "cell_type": "code",
   "execution_count": 2,
   "id": "d0a919e8",
   "metadata": {
    "execution": {
     "iopub.execute_input": "2022-04-04T11:32:43.810877Z",
     "iopub.status.busy": "2022-04-04T11:32:43.810045Z",
     "iopub.status.idle": "2022-04-04T11:32:43.812122Z",
     "shell.execute_reply": "2022-04-04T11:32:43.812497Z",
     "shell.execute_reply.started": "2022-04-04T11:21:49.650480Z"
    },
    "papermill": {
     "duration": 0.15216,
     "end_time": "2022-04-04T11:32:43.812629",
     "exception": false,
     "start_time": "2022-04-04T11:32:43.660469",
     "status": "completed"
    },
    "tags": []
   },
   "outputs": [],
   "source": [
    "Online = False"
   ]
  },
  {
   "cell_type": "markdown",
   "id": "02d5abb0",
   "metadata": {
    "_cell_guid": "8f45c56c-8de5-4a93-896b-80dc8c3005fa",
    "_uuid": "3e5aa678-d15b-457d-8a0f-c4a59a8f4c8a",
    "editable": false,
    "papermill": {
     "duration": 0.145124,
     "end_time": "2022-04-04T11:32:44.102732",
     "exception": false,
     "start_time": "2022-04-04T11:32:43.957608",
     "status": "completed"
    },
    "tags": []
   },
   "source": [
    "### Read the transactions data"
   ]
  },
  {
   "cell_type": "code",
   "execution_count": 3,
   "id": "4d444112",
   "metadata": {
    "_cell_guid": "8b3aee1b-7f84-47d3-82cb-a5bdbbf77e31",
    "_uuid": "c6c96268-5baf-4620-a4e7-1032a366906d",
    "collapsed": false,
    "execution": {
     "iopub.execute_input": "2022-04-04T11:32:44.401674Z",
     "iopub.status.busy": "2022-04-04T11:32:44.401114Z",
     "iopub.status.idle": "2022-04-04T11:32:44.404649Z",
     "shell.execute_reply": "2022-04-04T11:32:44.404245Z",
     "shell.execute_reply.started": "2022-04-04T11:21:49.656312Z"
    },
    "jupyter": {
     "outputs_hidden": false
    },
    "papermill": {
     "duration": 0.154144,
     "end_time": "2022-04-04T11:32:44.404763",
     "exception": false,
     "start_time": "2022-04-04T11:32:44.250619",
     "status": "completed"
    },
    "tags": []
   },
   "outputs": [],
   "source": [
    "Date_week1 = pd.to_datetime(\"2020-09-16\")\n",
    "Date_week2 = pd.to_datetime(\"2020-09-09\")\n",
    "Date_week3 = pd.to_datetime(\"2020-09-02\")\n",
    "Last_date = pd.to_datetime(\"2020-09-22\")"
   ]
  },
  {
   "cell_type": "code",
   "execution_count": 4,
   "id": "16d2872f",
   "metadata": {
    "_cell_guid": "42f55d04-09d5-4696-8c51-e25287bf8445",
    "_uuid": "f016e503-1e3c-45de-85b1-b8cd495d8f50",
    "collapsed": false,
    "execution": {
     "iopub.execute_input": "2022-04-04T11:32:44.697333Z",
     "iopub.status.busy": "2022-04-04T11:32:44.695684Z",
     "iopub.status.idle": "2022-04-04T11:32:44.697898Z",
     "shell.execute_reply": "2022-04-04T11:32:44.698321Z",
     "shell.execute_reply.started": "2022-04-04T11:21:49.669778Z"
    },
    "jupyter": {
     "outputs_hidden": false
    },
    "papermill": {
     "duration": 0.14908,
     "end_time": "2022-04-04T11:32:44.698458",
     "exception": false,
     "start_time": "2022-04-04T11:32:44.549378",
     "status": "completed"
    },
    "tags": []
   },
   "outputs": [],
   "source": [
    "N = 12"
   ]
  },
  {
   "cell_type": "code",
   "execution_count": 5,
   "id": "7bf25fe7",
   "metadata": {
    "_cell_guid": "f5173183-3b25-48a8-a23c-dc86064cdc05",
    "_uuid": "457cc772-8110-417f-88fd-bc20a5628c85",
    "collapsed": false,
    "execution": {
     "iopub.execute_input": "2022-04-04T11:32:44.992169Z",
     "iopub.status.busy": "2022-04-04T11:32:44.991361Z",
     "iopub.status.idle": "2022-04-04T11:33:22.808369Z",
     "shell.execute_reply": "2022-04-04T11:33:22.807401Z",
     "shell.execute_reply.started": "2022-04-04T11:21:49.678574Z"
    },
    "jupyter": {
     "outputs_hidden": false
    },
    "papermill": {
     "duration": 37.967858,
     "end_time": "2022-04-04T11:33:22.808529",
     "exception": false,
     "start_time": "2022-04-04T11:32:44.840671",
     "status": "completed"
    },
    "tags": []
   },
   "outputs": [],
   "source": [
    "df  = cudf.read_csv('../input/h-and-m-personalized-fashion-recommendations/transactions_train.csv')\n",
    "                            #usecols= ['t_dat', 'customer_id', 'article_id'], \n",
    "                            #dtype={'article_id': 'int32', 't_dat': 'string', 'customer_id': 'string', \"sales_channel_id\": 'int32', \"price\": \"float\"})\n",
    "df ['customer_id'] = df ['customer_id'].str[-16:].str.hex_to_int().astype('int64')\n",
    "df.article_id = df.article_id.astype('int32')\n",
    "df['t_dat'] = cudf.to_datetime(df['t_dat'])\n",
    "#Last_date = df['t_dat'].max()"
   ]
  },
  {
   "cell_type": "code",
   "execution_count": 6,
   "id": "84b3447a",
   "metadata": {
    "execution": {
     "iopub.execute_input": "2022-04-04T11:33:23.103046Z",
     "iopub.status.busy": "2022-04-04T11:33:23.102148Z",
     "iopub.status.idle": "2022-04-04T11:33:25.537893Z",
     "shell.execute_reply": "2022-04-04T11:33:25.536855Z",
     "shell.execute_reply.started": "2022-04-04T11:22:31.500113Z"
    },
    "papermill": {
     "duration": 2.585101,
     "end_time": "2022-04-04T11:33:25.538081",
     "exception": false,
     "start_time": "2022-04-04T11:33:22.952980",
     "status": "completed"
    },
    "tags": []
   },
   "outputs": [],
   "source": [
    "customer = cudf.read_csv('../input/h-and-m-personalized-fashion-recommendations/customers.csv')\n",
    "customer.customer_id = customer.customer_id.str[-16:].str.hex_to_int().astype('int64')"
   ]
  },
  {
   "cell_type": "code",
   "execution_count": 7,
   "id": "d43b9efa",
   "metadata": {
    "_cell_guid": "bac53a65-cb48-4e0e-86aa-0d5fbcb9ea43",
    "_uuid": "ee0ba74a-ccf5-4e41-992a-3e5586de5ef9",
    "collapsed": false,
    "execution": {
     "iopub.execute_input": "2022-04-04T11:33:25.847370Z",
     "iopub.status.busy": "2022-04-04T11:33:25.837765Z",
     "iopub.status.idle": "2022-04-04T11:33:25.909624Z",
     "shell.execute_reply": "2022-04-04T11:33:25.910038Z",
     "shell.execute_reply.started": "2022-04-04T11:22:34.242579Z"
    },
    "jupyter": {
     "outputs_hidden": false
    },
    "papermill": {
     "duration": 0.226035,
     "end_time": "2022-04-04T11:33:25.910198",
     "exception": false,
     "start_time": "2022-04-04T11:33:25.684163",
     "status": "completed"
    },
    "tags": []
   },
   "outputs": [
    {
     "data": {
      "text/html": [
       "<div>\n",
       "<style scoped>\n",
       "    .dataframe tbody tr th:only-of-type {\n",
       "        vertical-align: middle;\n",
       "    }\n",
       "\n",
       "    .dataframe tbody tr th {\n",
       "        vertical-align: top;\n",
       "    }\n",
       "\n",
       "    .dataframe thead th {\n",
       "        text-align: right;\n",
       "    }\n",
       "</style>\n",
       "<table border=\"1\" class=\"dataframe\">\n",
       "  <thead>\n",
       "    <tr style=\"text-align: right;\">\n",
       "      <th></th>\n",
       "      <th>t_dat</th>\n",
       "      <th>customer_id</th>\n",
       "      <th>article_id</th>\n",
       "      <th>price</th>\n",
       "      <th>sales_channel_id</th>\n",
       "    </tr>\n",
       "  </thead>\n",
       "  <tbody>\n",
       "    <tr>\n",
       "      <th>0</th>\n",
       "      <td>2018-09-20</td>\n",
       "      <td>-6846340800584936</td>\n",
       "      <td>663713001</td>\n",
       "      <td>0.050831</td>\n",
       "      <td>2</td>\n",
       "    </tr>\n",
       "    <tr>\n",
       "      <th>1</th>\n",
       "      <td>2018-09-20</td>\n",
       "      <td>-6846340800584936</td>\n",
       "      <td>541518023</td>\n",
       "      <td>0.030492</td>\n",
       "      <td>2</td>\n",
       "    </tr>\n",
       "    <tr>\n",
       "      <th>2</th>\n",
       "      <td>2018-09-20</td>\n",
       "      <td>-8334631767138808638</td>\n",
       "      <td>505221004</td>\n",
       "      <td>0.015237</td>\n",
       "      <td>2</td>\n",
       "    </tr>\n",
       "    <tr>\n",
       "      <th>3</th>\n",
       "      <td>2018-09-20</td>\n",
       "      <td>-8334631767138808638</td>\n",
       "      <td>685687003</td>\n",
       "      <td>0.016932</td>\n",
       "      <td>2</td>\n",
       "    </tr>\n",
       "    <tr>\n",
       "      <th>4</th>\n",
       "      <td>2018-09-20</td>\n",
       "      <td>-8334631767138808638</td>\n",
       "      <td>685687004</td>\n",
       "      <td>0.016932</td>\n",
       "      <td>2</td>\n",
       "    </tr>\n",
       "    <tr>\n",
       "      <th>...</th>\n",
       "      <td>...</td>\n",
       "      <td>...</td>\n",
       "      <td>...</td>\n",
       "      <td>...</td>\n",
       "      <td>...</td>\n",
       "    </tr>\n",
       "    <tr>\n",
       "      <th>31788319</th>\n",
       "      <td>2020-09-22</td>\n",
       "      <td>4685485978980270934</td>\n",
       "      <td>929511001</td>\n",
       "      <td>0.059305</td>\n",
       "      <td>2</td>\n",
       "    </tr>\n",
       "    <tr>\n",
       "      <th>31788320</th>\n",
       "      <td>2020-09-22</td>\n",
       "      <td>4685485978980270934</td>\n",
       "      <td>891322004</td>\n",
       "      <td>0.042356</td>\n",
       "      <td>2</td>\n",
       "    </tr>\n",
       "    <tr>\n",
       "      <th>31788321</th>\n",
       "      <td>2020-09-22</td>\n",
       "      <td>3959348689921271969</td>\n",
       "      <td>918325001</td>\n",
       "      <td>0.043203</td>\n",
       "      <td>1</td>\n",
       "    </tr>\n",
       "    <tr>\n",
       "      <th>31788322</th>\n",
       "      <td>2020-09-22</td>\n",
       "      <td>-8639340045377511665</td>\n",
       "      <td>833459002</td>\n",
       "      <td>0.006763</td>\n",
       "      <td>1</td>\n",
       "    </tr>\n",
       "    <tr>\n",
       "      <th>31788323</th>\n",
       "      <td>2020-09-22</td>\n",
       "      <td>3235222691137941515</td>\n",
       "      <td>898573003</td>\n",
       "      <td>0.033881</td>\n",
       "      <td>2</td>\n",
       "    </tr>\n",
       "  </tbody>\n",
       "</table>\n",
       "<p>31788324 rows × 5 columns</p>\n",
       "</div>"
      ],
      "text/plain": [
       "              t_dat          customer_id  article_id     price  \\\n",
       "0        2018-09-20    -6846340800584936   663713001  0.050831   \n",
       "1        2018-09-20    -6846340800584936   541518023  0.030492   \n",
       "2        2018-09-20 -8334631767138808638   505221004  0.015237   \n",
       "3        2018-09-20 -8334631767138808638   685687003  0.016932   \n",
       "4        2018-09-20 -8334631767138808638   685687004  0.016932   \n",
       "...             ...                  ...         ...       ...   \n",
       "31788319 2020-09-22  4685485978980270934   929511001  0.059305   \n",
       "31788320 2020-09-22  4685485978980270934   891322004  0.042356   \n",
       "31788321 2020-09-22  3959348689921271969   918325001  0.043203   \n",
       "31788322 2020-09-22 -8639340045377511665   833459002  0.006763   \n",
       "31788323 2020-09-22  3235222691137941515   898573003  0.033881   \n",
       "\n",
       "          sales_channel_id  \n",
       "0                        2  \n",
       "1                        2  \n",
       "2                        2  \n",
       "3                        2  \n",
       "4                        2  \n",
       "...                    ...  \n",
       "31788319                 2  \n",
       "31788320                 2  \n",
       "31788321                 1  \n",
       "31788322                 1  \n",
       "31788323                 2  \n",
       "\n",
       "[31788324 rows x 5 columns]"
      ]
     },
     "execution_count": 7,
     "metadata": {},
     "output_type": "execute_result"
    }
   ],
   "source": [
    "df"
   ]
  },
  {
   "cell_type": "markdown",
   "id": "078a05ac",
   "metadata": {
    "_cell_guid": "a2bb9afc-941f-4d6d-8626-08a24cc75596",
    "_uuid": "bc214126-6a44-4324-b210-7d7128d4135c",
    "editable": false,
    "papermill": {
     "duration": 0.145391,
     "end_time": "2022-04-04T11:33:26.203097",
     "exception": false,
     "start_time": "2022-04-04T11:33:26.057706",
     "status": "completed"
    },
    "tags": []
   },
   "source": [
    "## 划分训练集和验证集"
   ]
  },
  {
   "cell_type": "code",
   "execution_count": 8,
   "id": "c96af9a7",
   "metadata": {
    "_cell_guid": "355420f0-15d4-4897-8c8b-51774593e37a",
    "_uuid": "6be7cca0-d9d3-4073-bf36-b2ebd1ff67f3",
    "collapsed": false,
    "execution": {
     "iopub.execute_input": "2022-04-04T11:33:26.514738Z",
     "iopub.status.busy": "2022-04-04T11:33:26.513917Z",
     "iopub.status.idle": "2022-04-04T11:33:26.570094Z",
     "shell.execute_reply": "2022-04-04T11:33:26.569629Z",
     "shell.execute_reply.started": "2022-04-04T11:22:34.324264Z"
    },
    "jupyter": {
     "outputs_hidden": false
    },
    "papermill": {
     "duration": 0.220965,
     "end_time": "2022-04-04T11:33:26.570225",
     "exception": false,
     "start_time": "2022-04-04T11:33:26.349260",
     "status": "completed"
    },
    "tags": []
   },
   "outputs": [],
   "source": [
    "if not Online:\n",
    "    val = df[df['t_dat']>= Date_week1].copy()\n",
    "    train = df[df['t_dat']< Date_week1].copy()\n",
    "    Last_date = pd.to_datetime(\"2020-09-15\")\n",
    "    Date_week1 = pd.to_datetime(\"2020-09-09\")\n",
    "    Date_week2 = pd.to_datetime(\"2020-09-02\")\n",
    "    Date_week3 = pd.to_datetime(\"2020-08-26\")\n",
    "if Online:\n",
    "    train = df"
   ]
  },
  {
   "cell_type": "markdown",
   "id": "1d999e5a",
   "metadata": {
    "_cell_guid": "999e62e2-bc69-4e57-8257-a697a4624746",
    "_uuid": "1ee572b2-3480-4409-bc02-907628099774",
    "editable": false,
    "papermill": {
     "duration": 0.142966,
     "end_time": "2022-04-04T11:33:26.856074",
     "exception": false,
     "start_time": "2022-04-04T11:33:26.713108",
     "status": "completed"
    },
    "tags": []
   },
   "source": [
    "## 第一路：复购预测"
   ]
  },
  {
   "cell_type": "code",
   "execution_count": 9,
   "id": "10331f77",
   "metadata": {
    "_cell_guid": "bff88d78-99b3-4e25-ac4b-b7cc4157ceee",
    "_uuid": "1dabaf8d-b904-4d4c-a584-cdfaf4199a39",
    "collapsed": false,
    "execution": {
     "iopub.execute_input": "2022-04-04T11:33:27.240990Z",
     "iopub.status.busy": "2022-04-04T11:33:27.239172Z",
     "iopub.status.idle": "2022-04-04T11:33:27.244467Z",
     "shell.execute_reply": "2022-04-04T11:33:27.244966Z",
     "shell.execute_reply.started": "2022-04-04T11:22:34.381889Z"
    },
    "jupyter": {
     "outputs_hidden": false
    },
    "papermill": {
     "duration": 0.245626,
     "end_time": "2022-04-04T11:33:27.245155",
     "exception": false,
     "start_time": "2022-04-04T11:33:26.999529",
     "status": "completed"
    },
    "tags": []
   },
   "outputs": [],
   "source": [
    "df = train.copy()"
   ]
  },
  {
   "cell_type": "code",
   "execution_count": 10,
   "id": "7d8586e3",
   "metadata": {
    "_cell_guid": "032f0009-7b2d-434f-892c-22d7362be933",
    "_uuid": "c445f3e2-77ca-4e38-ae10-9d0150b0ef87",
    "collapsed": false,
    "execution": {
     "iopub.execute_input": "2022-04-04T11:33:27.690807Z",
     "iopub.status.busy": "2022-04-04T11:33:27.689991Z",
     "iopub.status.idle": "2022-04-04T11:33:35.350649Z",
     "shell.execute_reply": "2022-04-04T11:33:35.351246Z",
     "shell.execute_reply.started": "2022-04-04T11:22:34.409723Z"
    },
    "jupyter": {
     "outputs_hidden": false
    },
    "papermill": {
     "duration": 7.867468,
     "end_time": "2022-04-04T11:33:35.351441",
     "exception": false,
     "start_time": "2022-04-04T11:33:27.483973",
     "status": "completed"
    },
    "tags": []
   },
   "outputs": [
    {
     "name": "stdout",
     "output_type": "stream",
     "text": [
      "CPU times: user 6.21 s, sys: 1.59 s, total: 7.8 s\n",
      "Wall time: 7.66 s\n"
     ]
    }
   ],
   "source": [
    "%%time\n",
    "tmp = df[['t_dat']].copy().to_pandas()\n",
    "tmp['dow'] = tmp['t_dat'].dt.dayofweek\n",
    "tmp['ldbw'] = tmp['t_dat'] - pd.TimedeltaIndex(tmp['dow'] - 1, unit='D')\n",
    "tmp.loc[tmp['dow'] >=2 , 'ldbw'] = tmp.loc[tmp['dow'] >=2 , 'ldbw'] + pd.TimedeltaIndex(np.ones(len(tmp.loc[tmp['dow'] >=2])) * 7, unit='D')\n",
    "df['ldbw'] = tmp['ldbw'].values"
   ]
  },
  {
   "cell_type": "code",
   "execution_count": 11,
   "id": "558a4126",
   "metadata": {
    "_cell_guid": "98650a14-be49-4ea6-932d-46db33e46a52",
    "_uuid": "e2d8bb01-263f-443e-91e0-c13ac5a6cb78",
    "collapsed": false,
    "execution": {
     "iopub.execute_input": "2022-04-04T11:33:35.642195Z",
     "iopub.status.busy": "2022-04-04T11:33:35.641380Z",
     "iopub.status.idle": "2022-04-04T11:33:35.769440Z",
     "shell.execute_reply": "2022-04-04T11:33:35.768959Z",
     "shell.execute_reply.started": "2022-04-04T11:22:42.169058Z"
    },
    "jupyter": {
     "outputs_hidden": false
    },
    "papermill": {
     "duration": 0.273648,
     "end_time": "2022-04-04T11:33:35.769568",
     "exception": false,
     "start_time": "2022-04-04T11:33:35.495920",
     "status": "completed"
    },
    "tags": []
   },
   "outputs": [],
   "source": [
    "weekly_sales = df.drop('customer_id', axis=1).groupby(['ldbw', 'article_id']).count().reset_index()\n",
    "weekly_sales = weekly_sales.rename(columns={'t_dat': 'count'})"
   ]
  },
  {
   "cell_type": "code",
   "execution_count": 12,
   "id": "f055e972",
   "metadata": {
    "_cell_guid": "1a1d9928-b6b1-4ef1-9bc4-b1d90278521d",
    "_uuid": "55308baf-b51a-4f25-9b36-6948ac902f90",
    "collapsed": false,
    "execution": {
     "iopub.execute_input": "2022-04-04T11:33:36.110183Z",
     "iopub.status.busy": "2022-04-04T11:33:36.109505Z",
     "iopub.status.idle": "2022-04-04T11:33:36.189286Z",
     "shell.execute_reply": "2022-04-04T11:33:36.188819Z",
     "shell.execute_reply.started": "2022-04-04T11:22:42.312113Z"
    },
    "jupyter": {
     "outputs_hidden": false
    },
    "papermill": {
     "duration": 0.272847,
     "end_time": "2022-04-04T11:33:36.189426",
     "exception": false,
     "start_time": "2022-04-04T11:33:35.916579",
     "status": "completed"
    },
    "tags": []
   },
   "outputs": [],
   "source": [
    "df = df.merge(weekly_sales, on=['ldbw', 'article_id'], how = 'left')"
   ]
  },
  {
   "cell_type": "markdown",
   "id": "7b94dd47",
   "metadata": {
    "_cell_guid": "ae404e56-067c-4b09-b999-1a2f98a5537a",
    "_uuid": "6274d245-d8c6-4c72-825d-2bb4be0da696",
    "editable": false,
    "papermill": {
     "duration": 0.145884,
     "end_time": "2022-04-04T11:33:36.479704",
     "exception": false,
     "start_time": "2022-04-04T11:33:36.333820",
     "status": "completed"
    },
    "tags": []
   },
   "source": [
    "### Let's assume that in the target week sales will be similar to the last week of the training data"
   ]
  },
  {
   "cell_type": "code",
   "execution_count": 13,
   "id": "5f79b834",
   "metadata": {
    "_cell_guid": "ce554581-cb66-4f98-8e33-2ccf2bd34d28",
    "_uuid": "6e1f0c8e-e73e-486a-bb83-cd8737cee56c",
    "collapsed": false,
    "execution": {
     "iopub.execute_input": "2022-04-04T11:33:36.789999Z",
     "iopub.status.busy": "2022-04-04T11:33:36.789203Z",
     "iopub.status.idle": "2022-04-04T11:33:36.891859Z",
     "shell.execute_reply": "2022-04-04T11:33:36.892322Z",
     "shell.execute_reply.started": "2022-04-04T11:22:42.442244Z"
    },
    "jupyter": {
     "outputs_hidden": false
    },
    "papermill": {
     "duration": 0.260932,
     "end_time": "2022-04-04T11:33:36.892481",
     "exception": false,
     "start_time": "2022-04-04T11:33:36.631549",
     "status": "completed"
    },
    "tags": []
   },
   "outputs": [],
   "source": [
    "weekly_sales = weekly_sales.reset_index().set_index('article_id')\n",
    "\n",
    "df = df.merge(\n",
    "    weekly_sales.loc[weekly_sales['ldbw']==Last_date, ['count']],\n",
    "    on='article_id', suffixes=(\"\", \"_targ\"))\n",
    "\n",
    "df['count_targ'].fillna(0, inplace=True)"
   ]
  },
  {
   "cell_type": "markdown",
   "id": "3454000f",
   "metadata": {
    "_cell_guid": "abb99ddb-6823-4abe-977c-589188ac046f",
    "_uuid": "ceee0be8-8e3b-48d2-bb45-23dcfaeaa991",
    "editable": false,
    "papermill": {
     "duration": 0.146664,
     "end_time": "2022-04-04T11:33:37.184215",
     "exception": false,
     "start_time": "2022-04-04T11:33:37.037551",
     "status": "completed"
    },
    "tags": []
   },
   "source": [
    "### Calculate sales rate adjusted for changes in product popularity"
   ]
  },
  {
   "cell_type": "code",
   "execution_count": 14,
   "id": "073d3307",
   "metadata": {
    "_cell_guid": "d2d93f8a-81c9-455e-95ed-d6889fdb5b5e",
    "_uuid": "f95bc088-2d68-4c09-a13e-75a803dd994a",
    "collapsed": false,
    "execution": {
     "iopub.execute_input": "2022-04-04T11:33:37.479602Z",
     "iopub.status.busy": "2022-04-04T11:33:37.478764Z",
     "iopub.status.idle": "2022-04-04T11:33:37.483674Z",
     "shell.execute_reply": "2022-04-04T11:33:37.483250Z",
     "shell.execute_reply.started": "2022-04-04T11:22:42.576037Z"
    },
    "jupyter": {
     "outputs_hidden": false
    },
    "papermill": {
     "duration": 0.152845,
     "end_time": "2022-04-04T11:33:37.483781",
     "exception": false,
     "start_time": "2022-04-04T11:33:37.330936",
     "status": "completed"
    },
    "tags": []
   },
   "outputs": [],
   "source": [
    "df['quotient'] = df['count_targ'] / df['count']"
   ]
  },
  {
   "cell_type": "markdown",
   "id": "e930c91a",
   "metadata": {
    "_cell_guid": "a6429b7c-f1cd-4587-965b-bf5f90d70337",
    "_uuid": "3d2d2d38-0011-46ba-b048-7eec7c0b1837",
    "editable": false,
    "papermill": {
     "duration": 0.14348,
     "end_time": "2022-04-04T11:33:37.770301",
     "exception": false,
     "start_time": "2022-04-04T11:33:37.626821",
     "status": "completed"
    },
    "tags": []
   },
   "source": [
    "### Take supposedly popular products"
   ]
  },
  {
   "cell_type": "code",
   "execution_count": 15,
   "id": "7a3e8171",
   "metadata": {
    "_cell_guid": "0a483863-fd58-495d-bd36-2573b79ebb4d",
    "_uuid": "bfb82339-c575-478e-a364-93c10b22ae06",
    "collapsed": false,
    "execution": {
     "iopub.execute_input": "2022-04-04T11:33:38.083299Z",
     "iopub.status.busy": "2022-04-04T11:33:38.082293Z",
     "iopub.status.idle": "2022-04-04T11:33:38.084732Z",
     "shell.execute_reply": "2022-04-04T11:33:38.085501Z",
     "shell.execute_reply.started": "2022-04-04T11:22:42.589288Z"
    },
    "jupyter": {
     "outputs_hidden": false
    },
    "papermill": {
     "duration": 0.172399,
     "end_time": "2022-04-04T11:33:38.085737",
     "exception": false,
     "start_time": "2022-04-04T11:33:37.913338",
     "status": "completed"
    },
    "tags": []
   },
   "outputs": [],
   "source": [
    "# target_sales = df.drop('customer_id', axis=1).groupby('article_id')['quotient'].sum()\n",
    "# general_pred = target_sales.nlargest(N).index.to_pandas().tolist()\n",
    "# general_pred = ['0' + str(article_id) for article_id in general_pred]\n",
    "# general_pred_str =  ' '.join(general_pred)\n",
    "# del target_sales"
   ]
  },
  {
   "cell_type": "code",
   "execution_count": 16,
   "id": "808440ed",
   "metadata": {
    "_cell_guid": "33e56ebf-4eaf-4cb3-a315-f59a0846a4a2",
    "_uuid": "db8e3029-e2b0-44f0-81b0-07fd51736491",
    "collapsed": false,
    "execution": {
     "iopub.execute_input": "2022-04-04T11:33:38.598567Z",
     "iopub.status.busy": "2022-04-04T11:33:38.597620Z",
     "iopub.status.idle": "2022-04-04T11:33:38.600215Z",
     "shell.execute_reply": "2022-04-04T11:33:38.599537Z",
     "shell.execute_reply.started": "2022-04-04T11:22:42.594627Z"
    },
    "jupyter": {
     "outputs_hidden": false
    },
    "papermill": {
     "duration": 0.245262,
     "end_time": "2022-04-04T11:33:38.600370",
     "exception": false,
     "start_time": "2022-04-04T11:33:38.355108",
     "status": "completed"
    },
    "tags": []
   },
   "outputs": [],
   "source": [
    "# general_pred # Exactly same with the original notebook!"
   ]
  },
  {
   "cell_type": "code",
   "execution_count": 17,
   "id": "6eaff86e",
   "metadata": {
    "_cell_guid": "39bda420-023a-4550-a35f-9f39f45fae0a",
    "_uuid": "a9d65615-d07f-4e2b-a09f-f5c352d9d3a6",
    "collapsed": false,
    "execution": {
     "iopub.execute_input": "2022-04-04T11:33:38.919449Z",
     "iopub.status.busy": "2022-04-04T11:33:38.918540Z",
     "iopub.status.idle": "2022-04-04T11:33:38.920928Z",
     "shell.execute_reply": "2022-04-04T11:33:38.920423Z",
     "shell.execute_reply.started": "2022-04-04T11:22:42.604349Z"
    },
    "jupyter": {
     "outputs_hidden": false
    },
    "papermill": {
     "duration": 0.149492,
     "end_time": "2022-04-04T11:33:38.921143",
     "exception": false,
     "start_time": "2022-04-04T11:33:38.771651",
     "status": "completed"
    },
    "tags": []
   },
   "outputs": [],
   "source": [
    "# general_pred_str"
   ]
  },
  {
   "cell_type": "markdown",
   "id": "ccd6fa35",
   "metadata": {
    "_cell_guid": "778698f4-153b-4ef0-8671-28e35f6b16a2",
    "_uuid": "e3b40a3b-e584-47ea-a48d-b06caef50eb3",
    "editable": false,
    "papermill": {
     "duration": 0.144736,
     "end_time": "2022-04-04T11:33:39.221888",
     "exception": false,
     "start_time": "2022-04-04T11:33:39.077152",
     "status": "completed"
    },
    "tags": []
   },
   "source": [
    "### Fill in purchase dictionary"
   ]
  },
  {
   "cell_type": "code",
   "execution_count": 18,
   "id": "ca76c0f7",
   "metadata": {
    "_cell_guid": "d5240757-0318-4ebc-9ccd-c9c362c86c76",
    "_uuid": "0f878843-4016-4d61-a04d-2ed6f30dcdf8",
    "collapsed": false,
    "execution": {
     "iopub.execute_input": "2022-04-04T11:33:39.521123Z",
     "iopub.status.busy": "2022-04-04T11:33:39.520283Z",
     "iopub.status.idle": "2022-04-04T11:33:58.721745Z",
     "shell.execute_reply": "2022-04-04T11:33:58.722235Z",
     "shell.execute_reply.started": "2022-04-04T11:22:42.612601Z"
    },
    "jupyter": {
     "outputs_hidden": false
    },
    "papermill": {
     "duration": 19.354986,
     "end_time": "2022-04-04T11:33:58.722426",
     "exception": false,
     "start_time": "2022-04-04T11:33:39.367440",
     "status": "completed"
    },
    "tags": []
   },
   "outputs": [
    {
     "name": "stdout",
     "output_type": "stream",
     "text": [
      "CPU times: user 15.8 s, sys: 5.2 s, total: 21 s\n",
      "Wall time: 19.2 s\n"
     ]
    }
   ],
   "source": [
    "%%time\n",
    "purchase_dict = {}\n",
    "\n",
    "tmp = df.copy().to_pandas()\n",
    "tmp['x'] = ((Last_date - tmp['t_dat']) / np.timedelta64(1, 'D')).astype(int)\n",
    "tmp['dummy_1'] = 1 \n",
    "tmp['x'] = tmp[[\"x\", \"dummy_1\"]].max(axis=1)\n",
    "\n",
    "a, b, c, d = 2.5e4, 1.5e5, 2e-1, 1e3\n",
    "total = 1715530\n",
    "tmp['y'] = ((a / np.sqrt(tmp['x']) + b * np.exp(-c*tmp['x']) - d) / total +\\\n",
    "(a / np.sqrt(tmp['x']+1) + b * np.exp(-c*(tmp['x']+1)) - d) / total +\\\n",
    "(a / np.sqrt(tmp['x']+2) + b * np.exp(-c*(tmp['x']+2)) - d) / total +\\\n",
    "(a / np.sqrt(tmp['x']+3) + b * np.exp(-c*(tmp['x']+3)) - d) / total +\\\n",
    "(a / np.sqrt(tmp['x']+4) + b * np.exp(-c*(tmp['x']+4)) - d) / total +\\\n",
    "(a / np.sqrt(tmp['x']+5) + b * np.exp(-c*(tmp['x']+5)) - d) / total +\\\n",
    "(a / np.sqrt(tmp['x']+6) + b * np.exp(-c*(tmp['x']+6)) - d) / total)\n",
    "\n",
    "tmp['dummy_0'] = 0 \n",
    "tmp['y'] = tmp[[\"y\", \"dummy_0\"]].max(axis=1)\n",
    "tmp['score'] = tmp['quotient'] * tmp['y'] \n",
    "\n",
    "tmp = tmp.groupby(['customer_id', 'article_id']).agg({'score': 'sum'})\n",
    "tmp = tmp.reset_index()\n",
    "\n",
    "tmp = tmp.loc[tmp['score'] > 0]\n",
    "tmp['rank'] = tmp.groupby(\"customer_id\")[\"score\"].rank(\"dense\", ascending=False)\n",
    "tmp = tmp.loc[tmp['rank'] <= 30]\n",
    "tmp[\"source\"] = 1\n",
    "\n",
    "result1 = tmp[[\"customer_id\", \"article_id\", \"source\", \"score\", \"rank\"]]"
   ]
  },
  {
   "cell_type": "code",
   "execution_count": 19,
   "id": "12f54361",
   "metadata": {
    "_cell_guid": "b01bc6f5-2794-4716-b664-a2ee01a25c06",
    "_uuid": "f187454d-2a81-4f76-9447-4eb568edac91",
    "collapsed": false,
    "execution": {
     "iopub.execute_input": "2022-04-04T11:33:59.013916Z",
     "iopub.status.busy": "2022-04-04T11:33:59.013153Z",
     "iopub.status.idle": "2022-04-04T11:33:59.187936Z",
     "shell.execute_reply": "2022-04-04T11:33:59.188397Z",
     "shell.execute_reply.started": "2022-04-04T11:23:02.112504Z"
    },
    "jupyter": {
     "outputs_hidden": false
    },
    "papermill": {
     "duration": 0.321054,
     "end_time": "2022-04-04T11:33:59.188559",
     "exception": false,
     "start_time": "2022-04-04T11:33:58.867505",
     "status": "completed"
    },
    "tags": []
   },
   "outputs": [
    {
     "data": {
      "text/plain": [
       "216"
      ]
     },
     "execution_count": 19,
     "metadata": {},
     "output_type": "execute_result"
    }
   ],
   "source": [
    "del weekly_sales\n",
    "del df\n",
    "del tmp\n",
    "gc.collect()"
   ]
  },
  {
   "cell_type": "code",
   "execution_count": 20,
   "id": "c7446c47",
   "metadata": {
    "_cell_guid": "798e93e0-008b-49cc-a841-60ed2ba8db5f",
    "_uuid": "23bd5ddb-43db-40c9-9296-b750777c95e3",
    "collapsed": false,
    "execution": {
     "iopub.execute_input": "2022-04-04T11:33:59.492134Z",
     "iopub.status.busy": "2022-04-04T11:33:59.488891Z",
     "iopub.status.idle": "2022-04-04T11:33:59.501275Z",
     "shell.execute_reply": "2022-04-04T11:33:59.501712Z",
     "shell.execute_reply.started": "2022-04-04T11:23:02.303070Z"
    },
    "jupyter": {
     "outputs_hidden": false
    },
    "papermill": {
     "duration": 0.162617,
     "end_time": "2022-04-04T11:33:59.501843",
     "exception": false,
     "start_time": "2022-04-04T11:33:59.339226",
     "status": "completed"
    },
    "tags": []
   },
   "outputs": [
    {
     "data": {
      "text/html": [
       "<div>\n",
       "<style scoped>\n",
       "    .dataframe tbody tr th:only-of-type {\n",
       "        vertical-align: middle;\n",
       "    }\n",
       "\n",
       "    .dataframe tbody tr th {\n",
       "        vertical-align: top;\n",
       "    }\n",
       "\n",
       "    .dataframe thead th {\n",
       "        text-align: right;\n",
       "    }\n",
       "</style>\n",
       "<table border=\"1\" class=\"dataframe\">\n",
       "  <thead>\n",
       "    <tr style=\"text-align: right;\">\n",
       "      <th></th>\n",
       "      <th>customer_id</th>\n",
       "      <th>article_id</th>\n",
       "      <th>source</th>\n",
       "      <th>score</th>\n",
       "      <th>rank</th>\n",
       "    </tr>\n",
       "  </thead>\n",
       "  <tbody>\n",
       "    <tr>\n",
       "      <th>0</th>\n",
       "      <td>-9223352921020755230</td>\n",
       "      <td>568597006</td>\n",
       "      <td>1</td>\n",
       "      <td>0.000559</td>\n",
       "      <td>5.0</td>\n",
       "    </tr>\n",
       "    <tr>\n",
       "      <th>1</th>\n",
       "      <td>-9223352921020755230</td>\n",
       "      <td>673396002</td>\n",
       "      <td>1</td>\n",
       "      <td>0.044511</td>\n",
       "      <td>1.0</td>\n",
       "    </tr>\n",
       "    <tr>\n",
       "      <th>2</th>\n",
       "      <td>-9223352921020755230</td>\n",
       "      <td>706016001</td>\n",
       "      <td>1</td>\n",
       "      <td>0.003289</td>\n",
       "      <td>4.0</td>\n",
       "    </tr>\n",
       "    <tr>\n",
       "      <th>3</th>\n",
       "      <td>-9223352921020755230</td>\n",
       "      <td>812167004</td>\n",
       "      <td>1</td>\n",
       "      <td>0.019179</td>\n",
       "      <td>2.0</td>\n",
       "    </tr>\n",
       "    <tr>\n",
       "      <th>4</th>\n",
       "      <td>-9223352921020755230</td>\n",
       "      <td>849493006</td>\n",
       "      <td>1</td>\n",
       "      <td>0.006174</td>\n",
       "      <td>3.0</td>\n",
       "    </tr>\n",
       "    <tr>\n",
       "      <th>...</th>\n",
       "      <td>...</td>\n",
       "      <td>...</td>\n",
       "      <td>...</td>\n",
       "      <td>...</td>\n",
       "      <td>...</td>\n",
       "    </tr>\n",
       "    <tr>\n",
       "      <th>10844244</th>\n",
       "      <td>9223301031927667525</td>\n",
       "      <td>719957006</td>\n",
       "      <td>1</td>\n",
       "      <td>0.000026</td>\n",
       "      <td>1.0</td>\n",
       "    </tr>\n",
       "    <tr>\n",
       "      <th>10844245</th>\n",
       "      <td>9223333063893176977</td>\n",
       "      <td>658030020</td>\n",
       "      <td>1</td>\n",
       "      <td>0.000038</td>\n",
       "      <td>1.0</td>\n",
       "    </tr>\n",
       "    <tr>\n",
       "      <th>10844246</th>\n",
       "      <td>9223357421094039679</td>\n",
       "      <td>747984001</td>\n",
       "      <td>1</td>\n",
       "      <td>0.000010</td>\n",
       "      <td>2.0</td>\n",
       "    </tr>\n",
       "    <tr>\n",
       "      <th>10844247</th>\n",
       "      <td>9223357421094039679</td>\n",
       "      <td>747984002</td>\n",
       "      <td>1</td>\n",
       "      <td>0.000053</td>\n",
       "      <td>1.0</td>\n",
       "    </tr>\n",
       "    <tr>\n",
       "      <th>10844248</th>\n",
       "      <td>9223370729206611574</td>\n",
       "      <td>781758003</td>\n",
       "      <td>1</td>\n",
       "      <td>0.001461</td>\n",
       "      <td>1.0</td>\n",
       "    </tr>\n",
       "  </tbody>\n",
       "</table>\n",
       "<p>9243111 rows × 5 columns</p>\n",
       "</div>"
      ],
      "text/plain": [
       "                  customer_id  article_id  source     score  rank\n",
       "0        -9223352921020755230   568597006       1  0.000559   5.0\n",
       "1        -9223352921020755230   673396002       1  0.044511   1.0\n",
       "2        -9223352921020755230   706016001       1  0.003289   4.0\n",
       "3        -9223352921020755230   812167004       1  0.019179   2.0\n",
       "4        -9223352921020755230   849493006       1  0.006174   3.0\n",
       "...                       ...         ...     ...       ...   ...\n",
       "10844244  9223301031927667525   719957006       1  0.000026   1.0\n",
       "10844245  9223333063893176977   658030020       1  0.000038   1.0\n",
       "10844246  9223357421094039679   747984001       1  0.000010   2.0\n",
       "10844247  9223357421094039679   747984002       1  0.000053   1.0\n",
       "10844248  9223370729206611574   781758003       1  0.001461   1.0\n",
       "\n",
       "[9243111 rows x 5 columns]"
      ]
     },
     "execution_count": 20,
     "metadata": {},
     "output_type": "execute_result"
    }
   ],
   "source": [
    "result1"
   ]
  },
  {
   "cell_type": "code",
   "execution_count": 21,
   "id": "6e6e2361",
   "metadata": {
    "_cell_guid": "69744f5f-6800-4656-ab87-032868f3159b",
    "_uuid": "abb5c1f0-cf31-4307-9b3a-abe63a3d8ac6",
    "collapsed": false,
    "execution": {
     "iopub.execute_input": "2022-04-04T11:33:59.795712Z",
     "iopub.status.busy": "2022-04-04T11:33:59.794850Z",
     "iopub.status.idle": "2022-04-04T11:33:59.796765Z",
     "shell.execute_reply": "2022-04-04T11:33:59.797265Z",
     "shell.execute_reply.started": "2022-04-04T11:23:02.325687Z"
    },
    "jupyter": {
     "outputs_hidden": false
    },
    "papermill": {
     "duration": 0.151746,
     "end_time": "2022-04-04T11:33:59.797398",
     "exception": false,
     "start_time": "2022-04-04T11:33:59.645652",
     "status": "completed"
    },
    "tags": []
   },
   "outputs": [],
   "source": [
    "#result1.to_csv(\"/kaggle/working/result1.csv\", index = False)"
   ]
  },
  {
   "cell_type": "markdown",
   "id": "d2866093",
   "metadata": {
    "_cell_guid": "fed50a0c-3f74-4c68-b4b9-40ca198ca0ce",
    "_uuid": "2d887bc0-dff0-4160-a2bf-e867e2984119",
    "editable": false,
    "execution": {
     "iopub.execute_input": "2022-03-19T09:13:27.534287Z",
     "iopub.status.busy": "2022-03-19T09:13:27.534029Z",
     "iopub.status.idle": "2022-03-19T09:13:27.537763Z",
     "shell.execute_reply": "2022-03-19T09:13:27.536825Z",
     "shell.execute_reply.started": "2022-03-19T09:13:27.534257Z"
    },
    "papermill": {
     "duration": 0.177014,
     "end_time": "2022-04-04T11:34:00.120187",
     "exception": false,
     "start_time": "2022-04-04T11:33:59.943173",
     "status": "completed"
    },
    "tags": []
   },
   "source": [
    "## 第二路：相似复购"
   ]
  },
  {
   "cell_type": "code",
   "execution_count": 22,
   "id": "79b321c0",
   "metadata": {
    "_cell_guid": "54567f40-5feb-4c26-99bd-c09a96a91605",
    "_uuid": "699bb5a0-a19f-4ced-909c-fdaac18f5dd1",
    "collapsed": false,
    "execution": {
     "iopub.execute_input": "2022-04-04T11:34:00.636066Z",
     "iopub.status.busy": "2022-04-04T11:34:00.635251Z",
     "iopub.status.idle": "2022-04-04T11:34:07.804120Z",
     "shell.execute_reply": "2022-04-04T11:34:07.803643Z",
     "shell.execute_reply.started": "2022-04-04T11:23:02.335193Z"
    },
    "jupyter": {
     "outputs_hidden": false
    },
    "papermill": {
     "duration": 7.432379,
     "end_time": "2022-04-04T11:34:07.804268",
     "exception": false,
     "start_time": "2022-04-04T11:34:00.371889",
     "status": "completed"
    },
    "tags": []
   },
   "outputs": [
    {
     "name": "stdout",
     "output_type": "stream",
     "text": [
      "Requirement already satisfied: cudf in /opt/conda/lib/python3.7/site-packages (21.10.1)\r\n",
      "Requirement already satisfied: numba>=0.53.1 in /opt/conda/lib/python3.7/site-packages (from cudf) (0.54.1)\r\n",
      "Requirement already satisfied: Cython<0.30,>=0.29 in /opt/conda/lib/python3.7/site-packages (from cudf) (0.29.28)\r\n",
      "Requirement already satisfied: fastavro>=0.22.9 in /opt/conda/lib/python3.7/site-packages (from cudf) (1.4.9)\r\n",
      "Requirement already satisfied: fsspec>=0.6.0 in /opt/conda/lib/python3.7/site-packages (from cudf) (2022.2.0)\r\n",
      "Requirement already satisfied: numpy in /opt/conda/lib/python3.7/site-packages (from cudf) (1.20.3)\r\n",
      "Requirement already satisfied: pandas<1.4.0dev0,>=1.0 in /opt/conda/lib/python3.7/site-packages (from cudf) (1.3.5)\r\n",
      "Requirement already satisfied: typing_extensions in /opt/conda/lib/python3.7/site-packages (from cudf) (4.1.1)\r\n",
      "Requirement already satisfied: protobuf in /opt/conda/lib/python3.7/site-packages (from cudf) (3.19.1)\r\n",
      "Requirement already satisfied: nvtx>=0.2.1 in /opt/conda/lib/python3.7/site-packages (from cudf) (0.2.3)\r\n",
      "Requirement already satisfied: cachetools in /opt/conda/lib/python3.7/site-packages (from cudf) (4.2.4)\r\n",
      "Requirement already satisfied: packaging in /opt/conda/lib/python3.7/site-packages (from cudf) (21.3)\r\n",
      "Requirement already satisfied: cupy-cuda110 in /opt/conda/lib/python3.7/site-packages (from cudf) (10.2.0)\r\n",
      "Requirement already satisfied: setuptools in /opt/conda/lib/python3.7/site-packages (from numba>=0.53.1->cudf) (59.5.0)\r\n",
      "Requirement already satisfied: llvmlite<0.38,>=0.37.0rc1 in /opt/conda/lib/python3.7/site-packages (from numba>=0.53.1->cudf) (0.37.0)\r\n",
      "Requirement already satisfied: python-dateutil>=2.7.3 in /opt/conda/lib/python3.7/site-packages (from pandas<1.4.0dev0,>=1.0->cudf) (2.8.2)\r\n",
      "Requirement already satisfied: pytz>=2017.3 in /opt/conda/lib/python3.7/site-packages (from pandas<1.4.0dev0,>=1.0->cudf) (2021.3)\r\n",
      "Requirement already satisfied: fastrlock>=0.5 in /opt/conda/lib/python3.7/site-packages (from cupy-cuda110->cudf) (0.8)\r\n",
      "Requirement already satisfied: pyparsing!=3.0.5,>=2.0.2 in /opt/conda/lib/python3.7/site-packages (from packaging->cudf) (3.0.6)\r\n",
      "Requirement already satisfied: six>=1.5 in /opt/conda/lib/python3.7/site-packages (from python-dateutil>=2.7.3->pandas<1.4.0dev0,>=1.0->cudf) (1.16.0)\r\n",
      "\u001b[33mWARNING: Running pip as the 'root' user can result in broken permissions and conflicting behaviour with the system package manager. It is recommended to use a virtual environment instead: https://pip.pypa.io/warnings/venv\u001b[0m\r\n"
     ]
    }
   ],
   "source": [
    "!pip install cudf\n",
    "import numpy as np\n",
    "import pandas as pd \n",
    "from datetime import datetime, timedelta\n",
    "import gc\n",
    "import cudf\n",
    "import cv2, matplotlib.pyplot as plt\n",
    "from os.path import exists"
   ]
  },
  {
   "cell_type": "code",
   "execution_count": 23,
   "id": "da2d9e2a",
   "metadata": {
    "_cell_guid": "44b311fd-4b39-4405-a0bc-8e92dc33a61c",
    "_uuid": "915c9fdb-7fe6-4725-960e-e41a3577b19d",
    "collapsed": false,
    "execution": {
     "iopub.execute_input": "2022-04-04T11:34:08.101962Z",
     "iopub.status.busy": "2022-04-04T11:34:08.101127Z",
     "iopub.status.idle": "2022-04-04T11:34:08.105478Z",
     "shell.execute_reply": "2022-04-04T11:34:08.105029Z",
     "shell.execute_reply.started": "2022-04-04T11:23:09.704183Z"
    },
    "jupyter": {
     "outputs_hidden": false
    },
    "papermill": {
     "duration": 0.154259,
     "end_time": "2022-04-04T11:34:08.105588",
     "exception": false,
     "start_time": "2022-04-04T11:34:07.951329",
     "status": "completed"
    },
    "tags": []
   },
   "outputs": [],
   "source": [
    "# # LOAD TRANSACTIONS DATAFRAME\n",
    "# df = cudf.read_csv('../input/h-and-m-personalized-fashion-recommendations/transactions_train.csv')\n",
    "# print('Transactions shape',df.shape)\n",
    "# display( df.head() )\n",
    "\n",
    "# # REDUCE MEMORY OF DATAFRAME\n",
    "# df = df[['customer_id','article_id']]\n",
    "# df.customer_id = df.customer_id.str[-16:].str.hex_to_int().astype('int64')\n",
    "# df.article_id = df.article_id.astype('int32')\n",
    "# _ = gc.collect()"
   ]
  },
  {
   "cell_type": "code",
   "execution_count": 24,
   "id": "1a96e67c",
   "metadata": {
    "_cell_guid": "4c724f89-612f-4608-94a5-2013aa86ce82",
    "_uuid": "980cf91d-96ad-4c7c-aba7-6bbc8e7f9075",
    "collapsed": false,
    "execution": {
     "iopub.execute_input": "2022-04-04T11:34:08.404279Z",
     "iopub.status.busy": "2022-04-04T11:34:08.403428Z",
     "iopub.status.idle": "2022-04-04T11:34:08.405617Z",
     "shell.execute_reply": "2022-04-04T11:34:08.405107Z",
     "shell.execute_reply.started": "2022-04-04T11:23:09.714479Z"
    },
    "jupyter": {
     "outputs_hidden": false
    },
    "papermill": {
     "duration": 0.153833,
     "end_time": "2022-04-04T11:34:08.405721",
     "exception": false,
     "start_time": "2022-04-04T11:34:08.251888",
     "status": "completed"
    },
    "tags": []
   },
   "outputs": [],
   "source": [
    "# # FIND ITEMS PURCHASED TOGETHER\n",
    "# vc = df.article_id.value_counts()\n",
    "# pairs = {}\n",
    "# # for j,i in enumerate(vc.index.values[1000:1032]):\n",
    "# #     #if j%10==0: print(j,', ',end='')\n",
    "# #     USERS = df.loc[df.article_id==i.item(),'customer_id'].unique()\n",
    "# #     vc2 = df.loc[(df.customer_id.isin(USERS))&(df.article_id!=i.item()),'article_id'].value_counts()\n",
    "# #     pairs[i.item()] = [vc2.index[0], vc2.index[1], vc2.index[2]]"
   ]
  },
  {
   "cell_type": "code",
   "execution_count": 25,
   "id": "3b9e03eb",
   "metadata": {
    "_cell_guid": "7df33241-8730-41e6-ba96-684dab72ebf6",
    "_uuid": "68190067-1266-43b1-8a90-16fde37bc22d",
    "collapsed": false,
    "execution": {
     "iopub.execute_input": "2022-04-04T11:34:08.703276Z",
     "iopub.status.busy": "2022-04-04T11:34:08.702392Z",
     "iopub.status.idle": "2022-04-04T11:34:08.704957Z",
     "shell.execute_reply": "2022-04-04T11:34:08.704546Z",
     "shell.execute_reply.started": "2022-04-04T11:23:09.722303Z"
    },
    "jupyter": {
     "outputs_hidden": false
    },
    "papermill": {
     "duration": 0.152705,
     "end_time": "2022-04-04T11:34:08.705085",
     "exception": false,
     "start_time": "2022-04-04T11:34:08.552380",
     "status": "completed"
    },
    "tags": []
   },
   "outputs": [],
   "source": [
    "# vc = vc.reset_index().rename(columns = {\"article_id\":\"count\", \"index\":\"article_id\"})"
   ]
  },
  {
   "cell_type": "code",
   "execution_count": 26,
   "id": "2c6d2dbe",
   "metadata": {
    "_cell_guid": "b8e80724-9f54-4727-9a5b-96aed6e85dbc",
    "_uuid": "f79463f6-d3c9-43ea-8882-9729bd77ddff",
    "collapsed": false,
    "execution": {
     "iopub.execute_input": "2022-04-04T11:34:09.002101Z",
     "iopub.status.busy": "2022-04-04T11:34:09.001418Z",
     "iopub.status.idle": "2022-04-04T11:34:09.003793Z",
     "shell.execute_reply": "2022-04-04T11:34:09.004307Z",
     "shell.execute_reply.started": "2022-04-04T11:23:09.732641Z"
    },
    "jupyter": {
     "outputs_hidden": false
    },
    "papermill": {
     "duration": 0.152035,
     "end_time": "2022-04-04T11:34:09.004442",
     "exception": false,
     "start_time": "2022-04-04T11:34:08.852407",
     "status": "completed"
    },
    "tags": []
   },
   "outputs": [],
   "source": [
    "# vc = vc[vc[\"count\"]>=50]"
   ]
  },
  {
   "cell_type": "code",
   "execution_count": 27,
   "id": "aad34157",
   "metadata": {
    "_cell_guid": "0da22333-f4a8-4e71-8833-2f345a60517b",
    "_uuid": "d7776129-da4e-49db-80a4-9afd0420bd9e",
    "collapsed": false,
    "execution": {
     "iopub.execute_input": "2022-04-04T11:34:09.325568Z",
     "iopub.status.busy": "2022-04-04T11:34:09.324695Z",
     "iopub.status.idle": "2022-04-04T11:34:09.326655Z",
     "shell.execute_reply": "2022-04-04T11:34:09.327097Z",
     "shell.execute_reply.started": "2022-04-04T11:23:09.741783Z"
    },
    "jupyter": {
     "outputs_hidden": false
    },
    "papermill": {
     "duration": 0.173031,
     "end_time": "2022-04-04T11:34:09.327234",
     "exception": false,
     "start_time": "2022-04-04T11:34:09.154203",
     "status": "completed"
    },
    "tags": []
   },
   "outputs": [],
   "source": [
    "# def cal_together_score(x):\n",
    "#     USERS = df.loc[df.article_id==x[\"article_id\"],'customer_id'].unique()\n",
    "#     vc2 = df.loc[(df.customer_id.isin(USERS))&(df.article_id!=x[\"article_id\"]),'article_id'].value_counts()\n",
    "#     #pairs[i.item()] = [vc2.index[0], vc2.index[1], vc2.index[2]]\n",
    "#     return [[x.article_id, vc2.index[i], vc2.iloc[i]/x[\"count\"]] for i in range(min(10, len(vc2)))]"
   ]
  },
  {
   "cell_type": "code",
   "execution_count": 28,
   "id": "1d128854",
   "metadata": {
    "_cell_guid": "baadd098-5635-49e3-8326-f799e2a5b9d2",
    "_uuid": "1d30acf1-be00-4393-b7f2-f60f5c6627dd",
    "collapsed": false,
    "execution": {
     "iopub.execute_input": "2022-04-04T11:34:09.628602Z",
     "iopub.status.busy": "2022-04-04T11:34:09.627763Z",
     "iopub.status.idle": "2022-04-04T11:34:09.630197Z",
     "shell.execute_reply": "2022-04-04T11:34:09.629760Z",
     "shell.execute_reply.started": "2022-04-04T11:23:09.759618Z"
    },
    "jupyter": {
     "outputs_hidden": false
    },
    "papermill": {
     "duration": 0.152151,
     "end_time": "2022-04-04T11:34:09.630317",
     "exception": false,
     "start_time": "2022-04-04T11:34:09.478166",
     "status": "completed"
    },
    "tags": []
   },
   "outputs": [],
   "source": [
    "#relation = vc.to_pandas().apply(lambda x: cal_together_score(x), axis = 1).sum()"
   ]
  },
  {
   "cell_type": "code",
   "execution_count": 29,
   "id": "19bda35c",
   "metadata": {
    "_cell_guid": "61e9feb0-8ccd-4ab6-9b81-3c9249eba7bd",
    "_uuid": "51767f5c-104b-4a76-919f-caeabf3d6fee",
    "collapsed": false,
    "execution": {
     "iopub.execute_input": "2022-04-04T11:34:09.927896Z",
     "iopub.status.busy": "2022-04-04T11:34:09.925616Z",
     "iopub.status.idle": "2022-04-04T11:34:09.930547Z",
     "shell.execute_reply": "2022-04-04T11:34:09.930098Z",
     "shell.execute_reply.started": "2022-04-04T11:23:09.768038Z"
    },
    "jupyter": {
     "outputs_hidden": false
    },
    "papermill": {
     "duration": 0.153868,
     "end_time": "2022-04-04T11:34:09.930656",
     "exception": false,
     "start_time": "2022-04-04T11:34:09.776788",
     "status": "completed"
    },
    "tags": []
   },
   "outputs": [],
   "source": [
    "#%%time\n",
    "# df  = cudf.read_csv('../input/h-and-m-personalized-fashion-recommendations/transactions_train.csv',\n",
    "#                             usecols= ['t_dat', 'customer_id', 'article_id'], \n",
    "#                             dtype={'article_id': 'int32', 't_dat': 'string', 'customer_id': 'string'})\n",
    "# df ['customer_id'] = df ['customer_id'].str[-16:].str.hex_to_int().astype('int64')\n",
    "\n",
    "# df['t_dat'] = cudf.to_datetime(df['t_dat'])\n",
    "# last_ts = df['t_dat'].max()"
   ]
  },
  {
   "cell_type": "code",
   "execution_count": 30,
   "id": "87cd522b",
   "metadata": {
    "_cell_guid": "8efede7c-b406-4bb9-9679-6b2ddf57be2d",
    "_uuid": "37018992-e497-409a-aa29-9f98db036096",
    "collapsed": false,
    "execution": {
     "iopub.execute_input": "2022-04-04T11:34:10.239129Z",
     "iopub.status.busy": "2022-04-04T11:34:10.238352Z",
     "iopub.status.idle": "2022-04-04T11:34:10.244332Z",
     "shell.execute_reply": "2022-04-04T11:34:10.243871Z",
     "shell.execute_reply.started": "2022-04-04T11:23:09.777657Z"
    },
    "jupyter": {
     "outputs_hidden": false
    },
    "papermill": {
     "duration": 0.155903,
     "end_time": "2022-04-04T11:34:10.244445",
     "exception": false,
     "start_time": "2022-04-04T11:34:10.088542",
     "status": "completed"
    },
    "tags": []
   },
   "outputs": [],
   "source": [
    "df = train.copy()"
   ]
  },
  {
   "cell_type": "code",
   "execution_count": 31,
   "id": "a5c23882",
   "metadata": {
    "_cell_guid": "4f70828a-7ed6-4ea9-a327-7ac47a3274d0",
    "_uuid": "d30e7289-5fad-4efd-bc05-902658ec1834",
    "collapsed": false,
    "execution": {
     "iopub.execute_input": "2022-04-04T11:34:10.545804Z",
     "iopub.status.busy": "2022-04-04T11:34:10.544950Z",
     "iopub.status.idle": "2022-04-04T11:34:18.473359Z",
     "shell.execute_reply": "2022-04-04T11:34:18.473929Z",
     "shell.execute_reply.started": "2022-04-04T11:23:09.795069Z"
    },
    "jupyter": {
     "outputs_hidden": false
    },
    "papermill": {
     "duration": 8.082199,
     "end_time": "2022-04-04T11:34:18.474139",
     "exception": false,
     "start_time": "2022-04-04T11:34:10.391940",
     "status": "completed"
    },
    "tags": []
   },
   "outputs": [
    {
     "name": "stdout",
     "output_type": "stream",
     "text": [
      "CPU times: user 6.42 s, sys: 1.62 s, total: 8.04 s\n",
      "Wall time: 7.93 s\n"
     ]
    }
   ],
   "source": [
    "%%time\n",
    "tmp = df[['t_dat']].copy().to_pandas()\n",
    "tmp['dow'] = tmp['t_dat'].dt.dayofweek\n",
    "tmp['ldbw'] = tmp['t_dat'] - pd.TimedeltaIndex(tmp['dow'] - 1, unit='D')\n",
    "tmp.loc[tmp['dow'] >=2 , 'ldbw'] = tmp.loc[tmp['dow'] >=2 , 'ldbw'] + pd.TimedeltaIndex(np.ones(len(tmp.loc[tmp['dow'] >=2])) * 7, unit='D')\n",
    "\n",
    "df['ldbw'] = tmp['ldbw'].values"
   ]
  },
  {
   "cell_type": "code",
   "execution_count": 32,
   "id": "7eda7fc5",
   "metadata": {
    "_cell_guid": "062c9e13-0249-4cd1-9833-9d1fb9a4d95a",
    "_uuid": "d7cc8aad-d344-4ae6-9e5e-e0e9160b73db",
    "collapsed": false,
    "execution": {
     "iopub.execute_input": "2022-04-04T11:34:18.774114Z",
     "iopub.status.busy": "2022-04-04T11:34:18.773278Z",
     "iopub.status.idle": "2022-04-04T11:34:18.775538Z",
     "shell.execute_reply": "2022-04-04T11:34:18.774952Z",
     "shell.execute_reply.started": "2022-04-04T11:23:17.677670Z"
    },
    "jupyter": {
     "outputs_hidden": false
    },
    "papermill": {
     "duration": 0.154541,
     "end_time": "2022-04-04T11:34:18.775652",
     "exception": false,
     "start_time": "2022-04-04T11:34:18.621111",
     "status": "completed"
    },
    "tags": []
   },
   "outputs": [],
   "source": [
    "#relation_data = cudf.DataFrame(relation, columns = [\"from_id\", \"to_id\", \"ratio\"])"
   ]
  },
  {
   "cell_type": "code",
   "execution_count": 33,
   "id": "47f70e98",
   "metadata": {
    "_cell_guid": "d2a497e0-7e56-478f-b4fb-834de252f2ab",
    "_uuid": "a6128a89-50eb-4d88-946b-d20b5948ae56",
    "collapsed": false,
    "execution": {
     "iopub.execute_input": "2022-04-04T11:34:19.072991Z",
     "iopub.status.busy": "2022-04-04T11:34:19.072430Z",
     "iopub.status.idle": "2022-04-04T11:34:19.254301Z",
     "shell.execute_reply": "2022-04-04T11:34:19.253479Z",
     "shell.execute_reply.started": "2022-04-04T11:23:17.682729Z"
    },
    "jupyter": {
     "outputs_hidden": false
    },
    "papermill": {
     "duration": 0.33196,
     "end_time": "2022-04-04T11:34:19.254432",
     "exception": false,
     "start_time": "2022-04-04T11:34:18.922472",
     "status": "completed"
    },
    "tags": []
   },
   "outputs": [],
   "source": [
    "relation_data = cudf.read_csv(\"../input/relation/relation_data.csv\")"
   ]
  },
  {
   "cell_type": "code",
   "execution_count": 34,
   "id": "5941c919",
   "metadata": {
    "_cell_guid": "5a133069-579f-4e05-9228-6c7403d2a35b",
    "_uuid": "d4e00377-c5df-473f-abcb-e281eda5889a",
    "collapsed": false,
    "execution": {
     "iopub.execute_input": "2022-04-04T11:34:19.557967Z",
     "iopub.status.busy": "2022-04-04T11:34:19.557112Z",
     "iopub.status.idle": "2022-04-04T11:34:19.598668Z",
     "shell.execute_reply": "2022-04-04T11:34:19.599068Z",
     "shell.execute_reply.started": "2022-04-04T11:23:18.053318Z"
    },
    "jupyter": {
     "outputs_hidden": false
    },
    "papermill": {
     "duration": 0.196775,
     "end_time": "2022-04-04T11:34:19.599218",
     "exception": false,
     "start_time": "2022-04-04T11:34:19.402443",
     "status": "completed"
    },
    "tags": []
   },
   "outputs": [
    {
     "data": {
      "text/html": [
       "<div>\n",
       "<style scoped>\n",
       "    .dataframe tbody tr th:only-of-type {\n",
       "        vertical-align: middle;\n",
       "    }\n",
       "\n",
       "    .dataframe tbody tr th {\n",
       "        vertical-align: top;\n",
       "    }\n",
       "\n",
       "    .dataframe thead th {\n",
       "        text-align: right;\n",
       "    }\n",
       "</style>\n",
       "<table border=\"1\" class=\"dataframe\">\n",
       "  <thead>\n",
       "    <tr style=\"text-align: right;\">\n",
       "      <th></th>\n",
       "      <th>from_id</th>\n",
       "      <th>to_id</th>\n",
       "      <th>ratio</th>\n",
       "    </tr>\n",
       "  </thead>\n",
       "  <tbody>\n",
       "    <tr>\n",
       "      <th>0</th>\n",
       "      <td>706016001</td>\n",
       "      <td>706016002</td>\n",
       "      <td>0.250144</td>\n",
       "    </tr>\n",
       "    <tr>\n",
       "      <th>1</th>\n",
       "      <td>706016001</td>\n",
       "      <td>706016003</td>\n",
       "      <td>0.155706</td>\n",
       "    </tr>\n",
       "    <tr>\n",
       "      <th>2</th>\n",
       "      <td>706016001</td>\n",
       "      <td>706016015</td>\n",
       "      <td>0.117943</td>\n",
       "    </tr>\n",
       "    <tr>\n",
       "      <th>3</th>\n",
       "      <td>706016001</td>\n",
       "      <td>706016006</td>\n",
       "      <td>0.097799</td>\n",
       "    </tr>\n",
       "    <tr>\n",
       "      <th>4</th>\n",
       "      <td>706016001</td>\n",
       "      <td>399223001</td>\n",
       "      <td>0.087299</td>\n",
       "    </tr>\n",
       "    <tr>\n",
       "      <th>...</th>\n",
       "      <td>...</td>\n",
       "      <td>...</td>\n",
       "      <td>...</td>\n",
       "    </tr>\n",
       "    <tr>\n",
       "      <th>570535</th>\n",
       "      <td>657165029</td>\n",
       "      <td>763270003</td>\n",
       "      <td>0.120000</td>\n",
       "    </tr>\n",
       "    <tr>\n",
       "      <th>570536</th>\n",
       "      <td>657165029</td>\n",
       "      <td>628327005</td>\n",
       "      <td>0.120000</td>\n",
       "    </tr>\n",
       "    <tr>\n",
       "      <th>570537</th>\n",
       "      <td>657165029</td>\n",
       "      <td>664319001</td>\n",
       "      <td>0.120000</td>\n",
       "    </tr>\n",
       "    <tr>\n",
       "      <th>570538</th>\n",
       "      <td>657165029</td>\n",
       "      <td>608776002</td>\n",
       "      <td>0.100000</td>\n",
       "    </tr>\n",
       "    <tr>\n",
       "      <th>570539</th>\n",
       "      <td>657165029</td>\n",
       "      <td>745806001</td>\n",
       "      <td>0.100000</td>\n",
       "    </tr>\n",
       "  </tbody>\n",
       "</table>\n",
       "<p>570540 rows × 3 columns</p>\n",
       "</div>"
      ],
      "text/plain": [
       "          from_id      to_id     ratio\n",
       "0       706016001  706016002  0.250144\n",
       "1       706016001  706016003  0.155706\n",
       "2       706016001  706016015  0.117943\n",
       "3       706016001  706016006  0.097799\n",
       "4       706016001  399223001  0.087299\n",
       "...           ...        ...       ...\n",
       "570535  657165029  763270003  0.120000\n",
       "570536  657165029  628327005  0.120000\n",
       "570537  657165029  664319001  0.120000\n",
       "570538  657165029  608776002  0.100000\n",
       "570539  657165029  745806001  0.100000\n",
       "\n",
       "[570540 rows x 3 columns]"
      ]
     },
     "execution_count": 34,
     "metadata": {},
     "output_type": "execute_result"
    }
   ],
   "source": [
    "relation_data"
   ]
  },
  {
   "cell_type": "code",
   "execution_count": 35,
   "id": "dec5d233",
   "metadata": {
    "_cell_guid": "165d88d1-d353-42a0-ab91-773932b60211",
    "_uuid": "1c0296df-94e9-4103-a2c6-49dc297ee389",
    "collapsed": false,
    "execution": {
     "iopub.execute_input": "2022-04-04T11:34:20.062631Z",
     "iopub.status.busy": "2022-04-04T11:34:20.061807Z",
     "iopub.status.idle": "2022-04-04T11:34:20.074507Z",
     "shell.execute_reply": "2022-04-04T11:34:20.075116Z",
     "shell.execute_reply.started": "2022-04-04T11:23:18.104994Z"
    },
    "jupyter": {
     "outputs_hidden": false
    },
    "papermill": {
     "duration": 0.329811,
     "end_time": "2022-04-04T11:34:20.075348",
     "exception": false,
     "start_time": "2022-04-04T11:34:19.745537",
     "status": "completed"
    },
    "tags": []
   },
   "outputs": [
    {
     "data": {
      "text/plain": [
       "106"
      ]
     },
     "execution_count": 35,
     "metadata": {},
     "output_type": "execute_result"
    }
   ],
   "source": [
    "del tmp\n",
    "gc.collect()"
   ]
  },
  {
   "cell_type": "code",
   "execution_count": 36,
   "id": "6abd5d0f",
   "metadata": {
    "_cell_guid": "d562a5a3-35d8-4c45-b82d-c57eedf8d7a1",
    "_uuid": "cd39be0c-8c1d-4e79-a35b-5e9fc1dcbae7",
    "collapsed": false,
    "execution": {
     "iopub.execute_input": "2022-04-04T11:34:20.397140Z",
     "iopub.status.busy": "2022-04-04T11:34:20.396293Z",
     "iopub.status.idle": "2022-04-04T11:34:20.527972Z",
     "shell.execute_reply": "2022-04-04T11:34:20.528424Z",
     "shell.execute_reply.started": "2022-04-04T11:23:18.275325Z"
    },
    "jupyter": {
     "outputs_hidden": false
    },
    "papermill": {
     "duration": 0.285661,
     "end_time": "2022-04-04T11:34:20.528588",
     "exception": false,
     "start_time": "2022-04-04T11:34:20.242927",
     "status": "completed"
    },
    "tags": []
   },
   "outputs": [],
   "source": [
    "weekly_sales = df.drop('customer_id', axis=1).groupby(['ldbw', 'article_id']).count().reset_index()\n",
    "weekly_sales = weekly_sales.rename(columns={'t_dat': 'count'})"
   ]
  },
  {
   "cell_type": "code",
   "execution_count": 37,
   "id": "3919b774",
   "metadata": {
    "_cell_guid": "baba24f2-3166-40d2-ae52-f4bdf7188970",
    "_uuid": "5db5f580-4c19-4dd8-b448-d05ac17d189e",
    "collapsed": false,
    "execution": {
     "iopub.execute_input": "2022-04-04T11:34:20.840629Z",
     "iopub.status.busy": "2022-04-04T11:34:20.840083Z",
     "iopub.status.idle": "2022-04-04T11:34:20.883209Z",
     "shell.execute_reply": "2022-04-04T11:34:20.883721Z",
     "shell.execute_reply.started": "2022-04-04T11:23:18.402200Z"
    },
    "jupyter": {
     "outputs_hidden": false
    },
    "papermill": {
     "duration": 0.205762,
     "end_time": "2022-04-04T11:34:20.883864",
     "exception": false,
     "start_time": "2022-04-04T11:34:20.678102",
     "status": "completed"
    },
    "tags": []
   },
   "outputs": [
    {
     "data": {
      "text/html": [
       "<div>\n",
       "<style scoped>\n",
       "    .dataframe tbody tr th:only-of-type {\n",
       "        vertical-align: middle;\n",
       "    }\n",
       "\n",
       "    .dataframe tbody tr th {\n",
       "        vertical-align: top;\n",
       "    }\n",
       "\n",
       "    .dataframe thead th {\n",
       "        text-align: right;\n",
       "    }\n",
       "</style>\n",
       "<table border=\"1\" class=\"dataframe\">\n",
       "  <thead>\n",
       "    <tr style=\"text-align: right;\">\n",
       "      <th></th>\n",
       "      <th>ldbw</th>\n",
       "      <th>article_id</th>\n",
       "      <th>count</th>\n",
       "      <th>price</th>\n",
       "      <th>sales_channel_id</th>\n",
       "    </tr>\n",
       "  </thead>\n",
       "  <tbody>\n",
       "    <tr>\n",
       "      <th>0</th>\n",
       "      <td>2019-03-12</td>\n",
       "      <td>719447002</td>\n",
       "      <td>4</td>\n",
       "      <td>4</td>\n",
       "      <td>4</td>\n",
       "    </tr>\n",
       "    <tr>\n",
       "      <th>1</th>\n",
       "      <td>2019-04-16</td>\n",
       "      <td>590203002</td>\n",
       "      <td>1</td>\n",
       "      <td>1</td>\n",
       "      <td>1</td>\n",
       "    </tr>\n",
       "    <tr>\n",
       "      <th>2</th>\n",
       "      <td>2020-05-05</td>\n",
       "      <td>831684001</td>\n",
       "      <td>12</td>\n",
       "      <td>12</td>\n",
       "      <td>12</td>\n",
       "    </tr>\n",
       "    <tr>\n",
       "      <th>3</th>\n",
       "      <td>2019-05-28</td>\n",
       "      <td>693508002</td>\n",
       "      <td>1</td>\n",
       "      <td>1</td>\n",
       "      <td>1</td>\n",
       "    </tr>\n",
       "    <tr>\n",
       "      <th>4</th>\n",
       "      <td>2019-07-02</td>\n",
       "      <td>777038001</td>\n",
       "      <td>5</td>\n",
       "      <td>5</td>\n",
       "      <td>5</td>\n",
       "    </tr>\n",
       "    <tr>\n",
       "      <th>...</th>\n",
       "      <td>...</td>\n",
       "      <td>...</td>\n",
       "      <td>...</td>\n",
       "      <td>...</td>\n",
       "      <td>...</td>\n",
       "    </tr>\n",
       "    <tr>\n",
       "      <th>2183240</th>\n",
       "      <td>2019-02-12</td>\n",
       "      <td>664871001</td>\n",
       "      <td>34</td>\n",
       "      <td>34</td>\n",
       "      <td>34</td>\n",
       "    </tr>\n",
       "    <tr>\n",
       "      <th>2183241</th>\n",
       "      <td>2019-11-19</td>\n",
       "      <td>640735001</td>\n",
       "      <td>2</td>\n",
       "      <td>2</td>\n",
       "      <td>2</td>\n",
       "    </tr>\n",
       "    <tr>\n",
       "      <th>2183242</th>\n",
       "      <td>2018-10-02</td>\n",
       "      <td>569355002</td>\n",
       "      <td>6</td>\n",
       "      <td>6</td>\n",
       "      <td>6</td>\n",
       "    </tr>\n",
       "    <tr>\n",
       "      <th>2183243</th>\n",
       "      <td>2019-06-04</td>\n",
       "      <td>684021006</td>\n",
       "      <td>8</td>\n",
       "      <td>8</td>\n",
       "      <td>8</td>\n",
       "    </tr>\n",
       "    <tr>\n",
       "      <th>2183244</th>\n",
       "      <td>2019-04-16</td>\n",
       "      <td>767918005</td>\n",
       "      <td>5</td>\n",
       "      <td>5</td>\n",
       "      <td>5</td>\n",
       "    </tr>\n",
       "  </tbody>\n",
       "</table>\n",
       "<p>2183245 rows × 5 columns</p>\n",
       "</div>"
      ],
      "text/plain": [
       "              ldbw  article_id  count  price  sales_channel_id\n",
       "0       2019-03-12   719447002      4      4                 4\n",
       "1       2019-04-16   590203002      1      1                 1\n",
       "2       2020-05-05   831684001     12     12                12\n",
       "3       2019-05-28   693508002      1      1                 1\n",
       "4       2019-07-02   777038001      5      5                 5\n",
       "...            ...         ...    ...    ...               ...\n",
       "2183240 2019-02-12   664871001     34     34                34\n",
       "2183241 2019-11-19   640735001      2      2                 2\n",
       "2183242 2018-10-02   569355002      6      6                 6\n",
       "2183243 2019-06-04   684021006      8      8                 8\n",
       "2183244 2019-04-16   767918005      5      5                 5\n",
       "\n",
       "[2183245 rows x 5 columns]"
      ]
     },
     "execution_count": 37,
     "metadata": {},
     "output_type": "execute_result"
    }
   ],
   "source": [
    "weekly_sales"
   ]
  },
  {
   "cell_type": "code",
   "execution_count": 38,
   "id": "97f7cf6f",
   "metadata": {
    "_cell_guid": "50496380-7d4d-4c1d-9419-cb77df7c3eca",
    "_uuid": "1476dd6d-0ab4-442a-8484-5c689c79d890",
    "collapsed": false,
    "execution": {
     "iopub.execute_input": "2022-04-04T11:34:21.188262Z",
     "iopub.status.busy": "2022-04-04T11:34:21.187436Z",
     "iopub.status.idle": "2022-04-04T11:34:21.220765Z",
     "shell.execute_reply": "2022-04-04T11:34:21.221174Z",
     "shell.execute_reply.started": "2022-04-04T11:23:18.462190Z"
    },
    "jupyter": {
     "outputs_hidden": false
    },
    "papermill": {
     "duration": 0.189391,
     "end_time": "2022-04-04T11:34:21.221329",
     "exception": false,
     "start_time": "2022-04-04T11:34:21.031938",
     "status": "completed"
    },
    "tags": []
   },
   "outputs": [],
   "source": [
    "df = df[df[\"ldbw\"] >= pd.to_datetime('2020-08-01')]"
   ]
  },
  {
   "cell_type": "code",
   "execution_count": 39,
   "id": "2c097a85",
   "metadata": {
    "_cell_guid": "e12fa790-d43d-4990-bfe9-17e5b4c549a7",
    "_uuid": "e9a1997a-1b9b-436d-9fc6-652aaca59756",
    "collapsed": false,
    "execution": {
     "iopub.execute_input": "2022-04-04T11:34:21.524966Z",
     "iopub.status.busy": "2022-04-04T11:34:21.524193Z",
     "iopub.status.idle": "2022-04-04T11:34:21.563565Z",
     "shell.execute_reply": "2022-04-04T11:34:21.563146Z",
     "shell.execute_reply.started": "2022-04-04T11:23:18.496456Z"
    },
    "jupyter": {
     "outputs_hidden": false
    },
    "papermill": {
     "duration": 0.193906,
     "end_time": "2022-04-04T11:34:21.563692",
     "exception": false,
     "start_time": "2022-04-04T11:34:21.369786",
     "status": "completed"
    },
    "tags": []
   },
   "outputs": [],
   "source": [
    "full_result = df.merge(relation_data, left_on = \"article_id\", right_on = \"from_id\")"
   ]
  },
  {
   "cell_type": "code",
   "execution_count": 40,
   "id": "546b5815",
   "metadata": {
    "_cell_guid": "10b315ec-7ea4-4172-ad55-a70246ce96a1",
    "_uuid": "b7bc8b84-f390-4b24-946b-fa2669f6b0e2",
    "collapsed": false,
    "execution": {
     "iopub.execute_input": "2022-04-04T11:34:21.868799Z",
     "iopub.status.busy": "2022-04-04T11:34:21.867927Z",
     "iopub.status.idle": "2022-04-04T11:34:21.869713Z",
     "shell.execute_reply": "2022-04-04T11:34:21.870128Z",
     "shell.execute_reply.started": "2022-04-04T11:23:18.555389Z"
    },
    "jupyter": {
     "outputs_hidden": false
    },
    "papermill": {
     "duration": 0.158212,
     "end_time": "2022-04-04T11:34:21.870266",
     "exception": false,
     "start_time": "2022-04-04T11:34:21.712054",
     "status": "completed"
    },
    "tags": []
   },
   "outputs": [],
   "source": [
    "full_result.drop([\"article_id\", \"from_id\"], axis = 1, inplace = True)"
   ]
  },
  {
   "cell_type": "code",
   "execution_count": 41,
   "id": "a7a021f7",
   "metadata": {
    "_cell_guid": "59103666-3b8d-4570-8cf7-4566d533d022",
    "_uuid": "03524976-e707-44e8-90c9-774bbb8381a2",
    "collapsed": false,
    "execution": {
     "iopub.execute_input": "2022-04-04T11:34:22.282764Z",
     "iopub.status.busy": "2022-04-04T11:34:22.281948Z",
     "iopub.status.idle": "2022-04-04T11:34:22.306391Z",
     "shell.execute_reply": "2022-04-04T11:34:22.307400Z",
     "shell.execute_reply.started": "2022-04-04T11:23:18.564634Z"
    },
    "jupyter": {
     "outputs_hidden": false
    },
    "papermill": {
     "duration": 0.283751,
     "end_time": "2022-04-04T11:34:22.307594",
     "exception": false,
     "start_time": "2022-04-04T11:34:22.023843",
     "status": "completed"
    },
    "tags": []
   },
   "outputs": [],
   "source": [
    "full_result = full_result.rename(columns = {\"to_id\": \"article_id\"})"
   ]
  },
  {
   "cell_type": "code",
   "execution_count": 42,
   "id": "42149493",
   "metadata": {
    "_cell_guid": "ee0a4aa7-6249-4122-81ad-284ca6126585",
    "_uuid": "66148fa0-a308-495b-9af7-ffedc9739c4f",
    "collapsed": false,
    "execution": {
     "iopub.execute_input": "2022-04-04T11:34:22.743831Z",
     "iopub.status.busy": "2022-04-04T11:34:22.738977Z",
     "iopub.status.idle": "2022-04-04T11:34:22.795516Z",
     "shell.execute_reply": "2022-04-04T11:34:22.795917Z",
     "shell.execute_reply.started": "2022-04-04T11:23:18.601761Z"
    },
    "jupyter": {
     "outputs_hidden": false
    },
    "papermill": {
     "duration": 0.243967,
     "end_time": "2022-04-04T11:34:22.796087",
     "exception": false,
     "start_time": "2022-04-04T11:34:22.552120",
     "status": "completed"
    },
    "tags": []
   },
   "outputs": [
    {
     "data": {
      "text/html": [
       "<div>\n",
       "<style scoped>\n",
       "    .dataframe tbody tr th:only-of-type {\n",
       "        vertical-align: middle;\n",
       "    }\n",
       "\n",
       "    .dataframe tbody tr th {\n",
       "        vertical-align: top;\n",
       "    }\n",
       "\n",
       "    .dataframe thead th {\n",
       "        text-align: right;\n",
       "    }\n",
       "</style>\n",
       "<table border=\"1\" class=\"dataframe\">\n",
       "  <thead>\n",
       "    <tr style=\"text-align: right;\">\n",
       "      <th></th>\n",
       "      <th>t_dat</th>\n",
       "      <th>customer_id</th>\n",
       "      <th>price</th>\n",
       "      <th>sales_channel_id</th>\n",
       "      <th>ldbw</th>\n",
       "      <th>article_id</th>\n",
       "      <th>ratio</th>\n",
       "    </tr>\n",
       "  </thead>\n",
       "  <tbody>\n",
       "    <tr>\n",
       "      <th>0</th>\n",
       "      <td>2020-07-29</td>\n",
       "      <td>-6088743733706191644</td>\n",
       "      <td>0.010153</td>\n",
       "      <td>1</td>\n",
       "      <td>2020-08-04</td>\n",
       "      <td>707061001</td>\n",
       "      <td>0.308642</td>\n",
       "    </tr>\n",
       "    <tr>\n",
       "      <th>1</th>\n",
       "      <td>2020-07-29</td>\n",
       "      <td>77902847406819401</td>\n",
       "      <td>0.016932</td>\n",
       "      <td>2</td>\n",
       "      <td>2020-08-04</td>\n",
       "      <td>706016001</td>\n",
       "      <td>0.108233</td>\n",
       "    </tr>\n",
       "    <tr>\n",
       "      <th>2</th>\n",
       "      <td>2020-07-29</td>\n",
       "      <td>7403659179335518081</td>\n",
       "      <td>0.018627</td>\n",
       "      <td>1</td>\n",
       "      <td>2020-08-04</td>\n",
       "      <td>735945001</td>\n",
       "      <td>0.156124</td>\n",
       "    </tr>\n",
       "    <tr>\n",
       "      <th>3</th>\n",
       "      <td>2020-07-29</td>\n",
       "      <td>-8396715021339446690</td>\n",
       "      <td>0.008458</td>\n",
       "      <td>1</td>\n",
       "      <td>2020-08-04</td>\n",
       "      <td>865076003</td>\n",
       "      <td>0.188841</td>\n",
       "    </tr>\n",
       "    <tr>\n",
       "      <th>4</th>\n",
       "      <td>2020-07-29</td>\n",
       "      <td>-6088743733706191644</td>\n",
       "      <td>0.015237</td>\n",
       "      <td>1</td>\n",
       "      <td>2020-08-04</td>\n",
       "      <td>759871002</td>\n",
       "      <td>0.091743</td>\n",
       "    </tr>\n",
       "    <tr>\n",
       "      <th>...</th>\n",
       "      <td>...</td>\n",
       "      <td>...</td>\n",
       "      <td>...</td>\n",
       "      <td>...</td>\n",
       "      <td>...</td>\n",
       "      <td>...</td>\n",
       "      <td>...</td>\n",
       "    </tr>\n",
       "    <tr>\n",
       "      <th>18750425</th>\n",
       "      <td>2020-09-15</td>\n",
       "      <td>1222534653512818531</td>\n",
       "      <td>0.059305</td>\n",
       "      <td>1</td>\n",
       "      <td>2020-09-15</td>\n",
       "      <td>762846008</td>\n",
       "      <td>0.053628</td>\n",
       "    </tr>\n",
       "    <tr>\n",
       "      <th>18750426</th>\n",
       "      <td>2020-09-15</td>\n",
       "      <td>1222534653512818531</td>\n",
       "      <td>0.059305</td>\n",
       "      <td>1</td>\n",
       "      <td>2020-09-15</td>\n",
       "      <td>706016003</td>\n",
       "      <td>0.053628</td>\n",
       "    </tr>\n",
       "    <tr>\n",
       "      <th>18750427</th>\n",
       "      <td>2020-09-15</td>\n",
       "      <td>4908528897358301336</td>\n",
       "      <td>0.042356</td>\n",
       "      <td>2</td>\n",
       "      <td>2020-09-15</td>\n",
       "      <td>706016015</td>\n",
       "      <td>0.099415</td>\n",
       "    </tr>\n",
       "    <tr>\n",
       "      <th>18750428</th>\n",
       "      <td>2020-09-15</td>\n",
       "      <td>4908528897358301336</td>\n",
       "      <td>0.042356</td>\n",
       "      <td>2</td>\n",
       "      <td>2020-09-15</td>\n",
       "      <td>572998001</td>\n",
       "      <td>0.093567</td>\n",
       "    </tr>\n",
       "    <tr>\n",
       "      <th>18750429</th>\n",
       "      <td>2020-09-15</td>\n",
       "      <td>4908528897358301336</td>\n",
       "      <td>0.042356</td>\n",
       "      <td>2</td>\n",
       "      <td>2020-09-15</td>\n",
       "      <td>864668004</td>\n",
       "      <td>0.093567</td>\n",
       "    </tr>\n",
       "  </tbody>\n",
       "</table>\n",
       "<p>18750430 rows × 7 columns</p>\n",
       "</div>"
      ],
      "text/plain": [
       "              t_dat          customer_id     price  sales_channel_id  \\\n",
       "0        2020-07-29 -6088743733706191644  0.010153                 1   \n",
       "1        2020-07-29    77902847406819401  0.016932                 2   \n",
       "2        2020-07-29  7403659179335518081  0.018627                 1   \n",
       "3        2020-07-29 -8396715021339446690  0.008458                 1   \n",
       "4        2020-07-29 -6088743733706191644  0.015237                 1   \n",
       "...             ...                  ...       ...               ...   \n",
       "18750425 2020-09-15  1222534653512818531  0.059305                 1   \n",
       "18750426 2020-09-15  1222534653512818531  0.059305                 1   \n",
       "18750427 2020-09-15  4908528897358301336  0.042356                 2   \n",
       "18750428 2020-09-15  4908528897358301336  0.042356                 2   \n",
       "18750429 2020-09-15  4908528897358301336  0.042356                 2   \n",
       "\n",
       "               ldbw  article_id     ratio  \n",
       "0        2020-08-04   707061001  0.308642  \n",
       "1        2020-08-04   706016001  0.108233  \n",
       "2        2020-08-04   735945001  0.156124  \n",
       "3        2020-08-04   865076003  0.188841  \n",
       "4        2020-08-04   759871002  0.091743  \n",
       "...             ...         ...       ...  \n",
       "18750425 2020-09-15   762846008  0.053628  \n",
       "18750426 2020-09-15   706016003  0.053628  \n",
       "18750427 2020-09-15   706016015  0.099415  \n",
       "18750428 2020-09-15   572998001  0.093567  \n",
       "18750429 2020-09-15   864668004  0.093567  \n",
       "\n",
       "[18750430 rows x 7 columns]"
      ]
     },
     "execution_count": 42,
     "metadata": {},
     "output_type": "execute_result"
    }
   ],
   "source": [
    "full_result"
   ]
  },
  {
   "cell_type": "code",
   "execution_count": 43,
   "id": "12321141",
   "metadata": {
    "_cell_guid": "ef7e2cbb-fe1a-44d7-9a3e-69283f5eb08b",
    "_uuid": "bd61ab8e-d639-4c55-9481-ec966895a670",
    "collapsed": false,
    "execution": {
     "iopub.execute_input": "2022-04-04T11:34:23.130605Z",
     "iopub.status.busy": "2022-04-04T11:34:23.129752Z",
     "iopub.status.idle": "2022-04-04T11:34:23.190496Z",
     "shell.execute_reply": "2022-04-04T11:34:23.189889Z",
     "shell.execute_reply.started": "2022-04-04T11:23:18.671343Z"
    },
    "jupyter": {
     "outputs_hidden": false
    },
    "papermill": {
     "duration": 0.239283,
     "end_time": "2022-04-04T11:34:23.190626",
     "exception": false,
     "start_time": "2022-04-04T11:34:22.951343",
     "status": "completed"
    },
    "tags": []
   },
   "outputs": [],
   "source": [
    "full_result = full_result.merge(weekly_sales, on=['ldbw', 'article_id'], how = 'left')"
   ]
  },
  {
   "cell_type": "code",
   "execution_count": 44,
   "id": "022a7d49",
   "metadata": {
    "_cell_guid": "17292033-c633-439e-afc9-f95d9b383a05",
    "_uuid": "d4872528-d5e3-4078-80d2-7cc02775988a",
    "collapsed": false,
    "execution": {
     "iopub.execute_input": "2022-04-04T11:34:23.493759Z",
     "iopub.status.busy": "2022-04-04T11:34:23.492920Z",
     "iopub.status.idle": "2022-04-04T11:34:23.495222Z",
     "shell.execute_reply": "2022-04-04T11:34:23.494706Z",
     "shell.execute_reply.started": "2022-04-04T11:23:18.735338Z"
    },
    "jupyter": {
     "outputs_hidden": false
    },
    "papermill": {
     "duration": 0.156121,
     "end_time": "2022-04-04T11:34:23.495330",
     "exception": false,
     "start_time": "2022-04-04T11:34:23.339209",
     "status": "completed"
    },
    "tags": []
   },
   "outputs": [],
   "source": [
    "#full_result.drop([\"article_id\", \"from_id\", \"count\"], axis = 1, inplace = True)"
   ]
  },
  {
   "cell_type": "code",
   "execution_count": 45,
   "id": "060f89bb",
   "metadata": {
    "_cell_guid": "9b94f109-f533-4008-8e4a-7d09d5a830e2",
    "_uuid": "8c5c1f5b-448f-4c1f-aacf-bdadd372b414",
    "collapsed": false,
    "execution": {
     "iopub.execute_input": "2022-04-04T11:34:23.799112Z",
     "iopub.status.busy": "2022-04-04T11:34:23.798371Z",
     "iopub.status.idle": "2022-04-04T11:34:23.800900Z",
     "shell.execute_reply": "2022-04-04T11:34:23.800446Z",
     "shell.execute_reply.started": "2022-04-04T11:23:18.741008Z"
    },
    "jupyter": {
     "outputs_hidden": false
    },
    "papermill": {
     "duration": 0.156503,
     "end_time": "2022-04-04T11:34:23.801030",
     "exception": false,
     "start_time": "2022-04-04T11:34:23.644527",
     "status": "completed"
    },
    "tags": []
   },
   "outputs": [],
   "source": [
    "#full_result.dropna(inplace)"
   ]
  },
  {
   "cell_type": "code",
   "execution_count": 46,
   "id": "fd9f5e15",
   "metadata": {
    "_cell_guid": "a41a07f7-899b-4233-b4e9-d5ec5acbd30a",
    "_uuid": "faa160ae-7200-4fe2-9959-eb5855b90c3c",
    "collapsed": false,
    "execution": {
     "iopub.execute_input": "2022-04-04T11:34:24.127586Z",
     "iopub.status.busy": "2022-04-04T11:34:24.126770Z",
     "iopub.status.idle": "2022-04-04T11:34:24.208953Z",
     "shell.execute_reply": "2022-04-04T11:34:24.208472Z",
     "shell.execute_reply.started": "2022-04-04T11:23:18.750367Z"
    },
    "jupyter": {
     "outputs_hidden": false
    },
    "papermill": {
     "duration": 0.253486,
     "end_time": "2022-04-04T11:34:24.209106",
     "exception": false,
     "start_time": "2022-04-04T11:34:23.955620",
     "status": "completed"
    },
    "tags": []
   },
   "outputs": [],
   "source": [
    "weekly_sales = weekly_sales.reset_index().set_index('article_id')\n",
    "\n",
    "full_result = full_result.merge(\n",
    "    weekly_sales.loc[weekly_sales['ldbw']==Last_date, ['count']],\n",
    "    on='article_id', suffixes=(\"\", \"_targ\"))\n",
    "\n",
    "full_result['count_targ'].fillna(0, inplace=True)"
   ]
  },
  {
   "cell_type": "code",
   "execution_count": 47,
   "id": "27bfbd33",
   "metadata": {
    "_cell_guid": "a8fd499d-6b8b-44ef-b355-464934a2cea1",
    "_uuid": "32269869-dcd4-4efb-b262-24eea971d25b",
    "collapsed": false,
    "execution": {
     "iopub.execute_input": "2022-04-04T11:34:24.516214Z",
     "iopub.status.busy": "2022-04-04T11:34:24.515334Z",
     "iopub.status.idle": "2022-04-04T11:34:24.593897Z",
     "shell.execute_reply": "2022-04-04T11:34:24.594343Z",
     "shell.execute_reply.started": "2022-04-04T11:23:18.842504Z"
    },
    "jupyter": {
     "outputs_hidden": false
    },
    "papermill": {
     "duration": 0.234874,
     "end_time": "2022-04-04T11:34:24.594491",
     "exception": false,
     "start_time": "2022-04-04T11:34:24.359617",
     "status": "completed"
    },
    "tags": []
   },
   "outputs": [
    {
     "data": {
      "text/html": [
       "<div>\n",
       "<style scoped>\n",
       "    .dataframe tbody tr th:only-of-type {\n",
       "        vertical-align: middle;\n",
       "    }\n",
       "\n",
       "    .dataframe tbody tr th {\n",
       "        vertical-align: top;\n",
       "    }\n",
       "\n",
       "    .dataframe thead th {\n",
       "        text-align: right;\n",
       "    }\n",
       "</style>\n",
       "<table border=\"1\" class=\"dataframe\">\n",
       "  <thead>\n",
       "    <tr style=\"text-align: right;\">\n",
       "      <th></th>\n",
       "      <th>t_dat</th>\n",
       "      <th>customer_id</th>\n",
       "      <th>price_x</th>\n",
       "      <th>sales_channel_id_x</th>\n",
       "      <th>ldbw</th>\n",
       "      <th>article_id</th>\n",
       "      <th>ratio</th>\n",
       "      <th>count</th>\n",
       "      <th>price_y</th>\n",
       "      <th>sales_channel_id_y</th>\n",
       "      <th>count_targ</th>\n",
       "    </tr>\n",
       "  </thead>\n",
       "  <tbody>\n",
       "    <tr>\n",
       "      <th>0</th>\n",
       "      <td>2020-07-30</td>\n",
       "      <td>-9017111230752972514</td>\n",
       "      <td>0.067780</td>\n",
       "      <td>2</td>\n",
       "      <td>2020-08-04</td>\n",
       "      <td>148033001</td>\n",
       "      <td>0.093617</td>\n",
       "      <td>20</td>\n",
       "      <td>20</td>\n",
       "      <td>20</td>\n",
       "      <td>68</td>\n",
       "    </tr>\n",
       "    <tr>\n",
       "      <th>1</th>\n",
       "      <td>2020-07-30</td>\n",
       "      <td>2425173648362550467</td>\n",
       "      <td>0.015237</td>\n",
       "      <td>2</td>\n",
       "      <td>2020-08-04</td>\n",
       "      <td>720125041</td>\n",
       "      <td>0.101948</td>\n",
       "      <td>108</td>\n",
       "      <td>108</td>\n",
       "      <td>108</td>\n",
       "      <td>32</td>\n",
       "    </tr>\n",
       "    <tr>\n",
       "      <th>2</th>\n",
       "      <td>2020-07-30</td>\n",
       "      <td>8124460368286661322</td>\n",
       "      <td>0.016932</td>\n",
       "      <td>2</td>\n",
       "      <td>2020-08-04</td>\n",
       "      <td>888026001</td>\n",
       "      <td>0.084112</td>\n",
       "      <td>66</td>\n",
       "      <td>66</td>\n",
       "      <td>66</td>\n",
       "      <td>7</td>\n",
       "    </tr>\n",
       "    <tr>\n",
       "      <th>3</th>\n",
       "      <td>2020-07-30</td>\n",
       "      <td>-3166062000865532923</td>\n",
       "      <td>0.025407</td>\n",
       "      <td>2</td>\n",
       "      <td>2020-08-04</td>\n",
       "      <td>706016002</td>\n",
       "      <td>0.086022</td>\n",
       "      <td>413</td>\n",
       "      <td>413</td>\n",
       "      <td>413</td>\n",
       "      <td>373</td>\n",
       "    </tr>\n",
       "    <tr>\n",
       "      <th>4</th>\n",
       "      <td>2020-07-30</td>\n",
       "      <td>2425173648362550467</td>\n",
       "      <td>0.042356</td>\n",
       "      <td>2</td>\n",
       "      <td>2020-08-04</td>\n",
       "      <td>706016001</td>\n",
       "      <td>0.119100</td>\n",
       "      <td>386</td>\n",
       "      <td>386</td>\n",
       "      <td>386</td>\n",
       "      <td>453</td>\n",
       "    </tr>\n",
       "    <tr>\n",
       "      <th>...</th>\n",
       "      <td>...</td>\n",
       "      <td>...</td>\n",
       "      <td>...</td>\n",
       "      <td>...</td>\n",
       "      <td>...</td>\n",
       "      <td>...</td>\n",
       "      <td>...</td>\n",
       "      <td>...</td>\n",
       "      <td>...</td>\n",
       "      <td>...</td>\n",
       "      <td>...</td>\n",
       "    </tr>\n",
       "    <tr>\n",
       "      <th>17558330</th>\n",
       "      <td>2020-09-15</td>\n",
       "      <td>6217472936215183115</td>\n",
       "      <td>0.033881</td>\n",
       "      <td>2</td>\n",
       "      <td>2020-09-15</td>\n",
       "      <td>448509014</td>\n",
       "      <td>0.054390</td>\n",
       "      <td>609</td>\n",
       "      <td>609</td>\n",
       "      <td>609</td>\n",
       "      <td>609</td>\n",
       "    </tr>\n",
       "    <tr>\n",
       "      <th>17558331</th>\n",
       "      <td>2020-09-15</td>\n",
       "      <td>1030928044322308386</td>\n",
       "      <td>0.008458</td>\n",
       "      <td>2</td>\n",
       "      <td>2020-09-15</td>\n",
       "      <td>706016002</td>\n",
       "      <td>0.084737</td>\n",
       "      <td>373</td>\n",
       "      <td>373</td>\n",
       "      <td>373</td>\n",
       "      <td>373</td>\n",
       "    </tr>\n",
       "    <tr>\n",
       "      <th>17558332</th>\n",
       "      <td>2020-09-15</td>\n",
       "      <td>-1931921511555469023</td>\n",
       "      <td>0.050831</td>\n",
       "      <td>2</td>\n",
       "      <td>2020-09-15</td>\n",
       "      <td>372860001</td>\n",
       "      <td>0.056931</td>\n",
       "      <td>264</td>\n",
       "      <td>264</td>\n",
       "      <td>264</td>\n",
       "      <td>264</td>\n",
       "    </tr>\n",
       "    <tr>\n",
       "      <th>17558333</th>\n",
       "      <td>2020-09-15</td>\n",
       "      <td>6217472936215183115</td>\n",
       "      <td>0.033881</td>\n",
       "      <td>2</td>\n",
       "      <td>2020-09-15</td>\n",
       "      <td>706016001</td>\n",
       "      <td>0.138889</td>\n",
       "      <td>453</td>\n",
       "      <td>453</td>\n",
       "      <td>453</td>\n",
       "      <td>453</td>\n",
       "    </tr>\n",
       "    <tr>\n",
       "      <th>17558334</th>\n",
       "      <td>2020-09-15</td>\n",
       "      <td>-6331092439389691094</td>\n",
       "      <td>0.016932</td>\n",
       "      <td>1</td>\n",
       "      <td>2020-09-15</td>\n",
       "      <td>778064001</td>\n",
       "      <td>0.053261</td>\n",
       "      <td>120</td>\n",
       "      <td>120</td>\n",
       "      <td>120</td>\n",
       "      <td>120</td>\n",
       "    </tr>\n",
       "  </tbody>\n",
       "</table>\n",
       "<p>17558335 rows × 11 columns</p>\n",
       "</div>"
      ],
      "text/plain": [
       "              t_dat          customer_id   price_x  sales_channel_id_x  \\\n",
       "0        2020-07-30 -9017111230752972514  0.067780                   2   \n",
       "1        2020-07-30  2425173648362550467  0.015237                   2   \n",
       "2        2020-07-30  8124460368286661322  0.016932                   2   \n",
       "3        2020-07-30 -3166062000865532923  0.025407                   2   \n",
       "4        2020-07-30  2425173648362550467  0.042356                   2   \n",
       "...             ...                  ...       ...                 ...   \n",
       "17558330 2020-09-15  6217472936215183115  0.033881                   2   \n",
       "17558331 2020-09-15  1030928044322308386  0.008458                   2   \n",
       "17558332 2020-09-15 -1931921511555469023  0.050831                   2   \n",
       "17558333 2020-09-15  6217472936215183115  0.033881                   2   \n",
       "17558334 2020-09-15 -6331092439389691094  0.016932                   1   \n",
       "\n",
       "               ldbw  article_id     ratio  count  price_y  sales_channel_id_y  \\\n",
       "0        2020-08-04   148033001  0.093617     20       20                  20   \n",
       "1        2020-08-04   720125041  0.101948    108      108                 108   \n",
       "2        2020-08-04   888026001  0.084112     66       66                  66   \n",
       "3        2020-08-04   706016002  0.086022    413      413                 413   \n",
       "4        2020-08-04   706016001  0.119100    386      386                 386   \n",
       "...             ...         ...       ...    ...      ...                 ...   \n",
       "17558330 2020-09-15   448509014  0.054390    609      609                 609   \n",
       "17558331 2020-09-15   706016002  0.084737    373      373                 373   \n",
       "17558332 2020-09-15   372860001  0.056931    264      264                 264   \n",
       "17558333 2020-09-15   706016001  0.138889    453      453                 453   \n",
       "17558334 2020-09-15   778064001  0.053261    120      120                 120   \n",
       "\n",
       "          count_targ  \n",
       "0                 68  \n",
       "1                 32  \n",
       "2                  7  \n",
       "3                373  \n",
       "4                453  \n",
       "...              ...  \n",
       "17558330         609  \n",
       "17558331         373  \n",
       "17558332         264  \n",
       "17558333         453  \n",
       "17558334         120  \n",
       "\n",
       "[17558335 rows x 11 columns]"
      ]
     },
     "execution_count": 47,
     "metadata": {},
     "output_type": "execute_result"
    }
   ],
   "source": [
    "full_result"
   ]
  },
  {
   "cell_type": "code",
   "execution_count": 48,
   "id": "3153f25e",
   "metadata": {
    "_cell_guid": "e4f03f0e-d1a2-4efc-a167-d32019ddf872",
    "_uuid": "6a5cd0bb-03ca-4534-bbf7-5f1cd32c7e49",
    "collapsed": false,
    "execution": {
     "iopub.execute_input": "2022-04-04T11:34:24.897981Z",
     "iopub.status.busy": "2022-04-04T11:34:24.897186Z",
     "iopub.status.idle": "2022-04-04T11:34:24.902422Z",
     "shell.execute_reply": "2022-04-04T11:34:24.901867Z",
     "shell.execute_reply.started": "2022-04-04T11:23:18.931864Z"
    },
    "jupyter": {
     "outputs_hidden": false
    },
    "papermill": {
     "duration": 0.15911,
     "end_time": "2022-04-04T11:34:24.902535",
     "exception": false,
     "start_time": "2022-04-04T11:34:24.743425",
     "status": "completed"
    },
    "tags": []
   },
   "outputs": [],
   "source": [
    "full_result['quotient'] = full_result['count_targ'] / full_result['count']"
   ]
  },
  {
   "cell_type": "code",
   "execution_count": 49,
   "id": "cab26bfd",
   "metadata": {
    "_cell_guid": "260ed538-7ea0-4f0f-9169-4fc9fb90ceb3",
    "_uuid": "e9b3e235-f63f-4e64-9300-bb4080403bff",
    "collapsed": false,
    "execution": {
     "iopub.execute_input": "2022-04-04T11:34:25.215879Z",
     "iopub.status.busy": "2022-04-04T11:34:25.215045Z",
     "iopub.status.idle": "2022-04-04T11:34:47.861389Z",
     "shell.execute_reply": "2022-04-04T11:34:47.860604Z",
     "shell.execute_reply.started": "2022-04-04T11:23:18.941481Z"
    },
    "jupyter": {
     "outputs_hidden": false
    },
    "papermill": {
     "duration": 22.808654,
     "end_time": "2022-04-04T11:34:47.861521",
     "exception": false,
     "start_time": "2022-04-04T11:34:25.052867",
     "status": "completed"
    },
    "tags": []
   },
   "outputs": [
    {
     "name": "stdout",
     "output_type": "stream",
     "text": [
      "CPU times: user 18.2 s, sys: 6.99 s, total: 25.2 s\n",
      "Wall time: 22.6 s\n"
     ]
    }
   ],
   "source": [
    "%%time\n",
    "purchase_dict = {}\n",
    "\n",
    "tmp = full_result.copy().to_pandas()\n",
    "tmp['x'] = ((Last_date - tmp['t_dat']) / np.timedelta64(1, 'D')).astype(int)\n",
    "tmp['dummy_1'] = 1 \n",
    "tmp['x'] = tmp[[\"x\", \"dummy_1\"]].max(axis=1)\n",
    "\n",
    "a, b, c, d = 2.5e4, 1.5e5, 2e-1, 1e3\n",
    "total = 1715530\n",
    "tmp['y'] = ((a / np.sqrt(tmp['x']) + b * np.exp(-c*tmp['x']) - d) / total +\\\n",
    "(a / np.sqrt(tmp['x']+1) + b * np.exp(-c*(tmp['x']+1)) - d) / total +\\\n",
    "(a / np.sqrt(tmp['x']+2) + b * np.exp(-c*(tmp['x']+2)) - d) / total +\\\n",
    "(a / np.sqrt(tmp['x']+3) + b * np.exp(-c*(tmp['x']+3)) - d) / total +\\\n",
    "(a / np.sqrt(tmp['x']+4) + b * np.exp(-c*(tmp['x']+4)) - d) / total +\\\n",
    "(a / np.sqrt(tmp['x']+5) + b * np.exp(-c*(tmp['x']+5)) - d) / total +\\\n",
    "(a / np.sqrt(tmp['x']+6) + b * np.exp(-c*(tmp['x']+6)) - d) / total)\n",
    "\n",
    "tmp['dummy_0'] = 0 \n",
    "tmp['y'] = tmp[[\"y\", \"dummy_0\"]].max(axis=1)\n",
    "tmp['score'] = tmp['quotient'] * tmp['y'] * tmp[\"ratio\"]\n",
    "\n",
    "tmp = tmp.groupby(['customer_id', 'article_id']).agg({'score': 'sum'})\n",
    "tmp = tmp.reset_index()\n",
    "\n",
    "tmp = tmp.loc[tmp['score'] > 0]\n",
    "tmp['rank'] = tmp.groupby(\"customer_id\")[\"score\"].rank(\"dense\", ascending=False)\n",
    "tmp = tmp.loc[tmp['rank'] <= 30]\n",
    "tmp[\"source\"] = 2\n",
    "\n",
    "result2 = tmp[[\"customer_id\", \"article_id\", \"source\", \"score\", \"rank\"]]"
   ]
  },
  {
   "cell_type": "code",
   "execution_count": 50,
   "id": "a56d65f6",
   "metadata": {
    "_cell_guid": "a1c88f16-7ee7-4f8f-914a-95a25add22b6",
    "_uuid": "16adb038-8a6d-4e50-a466-b0011a6787e3",
    "collapsed": false,
    "execution": {
     "iopub.execute_input": "2022-04-04T11:34:48.167510Z",
     "iopub.status.busy": "2022-04-04T11:34:48.166671Z",
     "iopub.status.idle": "2022-04-04T11:34:48.168739Z",
     "shell.execute_reply": "2022-04-04T11:34:48.169120Z",
     "shell.execute_reply.started": "2022-04-04T11:23:41.832945Z"
    },
    "jupyter": {
     "outputs_hidden": false
    },
    "papermill": {
     "duration": 0.155872,
     "end_time": "2022-04-04T11:34:48.169267",
     "exception": false,
     "start_time": "2022-04-04T11:34:48.013395",
     "status": "completed"
    },
    "tags": []
   },
   "outputs": [],
   "source": [
    "#result2.to_csv(\"result2.csv\", index = False)"
   ]
  },
  {
   "cell_type": "code",
   "execution_count": 51,
   "id": "7d769f3b",
   "metadata": {
    "_cell_guid": "d83f7cfd-a6d0-403c-9f3f-c7fe1dba58b6",
    "_uuid": "73527a50-5428-40cc-b834-1fb7eca3bf56",
    "collapsed": false,
    "execution": {
     "iopub.execute_input": "2022-04-04T11:34:48.608999Z",
     "iopub.status.busy": "2022-04-04T11:34:48.608272Z",
     "iopub.status.idle": "2022-04-04T11:34:48.611153Z",
     "shell.execute_reply": "2022-04-04T11:34:48.611550Z",
     "shell.execute_reply.started": "2022-04-04T11:23:41.838785Z"
    },
    "jupyter": {
     "outputs_hidden": false
    },
    "papermill": {
     "duration": 0.293278,
     "end_time": "2022-04-04T11:34:48.611705",
     "exception": false,
     "start_time": "2022-04-04T11:34:48.318427",
     "status": "completed"
    },
    "tags": []
   },
   "outputs": [
    {
     "data": {
      "text/plain": [
       "42"
      ]
     },
     "execution_count": 51,
     "metadata": {},
     "output_type": "execute_result"
    }
   ],
   "source": [
    "del tmp\n",
    "del df\n",
    "del full_result\n",
    "gc.collect()"
   ]
  },
  {
   "cell_type": "code",
   "execution_count": 52,
   "id": "6f652ca4",
   "metadata": {
    "_cell_guid": "87296a64-ae39-488a-a517-fd61510c2aab",
    "_uuid": "43722243-4987-498c-a903-1cbc41421af2",
    "collapsed": false,
    "execution": {
     "iopub.execute_input": "2022-04-04T11:34:48.919849Z",
     "iopub.status.busy": "2022-04-04T11:34:48.918942Z",
     "iopub.status.idle": "2022-04-04T11:34:48.921247Z",
     "shell.execute_reply": "2022-04-04T11:34:48.920708Z",
     "shell.execute_reply.started": "2022-04-04T11:23:41.993431Z"
    },
    "jupyter": {
     "outputs_hidden": false
    },
    "papermill": {
     "duration": 0.156223,
     "end_time": "2022-04-04T11:34:48.921364",
     "exception": false,
     "start_time": "2022-04-04T11:34:48.765141",
     "status": "completed"
    },
    "tags": []
   },
   "outputs": [],
   "source": [
    "#relation_data.to_csv(\"/kaggle/working/relation_data.csv\", index = False)"
   ]
  },
  {
   "cell_type": "code",
   "execution_count": 53,
   "id": "3090f730",
   "metadata": {
    "_cell_guid": "db9c575d-7371-49ab-b29e-90c07795d63e",
    "_uuid": "87951b6a-89c6-4c93-8801-6a6067e0a2d2",
    "collapsed": false,
    "execution": {
     "iopub.execute_input": "2022-04-04T11:34:49.227387Z",
     "iopub.status.busy": "2022-04-04T11:34:49.226519Z",
     "iopub.status.idle": "2022-04-04T11:34:49.229166Z",
     "shell.execute_reply": "2022-04-04T11:34:49.228638Z",
     "shell.execute_reply.started": "2022-04-04T11:23:42.001442Z"
    },
    "jupyter": {
     "outputs_hidden": false
    },
    "papermill": {
     "duration": 0.157527,
     "end_time": "2022-04-04T11:34:49.229281",
     "exception": false,
     "start_time": "2022-04-04T11:34:49.071754",
     "status": "completed"
    },
    "tags": []
   },
   "outputs": [],
   "source": [
    "# items = cudf.read_csv('../input/h-and-m-personalized-fashion-recommendations/articles.csv')\n",
    "# BASE = '../input/h-and-m-personalized-fashion-recommendations/images/'\n",
    "\n",
    "# for i,(k,v) in enumerate( pairs.items() ):\n",
    "#     name1 = BASE+'0'+str(k)[:2]+'/0'+str(k)+'.jpg'\n",
    "#     name2 = BASE+'0'+str(v[0])[:2]+'/0'+str(v[0])+'.jpg'\n",
    "#     name3 = BASE+'0'+str(v[1])[:2]+'/0'+str(v[1])+'.jpg'\n",
    "#     name4 = BASE+'0'+str(v[2])[:2]+'/0'+str(v[2])+'.jpg'\n",
    "#     if exists(name1) & exists(name2) & exists(name3) & exists(name4):\n",
    "#         plt.figure(figsize=(20,5))\n",
    "#         img1 = cv2.imread(name1)[:,:,::-1]\n",
    "#         img2 = cv2.imread(name2)[:,:,::-1]\n",
    "#         img3 = cv2.imread(name3)[:,:,::-1]\n",
    "#         img4 = cv2.imread(name4)[:,:,::-1]\n",
    "#         plt.subplot(1,4,1)\n",
    "#         plt.title('When customers buy this',size=18)\n",
    "#         plt.imshow(img1)\n",
    "#         plt.subplot(1,4,2)\n",
    "#         plt.title('They buy this',size=18)\n",
    "#         plt.imshow(img2)\n",
    "#         plt.subplot(1,4,3)\n",
    "#         plt.title('They buy this',size=18)\n",
    "#         plt.imshow(img3)\n",
    "#         plt.subplot(1,4,4)\n",
    "#         plt.title('They buy this',size=18)\n",
    "#         plt.imshow(img4)\n",
    "#         plt.show()\n",
    "#     #if i==63: break"
   ]
  },
  {
   "cell_type": "code",
   "execution_count": 54,
   "id": "fb6d9ad5",
   "metadata": {
    "_cell_guid": "c5e4e9e8-3a40-4d28-9797-89cd87e7b962",
    "_uuid": "aa27b491-dec0-486b-8a6b-4d4af46707c6",
    "collapsed": false,
    "execution": {
     "iopub.execute_input": "2022-04-04T11:34:49.594259Z",
     "iopub.status.busy": "2022-04-04T11:34:49.593535Z",
     "iopub.status.idle": "2022-04-04T11:34:49.596444Z",
     "shell.execute_reply": "2022-04-04T11:34:49.596833Z",
     "shell.execute_reply.started": "2022-04-04T11:23:42.011097Z"
    },
    "jupyter": {
     "outputs_hidden": false
    },
    "papermill": {
     "duration": 0.166465,
     "end_time": "2022-04-04T11:34:49.596965",
     "exception": false,
     "start_time": "2022-04-04T11:34:49.430500",
     "status": "completed"
    },
    "tags": []
   },
   "outputs": [
    {
     "data": {
      "text/html": [
       "<div>\n",
       "<style scoped>\n",
       "    .dataframe tbody tr th:only-of-type {\n",
       "        vertical-align: middle;\n",
       "    }\n",
       "\n",
       "    .dataframe tbody tr th {\n",
       "        vertical-align: top;\n",
       "    }\n",
       "\n",
       "    .dataframe thead th {\n",
       "        text-align: right;\n",
       "    }\n",
       "</style>\n",
       "<table border=\"1\" class=\"dataframe\">\n",
       "  <thead>\n",
       "    <tr style=\"text-align: right;\">\n",
       "      <th></th>\n",
       "      <th>customer_id</th>\n",
       "      <th>article_id</th>\n",
       "      <th>source</th>\n",
       "      <th>score</th>\n",
       "      <th>rank</th>\n",
       "    </tr>\n",
       "  </thead>\n",
       "  <tbody>\n",
       "    <tr>\n",
       "      <th>0</th>\n",
       "      <td>-9223352921020755230</td>\n",
       "      <td>156231001</td>\n",
       "      <td>2</td>\n",
       "      <td>0.002209</td>\n",
       "      <td>12.0</td>\n",
       "    </tr>\n",
       "    <tr>\n",
       "      <th>1</th>\n",
       "      <td>-9223352921020755230</td>\n",
       "      <td>372860001</td>\n",
       "      <td>2</td>\n",
       "      <td>0.003020</td>\n",
       "      <td>8.0</td>\n",
       "    </tr>\n",
       "    <tr>\n",
       "      <th>2</th>\n",
       "      <td>-9223352921020755230</td>\n",
       "      <td>372860002</td>\n",
       "      <td>2</td>\n",
       "      <td>0.002471</td>\n",
       "      <td>11.0</td>\n",
       "    </tr>\n",
       "    <tr>\n",
       "      <th>3</th>\n",
       "      <td>-9223352921020755230</td>\n",
       "      <td>448509014</td>\n",
       "      <td>2</td>\n",
       "      <td>0.003171</td>\n",
       "      <td>7.0</td>\n",
       "    </tr>\n",
       "    <tr>\n",
       "      <th>4</th>\n",
       "      <td>-9223352921020755230</td>\n",
       "      <td>464297007</td>\n",
       "      <td>2</td>\n",
       "      <td>0.000944</td>\n",
       "      <td>16.0</td>\n",
       "    </tr>\n",
       "    <tr>\n",
       "      <th>...</th>\n",
       "      <td>...</td>\n",
       "      <td>...</td>\n",
       "      <td>...</td>\n",
       "      <td>...</td>\n",
       "      <td>...</td>\n",
       "    </tr>\n",
       "    <tr>\n",
       "      <th>10385334</th>\n",
       "      <td>9223144259947635662</td>\n",
       "      <td>730863012</td>\n",
       "      <td>2</td>\n",
       "      <td>0.004874</td>\n",
       "      <td>18.0</td>\n",
       "    </tr>\n",
       "    <tr>\n",
       "      <th>10385338</th>\n",
       "      <td>9223144259947635662</td>\n",
       "      <td>742400033</td>\n",
       "      <td>2</td>\n",
       "      <td>0.002430</td>\n",
       "      <td>30.0</td>\n",
       "    </tr>\n",
       "    <tr>\n",
       "      <th>10385339</th>\n",
       "      <td>9223144259947635662</td>\n",
       "      <td>749699001</td>\n",
       "      <td>2</td>\n",
       "      <td>0.009977</td>\n",
       "      <td>8.0</td>\n",
       "    </tr>\n",
       "    <tr>\n",
       "      <th>10385340</th>\n",
       "      <td>9223144259947635662</td>\n",
       "      <td>783707109</td>\n",
       "      <td>2</td>\n",
       "      <td>0.003199</td>\n",
       "      <td>23.0</td>\n",
       "    </tr>\n",
       "    <tr>\n",
       "      <th>10385341</th>\n",
       "      <td>9223144259947635662</td>\n",
       "      <td>889703001</td>\n",
       "      <td>2</td>\n",
       "      <td>0.002573</td>\n",
       "      <td>27.0</td>\n",
       "    </tr>\n",
       "  </tbody>\n",
       "</table>\n",
       "<p>7530027 rows × 5 columns</p>\n",
       "</div>"
      ],
      "text/plain": [
       "                  customer_id  article_id  source     score  rank\n",
       "0        -9223352921020755230   156231001       2  0.002209  12.0\n",
       "1        -9223352921020755230   372860001       2  0.003020   8.0\n",
       "2        -9223352921020755230   372860002       2  0.002471  11.0\n",
       "3        -9223352921020755230   448509014       2  0.003171   7.0\n",
       "4        -9223352921020755230   464297007       2  0.000944  16.0\n",
       "...                       ...         ...     ...       ...   ...\n",
       "10385334  9223144259947635662   730863012       2  0.004874  18.0\n",
       "10385338  9223144259947635662   742400033       2  0.002430  30.0\n",
       "10385339  9223144259947635662   749699001       2  0.009977   8.0\n",
       "10385340  9223144259947635662   783707109       2  0.003199  23.0\n",
       "10385341  9223144259947635662   889703001       2  0.002573  27.0\n",
       "\n",
       "[7530027 rows x 5 columns]"
      ]
     },
     "execution_count": 54,
     "metadata": {},
     "output_type": "execute_result"
    }
   ],
   "source": [
    "result2"
   ]
  },
  {
   "cell_type": "markdown",
   "id": "4c6df63d",
   "metadata": {
    "_cell_guid": "317b622d-d667-4412-a89c-d9ca0ca05dff",
    "_uuid": "584c8ab9-2095-4992-bd33-2882f36da59c",
    "editable": false,
    "papermill": {
     "duration": 0.158903,
     "end_time": "2022-04-04T11:34:49.908966",
     "exception": false,
     "start_time": "2022-04-04T11:34:49.750063",
     "status": "completed"
    },
    "tags": []
   },
   "source": [
    "## 第三路：分层上周热门（+趋势）"
   ]
  },
  {
   "cell_type": "code",
   "execution_count": 55,
   "id": "10ca1cc2",
   "metadata": {
    "_cell_guid": "315eedef-347c-4be3-a7cb-2dc48bd982a5",
    "_uuid": "6d5dbd7a-4aab-42ab-8260-ab9d09dcaf8a",
    "collapsed": false,
    "execution": {
     "iopub.execute_input": "2022-04-04T11:34:50.233953Z",
     "iopub.status.busy": "2022-04-04T11:34:50.233163Z",
     "iopub.status.idle": "2022-04-04T11:34:57.645227Z",
     "shell.execute_reply": "2022-04-04T11:34:57.644675Z",
     "shell.execute_reply.started": "2022-04-04T11:23:42.032003Z"
    },
    "jupyter": {
     "outputs_hidden": false
    },
    "papermill": {
     "duration": 7.574392,
     "end_time": "2022-04-04T11:34:57.645365",
     "exception": false,
     "start_time": "2022-04-04T11:34:50.070973",
     "status": "completed"
    },
    "tags": []
   },
   "outputs": [
    {
     "name": "stdout",
     "output_type": "stream",
     "text": [
      "Requirement already satisfied: cudf in /opt/conda/lib/python3.7/site-packages (21.10.1)\r\n",
      "Requirement already satisfied: numba>=0.53.1 in /opt/conda/lib/python3.7/site-packages (from cudf) (0.54.1)\r\n",
      "Requirement already satisfied: Cython<0.30,>=0.29 in /opt/conda/lib/python3.7/site-packages (from cudf) (0.29.28)\r\n",
      "Requirement already satisfied: fastavro>=0.22.9 in /opt/conda/lib/python3.7/site-packages (from cudf) (1.4.9)\r\n",
      "Requirement already satisfied: fsspec>=0.6.0 in /opt/conda/lib/python3.7/site-packages (from cudf) (2022.2.0)\r\n",
      "Requirement already satisfied: numpy in /opt/conda/lib/python3.7/site-packages (from cudf) (1.20.3)\r\n",
      "Requirement already satisfied: pandas<1.4.0dev0,>=1.0 in /opt/conda/lib/python3.7/site-packages (from cudf) (1.3.5)\r\n",
      "Requirement already satisfied: typing_extensions in /opt/conda/lib/python3.7/site-packages (from cudf) (4.1.1)\r\n",
      "Requirement already satisfied: protobuf in /opt/conda/lib/python3.7/site-packages (from cudf) (3.19.1)\r\n",
      "Requirement already satisfied: nvtx>=0.2.1 in /opt/conda/lib/python3.7/site-packages (from cudf) (0.2.3)\r\n",
      "Requirement already satisfied: cachetools in /opt/conda/lib/python3.7/site-packages (from cudf) (4.2.4)\r\n",
      "Requirement already satisfied: packaging in /opt/conda/lib/python3.7/site-packages (from cudf) (21.3)\r\n",
      "Requirement already satisfied: cupy-cuda110 in /opt/conda/lib/python3.7/site-packages (from cudf) (10.2.0)\r\n",
      "Requirement already satisfied: llvmlite<0.38,>=0.37.0rc1 in /opt/conda/lib/python3.7/site-packages (from numba>=0.53.1->cudf) (0.37.0)\r\n",
      "Requirement already satisfied: setuptools in /opt/conda/lib/python3.7/site-packages (from numba>=0.53.1->cudf) (59.5.0)\r\n",
      "Requirement already satisfied: python-dateutil>=2.7.3 in /opt/conda/lib/python3.7/site-packages (from pandas<1.4.0dev0,>=1.0->cudf) (2.8.2)\r\n",
      "Requirement already satisfied: pytz>=2017.3 in /opt/conda/lib/python3.7/site-packages (from pandas<1.4.0dev0,>=1.0->cudf) (2021.3)\r\n",
      "Requirement already satisfied: fastrlock>=0.5 in /opt/conda/lib/python3.7/site-packages (from cupy-cuda110->cudf) (0.8)\r\n",
      "Requirement already satisfied: pyparsing!=3.0.5,>=2.0.2 in /opt/conda/lib/python3.7/site-packages (from packaging->cudf) (3.0.6)\r\n",
      "Requirement already satisfied: six>=1.5 in /opt/conda/lib/python3.7/site-packages (from python-dateutil>=2.7.3->pandas<1.4.0dev0,>=1.0->cudf) (1.16.0)\r\n",
      "\u001b[33mWARNING: Running pip as the 'root' user can result in broken permissions and conflicting behaviour with the system package manager. It is recommended to use a virtual environment instead: https://pip.pypa.io/warnings/venv\u001b[0m\r\n"
     ]
    }
   ],
   "source": [
    "!pip install cudf\n",
    "import numpy as np\n",
    "import pandas as pd \n",
    "from datetime import datetime, timedelta\n",
    "import gc\n",
    "import cudf\n",
    "import cv2, matplotlib.pyplot as plt\n",
    "from os.path import exists"
   ]
  },
  {
   "cell_type": "code",
   "execution_count": 56,
   "id": "3fb5a227",
   "metadata": {
    "_cell_guid": "22f0bbec-032a-49ba-98a7-7f0d667a1b7d",
    "_uuid": "ce3d97b4-5a90-4603-a491-974a446b3711",
    "collapsed": false,
    "execution": {
     "iopub.execute_input": "2022-04-04T11:34:57.963539Z",
     "iopub.status.busy": "2022-04-04T11:34:57.962777Z",
     "iopub.status.idle": "2022-04-04T11:34:57.964800Z",
     "shell.execute_reply": "2022-04-04T11:34:57.965237Z",
     "shell.execute_reply.started": "2022-04-04T11:23:49.377542Z"
    },
    "jupyter": {
     "outputs_hidden": false
    },
    "papermill": {
     "duration": 0.165817,
     "end_time": "2022-04-04T11:34:57.965376",
     "exception": false,
     "start_time": "2022-04-04T11:34:57.799559",
     "status": "completed"
    },
    "tags": []
   },
   "outputs": [],
   "source": [
    "# # LOAD TRANSACTIONS DATAFRAME\n",
    "# df = cudf.read_csv('../input/h-and-m-personalized-fashion-recommendations/transactions_train.csv')\n",
    "# print('Transactions shape',df.shape)\n",
    "# display( df.head() )\n",
    "\n",
    "# # REDUCE MEMORY OF DATAFRAME\n",
    "# df = df[['t_dat','customer_id','article_id']]\n",
    "# df.customer_id = df.customer_id.str[-16:].str.hex_to_int().astype('int64')\n",
    "# df.article_id = df.article_id.astype('int32')\n",
    "# df.t_dat = cudf.to_datetime(df.t_dat)\n",
    "# _ = gc.collect()"
   ]
  },
  {
   "cell_type": "code",
   "execution_count": 57,
   "id": "e3fddc38",
   "metadata": {
    "_cell_guid": "cb454618-33c2-47b3-af3b-cdf3257fff1f",
    "_uuid": "bc87cf18-1345-474d-a9c2-d392f881fb60",
    "collapsed": false,
    "execution": {
     "iopub.execute_input": "2022-04-04T11:34:58.276644Z",
     "iopub.status.busy": "2022-04-04T11:34:58.275962Z",
     "iopub.status.idle": "2022-04-04T11:34:58.279100Z",
     "shell.execute_reply": "2022-04-04T11:34:58.278669Z",
     "shell.execute_reply.started": "2022-04-04T11:23:49.384624Z"
    },
    "jupyter": {
     "outputs_hidden": false
    },
    "papermill": {
     "duration": 0.161988,
     "end_time": "2022-04-04T11:34:58.279229",
     "exception": false,
     "start_time": "2022-04-04T11:34:58.117241",
     "status": "completed"
    },
    "tags": []
   },
   "outputs": [],
   "source": [
    "df = train.copy()"
   ]
  },
  {
   "cell_type": "code",
   "execution_count": null,
   "id": "caeb3c36",
   "metadata": {
    "_cell_guid": "5b9b99fc-c415-4ca7-9bc9-4358689c36a3",
    "_uuid": "838b9b11-b1d3-416e-acd4-2b934dfffae2",
    "collapsed": false,
    "jupyter": {
     "outputs_hidden": false
    },
    "papermill": {
     "duration": 0.152219,
     "end_time": "2022-04-04T11:34:58.583375",
     "exception": false,
     "start_time": "2022-04-04T11:34:58.431156",
     "status": "completed"
    },
    "tags": []
   },
   "outputs": [],
   "source": []
  },
  {
   "cell_type": "code",
   "execution_count": 58,
   "id": "f99a4127",
   "metadata": {
    "_cell_guid": "b17079b9-205e-486f-87e6-b08e9da48999",
    "_uuid": "4fdd1c70-b5cb-4a2f-84ab-c88fc14584ae",
    "collapsed": false,
    "execution": {
     "iopub.execute_input": "2022-04-04T11:34:58.917643Z",
     "iopub.status.busy": "2022-04-04T11:34:58.916854Z",
     "iopub.status.idle": "2022-04-04T11:34:59.176487Z",
     "shell.execute_reply": "2022-04-04T11:34:59.177620Z",
     "shell.execute_reply.started": "2022-04-04T11:23:49.398504Z"
    },
    "jupyter": {
     "outputs_hidden": false
    },
    "papermill": {
     "duration": 0.442871,
     "end_time": "2022-04-04T11:34:59.177833",
     "exception": false,
     "start_time": "2022-04-04T11:34:58.734962",
     "status": "completed"
    },
    "tags": []
   },
   "outputs": [],
   "source": [
    "sales = cudf.merge(df, customer, on = \"customer_id\", how = 'left')\n",
    "sales = sales[sales.t_dat >= Date_week1]"
   ]
  },
  {
   "cell_type": "code",
   "execution_count": null,
   "id": "3eadd28a",
   "metadata": {
    "papermill": {
     "duration": 0.248515,
     "end_time": "2022-04-04T11:34:59.685980",
     "exception": false,
     "start_time": "2022-04-04T11:34:59.437465",
     "status": "completed"
    },
    "tags": []
   },
   "outputs": [],
   "source": []
  },
  {
   "cell_type": "code",
   "execution_count": 59,
   "id": "2b5654eb",
   "metadata": {
    "_cell_guid": "2e0582e2-7688-47db-a665-911dce825218",
    "_uuid": "a46cf55c-be1b-4397-ba31-e8ff758cc600",
    "collapsed": false,
    "execution": {
     "iopub.execute_input": "2022-04-04T11:35:00.226096Z",
     "iopub.status.busy": "2022-04-04T11:35:00.225380Z",
     "iopub.status.idle": "2022-04-04T11:35:00.243174Z",
     "shell.execute_reply": "2022-04-04T11:35:00.242701Z",
     "shell.execute_reply.started": "2022-04-04T11:23:49.679913Z"
    },
    "jupyter": {
     "outputs_hidden": false
    },
    "papermill": {
     "duration": 0.299378,
     "end_time": "2022-04-04T11:35:00.243293",
     "exception": false,
     "start_time": "2022-04-04T11:34:59.943915",
     "status": "completed"
    },
    "tags": []
   },
   "outputs": [],
   "source": [
    "sales = sales.fillna(0)"
   ]
  },
  {
   "cell_type": "code",
   "execution_count": 60,
   "id": "6c4d8b93",
   "metadata": {
    "execution": {
     "iopub.execute_input": "2022-04-04T11:35:00.553278Z",
     "iopub.status.busy": "2022-04-04T11:35:00.552735Z",
     "iopub.status.idle": "2022-04-04T11:35:00.560434Z",
     "shell.execute_reply": "2022-04-04T11:35:00.559981Z",
     "shell.execute_reply.started": "2022-04-04T11:23:49.773916Z"
    },
    "papermill": {
     "duration": 0.164222,
     "end_time": "2022-04-04T11:35:00.560548",
     "exception": false,
     "start_time": "2022-04-04T11:35:00.396326",
     "status": "completed"
    },
    "tags": []
   },
   "outputs": [],
   "source": [
    "use_aid = sales[\"article_id\"].drop_duplicates()"
   ]
  },
  {
   "cell_type": "code",
   "execution_count": 61,
   "id": "768b9467",
   "metadata": {
    "execution": {
     "iopub.execute_input": "2022-04-04T11:35:00.874981Z",
     "iopub.status.busy": "2022-04-04T11:35:00.873809Z",
     "iopub.status.idle": "2022-04-04T11:35:00.883912Z",
     "shell.execute_reply": "2022-04-04T11:35:00.883491Z",
     "shell.execute_reply.started": "2022-04-04T11:23:49.784206Z"
    },
    "papermill": {
     "duration": 0.171735,
     "end_time": "2022-04-04T11:35:00.884059",
     "exception": false,
     "start_time": "2022-04-04T11:35:00.712324",
     "status": "completed"
    },
    "tags": []
   },
   "outputs": [
    {
     "data": {
      "text/plain": [
       "31460491    108775044\n",
       "31381815    111565001\n",
       "31279302    111586001\n",
       "31288292    111593001\n",
       "31281432    111609001\n",
       "              ...    \n",
       "31305842    952267001\n",
       "31509316    952938001\n",
       "31413429    953450001\n",
       "31384278    953763001\n",
       "31314316    956217002\n",
       "Name: article_id, Length: 18611, dtype: int32"
      ]
     },
     "execution_count": 61,
     "metadata": {},
     "output_type": "execute_result"
    }
   ],
   "source": [
    "use_aid"
   ]
  },
  {
   "cell_type": "code",
   "execution_count": 62,
   "id": "0f211c51",
   "metadata": {
    "_cell_guid": "8965aabd-1ea7-412a-a6d6-3adc5ddd775d",
    "_uuid": "f1ee2984-f158-4ed9-b78f-cfe49c692208",
    "collapsed": false,
    "execution": {
     "iopub.execute_input": "2022-04-04T11:35:01.220925Z",
     "iopub.status.busy": "2022-04-04T11:35:01.220142Z",
     "iopub.status.idle": "2022-04-04T11:35:01.539382Z",
     "shell.execute_reply": "2022-04-04T11:35:01.538803Z",
     "shell.execute_reply.started": "2022-04-04T11:23:49.799853Z"
    },
    "jupyter": {
     "outputs_hidden": false
    },
    "papermill": {
     "duration": 0.481909,
     "end_time": "2022-04-04T11:35:01.539518",
     "exception": false,
     "start_time": "2022-04-04T11:35:01.057609",
     "status": "completed"
    },
    "tags": []
   },
   "outputs": [
    {
     "data": {
      "text/plain": [
       "<AxesSubplot:>"
      ]
     },
     "execution_count": 62,
     "metadata": {},
     "output_type": "execute_result"
    },
    {
     "data": {
      "image/png": "[encoded data removed]",
      "text/plain": [
       "<Figure size 432x288 with 1 Axes>"
      ]
     },
     "metadata": {
      "needs_background": "light"
     },
     "output_type": "display_data"
    }
   ],
   "source": [
    "sales.to_pandas()[\"age\"].hist()"
   ]
  },
  {
   "cell_type": "code",
   "execution_count": 63,
   "id": "b1363699",
   "metadata": {
    "_cell_guid": "923c1cf2-30fb-453b-a208-c8727e68271e",
    "_uuid": "0dd7d8cd-e867-4aee-a201-60db3ea62fea",
    "collapsed": false,
    "execution": {
     "iopub.execute_input": "2022-04-04T11:35:01.868116Z",
     "iopub.status.busy": "2022-04-04T11:35:01.867088Z",
     "iopub.status.idle": "2022-04-04T11:35:01.944658Z",
     "shell.execute_reply": "2022-04-04T11:35:01.945231Z",
     "shell.execute_reply.started": "2022-04-04T11:23:50.129468Z"
    },
    "jupyter": {
     "outputs_hidden": false
    },
    "papermill": {
     "duration": 0.251773,
     "end_time": "2022-04-04T11:35:01.945393",
     "exception": false,
     "start_time": "2022-04-04T11:35:01.693620",
     "status": "completed"
    },
    "tags": []
   },
   "outputs": [
    {
     "data": {
      "text/html": [
       "<div>\n",
       "<style scoped>\n",
       "    .dataframe tbody tr th:only-of-type {\n",
       "        vertical-align: middle;\n",
       "    }\n",
       "\n",
       "    .dataframe tbody tr th {\n",
       "        vertical-align: top;\n",
       "    }\n",
       "\n",
       "    .dataframe thead th {\n",
       "        text-align: right;\n",
       "    }\n",
       "</style>\n",
       "<table border=\"1\" class=\"dataframe\">\n",
       "  <thead>\n",
       "    <tr style=\"text-align: right;\">\n",
       "      <th></th>\n",
       "      <th>t_dat</th>\n",
       "      <th>customer_id</th>\n",
       "      <th>article_id</th>\n",
       "      <th>price</th>\n",
       "      <th>sales_channel_id</th>\n",
       "      <th>FN</th>\n",
       "      <th>Active</th>\n",
       "      <th>club_member_status</th>\n",
       "      <th>fashion_news_frequency</th>\n",
       "      <th>age</th>\n",
       "      <th>postal_code</th>\n",
       "    </tr>\n",
       "  </thead>\n",
       "  <tbody>\n",
       "    <tr>\n",
       "      <th>31265984</th>\n",
       "      <td>2020-09-09</td>\n",
       "      <td>-2156777441294618063</td>\n",
       "      <td>685814005</td>\n",
       "      <td>0.033881</td>\n",
       "      <td>2</td>\n",
       "      <td>1.0</td>\n",
       "      <td>1.0</td>\n",
       "      <td>ACTIVE</td>\n",
       "      <td>Regularly</td>\n",
       "      <td>29.0</td>\n",
       "      <td>17d0433ebad432976929d99192315d2479bfb7696af1d2...</td>\n",
       "    </tr>\n",
       "    <tr>\n",
       "      <th>31265985</th>\n",
       "      <td>2020-09-09</td>\n",
       "      <td>-6489422566283592999</td>\n",
       "      <td>865240002</td>\n",
       "      <td>0.008458</td>\n",
       "      <td>1</td>\n",
       "      <td>0.0</td>\n",
       "      <td>0.0</td>\n",
       "      <td>ACTIVE</td>\n",
       "      <td>NONE</td>\n",
       "      <td>27.0</td>\n",
       "      <td>09b4c331056fc94bc83a021f44470ea9e859209123e09f...</td>\n",
       "    </tr>\n",
       "    <tr>\n",
       "      <th>31265986</th>\n",
       "      <td>2020-09-09</td>\n",
       "      <td>-7761469595989510297</td>\n",
       "      <td>868641002</td>\n",
       "      <td>0.033881</td>\n",
       "      <td>2</td>\n",
       "      <td>1.0</td>\n",
       "      <td>1.0</td>\n",
       "      <td>ACTIVE</td>\n",
       "      <td>Regularly</td>\n",
       "      <td>22.0</td>\n",
       "      <td>64c420881b31267fd17d03e2aafac8e9ef0bae5a115446...</td>\n",
       "    </tr>\n",
       "    <tr>\n",
       "      <th>31265987</th>\n",
       "      <td>2020-09-09</td>\n",
       "      <td>-2912203858579140439</td>\n",
       "      <td>867966010</td>\n",
       "      <td>0.033881</td>\n",
       "      <td>2</td>\n",
       "      <td>1.0</td>\n",
       "      <td>1.0</td>\n",
       "      <td>ACTIVE</td>\n",
       "      <td>Regularly</td>\n",
       "      <td>24.0</td>\n",
       "      <td>e42c4f19dc1b95b82eae4d77106924e07fef6c5c1dd4c3...</td>\n",
       "    </tr>\n",
       "    <tr>\n",
       "      <th>31265988</th>\n",
       "      <td>2020-09-09</td>\n",
       "      <td>-2156777441294618063</td>\n",
       "      <td>896343002</td>\n",
       "      <td>0.033881</td>\n",
       "      <td>2</td>\n",
       "      <td>1.0</td>\n",
       "      <td>1.0</td>\n",
       "      <td>ACTIVE</td>\n",
       "      <td>Regularly</td>\n",
       "      <td>29.0</td>\n",
       "      <td>17d0433ebad432976929d99192315d2479bfb7696af1d2...</td>\n",
       "    </tr>\n",
       "    <tr>\n",
       "      <th>...</th>\n",
       "      <td>...</td>\n",
       "      <td>...</td>\n",
       "      <td>...</td>\n",
       "      <td>...</td>\n",
       "      <td>...</td>\n",
       "      <td>...</td>\n",
       "      <td>...</td>\n",
       "      <td>...</td>\n",
       "      <td>...</td>\n",
       "      <td>...</td>\n",
       "      <td>...</td>\n",
       "    </tr>\n",
       "    <tr>\n",
       "      <th>31548008</th>\n",
       "      <td>2020-09-15</td>\n",
       "      <td>-6427941934161059261</td>\n",
       "      <td>536139067</td>\n",
       "      <td>0.016932</td>\n",
       "      <td>1</td>\n",
       "      <td>0.0</td>\n",
       "      <td>0.0</td>\n",
       "      <td>ACTIVE</td>\n",
       "      <td>NONE</td>\n",
       "      <td>25.0</td>\n",
       "      <td>509fa1aa3f780986d00e233935059f5ca07b658f47912b...</td>\n",
       "    </tr>\n",
       "    <tr>\n",
       "      <th>31548009</th>\n",
       "      <td>2020-09-15</td>\n",
       "      <td>-2906181681434937533</td>\n",
       "      <td>889574009</td>\n",
       "      <td>0.010153</td>\n",
       "      <td>1</td>\n",
       "      <td>1.0</td>\n",
       "      <td>1.0</td>\n",
       "      <td>ACTIVE</td>\n",
       "      <td>Regularly</td>\n",
       "      <td>53.0</td>\n",
       "      <td>cbec264feccfd2b2f4fc2952613ce30a8336a6b1eca43c...</td>\n",
       "    </tr>\n",
       "    <tr>\n",
       "      <th>31548010</th>\n",
       "      <td>2020-09-15</td>\n",
       "      <td>6055964384479180517</td>\n",
       "      <td>936610001</td>\n",
       "      <td>0.042356</td>\n",
       "      <td>1</td>\n",
       "      <td>1.0</td>\n",
       "      <td>1.0</td>\n",
       "      <td>ACTIVE</td>\n",
       "      <td>Regularly</td>\n",
       "      <td>25.0</td>\n",
       "      <td>f4144c30359640930be01f55cd47be44ad6e799e80bf1a...</td>\n",
       "    </tr>\n",
       "    <tr>\n",
       "      <th>31548011</th>\n",
       "      <td>2020-09-15</td>\n",
       "      <td>4656377451867638708</td>\n",
       "      <td>903926002</td>\n",
       "      <td>0.050831</td>\n",
       "      <td>2</td>\n",
       "      <td>1.0</td>\n",
       "      <td>1.0</td>\n",
       "      <td>ACTIVE</td>\n",
       "      <td>Regularly</td>\n",
       "      <td>45.0</td>\n",
       "      <td>1e4dc84725cfc12ae6b64da787a1d918b960772ffcbc1f...</td>\n",
       "    </tr>\n",
       "    <tr>\n",
       "      <th>31548012</th>\n",
       "      <td>2020-09-15</td>\n",
       "      <td>8959927073256559032</td>\n",
       "      <td>909370001</td>\n",
       "      <td>0.033881</td>\n",
       "      <td>1</td>\n",
       "      <td>0.0</td>\n",
       "      <td>0.0</td>\n",
       "      <td>ACTIVE</td>\n",
       "      <td>NONE</td>\n",
       "      <td>24.0</td>\n",
       "      <td>c5728d79840d44cc00b4386113bf6c4ff9426f9c147c68...</td>\n",
       "    </tr>\n",
       "  </tbody>\n",
       "</table>\n",
       "<p>255241 rows × 11 columns</p>\n",
       "</div>"
      ],
      "text/plain": [
       "              t_dat          customer_id  article_id     price  \\\n",
       "31265984 2020-09-09 -2156777441294618063   685814005  0.033881   \n",
       "31265985 2020-09-09 -6489422566283592999   865240002  0.008458   \n",
       "31265986 2020-09-09 -7761469595989510297   868641002  0.033881   \n",
       "31265987 2020-09-09 -2912203858579140439   867966010  0.033881   \n",
       "31265988 2020-09-09 -2156777441294618063   896343002  0.033881   \n",
       "...             ...                  ...         ...       ...   \n",
       "31548008 2020-09-15 -6427941934161059261   536139067  0.016932   \n",
       "31548009 2020-09-15 -2906181681434937533   889574009  0.010153   \n",
       "31548010 2020-09-15  6055964384479180517   936610001  0.042356   \n",
       "31548011 2020-09-15  4656377451867638708   903926002  0.050831   \n",
       "31548012 2020-09-15  8959927073256559032   909370001  0.033881   \n",
       "\n",
       "          sales_channel_id   FN  Active club_member_status  \\\n",
       "31265984                 2  1.0     1.0             ACTIVE   \n",
       "31265985                 1  0.0     0.0             ACTIVE   \n",
       "31265986                 2  1.0     1.0             ACTIVE   \n",
       "31265987                 2  1.0     1.0             ACTIVE   \n",
       "31265988                 2  1.0     1.0             ACTIVE   \n",
       "...                    ...  ...     ...                ...   \n",
       "31548008                 1  0.0     0.0             ACTIVE   \n",
       "31548009                 1  1.0     1.0             ACTIVE   \n",
       "31548010                 1  1.0     1.0             ACTIVE   \n",
       "31548011                 2  1.0     1.0             ACTIVE   \n",
       "31548012                 1  0.0     0.0             ACTIVE   \n",
       "\n",
       "         fashion_news_frequency   age  \\\n",
       "31265984              Regularly  29.0   \n",
       "31265985                   NONE  27.0   \n",
       "31265986              Regularly  22.0   \n",
       "31265987              Regularly  24.0   \n",
       "31265988              Regularly  29.0   \n",
       "...                         ...   ...   \n",
       "31548008                   NONE  25.0   \n",
       "31548009              Regularly  53.0   \n",
       "31548010              Regularly  25.0   \n",
       "31548011              Regularly  45.0   \n",
       "31548012                   NONE  24.0   \n",
       "\n",
       "                                                postal_code  \n",
       "31265984  17d0433ebad432976929d99192315d2479bfb7696af1d2...  \n",
       "31265985  09b4c331056fc94bc83a021f44470ea9e859209123e09f...  \n",
       "31265986  64c420881b31267fd17d03e2aafac8e9ef0bae5a115446...  \n",
       "31265987  e42c4f19dc1b95b82eae4d77106924e07fef6c5c1dd4c3...  \n",
       "31265988  17d0433ebad432976929d99192315d2479bfb7696af1d2...  \n",
       "...                                                     ...  \n",
       "31548008  509fa1aa3f780986d00e233935059f5ca07b658f47912b...  \n",
       "31548009  cbec264feccfd2b2f4fc2952613ce30a8336a6b1eca43c...  \n",
       "31548010  f4144c30359640930be01f55cd47be44ad6e799e80bf1a...  \n",
       "31548011  1e4dc84725cfc12ae6b64da787a1d918b960772ffcbc1f...  \n",
       "31548012  c5728d79840d44cc00b4386113bf6c4ff9426f9c147c68...  \n",
       "\n",
       "[255241 rows x 11 columns]"
      ]
     },
     "execution_count": 63,
     "metadata": {},
     "output_type": "execute_result"
    }
   ],
   "source": [
    "sales"
   ]
  },
  {
   "cell_type": "code",
   "execution_count": 64,
   "id": "d032b495",
   "metadata": {
    "_cell_guid": "490a2367-b14f-40de-8fe6-d99887ece0b0",
    "_uuid": "334b8f05-46f7-4264-aaff-ab91dbcf28da",
    "collapsed": false,
    "execution": {
     "iopub.execute_input": "2022-04-04T11:35:02.263722Z",
     "iopub.status.busy": "2022-04-04T11:35:02.262901Z",
     "iopub.status.idle": "2022-04-04T11:35:02.279742Z",
     "shell.execute_reply": "2022-04-04T11:35:02.279321Z",
     "shell.execute_reply.started": "2022-04-04T11:23:50.221379Z"
    },
    "jupyter": {
     "outputs_hidden": false
    },
    "papermill": {
     "duration": 0.177127,
     "end_time": "2022-04-04T11:35:02.279861",
     "exception": false,
     "start_time": "2022-04-04T11:35:02.102734",
     "status": "completed"
    },
    "tags": []
   },
   "outputs": [],
   "source": [
    "target_sales = sales[[\"article_id\", \"customer_id\"]].groupby('article_id')[\"customer_id\"].count()\n",
    "general_pred = target_sales.nlargest(N, keep = \"first\").index.to_pandas().tolist()\n",
    "general_pred = ['0' + str(article_id) for article_id in general_pred]\n",
    "general_pred_str =  ' '.join(general_pred)\n",
    "del target_sales"
   ]
  },
  {
   "cell_type": "code",
   "execution_count": 65,
   "id": "5b358b7e",
   "metadata": {
    "_cell_guid": "1ca8a8b7-f271-4796-82e3-7d2c8c9a4301",
    "_uuid": "a8c87106-cccc-4ce3-be8f-27cc5484956d",
    "collapsed": false,
    "execution": {
     "iopub.execute_input": "2022-04-04T11:35:02.596457Z",
     "iopub.status.busy": "2022-04-04T11:35:02.595279Z",
     "iopub.status.idle": "2022-04-04T11:35:02.598500Z",
     "shell.execute_reply": "2022-04-04T11:35:02.598861Z",
     "shell.execute_reply.started": "2022-04-04T11:23:50.243552Z"
    },
    "jupyter": {
     "outputs_hidden": false
    },
    "papermill": {
     "duration": 0.164973,
     "end_time": "2022-04-04T11:35:02.598995",
     "exception": false,
     "start_time": "2022-04-04T11:35:02.434022",
     "status": "completed"
    },
    "tags": []
   },
   "outputs": [
    {
     "data": {
      "text/plain": [
       "'0909370001 0865799006 0918522001 0924243001 0448509014 0751471001 0809238001 0918292001 0762846027 0809238005 0673677002 0923758001'"
      ]
     },
     "execution_count": 65,
     "metadata": {},
     "output_type": "execute_result"
    }
   ],
   "source": [
    "general_pred_str"
   ]
  },
  {
   "cell_type": "code",
   "execution_count": 66,
   "id": "46883ddd",
   "metadata": {
    "_cell_guid": "1a5a8ba1-a890-471b-8bc8-46ed3f884a39",
    "_uuid": "ef1404b1-5e74-4b74-a43d-c74718f7e966",
    "collapsed": false,
    "execution": {
     "iopub.execute_input": "2022-04-04T11:35:02.914863Z",
     "iopub.status.busy": "2022-04-04T11:35:02.914032Z",
     "iopub.status.idle": "2022-04-04T11:35:02.916380Z",
     "shell.execute_reply": "2022-04-04T11:35:02.915847Z",
     "shell.execute_reply.started": "2022-04-04T11:23:50.250401Z"
    },
    "jupyter": {
     "outputs_hidden": false
    },
    "papermill": {
     "duration": 0.163117,
     "end_time": "2022-04-04T11:35:02.916491",
     "exception": false,
     "start_time": "2022-04-04T11:35:02.753374",
     "status": "completed"
    },
    "tags": []
   },
   "outputs": [],
   "source": [
    "#sales.age = sales.age.astype(\"float32\")"
   ]
  },
  {
   "cell_type": "code",
   "execution_count": 67,
   "id": "c10866ad",
   "metadata": {
    "_cell_guid": "55adea43-97ea-4c24-9d30-2ce2a7e07443",
    "_uuid": "005a6cc8-cd43-4d2a-9391-b02d9a261d08",
    "collapsed": false,
    "execution": {
     "iopub.execute_input": "2022-04-04T11:35:03.230160Z",
     "iopub.status.busy": "2022-04-04T11:35:03.229349Z",
     "iopub.status.idle": "2022-04-04T11:35:03.347455Z",
     "shell.execute_reply": "2022-04-04T11:35:03.346924Z",
     "shell.execute_reply.started": "2022-04-04T11:23:50.258815Z"
    },
    "jupyter": {
     "outputs_hidden": false
    },
    "papermill": {
     "duration": 0.275211,
     "end_time": "2022-04-04T11:35:03.347581",
     "exception": false,
     "start_time": "2022-04-04T11:35:03.072370",
     "status": "completed"
    },
    "tags": []
   },
   "outputs": [],
   "source": [
    "age_type = pd.cut(sales.to_pandas()[\"age\"], bins = np.array([0, 21, 24, 27, 30, 35, 40, 45, 50, 60, 100], dtype = \"int32\"), right = True)"
   ]
  },
  {
   "cell_type": "code",
   "execution_count": 68,
   "id": "d64bfe15",
   "metadata": {
    "_cell_guid": "04e8ec85-58b1-4b98-afd2-6faacc6fc775",
    "_uuid": "f4a6aac7-9f67-4f0f-8b74-b2a0b619d2ca",
    "collapsed": false,
    "execution": {
     "iopub.execute_input": "2022-04-04T11:35:03.665828Z",
     "iopub.status.busy": "2022-04-04T11:35:03.664881Z",
     "iopub.status.idle": "2022-04-04T11:35:04.790660Z",
     "shell.execute_reply": "2022-04-04T11:35:04.789786Z",
     "shell.execute_reply.started": "2022-04-04T11:23:50.348207Z"
    },
    "jupyter": {
     "outputs_hidden": false
    },
    "papermill": {
     "duration": 1.288133,
     "end_time": "2022-04-04T11:35:04.790797",
     "exception": false,
     "start_time": "2022-04-04T11:35:03.502664",
     "status": "completed"
    },
    "tags": []
   },
   "outputs": [],
   "source": [
    "sales[\"age_type\"] = age_type.astype(\"string\")"
   ]
  },
  {
   "cell_type": "code",
   "execution_count": 69,
   "id": "66b717c0",
   "metadata": {
    "_cell_guid": "822dc73e-9015-44e2-9d5d-6fbd7f56f333",
    "_uuid": "e8047d6b-4ab5-44cb-95e5-5b80831680a9",
    "collapsed": false,
    "execution": {
     "iopub.execute_input": "2022-04-04T11:35:05.110241Z",
     "iopub.status.busy": "2022-04-04T11:35:05.109385Z",
     "iopub.status.idle": "2022-04-04T11:35:05.123461Z",
     "shell.execute_reply": "2022-04-04T11:35:05.123047Z",
     "shell.execute_reply.started": "2022-04-04T11:23:51.461357Z"
    },
    "jupyter": {
     "outputs_hidden": false
    },
    "papermill": {
     "duration": 0.177391,
     "end_time": "2022-04-04T11:35:05.123575",
     "exception": false,
     "start_time": "2022-04-04T11:35:04.946184",
     "status": "completed"
    },
    "tags": []
   },
   "outputs": [],
   "source": [
    "summary = sales.groupby([\"fashion_news_frequency\", \"age_type\", \"article_id\"])[\"postal_code\"].count().\\\n",
    "reset_index().rename({\"postal_code\":\"count\"}, axis = 1)"
   ]
  },
  {
   "cell_type": "code",
   "execution_count": 70,
   "id": "18229963",
   "metadata": {
    "_cell_guid": "db904ec6-6cee-4c82-81ae-5de2c7a37dbc",
    "_uuid": "984be7ba-2077-4d19-a0f7-edd0d9b292c9",
    "collapsed": false,
    "execution": {
     "iopub.execute_input": "2022-04-04T11:35:05.440941Z",
     "iopub.status.busy": "2022-04-04T11:35:05.440126Z",
     "iopub.status.idle": "2022-04-04T11:35:05.496607Z",
     "shell.execute_reply": "2022-04-04T11:35:05.497031Z",
     "shell.execute_reply.started": "2022-04-04T11:23:51.482821Z"
    },
    "jupyter": {
     "outputs_hidden": false
    },
    "papermill": {
     "duration": 0.218964,
     "end_time": "2022-04-04T11:35:05.497204",
     "exception": false,
     "start_time": "2022-04-04T11:35:05.278240",
     "status": "completed"
    },
    "tags": []
   },
   "outputs": [
    {
     "data": {
      "text/html": [
       "<div>\n",
       "<style scoped>\n",
       "    .dataframe tbody tr th:only-of-type {\n",
       "        vertical-align: middle;\n",
       "    }\n",
       "\n",
       "    .dataframe tbody tr th {\n",
       "        vertical-align: top;\n",
       "    }\n",
       "\n",
       "    .dataframe thead th {\n",
       "        text-align: right;\n",
       "    }\n",
       "</style>\n",
       "<table border=\"1\" class=\"dataframe\">\n",
       "  <thead>\n",
       "    <tr style=\"text-align: right;\">\n",
       "      <th></th>\n",
       "      <th>fashion_news_frequency</th>\n",
       "      <th>age_type</th>\n",
       "      <th>article_id</th>\n",
       "      <th>count</th>\n",
       "    </tr>\n",
       "  </thead>\n",
       "  <tbody>\n",
       "    <tr>\n",
       "      <th>2</th>\n",
       "      <td>NONE</td>\n",
       "      <td>(24.0, 27.0]</td>\n",
       "      <td>781135004</td>\n",
       "      <td>1</td>\n",
       "    </tr>\n",
       "    <tr>\n",
       "      <th>3</th>\n",
       "      <td>NONE</td>\n",
       "      <td>(24.0, 27.0]</td>\n",
       "      <td>675070013</td>\n",
       "      <td>1</td>\n",
       "    </tr>\n",
       "    <tr>\n",
       "      <th>4</th>\n",
       "      <td>Regularly</td>\n",
       "      <td>(40.0, 45.0]</td>\n",
       "      <td>919160001</td>\n",
       "      <td>1</td>\n",
       "    </tr>\n",
       "    <tr>\n",
       "      <th>6</th>\n",
       "      <td>Regularly</td>\n",
       "      <td>(0.0, 21.0]</td>\n",
       "      <td>862325004</td>\n",
       "      <td>1</td>\n",
       "    </tr>\n",
       "    <tr>\n",
       "      <th>7</th>\n",
       "      <td>NONE</td>\n",
       "      <td>(45.0, 50.0]</td>\n",
       "      <td>874547004</td>\n",
       "      <td>1</td>\n",
       "    </tr>\n",
       "    <tr>\n",
       "      <th>...</th>\n",
       "      <td>...</td>\n",
       "      <td>...</td>\n",
       "      <td>...</td>\n",
       "      <td>...</td>\n",
       "    </tr>\n",
       "    <tr>\n",
       "      <th>2635</th>\n",
       "      <td>Regularly</td>\n",
       "      <td>(21.0, 24.0]</td>\n",
       "      <td>909370001</td>\n",
       "      <td>112</td>\n",
       "    </tr>\n",
       "    <tr>\n",
       "      <th>67196</th>\n",
       "      <td>NONE</td>\n",
       "      <td>(21.0, 24.0]</td>\n",
       "      <td>909370001</td>\n",
       "      <td>114</td>\n",
       "    </tr>\n",
       "    <tr>\n",
       "      <th>76967</th>\n",
       "      <td>NONE</td>\n",
       "      <td>(27.0, 30.0]</td>\n",
       "      <td>909370001</td>\n",
       "      <td>114</td>\n",
       "    </tr>\n",
       "    <tr>\n",
       "      <th>86330</th>\n",
       "      <td>Regularly</td>\n",
       "      <td>(24.0, 27.0]</td>\n",
       "      <td>909370001</td>\n",
       "      <td>117</td>\n",
       "    </tr>\n",
       "    <tr>\n",
       "      <th>1906</th>\n",
       "      <td>NONE</td>\n",
       "      <td>(24.0, 27.0]</td>\n",
       "      <td>909370001</td>\n",
       "      <td>139</td>\n",
       "    </tr>\n",
       "  </tbody>\n",
       "</table>\n",
       "<p>94093 rows × 4 columns</p>\n",
       "</div>"
      ],
      "text/plain": [
       "      fashion_news_frequency      age_type  article_id  count\n",
       "2                       NONE  (24.0, 27.0]   781135004      1\n",
       "3                       NONE  (24.0, 27.0]   675070013      1\n",
       "4                  Regularly  (40.0, 45.0]   919160001      1\n",
       "6                  Regularly   (0.0, 21.0]   862325004      1\n",
       "7                       NONE  (45.0, 50.0]   874547004      1\n",
       "...                      ...           ...         ...    ...\n",
       "2635               Regularly  (21.0, 24.0]   909370001    112\n",
       "67196                   NONE  (21.0, 24.0]   909370001    114\n",
       "76967                   NONE  (27.0, 30.0]   909370001    114\n",
       "86330              Regularly  (24.0, 27.0]   909370001    117\n",
       "1906                    NONE  (24.0, 27.0]   909370001    139\n",
       "\n",
       "[94093 rows x 4 columns]"
      ]
     },
     "execution_count": 70,
     "metadata": {},
     "output_type": "execute_result"
    }
   ],
   "source": [
    "summary.sort_values(by = [\"count\"])"
   ]
  },
  {
   "cell_type": "code",
   "execution_count": 71,
   "id": "1cffd2e3",
   "metadata": {
    "_cell_guid": "fb248905-fd2f-439a-8eb1-66f9dff2af90",
    "_uuid": "1033eeb1-9548-4a06-b361-e50a578f731c",
    "collapsed": false,
    "execution": {
     "iopub.execute_input": "2022-04-04T11:35:05.813757Z",
     "iopub.status.busy": "2022-04-04T11:35:05.812952Z",
     "iopub.status.idle": "2022-04-04T11:35:05.845032Z",
     "shell.execute_reply": "2022-04-04T11:35:05.844438Z",
     "shell.execute_reply.started": "2022-04-04T11:23:51.545403Z"
    },
    "jupyter": {
     "outputs_hidden": false
    },
    "papermill": {
     "duration": 0.192128,
     "end_time": "2022-04-04T11:35:05.845157",
     "exception": false,
     "start_time": "2022-04-04T11:35:05.653029",
     "status": "completed"
    },
    "tags": []
   },
   "outputs": [],
   "source": [
    "summary[\"total_count\"] = summary.to_pandas().groupby([\"fashion_news_frequency\", \"age_type\"])[\"count\"].transform(sum)"
   ]
  },
  {
   "cell_type": "code",
   "execution_count": 72,
   "id": "4dcd25ed",
   "metadata": {
    "_cell_guid": "0bdc80cc-9424-4e7e-932f-31f5f9107d89",
    "_uuid": "4e82ec64-7dc8-4188-b312-6b314cf31dab",
    "collapsed": false,
    "execution": {
     "iopub.execute_input": "2022-04-04T11:35:06.304310Z",
     "iopub.status.busy": "2022-04-04T11:35:06.303283Z",
     "iopub.status.idle": "2022-04-04T11:35:06.305827Z",
     "shell.execute_reply": "2022-04-04T11:35:06.305114Z",
     "shell.execute_reply.started": "2022-04-04T11:23:51.602635Z"
    },
    "jupyter": {
     "outputs_hidden": false
    },
    "papermill": {
     "duration": 0.299583,
     "end_time": "2022-04-04T11:35:06.306119",
     "exception": false,
     "start_time": "2022-04-04T11:35:06.006536",
     "status": "completed"
    },
    "tags": []
   },
   "outputs": [],
   "source": [
    "summary[\"score\"] = summary[\"count\"]/summary[\"total_count\"]"
   ]
  },
  {
   "cell_type": "code",
   "execution_count": 73,
   "id": "fc1debda",
   "metadata": {
    "_cell_guid": "f45641db-c4c0-48f6-9040-c7e5d685b4a7",
    "_uuid": "c63a3287-689d-4965-b951-c848392e5479",
    "collapsed": false,
    "execution": {
     "iopub.execute_input": "2022-04-04T11:35:06.840833Z",
     "iopub.status.busy": "2022-04-04T11:35:06.839940Z",
     "iopub.status.idle": "2022-04-04T11:35:06.841853Z",
     "shell.execute_reply": "2022-04-04T11:35:06.842324Z",
     "shell.execute_reply.started": "2022-04-04T11:23:51.609920Z"
    },
    "jupyter": {
     "outputs_hidden": false
    },
    "papermill": {
     "duration": 0.235024,
     "end_time": "2022-04-04T11:35:06.842474",
     "exception": false,
     "start_time": "2022-04-04T11:35:06.607450",
     "status": "completed"
    },
    "tags": []
   },
   "outputs": [],
   "source": [
    "summary = cudf.DataFrame(summary)"
   ]
  },
  {
   "cell_type": "code",
   "execution_count": 74,
   "id": "ddb63c97",
   "metadata": {
    "_cell_guid": "36974057-5728-442c-a2b7-d9bf01e2c571",
    "_uuid": "882cbb73-746e-4a66-8b4f-9e391609bf0d",
    "collapsed": false,
    "execution": {
     "iopub.execute_input": "2022-04-04T11:35:07.194696Z",
     "iopub.status.busy": "2022-04-04T11:35:07.194083Z",
     "iopub.status.idle": "2022-04-04T11:35:07.266625Z",
     "shell.execute_reply": "2022-04-04T11:35:07.267428Z",
     "shell.execute_reply.started": "2022-04-04T11:23:51.618776Z"
    },
    "jupyter": {
     "outputs_hidden": false
    },
    "papermill": {
     "duration": 0.2516,
     "end_time": "2022-04-04T11:35:07.267580",
     "exception": false,
     "start_time": "2022-04-04T11:35:07.015980",
     "status": "completed"
    },
    "tags": []
   },
   "outputs": [
    {
     "data": {
      "text/html": [
       "<div>\n",
       "<style scoped>\n",
       "    .dataframe tbody tr th:only-of-type {\n",
       "        vertical-align: middle;\n",
       "    }\n",
       "\n",
       "    .dataframe tbody tr th {\n",
       "        vertical-align: top;\n",
       "    }\n",
       "\n",
       "    .dataframe thead th {\n",
       "        text-align: right;\n",
       "    }\n",
       "</style>\n",
       "<table border=\"1\" class=\"dataframe\">\n",
       "  <thead>\n",
       "    <tr style=\"text-align: right;\">\n",
       "      <th></th>\n",
       "      <th>fashion_news_frequency</th>\n",
       "      <th>age_type</th>\n",
       "      <th>article_id</th>\n",
       "      <th>count</th>\n",
       "      <th>total_count</th>\n",
       "      <th>score</th>\n",
       "    </tr>\n",
       "  </thead>\n",
       "  <tbody>\n",
       "    <tr>\n",
       "      <th>70560</th>\n",
       "      <td>NONE</td>\n",
       "      <td>(30.0, 35.0]</td>\n",
       "      <td>108775044</td>\n",
       "      <td>1</td>\n",
       "      <td>16446</td>\n",
       "      <td>0.000061</td>\n",
       "    </tr>\n",
       "    <tr>\n",
       "      <th>92656</th>\n",
       "      <td>NONE</td>\n",
       "      <td>(50.0, 60.0]</td>\n",
       "      <td>108775044</td>\n",
       "      <td>2</td>\n",
       "      <td>17777</td>\n",
       "      <td>0.000113</td>\n",
       "    </tr>\n",
       "    <tr>\n",
       "      <th>18045</th>\n",
       "      <td>NONE</td>\n",
       "      <td>(45.0, 50.0]</td>\n",
       "      <td>111565001</td>\n",
       "      <td>1</td>\n",
       "      <td>12402</td>\n",
       "      <td>0.000081</td>\n",
       "    </tr>\n",
       "    <tr>\n",
       "      <th>28623</th>\n",
       "      <td>Regularly</td>\n",
       "      <td>(24.0, 27.0]</td>\n",
       "      <td>111565001</td>\n",
       "      <td>1</td>\n",
       "      <td>14442</td>\n",
       "      <td>0.000069</td>\n",
       "    </tr>\n",
       "    <tr>\n",
       "      <th>66580</th>\n",
       "      <td>NONE</td>\n",
       "      <td>(40.0, 45.0]</td>\n",
       "      <td>111565001</td>\n",
       "      <td>1</td>\n",
       "      <td>8065</td>\n",
       "      <td>0.000124</td>\n",
       "    </tr>\n",
       "    <tr>\n",
       "      <th>...</th>\n",
       "      <td>...</td>\n",
       "      <td>...</td>\n",
       "      <td>...</td>\n",
       "      <td>...</td>\n",
       "      <td>...</td>\n",
       "      <td>...</td>\n",
       "    </tr>\n",
       "    <tr>\n",
       "      <th>82246</th>\n",
       "      <td>Regularly</td>\n",
       "      <td>(50.0, 60.0]</td>\n",
       "      <td>956217002</td>\n",
       "      <td>1</td>\n",
       "      <td>17613</td>\n",
       "      <td>0.000057</td>\n",
       "    </tr>\n",
       "    <tr>\n",
       "      <th>84577</th>\n",
       "      <td>Regularly</td>\n",
       "      <td>(60.0, 100.0]</td>\n",
       "      <td>956217002</td>\n",
       "      <td>1</td>\n",
       "      <td>6074</td>\n",
       "      <td>0.000165</td>\n",
       "    </tr>\n",
       "    <tr>\n",
       "      <th>88549</th>\n",
       "      <td>Regularly</td>\n",
       "      <td>(21.0, 24.0]</td>\n",
       "      <td>956217002</td>\n",
       "      <td>2</td>\n",
       "      <td>15838</td>\n",
       "      <td>0.000126</td>\n",
       "    </tr>\n",
       "    <tr>\n",
       "      <th>554</th>\n",
       "      <td>NONE</td>\n",
       "      <td>(50.0, 60.0]</td>\n",
       "      <td>956217002</td>\n",
       "      <td>3</td>\n",
       "      <td>17777</td>\n",
       "      <td>0.000169</td>\n",
       "    </tr>\n",
       "    <tr>\n",
       "      <th>46392</th>\n",
       "      <td>NONE</td>\n",
       "      <td>(45.0, 50.0]</td>\n",
       "      <td>956217002</td>\n",
       "      <td>3</td>\n",
       "      <td>12402</td>\n",
       "      <td>0.000242</td>\n",
       "    </tr>\n",
       "  </tbody>\n",
       "</table>\n",
       "<p>94093 rows × 6 columns</p>\n",
       "</div>"
      ],
      "text/plain": [
       "      fashion_news_frequency       age_type  article_id  count  total_count  \\\n",
       "70560                   NONE   (30.0, 35.0]   108775044      1        16446   \n",
       "92656                   NONE   (50.0, 60.0]   108775044      2        17777   \n",
       "18045                   NONE   (45.0, 50.0]   111565001      1        12402   \n",
       "28623              Regularly   (24.0, 27.0]   111565001      1        14442   \n",
       "66580                   NONE   (40.0, 45.0]   111565001      1         8065   \n",
       "...                      ...            ...         ...    ...          ...   \n",
       "82246              Regularly   (50.0, 60.0]   956217002      1        17613   \n",
       "84577              Regularly  (60.0, 100.0]   956217002      1         6074   \n",
       "88549              Regularly   (21.0, 24.0]   956217002      2        15838   \n",
       "554                     NONE   (50.0, 60.0]   956217002      3        17777   \n",
       "46392                   NONE   (45.0, 50.0]   956217002      3        12402   \n",
       "\n",
       "          score  \n",
       "70560  0.000061  \n",
       "92656  0.000113  \n",
       "18045  0.000081  \n",
       "28623  0.000069  \n",
       "66580  0.000124  \n",
       "...         ...  \n",
       "82246  0.000057  \n",
       "84577  0.000165  \n",
       "88549  0.000126  \n",
       "554    0.000169  \n",
       "46392  0.000242  \n",
       "\n",
       "[94093 rows x 6 columns]"
      ]
     },
     "execution_count": 74,
     "metadata": {},
     "output_type": "execute_result"
    }
   ],
   "source": [
    "summary.sort_values(by = [\"article_id\", \"count\"])"
   ]
  },
  {
   "cell_type": "code",
   "execution_count": 75,
   "id": "a0d13f84",
   "metadata": {
    "_cell_guid": "a761a4c6-7966-4443-bb1e-6ed9caf2c96e",
    "_uuid": "efa83622-d490-4db3-8122-27d4bcd783d7",
    "collapsed": false,
    "execution": {
     "iopub.execute_input": "2022-04-04T11:35:07.621846Z",
     "iopub.status.busy": "2022-04-04T11:35:07.621032Z",
     "iopub.status.idle": "2022-04-04T11:35:07.669345Z",
     "shell.execute_reply": "2022-04-04T11:35:07.669804Z",
     "shell.execute_reply.started": "2022-04-04T11:23:51.693122Z"
    },
    "jupyter": {
     "outputs_hidden": false
    },
    "papermill": {
     "duration": 0.226019,
     "end_time": "2022-04-04T11:35:07.669952",
     "exception": false,
     "start_time": "2022-04-04T11:35:07.443933",
     "status": "completed"
    },
    "tags": []
   },
   "outputs": [],
   "source": [
    "summary['rank'] = summary.to_pandas().groupby([\"fashion_news_frequency\",\"age_type\"])[\"score\"].rank(\"dense\", ascending=False)\n",
    "summary = summary.loc[summary['rank'] <= 12]"
   ]
  },
  {
   "cell_type": "code",
   "execution_count": 76,
   "id": "cb667d9a",
   "metadata": {
    "_cell_guid": "3eee64f1-9551-465f-96a2-5b8469c9f90e",
    "_uuid": "05522ddd-085f-4ec1-935b-8557be758cba",
    "collapsed": false,
    "execution": {
     "iopub.execute_input": "2022-04-04T11:35:08.030398Z",
     "iopub.status.busy": "2022-04-04T11:35:08.026423Z",
     "iopub.status.idle": "2022-04-04T11:35:10.808777Z",
     "shell.execute_reply": "2022-04-04T11:35:10.808127Z",
     "shell.execute_reply.started": "2022-04-04T11:23:51.739216Z"
    },
    "jupyter": {
     "outputs_hidden": false
    },
    "papermill": {
     "duration": 2.96257,
     "end_time": "2022-04-04T11:35:10.808926",
     "exception": false,
     "start_time": "2022-04-04T11:35:07.846356",
     "status": "completed"
    },
    "tags": []
   },
   "outputs": [
    {
     "name": "stdout",
     "output_type": "stream",
     "text": [
      "CPU times: user 120 ms, sys: 112 ms, total: 232 ms\n",
      "Wall time: 2.77 s\n"
     ]
    }
   ],
   "source": [
    "%%time\n",
    "sub  = cudf.read_csv('../input/h-and-m-personalized-fashion-recommendations/sample_submission.csv',\n",
    "                            usecols= ['customer_id'], \n",
    "                            dtype={'customer_id': 'string'})\n",
    "\n",
    "sub['customer_id2'] = sub['customer_id'].str[-16:].str.hex_to_int().astype('int64')\n",
    "sub = sub.rename(columns = {'customer_id2':'customer_id', 'customer_id':'customer_id2'})"
   ]
  },
  {
   "cell_type": "code",
   "execution_count": 77,
   "id": "02da527b",
   "metadata": {
    "_cell_guid": "3cb432a9-df0a-4593-8095-a2e2bc645279",
    "_uuid": "91148f88-e46b-4d17-969a-591cdab78b9b",
    "collapsed": false,
    "execution": {
     "iopub.execute_input": "2022-04-04T11:35:11.143528Z",
     "iopub.status.busy": "2022-04-04T11:35:11.142688Z",
     "iopub.status.idle": "2022-04-04T11:35:11.188441Z",
     "shell.execute_reply": "2022-04-04T11:35:11.188888Z",
     "shell.execute_reply.started": "2022-04-04T11:23:54.644913Z"
    },
    "jupyter": {
     "outputs_hidden": false
    },
    "papermill": {
     "duration": 0.214403,
     "end_time": "2022-04-04T11:35:11.189069",
     "exception": false,
     "start_time": "2022-04-04T11:35:10.974666",
     "status": "completed"
    },
    "tags": []
   },
   "outputs": [
    {
     "data": {
      "text/html": [
       "<div>\n",
       "<style scoped>\n",
       "    .dataframe tbody tr th:only-of-type {\n",
       "        vertical-align: middle;\n",
       "    }\n",
       "\n",
       "    .dataframe tbody tr th {\n",
       "        vertical-align: top;\n",
       "    }\n",
       "\n",
       "    .dataframe thead th {\n",
       "        text-align: right;\n",
       "    }\n",
       "</style>\n",
       "<table border=\"1\" class=\"dataframe\">\n",
       "  <thead>\n",
       "    <tr style=\"text-align: right;\">\n",
       "      <th></th>\n",
       "      <th>customer_id2</th>\n",
       "      <th>customer_id</th>\n",
       "    </tr>\n",
       "  </thead>\n",
       "  <tbody>\n",
       "    <tr>\n",
       "      <th>0</th>\n",
       "      <td>00000dbacae5abe5e23885899a1fa44253a17956c6d1c3...</td>\n",
       "      <td>6883939031699146327</td>\n",
       "    </tr>\n",
       "    <tr>\n",
       "      <th>1</th>\n",
       "      <td>0000423b00ade91418cceaf3b26c6af3dd342b51fd051e...</td>\n",
       "      <td>-7200416642310594310</td>\n",
       "    </tr>\n",
       "    <tr>\n",
       "      <th>2</th>\n",
       "      <td>000058a12d5b43e67d225668fa1f8d618c13dc232df0ca...</td>\n",
       "      <td>-6846340800584936</td>\n",
       "    </tr>\n",
       "    <tr>\n",
       "      <th>3</th>\n",
       "      <td>00005ca1c9ed5f5146b52ac8639a40ca9d57aeff4d1bd2...</td>\n",
       "      <td>-94071612138601410</td>\n",
       "    </tr>\n",
       "    <tr>\n",
       "      <th>4</th>\n",
       "      <td>00006413d8573cd20ed7128e53b7b13819fe5cfc2d801f...</td>\n",
       "      <td>-283965518499174310</td>\n",
       "    </tr>\n",
       "    <tr>\n",
       "      <th>...</th>\n",
       "      <td>...</td>\n",
       "      <td>...</td>\n",
       "    </tr>\n",
       "    <tr>\n",
       "      <th>1371975</th>\n",
       "      <td>ffffbbf78b6eaac697a8a5dfbfd2bfa8113ee5b403e474...</td>\n",
       "      <td>7551062398649767985</td>\n",
       "    </tr>\n",
       "    <tr>\n",
       "      <th>1371976</th>\n",
       "      <td>ffffcd5046a6143d29a04fb8c424ce494a76e5cdf4fab5...</td>\n",
       "      <td>-9141402131989464905</td>\n",
       "    </tr>\n",
       "    <tr>\n",
       "      <th>1371977</th>\n",
       "      <td>ffffcf35913a0bee60e8741cb2b4e78b8a98ee5ff2e6a1...</td>\n",
       "      <td>-8286316756823862684</td>\n",
       "    </tr>\n",
       "    <tr>\n",
       "      <th>1371978</th>\n",
       "      <td>ffffd7744cebcf3aca44ae7049d2a94b87074c3d4ffe38...</td>\n",
       "      <td>2551401172826382186</td>\n",
       "    </tr>\n",
       "    <tr>\n",
       "      <th>1371979</th>\n",
       "      <td>ffffd9ac14e89946416d80e791d064701994755c3ab686...</td>\n",
       "      <td>-1516792180973952447</td>\n",
       "    </tr>\n",
       "  </tbody>\n",
       "</table>\n",
       "<p>1371980 rows × 2 columns</p>\n",
       "</div>"
      ],
      "text/plain": [
       "                                              customer_id2  \\\n",
       "0        00000dbacae5abe5e23885899a1fa44253a17956c6d1c3...   \n",
       "1        0000423b00ade91418cceaf3b26c6af3dd342b51fd051e...   \n",
       "2        000058a12d5b43e67d225668fa1f8d618c13dc232df0ca...   \n",
       "3        00005ca1c9ed5f5146b52ac8639a40ca9d57aeff4d1bd2...   \n",
       "4        00006413d8573cd20ed7128e53b7b13819fe5cfc2d801f...   \n",
       "...                                                    ...   \n",
       "1371975  ffffbbf78b6eaac697a8a5dfbfd2bfa8113ee5b403e474...   \n",
       "1371976  ffffcd5046a6143d29a04fb8c424ce494a76e5cdf4fab5...   \n",
       "1371977  ffffcf35913a0bee60e8741cb2b4e78b8a98ee5ff2e6a1...   \n",
       "1371978  ffffd7744cebcf3aca44ae7049d2a94b87074c3d4ffe38...   \n",
       "1371979  ffffd9ac14e89946416d80e791d064701994755c3ab686...   \n",
       "\n",
       "                 customer_id  \n",
       "0        6883939031699146327  \n",
       "1       -7200416642310594310  \n",
       "2          -6846340800584936  \n",
       "3         -94071612138601410  \n",
       "4        -283965518499174310  \n",
       "...                      ...  \n",
       "1371975  7551062398649767985  \n",
       "1371976 -9141402131989464905  \n",
       "1371977 -8286316756823862684  \n",
       "1371978  2551401172826382186  \n",
       "1371979 -1516792180973952447  \n",
       "\n",
       "[1371980 rows x 2 columns]"
      ]
     },
     "execution_count": 77,
     "metadata": {},
     "output_type": "execute_result"
    }
   ],
   "source": [
    "sub"
   ]
  },
  {
   "cell_type": "code",
   "execution_count": 78,
   "id": "dedc5d9d",
   "metadata": {
    "_cell_guid": "66a45798-7283-4a51-b3be-aa40412171bb",
    "_uuid": "bd125400-8975-435a-b304-7e06ffeac2d4",
    "collapsed": false,
    "execution": {
     "iopub.execute_input": "2022-04-04T11:35:11.545210Z",
     "iopub.status.busy": "2022-04-04T11:35:11.544330Z",
     "iopub.status.idle": "2022-04-04T11:35:11.626190Z",
     "shell.execute_reply": "2022-04-04T11:35:11.626562Z",
     "shell.execute_reply.started": "2022-04-04T11:23:54.704407Z"
    },
    "jupyter": {
     "outputs_hidden": false
    },
    "papermill": {
     "duration": 0.252287,
     "end_time": "2022-04-04T11:35:11.626721",
     "exception": false,
     "start_time": "2022-04-04T11:35:11.374434",
     "status": "completed"
    },
    "tags": []
   },
   "outputs": [
    {
     "data": {
      "text/html": [
       "<div>\n",
       "<style scoped>\n",
       "    .dataframe tbody tr th:only-of-type {\n",
       "        vertical-align: middle;\n",
       "    }\n",
       "\n",
       "    .dataframe tbody tr th {\n",
       "        vertical-align: top;\n",
       "    }\n",
       "\n",
       "    .dataframe thead th {\n",
       "        text-align: right;\n",
       "    }\n",
       "</style>\n",
       "<table border=\"1\" class=\"dataframe\">\n",
       "  <thead>\n",
       "    <tr style=\"text-align: right;\">\n",
       "      <th></th>\n",
       "      <th>customer_id</th>\n",
       "      <th>FN</th>\n",
       "      <th>Active</th>\n",
       "      <th>club_member_status</th>\n",
       "      <th>fashion_news_frequency</th>\n",
       "      <th>age</th>\n",
       "      <th>postal_code</th>\n",
       "    </tr>\n",
       "  </thead>\n",
       "  <tbody>\n",
       "    <tr>\n",
       "      <th>0</th>\n",
       "      <td>6883939031699146327</td>\n",
       "      <td>&lt;NA&gt;</td>\n",
       "      <td>&lt;NA&gt;</td>\n",
       "      <td>ACTIVE</td>\n",
       "      <td>NONE</td>\n",
       "      <td>49.0</td>\n",
       "      <td>52043ee2162cf5aa7ee79974281641c6f11a68d276429a...</td>\n",
       "    </tr>\n",
       "    <tr>\n",
       "      <th>1</th>\n",
       "      <td>-7200416642310594310</td>\n",
       "      <td>&lt;NA&gt;</td>\n",
       "      <td>&lt;NA&gt;</td>\n",
       "      <td>ACTIVE</td>\n",
       "      <td>NONE</td>\n",
       "      <td>25.0</td>\n",
       "      <td>2973abc54daa8a5f8ccfe9362140c63247c5eee03f1d93...</td>\n",
       "    </tr>\n",
       "    <tr>\n",
       "      <th>2</th>\n",
       "      <td>-6846340800584936</td>\n",
       "      <td>&lt;NA&gt;</td>\n",
       "      <td>&lt;NA&gt;</td>\n",
       "      <td>ACTIVE</td>\n",
       "      <td>NONE</td>\n",
       "      <td>24.0</td>\n",
       "      <td>64f17e6a330a85798e4998f62d0930d14db8db1c054af6...</td>\n",
       "    </tr>\n",
       "    <tr>\n",
       "      <th>3</th>\n",
       "      <td>-94071612138601410</td>\n",
       "      <td>&lt;NA&gt;</td>\n",
       "      <td>&lt;NA&gt;</td>\n",
       "      <td>ACTIVE</td>\n",
       "      <td>NONE</td>\n",
       "      <td>54.0</td>\n",
       "      <td>5d36574f52495e81f019b680c843c443bd343d5ca5b1c2...</td>\n",
       "    </tr>\n",
       "    <tr>\n",
       "      <th>4</th>\n",
       "      <td>-283965518499174310</td>\n",
       "      <td>1.0</td>\n",
       "      <td>1.0</td>\n",
       "      <td>ACTIVE</td>\n",
       "      <td>Regularly</td>\n",
       "      <td>52.0</td>\n",
       "      <td>25fa5ddee9aac01b35208d01736e57942317d756b32ddd...</td>\n",
       "    </tr>\n",
       "    <tr>\n",
       "      <th>...</th>\n",
       "      <td>...</td>\n",
       "      <td>...</td>\n",
       "      <td>...</td>\n",
       "      <td>...</td>\n",
       "      <td>...</td>\n",
       "      <td>...</td>\n",
       "      <td>...</td>\n",
       "    </tr>\n",
       "    <tr>\n",
       "      <th>1371975</th>\n",
       "      <td>7551062398649767985</td>\n",
       "      <td>&lt;NA&gt;</td>\n",
       "      <td>&lt;NA&gt;</td>\n",
       "      <td>ACTIVE</td>\n",
       "      <td>NONE</td>\n",
       "      <td>24.0</td>\n",
       "      <td>7aa399f7e669990daba2d92c577b52237380662f36480b...</td>\n",
       "    </tr>\n",
       "    <tr>\n",
       "      <th>1371976</th>\n",
       "      <td>-9141402131989464905</td>\n",
       "      <td>&lt;NA&gt;</td>\n",
       "      <td>&lt;NA&gt;</td>\n",
       "      <td>ACTIVE</td>\n",
       "      <td>NONE</td>\n",
       "      <td>21.0</td>\n",
       "      <td>3f47f1279beb72215f4de557d950e0bfa73789d24acb5e...</td>\n",
       "    </tr>\n",
       "    <tr>\n",
       "      <th>1371977</th>\n",
       "      <td>-8286316756823862684</td>\n",
       "      <td>1.0</td>\n",
       "      <td>1.0</td>\n",
       "      <td>ACTIVE</td>\n",
       "      <td>Regularly</td>\n",
       "      <td>21.0</td>\n",
       "      <td>4563fc79215672cd6a863f2b4bf56b8f898f2d96ed590e...</td>\n",
       "    </tr>\n",
       "    <tr>\n",
       "      <th>1371978</th>\n",
       "      <td>2551401172826382186</td>\n",
       "      <td>1.0</td>\n",
       "      <td>1.0</td>\n",
       "      <td>ACTIVE</td>\n",
       "      <td>Regularly</td>\n",
       "      <td>18.0</td>\n",
       "      <td>8892c18e9bc3dca6aa4000cb8094fc4b51ee8db2ed14d7...</td>\n",
       "    </tr>\n",
       "    <tr>\n",
       "      <th>1371979</th>\n",
       "      <td>-1516792180973952447</td>\n",
       "      <td>&lt;NA&gt;</td>\n",
       "      <td>&lt;NA&gt;</td>\n",
       "      <td>PRE-CREATE</td>\n",
       "      <td>NONE</td>\n",
       "      <td>65.0</td>\n",
       "      <td>0a1a03306fb2f62164c2a439b38c0caa64b40deaae8687...</td>\n",
       "    </tr>\n",
       "  </tbody>\n",
       "</table>\n",
       "<p>1371980 rows × 7 columns</p>\n",
       "</div>"
      ],
      "text/plain": [
       "                 customer_id    FN Active club_member_status  \\\n",
       "0        6883939031699146327  <NA>   <NA>             ACTIVE   \n",
       "1       -7200416642310594310  <NA>   <NA>             ACTIVE   \n",
       "2          -6846340800584936  <NA>   <NA>             ACTIVE   \n",
       "3         -94071612138601410  <NA>   <NA>             ACTIVE   \n",
       "4        -283965518499174310   1.0    1.0             ACTIVE   \n",
       "...                      ...   ...    ...                ...   \n",
       "1371975  7551062398649767985  <NA>   <NA>             ACTIVE   \n",
       "1371976 -9141402131989464905  <NA>   <NA>             ACTIVE   \n",
       "1371977 -8286316756823862684   1.0    1.0             ACTIVE   \n",
       "1371978  2551401172826382186   1.0    1.0             ACTIVE   \n",
       "1371979 -1516792180973952447  <NA>   <NA>         PRE-CREATE   \n",
       "\n",
       "        fashion_news_frequency   age  \\\n",
       "0                         NONE  49.0   \n",
       "1                         NONE  25.0   \n",
       "2                         NONE  24.0   \n",
       "3                         NONE  54.0   \n",
       "4                    Regularly  52.0   \n",
       "...                        ...   ...   \n",
       "1371975                   NONE  24.0   \n",
       "1371976                   NONE  21.0   \n",
       "1371977              Regularly  21.0   \n",
       "1371978              Regularly  18.0   \n",
       "1371979                   NONE  65.0   \n",
       "\n",
       "                                               postal_code  \n",
       "0        52043ee2162cf5aa7ee79974281641c6f11a68d276429a...  \n",
       "1        2973abc54daa8a5f8ccfe9362140c63247c5eee03f1d93...  \n",
       "2        64f17e6a330a85798e4998f62d0930d14db8db1c054af6...  \n",
       "3        5d36574f52495e81f019b680c843c443bd343d5ca5b1c2...  \n",
       "4        25fa5ddee9aac01b35208d01736e57942317d756b32ddd...  \n",
       "...                                                    ...  \n",
       "1371975  7aa399f7e669990daba2d92c577b52237380662f36480b...  \n",
       "1371976  3f47f1279beb72215f4de557d950e0bfa73789d24acb5e...  \n",
       "1371977  4563fc79215672cd6a863f2b4bf56b8f898f2d96ed590e...  \n",
       "1371978  8892c18e9bc3dca6aa4000cb8094fc4b51ee8db2ed14d7...  \n",
       "1371979  0a1a03306fb2f62164c2a439b38c0caa64b40deaae8687...  \n",
       "\n",
       "[1371980 rows x 7 columns]"
      ]
     },
     "execution_count": 78,
     "metadata": {},
     "output_type": "execute_result"
    }
   ],
   "source": [
    "customer"
   ]
  },
  {
   "cell_type": "code",
   "execution_count": 79,
   "id": "340ce08d",
   "metadata": {
    "_cell_guid": "a1255e94-b76d-4e04-93e6-6f5d4adb7ecd",
    "_uuid": "6a23b3da-a0b3-4eed-8f23-683f40edd909",
    "collapsed": false,
    "execution": {
     "iopub.execute_input": "2022-04-04T11:35:11.947091Z",
     "iopub.status.busy": "2022-04-04T11:35:11.946272Z",
     "iopub.status.idle": "2022-04-04T11:35:18.903064Z",
     "shell.execute_reply": "2022-04-04T11:35:18.903549Z",
     "shell.execute_reply.started": "2022-04-04T11:23:54.804912Z"
    },
    "jupyter": {
     "outputs_hidden": false
    },
    "papermill": {
     "duration": 7.119733,
     "end_time": "2022-04-04T11:35:18.903725",
     "exception": false,
     "start_time": "2022-04-04T11:35:11.783992",
     "status": "completed"
    },
    "tags": []
   },
   "outputs": [],
   "source": [
    "sub_customer = sub.merge(customer.fillna(0), on = \"customer_id\")\n",
    "sub_customer[\"age_type\"] = pd.cut(sub_customer.to_pandas()[\"age\"], bins = np.array([0, 21, 24, 27, 30, 35, 40, 45, 50, 60, 100], dtype = \"int32\"), right = True).astype(\"string\")"
   ]
  },
  {
   "cell_type": "code",
   "execution_count": 80,
   "id": "b2a3e3f8",
   "metadata": {
    "_cell_guid": "d80b9400-6ea7-493e-9872-5f80d80f88c5",
    "_uuid": "d2d15ef2-8c10-45c0-b433-37d423d7dbdc",
    "collapsed": false,
    "execution": {
     "iopub.execute_input": "2022-04-04T11:35:19.225233Z",
     "iopub.status.busy": "2022-04-04T11:35:19.224316Z",
     "iopub.status.idle": "2022-04-04T11:35:30.727245Z",
     "shell.execute_reply": "2022-04-04T11:35:30.726255Z",
     "shell.execute_reply.started": "2022-04-04T11:24:01.705618Z"
    },
    "jupyter": {
     "outputs_hidden": false
    },
    "papermill": {
     "duration": 11.665106,
     "end_time": "2022-04-04T11:35:30.727403",
     "exception": false,
     "start_time": "2022-04-04T11:35:19.062297",
     "status": "completed"
    },
    "tags": []
   },
   "outputs": [],
   "source": [
    "result3 = sub_customer.to_pandas().merge(summary.to_pandas(), on = [\"fashion_news_frequency\", \"age_type\"], how = \"left\")"
   ]
  },
  {
   "cell_type": "code",
   "execution_count": 81,
   "id": "fa8407df",
   "metadata": {
    "_cell_guid": "1f3198a2-6ff4-4130-bbec-fa33e4f469ce",
    "_uuid": "06a2c12e-a2a5-45c3-9419-6ee336a84396",
    "collapsed": false,
    "execution": {
     "iopub.execute_input": "2022-04-04T11:35:31.061461Z",
     "iopub.status.busy": "2022-04-04T11:35:31.060292Z",
     "iopub.status.idle": "2022-04-04T11:35:41.530622Z",
     "shell.execute_reply": "2022-04-04T11:35:41.530068Z",
     "shell.execute_reply.started": "2022-04-04T11:24:13.458310Z"
    },
    "jupyter": {
     "outputs_hidden": false
    },
    "papermill": {
     "duration": 10.63661,
     "end_time": "2022-04-04T11:35:41.530781",
     "exception": false,
     "start_time": "2022-04-04T11:35:30.894171",
     "status": "completed"
    },
    "tags": []
   },
   "outputs": [],
   "source": [
    "result3[\"source\"] = 3\n",
    "result3 = result3.loc[:,[\"customer_id\", \"article_id\", \"source\", \"score\", \"rank\"]]"
   ]
  },
  {
   "cell_type": "code",
   "execution_count": 82,
   "id": "61770757",
   "metadata": {
    "_cell_guid": "b648a5e5-9a2b-4bbe-b9f8-45ce929662ce",
    "_uuid": "f295878b-9b83-42e6-9dc8-8849de4fe481",
    "collapsed": false,
    "execution": {
     "iopub.execute_input": "2022-04-04T11:35:41.899288Z",
     "iopub.status.busy": "2022-04-04T11:35:41.898126Z",
     "iopub.status.idle": "2022-04-04T11:35:41.901895Z",
     "shell.execute_reply": "2022-04-04T11:35:41.901461Z",
     "shell.execute_reply.started": "2022-04-04T11:24:23.552760Z"
    },
    "jupyter": {
     "outputs_hidden": false
    },
    "papermill": {
     "duration": 0.187104,
     "end_time": "2022-04-04T11:35:41.902031",
     "exception": false,
     "start_time": "2022-04-04T11:35:41.714927",
     "status": "completed"
    },
    "tags": []
   },
   "outputs": [
    {
     "data": {
      "text/html": [
       "<div>\n",
       "<style scoped>\n",
       "    .dataframe tbody tr th:only-of-type {\n",
       "        vertical-align: middle;\n",
       "    }\n",
       "\n",
       "    .dataframe tbody tr th {\n",
       "        vertical-align: top;\n",
       "    }\n",
       "\n",
       "    .dataframe thead th {\n",
       "        text-align: right;\n",
       "    }\n",
       "</style>\n",
       "<table border=\"1\" class=\"dataframe\">\n",
       "  <thead>\n",
       "    <tr style=\"text-align: right;\">\n",
       "      <th></th>\n",
       "      <th>customer_id</th>\n",
       "      <th>article_id</th>\n",
       "      <th>source</th>\n",
       "      <th>score</th>\n",
       "      <th>rank</th>\n",
       "    </tr>\n",
       "  </thead>\n",
       "  <tbody>\n",
       "    <tr>\n",
       "      <th>0</th>\n",
       "      <td>3441287777015642391</td>\n",
       "      <td>448509014.0</td>\n",
       "      <td>3</td>\n",
       "      <td>0.006129</td>\n",
       "      <td>2.0</td>\n",
       "    </tr>\n",
       "    <tr>\n",
       "      <th>1</th>\n",
       "      <td>3441287777015642391</td>\n",
       "      <td>918292001.0</td>\n",
       "      <td>3</td>\n",
       "      <td>0.003178</td>\n",
       "      <td>7.0</td>\n",
       "    </tr>\n",
       "    <tr>\n",
       "      <th>2</th>\n",
       "      <td>3441287777015642391</td>\n",
       "      <td>918522001.0</td>\n",
       "      <td>3</td>\n",
       "      <td>0.004767</td>\n",
       "      <td>4.0</td>\n",
       "    </tr>\n",
       "    <tr>\n",
       "      <th>3</th>\n",
       "      <td>3441287777015642391</td>\n",
       "      <td>767423001.0</td>\n",
       "      <td>3</td>\n",
       "      <td>0.002497</td>\n",
       "      <td>12.0</td>\n",
       "    </tr>\n",
       "    <tr>\n",
       "      <th>4</th>\n",
       "      <td>3441287777015642391</td>\n",
       "      <td>715624001.0</td>\n",
       "      <td>3</td>\n",
       "      <td>0.005524</td>\n",
       "      <td>3.0</td>\n",
       "    </tr>\n",
       "    <tr>\n",
       "      <th>...</th>\n",
       "      <td>...</td>\n",
       "      <td>...</td>\n",
       "      <td>...</td>\n",
       "      <td>...</td>\n",
       "      <td>...</td>\n",
       "    </tr>\n",
       "    <tr>\n",
       "      <th>32880969</th>\n",
       "      <td>-2405428844803553396</td>\n",
       "      <td>809238001.0</td>\n",
       "      <td>3</td>\n",
       "      <td>0.003118</td>\n",
       "      <td>3.0</td>\n",
       "    </tr>\n",
       "    <tr>\n",
       "      <th>32880970</th>\n",
       "      <td>-2405428844803553396</td>\n",
       "      <td>918292001.0</td>\n",
       "      <td>3</td>\n",
       "      <td>0.002511</td>\n",
       "      <td>8.0</td>\n",
       "    </tr>\n",
       "    <tr>\n",
       "      <th>32880971</th>\n",
       "      <td>-2405428844803553396</td>\n",
       "      <td>685814001.0</td>\n",
       "      <td>3</td>\n",
       "      <td>0.002425</td>\n",
       "      <td>9.0</td>\n",
       "    </tr>\n",
       "    <tr>\n",
       "      <th>32880972</th>\n",
       "      <td>-2405428844803553396</td>\n",
       "      <td>898713001.0</td>\n",
       "      <td>3</td>\n",
       "      <td>0.002338</td>\n",
       "      <td>10.0</td>\n",
       "    </tr>\n",
       "    <tr>\n",
       "      <th>32880973</th>\n",
       "      <td>-2405428844803553396</td>\n",
       "      <td>863583001.0</td>\n",
       "      <td>3</td>\n",
       "      <td>0.002814</td>\n",
       "      <td>6.0</td>\n",
       "    </tr>\n",
       "  </tbody>\n",
       "</table>\n",
       "<p>32880974 rows × 5 columns</p>\n",
       "</div>"
      ],
      "text/plain": [
       "                  customer_id   article_id  source     score  rank\n",
       "0         3441287777015642391  448509014.0       3  0.006129   2.0\n",
       "1         3441287777015642391  918292001.0       3  0.003178   7.0\n",
       "2         3441287777015642391  918522001.0       3  0.004767   4.0\n",
       "3         3441287777015642391  767423001.0       3  0.002497  12.0\n",
       "4         3441287777015642391  715624001.0       3  0.005524   3.0\n",
       "...                       ...          ...     ...       ...   ...\n",
       "32880969 -2405428844803553396  809238001.0       3  0.003118   3.0\n",
       "32880970 -2405428844803553396  918292001.0       3  0.002511   8.0\n",
       "32880971 -2405428844803553396  685814001.0       3  0.002425   9.0\n",
       "32880972 -2405428844803553396  898713001.0       3  0.002338  10.0\n",
       "32880973 -2405428844803553396  863583001.0       3  0.002814   6.0\n",
       "\n",
       "[32880974 rows x 5 columns]"
      ]
     },
     "execution_count": 82,
     "metadata": {},
     "output_type": "execute_result"
    }
   ],
   "source": [
    "result3"
   ]
  },
  {
   "cell_type": "code",
   "execution_count": 83,
   "id": "5dc9ca67",
   "metadata": {
    "_cell_guid": "7933f17a-6a44-46dc-bf03-b055391f030e",
    "_uuid": "f96683c8-e520-4b91-801b-a932beb94fd0",
    "collapsed": false,
    "execution": {
     "iopub.execute_input": "2022-04-04T11:35:42.227420Z",
     "iopub.status.busy": "2022-04-04T11:35:42.226585Z",
     "iopub.status.idle": "2022-04-04T11:35:42.229134Z",
     "shell.execute_reply": "2022-04-04T11:35:42.228646Z",
     "shell.execute_reply.started": "2022-04-04T11:24:23.571124Z"
    },
    "jupyter": {
     "outputs_hidden": false
    },
    "papermill": {
     "duration": 0.164167,
     "end_time": "2022-04-04T11:35:42.229249",
     "exception": false,
     "start_time": "2022-04-04T11:35:42.065082",
     "status": "completed"
    },
    "tags": []
   },
   "outputs": [],
   "source": [
    "#result3.to_csv(\"/kaggle/working/result3.csv\", index = False)"
   ]
  },
  {
   "cell_type": "markdown",
   "id": "5e6e9636",
   "metadata": {
    "_cell_guid": "5fb743f7-61e7-4d26-a4ea-90df2b723126",
    "_uuid": "64eb97e5-3a1d-43c8-a305-be576ff253da",
    "editable": false,
    "papermill": {
     "duration": 0.156223,
     "end_time": "2022-04-04T11:35:42.543850",
     "exception": false,
     "start_time": "2022-04-04T11:35:42.387627",
     "status": "completed"
    },
    "tags": []
   },
   "source": [
    "## 混合排序"
   ]
  },
  {
   "cell_type": "code",
   "execution_count": 84,
   "id": "c16ddad4",
   "metadata": {
    "_cell_guid": "e89a9ca8-b0cc-4b6a-9892-76c67c062f05",
    "_uuid": "5da11cbd-cf75-4054-b8a0-f126238444dd",
    "collapsed": false,
    "execution": {
     "iopub.execute_input": "2022-04-04T11:35:42.865064Z",
     "iopub.status.busy": "2022-04-04T11:35:42.864210Z",
     "iopub.status.idle": "2022-04-04T11:35:42.866234Z",
     "shell.execute_reply": "2022-04-04T11:35:42.866605Z",
     "shell.execute_reply.started": "2022-04-04T11:24:23.579074Z"
    },
    "jupyter": {
     "outputs_hidden": false
    },
    "papermill": {
     "duration": 0.164477,
     "end_time": "2022-04-04T11:35:42.866743",
     "exception": false,
     "start_time": "2022-04-04T11:35:42.702266",
     "status": "completed"
    },
    "tags": []
   },
   "outputs": [],
   "source": [
    "#result2 = pd.read_csv(\"../input/relation/result2.csv\")\n",
    "#result1 = pd.read_csv(\"../input/relation/result1.csv\")\n",
    "#result3 = pd.read_csv(\"/kaggle/working/result3.csv\")"
   ]
  },
  {
   "cell_type": "code",
   "execution_count": 85,
   "id": "35b557ab",
   "metadata": {
    "_cell_guid": "770ce7a8-a20d-4958-a790-55cf438f5c8b",
    "_uuid": "4f7af5f2-25db-4933-a718-09a179f9d5cb",
    "collapsed": false,
    "execution": {
     "iopub.execute_input": "2022-04-04T11:35:43.189669Z",
     "iopub.status.busy": "2022-04-04T11:35:43.188044Z",
     "iopub.status.idle": "2022-04-04T11:35:43.190275Z",
     "shell.execute_reply": "2022-04-04T11:35:43.190683Z",
     "shell.execute_reply.started": "2022-04-04T11:24:23.589312Z"
    },
    "jupyter": {
     "outputs_hidden": false
    },
    "papermill": {
     "duration": 0.164457,
     "end_time": "2022-04-04T11:35:43.190816",
     "exception": false,
     "start_time": "2022-04-04T11:35:43.026359",
     "status": "completed"
    },
    "tags": []
   },
   "outputs": [],
   "source": [
    "#result1 = pd.read_csv(\"/kaggle/working/result1.csv\")\n",
    "#result2 = pd.read_csv(\"/kaggle/working/result2.csv\")"
   ]
  },
  {
   "cell_type": "code",
   "execution_count": 86,
   "id": "3e6af6cd",
   "metadata": {
    "_cell_guid": "d7302397-e4c3-4992-8302-caa0f17cc43d",
    "_uuid": "9a6f71ce-3e3d-4b7f-bef1-bf2e83f2e6c3",
    "collapsed": false,
    "execution": {
     "iopub.execute_input": "2022-04-04T11:35:43.522243Z",
     "iopub.status.busy": "2022-04-04T11:35:43.521316Z",
     "iopub.status.idle": "2022-04-04T11:35:43.524417Z",
     "shell.execute_reply": "2022-04-04T11:35:43.524857Z",
     "shell.execute_reply.started": "2022-04-04T11:24:23.598298Z"
    },
    "jupyter": {
     "outputs_hidden": false
    },
    "papermill": {
     "duration": 0.174894,
     "end_time": "2022-04-04T11:35:43.524991",
     "exception": false,
     "start_time": "2022-04-04T11:35:43.350097",
     "status": "completed"
    },
    "tags": []
   },
   "outputs": [
    {
     "data": {
      "text/html": [
       "<div>\n",
       "<style scoped>\n",
       "    .dataframe tbody tr th:only-of-type {\n",
       "        vertical-align: middle;\n",
       "    }\n",
       "\n",
       "    .dataframe tbody tr th {\n",
       "        vertical-align: top;\n",
       "    }\n",
       "\n",
       "    .dataframe thead th {\n",
       "        text-align: right;\n",
       "    }\n",
       "</style>\n",
       "<table border=\"1\" class=\"dataframe\">\n",
       "  <thead>\n",
       "    <tr style=\"text-align: right;\">\n",
       "      <th></th>\n",
       "      <th>customer_id</th>\n",
       "      <th>article_id</th>\n",
       "      <th>source</th>\n",
       "      <th>score</th>\n",
       "      <th>rank</th>\n",
       "    </tr>\n",
       "  </thead>\n",
       "  <tbody>\n",
       "    <tr>\n",
       "      <th>0</th>\n",
       "      <td>3441287777015642391</td>\n",
       "      <td>448509014.0</td>\n",
       "      <td>3</td>\n",
       "      <td>0.006129</td>\n",
       "      <td>2.0</td>\n",
       "    </tr>\n",
       "    <tr>\n",
       "      <th>1</th>\n",
       "      <td>3441287777015642391</td>\n",
       "      <td>918292001.0</td>\n",
       "      <td>3</td>\n",
       "      <td>0.003178</td>\n",
       "      <td>7.0</td>\n",
       "    </tr>\n",
       "    <tr>\n",
       "      <th>2</th>\n",
       "      <td>3441287777015642391</td>\n",
       "      <td>918522001.0</td>\n",
       "      <td>3</td>\n",
       "      <td>0.004767</td>\n",
       "      <td>4.0</td>\n",
       "    </tr>\n",
       "    <tr>\n",
       "      <th>3</th>\n",
       "      <td>3441287777015642391</td>\n",
       "      <td>767423001.0</td>\n",
       "      <td>3</td>\n",
       "      <td>0.002497</td>\n",
       "      <td>12.0</td>\n",
       "    </tr>\n",
       "    <tr>\n",
       "      <th>4</th>\n",
       "      <td>3441287777015642391</td>\n",
       "      <td>715624001.0</td>\n",
       "      <td>3</td>\n",
       "      <td>0.005524</td>\n",
       "      <td>3.0</td>\n",
       "    </tr>\n",
       "    <tr>\n",
       "      <th>...</th>\n",
       "      <td>...</td>\n",
       "      <td>...</td>\n",
       "      <td>...</td>\n",
       "      <td>...</td>\n",
       "      <td>...</td>\n",
       "    </tr>\n",
       "    <tr>\n",
       "      <th>32880969</th>\n",
       "      <td>-2405428844803553396</td>\n",
       "      <td>809238001.0</td>\n",
       "      <td>3</td>\n",
       "      <td>0.003118</td>\n",
       "      <td>3.0</td>\n",
       "    </tr>\n",
       "    <tr>\n",
       "      <th>32880970</th>\n",
       "      <td>-2405428844803553396</td>\n",
       "      <td>918292001.0</td>\n",
       "      <td>3</td>\n",
       "      <td>0.002511</td>\n",
       "      <td>8.0</td>\n",
       "    </tr>\n",
       "    <tr>\n",
       "      <th>32880971</th>\n",
       "      <td>-2405428844803553396</td>\n",
       "      <td>685814001.0</td>\n",
       "      <td>3</td>\n",
       "      <td>0.002425</td>\n",
       "      <td>9.0</td>\n",
       "    </tr>\n",
       "    <tr>\n",
       "      <th>32880972</th>\n",
       "      <td>-2405428844803553396</td>\n",
       "      <td>898713001.0</td>\n",
       "      <td>3</td>\n",
       "      <td>0.002338</td>\n",
       "      <td>10.0</td>\n",
       "    </tr>\n",
       "    <tr>\n",
       "      <th>32880973</th>\n",
       "      <td>-2405428844803553396</td>\n",
       "      <td>863583001.0</td>\n",
       "      <td>3</td>\n",
       "      <td>0.002814</td>\n",
       "      <td>6.0</td>\n",
       "    </tr>\n",
       "  </tbody>\n",
       "</table>\n",
       "<p>32880974 rows × 5 columns</p>\n",
       "</div>"
      ],
      "text/plain": [
       "                  customer_id   article_id  source     score  rank\n",
       "0         3441287777015642391  448509014.0       3  0.006129   2.0\n",
       "1         3441287777015642391  918292001.0       3  0.003178   7.0\n",
       "2         3441287777015642391  918522001.0       3  0.004767   4.0\n",
       "3         3441287777015642391  767423001.0       3  0.002497  12.0\n",
       "4         3441287777015642391  715624001.0       3  0.005524   3.0\n",
       "...                       ...          ...     ...       ...   ...\n",
       "32880969 -2405428844803553396  809238001.0       3  0.003118   3.0\n",
       "32880970 -2405428844803553396  918292001.0       3  0.002511   8.0\n",
       "32880971 -2405428844803553396  685814001.0       3  0.002425   9.0\n",
       "32880972 -2405428844803553396  898713001.0       3  0.002338  10.0\n",
       "32880973 -2405428844803553396  863583001.0       3  0.002814   6.0\n",
       "\n",
       "[32880974 rows x 5 columns]"
      ]
     },
     "execution_count": 86,
     "metadata": {},
     "output_type": "execute_result"
    }
   ],
   "source": [
    "result3"
   ]
  },
  {
   "cell_type": "code",
   "execution_count": 87,
   "id": "427302da",
   "metadata": {
    "_cell_guid": "5e566c70-b1cf-42e4-807d-e58ca1479fb9",
    "_uuid": "71c4556b-4f76-4996-bcf5-e429af32021a",
    "collapsed": false,
    "execution": {
     "iopub.execute_input": "2022-04-04T11:35:43.864375Z",
     "iopub.status.busy": "2022-04-04T11:35:43.863373Z",
     "iopub.status.idle": "2022-04-04T11:35:43.865271Z",
     "shell.execute_reply": "2022-04-04T11:35:43.865829Z",
     "shell.execute_reply.started": "2022-04-04T11:24:23.622862Z"
    },
    "jupyter": {
     "outputs_hidden": false
    },
    "papermill": {
     "duration": 0.182138,
     "end_time": "2022-04-04T11:35:43.865977",
     "exception": false,
     "start_time": "2022-04-04T11:35:43.683839",
     "status": "completed"
    },
    "tags": []
   },
   "outputs": [],
   "source": [
    "#assert False"
   ]
  },
  {
   "cell_type": "code",
   "execution_count": 88,
   "id": "ca2910f9",
   "metadata": {
    "_cell_guid": "c18574be-011d-4b6f-925d-a184cdfa595a",
    "_uuid": "3ed3a145-d26d-4ef2-997c-99a0026efefc",
    "collapsed": false,
    "execution": {
     "iopub.execute_input": "2022-04-04T11:35:44.209413Z",
     "iopub.status.busy": "2022-04-04T11:35:44.208720Z",
     "iopub.status.idle": "2022-04-04T11:35:44.212126Z",
     "shell.execute_reply": "2022-04-04T11:35:44.211674Z",
     "shell.execute_reply.started": "2022-04-04T11:24:23.630562Z"
    },
    "jupyter": {
     "outputs_hidden": false
    },
    "papermill": {
     "duration": 0.168558,
     "end_time": "2022-04-04T11:35:44.212247",
     "exception": false,
     "start_time": "2022-04-04T11:35:44.043689",
     "status": "completed"
    },
    "tags": []
   },
   "outputs": [],
   "source": [
    "# del result1\n",
    "# del result2\n",
    "# del result3"
   ]
  },
  {
   "cell_type": "code",
   "execution_count": 89,
   "id": "247d0e87",
   "metadata": {
    "execution": {
     "iopub.execute_input": "2022-04-04T11:35:44.533546Z",
     "iopub.status.busy": "2022-04-04T11:35:44.532732Z",
     "iopub.status.idle": "2022-04-04T11:35:44.534564Z",
     "shell.execute_reply": "2022-04-04T11:35:44.534953Z",
     "shell.execute_reply.started": "2022-04-04T11:24:23.639505Z"
    },
    "papermill": {
     "duration": 0.164183,
     "end_time": "2022-04-04T11:35:44.535098",
     "exception": false,
     "start_time": "2022-04-04T11:35:44.370915",
     "status": "completed"
    },
    "tags": []
   },
   "outputs": [],
   "source": [
    "Only = False"
   ]
  },
  {
   "cell_type": "code",
   "execution_count": 90,
   "id": "2e34b481",
   "metadata": {
    "execution": {
     "iopub.execute_input": "2022-04-04T11:35:44.867320Z",
     "iopub.status.busy": "2022-04-04T11:35:44.865978Z",
     "iopub.status.idle": "2022-04-04T11:35:44.876488Z",
     "shell.execute_reply": "2022-04-04T11:35:44.875984Z",
     "shell.execute_reply.started": "2022-04-04T11:24:23.647646Z"
    },
    "papermill": {
     "duration": 0.182549,
     "end_time": "2022-04-04T11:35:44.876607",
     "exception": false,
     "start_time": "2022-04-04T11:35:44.694058",
     "status": "completed"
    },
    "tags": []
   },
   "outputs": [],
   "source": [
    "if Only:    \n",
    "    !pip install cudf\n",
    "    import numpy as np\n",
    "    import pandas as pd \n",
    "    from datetime import datetime, timedelta\n",
    "    import gc\n",
    "    import cudf\n",
    "    import cv2, matplotlib.pyplot as plt\n",
    "    from os.path import exists\n",
    "    Online = False\n",
    "\n",
    "    df  = cudf.read_csv('../input/h-and-m-personalized-fashion-recommendations/transactions_train.csv')\n",
    "                                #usecols= ['t_dat', 'customer_id', 'article_id'], \n",
    "                                #dtype={'article_id': 'int32', 't_dat': 'string', 'customer_id': 'string', \"sales_channel_id\": 'int32', \"price\": \"float\"})\n",
    "    df ['customer_id'] = df ['customer_id'].str[-16:].str.hex_to_int().astype('int64')\n",
    "    df.article_id = df.article_id.astype('int32')\n",
    "    df['t_dat'] = cudf.to_datetime(df['t_dat'])\n",
    "    #Last_date = df['t_dat'].max()\n",
    "\n",
    "    customer = cudf.read_csv('../input/h-and-m-personalized-fashion-recommendations/customers.csv')\n",
    "    customer.customer_id = customer.customer_id.str[-16:].str.hex_to_int().astype('int64')\n",
    "\n",
    "    if not Online:\n",
    "        Date_week1 = pd.to_datetime(\"2020-09-16\")\n",
    "        Date_week2 = pd.to_datetime(\"2020-09-09\")\n",
    "        Date_week3 = pd.to_datetime(\"2020-09-02\")\n",
    "        Last_date = pd.to_datetime(\"2020-09-22\")\n",
    "        val = df[df['t_dat']>= Date_week1].copy()\n",
    "        train = df[df['t_dat']< Date_week1].copy()\n",
    "        Last_date = pd.to_datetime(\"2020-09-15\")\n",
    "        Date_week1 = pd.to_datetime(\"2020-09-09\")\n",
    "        Date_week2 = pd.to_datetime(\"2020-09-02\")\n",
    "        Date_week3 = pd.to_datetime(\"2020-08-26\")\n",
    "    if Online:\n",
    "        train = df"
   ]
  },
  {
   "cell_type": "code",
   "execution_count": 91,
   "id": "4e367bf5",
   "metadata": {
    "execution": {
     "iopub.execute_input": "2022-04-04T11:35:45.209399Z",
     "iopub.status.busy": "2022-04-04T11:35:45.208534Z",
     "iopub.status.idle": "2022-04-04T11:35:45.210425Z",
     "shell.execute_reply": "2022-04-04T11:35:45.210831Z",
     "shell.execute_reply.started": "2022-04-04T11:24:23.666392Z"
    },
    "papermill": {
     "duration": 0.165624,
     "end_time": "2022-04-04T11:35:45.210966",
     "exception": false,
     "start_time": "2022-04-04T11:35:45.045342",
     "status": "completed"
    },
    "tags": []
   },
   "outputs": [],
   "source": [
    "#result = pd.read_csv(\"../input/relation/GRU4Rec_result.csv\")"
   ]
  },
  {
   "cell_type": "code",
   "execution_count": 92,
   "id": "58bfb5b7",
   "metadata": {
    "execution": {
     "iopub.execute_input": "2022-04-04T11:35:45.531995Z",
     "iopub.status.busy": "2022-04-04T11:35:45.531118Z",
     "iopub.status.idle": "2022-04-04T11:35:45.532886Z",
     "shell.execute_reply": "2022-04-04T11:35:45.533401Z",
     "shell.execute_reply.started": "2022-04-04T11:24:23.679026Z"
    },
    "papermill": {
     "duration": 0.163849,
     "end_time": "2022-04-04T11:35:45.533535",
     "exception": false,
     "start_time": "2022-04-04T11:35:45.369686",
     "status": "completed"
    },
    "tags": []
   },
   "outputs": [],
   "source": [
    "#result = pd.read_csv(\"../input/relation/lightSANs_result.csv\")"
   ]
  },
  {
   "cell_type": "code",
   "execution_count": 93,
   "id": "46f39b14",
   "metadata": {
    "execution": {
     "iopub.execute_input": "2022-04-04T11:35:45.856673Z",
     "iopub.status.busy": "2022-04-04T11:35:45.855848Z",
     "iopub.status.idle": "2022-04-04T11:35:45.857653Z",
     "shell.execute_reply": "2022-04-04T11:35:45.858111Z",
     "shell.execute_reply.started": "2022-04-04T11:24:23.689704Z"
    },
    "papermill": {
     "duration": 0.165441,
     "end_time": "2022-04-04T11:35:45.858255",
     "exception": false,
     "start_time": "2022-04-04T11:35:45.692814",
     "status": "completed"
    },
    "tags": []
   },
   "outputs": [],
   "source": [
    "#result = pd.read_csv(\"../input/relation/NPE_result.csv\")"
   ]
  },
  {
   "cell_type": "code",
   "execution_count": 94,
   "id": "031e99ce",
   "metadata": {
    "_cell_guid": "a853cd5c-2f6d-4cb8-9ad1-7b1eadf5f19d",
    "_uuid": "bd54eef8-75c5-47db-99f5-9fa77206a3d4",
    "collapsed": false,
    "execution": {
     "iopub.execute_input": "2022-04-04T11:35:46.180636Z",
     "iopub.status.busy": "2022-04-04T11:35:46.179494Z",
     "iopub.status.idle": "2022-04-04T11:35:47.411520Z",
     "shell.execute_reply": "2022-04-04T11:35:47.411035Z",
     "shell.execute_reply.started": "2022-04-04T11:24:23.697748Z"
    },
    "jupyter": {
     "outputs_hidden": false
    },
    "papermill": {
     "duration": 1.395614,
     "end_time": "2022-04-04T11:35:47.411650",
     "exception": false,
     "start_time": "2022-04-04T11:35:46.016036",
     "status": "completed"
    },
    "tags": []
   },
   "outputs": [],
   "source": [
    "result = pd.concat([result1, result2, result3], axis = 0)"
   ]
  },
  {
   "cell_type": "code",
   "execution_count": 95,
   "id": "0aace826",
   "metadata": {
    "execution": {
     "iopub.execute_input": "2022-04-04T11:35:47.746760Z",
     "iopub.status.busy": "2022-04-04T11:35:47.745563Z",
     "iopub.status.idle": "2022-04-04T11:35:47.748920Z",
     "shell.execute_reply": "2022-04-04T11:35:47.749348Z",
     "shell.execute_reply.started": "2022-04-04T11:24:24.940702Z"
    },
    "papermill": {
     "duration": 0.179118,
     "end_time": "2022-04-04T11:35:47.749484",
     "exception": false,
     "start_time": "2022-04-04T11:35:47.570366",
     "status": "completed"
    },
    "tags": []
   },
   "outputs": [
    {
     "data": {
      "text/html": [
       "<div>\n",
       "<style scoped>\n",
       "    .dataframe tbody tr th:only-of-type {\n",
       "        vertical-align: middle;\n",
       "    }\n",
       "\n",
       "    .dataframe tbody tr th {\n",
       "        vertical-align: top;\n",
       "    }\n",
       "\n",
       "    .dataframe thead th {\n",
       "        text-align: right;\n",
       "    }\n",
       "</style>\n",
       "<table border=\"1\" class=\"dataframe\">\n",
       "  <thead>\n",
       "    <tr style=\"text-align: right;\">\n",
       "      <th></th>\n",
       "      <th>customer_id</th>\n",
       "      <th>article_id</th>\n",
       "      <th>source</th>\n",
       "      <th>score</th>\n",
       "      <th>rank</th>\n",
       "    </tr>\n",
       "  </thead>\n",
       "  <tbody>\n",
       "    <tr>\n",
       "      <th>0</th>\n",
       "      <td>-9223352921020755230</td>\n",
       "      <td>568597006.0</td>\n",
       "      <td>1</td>\n",
       "      <td>0.000559</td>\n",
       "      <td>5.0</td>\n",
       "    </tr>\n",
       "    <tr>\n",
       "      <th>1</th>\n",
       "      <td>-9223352921020755230</td>\n",
       "      <td>673396002.0</td>\n",
       "      <td>1</td>\n",
       "      <td>0.044511</td>\n",
       "      <td>1.0</td>\n",
       "    </tr>\n",
       "    <tr>\n",
       "      <th>2</th>\n",
       "      <td>-9223352921020755230</td>\n",
       "      <td>706016001.0</td>\n",
       "      <td>1</td>\n",
       "      <td>0.003289</td>\n",
       "      <td>4.0</td>\n",
       "    </tr>\n",
       "    <tr>\n",
       "      <th>3</th>\n",
       "      <td>-9223352921020755230</td>\n",
       "      <td>812167004.0</td>\n",
       "      <td>1</td>\n",
       "      <td>0.019179</td>\n",
       "      <td>2.0</td>\n",
       "    </tr>\n",
       "    <tr>\n",
       "      <th>4</th>\n",
       "      <td>-9223352921020755230</td>\n",
       "      <td>849493006.0</td>\n",
       "      <td>1</td>\n",
       "      <td>0.006174</td>\n",
       "      <td>3.0</td>\n",
       "    </tr>\n",
       "    <tr>\n",
       "      <th>...</th>\n",
       "      <td>...</td>\n",
       "      <td>...</td>\n",
       "      <td>...</td>\n",
       "      <td>...</td>\n",
       "      <td>...</td>\n",
       "    </tr>\n",
       "    <tr>\n",
       "      <th>32880969</th>\n",
       "      <td>-2405428844803553396</td>\n",
       "      <td>809238001.0</td>\n",
       "      <td>3</td>\n",
       "      <td>0.003118</td>\n",
       "      <td>3.0</td>\n",
       "    </tr>\n",
       "    <tr>\n",
       "      <th>32880970</th>\n",
       "      <td>-2405428844803553396</td>\n",
       "      <td>918292001.0</td>\n",
       "      <td>3</td>\n",
       "      <td>0.002511</td>\n",
       "      <td>8.0</td>\n",
       "    </tr>\n",
       "    <tr>\n",
       "      <th>32880971</th>\n",
       "      <td>-2405428844803553396</td>\n",
       "      <td>685814001.0</td>\n",
       "      <td>3</td>\n",
       "      <td>0.002425</td>\n",
       "      <td>9.0</td>\n",
       "    </tr>\n",
       "    <tr>\n",
       "      <th>32880972</th>\n",
       "      <td>-2405428844803553396</td>\n",
       "      <td>898713001.0</td>\n",
       "      <td>3</td>\n",
       "      <td>0.002338</td>\n",
       "      <td>10.0</td>\n",
       "    </tr>\n",
       "    <tr>\n",
       "      <th>32880973</th>\n",
       "      <td>-2405428844803553396</td>\n",
       "      <td>863583001.0</td>\n",
       "      <td>3</td>\n",
       "      <td>0.002814</td>\n",
       "      <td>6.0</td>\n",
       "    </tr>\n",
       "  </tbody>\n",
       "</table>\n",
       "<p>49654112 rows × 5 columns</p>\n",
       "</div>"
      ],
      "text/plain": [
       "                  customer_id   article_id  source     score  rank\n",
       "0        -9223352921020755230  568597006.0       1  0.000559   5.0\n",
       "1        -9223352921020755230  673396002.0       1  0.044511   1.0\n",
       "2        -9223352921020755230  706016001.0       1  0.003289   4.0\n",
       "3        -9223352921020755230  812167004.0       1  0.019179   2.0\n",
       "4        -9223352921020755230  849493006.0       1  0.006174   3.0\n",
       "...                       ...          ...     ...       ...   ...\n",
       "32880969 -2405428844803553396  809238001.0       3  0.003118   3.0\n",
       "32880970 -2405428844803553396  918292001.0       3  0.002511   8.0\n",
       "32880971 -2405428844803553396  685814001.0       3  0.002425   9.0\n",
       "32880972 -2405428844803553396  898713001.0       3  0.002338  10.0\n",
       "32880973 -2405428844803553396  863583001.0       3  0.002814   6.0\n",
       "\n",
       "[49654112 rows x 5 columns]"
      ]
     },
     "execution_count": 95,
     "metadata": {},
     "output_type": "execute_result"
    }
   ],
   "source": [
    "result"
   ]
  },
  {
   "cell_type": "code",
   "execution_count": 96,
   "id": "e9c52d21",
   "metadata": {
    "execution": {
     "iopub.execute_input": "2022-04-04T11:35:48.073585Z",
     "iopub.status.busy": "2022-04-04T11:35:48.072056Z",
     "iopub.status.idle": "2022-04-04T11:35:48.074187Z",
     "shell.execute_reply": "2022-04-04T11:35:48.074586Z",
     "shell.execute_reply.started": "2022-04-04T11:24:24.960183Z"
    },
    "papermill": {
     "duration": 0.165864,
     "end_time": "2022-04-04T11:35:48.074714",
     "exception": false,
     "start_time": "2022-04-04T11:35:47.908850",
     "status": "completed"
    },
    "tags": []
   },
   "outputs": [],
   "source": [
    "#result = result[result[\"article_id\"].isin(use_aid.to_pandas().tolist())]"
   ]
  },
  {
   "cell_type": "code",
   "execution_count": 97,
   "id": "73d957f3",
   "metadata": {
    "_cell_guid": "34084f83-7278-4b41-b521-a07cc55cd27c",
    "_uuid": "cc144bc7-3c43-4c3a-9140-b98a4177845f",
    "collapsed": false,
    "execution": {
     "iopub.execute_input": "2022-04-04T11:35:48.397077Z",
     "iopub.status.busy": "2022-04-04T11:35:48.395663Z",
     "iopub.status.idle": "2022-04-04T11:35:48.397876Z",
     "shell.execute_reply": "2022-04-04T11:35:48.398351Z",
     "shell.execute_reply.started": "2022-04-04T11:24:24.967503Z"
    },
    "jupyter": {
     "outputs_hidden": false
    },
    "papermill": {
     "duration": 0.165179,
     "end_time": "2022-04-04T11:35:48.398498",
     "exception": false,
     "start_time": "2022-04-04T11:35:48.233319",
     "status": "completed"
    },
    "tags": []
   },
   "outputs": [],
   "source": [
    "# 调整融合结果"
   ]
  },
  {
   "cell_type": "code",
   "execution_count": 98,
   "id": "013cbf55",
   "metadata": {
    "_cell_guid": "18a553ef-5214-44f2-b873-2501532733a4",
    "_uuid": "227fc09d-b34c-4391-b8e5-dbe14bc69404",
    "collapsed": false,
    "execution": {
     "iopub.execute_input": "2022-04-04T11:35:48.721963Z",
     "iopub.status.busy": "2022-04-04T11:35:48.721183Z",
     "iopub.status.idle": "2022-04-04T11:35:48.723663Z",
     "shell.execute_reply": "2022-04-04T11:35:48.723242Z",
     "shell.execute_reply.started": "2022-04-04T11:24:24.976987Z"
    },
    "jupyter": {
     "outputs_hidden": false
    },
    "papermill": {
     "duration": 0.16721,
     "end_time": "2022-04-04T11:35:48.723768",
     "exception": false,
     "start_time": "2022-04-04T11:35:48.556558",
     "status": "completed"
    },
    "tags": []
   },
   "outputs": [],
   "source": [
    "#result = result3.copy()"
   ]
  },
  {
   "cell_type": "code",
   "execution_count": 99,
   "id": "d31bd680",
   "metadata": {
    "_cell_guid": "9aafb751-e431-4f4b-a25d-5058a372ed2e",
    "_uuid": "54b0b0b2-6237-42ab-bfe6-bdb423343fb5",
    "collapsed": false,
    "execution": {
     "iopub.execute_input": "2022-04-04T11:35:49.184190Z",
     "iopub.status.busy": "2022-04-04T11:35:49.182707Z",
     "iopub.status.idle": "2022-04-04T11:35:49.189168Z",
     "shell.execute_reply": "2022-04-04T11:35:49.188586Z",
     "shell.execute_reply.started": "2022-04-04T11:24:24.984876Z"
    },
    "jupyter": {
     "outputs_hidden": false
    },
    "papermill": {
     "duration": 0.306673,
     "end_time": "2022-04-04T11:35:49.189294",
     "exception": false,
     "start_time": "2022-04-04T11:35:48.882621",
     "status": "completed"
    },
    "tags": []
   },
   "outputs": [
    {
     "data": {
      "text/plain": [
       "189"
      ]
     },
     "execution_count": 99,
     "metadata": {},
     "output_type": "execute_result"
    }
   ],
   "source": [
    "gc.collect()"
   ]
  },
  {
   "cell_type": "code",
   "execution_count": 100,
   "id": "37fdea71",
   "metadata": {
    "_cell_guid": "bb4fb7e5-199a-43aa-87d6-9e18b6a121af",
    "_uuid": "9ace348d-b4f6-4055-824e-649f1d1e89b7",
    "collapsed": false,
    "execution": {
     "iopub.execute_input": "2022-04-04T11:35:49.516448Z",
     "iopub.status.busy": "2022-04-04T11:35:49.514859Z",
     "iopub.status.idle": "2022-04-04T11:35:49.517052Z",
     "shell.execute_reply": "2022-04-04T11:35:49.517478Z",
     "shell.execute_reply.started": "2022-04-04T11:24:25.136116Z"
    },
    "jupyter": {
     "outputs_hidden": false
    },
    "papermill": {
     "duration": 0.167538,
     "end_time": "2022-04-04T11:35:49.517612",
     "exception": false,
     "start_time": "2022-04-04T11:35:49.350074",
     "status": "completed"
    },
    "tags": []
   },
   "outputs": [],
   "source": [
    "result.index = range(len(result))"
   ]
  },
  {
   "cell_type": "markdown",
   "id": "2cfc0cdc",
   "metadata": {
    "papermill": {
     "duration": 0.15907,
     "end_time": "2022-04-04T11:35:49.835732",
     "exception": false,
     "start_time": "2022-04-04T11:35:49.676662",
     "status": "completed"
    },
    "tags": []
   },
   "source": [
    "\n",
    "1\n",
    "\n",
    "1\n",
    "\n",
    "1\n",
    "\n",
    "1\n",
    "\n",
    "1\n",
    "\n",
    "1\n",
    "\n",
    "1\n",
    "\n",
    "1\n",
    "\n",
    "1\n",
    "\n",
    "1\n",
    "\n",
    "1\n",
    "\n",
    "1\n",
    "\n",
    "\n",
    "\n",
    "\n",
    "\n",
    "\n",
    "\n",
    "\n",
    "\n",
    "\n",
    "\n",
    "\n",
    "\n",
    "\n",
    "\n",
    "\n",
    "\n",
    "\n",
    "\n",
    "\n",
    "\n"
   ]
  },
  {
   "cell_type": "code",
   "execution_count": 101,
   "id": "f59fbd54",
   "metadata": {
    "_cell_guid": "f54a836d-b7b9-4048-8ed3-6416a6eba9e4",
    "_uuid": "bb47e468-4aa6-4d1b-8373-71d7a4310d2f",
    "collapsed": false,
    "execution": {
     "iopub.execute_input": "2022-04-04T11:35:50.258085Z",
     "iopub.status.busy": "2022-04-04T11:35:50.257186Z",
     "iopub.status.idle": "2022-04-04T11:35:52.843960Z",
     "shell.execute_reply": "2022-04-04T11:35:52.843037Z",
     "shell.execute_reply.started": "2022-04-04T11:24:25.144871Z"
    },
    "jupyter": {
     "outputs_hidden": false
    },
    "papermill": {
     "duration": 2.848661,
     "end_time": "2022-04-04T11:35:52.844109",
     "exception": false,
     "start_time": "2022-04-04T11:35:49.995448",
     "status": "completed"
    },
    "tags": []
   },
   "outputs": [],
   "source": [
    "result.loc[result[\"source\"] == 3, \"score\"] *= 0.8\n",
    "result.loc[result[\"source\"] == 2, \"score\"] *= 0.25"
   ]
  },
  {
   "cell_type": "code",
   "execution_count": 102,
   "id": "a3b04db5",
   "metadata": {
    "execution": {
     "iopub.execute_input": "2022-04-04T11:35:53.219850Z",
     "iopub.status.busy": "2022-04-04T11:35:53.219051Z",
     "iopub.status.idle": "2022-04-04T11:35:55.977864Z",
     "shell.execute_reply": "2022-04-04T11:35:55.976890Z",
     "shell.execute_reply.started": "2022-04-04T11:24:27.590353Z"
    },
    "papermill": {
     "duration": 2.970931,
     "end_time": "2022-04-04T11:35:55.978039",
     "exception": false,
     "start_time": "2022-04-04T11:35:53.007108",
     "status": "completed"
    },
    "tags": []
   },
   "outputs": [],
   "source": [
    "result = result.loc[result[\"rank\"] <= 12]"
   ]
  },
  {
   "cell_type": "code",
   "execution_count": 103,
   "id": "9dc18770",
   "metadata": {
    "_cell_guid": "889a61fc-c4fa-4503-81a9-a09ffbad09c2",
    "_uuid": "fb97febd-786c-42ec-94db-d50dc2849090",
    "collapsed": false,
    "execution": {
     "iopub.execute_input": "2022-04-04T11:35:56.300996Z",
     "iopub.status.busy": "2022-04-04T11:35:56.300135Z",
     "iopub.status.idle": "2022-04-04T11:35:56.302662Z",
     "shell.execute_reply": "2022-04-04T11:35:56.302234Z",
     "shell.execute_reply.started": "2022-04-04T11:24:30.418750Z"
    },
    "jupyter": {
     "outputs_hidden": false
    },
    "papermill": {
     "duration": 0.165065,
     "end_time": "2022-04-04T11:35:56.302774",
     "exception": false,
     "start_time": "2022-04-04T11:35:56.137709",
     "status": "completed"
    },
    "tags": []
   },
   "outputs": [],
   "source": [
    "#del result1\n",
    "#del result2\n",
    "#del sub_customer"
   ]
  },
  {
   "cell_type": "code",
   "execution_count": 104,
   "id": "1f64e73f",
   "metadata": {
    "_cell_guid": "588b511e-2aef-4cb7-8199-c6a44dc20d53",
    "_uuid": "01bf0763-33f8-46d4-bf92-9efb3827e953",
    "collapsed": false,
    "execution": {
     "iopub.execute_input": "2022-04-04T11:35:56.636544Z",
     "iopub.status.busy": "2022-04-04T11:35:56.635485Z",
     "iopub.status.idle": "2022-04-04T11:35:57.684957Z",
     "shell.execute_reply": "2022-04-04T11:35:57.684494Z",
     "shell.execute_reply.started": "2022-04-04T11:24:30.424247Z"
    },
    "jupyter": {
     "outputs_hidden": false
    },
    "papermill": {
     "duration": 1.220939,
     "end_time": "2022-04-04T11:35:57.685111",
     "exception": false,
     "start_time": "2022-04-04T11:35:56.464172",
     "status": "completed"
    },
    "tags": []
   },
   "outputs": [],
   "source": [
    "result = cudf.DataFrame(result, dtype={'article_id': 'int32', 'customer_id':'int64'})"
   ]
  },
  {
   "cell_type": "code",
   "execution_count": 105,
   "id": "df35a762",
   "metadata": {
    "_cell_guid": "49bb2118-e773-4a70-90e9-a92b968ea77c",
    "_uuid": "6461d0e9-6fa1-4f4c-97f5-0d9b55391d8e",
    "collapsed": false,
    "execution": {
     "iopub.execute_input": "2022-04-04T11:35:58.016051Z",
     "iopub.status.busy": "2022-04-04T11:35:58.015124Z",
     "iopub.status.idle": "2022-04-04T11:35:58.070772Z",
     "shell.execute_reply": "2022-04-04T11:35:58.069990Z",
     "shell.execute_reply.started": "2022-04-04T11:24:31.491812Z"
    },
    "jupyter": {
     "outputs_hidden": false
    },
    "papermill": {
     "duration": 0.223212,
     "end_time": "2022-04-04T11:35:58.070929",
     "exception": false,
     "start_time": "2022-04-04T11:35:57.847717",
     "status": "completed"
    },
    "tags": []
   },
   "outputs": [
    {
     "data": {
      "text/html": [
       "<div>\n",
       "<style scoped>\n",
       "    .dataframe tbody tr th:only-of-type {\n",
       "        vertical-align: middle;\n",
       "    }\n",
       "\n",
       "    .dataframe tbody tr th {\n",
       "        vertical-align: top;\n",
       "    }\n",
       "\n",
       "    .dataframe thead th {\n",
       "        text-align: right;\n",
       "    }\n",
       "</style>\n",
       "<table border=\"1\" class=\"dataframe\">\n",
       "  <thead>\n",
       "    <tr style=\"text-align: right;\">\n",
       "      <th></th>\n",
       "      <th>customer_id</th>\n",
       "      <th>article_id</th>\n",
       "      <th>source</th>\n",
       "      <th>score</th>\n",
       "      <th>rank</th>\n",
       "    </tr>\n",
       "  </thead>\n",
       "  <tbody>\n",
       "    <tr>\n",
       "      <th>0</th>\n",
       "      <td>-9223352921020755230</td>\n",
       "      <td>568597006</td>\n",
       "      <td>1</td>\n",
       "      <td>0.000559</td>\n",
       "      <td>5.0</td>\n",
       "    </tr>\n",
       "    <tr>\n",
       "      <th>1</th>\n",
       "      <td>-9223352921020755230</td>\n",
       "      <td>673396002</td>\n",
       "      <td>1</td>\n",
       "      <td>0.044511</td>\n",
       "      <td>1.0</td>\n",
       "    </tr>\n",
       "    <tr>\n",
       "      <th>2</th>\n",
       "      <td>-9223352921020755230</td>\n",
       "      <td>706016001</td>\n",
       "      <td>1</td>\n",
       "      <td>0.003289</td>\n",
       "      <td>4.0</td>\n",
       "    </tr>\n",
       "    <tr>\n",
       "      <th>3</th>\n",
       "      <td>-9223352921020755230</td>\n",
       "      <td>812167004</td>\n",
       "      <td>1</td>\n",
       "      <td>0.019179</td>\n",
       "      <td>2.0</td>\n",
       "    </tr>\n",
       "    <tr>\n",
       "      <th>4</th>\n",
       "      <td>-9223352921020755230</td>\n",
       "      <td>849493006</td>\n",
       "      <td>1</td>\n",
       "      <td>0.006174</td>\n",
       "      <td>3.0</td>\n",
       "    </tr>\n",
       "    <tr>\n",
       "      <th>...</th>\n",
       "      <td>...</td>\n",
       "      <td>...</td>\n",
       "      <td>...</td>\n",
       "      <td>...</td>\n",
       "      <td>...</td>\n",
       "    </tr>\n",
       "    <tr>\n",
       "      <th>49654107</th>\n",
       "      <td>-2405428844803553396</td>\n",
       "      <td>809238001</td>\n",
       "      <td>3</td>\n",
       "      <td>0.002494</td>\n",
       "      <td>3.0</td>\n",
       "    </tr>\n",
       "    <tr>\n",
       "      <th>49654108</th>\n",
       "      <td>-2405428844803553396</td>\n",
       "      <td>918292001</td>\n",
       "      <td>3</td>\n",
       "      <td>0.002009</td>\n",
       "      <td>8.0</td>\n",
       "    </tr>\n",
       "    <tr>\n",
       "      <th>49654109</th>\n",
       "      <td>-2405428844803553396</td>\n",
       "      <td>685814001</td>\n",
       "      <td>3</td>\n",
       "      <td>0.001940</td>\n",
       "      <td>9.0</td>\n",
       "    </tr>\n",
       "    <tr>\n",
       "      <th>49654110</th>\n",
       "      <td>-2405428844803553396</td>\n",
       "      <td>898713001</td>\n",
       "      <td>3</td>\n",
       "      <td>0.001871</td>\n",
       "      <td>10.0</td>\n",
       "    </tr>\n",
       "    <tr>\n",
       "      <th>49654111</th>\n",
       "      <td>-2405428844803553396</td>\n",
       "      <td>863583001</td>\n",
       "      <td>3</td>\n",
       "      <td>0.002252</td>\n",
       "      <td>6.0</td>\n",
       "    </tr>\n",
       "  </tbody>\n",
       "</table>\n",
       "<p>43563600 rows × 5 columns</p>\n",
       "</div>"
      ],
      "text/plain": [
       "                  customer_id  article_id  source     score  rank\n",
       "0        -9223352921020755230   568597006       1  0.000559   5.0\n",
       "1        -9223352921020755230   673396002       1  0.044511   1.0\n",
       "2        -9223352921020755230   706016001       1  0.003289   4.0\n",
       "3        -9223352921020755230   812167004       1  0.019179   2.0\n",
       "4        -9223352921020755230   849493006       1  0.006174   3.0\n",
       "...                       ...         ...     ...       ...   ...\n",
       "49654107 -2405428844803553396   809238001       3  0.002494   3.0\n",
       "49654108 -2405428844803553396   918292001       3  0.002009   8.0\n",
       "49654109 -2405428844803553396   685814001       3  0.001940   9.0\n",
       "49654110 -2405428844803553396   898713001       3  0.001871  10.0\n",
       "49654111 -2405428844803553396   863583001       3  0.002252   6.0\n",
       "\n",
       "[43563600 rows x 5 columns]"
      ]
     },
     "execution_count": 105,
     "metadata": {},
     "output_type": "execute_result"
    }
   ],
   "source": [
    "result"
   ]
  },
  {
   "cell_type": "code",
   "execution_count": 106,
   "id": "13416cce",
   "metadata": {
    "_cell_guid": "045655d5-f31c-434e-b66a-8c905f401acc",
    "_uuid": "1c966656-aef7-44cb-81c6-69aae78eab2c",
    "collapsed": false,
    "execution": {
     "iopub.execute_input": "2022-04-04T11:35:58.398935Z",
     "iopub.status.busy": "2022-04-04T11:35:58.397905Z",
     "iopub.status.idle": "2022-04-04T11:35:58.400469Z",
     "shell.execute_reply": "2022-04-04T11:35:58.399881Z",
     "shell.execute_reply.started": "2022-04-04T11:24:31.580859Z"
    },
    "jupyter": {
     "outputs_hidden": false
    },
    "papermill": {
     "duration": 0.167751,
     "end_time": "2022-04-04T11:35:58.400609",
     "exception": false,
     "start_time": "2022-04-04T11:35:58.232858",
     "status": "completed"
    },
    "tags": []
   },
   "outputs": [],
   "source": [
    "#merge_result = result.groupby([\"customer_id\", \"article_id\"]).apply(lambda x:x.nlargest(1, \"score\"))"
   ]
  },
  {
   "cell_type": "code",
   "execution_count": 107,
   "id": "6d5b9d8f",
   "metadata": {
    "_cell_guid": "a3814516-dcce-468f-9242-018d344a166b",
    "_uuid": "7401a468-1d3f-4e23-97e9-7665c340891a",
    "collapsed": false,
    "execution": {
     "iopub.execute_input": "2022-04-04T11:35:58.732754Z",
     "iopub.status.busy": "2022-04-04T11:35:58.732002Z",
     "iopub.status.idle": "2022-04-04T11:35:58.867892Z",
     "shell.execute_reply": "2022-04-04T11:35:58.867395Z",
     "shell.execute_reply.started": "2022-04-04T11:24:31.592964Z"
    },
    "jupyter": {
     "outputs_hidden": false
    },
    "papermill": {
     "duration": 0.304491,
     "end_time": "2022-04-04T11:35:58.868032",
     "exception": false,
     "start_time": "2022-04-04T11:35:58.563541",
     "status": "completed"
    },
    "tags": []
   },
   "outputs": [],
   "source": [
    "merge_result = result.groupby([\"customer_id\", \"article_id\"])['score'].max().reset_index()"
   ]
  },
  {
   "cell_type": "code",
   "execution_count": 108,
   "id": "0fc86132",
   "metadata": {
    "_cell_guid": "2f5564e8-f69c-473e-a1b4-2e824dd3c991",
    "_uuid": "dd38d6a2-b28f-462c-85fc-1ffbe235d60d",
    "collapsed": false,
    "execution": {
     "iopub.execute_input": "2022-04-04T11:35:59.196939Z",
     "iopub.status.busy": "2022-04-04T11:35:59.196050Z",
     "iopub.status.idle": "2022-04-04T11:35:59.197823Z",
     "shell.execute_reply": "2022-04-04T11:35:59.198447Z",
     "shell.execute_reply.started": "2022-04-04T11:24:31.748660Z"
    },
    "jupyter": {
     "outputs_hidden": false
    },
    "papermill": {
     "duration": 0.168195,
     "end_time": "2022-04-04T11:35:59.198584",
     "exception": false,
     "start_time": "2022-04-04T11:35:59.030389",
     "status": "completed"
    },
    "tags": []
   },
   "outputs": [],
   "source": [
    "# del result"
   ]
  },
  {
   "cell_type": "code",
   "execution_count": 109,
   "id": "dc9a795e",
   "metadata": {
    "_cell_guid": "4bc3c148-1740-4a26-b04b-26e39c57e311",
    "_uuid": "e0495319-e95b-4426-8cdd-303816ffdfb4",
    "collapsed": false,
    "execution": {
     "iopub.execute_input": "2022-04-04T11:35:59.527598Z",
     "iopub.status.busy": "2022-04-04T11:35:59.526793Z",
     "iopub.status.idle": "2022-04-04T11:35:59.528797Z",
     "shell.execute_reply": "2022-04-04T11:35:59.529194Z",
     "shell.execute_reply.started": "2022-04-04T11:24:31.754907Z"
    },
    "jupyter": {
     "outputs_hidden": false
    },
    "papermill": {
     "duration": 0.169471,
     "end_time": "2022-04-04T11:35:59.529336",
     "exception": false,
     "start_time": "2022-04-04T11:35:59.359865",
     "status": "completed"
    },
    "tags": []
   },
   "outputs": [],
   "source": [
    "# purchase_df = tmp.sort_values(['customer_id', 'value'], ascending = False).reset_index(drop = True)\n",
    "# purchase_df['prediction'] = '0' + purchase_df['article_id'].astype(str) + ' '\n",
    "# purchase_df = purchase_df.groupby('customer_id').agg({'prediction': sum}).reset_index()\n",
    "# purchase_df['prediction'] = purchase_df['prediction'].str.strip()\n",
    "# purchase_df = cudf.DataFrame(purchase_df)"
   ]
  },
  {
   "cell_type": "code",
   "execution_count": 110,
   "id": "4e04424e",
   "metadata": {
    "_cell_guid": "14ef8feb-6697-4a2c-a596-2634819dd881",
    "_uuid": "a62caeca-d206-4edf-a818-a8e494b19692",
    "collapsed": false,
    "execution": {
     "iopub.execute_input": "2022-04-04T11:35:59.858482Z",
     "iopub.status.busy": "2022-04-04T11:35:59.857437Z",
     "iopub.status.idle": "2022-04-04T11:35:59.859381Z",
     "shell.execute_reply": "2022-04-04T11:35:59.859787Z",
     "shell.execute_reply.started": "2022-04-04T11:24:31.764843Z"
    },
    "jupyter": {
     "outputs_hidden": false
    },
    "papermill": {
     "duration": 0.169125,
     "end_time": "2022-04-04T11:35:59.859920",
     "exception": false,
     "start_time": "2022-04-04T11:35:59.690795",
     "status": "completed"
    },
    "tags": []
   },
   "outputs": [],
   "source": [
    "# %%time\n",
    "# purchase_dict = {}\n",
    "\n",
    "# tmp = df.copy().to_pandas()\n",
    "# tmp['x'] = ((last_ts - tmp['t_dat']) / np.timedelta64(1, 'D')).astype(int)\n",
    "# tmp['dummy_1'] = 1 \n",
    "# tmp['x'] = tmp[[\"x\", \"dummy_1\"]].max(axis=1)\n",
    "\n",
    "# a, b, c, d = 2.5e4, 1.5e5, 2e-1, 1e3\n",
    "# total = 1715530\n",
    "# tmp['y'] = (a / np.sqrt(tmp['x']) + b * np.exp(-c*tmp['x']) - d) / total\n",
    "\n",
    "# tmp['dummy_0'] = 0 \n",
    "# tmp['y'] = tmp[[\"y\", \"dummy_0\"]].max(axis=1)\n",
    "# tmp['value'] = tmp['quotient'] * tmp['y'] \n",
    "\n",
    "# tmp = tmp.groupby(['customer_id', 'article_id']).agg({'value': 'sum'})\n",
    "# tmp = tmp.reset_index()\n",
    "\n",
    "# tmp = tmp.loc[tmp['value'] > 0]\n",
    "# tmp['rank'] = tmp.groupby(\"customer_id\")[\"value\"].rank(\"dense\", ascending=False)\n",
    "# tmp = tmp.loc[tmp['rank'] <= 12]\n",
    "\n",
    "# # for customer_id in tmp['customer_id'].unique():\n",
    "# #     purchase_dict[customer_id] = {} \n",
    "\n",
    "# # for customer_id, article_id, value in zip(tmp['customer_id'], tmp['article_id'], tmp['value']):\n",
    "# #     purchase_dict[customer_id][article_id] = value\n",
    "\n",
    "# purchase_df = tmp.sort_values(['customer_id', 'value'], ascending = False).reset_index(drop = True)\n",
    "# purchase_df['prediction'] = '0' + purchase_df['article_id'].astype(str) + ' '\n",
    "# purchase_df = purchase_df.groupby('customer_id').agg({'prediction': sum}).reset_index()\n",
    "# purchase_df['prediction'] = purchase_df['prediction'].str.strip()\n",
    "# purchase_df = cudf.DataFrame(purchase_df)"
   ]
  },
  {
   "cell_type": "markdown",
   "id": "0ea8d45b",
   "metadata": {
    "_cell_guid": "d8a96755-ade6-49e7-9944-7ab45cb6aeb7",
    "_uuid": "cd1f7cb3-5429-4cf6-a08d-65cd32930812",
    "editable": false,
    "papermill": {
     "duration": 0.173356,
     "end_time": "2022-04-04T11:36:00.195202",
     "exception": false,
     "start_time": "2022-04-04T11:36:00.021846",
     "status": "completed"
    },
    "tags": []
   },
   "source": [
    "### Make a submission"
   ]
  },
  {
   "cell_type": "code",
   "execution_count": 111,
   "id": "32398858",
   "metadata": {
    "_cell_guid": "57a6e73d-1c2a-41e2-bfb9-61ce1ee91389",
    "_uuid": "eeb176a3-953c-46d3-87f7-fb565ea3d935",
    "collapsed": false,
    "execution": {
     "iopub.execute_input": "2022-04-04T11:36:00.524481Z",
     "iopub.status.busy": "2022-04-04T11:36:00.523711Z",
     "iopub.status.idle": "2022-04-04T11:36:00.588058Z",
     "shell.execute_reply": "2022-04-04T11:36:00.587546Z",
     "shell.execute_reply.started": "2022-04-04T11:24:31.774636Z"
    },
    "jupyter": {
     "outputs_hidden": false
    },
    "papermill": {
     "duration": 0.231778,
     "end_time": "2022-04-04T11:36:00.588195",
     "exception": false,
     "start_time": "2022-04-04T11:36:00.356417",
     "status": "completed"
    },
    "tags": []
   },
   "outputs": [],
   "source": [
    "merge_result[\"article_id\"] = \"0\"+merge_result[\"article_id\"].astype(\"str\")"
   ]
  },
  {
   "cell_type": "code",
   "execution_count": 112,
   "id": "8bbaefd4",
   "metadata": {
    "_cell_guid": "6dad8baa-a1ab-463b-a3cc-03eac43b79fc",
    "_uuid": "dd3f6fbc-14ad-48ab-ac44-6fae3440d5f0",
    "collapsed": false,
    "execution": {
     "iopub.execute_input": "2022-04-04T11:36:00.927654Z",
     "iopub.status.busy": "2022-04-04T11:36:00.926800Z",
     "iopub.status.idle": "2022-04-04T11:36:00.964939Z",
     "shell.execute_reply": "2022-04-04T11:36:00.965391Z",
     "shell.execute_reply.started": "2022-04-04T11:24:31.849226Z"
    },
    "jupyter": {
     "outputs_hidden": false
    },
    "papermill": {
     "duration": 0.215351,
     "end_time": "2022-04-04T11:36:00.965538",
     "exception": false,
     "start_time": "2022-04-04T11:36:00.750187",
     "status": "completed"
    },
    "tags": []
   },
   "outputs": [
    {
     "data": {
      "text/html": [
       "<div>\n",
       "<style scoped>\n",
       "    .dataframe tbody tr th:only-of-type {\n",
       "        vertical-align: middle;\n",
       "    }\n",
       "\n",
       "    .dataframe tbody tr th {\n",
       "        vertical-align: top;\n",
       "    }\n",
       "\n",
       "    .dataframe thead th {\n",
       "        text-align: right;\n",
       "    }\n",
       "</style>\n",
       "<table border=\"1\" class=\"dataframe\">\n",
       "  <thead>\n",
       "    <tr style=\"text-align: right;\">\n",
       "      <th></th>\n",
       "      <th>customer_id</th>\n",
       "      <th>article_id</th>\n",
       "      <th>score</th>\n",
       "    </tr>\n",
       "  </thead>\n",
       "  <tbody>\n",
       "    <tr>\n",
       "      <th>0</th>\n",
       "      <td>7351370985986292789</td>\n",
       "      <td>0673396002</td>\n",
       "      <td>0.001647</td>\n",
       "    </tr>\n",
       "    <tr>\n",
       "      <th>1</th>\n",
       "      <td>4754850021271258236</td>\n",
       "      <td>0895804007</td>\n",
       "      <td>0.001507</td>\n",
       "    </tr>\n",
       "    <tr>\n",
       "      <th>2</th>\n",
       "      <td>998295259334543551</td>\n",
       "      <td>0850917001</td>\n",
       "      <td>0.002467</td>\n",
       "    </tr>\n",
       "    <tr>\n",
       "      <th>3</th>\n",
       "      <td>-6100452269755810319</td>\n",
       "      <td>0924243001</td>\n",
       "      <td>0.002745</td>\n",
       "    </tr>\n",
       "    <tr>\n",
       "      <th>4</th>\n",
       "      <td>1397888042525988329</td>\n",
       "      <td>0910601003</td>\n",
       "      <td>0.002205</td>\n",
       "    </tr>\n",
       "    <tr>\n",
       "      <th>...</th>\n",
       "      <td>...</td>\n",
       "      <td>...</td>\n",
       "      <td>...</td>\n",
       "    </tr>\n",
       "    <tr>\n",
       "      <th>42789926</th>\n",
       "      <td>5473155350624661739</td>\n",
       "      <td>0156231001</td>\n",
       "      <td>0.002149</td>\n",
       "    </tr>\n",
       "    <tr>\n",
       "      <th>42789927</th>\n",
       "      <td>5992338606312768603</td>\n",
       "      <td>0688464001</td>\n",
       "      <td>0.002959</td>\n",
       "    </tr>\n",
       "    <tr>\n",
       "      <th>42789928</th>\n",
       "      <td>-4016811740488438247</td>\n",
       "      <td>0909370001</td>\n",
       "      <td>0.003113</td>\n",
       "    </tr>\n",
       "    <tr>\n",
       "      <th>42789929</th>\n",
       "      <td>-5712745612185038400</td>\n",
       "      <td>0859125001</td>\n",
       "      <td>0.352006</td>\n",
       "    </tr>\n",
       "    <tr>\n",
       "      <th>42789930</th>\n",
       "      <td>7718528711210852359</td>\n",
       "      <td>0706016002</td>\n",
       "      <td>0.000700</td>\n",
       "    </tr>\n",
       "  </tbody>\n",
       "</table>\n",
       "<p>42789931 rows × 3 columns</p>\n",
       "</div>"
      ],
      "text/plain": [
       "                  customer_id  article_id     score\n",
       "0         7351370985986292789  0673396002  0.001647\n",
       "1         4754850021271258236  0895804007  0.001507\n",
       "2          998295259334543551  0850917001  0.002467\n",
       "3        -6100452269755810319  0924243001  0.002745\n",
       "4         1397888042525988329  0910601003  0.002205\n",
       "...                       ...         ...       ...\n",
       "42789926  5473155350624661739  0156231001  0.002149\n",
       "42789927  5992338606312768603  0688464001  0.002959\n",
       "42789928 -4016811740488438247  0909370001  0.003113\n",
       "42789929 -5712745612185038400  0859125001  0.352006\n",
       "42789930  7718528711210852359  0706016002  0.000700\n",
       "\n",
       "[42789931 rows x 3 columns]"
      ]
     },
     "execution_count": 112,
     "metadata": {},
     "output_type": "execute_result"
    }
   ],
   "source": [
    "merge_result"
   ]
  },
  {
   "cell_type": "code",
   "execution_count": 113,
   "id": "12174691",
   "metadata": {
    "_cell_guid": "8185f84e-cedc-48c4-86a1-d1bb371c28dd",
    "_uuid": "23818e7f-b7a3-432f-83bf-6136af149dfc",
    "collapsed": false,
    "execution": {
     "iopub.execute_input": "2022-04-04T11:36:01.509109Z",
     "iopub.status.busy": "2022-04-04T11:36:01.508366Z",
     "iopub.status.idle": "2022-04-04T11:36:02.108237Z",
     "shell.execute_reply": "2022-04-04T11:36:02.107474Z",
     "shell.execute_reply.started": "2022-04-04T11:24:31.904908Z"
    },
    "jupyter": {
     "outputs_hidden": false
    },
    "papermill": {
     "duration": 0.885588,
     "end_time": "2022-04-04T11:36:02.108369",
     "exception": false,
     "start_time": "2022-04-04T11:36:01.222781",
     "status": "completed"
    },
    "tags": []
   },
   "outputs": [],
   "source": [
    "merge_result = merge_result.sort_values(by = [\"customer_id\", \"score\"], ascending = False)"
   ]
  },
  {
   "cell_type": "code",
   "execution_count": 114,
   "id": "62d66b9b",
   "metadata": {
    "_cell_guid": "10c16fac-7e05-433f-b9db-246c57a1de7c",
    "_uuid": "9b04ffe9-0216-4196-a496-de23397301fa",
    "collapsed": false,
    "execution": {
     "iopub.execute_input": "2022-04-04T11:36:02.475594Z",
     "iopub.status.busy": "2022-04-04T11:36:02.473119Z",
     "iopub.status.idle": "2022-04-04T11:36:02.477724Z",
     "shell.execute_reply": "2022-04-04T11:36:02.478235Z",
     "shell.execute_reply.started": "2022-04-04T11:24:32.505756Z"
    },
    "jupyter": {
     "outputs_hidden": false
    },
    "papermill": {
     "duration": 0.187606,
     "end_time": "2022-04-04T11:36:02.478447",
     "exception": false,
     "start_time": "2022-04-04T11:36:02.290841",
     "status": "completed"
    },
    "tags": []
   },
   "outputs": [],
   "source": [
    "#merge_result.to_pandas()[:10000].groupby([\"customer_id\"])[\"article_id\"].agg(lambda x: print(x.to_list()))"
   ]
  },
  {
   "cell_type": "code",
   "execution_count": 115,
   "id": "d0ff5713",
   "metadata": {
    "_cell_guid": "61b2ea68-7528-4ec9-8d54-2a5dc5f757bb",
    "_uuid": "42b77504-3d51-48a9-83bc-2a24b68b23f9",
    "collapsed": false,
    "execution": {
     "iopub.execute_input": "2022-04-04T11:36:02.855832Z",
     "iopub.status.busy": "2022-04-04T11:36:02.854816Z",
     "iopub.status.idle": "2022-04-04T11:36:02.901699Z",
     "shell.execute_reply": "2022-04-04T11:36:02.902226Z",
     "shell.execute_reply.started": "2022-04-04T11:24:32.511569Z"
    },
    "jupyter": {
     "outputs_hidden": false
    },
    "papermill": {
     "duration": 0.243707,
     "end_time": "2022-04-04T11:36:02.902380",
     "exception": false,
     "start_time": "2022-04-04T11:36:02.658673",
     "status": "completed"
    },
    "tags": []
   },
   "outputs": [
    {
     "data": {
      "text/html": [
       "<div>\n",
       "<style scoped>\n",
       "    .dataframe tbody tr th:only-of-type {\n",
       "        vertical-align: middle;\n",
       "    }\n",
       "\n",
       "    .dataframe tbody tr th {\n",
       "        vertical-align: top;\n",
       "    }\n",
       "\n",
       "    .dataframe thead th {\n",
       "        text-align: right;\n",
       "    }\n",
       "</style>\n",
       "<table border=\"1\" class=\"dataframe\">\n",
       "  <thead>\n",
       "    <tr style=\"text-align: right;\">\n",
       "      <th></th>\n",
       "      <th>customer_id</th>\n",
       "      <th>article_id</th>\n",
       "      <th>score</th>\n",
       "    </tr>\n",
       "  </thead>\n",
       "  <tbody>\n",
       "    <tr>\n",
       "      <th>41266715</th>\n",
       "      <td>9223370729206611574</td>\n",
       "      <td>0909370001</td>\n",
       "      <td>0.006153</td>\n",
       "    </tr>\n",
       "    <tr>\n",
       "      <th>9253968</th>\n",
       "      <td>9223370729206611574</td>\n",
       "      <td>0909371001</td>\n",
       "      <td>0.004058</td>\n",
       "    </tr>\n",
       "    <tr>\n",
       "      <th>1387567</th>\n",
       "      <td>9223370729206611574</td>\n",
       "      <td>0805947001</td>\n",
       "      <td>0.002095</td>\n",
       "    </tr>\n",
       "    <tr>\n",
       "      <th>2027790</th>\n",
       "      <td>9223370729206611574</td>\n",
       "      <td>0908799002</td>\n",
       "      <td>0.001833</td>\n",
       "    </tr>\n",
       "    <tr>\n",
       "      <th>2782490</th>\n",
       "      <td>9223370729206611574</td>\n",
       "      <td>0935892001</td>\n",
       "      <td>0.001833</td>\n",
       "    </tr>\n",
       "    <tr>\n",
       "      <th>...</th>\n",
       "      <td>...</td>\n",
       "      <td>...</td>\n",
       "      <td>...</td>\n",
       "    </tr>\n",
       "    <tr>\n",
       "      <th>42587288</th>\n",
       "      <td>-9223352921020755230</td>\n",
       "      <td>0562245046</td>\n",
       "      <td>0.000718</td>\n",
       "    </tr>\n",
       "    <tr>\n",
       "      <th>20979768</th>\n",
       "      <td>-9223352921020755230</td>\n",
       "      <td>0751471001</td>\n",
       "      <td>0.000639</td>\n",
       "    </tr>\n",
       "    <tr>\n",
       "      <th>33114052</th>\n",
       "      <td>-9223352921020755230</td>\n",
       "      <td>0372860002</td>\n",
       "      <td>0.000618</td>\n",
       "    </tr>\n",
       "    <tr>\n",
       "      <th>1292493</th>\n",
       "      <td>-9223352921020755230</td>\n",
       "      <td>0568597006</td>\n",
       "      <td>0.000559</td>\n",
       "    </tr>\n",
       "    <tr>\n",
       "      <th>38048272</th>\n",
       "      <td>-9223352921020755230</td>\n",
       "      <td>0156231001</td>\n",
       "      <td>0.000552</td>\n",
       "    </tr>\n",
       "  </tbody>\n",
       "</table>\n",
       "<p>42789931 rows × 3 columns</p>\n",
       "</div>"
      ],
      "text/plain": [
       "                  customer_id  article_id     score\n",
       "41266715  9223370729206611574  0909370001  0.006153\n",
       "9253968   9223370729206611574  0909371001  0.004058\n",
       "1387567   9223370729206611574  0805947001  0.002095\n",
       "2027790   9223370729206611574  0908799002  0.001833\n",
       "2782490   9223370729206611574  0935892001  0.001833\n",
       "...                       ...         ...       ...\n",
       "42587288 -9223352921020755230  0562245046  0.000718\n",
       "20979768 -9223352921020755230  0751471001  0.000639\n",
       "33114052 -9223352921020755230  0372860002  0.000618\n",
       "1292493  -9223352921020755230  0568597006  0.000559\n",
       "38048272 -9223352921020755230  0156231001  0.000552\n",
       "\n",
       "[42789931 rows x 3 columns]"
      ]
     },
     "execution_count": 115,
     "metadata": {},
     "output_type": "execute_result"
    }
   ],
   "source": [
    "merge_result"
   ]
  },
  {
   "cell_type": "code",
   "execution_count": 116,
   "id": "7cee1401",
   "metadata": {
    "_cell_guid": "7a7bc801-4d06-48ae-9ee2-e08ec8de6982",
    "_uuid": "4d5db8ab-fdb2-4af3-ae9e-d9e74d258c4f",
    "collapsed": false,
    "execution": {
     "iopub.execute_input": "2022-04-04T11:36:03.250279Z",
     "iopub.status.busy": "2022-04-04T11:36:03.249183Z",
     "iopub.status.idle": "2022-04-04T11:36:24.060331Z",
     "shell.execute_reply": "2022-04-04T11:36:24.059823Z",
     "shell.execute_reply.started": "2022-04-04T11:24:32.579767Z"
    },
    "jupyter": {
     "outputs_hidden": false
    },
    "papermill": {
     "duration": 20.982727,
     "end_time": "2022-04-04T11:36:24.060472",
     "exception": false,
     "start_time": "2022-04-04T11:36:03.077745",
     "status": "completed"
    },
    "tags": []
   },
   "outputs": [],
   "source": [
    "final = merge_result.to_pandas().groupby([\"customer_id\"])[\"article_id\"].agg(lambda x: \" \".join(x)[:131])"
   ]
  },
  {
   "cell_type": "code",
   "execution_count": 117,
   "id": "6d314a80",
   "metadata": {
    "_cell_guid": "26a10bf6-0a3e-4fab-afb9-2f20086cbb2e",
    "_uuid": "1155094c-6aee-4ce9-be3a-fc8de6cd12f2",
    "collapsed": false,
    "execution": {
     "iopub.execute_input": "2022-04-04T11:36:24.388892Z",
     "iopub.status.busy": "2022-04-04T11:36:24.387267Z",
     "iopub.status.idle": "2022-04-04T11:36:24.389514Z",
     "shell.execute_reply": "2022-04-04T11:36:24.389925Z",
     "shell.execute_reply.started": "2022-04-04T11:24:53.725400Z"
    },
    "jupyter": {
     "outputs_hidden": false
    },
    "papermill": {
     "duration": 0.167914,
     "end_time": "2022-04-04T11:36:24.390090",
     "exception": false,
     "start_time": "2022-04-04T11:36:24.222176",
     "status": "completed"
    },
    "tags": []
   },
   "outputs": [],
   "source": [
    "# source = merge_result.to_pandas().groupby([\"customer_id\"])[\"article_id\"].agg(lambda x: \" \".join(x)[:131])"
   ]
  },
  {
   "cell_type": "code",
   "execution_count": 118,
   "id": "1a4d638d",
   "metadata": {
    "_cell_guid": "2fe781a8-b967-4005-9f49-90508849e7ca",
    "_uuid": "8e7b0224-dab1-4e41-a466-9733984fd664",
    "collapsed": false,
    "execution": {
     "iopub.execute_input": "2022-04-04T11:36:24.716629Z",
     "iopub.status.busy": "2022-04-04T11:36:24.715717Z",
     "iopub.status.idle": "2022-04-04T11:36:24.794822Z",
     "shell.execute_reply": "2022-04-04T11:36:24.794327Z",
     "shell.execute_reply.started": "2022-04-04T11:24:53.732425Z"
    },
    "jupyter": {
     "outputs_hidden": false
    },
    "papermill": {
     "duration": 0.244713,
     "end_time": "2022-04-04T11:36:24.794944",
     "exception": false,
     "start_time": "2022-04-04T11:36:24.550231",
     "status": "completed"
    },
    "tags": []
   },
   "outputs": [],
   "source": [
    "final = final.reset_index()"
   ]
  },
  {
   "cell_type": "code",
   "execution_count": 119,
   "id": "00144c27",
   "metadata": {
    "_cell_guid": "d60cb210-4763-4ae6-a6ad-c730a26435f5",
    "_uuid": "80e15014-18ef-4d43-bb8b-31a9be2c41ca",
    "collapsed": false,
    "execution": {
     "iopub.execute_input": "2022-04-04T11:36:25.122728Z",
     "iopub.status.busy": "2022-04-04T11:36:25.121742Z",
     "iopub.status.idle": "2022-04-04T11:36:25.161933Z",
     "shell.execute_reply": "2022-04-04T11:36:25.161457Z",
     "shell.execute_reply.started": "2022-04-04T11:24:53.819884Z"
    },
    "jupyter": {
     "outputs_hidden": false
    },
    "papermill": {
     "duration": 0.206236,
     "end_time": "2022-04-04T11:36:25.162084",
     "exception": false,
     "start_time": "2022-04-04T11:36:24.955848",
     "status": "completed"
    },
    "tags": []
   },
   "outputs": [],
   "source": [
    "final = final.rename(columns = {\"article_id\": \"prediction\"})"
   ]
  },
  {
   "cell_type": "code",
   "execution_count": 120,
   "id": "b0d7175e",
   "metadata": {
    "_cell_guid": "efd90b2c-5aef-4990-a946-6adaf50033b1",
    "_uuid": "02d56c2d-8009-4bd6-8553-6ec0eb292669",
    "collapsed": false,
    "execution": {
     "iopub.execute_input": "2022-04-04T11:36:25.494408Z",
     "iopub.status.busy": "2022-04-04T11:36:25.491892Z",
     "iopub.status.idle": "2022-04-04T11:36:25.498171Z",
     "shell.execute_reply": "2022-04-04T11:36:25.497723Z",
     "shell.execute_reply.started": "2022-04-04T11:24:53.864143Z"
    },
    "jupyter": {
     "outputs_hidden": false
    },
    "papermill": {
     "duration": 0.174829,
     "end_time": "2022-04-04T11:36:25.498293",
     "exception": false,
     "start_time": "2022-04-04T11:36:25.323464",
     "status": "completed"
    },
    "tags": []
   },
   "outputs": [
    {
     "data": {
      "text/html": [
       "<div>\n",
       "<style scoped>\n",
       "    .dataframe tbody tr th:only-of-type {\n",
       "        vertical-align: middle;\n",
       "    }\n",
       "\n",
       "    .dataframe tbody tr th {\n",
       "        vertical-align: top;\n",
       "    }\n",
       "\n",
       "    .dataframe thead th {\n",
       "        text-align: right;\n",
       "    }\n",
       "</style>\n",
       "<table border=\"1\" class=\"dataframe\">\n",
       "  <thead>\n",
       "    <tr style=\"text-align: right;\">\n",
       "      <th></th>\n",
       "      <th>customer_id</th>\n",
       "      <th>prediction</th>\n",
       "    </tr>\n",
       "  </thead>\n",
       "  <tbody>\n",
       "    <tr>\n",
       "      <th>0</th>\n",
       "      <td>-9223352921020755230</td>\n",
       "      <td>0673396002 0860949002 0739590032 0812167004 07...</td>\n",
       "    </tr>\n",
       "    <tr>\n",
       "      <th>1</th>\n",
       "      <td>-9223343869995384291</td>\n",
       "      <td>0908292002 0910601003 0865929007 0903926002 08...</td>\n",
       "    </tr>\n",
       "    <tr>\n",
       "      <th>2</th>\n",
       "      <td>-9223321797620987725</td>\n",
       "      <td>0751471043 0865799006 0918522001 0910601003 09...</td>\n",
       "    </tr>\n",
       "    <tr>\n",
       "      <th>3</th>\n",
       "      <td>-9223319430705797669</td>\n",
       "      <td>0685814003 0448509014 0715624001 0918522001 07...</td>\n",
       "    </tr>\n",
       "    <tr>\n",
       "      <th>4</th>\n",
       "      <td>-9223308614576639426</td>\n",
       "      <td>0872537004 0899282001 0865929003 0865939001 07...</td>\n",
       "    </tr>\n",
       "    <tr>\n",
       "      <th>...</th>\n",
       "      <td>...</td>\n",
       "      <td>...</td>\n",
       "    </tr>\n",
       "    <tr>\n",
       "      <th>1364779</th>\n",
       "      <td>9223319300843860958</td>\n",
       "      <td>0751471001 0751471038 0751471043 0673677002 09...</td>\n",
       "    </tr>\n",
       "    <tr>\n",
       "      <th>1364780</th>\n",
       "      <td>9223333063893176977</td>\n",
       "      <td>0909370001 0865799006 0924243001 0809238001 09...</td>\n",
       "    </tr>\n",
       "    <tr>\n",
       "      <th>1364781</th>\n",
       "      <td>9223345314868180224</td>\n",
       "      <td>0909370001 0717464001 0841383002 0809238001 08...</td>\n",
       "    </tr>\n",
       "    <tr>\n",
       "      <th>1364782</th>\n",
       "      <td>9223357421094039679</td>\n",
       "      <td>0918522001 0751471043 0751471001 0924243001 07...</td>\n",
       "    </tr>\n",
       "    <tr>\n",
       "      <th>1364783</th>\n",
       "      <td>9223370729206611574</td>\n",
       "      <td>0909370001 0909371001 0805947001 0908799002 09...</td>\n",
       "    </tr>\n",
       "  </tbody>\n",
       "</table>\n",
       "<p>1364784 rows × 2 columns</p>\n",
       "</div>"
      ],
      "text/plain": [
       "                 customer_id  \\\n",
       "0       -9223352921020755230   \n",
       "1       -9223343869995384291   \n",
       "2       -9223321797620987725   \n",
       "3       -9223319430705797669   \n",
       "4       -9223308614576639426   \n",
       "...                      ...   \n",
       "1364779  9223319300843860958   \n",
       "1364780  9223333063893176977   \n",
       "1364781  9223345314868180224   \n",
       "1364782  9223357421094039679   \n",
       "1364783  9223370729206611574   \n",
       "\n",
       "                                                prediction  \n",
       "0        0673396002 0860949002 0739590032 0812167004 07...  \n",
       "1        0908292002 0910601003 0865929007 0903926002 08...  \n",
       "2        0751471043 0865799006 0918522001 0910601003 09...  \n",
       "3        0685814003 0448509014 0715624001 0918522001 07...  \n",
       "4        0872537004 0899282001 0865929003 0865939001 07...  \n",
       "...                                                    ...  \n",
       "1364779  0751471001 0751471038 0751471043 0673677002 09...  \n",
       "1364780  0909370001 0865799006 0924243001 0809238001 09...  \n",
       "1364781  0909370001 0717464001 0841383002 0809238001 08...  \n",
       "1364782  0918522001 0751471043 0751471001 0924243001 07...  \n",
       "1364783  0909370001 0909371001 0805947001 0908799002 09...  \n",
       "\n",
       "[1364784 rows x 2 columns]"
      ]
     },
     "execution_count": 120,
     "metadata": {},
     "output_type": "execute_result"
    }
   ],
   "source": [
    "final"
   ]
  },
  {
   "cell_type": "code",
   "execution_count": 121,
   "id": "7983074c",
   "metadata": {
    "_cell_guid": "a53b064c-7c02-4b55-8f59-0899eb5e287f",
    "_uuid": "ea47c8bc-9264-4ad5-a14b-e75d396098e3",
    "collapsed": false,
    "execution": {
     "iopub.execute_input": "2022-04-04T11:36:25.970527Z",
     "iopub.status.busy": "2022-04-04T11:36:25.969888Z",
     "iopub.status.idle": "2022-04-04T11:36:25.975208Z",
     "shell.execute_reply": "2022-04-04T11:36:25.974725Z",
     "shell.execute_reply.started": "2022-04-04T11:24:53.877625Z"
    },
    "jupyter": {
     "outputs_hidden": false
    },
    "papermill": {
     "duration": 0.315705,
     "end_time": "2022-04-04T11:36:25.975345",
     "exception": false,
     "start_time": "2022-04-04T11:36:25.659640",
     "status": "completed"
    },
    "tags": []
   },
   "outputs": [
    {
     "data": {
      "text/plain": [
       "126"
      ]
     },
     "execution_count": 121,
     "metadata": {},
     "output_type": "execute_result"
    }
   ],
   "source": [
    "gc.collect()"
   ]
  },
  {
   "cell_type": "code",
   "execution_count": 122,
   "id": "67aaa113",
   "metadata": {
    "_cell_guid": "9c88db0b-4b6c-49cd-b577-4cb46b089d42",
    "_uuid": "62d5d0f5-410c-4053-a735-fdfcc6ea15d6",
    "collapsed": false,
    "execution": {
     "iopub.execute_input": "2022-04-04T11:36:26.354823Z",
     "iopub.status.busy": "2022-04-04T11:36:26.354041Z",
     "iopub.status.idle": "2022-04-04T11:36:27.272084Z",
     "shell.execute_reply": "2022-04-04T11:36:27.271585Z",
     "shell.execute_reply.started": "2022-04-04T11:24:54.025780Z"
    },
    "jupyter": {
     "outputs_hidden": false
    },
    "papermill": {
     "duration": 1.11599,
     "end_time": "2022-04-04T11:36:27.272218",
     "exception": false,
     "start_time": "2022-04-04T11:36:26.156228",
     "status": "completed"
    },
    "tags": []
   },
   "outputs": [],
   "source": [
    "if Online:\n",
    "    sub  = cudf.read_csv('../input/h-and-m-personalized-fashion-recommendations/sample_submission.csv',\n",
    "                                usecols= ['customer_id'], \n",
    "                                dtype={'customer_id': 'string'})\n",
    "\n",
    "    sub['customer_id2'] = sub['customer_id'].str[-16:].str.hex_to_int().astype('int64')\n",
    "\n",
    "    sub = sub.to_pandas().merge(final, left_on = 'customer_id2', right_on = 'customer_id', how = 'left',\n",
    "                   suffixes = ('', '_ignored'))\n",
    "else:\n",
    "    sub  = cudf.read_csv('../input/h-and-m-personalized-fashion-recommendations/sample_submission.csv',\n",
    "                                usecols= ['customer_id'], \n",
    "                                dtype={'customer_id': 'string'})\n",
    "\n",
    "    sub['customer_id'] = sub['customer_id'].str[-16:].str.hex_to_int().astype('int64')\n",
    "\n",
    "    sub = sub.to_pandas().merge(final, left_on = 'customer_id', right_on = 'customer_id', how = 'left',\n",
    "                   suffixes = ('', '_ignored'))\n",
    "    \n",
    "\n",
    "#sub = sub.to_pandas()\n",
    "\n",
    "\n",
    "#final = sub.groupby([\"customer_id\"])[\"article_id\"].agg(lambda x: \" \".join(x + [general_pred_str]).strip()[:131])\n",
    "\n",
    "# sub['prediction'] = sub['prediction'].fillna(general_pred_str)\n",
    "# sub['prediction'] = sub['prediction'] + ' ' +  general_pred_str\n",
    "# sub['prediction'] = sub['prediction'].str.strip()\n",
    "# sub['prediction'] = sub['prediction'].str[:131]\n",
    "# sub = sub[['customer_id', 'prediction']]\n",
    "# sub.to_csv(f'submission.csv',index=False)"
   ]
  },
  {
   "cell_type": "code",
   "execution_count": 123,
   "id": "0306f053",
   "metadata": {
    "_cell_guid": "943fd4cf-ad93-45d4-a4e4-28048bb18039",
    "_uuid": "a646478c-26d3-4fe1-8120-f789b7351602",
    "collapsed": false,
    "execution": {
     "iopub.execute_input": "2022-04-04T11:36:27.845807Z",
     "iopub.status.busy": "2022-04-04T11:36:27.844961Z",
     "iopub.status.idle": "2022-04-04T11:36:27.852111Z",
     "shell.execute_reply": "2022-04-04T11:36:27.851663Z",
     "shell.execute_reply.started": "2022-04-04T11:24:54.974593Z"
    },
    "jupyter": {
     "outputs_hidden": false
    },
    "papermill": {
     "duration": 0.418493,
     "end_time": "2022-04-04T11:36:27.852243",
     "exception": false,
     "start_time": "2022-04-04T11:36:27.433750",
     "status": "completed"
    },
    "tags": []
   },
   "outputs": [
    {
     "data": {
      "text/plain": [
       "7196"
      ]
     },
     "execution_count": 123,
     "metadata": {},
     "output_type": "execute_result"
    }
   ],
   "source": [
    "sub[\"prediction\"].isna().sum()"
   ]
  },
  {
   "cell_type": "code",
   "execution_count": 124,
   "id": "5879864a",
   "metadata": {
    "_cell_guid": "a59cf2a4-3448-4fd3-8ef4-ccb6842ae93c",
    "_uuid": "5395499e-8e2d-4ff9-b299-2f3751c32ac5",
    "collapsed": false,
    "execution": {
     "iopub.execute_input": "2022-04-04T11:36:28.182812Z",
     "iopub.status.busy": "2022-04-04T11:36:28.182059Z",
     "iopub.status.idle": "2022-04-04T11:36:28.184840Z",
     "shell.execute_reply": "2022-04-04T11:36:28.183328Z",
     "shell.execute_reply.started": "2022-04-04T11:24:55.241001Z"
    },
    "jupyter": {
     "outputs_hidden": false
    },
    "papermill": {
     "duration": 0.17122,
     "end_time": "2022-04-04T11:36:28.184963",
     "exception": false,
     "start_time": "2022-04-04T11:36:28.013743",
     "status": "completed"
    },
    "tags": []
   },
   "outputs": [
    {
     "name": "stdout",
     "output_type": "stream",
     "text": [
      "0909370001 0865799006 0918522001 0924243001 0448509014 0751471001 0809238001 0918292001 0762846027 0809238005 0673677002 0923758001\n"
     ]
    }
   ],
   "source": [
    "if not Only:\n",
    "    print(general_pred_str)"
   ]
  },
  {
   "cell_type": "code",
   "execution_count": 125,
   "id": "71114ae1",
   "metadata": {
    "_cell_guid": "106a5cab-ccb9-4424-b21b-9b171577ceb1",
    "_uuid": "ea2ac64e-6e14-40a4-8d0a-1595416c3f7f",
    "collapsed": false,
    "execution": {
     "iopub.execute_input": "2022-04-04T11:36:28.764559Z",
     "iopub.status.busy": "2022-04-04T11:36:28.763590Z",
     "iopub.status.idle": "2022-04-04T11:36:30.843753Z",
     "shell.execute_reply": "2022-04-04T11:36:30.843265Z",
     "shell.execute_reply.started": "2022-04-04T11:24:55.247797Z"
    },
    "jupyter": {
     "outputs_hidden": false
    },
    "papermill": {
     "duration": 2.494585,
     "end_time": "2022-04-04T11:36:30.843891",
     "exception": false,
     "start_time": "2022-04-04T11:36:28.349306",
     "status": "completed"
    },
    "tags": []
   },
   "outputs": [],
   "source": [
    "if not Only:\n",
    "    sub[\"prediction\"] = sub[\"prediction\"].fillna(general_pred_str)\n",
    "    sub['prediction'] = sub['prediction'] + ' ' +  general_pred_str\n",
    "sub['prediction'] = sub['prediction'].str[:131]"
   ]
  },
  {
   "cell_type": "markdown",
   "id": "264b100a",
   "metadata": {
    "papermill": {
     "duration": 0.168804,
     "end_time": "2022-04-04T11:36:31.186864",
     "exception": false,
     "start_time": "2022-04-04T11:36:31.018060",
     "status": "completed"
    },
    "tags": []
   },
   "source": [
    "## 生成测试集"
   ]
  },
  {
   "cell_type": "code",
   "execution_count": 126,
   "id": "16707b2b",
   "metadata": {
    "_cell_guid": "320d21e0-5c4a-4ef4-a841-c50adf781804",
    "_uuid": "fc0619d6-669b-4244-8691-3005c8641610",
    "collapsed": false,
    "execution": {
     "iopub.execute_input": "2022-04-04T11:36:31.526515Z",
     "iopub.status.busy": "2022-04-04T11:36:31.525642Z",
     "iopub.status.idle": "2022-04-04T11:36:31.527416Z",
     "shell.execute_reply": "2022-04-04T11:36:31.527819Z",
     "shell.execute_reply.started": "2022-04-04T11:24:57.584238Z"
    },
    "jupyter": {
     "outputs_hidden": false
    },
    "papermill": {
     "duration": 0.175866,
     "end_time": "2022-04-04T11:36:31.527948",
     "exception": false,
     "start_time": "2022-04-04T11:36:31.352082",
     "status": "completed"
    },
    "tags": []
   },
   "outputs": [],
   "source": [
    "import datetime\n",
    "if Online:\n",
    "    sub[[\"customer_id\", \"prediction\"]].to_csv(\"sub_sz_{}.csv\".format(datetime.datetime.now().strftime('%Y-%m-%d %H:%M:%S')), index = False)\n",
    "    assert False"
   ]
  },
  {
   "cell_type": "code",
   "execution_count": 127,
   "id": "95d1077d",
   "metadata": {
    "execution": {
     "iopub.execute_input": "2022-04-04T11:36:31.864092Z",
     "iopub.status.busy": "2022-04-04T11:36:31.863531Z",
     "iopub.status.idle": "2022-04-04T11:36:31.867900Z",
     "shell.execute_reply": "2022-04-04T11:36:31.868347Z",
     "shell.execute_reply.started": "2022-04-04T11:24:57.592689Z"
    },
    "papermill": {
     "duration": 0.177797,
     "end_time": "2022-04-04T11:36:31.868491",
     "exception": false,
     "start_time": "2022-04-04T11:36:31.690694",
     "status": "completed"
    },
    "tags": []
   },
   "outputs": [
    {
     "data": {
      "text/html": [
       "<div>\n",
       "<style scoped>\n",
       "    .dataframe tbody tr th:only-of-type {\n",
       "        vertical-align: middle;\n",
       "    }\n",
       "\n",
       "    .dataframe tbody tr th {\n",
       "        vertical-align: top;\n",
       "    }\n",
       "\n",
       "    .dataframe thead th {\n",
       "        text-align: right;\n",
       "    }\n",
       "</style>\n",
       "<table border=\"1\" class=\"dataframe\">\n",
       "  <thead>\n",
       "    <tr style=\"text-align: right;\">\n",
       "      <th></th>\n",
       "      <th>customer_id</th>\n",
       "      <th>prediction</th>\n",
       "    </tr>\n",
       "  </thead>\n",
       "  <tbody>\n",
       "    <tr>\n",
       "      <th>0</th>\n",
       "      <td>6883939031699146327</td>\n",
       "      <td>0568601043 0858856005 0751471001 0751471038 05...</td>\n",
       "    </tr>\n",
       "    <tr>\n",
       "      <th>1</th>\n",
       "      <td>-7200416642310594310</td>\n",
       "      <td>0909370001 0865799006 0826211002 0809238001 09...</td>\n",
       "    </tr>\n",
       "    <tr>\n",
       "      <th>2</th>\n",
       "      <td>-6846340800584936</td>\n",
       "      <td>0794321007 0805000001 0794321011 0791587001 07...</td>\n",
       "    </tr>\n",
       "    <tr>\n",
       "      <th>3</th>\n",
       "      <td>-94071612138601410</td>\n",
       "      <td>0918522001 0751471043 0751471001 0924243001 07...</td>\n",
       "    </tr>\n",
       "    <tr>\n",
       "      <th>4</th>\n",
       "      <td>-283965518499174310</td>\n",
       "      <td>0673677002 0896152002 0791587015 0730683050 09...</td>\n",
       "    </tr>\n",
       "    <tr>\n",
       "      <th>...</th>\n",
       "      <td>...</td>\n",
       "      <td>...</td>\n",
       "    </tr>\n",
       "    <tr>\n",
       "      <th>95</th>\n",
       "      <td>1889187610526549305</td>\n",
       "      <td>0918522001 0751471043 0751471001 0924243001 07...</td>\n",
       "    </tr>\n",
       "    <tr>\n",
       "      <th>96</th>\n",
       "      <td>980241662753680497</td>\n",
       "      <td>0879088001 0685814003 0448509014 0715624001 09...</td>\n",
       "    </tr>\n",
       "    <tr>\n",
       "      <th>97</th>\n",
       "      <td>1444190829146371337</td>\n",
       "      <td>0685814003 0448509014 0715624001 0918522001 07...</td>\n",
       "    </tr>\n",
       "    <tr>\n",
       "      <th>98</th>\n",
       "      <td>1889400186892419753</td>\n",
       "      <td>0897423001 0685814003 0448509014 0715624001 09...</td>\n",
       "    </tr>\n",
       "    <tr>\n",
       "      <th>99</th>\n",
       "      <td>-327473559171145925</td>\n",
       "      <td>0909370001 0865799006 0918522001 0924243001 04...</td>\n",
       "    </tr>\n",
       "  </tbody>\n",
       "</table>\n",
       "<p>100 rows × 2 columns</p>\n",
       "</div>"
      ],
      "text/plain": [
       "            customer_id                                         prediction\n",
       "0   6883939031699146327  0568601043 0858856005 0751471001 0751471038 05...\n",
       "1  -7200416642310594310  0909370001 0865799006 0826211002 0809238001 09...\n",
       "2     -6846340800584936  0794321007 0805000001 0794321011 0791587001 07...\n",
       "3    -94071612138601410  0918522001 0751471043 0751471001 0924243001 07...\n",
       "4   -283965518499174310  0673677002 0896152002 0791587015 0730683050 09...\n",
       "..                  ...                                                ...\n",
       "95  1889187610526549305  0918522001 0751471043 0751471001 0924243001 07...\n",
       "96   980241662753680497  0879088001 0685814003 0448509014 0715624001 09...\n",
       "97  1444190829146371337  0685814003 0448509014 0715624001 0918522001 07...\n",
       "98  1889400186892419753  0897423001 0685814003 0448509014 0715624001 09...\n",
       "99  -327473559171145925  0909370001 0865799006 0918522001 0924243001 04...\n",
       "\n",
       "[100 rows x 2 columns]"
      ]
     },
     "execution_count": 127,
     "metadata": {},
     "output_type": "execute_result"
    }
   ],
   "source": [
    "sub[:100]"
   ]
  },
  {
   "cell_type": "code",
   "execution_count": 128,
   "id": "065983b1",
   "metadata": {
    "_cell_guid": "54209751-6670-4a1b-a268-4a00d4049bc8",
    "_uuid": "cb276dff-05a8-410e-bd5a-c83199c62437",
    "collapsed": false,
    "execution": {
     "iopub.execute_input": "2022-04-04T11:36:32.197825Z",
     "iopub.status.busy": "2022-04-04T11:36:32.197302Z",
     "iopub.status.idle": "2022-04-04T11:36:32.356372Z",
     "shell.execute_reply": "2022-04-04T11:36:32.355876Z",
     "shell.execute_reply.started": "2022-04-04T11:24:57.609542Z"
    },
    "jupyter": {
     "outputs_hidden": false
    },
    "papermill": {
     "duration": 0.326346,
     "end_time": "2022-04-04T11:36:32.356507",
     "exception": false,
     "start_time": "2022-04-04T11:36:32.030161",
     "status": "completed"
    },
    "tags": []
   },
   "outputs": [],
   "source": [
    "sub_id  = cudf.read_csv('../input/h-and-m-personalized-fashion-recommendations/sample_submission.csv',\n",
    "                                usecols= ['customer_id'], \n",
    "                                dtype={'customer_id': 'string'})\n",
    "cid = cudf.DataFrame(sub_id['customer_id'].str[-16:].str.hex_to_int().astype('int64'))"
   ]
  },
  {
   "cell_type": "code",
   "execution_count": 129,
   "id": "b6e866fa",
   "metadata": {
    "_cell_guid": "68573437-c071-4e84-a954-65cc36959a1a",
    "_uuid": "45d4681e-0636-4caa-b3d8-a513efce1075",
    "collapsed": false,
    "execution": {
     "iopub.execute_input": "2022-04-04T11:36:32.689236Z",
     "iopub.status.busy": "2022-04-04T11:36:32.688366Z",
     "iopub.status.idle": "2022-04-04T11:36:32.690084Z",
     "shell.execute_reply": "2022-04-04T11:36:32.690536Z",
     "shell.execute_reply.started": "2022-04-04T11:24:57.774829Z"
    },
    "jupyter": {
     "outputs_hidden": false
    },
    "papermill": {
     "duration": 0.168942,
     "end_time": "2022-04-04T11:36:32.690665",
     "exception": false,
     "start_time": "2022-04-04T11:36:32.521723",
     "status": "completed"
    },
    "tags": []
   },
   "outputs": [],
   "source": [
    "cid[\"customer_id\"] = cid[\"customer_id\"].astype(\"int64\")"
   ]
  },
  {
   "cell_type": "code",
   "execution_count": 130,
   "id": "da1dc702",
   "metadata": {
    "_cell_guid": "12cce383-b9ad-4d5f-9fe6-eff6d2483a16",
    "_uuid": "307594aa-e0b5-4b31-a1e9-3b4bf84487a3",
    "collapsed": false,
    "execution": {
     "iopub.execute_input": "2022-04-04T11:36:33.023538Z",
     "iopub.status.busy": "2022-04-04T11:36:33.022721Z",
     "iopub.status.idle": "2022-04-04T11:36:34.508273Z",
     "shell.execute_reply": "2022-04-04T11:36:34.509542Z",
     "shell.execute_reply.started": "2022-04-04T11:24:57.780618Z"
    },
    "jupyter": {
     "outputs_hidden": false
    },
    "papermill": {
     "duration": 1.655027,
     "end_time": "2022-04-04T11:36:34.509763",
     "exception": false,
     "start_time": "2022-04-04T11:36:32.854736",
     "status": "completed"
    },
    "tags": []
   },
   "outputs": [],
   "source": [
    "def iter_to_str(iterable):\n",
    "    return \" \".join(map(lambda x: str(0) + str(x), iterable))\n",
    "real = val.to_pandas().groupby('customer_id')[\"article_id\"].apply(iter_to_str).reset_index()"
   ]
  },
  {
   "cell_type": "code",
   "execution_count": 131,
   "id": "9c6a9727",
   "metadata": {
    "_cell_guid": "51e901bb-eb02-424d-8804-884e43d71243",
    "_uuid": "942d9d6a-2d85-45c4-aa5f-0c1f9c433f7d",
    "collapsed": false,
    "execution": {
     "iopub.execute_input": "2022-04-04T11:36:34.910322Z",
     "iopub.status.busy": "2022-04-04T11:36:34.909311Z",
     "iopub.status.idle": "2022-04-04T11:36:35.202633Z",
     "shell.execute_reply": "2022-04-04T11:36:35.202136Z",
     "shell.execute_reply.started": "2022-04-04T11:24:59.081687Z"
    },
    "jupyter": {
     "outputs_hidden": false
    },
    "papermill": {
     "duration": 0.469938,
     "end_time": "2022-04-04T11:36:35.202763",
     "exception": false,
     "start_time": "2022-04-04T11:36:34.732825",
     "status": "completed"
    },
    "tags": []
   },
   "outputs": [],
   "source": [
    "real = real.merge(cid.to_pandas(), on='customer_id', how='inner')\n",
    "real.article_id = real.article_id.apply(lambda s: [] if pd.isna(s) else s.split())"
   ]
  },
  {
   "cell_type": "code",
   "execution_count": 132,
   "id": "2da65579",
   "metadata": {
    "_cell_guid": "1eccf81d-77a1-42bd-815e-cb2fd026140f",
    "_uuid": "145942b6-16c3-4af1-881b-1c00eaa5a65f",
    "collapsed": false,
    "execution": {
     "iopub.execute_input": "2022-04-04T11:36:35.538902Z",
     "iopub.status.busy": "2022-04-04T11:36:35.538019Z",
     "iopub.status.idle": "2022-04-04T11:36:35.540366Z",
     "shell.execute_reply": "2022-04-04T11:36:35.539823Z",
     "shell.execute_reply.started": "2022-04-04T11:24:59.378910Z"
    },
    "jupyter": {
     "outputs_hidden": false
    },
    "papermill": {
     "duration": 0.171409,
     "end_time": "2022-04-04T11:36:35.540482",
     "exception": false,
     "start_time": "2022-04-04T11:36:35.369073",
     "status": "completed"
    },
    "tags": []
   },
   "outputs": [],
   "source": [
    "#sub[:10000].groupby([\"customer_id\"])[\"article_id\"].agg(lambda x: \" \".join(x).strip()[:131])"
   ]
  },
  {
   "cell_type": "code",
   "execution_count": 133,
   "id": "2d43be15",
   "metadata": {
    "_cell_guid": "db7125aa-eb4e-47ae-b02f-b8b19790d064",
    "_uuid": "f7fed420-1020-41e8-99c8-9d59df2a4e6b",
    "collapsed": false,
    "execution": {
     "iopub.execute_input": "2022-04-04T11:36:35.873298Z",
     "iopub.status.busy": "2022-04-04T11:36:35.872728Z",
     "iopub.status.idle": "2022-04-04T11:36:35.875528Z",
     "shell.execute_reply": "2022-04-04T11:36:35.875906Z",
     "shell.execute_reply.started": "2022-04-04T11:24:59.389803Z"
    },
    "jupyter": {
     "outputs_hidden": false
    },
    "papermill": {
     "duration": 0.173177,
     "end_time": "2022-04-04T11:36:35.876073",
     "exception": false,
     "start_time": "2022-04-04T11:36:35.702896",
     "status": "completed"
    },
    "tags": []
   },
   "outputs": [],
   "source": [
    "#final"
   ]
  },
  {
   "cell_type": "markdown",
   "id": "9853d0ea",
   "metadata": {
    "_cell_guid": "07bbf10d-d477-4e90-829b-149b44d9d9e9",
    "_uuid": "336b94f7-1eef-4fc6-b9a4-49fee8b48ddc",
    "editable": false,
    "papermill": {
     "duration": 0.163894,
     "end_time": "2022-04-04T11:36:36.202402",
     "exception": false,
     "start_time": "2022-04-04T11:36:36.038508",
     "status": "completed"
    },
    "tags": []
   },
   "source": [
    "## 验证集评估"
   ]
  },
  {
   "cell_type": "code",
   "execution_count": 134,
   "id": "7228e58e",
   "metadata": {
    "_cell_guid": "b52875eb-ab95-4c6f-b3a0-c3e639b28dc0",
    "_uuid": "2bce14f8-317e-411f-9dba-f4d21a92b68f",
    "collapsed": false,
    "execution": {
     "iopub.execute_input": "2022-04-04T11:36:36.669743Z",
     "iopub.status.busy": "2022-04-04T11:36:36.668674Z",
     "iopub.status.idle": "2022-04-04T11:36:36.673065Z",
     "shell.execute_reply": "2022-04-04T11:36:36.672625Z",
     "shell.execute_reply.started": "2022-04-04T11:24:59.398179Z"
    },
    "jupyter": {
     "outputs_hidden": false
    },
    "papermill": {
     "duration": 0.308543,
     "end_time": "2022-04-04T11:36:36.673193",
     "exception": false,
     "start_time": "2022-04-04T11:36:36.364650",
     "status": "completed"
    },
    "tags": []
   },
   "outputs": [
    {
     "data": {
      "text/plain": [
       "63"
      ]
     },
     "execution_count": 134,
     "metadata": {},
     "output_type": "execute_result"
    }
   ],
   "source": [
    "gc.collect()"
   ]
  },
  {
   "cell_type": "code",
   "execution_count": 135,
   "id": "b57bf06d",
   "metadata": {
    "_cell_guid": "94880db5-953b-4202-8a1b-f488afa3858e",
    "_uuid": "77c9edac-445e-4afa-b540-60c5e88fb0a2",
    "collapsed": false,
    "execution": {
     "iopub.execute_input": "2022-04-04T11:36:37.035278Z",
     "iopub.status.busy": "2022-04-04T11:36:37.024631Z",
     "iopub.status.idle": "2022-04-04T11:36:37.102580Z",
     "shell.execute_reply": "2022-04-04T11:36:37.101939Z",
     "shell.execute_reply.started": "2022-04-04T11:24:59.545633Z"
    },
    "jupyter": {
     "outputs_hidden": false
    },
    "papermill": {
     "duration": 0.266338,
     "end_time": "2022-04-04T11:36:37.102771",
     "exception": false,
     "start_time": "2022-04-04T11:36:36.836433",
     "status": "completed"
    },
    "tags": []
   },
   "outputs": [],
   "source": [
    "import numpy as np, pandas as pd, datetime as dt\n",
    "import matplotlib.pyplot as plt; plt.style.use('ggplot')\n",
    "import seaborn as sns\n",
    "from collections import defaultdict\n",
    "\n",
    "def iter_to_str(iterable):\n",
    "    return \" \".join(map(lambda x: str(0) + str(x), iterable))\n",
    "\n",
    "def apk(actual, predicted, k=12):\n",
    "    if len(predicted) > k:\n",
    "        predicted = predicted[:k]\n",
    "    score, nhits = 0.0, 0.0\n",
    "    for i, p in enumerate(predicted):\n",
    "        if p in actual and p not in predicted[:i]:\n",
    "            nhits += 1.0\n",
    "            score += nhits / (i + 1.0)\n",
    "    if not actual:\n",
    "        return 0.0\n",
    "    return score / min(len(actual), k)\n",
    "\n",
    "def mapk(actual, predicted, k=12, return_apks=False):\n",
    "    assert len(actual) == len(predicted)\n",
    "    apks = [apk(ac, pr, k) for ac, pr in zip(actual, predicted) if 0 < len(ac)]\n",
    "    if return_apks:\n",
    "        return apks\n",
    "    return np.mean(apks)\n",
    "\n",
    "def blend(dt, w=[], k=12):\n",
    "    if len(w) == 0:\n",
    "        w = [1] * (len(dt))\n",
    "    preds = []\n",
    "    for i in range(len(w)):\n",
    "        preds.append(dt[i].split())\n",
    "    res = {}\n",
    "    for i in range(len(preds)):\n",
    "        if w[i] < 0:\n",
    "            continue\n",
    "        for n, v in enumerate(preds[i]):\n",
    "            if v in res:\n",
    "                res[v] += (w[i] / (n + 1))\n",
    "            else:\n",
    "                res[v] = (w[i] / (n + 1))    \n",
    "    res = list(dict(sorted(res.items(), key=lambda item: -item[1])).keys())\n",
    "    return ' '.join(res[:k])\n",
    "\n",
    "def prune(pred, ok_set, k=12):\n",
    "    pred = pred.split()\n",
    "    post = []\n",
    "    for item in pred:\n",
    "        if int(item) in ok_set and not item in post:\n",
    "            post.append(item)\n",
    "    return \" \".join(post[:k])\n",
    "\n",
    "def validation(actual, predicted, groups, score=0, index=-1, ignore=False, figsize=(22, 6), name = \"\"):\n",
    "    # actual, predicted : list of lists\n",
    "    # group : pandas Series\n",
    "    # score : pandas DataFrame\n",
    "    if ignore: return\n",
    "    ap12 = mapk(actual, predicted, return_apks=True)\n",
    "    smap12 = round(np.mean(ap12), 6)\n",
    "    group_num = len(groups)\n",
    "    plt.figure(figsize=figsize)\n",
    "    plt.subplot(1, 1+group_num, 1); sns.histplot(data=ap12, log_scale=(0, 10), bins=20); plt.title(f\"MAP@12 : {smap12}\")\n",
    "    count = 2\n",
    "    for name, group in groups.items():\n",
    "        score = pd.DataFrame({g:[] for g in sorted(group.unique().tolist())})\n",
    "        if index == -1 : index = score.shape[0]\n",
    "        score.loc[index, \"All\"] = smap12\n",
    "        for g in group.unique():\n",
    "            map12 = round(mapk(actual[group == g], predicted[group == g]), 6)\n",
    "            score.loc[index, g] = map12\n",
    "        plt.subplot(1, 1+group_num, count)\n",
    "        score[[g for g in sorted(group.unique(), key = lambda x: x if type(x) is np.float64 else float(x.replace(\"(\", \"1\").split(\",\")[0]))[::-1]] + ['All']].loc[index].plot.barh()\n",
    "        plt.title(\"{} MAP@12\".format(name))\n",
    "        count += 1\n",
    "        vc = pd.Series(predicted).apply(len).value_counts()\n",
    "        score.loc[index, \"Fill\"] = round(1 - sum(vc[k] * (12 - k) / 12 for k in (set(range(12)) & set(vc.index))) / len(actual), 3) * 100\n",
    "        display(score)\n",
    "    return score"
   ]
  },
  {
   "cell_type": "code",
   "execution_count": 136,
   "id": "e8a57165",
   "metadata": {
    "_cell_guid": "c5857db9-2cb4-4454-88f0-798fa0b3f65e",
    "_uuid": "1793bb3a-128e-447f-9352-eb2775399e11",
    "collapsed": false,
    "execution": {
     "iopub.execute_input": "2022-04-04T11:36:37.438732Z",
     "iopub.status.busy": "2022-04-04T11:36:37.437918Z",
     "iopub.status.idle": "2022-04-04T11:36:37.460625Z",
     "shell.execute_reply": "2022-04-04T11:36:37.460189Z",
     "shell.execute_reply.started": "2022-04-04T11:24:59.630486Z"
    },
    "jupyter": {
     "outputs_hidden": false
    },
    "papermill": {
     "duration": 0.19397,
     "end_time": "2022-04-04T11:36:37.460735",
     "exception": false,
     "start_time": "2022-04-04T11:36:37.266765",
     "status": "completed"
    },
    "tags": []
   },
   "outputs": [],
   "source": [
    "group = val.groupby('customer_id').sales_channel_id.mean().round().reset_index()\\\n",
    "    .merge(cid, on='customer_id', how='inner').rename(columns={'sales_channel_id':'group'})\n",
    "group = group.set_index('customer_id').loc[real.customer_id].reset_index()\n",
    "channal_group = group.group.fillna(3)"
   ]
  },
  {
   "cell_type": "code",
   "execution_count": 137,
   "id": "d2baacfb",
   "metadata": {
    "_cell_guid": "dcdf2838-545d-4040-94e8-3e649dad87be",
    "_uuid": "2277e667-fa4f-4f5d-8bb0-0fd7ca26c044",
    "collapsed": false,
    "execution": {
     "iopub.execute_input": "2022-04-04T11:36:37.795398Z",
     "iopub.status.busy": "2022-04-04T11:36:37.794328Z",
     "iopub.status.idle": "2022-04-04T11:36:44.428175Z",
     "shell.execute_reply": "2022-04-04T11:36:44.428609Z",
     "shell.execute_reply.started": "2022-04-04T11:24:59.661656Z"
    },
    "jupyter": {
     "outputs_hidden": false
    },
    "papermill": {
     "duration": 6.805446,
     "end_time": "2022-04-04T11:36:44.428780",
     "exception": false,
     "start_time": "2022-04-04T11:36:37.623334",
     "status": "completed"
    },
    "tags": []
   },
   "outputs": [],
   "source": [
    "customer[\"age_type\"] = pd.cut(customer.to_pandas()[\"age\"], bins = np.array([0, 21, 24, 27, 30, 35, 40, 45, 50, 60, 9999], dtype = \"int32\"), right = True).astype(\"string\")\n",
    "group = customer.rename(columns={'age_type':'group'}).set_index('customer_id').loc[real.customer_id].reset_index()\n",
    "age_group = group.group.fillna(\"-1\")"
   ]
  },
  {
   "cell_type": "code",
   "execution_count": 138,
   "id": "a46455e7",
   "metadata": {
    "_cell_guid": "f33c62d5-3d1a-4927-9eaa-f967e7f78698",
    "_uuid": "f699ab78-a7f7-440a-a611-9f16e4ca316a",
    "collapsed": false,
    "execution": {
     "iopub.execute_input": "2022-04-04T11:36:44.788080Z",
     "iopub.status.busy": "2022-04-04T11:36:44.787239Z",
     "iopub.status.idle": "2022-04-04T11:36:44.996833Z",
     "shell.execute_reply": "2022-04-04T11:36:44.996334Z",
     "shell.execute_reply.started": "2022-04-04T11:25:06.042622Z"
    },
    "jupyter": {
     "outputs_hidden": false
    },
    "papermill": {
     "duration": 0.392174,
     "end_time": "2022-04-04T11:36:44.996956",
     "exception": false,
     "start_time": "2022-04-04T11:36:44.604782",
     "status": "completed"
    },
    "tags": []
   },
   "outputs": [],
   "source": [
    "group = val.groupby('customer_id').sales_channel_id.count().round().reset_index()\\\n",
    "    .merge(cid, on='customer_id', how='inner').rename(columns={'sales_channel_id':'group'})\n",
    "group[\"group\"] = pd.cut(group[\"group\"].to_pandas(), bins = np.array([0, 1, 2, 3, 5, 10, 20, 9999], dtype = \"int32\"), right = True).astype(\"string\")\n",
    "group = group.set_index('customer_id').loc[real.customer_id].reset_index()\n",
    "count_group = group.group.fillna(0)"
   ]
  },
  {
   "cell_type": "code",
   "execution_count": 139,
   "id": "fd0c03b6",
   "metadata": {
    "_cell_guid": "49138940-6071-4015-8dc0-0d08685fb3db",
    "_uuid": "0be5e21c-c7e5-43c3-a2f7-3c8d861ae73e",
    "collapsed": false,
    "execution": {
     "iopub.execute_input": "2022-04-04T11:36:45.530418Z",
     "iopub.status.busy": "2022-04-04T11:36:45.529497Z",
     "iopub.status.idle": "2022-04-04T11:36:45.593511Z",
     "shell.execute_reply": "2022-04-04T11:36:45.594499Z",
     "shell.execute_reply.started": "2022-04-04T11:25:06.250317Z"
    },
    "jupyter": {
     "outputs_hidden": false
    },
    "papermill": {
     "duration": 0.337074,
     "end_time": "2022-04-04T11:36:45.594720",
     "exception": false,
     "start_time": "2022-04-04T11:36:45.257646",
     "status": "completed"
    },
    "tags": []
   },
   "outputs": [
    {
     "data": {
      "text/html": [
       "<div>\n",
       "<style scoped>\n",
       "    .dataframe tbody tr th:only-of-type {\n",
       "        vertical-align: middle;\n",
       "    }\n",
       "\n",
       "    .dataframe tbody tr th {\n",
       "        vertical-align: top;\n",
       "    }\n",
       "\n",
       "    .dataframe thead th {\n",
       "        text-align: right;\n",
       "    }\n",
       "</style>\n",
       "<table border=\"1\" class=\"dataframe\">\n",
       "  <thead>\n",
       "    <tr style=\"text-align: right;\">\n",
       "      <th></th>\n",
       "      <th>customer_id</th>\n",
       "    </tr>\n",
       "  </thead>\n",
       "  <tbody>\n",
       "    <tr>\n",
       "      <th>31718581</th>\n",
       "      <td>-9223100958908512198</td>\n",
       "    </tr>\n",
       "    <tr>\n",
       "      <th>31723712</th>\n",
       "      <td>-9223002534477110135</td>\n",
       "    </tr>\n",
       "    <tr>\n",
       "      <th>31668649</th>\n",
       "      <td>-9222810895170663723</td>\n",
       "    </tr>\n",
       "    <tr>\n",
       "      <th>31664044</th>\n",
       "      <td>-9221924794303263774</td>\n",
       "    </tr>\n",
       "    <tr>\n",
       "      <th>31782993</th>\n",
       "      <td>-9221811157628158522</td>\n",
       "    </tr>\n",
       "    <tr>\n",
       "      <th>...</th>\n",
       "      <td>...</td>\n",
       "    </tr>\n",
       "    <tr>\n",
       "      <th>31575924</th>\n",
       "      <td>9221607025486275188</td>\n",
       "    </tr>\n",
       "    <tr>\n",
       "      <th>31692865</th>\n",
       "      <td>9221813808370389952</td>\n",
       "    </tr>\n",
       "    <tr>\n",
       "      <th>31681512</th>\n",
       "      <td>9222310594107555341</td>\n",
       "    </tr>\n",
       "    <tr>\n",
       "      <th>31712352</th>\n",
       "      <td>9223099843213569889</td>\n",
       "    </tr>\n",
       "    <tr>\n",
       "      <th>31622943</th>\n",
       "      <td>9223141695752178477</td>\n",
       "    </tr>\n",
       "  </tbody>\n",
       "</table>\n",
       "<p>68984 rows × 1 columns</p>\n",
       "</div>"
      ],
      "text/plain": [
       "                  customer_id\n",
       "31718581 -9223100958908512198\n",
       "31723712 -9223002534477110135\n",
       "31668649 -9222810895170663723\n",
       "31664044 -9221924794303263774\n",
       "31782993 -9221811157628158522\n",
       "...                       ...\n",
       "31575924  9221607025486275188\n",
       "31692865  9221813808370389952\n",
       "31681512  9222310594107555341\n",
       "31712352  9223099843213569889\n",
       "31622943  9223141695752178477\n",
       "\n",
       "[68984 rows x 1 columns]"
      ]
     },
     "execution_count": 139,
     "metadata": {},
     "output_type": "execute_result"
    }
   ],
   "source": [
    "val[['customer_id']].drop_duplicates()"
   ]
  },
  {
   "cell_type": "code",
   "execution_count": 140,
   "id": "92a7c110",
   "metadata": {
    "_cell_guid": "768e17cd-99ea-4846-a565-dc9f7305e81d",
    "_uuid": "8e2f1665-8ac8-4ac4-82e3-2168e624cb41",
    "collapsed": false,
    "execution": {
     "iopub.execute_input": "2022-04-04T11:36:45.952073Z",
     "iopub.status.busy": "2022-04-04T11:36:45.951280Z",
     "iopub.status.idle": "2022-04-04T11:36:46.188746Z",
     "shell.execute_reply": "2022-04-04T11:36:46.188276Z",
     "shell.execute_reply.started": "2022-04-04T11:25:06.297818Z"
    },
    "jupyter": {
     "outputs_hidden": false
    },
    "papermill": {
     "duration": 0.410945,
     "end_time": "2022-04-04T11:36:46.188876",
     "exception": false,
     "start_time": "2022-04-04T11:36:45.777931",
     "status": "completed"
    },
    "tags": []
   },
   "outputs": [],
   "source": [
    "group = train.groupby('customer_id').sales_channel_id.count().round().reset_index()\\\n",
    "    .merge(val[['customer_id']].drop_duplicates(), on = \"customer_id\", how = \"right\")\\\n",
    "    .merge(cid, on='customer_id', how='inner').rename(columns={'sales_channel_id':'group'})\n",
    "group[\"group\"] = pd.cut(group[\"group\"].to_pandas(), bins = np.array([0, 5, 10, 20, 35, 50, 100], dtype = \"int32\"), right = True).astype(\"string\")\n",
    "group = group.set_index('customer_id').loc[real.customer_id].reset_index()\n",
    "his_count_group = group.group.fillna(0)"
   ]
  },
  {
   "cell_type": "code",
   "execution_count": 141,
   "id": "2d25eaa3",
   "metadata": {
    "_cell_guid": "62c87e1b-9fc7-4002-9984-c8ffa900de38",
    "_uuid": "3b720eee-a973-45db-aad0-468a062508a7",
    "collapsed": false,
    "execution": {
     "iopub.execute_input": "2022-04-04T11:36:46.521619Z",
     "iopub.status.busy": "2022-04-04T11:36:46.520839Z",
     "iopub.status.idle": "2022-04-04T11:36:46.527685Z",
     "shell.execute_reply": "2022-04-04T11:36:46.527257Z",
     "shell.execute_reply.started": "2022-04-04T11:25:06.538995Z"
    },
    "jupyter": {
     "outputs_hidden": false
    },
    "papermill": {
     "duration": 0.175771,
     "end_time": "2022-04-04T11:36:46.527792",
     "exception": false,
     "start_time": "2022-04-04T11:36:46.352021",
     "status": "completed"
    },
    "tags": []
   },
   "outputs": [
    {
     "data": {
      "text/plain": [
       "0        (30.0, 35.0]\n",
       "1        (27.0, 30.0]\n",
       "2         (0.0, 21.0]\n",
       "3        (50.0, 60.0]\n",
       "4        (21.0, 24.0]\n",
       "             ...     \n",
       "68979    (40.0, 45.0]\n",
       "68980    (27.0, 30.0]\n",
       "68981    (30.0, 35.0]\n",
       "68982    (27.0, 30.0]\n",
       "68983     (0.0, 21.0]\n",
       "Name: group, Length: 68984, dtype: object"
      ]
     },
     "execution_count": 141,
     "metadata": {},
     "output_type": "execute_result"
    }
   ],
   "source": [
    "age_group"
   ]
  },
  {
   "cell_type": "code",
   "execution_count": 142,
   "id": "37f7365e",
   "metadata": {
    "_cell_guid": "e1809e19-905d-43a1-af09-3aceb2af08db",
    "_uuid": "f6e05524-2963-4c35-94ec-ae83d3a07d04",
    "collapsed": false,
    "execution": {
     "iopub.execute_input": "2022-04-04T11:36:46.861438Z",
     "iopub.status.busy": "2022-04-04T11:36:46.860604Z",
     "iopub.status.idle": "2022-04-04T11:36:46.874496Z",
     "shell.execute_reply": "2022-04-04T11:36:46.874102Z",
     "shell.execute_reply.started": "2022-04-04T11:25:06.552266Z"
    },
    "jupyter": {
     "outputs_hidden": false
    },
    "papermill": {
     "duration": 0.182679,
     "end_time": "2022-04-04T11:36:46.874608",
     "exception": false,
     "start_time": "2022-04-04T11:36:46.691929",
     "status": "completed"
    },
    "tags": []
   },
   "outputs": [
    {
     "data": {
      "text/plain": [
       "2.0    40829\n",
       "1.0    28155\n",
       "Name: group, dtype: int32"
      ]
     },
     "execution_count": 142,
     "metadata": {},
     "output_type": "execute_result"
    }
   ],
   "source": [
    "channal_group.value_counts()"
   ]
  },
  {
   "cell_type": "code",
   "execution_count": 143,
   "id": "14ece305",
   "metadata": {
    "_cell_guid": "dda23053-1403-4e5d-bff8-9a1d5b71d783",
    "_uuid": "7ae048c4-0875-4e5b-9609-9d027ced58b7",
    "collapsed": false,
    "execution": {
     "iopub.execute_input": "2022-04-04T11:36:47.221185Z",
     "iopub.status.busy": "2022-04-04T11:36:47.219788Z",
     "iopub.status.idle": "2022-04-04T11:36:47.334814Z",
     "shell.execute_reply": "2022-04-04T11:36:47.334353Z",
     "shell.execute_reply.started": "2022-04-04T11:25:06.570956Z"
    },
    "jupyter": {
     "outputs_hidden": false
    },
    "papermill": {
     "duration": 0.288841,
     "end_time": "2022-04-04T11:36:47.334943",
     "exception": false,
     "start_time": "2022-04-04T11:36:47.046102",
     "status": "completed"
    },
    "tags": []
   },
   "outputs": [],
   "source": [
    "sub = sub.set_index('customer_id').loc[real.customer_id].reset_index()"
   ]
  },
  {
   "cell_type": "code",
   "execution_count": 144,
   "id": "bb5ba814",
   "metadata": {
    "_cell_guid": "522dea03-39fb-4dfb-beb9-fd762ae39676",
    "_uuid": "bcef721f-5fe4-4e60-8ccf-da443ac5e5f2",
    "collapsed": false,
    "execution": {
     "iopub.execute_input": "2022-04-04T11:36:47.668499Z",
     "iopub.status.busy": "2022-04-04T11:36:47.667666Z",
     "iopub.status.idle": "2022-04-04T11:36:47.675553Z",
     "shell.execute_reply": "2022-04-04T11:36:47.675984Z",
     "shell.execute_reply.started": "2022-04-04T11:25:06.695333Z"
    },
    "jupyter": {
     "outputs_hidden": false
    },
    "papermill": {
     "duration": 0.177078,
     "end_time": "2022-04-04T11:36:47.676155",
     "exception": false,
     "start_time": "2022-04-04T11:36:47.499077",
     "status": "completed"
    },
    "tags": []
   },
   "outputs": [
    {
     "data": {
      "text/html": [
       "<div>\n",
       "<style scoped>\n",
       "    .dataframe tbody tr th:only-of-type {\n",
       "        vertical-align: middle;\n",
       "    }\n",
       "\n",
       "    .dataframe tbody tr th {\n",
       "        vertical-align: top;\n",
       "    }\n",
       "\n",
       "    .dataframe thead th {\n",
       "        text-align: right;\n",
       "    }\n",
       "</style>\n",
       "<table border=\"1\" class=\"dataframe\">\n",
       "  <thead>\n",
       "    <tr style=\"text-align: right;\">\n",
       "      <th></th>\n",
       "      <th>customer_id</th>\n",
       "      <th>prediction</th>\n",
       "    </tr>\n",
       "  </thead>\n",
       "  <tbody>\n",
       "    <tr>\n",
       "      <th>0</th>\n",
       "      <td>-9223100958908512198</td>\n",
       "      <td>0909911001 0909912001 0899976004 0924645001 09...</td>\n",
       "    </tr>\n",
       "    <tr>\n",
       "      <th>1</th>\n",
       "      <td>-9223002534477110135</td>\n",
       "      <td>0909370001 0158340001 0809238001 0924243001 09...</td>\n",
       "    </tr>\n",
       "    <tr>\n",
       "      <th>2</th>\n",
       "      <td>-9222810895170663723</td>\n",
       "      <td>0568601006 0759814022 0918522001 0685814003 06...</td>\n",
       "    </tr>\n",
       "    <tr>\n",
       "      <th>3</th>\n",
       "      <td>-9221924794303263774</td>\n",
       "      <td>0707269004 0707269003 0892412002 0909370001 09...</td>\n",
       "    </tr>\n",
       "    <tr>\n",
       "      <th>4</th>\n",
       "      <td>-9221811157628158522</td>\n",
       "      <td>0909370001 0448509014 0918522001 0918292001 08...</td>\n",
       "    </tr>\n",
       "    <tr>\n",
       "      <th>...</th>\n",
       "      <td>...</td>\n",
       "      <td>...</td>\n",
       "    </tr>\n",
       "    <tr>\n",
       "      <th>68979</th>\n",
       "      <td>9221607025486275188</td>\n",
       "      <td>0816586002 0673677002 0706016002 0909370001 01...</td>\n",
       "    </tr>\n",
       "    <tr>\n",
       "      <th>68980</th>\n",
       "      <td>9221813808370389952</td>\n",
       "      <td>0654590001 0714790020 0448509014 0749699002 06...</td>\n",
       "    </tr>\n",
       "    <tr>\n",
       "      <th>68981</th>\n",
       "      <td>9222310594107555341</td>\n",
       "      <td>0904416002 0863595002 0863595005 0863646003 09...</td>\n",
       "    </tr>\n",
       "    <tr>\n",
       "      <th>68982</th>\n",
       "      <td>9223099843213569889</td>\n",
       "      <td>0903773002 0776850001 0757909004 0827968004 08...</td>\n",
       "    </tr>\n",
       "    <tr>\n",
       "      <th>68983</th>\n",
       "      <td>9223141695752178477</td>\n",
       "      <td>0918522001 0685814003 0448509014 0918292001 07...</td>\n",
       "    </tr>\n",
       "  </tbody>\n",
       "</table>\n",
       "<p>68984 rows × 2 columns</p>\n",
       "</div>"
      ],
      "text/plain": [
       "               customer_id                                         prediction\n",
       "0     -9223100958908512198  0909911001 0909912001 0899976004 0924645001 09...\n",
       "1     -9223002534477110135  0909370001 0158340001 0809238001 0924243001 09...\n",
       "2     -9222810895170663723  0568601006 0759814022 0918522001 0685814003 06...\n",
       "3     -9221924794303263774  0707269004 0707269003 0892412002 0909370001 09...\n",
       "4     -9221811157628158522  0909370001 0448509014 0918522001 0918292001 08...\n",
       "...                    ...                                                ...\n",
       "68979  9221607025486275188  0816586002 0673677002 0706016002 0909370001 01...\n",
       "68980  9221813808370389952  0654590001 0714790020 0448509014 0749699002 06...\n",
       "68981  9222310594107555341  0904416002 0863595002 0863595005 0863646003 09...\n",
       "68982  9223099843213569889  0903773002 0776850001 0757909004 0827968004 08...\n",
       "68983  9223141695752178477  0918522001 0685814003 0448509014 0918292001 07...\n",
       "\n",
       "[68984 rows x 2 columns]"
      ]
     },
     "execution_count": 144,
     "metadata": {},
     "output_type": "execute_result"
    }
   ],
   "source": [
    "sub"
   ]
  },
  {
   "cell_type": "code",
   "execution_count": 145,
   "id": "ff0df608",
   "metadata": {
    "_cell_guid": "5ec7e047-8de4-4ef5-b1e3-4a4c73371fdf",
    "_uuid": "b6abaaa0-9e18-4b49-b300-79d6e86ac243",
    "collapsed": false,
    "execution": {
     "iopub.execute_input": "2022-04-04T11:36:48.014988Z",
     "iopub.status.busy": "2022-04-04T11:36:48.014082Z",
     "iopub.status.idle": "2022-04-04T11:36:48.029300Z",
     "shell.execute_reply": "2022-04-04T11:36:48.028791Z",
     "shell.execute_reply.started": "2022-04-04T11:25:06.708669Z"
    },
    "jupyter": {
     "outputs_hidden": false
    },
    "papermill": {
     "duration": 0.18853,
     "end_time": "2022-04-04T11:36:48.029420",
     "exception": false,
     "start_time": "2022-04-04T11:36:47.840890",
     "status": "completed"
    },
    "tags": []
   },
   "outputs": [
    {
     "data": {
      "text/plain": [
       "0                17646\n",
       "(50.0, 100.0]    14603\n",
       "(20.0, 35.0]     10527\n",
       "(10.0, 20.0]      8439\n",
       "(35.0, 50.0]      7675\n",
       "(0.0, 5.0]        5210\n",
       "(5.0, 10.0]       4884\n",
       "Name: group, dtype: int32"
      ]
     },
     "execution_count": 145,
     "metadata": {},
     "output_type": "execute_result"
    }
   ],
   "source": [
    "his_count_group.value_counts()"
   ]
  },
  {
   "cell_type": "code",
   "execution_count": 146,
   "id": "4d09c2f3",
   "metadata": {
    "_cell_guid": "b94887b4-a06c-4ad5-bbc9-c0d9fc2cde24",
    "_uuid": "a4f66ce5-62f5-4e40-b0ab-2562620a6803",
    "collapsed": false,
    "execution": {
     "iopub.execute_input": "2022-04-04T11:36:48.386479Z",
     "iopub.status.busy": "2022-04-04T11:36:48.370838Z",
     "iopub.status.idle": "2022-04-04T11:36:48.530350Z",
     "shell.execute_reply": "2022-04-04T11:36:48.529847Z",
     "shell.execute_reply.started": "2022-04-04T11:25:06.732096Z"
    },
    "jupyter": {
     "outputs_hidden": false
    },
    "papermill": {
     "duration": 0.331136,
     "end_time": "2022-04-04T11:36:48.530491",
     "exception": false,
     "start_time": "2022-04-04T11:36:48.199355",
     "status": "completed"
    },
    "tags": []
   },
   "outputs": [],
   "source": [
    "prediction =  sub[\"prediction\"].apply(lambda s: [] if pd.isna(s) else s.split())"
   ]
  },
  {
   "cell_type": "code",
   "execution_count": 147,
   "id": "fcdc97ca",
   "metadata": {
    "_cell_guid": "f4865157-18b1-4407-9d14-787f27fc03c9",
    "_uuid": "32124ecb-23d8-46ea-84bf-697b8aa0e90c",
    "collapsed": false,
    "execution": {
     "iopub.execute_input": "2022-04-04T11:36:48.872706Z",
     "iopub.status.busy": "2022-04-04T11:36:48.871791Z",
     "iopub.status.idle": "2022-04-04T11:36:48.882317Z",
     "shell.execute_reply": "2022-04-04T11:36:48.882722Z",
     "shell.execute_reply.started": "2022-04-04T11:25:06.904411Z"
    },
    "jupyter": {
     "outputs_hidden": false
    },
    "papermill": {
     "duration": 0.184105,
     "end_time": "2022-04-04T11:36:48.882855",
     "exception": false,
     "start_time": "2022-04-04T11:36:48.698750",
     "status": "completed"
    },
    "tags": []
   },
   "outputs": [],
   "source": [
    "groups = {\"channal\":channal_group.to_pandas(),\n",
    "         \"age\":age_group.to_pandas(),\n",
    "         \"val_count\":count_group.to_pandas(),\n",
    "         \"train_count\": his_count_group.to_pandas()}"
   ]
  },
  {
   "cell_type": "code",
   "execution_count": 148,
   "id": "4037286f",
   "metadata": {
    "_cell_guid": "4e13a4ca-b571-4c03-af40-3c326888a68a",
    "_uuid": "bf283679-7c7b-4a5c-953a-02fb07b47c31",
    "collapsed": false,
    "execution": {
     "iopub.execute_input": "2022-04-04T11:36:49.228834Z",
     "iopub.status.busy": "2022-04-04T11:36:49.227998Z",
     "iopub.status.idle": "2022-04-04T11:36:49.242058Z",
     "shell.execute_reply": "2022-04-04T11:36:49.242467Z",
     "shell.execute_reply.started": "2022-04-04T11:25:06.921062Z"
    },
    "jupyter": {
     "outputs_hidden": false
    },
    "papermill": {
     "duration": 0.189035,
     "end_time": "2022-04-04T11:36:49.242602",
     "exception": false,
     "start_time": "2022-04-04T11:36:49.053567",
     "status": "completed"
    },
    "tags": []
   },
   "outputs": [
    {
     "data": {
      "text/plain": [
       "(0, 1]        19994\n",
       "(1, 2]        16386\n",
       "(3, 5]        10928\n",
       "(2, 3]        10075\n",
       "(5, 10]        8668\n",
       "(10, 20]       2571\n",
       "(20, 9999]      362\n",
       "Name: group, dtype: int32"
      ]
     },
     "execution_count": 148,
     "metadata": {},
     "output_type": "execute_result"
    }
   ],
   "source": [
    "count_group.value_counts()"
   ]
  },
  {
   "cell_type": "code",
   "execution_count": 149,
   "id": "77421425",
   "metadata": {
    "_cell_guid": "fc0012d2-919a-4125-a613-0d3e7fefc4ab",
    "_uuid": "e275557c-6ae7-49bb-afb9-b86e174642da",
    "collapsed": false,
    "execution": {
     "iopub.execute_input": "2022-04-04T11:36:49.578459Z",
     "iopub.status.busy": "2022-04-04T11:36:49.576872Z",
     "iopub.status.idle": "2022-04-04T11:36:49.579062Z",
     "shell.execute_reply": "2022-04-04T11:36:49.579468Z",
     "shell.execute_reply.started": "2022-04-04T11:25:06.942261Z"
    },
    "jupyter": {
     "outputs_hidden": false
    },
    "papermill": {
     "duration": 0.170993,
     "end_time": "2022-04-04T11:36:49.579595",
     "exception": false,
     "start_time": "2022-04-04T11:36:49.408602",
     "status": "completed"
    },
    "tags": []
   },
   "outputs": [],
   "source": [
    "#sorted(count_group.to_pandas().unique(), key = lambda x: float(x.replace(\"(\", \"1\").split(\",\")[0]))"
   ]
  },
  {
   "cell_type": "code",
   "execution_count": 150,
   "id": "61b179d1",
   "metadata": {
    "_cell_guid": "b0d5540d-5979-416d-a2d1-0ca1397dd9a4",
    "_uuid": "1dbb2fe2-5714-4fb9-9b0f-667ef769a794",
    "collapsed": false,
    "execution": {
     "iopub.execute_input": "2022-04-04T11:36:49.942418Z",
     "iopub.status.busy": "2022-04-04T11:36:49.927936Z",
     "iopub.status.idle": "2022-04-04T11:36:53.110571Z",
     "shell.execute_reply": "2022-04-04T11:36:53.110966Z",
     "shell.execute_reply.started": "2022-04-04T11:25:06.947726Z"
    },
    "jupyter": {
     "outputs_hidden": false
    },
    "papermill": {
     "duration": 3.365084,
     "end_time": "2022-04-04T11:36:53.111126",
     "exception": false,
     "start_time": "2022-04-04T11:36:49.746042",
     "status": "completed"
    },
    "tags": []
   },
   "outputs": [
    {
     "data": {
      "text/html": [
       "<div>\n",
       "<style scoped>\n",
       "    .dataframe tbody tr th:only-of-type {\n",
       "        vertical-align: middle;\n",
       "    }\n",
       "\n",
       "    .dataframe tbody tr th {\n",
       "        vertical-align: top;\n",
       "    }\n",
       "\n",
       "    .dataframe thead th {\n",
       "        text-align: right;\n",
       "    }\n",
       "</style>\n",
       "<table border=\"1\" class=\"dataframe\">\n",
       "  <thead>\n",
       "    <tr style=\"text-align: right;\">\n",
       "      <th></th>\n",
       "      <th>1.0</th>\n",
       "      <th>2.0</th>\n",
       "      <th>All</th>\n",
       "      <th>Fill</th>\n",
       "    </tr>\n",
       "  </thead>\n",
       "  <tbody>\n",
       "    <tr>\n",
       "      <th>Last Purchase</th>\n",
       "      <td>0.01711</td>\n",
       "      <td>0.033053</td>\n",
       "      <td>0.026546</td>\n",
       "      <td>100.0</td>\n",
       "    </tr>\n",
       "  </tbody>\n",
       "</table>\n",
       "</div>"
      ],
      "text/plain": [
       "                   1.0       2.0       All   Fill\n",
       "Last Purchase  0.01711  0.033053  0.026546  100.0"
      ]
     },
     "metadata": {},
     "output_type": "display_data"
    },
    {
     "data": {
      "text/html": [
       "<div>\n",
       "<style scoped>\n",
       "    .dataframe tbody tr th:only-of-type {\n",
       "        vertical-align: middle;\n",
       "    }\n",
       "\n",
       "    .dataframe tbody tr th {\n",
       "        vertical-align: top;\n",
       "    }\n",
       "\n",
       "    .dataframe thead th {\n",
       "        text-align: right;\n",
       "    }\n",
       "</style>\n",
       "<table border=\"1\" class=\"dataframe\">\n",
       "  <thead>\n",
       "    <tr style=\"text-align: right;\">\n",
       "      <th></th>\n",
       "      <th>(0.0, 21.0]</th>\n",
       "      <th>(21.0, 24.0]</th>\n",
       "      <th>(24.0, 27.0]</th>\n",
       "      <th>(27.0, 30.0]</th>\n",
       "      <th>(30.0, 35.0]</th>\n",
       "      <th>(35.0, 40.0]</th>\n",
       "      <th>(40.0, 45.0]</th>\n",
       "      <th>(45.0, 50.0]</th>\n",
       "      <th>(50.0, 60.0]</th>\n",
       "      <th>(60.0, 9999.0]</th>\n",
       "      <th>-1</th>\n",
       "      <th>All</th>\n",
       "      <th>Fill</th>\n",
       "    </tr>\n",
       "  </thead>\n",
       "  <tbody>\n",
       "    <tr>\n",
       "      <th>Last Purchase</th>\n",
       "      <td>0.023914</td>\n",
       "      <td>0.02535</td>\n",
       "      <td>0.026653</td>\n",
       "      <td>0.026212</td>\n",
       "      <td>0.025941</td>\n",
       "      <td>0.026065</td>\n",
       "      <td>0.02806</td>\n",
       "      <td>0.026293</td>\n",
       "      <td>0.027685</td>\n",
       "      <td>0.03322</td>\n",
       "      <td>0.033332</td>\n",
       "      <td>0.026546</td>\n",
       "      <td>100.0</td>\n",
       "    </tr>\n",
       "  </tbody>\n",
       "</table>\n",
       "</div>"
      ],
      "text/plain": [
       "               (0.0, 21.0]  (21.0, 24.0]  (24.0, 27.0]  (27.0, 30.0]  \\\n",
       "Last Purchase     0.023914       0.02535      0.026653      0.026212   \n",
       "\n",
       "               (30.0, 35.0]  (35.0, 40.0]  (40.0, 45.0]  (45.0, 50.0]  \\\n",
       "Last Purchase      0.025941      0.026065       0.02806      0.026293   \n",
       "\n",
       "               (50.0, 60.0]  (60.0, 9999.0]        -1       All   Fill  \n",
       "Last Purchase      0.027685         0.03322  0.033332  0.026546  100.0  "
      ]
     },
     "metadata": {},
     "output_type": "display_data"
    },
    {
     "data": {
      "text/html": [
       "<div>\n",
       "<style scoped>\n",
       "    .dataframe tbody tr th:only-of-type {\n",
       "        vertical-align: middle;\n",
       "    }\n",
       "\n",
       "    .dataframe tbody tr th {\n",
       "        vertical-align: top;\n",
       "    }\n",
       "\n",
       "    .dataframe thead th {\n",
       "        text-align: right;\n",
       "    }\n",
       "</style>\n",
       "<table border=\"1\" class=\"dataframe\">\n",
       "  <thead>\n",
       "    <tr style=\"text-align: right;\">\n",
       "      <th></th>\n",
       "      <th>(0, 1]</th>\n",
       "      <th>(1, 2]</th>\n",
       "      <th>(10, 20]</th>\n",
       "      <th>(2, 3]</th>\n",
       "      <th>(20, 9999]</th>\n",
       "      <th>(3, 5]</th>\n",
       "      <th>(5, 10]</th>\n",
       "      <th>All</th>\n",
       "      <th>Fill</th>\n",
       "    </tr>\n",
       "  </thead>\n",
       "  <tbody>\n",
       "    <tr>\n",
       "      <th>Last Purchase</th>\n",
       "      <td>0.043914</td>\n",
       "      <td>0.026089</td>\n",
       "      <td>0.012636</td>\n",
       "      <td>0.020594</td>\n",
       "      <td>0.021892</td>\n",
       "      <td>0.015199</td>\n",
       "      <td>0.012893</td>\n",
       "      <td>0.026546</td>\n",
       "      <td>100.0</td>\n",
       "    </tr>\n",
       "  </tbody>\n",
       "</table>\n",
       "</div>"
      ],
      "text/plain": [
       "                 (0, 1]    (1, 2]  (10, 20]    (2, 3]  (20, 9999]    (3, 5]  \\\n",
       "Last Purchase  0.043914  0.026089  0.012636  0.020594    0.021892  0.015199   \n",
       "\n",
       "                (5, 10]       All   Fill  \n",
       "Last Purchase  0.012893  0.026546  100.0  "
      ]
     },
     "metadata": {},
     "output_type": "display_data"
    },
    {
     "data": {
      "text/html": [
       "<div>\n",
       "<style scoped>\n",
       "    .dataframe tbody tr th:only-of-type {\n",
       "        vertical-align: middle;\n",
       "    }\n",
       "\n",
       "    .dataframe tbody tr th {\n",
       "        vertical-align: top;\n",
       "    }\n",
       "\n",
       "    .dataframe thead th {\n",
       "        text-align: right;\n",
       "    }\n",
       "</style>\n",
       "<table border=\"1\" class=\"dataframe\">\n",
       "  <thead>\n",
       "    <tr style=\"text-align: right;\">\n",
       "      <th></th>\n",
       "      <th>(0.0, 5.0]</th>\n",
       "      <th>(10.0, 20.0]</th>\n",
       "      <th>(20.0, 35.0]</th>\n",
       "      <th>(35.0, 50.0]</th>\n",
       "      <th>(5.0, 10.0]</th>\n",
       "      <th>(50.0, 100.0]</th>\n",
       "      <th>0</th>\n",
       "      <th>All</th>\n",
       "      <th>Fill</th>\n",
       "    </tr>\n",
       "  </thead>\n",
       "  <tbody>\n",
       "    <tr>\n",
       "      <th>Last Purchase</th>\n",
       "      <td>0.033311</td>\n",
       "      <td>0.028422</td>\n",
       "      <td>0.026598</td>\n",
       "      <td>0.025891</td>\n",
       "      <td>0.029575</td>\n",
       "      <td>0.02785</td>\n",
       "      <td>0.021988</td>\n",
       "      <td>0.026546</td>\n",
       "      <td>100.0</td>\n",
       "    </tr>\n",
       "  </tbody>\n",
       "</table>\n",
       "</div>"
      ],
      "text/plain": [
       "               (0.0, 5.0]  (10.0, 20.0]  (20.0, 35.0]  (35.0, 50.0]  \\\n",
       "Last Purchase    0.033311      0.028422      0.026598      0.025891   \n",
       "\n",
       "               (5.0, 10.0]  (50.0, 100.0]         0       All   Fill  \n",
       "Last Purchase     0.029575        0.02785  0.021988  0.026546  100.0  "
      ]
     },
     "metadata": {},
     "output_type": "display_data"
    },
    {
     "data": {
      "image/png": "[encoded data removed]",
      "text/plain": [
       "<Figure size 1584x432 with 5 Axes>"
      ]
     },
     "metadata": {},
     "output_type": "display_data"
    }
   ],
   "source": [
    "score = validation(real.article_id, prediction, groups, index='Last Purchase', ignore=0)"
   ]
  },
  {
   "cell_type": "raw",
   "id": "fc4a0a53",
   "metadata": {
    "_cell_guid": "7602c044-6578-4bc8-b96d-f548f09dcb09",
    "_uuid": "ce515283-4b55-4474-ad5b-1994fbf9fe9b",
    "jupyter": {
     "outputs_hidden": false
    },
    "papermill": {
     "duration": 0.169251,
     "end_time": "2022-04-04T11:36:53.450152",
     "exception": false,
     "start_time": "2022-04-04T11:36:53.280901",
     "status": "completed"
    },
    "tags": []
   },
   "source": [
    "##### del merge_result\n",
    "del sub\n",
    "del real\n",
    "del prediction\n",
    "del groups\n",
    "del cid\n",
    "del sub_id\n",
    "gc.collect()"
   ]
  }
 ],
 "metadata": {
  "kernelspec": {
   "display_name": "Python 3",
   "language": "python",
   "name": "python3"
  },
  "language_info": {
   "codemirror_mode": {
    "name": "ipython",
    "version": 3
   },
   "file_extension": ".py",
   "mimetype": "text/x-python",
   "name": "python",
   "nbconvert_exporter": "python",
   "pygments_lexer": "ipython3",
   "version": "3.7.12"
  },
  "papermill": {
   "default_parameters": {},
   "duration": 273.061176,
   "end_time": "2022-04-04T11:36:55.635156",
   "environment_variables": {},
   "exception": null,
   "input_path": "__notebook__.ipynb",
   "output_path": "__notebook__.ipynb",
   "parameters": {},
   "start_time": "2022-04-04T11:32:22.573980",
   "version": "2.3.3"
  }
 },
 "nbformat": 4,
 "nbformat_minor": 5
}
