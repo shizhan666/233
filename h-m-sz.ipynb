{
 "cells": [
  {
   "cell_type": "code",
   "execution_count": 1,
   "id": "f164fcd2",
   "metadata": {
    "_cell_guid": "943588d1-5a68-423d-8467-cf160a3d8ebe",
    "_uuid": "87c89b79-df99-4e99-bf2e-f62a5d325cc4",
    "collapsed": false,
    "execution": {
     "iopub.execute_input": "2022-03-28T04:24:03.740494Z",
     "iopub.status.busy": "2022-03-28T04:24:03.739673Z",
     "iopub.status.idle": "2022-03-28T04:24:16.938088Z",
     "shell.execute_reply": "2022-03-28T04:24:16.937452Z",
     "shell.execute_reply.started": "2022-03-28T03:26:52.579345Z"
    },
    "jupyter": {
     "outputs_hidden": false
    },
    "papermill": {
     "duration": 13.355863,
     "end_time": "2022-03-28T04:24:16.938258",
     "exception": false,
     "start_time": "2022-03-28T04:24:03.582395",
     "status": "completed"
    },
    "tags": []
   },
   "outputs": [
    {
     "name": "stdout",
     "output_type": "stream",
     "text": [
      "Requirement already satisfied: cudf in /opt/conda/lib/python3.7/site-packages (21.10.1)\r\n",
      "Requirement already satisfied: numba>=0.53.1 in /opt/conda/lib/python3.7/site-packages (from cudf) (0.54.1)\r\n",
      "Requirement already satisfied: Cython<0.30,>=0.29 in /opt/conda/lib/python3.7/site-packages (from cudf) (0.29.28)\r\n",
      "Requirement already satisfied: fastavro>=0.22.9 in /opt/conda/lib/python3.7/site-packages (from cudf) (1.4.9)\r\n",
      "Requirement already satisfied: fsspec>=0.6.0 in /opt/conda/lib/python3.7/site-packages (from cudf) (2022.2.0)\r\n",
      "Requirement already satisfied: numpy in /opt/conda/lib/python3.7/site-packages (from cudf) (1.20.3)\r\n",
      "Requirement already satisfied: pandas<1.4.0dev0,>=1.0 in /opt/conda/lib/python3.7/site-packages (from cudf) (1.3.5)\r\n",
      "Requirement already satisfied: typing_extensions in /opt/conda/lib/python3.7/site-packages (from cudf) (4.1.1)\r\n",
      "Requirement already satisfied: protobuf in /opt/conda/lib/python3.7/site-packages (from cudf) (3.19.1)\r\n",
      "Requirement already satisfied: nvtx>=0.2.1 in /opt/conda/lib/python3.7/site-packages (from cudf) (0.2.3)\r\n",
      "Requirement already satisfied: cachetools in /opt/conda/lib/python3.7/site-packages (from cudf) (4.2.4)\r\n",
      "Requirement already satisfied: packaging in /opt/conda/lib/python3.7/site-packages (from cudf) (21.3)\r\n",
      "Requirement already satisfied: cupy-cuda110 in /opt/conda/lib/python3.7/site-packages (from cudf) (10.2.0)\r\n",
      "Requirement already satisfied: llvmlite<0.38,>=0.37.0rc1 in /opt/conda/lib/python3.7/site-packages (from numba>=0.53.1->cudf) (0.37.0)\r\n",
      "Requirement already satisfied: setuptools in /opt/conda/lib/python3.7/site-packages (from numba>=0.53.1->cudf) (59.5.0)\r\n",
      "Requirement already satisfied: python-dateutil>=2.7.3 in /opt/conda/lib/python3.7/site-packages (from pandas<1.4.0dev0,>=1.0->cudf) (2.8.2)\r\n",
      "Requirement already satisfied: pytz>=2017.3 in /opt/conda/lib/python3.7/site-packages (from pandas<1.4.0dev0,>=1.0->cudf) (2021.3)\r\n",
      "Requirement already satisfied: fastrlock>=0.5 in /opt/conda/lib/python3.7/site-packages (from cupy-cuda110->cudf) (0.8)\r\n",
      "Requirement already satisfied: pyparsing!=3.0.5,>=2.0.2 in /opt/conda/lib/python3.7/site-packages (from packaging->cudf) (3.0.6)\r\n",
      "Requirement already satisfied: six>=1.5 in /opt/conda/lib/python3.7/site-packages (from python-dateutil>=2.7.3->pandas<1.4.0dev0,>=1.0->cudf) (1.16.0)\r\n",
      "\u001b[33mWARNING: Running pip as the 'root' user can result in broken permissions and conflicting behaviour with the system package manager. It is recommended to use a virtual environment instead: https://pip.pypa.io/warnings/venv\u001b[0m\r\n"
     ]
    }
   ],
   "source": [
    "!pip install cudf\n",
    "import numpy as np\n",
    "import pandas as pd \n",
    "from datetime import datetime, timedelta\n",
    "import gc\n",
    "import cudf\n",
    "import cv2, matplotlib.pyplot as plt\n",
    "from os.path import exists"
   ]
  },
  {
   "cell_type": "code",
   "execution_count": 2,
   "id": "fd50332b",
   "metadata": {
    "execution": {
     "iopub.execute_input": "2022-03-28T04:24:17.230404Z",
     "iopub.status.busy": "2022-03-28T04:24:17.228812Z",
     "iopub.status.idle": "2022-03-28T04:24:17.230961Z",
     "shell.execute_reply": "2022-03-28T04:24:17.231393Z",
     "shell.execute_reply.started": "2022-03-28T03:27:06.065031Z"
    },
    "papermill": {
     "duration": 0.148895,
     "end_time": "2022-03-28T04:24:17.231536",
     "exception": false,
     "start_time": "2022-03-28T04:24:17.082641",
     "status": "completed"
    },
    "tags": []
   },
   "outputs": [],
   "source": [
    "Online = False"
   ]
  },
  {
   "cell_type": "markdown",
   "id": "dfd8e862",
   "metadata": {
    "_cell_guid": "8f45c56c-8de5-4a93-896b-80dc8c3005fa",
    "_uuid": "3e5aa678-d15b-457d-8a0f-c4a59a8f4c8a",
    "editable": false,
    "papermill": {
     "duration": 0.139415,
     "end_time": "2022-03-28T04:24:17.510503",
     "exception": false,
     "start_time": "2022-03-28T04:24:17.371088",
     "status": "completed"
    },
    "tags": []
   },
   "source": [
    "### Read the transactions data"
   ]
  },
  {
   "cell_type": "code",
   "execution_count": 3,
   "id": "3ad6f222",
   "metadata": {
    "_cell_guid": "8b3aee1b-7f84-47d3-82cb-a5bdbbf77e31",
    "_uuid": "c6c96268-5baf-4620-a4e7-1032a366906d",
    "collapsed": false,
    "execution": {
     "iopub.execute_input": "2022-03-28T04:24:17.798260Z",
     "iopub.status.busy": "2022-03-28T04:24:17.797451Z",
     "iopub.status.idle": "2022-03-28T04:24:17.800094Z",
     "shell.execute_reply": "2022-03-28T04:24:17.799670Z",
     "shell.execute_reply.started": "2022-03-28T03:27:06.073156Z"
    },
    "jupyter": {
     "outputs_hidden": false
    },
    "papermill": {
     "duration": 0.150324,
     "end_time": "2022-03-28T04:24:17.800240",
     "exception": false,
     "start_time": "2022-03-28T04:24:17.649916",
     "status": "completed"
    },
    "tags": []
   },
   "outputs": [],
   "source": [
    "Date_week1 = pd.to_datetime(\"2020-09-16\")\n",
    "Date_week2 = pd.to_datetime(\"2020-09-09\")\n",
    "Date_week3 = pd.to_datetime(\"2020-09-02\")\n",
    "Last_date = pd.to_datetime(\"2020-09-22\")"
   ]
  },
  {
   "cell_type": "code",
   "execution_count": 4,
   "id": "d48a3676",
   "metadata": {
    "_cell_guid": "42f55d04-09d5-4696-8c51-e25287bf8445",
    "_uuid": "f016e503-1e3c-45de-85b1-b8cd495d8f50",
    "collapsed": false,
    "execution": {
     "iopub.execute_input": "2022-03-28T04:24:18.089542Z",
     "iopub.status.busy": "2022-03-28T04:24:18.087789Z",
     "iopub.status.idle": "2022-03-28T04:24:18.090154Z",
     "shell.execute_reply": "2022-03-28T04:24:18.090574Z",
     "shell.execute_reply.started": "2022-03-28T03:27:06.087289Z"
    },
    "jupyter": {
     "outputs_hidden": false
    },
    "papermill": {
     "duration": 0.147798,
     "end_time": "2022-03-28T04:24:18.090718",
     "exception": false,
     "start_time": "2022-03-28T04:24:17.942920",
     "status": "completed"
    },
    "tags": []
   },
   "outputs": [],
   "source": [
    "N = 12"
   ]
  },
  {
   "cell_type": "code",
   "execution_count": 5,
   "id": "d66535cc",
   "metadata": {
    "_cell_guid": "f5173183-3b25-48a8-a23c-dc86064cdc05",
    "_uuid": "457cc772-8110-417f-88fd-bc20a5628c85",
    "collapsed": false,
    "execution": {
     "iopub.execute_input": "2022-03-28T04:24:18.376917Z",
     "iopub.status.busy": "2022-03-28T04:24:18.376377Z",
     "iopub.status.idle": "2022-03-28T04:24:57.935872Z",
     "shell.execute_reply": "2022-03-28T04:24:57.935359Z",
     "shell.execute_reply.started": "2022-03-28T03:27:06.094874Z"
    },
    "jupyter": {
     "outputs_hidden": false
    },
    "papermill": {
     "duration": 39.703573,
     "end_time": "2022-03-28T04:24:57.936017",
     "exception": false,
     "start_time": "2022-03-28T04:24:18.232444",
     "status": "completed"
    },
    "tags": []
   },
   "outputs": [],
   "source": [
    "df  = cudf.read_csv('../input/h-and-m-personalized-fashion-recommendations/transactions_train.csv')\n",
    "                            #usecols= ['t_dat', 'customer_id', 'article_id'], \n",
    "                            #dtype={'article_id': 'int32', 't_dat': 'string', 'customer_id': 'string', \"sales_channel_id\": 'int32', \"price\": \"float\"})\n",
    "df ['customer_id'] = df ['customer_id'].str[-16:].str.hex_to_int().astype('int64')\n",
    "df.article_id = df.article_id.astype('int32')\n",
    "df['t_dat'] = cudf.to_datetime(df['t_dat'])\n",
    "#Last_date = df['t_dat'].max()"
   ]
  },
  {
   "cell_type": "code",
   "execution_count": 6,
   "id": "0a922797",
   "metadata": {
    "_cell_guid": "bac53a65-cb48-4e0e-86aa-0d5fbcb9ea43",
    "_uuid": "ee0ba74a-ccf5-4e41-992a-3e5586de5ef9",
    "collapsed": false,
    "execution": {
     "iopub.execute_input": "2022-03-28T04:24:58.230066Z",
     "iopub.status.busy": "2022-03-28T04:24:58.229448Z",
     "iopub.status.idle": "2022-03-28T04:24:58.294205Z",
     "shell.execute_reply": "2022-03-28T04:24:58.294629Z",
     "shell.execute_reply.started": "2022-03-28T03:27:41.333669Z"
    },
    "jupyter": {
     "outputs_hidden": false
    },
    "papermill": {
     "duration": 0.219431,
     "end_time": "2022-03-28T04:24:58.294768",
     "exception": false,
     "start_time": "2022-03-28T04:24:58.075337",
     "status": "completed"
    },
    "tags": []
   },
   "outputs": [
    {
     "data": {
      "text/html": [
       "<div>\n",
       "<style scoped>\n",
       "    .dataframe tbody tr th:only-of-type {\n",
       "        vertical-align: middle;\n",
       "    }\n",
       "\n",
       "    .dataframe tbody tr th {\n",
       "        vertical-align: top;\n",
       "    }\n",
       "\n",
       "    .dataframe thead th {\n",
       "        text-align: right;\n",
       "    }\n",
       "</style>\n",
       "<table border=\"1\" class=\"dataframe\">\n",
       "  <thead>\n",
       "    <tr style=\"text-align: right;\">\n",
       "      <th></th>\n",
       "      <th>t_dat</th>\n",
       "      <th>customer_id</th>\n",
       "      <th>article_id</th>\n",
       "      <th>price</th>\n",
       "      <th>sales_channel_id</th>\n",
       "    </tr>\n",
       "  </thead>\n",
       "  <tbody>\n",
       "    <tr>\n",
       "      <th>0</th>\n",
       "      <td>2018-09-20</td>\n",
       "      <td>-6846340800584936</td>\n",
       "      <td>663713001</td>\n",
       "      <td>0.050831</td>\n",
       "      <td>2</td>\n",
       "    </tr>\n",
       "    <tr>\n",
       "      <th>1</th>\n",
       "      <td>2018-09-20</td>\n",
       "      <td>-6846340800584936</td>\n",
       "      <td>541518023</td>\n",
       "      <td>0.030492</td>\n",
       "      <td>2</td>\n",
       "    </tr>\n",
       "    <tr>\n",
       "      <th>2</th>\n",
       "      <td>2018-09-20</td>\n",
       "      <td>-8334631767138808638</td>\n",
       "      <td>505221004</td>\n",
       "      <td>0.015237</td>\n",
       "      <td>2</td>\n",
       "    </tr>\n",
       "    <tr>\n",
       "      <th>3</th>\n",
       "      <td>2018-09-20</td>\n",
       "      <td>-8334631767138808638</td>\n",
       "      <td>685687003</td>\n",
       "      <td>0.016932</td>\n",
       "      <td>2</td>\n",
       "    </tr>\n",
       "    <tr>\n",
       "      <th>4</th>\n",
       "      <td>2018-09-20</td>\n",
       "      <td>-8334631767138808638</td>\n",
       "      <td>685687004</td>\n",
       "      <td>0.016932</td>\n",
       "      <td>2</td>\n",
       "    </tr>\n",
       "    <tr>\n",
       "      <th>...</th>\n",
       "      <td>...</td>\n",
       "      <td>...</td>\n",
       "      <td>...</td>\n",
       "      <td>...</td>\n",
       "      <td>...</td>\n",
       "    </tr>\n",
       "    <tr>\n",
       "      <th>31788319</th>\n",
       "      <td>2020-09-22</td>\n",
       "      <td>4685485978980270934</td>\n",
       "      <td>929511001</td>\n",
       "      <td>0.059305</td>\n",
       "      <td>2</td>\n",
       "    </tr>\n",
       "    <tr>\n",
       "      <th>31788320</th>\n",
       "      <td>2020-09-22</td>\n",
       "      <td>4685485978980270934</td>\n",
       "      <td>891322004</td>\n",
       "      <td>0.042356</td>\n",
       "      <td>2</td>\n",
       "    </tr>\n",
       "    <tr>\n",
       "      <th>31788321</th>\n",
       "      <td>2020-09-22</td>\n",
       "      <td>3959348689921271969</td>\n",
       "      <td>918325001</td>\n",
       "      <td>0.043203</td>\n",
       "      <td>1</td>\n",
       "    </tr>\n",
       "    <tr>\n",
       "      <th>31788322</th>\n",
       "      <td>2020-09-22</td>\n",
       "      <td>-8639340045377511665</td>\n",
       "      <td>833459002</td>\n",
       "      <td>0.006763</td>\n",
       "      <td>1</td>\n",
       "    </tr>\n",
       "    <tr>\n",
       "      <th>31788323</th>\n",
       "      <td>2020-09-22</td>\n",
       "      <td>3235222691137941515</td>\n",
       "      <td>898573003</td>\n",
       "      <td>0.033881</td>\n",
       "      <td>2</td>\n",
       "    </tr>\n",
       "  </tbody>\n",
       "</table>\n",
       "<p>31788324 rows × 5 columns</p>\n",
       "</div>"
      ],
      "text/plain": [
       "              t_dat          customer_id  article_id     price  \\\n",
       "0        2018-09-20    -6846340800584936   663713001  0.050831   \n",
       "1        2018-09-20    -6846340800584936   541518023  0.030492   \n",
       "2        2018-09-20 -8334631767138808638   505221004  0.015237   \n",
       "3        2018-09-20 -8334631767138808638   685687003  0.016932   \n",
       "4        2018-09-20 -8334631767138808638   685687004  0.016932   \n",
       "...             ...                  ...         ...       ...   \n",
       "31788319 2020-09-22  4685485978980270934   929511001  0.059305   \n",
       "31788320 2020-09-22  4685485978980270934   891322004  0.042356   \n",
       "31788321 2020-09-22  3959348689921271969   918325001  0.043203   \n",
       "31788322 2020-09-22 -8639340045377511665   833459002  0.006763   \n",
       "31788323 2020-09-22  3235222691137941515   898573003  0.033881   \n",
       "\n",
       "          sales_channel_id  \n",
       "0                        2  \n",
       "1                        2  \n",
       "2                        2  \n",
       "3                        2  \n",
       "4                        2  \n",
       "...                    ...  \n",
       "31788319                 2  \n",
       "31788320                 2  \n",
       "31788321                 1  \n",
       "31788322                 1  \n",
       "31788323                 2  \n",
       "\n",
       "[31788324 rows x 5 columns]"
      ]
     },
     "execution_count": 6,
     "metadata": {},
     "output_type": "execute_result"
    }
   ],
   "source": [
    "df"
   ]
  },
  {
   "cell_type": "markdown",
   "id": "5cb69397",
   "metadata": {
    "_cell_guid": "a2bb9afc-941f-4d6d-8626-08a24cc75596",
    "_uuid": "bc214126-6a44-4324-b210-7d7128d4135c",
    "editable": false,
    "papermill": {
     "duration": 0.140496,
     "end_time": "2022-03-28T04:24:58.572828",
     "exception": false,
     "start_time": "2022-03-28T04:24:58.432332",
     "status": "completed"
    },
    "tags": []
   },
   "source": [
    "## 划分训练集和验证集"
   ]
  },
  {
   "cell_type": "code",
   "execution_count": 7,
   "id": "14b7f5a6",
   "metadata": {
    "_cell_guid": "355420f0-15d4-4897-8c8b-51774593e37a",
    "_uuid": "6be7cca0-d9d3-4073-bf36-b2ebd1ff67f3",
    "collapsed": false,
    "execution": {
     "iopub.execute_input": "2022-03-28T04:24:58.871646Z",
     "iopub.status.busy": "2022-03-28T04:24:58.867966Z",
     "iopub.status.idle": "2022-03-28T04:24:58.925877Z",
     "shell.execute_reply": "2022-03-28T04:24:58.925406Z",
     "shell.execute_reply.started": "2022-03-28T03:27:41.468083Z"
    },
    "jupyter": {
     "outputs_hidden": false
    },
    "papermill": {
     "duration": 0.207157,
     "end_time": "2022-03-28T04:24:58.926008",
     "exception": false,
     "start_time": "2022-03-28T04:24:58.718851",
     "status": "completed"
    },
    "tags": []
   },
   "outputs": [],
   "source": [
    "if not Online:\n",
    "    val = df[df['t_dat']>= Date_week1].copy()\n",
    "    train = df[df['t_dat']< Date_week1].copy()\n",
    "    Last_date = pd.to_datetime(\"2020-09-15\")\n",
    "if Online:\n",
    "    train = df"
   ]
  },
  {
   "cell_type": "markdown",
   "id": "8923eb65",
   "metadata": {
    "_cell_guid": "999e62e2-bc69-4e57-8257-a697a4624746",
    "_uuid": "1ee572b2-3480-4409-bc02-907628099774",
    "editable": false,
    "papermill": {
     "duration": 0.149635,
     "end_time": "2022-03-28T04:24:59.221266",
     "exception": false,
     "start_time": "2022-03-28T04:24:59.071631",
     "status": "completed"
    },
    "tags": []
   },
   "source": [
    "## 第一路：复购预测"
   ]
  },
  {
   "cell_type": "code",
   "execution_count": 8,
   "id": "4b75ebdd",
   "metadata": {
    "_cell_guid": "bff88d78-99b3-4e25-ac4b-b7cc4157ceee",
    "_uuid": "1dabaf8d-b904-4d4c-a584-cdfaf4199a39",
    "collapsed": false,
    "execution": {
     "iopub.execute_input": "2022-03-28T04:24:59.514328Z",
     "iopub.status.busy": "2022-03-28T04:24:59.513548Z",
     "iopub.status.idle": "2022-03-28T04:24:59.520624Z",
     "shell.execute_reply": "2022-03-28T04:24:59.520133Z",
     "shell.execute_reply.started": "2022-03-28T03:27:41.536666Z"
    },
    "jupyter": {
     "outputs_hidden": false
    },
    "papermill": {
     "duration": 0.150824,
     "end_time": "2022-03-28T04:24:59.520743",
     "exception": false,
     "start_time": "2022-03-28T04:24:59.369919",
     "status": "completed"
    },
    "tags": []
   },
   "outputs": [],
   "source": [
    "df = train.copy()"
   ]
  },
  {
   "cell_type": "code",
   "execution_count": 9,
   "id": "3a80b25f",
   "metadata": {
    "_cell_guid": "032f0009-7b2d-434f-892c-22d7362be933",
    "_uuid": "c445f3e2-77ca-4e38-ae10-9d0150b0ef87",
    "collapsed": false,
    "execution": {
     "iopub.execute_input": "2022-03-28T04:24:59.972670Z",
     "iopub.status.busy": "2022-03-28T04:24:59.971832Z",
     "iopub.status.idle": "2022-03-28T04:25:07.886949Z",
     "shell.execute_reply": "2022-03-28T04:25:07.887527Z",
     "shell.execute_reply.started": "2022-03-28T03:27:41.562224Z"
    },
    "jupyter": {
     "outputs_hidden": false
    },
    "papermill": {
     "duration": 8.152547,
     "end_time": "2022-03-28T04:25:07.887692",
     "exception": false,
     "start_time": "2022-03-28T04:24:59.735145",
     "status": "completed"
    },
    "tags": []
   },
   "outputs": [
    {
     "name": "stdout",
     "output_type": "stream",
     "text": [
      "CPU times: user 6.42 s, sys: 1.63 s, total: 8.05 s\n",
      "Wall time: 7.91 s\n"
     ]
    }
   ],
   "source": [
    "%%time\n",
    "tmp = df[['t_dat']].copy().to_pandas()\n",
    "tmp['dow'] = tmp['t_dat'].dt.dayofweek\n",
    "tmp['ldbw'] = tmp['t_dat'] - pd.TimedeltaIndex(tmp['dow'] - 1, unit='D')\n",
    "tmp.loc[tmp['dow'] >=2 , 'ldbw'] = tmp.loc[tmp['dow'] >=2 , 'ldbw'] + pd.TimedeltaIndex(np.ones(len(tmp.loc[tmp['dow'] >=2])) * 7, unit='D')\n",
    "df['ldbw'] = tmp['ldbw'].values"
   ]
  },
  {
   "cell_type": "code",
   "execution_count": 10,
   "id": "86957ad7",
   "metadata": {
    "_cell_guid": "98650a14-be49-4ea6-932d-46db33e46a52",
    "_uuid": "e2d8bb01-263f-443e-91e0-c13ac5a6cb78",
    "collapsed": false,
    "execution": {
     "iopub.execute_input": "2022-03-28T04:25:08.175072Z",
     "iopub.status.busy": "2022-03-28T04:25:08.174273Z",
     "iopub.status.idle": "2022-03-28T04:25:08.310414Z",
     "shell.execute_reply": "2022-03-28T04:25:08.309857Z",
     "shell.execute_reply.started": "2022-03-28T03:27:50.397456Z"
    },
    "jupyter": {
     "outputs_hidden": false
    },
    "papermill": {
     "duration": 0.280482,
     "end_time": "2022-03-28T04:25:08.310552",
     "exception": false,
     "start_time": "2022-03-28T04:25:08.030070",
     "status": "completed"
    },
    "tags": []
   },
   "outputs": [],
   "source": [
    "weekly_sales = df.drop('customer_id', axis=1).groupby(['ldbw', 'article_id']).count().reset_index()\n",
    "weekly_sales = weekly_sales.rename(columns={'t_dat': 'count'})"
   ]
  },
  {
   "cell_type": "code",
   "execution_count": 11,
   "id": "a93a2b35",
   "metadata": {
    "_cell_guid": "1a1d9928-b6b1-4ef1-9bc4-b1d90278521d",
    "_uuid": "55308baf-b51a-4f25-9b36-6948ac902f90",
    "collapsed": false,
    "execution": {
     "iopub.execute_input": "2022-03-28T04:25:08.645735Z",
     "iopub.status.busy": "2022-03-28T04:25:08.645105Z",
     "iopub.status.idle": "2022-03-28T04:25:08.722927Z",
     "shell.execute_reply": "2022-03-28T04:25:08.722444Z",
     "shell.execute_reply.started": "2022-03-28T03:27:50.535099Z"
    },
    "jupyter": {
     "outputs_hidden": false
    },
    "papermill": {
     "duration": 0.268671,
     "end_time": "2022-03-28T04:25:08.723073",
     "exception": false,
     "start_time": "2022-03-28T04:25:08.454402",
     "status": "completed"
    },
    "tags": []
   },
   "outputs": [],
   "source": [
    "df = df.merge(weekly_sales, on=['ldbw', 'article_id'], how = 'left')"
   ]
  },
  {
   "cell_type": "markdown",
   "id": "b09494f7",
   "metadata": {
    "_cell_guid": "ae404e56-067c-4b09-b999-1a2f98a5537a",
    "_uuid": "6274d245-d8c6-4c72-825d-2bb4be0da696",
    "editable": false,
    "papermill": {
     "duration": 0.145352,
     "end_time": "2022-03-28T04:25:09.017633",
     "exception": false,
     "start_time": "2022-03-28T04:25:08.872281",
     "status": "completed"
    },
    "tags": []
   },
   "source": [
    "### Let's assume that in the target week sales will be similar to the last week of the training data"
   ]
  },
  {
   "cell_type": "code",
   "execution_count": 12,
   "id": "6a20162e",
   "metadata": {
    "_cell_guid": "ce554581-cb66-4f98-8e33-2ccf2bd34d28",
    "_uuid": "6e1f0c8e-e73e-486a-bb83-cd8737cee56c",
    "collapsed": false,
    "execution": {
     "iopub.execute_input": "2022-03-28T04:25:09.305037Z",
     "iopub.status.busy": "2022-03-28T04:25:09.304318Z",
     "iopub.status.idle": "2022-03-28T04:25:09.400800Z",
     "shell.execute_reply": "2022-03-28T04:25:09.400327Z",
     "shell.execute_reply.started": "2022-03-28T03:27:50.669993Z"
    },
    "jupyter": {
     "outputs_hidden": false
    },
    "papermill": {
     "duration": 0.242765,
     "end_time": "2022-03-28T04:25:09.400926",
     "exception": false,
     "start_time": "2022-03-28T04:25:09.158161",
     "status": "completed"
    },
    "tags": []
   },
   "outputs": [],
   "source": [
    "weekly_sales = weekly_sales.reset_index().set_index('article_id')\n",
    "\n",
    "df = df.merge(\n",
    "    weekly_sales.loc[weekly_sales['ldbw']==Last_date, ['count']],\n",
    "    on='article_id', suffixes=(\"\", \"_targ\"))\n",
    "\n",
    "df['count_targ'].fillna(0, inplace=True)"
   ]
  },
  {
   "cell_type": "markdown",
   "id": "f56f3436",
   "metadata": {
    "_cell_guid": "abb99ddb-6823-4abe-977c-589188ac046f",
    "_uuid": "ceee0be8-8e3b-48d2-bb45-23dcfaeaa991",
    "editable": false,
    "papermill": {
     "duration": 0.142774,
     "end_time": "2022-03-28T04:25:09.684421",
     "exception": false,
     "start_time": "2022-03-28T04:25:09.541647",
     "status": "completed"
    },
    "tags": []
   },
   "source": [
    "### Calculate sales rate adjusted for changes in product popularity"
   ]
  },
  {
   "cell_type": "code",
   "execution_count": 13,
   "id": "f643bd3e",
   "metadata": {
    "_cell_guid": "d2d93f8a-81c9-455e-95ed-d6889fdb5b5e",
    "_uuid": "f95bc088-2d68-4c09-a13e-75a803dd994a",
    "collapsed": false,
    "execution": {
     "iopub.execute_input": "2022-03-28T04:25:09.972366Z",
     "iopub.status.busy": "2022-03-28T04:25:09.971531Z",
     "iopub.status.idle": "2022-03-28T04:25:09.976839Z",
     "shell.execute_reply": "2022-03-28T04:25:09.976404Z",
     "shell.execute_reply.started": "2022-03-28T03:27:50.794927Z"
    },
    "jupyter": {
     "outputs_hidden": false
    },
    "papermill": {
     "duration": 0.152276,
     "end_time": "2022-03-28T04:25:09.976963",
     "exception": false,
     "start_time": "2022-03-28T04:25:09.824687",
     "status": "completed"
    },
    "tags": []
   },
   "outputs": [],
   "source": [
    "df['quotient'] = df['count_targ'] / df['count']"
   ]
  },
  {
   "cell_type": "markdown",
   "id": "8d91e971",
   "metadata": {
    "_cell_guid": "a6429b7c-f1cd-4587-965b-bf5f90d70337",
    "_uuid": "3d2d2d38-0011-46ba-b048-7eec7c0b1837",
    "editable": false,
    "papermill": {
     "duration": 0.140362,
     "end_time": "2022-03-28T04:25:10.257143",
     "exception": false,
     "start_time": "2022-03-28T04:25:10.116781",
     "status": "completed"
    },
    "tags": []
   },
   "source": [
    "### Take supposedly popular products"
   ]
  },
  {
   "cell_type": "code",
   "execution_count": 14,
   "id": "42d9642b",
   "metadata": {
    "_cell_guid": "0a483863-fd58-495d-bd36-2573b79ebb4d",
    "_uuid": "bfb82339-c575-478e-a364-93c10b22ae06",
    "collapsed": false,
    "execution": {
     "iopub.execute_input": "2022-03-28T04:25:10.543709Z",
     "iopub.status.busy": "2022-03-28T04:25:10.542796Z",
     "iopub.status.idle": "2022-03-28T04:25:10.544565Z",
     "shell.execute_reply": "2022-03-28T04:25:10.545101Z",
     "shell.execute_reply.started": "2022-03-28T03:27:50.813720Z"
    },
    "jupyter": {
     "outputs_hidden": false
    },
    "papermill": {
     "duration": 0.147533,
     "end_time": "2022-03-28T04:25:10.545265",
     "exception": false,
     "start_time": "2022-03-28T04:25:10.397732",
     "status": "completed"
    },
    "tags": []
   },
   "outputs": [],
   "source": [
    "# target_sales = df.drop('customer_id', axis=1).groupby('article_id')['quotient'].sum()\n",
    "# general_pred = target_sales.nlargest(N).index.to_pandas().tolist()\n",
    "# general_pred = ['0' + str(article_id) for article_id in general_pred]\n",
    "# general_pred_str =  ' '.join(general_pred)\n",
    "# del target_sales"
   ]
  },
  {
   "cell_type": "code",
   "execution_count": 15,
   "id": "a6e7c6f6",
   "metadata": {
    "_cell_guid": "33e56ebf-4eaf-4cb3-a315-f59a0846a4a2",
    "_uuid": "db8e3029-e2b0-44f0-81b0-07fd51736491",
    "collapsed": false,
    "execution": {
     "iopub.execute_input": "2022-03-28T04:25:11.030135Z",
     "iopub.status.busy": "2022-03-28T04:25:11.028897Z",
     "iopub.status.idle": "2022-03-28T04:25:11.031577Z",
     "shell.execute_reply": "2022-03-28T04:25:11.030909Z",
     "shell.execute_reply.started": "2022-03-28T03:27:50.821292Z"
    },
    "jupyter": {
     "outputs_hidden": false
    },
    "papermill": {
     "duration": 0.238634,
     "end_time": "2022-03-28T04:25:11.031731",
     "exception": false,
     "start_time": "2022-03-28T04:25:10.793097",
     "status": "completed"
    },
    "tags": []
   },
   "outputs": [],
   "source": [
    "# general_pred # Exactly same with the original notebook!"
   ]
  },
  {
   "cell_type": "code",
   "execution_count": 16,
   "id": "460a943c",
   "metadata": {
    "_cell_guid": "39bda420-023a-4550-a35f-9f39f45fae0a",
    "_uuid": "a9d65615-d07f-4e2b-a09f-f5c352d9d3a6",
    "collapsed": false,
    "execution": {
     "iopub.execute_input": "2022-03-28T04:25:11.372971Z",
     "iopub.status.busy": "2022-03-28T04:25:11.370465Z",
     "iopub.status.idle": "2022-03-28T04:25:11.374213Z",
     "shell.execute_reply": "2022-03-28T04:25:11.374701Z",
     "shell.execute_reply.started": "2022-03-28T03:27:50.830301Z"
    },
    "jupyter": {
     "outputs_hidden": false
    },
    "papermill": {
     "duration": 0.146828,
     "end_time": "2022-03-28T04:25:11.374845",
     "exception": false,
     "start_time": "2022-03-28T04:25:11.228017",
     "status": "completed"
    },
    "tags": []
   },
   "outputs": [],
   "source": [
    "# general_pred_str"
   ]
  },
  {
   "cell_type": "markdown",
   "id": "dd2d52ba",
   "metadata": {
    "_cell_guid": "778698f4-153b-4ef0-8671-28e35f6b16a2",
    "_uuid": "e3b40a3b-e584-47ea-a48d-b06caef50eb3",
    "editable": false,
    "papermill": {
     "duration": 0.145893,
     "end_time": "2022-03-28T04:25:11.659115",
     "exception": false,
     "start_time": "2022-03-28T04:25:11.513222",
     "status": "completed"
    },
    "tags": []
   },
   "source": [
    "### Fill in purchase dictionary"
   ]
  },
  {
   "cell_type": "code",
   "execution_count": 17,
   "id": "930ca9d1",
   "metadata": {
    "_cell_guid": "d5240757-0318-4ebc-9ccd-c9c362c86c76",
    "_uuid": "0f878843-4016-4d61-a04d-2ed6f30dcdf8",
    "collapsed": false,
    "execution": {
     "iopub.execute_input": "2022-03-28T04:25:11.960512Z",
     "iopub.status.busy": "2022-03-28T04:25:11.959525Z",
     "iopub.status.idle": "2022-03-28T04:25:31.684713Z",
     "shell.execute_reply": "2022-03-28T04:25:31.685094Z",
     "shell.execute_reply.started": "2022-03-28T03:27:50.838393Z"
    },
    "jupyter": {
     "outputs_hidden": false
    },
    "papermill": {
     "duration": 19.881643,
     "end_time": "2022-03-28T04:25:31.685279",
     "exception": false,
     "start_time": "2022-03-28T04:25:11.803636",
     "status": "completed"
    },
    "tags": []
   },
   "outputs": [
    {
     "name": "stdout",
     "output_type": "stream",
     "text": [
      "CPU times: user 15.9 s, sys: 5.15 s, total: 21 s\n",
      "Wall time: 19.7 s\n"
     ]
    }
   ],
   "source": [
    "%%time\n",
    "purchase_dict = {}\n",
    "\n",
    "tmp = df.copy().to_pandas()\n",
    "tmp['x'] = ((Last_date - tmp['t_dat']) / np.timedelta64(1, 'D')).astype(int)\n",
    "tmp['dummy_1'] = 1 \n",
    "tmp['x'] = tmp[[\"x\", \"dummy_1\"]].max(axis=1)\n",
    "\n",
    "a, b, c, d = 2.5e4, 1.5e5, 2e-1, 1e3\n",
    "total = 1715530\n",
    "tmp['y'] = ((a / np.sqrt(tmp['x']) + b * np.exp(-c*tmp['x']) - d) / total +\\\n",
    "(a / np.sqrt(tmp['x']+1) + b * np.exp(-c*(tmp['x']+1)) - d) / total +\\\n",
    "(a / np.sqrt(tmp['x']+2) + b * np.exp(-c*(tmp['x']+2)) - d) / total +\\\n",
    "(a / np.sqrt(tmp['x']+3) + b * np.exp(-c*(tmp['x']+3)) - d) / total +\\\n",
    "(a / np.sqrt(tmp['x']+4) + b * np.exp(-c*(tmp['x']+4)) - d) / total +\\\n",
    "(a / np.sqrt(tmp['x']+5) + b * np.exp(-c*(tmp['x']+5)) - d) / total +\\\n",
    "(a / np.sqrt(tmp['x']+6) + b * np.exp(-c*(tmp['x']+6)) - d) / total)\n",
    "\n",
    "tmp['dummy_0'] = 0 \n",
    "tmp['y'] = tmp[[\"y\", \"dummy_0\"]].max(axis=1)\n",
    "tmp['score'] = tmp['quotient'] * tmp['y'] \n",
    "\n",
    "tmp = tmp.groupby(['customer_id', 'article_id']).agg({'score': 'sum'})\n",
    "tmp = tmp.reset_index()\n",
    "\n",
    "tmp = tmp.loc[tmp['score'] > 0]\n",
    "tmp['rank'] = tmp.groupby(\"customer_id\")[\"score\"].rank(\"dense\", ascending=False)\n",
    "tmp = tmp.loc[tmp['rank'] <= 12]\n",
    "tmp[\"source\"] = 1\n",
    "\n",
    "result1 = tmp[[\"customer_id\", \"article_id\", \"source\", \"score\", \"rank\"]]"
   ]
  },
  {
   "cell_type": "code",
   "execution_count": 18,
   "id": "8557ae02",
   "metadata": {
    "_cell_guid": "b01bc6f5-2794-4716-b664-a2ee01a25c06",
    "_uuid": "f187454d-2a81-4f76-9447-4eb568edac91",
    "collapsed": false,
    "execution": {
     "iopub.execute_input": "2022-03-28T04:25:32.145819Z",
     "iopub.status.busy": "2022-03-28T04:25:32.144579Z",
     "iopub.status.idle": "2022-03-28T04:25:32.148304Z",
     "shell.execute_reply": "2022-03-28T04:25:32.147867Z",
     "shell.execute_reply.started": "2022-03-28T03:28:11.599437Z"
    },
    "jupyter": {
     "outputs_hidden": false
    },
    "papermill": {
     "duration": 0.321436,
     "end_time": "2022-03-28T04:25:32.148438",
     "exception": false,
     "start_time": "2022-03-28T04:25:31.827002",
     "status": "completed"
    },
    "tags": []
   },
   "outputs": [
    {
     "data": {
      "text/plain": [
       "208"
      ]
     },
     "execution_count": 18,
     "metadata": {},
     "output_type": "execute_result"
    }
   ],
   "source": [
    "del weekly_sales\n",
    "del df\n",
    "del tmp\n",
    "gc.collect()"
   ]
  },
  {
   "cell_type": "code",
   "execution_count": 19,
   "id": "116d59b0",
   "metadata": {
    "_cell_guid": "798e93e0-008b-49cc-a841-60ed2ba8db5f",
    "_uuid": "23bd5ddb-43db-40c9-9296-b750777c95e3",
    "collapsed": false,
    "execution": {
     "iopub.execute_input": "2022-03-28T04:25:32.446929Z",
     "iopub.status.busy": "2022-03-28T04:25:32.446322Z",
     "iopub.status.idle": "2022-03-28T04:25:32.449198Z",
     "shell.execute_reply": "2022-03-28T04:25:32.449597Z",
     "shell.execute_reply.started": "2022-03-28T03:28:11.779618Z"
    },
    "jupyter": {
     "outputs_hidden": false
    },
    "papermill": {
     "duration": 0.159346,
     "end_time": "2022-03-28T04:25:32.449737",
     "exception": false,
     "start_time": "2022-03-28T04:25:32.290391",
     "status": "completed"
    },
    "tags": []
   },
   "outputs": [
    {
     "data": {
      "text/html": [
       "<div>\n",
       "<style scoped>\n",
       "    .dataframe tbody tr th:only-of-type {\n",
       "        vertical-align: middle;\n",
       "    }\n",
       "\n",
       "    .dataframe tbody tr th {\n",
       "        vertical-align: top;\n",
       "    }\n",
       "\n",
       "    .dataframe thead th {\n",
       "        text-align: right;\n",
       "    }\n",
       "</style>\n",
       "<table border=\"1\" class=\"dataframe\">\n",
       "  <thead>\n",
       "    <tr style=\"text-align: right;\">\n",
       "      <th></th>\n",
       "      <th>customer_id</th>\n",
       "      <th>article_id</th>\n",
       "      <th>source</th>\n",
       "      <th>score</th>\n",
       "      <th>rank</th>\n",
       "    </tr>\n",
       "  </thead>\n",
       "  <tbody>\n",
       "    <tr>\n",
       "      <th>0</th>\n",
       "      <td>-9223352921020755230</td>\n",
       "      <td>568597006</td>\n",
       "      <td>1</td>\n",
       "      <td>0.000559</td>\n",
       "      <td>5.0</td>\n",
       "    </tr>\n",
       "    <tr>\n",
       "      <th>1</th>\n",
       "      <td>-9223352921020755230</td>\n",
       "      <td>673396002</td>\n",
       "      <td>1</td>\n",
       "      <td>0.044511</td>\n",
       "      <td>1.0</td>\n",
       "    </tr>\n",
       "    <tr>\n",
       "      <th>2</th>\n",
       "      <td>-9223352921020755230</td>\n",
       "      <td>706016001</td>\n",
       "      <td>1</td>\n",
       "      <td>0.003289</td>\n",
       "      <td>4.0</td>\n",
       "    </tr>\n",
       "    <tr>\n",
       "      <th>3</th>\n",
       "      <td>-9223352921020755230</td>\n",
       "      <td>812167004</td>\n",
       "      <td>1</td>\n",
       "      <td>0.019179</td>\n",
       "      <td>2.0</td>\n",
       "    </tr>\n",
       "    <tr>\n",
       "      <th>4</th>\n",
       "      <td>-9223352921020755230</td>\n",
       "      <td>849493006</td>\n",
       "      <td>1</td>\n",
       "      <td>0.006174</td>\n",
       "      <td>3.0</td>\n",
       "    </tr>\n",
       "    <tr>\n",
       "      <th>...</th>\n",
       "      <td>...</td>\n",
       "      <td>...</td>\n",
       "      <td>...</td>\n",
       "      <td>...</td>\n",
       "      <td>...</td>\n",
       "    </tr>\n",
       "    <tr>\n",
       "      <th>10844244</th>\n",
       "      <td>9223301031927667525</td>\n",
       "      <td>719957006</td>\n",
       "      <td>1</td>\n",
       "      <td>0.000026</td>\n",
       "      <td>1.0</td>\n",
       "    </tr>\n",
       "    <tr>\n",
       "      <th>10844245</th>\n",
       "      <td>9223333063893176977</td>\n",
       "      <td>658030020</td>\n",
       "      <td>1</td>\n",
       "      <td>0.000038</td>\n",
       "      <td>1.0</td>\n",
       "    </tr>\n",
       "    <tr>\n",
       "      <th>10844246</th>\n",
       "      <td>9223357421094039679</td>\n",
       "      <td>747984001</td>\n",
       "      <td>1</td>\n",
       "      <td>0.000010</td>\n",
       "      <td>2.0</td>\n",
       "    </tr>\n",
       "    <tr>\n",
       "      <th>10844247</th>\n",
       "      <td>9223357421094039679</td>\n",
       "      <td>747984002</td>\n",
       "      <td>1</td>\n",
       "      <td>0.000053</td>\n",
       "      <td>1.0</td>\n",
       "    </tr>\n",
       "    <tr>\n",
       "      <th>10844248</th>\n",
       "      <td>9223370729206611574</td>\n",
       "      <td>781758003</td>\n",
       "      <td>1</td>\n",
       "      <td>0.001461</td>\n",
       "      <td>1.0</td>\n",
       "    </tr>\n",
       "  </tbody>\n",
       "</table>\n",
       "<p>6693016 rows × 5 columns</p>\n",
       "</div>"
      ],
      "text/plain": [
       "                  customer_id  article_id  source     score  rank\n",
       "0        -9223352921020755230   568597006       1  0.000559   5.0\n",
       "1        -9223352921020755230   673396002       1  0.044511   1.0\n",
       "2        -9223352921020755230   706016001       1  0.003289   4.0\n",
       "3        -9223352921020755230   812167004       1  0.019179   2.0\n",
       "4        -9223352921020755230   849493006       1  0.006174   3.0\n",
       "...                       ...         ...     ...       ...   ...\n",
       "10844244  9223301031927667525   719957006       1  0.000026   1.0\n",
       "10844245  9223333063893176977   658030020       1  0.000038   1.0\n",
       "10844246  9223357421094039679   747984001       1  0.000010   2.0\n",
       "10844247  9223357421094039679   747984002       1  0.000053   1.0\n",
       "10844248  9223370729206611574   781758003       1  0.001461   1.0\n",
       "\n",
       "[6693016 rows x 5 columns]"
      ]
     },
     "execution_count": 19,
     "metadata": {},
     "output_type": "execute_result"
    }
   ],
   "source": [
    "result1"
   ]
  },
  {
   "cell_type": "code",
   "execution_count": 20,
   "id": "ea7159b3",
   "metadata": {
    "_cell_guid": "69744f5f-6800-4656-ab87-032868f3159b",
    "_uuid": "abb5c1f0-cf31-4307-9b3a-abe63a3d8ac6",
    "collapsed": false,
    "execution": {
     "iopub.execute_input": "2022-03-28T04:25:32.882842Z",
     "iopub.status.busy": "2022-03-28T04:25:32.881831Z",
     "iopub.status.idle": "2022-03-28T04:25:32.884218Z",
     "shell.execute_reply": "2022-03-28T04:25:32.883551Z",
     "shell.execute_reply.started": "2022-03-28T03:28:11.798704Z"
    },
    "jupyter": {
     "outputs_hidden": false
    },
    "papermill": {
     "duration": 0.265613,
     "end_time": "2022-03-28T04:25:32.884376",
     "exception": false,
     "start_time": "2022-03-28T04:25:32.618763",
     "status": "completed"
    },
    "tags": []
   },
   "outputs": [],
   "source": [
    "#result1.to_csv(\"/kaggle/working/result1.csv\", index = False)"
   ]
  },
  {
   "cell_type": "markdown",
   "id": "2d60803e",
   "metadata": {
    "_cell_guid": "fed50a0c-3f74-4c68-b4b9-40ca198ca0ce",
    "_uuid": "2d887bc0-dff0-4160-a2bf-e867e2984119",
    "editable": false,
    "execution": {
     "iopub.execute_input": "2022-03-19T09:13:27.534287Z",
     "iopub.status.busy": "2022-03-19T09:13:27.534029Z",
     "iopub.status.idle": "2022-03-19T09:13:27.537763Z",
     "shell.execute_reply": "2022-03-19T09:13:27.536825Z",
     "shell.execute_reply.started": "2022-03-19T09:13:27.534257Z"
    },
    "papermill": {
     "duration": 0.172686,
     "end_time": "2022-03-28T04:25:33.289261",
     "exception": false,
     "start_time": "2022-03-28T04:25:33.116575",
     "status": "completed"
    },
    "tags": []
   },
   "source": [
    "## 第二路：相似复购"
   ]
  },
  {
   "cell_type": "code",
   "execution_count": 21,
   "id": "2eafb6ed",
   "metadata": {
    "_cell_guid": "54567f40-5feb-4c26-99bd-c09a96a91605",
    "_uuid": "699bb5a0-a19f-4ced-909c-fdaac18f5dd1",
    "collapsed": false,
    "execution": {
     "iopub.execute_input": "2022-03-28T04:25:33.579689Z",
     "iopub.status.busy": "2022-03-28T04:25:33.578751Z",
     "iopub.status.idle": "2022-03-28T04:25:41.025460Z",
     "shell.execute_reply": "2022-03-28T04:25:41.024908Z",
     "shell.execute_reply.started": "2022-03-28T03:28:11.804281Z"
    },
    "jupyter": {
     "outputs_hidden": false
    },
    "papermill": {
     "duration": 7.594982,
     "end_time": "2022-03-28T04:25:41.025607",
     "exception": false,
     "start_time": "2022-03-28T04:25:33.430625",
     "status": "completed"
    },
    "tags": []
   },
   "outputs": [
    {
     "name": "stdout",
     "output_type": "stream",
     "text": [
      "Requirement already satisfied: cudf in /opt/conda/lib/python3.7/site-packages (21.10.1)\r\n",
      "Requirement already satisfied: numba>=0.53.1 in /opt/conda/lib/python3.7/site-packages (from cudf) (0.54.1)\r\n",
      "Requirement already satisfied: Cython<0.30,>=0.29 in /opt/conda/lib/python3.7/site-packages (from cudf) (0.29.28)\r\n",
      "Requirement already satisfied: fastavro>=0.22.9 in /opt/conda/lib/python3.7/site-packages (from cudf) (1.4.9)\r\n",
      "Requirement already satisfied: fsspec>=0.6.0 in /opt/conda/lib/python3.7/site-packages (from cudf) (2022.2.0)\r\n",
      "Requirement already satisfied: numpy in /opt/conda/lib/python3.7/site-packages (from cudf) (1.20.3)\r\n",
      "Requirement already satisfied: pandas<1.4.0dev0,>=1.0 in /opt/conda/lib/python3.7/site-packages (from cudf) (1.3.5)\r\n",
      "Requirement already satisfied: typing_extensions in /opt/conda/lib/python3.7/site-packages (from cudf) (4.1.1)\r\n",
      "Requirement already satisfied: protobuf in /opt/conda/lib/python3.7/site-packages (from cudf) (3.19.1)\r\n",
      "Requirement already satisfied: nvtx>=0.2.1 in /opt/conda/lib/python3.7/site-packages (from cudf) (0.2.3)\r\n",
      "Requirement already satisfied: cachetools in /opt/conda/lib/python3.7/site-packages (from cudf) (4.2.4)\r\n",
      "Requirement already satisfied: packaging in /opt/conda/lib/python3.7/site-packages (from cudf) (21.3)\r\n",
      "Requirement already satisfied: cupy-cuda110 in /opt/conda/lib/python3.7/site-packages (from cudf) (10.2.0)\r\n",
      "Requirement already satisfied: llvmlite<0.38,>=0.37.0rc1 in /opt/conda/lib/python3.7/site-packages (from numba>=0.53.1->cudf) (0.37.0)\r\n",
      "Requirement already satisfied: setuptools in /opt/conda/lib/python3.7/site-packages (from numba>=0.53.1->cudf) (59.5.0)\r\n",
      "Requirement already satisfied: python-dateutil>=2.7.3 in /opt/conda/lib/python3.7/site-packages (from pandas<1.4.0dev0,>=1.0->cudf) (2.8.2)\r\n",
      "Requirement already satisfied: pytz>=2017.3 in /opt/conda/lib/python3.7/site-packages (from pandas<1.4.0dev0,>=1.0->cudf) (2021.3)\r\n",
      "Requirement already satisfied: fastrlock>=0.5 in /opt/conda/lib/python3.7/site-packages (from cupy-cuda110->cudf) (0.8)\r\n",
      "Requirement already satisfied: pyparsing!=3.0.5,>=2.0.2 in /opt/conda/lib/python3.7/site-packages (from packaging->cudf) (3.0.6)\r\n",
      "Requirement already satisfied: six>=1.5 in /opt/conda/lib/python3.7/site-packages (from python-dateutil>=2.7.3->pandas<1.4.0dev0,>=1.0->cudf) (1.16.0)\r\n",
      "\u001b[33mWARNING: Running pip as the 'root' user can result in broken permissions and conflicting behaviour with the system package manager. It is recommended to use a virtual environment instead: https://pip.pypa.io/warnings/venv\u001b[0m\r\n"
     ]
    }
   ],
   "source": [
    "!pip install cudf\n",
    "import numpy as np\n",
    "import pandas as pd \n",
    "from datetime import datetime, timedelta\n",
    "import gc\n",
    "import cudf\n",
    "import cv2, matplotlib.pyplot as plt\n",
    "from os.path import exists"
   ]
  },
  {
   "cell_type": "code",
   "execution_count": 22,
   "id": "04cc5238",
   "metadata": {
    "_cell_guid": "44b311fd-4b39-4405-a0bc-8e92dc33a61c",
    "_uuid": "915c9fdb-7fe6-4725-960e-e41a3577b19d",
    "collapsed": false,
    "execution": {
     "iopub.execute_input": "2022-03-28T04:25:41.329080Z",
     "iopub.status.busy": "2022-03-28T04:25:41.328251Z",
     "iopub.status.idle": "2022-03-28T04:25:41.330064Z",
     "shell.execute_reply": "2022-03-28T04:25:41.330513Z",
     "shell.execute_reply.started": "2022-03-28T03:28:20.910102Z"
    },
    "jupyter": {
     "outputs_hidden": false
    },
    "papermill": {
     "duration": 0.154048,
     "end_time": "2022-03-28T04:25:41.330649",
     "exception": false,
     "start_time": "2022-03-28T04:25:41.176601",
     "status": "completed"
    },
    "tags": []
   },
   "outputs": [],
   "source": [
    "# # LOAD TRANSACTIONS DATAFRAME\n",
    "# df = cudf.read_csv('../input/h-and-m-personalized-fashion-recommendations/transactions_train.csv')\n",
    "# print('Transactions shape',df.shape)\n",
    "# display( df.head() )\n",
    "\n",
    "# # REDUCE MEMORY OF DATAFRAME\n",
    "# df = df[['customer_id','article_id']]\n",
    "# df.customer_id = df.customer_id.str[-16:].str.hex_to_int().astype('int64')\n",
    "# df.article_id = df.article_id.astype('int32')\n",
    "# _ = gc.collect()"
   ]
  },
  {
   "cell_type": "code",
   "execution_count": 23,
   "id": "0aece421",
   "metadata": {
    "_cell_guid": "4c724f89-612f-4608-94a5-2013aa86ce82",
    "_uuid": "980cf91d-96ad-4c7c-aba7-6bbc8e7f9075",
    "collapsed": false,
    "execution": {
     "iopub.execute_input": "2022-03-28T04:25:41.623988Z",
     "iopub.status.busy": "2022-03-28T04:25:41.623067Z",
     "iopub.status.idle": "2022-03-28T04:25:41.624932Z",
     "shell.execute_reply": "2022-03-28T04:25:41.625391Z",
     "shell.execute_reply.started": "2022-03-28T03:28:20.918007Z"
    },
    "jupyter": {
     "outputs_hidden": false
    },
    "papermill": {
     "duration": 0.147657,
     "end_time": "2022-03-28T04:25:41.625536",
     "exception": false,
     "start_time": "2022-03-28T04:25:41.477879",
     "status": "completed"
    },
    "tags": []
   },
   "outputs": [],
   "source": [
    "# # FIND ITEMS PURCHASED TOGETHER\n",
    "# vc = df.article_id.value_counts()\n",
    "# pairs = {}\n",
    "# # for j,i in enumerate(vc.index.values[1000:1032]):\n",
    "# #     #if j%10==0: print(j,', ',end='')\n",
    "# #     USERS = df.loc[df.article_id==i.item(),'customer_id'].unique()\n",
    "# #     vc2 = df.loc[(df.customer_id.isin(USERS))&(df.article_id!=i.item()),'article_id'].value_counts()\n",
    "# #     pairs[i.item()] = [vc2.index[0], vc2.index[1], vc2.index[2]]"
   ]
  },
  {
   "cell_type": "code",
   "execution_count": 24,
   "id": "90941a24",
   "metadata": {
    "_cell_guid": "7df33241-8730-41e6-ba96-684dab72ebf6",
    "_uuid": "68190067-1266-43b1-8a90-16fde37bc22d",
    "collapsed": false,
    "execution": {
     "iopub.execute_input": "2022-03-28T04:25:41.915571Z",
     "iopub.status.busy": "2022-03-28T04:25:41.914554Z",
     "iopub.status.idle": "2022-03-28T04:25:41.916501Z",
     "shell.execute_reply": "2022-03-28T04:25:41.916910Z",
     "shell.execute_reply.started": "2022-03-28T03:28:20.931887Z"
    },
    "jupyter": {
     "outputs_hidden": false
    },
    "papermill": {
     "duration": 0.149234,
     "end_time": "2022-03-28T04:25:41.917038",
     "exception": false,
     "start_time": "2022-03-28T04:25:41.767804",
     "status": "completed"
    },
    "tags": []
   },
   "outputs": [],
   "source": [
    "# vc = vc.reset_index().rename(columns = {\"article_id\":\"count\", \"index\":\"article_id\"})"
   ]
  },
  {
   "cell_type": "code",
   "execution_count": 25,
   "id": "318e8556",
   "metadata": {
    "_cell_guid": "b8e80724-9f54-4727-9a5b-96aed6e85dbc",
    "_uuid": "f79463f6-d3c9-43ea-8882-9729bd77ddff",
    "collapsed": false,
    "execution": {
     "iopub.execute_input": "2022-03-28T04:25:42.210311Z",
     "iopub.status.busy": "2022-03-28T04:25:42.209450Z",
     "iopub.status.idle": "2022-03-28T04:25:42.211790Z",
     "shell.execute_reply": "2022-03-28T04:25:42.211290Z",
     "shell.execute_reply.started": "2022-03-28T03:28:20.940521Z"
    },
    "jupyter": {
     "outputs_hidden": false
    },
    "papermill": {
     "duration": 0.150127,
     "end_time": "2022-03-28T04:25:42.211910",
     "exception": false,
     "start_time": "2022-03-28T04:25:42.061783",
     "status": "completed"
    },
    "tags": []
   },
   "outputs": [],
   "source": [
    "# vc = vc[vc[\"count\"]>=50]"
   ]
  },
  {
   "cell_type": "code",
   "execution_count": 26,
   "id": "3ae94dd4",
   "metadata": {
    "_cell_guid": "0da22333-f4a8-4e71-8833-2f345a60517b",
    "_uuid": "d7776129-da4e-49db-80a4-9afd0420bd9e",
    "collapsed": false,
    "execution": {
     "iopub.execute_input": "2022-03-28T04:25:42.505445Z",
     "iopub.status.busy": "2022-03-28T04:25:42.504458Z",
     "iopub.status.idle": "2022-03-28T04:25:42.506209Z",
     "shell.execute_reply": "2022-03-28T04:25:42.506771Z",
     "shell.execute_reply.started": "2022-03-28T03:28:20.948410Z"
    },
    "jupyter": {
     "outputs_hidden": false
    },
    "papermill": {
     "duration": 0.151346,
     "end_time": "2022-03-28T04:25:42.506918",
     "exception": false,
     "start_time": "2022-03-28T04:25:42.355572",
     "status": "completed"
    },
    "tags": []
   },
   "outputs": [],
   "source": [
    "# def cal_together_score(x):\n",
    "#     USERS = df.loc[df.article_id==x[\"article_id\"],'customer_id'].unique()\n",
    "#     vc2 = df.loc[(df.customer_id.isin(USERS))&(df.article_id!=x[\"article_id\"]),'article_id'].value_counts()\n",
    "#     #pairs[i.item()] = [vc2.index[0], vc2.index[1], vc2.index[2]]\n",
    "#     return [[x.article_id, vc2.index[i], vc2.iloc[i]/x[\"count\"]] for i in range(min(10, len(vc2)))]"
   ]
  },
  {
   "cell_type": "code",
   "execution_count": 27,
   "id": "82d85922",
   "metadata": {
    "_cell_guid": "baadd098-5635-49e3-8326-f799e2a5b9d2",
    "_uuid": "1d30acf1-be00-4393-b7f2-f60f5c6627dd",
    "collapsed": false,
    "execution": {
     "iopub.execute_input": "2022-03-28T04:25:42.831115Z",
     "iopub.status.busy": "2022-03-28T04:25:42.829986Z",
     "iopub.status.idle": "2022-03-28T04:25:42.832528Z",
     "shell.execute_reply": "2022-03-28T04:25:42.831890Z",
     "shell.execute_reply.started": "2022-03-28T03:28:20.956659Z"
    },
    "jupyter": {
     "outputs_hidden": false
    },
    "papermill": {
     "duration": 0.160451,
     "end_time": "2022-03-28T04:25:42.832664",
     "exception": false,
     "start_time": "2022-03-28T04:25:42.672213",
     "status": "completed"
    },
    "tags": []
   },
   "outputs": [],
   "source": [
    "#relation = vc.to_pandas().apply(lambda x: cal_together_score(x), axis = 1).sum()"
   ]
  },
  {
   "cell_type": "code",
   "execution_count": 28,
   "id": "cda64dff",
   "metadata": {
    "_cell_guid": "61e9feb0-8ccd-4ab6-9b81-3c9249eba7bd",
    "_uuid": "51767f5c-104b-4a76-919f-caeabf3d6fee",
    "collapsed": false,
    "execution": {
     "iopub.execute_input": "2022-03-28T04:25:43.137321Z",
     "iopub.status.busy": "2022-03-28T04:25:43.136398Z",
     "iopub.status.idle": "2022-03-28T04:25:43.138125Z",
     "shell.execute_reply": "2022-03-28T04:25:43.138666Z",
     "shell.execute_reply.started": "2022-03-28T03:28:20.971790Z"
    },
    "jupyter": {
     "outputs_hidden": false
    },
    "papermill": {
     "duration": 0.153228,
     "end_time": "2022-03-28T04:25:43.138803",
     "exception": false,
     "start_time": "2022-03-28T04:25:42.985575",
     "status": "completed"
    },
    "tags": []
   },
   "outputs": [],
   "source": [
    "#%%time\n",
    "# df  = cudf.read_csv('../input/h-and-m-personalized-fashion-recommendations/transactions_train.csv',\n",
    "#                             usecols= ['t_dat', 'customer_id', 'article_id'], \n",
    "#                             dtype={'article_id': 'int32', 't_dat': 'string', 'customer_id': 'string'})\n",
    "# df ['customer_id'] = df ['customer_id'].str[-16:].str.hex_to_int().astype('int64')\n",
    "\n",
    "# df['t_dat'] = cudf.to_datetime(df['t_dat'])\n",
    "# last_ts = df['t_dat'].max()"
   ]
  },
  {
   "cell_type": "code",
   "execution_count": 29,
   "id": "ff2ea6a9",
   "metadata": {
    "_cell_guid": "8efede7c-b406-4bb9-9679-6b2ddf57be2d",
    "_uuid": "37018992-e497-409a-aa29-9f98db036096",
    "collapsed": false,
    "execution": {
     "iopub.execute_input": "2022-03-28T04:25:43.428944Z",
     "iopub.status.busy": "2022-03-28T04:25:43.428101Z",
     "iopub.status.idle": "2022-03-28T04:25:43.432603Z",
     "shell.execute_reply": "2022-03-28T04:25:43.432094Z",
     "shell.execute_reply.started": "2022-03-28T03:28:20.977636Z"
    },
    "jupyter": {
     "outputs_hidden": false
    },
    "papermill": {
     "duration": 0.153342,
     "end_time": "2022-03-28T04:25:43.432736",
     "exception": false,
     "start_time": "2022-03-28T04:25:43.279394",
     "status": "completed"
    },
    "tags": []
   },
   "outputs": [],
   "source": [
    "df = train.copy()"
   ]
  },
  {
   "cell_type": "code",
   "execution_count": 30,
   "id": "4dec94ad",
   "metadata": {
    "_cell_guid": "4f70828a-7ed6-4ea9-a327-7ac47a3274d0",
    "_uuid": "d30e7289-5fad-4efd-bc05-902658ec1834",
    "collapsed": false,
    "execution": {
     "iopub.execute_input": "2022-03-28T04:25:43.844704Z",
     "iopub.status.busy": "2022-03-28T04:25:43.843907Z",
     "iopub.status.idle": "2022-03-28T04:25:52.319670Z",
     "shell.execute_reply": "2022-03-28T04:25:52.319216Z",
     "shell.execute_reply.started": "2022-03-28T03:28:20.994141Z"
    },
    "jupyter": {
     "outputs_hidden": false
    },
    "papermill": {
     "duration": 8.737125,
     "end_time": "2022-03-28T04:25:52.319800",
     "exception": false,
     "start_time": "2022-03-28T04:25:43.582675",
     "status": "completed"
    },
    "tags": []
   },
   "outputs": [
    {
     "name": "stdout",
     "output_type": "stream",
     "text": [
      "CPU times: user 6.98 s, sys: 1.63 s, total: 8.6 s\n",
      "Wall time: 8.47 s\n"
     ]
    }
   ],
   "source": [
    "%%time\n",
    "tmp = df[['t_dat']].copy().to_pandas()\n",
    "tmp['dow'] = tmp['t_dat'].dt.dayofweek\n",
    "tmp['ldbw'] = tmp['t_dat'] - pd.TimedeltaIndex(tmp['dow'] - 1, unit='D')\n",
    "tmp.loc[tmp['dow'] >=2 , 'ldbw'] = tmp.loc[tmp['dow'] >=2 , 'ldbw'] + pd.TimedeltaIndex(np.ones(len(tmp.loc[tmp['dow'] >=2])) * 7, unit='D')\n",
    "\n",
    "df['ldbw'] = tmp['ldbw'].values"
   ]
  },
  {
   "cell_type": "code",
   "execution_count": 31,
   "id": "8ab44102",
   "metadata": {
    "_cell_guid": "062c9e13-0249-4cd1-9833-9d1fb9a4d95a",
    "_uuid": "d7cc8aad-d344-4ae6-9e5e-e0e9160b73db",
    "collapsed": false,
    "execution": {
     "iopub.execute_input": "2022-03-28T04:25:52.658224Z",
     "iopub.status.busy": "2022-03-28T04:25:52.657257Z",
     "iopub.status.idle": "2022-03-28T04:25:52.659451Z",
     "shell.execute_reply": "2022-03-28T04:25:52.659873Z",
     "shell.execute_reply.started": "2022-03-28T03:28:29.673902Z"
    },
    "jupyter": {
     "outputs_hidden": false
    },
    "papermill": {
     "duration": 0.19223,
     "end_time": "2022-03-28T04:25:52.660024",
     "exception": false,
     "start_time": "2022-03-28T04:25:52.467794",
     "status": "completed"
    },
    "tags": []
   },
   "outputs": [],
   "source": [
    "#relation_data = cudf.DataFrame(relation, columns = [\"from_id\", \"to_id\", \"ratio\"])"
   ]
  },
  {
   "cell_type": "code",
   "execution_count": 32,
   "id": "f062411e",
   "metadata": {
    "_cell_guid": "d2a497e0-7e56-478f-b4fb-834de252f2ab",
    "_uuid": "a6128a89-50eb-4d88-946b-d20b5948ae56",
    "collapsed": false,
    "execution": {
     "iopub.execute_input": "2022-03-28T04:25:52.965425Z",
     "iopub.status.busy": "2022-03-28T04:25:52.964701Z",
     "iopub.status.idle": "2022-03-28T04:25:53.180643Z",
     "shell.execute_reply": "2022-03-28T04:25:53.179798Z",
     "shell.execute_reply.started": "2022-03-28T03:28:29.680040Z"
    },
    "jupyter": {
     "outputs_hidden": false
    },
    "papermill": {
     "duration": 0.370277,
     "end_time": "2022-03-28T04:25:53.180781",
     "exception": false,
     "start_time": "2022-03-28T04:25:52.810504",
     "status": "completed"
    },
    "tags": []
   },
   "outputs": [],
   "source": [
    "relation_data = cudf.read_csv(\"../input/relation/relation_data.csv\")"
   ]
  },
  {
   "cell_type": "code",
   "execution_count": 33,
   "id": "a85c5ac3",
   "metadata": {
    "_cell_guid": "5a133069-579f-4e05-9228-6c7403d2a35b",
    "_uuid": "d4e00377-c5df-473f-abcb-e281eda5889a",
    "collapsed": false,
    "execution": {
     "iopub.execute_input": "2022-03-28T04:25:53.477791Z",
     "iopub.status.busy": "2022-03-28T04:25:53.476929Z",
     "iopub.status.idle": "2022-03-28T04:25:53.520425Z",
     "shell.execute_reply": "2022-03-28T04:25:53.519921Z",
     "shell.execute_reply.started": "2022-03-28T03:28:30.140730Z"
    },
    "jupyter": {
     "outputs_hidden": false
    },
    "papermill": {
     "duration": 0.19452,
     "end_time": "2022-03-28T04:25:53.520552",
     "exception": false,
     "start_time": "2022-03-28T04:25:53.326032",
     "status": "completed"
    },
    "tags": []
   },
   "outputs": [
    {
     "data": {
      "text/html": [
       "<div>\n",
       "<style scoped>\n",
       "    .dataframe tbody tr th:only-of-type {\n",
       "        vertical-align: middle;\n",
       "    }\n",
       "\n",
       "    .dataframe tbody tr th {\n",
       "        vertical-align: top;\n",
       "    }\n",
       "\n",
       "    .dataframe thead th {\n",
       "        text-align: right;\n",
       "    }\n",
       "</style>\n",
       "<table border=\"1\" class=\"dataframe\">\n",
       "  <thead>\n",
       "    <tr style=\"text-align: right;\">\n",
       "      <th></th>\n",
       "      <th>from_id</th>\n",
       "      <th>to_id</th>\n",
       "      <th>ratio</th>\n",
       "    </tr>\n",
       "  </thead>\n",
       "  <tbody>\n",
       "    <tr>\n",
       "      <th>0</th>\n",
       "      <td>706016001</td>\n",
       "      <td>706016002</td>\n",
       "      <td>0.250144</td>\n",
       "    </tr>\n",
       "    <tr>\n",
       "      <th>1</th>\n",
       "      <td>706016001</td>\n",
       "      <td>706016003</td>\n",
       "      <td>0.155706</td>\n",
       "    </tr>\n",
       "    <tr>\n",
       "      <th>2</th>\n",
       "      <td>706016001</td>\n",
       "      <td>706016015</td>\n",
       "      <td>0.117943</td>\n",
       "    </tr>\n",
       "    <tr>\n",
       "      <th>3</th>\n",
       "      <td>706016001</td>\n",
       "      <td>706016006</td>\n",
       "      <td>0.097799</td>\n",
       "    </tr>\n",
       "    <tr>\n",
       "      <th>4</th>\n",
       "      <td>706016001</td>\n",
       "      <td>399223001</td>\n",
       "      <td>0.087299</td>\n",
       "    </tr>\n",
       "    <tr>\n",
       "      <th>...</th>\n",
       "      <td>...</td>\n",
       "      <td>...</td>\n",
       "      <td>...</td>\n",
       "    </tr>\n",
       "    <tr>\n",
       "      <th>570535</th>\n",
       "      <td>657165029</td>\n",
       "      <td>763270003</td>\n",
       "      <td>0.120000</td>\n",
       "    </tr>\n",
       "    <tr>\n",
       "      <th>570536</th>\n",
       "      <td>657165029</td>\n",
       "      <td>628327005</td>\n",
       "      <td>0.120000</td>\n",
       "    </tr>\n",
       "    <tr>\n",
       "      <th>570537</th>\n",
       "      <td>657165029</td>\n",
       "      <td>664319001</td>\n",
       "      <td>0.120000</td>\n",
       "    </tr>\n",
       "    <tr>\n",
       "      <th>570538</th>\n",
       "      <td>657165029</td>\n",
       "      <td>608776002</td>\n",
       "      <td>0.100000</td>\n",
       "    </tr>\n",
       "    <tr>\n",
       "      <th>570539</th>\n",
       "      <td>657165029</td>\n",
       "      <td>745806001</td>\n",
       "      <td>0.100000</td>\n",
       "    </tr>\n",
       "  </tbody>\n",
       "</table>\n",
       "<p>570540 rows × 3 columns</p>\n",
       "</div>"
      ],
      "text/plain": [
       "          from_id      to_id     ratio\n",
       "0       706016001  706016002  0.250144\n",
       "1       706016001  706016003  0.155706\n",
       "2       706016001  706016015  0.117943\n",
       "3       706016001  706016006  0.097799\n",
       "4       706016001  399223001  0.087299\n",
       "...           ...        ...       ...\n",
       "570535  657165029  763270003  0.120000\n",
       "570536  657165029  628327005  0.120000\n",
       "570537  657165029  664319001  0.120000\n",
       "570538  657165029  608776002  0.100000\n",
       "570539  657165029  745806001  0.100000\n",
       "\n",
       "[570540 rows x 3 columns]"
      ]
     },
     "execution_count": 33,
     "metadata": {},
     "output_type": "execute_result"
    }
   ],
   "source": [
    "relation_data"
   ]
  },
  {
   "cell_type": "code",
   "execution_count": 34,
   "id": "4521011a",
   "metadata": {
    "_cell_guid": "165d88d1-d353-42a0-ab91-773932b60211",
    "_uuid": "1c0296df-94e9-4103-a2c6-49dc297ee389",
    "collapsed": false,
    "execution": {
     "iopub.execute_input": "2022-03-28T04:25:53.993408Z",
     "iopub.status.busy": "2022-03-28T04:25:53.992135Z",
     "iopub.status.idle": "2022-03-28T04:25:53.999470Z",
     "shell.execute_reply": "2022-03-28T04:25:53.998983Z",
     "shell.execute_reply.started": "2022-03-28T03:28:30.201625Z"
    },
    "jupyter": {
     "outputs_hidden": false
    },
    "papermill": {
     "duration": 0.328475,
     "end_time": "2022-03-28T04:25:53.999601",
     "exception": false,
     "start_time": "2022-03-28T04:25:53.671126",
     "status": "completed"
    },
    "tags": []
   },
   "outputs": [
    {
     "data": {
      "text/plain": [
       "106"
      ]
     },
     "execution_count": 34,
     "metadata": {},
     "output_type": "execute_result"
    }
   ],
   "source": [
    "del tmp\n",
    "gc.collect()"
   ]
  },
  {
   "cell_type": "code",
   "execution_count": 35,
   "id": "0e6dc0e7",
   "metadata": {
    "_cell_guid": "d562a5a3-35d8-4c45-b82d-c57eedf8d7a1",
    "_uuid": "cd39be0c-8c1d-4e79-a35b-5e9fc1dcbae7",
    "collapsed": false,
    "execution": {
     "iopub.execute_input": "2022-03-28T04:25:54.291788Z",
     "iopub.status.busy": "2022-03-28T04:25:54.290973Z",
     "iopub.status.idle": "2022-03-28T04:25:54.423194Z",
     "shell.execute_reply": "2022-03-28T04:25:54.422130Z",
     "shell.execute_reply.started": "2022-03-28T03:28:30.389315Z"
    },
    "jupyter": {
     "outputs_hidden": false
    },
    "papermill": {
     "duration": 0.279863,
     "end_time": "2022-03-28T04:25:54.423328",
     "exception": false,
     "start_time": "2022-03-28T04:25:54.143465",
     "status": "completed"
    },
    "tags": []
   },
   "outputs": [],
   "source": [
    "weekly_sales = df.drop('customer_id', axis=1).groupby(['ldbw', 'article_id']).count().reset_index()\n",
    "weekly_sales = weekly_sales.rename(columns={'t_dat': 'count'})"
   ]
  },
  {
   "cell_type": "code",
   "execution_count": 36,
   "id": "8d1ebfbf",
   "metadata": {
    "_cell_guid": "baba24f2-3166-40d2-ae52-f4bdf7188970",
    "_uuid": "5db5f580-4c19-4dd8-b448-d05ac17d189e",
    "collapsed": false,
    "execution": {
     "iopub.execute_input": "2022-03-28T04:25:54.853958Z",
     "iopub.status.busy": "2022-03-28T04:25:54.853034Z",
     "iopub.status.idle": "2022-03-28T04:25:54.932024Z",
     "shell.execute_reply": "2022-03-28T04:25:54.932848Z",
     "shell.execute_reply.started": "2022-03-28T03:28:30.519750Z"
    },
    "jupyter": {
     "outputs_hidden": false
    },
    "papermill": {
     "duration": 0.335534,
     "end_time": "2022-03-28T04:25:54.933050",
     "exception": false,
     "start_time": "2022-03-28T04:25:54.597516",
     "status": "completed"
    },
    "tags": []
   },
   "outputs": [
    {
     "data": {
      "text/html": [
       "<div>\n",
       "<style scoped>\n",
       "    .dataframe tbody tr th:only-of-type {\n",
       "        vertical-align: middle;\n",
       "    }\n",
       "\n",
       "    .dataframe tbody tr th {\n",
       "        vertical-align: top;\n",
       "    }\n",
       "\n",
       "    .dataframe thead th {\n",
       "        text-align: right;\n",
       "    }\n",
       "</style>\n",
       "<table border=\"1\" class=\"dataframe\">\n",
       "  <thead>\n",
       "    <tr style=\"text-align: right;\">\n",
       "      <th></th>\n",
       "      <th>ldbw</th>\n",
       "      <th>article_id</th>\n",
       "      <th>count</th>\n",
       "      <th>price</th>\n",
       "      <th>sales_channel_id</th>\n",
       "    </tr>\n",
       "  </thead>\n",
       "  <tbody>\n",
       "    <tr>\n",
       "      <th>0</th>\n",
       "      <td>2019-03-12</td>\n",
       "      <td>719447002</td>\n",
       "      <td>4</td>\n",
       "      <td>4</td>\n",
       "      <td>4</td>\n",
       "    </tr>\n",
       "    <tr>\n",
       "      <th>1</th>\n",
       "      <td>2019-04-16</td>\n",
       "      <td>590203002</td>\n",
       "      <td>1</td>\n",
       "      <td>1</td>\n",
       "      <td>1</td>\n",
       "    </tr>\n",
       "    <tr>\n",
       "      <th>2</th>\n",
       "      <td>2020-05-05</td>\n",
       "      <td>831684001</td>\n",
       "      <td>12</td>\n",
       "      <td>12</td>\n",
       "      <td>12</td>\n",
       "    </tr>\n",
       "    <tr>\n",
       "      <th>3</th>\n",
       "      <td>2019-05-28</td>\n",
       "      <td>693508002</td>\n",
       "      <td>1</td>\n",
       "      <td>1</td>\n",
       "      <td>1</td>\n",
       "    </tr>\n",
       "    <tr>\n",
       "      <th>4</th>\n",
       "      <td>2019-07-02</td>\n",
       "      <td>777038001</td>\n",
       "      <td>5</td>\n",
       "      <td>5</td>\n",
       "      <td>5</td>\n",
       "    </tr>\n",
       "    <tr>\n",
       "      <th>...</th>\n",
       "      <td>...</td>\n",
       "      <td>...</td>\n",
       "      <td>...</td>\n",
       "      <td>...</td>\n",
       "      <td>...</td>\n",
       "    </tr>\n",
       "    <tr>\n",
       "      <th>2183240</th>\n",
       "      <td>2019-02-12</td>\n",
       "      <td>664871001</td>\n",
       "      <td>34</td>\n",
       "      <td>34</td>\n",
       "      <td>34</td>\n",
       "    </tr>\n",
       "    <tr>\n",
       "      <th>2183241</th>\n",
       "      <td>2019-11-19</td>\n",
       "      <td>640735001</td>\n",
       "      <td>2</td>\n",
       "      <td>2</td>\n",
       "      <td>2</td>\n",
       "    </tr>\n",
       "    <tr>\n",
       "      <th>2183242</th>\n",
       "      <td>2018-10-02</td>\n",
       "      <td>569355002</td>\n",
       "      <td>6</td>\n",
       "      <td>6</td>\n",
       "      <td>6</td>\n",
       "    </tr>\n",
       "    <tr>\n",
       "      <th>2183243</th>\n",
       "      <td>2019-06-04</td>\n",
       "      <td>684021006</td>\n",
       "      <td>8</td>\n",
       "      <td>8</td>\n",
       "      <td>8</td>\n",
       "    </tr>\n",
       "    <tr>\n",
       "      <th>2183244</th>\n",
       "      <td>2019-04-16</td>\n",
       "      <td>767918005</td>\n",
       "      <td>5</td>\n",
       "      <td>5</td>\n",
       "      <td>5</td>\n",
       "    </tr>\n",
       "  </tbody>\n",
       "</table>\n",
       "<p>2183245 rows × 5 columns</p>\n",
       "</div>"
      ],
      "text/plain": [
       "              ldbw  article_id  count  price  sales_channel_id\n",
       "0       2019-03-12   719447002      4      4                 4\n",
       "1       2019-04-16   590203002      1      1                 1\n",
       "2       2020-05-05   831684001     12     12                12\n",
       "3       2019-05-28   693508002      1      1                 1\n",
       "4       2019-07-02   777038001      5      5                 5\n",
       "...            ...         ...    ...    ...               ...\n",
       "2183240 2019-02-12   664871001     34     34                34\n",
       "2183241 2019-11-19   640735001      2      2                 2\n",
       "2183242 2018-10-02   569355002      6      6                 6\n",
       "2183243 2019-06-04   684021006      8      8                 8\n",
       "2183244 2019-04-16   767918005      5      5                 5\n",
       "\n",
       "[2183245 rows x 5 columns]"
      ]
     },
     "execution_count": 36,
     "metadata": {},
     "output_type": "execute_result"
    }
   ],
   "source": [
    "weekly_sales"
   ]
  },
  {
   "cell_type": "code",
   "execution_count": 37,
   "id": "443186f2",
   "metadata": {
    "_cell_guid": "50496380-7d4d-4c1d-9419-cb77df7c3eca",
    "_uuid": "1476dd6d-0ab4-442a-8484-5c689c79d890",
    "collapsed": false,
    "execution": {
     "iopub.execute_input": "2022-03-28T04:25:55.323914Z",
     "iopub.status.busy": "2022-03-28T04:25:55.322842Z",
     "iopub.status.idle": "2022-03-28T04:25:55.360479Z",
     "shell.execute_reply": "2022-03-28T04:25:55.359998Z",
     "shell.execute_reply.started": "2022-03-28T03:28:30.587375Z"
    },
    "jupyter": {
     "outputs_hidden": false
    },
    "papermill": {
     "duration": 0.193316,
     "end_time": "2022-03-28T04:25:55.360612",
     "exception": false,
     "start_time": "2022-03-28T04:25:55.167296",
     "status": "completed"
    },
    "tags": []
   },
   "outputs": [],
   "source": [
    "df = df[df[\"ldbw\"] >= pd.to_datetime('2020-08-01')]"
   ]
  },
  {
   "cell_type": "code",
   "execution_count": 38,
   "id": "ce12d59c",
   "metadata": {
    "_cell_guid": "e12fa790-d43d-4990-bfe9-17e5b4c549a7",
    "_uuid": "e9a1997a-1b9b-436d-9fc6-652aaca59756",
    "collapsed": false,
    "execution": {
     "iopub.execute_input": "2022-03-28T04:25:55.654887Z",
     "iopub.status.busy": "2022-03-28T04:25:55.653949Z",
     "iopub.status.idle": "2022-03-28T04:25:55.695519Z",
     "shell.execute_reply": "2022-03-28T04:25:55.695001Z",
     "shell.execute_reply.started": "2022-03-28T03:28:30.629338Z"
    },
    "jupyter": {
     "outputs_hidden": false
    },
    "papermill": {
     "duration": 0.190918,
     "end_time": "2022-03-28T04:25:55.695664",
     "exception": false,
     "start_time": "2022-03-28T04:25:55.504746",
     "status": "completed"
    },
    "tags": []
   },
   "outputs": [],
   "source": [
    "full_result = df.merge(relation_data, left_on = \"article_id\", right_on = \"from_id\")"
   ]
  },
  {
   "cell_type": "code",
   "execution_count": 39,
   "id": "06dd0600",
   "metadata": {
    "_cell_guid": "10b315ec-7ea4-4172-ad55-a70246ce96a1",
    "_uuid": "b7bc8b84-f390-4b24-946b-fa2669f6b0e2",
    "collapsed": false,
    "execution": {
     "iopub.execute_input": "2022-03-28T04:25:56.006882Z",
     "iopub.status.busy": "2022-03-28T04:25:56.005064Z",
     "iopub.status.idle": "2022-03-28T04:25:56.007502Z",
     "shell.execute_reply": "2022-03-28T04:25:56.007911Z",
     "shell.execute_reply.started": "2022-03-28T03:28:30.686852Z"
    },
    "jupyter": {
     "outputs_hidden": false
    },
    "papermill": {
     "duration": 0.160517,
     "end_time": "2022-03-28T04:25:56.008046",
     "exception": false,
     "start_time": "2022-03-28T04:25:55.847529",
     "status": "completed"
    },
    "tags": []
   },
   "outputs": [],
   "source": [
    "full_result.drop([\"article_id\", \"from_id\"], axis = 1, inplace = True)"
   ]
  },
  {
   "cell_type": "code",
   "execution_count": 40,
   "id": "fe672cc5",
   "metadata": {
    "_cell_guid": "59103666-3b8d-4570-8cf7-4566d533d022",
    "_uuid": "03524976-e707-44e8-90c9-774bbb8381a2",
    "collapsed": false,
    "execution": {
     "iopub.execute_input": "2022-03-28T04:25:56.305216Z",
     "iopub.status.busy": "2022-03-28T04:25:56.304304Z",
     "iopub.status.idle": "2022-03-28T04:25:56.339888Z",
     "shell.execute_reply": "2022-03-28T04:25:56.339464Z",
     "shell.execute_reply.started": "2022-03-28T03:28:30.696715Z"
    },
    "jupyter": {
     "outputs_hidden": false
    },
    "papermill": {
     "duration": 0.188354,
     "end_time": "2022-03-28T04:25:56.340007",
     "exception": false,
     "start_time": "2022-03-28T04:25:56.151653",
     "status": "completed"
    },
    "tags": []
   },
   "outputs": [],
   "source": [
    "full_result = full_result.rename(columns = {\"to_id\": \"article_id\"})"
   ]
  },
  {
   "cell_type": "code",
   "execution_count": 41,
   "id": "d82ec16b",
   "metadata": {
    "_cell_guid": "ee0a4aa7-6249-4122-81ad-284ca6126585",
    "_uuid": "66148fa0-a308-495b-9af7-ffedc9739c4f",
    "collapsed": false,
    "execution": {
     "iopub.execute_input": "2022-03-28T04:25:56.648494Z",
     "iopub.status.busy": "2022-03-28T04:25:56.647570Z",
     "iopub.status.idle": "2022-03-28T04:25:56.708807Z",
     "shell.execute_reply": "2022-03-28T04:25:56.709248Z",
     "shell.execute_reply.started": "2022-03-28T03:28:30.737243Z"
    },
    "jupyter": {
     "outputs_hidden": false
    },
    "papermill": {
     "duration": 0.220513,
     "end_time": "2022-03-28T04:25:56.709406",
     "exception": false,
     "start_time": "2022-03-28T04:25:56.488893",
     "status": "completed"
    },
    "tags": []
   },
   "outputs": [
    {
     "data": {
      "text/html": [
       "<div>\n",
       "<style scoped>\n",
       "    .dataframe tbody tr th:only-of-type {\n",
       "        vertical-align: middle;\n",
       "    }\n",
       "\n",
       "    .dataframe tbody tr th {\n",
       "        vertical-align: top;\n",
       "    }\n",
       "\n",
       "    .dataframe thead th {\n",
       "        text-align: right;\n",
       "    }\n",
       "</style>\n",
       "<table border=\"1\" class=\"dataframe\">\n",
       "  <thead>\n",
       "    <tr style=\"text-align: right;\">\n",
       "      <th></th>\n",
       "      <th>t_dat</th>\n",
       "      <th>customer_id</th>\n",
       "      <th>price</th>\n",
       "      <th>sales_channel_id</th>\n",
       "      <th>ldbw</th>\n",
       "      <th>article_id</th>\n",
       "      <th>ratio</th>\n",
       "    </tr>\n",
       "  </thead>\n",
       "  <tbody>\n",
       "    <tr>\n",
       "      <th>0</th>\n",
       "      <td>2020-07-29</td>\n",
       "      <td>3036465594818065629</td>\n",
       "      <td>0.033881</td>\n",
       "      <td>2</td>\n",
       "      <td>2020-08-04</td>\n",
       "      <td>685814001</td>\n",
       "      <td>0.202842</td>\n",
       "    </tr>\n",
       "    <tr>\n",
       "      <th>1</th>\n",
       "      <td>2020-07-29</td>\n",
       "      <td>3537752544656884496</td>\n",
       "      <td>0.028000</td>\n",
       "      <td>2</td>\n",
       "      <td>2020-08-04</td>\n",
       "      <td>573716012</td>\n",
       "      <td>0.254098</td>\n",
       "    </tr>\n",
       "    <tr>\n",
       "      <th>2</th>\n",
       "      <td>2020-07-29</td>\n",
       "      <td>-7717826283110685287</td>\n",
       "      <td>0.008458</td>\n",
       "      <td>1</td>\n",
       "      <td>2020-08-04</td>\n",
       "      <td>717490070</td>\n",
       "      <td>0.200893</td>\n",
       "    </tr>\n",
       "    <tr>\n",
       "      <th>3</th>\n",
       "      <td>2020-07-29</td>\n",
       "      <td>-7483859691293573724</td>\n",
       "      <td>0.025407</td>\n",
       "      <td>2</td>\n",
       "      <td>2020-08-04</td>\n",
       "      <td>566140001</td>\n",
       "      <td>0.132757</td>\n",
       "    </tr>\n",
       "    <tr>\n",
       "      <th>4</th>\n",
       "      <td>2020-07-29</td>\n",
       "      <td>3036465594818065629</td>\n",
       "      <td>0.033881</td>\n",
       "      <td>2</td>\n",
       "      <td>2020-08-04</td>\n",
       "      <td>685814001</td>\n",
       "      <td>0.202842</td>\n",
       "    </tr>\n",
       "    <tr>\n",
       "      <th>...</th>\n",
       "      <td>...</td>\n",
       "      <td>...</td>\n",
       "      <td>...</td>\n",
       "      <td>...</td>\n",
       "      <td>...</td>\n",
       "      <td>...</td>\n",
       "      <td>...</td>\n",
       "    </tr>\n",
       "    <tr>\n",
       "      <th>18750425</th>\n",
       "      <td>2020-09-14</td>\n",
       "      <td>-9176619995265183144</td>\n",
       "      <td>0.033881</td>\n",
       "      <td>2</td>\n",
       "      <td>2020-09-15</td>\n",
       "      <td>759871002</td>\n",
       "      <td>0.065574</td>\n",
       "    </tr>\n",
       "    <tr>\n",
       "      <th>18750426</th>\n",
       "      <td>2020-09-14</td>\n",
       "      <td>1308608749432011311</td>\n",
       "      <td>0.025407</td>\n",
       "      <td>2</td>\n",
       "      <td>2020-09-15</td>\n",
       "      <td>678342001</td>\n",
       "      <td>0.064386</td>\n",
       "    </tr>\n",
       "    <tr>\n",
       "      <th>18750427</th>\n",
       "      <td>2020-09-14</td>\n",
       "      <td>-9176619995265183144</td>\n",
       "      <td>0.033881</td>\n",
       "      <td>2</td>\n",
       "      <td>2020-09-15</td>\n",
       "      <td>610776002</td>\n",
       "      <td>0.057377</td>\n",
       "    </tr>\n",
       "    <tr>\n",
       "      <th>18750428</th>\n",
       "      <td>2020-09-14</td>\n",
       "      <td>2976079889644807606</td>\n",
       "      <td>0.059305</td>\n",
       "      <td>2</td>\n",
       "      <td>2020-09-15</td>\n",
       "      <td>732842001</td>\n",
       "      <td>0.061350</td>\n",
       "    </tr>\n",
       "    <tr>\n",
       "      <th>18750429</th>\n",
       "      <td>2020-09-14</td>\n",
       "      <td>2976079889644807606</td>\n",
       "      <td>0.059305</td>\n",
       "      <td>2</td>\n",
       "      <td>2020-09-15</td>\n",
       "      <td>542402001</td>\n",
       "      <td>0.061350</td>\n",
       "    </tr>\n",
       "  </tbody>\n",
       "</table>\n",
       "<p>18750430 rows × 7 columns</p>\n",
       "</div>"
      ],
      "text/plain": [
       "              t_dat          customer_id     price  sales_channel_id  \\\n",
       "0        2020-07-29  3036465594818065629  0.033881                 2   \n",
       "1        2020-07-29  3537752544656884496  0.028000                 2   \n",
       "2        2020-07-29 -7717826283110685287  0.008458                 1   \n",
       "3        2020-07-29 -7483859691293573724  0.025407                 2   \n",
       "4        2020-07-29  3036465594818065629  0.033881                 2   \n",
       "...             ...                  ...       ...               ...   \n",
       "18750425 2020-09-14 -9176619995265183144  0.033881                 2   \n",
       "18750426 2020-09-14  1308608749432011311  0.025407                 2   \n",
       "18750427 2020-09-14 -9176619995265183144  0.033881                 2   \n",
       "18750428 2020-09-14  2976079889644807606  0.059305                 2   \n",
       "18750429 2020-09-14  2976079889644807606  0.059305                 2   \n",
       "\n",
       "               ldbw  article_id     ratio  \n",
       "0        2020-08-04   685814001  0.202842  \n",
       "1        2020-08-04   573716012  0.254098  \n",
       "2        2020-08-04   717490070  0.200893  \n",
       "3        2020-08-04   566140001  0.132757  \n",
       "4        2020-08-04   685814001  0.202842  \n",
       "...             ...         ...       ...  \n",
       "18750425 2020-09-15   759871002  0.065574  \n",
       "18750426 2020-09-15   678342001  0.064386  \n",
       "18750427 2020-09-15   610776002  0.057377  \n",
       "18750428 2020-09-15   732842001  0.061350  \n",
       "18750429 2020-09-15   542402001  0.061350  \n",
       "\n",
       "[18750430 rows x 7 columns]"
      ]
     },
     "execution_count": 41,
     "metadata": {},
     "output_type": "execute_result"
    }
   ],
   "source": [
    "full_result"
   ]
  },
  {
   "cell_type": "code",
   "execution_count": 42,
   "id": "f4efc13e",
   "metadata": {
    "_cell_guid": "ef7e2cbb-fe1a-44d7-9a3e-69283f5eb08b",
    "_uuid": "bd61ab8e-d639-4c55-9481-ec966895a670",
    "collapsed": false,
    "execution": {
     "iopub.execute_input": "2022-03-28T04:25:57.005075Z",
     "iopub.status.busy": "2022-03-28T04:25:57.004186Z",
     "iopub.status.idle": "2022-03-28T04:25:57.063413Z",
     "shell.execute_reply": "2022-03-28T04:25:57.062906Z",
     "shell.execute_reply.started": "2022-03-28T03:28:30.815467Z"
    },
    "jupyter": {
     "outputs_hidden": false
    },
    "papermill": {
     "duration": 0.21029,
     "end_time": "2022-03-28T04:25:57.063546",
     "exception": false,
     "start_time": "2022-03-28T04:25:56.853256",
     "status": "completed"
    },
    "tags": []
   },
   "outputs": [],
   "source": [
    "full_result = full_result.merge(weekly_sales, on=['ldbw', 'article_id'], how = 'left')"
   ]
  },
  {
   "cell_type": "code",
   "execution_count": 43,
   "id": "745fd79c",
   "metadata": {
    "_cell_guid": "17292033-c633-439e-afc9-f95d9b383a05",
    "_uuid": "d4872528-d5e3-4078-80d2-7cc02775988a",
    "collapsed": false,
    "execution": {
     "iopub.execute_input": "2022-03-28T04:25:57.355753Z",
     "iopub.status.busy": "2022-03-28T04:25:57.354828Z",
     "iopub.status.idle": "2022-03-28T04:25:57.357107Z",
     "shell.execute_reply": "2022-03-28T04:25:57.356603Z",
     "shell.execute_reply.started": "2022-03-28T03:28:30.881489Z"
    },
    "jupyter": {
     "outputs_hidden": false
    },
    "papermill": {
     "duration": 0.149747,
     "end_time": "2022-03-28T04:25:57.357245",
     "exception": false,
     "start_time": "2022-03-28T04:25:57.207498",
     "status": "completed"
    },
    "tags": []
   },
   "outputs": [],
   "source": [
    "#full_result.drop([\"article_id\", \"from_id\", \"count\"], axis = 1, inplace = True)"
   ]
  },
  {
   "cell_type": "code",
   "execution_count": 44,
   "id": "0f309751",
   "metadata": {
    "_cell_guid": "9b94f109-f533-4008-8e4a-7d09d5a830e2",
    "_uuid": "8c5c1f5b-448f-4c1f-aacf-bdadd372b414",
    "collapsed": false,
    "execution": {
     "iopub.execute_input": "2022-03-28T04:25:57.651247Z",
     "iopub.status.busy": "2022-03-28T04:25:57.650256Z",
     "iopub.status.idle": "2022-03-28T04:25:57.653747Z",
     "shell.execute_reply": "2022-03-28T04:25:57.654288Z",
     "shell.execute_reply.started": "2022-03-28T03:28:30.888484Z"
    },
    "jupyter": {
     "outputs_hidden": false
    },
    "papermill": {
     "duration": 0.152822,
     "end_time": "2022-03-28T04:25:57.654455",
     "exception": false,
     "start_time": "2022-03-28T04:25:57.501633",
     "status": "completed"
    },
    "tags": []
   },
   "outputs": [],
   "source": [
    "#full_result.dropna(inplace)"
   ]
  },
  {
   "cell_type": "code",
   "execution_count": 45,
   "id": "1c3e7197",
   "metadata": {
    "_cell_guid": "a41a07f7-899b-4233-b4e9-d5ec5acbd30a",
    "_uuid": "faa160ae-7200-4fe2-9959-eb5855b90c3c",
    "collapsed": false,
    "execution": {
     "iopub.execute_input": "2022-03-28T04:25:57.951614Z",
     "iopub.status.busy": "2022-03-28T04:25:57.950767Z",
     "iopub.status.idle": "2022-03-28T04:25:58.038134Z",
     "shell.execute_reply": "2022-03-28T04:25:58.037680Z",
     "shell.execute_reply.started": "2022-03-28T03:28:30.895993Z"
    },
    "jupyter": {
     "outputs_hidden": false
    },
    "papermill": {
     "duration": 0.239788,
     "end_time": "2022-03-28T04:25:58.038511",
     "exception": false,
     "start_time": "2022-03-28T04:25:57.798723",
     "status": "completed"
    },
    "tags": []
   },
   "outputs": [],
   "source": [
    "weekly_sales = weekly_sales.reset_index().set_index('article_id')\n",
    "\n",
    "full_result = full_result.merge(\n",
    "    weekly_sales.loc[weekly_sales['ldbw']==Last_date, ['count']],\n",
    "    on='article_id', suffixes=(\"\", \"_targ\"))\n",
    "\n",
    "full_result['count_targ'].fillna(0, inplace=True)"
   ]
  },
  {
   "cell_type": "code",
   "execution_count": 46,
   "id": "ffd67f7d",
   "metadata": {
    "_cell_guid": "a8fd499d-6b8b-44ef-b355-464934a2cea1",
    "_uuid": "32269869-dcd4-4efb-b262-24eea971d25b",
    "collapsed": false,
    "execution": {
     "iopub.execute_input": "2022-03-28T04:25:58.332973Z",
     "iopub.status.busy": "2022-03-28T04:25:58.332118Z",
     "iopub.status.idle": "2022-03-28T04:25:58.414623Z",
     "shell.execute_reply": "2022-03-28T04:25:58.415106Z",
     "shell.execute_reply.started": "2022-03-28T03:28:30.993178Z"
    },
    "jupyter": {
     "outputs_hidden": false
    },
    "papermill": {
     "duration": 0.231639,
     "end_time": "2022-03-28T04:25:58.415274",
     "exception": false,
     "start_time": "2022-03-28T04:25:58.183635",
     "status": "completed"
    },
    "tags": []
   },
   "outputs": [
    {
     "data": {
      "text/html": [
       "<div>\n",
       "<style scoped>\n",
       "    .dataframe tbody tr th:only-of-type {\n",
       "        vertical-align: middle;\n",
       "    }\n",
       "\n",
       "    .dataframe tbody tr th {\n",
       "        vertical-align: top;\n",
       "    }\n",
       "\n",
       "    .dataframe thead th {\n",
       "        text-align: right;\n",
       "    }\n",
       "</style>\n",
       "<table border=\"1\" class=\"dataframe\">\n",
       "  <thead>\n",
       "    <tr style=\"text-align: right;\">\n",
       "      <th></th>\n",
       "      <th>t_dat</th>\n",
       "      <th>customer_id</th>\n",
       "      <th>price_x</th>\n",
       "      <th>sales_channel_id_x</th>\n",
       "      <th>ldbw</th>\n",
       "      <th>article_id</th>\n",
       "      <th>ratio</th>\n",
       "      <th>count</th>\n",
       "      <th>price_y</th>\n",
       "      <th>sales_channel_id_y</th>\n",
       "      <th>count_targ</th>\n",
       "    </tr>\n",
       "  </thead>\n",
       "  <tbody>\n",
       "    <tr>\n",
       "      <th>0</th>\n",
       "      <td>2020-07-30</td>\n",
       "      <td>6896914372120773055</td>\n",
       "      <td>0.033881</td>\n",
       "      <td>2</td>\n",
       "      <td>2020-08-04</td>\n",
       "      <td>578630002</td>\n",
       "      <td>0.260073</td>\n",
       "      <td>18</td>\n",
       "      <td>18</td>\n",
       "      <td>18</td>\n",
       "      <td>1</td>\n",
       "    </tr>\n",
       "    <tr>\n",
       "      <th>1</th>\n",
       "      <td>2020-07-30</td>\n",
       "      <td>6896914372120773055</td>\n",
       "      <td>0.033881</td>\n",
       "      <td>2</td>\n",
       "      <td>2020-08-04</td>\n",
       "      <td>578630002</td>\n",
       "      <td>0.260073</td>\n",
       "      <td>18</td>\n",
       "      <td>18</td>\n",
       "      <td>18</td>\n",
       "      <td>1</td>\n",
       "    </tr>\n",
       "    <tr>\n",
       "      <th>2</th>\n",
       "      <td>2020-07-30</td>\n",
       "      <td>6896914372120773055</td>\n",
       "      <td>0.008458</td>\n",
       "      <td>2</td>\n",
       "      <td>2020-08-04</td>\n",
       "      <td>610776002</td>\n",
       "      <td>0.291486</td>\n",
       "      <td>208</td>\n",
       "      <td>208</td>\n",
       "      <td>208</td>\n",
       "      <td>206</td>\n",
       "    </tr>\n",
       "    <tr>\n",
       "      <th>3</th>\n",
       "      <td>2020-07-30</td>\n",
       "      <td>6896914372120773055</td>\n",
       "      <td>0.008458</td>\n",
       "      <td>2</td>\n",
       "      <td>2020-08-04</td>\n",
       "      <td>610776002</td>\n",
       "      <td>0.291486</td>\n",
       "      <td>208</td>\n",
       "      <td>208</td>\n",
       "      <td>208</td>\n",
       "      <td>206</td>\n",
       "    </tr>\n",
       "    <tr>\n",
       "      <th>4</th>\n",
       "      <td>2020-07-30</td>\n",
       "      <td>6896914372120773055</td>\n",
       "      <td>0.008458</td>\n",
       "      <td>2</td>\n",
       "      <td>2020-08-04</td>\n",
       "      <td>610776002</td>\n",
       "      <td>0.291486</td>\n",
       "      <td>208</td>\n",
       "      <td>208</td>\n",
       "      <td>208</td>\n",
       "      <td>206</td>\n",
       "    </tr>\n",
       "    <tr>\n",
       "      <th>...</th>\n",
       "      <td>...</td>\n",
       "      <td>...</td>\n",
       "      <td>...</td>\n",
       "      <td>...</td>\n",
       "      <td>...</td>\n",
       "      <td>...</td>\n",
       "      <td>...</td>\n",
       "      <td>...</td>\n",
       "      <td>...</td>\n",
       "      <td>...</td>\n",
       "      <td>...</td>\n",
       "    </tr>\n",
       "    <tr>\n",
       "      <th>17558330</th>\n",
       "      <td>2020-09-15</td>\n",
       "      <td>-73964210312704942</td>\n",
       "      <td>0.042356</td>\n",
       "      <td>2</td>\n",
       "      <td>2020-09-15</td>\n",
       "      <td>799365002</td>\n",
       "      <td>0.061095</td>\n",
       "      <td>83</td>\n",
       "      <td>83</td>\n",
       "      <td>83</td>\n",
       "      <td>83</td>\n",
       "    </tr>\n",
       "    <tr>\n",
       "      <th>17558331</th>\n",
       "      <td>2020-09-15</td>\n",
       "      <td>7801119073323880230</td>\n",
       "      <td>0.063542</td>\n",
       "      <td>2</td>\n",
       "      <td>2020-09-15</td>\n",
       "      <td>111565001</td>\n",
       "      <td>0.090909</td>\n",
       "      <td>30</td>\n",
       "      <td>30</td>\n",
       "      <td>30</td>\n",
       "      <td>30</td>\n",
       "    </tr>\n",
       "    <tr>\n",
       "      <th>17558332</th>\n",
       "      <td>2020-09-15</td>\n",
       "      <td>4662478394268200986</td>\n",
       "      <td>0.013542</td>\n",
       "      <td>1</td>\n",
       "      <td>2020-09-15</td>\n",
       "      <td>448509014</td>\n",
       "      <td>0.060897</td>\n",
       "      <td>609</td>\n",
       "      <td>609</td>\n",
       "      <td>609</td>\n",
       "      <td>609</td>\n",
       "    </tr>\n",
       "    <tr>\n",
       "      <th>17558333</th>\n",
       "      <td>2020-09-15</td>\n",
       "      <td>8945856387308848862</td>\n",
       "      <td>0.035576</td>\n",
       "      <td>2</td>\n",
       "      <td>2020-09-15</td>\n",
       "      <td>562245001</td>\n",
       "      <td>0.089286</td>\n",
       "      <td>18</td>\n",
       "      <td>18</td>\n",
       "      <td>18</td>\n",
       "      <td>18</td>\n",
       "    </tr>\n",
       "    <tr>\n",
       "      <th>17558334</th>\n",
       "      <td>2020-09-15</td>\n",
       "      <td>6959563080138259572</td>\n",
       "      <td>0.008458</td>\n",
       "      <td>1</td>\n",
       "      <td>2020-09-15</td>\n",
       "      <td>778064001</td>\n",
       "      <td>0.140625</td>\n",
       "      <td>120</td>\n",
       "      <td>120</td>\n",
       "      <td>120</td>\n",
       "      <td>120</td>\n",
       "    </tr>\n",
       "  </tbody>\n",
       "</table>\n",
       "<p>17558335 rows × 11 columns</p>\n",
       "</div>"
      ],
      "text/plain": [
       "              t_dat          customer_id   price_x  sales_channel_id_x  \\\n",
       "0        2020-07-30  6896914372120773055  0.033881                   2   \n",
       "1        2020-07-30  6896914372120773055  0.033881                   2   \n",
       "2        2020-07-30  6896914372120773055  0.008458                   2   \n",
       "3        2020-07-30  6896914372120773055  0.008458                   2   \n",
       "4        2020-07-30  6896914372120773055  0.008458                   2   \n",
       "...             ...                  ...       ...                 ...   \n",
       "17558330 2020-09-15   -73964210312704942  0.042356                   2   \n",
       "17558331 2020-09-15  7801119073323880230  0.063542                   2   \n",
       "17558332 2020-09-15  4662478394268200986  0.013542                   1   \n",
       "17558333 2020-09-15  8945856387308848862  0.035576                   2   \n",
       "17558334 2020-09-15  6959563080138259572  0.008458                   1   \n",
       "\n",
       "               ldbw  article_id     ratio  count  price_y  sales_channel_id_y  \\\n",
       "0        2020-08-04   578630002  0.260073     18       18                  18   \n",
       "1        2020-08-04   578630002  0.260073     18       18                  18   \n",
       "2        2020-08-04   610776002  0.291486    208      208                 208   \n",
       "3        2020-08-04   610776002  0.291486    208      208                 208   \n",
       "4        2020-08-04   610776002  0.291486    208      208                 208   \n",
       "...             ...         ...       ...    ...      ...                 ...   \n",
       "17558330 2020-09-15   799365002  0.061095     83       83                  83   \n",
       "17558331 2020-09-15   111565001  0.090909     30       30                  30   \n",
       "17558332 2020-09-15   448509014  0.060897    609      609                 609   \n",
       "17558333 2020-09-15   562245001  0.089286     18       18                  18   \n",
       "17558334 2020-09-15   778064001  0.140625    120      120                 120   \n",
       "\n",
       "          count_targ  \n",
       "0                  1  \n",
       "1                  1  \n",
       "2                206  \n",
       "3                206  \n",
       "4                206  \n",
       "...              ...  \n",
       "17558330          83  \n",
       "17558331          30  \n",
       "17558332         609  \n",
       "17558333          18  \n",
       "17558334         120  \n",
       "\n",
       "[17558335 rows x 11 columns]"
      ]
     },
     "execution_count": 46,
     "metadata": {},
     "output_type": "execute_result"
    }
   ],
   "source": [
    "full_result"
   ]
  },
  {
   "cell_type": "code",
   "execution_count": 47,
   "id": "9fcc700b",
   "metadata": {
    "_cell_guid": "e4f03f0e-d1a2-4efc-a167-d32019ddf872",
    "_uuid": "6a5cd0bb-03ca-4534-bbf7-5f1cd32c7e49",
    "collapsed": false,
    "execution": {
     "iopub.execute_input": "2022-03-28T04:25:58.712153Z",
     "iopub.status.busy": "2022-03-28T04:25:58.711237Z",
     "iopub.status.idle": "2022-03-28T04:25:58.716492Z",
     "shell.execute_reply": "2022-03-28T04:25:58.716012Z",
     "shell.execute_reply.started": "2022-03-28T03:28:31.096542Z"
    },
    "jupyter": {
     "outputs_hidden": false
    },
    "papermill": {
     "duration": 0.157835,
     "end_time": "2022-03-28T04:25:58.716616",
     "exception": false,
     "start_time": "2022-03-28T04:25:58.558781",
     "status": "completed"
    },
    "tags": []
   },
   "outputs": [],
   "source": [
    "full_result['quotient'] = full_result['count_targ'] / full_result['count']"
   ]
  },
  {
   "cell_type": "code",
   "execution_count": 48,
   "id": "47af327b",
   "metadata": {
    "_cell_guid": "260ed538-7ea0-4f0f-9169-4fc9fb90ceb3",
    "_uuid": "e9b3e235-f63f-4e64-9300-bb4080403bff",
    "collapsed": false,
    "execution": {
     "iopub.execute_input": "2022-03-28T04:25:59.034974Z",
     "iopub.status.busy": "2022-03-28T04:25:59.033946Z",
     "iopub.status.idle": "2022-03-28T04:26:22.610211Z",
     "shell.execute_reply": "2022-03-28T04:26:22.609579Z",
     "shell.execute_reply.started": "2022-03-28T03:28:31.107681Z"
    },
    "jupyter": {
     "outputs_hidden": false
    },
    "papermill": {
     "duration": 23.738152,
     "end_time": "2022-03-28T04:26:22.610405",
     "exception": false,
     "start_time": "2022-03-28T04:25:58.872253",
     "status": "completed"
    },
    "tags": []
   },
   "outputs": [
    {
     "name": "stdout",
     "output_type": "stream",
     "text": [
      "CPU times: user 18.8 s, sys: 6.97 s, total: 25.8 s\n",
      "Wall time: 23.6 s\n"
     ]
    }
   ],
   "source": [
    "%%time\n",
    "purchase_dict = {}\n",
    "\n",
    "tmp = full_result.copy().to_pandas()\n",
    "tmp['x'] = ((Last_date - tmp['t_dat']) / np.timedelta64(1, 'D')).astype(int)\n",
    "tmp['dummy_1'] = 1 \n",
    "tmp['x'] = tmp[[\"x\", \"dummy_1\"]].max(axis=1)\n",
    "\n",
    "a, b, c, d = 2.5e4, 1.5e5, 2e-1, 1e3\n",
    "total = 1715530\n",
    "tmp['y'] = ((a / np.sqrt(tmp['x']) + b * np.exp(-c*tmp['x']) - d) / total +\\\n",
    "(a / np.sqrt(tmp['x']+1) + b * np.exp(-c*(tmp['x']+1)) - d) / total +\\\n",
    "(a / np.sqrt(tmp['x']+2) + b * np.exp(-c*(tmp['x']+2)) - d) / total +\\\n",
    "(a / np.sqrt(tmp['x']+3) + b * np.exp(-c*(tmp['x']+3)) - d) / total +\\\n",
    "(a / np.sqrt(tmp['x']+4) + b * np.exp(-c*(tmp['x']+4)) - d) / total +\\\n",
    "(a / np.sqrt(tmp['x']+5) + b * np.exp(-c*(tmp['x']+5)) - d) / total +\\\n",
    "(a / np.sqrt(tmp['x']+6) + b * np.exp(-c*(tmp['x']+6)) - d) / total)\n",
    "\n",
    "tmp['dummy_0'] = 0 \n",
    "tmp['y'] = tmp[[\"y\", \"dummy_0\"]].max(axis=1)\n",
    "tmp['score'] = tmp['quotient'] * tmp['y'] * tmp[\"ratio\"]\n",
    "\n",
    "tmp = tmp.groupby(['customer_id', 'article_id']).agg({'score': 'sum'})\n",
    "tmp = tmp.reset_index()\n",
    "\n",
    "tmp = tmp.loc[tmp['score'] > 0]\n",
    "tmp['rank'] = tmp.groupby(\"customer_id\")[\"score\"].rank(\"dense\", ascending=False)\n",
    "tmp = tmp.loc[tmp['rank'] <= 12]\n",
    "tmp[\"source\"] = 2\n",
    "\n",
    "result2 = tmp[[\"customer_id\", \"article_id\", \"source\", \"score\", \"rank\"]]"
   ]
  },
  {
   "cell_type": "code",
   "execution_count": 49,
   "id": "c0224cb1",
   "metadata": {
    "_cell_guid": "a1c88f16-7ee7-4f8f-914a-95a25add22b6",
    "_uuid": "16adb038-8a6d-4e50-a466-b0011a6787e3",
    "collapsed": false,
    "execution": {
     "iopub.execute_input": "2022-03-28T04:26:22.911918Z",
     "iopub.status.busy": "2022-03-28T04:26:22.910924Z",
     "iopub.status.idle": "2022-03-28T04:26:22.913380Z",
     "shell.execute_reply": "2022-03-28T04:26:22.912814Z",
     "shell.execute_reply.started": "2022-03-28T03:28:56.072469Z"
    },
    "jupyter": {
     "outputs_hidden": false
    },
    "papermill": {
     "duration": 0.153048,
     "end_time": "2022-03-28T04:26:22.913505",
     "exception": false,
     "start_time": "2022-03-28T04:26:22.760457",
     "status": "completed"
    },
    "tags": []
   },
   "outputs": [],
   "source": [
    "#result2.to_csv(\"result2.csv\", index = False)"
   ]
  },
  {
   "cell_type": "code",
   "execution_count": 50,
   "id": "a643f280",
   "metadata": {
    "_cell_guid": "d83f7cfd-a6d0-403c-9f3f-c7fe1dba58b6",
    "_uuid": "73527a50-5428-40cc-b834-1fb7eca3bf56",
    "collapsed": false,
    "execution": {
     "iopub.execute_input": "2022-03-28T04:26:23.356052Z",
     "iopub.status.busy": "2022-03-28T04:26:23.354463Z",
     "iopub.status.idle": "2022-03-28T04:26:23.358378Z",
     "shell.execute_reply": "2022-03-28T04:26:23.357892Z",
     "shell.execute_reply.started": "2022-03-28T03:28:56.079423Z"
    },
    "jupyter": {
     "outputs_hidden": false
    },
    "papermill": {
     "duration": 0.294607,
     "end_time": "2022-03-28T04:26:23.358505",
     "exception": false,
     "start_time": "2022-03-28T04:26:23.063898",
     "status": "completed"
    },
    "tags": []
   },
   "outputs": [
    {
     "data": {
      "text/plain": [
       "42"
      ]
     },
     "execution_count": 50,
     "metadata": {},
     "output_type": "execute_result"
    }
   ],
   "source": [
    "del tmp\n",
    "del df\n",
    "del full_result\n",
    "gc.collect()"
   ]
  },
  {
   "cell_type": "code",
   "execution_count": 51,
   "id": "ca3f6eb9",
   "metadata": {
    "_cell_guid": "87296a64-ae39-488a-a517-fd61510c2aab",
    "_uuid": "43722243-4987-498c-a903-1cbc41421af2",
    "collapsed": false,
    "execution": {
     "iopub.execute_input": "2022-03-28T04:26:23.656999Z",
     "iopub.status.busy": "2022-03-28T04:26:23.655251Z",
     "iopub.status.idle": "2022-03-28T04:26:23.657671Z",
     "shell.execute_reply": "2022-03-28T04:26:23.658063Z",
     "shell.execute_reply.started": "2022-03-28T03:28:56.236337Z"
    },
    "jupyter": {
     "outputs_hidden": false
    },
    "papermill": {
     "duration": 0.154514,
     "end_time": "2022-03-28T04:26:23.658220",
     "exception": false,
     "start_time": "2022-03-28T04:26:23.503706",
     "status": "completed"
    },
    "tags": []
   },
   "outputs": [],
   "source": [
    "#relation_data.to_csv(\"/kaggle/working/relation_data.csv\", index = False)"
   ]
  },
  {
   "cell_type": "code",
   "execution_count": 52,
   "id": "25acc10b",
   "metadata": {
    "_cell_guid": "db9c575d-7371-49ab-b29e-90c07795d63e",
    "_uuid": "87951b6a-89c6-4c93-8801-6a6067e0a2d2",
    "collapsed": false,
    "execution": {
     "iopub.execute_input": "2022-03-28T04:26:23.955422Z",
     "iopub.status.busy": "2022-03-28T04:26:23.953735Z",
     "iopub.status.idle": "2022-03-28T04:26:23.956004Z",
     "shell.execute_reply": "2022-03-28T04:26:23.956490Z",
     "shell.execute_reply.started": "2022-03-28T03:28:56.244635Z"
    },
    "jupyter": {
     "outputs_hidden": false
    },
    "papermill": {
     "duration": 0.154067,
     "end_time": "2022-03-28T04:26:23.956646",
     "exception": false,
     "start_time": "2022-03-28T04:26:23.802579",
     "status": "completed"
    },
    "tags": []
   },
   "outputs": [],
   "source": [
    "# items = cudf.read_csv('../input/h-and-m-personalized-fashion-recommendations/articles.csv')\n",
    "# BASE = '../input/h-and-m-personalized-fashion-recommendations/images/'\n",
    "\n",
    "# for i,(k,v) in enumerate( pairs.items() ):\n",
    "#     name1 = BASE+'0'+str(k)[:2]+'/0'+str(k)+'.jpg'\n",
    "#     name2 = BASE+'0'+str(v[0])[:2]+'/0'+str(v[0])+'.jpg'\n",
    "#     name3 = BASE+'0'+str(v[1])[:2]+'/0'+str(v[1])+'.jpg'\n",
    "#     name4 = BASE+'0'+str(v[2])[:2]+'/0'+str(v[2])+'.jpg'\n",
    "#     if exists(name1) & exists(name2) & exists(name3) & exists(name4):\n",
    "#         plt.figure(figsize=(20,5))\n",
    "#         img1 = cv2.imread(name1)[:,:,::-1]\n",
    "#         img2 = cv2.imread(name2)[:,:,::-1]\n",
    "#         img3 = cv2.imread(name3)[:,:,::-1]\n",
    "#         img4 = cv2.imread(name4)[:,:,::-1]\n",
    "#         plt.subplot(1,4,1)\n",
    "#         plt.title('When customers buy this',size=18)\n",
    "#         plt.imshow(img1)\n",
    "#         plt.subplot(1,4,2)\n",
    "#         plt.title('They buy this',size=18)\n",
    "#         plt.imshow(img2)\n",
    "#         plt.subplot(1,4,3)\n",
    "#         plt.title('They buy this',size=18)\n",
    "#         plt.imshow(img3)\n",
    "#         plt.subplot(1,4,4)\n",
    "#         plt.title('They buy this',size=18)\n",
    "#         plt.imshow(img4)\n",
    "#         plt.show()\n",
    "#     #if i==63: break"
   ]
  },
  {
   "cell_type": "code",
   "execution_count": 53,
   "id": "32f5a67c",
   "metadata": {
    "_cell_guid": "c5e4e9e8-3a40-4d28-9797-89cd87e7b962",
    "_uuid": "aa27b491-dec0-486b-8a6b-4d4af46707c6",
    "collapsed": false,
    "execution": {
     "iopub.execute_input": "2022-03-28T04:26:24.258643Z",
     "iopub.status.busy": "2022-03-28T04:26:24.257945Z",
     "iopub.status.idle": "2022-03-28T04:26:24.260840Z",
     "shell.execute_reply": "2022-03-28T04:26:24.261244Z",
     "shell.execute_reply.started": "2022-03-28T03:28:56.256267Z"
    },
    "jupyter": {
     "outputs_hidden": false
    },
    "papermill": {
     "duration": 0.159258,
     "end_time": "2022-03-28T04:26:24.261383",
     "exception": false,
     "start_time": "2022-03-28T04:26:24.102125",
     "status": "completed"
    },
    "tags": []
   },
   "outputs": [
    {
     "data": {
      "text/html": [
       "<div>\n",
       "<style scoped>\n",
       "    .dataframe tbody tr th:only-of-type {\n",
       "        vertical-align: middle;\n",
       "    }\n",
       "\n",
       "    .dataframe tbody tr th {\n",
       "        vertical-align: top;\n",
       "    }\n",
       "\n",
       "    .dataframe thead th {\n",
       "        text-align: right;\n",
       "    }\n",
       "</style>\n",
       "<table border=\"1\" class=\"dataframe\">\n",
       "  <thead>\n",
       "    <tr style=\"text-align: right;\">\n",
       "      <th></th>\n",
       "      <th>customer_id</th>\n",
       "      <th>article_id</th>\n",
       "      <th>source</th>\n",
       "      <th>score</th>\n",
       "      <th>rank</th>\n",
       "    </tr>\n",
       "  </thead>\n",
       "  <tbody>\n",
       "    <tr>\n",
       "      <th>0</th>\n",
       "      <td>-9223352921020755230</td>\n",
       "      <td>156231001</td>\n",
       "      <td>2</td>\n",
       "      <td>0.002209</td>\n",
       "      <td>12.0</td>\n",
       "    </tr>\n",
       "    <tr>\n",
       "      <th>1</th>\n",
       "      <td>-9223352921020755230</td>\n",
       "      <td>372860001</td>\n",
       "      <td>2</td>\n",
       "      <td>0.003020</td>\n",
       "      <td>8.0</td>\n",
       "    </tr>\n",
       "    <tr>\n",
       "      <th>2</th>\n",
       "      <td>-9223352921020755230</td>\n",
       "      <td>372860002</td>\n",
       "      <td>2</td>\n",
       "      <td>0.002471</td>\n",
       "      <td>11.0</td>\n",
       "    </tr>\n",
       "    <tr>\n",
       "      <th>3</th>\n",
       "      <td>-9223352921020755230</td>\n",
       "      <td>448509014</td>\n",
       "      <td>2</td>\n",
       "      <td>0.003171</td>\n",
       "      <td>7.0</td>\n",
       "    </tr>\n",
       "    <tr>\n",
       "      <th>5</th>\n",
       "      <td>-9223352921020755230</td>\n",
       "      <td>562245046</td>\n",
       "      <td>2</td>\n",
       "      <td>0.002872</td>\n",
       "      <td>9.0</td>\n",
       "    </tr>\n",
       "    <tr>\n",
       "      <th>...</th>\n",
       "      <td>...</td>\n",
       "      <td>...</td>\n",
       "      <td>...</td>\n",
       "      <td>...</td>\n",
       "      <td>...</td>\n",
       "    </tr>\n",
       "    <tr>\n",
       "      <th>10385327</th>\n",
       "      <td>9223144259947635662</td>\n",
       "      <td>719957006</td>\n",
       "      <td>2</td>\n",
       "      <td>0.008230</td>\n",
       "      <td>12.0</td>\n",
       "    </tr>\n",
       "    <tr>\n",
       "      <th>10385329</th>\n",
       "      <td>9223144259947635662</td>\n",
       "      <td>720504004</td>\n",
       "      <td>2</td>\n",
       "      <td>0.021830</td>\n",
       "      <td>2.0</td>\n",
       "    </tr>\n",
       "    <tr>\n",
       "      <th>10385330</th>\n",
       "      <td>9223144259947635662</td>\n",
       "      <td>720504007</td>\n",
       "      <td>2</td>\n",
       "      <td>0.016236</td>\n",
       "      <td>5.0</td>\n",
       "    </tr>\n",
       "    <tr>\n",
       "      <th>10385333</th>\n",
       "      <td>9223144259947635662</td>\n",
       "      <td>730863005</td>\n",
       "      <td>2</td>\n",
       "      <td>0.014194</td>\n",
       "      <td>6.0</td>\n",
       "    </tr>\n",
       "    <tr>\n",
       "      <th>10385339</th>\n",
       "      <td>9223144259947635662</td>\n",
       "      <td>749699001</td>\n",
       "      <td>2</td>\n",
       "      <td>0.009977</td>\n",
       "      <td>8.0</td>\n",
       "    </tr>\n",
       "  </tbody>\n",
       "</table>\n",
       "<p>4005628 rows × 5 columns</p>\n",
       "</div>"
      ],
      "text/plain": [
       "                  customer_id  article_id  source     score  rank\n",
       "0        -9223352921020755230   156231001       2  0.002209  12.0\n",
       "1        -9223352921020755230   372860001       2  0.003020   8.0\n",
       "2        -9223352921020755230   372860002       2  0.002471  11.0\n",
       "3        -9223352921020755230   448509014       2  0.003171   7.0\n",
       "5        -9223352921020755230   562245046       2  0.002872   9.0\n",
       "...                       ...         ...     ...       ...   ...\n",
       "10385327  9223144259947635662   719957006       2  0.008230  12.0\n",
       "10385329  9223144259947635662   720504004       2  0.021830   2.0\n",
       "10385330  9223144259947635662   720504007       2  0.016236   5.0\n",
       "10385333  9223144259947635662   730863005       2  0.014194   6.0\n",
       "10385339  9223144259947635662   749699001       2  0.009977   8.0\n",
       "\n",
       "[4005628 rows x 5 columns]"
      ]
     },
     "execution_count": 53,
     "metadata": {},
     "output_type": "execute_result"
    }
   ],
   "source": [
    "result2"
   ]
  },
  {
   "cell_type": "markdown",
   "id": "1983ec8a",
   "metadata": {
    "_cell_guid": "317b622d-d667-4412-a89c-d9ca0ca05dff",
    "_uuid": "584c8ab9-2095-4992-bd33-2882f36da59c",
    "editable": false,
    "papermill": {
     "duration": 0.153256,
     "end_time": "2022-03-28T04:26:24.559166",
     "exception": false,
     "start_time": "2022-03-28T04:26:24.405910",
     "status": "completed"
    },
    "tags": []
   },
   "source": [
    "## 第三路：分层上周热门（+趋势）"
   ]
  },
  {
   "cell_type": "code",
   "execution_count": 54,
   "id": "96f17733",
   "metadata": {
    "_cell_guid": "315eedef-347c-4be3-a7cb-2dc48bd982a5",
    "_uuid": "6d5dbd7a-4aab-42ab-8260-ab9d09dcaf8a",
    "collapsed": false,
    "execution": {
     "iopub.execute_input": "2022-03-28T04:26:24.869402Z",
     "iopub.status.busy": "2022-03-28T04:26:24.868628Z",
     "iopub.status.idle": "2022-03-28T04:26:32.468810Z",
     "shell.execute_reply": "2022-03-28T04:26:32.468330Z",
     "shell.execute_reply.started": "2022-03-28T03:28:56.278066Z"
    },
    "jupyter": {
     "outputs_hidden": false
    },
    "papermill": {
     "duration": 7.757386,
     "end_time": "2022-03-28T04:26:32.468943",
     "exception": false,
     "start_time": "2022-03-28T04:26:24.711557",
     "status": "completed"
    },
    "tags": []
   },
   "outputs": [
    {
     "name": "stdout",
     "output_type": "stream",
     "text": [
      "Requirement already satisfied: cudf in /opt/conda/lib/python3.7/site-packages (21.10.1)\r\n",
      "Requirement already satisfied: numba>=0.53.1 in /opt/conda/lib/python3.7/site-packages (from cudf) (0.54.1)\r\n",
      "Requirement already satisfied: Cython<0.30,>=0.29 in /opt/conda/lib/python3.7/site-packages (from cudf) (0.29.28)\r\n",
      "Requirement already satisfied: fastavro>=0.22.9 in /opt/conda/lib/python3.7/site-packages (from cudf) (1.4.9)\r\n",
      "Requirement already satisfied: fsspec>=0.6.0 in /opt/conda/lib/python3.7/site-packages (from cudf) (2022.2.0)\r\n",
      "Requirement already satisfied: numpy in /opt/conda/lib/python3.7/site-packages (from cudf) (1.20.3)\r\n",
      "Requirement already satisfied: pandas<1.4.0dev0,>=1.0 in /opt/conda/lib/python3.7/site-packages (from cudf) (1.3.5)\r\n",
      "Requirement already satisfied: typing_extensions in /opt/conda/lib/python3.7/site-packages (from cudf) (4.1.1)\r\n",
      "Requirement already satisfied: protobuf in /opt/conda/lib/python3.7/site-packages (from cudf) (3.19.1)\r\n",
      "Requirement already satisfied: nvtx>=0.2.1 in /opt/conda/lib/python3.7/site-packages (from cudf) (0.2.3)\r\n",
      "Requirement already satisfied: cachetools in /opt/conda/lib/python3.7/site-packages (from cudf) (4.2.4)\r\n",
      "Requirement already satisfied: packaging in /opt/conda/lib/python3.7/site-packages (from cudf) (21.3)\r\n",
      "Requirement already satisfied: cupy-cuda110 in /opt/conda/lib/python3.7/site-packages (from cudf) (10.2.0)\r\n",
      "Requirement already satisfied: llvmlite<0.38,>=0.37.0rc1 in /opt/conda/lib/python3.7/site-packages (from numba>=0.53.1->cudf) (0.37.0)\r\n",
      "Requirement already satisfied: setuptools in /opt/conda/lib/python3.7/site-packages (from numba>=0.53.1->cudf) (59.5.0)\r\n",
      "Requirement already satisfied: python-dateutil>=2.7.3 in /opt/conda/lib/python3.7/site-packages (from pandas<1.4.0dev0,>=1.0->cudf) (2.8.2)\r\n",
      "Requirement already satisfied: pytz>=2017.3 in /opt/conda/lib/python3.7/site-packages (from pandas<1.4.0dev0,>=1.0->cudf) (2021.3)\r\n",
      "Requirement already satisfied: fastrlock>=0.5 in /opt/conda/lib/python3.7/site-packages (from cupy-cuda110->cudf) (0.8)\r\n",
      "Requirement already satisfied: pyparsing!=3.0.5,>=2.0.2 in /opt/conda/lib/python3.7/site-packages (from packaging->cudf) (3.0.6)\r\n",
      "Requirement already satisfied: six>=1.5 in /opt/conda/lib/python3.7/site-packages (from python-dateutil>=2.7.3->pandas<1.4.0dev0,>=1.0->cudf) (1.16.0)\r\n",
      "\u001b[33mWARNING: Running pip as the 'root' user can result in broken permissions and conflicting behaviour with the system package manager. It is recommended to use a virtual environment instead: https://pip.pypa.io/warnings/venv\u001b[0m\r\n"
     ]
    }
   ],
   "source": [
    "!pip install cudf\n",
    "import numpy as np\n",
    "import pandas as pd \n",
    "from datetime import datetime, timedelta\n",
    "import gc\n",
    "import cudf\n",
    "import cv2, matplotlib.pyplot as plt\n",
    "from os.path import exists"
   ]
  },
  {
   "cell_type": "code",
   "execution_count": 55,
   "id": "f3d2807c",
   "metadata": {
    "_cell_guid": "22f0bbec-032a-49ba-98a7-7f0d667a1b7d",
    "_uuid": "ce3d97b4-5a90-4603-a491-974a446b3711",
    "collapsed": false,
    "execution": {
     "iopub.execute_input": "2022-03-28T04:26:32.781215Z",
     "iopub.status.busy": "2022-03-28T04:26:32.780359Z",
     "iopub.status.idle": "2022-03-28T04:26:32.782274Z",
     "shell.execute_reply": "2022-03-28T04:26:32.782693Z",
     "shell.execute_reply.started": "2022-03-28T03:29:04.797098Z"
    },
    "jupyter": {
     "outputs_hidden": false
    },
    "papermill": {
     "duration": 0.155081,
     "end_time": "2022-03-28T04:26:32.782824",
     "exception": false,
     "start_time": "2022-03-28T04:26:32.627743",
     "status": "completed"
    },
    "tags": []
   },
   "outputs": [],
   "source": [
    "# # LOAD TRANSACTIONS DATAFRAME\n",
    "# df = cudf.read_csv('../input/h-and-m-personalized-fashion-recommendations/transactions_train.csv')\n",
    "# print('Transactions shape',df.shape)\n",
    "# display( df.head() )\n",
    "\n",
    "# # REDUCE MEMORY OF DATAFRAME\n",
    "# df = df[['t_dat','customer_id','article_id']]\n",
    "# df.customer_id = df.customer_id.str[-16:].str.hex_to_int().astype('int64')\n",
    "# df.article_id = df.article_id.astype('int32')\n",
    "# df.t_dat = cudf.to_datetime(df.t_dat)\n",
    "# _ = gc.collect()"
   ]
  },
  {
   "cell_type": "code",
   "execution_count": 56,
   "id": "72188f64",
   "metadata": {
    "_cell_guid": "cb454618-33c2-47b3-af3b-cdf3257fff1f",
    "_uuid": "bc87cf18-1345-474d-a9c2-d392f881fb60",
    "collapsed": false,
    "execution": {
     "iopub.execute_input": "2022-03-28T04:26:33.088937Z",
     "iopub.status.busy": "2022-03-28T04:26:33.088138Z",
     "iopub.status.idle": "2022-03-28T04:26:33.094397Z",
     "shell.execute_reply": "2022-03-28T04:26:33.093934Z",
     "shell.execute_reply.started": "2022-03-28T03:29:04.803531Z"
    },
    "jupyter": {
     "outputs_hidden": false
    },
    "papermill": {
     "duration": 0.161617,
     "end_time": "2022-03-28T04:26:33.094515",
     "exception": false,
     "start_time": "2022-03-28T04:26:32.932898",
     "status": "completed"
    },
    "tags": []
   },
   "outputs": [],
   "source": [
    "df = train.copy()"
   ]
  },
  {
   "cell_type": "code",
   "execution_count": 57,
   "id": "90b906e1",
   "metadata": {
    "_cell_guid": "5b9b99fc-c415-4ca7-9bc9-4358689c36a3",
    "_uuid": "838b9b11-b1d3-416e-acd4-2b934dfffae2",
    "collapsed": false,
    "execution": {
     "iopub.execute_input": "2022-03-28T04:26:33.392240Z",
     "iopub.status.busy": "2022-03-28T04:26:33.391722Z",
     "iopub.status.idle": "2022-03-28T04:26:35.962984Z",
     "shell.execute_reply": "2022-03-28T04:26:35.962068Z",
     "shell.execute_reply.started": "2022-03-28T03:29:04.818947Z"
    },
    "jupyter": {
     "outputs_hidden": false
    },
    "papermill": {
     "duration": 2.721992,
     "end_time": "2022-03-28T04:26:35.963128",
     "exception": false,
     "start_time": "2022-03-28T04:26:33.241136",
     "status": "completed"
    },
    "tags": []
   },
   "outputs": [],
   "source": [
    "customer = cudf.read_csv('../input/h-and-m-personalized-fashion-recommendations/customers.csv')\n",
    "customer.customer_id = customer.customer_id.str[-16:].str.hex_to_int().astype('int64')"
   ]
  },
  {
   "cell_type": "code",
   "execution_count": 58,
   "id": "285a0b81",
   "metadata": {
    "_cell_guid": "b17079b9-205e-486f-87e6-b08e9da48999",
    "_uuid": "4fdd1c70-b5cb-4a2f-84ab-c88fc14584ae",
    "collapsed": false,
    "execution": {
     "iopub.execute_input": "2022-03-28T04:26:36.288129Z",
     "iopub.status.busy": "2022-03-28T04:26:36.287232Z",
     "iopub.status.idle": "2022-03-28T04:26:36.527426Z",
     "shell.execute_reply": "2022-03-28T04:26:36.527906Z",
     "shell.execute_reply.started": "2022-03-28T03:29:07.220171Z"
    },
    "jupyter": {
     "outputs_hidden": false
    },
    "papermill": {
     "duration": 0.415493,
     "end_time": "2022-03-28T04:26:36.528083",
     "exception": false,
     "start_time": "2022-03-28T04:26:36.112590",
     "status": "completed"
    },
    "tags": []
   },
   "outputs": [],
   "source": [
    "sales = cudf.merge(df, customer, on = \"customer_id\", how = 'left')\n",
    "sales = sales[sales.t_dat >= Date_week2]"
   ]
  },
  {
   "cell_type": "code",
   "execution_count": 59,
   "id": "f13df21a",
   "metadata": {
    "_cell_guid": "2e0582e2-7688-47db-a665-911dce825218",
    "_uuid": "a46cf55c-be1b-4397-ba31-e8ff758cc600",
    "collapsed": false,
    "execution": {
     "iopub.execute_input": "2022-03-28T04:26:36.824892Z",
     "iopub.status.busy": "2022-03-28T04:26:36.824200Z",
     "iopub.status.idle": "2022-03-28T04:26:36.842558Z",
     "shell.execute_reply": "2022-03-28T04:26:36.842105Z",
     "shell.execute_reply.started": "2022-03-28T03:29:07.497992Z"
    },
    "jupyter": {
     "outputs_hidden": false
    },
    "papermill": {
     "duration": 0.167673,
     "end_time": "2022-03-28T04:26:36.842679",
     "exception": false,
     "start_time": "2022-03-28T04:26:36.675006",
     "status": "completed"
    },
    "tags": []
   },
   "outputs": [],
   "source": [
    "sales = sales.fillna(0)"
   ]
  },
  {
   "cell_type": "code",
   "execution_count": 60,
   "id": "a8334ca6",
   "metadata": {
    "_cell_guid": "8965aabd-1ea7-412a-a6d6-3adc5ddd775d",
    "_uuid": "f1ee2984-f158-4ed9-b78f-cfe49c692208",
    "collapsed": false,
    "execution": {
     "iopub.execute_input": "2022-03-28T04:26:37.143264Z",
     "iopub.status.busy": "2022-03-28T04:26:37.142440Z",
     "iopub.status.idle": "2022-03-28T04:26:37.471524Z",
     "shell.execute_reply": "2022-03-28T04:26:37.471056Z",
     "shell.execute_reply.started": "2022-03-28T03:29:07.585459Z"
    },
    "jupyter": {
     "outputs_hidden": false
    },
    "papermill": {
     "duration": 0.480104,
     "end_time": "2022-03-28T04:26:37.471653",
     "exception": false,
     "start_time": "2022-03-28T04:26:36.991549",
     "status": "completed"
    },
    "tags": []
   },
   "outputs": [
    {
     "data": {
      "text/plain": [
       "<AxesSubplot:>"
      ]
     },
     "execution_count": 60,
     "metadata": {},
     "output_type": "execute_result"
    },
    {
     "data": {
      "image/png": "[encoded data removed]",
      "text/plain": [
       "<Figure size 432x288 with 1 Axes>"
      ]
     },
     "metadata": {
      "needs_background": "light"
     },
     "output_type": "display_data"
    }
   ],
   "source": [
    "sales.to_pandas()[\"age\"].hist()"
   ]
  },
  {
   "cell_type": "code",
   "execution_count": 61,
   "id": "10d6184f",
   "metadata": {
    "_cell_guid": "923c1cf2-30fb-453b-a208-c8727e68271e",
    "_uuid": "0dd7d8cd-e867-4aee-a201-60db3ea62fea",
    "collapsed": false,
    "execution": {
     "iopub.execute_input": "2022-03-28T04:26:37.808929Z",
     "iopub.status.busy": "2022-03-28T04:26:37.807920Z",
     "iopub.status.idle": "2022-03-28T04:26:37.890786Z",
     "shell.execute_reply": "2022-03-28T04:26:37.891275Z",
     "shell.execute_reply.started": "2022-03-28T03:29:07.949512Z"
    },
    "jupyter": {
     "outputs_hidden": false
    },
    "papermill": {
     "duration": 0.261989,
     "end_time": "2022-03-28T04:26:37.891444",
     "exception": false,
     "start_time": "2022-03-28T04:26:37.629455",
     "status": "completed"
    },
    "tags": []
   },
   "outputs": [
    {
     "data": {
      "text/html": [
       "<div>\n",
       "<style scoped>\n",
       "    .dataframe tbody tr th:only-of-type {\n",
       "        vertical-align: middle;\n",
       "    }\n",
       "\n",
       "    .dataframe tbody tr th {\n",
       "        vertical-align: top;\n",
       "    }\n",
       "\n",
       "    .dataframe thead th {\n",
       "        text-align: right;\n",
       "    }\n",
       "</style>\n",
       "<table border=\"1\" class=\"dataframe\">\n",
       "  <thead>\n",
       "    <tr style=\"text-align: right;\">\n",
       "      <th></th>\n",
       "      <th>t_dat</th>\n",
       "      <th>customer_id</th>\n",
       "      <th>article_id</th>\n",
       "      <th>price</th>\n",
       "      <th>sales_channel_id</th>\n",
       "      <th>FN</th>\n",
       "      <th>Active</th>\n",
       "      <th>club_member_status</th>\n",
       "      <th>fashion_news_frequency</th>\n",
       "      <th>age</th>\n",
       "      <th>postal_code</th>\n",
       "    </tr>\n",
       "  </thead>\n",
       "  <tbody>\n",
       "    <tr>\n",
       "      <th>31265728</th>\n",
       "      <td>2020-09-09</td>\n",
       "      <td>-5274452280971349952</td>\n",
       "      <td>237347059</td>\n",
       "      <td>0.033881</td>\n",
       "      <td>2</td>\n",
       "      <td>0.0</td>\n",
       "      <td>0.0</td>\n",
       "      <td>ACTIVE</td>\n",
       "      <td>NONE</td>\n",
       "      <td>25.0</td>\n",
       "      <td>7ea43ac1614c12129a53700fc85900ff7fcded5afbfe58...</td>\n",
       "    </tr>\n",
       "    <tr>\n",
       "      <th>31265729</th>\n",
       "      <td>2020-09-09</td>\n",
       "      <td>-6768069327316571405</td>\n",
       "      <td>898596007</td>\n",
       "      <td>0.016932</td>\n",
       "      <td>1</td>\n",
       "      <td>0.0</td>\n",
       "      <td>0.0</td>\n",
       "      <td>ACTIVE</td>\n",
       "      <td>NONE</td>\n",
       "      <td>68.0</td>\n",
       "      <td>a22bd7ee1057ddd420eaa572f783043b7fa97ce8808c58...</td>\n",
       "    </tr>\n",
       "    <tr>\n",
       "      <th>31265730</th>\n",
       "      <td>2020-09-09</td>\n",
       "      <td>897820301201394760</td>\n",
       "      <td>752814003</td>\n",
       "      <td>0.033881</td>\n",
       "      <td>2</td>\n",
       "      <td>1.0</td>\n",
       "      <td>1.0</td>\n",
       "      <td>ACTIVE</td>\n",
       "      <td>Regularly</td>\n",
       "      <td>22.0</td>\n",
       "      <td>9501f9d3320e943ea57924b8dfdde46515934580a7c17d...</td>\n",
       "    </tr>\n",
       "    <tr>\n",
       "      <th>31265731</th>\n",
       "      <td>2020-09-09</td>\n",
       "      <td>935822568927514223</td>\n",
       "      <td>673677024</td>\n",
       "      <td>0.025407</td>\n",
       "      <td>1</td>\n",
       "      <td>0.0</td>\n",
       "      <td>0.0</td>\n",
       "      <td>ACTIVE</td>\n",
       "      <td>NONE</td>\n",
       "      <td>51.0</td>\n",
       "      <td>6f1debdbcf810153c4ff51cee21109f2b7ee61d285b33e...</td>\n",
       "    </tr>\n",
       "    <tr>\n",
       "      <th>31265732</th>\n",
       "      <td>2020-09-09</td>\n",
       "      <td>-5274452280971349952</td>\n",
       "      <td>237347063</td>\n",
       "      <td>0.033881</td>\n",
       "      <td>2</td>\n",
       "      <td>0.0</td>\n",
       "      <td>0.0</td>\n",
       "      <td>ACTIVE</td>\n",
       "      <td>NONE</td>\n",
       "      <td>25.0</td>\n",
       "      <td>7ea43ac1614c12129a53700fc85900ff7fcded5afbfe58...</td>\n",
       "    </tr>\n",
       "    <tr>\n",
       "      <th>...</th>\n",
       "      <td>...</td>\n",
       "      <td>...</td>\n",
       "      <td>...</td>\n",
       "      <td>...</td>\n",
       "      <td>...</td>\n",
       "      <td>...</td>\n",
       "      <td>...</td>\n",
       "      <td>...</td>\n",
       "      <td>...</td>\n",
       "      <td>...</td>\n",
       "      <td>...</td>\n",
       "    </tr>\n",
       "    <tr>\n",
       "      <th>31548008</th>\n",
       "      <td>2020-09-15</td>\n",
       "      <td>-6427941934161059261</td>\n",
       "      <td>536139067</td>\n",
       "      <td>0.016932</td>\n",
       "      <td>1</td>\n",
       "      <td>0.0</td>\n",
       "      <td>0.0</td>\n",
       "      <td>ACTIVE</td>\n",
       "      <td>NONE</td>\n",
       "      <td>25.0</td>\n",
       "      <td>509fa1aa3f780986d00e233935059f5ca07b658f47912b...</td>\n",
       "    </tr>\n",
       "    <tr>\n",
       "      <th>31548009</th>\n",
       "      <td>2020-09-15</td>\n",
       "      <td>-2906181681434937533</td>\n",
       "      <td>889574009</td>\n",
       "      <td>0.010153</td>\n",
       "      <td>1</td>\n",
       "      <td>1.0</td>\n",
       "      <td>1.0</td>\n",
       "      <td>ACTIVE</td>\n",
       "      <td>Regularly</td>\n",
       "      <td>53.0</td>\n",
       "      <td>cbec264feccfd2b2f4fc2952613ce30a8336a6b1eca43c...</td>\n",
       "    </tr>\n",
       "    <tr>\n",
       "      <th>31548010</th>\n",
       "      <td>2020-09-15</td>\n",
       "      <td>6055964384479180517</td>\n",
       "      <td>936610001</td>\n",
       "      <td>0.042356</td>\n",
       "      <td>1</td>\n",
       "      <td>1.0</td>\n",
       "      <td>1.0</td>\n",
       "      <td>ACTIVE</td>\n",
       "      <td>Regularly</td>\n",
       "      <td>25.0</td>\n",
       "      <td>f4144c30359640930be01f55cd47be44ad6e799e80bf1a...</td>\n",
       "    </tr>\n",
       "    <tr>\n",
       "      <th>31548011</th>\n",
       "      <td>2020-09-15</td>\n",
       "      <td>4656377451867638708</td>\n",
       "      <td>903926002</td>\n",
       "      <td>0.050831</td>\n",
       "      <td>2</td>\n",
       "      <td>1.0</td>\n",
       "      <td>1.0</td>\n",
       "      <td>ACTIVE</td>\n",
       "      <td>Regularly</td>\n",
       "      <td>45.0</td>\n",
       "      <td>1e4dc84725cfc12ae6b64da787a1d918b960772ffcbc1f...</td>\n",
       "    </tr>\n",
       "    <tr>\n",
       "      <th>31548012</th>\n",
       "      <td>2020-09-15</td>\n",
       "      <td>8959927073256559032</td>\n",
       "      <td>909370001</td>\n",
       "      <td>0.033881</td>\n",
       "      <td>1</td>\n",
       "      <td>0.0</td>\n",
       "      <td>0.0</td>\n",
       "      <td>ACTIVE</td>\n",
       "      <td>NONE</td>\n",
       "      <td>24.0</td>\n",
       "      <td>c5728d79840d44cc00b4386113bf6c4ff9426f9c147c68...</td>\n",
       "    </tr>\n",
       "  </tbody>\n",
       "</table>\n",
       "<p>255241 rows × 11 columns</p>\n",
       "</div>"
      ],
      "text/plain": [
       "              t_dat          customer_id  article_id     price  \\\n",
       "31265728 2020-09-09 -5274452280971349952   237347059  0.033881   \n",
       "31265729 2020-09-09 -6768069327316571405   898596007  0.016932   \n",
       "31265730 2020-09-09   897820301201394760   752814003  0.033881   \n",
       "31265731 2020-09-09   935822568927514223   673677024  0.025407   \n",
       "31265732 2020-09-09 -5274452280971349952   237347063  0.033881   \n",
       "...             ...                  ...         ...       ...   \n",
       "31548008 2020-09-15 -6427941934161059261   536139067  0.016932   \n",
       "31548009 2020-09-15 -2906181681434937533   889574009  0.010153   \n",
       "31548010 2020-09-15  6055964384479180517   936610001  0.042356   \n",
       "31548011 2020-09-15  4656377451867638708   903926002  0.050831   \n",
       "31548012 2020-09-15  8959927073256559032   909370001  0.033881   \n",
       "\n",
       "          sales_channel_id   FN  Active club_member_status  \\\n",
       "31265728                 2  0.0     0.0             ACTIVE   \n",
       "31265729                 1  0.0     0.0             ACTIVE   \n",
       "31265730                 2  1.0     1.0             ACTIVE   \n",
       "31265731                 1  0.0     0.0             ACTIVE   \n",
       "31265732                 2  0.0     0.0             ACTIVE   \n",
       "...                    ...  ...     ...                ...   \n",
       "31548008                 1  0.0     0.0             ACTIVE   \n",
       "31548009                 1  1.0     1.0             ACTIVE   \n",
       "31548010                 1  1.0     1.0             ACTIVE   \n",
       "31548011                 2  1.0     1.0             ACTIVE   \n",
       "31548012                 1  0.0     0.0             ACTIVE   \n",
       "\n",
       "         fashion_news_frequency   age  \\\n",
       "31265728                   NONE  25.0   \n",
       "31265729                   NONE  68.0   \n",
       "31265730              Regularly  22.0   \n",
       "31265731                   NONE  51.0   \n",
       "31265732                   NONE  25.0   \n",
       "...                         ...   ...   \n",
       "31548008                   NONE  25.0   \n",
       "31548009              Regularly  53.0   \n",
       "31548010              Regularly  25.0   \n",
       "31548011              Regularly  45.0   \n",
       "31548012                   NONE  24.0   \n",
       "\n",
       "                                                postal_code  \n",
       "31265728  7ea43ac1614c12129a53700fc85900ff7fcded5afbfe58...  \n",
       "31265729  a22bd7ee1057ddd420eaa572f783043b7fa97ce8808c58...  \n",
       "31265730  9501f9d3320e943ea57924b8dfdde46515934580a7c17d...  \n",
       "31265731  6f1debdbcf810153c4ff51cee21109f2b7ee61d285b33e...  \n",
       "31265732  7ea43ac1614c12129a53700fc85900ff7fcded5afbfe58...  \n",
       "...                                                     ...  \n",
       "31548008  509fa1aa3f780986d00e233935059f5ca07b658f47912b...  \n",
       "31548009  cbec264feccfd2b2f4fc2952613ce30a8336a6b1eca43c...  \n",
       "31548010  f4144c30359640930be01f55cd47be44ad6e799e80bf1a...  \n",
       "31548011  1e4dc84725cfc12ae6b64da787a1d918b960772ffcbc1f...  \n",
       "31548012  c5728d79840d44cc00b4386113bf6c4ff9426f9c147c68...  \n",
       "\n",
       "[255241 rows x 11 columns]"
      ]
     },
     "execution_count": 61,
     "metadata": {},
     "output_type": "execute_result"
    }
   ],
   "source": [
    "sales"
   ]
  },
  {
   "cell_type": "code",
   "execution_count": 62,
   "id": "c843bc1c",
   "metadata": {
    "_cell_guid": "490a2367-b14f-40de-8fe6-d99887ece0b0",
    "_uuid": "334b8f05-46f7-4264-aaff-ab91dbcf28da",
    "collapsed": false,
    "execution": {
     "iopub.execute_input": "2022-03-28T04:26:38.204698Z",
     "iopub.status.busy": "2022-03-28T04:26:38.203862Z",
     "iopub.status.idle": "2022-03-28T04:26:38.223414Z",
     "shell.execute_reply": "2022-03-28T04:26:38.222920Z",
     "shell.execute_reply.started": "2022-03-28T03:29:08.057392Z"
    },
    "jupyter": {
     "outputs_hidden": false
    },
    "papermill": {
     "duration": 0.175554,
     "end_time": "2022-03-28T04:26:38.223541",
     "exception": false,
     "start_time": "2022-03-28T04:26:38.047987",
     "status": "completed"
    },
    "tags": []
   },
   "outputs": [],
   "source": [
    "target_sales = sales[[\"article_id\", \"customer_id\"]].groupby('article_id')[\"customer_id\"].count()\n",
    "general_pred = target_sales.nlargest(N, keep = \"first\").index.to_pandas().tolist()\n",
    "general_pred = ['0' + str(article_id) for article_id in general_pred]\n",
    "general_pred_str =  ' '.join(general_pred)\n",
    "del target_sales"
   ]
  },
  {
   "cell_type": "code",
   "execution_count": 63,
   "id": "fcbf9c74",
   "metadata": {
    "_cell_guid": "1ca8a8b7-f271-4796-82e3-7d2c8c9a4301",
    "_uuid": "a8c87106-cccc-4ce3-be8f-27cc5484956d",
    "collapsed": false,
    "execution": {
     "iopub.execute_input": "2022-03-28T04:26:38.526597Z",
     "iopub.status.busy": "2022-03-28T04:26:38.525951Z",
     "iopub.status.idle": "2022-03-28T04:26:38.528961Z",
     "shell.execute_reply": "2022-03-28T04:26:38.529413Z",
     "shell.execute_reply.started": "2022-03-28T03:29:08.084603Z"
    },
    "jupyter": {
     "outputs_hidden": false
    },
    "papermill": {
     "duration": 0.157462,
     "end_time": "2022-03-28T04:26:38.529561",
     "exception": false,
     "start_time": "2022-03-28T04:26:38.372099",
     "status": "completed"
    },
    "tags": []
   },
   "outputs": [
    {
     "data": {
      "text/plain": [
       "'0909370001 0865799006 0918522001 0924243001 0448509014 0751471001 0809238001 0918292001 0762846027 0809238005 0673677002 0923758001'"
      ]
     },
     "execution_count": 63,
     "metadata": {},
     "output_type": "execute_result"
    }
   ],
   "source": [
    "general_pred_str"
   ]
  },
  {
   "cell_type": "code",
   "execution_count": 64,
   "id": "e73b7cb6",
   "metadata": {
    "_cell_guid": "1a5a8ba1-a890-471b-8bc8-46ed3f884a39",
    "_uuid": "ef1404b1-5e74-4b74-a43d-c74718f7e966",
    "collapsed": false,
    "execution": {
     "iopub.execute_input": "2022-03-28T04:26:39.045386Z",
     "iopub.status.busy": "2022-03-28T04:26:39.044471Z",
     "iopub.status.idle": "2022-03-28T04:26:39.046841Z",
     "shell.execute_reply": "2022-03-28T04:26:39.046123Z",
     "shell.execute_reply.started": "2022-03-28T03:29:08.093329Z"
    },
    "jupyter": {
     "outputs_hidden": false
    },
    "papermill": {
     "duration": 0.264081,
     "end_time": "2022-03-28T04:26:39.047005",
     "exception": false,
     "start_time": "2022-03-28T04:26:38.782924",
     "status": "completed"
    },
    "tags": []
   },
   "outputs": [],
   "source": [
    "#sales.age = sales.age.astype(\"float32\")"
   ]
  },
  {
   "cell_type": "code",
   "execution_count": 65,
   "id": "7b404d35",
   "metadata": {
    "_cell_guid": "55adea43-97ea-4c24-9d30-2ce2a7e07443",
    "_uuid": "005a6cc8-cd43-4d2a-9391-b02d9a261d08",
    "collapsed": false,
    "execution": {
     "iopub.execute_input": "2022-03-28T04:26:39.420091Z",
     "iopub.status.busy": "2022-03-28T04:26:39.419264Z",
     "iopub.status.idle": "2022-03-28T04:26:39.516219Z",
     "shell.execute_reply": "2022-03-28T04:26:39.515730Z",
     "shell.execute_reply.started": "2022-03-28T03:29:08.101373Z"
    },
    "jupyter": {
     "outputs_hidden": false
    },
    "papermill": {
     "duration": 0.25742,
     "end_time": "2022-03-28T04:26:39.516360",
     "exception": false,
     "start_time": "2022-03-28T04:26:39.258940",
     "status": "completed"
    },
    "tags": []
   },
   "outputs": [],
   "source": [
    "age_type = pd.cut(sales.to_pandas()[\"age\"], bins = np.array([0, 21, 24, 27, 30, 35, 40, 45, 50, 60, 100], dtype = \"int32\"), right = True)"
   ]
  },
  {
   "cell_type": "code",
   "execution_count": 66,
   "id": "a1d34590",
   "metadata": {
    "_cell_guid": "04e8ec85-58b1-4b98-afd2-6faacc6fc775",
    "_uuid": "f4a6aac7-9f67-4f0f-8b74-b2a0b619d2ca",
    "collapsed": false,
    "execution": {
     "iopub.execute_input": "2022-03-28T04:26:39.821985Z",
     "iopub.status.busy": "2022-03-28T04:26:39.821054Z",
     "iopub.status.idle": "2022-03-28T04:26:40.995795Z",
     "shell.execute_reply": "2022-03-28T04:26:40.995320Z",
     "shell.execute_reply.started": "2022-03-28T03:29:08.197140Z"
    },
    "jupyter": {
     "outputs_hidden": false
    },
    "papermill": {
     "duration": 1.32948,
     "end_time": "2022-03-28T04:26:40.995932",
     "exception": false,
     "start_time": "2022-03-28T04:26:39.666452",
     "status": "completed"
    },
    "tags": []
   },
   "outputs": [],
   "source": [
    "sales[\"age_type\"] = age_type.astype(\"string\")"
   ]
  },
  {
   "cell_type": "code",
   "execution_count": 67,
   "id": "80763fc5",
   "metadata": {
    "_cell_guid": "822dc73e-9015-44e2-9d5d-6fbd7f56f333",
    "_uuid": "e8047d6b-4ab5-44cb-95e5-5b80831680a9",
    "collapsed": false,
    "execution": {
     "iopub.execute_input": "2022-03-28T04:26:41.299817Z",
     "iopub.status.busy": "2022-03-28T04:26:41.298937Z",
     "iopub.status.idle": "2022-03-28T04:26:41.313307Z",
     "shell.execute_reply": "2022-03-28T04:26:41.312858Z",
     "shell.execute_reply.started": "2022-03-28T03:29:09.709126Z"
    },
    "jupyter": {
     "outputs_hidden": false
    },
    "papermill": {
     "duration": 0.169024,
     "end_time": "2022-03-28T04:26:41.313435",
     "exception": false,
     "start_time": "2022-03-28T04:26:41.144411",
     "status": "completed"
    },
    "tags": []
   },
   "outputs": [],
   "source": [
    "summary = sales.groupby([\"fashion_news_frequency\", \"age_type\", \"article_id\"])[\"postal_code\"].count().\\\n",
    "reset_index().rename({\"postal_code\":\"count\"}, axis = 1)"
   ]
  },
  {
   "cell_type": "code",
   "execution_count": 68,
   "id": "b2c87c4a",
   "metadata": {
    "_cell_guid": "db904ec6-6cee-4c82-81ae-5de2c7a37dbc",
    "_uuid": "984be7ba-2077-4d19-a0f7-edd0d9b292c9",
    "collapsed": false,
    "execution": {
     "iopub.execute_input": "2022-03-28T04:26:41.615195Z",
     "iopub.status.busy": "2022-03-28T04:26:41.614367Z",
     "iopub.status.idle": "2022-03-28T04:26:41.671978Z",
     "shell.execute_reply": "2022-03-28T04:26:41.672433Z",
     "shell.execute_reply.started": "2022-03-28T03:29:09.739125Z"
    },
    "jupyter": {
     "outputs_hidden": false
    },
    "papermill": {
     "duration": 0.211192,
     "end_time": "2022-03-28T04:26:41.672587",
     "exception": false,
     "start_time": "2022-03-28T04:26:41.461395",
     "status": "completed"
    },
    "tags": []
   },
   "outputs": [
    {
     "data": {
      "text/html": [
       "<div>\n",
       "<style scoped>\n",
       "    .dataframe tbody tr th:only-of-type {\n",
       "        vertical-align: middle;\n",
       "    }\n",
       "\n",
       "    .dataframe tbody tr th {\n",
       "        vertical-align: top;\n",
       "    }\n",
       "\n",
       "    .dataframe thead th {\n",
       "        text-align: right;\n",
       "    }\n",
       "</style>\n",
       "<table border=\"1\" class=\"dataframe\">\n",
       "  <thead>\n",
       "    <tr style=\"text-align: right;\">\n",
       "      <th></th>\n",
       "      <th>fashion_news_frequency</th>\n",
       "      <th>age_type</th>\n",
       "      <th>article_id</th>\n",
       "      <th>count</th>\n",
       "    </tr>\n",
       "  </thead>\n",
       "  <tbody>\n",
       "    <tr>\n",
       "      <th>2</th>\n",
       "      <td>NONE</td>\n",
       "      <td>(24.0, 27.0]</td>\n",
       "      <td>675070013</td>\n",
       "      <td>1</td>\n",
       "    </tr>\n",
       "    <tr>\n",
       "      <th>3</th>\n",
       "      <td>NONE</td>\n",
       "      <td>(24.0, 27.0]</td>\n",
       "      <td>781135004</td>\n",
       "      <td>1</td>\n",
       "    </tr>\n",
       "    <tr>\n",
       "      <th>4</th>\n",
       "      <td>Regularly</td>\n",
       "      <td>(40.0, 45.0]</td>\n",
       "      <td>919160001</td>\n",
       "      <td>1</td>\n",
       "    </tr>\n",
       "    <tr>\n",
       "      <th>6</th>\n",
       "      <td>Regularly</td>\n",
       "      <td>(0.0, 21.0]</td>\n",
       "      <td>862325004</td>\n",
       "      <td>1</td>\n",
       "    </tr>\n",
       "    <tr>\n",
       "      <th>8</th>\n",
       "      <td>NONE</td>\n",
       "      <td>(50.0, 60.0]</td>\n",
       "      <td>865076004</td>\n",
       "      <td>1</td>\n",
       "    </tr>\n",
       "    <tr>\n",
       "      <th>...</th>\n",
       "      <td>...</td>\n",
       "      <td>...</td>\n",
       "      <td>...</td>\n",
       "      <td>...</td>\n",
       "    </tr>\n",
       "    <tr>\n",
       "      <th>2635</th>\n",
       "      <td>Regularly</td>\n",
       "      <td>(21.0, 24.0]</td>\n",
       "      <td>909370001</td>\n",
       "      <td>112</td>\n",
       "    </tr>\n",
       "    <tr>\n",
       "      <th>67196</th>\n",
       "      <td>NONE</td>\n",
       "      <td>(21.0, 24.0]</td>\n",
       "      <td>909370001</td>\n",
       "      <td>114</td>\n",
       "    </tr>\n",
       "    <tr>\n",
       "      <th>76967</th>\n",
       "      <td>NONE</td>\n",
       "      <td>(27.0, 30.0]</td>\n",
       "      <td>909370001</td>\n",
       "      <td>114</td>\n",
       "    </tr>\n",
       "    <tr>\n",
       "      <th>86330</th>\n",
       "      <td>Regularly</td>\n",
       "      <td>(24.0, 27.0]</td>\n",
       "      <td>909370001</td>\n",
       "      <td>117</td>\n",
       "    </tr>\n",
       "    <tr>\n",
       "      <th>1906</th>\n",
       "      <td>NONE</td>\n",
       "      <td>(24.0, 27.0]</td>\n",
       "      <td>909370001</td>\n",
       "      <td>139</td>\n",
       "    </tr>\n",
       "  </tbody>\n",
       "</table>\n",
       "<p>94093 rows × 4 columns</p>\n",
       "</div>"
      ],
      "text/plain": [
       "      fashion_news_frequency      age_type  article_id  count\n",
       "2                       NONE  (24.0, 27.0]   675070013      1\n",
       "3                       NONE  (24.0, 27.0]   781135004      1\n",
       "4                  Regularly  (40.0, 45.0]   919160001      1\n",
       "6                  Regularly   (0.0, 21.0]   862325004      1\n",
       "8                       NONE  (50.0, 60.0]   865076004      1\n",
       "...                      ...           ...         ...    ...\n",
       "2635               Regularly  (21.0, 24.0]   909370001    112\n",
       "67196                   NONE  (21.0, 24.0]   909370001    114\n",
       "76967                   NONE  (27.0, 30.0]   909370001    114\n",
       "86330              Regularly  (24.0, 27.0]   909370001    117\n",
       "1906                    NONE  (24.0, 27.0]   909370001    139\n",
       "\n",
       "[94093 rows x 4 columns]"
      ]
     },
     "execution_count": 68,
     "metadata": {},
     "output_type": "execute_result"
    }
   ],
   "source": [
    "summary.sort_values(by = [\"count\"])"
   ]
  },
  {
   "cell_type": "code",
   "execution_count": 69,
   "id": "cfc1ac09",
   "metadata": {
    "_cell_guid": "fb248905-fd2f-439a-8eb1-66f9dff2af90",
    "_uuid": "1033eeb1-9548-4a06-b361-e50a578f731c",
    "collapsed": false,
    "execution": {
     "iopub.execute_input": "2022-03-28T04:26:41.978667Z",
     "iopub.status.busy": "2022-03-28T04:26:41.977564Z",
     "iopub.status.idle": "2022-03-28T04:26:42.010825Z",
     "shell.execute_reply": "2022-03-28T04:26:42.010312Z",
     "shell.execute_reply.started": "2022-03-28T03:29:09.813879Z"
    },
    "jupyter": {
     "outputs_hidden": false
    },
    "papermill": {
     "duration": 0.188746,
     "end_time": "2022-03-28T04:26:42.010960",
     "exception": false,
     "start_time": "2022-03-28T04:26:41.822214",
     "status": "completed"
    },
    "tags": []
   },
   "outputs": [],
   "source": [
    "summary[\"total_count\"] = summary.to_pandas().groupby([\"fashion_news_frequency\", \"age_type\"])[\"count\"].transform(sum)"
   ]
  },
  {
   "cell_type": "code",
   "execution_count": 70,
   "id": "feb2a16a",
   "metadata": {
    "_cell_guid": "0bdc80cc-9424-4e7e-932f-31f5f9107d89",
    "_uuid": "4e82ec64-7dc8-4188-b312-6b314cf31dab",
    "collapsed": false,
    "execution": {
     "iopub.execute_input": "2022-03-28T04:26:42.317017Z",
     "iopub.status.busy": "2022-03-28T04:26:42.316479Z",
     "iopub.status.idle": "2022-03-28T04:26:42.320911Z",
     "shell.execute_reply": "2022-03-28T04:26:42.319849Z",
     "shell.execute_reply.started": "2022-03-28T03:29:09.855467Z"
    },
    "jupyter": {
     "outputs_hidden": false
    },
    "papermill": {
     "duration": 0.158647,
     "end_time": "2022-03-28T04:26:42.321029",
     "exception": false,
     "start_time": "2022-03-28T04:26:42.162382",
     "status": "completed"
    },
    "tags": []
   },
   "outputs": [],
   "source": [
    "summary[\"score\"] = summary[\"count\"]/summary[\"total_count\"]"
   ]
  },
  {
   "cell_type": "code",
   "execution_count": 71,
   "id": "ab163051",
   "metadata": {
    "_cell_guid": "f45641db-c4c0-48f6-9040-c7e5d685b4a7",
    "_uuid": "c63a3287-689d-4965-b951-c848392e5479",
    "collapsed": false,
    "execution": {
     "iopub.execute_input": "2022-03-28T04:26:42.637623Z",
     "iopub.status.busy": "2022-03-28T04:26:42.636771Z",
     "iopub.status.idle": "2022-03-28T04:26:42.639905Z",
     "shell.execute_reply": "2022-03-28T04:26:42.639419Z",
     "shell.execute_reply.started": "2022-03-28T03:29:09.864169Z"
    },
    "jupyter": {
     "outputs_hidden": false
    },
    "papermill": {
     "duration": 0.169446,
     "end_time": "2022-03-28T04:26:42.640029",
     "exception": false,
     "start_time": "2022-03-28T04:26:42.470583",
     "status": "completed"
    },
    "tags": []
   },
   "outputs": [],
   "source": [
    "summary = cudf.DataFrame(summary)"
   ]
  },
  {
   "cell_type": "code",
   "execution_count": 72,
   "id": "6d0640da",
   "metadata": {
    "_cell_guid": "36974057-5728-442c-a2b7-d9bf01e2c571",
    "_uuid": "882cbb73-746e-4a66-8b4f-9e391609bf0d",
    "collapsed": false,
    "execution": {
     "iopub.execute_input": "2022-03-28T04:26:42.959864Z",
     "iopub.status.busy": "2022-03-28T04:26:42.958944Z",
     "iopub.status.idle": "2022-03-28T04:26:43.024751Z",
     "shell.execute_reply": "2022-03-28T04:26:43.025130Z",
     "shell.execute_reply.started": "2022-03-28T03:29:09.873282Z"
    },
    "jupyter": {
     "outputs_hidden": false
    },
    "papermill": {
     "duration": 0.226265,
     "end_time": "2022-03-28T04:26:43.025299",
     "exception": false,
     "start_time": "2022-03-28T04:26:42.799034",
     "status": "completed"
    },
    "tags": []
   },
   "outputs": [
    {
     "data": {
      "text/html": [
       "<div>\n",
       "<style scoped>\n",
       "    .dataframe tbody tr th:only-of-type {\n",
       "        vertical-align: middle;\n",
       "    }\n",
       "\n",
       "    .dataframe tbody tr th {\n",
       "        vertical-align: top;\n",
       "    }\n",
       "\n",
       "    .dataframe thead th {\n",
       "        text-align: right;\n",
       "    }\n",
       "</style>\n",
       "<table border=\"1\" class=\"dataframe\">\n",
       "  <thead>\n",
       "    <tr style=\"text-align: right;\">\n",
       "      <th></th>\n",
       "      <th>fashion_news_frequency</th>\n",
       "      <th>age_type</th>\n",
       "      <th>article_id</th>\n",
       "      <th>count</th>\n",
       "      <th>total_count</th>\n",
       "      <th>score</th>\n",
       "    </tr>\n",
       "  </thead>\n",
       "  <tbody>\n",
       "    <tr>\n",
       "      <th>70560</th>\n",
       "      <td>NONE</td>\n",
       "      <td>(30.0, 35.0]</td>\n",
       "      <td>108775044</td>\n",
       "      <td>1</td>\n",
       "      <td>16446</td>\n",
       "      <td>0.000061</td>\n",
       "    </tr>\n",
       "    <tr>\n",
       "      <th>92656</th>\n",
       "      <td>NONE</td>\n",
       "      <td>(50.0, 60.0]</td>\n",
       "      <td>108775044</td>\n",
       "      <td>2</td>\n",
       "      <td>17777</td>\n",
       "      <td>0.000113</td>\n",
       "    </tr>\n",
       "    <tr>\n",
       "      <th>18045</th>\n",
       "      <td>NONE</td>\n",
       "      <td>(45.0, 50.0]</td>\n",
       "      <td>111565001</td>\n",
       "      <td>1</td>\n",
       "      <td>12402</td>\n",
       "      <td>0.000081</td>\n",
       "    </tr>\n",
       "    <tr>\n",
       "      <th>28623</th>\n",
       "      <td>Regularly</td>\n",
       "      <td>(24.0, 27.0]</td>\n",
       "      <td>111565001</td>\n",
       "      <td>1</td>\n",
       "      <td>14442</td>\n",
       "      <td>0.000069</td>\n",
       "    </tr>\n",
       "    <tr>\n",
       "      <th>66580</th>\n",
       "      <td>NONE</td>\n",
       "      <td>(40.0, 45.0]</td>\n",
       "      <td>111565001</td>\n",
       "      <td>1</td>\n",
       "      <td>8065</td>\n",
       "      <td>0.000124</td>\n",
       "    </tr>\n",
       "    <tr>\n",
       "      <th>...</th>\n",
       "      <td>...</td>\n",
       "      <td>...</td>\n",
       "      <td>...</td>\n",
       "      <td>...</td>\n",
       "      <td>...</td>\n",
       "      <td>...</td>\n",
       "    </tr>\n",
       "    <tr>\n",
       "      <th>82246</th>\n",
       "      <td>Regularly</td>\n",
       "      <td>(50.0, 60.0]</td>\n",
       "      <td>956217002</td>\n",
       "      <td>1</td>\n",
       "      <td>17613</td>\n",
       "      <td>0.000057</td>\n",
       "    </tr>\n",
       "    <tr>\n",
       "      <th>84577</th>\n",
       "      <td>Regularly</td>\n",
       "      <td>(60.0, 100.0]</td>\n",
       "      <td>956217002</td>\n",
       "      <td>1</td>\n",
       "      <td>6074</td>\n",
       "      <td>0.000165</td>\n",
       "    </tr>\n",
       "    <tr>\n",
       "      <th>88549</th>\n",
       "      <td>Regularly</td>\n",
       "      <td>(21.0, 24.0]</td>\n",
       "      <td>956217002</td>\n",
       "      <td>2</td>\n",
       "      <td>15838</td>\n",
       "      <td>0.000126</td>\n",
       "    </tr>\n",
       "    <tr>\n",
       "      <th>554</th>\n",
       "      <td>NONE</td>\n",
       "      <td>(50.0, 60.0]</td>\n",
       "      <td>956217002</td>\n",
       "      <td>3</td>\n",
       "      <td>17777</td>\n",
       "      <td>0.000169</td>\n",
       "    </tr>\n",
       "    <tr>\n",
       "      <th>46392</th>\n",
       "      <td>NONE</td>\n",
       "      <td>(45.0, 50.0]</td>\n",
       "      <td>956217002</td>\n",
       "      <td>3</td>\n",
       "      <td>12402</td>\n",
       "      <td>0.000242</td>\n",
       "    </tr>\n",
       "  </tbody>\n",
       "</table>\n",
       "<p>94093 rows × 6 columns</p>\n",
       "</div>"
      ],
      "text/plain": [
       "      fashion_news_frequency       age_type  article_id  count  total_count  \\\n",
       "70560                   NONE   (30.0, 35.0]   108775044      1        16446   \n",
       "92656                   NONE   (50.0, 60.0]   108775044      2        17777   \n",
       "18045                   NONE   (45.0, 50.0]   111565001      1        12402   \n",
       "28623              Regularly   (24.0, 27.0]   111565001      1        14442   \n",
       "66580                   NONE   (40.0, 45.0]   111565001      1         8065   \n",
       "...                      ...            ...         ...    ...          ...   \n",
       "82246              Regularly   (50.0, 60.0]   956217002      1        17613   \n",
       "84577              Regularly  (60.0, 100.0]   956217002      1         6074   \n",
       "88549              Regularly   (21.0, 24.0]   956217002      2        15838   \n",
       "554                     NONE   (50.0, 60.0]   956217002      3        17777   \n",
       "46392                   NONE   (45.0, 50.0]   956217002      3        12402   \n",
       "\n",
       "          score  \n",
       "70560  0.000061  \n",
       "92656  0.000113  \n",
       "18045  0.000081  \n",
       "28623  0.000069  \n",
       "66580  0.000124  \n",
       "...         ...  \n",
       "82246  0.000057  \n",
       "84577  0.000165  \n",
       "88549  0.000126  \n",
       "554    0.000169  \n",
       "46392  0.000242  \n",
       "\n",
       "[94093 rows x 6 columns]"
      ]
     },
     "execution_count": 72,
     "metadata": {},
     "output_type": "execute_result"
    }
   ],
   "source": [
    "summary.sort_values(by = [\"article_id\", \"count\"])"
   ]
  },
  {
   "cell_type": "code",
   "execution_count": 73,
   "id": "bcfc7ef0",
   "metadata": {
    "_cell_guid": "a761a4c6-7966-4443-bb1e-6ed9caf2c96e",
    "_uuid": "efa83622-d490-4db3-8122-27d4bcd783d7",
    "collapsed": false,
    "execution": {
     "iopub.execute_input": "2022-03-28T04:26:43.329140Z",
     "iopub.status.busy": "2022-03-28T04:26:43.328226Z",
     "iopub.status.idle": "2022-03-28T04:26:43.371672Z",
     "shell.execute_reply": "2022-03-28T04:26:43.371147Z",
     "shell.execute_reply.started": "2022-03-28T03:29:09.958729Z"
    },
    "jupyter": {
     "outputs_hidden": false
    },
    "papermill": {
     "duration": 0.196981,
     "end_time": "2022-03-28T04:26:43.371806",
     "exception": false,
     "start_time": "2022-03-28T04:26:43.174825",
     "status": "completed"
    },
    "tags": []
   },
   "outputs": [],
   "source": [
    "summary['rank'] = summary.to_pandas().groupby([\"fashion_news_frequency\", \"age_type\"])[\"score\"].rank(\"dense\", ascending=False)\n",
    "summary = summary.loc[summary['rank'] <= 12]"
   ]
  },
  {
   "cell_type": "code",
   "execution_count": 74,
   "id": "4f596a2c",
   "metadata": {
    "_cell_guid": "3eee64f1-9551-465f-96a2-5b8469c9f90e",
    "_uuid": "05522ddd-085f-4ec1-935b-8557be758cba",
    "collapsed": false,
    "execution": {
     "iopub.execute_input": "2022-03-28T04:26:43.679571Z",
     "iopub.status.busy": "2022-03-28T04:26:43.678966Z",
     "iopub.status.idle": "2022-03-28T04:26:46.516461Z",
     "shell.execute_reply": "2022-03-28T04:26:46.515851Z",
     "shell.execute_reply.started": "2022-03-28T03:29:10.014296Z"
    },
    "jupyter": {
     "outputs_hidden": false
    },
    "papermill": {
     "duration": 2.995253,
     "end_time": "2022-03-28T04:26:46.516624",
     "exception": false,
     "start_time": "2022-03-28T04:26:43.521371",
     "status": "completed"
    },
    "tags": []
   },
   "outputs": [
    {
     "name": "stdout",
     "output_type": "stream",
     "text": [
      "CPU times: user 133 ms, sys: 102 ms, total: 235 ms\n",
      "Wall time: 2.83 s\n"
     ]
    }
   ],
   "source": [
    "%%time\n",
    "sub  = cudf.read_csv('../input/h-and-m-personalized-fashion-recommendations/sample_submission.csv',\n",
    "                            usecols= ['customer_id'], \n",
    "                            dtype={'customer_id': 'string'})\n",
    "\n",
    "sub['customer_id2'] = sub['customer_id'].str[-16:].str.hex_to_int().astype('int64')\n",
    "sub = sub.rename(columns = {'customer_id2':'customer_id', 'customer_id':'customer_id2'})"
   ]
  },
  {
   "cell_type": "code",
   "execution_count": 75,
   "id": "26e20c34",
   "metadata": {
    "_cell_guid": "3cb432a9-df0a-4593-8095-a2e2bc645279",
    "_uuid": "91148f88-e46b-4d17-969a-591cdab78b9b",
    "collapsed": false,
    "execution": {
     "iopub.execute_input": "2022-03-28T04:26:46.825449Z",
     "iopub.status.busy": "2022-03-28T04:26:46.823461Z",
     "iopub.status.idle": "2022-03-28T04:26:46.870173Z",
     "shell.execute_reply": "2022-03-28T04:26:46.870651Z",
     "shell.execute_reply.started": "2022-03-28T03:29:12.516165Z"
    },
    "jupyter": {
     "outputs_hidden": false
    },
    "papermill": {
     "duration": 0.202721,
     "end_time": "2022-03-28T04:26:46.870802",
     "exception": false,
     "start_time": "2022-03-28T04:26:46.668081",
     "status": "completed"
    },
    "tags": []
   },
   "outputs": [
    {
     "data": {
      "text/html": [
       "<div>\n",
       "<style scoped>\n",
       "    .dataframe tbody tr th:only-of-type {\n",
       "        vertical-align: middle;\n",
       "    }\n",
       "\n",
       "    .dataframe tbody tr th {\n",
       "        vertical-align: top;\n",
       "    }\n",
       "\n",
       "    .dataframe thead th {\n",
       "        text-align: right;\n",
       "    }\n",
       "</style>\n",
       "<table border=\"1\" class=\"dataframe\">\n",
       "  <thead>\n",
       "    <tr style=\"text-align: right;\">\n",
       "      <th></th>\n",
       "      <th>customer_id2</th>\n",
       "      <th>customer_id</th>\n",
       "    </tr>\n",
       "  </thead>\n",
       "  <tbody>\n",
       "    <tr>\n",
       "      <th>0</th>\n",
       "      <td>00000dbacae5abe5e23885899a1fa44253a17956c6d1c3...</td>\n",
       "      <td>6883939031699146327</td>\n",
       "    </tr>\n",
       "    <tr>\n",
       "      <th>1</th>\n",
       "      <td>0000423b00ade91418cceaf3b26c6af3dd342b51fd051e...</td>\n",
       "      <td>-7200416642310594310</td>\n",
       "    </tr>\n",
       "    <tr>\n",
       "      <th>2</th>\n",
       "      <td>000058a12d5b43e67d225668fa1f8d618c13dc232df0ca...</td>\n",
       "      <td>-6846340800584936</td>\n",
       "    </tr>\n",
       "    <tr>\n",
       "      <th>3</th>\n",
       "      <td>00005ca1c9ed5f5146b52ac8639a40ca9d57aeff4d1bd2...</td>\n",
       "      <td>-94071612138601410</td>\n",
       "    </tr>\n",
       "    <tr>\n",
       "      <th>4</th>\n",
       "      <td>00006413d8573cd20ed7128e53b7b13819fe5cfc2d801f...</td>\n",
       "      <td>-283965518499174310</td>\n",
       "    </tr>\n",
       "    <tr>\n",
       "      <th>...</th>\n",
       "      <td>...</td>\n",
       "      <td>...</td>\n",
       "    </tr>\n",
       "    <tr>\n",
       "      <th>1371975</th>\n",
       "      <td>ffffbbf78b6eaac697a8a5dfbfd2bfa8113ee5b403e474...</td>\n",
       "      <td>7551062398649767985</td>\n",
       "    </tr>\n",
       "    <tr>\n",
       "      <th>1371976</th>\n",
       "      <td>ffffcd5046a6143d29a04fb8c424ce494a76e5cdf4fab5...</td>\n",
       "      <td>-9141402131989464905</td>\n",
       "    </tr>\n",
       "    <tr>\n",
       "      <th>1371977</th>\n",
       "      <td>ffffcf35913a0bee60e8741cb2b4e78b8a98ee5ff2e6a1...</td>\n",
       "      <td>-8286316756823862684</td>\n",
       "    </tr>\n",
       "    <tr>\n",
       "      <th>1371978</th>\n",
       "      <td>ffffd7744cebcf3aca44ae7049d2a94b87074c3d4ffe38...</td>\n",
       "      <td>2551401172826382186</td>\n",
       "    </tr>\n",
       "    <tr>\n",
       "      <th>1371979</th>\n",
       "      <td>ffffd9ac14e89946416d80e791d064701994755c3ab686...</td>\n",
       "      <td>-1516792180973952447</td>\n",
       "    </tr>\n",
       "  </tbody>\n",
       "</table>\n",
       "<p>1371980 rows × 2 columns</p>\n",
       "</div>"
      ],
      "text/plain": [
       "                                              customer_id2  \\\n",
       "0        00000dbacae5abe5e23885899a1fa44253a17956c6d1c3...   \n",
       "1        0000423b00ade91418cceaf3b26c6af3dd342b51fd051e...   \n",
       "2        000058a12d5b43e67d225668fa1f8d618c13dc232df0ca...   \n",
       "3        00005ca1c9ed5f5146b52ac8639a40ca9d57aeff4d1bd2...   \n",
       "4        00006413d8573cd20ed7128e53b7b13819fe5cfc2d801f...   \n",
       "...                                                    ...   \n",
       "1371975  ffffbbf78b6eaac697a8a5dfbfd2bfa8113ee5b403e474...   \n",
       "1371976  ffffcd5046a6143d29a04fb8c424ce494a76e5cdf4fab5...   \n",
       "1371977  ffffcf35913a0bee60e8741cb2b4e78b8a98ee5ff2e6a1...   \n",
       "1371978  ffffd7744cebcf3aca44ae7049d2a94b87074c3d4ffe38...   \n",
       "1371979  ffffd9ac14e89946416d80e791d064701994755c3ab686...   \n",
       "\n",
       "                 customer_id  \n",
       "0        6883939031699146327  \n",
       "1       -7200416642310594310  \n",
       "2          -6846340800584936  \n",
       "3         -94071612138601410  \n",
       "4        -283965518499174310  \n",
       "...                      ...  \n",
       "1371975  7551062398649767985  \n",
       "1371976 -9141402131989464905  \n",
       "1371977 -8286316756823862684  \n",
       "1371978  2551401172826382186  \n",
       "1371979 -1516792180973952447  \n",
       "\n",
       "[1371980 rows x 2 columns]"
      ]
     },
     "execution_count": 75,
     "metadata": {},
     "output_type": "execute_result"
    }
   ],
   "source": [
    "sub"
   ]
  },
  {
   "cell_type": "code",
   "execution_count": 76,
   "id": "2c5518c5",
   "metadata": {
    "_cell_guid": "66a45798-7283-4a51-b3be-aa40412171bb",
    "_uuid": "bd125400-8975-435a-b304-7e06ffeac2d4",
    "collapsed": false,
    "execution": {
     "iopub.execute_input": "2022-03-28T04:26:47.182096Z",
     "iopub.status.busy": "2022-03-28T04:26:47.181205Z",
     "iopub.status.idle": "2022-03-28T04:26:47.271710Z",
     "shell.execute_reply": "2022-03-28T04:26:47.272119Z",
     "shell.execute_reply.started": "2022-03-28T03:29:12.576709Z"
    },
    "jupyter": {
     "outputs_hidden": false
    },
    "papermill": {
     "duration": 0.249031,
     "end_time": "2022-03-28T04:26:47.272293",
     "exception": false,
     "start_time": "2022-03-28T04:26:47.023262",
     "status": "completed"
    },
    "tags": []
   },
   "outputs": [
    {
     "data": {
      "text/html": [
       "<div>\n",
       "<style scoped>\n",
       "    .dataframe tbody tr th:only-of-type {\n",
       "        vertical-align: middle;\n",
       "    }\n",
       "\n",
       "    .dataframe tbody tr th {\n",
       "        vertical-align: top;\n",
       "    }\n",
       "\n",
       "    .dataframe thead th {\n",
       "        text-align: right;\n",
       "    }\n",
       "</style>\n",
       "<table border=\"1\" class=\"dataframe\">\n",
       "  <thead>\n",
       "    <tr style=\"text-align: right;\">\n",
       "      <th></th>\n",
       "      <th>customer_id</th>\n",
       "      <th>FN</th>\n",
       "      <th>Active</th>\n",
       "      <th>club_member_status</th>\n",
       "      <th>fashion_news_frequency</th>\n",
       "      <th>age</th>\n",
       "      <th>postal_code</th>\n",
       "    </tr>\n",
       "  </thead>\n",
       "  <tbody>\n",
       "    <tr>\n",
       "      <th>0</th>\n",
       "      <td>6883939031699146327</td>\n",
       "      <td>&lt;NA&gt;</td>\n",
       "      <td>&lt;NA&gt;</td>\n",
       "      <td>ACTIVE</td>\n",
       "      <td>NONE</td>\n",
       "      <td>49.0</td>\n",
       "      <td>52043ee2162cf5aa7ee79974281641c6f11a68d276429a...</td>\n",
       "    </tr>\n",
       "    <tr>\n",
       "      <th>1</th>\n",
       "      <td>-7200416642310594310</td>\n",
       "      <td>&lt;NA&gt;</td>\n",
       "      <td>&lt;NA&gt;</td>\n",
       "      <td>ACTIVE</td>\n",
       "      <td>NONE</td>\n",
       "      <td>25.0</td>\n",
       "      <td>2973abc54daa8a5f8ccfe9362140c63247c5eee03f1d93...</td>\n",
       "    </tr>\n",
       "    <tr>\n",
       "      <th>2</th>\n",
       "      <td>-6846340800584936</td>\n",
       "      <td>&lt;NA&gt;</td>\n",
       "      <td>&lt;NA&gt;</td>\n",
       "      <td>ACTIVE</td>\n",
       "      <td>NONE</td>\n",
       "      <td>24.0</td>\n",
       "      <td>64f17e6a330a85798e4998f62d0930d14db8db1c054af6...</td>\n",
       "    </tr>\n",
       "    <tr>\n",
       "      <th>3</th>\n",
       "      <td>-94071612138601410</td>\n",
       "      <td>&lt;NA&gt;</td>\n",
       "      <td>&lt;NA&gt;</td>\n",
       "      <td>ACTIVE</td>\n",
       "      <td>NONE</td>\n",
       "      <td>54.0</td>\n",
       "      <td>5d36574f52495e81f019b680c843c443bd343d5ca5b1c2...</td>\n",
       "    </tr>\n",
       "    <tr>\n",
       "      <th>4</th>\n",
       "      <td>-283965518499174310</td>\n",
       "      <td>1.0</td>\n",
       "      <td>1.0</td>\n",
       "      <td>ACTIVE</td>\n",
       "      <td>Regularly</td>\n",
       "      <td>52.0</td>\n",
       "      <td>25fa5ddee9aac01b35208d01736e57942317d756b32ddd...</td>\n",
       "    </tr>\n",
       "    <tr>\n",
       "      <th>...</th>\n",
       "      <td>...</td>\n",
       "      <td>...</td>\n",
       "      <td>...</td>\n",
       "      <td>...</td>\n",
       "      <td>...</td>\n",
       "      <td>...</td>\n",
       "      <td>...</td>\n",
       "    </tr>\n",
       "    <tr>\n",
       "      <th>1371975</th>\n",
       "      <td>7551062398649767985</td>\n",
       "      <td>&lt;NA&gt;</td>\n",
       "      <td>&lt;NA&gt;</td>\n",
       "      <td>ACTIVE</td>\n",
       "      <td>NONE</td>\n",
       "      <td>24.0</td>\n",
       "      <td>7aa399f7e669990daba2d92c577b52237380662f36480b...</td>\n",
       "    </tr>\n",
       "    <tr>\n",
       "      <th>1371976</th>\n",
       "      <td>-9141402131989464905</td>\n",
       "      <td>&lt;NA&gt;</td>\n",
       "      <td>&lt;NA&gt;</td>\n",
       "      <td>ACTIVE</td>\n",
       "      <td>NONE</td>\n",
       "      <td>21.0</td>\n",
       "      <td>3f47f1279beb72215f4de557d950e0bfa73789d24acb5e...</td>\n",
       "    </tr>\n",
       "    <tr>\n",
       "      <th>1371977</th>\n",
       "      <td>-8286316756823862684</td>\n",
       "      <td>1.0</td>\n",
       "      <td>1.0</td>\n",
       "      <td>ACTIVE</td>\n",
       "      <td>Regularly</td>\n",
       "      <td>21.0</td>\n",
       "      <td>4563fc79215672cd6a863f2b4bf56b8f898f2d96ed590e...</td>\n",
       "    </tr>\n",
       "    <tr>\n",
       "      <th>1371978</th>\n",
       "      <td>2551401172826382186</td>\n",
       "      <td>1.0</td>\n",
       "      <td>1.0</td>\n",
       "      <td>ACTIVE</td>\n",
       "      <td>Regularly</td>\n",
       "      <td>18.0</td>\n",
       "      <td>8892c18e9bc3dca6aa4000cb8094fc4b51ee8db2ed14d7...</td>\n",
       "    </tr>\n",
       "    <tr>\n",
       "      <th>1371979</th>\n",
       "      <td>-1516792180973952447</td>\n",
       "      <td>&lt;NA&gt;</td>\n",
       "      <td>&lt;NA&gt;</td>\n",
       "      <td>PRE-CREATE</td>\n",
       "      <td>NONE</td>\n",
       "      <td>65.0</td>\n",
       "      <td>0a1a03306fb2f62164c2a439b38c0caa64b40deaae8687...</td>\n",
       "    </tr>\n",
       "  </tbody>\n",
       "</table>\n",
       "<p>1371980 rows × 7 columns</p>\n",
       "</div>"
      ],
      "text/plain": [
       "                 customer_id    FN Active club_member_status  \\\n",
       "0        6883939031699146327  <NA>   <NA>             ACTIVE   \n",
       "1       -7200416642310594310  <NA>   <NA>             ACTIVE   \n",
       "2          -6846340800584936  <NA>   <NA>             ACTIVE   \n",
       "3         -94071612138601410  <NA>   <NA>             ACTIVE   \n",
       "4        -283965518499174310   1.0    1.0             ACTIVE   \n",
       "...                      ...   ...    ...                ...   \n",
       "1371975  7551062398649767985  <NA>   <NA>             ACTIVE   \n",
       "1371976 -9141402131989464905  <NA>   <NA>             ACTIVE   \n",
       "1371977 -8286316756823862684   1.0    1.0             ACTIVE   \n",
       "1371978  2551401172826382186   1.0    1.0             ACTIVE   \n",
       "1371979 -1516792180973952447  <NA>   <NA>         PRE-CREATE   \n",
       "\n",
       "        fashion_news_frequency   age  \\\n",
       "0                         NONE  49.0   \n",
       "1                         NONE  25.0   \n",
       "2                         NONE  24.0   \n",
       "3                         NONE  54.0   \n",
       "4                    Regularly  52.0   \n",
       "...                        ...   ...   \n",
       "1371975                   NONE  24.0   \n",
       "1371976                   NONE  21.0   \n",
       "1371977              Regularly  21.0   \n",
       "1371978              Regularly  18.0   \n",
       "1371979                   NONE  65.0   \n",
       "\n",
       "                                               postal_code  \n",
       "0        52043ee2162cf5aa7ee79974281641c6f11a68d276429a...  \n",
       "1        2973abc54daa8a5f8ccfe9362140c63247c5eee03f1d93...  \n",
       "2        64f17e6a330a85798e4998f62d0930d14db8db1c054af6...  \n",
       "3        5d36574f52495e81f019b680c843c443bd343d5ca5b1c2...  \n",
       "4        25fa5ddee9aac01b35208d01736e57942317d756b32ddd...  \n",
       "...                                                    ...  \n",
       "1371975  7aa399f7e669990daba2d92c577b52237380662f36480b...  \n",
       "1371976  3f47f1279beb72215f4de557d950e0bfa73789d24acb5e...  \n",
       "1371977  4563fc79215672cd6a863f2b4bf56b8f898f2d96ed590e...  \n",
       "1371978  8892c18e9bc3dca6aa4000cb8094fc4b51ee8db2ed14d7...  \n",
       "1371979  0a1a03306fb2f62164c2a439b38c0caa64b40deaae8687...  \n",
       "\n",
       "[1371980 rows x 7 columns]"
      ]
     },
     "execution_count": 76,
     "metadata": {},
     "output_type": "execute_result"
    }
   ],
   "source": [
    "customer"
   ]
  },
  {
   "cell_type": "code",
   "execution_count": 77,
   "id": "7d158520",
   "metadata": {
    "_cell_guid": "a1255e94-b76d-4e04-93e6-6f5d4adb7ecd",
    "_uuid": "6a23b3da-a0b3-4eed-8f23-683f40edd909",
    "collapsed": false,
    "execution": {
     "iopub.execute_input": "2022-03-28T04:26:47.580886Z",
     "iopub.status.busy": "2022-03-28T04:26:47.580063Z",
     "iopub.status.idle": "2022-03-28T04:26:55.130127Z",
     "shell.execute_reply": "2022-03-28T04:26:55.129520Z",
     "shell.execute_reply.started": "2022-03-28T03:29:12.685615Z"
    },
    "jupyter": {
     "outputs_hidden": false
    },
    "papermill": {
     "duration": 7.705781,
     "end_time": "2022-03-28T04:26:55.130330",
     "exception": false,
     "start_time": "2022-03-28T04:26:47.424549",
     "status": "completed"
    },
    "tags": []
   },
   "outputs": [],
   "source": [
    "sub_customer = sub.merge(customer.fillna(0), on = \"customer_id\")\n",
    "sub_customer[\"age_type\"] = pd.cut(sub_customer.to_pandas()[\"age\"], bins = np.array([0, 21, 24, 27, 30, 35, 40, 45, 50, 60, 100], dtype = \"int32\"), right = True).astype(\"string\")"
   ]
  },
  {
   "cell_type": "code",
   "execution_count": 78,
   "id": "a814d09a",
   "metadata": {
    "_cell_guid": "d80b9400-6ea7-493e-9872-5f80d80f88c5",
    "_uuid": "d2d15ef2-8c10-45c0-b433-37d423d7dbdc",
    "collapsed": false,
    "execution": {
     "iopub.execute_input": "2022-03-28T04:26:55.446322Z",
     "iopub.status.busy": "2022-03-28T04:26:55.445364Z",
     "iopub.status.idle": "2022-03-28T04:27:07.162383Z",
     "shell.execute_reply": "2022-03-28T04:27:07.161799Z",
     "shell.execute_reply.started": "2022-03-28T03:29:20.460039Z"
    },
    "jupyter": {
     "outputs_hidden": false
    },
    "papermill": {
     "duration": 11.875735,
     "end_time": "2022-03-28T04:27:07.162528",
     "exception": false,
     "start_time": "2022-03-28T04:26:55.286793",
     "status": "completed"
    },
    "tags": []
   },
   "outputs": [],
   "source": [
    "result3 = sub_customer.to_pandas().merge(summary.to_pandas(), on = [\"fashion_news_frequency\", \"age_type\"], how = \"left\")"
   ]
  },
  {
   "cell_type": "code",
   "execution_count": 79,
   "id": "f695da4e",
   "metadata": {
    "_cell_guid": "1f3198a2-6ff4-4130-bbec-fa33e4f469ce",
    "_uuid": "06a2c12e-a2a5-45c3-9419-6ee336a84396",
    "collapsed": false,
    "execution": {
     "iopub.execute_input": "2022-03-28T04:27:07.477727Z",
     "iopub.status.busy": "2022-03-28T04:27:07.476463Z",
     "iopub.status.idle": "2022-03-28T04:27:17.597058Z",
     "shell.execute_reply": "2022-03-28T04:27:17.596583Z",
     "shell.execute_reply.started": "2022-03-28T03:29:33.269116Z"
    },
    "jupyter": {
     "outputs_hidden": false
    },
    "papermill": {
     "duration": 10.27991,
     "end_time": "2022-03-28T04:27:17.597213",
     "exception": false,
     "start_time": "2022-03-28T04:27:07.317303",
     "status": "completed"
    },
    "tags": []
   },
   "outputs": [],
   "source": [
    "result3[\"source\"] = 3\n",
    "result3 = result3.loc[:,[\"customer_id\", \"article_id\", \"source\", \"score\", \"rank\"]]"
   ]
  },
  {
   "cell_type": "code",
   "execution_count": 80,
   "id": "45492ebe",
   "metadata": {
    "_cell_guid": "b648a5e5-9a2b-4bbe-b9f8-45ce929662ce",
    "_uuid": "f295878b-9b83-42e6-9dc8-8849de4fe481",
    "collapsed": false,
    "execution": {
     "iopub.execute_input": "2022-03-28T04:27:17.917775Z",
     "iopub.status.busy": "2022-03-28T04:27:17.916676Z",
     "iopub.status.idle": "2022-03-28T04:27:17.920089Z",
     "shell.execute_reply": "2022-03-28T04:27:17.920524Z",
     "shell.execute_reply.started": "2022-03-28T03:29:44.067094Z"
    },
    "jupyter": {
     "outputs_hidden": false
    },
    "papermill": {
     "duration": 0.171855,
     "end_time": "2022-03-28T04:27:17.920667",
     "exception": false,
     "start_time": "2022-03-28T04:27:17.748812",
     "status": "completed"
    },
    "tags": []
   },
   "outputs": [
    {
     "data": {
      "text/html": [
       "<div>\n",
       "<style scoped>\n",
       "    .dataframe tbody tr th:only-of-type {\n",
       "        vertical-align: middle;\n",
       "    }\n",
       "\n",
       "    .dataframe tbody tr th {\n",
       "        vertical-align: top;\n",
       "    }\n",
       "\n",
       "    .dataframe thead th {\n",
       "        text-align: right;\n",
       "    }\n",
       "</style>\n",
       "<table border=\"1\" class=\"dataframe\">\n",
       "  <thead>\n",
       "    <tr style=\"text-align: right;\">\n",
       "      <th></th>\n",
       "      <th>customer_id</th>\n",
       "      <th>article_id</th>\n",
       "      <th>source</th>\n",
       "      <th>score</th>\n",
       "      <th>rank</th>\n",
       "    </tr>\n",
       "  </thead>\n",
       "  <tbody>\n",
       "    <tr>\n",
       "      <th>0</th>\n",
       "      <td>6273068272832019592</td>\n",
       "      <td>751471001.0</td>\n",
       "      <td>3</td>\n",
       "      <td>0.002863</td>\n",
       "      <td>10.0</td>\n",
       "    </tr>\n",
       "    <tr>\n",
       "      <th>1</th>\n",
       "      <td>6273068272832019592</td>\n",
       "      <td>918292001.0</td>\n",
       "      <td>3</td>\n",
       "      <td>0.004184</td>\n",
       "      <td>4.0</td>\n",
       "    </tr>\n",
       "    <tr>\n",
       "      <th>2</th>\n",
       "      <td>6273068272832019592</td>\n",
       "      <td>706016001.0</td>\n",
       "      <td>3</td>\n",
       "      <td>0.002716</td>\n",
       "      <td>11.0</td>\n",
       "    </tr>\n",
       "    <tr>\n",
       "      <th>3</th>\n",
       "      <td>6273068272832019592</td>\n",
       "      <td>809238005.0</td>\n",
       "      <td>3</td>\n",
       "      <td>0.002569</td>\n",
       "      <td>12.0</td>\n",
       "    </tr>\n",
       "    <tr>\n",
       "      <th>4</th>\n",
       "      <td>6273068272832019592</td>\n",
       "      <td>865799006.0</td>\n",
       "      <td>3</td>\n",
       "      <td>0.004111</td>\n",
       "      <td>5.0</td>\n",
       "    </tr>\n",
       "    <tr>\n",
       "      <th>...</th>\n",
       "      <td>...</td>\n",
       "      <td>...</td>\n",
       "      <td>...</td>\n",
       "      <td>...</td>\n",
       "      <td>...</td>\n",
       "    </tr>\n",
       "    <tr>\n",
       "      <th>32880969</th>\n",
       "      <td>1341966912860556603</td>\n",
       "      <td>915529005.0</td>\n",
       "      <td>3</td>\n",
       "      <td>0.002008</td>\n",
       "      <td>12.0</td>\n",
       "    </tr>\n",
       "    <tr>\n",
       "      <th>32880970</th>\n",
       "      <td>1341966912860556603</td>\n",
       "      <td>909370001.0</td>\n",
       "      <td>3</td>\n",
       "      <td>0.008101</td>\n",
       "      <td>1.0</td>\n",
       "    </tr>\n",
       "    <tr>\n",
       "      <th>32880971</th>\n",
       "      <td>1341966912860556603</td>\n",
       "      <td>918292001.0</td>\n",
       "      <td>3</td>\n",
       "      <td>0.002631</td>\n",
       "      <td>6.0</td>\n",
       "    </tr>\n",
       "    <tr>\n",
       "      <th>32880972</th>\n",
       "      <td>1341966912860556603</td>\n",
       "      <td>898694001.0</td>\n",
       "      <td>3</td>\n",
       "      <td>0.002562</td>\n",
       "      <td>7.0</td>\n",
       "    </tr>\n",
       "    <tr>\n",
       "      <th>32880973</th>\n",
       "      <td>1341966912860556603</td>\n",
       "      <td>924243001.0</td>\n",
       "      <td>3</td>\n",
       "      <td>0.004362</td>\n",
       "      <td>3.0</td>\n",
       "    </tr>\n",
       "  </tbody>\n",
       "</table>\n",
       "<p>32880974 rows × 5 columns</p>\n",
       "</div>"
      ],
      "text/plain": [
       "                  customer_id   article_id  source     score  rank\n",
       "0         6273068272832019592  751471001.0       3  0.002863  10.0\n",
       "1         6273068272832019592  918292001.0       3  0.004184   4.0\n",
       "2         6273068272832019592  706016001.0       3  0.002716  11.0\n",
       "3         6273068272832019592  809238005.0       3  0.002569  12.0\n",
       "4         6273068272832019592  865799006.0       3  0.004111   5.0\n",
       "...                       ...          ...     ...       ...   ...\n",
       "32880969  1341966912860556603  915529005.0       3  0.002008  12.0\n",
       "32880970  1341966912860556603  909370001.0       3  0.008101   1.0\n",
       "32880971  1341966912860556603  918292001.0       3  0.002631   6.0\n",
       "32880972  1341966912860556603  898694001.0       3  0.002562   7.0\n",
       "32880973  1341966912860556603  924243001.0       3  0.004362   3.0\n",
       "\n",
       "[32880974 rows x 5 columns]"
      ]
     },
     "execution_count": 80,
     "metadata": {},
     "output_type": "execute_result"
    }
   ],
   "source": [
    "result3"
   ]
  },
  {
   "cell_type": "code",
   "execution_count": 81,
   "id": "698dc2f4",
   "metadata": {
    "_cell_guid": "7933f17a-6a44-46dc-bf03-b055391f030e",
    "_uuid": "f96683c8-e520-4b91-801b-a932beb94fd0",
    "collapsed": false,
    "execution": {
     "iopub.execute_input": "2022-03-28T04:27:18.235234Z",
     "iopub.status.busy": "2022-03-28T04:27:18.233623Z",
     "iopub.status.idle": "2022-03-28T04:27:18.235821Z",
     "shell.execute_reply": "2022-03-28T04:27:18.236268Z",
     "shell.execute_reply.started": "2022-03-28T03:29:44.086290Z"
    },
    "jupyter": {
     "outputs_hidden": false
    },
    "papermill": {
     "duration": 0.160828,
     "end_time": "2022-03-28T04:27:18.236423",
     "exception": false,
     "start_time": "2022-03-28T04:27:18.075595",
     "status": "completed"
    },
    "tags": []
   },
   "outputs": [],
   "source": [
    "#result3.to_csv(\"/kaggle/working/result3.csv\", index = False)"
   ]
  },
  {
   "cell_type": "markdown",
   "id": "a9cbc843",
   "metadata": {
    "_cell_guid": "5fb743f7-61e7-4d26-a4ea-90df2b723126",
    "_uuid": "64eb97e5-3a1d-43c8-a305-be576ff253da",
    "editable": false,
    "papermill": {
     "duration": 0.152972,
     "end_time": "2022-03-28T04:27:18.543641",
     "exception": false,
     "start_time": "2022-03-28T04:27:18.390669",
     "status": "completed"
    },
    "tags": []
   },
   "source": [
    "## 混合排序"
   ]
  },
  {
   "cell_type": "code",
   "execution_count": 82,
   "id": "6c4daccf",
   "metadata": {
    "_cell_guid": "e89a9ca8-b0cc-4b6a-9892-76c67c062f05",
    "_uuid": "5da11cbd-cf75-4054-b8a0-f126238444dd",
    "collapsed": false,
    "execution": {
     "iopub.execute_input": "2022-03-28T04:27:18.853797Z",
     "iopub.status.busy": "2022-03-28T04:27:18.852825Z",
     "iopub.status.idle": "2022-03-28T04:27:18.855244Z",
     "shell.execute_reply": "2022-03-28T04:27:18.854713Z",
     "shell.execute_reply.started": "2022-03-28T03:29:44.103122Z"
    },
    "jupyter": {
     "outputs_hidden": false
    },
    "papermill": {
     "duration": 0.158469,
     "end_time": "2022-03-28T04:27:18.855373",
     "exception": false,
     "start_time": "2022-03-28T04:27:18.696904",
     "status": "completed"
    },
    "tags": []
   },
   "outputs": [],
   "source": [
    "#result2 = pd.read_csv(\"../input/relation/result2.csv\")\n",
    "#result1 = pd.read_csv(\"../input/relation/result1.csv\")\n",
    "#result3 = pd.read_csv(\"/kaggle/working/result3.csv\")"
   ]
  },
  {
   "cell_type": "code",
   "execution_count": 83,
   "id": "65679bd4",
   "metadata": {
    "_cell_guid": "770ce7a8-a20d-4958-a790-55cf438f5c8b",
    "_uuid": "4f7af5f2-25db-4933-a718-09a179f9d5cb",
    "collapsed": false,
    "execution": {
     "iopub.execute_input": "2022-03-28T04:27:19.183360Z",
     "iopub.status.busy": "2022-03-28T04:27:19.181402Z",
     "iopub.status.idle": "2022-03-28T04:27:19.183971Z",
     "shell.execute_reply": "2022-03-28T04:27:19.184435Z",
     "shell.execute_reply.started": "2022-03-28T03:29:44.108040Z"
    },
    "jupyter": {
     "outputs_hidden": false
    },
    "papermill": {
     "duration": 0.172256,
     "end_time": "2022-03-28T04:27:19.184598",
     "exception": false,
     "start_time": "2022-03-28T04:27:19.012342",
     "status": "completed"
    },
    "tags": []
   },
   "outputs": [],
   "source": [
    "#result1 = pd.read_csv(\"/kaggle/working/result1.csv\")\n",
    "#result2 = pd.read_csv(\"/kaggle/working/result2.csv\")"
   ]
  },
  {
   "cell_type": "code",
   "execution_count": 84,
   "id": "221f605c",
   "metadata": {
    "_cell_guid": "d7302397-e4c3-4992-8302-caa0f17cc43d",
    "_uuid": "9a6f71ce-3e3d-4b7f-bef1-bf2e83f2e6c3",
    "collapsed": false,
    "execution": {
     "iopub.execute_input": "2022-03-28T04:27:19.521606Z",
     "iopub.status.busy": "2022-03-28T04:27:19.517363Z",
     "iopub.status.idle": "2022-03-28T04:27:19.525347Z",
     "shell.execute_reply": "2022-03-28T04:27:19.524903Z",
     "shell.execute_reply.started": "2022-03-28T03:29:44.117052Z"
    },
    "jupyter": {
     "outputs_hidden": false
    },
    "papermill": {
     "duration": 0.172893,
     "end_time": "2022-03-28T04:27:19.525468",
     "exception": false,
     "start_time": "2022-03-28T04:27:19.352575",
     "status": "completed"
    },
    "tags": []
   },
   "outputs": [
    {
     "data": {
      "text/html": [
       "<div>\n",
       "<style scoped>\n",
       "    .dataframe tbody tr th:only-of-type {\n",
       "        vertical-align: middle;\n",
       "    }\n",
       "\n",
       "    .dataframe tbody tr th {\n",
       "        vertical-align: top;\n",
       "    }\n",
       "\n",
       "    .dataframe thead th {\n",
       "        text-align: right;\n",
       "    }\n",
       "</style>\n",
       "<table border=\"1\" class=\"dataframe\">\n",
       "  <thead>\n",
       "    <tr style=\"text-align: right;\">\n",
       "      <th></th>\n",
       "      <th>customer_id</th>\n",
       "      <th>article_id</th>\n",
       "      <th>source</th>\n",
       "      <th>score</th>\n",
       "      <th>rank</th>\n",
       "    </tr>\n",
       "  </thead>\n",
       "  <tbody>\n",
       "    <tr>\n",
       "      <th>0</th>\n",
       "      <td>6273068272832019592</td>\n",
       "      <td>751471001.0</td>\n",
       "      <td>3</td>\n",
       "      <td>0.002863</td>\n",
       "      <td>10.0</td>\n",
       "    </tr>\n",
       "    <tr>\n",
       "      <th>1</th>\n",
       "      <td>6273068272832019592</td>\n",
       "      <td>918292001.0</td>\n",
       "      <td>3</td>\n",
       "      <td>0.004184</td>\n",
       "      <td>4.0</td>\n",
       "    </tr>\n",
       "    <tr>\n",
       "      <th>2</th>\n",
       "      <td>6273068272832019592</td>\n",
       "      <td>706016001.0</td>\n",
       "      <td>3</td>\n",
       "      <td>0.002716</td>\n",
       "      <td>11.0</td>\n",
       "    </tr>\n",
       "    <tr>\n",
       "      <th>3</th>\n",
       "      <td>6273068272832019592</td>\n",
       "      <td>809238005.0</td>\n",
       "      <td>3</td>\n",
       "      <td>0.002569</td>\n",
       "      <td>12.0</td>\n",
       "    </tr>\n",
       "    <tr>\n",
       "      <th>4</th>\n",
       "      <td>6273068272832019592</td>\n",
       "      <td>865799006.0</td>\n",
       "      <td>3</td>\n",
       "      <td>0.004111</td>\n",
       "      <td>5.0</td>\n",
       "    </tr>\n",
       "    <tr>\n",
       "      <th>...</th>\n",
       "      <td>...</td>\n",
       "      <td>...</td>\n",
       "      <td>...</td>\n",
       "      <td>...</td>\n",
       "      <td>...</td>\n",
       "    </tr>\n",
       "    <tr>\n",
       "      <th>32880969</th>\n",
       "      <td>1341966912860556603</td>\n",
       "      <td>915529005.0</td>\n",
       "      <td>3</td>\n",
       "      <td>0.002008</td>\n",
       "      <td>12.0</td>\n",
       "    </tr>\n",
       "    <tr>\n",
       "      <th>32880970</th>\n",
       "      <td>1341966912860556603</td>\n",
       "      <td>909370001.0</td>\n",
       "      <td>3</td>\n",
       "      <td>0.008101</td>\n",
       "      <td>1.0</td>\n",
       "    </tr>\n",
       "    <tr>\n",
       "      <th>32880971</th>\n",
       "      <td>1341966912860556603</td>\n",
       "      <td>918292001.0</td>\n",
       "      <td>3</td>\n",
       "      <td>0.002631</td>\n",
       "      <td>6.0</td>\n",
       "    </tr>\n",
       "    <tr>\n",
       "      <th>32880972</th>\n",
       "      <td>1341966912860556603</td>\n",
       "      <td>898694001.0</td>\n",
       "      <td>3</td>\n",
       "      <td>0.002562</td>\n",
       "      <td>7.0</td>\n",
       "    </tr>\n",
       "    <tr>\n",
       "      <th>32880973</th>\n",
       "      <td>1341966912860556603</td>\n",
       "      <td>924243001.0</td>\n",
       "      <td>3</td>\n",
       "      <td>0.004362</td>\n",
       "      <td>3.0</td>\n",
       "    </tr>\n",
       "  </tbody>\n",
       "</table>\n",
       "<p>32880974 rows × 5 columns</p>\n",
       "</div>"
      ],
      "text/plain": [
       "                  customer_id   article_id  source     score  rank\n",
       "0         6273068272832019592  751471001.0       3  0.002863  10.0\n",
       "1         6273068272832019592  918292001.0       3  0.004184   4.0\n",
       "2         6273068272832019592  706016001.0       3  0.002716  11.0\n",
       "3         6273068272832019592  809238005.0       3  0.002569  12.0\n",
       "4         6273068272832019592  865799006.0       3  0.004111   5.0\n",
       "...                       ...          ...     ...       ...   ...\n",
       "32880969  1341966912860556603  915529005.0       3  0.002008  12.0\n",
       "32880970  1341966912860556603  909370001.0       3  0.008101   1.0\n",
       "32880971  1341966912860556603  918292001.0       3  0.002631   6.0\n",
       "32880972  1341966912860556603  898694001.0       3  0.002562   7.0\n",
       "32880973  1341966912860556603  924243001.0       3  0.004362   3.0\n",
       "\n",
       "[32880974 rows x 5 columns]"
      ]
     },
     "execution_count": 84,
     "metadata": {},
     "output_type": "execute_result"
    }
   ],
   "source": [
    "result3"
   ]
  },
  {
   "cell_type": "code",
   "execution_count": 85,
   "id": "2e48c498",
   "metadata": {
    "_cell_guid": "5e566c70-b1cf-42e4-807d-e58ca1479fb9",
    "_uuid": "71c4556b-4f76-4996-bcf5-e429af32021a",
    "collapsed": false,
    "execution": {
     "iopub.execute_input": "2022-03-28T04:27:19.833897Z",
     "iopub.status.busy": "2022-03-28T04:27:19.833025Z",
     "iopub.status.idle": "2022-03-28T04:27:19.835147Z",
     "shell.execute_reply": "2022-03-28T04:27:19.834635Z",
     "shell.execute_reply.started": "2022-03-28T03:29:44.138430Z"
    },
    "jupyter": {
     "outputs_hidden": false
    },
    "papermill": {
     "duration": 0.157308,
     "end_time": "2022-03-28T04:27:19.835274",
     "exception": false,
     "start_time": "2022-03-28T04:27:19.677966",
     "status": "completed"
    },
    "tags": []
   },
   "outputs": [],
   "source": [
    "#assert False"
   ]
  },
  {
   "cell_type": "code",
   "execution_count": 86,
   "id": "e57d5b73",
   "metadata": {
    "_cell_guid": "c18574be-011d-4b6f-925d-a184cdfa595a",
    "_uuid": "3ed3a145-d26d-4ef2-997c-99a0026efefc",
    "collapsed": false,
    "execution": {
     "iopub.execute_input": "2022-03-28T04:27:20.156237Z",
     "iopub.status.busy": "2022-03-28T04:27:20.154646Z",
     "iopub.status.idle": "2022-03-28T04:27:20.156863Z",
     "shell.execute_reply": "2022-03-28T04:27:20.157283Z",
     "shell.execute_reply.started": "2022-03-28T03:29:44.145901Z"
    },
    "jupyter": {
     "outputs_hidden": false
    },
    "papermill": {
     "duration": 0.168333,
     "end_time": "2022-03-28T04:27:20.157426",
     "exception": false,
     "start_time": "2022-03-28T04:27:19.989093",
     "status": "completed"
    },
    "tags": []
   },
   "outputs": [],
   "source": [
    "# del result1\n",
    "# del result2\n",
    "# del result3"
   ]
  },
  {
   "cell_type": "code",
   "execution_count": 87,
   "id": "45eea46f",
   "metadata": {
    "_cell_guid": "a853cd5c-2f6d-4cb8-9ad1-7b1eadf5f19d",
    "_uuid": "bd54eef8-75c5-47db-99f5-9fa77206a3d4",
    "collapsed": false,
    "execution": {
     "iopub.execute_input": "2022-03-28T04:27:20.471965Z",
     "iopub.status.busy": "2022-03-28T04:27:20.470754Z",
     "iopub.status.idle": "2022-03-28T04:27:21.623560Z",
     "shell.execute_reply": "2022-03-28T04:27:21.623052Z",
     "shell.execute_reply.started": "2022-03-28T03:29:44.153851Z"
    },
    "jupyter": {
     "outputs_hidden": false
    },
    "papermill": {
     "duration": 1.314268,
     "end_time": "2022-03-28T04:27:21.623695",
     "exception": false,
     "start_time": "2022-03-28T04:27:20.309427",
     "status": "completed"
    },
    "tags": []
   },
   "outputs": [],
   "source": [
    "result = pd.concat([result1, result2, result3], axis = 0)"
   ]
  },
  {
   "cell_type": "code",
   "execution_count": 88,
   "id": "ec9a3067",
   "metadata": {
    "_cell_guid": "34084f83-7278-4b41-b521-a07cc55cd27c",
    "_uuid": "cc144bc7-3c43-4c3a-9140-b98a4177845f",
    "collapsed": false,
    "execution": {
     "iopub.execute_input": "2022-03-28T04:27:21.932452Z",
     "iopub.status.busy": "2022-03-28T04:27:21.930377Z",
     "iopub.status.idle": "2022-03-28T04:27:21.935659Z",
     "shell.execute_reply": "2022-03-28T04:27:21.935238Z",
     "shell.execute_reply.started": "2022-03-28T03:29:45.350656Z"
    },
    "jupyter": {
     "outputs_hidden": false
    },
    "papermill": {
     "duration": 0.160447,
     "end_time": "2022-03-28T04:27:21.935775",
     "exception": false,
     "start_time": "2022-03-28T04:27:21.775328",
     "status": "completed"
    },
    "tags": []
   },
   "outputs": [],
   "source": [
    "# 调整融合结果"
   ]
  },
  {
   "cell_type": "code",
   "execution_count": 89,
   "id": "aeefff6e",
   "metadata": {
    "_cell_guid": "18a553ef-5214-44f2-b873-2501532733a4",
    "_uuid": "227fc09d-b34c-4391-b8e5-dbe14bc69404",
    "collapsed": false,
    "execution": {
     "iopub.execute_input": "2022-03-28T04:27:22.248942Z",
     "iopub.status.busy": "2022-03-28T04:27:22.248086Z",
     "iopub.status.idle": "2022-03-28T04:27:22.250430Z",
     "shell.execute_reply": "2022-03-28T04:27:22.249905Z",
     "shell.execute_reply.started": "2022-03-28T03:29:45.356734Z"
    },
    "jupyter": {
     "outputs_hidden": false
    },
    "papermill": {
     "duration": 0.159576,
     "end_time": "2022-03-28T04:27:22.250542",
     "exception": false,
     "start_time": "2022-03-28T04:27:22.090966",
     "status": "completed"
    },
    "tags": []
   },
   "outputs": [],
   "source": [
    "#result = result3.copy()"
   ]
  },
  {
   "cell_type": "code",
   "execution_count": 90,
   "id": "a3ebd685",
   "metadata": {
    "_cell_guid": "9aafb751-e431-4f4b-a25d-5058a372ed2e",
    "_uuid": "54b0b0b2-6237-42ab-bfe6-bdb423343fb5",
    "collapsed": false,
    "execution": {
     "iopub.execute_input": "2022-03-28T04:27:22.792448Z",
     "iopub.status.busy": "2022-03-28T04:27:22.791446Z",
     "iopub.status.idle": "2022-03-28T04:27:22.799939Z",
     "shell.execute_reply": "2022-03-28T04:27:22.801067Z",
     "shell.execute_reply.started": "2022-03-28T03:29:45.365926Z"
    },
    "jupyter": {
     "outputs_hidden": false
    },
    "papermill": {
     "duration": 0.397769,
     "end_time": "2022-03-28T04:27:22.801312",
     "exception": false,
     "start_time": "2022-03-28T04:27:22.403543",
     "status": "completed"
    },
    "tags": []
   },
   "outputs": [
    {
     "data": {
      "text/plain": [
       "126"
      ]
     },
     "execution_count": 90,
     "metadata": {},
     "output_type": "execute_result"
    }
   ],
   "source": [
    "gc.collect()"
   ]
  },
  {
   "cell_type": "code",
   "execution_count": 91,
   "id": "f3d94d20",
   "metadata": {
    "_cell_guid": "bb4fb7e5-199a-43aa-87d6-9e18b6a121af",
    "_uuid": "9ace348d-b4f6-4055-824e-649f1d1e89b7",
    "collapsed": false,
    "execution": {
     "iopub.execute_input": "2022-03-28T04:27:23.302874Z",
     "iopub.status.busy": "2022-03-28T04:27:23.301831Z",
     "iopub.status.idle": "2022-03-28T04:27:23.303787Z",
     "shell.execute_reply": "2022-03-28T04:27:23.304319Z",
     "shell.execute_reply.started": "2022-03-28T03:29:45.508856Z"
    },
    "jupyter": {
     "outputs_hidden": false
    },
    "papermill": {
     "duration": 0.231714,
     "end_time": "2022-03-28T04:27:23.304466",
     "exception": false,
     "start_time": "2022-03-28T04:27:23.072752",
     "status": "completed"
    },
    "tags": []
   },
   "outputs": [],
   "source": [
    "result.index = range(len(result))"
   ]
  },
  {
   "cell_type": "markdown",
   "id": "6a55d486",
   "metadata": {
    "papermill": {
     "duration": 0.153633,
     "end_time": "2022-03-28T04:27:23.614771",
     "exception": false,
     "start_time": "2022-03-28T04:27:23.461138",
     "status": "completed"
    },
    "tags": []
   },
   "source": [
    "\n",
    "1\n",
    "\n",
    "1\n",
    "\n",
    "1\n",
    "\n",
    "1\n",
    "\n",
    "1\n",
    "\n",
    "1\n",
    "\n",
    "1\n",
    "\n",
    "1\n",
    "\n",
    "1\n",
    "\n",
    "1\n",
    "\n",
    "1\n",
    "\n",
    "1\n",
    "\n",
    "\n",
    "\n",
    "\n",
    "\n",
    "\n",
    "\n",
    "\n",
    "\n",
    "\n",
    "\n",
    "\n",
    "\n",
    "\n",
    "\n",
    "\n",
    "\n",
    "\n",
    "\n",
    "\n",
    "\n"
   ]
  },
  {
   "cell_type": "code",
   "execution_count": 92,
   "id": "6315fc82",
   "metadata": {
    "_cell_guid": "f54a836d-b7b9-4048-8ed3-6416a6eba9e4",
    "_uuid": "bb47e468-4aa6-4d1b-8373-71d7a4310d2f",
    "collapsed": false,
    "execution": {
     "iopub.execute_input": "2022-03-28T04:27:23.940311Z",
     "iopub.status.busy": "2022-03-28T04:27:23.939416Z",
     "iopub.status.idle": "2022-03-28T04:27:26.138734Z",
     "shell.execute_reply": "2022-03-28T04:27:26.139248Z",
     "shell.execute_reply.started": "2022-03-28T03:29:45.518664Z"
    },
    "jupyter": {
     "outputs_hidden": false
    },
    "papermill": {
     "duration": 2.370387,
     "end_time": "2022-03-28T04:27:26.139456",
     "exception": false,
     "start_time": "2022-03-28T04:27:23.769069",
     "status": "completed"
    },
    "tags": []
   },
   "outputs": [],
   "source": [
    "result.loc[result[\"source\"] == 3, \"score\"] *= 0.8\n",
    "result.loc[result[\"source\"] == 2, \"score\"] *= 0.2"
   ]
  },
  {
   "cell_type": "code",
   "execution_count": 93,
   "id": "16c2b66e",
   "metadata": {
    "_cell_guid": "889a61fc-c4fa-4503-81a9-a09ffbad09c2",
    "_uuid": "fb97febd-786c-42ec-94db-d50dc2849090",
    "collapsed": false,
    "execution": {
     "iopub.execute_input": "2022-03-28T04:27:26.655144Z",
     "iopub.status.busy": "2022-03-28T04:27:26.654164Z",
     "iopub.status.idle": "2022-03-28T04:27:26.656675Z",
     "shell.execute_reply": "2022-03-28T04:27:26.655946Z",
     "shell.execute_reply.started": "2022-03-28T03:29:47.745978Z"
    },
    "jupyter": {
     "outputs_hidden": false
    },
    "papermill": {
     "duration": 0.268281,
     "end_time": "2022-03-28T04:27:26.656846",
     "exception": false,
     "start_time": "2022-03-28T04:27:26.388565",
     "status": "completed"
    },
    "tags": []
   },
   "outputs": [],
   "source": [
    "#del result1\n",
    "#del result2\n",
    "#del sub_customer"
   ]
  },
  {
   "cell_type": "code",
   "execution_count": 94,
   "id": "8c10e793",
   "metadata": {
    "_cell_guid": "588b511e-2aef-4cb7-8199-c6a44dc20d53",
    "_uuid": "01bf0763-33f8-46d4-bf92-9efb3827e953",
    "collapsed": false,
    "execution": {
     "iopub.execute_input": "2022-03-28T04:27:27.141627Z",
     "iopub.status.busy": "2022-03-28T04:27:27.140528Z",
     "iopub.status.idle": "2022-03-28T04:27:28.166393Z",
     "shell.execute_reply": "2022-03-28T04:27:28.165474Z",
     "shell.execute_reply.started": "2022-03-28T03:29:47.753836Z"
    },
    "jupyter": {
     "outputs_hidden": false
    },
    "papermill": {
     "duration": 1.232872,
     "end_time": "2022-03-28T04:27:28.166536",
     "exception": false,
     "start_time": "2022-03-28T04:27:26.933664",
     "status": "completed"
    },
    "tags": []
   },
   "outputs": [],
   "source": [
    "result = cudf.DataFrame(result, dtype={'article_id': 'int32', 'customer_id':'int64'})"
   ]
  },
  {
   "cell_type": "code",
   "execution_count": 95,
   "id": "576a07c3",
   "metadata": {
    "_cell_guid": "49bb2118-e773-4a70-90e9-a92b968ea77c",
    "_uuid": "6461d0e9-6fa1-4f4c-97f5-0d9b55391d8e",
    "collapsed": false,
    "execution": {
     "iopub.execute_input": "2022-03-28T04:27:28.483203Z",
     "iopub.status.busy": "2022-03-28T04:27:28.482204Z",
     "iopub.status.idle": "2022-03-28T04:27:28.542060Z",
     "shell.execute_reply": "2022-03-28T04:27:28.542552Z",
     "shell.execute_reply.started": "2022-03-28T03:29:48.855942Z"
    },
    "jupyter": {
     "outputs_hidden": false
    },
    "papermill": {
     "duration": 0.218974,
     "end_time": "2022-03-28T04:27:28.542716",
     "exception": false,
     "start_time": "2022-03-28T04:27:28.323742",
     "status": "completed"
    },
    "tags": []
   },
   "outputs": [
    {
     "data": {
      "text/html": [
       "<div>\n",
       "<style scoped>\n",
       "    .dataframe tbody tr th:only-of-type {\n",
       "        vertical-align: middle;\n",
       "    }\n",
       "\n",
       "    .dataframe tbody tr th {\n",
       "        vertical-align: top;\n",
       "    }\n",
       "\n",
       "    .dataframe thead th {\n",
       "        text-align: right;\n",
       "    }\n",
       "</style>\n",
       "<table border=\"1\" class=\"dataframe\">\n",
       "  <thead>\n",
       "    <tr style=\"text-align: right;\">\n",
       "      <th></th>\n",
       "      <th>customer_id</th>\n",
       "      <th>article_id</th>\n",
       "      <th>source</th>\n",
       "      <th>score</th>\n",
       "      <th>rank</th>\n",
       "    </tr>\n",
       "  </thead>\n",
       "  <tbody>\n",
       "    <tr>\n",
       "      <th>0</th>\n",
       "      <td>-9223352921020755230</td>\n",
       "      <td>568597006</td>\n",
       "      <td>1</td>\n",
       "      <td>0.000559</td>\n",
       "      <td>5.0</td>\n",
       "    </tr>\n",
       "    <tr>\n",
       "      <th>1</th>\n",
       "      <td>-9223352921020755230</td>\n",
       "      <td>673396002</td>\n",
       "      <td>1</td>\n",
       "      <td>0.044511</td>\n",
       "      <td>1.0</td>\n",
       "    </tr>\n",
       "    <tr>\n",
       "      <th>2</th>\n",
       "      <td>-9223352921020755230</td>\n",
       "      <td>706016001</td>\n",
       "      <td>1</td>\n",
       "      <td>0.003289</td>\n",
       "      <td>4.0</td>\n",
       "    </tr>\n",
       "    <tr>\n",
       "      <th>3</th>\n",
       "      <td>-9223352921020755230</td>\n",
       "      <td>812167004</td>\n",
       "      <td>1</td>\n",
       "      <td>0.019179</td>\n",
       "      <td>2.0</td>\n",
       "    </tr>\n",
       "    <tr>\n",
       "      <th>4</th>\n",
       "      <td>-9223352921020755230</td>\n",
       "      <td>849493006</td>\n",
       "      <td>1</td>\n",
       "      <td>0.006174</td>\n",
       "      <td>3.0</td>\n",
       "    </tr>\n",
       "    <tr>\n",
       "      <th>...</th>\n",
       "      <td>...</td>\n",
       "      <td>...</td>\n",
       "      <td>...</td>\n",
       "      <td>...</td>\n",
       "      <td>...</td>\n",
       "    </tr>\n",
       "    <tr>\n",
       "      <th>43579613</th>\n",
       "      <td>1341966912860556603</td>\n",
       "      <td>915529005</td>\n",
       "      <td>3</td>\n",
       "      <td>0.001606</td>\n",
       "      <td>12.0</td>\n",
       "    </tr>\n",
       "    <tr>\n",
       "      <th>43579614</th>\n",
       "      <td>1341966912860556603</td>\n",
       "      <td>909370001</td>\n",
       "      <td>3</td>\n",
       "      <td>0.006481</td>\n",
       "      <td>1.0</td>\n",
       "    </tr>\n",
       "    <tr>\n",
       "      <th>43579615</th>\n",
       "      <td>1341966912860556603</td>\n",
       "      <td>918292001</td>\n",
       "      <td>3</td>\n",
       "      <td>0.002105</td>\n",
       "      <td>6.0</td>\n",
       "    </tr>\n",
       "    <tr>\n",
       "      <th>43579616</th>\n",
       "      <td>1341966912860556603</td>\n",
       "      <td>898694001</td>\n",
       "      <td>3</td>\n",
       "      <td>0.002050</td>\n",
       "      <td>7.0</td>\n",
       "    </tr>\n",
       "    <tr>\n",
       "      <th>43579617</th>\n",
       "      <td>1341966912860556603</td>\n",
       "      <td>924243001</td>\n",
       "      <td>3</td>\n",
       "      <td>0.003490</td>\n",
       "      <td>3.0</td>\n",
       "    </tr>\n",
       "  </tbody>\n",
       "</table>\n",
       "<p>43579618 rows × 5 columns</p>\n",
       "</div>"
      ],
      "text/plain": [
       "                  customer_id  article_id  source     score  rank\n",
       "0        -9223352921020755230   568597006       1  0.000559   5.0\n",
       "1        -9223352921020755230   673396002       1  0.044511   1.0\n",
       "2        -9223352921020755230   706016001       1  0.003289   4.0\n",
       "3        -9223352921020755230   812167004       1  0.019179   2.0\n",
       "4        -9223352921020755230   849493006       1  0.006174   3.0\n",
       "...                       ...         ...     ...       ...   ...\n",
       "43579613  1341966912860556603   915529005       3  0.001606  12.0\n",
       "43579614  1341966912860556603   909370001       3  0.006481   1.0\n",
       "43579615  1341966912860556603   918292001       3  0.002105   6.0\n",
       "43579616  1341966912860556603   898694001       3  0.002050   7.0\n",
       "43579617  1341966912860556603   924243001       3  0.003490   3.0\n",
       "\n",
       "[43579618 rows x 5 columns]"
      ]
     },
     "execution_count": 95,
     "metadata": {},
     "output_type": "execute_result"
    }
   ],
   "source": [
    "result"
   ]
  },
  {
   "cell_type": "code",
   "execution_count": 96,
   "id": "db40881e",
   "metadata": {
    "_cell_guid": "045655d5-f31c-434e-b66a-8c905f401acc",
    "_uuid": "1c966656-aef7-44cb-81c6-69aae78eab2c",
    "collapsed": false,
    "execution": {
     "iopub.execute_input": "2022-03-28T04:27:28.939043Z",
     "iopub.status.busy": "2022-03-28T04:27:28.938017Z",
     "iopub.status.idle": "2022-03-28T04:27:28.940805Z",
     "shell.execute_reply": "2022-03-28T04:27:28.940206Z",
     "shell.execute_reply.started": "2022-03-28T03:29:48.937041Z"
    },
    "jupyter": {
     "outputs_hidden": false
    },
    "papermill": {
     "duration": 0.179928,
     "end_time": "2022-03-28T04:27:28.940930",
     "exception": false,
     "start_time": "2022-03-28T04:27:28.761002",
     "status": "completed"
    },
    "tags": []
   },
   "outputs": [],
   "source": [
    "#merge_result = result.groupby([\"customer_id\", \"article_id\"]).apply(lambda x:x.nlargest(1, \"score\"))"
   ]
  },
  {
   "cell_type": "code",
   "execution_count": 97,
   "id": "21767ca9",
   "metadata": {
    "_cell_guid": "a3814516-dcce-468f-9242-018d344a166b",
    "_uuid": "7401a468-1d3f-4e23-97e9-7665c340891a",
    "collapsed": false,
    "execution": {
     "iopub.execute_input": "2022-03-28T04:27:29.285438Z",
     "iopub.status.busy": "2022-03-28T04:27:29.284672Z",
     "iopub.status.idle": "2022-03-28T04:27:29.437758Z",
     "shell.execute_reply": "2022-03-28T04:27:29.437222Z",
     "shell.execute_reply.started": "2022-03-28T03:29:48.943224Z"
    },
    "jupyter": {
     "outputs_hidden": false
    },
    "papermill": {
     "duration": 0.326837,
     "end_time": "2022-03-28T04:27:29.437883",
     "exception": false,
     "start_time": "2022-03-28T04:27:29.111046",
     "status": "completed"
    },
    "tags": []
   },
   "outputs": [],
   "source": [
    "merge_result = result.groupby([\"customer_id\", \"article_id\"])['score'].max().reset_index()"
   ]
  },
  {
   "cell_type": "code",
   "execution_count": 98,
   "id": "f63caeef",
   "metadata": {
    "_cell_guid": "2f5564e8-f69c-473e-a1b4-2e824dd3c991",
    "_uuid": "dd38d6a2-b28f-462c-85fc-1ffbe235d60d",
    "collapsed": false,
    "execution": {
     "iopub.execute_input": "2022-03-28T04:27:29.754288Z",
     "iopub.status.busy": "2022-03-28T04:27:29.753318Z",
     "iopub.status.idle": "2022-03-28T04:27:29.755700Z",
     "shell.execute_reply": "2022-03-28T04:27:29.755158Z",
     "shell.execute_reply.started": "2022-03-28T03:29:49.101506Z"
    },
    "jupyter": {
     "outputs_hidden": false
    },
    "papermill": {
     "duration": 0.162329,
     "end_time": "2022-03-28T04:27:29.755817",
     "exception": false,
     "start_time": "2022-03-28T04:27:29.593488",
     "status": "completed"
    },
    "tags": []
   },
   "outputs": [],
   "source": [
    "# del result"
   ]
  },
  {
   "cell_type": "code",
   "execution_count": 99,
   "id": "9469f13d",
   "metadata": {
    "_cell_guid": "4bc3c148-1740-4a26-b04b-26e39c57e311",
    "_uuid": "e0495319-e95b-4426-8cdd-303816ffdfb4",
    "collapsed": false,
    "execution": {
     "iopub.execute_input": "2022-03-28T04:27:30.072381Z",
     "iopub.status.busy": "2022-03-28T04:27:30.071582Z",
     "iopub.status.idle": "2022-03-28T04:27:30.074273Z",
     "shell.execute_reply": "2022-03-28T04:27:30.073846Z",
     "shell.execute_reply.started": "2022-03-28T03:29:49.107550Z"
    },
    "jupyter": {
     "outputs_hidden": false
    },
    "papermill": {
     "duration": 0.163012,
     "end_time": "2022-03-28T04:27:30.074406",
     "exception": false,
     "start_time": "2022-03-28T04:27:29.911394",
     "status": "completed"
    },
    "tags": []
   },
   "outputs": [],
   "source": [
    "# purchase_df = tmp.sort_values(['customer_id', 'value'], ascending = False).reset_index(drop = True)\n",
    "# purchase_df['prediction'] = '0' + purchase_df['article_id'].astype(str) + ' '\n",
    "# purchase_df = purchase_df.groupby('customer_id').agg({'prediction': sum}).reset_index()\n",
    "# purchase_df['prediction'] = purchase_df['prediction'].str.strip()\n",
    "# purchase_df = cudf.DataFrame(purchase_df)"
   ]
  },
  {
   "cell_type": "code",
   "execution_count": 100,
   "id": "fb4c3fc0",
   "metadata": {
    "_cell_guid": "14ef8feb-6697-4a2c-a596-2634819dd881",
    "_uuid": "a62caeca-d206-4edf-a818-a8e494b19692",
    "collapsed": false,
    "execution": {
     "iopub.execute_input": "2022-03-28T04:27:30.407403Z",
     "iopub.status.busy": "2022-03-28T04:27:30.406784Z",
     "iopub.status.idle": "2022-03-28T04:27:30.410465Z",
     "shell.execute_reply": "2022-03-28T04:27:30.409856Z",
     "shell.execute_reply.started": "2022-03-28T03:29:49.117108Z"
    },
    "jupyter": {
     "outputs_hidden": false
    },
    "papermill": {
     "duration": 0.170739,
     "end_time": "2022-03-28T04:27:30.410614",
     "exception": false,
     "start_time": "2022-03-28T04:27:30.239875",
     "status": "completed"
    },
    "tags": []
   },
   "outputs": [],
   "source": [
    "# %%time\n",
    "# purchase_dict = {}\n",
    "\n",
    "# tmp = df.copy().to_pandas()\n",
    "# tmp['x'] = ((last_ts - tmp['t_dat']) / np.timedelta64(1, 'D')).astype(int)\n",
    "# tmp['dummy_1'] = 1 \n",
    "# tmp['x'] = tmp[[\"x\", \"dummy_1\"]].max(axis=1)\n",
    "\n",
    "# a, b, c, d = 2.5e4, 1.5e5, 2e-1, 1e3\n",
    "# total = 1715530\n",
    "# tmp['y'] = (a / np.sqrt(tmp['x']) + b * np.exp(-c*tmp['x']) - d) / total\n",
    "\n",
    "# tmp['dummy_0'] = 0 \n",
    "# tmp['y'] = tmp[[\"y\", \"dummy_0\"]].max(axis=1)\n",
    "# tmp['value'] = tmp['quotient'] * tmp['y'] \n",
    "\n",
    "# tmp = tmp.groupby(['customer_id', 'article_id']).agg({'value': 'sum'})\n",
    "# tmp = tmp.reset_index()\n",
    "\n",
    "# tmp = tmp.loc[tmp['value'] > 0]\n",
    "# tmp['rank'] = tmp.groupby(\"customer_id\")[\"value\"].rank(\"dense\", ascending=False)\n",
    "# tmp = tmp.loc[tmp['rank'] <= 12]\n",
    "\n",
    "# # for customer_id in tmp['customer_id'].unique():\n",
    "# #     purchase_dict[customer_id] = {} \n",
    "\n",
    "# # for customer_id, article_id, value in zip(tmp['customer_id'], tmp['article_id'], tmp['value']):\n",
    "# #     purchase_dict[customer_id][article_id] = value\n",
    "\n",
    "# purchase_df = tmp.sort_values(['customer_id', 'value'], ascending = False).reset_index(drop = True)\n",
    "# purchase_df['prediction'] = '0' + purchase_df['article_id'].astype(str) + ' '\n",
    "# purchase_df = purchase_df.groupby('customer_id').agg({'prediction': sum}).reset_index()\n",
    "# purchase_df['prediction'] = purchase_df['prediction'].str.strip()\n",
    "# purchase_df = cudf.DataFrame(purchase_df)"
   ]
  },
  {
   "cell_type": "markdown",
   "id": "9d894574",
   "metadata": {
    "_cell_guid": "d8a96755-ade6-49e7-9944-7ab45cb6aeb7",
    "_uuid": "cd1f7cb3-5429-4cf6-a08d-65cd32930812",
    "editable": false,
    "papermill": {
     "duration": 0.156438,
     "end_time": "2022-03-28T04:27:30.724916",
     "exception": false,
     "start_time": "2022-03-28T04:27:30.568478",
     "status": "completed"
    },
    "tags": []
   },
   "source": [
    "### Make a submission"
   ]
  },
  {
   "cell_type": "code",
   "execution_count": 101,
   "id": "e1813465",
   "metadata": {
    "_cell_guid": "57a6e73d-1c2a-41e2-bfb9-61ce1ee91389",
    "_uuid": "eeb176a3-953c-46d3-87f7-fb565ea3d935",
    "collapsed": false,
    "execution": {
     "iopub.execute_input": "2022-03-28T04:27:31.038585Z",
     "iopub.status.busy": "2022-03-28T04:27:31.037773Z",
     "iopub.status.idle": "2022-03-28T04:27:31.103135Z",
     "shell.execute_reply": "2022-03-28T04:27:31.102554Z",
     "shell.execute_reply.started": "2022-03-28T03:29:49.125978Z"
    },
    "jupyter": {
     "outputs_hidden": false
    },
    "papermill": {
     "duration": 0.225306,
     "end_time": "2022-03-28T04:27:31.103302",
     "exception": false,
     "start_time": "2022-03-28T04:27:30.877996",
     "status": "completed"
    },
    "tags": []
   },
   "outputs": [],
   "source": [
    "merge_result[\"article_id\"] = \"0\"+merge_result[\"article_id\"].astype(\"str\")"
   ]
  },
  {
   "cell_type": "code",
   "execution_count": 102,
   "id": "65adb8e0",
   "metadata": {
    "_cell_guid": "6dad8baa-a1ab-463b-a3cc-03eac43b79fc",
    "_uuid": "dd3f6fbc-14ad-48ab-ac44-6fae3440d5f0",
    "collapsed": false,
    "execution": {
     "iopub.execute_input": "2022-03-28T04:27:31.425010Z",
     "iopub.status.busy": "2022-03-28T04:27:31.424089Z",
     "iopub.status.idle": "2022-03-28T04:27:31.469919Z",
     "shell.execute_reply": "2022-03-28T04:27:31.470362Z",
     "shell.execute_reply.started": "2022-03-28T03:29:49.198536Z"
    },
    "jupyter": {
     "outputs_hidden": false
    },
    "papermill": {
     "duration": 0.210885,
     "end_time": "2022-03-28T04:27:31.470534",
     "exception": false,
     "start_time": "2022-03-28T04:27:31.259649",
     "status": "completed"
    },
    "tags": []
   },
   "outputs": [
    {
     "data": {
      "text/html": [
       "<div>\n",
       "<style scoped>\n",
       "    .dataframe tbody tr th:only-of-type {\n",
       "        vertical-align: middle;\n",
       "    }\n",
       "\n",
       "    .dataframe tbody tr th {\n",
       "        vertical-align: top;\n",
       "    }\n",
       "\n",
       "    .dataframe thead th {\n",
       "        text-align: right;\n",
       "    }\n",
       "</style>\n",
       "<table border=\"1\" class=\"dataframe\">\n",
       "  <thead>\n",
       "    <tr style=\"text-align: right;\">\n",
       "      <th></th>\n",
       "      <th>customer_id</th>\n",
       "      <th>article_id</th>\n",
       "      <th>score</th>\n",
       "    </tr>\n",
       "  </thead>\n",
       "  <tbody>\n",
       "    <tr>\n",
       "      <th>0</th>\n",
       "      <td>-5135781259237087037</td>\n",
       "      <td>0517729091</td>\n",
       "      <td>0.000065</td>\n",
       "    </tr>\n",
       "    <tr>\n",
       "      <th>1</th>\n",
       "      <td>-5624871500914218579</td>\n",
       "      <td>0751471001</td>\n",
       "      <td>0.002880</td>\n",
       "    </tr>\n",
       "    <tr>\n",
       "      <th>2</th>\n",
       "      <td>-7970946427098838191</td>\n",
       "      <td>0763988001</td>\n",
       "      <td>0.005507</td>\n",
       "    </tr>\n",
       "    <tr>\n",
       "      <th>3</th>\n",
       "      <td>9104575062053714894</td>\n",
       "      <td>0706016001</td>\n",
       "      <td>0.001868</td>\n",
       "    </tr>\n",
       "    <tr>\n",
       "      <th>4</th>\n",
       "      <td>7460620878329655984</td>\n",
       "      <td>0762846027</td>\n",
       "      <td>0.002295</td>\n",
       "    </tr>\n",
       "    <tr>\n",
       "      <th>...</th>\n",
       "      <td>...</td>\n",
       "      <td>...</td>\n",
       "      <td>...</td>\n",
       "    </tr>\n",
       "    <tr>\n",
       "      <th>42789925</th>\n",
       "      <td>1656649288221461275</td>\n",
       "      <td>0542533019</td>\n",
       "      <td>0.000484</td>\n",
       "    </tr>\n",
       "    <tr>\n",
       "      <th>42789926</th>\n",
       "      <td>-2592629029746870892</td>\n",
       "      <td>0797835008</td>\n",
       "      <td>0.005228</td>\n",
       "    </tr>\n",
       "    <tr>\n",
       "      <th>42789927</th>\n",
       "      <td>2024975388967780640</td>\n",
       "      <td>0918522001</td>\n",
       "      <td>0.003060</td>\n",
       "    </tr>\n",
       "    <tr>\n",
       "      <th>42789928</th>\n",
       "      <td>1670701978794802176</td>\n",
       "      <td>0713199006</td>\n",
       "      <td>0.000132</td>\n",
       "    </tr>\n",
       "    <tr>\n",
       "      <th>42789929</th>\n",
       "      <td>193248874012082528</td>\n",
       "      <td>0909371001</td>\n",
       "      <td>0.001495</td>\n",
       "    </tr>\n",
       "  </tbody>\n",
       "</table>\n",
       "<p>42789930 rows × 3 columns</p>\n",
       "</div>"
      ],
      "text/plain": [
       "                  customer_id  article_id     score\n",
       "0        -5135781259237087037  0517729091  0.000065\n",
       "1        -5624871500914218579  0751471001  0.002880\n",
       "2        -7970946427098838191  0763988001  0.005507\n",
       "3         9104575062053714894  0706016001  0.001868\n",
       "4         7460620878329655984  0762846027  0.002295\n",
       "...                       ...         ...       ...\n",
       "42789925  1656649288221461275  0542533019  0.000484\n",
       "42789926 -2592629029746870892  0797835008  0.005228\n",
       "42789927  2024975388967780640  0918522001  0.003060\n",
       "42789928  1670701978794802176  0713199006  0.000132\n",
       "42789929   193248874012082528  0909371001  0.001495\n",
       "\n",
       "[42789930 rows x 3 columns]"
      ]
     },
     "execution_count": 102,
     "metadata": {},
     "output_type": "execute_result"
    }
   ],
   "source": [
    "merge_result"
   ]
  },
  {
   "cell_type": "code",
   "execution_count": 103,
   "id": "3f5b8943",
   "metadata": {
    "_cell_guid": "8185f84e-cedc-48c4-86a1-d1bb371c28dd",
    "_uuid": "23818e7f-b7a3-432f-83bf-6136af149dfc",
    "collapsed": false,
    "execution": {
     "iopub.execute_input": "2022-03-28T04:27:31.790835Z",
     "iopub.status.busy": "2022-03-28T04:27:31.789994Z",
     "iopub.status.idle": "2022-03-28T04:27:32.386982Z",
     "shell.execute_reply": "2022-03-28T04:27:32.386477Z",
     "shell.execute_reply.started": "2022-03-28T03:29:49.260989Z"
    },
    "jupyter": {
     "outputs_hidden": false
    },
    "papermill": {
     "duration": 0.76031,
     "end_time": "2022-03-28T04:27:32.387152",
     "exception": false,
     "start_time": "2022-03-28T04:27:31.626842",
     "status": "completed"
    },
    "tags": []
   },
   "outputs": [],
   "source": [
    "merge_result = merge_result.sort_values(by = [\"customer_id\", \"score\"], ascending = False)"
   ]
  },
  {
   "cell_type": "code",
   "execution_count": 104,
   "id": "ae615f62",
   "metadata": {
    "_cell_guid": "10c16fac-7e05-433f-b9db-246c57a1de7c",
    "_uuid": "9b04ffe9-0216-4196-a496-de23397301fa",
    "collapsed": false,
    "execution": {
     "iopub.execute_input": "2022-03-28T04:27:32.731983Z",
     "iopub.status.busy": "2022-03-28T04:27:32.730259Z",
     "iopub.status.idle": "2022-03-28T04:27:32.732633Z",
     "shell.execute_reply": "2022-03-28T04:27:32.733124Z",
     "shell.execute_reply.started": "2022-03-28T03:29:49.862728Z"
    },
    "jupyter": {
     "outputs_hidden": false
    },
    "papermill": {
     "duration": 0.184297,
     "end_time": "2022-03-28T04:27:32.733308",
     "exception": false,
     "start_time": "2022-03-28T04:27:32.549011",
     "status": "completed"
    },
    "tags": []
   },
   "outputs": [],
   "source": [
    "#merge_result.to_pandas()[:10000].groupby([\"customer_id\"])[\"article_id\"].agg(lambda x: print(x.to_list()))"
   ]
  },
  {
   "cell_type": "code",
   "execution_count": 105,
   "id": "44ca8675",
   "metadata": {
    "_cell_guid": "61b2ea68-7528-4ec9-8d54-2a5dc5f757bb",
    "_uuid": "42b77504-3d51-48a9-83bc-2a24b68b23f9",
    "collapsed": false,
    "execution": {
     "iopub.execute_input": "2022-03-28T04:27:33.081675Z",
     "iopub.status.busy": "2022-03-28T04:27:33.080747Z",
     "iopub.status.idle": "2022-03-28T04:27:33.124863Z",
     "shell.execute_reply": "2022-03-28T04:27:33.125327Z",
     "shell.execute_reply.started": "2022-03-28T03:29:49.868210Z"
    },
    "jupyter": {
     "outputs_hidden": false
    },
    "papermill": {
     "duration": 0.225375,
     "end_time": "2022-03-28T04:27:33.125493",
     "exception": false,
     "start_time": "2022-03-28T04:27:32.900118",
     "status": "completed"
    },
    "tags": []
   },
   "outputs": [
    {
     "data": {
      "text/html": [
       "<div>\n",
       "<style scoped>\n",
       "    .dataframe tbody tr th:only-of-type {\n",
       "        vertical-align: middle;\n",
       "    }\n",
       "\n",
       "    .dataframe tbody tr th {\n",
       "        vertical-align: top;\n",
       "    }\n",
       "\n",
       "    .dataframe thead th {\n",
       "        text-align: right;\n",
       "    }\n",
       "</style>\n",
       "<table border=\"1\" class=\"dataframe\">\n",
       "  <thead>\n",
       "    <tr style=\"text-align: right;\">\n",
       "      <th></th>\n",
       "      <th>customer_id</th>\n",
       "      <th>article_id</th>\n",
       "      <th>score</th>\n",
       "    </tr>\n",
       "  </thead>\n",
       "  <tbody>\n",
       "    <tr>\n",
       "      <th>41094896</th>\n",
       "      <td>9223370729206611574</td>\n",
       "      <td>0909370001</td>\n",
       "      <td>0.006153</td>\n",
       "    </tr>\n",
       "    <tr>\n",
       "      <th>8535733</th>\n",
       "      <td>9223370729206611574</td>\n",
       "      <td>0909371001</td>\n",
       "      <td>0.004058</td>\n",
       "    </tr>\n",
       "    <tr>\n",
       "      <th>989138</th>\n",
       "      <td>9223370729206611574</td>\n",
       "      <td>0805947001</td>\n",
       "      <td>0.002095</td>\n",
       "    </tr>\n",
       "    <tr>\n",
       "      <th>1309826</th>\n",
       "      <td>9223370729206611574</td>\n",
       "      <td>0908799002</td>\n",
       "      <td>0.001833</td>\n",
       "    </tr>\n",
       "    <tr>\n",
       "      <th>2527303</th>\n",
       "      <td>9223370729206611574</td>\n",
       "      <td>0935892001</td>\n",
       "      <td>0.001833</td>\n",
       "    </tr>\n",
       "    <tr>\n",
       "      <th>...</th>\n",
       "      <td>...</td>\n",
       "      <td>...</td>\n",
       "      <td>...</td>\n",
       "    </tr>\n",
       "    <tr>\n",
       "      <th>42431249</th>\n",
       "      <td>-9223352921020755230</td>\n",
       "      <td>0562245046</td>\n",
       "      <td>0.000574</td>\n",
       "    </tr>\n",
       "    <tr>\n",
       "      <th>1229566</th>\n",
       "      <td>-9223352921020755230</td>\n",
       "      <td>0568597006</td>\n",
       "      <td>0.000559</td>\n",
       "    </tr>\n",
       "    <tr>\n",
       "      <th>20839021</th>\n",
       "      <td>-9223352921020755230</td>\n",
       "      <td>0751471001</td>\n",
       "      <td>0.000512</td>\n",
       "    </tr>\n",
       "    <tr>\n",
       "      <th>32816846</th>\n",
       "      <td>-9223352921020755230</td>\n",
       "      <td>0372860002</td>\n",
       "      <td>0.000494</td>\n",
       "    </tr>\n",
       "    <tr>\n",
       "      <th>37625351</th>\n",
       "      <td>-9223352921020755230</td>\n",
       "      <td>0156231001</td>\n",
       "      <td>0.000442</td>\n",
       "    </tr>\n",
       "  </tbody>\n",
       "</table>\n",
       "<p>42789930 rows × 3 columns</p>\n",
       "</div>"
      ],
      "text/plain": [
       "                  customer_id  article_id     score\n",
       "41094896  9223370729206611574  0909370001  0.006153\n",
       "8535733   9223370729206611574  0909371001  0.004058\n",
       "989138    9223370729206611574  0805947001  0.002095\n",
       "1309826   9223370729206611574  0908799002  0.001833\n",
       "2527303   9223370729206611574  0935892001  0.001833\n",
       "...                       ...         ...       ...\n",
       "42431249 -9223352921020755230  0562245046  0.000574\n",
       "1229566  -9223352921020755230  0568597006  0.000559\n",
       "20839021 -9223352921020755230  0751471001  0.000512\n",
       "32816846 -9223352921020755230  0372860002  0.000494\n",
       "37625351 -9223352921020755230  0156231001  0.000442\n",
       "\n",
       "[42789930 rows x 3 columns]"
      ]
     },
     "execution_count": 105,
     "metadata": {},
     "output_type": "execute_result"
    }
   ],
   "source": [
    "merge_result"
   ]
  },
  {
   "cell_type": "code",
   "execution_count": 106,
   "id": "d1be8e61",
   "metadata": {
    "_cell_guid": "7a7bc801-4d06-48ae-9ee2-e08ec8de6982",
    "_uuid": "4d5db8ab-fdb2-4af3-ae9e-d9e74d258c4f",
    "collapsed": false,
    "execution": {
     "iopub.execute_input": "2022-03-28T04:27:33.448105Z",
     "iopub.status.busy": "2022-03-28T04:27:33.447287Z",
     "iopub.status.idle": "2022-03-28T04:27:54.598818Z",
     "shell.execute_reply": "2022-03-28T04:27:54.597881Z",
     "shell.execute_reply.started": "2022-03-28T03:29:49.934243Z"
    },
    "jupyter": {
     "outputs_hidden": false
    },
    "papermill": {
     "duration": 21.314468,
     "end_time": "2022-03-28T04:27:54.598967",
     "exception": false,
     "start_time": "2022-03-28T04:27:33.284499",
     "status": "completed"
    },
    "tags": []
   },
   "outputs": [],
   "source": [
    "final = merge_result.to_pandas().groupby([\"customer_id\"])[\"article_id\"].agg(lambda x: \" \".join(x)[:131])"
   ]
  },
  {
   "cell_type": "code",
   "execution_count": 107,
   "id": "c9a54294",
   "metadata": {
    "_cell_guid": "26a10bf6-0a3e-4fab-afb9-2f20086cbb2e",
    "_uuid": "1155094c-6aee-4ce9-be3a-fc8de6cd12f2",
    "collapsed": false,
    "execution": {
     "iopub.execute_input": "2022-03-28T04:27:54.928270Z",
     "iopub.status.busy": "2022-03-28T04:27:54.927324Z",
     "iopub.status.idle": "2022-03-28T04:27:54.929638Z",
     "shell.execute_reply": "2022-03-28T04:27:54.929120Z",
     "shell.execute_reply.started": "2022-03-28T03:30:13.227592Z"
    },
    "jupyter": {
     "outputs_hidden": false
    },
    "papermill": {
     "duration": 0.166778,
     "end_time": "2022-03-28T04:27:54.929753",
     "exception": false,
     "start_time": "2022-03-28T04:27:54.762975",
     "status": "completed"
    },
    "tags": []
   },
   "outputs": [],
   "source": [
    "# source = merge_result.to_pandas().groupby([\"customer_id\"])[\"article_id\"].agg(lambda x: \" \".join(x)[:131])"
   ]
  },
  {
   "cell_type": "code",
   "execution_count": 108,
   "id": "57899d9f",
   "metadata": {
    "_cell_guid": "2fe781a8-b967-4005-9f49-90508849e7ca",
    "_uuid": "8e7b0224-dab1-4e41-a466-9733984fd664",
    "collapsed": false,
    "execution": {
     "iopub.execute_input": "2022-03-28T04:27:55.250221Z",
     "iopub.status.busy": "2022-03-28T04:27:55.249688Z",
     "iopub.status.idle": "2022-03-28T04:27:55.328289Z",
     "shell.execute_reply": "2022-03-28T04:27:55.327377Z",
     "shell.execute_reply.started": "2022-03-28T03:30:13.235412Z"
    },
    "jupyter": {
     "outputs_hidden": false
    },
    "papermill": {
     "duration": 0.240356,
     "end_time": "2022-03-28T04:27:55.328435",
     "exception": false,
     "start_time": "2022-03-28T04:27:55.088079",
     "status": "completed"
    },
    "tags": []
   },
   "outputs": [],
   "source": [
    "final = final.reset_index()"
   ]
  },
  {
   "cell_type": "code",
   "execution_count": 109,
   "id": "7326e293",
   "metadata": {
    "_cell_guid": "d60cb210-4763-4ae6-a6ad-c730a26435f5",
    "_uuid": "80e15014-18ef-4d43-bb8b-31a9be2c41ca",
    "collapsed": false,
    "execution": {
     "iopub.execute_input": "2022-03-28T04:27:55.723551Z",
     "iopub.status.busy": "2022-03-28T04:27:55.722466Z",
     "iopub.status.idle": "2022-03-28T04:27:55.782380Z",
     "shell.execute_reply": "2022-03-28T04:27:55.783556Z",
     "shell.execute_reply.started": "2022-03-28T03:30:13.321664Z"
    },
    "jupyter": {
     "outputs_hidden": false
    },
    "papermill": {
     "duration": 0.294565,
     "end_time": "2022-03-28T04:27:55.783765",
     "exception": false,
     "start_time": "2022-03-28T04:27:55.489200",
     "status": "completed"
    },
    "tags": []
   },
   "outputs": [],
   "source": [
    "final = final.rename(columns = {\"article_id\": \"prediction\"})"
   ]
  },
  {
   "cell_type": "code",
   "execution_count": 110,
   "id": "e10a3776",
   "metadata": {
    "_cell_guid": "efd90b2c-5aef-4990-a946-6adaf50033b1",
    "_uuid": "02d56c2d-8009-4bd6-8553-6ec0eb292669",
    "collapsed": false,
    "execution": {
     "iopub.execute_input": "2022-03-28T04:27:56.271515Z",
     "iopub.status.busy": "2022-03-28T04:27:56.270357Z",
     "iopub.status.idle": "2022-03-28T04:27:56.274030Z",
     "shell.execute_reply": "2022-03-28T04:27:56.273616Z",
     "shell.execute_reply.started": "2022-03-28T03:30:13.367789Z"
    },
    "jupyter": {
     "outputs_hidden": false
    },
    "papermill": {
     "duration": 0.230074,
     "end_time": "2022-03-28T04:27:56.274143",
     "exception": false,
     "start_time": "2022-03-28T04:27:56.044069",
     "status": "completed"
    },
    "tags": []
   },
   "outputs": [
    {
     "data": {
      "text/html": [
       "<div>\n",
       "<style scoped>\n",
       "    .dataframe tbody tr th:only-of-type {\n",
       "        vertical-align: middle;\n",
       "    }\n",
       "\n",
       "    .dataframe tbody tr th {\n",
       "        vertical-align: top;\n",
       "    }\n",
       "\n",
       "    .dataframe thead th {\n",
       "        text-align: right;\n",
       "    }\n",
       "</style>\n",
       "<table border=\"1\" class=\"dataframe\">\n",
       "  <thead>\n",
       "    <tr style=\"text-align: right;\">\n",
       "      <th></th>\n",
       "      <th>customer_id</th>\n",
       "      <th>prediction</th>\n",
       "    </tr>\n",
       "  </thead>\n",
       "  <tbody>\n",
       "    <tr>\n",
       "      <th>0</th>\n",
       "      <td>-9223352921020755230</td>\n",
       "      <td>0673396002 0860949002 0739590032 0812167004 07...</td>\n",
       "    </tr>\n",
       "    <tr>\n",
       "      <th>1</th>\n",
       "      <td>-9223343869995384291</td>\n",
       "      <td>0908292002 0910601003 0865929007 0903926002 08...</td>\n",
       "    </tr>\n",
       "    <tr>\n",
       "      <th>2</th>\n",
       "      <td>-9223321797620987725</td>\n",
       "      <td>0751471043 0865799006 0918522001 0910601003 09...</td>\n",
       "    </tr>\n",
       "    <tr>\n",
       "      <th>3</th>\n",
       "      <td>-9223319430705797669</td>\n",
       "      <td>0685814003 0448509014 0715624001 0918522001 07...</td>\n",
       "    </tr>\n",
       "    <tr>\n",
       "      <th>4</th>\n",
       "      <td>-9223308614576639426</td>\n",
       "      <td>0872537004 0899282001 0865929003 0749097003 05...</td>\n",
       "    </tr>\n",
       "    <tr>\n",
       "      <th>...</th>\n",
       "      <td>...</td>\n",
       "      <td>...</td>\n",
       "    </tr>\n",
       "    <tr>\n",
       "      <th>1364779</th>\n",
       "      <td>9223319300843860958</td>\n",
       "      <td>0751471001 0751471038 0751471043 0673677002 09...</td>\n",
       "    </tr>\n",
       "    <tr>\n",
       "      <th>1364780</th>\n",
       "      <td>9223333063893176977</td>\n",
       "      <td>0909370001 0865799006 0924243001 0809238001 09...</td>\n",
       "    </tr>\n",
       "    <tr>\n",
       "      <th>1364781</th>\n",
       "      <td>9223345314868180224</td>\n",
       "      <td>0909370001 0717464001 0841383002 0809238001 08...</td>\n",
       "    </tr>\n",
       "    <tr>\n",
       "      <th>1364782</th>\n",
       "      <td>9223357421094039679</td>\n",
       "      <td>0918522001 0751471043 0751471001 0924243001 07...</td>\n",
       "    </tr>\n",
       "    <tr>\n",
       "      <th>1364783</th>\n",
       "      <td>9223370729206611574</td>\n",
       "      <td>0909370001 0909371001 0805947001 0908799002 09...</td>\n",
       "    </tr>\n",
       "  </tbody>\n",
       "</table>\n",
       "<p>1364784 rows × 2 columns</p>\n",
       "</div>"
      ],
      "text/plain": [
       "                 customer_id  \\\n",
       "0       -9223352921020755230   \n",
       "1       -9223343869995384291   \n",
       "2       -9223321797620987725   \n",
       "3       -9223319430705797669   \n",
       "4       -9223308614576639426   \n",
       "...                      ...   \n",
       "1364779  9223319300843860958   \n",
       "1364780  9223333063893176977   \n",
       "1364781  9223345314868180224   \n",
       "1364782  9223357421094039679   \n",
       "1364783  9223370729206611574   \n",
       "\n",
       "                                                prediction  \n",
       "0        0673396002 0860949002 0739590032 0812167004 07...  \n",
       "1        0908292002 0910601003 0865929007 0903926002 08...  \n",
       "2        0751471043 0865799006 0918522001 0910601003 09...  \n",
       "3        0685814003 0448509014 0715624001 0918522001 07...  \n",
       "4        0872537004 0899282001 0865929003 0749097003 05...  \n",
       "...                                                    ...  \n",
       "1364779  0751471001 0751471038 0751471043 0673677002 09...  \n",
       "1364780  0909370001 0865799006 0924243001 0809238001 09...  \n",
       "1364781  0909370001 0717464001 0841383002 0809238001 08...  \n",
       "1364782  0918522001 0751471043 0751471001 0924243001 07...  \n",
       "1364783  0909370001 0909371001 0805947001 0908799002 09...  \n",
       "\n",
       "[1364784 rows x 2 columns]"
      ]
     },
     "execution_count": 110,
     "metadata": {},
     "output_type": "execute_result"
    }
   ],
   "source": [
    "final"
   ]
  },
  {
   "cell_type": "code",
   "execution_count": 111,
   "id": "dec92004",
   "metadata": {
    "_cell_guid": "a53b064c-7c02-4b55-8f59-0899eb5e287f",
    "_uuid": "ea47c8bc-9264-4ad5-a14b-e75d396098e3",
    "collapsed": false,
    "execution": {
     "iopub.execute_input": "2022-03-28T04:27:56.740704Z",
     "iopub.status.busy": "2022-03-28T04:27:56.739936Z",
     "iopub.status.idle": "2022-03-28T04:27:56.742926Z",
     "shell.execute_reply": "2022-03-28T04:27:56.743369Z",
     "shell.execute_reply.started": "2022-03-28T03:30:13.383966Z"
    },
    "jupyter": {
     "outputs_hidden": false
    },
    "papermill": {
     "duration": 0.309872,
     "end_time": "2022-03-28T04:27:56.743523",
     "exception": false,
     "start_time": "2022-03-28T04:27:56.433651",
     "status": "completed"
    },
    "tags": []
   },
   "outputs": [
    {
     "data": {
      "text/plain": [
       "126"
      ]
     },
     "execution_count": 111,
     "metadata": {},
     "output_type": "execute_result"
    }
   ],
   "source": [
    "gc.collect()"
   ]
  },
  {
   "cell_type": "code",
   "execution_count": 112,
   "id": "392e51a3",
   "metadata": {
    "_cell_guid": "9c88db0b-4b6c-49cd-b577-4cb46b089d42",
    "_uuid": "62d5d0f5-410c-4053-a735-fdfcc6ea15d6",
    "collapsed": false,
    "execution": {
     "iopub.execute_input": "2022-03-28T04:27:57.103814Z",
     "iopub.status.busy": "2022-03-28T04:27:57.103208Z",
     "iopub.status.idle": "2022-03-28T04:27:58.376025Z",
     "shell.execute_reply": "2022-03-28T04:27:58.376749Z",
     "shell.execute_reply.started": "2022-03-28T03:30:13.526610Z"
    },
    "jupyter": {
     "outputs_hidden": false
    },
    "papermill": {
     "duration": 1.454821,
     "end_time": "2022-03-28T04:27:58.376973",
     "exception": false,
     "start_time": "2022-03-28T04:27:56.922152",
     "status": "completed"
    },
    "tags": []
   },
   "outputs": [],
   "source": [
    "if Online:\n",
    "    sub  = cudf.read_csv('../input/h-and-m-personalized-fashion-recommendations/sample_submission.csv',\n",
    "                                usecols= ['customer_id'], \n",
    "                                dtype={'customer_id': 'string'})\n",
    "\n",
    "    sub['customer_id2'] = sub['customer_id'].str[-16:].str.hex_to_int().astype('int64')\n",
    "\n",
    "    sub = sub.to_pandas().merge(final, left_on = 'customer_id2', right_on = 'customer_id', how = 'left',\n",
    "                   suffixes = ('', '_ignored'))\n",
    "else:\n",
    "    sub  = cudf.read_csv('../input/h-and-m-personalized-fashion-recommendations/sample_submission.csv',\n",
    "                                usecols= ['customer_id'], \n",
    "                                dtype={'customer_id': 'string'})\n",
    "\n",
    "    sub['customer_id'] = sub['customer_id'].str[-16:].str.hex_to_int().astype('int64')\n",
    "\n",
    "    sub = sub.to_pandas().merge(final, left_on = 'customer_id', right_on = 'customer_id', how = 'left',\n",
    "                   suffixes = ('', '_ignored'))\n",
    "    \n",
    "\n",
    "#sub = sub.to_pandas()\n",
    "\n",
    "\n",
    "#final = sub.groupby([\"customer_id\"])[\"article_id\"].agg(lambda x: \" \".join(x + [general_pred_str]).strip()[:131])\n",
    "\n",
    "# sub['prediction'] = sub['prediction'].fillna(general_pred_str)\n",
    "# sub['prediction'] = sub['prediction'] + ' ' +  general_pred_str\n",
    "# sub['prediction'] = sub['prediction'].str.strip()\n",
    "# sub['prediction'] = sub['prediction'].str[:131]\n",
    "# sub = sub[['customer_id', 'prediction']]\n",
    "# sub.to_csv(f'submission.csv',index=False)"
   ]
  },
  {
   "cell_type": "code",
   "execution_count": 113,
   "id": "19a41c6e",
   "metadata": {
    "_cell_guid": "943fd4cf-ad93-45d4-a4e4-28048bb18039",
    "_uuid": "a646478c-26d3-4fe1-8120-f789b7351602",
    "collapsed": false,
    "execution": {
     "iopub.execute_input": "2022-03-28T04:27:59.102229Z",
     "iopub.status.busy": "2022-03-28T04:27:59.101132Z",
     "iopub.status.idle": "2022-03-28T04:27:59.108583Z",
     "shell.execute_reply": "2022-03-28T04:27:59.108992Z",
     "shell.execute_reply.started": "2022-03-28T03:30:14.545933Z"
    },
    "jupyter": {
     "outputs_hidden": false
    },
    "papermill": {
     "duration": 0.479222,
     "end_time": "2022-03-28T04:27:59.109140",
     "exception": false,
     "start_time": "2022-03-28T04:27:58.629918",
     "status": "completed"
    },
    "tags": []
   },
   "outputs": [
    {
     "data": {
      "text/plain": [
       "7196"
      ]
     },
     "execution_count": 113,
     "metadata": {},
     "output_type": "execute_result"
    }
   ],
   "source": [
    "sub[\"prediction\"].isna().sum()"
   ]
  },
  {
   "cell_type": "code",
   "execution_count": 114,
   "id": "9011c6d5",
   "metadata": {
    "_cell_guid": "a59cf2a4-3448-4fd3-8ef4-ccb6842ae93c",
    "_uuid": "5395499e-8e2d-4ff9-b299-2f3751c32ac5",
    "collapsed": false,
    "execution": {
     "iopub.execute_input": "2022-03-28T04:27:59.430082Z",
     "iopub.status.busy": "2022-03-28T04:27:59.429461Z",
     "iopub.status.idle": "2022-03-28T04:27:59.432229Z",
     "shell.execute_reply": "2022-03-28T04:27:59.432655Z",
     "shell.execute_reply.started": "2022-03-28T03:30:14.811464Z"
    },
    "jupyter": {
     "outputs_hidden": false
    },
    "papermill": {
     "duration": 0.165788,
     "end_time": "2022-03-28T04:27:59.432789",
     "exception": false,
     "start_time": "2022-03-28T04:27:59.267001",
     "status": "completed"
    },
    "tags": []
   },
   "outputs": [
    {
     "data": {
      "text/plain": [
       "'0909370001 0865799006 0918522001 0924243001 0448509014 0751471001 0809238001 0918292001 0762846027 0809238005 0673677002 0923758001'"
      ]
     },
     "execution_count": 114,
     "metadata": {},
     "output_type": "execute_result"
    }
   ],
   "source": [
    "general_pred_str"
   ]
  },
  {
   "cell_type": "code",
   "execution_count": 115,
   "id": "542e3fa0",
   "metadata": {
    "_cell_guid": "106a5cab-ccb9-4424-b21b-9b171577ceb1",
    "_uuid": "ea2ac64e-6e14-40a4-8d0a-1595416c3f7f",
    "collapsed": false,
    "execution": {
     "iopub.execute_input": "2022-03-28T04:28:00.042987Z",
     "iopub.status.busy": "2022-03-28T04:28:00.000514Z",
     "iopub.status.idle": "2022-03-28T04:28:02.090839Z",
     "shell.execute_reply": "2022-03-28T04:28:02.090255Z",
     "shell.execute_reply.started": "2022-03-28T03:30:14.820607Z"
    },
    "jupyter": {
     "outputs_hidden": false
    },
    "papermill": {
     "duration": 2.500024,
     "end_time": "2022-03-28T04:28:02.090977",
     "exception": false,
     "start_time": "2022-03-28T04:27:59.590953",
     "status": "completed"
    },
    "tags": []
   },
   "outputs": [],
   "source": [
    "sub[\"prediction\"] = sub[\"prediction\"].fillna(general_pred_str)\n",
    "sub['prediction'] = sub['prediction'] + ' ' +  general_pred_str\n",
    "sub['prediction'] = sub['prediction'].str[:131]"
   ]
  },
  {
   "cell_type": "markdown",
   "id": "d8ae81e6",
   "metadata": {
    "papermill": {
     "duration": 0.157229,
     "end_time": "2022-03-28T04:28:02.410257",
     "exception": false,
     "start_time": "2022-03-28T04:28:02.253028",
     "status": "completed"
    },
    "tags": []
   },
   "source": [
    "## 生成测试集"
   ]
  },
  {
   "cell_type": "code",
   "execution_count": 116,
   "id": "ad636033",
   "metadata": {
    "_cell_guid": "320d21e0-5c4a-4ef4-a841-c50adf781804",
    "_uuid": "fc0619d6-669b-4244-8691-3005c8641610",
    "collapsed": false,
    "execution": {
     "iopub.execute_input": "2022-03-28T04:28:02.739566Z",
     "iopub.status.busy": "2022-03-28T04:28:02.738733Z",
     "iopub.status.idle": "2022-03-28T04:28:02.741277Z",
     "shell.execute_reply": "2022-03-28T04:28:02.740827Z",
     "shell.execute_reply.started": "2022-03-28T03:30:17.484112Z"
    },
    "jupyter": {
     "outputs_hidden": false
    },
    "papermill": {
     "duration": 0.173725,
     "end_time": "2022-03-28T04:28:02.741403",
     "exception": false,
     "start_time": "2022-03-28T04:28:02.567678",
     "status": "completed"
    },
    "tags": []
   },
   "outputs": [],
   "source": [
    "import datetime\n",
    "if Online:\n",
    "    sub[[\"customer_id\", \"prediction\"]].to_csv(\"sub_sz_{}.csv\".format(datetime.datetime.now().strftime('%Y-%m-%d %H:%M:%S')), index = False)\n",
    "    assert False"
   ]
  },
  {
   "cell_type": "code",
   "execution_count": 117,
   "id": "ce194540",
   "metadata": {
    "execution": {
     "iopub.execute_input": "2022-03-28T04:28:03.069402Z",
     "iopub.status.busy": "2022-03-28T04:28:03.062079Z",
     "iopub.status.idle": "2022-03-28T04:28:03.072107Z",
     "shell.execute_reply": "2022-03-28T04:28:03.072548Z",
     "shell.execute_reply.started": "2022-03-28T03:30:17.491481Z"
    },
    "papermill": {
     "duration": 0.173956,
     "end_time": "2022-03-28T04:28:03.072687",
     "exception": false,
     "start_time": "2022-03-28T04:28:02.898731",
     "status": "completed"
    },
    "tags": []
   },
   "outputs": [
    {
     "data": {
      "text/html": [
       "<div>\n",
       "<style scoped>\n",
       "    .dataframe tbody tr th:only-of-type {\n",
       "        vertical-align: middle;\n",
       "    }\n",
       "\n",
       "    .dataframe tbody tr th {\n",
       "        vertical-align: top;\n",
       "    }\n",
       "\n",
       "    .dataframe thead th {\n",
       "        text-align: right;\n",
       "    }\n",
       "</style>\n",
       "<table border=\"1\" class=\"dataframe\">\n",
       "  <thead>\n",
       "    <tr style=\"text-align: right;\">\n",
       "      <th></th>\n",
       "      <th>customer_id</th>\n",
       "      <th>prediction</th>\n",
       "    </tr>\n",
       "  </thead>\n",
       "  <tbody>\n",
       "    <tr>\n",
       "      <th>0</th>\n",
       "      <td>6883939031699146327</td>\n",
       "      <td>0568601043 0858856005 0751471001 0751471038 07...</td>\n",
       "    </tr>\n",
       "    <tr>\n",
       "      <th>1</th>\n",
       "      <td>-7200416642310594310</td>\n",
       "      <td>0909370001 0865799006 0826211002 0809238001 09...</td>\n",
       "    </tr>\n",
       "    <tr>\n",
       "      <th>2</th>\n",
       "      <td>-6846340800584936</td>\n",
       "      <td>0794321007 0805000001 0794321011 0852643003 07...</td>\n",
       "    </tr>\n",
       "    <tr>\n",
       "      <th>3</th>\n",
       "      <td>-94071612138601410</td>\n",
       "      <td>0918522001 0751471043 0751471001 0924243001 07...</td>\n",
       "    </tr>\n",
       "    <tr>\n",
       "      <th>4</th>\n",
       "      <td>-283965518499174310</td>\n",
       "      <td>0673677002 0896152002 0791587015 0730683050 09...</td>\n",
       "    </tr>\n",
       "    <tr>\n",
       "      <th>...</th>\n",
       "      <td>...</td>\n",
       "      <td>...</td>\n",
       "    </tr>\n",
       "    <tr>\n",
       "      <th>95</th>\n",
       "      <td>1889187610526549305</td>\n",
       "      <td>0918522001 0751471043 0751471001 0924243001 07...</td>\n",
       "    </tr>\n",
       "    <tr>\n",
       "      <th>96</th>\n",
       "      <td>980241662753680497</td>\n",
       "      <td>0879088001 0685814003 0448509014 0715624001 09...</td>\n",
       "    </tr>\n",
       "    <tr>\n",
       "      <th>97</th>\n",
       "      <td>1444190829146371337</td>\n",
       "      <td>0685814003 0448509014 0715624001 0918522001 07...</td>\n",
       "    </tr>\n",
       "    <tr>\n",
       "      <th>98</th>\n",
       "      <td>1889400186892419753</td>\n",
       "      <td>0897423001 0685814003 0448509014 0715624001 09...</td>\n",
       "    </tr>\n",
       "    <tr>\n",
       "      <th>99</th>\n",
       "      <td>-327473559171145925</td>\n",
       "      <td>0909370001 0865799006 0918522001 0924243001 04...</td>\n",
       "    </tr>\n",
       "  </tbody>\n",
       "</table>\n",
       "<p>100 rows × 2 columns</p>\n",
       "</div>"
      ],
      "text/plain": [
       "            customer_id                                         prediction\n",
       "0   6883939031699146327  0568601043 0858856005 0751471001 0751471038 07...\n",
       "1  -7200416642310594310  0909370001 0865799006 0826211002 0809238001 09...\n",
       "2     -6846340800584936  0794321007 0805000001 0794321011 0852643003 07...\n",
       "3    -94071612138601410  0918522001 0751471043 0751471001 0924243001 07...\n",
       "4   -283965518499174310  0673677002 0896152002 0791587015 0730683050 09...\n",
       "..                  ...                                                ...\n",
       "95  1889187610526549305  0918522001 0751471043 0751471001 0924243001 07...\n",
       "96   980241662753680497  0879088001 0685814003 0448509014 0715624001 09...\n",
       "97  1444190829146371337  0685814003 0448509014 0715624001 0918522001 07...\n",
       "98  1889400186892419753  0897423001 0685814003 0448509014 0715624001 09...\n",
       "99  -327473559171145925  0909370001 0865799006 0918522001 0924243001 04...\n",
       "\n",
       "[100 rows x 2 columns]"
      ]
     },
     "execution_count": 117,
     "metadata": {},
     "output_type": "execute_result"
    }
   ],
   "source": [
    "sub[:100]"
   ]
  },
  {
   "cell_type": "code",
   "execution_count": 118,
   "id": "501f155f",
   "metadata": {
    "_cell_guid": "54209751-6670-4a1b-a268-4a00d4049bc8",
    "_uuid": "cb276dff-05a8-410e-bd5a-c83199c62437",
    "collapsed": false,
    "execution": {
     "iopub.execute_input": "2022-03-28T04:28:03.394491Z",
     "iopub.status.busy": "2022-03-28T04:28:03.393778Z",
     "iopub.status.idle": "2022-03-28T04:28:03.560391Z",
     "shell.execute_reply": "2022-03-28T04:28:03.559896Z",
     "shell.execute_reply.started": "2022-03-28T03:30:17.509341Z"
    },
    "jupyter": {
     "outputs_hidden": false
    },
    "papermill": {
     "duration": 0.329639,
     "end_time": "2022-03-28T04:28:03.560529",
     "exception": false,
     "start_time": "2022-03-28T04:28:03.230890",
     "status": "completed"
    },
    "tags": []
   },
   "outputs": [],
   "source": [
    "sub_id  = cudf.read_csv('../input/h-and-m-personalized-fashion-recommendations/sample_submission.csv',\n",
    "                                usecols= ['customer_id'], \n",
    "                                dtype={'customer_id': 'string'})\n",
    "cid = cudf.DataFrame(sub_id['customer_id'].str[-16:].str.hex_to_int().astype('int64'))"
   ]
  },
  {
   "cell_type": "code",
   "execution_count": 119,
   "id": "88cdd165",
   "metadata": {
    "_cell_guid": "68573437-c071-4e84-a954-65cc36959a1a",
    "_uuid": "45d4681e-0636-4caa-b3d8-a513efce1075",
    "collapsed": false,
    "execution": {
     "iopub.execute_input": "2022-03-28T04:28:03.880495Z",
     "iopub.status.busy": "2022-03-28T04:28:03.879746Z",
     "iopub.status.idle": "2022-03-28T04:28:03.881833Z",
     "shell.execute_reply": "2022-03-28T04:28:03.882633Z",
     "shell.execute_reply.started": "2022-03-28T03:30:17.677979Z"
    },
    "jupyter": {
     "outputs_hidden": false
    },
    "papermill": {
     "duration": 0.164552,
     "end_time": "2022-03-28T04:28:03.882773",
     "exception": false,
     "start_time": "2022-03-28T04:28:03.718221",
     "status": "completed"
    },
    "tags": []
   },
   "outputs": [],
   "source": [
    "cid[\"customer_id\"] = cid[\"customer_id\"].astype(\"int64\")"
   ]
  },
  {
   "cell_type": "code",
   "execution_count": 120,
   "id": "cf5c6744",
   "metadata": {
    "_cell_guid": "12cce383-b9ad-4d5f-9fe6-eff6d2483a16",
    "_uuid": "307594aa-e0b5-4b31-a1e9-3b4bf84487a3",
    "collapsed": false,
    "execution": {
     "iopub.execute_input": "2022-03-28T04:28:04.209960Z",
     "iopub.status.busy": "2022-03-28T04:28:04.209118Z",
     "iopub.status.idle": "2022-03-28T04:28:05.552651Z",
     "shell.execute_reply": "2022-03-28T04:28:05.551856Z",
     "shell.execute_reply.started": "2022-03-28T03:30:17.684608Z"
    },
    "jupyter": {
     "outputs_hidden": false
    },
    "papermill": {
     "duration": 1.507505,
     "end_time": "2022-03-28T04:28:05.552781",
     "exception": false,
     "start_time": "2022-03-28T04:28:04.045276",
     "status": "completed"
    },
    "tags": []
   },
   "outputs": [],
   "source": [
    "def iter_to_str(iterable):\n",
    "    return \" \".join(map(lambda x: str(0) + str(x), iterable))\n",
    "real = val.to_pandas().groupby('customer_id')[\"article_id\"].apply(iter_to_str).reset_index()"
   ]
  },
  {
   "cell_type": "code",
   "execution_count": 121,
   "id": "487130c0",
   "metadata": {
    "_cell_guid": "51e901bb-eb02-424d-8804-884e43d71243",
    "_uuid": "942d9d6a-2d85-45c4-aa5f-0c1f9c433f7d",
    "collapsed": false,
    "execution": {
     "iopub.execute_input": "2022-03-28T04:28:05.877947Z",
     "iopub.status.busy": "2022-03-28T04:28:05.876942Z",
     "iopub.status.idle": "2022-03-28T04:28:06.173353Z",
     "shell.execute_reply": "2022-03-28T04:28:06.172831Z",
     "shell.execute_reply.started": "2022-03-28T03:30:19.198825Z"
    },
    "jupyter": {
     "outputs_hidden": false
    },
    "papermill": {
     "duration": 0.45988,
     "end_time": "2022-03-28T04:28:06.173484",
     "exception": false,
     "start_time": "2022-03-28T04:28:05.713604",
     "status": "completed"
    },
    "tags": []
   },
   "outputs": [],
   "source": [
    "real = real.merge(cid.to_pandas(), on='customer_id', how='inner')\n",
    "real.article_id = real.article_id.apply(lambda s: [] if pd.isna(s) else s.split())"
   ]
  },
  {
   "cell_type": "code",
   "execution_count": 122,
   "id": "510bd7a9",
   "metadata": {
    "_cell_guid": "1eccf81d-77a1-42bd-815e-cb2fd026140f",
    "_uuid": "145942b6-16c3-4af1-881b-1c00eaa5a65f",
    "collapsed": false,
    "execution": {
     "iopub.execute_input": "2022-03-28T04:28:06.495662Z",
     "iopub.status.busy": "2022-03-28T04:28:06.494810Z",
     "iopub.status.idle": "2022-03-28T04:28:06.496796Z",
     "shell.execute_reply": "2022-03-28T04:28:06.497288Z",
     "shell.execute_reply.started": "2022-03-28T03:30:19.503914Z"
    },
    "jupyter": {
     "outputs_hidden": false
    },
    "papermill": {
     "duration": 0.164758,
     "end_time": "2022-03-28T04:28:06.497443",
     "exception": false,
     "start_time": "2022-03-28T04:28:06.332685",
     "status": "completed"
    },
    "tags": []
   },
   "outputs": [],
   "source": [
    "#sub[:10000].groupby([\"customer_id\"])[\"article_id\"].agg(lambda x: \" \".join(x).strip()[:131])"
   ]
  },
  {
   "cell_type": "code",
   "execution_count": 123,
   "id": "19991fc3",
   "metadata": {
    "_cell_guid": "db7125aa-eb4e-47ae-b02f-b8b19790d064",
    "_uuid": "f7fed420-1020-41e8-99c8-9d59df2a4e6b",
    "collapsed": false,
    "execution": {
     "iopub.execute_input": "2022-03-28T04:28:06.989967Z",
     "iopub.status.busy": "2022-03-28T04:28:06.988388Z",
     "iopub.status.idle": "2022-03-28T04:28:06.990837Z",
     "shell.execute_reply": "2022-03-28T04:28:06.991521Z",
     "shell.execute_reply.started": "2022-03-28T03:30:19.513444Z"
    },
    "jupyter": {
     "outputs_hidden": false
    },
    "papermill": {
     "duration": 0.265912,
     "end_time": "2022-03-28T04:28:06.991734",
     "exception": false,
     "start_time": "2022-03-28T04:28:06.725822",
     "status": "completed"
    },
    "tags": []
   },
   "outputs": [],
   "source": [
    "#final"
   ]
  },
  {
   "cell_type": "markdown",
   "id": "11967975",
   "metadata": {
    "_cell_guid": "07bbf10d-d477-4e90-829b-149b44d9d9e9",
    "_uuid": "336b94f7-1eef-4fc6-b9a4-49fee8b48ddc",
    "editable": false,
    "papermill": {
     "duration": 0.16144,
     "end_time": "2022-03-28T04:28:07.383427",
     "exception": false,
     "start_time": "2022-03-28T04:28:07.221987",
     "status": "completed"
    },
    "tags": []
   },
   "source": [
    "## 验证集评估"
   ]
  },
  {
   "cell_type": "code",
   "execution_count": 124,
   "id": "eda76100",
   "metadata": {
    "_cell_guid": "b52875eb-ab95-4c6f-b3a0-c3e639b28dc0",
    "_uuid": "2bce14f8-317e-411f-9dba-f4d21a92b68f",
    "collapsed": false,
    "execution": {
     "iopub.execute_input": "2022-03-28T04:28:07.859246Z",
     "iopub.status.busy": "2022-03-28T04:28:07.857840Z",
     "iopub.status.idle": "2022-03-28T04:28:07.862699Z",
     "shell.execute_reply": "2022-03-28T04:28:07.863105Z",
     "shell.execute_reply.started": "2022-03-28T03:30:19.519347Z"
    },
    "jupyter": {
     "outputs_hidden": false
    },
    "papermill": {
     "duration": 0.315543,
     "end_time": "2022-03-28T04:28:07.863284",
     "exception": false,
     "start_time": "2022-03-28T04:28:07.547741",
     "status": "completed"
    },
    "tags": []
   },
   "outputs": [
    {
     "data": {
      "text/plain": [
       "63"
      ]
     },
     "execution_count": 124,
     "metadata": {},
     "output_type": "execute_result"
    }
   ],
   "source": [
    "gc.collect()"
   ]
  },
  {
   "cell_type": "code",
   "execution_count": 125,
   "id": "c29b517b",
   "metadata": {
    "_cell_guid": "94880db5-953b-4202-8a1b-f488afa3858e",
    "_uuid": "77c9edac-445e-4afa-b540-60c5e88fb0a2",
    "collapsed": false,
    "execution": {
     "iopub.execute_input": "2022-03-28T04:28:08.203078Z",
     "iopub.status.busy": "2022-03-28T04:28:08.202166Z",
     "iopub.status.idle": "2022-03-28T04:28:08.276761Z",
     "shell.execute_reply": "2022-03-28T04:28:08.276148Z",
     "shell.execute_reply.started": "2022-03-28T03:30:19.679397Z"
    },
    "jupyter": {
     "outputs_hidden": false
    },
    "papermill": {
     "duration": 0.25149,
     "end_time": "2022-03-28T04:28:08.276911",
     "exception": false,
     "start_time": "2022-03-28T04:28:08.025421",
     "status": "completed"
    },
    "tags": []
   },
   "outputs": [],
   "source": [
    "import numpy as np, pandas as pd, datetime as dt\n",
    "import matplotlib.pyplot as plt; plt.style.use('ggplot')\n",
    "import seaborn as sns\n",
    "from collections import defaultdict\n",
    "\n",
    "def iter_to_str(iterable):\n",
    "    return \" \".join(map(lambda x: str(0) + str(x), iterable))\n",
    "\n",
    "def apk(actual, predicted, k=12):\n",
    "    if len(predicted) > k:\n",
    "        predicted = predicted[:k]\n",
    "    score, nhits = 0.0, 0.0\n",
    "    for i, p in enumerate(predicted):\n",
    "        if p in actual and p not in predicted[:i]:\n",
    "            nhits += 1.0\n",
    "            score += nhits / (i + 1.0)\n",
    "    if not actual:\n",
    "        return 0.0\n",
    "    return score / min(len(actual), k)\n",
    "\n",
    "def mapk(actual, predicted, k=12, return_apks=False):\n",
    "    assert len(actual) == len(predicted)\n",
    "    apks = [apk(ac, pr, k) for ac, pr in zip(actual, predicted) if 0 < len(ac)]\n",
    "    if return_apks:\n",
    "        return apks\n",
    "    return np.mean(apks)\n",
    "\n",
    "def blend(dt, w=[], k=12):\n",
    "    if len(w) == 0:\n",
    "        w = [1] * (len(dt))\n",
    "    preds = []\n",
    "    for i in range(len(w)):\n",
    "        preds.append(dt[i].split())\n",
    "    res = {}\n",
    "    for i in range(len(preds)):\n",
    "        if w[i] < 0:\n",
    "            continue\n",
    "        for n, v in enumerate(preds[i]):\n",
    "            if v in res:\n",
    "                res[v] += (w[i] / (n + 1))\n",
    "            else:\n",
    "                res[v] = (w[i] / (n + 1))    \n",
    "    res = list(dict(sorted(res.items(), key=lambda item: -item[1])).keys())\n",
    "    return ' '.join(res[:k])\n",
    "\n",
    "def prune(pred, ok_set, k=12):\n",
    "    pred = pred.split()\n",
    "    post = []\n",
    "    for item in pred:\n",
    "        if int(item) in ok_set and not item in post:\n",
    "            post.append(item)\n",
    "    return \" \".join(post[:k])\n",
    "\n",
    "def validation(actual, predicted, groups, score=0, index=-1, ignore=False, figsize=(22, 6), name = \"\"):\n",
    "    # actual, predicted : list of lists\n",
    "    # group : pandas Series\n",
    "    # score : pandas DataFrame\n",
    "    if ignore: return\n",
    "    ap12 = mapk(actual, predicted, return_apks=True)\n",
    "    smap12 = round(np.mean(ap12), 6)\n",
    "    group_num = len(groups)\n",
    "    plt.figure(figsize=figsize)\n",
    "    plt.subplot(1, 1+group_num, 1); sns.histplot(data=ap12, log_scale=(0, 10), bins=20); plt.title(f\"MAP@12 : {smap12}\")\n",
    "    count = 2\n",
    "    for name, group in groups.items():\n",
    "        score = pd.DataFrame({g:[] for g in sorted(group.unique().tolist())})\n",
    "        if index == -1 : index = score.shape[0]\n",
    "        score.loc[index, \"All\"] = smap12\n",
    "        for g in group.unique():\n",
    "            map12 = round(mapk(actual[group == g], predicted[group == g]), 6)\n",
    "            score.loc[index, g] = map12\n",
    "        plt.subplot(1, 1+group_num, count)\n",
    "        score[[g for g in sorted(group.unique(), key = lambda x: x if type(x) is np.float64 else float(x.replace(\"(\", \"1\").split(\",\")[0]))[::-1]] + ['All']].loc[index].plot.barh()\n",
    "        plt.title(\"{} MAP@12\".format(name))\n",
    "        count += 1\n",
    "        vc = pd.Series(predicted).apply(len).value_counts()\n",
    "        score.loc[index, \"Fill\"] = round(1 - sum(vc[k] * (12 - k) / 12 for k in (set(range(12)) & set(vc.index))) / len(actual), 3) * 100\n",
    "        display(score)\n",
    "    return score"
   ]
  },
  {
   "cell_type": "code",
   "execution_count": 126,
   "id": "4cc0c974",
   "metadata": {
    "_cell_guid": "c5857db9-2cb4-4454-88f0-798fa0b3f65e",
    "_uuid": "1793bb3a-128e-447f-9352-eb2775399e11",
    "collapsed": false,
    "execution": {
     "iopub.execute_input": "2022-03-28T04:28:08.612139Z",
     "iopub.status.busy": "2022-03-28T04:28:08.611461Z",
     "iopub.status.idle": "2022-03-28T04:28:08.635535Z",
     "shell.execute_reply": "2022-03-28T04:28:08.635032Z",
     "shell.execute_reply.started": "2022-03-28T03:30:19.769479Z"
    },
    "jupyter": {
     "outputs_hidden": false
    },
    "papermill": {
     "duration": 0.195111,
     "end_time": "2022-03-28T04:28:08.635673",
     "exception": false,
     "start_time": "2022-03-28T04:28:08.440562",
     "status": "completed"
    },
    "tags": []
   },
   "outputs": [],
   "source": [
    "group = val.groupby('customer_id').sales_channel_id.mean().round().reset_index()\\\n",
    "    .merge(cid, on='customer_id', how='inner').rename(columns={'sales_channel_id':'group'})\n",
    "group = group.set_index('customer_id').loc[real.customer_id].reset_index()\n",
    "channal_group = group.group.fillna(3)"
   ]
  },
  {
   "cell_type": "code",
   "execution_count": 127,
   "id": "319cb9db",
   "metadata": {
    "_cell_guid": "dcdf2838-545d-4040-94e8-3e649dad87be",
    "_uuid": "2277e667-fa4f-4f5d-8bb0-0fd7ca26c044",
    "collapsed": false,
    "execution": {
     "iopub.execute_input": "2022-03-28T04:28:08.972963Z",
     "iopub.status.busy": "2022-03-28T04:28:08.971906Z",
     "iopub.status.idle": "2022-03-28T04:28:15.284295Z",
     "shell.execute_reply": "2022-03-28T04:28:15.284743Z",
     "shell.execute_reply.started": "2022-03-28T03:30:19.800523Z"
    },
    "jupyter": {
     "outputs_hidden": false
    },
    "papermill": {
     "duration": 6.485417,
     "end_time": "2022-03-28T04:28:15.284933",
     "exception": false,
     "start_time": "2022-03-28T04:28:08.799516",
     "status": "completed"
    },
    "tags": []
   },
   "outputs": [],
   "source": [
    "customer[\"age_type\"] = pd.cut(customer.to_pandas()[\"age\"], bins = np.array([0, 21, 24, 27, 30, 35, 40, 45, 50, 60, 9999], dtype = \"int32\"), right = True).astype(\"string\")\n",
    "group = customer.rename(columns={'age_type':'group'}).set_index('customer_id').loc[real.customer_id].reset_index()\n",
    "age_group = group.group.fillna(\"-1\")"
   ]
  },
  {
   "cell_type": "code",
   "execution_count": 128,
   "id": "30cb5385",
   "metadata": {
    "_cell_guid": "f33c62d5-3d1a-4927-9eaa-f967e7f78698",
    "_uuid": "f699ab78-a7f7-440a-a611-9f16e4ca316a",
    "collapsed": false,
    "execution": {
     "iopub.execute_input": "2022-03-28T04:28:15.609836Z",
     "iopub.status.busy": "2022-03-28T04:28:15.609019Z",
     "iopub.status.idle": "2022-03-28T04:28:15.813834Z",
     "shell.execute_reply": "2022-03-28T04:28:15.813346Z",
     "shell.execute_reply.started": "2022-03-28T03:30:26.933123Z"
    },
    "jupyter": {
     "outputs_hidden": false
    },
    "papermill": {
     "duration": 0.369987,
     "end_time": "2022-03-28T04:28:15.813970",
     "exception": false,
     "start_time": "2022-03-28T04:28:15.443983",
     "status": "completed"
    },
    "tags": []
   },
   "outputs": [],
   "source": [
    "group = val.groupby('customer_id').sales_channel_id.count().round().reset_index()\\\n",
    "    .merge(cid, on='customer_id', how='inner').rename(columns={'sales_channel_id':'group'})\n",
    "group[\"group\"] = pd.cut(group[\"group\"].to_pandas(), bins = np.array([0, 1, 2, 3, 5, 10, 20, 9999], dtype = \"int32\"), right = True).astype(\"string\")\n",
    "group = group.set_index('customer_id').loc[real.customer_id].reset_index()\n",
    "count_group = group.group.fillna(0)"
   ]
  },
  {
   "cell_type": "code",
   "execution_count": 129,
   "id": "3a58fa40",
   "metadata": {
    "_cell_guid": "49138940-6071-4015-8dc0-0d08685fb3db",
    "_uuid": "0be5e21c-c7e5-43c3-a2f7-3c8d861ae73e",
    "collapsed": false,
    "execution": {
     "iopub.execute_input": "2022-03-28T04:28:16.142384Z",
     "iopub.status.busy": "2022-03-28T04:28:16.141516Z",
     "iopub.status.idle": "2022-03-28T04:28:16.183300Z",
     "shell.execute_reply": "2022-03-28T04:28:16.183762Z",
     "shell.execute_reply.started": "2022-03-28T03:30:27.163615Z"
    },
    "jupyter": {
     "outputs_hidden": false
    },
    "papermill": {
     "duration": 0.209298,
     "end_time": "2022-03-28T04:28:16.183925",
     "exception": false,
     "start_time": "2022-03-28T04:28:15.974627",
     "status": "completed"
    },
    "tags": []
   },
   "outputs": [
    {
     "data": {
      "text/html": [
       "<div>\n",
       "<style scoped>\n",
       "    .dataframe tbody tr th:only-of-type {\n",
       "        vertical-align: middle;\n",
       "    }\n",
       "\n",
       "    .dataframe tbody tr th {\n",
       "        vertical-align: top;\n",
       "    }\n",
       "\n",
       "    .dataframe thead th {\n",
       "        text-align: right;\n",
       "    }\n",
       "</style>\n",
       "<table border=\"1\" class=\"dataframe\">\n",
       "  <thead>\n",
       "    <tr style=\"text-align: right;\">\n",
       "      <th></th>\n",
       "      <th>customer_id</th>\n",
       "    </tr>\n",
       "  </thead>\n",
       "  <tbody>\n",
       "    <tr>\n",
       "      <th>31718581</th>\n",
       "      <td>-9223100958908512198</td>\n",
       "    </tr>\n",
       "    <tr>\n",
       "      <th>31723712</th>\n",
       "      <td>-9223002534477110135</td>\n",
       "    </tr>\n",
       "    <tr>\n",
       "      <th>31668649</th>\n",
       "      <td>-9222810895170663723</td>\n",
       "    </tr>\n",
       "    <tr>\n",
       "      <th>31664044</th>\n",
       "      <td>-9221924794303263774</td>\n",
       "    </tr>\n",
       "    <tr>\n",
       "      <th>31782993</th>\n",
       "      <td>-9221811157628158522</td>\n",
       "    </tr>\n",
       "    <tr>\n",
       "      <th>...</th>\n",
       "      <td>...</td>\n",
       "    </tr>\n",
       "    <tr>\n",
       "      <th>31575924</th>\n",
       "      <td>9221607025486275188</td>\n",
       "    </tr>\n",
       "    <tr>\n",
       "      <th>31692865</th>\n",
       "      <td>9221813808370389952</td>\n",
       "    </tr>\n",
       "    <tr>\n",
       "      <th>31681512</th>\n",
       "      <td>9222310594107555341</td>\n",
       "    </tr>\n",
       "    <tr>\n",
       "      <th>31712352</th>\n",
       "      <td>9223099843213569889</td>\n",
       "    </tr>\n",
       "    <tr>\n",
       "      <th>31622943</th>\n",
       "      <td>9223141695752178477</td>\n",
       "    </tr>\n",
       "  </tbody>\n",
       "</table>\n",
       "<p>68984 rows × 1 columns</p>\n",
       "</div>"
      ],
      "text/plain": [
       "                  customer_id\n",
       "31718581 -9223100958908512198\n",
       "31723712 -9223002534477110135\n",
       "31668649 -9222810895170663723\n",
       "31664044 -9221924794303263774\n",
       "31782993 -9221811157628158522\n",
       "...                       ...\n",
       "31575924  9221607025486275188\n",
       "31692865  9221813808370389952\n",
       "31681512  9222310594107555341\n",
       "31712352  9223099843213569889\n",
       "31622943  9223141695752178477\n",
       "\n",
       "[68984 rows x 1 columns]"
      ]
     },
     "execution_count": 129,
     "metadata": {},
     "output_type": "execute_result"
    }
   ],
   "source": [
    "val[['customer_id']].drop_duplicates()"
   ]
  },
  {
   "cell_type": "code",
   "execution_count": 130,
   "id": "2b8d3279",
   "metadata": {
    "_cell_guid": "768e17cd-99ea-4846-a565-dc9f7305e81d",
    "_uuid": "8e2f1665-8ac8-4ac4-82e3-2168e624cb41",
    "collapsed": false,
    "execution": {
     "iopub.execute_input": "2022-03-28T04:28:16.514729Z",
     "iopub.status.busy": "2022-03-28T04:28:16.513924Z",
     "iopub.status.idle": "2022-03-28T04:28:16.763102Z",
     "shell.execute_reply": "2022-03-28T04:28:16.763691Z",
     "shell.execute_reply.started": "2022-03-28T03:30:27.215321Z"
    },
    "jupyter": {
     "outputs_hidden": false
    },
    "papermill": {
     "duration": 0.417978,
     "end_time": "2022-03-28T04:28:16.763862",
     "exception": false,
     "start_time": "2022-03-28T04:28:16.345884",
     "status": "completed"
    },
    "tags": []
   },
   "outputs": [],
   "source": [
    "group = train.groupby('customer_id').sales_channel_id.count().round().reset_index()\\\n",
    "    .merge(val[['customer_id']].drop_duplicates(), on = \"customer_id\", how = \"right\")\\\n",
    "    .merge(cid, on='customer_id', how='inner').rename(columns={'sales_channel_id':'group'})\n",
    "group[\"group\"] = pd.cut(group[\"group\"].to_pandas(), bins = np.array([0, 5, 10, 20, 35, 50, 100], dtype = \"int32\"), right = True).astype(\"string\")\n",
    "group = group.set_index('customer_id').loc[real.customer_id].reset_index()\n",
    "his_count_group = group.group.fillna(0)"
   ]
  },
  {
   "cell_type": "code",
   "execution_count": 131,
   "id": "65af4702",
   "metadata": {
    "_cell_guid": "62c87e1b-9fc7-4002-9984-c8ffa900de38",
    "_uuid": "3b720eee-a973-45db-aad0-468a062508a7",
    "collapsed": false,
    "execution": {
     "iopub.execute_input": "2022-03-28T04:28:17.092502Z",
     "iopub.status.busy": "2022-03-28T04:28:17.091644Z",
     "iopub.status.idle": "2022-03-28T04:28:17.100158Z",
     "shell.execute_reply": "2022-03-28T04:28:17.100593Z",
     "shell.execute_reply.started": "2022-03-28T03:30:27.484531Z"
    },
    "jupyter": {
     "outputs_hidden": false
    },
    "papermill": {
     "duration": 0.17461,
     "end_time": "2022-03-28T04:28:17.100736",
     "exception": false,
     "start_time": "2022-03-28T04:28:16.926126",
     "status": "completed"
    },
    "tags": []
   },
   "outputs": [
    {
     "data": {
      "text/plain": [
       "0        (30.0, 35.0]\n",
       "1        (27.0, 30.0]\n",
       "2         (0.0, 21.0]\n",
       "3        (50.0, 60.0]\n",
       "4        (21.0, 24.0]\n",
       "             ...     \n",
       "68979    (40.0, 45.0]\n",
       "68980    (27.0, 30.0]\n",
       "68981    (30.0, 35.0]\n",
       "68982    (27.0, 30.0]\n",
       "68983     (0.0, 21.0]\n",
       "Name: group, Length: 68984, dtype: object"
      ]
     },
     "execution_count": 131,
     "metadata": {},
     "output_type": "execute_result"
    }
   ],
   "source": [
    "age_group"
   ]
  },
  {
   "cell_type": "code",
   "execution_count": 132,
   "id": "b5e16280",
   "metadata": {
    "_cell_guid": "e1809e19-905d-43a1-af09-3aceb2af08db",
    "_uuid": "f6e05524-2963-4c35-94ec-ae83d3a07d04",
    "collapsed": false,
    "execution": {
     "iopub.execute_input": "2022-03-28T04:28:17.424520Z",
     "iopub.status.busy": "2022-03-28T04:28:17.423710Z",
     "iopub.status.idle": "2022-03-28T04:28:17.438089Z",
     "shell.execute_reply": "2022-03-28T04:28:17.437607Z",
     "shell.execute_reply.started": "2022-03-28T03:30:27.498432Z"
    },
    "jupyter": {
     "outputs_hidden": false
    },
    "papermill": {
     "duration": 0.178376,
     "end_time": "2022-03-28T04:28:17.438250",
     "exception": false,
     "start_time": "2022-03-28T04:28:17.259874",
     "status": "completed"
    },
    "tags": []
   },
   "outputs": [
    {
     "data": {
      "text/plain": [
       "2.0    40829\n",
       "1.0    28155\n",
       "Name: group, dtype: int32"
      ]
     },
     "execution_count": 132,
     "metadata": {},
     "output_type": "execute_result"
    }
   ],
   "source": [
    "channal_group.value_counts()"
   ]
  },
  {
   "cell_type": "code",
   "execution_count": 133,
   "id": "dd6e7667",
   "metadata": {
    "_cell_guid": "dda23053-1403-4e5d-bff8-9a1d5b71d783",
    "_uuid": "7ae048c4-0875-4e5b-9609-9d027ced58b7",
    "collapsed": false,
    "execution": {
     "iopub.execute_input": "2022-03-28T04:28:17.924362Z",
     "iopub.status.busy": "2022-03-28T04:28:17.922886Z",
     "iopub.status.idle": "2022-03-28T04:28:18.084522Z",
     "shell.execute_reply": "2022-03-28T04:28:18.085039Z",
     "shell.execute_reply.started": "2022-03-28T03:30:27.518811Z"
    },
    "jupyter": {
     "outputs_hidden": false
    },
    "papermill": {
     "duration": 0.460919,
     "end_time": "2022-03-28T04:28:18.085217",
     "exception": false,
     "start_time": "2022-03-28T04:28:17.624298",
     "status": "completed"
    },
    "tags": []
   },
   "outputs": [],
   "source": [
    "sub = sub.set_index('customer_id').loc[real.customer_id].reset_index()"
   ]
  },
  {
   "cell_type": "code",
   "execution_count": 134,
   "id": "130c1450",
   "metadata": {
    "_cell_guid": "522dea03-39fb-4dfb-beb9-fd762ae39676",
    "_uuid": "bcef721f-5fe4-4e60-8ccf-da443ac5e5f2",
    "collapsed": false,
    "execution": {
     "iopub.execute_input": "2022-03-28T04:28:18.458486Z",
     "iopub.status.busy": "2022-03-28T04:28:18.457502Z",
     "iopub.status.idle": "2022-03-28T04:28:18.465691Z",
     "shell.execute_reply": "2022-03-28T04:28:18.466268Z",
     "shell.execute_reply.started": "2022-03-28T03:30:27.701973Z"
    },
    "jupyter": {
     "outputs_hidden": false
    },
    "papermill": {
     "duration": 0.175705,
     "end_time": "2022-03-28T04:28:18.466417",
     "exception": false,
     "start_time": "2022-03-28T04:28:18.290712",
     "status": "completed"
    },
    "tags": []
   },
   "outputs": [
    {
     "data": {
      "text/html": [
       "<div>\n",
       "<style scoped>\n",
       "    .dataframe tbody tr th:only-of-type {\n",
       "        vertical-align: middle;\n",
       "    }\n",
       "\n",
       "    .dataframe tbody tr th {\n",
       "        vertical-align: top;\n",
       "    }\n",
       "\n",
       "    .dataframe thead th {\n",
       "        text-align: right;\n",
       "    }\n",
       "</style>\n",
       "<table border=\"1\" class=\"dataframe\">\n",
       "  <thead>\n",
       "    <tr style=\"text-align: right;\">\n",
       "      <th></th>\n",
       "      <th>customer_id</th>\n",
       "      <th>prediction</th>\n",
       "    </tr>\n",
       "  </thead>\n",
       "  <tbody>\n",
       "    <tr>\n",
       "      <th>0</th>\n",
       "      <td>-9223100958908512198</td>\n",
       "      <td>0909911001 0909912001 0899976004 0924645001 09...</td>\n",
       "    </tr>\n",
       "    <tr>\n",
       "      <th>1</th>\n",
       "      <td>-9223002534477110135</td>\n",
       "      <td>0909370001 0158340001 0809238001 0924243001 09...</td>\n",
       "    </tr>\n",
       "    <tr>\n",
       "      <th>2</th>\n",
       "      <td>-9222810895170663723</td>\n",
       "      <td>0568601006 0759814022 0918522001 0685814003 06...</td>\n",
       "    </tr>\n",
       "    <tr>\n",
       "      <th>3</th>\n",
       "      <td>-9221924794303263774</td>\n",
       "      <td>0707269004 0707269003 0892412002 0909370001 09...</td>\n",
       "    </tr>\n",
       "    <tr>\n",
       "      <th>4</th>\n",
       "      <td>-9221811157628158522</td>\n",
       "      <td>0909370001 0448509014 0918522001 0918292001 08...</td>\n",
       "    </tr>\n",
       "    <tr>\n",
       "      <th>...</th>\n",
       "      <td>...</td>\n",
       "      <td>...</td>\n",
       "    </tr>\n",
       "    <tr>\n",
       "      <th>68979</th>\n",
       "      <td>9221607025486275188</td>\n",
       "      <td>0816586002 0673677002 0706016002 0909370001 08...</td>\n",
       "    </tr>\n",
       "    <tr>\n",
       "      <th>68980</th>\n",
       "      <td>9221813808370389952</td>\n",
       "      <td>0654590001 0714790020 0448509014 0749699002 06...</td>\n",
       "    </tr>\n",
       "    <tr>\n",
       "      <th>68981</th>\n",
       "      <td>9222310594107555341</td>\n",
       "      <td>0904416002 0863595002 0863595005 0863646003 09...</td>\n",
       "    </tr>\n",
       "    <tr>\n",
       "      <th>68982</th>\n",
       "      <td>9223099843213569889</td>\n",
       "      <td>0903773002 0776850001 0757909004 0827968004 08...</td>\n",
       "    </tr>\n",
       "    <tr>\n",
       "      <th>68983</th>\n",
       "      <td>9223141695752178477</td>\n",
       "      <td>0918522001 0685814003 0448509014 0918292001 07...</td>\n",
       "    </tr>\n",
       "  </tbody>\n",
       "</table>\n",
       "<p>68984 rows × 2 columns</p>\n",
       "</div>"
      ],
      "text/plain": [
       "               customer_id                                         prediction\n",
       "0     -9223100958908512198  0909911001 0909912001 0899976004 0924645001 09...\n",
       "1     -9223002534477110135  0909370001 0158340001 0809238001 0924243001 09...\n",
       "2     -9222810895170663723  0568601006 0759814022 0918522001 0685814003 06...\n",
       "3     -9221924794303263774  0707269004 0707269003 0892412002 0909370001 09...\n",
       "4     -9221811157628158522  0909370001 0448509014 0918522001 0918292001 08...\n",
       "...                    ...                                                ...\n",
       "68979  9221607025486275188  0816586002 0673677002 0706016002 0909370001 08...\n",
       "68980  9221813808370389952  0654590001 0714790020 0448509014 0749699002 06...\n",
       "68981  9222310594107555341  0904416002 0863595002 0863595005 0863646003 09...\n",
       "68982  9223099843213569889  0903773002 0776850001 0757909004 0827968004 08...\n",
       "68983  9223141695752178477  0918522001 0685814003 0448509014 0918292001 07...\n",
       "\n",
       "[68984 rows x 2 columns]"
      ]
     },
     "execution_count": 134,
     "metadata": {},
     "output_type": "execute_result"
    }
   ],
   "source": [
    "sub"
   ]
  },
  {
   "cell_type": "code",
   "execution_count": 135,
   "id": "0bc8935b",
   "metadata": {
    "_cell_guid": "5ec7e047-8de4-4ef5-b1e3-4a4c73371fdf",
    "_uuid": "b6abaaa0-9e18-4b49-b300-79d6e86ac243",
    "collapsed": false,
    "execution": {
     "iopub.execute_input": "2022-03-28T04:28:18.796994Z",
     "iopub.status.busy": "2022-03-28T04:28:18.796142Z",
     "iopub.status.idle": "2022-03-28T04:28:18.810437Z",
     "shell.execute_reply": "2022-03-28T04:28:18.810883Z",
     "shell.execute_reply.started": "2022-03-28T03:30:27.734119Z"
    },
    "jupyter": {
     "outputs_hidden": false
    },
    "papermill": {
     "duration": 0.182332,
     "end_time": "2022-03-28T04:28:18.811024",
     "exception": false,
     "start_time": "2022-03-28T04:28:18.628692",
     "status": "completed"
    },
    "tags": []
   },
   "outputs": [
    {
     "data": {
      "text/plain": [
       "0                17646\n",
       "(50.0, 100.0]    14603\n",
       "(20.0, 35.0]     10527\n",
       "(10.0, 20.0]      8439\n",
       "(35.0, 50.0]      7675\n",
       "(0.0, 5.0]        5210\n",
       "(5.0, 10.0]       4884\n",
       "Name: group, dtype: int32"
      ]
     },
     "execution_count": 135,
     "metadata": {},
     "output_type": "execute_result"
    }
   ],
   "source": [
    "his_count_group.value_counts()"
   ]
  },
  {
   "cell_type": "code",
   "execution_count": 136,
   "id": "f4fd6778",
   "metadata": {
    "_cell_guid": "b94887b4-a06c-4ad5-bbc9-c0d9fc2cde24",
    "_uuid": "a4f66ce5-62f5-4e40-b0ab-2562620a6803",
    "collapsed": false,
    "execution": {
     "iopub.execute_input": "2022-03-28T04:28:19.140849Z",
     "iopub.status.busy": "2022-03-28T04:28:19.139901Z",
     "iopub.status.idle": "2022-03-28T04:28:19.301437Z",
     "shell.execute_reply": "2022-03-28T04:28:19.301862Z",
     "shell.execute_reply.started": "2022-03-28T03:30:27.771492Z"
    },
    "jupyter": {
     "outputs_hidden": false
    },
    "papermill": {
     "duration": 0.330222,
     "end_time": "2022-03-28T04:28:19.302030",
     "exception": false,
     "start_time": "2022-03-28T04:28:18.971808",
     "status": "completed"
    },
    "tags": []
   },
   "outputs": [],
   "source": [
    "prediction =  sub[\"prediction\"].apply(lambda s: [] if pd.isna(s) else s.split())"
   ]
  },
  {
   "cell_type": "code",
   "execution_count": 137,
   "id": "c6cf71f0",
   "metadata": {
    "_cell_guid": "f4865157-18b1-4407-9d14-787f27fc03c9",
    "_uuid": "32124ecb-23d8-46ea-84bf-697b8aa0e90c",
    "collapsed": false,
    "execution": {
     "iopub.execute_input": "2022-03-28T04:28:19.645618Z",
     "iopub.status.busy": "2022-03-28T04:28:19.644617Z",
     "iopub.status.idle": "2022-03-28T04:28:19.655441Z",
     "shell.execute_reply": "2022-03-28T04:28:19.655832Z",
     "shell.execute_reply.started": "2022-03-28T03:30:28.056316Z"
    },
    "jupyter": {
     "outputs_hidden": false
    },
    "papermill": {
     "duration": 0.177543,
     "end_time": "2022-03-28T04:28:19.655978",
     "exception": false,
     "start_time": "2022-03-28T04:28:19.478435",
     "status": "completed"
    },
    "tags": []
   },
   "outputs": [],
   "source": [
    "groups = {\"channal\":channal_group.to_pandas(),\n",
    "         \"age\":age_group.to_pandas(),\n",
    "         \"val_count\":count_group.to_pandas(),\n",
    "         \"train_count\": his_count_group.to_pandas()}"
   ]
  },
  {
   "cell_type": "code",
   "execution_count": 138,
   "id": "a78f0e4e",
   "metadata": {
    "_cell_guid": "4e13a4ca-b571-4c03-af40-3c326888a68a",
    "_uuid": "bf283679-7c7b-4a5c-953a-02fb07b47c31",
    "collapsed": false,
    "execution": {
     "iopub.execute_input": "2022-03-28T04:28:19.985816Z",
     "iopub.status.busy": "2022-03-28T04:28:19.984981Z",
     "iopub.status.idle": "2022-03-28T04:28:19.999570Z",
     "shell.execute_reply": "2022-03-28T04:28:20.000013Z",
     "shell.execute_reply.started": "2022-03-28T03:30:28.080525Z"
    },
    "jupyter": {
     "outputs_hidden": false
    },
    "papermill": {
     "duration": 0.182203,
     "end_time": "2022-03-28T04:28:20.000154",
     "exception": false,
     "start_time": "2022-03-28T04:28:19.817951",
     "status": "completed"
    },
    "tags": []
   },
   "outputs": [
    {
     "data": {
      "text/plain": [
       "(0, 1]        19994\n",
       "(1, 2]        16386\n",
       "(3, 5]        10928\n",
       "(2, 3]        10075\n",
       "(5, 10]        8668\n",
       "(10, 20]       2571\n",
       "(20, 9999]      362\n",
       "Name: group, dtype: int32"
      ]
     },
     "execution_count": 138,
     "metadata": {},
     "output_type": "execute_result"
    }
   ],
   "source": [
    "count_group.value_counts()"
   ]
  },
  {
   "cell_type": "code",
   "execution_count": 139,
   "id": "e62bc41e",
   "metadata": {
    "_cell_guid": "fc0012d2-919a-4125-a613-0d3e7fefc4ab",
    "_uuid": "e275557c-6ae7-49bb-afb9-b86e174642da",
    "collapsed": false,
    "execution": {
     "iopub.execute_input": "2022-03-28T04:28:20.329103Z",
     "iopub.status.busy": "2022-03-28T04:28:20.327296Z",
     "iopub.status.idle": "2022-03-28T04:28:20.331424Z",
     "shell.execute_reply": "2022-03-28T04:28:20.330953Z",
     "shell.execute_reply.started": "2022-03-28T03:30:28.113555Z"
    },
    "jupyter": {
     "outputs_hidden": false
    },
    "papermill": {
     "duration": 0.16874,
     "end_time": "2022-03-28T04:28:20.331547",
     "exception": false,
     "start_time": "2022-03-28T04:28:20.162807",
     "status": "completed"
    },
    "tags": []
   },
   "outputs": [],
   "source": [
    "#sorted(count_group.to_pandas().unique(), key = lambda x: float(x.replace(\"(\", \"1\").split(\",\")[0]))"
   ]
  },
  {
   "cell_type": "code",
   "execution_count": 140,
   "id": "ec7fb555",
   "metadata": {
    "_cell_guid": "b0d5540d-5979-416d-a2d1-0ca1397dd9a4",
    "_uuid": "1dbb2fe2-5714-4fb9-9b0f-667ef769a794",
    "collapsed": false,
    "execution": {
     "iopub.execute_input": "2022-03-28T04:28:20.705049Z",
     "iopub.status.busy": "2022-03-28T04:28:20.694723Z",
     "iopub.status.idle": "2022-03-28T04:28:24.011310Z",
     "shell.execute_reply": "2022-03-28T04:28:24.011878Z",
     "shell.execute_reply.started": "2022-03-28T03:30:28.125593Z"
    },
    "jupyter": {
     "outputs_hidden": false
    },
    "papermill": {
     "duration": 3.517711,
     "end_time": "2022-03-28T04:28:24.012072",
     "exception": false,
     "start_time": "2022-03-28T04:28:20.494361",
     "status": "completed"
    },
    "tags": []
   },
   "outputs": [
    {
     "data": {
      "text/html": [
       "<div>\n",
       "<style scoped>\n",
       "    .dataframe tbody tr th:only-of-type {\n",
       "        vertical-align: middle;\n",
       "    }\n",
       "\n",
       "    .dataframe tbody tr th {\n",
       "        vertical-align: top;\n",
       "    }\n",
       "\n",
       "    .dataframe thead th {\n",
       "        text-align: right;\n",
       "    }\n",
       "</style>\n",
       "<table border=\"1\" class=\"dataframe\">\n",
       "  <thead>\n",
       "    <tr style=\"text-align: right;\">\n",
       "      <th></th>\n",
       "      <th>1.0</th>\n",
       "      <th>2.0</th>\n",
       "      <th>All</th>\n",
       "      <th>Fill</th>\n",
       "    </tr>\n",
       "  </thead>\n",
       "  <tbody>\n",
       "    <tr>\n",
       "      <th>Last Purchase</th>\n",
       "      <td>0.017172</td>\n",
       "      <td>0.033045</td>\n",
       "      <td>0.026567</td>\n",
       "      <td>100.0</td>\n",
       "    </tr>\n",
       "  </tbody>\n",
       "</table>\n",
       "</div>"
      ],
      "text/plain": [
       "                    1.0       2.0       All   Fill\n",
       "Last Purchase  0.017172  0.033045  0.026567  100.0"
      ]
     },
     "metadata": {},
     "output_type": "display_data"
    },
    {
     "data": {
      "text/html": [
       "<div>\n",
       "<style scoped>\n",
       "    .dataframe tbody tr th:only-of-type {\n",
       "        vertical-align: middle;\n",
       "    }\n",
       "\n",
       "    .dataframe tbody tr th {\n",
       "        vertical-align: top;\n",
       "    }\n",
       "\n",
       "    .dataframe thead th {\n",
       "        text-align: right;\n",
       "    }\n",
       "</style>\n",
       "<table border=\"1\" class=\"dataframe\">\n",
       "  <thead>\n",
       "    <tr style=\"text-align: right;\">\n",
       "      <th></th>\n",
       "      <th>(0.0, 21.0]</th>\n",
       "      <th>(21.0, 24.0]</th>\n",
       "      <th>(24.0, 27.0]</th>\n",
       "      <th>(27.0, 30.0]</th>\n",
       "      <th>(30.0, 35.0]</th>\n",
       "      <th>(35.0, 40.0]</th>\n",
       "      <th>(40.0, 45.0]</th>\n",
       "      <th>(45.0, 50.0]</th>\n",
       "      <th>(50.0, 60.0]</th>\n",
       "      <th>(60.0, 9999.0]</th>\n",
       "      <th>-1</th>\n",
       "      <th>All</th>\n",
       "      <th>Fill</th>\n",
       "    </tr>\n",
       "  </thead>\n",
       "  <tbody>\n",
       "    <tr>\n",
       "      <th>Last Purchase</th>\n",
       "      <td>0.023936</td>\n",
       "      <td>0.02527</td>\n",
       "      <td>0.026745</td>\n",
       "      <td>0.026214</td>\n",
       "      <td>0.026053</td>\n",
       "      <td>0.026082</td>\n",
       "      <td>0.028114</td>\n",
       "      <td>0.02633</td>\n",
       "      <td>0.027667</td>\n",
       "      <td>0.033253</td>\n",
       "      <td>0.033315</td>\n",
       "      <td>0.026567</td>\n",
       "      <td>100.0</td>\n",
       "    </tr>\n",
       "  </tbody>\n",
       "</table>\n",
       "</div>"
      ],
      "text/plain": [
       "               (0.0, 21.0]  (21.0, 24.0]  (24.0, 27.0]  (27.0, 30.0]  \\\n",
       "Last Purchase     0.023936       0.02527      0.026745      0.026214   \n",
       "\n",
       "               (30.0, 35.0]  (35.0, 40.0]  (40.0, 45.0]  (45.0, 50.0]  \\\n",
       "Last Purchase      0.026053      0.026082      0.028114       0.02633   \n",
       "\n",
       "               (50.0, 60.0]  (60.0, 9999.0]        -1       All   Fill  \n",
       "Last Purchase      0.027667        0.033253  0.033315  0.026567  100.0  "
      ]
     },
     "metadata": {},
     "output_type": "display_data"
    },
    {
     "data": {
      "text/html": [
       "<div>\n",
       "<style scoped>\n",
       "    .dataframe tbody tr th:only-of-type {\n",
       "        vertical-align: middle;\n",
       "    }\n",
       "\n",
       "    .dataframe tbody tr th {\n",
       "        vertical-align: top;\n",
       "    }\n",
       "\n",
       "    .dataframe thead th {\n",
       "        text-align: right;\n",
       "    }\n",
       "</style>\n",
       "<table border=\"1\" class=\"dataframe\">\n",
       "  <thead>\n",
       "    <tr style=\"text-align: right;\">\n",
       "      <th></th>\n",
       "      <th>(0, 1]</th>\n",
       "      <th>(1, 2]</th>\n",
       "      <th>(10, 20]</th>\n",
       "      <th>(2, 3]</th>\n",
       "      <th>(20, 9999]</th>\n",
       "      <th>(3, 5]</th>\n",
       "      <th>(5, 10]</th>\n",
       "      <th>All</th>\n",
       "      <th>Fill</th>\n",
       "    </tr>\n",
       "  </thead>\n",
       "  <tbody>\n",
       "    <tr>\n",
       "      <th>Last Purchase</th>\n",
       "      <td>0.044022</td>\n",
       "      <td>0.026076</td>\n",
       "      <td>0.012615</td>\n",
       "      <td>0.020579</td>\n",
       "      <td>0.022067</td>\n",
       "      <td>0.015195</td>\n",
       "      <td>0.012853</td>\n",
       "      <td>0.026567</td>\n",
       "      <td>100.0</td>\n",
       "    </tr>\n",
       "  </tbody>\n",
       "</table>\n",
       "</div>"
      ],
      "text/plain": [
       "                 (0, 1]    (1, 2]  (10, 20]    (2, 3]  (20, 9999]    (3, 5]  \\\n",
       "Last Purchase  0.044022  0.026076  0.012615  0.020579    0.022067  0.015195   \n",
       "\n",
       "                (5, 10]       All   Fill  \n",
       "Last Purchase  0.012853  0.026567  100.0  "
      ]
     },
     "metadata": {},
     "output_type": "display_data"
    },
    {
     "data": {
      "text/html": [
       "<div>\n",
       "<style scoped>\n",
       "    .dataframe tbody tr th:only-of-type {\n",
       "        vertical-align: middle;\n",
       "    }\n",
       "\n",
       "    .dataframe tbody tr th {\n",
       "        vertical-align: top;\n",
       "    }\n",
       "\n",
       "    .dataframe thead th {\n",
       "        text-align: right;\n",
       "    }\n",
       "</style>\n",
       "<table border=\"1\" class=\"dataframe\">\n",
       "  <thead>\n",
       "    <tr style=\"text-align: right;\">\n",
       "      <th></th>\n",
       "      <th>(0.0, 5.0]</th>\n",
       "      <th>(10.0, 20.0]</th>\n",
       "      <th>(20.0, 35.0]</th>\n",
       "      <th>(35.0, 50.0]</th>\n",
       "      <th>(5.0, 10.0]</th>\n",
       "      <th>(50.0, 100.0]</th>\n",
       "      <th>0</th>\n",
       "      <th>All</th>\n",
       "      <th>Fill</th>\n",
       "    </tr>\n",
       "  </thead>\n",
       "  <tbody>\n",
       "    <tr>\n",
       "      <th>Last Purchase</th>\n",
       "      <td>0.03321</td>\n",
       "      <td>0.028434</td>\n",
       "      <td>0.026725</td>\n",
       "      <td>0.025843</td>\n",
       "      <td>0.02967</td>\n",
       "      <td>0.027874</td>\n",
       "      <td>0.021992</td>\n",
       "      <td>0.026567</td>\n",
       "      <td>100.0</td>\n",
       "    </tr>\n",
       "  </tbody>\n",
       "</table>\n",
       "</div>"
      ],
      "text/plain": [
       "               (0.0, 5.0]  (10.0, 20.0]  (20.0, 35.0]  (35.0, 50.0]  \\\n",
       "Last Purchase     0.03321      0.028434      0.026725      0.025843   \n",
       "\n",
       "               (5.0, 10.0]  (50.0, 100.0]         0       All   Fill  \n",
       "Last Purchase      0.02967       0.027874  0.021992  0.026567  100.0  "
      ]
     },
     "metadata": {},
     "output_type": "display_data"
    },
    {
     "data": {
      "image/png": "[encoded data removed]",
      "text/plain": [
       "<Figure size 1584x432 with 5 Axes>"
      ]
     },
     "metadata": {},
     "output_type": "display_data"
    }
   ],
   "source": [
    "score = validation(real.article_id, prediction, groups, index='Last Purchase', ignore=0)"
   ]
  },
  {
   "cell_type": "code",
   "execution_count": 141,
   "id": "e36f5c02",
   "metadata": {
    "_cell_guid": "7602c044-6578-4bc8-b96d-f548f09dcb09",
    "_uuid": "ce515283-4b55-4474-ad5b-1994fbf9fe9b",
    "collapsed": false,
    "execution": {
     "iopub.execute_input": "2022-03-28T04:28:24.535886Z",
     "iopub.status.busy": "2022-03-28T04:28:24.534982Z",
     "iopub.status.idle": "2022-03-28T04:28:24.539950Z",
     "shell.execute_reply": "2022-03-28T04:28:24.539499Z",
     "shell.execute_reply.started": "2022-03-28T03:30:32.103301Z"
    },
    "jupyter": {
     "outputs_hidden": false
    },
    "papermill": {
     "duration": 0.363421,
     "end_time": "2022-03-28T04:28:24.540072",
     "exception": false,
     "start_time": "2022-03-28T04:28:24.176651",
     "status": "completed"
    },
    "tags": []
   },
   "outputs": [
    {
     "data": {
      "text/plain": [
       "27409"
      ]
     },
     "execution_count": 141,
     "metadata": {},
     "output_type": "execute_result"
    }
   ],
   "source": [
    "del merge_result\n",
    "del sub\n",
    "del real\n",
    "del prediction\n",
    "del groups\n",
    "del cid\n",
    "del sub_id\n",
    "gc.collect()"
   ]
  }
 ],
 "metadata": {
  "kernelspec": {
   "display_name": "Python 3",
   "language": "python",
   "name": "python3"
  },
  "language_info": {
   "codemirror_mode": {
    "name": "ipython",
    "version": 3
   },
   "file_extension": ".py",
   "mimetype": "text/x-python",
   "name": "python",
   "nbconvert_exporter": "python",
   "pygments_lexer": "ipython3",
   "version": "3.7.12"
  },
  "papermill": {
   "default_parameters": {},
   "duration": 271.470022,
   "end_time": "2022-03-28T04:28:26.620542",
   "environment_variables": {},
   "exception": null,
   "input_path": "__notebook__.ipynb",
   "output_path": "__notebook__.ipynb",
   "parameters": {},
   "start_time": "2022-03-28T04:23:55.150520",
   "version": "2.3.3"
  }
 },
 "nbformat": 4,
 "nbformat_minor": 5
}
