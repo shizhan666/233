{
 "cells": [
  {
   "cell_type": "code",
   "execution_count": 1,
   "id": "611b6a51",
   "metadata": {
    "_cell_guid": "b1076dfc-b9ad-4769-8c92-a6c4dae69d19",
    "_uuid": "8f2839f25d086af736a60e9eeb907d3b93b6e0e5",
    "execution": {
     "iopub.execute_input": "2022-03-27T09:21:10.476380Z",
     "iopub.status.busy": "2022-03-27T09:21:10.474062Z",
     "iopub.status.idle": "2022-03-27T09:21:26.145602Z",
     "shell.execute_reply": "2022-03-27T09:21:26.144752Z",
     "shell.execute_reply.started": "2022-03-27T08:33:19.875467Z"
    },
    "papermill": {
     "duration": 15.858445,
     "end_time": "2022-03-27T09:21:26.145810",
     "exception": false,
     "start_time": "2022-03-27T09:21:10.287365",
     "status": "completed"
    },
    "tags": []
   },
   "outputs": [
    {
     "name": "stdout",
     "output_type": "stream",
     "text": [
      "Requirement already satisfied: cudf in /opt/conda/lib/python3.7/site-packages (21.10.1)\r\n",
      "Requirement already satisfied: numba>=0.53.1 in /opt/conda/lib/python3.7/site-packages (from cudf) (0.54.1)\r\n",
      "Requirement already satisfied: Cython<0.30,>=0.29 in /opt/conda/lib/python3.7/site-packages (from cudf) (0.29.28)\r\n",
      "Requirement already satisfied: fastavro>=0.22.9 in /opt/conda/lib/python3.7/site-packages (from cudf) (1.4.9)\r\n",
      "Requirement already satisfied: fsspec>=0.6.0 in /opt/conda/lib/python3.7/site-packages (from cudf) (2022.2.0)\r\n",
      "Requirement already satisfied: numpy in /opt/conda/lib/python3.7/site-packages (from cudf) (1.20.3)\r\n",
      "Requirement already satisfied: pandas<1.4.0dev0,>=1.0 in /opt/conda/lib/python3.7/site-packages (from cudf) (1.3.5)\r\n",
      "Requirement already satisfied: typing_extensions in /opt/conda/lib/python3.7/site-packages (from cudf) (4.1.1)\r\n",
      "Requirement already satisfied: protobuf in /opt/conda/lib/python3.7/site-packages (from cudf) (3.19.1)\r\n",
      "Requirement already satisfied: nvtx>=0.2.1 in /opt/conda/lib/python3.7/site-packages (from cudf) (0.2.3)\r\n",
      "Requirement already satisfied: cachetools in /opt/conda/lib/python3.7/site-packages (from cudf) (4.2.4)\r\n",
      "Requirement already satisfied: packaging in /opt/conda/lib/python3.7/site-packages (from cudf) (21.3)\r\n",
      "Requirement already satisfied: cupy-cuda110 in /opt/conda/lib/python3.7/site-packages (from cudf) (10.2.0)\r\n",
      "Requirement already satisfied: setuptools in /opt/conda/lib/python3.7/site-packages (from numba>=0.53.1->cudf) (59.5.0)\r\n",
      "Requirement already satisfied: llvmlite<0.38,>=0.37.0rc1 in /opt/conda/lib/python3.7/site-packages (from numba>=0.53.1->cudf) (0.37.0)\r\n",
      "Requirement already satisfied: python-dateutil>=2.7.3 in /opt/conda/lib/python3.7/site-packages (from pandas<1.4.0dev0,>=1.0->cudf) (2.8.2)\r\n",
      "Requirement already satisfied: pytz>=2017.3 in /opt/conda/lib/python3.7/site-packages (from pandas<1.4.0dev0,>=1.0->cudf) (2021.3)\r\n",
      "Requirement already satisfied: fastrlock>=0.5 in /opt/conda/lib/python3.7/site-packages (from cupy-cuda110->cudf) (0.8)\r\n",
      "Requirement already satisfied: pyparsing!=3.0.5,>=2.0.2 in /opt/conda/lib/python3.7/site-packages (from packaging->cudf) (3.0.6)\r\n",
      "Requirement already satisfied: six>=1.5 in /opt/conda/lib/python3.7/site-packages (from python-dateutil>=2.7.3->pandas<1.4.0dev0,>=1.0->cudf) (1.16.0)\r\n",
      "\u001b[33mWARNING: Running pip as the 'root' user can result in broken permissions and conflicting behaviour with the system package manager. It is recommended to use a virtual environment instead: https://pip.pypa.io/warnings/venv\u001b[0m\r\n"
     ]
    }
   ],
   "source": [
    "!pip install cudf\n",
    "import numpy as np\n",
    "import pandas as pd \n",
    "from datetime import datetime, timedelta\n",
    "import gc\n",
    "import cudf\n",
    "import cv2, matplotlib.pyplot as plt\n",
    "from os.path import exists"
   ]
  },
  {
   "cell_type": "markdown",
   "id": "994893f0",
   "metadata": {
    "papermill": {
     "duration": 0.155089,
     "end_time": "2022-03-27T09:21:26.456947",
     "exception": false,
     "start_time": "2022-03-27T09:21:26.301858",
     "status": "completed"
    },
    "tags": []
   },
   "source": [
    "### Read the transactions data"
   ]
  },
  {
   "cell_type": "markdown",
   "id": "19a55b89",
   "metadata": {
    "papermill": {
     "duration": 0.155619,
     "end_time": "2022-03-27T09:21:26.764289",
     "exception": false,
     "start_time": "2022-03-27T09:21:26.608670",
     "status": "completed"
    },
    "tags": []
   },
   "source": [
    "Changes: \n",
    "* read_csv using cudf\n",
    "* article_id types from string to int32 \n",
    "* reduce memory on customer_id "
   ]
  },
  {
   "cell_type": "code",
   "execution_count": 2,
   "id": "c1fbca90",
   "metadata": {
    "execution": {
     "iopub.execute_input": "2022-03-27T09:21:27.085634Z",
     "iopub.status.busy": "2022-03-27T09:21:27.084655Z",
     "iopub.status.idle": "2022-03-27T09:21:27.087423Z",
     "shell.execute_reply": "2022-03-27T09:21:27.087890Z",
     "shell.execute_reply.started": "2022-03-27T08:33:32.075699Z"
    },
    "papermill": {
     "duration": 0.166512,
     "end_time": "2022-03-27T09:21:27.088064",
     "exception": false,
     "start_time": "2022-03-27T09:21:26.921552",
     "status": "completed"
    },
    "tags": []
   },
   "outputs": [],
   "source": [
    "Date_week1 = pd.to_datetime(\"2020-09-16\")\n",
    "Date_week2 = pd.to_datetime(\"2020-09-09\")\n",
    "Date_week3 = pd.to_datetime(\"2020-09-02\")\n",
    "Last_day = pd.to_datetime(\"2020-09-22\")"
   ]
  },
  {
   "cell_type": "code",
   "execution_count": 3,
   "id": "214b49e5",
   "metadata": {
    "execution": {
     "iopub.execute_input": "2022-03-27T09:21:27.411863Z",
     "iopub.status.busy": "2022-03-27T09:21:27.410831Z",
     "iopub.status.idle": "2022-03-27T09:21:27.414063Z",
     "shell.execute_reply": "2022-03-27T09:21:27.413572Z",
     "shell.execute_reply.started": "2022-03-27T08:33:32.086003Z"
    },
    "papermill": {
     "duration": 0.174103,
     "end_time": "2022-03-27T09:21:27.414198",
     "exception": false,
     "start_time": "2022-03-27T09:21:27.240095",
     "status": "completed"
    },
    "tags": []
   },
   "outputs": [],
   "source": [
    "N = 12"
   ]
  },
  {
   "cell_type": "code",
   "execution_count": 4,
   "id": "3eff652e",
   "metadata": {
    "execution": {
     "iopub.execute_input": "2022-03-27T09:21:27.728943Z",
     "iopub.status.busy": "2022-03-27T09:21:27.728154Z",
     "iopub.status.idle": "2022-03-27T09:22:06.011043Z",
     "shell.execute_reply": "2022-03-27T09:22:06.010440Z",
     "shell.execute_reply.started": "2022-03-27T08:33:32.095975Z"
    },
    "papermill": {
     "duration": 38.444495,
     "end_time": "2022-03-27T09:22:06.011190",
     "exception": false,
     "start_time": "2022-03-27T09:21:27.566695",
     "status": "completed"
    },
    "tags": []
   },
   "outputs": [],
   "source": [
    "df  = cudf.read_csv('../input/h-and-m-personalized-fashion-recommendations/transactions_train.csv')\n",
    "                            #usecols= ['t_dat', 'customer_id', 'article_id'], \n",
    "                            #dtype={'article_id': 'int32', 't_dat': 'string', 'customer_id': 'string', \"sales_channel_id\": 'int32', \"price\": \"float\"})\n",
    "df ['customer_id'] = df ['customer_id'].str[-16:].str.hex_to_int().astype('int64')\n",
    "df.article_id = df.article_id.astype('int32')\n",
    "df['t_dat'] = cudf.to_datetime(df['t_dat'])\n",
    "Last_date = df['t_dat'].max()"
   ]
  },
  {
   "cell_type": "code",
   "execution_count": 5,
   "id": "6db6d139",
   "metadata": {
    "execution": {
     "iopub.execute_input": "2022-03-27T09:22:06.337205Z",
     "iopub.status.busy": "2022-03-27T09:22:06.336338Z",
     "iopub.status.idle": "2022-03-27T09:22:06.420255Z",
     "shell.execute_reply": "2022-03-27T09:22:06.420747Z",
     "shell.execute_reply.started": "2022-03-27T08:34:12.349318Z"
    },
    "papermill": {
     "duration": 0.254976,
     "end_time": "2022-03-27T09:22:06.420901",
     "exception": false,
     "start_time": "2022-03-27T09:22:06.165925",
     "status": "completed"
    },
    "tags": []
   },
   "outputs": [
    {
     "data": {
      "text/html": [
       "<div>\n",
       "<style scoped>\n",
       "    .dataframe tbody tr th:only-of-type {\n",
       "        vertical-align: middle;\n",
       "    }\n",
       "\n",
       "    .dataframe tbody tr th {\n",
       "        vertical-align: top;\n",
       "    }\n",
       "\n",
       "    .dataframe thead th {\n",
       "        text-align: right;\n",
       "    }\n",
       "</style>\n",
       "<table border=\"1\" class=\"dataframe\">\n",
       "  <thead>\n",
       "    <tr style=\"text-align: right;\">\n",
       "      <th></th>\n",
       "      <th>t_dat</th>\n",
       "      <th>customer_id</th>\n",
       "      <th>article_id</th>\n",
       "      <th>price</th>\n",
       "      <th>sales_channel_id</th>\n",
       "    </tr>\n",
       "  </thead>\n",
       "  <tbody>\n",
       "    <tr>\n",
       "      <th>0</th>\n",
       "      <td>2018-09-20</td>\n",
       "      <td>-6846340800584936</td>\n",
       "      <td>663713001</td>\n",
       "      <td>0.050831</td>\n",
       "      <td>2</td>\n",
       "    </tr>\n",
       "    <tr>\n",
       "      <th>1</th>\n",
       "      <td>2018-09-20</td>\n",
       "      <td>-6846340800584936</td>\n",
       "      <td>541518023</td>\n",
       "      <td>0.030492</td>\n",
       "      <td>2</td>\n",
       "    </tr>\n",
       "    <tr>\n",
       "      <th>2</th>\n",
       "      <td>2018-09-20</td>\n",
       "      <td>-8334631767138808638</td>\n",
       "      <td>505221004</td>\n",
       "      <td>0.015237</td>\n",
       "      <td>2</td>\n",
       "    </tr>\n",
       "    <tr>\n",
       "      <th>3</th>\n",
       "      <td>2018-09-20</td>\n",
       "      <td>-8334631767138808638</td>\n",
       "      <td>685687003</td>\n",
       "      <td>0.016932</td>\n",
       "      <td>2</td>\n",
       "    </tr>\n",
       "    <tr>\n",
       "      <th>4</th>\n",
       "      <td>2018-09-20</td>\n",
       "      <td>-8334631767138808638</td>\n",
       "      <td>685687004</td>\n",
       "      <td>0.016932</td>\n",
       "      <td>2</td>\n",
       "    </tr>\n",
       "    <tr>\n",
       "      <th>...</th>\n",
       "      <td>...</td>\n",
       "      <td>...</td>\n",
       "      <td>...</td>\n",
       "      <td>...</td>\n",
       "      <td>...</td>\n",
       "    </tr>\n",
       "    <tr>\n",
       "      <th>31788319</th>\n",
       "      <td>2020-09-22</td>\n",
       "      <td>4685485978980270934</td>\n",
       "      <td>929511001</td>\n",
       "      <td>0.059305</td>\n",
       "      <td>2</td>\n",
       "    </tr>\n",
       "    <tr>\n",
       "      <th>31788320</th>\n",
       "      <td>2020-09-22</td>\n",
       "      <td>4685485978980270934</td>\n",
       "      <td>891322004</td>\n",
       "      <td>0.042356</td>\n",
       "      <td>2</td>\n",
       "    </tr>\n",
       "    <tr>\n",
       "      <th>31788321</th>\n",
       "      <td>2020-09-22</td>\n",
       "      <td>3959348689921271969</td>\n",
       "      <td>918325001</td>\n",
       "      <td>0.043203</td>\n",
       "      <td>1</td>\n",
       "    </tr>\n",
       "    <tr>\n",
       "      <th>31788322</th>\n",
       "      <td>2020-09-22</td>\n",
       "      <td>-8639340045377511665</td>\n",
       "      <td>833459002</td>\n",
       "      <td>0.006763</td>\n",
       "      <td>1</td>\n",
       "    </tr>\n",
       "    <tr>\n",
       "      <th>31788323</th>\n",
       "      <td>2020-09-22</td>\n",
       "      <td>3235222691137941515</td>\n",
       "      <td>898573003</td>\n",
       "      <td>0.033881</td>\n",
       "      <td>2</td>\n",
       "    </tr>\n",
       "  </tbody>\n",
       "</table>\n",
       "<p>31788324 rows × 5 columns</p>\n",
       "</div>"
      ],
      "text/plain": [
       "              t_dat          customer_id  article_id     price  \\\n",
       "0        2018-09-20    -6846340800584936   663713001  0.050831   \n",
       "1        2018-09-20    -6846340800584936   541518023  0.030492   \n",
       "2        2018-09-20 -8334631767138808638   505221004  0.015237   \n",
       "3        2018-09-20 -8334631767138808638   685687003  0.016932   \n",
       "4        2018-09-20 -8334631767138808638   685687004  0.016932   \n",
       "...             ...                  ...         ...       ...   \n",
       "31788319 2020-09-22  4685485978980270934   929511001  0.059305   \n",
       "31788320 2020-09-22  4685485978980270934   891322004  0.042356   \n",
       "31788321 2020-09-22  3959348689921271969   918325001  0.043203   \n",
       "31788322 2020-09-22 -8639340045377511665   833459002  0.006763   \n",
       "31788323 2020-09-22  3235222691137941515   898573003  0.033881   \n",
       "\n",
       "          sales_channel_id  \n",
       "0                        2  \n",
       "1                        2  \n",
       "2                        2  \n",
       "3                        2  \n",
       "4                        2  \n",
       "...                    ...  \n",
       "31788319                 2  \n",
       "31788320                 2  \n",
       "31788321                 1  \n",
       "31788322                 1  \n",
       "31788323                 2  \n",
       "\n",
       "[31788324 rows x 5 columns]"
      ]
     },
     "execution_count": 5,
     "metadata": {},
     "output_type": "execute_result"
    }
   ],
   "source": [
    "df"
   ]
  },
  {
   "cell_type": "markdown",
   "id": "13f134b4",
   "metadata": {
    "papermill": {
     "duration": 0.158801,
     "end_time": "2022-03-27T09:22:06.735249",
     "exception": false,
     "start_time": "2022-03-27T09:22:06.576448",
     "status": "completed"
    },
    "tags": []
   },
   "source": [
    "## 划分训练集和验证集"
   ]
  },
  {
   "cell_type": "code",
   "execution_count": 6,
   "id": "6a01c01a",
   "metadata": {
    "execution": {
     "iopub.execute_input": "2022-03-27T09:22:07.054340Z",
     "iopub.status.busy": "2022-03-27T09:22:07.053258Z",
     "iopub.status.idle": "2022-03-27T09:22:07.113402Z",
     "shell.execute_reply": "2022-03-27T09:22:07.112719Z",
     "shell.execute_reply.started": "2022-03-27T08:34:12.476442Z"
    },
    "papermill": {
     "duration": 0.222168,
     "end_time": "2022-03-27T09:22:07.113543",
     "exception": false,
     "start_time": "2022-03-27T09:22:06.891375",
     "status": "completed"
    },
    "tags": []
   },
   "outputs": [],
   "source": [
    "val = df[df['t_dat']>= Date_week1].copy()\n",
    "train = df[df['t_dat']< Date_week1].copy()\n",
    "Last_date = pd.to_datetime(\"2020-09-15\")"
   ]
  },
  {
   "cell_type": "code",
   "execution_count": 7,
   "id": "606b780b",
   "metadata": {
    "execution": {
     "iopub.execute_input": "2022-03-27T09:22:07.456376Z",
     "iopub.status.busy": "2022-03-27T09:22:07.455686Z",
     "iopub.status.idle": "2022-03-27T09:22:07.522741Z",
     "shell.execute_reply": "2022-03-27T09:22:07.523564Z",
     "shell.execute_reply.started": "2022-03-27T08:34:12.548202Z"
    },
    "papermill": {
     "duration": 0.255536,
     "end_time": "2022-03-27T09:22:07.523744",
     "exception": false,
     "start_time": "2022-03-27T09:22:07.268208",
     "status": "completed"
    },
    "tags": []
   },
   "outputs": [
    {
     "data": {
      "text/html": [
       "<div>\n",
       "<style scoped>\n",
       "    .dataframe tbody tr th:only-of-type {\n",
       "        vertical-align: middle;\n",
       "    }\n",
       "\n",
       "    .dataframe tbody tr th {\n",
       "        vertical-align: top;\n",
       "    }\n",
       "\n",
       "    .dataframe thead th {\n",
       "        text-align: right;\n",
       "    }\n",
       "</style>\n",
       "<table border=\"1\" class=\"dataframe\">\n",
       "  <thead>\n",
       "    <tr style=\"text-align: right;\">\n",
       "      <th></th>\n",
       "      <th>t_dat</th>\n",
       "      <th>customer_id</th>\n",
       "      <th>article_id</th>\n",
       "      <th>price</th>\n",
       "      <th>sales_channel_id</th>\n",
       "    </tr>\n",
       "  </thead>\n",
       "  <tbody>\n",
       "    <tr>\n",
       "      <th>31548013</th>\n",
       "      <td>2020-09-16</td>\n",
       "      <td>8055340703569116761</td>\n",
       "      <td>786022008</td>\n",
       "      <td>0.048441</td>\n",
       "      <td>2</td>\n",
       "    </tr>\n",
       "    <tr>\n",
       "      <th>31548014</th>\n",
       "      <td>2020-09-16</td>\n",
       "      <td>8055340703569116761</td>\n",
       "      <td>913272003</td>\n",
       "      <td>0.032288</td>\n",
       "      <td>2</td>\n",
       "    </tr>\n",
       "    <tr>\n",
       "      <th>31548015</th>\n",
       "      <td>2020-09-16</td>\n",
       "      <td>8055340703569116761</td>\n",
       "      <td>889669006</td>\n",
       "      <td>0.056508</td>\n",
       "      <td>2</td>\n",
       "    </tr>\n",
       "    <tr>\n",
       "      <th>31548016</th>\n",
       "      <td>2020-09-16</td>\n",
       "      <td>2563761487478961358</td>\n",
       "      <td>237347060</td>\n",
       "      <td>0.033881</td>\n",
       "      <td>1</td>\n",
       "    </tr>\n",
       "    <tr>\n",
       "      <th>31548017</th>\n",
       "      <td>2020-09-16</td>\n",
       "      <td>2563761487478961358</td>\n",
       "      <td>562245001</td>\n",
       "      <td>0.013542</td>\n",
       "      <td>1</td>\n",
       "    </tr>\n",
       "    <tr>\n",
       "      <th>...</th>\n",
       "      <td>...</td>\n",
       "      <td>...</td>\n",
       "      <td>...</td>\n",
       "      <td>...</td>\n",
       "      <td>...</td>\n",
       "    </tr>\n",
       "    <tr>\n",
       "      <th>31788319</th>\n",
       "      <td>2020-09-22</td>\n",
       "      <td>4685485978980270934</td>\n",
       "      <td>929511001</td>\n",
       "      <td>0.059305</td>\n",
       "      <td>2</td>\n",
       "    </tr>\n",
       "    <tr>\n",
       "      <th>31788320</th>\n",
       "      <td>2020-09-22</td>\n",
       "      <td>4685485978980270934</td>\n",
       "      <td>891322004</td>\n",
       "      <td>0.042356</td>\n",
       "      <td>2</td>\n",
       "    </tr>\n",
       "    <tr>\n",
       "      <th>31788321</th>\n",
       "      <td>2020-09-22</td>\n",
       "      <td>3959348689921271969</td>\n",
       "      <td>918325001</td>\n",
       "      <td>0.043203</td>\n",
       "      <td>1</td>\n",
       "    </tr>\n",
       "    <tr>\n",
       "      <th>31788322</th>\n",
       "      <td>2020-09-22</td>\n",
       "      <td>-8639340045377511665</td>\n",
       "      <td>833459002</td>\n",
       "      <td>0.006763</td>\n",
       "      <td>1</td>\n",
       "    </tr>\n",
       "    <tr>\n",
       "      <th>31788323</th>\n",
       "      <td>2020-09-22</td>\n",
       "      <td>3235222691137941515</td>\n",
       "      <td>898573003</td>\n",
       "      <td>0.033881</td>\n",
       "      <td>2</td>\n",
       "    </tr>\n",
       "  </tbody>\n",
       "</table>\n",
       "<p>240311 rows × 5 columns</p>\n",
       "</div>"
      ],
      "text/plain": [
       "              t_dat          customer_id  article_id     price  \\\n",
       "31548013 2020-09-16  8055340703569116761   786022008  0.048441   \n",
       "31548014 2020-09-16  8055340703569116761   913272003  0.032288   \n",
       "31548015 2020-09-16  8055340703569116761   889669006  0.056508   \n",
       "31548016 2020-09-16  2563761487478961358   237347060  0.033881   \n",
       "31548017 2020-09-16  2563761487478961358   562245001  0.013542   \n",
       "...             ...                  ...         ...       ...   \n",
       "31788319 2020-09-22  4685485978980270934   929511001  0.059305   \n",
       "31788320 2020-09-22  4685485978980270934   891322004  0.042356   \n",
       "31788321 2020-09-22  3959348689921271969   918325001  0.043203   \n",
       "31788322 2020-09-22 -8639340045377511665   833459002  0.006763   \n",
       "31788323 2020-09-22  3235222691137941515   898573003  0.033881   \n",
       "\n",
       "          sales_channel_id  \n",
       "31548013                 2  \n",
       "31548014                 2  \n",
       "31548015                 2  \n",
       "31548016                 1  \n",
       "31548017                 1  \n",
       "...                    ...  \n",
       "31788319                 2  \n",
       "31788320                 2  \n",
       "31788321                 1  \n",
       "31788322                 1  \n",
       "31788323                 2  \n",
       "\n",
       "[240311 rows x 5 columns]"
      ]
     },
     "execution_count": 7,
     "metadata": {},
     "output_type": "execute_result"
    }
   ],
   "source": [
    "val"
   ]
  },
  {
   "cell_type": "markdown",
   "id": "c3de8534",
   "metadata": {
    "papermill": {
     "duration": 0.157564,
     "end_time": "2022-03-27T09:22:07.842512",
     "exception": false,
     "start_time": "2022-03-27T09:22:07.684948",
     "status": "completed"
    },
    "tags": []
   },
   "source": [
    "### Add the last day of billing week"
   ]
  },
  {
   "cell_type": "markdown",
   "id": "c56e8214",
   "metadata": {
    "papermill": {
     "duration": 0.15633,
     "end_time": "2022-03-27T09:22:08.159766",
     "exception": false,
     "start_time": "2022-03-27T09:22:08.003436",
     "status": "completed"
    },
    "tags": []
   },
   "source": [
    "## 第一路：复购预测"
   ]
  },
  {
   "cell_type": "code",
   "execution_count": 8,
   "id": "7988e6ed",
   "metadata": {
    "execution": {
     "iopub.execute_input": "2022-03-27T09:22:08.468465Z",
     "iopub.status.busy": "2022-03-27T09:22:08.467491Z",
     "iopub.status.idle": "2022-03-27T09:22:08.476190Z",
     "shell.execute_reply": "2022-03-27T09:22:08.475645Z",
     "shell.execute_reply.started": "2022-03-27T08:34:12.638346Z"
    },
    "papermill": {
     "duration": 0.164846,
     "end_time": "2022-03-27T09:22:08.476316",
     "exception": false,
     "start_time": "2022-03-27T09:22:08.311470",
     "status": "completed"
    },
    "tags": []
   },
   "outputs": [],
   "source": [
    "df = train.copy()"
   ]
  },
  {
   "cell_type": "code",
   "execution_count": 9,
   "id": "359e58e1",
   "metadata": {
    "execution": {
     "iopub.execute_input": "2022-03-27T09:22:08.789469Z",
     "iopub.status.busy": "2022-03-27T09:22:08.788617Z",
     "iopub.status.idle": "2022-03-27T09:22:17.981359Z",
     "shell.execute_reply": "2022-03-27T09:22:17.980570Z",
     "shell.execute_reply.started": "2022-03-27T08:34:12.652049Z"
    },
    "papermill": {
     "duration": 9.350915,
     "end_time": "2022-03-27T09:22:17.981491",
     "exception": false,
     "start_time": "2022-03-27T09:22:08.630576",
     "status": "completed"
    },
    "tags": []
   },
   "outputs": [
    {
     "name": "stdout",
     "output_type": "stream",
     "text": [
      "CPU times: user 7.4 s, sys: 1.93 s, total: 9.33 s\n",
      "Wall time: 9.19 s\n"
     ]
    }
   ],
   "source": [
    "%%time\n",
    "tmp = df[['t_dat']].copy().to_pandas()\n",
    "tmp['dow'] = tmp['t_dat'].dt.dayofweek\n",
    "tmp['ldbw'] = tmp['t_dat'] - pd.TimedeltaIndex(tmp['dow'] - 1, unit='D')\n",
    "tmp.loc[tmp['dow'] >=2 , 'ldbw'] = tmp.loc[tmp['dow'] >=2 , 'ldbw'] + pd.TimedeltaIndex(np.ones(len(tmp.loc[tmp['dow'] >=2])) * 7, unit='D')\n",
    "df['ldbw'] = tmp['ldbw'].values"
   ]
  },
  {
   "cell_type": "code",
   "execution_count": 10,
   "id": "87df03ca",
   "metadata": {
    "execution": {
     "iopub.execute_input": "2022-03-27T09:22:18.302671Z",
     "iopub.status.busy": "2022-03-27T09:22:18.301677Z",
     "iopub.status.idle": "2022-03-27T09:22:18.438213Z",
     "shell.execute_reply": "2022-03-27T09:22:18.437688Z",
     "shell.execute_reply.started": "2022-03-27T08:34:20.630056Z"
    },
    "papermill": {
     "duration": 0.299447,
     "end_time": "2022-03-27T09:22:18.438353",
     "exception": false,
     "start_time": "2022-03-27T09:22:18.138906",
     "status": "completed"
    },
    "tags": []
   },
   "outputs": [],
   "source": [
    "weekly_sales = df.drop('customer_id', axis=1).groupby(['ldbw', 'article_id']).count().reset_index()\n",
    "weekly_sales = weekly_sales.rename(columns={'t_dat': 'count'})"
   ]
  },
  {
   "cell_type": "code",
   "execution_count": 11,
   "id": "55df3101",
   "metadata": {
    "execution": {
     "iopub.execute_input": "2022-03-27T09:22:18.808877Z",
     "iopub.status.busy": "2022-03-27T09:22:18.808281Z",
     "iopub.status.idle": "2022-03-27T09:22:18.892697Z",
     "shell.execute_reply": "2022-03-27T09:22:18.891994Z",
     "shell.execute_reply.started": "2022-03-27T08:34:20.762966Z"
    },
    "papermill": {
     "duration": 0.293692,
     "end_time": "2022-03-27T09:22:18.892887",
     "exception": false,
     "start_time": "2022-03-27T09:22:18.599195",
     "status": "completed"
    },
    "tags": []
   },
   "outputs": [],
   "source": [
    "df = df.merge(weekly_sales, on=['ldbw', 'article_id'], how = 'left')"
   ]
  },
  {
   "cell_type": "markdown",
   "id": "81a2f414",
   "metadata": {
    "papermill": {
     "duration": 0.153464,
     "end_time": "2022-03-27T09:22:19.206866",
     "exception": false,
     "start_time": "2022-03-27T09:22:19.053402",
     "status": "completed"
    },
    "tags": []
   },
   "source": [
    "### Let's assume that in the target week sales will be similar to the last week of the training data"
   ]
  },
  {
   "cell_type": "code",
   "execution_count": 12,
   "id": "624fc795",
   "metadata": {
    "execution": {
     "iopub.execute_input": "2022-03-27T09:22:19.516622Z",
     "iopub.status.busy": "2022-03-27T09:22:19.515683Z",
     "iopub.status.idle": "2022-03-27T09:22:19.624822Z",
     "shell.execute_reply": "2022-03-27T09:22:19.624192Z",
     "shell.execute_reply.started": "2022-03-27T08:34:20.897408Z"
    },
    "papermill": {
     "duration": 0.265283,
     "end_time": "2022-03-27T09:22:19.625056",
     "exception": false,
     "start_time": "2022-03-27T09:22:19.359773",
     "status": "completed"
    },
    "tags": []
   },
   "outputs": [],
   "source": [
    "weekly_sales = weekly_sales.reset_index().set_index('article_id')\n",
    "\n",
    "df = df.merge(\n",
    "    weekly_sales.loc[weekly_sales['ldbw']==Last_date, ['count']],\n",
    "    on='article_id', suffixes=(\"\", \"_targ\"))\n",
    "\n",
    "df['count_targ'].fillna(0, inplace=True)\n"
   ]
  },
  {
   "cell_type": "markdown",
   "id": "00ed6cb8",
   "metadata": {
    "papermill": {
     "duration": 0.151276,
     "end_time": "2022-03-27T09:22:19.927416",
     "exception": false,
     "start_time": "2022-03-27T09:22:19.776140",
     "status": "completed"
    },
    "tags": []
   },
   "source": [
    "### Calculate sales rate adjusted for changes in product popularity "
   ]
  },
  {
   "cell_type": "code",
   "execution_count": 13,
   "id": "cc743c69",
   "metadata": {
    "execution": {
     "iopub.execute_input": "2022-03-27T09:22:20.238570Z",
     "iopub.status.busy": "2022-03-27T09:22:20.237557Z",
     "iopub.status.idle": "2022-03-27T09:22:20.243261Z",
     "shell.execute_reply": "2022-03-27T09:22:20.242664Z",
     "shell.execute_reply.started": "2022-03-27T08:34:21.018438Z"
    },
    "papermill": {
     "duration": 0.164447,
     "end_time": "2022-03-27T09:22:20.243383",
     "exception": false,
     "start_time": "2022-03-27T09:22:20.078936",
     "status": "completed"
    },
    "tags": []
   },
   "outputs": [],
   "source": [
    "df['quotient'] = df['count_targ'] / df['count']"
   ]
  },
  {
   "cell_type": "markdown",
   "id": "94b882c9",
   "metadata": {
    "papermill": {
     "duration": 0.149423,
     "end_time": "2022-03-27T09:22:20.543887",
     "exception": false,
     "start_time": "2022-03-27T09:22:20.394464",
     "status": "completed"
    },
    "tags": []
   },
   "source": [
    "### Take supposedly popular products"
   ]
  },
  {
   "cell_type": "code",
   "execution_count": 14,
   "id": "092d2dbc",
   "metadata": {
    "execution": {
     "iopub.execute_input": "2022-03-27T09:22:20.855510Z",
     "iopub.status.busy": "2022-03-27T09:22:20.854550Z",
     "iopub.status.idle": "2022-03-27T09:22:20.858060Z",
     "shell.execute_reply": "2022-03-27T09:22:20.857480Z",
     "shell.execute_reply.started": "2022-03-27T08:34:21.033128Z"
    },
    "papermill": {
     "duration": 0.15913,
     "end_time": "2022-03-27T09:22:20.858183",
     "exception": false,
     "start_time": "2022-03-27T09:22:20.699053",
     "status": "completed"
    },
    "tags": []
   },
   "outputs": [],
   "source": [
    "# target_sales = df.drop('customer_id', axis=1).groupby('article_id')['quotient'].sum()\n",
    "# general_pred = target_sales.nlargest(N).index.to_pandas().tolist()\n",
    "# general_pred = ['0' + str(article_id) for article_id in general_pred]\n",
    "# general_pred_str =  ' '.join(general_pred)\n",
    "# del target_sales"
   ]
  },
  {
   "cell_type": "code",
   "execution_count": 15,
   "id": "5baff95c",
   "metadata": {
    "execution": {
     "iopub.execute_input": "2022-03-27T09:22:21.168469Z",
     "iopub.status.busy": "2022-03-27T09:22:21.167462Z",
     "iopub.status.idle": "2022-03-27T09:22:21.170680Z",
     "shell.execute_reply": "2022-03-27T09:22:21.170178Z",
     "shell.execute_reply.started": "2022-03-27T08:34:21.040248Z"
    },
    "papermill": {
     "duration": 0.15968,
     "end_time": "2022-03-27T09:22:21.170828",
     "exception": false,
     "start_time": "2022-03-27T09:22:21.011148",
     "status": "completed"
    },
    "tags": []
   },
   "outputs": [],
   "source": [
    "# general_pred # Exactly same with the original notebook! "
   ]
  },
  {
   "cell_type": "code",
   "execution_count": 16,
   "id": "e5fc1fc3",
   "metadata": {
    "execution": {
     "iopub.execute_input": "2022-03-27T09:22:21.482165Z",
     "iopub.status.busy": "2022-03-27T09:22:21.481250Z",
     "iopub.status.idle": "2022-03-27T09:22:21.483733Z",
     "shell.execute_reply": "2022-03-27T09:22:21.484328Z",
     "shell.execute_reply.started": "2022-03-27T08:34:21.048850Z"
    },
    "papermill": {
     "duration": 0.159812,
     "end_time": "2022-03-27T09:22:21.484472",
     "exception": false,
     "start_time": "2022-03-27T09:22:21.324660",
     "status": "completed"
    },
    "tags": []
   },
   "outputs": [],
   "source": [
    "# general_pred_str"
   ]
  },
  {
   "cell_type": "markdown",
   "id": "479c4bbe",
   "metadata": {
    "papermill": {
     "duration": 0.156349,
     "end_time": "2022-03-27T09:22:21.794563",
     "exception": false,
     "start_time": "2022-03-27T09:22:21.638214",
     "status": "completed"
    },
    "tags": []
   },
   "source": [
    "### Fill in purchase dictionary"
   ]
  },
  {
   "cell_type": "code",
   "execution_count": 17,
   "id": "fbe6038c",
   "metadata": {
    "execution": {
     "iopub.execute_input": "2022-03-27T09:22:22.114182Z",
     "iopub.status.busy": "2022-03-27T09:22:22.112976Z",
     "iopub.status.idle": "2022-03-27T09:22:45.439133Z",
     "shell.execute_reply": "2022-03-27T09:22:45.438560Z",
     "shell.execute_reply.started": "2022-03-27T08:34:21.056988Z"
    },
    "papermill": {
     "duration": 23.489835,
     "end_time": "2022-03-27T09:22:45.439331",
     "exception": false,
     "start_time": "2022-03-27T09:22:21.949496",
     "status": "completed"
    },
    "tags": []
   },
   "outputs": [
    {
     "name": "stdout",
     "output_type": "stream",
     "text": [
      "CPU times: user 19.1 s, sys: 6.13 s, total: 25.2 s\n",
      "Wall time: 23.3 s\n"
     ]
    }
   ],
   "source": [
    "%%time\n",
    "purchase_dict = {}\n",
    "\n",
    "tmp = df.copy().to_pandas()\n",
    "tmp['x'] = ((Last_date - tmp['t_dat']) / np.timedelta64(1, 'D')).astype(int)\n",
    "tmp['dummy_1'] = 1 \n",
    "tmp['x'] = tmp[[\"x\", \"dummy_1\"]].max(axis=1)\n",
    "\n",
    "a, b, c, d = 2.5e4, 1.5e5, 2e-1, 1e3\n",
    "total = 1715530\n",
    "tmp['y'] = ((a / np.sqrt(tmp['x']) + b * np.exp(-c*tmp['x']) - d) / total +\\\n",
    "(a / np.sqrt(tmp['x']+1) + b * np.exp(-c*(tmp['x']+1)) - d) / total +\\\n",
    "(a / np.sqrt(tmp['x']+2) + b * np.exp(-c*(tmp['x']+2)) - d) / total +\\\n",
    "(a / np.sqrt(tmp['x']+3) + b * np.exp(-c*(tmp['x']+3)) - d) / total +\\\n",
    "(a / np.sqrt(tmp['x']+4) + b * np.exp(-c*(tmp['x']+4)) - d) / total +\\\n",
    "(a / np.sqrt(tmp['x']+5) + b * np.exp(-c*(tmp['x']+5)) - d) / total +\\\n",
    "(a / np.sqrt(tmp['x']+6) + b * np.exp(-c*(tmp['x']+6)) - d) / total)\n",
    "\n",
    "tmp['dummy_0'] = 0 \n",
    "tmp['y'] = tmp[[\"y\", \"dummy_0\"]].max(axis=1)\n",
    "tmp['score'] = tmp['quotient'] * tmp['y'] \n",
    "\n",
    "tmp = tmp.groupby(['customer_id', 'article_id']).agg({'score': 'sum'})\n",
    "tmp = tmp.reset_index()\n",
    "\n",
    "tmp = tmp.loc[tmp['score'] > 0]\n",
    "tmp['rank'] = tmp.groupby(\"customer_id\")[\"score\"].rank(\"dense\", ascending=False)\n",
    "tmp = tmp.loc[tmp['rank'] <= 12]\n",
    "tmp[\"source\"] = 1\n",
    "\n",
    "result1 = tmp[[\"customer_id\", \"article_id\", \"source\", \"score\", \"rank\"]]"
   ]
  },
  {
   "cell_type": "code",
   "execution_count": 18,
   "id": "9ca80750",
   "metadata": {
    "execution": {
     "iopub.execute_input": "2022-03-27T09:22:45.934464Z",
     "iopub.status.busy": "2022-03-27T09:22:45.933363Z",
     "iopub.status.idle": "2022-03-27T09:22:45.937263Z",
     "shell.execute_reply": "2022-03-27T09:22:45.937751Z",
     "shell.execute_reply.started": "2022-03-27T08:34:39.558549Z"
    },
    "papermill": {
     "duration": 0.3399,
     "end_time": "2022-03-27T09:22:45.937914",
     "exception": false,
     "start_time": "2022-03-27T09:22:45.598014",
     "status": "completed"
    },
    "tags": []
   },
   "outputs": [
    {
     "data": {
      "text/plain": [
       "208"
      ]
     },
     "execution_count": 18,
     "metadata": {},
     "output_type": "execute_result"
    }
   ],
   "source": [
    "del weekly_sales\n",
    "del df\n",
    "del tmp\n",
    "gc.collect()"
   ]
  },
  {
   "cell_type": "code",
   "execution_count": 19,
   "id": "d2d91efd",
   "metadata": {
    "execution": {
     "iopub.execute_input": "2022-03-27T09:22:46.264259Z",
     "iopub.status.busy": "2022-03-27T09:22:46.254485Z",
     "iopub.status.idle": "2022-03-27T09:22:46.267362Z",
     "shell.execute_reply": "2022-03-27T09:22:46.267853Z",
     "shell.execute_reply.started": "2022-03-27T08:34:39.732770Z"
    },
    "papermill": {
     "duration": 0.174875,
     "end_time": "2022-03-27T09:22:46.268029",
     "exception": false,
     "start_time": "2022-03-27T09:22:46.093154",
     "status": "completed"
    },
    "tags": []
   },
   "outputs": [
    {
     "data": {
      "text/html": [
       "<div>\n",
       "<style scoped>\n",
       "    .dataframe tbody tr th:only-of-type {\n",
       "        vertical-align: middle;\n",
       "    }\n",
       "\n",
       "    .dataframe tbody tr th {\n",
       "        vertical-align: top;\n",
       "    }\n",
       "\n",
       "    .dataframe thead th {\n",
       "        text-align: right;\n",
       "    }\n",
       "</style>\n",
       "<table border=\"1\" class=\"dataframe\">\n",
       "  <thead>\n",
       "    <tr style=\"text-align: right;\">\n",
       "      <th></th>\n",
       "      <th>customer_id</th>\n",
       "      <th>article_id</th>\n",
       "      <th>source</th>\n",
       "      <th>score</th>\n",
       "      <th>rank</th>\n",
       "    </tr>\n",
       "  </thead>\n",
       "  <tbody>\n",
       "    <tr>\n",
       "      <th>0</th>\n",
       "      <td>-9223352921020755230</td>\n",
       "      <td>568597006</td>\n",
       "      <td>1</td>\n",
       "      <td>0.000559</td>\n",
       "      <td>5.0</td>\n",
       "    </tr>\n",
       "    <tr>\n",
       "      <th>1</th>\n",
       "      <td>-9223352921020755230</td>\n",
       "      <td>673396002</td>\n",
       "      <td>1</td>\n",
       "      <td>0.044511</td>\n",
       "      <td>1.0</td>\n",
       "    </tr>\n",
       "    <tr>\n",
       "      <th>2</th>\n",
       "      <td>-9223352921020755230</td>\n",
       "      <td>706016001</td>\n",
       "      <td>1</td>\n",
       "      <td>0.003289</td>\n",
       "      <td>4.0</td>\n",
       "    </tr>\n",
       "    <tr>\n",
       "      <th>3</th>\n",
       "      <td>-9223352921020755230</td>\n",
       "      <td>812167004</td>\n",
       "      <td>1</td>\n",
       "      <td>0.019179</td>\n",
       "      <td>2.0</td>\n",
       "    </tr>\n",
       "    <tr>\n",
       "      <th>4</th>\n",
       "      <td>-9223352921020755230</td>\n",
       "      <td>849493006</td>\n",
       "      <td>1</td>\n",
       "      <td>0.006174</td>\n",
       "      <td>3.0</td>\n",
       "    </tr>\n",
       "    <tr>\n",
       "      <th>...</th>\n",
       "      <td>...</td>\n",
       "      <td>...</td>\n",
       "      <td>...</td>\n",
       "      <td>...</td>\n",
       "      <td>...</td>\n",
       "    </tr>\n",
       "    <tr>\n",
       "      <th>10844244</th>\n",
       "      <td>9223301031927667525</td>\n",
       "      <td>719957006</td>\n",
       "      <td>1</td>\n",
       "      <td>0.000026</td>\n",
       "      <td>1.0</td>\n",
       "    </tr>\n",
       "    <tr>\n",
       "      <th>10844245</th>\n",
       "      <td>9223333063893176977</td>\n",
       "      <td>658030020</td>\n",
       "      <td>1</td>\n",
       "      <td>0.000038</td>\n",
       "      <td>1.0</td>\n",
       "    </tr>\n",
       "    <tr>\n",
       "      <th>10844246</th>\n",
       "      <td>9223357421094039679</td>\n",
       "      <td>747984001</td>\n",
       "      <td>1</td>\n",
       "      <td>0.000010</td>\n",
       "      <td>2.0</td>\n",
       "    </tr>\n",
       "    <tr>\n",
       "      <th>10844247</th>\n",
       "      <td>9223357421094039679</td>\n",
       "      <td>747984002</td>\n",
       "      <td>1</td>\n",
       "      <td>0.000053</td>\n",
       "      <td>1.0</td>\n",
       "    </tr>\n",
       "    <tr>\n",
       "      <th>10844248</th>\n",
       "      <td>9223370729206611574</td>\n",
       "      <td>781758003</td>\n",
       "      <td>1</td>\n",
       "      <td>0.001461</td>\n",
       "      <td>1.0</td>\n",
       "    </tr>\n",
       "  </tbody>\n",
       "</table>\n",
       "<p>6693016 rows × 5 columns</p>\n",
       "</div>"
      ],
      "text/plain": [
       "                  customer_id  article_id  source     score  rank\n",
       "0        -9223352921020755230   568597006       1  0.000559   5.0\n",
       "1        -9223352921020755230   673396002       1  0.044511   1.0\n",
       "2        -9223352921020755230   706016001       1  0.003289   4.0\n",
       "3        -9223352921020755230   812167004       1  0.019179   2.0\n",
       "4        -9223352921020755230   849493006       1  0.006174   3.0\n",
       "...                       ...         ...     ...       ...   ...\n",
       "10844244  9223301031927667525   719957006       1  0.000026   1.0\n",
       "10844245  9223333063893176977   658030020       1  0.000038   1.0\n",
       "10844246  9223357421094039679   747984001       1  0.000010   2.0\n",
       "10844247  9223357421094039679   747984002       1  0.000053   1.0\n",
       "10844248  9223370729206611574   781758003       1  0.001461   1.0\n",
       "\n",
       "[6693016 rows x 5 columns]"
      ]
     },
     "execution_count": 19,
     "metadata": {},
     "output_type": "execute_result"
    }
   ],
   "source": [
    "result1"
   ]
  },
  {
   "cell_type": "code",
   "execution_count": 20,
   "id": "4020acd1",
   "metadata": {
    "execution": {
     "iopub.execute_input": "2022-03-27T09:22:46.581519Z",
     "iopub.status.busy": "2022-03-27T09:22:46.580516Z",
     "iopub.status.idle": "2022-03-27T09:22:46.584019Z",
     "shell.execute_reply": "2022-03-27T09:22:46.583462Z",
     "shell.execute_reply.started": "2022-03-27T08:34:39.751034Z"
    },
    "papermill": {
     "duration": 0.162583,
     "end_time": "2022-03-27T09:22:46.584151",
     "exception": false,
     "start_time": "2022-03-27T09:22:46.421568",
     "status": "completed"
    },
    "tags": []
   },
   "outputs": [],
   "source": [
    "#result1.to_csv(\"/kaggle/working/result1.csv\", index = False)"
   ]
  },
  {
   "cell_type": "markdown",
   "id": "9890e19d",
   "metadata": {
    "execution": {
     "iopub.execute_input": "2022-03-19T09:13:27.534287Z",
     "iopub.status.busy": "2022-03-19T09:13:27.534029Z",
     "iopub.status.idle": "2022-03-19T09:13:27.537763Z",
     "shell.execute_reply": "2022-03-19T09:13:27.536825Z",
     "shell.execute_reply.started": "2022-03-19T09:13:27.534257Z"
    },
    "papermill": {
     "duration": 0.153256,
     "end_time": "2022-03-27T09:22:46.895727",
     "exception": false,
     "start_time": "2022-03-27T09:22:46.742471",
     "status": "completed"
    },
    "tags": []
   },
   "source": [
    "## 第二路：相似复购"
   ]
  },
  {
   "cell_type": "code",
   "execution_count": 21,
   "id": "981dbdb0",
   "metadata": {
    "execution": {
     "iopub.execute_input": "2022-03-27T09:22:47.208805Z",
     "iopub.status.busy": "2022-03-27T09:22:47.207803Z",
     "iopub.status.idle": "2022-03-27T09:22:56.475904Z",
     "shell.execute_reply": "2022-03-27T09:22:56.476504Z",
     "shell.execute_reply.started": "2022-03-27T08:34:39.756886Z"
    },
    "papermill": {
     "duration": 9.428889,
     "end_time": "2022-03-27T09:22:56.476704",
     "exception": false,
     "start_time": "2022-03-27T09:22:47.047815",
     "status": "completed"
    },
    "tags": []
   },
   "outputs": [
    {
     "name": "stdout",
     "output_type": "stream",
     "text": [
      "Requirement already satisfied: cudf in /opt/conda/lib/python3.7/site-packages (21.10.1)\r\n",
      "Requirement already satisfied: numba>=0.53.1 in /opt/conda/lib/python3.7/site-packages (from cudf) (0.54.1)\r\n",
      "Requirement already satisfied: Cython<0.30,>=0.29 in /opt/conda/lib/python3.7/site-packages (from cudf) (0.29.28)\r\n",
      "Requirement already satisfied: fastavro>=0.22.9 in /opt/conda/lib/python3.7/site-packages (from cudf) (1.4.9)\r\n",
      "Requirement already satisfied: fsspec>=0.6.0 in /opt/conda/lib/python3.7/site-packages (from cudf) (2022.2.0)\r\n",
      "Requirement already satisfied: numpy in /opt/conda/lib/python3.7/site-packages (from cudf) (1.20.3)\r\n",
      "Requirement already satisfied: pandas<1.4.0dev0,>=1.0 in /opt/conda/lib/python3.7/site-packages (from cudf) (1.3.5)\r\n",
      "Requirement already satisfied: typing_extensions in /opt/conda/lib/python3.7/site-packages (from cudf) (4.1.1)\r\n",
      "Requirement already satisfied: protobuf in /opt/conda/lib/python3.7/site-packages (from cudf) (3.19.1)\r\n",
      "Requirement already satisfied: nvtx>=0.2.1 in /opt/conda/lib/python3.7/site-packages (from cudf) (0.2.3)\r\n",
      "Requirement already satisfied: cachetools in /opt/conda/lib/python3.7/site-packages (from cudf) (4.2.4)\r\n",
      "Requirement already satisfied: packaging in /opt/conda/lib/python3.7/site-packages (from cudf) (21.3)\r\n",
      "Requirement already satisfied: cupy-cuda110 in /opt/conda/lib/python3.7/site-packages (from cudf) (10.2.0)\r\n",
      "Requirement already satisfied: setuptools in /opt/conda/lib/python3.7/site-packages (from numba>=0.53.1->cudf) (59.5.0)\r\n",
      "Requirement already satisfied: llvmlite<0.38,>=0.37.0rc1 in /opt/conda/lib/python3.7/site-packages (from numba>=0.53.1->cudf) (0.37.0)\r\n",
      "Requirement already satisfied: python-dateutil>=2.7.3 in /opt/conda/lib/python3.7/site-packages (from pandas<1.4.0dev0,>=1.0->cudf) (2.8.2)\r\n",
      "Requirement already satisfied: pytz>=2017.3 in /opt/conda/lib/python3.7/site-packages (from pandas<1.4.0dev0,>=1.0->cudf) (2021.3)\r\n",
      "Requirement already satisfied: fastrlock>=0.5 in /opt/conda/lib/python3.7/site-packages (from cupy-cuda110->cudf) (0.8)\r\n",
      "Requirement already satisfied: pyparsing!=3.0.5,>=2.0.2 in /opt/conda/lib/python3.7/site-packages (from packaging->cudf) (3.0.6)\r\n",
      "Requirement already satisfied: six>=1.5 in /opt/conda/lib/python3.7/site-packages (from python-dateutil>=2.7.3->pandas<1.4.0dev0,>=1.0->cudf) (1.16.0)\r\n",
      "\u001b[33mWARNING: Running pip as the 'root' user can result in broken permissions and conflicting behaviour with the system package manager. It is recommended to use a virtual environment instead: https://pip.pypa.io/warnings/venv\u001b[0m\r\n"
     ]
    }
   ],
   "source": [
    "!pip install cudf\n",
    "import numpy as np\n",
    "import pandas as pd \n",
    "from datetime import datetime, timedelta\n",
    "import gc\n",
    "import cudf\n",
    "import cv2, matplotlib.pyplot as plt\n",
    "from os.path import exists"
   ]
  },
  {
   "cell_type": "code",
   "execution_count": 22,
   "id": "9f4f3182",
   "metadata": {
    "execution": {
     "iopub.execute_input": "2022-03-27T09:22:56.793450Z",
     "iopub.status.busy": "2022-03-27T09:22:56.792510Z",
     "iopub.status.idle": "2022-03-27T09:22:56.795735Z",
     "shell.execute_reply": "2022-03-27T09:22:56.795254Z",
     "shell.execute_reply.started": "2022-03-27T08:34:47.769018Z"
    },
    "papermill": {
     "duration": 0.163049,
     "end_time": "2022-03-27T09:22:56.795854",
     "exception": false,
     "start_time": "2022-03-27T09:22:56.632805",
     "status": "completed"
    },
    "tags": []
   },
   "outputs": [],
   "source": [
    "# # LOAD TRANSACTIONS DATAFRAME\n",
    "# df = cudf.read_csv('../input/h-and-m-personalized-fashion-recommendations/transactions_train.csv')\n",
    "# print('Transactions shape',df.shape)\n",
    "# display( df.head() )\n",
    "\n",
    "# # REDUCE MEMORY OF DATAFRAME\n",
    "# df = df[['customer_id','article_id']]\n",
    "# df.customer_id = df.customer_id.str[-16:].str.hex_to_int().astype('int64')\n",
    "# df.article_id = df.article_id.astype('int32')\n",
    "# _ = gc.collect()"
   ]
  },
  {
   "cell_type": "code",
   "execution_count": 23,
   "id": "738ec024",
   "metadata": {
    "execution": {
     "iopub.execute_input": "2022-03-27T09:22:57.113954Z",
     "iopub.status.busy": "2022-03-27T09:22:57.113043Z",
     "iopub.status.idle": "2022-03-27T09:22:57.115937Z",
     "shell.execute_reply": "2022-03-27T09:22:57.116506Z",
     "shell.execute_reply.started": "2022-03-27T08:34:47.776248Z"
    },
    "papermill": {
     "duration": 0.163619,
     "end_time": "2022-03-27T09:22:57.116650",
     "exception": false,
     "start_time": "2022-03-27T09:22:56.953031",
     "status": "completed"
    },
    "tags": []
   },
   "outputs": [],
   "source": [
    "# # FIND ITEMS PURCHASED TOGETHER\n",
    "# vc = df.article_id.value_counts()\n",
    "# pairs = {}\n",
    "# # for j,i in enumerate(vc.index.values[1000:1032]):\n",
    "# #     #if j%10==0: print(j,', ',end='')\n",
    "# #     USERS = df.loc[df.article_id==i.item(),'customer_id'].unique()\n",
    "# #     vc2 = df.loc[(df.customer_id.isin(USERS))&(df.article_id!=i.item()),'article_id'].value_counts()\n",
    "# #     pairs[i.item()] = [vc2.index[0], vc2.index[1], vc2.index[2]]"
   ]
  },
  {
   "cell_type": "code",
   "execution_count": 24,
   "id": "32607c9c",
   "metadata": {
    "execution": {
     "iopub.execute_input": "2022-03-27T09:22:57.482241Z",
     "iopub.status.busy": "2022-03-27T09:22:57.481445Z",
     "iopub.status.idle": "2022-03-27T09:22:57.484455Z",
     "shell.execute_reply": "2022-03-27T09:22:57.484995Z",
     "shell.execute_reply.started": "2022-03-27T08:34:47.789178Z"
    },
    "papermill": {
     "duration": 0.205882,
     "end_time": "2022-03-27T09:22:57.485162",
     "exception": false,
     "start_time": "2022-03-27T09:22:57.279280",
     "status": "completed"
    },
    "tags": []
   },
   "outputs": [],
   "source": [
    "# vc = vc.reset_index().rename(columns = {\"article_id\":\"count\", \"index\":\"article_id\"})"
   ]
  },
  {
   "cell_type": "code",
   "execution_count": 25,
   "id": "5f712282",
   "metadata": {
    "execution": {
     "iopub.execute_input": "2022-03-27T09:22:57.804288Z",
     "iopub.status.busy": "2022-03-27T09:22:57.803199Z",
     "iopub.status.idle": "2022-03-27T09:22:57.806172Z",
     "shell.execute_reply": "2022-03-27T09:22:57.805482Z",
     "shell.execute_reply.started": "2022-03-27T08:34:47.797420Z"
    },
    "papermill": {
     "duration": 0.163979,
     "end_time": "2022-03-27T09:22:57.806301",
     "exception": false,
     "start_time": "2022-03-27T09:22:57.642322",
     "status": "completed"
    },
    "tags": []
   },
   "outputs": [],
   "source": [
    "# vc = vc[vc[\"count\"]>=50]"
   ]
  },
  {
   "cell_type": "code",
   "execution_count": 26,
   "id": "907c11ef",
   "metadata": {
    "execution": {
     "iopub.execute_input": "2022-03-27T09:22:58.135572Z",
     "iopub.status.busy": "2022-03-27T09:22:58.134499Z",
     "iopub.status.idle": "2022-03-27T09:22:58.136841Z",
     "shell.execute_reply": "2022-03-27T09:22:58.137396Z",
     "shell.execute_reply.started": "2022-03-27T08:34:47.808307Z"
    },
    "papermill": {
     "duration": 0.166599,
     "end_time": "2022-03-27T09:22:58.137545",
     "exception": false,
     "start_time": "2022-03-27T09:22:57.970946",
     "status": "completed"
    },
    "tags": []
   },
   "outputs": [],
   "source": [
    "# def cal_together_score(x):\n",
    "#     USERS = df.loc[df.article_id==x[\"article_id\"],'customer_id'].unique()\n",
    "#     vc2 = df.loc[(df.customer_id.isin(USERS))&(df.article_id!=x[\"article_id\"]),'article_id'].value_counts()\n",
    "#     #pairs[i.item()] = [vc2.index[0], vc2.index[1], vc2.index[2]]\n",
    "#     return [[x.article_id, vc2.index[i], vc2.iloc[i]/x[\"count\"]] for i in range(min(10, len(vc2)))]"
   ]
  },
  {
   "cell_type": "code",
   "execution_count": 27,
   "id": "2a1aa010",
   "metadata": {
    "execution": {
     "iopub.execute_input": "2022-03-27T09:22:58.463339Z",
     "iopub.status.busy": "2022-03-27T09:22:58.462255Z",
     "iopub.status.idle": "2022-03-27T09:22:58.464663Z",
     "shell.execute_reply": "2022-03-27T09:22:58.465205Z",
     "shell.execute_reply.started": "2022-03-27T08:34:47.815246Z"
    },
    "papermill": {
     "duration": 0.16919,
     "end_time": "2022-03-27T09:22:58.465358",
     "exception": false,
     "start_time": "2022-03-27T09:22:58.296168",
     "status": "completed"
    },
    "tags": []
   },
   "outputs": [],
   "source": [
    "#relation = vc.to_pandas().apply(lambda x: cal_together_score(x), axis = 1).sum()"
   ]
  },
  {
   "cell_type": "code",
   "execution_count": 28,
   "id": "fa5994f2",
   "metadata": {
    "execution": {
     "iopub.execute_input": "2022-03-27T09:22:58.781447Z",
     "iopub.status.busy": "2022-03-27T09:22:58.780460Z",
     "iopub.status.idle": "2022-03-27T09:22:58.783510Z",
     "shell.execute_reply": "2022-03-27T09:22:58.783013Z",
     "shell.execute_reply.started": "2022-03-27T08:34:47.829091Z"
    },
    "papermill": {
     "duration": 0.163705,
     "end_time": "2022-03-27T09:22:58.783633",
     "exception": false,
     "start_time": "2022-03-27T09:22:58.619928",
     "status": "completed"
    },
    "tags": []
   },
   "outputs": [],
   "source": [
    "#%%time\n",
    "# df  = cudf.read_csv('../input/h-and-m-personalized-fashion-recommendations/transactions_train.csv',\n",
    "#                             usecols= ['t_dat', 'customer_id', 'article_id'], \n",
    "#                             dtype={'article_id': 'int32', 't_dat': 'string', 'customer_id': 'string'})\n",
    "# df ['customer_id'] = df ['customer_id'].str[-16:].str.hex_to_int().astype('int64')\n",
    "\n",
    "# df['t_dat'] = cudf.to_datetime(df['t_dat'])\n",
    "# last_ts = df['t_dat'].max()"
   ]
  },
  {
   "cell_type": "code",
   "execution_count": 29,
   "id": "4d235d24",
   "metadata": {
    "execution": {
     "iopub.execute_input": "2022-03-27T09:22:59.113020Z",
     "iopub.status.busy": "2022-03-27T09:22:59.111986Z",
     "iopub.status.idle": "2022-03-27T09:22:59.116504Z",
     "shell.execute_reply": "2022-03-27T09:22:59.115950Z",
     "shell.execute_reply.started": "2022-03-27T08:34:47.834155Z"
    },
    "papermill": {
     "duration": 0.171342,
     "end_time": "2022-03-27T09:22:59.116648",
     "exception": false,
     "start_time": "2022-03-27T09:22:58.945306",
     "status": "completed"
    },
    "tags": []
   },
   "outputs": [],
   "source": [
    "df = train.copy()"
   ]
  },
  {
   "cell_type": "code",
   "execution_count": 30,
   "id": "be9510bd",
   "metadata": {
    "execution": {
     "iopub.execute_input": "2022-03-27T09:22:59.556704Z",
     "iopub.status.busy": "2022-03-27T09:22:59.555355Z",
     "iopub.status.idle": "2022-03-27T09:23:09.478668Z",
     "shell.execute_reply": "2022-03-27T09:23:09.478114Z",
     "shell.execute_reply.started": "2022-03-27T08:34:47.847143Z"
    },
    "papermill": {
     "duration": 10.202935,
     "end_time": "2022-03-27T09:23:09.478819",
     "exception": false,
     "start_time": "2022-03-27T09:22:59.275884",
     "status": "completed"
    },
    "tags": []
   },
   "outputs": [
    {
     "name": "stdout",
     "output_type": "stream",
     "text": [
      "CPU times: user 7.95 s, sys: 2.03 s, total: 9.98 s\n",
      "Wall time: 9.92 s\n"
     ]
    }
   ],
   "source": [
    "%%time\n",
    "tmp = df[['t_dat']].copy().to_pandas()\n",
    "tmp['dow'] = tmp['t_dat'].dt.dayofweek\n",
    "tmp['ldbw'] = tmp['t_dat'] - pd.TimedeltaIndex(tmp['dow'] - 1, unit='D')\n",
    "tmp.loc[tmp['dow'] >=2 , 'ldbw'] = tmp.loc[tmp['dow'] >=2 , 'ldbw'] + pd.TimedeltaIndex(np.ones(len(tmp.loc[tmp['dow'] >=2])) * 7, unit='D')\n",
    "\n",
    "df['ldbw'] = tmp['ldbw'].values"
   ]
  },
  {
   "cell_type": "code",
   "execution_count": 31,
   "id": "2d700764",
   "metadata": {
    "execution": {
     "iopub.execute_input": "2022-03-27T09:23:09.809719Z",
     "iopub.status.busy": "2022-03-27T09:23:09.808724Z",
     "iopub.status.idle": "2022-03-27T09:23:09.811831Z",
     "shell.execute_reply": "2022-03-27T09:23:09.811317Z",
     "shell.execute_reply.started": "2022-03-27T08:34:55.853379Z"
    },
    "papermill": {
     "duration": 0.171388,
     "end_time": "2022-03-27T09:23:09.811972",
     "exception": false,
     "start_time": "2022-03-27T09:23:09.640584",
     "status": "completed"
    },
    "tags": []
   },
   "outputs": [],
   "source": [
    "#relation_data = cudf.DataFrame(relation, columns = [\"from_id\", \"to_id\", \"ratio\"])"
   ]
  },
  {
   "cell_type": "code",
   "execution_count": 32,
   "id": "78d73179",
   "metadata": {
    "execution": {
     "iopub.execute_input": "2022-03-27T09:23:10.144882Z",
     "iopub.status.busy": "2022-03-27T09:23:10.144213Z",
     "iopub.status.idle": "2022-03-27T09:23:10.356992Z",
     "shell.execute_reply": "2022-03-27T09:23:10.358485Z",
     "shell.execute_reply.started": "2022-03-27T08:34:55.858975Z"
    },
    "papermill": {
     "duration": 0.384661,
     "end_time": "2022-03-27T09:23:10.358762",
     "exception": false,
     "start_time": "2022-03-27T09:23:09.974101",
     "status": "completed"
    },
    "tags": []
   },
   "outputs": [],
   "source": [
    "relation_data = cudf.read_csv(\"../input/relation/relation_data.csv\")"
   ]
  },
  {
   "cell_type": "code",
   "execution_count": 33,
   "id": "59cd31c8",
   "metadata": {
    "execution": {
     "iopub.execute_input": "2022-03-27T09:23:10.956041Z",
     "iopub.status.busy": "2022-03-27T09:23:10.955056Z",
     "iopub.status.idle": "2022-03-27T09:23:11.029526Z",
     "shell.execute_reply": "2022-03-27T09:23:11.030014Z",
     "shell.execute_reply.started": "2022-03-27T08:34:56.077771Z"
    },
    "papermill": {
     "duration": 0.363628,
     "end_time": "2022-03-27T09:23:11.030169",
     "exception": false,
     "start_time": "2022-03-27T09:23:10.666541",
     "status": "completed"
    },
    "tags": []
   },
   "outputs": [
    {
     "data": {
      "text/html": [
       "<div>\n",
       "<style scoped>\n",
       "    .dataframe tbody tr th:only-of-type {\n",
       "        vertical-align: middle;\n",
       "    }\n",
       "\n",
       "    .dataframe tbody tr th {\n",
       "        vertical-align: top;\n",
       "    }\n",
       "\n",
       "    .dataframe thead th {\n",
       "        text-align: right;\n",
       "    }\n",
       "</style>\n",
       "<table border=\"1\" class=\"dataframe\">\n",
       "  <thead>\n",
       "    <tr style=\"text-align: right;\">\n",
       "      <th></th>\n",
       "      <th>from_id</th>\n",
       "      <th>to_id</th>\n",
       "      <th>ratio</th>\n",
       "    </tr>\n",
       "  </thead>\n",
       "  <tbody>\n",
       "    <tr>\n",
       "      <th>0</th>\n",
       "      <td>706016001</td>\n",
       "      <td>706016002</td>\n",
       "      <td>0.250144</td>\n",
       "    </tr>\n",
       "    <tr>\n",
       "      <th>1</th>\n",
       "      <td>706016001</td>\n",
       "      <td>706016003</td>\n",
       "      <td>0.155706</td>\n",
       "    </tr>\n",
       "    <tr>\n",
       "      <th>2</th>\n",
       "      <td>706016001</td>\n",
       "      <td>706016015</td>\n",
       "      <td>0.117943</td>\n",
       "    </tr>\n",
       "    <tr>\n",
       "      <th>3</th>\n",
       "      <td>706016001</td>\n",
       "      <td>706016006</td>\n",
       "      <td>0.097799</td>\n",
       "    </tr>\n",
       "    <tr>\n",
       "      <th>4</th>\n",
       "      <td>706016001</td>\n",
       "      <td>399223001</td>\n",
       "      <td>0.087299</td>\n",
       "    </tr>\n",
       "    <tr>\n",
       "      <th>...</th>\n",
       "      <td>...</td>\n",
       "      <td>...</td>\n",
       "      <td>...</td>\n",
       "    </tr>\n",
       "    <tr>\n",
       "      <th>570535</th>\n",
       "      <td>657165029</td>\n",
       "      <td>763270003</td>\n",
       "      <td>0.120000</td>\n",
       "    </tr>\n",
       "    <tr>\n",
       "      <th>570536</th>\n",
       "      <td>657165029</td>\n",
       "      <td>628327005</td>\n",
       "      <td>0.120000</td>\n",
       "    </tr>\n",
       "    <tr>\n",
       "      <th>570537</th>\n",
       "      <td>657165029</td>\n",
       "      <td>664319001</td>\n",
       "      <td>0.120000</td>\n",
       "    </tr>\n",
       "    <tr>\n",
       "      <th>570538</th>\n",
       "      <td>657165029</td>\n",
       "      <td>608776002</td>\n",
       "      <td>0.100000</td>\n",
       "    </tr>\n",
       "    <tr>\n",
       "      <th>570539</th>\n",
       "      <td>657165029</td>\n",
       "      <td>745806001</td>\n",
       "      <td>0.100000</td>\n",
       "    </tr>\n",
       "  </tbody>\n",
       "</table>\n",
       "<p>570540 rows × 3 columns</p>\n",
       "</div>"
      ],
      "text/plain": [
       "          from_id      to_id     ratio\n",
       "0       706016001  706016002  0.250144\n",
       "1       706016001  706016003  0.155706\n",
       "2       706016001  706016015  0.117943\n",
       "3       706016001  706016006  0.097799\n",
       "4       706016001  399223001  0.087299\n",
       "...           ...        ...       ...\n",
       "570535  657165029  763270003  0.120000\n",
       "570536  657165029  628327005  0.120000\n",
       "570537  657165029  664319001  0.120000\n",
       "570538  657165029  608776002  0.100000\n",
       "570539  657165029  745806001  0.100000\n",
       "\n",
       "[570540 rows x 3 columns]"
      ]
     },
     "execution_count": 33,
     "metadata": {},
     "output_type": "execute_result"
    }
   ],
   "source": [
    "relation_data"
   ]
  },
  {
   "cell_type": "code",
   "execution_count": 34,
   "id": "62d4c820",
   "metadata": {
    "execution": {
     "iopub.execute_input": "2022-03-27T09:23:11.518172Z",
     "iopub.status.busy": "2022-03-27T09:23:11.517289Z",
     "iopub.status.idle": "2022-03-27T09:23:11.520856Z",
     "shell.execute_reply": "2022-03-27T09:23:11.521354Z",
     "shell.execute_reply.started": "2022-03-27T08:34:56.135160Z"
    },
    "papermill": {
     "duration": 0.329151,
     "end_time": "2022-03-27T09:23:11.521518",
     "exception": false,
     "start_time": "2022-03-27T09:23:11.192367",
     "status": "completed"
    },
    "tags": []
   },
   "outputs": [
    {
     "data": {
      "text/plain": [
       "106"
      ]
     },
     "execution_count": 34,
     "metadata": {},
     "output_type": "execute_result"
    }
   ],
   "source": [
    "del tmp\n",
    "gc.collect()"
   ]
  },
  {
   "cell_type": "code",
   "execution_count": 35,
   "id": "aeea511e",
   "metadata": {
    "execution": {
     "iopub.execute_input": "2022-03-27T09:23:11.835825Z",
     "iopub.status.busy": "2022-03-27T09:23:11.834883Z",
     "iopub.status.idle": "2022-03-27T09:23:11.968271Z",
     "shell.execute_reply": "2022-03-27T09:23:11.967674Z",
     "shell.execute_reply.started": "2022-03-27T08:34:56.299506Z"
    },
    "papermill": {
     "duration": 0.290167,
     "end_time": "2022-03-27T09:23:11.968393",
     "exception": false,
     "start_time": "2022-03-27T09:23:11.678226",
     "status": "completed"
    },
    "tags": []
   },
   "outputs": [],
   "source": [
    "weekly_sales = df.drop('customer_id', axis=1).groupby(['ldbw', 'article_id']).count().reset_index()\n",
    "weekly_sales = weekly_sales.rename(columns={'t_dat': 'count'})"
   ]
  },
  {
   "cell_type": "code",
   "execution_count": 36,
   "id": "f7ee40f0",
   "metadata": {
    "execution": {
     "iopub.execute_input": "2022-03-27T09:23:12.297026Z",
     "iopub.status.busy": "2022-03-27T09:23:12.295963Z",
     "iopub.status.idle": "2022-03-27T09:23:12.360737Z",
     "shell.execute_reply": "2022-03-27T09:23:12.361284Z",
     "shell.execute_reply.started": "2022-03-27T08:34:56.427308Z"
    },
    "papermill": {
     "duration": 0.232927,
     "end_time": "2022-03-27T09:23:12.361447",
     "exception": false,
     "start_time": "2022-03-27T09:23:12.128520",
     "status": "completed"
    },
    "tags": []
   },
   "outputs": [
    {
     "data": {
      "text/html": [
       "<div>\n",
       "<style scoped>\n",
       "    .dataframe tbody tr th:only-of-type {\n",
       "        vertical-align: middle;\n",
       "    }\n",
       "\n",
       "    .dataframe tbody tr th {\n",
       "        vertical-align: top;\n",
       "    }\n",
       "\n",
       "    .dataframe thead th {\n",
       "        text-align: right;\n",
       "    }\n",
       "</style>\n",
       "<table border=\"1\" class=\"dataframe\">\n",
       "  <thead>\n",
       "    <tr style=\"text-align: right;\">\n",
       "      <th></th>\n",
       "      <th>ldbw</th>\n",
       "      <th>article_id</th>\n",
       "      <th>count</th>\n",
       "      <th>price</th>\n",
       "      <th>sales_channel_id</th>\n",
       "    </tr>\n",
       "  </thead>\n",
       "  <tbody>\n",
       "    <tr>\n",
       "      <th>0</th>\n",
       "      <td>2019-03-12</td>\n",
       "      <td>719447002</td>\n",
       "      <td>4</td>\n",
       "      <td>4</td>\n",
       "      <td>4</td>\n",
       "    </tr>\n",
       "    <tr>\n",
       "      <th>1</th>\n",
       "      <td>2019-04-16</td>\n",
       "      <td>590203002</td>\n",
       "      <td>1</td>\n",
       "      <td>1</td>\n",
       "      <td>1</td>\n",
       "    </tr>\n",
       "    <tr>\n",
       "      <th>2</th>\n",
       "      <td>2020-05-05</td>\n",
       "      <td>831684001</td>\n",
       "      <td>12</td>\n",
       "      <td>12</td>\n",
       "      <td>12</td>\n",
       "    </tr>\n",
       "    <tr>\n",
       "      <th>3</th>\n",
       "      <td>2019-05-28</td>\n",
       "      <td>693508002</td>\n",
       "      <td>1</td>\n",
       "      <td>1</td>\n",
       "      <td>1</td>\n",
       "    </tr>\n",
       "    <tr>\n",
       "      <th>4</th>\n",
       "      <td>2019-07-02</td>\n",
       "      <td>777038001</td>\n",
       "      <td>5</td>\n",
       "      <td>5</td>\n",
       "      <td>5</td>\n",
       "    </tr>\n",
       "    <tr>\n",
       "      <th>...</th>\n",
       "      <td>...</td>\n",
       "      <td>...</td>\n",
       "      <td>...</td>\n",
       "      <td>...</td>\n",
       "      <td>...</td>\n",
       "    </tr>\n",
       "    <tr>\n",
       "      <th>2183240</th>\n",
       "      <td>2019-02-12</td>\n",
       "      <td>664871001</td>\n",
       "      <td>34</td>\n",
       "      <td>34</td>\n",
       "      <td>34</td>\n",
       "    </tr>\n",
       "    <tr>\n",
       "      <th>2183241</th>\n",
       "      <td>2019-11-19</td>\n",
       "      <td>640735001</td>\n",
       "      <td>2</td>\n",
       "      <td>2</td>\n",
       "      <td>2</td>\n",
       "    </tr>\n",
       "    <tr>\n",
       "      <th>2183242</th>\n",
       "      <td>2018-10-02</td>\n",
       "      <td>569355002</td>\n",
       "      <td>6</td>\n",
       "      <td>6</td>\n",
       "      <td>6</td>\n",
       "    </tr>\n",
       "    <tr>\n",
       "      <th>2183243</th>\n",
       "      <td>2019-06-04</td>\n",
       "      <td>684021006</td>\n",
       "      <td>8</td>\n",
       "      <td>8</td>\n",
       "      <td>8</td>\n",
       "    </tr>\n",
       "    <tr>\n",
       "      <th>2183244</th>\n",
       "      <td>2019-04-16</td>\n",
       "      <td>767918005</td>\n",
       "      <td>5</td>\n",
       "      <td>5</td>\n",
       "      <td>5</td>\n",
       "    </tr>\n",
       "  </tbody>\n",
       "</table>\n",
       "<p>2183245 rows × 5 columns</p>\n",
       "</div>"
      ],
      "text/plain": [
       "              ldbw  article_id  count  price  sales_channel_id\n",
       "0       2019-03-12   719447002      4      4                 4\n",
       "1       2019-04-16   590203002      1      1                 1\n",
       "2       2020-05-05   831684001     12     12                12\n",
       "3       2019-05-28   693508002      1      1                 1\n",
       "4       2019-07-02   777038001      5      5                 5\n",
       "...            ...         ...    ...    ...               ...\n",
       "2183240 2019-02-12   664871001     34     34                34\n",
       "2183241 2019-11-19   640735001      2      2                 2\n",
       "2183242 2018-10-02   569355002      6      6                 6\n",
       "2183243 2019-06-04   684021006      8      8                 8\n",
       "2183244 2019-04-16   767918005      5      5                 5\n",
       "\n",
       "[2183245 rows x 5 columns]"
      ]
     },
     "execution_count": 36,
     "metadata": {},
     "output_type": "execute_result"
    }
   ],
   "source": [
    "weekly_sales"
   ]
  },
  {
   "cell_type": "code",
   "execution_count": 37,
   "id": "0d950960",
   "metadata": {
    "execution": {
     "iopub.execute_input": "2022-03-27T09:23:12.681314Z",
     "iopub.status.busy": "2022-03-27T09:23:12.680121Z",
     "iopub.status.idle": "2022-03-27T09:23:12.720836Z",
     "shell.execute_reply": "2022-03-27T09:23:12.721273Z",
     "shell.execute_reply.started": "2022-03-27T08:34:56.484073Z"
    },
    "papermill": {
     "duration": 0.206844,
     "end_time": "2022-03-27T09:23:12.721412",
     "exception": false,
     "start_time": "2022-03-27T09:23:12.514568",
     "status": "completed"
    },
    "tags": []
   },
   "outputs": [],
   "source": [
    "df = df[df[\"ldbw\"] >= pd.to_datetime('2020-08-01')]"
   ]
  },
  {
   "cell_type": "code",
   "execution_count": 38,
   "id": "dfe3bed2",
   "metadata": {
    "execution": {
     "iopub.execute_input": "2022-03-27T09:23:13.050144Z",
     "iopub.status.busy": "2022-03-27T09:23:13.049081Z",
     "iopub.status.idle": "2022-03-27T09:23:13.091239Z",
     "shell.execute_reply": "2022-03-27T09:23:13.090725Z",
     "shell.execute_reply.started": "2022-03-27T08:34:56.530629Z"
    },
    "papermill": {
     "duration": 0.209748,
     "end_time": "2022-03-27T09:23:13.091366",
     "exception": false,
     "start_time": "2022-03-27T09:23:12.881618",
     "status": "completed"
    },
    "tags": []
   },
   "outputs": [],
   "source": [
    "full_result = df.merge(relation_data, left_on = \"article_id\", right_on = \"from_id\")"
   ]
  },
  {
   "cell_type": "code",
   "execution_count": 39,
   "id": "a301ccae",
   "metadata": {
    "execution": {
     "iopub.execute_input": "2022-03-27T09:23:13.425432Z",
     "iopub.status.busy": "2022-03-27T09:23:13.424496Z",
     "iopub.status.idle": "2022-03-27T09:23:13.427694Z",
     "shell.execute_reply": "2022-03-27T09:23:13.427189Z",
     "shell.execute_reply.started": "2022-03-27T08:34:56.584549Z"
    },
    "papermill": {
     "duration": 0.175492,
     "end_time": "2022-03-27T09:23:13.427883",
     "exception": false,
     "start_time": "2022-03-27T09:23:13.252391",
     "status": "completed"
    },
    "tags": []
   },
   "outputs": [],
   "source": [
    "full_result.drop([\"article_id\", \"from_id\"], axis = 1, inplace = True)"
   ]
  },
  {
   "cell_type": "code",
   "execution_count": 40,
   "id": "91ac42b7",
   "metadata": {
    "execution": {
     "iopub.execute_input": "2022-03-27T09:23:13.750032Z",
     "iopub.status.busy": "2022-03-27T09:23:13.749064Z",
     "iopub.status.idle": "2022-03-27T09:23:13.782730Z",
     "shell.execute_reply": "2022-03-27T09:23:13.783251Z",
     "shell.execute_reply.started": "2022-03-27T08:34:56.597675Z"
    },
    "papermill": {
     "duration": 0.197774,
     "end_time": "2022-03-27T09:23:13.783401",
     "exception": false,
     "start_time": "2022-03-27T09:23:13.585627",
     "status": "completed"
    },
    "tags": []
   },
   "outputs": [],
   "source": [
    "full_result = full_result.rename(columns = {\"to_id\": \"article_id\"})"
   ]
  },
  {
   "cell_type": "code",
   "execution_count": 41,
   "id": "1f446325",
   "metadata": {
    "execution": {
     "iopub.execute_input": "2022-03-27T09:23:14.110213Z",
     "iopub.status.busy": "2022-03-27T09:23:14.109132Z",
     "iopub.status.idle": "2022-03-27T09:23:14.188078Z",
     "shell.execute_reply": "2022-03-27T09:23:14.188534Z",
     "shell.execute_reply.started": "2022-03-27T08:34:56.636335Z"
    },
    "papermill": {
     "duration": 0.248075,
     "end_time": "2022-03-27T09:23:14.188728",
     "exception": false,
     "start_time": "2022-03-27T09:23:13.940653",
     "status": "completed"
    },
    "tags": []
   },
   "outputs": [
    {
     "data": {
      "text/html": [
       "<div>\n",
       "<style scoped>\n",
       "    .dataframe tbody tr th:only-of-type {\n",
       "        vertical-align: middle;\n",
       "    }\n",
       "\n",
       "    .dataframe tbody tr th {\n",
       "        vertical-align: top;\n",
       "    }\n",
       "\n",
       "    .dataframe thead th {\n",
       "        text-align: right;\n",
       "    }\n",
       "</style>\n",
       "<table border=\"1\" class=\"dataframe\">\n",
       "  <thead>\n",
       "    <tr style=\"text-align: right;\">\n",
       "      <th></th>\n",
       "      <th>t_dat</th>\n",
       "      <th>customer_id</th>\n",
       "      <th>price</th>\n",
       "      <th>sales_channel_id</th>\n",
       "      <th>ldbw</th>\n",
       "      <th>article_id</th>\n",
       "      <th>ratio</th>\n",
       "    </tr>\n",
       "  </thead>\n",
       "  <tbody>\n",
       "    <tr>\n",
       "      <th>0</th>\n",
       "      <td>2020-07-29</td>\n",
       "      <td>3977769966100139942</td>\n",
       "      <td>0.010153</td>\n",
       "      <td>1</td>\n",
       "      <td>2020-08-04</td>\n",
       "      <td>860651001</td>\n",
       "      <td>0.144543</td>\n",
       "    </tr>\n",
       "    <tr>\n",
       "      <th>1</th>\n",
       "      <td>2020-07-29</td>\n",
       "      <td>3857846578684123381</td>\n",
       "      <td>0.005068</td>\n",
       "      <td>1</td>\n",
       "      <td>2020-08-04</td>\n",
       "      <td>111593001</td>\n",
       "      <td>0.057493</td>\n",
       "    </tr>\n",
       "    <tr>\n",
       "      <th>2</th>\n",
       "      <td>2020-07-29</td>\n",
       "      <td>1295714451737066269</td>\n",
       "      <td>0.016932</td>\n",
       "      <td>1</td>\n",
       "      <td>2020-08-04</td>\n",
       "      <td>372860001</td>\n",
       "      <td>0.088823</td>\n",
       "    </tr>\n",
       "    <tr>\n",
       "      <th>3</th>\n",
       "      <td>2020-07-29</td>\n",
       "      <td>5855931194243269731</td>\n",
       "      <td>0.016932</td>\n",
       "      <td>2</td>\n",
       "      <td>2020-08-04</td>\n",
       "      <td>833499003</td>\n",
       "      <td>0.887550</td>\n",
       "    </tr>\n",
       "    <tr>\n",
       "      <th>4</th>\n",
       "      <td>2020-07-29</td>\n",
       "      <td>8523185629529731253</td>\n",
       "      <td>0.011847</td>\n",
       "      <td>2</td>\n",
       "      <td>2020-08-04</td>\n",
       "      <td>688105003</td>\n",
       "      <td>0.081097</td>\n",
       "    </tr>\n",
       "    <tr>\n",
       "      <th>...</th>\n",
       "      <td>...</td>\n",
       "      <td>...</td>\n",
       "      <td>...</td>\n",
       "      <td>...</td>\n",
       "      <td>...</td>\n",
       "      <td>...</td>\n",
       "      <td>...</td>\n",
       "    </tr>\n",
       "    <tr>\n",
       "      <th>18750425</th>\n",
       "      <td>2020-09-15</td>\n",
       "      <td>1222534653512818531</td>\n",
       "      <td>0.059305</td>\n",
       "      <td>1</td>\n",
       "      <td>2020-09-15</td>\n",
       "      <td>673396002</td>\n",
       "      <td>0.056782</td>\n",
       "    </tr>\n",
       "    <tr>\n",
       "      <th>18750426</th>\n",
       "      <td>2020-09-15</td>\n",
       "      <td>1222534653512818531</td>\n",
       "      <td>0.059305</td>\n",
       "      <td>1</td>\n",
       "      <td>2020-09-15</td>\n",
       "      <td>762846008</td>\n",
       "      <td>0.053628</td>\n",
       "    </tr>\n",
       "    <tr>\n",
       "      <th>18750427</th>\n",
       "      <td>2020-09-15</td>\n",
       "      <td>1222534653512818531</td>\n",
       "      <td>0.059305</td>\n",
       "      <td>1</td>\n",
       "      <td>2020-09-15</td>\n",
       "      <td>706016003</td>\n",
       "      <td>0.053628</td>\n",
       "    </tr>\n",
       "    <tr>\n",
       "      <th>18750428</th>\n",
       "      <td>2020-09-15</td>\n",
       "      <td>4908528897358301336</td>\n",
       "      <td>0.042356</td>\n",
       "      <td>2</td>\n",
       "      <td>2020-09-15</td>\n",
       "      <td>572998001</td>\n",
       "      <td>0.093567</td>\n",
       "    </tr>\n",
       "    <tr>\n",
       "      <th>18750429</th>\n",
       "      <td>2020-09-15</td>\n",
       "      <td>4908528897358301336</td>\n",
       "      <td>0.042356</td>\n",
       "      <td>2</td>\n",
       "      <td>2020-09-15</td>\n",
       "      <td>864668004</td>\n",
       "      <td>0.093567</td>\n",
       "    </tr>\n",
       "  </tbody>\n",
       "</table>\n",
       "<p>18750430 rows × 7 columns</p>\n",
       "</div>"
      ],
      "text/plain": [
       "              t_dat          customer_id     price  sales_channel_id  \\\n",
       "0        2020-07-29  3977769966100139942  0.010153                 1   \n",
       "1        2020-07-29  3857846578684123381  0.005068                 1   \n",
       "2        2020-07-29  1295714451737066269  0.016932                 1   \n",
       "3        2020-07-29  5855931194243269731  0.016932                 2   \n",
       "4        2020-07-29  8523185629529731253  0.011847                 2   \n",
       "...             ...                  ...       ...               ...   \n",
       "18750425 2020-09-15  1222534653512818531  0.059305                 1   \n",
       "18750426 2020-09-15  1222534653512818531  0.059305                 1   \n",
       "18750427 2020-09-15  1222534653512818531  0.059305                 1   \n",
       "18750428 2020-09-15  4908528897358301336  0.042356                 2   \n",
       "18750429 2020-09-15  4908528897358301336  0.042356                 2   \n",
       "\n",
       "               ldbw  article_id     ratio  \n",
       "0        2020-08-04   860651001  0.144543  \n",
       "1        2020-08-04   111593001  0.057493  \n",
       "2        2020-08-04   372860001  0.088823  \n",
       "3        2020-08-04   833499003  0.887550  \n",
       "4        2020-08-04   688105003  0.081097  \n",
       "...             ...         ...       ...  \n",
       "18750425 2020-09-15   673396002  0.056782  \n",
       "18750426 2020-09-15   762846008  0.053628  \n",
       "18750427 2020-09-15   706016003  0.053628  \n",
       "18750428 2020-09-15   572998001  0.093567  \n",
       "18750429 2020-09-15   864668004  0.093567  \n",
       "\n",
       "[18750430 rows x 7 columns]"
      ]
     },
     "execution_count": 41,
     "metadata": {},
     "output_type": "execute_result"
    }
   ],
   "source": [
    "full_result"
   ]
  },
  {
   "cell_type": "code",
   "execution_count": 42,
   "id": "ff6db380",
   "metadata": {
    "execution": {
     "iopub.execute_input": "2022-03-27T09:23:14.512085Z",
     "iopub.status.busy": "2022-03-27T09:23:14.511030Z",
     "iopub.status.idle": "2022-03-27T09:23:14.574838Z",
     "shell.execute_reply": "2022-03-27T09:23:14.574279Z",
     "shell.execute_reply.started": "2022-03-27T08:34:56.710276Z"
    },
    "papermill": {
     "duration": 0.227507,
     "end_time": "2022-03-27T09:23:14.574991",
     "exception": false,
     "start_time": "2022-03-27T09:23:14.347484",
     "status": "completed"
    },
    "tags": []
   },
   "outputs": [],
   "source": [
    "full_result = full_result.merge(weekly_sales, on=['ldbw', 'article_id'], how = 'left')"
   ]
  },
  {
   "cell_type": "code",
   "execution_count": 43,
   "id": "6794e281",
   "metadata": {
    "execution": {
     "iopub.execute_input": "2022-03-27T09:23:14.906414Z",
     "iopub.status.busy": "2022-03-27T09:23:14.905245Z",
     "iopub.status.idle": "2022-03-27T09:23:14.907636Z",
     "shell.execute_reply": "2022-03-27T09:23:14.908161Z",
     "shell.execute_reply.started": "2022-03-27T08:34:56.775479Z"
    },
    "papermill": {
     "duration": 0.169476,
     "end_time": "2022-03-27T09:23:14.908322",
     "exception": false,
     "start_time": "2022-03-27T09:23:14.738846",
     "status": "completed"
    },
    "tags": []
   },
   "outputs": [],
   "source": [
    "#full_result.drop([\"article_id\", \"from_id\", \"count\"], axis = 1, inplace = True)"
   ]
  },
  {
   "cell_type": "code",
   "execution_count": 44,
   "id": "ca05faac",
   "metadata": {
    "execution": {
     "iopub.execute_input": "2022-03-27T09:23:15.239821Z",
     "iopub.status.busy": "2022-03-27T09:23:15.238643Z",
     "iopub.status.idle": "2022-03-27T09:23:15.241833Z",
     "shell.execute_reply": "2022-03-27T09:23:15.241125Z",
     "shell.execute_reply.started": "2022-03-27T08:34:56.780935Z"
    },
    "papermill": {
     "duration": 0.170829,
     "end_time": "2022-03-27T09:23:15.241979",
     "exception": false,
     "start_time": "2022-03-27T09:23:15.071150",
     "status": "completed"
    },
    "tags": []
   },
   "outputs": [],
   "source": [
    "#full_result.dropna(inplace)"
   ]
  },
  {
   "cell_type": "code",
   "execution_count": 45,
   "id": "5b44cdb2",
   "metadata": {
    "execution": {
     "iopub.execute_input": "2022-03-27T09:23:15.567956Z",
     "iopub.status.busy": "2022-03-27T09:23:15.566938Z",
     "iopub.status.idle": "2022-03-27T09:23:15.660307Z",
     "shell.execute_reply": "2022-03-27T09:23:15.660815Z",
     "shell.execute_reply.started": "2022-03-27T08:34:56.790956Z"
    },
    "papermill": {
     "duration": 0.259363,
     "end_time": "2022-03-27T09:23:15.660961",
     "exception": false,
     "start_time": "2022-03-27T09:23:15.401598",
     "status": "completed"
    },
    "tags": []
   },
   "outputs": [],
   "source": [
    "weekly_sales = weekly_sales.reset_index().set_index('article_id')\n",
    "\n",
    "full_result = full_result.merge(\n",
    "    weekly_sales.loc[weekly_sales['ldbw']==Last_date, ['count']],\n",
    "    on='article_id', suffixes=(\"\", \"_targ\"))\n",
    "\n",
    "full_result['count_targ'].fillna(0, inplace=True)"
   ]
  },
  {
   "cell_type": "code",
   "execution_count": 46,
   "id": "35f25e3e",
   "metadata": {
    "execution": {
     "iopub.execute_input": "2022-03-27T09:23:15.987623Z",
     "iopub.status.busy": "2022-03-27T09:23:15.983079Z",
     "iopub.status.idle": "2022-03-27T09:23:16.093339Z",
     "shell.execute_reply": "2022-03-27T09:23:16.093815Z",
     "shell.execute_reply.started": "2022-03-27T08:34:56.888494Z"
    },
    "papermill": {
     "duration": 0.272753,
     "end_time": "2022-03-27T09:23:16.094017",
     "exception": false,
     "start_time": "2022-03-27T09:23:15.821264",
     "status": "completed"
    },
    "tags": []
   },
   "outputs": [
    {
     "data": {
      "text/html": [
       "<div>\n",
       "<style scoped>\n",
       "    .dataframe tbody tr th:only-of-type {\n",
       "        vertical-align: middle;\n",
       "    }\n",
       "\n",
       "    .dataframe tbody tr th {\n",
       "        vertical-align: top;\n",
       "    }\n",
       "\n",
       "    .dataframe thead th {\n",
       "        text-align: right;\n",
       "    }\n",
       "</style>\n",
       "<table border=\"1\" class=\"dataframe\">\n",
       "  <thead>\n",
       "    <tr style=\"text-align: right;\">\n",
       "      <th></th>\n",
       "      <th>t_dat</th>\n",
       "      <th>customer_id</th>\n",
       "      <th>price_x</th>\n",
       "      <th>sales_channel_id_x</th>\n",
       "      <th>ldbw</th>\n",
       "      <th>article_id</th>\n",
       "      <th>ratio</th>\n",
       "      <th>count</th>\n",
       "      <th>price_y</th>\n",
       "      <th>sales_channel_id_y</th>\n",
       "      <th>count_targ</th>\n",
       "    </tr>\n",
       "  </thead>\n",
       "  <tbody>\n",
       "    <tr>\n",
       "      <th>0</th>\n",
       "      <td>2020-07-30</td>\n",
       "      <td>6896914372120773055</td>\n",
       "      <td>0.033881</td>\n",
       "      <td>2</td>\n",
       "      <td>2020-08-04</td>\n",
       "      <td>578630002</td>\n",
       "      <td>0.260073</td>\n",
       "      <td>18</td>\n",
       "      <td>18</td>\n",
       "      <td>18</td>\n",
       "      <td>1</td>\n",
       "    </tr>\n",
       "    <tr>\n",
       "      <th>1</th>\n",
       "      <td>2020-07-30</td>\n",
       "      <td>6896914372120773055</td>\n",
       "      <td>0.033881</td>\n",
       "      <td>2</td>\n",
       "      <td>2020-08-04</td>\n",
       "      <td>578630002</td>\n",
       "      <td>0.260073</td>\n",
       "      <td>18</td>\n",
       "      <td>18</td>\n",
       "      <td>18</td>\n",
       "      <td>1</td>\n",
       "    </tr>\n",
       "    <tr>\n",
       "      <th>2</th>\n",
       "      <td>2020-07-30</td>\n",
       "      <td>6896914372120773055</td>\n",
       "      <td>0.008458</td>\n",
       "      <td>2</td>\n",
       "      <td>2020-08-04</td>\n",
       "      <td>610776002</td>\n",
       "      <td>0.291486</td>\n",
       "      <td>208</td>\n",
       "      <td>208</td>\n",
       "      <td>208</td>\n",
       "      <td>206</td>\n",
       "    </tr>\n",
       "    <tr>\n",
       "      <th>3</th>\n",
       "      <td>2020-07-30</td>\n",
       "      <td>6896914372120773055</td>\n",
       "      <td>0.008458</td>\n",
       "      <td>2</td>\n",
       "      <td>2020-08-04</td>\n",
       "      <td>610776002</td>\n",
       "      <td>0.291486</td>\n",
       "      <td>208</td>\n",
       "      <td>208</td>\n",
       "      <td>208</td>\n",
       "      <td>206</td>\n",
       "    </tr>\n",
       "    <tr>\n",
       "      <th>4</th>\n",
       "      <td>2020-07-30</td>\n",
       "      <td>6896914372120773055</td>\n",
       "      <td>0.008458</td>\n",
       "      <td>2</td>\n",
       "      <td>2020-08-04</td>\n",
       "      <td>610776002</td>\n",
       "      <td>0.291486</td>\n",
       "      <td>208</td>\n",
       "      <td>208</td>\n",
       "      <td>208</td>\n",
       "      <td>206</td>\n",
       "    </tr>\n",
       "    <tr>\n",
       "      <th>...</th>\n",
       "      <td>...</td>\n",
       "      <td>...</td>\n",
       "      <td>...</td>\n",
       "      <td>...</td>\n",
       "      <td>...</td>\n",
       "      <td>...</td>\n",
       "      <td>...</td>\n",
       "      <td>...</td>\n",
       "      <td>...</td>\n",
       "      <td>...</td>\n",
       "      <td>...</td>\n",
       "    </tr>\n",
       "    <tr>\n",
       "      <th>17558330</th>\n",
       "      <td>2020-09-15</td>\n",
       "      <td>9023033715671981940</td>\n",
       "      <td>0.042356</td>\n",
       "      <td>2</td>\n",
       "      <td>2020-09-15</td>\n",
       "      <td>790368004</td>\n",
       "      <td>0.048626</td>\n",
       "      <td>16</td>\n",
       "      <td>16</td>\n",
       "      <td>16</td>\n",
       "      <td>16</td>\n",
       "    </tr>\n",
       "    <tr>\n",
       "      <th>17558331</th>\n",
       "      <td>2020-09-15</td>\n",
       "      <td>5906446883198058654</td>\n",
       "      <td>0.033881</td>\n",
       "      <td>1</td>\n",
       "      <td>2020-09-15</td>\n",
       "      <td>673677002</td>\n",
       "      <td>0.055617</td>\n",
       "      <td>463</td>\n",
       "      <td>463</td>\n",
       "      <td>463</td>\n",
       "      <td>463</td>\n",
       "    </tr>\n",
       "    <tr>\n",
       "      <th>17558332</th>\n",
       "      <td>2020-09-15</td>\n",
       "      <td>-4218169668667639731</td>\n",
       "      <td>0.033881</td>\n",
       "      <td>2</td>\n",
       "      <td>2020-09-15</td>\n",
       "      <td>751471039</td>\n",
       "      <td>0.079027</td>\n",
       "      <td>167</td>\n",
       "      <td>167</td>\n",
       "      <td>167</td>\n",
       "      <td>167</td>\n",
       "    </tr>\n",
       "    <tr>\n",
       "      <th>17558333</th>\n",
       "      <td>2020-09-15</td>\n",
       "      <td>9023033715671981940</td>\n",
       "      <td>0.042356</td>\n",
       "      <td>2</td>\n",
       "      <td>2020-09-15</td>\n",
       "      <td>685816002</td>\n",
       "      <td>0.046416</td>\n",
       "      <td>153</td>\n",
       "      <td>153</td>\n",
       "      <td>153</td>\n",
       "      <td>153</td>\n",
       "    </tr>\n",
       "    <tr>\n",
       "      <th>17558334</th>\n",
       "      <td>2020-09-15</td>\n",
       "      <td>-5649092535895410110</td>\n",
       "      <td>0.016932</td>\n",
       "      <td>2</td>\n",
       "      <td>2020-09-15</td>\n",
       "      <td>900176001</td>\n",
       "      <td>0.136842</td>\n",
       "      <td>19</td>\n",
       "      <td>19</td>\n",
       "      <td>19</td>\n",
       "      <td>19</td>\n",
       "    </tr>\n",
       "  </tbody>\n",
       "</table>\n",
       "<p>17558335 rows × 11 columns</p>\n",
       "</div>"
      ],
      "text/plain": [
       "              t_dat          customer_id   price_x  sales_channel_id_x  \\\n",
       "0        2020-07-30  6896914372120773055  0.033881                   2   \n",
       "1        2020-07-30  6896914372120773055  0.033881                   2   \n",
       "2        2020-07-30  6896914372120773055  0.008458                   2   \n",
       "3        2020-07-30  6896914372120773055  0.008458                   2   \n",
       "4        2020-07-30  6896914372120773055  0.008458                   2   \n",
       "...             ...                  ...       ...                 ...   \n",
       "17558330 2020-09-15  9023033715671981940  0.042356                   2   \n",
       "17558331 2020-09-15  5906446883198058654  0.033881                   1   \n",
       "17558332 2020-09-15 -4218169668667639731  0.033881                   2   \n",
       "17558333 2020-09-15  9023033715671981940  0.042356                   2   \n",
       "17558334 2020-09-15 -5649092535895410110  0.016932                   2   \n",
       "\n",
       "               ldbw  article_id     ratio  count  price_y  sales_channel_id_y  \\\n",
       "0        2020-08-04   578630002  0.260073     18       18                  18   \n",
       "1        2020-08-04   578630002  0.260073     18       18                  18   \n",
       "2        2020-08-04   610776002  0.291486    208      208                 208   \n",
       "3        2020-08-04   610776002  0.291486    208      208                 208   \n",
       "4        2020-08-04   610776002  0.291486    208      208                 208   \n",
       "...             ...         ...       ...    ...      ...                 ...   \n",
       "17558330 2020-09-15   790368004  0.048626     16       16                  16   \n",
       "17558331 2020-09-15   673677002  0.055617    463      463                 463   \n",
       "17558332 2020-09-15   751471039  0.079027    167      167                 167   \n",
       "17558333 2020-09-15   685816002  0.046416    153      153                 153   \n",
       "17558334 2020-09-15   900176001  0.136842     19       19                  19   \n",
       "\n",
       "          count_targ  \n",
       "0                  1  \n",
       "1                  1  \n",
       "2                206  \n",
       "3                206  \n",
       "4                206  \n",
       "...              ...  \n",
       "17558330          16  \n",
       "17558331         463  \n",
       "17558332         167  \n",
       "17558333         153  \n",
       "17558334          19  \n",
       "\n",
       "[17558335 rows x 11 columns]"
      ]
     },
     "execution_count": 46,
     "metadata": {},
     "output_type": "execute_result"
    }
   ],
   "source": [
    "full_result"
   ]
  },
  {
   "cell_type": "code",
   "execution_count": 47,
   "id": "fa0e48cd",
   "metadata": {
    "execution": {
     "iopub.execute_input": "2022-03-27T09:23:16.419549Z",
     "iopub.status.busy": "2022-03-27T09:23:16.418491Z",
     "iopub.status.idle": "2022-03-27T09:23:16.424798Z",
     "shell.execute_reply": "2022-03-27T09:23:16.424202Z",
     "shell.execute_reply.started": "2022-03-27T08:34:56.983705Z"
    },
    "papermill": {
     "duration": 0.173346,
     "end_time": "2022-03-27T09:23:16.424974",
     "exception": false,
     "start_time": "2022-03-27T09:23:16.251628",
     "status": "completed"
    },
    "tags": []
   },
   "outputs": [],
   "source": [
    "full_result['quotient'] = full_result['count_targ'] / full_result['count']"
   ]
  },
  {
   "cell_type": "code",
   "execution_count": 48,
   "id": "97c0de3e",
   "metadata": {
    "execution": {
     "iopub.execute_input": "2022-03-27T09:23:16.758309Z",
     "iopub.status.busy": "2022-03-27T09:23:16.756069Z",
     "iopub.status.idle": "2022-03-27T09:23:44.064098Z",
     "shell.execute_reply": "2022-03-27T09:23:44.069568Z",
     "shell.execute_reply.started": "2022-03-27T08:34:56.992531Z"
    },
    "papermill": {
     "duration": 27.48384,
     "end_time": "2022-03-27T09:23:44.069874",
     "exception": false,
     "start_time": "2022-03-27T09:23:16.586034",
     "status": "completed"
    },
    "tags": []
   },
   "outputs": [
    {
     "name": "stdout",
     "output_type": "stream",
     "text": [
      "CPU times: user 22 s, sys: 8.17 s, total: 30.1 s\n",
      "Wall time: 27.3 s\n"
     ]
    }
   ],
   "source": [
    "%%time\n",
    "purchase_dict = {}\n",
    "\n",
    "tmp = full_result.copy().to_pandas()\n",
    "tmp['x'] = ((Last_date - tmp['t_dat']) / np.timedelta64(1, 'D')).astype(int)\n",
    "tmp['dummy_1'] = 1 \n",
    "tmp['x'] = tmp[[\"x\", \"dummy_1\"]].max(axis=1)\n",
    "\n",
    "a, b, c, d = 2.5e4, 1.5e5, 2e-1, 1e3\n",
    "total = 1715530\n",
    "tmp['y'] = ((a / np.sqrt(tmp['x']) + b * np.exp(-c*tmp['x']) - d) / total +\\\n",
    "(a / np.sqrt(tmp['x']+1) + b * np.exp(-c*(tmp['x']+1)) - d) / total +\\\n",
    "(a / np.sqrt(tmp['x']+2) + b * np.exp(-c*(tmp['x']+2)) - d) / total +\\\n",
    "(a / np.sqrt(tmp['x']+3) + b * np.exp(-c*(tmp['x']+3)) - d) / total +\\\n",
    "(a / np.sqrt(tmp['x']+4) + b * np.exp(-c*(tmp['x']+4)) - d) / total +\\\n",
    "(a / np.sqrt(tmp['x']+5) + b * np.exp(-c*(tmp['x']+5)) - d) / total +\\\n",
    "(a / np.sqrt(tmp['x']+6) + b * np.exp(-c*(tmp['x']+6)) - d) / total)\n",
    "\n",
    "tmp['dummy_0'] = 0 \n",
    "tmp['y'] = tmp[[\"y\", \"dummy_0\"]].max(axis=1)\n",
    "tmp['score'] = tmp['quotient'] * tmp['y'] * tmp[\"ratio\"]\n",
    "\n",
    "tmp = tmp.groupby(['customer_id', 'article_id']).agg({'score': 'sum'})\n",
    "tmp = tmp.reset_index()\n",
    "\n",
    "tmp = tmp.loc[tmp['score'] > 0]\n",
    "tmp['rank'] = tmp.groupby(\"customer_id\")[\"score\"].rank(\"dense\", ascending=False)\n",
    "tmp = tmp.loc[tmp['rank'] <= 12]\n",
    "tmp[\"source\"] = 2\n",
    "\n",
    "result2 = tmp[[\"customer_id\", \"article_id\", \"source\", \"score\", \"rank\"]]"
   ]
  },
  {
   "cell_type": "code",
   "execution_count": 49,
   "id": "71247a5b",
   "metadata": {
    "execution": {
     "iopub.execute_input": "2022-03-27T09:23:44.427902Z",
     "iopub.status.busy": "2022-03-27T09:23:44.425741Z",
     "iopub.status.idle": "2022-03-27T09:23:44.428622Z",
     "shell.execute_reply": "2022-03-27T09:23:44.429174Z",
     "shell.execute_reply.started": "2022-03-27T08:35:19.951738Z"
    },
    "papermill": {
     "duration": 0.177207,
     "end_time": "2022-03-27T09:23:44.429327",
     "exception": false,
     "start_time": "2022-03-27T09:23:44.252120",
     "status": "completed"
    },
    "tags": []
   },
   "outputs": [],
   "source": [
    "#result2.to_csv(\"result2.csv\", index = False)"
   ]
  },
  {
   "cell_type": "code",
   "execution_count": 50,
   "id": "28a68594",
   "metadata": {
    "execution": {
     "iopub.execute_input": "2022-03-27T09:23:44.893831Z",
     "iopub.status.busy": "2022-03-27T09:23:44.892922Z",
     "iopub.status.idle": "2022-03-27T09:23:44.896626Z",
     "shell.execute_reply": "2022-03-27T09:23:44.897221Z",
     "shell.execute_reply.started": "2022-03-27T08:35:19.958254Z"
    },
    "papermill": {
     "duration": 0.307405,
     "end_time": "2022-03-27T09:23:44.897436",
     "exception": false,
     "start_time": "2022-03-27T09:23:44.590031",
     "status": "completed"
    },
    "tags": []
   },
   "outputs": [
    {
     "data": {
      "text/plain": [
       "42"
      ]
     },
     "execution_count": 50,
     "metadata": {},
     "output_type": "execute_result"
    }
   ],
   "source": [
    "del tmp\n",
    "del df\n",
    "del full_result\n",
    "gc.collect()"
   ]
  },
  {
   "cell_type": "code",
   "execution_count": 51,
   "id": "95f0ddec",
   "metadata": {
    "execution": {
     "iopub.execute_input": "2022-03-27T09:23:45.225714Z",
     "iopub.status.busy": "2022-03-27T09:23:45.224607Z",
     "iopub.status.idle": "2022-03-27T09:23:45.227428Z",
     "shell.execute_reply": "2022-03-27T09:23:45.226796Z",
     "shell.execute_reply.started": "2022-03-27T08:35:20.097990Z"
    },
    "papermill": {
     "duration": 0.168002,
     "end_time": "2022-03-27T09:23:45.227548",
     "exception": false,
     "start_time": "2022-03-27T09:23:45.059546",
     "status": "completed"
    },
    "tags": []
   },
   "outputs": [],
   "source": [
    "#relation_data.to_csv(\"/kaggle/working/relation_data.csv\", index = False)"
   ]
  },
  {
   "cell_type": "code",
   "execution_count": 52,
   "id": "94335e42",
   "metadata": {
    "execution": {
     "iopub.execute_input": "2022-03-27T09:23:45.557288Z",
     "iopub.status.busy": "2022-03-27T09:23:45.556372Z",
     "iopub.status.idle": "2022-03-27T09:23:45.559479Z",
     "shell.execute_reply": "2022-03-27T09:23:45.560033Z",
     "shell.execute_reply.started": "2022-03-27T08:35:20.108156Z"
    },
    "papermill": {
     "duration": 0.17193,
     "end_time": "2022-03-27T09:23:45.560186",
     "exception": false,
     "start_time": "2022-03-27T09:23:45.388256",
     "status": "completed"
    },
    "tags": []
   },
   "outputs": [],
   "source": [
    "# items = cudf.read_csv('../input/h-and-m-personalized-fashion-recommendations/articles.csv')\n",
    "# BASE = '../input/h-and-m-personalized-fashion-recommendations/images/'\n",
    "\n",
    "# for i,(k,v) in enumerate( pairs.items() ):\n",
    "#     name1 = BASE+'0'+str(k)[:2]+'/0'+str(k)+'.jpg'\n",
    "#     name2 = BASE+'0'+str(v[0])[:2]+'/0'+str(v[0])+'.jpg'\n",
    "#     name3 = BASE+'0'+str(v[1])[:2]+'/0'+str(v[1])+'.jpg'\n",
    "#     name4 = BASE+'0'+str(v[2])[:2]+'/0'+str(v[2])+'.jpg'\n",
    "#     if exists(name1) & exists(name2) & exists(name3) & exists(name4):\n",
    "#         plt.figure(figsize=(20,5))\n",
    "#         img1 = cv2.imread(name1)[:,:,::-1]\n",
    "#         img2 = cv2.imread(name2)[:,:,::-1]\n",
    "#         img3 = cv2.imread(name3)[:,:,::-1]\n",
    "#         img4 = cv2.imread(name4)[:,:,::-1]\n",
    "#         plt.subplot(1,4,1)\n",
    "#         plt.title('When customers buy this',size=18)\n",
    "#         plt.imshow(img1)\n",
    "#         plt.subplot(1,4,2)\n",
    "#         plt.title('They buy this',size=18)\n",
    "#         plt.imshow(img2)\n",
    "#         plt.subplot(1,4,3)\n",
    "#         plt.title('They buy this',size=18)\n",
    "#         plt.imshow(img3)\n",
    "#         plt.subplot(1,4,4)\n",
    "#         plt.title('They buy this',size=18)\n",
    "#         plt.imshow(img4)\n",
    "#         plt.show()\n",
    "#     #if i==63: break"
   ]
  },
  {
   "cell_type": "code",
   "execution_count": 53,
   "id": "a886e6c4",
   "metadata": {
    "execution": {
     "iopub.execute_input": "2022-03-27T09:23:45.886394Z",
     "iopub.status.busy": "2022-03-27T09:23:45.885272Z",
     "iopub.status.idle": "2022-03-27T09:23:45.900820Z",
     "shell.execute_reply": "2022-03-27T09:23:45.900285Z",
     "shell.execute_reply.started": "2022-03-27T08:35:20.116257Z"
    },
    "papermill": {
     "duration": 0.180201,
     "end_time": "2022-03-27T09:23:45.901081",
     "exception": false,
     "start_time": "2022-03-27T09:23:45.720880",
     "status": "completed"
    },
    "tags": []
   },
   "outputs": [
    {
     "data": {
      "text/html": [
       "<div>\n",
       "<style scoped>\n",
       "    .dataframe tbody tr th:only-of-type {\n",
       "        vertical-align: middle;\n",
       "    }\n",
       "\n",
       "    .dataframe tbody tr th {\n",
       "        vertical-align: top;\n",
       "    }\n",
       "\n",
       "    .dataframe thead th {\n",
       "        text-align: right;\n",
       "    }\n",
       "</style>\n",
       "<table border=\"1\" class=\"dataframe\">\n",
       "  <thead>\n",
       "    <tr style=\"text-align: right;\">\n",
       "      <th></th>\n",
       "      <th>customer_id</th>\n",
       "      <th>article_id</th>\n",
       "      <th>source</th>\n",
       "      <th>score</th>\n",
       "      <th>rank</th>\n",
       "    </tr>\n",
       "  </thead>\n",
       "  <tbody>\n",
       "    <tr>\n",
       "      <th>0</th>\n",
       "      <td>-9223352921020755230</td>\n",
       "      <td>156231001</td>\n",
       "      <td>2</td>\n",
       "      <td>0.002209</td>\n",
       "      <td>12.0</td>\n",
       "    </tr>\n",
       "    <tr>\n",
       "      <th>1</th>\n",
       "      <td>-9223352921020755230</td>\n",
       "      <td>372860001</td>\n",
       "      <td>2</td>\n",
       "      <td>0.003020</td>\n",
       "      <td>8.0</td>\n",
       "    </tr>\n",
       "    <tr>\n",
       "      <th>2</th>\n",
       "      <td>-9223352921020755230</td>\n",
       "      <td>372860002</td>\n",
       "      <td>2</td>\n",
       "      <td>0.002471</td>\n",
       "      <td>11.0</td>\n",
       "    </tr>\n",
       "    <tr>\n",
       "      <th>3</th>\n",
       "      <td>-9223352921020755230</td>\n",
       "      <td>448509014</td>\n",
       "      <td>2</td>\n",
       "      <td>0.003171</td>\n",
       "      <td>7.0</td>\n",
       "    </tr>\n",
       "    <tr>\n",
       "      <th>5</th>\n",
       "      <td>-9223352921020755230</td>\n",
       "      <td>562245046</td>\n",
       "      <td>2</td>\n",
       "      <td>0.002872</td>\n",
       "      <td>9.0</td>\n",
       "    </tr>\n",
       "    <tr>\n",
       "      <th>...</th>\n",
       "      <td>...</td>\n",
       "      <td>...</td>\n",
       "      <td>...</td>\n",
       "      <td>...</td>\n",
       "      <td>...</td>\n",
       "    </tr>\n",
       "    <tr>\n",
       "      <th>10385327</th>\n",
       "      <td>9223144259947635662</td>\n",
       "      <td>719957006</td>\n",
       "      <td>2</td>\n",
       "      <td>0.008230</td>\n",
       "      <td>12.0</td>\n",
       "    </tr>\n",
       "    <tr>\n",
       "      <th>10385329</th>\n",
       "      <td>9223144259947635662</td>\n",
       "      <td>720504004</td>\n",
       "      <td>2</td>\n",
       "      <td>0.021830</td>\n",
       "      <td>2.0</td>\n",
       "    </tr>\n",
       "    <tr>\n",
       "      <th>10385330</th>\n",
       "      <td>9223144259947635662</td>\n",
       "      <td>720504007</td>\n",
       "      <td>2</td>\n",
       "      <td>0.016236</td>\n",
       "      <td>5.0</td>\n",
       "    </tr>\n",
       "    <tr>\n",
       "      <th>10385333</th>\n",
       "      <td>9223144259947635662</td>\n",
       "      <td>730863005</td>\n",
       "      <td>2</td>\n",
       "      <td>0.014194</td>\n",
       "      <td>6.0</td>\n",
       "    </tr>\n",
       "    <tr>\n",
       "      <th>10385339</th>\n",
       "      <td>9223144259947635662</td>\n",
       "      <td>749699001</td>\n",
       "      <td>2</td>\n",
       "      <td>0.009977</td>\n",
       "      <td>8.0</td>\n",
       "    </tr>\n",
       "  </tbody>\n",
       "</table>\n",
       "<p>4005628 rows × 5 columns</p>\n",
       "</div>"
      ],
      "text/plain": [
       "                  customer_id  article_id  source     score  rank\n",
       "0        -9223352921020755230   156231001       2  0.002209  12.0\n",
       "1        -9223352921020755230   372860001       2  0.003020   8.0\n",
       "2        -9223352921020755230   372860002       2  0.002471  11.0\n",
       "3        -9223352921020755230   448509014       2  0.003171   7.0\n",
       "5        -9223352921020755230   562245046       2  0.002872   9.0\n",
       "...                       ...         ...     ...       ...   ...\n",
       "10385327  9223144259947635662   719957006       2  0.008230  12.0\n",
       "10385329  9223144259947635662   720504004       2  0.021830   2.0\n",
       "10385330  9223144259947635662   720504007       2  0.016236   5.0\n",
       "10385333  9223144259947635662   730863005       2  0.014194   6.0\n",
       "10385339  9223144259947635662   749699001       2  0.009977   8.0\n",
       "\n",
       "[4005628 rows x 5 columns]"
      ]
     },
     "execution_count": 53,
     "metadata": {},
     "output_type": "execute_result"
    }
   ],
   "source": [
    "result2"
   ]
  },
  {
   "cell_type": "markdown",
   "id": "fdc26cd7",
   "metadata": {
    "papermill": {
     "duration": 0.166998,
     "end_time": "2022-03-27T09:23:46.233348",
     "exception": false,
     "start_time": "2022-03-27T09:23:46.066350",
     "status": "completed"
    },
    "tags": []
   },
   "source": [
    "## 第三路：分层上周热门（+趋势）"
   ]
  },
  {
   "cell_type": "code",
   "execution_count": 54,
   "id": "f8f59924",
   "metadata": {
    "execution": {
     "iopub.execute_input": "2022-03-27T09:23:46.573676Z",
     "iopub.status.busy": "2022-03-27T09:23:46.572665Z",
     "iopub.status.idle": "2022-03-27T09:23:55.876825Z",
     "shell.execute_reply": "2022-03-27T09:23:55.876254Z",
     "shell.execute_reply.started": "2022-03-27T08:35:20.135698Z"
    },
    "papermill": {
     "duration": 9.476499,
     "end_time": "2022-03-27T09:23:55.876964",
     "exception": false,
     "start_time": "2022-03-27T09:23:46.400465",
     "status": "completed"
    },
    "tags": []
   },
   "outputs": [
    {
     "name": "stdout",
     "output_type": "stream",
     "text": [
      "Requirement already satisfied: cudf in /opt/conda/lib/python3.7/site-packages (21.10.1)\r\n",
      "Requirement already satisfied: numba>=0.53.1 in /opt/conda/lib/python3.7/site-packages (from cudf) (0.54.1)\r\n",
      "Requirement already satisfied: Cython<0.30,>=0.29 in /opt/conda/lib/python3.7/site-packages (from cudf) (0.29.28)\r\n",
      "Requirement already satisfied: fastavro>=0.22.9 in /opt/conda/lib/python3.7/site-packages (from cudf) (1.4.9)\r\n",
      "Requirement already satisfied: fsspec>=0.6.0 in /opt/conda/lib/python3.7/site-packages (from cudf) (2022.2.0)\r\n",
      "Requirement already satisfied: numpy in /opt/conda/lib/python3.7/site-packages (from cudf) (1.20.3)\r\n",
      "Requirement already satisfied: pandas<1.4.0dev0,>=1.0 in /opt/conda/lib/python3.7/site-packages (from cudf) (1.3.5)\r\n",
      "Requirement already satisfied: typing_extensions in /opt/conda/lib/python3.7/site-packages (from cudf) (4.1.1)\r\n",
      "Requirement already satisfied: protobuf in /opt/conda/lib/python3.7/site-packages (from cudf) (3.19.1)\r\n",
      "Requirement already satisfied: nvtx>=0.2.1 in /opt/conda/lib/python3.7/site-packages (from cudf) (0.2.3)\r\n",
      "Requirement already satisfied: cachetools in /opt/conda/lib/python3.7/site-packages (from cudf) (4.2.4)\r\n",
      "Requirement already satisfied: packaging in /opt/conda/lib/python3.7/site-packages (from cudf) (21.3)\r\n",
      "Requirement already satisfied: cupy-cuda110 in /opt/conda/lib/python3.7/site-packages (from cudf) (10.2.0)\r\n",
      "Requirement already satisfied: setuptools in /opt/conda/lib/python3.7/site-packages (from numba>=0.53.1->cudf) (59.5.0)\r\n",
      "Requirement already satisfied: llvmlite<0.38,>=0.37.0rc1 in /opt/conda/lib/python3.7/site-packages (from numba>=0.53.1->cudf) (0.37.0)\r\n",
      "Requirement already satisfied: python-dateutil>=2.7.3 in /opt/conda/lib/python3.7/site-packages (from pandas<1.4.0dev0,>=1.0->cudf) (2.8.2)\r\n",
      "Requirement already satisfied: pytz>=2017.3 in /opt/conda/lib/python3.7/site-packages (from pandas<1.4.0dev0,>=1.0->cudf) (2021.3)\r\n",
      "Requirement already satisfied: fastrlock>=0.5 in /opt/conda/lib/python3.7/site-packages (from cupy-cuda110->cudf) (0.8)\r\n",
      "Requirement already satisfied: pyparsing!=3.0.5,>=2.0.2 in /opt/conda/lib/python3.7/site-packages (from packaging->cudf) (3.0.6)\r\n",
      "Requirement already satisfied: six>=1.5 in /opt/conda/lib/python3.7/site-packages (from python-dateutil>=2.7.3->pandas<1.4.0dev0,>=1.0->cudf) (1.16.0)\r\n",
      "\u001b[33mWARNING: Running pip as the 'root' user can result in broken permissions and conflicting behaviour with the system package manager. It is recommended to use a virtual environment instead: https://pip.pypa.io/warnings/venv\u001b[0m\r\n"
     ]
    }
   ],
   "source": [
    "!pip install cudf\n",
    "import numpy as np\n",
    "import pandas as pd \n",
    "from datetime import datetime, timedelta\n",
    "import gc\n",
    "import cudf\n",
    "import cv2, matplotlib.pyplot as plt\n",
    "from os.path import exists"
   ]
  },
  {
   "cell_type": "code",
   "execution_count": 55,
   "id": "be0d5b0e",
   "metadata": {
    "execution": {
     "iopub.execute_input": "2022-03-27T09:23:56.215944Z",
     "iopub.status.busy": "2022-03-27T09:23:56.214825Z",
     "iopub.status.idle": "2022-03-27T09:23:56.217187Z",
     "shell.execute_reply": "2022-03-27T09:23:56.217745Z",
     "shell.execute_reply.started": "2022-03-27T08:35:27.473051Z"
    },
    "papermill": {
     "duration": 0.17349,
     "end_time": "2022-03-27T09:23:56.217893",
     "exception": false,
     "start_time": "2022-03-27T09:23:56.044403",
     "status": "completed"
    },
    "tags": []
   },
   "outputs": [],
   "source": [
    "# # LOAD TRANSACTIONS DATAFRAME\n",
    "# df = cudf.read_csv('../input/h-and-m-personalized-fashion-recommendations/transactions_train.csv')\n",
    "# print('Transactions shape',df.shape)\n",
    "# display( df.head() )\n",
    "\n",
    "# # REDUCE MEMORY OF DATAFRAME\n",
    "# df = df[['t_dat','customer_id','article_id']]\n",
    "# df.customer_id = df.customer_id.str[-16:].str.hex_to_int().astype('int64')\n",
    "# df.article_id = df.article_id.astype('int32')\n",
    "# df.t_dat = cudf.to_datetime(df.t_dat)\n",
    "# _ = gc.collect()"
   ]
  },
  {
   "cell_type": "code",
   "execution_count": 56,
   "id": "1c02ccc2",
   "metadata": {
    "execution": {
     "iopub.execute_input": "2022-03-27T09:23:56.550277Z",
     "iopub.status.busy": "2022-03-27T09:23:56.549236Z",
     "iopub.status.idle": "2022-03-27T09:23:56.557223Z",
     "shell.execute_reply": "2022-03-27T09:23:56.556583Z",
     "shell.execute_reply.started": "2022-03-27T08:35:27.481739Z"
    },
    "papermill": {
     "duration": 0.172831,
     "end_time": "2022-03-27T09:23:56.557351",
     "exception": false,
     "start_time": "2022-03-27T09:23:56.384520",
     "status": "completed"
    },
    "tags": []
   },
   "outputs": [],
   "source": [
    "df = train.copy()"
   ]
  },
  {
   "cell_type": "code",
   "execution_count": 57,
   "id": "690c5480",
   "metadata": {
    "execution": {
     "iopub.execute_input": "2022-03-27T09:23:56.885842Z",
     "iopub.status.busy": "2022-03-27T09:23:56.885200Z",
     "iopub.status.idle": "2022-03-27T09:23:59.410463Z",
     "shell.execute_reply": "2022-03-27T09:23:59.409825Z",
     "shell.execute_reply.started": "2022-03-27T08:35:27.498314Z"
    },
    "papermill": {
     "duration": 2.689717,
     "end_time": "2022-03-27T09:23:59.410608",
     "exception": false,
     "start_time": "2022-03-27T09:23:56.720891",
     "status": "completed"
    },
    "tags": []
   },
   "outputs": [],
   "source": [
    "customer = cudf.read_csv('../input/h-and-m-personalized-fashion-recommendations/customers.csv')\n",
    "customer.customer_id = customer.customer_id.str[-16:].str.hex_to_int().astype('int64')"
   ]
  },
  {
   "cell_type": "code",
   "execution_count": 58,
   "id": "6041a4a7",
   "metadata": {
    "execution": {
     "iopub.execute_input": "2022-03-27T09:23:59.776294Z",
     "iopub.status.busy": "2022-03-27T09:23:59.775317Z",
     "iopub.status.idle": "2022-03-27T09:24:00.032288Z",
     "shell.execute_reply": "2022-03-27T09:24:00.032907Z",
     "shell.execute_reply.started": "2022-03-27T08:35:29.977356Z"
    },
    "papermill": {
     "duration": 0.451842,
     "end_time": "2022-03-27T09:24:00.033120",
     "exception": false,
     "start_time": "2022-03-27T09:23:59.581278",
     "status": "completed"
    },
    "tags": []
   },
   "outputs": [],
   "source": [
    "sales = cudf.merge(df, customer, on = \"customer_id\", how = 'left')\n",
    "sales = sales[sales.t_dat >= Date_week2]"
   ]
  },
  {
   "cell_type": "code",
   "execution_count": 59,
   "id": "e6f0593f",
   "metadata": {
    "execution": {
     "iopub.execute_input": "2022-03-27T09:24:00.371931Z",
     "iopub.status.busy": "2022-03-27T09:24:00.371066Z",
     "iopub.status.idle": "2022-03-27T09:24:00.393230Z",
     "shell.execute_reply": "2022-03-27T09:24:00.392499Z",
     "shell.execute_reply.started": "2022-03-27T08:35:30.246365Z"
    },
    "papermill": {
     "duration": 0.193266,
     "end_time": "2022-03-27T09:24:00.393371",
     "exception": false,
     "start_time": "2022-03-27T09:24:00.200105",
     "status": "completed"
    },
    "tags": []
   },
   "outputs": [],
   "source": [
    "sales = sales.fillna(0)"
   ]
  },
  {
   "cell_type": "code",
   "execution_count": 60,
   "id": "daa79b9f",
   "metadata": {
    "execution": {
     "iopub.execute_input": "2022-03-27T09:24:00.734188Z",
     "iopub.status.busy": "2022-03-27T09:24:00.733122Z",
     "iopub.status.idle": "2022-03-27T09:24:01.114754Z",
     "shell.execute_reply": "2022-03-27T09:24:01.115282Z",
     "shell.execute_reply.started": "2022-03-27T08:35:30.337112Z"
    },
    "papermill": {
     "duration": 0.553335,
     "end_time": "2022-03-27T09:24:01.115453",
     "exception": false,
     "start_time": "2022-03-27T09:24:00.562118",
     "status": "completed"
    },
    "tags": []
   },
   "outputs": [
    {
     "data": {
      "text/plain": [
       "<AxesSubplot:>"
      ]
     },
     "execution_count": 60,
     "metadata": {},
     "output_type": "execute_result"
    },
    {
     "data": {
      "image/png": "[encoded data removed]",
      "text/plain": [
       "<Figure size 432x288 with 1 Axes>"
      ]
     },
     "metadata": {
      "needs_background": "light"
     },
     "output_type": "display_data"
    }
   ],
   "source": [
    "sales.to_pandas()[\"age\"].hist()"
   ]
  },
  {
   "cell_type": "code",
   "execution_count": 61,
   "id": "d9433d9c",
   "metadata": {
    "execution": {
     "iopub.execute_input": "2022-03-27T09:24:01.476513Z",
     "iopub.status.busy": "2022-03-27T09:24:01.475422Z",
     "iopub.status.idle": "2022-03-27T09:24:01.573006Z",
     "shell.execute_reply": "2022-03-27T09:24:01.573570Z",
     "shell.execute_reply.started": "2022-03-27T08:35:30.652185Z"
    },
    "papermill": {
     "duration": 0.291455,
     "end_time": "2022-03-27T09:24:01.573750",
     "exception": false,
     "start_time": "2022-03-27T09:24:01.282295",
     "status": "completed"
    },
    "tags": []
   },
   "outputs": [
    {
     "data": {
      "text/html": [
       "<div>\n",
       "<style scoped>\n",
       "    .dataframe tbody tr th:only-of-type {\n",
       "        vertical-align: middle;\n",
       "    }\n",
       "\n",
       "    .dataframe tbody tr th {\n",
       "        vertical-align: top;\n",
       "    }\n",
       "\n",
       "    .dataframe thead th {\n",
       "        text-align: right;\n",
       "    }\n",
       "</style>\n",
       "<table border=\"1\" class=\"dataframe\">\n",
       "  <thead>\n",
       "    <tr style=\"text-align: right;\">\n",
       "      <th></th>\n",
       "      <th>t_dat</th>\n",
       "      <th>customer_id</th>\n",
       "      <th>article_id</th>\n",
       "      <th>price</th>\n",
       "      <th>sales_channel_id</th>\n",
       "      <th>FN</th>\n",
       "      <th>Active</th>\n",
       "      <th>club_member_status</th>\n",
       "      <th>fashion_news_frequency</th>\n",
       "      <th>age</th>\n",
       "      <th>postal_code</th>\n",
       "    </tr>\n",
       "  </thead>\n",
       "  <tbody>\n",
       "    <tr>\n",
       "      <th>31266944</th>\n",
       "      <td>2020-09-09</td>\n",
       "      <td>7127530381098855476</td>\n",
       "      <td>859617002</td>\n",
       "      <td>0.041322</td>\n",
       "      <td>2</td>\n",
       "      <td>1.0</td>\n",
       "      <td>1.0</td>\n",
       "      <td>ACTIVE</td>\n",
       "      <td>Regularly</td>\n",
       "      <td>28.0</td>\n",
       "      <td>f53afc73f043d01132609bf12410db354acf4c7435c58f...</td>\n",
       "    </tr>\n",
       "    <tr>\n",
       "      <th>31266945</th>\n",
       "      <td>2020-09-09</td>\n",
       "      <td>6674289707041561741</td>\n",
       "      <td>914805002</td>\n",
       "      <td>0.050831</td>\n",
       "      <td>2</td>\n",
       "      <td>1.0</td>\n",
       "      <td>1.0</td>\n",
       "      <td>ACTIVE</td>\n",
       "      <td>Regularly</td>\n",
       "      <td>21.0</td>\n",
       "      <td>7ee0cd11b888fbb6abf81cc5fa1653a8ee8077716947db...</td>\n",
       "    </tr>\n",
       "    <tr>\n",
       "      <th>31266946</th>\n",
       "      <td>2020-09-09</td>\n",
       "      <td>7127530381098855476</td>\n",
       "      <td>832458001</td>\n",
       "      <td>0.016525</td>\n",
       "      <td>2</td>\n",
       "      <td>1.0</td>\n",
       "      <td>1.0</td>\n",
       "      <td>ACTIVE</td>\n",
       "      <td>Regularly</td>\n",
       "      <td>28.0</td>\n",
       "      <td>f53afc73f043d01132609bf12410db354acf4c7435c58f...</td>\n",
       "    </tr>\n",
       "    <tr>\n",
       "      <th>31266947</th>\n",
       "      <td>2020-09-09</td>\n",
       "      <td>-5017410926558190377</td>\n",
       "      <td>877599002</td>\n",
       "      <td>0.018627</td>\n",
       "      <td>1</td>\n",
       "      <td>0.0</td>\n",
       "      <td>0.0</td>\n",
       "      <td>ACTIVE</td>\n",
       "      <td>NONE</td>\n",
       "      <td>25.0</td>\n",
       "      <td>90b7de040938d177041c86b475f508cb08f5bfbfef730a...</td>\n",
       "    </tr>\n",
       "    <tr>\n",
       "      <th>31266948</th>\n",
       "      <td>2020-09-09</td>\n",
       "      <td>7127530381098855476</td>\n",
       "      <td>914404001</td>\n",
       "      <td>0.041322</td>\n",
       "      <td>2</td>\n",
       "      <td>1.0</td>\n",
       "      <td>1.0</td>\n",
       "      <td>ACTIVE</td>\n",
       "      <td>Regularly</td>\n",
       "      <td>28.0</td>\n",
       "      <td>f53afc73f043d01132609bf12410db354acf4c7435c58f...</td>\n",
       "    </tr>\n",
       "    <tr>\n",
       "      <th>...</th>\n",
       "      <td>...</td>\n",
       "      <td>...</td>\n",
       "      <td>...</td>\n",
       "      <td>...</td>\n",
       "      <td>...</td>\n",
       "      <td>...</td>\n",
       "      <td>...</td>\n",
       "      <td>...</td>\n",
       "      <td>...</td>\n",
       "      <td>...</td>\n",
       "      <td>...</td>\n",
       "    </tr>\n",
       "    <tr>\n",
       "      <th>31548008</th>\n",
       "      <td>2020-09-15</td>\n",
       "      <td>-6427941934161059261</td>\n",
       "      <td>536139067</td>\n",
       "      <td>0.016932</td>\n",
       "      <td>1</td>\n",
       "      <td>0.0</td>\n",
       "      <td>0.0</td>\n",
       "      <td>ACTIVE</td>\n",
       "      <td>NONE</td>\n",
       "      <td>25.0</td>\n",
       "      <td>509fa1aa3f780986d00e233935059f5ca07b658f47912b...</td>\n",
       "    </tr>\n",
       "    <tr>\n",
       "      <th>31548009</th>\n",
       "      <td>2020-09-15</td>\n",
       "      <td>-2906181681434937533</td>\n",
       "      <td>889574009</td>\n",
       "      <td>0.010153</td>\n",
       "      <td>1</td>\n",
       "      <td>1.0</td>\n",
       "      <td>1.0</td>\n",
       "      <td>ACTIVE</td>\n",
       "      <td>Regularly</td>\n",
       "      <td>53.0</td>\n",
       "      <td>cbec264feccfd2b2f4fc2952613ce30a8336a6b1eca43c...</td>\n",
       "    </tr>\n",
       "    <tr>\n",
       "      <th>31548010</th>\n",
       "      <td>2020-09-15</td>\n",
       "      <td>6055964384479180517</td>\n",
       "      <td>936610001</td>\n",
       "      <td>0.042356</td>\n",
       "      <td>1</td>\n",
       "      <td>1.0</td>\n",
       "      <td>1.0</td>\n",
       "      <td>ACTIVE</td>\n",
       "      <td>Regularly</td>\n",
       "      <td>25.0</td>\n",
       "      <td>f4144c30359640930be01f55cd47be44ad6e799e80bf1a...</td>\n",
       "    </tr>\n",
       "    <tr>\n",
       "      <th>31548011</th>\n",
       "      <td>2020-09-15</td>\n",
       "      <td>4656377451867638708</td>\n",
       "      <td>903926002</td>\n",
       "      <td>0.050831</td>\n",
       "      <td>2</td>\n",
       "      <td>1.0</td>\n",
       "      <td>1.0</td>\n",
       "      <td>ACTIVE</td>\n",
       "      <td>Regularly</td>\n",
       "      <td>45.0</td>\n",
       "      <td>1e4dc84725cfc12ae6b64da787a1d918b960772ffcbc1f...</td>\n",
       "    </tr>\n",
       "    <tr>\n",
       "      <th>31548012</th>\n",
       "      <td>2020-09-15</td>\n",
       "      <td>8959927073256559032</td>\n",
       "      <td>909370001</td>\n",
       "      <td>0.033881</td>\n",
       "      <td>1</td>\n",
       "      <td>0.0</td>\n",
       "      <td>0.0</td>\n",
       "      <td>ACTIVE</td>\n",
       "      <td>NONE</td>\n",
       "      <td>24.0</td>\n",
       "      <td>c5728d79840d44cc00b4386113bf6c4ff9426f9c147c68...</td>\n",
       "    </tr>\n",
       "  </tbody>\n",
       "</table>\n",
       "<p>255241 rows × 11 columns</p>\n",
       "</div>"
      ],
      "text/plain": [
       "              t_dat          customer_id  article_id     price  \\\n",
       "31266944 2020-09-09  7127530381098855476   859617002  0.041322   \n",
       "31266945 2020-09-09  6674289707041561741   914805002  0.050831   \n",
       "31266946 2020-09-09  7127530381098855476   832458001  0.016525   \n",
       "31266947 2020-09-09 -5017410926558190377   877599002  0.018627   \n",
       "31266948 2020-09-09  7127530381098855476   914404001  0.041322   \n",
       "...             ...                  ...         ...       ...   \n",
       "31548008 2020-09-15 -6427941934161059261   536139067  0.016932   \n",
       "31548009 2020-09-15 -2906181681434937533   889574009  0.010153   \n",
       "31548010 2020-09-15  6055964384479180517   936610001  0.042356   \n",
       "31548011 2020-09-15  4656377451867638708   903926002  0.050831   \n",
       "31548012 2020-09-15  8959927073256559032   909370001  0.033881   \n",
       "\n",
       "          sales_channel_id   FN  Active club_member_status  \\\n",
       "31266944                 2  1.0     1.0             ACTIVE   \n",
       "31266945                 2  1.0     1.0             ACTIVE   \n",
       "31266946                 2  1.0     1.0             ACTIVE   \n",
       "31266947                 1  0.0     0.0             ACTIVE   \n",
       "31266948                 2  1.0     1.0             ACTIVE   \n",
       "...                    ...  ...     ...                ...   \n",
       "31548008                 1  0.0     0.0             ACTIVE   \n",
       "31548009                 1  1.0     1.0             ACTIVE   \n",
       "31548010                 1  1.0     1.0             ACTIVE   \n",
       "31548011                 2  1.0     1.0             ACTIVE   \n",
       "31548012                 1  0.0     0.0             ACTIVE   \n",
       "\n",
       "         fashion_news_frequency   age  \\\n",
       "31266944              Regularly  28.0   \n",
       "31266945              Regularly  21.0   \n",
       "31266946              Regularly  28.0   \n",
       "31266947                   NONE  25.0   \n",
       "31266948              Regularly  28.0   \n",
       "...                         ...   ...   \n",
       "31548008                   NONE  25.0   \n",
       "31548009              Regularly  53.0   \n",
       "31548010              Regularly  25.0   \n",
       "31548011              Regularly  45.0   \n",
       "31548012                   NONE  24.0   \n",
       "\n",
       "                                                postal_code  \n",
       "31266944  f53afc73f043d01132609bf12410db354acf4c7435c58f...  \n",
       "31266945  7ee0cd11b888fbb6abf81cc5fa1653a8ee8077716947db...  \n",
       "31266946  f53afc73f043d01132609bf12410db354acf4c7435c58f...  \n",
       "31266947  90b7de040938d177041c86b475f508cb08f5bfbfef730a...  \n",
       "31266948  f53afc73f043d01132609bf12410db354acf4c7435c58f...  \n",
       "...                                                     ...  \n",
       "31548008  509fa1aa3f780986d00e233935059f5ca07b658f47912b...  \n",
       "31548009  cbec264feccfd2b2f4fc2952613ce30a8336a6b1eca43c...  \n",
       "31548010  f4144c30359640930be01f55cd47be44ad6e799e80bf1a...  \n",
       "31548011  1e4dc84725cfc12ae6b64da787a1d918b960772ffcbc1f...  \n",
       "31548012  c5728d79840d44cc00b4386113bf6c4ff9426f9c147c68...  \n",
       "\n",
       "[255241 rows x 11 columns]"
      ]
     },
     "execution_count": 61,
     "metadata": {},
     "output_type": "execute_result"
    }
   ],
   "source": [
    "sales"
   ]
  },
  {
   "cell_type": "code",
   "execution_count": 62,
   "id": "4c671453",
   "metadata": {
    "execution": {
     "iopub.execute_input": "2022-03-27T09:24:01.917064Z",
     "iopub.status.busy": "2022-03-27T09:24:01.916018Z",
     "iopub.status.idle": "2022-03-27T09:24:01.941367Z",
     "shell.execute_reply": "2022-03-27T09:24:01.940817Z",
     "shell.execute_reply.started": "2022-03-27T08:35:30.742491Z"
    },
    "papermill": {
     "duration": 0.198037,
     "end_time": "2022-03-27T09:24:01.941489",
     "exception": false,
     "start_time": "2022-03-27T09:24:01.743452",
     "status": "completed"
    },
    "tags": []
   },
   "outputs": [],
   "source": [
    "target_sales = sales[[\"article_id\", \"customer_id\"]].groupby('article_id')[\"customer_id\"].count()\n",
    "general_pred = target_sales.nlargest(N, keep = \"first\").index.to_pandas().tolist()\n",
    "general_pred = ['0' + str(article_id) for article_id in general_pred]\n",
    "general_pred_str =  ' '.join(general_pred)\n",
    "del target_sales"
   ]
  },
  {
   "cell_type": "code",
   "execution_count": 63,
   "id": "671c93dc",
   "metadata": {
    "execution": {
     "iopub.execute_input": "2022-03-27T09:24:02.285046Z",
     "iopub.status.busy": "2022-03-27T09:24:02.284039Z",
     "iopub.status.idle": "2022-03-27T09:24:02.290166Z",
     "shell.execute_reply": "2022-03-27T09:24:02.289412Z",
     "shell.execute_reply.started": "2022-03-27T08:35:30.766260Z"
    },
    "papermill": {
     "duration": 0.182079,
     "end_time": "2022-03-27T09:24:02.290384",
     "exception": false,
     "start_time": "2022-03-27T09:24:02.108305",
     "status": "completed"
    },
    "tags": []
   },
   "outputs": [
    {
     "data": {
      "text/plain": [
       "'0909370001 0865799006 0918522001 0924243001 0448509014 0751471001 0809238001 0918292001 0762846027 0809238005 0673677002 0923758001'"
      ]
     },
     "execution_count": 63,
     "metadata": {},
     "output_type": "execute_result"
    }
   ],
   "source": [
    "general_pred_str"
   ]
  },
  {
   "cell_type": "code",
   "execution_count": 64,
   "id": "a5275842",
   "metadata": {
    "execution": {
     "iopub.execute_input": "2022-03-27T09:24:02.641355Z",
     "iopub.status.busy": "2022-03-27T09:24:02.639108Z",
     "iopub.status.idle": "2022-03-27T09:24:02.642109Z",
     "shell.execute_reply": "2022-03-27T09:24:02.642629Z",
     "shell.execute_reply.started": "2022-03-27T08:35:30.774755Z"
    },
    "papermill": {
     "duration": 0.175655,
     "end_time": "2022-03-27T09:24:02.642777",
     "exception": false,
     "start_time": "2022-03-27T09:24:02.467122",
     "status": "completed"
    },
    "tags": []
   },
   "outputs": [],
   "source": [
    "#sales.age = sales.age.astype(\"float32\")"
   ]
  },
  {
   "cell_type": "code",
   "execution_count": 65,
   "id": "a381a72b",
   "metadata": {
    "execution": {
     "iopub.execute_input": "2022-03-27T09:24:02.985193Z",
     "iopub.status.busy": "2022-03-27T09:24:02.984116Z",
     "iopub.status.idle": "2022-03-27T09:24:03.083581Z",
     "shell.execute_reply": "2022-03-27T09:24:03.082995Z",
     "shell.execute_reply.started": "2022-03-27T08:35:30.780919Z"
    },
    "papermill": {
     "duration": 0.272261,
     "end_time": "2022-03-27T09:24:03.083725",
     "exception": false,
     "start_time": "2022-03-27T09:24:02.811464",
     "status": "completed"
    },
    "tags": []
   },
   "outputs": [],
   "source": [
    "age_type = pd.cut(sales.to_pandas()[\"age\"], bins = np.array([0, 21, 24, 27, 30, 35, 40, 45, 50, 60, 100], dtype = \"int32\"), right = True)"
   ]
  },
  {
   "cell_type": "code",
   "execution_count": 66,
   "id": "03a2f20e",
   "metadata": {
    "execution": {
     "iopub.execute_input": "2022-03-27T09:24:03.421747Z",
     "iopub.status.busy": "2022-03-27T09:24:03.420685Z",
     "iopub.status.idle": "2022-03-27T09:24:04.695391Z",
     "shell.execute_reply": "2022-03-27T09:24:04.694769Z",
     "shell.execute_reply.started": "2022-03-27T08:35:30.866040Z"
    },
    "papermill": {
     "duration": 1.447602,
     "end_time": "2022-03-27T09:24:04.695532",
     "exception": false,
     "start_time": "2022-03-27T09:24:03.247930",
     "status": "completed"
    },
    "tags": []
   },
   "outputs": [],
   "source": [
    "sales[\"age_type\"] = age_type.astype(\"string\")"
   ]
  },
  {
   "cell_type": "code",
   "execution_count": 67,
   "id": "ec139c25",
   "metadata": {
    "execution": {
     "iopub.execute_input": "2022-03-27T09:24:05.047737Z",
     "iopub.status.busy": "2022-03-27T09:24:05.046585Z",
     "iopub.status.idle": "2022-03-27T09:24:05.065868Z",
     "shell.execute_reply": "2022-03-27T09:24:05.065310Z",
     "shell.execute_reply.started": "2022-03-27T08:35:31.989286Z"
    },
    "papermill": {
     "duration": 0.198784,
     "end_time": "2022-03-27T09:24:05.066128",
     "exception": false,
     "start_time": "2022-03-27T09:24:04.867344",
     "status": "completed"
    },
    "tags": []
   },
   "outputs": [],
   "source": [
    "summary = sales.groupby([\"fashion_news_frequency\", \"age_type\", \"article_id\"])[\"postal_code\"].count().\\\n",
    "reset_index().rename({\"postal_code\":\"count\"}, axis = 1)"
   ]
  },
  {
   "cell_type": "code",
   "execution_count": 68,
   "id": "851316b9",
   "metadata": {
    "execution": {
     "iopub.execute_input": "2022-03-27T09:24:05.516269Z",
     "iopub.status.busy": "2022-03-27T09:24:05.514980Z",
     "iopub.status.idle": "2022-03-27T09:24:05.636497Z",
     "shell.execute_reply": "2022-03-27T09:24:05.637670Z",
     "shell.execute_reply.started": "2022-03-27T08:35:32.010204Z"
    },
    "papermill": {
     "duration": 0.402538,
     "end_time": "2022-03-27T09:24:05.637915",
     "exception": false,
     "start_time": "2022-03-27T09:24:05.235377",
     "status": "completed"
    },
    "tags": []
   },
   "outputs": [
    {
     "data": {
      "text/html": [
       "<div>\n",
       "<style scoped>\n",
       "    .dataframe tbody tr th:only-of-type {\n",
       "        vertical-align: middle;\n",
       "    }\n",
       "\n",
       "    .dataframe tbody tr th {\n",
       "        vertical-align: top;\n",
       "    }\n",
       "\n",
       "    .dataframe thead th {\n",
       "        text-align: right;\n",
       "    }\n",
       "</style>\n",
       "<table border=\"1\" class=\"dataframe\">\n",
       "  <thead>\n",
       "    <tr style=\"text-align: right;\">\n",
       "      <th></th>\n",
       "      <th>fashion_news_frequency</th>\n",
       "      <th>age_type</th>\n",
       "      <th>article_id</th>\n",
       "      <th>count</th>\n",
       "    </tr>\n",
       "  </thead>\n",
       "  <tbody>\n",
       "    <tr>\n",
       "      <th>2</th>\n",
       "      <td>NONE</td>\n",
       "      <td>(24.0, 27.0]</td>\n",
       "      <td>675070013</td>\n",
       "      <td>1</td>\n",
       "    </tr>\n",
       "    <tr>\n",
       "      <th>3</th>\n",
       "      <td>NONE</td>\n",
       "      <td>(24.0, 27.0]</td>\n",
       "      <td>781135004</td>\n",
       "      <td>1</td>\n",
       "    </tr>\n",
       "    <tr>\n",
       "      <th>4</th>\n",
       "      <td>Regularly</td>\n",
       "      <td>(40.0, 45.0]</td>\n",
       "      <td>919160001</td>\n",
       "      <td>1</td>\n",
       "    </tr>\n",
       "    <tr>\n",
       "      <th>6</th>\n",
       "      <td>Regularly</td>\n",
       "      <td>(0.0, 21.0]</td>\n",
       "      <td>862325004</td>\n",
       "      <td>1</td>\n",
       "    </tr>\n",
       "    <tr>\n",
       "      <th>8</th>\n",
       "      <td>NONE</td>\n",
       "      <td>(50.0, 60.0]</td>\n",
       "      <td>865076004</td>\n",
       "      <td>1</td>\n",
       "    </tr>\n",
       "    <tr>\n",
       "      <th>...</th>\n",
       "      <td>...</td>\n",
       "      <td>...</td>\n",
       "      <td>...</td>\n",
       "      <td>...</td>\n",
       "    </tr>\n",
       "    <tr>\n",
       "      <th>2635</th>\n",
       "      <td>Regularly</td>\n",
       "      <td>(21.0, 24.0]</td>\n",
       "      <td>909370001</td>\n",
       "      <td>112</td>\n",
       "    </tr>\n",
       "    <tr>\n",
       "      <th>67196</th>\n",
       "      <td>NONE</td>\n",
       "      <td>(21.0, 24.0]</td>\n",
       "      <td>909370001</td>\n",
       "      <td>114</td>\n",
       "    </tr>\n",
       "    <tr>\n",
       "      <th>76967</th>\n",
       "      <td>NONE</td>\n",
       "      <td>(27.0, 30.0]</td>\n",
       "      <td>909370001</td>\n",
       "      <td>114</td>\n",
       "    </tr>\n",
       "    <tr>\n",
       "      <th>86330</th>\n",
       "      <td>Regularly</td>\n",
       "      <td>(24.0, 27.0]</td>\n",
       "      <td>909370001</td>\n",
       "      <td>117</td>\n",
       "    </tr>\n",
       "    <tr>\n",
       "      <th>1906</th>\n",
       "      <td>NONE</td>\n",
       "      <td>(24.0, 27.0]</td>\n",
       "      <td>909370001</td>\n",
       "      <td>139</td>\n",
       "    </tr>\n",
       "  </tbody>\n",
       "</table>\n",
       "<p>94093 rows × 4 columns</p>\n",
       "</div>"
      ],
      "text/plain": [
       "      fashion_news_frequency      age_type  article_id  count\n",
       "2                       NONE  (24.0, 27.0]   675070013      1\n",
       "3                       NONE  (24.0, 27.0]   781135004      1\n",
       "4                  Regularly  (40.0, 45.0]   919160001      1\n",
       "6                  Regularly   (0.0, 21.0]   862325004      1\n",
       "8                       NONE  (50.0, 60.0]   865076004      1\n",
       "...                      ...           ...         ...    ...\n",
       "2635               Regularly  (21.0, 24.0]   909370001    112\n",
       "67196                   NONE  (21.0, 24.0]   909370001    114\n",
       "76967                   NONE  (27.0, 30.0]   909370001    114\n",
       "86330              Regularly  (24.0, 27.0]   909370001    117\n",
       "1906                    NONE  (24.0, 27.0]   909370001    139\n",
       "\n",
       "[94093 rows x 4 columns]"
      ]
     },
     "execution_count": 68,
     "metadata": {},
     "output_type": "execute_result"
    }
   ],
   "source": [
    "summary.sort_values(by = [\"count\"])"
   ]
  },
  {
   "cell_type": "code",
   "execution_count": 69,
   "id": "85780f0e",
   "metadata": {
    "execution": {
     "iopub.execute_input": "2022-03-27T09:24:06.161120Z",
     "iopub.status.busy": "2022-03-27T09:24:06.160074Z",
     "iopub.status.idle": "2022-03-27T09:24:06.200033Z",
     "shell.execute_reply": "2022-03-27T09:24:06.199309Z",
     "shell.execute_reply.started": "2022-03-27T08:35:32.071076Z"
    },
    "papermill": {
     "duration": 0.267293,
     "end_time": "2022-03-27T09:24:06.200198",
     "exception": false,
     "start_time": "2022-03-27T09:24:05.932905",
     "status": "completed"
    },
    "tags": []
   },
   "outputs": [],
   "source": [
    "summary[\"total_count\"] = summary.to_pandas().groupby([\"fashion_news_frequency\", \"age_type\"])[\"count\"].transform(sum)"
   ]
  },
  {
   "cell_type": "code",
   "execution_count": 70,
   "id": "008e4544",
   "metadata": {
    "execution": {
     "iopub.execute_input": "2022-03-27T09:24:06.557066Z",
     "iopub.status.busy": "2022-03-27T09:24:06.555858Z",
     "iopub.status.idle": "2022-03-27T09:24:06.560191Z",
     "shell.execute_reply": "2022-03-27T09:24:06.560765Z",
     "shell.execute_reply.started": "2022-03-27T08:35:32.104847Z"
    },
    "papermill": {
     "duration": 0.182788,
     "end_time": "2022-03-27T09:24:06.560931",
     "exception": false,
     "start_time": "2022-03-27T09:24:06.378143",
     "status": "completed"
    },
    "tags": []
   },
   "outputs": [],
   "source": [
    "summary[\"score\"] = summary[\"count\"]/summary[\"total_count\"]"
   ]
  },
  {
   "cell_type": "code",
   "execution_count": 71,
   "id": "60e97633",
   "metadata": {
    "execution": {
     "iopub.execute_input": "2022-03-27T09:24:06.902935Z",
     "iopub.status.busy": "2022-03-27T09:24:06.901868Z",
     "iopub.status.idle": "2022-03-27T09:24:06.904366Z",
     "shell.execute_reply": "2022-03-27T09:24:06.904934Z",
     "shell.execute_reply.started": "2022-03-27T08:35:32.112387Z"
    },
    "papermill": {
     "duration": 0.175621,
     "end_time": "2022-03-27T09:24:06.905150",
     "exception": false,
     "start_time": "2022-03-27T09:24:06.729529",
     "status": "completed"
    },
    "tags": []
   },
   "outputs": [],
   "source": [
    "summary = cudf.DataFrame(summary)"
   ]
  },
  {
   "cell_type": "code",
   "execution_count": 72,
   "id": "926b68fd",
   "metadata": {
    "execution": {
     "iopub.execute_input": "2022-03-27T09:24:07.249431Z",
     "iopub.status.busy": "2022-03-27T09:24:07.248438Z",
     "iopub.status.idle": "2022-03-27T09:24:07.339484Z",
     "shell.execute_reply": "2022-03-27T09:24:07.340290Z",
     "shell.execute_reply.started": "2022-03-27T08:35:32.119637Z"
    },
    "papermill": {
     "duration": 0.266203,
     "end_time": "2022-03-27T09:24:07.340526",
     "exception": false,
     "start_time": "2022-03-27T09:24:07.074323",
     "status": "completed"
    },
    "tags": []
   },
   "outputs": [
    {
     "data": {
      "text/html": [
       "<div>\n",
       "<style scoped>\n",
       "    .dataframe tbody tr th:only-of-type {\n",
       "        vertical-align: middle;\n",
       "    }\n",
       "\n",
       "    .dataframe tbody tr th {\n",
       "        vertical-align: top;\n",
       "    }\n",
       "\n",
       "    .dataframe thead th {\n",
       "        text-align: right;\n",
       "    }\n",
       "</style>\n",
       "<table border=\"1\" class=\"dataframe\">\n",
       "  <thead>\n",
       "    <tr style=\"text-align: right;\">\n",
       "      <th></th>\n",
       "      <th>fashion_news_frequency</th>\n",
       "      <th>age_type</th>\n",
       "      <th>article_id</th>\n",
       "      <th>count</th>\n",
       "      <th>total_count</th>\n",
       "      <th>score</th>\n",
       "    </tr>\n",
       "  </thead>\n",
       "  <tbody>\n",
       "    <tr>\n",
       "      <th>70560</th>\n",
       "      <td>NONE</td>\n",
       "      <td>(30.0, 35.0]</td>\n",
       "      <td>108775044</td>\n",
       "      <td>1</td>\n",
       "      <td>16446</td>\n",
       "      <td>0.000061</td>\n",
       "    </tr>\n",
       "    <tr>\n",
       "      <th>92656</th>\n",
       "      <td>NONE</td>\n",
       "      <td>(50.0, 60.0]</td>\n",
       "      <td>108775044</td>\n",
       "      <td>2</td>\n",
       "      <td>17777</td>\n",
       "      <td>0.000113</td>\n",
       "    </tr>\n",
       "    <tr>\n",
       "      <th>18045</th>\n",
       "      <td>NONE</td>\n",
       "      <td>(45.0, 50.0]</td>\n",
       "      <td>111565001</td>\n",
       "      <td>1</td>\n",
       "      <td>12402</td>\n",
       "      <td>0.000081</td>\n",
       "    </tr>\n",
       "    <tr>\n",
       "      <th>28623</th>\n",
       "      <td>Regularly</td>\n",
       "      <td>(24.0, 27.0]</td>\n",
       "      <td>111565001</td>\n",
       "      <td>1</td>\n",
       "      <td>14442</td>\n",
       "      <td>0.000069</td>\n",
       "    </tr>\n",
       "    <tr>\n",
       "      <th>66580</th>\n",
       "      <td>NONE</td>\n",
       "      <td>(40.0, 45.0]</td>\n",
       "      <td>111565001</td>\n",
       "      <td>1</td>\n",
       "      <td>8065</td>\n",
       "      <td>0.000124</td>\n",
       "    </tr>\n",
       "    <tr>\n",
       "      <th>...</th>\n",
       "      <td>...</td>\n",
       "      <td>...</td>\n",
       "      <td>...</td>\n",
       "      <td>...</td>\n",
       "      <td>...</td>\n",
       "      <td>...</td>\n",
       "    </tr>\n",
       "    <tr>\n",
       "      <th>82246</th>\n",
       "      <td>Regularly</td>\n",
       "      <td>(50.0, 60.0]</td>\n",
       "      <td>956217002</td>\n",
       "      <td>1</td>\n",
       "      <td>17613</td>\n",
       "      <td>0.000057</td>\n",
       "    </tr>\n",
       "    <tr>\n",
       "      <th>84577</th>\n",
       "      <td>Regularly</td>\n",
       "      <td>(60.0, 100.0]</td>\n",
       "      <td>956217002</td>\n",
       "      <td>1</td>\n",
       "      <td>6074</td>\n",
       "      <td>0.000165</td>\n",
       "    </tr>\n",
       "    <tr>\n",
       "      <th>88549</th>\n",
       "      <td>Regularly</td>\n",
       "      <td>(21.0, 24.0]</td>\n",
       "      <td>956217002</td>\n",
       "      <td>2</td>\n",
       "      <td>15838</td>\n",
       "      <td>0.000126</td>\n",
       "    </tr>\n",
       "    <tr>\n",
       "      <th>554</th>\n",
       "      <td>NONE</td>\n",
       "      <td>(50.0, 60.0]</td>\n",
       "      <td>956217002</td>\n",
       "      <td>3</td>\n",
       "      <td>17777</td>\n",
       "      <td>0.000169</td>\n",
       "    </tr>\n",
       "    <tr>\n",
       "      <th>46392</th>\n",
       "      <td>NONE</td>\n",
       "      <td>(45.0, 50.0]</td>\n",
       "      <td>956217002</td>\n",
       "      <td>3</td>\n",
       "      <td>12402</td>\n",
       "      <td>0.000242</td>\n",
       "    </tr>\n",
       "  </tbody>\n",
       "</table>\n",
       "<p>94093 rows × 6 columns</p>\n",
       "</div>"
      ],
      "text/plain": [
       "      fashion_news_frequency       age_type  article_id  count  total_count  \\\n",
       "70560                   NONE   (30.0, 35.0]   108775044      1        16446   \n",
       "92656                   NONE   (50.0, 60.0]   108775044      2        17777   \n",
       "18045                   NONE   (45.0, 50.0]   111565001      1        12402   \n",
       "28623              Regularly   (24.0, 27.0]   111565001      1        14442   \n",
       "66580                   NONE   (40.0, 45.0]   111565001      1         8065   \n",
       "...                      ...            ...         ...    ...          ...   \n",
       "82246              Regularly   (50.0, 60.0]   956217002      1        17613   \n",
       "84577              Regularly  (60.0, 100.0]   956217002      1         6074   \n",
       "88549              Regularly   (21.0, 24.0]   956217002      2        15838   \n",
       "554                     NONE   (50.0, 60.0]   956217002      3        17777   \n",
       "46392                   NONE   (45.0, 50.0]   956217002      3        12402   \n",
       "\n",
       "          score  \n",
       "70560  0.000061  \n",
       "92656  0.000113  \n",
       "18045  0.000081  \n",
       "28623  0.000069  \n",
       "66580  0.000124  \n",
       "...         ...  \n",
       "82246  0.000057  \n",
       "84577  0.000165  \n",
       "88549  0.000126  \n",
       "554    0.000169  \n",
       "46392  0.000242  \n",
       "\n",
       "[94093 rows x 6 columns]"
      ]
     },
     "execution_count": 72,
     "metadata": {},
     "output_type": "execute_result"
    }
   ],
   "source": [
    "summary.sort_values(by = [\"article_id\", \"count\"])"
   ]
  },
  {
   "cell_type": "code",
   "execution_count": 73,
   "id": "56ec4d73",
   "metadata": {
    "execution": {
     "iopub.execute_input": "2022-03-27T09:24:07.695692Z",
     "iopub.status.busy": "2022-03-27T09:24:07.694703Z",
     "iopub.status.idle": "2022-03-27T09:24:07.743368Z",
     "shell.execute_reply": "2022-03-27T09:24:07.742740Z",
     "shell.execute_reply.started": "2022-03-27T08:35:32.189387Z"
    },
    "papermill": {
     "duration": 0.228186,
     "end_time": "2022-03-27T09:24:07.743536",
     "exception": false,
     "start_time": "2022-03-27T09:24:07.515350",
     "status": "completed"
    },
    "tags": []
   },
   "outputs": [],
   "source": [
    "summary['rank'] = summary.to_pandas().groupby([\"fashion_news_frequency\", \"age_type\"])[\"score\"].rank(\"dense\", ascending=False)\n",
    "summary = summary.loc[summary['rank'] <= 12]"
   ]
  },
  {
   "cell_type": "code",
   "execution_count": 74,
   "id": "cc65ceb9",
   "metadata": {
    "execution": {
     "iopub.execute_input": "2022-03-27T09:24:08.095396Z",
     "iopub.status.busy": "2022-03-27T09:24:08.094500Z",
     "iopub.status.idle": "2022-03-27T09:24:10.786997Z",
     "shell.execute_reply": "2022-03-27T09:24:10.786057Z",
     "shell.execute_reply.started": "2022-03-27T08:35:32.233264Z"
    },
    "papermill": {
     "duration": 2.870908,
     "end_time": "2022-03-27T09:24:10.787171",
     "exception": false,
     "start_time": "2022-03-27T09:24:07.916263",
     "status": "completed"
    },
    "tags": []
   },
   "outputs": [
    {
     "name": "stdout",
     "output_type": "stream",
     "text": [
      "CPU times: user 104 ms, sys: 149 ms, total: 253 ms\n",
      "Wall time: 2.69 s\n"
     ]
    }
   ],
   "source": [
    "%%time\n",
    "sub  = cudf.read_csv('../input/h-and-m-personalized-fashion-recommendations/sample_submission.csv',\n",
    "                            usecols= ['customer_id'], \n",
    "                            dtype={'customer_id': 'string'})\n",
    "\n",
    "sub['customer_id2'] = sub['customer_id'].str[-16:].str.hex_to_int().astype('int64')\n",
    "sub = sub.rename(columns = {'customer_id2':'customer_id', 'customer_id':'customer_id2'})"
   ]
  },
  {
   "cell_type": "code",
   "execution_count": 75,
   "id": "73a8ecb5",
   "metadata": {
    "execution": {
     "iopub.execute_input": "2022-03-27T09:24:11.191154Z",
     "iopub.status.busy": "2022-03-27T09:24:11.190100Z",
     "iopub.status.idle": "2022-03-27T09:24:11.242103Z",
     "shell.execute_reply": "2022-03-27T09:24:11.241524Z",
     "shell.execute_reply.started": "2022-03-27T08:35:35.076590Z"
    },
    "papermill": {
     "duration": 0.240212,
     "end_time": "2022-03-27T09:24:11.242245",
     "exception": false,
     "start_time": "2022-03-27T09:24:11.002033",
     "status": "completed"
    },
    "tags": []
   },
   "outputs": [
    {
     "data": {
      "text/html": [
       "<div>\n",
       "<style scoped>\n",
       "    .dataframe tbody tr th:only-of-type {\n",
       "        vertical-align: middle;\n",
       "    }\n",
       "\n",
       "    .dataframe tbody tr th {\n",
       "        vertical-align: top;\n",
       "    }\n",
       "\n",
       "    .dataframe thead th {\n",
       "        text-align: right;\n",
       "    }\n",
       "</style>\n",
       "<table border=\"1\" class=\"dataframe\">\n",
       "  <thead>\n",
       "    <tr style=\"text-align: right;\">\n",
       "      <th></th>\n",
       "      <th>customer_id2</th>\n",
       "      <th>customer_id</th>\n",
       "    </tr>\n",
       "  </thead>\n",
       "  <tbody>\n",
       "    <tr>\n",
       "      <th>0</th>\n",
       "      <td>00000dbacae5abe5e23885899a1fa44253a17956c6d1c3...</td>\n",
       "      <td>6883939031699146327</td>\n",
       "    </tr>\n",
       "    <tr>\n",
       "      <th>1</th>\n",
       "      <td>0000423b00ade91418cceaf3b26c6af3dd342b51fd051e...</td>\n",
       "      <td>-7200416642310594310</td>\n",
       "    </tr>\n",
       "    <tr>\n",
       "      <th>2</th>\n",
       "      <td>000058a12d5b43e67d225668fa1f8d618c13dc232df0ca...</td>\n",
       "      <td>-6846340800584936</td>\n",
       "    </tr>\n",
       "    <tr>\n",
       "      <th>3</th>\n",
       "      <td>00005ca1c9ed5f5146b52ac8639a40ca9d57aeff4d1bd2...</td>\n",
       "      <td>-94071612138601410</td>\n",
       "    </tr>\n",
       "    <tr>\n",
       "      <th>4</th>\n",
       "      <td>00006413d8573cd20ed7128e53b7b13819fe5cfc2d801f...</td>\n",
       "      <td>-283965518499174310</td>\n",
       "    </tr>\n",
       "    <tr>\n",
       "      <th>...</th>\n",
       "      <td>...</td>\n",
       "      <td>...</td>\n",
       "    </tr>\n",
       "    <tr>\n",
       "      <th>1371975</th>\n",
       "      <td>ffffbbf78b6eaac697a8a5dfbfd2bfa8113ee5b403e474...</td>\n",
       "      <td>7551062398649767985</td>\n",
       "    </tr>\n",
       "    <tr>\n",
       "      <th>1371976</th>\n",
       "      <td>ffffcd5046a6143d29a04fb8c424ce494a76e5cdf4fab5...</td>\n",
       "      <td>-9141402131989464905</td>\n",
       "    </tr>\n",
       "    <tr>\n",
       "      <th>1371977</th>\n",
       "      <td>ffffcf35913a0bee60e8741cb2b4e78b8a98ee5ff2e6a1...</td>\n",
       "      <td>-8286316756823862684</td>\n",
       "    </tr>\n",
       "    <tr>\n",
       "      <th>1371978</th>\n",
       "      <td>ffffd7744cebcf3aca44ae7049d2a94b87074c3d4ffe38...</td>\n",
       "      <td>2551401172826382186</td>\n",
       "    </tr>\n",
       "    <tr>\n",
       "      <th>1371979</th>\n",
       "      <td>ffffd9ac14e89946416d80e791d064701994755c3ab686...</td>\n",
       "      <td>-1516792180973952447</td>\n",
       "    </tr>\n",
       "  </tbody>\n",
       "</table>\n",
       "<p>1371980 rows × 2 columns</p>\n",
       "</div>"
      ],
      "text/plain": [
       "                                              customer_id2  \\\n",
       "0        00000dbacae5abe5e23885899a1fa44253a17956c6d1c3...   \n",
       "1        0000423b00ade91418cceaf3b26c6af3dd342b51fd051e...   \n",
       "2        000058a12d5b43e67d225668fa1f8d618c13dc232df0ca...   \n",
       "3        00005ca1c9ed5f5146b52ac8639a40ca9d57aeff4d1bd2...   \n",
       "4        00006413d8573cd20ed7128e53b7b13819fe5cfc2d801f...   \n",
       "...                                                    ...   \n",
       "1371975  ffffbbf78b6eaac697a8a5dfbfd2bfa8113ee5b403e474...   \n",
       "1371976  ffffcd5046a6143d29a04fb8c424ce494a76e5cdf4fab5...   \n",
       "1371977  ffffcf35913a0bee60e8741cb2b4e78b8a98ee5ff2e6a1...   \n",
       "1371978  ffffd7744cebcf3aca44ae7049d2a94b87074c3d4ffe38...   \n",
       "1371979  ffffd9ac14e89946416d80e791d064701994755c3ab686...   \n",
       "\n",
       "                 customer_id  \n",
       "0        6883939031699146327  \n",
       "1       -7200416642310594310  \n",
       "2          -6846340800584936  \n",
       "3         -94071612138601410  \n",
       "4        -283965518499174310  \n",
       "...                      ...  \n",
       "1371975  7551062398649767985  \n",
       "1371976 -9141402131989464905  \n",
       "1371977 -8286316756823862684  \n",
       "1371978  2551401172826382186  \n",
       "1371979 -1516792180973952447  \n",
       "\n",
       "[1371980 rows x 2 columns]"
      ]
     },
     "execution_count": 75,
     "metadata": {},
     "output_type": "execute_result"
    }
   ],
   "source": [
    "sub"
   ]
  },
  {
   "cell_type": "code",
   "execution_count": 76,
   "id": "ddd14699",
   "metadata": {
    "execution": {
     "iopub.execute_input": "2022-03-27T09:24:11.597471Z",
     "iopub.status.busy": "2022-03-27T09:24:11.596331Z",
     "iopub.status.idle": "2022-03-27T09:24:11.713580Z",
     "shell.execute_reply": "2022-03-27T09:24:11.714209Z",
     "shell.execute_reply.started": "2022-03-27T08:35:35.134581Z"
    },
    "papermill": {
     "duration": 0.300566,
     "end_time": "2022-03-27T09:24:11.714425",
     "exception": false,
     "start_time": "2022-03-27T09:24:11.413859",
     "status": "completed"
    },
    "tags": []
   },
   "outputs": [
    {
     "data": {
      "text/html": [
       "<div>\n",
       "<style scoped>\n",
       "    .dataframe tbody tr th:only-of-type {\n",
       "        vertical-align: middle;\n",
       "    }\n",
       "\n",
       "    .dataframe tbody tr th {\n",
       "        vertical-align: top;\n",
       "    }\n",
       "\n",
       "    .dataframe thead th {\n",
       "        text-align: right;\n",
       "    }\n",
       "</style>\n",
       "<table border=\"1\" class=\"dataframe\">\n",
       "  <thead>\n",
       "    <tr style=\"text-align: right;\">\n",
       "      <th></th>\n",
       "      <th>customer_id</th>\n",
       "      <th>FN</th>\n",
       "      <th>Active</th>\n",
       "      <th>club_member_status</th>\n",
       "      <th>fashion_news_frequency</th>\n",
       "      <th>age</th>\n",
       "      <th>postal_code</th>\n",
       "    </tr>\n",
       "  </thead>\n",
       "  <tbody>\n",
       "    <tr>\n",
       "      <th>0</th>\n",
       "      <td>6883939031699146327</td>\n",
       "      <td>&lt;NA&gt;</td>\n",
       "      <td>&lt;NA&gt;</td>\n",
       "      <td>ACTIVE</td>\n",
       "      <td>NONE</td>\n",
       "      <td>49.0</td>\n",
       "      <td>52043ee2162cf5aa7ee79974281641c6f11a68d276429a...</td>\n",
       "    </tr>\n",
       "    <tr>\n",
       "      <th>1</th>\n",
       "      <td>-7200416642310594310</td>\n",
       "      <td>&lt;NA&gt;</td>\n",
       "      <td>&lt;NA&gt;</td>\n",
       "      <td>ACTIVE</td>\n",
       "      <td>NONE</td>\n",
       "      <td>25.0</td>\n",
       "      <td>2973abc54daa8a5f8ccfe9362140c63247c5eee03f1d93...</td>\n",
       "    </tr>\n",
       "    <tr>\n",
       "      <th>2</th>\n",
       "      <td>-6846340800584936</td>\n",
       "      <td>&lt;NA&gt;</td>\n",
       "      <td>&lt;NA&gt;</td>\n",
       "      <td>ACTIVE</td>\n",
       "      <td>NONE</td>\n",
       "      <td>24.0</td>\n",
       "      <td>64f17e6a330a85798e4998f62d0930d14db8db1c054af6...</td>\n",
       "    </tr>\n",
       "    <tr>\n",
       "      <th>3</th>\n",
       "      <td>-94071612138601410</td>\n",
       "      <td>&lt;NA&gt;</td>\n",
       "      <td>&lt;NA&gt;</td>\n",
       "      <td>ACTIVE</td>\n",
       "      <td>NONE</td>\n",
       "      <td>54.0</td>\n",
       "      <td>5d36574f52495e81f019b680c843c443bd343d5ca5b1c2...</td>\n",
       "    </tr>\n",
       "    <tr>\n",
       "      <th>4</th>\n",
       "      <td>-283965518499174310</td>\n",
       "      <td>1.0</td>\n",
       "      <td>1.0</td>\n",
       "      <td>ACTIVE</td>\n",
       "      <td>Regularly</td>\n",
       "      <td>52.0</td>\n",
       "      <td>25fa5ddee9aac01b35208d01736e57942317d756b32ddd...</td>\n",
       "    </tr>\n",
       "    <tr>\n",
       "      <th>...</th>\n",
       "      <td>...</td>\n",
       "      <td>...</td>\n",
       "      <td>...</td>\n",
       "      <td>...</td>\n",
       "      <td>...</td>\n",
       "      <td>...</td>\n",
       "      <td>...</td>\n",
       "    </tr>\n",
       "    <tr>\n",
       "      <th>1371975</th>\n",
       "      <td>7551062398649767985</td>\n",
       "      <td>&lt;NA&gt;</td>\n",
       "      <td>&lt;NA&gt;</td>\n",
       "      <td>ACTIVE</td>\n",
       "      <td>NONE</td>\n",
       "      <td>24.0</td>\n",
       "      <td>7aa399f7e669990daba2d92c577b52237380662f36480b...</td>\n",
       "    </tr>\n",
       "    <tr>\n",
       "      <th>1371976</th>\n",
       "      <td>-9141402131989464905</td>\n",
       "      <td>&lt;NA&gt;</td>\n",
       "      <td>&lt;NA&gt;</td>\n",
       "      <td>ACTIVE</td>\n",
       "      <td>NONE</td>\n",
       "      <td>21.0</td>\n",
       "      <td>3f47f1279beb72215f4de557d950e0bfa73789d24acb5e...</td>\n",
       "    </tr>\n",
       "    <tr>\n",
       "      <th>1371977</th>\n",
       "      <td>-8286316756823862684</td>\n",
       "      <td>1.0</td>\n",
       "      <td>1.0</td>\n",
       "      <td>ACTIVE</td>\n",
       "      <td>Regularly</td>\n",
       "      <td>21.0</td>\n",
       "      <td>4563fc79215672cd6a863f2b4bf56b8f898f2d96ed590e...</td>\n",
       "    </tr>\n",
       "    <tr>\n",
       "      <th>1371978</th>\n",
       "      <td>2551401172826382186</td>\n",
       "      <td>1.0</td>\n",
       "      <td>1.0</td>\n",
       "      <td>ACTIVE</td>\n",
       "      <td>Regularly</td>\n",
       "      <td>18.0</td>\n",
       "      <td>8892c18e9bc3dca6aa4000cb8094fc4b51ee8db2ed14d7...</td>\n",
       "    </tr>\n",
       "    <tr>\n",
       "      <th>1371979</th>\n",
       "      <td>-1516792180973952447</td>\n",
       "      <td>&lt;NA&gt;</td>\n",
       "      <td>&lt;NA&gt;</td>\n",
       "      <td>PRE-CREATE</td>\n",
       "      <td>NONE</td>\n",
       "      <td>65.0</td>\n",
       "      <td>0a1a03306fb2f62164c2a439b38c0caa64b40deaae8687...</td>\n",
       "    </tr>\n",
       "  </tbody>\n",
       "</table>\n",
       "<p>1371980 rows × 7 columns</p>\n",
       "</div>"
      ],
      "text/plain": [
       "                 customer_id    FN Active club_member_status  \\\n",
       "0        6883939031699146327  <NA>   <NA>             ACTIVE   \n",
       "1       -7200416642310594310  <NA>   <NA>             ACTIVE   \n",
       "2          -6846340800584936  <NA>   <NA>             ACTIVE   \n",
       "3         -94071612138601410  <NA>   <NA>             ACTIVE   \n",
       "4        -283965518499174310   1.0    1.0             ACTIVE   \n",
       "...                      ...   ...    ...                ...   \n",
       "1371975  7551062398649767985  <NA>   <NA>             ACTIVE   \n",
       "1371976 -9141402131989464905  <NA>   <NA>             ACTIVE   \n",
       "1371977 -8286316756823862684   1.0    1.0             ACTIVE   \n",
       "1371978  2551401172826382186   1.0    1.0             ACTIVE   \n",
       "1371979 -1516792180973952447  <NA>   <NA>         PRE-CREATE   \n",
       "\n",
       "        fashion_news_frequency   age  \\\n",
       "0                         NONE  49.0   \n",
       "1                         NONE  25.0   \n",
       "2                         NONE  24.0   \n",
       "3                         NONE  54.0   \n",
       "4                    Regularly  52.0   \n",
       "...                        ...   ...   \n",
       "1371975                   NONE  24.0   \n",
       "1371976                   NONE  21.0   \n",
       "1371977              Regularly  21.0   \n",
       "1371978              Regularly  18.0   \n",
       "1371979                   NONE  65.0   \n",
       "\n",
       "                                               postal_code  \n",
       "0        52043ee2162cf5aa7ee79974281641c6f11a68d276429a...  \n",
       "1        2973abc54daa8a5f8ccfe9362140c63247c5eee03f1d93...  \n",
       "2        64f17e6a330a85798e4998f62d0930d14db8db1c054af6...  \n",
       "3        5d36574f52495e81f019b680c843c443bd343d5ca5b1c2...  \n",
       "4        25fa5ddee9aac01b35208d01736e57942317d756b32ddd...  \n",
       "...                                                    ...  \n",
       "1371975  7aa399f7e669990daba2d92c577b52237380662f36480b...  \n",
       "1371976  3f47f1279beb72215f4de557d950e0bfa73789d24acb5e...  \n",
       "1371977  4563fc79215672cd6a863f2b4bf56b8f898f2d96ed590e...  \n",
       "1371978  8892c18e9bc3dca6aa4000cb8094fc4b51ee8db2ed14d7...  \n",
       "1371979  0a1a03306fb2f62164c2a439b38c0caa64b40deaae8687...  \n",
       "\n",
       "[1371980 rows x 7 columns]"
      ]
     },
     "execution_count": 76,
     "metadata": {},
     "output_type": "execute_result"
    }
   ],
   "source": [
    "customer"
   ]
  },
  {
   "cell_type": "code",
   "execution_count": 77,
   "id": "21e19c5d",
   "metadata": {
    "execution": {
     "iopub.execute_input": "2022-03-27T09:24:12.073059Z",
     "iopub.status.busy": "2022-03-27T09:24:12.071923Z",
     "iopub.status.idle": "2022-03-27T09:24:19.806216Z",
     "shell.execute_reply": "2022-03-27T09:24:19.805563Z",
     "shell.execute_reply.started": "2022-03-27T08:35:35.238288Z"
    },
    "papermill": {
     "duration": 7.916706,
     "end_time": "2022-03-27T09:24:19.806377",
     "exception": false,
     "start_time": "2022-03-27T09:24:11.889671",
     "status": "completed"
    },
    "tags": []
   },
   "outputs": [],
   "source": [
    "sub_customer = sub.merge(customer.fillna(0), on = \"customer_id\")\n",
    "sub_customer[\"age_type\"] = pd.cut(sub_customer.to_pandas()[\"age\"], bins = np.array([0, 21, 24, 27, 30, 35, 40, 45, 50, 60, 100], dtype = \"int32\"), right = True).astype(\"string\")"
   ]
  },
  {
   "cell_type": "code",
   "execution_count": 78,
   "id": "1a156ac6",
   "metadata": {
    "execution": {
     "iopub.execute_input": "2022-03-27T09:24:20.152300Z",
     "iopub.status.busy": "2022-03-27T09:24:20.151160Z",
     "iopub.status.idle": "2022-03-27T09:24:33.292296Z",
     "shell.execute_reply": "2022-03-27T09:24:33.291719Z",
     "shell.execute_reply.started": "2022-03-27T08:35:42.192381Z"
    },
    "papermill": {
     "duration": 13.317279,
     "end_time": "2022-03-27T09:24:33.292468",
     "exception": false,
     "start_time": "2022-03-27T09:24:19.975189",
     "status": "completed"
    },
    "tags": []
   },
   "outputs": [],
   "source": [
    "result3 = sub_customer.to_pandas().merge(summary.to_pandas(), on = [\"fashion_news_frequency\", \"age_type\"], how = \"left\")"
   ]
  },
  {
   "cell_type": "code",
   "execution_count": 79,
   "id": "e88476f4",
   "metadata": {
    "execution": {
     "iopub.execute_input": "2022-03-27T09:24:33.641459Z",
     "iopub.status.busy": "2022-03-27T09:24:33.639982Z",
     "iopub.status.idle": "2022-03-27T09:24:44.989527Z",
     "shell.execute_reply": "2022-03-27T09:24:44.988603Z",
     "shell.execute_reply.started": "2022-03-27T08:35:53.810298Z"
    },
    "papermill": {
     "duration": 11.527298,
     "end_time": "2022-03-27T09:24:44.989678",
     "exception": false,
     "start_time": "2022-03-27T09:24:33.462380",
     "status": "completed"
    },
    "tags": []
   },
   "outputs": [],
   "source": [
    "result3[\"source\"] = 3\n",
    "result3 = result3.loc[:,[\"customer_id\", \"article_id\", \"source\", \"score\", \"rank\"]]"
   ]
  },
  {
   "cell_type": "code",
   "execution_count": 80,
   "id": "6c136c0e",
   "metadata": {
    "execution": {
     "iopub.execute_input": "2022-03-27T09:24:45.339637Z",
     "iopub.status.busy": "2022-03-27T09:24:45.338574Z",
     "iopub.status.idle": "2022-03-27T09:24:45.353687Z",
     "shell.execute_reply": "2022-03-27T09:24:45.354283Z",
     "shell.execute_reply.started": "2022-03-27T08:36:03.922897Z"
    },
    "papermill": {
     "duration": 0.191325,
     "end_time": "2022-03-27T09:24:45.354447",
     "exception": false,
     "start_time": "2022-03-27T09:24:45.163122",
     "status": "completed"
    },
    "tags": []
   },
   "outputs": [
    {
     "data": {
      "text/html": [
       "<div>\n",
       "<style scoped>\n",
       "    .dataframe tbody tr th:only-of-type {\n",
       "        vertical-align: middle;\n",
       "    }\n",
       "\n",
       "    .dataframe tbody tr th {\n",
       "        vertical-align: top;\n",
       "    }\n",
       "\n",
       "    .dataframe thead th {\n",
       "        text-align: right;\n",
       "    }\n",
       "</style>\n",
       "<table border=\"1\" class=\"dataframe\">\n",
       "  <thead>\n",
       "    <tr style=\"text-align: right;\">\n",
       "      <th></th>\n",
       "      <th>customer_id</th>\n",
       "      <th>article_id</th>\n",
       "      <th>source</th>\n",
       "      <th>score</th>\n",
       "      <th>rank</th>\n",
       "    </tr>\n",
       "  </thead>\n",
       "  <tbody>\n",
       "    <tr>\n",
       "      <th>0</th>\n",
       "      <td>3441287777015642391</td>\n",
       "      <td>448509014.0</td>\n",
       "      <td>3</td>\n",
       "      <td>0.006129</td>\n",
       "      <td>2.0</td>\n",
       "    </tr>\n",
       "    <tr>\n",
       "      <th>1</th>\n",
       "      <td>3441287777015642391</td>\n",
       "      <td>918292001.0</td>\n",
       "      <td>3</td>\n",
       "      <td>0.003178</td>\n",
       "      <td>7.0</td>\n",
       "    </tr>\n",
       "    <tr>\n",
       "      <th>2</th>\n",
       "      <td>3441287777015642391</td>\n",
       "      <td>918522001.0</td>\n",
       "      <td>3</td>\n",
       "      <td>0.004767</td>\n",
       "      <td>4.0</td>\n",
       "    </tr>\n",
       "    <tr>\n",
       "      <th>3</th>\n",
       "      <td>3441287777015642391</td>\n",
       "      <td>767423001.0</td>\n",
       "      <td>3</td>\n",
       "      <td>0.002497</td>\n",
       "      <td>12.0</td>\n",
       "    </tr>\n",
       "    <tr>\n",
       "      <th>4</th>\n",
       "      <td>3441287777015642391</td>\n",
       "      <td>715624001.0</td>\n",
       "      <td>3</td>\n",
       "      <td>0.005524</td>\n",
       "      <td>3.0</td>\n",
       "    </tr>\n",
       "    <tr>\n",
       "      <th>...</th>\n",
       "      <td>...</td>\n",
       "      <td>...</td>\n",
       "      <td>...</td>\n",
       "      <td>...</td>\n",
       "      <td>...</td>\n",
       "    </tr>\n",
       "    <tr>\n",
       "      <th>32880969</th>\n",
       "      <td>-7430959013662680730</td>\n",
       "      <td>762846027.0</td>\n",
       "      <td>3</td>\n",
       "      <td>0.002782</td>\n",
       "      <td>12.0</td>\n",
       "    </tr>\n",
       "    <tr>\n",
       "      <th>32880970</th>\n",
       "      <td>-7430959013662680730</td>\n",
       "      <td>865799006.0</td>\n",
       "      <td>3</td>\n",
       "      <td>0.003179</td>\n",
       "      <td>8.0</td>\n",
       "    </tr>\n",
       "    <tr>\n",
       "      <th>32880971</th>\n",
       "      <td>-7430959013662680730</td>\n",
       "      <td>909371001.0</td>\n",
       "      <td>3</td>\n",
       "      <td>0.002896</td>\n",
       "      <td>11.0</td>\n",
       "    </tr>\n",
       "    <tr>\n",
       "      <th>32880972</th>\n",
       "      <td>-7430959013662680730</td>\n",
       "      <td>908799002.0</td>\n",
       "      <td>3</td>\n",
       "      <td>0.003009</td>\n",
       "      <td>9.0</td>\n",
       "    </tr>\n",
       "    <tr>\n",
       "      <th>32880973</th>\n",
       "      <td>-7430959013662680730</td>\n",
       "      <td>751471001.0</td>\n",
       "      <td>3</td>\n",
       "      <td>0.004031</td>\n",
       "      <td>3.0</td>\n",
       "    </tr>\n",
       "  </tbody>\n",
       "</table>\n",
       "<p>32880974 rows × 5 columns</p>\n",
       "</div>"
      ],
      "text/plain": [
       "                  customer_id   article_id  source     score  rank\n",
       "0         3441287777015642391  448509014.0       3  0.006129   2.0\n",
       "1         3441287777015642391  918292001.0       3  0.003178   7.0\n",
       "2         3441287777015642391  918522001.0       3  0.004767   4.0\n",
       "3         3441287777015642391  767423001.0       3  0.002497  12.0\n",
       "4         3441287777015642391  715624001.0       3  0.005524   3.0\n",
       "...                       ...          ...     ...       ...   ...\n",
       "32880969 -7430959013662680730  762846027.0       3  0.002782  12.0\n",
       "32880970 -7430959013662680730  865799006.0       3  0.003179   8.0\n",
       "32880971 -7430959013662680730  909371001.0       3  0.002896  11.0\n",
       "32880972 -7430959013662680730  908799002.0       3  0.003009   9.0\n",
       "32880973 -7430959013662680730  751471001.0       3  0.004031   3.0\n",
       "\n",
       "[32880974 rows x 5 columns]"
      ]
     },
     "execution_count": 80,
     "metadata": {},
     "output_type": "execute_result"
    }
   ],
   "source": [
    "result3"
   ]
  },
  {
   "cell_type": "code",
   "execution_count": 81,
   "id": "2447b939",
   "metadata": {
    "execution": {
     "iopub.execute_input": "2022-03-27T09:24:45.706770Z",
     "iopub.status.busy": "2022-03-27T09:24:45.705786Z",
     "iopub.status.idle": "2022-03-27T09:24:45.708833Z",
     "shell.execute_reply": "2022-03-27T09:24:45.708364Z",
     "shell.execute_reply.started": "2022-03-27T08:36:03.941834Z"
    },
    "papermill": {
     "duration": 0.179727,
     "end_time": "2022-03-27T09:24:45.708985",
     "exception": false,
     "start_time": "2022-03-27T09:24:45.529258",
     "status": "completed"
    },
    "tags": []
   },
   "outputs": [],
   "source": [
    "#result3.to_csv(\"/kaggle/working/result3.csv\", index = False)"
   ]
  },
  {
   "cell_type": "markdown",
   "id": "61581056",
   "metadata": {
    "papermill": {
     "duration": 0.168659,
     "end_time": "2022-03-27T09:24:46.044055",
     "exception": false,
     "start_time": "2022-03-27T09:24:45.875396",
     "status": "completed"
    },
    "tags": []
   },
   "source": [
    "## 混合排序"
   ]
  },
  {
   "cell_type": "code",
   "execution_count": 82,
   "id": "0e99e632",
   "metadata": {
    "execution": {
     "iopub.execute_input": "2022-03-27T09:24:46.390180Z",
     "iopub.status.busy": "2022-03-27T09:24:46.389088Z",
     "iopub.status.idle": "2022-03-27T09:24:46.391536Z",
     "shell.execute_reply": "2022-03-27T09:24:46.392105Z",
     "shell.execute_reply.started": "2022-03-27T08:36:03.956987Z"
    },
    "papermill": {
     "duration": 0.179146,
     "end_time": "2022-03-27T09:24:46.392279",
     "exception": false,
     "start_time": "2022-03-27T09:24:46.213133",
     "status": "completed"
    },
    "tags": []
   },
   "outputs": [],
   "source": [
    "#result2 = pd.read_csv(\"../input/relation/result2.csv\")\n",
    "#result1 = pd.read_csv(\"../input/relation/result1.csv\")\n",
    "#result3 = pd.read_csv(\"/kaggle/working/result3.csv\")"
   ]
  },
  {
   "cell_type": "code",
   "execution_count": 83,
   "id": "86c251b2",
   "metadata": {
    "execution": {
     "iopub.execute_input": "2022-03-27T09:24:46.739161Z",
     "iopub.status.busy": "2022-03-27T09:24:46.738158Z",
     "iopub.status.idle": "2022-03-27T09:24:46.740405Z",
     "shell.execute_reply": "2022-03-27T09:24:46.740931Z",
     "shell.execute_reply.started": "2022-03-27T08:36:03.962128Z"
    },
    "papermill": {
     "duration": 0.175601,
     "end_time": "2022-03-27T09:24:46.741091",
     "exception": false,
     "start_time": "2022-03-27T09:24:46.565490",
     "status": "completed"
    },
    "tags": []
   },
   "outputs": [],
   "source": [
    "#result1 = pd.read_csv(\"/kaggle/working/result1.csv\")\n",
    "#result2 = pd.read_csv(\"/kaggle/working/result2.csv\")"
   ]
  },
  {
   "cell_type": "code",
   "execution_count": 84,
   "id": "8bff0740",
   "metadata": {
    "execution": {
     "iopub.execute_input": "2022-03-27T09:24:47.099540Z",
     "iopub.status.busy": "2022-03-27T09:24:47.098655Z",
     "iopub.status.idle": "2022-03-27T09:24:47.104029Z",
     "shell.execute_reply": "2022-03-27T09:24:47.104520Z",
     "shell.execute_reply.started": "2022-03-27T08:36:03.970048Z"
    },
    "papermill": {
     "duration": 0.193857,
     "end_time": "2022-03-27T09:24:47.104681",
     "exception": false,
     "start_time": "2022-03-27T09:24:46.910824",
     "status": "completed"
    },
    "tags": []
   },
   "outputs": [
    {
     "data": {
      "text/html": [
       "<div>\n",
       "<style scoped>\n",
       "    .dataframe tbody tr th:only-of-type {\n",
       "        vertical-align: middle;\n",
       "    }\n",
       "\n",
       "    .dataframe tbody tr th {\n",
       "        vertical-align: top;\n",
       "    }\n",
       "\n",
       "    .dataframe thead th {\n",
       "        text-align: right;\n",
       "    }\n",
       "</style>\n",
       "<table border=\"1\" class=\"dataframe\">\n",
       "  <thead>\n",
       "    <tr style=\"text-align: right;\">\n",
       "      <th></th>\n",
       "      <th>customer_id</th>\n",
       "      <th>article_id</th>\n",
       "      <th>source</th>\n",
       "      <th>score</th>\n",
       "      <th>rank</th>\n",
       "    </tr>\n",
       "  </thead>\n",
       "  <tbody>\n",
       "    <tr>\n",
       "      <th>0</th>\n",
       "      <td>3441287777015642391</td>\n",
       "      <td>448509014.0</td>\n",
       "      <td>3</td>\n",
       "      <td>0.006129</td>\n",
       "      <td>2.0</td>\n",
       "    </tr>\n",
       "    <tr>\n",
       "      <th>1</th>\n",
       "      <td>3441287777015642391</td>\n",
       "      <td>918292001.0</td>\n",
       "      <td>3</td>\n",
       "      <td>0.003178</td>\n",
       "      <td>7.0</td>\n",
       "    </tr>\n",
       "    <tr>\n",
       "      <th>2</th>\n",
       "      <td>3441287777015642391</td>\n",
       "      <td>918522001.0</td>\n",
       "      <td>3</td>\n",
       "      <td>0.004767</td>\n",
       "      <td>4.0</td>\n",
       "    </tr>\n",
       "    <tr>\n",
       "      <th>3</th>\n",
       "      <td>3441287777015642391</td>\n",
       "      <td>767423001.0</td>\n",
       "      <td>3</td>\n",
       "      <td>0.002497</td>\n",
       "      <td>12.0</td>\n",
       "    </tr>\n",
       "    <tr>\n",
       "      <th>4</th>\n",
       "      <td>3441287777015642391</td>\n",
       "      <td>715624001.0</td>\n",
       "      <td>3</td>\n",
       "      <td>0.005524</td>\n",
       "      <td>3.0</td>\n",
       "    </tr>\n",
       "    <tr>\n",
       "      <th>...</th>\n",
       "      <td>...</td>\n",
       "      <td>...</td>\n",
       "      <td>...</td>\n",
       "      <td>...</td>\n",
       "      <td>...</td>\n",
       "    </tr>\n",
       "    <tr>\n",
       "      <th>32880969</th>\n",
       "      <td>-7430959013662680730</td>\n",
       "      <td>762846027.0</td>\n",
       "      <td>3</td>\n",
       "      <td>0.002782</td>\n",
       "      <td>12.0</td>\n",
       "    </tr>\n",
       "    <tr>\n",
       "      <th>32880970</th>\n",
       "      <td>-7430959013662680730</td>\n",
       "      <td>865799006.0</td>\n",
       "      <td>3</td>\n",
       "      <td>0.003179</td>\n",
       "      <td>8.0</td>\n",
       "    </tr>\n",
       "    <tr>\n",
       "      <th>32880971</th>\n",
       "      <td>-7430959013662680730</td>\n",
       "      <td>909371001.0</td>\n",
       "      <td>3</td>\n",
       "      <td>0.002896</td>\n",
       "      <td>11.0</td>\n",
       "    </tr>\n",
       "    <tr>\n",
       "      <th>32880972</th>\n",
       "      <td>-7430959013662680730</td>\n",
       "      <td>908799002.0</td>\n",
       "      <td>3</td>\n",
       "      <td>0.003009</td>\n",
       "      <td>9.0</td>\n",
       "    </tr>\n",
       "    <tr>\n",
       "      <th>32880973</th>\n",
       "      <td>-7430959013662680730</td>\n",
       "      <td>751471001.0</td>\n",
       "      <td>3</td>\n",
       "      <td>0.004031</td>\n",
       "      <td>3.0</td>\n",
       "    </tr>\n",
       "  </tbody>\n",
       "</table>\n",
       "<p>32880974 rows × 5 columns</p>\n",
       "</div>"
      ],
      "text/plain": [
       "                  customer_id   article_id  source     score  rank\n",
       "0         3441287777015642391  448509014.0       3  0.006129   2.0\n",
       "1         3441287777015642391  918292001.0       3  0.003178   7.0\n",
       "2         3441287777015642391  918522001.0       3  0.004767   4.0\n",
       "3         3441287777015642391  767423001.0       3  0.002497  12.0\n",
       "4         3441287777015642391  715624001.0       3  0.005524   3.0\n",
       "...                       ...          ...     ...       ...   ...\n",
       "32880969 -7430959013662680730  762846027.0       3  0.002782  12.0\n",
       "32880970 -7430959013662680730  865799006.0       3  0.003179   8.0\n",
       "32880971 -7430959013662680730  909371001.0       3  0.002896  11.0\n",
       "32880972 -7430959013662680730  908799002.0       3  0.003009   9.0\n",
       "32880973 -7430959013662680730  751471001.0       3  0.004031   3.0\n",
       "\n",
       "[32880974 rows x 5 columns]"
      ]
     },
     "execution_count": 84,
     "metadata": {},
     "output_type": "execute_result"
    }
   ],
   "source": [
    "result3"
   ]
  },
  {
   "cell_type": "code",
   "execution_count": 85,
   "id": "2bc600ff",
   "metadata": {
    "execution": {
     "iopub.execute_input": "2022-03-27T09:24:47.486870Z",
     "iopub.status.busy": "2022-03-27T09:24:47.485817Z",
     "iopub.status.idle": "2022-03-27T09:24:47.489290Z",
     "shell.execute_reply": "2022-03-27T09:24:47.488685Z",
     "shell.execute_reply.started": "2022-03-27T08:36:03.990139Z"
    },
    "papermill": {
     "duration": 0.213841,
     "end_time": "2022-03-27T09:24:47.489422",
     "exception": false,
     "start_time": "2022-03-27T09:24:47.275581",
     "status": "completed"
    },
    "tags": []
   },
   "outputs": [],
   "source": [
    "#assert False"
   ]
  },
  {
   "cell_type": "code",
   "execution_count": 86,
   "id": "18c002ef",
   "metadata": {
    "execution": {
     "iopub.execute_input": "2022-03-27T09:24:47.847489Z",
     "iopub.status.busy": "2022-03-27T09:24:47.846312Z",
     "iopub.status.idle": "2022-03-27T09:24:47.848564Z",
     "shell.execute_reply": "2022-03-27T09:24:47.849146Z",
     "shell.execute_reply.started": "2022-03-27T08:36:03.997382Z"
    },
    "papermill": {
     "duration": 0.182184,
     "end_time": "2022-03-27T09:24:47.849301",
     "exception": false,
     "start_time": "2022-03-27T09:24:47.667117",
     "status": "completed"
    },
    "tags": []
   },
   "outputs": [],
   "source": [
    "# del result1\n",
    "# del result2\n",
    "# del result3"
   ]
  },
  {
   "cell_type": "code",
   "execution_count": 87,
   "id": "6d61f348",
   "metadata": {
    "execution": {
     "iopub.execute_input": "2022-03-27T09:24:48.208013Z",
     "iopub.status.busy": "2022-03-27T09:24:48.206901Z",
     "iopub.status.idle": "2022-03-27T09:24:48.209295Z",
     "shell.execute_reply": "2022-03-27T09:24:48.209857Z",
     "shell.execute_reply.started": "2022-03-27T08:36:04.004784Z"
    },
    "papermill": {
     "duration": 0.185262,
     "end_time": "2022-03-27T09:24:48.210035",
     "exception": false,
     "start_time": "2022-03-27T09:24:48.024773",
     "status": "completed"
    },
    "tags": []
   },
   "outputs": [],
   "source": [
    "# result = pd.concat([result1, result2, result3], axis = 0)"
   ]
  },
  {
   "cell_type": "code",
   "execution_count": 88,
   "id": "048d24c1",
   "metadata": {
    "execution": {
     "iopub.execute_input": "2022-03-27T09:24:48.563554Z",
     "iopub.status.busy": "2022-03-27T09:24:48.562181Z",
     "iopub.status.idle": "2022-03-27T09:24:49.076606Z",
     "shell.execute_reply": "2022-03-27T09:24:49.077262Z",
     "shell.execute_reply.started": "2022-03-27T08:36:04.012010Z"
    },
    "papermill": {
     "duration": 0.690247,
     "end_time": "2022-03-27T09:24:49.077471",
     "exception": false,
     "start_time": "2022-03-27T09:24:48.387224",
     "status": "completed"
    },
    "tags": []
   },
   "outputs": [],
   "source": [
    "result = result3.copy()"
   ]
  },
  {
   "cell_type": "code",
   "execution_count": 89,
   "id": "27406d8c",
   "metadata": {
    "execution": {
     "iopub.execute_input": "2022-03-27T09:24:49.730158Z",
     "iopub.status.busy": "2022-03-27T09:24:49.729196Z",
     "iopub.status.idle": "2022-03-27T09:24:49.737377Z",
     "shell.execute_reply": "2022-03-27T09:24:49.738338Z",
     "shell.execute_reply.started": "2022-03-27T08:36:04.485468Z"
    },
    "papermill": {
     "duration": 0.485822,
     "end_time": "2022-03-27T09:24:49.738588",
     "exception": false,
     "start_time": "2022-03-27T09:24:49.252766",
     "status": "completed"
    },
    "tags": []
   },
   "outputs": [
    {
     "data": {
      "text/plain": [
       "105"
      ]
     },
     "execution_count": 89,
     "metadata": {},
     "output_type": "execute_result"
    }
   ],
   "source": [
    "gc.collect()"
   ]
  },
  {
   "cell_type": "code",
   "execution_count": 90,
   "id": "838fea9f",
   "metadata": {
    "execution": {
     "iopub.execute_input": "2022-03-27T09:24:50.218273Z",
     "iopub.status.busy": "2022-03-27T09:24:50.216802Z",
     "iopub.status.idle": "2022-03-27T09:24:50.219519Z",
     "shell.execute_reply": "2022-03-27T09:24:50.220447Z",
     "shell.execute_reply.started": "2022-03-27T08:36:04.622308Z"
    },
    "papermill": {
     "duration": 0.187397,
     "end_time": "2022-03-27T09:24:50.220609",
     "exception": false,
     "start_time": "2022-03-27T09:24:50.033212",
     "status": "completed"
    },
    "tags": []
   },
   "outputs": [],
   "source": [
    "result.index = range(len(result))"
   ]
  },
  {
   "cell_type": "code",
   "execution_count": 91,
   "id": "7f486c48",
   "metadata": {
    "execution": {
     "iopub.execute_input": "2022-03-27T09:24:50.622122Z",
     "iopub.status.busy": "2022-03-27T09:24:50.621054Z",
     "iopub.status.idle": "2022-03-27T09:24:50.624738Z",
     "shell.execute_reply": "2022-03-27T09:24:50.624118Z",
     "shell.execute_reply.started": "2022-03-27T08:36:04.632065Z"
    },
    "papermill": {
     "duration": 0.214423,
     "end_time": "2022-03-27T09:24:50.624932",
     "exception": false,
     "start_time": "2022-03-27T09:24:50.410509",
     "status": "completed"
    },
    "tags": []
   },
   "outputs": [],
   "source": [
    "#result.loc[result[\"source\"] == 3, \"score\"] *= 0.9"
   ]
  },
  {
   "cell_type": "code",
   "execution_count": 92,
   "id": "c8bae6dd",
   "metadata": {
    "execution": {
     "iopub.execute_input": "2022-03-27T09:24:51.032528Z",
     "iopub.status.busy": "2022-03-27T09:24:51.031689Z",
     "iopub.status.idle": "2022-03-27T09:24:51.035347Z",
     "shell.execute_reply": "2022-03-27T09:24:51.035855Z",
     "shell.execute_reply.started": "2022-03-27T08:36:04.641570Z"
    },
    "papermill": {
     "duration": 0.211493,
     "end_time": "2022-03-27T09:24:51.036156",
     "exception": false,
     "start_time": "2022-03-27T09:24:50.824663",
     "status": "completed"
    },
    "tags": []
   },
   "outputs": [],
   "source": [
    "#del result1\n",
    "#del result2\n",
    "#del sub_customer"
   ]
  },
  {
   "cell_type": "code",
   "execution_count": 93,
   "id": "d4dc3b06",
   "metadata": {
    "execution": {
     "iopub.execute_input": "2022-03-27T09:24:51.450327Z",
     "iopub.status.busy": "2022-03-27T09:24:51.448624Z",
     "iopub.status.idle": "2022-03-27T09:24:52.225288Z",
     "shell.execute_reply": "2022-03-27T09:24:52.224477Z",
     "shell.execute_reply.started": "2022-03-27T08:36:04.648230Z"
    },
    "papermill": {
     "duration": 0.985228,
     "end_time": "2022-03-27T09:24:52.225502",
     "exception": false,
     "start_time": "2022-03-27T09:24:51.240274",
     "status": "completed"
    },
    "tags": []
   },
   "outputs": [],
   "source": [
    "result = cudf.DataFrame(result, dtype={'article_id': 'int32', 'customer_id':'int64'})"
   ]
  },
  {
   "cell_type": "code",
   "execution_count": 94,
   "id": "307da0ca",
   "metadata": {
    "execution": {
     "iopub.execute_input": "2022-03-27T09:24:52.659504Z",
     "iopub.status.busy": "2022-03-27T09:24:52.658436Z",
     "iopub.status.idle": "2022-03-27T09:24:52.746269Z",
     "shell.execute_reply": "2022-03-27T09:24:52.746870Z",
     "shell.execute_reply.started": "2022-03-27T08:36:05.425873Z"
    },
    "papermill": {
     "duration": 0.310597,
     "end_time": "2022-03-27T09:24:52.747380",
     "exception": false,
     "start_time": "2022-03-27T09:24:52.436783",
     "status": "completed"
    },
    "tags": []
   },
   "outputs": [
    {
     "data": {
      "text/html": [
       "<div>\n",
       "<style scoped>\n",
       "    .dataframe tbody tr th:only-of-type {\n",
       "        vertical-align: middle;\n",
       "    }\n",
       "\n",
       "    .dataframe tbody tr th {\n",
       "        vertical-align: top;\n",
       "    }\n",
       "\n",
       "    .dataframe thead th {\n",
       "        text-align: right;\n",
       "    }\n",
       "</style>\n",
       "<table border=\"1\" class=\"dataframe\">\n",
       "  <thead>\n",
       "    <tr style=\"text-align: right;\">\n",
       "      <th></th>\n",
       "      <th>customer_id</th>\n",
       "      <th>article_id</th>\n",
       "      <th>source</th>\n",
       "      <th>score</th>\n",
       "      <th>rank</th>\n",
       "    </tr>\n",
       "  </thead>\n",
       "  <tbody>\n",
       "    <tr>\n",
       "      <th>0</th>\n",
       "      <td>3441287777015642391</td>\n",
       "      <td>448509014</td>\n",
       "      <td>3</td>\n",
       "      <td>0.006129</td>\n",
       "      <td>2.0</td>\n",
       "    </tr>\n",
       "    <tr>\n",
       "      <th>1</th>\n",
       "      <td>3441287777015642391</td>\n",
       "      <td>918292001</td>\n",
       "      <td>3</td>\n",
       "      <td>0.003178</td>\n",
       "      <td>7.0</td>\n",
       "    </tr>\n",
       "    <tr>\n",
       "      <th>2</th>\n",
       "      <td>3441287777015642391</td>\n",
       "      <td>918522001</td>\n",
       "      <td>3</td>\n",
       "      <td>0.004767</td>\n",
       "      <td>4.0</td>\n",
       "    </tr>\n",
       "    <tr>\n",
       "      <th>3</th>\n",
       "      <td>3441287777015642391</td>\n",
       "      <td>767423001</td>\n",
       "      <td>3</td>\n",
       "      <td>0.002497</td>\n",
       "      <td>12.0</td>\n",
       "    </tr>\n",
       "    <tr>\n",
       "      <th>4</th>\n",
       "      <td>3441287777015642391</td>\n",
       "      <td>715624001</td>\n",
       "      <td>3</td>\n",
       "      <td>0.005524</td>\n",
       "      <td>3.0</td>\n",
       "    </tr>\n",
       "    <tr>\n",
       "      <th>...</th>\n",
       "      <td>...</td>\n",
       "      <td>...</td>\n",
       "      <td>...</td>\n",
       "      <td>...</td>\n",
       "      <td>...</td>\n",
       "    </tr>\n",
       "    <tr>\n",
       "      <th>32880969</th>\n",
       "      <td>-7430959013662680730</td>\n",
       "      <td>762846027</td>\n",
       "      <td>3</td>\n",
       "      <td>0.002782</td>\n",
       "      <td>12.0</td>\n",
       "    </tr>\n",
       "    <tr>\n",
       "      <th>32880970</th>\n",
       "      <td>-7430959013662680730</td>\n",
       "      <td>865799006</td>\n",
       "      <td>3</td>\n",
       "      <td>0.003179</td>\n",
       "      <td>8.0</td>\n",
       "    </tr>\n",
       "    <tr>\n",
       "      <th>32880971</th>\n",
       "      <td>-7430959013662680730</td>\n",
       "      <td>909371001</td>\n",
       "      <td>3</td>\n",
       "      <td>0.002896</td>\n",
       "      <td>11.0</td>\n",
       "    </tr>\n",
       "    <tr>\n",
       "      <th>32880972</th>\n",
       "      <td>-7430959013662680730</td>\n",
       "      <td>908799002</td>\n",
       "      <td>3</td>\n",
       "      <td>0.003009</td>\n",
       "      <td>9.0</td>\n",
       "    </tr>\n",
       "    <tr>\n",
       "      <th>32880973</th>\n",
       "      <td>-7430959013662680730</td>\n",
       "      <td>751471001</td>\n",
       "      <td>3</td>\n",
       "      <td>0.004031</td>\n",
       "      <td>3.0</td>\n",
       "    </tr>\n",
       "  </tbody>\n",
       "</table>\n",
       "<p>32880974 rows × 5 columns</p>\n",
       "</div>"
      ],
      "text/plain": [
       "                  customer_id  article_id  source     score  rank\n",
       "0         3441287777015642391   448509014       3  0.006129   2.0\n",
       "1         3441287777015642391   918292001       3  0.003178   7.0\n",
       "2         3441287777015642391   918522001       3  0.004767   4.0\n",
       "3         3441287777015642391   767423001       3  0.002497  12.0\n",
       "4         3441287777015642391   715624001       3  0.005524   3.0\n",
       "...                       ...         ...     ...       ...   ...\n",
       "32880969 -7430959013662680730   762846027       3  0.002782  12.0\n",
       "32880970 -7430959013662680730   865799006       3  0.003179   8.0\n",
       "32880971 -7430959013662680730   909371001       3  0.002896  11.0\n",
       "32880972 -7430959013662680730   908799002       3  0.003009   9.0\n",
       "32880973 -7430959013662680730   751471001       3  0.004031   3.0\n",
       "\n",
       "[32880974 rows x 5 columns]"
      ]
     },
     "execution_count": 94,
     "metadata": {},
     "output_type": "execute_result"
    }
   ],
   "source": [
    "result"
   ]
  },
  {
   "cell_type": "code",
   "execution_count": 95,
   "id": "8bf951c7",
   "metadata": {
    "execution": {
     "iopub.execute_input": "2022-03-27T09:24:53.167940Z",
     "iopub.status.busy": "2022-03-27T09:24:53.166790Z",
     "iopub.status.idle": "2022-03-27T09:24:53.169189Z",
     "shell.execute_reply": "2022-03-27T09:24:53.169734Z",
     "shell.execute_reply.started": "2022-03-27T08:36:05.491293Z"
    },
    "papermill": {
     "duration": 0.215509,
     "end_time": "2022-03-27T09:24:53.169957",
     "exception": false,
     "start_time": "2022-03-27T09:24:52.954448",
     "status": "completed"
    },
    "tags": []
   },
   "outputs": [],
   "source": [
    "#merge_result = result.groupby([\"customer_id\", \"article_id\"]).apply(lambda x:x.nlargest(1, \"score\"))"
   ]
  },
  {
   "cell_type": "code",
   "execution_count": 96,
   "id": "aa0e4fec",
   "metadata": {
    "execution": {
     "iopub.execute_input": "2022-03-27T09:24:53.555289Z",
     "iopub.status.busy": "2022-03-27T09:24:53.554363Z",
     "iopub.status.idle": "2022-03-27T09:24:53.674514Z",
     "shell.execute_reply": "2022-03-27T09:24:53.673906Z",
     "shell.execute_reply.started": "2022-03-27T08:36:05.496875Z"
    },
    "papermill": {
     "duration": 0.299678,
     "end_time": "2022-03-27T09:24:53.674647",
     "exception": false,
     "start_time": "2022-03-27T09:24:53.374969",
     "status": "completed"
    },
    "tags": []
   },
   "outputs": [],
   "source": [
    "merge_result = result.groupby([\"customer_id\", \"article_id\"])['score'].max().reset_index()"
   ]
  },
  {
   "cell_type": "code",
   "execution_count": 97,
   "id": "2eb9aa54",
   "metadata": {
    "execution": {
     "iopub.execute_input": "2022-03-27T09:24:54.018458Z",
     "iopub.status.busy": "2022-03-27T09:24:54.017604Z",
     "iopub.status.idle": "2022-03-27T09:24:54.021942Z",
     "shell.execute_reply": "2022-03-27T09:24:54.021477Z",
     "shell.execute_reply.started": "2022-03-27T08:36:05.621856Z"
    },
    "papermill": {
     "duration": 0.179363,
     "end_time": "2022-03-27T09:24:54.022120",
     "exception": false,
     "start_time": "2022-03-27T09:24:53.842757",
     "status": "completed"
    },
    "tags": []
   },
   "outputs": [],
   "source": [
    "# del result"
   ]
  },
  {
   "cell_type": "code",
   "execution_count": 98,
   "id": "bbd0ca00",
   "metadata": {
    "execution": {
     "iopub.execute_input": "2022-03-27T09:24:54.370976Z",
     "iopub.status.busy": "2022-03-27T09:24:54.369625Z",
     "iopub.status.idle": "2022-03-27T09:24:54.372771Z",
     "shell.execute_reply": "2022-03-27T09:24:54.372062Z",
     "shell.execute_reply.started": "2022-03-27T08:36:05.627845Z"
    },
    "papermill": {
     "duration": 0.181362,
     "end_time": "2022-03-27T09:24:54.372917",
     "exception": false,
     "start_time": "2022-03-27T09:24:54.191555",
     "status": "completed"
    },
    "tags": []
   },
   "outputs": [],
   "source": [
    "# purchase_df = tmp.sort_values(['customer_id', 'value'], ascending = False).reset_index(drop = True)\n",
    "# purchase_df['prediction'] = '0' + purchase_df['article_id'].astype(str) + ' '\n",
    "# purchase_df = purchase_df.groupby('customer_id').agg({'prediction': sum}).reset_index()\n",
    "# purchase_df['prediction'] = purchase_df['prediction'].str.strip()\n",
    "# purchase_df = cudf.DataFrame(purchase_df)"
   ]
  },
  {
   "cell_type": "code",
   "execution_count": 99,
   "id": "7207aa77",
   "metadata": {
    "execution": {
     "iopub.execute_input": "2022-03-27T09:24:54.721839Z",
     "iopub.status.busy": "2022-03-27T09:24:54.720813Z",
     "iopub.status.idle": "2022-03-27T09:24:54.724051Z",
     "shell.execute_reply": "2022-03-27T09:24:54.723518Z",
     "shell.execute_reply.started": "2022-03-27T08:36:05.635883Z"
    },
    "papermill": {
     "duration": 0.17938,
     "end_time": "2022-03-27T09:24:54.724226",
     "exception": false,
     "start_time": "2022-03-27T09:24:54.544846",
     "status": "completed"
    },
    "tags": []
   },
   "outputs": [],
   "source": [
    "# %%time\n",
    "# purchase_dict = {}\n",
    "\n",
    "# tmp = df.copy().to_pandas()\n",
    "# tmp['x'] = ((last_ts - tmp['t_dat']) / np.timedelta64(1, 'D')).astype(int)\n",
    "# tmp['dummy_1'] = 1 \n",
    "# tmp['x'] = tmp[[\"x\", \"dummy_1\"]].max(axis=1)\n",
    "\n",
    "# a, b, c, d = 2.5e4, 1.5e5, 2e-1, 1e3\n",
    "# total = 1715530\n",
    "# tmp['y'] = (a / np.sqrt(tmp['x']) + b * np.exp(-c*tmp['x']) - d) / total\n",
    "\n",
    "# tmp['dummy_0'] = 0 \n",
    "# tmp['y'] = tmp[[\"y\", \"dummy_0\"]].max(axis=1)\n",
    "# tmp['value'] = tmp['quotient'] * tmp['y'] \n",
    "\n",
    "# tmp = tmp.groupby(['customer_id', 'article_id']).agg({'value': 'sum'})\n",
    "# tmp = tmp.reset_index()\n",
    "\n",
    "# tmp = tmp.loc[tmp['value'] > 0]\n",
    "# tmp['rank'] = tmp.groupby(\"customer_id\")[\"value\"].rank(\"dense\", ascending=False)\n",
    "# tmp = tmp.loc[tmp['rank'] <= 12]\n",
    "\n",
    "# # for customer_id in tmp['customer_id'].unique():\n",
    "# #     purchase_dict[customer_id] = {} \n",
    "\n",
    "# # for customer_id, article_id, value in zip(tmp['customer_id'], tmp['article_id'], tmp['value']):\n",
    "# #     purchase_dict[customer_id][article_id] = value\n",
    "\n",
    "# purchase_df = tmp.sort_values(['customer_id', 'value'], ascending = False).reset_index(drop = True)\n",
    "# purchase_df['prediction'] = '0' + purchase_df['article_id'].astype(str) + ' '\n",
    "# purchase_df = purchase_df.groupby('customer_id').agg({'prediction': sum}).reset_index()\n",
    "# purchase_df['prediction'] = purchase_df['prediction'].str.strip()\n",
    "# purchase_df = cudf.DataFrame(purchase_df)"
   ]
  },
  {
   "cell_type": "markdown",
   "id": "d5273816",
   "metadata": {
    "papermill": {
     "duration": 0.171448,
     "end_time": "2022-03-27T09:24:55.064667",
     "exception": false,
     "start_time": "2022-03-27T09:24:54.893219",
     "status": "completed"
    },
    "tags": []
   },
   "source": [
    "### Make a submission"
   ]
  },
  {
   "cell_type": "code",
   "execution_count": 100,
   "id": "0f33db9c",
   "metadata": {
    "execution": {
     "iopub.execute_input": "2022-03-27T09:24:55.418548Z",
     "iopub.status.busy": "2022-03-27T09:24:55.417589Z",
     "iopub.status.idle": "2022-03-27T09:24:55.475841Z",
     "shell.execute_reply": "2022-03-27T09:24:55.475321Z",
     "shell.execute_reply.started": "2022-03-27T08:36:05.643592Z"
    },
    "papermill": {
     "duration": 0.239829,
     "end_time": "2022-03-27T09:24:55.475997",
     "exception": false,
     "start_time": "2022-03-27T09:24:55.236168",
     "status": "completed"
    },
    "tags": []
   },
   "outputs": [],
   "source": [
    "merge_result[\"article_id\"] = \"0\"+merge_result[\"article_id\"].astype(\"str\")"
   ]
  },
  {
   "cell_type": "code",
   "execution_count": 101,
   "id": "e311d17b",
   "metadata": {
    "execution": {
     "iopub.execute_input": "2022-03-27T09:24:55.840478Z",
     "iopub.status.busy": "2022-03-27T09:24:55.838180Z",
     "iopub.status.idle": "2022-03-27T09:24:55.892186Z",
     "shell.execute_reply": "2022-03-27T09:24:55.892784Z",
     "shell.execute_reply.started": "2022-03-27T08:36:05.701879Z"
    },
    "papermill": {
     "duration": 0.243842,
     "end_time": "2022-03-27T09:24:55.892932",
     "exception": false,
     "start_time": "2022-03-27T09:24:55.649090",
     "status": "completed"
    },
    "tags": []
   },
   "outputs": [
    {
     "data": {
      "text/html": [
       "<div>\n",
       "<style scoped>\n",
       "    .dataframe tbody tr th:only-of-type {\n",
       "        vertical-align: middle;\n",
       "    }\n",
       "\n",
       "    .dataframe tbody tr th {\n",
       "        vertical-align: top;\n",
       "    }\n",
       "\n",
       "    .dataframe thead th {\n",
       "        text-align: right;\n",
       "    }\n",
       "</style>\n",
       "<table border=\"1\" class=\"dataframe\">\n",
       "  <thead>\n",
       "    <tr style=\"text-align: right;\">\n",
       "      <th></th>\n",
       "      <th>customer_id</th>\n",
       "      <th>article_id</th>\n",
       "      <th>score</th>\n",
       "    </tr>\n",
       "  </thead>\n",
       "  <tbody>\n",
       "    <tr>\n",
       "      <th>0</th>\n",
       "      <td>-6461816860992833268</td>\n",
       "      <td>0863583001</td>\n",
       "      <td>0.001364</td>\n",
       "    </tr>\n",
       "    <tr>\n",
       "      <th>1</th>\n",
       "      <td>320373585636142920</td>\n",
       "      <td>0909911001</td>\n",
       "      <td>0.001364</td>\n",
       "    </tr>\n",
       "    <tr>\n",
       "      <th>2</th>\n",
       "      <td>-7634254025423320173</td>\n",
       "      <td>0896152002</td>\n",
       "      <td>0.002363</td>\n",
       "    </tr>\n",
       "    <tr>\n",
       "      <th>3</th>\n",
       "      <td>-4220787965822849314</td>\n",
       "      <td>0902175001</td>\n",
       "      <td>0.003276</td>\n",
       "    </tr>\n",
       "    <tr>\n",
       "      <th>4</th>\n",
       "      <td>-4590776451978817824</td>\n",
       "      <td>0732206001</td>\n",
       "      <td>0.001834</td>\n",
       "    </tr>\n",
       "    <tr>\n",
       "      <th>...</th>\n",
       "      <td>...</td>\n",
       "      <td>...</td>\n",
       "      <td>...</td>\n",
       "    </tr>\n",
       "    <tr>\n",
       "      <th>32864950</th>\n",
       "      <td>-3074690139220755690</td>\n",
       "      <td>0907696001</td>\n",
       "      <td>0.012195</td>\n",
       "    </tr>\n",
       "    <tr>\n",
       "      <th>32864951</th>\n",
       "      <td>823854084657279915</td>\n",
       "      <td>0910601003</td>\n",
       "      <td>0.003787</td>\n",
       "    </tr>\n",
       "    <tr>\n",
       "      <th>32864952</th>\n",
       "      <td>-9161684362864817011</td>\n",
       "      <td>0547780003</td>\n",
       "      <td>0.018519</td>\n",
       "    </tr>\n",
       "    <tr>\n",
       "      <th>32864953</th>\n",
       "      <td>1619280285607487902</td>\n",
       "      <td>0762846027</td>\n",
       "      <td>0.001946</td>\n",
       "    </tr>\n",
       "    <tr>\n",
       "      <th>32864954</th>\n",
       "      <td>-7386616989315391498</td>\n",
       "      <td>0714790028</td>\n",
       "      <td>0.001145</td>\n",
       "    </tr>\n",
       "  </tbody>\n",
       "</table>\n",
       "<p>32864955 rows × 3 columns</p>\n",
       "</div>"
      ],
      "text/plain": [
       "                  customer_id  article_id     score\n",
       "0        -6461816860992833268  0863583001  0.001364\n",
       "1          320373585636142920  0909911001  0.001364\n",
       "2        -7634254025423320173  0896152002  0.002363\n",
       "3        -4220787965822849314  0902175001  0.003276\n",
       "4        -4590776451978817824  0732206001  0.001834\n",
       "...                       ...         ...       ...\n",
       "32864950 -3074690139220755690  0907696001  0.012195\n",
       "32864951   823854084657279915  0910601003  0.003787\n",
       "32864952 -9161684362864817011  0547780003  0.018519\n",
       "32864953  1619280285607487902  0762846027  0.001946\n",
       "32864954 -7386616989315391498  0714790028  0.001145\n",
       "\n",
       "[32864955 rows x 3 columns]"
      ]
     },
     "execution_count": 101,
     "metadata": {},
     "output_type": "execute_result"
    }
   ],
   "source": [
    "merge_result"
   ]
  },
  {
   "cell_type": "code",
   "execution_count": 102,
   "id": "412777f4",
   "metadata": {
    "execution": {
     "iopub.execute_input": "2022-03-27T09:24:56.243035Z",
     "iopub.status.busy": "2022-03-27T09:24:56.241960Z",
     "iopub.status.idle": "2022-03-27T09:24:56.677233Z",
     "shell.execute_reply": "2022-03-27T09:24:56.676672Z",
     "shell.execute_reply.started": "2022-03-27T08:36:05.758302Z"
    },
    "papermill": {
     "duration": 0.611831,
     "end_time": "2022-03-27T09:24:56.677367",
     "exception": false,
     "start_time": "2022-03-27T09:24:56.065536",
     "status": "completed"
    },
    "tags": []
   },
   "outputs": [],
   "source": [
    "merge_result = merge_result.sort_values(by = [\"customer_id\", \"score\"], ascending = False)"
   ]
  },
  {
   "cell_type": "code",
   "execution_count": 103,
   "id": "ab2bdddc",
   "metadata": {
    "execution": {
     "iopub.execute_input": "2022-03-27T09:24:57.017494Z",
     "iopub.status.busy": "2022-03-27T09:24:57.016815Z",
     "iopub.status.idle": "2022-03-27T09:24:57.020446Z",
     "shell.execute_reply": "2022-03-27T09:24:57.020898Z",
     "shell.execute_reply.started": "2022-03-27T08:36:06.194600Z"
    },
    "papermill": {
     "duration": 0.175823,
     "end_time": "2022-03-27T09:24:57.021072",
     "exception": false,
     "start_time": "2022-03-27T09:24:56.845249",
     "status": "completed"
    },
    "tags": []
   },
   "outputs": [],
   "source": [
    "#merge_result.to_pandas()[:10000].groupby([\"customer_id\"])[\"article_id\"].agg(lambda x: print(x.to_list()))"
   ]
  },
  {
   "cell_type": "code",
   "execution_count": 104,
   "id": "1ebcebff",
   "metadata": {
    "execution": {
     "iopub.execute_input": "2022-03-27T09:24:57.432500Z",
     "iopub.status.busy": "2022-03-27T09:24:57.431257Z",
     "iopub.status.idle": "2022-03-27T09:24:57.487654Z",
     "shell.execute_reply": "2022-03-27T09:24:57.488231Z",
     "shell.execute_reply.started": "2022-03-27T08:36:06.199630Z"
    },
    "papermill": {
     "duration": 0.292229,
     "end_time": "2022-03-27T09:24:57.488380",
     "exception": false,
     "start_time": "2022-03-27T09:24:57.196151",
     "status": "completed"
    },
    "tags": []
   },
   "outputs": [
    {
     "data": {
      "text/html": [
       "<div>\n",
       "<style scoped>\n",
       "    .dataframe tbody tr th:only-of-type {\n",
       "        vertical-align: middle;\n",
       "    }\n",
       "\n",
       "    .dataframe tbody tr th {\n",
       "        vertical-align: top;\n",
       "    }\n",
       "\n",
       "    .dataframe thead th {\n",
       "        text-align: right;\n",
       "    }\n",
       "</style>\n",
       "<table border=\"1\" class=\"dataframe\">\n",
       "  <thead>\n",
       "    <tr style=\"text-align: right;\">\n",
       "      <th></th>\n",
       "      <th>customer_id</th>\n",
       "      <th>article_id</th>\n",
       "      <th>score</th>\n",
       "    </tr>\n",
       "  </thead>\n",
       "  <tbody>\n",
       "    <tr>\n",
       "      <th>17374444</th>\n",
       "      <td>9223370729206611574</td>\n",
       "      <td>0909370001</td>\n",
       "      <td>0.007691</td>\n",
       "    </tr>\n",
       "    <tr>\n",
       "      <th>29672984</th>\n",
       "      <td>9223370729206611574</td>\n",
       "      <td>0909371001</td>\n",
       "      <td>0.005073</td>\n",
       "    </tr>\n",
       "    <tr>\n",
       "      <th>5469581</th>\n",
       "      <td>9223370729206611574</td>\n",
       "      <td>0805947001</td>\n",
       "      <td>0.002618</td>\n",
       "    </tr>\n",
       "    <tr>\n",
       "      <th>3327694</th>\n",
       "      <td>9223370729206611574</td>\n",
       "      <td>0936622001</td>\n",
       "      <td>0.002291</td>\n",
       "    </tr>\n",
       "    <tr>\n",
       "      <th>6509995</th>\n",
       "      <td>9223370729206611574</td>\n",
       "      <td>0763469002</td>\n",
       "      <td>0.002291</td>\n",
       "    </tr>\n",
       "    <tr>\n",
       "      <th>...</th>\n",
       "      <td>...</td>\n",
       "      <td>...</td>\n",
       "      <td>...</td>\n",
       "    </tr>\n",
       "    <tr>\n",
       "      <th>30704861</th>\n",
       "      <td>-9223352921020755230</td>\n",
       "      <td>0865621006</td>\n",
       "      <td>0.018519</td>\n",
       "    </tr>\n",
       "    <tr>\n",
       "      <th>31226679</th>\n",
       "      <td>-9223352921020755230</td>\n",
       "      <td>0807241057</td>\n",
       "      <td>0.018519</td>\n",
       "    </tr>\n",
       "    <tr>\n",
       "      <th>31468832</th>\n",
       "      <td>-9223352921020755230</td>\n",
       "      <td>0892906003</td>\n",
       "      <td>0.018519</td>\n",
       "    </tr>\n",
       "    <tr>\n",
       "      <th>31586457</th>\n",
       "      <td>-9223352921020755230</td>\n",
       "      <td>0843457005</td>\n",
       "      <td>0.018519</td>\n",
       "    </tr>\n",
       "    <tr>\n",
       "      <th>32098037</th>\n",
       "      <td>-9223352921020755230</td>\n",
       "      <td>0742400042</td>\n",
       "      <td>0.018519</td>\n",
       "    </tr>\n",
       "  </tbody>\n",
       "</table>\n",
       "<p>32864955 rows × 3 columns</p>\n",
       "</div>"
      ],
      "text/plain": [
       "                  customer_id  article_id     score\n",
       "17374444  9223370729206611574  0909370001  0.007691\n",
       "29672984  9223370729206611574  0909371001  0.005073\n",
       "5469581   9223370729206611574  0805947001  0.002618\n",
       "3327694   9223370729206611574  0936622001  0.002291\n",
       "6509995   9223370729206611574  0763469002  0.002291\n",
       "...                       ...         ...       ...\n",
       "30704861 -9223352921020755230  0865621006  0.018519\n",
       "31226679 -9223352921020755230  0807241057  0.018519\n",
       "31468832 -9223352921020755230  0892906003  0.018519\n",
       "31586457 -9223352921020755230  0843457005  0.018519\n",
       "32098037 -9223352921020755230  0742400042  0.018519\n",
       "\n",
       "[32864955 rows x 3 columns]"
      ]
     },
     "execution_count": 104,
     "metadata": {},
     "output_type": "execute_result"
    }
   ],
   "source": [
    "merge_result"
   ]
  },
  {
   "cell_type": "code",
   "execution_count": 105,
   "id": "02016960",
   "metadata": {
    "execution": {
     "iopub.execute_input": "2022-03-27T09:24:57.850465Z",
     "iopub.status.busy": "2022-03-27T09:24:57.848823Z",
     "iopub.status.idle": "2022-03-27T09:25:19.318070Z",
     "shell.execute_reply": "2022-03-27T09:25:19.317192Z",
     "shell.execute_reply.started": "2022-03-27T08:36:06.260260Z"
    },
    "papermill": {
     "duration": 21.653145,
     "end_time": "2022-03-27T09:25:19.318215",
     "exception": false,
     "start_time": "2022-03-27T09:24:57.665070",
     "status": "completed"
    },
    "tags": []
   },
   "outputs": [],
   "source": [
    "final = merge_result.to_pandas().groupby([\"customer_id\"])[\"article_id\"].agg(lambda x: \" \".join(x)[:131])"
   ]
  },
  {
   "cell_type": "code",
   "execution_count": 106,
   "id": "95e62b37",
   "metadata": {
    "execution": {
     "iopub.execute_input": "2022-03-27T09:25:19.670282Z",
     "iopub.status.busy": "2022-03-27T09:25:19.669367Z",
     "iopub.status.idle": "2022-03-27T09:25:19.672238Z",
     "shell.execute_reply": "2022-03-27T09:25:19.672742Z",
     "shell.execute_reply.started": "2022-03-27T08:36:24.457824Z"
    },
    "papermill": {
     "duration": 0.177405,
     "end_time": "2022-03-27T09:25:19.672888",
     "exception": false,
     "start_time": "2022-03-27T09:25:19.495483",
     "status": "completed"
    },
    "tags": []
   },
   "outputs": [],
   "source": [
    "# source = merge_result.to_pandas().groupby([\"customer_id\"])[\"article_id\"].agg(lambda x: \" \".join(x)[:131])"
   ]
  },
  {
   "cell_type": "code",
   "execution_count": 107,
   "id": "2fee066b",
   "metadata": {
    "execution": {
     "iopub.execute_input": "2022-03-27T09:25:20.023804Z",
     "iopub.status.busy": "2022-03-27T09:25:20.022326Z",
     "iopub.status.idle": "2022-03-27T09:25:20.121215Z",
     "shell.execute_reply": "2022-03-27T09:25:20.120530Z",
     "shell.execute_reply.started": "2022-03-27T08:36:24.463711Z"
    },
    "papermill": {
     "duration": 0.27616,
     "end_time": "2022-03-27T09:25:20.121381",
     "exception": false,
     "start_time": "2022-03-27T09:25:19.845221",
     "status": "completed"
    },
    "tags": []
   },
   "outputs": [],
   "source": [
    "final = final.reset_index()"
   ]
  },
  {
   "cell_type": "code",
   "execution_count": 108,
   "id": "6fa83ce2",
   "metadata": {
    "execution": {
     "iopub.execute_input": "2022-03-27T09:25:20.477932Z",
     "iopub.status.busy": "2022-03-27T09:25:20.476471Z",
     "iopub.status.idle": "2022-03-27T09:25:20.526333Z",
     "shell.execute_reply": "2022-03-27T09:25:20.525719Z",
     "shell.execute_reply.started": "2022-03-27T08:36:24.549507Z"
    },
    "papermill": {
     "duration": 0.230401,
     "end_time": "2022-03-27T09:25:20.526476",
     "exception": false,
     "start_time": "2022-03-27T09:25:20.296075",
     "status": "completed"
    },
    "tags": []
   },
   "outputs": [],
   "source": [
    "final = final.rename(columns = {\"article_id\": \"prediction\"})"
   ]
  },
  {
   "cell_type": "code",
   "execution_count": 109,
   "id": "68612f76",
   "metadata": {
    "execution": {
     "iopub.execute_input": "2022-03-27T09:25:20.880893Z",
     "iopub.status.busy": "2022-03-27T09:25:20.879948Z",
     "iopub.status.idle": "2022-03-27T09:25:20.890727Z",
     "shell.execute_reply": "2022-03-27T09:25:20.890195Z",
     "shell.execute_reply.started": "2022-03-27T08:36:24.592959Z"
    },
    "papermill": {
     "duration": 0.188699,
     "end_time": "2022-03-27T09:25:20.890861",
     "exception": false,
     "start_time": "2022-03-27T09:25:20.702162",
     "status": "completed"
    },
    "tags": []
   },
   "outputs": [
    {
     "data": {
      "text/html": [
       "<div>\n",
       "<style scoped>\n",
       "    .dataframe tbody tr th:only-of-type {\n",
       "        vertical-align: middle;\n",
       "    }\n",
       "\n",
       "    .dataframe tbody tr th {\n",
       "        vertical-align: top;\n",
       "    }\n",
       "\n",
       "    .dataframe thead th {\n",
       "        text-align: right;\n",
       "    }\n",
       "</style>\n",
       "<table border=\"1\" class=\"dataframe\">\n",
       "  <thead>\n",
       "    <tr style=\"text-align: right;\">\n",
       "      <th></th>\n",
       "      <th>customer_id</th>\n",
       "      <th>prediction</th>\n",
       "    </tr>\n",
       "  </thead>\n",
       "  <tbody>\n",
       "    <tr>\n",
       "      <th>0</th>\n",
       "      <td>-9223352921020755230</td>\n",
       "      <td>0739590032 0860949002 0788463001 0685814022 07...</td>\n",
       "    </tr>\n",
       "    <tr>\n",
       "      <th>1</th>\n",
       "      <td>-9223343869995384291</td>\n",
       "      <td>0909370001 0910601003 0751471001 0896152002 09...</td>\n",
       "    </tr>\n",
       "    <tr>\n",
       "      <th>2</th>\n",
       "      <td>-9223321797620987725</td>\n",
       "      <td>0751471043 0865799006 0918522001 0910601003 09...</td>\n",
       "    </tr>\n",
       "    <tr>\n",
       "      <th>3</th>\n",
       "      <td>-9223319430705797669</td>\n",
       "      <td>0685814003 0448509014 0715624001 0918522001 07...</td>\n",
       "    </tr>\n",
       "    <tr>\n",
       "      <th>4</th>\n",
       "      <td>-9223308614576639426</td>\n",
       "      <td>0899282001 0872537004 0865929003 0850139001 08...</td>\n",
       "    </tr>\n",
       "    <tr>\n",
       "      <th>...</th>\n",
       "      <td>...</td>\n",
       "      <td>...</td>\n",
       "    </tr>\n",
       "    <tr>\n",
       "      <th>1355956</th>\n",
       "      <td>9223319300843860958</td>\n",
       "      <td>0751471001 0751471038 0751471043 0673677002 09...</td>\n",
       "    </tr>\n",
       "    <tr>\n",
       "      <th>1355957</th>\n",
       "      <td>9223333063893176977</td>\n",
       "      <td>0909370001 0865799006 0924243001 0809238001 09...</td>\n",
       "    </tr>\n",
       "    <tr>\n",
       "      <th>1355958</th>\n",
       "      <td>9223345314868180224</td>\n",
       "      <td>0909370001 0717464001 0841383002 0809238001 08...</td>\n",
       "    </tr>\n",
       "    <tr>\n",
       "      <th>1355959</th>\n",
       "      <td>9223357421094039679</td>\n",
       "      <td>0918522001 0751471043 0751471001 0924243001 07...</td>\n",
       "    </tr>\n",
       "    <tr>\n",
       "      <th>1355960</th>\n",
       "      <td>9223370729206611574</td>\n",
       "      <td>0909370001 0909371001 0805947001 0936622001 07...</td>\n",
       "    </tr>\n",
       "  </tbody>\n",
       "</table>\n",
       "<p>1355961 rows × 2 columns</p>\n",
       "</div>"
      ],
      "text/plain": [
       "                 customer_id  \\\n",
       "0       -9223352921020755230   \n",
       "1       -9223343869995384291   \n",
       "2       -9223321797620987725   \n",
       "3       -9223319430705797669   \n",
       "4       -9223308614576639426   \n",
       "...                      ...   \n",
       "1355956  9223319300843860958   \n",
       "1355957  9223333063893176977   \n",
       "1355958  9223345314868180224   \n",
       "1355959  9223357421094039679   \n",
       "1355960  9223370729206611574   \n",
       "\n",
       "                                                prediction  \n",
       "0        0739590032 0860949002 0788463001 0685814022 07...  \n",
       "1        0909370001 0910601003 0751471001 0896152002 09...  \n",
       "2        0751471043 0865799006 0918522001 0910601003 09...  \n",
       "3        0685814003 0448509014 0715624001 0918522001 07...  \n",
       "4        0899282001 0872537004 0865929003 0850139001 08...  \n",
       "...                                                    ...  \n",
       "1355956  0751471001 0751471038 0751471043 0673677002 09...  \n",
       "1355957  0909370001 0865799006 0924243001 0809238001 09...  \n",
       "1355958  0909370001 0717464001 0841383002 0809238001 08...  \n",
       "1355959  0918522001 0751471043 0751471001 0924243001 07...  \n",
       "1355960  0909370001 0909371001 0805947001 0936622001 07...  \n",
       "\n",
       "[1355961 rows x 2 columns]"
      ]
     },
     "execution_count": 109,
     "metadata": {},
     "output_type": "execute_result"
    }
   ],
   "source": [
    "final"
   ]
  },
  {
   "cell_type": "code",
   "execution_count": 110,
   "id": "37500040",
   "metadata": {
    "execution": {
     "iopub.execute_input": "2022-03-27T09:25:21.383144Z",
     "iopub.status.busy": "2022-03-27T09:25:21.382144Z",
     "iopub.status.idle": "2022-03-27T09:25:21.386222Z",
     "shell.execute_reply": "2022-03-27T09:25:21.386763Z",
     "shell.execute_reply.started": "2022-03-27T08:36:24.606641Z"
    },
    "papermill": {
     "duration": 0.323506,
     "end_time": "2022-03-27T09:25:21.387037",
     "exception": false,
     "start_time": "2022-03-27T09:25:21.063531",
     "status": "completed"
    },
    "tags": []
   },
   "outputs": [
    {
     "data": {
      "text/plain": [
       "126"
      ]
     },
     "execution_count": 110,
     "metadata": {},
     "output_type": "execute_result"
    }
   ],
   "source": [
    "gc.collect()"
   ]
  },
  {
   "cell_type": "code",
   "execution_count": 111,
   "id": "ad09e245",
   "metadata": {
    "execution": {
     "iopub.execute_input": "2022-03-27T09:25:21.748069Z",
     "iopub.status.busy": "2022-03-27T09:25:21.747438Z",
     "iopub.status.idle": "2022-03-27T09:25:23.046363Z",
     "shell.execute_reply": "2022-03-27T09:25:23.045271Z",
     "shell.execute_reply.started": "2022-03-27T08:36:24.747180Z"
    },
    "papermill": {
     "duration": 1.485721,
     "end_time": "2022-03-27T09:25:23.046525",
     "exception": false,
     "start_time": "2022-03-27T09:25:21.560804",
     "status": "completed"
    },
    "tags": []
   },
   "outputs": [],
   "source": [
    "if Last_date == \"2020-09-22\":\n",
    "    sub  = cudf.read_csv('../input/h-and-m-personalized-fashion-recommendations/sample_submission.csv',\n",
    "                                usecols= ['customer_id'], \n",
    "                                dtype={'customer_id': 'string'})\n",
    "\n",
    "    sub['customer_id2'] = sub['customer_id'].str[-16:].str.hex_to_int().astype('int64')\n",
    "\n",
    "    sub = sub.to_pandas().merge(final, left_on = 'customer_id2', right_on = 'customer_id', how = 'left',\n",
    "                   suffixes = ('', '_ignored'))\n",
    "else:\n",
    "    sub  = cudf.read_csv('../input/h-and-m-personalized-fashion-recommendations/sample_submission.csv',\n",
    "                                usecols= ['customer_id'], \n",
    "                                dtype={'customer_id': 'string'})\n",
    "\n",
    "    sub['customer_id'] = sub['customer_id'].str[-16:].str.hex_to_int().astype('int64')\n",
    "\n",
    "    sub = sub.to_pandas().merge(final, left_on = 'customer_id', right_on = 'customer_id', how = 'left',\n",
    "                   suffixes = ('', '_ignored'))\n",
    "    \n",
    "\n",
    "#sub = sub.to_pandas()\n",
    "\n",
    "\n",
    "#final = sub.groupby([\"customer_id\"])[\"article_id\"].agg(lambda x: \" \".join(x + [general_pred_str]).strip()[:131])\n",
    "\n",
    "# sub['prediction'] = sub['prediction'].fillna(general_pred_str)\n",
    "# sub['prediction'] = sub['prediction'] + ' ' +  general_pred_str\n",
    "# sub['prediction'] = sub['prediction'].str.strip()\n",
    "# sub['prediction'] = sub['prediction'].str[:131]\n",
    "# sub = sub[['customer_id', 'prediction']]\n",
    "# sub.to_csv(f'submission.csv',index=False)\n"
   ]
  },
  {
   "cell_type": "code",
   "execution_count": 112,
   "id": "b56f3179",
   "metadata": {
    "execution": {
     "iopub.execute_input": "2022-03-27T09:25:23.683582Z",
     "iopub.status.busy": "2022-03-27T09:25:23.681800Z",
     "iopub.status.idle": "2022-03-27T09:25:23.691991Z",
     "shell.execute_reply": "2022-03-27T09:25:23.692605Z",
     "shell.execute_reply.started": "2022-03-27T08:36:25.648426Z"
    },
    "papermill": {
     "duration": 0.465697,
     "end_time": "2022-03-27T09:25:23.692789",
     "exception": false,
     "start_time": "2022-03-27T09:25:23.227092",
     "status": "completed"
    },
    "tags": []
   },
   "outputs": [
    {
     "data": {
      "text/plain": [
       "16019"
      ]
     },
     "execution_count": 112,
     "metadata": {},
     "output_type": "execute_result"
    }
   ],
   "source": [
    "sub[\"prediction\"].isna().sum()"
   ]
  },
  {
   "cell_type": "code",
   "execution_count": 113,
   "id": "dcde6b8c",
   "metadata": {
    "execution": {
     "iopub.execute_input": "2022-03-27T09:25:24.048866Z",
     "iopub.status.busy": "2022-03-27T09:25:24.047943Z",
     "iopub.status.idle": "2022-03-27T09:25:24.051804Z",
     "shell.execute_reply": "2022-03-27T09:25:24.052557Z",
     "shell.execute_reply.started": "2022-03-27T08:36:25.895942Z"
    },
    "papermill": {
     "duration": 0.185145,
     "end_time": "2022-03-27T09:25:24.052721",
     "exception": false,
     "start_time": "2022-03-27T09:25:23.867576",
     "status": "completed"
    },
    "tags": []
   },
   "outputs": [
    {
     "data": {
      "text/plain": [
       "'0909370001 0865799006 0918522001 0924243001 0448509014 0751471001 0809238001 0918292001 0762846027 0809238005 0673677002 0923758001'"
      ]
     },
     "execution_count": 113,
     "metadata": {},
     "output_type": "execute_result"
    }
   ],
   "source": [
    "general_pred_str"
   ]
  },
  {
   "cell_type": "code",
   "execution_count": 114,
   "id": "905e2aa0",
   "metadata": {
    "execution": {
     "iopub.execute_input": "2022-03-27T09:25:24.408208Z",
     "iopub.status.busy": "2022-03-27T09:25:24.407040Z",
     "iopub.status.idle": "2022-03-27T09:25:24.551940Z",
     "shell.execute_reply": "2022-03-27T09:25:24.552517Z",
     "shell.execute_reply.started": "2022-03-27T08:36:25.902901Z"
    },
    "papermill": {
     "duration": 0.327567,
     "end_time": "2022-03-27T09:25:24.552696",
     "exception": false,
     "start_time": "2022-03-27T09:25:24.225129",
     "status": "completed"
    },
    "tags": []
   },
   "outputs": [],
   "source": [
    "sub_id  = cudf.read_csv('../input/h-and-m-personalized-fashion-recommendations/sample_submission.csv',\n",
    "                                usecols= ['customer_id'], \n",
    "                                dtype={'customer_id': 'string'})\n",
    "cid = cudf.DataFrame(sub_id['customer_id'].str[-16:].str.hex_to_int().astype('int64'))"
   ]
  },
  {
   "cell_type": "code",
   "execution_count": 115,
   "id": "19d9d471",
   "metadata": {
    "execution": {
     "iopub.execute_input": "2022-03-27T09:25:24.913289Z",
     "iopub.status.busy": "2022-03-27T09:25:24.912347Z",
     "iopub.status.idle": "2022-03-27T09:25:24.914925Z",
     "shell.execute_reply": "2022-03-27T09:25:24.915416Z",
     "shell.execute_reply.started": "2022-03-27T08:36:26.069401Z"
    },
    "papermill": {
     "duration": 0.182283,
     "end_time": "2022-03-27T09:25:24.915563",
     "exception": false,
     "start_time": "2022-03-27T09:25:24.733280",
     "status": "completed"
    },
    "tags": []
   },
   "outputs": [],
   "source": [
    "cid[\"customer_id\"] = cid[\"customer_id\"].astype(\"int64\")"
   ]
  },
  {
   "cell_type": "code",
   "execution_count": 116,
   "id": "d5a875de",
   "metadata": {
    "execution": {
     "iopub.execute_input": "2022-03-27T09:25:25.277644Z",
     "iopub.status.busy": "2022-03-27T09:25:25.276568Z",
     "iopub.status.idle": "2022-03-27T09:25:26.981556Z",
     "shell.execute_reply": "2022-03-27T09:25:26.980649Z",
     "shell.execute_reply.started": "2022-03-27T08:45:39.087798Z"
    },
    "papermill": {
     "duration": 1.893265,
     "end_time": "2022-03-27T09:25:26.981698",
     "exception": false,
     "start_time": "2022-03-27T09:25:25.088433",
     "status": "completed"
    },
    "tags": []
   },
   "outputs": [],
   "source": [
    "def iter_to_str(iterable):\n",
    "    return \" \".join(map(lambda x: str(0) + str(x), iterable))\n",
    "real = val.to_pandas().groupby('customer_id')[\"article_id\"].apply(iter_to_str).reset_index()"
   ]
  },
  {
   "cell_type": "code",
   "execution_count": 117,
   "id": "0a0fc321",
   "metadata": {
    "execution": {
     "iopub.execute_input": "2022-03-27T09:25:27.358608Z",
     "iopub.status.busy": "2022-03-27T09:25:27.356833Z",
     "iopub.status.idle": "2022-03-27T09:25:27.837658Z",
     "shell.execute_reply": "2022-03-27T09:25:27.837008Z",
     "shell.execute_reply.started": "2022-03-27T08:45:40.384278Z"
    },
    "papermill": {
     "duration": 0.678215,
     "end_time": "2022-03-27T09:25:27.837838",
     "exception": false,
     "start_time": "2022-03-27T09:25:27.159623",
     "status": "completed"
    },
    "tags": []
   },
   "outputs": [],
   "source": [
    "real = real.merge(cid.to_pandas(), on='customer_id', how='inner')\n",
    "real.article_id = real.article_id.apply(lambda s: [] if pd.isna(s) else s.split())"
   ]
  },
  {
   "cell_type": "code",
   "execution_count": 118,
   "id": "4bc72824",
   "metadata": {
    "execution": {
     "iopub.execute_input": "2022-03-27T09:25:28.486421Z",
     "iopub.status.busy": "2022-03-27T09:25:28.485134Z",
     "iopub.status.idle": "2022-03-27T09:25:30.861144Z",
     "shell.execute_reply": "2022-03-27T09:25:30.860519Z",
     "shell.execute_reply.started": "2022-03-27T08:45:40.689300Z"
    },
    "papermill": {
     "duration": 2.843283,
     "end_time": "2022-03-27T09:25:30.861323",
     "exception": false,
     "start_time": "2022-03-27T09:25:28.018040",
     "status": "completed"
    },
    "tags": []
   },
   "outputs": [],
   "source": [
    "sub[\"prediction\"] = sub[\"prediction\"].fillna(general_pred_str)\n",
    "sub['prediction'] = sub['prediction'] + ' ' +  general_pred_str\n",
    "sub['prediction'] = sub['prediction'].str[:131]"
   ]
  },
  {
   "cell_type": "code",
   "execution_count": 119,
   "id": "7cd79eaa",
   "metadata": {
    "execution": {
     "iopub.execute_input": "2022-03-27T09:25:31.224534Z",
     "iopub.status.busy": "2022-03-27T09:25:31.223833Z",
     "iopub.status.idle": "2022-03-27T09:25:31.230903Z",
     "shell.execute_reply": "2022-03-27T09:25:31.230392Z",
     "shell.execute_reply.started": "2022-03-27T08:45:43.088383Z"
    },
    "papermill": {
     "duration": 0.194869,
     "end_time": "2022-03-27T09:25:31.231110",
     "exception": false,
     "start_time": "2022-03-27T09:25:31.036241",
     "status": "completed"
    },
    "tags": []
   },
   "outputs": [
    {
     "data": {
      "text/html": [
       "<div>\n",
       "<style scoped>\n",
       "    .dataframe tbody tr th:only-of-type {\n",
       "        vertical-align: middle;\n",
       "    }\n",
       "\n",
       "    .dataframe tbody tr th {\n",
       "        vertical-align: top;\n",
       "    }\n",
       "\n",
       "    .dataframe thead th {\n",
       "        text-align: right;\n",
       "    }\n",
       "</style>\n",
       "<table border=\"1\" class=\"dataframe\">\n",
       "  <thead>\n",
       "    <tr style=\"text-align: right;\">\n",
       "      <th></th>\n",
       "      <th>customer_id</th>\n",
       "      <th>article_id</th>\n",
       "    </tr>\n",
       "  </thead>\n",
       "  <tbody>\n",
       "    <tr>\n",
       "      <th>0</th>\n",
       "      <td>-9223100958908512198</td>\n",
       "      <td>[0785034009, 0673677027, 0673677024]</td>\n",
       "    </tr>\n",
       "    <tr>\n",
       "      <th>1</th>\n",
       "      <td>-9223002534477110135</td>\n",
       "      <td>[0793699001]</td>\n",
       "    </tr>\n",
       "    <tr>\n",
       "      <th>2</th>\n",
       "      <td>-9222810895170663723</td>\n",
       "      <td>[0892309001, 0903306004]</td>\n",
       "    </tr>\n",
       "    <tr>\n",
       "      <th>3</th>\n",
       "      <td>-9221924794303263774</td>\n",
       "      <td>[0888343003, 0892857002, 0708138013]</td>\n",
       "    </tr>\n",
       "    <tr>\n",
       "      <th>4</th>\n",
       "      <td>-9221811157628158522</td>\n",
       "      <td>[0891663002]</td>\n",
       "    </tr>\n",
       "    <tr>\n",
       "      <th>...</th>\n",
       "      <td>...</td>\n",
       "      <td>...</td>\n",
       "    </tr>\n",
       "    <tr>\n",
       "      <th>68979</th>\n",
       "      <td>9221607025486275188</td>\n",
       "      <td>[0751994003, 0699755081, 0699755071]</td>\n",
       "    </tr>\n",
       "    <tr>\n",
       "      <th>68980</th>\n",
       "      <td>9221813808370389952</td>\n",
       "      <td>[0869331006, 0562245099, 0865929002]</td>\n",
       "    </tr>\n",
       "    <tr>\n",
       "      <th>68981</th>\n",
       "      <td>9222310594107555341</td>\n",
       "      <td>[0884319001, 0884319003]</td>\n",
       "    </tr>\n",
       "    <tr>\n",
       "      <th>68982</th>\n",
       "      <td>9223099843213569889</td>\n",
       "      <td>[0903924002]</td>\n",
       "    </tr>\n",
       "    <tr>\n",
       "      <th>68983</th>\n",
       "      <td>9223141695752178477</td>\n",
       "      <td>[0914441003]</td>\n",
       "    </tr>\n",
       "  </tbody>\n",
       "</table>\n",
       "<p>68984 rows × 2 columns</p>\n",
       "</div>"
      ],
      "text/plain": [
       "               customer_id                            article_id\n",
       "0     -9223100958908512198  [0785034009, 0673677027, 0673677024]\n",
       "1     -9223002534477110135                          [0793699001]\n",
       "2     -9222810895170663723              [0892309001, 0903306004]\n",
       "3     -9221924794303263774  [0888343003, 0892857002, 0708138013]\n",
       "4     -9221811157628158522                          [0891663002]\n",
       "...                    ...                                   ...\n",
       "68979  9221607025486275188  [0751994003, 0699755081, 0699755071]\n",
       "68980  9221813808370389952  [0869331006, 0562245099, 0865929002]\n",
       "68981  9222310594107555341              [0884319001, 0884319003]\n",
       "68982  9223099843213569889                          [0903924002]\n",
       "68983  9223141695752178477                          [0914441003]\n",
       "\n",
       "[68984 rows x 2 columns]"
      ]
     },
     "execution_count": 119,
     "metadata": {},
     "output_type": "execute_result"
    }
   ],
   "source": [
    "real"
   ]
  },
  {
   "cell_type": "code",
   "execution_count": 120,
   "id": "f7af2bef",
   "metadata": {
    "execution": {
     "iopub.execute_input": "2022-03-27T09:25:31.593911Z",
     "iopub.status.busy": "2022-03-27T09:25:31.592916Z",
     "iopub.status.idle": "2022-03-27T09:25:31.596434Z",
     "shell.execute_reply": "2022-03-27T09:25:31.595812Z",
     "shell.execute_reply.started": "2022-03-27T08:45:43.104989Z"
    },
    "papermill": {
     "duration": 0.187532,
     "end_time": "2022-03-27T09:25:31.596577",
     "exception": false,
     "start_time": "2022-03-27T09:25:31.409045",
     "status": "completed"
    },
    "tags": []
   },
   "outputs": [],
   "source": [
    "#sub[:10000].groupby([\"customer_id\"])[\"article_id\"].agg(lambda x: \" \".join(x).strip()[:131])"
   ]
  },
  {
   "cell_type": "code",
   "execution_count": 121,
   "id": "7dfbd662",
   "metadata": {
    "execution": {
     "iopub.execute_input": "2022-03-27T09:25:31.947673Z",
     "iopub.status.busy": "2022-03-27T09:25:31.945519Z",
     "iopub.status.idle": "2022-03-27T09:25:31.948373Z",
     "shell.execute_reply": "2022-03-27T09:25:31.948887Z",
     "shell.execute_reply.started": "2022-03-27T08:45:43.114846Z"
    },
    "papermill": {
     "duration": 0.177466,
     "end_time": "2022-03-27T09:25:31.949063",
     "exception": false,
     "start_time": "2022-03-27T09:25:31.771597",
     "status": "completed"
    },
    "tags": []
   },
   "outputs": [],
   "source": [
    "#final"
   ]
  },
  {
   "cell_type": "markdown",
   "id": "0ebcbeb2",
   "metadata": {
    "papermill": {
     "duration": 0.176803,
     "end_time": "2022-03-27T09:25:32.304816",
     "exception": false,
     "start_time": "2022-03-27T09:25:32.128013",
     "status": "completed"
    },
    "tags": []
   },
   "source": [
    "## 验证集评估"
   ]
  },
  {
   "cell_type": "code",
   "execution_count": 122,
   "id": "5cf49adb",
   "metadata": {
    "execution": {
     "iopub.execute_input": "2022-03-27T09:25:32.828095Z",
     "iopub.status.busy": "2022-03-27T09:25:32.827040Z",
     "iopub.status.idle": "2022-03-27T09:25:32.831335Z",
     "shell.execute_reply": "2022-03-27T09:25:32.831852Z",
     "shell.execute_reply.started": "2022-03-27T08:45:43.122789Z"
    },
    "papermill": {
     "duration": 0.34612,
     "end_time": "2022-03-27T09:25:32.832064",
     "exception": false,
     "start_time": "2022-03-27T09:25:32.485944",
     "status": "completed"
    },
    "tags": []
   },
   "outputs": [
    {
     "data": {
      "text/plain": [
       "121"
      ]
     },
     "execution_count": 122,
     "metadata": {},
     "output_type": "execute_result"
    }
   ],
   "source": [
    "gc.collect()"
   ]
  },
  {
   "cell_type": "code",
   "execution_count": 123,
   "id": "73209e88",
   "metadata": {
    "execution": {
     "iopub.execute_input": "2022-03-27T09:25:33.202138Z",
     "iopub.status.busy": "2022-03-27T09:25:33.191655Z",
     "iopub.status.idle": "2022-03-27T09:25:33.286700Z",
     "shell.execute_reply": "2022-03-27T09:25:33.286168Z",
     "shell.execute_reply.started": "2022-03-27T09:15:51.168587Z"
    },
    "papermill": {
     "duration": 0.278173,
     "end_time": "2022-03-27T09:25:33.286838",
     "exception": false,
     "start_time": "2022-03-27T09:25:33.008665",
     "status": "completed"
    },
    "tags": []
   },
   "outputs": [],
   "source": [
    "import numpy as np, pandas as pd, datetime as dt\n",
    "import matplotlib.pyplot as plt; plt.style.use('ggplot')\n",
    "import seaborn as sns\n",
    "from collections import defaultdict\n",
    "\n",
    "def iter_to_str(iterable):\n",
    "    return \" \".join(map(lambda x: str(0) + str(x), iterable))\n",
    "\n",
    "def apk(actual, predicted, k=12):\n",
    "    if len(predicted) > k:\n",
    "        predicted = predicted[:k]\n",
    "    score, nhits = 0.0, 0.0\n",
    "    for i, p in enumerate(predicted):\n",
    "        if p in actual and p not in predicted[:i]:\n",
    "            nhits += 1.0\n",
    "            score += nhits / (i + 1.0)\n",
    "    if not actual:\n",
    "        return 0.0\n",
    "    return score / min(len(actual), k)\n",
    "\n",
    "def mapk(actual, predicted, k=12, return_apks=False):\n",
    "    assert len(actual) == len(predicted)\n",
    "    apks = [apk(ac, pr, k) for ac, pr in zip(actual, predicted) if 0 < len(ac)]\n",
    "    if return_apks:\n",
    "        return apks\n",
    "    return np.mean(apks)\n",
    "\n",
    "def blend(dt, w=[], k=12):\n",
    "    if len(w) == 0:\n",
    "        w = [1] * (len(dt))\n",
    "    preds = []\n",
    "    for i in range(len(w)):\n",
    "        preds.append(dt[i].split())\n",
    "    res = {}\n",
    "    for i in range(len(preds)):\n",
    "        if w[i] < 0:\n",
    "            continue\n",
    "        for n, v in enumerate(preds[i]):\n",
    "            if v in res:\n",
    "                res[v] += (w[i] / (n + 1))\n",
    "            else:\n",
    "                res[v] = (w[i] / (n + 1))    \n",
    "    res = list(dict(sorted(res.items(), key=lambda item: -item[1])).keys())\n",
    "    return ' '.join(res[:k])\n",
    "\n",
    "def prune(pred, ok_set, k=12):\n",
    "    pred = pred.split()\n",
    "    post = []\n",
    "    for item in pred:\n",
    "        if int(item) in ok_set and not item in post:\n",
    "            post.append(item)\n",
    "    return \" \".join(post[:k])\n",
    "\n",
    "def validation(actual, predicted, groups, score=0, index=-1, ignore=False, figsize=(12, 6), name = \"\"):\n",
    "    # actual, predicted : list of lists\n",
    "    # group : pandas Series\n",
    "    # score : pandas DataFrame\n",
    "    if ignore: return\n",
    "    ap12 = mapk(actual, predicted, return_apks=True)\n",
    "    map12 = round(np.mean(ap12), 6)\n",
    "    group_num = len(groups)\n",
    "    plt.figure(figsize=figsize)\n",
    "    plt.subplot(1, 1+group_num, 1); sns.histplot(data=ap12, log_scale=(0, 10), bins=20); plt.title(f\"MAP@12 : {map12}\")\n",
    "    count = 2\n",
    "    for name, group in groups.items():\n",
    "        if 1: score = pd.DataFrame({g:[] for g in sorted(group.unique().tolist())})\n",
    "        if index == -1 : index = score.shape[0]\n",
    "        score.loc[index, \"All\"] = map12\n",
    "        for g in group.unique():\n",
    "            map12 = round(mapk(actual[group == g], predicted[group == g]), 6)\n",
    "            score.loc[index, g] = map12\n",
    "        plt.subplot(1, 1+group_num, count); score[[g for g in group.unique()[::-1]] + ['All']].loc[index].plot.barh(); plt.title(\"{} MAP@12\".format(name))\n",
    "        count += 1\n",
    "        vc = pd.Series(predicted).apply(len).value_counts()\n",
    "        score.loc[index, \"Fill\"] = round(1 - sum(vc[k] * (12 - k) / 12 for k in (set(range(12)) & set(vc.index))) / len(actual), 3) * 100\n",
    "        display(score)\n",
    "    return score"
   ]
  },
  {
   "cell_type": "code",
   "execution_count": 124,
   "id": "fe3beb6e",
   "metadata": {
    "execution": {
     "iopub.execute_input": "2022-03-27T09:25:34.009648Z",
     "iopub.status.busy": "2022-03-27T09:25:34.008532Z",
     "iopub.status.idle": "2022-03-27T09:25:34.034601Z",
     "shell.execute_reply": "2022-03-27T09:25:34.035456Z",
     "shell.execute_reply.started": "2022-03-27T08:45:43.370835Z"
    },
    "papermill": {
     "duration": 0.388024,
     "end_time": "2022-03-27T09:25:34.035632",
     "exception": false,
     "start_time": "2022-03-27T09:25:33.647608",
     "status": "completed"
    },
    "tags": []
   },
   "outputs": [],
   "source": [
    "group = val.groupby('customer_id').sales_channel_id.mean().round().reset_index()\\\n",
    "    .merge(cid, on='customer_id', how='inner').rename(columns={'sales_channel_id':'group'})\n",
    "channal_group = group.group.fillna(3)"
   ]
  },
  {
   "cell_type": "code",
   "execution_count": 125,
   "id": "a53672c2",
   "metadata": {
    "execution": {
     "iopub.execute_input": "2022-03-27T09:25:34.410305Z",
     "iopub.status.busy": "2022-03-27T09:25:34.409218Z",
     "iopub.status.idle": "2022-03-27T09:25:34.427361Z",
     "shell.execute_reply": "2022-03-27T09:25:34.427854Z",
     "shell.execute_reply.started": "2022-03-27T08:45:43.394204Z"
    },
    "papermill": {
     "duration": 0.205572,
     "end_time": "2022-03-27T09:25:34.428033",
     "exception": false,
     "start_time": "2022-03-27T09:25:34.222461",
     "status": "completed"
    },
    "tags": []
   },
   "outputs": [
    {
     "data": {
      "text/plain": [
       "2.0    40829\n",
       "1.0    28155\n",
       "Name: group, dtype: int32"
      ]
     },
     "execution_count": 125,
     "metadata": {},
     "output_type": "execute_result"
    }
   ],
   "source": [
    "channal_group.value_counts()"
   ]
  },
  {
   "cell_type": "code",
   "execution_count": 126,
   "id": "c70b07bd",
   "metadata": {
    "execution": {
     "iopub.execute_input": "2022-03-27T09:25:34.800872Z",
     "iopub.status.busy": "2022-03-27T09:25:34.799869Z",
     "iopub.status.idle": "2022-03-27T09:25:34.804563Z",
     "shell.execute_reply": "2022-03-27T09:25:34.803955Z",
     "shell.execute_reply.started": "2022-03-27T08:45:43.413701Z"
    },
    "papermill": {
     "duration": 0.195609,
     "end_time": "2022-03-27T09:25:34.804723",
     "exception": false,
     "start_time": "2022-03-27T09:25:34.609114",
     "status": "completed"
    },
    "tags": []
   },
   "outputs": [
    {
     "data": {
      "text/html": [
       "<div>\n",
       "<style scoped>\n",
       "    .dataframe tbody tr th:only-of-type {\n",
       "        vertical-align: middle;\n",
       "    }\n",
       "\n",
       "    .dataframe tbody tr th {\n",
       "        vertical-align: top;\n",
       "    }\n",
       "\n",
       "    .dataframe thead th {\n",
       "        text-align: right;\n",
       "    }\n",
       "</style>\n",
       "<table border=\"1\" class=\"dataframe\">\n",
       "  <thead>\n",
       "    <tr style=\"text-align: right;\">\n",
       "      <th></th>\n",
       "      <th>customer_id</th>\n",
       "      <th>article_id</th>\n",
       "    </tr>\n",
       "  </thead>\n",
       "  <tbody>\n",
       "    <tr>\n",
       "      <th>0</th>\n",
       "      <td>-9223100958908512198</td>\n",
       "      <td>[0785034009, 0673677027, 0673677024]</td>\n",
       "    </tr>\n",
       "    <tr>\n",
       "      <th>1</th>\n",
       "      <td>-9223002534477110135</td>\n",
       "      <td>[0793699001]</td>\n",
       "    </tr>\n",
       "    <tr>\n",
       "      <th>2</th>\n",
       "      <td>-9222810895170663723</td>\n",
       "      <td>[0892309001, 0903306004]</td>\n",
       "    </tr>\n",
       "    <tr>\n",
       "      <th>3</th>\n",
       "      <td>-9221924794303263774</td>\n",
       "      <td>[0888343003, 0892857002, 0708138013]</td>\n",
       "    </tr>\n",
       "    <tr>\n",
       "      <th>4</th>\n",
       "      <td>-9221811157628158522</td>\n",
       "      <td>[0891663002]</td>\n",
       "    </tr>\n",
       "    <tr>\n",
       "      <th>...</th>\n",
       "      <td>...</td>\n",
       "      <td>...</td>\n",
       "    </tr>\n",
       "    <tr>\n",
       "      <th>68979</th>\n",
       "      <td>9221607025486275188</td>\n",
       "      <td>[0751994003, 0699755081, 0699755071]</td>\n",
       "    </tr>\n",
       "    <tr>\n",
       "      <th>68980</th>\n",
       "      <td>9221813808370389952</td>\n",
       "      <td>[0869331006, 0562245099, 0865929002]</td>\n",
       "    </tr>\n",
       "    <tr>\n",
       "      <th>68981</th>\n",
       "      <td>9222310594107555341</td>\n",
       "      <td>[0884319001, 0884319003]</td>\n",
       "    </tr>\n",
       "    <tr>\n",
       "      <th>68982</th>\n",
       "      <td>9223099843213569889</td>\n",
       "      <td>[0903924002]</td>\n",
       "    </tr>\n",
       "    <tr>\n",
       "      <th>68983</th>\n",
       "      <td>9223141695752178477</td>\n",
       "      <td>[0914441003]</td>\n",
       "    </tr>\n",
       "  </tbody>\n",
       "</table>\n",
       "<p>68984 rows × 2 columns</p>\n",
       "</div>"
      ],
      "text/plain": [
       "               customer_id                            article_id\n",
       "0     -9223100958908512198  [0785034009, 0673677027, 0673677024]\n",
       "1     -9223002534477110135                          [0793699001]\n",
       "2     -9222810895170663723              [0892309001, 0903306004]\n",
       "3     -9221924794303263774  [0888343003, 0892857002, 0708138013]\n",
       "4     -9221811157628158522                          [0891663002]\n",
       "...                    ...                                   ...\n",
       "68979  9221607025486275188  [0751994003, 0699755081, 0699755071]\n",
       "68980  9221813808370389952  [0869331006, 0562245099, 0865929002]\n",
       "68981  9222310594107555341              [0884319001, 0884319003]\n",
       "68982  9223099843213569889                          [0903924002]\n",
       "68983  9223141695752178477                          [0914441003]\n",
       "\n",
       "[68984 rows x 2 columns]"
      ]
     },
     "execution_count": 126,
     "metadata": {},
     "output_type": "execute_result"
    }
   ],
   "source": [
    "real"
   ]
  },
  {
   "cell_type": "code",
   "execution_count": 127,
   "id": "6c308135",
   "metadata": {
    "execution": {
     "iopub.execute_input": "2022-03-27T09:25:35.164929Z",
     "iopub.status.busy": "2022-03-27T09:25:35.163511Z",
     "iopub.status.idle": "2022-03-27T09:25:35.396639Z",
     "shell.execute_reply": "2022-03-27T09:25:35.396092Z",
     "shell.execute_reply.started": "2022-03-27T08:45:43.428290Z"
    },
    "papermill": {
     "duration": 0.41624,
     "end_time": "2022-03-27T09:25:35.396814",
     "exception": false,
     "start_time": "2022-03-27T09:25:34.980574",
     "status": "completed"
    },
    "tags": []
   },
   "outputs": [],
   "source": [
    "sub = sub.set_index('customer_id').loc[real.customer_id].reset_index()"
   ]
  },
  {
   "cell_type": "code",
   "execution_count": 128,
   "id": "d5361b8b",
   "metadata": {
    "execution": {
     "iopub.execute_input": "2022-03-27T09:25:35.762119Z",
     "iopub.status.busy": "2022-03-27T09:25:35.761156Z",
     "iopub.status.idle": "2022-03-27T09:25:35.765070Z",
     "shell.execute_reply": "2022-03-27T09:25:35.765616Z",
     "shell.execute_reply.started": "2022-03-27T08:45:43.586054Z"
    },
    "papermill": {
     "duration": 0.188945,
     "end_time": "2022-03-27T09:25:35.765764",
     "exception": false,
     "start_time": "2022-03-27T09:25:35.576819",
     "status": "completed"
    },
    "tags": []
   },
   "outputs": [
    {
     "data": {
      "text/html": [
       "<div>\n",
       "<style scoped>\n",
       "    .dataframe tbody tr th:only-of-type {\n",
       "        vertical-align: middle;\n",
       "    }\n",
       "\n",
       "    .dataframe tbody tr th {\n",
       "        vertical-align: top;\n",
       "    }\n",
       "\n",
       "    .dataframe thead th {\n",
       "        text-align: right;\n",
       "    }\n",
       "</style>\n",
       "<table border=\"1\" class=\"dataframe\">\n",
       "  <thead>\n",
       "    <tr style=\"text-align: right;\">\n",
       "      <th></th>\n",
       "      <th>customer_id</th>\n",
       "      <th>prediction</th>\n",
       "    </tr>\n",
       "  </thead>\n",
       "  <tbody>\n",
       "    <tr>\n",
       "      <th>0</th>\n",
       "      <td>-9223100958908512198</td>\n",
       "      <td>0909370001 0918525001 0865799006 0929165002 09...</td>\n",
       "    </tr>\n",
       "    <tr>\n",
       "      <th>1</th>\n",
       "      <td>-9223002534477110135</td>\n",
       "      <td>0909370001 0158340001 0809238001 0924243001 09...</td>\n",
       "    </tr>\n",
       "    <tr>\n",
       "      <th>2</th>\n",
       "      <td>-9222810895170663723</td>\n",
       "      <td>0918522001 0685814003 0448509014 0918292001 07...</td>\n",
       "    </tr>\n",
       "    <tr>\n",
       "      <th>3</th>\n",
       "      <td>-9221924794303263774</td>\n",
       "      <td>0909370001 0910601003 0751471001 0896152002 09...</td>\n",
       "    </tr>\n",
       "    <tr>\n",
       "      <th>4</th>\n",
       "      <td>-9221811157628158522</td>\n",
       "      <td>0909370001 0448509014 0918522001 0865799006 09...</td>\n",
       "    </tr>\n",
       "    <tr>\n",
       "      <th>...</th>\n",
       "      <td>...</td>\n",
       "      <td>...</td>\n",
       "    </tr>\n",
       "    <tr>\n",
       "      <th>68979</th>\n",
       "      <td>9221607025486275188</td>\n",
       "      <td>0909370001 0685814001 0910601003 0841383002 09...</td>\n",
       "    </tr>\n",
       "    <tr>\n",
       "      <th>68980</th>\n",
       "      <td>9221813808370389952</td>\n",
       "      <td>0909370001 0850917001 0865799006 0809238001 09...</td>\n",
       "    </tr>\n",
       "    <tr>\n",
       "      <th>68981</th>\n",
       "      <td>9222310594107555341</td>\n",
       "      <td>0909370001 0918525001 0865799006 0906352001 09...</td>\n",
       "    </tr>\n",
       "    <tr>\n",
       "      <th>68982</th>\n",
       "      <td>9223099843213569889</td>\n",
       "      <td>0909370001 0850917001 0865799006 0809238001 09...</td>\n",
       "    </tr>\n",
       "    <tr>\n",
       "      <th>68983</th>\n",
       "      <td>9223141695752178477</td>\n",
       "      <td>0918522001 0685814003 0448509014 0918292001 07...</td>\n",
       "    </tr>\n",
       "  </tbody>\n",
       "</table>\n",
       "<p>68984 rows × 2 columns</p>\n",
       "</div>"
      ],
      "text/plain": [
       "               customer_id                                         prediction\n",
       "0     -9223100958908512198  0909370001 0918525001 0865799006 0929165002 09...\n",
       "1     -9223002534477110135  0909370001 0158340001 0809238001 0924243001 09...\n",
       "2     -9222810895170663723  0918522001 0685814003 0448509014 0918292001 07...\n",
       "3     -9221924794303263774  0909370001 0910601003 0751471001 0896152002 09...\n",
       "4     -9221811157628158522  0909370001 0448509014 0918522001 0865799006 09...\n",
       "...                    ...                                                ...\n",
       "68979  9221607025486275188  0909370001 0685814001 0910601003 0841383002 09...\n",
       "68980  9221813808370389952  0909370001 0850917001 0865799006 0809238001 09...\n",
       "68981  9222310594107555341  0909370001 0918525001 0865799006 0906352001 09...\n",
       "68982  9223099843213569889  0909370001 0850917001 0865799006 0809238001 09...\n",
       "68983  9223141695752178477  0918522001 0685814003 0448509014 0918292001 07...\n",
       "\n",
       "[68984 rows x 2 columns]"
      ]
     },
     "execution_count": 128,
     "metadata": {},
     "output_type": "execute_result"
    }
   ],
   "source": [
    "sub"
   ]
  },
  {
   "cell_type": "code",
   "execution_count": 129,
   "id": "aea72e58",
   "metadata": {
    "execution": {
     "iopub.execute_input": "2022-03-27T09:25:36.162926Z",
     "iopub.status.busy": "2022-03-27T09:25:36.147172Z",
     "iopub.status.idle": "2022-03-27T09:25:36.288920Z",
     "shell.execute_reply": "2022-03-27T09:25:36.289480Z"
    },
    "papermill": {
     "duration": 0.343701,
     "end_time": "2022-03-27T09:25:36.289678",
     "exception": false,
     "start_time": "2022-03-27T09:25:35.945977",
     "status": "completed"
    },
    "tags": []
   },
   "outputs": [],
   "source": [
    "prediction =  sub[\"prediction\"].apply(lambda s: [] if pd.isna(s) else s.split())"
   ]
  },
  {
   "cell_type": "code",
   "execution_count": 130,
   "id": "5f2336ec",
   "metadata": {
    "execution": {
     "iopub.execute_input": "2022-03-27T09:25:36.663076Z",
     "iopub.status.busy": "2022-03-27T09:25:36.661903Z",
     "iopub.status.idle": "2022-03-27T09:25:36.664670Z",
     "shell.execute_reply": "2022-03-27T09:25:36.665216Z",
     "shell.execute_reply.started": "2022-03-27T09:15:06.830272Z"
    },
    "papermill": {
     "duration": 0.18979,
     "end_time": "2022-03-27T09:25:36.665366",
     "exception": false,
     "start_time": "2022-03-27T09:25:36.475576",
     "status": "completed"
    },
    "tags": []
   },
   "outputs": [],
   "source": [
    "groups = {\"channal\":channal_group.to_pandas()}"
   ]
  },
  {
   "cell_type": "code",
   "execution_count": 131,
   "id": "980c982f",
   "metadata": {
    "execution": {
     "iopub.execute_input": "2022-03-27T09:25:37.058869Z",
     "iopub.status.busy": "2022-03-27T09:25:37.043459Z",
     "iopub.status.idle": "2022-03-27T09:25:38.700477Z",
     "shell.execute_reply": "2022-03-27T09:25:38.701055Z",
     "shell.execute_reply.started": "2022-03-27T09:20:37.140533Z"
    },
    "papermill": {
     "duration": 1.856879,
     "end_time": "2022-03-27T09:25:38.701216",
     "exception": false,
     "start_time": "2022-03-27T09:25:36.844337",
     "status": "completed"
    },
    "tags": []
   },
   "outputs": [
    {
     "data": {
      "text/html": [
       "<div>\n",
       "<style scoped>\n",
       "    .dataframe tbody tr th:only-of-type {\n",
       "        vertical-align: middle;\n",
       "    }\n",
       "\n",
       "    .dataframe tbody tr th {\n",
       "        vertical-align: top;\n",
       "    }\n",
       "\n",
       "    .dataframe thead th {\n",
       "        text-align: right;\n",
       "    }\n",
       "</style>\n",
       "<table border=\"1\" class=\"dataframe\">\n",
       "  <thead>\n",
       "    <tr style=\"text-align: right;\">\n",
       "      <th></th>\n",
       "      <th>1.0</th>\n",
       "      <th>2.0</th>\n",
       "      <th>All</th>\n",
       "      <th>Fill</th>\n",
       "    </tr>\n",
       "  </thead>\n",
       "  <tbody>\n",
       "    <tr>\n",
       "      <th>Last Purchase</th>\n",
       "      <td>0.008752</td>\n",
       "      <td>0.008635</td>\n",
       "      <td>0.008683</td>\n",
       "      <td>100.0</td>\n",
       "    </tr>\n",
       "  </tbody>\n",
       "</table>\n",
       "</div>"
      ],
      "text/plain": [
       "                    1.0       2.0       All   Fill\n",
       "Last Purchase  0.008752  0.008635  0.008683  100.0"
      ]
     },
     "metadata": {},
     "output_type": "display_data"
    },
    {
     "data": {
      "image/png": "[encoded data removed]",
      "text/plain": [
       "<Figure size 864x432 with 2 Axes>"
      ]
     },
     "metadata": {},
     "output_type": "display_data"
    }
   ],
   "source": [
    "score = validation(real.article_id, prediction, groups, index='Last Purchase', ignore=0)"
   ]
  },
  {
   "cell_type": "markdown",
   "id": "8aecd47a",
   "metadata": {
    "papermill": {
     "duration": 0.184535,
     "end_time": "2022-03-27T09:25:39.066288",
     "exception": false,
     "start_time": "2022-03-27T09:25:38.881753",
     "status": "completed"
    },
    "tags": []
   },
   "source": [
    "# 生成测试集"
   ]
  },
  {
   "cell_type": "code",
   "execution_count": 132,
   "id": "ebf0e5e1",
   "metadata": {
    "execution": {
     "iopub.execute_input": "2022-03-27T09:25:39.434471Z",
     "iopub.status.busy": "2022-03-27T09:25:39.433460Z",
     "iopub.status.idle": "2022-03-27T09:25:39.437072Z",
     "shell.execute_reply": "2022-03-27T09:25:39.436377Z",
     "shell.execute_reply.started": "2022-03-27T08:45:45.109284Z"
    },
    "papermill": {
     "duration": 0.190746,
     "end_time": "2022-03-27T09:25:39.437204",
     "exception": false,
     "start_time": "2022-03-27T09:25:39.246458",
     "status": "completed"
    },
    "tags": []
   },
   "outputs": [],
   "source": [
    "import datetime"
   ]
  },
  {
   "cell_type": "code",
   "execution_count": 133,
   "id": "f00f5472",
   "metadata": {
    "execution": {
     "iopub.execute_input": "2022-03-27T09:25:39.803866Z",
     "iopub.status.busy": "2022-03-27T09:25:39.802737Z",
     "iopub.status.idle": "2022-03-27T09:25:39.805183Z",
     "shell.execute_reply": "2022-03-27T09:25:39.805781Z",
     "shell.execute_reply.started": "2022-03-27T08:45:45.114876Z"
    },
    "papermill": {
     "duration": 0.186608,
     "end_time": "2022-03-27T09:25:39.805949",
     "exception": false,
     "start_time": "2022-03-27T09:25:39.619341",
     "status": "completed"
    },
    "tags": []
   },
   "outputs": [],
   "source": [
    "if Last_date == \"2020-09-22\":\n",
    "    sub[[\"customer_id\", \"prediction\"]].to_csv(\"sub_sz_{}.csv\".format(datetime.datetime.now().strftime('%Y-%m-%d %H:%M:%S')), index = False)"
   ]
  },
  {
   "cell_type": "code",
   "execution_count": null,
   "id": "6cd3ab44",
   "metadata": {
    "papermill": {
     "duration": 0.188449,
     "end_time": "2022-03-27T09:25:40.180150",
     "exception": false,
     "start_time": "2022-03-27T09:25:39.991701",
     "status": "completed"
    },
    "tags": []
   },
   "outputs": [],
   "source": []
  }
 ],
 "metadata": {
  "kernelspec": {
   "display_name": "Python 3",
   "language": "python",
   "name": "python3"
  },
  "language_info": {
   "codemirror_mode": {
    "name": "ipython",
    "version": 3
   },
   "file_extension": ".py",
   "mimetype": "text/x-python",
   "name": "python",
   "nbconvert_exporter": "python",
   "pygments_lexer": "ipython3",
   "version": "3.7.12"
  },
  "papermill": {
   "default_parameters": {},
   "duration": 283.492835,
   "end_time": "2022-03-27T09:25:43.432515",
   "environment_variables": {},
   "exception": null,
   "input_path": "__notebook__.ipynb",
   "output_path": "__notebook__.ipynb",
   "parameters": {},
   "start_time": "2022-03-27T09:20:59.939680",
   "version": "2.3.3"
  }
 },
 "nbformat": 4,
 "nbformat_minor": 5
}
