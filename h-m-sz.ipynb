{
 "cells": [
  {
   "cell_type": "code",
   "execution_count": 1,
   "id": "dc4ea1bc",
   "metadata": {
    "_cell_guid": "b1076dfc-b9ad-4769-8c92-a6c4dae69d19",
    "_uuid": "8f2839f25d086af736a60e9eeb907d3b93b6e0e5",
    "editable": false,
    "execution": {
     "iopub.execute_input": "2022-03-27T16:43:09.499595Z",
     "iopub.status.busy": "2022-03-27T16:43:09.497518Z",
     "iopub.status.idle": "2022-03-27T16:43:24.873901Z",
     "shell.execute_reply": "2022-03-27T16:43:24.873223Z",
     "shell.execute_reply.started": "2022-03-27T15:57:43.096714Z"
    },
    "papermill": {
     "duration": 15.557537,
     "end_time": "2022-03-27T16:43:24.874092",
     "exception": false,
     "start_time": "2022-03-27T16:43:09.316555",
     "status": "completed"
    },
    "tags": []
   },
   "outputs": [
    {
     "name": "stdout",
     "output_type": "stream",
     "text": [
      "Requirement already satisfied: cudf in /opt/conda/lib/python3.7/site-packages (21.10.1)\r\n",
      "Requirement already satisfied: numba>=0.53.1 in /opt/conda/lib/python3.7/site-packages (from cudf) (0.54.1)\r\n",
      "Requirement already satisfied: Cython<0.30,>=0.29 in /opt/conda/lib/python3.7/site-packages (from cudf) (0.29.28)\r\n",
      "Requirement already satisfied: fastavro>=0.22.9 in /opt/conda/lib/python3.7/site-packages (from cudf) (1.4.9)\r\n",
      "Requirement already satisfied: fsspec>=0.6.0 in /opt/conda/lib/python3.7/site-packages (from cudf) (2022.2.0)\r\n",
      "Requirement already satisfied: numpy in /opt/conda/lib/python3.7/site-packages (from cudf) (1.20.3)\r\n",
      "Requirement already satisfied: pandas<1.4.0dev0,>=1.0 in /opt/conda/lib/python3.7/site-packages (from cudf) (1.3.5)\r\n",
      "Requirement already satisfied: typing_extensions in /opt/conda/lib/python3.7/site-packages (from cudf) (4.1.1)\r\n",
      "Requirement already satisfied: protobuf in /opt/conda/lib/python3.7/site-packages (from cudf) (3.19.1)\r\n",
      "Requirement already satisfied: nvtx>=0.2.1 in /opt/conda/lib/python3.7/site-packages (from cudf) (0.2.3)\r\n",
      "Requirement already satisfied: cachetools in /opt/conda/lib/python3.7/site-packages (from cudf) (4.2.4)\r\n",
      "Requirement already satisfied: packaging in /opt/conda/lib/python3.7/site-packages (from cudf) (21.3)\r\n",
      "Requirement already satisfied: cupy-cuda110 in /opt/conda/lib/python3.7/site-packages (from cudf) (10.2.0)\r\n",
      "Requirement already satisfied: llvmlite<0.38,>=0.37.0rc1 in /opt/conda/lib/python3.7/site-packages (from numba>=0.53.1->cudf) (0.37.0)\r\n",
      "Requirement already satisfied: setuptools in /opt/conda/lib/python3.7/site-packages (from numba>=0.53.1->cudf) (59.5.0)\r\n",
      "Requirement already satisfied: python-dateutil>=2.7.3 in /opt/conda/lib/python3.7/site-packages (from pandas<1.4.0dev0,>=1.0->cudf) (2.8.2)\r\n",
      "Requirement already satisfied: pytz>=2017.3 in /opt/conda/lib/python3.7/site-packages (from pandas<1.4.0dev0,>=1.0->cudf) (2021.3)\r\n",
      "Requirement already satisfied: fastrlock>=0.5 in /opt/conda/lib/python3.7/site-packages (from cupy-cuda110->cudf) (0.8)\r\n",
      "Requirement already satisfied: pyparsing!=3.0.5,>=2.0.2 in /opt/conda/lib/python3.7/site-packages (from packaging->cudf) (3.0.6)\r\n",
      "Requirement already satisfied: six>=1.5 in /opt/conda/lib/python3.7/site-packages (from python-dateutil>=2.7.3->pandas<1.4.0dev0,>=1.0->cudf) (1.16.0)\r\n",
      "\u001b[33mWARNING: Running pip as the 'root' user can result in broken permissions and conflicting behaviour with the system package manager. It is recommended to use a virtual environment instead: https://pip.pypa.io/warnings/venv\u001b[0m\r\n"
     ]
    }
   ],
   "source": [
    "!pip install cudf\n",
    "import numpy as np\n",
    "import pandas as pd \n",
    "from datetime import datetime, timedelta\n",
    "import gc\n",
    "import cudf\n",
    "import cv2, matplotlib.pyplot as plt\n",
    "from os.path import exists"
   ]
  },
  {
   "cell_type": "markdown",
   "id": "4c0bc0e3",
   "metadata": {
    "editable": false,
    "papermill": {
     "duration": 0.164741,
     "end_time": "2022-03-27T16:43:25.206729",
     "exception": false,
     "start_time": "2022-03-27T16:43:25.041988",
     "status": "completed"
    },
    "tags": []
   },
   "source": [
    "### Read the transactions data"
   ]
  },
  {
   "cell_type": "markdown",
   "id": "781d0fb7",
   "metadata": {
    "editable": false,
    "papermill": {
     "duration": 0.165826,
     "end_time": "2022-03-27T16:43:25.540106",
     "exception": false,
     "start_time": "2022-03-27T16:43:25.374280",
     "status": "completed"
    },
    "tags": []
   },
   "source": [
    "Changes: \n",
    "* read_csv using cudf\n",
    "* article_id types from string to int32 \n",
    "* reduce memory on customer_id "
   ]
  },
  {
   "cell_type": "code",
   "execution_count": 2,
   "id": "0a0b428c",
   "metadata": {
    "editable": false,
    "execution": {
     "iopub.execute_input": "2022-03-27T16:43:25.900220Z",
     "iopub.status.busy": "2022-03-27T16:43:25.899045Z",
     "iopub.status.idle": "2022-03-27T16:43:25.902530Z",
     "shell.execute_reply": "2022-03-27T16:43:25.901919Z",
     "shell.execute_reply.started": "2022-03-27T15:57:55.278375Z"
    },
    "papermill": {
     "duration": 0.194964,
     "end_time": "2022-03-27T16:43:25.902681",
     "exception": false,
     "start_time": "2022-03-27T16:43:25.707717",
     "status": "completed"
    },
    "tags": []
   },
   "outputs": [],
   "source": [
    "Date_week1 = pd.to_datetime(\"2020-09-16\")\n",
    "Date_week2 = pd.to_datetime(\"2020-09-09\")\n",
    "Date_week3 = pd.to_datetime(\"2020-09-02\")\n",
    "Last_day = pd.to_datetime(\"2020-09-22\")"
   ]
  },
  {
   "cell_type": "code",
   "execution_count": 3,
   "id": "3e7f1166",
   "metadata": {
    "editable": false,
    "execution": {
     "iopub.execute_input": "2022-03-27T16:43:26.240644Z",
     "iopub.status.busy": "2022-03-27T16:43:26.239575Z",
     "iopub.status.idle": "2022-03-27T16:43:26.242236Z",
     "shell.execute_reply": "2022-03-27T16:43:26.242814Z",
     "shell.execute_reply.started": "2022-03-27T15:57:55.287895Z"
    },
    "papermill": {
     "duration": 0.173707,
     "end_time": "2022-03-27T16:43:26.242968",
     "exception": false,
     "start_time": "2022-03-27T16:43:26.069261",
     "status": "completed"
    },
    "tags": []
   },
   "outputs": [],
   "source": [
    "N = 12"
   ]
  },
  {
   "cell_type": "code",
   "execution_count": 4,
   "id": "84b6b220",
   "metadata": {
    "editable": false,
    "execution": {
     "iopub.execute_input": "2022-03-27T16:43:26.571705Z",
     "iopub.status.busy": "2022-03-27T16:43:26.570629Z",
     "iopub.status.idle": "2022-03-27T16:44:08.491777Z",
     "shell.execute_reply": "2022-03-27T16:44:08.491199Z",
     "shell.execute_reply.started": "2022-03-27T15:57:55.297227Z"
    },
    "papermill": {
     "duration": 42.084397,
     "end_time": "2022-03-27T16:44:08.491935",
     "exception": false,
     "start_time": "2022-03-27T16:43:26.407538",
     "status": "completed"
    },
    "tags": []
   },
   "outputs": [],
   "source": [
    "df  = cudf.read_csv('../input/h-and-m-personalized-fashion-recommendations/transactions_train.csv')\n",
    "                            #usecols= ['t_dat', 'customer_id', 'article_id'], \n",
    "                            #dtype={'article_id': 'int32', 't_dat': 'string', 'customer_id': 'string', \"sales_channel_id\": 'int32', \"price\": \"float\"})\n",
    "df ['customer_id'] = df ['customer_id'].str[-16:].str.hex_to_int().astype('int64')\n",
    "df.article_id = df.article_id.astype('int32')\n",
    "df['t_dat'] = cudf.to_datetime(df['t_dat'])\n",
    "Last_date = df['t_dat'].max()"
   ]
  },
  {
   "cell_type": "code",
   "execution_count": 5,
   "id": "28b301f1",
   "metadata": {
    "editable": false,
    "execution": {
     "iopub.execute_input": "2022-03-27T16:44:08.839864Z",
     "iopub.status.busy": "2022-03-27T16:44:08.838762Z",
     "iopub.status.idle": "2022-03-27T16:44:08.964406Z",
     "shell.execute_reply": "2022-03-27T16:44:08.964937Z",
     "shell.execute_reply.started": "2022-03-27T15:58:32.081712Z"
    },
    "papermill": {
     "duration": 0.310463,
     "end_time": "2022-03-27T16:44:08.965211",
     "exception": false,
     "start_time": "2022-03-27T16:44:08.654748",
     "status": "completed"
    },
    "tags": []
   },
   "outputs": [
    {
     "data": {
      "text/html": [
       "<div>\n",
       "<style scoped>\n",
       "    .dataframe tbody tr th:only-of-type {\n",
       "        vertical-align: middle;\n",
       "    }\n",
       "\n",
       "    .dataframe tbody tr th {\n",
       "        vertical-align: top;\n",
       "    }\n",
       "\n",
       "    .dataframe thead th {\n",
       "        text-align: right;\n",
       "    }\n",
       "</style>\n",
       "<table border=\"1\" class=\"dataframe\">\n",
       "  <thead>\n",
       "    <tr style=\"text-align: right;\">\n",
       "      <th></th>\n",
       "      <th>t_dat</th>\n",
       "      <th>customer_id</th>\n",
       "      <th>article_id</th>\n",
       "      <th>price</th>\n",
       "      <th>sales_channel_id</th>\n",
       "    </tr>\n",
       "  </thead>\n",
       "  <tbody>\n",
       "    <tr>\n",
       "      <th>0</th>\n",
       "      <td>2018-09-20</td>\n",
       "      <td>-6846340800584936</td>\n",
       "      <td>663713001</td>\n",
       "      <td>0.050831</td>\n",
       "      <td>2</td>\n",
       "    </tr>\n",
       "    <tr>\n",
       "      <th>1</th>\n",
       "      <td>2018-09-20</td>\n",
       "      <td>-6846340800584936</td>\n",
       "      <td>541518023</td>\n",
       "      <td>0.030492</td>\n",
       "      <td>2</td>\n",
       "    </tr>\n",
       "    <tr>\n",
       "      <th>2</th>\n",
       "      <td>2018-09-20</td>\n",
       "      <td>-8334631767138808638</td>\n",
       "      <td>505221004</td>\n",
       "      <td>0.015237</td>\n",
       "      <td>2</td>\n",
       "    </tr>\n",
       "    <tr>\n",
       "      <th>3</th>\n",
       "      <td>2018-09-20</td>\n",
       "      <td>-8334631767138808638</td>\n",
       "      <td>685687003</td>\n",
       "      <td>0.016932</td>\n",
       "      <td>2</td>\n",
       "    </tr>\n",
       "    <tr>\n",
       "      <th>4</th>\n",
       "      <td>2018-09-20</td>\n",
       "      <td>-8334631767138808638</td>\n",
       "      <td>685687004</td>\n",
       "      <td>0.016932</td>\n",
       "      <td>2</td>\n",
       "    </tr>\n",
       "    <tr>\n",
       "      <th>...</th>\n",
       "      <td>...</td>\n",
       "      <td>...</td>\n",
       "      <td>...</td>\n",
       "      <td>...</td>\n",
       "      <td>...</td>\n",
       "    </tr>\n",
       "    <tr>\n",
       "      <th>31788319</th>\n",
       "      <td>2020-09-22</td>\n",
       "      <td>4685485978980270934</td>\n",
       "      <td>929511001</td>\n",
       "      <td>0.059305</td>\n",
       "      <td>2</td>\n",
       "    </tr>\n",
       "    <tr>\n",
       "      <th>31788320</th>\n",
       "      <td>2020-09-22</td>\n",
       "      <td>4685485978980270934</td>\n",
       "      <td>891322004</td>\n",
       "      <td>0.042356</td>\n",
       "      <td>2</td>\n",
       "    </tr>\n",
       "    <tr>\n",
       "      <th>31788321</th>\n",
       "      <td>2020-09-22</td>\n",
       "      <td>3959348689921271969</td>\n",
       "      <td>918325001</td>\n",
       "      <td>0.043203</td>\n",
       "      <td>1</td>\n",
       "    </tr>\n",
       "    <tr>\n",
       "      <th>31788322</th>\n",
       "      <td>2020-09-22</td>\n",
       "      <td>-8639340045377511665</td>\n",
       "      <td>833459002</td>\n",
       "      <td>0.006763</td>\n",
       "      <td>1</td>\n",
       "    </tr>\n",
       "    <tr>\n",
       "      <th>31788323</th>\n",
       "      <td>2020-09-22</td>\n",
       "      <td>3235222691137941515</td>\n",
       "      <td>898573003</td>\n",
       "      <td>0.033881</td>\n",
       "      <td>2</td>\n",
       "    </tr>\n",
       "  </tbody>\n",
       "</table>\n",
       "<p>31788324 rows × 5 columns</p>\n",
       "</div>"
      ],
      "text/plain": [
       "              t_dat          customer_id  article_id     price  \\\n",
       "0        2018-09-20    -6846340800584936   663713001  0.050831   \n",
       "1        2018-09-20    -6846340800584936   541518023  0.030492   \n",
       "2        2018-09-20 -8334631767138808638   505221004  0.015237   \n",
       "3        2018-09-20 -8334631767138808638   685687003  0.016932   \n",
       "4        2018-09-20 -8334631767138808638   685687004  0.016932   \n",
       "...             ...                  ...         ...       ...   \n",
       "31788319 2020-09-22  4685485978980270934   929511001  0.059305   \n",
       "31788320 2020-09-22  4685485978980270934   891322004  0.042356   \n",
       "31788321 2020-09-22  3959348689921271969   918325001  0.043203   \n",
       "31788322 2020-09-22 -8639340045377511665   833459002  0.006763   \n",
       "31788323 2020-09-22  3235222691137941515   898573003  0.033881   \n",
       "\n",
       "          sales_channel_id  \n",
       "0                        2  \n",
       "1                        2  \n",
       "2                        2  \n",
       "3                        2  \n",
       "4                        2  \n",
       "...                    ...  \n",
       "31788319                 2  \n",
       "31788320                 2  \n",
       "31788321                 1  \n",
       "31788322                 1  \n",
       "31788323                 2  \n",
       "\n",
       "[31788324 rows x 5 columns]"
      ]
     },
     "execution_count": 5,
     "metadata": {},
     "output_type": "execute_result"
    }
   ],
   "source": [
    "df"
   ]
  },
  {
   "cell_type": "markdown",
   "id": "d43396c4",
   "metadata": {
    "editable": false,
    "papermill": {
     "duration": 0.285401,
     "end_time": "2022-03-27T16:44:09.556410",
     "exception": false,
     "start_time": "2022-03-27T16:44:09.271009",
     "status": "completed"
    },
    "tags": []
   },
   "source": [
    "## 划分训练集和验证集"
   ]
  },
  {
   "cell_type": "code",
   "execution_count": 6,
   "id": "aab1f76f",
   "metadata": {
    "editable": false,
    "execution": {
     "iopub.execute_input": "2022-03-27T16:44:10.109802Z",
     "iopub.status.busy": "2022-03-27T16:44:10.108569Z",
     "iopub.status.idle": "2022-03-27T16:44:10.169859Z",
     "shell.execute_reply": "2022-03-27T16:44:10.170816Z",
     "shell.execute_reply.started": "2022-03-27T15:58:32.166333Z"
    },
    "papermill": {
     "duration": 0.337371,
     "end_time": "2022-03-27T16:44:10.171060",
     "exception": false,
     "start_time": "2022-03-27T16:44:09.833689",
     "status": "completed"
    },
    "tags": []
   },
   "outputs": [],
   "source": [
    "val = df[df['t_dat']>= Date_week1].copy()\n",
    "train = df[df['t_dat']< Date_week1].copy()\n",
    "Last_date = pd.to_datetime(\"2020-09-15\")"
   ]
  },
  {
   "cell_type": "code",
   "execution_count": 7,
   "id": "13478921",
   "metadata": {
    "editable": false,
    "execution": {
     "iopub.execute_input": "2022-03-27T16:44:10.600200Z",
     "iopub.status.busy": "2022-03-27T16:44:10.599113Z",
     "iopub.status.idle": "2022-03-27T16:44:10.666634Z",
     "shell.execute_reply": "2022-03-27T16:44:10.667210Z",
     "shell.execute_reply.started": "2022-03-27T15:58:32.228767Z"
    },
    "papermill": {
     "duration": 0.255084,
     "end_time": "2022-03-27T16:44:10.667413",
     "exception": false,
     "start_time": "2022-03-27T16:44:10.412329",
     "status": "completed"
    },
    "tags": []
   },
   "outputs": [
    {
     "data": {
      "text/html": [
       "<div>\n",
       "<style scoped>\n",
       "    .dataframe tbody tr th:only-of-type {\n",
       "        vertical-align: middle;\n",
       "    }\n",
       "\n",
       "    .dataframe tbody tr th {\n",
       "        vertical-align: top;\n",
       "    }\n",
       "\n",
       "    .dataframe thead th {\n",
       "        text-align: right;\n",
       "    }\n",
       "</style>\n",
       "<table border=\"1\" class=\"dataframe\">\n",
       "  <thead>\n",
       "    <tr style=\"text-align: right;\">\n",
       "      <th></th>\n",
       "      <th>t_dat</th>\n",
       "      <th>customer_id</th>\n",
       "      <th>article_id</th>\n",
       "      <th>price</th>\n",
       "      <th>sales_channel_id</th>\n",
       "    </tr>\n",
       "  </thead>\n",
       "  <tbody>\n",
       "    <tr>\n",
       "      <th>31548013</th>\n",
       "      <td>2020-09-16</td>\n",
       "      <td>8055340703569116761</td>\n",
       "      <td>786022008</td>\n",
       "      <td>0.048441</td>\n",
       "      <td>2</td>\n",
       "    </tr>\n",
       "    <tr>\n",
       "      <th>31548014</th>\n",
       "      <td>2020-09-16</td>\n",
       "      <td>8055340703569116761</td>\n",
       "      <td>913272003</td>\n",
       "      <td>0.032288</td>\n",
       "      <td>2</td>\n",
       "    </tr>\n",
       "    <tr>\n",
       "      <th>31548015</th>\n",
       "      <td>2020-09-16</td>\n",
       "      <td>8055340703569116761</td>\n",
       "      <td>889669006</td>\n",
       "      <td>0.056508</td>\n",
       "      <td>2</td>\n",
       "    </tr>\n",
       "    <tr>\n",
       "      <th>31548016</th>\n",
       "      <td>2020-09-16</td>\n",
       "      <td>2563761487478961358</td>\n",
       "      <td>237347060</td>\n",
       "      <td>0.033881</td>\n",
       "      <td>1</td>\n",
       "    </tr>\n",
       "    <tr>\n",
       "      <th>31548017</th>\n",
       "      <td>2020-09-16</td>\n",
       "      <td>2563761487478961358</td>\n",
       "      <td>562245001</td>\n",
       "      <td>0.013542</td>\n",
       "      <td>1</td>\n",
       "    </tr>\n",
       "    <tr>\n",
       "      <th>...</th>\n",
       "      <td>...</td>\n",
       "      <td>...</td>\n",
       "      <td>...</td>\n",
       "      <td>...</td>\n",
       "      <td>...</td>\n",
       "    </tr>\n",
       "    <tr>\n",
       "      <th>31788319</th>\n",
       "      <td>2020-09-22</td>\n",
       "      <td>4685485978980270934</td>\n",
       "      <td>929511001</td>\n",
       "      <td>0.059305</td>\n",
       "      <td>2</td>\n",
       "    </tr>\n",
       "    <tr>\n",
       "      <th>31788320</th>\n",
       "      <td>2020-09-22</td>\n",
       "      <td>4685485978980270934</td>\n",
       "      <td>891322004</td>\n",
       "      <td>0.042356</td>\n",
       "      <td>2</td>\n",
       "    </tr>\n",
       "    <tr>\n",
       "      <th>31788321</th>\n",
       "      <td>2020-09-22</td>\n",
       "      <td>3959348689921271969</td>\n",
       "      <td>918325001</td>\n",
       "      <td>0.043203</td>\n",
       "      <td>1</td>\n",
       "    </tr>\n",
       "    <tr>\n",
       "      <th>31788322</th>\n",
       "      <td>2020-09-22</td>\n",
       "      <td>-8639340045377511665</td>\n",
       "      <td>833459002</td>\n",
       "      <td>0.006763</td>\n",
       "      <td>1</td>\n",
       "    </tr>\n",
       "    <tr>\n",
       "      <th>31788323</th>\n",
       "      <td>2020-09-22</td>\n",
       "      <td>3235222691137941515</td>\n",
       "      <td>898573003</td>\n",
       "      <td>0.033881</td>\n",
       "      <td>2</td>\n",
       "    </tr>\n",
       "  </tbody>\n",
       "</table>\n",
       "<p>240311 rows × 5 columns</p>\n",
       "</div>"
      ],
      "text/plain": [
       "              t_dat          customer_id  article_id     price  \\\n",
       "31548013 2020-09-16  8055340703569116761   786022008  0.048441   \n",
       "31548014 2020-09-16  8055340703569116761   913272003  0.032288   \n",
       "31548015 2020-09-16  8055340703569116761   889669006  0.056508   \n",
       "31548016 2020-09-16  2563761487478961358   237347060  0.033881   \n",
       "31548017 2020-09-16  2563761487478961358   562245001  0.013542   \n",
       "...             ...                  ...         ...       ...   \n",
       "31788319 2020-09-22  4685485978980270934   929511001  0.059305   \n",
       "31788320 2020-09-22  4685485978980270934   891322004  0.042356   \n",
       "31788321 2020-09-22  3959348689921271969   918325001  0.043203   \n",
       "31788322 2020-09-22 -8639340045377511665   833459002  0.006763   \n",
       "31788323 2020-09-22  3235222691137941515   898573003  0.033881   \n",
       "\n",
       "          sales_channel_id  \n",
       "31548013                 2  \n",
       "31548014                 2  \n",
       "31548015                 2  \n",
       "31548016                 1  \n",
       "31548017                 1  \n",
       "...                    ...  \n",
       "31788319                 2  \n",
       "31788320                 2  \n",
       "31788321                 1  \n",
       "31788322                 1  \n",
       "31788323                 2  \n",
       "\n",
       "[240311 rows x 5 columns]"
      ]
     },
     "execution_count": 7,
     "metadata": {},
     "output_type": "execute_result"
    }
   ],
   "source": [
    "val"
   ]
  },
  {
   "cell_type": "markdown",
   "id": "004e5117",
   "metadata": {
    "editable": false,
    "papermill": {
     "duration": 0.170686,
     "end_time": "2022-03-27T16:44:11.008971",
     "exception": false,
     "start_time": "2022-03-27T16:44:10.838285",
     "status": "completed"
    },
    "tags": []
   },
   "source": [
    "### Add the last day of billing week"
   ]
  },
  {
   "cell_type": "markdown",
   "id": "59cdc1ae",
   "metadata": {
    "editable": false,
    "papermill": {
     "duration": 0.16608,
     "end_time": "2022-03-27T16:44:11.344779",
     "exception": false,
     "start_time": "2022-03-27T16:44:11.178699",
     "status": "completed"
    },
    "tags": []
   },
   "source": [
    "## 第一路：复购预测"
   ]
  },
  {
   "cell_type": "code",
   "execution_count": 8,
   "id": "efc204a8",
   "metadata": {
    "editable": false,
    "execution": {
     "iopub.execute_input": "2022-03-27T16:44:11.684992Z",
     "iopub.status.busy": "2022-03-27T16:44:11.684001Z",
     "iopub.status.idle": "2022-03-27T16:44:11.692357Z",
     "shell.execute_reply": "2022-03-27T16:44:11.692876Z",
     "shell.execute_reply.started": "2022-03-27T15:58:32.301317Z"
    },
    "papermill": {
     "duration": 0.180545,
     "end_time": "2022-03-27T16:44:11.693038",
     "exception": false,
     "start_time": "2022-03-27T16:44:11.512493",
     "status": "completed"
    },
    "tags": []
   },
   "outputs": [],
   "source": [
    "df = train.copy()"
   ]
  },
  {
   "cell_type": "code",
   "execution_count": 9,
   "id": "39937f45",
   "metadata": {
    "editable": false,
    "execution": {
     "iopub.execute_input": "2022-03-27T16:44:12.029861Z",
     "iopub.status.busy": "2022-03-27T16:44:12.028813Z",
     "iopub.status.idle": "2022-03-27T16:44:21.628663Z",
     "shell.execute_reply": "2022-03-27T16:44:21.629746Z",
     "shell.execute_reply.started": "2022-03-27T15:58:32.31276Z"
    },
    "papermill": {
     "duration": 9.770946,
     "end_time": "2022-03-27T16:44:21.630041",
     "exception": false,
     "start_time": "2022-03-27T16:44:11.859095",
     "status": "completed"
    },
    "tags": []
   },
   "outputs": [
    {
     "name": "stdout",
     "output_type": "stream",
     "text": [
      "CPU times: user 7.76 s, sys: 2 s, total: 9.76 s\n",
      "Wall time: 9.59 s\n"
     ]
    }
   ],
   "source": [
    "%%time\n",
    "tmp = df[['t_dat']].copy().to_pandas()\n",
    "tmp['dow'] = tmp['t_dat'].dt.dayofweek\n",
    "tmp['ldbw'] = tmp['t_dat'] - pd.TimedeltaIndex(tmp['dow'] - 1, unit='D')\n",
    "tmp.loc[tmp['dow'] >=2 , 'ldbw'] = tmp.loc[tmp['dow'] >=2 , 'ldbw'] + pd.TimedeltaIndex(np.ones(len(tmp.loc[tmp['dow'] >=2])) * 7, unit='D')\n",
    "df['ldbw'] = tmp['ldbw'].values"
   ]
  },
  {
   "cell_type": "code",
   "execution_count": 10,
   "id": "4757a784",
   "metadata": {
    "editable": false,
    "execution": {
     "iopub.execute_input": "2022-03-27T16:44:21.974320Z",
     "iopub.status.busy": "2022-03-27T16:44:21.973254Z",
     "iopub.status.idle": "2022-03-27T16:44:22.110633Z",
     "shell.execute_reply": "2022-03-27T16:44:22.111178Z",
     "shell.execute_reply.started": "2022-03-27T15:58:40.249288Z"
    },
    "papermill": {
     "duration": 0.311107,
     "end_time": "2022-03-27T16:44:22.111375",
     "exception": false,
     "start_time": "2022-03-27T16:44:21.800268",
     "status": "completed"
    },
    "tags": []
   },
   "outputs": [],
   "source": [
    "weekly_sales = df.drop('customer_id', axis=1).groupby(['ldbw', 'article_id']).count().reset_index()\n",
    "weekly_sales = weekly_sales.rename(columns={'t_dat': 'count'})"
   ]
  },
  {
   "cell_type": "code",
   "execution_count": 11,
   "id": "1a733c2a",
   "metadata": {
    "editable": false,
    "execution": {
     "iopub.execute_input": "2022-03-27T16:44:22.495333Z",
     "iopub.status.busy": "2022-03-27T16:44:22.494591Z",
     "iopub.status.idle": "2022-03-27T16:44:22.574724Z",
     "shell.execute_reply": "2022-03-27T16:44:22.574146Z",
     "shell.execute_reply.started": "2022-03-27T15:58:40.38729Z"
    },
    "papermill": {
     "duration": 0.294694,
     "end_time": "2022-03-27T16:44:22.574888",
     "exception": false,
     "start_time": "2022-03-27T16:44:22.280194",
     "status": "completed"
    },
    "tags": []
   },
   "outputs": [],
   "source": [
    "df = df.merge(weekly_sales, on=['ldbw', 'article_id'], how = 'left')"
   ]
  },
  {
   "cell_type": "markdown",
   "id": "9ae4a434",
   "metadata": {
    "editable": false,
    "papermill": {
     "duration": 0.163156,
     "end_time": "2022-03-27T16:44:22.906158",
     "exception": false,
     "start_time": "2022-03-27T16:44:22.743002",
     "status": "completed"
    },
    "tags": []
   },
   "source": [
    "### Let's assume that in the target week sales will be similar to the last week of the training data"
   ]
  },
  {
   "cell_type": "code",
   "execution_count": 12,
   "id": "e12a1003",
   "metadata": {
    "editable": false,
    "execution": {
     "iopub.execute_input": "2022-03-27T16:44:23.240260Z",
     "iopub.status.busy": "2022-03-27T16:44:23.239313Z",
     "iopub.status.idle": "2022-03-27T16:44:23.346199Z",
     "shell.execute_reply": "2022-03-27T16:44:23.345674Z",
     "shell.execute_reply.started": "2022-03-27T15:58:40.525185Z"
    },
    "papermill": {
     "duration": 0.276872,
     "end_time": "2022-03-27T16:44:23.346376",
     "exception": false,
     "start_time": "2022-03-27T16:44:23.069504",
     "status": "completed"
    },
    "tags": []
   },
   "outputs": [],
   "source": [
    "weekly_sales = weekly_sales.reset_index().set_index('article_id')\n",
    "\n",
    "df = df.merge(\n",
    "    weekly_sales.loc[weekly_sales['ldbw']==Last_date, ['count']],\n",
    "    on='article_id', suffixes=(\"\", \"_targ\"))\n",
    "\n",
    "df['count_targ'].fillna(0, inplace=True)\n"
   ]
  },
  {
   "cell_type": "markdown",
   "id": "0bcb2895",
   "metadata": {
    "editable": false,
    "papermill": {
     "duration": 0.164537,
     "end_time": "2022-03-27T16:44:23.675834",
     "exception": false,
     "start_time": "2022-03-27T16:44:23.511297",
     "status": "completed"
    },
    "tags": []
   },
   "source": [
    "### Calculate sales rate adjusted for changes in product popularity "
   ]
  },
  {
   "cell_type": "code",
   "execution_count": 13,
   "id": "5eecbe10",
   "metadata": {
    "editable": false,
    "execution": {
     "iopub.execute_input": "2022-03-27T16:44:24.017642Z",
     "iopub.status.busy": "2022-03-27T16:44:24.016648Z",
     "iopub.status.idle": "2022-03-27T16:44:24.022765Z",
     "shell.execute_reply": "2022-03-27T16:44:24.022205Z",
     "shell.execute_reply.started": "2022-03-27T15:58:40.649046Z"
    },
    "papermill": {
     "duration": 0.178842,
     "end_time": "2022-03-27T16:44:24.022912",
     "exception": false,
     "start_time": "2022-03-27T16:44:23.844070",
     "status": "completed"
    },
    "tags": []
   },
   "outputs": [],
   "source": [
    "df['quotient'] = df['count_targ'] / df['count']"
   ]
  },
  {
   "cell_type": "markdown",
   "id": "638dbe73",
   "metadata": {
    "editable": false,
    "papermill": {
     "duration": 0.162985,
     "end_time": "2022-03-27T16:44:24.350771",
     "exception": false,
     "start_time": "2022-03-27T16:44:24.187786",
     "status": "completed"
    },
    "tags": []
   },
   "source": [
    "### Take supposedly popular products"
   ]
  },
  {
   "cell_type": "code",
   "execution_count": 14,
   "id": "e0f50959",
   "metadata": {
    "editable": false,
    "execution": {
     "iopub.execute_input": "2022-03-27T16:44:24.683398Z",
     "iopub.status.busy": "2022-03-27T16:44:24.682315Z",
     "iopub.status.idle": "2022-03-27T16:44:24.685291Z",
     "shell.execute_reply": "2022-03-27T16:44:24.684682Z",
     "shell.execute_reply.started": "2022-03-27T15:58:40.663874Z"
    },
    "papermill": {
     "duration": 0.170093,
     "end_time": "2022-03-27T16:44:24.685423",
     "exception": false,
     "start_time": "2022-03-27T16:44:24.515330",
     "status": "completed"
    },
    "tags": []
   },
   "outputs": [],
   "source": [
    "# target_sales = df.drop('customer_id', axis=1).groupby('article_id')['quotient'].sum()\n",
    "# general_pred = target_sales.nlargest(N).index.to_pandas().tolist()\n",
    "# general_pred = ['0' + str(article_id) for article_id in general_pred]\n",
    "# general_pred_str =  ' '.join(general_pred)\n",
    "# del target_sales"
   ]
  },
  {
   "cell_type": "code",
   "execution_count": 15,
   "id": "b6c61f94",
   "metadata": {
    "editable": false,
    "execution": {
     "iopub.execute_input": "2022-03-27T16:44:25.245099Z",
     "iopub.status.busy": "2022-03-27T16:44:25.243854Z",
     "iopub.status.idle": "2022-03-27T16:44:25.246757Z",
     "shell.execute_reply": "2022-03-27T16:44:25.245965Z",
     "shell.execute_reply.started": "2022-03-27T15:58:40.669201Z"
    },
    "papermill": {
     "duration": 0.290123,
     "end_time": "2022-03-27T16:44:25.246958",
     "exception": false,
     "start_time": "2022-03-27T16:44:24.956835",
     "status": "completed"
    },
    "tags": []
   },
   "outputs": [],
   "source": [
    "# general_pred # Exactly same with the original notebook! "
   ]
  },
  {
   "cell_type": "code",
   "execution_count": 16,
   "id": "fb71ee32",
   "metadata": {
    "editable": false,
    "execution": {
     "iopub.execute_input": "2022-03-27T16:44:25.652038Z",
     "iopub.status.busy": "2022-03-27T16:44:25.651006Z",
     "iopub.status.idle": "2022-03-27T16:44:25.654102Z",
     "shell.execute_reply": "2022-03-27T16:44:25.653624Z",
     "shell.execute_reply.started": "2022-03-27T15:58:40.680101Z"
    },
    "papermill": {
     "duration": 0.171888,
     "end_time": "2022-03-27T16:44:25.654278",
     "exception": false,
     "start_time": "2022-03-27T16:44:25.482390",
     "status": "completed"
    },
    "tags": []
   },
   "outputs": [],
   "source": [
    "# general_pred_str"
   ]
  },
  {
   "cell_type": "markdown",
   "id": "d685d57d",
   "metadata": {
    "editable": false,
    "papermill": {
     "duration": 0.16185,
     "end_time": "2022-03-27T16:44:26.003633",
     "exception": false,
     "start_time": "2022-03-27T16:44:25.841783",
     "status": "completed"
    },
    "tags": []
   },
   "source": [
    "### Fill in purchase dictionary"
   ]
  },
  {
   "cell_type": "code",
   "execution_count": 17,
   "id": "a616c8d3",
   "metadata": {
    "editable": false,
    "execution": {
     "iopub.execute_input": "2022-03-27T16:44:26.346948Z",
     "iopub.status.busy": "2022-03-27T16:44:26.345892Z",
     "iopub.status.idle": "2022-03-27T16:44:50.751007Z",
     "shell.execute_reply": "2022-03-27T16:44:50.751809Z",
     "shell.execute_reply.started": "2022-03-27T15:58:40.687915Z"
    },
    "papermill": {
     "duration": 24.583028,
     "end_time": "2022-03-27T16:44:50.752028",
     "exception": false,
     "start_time": "2022-03-27T16:44:26.169000",
     "status": "completed"
    },
    "tags": []
   },
   "outputs": [
    {
     "name": "stdout",
     "output_type": "stream",
     "text": [
      "CPU times: user 20.5 s, sys: 6.32 s, total: 26.8 s\n",
      "Wall time: 24.4 s\n"
     ]
    }
   ],
   "source": [
    "%%time\n",
    "purchase_dict = {}\n",
    "\n",
    "tmp = df.copy().to_pandas()\n",
    "tmp['x'] = ((Last_date - tmp['t_dat']) / np.timedelta64(1, 'D')).astype(int)\n",
    "tmp['dummy_1'] = 1 \n",
    "tmp['x'] = tmp[[\"x\", \"dummy_1\"]].max(axis=1)\n",
    "\n",
    "a, b, c, d = 2.5e4, 1.5e5, 2e-1, 1e3\n",
    "total = 1715530\n",
    "tmp['y'] = ((a / np.sqrt(tmp['x']) + b * np.exp(-c*tmp['x']) - d) / total +\\\n",
    "(a / np.sqrt(tmp['x']+1) + b * np.exp(-c*(tmp['x']+1)) - d) / total +\\\n",
    "(a / np.sqrt(tmp['x']+2) + b * np.exp(-c*(tmp['x']+2)) - d) / total +\\\n",
    "(a / np.sqrt(tmp['x']+3) + b * np.exp(-c*(tmp['x']+3)) - d) / total +\\\n",
    "(a / np.sqrt(tmp['x']+4) + b * np.exp(-c*(tmp['x']+4)) - d) / total +\\\n",
    "(a / np.sqrt(tmp['x']+5) + b * np.exp(-c*(tmp['x']+5)) - d) / total +\\\n",
    "(a / np.sqrt(tmp['x']+6) + b * np.exp(-c*(tmp['x']+6)) - d) / total)\n",
    "\n",
    "tmp['dummy_0'] = 0 \n",
    "tmp['y'] = tmp[[\"y\", \"dummy_0\"]].max(axis=1)\n",
    "tmp['score'] = tmp['quotient'] * tmp['y'] \n",
    "\n",
    "tmp = tmp.groupby(['customer_id', 'article_id']).agg({'score': 'sum'})\n",
    "tmp = tmp.reset_index()\n",
    "\n",
    "tmp = tmp.loc[tmp['score'] > 0]\n",
    "tmp['rank'] = tmp.groupby(\"customer_id\")[\"score\"].rank(\"dense\", ascending=False)\n",
    "tmp = tmp.loc[tmp['rank'] <= 12]\n",
    "tmp[\"source\"] = 1\n",
    "\n",
    "result1 = tmp[[\"customer_id\", \"article_id\", \"source\", \"score\", \"rank\"]]"
   ]
  },
  {
   "cell_type": "code",
   "execution_count": 18,
   "id": "f538ab35",
   "metadata": {
    "editable": false,
    "execution": {
     "iopub.execute_input": "2022-03-27T16:44:51.272817Z",
     "iopub.status.busy": "2022-03-27T16:44:51.271852Z",
     "iopub.status.idle": "2022-03-27T16:44:51.279504Z",
     "shell.execute_reply": "2022-03-27T16:44:51.278775Z",
     "shell.execute_reply.started": "2022-03-27T15:59:00.33295Z"
    },
    "papermill": {
     "duration": 0.362409,
     "end_time": "2022-03-27T16:44:51.279671",
     "exception": false,
     "start_time": "2022-03-27T16:44:50.917262",
     "status": "completed"
    },
    "tags": []
   },
   "outputs": [
    {
     "data": {
      "text/plain": [
       "208"
      ]
     },
     "execution_count": 18,
     "metadata": {},
     "output_type": "execute_result"
    }
   ],
   "source": [
    "del weekly_sales\n",
    "del df\n",
    "del tmp\n",
    "gc.collect()"
   ]
  },
  {
   "cell_type": "code",
   "execution_count": 19,
   "id": "6aa76484",
   "metadata": {
    "editable": false,
    "execution": {
     "iopub.execute_input": "2022-03-27T16:44:51.620235Z",
     "iopub.status.busy": "2022-03-27T16:44:51.619139Z",
     "iopub.status.idle": "2022-03-27T16:44:51.633282Z",
     "shell.execute_reply": "2022-03-27T16:44:51.632730Z",
     "shell.execute_reply.started": "2022-03-27T15:59:00.509462Z"
    },
    "papermill": {
     "duration": 0.187389,
     "end_time": "2022-03-27T16:44:51.633420",
     "exception": false,
     "start_time": "2022-03-27T16:44:51.446031",
     "status": "completed"
    },
    "tags": []
   },
   "outputs": [
    {
     "data": {
      "text/html": [
       "<div>\n",
       "<style scoped>\n",
       "    .dataframe tbody tr th:only-of-type {\n",
       "        vertical-align: middle;\n",
       "    }\n",
       "\n",
       "    .dataframe tbody tr th {\n",
       "        vertical-align: top;\n",
       "    }\n",
       "\n",
       "    .dataframe thead th {\n",
       "        text-align: right;\n",
       "    }\n",
       "</style>\n",
       "<table border=\"1\" class=\"dataframe\">\n",
       "  <thead>\n",
       "    <tr style=\"text-align: right;\">\n",
       "      <th></th>\n",
       "      <th>customer_id</th>\n",
       "      <th>article_id</th>\n",
       "      <th>source</th>\n",
       "      <th>score</th>\n",
       "      <th>rank</th>\n",
       "    </tr>\n",
       "  </thead>\n",
       "  <tbody>\n",
       "    <tr>\n",
       "      <th>0</th>\n",
       "      <td>-9223352921020755230</td>\n",
       "      <td>568597006</td>\n",
       "      <td>1</td>\n",
       "      <td>0.000559</td>\n",
       "      <td>5.0</td>\n",
       "    </tr>\n",
       "    <tr>\n",
       "      <th>1</th>\n",
       "      <td>-9223352921020755230</td>\n",
       "      <td>673396002</td>\n",
       "      <td>1</td>\n",
       "      <td>0.044511</td>\n",
       "      <td>1.0</td>\n",
       "    </tr>\n",
       "    <tr>\n",
       "      <th>2</th>\n",
       "      <td>-9223352921020755230</td>\n",
       "      <td>706016001</td>\n",
       "      <td>1</td>\n",
       "      <td>0.003289</td>\n",
       "      <td>4.0</td>\n",
       "    </tr>\n",
       "    <tr>\n",
       "      <th>3</th>\n",
       "      <td>-9223352921020755230</td>\n",
       "      <td>812167004</td>\n",
       "      <td>1</td>\n",
       "      <td>0.019179</td>\n",
       "      <td>2.0</td>\n",
       "    </tr>\n",
       "    <tr>\n",
       "      <th>4</th>\n",
       "      <td>-9223352921020755230</td>\n",
       "      <td>849493006</td>\n",
       "      <td>1</td>\n",
       "      <td>0.006174</td>\n",
       "      <td>3.0</td>\n",
       "    </tr>\n",
       "    <tr>\n",
       "      <th>...</th>\n",
       "      <td>...</td>\n",
       "      <td>...</td>\n",
       "      <td>...</td>\n",
       "      <td>...</td>\n",
       "      <td>...</td>\n",
       "    </tr>\n",
       "    <tr>\n",
       "      <th>10844244</th>\n",
       "      <td>9223301031927667525</td>\n",
       "      <td>719957006</td>\n",
       "      <td>1</td>\n",
       "      <td>0.000026</td>\n",
       "      <td>1.0</td>\n",
       "    </tr>\n",
       "    <tr>\n",
       "      <th>10844245</th>\n",
       "      <td>9223333063893176977</td>\n",
       "      <td>658030020</td>\n",
       "      <td>1</td>\n",
       "      <td>0.000038</td>\n",
       "      <td>1.0</td>\n",
       "    </tr>\n",
       "    <tr>\n",
       "      <th>10844246</th>\n",
       "      <td>9223357421094039679</td>\n",
       "      <td>747984001</td>\n",
       "      <td>1</td>\n",
       "      <td>0.000010</td>\n",
       "      <td>2.0</td>\n",
       "    </tr>\n",
       "    <tr>\n",
       "      <th>10844247</th>\n",
       "      <td>9223357421094039679</td>\n",
       "      <td>747984002</td>\n",
       "      <td>1</td>\n",
       "      <td>0.000053</td>\n",
       "      <td>1.0</td>\n",
       "    </tr>\n",
       "    <tr>\n",
       "      <th>10844248</th>\n",
       "      <td>9223370729206611574</td>\n",
       "      <td>781758003</td>\n",
       "      <td>1</td>\n",
       "      <td>0.001461</td>\n",
       "      <td>1.0</td>\n",
       "    </tr>\n",
       "  </tbody>\n",
       "</table>\n",
       "<p>6693016 rows × 5 columns</p>\n",
       "</div>"
      ],
      "text/plain": [
       "                  customer_id  article_id  source     score  rank\n",
       "0        -9223352921020755230   568597006       1  0.000559   5.0\n",
       "1        -9223352921020755230   673396002       1  0.044511   1.0\n",
       "2        -9223352921020755230   706016001       1  0.003289   4.0\n",
       "3        -9223352921020755230   812167004       1  0.019179   2.0\n",
       "4        -9223352921020755230   849493006       1  0.006174   3.0\n",
       "...                       ...         ...     ...       ...   ...\n",
       "10844244  9223301031927667525   719957006       1  0.000026   1.0\n",
       "10844245  9223333063893176977   658030020       1  0.000038   1.0\n",
       "10844246  9223357421094039679   747984001       1  0.000010   2.0\n",
       "10844247  9223357421094039679   747984002       1  0.000053   1.0\n",
       "10844248  9223370729206611574   781758003       1  0.001461   1.0\n",
       "\n",
       "[6693016 rows x 5 columns]"
      ]
     },
     "execution_count": 19,
     "metadata": {},
     "output_type": "execute_result"
    }
   ],
   "source": [
    "result1"
   ]
  },
  {
   "cell_type": "code",
   "execution_count": 20,
   "id": "dc5d5d9c",
   "metadata": {
    "editable": false,
    "execution": {
     "iopub.execute_input": "2022-03-27T16:44:51.975190Z",
     "iopub.status.busy": "2022-03-27T16:44:51.973726Z",
     "iopub.status.idle": "2022-03-27T16:44:51.977523Z",
     "shell.execute_reply": "2022-03-27T16:44:51.976975Z",
     "shell.execute_reply.started": "2022-03-27T15:59:00.52763Z"
    },
    "papermill": {
     "duration": 0.17395,
     "end_time": "2022-03-27T16:44:51.977661",
     "exception": false,
     "start_time": "2022-03-27T16:44:51.803711",
     "status": "completed"
    },
    "tags": []
   },
   "outputs": [],
   "source": [
    "#result1.to_csv(\"/kaggle/working/result1.csv\", index = False)"
   ]
  },
  {
   "cell_type": "markdown",
   "id": "08cb6037",
   "metadata": {
    "editable": false,
    "execution": {
     "iopub.execute_input": "2022-03-19T09:13:27.534287Z",
     "iopub.status.busy": "2022-03-19T09:13:27.534029Z",
     "iopub.status.idle": "2022-03-19T09:13:27.537763Z",
     "shell.execute_reply": "2022-03-19T09:13:27.536825Z",
     "shell.execute_reply.started": "2022-03-19T09:13:27.534257Z"
    },
    "papermill": {
     "duration": 0.165187,
     "end_time": "2022-03-27T16:44:52.307792",
     "exception": false,
     "start_time": "2022-03-27T16:44:52.142605",
     "status": "completed"
    },
    "tags": []
   },
   "source": [
    "## 第二路：相似复购"
   ]
  },
  {
   "cell_type": "code",
   "execution_count": 21,
   "id": "de4b9579",
   "metadata": {
    "editable": false,
    "execution": {
     "iopub.execute_input": "2022-03-27T16:44:52.649886Z",
     "iopub.status.busy": "2022-03-27T16:44:52.648837Z",
     "iopub.status.idle": "2022-03-27T16:45:02.328529Z",
     "shell.execute_reply": "2022-03-27T16:45:02.327847Z",
     "shell.execute_reply.started": "2022-03-27T15:59:00.532492Z"
    },
    "papermill": {
     "duration": 9.852908,
     "end_time": "2022-03-27T16:45:02.328689",
     "exception": false,
     "start_time": "2022-03-27T16:44:52.475781",
     "status": "completed"
    },
    "tags": []
   },
   "outputs": [
    {
     "name": "stdout",
     "output_type": "stream",
     "text": [
      "Requirement already satisfied: cudf in /opt/conda/lib/python3.7/site-packages (21.10.1)\r\n",
      "Requirement already satisfied: numba>=0.53.1 in /opt/conda/lib/python3.7/site-packages (from cudf) (0.54.1)\r\n",
      "Requirement already satisfied: Cython<0.30,>=0.29 in /opt/conda/lib/python3.7/site-packages (from cudf) (0.29.28)\r\n",
      "Requirement already satisfied: fastavro>=0.22.9 in /opt/conda/lib/python3.7/site-packages (from cudf) (1.4.9)\r\n",
      "Requirement already satisfied: fsspec>=0.6.0 in /opt/conda/lib/python3.7/site-packages (from cudf) (2022.2.0)\r\n",
      "Requirement already satisfied: numpy in /opt/conda/lib/python3.7/site-packages (from cudf) (1.20.3)\r\n",
      "Requirement already satisfied: pandas<1.4.0dev0,>=1.0 in /opt/conda/lib/python3.7/site-packages (from cudf) (1.3.5)\r\n",
      "Requirement already satisfied: typing_extensions in /opt/conda/lib/python3.7/site-packages (from cudf) (4.1.1)\r\n",
      "Requirement already satisfied: protobuf in /opt/conda/lib/python3.7/site-packages (from cudf) (3.19.1)\r\n",
      "Requirement already satisfied: nvtx>=0.2.1 in /opt/conda/lib/python3.7/site-packages (from cudf) (0.2.3)\r\n",
      "Requirement already satisfied: cachetools in /opt/conda/lib/python3.7/site-packages (from cudf) (4.2.4)\r\n",
      "Requirement already satisfied: packaging in /opt/conda/lib/python3.7/site-packages (from cudf) (21.3)\r\n",
      "Requirement already satisfied: cupy-cuda110 in /opt/conda/lib/python3.7/site-packages (from cudf) (10.2.0)\r\n",
      "Requirement already satisfied: llvmlite<0.38,>=0.37.0rc1 in /opt/conda/lib/python3.7/site-packages (from numba>=0.53.1->cudf) (0.37.0)\r\n",
      "Requirement already satisfied: setuptools in /opt/conda/lib/python3.7/site-packages (from numba>=0.53.1->cudf) (59.5.0)\r\n",
      "Requirement already satisfied: python-dateutil>=2.7.3 in /opt/conda/lib/python3.7/site-packages (from pandas<1.4.0dev0,>=1.0->cudf) (2.8.2)\r\n",
      "Requirement already satisfied: pytz>=2017.3 in /opt/conda/lib/python3.7/site-packages (from pandas<1.4.0dev0,>=1.0->cudf) (2021.3)\r\n",
      "Requirement already satisfied: fastrlock>=0.5 in /opt/conda/lib/python3.7/site-packages (from cupy-cuda110->cudf) (0.8)\r\n",
      "Requirement already satisfied: pyparsing!=3.0.5,>=2.0.2 in /opt/conda/lib/python3.7/site-packages (from packaging->cudf) (3.0.6)\r\n",
      "Requirement already satisfied: six>=1.5 in /opt/conda/lib/python3.7/site-packages (from python-dateutil>=2.7.3->pandas<1.4.0dev0,>=1.0->cudf) (1.16.0)\r\n",
      "\u001b[33mWARNING: Running pip as the 'root' user can result in broken permissions and conflicting behaviour with the system package manager. It is recommended to use a virtual environment instead: https://pip.pypa.io/warnings/venv\u001b[0m\r\n"
     ]
    }
   ],
   "source": [
    "!pip install cudf\n",
    "import numpy as np\n",
    "import pandas as pd \n",
    "from datetime import datetime, timedelta\n",
    "import gc\n",
    "import cudf\n",
    "import cv2, matplotlib.pyplot as plt\n",
    "from os.path import exists"
   ]
  },
  {
   "cell_type": "code",
   "execution_count": 22,
   "id": "fd57f8eb",
   "metadata": {
    "editable": false,
    "execution": {
     "iopub.execute_input": "2022-03-27T16:45:02.678867Z",
     "iopub.status.busy": "2022-03-27T16:45:02.677833Z",
     "iopub.status.idle": "2022-03-27T16:45:02.681311Z",
     "shell.execute_reply": "2022-03-27T16:45:02.680698Z",
     "shell.execute_reply.started": "2022-03-27T15:59:08.091708Z"
    },
    "papermill": {
     "duration": 0.177939,
     "end_time": "2022-03-27T16:45:02.681451",
     "exception": false,
     "start_time": "2022-03-27T16:45:02.503512",
     "status": "completed"
    },
    "tags": []
   },
   "outputs": [],
   "source": [
    "# # LOAD TRANSACTIONS DATAFRAME\n",
    "# df = cudf.read_csv('../input/h-and-m-personalized-fashion-recommendations/transactions_train.csv')\n",
    "# print('Transactions shape',df.shape)\n",
    "# display( df.head() )\n",
    "\n",
    "# # REDUCE MEMORY OF DATAFRAME\n",
    "# df = df[['customer_id','article_id']]\n",
    "# df.customer_id = df.customer_id.str[-16:].str.hex_to_int().astype('int64')\n",
    "# df.article_id = df.article_id.astype('int32')\n",
    "# _ = gc.collect()"
   ]
  },
  {
   "cell_type": "code",
   "execution_count": 23,
   "id": "f72ca609",
   "metadata": {
    "editable": false,
    "execution": {
     "iopub.execute_input": "2022-03-27T16:45:03.029805Z",
     "iopub.status.busy": "2022-03-27T16:45:03.028652Z",
     "iopub.status.idle": "2022-03-27T16:45:03.034146Z",
     "shell.execute_reply": "2022-03-27T16:45:03.033611Z",
     "shell.execute_reply.started": "2022-03-27T15:59:08.097773Z"
    },
    "papermill": {
     "duration": 0.178251,
     "end_time": "2022-03-27T16:45:03.034329",
     "exception": false,
     "start_time": "2022-03-27T16:45:02.856078",
     "status": "completed"
    },
    "tags": []
   },
   "outputs": [],
   "source": [
    "# # FIND ITEMS PURCHASED TOGETHER\n",
    "# vc = df.article_id.value_counts()\n",
    "# pairs = {}\n",
    "# # for j,i in enumerate(vc.index.values[1000:1032]):\n",
    "# #     #if j%10==0: print(j,', ',end='')\n",
    "# #     USERS = df.loc[df.article_id==i.item(),'customer_id'].unique()\n",
    "# #     vc2 = df.loc[(df.customer_id.isin(USERS))&(df.article_id!=i.item()),'article_id'].value_counts()\n",
    "# #     pairs[i.item()] = [vc2.index[0], vc2.index[1], vc2.index[2]]"
   ]
  },
  {
   "cell_type": "code",
   "execution_count": 24,
   "id": "0488ca81",
   "metadata": {
    "editable": false,
    "execution": {
     "iopub.execute_input": "2022-03-27T16:45:03.379042Z",
     "iopub.status.busy": "2022-03-27T16:45:03.377940Z",
     "iopub.status.idle": "2022-03-27T16:45:03.381508Z",
     "shell.execute_reply": "2022-03-27T16:45:03.380941Z",
     "shell.execute_reply.started": "2022-03-27T15:59:08.110307Z"
    },
    "papermill": {
     "duration": 0.179161,
     "end_time": "2022-03-27T16:45:03.381654",
     "exception": false,
     "start_time": "2022-03-27T16:45:03.202493",
     "status": "completed"
    },
    "tags": []
   },
   "outputs": [],
   "source": [
    "# vc = vc.reset_index().rename(columns = {\"article_id\":\"count\", \"index\":\"article_id\"})"
   ]
  },
  {
   "cell_type": "code",
   "execution_count": 25,
   "id": "6f48b094",
   "metadata": {
    "editable": false,
    "execution": {
     "iopub.execute_input": "2022-03-27T16:45:03.730233Z",
     "iopub.status.busy": "2022-03-27T16:45:03.729127Z",
     "iopub.status.idle": "2022-03-27T16:45:03.732328Z",
     "shell.execute_reply": "2022-03-27T16:45:03.731797Z",
     "shell.execute_reply.started": "2022-03-27T15:59:08.119186Z"
    },
    "papermill": {
     "duration": 0.179122,
     "end_time": "2022-03-27T16:45:03.732456",
     "exception": false,
     "start_time": "2022-03-27T16:45:03.553334",
     "status": "completed"
    },
    "tags": []
   },
   "outputs": [],
   "source": [
    "# vc = vc[vc[\"count\"]>=50]"
   ]
  },
  {
   "cell_type": "code",
   "execution_count": 26,
   "id": "13ea0caf",
   "metadata": {
    "editable": false,
    "execution": {
     "iopub.execute_input": "2022-03-27T16:45:04.078607Z",
     "iopub.status.busy": "2022-03-27T16:45:04.077460Z",
     "iopub.status.idle": "2022-03-27T16:45:04.081068Z",
     "shell.execute_reply": "2022-03-27T16:45:04.080573Z",
     "shell.execute_reply.started": "2022-03-27T15:59:08.127656Z"
    },
    "papermill": {
     "duration": 0.178598,
     "end_time": "2022-03-27T16:45:04.081297",
     "exception": false,
     "start_time": "2022-03-27T16:45:03.902699",
     "status": "completed"
    },
    "tags": []
   },
   "outputs": [],
   "source": [
    "# def cal_together_score(x):\n",
    "#     USERS = df.loc[df.article_id==x[\"article_id\"],'customer_id'].unique()\n",
    "#     vc2 = df.loc[(df.customer_id.isin(USERS))&(df.article_id!=x[\"article_id\"]),'article_id'].value_counts()\n",
    "#     #pairs[i.item()] = [vc2.index[0], vc2.index[1], vc2.index[2]]\n",
    "#     return [[x.article_id, vc2.index[i], vc2.iloc[i]/x[\"count\"]] for i in range(min(10, len(vc2)))]"
   ]
  },
  {
   "cell_type": "code",
   "execution_count": 27,
   "id": "ca5e27ba",
   "metadata": {
    "editable": false,
    "execution": {
     "iopub.execute_input": "2022-03-27T16:45:04.434476Z",
     "iopub.status.busy": "2022-03-27T16:45:04.433267Z",
     "iopub.status.idle": "2022-03-27T16:45:04.435794Z",
     "shell.execute_reply": "2022-03-27T16:45:04.436435Z",
     "shell.execute_reply.started": "2022-03-27T15:59:08.135893Z"
    },
    "papermill": {
     "duration": 0.187259,
     "end_time": "2022-03-27T16:45:04.436614",
     "exception": false,
     "start_time": "2022-03-27T16:45:04.249355",
     "status": "completed"
    },
    "tags": []
   },
   "outputs": [],
   "source": [
    "#relation = vc.to_pandas().apply(lambda x: cal_together_score(x), axis = 1).sum()"
   ]
  },
  {
   "cell_type": "code",
   "execution_count": 28,
   "id": "776b9059",
   "metadata": {
    "editable": false,
    "execution": {
     "iopub.execute_input": "2022-03-27T16:45:04.785074Z",
     "iopub.status.busy": "2022-03-27T16:45:04.783967Z",
     "iopub.status.idle": "2022-03-27T16:45:04.786871Z",
     "shell.execute_reply": "2022-03-27T16:45:04.787405Z",
     "shell.execute_reply.started": "2022-03-27T15:59:08.148072Z"
    },
    "papermill": {
     "duration": 0.178089,
     "end_time": "2022-03-27T16:45:04.787568",
     "exception": false,
     "start_time": "2022-03-27T16:45:04.609479",
     "status": "completed"
    },
    "tags": []
   },
   "outputs": [],
   "source": [
    "#%%time\n",
    "# df  = cudf.read_csv('../input/h-and-m-personalized-fashion-recommendations/transactions_train.csv',\n",
    "#                             usecols= ['t_dat', 'customer_id', 'article_id'], \n",
    "#                             dtype={'article_id': 'int32', 't_dat': 'string', 'customer_id': 'string'})\n",
    "# df ['customer_id'] = df ['customer_id'].str[-16:].str.hex_to_int().astype('int64')\n",
    "\n",
    "# df['t_dat'] = cudf.to_datetime(df['t_dat'])\n",
    "# last_ts = df['t_dat'].max()"
   ]
  },
  {
   "cell_type": "code",
   "execution_count": 29,
   "id": "43356738",
   "metadata": {
    "editable": false,
    "execution": {
     "iopub.execute_input": "2022-03-27T16:45:05.138384Z",
     "iopub.status.busy": "2022-03-27T16:45:05.137351Z",
     "iopub.status.idle": "2022-03-27T16:45:05.145417Z",
     "shell.execute_reply": "2022-03-27T16:45:05.144775Z",
     "shell.execute_reply.started": "2022-03-27T15:59:08.153644Z"
    },
    "papermill": {
     "duration": 0.185228,
     "end_time": "2022-03-27T16:45:05.145565",
     "exception": false,
     "start_time": "2022-03-27T16:45:04.960337",
     "status": "completed"
    },
    "tags": []
   },
   "outputs": [],
   "source": [
    "df = train.copy()"
   ]
  },
  {
   "cell_type": "code",
   "execution_count": 30,
   "id": "b13f8ec0",
   "metadata": {
    "editable": false,
    "execution": {
     "iopub.execute_input": "2022-03-27T16:45:05.504533Z",
     "iopub.status.busy": "2022-03-27T16:45:05.503353Z",
     "iopub.status.idle": "2022-03-27T16:45:15.176574Z",
     "shell.execute_reply": "2022-03-27T16:45:15.177776Z",
     "shell.execute_reply.started": "2022-03-27T15:59:08.166516Z"
    },
    "papermill": {
     "duration": 9.860111,
     "end_time": "2022-03-27T16:45:15.178016",
     "exception": false,
     "start_time": "2022-03-27T16:45:05.317905",
     "status": "completed"
    },
    "tags": []
   },
   "outputs": [
    {
     "name": "stdout",
     "output_type": "stream",
     "text": [
      "CPU times: user 7.81 s, sys: 1.99 s, total: 9.79 s\n",
      "Wall time: 9.67 s\n"
     ]
    }
   ],
   "source": [
    "%%time\n",
    "tmp = df[['t_dat']].copy().to_pandas()\n",
    "tmp['dow'] = tmp['t_dat'].dt.dayofweek\n",
    "tmp['ldbw'] = tmp['t_dat'] - pd.TimedeltaIndex(tmp['dow'] - 1, unit='D')\n",
    "tmp.loc[tmp['dow'] >=2 , 'ldbw'] = tmp.loc[tmp['dow'] >=2 , 'ldbw'] + pd.TimedeltaIndex(np.ones(len(tmp.loc[tmp['dow'] >=2])) * 7, unit='D')\n",
    "\n",
    "df['ldbw'] = tmp['ldbw'].values"
   ]
  },
  {
   "cell_type": "code",
   "execution_count": 31,
   "id": "bd5dbbde",
   "metadata": {
    "editable": false,
    "execution": {
     "iopub.execute_input": "2022-03-27T16:45:15.801752Z",
     "iopub.status.busy": "2022-03-27T16:45:15.800635Z",
     "iopub.status.idle": "2022-03-27T16:45:15.803575Z",
     "shell.execute_reply": "2022-03-27T16:45:15.802677Z",
     "shell.execute_reply.started": "2022-03-27T15:59:15.869742Z"
    },
    "papermill": {
     "duration": 0.331485,
     "end_time": "2022-03-27T16:45:15.803775",
     "exception": false,
     "start_time": "2022-03-27T16:45:15.472290",
     "status": "completed"
    },
    "tags": []
   },
   "outputs": [],
   "source": [
    "#relation_data = cudf.DataFrame(relation, columns = [\"from_id\", \"to_id\", \"ratio\"])"
   ]
  },
  {
   "cell_type": "code",
   "execution_count": 32,
   "id": "98bc4fbe",
   "metadata": {
    "editable": false,
    "execution": {
     "iopub.execute_input": "2022-03-27T16:45:16.345255Z",
     "iopub.status.busy": "2022-03-27T16:45:16.344419Z",
     "iopub.status.idle": "2022-03-27T16:45:16.591305Z",
     "shell.execute_reply": "2022-03-27T16:45:16.590313Z",
     "shell.execute_reply.started": "2022-03-27T15:59:15.875014Z"
    },
    "papermill": {
     "duration": 0.508794,
     "end_time": "2022-03-27T16:45:16.591495",
     "exception": false,
     "start_time": "2022-03-27T16:45:16.082701",
     "status": "completed"
    },
    "tags": []
   },
   "outputs": [],
   "source": [
    "relation_data = cudf.read_csv(\"../input/relation/relation_data.csv\")"
   ]
  },
  {
   "cell_type": "code",
   "execution_count": 33,
   "id": "6e079de0",
   "metadata": {
    "editable": false,
    "execution": {
     "iopub.execute_input": "2022-03-27T16:45:16.946856Z",
     "iopub.status.busy": "2022-03-27T16:45:16.946141Z",
     "iopub.status.idle": "2022-03-27T16:45:17.008383Z",
     "shell.execute_reply": "2022-03-27T16:45:17.007859Z",
     "shell.execute_reply.started": "2022-03-27T15:59:16.407797Z"
    },
    "papermill": {
     "duration": 0.242051,
     "end_time": "2022-03-27T16:45:17.008525",
     "exception": false,
     "start_time": "2022-03-27T16:45:16.766474",
     "status": "completed"
    },
    "tags": []
   },
   "outputs": [
    {
     "data": {
      "text/html": [
       "<div>\n",
       "<style scoped>\n",
       "    .dataframe tbody tr th:only-of-type {\n",
       "        vertical-align: middle;\n",
       "    }\n",
       "\n",
       "    .dataframe tbody tr th {\n",
       "        vertical-align: top;\n",
       "    }\n",
       "\n",
       "    .dataframe thead th {\n",
       "        text-align: right;\n",
       "    }\n",
       "</style>\n",
       "<table border=\"1\" class=\"dataframe\">\n",
       "  <thead>\n",
       "    <tr style=\"text-align: right;\">\n",
       "      <th></th>\n",
       "      <th>from_id</th>\n",
       "      <th>to_id</th>\n",
       "      <th>ratio</th>\n",
       "    </tr>\n",
       "  </thead>\n",
       "  <tbody>\n",
       "    <tr>\n",
       "      <th>0</th>\n",
       "      <td>706016001</td>\n",
       "      <td>706016002</td>\n",
       "      <td>0.250144</td>\n",
       "    </tr>\n",
       "    <tr>\n",
       "      <th>1</th>\n",
       "      <td>706016001</td>\n",
       "      <td>706016003</td>\n",
       "      <td>0.155706</td>\n",
       "    </tr>\n",
       "    <tr>\n",
       "      <th>2</th>\n",
       "      <td>706016001</td>\n",
       "      <td>706016015</td>\n",
       "      <td>0.117943</td>\n",
       "    </tr>\n",
       "    <tr>\n",
       "      <th>3</th>\n",
       "      <td>706016001</td>\n",
       "      <td>706016006</td>\n",
       "      <td>0.097799</td>\n",
       "    </tr>\n",
       "    <tr>\n",
       "      <th>4</th>\n",
       "      <td>706016001</td>\n",
       "      <td>399223001</td>\n",
       "      <td>0.087299</td>\n",
       "    </tr>\n",
       "    <tr>\n",
       "      <th>...</th>\n",
       "      <td>...</td>\n",
       "      <td>...</td>\n",
       "      <td>...</td>\n",
       "    </tr>\n",
       "    <tr>\n",
       "      <th>570535</th>\n",
       "      <td>657165029</td>\n",
       "      <td>763270003</td>\n",
       "      <td>0.120000</td>\n",
       "    </tr>\n",
       "    <tr>\n",
       "      <th>570536</th>\n",
       "      <td>657165029</td>\n",
       "      <td>628327005</td>\n",
       "      <td>0.120000</td>\n",
       "    </tr>\n",
       "    <tr>\n",
       "      <th>570537</th>\n",
       "      <td>657165029</td>\n",
       "      <td>664319001</td>\n",
       "      <td>0.120000</td>\n",
       "    </tr>\n",
       "    <tr>\n",
       "      <th>570538</th>\n",
       "      <td>657165029</td>\n",
       "      <td>608776002</td>\n",
       "      <td>0.100000</td>\n",
       "    </tr>\n",
       "    <tr>\n",
       "      <th>570539</th>\n",
       "      <td>657165029</td>\n",
       "      <td>745806001</td>\n",
       "      <td>0.100000</td>\n",
       "    </tr>\n",
       "  </tbody>\n",
       "</table>\n",
       "<p>570540 rows × 3 columns</p>\n",
       "</div>"
      ],
      "text/plain": [
       "          from_id      to_id     ratio\n",
       "0       706016001  706016002  0.250144\n",
       "1       706016001  706016003  0.155706\n",
       "2       706016001  706016015  0.117943\n",
       "3       706016001  706016006  0.097799\n",
       "4       706016001  399223001  0.087299\n",
       "...           ...        ...       ...\n",
       "570535  657165029  763270003  0.120000\n",
       "570536  657165029  628327005  0.120000\n",
       "570537  657165029  664319001  0.120000\n",
       "570538  657165029  608776002  0.100000\n",
       "570539  657165029  745806001  0.100000\n",
       "\n",
       "[570540 rows x 3 columns]"
      ]
     },
     "execution_count": 33,
     "metadata": {},
     "output_type": "execute_result"
    }
   ],
   "source": [
    "relation_data"
   ]
  },
  {
   "cell_type": "code",
   "execution_count": 34,
   "id": "6092fdf2",
   "metadata": {
    "editable": false,
    "execution": {
     "iopub.execute_input": "2022-03-27T16:45:17.545516Z",
     "iopub.status.busy": "2022-03-27T16:45:17.356511Z",
     "iopub.status.idle": "2022-03-27T16:45:17.549243Z",
     "shell.execute_reply": "2022-03-27T16:45:17.549725Z",
     "shell.execute_reply.started": "2022-03-27T15:59:16.460628Z"
    },
    "papermill": {
     "duration": 0.368068,
     "end_time": "2022-03-27T16:45:17.549946",
     "exception": false,
     "start_time": "2022-03-27T16:45:17.181878",
     "status": "completed"
    },
    "tags": []
   },
   "outputs": [
    {
     "data": {
      "text/plain": [
       "106"
      ]
     },
     "execution_count": 34,
     "metadata": {},
     "output_type": "execute_result"
    }
   ],
   "source": [
    "del tmp\n",
    "gc.collect()"
   ]
  },
  {
   "cell_type": "code",
   "execution_count": 35,
   "id": "36165223",
   "metadata": {
    "editable": false,
    "execution": {
     "iopub.execute_input": "2022-03-27T16:45:17.896882Z",
     "iopub.status.busy": "2022-03-27T16:45:17.895836Z",
     "iopub.status.idle": "2022-03-27T16:45:18.028296Z",
     "shell.execute_reply": "2022-03-27T16:45:18.029968Z",
     "shell.execute_reply.started": "2022-03-27T15:59:16.633306Z"
    },
    "papermill": {
     "duration": 0.310322,
     "end_time": "2022-03-27T16:45:18.030252",
     "exception": false,
     "start_time": "2022-03-27T16:45:17.719930",
     "status": "completed"
    },
    "tags": []
   },
   "outputs": [],
   "source": [
    "weekly_sales = df.drop('customer_id', axis=1).groupby(['ldbw', 'article_id']).count().reset_index()\n",
    "weekly_sales = weekly_sales.rename(columns={'t_dat': 'count'})"
   ]
  },
  {
   "cell_type": "code",
   "execution_count": 36,
   "id": "308a4ee7",
   "metadata": {
    "editable": false,
    "execution": {
     "iopub.execute_input": "2022-03-27T16:45:18.382351Z",
     "iopub.status.busy": "2022-03-27T16:45:18.381215Z",
     "iopub.status.idle": "2022-03-27T16:45:18.446740Z",
     "shell.execute_reply": "2022-03-27T16:45:18.447300Z",
     "shell.execute_reply.started": "2022-03-27T15:59:16.764474Z"
    },
    "papermill": {
     "duration": 0.246565,
     "end_time": "2022-03-27T16:45:18.447529",
     "exception": false,
     "start_time": "2022-03-27T16:45:18.200964",
     "status": "completed"
    },
    "tags": []
   },
   "outputs": [
    {
     "data": {
      "text/html": [
       "<div>\n",
       "<style scoped>\n",
       "    .dataframe tbody tr th:only-of-type {\n",
       "        vertical-align: middle;\n",
       "    }\n",
       "\n",
       "    .dataframe tbody tr th {\n",
       "        vertical-align: top;\n",
       "    }\n",
       "\n",
       "    .dataframe thead th {\n",
       "        text-align: right;\n",
       "    }\n",
       "</style>\n",
       "<table border=\"1\" class=\"dataframe\">\n",
       "  <thead>\n",
       "    <tr style=\"text-align: right;\">\n",
       "      <th></th>\n",
       "      <th>ldbw</th>\n",
       "      <th>article_id</th>\n",
       "      <th>count</th>\n",
       "      <th>price</th>\n",
       "      <th>sales_channel_id</th>\n",
       "    </tr>\n",
       "  </thead>\n",
       "  <tbody>\n",
       "    <tr>\n",
       "      <th>0</th>\n",
       "      <td>2019-03-12</td>\n",
       "      <td>719447002</td>\n",
       "      <td>4</td>\n",
       "      <td>4</td>\n",
       "      <td>4</td>\n",
       "    </tr>\n",
       "    <tr>\n",
       "      <th>1</th>\n",
       "      <td>2019-04-16</td>\n",
       "      <td>590203002</td>\n",
       "      <td>1</td>\n",
       "      <td>1</td>\n",
       "      <td>1</td>\n",
       "    </tr>\n",
       "    <tr>\n",
       "      <th>2</th>\n",
       "      <td>2020-05-05</td>\n",
       "      <td>831684001</td>\n",
       "      <td>12</td>\n",
       "      <td>12</td>\n",
       "      <td>12</td>\n",
       "    </tr>\n",
       "    <tr>\n",
       "      <th>3</th>\n",
       "      <td>2019-05-28</td>\n",
       "      <td>693508002</td>\n",
       "      <td>1</td>\n",
       "      <td>1</td>\n",
       "      <td>1</td>\n",
       "    </tr>\n",
       "    <tr>\n",
       "      <th>4</th>\n",
       "      <td>2019-07-02</td>\n",
       "      <td>777038001</td>\n",
       "      <td>5</td>\n",
       "      <td>5</td>\n",
       "      <td>5</td>\n",
       "    </tr>\n",
       "    <tr>\n",
       "      <th>...</th>\n",
       "      <td>...</td>\n",
       "      <td>...</td>\n",
       "      <td>...</td>\n",
       "      <td>...</td>\n",
       "      <td>...</td>\n",
       "    </tr>\n",
       "    <tr>\n",
       "      <th>2183240</th>\n",
       "      <td>2019-02-12</td>\n",
       "      <td>664871001</td>\n",
       "      <td>34</td>\n",
       "      <td>34</td>\n",
       "      <td>34</td>\n",
       "    </tr>\n",
       "    <tr>\n",
       "      <th>2183241</th>\n",
       "      <td>2019-11-19</td>\n",
       "      <td>640735001</td>\n",
       "      <td>2</td>\n",
       "      <td>2</td>\n",
       "      <td>2</td>\n",
       "    </tr>\n",
       "    <tr>\n",
       "      <th>2183242</th>\n",
       "      <td>2018-10-02</td>\n",
       "      <td>569355002</td>\n",
       "      <td>6</td>\n",
       "      <td>6</td>\n",
       "      <td>6</td>\n",
       "    </tr>\n",
       "    <tr>\n",
       "      <th>2183243</th>\n",
       "      <td>2019-06-04</td>\n",
       "      <td>684021006</td>\n",
       "      <td>8</td>\n",
       "      <td>8</td>\n",
       "      <td>8</td>\n",
       "    </tr>\n",
       "    <tr>\n",
       "      <th>2183244</th>\n",
       "      <td>2019-04-16</td>\n",
       "      <td>767918005</td>\n",
       "      <td>5</td>\n",
       "      <td>5</td>\n",
       "      <td>5</td>\n",
       "    </tr>\n",
       "  </tbody>\n",
       "</table>\n",
       "<p>2183245 rows × 5 columns</p>\n",
       "</div>"
      ],
      "text/plain": [
       "              ldbw  article_id  count  price  sales_channel_id\n",
       "0       2019-03-12   719447002      4      4                 4\n",
       "1       2019-04-16   590203002      1      1                 1\n",
       "2       2020-05-05   831684001     12     12                12\n",
       "3       2019-05-28   693508002      1      1                 1\n",
       "4       2019-07-02   777038001      5      5                 5\n",
       "...            ...         ...    ...    ...               ...\n",
       "2183240 2019-02-12   664871001     34     34                34\n",
       "2183241 2019-11-19   640735001      2      2                 2\n",
       "2183242 2018-10-02   569355002      6      6                 6\n",
       "2183243 2019-06-04   684021006      8      8                 8\n",
       "2183244 2019-04-16   767918005      5      5                 5\n",
       "\n",
       "[2183245 rows x 5 columns]"
      ]
     },
     "execution_count": 36,
     "metadata": {},
     "output_type": "execute_result"
    }
   ],
   "source": [
    "weekly_sales"
   ]
  },
  {
   "cell_type": "code",
   "execution_count": 37,
   "id": "57f7ebde",
   "metadata": {
    "editable": false,
    "execution": {
     "iopub.execute_input": "2022-03-27T16:45:18.802548Z",
     "iopub.status.busy": "2022-03-27T16:45:18.801493Z",
     "iopub.status.idle": "2022-03-27T16:45:18.836908Z",
     "shell.execute_reply": "2022-03-27T16:45:18.836401Z",
     "shell.execute_reply.started": "2022-03-27T15:59:16.829005Z"
    },
    "papermill": {
     "duration": 0.215938,
     "end_time": "2022-03-27T16:45:18.837038",
     "exception": false,
     "start_time": "2022-03-27T16:45:18.621100",
     "status": "completed"
    },
    "tags": []
   },
   "outputs": [],
   "source": [
    "df = df[df[\"ldbw\"] >= pd.to_datetime('2020-08-01')]"
   ]
  },
  {
   "cell_type": "code",
   "execution_count": 38,
   "id": "288b620b",
   "metadata": {
    "editable": false,
    "execution": {
     "iopub.execute_input": "2022-03-27T16:45:19.181952Z",
     "iopub.status.busy": "2022-03-27T16:45:19.180930Z",
     "iopub.status.idle": "2022-03-27T16:45:19.222805Z",
     "shell.execute_reply": "2022-03-27T16:45:19.223350Z",
     "shell.execute_reply.started": "2022-03-27T15:59:16.872849Z"
    },
    "papermill": {
     "duration": 0.21827,
     "end_time": "2022-03-27T16:45:19.223536",
     "exception": false,
     "start_time": "2022-03-27T16:45:19.005266",
     "status": "completed"
    },
    "tags": []
   },
   "outputs": [],
   "source": [
    "full_result = df.merge(relation_data, left_on = \"article_id\", right_on = \"from_id\")"
   ]
  },
  {
   "cell_type": "code",
   "execution_count": 39,
   "id": "7a0ae4e7",
   "metadata": {
    "editable": false,
    "execution": {
     "iopub.execute_input": "2022-03-27T16:45:19.574196Z",
     "iopub.status.busy": "2022-03-27T16:45:19.573144Z",
     "iopub.status.idle": "2022-03-27T16:45:19.576660Z",
     "shell.execute_reply": "2022-03-27T16:45:19.576010Z",
     "shell.execute_reply.started": "2022-03-27T15:59:16.928Z"
    },
    "papermill": {
     "duration": 0.184826,
     "end_time": "2022-03-27T16:45:19.576795",
     "exception": false,
     "start_time": "2022-03-27T16:45:19.391969",
     "status": "completed"
    },
    "tags": []
   },
   "outputs": [],
   "source": [
    "full_result.drop([\"article_id\", \"from_id\"], axis = 1, inplace = True)"
   ]
  },
  {
   "cell_type": "code",
   "execution_count": 40,
   "id": "f322c34a",
   "metadata": {
    "editable": false,
    "execution": {
     "iopub.execute_input": "2022-03-27T16:45:20.123420Z",
     "iopub.status.busy": "2022-03-27T16:45:20.122364Z",
     "iopub.status.idle": "2022-03-27T16:45:20.155904Z",
     "shell.execute_reply": "2022-03-27T16:45:20.157208Z",
     "shell.execute_reply.started": "2022-03-27T15:59:16.939688Z"
    },
    "papermill": {
     "duration": 0.40422,
     "end_time": "2022-03-27T16:45:20.157501",
     "exception": false,
     "start_time": "2022-03-27T16:45:19.753281",
     "status": "completed"
    },
    "tags": []
   },
   "outputs": [],
   "source": [
    "full_result = full_result.rename(columns = {\"to_id\": \"article_id\"})"
   ]
  },
  {
   "cell_type": "code",
   "execution_count": 41,
   "id": "129b5c66",
   "metadata": {
    "editable": false,
    "execution": {
     "iopub.execute_input": "2022-03-27T16:45:20.638121Z",
     "iopub.status.busy": "2022-03-27T16:45:20.637012Z",
     "iopub.status.idle": "2022-03-27T16:45:20.727063Z",
     "shell.execute_reply": "2022-03-27T16:45:20.727678Z",
     "shell.execute_reply.started": "2022-03-27T15:59:16.981185Z"
    },
    "papermill": {
     "duration": 0.278811,
     "end_time": "2022-03-27T16:45:20.727845",
     "exception": false,
     "start_time": "2022-03-27T16:45:20.449034",
     "status": "completed"
    },
    "tags": []
   },
   "outputs": [
    {
     "data": {
      "text/html": [
       "<div>\n",
       "<style scoped>\n",
       "    .dataframe tbody tr th:only-of-type {\n",
       "        vertical-align: middle;\n",
       "    }\n",
       "\n",
       "    .dataframe tbody tr th {\n",
       "        vertical-align: top;\n",
       "    }\n",
       "\n",
       "    .dataframe thead th {\n",
       "        text-align: right;\n",
       "    }\n",
       "</style>\n",
       "<table border=\"1\" class=\"dataframe\">\n",
       "  <thead>\n",
       "    <tr style=\"text-align: right;\">\n",
       "      <th></th>\n",
       "      <th>t_dat</th>\n",
       "      <th>customer_id</th>\n",
       "      <th>price</th>\n",
       "      <th>sales_channel_id</th>\n",
       "      <th>ldbw</th>\n",
       "      <th>article_id</th>\n",
       "      <th>ratio</th>\n",
       "    </tr>\n",
       "  </thead>\n",
       "  <tbody>\n",
       "    <tr>\n",
       "      <th>0</th>\n",
       "      <td>2020-07-29</td>\n",
       "      <td>2444631277703243913</td>\n",
       "      <td>0.054220</td>\n",
       "      <td>2</td>\n",
       "      <td>2020-08-04</td>\n",
       "      <td>852369006</td>\n",
       "      <td>0.118421</td>\n",
       "    </tr>\n",
       "    <tr>\n",
       "      <th>1</th>\n",
       "      <td>2020-07-29</td>\n",
       "      <td>2871511429790212268</td>\n",
       "      <td>0.016932</td>\n",
       "      <td>2</td>\n",
       "      <td>2020-08-04</td>\n",
       "      <td>706016003</td>\n",
       "      <td>0.067946</td>\n",
       "    </tr>\n",
       "    <tr>\n",
       "      <th>2</th>\n",
       "      <td>2020-07-29</td>\n",
       "      <td>2871511429790212268</td>\n",
       "      <td>0.027102</td>\n",
       "      <td>2</td>\n",
       "      <td>2020-08-04</td>\n",
       "      <td>706016001</td>\n",
       "      <td>0.117446</td>\n",
       "    </tr>\n",
       "    <tr>\n",
       "      <th>3</th>\n",
       "      <td>2020-07-29</td>\n",
       "      <td>9129155849271705416</td>\n",
       "      <td>0.005068</td>\n",
       "      <td>1</td>\n",
       "      <td>2020-08-04</td>\n",
       "      <td>759871002</td>\n",
       "      <td>0.208462</td>\n",
       "    </tr>\n",
       "    <tr>\n",
       "      <th>4</th>\n",
       "      <td>2020-07-29</td>\n",
       "      <td>2444631277703243913</td>\n",
       "      <td>0.054220</td>\n",
       "      <td>2</td>\n",
       "      <td>2020-08-04</td>\n",
       "      <td>852369005</td>\n",
       "      <td>0.214286</td>\n",
       "    </tr>\n",
       "    <tr>\n",
       "      <th>...</th>\n",
       "      <td>...</td>\n",
       "      <td>...</td>\n",
       "      <td>...</td>\n",
       "      <td>...</td>\n",
       "      <td>...</td>\n",
       "      <td>...</td>\n",
       "      <td>...</td>\n",
       "    </tr>\n",
       "    <tr>\n",
       "      <th>18750425</th>\n",
       "      <td>2020-09-15</td>\n",
       "      <td>-6183134395958286305</td>\n",
       "      <td>0.033881</td>\n",
       "      <td>2</td>\n",
       "      <td>2020-09-15</td>\n",
       "      <td>759871002</td>\n",
       "      <td>0.090253</td>\n",
       "    </tr>\n",
       "    <tr>\n",
       "      <th>18750426</th>\n",
       "      <td>2020-09-15</td>\n",
       "      <td>-6183134395958286305</td>\n",
       "      <td>0.033881</td>\n",
       "      <td>2</td>\n",
       "      <td>2020-09-15</td>\n",
       "      <td>574109011</td>\n",
       "      <td>0.086643</td>\n",
       "    </tr>\n",
       "    <tr>\n",
       "      <th>18750427</th>\n",
       "      <td>2020-09-15</td>\n",
       "      <td>-6183134395958286305</td>\n",
       "      <td>0.033881</td>\n",
       "      <td>2</td>\n",
       "      <td>2020-09-15</td>\n",
       "      <td>869379011</td>\n",
       "      <td>0.079422</td>\n",
       "    </tr>\n",
       "    <tr>\n",
       "      <th>18750428</th>\n",
       "      <td>2020-09-15</td>\n",
       "      <td>-6183134395958286305</td>\n",
       "      <td>0.033881</td>\n",
       "      <td>2</td>\n",
       "      <td>2020-09-15</td>\n",
       "      <td>729928025</td>\n",
       "      <td>0.079422</td>\n",
       "    </tr>\n",
       "    <tr>\n",
       "      <th>18750429</th>\n",
       "      <td>2020-09-15</td>\n",
       "      <td>-6183134395958286305</td>\n",
       "      <td>0.033881</td>\n",
       "      <td>2</td>\n",
       "      <td>2020-09-15</td>\n",
       "      <td>179123001</td>\n",
       "      <td>0.075812</td>\n",
       "    </tr>\n",
       "  </tbody>\n",
       "</table>\n",
       "<p>18750430 rows × 7 columns</p>\n",
       "</div>"
      ],
      "text/plain": [
       "              t_dat          customer_id     price  sales_channel_id  \\\n",
       "0        2020-07-29  2444631277703243913  0.054220                 2   \n",
       "1        2020-07-29  2871511429790212268  0.016932                 2   \n",
       "2        2020-07-29  2871511429790212268  0.027102                 2   \n",
       "3        2020-07-29  9129155849271705416  0.005068                 1   \n",
       "4        2020-07-29  2444631277703243913  0.054220                 2   \n",
       "...             ...                  ...       ...               ...   \n",
       "18750425 2020-09-15 -6183134395958286305  0.033881                 2   \n",
       "18750426 2020-09-15 -6183134395958286305  0.033881                 2   \n",
       "18750427 2020-09-15 -6183134395958286305  0.033881                 2   \n",
       "18750428 2020-09-15 -6183134395958286305  0.033881                 2   \n",
       "18750429 2020-09-15 -6183134395958286305  0.033881                 2   \n",
       "\n",
       "               ldbw  article_id     ratio  \n",
       "0        2020-08-04   852369006  0.118421  \n",
       "1        2020-08-04   706016003  0.067946  \n",
       "2        2020-08-04   706016001  0.117446  \n",
       "3        2020-08-04   759871002  0.208462  \n",
       "4        2020-08-04   852369005  0.214286  \n",
       "...             ...         ...       ...  \n",
       "18750425 2020-09-15   759871002  0.090253  \n",
       "18750426 2020-09-15   574109011  0.086643  \n",
       "18750427 2020-09-15   869379011  0.079422  \n",
       "18750428 2020-09-15   729928025  0.079422  \n",
       "18750429 2020-09-15   179123001  0.075812  \n",
       "\n",
       "[18750430 rows x 7 columns]"
      ]
     },
     "execution_count": 41,
     "metadata": {},
     "output_type": "execute_result"
    }
   ],
   "source": [
    "full_result"
   ]
  },
  {
   "cell_type": "code",
   "execution_count": 42,
   "id": "7213cd89",
   "metadata": {
    "editable": false,
    "execution": {
     "iopub.execute_input": "2022-03-27T16:45:21.078163Z",
     "iopub.status.busy": "2022-03-27T16:45:21.077103Z",
     "iopub.status.idle": "2022-03-27T16:45:21.141136Z",
     "shell.execute_reply": "2022-03-27T16:45:21.140640Z",
     "shell.execute_reply.started": "2022-03-27T15:59:17.052992Z"
    },
    "papermill": {
     "duration": 0.240812,
     "end_time": "2022-03-27T16:45:21.141342",
     "exception": false,
     "start_time": "2022-03-27T16:45:20.900530",
     "status": "completed"
    },
    "tags": []
   },
   "outputs": [],
   "source": [
    "full_result = full_result.merge(weekly_sales, on=['ldbw', 'article_id'], how = 'left')"
   ]
  },
  {
   "cell_type": "code",
   "execution_count": 43,
   "id": "cec62805",
   "metadata": {
    "editable": false,
    "execution": {
     "iopub.execute_input": "2022-03-27T16:45:21.495438Z",
     "iopub.status.busy": "2022-03-27T16:45:21.494355Z",
     "iopub.status.idle": "2022-03-27T16:45:21.497799Z",
     "shell.execute_reply": "2022-03-27T16:45:21.497148Z",
     "shell.execute_reply.started": "2022-03-27T15:59:17.119325Z"
    },
    "papermill": {
     "duration": 0.183044,
     "end_time": "2022-03-27T16:45:21.497931",
     "exception": false,
     "start_time": "2022-03-27T16:45:21.314887",
     "status": "completed"
    },
    "tags": []
   },
   "outputs": [],
   "source": [
    "#full_result.drop([\"article_id\", \"from_id\", \"count\"], axis = 1, inplace = True)"
   ]
  },
  {
   "cell_type": "code",
   "execution_count": 44,
   "id": "e34a471e",
   "metadata": {
    "editable": false,
    "execution": {
     "iopub.execute_input": "2022-03-27T16:45:21.851240Z",
     "iopub.status.busy": "2022-03-27T16:45:21.850177Z",
     "iopub.status.idle": "2022-03-27T16:45:21.852866Z",
     "shell.execute_reply": "2022-03-27T16:45:21.853383Z",
     "shell.execute_reply.started": "2022-03-27T15:59:17.125613Z"
    },
    "papermill": {
     "duration": 0.183032,
     "end_time": "2022-03-27T16:45:21.853537",
     "exception": false,
     "start_time": "2022-03-27T16:45:21.670505",
     "status": "completed"
    },
    "tags": []
   },
   "outputs": [],
   "source": [
    "#full_result.dropna(inplace)"
   ]
  },
  {
   "cell_type": "code",
   "execution_count": 45,
   "id": "987e74a5",
   "metadata": {
    "editable": false,
    "execution": {
     "iopub.execute_input": "2022-03-27T16:45:22.205956Z",
     "iopub.status.busy": "2022-03-27T16:45:22.204839Z",
     "iopub.status.idle": "2022-03-27T16:45:22.293775Z",
     "shell.execute_reply": "2022-03-27T16:45:22.292973Z",
     "shell.execute_reply.started": "2022-03-27T15:59:17.133758Z"
    },
    "papermill": {
     "duration": 0.269822,
     "end_time": "2022-03-27T16:45:22.293996",
     "exception": false,
     "start_time": "2022-03-27T16:45:22.024174",
     "status": "completed"
    },
    "tags": []
   },
   "outputs": [],
   "source": [
    "weekly_sales = weekly_sales.reset_index().set_index('article_id')\n",
    "\n",
    "full_result = full_result.merge(\n",
    "    weekly_sales.loc[weekly_sales['ldbw']==Last_date, ['count']],\n",
    "    on='article_id', suffixes=(\"\", \"_targ\"))\n",
    "\n",
    "full_result['count_targ'].fillna(0, inplace=True)"
   ]
  },
  {
   "cell_type": "code",
   "execution_count": 46,
   "id": "2492b582",
   "metadata": {
    "editable": false,
    "execution": {
     "iopub.execute_input": "2022-03-27T16:45:22.655857Z",
     "iopub.status.busy": "2022-03-27T16:45:22.654686Z",
     "iopub.status.idle": "2022-03-27T16:45:22.767024Z",
     "shell.execute_reply": "2022-03-27T16:45:22.767572Z",
     "shell.execute_reply.started": "2022-03-27T15:59:17.231714Z"
    },
    "papermill": {
     "duration": 0.296617,
     "end_time": "2022-03-27T16:45:22.767757",
     "exception": false,
     "start_time": "2022-03-27T16:45:22.471140",
     "status": "completed"
    },
    "tags": []
   },
   "outputs": [
    {
     "data": {
      "text/html": [
       "<div>\n",
       "<style scoped>\n",
       "    .dataframe tbody tr th:only-of-type {\n",
       "        vertical-align: middle;\n",
       "    }\n",
       "\n",
       "    .dataframe tbody tr th {\n",
       "        vertical-align: top;\n",
       "    }\n",
       "\n",
       "    .dataframe thead th {\n",
       "        text-align: right;\n",
       "    }\n",
       "</style>\n",
       "<table border=\"1\" class=\"dataframe\">\n",
       "  <thead>\n",
       "    <tr style=\"text-align: right;\">\n",
       "      <th></th>\n",
       "      <th>t_dat</th>\n",
       "      <th>customer_id</th>\n",
       "      <th>price_x</th>\n",
       "      <th>sales_channel_id_x</th>\n",
       "      <th>ldbw</th>\n",
       "      <th>article_id</th>\n",
       "      <th>ratio</th>\n",
       "      <th>count</th>\n",
       "      <th>price_y</th>\n",
       "      <th>sales_channel_id_y</th>\n",
       "      <th>count_targ</th>\n",
       "    </tr>\n",
       "  </thead>\n",
       "  <tbody>\n",
       "    <tr>\n",
       "      <th>0</th>\n",
       "      <td>2020-07-29</td>\n",
       "      <td>-5676821407279214358</td>\n",
       "      <td>0.015237</td>\n",
       "      <td>2</td>\n",
       "      <td>2020-08-04</td>\n",
       "      <td>671777036</td>\n",
       "      <td>0.269373</td>\n",
       "      <td>15</td>\n",
       "      <td>15</td>\n",
       "      <td>15</td>\n",
       "      <td>3</td>\n",
       "    </tr>\n",
       "    <tr>\n",
       "      <th>1</th>\n",
       "      <td>2020-07-29</td>\n",
       "      <td>-5676821407279214358</td>\n",
       "      <td>0.022017</td>\n",
       "      <td>2</td>\n",
       "      <td>2020-08-04</td>\n",
       "      <td>706016001</td>\n",
       "      <td>0.125567</td>\n",
       "      <td>386</td>\n",
       "      <td>386</td>\n",
       "      <td>386</td>\n",
       "      <td>453</td>\n",
       "    </tr>\n",
       "    <tr>\n",
       "      <th>2</th>\n",
       "      <td>2020-07-29</td>\n",
       "      <td>4298251838113787682</td>\n",
       "      <td>0.033881</td>\n",
       "      <td>2</td>\n",
       "      <td>2020-08-04</td>\n",
       "      <td>706016001</td>\n",
       "      <td>0.091729</td>\n",
       "      <td>386</td>\n",
       "      <td>386</td>\n",
       "      <td>386</td>\n",
       "      <td>453</td>\n",
       "    </tr>\n",
       "    <tr>\n",
       "      <th>3</th>\n",
       "      <td>2020-07-29</td>\n",
       "      <td>7407517426315758701</td>\n",
       "      <td>0.017610</td>\n",
       "      <td>2</td>\n",
       "      <td>2020-08-04</td>\n",
       "      <td>763842007</td>\n",
       "      <td>0.178515</td>\n",
       "      <td>35</td>\n",
       "      <td>35</td>\n",
       "      <td>35</td>\n",
       "      <td>1</td>\n",
       "    </tr>\n",
       "    <tr>\n",
       "      <th>4</th>\n",
       "      <td>2020-07-29</td>\n",
       "      <td>-5676821407279214358</td>\n",
       "      <td>0.013542</td>\n",
       "      <td>2</td>\n",
       "      <td>2020-08-04</td>\n",
       "      <td>570003075</td>\n",
       "      <td>0.212034</td>\n",
       "      <td>7</td>\n",
       "      <td>7</td>\n",
       "      <td>7</td>\n",
       "      <td>40</td>\n",
       "    </tr>\n",
       "    <tr>\n",
       "      <th>...</th>\n",
       "      <td>...</td>\n",
       "      <td>...</td>\n",
       "      <td>...</td>\n",
       "      <td>...</td>\n",
       "      <td>...</td>\n",
       "      <td>...</td>\n",
       "      <td>...</td>\n",
       "      <td>...</td>\n",
       "      <td>...</td>\n",
       "      <td>...</td>\n",
       "      <td>...</td>\n",
       "    </tr>\n",
       "    <tr>\n",
       "      <th>17558330</th>\n",
       "      <td>2020-09-15</td>\n",
       "      <td>-5471093868421903345</td>\n",
       "      <td>0.015814</td>\n",
       "      <td>2</td>\n",
       "      <td>2020-09-15</td>\n",
       "      <td>448509014</td>\n",
       "      <td>0.053744</td>\n",
       "      <td>609</td>\n",
       "      <td>609</td>\n",
       "      <td>609</td>\n",
       "      <td>609</td>\n",
       "    </tr>\n",
       "    <tr>\n",
       "      <th>17558331</th>\n",
       "      <td>2020-09-15</td>\n",
       "      <td>-5649092535895410110</td>\n",
       "      <td>0.033881</td>\n",
       "      <td>2</td>\n",
       "      <td>2020-09-15</td>\n",
       "      <td>750330003</td>\n",
       "      <td>0.128079</td>\n",
       "      <td>11</td>\n",
       "      <td>11</td>\n",
       "      <td>11</td>\n",
       "      <td>11</td>\n",
       "    </tr>\n",
       "    <tr>\n",
       "      <th>17558332</th>\n",
       "      <td>2020-09-15</td>\n",
       "      <td>-5471093868421903345</td>\n",
       "      <td>0.063254</td>\n",
       "      <td>2</td>\n",
       "      <td>2020-09-15</td>\n",
       "      <td>799365002</td>\n",
       "      <td>0.052592</td>\n",
       "      <td>83</td>\n",
       "      <td>83</td>\n",
       "      <td>83</td>\n",
       "      <td>83</td>\n",
       "    </tr>\n",
       "    <tr>\n",
       "      <th>17558333</th>\n",
       "      <td>2020-09-15</td>\n",
       "      <td>-5488408287579339306</td>\n",
       "      <td>0.025407</td>\n",
       "      <td>2</td>\n",
       "      <td>2020-09-15</td>\n",
       "      <td>803757001</td>\n",
       "      <td>0.125786</td>\n",
       "      <td>148</td>\n",
       "      <td>148</td>\n",
       "      <td>148</td>\n",
       "      <td>148</td>\n",
       "    </tr>\n",
       "    <tr>\n",
       "      <th>17558334</th>\n",
       "      <td>2020-09-15</td>\n",
       "      <td>-981793227955361911</td>\n",
       "      <td>0.025407</td>\n",
       "      <td>2</td>\n",
       "      <td>2020-09-15</td>\n",
       "      <td>706016003</td>\n",
       "      <td>0.077626</td>\n",
       "      <td>365</td>\n",
       "      <td>365</td>\n",
       "      <td>365</td>\n",
       "      <td>365</td>\n",
       "    </tr>\n",
       "  </tbody>\n",
       "</table>\n",
       "<p>17558335 rows × 11 columns</p>\n",
       "</div>"
      ],
      "text/plain": [
       "              t_dat          customer_id   price_x  sales_channel_id_x  \\\n",
       "0        2020-07-29 -5676821407279214358  0.015237                   2   \n",
       "1        2020-07-29 -5676821407279214358  0.022017                   2   \n",
       "2        2020-07-29  4298251838113787682  0.033881                   2   \n",
       "3        2020-07-29  7407517426315758701  0.017610                   2   \n",
       "4        2020-07-29 -5676821407279214358  0.013542                   2   \n",
       "...             ...                  ...       ...                 ...   \n",
       "17558330 2020-09-15 -5471093868421903345  0.015814                   2   \n",
       "17558331 2020-09-15 -5649092535895410110  0.033881                   2   \n",
       "17558332 2020-09-15 -5471093868421903345  0.063254                   2   \n",
       "17558333 2020-09-15 -5488408287579339306  0.025407                   2   \n",
       "17558334 2020-09-15  -981793227955361911  0.025407                   2   \n",
       "\n",
       "               ldbw  article_id     ratio  count  price_y  sales_channel_id_y  \\\n",
       "0        2020-08-04   671777036  0.269373     15       15                  15   \n",
       "1        2020-08-04   706016001  0.125567    386      386                 386   \n",
       "2        2020-08-04   706016001  0.091729    386      386                 386   \n",
       "3        2020-08-04   763842007  0.178515     35       35                  35   \n",
       "4        2020-08-04   570003075  0.212034      7        7                   7   \n",
       "...             ...         ...       ...    ...      ...                 ...   \n",
       "17558330 2020-09-15   448509014  0.053744    609      609                 609   \n",
       "17558331 2020-09-15   750330003  0.128079     11       11                  11   \n",
       "17558332 2020-09-15   799365002  0.052592     83       83                  83   \n",
       "17558333 2020-09-15   803757001  0.125786    148      148                 148   \n",
       "17558334 2020-09-15   706016003  0.077626    365      365                 365   \n",
       "\n",
       "          count_targ  \n",
       "0                  3  \n",
       "1                453  \n",
       "2                453  \n",
       "3                  1  \n",
       "4                 40  \n",
       "...              ...  \n",
       "17558330         609  \n",
       "17558331          11  \n",
       "17558332          83  \n",
       "17558333         148  \n",
       "17558334         365  \n",
       "\n",
       "[17558335 rows x 11 columns]"
      ]
     },
     "execution_count": 46,
     "metadata": {},
     "output_type": "execute_result"
    }
   ],
   "source": [
    "full_result"
   ]
  },
  {
   "cell_type": "code",
   "execution_count": 47,
   "id": "b1057d4d",
   "metadata": {
    "editable": false,
    "execution": {
     "iopub.execute_input": "2022-03-27T16:45:23.122581Z",
     "iopub.status.busy": "2022-03-27T16:45:23.121536Z",
     "iopub.status.idle": "2022-03-27T16:45:23.128464Z",
     "shell.execute_reply": "2022-03-27T16:45:23.127795Z",
     "shell.execute_reply.started": "2022-03-27T15:59:17.324317Z"
    },
    "papermill": {
     "duration": 0.184527,
     "end_time": "2022-03-27T16:45:23.128611",
     "exception": false,
     "start_time": "2022-03-27T16:45:22.944084",
     "status": "completed"
    },
    "tags": []
   },
   "outputs": [],
   "source": [
    "full_result['quotient'] = full_result['count_targ'] / full_result['count']"
   ]
  },
  {
   "cell_type": "code",
   "execution_count": 48,
   "id": "209a85bc",
   "metadata": {
    "editable": false,
    "execution": {
     "iopub.execute_input": "2022-03-27T16:45:23.482619Z",
     "iopub.status.busy": "2022-03-27T16:45:23.481631Z",
     "iopub.status.idle": "2022-03-27T16:45:52.075974Z",
     "shell.execute_reply": "2022-03-27T16:45:52.074929Z",
     "shell.execute_reply.started": "2022-03-27T15:59:17.333661Z"
    },
    "papermill": {
     "duration": 28.775923,
     "end_time": "2022-03-27T16:45:52.076293",
     "exception": false,
     "start_time": "2022-03-27T16:45:23.300370",
     "status": "completed"
    },
    "tags": []
   },
   "outputs": [
    {
     "name": "stdout",
     "output_type": "stream",
     "text": [
      "CPU times: user 23.4 s, sys: 8.36 s, total: 31.8 s\n",
      "Wall time: 28.6 s\n"
     ]
    }
   ],
   "source": [
    "%%time\n",
    "purchase_dict = {}\n",
    "\n",
    "tmp = full_result.copy().to_pandas()\n",
    "tmp['x'] = ((Last_date - tmp['t_dat']) / np.timedelta64(1, 'D')).astype(int)\n",
    "tmp['dummy_1'] = 1 \n",
    "tmp['x'] = tmp[[\"x\", \"dummy_1\"]].max(axis=1)\n",
    "\n",
    "a, b, c, d = 2.5e4, 1.5e5, 2e-1, 1e3\n",
    "total = 1715530\n",
    "tmp['y'] = ((a / np.sqrt(tmp['x']) + b * np.exp(-c*tmp['x']) - d) / total +\\\n",
    "(a / np.sqrt(tmp['x']+1) + b * np.exp(-c*(tmp['x']+1)) - d) / total +\\\n",
    "(a / np.sqrt(tmp['x']+2) + b * np.exp(-c*(tmp['x']+2)) - d) / total +\\\n",
    "(a / np.sqrt(tmp['x']+3) + b * np.exp(-c*(tmp['x']+3)) - d) / total +\\\n",
    "(a / np.sqrt(tmp['x']+4) + b * np.exp(-c*(tmp['x']+4)) - d) / total +\\\n",
    "(a / np.sqrt(tmp['x']+5) + b * np.exp(-c*(tmp['x']+5)) - d) / total +\\\n",
    "(a / np.sqrt(tmp['x']+6) + b * np.exp(-c*(tmp['x']+6)) - d) / total)\n",
    "\n",
    "tmp['dummy_0'] = 0 \n",
    "tmp['y'] = tmp[[\"y\", \"dummy_0\"]].max(axis=1)\n",
    "tmp['score'] = tmp['quotient'] * tmp['y'] * tmp[\"ratio\"]\n",
    "\n",
    "tmp = tmp.groupby(['customer_id', 'article_id']).agg({'score': 'sum'})\n",
    "tmp = tmp.reset_index()\n",
    "\n",
    "tmp = tmp.loc[tmp['score'] > 0]\n",
    "tmp['rank'] = tmp.groupby(\"customer_id\")[\"score\"].rank(\"dense\", ascending=False)\n",
    "tmp = tmp.loc[tmp['rank'] <= 12]\n",
    "tmp[\"source\"] = 2\n",
    "\n",
    "result2 = tmp[[\"customer_id\", \"article_id\", \"source\", \"score\", \"rank\"]]"
   ]
  },
  {
   "cell_type": "code",
   "execution_count": 49,
   "id": "3e41fcd3",
   "metadata": {
    "editable": false,
    "execution": {
     "iopub.execute_input": "2022-03-27T16:45:52.499114Z",
     "iopub.status.busy": "2022-03-27T16:45:52.498124Z",
     "iopub.status.idle": "2022-03-27T16:45:52.502705Z",
     "shell.execute_reply": "2022-03-27T16:45:52.502113Z",
     "shell.execute_reply.started": "2022-03-27T15:59:40.542539Z"
    },
    "papermill": {
     "duration": 0.217097,
     "end_time": "2022-03-27T16:45:52.502989",
     "exception": false,
     "start_time": "2022-03-27T16:45:52.285892",
     "status": "completed"
    },
    "tags": []
   },
   "outputs": [],
   "source": [
    "#result2.to_csv(\"result2.csv\", index = False)"
   ]
  },
  {
   "cell_type": "code",
   "execution_count": 50,
   "id": "ec5bb04b",
   "metadata": {
    "editable": false,
    "execution": {
     "iopub.execute_input": "2022-03-27T16:45:53.068302Z",
     "iopub.status.busy": "2022-03-27T16:45:53.067059Z",
     "iopub.status.idle": "2022-03-27T16:45:53.294067Z",
     "shell.execute_reply": "2022-03-27T16:45:53.295630Z",
     "shell.execute_reply.started": "2022-03-27T15:59:40.547993Z"
    },
    "papermill": {
     "duration": 0.580615,
     "end_time": "2022-03-27T16:45:53.295961",
     "exception": false,
     "start_time": "2022-03-27T16:45:52.715346",
     "status": "completed"
    },
    "tags": []
   },
   "outputs": [
    {
     "data": {
      "text/plain": [
       "42"
      ]
     },
     "execution_count": 50,
     "metadata": {},
     "output_type": "execute_result"
    }
   ],
   "source": [
    "del tmp\n",
    "del df\n",
    "del full_result\n",
    "gc.collect()"
   ]
  },
  {
   "cell_type": "code",
   "execution_count": 51,
   "id": "f7ea05f0",
   "metadata": {
    "editable": false,
    "execution": {
     "iopub.execute_input": "2022-03-27T16:45:53.801540Z",
     "iopub.status.busy": "2022-03-27T16:45:53.800313Z",
     "iopub.status.idle": "2022-03-27T16:45:53.803822Z",
     "shell.execute_reply": "2022-03-27T16:45:53.804454Z",
     "shell.execute_reply.started": "2022-03-27T15:59:40.696987Z"
    },
    "papermill": {
     "duration": 0.219108,
     "end_time": "2022-03-27T16:45:53.804707",
     "exception": false,
     "start_time": "2022-03-27T16:45:53.585599",
     "status": "completed"
    },
    "tags": []
   },
   "outputs": [],
   "source": [
    "#relation_data.to_csv(\"/kaggle/working/relation_data.csv\", index = False)"
   ]
  },
  {
   "cell_type": "code",
   "execution_count": 52,
   "id": "c18a9321",
   "metadata": {
    "editable": false,
    "execution": {
     "iopub.execute_input": "2022-03-27T16:45:54.233470Z",
     "iopub.status.busy": "2022-03-27T16:45:54.232401Z",
     "iopub.status.idle": "2022-03-27T16:45:54.235586Z",
     "shell.execute_reply": "2022-03-27T16:45:54.236379Z",
     "shell.execute_reply.started": "2022-03-27T15:59:40.704075Z"
    },
    "papermill": {
     "duration": 0.218292,
     "end_time": "2022-03-27T16:45:54.236597",
     "exception": false,
     "start_time": "2022-03-27T16:45:54.018305",
     "status": "completed"
    },
    "tags": []
   },
   "outputs": [],
   "source": [
    "# items = cudf.read_csv('../input/h-and-m-personalized-fashion-recommendations/articles.csv')\n",
    "# BASE = '../input/h-and-m-personalized-fashion-recommendations/images/'\n",
    "\n",
    "# for i,(k,v) in enumerate( pairs.items() ):\n",
    "#     name1 = BASE+'0'+str(k)[:2]+'/0'+str(k)+'.jpg'\n",
    "#     name2 = BASE+'0'+str(v[0])[:2]+'/0'+str(v[0])+'.jpg'\n",
    "#     name3 = BASE+'0'+str(v[1])[:2]+'/0'+str(v[1])+'.jpg'\n",
    "#     name4 = BASE+'0'+str(v[2])[:2]+'/0'+str(v[2])+'.jpg'\n",
    "#     if exists(name1) & exists(name2) & exists(name3) & exists(name4):\n",
    "#         plt.figure(figsize=(20,5))\n",
    "#         img1 = cv2.imread(name1)[:,:,::-1]\n",
    "#         img2 = cv2.imread(name2)[:,:,::-1]\n",
    "#         img3 = cv2.imread(name3)[:,:,::-1]\n",
    "#         img4 = cv2.imread(name4)[:,:,::-1]\n",
    "#         plt.subplot(1,4,1)\n",
    "#         plt.title('When customers buy this',size=18)\n",
    "#         plt.imshow(img1)\n",
    "#         plt.subplot(1,4,2)\n",
    "#         plt.title('They buy this',size=18)\n",
    "#         plt.imshow(img2)\n",
    "#         plt.subplot(1,4,3)\n",
    "#         plt.title('They buy this',size=18)\n",
    "#         plt.imshow(img3)\n",
    "#         plt.subplot(1,4,4)\n",
    "#         plt.title('They buy this',size=18)\n",
    "#         plt.imshow(img4)\n",
    "#         plt.show()\n",
    "#     #if i==63: break"
   ]
  },
  {
   "cell_type": "code",
   "execution_count": 53,
   "id": "51a412d9",
   "metadata": {
    "editable": false,
    "execution": {
     "iopub.execute_input": "2022-03-27T16:45:54.666788Z",
     "iopub.status.busy": "2022-03-27T16:45:54.666015Z",
     "iopub.status.idle": "2022-03-27T16:45:54.673120Z",
     "shell.execute_reply": "2022-03-27T16:45:54.673711Z",
     "shell.execute_reply.started": "2022-03-27T15:59:40.714316Z"
    },
    "papermill": {
     "duration": 0.232771,
     "end_time": "2022-03-27T16:45:54.673861",
     "exception": false,
     "start_time": "2022-03-27T16:45:54.441090",
     "status": "completed"
    },
    "tags": []
   },
   "outputs": [
    {
     "data": {
      "text/html": [
       "<div>\n",
       "<style scoped>\n",
       "    .dataframe tbody tr th:only-of-type {\n",
       "        vertical-align: middle;\n",
       "    }\n",
       "\n",
       "    .dataframe tbody tr th {\n",
       "        vertical-align: top;\n",
       "    }\n",
       "\n",
       "    .dataframe thead th {\n",
       "        text-align: right;\n",
       "    }\n",
       "</style>\n",
       "<table border=\"1\" class=\"dataframe\">\n",
       "  <thead>\n",
       "    <tr style=\"text-align: right;\">\n",
       "      <th></th>\n",
       "      <th>customer_id</th>\n",
       "      <th>article_id</th>\n",
       "      <th>source</th>\n",
       "      <th>score</th>\n",
       "      <th>rank</th>\n",
       "    </tr>\n",
       "  </thead>\n",
       "  <tbody>\n",
       "    <tr>\n",
       "      <th>0</th>\n",
       "      <td>-9223352921020755230</td>\n",
       "      <td>156231001</td>\n",
       "      <td>2</td>\n",
       "      <td>0.002209</td>\n",
       "      <td>12.0</td>\n",
       "    </tr>\n",
       "    <tr>\n",
       "      <th>1</th>\n",
       "      <td>-9223352921020755230</td>\n",
       "      <td>372860001</td>\n",
       "      <td>2</td>\n",
       "      <td>0.003020</td>\n",
       "      <td>8.0</td>\n",
       "    </tr>\n",
       "    <tr>\n",
       "      <th>2</th>\n",
       "      <td>-9223352921020755230</td>\n",
       "      <td>372860002</td>\n",
       "      <td>2</td>\n",
       "      <td>0.002471</td>\n",
       "      <td>11.0</td>\n",
       "    </tr>\n",
       "    <tr>\n",
       "      <th>3</th>\n",
       "      <td>-9223352921020755230</td>\n",
       "      <td>448509014</td>\n",
       "      <td>2</td>\n",
       "      <td>0.003171</td>\n",
       "      <td>7.0</td>\n",
       "    </tr>\n",
       "    <tr>\n",
       "      <th>5</th>\n",
       "      <td>-9223352921020755230</td>\n",
       "      <td>562245046</td>\n",
       "      <td>2</td>\n",
       "      <td>0.002872</td>\n",
       "      <td>9.0</td>\n",
       "    </tr>\n",
       "    <tr>\n",
       "      <th>...</th>\n",
       "      <td>...</td>\n",
       "      <td>...</td>\n",
       "      <td>...</td>\n",
       "      <td>...</td>\n",
       "      <td>...</td>\n",
       "    </tr>\n",
       "    <tr>\n",
       "      <th>10385327</th>\n",
       "      <td>9223144259947635662</td>\n",
       "      <td>719957006</td>\n",
       "      <td>2</td>\n",
       "      <td>0.008230</td>\n",
       "      <td>12.0</td>\n",
       "    </tr>\n",
       "    <tr>\n",
       "      <th>10385329</th>\n",
       "      <td>9223144259947635662</td>\n",
       "      <td>720504004</td>\n",
       "      <td>2</td>\n",
       "      <td>0.021830</td>\n",
       "      <td>2.0</td>\n",
       "    </tr>\n",
       "    <tr>\n",
       "      <th>10385330</th>\n",
       "      <td>9223144259947635662</td>\n",
       "      <td>720504007</td>\n",
       "      <td>2</td>\n",
       "      <td>0.016236</td>\n",
       "      <td>5.0</td>\n",
       "    </tr>\n",
       "    <tr>\n",
       "      <th>10385333</th>\n",
       "      <td>9223144259947635662</td>\n",
       "      <td>730863005</td>\n",
       "      <td>2</td>\n",
       "      <td>0.014194</td>\n",
       "      <td>6.0</td>\n",
       "    </tr>\n",
       "    <tr>\n",
       "      <th>10385339</th>\n",
       "      <td>9223144259947635662</td>\n",
       "      <td>749699001</td>\n",
       "      <td>2</td>\n",
       "      <td>0.009977</td>\n",
       "      <td>8.0</td>\n",
       "    </tr>\n",
       "  </tbody>\n",
       "</table>\n",
       "<p>4005629 rows × 5 columns</p>\n",
       "</div>"
      ],
      "text/plain": [
       "                  customer_id  article_id  source     score  rank\n",
       "0        -9223352921020755230   156231001       2  0.002209  12.0\n",
       "1        -9223352921020755230   372860001       2  0.003020   8.0\n",
       "2        -9223352921020755230   372860002       2  0.002471  11.0\n",
       "3        -9223352921020755230   448509014       2  0.003171   7.0\n",
       "5        -9223352921020755230   562245046       2  0.002872   9.0\n",
       "...                       ...         ...     ...       ...   ...\n",
       "10385327  9223144259947635662   719957006       2  0.008230  12.0\n",
       "10385329  9223144259947635662   720504004       2  0.021830   2.0\n",
       "10385330  9223144259947635662   720504007       2  0.016236   5.0\n",
       "10385333  9223144259947635662   730863005       2  0.014194   6.0\n",
       "10385339  9223144259947635662   749699001       2  0.009977   8.0\n",
       "\n",
       "[4005629 rows x 5 columns]"
      ]
     },
     "execution_count": 53,
     "metadata": {},
     "output_type": "execute_result"
    }
   ],
   "source": [
    "result2"
   ]
  },
  {
   "cell_type": "markdown",
   "id": "343a5a22",
   "metadata": {
    "editable": false,
    "papermill": {
     "duration": 0.208016,
     "end_time": "2022-03-27T16:45:55.090984",
     "exception": false,
     "start_time": "2022-03-27T16:45:54.882968",
     "status": "completed"
    },
    "tags": []
   },
   "source": [
    "## 第三路：分层上周热门（+趋势）"
   ]
  },
  {
   "cell_type": "code",
   "execution_count": 54,
   "id": "24846d55",
   "metadata": {
    "editable": false,
    "execution": {
     "iopub.execute_input": "2022-03-27T16:45:55.467350Z",
     "iopub.status.busy": "2022-03-27T16:45:55.466533Z",
     "iopub.status.idle": "2022-03-27T16:46:05.161155Z",
     "shell.execute_reply": "2022-03-27T16:46:05.160484Z",
     "shell.execute_reply.started": "2022-03-27T15:59:40.732498Z"
    },
    "papermill": {
     "duration": 9.875435,
     "end_time": "2022-03-27T16:46:05.161374",
     "exception": false,
     "start_time": "2022-03-27T16:45:55.285939",
     "status": "completed"
    },
    "tags": []
   },
   "outputs": [
    {
     "name": "stdout",
     "output_type": "stream",
     "text": [
      "Requirement already satisfied: cudf in /opt/conda/lib/python3.7/site-packages (21.10.1)\r\n",
      "Requirement already satisfied: numba>=0.53.1 in /opt/conda/lib/python3.7/site-packages (from cudf) (0.54.1)\r\n",
      "Requirement already satisfied: Cython<0.30,>=0.29 in /opt/conda/lib/python3.7/site-packages (from cudf) (0.29.28)\r\n",
      "Requirement already satisfied: fastavro>=0.22.9 in /opt/conda/lib/python3.7/site-packages (from cudf) (1.4.9)\r\n",
      "Requirement already satisfied: fsspec>=0.6.0 in /opt/conda/lib/python3.7/site-packages (from cudf) (2022.2.0)\r\n",
      "Requirement already satisfied: numpy in /opt/conda/lib/python3.7/site-packages (from cudf) (1.20.3)\r\n",
      "Requirement already satisfied: pandas<1.4.0dev0,>=1.0 in /opt/conda/lib/python3.7/site-packages (from cudf) (1.3.5)\r\n",
      "Requirement already satisfied: typing_extensions in /opt/conda/lib/python3.7/site-packages (from cudf) (4.1.1)\r\n",
      "Requirement already satisfied: protobuf in /opt/conda/lib/python3.7/site-packages (from cudf) (3.19.1)\r\n",
      "Requirement already satisfied: nvtx>=0.2.1 in /opt/conda/lib/python3.7/site-packages (from cudf) (0.2.3)\r\n",
      "Requirement already satisfied: cachetools in /opt/conda/lib/python3.7/site-packages (from cudf) (4.2.4)\r\n",
      "Requirement already satisfied: packaging in /opt/conda/lib/python3.7/site-packages (from cudf) (21.3)\r\n",
      "Requirement already satisfied: cupy-cuda110 in /opt/conda/lib/python3.7/site-packages (from cudf) (10.2.0)\r\n",
      "Requirement already satisfied: llvmlite<0.38,>=0.37.0rc1 in /opt/conda/lib/python3.7/site-packages (from numba>=0.53.1->cudf) (0.37.0)\r\n",
      "Requirement already satisfied: setuptools in /opt/conda/lib/python3.7/site-packages (from numba>=0.53.1->cudf) (59.5.0)\r\n",
      "Requirement already satisfied: python-dateutil>=2.7.3 in /opt/conda/lib/python3.7/site-packages (from pandas<1.4.0dev0,>=1.0->cudf) (2.8.2)\r\n",
      "Requirement already satisfied: pytz>=2017.3 in /opt/conda/lib/python3.7/site-packages (from pandas<1.4.0dev0,>=1.0->cudf) (2021.3)\r\n",
      "Requirement already satisfied: fastrlock>=0.5 in /opt/conda/lib/python3.7/site-packages (from cupy-cuda110->cudf) (0.8)\r\n",
      "Requirement already satisfied: pyparsing!=3.0.5,>=2.0.2 in /opt/conda/lib/python3.7/site-packages (from packaging->cudf) (3.0.6)\r\n",
      "Requirement already satisfied: six>=1.5 in /opt/conda/lib/python3.7/site-packages (from python-dateutil>=2.7.3->pandas<1.4.0dev0,>=1.0->cudf) (1.16.0)\r\n",
      "\u001b[33mWARNING: Running pip as the 'root' user can result in broken permissions and conflicting behaviour with the system package manager. It is recommended to use a virtual environment instead: https://pip.pypa.io/warnings/venv\u001b[0m\r\n"
     ]
    }
   ],
   "source": [
    "!pip install cudf\n",
    "import numpy as np\n",
    "import pandas as pd \n",
    "from datetime import datetime, timedelta\n",
    "import gc\n",
    "import cudf\n",
    "import cv2, matplotlib.pyplot as plt\n",
    "from os.path import exists"
   ]
  },
  {
   "cell_type": "code",
   "execution_count": 55,
   "id": "0286d1a4",
   "metadata": {
    "editable": false,
    "execution": {
     "iopub.execute_input": "2022-03-27T16:46:05.525732Z",
     "iopub.status.busy": "2022-03-27T16:46:05.524713Z",
     "iopub.status.idle": "2022-03-27T16:46:05.527907Z",
     "shell.execute_reply": "2022-03-27T16:46:05.527348Z",
     "shell.execute_reply.started": "2022-03-27T15:59:47.962419Z"
    },
    "papermill": {
     "duration": 0.187121,
     "end_time": "2022-03-27T16:46:05.528042",
     "exception": false,
     "start_time": "2022-03-27T16:46:05.340921",
     "status": "completed"
    },
    "tags": []
   },
   "outputs": [],
   "source": [
    "# # LOAD TRANSACTIONS DATAFRAME\n",
    "# df = cudf.read_csv('../input/h-and-m-personalized-fashion-recommendations/transactions_train.csv')\n",
    "# print('Transactions shape',df.shape)\n",
    "# display( df.head() )\n",
    "\n",
    "# # REDUCE MEMORY OF DATAFRAME\n",
    "# df = df[['t_dat','customer_id','article_id']]\n",
    "# df.customer_id = df.customer_id.str[-16:].str.hex_to_int().astype('int64')\n",
    "# df.article_id = df.article_id.astype('int32')\n",
    "# df.t_dat = cudf.to_datetime(df.t_dat)\n",
    "# _ = gc.collect()"
   ]
  },
  {
   "cell_type": "code",
   "execution_count": 56,
   "id": "55e9d8ba",
   "metadata": {
    "editable": false,
    "execution": {
     "iopub.execute_input": "2022-03-27T16:46:05.909835Z",
     "iopub.status.busy": "2022-03-27T16:46:05.908793Z",
     "iopub.status.idle": "2022-03-27T16:46:05.915588Z",
     "shell.execute_reply": "2022-03-27T16:46:05.914944Z",
     "shell.execute_reply.started": "2022-03-27T15:59:47.969007Z"
    },
    "papermill": {
     "duration": 0.206904,
     "end_time": "2022-03-27T16:46:05.915786",
     "exception": false,
     "start_time": "2022-03-27T16:46:05.708882",
     "status": "completed"
    },
    "tags": []
   },
   "outputs": [],
   "source": [
    "df = train.copy()"
   ]
  },
  {
   "cell_type": "code",
   "execution_count": 57,
   "id": "ba2a04e1",
   "metadata": {
    "editable": false,
    "execution": {
     "iopub.execute_input": "2022-03-27T16:46:06.279866Z",
     "iopub.status.busy": "2022-03-27T16:46:06.279190Z",
     "iopub.status.idle": "2022-03-27T16:46:09.054840Z",
     "shell.execute_reply": "2022-03-27T16:46:09.053759Z",
     "shell.execute_reply.started": "2022-03-27T15:59:47.983623Z"
    },
    "papermill": {
     "duration": 2.961205,
     "end_time": "2022-03-27T16:46:09.055010",
     "exception": false,
     "start_time": "2022-03-27T16:46:06.093805",
     "status": "completed"
    },
    "tags": []
   },
   "outputs": [],
   "source": [
    "customer = cudf.read_csv('../input/h-and-m-personalized-fashion-recommendations/customers.csv')\n",
    "customer.customer_id = customer.customer_id.str[-16:].str.hex_to_int().astype('int64')"
   ]
  },
  {
   "cell_type": "code",
   "execution_count": 58,
   "id": "60951704",
   "metadata": {
    "editable": false,
    "execution": {
     "iopub.execute_input": "2022-03-27T16:46:09.459497Z",
     "iopub.status.busy": "2022-03-27T16:46:09.458513Z",
     "iopub.status.idle": "2022-03-27T16:46:09.698023Z",
     "shell.execute_reply": "2022-03-27T16:46:09.697380Z",
     "shell.execute_reply.started": "2022-03-27T15:59:50.612861Z"
    },
    "papermill": {
     "duration": 0.456339,
     "end_time": "2022-03-27T16:46:09.698220",
     "exception": false,
     "start_time": "2022-03-27T16:46:09.241881",
     "status": "completed"
    },
    "tags": []
   },
   "outputs": [],
   "source": [
    "sales = cudf.merge(df, customer, on = \"customer_id\", how = 'left')\n",
    "sales = sales[sales.t_dat >= Date_week2]"
   ]
  },
  {
   "cell_type": "code",
   "execution_count": 59,
   "id": "8f321357",
   "metadata": {
    "editable": false,
    "execution": {
     "iopub.execute_input": "2022-03-27T16:46:10.062443Z",
     "iopub.status.busy": "2022-03-27T16:46:10.061282Z",
     "iopub.status.idle": "2022-03-27T16:46:10.080799Z",
     "shell.execute_reply": "2022-03-27T16:46:10.081382Z",
     "shell.execute_reply.started": "2022-03-27T15:59:50.900386Z"
    },
    "papermill": {
     "duration": 0.203177,
     "end_time": "2022-03-27T16:46:10.081610",
     "exception": false,
     "start_time": "2022-03-27T16:46:09.878433",
     "status": "completed"
    },
    "tags": []
   },
   "outputs": [],
   "source": [
    "sales = sales.fillna(0)"
   ]
  },
  {
   "cell_type": "code",
   "execution_count": 60,
   "id": "1326ec8f",
   "metadata": {
    "editable": false,
    "execution": {
     "iopub.execute_input": "2022-03-27T16:46:10.452128Z",
     "iopub.status.busy": "2022-03-27T16:46:10.450760Z",
     "iopub.status.idle": "2022-03-27T16:46:10.853150Z",
     "shell.execute_reply": "2022-03-27T16:46:10.852590Z",
     "shell.execute_reply.started": "2022-03-27T15:59:50.988862Z"
    },
    "papermill": {
     "duration": 0.592918,
     "end_time": "2022-03-27T16:46:10.853318",
     "exception": false,
     "start_time": "2022-03-27T16:46:10.260400",
     "status": "completed"
    },
    "tags": []
   },
   "outputs": [
    {
     "data": {
      "text/plain": [
       "<AxesSubplot:>"
      ]
     },
     "execution_count": 60,
     "metadata": {},
     "output_type": "execute_result"
    },
    {
     "data": {
      "image/png": "[encoded data removed]",
      "text/plain": [
       "<Figure size 432x288 with 1 Axes>"
      ]
     },
     "metadata": {
      "needs_background": "light"
     },
     "output_type": "display_data"
    }
   ],
   "source": [
    "sales.to_pandas()[\"age\"].hist()"
   ]
  },
  {
   "cell_type": "code",
   "execution_count": 61,
   "id": "2f7c46ca",
   "metadata": {
    "editable": false,
    "execution": {
     "iopub.execute_input": "2022-03-27T16:46:11.233827Z",
     "iopub.status.busy": "2022-03-27T16:46:11.232773Z",
     "iopub.status.idle": "2022-03-27T16:46:11.331517Z",
     "shell.execute_reply": "2022-03-27T16:46:11.332077Z",
     "shell.execute_reply.started": "2022-03-27T15:59:51.40005Z"
    },
    "papermill": {
     "duration": 0.301185,
     "end_time": "2022-03-27T16:46:11.332291",
     "exception": false,
     "start_time": "2022-03-27T16:46:11.031106",
     "status": "completed"
    },
    "tags": []
   },
   "outputs": [
    {
     "data": {
      "text/html": [
       "<div>\n",
       "<style scoped>\n",
       "    .dataframe tbody tr th:only-of-type {\n",
       "        vertical-align: middle;\n",
       "    }\n",
       "\n",
       "    .dataframe tbody tr th {\n",
       "        vertical-align: top;\n",
       "    }\n",
       "\n",
       "    .dataframe thead th {\n",
       "        text-align: right;\n",
       "    }\n",
       "</style>\n",
       "<table border=\"1\" class=\"dataframe\">\n",
       "  <thead>\n",
       "    <tr style=\"text-align: right;\">\n",
       "      <th></th>\n",
       "      <th>t_dat</th>\n",
       "      <th>customer_id</th>\n",
       "      <th>article_id</th>\n",
       "      <th>price</th>\n",
       "      <th>sales_channel_id</th>\n",
       "      <th>FN</th>\n",
       "      <th>Active</th>\n",
       "      <th>club_member_status</th>\n",
       "      <th>fashion_news_frequency</th>\n",
       "      <th>age</th>\n",
       "      <th>postal_code</th>\n",
       "    </tr>\n",
       "  </thead>\n",
       "  <tbody>\n",
       "    <tr>\n",
       "      <th>31266144</th>\n",
       "      <td>2020-09-09</td>\n",
       "      <td>7127530381098855476</td>\n",
       "      <td>859617002</td>\n",
       "      <td>0.041322</td>\n",
       "      <td>2</td>\n",
       "      <td>1.0</td>\n",
       "      <td>1.0</td>\n",
       "      <td>ACTIVE</td>\n",
       "      <td>Regularly</td>\n",
       "      <td>28.0</td>\n",
       "      <td>f53afc73f043d01132609bf12410db354acf4c7435c58f...</td>\n",
       "    </tr>\n",
       "    <tr>\n",
       "      <th>31266145</th>\n",
       "      <td>2020-09-09</td>\n",
       "      <td>6674289707041561741</td>\n",
       "      <td>914805002</td>\n",
       "      <td>0.050831</td>\n",
       "      <td>2</td>\n",
       "      <td>1.0</td>\n",
       "      <td>1.0</td>\n",
       "      <td>ACTIVE</td>\n",
       "      <td>Regularly</td>\n",
       "      <td>21.0</td>\n",
       "      <td>7ee0cd11b888fbb6abf81cc5fa1653a8ee8077716947db...</td>\n",
       "    </tr>\n",
       "    <tr>\n",
       "      <th>31266146</th>\n",
       "      <td>2020-09-09</td>\n",
       "      <td>7127530381098855476</td>\n",
       "      <td>832458001</td>\n",
       "      <td>0.016525</td>\n",
       "      <td>2</td>\n",
       "      <td>1.0</td>\n",
       "      <td>1.0</td>\n",
       "      <td>ACTIVE</td>\n",
       "      <td>Regularly</td>\n",
       "      <td>28.0</td>\n",
       "      <td>f53afc73f043d01132609bf12410db354acf4c7435c58f...</td>\n",
       "    </tr>\n",
       "    <tr>\n",
       "      <th>31266147</th>\n",
       "      <td>2020-09-09</td>\n",
       "      <td>-5017410926558190377</td>\n",
       "      <td>877599002</td>\n",
       "      <td>0.018627</td>\n",
       "      <td>1</td>\n",
       "      <td>0.0</td>\n",
       "      <td>0.0</td>\n",
       "      <td>ACTIVE</td>\n",
       "      <td>NONE</td>\n",
       "      <td>25.0</td>\n",
       "      <td>90b7de040938d177041c86b475f508cb08f5bfbfef730a...</td>\n",
       "    </tr>\n",
       "    <tr>\n",
       "      <th>31266148</th>\n",
       "      <td>2020-09-09</td>\n",
       "      <td>7127530381098855476</td>\n",
       "      <td>914404001</td>\n",
       "      <td>0.041322</td>\n",
       "      <td>2</td>\n",
       "      <td>1.0</td>\n",
       "      <td>1.0</td>\n",
       "      <td>ACTIVE</td>\n",
       "      <td>Regularly</td>\n",
       "      <td>28.0</td>\n",
       "      <td>f53afc73f043d01132609bf12410db354acf4c7435c58f...</td>\n",
       "    </tr>\n",
       "    <tr>\n",
       "      <th>...</th>\n",
       "      <td>...</td>\n",
       "      <td>...</td>\n",
       "      <td>...</td>\n",
       "      <td>...</td>\n",
       "      <td>...</td>\n",
       "      <td>...</td>\n",
       "      <td>...</td>\n",
       "      <td>...</td>\n",
       "      <td>...</td>\n",
       "      <td>...</td>\n",
       "      <td>...</td>\n",
       "    </tr>\n",
       "    <tr>\n",
       "      <th>31548008</th>\n",
       "      <td>2020-09-15</td>\n",
       "      <td>-6548724319026074057</td>\n",
       "      <td>780314001</td>\n",
       "      <td>0.067780</td>\n",
       "      <td>2</td>\n",
       "      <td>0.0</td>\n",
       "      <td>0.0</td>\n",
       "      <td>ACTIVE</td>\n",
       "      <td>NONE</td>\n",
       "      <td>26.0</td>\n",
       "      <td>39d90bfe73e5f0bc0a58bca8fc789182955d059fb79009...</td>\n",
       "    </tr>\n",
       "    <tr>\n",
       "      <th>31548009</th>\n",
       "      <td>2020-09-15</td>\n",
       "      <td>-7010773389724270175</td>\n",
       "      <td>706016002</td>\n",
       "      <td>0.033881</td>\n",
       "      <td>1</td>\n",
       "      <td>1.0</td>\n",
       "      <td>1.0</td>\n",
       "      <td>ACTIVE</td>\n",
       "      <td>Regularly</td>\n",
       "      <td>21.0</td>\n",
       "      <td>2020d6a589f9878e20886e17483107cac447bdbb31b19c...</td>\n",
       "    </tr>\n",
       "    <tr>\n",
       "      <th>31548010</th>\n",
       "      <td>2020-09-15</td>\n",
       "      <td>-6548724319026074057</td>\n",
       "      <td>875272003</td>\n",
       "      <td>0.050831</td>\n",
       "      <td>2</td>\n",
       "      <td>0.0</td>\n",
       "      <td>0.0</td>\n",
       "      <td>ACTIVE</td>\n",
       "      <td>NONE</td>\n",
       "      <td>26.0</td>\n",
       "      <td>39d90bfe73e5f0bc0a58bca8fc789182955d059fb79009...</td>\n",
       "    </tr>\n",
       "    <tr>\n",
       "      <th>31548011</th>\n",
       "      <td>2020-09-15</td>\n",
       "      <td>5919649889604164626</td>\n",
       "      <td>898692003</td>\n",
       "      <td>0.067780</td>\n",
       "      <td>2</td>\n",
       "      <td>1.0</td>\n",
       "      <td>1.0</td>\n",
       "      <td>ACTIVE</td>\n",
       "      <td>Regularly</td>\n",
       "      <td>23.0</td>\n",
       "      <td>caefb055d2000ea61aaef5e6d472874d72b88c370514ef...</td>\n",
       "    </tr>\n",
       "    <tr>\n",
       "      <th>31548012</th>\n",
       "      <td>2020-09-15</td>\n",
       "      <td>-6548724319026074057</td>\n",
       "      <td>875272011</td>\n",
       "      <td>0.050831</td>\n",
       "      <td>2</td>\n",
       "      <td>0.0</td>\n",
       "      <td>0.0</td>\n",
       "      <td>ACTIVE</td>\n",
       "      <td>NONE</td>\n",
       "      <td>26.0</td>\n",
       "      <td>39d90bfe73e5f0bc0a58bca8fc789182955d059fb79009...</td>\n",
       "    </tr>\n",
       "  </tbody>\n",
       "</table>\n",
       "<p>255241 rows × 11 columns</p>\n",
       "</div>"
      ],
      "text/plain": [
       "              t_dat          customer_id  article_id     price  \\\n",
       "31266144 2020-09-09  7127530381098855476   859617002  0.041322   \n",
       "31266145 2020-09-09  6674289707041561741   914805002  0.050831   \n",
       "31266146 2020-09-09  7127530381098855476   832458001  0.016525   \n",
       "31266147 2020-09-09 -5017410926558190377   877599002  0.018627   \n",
       "31266148 2020-09-09  7127530381098855476   914404001  0.041322   \n",
       "...             ...                  ...         ...       ...   \n",
       "31548008 2020-09-15 -6548724319026074057   780314001  0.067780   \n",
       "31548009 2020-09-15 -7010773389724270175   706016002  0.033881   \n",
       "31548010 2020-09-15 -6548724319026074057   875272003  0.050831   \n",
       "31548011 2020-09-15  5919649889604164626   898692003  0.067780   \n",
       "31548012 2020-09-15 -6548724319026074057   875272011  0.050831   \n",
       "\n",
       "          sales_channel_id   FN  Active club_member_status  \\\n",
       "31266144                 2  1.0     1.0             ACTIVE   \n",
       "31266145                 2  1.0     1.0             ACTIVE   \n",
       "31266146                 2  1.0     1.0             ACTIVE   \n",
       "31266147                 1  0.0     0.0             ACTIVE   \n",
       "31266148                 2  1.0     1.0             ACTIVE   \n",
       "...                    ...  ...     ...                ...   \n",
       "31548008                 2  0.0     0.0             ACTIVE   \n",
       "31548009                 1  1.0     1.0             ACTIVE   \n",
       "31548010                 2  0.0     0.0             ACTIVE   \n",
       "31548011                 2  1.0     1.0             ACTIVE   \n",
       "31548012                 2  0.0     0.0             ACTIVE   \n",
       "\n",
       "         fashion_news_frequency   age  \\\n",
       "31266144              Regularly  28.0   \n",
       "31266145              Regularly  21.0   \n",
       "31266146              Regularly  28.0   \n",
       "31266147                   NONE  25.0   \n",
       "31266148              Regularly  28.0   \n",
       "...                         ...   ...   \n",
       "31548008                   NONE  26.0   \n",
       "31548009              Regularly  21.0   \n",
       "31548010                   NONE  26.0   \n",
       "31548011              Regularly  23.0   \n",
       "31548012                   NONE  26.0   \n",
       "\n",
       "                                                postal_code  \n",
       "31266144  f53afc73f043d01132609bf12410db354acf4c7435c58f...  \n",
       "31266145  7ee0cd11b888fbb6abf81cc5fa1653a8ee8077716947db...  \n",
       "31266146  f53afc73f043d01132609bf12410db354acf4c7435c58f...  \n",
       "31266147  90b7de040938d177041c86b475f508cb08f5bfbfef730a...  \n",
       "31266148  f53afc73f043d01132609bf12410db354acf4c7435c58f...  \n",
       "...                                                     ...  \n",
       "31548008  39d90bfe73e5f0bc0a58bca8fc789182955d059fb79009...  \n",
       "31548009  2020d6a589f9878e20886e17483107cac447bdbb31b19c...  \n",
       "31548010  39d90bfe73e5f0bc0a58bca8fc789182955d059fb79009...  \n",
       "31548011  caefb055d2000ea61aaef5e6d472874d72b88c370514ef...  \n",
       "31548012  39d90bfe73e5f0bc0a58bca8fc789182955d059fb79009...  \n",
       "\n",
       "[255241 rows x 11 columns]"
      ]
     },
     "execution_count": 61,
     "metadata": {},
     "output_type": "execute_result"
    }
   ],
   "source": [
    "sales"
   ]
  },
  {
   "cell_type": "code",
   "execution_count": 62,
   "id": "ae49d26f",
   "metadata": {
    "editable": false,
    "execution": {
     "iopub.execute_input": "2022-03-27T16:46:11.704734Z",
     "iopub.status.busy": "2022-03-27T16:46:11.703643Z",
     "iopub.status.idle": "2022-03-27T16:46:11.728606Z",
     "shell.execute_reply": "2022-03-27T16:46:11.727918Z",
     "shell.execute_reply.started": "2022-03-27T15:59:51.492784Z"
    },
    "papermill": {
     "duration": 0.216011,
     "end_time": "2022-03-27T16:46:11.728750",
     "exception": false,
     "start_time": "2022-03-27T16:46:11.512739",
     "status": "completed"
    },
    "tags": []
   },
   "outputs": [],
   "source": [
    "target_sales = sales[[\"article_id\", \"customer_id\"]].groupby('article_id')[\"customer_id\"].count()\n",
    "general_pred = target_sales.nlargest(N, keep = \"first\").index.to_pandas().tolist()\n",
    "general_pred = ['0' + str(article_id) for article_id in general_pred]\n",
    "general_pred_str =  ' '.join(general_pred)\n",
    "del target_sales"
   ]
  },
  {
   "cell_type": "code",
   "execution_count": 63,
   "id": "29ef8554",
   "metadata": {
    "editable": false,
    "execution": {
     "iopub.execute_input": "2022-03-27T16:46:12.103430Z",
     "iopub.status.busy": "2022-03-27T16:46:12.101308Z",
     "iopub.status.idle": "2022-03-27T16:46:12.106162Z",
     "shell.execute_reply": "2022-03-27T16:46:12.105625Z",
     "shell.execute_reply.started": "2022-03-27T15:59:51.51736Z"
    },
    "papermill": {
     "duration": 0.194679,
     "end_time": "2022-03-27T16:46:12.106307",
     "exception": false,
     "start_time": "2022-03-27T16:46:11.911628",
     "status": "completed"
    },
    "tags": []
   },
   "outputs": [
    {
     "data": {
      "text/plain": [
       "'0909370001 0865799006 0918522001 0924243001 0448509014 0751471001 0809238001 0918292001 0762846027 0809238005 0673677002 0923758001'"
      ]
     },
     "execution_count": 63,
     "metadata": {},
     "output_type": "execute_result"
    }
   ],
   "source": [
    "general_pred_str"
   ]
  },
  {
   "cell_type": "code",
   "execution_count": 64,
   "id": "c278b46b",
   "metadata": {
    "editable": false,
    "execution": {
     "iopub.execute_input": "2022-03-27T16:46:12.476052Z",
     "iopub.status.busy": "2022-03-27T16:46:12.474963Z",
     "iopub.status.idle": "2022-03-27T16:46:12.478220Z",
     "shell.execute_reply": "2022-03-27T16:46:12.477679Z",
     "shell.execute_reply.started": "2022-03-27T15:59:51.52429Z"
    },
    "papermill": {
     "duration": 0.190963,
     "end_time": "2022-03-27T16:46:12.478385",
     "exception": false,
     "start_time": "2022-03-27T16:46:12.287422",
     "status": "completed"
    },
    "tags": []
   },
   "outputs": [],
   "source": [
    "#sales.age = sales.age.astype(\"float32\")"
   ]
  },
  {
   "cell_type": "code",
   "execution_count": 65,
   "id": "7fba4f49",
   "metadata": {
    "editable": false,
    "execution": {
     "iopub.execute_input": "2022-03-27T16:46:12.855797Z",
     "iopub.status.busy": "2022-03-27T16:46:12.854686Z",
     "iopub.status.idle": "2022-03-27T16:46:12.962688Z",
     "shell.execute_reply": "2022-03-27T16:46:12.962010Z",
     "shell.execute_reply.started": "2022-03-27T15:59:51.531023Z"
    },
    "papermill": {
     "duration": 0.30095,
     "end_time": "2022-03-27T16:46:12.962843",
     "exception": false,
     "start_time": "2022-03-27T16:46:12.661893",
     "status": "completed"
    },
    "tags": []
   },
   "outputs": [],
   "source": [
    "age_type = pd.cut(sales.to_pandas()[\"age\"], bins = np.array([0, 21, 24, 27, 30, 35, 40, 45, 50, 60, 100], dtype = \"int32\"), right = True)"
   ]
  },
  {
   "cell_type": "code",
   "execution_count": 66,
   "id": "9201e61a",
   "metadata": {
    "editable": false,
    "execution": {
     "iopub.execute_input": "2022-03-27T16:46:13.332694Z",
     "iopub.status.busy": "2022-03-27T16:46:13.331529Z",
     "iopub.status.idle": "2022-03-27T16:46:14.622672Z",
     "shell.execute_reply": "2022-03-27T16:46:14.622020Z",
     "shell.execute_reply.started": "2022-03-27T15:59:51.650037Z"
    },
    "papermill": {
     "duration": 1.475946,
     "end_time": "2022-03-27T16:46:14.622861",
     "exception": false,
     "start_time": "2022-03-27T16:46:13.146915",
     "status": "completed"
    },
    "tags": []
   },
   "outputs": [],
   "source": [
    "sales[\"age_type\"] = age_type.astype(\"string\")"
   ]
  },
  {
   "cell_type": "code",
   "execution_count": 67,
   "id": "92b185bc",
   "metadata": {
    "editable": false,
    "execution": {
     "iopub.execute_input": "2022-03-27T16:46:15.223241Z",
     "iopub.status.busy": "2022-03-27T16:46:15.222259Z",
     "iopub.status.idle": "2022-03-27T16:46:15.251330Z",
     "shell.execute_reply": "2022-03-27T16:46:15.250499Z",
     "shell.execute_reply.started": "2022-03-27T15:59:53.123735Z"
    },
    "papermill": {
     "duration": 0.365694,
     "end_time": "2022-03-27T16:46:15.251569",
     "exception": false,
     "start_time": "2022-03-27T16:46:14.885875",
     "status": "completed"
    },
    "tags": []
   },
   "outputs": [],
   "source": [
    "summary = sales.groupby([\"fashion_news_frequency\", \"age_type\", \"article_id\"])[\"postal_code\"].count().\\\n",
    "reset_index().rename({\"postal_code\":\"count\"}, axis = 1)"
   ]
  },
  {
   "cell_type": "code",
   "execution_count": 68,
   "id": "c1b472d4",
   "metadata": {
    "editable": false,
    "execution": {
     "iopub.execute_input": "2022-03-27T16:46:15.713645Z",
     "iopub.status.busy": "2022-03-27T16:46:15.712601Z",
     "iopub.status.idle": "2022-03-27T16:46:15.806705Z",
     "shell.execute_reply": "2022-03-27T16:46:15.807224Z",
     "shell.execute_reply.started": "2022-03-27T15:59:53.145202Z"
    },
    "papermill": {
     "duration": 0.284394,
     "end_time": "2022-03-27T16:46:15.807396",
     "exception": false,
     "start_time": "2022-03-27T16:46:15.523002",
     "status": "completed"
    },
    "tags": []
   },
   "outputs": [
    {
     "data": {
      "text/html": [
       "<div>\n",
       "<style scoped>\n",
       "    .dataframe tbody tr th:only-of-type {\n",
       "        vertical-align: middle;\n",
       "    }\n",
       "\n",
       "    .dataframe tbody tr th {\n",
       "        vertical-align: top;\n",
       "    }\n",
       "\n",
       "    .dataframe thead th {\n",
       "        text-align: right;\n",
       "    }\n",
       "</style>\n",
       "<table border=\"1\" class=\"dataframe\">\n",
       "  <thead>\n",
       "    <tr style=\"text-align: right;\">\n",
       "      <th></th>\n",
       "      <th>fashion_news_frequency</th>\n",
       "      <th>age_type</th>\n",
       "      <th>article_id</th>\n",
       "      <th>count</th>\n",
       "    </tr>\n",
       "  </thead>\n",
       "  <tbody>\n",
       "    <tr>\n",
       "      <th>2</th>\n",
       "      <td>NONE</td>\n",
       "      <td>(24.0, 27.0]</td>\n",
       "      <td>781135004</td>\n",
       "      <td>1</td>\n",
       "    </tr>\n",
       "    <tr>\n",
       "      <th>3</th>\n",
       "      <td>NONE</td>\n",
       "      <td>(24.0, 27.0]</td>\n",
       "      <td>675070013</td>\n",
       "      <td>1</td>\n",
       "    </tr>\n",
       "    <tr>\n",
       "      <th>4</th>\n",
       "      <td>Regularly</td>\n",
       "      <td>(40.0, 45.0]</td>\n",
       "      <td>919160001</td>\n",
       "      <td>1</td>\n",
       "    </tr>\n",
       "    <tr>\n",
       "      <th>6</th>\n",
       "      <td>Regularly</td>\n",
       "      <td>(0.0, 21.0]</td>\n",
       "      <td>862325004</td>\n",
       "      <td>1</td>\n",
       "    </tr>\n",
       "    <tr>\n",
       "      <th>8</th>\n",
       "      <td>NONE</td>\n",
       "      <td>(50.0, 60.0]</td>\n",
       "      <td>865076004</td>\n",
       "      <td>1</td>\n",
       "    </tr>\n",
       "    <tr>\n",
       "      <th>...</th>\n",
       "      <td>...</td>\n",
       "      <td>...</td>\n",
       "      <td>...</td>\n",
       "      <td>...</td>\n",
       "    </tr>\n",
       "    <tr>\n",
       "      <th>2635</th>\n",
       "      <td>Regularly</td>\n",
       "      <td>(21.0, 24.0]</td>\n",
       "      <td>909370001</td>\n",
       "      <td>112</td>\n",
       "    </tr>\n",
       "    <tr>\n",
       "      <th>67196</th>\n",
       "      <td>NONE</td>\n",
       "      <td>(21.0, 24.0]</td>\n",
       "      <td>909370001</td>\n",
       "      <td>114</td>\n",
       "    </tr>\n",
       "    <tr>\n",
       "      <th>76967</th>\n",
       "      <td>NONE</td>\n",
       "      <td>(27.0, 30.0]</td>\n",
       "      <td>909370001</td>\n",
       "      <td>114</td>\n",
       "    </tr>\n",
       "    <tr>\n",
       "      <th>86330</th>\n",
       "      <td>Regularly</td>\n",
       "      <td>(24.0, 27.0]</td>\n",
       "      <td>909370001</td>\n",
       "      <td>117</td>\n",
       "    </tr>\n",
       "    <tr>\n",
       "      <th>1906</th>\n",
       "      <td>NONE</td>\n",
       "      <td>(24.0, 27.0]</td>\n",
       "      <td>909370001</td>\n",
       "      <td>139</td>\n",
       "    </tr>\n",
       "  </tbody>\n",
       "</table>\n",
       "<p>94093 rows × 4 columns</p>\n",
       "</div>"
      ],
      "text/plain": [
       "      fashion_news_frequency      age_type  article_id  count\n",
       "2                       NONE  (24.0, 27.0]   781135004      1\n",
       "3                       NONE  (24.0, 27.0]   675070013      1\n",
       "4                  Regularly  (40.0, 45.0]   919160001      1\n",
       "6                  Regularly   (0.0, 21.0]   862325004      1\n",
       "8                       NONE  (50.0, 60.0]   865076004      1\n",
       "...                      ...           ...         ...    ...\n",
       "2635               Regularly  (21.0, 24.0]   909370001    112\n",
       "67196                   NONE  (21.0, 24.0]   909370001    114\n",
       "76967                   NONE  (27.0, 30.0]   909370001    114\n",
       "86330              Regularly  (24.0, 27.0]   909370001    117\n",
       "1906                    NONE  (24.0, 27.0]   909370001    139\n",
       "\n",
       "[94093 rows x 4 columns]"
      ]
     },
     "execution_count": 68,
     "metadata": {},
     "output_type": "execute_result"
    }
   ],
   "source": [
    "summary.sort_values(by = [\"count\"])"
   ]
  },
  {
   "cell_type": "code",
   "execution_count": 69,
   "id": "7f870ecd",
   "metadata": {
    "editable": false,
    "execution": {
     "iopub.execute_input": "2022-03-27T16:46:16.179113Z",
     "iopub.status.busy": "2022-03-27T16:46:16.178094Z",
     "iopub.status.idle": "2022-03-27T16:46:16.213451Z",
     "shell.execute_reply": "2022-03-27T16:46:16.212860Z",
     "shell.execute_reply.started": "2022-03-27T15:59:53.206185Z"
    },
    "papermill": {
     "duration": 0.222453,
     "end_time": "2022-03-27T16:46:16.213602",
     "exception": false,
     "start_time": "2022-03-27T16:46:15.991149",
     "status": "completed"
    },
    "tags": []
   },
   "outputs": [],
   "source": [
    "summary[\"total_count\"] = summary.to_pandas().groupby([\"fashion_news_frequency\", \"age_type\"])[\"count\"].transform(sum)"
   ]
  },
  {
   "cell_type": "code",
   "execution_count": 70,
   "id": "2275354f",
   "metadata": {
    "editable": false,
    "execution": {
     "iopub.execute_input": "2022-03-27T16:46:16.581257Z",
     "iopub.status.busy": "2022-03-27T16:46:16.580611Z",
     "iopub.status.idle": "2022-03-27T16:46:16.585392Z",
     "shell.execute_reply": "2022-03-27T16:46:16.584832Z",
     "shell.execute_reply.started": "2022-03-27T15:59:53.240627Z"
    },
    "papermill": {
     "duration": 0.190019,
     "end_time": "2022-03-27T16:46:16.585514",
     "exception": false,
     "start_time": "2022-03-27T16:46:16.395495",
     "status": "completed"
    },
    "tags": []
   },
   "outputs": [],
   "source": [
    "summary[\"score\"] = summary[\"count\"]/summary[\"total_count\"]"
   ]
  },
  {
   "cell_type": "code",
   "execution_count": 71,
   "id": "16cb6368",
   "metadata": {
    "editable": false,
    "execution": {
     "iopub.execute_input": "2022-03-27T16:46:16.954996Z",
     "iopub.status.busy": "2022-03-27T16:46:16.954031Z",
     "iopub.status.idle": "2022-03-27T16:46:16.957449Z",
     "shell.execute_reply": "2022-03-27T16:46:16.956759Z",
     "shell.execute_reply.started": "2022-03-27T15:59:53.247613Z"
    },
    "papermill": {
     "duration": 0.189334,
     "end_time": "2022-03-27T16:46:16.957579",
     "exception": false,
     "start_time": "2022-03-27T16:46:16.768245",
     "status": "completed"
    },
    "tags": []
   },
   "outputs": [],
   "source": [
    "summary = cudf.DataFrame(summary)"
   ]
  },
  {
   "cell_type": "code",
   "execution_count": 72,
   "id": "c4a54391",
   "metadata": {
    "editable": false,
    "execution": {
     "iopub.execute_input": "2022-03-27T16:46:17.321527Z",
     "iopub.status.busy": "2022-03-27T16:46:17.320400Z",
     "iopub.status.idle": "2022-03-27T16:46:17.411608Z",
     "shell.execute_reply": "2022-03-27T16:46:17.412142Z",
     "shell.execute_reply.started": "2022-03-27T15:59:53.255701Z"
    },
    "papermill": {
     "duration": 0.277581,
     "end_time": "2022-03-27T16:46:17.412357",
     "exception": false,
     "start_time": "2022-03-27T16:46:17.134776",
     "status": "completed"
    },
    "tags": []
   },
   "outputs": [
    {
     "data": {
      "text/html": [
       "<div>\n",
       "<style scoped>\n",
       "    .dataframe tbody tr th:only-of-type {\n",
       "        vertical-align: middle;\n",
       "    }\n",
       "\n",
       "    .dataframe tbody tr th {\n",
       "        vertical-align: top;\n",
       "    }\n",
       "\n",
       "    .dataframe thead th {\n",
       "        text-align: right;\n",
       "    }\n",
       "</style>\n",
       "<table border=\"1\" class=\"dataframe\">\n",
       "  <thead>\n",
       "    <tr style=\"text-align: right;\">\n",
       "      <th></th>\n",
       "      <th>fashion_news_frequency</th>\n",
       "      <th>age_type</th>\n",
       "      <th>article_id</th>\n",
       "      <th>count</th>\n",
       "      <th>total_count</th>\n",
       "      <th>score</th>\n",
       "    </tr>\n",
       "  </thead>\n",
       "  <tbody>\n",
       "    <tr>\n",
       "      <th>70560</th>\n",
       "      <td>NONE</td>\n",
       "      <td>(30.0, 35.0]</td>\n",
       "      <td>108775044</td>\n",
       "      <td>1</td>\n",
       "      <td>16446</td>\n",
       "      <td>0.000061</td>\n",
       "    </tr>\n",
       "    <tr>\n",
       "      <th>92656</th>\n",
       "      <td>NONE</td>\n",
       "      <td>(50.0, 60.0]</td>\n",
       "      <td>108775044</td>\n",
       "      <td>2</td>\n",
       "      <td>17777</td>\n",
       "      <td>0.000113</td>\n",
       "    </tr>\n",
       "    <tr>\n",
       "      <th>18045</th>\n",
       "      <td>NONE</td>\n",
       "      <td>(45.0, 50.0]</td>\n",
       "      <td>111565001</td>\n",
       "      <td>1</td>\n",
       "      <td>12402</td>\n",
       "      <td>0.000081</td>\n",
       "    </tr>\n",
       "    <tr>\n",
       "      <th>28623</th>\n",
       "      <td>Regularly</td>\n",
       "      <td>(24.0, 27.0]</td>\n",
       "      <td>111565001</td>\n",
       "      <td>1</td>\n",
       "      <td>14442</td>\n",
       "      <td>0.000069</td>\n",
       "    </tr>\n",
       "    <tr>\n",
       "      <th>66580</th>\n",
       "      <td>NONE</td>\n",
       "      <td>(40.0, 45.0]</td>\n",
       "      <td>111565001</td>\n",
       "      <td>1</td>\n",
       "      <td>8065</td>\n",
       "      <td>0.000124</td>\n",
       "    </tr>\n",
       "    <tr>\n",
       "      <th>...</th>\n",
       "      <td>...</td>\n",
       "      <td>...</td>\n",
       "      <td>...</td>\n",
       "      <td>...</td>\n",
       "      <td>...</td>\n",
       "      <td>...</td>\n",
       "    </tr>\n",
       "    <tr>\n",
       "      <th>82246</th>\n",
       "      <td>Regularly</td>\n",
       "      <td>(50.0, 60.0]</td>\n",
       "      <td>956217002</td>\n",
       "      <td>1</td>\n",
       "      <td>17613</td>\n",
       "      <td>0.000057</td>\n",
       "    </tr>\n",
       "    <tr>\n",
       "      <th>84577</th>\n",
       "      <td>Regularly</td>\n",
       "      <td>(60.0, 100.0]</td>\n",
       "      <td>956217002</td>\n",
       "      <td>1</td>\n",
       "      <td>6074</td>\n",
       "      <td>0.000165</td>\n",
       "    </tr>\n",
       "    <tr>\n",
       "      <th>88549</th>\n",
       "      <td>Regularly</td>\n",
       "      <td>(21.0, 24.0]</td>\n",
       "      <td>956217002</td>\n",
       "      <td>2</td>\n",
       "      <td>15838</td>\n",
       "      <td>0.000126</td>\n",
       "    </tr>\n",
       "    <tr>\n",
       "      <th>554</th>\n",
       "      <td>NONE</td>\n",
       "      <td>(50.0, 60.0]</td>\n",
       "      <td>956217002</td>\n",
       "      <td>3</td>\n",
       "      <td>17777</td>\n",
       "      <td>0.000169</td>\n",
       "    </tr>\n",
       "    <tr>\n",
       "      <th>46392</th>\n",
       "      <td>NONE</td>\n",
       "      <td>(45.0, 50.0]</td>\n",
       "      <td>956217002</td>\n",
       "      <td>3</td>\n",
       "      <td>12402</td>\n",
       "      <td>0.000242</td>\n",
       "    </tr>\n",
       "  </tbody>\n",
       "</table>\n",
       "<p>94093 rows × 6 columns</p>\n",
       "</div>"
      ],
      "text/plain": [
       "      fashion_news_frequency       age_type  article_id  count  total_count  \\\n",
       "70560                   NONE   (30.0, 35.0]   108775044      1        16446   \n",
       "92656                   NONE   (50.0, 60.0]   108775044      2        17777   \n",
       "18045                   NONE   (45.0, 50.0]   111565001      1        12402   \n",
       "28623              Regularly   (24.0, 27.0]   111565001      1        14442   \n",
       "66580                   NONE   (40.0, 45.0]   111565001      1         8065   \n",
       "...                      ...            ...         ...    ...          ...   \n",
       "82246              Regularly   (50.0, 60.0]   956217002      1        17613   \n",
       "84577              Regularly  (60.0, 100.0]   956217002      1         6074   \n",
       "88549              Regularly   (21.0, 24.0]   956217002      2        15838   \n",
       "554                     NONE   (50.0, 60.0]   956217002      3        17777   \n",
       "46392                   NONE   (45.0, 50.0]   956217002      3        12402   \n",
       "\n",
       "          score  \n",
       "70560  0.000061  \n",
       "92656  0.000113  \n",
       "18045  0.000081  \n",
       "28623  0.000069  \n",
       "66580  0.000124  \n",
       "...         ...  \n",
       "82246  0.000057  \n",
       "84577  0.000165  \n",
       "88549  0.000126  \n",
       "554    0.000169  \n",
       "46392  0.000242  \n",
       "\n",
       "[94093 rows x 6 columns]"
      ]
     },
     "execution_count": 72,
     "metadata": {},
     "output_type": "execute_result"
    }
   ],
   "source": [
    "summary.sort_values(by = [\"article_id\", \"count\"])"
   ]
  },
  {
   "cell_type": "code",
   "execution_count": 73,
   "id": "c8fba7bf",
   "metadata": {
    "editable": false,
    "execution": {
     "iopub.execute_input": "2022-03-27T16:46:17.806020Z",
     "iopub.status.busy": "2022-03-27T16:46:17.804979Z",
     "iopub.status.idle": "2022-03-27T16:46:17.853660Z",
     "shell.execute_reply": "2022-03-27T16:46:17.853049Z",
     "shell.execute_reply.started": "2022-03-27T15:59:53.326361Z"
    },
    "papermill": {
     "duration": 0.255782,
     "end_time": "2022-03-27T16:46:17.853840",
     "exception": false,
     "start_time": "2022-03-27T16:46:17.598058",
     "status": "completed"
    },
    "tags": []
   },
   "outputs": [],
   "source": [
    "summary['rank'] = summary.to_pandas().groupby([\"fashion_news_frequency\", \"age_type\"])[\"score\"].rank(\"dense\", ascending=False)\n",
    "summary = summary.loc[summary['rank'] <= 12]"
   ]
  },
  {
   "cell_type": "code",
   "execution_count": 74,
   "id": "a4686ffc",
   "metadata": {
    "editable": false,
    "execution": {
     "iopub.execute_input": "2022-03-27T16:46:18.225839Z",
     "iopub.status.busy": "2022-03-27T16:46:18.224920Z",
     "iopub.status.idle": "2022-03-27T16:46:21.046064Z",
     "shell.execute_reply": "2022-03-27T16:46:21.047570Z",
     "shell.execute_reply.started": "2022-03-27T15:59:53.372206Z"
    },
    "papermill": {
     "duration": 3.013721,
     "end_time": "2022-03-27T16:46:21.047828",
     "exception": false,
     "start_time": "2022-03-27T16:46:18.034107",
     "status": "completed"
    },
    "tags": []
   },
   "outputs": [
    {
     "name": "stdout",
     "output_type": "stream",
     "text": [
      "CPU times: user 106 ms, sys: 161 ms, total: 267 ms\n",
      "Wall time: 2.81 s\n"
     ]
    }
   ],
   "source": [
    "%%time\n",
    "sub  = cudf.read_csv('../input/h-and-m-personalized-fashion-recommendations/sample_submission.csv',\n",
    "                            usecols= ['customer_id'], \n",
    "                            dtype={'customer_id': 'string'})\n",
    "\n",
    "sub['customer_id2'] = sub['customer_id'].str[-16:].str.hex_to_int().astype('int64')\n",
    "sub = sub.rename(columns = {'customer_id2':'customer_id', 'customer_id':'customer_id2'})"
   ]
  },
  {
   "cell_type": "code",
   "execution_count": 75,
   "id": "a108d618",
   "metadata": {
    "editable": false,
    "execution": {
     "iopub.execute_input": "2022-03-27T16:46:21.453884Z",
     "iopub.status.busy": "2022-03-27T16:46:21.452766Z",
     "iopub.status.idle": "2022-03-27T16:46:21.511743Z",
     "shell.execute_reply": "2022-03-27T16:46:21.512344Z",
     "shell.execute_reply.started": "2022-03-27T15:59:56.00267Z"
    },
    "papermill": {
     "duration": 0.255016,
     "end_time": "2022-03-27T16:46:21.512529",
     "exception": false,
     "start_time": "2022-03-27T16:46:21.257513",
     "status": "completed"
    },
    "tags": []
   },
   "outputs": [
    {
     "data": {
      "text/html": [
       "<div>\n",
       "<style scoped>\n",
       "    .dataframe tbody tr th:only-of-type {\n",
       "        vertical-align: middle;\n",
       "    }\n",
       "\n",
       "    .dataframe tbody tr th {\n",
       "        vertical-align: top;\n",
       "    }\n",
       "\n",
       "    .dataframe thead th {\n",
       "        text-align: right;\n",
       "    }\n",
       "</style>\n",
       "<table border=\"1\" class=\"dataframe\">\n",
       "  <thead>\n",
       "    <tr style=\"text-align: right;\">\n",
       "      <th></th>\n",
       "      <th>customer_id2</th>\n",
       "      <th>customer_id</th>\n",
       "    </tr>\n",
       "  </thead>\n",
       "  <tbody>\n",
       "    <tr>\n",
       "      <th>0</th>\n",
       "      <td>00000dbacae5abe5e23885899a1fa44253a17956c6d1c3...</td>\n",
       "      <td>6883939031699146327</td>\n",
       "    </tr>\n",
       "    <tr>\n",
       "      <th>1</th>\n",
       "      <td>0000423b00ade91418cceaf3b26c6af3dd342b51fd051e...</td>\n",
       "      <td>-7200416642310594310</td>\n",
       "    </tr>\n",
       "    <tr>\n",
       "      <th>2</th>\n",
       "      <td>000058a12d5b43e67d225668fa1f8d618c13dc232df0ca...</td>\n",
       "      <td>-6846340800584936</td>\n",
       "    </tr>\n",
       "    <tr>\n",
       "      <th>3</th>\n",
       "      <td>00005ca1c9ed5f5146b52ac8639a40ca9d57aeff4d1bd2...</td>\n",
       "      <td>-94071612138601410</td>\n",
       "    </tr>\n",
       "    <tr>\n",
       "      <th>4</th>\n",
       "      <td>00006413d8573cd20ed7128e53b7b13819fe5cfc2d801f...</td>\n",
       "      <td>-283965518499174310</td>\n",
       "    </tr>\n",
       "    <tr>\n",
       "      <th>...</th>\n",
       "      <td>...</td>\n",
       "      <td>...</td>\n",
       "    </tr>\n",
       "    <tr>\n",
       "      <th>1371975</th>\n",
       "      <td>ffffbbf78b6eaac697a8a5dfbfd2bfa8113ee5b403e474...</td>\n",
       "      <td>7551062398649767985</td>\n",
       "    </tr>\n",
       "    <tr>\n",
       "      <th>1371976</th>\n",
       "      <td>ffffcd5046a6143d29a04fb8c424ce494a76e5cdf4fab5...</td>\n",
       "      <td>-9141402131989464905</td>\n",
       "    </tr>\n",
       "    <tr>\n",
       "      <th>1371977</th>\n",
       "      <td>ffffcf35913a0bee60e8741cb2b4e78b8a98ee5ff2e6a1...</td>\n",
       "      <td>-8286316756823862684</td>\n",
       "    </tr>\n",
       "    <tr>\n",
       "      <th>1371978</th>\n",
       "      <td>ffffd7744cebcf3aca44ae7049d2a94b87074c3d4ffe38...</td>\n",
       "      <td>2551401172826382186</td>\n",
       "    </tr>\n",
       "    <tr>\n",
       "      <th>1371979</th>\n",
       "      <td>ffffd9ac14e89946416d80e791d064701994755c3ab686...</td>\n",
       "      <td>-1516792180973952447</td>\n",
       "    </tr>\n",
       "  </tbody>\n",
       "</table>\n",
       "<p>1371980 rows × 2 columns</p>\n",
       "</div>"
      ],
      "text/plain": [
       "                                              customer_id2  \\\n",
       "0        00000dbacae5abe5e23885899a1fa44253a17956c6d1c3...   \n",
       "1        0000423b00ade91418cceaf3b26c6af3dd342b51fd051e...   \n",
       "2        000058a12d5b43e67d225668fa1f8d618c13dc232df0ca...   \n",
       "3        00005ca1c9ed5f5146b52ac8639a40ca9d57aeff4d1bd2...   \n",
       "4        00006413d8573cd20ed7128e53b7b13819fe5cfc2d801f...   \n",
       "...                                                    ...   \n",
       "1371975  ffffbbf78b6eaac697a8a5dfbfd2bfa8113ee5b403e474...   \n",
       "1371976  ffffcd5046a6143d29a04fb8c424ce494a76e5cdf4fab5...   \n",
       "1371977  ffffcf35913a0bee60e8741cb2b4e78b8a98ee5ff2e6a1...   \n",
       "1371978  ffffd7744cebcf3aca44ae7049d2a94b87074c3d4ffe38...   \n",
       "1371979  ffffd9ac14e89946416d80e791d064701994755c3ab686...   \n",
       "\n",
       "                 customer_id  \n",
       "0        6883939031699146327  \n",
       "1       -7200416642310594310  \n",
       "2          -6846340800584936  \n",
       "3         -94071612138601410  \n",
       "4        -283965518499174310  \n",
       "...                      ...  \n",
       "1371975  7551062398649767985  \n",
       "1371976 -9141402131989464905  \n",
       "1371977 -8286316756823862684  \n",
       "1371978  2551401172826382186  \n",
       "1371979 -1516792180973952447  \n",
       "\n",
       "[1371980 rows x 2 columns]"
      ]
     },
     "execution_count": 75,
     "metadata": {},
     "output_type": "execute_result"
    }
   ],
   "source": [
    "sub"
   ]
  },
  {
   "cell_type": "code",
   "execution_count": 76,
   "id": "eee8901c",
   "metadata": {
    "editable": false,
    "execution": {
     "iopub.execute_input": "2022-03-27T16:46:21.886960Z",
     "iopub.status.busy": "2022-03-27T16:46:21.885785Z",
     "iopub.status.idle": "2022-03-27T16:46:22.003708Z",
     "shell.execute_reply": "2022-03-27T16:46:22.004291Z",
     "shell.execute_reply.started": "2022-03-27T15:59:56.054665Z"
    },
    "papermill": {
     "duration": 0.307867,
     "end_time": "2022-03-27T16:46:22.004565",
     "exception": false,
     "start_time": "2022-03-27T16:46:21.696698",
     "status": "completed"
    },
    "tags": []
   },
   "outputs": [
    {
     "data": {
      "text/html": [
       "<div>\n",
       "<style scoped>\n",
       "    .dataframe tbody tr th:only-of-type {\n",
       "        vertical-align: middle;\n",
       "    }\n",
       "\n",
       "    .dataframe tbody tr th {\n",
       "        vertical-align: top;\n",
       "    }\n",
       "\n",
       "    .dataframe thead th {\n",
       "        text-align: right;\n",
       "    }\n",
       "</style>\n",
       "<table border=\"1\" class=\"dataframe\">\n",
       "  <thead>\n",
       "    <tr style=\"text-align: right;\">\n",
       "      <th></th>\n",
       "      <th>customer_id</th>\n",
       "      <th>FN</th>\n",
       "      <th>Active</th>\n",
       "      <th>club_member_status</th>\n",
       "      <th>fashion_news_frequency</th>\n",
       "      <th>age</th>\n",
       "      <th>postal_code</th>\n",
       "    </tr>\n",
       "  </thead>\n",
       "  <tbody>\n",
       "    <tr>\n",
       "      <th>0</th>\n",
       "      <td>6883939031699146327</td>\n",
       "      <td>&lt;NA&gt;</td>\n",
       "      <td>&lt;NA&gt;</td>\n",
       "      <td>ACTIVE</td>\n",
       "      <td>NONE</td>\n",
       "      <td>49.0</td>\n",
       "      <td>52043ee2162cf5aa7ee79974281641c6f11a68d276429a...</td>\n",
       "    </tr>\n",
       "    <tr>\n",
       "      <th>1</th>\n",
       "      <td>-7200416642310594310</td>\n",
       "      <td>&lt;NA&gt;</td>\n",
       "      <td>&lt;NA&gt;</td>\n",
       "      <td>ACTIVE</td>\n",
       "      <td>NONE</td>\n",
       "      <td>25.0</td>\n",
       "      <td>2973abc54daa8a5f8ccfe9362140c63247c5eee03f1d93...</td>\n",
       "    </tr>\n",
       "    <tr>\n",
       "      <th>2</th>\n",
       "      <td>-6846340800584936</td>\n",
       "      <td>&lt;NA&gt;</td>\n",
       "      <td>&lt;NA&gt;</td>\n",
       "      <td>ACTIVE</td>\n",
       "      <td>NONE</td>\n",
       "      <td>24.0</td>\n",
       "      <td>64f17e6a330a85798e4998f62d0930d14db8db1c054af6...</td>\n",
       "    </tr>\n",
       "    <tr>\n",
       "      <th>3</th>\n",
       "      <td>-94071612138601410</td>\n",
       "      <td>&lt;NA&gt;</td>\n",
       "      <td>&lt;NA&gt;</td>\n",
       "      <td>ACTIVE</td>\n",
       "      <td>NONE</td>\n",
       "      <td>54.0</td>\n",
       "      <td>5d36574f52495e81f019b680c843c443bd343d5ca5b1c2...</td>\n",
       "    </tr>\n",
       "    <tr>\n",
       "      <th>4</th>\n",
       "      <td>-283965518499174310</td>\n",
       "      <td>1.0</td>\n",
       "      <td>1.0</td>\n",
       "      <td>ACTIVE</td>\n",
       "      <td>Regularly</td>\n",
       "      <td>52.0</td>\n",
       "      <td>25fa5ddee9aac01b35208d01736e57942317d756b32ddd...</td>\n",
       "    </tr>\n",
       "    <tr>\n",
       "      <th>...</th>\n",
       "      <td>...</td>\n",
       "      <td>...</td>\n",
       "      <td>...</td>\n",
       "      <td>...</td>\n",
       "      <td>...</td>\n",
       "      <td>...</td>\n",
       "      <td>...</td>\n",
       "    </tr>\n",
       "    <tr>\n",
       "      <th>1371975</th>\n",
       "      <td>7551062398649767985</td>\n",
       "      <td>&lt;NA&gt;</td>\n",
       "      <td>&lt;NA&gt;</td>\n",
       "      <td>ACTIVE</td>\n",
       "      <td>NONE</td>\n",
       "      <td>24.0</td>\n",
       "      <td>7aa399f7e669990daba2d92c577b52237380662f36480b...</td>\n",
       "    </tr>\n",
       "    <tr>\n",
       "      <th>1371976</th>\n",
       "      <td>-9141402131989464905</td>\n",
       "      <td>&lt;NA&gt;</td>\n",
       "      <td>&lt;NA&gt;</td>\n",
       "      <td>ACTIVE</td>\n",
       "      <td>NONE</td>\n",
       "      <td>21.0</td>\n",
       "      <td>3f47f1279beb72215f4de557d950e0bfa73789d24acb5e...</td>\n",
       "    </tr>\n",
       "    <tr>\n",
       "      <th>1371977</th>\n",
       "      <td>-8286316756823862684</td>\n",
       "      <td>1.0</td>\n",
       "      <td>1.0</td>\n",
       "      <td>ACTIVE</td>\n",
       "      <td>Regularly</td>\n",
       "      <td>21.0</td>\n",
       "      <td>4563fc79215672cd6a863f2b4bf56b8f898f2d96ed590e...</td>\n",
       "    </tr>\n",
       "    <tr>\n",
       "      <th>1371978</th>\n",
       "      <td>2551401172826382186</td>\n",
       "      <td>1.0</td>\n",
       "      <td>1.0</td>\n",
       "      <td>ACTIVE</td>\n",
       "      <td>Regularly</td>\n",
       "      <td>18.0</td>\n",
       "      <td>8892c18e9bc3dca6aa4000cb8094fc4b51ee8db2ed14d7...</td>\n",
       "    </tr>\n",
       "    <tr>\n",
       "      <th>1371979</th>\n",
       "      <td>-1516792180973952447</td>\n",
       "      <td>&lt;NA&gt;</td>\n",
       "      <td>&lt;NA&gt;</td>\n",
       "      <td>PRE-CREATE</td>\n",
       "      <td>NONE</td>\n",
       "      <td>65.0</td>\n",
       "      <td>0a1a03306fb2f62164c2a439b38c0caa64b40deaae8687...</td>\n",
       "    </tr>\n",
       "  </tbody>\n",
       "</table>\n",
       "<p>1371980 rows × 7 columns</p>\n",
       "</div>"
      ],
      "text/plain": [
       "                 customer_id    FN Active club_member_status  \\\n",
       "0        6883939031699146327  <NA>   <NA>             ACTIVE   \n",
       "1       -7200416642310594310  <NA>   <NA>             ACTIVE   \n",
       "2          -6846340800584936  <NA>   <NA>             ACTIVE   \n",
       "3         -94071612138601410  <NA>   <NA>             ACTIVE   \n",
       "4        -283965518499174310   1.0    1.0             ACTIVE   \n",
       "...                      ...   ...    ...                ...   \n",
       "1371975  7551062398649767985  <NA>   <NA>             ACTIVE   \n",
       "1371976 -9141402131989464905  <NA>   <NA>             ACTIVE   \n",
       "1371977 -8286316756823862684   1.0    1.0             ACTIVE   \n",
       "1371978  2551401172826382186   1.0    1.0             ACTIVE   \n",
       "1371979 -1516792180973952447  <NA>   <NA>         PRE-CREATE   \n",
       "\n",
       "        fashion_news_frequency   age  \\\n",
       "0                         NONE  49.0   \n",
       "1                         NONE  25.0   \n",
       "2                         NONE  24.0   \n",
       "3                         NONE  54.0   \n",
       "4                    Regularly  52.0   \n",
       "...                        ...   ...   \n",
       "1371975                   NONE  24.0   \n",
       "1371976                   NONE  21.0   \n",
       "1371977              Regularly  21.0   \n",
       "1371978              Regularly  18.0   \n",
       "1371979                   NONE  65.0   \n",
       "\n",
       "                                               postal_code  \n",
       "0        52043ee2162cf5aa7ee79974281641c6f11a68d276429a...  \n",
       "1        2973abc54daa8a5f8ccfe9362140c63247c5eee03f1d93...  \n",
       "2        64f17e6a330a85798e4998f62d0930d14db8db1c054af6...  \n",
       "3        5d36574f52495e81f019b680c843c443bd343d5ca5b1c2...  \n",
       "4        25fa5ddee9aac01b35208d01736e57942317d756b32ddd...  \n",
       "...                                                    ...  \n",
       "1371975  7aa399f7e669990daba2d92c577b52237380662f36480b...  \n",
       "1371976  3f47f1279beb72215f4de557d950e0bfa73789d24acb5e...  \n",
       "1371977  4563fc79215672cd6a863f2b4bf56b8f898f2d96ed590e...  \n",
       "1371978  8892c18e9bc3dca6aa4000cb8094fc4b51ee8db2ed14d7...  \n",
       "1371979  0a1a03306fb2f62164c2a439b38c0caa64b40deaae8687...  \n",
       "\n",
       "[1371980 rows x 7 columns]"
      ]
     },
     "execution_count": 76,
     "metadata": {},
     "output_type": "execute_result"
    }
   ],
   "source": [
    "customer"
   ]
  },
  {
   "cell_type": "code",
   "execution_count": 77,
   "id": "22a29f6a",
   "metadata": {
    "editable": false,
    "execution": {
     "iopub.execute_input": "2022-03-27T16:46:22.376751Z",
     "iopub.status.busy": "2022-03-27T16:46:22.375461Z",
     "iopub.status.idle": "2022-03-27T16:46:30.446141Z",
     "shell.execute_reply": "2022-03-27T16:46:30.445099Z",
     "shell.execute_reply.started": "2022-03-27T15:59:56.145586Z"
    },
    "papermill": {
     "duration": 8.258601,
     "end_time": "2022-03-27T16:46:30.446368",
     "exception": false,
     "start_time": "2022-03-27T16:46:22.187767",
     "status": "completed"
    },
    "tags": []
   },
   "outputs": [],
   "source": [
    "sub_customer = sub.merge(customer.fillna(0), on = \"customer_id\")\n",
    "sub_customer[\"age_type\"] = pd.cut(sub_customer.to_pandas()[\"age\"], bins = np.array([0, 21, 24, 27, 30, 35, 40, 45, 50, 60, 100], dtype = \"int32\"), right = True).astype(\"string\")"
   ]
  },
  {
   "cell_type": "code",
   "execution_count": 78,
   "id": "cffcd2c2",
   "metadata": {
    "editable": false,
    "execution": {
     "iopub.execute_input": "2022-03-27T16:46:30.824025Z",
     "iopub.status.busy": "2022-03-27T16:46:30.822832Z",
     "iopub.status.idle": "2022-03-27T16:46:44.843717Z",
     "shell.execute_reply": "2022-03-27T16:46:44.843113Z",
     "shell.execute_reply.started": "2022-03-27T16:00:03.155297Z"
    },
    "papermill": {
     "duration": 14.212096,
     "end_time": "2022-03-27T16:46:44.843875",
     "exception": false,
     "start_time": "2022-03-27T16:46:30.631779",
     "status": "completed"
    },
    "tags": []
   },
   "outputs": [],
   "source": [
    "result3 = sub_customer.to_pandas().merge(summary.to_pandas(), on = [\"fashion_news_frequency\", \"age_type\"], how = \"left\")"
   ]
  },
  {
   "cell_type": "code",
   "execution_count": 79,
   "id": "b7745a0d",
   "metadata": {
    "editable": false,
    "execution": {
     "iopub.execute_input": "2022-03-27T16:46:45.216833Z",
     "iopub.status.busy": "2022-03-27T16:46:45.215270Z",
     "iopub.status.idle": "2022-03-27T16:46:57.316418Z",
     "shell.execute_reply": "2022-03-27T16:46:57.315313Z",
     "shell.execute_reply.started": "2022-03-27T16:00:14.700075Z"
    },
    "papermill": {
     "duration": 12.291681,
     "end_time": "2022-03-27T16:46:57.316569",
     "exception": false,
     "start_time": "2022-03-27T16:46:45.024888",
     "status": "completed"
    },
    "tags": []
   },
   "outputs": [],
   "source": [
    "result3[\"source\"] = 3\n",
    "result3 = result3.loc[:,[\"customer_id\", \"article_id\", \"source\", \"score\", \"rank\"]]"
   ]
  },
  {
   "cell_type": "code",
   "execution_count": 80,
   "id": "d1676dc2",
   "metadata": {
    "editable": false,
    "execution": {
     "iopub.execute_input": "2022-03-27T16:46:57.759215Z",
     "iopub.status.busy": "2022-03-27T16:46:57.758291Z",
     "iopub.status.idle": "2022-03-27T16:46:57.762659Z",
     "shell.execute_reply": "2022-03-27T16:46:57.763212Z",
     "shell.execute_reply.started": "2022-03-27T16:00:25.292807Z"
    },
    "papermill": {
     "duration": 0.21015,
     "end_time": "2022-03-27T16:46:57.763372",
     "exception": false,
     "start_time": "2022-03-27T16:46:57.553222",
     "status": "completed"
    },
    "tags": []
   },
   "outputs": [
    {
     "data": {
      "text/html": [
       "<div>\n",
       "<style scoped>\n",
       "    .dataframe tbody tr th:only-of-type {\n",
       "        vertical-align: middle;\n",
       "    }\n",
       "\n",
       "    .dataframe tbody tr th {\n",
       "        vertical-align: top;\n",
       "    }\n",
       "\n",
       "    .dataframe thead th {\n",
       "        text-align: right;\n",
       "    }\n",
       "</style>\n",
       "<table border=\"1\" class=\"dataframe\">\n",
       "  <thead>\n",
       "    <tr style=\"text-align: right;\">\n",
       "      <th></th>\n",
       "      <th>customer_id</th>\n",
       "      <th>article_id</th>\n",
       "      <th>source</th>\n",
       "      <th>score</th>\n",
       "      <th>rank</th>\n",
       "    </tr>\n",
       "  </thead>\n",
       "  <tbody>\n",
       "    <tr>\n",
       "      <th>0</th>\n",
       "      <td>-7425346363469395018</td>\n",
       "      <td>910601002.0</td>\n",
       "      <td>3</td>\n",
       "      <td>0.004003</td>\n",
       "      <td>5.0</td>\n",
       "    </tr>\n",
       "    <tr>\n",
       "      <th>1</th>\n",
       "      <td>-7425346363469395018</td>\n",
       "      <td>873274002.0</td>\n",
       "      <td>3</td>\n",
       "      <td>0.002502</td>\n",
       "      <td>11.0</td>\n",
       "    </tr>\n",
       "    <tr>\n",
       "      <th>2</th>\n",
       "      <td>-7425346363469395018</td>\n",
       "      <td>915529005.0</td>\n",
       "      <td>3</td>\n",
       "      <td>0.002502</td>\n",
       "      <td>11.0</td>\n",
       "    </tr>\n",
       "    <tr>\n",
       "      <th>3</th>\n",
       "      <td>-7425346363469395018</td>\n",
       "      <td>896169002.0</td>\n",
       "      <td>3</td>\n",
       "      <td>0.003002</td>\n",
       "      <td>9.0</td>\n",
       "    </tr>\n",
       "    <tr>\n",
       "      <th>4</th>\n",
       "      <td>-7425346363469395018</td>\n",
       "      <td>736870001.0</td>\n",
       "      <td>3</td>\n",
       "      <td>0.003753</td>\n",
       "      <td>6.0</td>\n",
       "    </tr>\n",
       "    <tr>\n",
       "      <th>...</th>\n",
       "      <td>...</td>\n",
       "      <td>...</td>\n",
       "      <td>...</td>\n",
       "      <td>...</td>\n",
       "      <td>...</td>\n",
       "    </tr>\n",
       "    <tr>\n",
       "      <th>32880969</th>\n",
       "      <td>1341966912860556603</td>\n",
       "      <td>915529005.0</td>\n",
       "      <td>3</td>\n",
       "      <td>0.002008</td>\n",
       "      <td>12.0</td>\n",
       "    </tr>\n",
       "    <tr>\n",
       "      <th>32880970</th>\n",
       "      <td>1341966912860556603</td>\n",
       "      <td>909370001.0</td>\n",
       "      <td>3</td>\n",
       "      <td>0.008101</td>\n",
       "      <td>1.0</td>\n",
       "    </tr>\n",
       "    <tr>\n",
       "      <th>32880971</th>\n",
       "      <td>1341966912860556603</td>\n",
       "      <td>918292001.0</td>\n",
       "      <td>3</td>\n",
       "      <td>0.002631</td>\n",
       "      <td>6.0</td>\n",
       "    </tr>\n",
       "    <tr>\n",
       "      <th>32880972</th>\n",
       "      <td>1341966912860556603</td>\n",
       "      <td>898694001.0</td>\n",
       "      <td>3</td>\n",
       "      <td>0.002562</td>\n",
       "      <td>7.0</td>\n",
       "    </tr>\n",
       "    <tr>\n",
       "      <th>32880973</th>\n",
       "      <td>1341966912860556603</td>\n",
       "      <td>924243001.0</td>\n",
       "      <td>3</td>\n",
       "      <td>0.004362</td>\n",
       "      <td>3.0</td>\n",
       "    </tr>\n",
       "  </tbody>\n",
       "</table>\n",
       "<p>32880974 rows × 5 columns</p>\n",
       "</div>"
      ],
      "text/plain": [
       "                  customer_id   article_id  source     score  rank\n",
       "0        -7425346363469395018  910601002.0       3  0.004003   5.0\n",
       "1        -7425346363469395018  873274002.0       3  0.002502  11.0\n",
       "2        -7425346363469395018  915529005.0       3  0.002502  11.0\n",
       "3        -7425346363469395018  896169002.0       3  0.003002   9.0\n",
       "4        -7425346363469395018  736870001.0       3  0.003753   6.0\n",
       "...                       ...          ...     ...       ...   ...\n",
       "32880969  1341966912860556603  915529005.0       3  0.002008  12.0\n",
       "32880970  1341966912860556603  909370001.0       3  0.008101   1.0\n",
       "32880971  1341966912860556603  918292001.0       3  0.002631   6.0\n",
       "32880972  1341966912860556603  898694001.0       3  0.002562   7.0\n",
       "32880973  1341966912860556603  924243001.0       3  0.004362   3.0\n",
       "\n",
       "[32880974 rows x 5 columns]"
      ]
     },
     "execution_count": 80,
     "metadata": {},
     "output_type": "execute_result"
    }
   ],
   "source": [
    "result3"
   ]
  },
  {
   "cell_type": "code",
   "execution_count": 81,
   "id": "637ac746",
   "metadata": {
    "editable": false,
    "execution": {
     "iopub.execute_input": "2022-03-27T16:46:58.141476Z",
     "iopub.status.busy": "2022-03-27T16:46:58.140354Z",
     "iopub.status.idle": "2022-03-27T16:46:58.142733Z",
     "shell.execute_reply": "2022-03-27T16:46:58.143291Z",
     "shell.execute_reply.started": "2022-03-27T16:00:25.311847Z"
    },
    "papermill": {
     "duration": 0.191283,
     "end_time": "2022-03-27T16:46:58.143497",
     "exception": false,
     "start_time": "2022-03-27T16:46:57.952214",
     "status": "completed"
    },
    "tags": []
   },
   "outputs": [],
   "source": [
    "#result3.to_csv(\"/kaggle/working/result3.csv\", index = False)"
   ]
  },
  {
   "cell_type": "markdown",
   "id": "4569b463",
   "metadata": {
    "editable": false,
    "papermill": {
     "duration": 0.185247,
     "end_time": "2022-03-27T16:46:58.510853",
     "exception": false,
     "start_time": "2022-03-27T16:46:58.325606",
     "status": "completed"
    },
    "tags": []
   },
   "source": [
    "## 混合排序"
   ]
  },
  {
   "cell_type": "code",
   "execution_count": 82,
   "id": "e28fec57",
   "metadata": {
    "editable": false,
    "execution": {
     "iopub.execute_input": "2022-03-27T16:46:59.022375Z",
     "iopub.status.busy": "2022-03-27T16:46:59.021235Z",
     "iopub.status.idle": "2022-03-27T16:46:59.024413Z",
     "shell.execute_reply": "2022-03-27T16:46:59.023437Z",
     "shell.execute_reply.started": "2022-03-27T16:00:25.327405Z"
    },
    "papermill": {
     "duration": 0.332538,
     "end_time": "2022-03-27T16:46:59.024726",
     "exception": false,
     "start_time": "2022-03-27T16:46:58.692188",
     "status": "completed"
    },
    "tags": []
   },
   "outputs": [],
   "source": [
    "#result2 = pd.read_csv(\"../input/relation/result2.csv\")\n",
    "#result1 = pd.read_csv(\"../input/relation/result1.csv\")\n",
    "#result3 = pd.read_csv(\"/kaggle/working/result3.csv\")"
   ]
  },
  {
   "cell_type": "code",
   "execution_count": 83,
   "id": "d118b060",
   "metadata": {
    "editable": false,
    "execution": {
     "iopub.execute_input": "2022-03-27T16:46:59.577274Z",
     "iopub.status.busy": "2022-03-27T16:46:59.575067Z",
     "iopub.status.idle": "2022-03-27T16:46:59.577989Z",
     "shell.execute_reply": "2022-03-27T16:46:59.578637Z",
     "shell.execute_reply.started": "2022-03-27T16:00:25.33283Z"
    },
    "papermill": {
     "duration": 0.23873,
     "end_time": "2022-03-27T16:46:59.578821",
     "exception": false,
     "start_time": "2022-03-27T16:46:59.340091",
     "status": "completed"
    },
    "tags": []
   },
   "outputs": [],
   "source": [
    "#result1 = pd.read_csv(\"/kaggle/working/result1.csv\")\n",
    "#result2 = pd.read_csv(\"/kaggle/working/result2.csv\")"
   ]
  },
  {
   "cell_type": "code",
   "execution_count": 84,
   "id": "c9795b82",
   "metadata": {
    "editable": false,
    "execution": {
     "iopub.execute_input": "2022-03-27T16:46:59.971696Z",
     "iopub.status.busy": "2022-03-27T16:46:59.970529Z",
     "iopub.status.idle": "2022-03-27T16:46:59.975022Z",
     "shell.execute_reply": "2022-03-27T16:46:59.975739Z",
     "shell.execute_reply.started": "2022-03-27T16:00:25.340533Z"
    },
    "papermill": {
     "duration": 0.212437,
     "end_time": "2022-03-27T16:46:59.975927",
     "exception": false,
     "start_time": "2022-03-27T16:46:59.763490",
     "status": "completed"
    },
    "tags": []
   },
   "outputs": [
    {
     "data": {
      "text/html": [
       "<div>\n",
       "<style scoped>\n",
       "    .dataframe tbody tr th:only-of-type {\n",
       "        vertical-align: middle;\n",
       "    }\n",
       "\n",
       "    .dataframe tbody tr th {\n",
       "        vertical-align: top;\n",
       "    }\n",
       "\n",
       "    .dataframe thead th {\n",
       "        text-align: right;\n",
       "    }\n",
       "</style>\n",
       "<table border=\"1\" class=\"dataframe\">\n",
       "  <thead>\n",
       "    <tr style=\"text-align: right;\">\n",
       "      <th></th>\n",
       "      <th>customer_id</th>\n",
       "      <th>article_id</th>\n",
       "      <th>source</th>\n",
       "      <th>score</th>\n",
       "      <th>rank</th>\n",
       "    </tr>\n",
       "  </thead>\n",
       "  <tbody>\n",
       "    <tr>\n",
       "      <th>0</th>\n",
       "      <td>-7425346363469395018</td>\n",
       "      <td>910601002.0</td>\n",
       "      <td>3</td>\n",
       "      <td>0.004003</td>\n",
       "      <td>5.0</td>\n",
       "    </tr>\n",
       "    <tr>\n",
       "      <th>1</th>\n",
       "      <td>-7425346363469395018</td>\n",
       "      <td>873274002.0</td>\n",
       "      <td>3</td>\n",
       "      <td>0.002502</td>\n",
       "      <td>11.0</td>\n",
       "    </tr>\n",
       "    <tr>\n",
       "      <th>2</th>\n",
       "      <td>-7425346363469395018</td>\n",
       "      <td>915529005.0</td>\n",
       "      <td>3</td>\n",
       "      <td>0.002502</td>\n",
       "      <td>11.0</td>\n",
       "    </tr>\n",
       "    <tr>\n",
       "      <th>3</th>\n",
       "      <td>-7425346363469395018</td>\n",
       "      <td>896169002.0</td>\n",
       "      <td>3</td>\n",
       "      <td>0.003002</td>\n",
       "      <td>9.0</td>\n",
       "    </tr>\n",
       "    <tr>\n",
       "      <th>4</th>\n",
       "      <td>-7425346363469395018</td>\n",
       "      <td>736870001.0</td>\n",
       "      <td>3</td>\n",
       "      <td>0.003753</td>\n",
       "      <td>6.0</td>\n",
       "    </tr>\n",
       "    <tr>\n",
       "      <th>...</th>\n",
       "      <td>...</td>\n",
       "      <td>...</td>\n",
       "      <td>...</td>\n",
       "      <td>...</td>\n",
       "      <td>...</td>\n",
       "    </tr>\n",
       "    <tr>\n",
       "      <th>32880969</th>\n",
       "      <td>1341966912860556603</td>\n",
       "      <td>915529005.0</td>\n",
       "      <td>3</td>\n",
       "      <td>0.002008</td>\n",
       "      <td>12.0</td>\n",
       "    </tr>\n",
       "    <tr>\n",
       "      <th>32880970</th>\n",
       "      <td>1341966912860556603</td>\n",
       "      <td>909370001.0</td>\n",
       "      <td>3</td>\n",
       "      <td>0.008101</td>\n",
       "      <td>1.0</td>\n",
       "    </tr>\n",
       "    <tr>\n",
       "      <th>32880971</th>\n",
       "      <td>1341966912860556603</td>\n",
       "      <td>918292001.0</td>\n",
       "      <td>3</td>\n",
       "      <td>0.002631</td>\n",
       "      <td>6.0</td>\n",
       "    </tr>\n",
       "    <tr>\n",
       "      <th>32880972</th>\n",
       "      <td>1341966912860556603</td>\n",
       "      <td>898694001.0</td>\n",
       "      <td>3</td>\n",
       "      <td>0.002562</td>\n",
       "      <td>7.0</td>\n",
       "    </tr>\n",
       "    <tr>\n",
       "      <th>32880973</th>\n",
       "      <td>1341966912860556603</td>\n",
       "      <td>924243001.0</td>\n",
       "      <td>3</td>\n",
       "      <td>0.004362</td>\n",
       "      <td>3.0</td>\n",
       "    </tr>\n",
       "  </tbody>\n",
       "</table>\n",
       "<p>32880974 rows × 5 columns</p>\n",
       "</div>"
      ],
      "text/plain": [
       "                  customer_id   article_id  source     score  rank\n",
       "0        -7425346363469395018  910601002.0       3  0.004003   5.0\n",
       "1        -7425346363469395018  873274002.0       3  0.002502  11.0\n",
       "2        -7425346363469395018  915529005.0       3  0.002502  11.0\n",
       "3        -7425346363469395018  896169002.0       3  0.003002   9.0\n",
       "4        -7425346363469395018  736870001.0       3  0.003753   6.0\n",
       "...                       ...          ...     ...       ...   ...\n",
       "32880969  1341966912860556603  915529005.0       3  0.002008  12.0\n",
       "32880970  1341966912860556603  909370001.0       3  0.008101   1.0\n",
       "32880971  1341966912860556603  918292001.0       3  0.002631   6.0\n",
       "32880972  1341966912860556603  898694001.0       3  0.002562   7.0\n",
       "32880973  1341966912860556603  924243001.0       3  0.004362   3.0\n",
       "\n",
       "[32880974 rows x 5 columns]"
      ]
     },
     "execution_count": 84,
     "metadata": {},
     "output_type": "execute_result"
    }
   ],
   "source": [
    "result3"
   ]
  },
  {
   "cell_type": "code",
   "execution_count": 85,
   "id": "99fec595",
   "metadata": {
    "editable": false,
    "execution": {
     "iopub.execute_input": "2022-03-27T16:47:00.360599Z",
     "iopub.status.busy": "2022-03-27T16:47:00.359722Z",
     "iopub.status.idle": "2022-03-27T16:47:00.363458Z",
     "shell.execute_reply": "2022-03-27T16:47:00.362745Z",
     "shell.execute_reply.started": "2022-03-27T16:00:25.360735Z"
    },
    "papermill": {
     "duration": 0.200644,
     "end_time": "2022-03-27T16:47:00.363589",
     "exception": false,
     "start_time": "2022-03-27T16:47:00.162945",
     "status": "completed"
    },
    "tags": []
   },
   "outputs": [],
   "source": [
    "#assert False"
   ]
  },
  {
   "cell_type": "code",
   "execution_count": 86,
   "id": "0504ceed",
   "metadata": {
    "editable": false,
    "execution": {
     "iopub.execute_input": "2022-03-27T16:47:00.742256Z",
     "iopub.status.busy": "2022-03-27T16:47:00.741170Z",
     "iopub.status.idle": "2022-03-27T16:47:00.744079Z",
     "shell.execute_reply": "2022-03-27T16:47:00.743416Z",
     "shell.execute_reply.started": "2022-03-27T16:00:25.368991Z"
    },
    "papermill": {
     "duration": 0.194509,
     "end_time": "2022-03-27T16:47:00.744226",
     "exception": false,
     "start_time": "2022-03-27T16:47:00.549717",
     "status": "completed"
    },
    "tags": []
   },
   "outputs": [],
   "source": [
    "# del result1\n",
    "# del result2\n",
    "# del result3"
   ]
  },
  {
   "cell_type": "code",
   "execution_count": 87,
   "id": "e00ea3a9",
   "metadata": {
    "editable": false,
    "execution": {
     "iopub.execute_input": "2022-03-27T16:47:01.125833Z",
     "iopub.status.busy": "2022-03-27T16:47:01.124467Z",
     "iopub.status.idle": "2022-03-27T16:47:02.487394Z",
     "shell.execute_reply": "2022-03-27T16:47:02.486781Z",
     "shell.execute_reply.started": "2022-03-27T16:00:25.37579Z"
    },
    "papermill": {
     "duration": 1.555724,
     "end_time": "2022-03-27T16:47:02.487560",
     "exception": false,
     "start_time": "2022-03-27T16:47:00.931836",
     "status": "completed"
    },
    "tags": []
   },
   "outputs": [],
   "source": [
    "result = pd.concat([result1, result2, result3], axis = 0)"
   ]
  },
  {
   "cell_type": "code",
   "execution_count": 88,
   "id": "19f89fdb",
   "metadata": {
    "editable": false,
    "execution": {
     "iopub.execute_input": "2022-03-27T16:47:02.880349Z",
     "iopub.status.busy": "2022-03-27T16:47:02.878345Z",
     "iopub.status.idle": "2022-03-27T16:47:02.881069Z",
     "shell.execute_reply": "2022-03-27T16:47:02.881611Z",
     "shell.execute_reply.started": "2022-03-27T16:00:26.531885Z"
    },
    "papermill": {
     "duration": 0.202933,
     "end_time": "2022-03-27T16:47:02.881768",
     "exception": false,
     "start_time": "2022-03-27T16:47:02.678835",
     "status": "completed"
    },
    "tags": []
   },
   "outputs": [],
   "source": [
    "# 调整融合结果"
   ]
  },
  {
   "cell_type": "code",
   "execution_count": 89,
   "id": "4d573d0a",
   "metadata": {
    "editable": false,
    "execution": {
     "iopub.execute_input": "2022-03-27T16:47:03.253847Z",
     "iopub.status.busy": "2022-03-27T16:47:03.251730Z",
     "iopub.status.idle": "2022-03-27T16:47:03.254631Z",
     "shell.execute_reply": "2022-03-27T16:47:03.255204Z",
     "shell.execute_reply.started": "2022-03-27T16:00:26.537309Z"
    },
    "papermill": {
     "duration": 0.191841,
     "end_time": "2022-03-27T16:47:03.255375",
     "exception": false,
     "start_time": "2022-03-27T16:47:03.063534",
     "status": "completed"
    },
    "tags": []
   },
   "outputs": [],
   "source": [
    "#result = result3.copy()"
   ]
  },
  {
   "cell_type": "code",
   "execution_count": 90,
   "id": "d08b9615",
   "metadata": {
    "editable": false,
    "execution": {
     "iopub.execute_input": "2022-03-27T16:47:03.776112Z",
     "iopub.status.busy": "2022-03-27T16:47:03.775127Z",
     "iopub.status.idle": "2022-03-27T16:47:03.779276Z",
     "shell.execute_reply": "2022-03-27T16:47:03.779878Z",
     "shell.execute_reply.started": "2022-03-27T16:00:26.546379Z"
    },
    "papermill": {
     "duration": 0.340679,
     "end_time": "2022-03-27T16:47:03.780084",
     "exception": false,
     "start_time": "2022-03-27T16:47:03.439405",
     "status": "completed"
    },
    "tags": []
   },
   "outputs": [
    {
     "data": {
      "text/plain": [
       "126"
      ]
     },
     "execution_count": 90,
     "metadata": {},
     "output_type": "execute_result"
    }
   ],
   "source": [
    "gc.collect()"
   ]
  },
  {
   "cell_type": "code",
   "execution_count": 91,
   "id": "c8557a94",
   "metadata": {
    "editable": false,
    "execution": {
     "iopub.execute_input": "2022-03-27T16:47:04.157263Z",
     "iopub.status.busy": "2022-03-27T16:47:04.156104Z",
     "iopub.status.idle": "2022-03-27T16:47:04.158840Z",
     "shell.execute_reply": "2022-03-27T16:47:04.159403Z",
     "shell.execute_reply.started": "2022-03-27T16:00:26.69999Z"
    },
    "papermill": {
     "duration": 0.19407,
     "end_time": "2022-03-27T16:47:04.159568",
     "exception": false,
     "start_time": "2022-03-27T16:47:03.965498",
     "status": "completed"
    },
    "tags": []
   },
   "outputs": [],
   "source": [
    "result.index = range(len(result))"
   ]
  },
  {
   "cell_type": "code",
   "execution_count": 92,
   "id": "3a5c5921",
   "metadata": {
    "editable": false,
    "execution": {
     "iopub.execute_input": "2022-03-27T16:47:04.535148Z",
     "iopub.status.busy": "2022-03-27T16:47:04.533994Z",
     "iopub.status.idle": "2022-03-27T16:47:06.962880Z",
     "shell.execute_reply": "2022-03-27T16:47:06.961942Z",
     "shell.execute_reply.started": "2022-03-27T16:00:26.710171Z"
    },
    "papermill": {
     "duration": 2.620926,
     "end_time": "2022-03-27T16:47:06.963126",
     "exception": false,
     "start_time": "2022-03-27T16:47:04.342200",
     "status": "completed"
    },
    "tags": []
   },
   "outputs": [],
   "source": [
    "result.loc[result[\"source\"] == 3, \"score\"] *= 0.8\n",
    "result.loc[result[\"source\"] == 2, \"score\"] *= 0.9"
   ]
  },
  {
   "cell_type": "code",
   "execution_count": 93,
   "id": "a47b2fc7",
   "metadata": {
    "editable": false,
    "execution": {
     "iopub.execute_input": "2022-03-27T16:47:07.343860Z",
     "iopub.status.busy": "2022-03-27T16:47:07.342645Z",
     "iopub.status.idle": "2022-03-27T16:47:07.345623Z",
     "shell.execute_reply": "2022-03-27T16:47:07.344924Z",
     "shell.execute_reply.started": "2022-03-27T16:00:28.8567Z"
    },
    "papermill": {
     "duration": 0.193682,
     "end_time": "2022-03-27T16:47:07.346068",
     "exception": false,
     "start_time": "2022-03-27T16:47:07.152386",
     "status": "completed"
    },
    "tags": []
   },
   "outputs": [],
   "source": [
    "#del result1\n",
    "#del result2\n",
    "#del sub_customer"
   ]
  },
  {
   "cell_type": "code",
   "execution_count": 94,
   "id": "95c88f2c",
   "metadata": {
    "editable": false,
    "execution": {
     "iopub.execute_input": "2022-03-27T16:47:07.728082Z",
     "iopub.status.busy": "2022-03-27T16:47:07.726418Z",
     "iopub.status.idle": "2022-03-27T16:47:08.730477Z",
     "shell.execute_reply": "2022-03-27T16:47:08.730958Z",
     "shell.execute_reply.started": "2022-03-27T16:00:28.861841Z"
    },
    "papermill": {
     "duration": 1.19934,
     "end_time": "2022-03-27T16:47:08.731140",
     "exception": false,
     "start_time": "2022-03-27T16:47:07.531800",
     "status": "completed"
    },
    "tags": []
   },
   "outputs": [],
   "source": [
    "result = cudf.DataFrame(result, dtype={'article_id': 'int32', 'customer_id':'int64'})"
   ]
  },
  {
   "cell_type": "code",
   "execution_count": 95,
   "id": "5f0c4626",
   "metadata": {
    "editable": false,
    "execution": {
     "iopub.execute_input": "2022-03-27T16:47:09.128515Z",
     "iopub.status.busy": "2022-03-27T16:47:09.127351Z",
     "iopub.status.idle": "2022-03-27T16:47:09.209619Z",
     "shell.execute_reply": "2022-03-27T16:47:09.209022Z",
     "shell.execute_reply.started": "2022-03-27T16:00:29.884828Z"
    },
    "papermill": {
     "duration": 0.274419,
     "end_time": "2022-03-27T16:47:09.209807",
     "exception": false,
     "start_time": "2022-03-27T16:47:08.935388",
     "status": "completed"
    },
    "tags": []
   },
   "outputs": [
    {
     "data": {
      "text/html": [
       "<div>\n",
       "<style scoped>\n",
       "    .dataframe tbody tr th:only-of-type {\n",
       "        vertical-align: middle;\n",
       "    }\n",
       "\n",
       "    .dataframe tbody tr th {\n",
       "        vertical-align: top;\n",
       "    }\n",
       "\n",
       "    .dataframe thead th {\n",
       "        text-align: right;\n",
       "    }\n",
       "</style>\n",
       "<table border=\"1\" class=\"dataframe\">\n",
       "  <thead>\n",
       "    <tr style=\"text-align: right;\">\n",
       "      <th></th>\n",
       "      <th>customer_id</th>\n",
       "      <th>article_id</th>\n",
       "      <th>source</th>\n",
       "      <th>score</th>\n",
       "      <th>rank</th>\n",
       "    </tr>\n",
       "  </thead>\n",
       "  <tbody>\n",
       "    <tr>\n",
       "      <th>0</th>\n",
       "      <td>-9223352921020755230</td>\n",
       "      <td>568597006</td>\n",
       "      <td>1</td>\n",
       "      <td>0.000559</td>\n",
       "      <td>5.0</td>\n",
       "    </tr>\n",
       "    <tr>\n",
       "      <th>1</th>\n",
       "      <td>-9223352921020755230</td>\n",
       "      <td>673396002</td>\n",
       "      <td>1</td>\n",
       "      <td>0.044511</td>\n",
       "      <td>1.0</td>\n",
       "    </tr>\n",
       "    <tr>\n",
       "      <th>2</th>\n",
       "      <td>-9223352921020755230</td>\n",
       "      <td>706016001</td>\n",
       "      <td>1</td>\n",
       "      <td>0.003289</td>\n",
       "      <td>4.0</td>\n",
       "    </tr>\n",
       "    <tr>\n",
       "      <th>3</th>\n",
       "      <td>-9223352921020755230</td>\n",
       "      <td>812167004</td>\n",
       "      <td>1</td>\n",
       "      <td>0.019179</td>\n",
       "      <td>2.0</td>\n",
       "    </tr>\n",
       "    <tr>\n",
       "      <th>4</th>\n",
       "      <td>-9223352921020755230</td>\n",
       "      <td>849493006</td>\n",
       "      <td>1</td>\n",
       "      <td>0.006174</td>\n",
       "      <td>3.0</td>\n",
       "    </tr>\n",
       "    <tr>\n",
       "      <th>...</th>\n",
       "      <td>...</td>\n",
       "      <td>...</td>\n",
       "      <td>...</td>\n",
       "      <td>...</td>\n",
       "      <td>...</td>\n",
       "    </tr>\n",
       "    <tr>\n",
       "      <th>43579614</th>\n",
       "      <td>1341966912860556603</td>\n",
       "      <td>915529005</td>\n",
       "      <td>3</td>\n",
       "      <td>0.001606</td>\n",
       "      <td>12.0</td>\n",
       "    </tr>\n",
       "    <tr>\n",
       "      <th>43579615</th>\n",
       "      <td>1341966912860556603</td>\n",
       "      <td>909370001</td>\n",
       "      <td>3</td>\n",
       "      <td>0.006481</td>\n",
       "      <td>1.0</td>\n",
       "    </tr>\n",
       "    <tr>\n",
       "      <th>43579616</th>\n",
       "      <td>1341966912860556603</td>\n",
       "      <td>918292001</td>\n",
       "      <td>3</td>\n",
       "      <td>0.002105</td>\n",
       "      <td>6.0</td>\n",
       "    </tr>\n",
       "    <tr>\n",
       "      <th>43579617</th>\n",
       "      <td>1341966912860556603</td>\n",
       "      <td>898694001</td>\n",
       "      <td>3</td>\n",
       "      <td>0.002050</td>\n",
       "      <td>7.0</td>\n",
       "    </tr>\n",
       "    <tr>\n",
       "      <th>43579618</th>\n",
       "      <td>1341966912860556603</td>\n",
       "      <td>924243001</td>\n",
       "      <td>3</td>\n",
       "      <td>0.003490</td>\n",
       "      <td>3.0</td>\n",
       "    </tr>\n",
       "  </tbody>\n",
       "</table>\n",
       "<p>43579619 rows × 5 columns</p>\n",
       "</div>"
      ],
      "text/plain": [
       "                  customer_id  article_id  source     score  rank\n",
       "0        -9223352921020755230   568597006       1  0.000559   5.0\n",
       "1        -9223352921020755230   673396002       1  0.044511   1.0\n",
       "2        -9223352921020755230   706016001       1  0.003289   4.0\n",
       "3        -9223352921020755230   812167004       1  0.019179   2.0\n",
       "4        -9223352921020755230   849493006       1  0.006174   3.0\n",
       "...                       ...         ...     ...       ...   ...\n",
       "43579614  1341966912860556603   915529005       3  0.001606  12.0\n",
       "43579615  1341966912860556603   909370001       3  0.006481   1.0\n",
       "43579616  1341966912860556603   918292001       3  0.002105   6.0\n",
       "43579617  1341966912860556603   898694001       3  0.002050   7.0\n",
       "43579618  1341966912860556603   924243001       3  0.003490   3.0\n",
       "\n",
       "[43579619 rows x 5 columns]"
      ]
     },
     "execution_count": 95,
     "metadata": {},
     "output_type": "execute_result"
    }
   ],
   "source": [
    "result"
   ]
  },
  {
   "cell_type": "code",
   "execution_count": 96,
   "id": "c4a86b74",
   "metadata": {
    "editable": false,
    "execution": {
     "iopub.execute_input": "2022-03-27T16:47:09.590249Z",
     "iopub.status.busy": "2022-03-27T16:47:09.589073Z",
     "iopub.status.idle": "2022-03-27T16:47:09.592377Z",
     "shell.execute_reply": "2022-03-27T16:47:09.591772Z",
     "shell.execute_reply.started": "2022-03-27T16:00:29.963318Z"
    },
    "papermill": {
     "duration": 0.195535,
     "end_time": "2022-03-27T16:47:09.592514",
     "exception": false,
     "start_time": "2022-03-27T16:47:09.396979",
     "status": "completed"
    },
    "tags": []
   },
   "outputs": [],
   "source": [
    "#merge_result = result.groupby([\"customer_id\", \"article_id\"]).apply(lambda x:x.nlargest(1, \"score\"))"
   ]
  },
  {
   "cell_type": "code",
   "execution_count": 97,
   "id": "c79087b6",
   "metadata": {
    "editable": false,
    "execution": {
     "iopub.execute_input": "2022-03-27T16:47:10.186393Z",
     "iopub.status.busy": "2022-03-27T16:47:10.185258Z",
     "iopub.status.idle": "2022-03-27T16:47:10.336059Z",
     "shell.execute_reply": "2022-03-27T16:47:10.337292Z",
     "shell.execute_reply.started": "2022-03-27T16:00:29.96918Z"
    },
    "papermill": {
     "duration": 0.520427,
     "end_time": "2022-03-27T16:47:10.337531",
     "exception": false,
     "start_time": "2022-03-27T16:47:09.817104",
     "status": "completed"
    },
    "tags": []
   },
   "outputs": [],
   "source": [
    "merge_result = result.groupby([\"customer_id\", \"article_id\"])['score'].max().reset_index()"
   ]
  },
  {
   "cell_type": "code",
   "execution_count": 98,
   "id": "08722755",
   "metadata": {
    "editable": false,
    "execution": {
     "iopub.execute_input": "2022-03-27T16:47:10.759108Z",
     "iopub.status.busy": "2022-03-27T16:47:10.758055Z",
     "iopub.status.idle": "2022-03-27T16:47:10.761234Z",
     "shell.execute_reply": "2022-03-27T16:47:10.760708Z",
     "shell.execute_reply.started": "2022-03-27T16:00:30.131455Z"
    },
    "papermill": {
     "duration": 0.196936,
     "end_time": "2022-03-27T16:47:10.761367",
     "exception": false,
     "start_time": "2022-03-27T16:47:10.564431",
     "status": "completed"
    },
    "tags": []
   },
   "outputs": [],
   "source": [
    "# del result"
   ]
  },
  {
   "cell_type": "code",
   "execution_count": 99,
   "id": "85f77abb",
   "metadata": {
    "editable": false,
    "execution": {
     "iopub.execute_input": "2022-03-27T16:47:11.140661Z",
     "iopub.status.busy": "2022-03-27T16:47:11.139452Z",
     "iopub.status.idle": "2022-03-27T16:47:11.142009Z",
     "shell.execute_reply": "2022-03-27T16:47:11.142570Z",
     "shell.execute_reply.started": "2022-03-27T16:00:30.137979Z"
    },
    "papermill": {
     "duration": 0.194744,
     "end_time": "2022-03-27T16:47:11.142761",
     "exception": false,
     "start_time": "2022-03-27T16:47:10.948017",
     "status": "completed"
    },
    "tags": []
   },
   "outputs": [],
   "source": [
    "# purchase_df = tmp.sort_values(['customer_id', 'value'], ascending = False).reset_index(drop = True)\n",
    "# purchase_df['prediction'] = '0' + purchase_df['article_id'].astype(str) + ' '\n",
    "# purchase_df = purchase_df.groupby('customer_id').agg({'prediction': sum}).reset_index()\n",
    "# purchase_df['prediction'] = purchase_df['prediction'].str.strip()\n",
    "# purchase_df = cudf.DataFrame(purchase_df)"
   ]
  },
  {
   "cell_type": "code",
   "execution_count": 100,
   "id": "5abe94b1",
   "metadata": {
    "editable": false,
    "execution": {
     "iopub.execute_input": "2022-03-27T16:47:11.533782Z",
     "iopub.status.busy": "2022-03-27T16:47:11.532816Z",
     "iopub.status.idle": "2022-03-27T16:47:11.536064Z",
     "shell.execute_reply": "2022-03-27T16:47:11.535464Z",
     "shell.execute_reply.started": "2022-03-27T16:00:30.144554Z"
    },
    "papermill": {
     "duration": 0.19858,
     "end_time": "2022-03-27T16:47:11.536232",
     "exception": false,
     "start_time": "2022-03-27T16:47:11.337652",
     "status": "completed"
    },
    "tags": []
   },
   "outputs": [],
   "source": [
    "# %%time\n",
    "# purchase_dict = {}\n",
    "\n",
    "# tmp = df.copy().to_pandas()\n",
    "# tmp['x'] = ((last_ts - tmp['t_dat']) / np.timedelta64(1, 'D')).astype(int)\n",
    "# tmp['dummy_1'] = 1 \n",
    "# tmp['x'] = tmp[[\"x\", \"dummy_1\"]].max(axis=1)\n",
    "\n",
    "# a, b, c, d = 2.5e4, 1.5e5, 2e-1, 1e3\n",
    "# total = 1715530\n",
    "# tmp['y'] = (a / np.sqrt(tmp['x']) + b * np.exp(-c*tmp['x']) - d) / total\n",
    "\n",
    "# tmp['dummy_0'] = 0 \n",
    "# tmp['y'] = tmp[[\"y\", \"dummy_0\"]].max(axis=1)\n",
    "# tmp['value'] = tmp['quotient'] * tmp['y'] \n",
    "\n",
    "# tmp = tmp.groupby(['customer_id', 'article_id']).agg({'value': 'sum'})\n",
    "# tmp = tmp.reset_index()\n",
    "\n",
    "# tmp = tmp.loc[tmp['value'] > 0]\n",
    "# tmp['rank'] = tmp.groupby(\"customer_id\")[\"value\"].rank(\"dense\", ascending=False)\n",
    "# tmp = tmp.loc[tmp['rank'] <= 12]\n",
    "\n",
    "# # for customer_id in tmp['customer_id'].unique():\n",
    "# #     purchase_dict[customer_id] = {} \n",
    "\n",
    "# # for customer_id, article_id, value in zip(tmp['customer_id'], tmp['article_id'], tmp['value']):\n",
    "# #     purchase_dict[customer_id][article_id] = value\n",
    "\n",
    "# purchase_df = tmp.sort_values(['customer_id', 'value'], ascending = False).reset_index(drop = True)\n",
    "# purchase_df['prediction'] = '0' + purchase_df['article_id'].astype(str) + ' '\n",
    "# purchase_df = purchase_df.groupby('customer_id').agg({'prediction': sum}).reset_index()\n",
    "# purchase_df['prediction'] = purchase_df['prediction'].str.strip()\n",
    "# purchase_df = cudf.DataFrame(purchase_df)"
   ]
  },
  {
   "cell_type": "markdown",
   "id": "e947641e",
   "metadata": {
    "editable": false,
    "papermill": {
     "duration": 0.187714,
     "end_time": "2022-03-27T16:47:11.912018",
     "exception": false,
     "start_time": "2022-03-27T16:47:11.724304",
     "status": "completed"
    },
    "tags": []
   },
   "source": [
    "### Make a submission"
   ]
  },
  {
   "cell_type": "code",
   "execution_count": 101,
   "id": "4f791764",
   "metadata": {
    "editable": false,
    "execution": {
     "iopub.execute_input": "2022-03-27T16:47:12.296595Z",
     "iopub.status.busy": "2022-03-27T16:47:12.295564Z",
     "iopub.status.idle": "2022-03-27T16:47:12.363021Z",
     "shell.execute_reply": "2022-03-27T16:47:12.362375Z",
     "shell.execute_reply.started": "2022-03-27T16:00:30.154049Z"
    },
    "papermill": {
     "duration": 0.261045,
     "end_time": "2022-03-27T16:47:12.363233",
     "exception": false,
     "start_time": "2022-03-27T16:47:12.102188",
     "status": "completed"
    },
    "tags": []
   },
   "outputs": [],
   "source": [
    "merge_result[\"article_id\"] = \"0\"+merge_result[\"article_id\"].astype(\"str\")"
   ]
  },
  {
   "cell_type": "code",
   "execution_count": 102,
   "id": "d41f63d1",
   "metadata": {
    "editable": false,
    "execution": {
     "iopub.execute_input": "2022-03-27T16:47:12.751402Z",
     "iopub.status.busy": "2022-03-27T16:47:12.750222Z",
     "iopub.status.idle": "2022-03-27T16:47:12.814354Z",
     "shell.execute_reply": "2022-03-27T16:47:12.814952Z",
     "shell.execute_reply.started": "2022-03-27T16:00:30.226955Z"
    },
    "papermill": {
     "duration": 0.263706,
     "end_time": "2022-03-27T16:47:12.815150",
     "exception": false,
     "start_time": "2022-03-27T16:47:12.551444",
     "status": "completed"
    },
    "tags": []
   },
   "outputs": [
    {
     "data": {
      "text/html": [
       "<div>\n",
       "<style scoped>\n",
       "    .dataframe tbody tr th:only-of-type {\n",
       "        vertical-align: middle;\n",
       "    }\n",
       "\n",
       "    .dataframe tbody tr th {\n",
       "        vertical-align: top;\n",
       "    }\n",
       "\n",
       "    .dataframe thead th {\n",
       "        text-align: right;\n",
       "    }\n",
       "</style>\n",
       "<table border=\"1\" class=\"dataframe\">\n",
       "  <thead>\n",
       "    <tr style=\"text-align: right;\">\n",
       "      <th></th>\n",
       "      <th>customer_id</th>\n",
       "      <th>article_id</th>\n",
       "      <th>score</th>\n",
       "    </tr>\n",
       "  </thead>\n",
       "  <tbody>\n",
       "    <tr>\n",
       "      <th>0</th>\n",
       "      <td>-48190353533515953</td>\n",
       "      <td>0918292001</td>\n",
       "      <td>0.001997</td>\n",
       "    </tr>\n",
       "    <tr>\n",
       "      <th>1</th>\n",
       "      <td>-43862614118240478</td>\n",
       "      <td>0562245046</td>\n",
       "      <td>0.005793</td>\n",
       "    </tr>\n",
       "    <tr>\n",
       "      <th>2</th>\n",
       "      <td>-5695071458144859329</td>\n",
       "      <td>0610776002</td>\n",
       "      <td>0.001992</td>\n",
       "    </tr>\n",
       "    <tr>\n",
       "      <th>3</th>\n",
       "      <td>3497777415899358186</td>\n",
       "      <td>0863583001</td>\n",
       "      <td>0.002252</td>\n",
       "    </tr>\n",
       "    <tr>\n",
       "      <th>4</th>\n",
       "      <td>3491582582452764282</td>\n",
       "      <td>0893059004</td>\n",
       "      <td>0.014286</td>\n",
       "    </tr>\n",
       "    <tr>\n",
       "      <th>...</th>\n",
       "      <td>...</td>\n",
       "      <td>...</td>\n",
       "      <td>...</td>\n",
       "    </tr>\n",
       "    <tr>\n",
       "      <th>42789926</th>\n",
       "      <td>-6732515857905006154</td>\n",
       "      <td>0856440002</td>\n",
       "      <td>0.001309</td>\n",
       "    </tr>\n",
       "    <tr>\n",
       "      <th>42789927</th>\n",
       "      <td>6108594697697043857</td>\n",
       "      <td>0915529005</td>\n",
       "      <td>0.002002</td>\n",
       "    </tr>\n",
       "    <tr>\n",
       "      <th>42789928</th>\n",
       "      <td>-1078202265338439284</td>\n",
       "      <td>0918292001</td>\n",
       "      <td>0.001363</td>\n",
       "    </tr>\n",
       "    <tr>\n",
       "      <th>42789929</th>\n",
       "      <td>-365664616471901484</td>\n",
       "      <td>0884319005</td>\n",
       "      <td>0.001488</td>\n",
       "    </tr>\n",
       "    <tr>\n",
       "      <th>42789930</th>\n",
       "      <td>-3154756311120164062</td>\n",
       "      <td>0898713001</td>\n",
       "      <td>0.001871</td>\n",
       "    </tr>\n",
       "  </tbody>\n",
       "</table>\n",
       "<p>42789931 rows × 3 columns</p>\n",
       "</div>"
      ],
      "text/plain": [
       "                  customer_id  article_id     score\n",
       "0          -48190353533515953  0918292001  0.001997\n",
       "1          -43862614118240478  0562245046  0.005793\n",
       "2        -5695071458144859329  0610776002  0.001992\n",
       "3         3497777415899358186  0863583001  0.002252\n",
       "4         3491582582452764282  0893059004  0.014286\n",
       "...                       ...         ...       ...\n",
       "42789926 -6732515857905006154  0856440002  0.001309\n",
       "42789927  6108594697697043857  0915529005  0.002002\n",
       "42789928 -1078202265338439284  0918292001  0.001363\n",
       "42789929  -365664616471901484  0884319005  0.001488\n",
       "42789930 -3154756311120164062  0898713001  0.001871\n",
       "\n",
       "[42789931 rows x 3 columns]"
      ]
     },
     "execution_count": 102,
     "metadata": {},
     "output_type": "execute_result"
    }
   ],
   "source": [
    "merge_result"
   ]
  },
  {
   "cell_type": "code",
   "execution_count": 103,
   "id": "91cfb74a",
   "metadata": {
    "editable": false,
    "execution": {
     "iopub.execute_input": "2022-03-27T16:47:13.204056Z",
     "iopub.status.busy": "2022-03-27T16:47:13.203052Z",
     "iopub.status.idle": "2022-03-27T16:47:13.802172Z",
     "shell.execute_reply": "2022-03-27T16:47:13.801544Z",
     "shell.execute_reply.started": "2022-03-27T16:00:30.287061Z"
    },
    "papermill": {
     "duration": 0.795397,
     "end_time": "2022-03-27T16:47:13.802348",
     "exception": false,
     "start_time": "2022-03-27T16:47:13.006951",
     "status": "completed"
    },
    "tags": []
   },
   "outputs": [],
   "source": [
    "merge_result = merge_result.sort_values(by = [\"customer_id\", \"score\"], ascending = False)"
   ]
  },
  {
   "cell_type": "code",
   "execution_count": 104,
   "id": "3e755fc4",
   "metadata": {
    "editable": false,
    "execution": {
     "iopub.execute_input": "2022-03-27T16:47:14.182118Z",
     "iopub.status.busy": "2022-03-27T16:47:14.180895Z",
     "iopub.status.idle": "2022-03-27T16:47:14.183217Z",
     "shell.execute_reply": "2022-03-27T16:47:14.183744Z",
     "shell.execute_reply.started": "2022-03-27T16:00:30.887465Z"
    },
    "papermill": {
     "duration": 0.1935,
     "end_time": "2022-03-27T16:47:14.183918",
     "exception": false,
     "start_time": "2022-03-27T16:47:13.990418",
     "status": "completed"
    },
    "tags": []
   },
   "outputs": [],
   "source": [
    "#merge_result.to_pandas()[:10000].groupby([\"customer_id\"])[\"article_id\"].agg(lambda x: print(x.to_list()))"
   ]
  },
  {
   "cell_type": "code",
   "execution_count": 105,
   "id": "d075ed36",
   "metadata": {
    "editable": false,
    "execution": {
     "iopub.execute_input": "2022-03-27T16:47:14.575727Z",
     "iopub.status.busy": "2022-03-27T16:47:14.574287Z",
     "iopub.status.idle": "2022-03-27T16:47:14.632562Z",
     "shell.execute_reply": "2022-03-27T16:47:14.633082Z",
     "shell.execute_reply.started": "2022-03-27T16:00:30.894089Z"
    },
    "papermill": {
     "duration": 0.26105,
     "end_time": "2022-03-27T16:47:14.633278",
     "exception": false,
     "start_time": "2022-03-27T16:47:14.372228",
     "status": "completed"
    },
    "tags": []
   },
   "outputs": [
    {
     "data": {
      "text/html": [
       "<div>\n",
       "<style scoped>\n",
       "    .dataframe tbody tr th:only-of-type {\n",
       "        vertical-align: middle;\n",
       "    }\n",
       "\n",
       "    .dataframe tbody tr th {\n",
       "        vertical-align: top;\n",
       "    }\n",
       "\n",
       "    .dataframe thead th {\n",
       "        text-align: right;\n",
       "    }\n",
       "</style>\n",
       "<table border=\"1\" class=\"dataframe\">\n",
       "  <thead>\n",
       "    <tr style=\"text-align: right;\">\n",
       "      <th></th>\n",
       "      <th>customer_id</th>\n",
       "      <th>article_id</th>\n",
       "      <th>score</th>\n",
       "    </tr>\n",
       "  </thead>\n",
       "  <tbody>\n",
       "    <tr>\n",
       "      <th>41094892</th>\n",
       "      <td>9223370729206611574</td>\n",
       "      <td>0909370001</td>\n",
       "      <td>0.006153</td>\n",
       "    </tr>\n",
       "    <tr>\n",
       "      <th>8535689</th>\n",
       "      <td>9223370729206611574</td>\n",
       "      <td>0909371001</td>\n",
       "      <td>0.004058</td>\n",
       "    </tr>\n",
       "    <tr>\n",
       "      <th>989124</th>\n",
       "      <td>9223370729206611574</td>\n",
       "      <td>0805947001</td>\n",
       "      <td>0.002095</td>\n",
       "    </tr>\n",
       "    <tr>\n",
       "      <th>1309787</th>\n",
       "      <td>9223370729206611574</td>\n",
       "      <td>0908799002</td>\n",
       "      <td>0.001833</td>\n",
       "    </tr>\n",
       "    <tr>\n",
       "      <th>2527301</th>\n",
       "      <td>9223370729206611574</td>\n",
       "      <td>0935892001</td>\n",
       "      <td>0.001833</td>\n",
       "    </tr>\n",
       "    <tr>\n",
       "      <th>...</th>\n",
       "      <td>...</td>\n",
       "      <td>...</td>\n",
       "      <td>...</td>\n",
       "    </tr>\n",
       "    <tr>\n",
       "      <th>42431243</th>\n",
       "      <td>-9223352921020755230</td>\n",
       "      <td>0562245046</td>\n",
       "      <td>0.002585</td>\n",
       "    </tr>\n",
       "    <tr>\n",
       "      <th>20839022</th>\n",
       "      <td>-9223352921020755230</td>\n",
       "      <td>0751471001</td>\n",
       "      <td>0.002302</td>\n",
       "    </tr>\n",
       "    <tr>\n",
       "      <th>32816836</th>\n",
       "      <td>-9223352921020755230</td>\n",
       "      <td>0372860002</td>\n",
       "      <td>0.002224</td>\n",
       "    </tr>\n",
       "    <tr>\n",
       "      <th>37625331</th>\n",
       "      <td>-9223352921020755230</td>\n",
       "      <td>0156231001</td>\n",
       "      <td>0.001988</td>\n",
       "    </tr>\n",
       "    <tr>\n",
       "      <th>1229565</th>\n",
       "      <td>-9223352921020755230</td>\n",
       "      <td>0568597006</td>\n",
       "      <td>0.000559</td>\n",
       "    </tr>\n",
       "  </tbody>\n",
       "</table>\n",
       "<p>42789931 rows × 3 columns</p>\n",
       "</div>"
      ],
      "text/plain": [
       "                  customer_id  article_id     score\n",
       "41094892  9223370729206611574  0909370001  0.006153\n",
       "8535689   9223370729206611574  0909371001  0.004058\n",
       "989124    9223370729206611574  0805947001  0.002095\n",
       "1309787   9223370729206611574  0908799002  0.001833\n",
       "2527301   9223370729206611574  0935892001  0.001833\n",
       "...                       ...         ...       ...\n",
       "42431243 -9223352921020755230  0562245046  0.002585\n",
       "20839022 -9223352921020755230  0751471001  0.002302\n",
       "32816836 -9223352921020755230  0372860002  0.002224\n",
       "37625331 -9223352921020755230  0156231001  0.001988\n",
       "1229565  -9223352921020755230  0568597006  0.000559\n",
       "\n",
       "[42789931 rows x 3 columns]"
      ]
     },
     "execution_count": 105,
     "metadata": {},
     "output_type": "execute_result"
    }
   ],
   "source": [
    "merge_result"
   ]
  },
  {
   "cell_type": "code",
   "execution_count": 106,
   "id": "831d068d",
   "metadata": {
    "editable": false,
    "execution": {
     "iopub.execute_input": "2022-03-27T16:47:15.015669Z",
     "iopub.status.busy": "2022-03-27T16:47:15.014386Z",
     "iopub.status.idle": "2022-03-27T16:47:41.647823Z",
     "shell.execute_reply": "2022-03-27T16:47:41.648472Z",
     "shell.execute_reply.started": "2022-03-27T16:00:30.956035Z"
    },
    "papermill": {
     "duration": 26.828105,
     "end_time": "2022-03-27T16:47:41.648694",
     "exception": false,
     "start_time": "2022-03-27T16:47:14.820589",
     "status": "completed"
    },
    "tags": []
   },
   "outputs": [],
   "source": [
    "final = merge_result.to_pandas().groupby([\"customer_id\"])[\"article_id\"].agg(lambda x: \" \".join(x)[:131])"
   ]
  },
  {
   "cell_type": "code",
   "execution_count": 107,
   "id": "0050925b",
   "metadata": {
    "editable": false,
    "execution": {
     "iopub.execute_input": "2022-03-27T16:47:42.036349Z",
     "iopub.status.busy": "2022-03-27T16:47:42.035263Z",
     "iopub.status.idle": "2022-03-27T16:47:42.038406Z",
     "shell.execute_reply": "2022-03-27T16:47:42.037881Z",
     "shell.execute_reply.started": "2022-03-27T16:00:51.556004Z"
    },
    "papermill": {
     "duration": 0.194838,
     "end_time": "2022-03-27T16:47:42.038542",
     "exception": false,
     "start_time": "2022-03-27T16:47:41.843704",
     "status": "completed"
    },
    "tags": []
   },
   "outputs": [],
   "source": [
    "# source = merge_result.to_pandas().groupby([\"customer_id\"])[\"article_id\"].agg(lambda x: \" \".join(x)[:131])"
   ]
  },
  {
   "cell_type": "code",
   "execution_count": 108,
   "id": "cf14254f",
   "metadata": {
    "editable": false,
    "execution": {
     "iopub.execute_input": "2022-03-27T16:47:42.416924Z",
     "iopub.status.busy": "2022-03-27T16:47:42.415728Z",
     "iopub.status.idle": "2022-03-27T16:47:42.517762Z",
     "shell.execute_reply": "2022-03-27T16:47:42.517118Z",
     "shell.execute_reply.started": "2022-03-27T16:00:51.564149Z"
    },
    "papermill": {
     "duration": 0.293165,
     "end_time": "2022-03-27T16:47:42.517922",
     "exception": false,
     "start_time": "2022-03-27T16:47:42.224757",
     "status": "completed"
    },
    "tags": []
   },
   "outputs": [],
   "source": [
    "final = final.reset_index()"
   ]
  },
  {
   "cell_type": "code",
   "execution_count": 109,
   "id": "c65a1927",
   "metadata": {
    "editable": false,
    "execution": {
     "iopub.execute_input": "2022-03-27T16:47:43.066507Z",
     "iopub.status.busy": "2022-03-27T16:47:43.065434Z",
     "iopub.status.idle": "2022-03-27T16:47:43.129167Z",
     "shell.execute_reply": "2022-03-27T16:47:43.130424Z",
     "shell.execute_reply.started": "2022-03-27T16:00:51.648398Z"
    },
    "papermill": {
     "duration": 0.420806,
     "end_time": "2022-03-27T16:47:43.130718",
     "exception": false,
     "start_time": "2022-03-27T16:47:42.709912",
     "status": "completed"
    },
    "tags": []
   },
   "outputs": [],
   "source": [
    "final = final.rename(columns = {\"article_id\": \"prediction\"})"
   ]
  },
  {
   "cell_type": "code",
   "execution_count": 110,
   "id": "14d02010",
   "metadata": {
    "editable": false,
    "execution": {
     "iopub.execute_input": "2022-03-27T16:47:43.675489Z",
     "iopub.status.busy": "2022-03-27T16:47:43.674498Z",
     "iopub.status.idle": "2022-03-27T16:47:43.678518Z",
     "shell.execute_reply": "2022-03-27T16:47:43.679058Z",
     "shell.execute_reply.started": "2022-03-27T16:00:51.694099Z"
    },
    "papermill": {
     "duration": 0.214768,
     "end_time": "2022-03-27T16:47:43.679295",
     "exception": false,
     "start_time": "2022-03-27T16:47:43.464527",
     "status": "completed"
    },
    "tags": []
   },
   "outputs": [
    {
     "data": {
      "text/html": [
       "<div>\n",
       "<style scoped>\n",
       "    .dataframe tbody tr th:only-of-type {\n",
       "        vertical-align: middle;\n",
       "    }\n",
       "\n",
       "    .dataframe tbody tr th {\n",
       "        vertical-align: top;\n",
       "    }\n",
       "\n",
       "    .dataframe thead th {\n",
       "        text-align: right;\n",
       "    }\n",
       "</style>\n",
       "<table border=\"1\" class=\"dataframe\">\n",
       "  <thead>\n",
       "    <tr style=\"text-align: right;\">\n",
       "      <th></th>\n",
       "      <th>customer_id</th>\n",
       "      <th>prediction</th>\n",
       "    </tr>\n",
       "  </thead>\n",
       "  <tbody>\n",
       "    <tr>\n",
       "      <th>0</th>\n",
       "      <td>-9223352921020755230</td>\n",
       "      <td>0673396002 0860949002 0739590032 0812167004 07...</td>\n",
       "    </tr>\n",
       "    <tr>\n",
       "      <th>1</th>\n",
       "      <td>-9223343869995384291</td>\n",
       "      <td>0908292002 0910601003 0865929007 0903926002 07...</td>\n",
       "    </tr>\n",
       "    <tr>\n",
       "      <th>2</th>\n",
       "      <td>-9223321797620987725</td>\n",
       "      <td>0751471043 0865799006 0918522001 0910601003 09...</td>\n",
       "    </tr>\n",
       "    <tr>\n",
       "      <th>3</th>\n",
       "      <td>-9223319430705797669</td>\n",
       "      <td>0685814003 0448509014 0715624001 0918522001 07...</td>\n",
       "    </tr>\n",
       "    <tr>\n",
       "      <th>4</th>\n",
       "      <td>-9223308614576639426</td>\n",
       "      <td>0872537004 0899282001 0865929003 0749097003 05...</td>\n",
       "    </tr>\n",
       "    <tr>\n",
       "      <th>...</th>\n",
       "      <td>...</td>\n",
       "      <td>...</td>\n",
       "    </tr>\n",
       "    <tr>\n",
       "      <th>1364779</th>\n",
       "      <td>9223319300843860958</td>\n",
       "      <td>0751471001 0751471038 0751471043 0673677002 09...</td>\n",
       "    </tr>\n",
       "    <tr>\n",
       "      <th>1364780</th>\n",
       "      <td>9223333063893176977</td>\n",
       "      <td>0909370001 0865799006 0924243001 0809238001 09...</td>\n",
       "    </tr>\n",
       "    <tr>\n",
       "      <th>1364781</th>\n",
       "      <td>9223345314868180224</td>\n",
       "      <td>0909370001 0717464001 0841383002 0809238001 08...</td>\n",
       "    </tr>\n",
       "    <tr>\n",
       "      <th>1364782</th>\n",
       "      <td>9223357421094039679</td>\n",
       "      <td>0918522001 0751471043 0751471001 0924243001 07...</td>\n",
       "    </tr>\n",
       "    <tr>\n",
       "      <th>1364783</th>\n",
       "      <td>9223370729206611574</td>\n",
       "      <td>0909370001 0909371001 0805947001 0908799002 09...</td>\n",
       "    </tr>\n",
       "  </tbody>\n",
       "</table>\n",
       "<p>1364784 rows × 2 columns</p>\n",
       "</div>"
      ],
      "text/plain": [
       "                 customer_id  \\\n",
       "0       -9223352921020755230   \n",
       "1       -9223343869995384291   \n",
       "2       -9223321797620987725   \n",
       "3       -9223319430705797669   \n",
       "4       -9223308614576639426   \n",
       "...                      ...   \n",
       "1364779  9223319300843860958   \n",
       "1364780  9223333063893176977   \n",
       "1364781  9223345314868180224   \n",
       "1364782  9223357421094039679   \n",
       "1364783  9223370729206611574   \n",
       "\n",
       "                                                prediction  \n",
       "0        0673396002 0860949002 0739590032 0812167004 07...  \n",
       "1        0908292002 0910601003 0865929007 0903926002 07...  \n",
       "2        0751471043 0865799006 0918522001 0910601003 09...  \n",
       "3        0685814003 0448509014 0715624001 0918522001 07...  \n",
       "4        0872537004 0899282001 0865929003 0749097003 05...  \n",
       "...                                                    ...  \n",
       "1364779  0751471001 0751471038 0751471043 0673677002 09...  \n",
       "1364780  0909370001 0865799006 0924243001 0809238001 09...  \n",
       "1364781  0909370001 0717464001 0841383002 0809238001 08...  \n",
       "1364782  0918522001 0751471043 0751471001 0924243001 07...  \n",
       "1364783  0909370001 0909371001 0805947001 0908799002 09...  \n",
       "\n",
       "[1364784 rows x 2 columns]"
      ]
     },
     "execution_count": 110,
     "metadata": {},
     "output_type": "execute_result"
    }
   ],
   "source": [
    "final"
   ]
  },
  {
   "cell_type": "code",
   "execution_count": 111,
   "id": "91c76005",
   "metadata": {
    "editable": false,
    "execution": {
     "iopub.execute_input": "2022-03-27T16:47:44.224410Z",
     "iopub.status.busy": "2022-03-27T16:47:44.223457Z",
     "iopub.status.idle": "2022-03-27T16:47:44.227580Z",
     "shell.execute_reply": "2022-03-27T16:47:44.228131Z",
     "shell.execute_reply.started": "2022-03-27T16:00:51.707342Z"
    },
    "papermill": {
     "duration": 0.354543,
     "end_time": "2022-03-27T16:47:44.228321",
     "exception": false,
     "start_time": "2022-03-27T16:47:43.873778",
     "status": "completed"
    },
    "tags": []
   },
   "outputs": [
    {
     "data": {
      "text/plain": [
       "126"
      ]
     },
     "execution_count": 111,
     "metadata": {},
     "output_type": "execute_result"
    }
   ],
   "source": [
    "gc.collect()"
   ]
  },
  {
   "cell_type": "code",
   "execution_count": 112,
   "id": "41c3d54b",
   "metadata": {
    "editable": false,
    "execution": {
     "iopub.execute_input": "2022-03-27T16:47:44.615383Z",
     "iopub.status.busy": "2022-03-27T16:47:44.614266Z",
     "iopub.status.idle": "2022-03-27T16:47:45.875588Z",
     "shell.execute_reply": "2022-03-27T16:47:45.874715Z",
     "shell.execute_reply.started": "2022-03-27T16:00:51.851921Z"
    },
    "papermill": {
     "duration": 1.458736,
     "end_time": "2022-03-27T16:47:45.875742",
     "exception": false,
     "start_time": "2022-03-27T16:47:44.417006",
     "status": "completed"
    },
    "tags": []
   },
   "outputs": [],
   "source": [
    "if Last_date == \"2020-09-22\":\n",
    "    sub  = cudf.read_csv('../input/h-and-m-personalized-fashion-recommendations/sample_submission.csv',\n",
    "                                usecols= ['customer_id'], \n",
    "                                dtype={'customer_id': 'string'})\n",
    "\n",
    "    sub['customer_id2'] = sub['customer_id'].str[-16:].str.hex_to_int().astype('int64')\n",
    "\n",
    "    sub = sub.to_pandas().merge(final, left_on = 'customer_id2', right_on = 'customer_id', how = 'left',\n",
    "                   suffixes = ('', '_ignored'))\n",
    "else:\n",
    "    sub  = cudf.read_csv('../input/h-and-m-personalized-fashion-recommendations/sample_submission.csv',\n",
    "                                usecols= ['customer_id'], \n",
    "                                dtype={'customer_id': 'string'})\n",
    "\n",
    "    sub['customer_id'] = sub['customer_id'].str[-16:].str.hex_to_int().astype('int64')\n",
    "\n",
    "    sub = sub.to_pandas().merge(final, left_on = 'customer_id', right_on = 'customer_id', how = 'left',\n",
    "                   suffixes = ('', '_ignored'))\n",
    "    \n",
    "\n",
    "#sub = sub.to_pandas()\n",
    "\n",
    "\n",
    "#final = sub.groupby([\"customer_id\"])[\"article_id\"].agg(lambda x: \" \".join(x + [general_pred_str]).strip()[:131])\n",
    "\n",
    "# sub['prediction'] = sub['prediction'].fillna(general_pred_str)\n",
    "# sub['prediction'] = sub['prediction'] + ' ' +  general_pred_str\n",
    "# sub['prediction'] = sub['prediction'].str.strip()\n",
    "# sub['prediction'] = sub['prediction'].str[:131]\n",
    "# sub = sub[['customer_id', 'prediction']]\n",
    "# sub.to_csv(f'submission.csv',index=False)\n"
   ]
  },
  {
   "cell_type": "code",
   "execution_count": 113,
   "id": "b7513fba",
   "metadata": {
    "editable": false,
    "execution": {
     "iopub.execute_input": "2022-03-27T16:47:46.561382Z",
     "iopub.status.busy": "2022-03-27T16:47:46.560337Z",
     "iopub.status.idle": "2022-03-27T16:47:46.568548Z",
     "shell.execute_reply": "2022-03-27T16:47:46.569038Z",
     "shell.execute_reply.started": "2022-03-27T16:00:52.848395Z"
    },
    "papermill": {
     "duration": 0.500289,
     "end_time": "2022-03-27T16:47:46.569246",
     "exception": false,
     "start_time": "2022-03-27T16:47:46.068957",
     "status": "completed"
    },
    "tags": []
   },
   "outputs": [
    {
     "data": {
      "text/plain": [
       "7196"
      ]
     },
     "execution_count": 113,
     "metadata": {},
     "output_type": "execute_result"
    }
   ],
   "source": [
    "sub[\"prediction\"].isna().sum()"
   ]
  },
  {
   "cell_type": "code",
   "execution_count": 114,
   "id": "92fc4769",
   "metadata": {
    "editable": false,
    "execution": {
     "iopub.execute_input": "2022-03-27T16:47:46.957215Z",
     "iopub.status.busy": "2022-03-27T16:47:46.956241Z",
     "iopub.status.idle": "2022-03-27T16:47:46.961000Z",
     "shell.execute_reply": "2022-03-27T16:47:46.961572Z",
     "shell.execute_reply.started": "2022-03-27T16:00:53.105021Z"
    },
    "papermill": {
     "duration": 0.201909,
     "end_time": "2022-03-27T16:47:46.961752",
     "exception": false,
     "start_time": "2022-03-27T16:47:46.759843",
     "status": "completed"
    },
    "tags": []
   },
   "outputs": [
    {
     "data": {
      "text/plain": [
       "'0909370001 0865799006 0918522001 0924243001 0448509014 0751471001 0809238001 0918292001 0762846027 0809238005 0673677002 0923758001'"
      ]
     },
     "execution_count": 114,
     "metadata": {},
     "output_type": "execute_result"
    }
   ],
   "source": [
    "general_pred_str"
   ]
  },
  {
   "cell_type": "code",
   "execution_count": 115,
   "id": "a72a293f",
   "metadata": {
    "editable": false,
    "execution": {
     "iopub.execute_input": "2022-03-27T16:47:47.355472Z",
     "iopub.status.busy": "2022-03-27T16:47:47.354258Z",
     "iopub.status.idle": "2022-03-27T16:47:47.506664Z",
     "shell.execute_reply": "2022-03-27T16:47:47.506064Z",
     "shell.execute_reply.started": "2022-03-27T16:00:53.115259Z"
    },
    "papermill": {
     "duration": 0.353533,
     "end_time": "2022-03-27T16:47:47.506811",
     "exception": false,
     "start_time": "2022-03-27T16:47:47.153278",
     "status": "completed"
    },
    "tags": []
   },
   "outputs": [],
   "source": [
    "sub_id  = cudf.read_csv('../input/h-and-m-personalized-fashion-recommendations/sample_submission.csv',\n",
    "                                usecols= ['customer_id'], \n",
    "                                dtype={'customer_id': 'string'})\n",
    "cid = cudf.DataFrame(sub_id['customer_id'].str[-16:].str.hex_to_int().astype('int64'))"
   ]
  },
  {
   "cell_type": "code",
   "execution_count": 116,
   "id": "a3173477",
   "metadata": {
    "editable": false,
    "execution": {
     "iopub.execute_input": "2022-03-27T16:47:47.891652Z",
     "iopub.status.busy": "2022-03-27T16:47:47.890494Z",
     "iopub.status.idle": "2022-03-27T16:47:47.892874Z",
     "shell.execute_reply": "2022-03-27T16:47:47.893400Z",
     "shell.execute_reply.started": "2022-03-27T16:00:53.279179Z"
    },
    "papermill": {
     "duration": 0.19622,
     "end_time": "2022-03-27T16:47:47.893551",
     "exception": false,
     "start_time": "2022-03-27T16:47:47.697331",
     "status": "completed"
    },
    "tags": []
   },
   "outputs": [],
   "source": [
    "cid[\"customer_id\"] = cid[\"customer_id\"].astype(\"int64\")"
   ]
  },
  {
   "cell_type": "code",
   "execution_count": 117,
   "id": "40d136d6",
   "metadata": {
    "editable": false,
    "execution": {
     "iopub.execute_input": "2022-03-27T16:47:48.271089Z",
     "iopub.status.busy": "2022-03-27T16:47:48.269965Z",
     "iopub.status.idle": "2022-03-27T16:47:50.072004Z",
     "shell.execute_reply": "2022-03-27T16:47:50.072542Z",
     "shell.execute_reply.started": "2022-03-27T16:00:53.28539Z"
    },
    "papermill": {
     "duration": 1.991412,
     "end_time": "2022-03-27T16:47:50.072733",
     "exception": false,
     "start_time": "2022-03-27T16:47:48.081321",
     "status": "completed"
    },
    "tags": []
   },
   "outputs": [],
   "source": [
    "def iter_to_str(iterable):\n",
    "    return \" \".join(map(lambda x: str(0) + str(x), iterable))\n",
    "real = val.to_pandas().groupby('customer_id')[\"article_id\"].apply(iter_to_str).reset_index()"
   ]
  },
  {
   "cell_type": "code",
   "execution_count": 118,
   "id": "72c410b0",
   "metadata": {
    "editable": false,
    "execution": {
     "iopub.execute_input": "2022-03-27T16:47:50.454114Z",
     "iopub.status.busy": "2022-03-27T16:47:50.451304Z",
     "iopub.status.idle": "2022-03-27T16:47:50.960059Z",
     "shell.execute_reply": "2022-03-27T16:47:50.960652Z",
     "shell.execute_reply.started": "2022-03-27T16:00:54.599265Z"
    },
    "papermill": {
     "duration": 0.699991,
     "end_time": "2022-03-27T16:47:50.960842",
     "exception": false,
     "start_time": "2022-03-27T16:47:50.260851",
     "status": "completed"
    },
    "tags": []
   },
   "outputs": [],
   "source": [
    "real = real.merge(cid.to_pandas(), on='customer_id', how='inner')\n",
    "real.article_id = real.article_id.apply(lambda s: [] if pd.isna(s) else s.split())"
   ]
  },
  {
   "cell_type": "code",
   "execution_count": 119,
   "id": "4b4082a1",
   "metadata": {
    "editable": false,
    "execution": {
     "iopub.execute_input": "2022-03-27T16:47:51.357852Z",
     "iopub.status.busy": "2022-03-27T16:47:51.356913Z",
     "iopub.status.idle": "2022-03-27T16:47:51.364535Z",
     "shell.execute_reply": "2022-03-27T16:47:51.363608Z",
     "shell.execute_reply.started": "2022-03-27T16:00:54.924443Z"
    },
    "papermill": {
     "duration": 0.210935,
     "end_time": "2022-03-27T16:47:51.364697",
     "exception": false,
     "start_time": "2022-03-27T16:47:51.153762",
     "status": "completed"
    },
    "tags": []
   },
   "outputs": [
    {
     "data": {
      "text/html": [
       "<div>\n",
       "<style scoped>\n",
       "    .dataframe tbody tr th:only-of-type {\n",
       "        vertical-align: middle;\n",
       "    }\n",
       "\n",
       "    .dataframe tbody tr th {\n",
       "        vertical-align: top;\n",
       "    }\n",
       "\n",
       "    .dataframe thead th {\n",
       "        text-align: right;\n",
       "    }\n",
       "</style>\n",
       "<table border=\"1\" class=\"dataframe\">\n",
       "  <thead>\n",
       "    <tr style=\"text-align: right;\">\n",
       "      <th></th>\n",
       "      <th>customer_id</th>\n",
       "      <th>article_id</th>\n",
       "    </tr>\n",
       "  </thead>\n",
       "  <tbody>\n",
       "    <tr>\n",
       "      <th>0</th>\n",
       "      <td>-9223100958908512198</td>\n",
       "      <td>[0785034009, 0673677027, 0673677024]</td>\n",
       "    </tr>\n",
       "    <tr>\n",
       "      <th>1</th>\n",
       "      <td>-9223002534477110135</td>\n",
       "      <td>[0793699001]</td>\n",
       "    </tr>\n",
       "    <tr>\n",
       "      <th>2</th>\n",
       "      <td>-9222810895170663723</td>\n",
       "      <td>[0892309001, 0903306004]</td>\n",
       "    </tr>\n",
       "    <tr>\n",
       "      <th>3</th>\n",
       "      <td>-9221924794303263774</td>\n",
       "      <td>[0888343003, 0892857002, 0708138013]</td>\n",
       "    </tr>\n",
       "    <tr>\n",
       "      <th>4</th>\n",
       "      <td>-9221811157628158522</td>\n",
       "      <td>[0891663002]</td>\n",
       "    </tr>\n",
       "    <tr>\n",
       "      <th>...</th>\n",
       "      <td>...</td>\n",
       "      <td>...</td>\n",
       "    </tr>\n",
       "    <tr>\n",
       "      <th>68979</th>\n",
       "      <td>9221607025486275188</td>\n",
       "      <td>[0751994003, 0699755081, 0699755071]</td>\n",
       "    </tr>\n",
       "    <tr>\n",
       "      <th>68980</th>\n",
       "      <td>9221813808370389952</td>\n",
       "      <td>[0869331006, 0562245099, 0865929002]</td>\n",
       "    </tr>\n",
       "    <tr>\n",
       "      <th>68981</th>\n",
       "      <td>9222310594107555341</td>\n",
       "      <td>[0884319001, 0884319003]</td>\n",
       "    </tr>\n",
       "    <tr>\n",
       "      <th>68982</th>\n",
       "      <td>9223099843213569889</td>\n",
       "      <td>[0903924002]</td>\n",
       "    </tr>\n",
       "    <tr>\n",
       "      <th>68983</th>\n",
       "      <td>9223141695752178477</td>\n",
       "      <td>[0914441003]</td>\n",
       "    </tr>\n",
       "  </tbody>\n",
       "</table>\n",
       "<p>68984 rows × 2 columns</p>\n",
       "</div>"
      ],
      "text/plain": [
       "               customer_id                            article_id\n",
       "0     -9223100958908512198  [0785034009, 0673677027, 0673677024]\n",
       "1     -9223002534477110135                          [0793699001]\n",
       "2     -9222810895170663723              [0892309001, 0903306004]\n",
       "3     -9221924794303263774  [0888343003, 0892857002, 0708138013]\n",
       "4     -9221811157628158522                          [0891663002]\n",
       "...                    ...                                   ...\n",
       "68979  9221607025486275188  [0751994003, 0699755081, 0699755071]\n",
       "68980  9221813808370389952  [0869331006, 0562245099, 0865929002]\n",
       "68981  9222310594107555341              [0884319001, 0884319003]\n",
       "68982  9223099843213569889                          [0903924002]\n",
       "68983  9223141695752178477                          [0914441003]\n",
       "\n",
       "[68984 rows x 2 columns]"
      ]
     },
     "execution_count": 119,
     "metadata": {},
     "output_type": "execute_result"
    }
   ],
   "source": [
    "real"
   ]
  },
  {
   "cell_type": "code",
   "execution_count": 120,
   "id": "01a18d67",
   "metadata": {
    "editable": false,
    "execution": {
     "iopub.execute_input": "2022-03-27T16:47:52.050342Z",
     "iopub.status.busy": "2022-03-27T16:47:52.048983Z",
     "iopub.status.idle": "2022-03-27T16:47:54.797919Z",
     "shell.execute_reply": "2022-03-27T16:47:54.797365Z",
     "shell.execute_reply.started": "2022-03-27T16:00:54.940126Z"
    },
    "papermill": {
     "duration": 3.243496,
     "end_time": "2022-03-27T16:47:54.798105",
     "exception": false,
     "start_time": "2022-03-27T16:47:51.554609",
     "status": "completed"
    },
    "tags": []
   },
   "outputs": [],
   "source": [
    "sub[\"prediction\"] = sub[\"prediction\"].fillna(general_pred_str)\n",
    "sub['prediction'] = sub['prediction'] + ' ' +  general_pred_str\n",
    "sub['prediction'] = sub['prediction'].str[:131]"
   ]
  },
  {
   "cell_type": "code",
   "execution_count": 121,
   "id": "5a6eb464",
   "metadata": {
    "editable": false,
    "execution": {
     "iopub.execute_input": "2022-03-27T16:47:55.199463Z",
     "iopub.status.busy": "2022-03-27T16:47:55.198517Z",
     "iopub.status.idle": "2022-03-27T16:47:55.202725Z",
     "shell.execute_reply": "2022-03-27T16:47:55.203303Z",
     "shell.execute_reply.started": "2022-03-27T16:00:58.045454Z"
    },
    "papermill": {
     "duration": 0.213078,
     "end_time": "2022-03-27T16:47:55.203458",
     "exception": false,
     "start_time": "2022-03-27T16:47:54.990380",
     "status": "completed"
    },
    "tags": []
   },
   "outputs": [
    {
     "data": {
      "text/html": [
       "<div>\n",
       "<style scoped>\n",
       "    .dataframe tbody tr th:only-of-type {\n",
       "        vertical-align: middle;\n",
       "    }\n",
       "\n",
       "    .dataframe tbody tr th {\n",
       "        vertical-align: top;\n",
       "    }\n",
       "\n",
       "    .dataframe thead th {\n",
       "        text-align: right;\n",
       "    }\n",
       "</style>\n",
       "<table border=\"1\" class=\"dataframe\">\n",
       "  <thead>\n",
       "    <tr style=\"text-align: right;\">\n",
       "      <th></th>\n",
       "      <th>customer_id</th>\n",
       "      <th>article_id</th>\n",
       "    </tr>\n",
       "  </thead>\n",
       "  <tbody>\n",
       "    <tr>\n",
       "      <th>0</th>\n",
       "      <td>-9223100958908512198</td>\n",
       "      <td>[0785034009, 0673677027, 0673677024]</td>\n",
       "    </tr>\n",
       "    <tr>\n",
       "      <th>1</th>\n",
       "      <td>-9223002534477110135</td>\n",
       "      <td>[0793699001]</td>\n",
       "    </tr>\n",
       "    <tr>\n",
       "      <th>2</th>\n",
       "      <td>-9222810895170663723</td>\n",
       "      <td>[0892309001, 0903306004]</td>\n",
       "    </tr>\n",
       "    <tr>\n",
       "      <th>3</th>\n",
       "      <td>-9221924794303263774</td>\n",
       "      <td>[0888343003, 0892857002, 0708138013]</td>\n",
       "    </tr>\n",
       "    <tr>\n",
       "      <th>4</th>\n",
       "      <td>-9221811157628158522</td>\n",
       "      <td>[0891663002]</td>\n",
       "    </tr>\n",
       "    <tr>\n",
       "      <th>...</th>\n",
       "      <td>...</td>\n",
       "      <td>...</td>\n",
       "    </tr>\n",
       "    <tr>\n",
       "      <th>68979</th>\n",
       "      <td>9221607025486275188</td>\n",
       "      <td>[0751994003, 0699755081, 0699755071]</td>\n",
       "    </tr>\n",
       "    <tr>\n",
       "      <th>68980</th>\n",
       "      <td>9221813808370389952</td>\n",
       "      <td>[0869331006, 0562245099, 0865929002]</td>\n",
       "    </tr>\n",
       "    <tr>\n",
       "      <th>68981</th>\n",
       "      <td>9222310594107555341</td>\n",
       "      <td>[0884319001, 0884319003]</td>\n",
       "    </tr>\n",
       "    <tr>\n",
       "      <th>68982</th>\n",
       "      <td>9223099843213569889</td>\n",
       "      <td>[0903924002]</td>\n",
       "    </tr>\n",
       "    <tr>\n",
       "      <th>68983</th>\n",
       "      <td>9223141695752178477</td>\n",
       "      <td>[0914441003]</td>\n",
       "    </tr>\n",
       "  </tbody>\n",
       "</table>\n",
       "<p>68984 rows × 2 columns</p>\n",
       "</div>"
      ],
      "text/plain": [
       "               customer_id                            article_id\n",
       "0     -9223100958908512198  [0785034009, 0673677027, 0673677024]\n",
       "1     -9223002534477110135                          [0793699001]\n",
       "2     -9222810895170663723              [0892309001, 0903306004]\n",
       "3     -9221924794303263774  [0888343003, 0892857002, 0708138013]\n",
       "4     -9221811157628158522                          [0891663002]\n",
       "...                    ...                                   ...\n",
       "68979  9221607025486275188  [0751994003, 0699755081, 0699755071]\n",
       "68980  9221813808370389952  [0869331006, 0562245099, 0865929002]\n",
       "68981  9222310594107555341              [0884319001, 0884319003]\n",
       "68982  9223099843213569889                          [0903924002]\n",
       "68983  9223141695752178477                          [0914441003]\n",
       "\n",
       "[68984 rows x 2 columns]"
      ]
     },
     "execution_count": 121,
     "metadata": {},
     "output_type": "execute_result"
    }
   ],
   "source": [
    "real"
   ]
  },
  {
   "cell_type": "code",
   "execution_count": 122,
   "id": "ebed89ff",
   "metadata": {
    "editable": false,
    "execution": {
     "iopub.execute_input": "2022-03-27T16:47:55.593812Z",
     "iopub.status.busy": "2022-03-27T16:47:55.592796Z",
     "iopub.status.idle": "2022-03-27T16:47:55.596226Z",
     "shell.execute_reply": "2022-03-27T16:47:55.595576Z",
     "shell.execute_reply.started": "2022-03-27T16:00:58.063711Z"
    },
    "papermill": {
     "duration": 0.198439,
     "end_time": "2022-03-27T16:47:55.596358",
     "exception": false,
     "start_time": "2022-03-27T16:47:55.397919",
     "status": "completed"
    },
    "tags": []
   },
   "outputs": [],
   "source": [
    "#sub[:10000].groupby([\"customer_id\"])[\"article_id\"].agg(lambda x: \" \".join(x).strip()[:131])"
   ]
  },
  {
   "cell_type": "code",
   "execution_count": 123,
   "id": "74d26501",
   "metadata": {
    "editable": false,
    "execution": {
     "iopub.execute_input": "2022-03-27T16:47:56.027850Z",
     "iopub.status.busy": "2022-03-27T16:47:56.026586Z",
     "iopub.status.idle": "2022-03-27T16:47:56.030325Z",
     "shell.execute_reply": "2022-03-27T16:47:56.029731Z",
     "shell.execute_reply.started": "2022-03-27T16:00:58.071696Z"
    },
    "papermill": {
     "duration": 0.200432,
     "end_time": "2022-03-27T16:47:56.030460",
     "exception": false,
     "start_time": "2022-03-27T16:47:55.830028",
     "status": "completed"
    },
    "tags": []
   },
   "outputs": [],
   "source": [
    "#final"
   ]
  },
  {
   "cell_type": "markdown",
   "id": "cb599497",
   "metadata": {
    "editable": false,
    "papermill": {
     "duration": 0.189615,
     "end_time": "2022-03-27T16:47:56.419093",
     "exception": false,
     "start_time": "2022-03-27T16:47:56.229478",
     "status": "completed"
    },
    "tags": []
   },
   "source": [
    "## 验证集评估"
   ]
  },
  {
   "cell_type": "code",
   "execution_count": 124,
   "id": "989c6c36",
   "metadata": {
    "editable": false,
    "execution": {
     "iopub.execute_input": "2022-03-27T16:47:56.965703Z",
     "iopub.status.busy": "2022-03-27T16:47:56.964234Z",
     "iopub.status.idle": "2022-03-27T16:47:56.972538Z",
     "shell.execute_reply": "2022-03-27T16:47:56.971953Z",
     "shell.execute_reply.started": "2022-03-27T16:00:58.079615Z"
    },
    "papermill": {
     "duration": 0.365612,
     "end_time": "2022-03-27T16:47:56.972684",
     "exception": false,
     "start_time": "2022-03-27T16:47:56.607072",
     "status": "completed"
    },
    "tags": []
   },
   "outputs": [
    {
     "data": {
      "text/plain": [
       "142"
      ]
     },
     "execution_count": 124,
     "metadata": {},
     "output_type": "execute_result"
    }
   ],
   "source": [
    "gc.collect()"
   ]
  },
  {
   "cell_type": "code",
   "execution_count": 125,
   "id": "7dbfdb9d",
   "metadata": {
    "editable": false,
    "execution": {
     "iopub.execute_input": "2022-03-27T16:47:57.385906Z",
     "iopub.status.busy": "2022-03-27T16:47:57.362341Z",
     "iopub.status.idle": "2022-03-27T16:47:57.460516Z",
     "shell.execute_reply": "2022-03-27T16:47:57.461007Z",
     "shell.execute_reply.started": "2022-03-27T16:00:58.242257Z"
    },
    "papermill": {
     "duration": 0.292773,
     "end_time": "2022-03-27T16:47:57.461230",
     "exception": false,
     "start_time": "2022-03-27T16:47:57.168457",
     "status": "completed"
    },
    "tags": []
   },
   "outputs": [],
   "source": [
    "import numpy as np, pandas as pd, datetime as dt\n",
    "import matplotlib.pyplot as plt; plt.style.use('ggplot')\n",
    "import seaborn as sns\n",
    "from collections import defaultdict\n",
    "\n",
    "def iter_to_str(iterable):\n",
    "    return \" \".join(map(lambda x: str(0) + str(x), iterable))\n",
    "\n",
    "def apk(actual, predicted, k=12):\n",
    "    if len(predicted) > k:\n",
    "        predicted = predicted[:k]\n",
    "    score, nhits = 0.0, 0.0\n",
    "    for i, p in enumerate(predicted):\n",
    "        if p in actual and p not in predicted[:i]:\n",
    "            nhits += 1.0\n",
    "            score += nhits / (i + 1.0)\n",
    "    if not actual:\n",
    "        return 0.0\n",
    "    return score / min(len(actual), k)\n",
    "\n",
    "def mapk(actual, predicted, k=12, return_apks=False):\n",
    "    assert len(actual) == len(predicted)\n",
    "    apks = [apk(ac, pr, k) for ac, pr in zip(actual, predicted) if 0 < len(ac)]\n",
    "    if return_apks:\n",
    "        return apks\n",
    "    return np.mean(apks)\n",
    "\n",
    "def blend(dt, w=[], k=12):\n",
    "    if len(w) == 0:\n",
    "        w = [1] * (len(dt))\n",
    "    preds = []\n",
    "    for i in range(len(w)):\n",
    "        preds.append(dt[i].split())\n",
    "    res = {}\n",
    "    for i in range(len(preds)):\n",
    "        if w[i] < 0:\n",
    "            continue\n",
    "        for n, v in enumerate(preds[i]):\n",
    "            if v in res:\n",
    "                res[v] += (w[i] / (n + 1))\n",
    "            else:\n",
    "                res[v] = (w[i] / (n + 1))    \n",
    "    res = list(dict(sorted(res.items(), key=lambda item: -item[1])).keys())\n",
    "    return ' '.join(res[:k])\n",
    "\n",
    "def prune(pred, ok_set, k=12):\n",
    "    pred = pred.split()\n",
    "    post = []\n",
    "    for item in pred:\n",
    "        if int(item) in ok_set and not item in post:\n",
    "            post.append(item)\n",
    "    return \" \".join(post[:k])\n",
    "\n",
    "def validation(actual, predicted, groups, score=0, index=-1, ignore=False, figsize=(22, 6), name = \"\"):\n",
    "    # actual, predicted : list of lists\n",
    "    # group : pandas Series\n",
    "    # score : pandas DataFrame\n",
    "    if ignore: return\n",
    "    ap12 = mapk(actual, predicted, return_apks=True)\n",
    "    smap12 = round(np.mean(ap12), 6)\n",
    "    group_num = len(groups)\n",
    "    plt.figure(figsize=figsize)\n",
    "    plt.subplot(1, 1+group_num, 1); sns.histplot(data=ap12, log_scale=(0, 10), bins=20); plt.title(f\"MAP@12 : {smap12}\")\n",
    "    count = 2\n",
    "    for name, group in groups.items():\n",
    "        score = pd.DataFrame({g:[] for g in sorted(group.unique().tolist())})\n",
    "        if index == -1 : index = score.shape[0]\n",
    "        score.loc[index, \"All\"] = smap12\n",
    "        for g in group.unique():\n",
    "            map12 = round(mapk(actual[group == g], predicted[group == g]), 6)\n",
    "            score.loc[index, g] = map12\n",
    "        plt.subplot(1, 1+group_num, count)\n",
    "        score[[g for g in sorted(group.unique(), key = lambda x: x if type(x) is np.float64 else float(x.replace(\"(\", \"1\").split(\",\")[0]))[::-1]] + ['All']].loc[index].plot.barh()\n",
    "        plt.title(\"{} MAP@12\".format(name))\n",
    "        count += 1\n",
    "        vc = pd.Series(predicted).apply(len).value_counts()\n",
    "        score.loc[index, \"Fill\"] = round(1 - sum(vc[k] * (12 - k) / 12 for k in (set(range(12)) & set(vc.index))) / len(actual), 3) * 100\n",
    "        display(score)\n",
    "    return score"
   ]
  },
  {
   "cell_type": "code",
   "execution_count": 126,
   "id": "c3675810",
   "metadata": {
    "editable": false,
    "execution": {
     "iopub.execute_input": "2022-03-27T16:47:57.850611Z",
     "iopub.status.busy": "2022-03-27T16:47:57.849709Z",
     "iopub.status.idle": "2022-03-27T16:47:57.879891Z",
     "shell.execute_reply": "2022-03-27T16:47:57.879328Z",
     "shell.execute_reply.started": "2022-03-27T16:00:58.328168Z"
    },
    "papermill": {
     "duration": 0.229994,
     "end_time": "2022-03-27T16:47:57.880035",
     "exception": false,
     "start_time": "2022-03-27T16:47:57.650041",
     "status": "completed"
    },
    "tags": []
   },
   "outputs": [],
   "source": [
    "group = val.groupby('customer_id').sales_channel_id.mean().round().reset_index()\\\n",
    "    .merge(cid, on='customer_id', how='inner').rename(columns={'sales_channel_id':'group'})\n",
    "group = group.set_index('customer_id').loc[real.customer_id].reset_index()\n",
    "channal_group = group.group.fillna(3)"
   ]
  },
  {
   "cell_type": "code",
   "execution_count": 127,
   "id": "a5dd0a3b",
   "metadata": {
    "editable": false,
    "execution": {
     "iopub.execute_input": "2022-03-27T16:47:58.276466Z",
     "iopub.status.busy": "2022-03-27T16:47:58.275104Z",
     "iopub.status.idle": "2022-03-27T16:48:06.372675Z",
     "shell.execute_reply": "2022-03-27T16:48:06.371514Z",
     "shell.execute_reply.started": "2022-03-27T16:00:58.356271Z"
    },
    "papermill": {
     "duration": 8.299888,
     "end_time": "2022-03-27T16:48:06.372830",
     "exception": false,
     "start_time": "2022-03-27T16:47:58.072942",
     "status": "completed"
    },
    "tags": []
   },
   "outputs": [],
   "source": [
    "customer[\"age_type\"] = pd.cut(customer.to_pandas()[\"age\"], bins = np.array([0, 21, 24, 27, 30, 35, 40, 45, 50, 60, 9999], dtype = \"int32\"), right = True).astype(\"string\")\n",
    "group = customer.rename(columns={'age_type':'group'}).set_index('customer_id').loc[real.customer_id].reset_index()\n",
    "age_group = group.group.fillna(\"-1\")"
   ]
  },
  {
   "cell_type": "code",
   "execution_count": 128,
   "id": "98c249b4",
   "metadata": {
    "editable": false,
    "execution": {
     "iopub.execute_input": "2022-03-27T16:48:06.760474Z",
     "iopub.status.busy": "2022-03-27T16:48:06.759365Z",
     "iopub.status.idle": "2022-03-27T16:48:06.989484Z",
     "shell.execute_reply": "2022-03-27T16:48:06.988889Z",
     "shell.execute_reply.started": "2022-03-27T16:01:04.627725Z"
    },
    "papermill": {
     "duration": 0.425278,
     "end_time": "2022-03-27T16:48:06.989646",
     "exception": false,
     "start_time": "2022-03-27T16:48:06.564368",
     "status": "completed"
    },
    "tags": []
   },
   "outputs": [],
   "source": [
    "group = val.groupby('customer_id').sales_channel_id.count().round().reset_index()\\\n",
    "    .merge(cid, on='customer_id', how='inner').rename(columns={'sales_channel_id':'group'})\n",
    "group[\"group\"] = pd.cut(group[\"group\"].to_pandas(), bins = np.array([0, 1, 2, 3, 5, 10, 20, 9999], dtype = \"int32\"), right = True).astype(\"string\")\n",
    "group = group.set_index('customer_id').loc[real.customer_id].reset_index()\n",
    "count_group = group.group.fillna(0)"
   ]
  },
  {
   "cell_type": "code",
   "execution_count": 129,
   "id": "a12f3c0e",
   "metadata": {
    "editable": false,
    "execution": {
     "iopub.execute_input": "2022-03-27T16:48:07.376349Z",
     "iopub.status.busy": "2022-03-27T16:48:07.375218Z",
     "iopub.status.idle": "2022-03-27T16:48:07.433942Z",
     "shell.execute_reply": "2022-03-27T16:48:07.434591Z",
     "shell.execute_reply.started": "2022-03-27T16:01:04.843842Z"
    },
    "papermill": {
     "duration": 0.25641,
     "end_time": "2022-03-27T16:48:07.434763",
     "exception": false,
     "start_time": "2022-03-27T16:48:07.178353",
     "status": "completed"
    },
    "tags": []
   },
   "outputs": [
    {
     "data": {
      "text/html": [
       "<div>\n",
       "<style scoped>\n",
       "    .dataframe tbody tr th:only-of-type {\n",
       "        vertical-align: middle;\n",
       "    }\n",
       "\n",
       "    .dataframe tbody tr th {\n",
       "        vertical-align: top;\n",
       "    }\n",
       "\n",
       "    .dataframe thead th {\n",
       "        text-align: right;\n",
       "    }\n",
       "</style>\n",
       "<table border=\"1\" class=\"dataframe\">\n",
       "  <thead>\n",
       "    <tr style=\"text-align: right;\">\n",
       "      <th></th>\n",
       "      <th>customer_id</th>\n",
       "    </tr>\n",
       "  </thead>\n",
       "  <tbody>\n",
       "    <tr>\n",
       "      <th>31718581</th>\n",
       "      <td>-9223100958908512198</td>\n",
       "    </tr>\n",
       "    <tr>\n",
       "      <th>31723712</th>\n",
       "      <td>-9223002534477110135</td>\n",
       "    </tr>\n",
       "    <tr>\n",
       "      <th>31668649</th>\n",
       "      <td>-9222810895170663723</td>\n",
       "    </tr>\n",
       "    <tr>\n",
       "      <th>31664044</th>\n",
       "      <td>-9221924794303263774</td>\n",
       "    </tr>\n",
       "    <tr>\n",
       "      <th>31782993</th>\n",
       "      <td>-9221811157628158522</td>\n",
       "    </tr>\n",
       "    <tr>\n",
       "      <th>...</th>\n",
       "      <td>...</td>\n",
       "    </tr>\n",
       "    <tr>\n",
       "      <th>31575924</th>\n",
       "      <td>9221607025486275188</td>\n",
       "    </tr>\n",
       "    <tr>\n",
       "      <th>31692865</th>\n",
       "      <td>9221813808370389952</td>\n",
       "    </tr>\n",
       "    <tr>\n",
       "      <th>31681512</th>\n",
       "      <td>9222310594107555341</td>\n",
       "    </tr>\n",
       "    <tr>\n",
       "      <th>31712352</th>\n",
       "      <td>9223099843213569889</td>\n",
       "    </tr>\n",
       "    <tr>\n",
       "      <th>31622943</th>\n",
       "      <td>9223141695752178477</td>\n",
       "    </tr>\n",
       "  </tbody>\n",
       "</table>\n",
       "<p>68984 rows × 1 columns</p>\n",
       "</div>"
      ],
      "text/plain": [
       "                  customer_id\n",
       "31718581 -9223100958908512198\n",
       "31723712 -9223002534477110135\n",
       "31668649 -9222810895170663723\n",
       "31664044 -9221924794303263774\n",
       "31782993 -9221811157628158522\n",
       "...                       ...\n",
       "31575924  9221607025486275188\n",
       "31692865  9221813808370389952\n",
       "31681512  9222310594107555341\n",
       "31712352  9223099843213569889\n",
       "31622943  9223141695752178477\n",
       "\n",
       "[68984 rows x 1 columns]"
      ]
     },
     "execution_count": 129,
     "metadata": {},
     "output_type": "execute_result"
    }
   ],
   "source": [
    "val[['customer_id']].drop_duplicates()"
   ]
  },
  {
   "cell_type": "code",
   "execution_count": 130,
   "id": "5152fb50",
   "metadata": {
    "editable": false,
    "execution": {
     "iopub.execute_input": "2022-03-27T16:48:07.830806Z",
     "iopub.status.busy": "2022-03-27T16:48:07.829776Z",
     "iopub.status.idle": "2022-03-27T16:48:08.106433Z",
     "shell.execute_reply": "2022-03-27T16:48:08.105498Z",
     "shell.execute_reply.started": "2022-03-27T16:01:04.894898Z"
    },
    "papermill": {
     "duration": 0.478942,
     "end_time": "2022-03-27T16:48:08.106677",
     "exception": false,
     "start_time": "2022-03-27T16:48:07.627735",
     "status": "completed"
    },
    "tags": []
   },
   "outputs": [],
   "source": [
    "group = train.groupby('customer_id').sales_channel_id.count().round().reset_index()\\\n",
    "    .merge(val[['customer_id']].drop_duplicates(), on = \"customer_id\", how = \"right\")\\\n",
    "    .merge(cid, on='customer_id', how='inner').rename(columns={'sales_channel_id':'group'})\n",
    "group[\"group\"] = pd.cut(group[\"group\"].to_pandas(), bins = np.array([0, 5, 10, 20, 35, 50, 100], dtype = \"int32\"), right = True).astype(\"string\")\n",
    "group = group.set_index('customer_id').loc[real.customer_id].reset_index()\n",
    "his_count_group = group.group.fillna(0)"
   ]
  },
  {
   "cell_type": "code",
   "execution_count": 131,
   "id": "1ef4b153",
   "metadata": {
    "editable": false,
    "execution": {
     "iopub.execute_input": "2022-03-27T16:48:08.500719Z",
     "iopub.status.busy": "2022-03-27T16:48:08.499703Z",
     "iopub.status.idle": "2022-03-27T16:48:08.510026Z",
     "shell.execute_reply": "2022-03-27T16:48:08.510711Z",
     "shell.execute_reply.started": "2022-03-27T16:01:05.15117Z"
    },
    "papermill": {
     "duration": 0.208109,
     "end_time": "2022-03-27T16:48:08.510882",
     "exception": false,
     "start_time": "2022-03-27T16:48:08.302773",
     "status": "completed"
    },
    "tags": []
   },
   "outputs": [
    {
     "data": {
      "text/plain": [
       "0        (30.0, 35.0]\n",
       "1        (27.0, 30.0]\n",
       "2         (0.0, 21.0]\n",
       "3        (50.0, 60.0]\n",
       "4        (21.0, 24.0]\n",
       "             ...     \n",
       "68979    (40.0, 45.0]\n",
       "68980    (27.0, 30.0]\n",
       "68981    (30.0, 35.0]\n",
       "68982    (27.0, 30.0]\n",
       "68983     (0.0, 21.0]\n",
       "Name: group, Length: 68984, dtype: object"
      ]
     },
     "execution_count": 131,
     "metadata": {},
     "output_type": "execute_result"
    }
   ],
   "source": [
    "age_group"
   ]
  },
  {
   "cell_type": "code",
   "execution_count": 132,
   "id": "c0b123aa",
   "metadata": {
    "editable": false,
    "execution": {
     "iopub.execute_input": "2022-03-27T16:48:08.900412Z",
     "iopub.status.busy": "2022-03-27T16:48:08.899225Z",
     "iopub.status.idle": "2022-03-27T16:48:08.917379Z",
     "shell.execute_reply": "2022-03-27T16:48:08.916788Z",
     "shell.execute_reply.started": "2022-03-27T16:01:05.164384Z"
    },
    "papermill": {
     "duration": 0.215414,
     "end_time": "2022-03-27T16:48:08.917507",
     "exception": false,
     "start_time": "2022-03-27T16:48:08.702093",
     "status": "completed"
    },
    "tags": []
   },
   "outputs": [
    {
     "data": {
      "text/plain": [
       "2.0    40829\n",
       "1.0    28155\n",
       "Name: group, dtype: int32"
      ]
     },
     "execution_count": 132,
     "metadata": {},
     "output_type": "execute_result"
    }
   ],
   "source": [
    "channal_group.value_counts()"
   ]
  },
  {
   "cell_type": "code",
   "execution_count": 133,
   "id": "3455a29f",
   "metadata": {
    "editable": false,
    "execution": {
     "iopub.execute_input": "2022-03-27T16:48:09.311999Z",
     "iopub.status.busy": "2022-03-27T16:48:09.310420Z",
     "iopub.status.idle": "2022-03-27T16:48:09.549818Z",
     "shell.execute_reply": "2022-03-27T16:48:09.549233Z",
     "shell.execute_reply.started": "2022-03-27T16:01:05.183764Z"
    },
    "papermill": {
     "duration": 0.441664,
     "end_time": "2022-03-27T16:48:09.549965",
     "exception": false,
     "start_time": "2022-03-27T16:48:09.108301",
     "status": "completed"
    },
    "tags": []
   },
   "outputs": [],
   "source": [
    "sub = sub.set_index('customer_id').loc[real.customer_id].reset_index()"
   ]
  },
  {
   "cell_type": "code",
   "execution_count": 134,
   "id": "59e05639",
   "metadata": {
    "editable": false,
    "execution": {
     "iopub.execute_input": "2022-03-27T16:48:09.952566Z",
     "iopub.status.busy": "2022-03-27T16:48:09.945690Z",
     "iopub.status.idle": "2022-03-27T16:48:09.955785Z",
     "shell.execute_reply": "2022-03-27T16:48:09.956408Z",
     "shell.execute_reply.started": "2022-03-27T16:01:05.351175Z"
    },
    "papermill": {
     "duration": 0.212606,
     "end_time": "2022-03-27T16:48:09.956579",
     "exception": false,
     "start_time": "2022-03-27T16:48:09.743973",
     "status": "completed"
    },
    "tags": []
   },
   "outputs": [
    {
     "data": {
      "text/html": [
       "<div>\n",
       "<style scoped>\n",
       "    .dataframe tbody tr th:only-of-type {\n",
       "        vertical-align: middle;\n",
       "    }\n",
       "\n",
       "    .dataframe tbody tr th {\n",
       "        vertical-align: top;\n",
       "    }\n",
       "\n",
       "    .dataframe thead th {\n",
       "        text-align: right;\n",
       "    }\n",
       "</style>\n",
       "<table border=\"1\" class=\"dataframe\">\n",
       "  <thead>\n",
       "    <tr style=\"text-align: right;\">\n",
       "      <th></th>\n",
       "      <th>customer_id</th>\n",
       "      <th>prediction</th>\n",
       "    </tr>\n",
       "  </thead>\n",
       "  <tbody>\n",
       "    <tr>\n",
       "      <th>0</th>\n",
       "      <td>-9223100958908512198</td>\n",
       "      <td>0909911001 0909912001 0899976004 0924645001 07...</td>\n",
       "    </tr>\n",
       "    <tr>\n",
       "      <th>1</th>\n",
       "      <td>-9223002534477110135</td>\n",
       "      <td>0909370001 0706016002 0158340001 0809238001 09...</td>\n",
       "    </tr>\n",
       "    <tr>\n",
       "      <th>2</th>\n",
       "      <td>-9222810895170663723</td>\n",
       "      <td>0568601006 0759814022 0918522001 0685814003 06...</td>\n",
       "    </tr>\n",
       "    <tr>\n",
       "      <th>3</th>\n",
       "      <td>-9221924794303263774</td>\n",
       "      <td>0158340001 0707269003 0111593001 0372860001 07...</td>\n",
       "    </tr>\n",
       "    <tr>\n",
       "      <th>4</th>\n",
       "      <td>-9221811157628158522</td>\n",
       "      <td>0909370001 0448509014 0918522001 0918292001 08...</td>\n",
       "    </tr>\n",
       "    <tr>\n",
       "      <th>...</th>\n",
       "      <td>...</td>\n",
       "      <td>...</td>\n",
       "    </tr>\n",
       "    <tr>\n",
       "      <th>68979</th>\n",
       "      <td>9221607025486275188</td>\n",
       "      <td>0673677002 0816586002 0706016002 0156231001 07...</td>\n",
       "    </tr>\n",
       "    <tr>\n",
       "      <th>68980</th>\n",
       "      <td>9221813808370389952</td>\n",
       "      <td>0654590001 0714790020 0448509014 0749699002 06...</td>\n",
       "    </tr>\n",
       "    <tr>\n",
       "      <th>68981</th>\n",
       "      <td>9222310594107555341</td>\n",
       "      <td>0904416002 0904416001 0863646001 0863595002 08...</td>\n",
       "    </tr>\n",
       "    <tr>\n",
       "      <th>68982</th>\n",
       "      <td>9223099843213569889</td>\n",
       "      <td>0903773002 0776850001 0757909004 0706016002 08...</td>\n",
       "    </tr>\n",
       "    <tr>\n",
       "      <th>68983</th>\n",
       "      <td>9223141695752178477</td>\n",
       "      <td>0918522001 0685814003 0448509014 0918292001 07...</td>\n",
       "    </tr>\n",
       "  </tbody>\n",
       "</table>\n",
       "<p>68984 rows × 2 columns</p>\n",
       "</div>"
      ],
      "text/plain": [
       "               customer_id                                         prediction\n",
       "0     -9223100958908512198  0909911001 0909912001 0899976004 0924645001 07...\n",
       "1     -9223002534477110135  0909370001 0706016002 0158340001 0809238001 09...\n",
       "2     -9222810895170663723  0568601006 0759814022 0918522001 0685814003 06...\n",
       "3     -9221924794303263774  0158340001 0707269003 0111593001 0372860001 07...\n",
       "4     -9221811157628158522  0909370001 0448509014 0918522001 0918292001 08...\n",
       "...                    ...                                                ...\n",
       "68979  9221607025486275188  0673677002 0816586002 0706016002 0156231001 07...\n",
       "68980  9221813808370389952  0654590001 0714790020 0448509014 0749699002 06...\n",
       "68981  9222310594107555341  0904416002 0904416001 0863646001 0863595002 08...\n",
       "68982  9223099843213569889  0903773002 0776850001 0757909004 0706016002 08...\n",
       "68983  9223141695752178477  0918522001 0685814003 0448509014 0918292001 07...\n",
       "\n",
       "[68984 rows x 2 columns]"
      ]
     },
     "execution_count": 134,
     "metadata": {},
     "output_type": "execute_result"
    }
   ],
   "source": [
    "sub"
   ]
  },
  {
   "cell_type": "code",
   "execution_count": 135,
   "id": "c521d0c8",
   "metadata": {
    "editable": false,
    "execution": {
     "iopub.execute_input": "2022-03-27T16:48:10.351299Z",
     "iopub.status.busy": "2022-03-27T16:48:10.349814Z",
     "iopub.status.idle": "2022-03-27T16:48:10.371425Z",
     "shell.execute_reply": "2022-03-27T16:48:10.370855Z",
     "shell.execute_reply.started": "2022-03-27T16:01:05.365729Z"
    },
    "papermill": {
     "duration": 0.219683,
     "end_time": "2022-03-27T16:48:10.371610",
     "exception": false,
     "start_time": "2022-03-27T16:48:10.151927",
     "status": "completed"
    },
    "tags": []
   },
   "outputs": [
    {
     "data": {
      "text/plain": [
       "0                17646\n",
       "(50.0, 100.0]    14603\n",
       "(20.0, 35.0]     10527\n",
       "(10.0, 20.0]      8439\n",
       "(35.0, 50.0]      7675\n",
       "(0.0, 5.0]        5210\n",
       "(5.0, 10.0]       4884\n",
       "Name: group, dtype: int32"
      ]
     },
     "execution_count": 135,
     "metadata": {},
     "output_type": "execute_result"
    }
   ],
   "source": [
    "his_count_group.value_counts()"
   ]
  },
  {
   "cell_type": "code",
   "execution_count": 136,
   "id": "450b6af0",
   "metadata": {
    "editable": false,
    "execution": {
     "iopub.execute_input": "2022-03-27T16:48:10.781123Z",
     "iopub.status.busy": "2022-03-27T16:48:10.776205Z",
     "iopub.status.idle": "2022-03-27T16:48:10.935502Z",
     "shell.execute_reply": "2022-03-27T16:48:10.934886Z",
     "shell.execute_reply.started": "2022-03-27T16:01:05.386398Z"
    },
    "papermill": {
     "duration": 0.363833,
     "end_time": "2022-03-27T16:48:10.935696",
     "exception": false,
     "start_time": "2022-03-27T16:48:10.571863",
     "status": "completed"
    },
    "tags": []
   },
   "outputs": [],
   "source": [
    "prediction =  sub[\"prediction\"].apply(lambda s: [] if pd.isna(s) else s.split())"
   ]
  },
  {
   "cell_type": "code",
   "execution_count": 137,
   "id": "812538fb",
   "metadata": {
    "editable": false,
    "execution": {
     "iopub.execute_input": "2022-03-27T16:48:11.336265Z",
     "iopub.status.busy": "2022-03-27T16:48:11.335017Z",
     "iopub.status.idle": "2022-03-27T16:48:11.346448Z",
     "shell.execute_reply": "2022-03-27T16:48:11.346918Z",
     "shell.execute_reply.started": "2022-03-27T16:01:05.528628Z"
    },
    "papermill": {
     "duration": 0.213127,
     "end_time": "2022-03-27T16:48:11.347123",
     "exception": false,
     "start_time": "2022-03-27T16:48:11.133996",
     "status": "completed"
    },
    "tags": []
   },
   "outputs": [],
   "source": [
    "groups = {\"channal\":channal_group.to_pandas(),\n",
    "         \"age\":age_group.to_pandas(),\n",
    "         \"val_count\":count_group.to_pandas(),\n",
    "         \"train_count\": his_count_group.to_pandas()}"
   ]
  },
  {
   "cell_type": "code",
   "execution_count": 138,
   "id": "31c676a5",
   "metadata": {
    "editable": false,
    "execution": {
     "iopub.execute_input": "2022-03-27T16:48:11.744357Z",
     "iopub.status.busy": "2022-03-27T16:48:11.743252Z",
     "iopub.status.idle": "2022-03-27T16:48:11.765871Z",
     "shell.execute_reply": "2022-03-27T16:48:11.765144Z",
     "shell.execute_reply.started": "2022-03-27T16:01:05.54521Z"
    },
    "papermill": {
     "duration": 0.22374,
     "end_time": "2022-03-27T16:48:11.766026",
     "exception": false,
     "start_time": "2022-03-27T16:48:11.542286",
     "status": "completed"
    },
    "tags": []
   },
   "outputs": [
    {
     "data": {
      "text/plain": [
       "(0, 1]        19994\n",
       "(1, 2]        16386\n",
       "(3, 5]        10928\n",
       "(2, 3]        10075\n",
       "(5, 10]        8668\n",
       "(10, 20]       2571\n",
       "(20, 9999]      362\n",
       "Name: group, dtype: int32"
      ]
     },
     "execution_count": 138,
     "metadata": {},
     "output_type": "execute_result"
    }
   ],
   "source": [
    "count_group.value_counts()"
   ]
  },
  {
   "cell_type": "code",
   "execution_count": 139,
   "id": "85d85c2d",
   "metadata": {
    "editable": false,
    "execution": {
     "iopub.execute_input": "2022-03-27T16:48:12.168073Z",
     "iopub.status.busy": "2022-03-27T16:48:12.166956Z",
     "iopub.status.idle": "2022-03-27T16:48:12.170223Z",
     "shell.execute_reply": "2022-03-27T16:48:12.169619Z",
     "shell.execute_reply.started": "2022-03-27T16:01:05.564304Z"
    },
    "papermill": {
     "duration": 0.203023,
     "end_time": "2022-03-27T16:48:12.170350",
     "exception": false,
     "start_time": "2022-03-27T16:48:11.967327",
     "status": "completed"
    },
    "tags": []
   },
   "outputs": [],
   "source": [
    "#sorted(count_group.to_pandas().unique(), key = lambda x: float(x.replace(\"(\", \"1\").split(\",\")[0]))"
   ]
  },
  {
   "cell_type": "code",
   "execution_count": 140,
   "id": "d9da5266",
   "metadata": {
    "editable": false,
    "execution": {
     "iopub.execute_input": "2022-03-27T16:48:12.584357Z",
     "iopub.status.busy": "2022-03-27T16:48:12.582951Z",
     "iopub.status.idle": "2022-03-27T16:48:16.829136Z",
     "shell.execute_reply": "2022-03-27T16:48:16.828410Z",
     "shell.execute_reply.started": "2022-03-27T16:01:05.569532Z"
    },
    "papermill": {
     "duration": 4.464935,
     "end_time": "2022-03-27T16:48:16.829335",
     "exception": false,
     "start_time": "2022-03-27T16:48:12.364400",
     "status": "completed"
    },
    "tags": []
   },
   "outputs": [
    {
     "data": {
      "text/html": [
       "<div>\n",
       "<style scoped>\n",
       "    .dataframe tbody tr th:only-of-type {\n",
       "        vertical-align: middle;\n",
       "    }\n",
       "\n",
       "    .dataframe tbody tr th {\n",
       "        vertical-align: top;\n",
       "    }\n",
       "\n",
       "    .dataframe thead th {\n",
       "        text-align: right;\n",
       "    }\n",
       "</style>\n",
       "<table border=\"1\" class=\"dataframe\">\n",
       "  <thead>\n",
       "    <tr style=\"text-align: right;\">\n",
       "      <th></th>\n",
       "      <th>1.0</th>\n",
       "      <th>2.0</th>\n",
       "      <th>All</th>\n",
       "      <th>Fill</th>\n",
       "    </tr>\n",
       "  </thead>\n",
       "  <tbody>\n",
       "    <tr>\n",
       "      <th>Last Purchase</th>\n",
       "      <td>0.016763</td>\n",
       "      <td>0.032303</td>\n",
       "      <td>0.025961</td>\n",
       "      <td>100.0</td>\n",
       "    </tr>\n",
       "  </tbody>\n",
       "</table>\n",
       "</div>"
      ],
      "text/plain": [
       "                    1.0       2.0       All   Fill\n",
       "Last Purchase  0.016763  0.032303  0.025961  100.0"
      ]
     },
     "metadata": {},
     "output_type": "display_data"
    },
    {
     "data": {
      "text/html": [
       "<div>\n",
       "<style scoped>\n",
       "    .dataframe tbody tr th:only-of-type {\n",
       "        vertical-align: middle;\n",
       "    }\n",
       "\n",
       "    .dataframe tbody tr th {\n",
       "        vertical-align: top;\n",
       "    }\n",
       "\n",
       "    .dataframe thead th {\n",
       "        text-align: right;\n",
       "    }\n",
       "</style>\n",
       "<table border=\"1\" class=\"dataframe\">\n",
       "  <thead>\n",
       "    <tr style=\"text-align: right;\">\n",
       "      <th></th>\n",
       "      <th>(0.0, 21.0]</th>\n",
       "      <th>(21.0, 24.0]</th>\n",
       "      <th>(24.0, 27.0]</th>\n",
       "      <th>(27.0, 30.0]</th>\n",
       "      <th>(30.0, 35.0]</th>\n",
       "      <th>(35.0, 40.0]</th>\n",
       "      <th>(40.0, 45.0]</th>\n",
       "      <th>(45.0, 50.0]</th>\n",
       "      <th>(50.0, 60.0]</th>\n",
       "      <th>(60.0, 9999.0]</th>\n",
       "      <th>-1</th>\n",
       "      <th>All</th>\n",
       "      <th>Fill</th>\n",
       "    </tr>\n",
       "  </thead>\n",
       "  <tbody>\n",
       "    <tr>\n",
       "      <th>Last Purchase</th>\n",
       "      <td>0.023324</td>\n",
       "      <td>0.024585</td>\n",
       "      <td>0.02638</td>\n",
       "      <td>0.025322</td>\n",
       "      <td>0.025396</td>\n",
       "      <td>0.025297</td>\n",
       "      <td>0.027805</td>\n",
       "      <td>0.025838</td>\n",
       "      <td>0.027034</td>\n",
       "      <td>0.032748</td>\n",
       "      <td>0.030836</td>\n",
       "      <td>0.025961</td>\n",
       "      <td>100.0</td>\n",
       "    </tr>\n",
       "  </tbody>\n",
       "</table>\n",
       "</div>"
      ],
      "text/plain": [
       "               (0.0, 21.0]  (21.0, 24.0]  (24.0, 27.0]  (27.0, 30.0]  \\\n",
       "Last Purchase     0.023324      0.024585       0.02638      0.025322   \n",
       "\n",
       "               (30.0, 35.0]  (35.0, 40.0]  (40.0, 45.0]  (45.0, 50.0]  \\\n",
       "Last Purchase      0.025396      0.025297      0.027805      0.025838   \n",
       "\n",
       "               (50.0, 60.0]  (60.0, 9999.0]        -1       All   Fill  \n",
       "Last Purchase      0.027034        0.032748  0.030836  0.025961  100.0  "
      ]
     },
     "metadata": {},
     "output_type": "display_data"
    },
    {
     "data": {
      "text/html": [
       "<div>\n",
       "<style scoped>\n",
       "    .dataframe tbody tr th:only-of-type {\n",
       "        vertical-align: middle;\n",
       "    }\n",
       "\n",
       "    .dataframe tbody tr th {\n",
       "        vertical-align: top;\n",
       "    }\n",
       "\n",
       "    .dataframe thead th {\n",
       "        text-align: right;\n",
       "    }\n",
       "</style>\n",
       "<table border=\"1\" class=\"dataframe\">\n",
       "  <thead>\n",
       "    <tr style=\"text-align: right;\">\n",
       "      <th></th>\n",
       "      <th>(0, 1]</th>\n",
       "      <th>(1, 2]</th>\n",
       "      <th>(10, 20]</th>\n",
       "      <th>(2, 3]</th>\n",
       "      <th>(20, 9999]</th>\n",
       "      <th>(3, 5]</th>\n",
       "      <th>(5, 10]</th>\n",
       "      <th>All</th>\n",
       "      <th>Fill</th>\n",
       "    </tr>\n",
       "  </thead>\n",
       "  <tbody>\n",
       "    <tr>\n",
       "      <th>Last Purchase</th>\n",
       "      <td>0.04278</td>\n",
       "      <td>0.025671</td>\n",
       "      <td>0.012172</td>\n",
       "      <td>0.020221</td>\n",
       "      <td>0.021034</td>\n",
       "      <td>0.01487</td>\n",
       "      <td>0.012661</td>\n",
       "      <td>0.025961</td>\n",
       "      <td>100.0</td>\n",
       "    </tr>\n",
       "  </tbody>\n",
       "</table>\n",
       "</div>"
      ],
      "text/plain": [
       "                (0, 1]    (1, 2]  (10, 20]    (2, 3]  (20, 9999]   (3, 5]  \\\n",
       "Last Purchase  0.04278  0.025671  0.012172  0.020221    0.021034  0.01487   \n",
       "\n",
       "                (5, 10]       All   Fill  \n",
       "Last Purchase  0.012661  0.025961  100.0  "
      ]
     },
     "metadata": {},
     "output_type": "display_data"
    },
    {
     "data": {
      "text/html": [
       "<div>\n",
       "<style scoped>\n",
       "    .dataframe tbody tr th:only-of-type {\n",
       "        vertical-align: middle;\n",
       "    }\n",
       "\n",
       "    .dataframe tbody tr th {\n",
       "        vertical-align: top;\n",
       "    }\n",
       "\n",
       "    .dataframe thead th {\n",
       "        text-align: right;\n",
       "    }\n",
       "</style>\n",
       "<table border=\"1\" class=\"dataframe\">\n",
       "  <thead>\n",
       "    <tr style=\"text-align: right;\">\n",
       "      <th></th>\n",
       "      <th>(0.0, 5.0]</th>\n",
       "      <th>(10.0, 20.0]</th>\n",
       "      <th>(20.0, 35.0]</th>\n",
       "      <th>(35.0, 50.0]</th>\n",
       "      <th>(5.0, 10.0]</th>\n",
       "      <th>(50.0, 100.0]</th>\n",
       "      <th>0</th>\n",
       "      <th>All</th>\n",
       "      <th>Fill</th>\n",
       "    </tr>\n",
       "  </thead>\n",
       "  <tbody>\n",
       "    <tr>\n",
       "      <th>Last Purchase</th>\n",
       "      <td>0.033431</td>\n",
       "      <td>0.028236</td>\n",
       "      <td>0.026258</td>\n",
       "      <td>0.02534</td>\n",
       "      <td>0.029256</td>\n",
       "      <td>0.026783</td>\n",
       "      <td>0.021167</td>\n",
       "      <td>0.025961</td>\n",
       "      <td>100.0</td>\n",
       "    </tr>\n",
       "  </tbody>\n",
       "</table>\n",
       "</div>"
      ],
      "text/plain": [
       "               (0.0, 5.0]  (10.0, 20.0]  (20.0, 35.0]  (35.0, 50.0]  \\\n",
       "Last Purchase    0.033431      0.028236      0.026258       0.02534   \n",
       "\n",
       "               (5.0, 10.0]  (50.0, 100.0]         0       All   Fill  \n",
       "Last Purchase     0.029256       0.026783  0.021167  0.025961  100.0  "
      ]
     },
     "metadata": {},
     "output_type": "display_data"
    },
    {
     "data": {
      "image/png": "[encoded data removed]",
      "text/plain": [
       "<Figure size 1584x432 with 5 Axes>"
      ]
     },
     "metadata": {},
     "output_type": "display_data"
    }
   ],
   "source": [
    "score = validation(real.article_id, prediction, groups, index='Last Purchase', ignore=0)"
   ]
  },
  {
   "cell_type": "markdown",
   "id": "de4cb71d",
   "metadata": {
    "editable": false,
    "papermill": {
     "duration": 0.201125,
     "end_time": "2022-03-27T16:48:17.264453",
     "exception": false,
     "start_time": "2022-03-27T16:48:17.063328",
     "status": "completed"
    },
    "tags": []
   },
   "source": [
    "# 生成测试集"
   ]
  },
  {
   "cell_type": "code",
   "execution_count": 141,
   "id": "1f06a56a",
   "metadata": {
    "editable": false,
    "execution": {
     "iopub.execute_input": "2022-03-27T16:48:17.671677Z",
     "iopub.status.busy": "2022-03-27T16:48:17.669530Z",
     "iopub.status.idle": "2022-03-27T16:48:17.672503Z",
     "shell.execute_reply": "2022-03-27T16:48:17.673026Z",
     "shell.execute_reply.started": "2022-03-27T16:01:09.143578Z"
    },
    "papermill": {
     "duration": 0.209009,
     "end_time": "2022-03-27T16:48:17.673248",
     "exception": false,
     "start_time": "2022-03-27T16:48:17.464239",
     "status": "completed"
    },
    "tags": []
   },
   "outputs": [],
   "source": [
    "import datetime"
   ]
  },
  {
   "cell_type": "code",
   "execution_count": 142,
   "id": "855ccdcb",
   "metadata": {
    "editable": false,
    "execution": {
     "iopub.execute_input": "2022-03-27T16:48:18.082953Z",
     "iopub.status.busy": "2022-03-27T16:48:18.081807Z",
     "iopub.status.idle": "2022-03-27T16:48:18.083930Z",
     "shell.execute_reply": "2022-03-27T16:48:18.084583Z",
     "shell.execute_reply.started": "2022-03-27T16:01:09.14928Z"
    },
    "papermill": {
     "duration": 0.2091,
     "end_time": "2022-03-27T16:48:18.084743",
     "exception": false,
     "start_time": "2022-03-27T16:48:17.875643",
     "status": "completed"
    },
    "tags": []
   },
   "outputs": [],
   "source": [
    "if Last_date == \"2020-09-22\":\n",
    "    sub[[\"customer_id\", \"prediction\"]].to_csv(\"sub_sz_{}.csv\".format(datetime.datetime.now().strftime('%Y-%m-%d %H:%M:%S')), index = False)"
   ]
  },
  {
   "cell_type": "code",
   "execution_count": 143,
   "id": "22830df9",
   "metadata": {
    "editable": false,
    "execution": {
     "iopub.execute_input": "2022-03-27T16:48:18.718315Z",
     "iopub.status.busy": "2022-03-27T16:48:18.516598Z",
     "iopub.status.idle": "2022-03-27T16:48:18.722277Z",
     "shell.execute_reply": "2022-03-27T16:48:18.722795Z",
     "shell.execute_reply.started": "2022-03-27T16:01:09.160028Z"
    },
    "papermill": {
     "duration": 0.433607,
     "end_time": "2022-03-27T16:48:18.722991",
     "exception": false,
     "start_time": "2022-03-27T16:48:18.289384",
     "status": "completed"
    },
    "tags": []
   },
   "outputs": [
    {
     "data": {
      "text/plain": [
       "26185"
      ]
     },
     "execution_count": 143,
     "metadata": {},
     "output_type": "execute_result"
    }
   ],
   "source": [
    "del merge_result\n",
    "del sub\n",
    "del real\n",
    "del prediction\n",
    "del groups\n",
    "del cid\n",
    "del sub_id\n",
    "gc.collect()"
   ]
  }
 ],
 "metadata": {
  "kernelspec": {
   "display_name": "Python 3",
   "language": "python",
   "name": "python3"
  },
  "language_info": {
   "codemirror_mode": {
    "name": "ipython",
    "version": 3
   },
   "file_extension": ".py",
   "mimetype": "text/x-python",
   "name": "python",
   "nbconvert_exporter": "python",
   "pygments_lexer": "ipython3",
   "version": "3.7.12"
  },
  "papermill": {
   "default_parameters": {},
   "duration": 322.738086,
   "end_time": "2022-03-27T16:48:21.042468",
   "environment_variables": {},
   "exception": null,
   "input_path": "__notebook__.ipynb",
   "output_path": "__notebook__.ipynb",
   "parameters": {},
   "start_time": "2022-03-27T16:42:58.304382",
   "version": "2.3.3"
  }
 },
 "nbformat": 4,
 "nbformat_minor": 5
}
