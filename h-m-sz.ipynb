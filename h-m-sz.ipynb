{
 "cells": [
  {
   "cell_type": "code",
   "execution_count": 1,
   "id": "79fa38b7",
   "metadata": {
    "_cell_guid": "b1076dfc-b9ad-4769-8c92-a6c4dae69d19",
    "_uuid": "8f2839f25d086af736a60e9eeb907d3b93b6e0e5",
    "execution": {
     "iopub.execute_input": "2022-03-27T12:53:18.582920Z",
     "iopub.status.busy": "2022-03-27T12:53:18.582387Z",
     "iopub.status.idle": "2022-03-27T12:53:31.043756Z",
     "shell.execute_reply": "2022-03-27T12:53:31.043102Z",
     "shell.execute_reply.started": "2022-03-27T12:45:09.904158Z"
    },
    "papermill": {
     "duration": 12.64007,
     "end_time": "2022-03-27T12:53:31.043913",
     "exception": false,
     "start_time": "2022-03-27T12:53:18.403843",
     "status": "completed"
    },
    "tags": []
   },
   "outputs": [
    {
     "name": "stdout",
     "output_type": "stream",
     "text": [
      "Requirement already satisfied: cudf in /opt/conda/lib/python3.7/site-packages (21.10.1)\r\n",
      "Requirement already satisfied: numba>=0.53.1 in /opt/conda/lib/python3.7/site-packages (from cudf) (0.54.1)\r\n",
      "Requirement already satisfied: Cython<0.30,>=0.29 in /opt/conda/lib/python3.7/site-packages (from cudf) (0.29.28)\r\n",
      "Requirement already satisfied: fastavro>=0.22.9 in /opt/conda/lib/python3.7/site-packages (from cudf) (1.4.9)\r\n",
      "Requirement already satisfied: fsspec>=0.6.0 in /opt/conda/lib/python3.7/site-packages (from cudf) (2022.2.0)\r\n",
      "Requirement already satisfied: numpy in /opt/conda/lib/python3.7/site-packages (from cudf) (1.20.3)\r\n",
      "Requirement already satisfied: pandas<1.4.0dev0,>=1.0 in /opt/conda/lib/python3.7/site-packages (from cudf) (1.3.5)\r\n",
      "Requirement already satisfied: typing_extensions in /opt/conda/lib/python3.7/site-packages (from cudf) (4.1.1)\r\n",
      "Requirement already satisfied: protobuf in /opt/conda/lib/python3.7/site-packages (from cudf) (3.19.1)\r\n",
      "Requirement already satisfied: nvtx>=0.2.1 in /opt/conda/lib/python3.7/site-packages (from cudf) (0.2.3)\r\n",
      "Requirement already satisfied: cachetools in /opt/conda/lib/python3.7/site-packages (from cudf) (4.2.4)\r\n",
      "Requirement already satisfied: packaging in /opt/conda/lib/python3.7/site-packages (from cudf) (21.3)\r\n",
      "Requirement already satisfied: cupy-cuda110 in /opt/conda/lib/python3.7/site-packages (from cudf) (10.2.0)\r\n",
      "Requirement already satisfied: setuptools in /opt/conda/lib/python3.7/site-packages (from numba>=0.53.1->cudf) (59.5.0)\r\n",
      "Requirement already satisfied: llvmlite<0.38,>=0.37.0rc1 in /opt/conda/lib/python3.7/site-packages (from numba>=0.53.1->cudf) (0.37.0)\r\n",
      "Requirement already satisfied: python-dateutil>=2.7.3 in /opt/conda/lib/python3.7/site-packages (from pandas<1.4.0dev0,>=1.0->cudf) (2.8.2)\r\n",
      "Requirement already satisfied: pytz>=2017.3 in /opt/conda/lib/python3.7/site-packages (from pandas<1.4.0dev0,>=1.0->cudf) (2021.3)\r\n",
      "Requirement already satisfied: fastrlock>=0.5 in /opt/conda/lib/python3.7/site-packages (from cupy-cuda110->cudf) (0.8)\r\n",
      "Requirement already satisfied: pyparsing!=3.0.5,>=2.0.2 in /opt/conda/lib/python3.7/site-packages (from packaging->cudf) (3.0.6)\r\n",
      "Requirement already satisfied: six>=1.5 in /opt/conda/lib/python3.7/site-packages (from python-dateutil>=2.7.3->pandas<1.4.0dev0,>=1.0->cudf) (1.16.0)\r\n",
      "\u001b[33mWARNING: Running pip as the 'root' user can result in broken permissions and conflicting behaviour with the system package manager. It is recommended to use a virtual environment instead: https://pip.pypa.io/warnings/venv\u001b[0m\r\n"
     ]
    }
   ],
   "source": [
    "!pip install cudf\n",
    "import numpy as np\n",
    "import pandas as pd \n",
    "from datetime import datetime, timedelta\n",
    "import gc\n",
    "import cudf\n",
    "import cv2, matplotlib.pyplot as plt\n",
    "from os.path import exists"
   ]
  },
  {
   "cell_type": "markdown",
   "id": "327b3439",
   "metadata": {
    "papermill": {
     "duration": 0.228426,
     "end_time": "2022-03-27T12:53:31.485172",
     "exception": false,
     "start_time": "2022-03-27T12:53:31.256746",
     "status": "completed"
    },
    "tags": []
   },
   "source": [
    "### Read the transactions data"
   ]
  },
  {
   "cell_type": "markdown",
   "id": "9c33aa07",
   "metadata": {
    "papermill": {
     "duration": 0.16541,
     "end_time": "2022-03-27T12:53:31.867401",
     "exception": false,
     "start_time": "2022-03-27T12:53:31.701991",
     "status": "completed"
    },
    "tags": []
   },
   "source": [
    "Changes: \n",
    "* read_csv using cudf\n",
    "* article_id types from string to int32 \n",
    "* reduce memory on customer_id "
   ]
  },
  {
   "cell_type": "code",
   "execution_count": 2,
   "id": "2dc44101",
   "metadata": {
    "execution": {
     "iopub.execute_input": "2022-03-27T12:53:32.165749Z",
     "iopub.status.busy": "2022-03-27T12:53:32.163838Z",
     "iopub.status.idle": "2022-03-27T12:53:32.166451Z",
     "shell.execute_reply": "2022-03-27T12:53:32.166893Z",
     "shell.execute_reply.started": "2022-03-27T12:45:23.244663Z"
    },
    "papermill": {
     "duration": 0.156257,
     "end_time": "2022-03-27T12:53:32.167070",
     "exception": false,
     "start_time": "2022-03-27T12:53:32.010813",
     "status": "completed"
    },
    "tags": []
   },
   "outputs": [],
   "source": [
    "Date_week1 = pd.to_datetime(\"2020-09-16\")\n",
    "Date_week2 = pd.to_datetime(\"2020-09-09\")\n",
    "Date_week3 = pd.to_datetime(\"2020-09-02\")\n",
    "Last_day = pd.to_datetime(\"2020-09-22\")"
   ]
  },
  {
   "cell_type": "code",
   "execution_count": 3,
   "id": "7886f577",
   "metadata": {
    "execution": {
     "iopub.execute_input": "2022-03-27T12:53:32.466049Z",
     "iopub.status.busy": "2022-03-27T12:53:32.464246Z",
     "iopub.status.idle": "2022-03-27T12:53:32.466849Z",
     "shell.execute_reply": "2022-03-27T12:53:32.467432Z",
     "shell.execute_reply.started": "2022-03-27T12:45:23.254324Z"
    },
    "papermill": {
     "duration": 0.153869,
     "end_time": "2022-03-27T12:53:32.467710",
     "exception": false,
     "start_time": "2022-03-27T12:53:32.313841",
     "status": "completed"
    },
    "tags": []
   },
   "outputs": [],
   "source": [
    "N = 12"
   ]
  },
  {
   "cell_type": "code",
   "execution_count": 4,
   "id": "b7802884",
   "metadata": {
    "execution": {
     "iopub.execute_input": "2022-03-27T12:53:32.763789Z",
     "iopub.status.busy": "2022-03-27T12:53:32.762919Z",
     "iopub.status.idle": "2022-03-27T12:54:16.315289Z",
     "shell.execute_reply": "2022-03-27T12:54:16.314114Z",
     "shell.execute_reply.started": "2022-03-27T12:45:23.265191Z"
    },
    "papermill": {
     "duration": 43.705343,
     "end_time": "2022-03-27T12:54:16.315479",
     "exception": false,
     "start_time": "2022-03-27T12:53:32.610136",
     "status": "completed"
    },
    "tags": []
   },
   "outputs": [],
   "source": [
    "df  = cudf.read_csv('../input/h-and-m-personalized-fashion-recommendations/transactions_train.csv')\n",
    "                            #usecols= ['t_dat', 'customer_id', 'article_id'], \n",
    "                            #dtype={'article_id': 'int32', 't_dat': 'string', 'customer_id': 'string', \"sales_channel_id\": 'int32', \"price\": \"float\"})\n",
    "df ['customer_id'] = df ['customer_id'].str[-16:].str.hex_to_int().astype('int64')\n",
    "df.article_id = df.article_id.astype('int32')\n",
    "df['t_dat'] = cudf.to_datetime(df['t_dat'])\n",
    "Last_date = df['t_dat'].max()"
   ]
  },
  {
   "cell_type": "code",
   "execution_count": 5,
   "id": "80681bdb",
   "metadata": {
    "execution": {
     "iopub.execute_input": "2022-03-27T12:54:16.637101Z",
     "iopub.status.busy": "2022-03-27T12:54:16.636396Z",
     "iopub.status.idle": "2022-03-27T12:54:16.701539Z",
     "shell.execute_reply": "2022-03-27T12:54:16.701948Z",
     "shell.execute_reply.started": "2022-03-27T12:46:02.779541Z"
    },
    "papermill": {
     "duration": 0.207654,
     "end_time": "2022-03-27T12:54:16.702106",
     "exception": false,
     "start_time": "2022-03-27T12:54:16.494452",
     "status": "completed"
    },
    "tags": []
   },
   "outputs": [
    {
     "data": {
      "text/html": [
       "<div>\n",
       "<style scoped>\n",
       "    .dataframe tbody tr th:only-of-type {\n",
       "        vertical-align: middle;\n",
       "    }\n",
       "\n",
       "    .dataframe tbody tr th {\n",
       "        vertical-align: top;\n",
       "    }\n",
       "\n",
       "    .dataframe thead th {\n",
       "        text-align: right;\n",
       "    }\n",
       "</style>\n",
       "<table border=\"1\" class=\"dataframe\">\n",
       "  <thead>\n",
       "    <tr style=\"text-align: right;\">\n",
       "      <th></th>\n",
       "      <th>t_dat</th>\n",
       "      <th>customer_id</th>\n",
       "      <th>article_id</th>\n",
       "      <th>price</th>\n",
       "      <th>sales_channel_id</th>\n",
       "    </tr>\n",
       "  </thead>\n",
       "  <tbody>\n",
       "    <tr>\n",
       "      <th>0</th>\n",
       "      <td>2018-09-20</td>\n",
       "      <td>-6846340800584936</td>\n",
       "      <td>663713001</td>\n",
       "      <td>0.050831</td>\n",
       "      <td>2</td>\n",
       "    </tr>\n",
       "    <tr>\n",
       "      <th>1</th>\n",
       "      <td>2018-09-20</td>\n",
       "      <td>-6846340800584936</td>\n",
       "      <td>541518023</td>\n",
       "      <td>0.030492</td>\n",
       "      <td>2</td>\n",
       "    </tr>\n",
       "    <tr>\n",
       "      <th>2</th>\n",
       "      <td>2018-09-20</td>\n",
       "      <td>-8334631767138808638</td>\n",
       "      <td>505221004</td>\n",
       "      <td>0.015237</td>\n",
       "      <td>2</td>\n",
       "    </tr>\n",
       "    <tr>\n",
       "      <th>3</th>\n",
       "      <td>2018-09-20</td>\n",
       "      <td>-8334631767138808638</td>\n",
       "      <td>685687003</td>\n",
       "      <td>0.016932</td>\n",
       "      <td>2</td>\n",
       "    </tr>\n",
       "    <tr>\n",
       "      <th>4</th>\n",
       "      <td>2018-09-20</td>\n",
       "      <td>-8334631767138808638</td>\n",
       "      <td>685687004</td>\n",
       "      <td>0.016932</td>\n",
       "      <td>2</td>\n",
       "    </tr>\n",
       "    <tr>\n",
       "      <th>...</th>\n",
       "      <td>...</td>\n",
       "      <td>...</td>\n",
       "      <td>...</td>\n",
       "      <td>...</td>\n",
       "      <td>...</td>\n",
       "    </tr>\n",
       "    <tr>\n",
       "      <th>31788319</th>\n",
       "      <td>2020-09-22</td>\n",
       "      <td>4685485978980270934</td>\n",
       "      <td>929511001</td>\n",
       "      <td>0.059305</td>\n",
       "      <td>2</td>\n",
       "    </tr>\n",
       "    <tr>\n",
       "      <th>31788320</th>\n",
       "      <td>2020-09-22</td>\n",
       "      <td>4685485978980270934</td>\n",
       "      <td>891322004</td>\n",
       "      <td>0.042356</td>\n",
       "      <td>2</td>\n",
       "    </tr>\n",
       "    <tr>\n",
       "      <th>31788321</th>\n",
       "      <td>2020-09-22</td>\n",
       "      <td>3959348689921271969</td>\n",
       "      <td>918325001</td>\n",
       "      <td>0.043203</td>\n",
       "      <td>1</td>\n",
       "    </tr>\n",
       "    <tr>\n",
       "      <th>31788322</th>\n",
       "      <td>2020-09-22</td>\n",
       "      <td>-8639340045377511665</td>\n",
       "      <td>833459002</td>\n",
       "      <td>0.006763</td>\n",
       "      <td>1</td>\n",
       "    </tr>\n",
       "    <tr>\n",
       "      <th>31788323</th>\n",
       "      <td>2020-09-22</td>\n",
       "      <td>3235222691137941515</td>\n",
       "      <td>898573003</td>\n",
       "      <td>0.033881</td>\n",
       "      <td>2</td>\n",
       "    </tr>\n",
       "  </tbody>\n",
       "</table>\n",
       "<p>31788324 rows × 5 columns</p>\n",
       "</div>"
      ],
      "text/plain": [
       "              t_dat          customer_id  article_id     price  \\\n",
       "0        2018-09-20    -6846340800584936   663713001  0.050831   \n",
       "1        2018-09-20    -6846340800584936   541518023  0.030492   \n",
       "2        2018-09-20 -8334631767138808638   505221004  0.015237   \n",
       "3        2018-09-20 -8334631767138808638   685687003  0.016932   \n",
       "4        2018-09-20 -8334631767138808638   685687004  0.016932   \n",
       "...             ...                  ...         ...       ...   \n",
       "31788319 2020-09-22  4685485978980270934   929511001  0.059305   \n",
       "31788320 2020-09-22  4685485978980270934   891322004  0.042356   \n",
       "31788321 2020-09-22  3959348689921271969   918325001  0.043203   \n",
       "31788322 2020-09-22 -8639340045377511665   833459002  0.006763   \n",
       "31788323 2020-09-22  3235222691137941515   898573003  0.033881   \n",
       "\n",
       "          sales_channel_id  \n",
       "0                        2  \n",
       "1                        2  \n",
       "2                        2  \n",
       "3                        2  \n",
       "4                        2  \n",
       "...                    ...  \n",
       "31788319                 2  \n",
       "31788320                 2  \n",
       "31788321                 1  \n",
       "31788322                 1  \n",
       "31788323                 2  \n",
       "\n",
       "[31788324 rows x 5 columns]"
      ]
     },
     "execution_count": 5,
     "metadata": {},
     "output_type": "execute_result"
    }
   ],
   "source": [
    "df"
   ]
  },
  {
   "cell_type": "markdown",
   "id": "bffc9b6a",
   "metadata": {
    "papermill": {
     "duration": 0.132871,
     "end_time": "2022-03-27T12:54:16.961673",
     "exception": false,
     "start_time": "2022-03-27T12:54:16.828802",
     "status": "completed"
    },
    "tags": []
   },
   "source": [
    "## 划分训练集和验证集"
   ]
  },
  {
   "cell_type": "code",
   "execution_count": 6,
   "id": "0eea1f5c",
   "metadata": {
    "execution": {
     "iopub.execute_input": "2022-03-27T12:54:17.216678Z",
     "iopub.status.busy": "2022-03-27T12:54:17.215827Z",
     "iopub.status.idle": "2022-03-27T12:54:17.275866Z",
     "shell.execute_reply": "2022-03-27T12:54:17.275348Z",
     "shell.execute_reply.started": "2022-03-27T12:46:02.912400Z"
    },
    "papermill": {
     "duration": 0.189399,
     "end_time": "2022-03-27T12:54:17.275979",
     "exception": false,
     "start_time": "2022-03-27T12:54:17.086580",
     "status": "completed"
    },
    "tags": []
   },
   "outputs": [],
   "source": [
    "val = df[df['t_dat']>= Date_week1].copy()\n",
    "train = df[df['t_dat']< Date_week1].copy()\n",
    "Last_date = pd.to_datetime(\"2020-09-15\")"
   ]
  },
  {
   "cell_type": "code",
   "execution_count": 7,
   "id": "a4bcb656",
   "metadata": {
    "execution": {
     "iopub.execute_input": "2022-03-27T12:54:17.538414Z",
     "iopub.status.busy": "2022-03-27T12:54:17.537850Z",
     "iopub.status.idle": "2022-03-27T12:54:17.586657Z",
     "shell.execute_reply": "2022-03-27T12:54:17.587063Z",
     "shell.execute_reply.started": "2022-03-27T12:46:02.985744Z"
    },
    "papermill": {
     "duration": 0.186114,
     "end_time": "2022-03-27T12:54:17.587219",
     "exception": false,
     "start_time": "2022-03-27T12:54:17.401105",
     "status": "completed"
    },
    "tags": []
   },
   "outputs": [
    {
     "data": {
      "text/html": [
       "<div>\n",
       "<style scoped>\n",
       "    .dataframe tbody tr th:only-of-type {\n",
       "        vertical-align: middle;\n",
       "    }\n",
       "\n",
       "    .dataframe tbody tr th {\n",
       "        vertical-align: top;\n",
       "    }\n",
       "\n",
       "    .dataframe thead th {\n",
       "        text-align: right;\n",
       "    }\n",
       "</style>\n",
       "<table border=\"1\" class=\"dataframe\">\n",
       "  <thead>\n",
       "    <tr style=\"text-align: right;\">\n",
       "      <th></th>\n",
       "      <th>t_dat</th>\n",
       "      <th>customer_id</th>\n",
       "      <th>article_id</th>\n",
       "      <th>price</th>\n",
       "      <th>sales_channel_id</th>\n",
       "    </tr>\n",
       "  </thead>\n",
       "  <tbody>\n",
       "    <tr>\n",
       "      <th>31548013</th>\n",
       "      <td>2020-09-16</td>\n",
       "      <td>8055340703569116761</td>\n",
       "      <td>786022008</td>\n",
       "      <td>0.048441</td>\n",
       "      <td>2</td>\n",
       "    </tr>\n",
       "    <tr>\n",
       "      <th>31548014</th>\n",
       "      <td>2020-09-16</td>\n",
       "      <td>8055340703569116761</td>\n",
       "      <td>913272003</td>\n",
       "      <td>0.032288</td>\n",
       "      <td>2</td>\n",
       "    </tr>\n",
       "    <tr>\n",
       "      <th>31548015</th>\n",
       "      <td>2020-09-16</td>\n",
       "      <td>8055340703569116761</td>\n",
       "      <td>889669006</td>\n",
       "      <td>0.056508</td>\n",
       "      <td>2</td>\n",
       "    </tr>\n",
       "    <tr>\n",
       "      <th>31548016</th>\n",
       "      <td>2020-09-16</td>\n",
       "      <td>2563761487478961358</td>\n",
       "      <td>237347060</td>\n",
       "      <td>0.033881</td>\n",
       "      <td>1</td>\n",
       "    </tr>\n",
       "    <tr>\n",
       "      <th>31548017</th>\n",
       "      <td>2020-09-16</td>\n",
       "      <td>2563761487478961358</td>\n",
       "      <td>562245001</td>\n",
       "      <td>0.013542</td>\n",
       "      <td>1</td>\n",
       "    </tr>\n",
       "    <tr>\n",
       "      <th>...</th>\n",
       "      <td>...</td>\n",
       "      <td>...</td>\n",
       "      <td>...</td>\n",
       "      <td>...</td>\n",
       "      <td>...</td>\n",
       "    </tr>\n",
       "    <tr>\n",
       "      <th>31788319</th>\n",
       "      <td>2020-09-22</td>\n",
       "      <td>4685485978980270934</td>\n",
       "      <td>929511001</td>\n",
       "      <td>0.059305</td>\n",
       "      <td>2</td>\n",
       "    </tr>\n",
       "    <tr>\n",
       "      <th>31788320</th>\n",
       "      <td>2020-09-22</td>\n",
       "      <td>4685485978980270934</td>\n",
       "      <td>891322004</td>\n",
       "      <td>0.042356</td>\n",
       "      <td>2</td>\n",
       "    </tr>\n",
       "    <tr>\n",
       "      <th>31788321</th>\n",
       "      <td>2020-09-22</td>\n",
       "      <td>3959348689921271969</td>\n",
       "      <td>918325001</td>\n",
       "      <td>0.043203</td>\n",
       "      <td>1</td>\n",
       "    </tr>\n",
       "    <tr>\n",
       "      <th>31788322</th>\n",
       "      <td>2020-09-22</td>\n",
       "      <td>-8639340045377511665</td>\n",
       "      <td>833459002</td>\n",
       "      <td>0.006763</td>\n",
       "      <td>1</td>\n",
       "    </tr>\n",
       "    <tr>\n",
       "      <th>31788323</th>\n",
       "      <td>2020-09-22</td>\n",
       "      <td>3235222691137941515</td>\n",
       "      <td>898573003</td>\n",
       "      <td>0.033881</td>\n",
       "      <td>2</td>\n",
       "    </tr>\n",
       "  </tbody>\n",
       "</table>\n",
       "<p>240311 rows × 5 columns</p>\n",
       "</div>"
      ],
      "text/plain": [
       "              t_dat          customer_id  article_id     price  \\\n",
       "31548013 2020-09-16  8055340703569116761   786022008  0.048441   \n",
       "31548014 2020-09-16  8055340703569116761   913272003  0.032288   \n",
       "31548015 2020-09-16  8055340703569116761   889669006  0.056508   \n",
       "31548016 2020-09-16  2563761487478961358   237347060  0.033881   \n",
       "31548017 2020-09-16  2563761487478961358   562245001  0.013542   \n",
       "...             ...                  ...         ...       ...   \n",
       "31788319 2020-09-22  4685485978980270934   929511001  0.059305   \n",
       "31788320 2020-09-22  4685485978980270934   891322004  0.042356   \n",
       "31788321 2020-09-22  3959348689921271969   918325001  0.043203   \n",
       "31788322 2020-09-22 -8639340045377511665   833459002  0.006763   \n",
       "31788323 2020-09-22  3235222691137941515   898573003  0.033881   \n",
       "\n",
       "          sales_channel_id  \n",
       "31548013                 2  \n",
       "31548014                 2  \n",
       "31548015                 2  \n",
       "31548016                 1  \n",
       "31548017                 1  \n",
       "...                    ...  \n",
       "31788319                 2  \n",
       "31788320                 2  \n",
       "31788321                 1  \n",
       "31788322                 1  \n",
       "31788323                 2  \n",
       "\n",
       "[240311 rows x 5 columns]"
      ]
     },
     "execution_count": 7,
     "metadata": {},
     "output_type": "execute_result"
    }
   ],
   "source": [
    "val"
   ]
  },
  {
   "cell_type": "markdown",
   "id": "58bd2b7a",
   "metadata": {
    "papermill": {
     "duration": 0.129313,
     "end_time": "2022-03-27T12:54:17.841516",
     "exception": false,
     "start_time": "2022-03-27T12:54:17.712203",
     "status": "completed"
    },
    "tags": []
   },
   "source": [
    "### Add the last day of billing week"
   ]
  },
  {
   "cell_type": "markdown",
   "id": "de6f56d9",
   "metadata": {
    "papermill": {
     "duration": 0.13285,
     "end_time": "2022-03-27T12:54:18.100359",
     "exception": false,
     "start_time": "2022-03-27T12:54:17.967509",
     "status": "completed"
    },
    "tags": []
   },
   "source": [
    "## 第一路：复购预测"
   ]
  },
  {
   "cell_type": "code",
   "execution_count": 8,
   "id": "88d968bb",
   "metadata": {
    "execution": {
     "iopub.execute_input": "2022-03-27T12:54:18.356267Z",
     "iopub.status.busy": "2022-03-27T12:54:18.355307Z",
     "iopub.status.idle": "2022-03-27T12:54:18.362594Z",
     "shell.execute_reply": "2022-03-27T12:54:18.362145Z",
     "shell.execute_reply.started": "2022-03-27T12:46:03.070185Z"
    },
    "papermill": {
     "duration": 0.137576,
     "end_time": "2022-03-27T12:54:18.362704",
     "exception": false,
     "start_time": "2022-03-27T12:54:18.225128",
     "status": "completed"
    },
    "tags": []
   },
   "outputs": [],
   "source": [
    "df = train.copy()"
   ]
  },
  {
   "cell_type": "code",
   "execution_count": 9,
   "id": "b30be747",
   "metadata": {
    "execution": {
     "iopub.execute_input": "2022-03-27T12:54:18.622755Z",
     "iopub.status.busy": "2022-03-27T12:54:18.619020Z",
     "iopub.status.idle": "2022-03-27T12:54:26.542622Z",
     "shell.execute_reply": "2022-03-27T12:54:26.543530Z",
     "shell.execute_reply.started": "2022-03-27T12:46:03.080612Z"
    },
    "papermill": {
     "duration": 8.053853,
     "end_time": "2022-03-27T12:54:26.543761",
     "exception": false,
     "start_time": "2022-03-27T12:54:18.489908",
     "status": "completed"
    },
    "tags": []
   },
   "outputs": [
    {
     "name": "stdout",
     "output_type": "stream",
     "text": [
      "CPU times: user 6.38 s, sys: 1.67 s, total: 8.05 s\n",
      "Wall time: 7.92 s\n"
     ]
    }
   ],
   "source": [
    "%%time\n",
    "tmp = df[['t_dat']].copy().to_pandas()\n",
    "tmp['dow'] = tmp['t_dat'].dt.dayofweek\n",
    "tmp['ldbw'] = tmp['t_dat'] - pd.TimedeltaIndex(tmp['dow'] - 1, unit='D')\n",
    "tmp.loc[tmp['dow'] >=2 , 'ldbw'] = tmp.loc[tmp['dow'] >=2 , 'ldbw'] + pd.TimedeltaIndex(np.ones(len(tmp.loc[tmp['dow'] >=2])) * 7, unit='D')\n",
    "df['ldbw'] = tmp['ldbw'].values"
   ]
  },
  {
   "cell_type": "code",
   "execution_count": 10,
   "id": "845f90f0",
   "metadata": {
    "execution": {
     "iopub.execute_input": "2022-03-27T12:54:26.889880Z",
     "iopub.status.busy": "2022-03-27T12:54:26.888991Z",
     "iopub.status.idle": "2022-03-27T12:54:27.023357Z",
     "shell.execute_reply": "2022-03-27T12:54:27.022878Z",
     "shell.execute_reply.started": "2022-03-27T12:46:10.835004Z"
    },
    "papermill": {
     "duration": 0.272125,
     "end_time": "2022-03-27T12:54:27.023493",
     "exception": false,
     "start_time": "2022-03-27T12:54:26.751368",
     "status": "completed"
    },
    "tags": []
   },
   "outputs": [],
   "source": [
    "weekly_sales = df.drop('customer_id', axis=1).groupby(['ldbw', 'article_id']).count().reset_index()\n",
    "weekly_sales = weekly_sales.rename(columns={'t_dat': 'count'})"
   ]
  },
  {
   "cell_type": "code",
   "execution_count": 11,
   "id": "a25832b7",
   "metadata": {
    "execution": {
     "iopub.execute_input": "2022-03-27T12:54:27.324100Z",
     "iopub.status.busy": "2022-03-27T12:54:27.323411Z",
     "iopub.status.idle": "2022-03-27T12:54:27.402461Z",
     "shell.execute_reply": "2022-03-27T12:54:27.401983Z",
     "shell.execute_reply.started": "2022-03-27T12:46:10.971238Z"
    },
    "papermill": {
     "duration": 0.252894,
     "end_time": "2022-03-27T12:54:27.402590",
     "exception": false,
     "start_time": "2022-03-27T12:54:27.149696",
     "status": "completed"
    },
    "tags": []
   },
   "outputs": [],
   "source": [
    "df = df.merge(weekly_sales, on=['ldbw', 'article_id'], how = 'left')"
   ]
  },
  {
   "cell_type": "markdown",
   "id": "9afc037e",
   "metadata": {
    "papermill": {
     "duration": 0.126997,
     "end_time": "2022-03-27T12:54:27.657364",
     "exception": false,
     "start_time": "2022-03-27T12:54:27.530367",
     "status": "completed"
    },
    "tags": []
   },
   "source": [
    "### Let's assume that in the target week sales will be similar to the last week of the training data"
   ]
  },
  {
   "cell_type": "code",
   "execution_count": 12,
   "id": "8dadd345",
   "metadata": {
    "execution": {
     "iopub.execute_input": "2022-03-27T12:54:27.919844Z",
     "iopub.status.busy": "2022-03-27T12:54:27.919068Z",
     "iopub.status.idle": "2022-03-27T12:54:28.015899Z",
     "shell.execute_reply": "2022-03-27T12:54:28.016330Z",
     "shell.execute_reply.started": "2022-03-27T12:46:11.109959Z"
    },
    "papermill": {
     "duration": 0.227362,
     "end_time": "2022-03-27T12:54:28.016481",
     "exception": false,
     "start_time": "2022-03-27T12:54:27.789119",
     "status": "completed"
    },
    "tags": []
   },
   "outputs": [],
   "source": [
    "weekly_sales = weekly_sales.reset_index().set_index('article_id')\n",
    "\n",
    "df = df.merge(\n",
    "    weekly_sales.loc[weekly_sales['ldbw']==Last_date, ['count']],\n",
    "    on='article_id', suffixes=(\"\", \"_targ\"))\n",
    "\n",
    "df['count_targ'].fillna(0, inplace=True)\n"
   ]
  },
  {
   "cell_type": "markdown",
   "id": "f67b1d8f",
   "metadata": {
    "papermill": {
     "duration": 0.125342,
     "end_time": "2022-03-27T12:54:28.282562",
     "exception": false,
     "start_time": "2022-03-27T12:54:28.157220",
     "status": "completed"
    },
    "tags": []
   },
   "source": [
    "### Calculate sales rate adjusted for changes in product popularity "
   ]
  },
  {
   "cell_type": "code",
   "execution_count": 13,
   "id": "63750b0d",
   "metadata": {
    "execution": {
     "iopub.execute_input": "2022-03-27T12:54:28.539746Z",
     "iopub.status.busy": "2022-03-27T12:54:28.538897Z",
     "iopub.status.idle": "2022-03-27T12:54:28.543708Z",
     "shell.execute_reply": "2022-03-27T12:54:28.543225Z",
     "shell.execute_reply.started": "2022-03-27T12:46:11.235059Z"
    },
    "papermill": {
     "duration": 0.135802,
     "end_time": "2022-03-27T12:54:28.543824",
     "exception": false,
     "start_time": "2022-03-27T12:54:28.408022",
     "status": "completed"
    },
    "tags": []
   },
   "outputs": [],
   "source": [
    "df['quotient'] = df['count_targ'] / df['count']"
   ]
  },
  {
   "cell_type": "markdown",
   "id": "42211879",
   "metadata": {
    "papermill": {
     "duration": 0.12764,
     "end_time": "2022-03-27T12:54:28.796745",
     "exception": false,
     "start_time": "2022-03-27T12:54:28.669105",
     "status": "completed"
    },
    "tags": []
   },
   "source": [
    "### Take supposedly popular products"
   ]
  },
  {
   "cell_type": "code",
   "execution_count": 14,
   "id": "36125846",
   "metadata": {
    "execution": {
     "iopub.execute_input": "2022-03-27T12:54:29.060284Z",
     "iopub.status.busy": "2022-03-27T12:54:29.058645Z",
     "iopub.status.idle": "2022-03-27T12:54:29.062610Z",
     "shell.execute_reply": "2022-03-27T12:54:29.062161Z",
     "shell.execute_reply.started": "2022-03-27T12:46:11.251668Z"
    },
    "papermill": {
     "duration": 0.136045,
     "end_time": "2022-03-27T12:54:29.062727",
     "exception": false,
     "start_time": "2022-03-27T12:54:28.926682",
     "status": "completed"
    },
    "tags": []
   },
   "outputs": [],
   "source": [
    "# target_sales = df.drop('customer_id', axis=1).groupby('article_id')['quotient'].sum()\n",
    "# general_pred = target_sales.nlargest(N).index.to_pandas().tolist()\n",
    "# general_pred = ['0' + str(article_id) for article_id in general_pred]\n",
    "# general_pred_str =  ' '.join(general_pred)\n",
    "# del target_sales"
   ]
  },
  {
   "cell_type": "code",
   "execution_count": 15,
   "id": "6df4db88",
   "metadata": {
    "execution": {
     "iopub.execute_input": "2022-03-27T12:54:29.321705Z",
     "iopub.status.busy": "2022-03-27T12:54:29.320022Z",
     "iopub.status.idle": "2022-03-27T12:54:29.322327Z",
     "shell.execute_reply": "2022-03-27T12:54:29.322734Z",
     "shell.execute_reply.started": "2022-03-27T12:46:11.257300Z"
    },
    "papermill": {
     "duration": 0.133394,
     "end_time": "2022-03-27T12:54:29.322884",
     "exception": false,
     "start_time": "2022-03-27T12:54:29.189490",
     "status": "completed"
    },
    "tags": []
   },
   "outputs": [],
   "source": [
    "# general_pred # Exactly same with the original notebook! "
   ]
  },
  {
   "cell_type": "code",
   "execution_count": 16,
   "id": "3aae9dcc",
   "metadata": {
    "execution": {
     "iopub.execute_input": "2022-03-27T12:54:29.589869Z",
     "iopub.status.busy": "2022-03-27T12:54:29.588981Z",
     "iopub.status.idle": "2022-03-27T12:54:29.590813Z",
     "shell.execute_reply": "2022-03-27T12:54:29.591262Z",
     "shell.execute_reply.started": "2022-03-27T12:46:11.269429Z"
    },
    "papermill": {
     "duration": 0.138805,
     "end_time": "2022-03-27T12:54:29.591412",
     "exception": false,
     "start_time": "2022-03-27T12:54:29.452607",
     "status": "completed"
    },
    "tags": []
   },
   "outputs": [],
   "source": [
    "# general_pred_str"
   ]
  },
  {
   "cell_type": "markdown",
   "id": "36fb74a5",
   "metadata": {
    "papermill": {
     "duration": 0.139604,
     "end_time": "2022-03-27T12:54:29.875212",
     "exception": false,
     "start_time": "2022-03-27T12:54:29.735608",
     "status": "completed"
    },
    "tags": []
   },
   "source": [
    "### Fill in purchase dictionary"
   ]
  },
  {
   "cell_type": "code",
   "execution_count": 17,
   "id": "25b5e28b",
   "metadata": {
    "execution": {
     "iopub.execute_input": "2022-03-27T12:54:30.146721Z",
     "iopub.status.busy": "2022-03-27T12:54:30.145773Z",
     "iopub.status.idle": "2022-03-27T12:54:50.231981Z",
     "shell.execute_reply": "2022-03-27T12:54:50.232545Z",
     "shell.execute_reply.started": "2022-03-27T12:46:11.279033Z"
    },
    "papermill": {
     "duration": 20.226058,
     "end_time": "2022-03-27T12:54:50.232714",
     "exception": false,
     "start_time": "2022-03-27T12:54:30.006656",
     "status": "completed"
    },
    "tags": []
   },
   "outputs": [
    {
     "name": "stdout",
     "output_type": "stream",
     "text": [
      "CPU times: user 16.3 s, sys: 5.4 s, total: 21.7 s\n",
      "Wall time: 20.1 s\n"
     ]
    }
   ],
   "source": [
    "%%time\n",
    "purchase_dict = {}\n",
    "\n",
    "tmp = df.copy().to_pandas()\n",
    "tmp['x'] = ((Last_date - tmp['t_dat']) / np.timedelta64(1, 'D')).astype(int)\n",
    "tmp['dummy_1'] = 1 \n",
    "tmp['x'] = tmp[[\"x\", \"dummy_1\"]].max(axis=1)\n",
    "\n",
    "a, b, c, d = 2.5e4, 1.5e5, 2e-1, 1e3\n",
    "total = 1715530\n",
    "tmp['y'] = ((a / np.sqrt(tmp['x']) + b * np.exp(-c*tmp['x']) - d) / total +\\\n",
    "(a / np.sqrt(tmp['x']+1) + b * np.exp(-c*(tmp['x']+1)) - d) / total +\\\n",
    "(a / np.sqrt(tmp['x']+2) + b * np.exp(-c*(tmp['x']+2)) - d) / total +\\\n",
    "(a / np.sqrt(tmp['x']+3) + b * np.exp(-c*(tmp['x']+3)) - d) / total +\\\n",
    "(a / np.sqrt(tmp['x']+4) + b * np.exp(-c*(tmp['x']+4)) - d) / total +\\\n",
    "(a / np.sqrt(tmp['x']+5) + b * np.exp(-c*(tmp['x']+5)) - d) / total +\\\n",
    "(a / np.sqrt(tmp['x']+6) + b * np.exp(-c*(tmp['x']+6)) - d) / total)\n",
    "\n",
    "tmp['dummy_0'] = 0 \n",
    "tmp['y'] = tmp[[\"y\", \"dummy_0\"]].max(axis=1)\n",
    "tmp['score'] = tmp['quotient'] * tmp['y'] \n",
    "\n",
    "tmp = tmp.groupby(['customer_id', 'article_id']).agg({'score': 'sum'})\n",
    "tmp = tmp.reset_index()\n",
    "\n",
    "tmp = tmp.loc[tmp['score'] > 0]\n",
    "tmp['rank'] = tmp.groupby(\"customer_id\")[\"score\"].rank(\"dense\", ascending=False)\n",
    "tmp = tmp.loc[tmp['rank'] <= 12]\n",
    "tmp[\"source\"] = 1\n",
    "\n",
    "result1 = tmp[[\"customer_id\", \"article_id\", \"source\", \"score\", \"rank\"]]"
   ]
  },
  {
   "cell_type": "code",
   "execution_count": 18,
   "id": "6f289775",
   "metadata": {
    "execution": {
     "iopub.execute_input": "2022-03-27T12:54:50.671461Z",
     "iopub.status.busy": "2022-03-27T12:54:50.670636Z",
     "iopub.status.idle": "2022-03-27T12:54:50.673569Z",
     "shell.execute_reply": "2022-03-27T12:54:50.673967Z",
     "shell.execute_reply.started": "2022-03-27T12:46:30.901572Z"
    },
    "papermill": {
     "duration": 0.313565,
     "end_time": "2022-03-27T12:54:50.674125",
     "exception": false,
     "start_time": "2022-03-27T12:54:50.360560",
     "status": "completed"
    },
    "tags": []
   },
   "outputs": [
    {
     "data": {
      "text/plain": [
       "208"
      ]
     },
     "execution_count": 18,
     "metadata": {},
     "output_type": "execute_result"
    }
   ],
   "source": [
    "del weekly_sales\n",
    "del df\n",
    "del tmp\n",
    "gc.collect()"
   ]
  },
  {
   "cell_type": "code",
   "execution_count": 19,
   "id": "e2960735",
   "metadata": {
    "execution": {
     "iopub.execute_input": "2022-03-27T12:54:50.943062Z",
     "iopub.status.busy": "2022-03-27T12:54:50.942519Z",
     "iopub.status.idle": "2022-03-27T12:54:50.948219Z",
     "shell.execute_reply": "2022-03-27T12:54:50.947759Z",
     "shell.execute_reply.started": "2022-03-27T12:46:31.076867Z"
    },
    "papermill": {
     "duration": 0.145908,
     "end_time": "2022-03-27T12:54:50.948368",
     "exception": false,
     "start_time": "2022-03-27T12:54:50.802460",
     "status": "completed"
    },
    "tags": []
   },
   "outputs": [
    {
     "data": {
      "text/html": [
       "<div>\n",
       "<style scoped>\n",
       "    .dataframe tbody tr th:only-of-type {\n",
       "        vertical-align: middle;\n",
       "    }\n",
       "\n",
       "    .dataframe tbody tr th {\n",
       "        vertical-align: top;\n",
       "    }\n",
       "\n",
       "    .dataframe thead th {\n",
       "        text-align: right;\n",
       "    }\n",
       "</style>\n",
       "<table border=\"1\" class=\"dataframe\">\n",
       "  <thead>\n",
       "    <tr style=\"text-align: right;\">\n",
       "      <th></th>\n",
       "      <th>customer_id</th>\n",
       "      <th>article_id</th>\n",
       "      <th>source</th>\n",
       "      <th>score</th>\n",
       "      <th>rank</th>\n",
       "    </tr>\n",
       "  </thead>\n",
       "  <tbody>\n",
       "    <tr>\n",
       "      <th>0</th>\n",
       "      <td>-9223352921020755230</td>\n",
       "      <td>568597006</td>\n",
       "      <td>1</td>\n",
       "      <td>0.000559</td>\n",
       "      <td>5.0</td>\n",
       "    </tr>\n",
       "    <tr>\n",
       "      <th>1</th>\n",
       "      <td>-9223352921020755230</td>\n",
       "      <td>673396002</td>\n",
       "      <td>1</td>\n",
       "      <td>0.044511</td>\n",
       "      <td>1.0</td>\n",
       "    </tr>\n",
       "    <tr>\n",
       "      <th>2</th>\n",
       "      <td>-9223352921020755230</td>\n",
       "      <td>706016001</td>\n",
       "      <td>1</td>\n",
       "      <td>0.003289</td>\n",
       "      <td>4.0</td>\n",
       "    </tr>\n",
       "    <tr>\n",
       "      <th>3</th>\n",
       "      <td>-9223352921020755230</td>\n",
       "      <td>812167004</td>\n",
       "      <td>1</td>\n",
       "      <td>0.019179</td>\n",
       "      <td>2.0</td>\n",
       "    </tr>\n",
       "    <tr>\n",
       "      <th>4</th>\n",
       "      <td>-9223352921020755230</td>\n",
       "      <td>849493006</td>\n",
       "      <td>1</td>\n",
       "      <td>0.006174</td>\n",
       "      <td>3.0</td>\n",
       "    </tr>\n",
       "    <tr>\n",
       "      <th>...</th>\n",
       "      <td>...</td>\n",
       "      <td>...</td>\n",
       "      <td>...</td>\n",
       "      <td>...</td>\n",
       "      <td>...</td>\n",
       "    </tr>\n",
       "    <tr>\n",
       "      <th>10844244</th>\n",
       "      <td>9223301031927667525</td>\n",
       "      <td>719957006</td>\n",
       "      <td>1</td>\n",
       "      <td>0.000026</td>\n",
       "      <td>1.0</td>\n",
       "    </tr>\n",
       "    <tr>\n",
       "      <th>10844245</th>\n",
       "      <td>9223333063893176977</td>\n",
       "      <td>658030020</td>\n",
       "      <td>1</td>\n",
       "      <td>0.000038</td>\n",
       "      <td>1.0</td>\n",
       "    </tr>\n",
       "    <tr>\n",
       "      <th>10844246</th>\n",
       "      <td>9223357421094039679</td>\n",
       "      <td>747984001</td>\n",
       "      <td>1</td>\n",
       "      <td>0.000010</td>\n",
       "      <td>2.0</td>\n",
       "    </tr>\n",
       "    <tr>\n",
       "      <th>10844247</th>\n",
       "      <td>9223357421094039679</td>\n",
       "      <td>747984002</td>\n",
       "      <td>1</td>\n",
       "      <td>0.000053</td>\n",
       "      <td>1.0</td>\n",
       "    </tr>\n",
       "    <tr>\n",
       "      <th>10844248</th>\n",
       "      <td>9223370729206611574</td>\n",
       "      <td>781758003</td>\n",
       "      <td>1</td>\n",
       "      <td>0.001461</td>\n",
       "      <td>1.0</td>\n",
       "    </tr>\n",
       "  </tbody>\n",
       "</table>\n",
       "<p>6693016 rows × 5 columns</p>\n",
       "</div>"
      ],
      "text/plain": [
       "                  customer_id  article_id  source     score  rank\n",
       "0        -9223352921020755230   568597006       1  0.000559   5.0\n",
       "1        -9223352921020755230   673396002       1  0.044511   1.0\n",
       "2        -9223352921020755230   706016001       1  0.003289   4.0\n",
       "3        -9223352921020755230   812167004       1  0.019179   2.0\n",
       "4        -9223352921020755230   849493006       1  0.006174   3.0\n",
       "...                       ...         ...     ...       ...   ...\n",
       "10844244  9223301031927667525   719957006       1  0.000026   1.0\n",
       "10844245  9223333063893176977   658030020       1  0.000038   1.0\n",
       "10844246  9223357421094039679   747984001       1  0.000010   2.0\n",
       "10844247  9223357421094039679   747984002       1  0.000053   1.0\n",
       "10844248  9223370729206611574   781758003       1  0.001461   1.0\n",
       "\n",
       "[6693016 rows x 5 columns]"
      ]
     },
     "execution_count": 19,
     "metadata": {},
     "output_type": "execute_result"
    }
   ],
   "source": [
    "result1"
   ]
  },
  {
   "cell_type": "code",
   "execution_count": 20,
   "id": "edcbe2be",
   "metadata": {
    "execution": {
     "iopub.execute_input": "2022-03-27T12:54:51.211595Z",
     "iopub.status.busy": "2022-03-27T12:54:51.210706Z",
     "iopub.status.idle": "2022-03-27T12:54:51.212564Z",
     "shell.execute_reply": "2022-03-27T12:54:51.212971Z",
     "shell.execute_reply.started": "2022-03-27T12:46:31.097109Z"
    },
    "papermill": {
     "duration": 0.136482,
     "end_time": "2022-03-27T12:54:51.213120",
     "exception": false,
     "start_time": "2022-03-27T12:54:51.076638",
     "status": "completed"
    },
    "tags": []
   },
   "outputs": [],
   "source": [
    "#result1.to_csv(\"/kaggle/working/result1.csv\", index = False)"
   ]
  },
  {
   "cell_type": "markdown",
   "id": "979e72a7",
   "metadata": {
    "execution": {
     "iopub.execute_input": "2022-03-19T09:13:27.534287Z",
     "iopub.status.busy": "2022-03-19T09:13:27.534029Z",
     "iopub.status.idle": "2022-03-19T09:13:27.537763Z",
     "shell.execute_reply": "2022-03-19T09:13:27.536825Z",
     "shell.execute_reply.started": "2022-03-19T09:13:27.534257Z"
    },
    "papermill": {
     "duration": 0.136134,
     "end_time": "2022-03-27T12:54:51.476742",
     "exception": false,
     "start_time": "2022-03-27T12:54:51.340608",
     "status": "completed"
    },
    "tags": []
   },
   "source": [
    "## 第二路：相似复购"
   ]
  },
  {
   "cell_type": "code",
   "execution_count": 21,
   "id": "6b5d7f72",
   "metadata": {
    "execution": {
     "iopub.execute_input": "2022-03-27T12:54:51.763135Z",
     "iopub.status.busy": "2022-03-27T12:54:51.745681Z",
     "iopub.status.idle": "2022-03-27T12:54:59.370190Z",
     "shell.execute_reply": "2022-03-27T12:54:59.368900Z",
     "shell.execute_reply.started": "2022-03-27T12:46:31.106237Z"
    },
    "papermill": {
     "duration": 7.758237,
     "end_time": "2022-03-27T12:54:59.370378",
     "exception": false,
     "start_time": "2022-03-27T12:54:51.612141",
     "status": "completed"
    },
    "tags": []
   },
   "outputs": [
    {
     "name": "stdout",
     "output_type": "stream",
     "text": [
      "Requirement already satisfied: cudf in /opt/conda/lib/python3.7/site-packages (21.10.1)\r\n",
      "Requirement already satisfied: numba>=0.53.1 in /opt/conda/lib/python3.7/site-packages (from cudf) (0.54.1)\r\n",
      "Requirement already satisfied: Cython<0.30,>=0.29 in /opt/conda/lib/python3.7/site-packages (from cudf) (0.29.28)\r\n",
      "Requirement already satisfied: fastavro>=0.22.9 in /opt/conda/lib/python3.7/site-packages (from cudf) (1.4.9)\r\n",
      "Requirement already satisfied: fsspec>=0.6.0 in /opt/conda/lib/python3.7/site-packages (from cudf) (2022.2.0)\r\n",
      "Requirement already satisfied: numpy in /opt/conda/lib/python3.7/site-packages (from cudf) (1.20.3)\r\n",
      "Requirement already satisfied: pandas<1.4.0dev0,>=1.0 in /opt/conda/lib/python3.7/site-packages (from cudf) (1.3.5)\r\n",
      "Requirement already satisfied: typing_extensions in /opt/conda/lib/python3.7/site-packages (from cudf) (4.1.1)\r\n",
      "Requirement already satisfied: protobuf in /opt/conda/lib/python3.7/site-packages (from cudf) (3.19.1)\r\n",
      "Requirement already satisfied: nvtx>=0.2.1 in /opt/conda/lib/python3.7/site-packages (from cudf) (0.2.3)\r\n",
      "Requirement already satisfied: cachetools in /opt/conda/lib/python3.7/site-packages (from cudf) (4.2.4)\r\n",
      "Requirement already satisfied: packaging in /opt/conda/lib/python3.7/site-packages (from cudf) (21.3)\r\n",
      "Requirement already satisfied: cupy-cuda110 in /opt/conda/lib/python3.7/site-packages (from cudf) (10.2.0)\r\n",
      "Requirement already satisfied: llvmlite<0.38,>=0.37.0rc1 in /opt/conda/lib/python3.7/site-packages (from numba>=0.53.1->cudf) (0.37.0)\r\n",
      "Requirement already satisfied: setuptools in /opt/conda/lib/python3.7/site-packages (from numba>=0.53.1->cudf) (59.5.0)\r\n",
      "Requirement already satisfied: python-dateutil>=2.7.3 in /opt/conda/lib/python3.7/site-packages (from pandas<1.4.0dev0,>=1.0->cudf) (2.8.2)\r\n",
      "Requirement already satisfied: pytz>=2017.3 in /opt/conda/lib/python3.7/site-packages (from pandas<1.4.0dev0,>=1.0->cudf) (2021.3)\r\n",
      "Requirement already satisfied: fastrlock>=0.5 in /opt/conda/lib/python3.7/site-packages (from cupy-cuda110->cudf) (0.8)\r\n",
      "Requirement already satisfied: pyparsing!=3.0.5,>=2.0.2 in /opt/conda/lib/python3.7/site-packages (from packaging->cudf) (3.0.6)\r\n",
      "Requirement already satisfied: six>=1.5 in /opt/conda/lib/python3.7/site-packages (from python-dateutil>=2.7.3->pandas<1.4.0dev0,>=1.0->cudf) (1.16.0)\r\n",
      "\u001b[33mWARNING: Running pip as the 'root' user can result in broken permissions and conflicting behaviour with the system package manager. It is recommended to use a virtual environment instead: https://pip.pypa.io/warnings/venv\u001b[0m\r\n"
     ]
    }
   ],
   "source": [
    "!pip install cudf\n",
    "import numpy as np\n",
    "import pandas as pd \n",
    "from datetime import datetime, timedelta\n",
    "import gc\n",
    "import cudf\n",
    "import cv2, matplotlib.pyplot as plt\n",
    "from os.path import exists"
   ]
  },
  {
   "cell_type": "code",
   "execution_count": 22,
   "id": "870d91af",
   "metadata": {
    "execution": {
     "iopub.execute_input": "2022-03-27T12:54:59.742226Z",
     "iopub.status.busy": "2022-03-27T12:54:59.741260Z",
     "iopub.status.idle": "2022-03-27T12:54:59.743240Z",
     "shell.execute_reply": "2022-03-27T12:54:59.743654Z",
     "shell.execute_reply.started": "2022-03-27T12:46:38.851639Z"
    },
    "papermill": {
     "duration": 0.145364,
     "end_time": "2022-03-27T12:54:59.743794",
     "exception": false,
     "start_time": "2022-03-27T12:54:59.598430",
     "status": "completed"
    },
    "tags": []
   },
   "outputs": [],
   "source": [
    "# # LOAD TRANSACTIONS DATAFRAME\n",
    "# df = cudf.read_csv('../input/h-and-m-personalized-fashion-recommendations/transactions_train.csv')\n",
    "# print('Transactions shape',df.shape)\n",
    "# display( df.head() )\n",
    "\n",
    "# # REDUCE MEMORY OF DATAFRAME\n",
    "# df = df[['customer_id','article_id']]\n",
    "# df.customer_id = df.customer_id.str[-16:].str.hex_to_int().astype('int64')\n",
    "# df.article_id = df.article_id.astype('int32')\n",
    "# _ = gc.collect()"
   ]
  },
  {
   "cell_type": "code",
   "execution_count": 23,
   "id": "d448a9bb",
   "metadata": {
    "execution": {
     "iopub.execute_input": "2022-03-27T12:55:00.012297Z",
     "iopub.status.busy": "2022-03-27T12:55:00.010472Z",
     "iopub.status.idle": "2022-03-27T12:55:00.012866Z",
     "shell.execute_reply": "2022-03-27T12:55:00.013306Z",
     "shell.execute_reply.started": "2022-03-27T12:46:38.857419Z"
    },
    "papermill": {
     "duration": 0.138782,
     "end_time": "2022-03-27T12:55:00.013453",
     "exception": false,
     "start_time": "2022-03-27T12:54:59.874671",
     "status": "completed"
    },
    "tags": []
   },
   "outputs": [],
   "source": [
    "# # FIND ITEMS PURCHASED TOGETHER\n",
    "# vc = df.article_id.value_counts()\n",
    "# pairs = {}\n",
    "# # for j,i in enumerate(vc.index.values[1000:1032]):\n",
    "# #     #if j%10==0: print(j,', ',end='')\n",
    "# #     USERS = df.loc[df.article_id==i.item(),'customer_id'].unique()\n",
    "# #     vc2 = df.loc[(df.customer_id.isin(USERS))&(df.article_id!=i.item()),'article_id'].value_counts()\n",
    "# #     pairs[i.item()] = [vc2.index[0], vc2.index[1], vc2.index[2]]"
   ]
  },
  {
   "cell_type": "code",
   "execution_count": 24,
   "id": "7e525edf",
   "metadata": {
    "execution": {
     "iopub.execute_input": "2022-03-27T12:55:00.279518Z",
     "iopub.status.busy": "2022-03-27T12:55:00.278466Z",
     "iopub.status.idle": "2022-03-27T12:55:00.280423Z",
     "shell.execute_reply": "2022-03-27T12:55:00.280912Z",
     "shell.execute_reply.started": "2022-03-27T12:46:38.870746Z"
    },
    "papermill": {
     "duration": 0.138764,
     "end_time": "2022-03-27T12:55:00.281045",
     "exception": false,
     "start_time": "2022-03-27T12:55:00.142281",
     "status": "completed"
    },
    "tags": []
   },
   "outputs": [],
   "source": [
    "# vc = vc.reset_index().rename(columns = {\"article_id\":\"count\", \"index\":\"article_id\"})"
   ]
  },
  {
   "cell_type": "code",
   "execution_count": 25,
   "id": "1d0b5cdf",
   "metadata": {
    "execution": {
     "iopub.execute_input": "2022-03-27T12:55:00.544165Z",
     "iopub.status.busy": "2022-03-27T12:55:00.543293Z",
     "iopub.status.idle": "2022-03-27T12:55:00.547054Z",
     "shell.execute_reply": "2022-03-27T12:55:00.546622Z",
     "shell.execute_reply.started": "2022-03-27T12:46:38.879445Z"
    },
    "papermill": {
     "duration": 0.134765,
     "end_time": "2022-03-27T12:55:00.547198",
     "exception": false,
     "start_time": "2022-03-27T12:55:00.412433",
     "status": "completed"
    },
    "tags": []
   },
   "outputs": [],
   "source": [
    "# vc = vc[vc[\"count\"]>=50]"
   ]
  },
  {
   "cell_type": "code",
   "execution_count": 26,
   "id": "c8e6d364",
   "metadata": {
    "execution": {
     "iopub.execute_input": "2022-03-27T12:55:00.819833Z",
     "iopub.status.busy": "2022-03-27T12:55:00.818855Z",
     "iopub.status.idle": "2022-03-27T12:55:00.821672Z",
     "shell.execute_reply": "2022-03-27T12:55:00.821192Z",
     "shell.execute_reply.started": "2022-03-27T12:46:38.890244Z"
    },
    "papermill": {
     "duration": 0.143646,
     "end_time": "2022-03-27T12:55:00.821801",
     "exception": false,
     "start_time": "2022-03-27T12:55:00.678155",
     "status": "completed"
    },
    "tags": []
   },
   "outputs": [],
   "source": [
    "# def cal_together_score(x):\n",
    "#     USERS = df.loc[df.article_id==x[\"article_id\"],'customer_id'].unique()\n",
    "#     vc2 = df.loc[(df.customer_id.isin(USERS))&(df.article_id!=x[\"article_id\"]),'article_id'].value_counts()\n",
    "#     #pairs[i.item()] = [vc2.index[0], vc2.index[1], vc2.index[2]]\n",
    "#     return [[x.article_id, vc2.index[i], vc2.iloc[i]/x[\"count\"]] for i in range(min(10, len(vc2)))]"
   ]
  },
  {
   "cell_type": "code",
   "execution_count": 27,
   "id": "7281a691",
   "metadata": {
    "execution": {
     "iopub.execute_input": "2022-03-27T12:55:01.111691Z",
     "iopub.status.busy": "2022-03-27T12:55:01.110827Z",
     "iopub.status.idle": "2022-03-27T12:55:01.113251Z",
     "shell.execute_reply": "2022-03-27T12:55:01.112680Z",
     "shell.execute_reply.started": "2022-03-27T12:46:38.899189Z"
    },
    "papermill": {
     "duration": 0.143363,
     "end_time": "2022-03-27T12:55:01.113376",
     "exception": false,
     "start_time": "2022-03-27T12:55:00.970013",
     "status": "completed"
    },
    "tags": []
   },
   "outputs": [],
   "source": [
    "#relation = vc.to_pandas().apply(lambda x: cal_together_score(x), axis = 1).sum()"
   ]
  },
  {
   "cell_type": "code",
   "execution_count": 28,
   "id": "cea48fc7",
   "metadata": {
    "execution": {
     "iopub.execute_input": "2022-03-27T12:55:01.392372Z",
     "iopub.status.busy": "2022-03-27T12:55:01.391493Z",
     "iopub.status.idle": "2022-03-27T12:55:01.393403Z",
     "shell.execute_reply": "2022-03-27T12:55:01.393804Z",
     "shell.execute_reply.started": "2022-03-27T12:46:38.912775Z"
    },
    "papermill": {
     "duration": 0.143787,
     "end_time": "2022-03-27T12:55:01.393948",
     "exception": false,
     "start_time": "2022-03-27T12:55:01.250161",
     "status": "completed"
    },
    "tags": []
   },
   "outputs": [],
   "source": [
    "#%%time\n",
    "# df  = cudf.read_csv('../input/h-and-m-personalized-fashion-recommendations/transactions_train.csv',\n",
    "#                             usecols= ['t_dat', 'customer_id', 'article_id'], \n",
    "#                             dtype={'article_id': 'int32', 't_dat': 'string', 'customer_id': 'string'})\n",
    "# df ['customer_id'] = df ['customer_id'].str[-16:].str.hex_to_int().astype('int64')\n",
    "\n",
    "# df['t_dat'] = cudf.to_datetime(df['t_dat'])\n",
    "# last_ts = df['t_dat'].max()"
   ]
  },
  {
   "cell_type": "code",
   "execution_count": 29,
   "id": "a7a8e410",
   "metadata": {
    "execution": {
     "iopub.execute_input": "2022-03-27T12:55:01.657277Z",
     "iopub.status.busy": "2022-03-27T12:55:01.656482Z",
     "iopub.status.idle": "2022-03-27T12:55:01.663235Z",
     "shell.execute_reply": "2022-03-27T12:55:01.662759Z",
     "shell.execute_reply.started": "2022-03-27T12:46:38.919031Z"
    },
    "papermill": {
     "duration": 0.141098,
     "end_time": "2022-03-27T12:55:01.663358",
     "exception": false,
     "start_time": "2022-03-27T12:55:01.522260",
     "status": "completed"
    },
    "tags": []
   },
   "outputs": [],
   "source": [
    "df = train.copy()"
   ]
  },
  {
   "cell_type": "code",
   "execution_count": 30,
   "id": "96f36da0",
   "metadata": {
    "execution": {
     "iopub.execute_input": "2022-03-27T12:55:01.931689Z",
     "iopub.status.busy": "2022-03-27T12:55:01.930540Z",
     "iopub.status.idle": "2022-03-27T12:55:09.654334Z",
     "shell.execute_reply": "2022-03-27T12:55:09.654923Z",
     "shell.execute_reply.started": "2022-03-27T12:46:38.931745Z"
    },
    "papermill": {
     "duration": 7.862747,
     "end_time": "2022-03-27T12:55:09.655139",
     "exception": false,
     "start_time": "2022-03-27T12:55:01.792392",
     "status": "completed"
    },
    "tags": []
   },
   "outputs": [
    {
     "name": "stdout",
     "output_type": "stream",
     "text": [
      "CPU times: user 6.28 s, sys: 1.59 s, total: 7.86 s\n",
      "Wall time: 7.72 s\n"
     ]
    }
   ],
   "source": [
    "%%time\n",
    "tmp = df[['t_dat']].copy().to_pandas()\n",
    "tmp['dow'] = tmp['t_dat'].dt.dayofweek\n",
    "tmp['ldbw'] = tmp['t_dat'] - pd.TimedeltaIndex(tmp['dow'] - 1, unit='D')\n",
    "tmp.loc[tmp['dow'] >=2 , 'ldbw'] = tmp.loc[tmp['dow'] >=2 , 'ldbw'] + pd.TimedeltaIndex(np.ones(len(tmp.loc[tmp['dow'] >=2])) * 7, unit='D')\n",
    "\n",
    "df['ldbw'] = tmp['ldbw'].values"
   ]
  },
  {
   "cell_type": "code",
   "execution_count": 31,
   "id": "4b9ad473",
   "metadata": {
    "execution": {
     "iopub.execute_input": "2022-03-27T12:55:09.922205Z",
     "iopub.status.busy": "2022-03-27T12:55:09.920581Z",
     "iopub.status.idle": "2022-03-27T12:55:09.922775Z",
     "shell.execute_reply": "2022-03-27T12:55:09.923228Z",
     "shell.execute_reply.started": "2022-03-27T12:46:46.646454Z"
    },
    "papermill": {
     "duration": 0.13955,
     "end_time": "2022-03-27T12:55:09.923390",
     "exception": false,
     "start_time": "2022-03-27T12:55:09.783840",
     "status": "completed"
    },
    "tags": []
   },
   "outputs": [],
   "source": [
    "#relation_data = cudf.DataFrame(relation, columns = [\"from_id\", \"to_id\", \"ratio\"])"
   ]
  },
  {
   "cell_type": "code",
   "execution_count": 32,
   "id": "99852cfc",
   "metadata": {
    "execution": {
     "iopub.execute_input": "2022-03-27T12:55:10.270941Z",
     "iopub.status.busy": "2022-03-27T12:55:10.269752Z",
     "iopub.status.idle": "2022-03-27T12:55:10.493004Z",
     "shell.execute_reply": "2022-03-27T12:55:10.493782Z",
     "shell.execute_reply.started": "2022-03-27T12:46:46.650712Z"
    },
    "papermill": {
     "duration": 0.43863,
     "end_time": "2022-03-27T12:55:10.493997",
     "exception": false,
     "start_time": "2022-03-27T12:55:10.055367",
     "status": "completed"
    },
    "tags": []
   },
   "outputs": [],
   "source": [
    "relation_data = cudf.read_csv(\"../input/relation/relation_data.csv\")"
   ]
  },
  {
   "cell_type": "code",
   "execution_count": 33,
   "id": "a34a5ee2",
   "metadata": {
    "execution": {
     "iopub.execute_input": "2022-03-27T12:55:10.799435Z",
     "iopub.status.busy": "2022-03-27T12:55:10.798581Z",
     "iopub.status.idle": "2022-03-27T12:55:10.841712Z",
     "shell.execute_reply": "2022-03-27T12:55:10.842157Z",
     "shell.execute_reply.started": "2022-03-27T12:46:46.866764Z"
    },
    "papermill": {
     "duration": 0.179958,
     "end_time": "2022-03-27T12:55:10.842311",
     "exception": false,
     "start_time": "2022-03-27T12:55:10.662353",
     "status": "completed"
    },
    "tags": []
   },
   "outputs": [
    {
     "data": {
      "text/html": [
       "<div>\n",
       "<style scoped>\n",
       "    .dataframe tbody tr th:only-of-type {\n",
       "        vertical-align: middle;\n",
       "    }\n",
       "\n",
       "    .dataframe tbody tr th {\n",
       "        vertical-align: top;\n",
       "    }\n",
       "\n",
       "    .dataframe thead th {\n",
       "        text-align: right;\n",
       "    }\n",
       "</style>\n",
       "<table border=\"1\" class=\"dataframe\">\n",
       "  <thead>\n",
       "    <tr style=\"text-align: right;\">\n",
       "      <th></th>\n",
       "      <th>from_id</th>\n",
       "      <th>to_id</th>\n",
       "      <th>ratio</th>\n",
       "    </tr>\n",
       "  </thead>\n",
       "  <tbody>\n",
       "    <tr>\n",
       "      <th>0</th>\n",
       "      <td>706016001</td>\n",
       "      <td>706016002</td>\n",
       "      <td>0.250144</td>\n",
       "    </tr>\n",
       "    <tr>\n",
       "      <th>1</th>\n",
       "      <td>706016001</td>\n",
       "      <td>706016003</td>\n",
       "      <td>0.155706</td>\n",
       "    </tr>\n",
       "    <tr>\n",
       "      <th>2</th>\n",
       "      <td>706016001</td>\n",
       "      <td>706016015</td>\n",
       "      <td>0.117943</td>\n",
       "    </tr>\n",
       "    <tr>\n",
       "      <th>3</th>\n",
       "      <td>706016001</td>\n",
       "      <td>706016006</td>\n",
       "      <td>0.097799</td>\n",
       "    </tr>\n",
       "    <tr>\n",
       "      <th>4</th>\n",
       "      <td>706016001</td>\n",
       "      <td>399223001</td>\n",
       "      <td>0.087299</td>\n",
       "    </tr>\n",
       "    <tr>\n",
       "      <th>...</th>\n",
       "      <td>...</td>\n",
       "      <td>...</td>\n",
       "      <td>...</td>\n",
       "    </tr>\n",
       "    <tr>\n",
       "      <th>570535</th>\n",
       "      <td>657165029</td>\n",
       "      <td>763270003</td>\n",
       "      <td>0.120000</td>\n",
       "    </tr>\n",
       "    <tr>\n",
       "      <th>570536</th>\n",
       "      <td>657165029</td>\n",
       "      <td>628327005</td>\n",
       "      <td>0.120000</td>\n",
       "    </tr>\n",
       "    <tr>\n",
       "      <th>570537</th>\n",
       "      <td>657165029</td>\n",
       "      <td>664319001</td>\n",
       "      <td>0.120000</td>\n",
       "    </tr>\n",
       "    <tr>\n",
       "      <th>570538</th>\n",
       "      <td>657165029</td>\n",
       "      <td>608776002</td>\n",
       "      <td>0.100000</td>\n",
       "    </tr>\n",
       "    <tr>\n",
       "      <th>570539</th>\n",
       "      <td>657165029</td>\n",
       "      <td>745806001</td>\n",
       "      <td>0.100000</td>\n",
       "    </tr>\n",
       "  </tbody>\n",
       "</table>\n",
       "<p>570540 rows × 3 columns</p>\n",
       "</div>"
      ],
      "text/plain": [
       "          from_id      to_id     ratio\n",
       "0       706016001  706016002  0.250144\n",
       "1       706016001  706016003  0.155706\n",
       "2       706016001  706016015  0.117943\n",
       "3       706016001  706016006  0.097799\n",
       "4       706016001  399223001  0.087299\n",
       "...           ...        ...       ...\n",
       "570535  657165029  763270003  0.120000\n",
       "570536  657165029  628327005  0.120000\n",
       "570537  657165029  664319001  0.120000\n",
       "570538  657165029  608776002  0.100000\n",
       "570539  657165029  745806001  0.100000\n",
       "\n",
       "[570540 rows x 3 columns]"
      ]
     },
     "execution_count": 33,
     "metadata": {},
     "output_type": "execute_result"
    }
   ],
   "source": [
    "relation_data"
   ]
  },
  {
   "cell_type": "code",
   "execution_count": 34,
   "id": "e9a9371b",
   "metadata": {
    "execution": {
     "iopub.execute_input": "2022-03-27T12:55:11.285251Z",
     "iopub.status.busy": "2022-03-27T12:55:11.284214Z",
     "iopub.status.idle": "2022-03-27T12:55:11.287266Z",
     "shell.execute_reply": "2022-03-27T12:55:11.287665Z",
     "shell.execute_reply.started": "2022-03-27T12:46:46.947164Z"
    },
    "papermill": {
     "duration": 0.308326,
     "end_time": "2022-03-27T12:55:11.287811",
     "exception": false,
     "start_time": "2022-03-27T12:55:10.979485",
     "status": "completed"
    },
    "tags": []
   },
   "outputs": [
    {
     "data": {
      "text/plain": [
       "106"
      ]
     },
     "execution_count": 34,
     "metadata": {},
     "output_type": "execute_result"
    }
   ],
   "source": [
    "del tmp\n",
    "gc.collect()"
   ]
  },
  {
   "cell_type": "code",
   "execution_count": 35,
   "id": "cb07dda6",
   "metadata": {
    "execution": {
     "iopub.execute_input": "2022-03-27T12:55:11.554898Z",
     "iopub.status.busy": "2022-03-27T12:55:11.554025Z",
     "iopub.status.idle": "2022-03-27T12:55:11.686691Z",
     "shell.execute_reply": "2022-03-27T12:55:11.686187Z",
     "shell.execute_reply.started": "2022-03-27T12:46:47.152965Z"
    },
    "papermill": {
     "duration": 0.26837,
     "end_time": "2022-03-27T12:55:11.686815",
     "exception": false,
     "start_time": "2022-03-27T12:55:11.418445",
     "status": "completed"
    },
    "tags": []
   },
   "outputs": [],
   "source": [
    "weekly_sales = df.drop('customer_id', axis=1).groupby(['ldbw', 'article_id']).count().reset_index()\n",
    "weekly_sales = weekly_sales.rename(columns={'t_dat': 'count'})"
   ]
  },
  {
   "cell_type": "code",
   "execution_count": 36,
   "id": "bb88d566",
   "metadata": {
    "execution": {
     "iopub.execute_input": "2022-03-27T12:55:11.965755Z",
     "iopub.status.busy": "2022-03-27T12:55:11.964797Z",
     "iopub.status.idle": "2022-03-27T12:55:12.013880Z",
     "shell.execute_reply": "2022-03-27T12:55:12.014324Z",
     "shell.execute_reply.started": "2022-03-27T12:46:47.283309Z"
    },
    "papermill": {
     "duration": 0.195371,
     "end_time": "2022-03-27T12:55:12.014490",
     "exception": false,
     "start_time": "2022-03-27T12:55:11.819119",
     "status": "completed"
    },
    "tags": []
   },
   "outputs": [
    {
     "data": {
      "text/html": [
       "<div>\n",
       "<style scoped>\n",
       "    .dataframe tbody tr th:only-of-type {\n",
       "        vertical-align: middle;\n",
       "    }\n",
       "\n",
       "    .dataframe tbody tr th {\n",
       "        vertical-align: top;\n",
       "    }\n",
       "\n",
       "    .dataframe thead th {\n",
       "        text-align: right;\n",
       "    }\n",
       "</style>\n",
       "<table border=\"1\" class=\"dataframe\">\n",
       "  <thead>\n",
       "    <tr style=\"text-align: right;\">\n",
       "      <th></th>\n",
       "      <th>ldbw</th>\n",
       "      <th>article_id</th>\n",
       "      <th>count</th>\n",
       "      <th>price</th>\n",
       "      <th>sales_channel_id</th>\n",
       "    </tr>\n",
       "  </thead>\n",
       "  <tbody>\n",
       "    <tr>\n",
       "      <th>0</th>\n",
       "      <td>2019-03-12</td>\n",
       "      <td>719447002</td>\n",
       "      <td>4</td>\n",
       "      <td>4</td>\n",
       "      <td>4</td>\n",
       "    </tr>\n",
       "    <tr>\n",
       "      <th>1</th>\n",
       "      <td>2019-04-16</td>\n",
       "      <td>590203002</td>\n",
       "      <td>1</td>\n",
       "      <td>1</td>\n",
       "      <td>1</td>\n",
       "    </tr>\n",
       "    <tr>\n",
       "      <th>2</th>\n",
       "      <td>2020-05-05</td>\n",
       "      <td>831684001</td>\n",
       "      <td>12</td>\n",
       "      <td>12</td>\n",
       "      <td>12</td>\n",
       "    </tr>\n",
       "    <tr>\n",
       "      <th>3</th>\n",
       "      <td>2019-05-28</td>\n",
       "      <td>693508002</td>\n",
       "      <td>1</td>\n",
       "      <td>1</td>\n",
       "      <td>1</td>\n",
       "    </tr>\n",
       "    <tr>\n",
       "      <th>4</th>\n",
       "      <td>2019-07-02</td>\n",
       "      <td>777038001</td>\n",
       "      <td>5</td>\n",
       "      <td>5</td>\n",
       "      <td>5</td>\n",
       "    </tr>\n",
       "    <tr>\n",
       "      <th>...</th>\n",
       "      <td>...</td>\n",
       "      <td>...</td>\n",
       "      <td>...</td>\n",
       "      <td>...</td>\n",
       "      <td>...</td>\n",
       "    </tr>\n",
       "    <tr>\n",
       "      <th>2183240</th>\n",
       "      <td>2019-02-12</td>\n",
       "      <td>664871001</td>\n",
       "      <td>34</td>\n",
       "      <td>34</td>\n",
       "      <td>34</td>\n",
       "    </tr>\n",
       "    <tr>\n",
       "      <th>2183241</th>\n",
       "      <td>2019-11-19</td>\n",
       "      <td>640735001</td>\n",
       "      <td>2</td>\n",
       "      <td>2</td>\n",
       "      <td>2</td>\n",
       "    </tr>\n",
       "    <tr>\n",
       "      <th>2183242</th>\n",
       "      <td>2018-10-02</td>\n",
       "      <td>569355002</td>\n",
       "      <td>6</td>\n",
       "      <td>6</td>\n",
       "      <td>6</td>\n",
       "    </tr>\n",
       "    <tr>\n",
       "      <th>2183243</th>\n",
       "      <td>2019-06-04</td>\n",
       "      <td>684021006</td>\n",
       "      <td>8</td>\n",
       "      <td>8</td>\n",
       "      <td>8</td>\n",
       "    </tr>\n",
       "    <tr>\n",
       "      <th>2183244</th>\n",
       "      <td>2019-04-16</td>\n",
       "      <td>767918005</td>\n",
       "      <td>5</td>\n",
       "      <td>5</td>\n",
       "      <td>5</td>\n",
       "    </tr>\n",
       "  </tbody>\n",
       "</table>\n",
       "<p>2183245 rows × 5 columns</p>\n",
       "</div>"
      ],
      "text/plain": [
       "              ldbw  article_id  count  price  sales_channel_id\n",
       "0       2019-03-12   719447002      4      4                 4\n",
       "1       2019-04-16   590203002      1      1                 1\n",
       "2       2020-05-05   831684001     12     12                12\n",
       "3       2019-05-28   693508002      1      1                 1\n",
       "4       2019-07-02   777038001      5      5                 5\n",
       "...            ...         ...    ...    ...               ...\n",
       "2183240 2019-02-12   664871001     34     34                34\n",
       "2183241 2019-11-19   640735001      2      2                 2\n",
       "2183242 2018-10-02   569355002      6      6                 6\n",
       "2183243 2019-06-04   684021006      8      8                 8\n",
       "2183244 2019-04-16   767918005      5      5                 5\n",
       "\n",
       "[2183245 rows x 5 columns]"
      ]
     },
     "execution_count": 36,
     "metadata": {},
     "output_type": "execute_result"
    }
   ],
   "source": [
    "weekly_sales"
   ]
  },
  {
   "cell_type": "code",
   "execution_count": 37,
   "id": "d3c05995",
   "metadata": {
    "execution": {
     "iopub.execute_input": "2022-03-27T12:55:12.287768Z",
     "iopub.status.busy": "2022-03-27T12:55:12.286144Z",
     "iopub.status.idle": "2022-03-27T12:55:12.323233Z",
     "shell.execute_reply": "2022-03-27T12:55:12.322696Z",
     "shell.execute_reply.started": "2022-03-27T12:46:47.348878Z"
    },
    "papermill": {
     "duration": 0.173268,
     "end_time": "2022-03-27T12:55:12.323367",
     "exception": false,
     "start_time": "2022-03-27T12:55:12.150099",
     "status": "completed"
    },
    "tags": []
   },
   "outputs": [],
   "source": [
    "df = df[df[\"ldbw\"] >= pd.to_datetime('2020-08-01')]"
   ]
  },
  {
   "cell_type": "code",
   "execution_count": 38,
   "id": "1c51758e",
   "metadata": {
    "execution": {
     "iopub.execute_input": "2022-03-27T12:55:12.593548Z",
     "iopub.status.busy": "2022-03-27T12:55:12.592665Z",
     "iopub.status.idle": "2022-03-27T12:55:12.636658Z",
     "shell.execute_reply": "2022-03-27T12:55:12.636133Z",
     "shell.execute_reply.started": "2022-03-27T12:46:47.398022Z"
    },
    "papermill": {
     "duration": 0.179394,
     "end_time": "2022-03-27T12:55:12.636787",
     "exception": false,
     "start_time": "2022-03-27T12:55:12.457393",
     "status": "completed"
    },
    "tags": []
   },
   "outputs": [],
   "source": [
    "full_result = df.merge(relation_data, left_on = \"article_id\", right_on = \"from_id\")"
   ]
  },
  {
   "cell_type": "code",
   "execution_count": 39,
   "id": "fdc5d317",
   "metadata": {
    "execution": {
     "iopub.execute_input": "2022-03-27T12:55:12.912603Z",
     "iopub.status.busy": "2022-03-27T12:55:12.911687Z",
     "iopub.status.idle": "2022-03-27T12:55:12.913565Z",
     "shell.execute_reply": "2022-03-27T12:55:12.914010Z",
     "shell.execute_reply.started": "2022-03-27T12:46:47.453437Z"
    },
    "papermill": {
     "duration": 0.145711,
     "end_time": "2022-03-27T12:55:12.914180",
     "exception": false,
     "start_time": "2022-03-27T12:55:12.768469",
     "status": "completed"
    },
    "tags": []
   },
   "outputs": [],
   "source": [
    "full_result.drop([\"article_id\", \"from_id\"], axis = 1, inplace = True)"
   ]
  },
  {
   "cell_type": "code",
   "execution_count": 40,
   "id": "440a5356",
   "metadata": {
    "execution": {
     "iopub.execute_input": "2022-03-27T12:55:13.182970Z",
     "iopub.status.busy": "2022-03-27T12:55:13.182125Z",
     "iopub.status.idle": "2022-03-27T12:55:13.216189Z",
     "shell.execute_reply": "2022-03-27T12:55:13.215686Z",
     "shell.execute_reply.started": "2022-03-27T12:46:47.464230Z"
    },
    "papermill": {
     "duration": 0.171375,
     "end_time": "2022-03-27T12:55:13.216331",
     "exception": false,
     "start_time": "2022-03-27T12:55:13.044956",
     "status": "completed"
    },
    "tags": []
   },
   "outputs": [],
   "source": [
    "full_result = full_result.rename(columns = {\"to_id\": \"article_id\"})"
   ]
  },
  {
   "cell_type": "code",
   "execution_count": 41,
   "id": "eeee9316",
   "metadata": {
    "execution": {
     "iopub.execute_input": "2022-03-27T12:55:13.490656Z",
     "iopub.status.busy": "2022-03-27T12:55:13.489686Z",
     "iopub.status.idle": "2022-03-27T12:55:13.552509Z",
     "shell.execute_reply": "2022-03-27T12:55:13.552930Z",
     "shell.execute_reply.started": "2022-03-27T12:46:47.506383Z"
    },
    "papermill": {
     "duration": 0.204988,
     "end_time": "2022-03-27T12:55:13.553091",
     "exception": false,
     "start_time": "2022-03-27T12:55:13.348103",
     "status": "completed"
    },
    "tags": []
   },
   "outputs": [
    {
     "data": {
      "text/html": [
       "<div>\n",
       "<style scoped>\n",
       "    .dataframe tbody tr th:only-of-type {\n",
       "        vertical-align: middle;\n",
       "    }\n",
       "\n",
       "    .dataframe tbody tr th {\n",
       "        vertical-align: top;\n",
       "    }\n",
       "\n",
       "    .dataframe thead th {\n",
       "        text-align: right;\n",
       "    }\n",
       "</style>\n",
       "<table border=\"1\" class=\"dataframe\">\n",
       "  <thead>\n",
       "    <tr style=\"text-align: right;\">\n",
       "      <th></th>\n",
       "      <th>t_dat</th>\n",
       "      <th>customer_id</th>\n",
       "      <th>price</th>\n",
       "      <th>sales_channel_id</th>\n",
       "      <th>ldbw</th>\n",
       "      <th>article_id</th>\n",
       "      <th>ratio</th>\n",
       "    </tr>\n",
       "  </thead>\n",
       "  <tbody>\n",
       "    <tr>\n",
       "      <th>0</th>\n",
       "      <td>2020-07-29</td>\n",
       "      <td>-6007016008589505382</td>\n",
       "      <td>0.030492</td>\n",
       "      <td>2</td>\n",
       "      <td>2020-08-04</td>\n",
       "      <td>811927007</td>\n",
       "      <td>0.298737</td>\n",
       "    </tr>\n",
       "    <tr>\n",
       "      <th>1</th>\n",
       "      <td>2020-07-29</td>\n",
       "      <td>-6007016008589505382</td>\n",
       "      <td>0.022017</td>\n",
       "      <td>2</td>\n",
       "      <td>2020-08-04</td>\n",
       "      <td>811925009</td>\n",
       "      <td>0.407963</td>\n",
       "    </tr>\n",
       "    <tr>\n",
       "      <th>2</th>\n",
       "      <td>2020-07-29</td>\n",
       "      <td>-6007016008589505382</td>\n",
       "      <td>0.025407</td>\n",
       "      <td>2</td>\n",
       "      <td>2020-08-04</td>\n",
       "      <td>913030001</td>\n",
       "      <td>0.209235</td>\n",
       "    </tr>\n",
       "    <tr>\n",
       "      <th>3</th>\n",
       "      <td>2020-07-29</td>\n",
       "      <td>-56930136629560914</td>\n",
       "      <td>0.030492</td>\n",
       "      <td>2</td>\n",
       "      <td>2020-08-04</td>\n",
       "      <td>706016002</td>\n",
       "      <td>0.069138</td>\n",
       "    </tr>\n",
       "    <tr>\n",
       "      <th>4</th>\n",
       "      <td>2020-07-29</td>\n",
       "      <td>-6007016008589505382</td>\n",
       "      <td>0.030492</td>\n",
       "      <td>2</td>\n",
       "      <td>2020-08-04</td>\n",
       "      <td>811927007</td>\n",
       "      <td>0.298737</td>\n",
       "    </tr>\n",
       "    <tr>\n",
       "      <th>...</th>\n",
       "      <td>...</td>\n",
       "      <td>...</td>\n",
       "      <td>...</td>\n",
       "      <td>...</td>\n",
       "      <td>...</td>\n",
       "      <td>...</td>\n",
       "      <td>...</td>\n",
       "    </tr>\n",
       "    <tr>\n",
       "      <th>18750425</th>\n",
       "      <td>2020-09-15</td>\n",
       "      <td>5071616147837568152</td>\n",
       "      <td>0.050831</td>\n",
       "      <td>1</td>\n",
       "      <td>2020-09-15</td>\n",
       "      <td>779333004</td>\n",
       "      <td>0.064356</td>\n",
       "    </tr>\n",
       "    <tr>\n",
       "      <th>18750426</th>\n",
       "      <td>2020-09-15</td>\n",
       "      <td>4908528897358301336</td>\n",
       "      <td>0.042356</td>\n",
       "      <td>2</td>\n",
       "      <td>2020-09-15</td>\n",
       "      <td>922381001</td>\n",
       "      <td>0.140351</td>\n",
       "    </tr>\n",
       "    <tr>\n",
       "      <th>18750427</th>\n",
       "      <td>2020-09-15</td>\n",
       "      <td>4908528897358301336</td>\n",
       "      <td>0.042356</td>\n",
       "      <td>2</td>\n",
       "      <td>2020-09-15</td>\n",
       "      <td>706016015</td>\n",
       "      <td>0.099415</td>\n",
       "    </tr>\n",
       "    <tr>\n",
       "      <th>18750428</th>\n",
       "      <td>2020-09-15</td>\n",
       "      <td>4908528897358301336</td>\n",
       "      <td>0.042356</td>\n",
       "      <td>2</td>\n",
       "      <td>2020-09-15</td>\n",
       "      <td>572998001</td>\n",
       "      <td>0.093567</td>\n",
       "    </tr>\n",
       "    <tr>\n",
       "      <th>18750429</th>\n",
       "      <td>2020-09-15</td>\n",
       "      <td>4908528897358301336</td>\n",
       "      <td>0.042356</td>\n",
       "      <td>2</td>\n",
       "      <td>2020-09-15</td>\n",
       "      <td>864668004</td>\n",
       "      <td>0.093567</td>\n",
       "    </tr>\n",
       "  </tbody>\n",
       "</table>\n",
       "<p>18750430 rows × 7 columns</p>\n",
       "</div>"
      ],
      "text/plain": [
       "              t_dat          customer_id     price  sales_channel_id  \\\n",
       "0        2020-07-29 -6007016008589505382  0.030492                 2   \n",
       "1        2020-07-29 -6007016008589505382  0.022017                 2   \n",
       "2        2020-07-29 -6007016008589505382  0.025407                 2   \n",
       "3        2020-07-29   -56930136629560914  0.030492                 2   \n",
       "4        2020-07-29 -6007016008589505382  0.030492                 2   \n",
       "...             ...                  ...       ...               ...   \n",
       "18750425 2020-09-15  5071616147837568152  0.050831                 1   \n",
       "18750426 2020-09-15  4908528897358301336  0.042356                 2   \n",
       "18750427 2020-09-15  4908528897358301336  0.042356                 2   \n",
       "18750428 2020-09-15  4908528897358301336  0.042356                 2   \n",
       "18750429 2020-09-15  4908528897358301336  0.042356                 2   \n",
       "\n",
       "               ldbw  article_id     ratio  \n",
       "0        2020-08-04   811927007  0.298737  \n",
       "1        2020-08-04   811925009  0.407963  \n",
       "2        2020-08-04   913030001  0.209235  \n",
       "3        2020-08-04   706016002  0.069138  \n",
       "4        2020-08-04   811927007  0.298737  \n",
       "...             ...         ...       ...  \n",
       "18750425 2020-09-15   779333004  0.064356  \n",
       "18750426 2020-09-15   922381001  0.140351  \n",
       "18750427 2020-09-15   706016015  0.099415  \n",
       "18750428 2020-09-15   572998001  0.093567  \n",
       "18750429 2020-09-15   864668004  0.093567  \n",
       "\n",
       "[18750430 rows x 7 columns]"
      ]
     },
     "execution_count": 41,
     "metadata": {},
     "output_type": "execute_result"
    }
   ],
   "source": [
    "full_result"
   ]
  },
  {
   "cell_type": "code",
   "execution_count": 42,
   "id": "6bcd0925",
   "metadata": {
    "execution": {
     "iopub.execute_input": "2022-03-27T12:55:13.818458Z",
     "iopub.status.busy": "2022-03-27T12:55:13.817626Z",
     "iopub.status.idle": "2022-03-27T12:55:13.883940Z",
     "shell.execute_reply": "2022-03-27T12:55:13.883403Z",
     "shell.execute_reply.started": "2022-03-27T12:46:47.584103Z"
    },
    "papermill": {
     "duration": 0.200948,
     "end_time": "2022-03-27T12:55:13.884070",
     "exception": false,
     "start_time": "2022-03-27T12:55:13.683122",
     "status": "completed"
    },
    "tags": []
   },
   "outputs": [],
   "source": [
    "full_result = full_result.merge(weekly_sales, on=['ldbw', 'article_id'], how = 'left')"
   ]
  },
  {
   "cell_type": "code",
   "execution_count": 43,
   "id": "9cc768a0",
   "metadata": {
    "execution": {
     "iopub.execute_input": "2022-03-27T12:55:14.153193Z",
     "iopub.status.busy": "2022-03-27T12:55:14.152425Z",
     "iopub.status.idle": "2022-03-27T12:55:14.154677Z",
     "shell.execute_reply": "2022-03-27T12:55:14.155056Z",
     "shell.execute_reply.started": "2022-03-27T12:46:47.650551Z"
    },
    "papermill": {
     "duration": 0.137343,
     "end_time": "2022-03-27T12:55:14.155214",
     "exception": false,
     "start_time": "2022-03-27T12:55:14.017871",
     "status": "completed"
    },
    "tags": []
   },
   "outputs": [],
   "source": [
    "#full_result.drop([\"article_id\", \"from_id\", \"count\"], axis = 1, inplace = True)"
   ]
  },
  {
   "cell_type": "code",
   "execution_count": 44,
   "id": "f6b0563b",
   "metadata": {
    "execution": {
     "iopub.execute_input": "2022-03-27T12:55:14.422491Z",
     "iopub.status.busy": "2022-03-27T12:55:14.421570Z",
     "iopub.status.idle": "2022-03-27T12:55:14.424004Z",
     "shell.execute_reply": "2022-03-27T12:55:14.423485Z",
     "shell.execute_reply.started": "2022-03-27T12:46:47.656485Z"
    },
    "papermill": {
     "duration": 0.137091,
     "end_time": "2022-03-27T12:55:14.424136",
     "exception": false,
     "start_time": "2022-03-27T12:55:14.287045",
     "status": "completed"
    },
    "tags": []
   },
   "outputs": [],
   "source": [
    "#full_result.dropna(inplace)"
   ]
  },
  {
   "cell_type": "code",
   "execution_count": 45,
   "id": "d7b77c48",
   "metadata": {
    "execution": {
     "iopub.execute_input": "2022-03-27T12:55:14.691189Z",
     "iopub.status.busy": "2022-03-27T12:55:14.690321Z",
     "iopub.status.idle": "2022-03-27T12:55:14.783829Z",
     "shell.execute_reply": "2022-03-27T12:55:14.783330Z",
     "shell.execute_reply.started": "2022-03-27T12:46:47.665901Z"
    },
    "papermill": {
     "duration": 0.228521,
     "end_time": "2022-03-27T12:55:14.783962",
     "exception": false,
     "start_time": "2022-03-27T12:55:14.555441",
     "status": "completed"
    },
    "tags": []
   },
   "outputs": [],
   "source": [
    "weekly_sales = weekly_sales.reset_index().set_index('article_id')\n",
    "\n",
    "full_result = full_result.merge(\n",
    "    weekly_sales.loc[weekly_sales['ldbw']==Last_date, ['count']],\n",
    "    on='article_id', suffixes=(\"\", \"_targ\"))\n",
    "\n",
    "full_result['count_targ'].fillna(0, inplace=True)"
   ]
  },
  {
   "cell_type": "code",
   "execution_count": 46,
   "id": "b310f256",
   "metadata": {
    "execution": {
     "iopub.execute_input": "2022-03-27T12:55:15.067951Z",
     "iopub.status.busy": "2022-03-27T12:55:15.067061Z",
     "iopub.status.idle": "2022-03-27T12:55:15.150522Z",
     "shell.execute_reply": "2022-03-27T12:55:15.150983Z",
     "shell.execute_reply.started": "2022-03-27T12:46:47.761687Z"
    },
    "papermill": {
     "duration": 0.228299,
     "end_time": "2022-03-27T12:55:15.151182",
     "exception": false,
     "start_time": "2022-03-27T12:55:14.922883",
     "status": "completed"
    },
    "tags": []
   },
   "outputs": [
    {
     "data": {
      "text/html": [
       "<div>\n",
       "<style scoped>\n",
       "    .dataframe tbody tr th:only-of-type {\n",
       "        vertical-align: middle;\n",
       "    }\n",
       "\n",
       "    .dataframe tbody tr th {\n",
       "        vertical-align: top;\n",
       "    }\n",
       "\n",
       "    .dataframe thead th {\n",
       "        text-align: right;\n",
       "    }\n",
       "</style>\n",
       "<table border=\"1\" class=\"dataframe\">\n",
       "  <thead>\n",
       "    <tr style=\"text-align: right;\">\n",
       "      <th></th>\n",
       "      <th>t_dat</th>\n",
       "      <th>customer_id</th>\n",
       "      <th>price_x</th>\n",
       "      <th>sales_channel_id_x</th>\n",
       "      <th>ldbw</th>\n",
       "      <th>article_id</th>\n",
       "      <th>ratio</th>\n",
       "      <th>count</th>\n",
       "      <th>price_y</th>\n",
       "      <th>sales_channel_id_y</th>\n",
       "      <th>count_targ</th>\n",
       "    </tr>\n",
       "  </thead>\n",
       "  <tbody>\n",
       "    <tr>\n",
       "      <th>0</th>\n",
       "      <td>2020-07-30</td>\n",
       "      <td>6896914372120773055</td>\n",
       "      <td>0.033881</td>\n",
       "      <td>2</td>\n",
       "      <td>2020-08-04</td>\n",
       "      <td>578630002</td>\n",
       "      <td>0.260073</td>\n",
       "      <td>18</td>\n",
       "      <td>18</td>\n",
       "      <td>18</td>\n",
       "      <td>1</td>\n",
       "    </tr>\n",
       "    <tr>\n",
       "      <th>1</th>\n",
       "      <td>2020-07-30</td>\n",
       "      <td>6896914372120773055</td>\n",
       "      <td>0.033881</td>\n",
       "      <td>2</td>\n",
       "      <td>2020-08-04</td>\n",
       "      <td>578630002</td>\n",
       "      <td>0.260073</td>\n",
       "      <td>18</td>\n",
       "      <td>18</td>\n",
       "      <td>18</td>\n",
       "      <td>1</td>\n",
       "    </tr>\n",
       "    <tr>\n",
       "      <th>2</th>\n",
       "      <td>2020-07-30</td>\n",
       "      <td>6896914372120773055</td>\n",
       "      <td>0.008458</td>\n",
       "      <td>2</td>\n",
       "      <td>2020-08-04</td>\n",
       "      <td>610776002</td>\n",
       "      <td>0.291486</td>\n",
       "      <td>208</td>\n",
       "      <td>208</td>\n",
       "      <td>208</td>\n",
       "      <td>206</td>\n",
       "    </tr>\n",
       "    <tr>\n",
       "      <th>3</th>\n",
       "      <td>2020-07-30</td>\n",
       "      <td>6896914372120773055</td>\n",
       "      <td>0.008458</td>\n",
       "      <td>2</td>\n",
       "      <td>2020-08-04</td>\n",
       "      <td>610776002</td>\n",
       "      <td>0.291486</td>\n",
       "      <td>208</td>\n",
       "      <td>208</td>\n",
       "      <td>208</td>\n",
       "      <td>206</td>\n",
       "    </tr>\n",
       "    <tr>\n",
       "      <th>4</th>\n",
       "      <td>2020-07-30</td>\n",
       "      <td>6896914372120773055</td>\n",
       "      <td>0.008458</td>\n",
       "      <td>2</td>\n",
       "      <td>2020-08-04</td>\n",
       "      <td>610776002</td>\n",
       "      <td>0.291486</td>\n",
       "      <td>208</td>\n",
       "      <td>208</td>\n",
       "      <td>208</td>\n",
       "      <td>206</td>\n",
       "    </tr>\n",
       "    <tr>\n",
       "      <th>...</th>\n",
       "      <td>...</td>\n",
       "      <td>...</td>\n",
       "      <td>...</td>\n",
       "      <td>...</td>\n",
       "      <td>...</td>\n",
       "      <td>...</td>\n",
       "      <td>...</td>\n",
       "      <td>...</td>\n",
       "      <td>...</td>\n",
       "      <td>...</td>\n",
       "      <td>...</td>\n",
       "    </tr>\n",
       "    <tr>\n",
       "      <th>17558330</th>\n",
       "      <td>2020-09-15</td>\n",
       "      <td>5155332850937327809</td>\n",
       "      <td>0.022017</td>\n",
       "      <td>2</td>\n",
       "      <td>2020-09-15</td>\n",
       "      <td>749699002</td>\n",
       "      <td>0.048544</td>\n",
       "      <td>46</td>\n",
       "      <td>46</td>\n",
       "      <td>46</td>\n",
       "      <td>46</td>\n",
       "    </tr>\n",
       "    <tr>\n",
       "      <th>17558331</th>\n",
       "      <td>2020-09-15</td>\n",
       "      <td>6102711561480693254</td>\n",
       "      <td>0.025407</td>\n",
       "      <td>1</td>\n",
       "      <td>2020-09-15</td>\n",
       "      <td>706016002</td>\n",
       "      <td>0.060847</td>\n",
       "      <td>373</td>\n",
       "      <td>373</td>\n",
       "      <td>373</td>\n",
       "      <td>373</td>\n",
       "    </tr>\n",
       "    <tr>\n",
       "      <th>17558332</th>\n",
       "      <td>2020-09-15</td>\n",
       "      <td>-2458382469734728316</td>\n",
       "      <td>0.050831</td>\n",
       "      <td>2</td>\n",
       "      <td>2020-09-15</td>\n",
       "      <td>751471001</td>\n",
       "      <td>0.093750</td>\n",
       "      <td>607</td>\n",
       "      <td>607</td>\n",
       "      <td>607</td>\n",
       "      <td>607</td>\n",
       "    </tr>\n",
       "    <tr>\n",
       "      <th>17558333</th>\n",
       "      <td>2020-09-15</td>\n",
       "      <td>-8028414168786311693</td>\n",
       "      <td>0.050831</td>\n",
       "      <td>2</td>\n",
       "      <td>2020-09-15</td>\n",
       "      <td>610776002</td>\n",
       "      <td>0.059288</td>\n",
       "      <td>206</td>\n",
       "      <td>206</td>\n",
       "      <td>206</td>\n",
       "      <td>206</td>\n",
       "    </tr>\n",
       "    <tr>\n",
       "      <th>17558334</th>\n",
       "      <td>2020-09-15</td>\n",
       "      <td>5805583007194309794</td>\n",
       "      <td>0.033305</td>\n",
       "      <td>2</td>\n",
       "      <td>2020-09-15</td>\n",
       "      <td>111593001</td>\n",
       "      <td>0.060790</td>\n",
       "      <td>65</td>\n",
       "      <td>65</td>\n",
       "      <td>65</td>\n",
       "      <td>65</td>\n",
       "    </tr>\n",
       "  </tbody>\n",
       "</table>\n",
       "<p>17558335 rows × 11 columns</p>\n",
       "</div>"
      ],
      "text/plain": [
       "              t_dat          customer_id   price_x  sales_channel_id_x  \\\n",
       "0        2020-07-30  6896914372120773055  0.033881                   2   \n",
       "1        2020-07-30  6896914372120773055  0.033881                   2   \n",
       "2        2020-07-30  6896914372120773055  0.008458                   2   \n",
       "3        2020-07-30  6896914372120773055  0.008458                   2   \n",
       "4        2020-07-30  6896914372120773055  0.008458                   2   \n",
       "...             ...                  ...       ...                 ...   \n",
       "17558330 2020-09-15  5155332850937327809  0.022017                   2   \n",
       "17558331 2020-09-15  6102711561480693254  0.025407                   1   \n",
       "17558332 2020-09-15 -2458382469734728316  0.050831                   2   \n",
       "17558333 2020-09-15 -8028414168786311693  0.050831                   2   \n",
       "17558334 2020-09-15  5805583007194309794  0.033305                   2   \n",
       "\n",
       "               ldbw  article_id     ratio  count  price_y  sales_channel_id_y  \\\n",
       "0        2020-08-04   578630002  0.260073     18       18                  18   \n",
       "1        2020-08-04   578630002  0.260073     18       18                  18   \n",
       "2        2020-08-04   610776002  0.291486    208      208                 208   \n",
       "3        2020-08-04   610776002  0.291486    208      208                 208   \n",
       "4        2020-08-04   610776002  0.291486    208      208                 208   \n",
       "...             ...         ...       ...    ...      ...                 ...   \n",
       "17558330 2020-09-15   749699002  0.048544     46       46                  46   \n",
       "17558331 2020-09-15   706016002  0.060847    373      373                 373   \n",
       "17558332 2020-09-15   751471001  0.093750    607      607                 607   \n",
       "17558333 2020-09-15   610776002  0.059288    206      206                 206   \n",
       "17558334 2020-09-15   111593001  0.060790     65       65                  65   \n",
       "\n",
       "          count_targ  \n",
       "0                  1  \n",
       "1                  1  \n",
       "2                206  \n",
       "3                206  \n",
       "4                206  \n",
       "...              ...  \n",
       "17558330          46  \n",
       "17558331         373  \n",
       "17558332         607  \n",
       "17558333         206  \n",
       "17558334          65  \n",
       "\n",
       "[17558335 rows x 11 columns]"
      ]
     },
     "execution_count": 46,
     "metadata": {},
     "output_type": "execute_result"
    }
   ],
   "source": [
    "full_result"
   ]
  },
  {
   "cell_type": "code",
   "execution_count": 47,
   "id": "1fcbd321",
   "metadata": {
    "execution": {
     "iopub.execute_input": "2022-03-27T12:55:15.423420Z",
     "iopub.status.busy": "2022-03-27T12:55:15.422555Z",
     "iopub.status.idle": "2022-03-27T12:55:15.428471Z",
     "shell.execute_reply": "2022-03-27T12:55:15.427939Z",
     "shell.execute_reply.started": "2022-03-27T12:46:47.850995Z"
    },
    "papermill": {
     "duration": 0.14404,
     "end_time": "2022-03-27T12:55:15.428597",
     "exception": false,
     "start_time": "2022-03-27T12:55:15.284557",
     "status": "completed"
    },
    "tags": []
   },
   "outputs": [],
   "source": [
    "full_result['quotient'] = full_result['count_targ'] / full_result['count']"
   ]
  },
  {
   "cell_type": "code",
   "execution_count": 48,
   "id": "1501b9f2",
   "metadata": {
    "execution": {
     "iopub.execute_input": "2022-03-27T12:55:15.709598Z",
     "iopub.status.busy": "2022-03-27T12:55:15.708640Z",
     "iopub.status.idle": "2022-03-27T12:55:39.283907Z",
     "shell.execute_reply": "2022-03-27T12:55:39.284633Z",
     "shell.execute_reply.started": "2022-03-27T12:46:47.860670Z"
    },
    "papermill": {
     "duration": 23.721978,
     "end_time": "2022-03-27T12:55:39.284838",
     "exception": false,
     "start_time": "2022-03-27T12:55:15.562860",
     "status": "completed"
    },
    "tags": []
   },
   "outputs": [
    {
     "name": "stdout",
     "output_type": "stream",
     "text": [
      "CPU times: user 18.3 s, sys: 7.05 s, total: 25.4 s\n",
      "Wall time: 23.6 s\n"
     ]
    }
   ],
   "source": [
    "%%time\n",
    "purchase_dict = {}\n",
    "\n",
    "tmp = full_result.copy().to_pandas()\n",
    "tmp['x'] = ((Last_date - tmp['t_dat']) / np.timedelta64(1, 'D')).astype(int)\n",
    "tmp['dummy_1'] = 1 \n",
    "tmp['x'] = tmp[[\"x\", \"dummy_1\"]].max(axis=1)\n",
    "\n",
    "a, b, c, d = 2.5e4, 1.5e5, 2e-1, 1e3\n",
    "total = 1715530\n",
    "tmp['y'] = ((a / np.sqrt(tmp['x']) + b * np.exp(-c*tmp['x']) - d) / total +\\\n",
    "(a / np.sqrt(tmp['x']+1) + b * np.exp(-c*(tmp['x']+1)) - d) / total +\\\n",
    "(a / np.sqrt(tmp['x']+2) + b * np.exp(-c*(tmp['x']+2)) - d) / total +\\\n",
    "(a / np.sqrt(tmp['x']+3) + b * np.exp(-c*(tmp['x']+3)) - d) / total +\\\n",
    "(a / np.sqrt(tmp['x']+4) + b * np.exp(-c*(tmp['x']+4)) - d) / total +\\\n",
    "(a / np.sqrt(tmp['x']+5) + b * np.exp(-c*(tmp['x']+5)) - d) / total +\\\n",
    "(a / np.sqrt(tmp['x']+6) + b * np.exp(-c*(tmp['x']+6)) - d) / total)\n",
    "\n",
    "tmp['dummy_0'] = 0 \n",
    "tmp['y'] = tmp[[\"y\", \"dummy_0\"]].max(axis=1)\n",
    "tmp['score'] = tmp['quotient'] * tmp['y'] * tmp[\"ratio\"]\n",
    "\n",
    "tmp = tmp.groupby(['customer_id', 'article_id']).agg({'score': 'sum'})\n",
    "tmp = tmp.reset_index()\n",
    "\n",
    "tmp = tmp.loc[tmp['score'] > 0]\n",
    "tmp['rank'] = tmp.groupby(\"customer_id\")[\"score\"].rank(\"dense\", ascending=False)\n",
    "tmp = tmp.loc[tmp['rank'] <= 12]\n",
    "tmp[\"source\"] = 2\n",
    "\n",
    "result2 = tmp[[\"customer_id\", \"article_id\", \"source\", \"score\", \"rank\"]]"
   ]
  },
  {
   "cell_type": "code",
   "execution_count": 49,
   "id": "9054edf3",
   "metadata": {
    "execution": {
     "iopub.execute_input": "2022-03-27T12:55:39.554366Z",
     "iopub.status.busy": "2022-03-27T12:55:39.553386Z",
     "iopub.status.idle": "2022-03-27T12:55:39.555802Z",
     "shell.execute_reply": "2022-03-27T12:55:39.555323Z",
     "shell.execute_reply.started": "2022-03-27T12:47:11.807518Z"
    },
    "papermill": {
     "duration": 0.138337,
     "end_time": "2022-03-27T12:55:39.555918",
     "exception": false,
     "start_time": "2022-03-27T12:55:39.417581",
     "status": "completed"
    },
    "tags": []
   },
   "outputs": [],
   "source": [
    "#result2.to_csv(\"result2.csv\", index = False)"
   ]
  },
  {
   "cell_type": "code",
   "execution_count": 50,
   "id": "714510a8",
   "metadata": {
    "execution": {
     "iopub.execute_input": "2022-03-27T12:55:39.972092Z",
     "iopub.status.busy": "2022-03-27T12:55:39.970762Z",
     "iopub.status.idle": "2022-03-27T12:55:39.975731Z",
     "shell.execute_reply": "2022-03-27T12:55:39.975260Z",
     "shell.execute_reply.started": "2022-03-27T12:47:11.813612Z"
    },
    "papermill": {
     "duration": 0.287369,
     "end_time": "2022-03-27T12:55:39.975852",
     "exception": false,
     "start_time": "2022-03-27T12:55:39.688483",
     "status": "completed"
    },
    "tags": []
   },
   "outputs": [
    {
     "data": {
      "text/plain": [
       "42"
      ]
     },
     "execution_count": 50,
     "metadata": {},
     "output_type": "execute_result"
    }
   ],
   "source": [
    "del tmp\n",
    "del df\n",
    "del full_result\n",
    "gc.collect()"
   ]
  },
  {
   "cell_type": "code",
   "execution_count": 51,
   "id": "ede32a14",
   "metadata": {
    "execution": {
     "iopub.execute_input": "2022-03-27T12:55:40.245415Z",
     "iopub.status.busy": "2022-03-27T12:55:40.244518Z",
     "iopub.status.idle": "2022-03-27T12:55:40.246807Z",
     "shell.execute_reply": "2022-03-27T12:55:40.246339Z",
     "shell.execute_reply.started": "2022-03-27T12:47:11.961443Z"
    },
    "papermill": {
     "duration": 0.138487,
     "end_time": "2022-03-27T12:55:40.246919",
     "exception": false,
     "start_time": "2022-03-27T12:55:40.108432",
     "status": "completed"
    },
    "tags": []
   },
   "outputs": [],
   "source": [
    "#relation_data.to_csv(\"/kaggle/working/relation_data.csv\", index = False)"
   ]
  },
  {
   "cell_type": "code",
   "execution_count": 52,
   "id": "e1414b3b",
   "metadata": {
    "execution": {
     "iopub.execute_input": "2022-03-27T12:55:40.517494Z",
     "iopub.status.busy": "2022-03-27T12:55:40.516609Z",
     "iopub.status.idle": "2022-03-27T12:55:40.518561Z",
     "shell.execute_reply": "2022-03-27T12:55:40.518965Z",
     "shell.execute_reply.started": "2022-03-27T12:47:11.967683Z"
    },
    "papermill": {
     "duration": 0.140513,
     "end_time": "2022-03-27T12:55:40.519118",
     "exception": false,
     "start_time": "2022-03-27T12:55:40.378605",
     "status": "completed"
    },
    "tags": []
   },
   "outputs": [],
   "source": [
    "# items = cudf.read_csv('../input/h-and-m-personalized-fashion-recommendations/articles.csv')\n",
    "# BASE = '../input/h-and-m-personalized-fashion-recommendations/images/'\n",
    "\n",
    "# for i,(k,v) in enumerate( pairs.items() ):\n",
    "#     name1 = BASE+'0'+str(k)[:2]+'/0'+str(k)+'.jpg'\n",
    "#     name2 = BASE+'0'+str(v[0])[:2]+'/0'+str(v[0])+'.jpg'\n",
    "#     name3 = BASE+'0'+str(v[1])[:2]+'/0'+str(v[1])+'.jpg'\n",
    "#     name4 = BASE+'0'+str(v[2])[:2]+'/0'+str(v[2])+'.jpg'\n",
    "#     if exists(name1) & exists(name2) & exists(name3) & exists(name4):\n",
    "#         plt.figure(figsize=(20,5))\n",
    "#         img1 = cv2.imread(name1)[:,:,::-1]\n",
    "#         img2 = cv2.imread(name2)[:,:,::-1]\n",
    "#         img3 = cv2.imread(name3)[:,:,::-1]\n",
    "#         img4 = cv2.imread(name4)[:,:,::-1]\n",
    "#         plt.subplot(1,4,1)\n",
    "#         plt.title('When customers buy this',size=18)\n",
    "#         plt.imshow(img1)\n",
    "#         plt.subplot(1,4,2)\n",
    "#         plt.title('They buy this',size=18)\n",
    "#         plt.imshow(img2)\n",
    "#         plt.subplot(1,4,3)\n",
    "#         plt.title('They buy this',size=18)\n",
    "#         plt.imshow(img3)\n",
    "#         plt.subplot(1,4,4)\n",
    "#         plt.title('They buy this',size=18)\n",
    "#         plt.imshow(img4)\n",
    "#         plt.show()\n",
    "#     #if i==63: break"
   ]
  },
  {
   "cell_type": "code",
   "execution_count": 53,
   "id": "8b15bcba",
   "metadata": {
    "execution": {
     "iopub.execute_input": "2022-03-27T12:55:40.798583Z",
     "iopub.status.busy": "2022-03-27T12:55:40.797365Z",
     "iopub.status.idle": "2022-03-27T12:55:40.800837Z",
     "shell.execute_reply": "2022-03-27T12:55:40.801276Z",
     "shell.execute_reply.started": "2022-03-27T12:47:11.976714Z"
    },
    "papermill": {
     "duration": 0.149394,
     "end_time": "2022-03-27T12:55:40.801447",
     "exception": false,
     "start_time": "2022-03-27T12:55:40.652053",
     "status": "completed"
    },
    "tags": []
   },
   "outputs": [
    {
     "data": {
      "text/html": [
       "<div>\n",
       "<style scoped>\n",
       "    .dataframe tbody tr th:only-of-type {\n",
       "        vertical-align: middle;\n",
       "    }\n",
       "\n",
       "    .dataframe tbody tr th {\n",
       "        vertical-align: top;\n",
       "    }\n",
       "\n",
       "    .dataframe thead th {\n",
       "        text-align: right;\n",
       "    }\n",
       "</style>\n",
       "<table border=\"1\" class=\"dataframe\">\n",
       "  <thead>\n",
       "    <tr style=\"text-align: right;\">\n",
       "      <th></th>\n",
       "      <th>customer_id</th>\n",
       "      <th>article_id</th>\n",
       "      <th>source</th>\n",
       "      <th>score</th>\n",
       "      <th>rank</th>\n",
       "    </tr>\n",
       "  </thead>\n",
       "  <tbody>\n",
       "    <tr>\n",
       "      <th>0</th>\n",
       "      <td>-9223352921020755230</td>\n",
       "      <td>156231001</td>\n",
       "      <td>2</td>\n",
       "      <td>0.002209</td>\n",
       "      <td>12.0</td>\n",
       "    </tr>\n",
       "    <tr>\n",
       "      <th>1</th>\n",
       "      <td>-9223352921020755230</td>\n",
       "      <td>372860001</td>\n",
       "      <td>2</td>\n",
       "      <td>0.003020</td>\n",
       "      <td>8.0</td>\n",
       "    </tr>\n",
       "    <tr>\n",
       "      <th>2</th>\n",
       "      <td>-9223352921020755230</td>\n",
       "      <td>372860002</td>\n",
       "      <td>2</td>\n",
       "      <td>0.002471</td>\n",
       "      <td>11.0</td>\n",
       "    </tr>\n",
       "    <tr>\n",
       "      <th>3</th>\n",
       "      <td>-9223352921020755230</td>\n",
       "      <td>448509014</td>\n",
       "      <td>2</td>\n",
       "      <td>0.003171</td>\n",
       "      <td>7.0</td>\n",
       "    </tr>\n",
       "    <tr>\n",
       "      <th>5</th>\n",
       "      <td>-9223352921020755230</td>\n",
       "      <td>562245046</td>\n",
       "      <td>2</td>\n",
       "      <td>0.002872</td>\n",
       "      <td>9.0</td>\n",
       "    </tr>\n",
       "    <tr>\n",
       "      <th>...</th>\n",
       "      <td>...</td>\n",
       "      <td>...</td>\n",
       "      <td>...</td>\n",
       "      <td>...</td>\n",
       "      <td>...</td>\n",
       "    </tr>\n",
       "    <tr>\n",
       "      <th>10385327</th>\n",
       "      <td>9223144259947635662</td>\n",
       "      <td>719957006</td>\n",
       "      <td>2</td>\n",
       "      <td>0.008230</td>\n",
       "      <td>12.0</td>\n",
       "    </tr>\n",
       "    <tr>\n",
       "      <th>10385329</th>\n",
       "      <td>9223144259947635662</td>\n",
       "      <td>720504004</td>\n",
       "      <td>2</td>\n",
       "      <td>0.021830</td>\n",
       "      <td>2.0</td>\n",
       "    </tr>\n",
       "    <tr>\n",
       "      <th>10385330</th>\n",
       "      <td>9223144259947635662</td>\n",
       "      <td>720504007</td>\n",
       "      <td>2</td>\n",
       "      <td>0.016236</td>\n",
       "      <td>5.0</td>\n",
       "    </tr>\n",
       "    <tr>\n",
       "      <th>10385333</th>\n",
       "      <td>9223144259947635662</td>\n",
       "      <td>730863005</td>\n",
       "      <td>2</td>\n",
       "      <td>0.014194</td>\n",
       "      <td>6.0</td>\n",
       "    </tr>\n",
       "    <tr>\n",
       "      <th>10385339</th>\n",
       "      <td>9223144259947635662</td>\n",
       "      <td>749699001</td>\n",
       "      <td>2</td>\n",
       "      <td>0.009977</td>\n",
       "      <td>8.0</td>\n",
       "    </tr>\n",
       "  </tbody>\n",
       "</table>\n",
       "<p>4005628 rows × 5 columns</p>\n",
       "</div>"
      ],
      "text/plain": [
       "                  customer_id  article_id  source     score  rank\n",
       "0        -9223352921020755230   156231001       2  0.002209  12.0\n",
       "1        -9223352921020755230   372860001       2  0.003020   8.0\n",
       "2        -9223352921020755230   372860002       2  0.002471  11.0\n",
       "3        -9223352921020755230   448509014       2  0.003171   7.0\n",
       "5        -9223352921020755230   562245046       2  0.002872   9.0\n",
       "...                       ...         ...     ...       ...   ...\n",
       "10385327  9223144259947635662   719957006       2  0.008230  12.0\n",
       "10385329  9223144259947635662   720504004       2  0.021830   2.0\n",
       "10385330  9223144259947635662   720504007       2  0.016236   5.0\n",
       "10385333  9223144259947635662   730863005       2  0.014194   6.0\n",
       "10385339  9223144259947635662   749699001       2  0.009977   8.0\n",
       "\n",
       "[4005628 rows x 5 columns]"
      ]
     },
     "execution_count": 53,
     "metadata": {},
     "output_type": "execute_result"
    }
   ],
   "source": [
    "result2"
   ]
  },
  {
   "cell_type": "markdown",
   "id": "486be02f",
   "metadata": {
    "papermill": {
     "duration": 0.13303,
     "end_time": "2022-03-27T12:55:41.069363",
     "exception": false,
     "start_time": "2022-03-27T12:55:40.936333",
     "status": "completed"
    },
    "tags": []
   },
   "source": [
    "## 第三路：分层上周热门（+趋势）"
   ]
  },
  {
   "cell_type": "code",
   "execution_count": 54,
   "id": "52885b8b",
   "metadata": {
    "execution": {
     "iopub.execute_input": "2022-03-27T12:55:41.341755Z",
     "iopub.status.busy": "2022-03-27T12:55:41.340940Z",
     "iopub.status.idle": "2022-03-27T12:55:49.089706Z",
     "shell.execute_reply": "2022-03-27T12:55:49.089195Z",
     "shell.execute_reply.started": "2022-03-27T12:47:11.997110Z"
    },
    "papermill": {
     "duration": 7.886915,
     "end_time": "2022-03-27T12:55:49.089828",
     "exception": false,
     "start_time": "2022-03-27T12:55:41.202913",
     "status": "completed"
    },
    "tags": []
   },
   "outputs": [
    {
     "name": "stdout",
     "output_type": "stream",
     "text": [
      "Requirement already satisfied: cudf in /opt/conda/lib/python3.7/site-packages (21.10.1)\r\n",
      "Requirement already satisfied: numba>=0.53.1 in /opt/conda/lib/python3.7/site-packages (from cudf) (0.54.1)\r\n",
      "Requirement already satisfied: Cython<0.30,>=0.29 in /opt/conda/lib/python3.7/site-packages (from cudf) (0.29.28)\r\n",
      "Requirement already satisfied: fastavro>=0.22.9 in /opt/conda/lib/python3.7/site-packages (from cudf) (1.4.9)\r\n",
      "Requirement already satisfied: fsspec>=0.6.0 in /opt/conda/lib/python3.7/site-packages (from cudf) (2022.2.0)\r\n",
      "Requirement already satisfied: numpy in /opt/conda/lib/python3.7/site-packages (from cudf) (1.20.3)\r\n",
      "Requirement already satisfied: pandas<1.4.0dev0,>=1.0 in /opt/conda/lib/python3.7/site-packages (from cudf) (1.3.5)\r\n",
      "Requirement already satisfied: typing_extensions in /opt/conda/lib/python3.7/site-packages (from cudf) (4.1.1)\r\n",
      "Requirement already satisfied: protobuf in /opt/conda/lib/python3.7/site-packages (from cudf) (3.19.1)\r\n",
      "Requirement already satisfied: nvtx>=0.2.1 in /opt/conda/lib/python3.7/site-packages (from cudf) (0.2.3)\r\n",
      "Requirement already satisfied: cachetools in /opt/conda/lib/python3.7/site-packages (from cudf) (4.2.4)\r\n",
      "Requirement already satisfied: packaging in /opt/conda/lib/python3.7/site-packages (from cudf) (21.3)\r\n",
      "Requirement already satisfied: cupy-cuda110 in /opt/conda/lib/python3.7/site-packages (from cudf) (10.2.0)\r\n",
      "Requirement already satisfied: setuptools in /opt/conda/lib/python3.7/site-packages (from numba>=0.53.1->cudf) (59.5.0)\r\n",
      "Requirement already satisfied: llvmlite<0.38,>=0.37.0rc1 in /opt/conda/lib/python3.7/site-packages (from numba>=0.53.1->cudf) (0.37.0)\r\n",
      "Requirement already satisfied: python-dateutil>=2.7.3 in /opt/conda/lib/python3.7/site-packages (from pandas<1.4.0dev0,>=1.0->cudf) (2.8.2)\r\n",
      "Requirement already satisfied: pytz>=2017.3 in /opt/conda/lib/python3.7/site-packages (from pandas<1.4.0dev0,>=1.0->cudf) (2021.3)\r\n",
      "Requirement already satisfied: fastrlock>=0.5 in /opt/conda/lib/python3.7/site-packages (from cupy-cuda110->cudf) (0.8)\r\n",
      "Requirement already satisfied: pyparsing!=3.0.5,>=2.0.2 in /opt/conda/lib/python3.7/site-packages (from packaging->cudf) (3.0.6)\r\n",
      "Requirement already satisfied: six>=1.5 in /opt/conda/lib/python3.7/site-packages (from python-dateutil>=2.7.3->pandas<1.4.0dev0,>=1.0->cudf) (1.16.0)\r\n",
      "\u001b[33mWARNING: Running pip as the 'root' user can result in broken permissions and conflicting behaviour with the system package manager. It is recommended to use a virtual environment instead: https://pip.pypa.io/warnings/venv\u001b[0m\r\n"
     ]
    }
   ],
   "source": [
    "!pip install cudf\n",
    "import numpy as np\n",
    "import pandas as pd \n",
    "from datetime import datetime, timedelta\n",
    "import gc\n",
    "import cudf\n",
    "import cv2, matplotlib.pyplot as plt\n",
    "from os.path import exists"
   ]
  },
  {
   "cell_type": "code",
   "execution_count": 55,
   "id": "5ec811a5",
   "metadata": {
    "execution": {
     "iopub.execute_input": "2022-03-27T12:55:49.368818Z",
     "iopub.status.busy": "2022-03-27T12:55:49.367844Z",
     "iopub.status.idle": "2022-03-27T12:55:49.370293Z",
     "shell.execute_reply": "2022-03-27T12:55:49.369686Z",
     "shell.execute_reply.started": "2022-03-27T12:47:19.938792Z"
    },
    "papermill": {
     "duration": 0.144371,
     "end_time": "2022-03-27T12:55:49.370427",
     "exception": false,
     "start_time": "2022-03-27T12:55:49.226056",
     "status": "completed"
    },
    "tags": []
   },
   "outputs": [],
   "source": [
    "# # LOAD TRANSACTIONS DATAFRAME\n",
    "# df = cudf.read_csv('../input/h-and-m-personalized-fashion-recommendations/transactions_train.csv')\n",
    "# print('Transactions shape',df.shape)\n",
    "# display( df.head() )\n",
    "\n",
    "# # REDUCE MEMORY OF DATAFRAME\n",
    "# df = df[['t_dat','customer_id','article_id']]\n",
    "# df.customer_id = df.customer_id.str[-16:].str.hex_to_int().astype('int64')\n",
    "# df.article_id = df.article_id.astype('int32')\n",
    "# df.t_dat = cudf.to_datetime(df.t_dat)\n",
    "# _ = gc.collect()"
   ]
  },
  {
   "cell_type": "code",
   "execution_count": 56,
   "id": "f78d0842",
   "metadata": {
    "execution": {
     "iopub.execute_input": "2022-03-27T12:55:49.734031Z",
     "iopub.status.busy": "2022-03-27T12:55:49.732403Z",
     "iopub.status.idle": "2022-03-27T12:55:49.743803Z",
     "shell.execute_reply": "2022-03-27T12:55:49.742927Z",
     "shell.execute_reply.started": "2022-03-27T12:47:19.951033Z"
    },
    "papermill": {
     "duration": 0.175439,
     "end_time": "2022-03-27T12:55:49.744064",
     "exception": false,
     "start_time": "2022-03-27T12:55:49.568625",
     "status": "completed"
    },
    "tags": []
   },
   "outputs": [],
   "source": [
    "df = train.copy()"
   ]
  },
  {
   "cell_type": "code",
   "execution_count": 57,
   "id": "07f0ba70",
   "metadata": {
    "execution": {
     "iopub.execute_input": "2022-03-27T12:55:50.075784Z",
     "iopub.status.busy": "2022-03-27T12:55:50.075214Z",
     "iopub.status.idle": "2022-03-27T12:55:52.711146Z",
     "shell.execute_reply": "2022-03-27T12:55:52.710172Z",
     "shell.execute_reply.started": "2022-03-27T12:47:19.969561Z"
    },
    "papermill": {
     "duration": 2.799456,
     "end_time": "2022-03-27T12:55:52.711310",
     "exception": false,
     "start_time": "2022-03-27T12:55:49.911854",
     "status": "completed"
    },
    "tags": []
   },
   "outputs": [],
   "source": [
    "customer = cudf.read_csv('../input/h-and-m-personalized-fashion-recommendations/customers.csv')\n",
    "customer.customer_id = customer.customer_id.str[-16:].str.hex_to_int().astype('int64')"
   ]
  },
  {
   "cell_type": "code",
   "execution_count": 58,
   "id": "19c460c8",
   "metadata": {
    "execution": {
     "iopub.execute_input": "2022-03-27T12:55:53.031224Z",
     "iopub.status.busy": "2022-03-27T12:55:53.030324Z",
     "iopub.status.idle": "2022-03-27T12:55:53.270410Z",
     "shell.execute_reply": "2022-03-27T12:55:53.269206Z",
     "shell.execute_reply.started": "2022-03-27T12:47:22.517167Z"
    },
    "papermill": {
     "duration": 0.412134,
     "end_time": "2022-03-27T12:55:53.270577",
     "exception": false,
     "start_time": "2022-03-27T12:55:52.858443",
     "status": "completed"
    },
    "tags": []
   },
   "outputs": [],
   "source": [
    "sales = cudf.merge(df, customer, on = \"customer_id\", how = 'left')\n",
    "sales = sales[sales.t_dat >= Date_week2]"
   ]
  },
  {
   "cell_type": "code",
   "execution_count": 59,
   "id": "65671bcc",
   "metadata": {
    "execution": {
     "iopub.execute_input": "2022-03-27T12:55:53.579698Z",
     "iopub.status.busy": "2022-03-27T12:55:53.578883Z",
     "iopub.status.idle": "2022-03-27T12:55:53.598798Z",
     "shell.execute_reply": "2022-03-27T12:55:53.598270Z",
     "shell.execute_reply.started": "2022-03-27T12:47:22.794272Z"
    },
    "papermill": {
     "duration": 0.177793,
     "end_time": "2022-03-27T12:55:53.598940",
     "exception": false,
     "start_time": "2022-03-27T12:55:53.421147",
     "status": "completed"
    },
    "tags": []
   },
   "outputs": [],
   "source": [
    "sales = sales.fillna(0)"
   ]
  },
  {
   "cell_type": "code",
   "execution_count": 60,
   "id": "8caf6b3e",
   "metadata": {
    "execution": {
     "iopub.execute_input": "2022-03-27T12:55:53.906015Z",
     "iopub.status.busy": "2022-03-27T12:55:53.905162Z",
     "iopub.status.idle": "2022-03-27T12:55:54.445188Z",
     "shell.execute_reply": "2022-03-27T12:55:54.445939Z",
     "shell.execute_reply.started": "2022-03-27T12:47:22.883541Z"
    },
    "papermill": {
     "duration": 0.699111,
     "end_time": "2022-03-27T12:55:54.446208",
     "exception": false,
     "start_time": "2022-03-27T12:55:53.747097",
     "status": "completed"
    },
    "tags": []
   },
   "outputs": [
    {
     "data": {
      "text/plain": [
       "<AxesSubplot:>"
      ]
     },
     "execution_count": 60,
     "metadata": {},
     "output_type": "execute_result"
    },
    {
     "data": {
      "image/png": "[encoded data removed]",
      "text/plain": [
       "<Figure size 432x288 with 1 Axes>"
      ]
     },
     "metadata": {
      "needs_background": "light"
     },
     "output_type": "display_data"
    }
   ],
   "source": [
    "sales.to_pandas()[\"age\"].hist()"
   ]
  },
  {
   "cell_type": "code",
   "execution_count": 61,
   "id": "47ef3166",
   "metadata": {
    "execution": {
     "iopub.execute_input": "2022-03-27T12:55:55.343210Z",
     "iopub.status.busy": "2022-03-27T12:55:55.342356Z",
     "iopub.status.idle": "2022-03-27T12:55:55.444542Z",
     "shell.execute_reply": "2022-03-27T12:55:55.444941Z",
     "shell.execute_reply.started": "2022-03-27T12:47:23.251925Z"
    },
    "papermill": {
     "duration": 0.577284,
     "end_time": "2022-03-27T12:55:55.445106",
     "exception": false,
     "start_time": "2022-03-27T12:55:54.867822",
     "status": "completed"
    },
    "tags": []
   },
   "outputs": [
    {
     "data": {
      "text/html": [
       "<div>\n",
       "<style scoped>\n",
       "    .dataframe tbody tr th:only-of-type {\n",
       "        vertical-align: middle;\n",
       "    }\n",
       "\n",
       "    .dataframe tbody tr th {\n",
       "        vertical-align: top;\n",
       "    }\n",
       "\n",
       "    .dataframe thead th {\n",
       "        text-align: right;\n",
       "    }\n",
       "</style>\n",
       "<table border=\"1\" class=\"dataframe\">\n",
       "  <thead>\n",
       "    <tr style=\"text-align: right;\">\n",
       "      <th></th>\n",
       "      <th>t_dat</th>\n",
       "      <th>customer_id</th>\n",
       "      <th>article_id</th>\n",
       "      <th>price</th>\n",
       "      <th>sales_channel_id</th>\n",
       "      <th>FN</th>\n",
       "      <th>Active</th>\n",
       "      <th>club_member_status</th>\n",
       "      <th>fashion_news_frequency</th>\n",
       "      <th>age</th>\n",
       "      <th>postal_code</th>\n",
       "    </tr>\n",
       "  </thead>\n",
       "  <tbody>\n",
       "    <tr>\n",
       "      <th>31267104</th>\n",
       "      <td>2020-09-09</td>\n",
       "      <td>-2156777441294618063</td>\n",
       "      <td>685814005</td>\n",
       "      <td>0.033881</td>\n",
       "      <td>2</td>\n",
       "      <td>1.0</td>\n",
       "      <td>1.0</td>\n",
       "      <td>ACTIVE</td>\n",
       "      <td>Regularly</td>\n",
       "      <td>29.0</td>\n",
       "      <td>17d0433ebad432976929d99192315d2479bfb7696af1d2...</td>\n",
       "    </tr>\n",
       "    <tr>\n",
       "      <th>31267105</th>\n",
       "      <td>2020-09-09</td>\n",
       "      <td>-6489422566283592999</td>\n",
       "      <td>865240002</td>\n",
       "      <td>0.008458</td>\n",
       "      <td>1</td>\n",
       "      <td>0.0</td>\n",
       "      <td>0.0</td>\n",
       "      <td>ACTIVE</td>\n",
       "      <td>NONE</td>\n",
       "      <td>27.0</td>\n",
       "      <td>09b4c331056fc94bc83a021f44470ea9e859209123e09f...</td>\n",
       "    </tr>\n",
       "    <tr>\n",
       "      <th>31267106</th>\n",
       "      <td>2020-09-09</td>\n",
       "      <td>-7761469595989510297</td>\n",
       "      <td>868641002</td>\n",
       "      <td>0.033881</td>\n",
       "      <td>2</td>\n",
       "      <td>1.0</td>\n",
       "      <td>1.0</td>\n",
       "      <td>ACTIVE</td>\n",
       "      <td>Regularly</td>\n",
       "      <td>22.0</td>\n",
       "      <td>64c420881b31267fd17d03e2aafac8e9ef0bae5a115446...</td>\n",
       "    </tr>\n",
       "    <tr>\n",
       "      <th>31267107</th>\n",
       "      <td>2020-09-09</td>\n",
       "      <td>-2912203858579140439</td>\n",
       "      <td>867966010</td>\n",
       "      <td>0.033881</td>\n",
       "      <td>2</td>\n",
       "      <td>1.0</td>\n",
       "      <td>1.0</td>\n",
       "      <td>ACTIVE</td>\n",
       "      <td>Regularly</td>\n",
       "      <td>24.0</td>\n",
       "      <td>e42c4f19dc1b95b82eae4d77106924e07fef6c5c1dd4c3...</td>\n",
       "    </tr>\n",
       "    <tr>\n",
       "      <th>31267108</th>\n",
       "      <td>2020-09-09</td>\n",
       "      <td>-2156777441294618063</td>\n",
       "      <td>896343002</td>\n",
       "      <td>0.033881</td>\n",
       "      <td>2</td>\n",
       "      <td>1.0</td>\n",
       "      <td>1.0</td>\n",
       "      <td>ACTIVE</td>\n",
       "      <td>Regularly</td>\n",
       "      <td>29.0</td>\n",
       "      <td>17d0433ebad432976929d99192315d2479bfb7696af1d2...</td>\n",
       "    </tr>\n",
       "    <tr>\n",
       "      <th>...</th>\n",
       "      <td>...</td>\n",
       "      <td>...</td>\n",
       "      <td>...</td>\n",
       "      <td>...</td>\n",
       "      <td>...</td>\n",
       "      <td>...</td>\n",
       "      <td>...</td>\n",
       "      <td>...</td>\n",
       "      <td>...</td>\n",
       "      <td>...</td>\n",
       "      <td>...</td>\n",
       "    </tr>\n",
       "    <tr>\n",
       "      <th>31548008</th>\n",
       "      <td>2020-09-15</td>\n",
       "      <td>-6548724319026074057</td>\n",
       "      <td>780314001</td>\n",
       "      <td>0.067780</td>\n",
       "      <td>2</td>\n",
       "      <td>0.0</td>\n",
       "      <td>0.0</td>\n",
       "      <td>ACTIVE</td>\n",
       "      <td>NONE</td>\n",
       "      <td>26.0</td>\n",
       "      <td>39d90bfe73e5f0bc0a58bca8fc789182955d059fb79009...</td>\n",
       "    </tr>\n",
       "    <tr>\n",
       "      <th>31548009</th>\n",
       "      <td>2020-09-15</td>\n",
       "      <td>-7010773389724270175</td>\n",
       "      <td>706016002</td>\n",
       "      <td>0.033881</td>\n",
       "      <td>1</td>\n",
       "      <td>1.0</td>\n",
       "      <td>1.0</td>\n",
       "      <td>ACTIVE</td>\n",
       "      <td>Regularly</td>\n",
       "      <td>21.0</td>\n",
       "      <td>2020d6a589f9878e20886e17483107cac447bdbb31b19c...</td>\n",
       "    </tr>\n",
       "    <tr>\n",
       "      <th>31548010</th>\n",
       "      <td>2020-09-15</td>\n",
       "      <td>-6548724319026074057</td>\n",
       "      <td>875272003</td>\n",
       "      <td>0.050831</td>\n",
       "      <td>2</td>\n",
       "      <td>0.0</td>\n",
       "      <td>0.0</td>\n",
       "      <td>ACTIVE</td>\n",
       "      <td>NONE</td>\n",
       "      <td>26.0</td>\n",
       "      <td>39d90bfe73e5f0bc0a58bca8fc789182955d059fb79009...</td>\n",
       "    </tr>\n",
       "    <tr>\n",
       "      <th>31548011</th>\n",
       "      <td>2020-09-15</td>\n",
       "      <td>5919649889604164626</td>\n",
       "      <td>898692003</td>\n",
       "      <td>0.067780</td>\n",
       "      <td>2</td>\n",
       "      <td>1.0</td>\n",
       "      <td>1.0</td>\n",
       "      <td>ACTIVE</td>\n",
       "      <td>Regularly</td>\n",
       "      <td>23.0</td>\n",
       "      <td>caefb055d2000ea61aaef5e6d472874d72b88c370514ef...</td>\n",
       "    </tr>\n",
       "    <tr>\n",
       "      <th>31548012</th>\n",
       "      <td>2020-09-15</td>\n",
       "      <td>-6548724319026074057</td>\n",
       "      <td>875272011</td>\n",
       "      <td>0.050831</td>\n",
       "      <td>2</td>\n",
       "      <td>0.0</td>\n",
       "      <td>0.0</td>\n",
       "      <td>ACTIVE</td>\n",
       "      <td>NONE</td>\n",
       "      <td>26.0</td>\n",
       "      <td>39d90bfe73e5f0bc0a58bca8fc789182955d059fb79009...</td>\n",
       "    </tr>\n",
       "  </tbody>\n",
       "</table>\n",
       "<p>255241 rows × 11 columns</p>\n",
       "</div>"
      ],
      "text/plain": [
       "              t_dat          customer_id  article_id     price  \\\n",
       "31267104 2020-09-09 -2156777441294618063   685814005  0.033881   \n",
       "31267105 2020-09-09 -6489422566283592999   865240002  0.008458   \n",
       "31267106 2020-09-09 -7761469595989510297   868641002  0.033881   \n",
       "31267107 2020-09-09 -2912203858579140439   867966010  0.033881   \n",
       "31267108 2020-09-09 -2156777441294618063   896343002  0.033881   \n",
       "...             ...                  ...         ...       ...   \n",
       "31548008 2020-09-15 -6548724319026074057   780314001  0.067780   \n",
       "31548009 2020-09-15 -7010773389724270175   706016002  0.033881   \n",
       "31548010 2020-09-15 -6548724319026074057   875272003  0.050831   \n",
       "31548011 2020-09-15  5919649889604164626   898692003  0.067780   \n",
       "31548012 2020-09-15 -6548724319026074057   875272011  0.050831   \n",
       "\n",
       "          sales_channel_id   FN  Active club_member_status  \\\n",
       "31267104                 2  1.0     1.0             ACTIVE   \n",
       "31267105                 1  0.0     0.0             ACTIVE   \n",
       "31267106                 2  1.0     1.0             ACTIVE   \n",
       "31267107                 2  1.0     1.0             ACTIVE   \n",
       "31267108                 2  1.0     1.0             ACTIVE   \n",
       "...                    ...  ...     ...                ...   \n",
       "31548008                 2  0.0     0.0             ACTIVE   \n",
       "31548009                 1  1.0     1.0             ACTIVE   \n",
       "31548010                 2  0.0     0.0             ACTIVE   \n",
       "31548011                 2  1.0     1.0             ACTIVE   \n",
       "31548012                 2  0.0     0.0             ACTIVE   \n",
       "\n",
       "         fashion_news_frequency   age  \\\n",
       "31267104              Regularly  29.0   \n",
       "31267105                   NONE  27.0   \n",
       "31267106              Regularly  22.0   \n",
       "31267107              Regularly  24.0   \n",
       "31267108              Regularly  29.0   \n",
       "...                         ...   ...   \n",
       "31548008                   NONE  26.0   \n",
       "31548009              Regularly  21.0   \n",
       "31548010                   NONE  26.0   \n",
       "31548011              Regularly  23.0   \n",
       "31548012                   NONE  26.0   \n",
       "\n",
       "                                                postal_code  \n",
       "31267104  17d0433ebad432976929d99192315d2479bfb7696af1d2...  \n",
       "31267105  09b4c331056fc94bc83a021f44470ea9e859209123e09f...  \n",
       "31267106  64c420881b31267fd17d03e2aafac8e9ef0bae5a115446...  \n",
       "31267107  e42c4f19dc1b95b82eae4d77106924e07fef6c5c1dd4c3...  \n",
       "31267108  17d0433ebad432976929d99192315d2479bfb7696af1d2...  \n",
       "...                                                     ...  \n",
       "31548008  39d90bfe73e5f0bc0a58bca8fc789182955d059fb79009...  \n",
       "31548009  2020d6a589f9878e20886e17483107cac447bdbb31b19c...  \n",
       "31548010  39d90bfe73e5f0bc0a58bca8fc789182955d059fb79009...  \n",
       "31548011  caefb055d2000ea61aaef5e6d472874d72b88c370514ef...  \n",
       "31548012  39d90bfe73e5f0bc0a58bca8fc789182955d059fb79009...  \n",
       "\n",
       "[255241 rows x 11 columns]"
      ]
     },
     "execution_count": 61,
     "metadata": {},
     "output_type": "execute_result"
    }
   ],
   "source": [
    "sales"
   ]
  },
  {
   "cell_type": "code",
   "execution_count": 62,
   "id": "bcc0941a",
   "metadata": {
    "execution": {
     "iopub.execute_input": "2022-03-27T12:55:55.731011Z",
     "iopub.status.busy": "2022-03-27T12:55:55.730217Z",
     "iopub.status.idle": "2022-03-27T12:55:55.755498Z",
     "shell.execute_reply": "2022-03-27T12:55:55.754982Z",
     "shell.execute_reply.started": "2022-03-27T12:47:23.357832Z"
    },
    "papermill": {
     "duration": 0.168614,
     "end_time": "2022-03-27T12:55:55.755633",
     "exception": false,
     "start_time": "2022-03-27T12:55:55.587019",
     "status": "completed"
    },
    "tags": []
   },
   "outputs": [],
   "source": [
    "target_sales = sales[[\"article_id\", \"customer_id\"]].groupby('article_id')[\"customer_id\"].count()\n",
    "general_pred = target_sales.nlargest(N, keep = \"first\").index.to_pandas().tolist()\n",
    "general_pred = ['0' + str(article_id) for article_id in general_pred]\n",
    "general_pred_str =  ' '.join(general_pred)\n",
    "del target_sales"
   ]
  },
  {
   "cell_type": "code",
   "execution_count": 63,
   "id": "7b62d430",
   "metadata": {
    "execution": {
     "iopub.execute_input": "2022-03-27T12:55:56.050630Z",
     "iopub.status.busy": "2022-03-27T12:55:56.049725Z",
     "iopub.status.idle": "2022-03-27T12:55:56.052571Z",
     "shell.execute_reply": "2022-03-27T12:55:56.052978Z",
     "shell.execute_reply.started": "2022-03-27T12:47:23.385186Z"
    },
    "papermill": {
     "duration": 0.154364,
     "end_time": "2022-03-27T12:55:56.053140",
     "exception": false,
     "start_time": "2022-03-27T12:55:55.898776",
     "status": "completed"
    },
    "tags": []
   },
   "outputs": [
    {
     "data": {
      "text/plain": [
       "'0909370001 0865799006 0918522001 0924243001 0448509014 0751471001 0809238001 0918292001 0762846027 0809238005 0673677002 0923758001'"
      ]
     },
     "execution_count": 63,
     "metadata": {},
     "output_type": "execute_result"
    }
   ],
   "source": [
    "general_pred_str"
   ]
  },
  {
   "cell_type": "code",
   "execution_count": 64,
   "id": "a60c1e33",
   "metadata": {
    "execution": {
     "iopub.execute_input": "2022-03-27T12:55:56.333806Z",
     "iopub.status.busy": "2022-03-27T12:55:56.332857Z",
     "iopub.status.idle": "2022-03-27T12:55:56.335227Z",
     "shell.execute_reply": "2022-03-27T12:55:56.334690Z",
     "shell.execute_reply.started": "2022-03-27T12:47:23.393466Z"
    },
    "papermill": {
     "duration": 0.145027,
     "end_time": "2022-03-27T12:55:56.335344",
     "exception": false,
     "start_time": "2022-03-27T12:55:56.190317",
     "status": "completed"
    },
    "tags": []
   },
   "outputs": [],
   "source": [
    "#sales.age = sales.age.astype(\"float32\")"
   ]
  },
  {
   "cell_type": "code",
   "execution_count": 65,
   "id": "324ec354",
   "metadata": {
    "execution": {
     "iopub.execute_input": "2022-03-27T12:55:56.620394Z",
     "iopub.status.busy": "2022-03-27T12:55:56.619592Z",
     "iopub.status.idle": "2022-03-27T12:55:56.716067Z",
     "shell.execute_reply": "2022-03-27T12:55:56.715179Z",
     "shell.execute_reply.started": "2022-03-27T12:47:23.401296Z"
    },
    "papermill": {
     "duration": 0.242345,
     "end_time": "2022-03-27T12:55:56.716220",
     "exception": false,
     "start_time": "2022-03-27T12:55:56.473875",
     "status": "completed"
    },
    "tags": []
   },
   "outputs": [],
   "source": [
    "age_type = pd.cut(sales.to_pandas()[\"age\"], bins = np.array([0, 21, 24, 27, 30, 35, 40, 45, 50, 60, 100], dtype = \"int32\"), right = True)"
   ]
  },
  {
   "cell_type": "code",
   "execution_count": 66,
   "id": "0dfe1a61",
   "metadata": {
    "execution": {
     "iopub.execute_input": "2022-03-27T12:55:56.998549Z",
     "iopub.status.busy": "2022-03-27T12:55:56.997696Z",
     "iopub.status.idle": "2022-03-27T12:55:58.117952Z",
     "shell.execute_reply": "2022-03-27T12:55:58.117414Z",
     "shell.execute_reply.started": "2022-03-27T12:47:23.498672Z"
    },
    "papermill": {
     "duration": 1.263787,
     "end_time": "2022-03-27T12:55:58.118088",
     "exception": false,
     "start_time": "2022-03-27T12:55:56.854301",
     "status": "completed"
    },
    "tags": []
   },
   "outputs": [],
   "source": [
    "sales[\"age_type\"] = age_type.astype(\"string\")"
   ]
  },
  {
   "cell_type": "code",
   "execution_count": 67,
   "id": "13f2542b",
   "metadata": {
    "execution": {
     "iopub.execute_input": "2022-03-27T12:55:58.400329Z",
     "iopub.status.busy": "2022-03-27T12:55:58.399467Z",
     "iopub.status.idle": "2022-03-27T12:55:58.413778Z",
     "shell.execute_reply": "2022-03-27T12:55:58.413345Z",
     "shell.execute_reply.started": "2022-03-27T12:47:24.752400Z"
    },
    "papermill": {
     "duration": 0.160059,
     "end_time": "2022-03-27T12:55:58.413908",
     "exception": false,
     "start_time": "2022-03-27T12:55:58.253849",
     "status": "completed"
    },
    "tags": []
   },
   "outputs": [],
   "source": [
    "summary = sales.groupby([\"fashion_news_frequency\", \"age_type\", \"article_id\"])[\"postal_code\"].count().\\\n",
    "reset_index().rename({\"postal_code\":\"count\"}, axis = 1)"
   ]
  },
  {
   "cell_type": "code",
   "execution_count": 68,
   "id": "39b09a56",
   "metadata": {
    "execution": {
     "iopub.execute_input": "2022-03-27T12:55:58.700671Z",
     "iopub.status.busy": "2022-03-27T12:55:58.699789Z",
     "iopub.status.idle": "2022-03-27T12:55:58.760425Z",
     "shell.execute_reply": "2022-03-27T12:55:58.760858Z",
     "shell.execute_reply.started": "2022-03-27T12:47:24.775233Z"
    },
    "papermill": {
     "duration": 0.210637,
     "end_time": "2022-03-27T12:55:58.761013",
     "exception": false,
     "start_time": "2022-03-27T12:55:58.550376",
     "status": "completed"
    },
    "tags": []
   },
   "outputs": [
    {
     "data": {
      "text/html": [
       "<div>\n",
       "<style scoped>\n",
       "    .dataframe tbody tr th:only-of-type {\n",
       "        vertical-align: middle;\n",
       "    }\n",
       "\n",
       "    .dataframe tbody tr th {\n",
       "        vertical-align: top;\n",
       "    }\n",
       "\n",
       "    .dataframe thead th {\n",
       "        text-align: right;\n",
       "    }\n",
       "</style>\n",
       "<table border=\"1\" class=\"dataframe\">\n",
       "  <thead>\n",
       "    <tr style=\"text-align: right;\">\n",
       "      <th></th>\n",
       "      <th>fashion_news_frequency</th>\n",
       "      <th>age_type</th>\n",
       "      <th>article_id</th>\n",
       "      <th>count</th>\n",
       "    </tr>\n",
       "  </thead>\n",
       "  <tbody>\n",
       "    <tr>\n",
       "      <th>2</th>\n",
       "      <td>NONE</td>\n",
       "      <td>(24.0, 27.0]</td>\n",
       "      <td>675070013</td>\n",
       "      <td>1</td>\n",
       "    </tr>\n",
       "    <tr>\n",
       "      <th>3</th>\n",
       "      <td>NONE</td>\n",
       "      <td>(24.0, 27.0]</td>\n",
       "      <td>781135004</td>\n",
       "      <td>1</td>\n",
       "    </tr>\n",
       "    <tr>\n",
       "      <th>4</th>\n",
       "      <td>Regularly</td>\n",
       "      <td>(40.0, 45.0]</td>\n",
       "      <td>919160001</td>\n",
       "      <td>1</td>\n",
       "    </tr>\n",
       "    <tr>\n",
       "      <th>6</th>\n",
       "      <td>Regularly</td>\n",
       "      <td>(0.0, 21.0]</td>\n",
       "      <td>862325004</td>\n",
       "      <td>1</td>\n",
       "    </tr>\n",
       "    <tr>\n",
       "      <th>8</th>\n",
       "      <td>NONE</td>\n",
       "      <td>(50.0, 60.0]</td>\n",
       "      <td>865076004</td>\n",
       "      <td>1</td>\n",
       "    </tr>\n",
       "    <tr>\n",
       "      <th>...</th>\n",
       "      <td>...</td>\n",
       "      <td>...</td>\n",
       "      <td>...</td>\n",
       "      <td>...</td>\n",
       "    </tr>\n",
       "    <tr>\n",
       "      <th>2635</th>\n",
       "      <td>Regularly</td>\n",
       "      <td>(21.0, 24.0]</td>\n",
       "      <td>909370001</td>\n",
       "      <td>112</td>\n",
       "    </tr>\n",
       "    <tr>\n",
       "      <th>67196</th>\n",
       "      <td>NONE</td>\n",
       "      <td>(21.0, 24.0]</td>\n",
       "      <td>909370001</td>\n",
       "      <td>114</td>\n",
       "    </tr>\n",
       "    <tr>\n",
       "      <th>76967</th>\n",
       "      <td>NONE</td>\n",
       "      <td>(27.0, 30.0]</td>\n",
       "      <td>909370001</td>\n",
       "      <td>114</td>\n",
       "    </tr>\n",
       "    <tr>\n",
       "      <th>86330</th>\n",
       "      <td>Regularly</td>\n",
       "      <td>(24.0, 27.0]</td>\n",
       "      <td>909370001</td>\n",
       "      <td>117</td>\n",
       "    </tr>\n",
       "    <tr>\n",
       "      <th>1906</th>\n",
       "      <td>NONE</td>\n",
       "      <td>(24.0, 27.0]</td>\n",
       "      <td>909370001</td>\n",
       "      <td>139</td>\n",
       "    </tr>\n",
       "  </tbody>\n",
       "</table>\n",
       "<p>94093 rows × 4 columns</p>\n",
       "</div>"
      ],
      "text/plain": [
       "      fashion_news_frequency      age_type  article_id  count\n",
       "2                       NONE  (24.0, 27.0]   675070013      1\n",
       "3                       NONE  (24.0, 27.0]   781135004      1\n",
       "4                  Regularly  (40.0, 45.0]   919160001      1\n",
       "6                  Regularly   (0.0, 21.0]   862325004      1\n",
       "8                       NONE  (50.0, 60.0]   865076004      1\n",
       "...                      ...           ...         ...    ...\n",
       "2635               Regularly  (21.0, 24.0]   909370001    112\n",
       "67196                   NONE  (21.0, 24.0]   909370001    114\n",
       "76967                   NONE  (27.0, 30.0]   909370001    114\n",
       "86330              Regularly  (24.0, 27.0]   909370001    117\n",
       "1906                    NONE  (24.0, 27.0]   909370001    139\n",
       "\n",
       "[94093 rows x 4 columns]"
      ]
     },
     "execution_count": 68,
     "metadata": {},
     "output_type": "execute_result"
    }
   ],
   "source": [
    "summary.sort_values(by = [\"count\"])"
   ]
  },
  {
   "cell_type": "code",
   "execution_count": 69,
   "id": "1df805ac",
   "metadata": {
    "execution": {
     "iopub.execute_input": "2022-03-27T12:55:59.050574Z",
     "iopub.status.busy": "2022-03-27T12:55:59.049738Z",
     "iopub.status.idle": "2022-03-27T12:55:59.084633Z",
     "shell.execute_reply": "2022-03-27T12:55:59.084072Z",
     "shell.execute_reply.started": "2022-03-27T12:47:24.845322Z"
    },
    "papermill": {
     "duration": 0.182492,
     "end_time": "2022-03-27T12:55:59.084771",
     "exception": false,
     "start_time": "2022-03-27T12:55:58.902279",
     "status": "completed"
    },
    "tags": []
   },
   "outputs": [],
   "source": [
    "summary[\"total_count\"] = summary.to_pandas().groupby([\"fashion_news_frequency\", \"age_type\"])[\"count\"].transform(sum)"
   ]
  },
  {
   "cell_type": "code",
   "execution_count": 70,
   "id": "87dc5010",
   "metadata": {
    "execution": {
     "iopub.execute_input": "2022-03-27T12:55:59.373060Z",
     "iopub.status.busy": "2022-03-27T12:55:59.372447Z",
     "iopub.status.idle": "2022-03-27T12:55:59.376456Z",
     "shell.execute_reply": "2022-03-27T12:55:59.375850Z",
     "shell.execute_reply.started": "2022-03-27T12:47:24.887714Z"
    },
    "papermill": {
     "duration": 0.148963,
     "end_time": "2022-03-27T12:55:59.376592",
     "exception": false,
     "start_time": "2022-03-27T12:55:59.227629",
     "status": "completed"
    },
    "tags": []
   },
   "outputs": [],
   "source": [
    "summary[\"score\"] = summary[\"count\"]/summary[\"total_count\"]"
   ]
  },
  {
   "cell_type": "code",
   "execution_count": 71,
   "id": "f2b91049",
   "metadata": {
    "execution": {
     "iopub.execute_input": "2022-03-27T12:55:59.668561Z",
     "iopub.status.busy": "2022-03-27T12:55:59.667594Z",
     "iopub.status.idle": "2022-03-27T12:55:59.669330Z",
     "shell.execute_reply": "2022-03-27T12:55:59.669842Z",
     "shell.execute_reply.started": "2022-03-27T12:47:24.896910Z"
    },
    "papermill": {
     "duration": 0.151086,
     "end_time": "2022-03-27T12:55:59.669986",
     "exception": false,
     "start_time": "2022-03-27T12:55:59.518900",
     "status": "completed"
    },
    "tags": []
   },
   "outputs": [],
   "source": [
    "summary = cudf.DataFrame(summary)"
   ]
  },
  {
   "cell_type": "code",
   "execution_count": 72,
   "id": "1ad8118e",
   "metadata": {
    "execution": {
     "iopub.execute_input": "2022-03-27T12:55:59.970282Z",
     "iopub.status.busy": "2022-03-27T12:55:59.968690Z",
     "iopub.status.idle": "2022-03-27T12:56:00.037915Z",
     "shell.execute_reply": "2022-03-27T12:56:00.038353Z",
     "shell.execute_reply.started": "2022-03-27T12:47:24.906208Z"
    },
    "papermill": {
     "duration": 0.219468,
     "end_time": "2022-03-27T12:56:00.038507",
     "exception": false,
     "start_time": "2022-03-27T12:55:59.819039",
     "status": "completed"
    },
    "tags": []
   },
   "outputs": [
    {
     "data": {
      "text/html": [
       "<div>\n",
       "<style scoped>\n",
       "    .dataframe tbody tr th:only-of-type {\n",
       "        vertical-align: middle;\n",
       "    }\n",
       "\n",
       "    .dataframe tbody tr th {\n",
       "        vertical-align: top;\n",
       "    }\n",
       "\n",
       "    .dataframe thead th {\n",
       "        text-align: right;\n",
       "    }\n",
       "</style>\n",
       "<table border=\"1\" class=\"dataframe\">\n",
       "  <thead>\n",
       "    <tr style=\"text-align: right;\">\n",
       "      <th></th>\n",
       "      <th>fashion_news_frequency</th>\n",
       "      <th>age_type</th>\n",
       "      <th>article_id</th>\n",
       "      <th>count</th>\n",
       "      <th>total_count</th>\n",
       "      <th>score</th>\n",
       "    </tr>\n",
       "  </thead>\n",
       "  <tbody>\n",
       "    <tr>\n",
       "      <th>70560</th>\n",
       "      <td>NONE</td>\n",
       "      <td>(30.0, 35.0]</td>\n",
       "      <td>108775044</td>\n",
       "      <td>1</td>\n",
       "      <td>16446</td>\n",
       "      <td>0.000061</td>\n",
       "    </tr>\n",
       "    <tr>\n",
       "      <th>92656</th>\n",
       "      <td>NONE</td>\n",
       "      <td>(50.0, 60.0]</td>\n",
       "      <td>108775044</td>\n",
       "      <td>2</td>\n",
       "      <td>17777</td>\n",
       "      <td>0.000113</td>\n",
       "    </tr>\n",
       "    <tr>\n",
       "      <th>18045</th>\n",
       "      <td>NONE</td>\n",
       "      <td>(45.0, 50.0]</td>\n",
       "      <td>111565001</td>\n",
       "      <td>1</td>\n",
       "      <td>12402</td>\n",
       "      <td>0.000081</td>\n",
       "    </tr>\n",
       "    <tr>\n",
       "      <th>28623</th>\n",
       "      <td>Regularly</td>\n",
       "      <td>(24.0, 27.0]</td>\n",
       "      <td>111565001</td>\n",
       "      <td>1</td>\n",
       "      <td>14442</td>\n",
       "      <td>0.000069</td>\n",
       "    </tr>\n",
       "    <tr>\n",
       "      <th>66580</th>\n",
       "      <td>NONE</td>\n",
       "      <td>(40.0, 45.0]</td>\n",
       "      <td>111565001</td>\n",
       "      <td>1</td>\n",
       "      <td>8065</td>\n",
       "      <td>0.000124</td>\n",
       "    </tr>\n",
       "    <tr>\n",
       "      <th>...</th>\n",
       "      <td>...</td>\n",
       "      <td>...</td>\n",
       "      <td>...</td>\n",
       "      <td>...</td>\n",
       "      <td>...</td>\n",
       "      <td>...</td>\n",
       "    </tr>\n",
       "    <tr>\n",
       "      <th>82246</th>\n",
       "      <td>Regularly</td>\n",
       "      <td>(50.0, 60.0]</td>\n",
       "      <td>956217002</td>\n",
       "      <td>1</td>\n",
       "      <td>17613</td>\n",
       "      <td>0.000057</td>\n",
       "    </tr>\n",
       "    <tr>\n",
       "      <th>84577</th>\n",
       "      <td>Regularly</td>\n",
       "      <td>(60.0, 100.0]</td>\n",
       "      <td>956217002</td>\n",
       "      <td>1</td>\n",
       "      <td>6074</td>\n",
       "      <td>0.000165</td>\n",
       "    </tr>\n",
       "    <tr>\n",
       "      <th>88549</th>\n",
       "      <td>Regularly</td>\n",
       "      <td>(21.0, 24.0]</td>\n",
       "      <td>956217002</td>\n",
       "      <td>2</td>\n",
       "      <td>15838</td>\n",
       "      <td>0.000126</td>\n",
       "    </tr>\n",
       "    <tr>\n",
       "      <th>554</th>\n",
       "      <td>NONE</td>\n",
       "      <td>(50.0, 60.0]</td>\n",
       "      <td>956217002</td>\n",
       "      <td>3</td>\n",
       "      <td>17777</td>\n",
       "      <td>0.000169</td>\n",
       "    </tr>\n",
       "    <tr>\n",
       "      <th>46392</th>\n",
       "      <td>NONE</td>\n",
       "      <td>(45.0, 50.0]</td>\n",
       "      <td>956217002</td>\n",
       "      <td>3</td>\n",
       "      <td>12402</td>\n",
       "      <td>0.000242</td>\n",
       "    </tr>\n",
       "  </tbody>\n",
       "</table>\n",
       "<p>94093 rows × 6 columns</p>\n",
       "</div>"
      ],
      "text/plain": [
       "      fashion_news_frequency       age_type  article_id  count  total_count  \\\n",
       "70560                   NONE   (30.0, 35.0]   108775044      1        16446   \n",
       "92656                   NONE   (50.0, 60.0]   108775044      2        17777   \n",
       "18045                   NONE   (45.0, 50.0]   111565001      1        12402   \n",
       "28623              Regularly   (24.0, 27.0]   111565001      1        14442   \n",
       "66580                   NONE   (40.0, 45.0]   111565001      1         8065   \n",
       "...                      ...            ...         ...    ...          ...   \n",
       "82246              Regularly   (50.0, 60.0]   956217002      1        17613   \n",
       "84577              Regularly  (60.0, 100.0]   956217002      1         6074   \n",
       "88549              Regularly   (21.0, 24.0]   956217002      2        15838   \n",
       "554                     NONE   (50.0, 60.0]   956217002      3        17777   \n",
       "46392                   NONE   (45.0, 50.0]   956217002      3        12402   \n",
       "\n",
       "          score  \n",
       "70560  0.000061  \n",
       "92656  0.000113  \n",
       "18045  0.000081  \n",
       "28623  0.000069  \n",
       "66580  0.000124  \n",
       "...         ...  \n",
       "82246  0.000057  \n",
       "84577  0.000165  \n",
       "88549  0.000126  \n",
       "554    0.000169  \n",
       "46392  0.000242  \n",
       "\n",
       "[94093 rows x 6 columns]"
      ]
     },
     "execution_count": 72,
     "metadata": {},
     "output_type": "execute_result"
    }
   ],
   "source": [
    "summary.sort_values(by = [\"article_id\", \"count\"])"
   ]
  },
  {
   "cell_type": "code",
   "execution_count": 73,
   "id": "3264ba44",
   "metadata": {
    "execution": {
     "iopub.execute_input": "2022-03-27T12:56:00.330070Z",
     "iopub.status.busy": "2022-03-27T12:56:00.329240Z",
     "iopub.status.idle": "2022-03-27T12:56:00.375057Z",
     "shell.execute_reply": "2022-03-27T12:56:00.374564Z",
     "shell.execute_reply.started": "2022-03-27T12:47:24.984932Z"
    },
    "papermill": {
     "duration": 0.195705,
     "end_time": "2022-03-27T12:56:00.375224",
     "exception": false,
     "start_time": "2022-03-27T12:56:00.179519",
     "status": "completed"
    },
    "tags": []
   },
   "outputs": [],
   "source": [
    "summary['rank'] = summary.to_pandas().groupby([\"fashion_news_frequency\", \"age_type\"])[\"score\"].rank(\"dense\", ascending=False)\n",
    "summary = summary.loc[summary['rank'] <= 12]"
   ]
  },
  {
   "cell_type": "code",
   "execution_count": 74,
   "id": "84b11c3d",
   "metadata": {
    "execution": {
     "iopub.execute_input": "2022-03-27T12:56:00.679021Z",
     "iopub.status.busy": "2022-03-27T12:56:00.678450Z",
     "iopub.status.idle": "2022-03-27T12:56:03.792799Z",
     "shell.execute_reply": "2022-03-27T12:56:03.793473Z",
     "shell.execute_reply.started": "2022-03-27T12:47:25.037524Z"
    },
    "papermill": {
     "duration": 3.269303,
     "end_time": "2022-03-27T12:56:03.793685",
     "exception": false,
     "start_time": "2022-03-27T12:56:00.524382",
     "status": "completed"
    },
    "tags": []
   },
   "outputs": [
    {
     "name": "stdout",
     "output_type": "stream",
     "text": [
      "CPU times: user 141 ms, sys: 117 ms, total: 258 ms\n",
      "Wall time: 3.11 s\n"
     ]
    }
   ],
   "source": [
    "%%time\n",
    "sub  = cudf.read_csv('../input/h-and-m-personalized-fashion-recommendations/sample_submission.csv',\n",
    "                            usecols= ['customer_id'], \n",
    "                            dtype={'customer_id': 'string'})\n",
    "\n",
    "sub['customer_id2'] = sub['customer_id'].str[-16:].str.hex_to_int().astype('int64')\n",
    "sub = sub.rename(columns = {'customer_id2':'customer_id', 'customer_id':'customer_id2'})"
   ]
  },
  {
   "cell_type": "code",
   "execution_count": 75,
   "id": "2bd99067",
   "metadata": {
    "execution": {
     "iopub.execute_input": "2022-03-27T12:56:04.115607Z",
     "iopub.status.busy": "2022-03-27T12:56:04.114234Z",
     "iopub.status.idle": "2022-03-27T12:56:04.160470Z",
     "shell.execute_reply": "2022-03-27T12:56:04.160921Z",
     "shell.execute_reply.started": "2022-03-27T12:47:27.970476Z"
    },
    "papermill": {
     "duration": 0.208197,
     "end_time": "2022-03-27T12:56:04.161092",
     "exception": false,
     "start_time": "2022-03-27T12:56:03.952895",
     "status": "completed"
    },
    "tags": []
   },
   "outputs": [
    {
     "data": {
      "text/html": [
       "<div>\n",
       "<style scoped>\n",
       "    .dataframe tbody tr th:only-of-type {\n",
       "        vertical-align: middle;\n",
       "    }\n",
       "\n",
       "    .dataframe tbody tr th {\n",
       "        vertical-align: top;\n",
       "    }\n",
       "\n",
       "    .dataframe thead th {\n",
       "        text-align: right;\n",
       "    }\n",
       "</style>\n",
       "<table border=\"1\" class=\"dataframe\">\n",
       "  <thead>\n",
       "    <tr style=\"text-align: right;\">\n",
       "      <th></th>\n",
       "      <th>customer_id2</th>\n",
       "      <th>customer_id</th>\n",
       "    </tr>\n",
       "  </thead>\n",
       "  <tbody>\n",
       "    <tr>\n",
       "      <th>0</th>\n",
       "      <td>00000dbacae5abe5e23885899a1fa44253a17956c6d1c3...</td>\n",
       "      <td>6883939031699146327</td>\n",
       "    </tr>\n",
       "    <tr>\n",
       "      <th>1</th>\n",
       "      <td>0000423b00ade91418cceaf3b26c6af3dd342b51fd051e...</td>\n",
       "      <td>-7200416642310594310</td>\n",
       "    </tr>\n",
       "    <tr>\n",
       "      <th>2</th>\n",
       "      <td>000058a12d5b43e67d225668fa1f8d618c13dc232df0ca...</td>\n",
       "      <td>-6846340800584936</td>\n",
       "    </tr>\n",
       "    <tr>\n",
       "      <th>3</th>\n",
       "      <td>00005ca1c9ed5f5146b52ac8639a40ca9d57aeff4d1bd2...</td>\n",
       "      <td>-94071612138601410</td>\n",
       "    </tr>\n",
       "    <tr>\n",
       "      <th>4</th>\n",
       "      <td>00006413d8573cd20ed7128e53b7b13819fe5cfc2d801f...</td>\n",
       "      <td>-283965518499174310</td>\n",
       "    </tr>\n",
       "    <tr>\n",
       "      <th>...</th>\n",
       "      <td>...</td>\n",
       "      <td>...</td>\n",
       "    </tr>\n",
       "    <tr>\n",
       "      <th>1371975</th>\n",
       "      <td>ffffbbf78b6eaac697a8a5dfbfd2bfa8113ee5b403e474...</td>\n",
       "      <td>7551062398649767985</td>\n",
       "    </tr>\n",
       "    <tr>\n",
       "      <th>1371976</th>\n",
       "      <td>ffffcd5046a6143d29a04fb8c424ce494a76e5cdf4fab5...</td>\n",
       "      <td>-9141402131989464905</td>\n",
       "    </tr>\n",
       "    <tr>\n",
       "      <th>1371977</th>\n",
       "      <td>ffffcf35913a0bee60e8741cb2b4e78b8a98ee5ff2e6a1...</td>\n",
       "      <td>-8286316756823862684</td>\n",
       "    </tr>\n",
       "    <tr>\n",
       "      <th>1371978</th>\n",
       "      <td>ffffd7744cebcf3aca44ae7049d2a94b87074c3d4ffe38...</td>\n",
       "      <td>2551401172826382186</td>\n",
       "    </tr>\n",
       "    <tr>\n",
       "      <th>1371979</th>\n",
       "      <td>ffffd9ac14e89946416d80e791d064701994755c3ab686...</td>\n",
       "      <td>-1516792180973952447</td>\n",
       "    </tr>\n",
       "  </tbody>\n",
       "</table>\n",
       "<p>1371980 rows × 2 columns</p>\n",
       "</div>"
      ],
      "text/plain": [
       "                                              customer_id2  \\\n",
       "0        00000dbacae5abe5e23885899a1fa44253a17956c6d1c3...   \n",
       "1        0000423b00ade91418cceaf3b26c6af3dd342b51fd051e...   \n",
       "2        000058a12d5b43e67d225668fa1f8d618c13dc232df0ca...   \n",
       "3        00005ca1c9ed5f5146b52ac8639a40ca9d57aeff4d1bd2...   \n",
       "4        00006413d8573cd20ed7128e53b7b13819fe5cfc2d801f...   \n",
       "...                                                    ...   \n",
       "1371975  ffffbbf78b6eaac697a8a5dfbfd2bfa8113ee5b403e474...   \n",
       "1371976  ffffcd5046a6143d29a04fb8c424ce494a76e5cdf4fab5...   \n",
       "1371977  ffffcf35913a0bee60e8741cb2b4e78b8a98ee5ff2e6a1...   \n",
       "1371978  ffffd7744cebcf3aca44ae7049d2a94b87074c3d4ffe38...   \n",
       "1371979  ffffd9ac14e89946416d80e791d064701994755c3ab686...   \n",
       "\n",
       "                 customer_id  \n",
       "0        6883939031699146327  \n",
       "1       -7200416642310594310  \n",
       "2          -6846340800584936  \n",
       "3         -94071612138601410  \n",
       "4        -283965518499174310  \n",
       "...                      ...  \n",
       "1371975  7551062398649767985  \n",
       "1371976 -9141402131989464905  \n",
       "1371977 -8286316756823862684  \n",
       "1371978  2551401172826382186  \n",
       "1371979 -1516792180973952447  \n",
       "\n",
       "[1371980 rows x 2 columns]"
      ]
     },
     "execution_count": 75,
     "metadata": {},
     "output_type": "execute_result"
    }
   ],
   "source": [
    "sub"
   ]
  },
  {
   "cell_type": "code",
   "execution_count": 76,
   "id": "e21095b8",
   "metadata": {
    "execution": {
     "iopub.execute_input": "2022-03-27T12:56:04.468000Z",
     "iopub.status.busy": "2022-03-27T12:56:04.467033Z",
     "iopub.status.idle": "2022-03-27T12:56:04.561993Z",
     "shell.execute_reply": "2022-03-27T12:56:04.562533Z",
     "shell.execute_reply.started": "2022-03-27T12:47:28.037761Z"
    },
    "papermill": {
     "duration": 0.254344,
     "end_time": "2022-03-27T12:56:04.562716",
     "exception": false,
     "start_time": "2022-03-27T12:56:04.308372",
     "status": "completed"
    },
    "tags": []
   },
   "outputs": [
    {
     "data": {
      "text/html": [
       "<div>\n",
       "<style scoped>\n",
       "    .dataframe tbody tr th:only-of-type {\n",
       "        vertical-align: middle;\n",
       "    }\n",
       "\n",
       "    .dataframe tbody tr th {\n",
       "        vertical-align: top;\n",
       "    }\n",
       "\n",
       "    .dataframe thead th {\n",
       "        text-align: right;\n",
       "    }\n",
       "</style>\n",
       "<table border=\"1\" class=\"dataframe\">\n",
       "  <thead>\n",
       "    <tr style=\"text-align: right;\">\n",
       "      <th></th>\n",
       "      <th>customer_id</th>\n",
       "      <th>FN</th>\n",
       "      <th>Active</th>\n",
       "      <th>club_member_status</th>\n",
       "      <th>fashion_news_frequency</th>\n",
       "      <th>age</th>\n",
       "      <th>postal_code</th>\n",
       "    </tr>\n",
       "  </thead>\n",
       "  <tbody>\n",
       "    <tr>\n",
       "      <th>0</th>\n",
       "      <td>6883939031699146327</td>\n",
       "      <td>&lt;NA&gt;</td>\n",
       "      <td>&lt;NA&gt;</td>\n",
       "      <td>ACTIVE</td>\n",
       "      <td>NONE</td>\n",
       "      <td>49.0</td>\n",
       "      <td>52043ee2162cf5aa7ee79974281641c6f11a68d276429a...</td>\n",
       "    </tr>\n",
       "    <tr>\n",
       "      <th>1</th>\n",
       "      <td>-7200416642310594310</td>\n",
       "      <td>&lt;NA&gt;</td>\n",
       "      <td>&lt;NA&gt;</td>\n",
       "      <td>ACTIVE</td>\n",
       "      <td>NONE</td>\n",
       "      <td>25.0</td>\n",
       "      <td>2973abc54daa8a5f8ccfe9362140c63247c5eee03f1d93...</td>\n",
       "    </tr>\n",
       "    <tr>\n",
       "      <th>2</th>\n",
       "      <td>-6846340800584936</td>\n",
       "      <td>&lt;NA&gt;</td>\n",
       "      <td>&lt;NA&gt;</td>\n",
       "      <td>ACTIVE</td>\n",
       "      <td>NONE</td>\n",
       "      <td>24.0</td>\n",
       "      <td>64f17e6a330a85798e4998f62d0930d14db8db1c054af6...</td>\n",
       "    </tr>\n",
       "    <tr>\n",
       "      <th>3</th>\n",
       "      <td>-94071612138601410</td>\n",
       "      <td>&lt;NA&gt;</td>\n",
       "      <td>&lt;NA&gt;</td>\n",
       "      <td>ACTIVE</td>\n",
       "      <td>NONE</td>\n",
       "      <td>54.0</td>\n",
       "      <td>5d36574f52495e81f019b680c843c443bd343d5ca5b1c2...</td>\n",
       "    </tr>\n",
       "    <tr>\n",
       "      <th>4</th>\n",
       "      <td>-283965518499174310</td>\n",
       "      <td>1.0</td>\n",
       "      <td>1.0</td>\n",
       "      <td>ACTIVE</td>\n",
       "      <td>Regularly</td>\n",
       "      <td>52.0</td>\n",
       "      <td>25fa5ddee9aac01b35208d01736e57942317d756b32ddd...</td>\n",
       "    </tr>\n",
       "    <tr>\n",
       "      <th>...</th>\n",
       "      <td>...</td>\n",
       "      <td>...</td>\n",
       "      <td>...</td>\n",
       "      <td>...</td>\n",
       "      <td>...</td>\n",
       "      <td>...</td>\n",
       "      <td>...</td>\n",
       "    </tr>\n",
       "    <tr>\n",
       "      <th>1371975</th>\n",
       "      <td>7551062398649767985</td>\n",
       "      <td>&lt;NA&gt;</td>\n",
       "      <td>&lt;NA&gt;</td>\n",
       "      <td>ACTIVE</td>\n",
       "      <td>NONE</td>\n",
       "      <td>24.0</td>\n",
       "      <td>7aa399f7e669990daba2d92c577b52237380662f36480b...</td>\n",
       "    </tr>\n",
       "    <tr>\n",
       "      <th>1371976</th>\n",
       "      <td>-9141402131989464905</td>\n",
       "      <td>&lt;NA&gt;</td>\n",
       "      <td>&lt;NA&gt;</td>\n",
       "      <td>ACTIVE</td>\n",
       "      <td>NONE</td>\n",
       "      <td>21.0</td>\n",
       "      <td>3f47f1279beb72215f4de557d950e0bfa73789d24acb5e...</td>\n",
       "    </tr>\n",
       "    <tr>\n",
       "      <th>1371977</th>\n",
       "      <td>-8286316756823862684</td>\n",
       "      <td>1.0</td>\n",
       "      <td>1.0</td>\n",
       "      <td>ACTIVE</td>\n",
       "      <td>Regularly</td>\n",
       "      <td>21.0</td>\n",
       "      <td>4563fc79215672cd6a863f2b4bf56b8f898f2d96ed590e...</td>\n",
       "    </tr>\n",
       "    <tr>\n",
       "      <th>1371978</th>\n",
       "      <td>2551401172826382186</td>\n",
       "      <td>1.0</td>\n",
       "      <td>1.0</td>\n",
       "      <td>ACTIVE</td>\n",
       "      <td>Regularly</td>\n",
       "      <td>18.0</td>\n",
       "      <td>8892c18e9bc3dca6aa4000cb8094fc4b51ee8db2ed14d7...</td>\n",
       "    </tr>\n",
       "    <tr>\n",
       "      <th>1371979</th>\n",
       "      <td>-1516792180973952447</td>\n",
       "      <td>&lt;NA&gt;</td>\n",
       "      <td>&lt;NA&gt;</td>\n",
       "      <td>PRE-CREATE</td>\n",
       "      <td>NONE</td>\n",
       "      <td>65.0</td>\n",
       "      <td>0a1a03306fb2f62164c2a439b38c0caa64b40deaae8687...</td>\n",
       "    </tr>\n",
       "  </tbody>\n",
       "</table>\n",
       "<p>1371980 rows × 7 columns</p>\n",
       "</div>"
      ],
      "text/plain": [
       "                 customer_id    FN Active club_member_status  \\\n",
       "0        6883939031699146327  <NA>   <NA>             ACTIVE   \n",
       "1       -7200416642310594310  <NA>   <NA>             ACTIVE   \n",
       "2          -6846340800584936  <NA>   <NA>             ACTIVE   \n",
       "3         -94071612138601410  <NA>   <NA>             ACTIVE   \n",
       "4        -283965518499174310   1.0    1.0             ACTIVE   \n",
       "...                      ...   ...    ...                ...   \n",
       "1371975  7551062398649767985  <NA>   <NA>             ACTIVE   \n",
       "1371976 -9141402131989464905  <NA>   <NA>             ACTIVE   \n",
       "1371977 -8286316756823862684   1.0    1.0             ACTIVE   \n",
       "1371978  2551401172826382186   1.0    1.0             ACTIVE   \n",
       "1371979 -1516792180973952447  <NA>   <NA>         PRE-CREATE   \n",
       "\n",
       "        fashion_news_frequency   age  \\\n",
       "0                         NONE  49.0   \n",
       "1                         NONE  25.0   \n",
       "2                         NONE  24.0   \n",
       "3                         NONE  54.0   \n",
       "4                    Regularly  52.0   \n",
       "...                        ...   ...   \n",
       "1371975                   NONE  24.0   \n",
       "1371976                   NONE  21.0   \n",
       "1371977              Regularly  21.0   \n",
       "1371978              Regularly  18.0   \n",
       "1371979                   NONE  65.0   \n",
       "\n",
       "                                               postal_code  \n",
       "0        52043ee2162cf5aa7ee79974281641c6f11a68d276429a...  \n",
       "1        2973abc54daa8a5f8ccfe9362140c63247c5eee03f1d93...  \n",
       "2        64f17e6a330a85798e4998f62d0930d14db8db1c054af6...  \n",
       "3        5d36574f52495e81f019b680c843c443bd343d5ca5b1c2...  \n",
       "4        25fa5ddee9aac01b35208d01736e57942317d756b32ddd...  \n",
       "...                                                    ...  \n",
       "1371975  7aa399f7e669990daba2d92c577b52237380662f36480b...  \n",
       "1371976  3f47f1279beb72215f4de557d950e0bfa73789d24acb5e...  \n",
       "1371977  4563fc79215672cd6a863f2b4bf56b8f898f2d96ed590e...  \n",
       "1371978  8892c18e9bc3dca6aa4000cb8094fc4b51ee8db2ed14d7...  \n",
       "1371979  0a1a03306fb2f62164c2a439b38c0caa64b40deaae8687...  \n",
       "\n",
       "[1371980 rows x 7 columns]"
      ]
     },
     "execution_count": 76,
     "metadata": {},
     "output_type": "execute_result"
    }
   ],
   "source": [
    "customer"
   ]
  },
  {
   "cell_type": "code",
   "execution_count": 77,
   "id": "8a84c1ed",
   "metadata": {
    "execution": {
     "iopub.execute_input": "2022-03-27T12:56:04.868576Z",
     "iopub.status.busy": "2022-03-27T12:56:04.867595Z",
     "iopub.status.idle": "2022-03-27T12:56:11.987473Z",
     "shell.execute_reply": "2022-03-27T12:56:11.986901Z",
     "shell.execute_reply.started": "2022-03-27T12:47:28.156630Z"
    },
    "papermill": {
     "duration": 7.275823,
     "end_time": "2022-03-27T12:56:11.987627",
     "exception": false,
     "start_time": "2022-03-27T12:56:04.711804",
     "status": "completed"
    },
    "tags": []
   },
   "outputs": [],
   "source": [
    "sub_customer = sub.merge(customer.fillna(0), on = \"customer_id\")\n",
    "sub_customer[\"age_type\"] = pd.cut(sub_customer.to_pandas()[\"age\"], bins = np.array([0, 21, 24, 27, 30, 35, 40, 45, 50, 60, 100], dtype = \"int32\"), right = True).astype(\"string\")"
   ]
  },
  {
   "cell_type": "code",
   "execution_count": 78,
   "id": "a29510d5",
   "metadata": {
    "execution": {
     "iopub.execute_input": "2022-03-27T12:56:12.298121Z",
     "iopub.status.busy": "2022-03-27T12:56:12.296908Z",
     "iopub.status.idle": "2022-03-27T12:56:24.555980Z",
     "shell.execute_reply": "2022-03-27T12:56:24.555370Z",
     "shell.execute_reply.started": "2022-03-27T12:47:35.699500Z"
    },
    "papermill": {
     "duration": 12.415967,
     "end_time": "2022-03-27T12:56:24.556156",
     "exception": false,
     "start_time": "2022-03-27T12:56:12.140189",
     "status": "completed"
    },
    "tags": []
   },
   "outputs": [],
   "source": [
    "result3 = sub_customer.to_pandas().merge(summary.to_pandas(), on = [\"fashion_news_frequency\", \"age_type\"], how = \"left\")"
   ]
  },
  {
   "cell_type": "code",
   "execution_count": 79,
   "id": "66bf9fb8",
   "metadata": {
    "execution": {
     "iopub.execute_input": "2022-03-27T12:56:24.852065Z",
     "iopub.status.busy": "2022-03-27T12:56:24.850721Z",
     "iopub.status.idle": "2022-03-27T12:56:36.010804Z",
     "shell.execute_reply": "2022-03-27T12:56:36.009813Z",
     "shell.execute_reply.started": "2022-03-27T12:47:47.389300Z"
    },
    "papermill": {
     "duration": 11.307798,
     "end_time": "2022-03-27T12:56:36.010960",
     "exception": false,
     "start_time": "2022-03-27T12:56:24.703162",
     "status": "completed"
    },
    "tags": []
   },
   "outputs": [],
   "source": [
    "result3[\"source\"] = 3\n",
    "result3 = result3.loc[:,[\"customer_id\", \"article_id\", \"source\", \"score\", \"rank\"]]"
   ]
  },
  {
   "cell_type": "code",
   "execution_count": 80,
   "id": "ca8c954b",
   "metadata": {
    "execution": {
     "iopub.execute_input": "2022-03-27T12:56:36.314025Z",
     "iopub.status.busy": "2022-03-27T12:56:36.312529Z",
     "iopub.status.idle": "2022-03-27T12:56:36.316565Z",
     "shell.execute_reply": "2022-03-27T12:56:36.316103Z",
     "shell.execute_reply.started": "2022-03-27T12:47:57.388366Z"
    },
    "papermill": {
     "duration": 0.160806,
     "end_time": "2022-03-27T12:56:36.316684",
     "exception": false,
     "start_time": "2022-03-27T12:56:36.155878",
     "status": "completed"
    },
    "tags": []
   },
   "outputs": [
    {
     "data": {
      "text/html": [
       "<div>\n",
       "<style scoped>\n",
       "    .dataframe tbody tr th:only-of-type {\n",
       "        vertical-align: middle;\n",
       "    }\n",
       "\n",
       "    .dataframe tbody tr th {\n",
       "        vertical-align: top;\n",
       "    }\n",
       "\n",
       "    .dataframe thead th {\n",
       "        text-align: right;\n",
       "    }\n",
       "</style>\n",
       "<table border=\"1\" class=\"dataframe\">\n",
       "  <thead>\n",
       "    <tr style=\"text-align: right;\">\n",
       "      <th></th>\n",
       "      <th>customer_id</th>\n",
       "      <th>article_id</th>\n",
       "      <th>source</th>\n",
       "      <th>score</th>\n",
       "      <th>rank</th>\n",
       "    </tr>\n",
       "  </thead>\n",
       "  <tbody>\n",
       "    <tr>\n",
       "      <th>0</th>\n",
       "      <td>3441287777015642391</td>\n",
       "      <td>448509014.0</td>\n",
       "      <td>3</td>\n",
       "      <td>0.006129</td>\n",
       "      <td>2.0</td>\n",
       "    </tr>\n",
       "    <tr>\n",
       "      <th>1</th>\n",
       "      <td>3441287777015642391</td>\n",
       "      <td>918292001.0</td>\n",
       "      <td>3</td>\n",
       "      <td>0.003178</td>\n",
       "      <td>7.0</td>\n",
       "    </tr>\n",
       "    <tr>\n",
       "      <th>2</th>\n",
       "      <td>3441287777015642391</td>\n",
       "      <td>918522001.0</td>\n",
       "      <td>3</td>\n",
       "      <td>0.004767</td>\n",
       "      <td>4.0</td>\n",
       "    </tr>\n",
       "    <tr>\n",
       "      <th>3</th>\n",
       "      <td>3441287777015642391</td>\n",
       "      <td>767423001.0</td>\n",
       "      <td>3</td>\n",
       "      <td>0.002497</td>\n",
       "      <td>12.0</td>\n",
       "    </tr>\n",
       "    <tr>\n",
       "      <th>4</th>\n",
       "      <td>3441287777015642391</td>\n",
       "      <td>715624001.0</td>\n",
       "      <td>3</td>\n",
       "      <td>0.005524</td>\n",
       "      <td>3.0</td>\n",
       "    </tr>\n",
       "    <tr>\n",
       "      <th>...</th>\n",
       "      <td>...</td>\n",
       "      <td>...</td>\n",
       "      <td>...</td>\n",
       "      <td>...</td>\n",
       "      <td>...</td>\n",
       "    </tr>\n",
       "    <tr>\n",
       "      <th>32880969</th>\n",
       "      <td>-7090846609810335893</td>\n",
       "      <td>909370001.0</td>\n",
       "      <td>3</td>\n",
       "      <td>0.005994</td>\n",
       "      <td>1.0</td>\n",
       "    </tr>\n",
       "    <tr>\n",
       "      <th>32880970</th>\n",
       "      <td>-7090846609810335893</td>\n",
       "      <td>918292001.0</td>\n",
       "      <td>3</td>\n",
       "      <td>0.003260</td>\n",
       "      <td>4.0</td>\n",
       "    </tr>\n",
       "    <tr>\n",
       "      <th>32880971</th>\n",
       "      <td>-7090846609810335893</td>\n",
       "      <td>706016003.0</td>\n",
       "      <td>3</td>\n",
       "      <td>0.002471</td>\n",
       "      <td>11.0</td>\n",
       "    </tr>\n",
       "    <tr>\n",
       "      <th>32880972</th>\n",
       "      <td>-7090846609810335893</td>\n",
       "      <td>762846027.0</td>\n",
       "      <td>3</td>\n",
       "      <td>0.002734</td>\n",
       "      <td>9.0</td>\n",
       "    </tr>\n",
       "    <tr>\n",
       "      <th>32880973</th>\n",
       "      <td>-5789037432137844015</td>\n",
       "      <td>NaN</td>\n",
       "      <td>3</td>\n",
       "      <td>NaN</td>\n",
       "      <td>NaN</td>\n",
       "    </tr>\n",
       "  </tbody>\n",
       "</table>\n",
       "<p>32880974 rows × 5 columns</p>\n",
       "</div>"
      ],
      "text/plain": [
       "                  customer_id   article_id  source     score  rank\n",
       "0         3441287777015642391  448509014.0       3  0.006129   2.0\n",
       "1         3441287777015642391  918292001.0       3  0.003178   7.0\n",
       "2         3441287777015642391  918522001.0       3  0.004767   4.0\n",
       "3         3441287777015642391  767423001.0       3  0.002497  12.0\n",
       "4         3441287777015642391  715624001.0       3  0.005524   3.0\n",
       "...                       ...          ...     ...       ...   ...\n",
       "32880969 -7090846609810335893  909370001.0       3  0.005994   1.0\n",
       "32880970 -7090846609810335893  918292001.0       3  0.003260   4.0\n",
       "32880971 -7090846609810335893  706016003.0       3  0.002471  11.0\n",
       "32880972 -7090846609810335893  762846027.0       3  0.002734   9.0\n",
       "32880973 -5789037432137844015          NaN       3       NaN   NaN\n",
       "\n",
       "[32880974 rows x 5 columns]"
      ]
     },
     "execution_count": 80,
     "metadata": {},
     "output_type": "execute_result"
    }
   ],
   "source": [
    "result3"
   ]
  },
  {
   "cell_type": "code",
   "execution_count": 81,
   "id": "6a5d3810",
   "metadata": {
    "execution": {
     "iopub.execute_input": "2022-03-27T12:56:36.608311Z",
     "iopub.status.busy": "2022-03-27T12:56:36.607378Z",
     "iopub.status.idle": "2022-03-27T12:56:36.609506Z",
     "shell.execute_reply": "2022-03-27T12:56:36.609868Z",
     "shell.execute_reply.started": "2022-03-27T12:47:57.406804Z"
    },
    "papermill": {
     "duration": 0.150086,
     "end_time": "2022-03-27T12:56:36.610016",
     "exception": false,
     "start_time": "2022-03-27T12:56:36.459930",
     "status": "completed"
    },
    "tags": []
   },
   "outputs": [],
   "source": [
    "#result3.to_csv(\"/kaggle/working/result3.csv\", index = False)"
   ]
  },
  {
   "cell_type": "markdown",
   "id": "ff1d9e44",
   "metadata": {
    "papermill": {
     "duration": 0.150471,
     "end_time": "2022-03-27T12:56:36.905326",
     "exception": false,
     "start_time": "2022-03-27T12:56:36.754855",
     "status": "completed"
    },
    "tags": []
   },
   "source": [
    "## 混合排序"
   ]
  },
  {
   "cell_type": "code",
   "execution_count": 82,
   "id": "01b208ff",
   "metadata": {
    "execution": {
     "iopub.execute_input": "2022-03-27T12:56:37.200831Z",
     "iopub.status.busy": "2022-03-27T12:56:37.199936Z",
     "iopub.status.idle": "2022-03-27T12:56:37.202248Z",
     "shell.execute_reply": "2022-03-27T12:56:37.201733Z",
     "shell.execute_reply.started": "2022-03-27T12:47:57.423601Z"
    },
    "papermill": {
     "duration": 0.150969,
     "end_time": "2022-03-27T12:56:37.202360",
     "exception": false,
     "start_time": "2022-03-27T12:56:37.051391",
     "status": "completed"
    },
    "tags": []
   },
   "outputs": [],
   "source": [
    "#result2 = pd.read_csv(\"../input/relation/result2.csv\")\n",
    "#result1 = pd.read_csv(\"../input/relation/result1.csv\")\n",
    "#result3 = pd.read_csv(\"/kaggle/working/result3.csv\")"
   ]
  },
  {
   "cell_type": "code",
   "execution_count": 83,
   "id": "b2386668",
   "metadata": {
    "execution": {
     "iopub.execute_input": "2022-03-27T12:56:37.490830Z",
     "iopub.status.busy": "2022-03-27T12:56:37.490303Z",
     "iopub.status.idle": "2022-03-27T12:56:37.494193Z",
     "shell.execute_reply": "2022-03-27T12:56:37.493747Z",
     "shell.execute_reply.started": "2022-03-27T12:47:57.428356Z"
    },
    "papermill": {
     "duration": 0.148621,
     "end_time": "2022-03-27T12:56:37.494313",
     "exception": false,
     "start_time": "2022-03-27T12:56:37.345692",
     "status": "completed"
    },
    "tags": []
   },
   "outputs": [],
   "source": [
    "#result1 = pd.read_csv(\"/kaggle/working/result1.csv\")\n",
    "#result2 = pd.read_csv(\"/kaggle/working/result2.csv\")"
   ]
  },
  {
   "cell_type": "code",
   "execution_count": 84,
   "id": "5e594ecf",
   "metadata": {
    "execution": {
     "iopub.execute_input": "2022-03-27T12:56:37.791036Z",
     "iopub.status.busy": "2022-03-27T12:56:37.790439Z",
     "iopub.status.idle": "2022-03-27T12:56:37.794272Z",
     "shell.execute_reply": "2022-03-27T12:56:37.793849Z",
     "shell.execute_reply.started": "2022-03-27T12:47:57.437479Z"
    },
    "papermill": {
     "duration": 0.158819,
     "end_time": "2022-03-27T12:56:37.794383",
     "exception": false,
     "start_time": "2022-03-27T12:56:37.635564",
     "status": "completed"
    },
    "tags": []
   },
   "outputs": [
    {
     "data": {
      "text/html": [
       "<div>\n",
       "<style scoped>\n",
       "    .dataframe tbody tr th:only-of-type {\n",
       "        vertical-align: middle;\n",
       "    }\n",
       "\n",
       "    .dataframe tbody tr th {\n",
       "        vertical-align: top;\n",
       "    }\n",
       "\n",
       "    .dataframe thead th {\n",
       "        text-align: right;\n",
       "    }\n",
       "</style>\n",
       "<table border=\"1\" class=\"dataframe\">\n",
       "  <thead>\n",
       "    <tr style=\"text-align: right;\">\n",
       "      <th></th>\n",
       "      <th>customer_id</th>\n",
       "      <th>article_id</th>\n",
       "      <th>source</th>\n",
       "      <th>score</th>\n",
       "      <th>rank</th>\n",
       "    </tr>\n",
       "  </thead>\n",
       "  <tbody>\n",
       "    <tr>\n",
       "      <th>0</th>\n",
       "      <td>3441287777015642391</td>\n",
       "      <td>448509014.0</td>\n",
       "      <td>3</td>\n",
       "      <td>0.006129</td>\n",
       "      <td>2.0</td>\n",
       "    </tr>\n",
       "    <tr>\n",
       "      <th>1</th>\n",
       "      <td>3441287777015642391</td>\n",
       "      <td>918292001.0</td>\n",
       "      <td>3</td>\n",
       "      <td>0.003178</td>\n",
       "      <td>7.0</td>\n",
       "    </tr>\n",
       "    <tr>\n",
       "      <th>2</th>\n",
       "      <td>3441287777015642391</td>\n",
       "      <td>918522001.0</td>\n",
       "      <td>3</td>\n",
       "      <td>0.004767</td>\n",
       "      <td>4.0</td>\n",
       "    </tr>\n",
       "    <tr>\n",
       "      <th>3</th>\n",
       "      <td>3441287777015642391</td>\n",
       "      <td>767423001.0</td>\n",
       "      <td>3</td>\n",
       "      <td>0.002497</td>\n",
       "      <td>12.0</td>\n",
       "    </tr>\n",
       "    <tr>\n",
       "      <th>4</th>\n",
       "      <td>3441287777015642391</td>\n",
       "      <td>715624001.0</td>\n",
       "      <td>3</td>\n",
       "      <td>0.005524</td>\n",
       "      <td>3.0</td>\n",
       "    </tr>\n",
       "    <tr>\n",
       "      <th>...</th>\n",
       "      <td>...</td>\n",
       "      <td>...</td>\n",
       "      <td>...</td>\n",
       "      <td>...</td>\n",
       "      <td>...</td>\n",
       "    </tr>\n",
       "    <tr>\n",
       "      <th>32880969</th>\n",
       "      <td>-7090846609810335893</td>\n",
       "      <td>909370001.0</td>\n",
       "      <td>3</td>\n",
       "      <td>0.005994</td>\n",
       "      <td>1.0</td>\n",
       "    </tr>\n",
       "    <tr>\n",
       "      <th>32880970</th>\n",
       "      <td>-7090846609810335893</td>\n",
       "      <td>918292001.0</td>\n",
       "      <td>3</td>\n",
       "      <td>0.003260</td>\n",
       "      <td>4.0</td>\n",
       "    </tr>\n",
       "    <tr>\n",
       "      <th>32880971</th>\n",
       "      <td>-7090846609810335893</td>\n",
       "      <td>706016003.0</td>\n",
       "      <td>3</td>\n",
       "      <td>0.002471</td>\n",
       "      <td>11.0</td>\n",
       "    </tr>\n",
       "    <tr>\n",
       "      <th>32880972</th>\n",
       "      <td>-7090846609810335893</td>\n",
       "      <td>762846027.0</td>\n",
       "      <td>3</td>\n",
       "      <td>0.002734</td>\n",
       "      <td>9.0</td>\n",
       "    </tr>\n",
       "    <tr>\n",
       "      <th>32880973</th>\n",
       "      <td>-5789037432137844015</td>\n",
       "      <td>NaN</td>\n",
       "      <td>3</td>\n",
       "      <td>NaN</td>\n",
       "      <td>NaN</td>\n",
       "    </tr>\n",
       "  </tbody>\n",
       "</table>\n",
       "<p>32880974 rows × 5 columns</p>\n",
       "</div>"
      ],
      "text/plain": [
       "                  customer_id   article_id  source     score  rank\n",
       "0         3441287777015642391  448509014.0       3  0.006129   2.0\n",
       "1         3441287777015642391  918292001.0       3  0.003178   7.0\n",
       "2         3441287777015642391  918522001.0       3  0.004767   4.0\n",
       "3         3441287777015642391  767423001.0       3  0.002497  12.0\n",
       "4         3441287777015642391  715624001.0       3  0.005524   3.0\n",
       "...                       ...          ...     ...       ...   ...\n",
       "32880969 -7090846609810335893  909370001.0       3  0.005994   1.0\n",
       "32880970 -7090846609810335893  918292001.0       3  0.003260   4.0\n",
       "32880971 -7090846609810335893  706016003.0       3  0.002471  11.0\n",
       "32880972 -7090846609810335893  762846027.0       3  0.002734   9.0\n",
       "32880973 -5789037432137844015          NaN       3       NaN   NaN\n",
       "\n",
       "[32880974 rows x 5 columns]"
      ]
     },
     "execution_count": 84,
     "metadata": {},
     "output_type": "execute_result"
    }
   ],
   "source": [
    "result3"
   ]
  },
  {
   "cell_type": "code",
   "execution_count": 85,
   "id": "0c4da07d",
   "metadata": {
    "execution": {
     "iopub.execute_input": "2022-03-27T12:56:38.089014Z",
     "iopub.status.busy": "2022-03-27T12:56:38.087372Z",
     "iopub.status.idle": "2022-03-27T12:56:38.089887Z",
     "shell.execute_reply": "2022-03-27T12:56:38.088306Z",
     "shell.execute_reply.started": "2022-03-27T12:47:57.456215Z"
    },
    "papermill": {
     "duration": 0.151571,
     "end_time": "2022-03-27T12:56:38.090110",
     "exception": false,
     "start_time": "2022-03-27T12:56:37.938539",
     "status": "completed"
    },
    "tags": []
   },
   "outputs": [],
   "source": [
    "#assert False"
   ]
  },
  {
   "cell_type": "code",
   "execution_count": 86,
   "id": "09dbc0c1",
   "metadata": {
    "execution": {
     "iopub.execute_input": "2022-03-27T12:56:38.611793Z",
     "iopub.status.busy": "2022-03-27T12:56:38.610315Z",
     "iopub.status.idle": "2022-03-27T12:56:38.612578Z",
     "shell.execute_reply": "2022-03-27T12:56:38.611123Z",
     "shell.execute_reply.started": "2022-03-27T12:47:57.463513Z"
    },
    "papermill": {
     "duration": 0.276613,
     "end_time": "2022-03-27T12:56:38.612838",
     "exception": false,
     "start_time": "2022-03-27T12:56:38.336225",
     "status": "completed"
    },
    "tags": []
   },
   "outputs": [],
   "source": [
    "# del result1\n",
    "# del result2\n",
    "# del result3"
   ]
  },
  {
   "cell_type": "code",
   "execution_count": 87,
   "id": "c858cb59",
   "metadata": {
    "execution": {
     "iopub.execute_input": "2022-03-27T12:56:38.999247Z",
     "iopub.status.busy": "2022-03-27T12:56:38.998194Z",
     "iopub.status.idle": "2022-03-27T12:56:39.001603Z",
     "shell.execute_reply": "2022-03-27T12:56:39.000963Z",
     "shell.execute_reply.started": "2022-03-27T12:47:57.470565Z"
    },
    "papermill": {
     "duration": 0.16394,
     "end_time": "2022-03-27T12:56:39.001767",
     "exception": false,
     "start_time": "2022-03-27T12:56:38.837827",
     "status": "completed"
    },
    "tags": []
   },
   "outputs": [],
   "source": [
    "# result = pd.concat([result1, result2, result3], axis = 0)"
   ]
  },
  {
   "cell_type": "code",
   "execution_count": 88,
   "id": "1b020e40",
   "metadata": {
    "execution": {
     "iopub.execute_input": "2022-03-27T12:56:39.333559Z",
     "iopub.status.busy": "2022-03-27T12:56:39.332065Z",
     "iopub.status.idle": "2022-03-27T12:56:39.434710Z",
     "shell.execute_reply": "2022-03-27T12:56:39.435226Z",
     "shell.execute_reply.started": "2022-03-27T12:47:57.478352Z"
    },
    "papermill": {
     "duration": 0.269529,
     "end_time": "2022-03-27T12:56:39.435404",
     "exception": false,
     "start_time": "2022-03-27T12:56:39.165875",
     "status": "completed"
    },
    "tags": []
   },
   "outputs": [],
   "source": [
    "result = result1.copy()"
   ]
  },
  {
   "cell_type": "code",
   "execution_count": 89,
   "id": "85a546cc",
   "metadata": {
    "execution": {
     "iopub.execute_input": "2022-03-27T12:56:39.922619Z",
     "iopub.status.busy": "2022-03-27T12:56:39.757132Z",
     "iopub.status.idle": "2022-03-27T12:56:39.926244Z",
     "shell.execute_reply": "2022-03-27T12:56:39.926748Z",
     "shell.execute_reply.started": "2022-03-27T12:47:57.585844Z"
    },
    "papermill": {
     "duration": 0.33349,
     "end_time": "2022-03-27T12:56:39.926981",
     "exception": false,
     "start_time": "2022-03-27T12:56:39.593491",
     "status": "completed"
    },
    "tags": []
   },
   "outputs": [
    {
     "data": {
      "text/plain": [
       "105"
      ]
     },
     "execution_count": 89,
     "metadata": {},
     "output_type": "execute_result"
    }
   ],
   "source": [
    "gc.collect()"
   ]
  },
  {
   "cell_type": "code",
   "execution_count": 90,
   "id": "5cff6fe9",
   "metadata": {
    "execution": {
     "iopub.execute_input": "2022-03-27T12:56:40.258287Z",
     "iopub.status.busy": "2022-03-27T12:56:40.257546Z",
     "iopub.status.idle": "2022-03-27T12:56:40.261378Z",
     "shell.execute_reply": "2022-03-27T12:56:40.260863Z",
     "shell.execute_reply.started": "2022-03-27T12:47:57.731464Z"
    },
    "papermill": {
     "duration": 0.174725,
     "end_time": "2022-03-27T12:56:40.261525",
     "exception": false,
     "start_time": "2022-03-27T12:56:40.086800",
     "status": "completed"
    },
    "tags": []
   },
   "outputs": [],
   "source": [
    "result.index = range(len(result))"
   ]
  },
  {
   "cell_type": "code",
   "execution_count": 91,
   "id": "23d051c6",
   "metadata": {
    "execution": {
     "iopub.execute_input": "2022-03-27T12:56:40.591747Z",
     "iopub.status.busy": "2022-03-27T12:56:40.590915Z",
     "iopub.status.idle": "2022-03-27T12:56:40.593729Z",
     "shell.execute_reply": "2022-03-27T12:56:40.594179Z",
     "shell.execute_reply.started": "2022-03-27T12:47:57.738851Z"
    },
    "papermill": {
     "duration": 0.168865,
     "end_time": "2022-03-27T12:56:40.594331",
     "exception": false,
     "start_time": "2022-03-27T12:56:40.425466",
     "status": "completed"
    },
    "tags": []
   },
   "outputs": [],
   "source": [
    "#result.loc[result[\"source\"] == 3, \"score\"] *= 0.9"
   ]
  },
  {
   "cell_type": "code",
   "execution_count": 92,
   "id": "edbad5fc",
   "metadata": {
    "execution": {
     "iopub.execute_input": "2022-03-27T12:56:40.930594Z",
     "iopub.status.busy": "2022-03-27T12:56:40.929388Z",
     "iopub.status.idle": "2022-03-27T12:56:40.931424Z",
     "shell.execute_reply": "2022-03-27T12:56:40.931985Z",
     "shell.execute_reply.started": "2022-03-27T12:47:57.748221Z"
    },
    "papermill": {
     "duration": 0.172675,
     "end_time": "2022-03-27T12:56:40.932178",
     "exception": false,
     "start_time": "2022-03-27T12:56:40.759503",
     "status": "completed"
    },
    "tags": []
   },
   "outputs": [],
   "source": [
    "#del result1\n",
    "#del result2\n",
    "#del sub_customer"
   ]
  },
  {
   "cell_type": "code",
   "execution_count": 93,
   "id": "943746f2",
   "metadata": {
    "execution": {
     "iopub.execute_input": "2022-03-27T12:56:41.234239Z",
     "iopub.status.busy": "2022-03-27T12:56:41.232590Z",
     "iopub.status.idle": "2022-03-27T12:56:41.374289Z",
     "shell.execute_reply": "2022-03-27T12:56:41.373740Z",
     "shell.execute_reply.started": "2022-03-27T12:47:57.755087Z"
    },
    "papermill": {
     "duration": 0.295844,
     "end_time": "2022-03-27T12:56:41.374433",
     "exception": false,
     "start_time": "2022-03-27T12:56:41.078589",
     "status": "completed"
    },
    "tags": []
   },
   "outputs": [],
   "source": [
    "result = cudf.DataFrame(result, dtype={'article_id': 'int32', 'customer_id':'int64'})"
   ]
  },
  {
   "cell_type": "code",
   "execution_count": 94,
   "id": "4820b497",
   "metadata": {
    "execution": {
     "iopub.execute_input": "2022-03-27T12:56:41.672980Z",
     "iopub.status.busy": "2022-03-27T12:56:41.667873Z",
     "iopub.status.idle": "2022-03-27T12:56:41.720875Z",
     "shell.execute_reply": "2022-03-27T12:56:41.721379Z",
     "shell.execute_reply.started": "2022-03-27T12:47:57.936554Z"
    },
    "papermill": {
     "duration": 0.204916,
     "end_time": "2022-03-27T12:56:41.721549",
     "exception": false,
     "start_time": "2022-03-27T12:56:41.516633",
     "status": "completed"
    },
    "tags": []
   },
   "outputs": [
    {
     "data": {
      "text/html": [
       "<div>\n",
       "<style scoped>\n",
       "    .dataframe tbody tr th:only-of-type {\n",
       "        vertical-align: middle;\n",
       "    }\n",
       "\n",
       "    .dataframe tbody tr th {\n",
       "        vertical-align: top;\n",
       "    }\n",
       "\n",
       "    .dataframe thead th {\n",
       "        text-align: right;\n",
       "    }\n",
       "</style>\n",
       "<table border=\"1\" class=\"dataframe\">\n",
       "  <thead>\n",
       "    <tr style=\"text-align: right;\">\n",
       "      <th></th>\n",
       "      <th>customer_id</th>\n",
       "      <th>article_id</th>\n",
       "      <th>source</th>\n",
       "      <th>score</th>\n",
       "      <th>rank</th>\n",
       "    </tr>\n",
       "  </thead>\n",
       "  <tbody>\n",
       "    <tr>\n",
       "      <th>0</th>\n",
       "      <td>-9223352921020755230</td>\n",
       "      <td>568597006</td>\n",
       "      <td>1</td>\n",
       "      <td>0.000559</td>\n",
       "      <td>5.0</td>\n",
       "    </tr>\n",
       "    <tr>\n",
       "      <th>1</th>\n",
       "      <td>-9223352921020755230</td>\n",
       "      <td>673396002</td>\n",
       "      <td>1</td>\n",
       "      <td>0.044511</td>\n",
       "      <td>1.0</td>\n",
       "    </tr>\n",
       "    <tr>\n",
       "      <th>2</th>\n",
       "      <td>-9223352921020755230</td>\n",
       "      <td>706016001</td>\n",
       "      <td>1</td>\n",
       "      <td>0.003289</td>\n",
       "      <td>4.0</td>\n",
       "    </tr>\n",
       "    <tr>\n",
       "      <th>3</th>\n",
       "      <td>-9223352921020755230</td>\n",
       "      <td>812167004</td>\n",
       "      <td>1</td>\n",
       "      <td>0.019179</td>\n",
       "      <td>2.0</td>\n",
       "    </tr>\n",
       "    <tr>\n",
       "      <th>4</th>\n",
       "      <td>-9223352921020755230</td>\n",
       "      <td>849493006</td>\n",
       "      <td>1</td>\n",
       "      <td>0.006174</td>\n",
       "      <td>3.0</td>\n",
       "    </tr>\n",
       "    <tr>\n",
       "      <th>...</th>\n",
       "      <td>...</td>\n",
       "      <td>...</td>\n",
       "      <td>...</td>\n",
       "      <td>...</td>\n",
       "      <td>...</td>\n",
       "    </tr>\n",
       "    <tr>\n",
       "      <th>6693011</th>\n",
       "      <td>9223301031927667525</td>\n",
       "      <td>719957006</td>\n",
       "      <td>1</td>\n",
       "      <td>0.000026</td>\n",
       "      <td>1.0</td>\n",
       "    </tr>\n",
       "    <tr>\n",
       "      <th>6693012</th>\n",
       "      <td>9223333063893176977</td>\n",
       "      <td>658030020</td>\n",
       "      <td>1</td>\n",
       "      <td>0.000038</td>\n",
       "      <td>1.0</td>\n",
       "    </tr>\n",
       "    <tr>\n",
       "      <th>6693013</th>\n",
       "      <td>9223357421094039679</td>\n",
       "      <td>747984001</td>\n",
       "      <td>1</td>\n",
       "      <td>0.000010</td>\n",
       "      <td>2.0</td>\n",
       "    </tr>\n",
       "    <tr>\n",
       "      <th>6693014</th>\n",
       "      <td>9223357421094039679</td>\n",
       "      <td>747984002</td>\n",
       "      <td>1</td>\n",
       "      <td>0.000053</td>\n",
       "      <td>1.0</td>\n",
       "    </tr>\n",
       "    <tr>\n",
       "      <th>6693015</th>\n",
       "      <td>9223370729206611574</td>\n",
       "      <td>781758003</td>\n",
       "      <td>1</td>\n",
       "      <td>0.001461</td>\n",
       "      <td>1.0</td>\n",
       "    </tr>\n",
       "  </tbody>\n",
       "</table>\n",
       "<p>6693016 rows × 5 columns</p>\n",
       "</div>"
      ],
      "text/plain": [
       "                 customer_id  article_id  source     score  rank\n",
       "0       -9223352921020755230   568597006       1  0.000559   5.0\n",
       "1       -9223352921020755230   673396002       1  0.044511   1.0\n",
       "2       -9223352921020755230   706016001       1  0.003289   4.0\n",
       "3       -9223352921020755230   812167004       1  0.019179   2.0\n",
       "4       -9223352921020755230   849493006       1  0.006174   3.0\n",
       "...                      ...         ...     ...       ...   ...\n",
       "6693011  9223301031927667525   719957006       1  0.000026   1.0\n",
       "6693012  9223333063893176977   658030020       1  0.000038   1.0\n",
       "6693013  9223357421094039679   747984001       1  0.000010   2.0\n",
       "6693014  9223357421094039679   747984002       1  0.000053   1.0\n",
       "6693015  9223370729206611574   781758003       1  0.001461   1.0\n",
       "\n",
       "[6693016 rows x 5 columns]"
      ]
     },
     "execution_count": 94,
     "metadata": {},
     "output_type": "execute_result"
    }
   ],
   "source": [
    "result"
   ]
  },
  {
   "cell_type": "code",
   "execution_count": 95,
   "id": "64ef3417",
   "metadata": {
    "execution": {
     "iopub.execute_input": "2022-03-27T12:56:42.043263Z",
     "iopub.status.busy": "2022-03-27T12:56:42.041358Z",
     "iopub.status.idle": "2022-03-27T12:56:42.043936Z",
     "shell.execute_reply": "2022-03-27T12:56:42.044428Z",
     "shell.execute_reply.started": "2022-03-27T12:47:58.027924Z"
    },
    "papermill": {
     "duration": 0.169034,
     "end_time": "2022-03-27T12:56:42.044593",
     "exception": false,
     "start_time": "2022-03-27T12:56:41.875559",
     "status": "completed"
    },
    "tags": []
   },
   "outputs": [],
   "source": [
    "#merge_result = result.groupby([\"customer_id\", \"article_id\"]).apply(lambda x:x.nlargest(1, \"score\"))"
   ]
  },
  {
   "cell_type": "code",
   "execution_count": 96,
   "id": "fdf4326f",
   "metadata": {
    "execution": {
     "iopub.execute_input": "2022-03-27T12:56:42.371096Z",
     "iopub.status.busy": "2022-03-27T12:56:42.370158Z",
     "iopub.status.idle": "2022-03-27T12:56:42.405141Z",
     "shell.execute_reply": "2022-03-27T12:56:42.404551Z",
     "shell.execute_reply.started": "2022-03-27T12:47:58.036451Z"
    },
    "papermill": {
     "duration": 0.202803,
     "end_time": "2022-03-27T12:56:42.405310",
     "exception": false,
     "start_time": "2022-03-27T12:56:42.202507",
     "status": "completed"
    },
    "tags": []
   },
   "outputs": [],
   "source": [
    "merge_result = result.groupby([\"customer_id\", \"article_id\"])['score'].max().reset_index()"
   ]
  },
  {
   "cell_type": "code",
   "execution_count": 97,
   "id": "9fa5f2dc",
   "metadata": {
    "execution": {
     "iopub.execute_input": "2022-03-27T12:56:42.719789Z",
     "iopub.status.busy": "2022-03-27T12:56:42.717947Z",
     "iopub.status.idle": "2022-03-27T12:56:42.720444Z",
     "shell.execute_reply": "2022-03-27T12:56:42.720932Z",
     "shell.execute_reply.started": "2022-03-27T12:47:58.088376Z"
    },
    "papermill": {
     "duration": 0.159915,
     "end_time": "2022-03-27T12:56:42.721118",
     "exception": false,
     "start_time": "2022-03-27T12:56:42.561203",
     "status": "completed"
    },
    "tags": []
   },
   "outputs": [],
   "source": [
    "# del result"
   ]
  },
  {
   "cell_type": "code",
   "execution_count": 98,
   "id": "700a7cbf",
   "metadata": {
    "execution": {
     "iopub.execute_input": "2022-03-27T12:56:43.032338Z",
     "iopub.status.busy": "2022-03-27T12:56:43.030602Z",
     "iopub.status.idle": "2022-03-27T12:56:43.032948Z",
     "shell.execute_reply": "2022-03-27T12:56:43.033410Z",
     "shell.execute_reply.started": "2022-03-27T12:47:58.100374Z"
    },
    "papermill": {
     "duration": 0.160636,
     "end_time": "2022-03-27T12:56:43.033570",
     "exception": false,
     "start_time": "2022-03-27T12:56:42.872934",
     "status": "completed"
    },
    "tags": []
   },
   "outputs": [],
   "source": [
    "# purchase_df = tmp.sort_values(['customer_id', 'value'], ascending = False).reset_index(drop = True)\n",
    "# purchase_df['prediction'] = '0' + purchase_df['article_id'].astype(str) + ' '\n",
    "# purchase_df = purchase_df.groupby('customer_id').agg({'prediction': sum}).reset_index()\n",
    "# purchase_df['prediction'] = purchase_df['prediction'].str.strip()\n",
    "# purchase_df = cudf.DataFrame(purchase_df)"
   ]
  },
  {
   "cell_type": "code",
   "execution_count": 99,
   "id": "307bcb3c",
   "metadata": {
    "execution": {
     "iopub.execute_input": "2022-03-27T12:56:43.346246Z",
     "iopub.status.busy": "2022-03-27T12:56:43.345212Z",
     "iopub.status.idle": "2022-03-27T12:56:43.347150Z",
     "shell.execute_reply": "2022-03-27T12:56:43.347647Z",
     "shell.execute_reply.started": "2022-03-27T12:47:58.111111Z"
    },
    "papermill": {
     "duration": 0.159851,
     "end_time": "2022-03-27T12:56:43.347812",
     "exception": false,
     "start_time": "2022-03-27T12:56:43.187961",
     "status": "completed"
    },
    "tags": []
   },
   "outputs": [],
   "source": [
    "# %%time\n",
    "# purchase_dict = {}\n",
    "\n",
    "# tmp = df.copy().to_pandas()\n",
    "# tmp['x'] = ((last_ts - tmp['t_dat']) / np.timedelta64(1, 'D')).astype(int)\n",
    "# tmp['dummy_1'] = 1 \n",
    "# tmp['x'] = tmp[[\"x\", \"dummy_1\"]].max(axis=1)\n",
    "\n",
    "# a, b, c, d = 2.5e4, 1.5e5, 2e-1, 1e3\n",
    "# total = 1715530\n",
    "# tmp['y'] = (a / np.sqrt(tmp['x']) + b * np.exp(-c*tmp['x']) - d) / total\n",
    "\n",
    "# tmp['dummy_0'] = 0 \n",
    "# tmp['y'] = tmp[[\"y\", \"dummy_0\"]].max(axis=1)\n",
    "# tmp['value'] = tmp['quotient'] * tmp['y'] \n",
    "\n",
    "# tmp = tmp.groupby(['customer_id', 'article_id']).agg({'value': 'sum'})\n",
    "# tmp = tmp.reset_index()\n",
    "\n",
    "# tmp = tmp.loc[tmp['value'] > 0]\n",
    "# tmp['rank'] = tmp.groupby(\"customer_id\")[\"value\"].rank(\"dense\", ascending=False)\n",
    "# tmp = tmp.loc[tmp['rank'] <= 12]\n",
    "\n",
    "# # for customer_id in tmp['customer_id'].unique():\n",
    "# #     purchase_dict[customer_id] = {} \n",
    "\n",
    "# # for customer_id, article_id, value in zip(tmp['customer_id'], tmp['article_id'], tmp['value']):\n",
    "# #     purchase_dict[customer_id][article_id] = value\n",
    "\n",
    "# purchase_df = tmp.sort_values(['customer_id', 'value'], ascending = False).reset_index(drop = True)\n",
    "# purchase_df['prediction'] = '0' + purchase_df['article_id'].astype(str) + ' '\n",
    "# purchase_df = purchase_df.groupby('customer_id').agg({'prediction': sum}).reset_index()\n",
    "# purchase_df['prediction'] = purchase_df['prediction'].str.strip()\n",
    "# purchase_df = cudf.DataFrame(purchase_df)"
   ]
  },
  {
   "cell_type": "markdown",
   "id": "7fada52d",
   "metadata": {
    "papermill": {
     "duration": 0.150699,
     "end_time": "2022-03-27T12:56:43.649728",
     "exception": false,
     "start_time": "2022-03-27T12:56:43.499029",
     "status": "completed"
    },
    "tags": []
   },
   "source": [
    "### Make a submission"
   ]
  },
  {
   "cell_type": "code",
   "execution_count": 100,
   "id": "7db0b85f",
   "metadata": {
    "execution": {
     "iopub.execute_input": "2022-03-27T12:56:43.952377Z",
     "iopub.status.busy": "2022-03-27T12:56:43.951511Z",
     "iopub.status.idle": "2022-03-27T12:56:43.977155Z",
     "shell.execute_reply": "2022-03-27T12:56:43.976603Z",
     "shell.execute_reply.started": "2022-03-27T12:47:58.129167Z"
    },
    "papermill": {
     "duration": 0.179392,
     "end_time": "2022-03-27T12:56:43.977305",
     "exception": false,
     "start_time": "2022-03-27T12:56:43.797913",
     "status": "completed"
    },
    "tags": []
   },
   "outputs": [],
   "source": [
    "merge_result[\"article_id\"] = \"0\"+merge_result[\"article_id\"].astype(\"str\")"
   ]
  },
  {
   "cell_type": "code",
   "execution_count": 101,
   "id": "c2ce700b",
   "metadata": {
    "execution": {
     "iopub.execute_input": "2022-03-27T12:56:44.284929Z",
     "iopub.status.busy": "2022-03-27T12:56:44.283222Z",
     "iopub.status.idle": "2022-03-27T12:56:44.327354Z",
     "shell.execute_reply": "2022-03-27T12:56:44.327821Z",
     "shell.execute_reply.started": "2022-03-27T12:47:58.168865Z"
    },
    "papermill": {
     "duration": 0.205804,
     "end_time": "2022-03-27T12:56:44.327997",
     "exception": false,
     "start_time": "2022-03-27T12:56:44.122193",
     "status": "completed"
    },
    "tags": []
   },
   "outputs": [
    {
     "data": {
      "text/html": [
       "<div>\n",
       "<style scoped>\n",
       "    .dataframe tbody tr th:only-of-type {\n",
       "        vertical-align: middle;\n",
       "    }\n",
       "\n",
       "    .dataframe tbody tr th {\n",
       "        vertical-align: top;\n",
       "    }\n",
       "\n",
       "    .dataframe thead th {\n",
       "        text-align: right;\n",
       "    }\n",
       "</style>\n",
       "<table border=\"1\" class=\"dataframe\">\n",
       "  <thead>\n",
       "    <tr style=\"text-align: right;\">\n",
       "      <th></th>\n",
       "      <th>customer_id</th>\n",
       "      <th>article_id</th>\n",
       "      <th>score</th>\n",
       "    </tr>\n",
       "  </thead>\n",
       "  <tbody>\n",
       "    <tr>\n",
       "      <th>0</th>\n",
       "      <td>4492362453051788141</td>\n",
       "      <td>0749699002</td>\n",
       "      <td>0.000630</td>\n",
       "    </tr>\n",
       "    <tr>\n",
       "      <th>1</th>\n",
       "      <td>4124625771143111225</td>\n",
       "      <td>0808025001</td>\n",
       "      <td>0.001122</td>\n",
       "    </tr>\n",
       "    <tr>\n",
       "      <th>2</th>\n",
       "      <td>5261175502799302235</td>\n",
       "      <td>0750444005</td>\n",
       "      <td>0.000665</td>\n",
       "    </tr>\n",
       "    <tr>\n",
       "      <th>3</th>\n",
       "      <td>-8893286996699827587</td>\n",
       "      <td>0841228002</td>\n",
       "      <td>0.000435</td>\n",
       "    </tr>\n",
       "    <tr>\n",
       "      <th>4</th>\n",
       "      <td>-3266625199837281520</td>\n",
       "      <td>0796210008</td>\n",
       "      <td>0.000016</td>\n",
       "    </tr>\n",
       "    <tr>\n",
       "      <th>...</th>\n",
       "      <td>...</td>\n",
       "      <td>...</td>\n",
       "      <td>...</td>\n",
       "    </tr>\n",
       "    <tr>\n",
       "      <th>6693011</th>\n",
       "      <td>1526352928334831131</td>\n",
       "      <td>0841185001</td>\n",
       "      <td>0.001261</td>\n",
       "    </tr>\n",
       "    <tr>\n",
       "      <th>6693012</th>\n",
       "      <td>8511957787811185421</td>\n",
       "      <td>0817472001</td>\n",
       "      <td>0.000683</td>\n",
       "    </tr>\n",
       "    <tr>\n",
       "      <th>6693013</th>\n",
       "      <td>-2499914258525056228</td>\n",
       "      <td>0610776002</td>\n",
       "      <td>0.000232</td>\n",
       "    </tr>\n",
       "    <tr>\n",
       "      <th>6693014</th>\n",
       "      <td>1750226397559669411</td>\n",
       "      <td>0778064018</td>\n",
       "      <td>0.000011</td>\n",
       "    </tr>\n",
       "    <tr>\n",
       "      <th>6693015</th>\n",
       "      <td>8654113067297440259</td>\n",
       "      <td>0752814018</td>\n",
       "      <td>0.001819</td>\n",
       "    </tr>\n",
       "  </tbody>\n",
       "</table>\n",
       "<p>6693016 rows × 3 columns</p>\n",
       "</div>"
      ],
      "text/plain": [
       "                 customer_id  article_id     score\n",
       "0        4492362453051788141  0749699002  0.000630\n",
       "1        4124625771143111225  0808025001  0.001122\n",
       "2        5261175502799302235  0750444005  0.000665\n",
       "3       -8893286996699827587  0841228002  0.000435\n",
       "4       -3266625199837281520  0796210008  0.000016\n",
       "...                      ...         ...       ...\n",
       "6693011  1526352928334831131  0841185001  0.001261\n",
       "6693012  8511957787811185421  0817472001  0.000683\n",
       "6693013 -2499914258525056228  0610776002  0.000232\n",
       "6693014  1750226397559669411  0778064018  0.000011\n",
       "6693015  8654113067297440259  0752814018  0.001819\n",
       "\n",
       "[6693016 rows x 3 columns]"
      ]
     },
     "execution_count": 101,
     "metadata": {},
     "output_type": "execute_result"
    }
   ],
   "source": [
    "merge_result"
   ]
  },
  {
   "cell_type": "code",
   "execution_count": 102,
   "id": "866aa200",
   "metadata": {
    "execution": {
     "iopub.execute_input": "2022-03-27T12:56:44.626098Z",
     "iopub.status.busy": "2022-03-27T12:56:44.625292Z",
     "iopub.status.idle": "2022-03-27T12:56:44.703382Z",
     "shell.execute_reply": "2022-03-27T12:56:44.702853Z",
     "shell.execute_reply.started": "2022-03-27T12:47:58.255319Z"
    },
    "papermill": {
     "duration": 0.229028,
     "end_time": "2022-03-27T12:56:44.703522",
     "exception": false,
     "start_time": "2022-03-27T12:56:44.474494",
     "status": "completed"
    },
    "tags": []
   },
   "outputs": [],
   "source": [
    "merge_result = merge_result.sort_values(by = [\"customer_id\", \"score\"], ascending = False)"
   ]
  },
  {
   "cell_type": "code",
   "execution_count": 103,
   "id": "1d2b0c79",
   "metadata": {
    "execution": {
     "iopub.execute_input": "2022-03-27T12:56:45.002261Z",
     "iopub.status.busy": "2022-03-27T12:56:45.001235Z",
     "iopub.status.idle": "2022-03-27T12:56:45.003687Z",
     "shell.execute_reply": "2022-03-27T12:56:45.003212Z",
     "shell.execute_reply.started": "2022-03-27T12:47:58.346732Z"
    },
    "papermill": {
     "duration": 0.153378,
     "end_time": "2022-03-27T12:56:45.003802",
     "exception": false,
     "start_time": "2022-03-27T12:56:44.850424",
     "status": "completed"
    },
    "tags": []
   },
   "outputs": [],
   "source": [
    "#merge_result.to_pandas()[:10000].groupby([\"customer_id\"])[\"article_id\"].agg(lambda x: print(x.to_list()))"
   ]
  },
  {
   "cell_type": "code",
   "execution_count": 104,
   "id": "556b184b",
   "metadata": {
    "execution": {
     "iopub.execute_input": "2022-03-27T12:56:45.310986Z",
     "iopub.status.busy": "2022-03-27T12:56:45.309599Z",
     "iopub.status.idle": "2022-03-27T12:56:45.355453Z",
     "shell.execute_reply": "2022-03-27T12:56:45.354944Z",
     "shell.execute_reply.started": "2022-03-27T12:47:58.361415Z"
    },
    "papermill": {
     "duration": 0.207198,
     "end_time": "2022-03-27T12:56:45.355589",
     "exception": false,
     "start_time": "2022-03-27T12:56:45.148391",
     "status": "completed"
    },
    "tags": []
   },
   "outputs": [
    {
     "data": {
      "text/html": [
       "<div>\n",
       "<style scoped>\n",
       "    .dataframe tbody tr th:only-of-type {\n",
       "        vertical-align: middle;\n",
       "    }\n",
       "\n",
       "    .dataframe tbody tr th {\n",
       "        vertical-align: top;\n",
       "    }\n",
       "\n",
       "    .dataframe thead th {\n",
       "        text-align: right;\n",
       "    }\n",
       "</style>\n",
       "<table border=\"1\" class=\"dataframe\">\n",
       "  <thead>\n",
       "    <tr style=\"text-align: right;\">\n",
       "      <th></th>\n",
       "      <th>customer_id</th>\n",
       "      <th>article_id</th>\n",
       "      <th>score</th>\n",
       "    </tr>\n",
       "  </thead>\n",
       "  <tbody>\n",
       "    <tr>\n",
       "      <th>815891</th>\n",
       "      <td>9223370729206611574</td>\n",
       "      <td>0781758003</td>\n",
       "      <td>0.001461</td>\n",
       "    </tr>\n",
       "    <tr>\n",
       "      <th>5874086</th>\n",
       "      <td>9223357421094039679</td>\n",
       "      <td>0747984002</td>\n",
       "      <td>0.000053</td>\n",
       "    </tr>\n",
       "    <tr>\n",
       "      <th>930597</th>\n",
       "      <td>9223357421094039679</td>\n",
       "      <td>0747984001</td>\n",
       "      <td>0.000010</td>\n",
       "    </tr>\n",
       "    <tr>\n",
       "      <th>4902289</th>\n",
       "      <td>9223333063893176977</td>\n",
       "      <td>0658030020</td>\n",
       "      <td>0.000038</td>\n",
       "    </tr>\n",
       "    <tr>\n",
       "      <th>3999479</th>\n",
       "      <td>9223301031927667525</td>\n",
       "      <td>0719957006</td>\n",
       "      <td>0.000026</td>\n",
       "    </tr>\n",
       "    <tr>\n",
       "      <th>...</th>\n",
       "      <td>...</td>\n",
       "      <td>...</td>\n",
       "      <td>...</td>\n",
       "    </tr>\n",
       "    <tr>\n",
       "      <th>5522198</th>\n",
       "      <td>-9223352921020755230</td>\n",
       "      <td>0673396002</td>\n",
       "      <td>0.044511</td>\n",
       "    </tr>\n",
       "    <tr>\n",
       "      <th>212304</th>\n",
       "      <td>-9223352921020755230</td>\n",
       "      <td>0812167004</td>\n",
       "      <td>0.019179</td>\n",
       "    </tr>\n",
       "    <tr>\n",
       "      <th>2241494</th>\n",
       "      <td>-9223352921020755230</td>\n",
       "      <td>0849493006</td>\n",
       "      <td>0.006174</td>\n",
       "    </tr>\n",
       "    <tr>\n",
       "      <th>2046389</th>\n",
       "      <td>-9223352921020755230</td>\n",
       "      <td>0706016001</td>\n",
       "      <td>0.003289</td>\n",
       "    </tr>\n",
       "    <tr>\n",
       "      <th>1534110</th>\n",
       "      <td>-9223352921020755230</td>\n",
       "      <td>0568597006</td>\n",
       "      <td>0.000559</td>\n",
       "    </tr>\n",
       "  </tbody>\n",
       "</table>\n",
       "<p>6693016 rows × 3 columns</p>\n",
       "</div>"
      ],
      "text/plain": [
       "                 customer_id  article_id     score\n",
       "815891   9223370729206611574  0781758003  0.001461\n",
       "5874086  9223357421094039679  0747984002  0.000053\n",
       "930597   9223357421094039679  0747984001  0.000010\n",
       "4902289  9223333063893176977  0658030020  0.000038\n",
       "3999479  9223301031927667525  0719957006  0.000026\n",
       "...                      ...         ...       ...\n",
       "5522198 -9223352921020755230  0673396002  0.044511\n",
       "212304  -9223352921020755230  0812167004  0.019179\n",
       "2241494 -9223352921020755230  0849493006  0.006174\n",
       "2046389 -9223352921020755230  0706016001  0.003289\n",
       "1534110 -9223352921020755230  0568597006  0.000559\n",
       "\n",
       "[6693016 rows x 3 columns]"
      ]
     },
     "execution_count": 104,
     "metadata": {},
     "output_type": "execute_result"
    }
   ],
   "source": [
    "merge_result"
   ]
  },
  {
   "cell_type": "code",
   "execution_count": 105,
   "id": "9917c903",
   "metadata": {
    "execution": {
     "iopub.execute_input": "2022-03-27T12:56:45.654684Z",
     "iopub.status.busy": "2022-03-27T12:56:45.653441Z",
     "iopub.status.idle": "2022-03-27T12:56:55.098568Z",
     "shell.execute_reply": "2022-03-27T12:56:55.098045Z",
     "shell.execute_reply.started": "2022-03-27T12:47:58.450432Z"
    },
    "papermill": {
     "duration": 9.597391,
     "end_time": "2022-03-27T12:56:55.098706",
     "exception": false,
     "start_time": "2022-03-27T12:56:45.501315",
     "status": "completed"
    },
    "tags": []
   },
   "outputs": [],
   "source": [
    "final = merge_result.to_pandas().groupby([\"customer_id\"])[\"article_id\"].agg(lambda x: \" \".join(x)[:131])"
   ]
  },
  {
   "cell_type": "code",
   "execution_count": 106,
   "id": "53aaa778",
   "metadata": {
    "execution": {
     "iopub.execute_input": "2022-03-27T12:56:55.393491Z",
     "iopub.status.busy": "2022-03-27T12:56:55.392629Z",
     "iopub.status.idle": "2022-03-27T12:56:55.395105Z",
     "shell.execute_reply": "2022-03-27T12:56:55.394660Z",
     "shell.execute_reply.started": "2022-03-27T12:48:07.798163Z"
    },
    "papermill": {
     "duration": 0.150215,
     "end_time": "2022-03-27T12:56:55.395229",
     "exception": false,
     "start_time": "2022-03-27T12:56:55.245014",
     "status": "completed"
    },
    "tags": []
   },
   "outputs": [],
   "source": [
    "# source = merge_result.to_pandas().groupby([\"customer_id\"])[\"article_id\"].agg(lambda x: \" \".join(x)[:131])"
   ]
  },
  {
   "cell_type": "code",
   "execution_count": 107,
   "id": "d3f4925d",
   "metadata": {
    "execution": {
     "iopub.execute_input": "2022-03-27T12:56:55.690191Z",
     "iopub.status.busy": "2022-03-27T12:56:55.689125Z",
     "iopub.status.idle": "2022-03-27T12:56:55.743383Z",
     "shell.execute_reply": "2022-03-27T12:56:55.743805Z",
     "shell.execute_reply.started": "2022-03-27T12:48:07.805537Z"
    },
    "papermill": {
     "duration": 0.204447,
     "end_time": "2022-03-27T12:56:55.743983",
     "exception": false,
     "start_time": "2022-03-27T12:56:55.539536",
     "status": "completed"
    },
    "tags": []
   },
   "outputs": [],
   "source": [
    "final = final.reset_index()"
   ]
  },
  {
   "cell_type": "code",
   "execution_count": 108,
   "id": "1d735c7c",
   "metadata": {
    "execution": {
     "iopub.execute_input": "2022-03-27T12:56:56.044977Z",
     "iopub.status.busy": "2022-03-27T12:56:56.044127Z",
     "iopub.status.idle": "2022-03-27T12:56:56.073318Z",
     "shell.execute_reply": "2022-03-27T12:56:56.072818Z",
     "shell.execute_reply.started": "2022-03-27T12:48:07.864072Z"
    },
    "papermill": {
     "duration": 0.182513,
     "end_time": "2022-03-27T12:56:56.073467",
     "exception": false,
     "start_time": "2022-03-27T12:56:55.890954",
     "status": "completed"
    },
    "tags": []
   },
   "outputs": [],
   "source": [
    "final = final.rename(columns = {\"article_id\": \"prediction\"})"
   ]
  },
  {
   "cell_type": "code",
   "execution_count": 109,
   "id": "9eea83a2",
   "metadata": {
    "execution": {
     "iopub.execute_input": "2022-03-27T12:56:56.368745Z",
     "iopub.status.busy": "2022-03-27T12:56:56.367778Z",
     "iopub.status.idle": "2022-03-27T12:56:56.376320Z",
     "shell.execute_reply": "2022-03-27T12:56:56.376775Z",
     "shell.execute_reply.started": "2022-03-27T12:48:07.896049Z"
    },
    "papermill": {
     "duration": 0.159925,
     "end_time": "2022-03-27T12:56:56.376942",
     "exception": false,
     "start_time": "2022-03-27T12:56:56.217017",
     "status": "completed"
    },
    "tags": []
   },
   "outputs": [
    {
     "data": {
      "text/html": [
       "<div>\n",
       "<style scoped>\n",
       "    .dataframe tbody tr th:only-of-type {\n",
       "        vertical-align: middle;\n",
       "    }\n",
       "\n",
       "    .dataframe tbody tr th {\n",
       "        vertical-align: top;\n",
       "    }\n",
       "\n",
       "    .dataframe thead th {\n",
       "        text-align: right;\n",
       "    }\n",
       "</style>\n",
       "<table border=\"1\" class=\"dataframe\">\n",
       "  <thead>\n",
       "    <tr style=\"text-align: right;\">\n",
       "      <th></th>\n",
       "      <th>customer_id</th>\n",
       "      <th>prediction</th>\n",
       "    </tr>\n",
       "  </thead>\n",
       "  <tbody>\n",
       "    <tr>\n",
       "      <th>0</th>\n",
       "      <td>-9223352921020755230</td>\n",
       "      <td>0673396002 0812167004 0849493006 0706016001 05...</td>\n",
       "    </tr>\n",
       "    <tr>\n",
       "      <th>1</th>\n",
       "      <td>-9223343869995384291</td>\n",
       "      <td>0908292002 0910601003 0865929007 0903926002 08...</td>\n",
       "    </tr>\n",
       "    <tr>\n",
       "      <th>2</th>\n",
       "      <td>-9223308614576639426</td>\n",
       "      <td>0750423005</td>\n",
       "    </tr>\n",
       "    <tr>\n",
       "      <th>3</th>\n",
       "      <td>-9223295149301589789</td>\n",
       "      <td>0826620001 0879294002</td>\n",
       "    </tr>\n",
       "    <tr>\n",
       "      <th>4</th>\n",
       "      <td>-9223293121067732640</td>\n",
       "      <td>0715624001 0456163060 0814641002 0740922001 07...</td>\n",
       "    </tr>\n",
       "    <tr>\n",
       "      <th>...</th>\n",
       "      <td>...</td>\n",
       "      <td>...</td>\n",
       "    </tr>\n",
       "    <tr>\n",
       "      <th>1060490</th>\n",
       "      <td>9223220614886706077</td>\n",
       "      <td>0827824001</td>\n",
       "    </tr>\n",
       "    <tr>\n",
       "      <th>1060491</th>\n",
       "      <td>9223301031927667525</td>\n",
       "      <td>0719957006 0717490017</td>\n",
       "    </tr>\n",
       "    <tr>\n",
       "      <th>1060492</th>\n",
       "      <td>9223333063893176977</td>\n",
       "      <td>0658030020</td>\n",
       "    </tr>\n",
       "    <tr>\n",
       "      <th>1060493</th>\n",
       "      <td>9223357421094039679</td>\n",
       "      <td>0747984002 0747984001</td>\n",
       "    </tr>\n",
       "    <tr>\n",
       "      <th>1060494</th>\n",
       "      <td>9223370729206611574</td>\n",
       "      <td>0781758003</td>\n",
       "    </tr>\n",
       "  </tbody>\n",
       "</table>\n",
       "<p>1060495 rows × 2 columns</p>\n",
       "</div>"
      ],
      "text/plain": [
       "                 customer_id  \\\n",
       "0       -9223352921020755230   \n",
       "1       -9223343869995384291   \n",
       "2       -9223308614576639426   \n",
       "3       -9223295149301589789   \n",
       "4       -9223293121067732640   \n",
       "...                      ...   \n",
       "1060490  9223220614886706077   \n",
       "1060491  9223301031927667525   \n",
       "1060492  9223333063893176977   \n",
       "1060493  9223357421094039679   \n",
       "1060494  9223370729206611574   \n",
       "\n",
       "                                                prediction  \n",
       "0        0673396002 0812167004 0849493006 0706016001 05...  \n",
       "1        0908292002 0910601003 0865929007 0903926002 08...  \n",
       "2                                               0750423005  \n",
       "3                                    0826620001 0879294002  \n",
       "4        0715624001 0456163060 0814641002 0740922001 07...  \n",
       "...                                                    ...  \n",
       "1060490                                         0827824001  \n",
       "1060491                              0719957006 0717490017  \n",
       "1060492                                         0658030020  \n",
       "1060493                              0747984002 0747984001  \n",
       "1060494                                         0781758003  \n",
       "\n",
       "[1060495 rows x 2 columns]"
      ]
     },
     "execution_count": 109,
     "metadata": {},
     "output_type": "execute_result"
    }
   ],
   "source": [
    "final"
   ]
  },
  {
   "cell_type": "code",
   "execution_count": 110,
   "id": "3c1b997a",
   "metadata": {
    "execution": {
     "iopub.execute_input": "2022-03-27T12:56:56.817938Z",
     "iopub.status.busy": "2022-03-27T12:56:56.817286Z",
     "iopub.status.idle": "2022-03-27T12:56:56.820208Z",
     "shell.execute_reply": "2022-03-27T12:56:56.820622Z",
     "shell.execute_reply.started": "2022-03-27T12:48:07.910254Z"
    },
    "papermill": {
     "duration": 0.298132,
     "end_time": "2022-03-27T12:56:56.820768",
     "exception": false,
     "start_time": "2022-03-27T12:56:56.522636",
     "status": "completed"
    },
    "tags": []
   },
   "outputs": [
    {
     "data": {
      "text/plain": [
       "126"
      ]
     },
     "execution_count": 110,
     "metadata": {},
     "output_type": "execute_result"
    }
   ],
   "source": [
    "gc.collect()"
   ]
  },
  {
   "cell_type": "code",
   "execution_count": 111,
   "id": "90b77ad2",
   "metadata": {
    "execution": {
     "iopub.execute_input": "2022-03-27T12:56:57.119924Z",
     "iopub.status.busy": "2022-03-27T12:56:57.119352Z",
     "iopub.status.idle": "2022-03-27T12:56:57.925126Z",
     "shell.execute_reply": "2022-03-27T12:56:57.924211Z",
     "shell.execute_reply.started": "2022-03-27T12:48:08.058730Z"
    },
    "papermill": {
     "duration": 0.960416,
     "end_time": "2022-03-27T12:56:57.925271",
     "exception": false,
     "start_time": "2022-03-27T12:56:56.964855",
     "status": "completed"
    },
    "tags": []
   },
   "outputs": [],
   "source": [
    "if Last_date == \"2020-09-22\":\n",
    "    sub  = cudf.read_csv('../input/h-and-m-personalized-fashion-recommendations/sample_submission.csv',\n",
    "                                usecols= ['customer_id'], \n",
    "                                dtype={'customer_id': 'string'})\n",
    "\n",
    "    sub['customer_id2'] = sub['customer_id'].str[-16:].str.hex_to_int().astype('int64')\n",
    "\n",
    "    sub = sub.to_pandas().merge(final, left_on = 'customer_id2', right_on = 'customer_id', how = 'left',\n",
    "                   suffixes = ('', '_ignored'))\n",
    "else:\n",
    "    sub  = cudf.read_csv('../input/h-and-m-personalized-fashion-recommendations/sample_submission.csv',\n",
    "                                usecols= ['customer_id'], \n",
    "                                dtype={'customer_id': 'string'})\n",
    "\n",
    "    sub['customer_id'] = sub['customer_id'].str[-16:].str.hex_to_int().astype('int64')\n",
    "\n",
    "    sub = sub.to_pandas().merge(final, left_on = 'customer_id', right_on = 'customer_id', how = 'left',\n",
    "                   suffixes = ('', '_ignored'))\n",
    "    \n",
    "\n",
    "#sub = sub.to_pandas()\n",
    "\n",
    "\n",
    "#final = sub.groupby([\"customer_id\"])[\"article_id\"].agg(lambda x: \" \".join(x + [general_pred_str]).strip()[:131])\n",
    "\n",
    "# sub['prediction'] = sub['prediction'].fillna(general_pred_str)\n",
    "# sub['prediction'] = sub['prediction'] + ' ' +  general_pred_str\n",
    "# sub['prediction'] = sub['prediction'].str.strip()\n",
    "# sub['prediction'] = sub['prediction'].str[:131]\n",
    "# sub = sub[['customer_id', 'prediction']]\n",
    "# sub.to_csv(f'submission.csv',index=False)\n"
   ]
  },
  {
   "cell_type": "code",
   "execution_count": 112,
   "id": "bccf2fce",
   "metadata": {
    "execution": {
     "iopub.execute_input": "2022-03-27T12:56:58.418196Z",
     "iopub.status.busy": "2022-03-27T12:56:58.417599Z",
     "iopub.status.idle": "2022-03-27T12:56:58.425867Z",
     "shell.execute_reply": "2022-03-27T12:56:58.426289Z",
     "shell.execute_reply.started": "2022-03-27T12:48:08.970621Z"
    },
    "papermill": {
     "duration": 0.35698,
     "end_time": "2022-03-27T12:56:58.426443",
     "exception": false,
     "start_time": "2022-03-27T12:56:58.069463",
     "status": "completed"
    },
    "tags": []
   },
   "outputs": [
    {
     "data": {
      "text/plain": [
       "311485"
      ]
     },
     "execution_count": 112,
     "metadata": {},
     "output_type": "execute_result"
    }
   ],
   "source": [
    "sub[\"prediction\"].isna().sum()"
   ]
  },
  {
   "cell_type": "code",
   "execution_count": 113,
   "id": "7a127447",
   "metadata": {
    "execution": {
     "iopub.execute_input": "2022-03-27T12:56:58.718983Z",
     "iopub.status.busy": "2022-03-27T12:56:58.718187Z",
     "iopub.status.idle": "2022-03-27T12:56:58.720897Z",
     "shell.execute_reply": "2022-03-27T12:56:58.721309Z",
     "shell.execute_reply.started": "2022-03-27T12:48:09.179514Z"
    },
    "papermill": {
     "duration": 0.151567,
     "end_time": "2022-03-27T12:56:58.721443",
     "exception": false,
     "start_time": "2022-03-27T12:56:58.569876",
     "status": "completed"
    },
    "tags": []
   },
   "outputs": [
    {
     "data": {
      "text/plain": [
       "'0909370001 0865799006 0918522001 0924243001 0448509014 0751471001 0809238001 0918292001 0762846027 0809238005 0673677002 0923758001'"
      ]
     },
     "execution_count": 113,
     "metadata": {},
     "output_type": "execute_result"
    }
   ],
   "source": [
    "general_pred_str"
   ]
  },
  {
   "cell_type": "code",
   "execution_count": 114,
   "id": "0ad8e3d0",
   "metadata": {
    "execution": {
     "iopub.execute_input": "2022-03-27T12:56:59.022353Z",
     "iopub.status.busy": "2022-03-27T12:56:59.021476Z",
     "iopub.status.idle": "2022-03-27T12:56:59.187270Z",
     "shell.execute_reply": "2022-03-27T12:56:59.186736Z",
     "shell.execute_reply.started": "2022-03-27T12:48:09.187301Z"
    },
    "papermill": {
     "duration": 0.323945,
     "end_time": "2022-03-27T12:56:59.187426",
     "exception": false,
     "start_time": "2022-03-27T12:56:58.863481",
     "status": "completed"
    },
    "tags": []
   },
   "outputs": [],
   "source": [
    "sub_id  = cudf.read_csv('../input/h-and-m-personalized-fashion-recommendations/sample_submission.csv',\n",
    "                                usecols= ['customer_id'], \n",
    "                                dtype={'customer_id': 'string'})\n",
    "cid = cudf.DataFrame(sub_id['customer_id'].str[-16:].str.hex_to_int().astype('int64'))"
   ]
  },
  {
   "cell_type": "code",
   "execution_count": 115,
   "id": "d70d09dc",
   "metadata": {
    "execution": {
     "iopub.execute_input": "2022-03-27T12:56:59.485041Z",
     "iopub.status.busy": "2022-03-27T12:56:59.484124Z",
     "iopub.status.idle": "2022-03-27T12:56:59.485901Z",
     "shell.execute_reply": "2022-03-27T12:56:59.486416Z",
     "shell.execute_reply.started": "2022-03-27T12:48:09.354144Z"
    },
    "papermill": {
     "duration": 0.152815,
     "end_time": "2022-03-27T12:56:59.486558",
     "exception": false,
     "start_time": "2022-03-27T12:56:59.333743",
     "status": "completed"
    },
    "tags": []
   },
   "outputs": [],
   "source": [
    "cid[\"customer_id\"] = cid[\"customer_id\"].astype(\"int64\")"
   ]
  },
  {
   "cell_type": "code",
   "execution_count": 116,
   "id": "74aba02c",
   "metadata": {
    "execution": {
     "iopub.execute_input": "2022-03-27T12:56:59.844139Z",
     "iopub.status.busy": "2022-03-27T12:56:59.843164Z",
     "iopub.status.idle": "2022-03-27T12:57:01.972849Z",
     "shell.execute_reply": "2022-03-27T12:57:01.972319Z",
     "shell.execute_reply.started": "2022-03-27T12:48:09.360884Z"
    },
    "papermill": {
     "duration": 2.283311,
     "end_time": "2022-03-27T12:57:01.973005",
     "exception": false,
     "start_time": "2022-03-27T12:56:59.689694",
     "status": "completed"
    },
    "tags": []
   },
   "outputs": [],
   "source": [
    "def iter_to_str(iterable):\n",
    "    return \" \".join(map(lambda x: str(0) + str(x), iterable))\n",
    "real = val.to_pandas().groupby('customer_id')[\"article_id\"].apply(iter_to_str).reset_index()"
   ]
  },
  {
   "cell_type": "code",
   "execution_count": 117,
   "id": "5d81676b",
   "metadata": {
    "execution": {
     "iopub.execute_input": "2022-03-27T12:57:02.289852Z",
     "iopub.status.busy": "2022-03-27T12:57:02.288808Z",
     "iopub.status.idle": "2022-03-27T12:57:02.662238Z",
     "shell.execute_reply": "2022-03-27T12:57:02.661338Z",
     "shell.execute_reply.started": "2022-03-27T12:48:10.665361Z"
    },
    "papermill": {
     "duration": 0.535454,
     "end_time": "2022-03-27T12:57:02.662382",
     "exception": false,
     "start_time": "2022-03-27T12:57:02.126928",
     "status": "completed"
    },
    "tags": []
   },
   "outputs": [],
   "source": [
    "real = real.merge(cid.to_pandas(), on='customer_id', how='inner')\n",
    "real.article_id = real.article_id.apply(lambda s: [] if pd.isna(s) else s.split())"
   ]
  },
  {
   "cell_type": "code",
   "execution_count": 118,
   "id": "8406b7ff",
   "metadata": {
    "execution": {
     "iopub.execute_input": "2022-03-27T12:57:02.988854Z",
     "iopub.status.busy": "2022-03-27T12:57:02.988117Z",
     "iopub.status.idle": "2022-03-27T12:57:02.994861Z",
     "shell.execute_reply": "2022-03-27T12:57:02.994023Z",
     "shell.execute_reply.started": "2022-03-27T12:48:11.022103Z"
    },
    "papermill": {
     "duration": 0.176506,
     "end_time": "2022-03-27T12:57:02.995014",
     "exception": false,
     "start_time": "2022-03-27T12:57:02.818508",
     "status": "completed"
    },
    "tags": []
   },
   "outputs": [
    {
     "data": {
      "text/html": [
       "<div>\n",
       "<style scoped>\n",
       "    .dataframe tbody tr th:only-of-type {\n",
       "        vertical-align: middle;\n",
       "    }\n",
       "\n",
       "    .dataframe tbody tr th {\n",
       "        vertical-align: top;\n",
       "    }\n",
       "\n",
       "    .dataframe thead th {\n",
       "        text-align: right;\n",
       "    }\n",
       "</style>\n",
       "<table border=\"1\" class=\"dataframe\">\n",
       "  <thead>\n",
       "    <tr style=\"text-align: right;\">\n",
       "      <th></th>\n",
       "      <th>customer_id</th>\n",
       "      <th>article_id</th>\n",
       "    </tr>\n",
       "  </thead>\n",
       "  <tbody>\n",
       "    <tr>\n",
       "      <th>0</th>\n",
       "      <td>-9223100958908512198</td>\n",
       "      <td>[0785034009, 0673677027, 0673677024]</td>\n",
       "    </tr>\n",
       "    <tr>\n",
       "      <th>1</th>\n",
       "      <td>-9223002534477110135</td>\n",
       "      <td>[0793699001]</td>\n",
       "    </tr>\n",
       "    <tr>\n",
       "      <th>2</th>\n",
       "      <td>-9222810895170663723</td>\n",
       "      <td>[0892309001, 0903306004]</td>\n",
       "    </tr>\n",
       "    <tr>\n",
       "      <th>3</th>\n",
       "      <td>-9221924794303263774</td>\n",
       "      <td>[0888343003, 0892857002, 0708138013]</td>\n",
       "    </tr>\n",
       "    <tr>\n",
       "      <th>4</th>\n",
       "      <td>-9221811157628158522</td>\n",
       "      <td>[0891663002]</td>\n",
       "    </tr>\n",
       "    <tr>\n",
       "      <th>...</th>\n",
       "      <td>...</td>\n",
       "      <td>...</td>\n",
       "    </tr>\n",
       "    <tr>\n",
       "      <th>68979</th>\n",
       "      <td>9221607025486275188</td>\n",
       "      <td>[0751994003, 0699755081, 0699755071]</td>\n",
       "    </tr>\n",
       "    <tr>\n",
       "      <th>68980</th>\n",
       "      <td>9221813808370389952</td>\n",
       "      <td>[0869331006, 0562245099, 0865929002]</td>\n",
       "    </tr>\n",
       "    <tr>\n",
       "      <th>68981</th>\n",
       "      <td>9222310594107555341</td>\n",
       "      <td>[0884319001, 0884319003]</td>\n",
       "    </tr>\n",
       "    <tr>\n",
       "      <th>68982</th>\n",
       "      <td>9223099843213569889</td>\n",
       "      <td>[0903924002]</td>\n",
       "    </tr>\n",
       "    <tr>\n",
       "      <th>68983</th>\n",
       "      <td>9223141695752178477</td>\n",
       "      <td>[0914441003]</td>\n",
       "    </tr>\n",
       "  </tbody>\n",
       "</table>\n",
       "<p>68984 rows × 2 columns</p>\n",
       "</div>"
      ],
      "text/plain": [
       "               customer_id                            article_id\n",
       "0     -9223100958908512198  [0785034009, 0673677027, 0673677024]\n",
       "1     -9223002534477110135                          [0793699001]\n",
       "2     -9222810895170663723              [0892309001, 0903306004]\n",
       "3     -9221924794303263774  [0888343003, 0892857002, 0708138013]\n",
       "4     -9221811157628158522                          [0891663002]\n",
       "...                    ...                                   ...\n",
       "68979  9221607025486275188  [0751994003, 0699755081, 0699755071]\n",
       "68980  9221813808370389952  [0869331006, 0562245099, 0865929002]\n",
       "68981  9222310594107555341              [0884319001, 0884319003]\n",
       "68982  9223099843213569889                          [0903924002]\n",
       "68983  9223141695752178477                          [0914441003]\n",
       "\n",
       "[68984 rows x 2 columns]"
      ]
     },
     "execution_count": 118,
     "metadata": {},
     "output_type": "execute_result"
    }
   ],
   "source": [
    "real"
   ]
  },
  {
   "cell_type": "code",
   "execution_count": 119,
   "id": "5eee7630",
   "metadata": {
    "execution": {
     "iopub.execute_input": "2022-03-27T12:57:03.534534Z",
     "iopub.status.busy": "2022-03-27T12:57:03.533860Z",
     "iopub.status.idle": "2022-03-27T12:57:05.603673Z",
     "shell.execute_reply": "2022-03-27T12:57:05.602725Z",
     "shell.execute_reply.started": "2022-03-27T12:48:11.037819Z"
    },
    "papermill": {
     "duration": 2.452231,
     "end_time": "2022-03-27T12:57:05.603833",
     "exception": false,
     "start_time": "2022-03-27T12:57:03.151602",
     "status": "completed"
    },
    "tags": []
   },
   "outputs": [],
   "source": [
    "sub[\"prediction\"] = sub[\"prediction\"].fillna(general_pred_str)\n",
    "sub['prediction'] = sub['prediction'] + ' ' +  general_pred_str\n",
    "sub['prediction'] = sub['prediction'].str[:131]"
   ]
  },
  {
   "cell_type": "code",
   "execution_count": 120,
   "id": "2d6b5c32",
   "metadata": {
    "execution": {
     "iopub.execute_input": "2022-03-27T12:57:05.908301Z",
     "iopub.status.busy": "2022-03-27T12:57:05.907610Z",
     "iopub.status.idle": "2022-03-27T12:57:05.910848Z",
     "shell.execute_reply": "2022-03-27T12:57:05.911294Z",
     "shell.execute_reply.started": "2022-03-27T12:48:13.127028Z"
    },
    "papermill": {
     "duration": 0.162426,
     "end_time": "2022-03-27T12:57:05.911456",
     "exception": false,
     "start_time": "2022-03-27T12:57:05.749030",
     "status": "completed"
    },
    "tags": []
   },
   "outputs": [
    {
     "data": {
      "text/html": [
       "<div>\n",
       "<style scoped>\n",
       "    .dataframe tbody tr th:only-of-type {\n",
       "        vertical-align: middle;\n",
       "    }\n",
       "\n",
       "    .dataframe tbody tr th {\n",
       "        vertical-align: top;\n",
       "    }\n",
       "\n",
       "    .dataframe thead th {\n",
       "        text-align: right;\n",
       "    }\n",
       "</style>\n",
       "<table border=\"1\" class=\"dataframe\">\n",
       "  <thead>\n",
       "    <tr style=\"text-align: right;\">\n",
       "      <th></th>\n",
       "      <th>customer_id</th>\n",
       "      <th>article_id</th>\n",
       "    </tr>\n",
       "  </thead>\n",
       "  <tbody>\n",
       "    <tr>\n",
       "      <th>0</th>\n",
       "      <td>-9223100958908512198</td>\n",
       "      <td>[0785034009, 0673677027, 0673677024]</td>\n",
       "    </tr>\n",
       "    <tr>\n",
       "      <th>1</th>\n",
       "      <td>-9223002534477110135</td>\n",
       "      <td>[0793699001]</td>\n",
       "    </tr>\n",
       "    <tr>\n",
       "      <th>2</th>\n",
       "      <td>-9222810895170663723</td>\n",
       "      <td>[0892309001, 0903306004]</td>\n",
       "    </tr>\n",
       "    <tr>\n",
       "      <th>3</th>\n",
       "      <td>-9221924794303263774</td>\n",
       "      <td>[0888343003, 0892857002, 0708138013]</td>\n",
       "    </tr>\n",
       "    <tr>\n",
       "      <th>4</th>\n",
       "      <td>-9221811157628158522</td>\n",
       "      <td>[0891663002]</td>\n",
       "    </tr>\n",
       "    <tr>\n",
       "      <th>...</th>\n",
       "      <td>...</td>\n",
       "      <td>...</td>\n",
       "    </tr>\n",
       "    <tr>\n",
       "      <th>68979</th>\n",
       "      <td>9221607025486275188</td>\n",
       "      <td>[0751994003, 0699755081, 0699755071]</td>\n",
       "    </tr>\n",
       "    <tr>\n",
       "      <th>68980</th>\n",
       "      <td>9221813808370389952</td>\n",
       "      <td>[0869331006, 0562245099, 0865929002]</td>\n",
       "    </tr>\n",
       "    <tr>\n",
       "      <th>68981</th>\n",
       "      <td>9222310594107555341</td>\n",
       "      <td>[0884319001, 0884319003]</td>\n",
       "    </tr>\n",
       "    <tr>\n",
       "      <th>68982</th>\n",
       "      <td>9223099843213569889</td>\n",
       "      <td>[0903924002]</td>\n",
       "    </tr>\n",
       "    <tr>\n",
       "      <th>68983</th>\n",
       "      <td>9223141695752178477</td>\n",
       "      <td>[0914441003]</td>\n",
       "    </tr>\n",
       "  </tbody>\n",
       "</table>\n",
       "<p>68984 rows × 2 columns</p>\n",
       "</div>"
      ],
      "text/plain": [
       "               customer_id                            article_id\n",
       "0     -9223100958908512198  [0785034009, 0673677027, 0673677024]\n",
       "1     -9223002534477110135                          [0793699001]\n",
       "2     -9222810895170663723              [0892309001, 0903306004]\n",
       "3     -9221924794303263774  [0888343003, 0892857002, 0708138013]\n",
       "4     -9221811157628158522                          [0891663002]\n",
       "...                    ...                                   ...\n",
       "68979  9221607025486275188  [0751994003, 0699755081, 0699755071]\n",
       "68980  9221813808370389952  [0869331006, 0562245099, 0865929002]\n",
       "68981  9222310594107555341              [0884319001, 0884319003]\n",
       "68982  9223099843213569889                          [0903924002]\n",
       "68983  9223141695752178477                          [0914441003]\n",
       "\n",
       "[68984 rows x 2 columns]"
      ]
     },
     "execution_count": 120,
     "metadata": {},
     "output_type": "execute_result"
    }
   ],
   "source": [
    "real"
   ]
  },
  {
   "cell_type": "code",
   "execution_count": 121,
   "id": "2d1f7272",
   "metadata": {
    "execution": {
     "iopub.execute_input": "2022-03-27T12:57:06.211873Z",
     "iopub.status.busy": "2022-03-27T12:57:06.210942Z",
     "iopub.status.idle": "2022-03-27T12:57:06.213420Z",
     "shell.execute_reply": "2022-03-27T12:57:06.212877Z",
     "shell.execute_reply.started": "2022-03-27T12:48:13.142122Z"
    },
    "papermill": {
     "duration": 0.15239,
     "end_time": "2022-03-27T12:57:06.213533",
     "exception": false,
     "start_time": "2022-03-27T12:57:06.061143",
     "status": "completed"
    },
    "tags": []
   },
   "outputs": [],
   "source": [
    "#sub[:10000].groupby([\"customer_id\"])[\"article_id\"].agg(lambda x: \" \".join(x).strip()[:131])"
   ]
  },
  {
   "cell_type": "code",
   "execution_count": 122,
   "id": "be9b6f50",
   "metadata": {
    "execution": {
     "iopub.execute_input": "2022-03-27T12:57:06.514321Z",
     "iopub.status.busy": "2022-03-27T12:57:06.513459Z",
     "iopub.status.idle": "2022-03-27T12:57:06.515880Z",
     "shell.execute_reply": "2022-03-27T12:57:06.515479Z",
     "shell.execute_reply.started": "2022-03-27T12:48:13.152159Z"
    },
    "papermill": {
     "duration": 0.153092,
     "end_time": "2022-03-27T12:57:06.516006",
     "exception": false,
     "start_time": "2022-03-27T12:57:06.362914",
     "status": "completed"
    },
    "tags": []
   },
   "outputs": [],
   "source": [
    "#final"
   ]
  },
  {
   "cell_type": "markdown",
   "id": "e217c160",
   "metadata": {
    "papermill": {
     "duration": 0.144673,
     "end_time": "2022-03-27T12:57:06.807612",
     "exception": false,
     "start_time": "2022-03-27T12:57:06.662939",
     "status": "completed"
    },
    "tags": []
   },
   "source": [
    "## 验证集评估"
   ]
  },
  {
   "cell_type": "code",
   "execution_count": 123,
   "id": "5a7b1183",
   "metadata": {
    "execution": {
     "iopub.execute_input": "2022-03-27T12:57:07.247751Z",
     "iopub.status.busy": "2022-03-27T12:57:07.247004Z",
     "iopub.status.idle": "2022-03-27T12:57:07.250122Z",
     "shell.execute_reply": "2022-03-27T12:57:07.250657Z",
     "shell.execute_reply.started": "2022-03-27T12:48:13.160965Z"
    },
    "papermill": {
     "duration": 0.298974,
     "end_time": "2022-03-27T12:57:07.250822",
     "exception": false,
     "start_time": "2022-03-27T12:57:06.951848",
     "status": "completed"
    },
    "tags": []
   },
   "outputs": [
    {
     "data": {
      "text/plain": [
       "142"
      ]
     },
     "execution_count": 123,
     "metadata": {},
     "output_type": "execute_result"
    }
   ],
   "source": [
    "gc.collect()"
   ]
  },
  {
   "cell_type": "code",
   "execution_count": 124,
   "id": "a427ca99",
   "metadata": {
    "execution": {
     "iopub.execute_input": "2022-03-27T12:57:07.565736Z",
     "iopub.status.busy": "2022-03-27T12:57:07.564996Z",
     "iopub.status.idle": "2022-03-27T12:57:07.625697Z",
     "shell.execute_reply": "2022-03-27T12:57:07.624817Z",
     "shell.execute_reply.started": "2022-03-27T12:48:13.322258Z"
    },
    "papermill": {
     "duration": 0.229903,
     "end_time": "2022-03-27T12:57:07.625838",
     "exception": false,
     "start_time": "2022-03-27T12:57:07.395935",
     "status": "completed"
    },
    "tags": []
   },
   "outputs": [],
   "source": [
    "import numpy as np, pandas as pd, datetime as dt\n",
    "import matplotlib.pyplot as plt; plt.style.use('ggplot')\n",
    "import seaborn as sns\n",
    "from collections import defaultdict\n",
    "\n",
    "def iter_to_str(iterable):\n",
    "    return \" \".join(map(lambda x: str(0) + str(x), iterable))\n",
    "\n",
    "def apk(actual, predicted, k=12):\n",
    "    if len(predicted) > k:\n",
    "        predicted = predicted[:k]\n",
    "    score, nhits = 0.0, 0.0\n",
    "    for i, p in enumerate(predicted):\n",
    "        if p in actual and p not in predicted[:i]:\n",
    "            nhits += 1.0\n",
    "            score += nhits / (i + 1.0)\n",
    "    if not actual:\n",
    "        return 0.0\n",
    "    return score / min(len(actual), k)\n",
    "\n",
    "def mapk(actual, predicted, k=12, return_apks=False):\n",
    "    assert len(actual) == len(predicted)\n",
    "    apks = [apk(ac, pr, k) for ac, pr in zip(actual, predicted) if 0 < len(ac)]\n",
    "    if return_apks:\n",
    "        return apks\n",
    "    return np.mean(apks)\n",
    "\n",
    "def blend(dt, w=[], k=12):\n",
    "    if len(w) == 0:\n",
    "        w = [1] * (len(dt))\n",
    "    preds = []\n",
    "    for i in range(len(w)):\n",
    "        preds.append(dt[i].split())\n",
    "    res = {}\n",
    "    for i in range(len(preds)):\n",
    "        if w[i] < 0:\n",
    "            continue\n",
    "        for n, v in enumerate(preds[i]):\n",
    "            if v in res:\n",
    "                res[v] += (w[i] / (n + 1))\n",
    "            else:\n",
    "                res[v] = (w[i] / (n + 1))    \n",
    "    res = list(dict(sorted(res.items(), key=lambda item: -item[1])).keys())\n",
    "    return ' '.join(res[:k])\n",
    "\n",
    "def prune(pred, ok_set, k=12):\n",
    "    pred = pred.split()\n",
    "    post = []\n",
    "    for item in pred:\n",
    "        if int(item) in ok_set and not item in post:\n",
    "            post.append(item)\n",
    "    return \" \".join(post[:k])\n",
    "\n",
    "def validation(actual, predicted, groups, score=0, index=-1, ignore=False, figsize=(22, 6), name = \"\"):\n",
    "    # actual, predicted : list of lists\n",
    "    # group : pandas Series\n",
    "    # score : pandas DataFrame\n",
    "    if ignore: return\n",
    "    ap12 = mapk(actual, predicted, return_apks=True)\n",
    "    smap12 = round(np.mean(ap12), 6)\n",
    "    group_num = len(groups)\n",
    "    plt.figure(figsize=figsize)\n",
    "    plt.subplot(1, 1+group_num, 1); sns.histplot(data=ap12, log_scale=(0, 10), bins=20); plt.title(f\"MAP@12 : {smap12}\")\n",
    "    count = 2\n",
    "    for name, group in groups.items():\n",
    "        score = pd.DataFrame({g:[] for g in sorted(group.unique().tolist())})\n",
    "        if index == -1 : index = score.shape[0]\n",
    "        score.loc[index, \"All\"] = smap12\n",
    "        for g in group.unique():\n",
    "            map12 = round(mapk(actual[group == g], predicted[group == g]), 6)\n",
    "            score.loc[index, g] = map12\n",
    "        plt.subplot(1, 1+group_num, count)\n",
    "        score[[g for g in sorted(group.unique(), key = lambda x: x if type(x) is np.float64 else float(x.replace(\"(\", \"1\").split(\",\")[0]))[::-1]] + ['All']].loc[index].plot.barh()\n",
    "        plt.title(\"{} MAP@12\".format(name))\n",
    "        count += 1\n",
    "        vc = pd.Series(predicted).apply(len).value_counts()\n",
    "        score.loc[index, \"Fill\"] = round(1 - sum(vc[k] * (12 - k) / 12 for k in (set(range(12)) & set(vc.index))) / len(actual), 3) * 100\n",
    "        display(score)\n",
    "    return score"
   ]
  },
  {
   "cell_type": "code",
   "execution_count": 125,
   "id": "858fd4cb",
   "metadata": {
    "execution": {
     "iopub.execute_input": "2022-03-27T12:57:07.919914Z",
     "iopub.status.busy": "2022-03-27T12:57:07.919107Z",
     "iopub.status.idle": "2022-03-27T12:57:07.941072Z",
     "shell.execute_reply": "2022-03-27T12:57:07.940661Z",
     "shell.execute_reply.started": "2022-03-27T12:52:48.077711Z"
    },
    "papermill": {
     "duration": 0.170336,
     "end_time": "2022-03-27T12:57:07.941213",
     "exception": false,
     "start_time": "2022-03-27T12:57:07.770877",
     "status": "completed"
    },
    "tags": []
   },
   "outputs": [],
   "source": [
    "group = val.groupby('customer_id').sales_channel_id.mean().round().reset_index()\\\n",
    "    .merge(cid, on='customer_id', how='inner').rename(columns={'sales_channel_id':'group'})\n",
    "group = group.set_index('customer_id').loc[real.customer_id].reset_index()\n",
    "channal_group = group.group.fillna(3)"
   ]
  },
  {
   "cell_type": "code",
   "execution_count": 126,
   "id": "c48c119f",
   "metadata": {
    "execution": {
     "iopub.execute_input": "2022-03-27T12:57:08.270873Z",
     "iopub.status.busy": "2022-03-27T12:57:08.269821Z",
     "iopub.status.idle": "2022-03-27T12:57:14.640647Z",
     "shell.execute_reply": "2022-03-27T12:57:14.640117Z",
     "shell.execute_reply.started": "2022-03-27T12:52:48.433672Z"
    },
    "papermill": {
     "duration": 6.55247,
     "end_time": "2022-03-27T12:57:14.640772",
     "exception": false,
     "start_time": "2022-03-27T12:57:08.088302",
     "status": "completed"
    },
    "tags": []
   },
   "outputs": [],
   "source": [
    "customer[\"age_type\"] = pd.cut(customer.to_pandas()[\"age\"], bins = np.array([0, 21, 24, 27, 30, 35, 40, 45, 50, 60, 9999], dtype = \"int32\"), right = True).astype(\"string\")\n",
    "group = customer.rename(columns={'age_type':'group'}).set_index('customer_id').loc[real.customer_id].reset_index()\n",
    "age_group = group.group.fillna(\"-1\")"
   ]
  },
  {
   "cell_type": "code",
   "execution_count": 127,
   "id": "45da6ab5",
   "metadata": {
    "execution": {
     "iopub.execute_input": "2022-03-27T12:57:14.944639Z",
     "iopub.status.busy": "2022-03-27T12:57:14.943795Z",
     "iopub.status.idle": "2022-03-27T12:57:15.150012Z",
     "shell.execute_reply": "2022-03-27T12:57:15.149490Z",
     "shell.execute_reply.started": "2022-03-27T12:52:55.156144Z"
    },
    "papermill": {
     "duration": 0.362424,
     "end_time": "2022-03-27T12:57:15.150172",
     "exception": false,
     "start_time": "2022-03-27T12:57:14.787748",
     "status": "completed"
    },
    "tags": []
   },
   "outputs": [],
   "source": [
    "group = val.groupby('customer_id').sales_channel_id.count().round().reset_index()\\\n",
    "    .merge(cid, on='customer_id', how='inner').rename(columns={'sales_channel_id':'group'})\n",
    "group[\"group\"] = pd.cut(group[\"group\"].to_pandas(), bins = np.array([0, 1, 2, 3, 5, 10, 20, 9999], dtype = \"int32\"), right = True).astype(\"string\")\n",
    "group = group.set_index('customer_id').loc[real.customer_id].reset_index()\n",
    "count_group = group.group.fillna(0)"
   ]
  },
  {
   "cell_type": "code",
   "execution_count": 128,
   "id": "be9e36c3",
   "metadata": {
    "execution": {
     "iopub.execute_input": "2022-03-27T12:57:15.446796Z",
     "iopub.status.busy": "2022-03-27T12:57:15.445933Z",
     "iopub.status.idle": "2022-03-27T12:57:15.490579Z",
     "shell.execute_reply": "2022-03-27T12:57:15.491031Z",
     "shell.execute_reply.started": "2022-03-27T12:52:55.358220Z"
    },
    "papermill": {
     "duration": 0.195248,
     "end_time": "2022-03-27T12:57:15.491219",
     "exception": false,
     "start_time": "2022-03-27T12:57:15.295971",
     "status": "completed"
    },
    "tags": []
   },
   "outputs": [
    {
     "data": {
      "text/html": [
       "<div>\n",
       "<style scoped>\n",
       "    .dataframe tbody tr th:only-of-type {\n",
       "        vertical-align: middle;\n",
       "    }\n",
       "\n",
       "    .dataframe tbody tr th {\n",
       "        vertical-align: top;\n",
       "    }\n",
       "\n",
       "    .dataframe thead th {\n",
       "        text-align: right;\n",
       "    }\n",
       "</style>\n",
       "<table border=\"1\" class=\"dataframe\">\n",
       "  <thead>\n",
       "    <tr style=\"text-align: right;\">\n",
       "      <th></th>\n",
       "      <th>customer_id</th>\n",
       "    </tr>\n",
       "  </thead>\n",
       "  <tbody>\n",
       "    <tr>\n",
       "      <th>31718581</th>\n",
       "      <td>-9223100958908512198</td>\n",
       "    </tr>\n",
       "    <tr>\n",
       "      <th>31723712</th>\n",
       "      <td>-9223002534477110135</td>\n",
       "    </tr>\n",
       "    <tr>\n",
       "      <th>31668649</th>\n",
       "      <td>-9222810895170663723</td>\n",
       "    </tr>\n",
       "    <tr>\n",
       "      <th>31664044</th>\n",
       "      <td>-9221924794303263774</td>\n",
       "    </tr>\n",
       "    <tr>\n",
       "      <th>31782993</th>\n",
       "      <td>-9221811157628158522</td>\n",
       "    </tr>\n",
       "    <tr>\n",
       "      <th>...</th>\n",
       "      <td>...</td>\n",
       "    </tr>\n",
       "    <tr>\n",
       "      <th>31575924</th>\n",
       "      <td>9221607025486275188</td>\n",
       "    </tr>\n",
       "    <tr>\n",
       "      <th>31692865</th>\n",
       "      <td>9221813808370389952</td>\n",
       "    </tr>\n",
       "    <tr>\n",
       "      <th>31681512</th>\n",
       "      <td>9222310594107555341</td>\n",
       "    </tr>\n",
       "    <tr>\n",
       "      <th>31712352</th>\n",
       "      <td>9223099843213569889</td>\n",
       "    </tr>\n",
       "    <tr>\n",
       "      <th>31622943</th>\n",
       "      <td>9223141695752178477</td>\n",
       "    </tr>\n",
       "  </tbody>\n",
       "</table>\n",
       "<p>68984 rows × 1 columns</p>\n",
       "</div>"
      ],
      "text/plain": [
       "                  customer_id\n",
       "31718581 -9223100958908512198\n",
       "31723712 -9223002534477110135\n",
       "31668649 -9222810895170663723\n",
       "31664044 -9221924794303263774\n",
       "31782993 -9221811157628158522\n",
       "...                       ...\n",
       "31575924  9221607025486275188\n",
       "31692865  9221813808370389952\n",
       "31681512  9222310594107555341\n",
       "31712352  9223099843213569889\n",
       "31622943  9223141695752178477\n",
       "\n",
       "[68984 rows x 1 columns]"
      ]
     },
     "execution_count": 128,
     "metadata": {},
     "output_type": "execute_result"
    }
   ],
   "source": [
    "val[['customer_id']].drop_duplicates()"
   ]
  },
  {
   "cell_type": "code",
   "execution_count": 129,
   "id": "42549673",
   "metadata": {
    "execution": {
     "iopub.execute_input": "2022-03-27T12:57:15.807053Z",
     "iopub.status.busy": "2022-03-27T12:57:15.806163Z",
     "iopub.status.idle": "2022-03-27T12:57:16.049959Z",
     "shell.execute_reply": "2022-03-27T12:57:16.049422Z",
     "shell.execute_reply.started": "2022-03-27T12:52:55.405826Z"
    },
    "papermill": {
     "duration": 0.406451,
     "end_time": "2022-03-27T12:57:16.050102",
     "exception": false,
     "start_time": "2022-03-27T12:57:15.643651",
     "status": "completed"
    },
    "tags": []
   },
   "outputs": [],
   "source": [
    "group = train.groupby('customer_id').sales_channel_id.count().round().reset_index()\\\n",
    "    .merge(val[['customer_id']].drop_duplicates(), on = \"customer_id\", how = \"right\")\\\n",
    "    .merge(cid, on='customer_id', how='inner').rename(columns={'sales_channel_id':'group'})\n",
    "group[\"group\"] = pd.cut(group[\"group\"].to_pandas(), bins = np.array([0, 5, 10, 20, 35, 50, 100], dtype = \"int32\"), right = True).astype(\"string\")\n",
    "group = group.set_index('customer_id').loc[real.customer_id].reset_index()\n",
    "his_count_group = group.group.fillna(0)"
   ]
  },
  {
   "cell_type": "code",
   "execution_count": 130,
   "id": "329e5f8f",
   "metadata": {
    "execution": {
     "iopub.execute_input": "2022-03-27T12:57:16.353428Z",
     "iopub.status.busy": "2022-03-27T12:57:16.352508Z",
     "iopub.status.idle": "2022-03-27T12:57:16.361626Z",
     "shell.execute_reply": "2022-03-27T12:57:16.362047Z",
     "shell.execute_reply.started": "2022-03-27T12:52:55.649514Z"
    },
    "papermill": {
     "duration": 0.16518,
     "end_time": "2022-03-27T12:57:16.362225",
     "exception": false,
     "start_time": "2022-03-27T12:57:16.197045",
     "status": "completed"
    },
    "tags": []
   },
   "outputs": [
    {
     "data": {
      "text/plain": [
       "0        (30.0, 35.0]\n",
       "1        (27.0, 30.0]\n",
       "2         (0.0, 21.0]\n",
       "3        (50.0, 60.0]\n",
       "4        (21.0, 24.0]\n",
       "             ...     \n",
       "68979    (40.0, 45.0]\n",
       "68980    (27.0, 30.0]\n",
       "68981    (30.0, 35.0]\n",
       "68982    (27.0, 30.0]\n",
       "68983     (0.0, 21.0]\n",
       "Name: group, Length: 68984, dtype: object"
      ]
     },
     "execution_count": 130,
     "metadata": {},
     "output_type": "execute_result"
    }
   ],
   "source": [
    "age_group"
   ]
  },
  {
   "cell_type": "code",
   "execution_count": 131,
   "id": "303c7ab0",
   "metadata": {
    "execution": {
     "iopub.execute_input": "2022-03-27T12:57:16.667996Z",
     "iopub.status.busy": "2022-03-27T12:57:16.667156Z",
     "iopub.status.idle": "2022-03-27T12:57:16.681771Z",
     "shell.execute_reply": "2022-03-27T12:57:16.682230Z",
     "shell.execute_reply.started": "2022-03-27T12:52:55.665756Z"
    },
    "papermill": {
     "duration": 0.169095,
     "end_time": "2022-03-27T12:57:16.682377",
     "exception": false,
     "start_time": "2022-03-27T12:57:16.513282",
     "status": "completed"
    },
    "tags": []
   },
   "outputs": [
    {
     "data": {
      "text/plain": [
       "2.0    40829\n",
       "1.0    28155\n",
       "Name: group, dtype: int32"
      ]
     },
     "execution_count": 131,
     "metadata": {},
     "output_type": "execute_result"
    }
   ],
   "source": [
    "channal_group.value_counts()"
   ]
  },
  {
   "cell_type": "code",
   "execution_count": 132,
   "id": "fc1fa94d",
   "metadata": {
    "execution": {
     "iopub.execute_input": "2022-03-27T12:57:16.988037Z",
     "iopub.status.busy": "2022-03-27T12:57:16.986554Z",
     "iopub.status.idle": "2022-03-27T12:57:17.144919Z",
     "shell.execute_reply": "2022-03-27T12:57:17.143909Z",
     "shell.execute_reply.started": "2022-03-27T12:52:55.685464Z"
    },
    "papermill": {
     "duration": 0.311025,
     "end_time": "2022-03-27T12:57:17.145057",
     "exception": false,
     "start_time": "2022-03-27T12:57:16.834032",
     "status": "completed"
    },
    "tags": []
   },
   "outputs": [],
   "source": [
    "sub = sub.set_index('customer_id').loc[real.customer_id].reset_index()"
   ]
  },
  {
   "cell_type": "code",
   "execution_count": 133,
   "id": "da01d720",
   "metadata": {
    "execution": {
     "iopub.execute_input": "2022-03-27T12:57:17.453842Z",
     "iopub.status.busy": "2022-03-27T12:57:17.453142Z",
     "iopub.status.idle": "2022-03-27T12:57:17.456329Z",
     "shell.execute_reply": "2022-03-27T12:57:17.456765Z",
     "shell.execute_reply.started": "2022-03-27T12:52:55.710971Z"
    },
    "papermill": {
     "duration": 0.162264,
     "end_time": "2022-03-27T12:57:17.456910",
     "exception": false,
     "start_time": "2022-03-27T12:57:17.294646",
     "status": "completed"
    },
    "tags": []
   },
   "outputs": [
    {
     "data": {
      "text/html": [
       "<div>\n",
       "<style scoped>\n",
       "    .dataframe tbody tr th:only-of-type {\n",
       "        vertical-align: middle;\n",
       "    }\n",
       "\n",
       "    .dataframe tbody tr th {\n",
       "        vertical-align: top;\n",
       "    }\n",
       "\n",
       "    .dataframe thead th {\n",
       "        text-align: right;\n",
       "    }\n",
       "</style>\n",
       "<table border=\"1\" class=\"dataframe\">\n",
       "  <thead>\n",
       "    <tr style=\"text-align: right;\">\n",
       "      <th></th>\n",
       "      <th>customer_id</th>\n",
       "      <th>prediction</th>\n",
       "    </tr>\n",
       "  </thead>\n",
       "  <tbody>\n",
       "    <tr>\n",
       "      <th>0</th>\n",
       "      <td>-9223100958908512198</td>\n",
       "      <td>0909911001 0909912001 0899976004 0924645001 09...</td>\n",
       "    </tr>\n",
       "    <tr>\n",
       "      <th>1</th>\n",
       "      <td>-9223002534477110135</td>\n",
       "      <td>0811907003 0799421001 0599580014 0909370001 08...</td>\n",
       "    </tr>\n",
       "    <tr>\n",
       "      <th>2</th>\n",
       "      <td>-9222810895170663723</td>\n",
       "      <td>0568601006 0759814022 0685816017 0685816001 06...</td>\n",
       "    </tr>\n",
       "    <tr>\n",
       "      <th>3</th>\n",
       "      <td>-9221924794303263774</td>\n",
       "      <td>0707269004 0707269003 0892412002 0780096002 04...</td>\n",
       "    </tr>\n",
       "    <tr>\n",
       "      <th>4</th>\n",
       "      <td>-9221811157628158522</td>\n",
       "      <td>0436083002 0711649002 0682509001 0909370001 08...</td>\n",
       "    </tr>\n",
       "    <tr>\n",
       "      <th>...</th>\n",
       "      <td>...</td>\n",
       "      <td>...</td>\n",
       "    </tr>\n",
       "    <tr>\n",
       "      <th>68979</th>\n",
       "      <td>9221607025486275188</td>\n",
       "      <td>0816586002 0804992002 0862693003 0864928002 06...</td>\n",
       "    </tr>\n",
       "    <tr>\n",
       "      <th>68980</th>\n",
       "      <td>9221813808370389952</td>\n",
       "      <td>0654590001 0714790020 0448509014 0749699002 06...</td>\n",
       "    </tr>\n",
       "    <tr>\n",
       "      <th>68981</th>\n",
       "      <td>9222310594107555341</td>\n",
       "      <td>0904416002 0863595002 0863595005 0863646003 06...</td>\n",
       "    </tr>\n",
       "    <tr>\n",
       "      <th>68982</th>\n",
       "      <td>9223099843213569889</td>\n",
       "      <td>0903773002 0776850001 0757909004 0827968004 08...</td>\n",
       "    </tr>\n",
       "    <tr>\n",
       "      <th>68983</th>\n",
       "      <td>9223141695752178477</td>\n",
       "      <td>0608776024 0632784001 0391750016 0573716012 06...</td>\n",
       "    </tr>\n",
       "  </tbody>\n",
       "</table>\n",
       "<p>68984 rows × 2 columns</p>\n",
       "</div>"
      ],
      "text/plain": [
       "               customer_id                                         prediction\n",
       "0     -9223100958908512198  0909911001 0909912001 0899976004 0924645001 09...\n",
       "1     -9223002534477110135  0811907003 0799421001 0599580014 0909370001 08...\n",
       "2     -9222810895170663723  0568601006 0759814022 0685816017 0685816001 06...\n",
       "3     -9221924794303263774  0707269004 0707269003 0892412002 0780096002 04...\n",
       "4     -9221811157628158522  0436083002 0711649002 0682509001 0909370001 08...\n",
       "...                    ...                                                ...\n",
       "68979  9221607025486275188  0816586002 0804992002 0862693003 0864928002 06...\n",
       "68980  9221813808370389952  0654590001 0714790020 0448509014 0749699002 06...\n",
       "68981  9222310594107555341  0904416002 0863595002 0863595005 0863646003 06...\n",
       "68982  9223099843213569889  0903773002 0776850001 0757909004 0827968004 08...\n",
       "68983  9223141695752178477  0608776024 0632784001 0391750016 0573716012 06...\n",
       "\n",
       "[68984 rows x 2 columns]"
      ]
     },
     "execution_count": 133,
     "metadata": {},
     "output_type": "execute_result"
    }
   ],
   "source": [
    "sub"
   ]
  },
  {
   "cell_type": "code",
   "execution_count": 134,
   "id": "09038601",
   "metadata": {
    "execution": {
     "iopub.execute_input": "2022-03-27T12:57:17.759833Z",
     "iopub.status.busy": "2022-03-27T12:57:17.758856Z",
     "iopub.status.idle": "2022-03-27T12:57:17.771930Z",
     "shell.execute_reply": "2022-03-27T12:57:17.772405Z",
     "shell.execute_reply.started": "2022-03-27T12:52:55.724359Z"
    },
    "papermill": {
     "duration": 0.167021,
     "end_time": "2022-03-27T12:57:17.772541",
     "exception": false,
     "start_time": "2022-03-27T12:57:17.605520",
     "status": "completed"
    },
    "tags": []
   },
   "outputs": [
    {
     "data": {
      "text/plain": [
       "0                17646\n",
       "(50.0, 100.0]    14603\n",
       "(20.0, 35.0]     10527\n",
       "(10.0, 20.0]      8439\n",
       "(35.0, 50.0]      7675\n",
       "(0.0, 5.0]        5210\n",
       "(5.0, 10.0]       4884\n",
       "Name: group, dtype: int32"
      ]
     },
     "execution_count": 134,
     "metadata": {},
     "output_type": "execute_result"
    }
   ],
   "source": [
    "his_count_group.value_counts()"
   ]
  },
  {
   "cell_type": "code",
   "execution_count": 135,
   "id": "79bdd396",
   "metadata": {
    "execution": {
     "iopub.execute_input": "2022-03-27T12:57:18.098337Z",
     "iopub.status.busy": "2022-03-27T12:57:18.097435Z",
     "iopub.status.idle": "2022-03-27T12:57:18.216746Z",
     "shell.execute_reply": "2022-03-27T12:57:18.217504Z",
     "shell.execute_reply.started": "2022-03-27T12:52:55.746005Z"
    },
    "papermill": {
     "duration": 0.296755,
     "end_time": "2022-03-27T12:57:18.217661",
     "exception": false,
     "start_time": "2022-03-27T12:57:17.920906",
     "status": "completed"
    },
    "tags": []
   },
   "outputs": [],
   "source": [
    "prediction =  sub[\"prediction\"].apply(lambda s: [] if pd.isna(s) else s.split())"
   ]
  },
  {
   "cell_type": "code",
   "execution_count": 136,
   "id": "676d6733",
   "metadata": {
    "execution": {
     "iopub.execute_input": "2022-03-27T12:57:18.518830Z",
     "iopub.status.busy": "2022-03-27T12:57:18.517940Z",
     "iopub.status.idle": "2022-03-27T12:57:18.529298Z",
     "shell.execute_reply": "2022-03-27T12:57:18.528850Z",
     "shell.execute_reply.started": "2022-03-27T12:52:55.939851Z"
    },
    "papermill": {
     "duration": 0.162457,
     "end_time": "2022-03-27T12:57:18.529417",
     "exception": false,
     "start_time": "2022-03-27T12:57:18.366960",
     "status": "completed"
    },
    "tags": []
   },
   "outputs": [],
   "source": [
    "groups = {\"channal\":channal_group.to_pandas(),\n",
    "         \"age\":age_group.to_pandas(),\n",
    "         \"val_count\":count_group.to_pandas(),\n",
    "         \"train_count\": his_count_group.to_pandas()}"
   ]
  },
  {
   "cell_type": "code",
   "execution_count": 137,
   "id": "c9893f3f",
   "metadata": {
    "execution": {
     "iopub.execute_input": "2022-03-27T12:57:18.828770Z",
     "iopub.status.busy": "2022-03-27T12:57:18.827832Z",
     "iopub.status.idle": "2022-03-27T12:57:18.842747Z",
     "shell.execute_reply": "2022-03-27T12:57:18.843141Z",
     "shell.execute_reply.started": "2022-03-27T12:52:55.955275Z"
    },
    "papermill": {
     "duration": 0.167368,
     "end_time": "2022-03-27T12:57:18.843284",
     "exception": false,
     "start_time": "2022-03-27T12:57:18.675916",
     "status": "completed"
    },
    "tags": []
   },
   "outputs": [
    {
     "data": {
      "text/plain": [
       "(0, 1]        19994\n",
       "(1, 2]        16386\n",
       "(3, 5]        10928\n",
       "(2, 3]        10075\n",
       "(5, 10]        8668\n",
       "(10, 20]       2571\n",
       "(20, 9999]      362\n",
       "Name: group, dtype: int32"
      ]
     },
     "execution_count": 137,
     "metadata": {},
     "output_type": "execute_result"
    }
   ],
   "source": [
    "count_group.value_counts()"
   ]
  },
  {
   "cell_type": "code",
   "execution_count": 138,
   "id": "9aa45fc7",
   "metadata": {
    "execution": {
     "iopub.execute_input": "2022-03-27T12:57:19.144597Z",
     "iopub.status.busy": "2022-03-27T12:57:19.143688Z",
     "iopub.status.idle": "2022-03-27T12:57:19.146295Z",
     "shell.execute_reply": "2022-03-27T12:57:19.145792Z",
     "shell.execute_reply.started": "2022-03-27T12:52:55.975157Z"
    },
    "papermill": {
     "duration": 0.15477,
     "end_time": "2022-03-27T12:57:19.146430",
     "exception": false,
     "start_time": "2022-03-27T12:57:18.991660",
     "status": "completed"
    },
    "tags": []
   },
   "outputs": [],
   "source": [
    "#sorted(count_group.to_pandas().unique(), key = lambda x: float(x.replace(\"(\", \"1\").split(\",\")[0]))"
   ]
  },
  {
   "cell_type": "code",
   "execution_count": 139,
   "id": "26f6d993",
   "metadata": {
    "execution": {
     "iopub.execute_input": "2022-03-27T12:57:19.509777Z",
     "iopub.status.busy": "2022-03-27T12:57:19.494372Z",
     "iopub.status.idle": "2022-03-27T12:57:23.387662Z",
     "shell.execute_reply": "2022-03-27T12:57:23.387117Z"
    },
    "papermill": {
     "duration": 4.093891,
     "end_time": "2022-03-27T12:57:23.387793",
     "exception": false,
     "start_time": "2022-03-27T12:57:19.293902",
     "status": "completed"
    },
    "tags": []
   },
   "outputs": [
    {
     "data": {
      "text/html": [
       "<div>\n",
       "<style scoped>\n",
       "    .dataframe tbody tr th:only-of-type {\n",
       "        vertical-align: middle;\n",
       "    }\n",
       "\n",
       "    .dataframe tbody tr th {\n",
       "        vertical-align: top;\n",
       "    }\n",
       "\n",
       "    .dataframe thead th {\n",
       "        text-align: right;\n",
       "    }\n",
       "</style>\n",
       "<table border=\"1\" class=\"dataframe\">\n",
       "  <thead>\n",
       "    <tr style=\"text-align: right;\">\n",
       "      <th></th>\n",
       "      <th>1.0</th>\n",
       "      <th>2.0</th>\n",
       "      <th>All</th>\n",
       "      <th>Fill</th>\n",
       "    </tr>\n",
       "  </thead>\n",
       "  <tbody>\n",
       "    <tr>\n",
       "      <th>Last Purchase</th>\n",
       "      <td>0.015227</td>\n",
       "      <td>0.03043</td>\n",
       "      <td>0.024225</td>\n",
       "      <td>100.0</td>\n",
       "    </tr>\n",
       "  </tbody>\n",
       "</table>\n",
       "</div>"
      ],
      "text/plain": [
       "                    1.0      2.0       All   Fill\n",
       "Last Purchase  0.015227  0.03043  0.024225  100.0"
      ]
     },
     "metadata": {},
     "output_type": "display_data"
    },
    {
     "data": {
      "text/html": [
       "<div>\n",
       "<style scoped>\n",
       "    .dataframe tbody tr th:only-of-type {\n",
       "        vertical-align: middle;\n",
       "    }\n",
       "\n",
       "    .dataframe tbody tr th {\n",
       "        vertical-align: top;\n",
       "    }\n",
       "\n",
       "    .dataframe thead th {\n",
       "        text-align: right;\n",
       "    }\n",
       "</style>\n",
       "<table border=\"1\" class=\"dataframe\">\n",
       "  <thead>\n",
       "    <tr style=\"text-align: right;\">\n",
       "      <th></th>\n",
       "      <th>(0.0, 21.0]</th>\n",
       "      <th>(21.0, 24.0]</th>\n",
       "      <th>(24.0, 27.0]</th>\n",
       "      <th>(27.0, 30.0]</th>\n",
       "      <th>(30.0, 35.0]</th>\n",
       "      <th>(35.0, 40.0]</th>\n",
       "      <th>(40.0, 45.0]</th>\n",
       "      <th>(45.0, 50.0]</th>\n",
       "      <th>(50.0, 60.0]</th>\n",
       "      <th>(60.0, 9999.0]</th>\n",
       "      <th>-1</th>\n",
       "      <th>All</th>\n",
       "      <th>Fill</th>\n",
       "    </tr>\n",
       "  </thead>\n",
       "  <tbody>\n",
       "    <tr>\n",
       "      <th>Last Purchase</th>\n",
       "      <td>0.020414</td>\n",
       "      <td>0.02154</td>\n",
       "      <td>0.024251</td>\n",
       "      <td>0.024167</td>\n",
       "      <td>0.02523</td>\n",
       "      <td>0.02586</td>\n",
       "      <td>0.026926</td>\n",
       "      <td>0.024218</td>\n",
       "      <td>0.025602</td>\n",
       "      <td>0.030203</td>\n",
       "      <td>0.032385</td>\n",
       "      <td>0.024225</td>\n",
       "      <td>100.0</td>\n",
       "    </tr>\n",
       "  </tbody>\n",
       "</table>\n",
       "</div>"
      ],
      "text/plain": [
       "               (0.0, 21.0]  (21.0, 24.0]  (24.0, 27.0]  (27.0, 30.0]  \\\n",
       "Last Purchase     0.020414       0.02154      0.024251      0.024167   \n",
       "\n",
       "               (30.0, 35.0]  (35.0, 40.0]  (40.0, 45.0]  (45.0, 50.0]  \\\n",
       "Last Purchase       0.02523       0.02586      0.026926      0.024218   \n",
       "\n",
       "               (50.0, 60.0]  (60.0, 9999.0]        -1       All   Fill  \n",
       "Last Purchase      0.025602        0.030203  0.032385  0.024225  100.0  "
      ]
     },
     "metadata": {},
     "output_type": "display_data"
    },
    {
     "data": {
      "text/html": [
       "<div>\n",
       "<style scoped>\n",
       "    .dataframe tbody tr th:only-of-type {\n",
       "        vertical-align: middle;\n",
       "    }\n",
       "\n",
       "    .dataframe tbody tr th {\n",
       "        vertical-align: top;\n",
       "    }\n",
       "\n",
       "    .dataframe thead th {\n",
       "        text-align: right;\n",
       "    }\n",
       "</style>\n",
       "<table border=\"1\" class=\"dataframe\">\n",
       "  <thead>\n",
       "    <tr style=\"text-align: right;\">\n",
       "      <th></th>\n",
       "      <th>(0, 1]</th>\n",
       "      <th>(1, 2]</th>\n",
       "      <th>(10, 20]</th>\n",
       "      <th>(2, 3]</th>\n",
       "      <th>(20, 9999]</th>\n",
       "      <th>(3, 5]</th>\n",
       "      <th>(5, 10]</th>\n",
       "      <th>All</th>\n",
       "      <th>Fill</th>\n",
       "    </tr>\n",
       "  </thead>\n",
       "  <tbody>\n",
       "    <tr>\n",
       "      <th>Last Purchase</th>\n",
       "      <td>0.039688</td>\n",
       "      <td>0.023901</td>\n",
       "      <td>0.01174</td>\n",
       "      <td>0.018648</td>\n",
       "      <td>0.021273</td>\n",
       "      <td>0.014422</td>\n",
       "      <td>0.011839</td>\n",
       "      <td>0.024225</td>\n",
       "      <td>100.0</td>\n",
       "    </tr>\n",
       "  </tbody>\n",
       "</table>\n",
       "</div>"
      ],
      "text/plain": [
       "                 (0, 1]    (1, 2]  (10, 20]    (2, 3]  (20, 9999]    (3, 5]  \\\n",
       "Last Purchase  0.039688  0.023901   0.01174  0.018648    0.021273  0.014422   \n",
       "\n",
       "                (5, 10]       All   Fill  \n",
       "Last Purchase  0.011839  0.024225  100.0  "
      ]
     },
     "metadata": {},
     "output_type": "display_data"
    },
    {
     "data": {
      "text/html": [
       "<div>\n",
       "<style scoped>\n",
       "    .dataframe tbody tr th:only-of-type {\n",
       "        vertical-align: middle;\n",
       "    }\n",
       "\n",
       "    .dataframe tbody tr th {\n",
       "        vertical-align: top;\n",
       "    }\n",
       "\n",
       "    .dataframe thead th {\n",
       "        text-align: right;\n",
       "    }\n",
       "</style>\n",
       "<table border=\"1\" class=\"dataframe\">\n",
       "  <thead>\n",
       "    <tr style=\"text-align: right;\">\n",
       "      <th></th>\n",
       "      <th>(0.0, 5.0]</th>\n",
       "      <th>(10.0, 20.0]</th>\n",
       "      <th>(20.0, 35.0]</th>\n",
       "      <th>(35.0, 50.0]</th>\n",
       "      <th>(5.0, 10.0]</th>\n",
       "      <th>(50.0, 100.0]</th>\n",
       "      <th>0</th>\n",
       "      <th>All</th>\n",
       "      <th>Fill</th>\n",
       "    </tr>\n",
       "  </thead>\n",
       "  <tbody>\n",
       "    <tr>\n",
       "      <th>Last Purchase</th>\n",
       "      <td>0.030418</td>\n",
       "      <td>0.02497</td>\n",
       "      <td>0.023378</td>\n",
       "      <td>0.023204</td>\n",
       "      <td>0.027174</td>\n",
       "      <td>0.025574</td>\n",
       "      <td>0.021057</td>\n",
       "      <td>0.024225</td>\n",
       "      <td>100.0</td>\n",
       "    </tr>\n",
       "  </tbody>\n",
       "</table>\n",
       "</div>"
      ],
      "text/plain": [
       "               (0.0, 5.0]  (10.0, 20.0]  (20.0, 35.0]  (35.0, 50.0]  \\\n",
       "Last Purchase    0.030418       0.02497      0.023378      0.023204   \n",
       "\n",
       "               (5.0, 10.0]  (50.0, 100.0]         0       All   Fill  \n",
       "Last Purchase     0.027174       0.025574  0.021057  0.024225  100.0  "
      ]
     },
     "metadata": {},
     "output_type": "display_data"
    },
    {
     "data": {
      "image/png": "[encoded data removed]",
      "text/plain": [
       "<Figure size 1584x432 with 5 Axes>"
      ]
     },
     "metadata": {},
     "output_type": "display_data"
    }
   ],
   "source": [
    "score = validation(real.article_id, prediction, groups, index='Last Purchase', ignore=0)"
   ]
  },
  {
   "cell_type": "markdown",
   "id": "f3b0cdde",
   "metadata": {
    "papermill": {
     "duration": 0.170183,
     "end_time": "2022-03-27T12:57:23.725099",
     "exception": false,
     "start_time": "2022-03-27T12:57:23.554916",
     "status": "completed"
    },
    "tags": []
   },
   "source": [
    "# 生成测试集"
   ]
  },
  {
   "cell_type": "code",
   "execution_count": 140,
   "id": "a82f1374",
   "metadata": {
    "execution": {
     "iopub.execute_input": "2022-03-27T12:57:24.064670Z",
     "iopub.status.busy": "2022-03-27T12:57:24.063721Z",
     "iopub.status.idle": "2022-03-27T12:57:24.065678Z",
     "shell.execute_reply": "2022-03-27T12:57:24.066146Z"
    },
    "papermill": {
     "duration": 0.172546,
     "end_time": "2022-03-27T12:57:24.066303",
     "exception": false,
     "start_time": "2022-03-27T12:57:23.893757",
     "status": "completed"
    },
    "tags": []
   },
   "outputs": [],
   "source": [
    "import datetime"
   ]
  },
  {
   "cell_type": "code",
   "execution_count": 141,
   "id": "a5801da1",
   "metadata": {
    "execution": {
     "iopub.execute_input": "2022-03-27T12:57:24.408716Z",
     "iopub.status.busy": "2022-03-27T12:57:24.407623Z",
     "iopub.status.idle": "2022-03-27T12:57:24.409733Z",
     "shell.execute_reply": "2022-03-27T12:57:24.410202Z"
    },
    "papermill": {
     "duration": 0.179533,
     "end_time": "2022-03-27T12:57:24.410350",
     "exception": false,
     "start_time": "2022-03-27T12:57:24.230817",
     "status": "completed"
    },
    "tags": []
   },
   "outputs": [],
   "source": [
    "if Last_date == \"2020-09-22\":\n",
    "    sub[[\"customer_id\", \"prediction\"]].to_csv(\"sub_sz_{}.csv\".format(datetime.datetime.now().strftime('%Y-%m-%d %H:%M:%S')), index = False)"
   ]
  },
  {
   "cell_type": "code",
   "execution_count": null,
   "id": "8a0cfc21",
   "metadata": {
    "papermill": {
     "duration": 0.156992,
     "end_time": "2022-03-27T12:57:24.728713",
     "exception": false,
     "start_time": "2022-03-27T12:57:24.571721",
     "status": "completed"
    },
    "tags": []
   },
   "outputs": [],
   "source": []
  }
 ],
 "metadata": {
  "kernelspec": {
   "display_name": "Python 3",
   "language": "python",
   "name": "python3"
  },
  "language_info": {
   "codemirror_mode": {
    "name": "ipython",
    "version": 3
   },
   "file_extension": ".py",
   "mimetype": "text/x-python",
   "name": "python",
   "nbconvert_exporter": "python",
   "pygments_lexer": "ipython3",
   "version": "3.7.12"
  },
  "papermill": {
   "default_parameters": {},
   "duration": 256.83223,
   "end_time": "2022-03-27T12:57:26.898266",
   "environment_variables": {},
   "exception": null,
   "input_path": "__notebook__.ipynb",
   "output_path": "__notebook__.ipynb",
   "parameters": {},
   "start_time": "2022-03-27T12:53:10.066036",
   "version": "2.3.3"
  }
 },
 "nbformat": 4,
 "nbformat_minor": 5
}
